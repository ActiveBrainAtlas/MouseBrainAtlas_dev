{
 "cells": [
  {
   "cell_type": "code",
   "execution_count": 4,
   "metadata": {
    "collapsed": false
   },
   "outputs": [],
   "source": [
    "stack = 'MD603'\n",
    "list_fn = '/home/yuncong/CSHL_data_processed/' + stack + '_filename_map.txt'\n",
    "\n",
    "with open(list_fn, 'r') as f:\n",
    "    fns = [l.split()[0] for l in f.readlines()]\n",
    "    \n",
    "with open(list_fn, 'w') as f:\n",
    "    for i, fn in enumerate(fns):\n",
    "        f.write(fn + ' ' + str(i+1) + '\\n')"
   ]
  },
  {
   "cell_type": "code",
   "execution_count": null,
   "metadata": {
    "collapsed": true
   },
   "outputs": [],
   "source": []
  },
  {
   "cell_type": "code",
   "execution_count": 30,
   "metadata": {
    "collapsed": true
   },
   "outputs": [],
   "source": [
    "import numpy as np"
   ]
  },
  {
   "cell_type": "code",
   "execution_count": 43,
   "metadata": {
    "collapsed": true
   },
   "outputs": [],
   "source": [
    "def parameter_file_to_dict(filename):\n",
    "\td = {}\n",
    "\twith open(filename, 'r') as f:\n",
    "\t\tfor line in f.readlines():\n",
    "\t\t\tif line.startswith('('):\n",
    "\t\t\t\ttokens = line[1:-2].split(' ')\n",
    "\t\t\t\tkey = tokens[0]\n",
    "\t\t\t\tif len(tokens) > 2:\n",
    "\t\t\t\t\tvalue = []\n",
    "\t\t\t\t\tfor v in tokens[1:]:\n",
    "\t\t\t\t\t\ttry:\n",
    "\t\t\t\t\t\t\tvalue.append(float(v))\n",
    "\t\t\t\t\t\texcept ValueError:\n",
    "\t\t\t\t\t\t\tvalue.append(v)\n",
    "\t\t\t\telse:\n",
    "\t\t\t\t\tv = tokens[1]\n",
    "\t\t\t\t\ttry:\n",
    "\t\t\t\t\t\tvalue = (float(v))\n",
    "\t\t\t\t\texcept ValueError:\n",
    "\t\t\t\t\t\tvalue = v\n",
    "\t\t\t\td[key] = value\n",
    "\n",
    "\t\treturn d\n",
    "\n",
    "def parse_parameter_file(filepath):\n",
    "\n",
    "\td = parameter_file_to_dict(filepath)\n",
    "\n",
    "\trot_rad, x_mm, y_mm = d['TransformParameters']\n",
    "\tcenter = np.array(d['CenterOfRotationPoint']) / np.array(d['Spacing'])\n",
    "\t# center[1] = d['Size'][1] - center[1]\n",
    "\n",
    "\txshift = x_mm / d['Spacing'][0]\n",
    "\tyshift = y_mm / d['Spacing'][1]\n",
    "\n",
    "\tR = np.array([[np.cos(rot_rad), -np.sin(rot_rad)],\n",
    "\t              [np.sin(rot_rad), np.cos(rot_rad)]])\n",
    "\tshift = center + (xshift, yshift) - np.dot(R, center)\n",
    "\tT = np.vstack([np.column_stack([R, shift]), [0,0,1]])\n",
    "\n",
    "\treturn T"
   ]
  },
  {
   "cell_type": "code",
   "execution_count": null,
   "metadata": {
    "collapsed": true
   },
   "outputs": [],
   "source": []
  }
 ],
 "metadata": {
  "kernelspec": {
   "display_name": "Python 2",
   "language": "python",
   "name": "python2"
  },
  "language_info": {
   "codemirror_mode": {
    "name": "ipython",
    "version": 2
   },
   "file_extension": ".py",
   "mimetype": "text/x-python",
   "name": "python",
   "nbconvert_exporter": "python",
   "pygments_lexer": "ipython2",
   "version": "2.7.6"
  }
 },
 "nbformat": 4,
 "nbformat_minor": 0
}
