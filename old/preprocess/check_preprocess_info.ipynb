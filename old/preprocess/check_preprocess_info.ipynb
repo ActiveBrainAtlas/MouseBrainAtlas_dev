{
 "cells": [
  {
   "cell_type": "code",
   "execution_count": null,
   "metadata": {
    "collapsed": true
   },
   "outputs": [],
   "source": [
    "# If running this on Gordon, must make sure the info files are up-to-date."
   ]
  },
  {
   "cell_type": "code",
   "execution_count": 1,
   "metadata": {
    "collapsed": true
   },
   "outputs": [],
   "source": [
    "import cPickle as pickle"
   ]
  },
  {
   "cell_type": "code",
   "execution_count": 2,
   "metadata": {
    "collapsed": false,
    "scrolled": true
   },
   "outputs": [
    {
     "name": "stdout",
     "output_type": "stream",
     "text": [
      "\n",
      "MD585\n",
      "\n",
      "MD589\n",
      "missing_slides: ['N_13']\n",
      "\n",
      "MD590\n",
      "missing_slides: ['IHC_5', 'IHC_9', 'IHC_27', 'IHC_57', 'IHC_59', 'N_56']\n",
      "neglected_valid_sections: [('IHC_19', 1), ('IHC_24', 1), ('IHC_29', 3), ('IHC_30', 2), ('IHC_50', 1), ('IHC_55', 1), ('IHC_60', 1), ('IHC_7', 1), ('N_5', 1)]\n",
      "\n",
      "MD591\n",
      "neglected_valid_sections: [('N_19', 1), ('N_66', 1), ('N_68', 1), ('N_72', 1)]\n",
      "\n",
      "MD592\n",
      "\n",
      "MD593\n",
      "\n",
      "MD594\n",
      "missing_slides: ['N_52']\n",
      "\n",
      "MD595\n",
      "\n",
      "MD598\n",
      "neglected_valid_sections: [('IHC_17', 1), ('IHC_17', 2), ('IHC_17', 3), ('IHC_31', 1), ('IHC_31', 2), ('IHC_31', 3), ('IHC_44', 1)]\n",
      "\n",
      "MD599\n",
      "neglected_valid_sections: [('IHC_31', 2)]\n",
      "\n",
      "MD602\n",
      "missing_slides: ['IHC_22']\n",
      "neglected_valid_sections: [('IHC_14', 1), ('IHC_15', 1), ('IHC_16', 1), ('IHC_16', 3), ('IHC_18', 1), ('IHC_31', 1), ('IHC_4', 3), ('IHC_60', 1), ('IHC_80', 3), ('IHC_84', 3), ('N_14', 3), ('N_15', 1), ('N_2', 1), ('N_2', 2), ('N_2', 3), ('N_28', 1), ('N_63', 1), ('N_65', 3), ('N_74', 3), ('N_80', 1), ('N_81', 1), ('N_82', 1), ('N_82', 3), ('N_83', 1), ('N_9', 1), ('N_9', 2), ('N_9', 3)]\n",
      "\n",
      "MD603\n",
      "neglected_valid_sections: [('IHC_69', 2), ('IHC_8', 1), ('N_70', 1)]\n",
      "\n",
      "MD636\n",
      "\n",
      "MD639\n",
      "neglected_valid_sections: [('N_196', 1), ('N_196', 2), ('N_196', 3)]\n"
     ]
    }
   ],
   "source": [
    "for stack in ['MD585', 'MD589', 'MD590', 'MD591', 'MD592', 'MD593', 'MD594', 'MD595', 'MD598', 'MD599', 'MD602', 'MD603', 'MD636', 'MD639']:\n",
    "    rescan_list = []\n",
    "    placeholder_list = []\n",
    "    print \n",
    "    print stack\n",
    "    try:\n",
    "        with open('/home/yuncong/CSHL_data_processed/%(stack)s/%(stack)s_missing_slide_list.txt' % dict(stack=stack), 'r') as f:\n",
    "            missing_slides = f.readline().strip().split()\n",
    "            if len(missing_slides) > 0:\n",
    "                print 'missing_slides:', missing_slides\n",
    "    except:\n",
    "        pass\n",
    "    \n",
    "    try:\n",
    "        slide_pos_to_fn = pickle.load(open('/home/yuncong/CSHL_data_processed/%(stack)s/%(stack)s_slide_position_to_fn.pkl' % dict(stack=stack), 'r'))\n",
    "        for slide_name, pos_fns in slide_pos_to_fn.iteritems():\n",
    "            for pos, fn in pos_fns.iteritems():\n",
    "                if fn.lower() == 'rescan':\n",
    "                    rescan_list.append((slide_name, pos))\n",
    "                if fn.lower() == 'placeholder':\n",
    "                    placeholder_list.append((slide_name, pos))\n",
    "        if len(rescan_list) > 0:\n",
    "            print 'neglected_valid_sections:', sorted(rescan_list)\n",
    "#         print 'placeholder:', sorted(placeholder_list)\n",
    "    except:\n",
    "        pass"
   ]
  },
  {
   "cell_type": "code",
   "execution_count": null,
   "metadata": {
    "collapsed": false
   },
   "outputs": [],
   "source": [
    "for stack in ['MD585', 'MD589', 'MD590', 'MD591', 'MD592', 'MD593', 'MD594', 'MD595', 'MD598', 'MD599', 'MD602', 'MD603', 'MD636', 'MD639']:\n",
    "    rescan_list = []\n",
    "    placeholder_list = []\n",
    "    print \n",
    "    print stack\n",
    "    try:\n",
    "        slide_pos_to_fn = pickle.load(open('/home/yuncong/CSHL_data_processed/%(stack)s/%(stack)s_slide_position_to_fn.pkl' % dict(stack=stack), 'r'))\n",
    "        for slide_name, pos_fns in slide_pos_to_fn.iteritems():\n",
    "            for pos, fn in pos_fns.iteritems():\n",
    "                if fn.lower() == 'rescan':\n",
    "                    rescan_list.append((slide_name, pos))\n",
    "                if fn.lower() == 'placeholder':\n",
    "                    placeholder_list.append((slide_name, pos))\n",
    "        print 'rescan:', sorted(rescan_list)\n",
    "#         print 'placeholder:', sorted(placeholder_list)\n",
    "    except:\n",
    "        pass"
   ]
  },
  {
   "cell_type": "code",
   "execution_count": null,
   "metadata": {
    "collapsed": true
   },
   "outputs": [],
   "source": [
    "from collections import defaultdict"
   ]
  },
  {
   "cell_type": "code",
   "execution_count": null,
   "metadata": {
    "collapsed": false
   },
   "outputs": [],
   "source": [
    "# for stack in ['MD585', 'MD589', 'MD590', 'MD591', 'MD592', 'MD593', 'MD594', 'MD595', 'MD598', 'MD599', 'MD602', 'MD603', 'MD636']:\n",
    "for stack in ['MD593']:\n",
    "\n",
    "    rescan_list = []\n",
    "    placeholder_list = []\n",
    "    print \n",
    "    print stack\n",
    "\n",
    "    slide_name_fn_pos = defaultdict(list)\n",
    "\n",
    "    with open('/home/yuncong/CSHL_data_processed/%(stack)s/%(stack)s_sorted_filenames.txt' % dict(stack=stack), 'r') as f:\n",
    "        for line in f.readlines():\n",
    "            fn, index = line.split()\n",
    "            if fn.lower() not in ['placeholder', 'rescan', 'nonexisting']:\n",
    "                _, slide_name, _, suffix = fn.split('-')\n",
    "                _, _, fn_pos, fn_idx = suffix.split('_')\n",
    "#                 print slide_name, fn_pos, int(fn_idx), int(index)\n",
    "#                 print slide_name, fn_pos\n",
    "                slide_name_fn_pos[slide_name].append(fn_pos)\n",
    "    \n",
    "    slide_name_fn_pos.default_factory = None\n",
    "    \n",
    "    for x in sorted(slide_name_fn_pos.items()):\n",
    "        print x"
   ]
  },
  {
   "cell_type": "code",
   "execution_count": null,
   "metadata": {
    "collapsed": false
   },
   "outputs": [],
   "source": [
    "# for stack in ['MD585', 'MD589', 'MD590', 'MD591', 'MD592', 'MD593', 'MD594', 'MD595', 'MD598', 'MD599', 'MD602', 'MD603', 'MD636']:\n",
    "#     print \n",
    "#     print stack\n",
    "#     try:\n",
    "#         info = pickle.load(open('/home/yuncong/CSHL_data_processed/%(stack)s/%(stack)s_preprocessInfo.pkl' % dict(stack=stack), 'r'))\n",
    "#         print 'placeholder', sorted(info['placeholder_slide_positions'])\n",
    "#         print 'rescan', sorted(info['rescan_slide_positions'])\n",
    "#     except:\n",
    "#         pass"
   ]
  },
  {
   "cell_type": "code",
   "execution_count": null,
   "metadata": {
    "collapsed": false
   },
   "outputs": [],
   "source": [
    "# for stack in ['MD585', 'MD589', 'MD590', 'MD591', 'MD592', 'MD593', 'MD594', 'MD595', 'MD598', 'MD602', 'MD603']:\n",
    "#     print \n",
    "#     print stack\n",
    "#     try:\n",
    "#         info = pickle.load(open('/home/yuncong/CSHL_data_processed/%(stack)s/%(stack)s_preprocessInfo.pkl' % dict(stack=stack), 'r'))\n",
    "#         xmin, ymin, w, h = info['bbox']\n",
    "#         print xmin, ymin, w, h\n",
    "#         print info['first_section'], info['last_section']\n",
    "#         print info['anchor_fn']\n",
    "#         print info['cropbox']\n",
    "#     except:\n",
    "#         pass"
   ]
  },
  {
   "cell_type": "code",
   "execution_count": null,
   "metadata": {
    "collapsed": true
   },
   "outputs": [],
   "source": []
  },
  {
   "cell_type": "code",
   "execution_count": null,
   "metadata": {
    "collapsed": false,
    "scrolled": true
   },
   "outputs": [],
   "source": [
    "# change N_06 to N_6\n",
    "\n",
    "for stack in ['MD585', 'MD589', 'MD590', 'MD591', 'MD592', 'MD593', 'MD594', 'MD595', 'MD598', 'MD599', 'MD602', 'MD603', 'MD636']:\n",
    "    print stack\n",
    "    try:\n",
    "        info_new = {}\n",
    "        info = pickle.load(open('/home/yuncong/CSHL_data_processed/%(stack)s/%(stack)s_slide_position_to_fn.pkl' % dict(stack=stack), 'r'))\n",
    "        for slide_name, x in info.iteritems():\n",
    "#             print slide_name\n",
    "            prefix, slide_num = slide_name.split('_')\n",
    "            slide_name_new = prefix + '_%d' % int(slide_num)\n",
    "#             print slide_name_new \n",
    "            info_new[slide_name_new] = x\n",
    "        pickle.dump(info_new, open('/home/yuncong/CSHL_data_processed/%(stack)s/%(stack)s_slide_position_to_fn.pkl' % dict(stack=stack), 'w'))\n",
    "    except:\n",
    "        pass"
   ]
  }
 ],
 "metadata": {
  "kernelspec": {
   "display_name": "Python 2",
   "language": "python",
   "name": "python2"
  },
  "language_info": {
   "codemirror_mode": {
    "name": "ipython",
    "version": 2
   },
   "file_extension": ".py",
   "mimetype": "text/x-python",
   "name": "python",
   "nbconvert_exporter": "python",
   "pygments_lexer": "ipython2",
   "version": "2.7.12"
  }
 },
 "nbformat": 4,
 "nbformat_minor": 0
}
