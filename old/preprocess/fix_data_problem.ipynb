{
 "cells": [
  {
   "cell_type": "code",
   "execution_count": 1,
   "metadata": {
    "collapsed": true
   },
   "outputs": [],
   "source": [
    "import os\n",
    "import sys"
   ]
  },
  {
   "cell_type": "code",
   "execution_count": 3,
   "metadata": {
    "collapsed": true
   },
   "outputs": [],
   "source": [
    "data_dir = '/home/yuncong/CSHL_data/MD599'"
   ]
  },
  {
   "cell_type": "code",
   "execution_count": 9,
   "metadata": {
    "collapsed": false
   },
   "outputs": [],
   "source": [
    "# Fix the problem that some tif thumbnails are rotated - use their normal png thumbnails to replace them.\n",
    "\n",
    "fns = os.listdir(data_dir)\n",
    "for f in fns:\n",
    "    if f.endswith('.png'):\n",
    "        f_prefix = f[:-4]\n",
    "        if f_prefix + '.tif' not in fns:\n",
    "            os.system('convert %(f)s.png %(f)s.tif' % dict(f=os.path.join(data_dir, f_prefix)))"
   ]
  },
  {
   "cell_type": "code",
   "execution_count": 11,
   "metadata": {
    "collapsed": true
   },
   "outputs": [],
   "source": [
    "# Fix the problem that some lossy jp2s do not have lossy in their name. For example, [prefix].jp2\n",
    "\n",
    "fns = os.listdir(data_dir)\n",
    "for f in fns:\n",
    "    if f.endswith('.jp2'):\n",
    "        if 'lossless' not in f and 'lossy' not in f:\n",
    "            f_prefix = f[:-4]\n",
    "            print 'mv %(f)s.jp2 %(f)s_lossy.jp2' % dict(f=os.path.join(data_dir, f_prefix))\n",
    "#             os.system('mv %(f)s.jp2 %(f)s_lossy.jp2' % dict(f=os.path.join(data_dir, f_prefix)))"
   ]
  },
  {
   "cell_type": "code",
   "execution_count": null,
   "metadata": {
    "collapsed": true
   },
   "outputs": [],
   "source": []
  },
  {
   "cell_type": "code",
   "execution_count": null,
   "metadata": {
    "collapsed": true
   },
   "outputs": [],
   "source": [
    "# MD639 all upside down"
   ]
  },
  {
   "cell_type": "code",
   "execution_count": 5,
   "metadata": {
    "collapsed": true
   },
   "outputs": [],
   "source": [
    "data_dir = '/home/yuncong/CSHL_data/MD639'"
   ]
  },
  {
   "cell_type": "code",
   "execution_count": 6,
   "metadata": {
    "collapsed": true
   },
   "outputs": [],
   "source": [
    "output_dir = '/home/yuncong/CSHL_data/MD639_flipped'"
   ]
  },
  {
   "cell_type": "code",
   "execution_count": null,
   "metadata": {
    "collapsed": true
   },
   "outputs": [],
   "source": [
    "# # Fix the problem that some tif thumbnails are rotated - use their normal png thumbnails to replace them.\n",
    "\n",
    "# fns = os.listdir(data_dir)\n",
    "# for f in fns:\n",
    "#     if f.endswith('.png'):\n",
    "#         f_prefix = f[:-4]\n",
    "#         os.system('convert %(f)s.tif -flip %(f)s.tif' % dict(f=os.path.join(output_dir, f_prefix)))\n",
    "#         os.system('convert %(f)s.png -flip %(f)s.png' % dict(f=os.path.join(output_dir, f_prefix)))\n",
    "#         os.system('convert %(f)s. -flip %(f)s.tif' % dict(f=os.path.join(output_dir, f_prefix)))\n",
    "#         os.system('convert %(f)s.tif -flip %(f)s.tif' % dict(f=os.path.join(output_dir, f_prefix)))"
   ]
  }
 ],
 "metadata": {
  "kernelspec": {
   "display_name": "Python 2",
   "language": "python",
   "name": "python2"
  },
  "language_info": {
   "codemirror_mode": {
    "name": "ipython",
    "version": 2
   },
   "file_extension": ".py",
   "mimetype": "text/x-python",
   "name": "python",
   "nbconvert_exporter": "python",
   "pygments_lexer": "ipython2",
   "version": "2.7.3"
  }
 },
 "nbformat": 4,
 "nbformat_minor": 1
}
