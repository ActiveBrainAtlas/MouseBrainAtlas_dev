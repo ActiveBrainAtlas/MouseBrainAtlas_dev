{
 "cells": [
  {
   "cell_type": "code",
   "execution_count": 1,
   "metadata": {
    "collapsed": false
   },
   "outputs": [
    {
     "name": "stdout",
     "output_type": "stream",
     "text": [
      "Setting environment for Gordon\n"
     ]
    },
    {
     "name": "stderr",
     "output_type": "stream",
     "text": [
      "No vtk\n"
     ]
    }
   ],
   "source": [
    "%load_ext autoreload\n",
    "%autoreload 2\n",
    "\n",
    "import numpy as np\n",
    "\n",
    "import sys\n",
    "import os\n",
    "\n",
    "sys.path.append(os.environ['REPO_DIR'] + '/utilities')\n",
    "from utilities2015 import *\n",
    "from registration_utilities import *\n",
    "from metadata import *\n",
    "from data_manager import *\n",
    "\n",
    "import matplotlib.pyplot as plt\n",
    "%matplotlib inline\n",
    "\n",
    "from joblib import Parallel, delayed\n",
    "import time"
   ]
  },
  {
   "cell_type": "code",
   "execution_count": 2,
   "metadata": {
    "collapsed": true
   },
   "outputs": [],
   "source": [
    "stack_fixed = 'MD593'"
   ]
  },
  {
   "cell_type": "code",
   "execution_count": 3,
   "metadata": {
    "collapsed": true
   },
   "outputs": [],
   "source": [
    "sec2fn = metadata_cache['sections_to_filenames'][stack_fixed]"
   ]
  },
  {
   "cell_type": "code",
   "execution_count": 4,
   "metadata": {
    "collapsed": true
   },
   "outputs": [],
   "source": [
    "train_sample_scheme = 1\n",
    "global_transform_scheme = 1\n",
    "\n",
    "local_transform_scheme = 2\n",
    "\n",
    "reg_weights = np.array([0.,0.,0.])\n",
    "    \n",
    "# stack_moving = 'atlas_on_MD589'\n",
    "stack_moving = 'atlasV2'"
   ]
  },
  {
   "cell_type": "code",
   "execution_count": 5,
   "metadata": {
    "collapsed": false
   },
   "outputs": [],
   "source": [
    "paired_structures = ['5N', '6N', '7N', '7n', 'Amb', 'LC', 'LRt', 'Pn', 'Tz', 'VLL', 'RMC', 'SNC', 'SNR', '3N', '4N',\n",
    "                    'Sp5I', 'Sp5O', 'Sp5C', 'PBG', '10N', 'VCA', 'VCP', 'DC']\n",
    "singular_structures = ['AP', '12N', 'RtTg', 'SC', 'IC']\n",
    "structures = paired_structures + singular_structures\n",
    "\n",
    "structures_sided = sum([[n] if n in singular_structures \n",
    "                        else [convert_to_left_name(n), convert_to_right_name(n)] \n",
    "                        for n in structures], [])\n",
    "\n",
    "structures_sided_plus_surround = sum([[s, s+'_surround'] for s in structures_sided], [])"
   ]
  },
  {
   "cell_type": "code",
   "execution_count": 6,
   "metadata": {
    "collapsed": true
   },
   "outputs": [],
   "source": [
    "label_to_name_fixed = {i+1: name for i, name in enumerate(sorted(structures))}\n",
    "name_to_label_fixed = {n:l for l, n in label_to_name_fixed.iteritems()}"
   ]
  },
  {
   "cell_type": "code",
   "execution_count": 7,
   "metadata": {
    "collapsed": false
   },
   "outputs": [],
   "source": [
    "# if local_transform_scheme == 1 or local_transform_scheme == 2:\n",
    "    \n",
    "# label_to_name_moving = {i+1: name for i, name in enumerate(structures_sided)}\n",
    "# name_to_label_moving = {n:l for l, n in label_to_name_moving.iteritems()}\n",
    "\n",
    "# elif local_transform_scheme == 3 or local_transform_scheme == 4:\n",
    "\n",
    "label_to_name_moving = {i+1: name for i, name in enumerate(structures_sided_plus_surround)}\n",
    "name_to_label_moving = {n:l for l, n in label_to_name_moving.iteritems()}"
   ]
  },
  {
   "cell_type": "code",
   "execution_count": 8,
   "metadata": {
    "collapsed": false,
    "scrolled": true
   },
   "outputs": [
    {
     "name": "stdout",
     "output_type": "stream",
     "text": [
      "(383, 534, 374)\n",
      "float16\n"
     ]
    }
   ],
   "source": [
    "# Load fixed volumes\n",
    "\n",
    "volume_fixed = {name_to_label_fixed[name]: DataManager.load_score_volume(stack=stack_fixed, label=name, downscale=32, train_sample_scheme=train_sample_scheme)\n",
    "               for name in structures}\n",
    "\n",
    "print volume_fixed.values()[0].shape\n",
    "print volume_fixed.values()[0].dtype\n",
    "\n",
    "vol_fixed_ydim, vol_fixed_xdim, vol_fixed_zdim = volume_fixed.values()[0].shape\n",
    "\n",
    "# vol_fixed_xmin, vol_fixed_ymin, vol_fixed_zmin = (0,0,0)\n",
    "# vol_fixed_ymax, vol_fixed_xmax, vol_fixed_zmax = np.array(volume_fixed.values()[0].shape) - 1\n",
    "# vol_fixed_xdim = vol_fixed_xmax + 1 - vol_fixed_xmin\n",
    "# vol_fixed_ydim = vol_fixed_ymax + 1 - vol_fixed_ymin\n",
    "# vol_fixed_zdim = vol_fixed_zmax + 1 - vol_fixed_zmin"
   ]
  },
  {
   "cell_type": "code",
   "execution_count": 9,
   "metadata": {
    "collapsed": false
   },
   "outputs": [
    {
     "name": "stdout",
     "output_type": "stream",
     "text": [
      "(383, 534, 374)\n",
      "float16\n"
     ]
    }
   ],
   "source": [
    "# Load moving volumes\n",
    "\n",
    "# if local_transform_scheme == 3 or local_transform_scheme == 4:\n",
    "\n",
    "volume_moving = {name_to_label_moving[name_s]: DataManager.load_transformed_volume(stack_m=stack_moving,\n",
    "                                                                                   type_m='score',\n",
    "                                                                                   stack_f=stack_fixed,\n",
    "                                                                                   type_f='score',\n",
    "                                                                                   downscale=32,\n",
    "                                                                                   train_sample_scheme_f=train_sample_scheme,\n",
    "                                                                                   global_transform_scheme=global_transform_scheme,\n",
    "                                                                                   label=name_s,\n",
    "                                                                                  local_transform_scheme=2,\n",
    "                                                                                  transitive='over')\n",
    "                 for name_s in structures_sided_plus_surround}\n",
    "\n",
    "# else:\n",
    "\n",
    "# volume_moving = {name_to_label_moving[name_s]: \\\n",
    "#                  DataManager.load_transformed_volume(stack_m=stack_moving,\n",
    "#                                                    type_m='score',\n",
    "#                                                    stack_f=stack_fixed,\n",
    "#                                                    type_f='score',\n",
    "#                                                    downscale=32,\n",
    "#                                                    train_sample_scheme_f=train_sample_scheme,\n",
    "#                                                    global_transform_scheme=global_transform_scheme,\n",
    "#                                                    local_transform_scheme=2,\n",
    "#                                                    label=name_s,\n",
    "#                                                   transitive='over')\n",
    "#                  for name_s in structures_sided}    \n",
    "    \n",
    "print volume_moving.values()[0].shape\n",
    "print volume_moving.values()[0].dtype\n",
    "\n",
    "# vol_moving_xmin, vol_moving_ymin, vol_moving_zmin = (0,0,0)\n",
    "# vol_moving_ymax, vol_moving_xmax, vol_moving_zmax = np.array(volume_moving.values()[0].shape) - 1"
   ]
  },
  {
   "cell_type": "code",
   "execution_count": 10,
   "metadata": {
    "collapsed": false
   },
   "outputs": [
    {
     "name": "stdout",
     "output_type": "stream",
     "text": [
      "(383, 534, 374)\n",
      "float16\n"
     ]
    }
   ],
   "source": [
    "# Load moving volumes\n",
    "\n",
    "# if local_transform_scheme == 3 or local_transform_scheme == 4:\n",
    "\n",
    "#     volume_moving = {name_to_label_moving[name_s]: DataManager.load_transformed_volume(stack_m=stack_moving,\n",
    "#                                                                                        type_m='score',\n",
    "#                                                                                        stack_f=stack_fixed,\n",
    "#                                                                                        type_f='score',\n",
    "#                                                                                        downscale=32,\n",
    "#                                                                                        train_sample_scheme_f=train_sample_scheme,\n",
    "#                                                                                        global_transform_scheme=global_transform_scheme,\n",
    "#                                                                                        label=name_s)\n",
    "#                      for name_s in structures_sided_plus_surround}\n",
    "\n",
    "# else:\n",
    "\n",
    "volume_moving_gtf = {name_to_label_moving[name_s]: \\\n",
    "                 DataManager.load_transformed_volume(stack_m=stack_moving,\n",
    "                                                   type_m='score',\n",
    "                                                   stack_f=stack_fixed,\n",
    "                                                   type_f='score',\n",
    "                                                   downscale=32,\n",
    "                                                   train_sample_scheme_f=train_sample_scheme,\n",
    "                                                   global_transform_scheme=global_transform_scheme,\n",
    "                                                   label=name_s,\n",
    "                                                  transitive='to')\n",
    "#                      for name_s in structures_sided_plus_surround}\n",
    "                 for name_s in structures_sided}    \n",
    "                    \n",
    "\n",
    "print volume_moving_gtf.values()[0].shape\n",
    "print volume_moving_gtf.values()[0].dtype\n",
    "\n",
    "# vol_moving_xmin, vol_moving_ymin, vol_moving_zmin = (0,0,0)\n",
    "# vol_moving_ymax, vol_moving_xmax, vol_moving_zmax = np.array(volume_moving.values()[0].shape) - 1"
   ]
  },
  {
   "cell_type": "code",
   "execution_count": 11,
   "metadata": {
    "collapsed": false
   },
   "outputs": [],
   "source": [
    "labelIndexMap_m2f = {}\n",
    "for label_m, name_m in label_to_name_moving.iteritems():\n",
    "    labelIndexMap_m2f[label_m] = name_to_label_fixed[convert_to_original_name(name_m)]\n",
    "    \n",
    "label_weights_m = {}\n",
    "for label_m, name_m in label_to_name_moving.iteritems():\n",
    "    if 'surround' in name_m:\n",
    "#         if local_transform_scheme == 3 or local_transform_scheme == 4:\n",
    "        label_weights_m[label_m] = -1\n",
    "#         else:\n",
    "#             label_weights_m[label_m] = 0\n",
    "    else:\n",
    "        label_weights_m[label_m] = 1"
   ]
  },
  {
   "cell_type": "code",
   "execution_count": 26,
   "metadata": {
    "collapsed": true
   },
   "outputs": [],
   "source": [
    "# volume_fixed_sliced = {l: v[..., [160]] for l, v in volume_fixed.iteritems()}\n",
    "# volume_moving_sliced = {l: v[..., [160]] for l, v in volume_moving.iteritems()}"
   ]
  },
  {
   "cell_type": "markdown",
   "metadata": {},
   "source": [
    "# Transform"
   ]
  },
  {
   "cell_type": "code",
   "execution_count": 62,
   "metadata": {
    "collapsed": false
   },
   "outputs": [],
   "source": [
    "#     transformed_structure_slices = defaultdict(dict)"
   ]
  },
  {
   "cell_type": "code",
   "execution_count": null,
   "metadata": {
    "collapsed": false,
    "scrolled": true
   },
   "outputs": [],
   "source": [
    "for name_s in structures_sided:\n",
    "# for name_s in ['7N_L']:\n",
    "\n",
    "    SLICE_TF_VIZ_DIR = create_if_not_exists('/home/yuncong/csd395/CSHL_sliceTfViz/%(stack)s/%(name_s)s' % \\\n",
    "                                dict(stack=stack_fixed, name_s=name_s))\n",
    "\n",
    "    # For getting correct contour location\n",
    "    xmin_vol_f, xmax_vol_f, ymin_vol_f, ymax_vol_f, zmin_vol_f, zmax_vol_f = \\\n",
    "    DataManager.load_volume_bbox(stack=stack_fixed, type='score', label=convert_to_original_name(name_s), downscale=32)\n",
    "    print xmin_vol_f, xmax_vol_f, ymin_vol_f, ymax_vol_f, zmin_vol_f, zmax_vol_f\n",
    "\n",
    "#     transformed_structure_slices = {}\n",
    "    \n",
    "    sys.stderr.write('%s\\n' % name_s)\n",
    "\n",
    "    xmin, xmax, ymin, ymax, zmin, zmax = bbox_3d(volume_moving[name_to_label_moving[name_s]])\n",
    "    print 'Structure bnounding box:', xmin, xmax, ymin, ymax, zmin, zmax\n",
    "\n",
    "    sec_min = DataManager.convert_z_to_section(stack=stack_fixed, z=zmin, downsample=32)\n",
    "    sec_max = DataManager.convert_z_to_section(stack=stack_fixed, z=zmax, downsample=32)\n",
    "    print sec_min, sec_max\n",
    "    \n",
    "# first_sec, last_sec = metadata_cache['section_limits'][stack_fixed]\n",
    "    bar = show_progress_bar(sec_min, sec_max)\n",
    "\n",
    "    for sec in range(sec_min, sec_max+1):\n",
    "    # for sec in range(143, 149):\n",
    "#     for sec in [176]:\n",
    "    \n",
    "        sys.stderr.write('%s\\n' % sec)\n",
    "\n",
    "        bar.value = sec\n",
    "\n",
    "        zl, zh = DataManager.convert_section_to_z(stack=stack_fixed, sec=sec, downsample=32)\n",
    "        z = int(np.round((zl + zh)/2))\n",
    "\n",
    "        # align with z=z\n",
    "    \n",
    "#         if local_transform_scheme == 1 or local_transform_scheme == 2:\n",
    "    \n",
    "#             aligner = Aligner4(volume_fixed, {name_to_label_moving[name_s]: \n",
    "#                                               volume_moving[name_to_label_moving[name_s]]}, \\\n",
    "#                                labelIndexMap_m2f={name_to_label_moving[name_s]:\n",
    "#                                                   name_to_label_fixed[convert_name_to_unsided(name_s)]},\n",
    "#                               zrange=(z,z))\n",
    "\n",
    "#         elif local_transform_scheme == 3 or local_transform_scheme == 4:\n",
    "        \n",
    "        try:\n",
    "            aligner = Aligner4(volume_fixed, {name_to_label_moving[name_s]: volume_moving[name_to_label_moving[name_s]],\n",
    "                                             name_to_label_moving[name_s+'_surround']: volume_moving[name_to_label_moving[name_s+'_surround']]}, \\\n",
    "                            labelIndexMap_m2f={name_to_label_moving[name_s]: name_to_label_fixed[convert_name_to_unsided(name_s)],\n",
    "                                              name_to_label_moving[name_s+'_surround']: name_to_label_fixed[convert_to_original_name(name_s+'_surround')]},\n",
    "                              zrange=(z,z))\n",
    "        except Exception as e:\n",
    "            sys.stderr.write('%s\\n' % e)\n",
    "            continue\n",
    "        \n",
    "#         aligner = Aligner4(volume_fixed, {name_to_label_moving[name_s]: \n",
    "#                                           volume_moving[name_to_label_moving[name_s]]}, \\\n",
    "#                            labelIndexMap_m2f={name_to_label_moving[name_s]:\n",
    "#                                               name_to_label_fixed[convert_name_to_unsided(name_s)]},\n",
    "#                           zrange=(z,z))\n",
    "\n",
    "        # aligner.set_centroid(centroid_m='volume_centroid', centroid_f='volume_centroid')\n",
    "        aligner.set_centroid(centroid_m='structure_centroid', centroid_f='centroid_m', \n",
    "                             indices_m=[name_to_label_moving[name_s]])\n",
    "\n",
    "        gradient_filepath_map_f = {ind_f: VOLUME_ROOTDIR + '/%(stack)s/score_volume_gradients/%(stack)s_down32_scoreVolume_%(label)s_trainSampleScheme_%(scheme)d_%%(suffix)s.bp' % \\\n",
    "                               {'stack': stack_fixed, 'label': label_to_name_fixed[ind_f], 'scheme':train_sample_scheme}\n",
    "                               for ind_m, ind_f in labelIndexMap_m2f.iteritems()}\n",
    "\n",
    "        aligner.load_gradient(gradient_filepath_map_f=gradient_filepath_map_f, indices_f=None)\n",
    "\n",
    "        t = time.time()\n",
    "        T, scores = aligner.optimize(type='affine', max_iter_num=1000, history_len=100, terminate_thresh=1e-5,\n",
    "                                     indices_m=None,\n",
    "    #                                 grid_search_iteration_number=20,\n",
    "    #                                  grid_search_sample_number=1000,\n",
    "    #                                 std_tx=10, std_ty=10, std_tz=0, std_theta_xy=np.deg2rad(10),\n",
    "                                     grad_computation_sample_number=1e5,\n",
    "                                     full_lr=[.1,.1,0,1,.1,.1,0,1,0,0,0,0],\n",
    "                                    label_weights=label_weights_m,\n",
    "                                    reg_weights=reg_weights,\n",
    "                                    epsilon=1e-8)\n",
    "\n",
    "    #     T, scores = aligner.optimize(type='rigid', max_iter_num=1000, history_len=100, terminate_thresh=1e-6,\n",
    "    #                                      indices_m=None,\n",
    "    #                                     grid_search_iteration_number=20,\n",
    "    #                                      grid_search_sample_number=1000,\n",
    "    #                                     std_tx=5, std_ty=5, std_tz=0, std_theta_xy=np.deg2rad(5),\n",
    "    #                                      grad_computation_sample_number=1e5,\n",
    "    #                                      full_lr=[20,20,0,0,0,.1],\n",
    "    #                                     label_weights=label_weights_m,\n",
    "    #                                     reg_weights=reg_weights,\n",
    "    #                                     epsilon=1e-8)\n",
    "\n",
    "        sys.stderr.write('%.2f seconds\\n' % (time.time() - t))\n",
    "\n",
    "        print T.reshape((3,4))\n",
    "#         plt.plot(scores);\n",
    "        print max(scores), scores[-1]\n",
    "    \n",
    "        local_params, centroid_m, centroid_f, xdim_f, ydim_f = \\\n",
    "        T.reshape((3,4))[:2,[0,1,3]].flatten(), aligner.centroid_m, aligner.centroid_f, \\\n",
    "        aligner.xdim_f, aligner.ydim_f\n",
    "\n",
    "        transformed_structure_slice = transform_slice(volume_moving[name_to_label_moving[name_s]][..., z], \n",
    "                        T=local_params, centroid_m=aligner.centroid_m[:2], centroid_f=aligner.centroid_f[:2], \n",
    "                        xdim_f=xdim_f, ydim_f=ydim_f)\n",
    "        \n",
    "        \n",
    "#     ######## Visualize ########\n",
    "    \n",
    "        zl, zh = DataManager.convert_section_to_z(stack=stack_fixed, sec=sec, downsample=32)\n",
    "        z = int(np.round((zl + zh)/2))\n",
    "\n",
    "        try:\n",
    "            # img_fn = DataManager.get_image_filepath(stack=stack_fixed, section=sec, resol='thumbnail', version='cropped_tif')\n",
    "            img_fn = DataManager.get_image_filepath(stack=stack_fixed, section=sec, resol='lossless', version='compressed')\n",
    "            img = imread(img_fn)[::4, ::4]\n",
    "        except Exception as e:\n",
    "            sys.stderr.write('%s\\n' % e)\n",
    "            continue\n",
    "\n",
    "\n",
    "        viz = img.copy()\n",
    "\n",
    "\n",
    "        gtf_slice = volume_moving_gtf[name_to_label_moving[name_s]][..., z]\n",
    "\n",
    "        for level in levels:\n",
    "            cnts = find_contours(gtf_slice, level=level) # rows, cols\n",
    "            for cnt in cnts:\n",
    "                # r,c to x,y\n",
    "                cnt_on_cropped = cnt[:,::-1] + (xmin_vol_f, ymin_vol_f)\n",
    "        #         cv2.polylines(viz, [cnt_on_cropped.astype(np.int)], True, level_colors[level], 2)\n",
    "                cv2.polylines(viz, [cnt_on_cropped.astype(np.int)*8], True, (0,0,255), 1)\n",
    "\n",
    "\n",
    "        ltf_slice = volume_moving[name_to_label_moving[name_s]][..., z]\n",
    "\n",
    "        for level in levels:\n",
    "            cnts = find_contours(ltf_slice, level=level) # rows, cols\n",
    "            for cnt in cnts:\n",
    "                # r,c to x,y\n",
    "                cnt_on_cropped = cnt[:,::-1] + (xmin_vol_f, ymin_vol_f)\n",
    "        #         cv2.polylines(viz, [cnt_on_cropped.astype(np.int)], True, level_colors[level], 2)\n",
    "                cv2.polylines(viz, [cnt_on_cropped.astype(np.int)*8], True, (0,255,0), 1)\n",
    "\n",
    "\n",
    "        # Find moving volume annotation contours\n",
    "        #     for name_s, vol in vols_m_aligned_to_f.iteritems():\n",
    "        for level in levels:\n",
    "            cnts = find_contours(transformed_structure_slice, level=level) # rows, cols\n",
    "            for cnt in cnts:\n",
    "                # r,c to x,y\n",
    "                cnt_on_cropped = cnt[:,::-1] + (xmin_vol_f, ymin_vol_f)\n",
    "        #         cv2.polylines(viz, [cnt_on_cropped.astype(np.int)], True, level_colors[level], 2)\n",
    "                cv2.polylines(viz, [cnt_on_cropped.astype(np.int)*8], True, (255,0,0), 1)\n",
    "\n",
    "    #     display_image(viz)\n",
    "\n",
    "    #     plt.figure(figsize=(20,20));\n",
    "    #     plt.imshow(viz);\n",
    "    #     plt.title('z=%d, sec=%d' % (z, sec));\n",
    "    #     plt.show()\n",
    "\n",
    "        viz_fn = os.path.join(SLICE_TF_VIZ_DIR, '%(fn)s_%(name_s)s_sliceTfViz.jpg' % \\\n",
    "                              {'fn': sec2fn[sec], 'name_s': name_s})\n",
    "        imsave(viz_fn, viz)"
   ]
  },
  {
   "cell_type": "markdown",
   "metadata": {},
   "source": [
    "# Visualize"
   ]
  },
  {
   "cell_type": "code",
   "execution_count": 12,
   "metadata": {
    "collapsed": false
   },
   "outputs": [],
   "source": [
    "# Set colors for different contour level\n",
    "levels = [0.1, 0.25, 0.5, 0.75, .99]\n",
    "level_colors = {level: (int(level*255),0,0) for level in levels}"
   ]
  },
  {
   "cell_type": "code",
   "execution_count": 61,
   "metadata": {
    "collapsed": false
   },
   "outputs": [
    {
     "name": "stdout",
     "output_type": "stream",
     "text": [
      "0 533 0 382 111 484\n"
     ]
    },
    {
     "name": "stderr",
     "output_type": "stream",
     "text": [
      "Section is invalid: Placeholder.\n"
     ]
    }
   ],
   "source": [
    "# For getting correct contour location\n",
    "xmin_vol_f, xmax_vol_f, ymin_vol_f, ymax_vol_f, zmin_vol_f, zmax_vol_f = \\\n",
    "DataManager.load_volume_bbox(stack=stack_fixed, type='score', label=convert_to_original_name(name_s), downscale=32)\n",
    "print xmin_vol_f, xmax_vol_f, ymin_vol_f, ymax_vol_f, zmin_vol_f, zmax_vol_f\n",
    "\n",
    "# Generate overlay visualization\n",
    "\n",
    "# Generate atlas overlay image for every section\n",
    "# first_sec, last_sec = metadata_cache['section_limits'][stack_fixed]\n",
    "# bar = show_progress_bar(first_sec, last_sec)\n",
    "\n",
    "# for sec in range(first_sec, last_sec+1):\n",
    "# for sec in [146]:\n",
    "#     zl, zh = DataManager.convert_section_to_z(stack=stack_fixed, sec=sec, downsample=32)\n",
    "#     z = int(np.round((zl + zh)/2))\n",
    "\n",
    "for sec, transformed_structure_slice_allLabels in transformed_structure_slices.iteritems():\n",
    "    \n",
    "    for name_s, transformed_structure_slice in transformed_structure_slice_allLabels.iteritems():\n",
    "        \n",
    "        SLICE_TF_VIZ_DIR = create_if_not_exists('/home/yuncong/csd395/CSHL_sliceTfViz/%(stack)s/%(name_s)s' % \\\n",
    "                                        dict(stack=stack_fixed, name_s=name_s))\n",
    "        \n",
    "        zl, zh = DataManager.convert_section_to_z(stack=stack_fixed, sec=sec, downsample=32)\n",
    "        z = int(np.round((zl + zh)/2))\n",
    "\n",
    "    # if metadata_cache['sections_to_filenames'][stack_fixed][sec] in ['Placeholder', 'Rescan', 'Nonexisting']:\n",
    "    #     continue\n",
    "\n",
    "    #     sec = DataManager.convert_z_to_section(stack=stack_fixed, z=z, downsample=32)\n",
    "\n",
    "    #     bar.value = sec\n",
    "\n",
    "        # if z < roi_zmin or z > roi_zmax:\n",
    "        #     continue\n",
    "\n",
    "\n",
    "        try:\n",
    "            # img_fn = DataManager.get_image_filepath(stack=stack_fixed, section=sec, resol='thumbnail', version='cropped_tif')\n",
    "            img_fn = DataManager.get_image_filepath(stack=stack_fixed, section=sec, resol='lossless', version='compressed')\n",
    "            img = imread(img_fn)[::4, ::4]\n",
    "        except Exception as e:\n",
    "            sys.stderr.write('%s\\n' % e)\n",
    "            continue\n",
    "\n",
    "\n",
    "        viz = img.copy()\n",
    "\n",
    "        \n",
    "        # gtf contour color: blue\n",
    "        gtf_slice = volume_moving_gtf[name_to_label_moving[name_s]][..., z]\n",
    "\n",
    "        for level in levels:\n",
    "            cnts = find_contours(gtf_slice, level=level) # rows, cols\n",
    "            for cnt in cnts:\n",
    "                # r,c to x,y\n",
    "                cnt_on_cropped = cnt[:,::-1] + (xmin_vol_f, ymin_vol_f)\n",
    "        #         cv2.polylines(viz, [cnt_on_cropped.astype(np.int)], True, level_colors[level], 2)\n",
    "                cv2.polylines(viz, [cnt_on_cropped.astype(np.int)*8], True, (0,0,255), 1)\n",
    "\n",
    "\n",
    "        # ltf contour color: green\n",
    "        ltf_slice = volume_moving[name_to_label_moving[name_s]][..., z]\n",
    "\n",
    "        for level in levels:\n",
    "            cnts = find_contours(ltf_slice, level=level) # rows, cols\n",
    "            for cnt in cnts:\n",
    "                # r,c to x,y\n",
    "                cnt_on_cropped = cnt[:,::-1] + (xmin_vol_f, ymin_vol_f)\n",
    "        #         cv2.polylines(viz, [cnt_on_cropped.astype(np.int)], True, level_colors[level], 2)\n",
    "                cv2.polylines(viz, [cnt_on_cropped.astype(np.int)*8], True, (0,255,0), 1)\n",
    "\n",
    "        # 2D-affine transformed contour color: red\n",
    "        # Find moving volume annotation contours\n",
    "        #     for name_s, vol in vols_m_aligned_to_f.iteritems():\n",
    "        for level in levels:\n",
    "            cnts = find_contours(transformed_structure_slice, level=level) # rows, cols\n",
    "            for cnt in cnts:\n",
    "                # r,c to x,y\n",
    "                cnt_on_cropped = cnt[:,::-1] + (xmin_vol_f, ymin_vol_f)\n",
    "        #         cv2.polylines(viz, [cnt_on_cropped.astype(np.int)], True, level_colors[level], 2)\n",
    "                cv2.polylines(viz, [cnt_on_cropped.astype(np.int)*8], True, (255,0,0), 1)\n",
    "\n",
    "    #     display_image(viz)\n",
    "\n",
    "    #     plt.figure(figsize=(20,20));\n",
    "    #     plt.imshow(viz);\n",
    "    #     plt.title('z=%d, sec=%d' % (z, sec));\n",
    "    #     plt.show()\n",
    "\n",
    "        viz_fn = os.path.join(SLICE_TF_VIZ_DIR, '%(fn)s_%(name_s)s_sliceTfViz.jpg' % \\\n",
    "                              {'fn': sec2fn[sec], 'name_s': name_s})\n",
    "        imsave(viz_fn, viz)"
   ]
  },
  {
   "cell_type": "code",
   "execution_count": null,
   "metadata": {
    "collapsed": true
   },
   "outputs": [],
   "source": []
  }
 ],
 "metadata": {
  "kernelspec": {
   "display_name": "Python 2",
   "language": "python",
   "name": "python2"
  },
  "language_info": {
   "codemirror_mode": {
    "name": "ipython",
    "version": 2
   },
   "file_extension": ".py",
   "mimetype": "text/x-python",
   "name": "python",
   "nbconvert_exporter": "python",
   "pygments_lexer": "ipython2",
   "version": "2.7.3"
  }
 },
 "nbformat": 4,
 "nbformat_minor": 1
}
