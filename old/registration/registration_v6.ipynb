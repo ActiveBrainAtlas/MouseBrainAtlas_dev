{
 "cells": [
  {
   "cell_type": "code",
   "execution_count": null,
   "metadata": {
    "collapsed": true
   },
   "outputs": [],
   "source": [
    "%load_ext autoreload\n",
    "%autoreload 2"
   ]
  },
  {
   "cell_type": "code",
   "execution_count": null,
   "metadata": {
    "scrolled": true
   },
   "outputs": [],
   "source": [
    "import sys\n",
    "import os\n",
    "import time\n",
    "\n",
    "import matplotlib.pyplot as plt\n",
    "%matplotlib inline\n",
    "import numpy as np\n",
    "\n",
    "sys.path.append(os.path.join(os.environ['REPO_DIR'], 'utilities'))\n",
    "from utilities2015 import *\n",
    "from registration_utilities import *\n",
    "from annotation_utilities import *\n",
    "from metadata import *\n",
    "from data_manager import *\n",
    "\n",
    "from aligner_v2 import *"
   ]
  },
  {
   "cell_type": "code",
   "execution_count": null,
   "metadata": {
    "collapsed": true
   },
   "outputs": [],
   "source": [
    "stack_m_spec = dict(name='atlasV5',\n",
    "                   vol_type='score',\n",
    "                   detector_id=None,\n",
    "                   prep_id=None,\n",
    "                   structure=None,\n",
    "                   resolution='10.0um')\n",
    "\n",
    "stack_f_spec = dict(name='MD589',\n",
    "                   vol_type='score',\n",
    "                   detector_id=998,\n",
    "                   prep_id=None,\n",
    "                   structure=None,\n",
    "                   resolution='10.0um')\n",
    "\n",
    "global_alignment_spec = dict(stack_m=stack_m_spec, \n",
    "                      stack_f=stack_f_spec,\n",
    "                      warp_setting=20)\n",
    "\n",
    "# save_json(global_alignment_spec, '/tmp/test_global_alignment_spec.json')"
   ]
  },
  {
   "cell_type": "code",
   "execution_count": null,
   "metadata": {
    "collapsed": true
   },
   "outputs": [],
   "source": [
    "# Command-line arguments\n",
    "\n",
    "alignment_spec_filepath = '/tmp/test_global_alignment_spec.json' # path to json file that specifies the registration task\n",
    "save_transformed_volumes = True\n",
    "save_which_structures = None # if none, save all structures\n",
    "export_overlay_image = True"
   ]
  },
  {
   "cell_type": "code",
   "execution_count": null,
   "metadata": {
    "collapsed": true
   },
   "outputs": [],
   "source": [
    "global_alignment_spec = load_json(alignment_spec_filepath)"
   ]
  },
  {
   "cell_type": "code",
   "execution_count": null,
   "metadata": {
    "collapsed": true,
    "scrolled": true
   },
   "outputs": [],
   "source": [
    "global_registration(global_alignment_spec=global_alignment_spec,\n",
    "                    structures_m=['5N_L', '7N_L', '7n_L', '5N_R', '7N_R', '7n_R']\n",
    ")"
   ]
  },
  {
   "cell_type": "code",
   "execution_count": null,
   "metadata": {
    "collapsed": true
   },
   "outputs": [],
   "source": []
  },
  {
   "cell_type": "code",
   "execution_count": null,
   "metadata": {
    "scrolled": true
   },
   "outputs": [],
   "source": [
    "for structure_m in all_known_structures_sided:\n",
    "# for structure_m in ['SNR_L']:\n",
    "\n",
    "    stack_m_spec = dict(name='atlasV5',\n",
    "                   vol_type='score',\n",
    "                   detector_id=None,\n",
    "                   prep_id=None,\n",
    "                   structure=structure_m,\n",
    "                    resolution='10.0um'\n",
    "                   )\n",
    "\n",
    "    stack_f_spec = dict(name='MD589',\n",
    "                       vol_type='score',\n",
    "                       detector_id=998,\n",
    "                       prep_id=None,\n",
    "                       structure=convert_to_original_name(structure_m),\n",
    "                        resolution='10.0um'\n",
    "                       )\n",
    "\n",
    "    local_alignment_spec = dict(stack_m=stack_m_spec, \n",
    "                          stack_f=stack_f_spec,\n",
    "                          warp_setting=27)\n",
    "\n",
    "    # save_json(local_alignment_spec, '/tmp/test_local_alignment_spec.json')\n",
    "\n",
    "    local_registration(local_alignment_spec=local_alignment_spec, \n",
    "                       global_alignment_spec=global_alignment_spec)"
   ]
  },
  {
   "cell_type": "code",
   "execution_count": null,
   "metadata": {
    "collapsed": true
   },
   "outputs": [],
   "source": []
  }
 ],
 "metadata": {
  "kernelspec": {
   "display_name": "Python 2",
   "language": "python",
   "name": "python2"
  },
  "language_info": {
   "codemirror_mode": {
    "name": "ipython",
    "version": 2
   },
   "file_extension": ".py",
   "mimetype": "text/x-python",
   "name": "python",
   "nbconvert_exporter": "python",
   "pygments_lexer": "ipython2",
   "version": "2.7.12"
  }
 },
 "nbformat": 4,
 "nbformat_minor": 2
}
