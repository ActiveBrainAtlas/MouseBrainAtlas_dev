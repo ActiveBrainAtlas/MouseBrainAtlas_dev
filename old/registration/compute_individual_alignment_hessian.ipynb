{
 "cells": [
  {
   "cell_type": "code",
   "execution_count": 1,
   "metadata": {
    "collapsed": false
   },
   "outputs": [
    {
     "name": "stdout",
     "output_type": "stream",
     "text": [
      "Setting environment for Gordon\n"
     ]
    }
   ],
   "source": [
    "%load_ext autoreload\n",
    "%autoreload 2\n",
    "\n",
    "import numpy as np\n",
    "\n",
    "import sys\n",
    "import os\n",
    "\n",
    "sys.path.append(os.environ['REPO_DIR'] + '/utilities')\n",
    "from utilities2015 import *\n",
    "\n",
    "import matplotlib.pyplot as plt\n",
    "%matplotlib inline\n",
    "\n",
    "from joblib import Parallel, delayed\n",
    "import time\n",
    "\n",
    "import logging\n",
    "\n",
    "from registration_utilities import *\n",
    "\n",
    "from collections import defaultdict"
   ]
  },
  {
   "cell_type": "code",
   "execution_count": 2,
   "metadata": {
    "collapsed": true
   },
   "outputs": [],
   "source": [
    "downsample_factor = 16\n",
    "\n",
    "xy_pixel_distance_downsampled = xy_pixel_distance_lossless * downsample_factor\n",
    "z_xy_ratio_downsampled = section_thickness / xy_pixel_distance_downsampled"
   ]
  },
  {
   "cell_type": "code",
   "execution_count": null,
   "metadata": {
    "collapsed": true
   },
   "outputs": [],
   "source": [
    "# stack = 'MD585'"
   ]
  },
  {
   "cell_type": "code",
   "execution_count": null,
   "metadata": {
    "collapsed": false
   },
   "outputs": [],
   "source": [
    "# atlasProjected_volume = bp.unpack_ndarray_file(os.path.join(volume_dir, '%(stack)s/%(stack)s_atlasProjectedVolume.bp' % {'stack': stack}))"
   ]
  },
  {
   "cell_type": "code",
   "execution_count": null,
   "metadata": {
    "collapsed": true
   },
   "outputs": [],
   "source": [
    "# available_labels_sided = [labels_sided[i-1] for i in np.unique(atlasProjected_volume) if i > 0]\n",
    "# available_labels_unsided = set([labelMap_sidedToUnsided[name] for name in available_labels_sided ])"
   ]
  },
  {
   "cell_type": "code",
   "execution_count": null,
   "metadata": {
    "collapsed": false
   },
   "outputs": [],
   "source": [
    "# def parallel_where(name, num_samples=None):\n",
    "    \n",
    "#     w = np.where(atlasProjected_volume == labels_sided_indices[name])\n",
    "    \n",
    "#     if num_samples is not None:\n",
    "#         n = len(w[0])\n",
    "#         sample_indices = np.random.choice(range(n), min(num_samples, n), replace=False)\n",
    "#         return np.c_[w[1][sample_indices].astype(np.int16), \n",
    "#                      w[0][sample_indices].astype(np.int16), \n",
    "#                      w[2][sample_indices].astype(np.int16)]\n",
    "#     else:\n",
    "#         return np.c_[w[1].astype(np.int16), w[0].astype(np.int16), w[2].astype(np.int16)]\n",
    "\n",
    "# t = time.time()\n",
    "\n",
    "# atlasProjected_nzs = Parallel(n_jobs=16)(delayed(parallel_where)(name_s, num_samples=int(1e5)) for name_s in available_labels_sided)\n",
    "# atlasProjected_nzs = dict(zip(available_labels_sided, atlasProjected_nzs))\n",
    "\n",
    "# sys.stderr.write('load atlas: %f seconds\\n' % (time.time() - t)) #~ 7s"
   ]
  },
  {
   "cell_type": "code",
   "execution_count": 3,
   "metadata": {
    "collapsed": true
   },
   "outputs": [],
   "source": [
    "def compute_score(T, name):\n",
    "    \n",
    "#     atlasProjected_centroid = atlasProjected_nzs[name].mean(axis=0)\n",
    "#     test_centroid2 = atlasProjected_centroid.copy()\n",
    "    \n",
    "    atlasProjected_centroid = atlas_centroid_allStacks_allLandmarks[stack][name]\n",
    "    test_centroid = test_centroid_allStacks_allLandmarks[stack][name]\n",
    "\n",
    "    atlasProjected_pts_centered = atlasProjected_nzs[name] - atlasProjected_centroid\n",
    "    \n",
    "    name_unsided = labelMap_sidedToUnsided[name]\n",
    "    \n",
    "    pts_prime = transform_points(T, pts_centered=atlasProjected_pts_centered, \n",
    "                                 c_prime=test_centroid).astype(np.int16)\n",
    "                \n",
    "    xs_prime, ys_prime, zs_prime = pts_prime.T\n",
    "    \n",
    "    valid = (xs_prime >= 0) & (ys_prime >= 0) & (zs_prime >= 0) & \\\n",
    "            (xs_prime < test_xdim) & (ys_prime < test_ydim) & (zs_prime < test_zdim)\n",
    "            \n",
    "    assert np.count_nonzero(valid) > 0, 'No valid pixel after transform: %s' % name\n",
    "    \n",
    "    xs_prime_valid, ys_prime_valid, zs_prime_valid = pts_prime[valid].T\n",
    "    \n",
    "    voxel_probs_valid = volume2_allLabels[name_unsided][ys_prime_valid, xs_prime_valid, zs_prime_valid] / 1e6\n",
    "    score = voxel_probs_valid.sum()\n",
    "    \n",
    "    return score"
   ]
  },
  {
   "cell_type": "code",
   "execution_count": 4,
   "metadata": {
    "collapsed": true
   },
   "outputs": [],
   "source": [
    "# T_final = {}\n",
    "\n",
    "parameters_allStacks_allLandmarks = defaultdict(dict)\n",
    "atlas_centroid_allStacks_allLandmarks = defaultdict(dict)\n",
    "test_centroid_allStacks_allLandmarks = defaultdict(dict)\n",
    "\n",
    "for i, stack in enumerate(['MD589', 'MD594', 'MD585', 'MD590', 'MD593', 'MD592', 'MD591', 'MD595', 'MD598', 'MD602', 'MD603']):\n",
    "\n",
    "#     with open(atlasAlignParams_rootdir + '/%(stack)s/%(stack)s_3dAlignParams.txt' % {'stack': stack}, 'r') as f:\n",
    "#         lines = f.readlines()\n",
    "#     T_final[stack] = np.array(map(float, lines[1].strip().split()))\n",
    "    \n",
    "    for name in labels_sided:\n",
    "\n",
    "        tf_fn = atlasAlignParams_rootdir + '/%(stack)s/%(stack)s_%(name)s_transformUponAffineProjection.txt' % \\\n",
    "                            {'stack': stack, 'name': name}\n",
    "        \n",
    "        if not os.path.exists(tf_fn):\n",
    "            continue\n",
    "        \n",
    "        with open(tf_fn, 'r') as f:\n",
    "            lines = f.readlines()\n",
    "            params = np.array(map(float, lines[0].strip().split()))\n",
    "            atlas_centroid = np.array(map(float, lines[2].strip().split()))\n",
    "            test_centroid = np.array(map(float, lines[3].strip().split()))\n",
    "\n",
    "        parameters_allStacks_allLandmarks[stack][name] = params\n",
    "        atlas_centroid_allStacks_allLandmarks[stack][name] = atlas_centroid\n",
    "        test_centroid_allStacks_allLandmarks[stack][name] = test_centroid\n",
    "        \n",
    "parameters_allStacks_allLandmarks.default_factory = None\n",
    "atlas_centroid_allStacks_allLandmarks.default_factory = None\n",
    "test_centroid_allStacks_allLandmarks.default_factory = None"
   ]
  },
  {
   "cell_type": "code",
   "execution_count": 5,
   "metadata": {
    "collapsed": true
   },
   "outputs": [],
   "source": [
    "hessian_tr_allLandmarks = defaultdict(dict)\n",
    "std_allLandmarks = defaultdict(dict)"
   ]
  },
  {
   "cell_type": "code",
   "execution_count": 6,
   "metadata": {
    "collapsed": true
   },
   "outputs": [],
   "source": [
    "import numdifftools as nd\n",
    "# https://media.readthedocs.org/pdf/numdifftools/latest/numdifftools.pdf"
   ]
  },
  {
   "cell_type": "code",
   "execution_count": 7,
   "metadata": {
    "collapsed": true
   },
   "outputs": [],
   "source": [
    "def compute_scores_neighborhood_random(params, name, n, stds):\n",
    "    \n",
    "    dparams = np.random.uniform(-1., 1., (n, stds.size)) * stds\n",
    "        \n",
    "    scores = Parallel(n_jobs=12)(delayed(compute_score)(params + dp, name) for dp in dparams)\n",
    "    \n",
    "    return scores"
   ]
  },
  {
   "cell_type": "code",
   "execution_count": 8,
   "metadata": {
    "collapsed": false,
    "scrolled": true
   },
   "outputs": [
    {
     "name": "stdout",
     "output_type": "stream",
     "text": [
      "MD589\n"
     ]
    },
    {
     "name": "stderr",
     "output_type": "stream",
     "text": [
      "load atlas: 7.381527 seconds\n",
      "load score volumes: 27.149281 seconds\n"
     ]
    },
    {
     "name": "stdout",
     "output_type": "stream",
     "text": [
      "838 460 454\n"
     ]
    },
    {
     "name": "stderr",
     "output_type": "stream",
     "text": [
      "Compute hessian 12N: 3.253076 seconds\n",
      "Compute std 12N: 1.383157 seconds\n",
      "Compute hessian 5N_L: 3.220510 seconds\n",
      "Compute std 5N_L: 1.477329 seconds\n",
      "Compute hessian 5N_R: 3.274519 seconds\n",
      "Compute std 5N_R: 1.478446 seconds\n",
      "Compute hessian 6N_L: 0.526770 seconds\n",
      "Compute std 6N_L: 0.478039 seconds\n",
      "Compute hessian 6N_R: 0.515406 seconds\n",
      "Compute std 6N_R: 0.607566 seconds\n",
      "Compute hessian 7N_L: 3.248578 seconds\n",
      "Compute std 7N_L: 1.480014 seconds\n",
      "Compute hessian 7N_R: 3.231352 seconds\n",
      "Compute std 7N_R: 1.476709 seconds\n",
      "Compute hessian 7n_L: 3.295847 seconds\n",
      "Compute std 7n_L: 1.378289 seconds\n",
      "Compute hessian 7n_R: 3.241448 seconds\n",
      "Compute std 7n_R: 1.383190 seconds\n",
      "Compute hessian AP: 1.989699 seconds\n",
      "Compute std AP: 0.976055 seconds\n",
      "Compute hessian Amb_L: 0.681850 seconds\n",
      "Compute std Amb_L: 0.774163 seconds\n",
      "Compute hessian Amb_R: 0.689845 seconds\n",
      "Compute std Amb_R: 0.680620 seconds\n",
      "Compute hessian LC_L: 2.877924 seconds\n",
      "Compute std LC_L: 1.276794 seconds\n",
      "Compute hessian LC_R: 2.885498 seconds\n",
      "Compute std LC_R: 1.399785 seconds\n",
      "Compute hessian LRt_L: 3.213175 seconds\n",
      "Compute std LRt_L: 1.490945 seconds\n",
      "Compute hessian LRt_R: 3.224449 seconds\n",
      "Compute std LRt_R: 1.377722 seconds\n",
      "Compute hessian Pn_L: 3.236139 seconds\n",
      "Compute std Pn_L: 1.589262 seconds\n",
      "Compute hessian Pn_R: 3.253808 seconds\n",
      "Compute std Pn_R: 1.487785 seconds\n",
      "Compute hessian R_L: 2.856355 seconds\n",
      "Compute std R_L: 1.286943 seconds\n",
      "Compute hessian R_R: 2.869477 seconds\n",
      "Compute std R_R: 1.399810 seconds\n",
      "Compute hessian RtTg: 3.177375 seconds\n",
      "Compute std RtTg: 1.489745 seconds\n",
      "Compute hessian Tz_L: 3.228606 seconds\n",
      "Compute std Tz_L: 1.577582 seconds\n",
      "Compute hessian Tz_R: 3.218704 seconds\n",
      "Compute std Tz_R: 1.489138 seconds\n",
      "Compute hessian VLL_L: 3.317430 seconds\n",
      "Compute std VLL_L: 1.377185 seconds\n",
      "Compute hessian VLL_R: 3.273436 seconds\n"
     ]
    },
    {
     "name": "stdout",
     "output_type": "stream",
     "text": [
      "MD594\n"
     ]
    },
    {
     "name": "stderr",
     "output_type": "stream",
     "text": [
      "Compute std VLL_R: 1.484199 seconds\n",
      "load atlas: 7.510628 seconds\n",
      "load score volumes: 28.421137 seconds\n"
     ]
    },
    {
     "name": "stdout",
     "output_type": "stream",
     "text": [
      "844 484 443\n"
     ]
    },
    {
     "name": "stderr",
     "output_type": "stream",
     "text": [
      "Compute hessian 12N: 3.249486 seconds\n",
      "Compute std 12N: 1.483228 seconds\n",
      "Compute hessian 5N_L: 3.243518 seconds\n",
      "Compute std 5N_L: 1.390885 seconds\n",
      "Compute hessian 5N_R: 3.197375 seconds\n",
      "Compute std 5N_R: 1.386403 seconds\n",
      "Compute hessian 6N_L: 0.473817 seconds\n",
      "Compute std 6N_L: 0.387231 seconds\n",
      "Compute hessian 6N_R: 0.475696 seconds\n",
      "Compute std 6N_R: 0.485716 seconds\n",
      "Compute hessian 7N_L: 3.300443 seconds\n",
      "Compute std 7N_L: 1.483298 seconds\n",
      "Compute hessian 7N_R: 3.231887 seconds\n",
      "Compute std 7N_R: 1.481415 seconds\n",
      "Compute hessian 7n_L: 3.336812 seconds\n",
      "Compute std 7n_L: 1.486248 seconds\n",
      "Compute hessian 7n_R: 3.243602 seconds\n",
      "Compute std 7n_R: 1.496007 seconds\n",
      "Compute hessian AP: 1.807426 seconds\n",
      "Compute std AP: 0.884941 seconds\n",
      "Compute hessian Amb_L: 0.624764 seconds\n",
      "Compute std Amb_L: 0.696167 seconds\n",
      "Compute hessian Amb_R: 0.623906 seconds\n",
      "Compute std Amb_R: 0.705005 seconds\n",
      "Compute hessian LC_L: 2.600517 seconds\n",
      "Compute std LC_L: 1.290269 seconds\n",
      "Compute hessian LC_R: 2.574255 seconds\n",
      "Compute std LC_R: 1.301078 seconds\n",
      "Compute hessian LRt_L: 3.291207 seconds\n",
      "Compute std LRt_L: 1.489044 seconds\n",
      "Compute hessian LRt_R: 3.226579 seconds\n",
      "Compute std LRt_R: 1.492183 seconds\n",
      "Compute hessian Pn_L: 3.310737 seconds\n",
      "Compute std Pn_L: 1.486572 seconds\n",
      "Compute hessian Pn_R: 3.276004 seconds\n",
      "Compute std Pn_R: 1.387328 seconds\n",
      "Compute hessian R_L: 2.656543 seconds\n",
      "Compute std R_L: 1.301284 seconds\n",
      "Compute hessian R_R: 2.612849 seconds\n",
      "Compute std R_R: 1.390899 seconds\n",
      "Compute hessian RtTg: 3.245533 seconds\n",
      "Compute std RtTg: 1.698683 seconds\n",
      "Compute hessian Tz_L: 3.252094 seconds\n",
      "Compute std Tz_L: 1.388274 seconds\n",
      "Compute hessian Tz_R: 3.222886 seconds\n",
      "Compute std Tz_R: 1.404382 seconds\n",
      "Compute hessian VLL_L: 3.265461 seconds\n",
      "Compute std VLL_L: 1.400073 seconds\n",
      "Compute hessian VLL_R: 3.218459 seconds\n"
     ]
    },
    {
     "name": "stdout",
     "output_type": "stream",
     "text": [
      "MD585\n"
     ]
    },
    {
     "name": "stderr",
     "output_type": "stream",
     "text": [
      "Compute std VLL_R: 1.487211 seconds\n",
      "load atlas: 6.912897 seconds\n",
      "load score volumes: 25.481591 seconds\n"
     ]
    },
    {
     "name": "stdout",
     "output_type": "stream",
     "text": [
      "822 450 438\n"
     ]
    },
    {
     "name": "stderr",
     "output_type": "stream",
     "text": [
      "Compute hessian 12N: 3.202662 seconds\n",
      "Compute std 12N: 1.594022 seconds\n",
      "Compute hessian 5N_L: 3.178751 seconds\n",
      "Compute std 5N_L: 1.384865 seconds\n",
      "Compute hessian 5N_R: 3.218411 seconds\n",
      "Compute std 5N_R: 1.382751 seconds\n",
      "Compute hessian 6N_L: 0.476777 seconds\n",
      "Compute std 6N_L: 0.391228 seconds\n",
      "Compute hessian 6N_R: 0.489467 seconds\n",
      "Compute std 6N_R: 0.497276 seconds\n",
      "Compute hessian 7N_L: 3.217316 seconds\n",
      "Compute std 7N_L: 1.482446 seconds\n",
      "Compute hessian 7N_R: 3.254564 seconds\n",
      "Compute std 7N_R: 1.476914 seconds\n",
      "Compute hessian 7n_L: 3.271916 seconds\n",
      "Compute std 7n_L: 1.486503 seconds\n",
      "Compute hessian 7n_R: 3.220033 seconds\n",
      "Compute std 7n_R: 1.506644 seconds\n",
      "Compute hessian AP: 1.894930 seconds\n",
      "Compute std AP: 0.886208 seconds\n",
      "Compute hessian Amb_L: 0.651290 seconds\n",
      "Compute std Amb_L: 0.787828 seconds\n",
      "Compute hessian Amb_R: 0.648676 seconds\n",
      "Compute std Amb_R: 0.686118 seconds\n",
      "Compute hessian LC_L: 2.722347 seconds\n",
      "Compute std LC_L: 1.391253 seconds\n",
      "Compute hessian LC_R: 2.654181 seconds\n",
      "Compute std LC_R: 1.281080 seconds\n",
      "Compute hessian LRt_L: 3.217168 seconds\n",
      "Compute std LRt_L: 1.484291 seconds\n",
      "Compute hessian LRt_R: 3.233598 seconds\n",
      "Compute std LRt_R: 1.379927 seconds\n",
      "Compute hessian Pn_L: 3.191651 seconds\n",
      "Compute std Pn_L: 1.495526 seconds\n",
      "Compute hessian Pn_R: 3.184635 seconds\n",
      "Compute std Pn_R: 1.494586 seconds\n",
      "Compute hessian R_L: 2.695783 seconds\n",
      "Compute std R_L: 1.277290 seconds\n",
      "Compute hessian R_R: 2.708043 seconds\n",
      "Compute std R_R: 1.292576 seconds\n",
      "Compute hessian RtTg: 3.181331 seconds\n",
      "Compute std RtTg: 1.494585 seconds\n",
      "Compute hessian Tz_L: 3.218133 seconds\n",
      "Compute std Tz_L: 1.392352 seconds\n",
      "Compute hessian Tz_R: 3.204003 seconds\n",
      "Compute std Tz_R: 1.389105 seconds\n",
      "Compute hessian VLL_L: 3.259429 seconds\n",
      "Compute std VLL_L: 1.490070 seconds\n",
      "Compute hessian VLL_R: 3.193212 seconds\n"
     ]
    },
    {
     "name": "stdout",
     "output_type": "stream",
     "text": [
      "MD590\n"
     ]
    },
    {
     "name": "stderr",
     "output_type": "stream",
     "text": [
      "Compute std VLL_R: 1.481656 seconds\n",
      "load atlas: 6.609651 seconds\n",
      "load score volumes: 23.563223 seconds\n"
     ]
    },
    {
     "name": "stdout",
     "output_type": "stream",
     "text": [
      "822 472 397\n"
     ]
    },
    {
     "name": "stderr",
     "output_type": "stream",
     "text": [
      "Compute hessian 12N: 3.267389 seconds\n",
      "Compute std 12N: 1.481924 seconds\n",
      "Compute hessian 5N_L: 3.143938 seconds\n",
      "Compute std 5N_L: 1.392253 seconds\n",
      "Compute hessian 5N_R: 3.186270 seconds\n",
      "Compute std 5N_R: 1.376009 seconds\n",
      "Compute hessian 6N_L: 0.497075 seconds\n",
      "Compute std 6N_L: 0.398303 seconds\n",
      "Compute hessian 6N_R: 0.490667 seconds\n",
      "Compute std 6N_R: 0.393623 seconds\n",
      "Compute hessian 7N_L: 3.227574 seconds\n",
      "Compute std 7N_L: 1.515447 seconds\n",
      "Compute hessian 7N_R: 3.241750 seconds\n",
      "Compute std 7N_R: 1.589375 seconds\n",
      "Compute hessian 7n_L: 3.209936 seconds\n",
      "Compute std 7n_L: 1.396232 seconds\n",
      "Compute hessian 7n_R: 3.139906 seconds\n",
      "Compute std 7n_R: 1.478027 seconds\n",
      "Compute hessian AP: 1.878272 seconds\n",
      "Compute std AP: 0.983964 seconds\n",
      "Compute hessian Amb_L: 0.660485 seconds\n",
      "Compute std Amb_L: 0.682278 seconds\n",
      "Compute hessian Amb_R: 0.653917 seconds\n",
      "Compute std Amb_R: 0.672502 seconds\n",
      "Compute hessian LC_L: 2.754347 seconds\n",
      "Compute std LC_L: 1.283577 seconds\n",
      "Compute hessian LC_R: 2.757379 seconds\n",
      "Compute std LC_R: 1.371220 seconds\n",
      "Compute hessian LRt_L: 3.251576 seconds\n",
      "Compute std LRt_L: 1.472333 seconds\n",
      "Compute hessian LRt_R: 3.248694 seconds\n",
      "Compute std LRt_R: 1.475809 seconds\n",
      "Compute hessian Pn_L: 3.221365 seconds\n",
      "Compute std Pn_L: 1.591884 seconds\n",
      "Compute hessian Pn_R: 3.242519 seconds\n",
      "Compute std Pn_R: 1.587625 seconds\n",
      "Compute hessian R_L: 2.811854 seconds\n",
      "Compute std R_L: 1.292393 seconds\n",
      "Compute hessian R_R: 2.785164 seconds\n",
      "Compute std R_R: 1.287971 seconds\n",
      "Compute hessian RtTg: 3.253378 seconds\n",
      "Compute std RtTg: 1.681188 seconds\n",
      "Compute hessian Tz_L: 3.244563 seconds\n",
      "Compute std Tz_L: 1.391123 seconds\n",
      "Compute hessian Tz_R: 3.241818 seconds\n",
      "Compute std Tz_R: 1.613802 seconds\n",
      "Compute hessian VLL_L: 3.271191 seconds\n",
      "Compute std VLL_L: 1.471238 seconds\n",
      "Compute hessian VLL_R: 3.202165 seconds\n"
     ]
    },
    {
     "name": "stdout",
     "output_type": "stream",
     "text": [
      "MD593\n"
     ]
    },
    {
     "name": "stderr",
     "output_type": "stream",
     "text": [
      "Compute std VLL_R: 1.368934 seconds\n",
      "load atlas: 6.910385 seconds\n",
      "load score volumes: 25.934250 seconds\n"
     ]
    },
    {
     "name": "stdout",
     "output_type": "stream",
     "text": [
      "736 480 456\n"
     ]
    },
    {
     "name": "stderr",
     "output_type": "stream",
     "text": [
      "Compute hessian 12N: 3.202613 seconds\n",
      "Compute std 12N: 1.386337 seconds\n",
      "Compute hessian 5N_L: 3.193359 seconds\n",
      "Compute std 5N_L: 1.483515 seconds\n",
      "Compute hessian 5N_R: 3.121133 seconds\n",
      "Compute std 5N_R: 1.377646 seconds\n",
      "Compute hessian 6N_L: 0.488410 seconds\n",
      "Compute std 6N_L: 0.480023 seconds\n",
      "Compute hessian 6N_R: 0.499861 seconds\n",
      "Compute std 6N_R: 0.479635 seconds\n",
      "Compute hessian 7N_L: 3.204925 seconds\n",
      "Compute std 7N_L: 1.590490 seconds\n",
      "Compute hessian 7N_R: 3.201018 seconds\n",
      "Compute std 7N_R: 1.485657 seconds\n",
      "Compute hessian 7n_L: 3.111052 seconds\n",
      "Compute std 7n_L: 1.404401 seconds\n",
      "Compute hessian 7n_R: 3.193697 seconds\n",
      "Compute std 7n_R: 1.602122 seconds\n",
      "Compute hessian AP: 1.906296 seconds\n",
      "Compute std AP: 0.987426 seconds\n",
      "Compute hessian Amb_L: 0.666309 seconds\n",
      "Compute std Amb_L: 0.691243 seconds\n",
      "Compute hessian Amb_R: 0.658932 seconds\n",
      "Compute std Amb_R: 0.680904 seconds\n",
      "Compute hessian LC_L: 2.737696 seconds\n",
      "Compute std LC_L: 1.386953 seconds\n",
      "Compute hessian LC_R: 2.723753 seconds\n",
      "Compute std LC_R: 1.290280 seconds\n",
      "Compute hessian LRt_L: 3.273677 seconds\n",
      "Compute std LRt_L: 1.481153 seconds\n",
      "Compute hessian LRt_R: 3.214193 seconds\n",
      "Compute std LRt_R: 1.387124 seconds\n",
      "Compute hessian Pn_L: 3.237689 seconds\n",
      "Compute std Pn_L: 1.589593 seconds\n",
      "Compute hessian Pn_R: 3.226760 seconds\n",
      "Compute std Pn_R: 1.474135 seconds\n",
      "Compute hessian R_L: 2.775827 seconds\n",
      "Compute std R_L: 1.280823 seconds\n",
      "Compute hessian R_R: 2.772677 seconds\n",
      "Compute std R_R: 1.378066 seconds\n",
      "Compute hessian RtTg: 3.213076 seconds\n",
      "Compute std RtTg: 1.481298 seconds\n",
      "Compute hessian Tz_L: 3.257965 seconds\n",
      "Compute std Tz_L: 1.382554 seconds\n",
      "Compute hessian Tz_R: 3.256175 seconds\n",
      "Compute std Tz_R: 1.477473 seconds\n",
      "Compute hessian VLL_L: 3.267772 seconds\n",
      "Compute std VLL_L: 1.495377 seconds\n",
      "Compute hessian VLL_R: 3.220557 seconds\n"
     ]
    },
    {
     "name": "stdout",
     "output_type": "stream",
     "text": [
      "MD592\n"
     ]
    },
    {
     "name": "stderr",
     "output_type": "stream",
     "text": [
      "Compute std VLL_R: 1.589899 seconds\n",
      "load atlas: 8.113981 seconds\n",
      "load score volumes: 31.171756 seconds\n"
     ]
    },
    {
     "name": "stdout",
     "output_type": "stream",
     "text": [
      "838 482 470\n"
     ]
    },
    {
     "name": "stderr",
     "output_type": "stream",
     "text": [
      "Compute hessian 12N: 3.186137 seconds\n",
      "Compute std 12N: 1.390835 seconds\n",
      "Compute hessian 5N_L: 3.157347 seconds\n",
      "Compute std 5N_L: 1.488033 seconds\n",
      "Compute hessian 5N_R: 3.172618 seconds\n",
      "Compute std 5N_R: 1.397527 seconds\n",
      "Compute hessian 6N_L: 0.490935 seconds\n",
      "Compute std 6N_L: 0.594364 seconds\n",
      "Compute hessian 6N_R: 0.495270 seconds\n",
      "Compute std 6N_R: 0.499376 seconds\n",
      "Compute hessian 7N_L: 3.180105 seconds\n",
      "Compute std 7N_L: 1.501959 seconds\n",
      "Compute hessian 7N_R: 3.184023 seconds\n",
      "Compute std 7N_R: 1.497151 seconds\n",
      "Compute hessian 7n_L: 3.250468 seconds\n",
      "Compute std 7n_L: 1.491885 seconds\n",
      "Compute hessian 7n_R: 3.258775 seconds\n",
      "Compute std 7n_R: 1.614195 seconds\n",
      "Compute hessian AP: 1.901820 seconds\n",
      "Compute std AP: 1.011364 seconds\n",
      "Compute hessian Amb_L: 0.650584 seconds\n",
      "Compute std Amb_L: 0.701799 seconds\n",
      "Compute hessian Amb_R: 0.650464 seconds\n",
      "Compute std Amb_R: 0.690592 seconds\n",
      "Compute hessian LC_L: 2.739184 seconds\n",
      "Compute std LC_L: 1.286850 seconds\n",
      "Compute hessian LC_R: 2.762423 seconds\n",
      "Compute std LC_R: 1.397788 seconds\n",
      "Compute hessian LRt_L: 3.188449 seconds\n",
      "Compute std LRt_L: 1.608420 seconds\n",
      "Compute hessian LRt_R: 3.208468 seconds\n",
      "Compute std LRt_R: 1.594233 seconds\n",
      "Compute hessian Pn_L: 3.216263 seconds\n",
      "Compute std Pn_L: 1.613988 seconds\n",
      "Compute hessian Pn_R: 3.207185 seconds\n",
      "Compute std Pn_R: 1.603107 seconds\n",
      "Compute hessian R_L: 2.712273 seconds\n",
      "Compute std R_L: 1.385520 seconds\n",
      "Compute hessian R_R: 2.759534 seconds\n",
      "Compute std R_R: 1.294641 seconds\n",
      "Compute hessian RtTg: 3.206996 seconds\n",
      "Compute std RtTg: 1.497298 seconds\n",
      "Compute hessian Tz_L: 3.192071 seconds\n",
      "Compute std Tz_L: 1.496207 seconds\n",
      "Compute hessian Tz_R: 3.193247 seconds\n",
      "Compute std Tz_R: 1.399575 seconds\n",
      "Compute hessian VLL_L: 3.232080 seconds\n",
      "Compute std VLL_L: 1.588922 seconds\n",
      "Compute hessian VLL_R: 3.241399 seconds\n"
     ]
    },
    {
     "name": "stdout",
     "output_type": "stream",
     "text": [
      "MD591\n"
     ]
    },
    {
     "name": "stderr",
     "output_type": "stream",
     "text": [
      "Compute std VLL_R: 1.494960 seconds\n",
      "load atlas: 8.514747 seconds\n",
      "load score volumes: 32.740805 seconds\n"
     ]
    },
    {
     "name": "stdout",
     "output_type": "stream",
     "text": [
      "820 544 451\n"
     ]
    },
    {
     "name": "stderr",
     "output_type": "stream",
     "text": [
      "Compute hessian 12N: 3.255808 seconds\n",
      "Compute std 12N: 1.498232 seconds\n",
      "Compute hessian 5N_L: 3.200612 seconds\n",
      "Compute std 5N_L: 1.397903 seconds\n",
      "Compute hessian 5N_R: 3.225758 seconds\n",
      "Compute std 5N_R: 1.494519 seconds\n",
      "Compute hessian 6N_L: 0.525632 seconds\n",
      "Compute std 6N_L: 0.593652 seconds\n",
      "Compute hessian 6N_R: 0.532937 seconds\n",
      "Compute std 6N_R: 0.609524 seconds\n",
      "Compute hessian 7N_L: 3.246561 seconds\n",
      "Compute std 7N_L: 1.505609 seconds\n",
      "Compute hessian 7N_R: 3.240895 seconds\n",
      "Compute std 7N_R: 1.499656 seconds\n",
      "Compute hessian 7n_L: 3.259294 seconds\n",
      "Compute std 7n_L: 1.402568 seconds\n",
      "Compute hessian 7n_R: 3.215717 seconds\n",
      "Compute std 7n_R: 1.400267 seconds\n",
      "Compute hessian AP: 2.051768 seconds\n",
      "Compute std AP: 1.008178 seconds\n",
      "Compute hessian Amb_L: 0.695322 seconds\n",
      "Compute std Amb_L: 0.699226 seconds\n",
      "Compute hessian Amb_R: 0.694294 seconds\n",
      "Compute std Amb_R: 0.792580 seconds\n",
      "Compute hessian LC_L: 2.960227 seconds\n",
      "Compute std LC_L: 1.300791 seconds\n",
      "Compute hessian LC_R: 2.993040 seconds\n",
      "Compute std LC_R: 1.411805 seconds\n",
      "Compute hessian LRt_L: 3.305744 seconds\n",
      "Compute std LRt_L: 1.506606 seconds\n",
      "Compute hessian LRt_R: 3.285051 seconds\n",
      "Compute std LRt_R: 1.514030 seconds\n",
      "Compute hessian Pn_L: 3.305383 seconds\n",
      "Compute std Pn_L: 1.612597 seconds\n",
      "Compute hessian Pn_R: 3.284024 seconds\n",
      "Compute std Pn_R: 1.615939 seconds\n",
      "Compute hessian R_L: 3.027990 seconds\n",
      "Compute std R_L: 1.299301 seconds\n",
      "Compute hessian R_R: 3.025565 seconds\n",
      "Compute std R_R: 1.299703 seconds\n",
      "Compute hessian RtTg: 3.231753 seconds\n",
      "Compute std RtTg: 1.507225 seconds\n",
      "Compute hessian Tz_L: 3.259184 seconds\n",
      "Compute std Tz_L: 1.601471 seconds\n",
      "Compute hessian Tz_R: 3.293279 seconds\n",
      "Compute std Tz_R: 1.411382 seconds\n",
      "Compute hessian VLL_L: 3.302242 seconds\n",
      "Compute std VLL_L: 1.500488 seconds\n",
      "Compute hessian VLL_R: 3.233381 seconds\n"
     ]
    },
    {
     "name": "stdout",
     "output_type": "stream",
     "text": [
      "MD595\n"
     ]
    },
    {
     "name": "stderr",
     "output_type": "stream",
     "text": [
      "Compute std VLL_R: 1.604823 seconds\n",
      "load atlas: 7.815102 seconds\n",
      "load score volumes: 27.879753 seconds\n"
     ]
    },
    {
     "name": "stdout",
     "output_type": "stream",
     "text": [
      "874 472 448\n"
     ]
    },
    {
     "name": "stderr",
     "output_type": "stream",
     "text": [
      "Compute hessian 12N: 3.283340 seconds\n",
      "Compute std 12N: 1.495246 seconds\n",
      "Compute hessian 5N_L: 3.260742 seconds\n",
      "Compute std 5N_L: 1.491128 seconds\n",
      "Compute hessian 5N_R: 3.216288 seconds\n",
      "Compute std 5N_R: 1.502648 seconds\n",
      "Compute hessian 6N_L: 0.490628 seconds\n",
      "Compute std 6N_L: 0.597184 seconds\n",
      "Compute hessian 6N_R: 0.501793 seconds\n",
      "Compute std 6N_R: 0.515105 seconds\n",
      "Compute hessian 7N_L: 3.258782 seconds\n",
      "Compute std 7N_L: 1.617775 seconds\n",
      "Compute hessian 7N_R: 3.251906 seconds\n",
      "Compute std 7N_R: 1.500642 seconds\n",
      "Compute hessian 7n_L: 3.235595 seconds\n",
      "Compute std 7n_L: 1.395162 seconds\n",
      "Compute hessian 7n_R: 3.309971 seconds\n",
      "Compute std 7n_R: 1.497834 seconds\n",
      "Compute hessian AP: 1.894116 seconds\n",
      "Compute std AP: 0.912063 seconds\n",
      "Compute hessian Amb_L: 0.652863 seconds\n",
      "Compute std Amb_L: 0.717869 seconds\n",
      "Compute hessian Amb_R: 0.653500 seconds\n",
      "Compute std Amb_R: 0.708100 seconds\n",
      "Compute hessian LC_L: 2.751162 seconds\n",
      "Compute std LC_L: 1.196635 seconds\n",
      "Compute hessian LC_R: 2.771368 seconds\n",
      "Compute std LC_R: 1.412739 seconds\n",
      "Compute hessian LRt_L: 3.240203 seconds\n",
      "Compute std LRt_L: 1.494277 seconds\n",
      "Compute hessian LRt_R: 3.261498 seconds\n",
      "Compute std LRt_R: 1.390023 seconds\n",
      "Compute hessian Pn_L: 3.276761 seconds\n",
      "Compute std Pn_L: 1.487611 seconds\n",
      "Compute hessian Pn_R: 3.263535 seconds\n",
      "Compute std Pn_R: 1.710998 seconds\n",
      "Compute hessian R_L: 2.764788 seconds\n",
      "Compute std R_L: 1.390112 seconds\n",
      "Compute hessian R_R: 2.757881 seconds\n",
      "Compute std R_R: 1.303762 seconds\n",
      "Compute hessian RtTg: 3.289374 seconds\n",
      "Compute std RtTg: 1.704476 seconds\n",
      "Compute hessian Tz_L: 3.268553 seconds\n",
      "Compute std Tz_L: 1.501934 seconds\n",
      "Compute hessian Tz_R: 3.247614 seconds\n",
      "Compute std Tz_R: 1.395073 seconds\n",
      "Compute hessian VLL_L: 3.307194 seconds\n",
      "Compute std VLL_L: 1.507301 seconds\n",
      "Compute hessian VLL_R: 3.236071 seconds\n"
     ]
    },
    {
     "name": "stdout",
     "output_type": "stream",
     "text": [
      "MD598\n"
     ]
    },
    {
     "name": "stderr",
     "output_type": "stream",
     "text": [
      "Compute std VLL_R: 1.512291 seconds\n",
      "load atlas: 7.216439 seconds\n",
      "load score volumes: 28.239563 seconds\n"
     ]
    },
    {
     "name": "stdout",
     "output_type": "stream",
     "text": [
      "900 462 410\n"
     ]
    },
    {
     "name": "stderr",
     "output_type": "stream",
     "text": [
      "Compute hessian 12N: 3.231596 seconds\n",
      "Compute std 12N: 1.502553 seconds\n",
      "Compute hessian 5N_L: 3.203474 seconds\n",
      "Compute std 5N_L: 1.396156 seconds\n",
      "Compute hessian 5N_R: 3.135457 seconds\n",
      "Compute std 5N_R: 1.478405 seconds\n",
      "Compute hessian 6N_L: 0.475059 seconds\n",
      "Compute std 6N_L: 0.496052 seconds\n",
      "Compute hessian 6N_R: 0.474329 seconds\n",
      "Compute std 6N_R: 0.513387 seconds\n",
      "Compute hessian 7N_L: 3.267806 seconds\n",
      "Compute std 7N_L: 1.490907 seconds\n",
      "Compute hessian 7N_R: 3.230541 seconds\n",
      "Compute std 7N_R: 1.494947 seconds\n",
      "Compute hessian 7n_L: 3.008043 seconds\n",
      "Compute std 7n_L: 1.398267 seconds\n",
      "Compute hessian 7n_R: 3.270119 seconds\n",
      "Compute std 7n_R: 1.486627 seconds\n",
      "Compute hessian AP: 1.788095 seconds\n",
      "Compute std AP: 1.000974 seconds\n",
      "Compute hessian Amb_L: 0.616305 seconds\n",
      "Compute std Amb_L: 0.597788 seconds\n",
      "Compute hessian Amb_R: 0.613038 seconds\n",
      "Compute std Amb_R: 0.592124 seconds\n",
      "Compute hessian LC_L: 2.583813 seconds\n",
      "Compute std LC_L: 1.186307 seconds\n",
      "Compute hessian LC_R: 2.567395 seconds\n",
      "Compute std LC_R: 1.199272 seconds\n",
      "Compute hessian LRt_L: 3.263420 seconds\n",
      "Compute std LRt_L: 1.591094 seconds\n",
      "Compute hessian LRt_R: 3.215823 seconds\n",
      "Compute std LRt_R: 1.478748 seconds\n",
      "Compute hessian Pn_L: 3.278416 seconds\n",
      "Compute std Pn_L: 1.492608 seconds\n",
      "Compute hessian Pn_R: 3.264315 seconds\n",
      "Compute std Pn_R: 1.712883 seconds\n",
      "Compute hessian R_L: 2.632302 seconds\n",
      "Compute std R_L: 1.322239 seconds\n",
      "Compute hessian R_R: 2.634541 seconds\n",
      "Compute std R_R: 1.404084 seconds\n",
      "Compute hessian RtTg: 3.264978 seconds\n",
      "Compute std RtTg: 1.517178 seconds\n",
      "Compute hessian Tz_L: 3.253971 seconds\n",
      "Compute std Tz_L: 1.491917 seconds\n",
      "Compute hessian Tz_R: 3.248631 seconds\n",
      "Compute std Tz_R: 1.504626 seconds\n",
      "Compute hessian VLL_L: 3.164771 seconds\n",
      "Compute std VLL_L: 1.417242 seconds\n",
      "Compute hessian VLL_R: 3.250712 seconds\n"
     ]
    },
    {
     "name": "stdout",
     "output_type": "stream",
     "text": [
      "MD602\n"
     ]
    },
    {
     "name": "stderr",
     "output_type": "stream",
     "text": [
      "Compute std VLL_R: 1.509324 seconds\n",
      "load atlas: 7.414002 seconds\n",
      "load score volumes: 29.216416 seconds\n"
     ]
    },
    {
     "name": "stdout",
     "output_type": "stream",
     "text": [
      "936 438 424\n"
     ]
    },
    {
     "name": "stderr",
     "output_type": "stream",
     "text": [
      "Compute hessian 12N: 3.306227 seconds\n",
      "Compute std 12N: 1.512435 seconds\n",
      "Compute hessian 5N_L: 3.215146 seconds\n",
      "Compute std 5N_L: 1.394099 seconds\n",
      "Compute hessian 5N_R: 3.226332 seconds\n",
      "Compute std 5N_R: 1.531606 seconds\n",
      "Compute hessian 6N_L: 0.479054 seconds\n",
      "Compute std 6N_L: 0.491751 seconds\n",
      "Compute hessian 6N_R: 0.475675 seconds\n",
      "Compute std 6N_R: 0.592333 seconds\n",
      "Compute hessian 7N_L: 3.232871 seconds\n",
      "Compute std 7N_L: 1.499869 seconds\n",
      "Compute hessian 7N_R: 3.230242 seconds\n",
      "Compute std 7N_R: 1.506617 seconds\n",
      "Compute hessian 7n_L: 3.262098 seconds\n",
      "Compute std 7n_L: 1.421697 seconds\n",
      "Compute hessian 7n_R: 3.271561 seconds\n",
      "Compute std 7n_R: 1.611626 seconds\n",
      "Compute hessian AP: 1.891323 seconds\n",
      "Compute std AP: 0.905003 seconds\n",
      "Compute hessian Amb_L: 0.638764 seconds\n",
      "Compute std Amb_L: 0.600206 seconds\n",
      "Compute hessian Amb_R: 0.642969 seconds\n",
      "Compute std Amb_R: 0.696878 seconds\n",
      "Compute hessian LC_L: 2.664445 seconds\n",
      "Compute std LC_L: 1.422507 seconds\n",
      "Compute hessian LC_R: 2.668508 seconds\n",
      "Compute std LC_R: 1.395613 seconds\n",
      "Compute hessian LRt_L: 3.256616 seconds\n",
      "Compute std LRt_L: 1.509384 seconds\n",
      "Compute hessian LRt_R: 3.235074 seconds\n",
      "Compute std LRt_R: 1.493843 seconds\n",
      "Compute hessian Pn_L: 3.245242 seconds\n",
      "Compute std Pn_L: 1.502885 seconds\n",
      "Compute hessian Pn_R: 3.286258 seconds\n",
      "Compute std Pn_R: 1.496561 seconds\n",
      "Compute hessian R_L: 2.722372 seconds\n",
      "Compute std R_L: 1.405529 seconds\n",
      "Compute hessian R_R: 2.695689 seconds\n",
      "Compute std R_R: 1.323544 seconds\n",
      "Compute hessian RtTg: 3.299526 seconds\n",
      "Compute std RtTg: 1.613966 seconds\n",
      "Compute hessian Tz_L: 3.285472 seconds\n",
      "Compute std Tz_L: 1.397608 seconds\n",
      "Compute hessian Tz_R: 3.247551 seconds\n",
      "Compute std Tz_R: 1.503513 seconds\n",
      "Compute hessian VLL_L: 3.219222 seconds\n",
      "Compute std VLL_L: 1.497086 seconds\n",
      "Compute hessian VLL_R: 3.290377 seconds\n"
     ]
    },
    {
     "name": "stdout",
     "output_type": "stream",
     "text": [
      "MD603\n"
     ]
    },
    {
     "name": "stderr",
     "output_type": "stream",
     "text": [
      "Compute std VLL_R: 1.604407 seconds\n",
      "load atlas: 9.122555 seconds\n",
      "load score volumes: 33.135649 seconds\n"
     ]
    },
    {
     "name": "stdout",
     "output_type": "stream",
     "text": [
      "1056 472 437\n"
     ]
    },
    {
     "name": "stderr",
     "output_type": "stream",
     "text": [
      "Compute hessian 12N: 3.140216 seconds\n",
      "Compute std 12N: 1.508680 seconds\n",
      "Compute hessian 5N_L: 3.090319 seconds\n",
      "Compute std 5N_L: 1.409793 seconds\n",
      "Compute hessian 5N_R: 3.109730 seconds\n",
      "Compute std 5N_R: 1.311653 seconds\n",
      "Compute hessian 6N_L: 0.472980 seconds\n",
      "Compute std 6N_L: 0.434180 seconds\n",
      "Compute hessian 6N_R: 0.475527 seconds\n",
      "Compute std 6N_R: 0.430426 seconds\n",
      "Compute hessian 7N_L: 3.086697 seconds\n",
      "Compute std 7N_L: 1.331765 seconds\n",
      "Compute hessian 7N_R: 3.115432 seconds\n",
      "Compute std 7N_R: 1.434532 seconds\n",
      "Compute hessian 7n_L: 3.162971 seconds\n",
      "Compute std 7n_L: 1.335931 seconds\n",
      "Compute hessian 7n_R: 3.137984 seconds\n",
      "Compute std 7n_R: 1.409685 seconds\n",
      "Compute hessian AP: 1.820450 seconds\n",
      "Compute std AP: 0.911343 seconds\n",
      "Compute hessian Amb_L: 0.623201 seconds\n",
      "Compute std Amb_L: 0.714642 seconds\n",
      "Compute hessian Amb_R: 0.629789 seconds\n",
      "Compute std Amb_R: 0.712309 seconds\n",
      "Compute hessian LC_L: 2.578147 seconds\n",
      "Compute std LC_L: 1.121992 seconds\n",
      "Compute hessian LC_R: 2.604889 seconds\n",
      "Compute std LC_R: 1.317001 seconds\n",
      "Compute hessian LRt_L: 3.111832 seconds\n",
      "Compute std LRt_L: 1.421606 seconds\n",
      "Compute hessian LRt_R: 3.090939 seconds\n",
      "Compute std LRt_R: 1.414799 seconds\n",
      "Compute hessian Pn_L: 3.129168 seconds\n",
      "Compute std Pn_L: 1.312838 seconds\n",
      "Compute hessian Pn_R: 3.124467 seconds\n",
      "Compute std Pn_R: 1.441975 seconds\n",
      "Compute hessian R_L: 2.671355 seconds\n",
      "Compute std R_L: 1.237082 seconds\n",
      "Compute hessian R_R: 2.652270 seconds\n",
      "Compute std R_R: 1.210812 seconds\n",
      "Compute hessian RtTg: 3.120545 seconds\n",
      "Compute std RtTg: 1.423812 seconds\n",
      "Compute hessian Tz_L: 3.154884 seconds\n",
      "Compute std Tz_L: 1.331908 seconds\n",
      "Compute hessian Tz_R: 3.153563 seconds\n",
      "Compute std Tz_R: 1.508582 seconds\n",
      "Compute hessian VLL_L: 3.116735 seconds\n",
      "Compute std VLL_L: 1.505555 seconds\n",
      "Compute hessian VLL_R: 3.092677 seconds\n",
      "Compute std VLL_R: 1.533538 seconds\n"
     ]
    }
   ],
   "source": [
    "for i, stack in enumerate(['MD589', 'MD594', 'MD585', 'MD590', 'MD593', 'MD592', 'MD591', 'MD595', 'MD598', 'MD602', 'MD603']):\n",
    "# for i, stack in enumerate(['MD589']):\n",
    "    \n",
    "    print stack\n",
    "    \n",
    "    #############################\n",
    "    \n",
    "    atlasProjected_volume = bp.unpack_ndarray_file(os.path.join(volume_dir, '%(stack)s/%(stack)s_atlasProjectedVolume.bp' % {'stack': stack}))\n",
    "\n",
    "    available_labels_sided = [labels_sided[i-1] for i in np.unique(atlasProjected_volume) if i > 0]\n",
    "    available_labels_unsided = set([labelMap_sidedToUnsided[name] for name in available_labels_sided ])\n",
    "    \n",
    "    def parallel_where(name, num_samples=None):\n",
    "\n",
    "        w = np.where(atlasProjected_volume == labels_sided_indices[name])\n",
    "\n",
    "        if num_samples is not None:\n",
    "            n = len(w[0])\n",
    "            sample_indices = np.random.choice(range(n), min(num_samples, n), replace=False)\n",
    "            return np.c_[w[1][sample_indices].astype(np.int16), \n",
    "                         w[0][sample_indices].astype(np.int16), \n",
    "                         w[2][sample_indices].astype(np.int16)]\n",
    "        else:\n",
    "            return np.c_[w[1].astype(np.int16), w[0].astype(np.int16), w[2].astype(np.int16)]\n",
    "\n",
    "    t = time.time()\n",
    "\n",
    "    atlasProjected_nzs = Parallel(n_jobs=4)(delayed(parallel_where)(name_s, num_samples=int(1e5)) for name_s in available_labels_sided)\n",
    "    atlasProjected_nzs = dict(zip(available_labels_sided, atlasProjected_nzs))\n",
    "\n",
    "    sys.stderr.write('load atlas: %f seconds\\n' % (time.time() - t)) #~ 7s\n",
    "    \n",
    "    ################################\n",
    "    \n",
    "    t = time.time()\n",
    "\n",
    "    volume2_allLabels = {}\n",
    "\n",
    "    for name in available_labels_unsided:\n",
    "\n",
    "        if name == 'BackG':\n",
    "            continue\n",
    "\n",
    "        volume2_roi = bp.unpack_ndarray_file(os.path.join(volume_dir, '%(stack)s/%(stack)s_scoreVolume_%(label)s.bp' % \\\n",
    "                                                          {'stack': stack, 'label': name})).astype(np.float16)\n",
    "        volume2_allLabels[name] = volume2_roi\n",
    "        del volume2_roi\n",
    "\n",
    "    test_ydim, test_xdim, test_zdim = volume2_allLabels.values()[0].shape\n",
    "\n",
    "    print test_xdim, test_ydim, test_zdim\n",
    "\n",
    "    sys.stderr.write('load score volumes: %f seconds\\n' % (time.time() - t))\n",
    "    \n",
    "    for name_s in available_labels_sided:\n",
    "    \n",
    "        t = time.time()\n",
    "    \n",
    "        h = nd.Hessian(lambda t: compute_score(t, name_s), step=np.r_[1e-1, 1e-1, 1e-1, 10,\n",
    "                                          1e-1, 1e-1, 1e-1, 10,\n",
    "                                          1e-1, 1e-1, 1e-1, 10])\n",
    "\n",
    "        H = h(parameters_allStacks_allLandmarks[stack][name_s])\n",
    "        hessian_tr_allLandmarks[name_s][stack] = H\n",
    "\n",
    "        sys.stderr.write('Compute hessian %s: %f seconds\\n' % (name_s, time.time() - t))\n",
    "\n",
    "        t = time.time()\n",
    "\n",
    "        n = 1000\n",
    "        scores = np.asarray(compute_scores_neighborhood_random(parameters_allStacks_allLandmarks[stack][name_s], name_s, n, \n",
    "        np.r_[0, 0, 0, 10., 0, 0, 0, 10., 0, 0, 0, 10.]))\n",
    "        \n",
    "        std = np.std(scores.flat)\n",
    "        std_allLandmarks[name_s][stack] = std\n",
    "        \n",
    "        sys.stderr.write('Compute std %s: %f seconds\\n' % (name_s, time.time() - t))\n",
    "\n",
    "        \n",
    "hessian_tr_allLandmarks.default_factory = None\n",
    "std_allLandmarks.default_factory = None"
   ]
  },
  {
   "cell_type": "code",
   "execution_count": null,
   "metadata": {
    "collapsed": false
   },
   "outputs": [],
   "source": [
    "# hessian_tr_allLandmarks2 = defaultdict(dict)\n",
    "\n",
    "# for stack, hessians in hessian_tr_allLandmarks.iteritems():\n",
    "#     for name_s, h in hessians.iteritems():\n",
    "#         hessian_tr_allLandmarks2[name_s][stack] = h\n",
    "        \n",
    "# hessian_tr_allLandmarks2.default_factory = None\n",
    "\n",
    "\n",
    "# std_allLandmarks2 = defaultdict(dict)\n",
    "\n",
    "# for stack, stds in std_allLandmarks2.iteritems():\n",
    "#     for name_s, std in stds.iteritems():\n",
    "#         std_allLandmarks2[name_s][stack] = std\n",
    "        \n",
    "# std_allLandmarks2.default_factory = None"
   ]
  },
  {
   "cell_type": "code",
   "execution_count": 9,
   "metadata": {
    "collapsed": true
   },
   "outputs": [],
   "source": [
    "pickle.dump(hessian_tr_allLandmarks, open('/home/yuncong/csd395/CSHL_atlasAlignParams_atlas/hessian_individualAlign_allStacks_allLandmarks.pkl', 'w'))\n",
    "pickle.dump(std_allLandmarks, open('/home/yuncong/csd395/CSHL_atlasAlignParams_atlas/std_individualAlign_allStacks_allLandmarks.pkl', 'w'))"
   ]
  },
  {
   "cell_type": "code",
   "execution_count": 22,
   "metadata": {
    "collapsed": false
   },
   "outputs": [
    {
     "data": {
      "image/png": "[encoded data removed]",
      "text/plain": [
       "<matplotlib.figure.Figure at 0x5626610>"
      ]
     },
     "metadata": {},
     "output_type": "display_data"
    }
   ],
   "source": [
    "# n_lm = len(hessian_tr_allLandmarks)\n",
    "\n",
    "# fig, axes = plt.subplots(int(np.ceil(n_lm/6.)), 6, \n",
    "#                          figsize=(20, 20), squeeze=True, sharey=True)\n",
    "\n",
    "# axes = axes.flatten()\n",
    "\n",
    "# V = defaultdict(dict)\n",
    "# S = defaultdict(dict)\n",
    "\n",
    "# for li, name_s in enumerate(sorted(hessian_tr_allLandmarks.keys())):\n",
    "\n",
    "#     hs = hessian_tr_allLandmarks[name_s]\n",
    "\n",
    "#     for stack, h in hs.iteritems():\n",
    "        \n",
    "#         q = np.r_[3,7,11]\n",
    "#         h_tr = h[q[:,None], q]\n",
    "#         s, v = np.linalg.eigh(h_tr)\n",
    "#         S[name_s][stack] = s\n",
    "#         V[name_s][stack] = v\n",
    "        \n",
    "#     axes[li].set_title(name_s);\n",
    "        \n",
    "#     axes[li].boxplot(np.r_[[ss for ss in S[name_s].itervalues() if all(~np.isnan(ss))]], 0, 'gD');\n",
    "\n",
    "#     axes[li].set_xticks(range(1, 4));\n",
    "#     axes[li].set_xticklabels(['e1', 'e2', 'e3']);\n",
    "\n",
    "#     axes[li].axhline(0);\n",
    "    \n",
    "#     axes[li].set_ylim([-0.0005, 0.0001]);\n",
    "    \n",
    "    \n",
    "# for li in range(n_lm, len(axes)):\n",
    "#     axes[li].set_visible(False) \n",
    "\n",
    "# plt.show();"
   ]
  },
  {
   "cell_type": "code",
   "execution_count": 148,
   "metadata": {
    "collapsed": false
   },
   "outputs": [
    {
     "name": "stderr",
     "output_type": "stream",
     "text": [
      "some eigenvalues are greater than zero: 5N_R, MD603.\n",
      "std is close to zero: 6N_L, MD602.\n",
      "some eigenvalues are greater than zero: 6N_L, MD602.\n",
      "std is close to zero: 6N_L, MD593.\n",
      "some eigenvalues are greater than zero: 6N_L, MD593.\n",
      "some eigenvalues are greater than zero: 6N_L, MD585.\n",
      "std is close to zero: 6N_L, MD595.\n",
      "some eigenvalues are greater than zero: 6N_L, MD595.\n",
      "std is close to zero: 6N_R, MD602.\n",
      "some eigenvalues are greater than zero: 6N_R, MD602.\n",
      "some eigenvalues are greater than zero: 6N_R, MD590.\n",
      "some eigenvalues are greater than zero: 7n_R, MD592.\n",
      "some eigenvalues are greater than zero: Tz_L, MD603.\n",
      "some eigenvalues are greater than zero: VLL_L, MD603.\n",
      "some eigenvalues are greater than zero: VLL_R, MD603.\n"
     ]
    }
   ],
   "source": [
    "# eigenvalue normalized by std in the neighborhood\n",
    "\n",
    "n_lm = len(hessian_tr_allLandmarks)\n",
    "\n",
    "# fig, axes = plt.subplots(int(np.ceil(n_lm/6.)), 6, \n",
    "#                          figsize=(20, 20), squeeze=True, sharey=True)\n",
    "\n",
    "# axes = axes.flatten()\n",
    "\n",
    "V = defaultdict(dict)\n",
    "S = defaultdict(dict)\n",
    "S1 = defaultdict(dict)\n",
    "\n",
    "for li, name_s in enumerate(sorted(hessian_tr_allLandmarks.keys())):\n",
    "\n",
    "    hs = hessian_tr_allLandmarks[name_s]\n",
    "\n",
    "    for stack, h in hs.iteritems():\n",
    "        \n",
    "        std = std_allLandmarks[name_s][stack]\n",
    "        if std < 1e-5:\n",
    "            sys.stderr.write('std is close to zero: %s, %s.\\n' % (name_s, stack))\n",
    "        \n",
    "        q = np.r_[3,7,11]\n",
    "        h_tr = h[q[:,None], q]\n",
    "        s, v = np.linalg.eigh(h_tr)\n",
    "        \n",
    "        if any(s > 0):\n",
    "            sys.stderr.write('some eigenvalues are greater than zero: %s, %s.\\n' % (name_s, stack))\n",
    "#             print s\n",
    "            \n",
    "        S[name_s][stack] = 1./2. * 10**2 * s[2]/std\n",
    "        S1[name_s][stack] = 1./2. * 10**2 * s[0]/std\n",
    "#         S[name_s][stack] = 1./6. * (5**2+5*20+20**2)* s[2]/std\n",
    "#         S1[name_s][stack] = 1./6. * (5**2+5*20+20**2)* s[0]/std\n",
    "        V[name_s][stack] = v\n",
    "        \n",
    "#     axes[li].set_title(name_s);"
   ]
  },
  {
   "cell_type": "code",
   "execution_count": 126,
   "metadata": {
    "collapsed": false
   },
   "outputs": [],
   "source": [
    "keys = sorted(hessian_tr_allLandmarks.keys())\n",
    "arr_to_plot = np.column_stack(np.c_[S[name_s].values(), S1[name_s].values()] for name_s in keys)"
   ]
  },
  {
   "cell_type": "code",
   "execution_count": 127,
   "metadata": {
    "collapsed": false,
    "scrolled": true
   },
   "outputs": [],
   "source": [
    "plot_labels = list(chain(*[[name_s, name_s] for name_s in keys]))"
   ]
  },
  {
   "cell_type": "code",
   "execution_count": 151,
   "metadata": {
    "collapsed": false,
    "scrolled": false
   },
   "outputs": [
    {
     "data": {
      "image/png": "[encoded data removed]",
      "text/plain": [
       "<matplotlib.figure.Figure at 0x8b029d0>"
      ]
     },
     "metadata": {},
     "output_type": "display_data"
    }
   ],
   "source": [
    "plt.figure(figsize=(20,10));\n",
    "\n",
    "box = plt.boxplot(arr_to_plot, notch=False, sym='+', patch_artist=True);\n",
    "colors = ['tan', 'lightblue'] * len(keys)\n",
    "for patch, color in zip(box['boxes'], colors):\n",
    "    patch.set_facecolor(color)\n",
    "    patch.set_edgecolor('k')\n",
    "    \n",
    "plt.axhline(0);\n",
    "# plt.gca().set_ylim([-5., 0]);\n",
    "plt.gca().set_ylim([-3., 0]);\n",
    "plt.xticks(range(1, arr_to_plot.shape[1]+1), plot_labels, rotation=45);\n",
    "\n",
    "plt.figtext(0.80, 0.7, 'min quasi-z-score', backgroundcolor='tan', weight='roman',\n",
    "            size='large');\n",
    "\n",
    "plt.figtext(0.80, 0.15, 'max quasi-z-score', backgroundcolor='lightblue', weight='roman',\n",
    "            size='large');\n",
    "\n",
    "plt.ylabel('quasi-z-score');\n",
    "plt.title('min & max quasi-z-score for different structures (11 brains), $\\Gamma=[5,20]$');\n",
    "\n",
    "plt.show();"
   ]
  },
  {
   "cell_type": "code",
   "execution_count": 26,
   "metadata": {
    "collapsed": false
   },
   "outputs": [
    {
     "data": {
      "image/png": "[encoded data removed]",
      "text/plain": [
       "<matplotlib.figure.Figure at 0xa34a150>"
      ]
     },
     "metadata": {},
     "output_type": "display_data"
    }
   ],
   "source": [
    "# # eigenvalue normalized by std in the neighborhood\n",
    "\n",
    "# n_lm = len(hessian_tr_allLandmarks)\n",
    "\n",
    "# fig, axes = plt.subplots(int(np.ceil(n_lm/6.)), 6, \n",
    "#                          figsize=(20, 20), squeeze=True, sharey=True)\n",
    "\n",
    "# axes = axes.flatten()\n",
    "\n",
    "# V = defaultdict(dict)\n",
    "# S = defaultdict(dict)\n",
    "\n",
    "# for li, name_s in enumerate(sorted(hessian_tr_allLandmarks.keys())):\n",
    "\n",
    "#     hs = hessian_tr_allLandmarks[name_s]\n",
    "\n",
    "#     for stack, h in hs.iteritems():\n",
    "        \n",
    "#         std = std_allLandmarks[name_s][stack]\n",
    "        \n",
    "#         q = np.r_[3,7,11]\n",
    "#         h_tr = h[q[:,None], q]\n",
    "#         s, v = np.linalg.eigh(h_tr)\n",
    "# #         S[name_s][stack] = 1./2. * 10**2 * s[2]/std\n",
    "#         S[name_s][stack] = 1./6. * (5**2+5*20+20**2)* s[2]/std\n",
    "#         V[name_s][stack] = v\n",
    "        \n",
    "#     axes[li].set_title(name_s);\n",
    "    \n",
    "#     axes[li].boxplot(S[name_s].values(), 0, 'gD');\n",
    "\n",
    "# #     axes[li].boxplot(S.T, 0, 'rs', 0);\n",
    "# #     axes[li].set_xlim([-1e-4, 1e-4]);\n",
    "    \n",
    "# #     axes[li].set_xticks(np.arange(0, 10.));\n",
    "# #     axes[li].set_xticklabels(['e1', 'e2', 'e3']);\n",
    "    \n",
    "# #     axes[li].set_xticks(range(1, 4));\n",
    "# #     axes[li].set_xticklabels(['e1', 'e2', 'e3']);\n",
    "\n",
    "#     axes[li].axhline(0);\n",
    "    \n",
    "#     axes[li].set_ylim([-2., 0]);\n",
    "    \n",
    "    \n",
    "# for li in range(n_lm, len(axes)):\n",
    "#     axes[li].set_visible(False) \n",
    "\n",
    "# plt.show();"
   ]
  },
  {
   "cell_type": "code",
   "execution_count": 24,
   "metadata": {
    "collapsed": false
   },
   "outputs": [
    {
     "name": "stderr",
     "output_type": "stream",
     "text": [
      "/oasis/projects/nsf/csd181/yuncong/virtualenv-1.9.1/yuncongve/lib/python2.7/site-packages/ipykernel/__main__.py:24: RuntimeWarning: divide by zero encountered in divide\n",
      "/oasis/projects/nsf/csd181/yuncong/virtualenv-1.9.1/yuncongve/lib/python2.7/site-packages/ipykernel/__main__.py:24: RuntimeWarning: invalid value encountered in divide\n"
     ]
    },
    {
     "data": {
      "image/png": "[encoded data removed]",
      "text/plain": [
       "<matplotlib.figure.Figure at 0x8771050>"
      ]
     },
     "metadata": {},
     "output_type": "display_data"
    }
   ],
   "source": [
    "# # std-normalized third (smallest) eigenvalue\n",
    "\n",
    "# n_lm = len(hessian_tr_allLandmarks)\n",
    "\n",
    "# fig, axes = plt.subplots(int(np.ceil(n_lm/6.)), 6, \n",
    "#                          figsize=(20, 20), squeeze=True, sharey=True)\n",
    "\n",
    "# axes = axes.flatten()\n",
    "\n",
    "# V = defaultdict(dict)\n",
    "# S = defaultdict(dict)\n",
    "\n",
    "# for li, name_s in enumerate(sorted(hessian_tr_allLandmarks.keys())):\n",
    "\n",
    "#     hs = hessian_tr_allLandmarks[name_s]\n",
    "\n",
    "#     for stack, h in hs.iteritems():\n",
    "        \n",
    "#         std = std_allLandmarks[name_s][stack]\n",
    "        \n",
    "#         q = np.r_[3,7,11]\n",
    "#         h_tr = h[q[:,None], q]\n",
    "#         s, v = np.linalg.eigh(h_tr)\n",
    "#         S[name_s][stack] = s/std\n",
    "#         V[name_s][stack] = v\n",
    "        \n",
    "#     axes[li].set_title(name_s);\n",
    "    \n",
    "#     axes[li].boxplot(np.r_[[ss[2] for ss in S[name_s].itervalues() if all(~np.isnan(ss))]], 0, 'gD');\n",
    "\n",
    "\n",
    "#     axes[li].set_xticks(range(1));\n",
    "#     axes[li].set_xticklabels(['e3']);\n",
    "\n",
    "#     axes[li].axhline(0);\n",
    "    \n",
    "#     axes[li].set_ylim([-0.04, 0.01]);\n",
    "    \n",
    "    \n",
    "# for li in range(n_lm, len(axes)):\n",
    "#     axes[li].set_visible(False) \n",
    "\n",
    "# plt.show();"
   ]
  },
  {
   "cell_type": "code",
   "execution_count": null,
   "metadata": {
    "collapsed": false
   },
   "outputs": [],
   "source": [
    "for v in hessian_tr_allLandmarks2['7N_L'].values():\n",
    "    plt.matshow(v, cmap=plt.cm.gray, vmin=-1e-4, vmax=0);\n",
    "    plt.colorbar();\n",
    "    plt.show();"
   ]
  }
 ],
 "metadata": {
  "kernelspec": {
   "display_name": "Python 2",
   "language": "python",
   "name": "python2"
  },
  "language_info": {
   "codemirror_mode": {
    "name": "ipython",
    "version": 2
   },
   "file_extension": ".py",
   "mimetype": "text/x-python",
   "name": "python",
   "nbconvert_exporter": "python",
   "pygments_lexer": "ipython2",
   "version": "2.7.3"
  }
 },
 "nbformat": 4,
 "nbformat_minor": 0
}
