{
 "cells": [
  {
   "cell_type": "code",
   "execution_count": 4,
   "metadata": {
    "scrolled": true
   },
   "outputs": [
    {
     "name": "stdout",
     "output_type": "stream",
     "text": [
      "The autoreload extension is already loaded. To reload it, use:\n",
      "  %reload_ext autoreload\n",
      "rm -rf /shared/CSHL_data_processed/MD589/MD589_thumbnail_alignedTo_MD589-IHC31-2015.07.30-23.26.22_MD589_1_0091_cropped/MD589-N56-2015.07.30-19.54.42_MD589_3_0168_thumbnail_alignedTo_MD589-IHC31-2015.07.30-23.26.22_MD589_1_0091_cropped.tif && mkdir -p /shared/CSHL_data_processed/MD589/MD589_thumbnail_alignedTo_MD589-IHC31-2015.07.30-23.26.22_MD589_1_0091_cropped\n",
      "aws s3 cp s3://mousebrainatlas-data/CSHL_data_processed/MD589/MD589_thumbnail_alignedTo_MD589-IHC31-2015.07.30-23.26.22_MD589_1_0091_cropped/MD589-N56-2015.07.30-19.54.42_MD589_3_0168_thumbnail_alignedTo_MD589-IHC31-2015.07.30-23.26.22_MD589_1_0091_cropped.tif /shared/CSHL_data_processed/MD589/MD589_thumbnail_alignedTo_MD589-IHC31-2015.07.30-23.26.22_MD589_1_0091_cropped/MD589-N56-2015.07.30-19.54.42_MD589_3_0168_thumbnail_alignedTo_MD589-IHC31-2015.07.30-23.26.22_MD589_1_0091_cropped.tif\n"
     ]
    },
    {
     "name": "stderr",
     "output_type": "stream",
     "text": [
      "No vtk\n",
      "Child returned 0\n",
      "Child returned 0\n",
      "0.47 seconds.\n",
      "/usr/local/lib/python2.7/dist-packages/skimage/external/tifffile/tifffile.py:2611: RuntimeWarning: py_decodelzw encountered unexpected end of stream\n",
      "  strip = decompress(strip)\n",
      "Child returned 0\n"
     ]
    },
    {
     "name": "stdout",
     "output_type": "stream",
     "text": [
      "rm -rf /shared/CSHL_data_processed/MD591/MD591_thumbnail_alignedTo_MD591-N57-2015.09.21-17.13.29_MD591_1_0169_cropped/MD591-IHC28-2015.08.28-05.02.37_MD591_1_0082_thumbnail_alignedTo_MD591-N57-2015.09.21-17.13.29_MD591_1_0169_cropped.tif && mkdir -p /shared/CSHL_data_processed/MD591/MD591_thumbnail_alignedTo_MD591-N57-2015.09.21-17.13.29_MD591_1_0169_cropped\n",
      "aws s3 cp s3://mousebrainatlas-data/CSHL_data_processed/MD591/MD591_thumbnail_alignedTo_MD591-N57-2015.09.21-17.13.29_MD591_1_0169_cropped/MD591-IHC28-2015.08.28-05.02.37_MD591_1_0082_thumbnail_alignedTo_MD591-N57-2015.09.21-17.13.29_MD591_1_0169_cropped.tif /shared/CSHL_data_processed/MD591/MD591_thumbnail_alignedTo_MD591-N57-2015.09.21-17.13.29_MD591_1_0169_cropped/MD591-IHC28-2015.08.28-05.02.37_MD591_1_0082_thumbnail_alignedTo_MD591-N57-2015.09.21-17.13.29_MD591_1_0169_cropped.tif\n"
     ]
    },
    {
     "name": "stderr",
     "output_type": "stream",
     "text": [
      "Child returned 0\n",
      "0.52 seconds.\n",
      "Child returned 0\n"
     ]
    },
    {
     "name": "stdout",
     "output_type": "stream",
     "text": [
      "rm -rf /shared/CSHL_data_processed/MD592/MD592_thumbnail_alignedTo_MD592-IHC59-2015.08.26-00.06.25_MD592_2_0176_cropped/MD592-N53-2015.08.22-03.13.13_MD592_2_0158_thumbnail_alignedTo_MD592-IHC59-2015.08.26-00.06.25_MD592_2_0176_cropped.tif && mkdir -p /shared/CSHL_data_processed/MD592/MD592_thumbnail_alignedTo_MD592-IHC59-2015.08.26-00.06.25_MD592_2_0176_cropped\n",
      "aws s3 cp s3://mousebrainatlas-data/CSHL_data_processed/MD592/MD592_thumbnail_alignedTo_MD592-IHC59-2015.08.26-00.06.25_MD592_2_0176_cropped/MD592-N53-2015.08.22-03.13.13_MD592_2_0158_thumbnail_alignedTo_MD592-IHC59-2015.08.26-00.06.25_MD592_2_0176_cropped.tif /shared/CSHL_data_processed/MD592/MD592_thumbnail_alignedTo_MD592-IHC59-2015.08.26-00.06.25_MD592_2_0176_cropped/MD592-N53-2015.08.22-03.13.13_MD592_2_0158_thumbnail_alignedTo_MD592-IHC59-2015.08.26-00.06.25_MD592_2_0176_cropped.tif\n"
     ]
    },
    {
     "name": "stderr",
     "output_type": "stream",
     "text": [
      "Child returned 0\n",
      "0.47 seconds.\n",
      "Child returned 0\n"
     ]
    },
    {
     "name": "stdout",
     "output_type": "stream",
     "text": [
      "rm -rf /shared/CSHL_data_processed/MD593/MD593_thumbnail_alignedTo_MD593-IHC54-2015.08.25-17.40.32_MD593_2_0161_cropped/MD593-N39-2015.08.21-18.50.29_MD593_1_0115_thumbnail_alignedTo_MD593-IHC54-2015.08.25-17.40.32_MD593_2_0161_cropped.tif && mkdir -p /shared/CSHL_data_processed/MD593/MD593_thumbnail_alignedTo_MD593-IHC54-2015.08.25-17.40.32_MD593_2_0161_cropped\n",
      "aws s3 cp s3://mousebrainatlas-data/CSHL_data_processed/MD593/MD593_thumbnail_alignedTo_MD593-IHC54-2015.08.25-17.40.32_MD593_2_0161_cropped/MD593-N39-2015.08.21-18.50.29_MD593_1_0115_thumbnail_alignedTo_MD593-IHC54-2015.08.25-17.40.32_MD593_2_0161_cropped.tif /shared/CSHL_data_processed/MD593/MD593_thumbnail_alignedTo_MD593-IHC54-2015.08.25-17.40.32_MD593_2_0161_cropped/MD593-N39-2015.08.21-18.50.29_MD593_1_0115_thumbnail_alignedTo_MD593-IHC54-2015.08.25-17.40.32_MD593_2_0161_cropped.tif\n"
     ]
    },
    {
     "name": "stderr",
     "output_type": "stream",
     "text": [
      "Child returned 0\n",
      "0.47 seconds.\n",
      "Child returned 0\n"
     ]
    },
    {
     "name": "stdout",
     "output_type": "stream",
     "text": [
      "rm -rf /shared/CSHL_data_processed/MD594/MD594_thumbnail_alignedTo_MD594-IHC58-2015.08.26-18.48.50_MD594_1_0172_cropped/MD594-N19-2015.08.26-21.55.55_MD594_1_0055_thumbnail_alignedTo_MD594-IHC58-2015.08.26-18.48.50_MD594_1_0172_cropped.tif && mkdir -p /shared/CSHL_data_processed/MD594/MD594_thumbnail_alignedTo_MD594-IHC58-2015.08.26-18.48.50_MD594_1_0172_cropped\n",
      "aws s3 cp s3://mousebrainatlas-data/CSHL_data_processed/MD594/MD594_thumbnail_alignedTo_MD594-IHC58-2015.08.26-18.48.50_MD594_1_0172_cropped/MD594-N19-2015.08.26-21.55.55_MD594_1_0055_thumbnail_alignedTo_MD594-IHC58-2015.08.26-18.48.50_MD594_1_0172_cropped.tif /shared/CSHL_data_processed/MD594/MD594_thumbnail_alignedTo_MD594-IHC58-2015.08.26-18.48.50_MD594_1_0172_cropped/MD594-N19-2015.08.26-21.55.55_MD594_1_0055_thumbnail_alignedTo_MD594-IHC58-2015.08.26-18.48.50_MD594_1_0172_cropped.tif\n"
     ]
    },
    {
     "name": "stderr",
     "output_type": "stream",
     "text": [
      "Child returned 0\n",
      "0.45 seconds.\n",
      "Child returned 0\n"
     ]
    },
    {
     "name": "stdout",
     "output_type": "stream",
     "text": [
      "rm -rf /shared/CSHL_data_processed/MD598/MD598_thumbnail_alignedTo_MD598-N42-2015.09.29-19.26.12_MD598_2_0125_cropped/MD598-IHC26-2015.09.29-23.54.01_MD598_3_0078_thumbnail_alignedTo_MD598-N42-2015.09.29-19.26.12_MD598_2_0125_cropped.tif && mkdir -p /shared/CSHL_data_processed/MD598/MD598_thumbnail_alignedTo_MD598-N42-2015.09.29-19.26.12_MD598_2_0125_cropped\n",
      "aws s3 cp s3://mousebrainatlas-data/CSHL_data_processed/MD598/MD598_thumbnail_alignedTo_MD598-N42-2015.09.29-19.26.12_MD598_2_0125_cropped/MD598-IHC26-2015.09.29-23.54.01_MD598_3_0078_thumbnail_alignedTo_MD598-N42-2015.09.29-19.26.12_MD598_2_0125_cropped.tif /shared/CSHL_data_processed/MD598/MD598_thumbnail_alignedTo_MD598-N42-2015.09.29-19.26.12_MD598_2_0125_cropped/MD598-IHC26-2015.09.29-23.54.01_MD598_3_0078_thumbnail_alignedTo_MD598-N42-2015.09.29-19.26.12_MD598_2_0125_cropped.tif\n"
     ]
    },
    {
     "name": "stderr",
     "output_type": "stream",
     "text": [
      "Child returned 0\n",
      "0.52 seconds.\n",
      "Child returned 0\n"
     ]
    },
    {
     "name": "stdout",
     "output_type": "stream",
     "text": [
      "rm -rf /shared/CSHL_data_processed/MD653/MD653_thumbnail_alignedTo_MD653-F64-2016.12.21-12.03.55_MD653_2_0191_cropped/MD653-F16-2016.12.20-21.19.34_MD653_2_0047_thumbnail_alignedTo_MD653-F64-2016.12.21-12.03.55_MD653_2_0191_cropped.tif && mkdir -p /shared/CSHL_data_processed/MD653/MD653_thumbnail_alignedTo_MD653-F64-2016.12.21-12.03.55_MD653_2_0191_cropped\n",
      "aws s3 cp s3://mousebrainatlas-data/CSHL_data_processed/MD653/MD653_thumbnail_alignedTo_MD653-F64-2016.12.21-12.03.55_MD653_2_0191_cropped/MD653-F16-2016.12.20-21.19.34_MD653_2_0047_thumbnail_alignedTo_MD653-F64-2016.12.21-12.03.55_MD653_2_0191_cropped.tif /shared/CSHL_data_processed/MD653/MD653_thumbnail_alignedTo_MD653-F64-2016.12.21-12.03.55_MD653_2_0191_cropped/MD653-F16-2016.12.20-21.19.34_MD653_2_0047_thumbnail_alignedTo_MD653-F64-2016.12.21-12.03.55_MD653_2_0191_cropped.tif\n"
     ]
    },
    {
     "name": "stderr",
     "output_type": "stream",
     "text": [
      "Child returned 0\n",
      "0.46 seconds.\n",
      "Child returned 0\n"
     ]
    },
    {
     "name": "stdout",
     "output_type": "stream",
     "text": [
      "rm -rf /shared/CSHL_data_processed/MD652/MD652_thumbnail_alignedTo_MD652-F45-2016.12.17-05.56.31_MD652_2_0134_cropped/MD652-F17-2016.12.16-21.14.41_MD652_1_0049_thumbnail_alignedTo_MD652-F45-2016.12.17-05.56.31_MD652_2_0134_cropped.tif && mkdir -p /shared/CSHL_data_processed/MD652/MD652_thumbnail_alignedTo_MD652-F45-2016.12.17-05.56.31_MD652_2_0134_cropped\n",
      "aws s3 cp s3://mousebrainatlas-data/CSHL_data_processed/MD652/MD652_thumbnail_alignedTo_MD652-F45-2016.12.17-05.56.31_MD652_2_0134_cropped/MD652-F17-2016.12.16-21.14.41_MD652_1_0049_thumbnail_alignedTo_MD652-F45-2016.12.17-05.56.31_MD652_2_0134_cropped.tif /shared/CSHL_data_processed/MD652/MD652_thumbnail_alignedTo_MD652-F45-2016.12.17-05.56.31_MD652_2_0134_cropped/MD652-F17-2016.12.16-21.14.41_MD652_1_0049_thumbnail_alignedTo_MD652-F45-2016.12.17-05.56.31_MD652_2_0134_cropped.tif\n"
     ]
    },
    {
     "name": "stderr",
     "output_type": "stream",
     "text": [
      "Child returned 0\n",
      "0.47 seconds.\n",
      "Child returned 0\n"
     ]
    },
    {
     "name": "stdout",
     "output_type": "stream",
     "text": [
      "rm -rf /shared/CSHL_data_processed/MD642/MD642_thumbnail_alignedTo_MD642-F53-2017.01.14-12.23.43_MD642_1_0157_cropped/MD642-F53-2017.01.14-12.23.43_MD642_1_0157_thumbnail_alignedTo_MD642-F53-2017.01.14-12.23.43_MD642_1_0157_cropped.tif && mkdir -p /shared/CSHL_data_processed/MD642/MD642_thumbnail_alignedTo_MD642-F53-2017.01.14-12.23.43_MD642_1_0157_cropped\n",
      "aws s3 cp s3://mousebrainatlas-data/CSHL_data_processed/MD642/MD642_thumbnail_alignedTo_MD642-F53-2017.01.14-12.23.43_MD642_1_0157_cropped/MD642-F53-2017.01.14-12.23.43_MD642_1_0157_thumbnail_alignedTo_MD642-F53-2017.01.14-12.23.43_MD642_1_0157_cropped.tif /shared/CSHL_data_processed/MD642/MD642_thumbnail_alignedTo_MD642-F53-2017.01.14-12.23.43_MD642_1_0157_cropped/MD642-F53-2017.01.14-12.23.43_MD642_1_0157_thumbnail_alignedTo_MD642-F53-2017.01.14-12.23.43_MD642_1_0157_cropped.tif\n"
     ]
    },
    {
     "name": "stderr",
     "output_type": "stream",
     "text": [
      "Child returned 0\n",
      "0.46 seconds.\n",
      "Child returned 0\n"
     ]
    },
    {
     "name": "stdout",
     "output_type": "stream",
     "text": [
      "rm -rf /shared/CSHL_data_processed/MD657/MD657_thumbnail_alignedTo_MD657-F44-2017.02.18-06.06.27_MD657_1_0130_cropped/MD657-N46-2017.02.22-16.33.47_MD657_2_0137_thumbnail_alignedTo_MD657-F44-2017.02.18-06.06.27_MD657_1_0130_cropped.tif && mkdir -p /shared/CSHL_data_processed/MD657/MD657_thumbnail_alignedTo_MD657-F44-2017.02.18-06.06.27_MD657_1_0130_cropped\n",
      "aws s3 cp s3://mousebrainatlas-data/CSHL_data_processed/MD657/MD657_thumbnail_alignedTo_MD657-F44-2017.02.18-06.06.27_MD657_1_0130_cropped/MD657-N46-2017.02.22-16.33.47_MD657_2_0137_thumbnail_alignedTo_MD657-F44-2017.02.18-06.06.27_MD657_1_0130_cropped.tif /shared/CSHL_data_processed/MD657/MD657_thumbnail_alignedTo_MD657-F44-2017.02.18-06.06.27_MD657_1_0130_cropped/MD657-N46-2017.02.22-16.33.47_MD657_2_0137_thumbnail_alignedTo_MD657-F44-2017.02.18-06.06.27_MD657_1_0130_cropped.tif\n"
     ]
    },
    {
     "name": "stderr",
     "output_type": "stream",
     "text": [
      "Child returned 0\n",
      "0.47 seconds.\n",
      "Child returned 0\n"
     ]
    },
    {
     "name": "stdout",
     "output_type": "stream",
     "text": [
      "rm -rf /shared/CSHL_data_processed/MD658/MD658_thumbnail_alignedTo_MD658-N58-2017.03.31-19.59.31_MD658_2_0173_cropped/MD658-F61-2017.04.05-07.03.26_MD658_1_0181_thumbnail_alignedTo_MD658-N58-2017.03.31-19.59.31_MD658_2_0173_cropped.tif && mkdir -p /shared/CSHL_data_processed/MD658/MD658_thumbnail_alignedTo_MD658-N58-2017.03.31-19.59.31_MD658_2_0173_cropped\n",
      "aws s3 cp s3://mousebrainatlas-data/CSHL_data_processed/MD658/MD658_thumbnail_alignedTo_MD658-N58-2017.03.31-19.59.31_MD658_2_0173_cropped/MD658-F61-2017.04.05-07.03.26_MD658_1_0181_thumbnail_alignedTo_MD658-N58-2017.03.31-19.59.31_MD658_2_0173_cropped.tif /shared/CSHL_data_processed/MD658/MD658_thumbnail_alignedTo_MD658-N58-2017.03.31-19.59.31_MD658_2_0173_cropped/MD658-F61-2017.04.05-07.03.26_MD658_1_0181_thumbnail_alignedTo_MD658-N58-2017.03.31-19.59.31_MD658_2_0173_cropped.tif\n"
     ]
    },
    {
     "name": "stderr",
     "output_type": "stream",
     "text": [
      "Child returned 0\n",
      "0.52 seconds.\n"
     ]
    }
   ],
   "source": [
    "%load_ext autoreload\n",
    "%autoreload 2\n",
    "\n",
    "import sys\n",
    "import os\n",
    "import time\n",
    "\n",
    "import matplotlib.pyplot as plt\n",
    "%matplotlib inline\n",
    "import numpy as np\n",
    "\n",
    "sys.path.append(os.path.join(os.environ['REPO_DIR'], 'utilities'))\n",
    "from utilities2015 import *\n",
    "from metadata import *\n",
    "from data_manager import *"
   ]
  },
  {
   "cell_type": "code",
   "execution_count": 20,
   "metadata": {},
   "outputs": [],
   "source": [
    "stack = 'MD635'\n",
    "classifier_id = 38\n",
    "warp_setting = 13"
   ]
  },
  {
   "cell_type": "code",
   "execution_count": 21,
   "metadata": {},
   "outputs": [
    {
     "name": "stdout",
     "output_type": "stream",
     "text": [
      "[  8.82066319e-01   2.77094761e-01   8.35161052e-04   6.82428318e+01\n",
      "  -2.50786335e-01   9.62855986e-01  -5.21959031e-02   2.38193201e+01\n",
      "  -1.38983984e-02   5.63162842e-02   1.03748125e+00   1.04563022e+01]\n",
      "[  8.82954759e-01   2.75863985e-01   1.16130190e-04   6.85788981e+01\n",
      "  -2.65738220e-01   9.81296970e-01  -5.53344425e-02   2.11468022e+01\n",
      "  -2.87106897e-02   4.36971292e-02   1.03103534e+00   9.99168360e+00]\n",
      "[  8.81866763e-01   2.77236837e-01   9.28860723e-04   6.85690787e+01\n",
      "  -2.47866927e-01   9.59341779e-01  -5.17804459e-02   2.38932669e+01\n",
      "  -1.26126775e-02   5.26254488e-02   1.03789169e+00   1.06305071e+01]\n",
      "[  7.66255752e-01   1.53190237e-01  -4.75137298e-02  -4.68299989e+01\n",
      "  -4.48523349e-01   7.17032061e-01  -8.77109763e-02   7.83247753e+01\n",
      "  -2.59501049e-02   9.02749242e-02   9.76831820e-01   1.00278099e+01]\n",
      "[  8.81398330e-01   2.78273788e-01   5.14403466e-04   6.84263313e+01\n",
      "  -2.48482293e-01   9.58998935e-01  -5.12742776e-02   2.39329783e+01\n",
      "  -1.28297749e-02   5.29161985e-02   1.03876202e+00   1.05182227e+01]\n"
     ]
    }
   ],
   "source": [
    "for trial_idx in range(5):\n",
    "    try:\n",
    "        T = DataManager.load_alignment_parameters(stack_m='atlasV4', stack_f=stack, warp_setting=warp_setting, \n",
    "                                               classifier_setting_m=classifier_id, classifier_setting_f=classifier_id, \n",
    "                                                    downscale=32, trial_idx=trial_idx)[0]\n",
    "        print T\n",
    "    except Exception as e:\n",
    "        sys.stderr.write('Scores for trial %d does not exist.\\n' % (trial_idx))\n",
    "        continue"
   ]
  },
  {
   "cell_type": "code",
   "execution_count": 13,
   "metadata": {
    "collapsed": true
   },
   "outputs": [],
   "source": [
    "# OLD"
   ]
  },
  {
   "cell_type": "code",
   "execution_count": 4,
   "metadata": {
    "collapsed": true
   },
   "outputs": [],
   "source": [
    "T_final = {}\n",
    "\n",
    "for i, stack in enumerate(['MD594', 'MD585', 'MD593', 'MD592', 'MD590', 'MD591', 'MD595', 'MD598', 'MD602']):\n",
    "\n",
    "    with open(atlasAlignParams_rootdir + '/%(stack)s/%(stack)s_3dAlignParams.txt' % {'stack': stack}, 'r') as f:\n",
    "        lines = f.readlines()\n",
    "\n",
    "    T_final[stack] = np.array(map(float, lines[1].strip().split()))"
   ]
  },
  {
   "cell_type": "code",
   "execution_count": 7,
   "metadata": {
    "collapsed": true
   },
   "outputs": [],
   "source": [
    "volume_dir = '/oasis/projects/nsf/csd395/yuncong/CSHL_volumes/'"
   ]
  },
  {
   "cell_type": "code",
   "execution_count": 28,
   "metadata": {
    "collapsed": true
   },
   "outputs": [],
   "source": [
    "atlas_vol_xmin, atlas_vol_xmax, atlas_vol_ymin, atlas_vol_ymax, atlas_vol_zmin, atlas_vol_zmax = \\\n",
    "np.loadtxt(os.path.join(volume_dir, 'volume_MD589_annotation_limits.txt'))\n",
    "\n",
    "atlas_xdim = atlas_vol_xmax - atlas_vol_xmin\n",
    "atlas_ydim = atlas_vol_ymax - atlas_vol_ymin\n",
    "atlas_zdim = atlas_vol_zmax - atlas_vol_zmin\n",
    "atlas_centroid = atlas_xdim/2, atlas_ydim/2, atlas_zdim/2"
   ]
  },
  {
   "cell_type": "code",
   "execution_count": 34,
   "metadata": {},
   "outputs": [],
   "source": [
    "test_centroid_allStacks = {}\n",
    "\n",
    "for i, stack in enumerate(['MD594', 'MD585', 'MD593', 'MD592', 'MD590', 'MD591', 'MD595', 'MD598', 'MD602']):\n",
    "\n",
    "    (volume_xmin, volume_xmax, volume_ymin, volume_ymax, volume_zmin, volume_zmax) = \\\n",
    "    np.loadtxt(os.path.join(volume_dir, 'volume_%(stack)s_scoreMap_limits.txt' % {'stack': stack}), dtype=np.int)\n",
    "\n",
    "    test_xdim = volume_xmax - volume_xmin\n",
    "    test_ydim = volume_ymax - volume_ymin\n",
    "    test_zdim = volume_zmax - volume_zmin\n",
    "    test_centroid = test_xdim/2., test_ydim/2., test_zdim/2.\n",
    "    \n",
    "    test_centroid_allStacks[stack] = test_centroid"
   ]
  },
  {
   "cell_type": "code",
   "execution_count": 36,
   "metadata": {
    "scrolled": true
   },
   "outputs": [
    {
     "name": "stdout",
     "output_type": "stream",
     "text": [
      "MD602 0.987734498021\n",
      "MD592 1.03443057141\n",
      "MD593 0.933010229426\n",
      "MD590 0.860119835903\n",
      "MD591 0.890202584096\n",
      "MD585 0.814240973453\n",
      "MD594 0.877898376041\n",
      "MD595 0.943566122321\n",
      "MD598 0.598214943664\n"
     ]
    }
   ],
   "source": [
    "for stack, T in T_final.iteritems():\n",
    "    Tm = np.reshape(T, (3,4))\n",
    "    t = Tm[:, 3]\n",
    "    A = Tm[:, :3]\n",
    "    print stack, np.linalg.det(A)"
   ]
  }
 ],
 "metadata": {
  "kernelspec": {
   "display_name": "Python 2",
   "language": "python",
   "name": "python2"
  },
  "language_info": {
   "codemirror_mode": {
    "name": "ipython",
    "version": 2
   },
   "file_extension": ".py",
   "mimetype": "text/x-python",
   "name": "python",
   "nbconvert_exporter": "python",
   "pygments_lexer": "ipython2",
   "version": "2.7.12"
  }
 },
 "nbformat": 4,
 "nbformat_minor": 1
}
