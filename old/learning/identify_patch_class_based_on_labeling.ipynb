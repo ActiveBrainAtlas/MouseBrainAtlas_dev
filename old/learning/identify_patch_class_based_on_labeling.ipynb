{
 "cells": [
  {
   "cell_type": "code",
   "execution_count": 1,
   "metadata": {},
   "outputs": [
    {
     "name": "stdout",
     "output_type": "stream",
     "text": [
      "Setting environment for Precision WorkStation\n"
     ]
    },
    {
     "name": "stderr",
     "output_type": "stream",
     "text": [
      "No vtk\n",
      "/usr/local/lib/python2.7/dist-packages/sklearn/cross_validation.py:44: DeprecationWarning: This module was deprecated in version 0.18 in favor of the model_selection module into which all the refactored classes and functions are moved. Also note that the interface of the new CV iterators are different from that of this module. This module will be removed in 0.20.\n",
      "  \"This module will be removed in 0.20.\", DeprecationWarning)\n"
     ]
    }
   ],
   "source": [
    "%load_ext autoreload\n",
    "%autoreload 2\n",
    "\n",
    "import sys\n",
    "import os\n",
    "import time\n",
    "\n",
    "sys.path.append(os.environ['REPO_DIR'] + '/utilities')\n",
    "from utilities2015 import *\n",
    "from metadata import *\n",
    "from data_manager import *\n",
    "from learning_utilities import *"
   ]
  },
  {
   "cell_type": "markdown",
   "metadata": {},
   "source": [
    "# Based on human annotation"
   ]
  },
  {
   "cell_type": "code",
   "execution_count": 2,
   "metadata": {},
   "outputs": [
    {
     "data": {
      "text/plain": [
       "{1: {'patch_size': 224, 'spacing': 56},\n",
       " 2: {'comment': 'larger margin', 'patch_size': 224, 'spacing': 56},\n",
       " 3: {'comment': 'smaller spacing', 'patch_size': 224, 'spacing': 32},\n",
       " 4: {'comment': 'smaller spacing', 'patch_size': 224, 'spacing': 128},\n",
       " 5: {'comment': 'smaller spacing', 'patch_size': 224, 'spacing': 64},\n",
       " 6: {'comment': 'twice as large patch', 'patch_size': 448, 'spacing': 64},\n",
       " 7: {'comment': 'specify size/spacing in terms of microns rather than pixels',\n",
       "  'patch_size_um': 103.04,\n",
       "  'spacing_um': 30},\n",
       " 8: {'comment': 'larger patch', 'patch_size_um': 206.08, 'spacing_um': 30},\n",
       " 9: {'comment': 'larger patch', 'patch_size_um': 412.16, 'spacing_um': 30},\n",
       " 10: {'comment': 'larger patch', 'patch_size_um': 824.32, 'spacing_um': 30}}"
      ]
     },
     "execution_count": 2,
     "metadata": {},
     "output_type": "execute_result"
    }
   ],
   "source": [
    "windowing_settings"
   ]
  },
  {
   "cell_type": "code",
   "execution_count": null,
   "metadata": {
    "scrolled": true
   },
   "outputs": [],
   "source": [
    "win_id = 7\n",
    "for stack in ['MD585', 'MD594', 'MD589']:\n",
    "    grid_index_class_lookup, latest_timestamp = generate_annotation_to_grid_indices_lookup(stack, win_id=win_id, by_human=True, \n",
    "                                                                         suffix='contours', timestamp='latest',\n",
    "                                                                         surround_margins=[200, 500],\n",
    "                                                                        return_timestamp=True)\n",
    "    \n",
    "    grid_index_class_lookup_fp = \\\n",
    "    DataManager.get_annotation_to_grid_indices_lookup_filepath(stack=stack, win_id=win_id, \n",
    "                                                               by_human=True, timestamp=latest_timestamp)\n",
    "    print grid_index_class_lookup_fp\n",
    "\n",
    "    save_hdf_v2(grid_index_class_lookup, grid_index_class_lookup_fp)\n",
    "    upload_to_s3(grid_index_class_lookup_fp)"
   ]
  },
  {
   "cell_type": "code",
   "execution_count": null,
   "metadata": {
    "collapsed": true
   },
   "outputs": [],
   "source": [
    "# win_id = 3\n",
    "# windowing_properties = windowing_settings[win_id]\n",
    "# patch_size = windowing_properties['patch_size']\n",
    "# spacing = windowing_properties['spacing']\n",
    "# w, h = metadata_cache['image_shape'][stack]\n",
    "# half_size = patch_size/2\n",
    "# grid_spec = (patch_size, spacing, w, h)"
   ]
  },
  {
   "cell_type": "markdown",
   "metadata": {},
   "source": [
    "# TEST"
   ]
  },
  {
   "cell_type": "code",
   "execution_count": null,
   "metadata": {
    "collapsed": true
   },
   "outputs": [],
   "source": [
    "from shapely.geometry import Polygon, Point"
   ]
  },
  {
   "cell_type": "code",
   "execution_count": null,
   "metadata": {},
   "outputs": [],
   "source": [
    "warped_volumes = DataManager.load_transformed_volume_all_known_structures(stack_m='atlasV5', \n",
    "                                                                      stack_f='MD662',\n",
    "                                                                        detector_id_f=1,\n",
    "                                                                      prep_id_f=2,\n",
    "                                                                        warp_setting=17, \n",
    "                                                                      sided=True)"
   ]
  },
  {
   "cell_type": "code",
   "execution_count": null,
   "metadata": {},
   "outputs": [],
   "source": [
    "area_all_levels = defaultdict(lambda: defaultdict(dict))\n",
    "positive_patch_numbers_all_levels = defaultdict(lambda: defaultdict(dict))\n",
    "\n",
    "stack = 'MD662'\n",
    "win_id = 5\n",
    "surround_margins = [200]\n",
    "\n",
    "for level in np.arange(0, 1, 0.1):\n",
    "    structure_contours_pos_level = \\\n",
    "    get_structure_contours_from_aligned_atlas({'3N_L': warped_volumes['3N_L']}, volume_origin=(0,0,0), \n",
    "                                              sections=metadata_cache['valid_sections'][stack], \n",
    "                                              downsample_factor=32, level=level, \n",
    "                                              sample_every=1, \n",
    "                                              first_sec=metadata_cache['section_limits'][stack][0])\n",
    "\n",
    "    for sec, x in structure_contours_pos_level.iteritems():\n",
    "        for name_s, v in x.iteritems():\n",
    "            area_all_levels[name_s][sec][level] = Polygon(v).area\n",
    "            \n",
    "    grid_spec = win_id_to_gridspec(win_id, stack=stack)\n",
    "\n",
    "    sections = structure_contours_pos_level.keys()\n",
    "\n",
    "    for sec in sections:\n",
    "        sys.stderr.write('Computing grid indices lookup for section %d...\\n' % sec)\n",
    "        if is_invalid(sec=sec, stack=stack):\n",
    "            continue\n",
    "\n",
    "        mask_tb = DataManager.load_thumbnail_mask_v3(stack=stack, section=sec, prep_id=2)\n",
    "\n",
    "        q = locate_patches_v2(grid_spec=grid_spec, mask_tb=mask_tb, \\\n",
    "                              polygons=structure_contours_pos_level[sec].items(), \\\n",
    "                          surround_margins=surround_margins, categories=['positive'])\n",
    "\n",
    "        for name_s, grid_ids in q.iteritems():\n",
    "            positive_patch_numbers_all_levels[name_s][sec][level] = len(grid_ids)\n",
    "            \n",
    "save_json(positive_patch_numbers_all_levels, '/tmp/positive_patch_numbers_all_levels.json')\n",
    "save_json(area_all_levels, '/tmp/area_all_levels.json')"
   ]
  },
  {
   "cell_type": "code",
   "execution_count": null,
   "metadata": {
    "collapsed": true
   },
   "outputs": [],
   "source": [
    "# positive_patch_numbers_all_levels = load_json('/tmp/positive_patch_numbers_all_levels.json')"
   ]
  },
  {
   "cell_type": "code",
   "execution_count": null,
   "metadata": {
    "scrolled": true
   },
   "outputs": [],
   "source": [
    "for name_s, x in positive_patch_numbers_all_levels.iteritems():\n",
    "    for sec, y in sorted(x.items()):\n",
    "        y2 = {float('%.2f' % float(level)): yy for level, yy in sorted(y.items())}\n",
    "        print sec, sorted(y.keys())[-1], sorted(y2.items())"
   ]
  },
  {
   "cell_type": "code",
   "execution_count": null,
   "metadata": {
    "collapsed": true
   },
   "outputs": [],
   "source": [
    "for level, x in area_all_levels.iteritems():\n",
    "    for sec, y in x.iteritems():\n",
    "        for name_s, a in y.iteritems():\n",
    "            if name_s == '10N_L':\n",
    "                print name_s, sec, a"
   ]
  },
  {
   "cell_type": "markdown",
   "metadata": {},
   "source": [
    "# TEST END"
   ]
  },
  {
   "cell_type": "markdown",
   "metadata": {},
   "source": [
    "# Based on aligned atlas"
   ]
  },
  {
   "cell_type": "code",
   "execution_count": null,
   "metadata": {
    "collapsed": true,
    "scrolled": true
   },
   "outputs": [],
   "source": [
    "positive_level = {}\n",
    "for name_u in all_known_structures:\n",
    "    if name_u == '4N':\n",
    "        positive_level[name_u] = 0.6\n",
    "    elif name_u == '10N':\n",
    "        positive_level[name_u] = 0.7\n",
    "    else:\n",
    "        positive_level[name_u] = 0.8\n",
    "        \n",
    "# positive_level = 0.8"
   ]
  },
  {
   "cell_type": "code",
   "execution_count": null,
   "metadata": {
    "collapsed": true
   },
   "outputs": [],
   "source": [
    "from learning_utilities import *"
   ]
  },
  {
   "cell_type": "code",
   "execution_count": null,
   "metadata": {
    "scrolled": true
   },
   "outputs": [],
   "source": [
    "# stack = 'ChatCryoJane201710'\n",
    "for stack in [\n",
    " 'MD652',\n",
    " 'MD653',\n",
    " 'MD657',\n",
    "'MD658']:\n",
    "    win_id = 5\n",
    "    detector_id = 13\n",
    "    grid_index_class_lookup = generate_annotation_to_grid_indices_lookup(stack=stack, win_id=win_id, by_human=False, \n",
    "                                                                                    detector_id_f=detector_id,\n",
    "                                                                        surround_margins=[200],\n",
    "                                                                        positive_level=0.8, negative_level=0.1)\n",
    "    grid_index_class_lookup_fp = \\\n",
    "DataManager.get_annotation_to_grid_indices_lookup_filepath(stack=stack, win_id=win_id, by_human=False, \n",
    "                                                                     stack_m='atlasV5', \n",
    "                                                                                detector_id_f=detector_id,\n",
    "                                                          timestamp='now')\n",
    "    save_hdf_v2(grid_index_class_lookup, grid_index_class_lookup_fp)\n",
    "    upload_to_s3(grid_index_class_lookup_fp)"
   ]
  },
  {
   "cell_type": "code",
   "execution_count": null,
   "metadata": {},
   "outputs": [],
   "source": [
    "# stack = 'ChatCryoJane201710'\n",
    "for stack in [\n",
    " 'MD661',\n",
    " 'MD662']:\n",
    "    win_id = 7\n",
    "    detector_id = 1\n",
    "    grid_index_class_lookup = generate_annotation_to_grid_indices_lookup(stack=stack, win_id=win_id, by_human=False, \n",
    "                                                                                    detector_id_f=detector_id,\n",
    "                                                                        surround_margins=[200],\n",
    "                                                                        positive_level=positive_level, \n",
    "                                                                         negative_level=0.1)\n",
    "    grid_index_class_lookup_fp = \\\n",
    "DataManager.get_annotation_to_grid_indices_lookup_filepath(stack=stack, win_id=win_id, by_human=False, \n",
    "                                                                     stack_m='atlasV5', \n",
    "                                                                                detector_id_f=detector_id,\n",
    "                                                          timestamp='now')\n",
    "    save_hdf_v2(grid_index_class_lookup, grid_index_class_lookup_fp)\n",
    "    upload_to_s3(grid_index_class_lookup_fp)"
   ]
  },
  {
   "cell_type": "markdown",
   "metadata": {},
   "source": [
    "# Use human-corrected structure annotation file"
   ]
  },
  {
   "cell_type": "code",
   "execution_count": null,
   "metadata": {
    "collapsed": true
   },
   "outputs": [],
   "source": [
    "positive_level = {}\n",
    "for name_u in all_known_structures:\n",
    "    if name_u == '4N':\n",
    "        positive_level[name_u] = 0.6\n",
    "    elif name_u == '10N':\n",
    "        positive_level[name_u] = 0.7\n",
    "    else:\n",
    "        positive_level[name_u] = 0.8\n",
    "        \n",
    "# positive_level = 0.8"
   ]
  },
  {
   "cell_type": "code",
   "execution_count": null,
   "metadata": {},
   "outputs": [],
   "source": [
    "# stack = 'ChatCryoJane201710'\n",
    "for stack in [\n",
    " 'MD661']:\n",
    "    win_id = 7\n",
    "    grid_index_class_lookup = generate_annotation_to_grid_indices_lookup(stack=stack, win_id=win_id, by_human=True, \n",
    "                                                                        surround_margins=[200, 500],\n",
    "                                                                        positive_level=positive_level, \n",
    "                                                                         negative_level=0.1,\n",
    "                                                                        suffix='structures')\n",
    "    grid_index_class_lookup_fp = \\\n",
    "DataManager.get_annotation_to_grid_indices_lookup_filepath(stack=stack, win_id=win_id, by_human=True, \n",
    "                                                           timestamp='02062018184326',\n",
    "                                                          suffix='structures')\n",
    "    \n",
    "    save_hdf_v2(grid_index_class_lookup, grid_index_class_lookup_fp)\n",
    "    upload_to_s3(grid_index_class_lookup_fp)"
   ]
  },
  {
   "cell_type": "code",
   "execution_count": null,
   "metadata": {
    "scrolled": true
   },
   "outputs": [],
   "source": [
    "grid_index_class_lookup_fp = \\\n",
    "DataManager.get_annotation_to_grid_indices_lookup_filepath(stack=stack, win_id=win_id, by_human=True, \n",
    "                                                       timestamp='02062018184326',\n",
    "                                                      suffix='structures')\n",
    "\n",
    "save_hdf_v2(grid_index_class_lookup, grid_index_class_lookup_fp)\n",
    "upload_to_s3(grid_index_class_lookup_fp)"
   ]
  },
  {
   "cell_type": "code",
   "execution_count": null,
   "metadata": {},
   "outputs": [],
   "source": [
    "%load_ext autoreload\n",
    "%autoreload 2\n",
    "\n",
    "from data_manager import *"
   ]
  },
  {
   "cell_type": "code",
   "execution_count": null,
   "metadata": {
    "scrolled": true
   },
   "outputs": [],
   "source": [
    "grid_index_class_lookup_fp = \\\n",
    "DataManager.get_annotation_to_grid_indices_lookup_filepath(stack=stack, win_id=win_id, by_human=True, \n",
    "                                                           timestamp='02062018184326',\n",
    "                                                          suffix='structures')"
   ]
  },
  {
   "cell_type": "code",
   "execution_count": null,
   "metadata": {},
   "outputs": [],
   "source": [
    "grid_index_class_lookup_fp"
   ]
  },
  {
   "cell_type": "markdown",
   "metadata": {},
   "source": [
    "# Examine"
   ]
  },
  {
   "cell_type": "code",
   "execution_count": null,
   "metadata": {
    "collapsed": true
   },
   "outputs": [],
   "source": [
    "%matplotlib inline"
   ]
  },
  {
   "cell_type": "code",
   "execution_count": null,
   "metadata": {
    "collapsed": true
   },
   "outputs": [],
   "source": [
    "sec = 150"
   ]
  },
  {
   "cell_type": "code",
   "execution_count": null,
   "metadata": {},
   "outputs": [],
   "source": [
    "# img = DataManager.load_image_v2(stack=stack, section=sec, prep_id=2, version='gray')\n",
    "img = DataManager.load_image_v2(stack=stack, section=sec, prep_id=2)"
   ]
  },
  {
   "cell_type": "code",
   "execution_count": null,
   "metadata": {},
   "outputs": [],
   "source": [
    "viz = img.copy()\n",
    "\n",
    "# for s in ['VCA', 'VCP']:\n",
    "for s in ['7N', '7N_surround_200_noclass', \n",
    "          '5N_surround_200_noclass',\n",
    "         'Pn_surround_200_noclass']:\n",
    "    all_locs = grid_parameters_to_sample_locations(win_id=win_id, stack=stack)\n",
    "    if not sec in grid_index_class_lookup[s].dropna():\n",
    "        sys.stderr.write(\"No %s patches on section %d.\\n\" % (s, sec))\n",
    "        continue\n",
    "    for x, y in all_locs[grid_index_class_lookup[s][sec]]:\n",
    "        cv2.circle(viz, (x,y), 20, (255,0,0), 3)"
   ]
  },
  {
   "cell_type": "code",
   "execution_count": null,
   "metadata": {
    "collapsed": true,
    "scrolled": true
   },
   "outputs": [],
   "source": [
    "# viz = img.copy()\n",
    "\n",
    "# # for s in ['VCA', 'VCP']:\n",
    "# for s in ['7N_L', '7N_L_surround_200_noclass', \n",
    "#           '5N_L_surround_200_noclass',\n",
    "#          'Pn_L_surround_200_noclass']:\n",
    "#     all_locs = grid_parameters_to_sample_locations(win_id=win_id, stack=stack)\n",
    "#     if not sec in grid_index_class_lookup[s].dropna():\n",
    "#         sys.stderr.write(\"No %s patches on section %d.\\n\" % (s, sec))\n",
    "#         continue\n",
    "#     for x, y in all_locs[grid_index_class_lookup[s][sec]]:\n",
    "#         cv2.circle(viz, (x,y), 20, (255,0,0), 3)"
   ]
  },
  {
   "cell_type": "code",
   "execution_count": null,
   "metadata": {
    "scrolled": true
   },
   "outputs": [],
   "source": [
    "display_image(viz[::4, ::4])"
   ]
  },
  {
   "cell_type": "markdown",
   "metadata": {},
   "source": [
    "# Save and Upload"
   ]
  },
  {
   "cell_type": "code",
   "execution_count": null,
   "metadata": {},
   "outputs": [],
   "source": [
    "grid_index_class_lookup_fp = \\\n",
    "DataManager.get_annotation_to_grid_indices_lookup_filepath(stack=stack, win_id=win_id, \n",
    "                                                           by_human=True, timestamp=latest_timestamp)\n",
    "print grid_index_class_lookup_fp"
   ]
  },
  {
   "cell_type": "code",
   "execution_count": null,
   "metadata": {
    "collapsed": true
   },
   "outputs": [],
   "source": [
    "grid_index_class_lookup_fp = \\\n",
    "DataManager.get_annotation_to_grid_indices_lookup_filepath(stack=stack, win_id=win_id, by_human=False, \n",
    "                                                                     stack_m='atlasV5', \n",
    "                                                                                detector_id_f=detector_id,\n",
    "                                                          timestamp='now')"
   ]
  },
  {
   "cell_type": "code",
   "execution_count": null,
   "metadata": {
    "scrolled": true
   },
   "outputs": [],
   "source": [
    "save_hdf_v2(grid_index_class_lookup, grid_index_class_lookup_fp)\n",
    "upload_to_s3(grid_index_class_lookup_fp)"
   ]
  },
  {
   "cell_type": "code",
   "execution_count": null,
   "metadata": {
    "collapsed": true
   },
   "outputs": [],
   "source": []
  },
  {
   "cell_type": "code",
   "execution_count": null,
   "metadata": {
    "collapsed": true
   },
   "outputs": [],
   "source": [
    "stack = 'MD595'"
   ]
  },
  {
   "cell_type": "code",
   "execution_count": null,
   "metadata": {
    "collapsed": true,
    "scrolled": true
   },
   "outputs": [],
   "source": [
    "grid_index_class_lookup = \\\n",
    "DataManager.load_annotation_to_grid_indices_lookup(stack=stack, win_id=win_id, by_human=False, \n",
    "                                                                     stack_m=atlas_name, \n",
    "                                                                                detector_id_f=detector_id,\n",
    "                                                           prep_id_f=2,\n",
    "                                                                                warp_setting=warp_setting,\n",
    "                                                          timestamp='latest')"
   ]
  },
  {
   "cell_type": "code",
   "execution_count": null,
   "metadata": {
    "scrolled": true
   },
   "outputs": [],
   "source": [
    "grid_index_class_lookup = DataManager.load_annotation_to_grid_indices_lookup(stack='MD589', win_id=5, \n",
    "                                                                             by_human=True,\n",
    "                                                                            timestamp='latest')"
   ]
  },
  {
   "cell_type": "code",
   "execution_count": null,
   "metadata": {
    "scrolled": true
   },
   "outputs": [],
   "source": [
    "grid_index_class_lookup.loc[108]['VCA']"
   ]
  },
  {
   "cell_type": "code",
   "execution_count": null,
   "metadata": {
    "collapsed": true,
    "scrolled": true
   },
   "outputs": [],
   "source": [
    "# for stack in all_annotated_stacks:\n",
    "    \n",
    "#     sys.stderr.write('%s\\n' % stack)\n",
    "    \n",
    "#     label_gridIndices = locate_annotated_patches_v2(stack=stack)\n",
    "    \n",
    "#     annotation_grid_indices_fn = os.path.join(ANNOTATION_ROOTDIR, stack, '%(stack)s_annotation_grid_indices.h5' % dict(stack=stack))\n",
    "#     label_gridIndices.to_hdf(annotation_grid_indices_fn, 'grid_indices')"
   ]
  },
  {
   "cell_type": "code",
   "execution_count": null,
   "metadata": {
    "collapsed": true
   },
   "outputs": [],
   "source": [
    "# label_gridIndices = read_hdf(annotation_grid_indices_fn, 'grid_indices')"
   ]
  }
 ],
 "metadata": {
  "kernelspec": {
   "display_name": "Python 2",
   "language": "python",
   "name": "python2"
  },
  "language_info": {
   "codemirror_mode": {
    "name": "ipython",
    "version": 2
   },
   "file_extension": ".py",
   "mimetype": "text/x-python",
   "name": "python",
   "nbconvert_exporter": "python",
   "pygments_lexer": "ipython2",
   "version": "2.7.12"
  }
 },
 "nbformat": 4,
 "nbformat_minor": 1
}
