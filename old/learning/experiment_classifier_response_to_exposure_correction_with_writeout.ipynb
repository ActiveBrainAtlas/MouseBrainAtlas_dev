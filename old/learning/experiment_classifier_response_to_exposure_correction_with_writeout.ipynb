{
 "cells": [
  {
   "cell_type": "code",
   "execution_count": 1,
   "metadata": {},
   "outputs": [
    {
     "name": "stderr",
     "output_type": "stream",
     "text": [
      "/usr/local/lib/python2.7/dist-packages/matplotlib/__init__.py:1350: UserWarning:  This call to matplotlib.use() has no effect\n",
      "because the backend has already been chosen;\n",
      "matplotlib.use() must be called *before* pylab, matplotlib.pyplot,\n",
      "or matplotlib.backends is imported for the first time.\n",
      "\n",
      "  warnings.warn(_use_error_msg)\n",
      "No vtk\n"
     ]
    },
    {
     "name": "stdout",
     "output_type": "stream",
     "text": [
      "Setting environment for Precision WorkStation\n"
     ]
    }
   ],
   "source": [
    "%load_ext autoreload\n",
    "%autoreload 2\n",
    "\n",
    "import sys\n",
    "import os\n",
    "import time\n",
    "\n",
    "import numpy as np\n",
    "try:\n",
    "    import mxnet as mx\n",
    "except:\n",
    "    sys.stderr.write(\"Cannot import mxnet.\\n\")\n",
    "import matplotlib.pyplot as plt\n",
    "%matplotlib inline\n",
    "from scipy.ndimage.interpolation import map_coordinates\n",
    "from skimage.exposure import rescale_intensity\n",
    "from skimage.transform import rotate\n",
    "\n",
    "sys.path.append(os.environ['REPO_DIR'] + '/utilities')\n",
    "from utilities2015 import *\n",
    "from metadata import *\n",
    "from data_manager import *\n",
    "from learning_utilities import *\n",
    "from distributed_utilities import *\n",
    "from visualization_utilities import *"
   ]
  },
  {
   "cell_type": "code",
   "execution_count": 2,
   "metadata": {
    "collapsed": true
   },
   "outputs": [],
   "source": [
    "detector_settings = read_csv(DETECTOR_SETTINGS_CSV, header=0, index_col=0)"
   ]
  },
  {
   "cell_type": "code",
   "execution_count": 3,
   "metadata": {},
   "outputs": [
    {
     "data": {
      "text/html": [
       "<div>\n",
       "<table border=\"1\" class=\"dataframe\">\n",
       "  <thead>\n",
       "    <tr style=\"text-align: right;\">\n",
       "      <th></th>\n",
       "      <th>input_version</th>\n",
       "      <th>windowing_id</th>\n",
       "      <th>feature_network</th>\n",
       "      <th>feature_classifier_id</th>\n",
       "    </tr>\n",
       "    <tr>\n",
       "      <th>detector_id</th>\n",
       "      <th></th>\n",
       "      <th></th>\n",
       "      <th></th>\n",
       "      <th></th>\n",
       "    </tr>\n",
       "  </thead>\n",
       "  <tbody>\n",
       "    <tr>\n",
       "      <th>1</th>\n",
       "      <td>gray</td>\n",
       "      <td>1</td>\n",
       "      <td>inception-bn-blue</td>\n",
       "      <td>38</td>\n",
       "    </tr>\n",
       "    <tr>\n",
       "      <th>2</th>\n",
       "      <td>grayL500H0</td>\n",
       "      <td>1</td>\n",
       "      <td>inception-bn-blue</td>\n",
       "      <td>38</td>\n",
       "    </tr>\n",
       "    <tr>\n",
       "      <th>3</th>\n",
       "      <td>grayL1000H0</td>\n",
       "      <td>1</td>\n",
       "      <td>inception-bn-blue</td>\n",
       "      <td>38</td>\n",
       "    </tr>\n",
       "    <tr>\n",
       "      <th>4</th>\n",
       "      <td>grayL1500H0</td>\n",
       "      <td>1</td>\n",
       "      <td>inception-bn-blue</td>\n",
       "      <td>38</td>\n",
       "    </tr>\n",
       "    <tr>\n",
       "      <th>5</th>\n",
       "      <td>grayL2000H0</td>\n",
       "      <td>1</td>\n",
       "      <td>inception-bn-blue</td>\n",
       "      <td>38</td>\n",
       "    </tr>\n",
       "    <tr>\n",
       "      <th>6</th>\n",
       "      <td>grayL2500H0</td>\n",
       "      <td>1</td>\n",
       "      <td>inception-bn-blue</td>\n",
       "      <td>38</td>\n",
       "    </tr>\n",
       "    <tr>\n",
       "      <th>7</th>\n",
       "      <td>grayL600H0</td>\n",
       "      <td>1</td>\n",
       "      <td>inception-bn-blue</td>\n",
       "      <td>38</td>\n",
       "    </tr>\n",
       "    <tr>\n",
       "      <th>8</th>\n",
       "      <td>grayL700H0</td>\n",
       "      <td>1</td>\n",
       "      <td>inception-bn-blue</td>\n",
       "      <td>38</td>\n",
       "    </tr>\n",
       "    <tr>\n",
       "      <th>9</th>\n",
       "      <td>grayL800H0</td>\n",
       "      <td>1</td>\n",
       "      <td>inception-bn-blue</td>\n",
       "      <td>38</td>\n",
       "    </tr>\n",
       "    <tr>\n",
       "      <th>10</th>\n",
       "      <td>grayL900H0</td>\n",
       "      <td>1</td>\n",
       "      <td>inception-bn-blue</td>\n",
       "      <td>38</td>\n",
       "    </tr>\n",
       "  </tbody>\n",
       "</table>\n",
       "</div>"
      ],
      "text/plain": [
       "            input_version  windowing_id    feature_network  \\\n",
       "detector_id                                                  \n",
       "1                    gray             1  inception-bn-blue   \n",
       "2              grayL500H0             1  inception-bn-blue   \n",
       "3             grayL1000H0             1  inception-bn-blue   \n",
       "4             grayL1500H0             1  inception-bn-blue   \n",
       "5             grayL2000H0             1  inception-bn-blue   \n",
       "6             grayL2500H0             1  inception-bn-blue   \n",
       "7              grayL600H0             1  inception-bn-blue   \n",
       "8              grayL700H0             1  inception-bn-blue   \n",
       "9              grayL800H0             1  inception-bn-blue   \n",
       "10             grayL900H0             1  inception-bn-blue   \n",
       "\n",
       "             feature_classifier_id  \n",
       "detector_id                         \n",
       "1                               38  \n",
       "2                               38  \n",
       "3                               38  \n",
       "4                               38  \n",
       "5                               38  \n",
       "6                               38  \n",
       "7                               38  \n",
       "8                               38  \n",
       "9                               38  \n",
       "10                              38  "
      ]
     },
     "execution_count": 3,
     "metadata": {},
     "output_type": "execute_result"
    }
   ],
   "source": [
    "detector_settings"
   ]
  },
  {
   "cell_type": "code",
   "execution_count": 10,
   "metadata": {
    "collapsed": true
   },
   "outputs": [],
   "source": [
    "stack = 'MD661'\n",
    "filenames = [fn for fn in metadata_cache['valid_filenames'][stack] if fn.split('-')[1][0] == 'F'][83:86]"
   ]
  },
  {
   "cell_type": "code",
   "execution_count": null,
   "metadata": {
    "collapsed": true
   },
   "outputs": [],
   "source": [
    "# for low in range(500, 2500, 500):\n",
    "# for low in range(0, 1000, 100):\n",
    "for low in [600,700,800,900]:\n",
    "    \n",
    "    script_fp = os.path.join(REPO_DIR, 'preprocess', 'convert_grayscale_neurotrace_v2.py')\n",
    "    high = 0\n",
    "    output_version = 'grayL'+str(low)+'H'+str(high)\n",
    "\n",
    "    for fn in filenames:\n",
    "\n",
    "        # try:\n",
    "        t = time.time()\n",
    "        img_fp = DataManager.get_image_filepath_v2(stack=stack, fn=fn, prep_id=2, resol='lossless')\n",
    "        download_from_s3(img_fp, local_root=DATA_ROOTDIR)\n",
    "\n",
    "        sys.stderr.write('Download: %.2f seconds\\n' % (time.time() - t))\n",
    "\n",
    "        if stack not in all_nissl_stacks and fn.split('-')[1][0] == 'F':\n",
    "            # Neurotrace sections.\n",
    "\n",
    "            t = time.time()\n",
    "            img_blue = imread(img_fp)[..., 2]\n",
    "            sys.stderr.write('Read: %.2f seconds\\n' % (time.time() - t))\n",
    "\n",
    "#             if not hasattr(args, 'low') or (hasattr(args, 'low') and args.low is None):\n",
    "#                 sys.stderr.write(\"No linear limits arguments are given, so use nonlinear mapping.\\n\")\n",
    "\n",
    "#                 if use_section_specific_mapping:\n",
    "#                     try:\n",
    "#                         intensity_mapping_fp = DataManager.get_ntb_to_nissl_intensity_profile_mapping_filepath(stack=stack, ntb_fn=fn)\n",
    "#                         download_from_s3(intensity_mapping_fp)\n",
    "#                         intensity_mapping_ntb_to_nissl = np.load(intensity_mapping_fp)\n",
    "#                         load_default_mapping = False\n",
    "#                         sys.stderr.write(\"Loaded section specific mapping.\\n\")\n",
    "#                     except:\n",
    "#                         sys.stderr.write(\"Error loading section-specific ntb-to-nissl intensity mapping. Load a default mapping instead.\\n\")\n",
    "#                         load_default_mapping = True\n",
    "#                 else:\n",
    "#                     load_default_mapping = True\n",
    "\n",
    "#                 if load_default_mapping:            \n",
    "#                     intensity_mapping_fp = DataManager.get_ntb_to_nissl_intensity_profile_mapping_filepath()\n",
    "#                     download_from_s3(intensity_mapping_fp)\n",
    "#                     intensity_mapping_ntb_to_nissl = np.load(intensity_mapping_fp)\n",
    "\n",
    "#                 t = time.time()\n",
    "#                 img_blue_intensity_normalized = intensity_mapping_ntb_to_nissl[img_blue.astype(np.int)].astype(np.uint8)\n",
    "#                 sys.stderr.write('Convert: %.2f seconds\\n' % (time.time() - t))\n",
    "\n",
    "#                 output_fp = DataManager.get_image_filepath_v2(stack=stack, fn=fn, prep_id=2, version=output_version, resol='lossless')\n",
    "\n",
    "#             else:\n",
    "            sys.stderr.write(\"Linear limits arguments detected, so use linear mapping.\\n\")\n",
    "\n",
    "#             low_limit = args.low\n",
    "#             high_limit = args.high\n",
    "\n",
    "            t = time.time()\n",
    "            img_blue_intensity_normalized = rescale_intensity_v2(img_blue, low, high)\n",
    "            sys.stderr.write('Convert: %.2f seconds\\n' % (time.time() - t))\n",
    "\n",
    "            output_fp = DataManager.get_image_filepath_v2(stack=stack, fn=fn, prep_id=2, version=output_version, resol='lossless')\n",
    "\n",
    "            t = time.time()\n",
    "            create_parent_dir_if_not_exists(output_fp)\n",
    "            imsave(output_fp, img_blue_intensity_normalized)\n",
    "            sys.stderr.write('Save: %.2f seconds\\n' % (time.time() - t))\n",
    "\n",
    "            t = time.time()\n",
    "            upload_to_s3(output_fp, local_root=DATA_ROOTDIR)\n",
    "            sys.stderr.write('Upload: %.2f seconds\\n' % (time.time() - t))\n",
    "\n",
    "        else:\n",
    "            # Nissl sections.\n",
    "\n",
    "            t = time.time()\n",
    "            img = imread(img_fp)\n",
    "            sys.stderr.write('Read: %.2f seconds\\n' % (time.time() - t))\n",
    "\n",
    "            t = time.time()\n",
    "            img_gray = img_as_ubyte(rgb2gray(img))\n",
    "            sys.stderr.write('Convert: %.2f seconds\\n' % (time.time() - t))\n",
    "\n",
    "            output_fp = DataManager.get_image_filepath_v2(stack=stack, fn=fn, prep_id=2, version=output_version, resol='lossless')\n",
    "            create_parent_dir_if_not_exists(output_fp)\n",
    "\n",
    "            t = time.time()\n",
    "            imsave(output_fp, img_gray)\n",
    "            sys.stderr.write('Save: %.2f seconds\\n' % (time.time() - t))\n",
    "\n",
    "            t = time.time()\n",
    "            upload_to_s3(output_fp, local_root=DATA_ROOTDIR)\n",
    "            sys.stderr.write('Upload: %.2f seconds\\n' % (time.time() - t))"
   ]
  },
  {
   "cell_type": "code",
   "execution_count": 6,
   "metadata": {},
   "outputs": [
    {
     "name": "stderr",
     "output_type": "stream",
     "text": [
      "/usr/local/lib/python2.7/dist-packages/mxnet/module/base_module.py:52: UserWarning: \u001b[91mYou created Module with Module(..., label_names=['softmax_label']) but input with name 'softmax_label' is not found in symbol.list_arguments(). Did you mean one of:\n",
      "\tdata\u001b[0m\n",
      "  warnings.warn(msg)\n",
      "/usr/local/lib/python2.7/dist-packages/mxnet/module/base_module.py:64: UserWarning: Data provided by label_shapes don't match names specified by label_names ([] vs. ['softmax_label'])\n",
      "  warnings.warn(msg)\n"
     ]
    }
   ],
   "source": [
    "############\n",
    "\n",
    "model_dir_name = 'inception-bn-blue'\n",
    "download_from_s3(os.path.join(MXNET_MODEL_ROOTDIR, model_dir_name), is_dir=True)\n",
    "model_name = 'inception-bn-blue'\n",
    "model_iteration = 0\n",
    "output_symbol_name = 'flatten_output'\n",
    "output_dim = 1024\n",
    "mean_img = np.load(os.path.join(MXNET_MODEL_ROOTDIR, model_dir_name, 'mean_224.npy'))\n",
    "\n",
    "# Reference on how to predict with mxnet model:\n",
    "# https://github.com/dmlc/mxnet-notebooks/blob/master/python/how_to/predict.ipynb\n",
    "model0, arg_params, aux_params = mx.model.load_checkpoint(os.path.join(MXNET_MODEL_ROOTDIR, model_dir_name, model_name), 0)\n",
    "flatten_output = model0.get_internals()[output_symbol_name]\n",
    "if HOST_ID == 'workstation':\n",
    "    model = mx.mod.Module(context=[mx.gpu(i) for i in range(1)], symbol=flatten_output)\n",
    "else:\n",
    "    model = mx.mod.Module(context=[mx.gpu(i) for i in range(8)], symbol=flatten_output)\n",
    "\n",
    "# Increase batch_size to 500 does not save any time.\n",
    "batch_size = 256\n",
    "model.bind(data_shapes=[('data', (batch_size,1,224,224))], for_training=False)\n",
    "model.set_params(arg_params=arg_params, aux_params=aux_params, allow_missing=True)\n",
    "\n",
    "###############"
   ]
  },
  {
   "cell_type": "code",
   "execution_count": 11,
   "metadata": {
    "collapsed": true
   },
   "outputs": [],
   "source": [
    "stack = 'MD661'\n",
    "section_to_filename = metadata_cache['sections_to_filenames'][stack]\n",
    "\n",
    "windowing_id = 1\n",
    "\n",
    "windowing_properties = windowing_settings[windowing_id]\n",
    "patch_size = windowing_properties['patch_size']\n",
    "spacing = windowing_properties['spacing']\n",
    "w, h = metadata_cache['image_shape'][stack]\n",
    "half_size = patch_size/2\n",
    "\n",
    "grid_spec = (patch_size, spacing, w, h)\n",
    "\n",
    "sample_locations = grid_parameters_to_sample_locations(grid_spec=grid_spec)"
   ]
  },
  {
   "cell_type": "code",
   "execution_count": 19,
   "metadata": {},
   "outputs": [
    {
     "name": "stderr",
     "output_type": "stream",
     "text": [
      "locate patches: 0.04 seconds\n",
      "58197 samples.\n",
      "load image: 2.37 seconds\n",
      "predict: 100.58 seconds\n"
     ]
    },
    {
     "name": "stdout",
     "output_type": "stream",
     "text": [
      "aws s3 cp \"/media/yuncong/BstemAtlasData/CSHL_patch_features/inception-bn-blue/MD661/MD661_prep2_grayL600H0_win1/MD662&661-F57-2017.06.06-02.06.22_MD661_3_0171_prep2_grayL600H0_win1_inception-bn-blue_features.bp\" \"s3://mousebrainatlas-data/CSHL_patch_features/inception-bn-blue/MD661/MD661_prep2_grayL600H0_win1/MD662&661-F57-2017.06.06-02.06.22_MD661_3_0171_prep2_grayL600H0_win1_inception-bn-blue_features.bp\"\n"
     ]
    },
    {
     "name": "stderr",
     "output_type": "stream",
     "text": [
      "save: 5.10 seconds\n",
      "locate patches: 0.05 seconds\n",
      "58185 samples.\n",
      "load image: 0.33 seconds\n",
      "predict: 105.86 seconds\n"
     ]
    },
    {
     "name": "stdout",
     "output_type": "stream",
     "text": [
      "aws s3 cp \"/media/yuncong/BstemAtlasData/CSHL_patch_features/inception-bn-blue/MD661/MD661_prep2_grayL600H0_win1/MD662&661-F58-2017.06.06-02.35.45_MD661_1_0172_prep2_grayL600H0_win1_inception-bn-blue_features.bp\" \"s3://mousebrainatlas-data/CSHL_patch_features/inception-bn-blue/MD661/MD661_prep2_grayL600H0_win1/MD662&661-F58-2017.06.06-02.35.45_MD661_1_0172_prep2_grayL600H0_win1_inception-bn-blue_features.bp\"\n"
     ]
    },
    {
     "name": "stderr",
     "output_type": "stream",
     "text": [
      "save: 4.87 seconds\n",
      "locate patches: 0.06 seconds\n",
      "58403 samples.\n",
      "load image: 0.31 seconds\n",
      "predict: 111.83 seconds\n"
     ]
    },
    {
     "name": "stdout",
     "output_type": "stream",
     "text": [
      "aws s3 cp \"/media/yuncong/BstemAtlasData/CSHL_patch_features/inception-bn-blue/MD661/MD661_prep2_grayL600H0_win1/MD662&661-F58-2017.06.06-02.35.45_MD661_2_0173_prep2_grayL600H0_win1_inception-bn-blue_features.bp\" \"s3://mousebrainatlas-data/CSHL_patch_features/inception-bn-blue/MD661/MD661_prep2_grayL600H0_win1/MD662&661-F58-2017.06.06-02.35.45_MD661_2_0173_prep2_grayL600H0_win1_inception-bn-blue_features.bp\"\n"
     ]
    },
    {
     "name": "stderr",
     "output_type": "stream",
     "text": [
      "save: 4.98 seconds\n",
      "locate patches: 0.04 seconds\n",
      "58197 samples.\n",
      "load image: 0.31 seconds\n",
      "predict: 107.74 seconds\n"
     ]
    },
    {
     "name": "stdout",
     "output_type": "stream",
     "text": [
      "aws s3 cp \"/media/yuncong/BstemAtlasData/CSHL_patch_features/inception-bn-blue/MD661/MD661_prep2_grayL700H0_win1/MD662&661-F57-2017.06.06-02.06.22_MD661_3_0171_prep2_grayL700H0_win1_inception-bn-blue_features.bp\" \"s3://mousebrainatlas-data/CSHL_patch_features/inception-bn-blue/MD661/MD661_prep2_grayL700H0_win1/MD662&661-F57-2017.06.06-02.06.22_MD661_3_0171_prep2_grayL700H0_win1_inception-bn-blue_features.bp\"\n"
     ]
    },
    {
     "name": "stderr",
     "output_type": "stream",
     "text": [
      "save: 4.84 seconds\n",
      "locate patches: 0.04 seconds\n",
      "58185 samples.\n",
      "load image: 0.32 seconds\n",
      "predict: 108.10 seconds\n"
     ]
    },
    {
     "name": "stdout",
     "output_type": "stream",
     "text": [
      "aws s3 cp \"/media/yuncong/BstemAtlasData/CSHL_patch_features/inception-bn-blue/MD661/MD661_prep2_grayL700H0_win1/MD662&661-F58-2017.06.06-02.35.45_MD661_1_0172_prep2_grayL700H0_win1_inception-bn-blue_features.bp\" \"s3://mousebrainatlas-data/CSHL_patch_features/inception-bn-blue/MD661/MD661_prep2_grayL700H0_win1/MD662&661-F58-2017.06.06-02.35.45_MD661_1_0172_prep2_grayL700H0_win1_inception-bn-blue_features.bp\"\n"
     ]
    },
    {
     "name": "stderr",
     "output_type": "stream",
     "text": [
      "save: 4.96 seconds\n",
      "locate patches: 0.04 seconds\n",
      "58403 samples.\n",
      "load image: 0.31 seconds\n",
      "predict: 113.25 seconds\n"
     ]
    },
    {
     "name": "stdout",
     "output_type": "stream",
     "text": [
      "aws s3 cp \"/media/yuncong/BstemAtlasData/CSHL_patch_features/inception-bn-blue/MD661/MD661_prep2_grayL700H0_win1/MD662&661-F58-2017.06.06-02.35.45_MD661_2_0173_prep2_grayL700H0_win1_inception-bn-blue_features.bp\" \"s3://mousebrainatlas-data/CSHL_patch_features/inception-bn-blue/MD661/MD661_prep2_grayL700H0_win1/MD662&661-F58-2017.06.06-02.35.45_MD661_2_0173_prep2_grayL700H0_win1_inception-bn-blue_features.bp\"\n"
     ]
    },
    {
     "name": "stderr",
     "output_type": "stream",
     "text": [
      "save: 4.91 seconds\n",
      "locate patches: 0.04 seconds\n",
      "58197 samples.\n",
      "load image: 0.32 seconds\n",
      "predict: 109.95 seconds\n"
     ]
    },
    {
     "name": "stdout",
     "output_type": "stream",
     "text": [
      "aws s3 cp \"/media/yuncong/BstemAtlasData/CSHL_patch_features/inception-bn-blue/MD661/MD661_prep2_grayL800H0_win1/MD662&661-F57-2017.06.06-02.06.22_MD661_3_0171_prep2_grayL800H0_win1_inception-bn-blue_features.bp\" \"s3://mousebrainatlas-data/CSHL_patch_features/inception-bn-blue/MD661/MD661_prep2_grayL800H0_win1/MD662&661-F57-2017.06.06-02.06.22_MD661_3_0171_prep2_grayL800H0_win1_inception-bn-blue_features.bp\"\n"
     ]
    },
    {
     "name": "stderr",
     "output_type": "stream",
     "text": [
      "save: 4.88 seconds\n",
      "locate patches: 0.04 seconds\n",
      "58185 samples.\n",
      "load image: 0.31 seconds\n",
      "predict: 108.95 seconds\n"
     ]
    },
    {
     "name": "stdout",
     "output_type": "stream",
     "text": [
      "aws s3 cp \"/media/yuncong/BstemAtlasData/CSHL_patch_features/inception-bn-blue/MD661/MD661_prep2_grayL800H0_win1/MD662&661-F58-2017.06.06-02.35.45_MD661_1_0172_prep2_grayL800H0_win1_inception-bn-blue_features.bp\" \"s3://mousebrainatlas-data/CSHL_patch_features/inception-bn-blue/MD661/MD661_prep2_grayL800H0_win1/MD662&661-F58-2017.06.06-02.35.45_MD661_1_0172_prep2_grayL800H0_win1_inception-bn-blue_features.bp\"\n"
     ]
    },
    {
     "name": "stderr",
     "output_type": "stream",
     "text": [
      "save: 4.91 seconds\n",
      "locate patches: 0.04 seconds\n",
      "58403 samples.\n",
      "load image: 0.30 seconds\n",
      "predict: 111.97 seconds\n"
     ]
    },
    {
     "name": "stdout",
     "output_type": "stream",
     "text": [
      "aws s3 cp \"/media/yuncong/BstemAtlasData/CSHL_patch_features/inception-bn-blue/MD661/MD661_prep2_grayL800H0_win1/MD662&661-F58-2017.06.06-02.35.45_MD661_2_0173_prep2_grayL800H0_win1_inception-bn-blue_features.bp\" \"s3://mousebrainatlas-data/CSHL_patch_features/inception-bn-blue/MD661/MD661_prep2_grayL800H0_win1/MD662&661-F58-2017.06.06-02.35.45_MD661_2_0173_prep2_grayL800H0_win1_inception-bn-blue_features.bp\"\n"
     ]
    },
    {
     "name": "stderr",
     "output_type": "stream",
     "text": [
      "save: 4.94 seconds\n",
      "locate patches: 0.04 seconds\n",
      "58197 samples.\n",
      "load image: 0.34 seconds\n",
      "predict: 107.55 seconds\n"
     ]
    },
    {
     "name": "stdout",
     "output_type": "stream",
     "text": [
      "aws s3 cp \"/media/yuncong/BstemAtlasData/CSHL_patch_features/inception-bn-blue/MD661/MD661_prep2_grayL900H0_win1/MD662&661-F57-2017.06.06-02.06.22_MD661_3_0171_prep2_grayL900H0_win1_inception-bn-blue_features.bp\" \"s3://mousebrainatlas-data/CSHL_patch_features/inception-bn-blue/MD661/MD661_prep2_grayL900H0_win1/MD662&661-F57-2017.06.06-02.06.22_MD661_3_0171_prep2_grayL900H0_win1_inception-bn-blue_features.bp\"\n"
     ]
    },
    {
     "name": "stderr",
     "output_type": "stream",
     "text": [
      "save: 5.00 seconds\n",
      "locate patches: 0.04 seconds\n",
      "58185 samples.\n",
      "load image: 0.31 seconds\n",
      "predict: 109.57 seconds\n"
     ]
    },
    {
     "name": "stdout",
     "output_type": "stream",
     "text": [
      "aws s3 cp \"/media/yuncong/BstemAtlasData/CSHL_patch_features/inception-bn-blue/MD661/MD661_prep2_grayL900H0_win1/MD662&661-F58-2017.06.06-02.35.45_MD661_1_0172_prep2_grayL900H0_win1_inception-bn-blue_features.bp\" \"s3://mousebrainatlas-data/CSHL_patch_features/inception-bn-blue/MD661/MD661_prep2_grayL900H0_win1/MD662&661-F58-2017.06.06-02.35.45_MD661_1_0172_prep2_grayL900H0_win1_inception-bn-blue_features.bp\"\n"
     ]
    },
    {
     "name": "stderr",
     "output_type": "stream",
     "text": [
      "save: 5.53 seconds\n",
      "locate patches: 0.04 seconds\n",
      "58403 samples.\n",
      "load image: 0.30 seconds\n",
      "predict: 112.47 seconds\n"
     ]
    },
    {
     "name": "stdout",
     "output_type": "stream",
     "text": [
      "aws s3 cp \"/media/yuncong/BstemAtlasData/CSHL_patch_features/inception-bn-blue/MD661/MD661_prep2_grayL900H0_win1/MD662&661-F58-2017.06.06-02.35.45_MD661_2_0173_prep2_grayL900H0_win1_inception-bn-blue_features.bp\" \"s3://mousebrainatlas-data/CSHL_patch_features/inception-bn-blue/MD661/MD661_prep2_grayL900H0_win1/MD662&661-F58-2017.06.06-02.35.45_MD661_2_0173_prep2_grayL900H0_win1_inception-bn-blue_features.bp\"\n"
     ]
    },
    {
     "name": "stderr",
     "output_type": "stream",
     "text": [
      "save: 5.03 seconds\n"
     ]
    }
   ],
   "source": [
    "for low in [600,700,800,900]:\n",
    "    \n",
    "    high = 0\n",
    "    input_img_version = 'grayL'+str(low)+'H'+str(high)\n",
    "\n",
    "    for fn in filenames:\n",
    "\n",
    "        t = time.time()\n",
    "        mask_tb = DataManager.load_thumbnail_mask_v3(stack=stack, prep_id=2, fn=fn)\n",
    "        indices_roi = locate_patches_v2(grid_spec=grid_spec, mask_tb=mask_tb)\n",
    "        sys.stderr.write('locate patches: %.2f seconds\\n' % (time.time() - t))       \n",
    "\n",
    "        n = len(indices_roi)\n",
    "        sys.stderr.write('%d samples.\\n' % n)\n",
    "\n",
    "        ############################\n",
    "\n",
    "        sample_locations_roi = sample_locations[indices_roi]\n",
    "\n",
    "        ###########################\n",
    "\n",
    "        t = time.time()\n",
    "        im = DataManager.load_image_v2(stack=stack, fn=fn, prep_id=2, \n",
    "                                       version=input_img_version, resol='lossless')\n",
    "        sys.stderr.write('load image: %.2f seconds\\n' % (time.time() - t)) # ~ 35s\n",
    "\n",
    "        patches = np.array([im[y-half_size:y+half_size, x-half_size:x+half_size]\n",
    "                            for x, y in sample_locations_roi]) # n x 224 x 224\n",
    "\n",
    "        #############################\n",
    "\n",
    "        patches_mean_subtracted = patches - mean_img\n",
    "        patches_mean_subtracted_input = patches_mean_subtracted[:, None, :, :] # n x 1 x 224 x 224\n",
    "\n",
    "        t1 = time.time()        \n",
    "        data_iter = mx.io.NDArrayIter(\n",
    "                        patches_mean_subtracted_input, \n",
    "                        batch_size=batch_size,\n",
    "                        shuffle=False)\n",
    "        outputs = model.predict(data_iter, always_output_list=True)\n",
    "        features = outputs[0].asnumpy()\n",
    "\n",
    "        del data_iter\n",
    "\n",
    "        sys.stderr.write('predict: %.2f seconds\\n' % (time.time() - t1))\n",
    "\n",
    "        ################################\n",
    "\n",
    "        t = time.time()\n",
    "\n",
    "        features_fp = DataManager.get_dnn_features_filepath(stack=stack, model_name=model_name, \n",
    "                                                            win=windowing_id,\n",
    "                                                            fn=fn,\n",
    "                                                           input_img_version=input_img_version)\n",
    "        create_parent_dir_if_not_exists(features_fp)\n",
    "        bp.pack_ndarray_file(features.astype(np.float16), features_fp) # bloscpack produces files of similar size\n",
    "        upload_to_s3(features_fp, local_root=DATA_ROOTDIR)\n",
    "\n",
    "        del features\n",
    "\n",
    "    #     feature_locs_fp = DataManager.get_patch_locations_filepath(stack=stack,\n",
    "    #                                                                      win=windowing_id,\n",
    "    #                                                                      section=sec)\n",
    "    #     create_parent_dir_if_not_exists(feature_locs_fp)\n",
    "    #     np.savetxt(feature_locs_fp, np.c_[indices_roi, sample_locations_roi], fmt='%d %d %d')\n",
    "    #     upload_to_s3(feature_locs_fp, local_root=DATA_ROOTDIR)\n",
    "\n",
    "        sys.stderr.write('save: %.2f seconds\\n' % (time.time() - t)) # ~.5s"
   ]
  },
  {
   "cell_type": "code",
   "execution_count": 5,
   "metadata": {},
   "outputs": [
    {
     "name": "stdout",
     "output_type": "stream",
     "text": [
      "rm -rf \"/home/yuncong/CSHL_classifiers/setting_38/classifiers/sp5_clf_setting_38.dump\" && mkdir -p \"/home/yuncong/CSHL_classifiers/setting_38/classifiers\"\n",
      "aws s3 cp \"s3://mousebrainatlas-data/CSHL_classifiers/setting_38/classifiers/sp5_clf_setting_38.dump\" \"/home/yuncong/CSHL_classifiers/setting_38/classifiers/sp5_clf_setting_38.dump\"\n"
     ]
    },
    {
     "name": "stderr",
     "output_type": "stream",
     "text": [
      "Setting 38: No classifier found for sp5.\n"
     ]
    },
    {
     "name": "stdout",
     "output_type": "stream",
     "text": [
      "rm -rf \"/home/yuncong/CSHL_classifiers/setting_38/classifiers/outerContour_clf_setting_38.dump\" && mkdir -p \"/home/yuncong/CSHL_classifiers/setting_38/classifiers\"\n",
      "aws s3 cp \"s3://mousebrainatlas-data/CSHL_classifiers/setting_38/classifiers/outerContour_clf_setting_38.dump\" \"/home/yuncong/CSHL_classifiers/setting_38/classifiers/outerContour_clf_setting_38.dump\"\n"
     ]
    },
    {
     "name": "stderr",
     "output_type": "stream",
     "text": [
      "Setting 38: No classifier found for outerContour.\n"
     ]
    },
    {
     "name": "stdout",
     "output_type": "stream",
     "text": [
      "rm -rf \"/home/yuncong/media/yuncong/BstemAtlasData/CSHL_patch_features/inception-bn-blue/MD661/MD661_prep2_grayL600H0_win1/MD662&661-F58-2017.06.06-02.35.45_MD661_2_0173_prep2_grayL600H0_win1_inception-bn-blue_features.bp\" && mkdir -p \"/home/yuncong/media/yuncong/BstemAtlasData/CSHL_patch_features/inception-bn-blue/MD661/MD661_prep2_grayL600H0_win1\"\n",
      "rm -rf \"/home/yuncong/media/yuncong/BstemAtlasData/CSHL_patch_features/inception-bn-blue/MD661/MD661_prep2_grayL600H0_win1/MD662&661-F58-2017.06.06-02.35.45_MD661_1_0172_prep2_grayL600H0_win1_inception-bn-blue_features.bp\" && mkdir -p \"/home/yuncong/media/yuncong/BstemAtlasData/CSHL_patch_features/inception-bn-blue/MD661/MD661_prep2_grayL600H0_win1\"\n",
      "rm -rf \"/home/yuncong/media/yuncong/BstemAtlasData/CSHL_patch_features/inception-bn-blue/MD661/MD661_prep2_grayL600H0_win1/MD662&661-F57-2017.06.06-02.06.22_MD661_3_0171_prep2_grayL600H0_win1_inception-bn-blue_features.bp\" && mkdir -p \"/home/yuncong/media/yuncong/BstemAtlasData/CSHL_patch_features/inception-bn-blue/MD661/MD661_prep2_grayL600H0_win1\"\n",
      "aws s3 cp \"s3://mousebrainatlas-data/media/yuncong/BstemAtlasData/CSHL_patch_features/inception-bn-blue/MD661/MD661_prep2_grayL600H0_win1/MD662&661-F57-2017.06.06-02.06.22_MD661_3_0171_prep2_grayL600H0_win1_inception-bn-blue_features.bp\" \"/home/yuncong/media/yuncong/BstemAtlasData/CSHL_patch_features/inception-bn-blue/MD661/MD661_prep2_grayL600H0_win1/MD662&661-F57-2017.06.06-02.06.22_MD661_3_0171_prep2_grayL600H0_win1_inception-bn-blue_features.bp\"\n",
      "aws s3 cp \"s3://mousebrainatlas-data/media/yuncong/BstemAtlasData/CSHL_patch_features/inception-bn-blue/MD661/MD661_prep2_grayL600H0_win1/MD662&661-F58-2017.06.06-02.35.45_MD661_1_0172_prep2_grayL600H0_win1_inception-bn-blue_features.bp\" \"/home/yuncong/media/yuncong/BstemAtlasData/CSHL_patch_features/inception-bn-blue/MD661/MD661_prep2_grayL600H0_win1/MD662&661-F58-2017.06.06-02.35.45_MD661_1_0172_prep2_grayL600H0_win1_inception-bn-blue_features.bp\"\n",
      "aws s3 cp \"s3://mousebrainatlas-data/media/yuncong/BstemAtlasData/CSHL_patch_features/inception-bn-blue/MD661/MD661_prep2_grayL600H0_win1/MD662&661-F58-2017.06.06-02.35.45_MD661_2_0173_prep2_grayL600H0_win1_inception-bn-blue_features.bp\" \"/home/yuncong/media/yuncong/BstemAtlasData/CSHL_patch_features/inception-bn-blue/MD661/MD661_prep2_grayL600H0_win1/MD662&661-F58-2017.06.06-02.35.45_MD661_2_0173_prep2_grayL600H0_win1_inception-bn-blue_features.bp\"\n"
     ]
    },
    {
     "name": "stderr",
     "output_type": "stream",
     "text": [
      "/usr/local/lib/python2.7/dist-packages/ipykernel_launcher.py:34: DeprecationWarning: BaseException.message has been deprecated as of Python 2.6\n",
      "\n",
      "/usr/local/lib/python2.7/dist-packages/ipykernel_launcher.py:34: DeprecationWarning: BaseException.message has been deprecated as of Python 2.6\n",
      "\n",
      "/usr/local/lib/python2.7/dist-packages/ipykernel_launcher.py:34: DeprecationWarning: BaseException.message has been deprecated as of Python 2.6\n",
      "\n",
      "Classifier predict: 0.90\n"
     ]
    },
    {
     "name": "stdout",
     "output_type": "stream",
     "text": [
      "rm -rf \"/home/yuncong/CSHL_patch_scores/MD661/MD662&661-F58-2017.06.06-02.35.45_MD661_2_0173_prep2_gray/detector7/MD662&661-F58-2017.06.06-02.35.45_MD661_2_0173_prep2_gray_detector7_10N_sparseScores.bp\" && mkdir -p \"/home/yuncong/CSHL_patch_scores/MD661/MD662&661-F58-2017.06.06-02.35.45_MD661_2_0173_prep2_gray/detector7\"\n",
      "rm -rf \"/home/yuncong/CSHL_patch_scores/MD661/MD662&661-F57-2017.06.06-02.06.22_MD661_3_0171_prep2_gray/detector7/MD662&661-F57-2017.06.06-02.06.22_MD661_3_0171_prep2_gray_detector7_10N_sparseScores.bp\" && mkdir -p \"/home/yuncong/CSHL_patch_scores/MD661/MD662&661-F57-2017.06.06-02.06.22_MD661_3_0171_prep2_gray/detector7\"\n",
      "aws s3 cp \"s3://mousebrainatlas-data/CSHL_patch_scores/MD661/MD662&661-F58-2017.06.06-02.35.45_MD661_2_0173_prep2_gray/detector7/MD662&661-F58-2017.06.06-02.35.45_MD661_2_0173_prep2_gray_detector7_10N_sparseScores.bp\" \"/home/yuncong/CSHL_patch_scores/MD661/MD662&661-F58-2017.06.06-02.35.45_MD661_2_0173_prep2_gray/detector7/MD662&661-F58-2017.06.06-02.35.45_MD661_2_0173_prep2_gray_detector7_10N_sparseScores.bp\"\n",
      "aws s3 cp \"s3://mousebrainatlas-data/CSHL_patch_scores/MD661/MD662&661-F57-2017.06.06-02.06.22_MD661_3_0171_prep2_gray/detector7/MD662&661-F57-2017.06.06-02.06.22_MD661_3_0171_prep2_gray_detector7_10N_sparseScores.bp\" \"/home/yuncong/CSHL_patch_scores/MD661/MD662&661-F57-2017.06.06-02.06.22_MD661_3_0171_prep2_gray/detector7/MD662&661-F57-2017.06.06-02.06.22_MD661_3_0171_prep2_gray_detector7_10N_sparseScores.bp\"\n",
      "rm -rf \"/home/yuncong/CSHL_patch_scores/MD661/MD662&661-F58-2017.06.06-02.35.45_MD661_1_0172_prep2_gray/detector7/MD662&661-F58-2017.06.06-02.35.45_MD661_1_0172_prep2_gray_detector7_10N_sparseScores.bp\" && mkdir -p \"/home/yuncong/CSHL_patch_scores/MD661/MD662&661-F58-2017.06.06-02.35.45_MD661_1_0172_prep2_gray/detector7\"\n",
      "aws s3 cp \"s3://mousebrainatlas-data/CSHL_patch_scores/MD661/MD662&661-F58-2017.06.06-02.35.45_MD661_1_0172_prep2_gray/detector7/MD662&661-F58-2017.06.06-02.35.45_MD661_1_0172_prep2_gray_detector7_10N_sparseScores.bp\" \"/home/yuncong/CSHL_patch_scores/MD661/MD662&661-F58-2017.06.06-02.35.45_MD661_1_0172_prep2_gray/detector7/MD662&661-F58-2017.06.06-02.35.45_MD661_1_0172_prep2_gray_detector7_10N_sparseScores.bp\"\n"
     ]
    },
    {
     "name": "stderr",
     "output_type": "stream",
     "text": [
      "File does not exist: /home/yuncong/CSHL_patch_scores/MD661/MD662&661-F58-2017.06.06-02.35.45_MD661_2_0173_prep2_gray/detector7/MD662&661-F58-2017.06.06-02.35.45_MD661_2_0173_prep2_gray_detector7_10N_sparseScores.bp\n",
      "Error loading sparse scores for 10N: [Errno 2] No such file or directory: '/home/yuncong/CSHL_patch_scores/MD661/MD662&661-F58-2017.06.06-02.35.45_MD661_2_0173_prep2_gray/detector7/MD662&661-F58-2017.06.06-02.35.45_MD661_2_0173_prep2_gray_detector7_10N_sparseScores.bp'\n"
     ]
    },
    {
     "name": "stdout",
     "output_type": "stream",
     "text": [
      "rm -rf \"/home/yuncong/CSHL_patch_scores/MD661/MD662&661-F58-2017.06.06-02.35.45_MD661_2_0173_prep2_gray/detector7/MD662&661-F58-2017.06.06-02.35.45_MD661_2_0173_prep2_gray_detector7_12N_sparseScores.bp\" && mkdir -p \"/home/yuncong/CSHL_patch_scores/MD661/MD662&661-F58-2017.06.06-02.35.45_MD661_2_0173_prep2_gray/detector7\"\n"
     ]
    },
    {
     "name": "stderr",
     "output_type": "stream",
     "text": [
      "File does not exist: /home/yuncong/CSHL_patch_scores/MD661/MD662&661-F57-2017.06.06-02.06.22_MD661_3_0171_prep2_gray/detector7/MD662&661-F57-2017.06.06-02.06.22_MD661_3_0171_prep2_gray_detector7_10N_sparseScores.bp\n",
      "Error loading sparse scores for 10N: [Errno 2] No such file or directory: '/home/yuncong/CSHL_patch_scores/MD661/MD662&661-F57-2017.06.06-02.06.22_MD661_3_0171_prep2_gray/detector7/MD662&661-F57-2017.06.06-02.06.22_MD661_3_0171_prep2_gray_detector7_10N_sparseScores.bp'\n"
     ]
    },
    {
     "name": "stdout",
     "output_type": "stream",
     "text": [
      "rm -rf \"/home/yuncong/CSHL_patch_scores/MD661/MD662&661-F57-2017.06.06-02.06.22_MD661_3_0171_prep2_gray/detector7/MD662&661-F57-2017.06.06-02.06.22_MD661_3_0171_prep2_gray_detector7_12N_sparseScores.bp\" && mkdir -p \"/home/yuncong/CSHL_patch_scores/MD661/MD662&661-F57-2017.06.06-02.06.22_MD661_3_0171_prep2_gray/detector7\"\n",
      "aws s3 cp \"s3://mousebrainatlas-data/CSHL_patch_scores/MD661/MD662&661-F58-2017.06.06-02.35.45_MD661_2_0173_prep2_gray/detector7/MD662&661-F58-2017.06.06-02.35.45_MD661_2_0173_prep2_gray_detector7_12N_sparseScores.bp\" \"/home/yuncong/CSHL_patch_scores/MD661/MD662&661-F58-2017.06.06-02.35.45_MD661_2_0173_prep2_gray/detector7/MD662&661-F58-2017.06.06-02.35.45_MD661_2_0173_prep2_gray_detector7_12N_sparseScores.bp\"\n",
      "aws s3 cp \"s3://mousebrainatlas-data/CSHL_patch_scores/MD661/MD662&661-F57-2017.06.06-02.06.22_MD661_3_0171_prep2_gray/detector7/MD662&661-F57-2017.06.06-02.06.22_MD661_3_0171_prep2_gray_detector7_12N_sparseScores.bp\" \"/home/yuncong/CSHL_patch_scores/MD661/MD662&661-F57-2017.06.06-02.06.22_MD661_3_0171_prep2_gray/detector7/MD662&661-F57-2017.06.06-02.06.22_MD661_3_0171_prep2_gray_detector7_12N_sparseScores.bp\"\n"
     ]
    },
    {
     "name": "stderr",
     "output_type": "stream",
     "text": [
      "File does not exist: /home/yuncong/CSHL_patch_scores/MD661/MD662&661-F58-2017.06.06-02.35.45_MD661_1_0172_prep2_gray/detector7/MD662&661-F58-2017.06.06-02.35.45_MD661_1_0172_prep2_gray_detector7_10N_sparseScores.bp\n",
      "Error loading sparse scores for 10N: [Errno 2] No such file or directory: '/home/yuncong/CSHL_patch_scores/MD661/MD662&661-F58-2017.06.06-02.35.45_MD661_1_0172_prep2_gray/detector7/MD662&661-F58-2017.06.06-02.35.45_MD661_1_0172_prep2_gray_detector7_10N_sparseScores.bp'\n"
     ]
    },
    {
     "name": "stdout",
     "output_type": "stream",
     "text": [
      "rm -rf \"/home/yuncong/CSHL_patch_scores/MD661/MD662&661-F58-2017.06.06-02.35.45_MD661_1_0172_prep2_gray/detector7/MD662&661-F58-2017.06.06-02.35.45_MD661_1_0172_prep2_gray_detector7_12N_sparseScores.bp\" && mkdir -p \"/home/yuncong/CSHL_patch_scores/MD661/MD662&661-F58-2017.06.06-02.35.45_MD661_1_0172_prep2_gray/detector7\"\n",
      "aws s3 cp \"s3://mousebrainatlas-data/CSHL_patch_scores/MD661/MD662&661-F58-2017.06.06-02.35.45_MD661_1_0172_prep2_gray/detector7/MD662&661-F58-2017.06.06-02.35.45_MD661_1_0172_prep2_gray_detector7_12N_sparseScores.bp\" \"/home/yuncong/CSHL_patch_scores/MD661/MD662&661-F58-2017.06.06-02.35.45_MD661_1_0172_prep2_gray/detector7/MD662&661-F58-2017.06.06-02.35.45_MD661_1_0172_prep2_gray_detector7_12N_sparseScores.bp\"\n"
     ]
    },
    {
     "name": "stderr",
     "output_type": "stream",
     "text": [
      "File does not exist: /home/yuncong/CSHL_patch_scores/MD661/MD662&661-F57-2017.06.06-02.06.22_MD661_3_0171_prep2_gray/detector7/MD662&661-F57-2017.06.06-02.06.22_MD661_3_0171_prep2_gray_detector7_12N_sparseScores.bp\n",
      "Error loading sparse scores for 12N: [Errno 2] No such file or directory: '/home/yuncong/CSHL_patch_scores/MD661/MD662&661-F57-2017.06.06-02.06.22_MD661_3_0171_prep2_gray/detector7/MD662&661-F57-2017.06.06-02.06.22_MD661_3_0171_prep2_gray_detector7_12N_sparseScores.bp'\n"
     ]
    },
    {
     "name": "stdout",
     "output_type": "stream",
     "text": [
      "rm -rf \"/home/yuncong/CSHL_patch_scores/MD661/MD662&661-F57-2017.06.06-02.06.22_MD661_3_0171_prep2_gray/detector7/MD662&661-F57-2017.06.06-02.06.22_MD661_3_0171_prep2_gray_detector7_3N_sparseScores.bp\" && mkdir -p \"/home/yuncong/CSHL_patch_scores/MD661/MD662&661-F57-2017.06.06-02.06.22_MD661_3_0171_prep2_gray/detector7\"\n",
      "aws s3 cp \"s3://mousebrainatlas-data/CSHL_patch_scores/MD661/MD662&661-F57-2017.06.06-02.06.22_MD661_3_0171_prep2_gray/detector7/MD662&661-F57-2017.06.06-02.06.22_MD661_3_0171_prep2_gray_detector7_3N_sparseScores.bp\" \"/home/yuncong/CSHL_patch_scores/MD661/MD662&661-F57-2017.06.06-02.06.22_MD661_3_0171_prep2_gray/detector7/MD662&661-F57-2017.06.06-02.06.22_MD661_3_0171_prep2_gray_detector7_3N_sparseScores.bp\"\n"
     ]
    },
    {
     "name": "stderr",
     "output_type": "stream",
     "text": [
      "File does not exist: /home/yuncong/CSHL_patch_scores/MD661/MD662&661-F58-2017.06.06-02.35.45_MD661_2_0173_prep2_gray/detector7/MD662&661-F58-2017.06.06-02.35.45_MD661_2_0173_prep2_gray_detector7_12N_sparseScores.bp\n",
      "Error loading sparse scores for 12N: [Errno 2] No such file or directory: '/home/yuncong/CSHL_patch_scores/MD661/MD662&661-F58-2017.06.06-02.35.45_MD661_2_0173_prep2_gray/detector7/MD662&661-F58-2017.06.06-02.35.45_MD661_2_0173_prep2_gray_detector7_12N_sparseScores.bp'\n"
     ]
    },
    {
     "name": "stdout",
     "output_type": "stream",
     "text": [
      "rm -rf \"/home/yuncong/CSHL_patch_scores/MD661/MD662&661-F58-2017.06.06-02.35.45_MD661_2_0173_prep2_gray/detector7/MD662&661-F58-2017.06.06-02.35.45_MD661_2_0173_prep2_gray_detector7_3N_sparseScores.bp\" && mkdir -p \"/home/yuncong/CSHL_patch_scores/MD661/MD662&661-F58-2017.06.06-02.35.45_MD661_2_0173_prep2_gray/detector7\"\n",
      "aws s3 cp \"s3://mousebrainatlas-data/CSHL_patch_scores/MD661/MD662&661-F58-2017.06.06-02.35.45_MD661_2_0173_prep2_gray/detector7/MD662&661-F58-2017.06.06-02.35.45_MD661_2_0173_prep2_gray_detector7_3N_sparseScores.bp\" \"/home/yuncong/CSHL_patch_scores/MD661/MD662&661-F58-2017.06.06-02.35.45_MD661_2_0173_prep2_gray/detector7/MD662&661-F58-2017.06.06-02.35.45_MD661_2_0173_prep2_gray_detector7_3N_sparseScores.bp\"\n"
     ]
    },
    {
     "name": "stderr",
     "output_type": "stream",
     "text": [
      "File does not exist: /home/yuncong/CSHL_patch_scores/MD661/MD662&661-F58-2017.06.06-02.35.45_MD661_1_0172_prep2_gray/detector7/MD662&661-F58-2017.06.06-02.35.45_MD661_1_0172_prep2_gray_detector7_12N_sparseScores.bp\n",
      "Error loading sparse scores for 12N: [Errno 2] No such file or directory: '/home/yuncong/CSHL_patch_scores/MD661/MD662&661-F58-2017.06.06-02.35.45_MD661_1_0172_prep2_gray/detector7/MD662&661-F58-2017.06.06-02.35.45_MD661_1_0172_prep2_gray_detector7_12N_sparseScores.bp'\n"
     ]
    },
    {
     "name": "stdout",
     "output_type": "stream",
     "text": [
      "rm -rf \"/home/yuncong/CSHL_patch_scores/MD661/MD662&661-F58-2017.06.06-02.35.45_MD661_1_0172_prep2_gray/detector7/MD662&661-F58-2017.06.06-02.35.45_MD661_1_0172_prep2_gray_detector7_3N_sparseScores.bp\" && mkdir -p \"/home/yuncong/CSHL_patch_scores/MD661/MD662&661-F58-2017.06.06-02.35.45_MD661_1_0172_prep2_gray/detector7\"\n",
      "aws s3 cp \"s3://mousebrainatlas-data/CSHL_patch_scores/MD661/MD662&661-F58-2017.06.06-02.35.45_MD661_1_0172_prep2_gray/detector7/MD662&661-F58-2017.06.06-02.35.45_MD661_1_0172_prep2_gray_detector7_3N_sparseScores.bp\" \"/home/yuncong/CSHL_patch_scores/MD661/MD662&661-F58-2017.06.06-02.35.45_MD661_1_0172_prep2_gray/detector7/MD662&661-F58-2017.06.06-02.35.45_MD661_1_0172_prep2_gray_detector7_3N_sparseScores.bp\"\n"
     ]
    },
    {
     "name": "stderr",
     "output_type": "stream",
     "text": [
      "File does not exist: /home/yuncong/CSHL_patch_scores/MD661/MD662&661-F57-2017.06.06-02.06.22_MD661_3_0171_prep2_gray/detector7/MD662&661-F57-2017.06.06-02.06.22_MD661_3_0171_prep2_gray_detector7_3N_sparseScores.bp\n",
      "Error loading sparse scores for 3N: [Errno 2] No such file or directory: '/home/yuncong/CSHL_patch_scores/MD661/MD662&661-F57-2017.06.06-02.06.22_MD661_3_0171_prep2_gray/detector7/MD662&661-F57-2017.06.06-02.06.22_MD661_3_0171_prep2_gray_detector7_3N_sparseScores.bp'\n"
     ]
    },
    {
     "name": "stdout",
     "output_type": "stream",
     "text": [
      "rm -rf \"/home/yuncong/CSHL_patch_scores/MD661/MD662&661-F57-2017.06.06-02.06.22_MD661_3_0171_prep2_gray/detector7/MD662&661-F57-2017.06.06-02.06.22_MD661_3_0171_prep2_gray_detector7_4N_sparseScores.bp\" && mkdir -p \"/home/yuncong/CSHL_patch_scores/MD661/MD662&661-F57-2017.06.06-02.06.22_MD661_3_0171_prep2_gray/detector7\"\n",
      "aws s3 cp \"s3://mousebrainatlas-data/CSHL_patch_scores/MD661/MD662&661-F57-2017.06.06-02.06.22_MD661_3_0171_prep2_gray/detector7/MD662&661-F57-2017.06.06-02.06.22_MD661_3_0171_prep2_gray_detector7_4N_sparseScores.bp\" \"/home/yuncong/CSHL_patch_scores/MD661/MD662&661-F57-2017.06.06-02.06.22_MD661_3_0171_prep2_gray/detector7/MD662&661-F57-2017.06.06-02.06.22_MD661_3_0171_prep2_gray_detector7_4N_sparseScores.bp\"\n"
     ]
    },
    {
     "name": "stderr",
     "output_type": "stream",
     "text": [
      "File does not exist: /home/yuncong/CSHL_patch_scores/MD661/MD662&661-F58-2017.06.06-02.35.45_MD661_2_0173_prep2_gray/detector7/MD662&661-F58-2017.06.06-02.35.45_MD661_2_0173_prep2_gray_detector7_3N_sparseScores.bp\n",
      "Error loading sparse scores for 3N: [Errno 2] No such file or directory: '/home/yuncong/CSHL_patch_scores/MD661/MD662&661-F58-2017.06.06-02.35.45_MD661_2_0173_prep2_gray/detector7/MD662&661-F58-2017.06.06-02.35.45_MD661_2_0173_prep2_gray_detector7_3N_sparseScores.bp'\n"
     ]
    },
    {
     "name": "stdout",
     "output_type": "stream",
     "text": [
      "rm -rf \"/home/yuncong/CSHL_patch_scores/MD661/MD662&661-F58-2017.06.06-02.35.45_MD661_2_0173_prep2_gray/detector7/MD662&661-F58-2017.06.06-02.35.45_MD661_2_0173_prep2_gray_detector7_4N_sparseScores.bp\" && mkdir -p \"/home/yuncong/CSHL_patch_scores/MD661/MD662&661-F58-2017.06.06-02.35.45_MD661_2_0173_prep2_gray/detector7\"\n",
      "aws s3 cp \"s3://mousebrainatlas-data/CSHL_patch_scores/MD661/MD662&661-F58-2017.06.06-02.35.45_MD661_2_0173_prep2_gray/detector7/MD662&661-F58-2017.06.06-02.35.45_MD661_2_0173_prep2_gray_detector7_4N_sparseScores.bp\" \"/home/yuncong/CSHL_patch_scores/MD661/MD662&661-F58-2017.06.06-02.35.45_MD661_2_0173_prep2_gray/detector7/MD662&661-F58-2017.06.06-02.35.45_MD661_2_0173_prep2_gray_detector7_4N_sparseScores.bp\"\n"
     ]
    },
    {
     "name": "stderr",
     "output_type": "stream",
     "text": [
      "File does not exist: /home/yuncong/CSHL_patch_scores/MD661/MD662&661-F58-2017.06.06-02.35.45_MD661_1_0172_prep2_gray/detector7/MD662&661-F58-2017.06.06-02.35.45_MD661_1_0172_prep2_gray_detector7_3N_sparseScores.bp\n",
      "Error loading sparse scores for 3N: [Errno 2] No such file or directory: '/home/yuncong/CSHL_patch_scores/MD661/MD662&661-F58-2017.06.06-02.35.45_MD661_1_0172_prep2_gray/detector7/MD662&661-F58-2017.06.06-02.35.45_MD661_1_0172_prep2_gray_detector7_3N_sparseScores.bp'\n"
     ]
    },
    {
     "name": "stdout",
     "output_type": "stream",
     "text": [
      "rm -rf \"/home/yuncong/CSHL_patch_scores/MD661/MD662&661-F58-2017.06.06-02.35.45_MD661_1_0172_prep2_gray/detector7/MD662&661-F58-2017.06.06-02.35.45_MD661_1_0172_prep2_gray_detector7_4N_sparseScores.bp\" && mkdir -p \"/home/yuncong/CSHL_patch_scores/MD661/MD662&661-F58-2017.06.06-02.35.45_MD661_1_0172_prep2_gray/detector7\"\n",
      "aws s3 cp \"s3://mousebrainatlas-data/CSHL_patch_scores/MD661/MD662&661-F58-2017.06.06-02.35.45_MD661_1_0172_prep2_gray/detector7/MD662&661-F58-2017.06.06-02.35.45_MD661_1_0172_prep2_gray_detector7_4N_sparseScores.bp\" \"/home/yuncong/CSHL_patch_scores/MD661/MD662&661-F58-2017.06.06-02.35.45_MD661_1_0172_prep2_gray/detector7/MD662&661-F58-2017.06.06-02.35.45_MD661_1_0172_prep2_gray_detector7_4N_sparseScores.bp\"\n"
     ]
    },
    {
     "name": "stderr",
     "output_type": "stream",
     "text": [
      "File does not exist: /home/yuncong/CSHL_patch_scores/MD661/MD662&661-F57-2017.06.06-02.06.22_MD661_3_0171_prep2_gray/detector7/MD662&661-F57-2017.06.06-02.06.22_MD661_3_0171_prep2_gray_detector7_4N_sparseScores.bp\n",
      "Error loading sparse scores for 4N: [Errno 2] No such file or directory: '/home/yuncong/CSHL_patch_scores/MD661/MD662&661-F57-2017.06.06-02.06.22_MD661_3_0171_prep2_gray/detector7/MD662&661-F57-2017.06.06-02.06.22_MD661_3_0171_prep2_gray_detector7_4N_sparseScores.bp'\n"
     ]
    },
    {
     "name": "stdout",
     "output_type": "stream",
     "text": [
      "rm -rf \"/home/yuncong/CSHL_patch_scores/MD661/MD662&661-F57-2017.06.06-02.06.22_MD661_3_0171_prep2_gray/detector7/MD662&661-F57-2017.06.06-02.06.22_MD661_3_0171_prep2_gray_detector7_5N_sparseScores.bp\" && mkdir -p \"/home/yuncong/CSHL_patch_scores/MD661/MD662&661-F57-2017.06.06-02.06.22_MD661_3_0171_prep2_gray/detector7\"\n",
      "aws s3 cp \"s3://mousebrainatlas-data/CSHL_patch_scores/MD661/MD662&661-F57-2017.06.06-02.06.22_MD661_3_0171_prep2_gray/detector7/MD662&661-F57-2017.06.06-02.06.22_MD661_3_0171_prep2_gray_detector7_5N_sparseScores.bp\" \"/home/yuncong/CSHL_patch_scores/MD661/MD662&661-F57-2017.06.06-02.06.22_MD661_3_0171_prep2_gray/detector7/MD662&661-F57-2017.06.06-02.06.22_MD661_3_0171_prep2_gray_detector7_5N_sparseScores.bp\"\n"
     ]
    },
    {
     "name": "stderr",
     "output_type": "stream",
     "text": [
      "File does not exist: /home/yuncong/CSHL_patch_scores/MD661/MD662&661-F58-2017.06.06-02.35.45_MD661_1_0172_prep2_gray/detector7/MD662&661-F58-2017.06.06-02.35.45_MD661_1_0172_prep2_gray_detector7_4N_sparseScores.bp\n",
      "Error loading sparse scores for 4N: [Errno 2] No such file or directory: '/home/yuncong/CSHL_patch_scores/MD661/MD662&661-F58-2017.06.06-02.35.45_MD661_1_0172_prep2_gray/detector7/MD662&661-F58-2017.06.06-02.35.45_MD661_1_0172_prep2_gray_detector7_4N_sparseScores.bp'\n"
     ]
    },
    {
     "name": "stdout",
     "output_type": "stream",
     "text": [
      "rm -rf \"/home/yuncong/CSHL_patch_scores/MD661/MD662&661-F58-2017.06.06-02.35.45_MD661_1_0172_prep2_gray/detector7/MD662&661-F58-2017.06.06-02.35.45_MD661_1_0172_prep2_gray_detector7_5N_sparseScores.bp\" && mkdir -p \"/home/yuncong/CSHL_patch_scores/MD661/MD662&661-F58-2017.06.06-02.35.45_MD661_1_0172_prep2_gray/detector7\"\n"
     ]
    },
    {
     "name": "stderr",
     "output_type": "stream",
     "text": [
      "File does not exist: /home/yuncong/CSHL_patch_scores/MD661/MD662&661-F58-2017.06.06-02.35.45_MD661_2_0173_prep2_gray/detector7/MD662&661-F58-2017.06.06-02.35.45_MD661_2_0173_prep2_gray_detector7_4N_sparseScores.bp\n",
      "Error loading sparse scores for 4N: [Errno 2] No such file or directory: '/home/yuncong/CSHL_patch_scores/MD661/MD662&661-F58-2017.06.06-02.35.45_MD661_2_0173_prep2_gray/detector7/MD662&661-F58-2017.06.06-02.35.45_MD661_2_0173_prep2_gray_detector7_4N_sparseScores.bp'\n"
     ]
    },
    {
     "name": "stdout",
     "output_type": "stream",
     "text": [
      "rm -rf \"/home/yuncong/CSHL_patch_scores/MD661/MD662&661-F58-2017.06.06-02.35.45_MD661_2_0173_prep2_gray/detector7/MD662&661-F58-2017.06.06-02.35.45_MD661_2_0173_prep2_gray_detector7_5N_sparseScores.bp\" && mkdir -p \"/home/yuncong/CSHL_patch_scores/MD661/MD662&661-F58-2017.06.06-02.35.45_MD661_2_0173_prep2_gray/detector7\"\n",
      "aws s3 cp \"s3://mousebrainatlas-data/CSHL_patch_scores/MD661/MD662&661-F58-2017.06.06-02.35.45_MD661_1_0172_prep2_gray/detector7/MD662&661-F58-2017.06.06-02.35.45_MD661_1_0172_prep2_gray_detector7_5N_sparseScores.bp\" \"/home/yuncong/CSHL_patch_scores/MD661/MD662&661-F58-2017.06.06-02.35.45_MD661_1_0172_prep2_gray/detector7/MD662&661-F58-2017.06.06-02.35.45_MD661_1_0172_prep2_gray_detector7_5N_sparseScores.bp\"\n",
      "aws s3 cp \"s3://mousebrainatlas-data/CSHL_patch_scores/MD661/MD662&661-F58-2017.06.06-02.35.45_MD661_2_0173_prep2_gray/detector7/MD662&661-F58-2017.06.06-02.35.45_MD661_2_0173_prep2_gray_detector7_5N_sparseScores.bp\" \"/home/yuncong/CSHL_patch_scores/MD661/MD662&661-F58-2017.06.06-02.35.45_MD661_2_0173_prep2_gray/detector7/MD662&661-F58-2017.06.06-02.35.45_MD661_2_0173_prep2_gray_detector7_5N_sparseScores.bp\"\n"
     ]
    },
    {
     "name": "stderr",
     "output_type": "stream",
     "text": [
      "File does not exist: /home/yuncong/CSHL_patch_scores/MD661/MD662&661-F57-2017.06.06-02.06.22_MD661_3_0171_prep2_gray/detector7/MD662&661-F57-2017.06.06-02.06.22_MD661_3_0171_prep2_gray_detector7_5N_sparseScores.bp\n",
      "Error loading sparse scores for 5N: [Errno 2] No such file or directory: '/home/yuncong/CSHL_patch_scores/MD661/MD662&661-F57-2017.06.06-02.06.22_MD661_3_0171_prep2_gray/detector7/MD662&661-F57-2017.06.06-02.06.22_MD661_3_0171_prep2_gray_detector7_5N_sparseScores.bp'\n"
     ]
    },
    {
     "name": "stdout",
     "output_type": "stream",
     "text": [
      "rm -rf \"/home/yuncong/CSHL_patch_scores/MD661/MD662&661-F57-2017.06.06-02.06.22_MD661_3_0171_prep2_gray/detector7/MD662&661-F57-2017.06.06-02.06.22_MD661_3_0171_prep2_gray_detector7_6N_sparseScores.bp\" && mkdir -p \"/home/yuncong/CSHL_patch_scores/MD661/MD662&661-F57-2017.06.06-02.06.22_MD661_3_0171_prep2_gray/detector7\"\n",
      "aws s3 cp \"s3://mousebrainatlas-data/CSHL_patch_scores/MD661/MD662&661-F57-2017.06.06-02.06.22_MD661_3_0171_prep2_gray/detector7/MD662&661-F57-2017.06.06-02.06.22_MD661_3_0171_prep2_gray_detector7_6N_sparseScores.bp\" \"/home/yuncong/CSHL_patch_scores/MD661/MD662&661-F57-2017.06.06-02.06.22_MD661_3_0171_prep2_gray/detector7/MD662&661-F57-2017.06.06-02.06.22_MD661_3_0171_prep2_gray_detector7_6N_sparseScores.bp\"\n"
     ]
    },
    {
     "name": "stderr",
     "output_type": "stream",
     "text": [
      "File does not exist: /home/yuncong/CSHL_patch_scores/MD661/MD662&661-F58-2017.06.06-02.35.45_MD661_1_0172_prep2_gray/detector7/MD662&661-F58-2017.06.06-02.35.45_MD661_1_0172_prep2_gray_detector7_5N_sparseScores.bp\n",
      "Error loading sparse scores for 5N: [Errno 2] No such file or directory: '/home/yuncong/CSHL_patch_scores/MD661/MD662&661-F58-2017.06.06-02.35.45_MD661_1_0172_prep2_gray/detector7/MD662&661-F58-2017.06.06-02.35.45_MD661_1_0172_prep2_gray_detector7_5N_sparseScores.bp'\n"
     ]
    },
    {
     "name": "stdout",
     "output_type": "stream",
     "text": [
      "rm -rf \"/home/yuncong/CSHL_patch_scores/MD661/MD662&661-F58-2017.06.06-02.35.45_MD661_1_0172_prep2_gray/detector7/MD662&661-F58-2017.06.06-02.35.45_MD661_1_0172_prep2_gray_detector7_6N_sparseScores.bp\" && mkdir -p \"/home/yuncong/CSHL_patch_scores/MD661/MD662&661-F58-2017.06.06-02.35.45_MD661_1_0172_prep2_gray/detector7\"\n"
     ]
    },
    {
     "name": "stderr",
     "output_type": "stream",
     "text": [
      "File does not exist: /home/yuncong/CSHL_patch_scores/MD661/MD662&661-F58-2017.06.06-02.35.45_MD661_2_0173_prep2_gray/detector7/MD662&661-F58-2017.06.06-02.35.45_MD661_2_0173_prep2_gray_detector7_5N_sparseScores.bp\n",
      "Error loading sparse scores for 5N: [Errno 2] No such file or directory: '/home/yuncong/CSHL_patch_scores/MD661/MD662&661-F58-2017.06.06-02.35.45_MD661_2_0173_prep2_gray/detector7/MD662&661-F58-2017.06.06-02.35.45_MD661_2_0173_prep2_gray_detector7_5N_sparseScores.bp'\n"
     ]
    },
    {
     "name": "stdout",
     "output_type": "stream",
     "text": [
      "rm -rf \"/home/yuncong/CSHL_patch_scores/MD661/MD662&661-F58-2017.06.06-02.35.45_MD661_2_0173_prep2_gray/detector7/MD662&661-F58-2017.06.06-02.35.45_MD661_2_0173_prep2_gray_detector7_6N_sparseScores.bp\" && mkdir -p \"/home/yuncong/CSHL_patch_scores/MD661/MD662&661-F58-2017.06.06-02.35.45_MD661_2_0173_prep2_gray/detector7\"\n",
      "aws s3 cp \"s3://mousebrainatlas-data/CSHL_patch_scores/MD661/MD662&661-F58-2017.06.06-02.35.45_MD661_1_0172_prep2_gray/detector7/MD662&661-F58-2017.06.06-02.35.45_MD661_1_0172_prep2_gray_detector7_6N_sparseScores.bp\" \"/home/yuncong/CSHL_patch_scores/MD661/MD662&661-F58-2017.06.06-02.35.45_MD661_1_0172_prep2_gray/detector7/MD662&661-F58-2017.06.06-02.35.45_MD661_1_0172_prep2_gray_detector7_6N_sparseScores.bp\"\n",
      "aws s3 cp \"s3://mousebrainatlas-data/CSHL_patch_scores/MD661/MD662&661-F58-2017.06.06-02.35.45_MD661_2_0173_prep2_gray/detector7/MD662&661-F58-2017.06.06-02.35.45_MD661_2_0173_prep2_gray_detector7_6N_sparseScores.bp\" \"/home/yuncong/CSHL_patch_scores/MD661/MD662&661-F58-2017.06.06-02.35.45_MD661_2_0173_prep2_gray/detector7/MD662&661-F58-2017.06.06-02.35.45_MD661_2_0173_prep2_gray_detector7_6N_sparseScores.bp\"\n"
     ]
    },
    {
     "name": "stderr",
     "output_type": "stream",
     "text": [
      "File does not exist: /home/yuncong/CSHL_patch_scores/MD661/MD662&661-F57-2017.06.06-02.06.22_MD661_3_0171_prep2_gray/detector7/MD662&661-F57-2017.06.06-02.06.22_MD661_3_0171_prep2_gray_detector7_6N_sparseScores.bp\n",
      "Error loading sparse scores for 6N: [Errno 2] No such file or directory: '/home/yuncong/CSHL_patch_scores/MD661/MD662&661-F57-2017.06.06-02.06.22_MD661_3_0171_prep2_gray/detector7/MD662&661-F57-2017.06.06-02.06.22_MD661_3_0171_prep2_gray_detector7_6N_sparseScores.bp'\n"
     ]
    },
    {
     "name": "stdout",
     "output_type": "stream",
     "text": [
      "rm -rf \"/home/yuncong/CSHL_patch_scores/MD661/MD662&661-F57-2017.06.06-02.06.22_MD661_3_0171_prep2_gray/detector7/MD662&661-F57-2017.06.06-02.06.22_MD661_3_0171_prep2_gray_detector7_7N_sparseScores.bp\" && mkdir -p \"/home/yuncong/CSHL_patch_scores/MD661/MD662&661-F57-2017.06.06-02.06.22_MD661_3_0171_prep2_gray/detector7\"\n"
     ]
    },
    {
     "name": "stderr",
     "output_type": "stream",
     "text": [
      "File does not exist: /home/yuncong/CSHL_patch_scores/MD661/MD662&661-F58-2017.06.06-02.35.45_MD661_1_0172_prep2_gray/detector7/MD662&661-F58-2017.06.06-02.35.45_MD661_1_0172_prep2_gray_detector7_6N_sparseScores.bp\n"
     ]
    },
    {
     "name": "stdout",
     "output_type": "stream",
     "text": [
      "aws s3 cp \"s3://mousebrainatlas-data/CSHL_patch_scores/MD661/MD662&661-F57-2017.06.06-02.06.22_MD661_3_0171_prep2_gray/detector7/MD662&661-F57-2017.06.06-02.06.22_MD661_3_0171_prep2_gray_detector7_7N_sparseScores.bp\" \"/home/yuncong/CSHL_patch_scores/MD661/MD662&661-F57-2017.06.06-02.06.22_MD661_3_0171_prep2_gray/detector7/MD662&661-F57-2017.06.06-02.06.22_MD661_3_0171_prep2_gray_detector7_7N_sparseScores.bp\"\n"
     ]
    },
    {
     "name": "stderr",
     "output_type": "stream",
     "text": [
      "Error loading sparse scores for 6N: [Errno 2] No such file or directory: '/home/yuncong/CSHL_patch_scores/MD661/MD662&661-F58-2017.06.06-02.35.45_MD661_1_0172_prep2_gray/detector7/MD662&661-F58-2017.06.06-02.35.45_MD661_1_0172_prep2_gray_detector7_6N_sparseScores.bp'\n"
     ]
    },
    {
     "name": "stdout",
     "output_type": "stream",
     "text": [
      "rm -rf \"/home/yuncong/CSHL_patch_scores/MD661/MD662&661-F58-2017.06.06-02.35.45_MD661_1_0172_prep2_gray/detector7/MD662&661-F58-2017.06.06-02.35.45_MD661_1_0172_prep2_gray_detector7_7N_sparseScores.bp\" && mkdir -p \"/home/yuncong/CSHL_patch_scores/MD661/MD662&661-F58-2017.06.06-02.35.45_MD661_1_0172_prep2_gray/detector7\"\n",
      "aws s3 cp \"s3://mousebrainatlas-data/CSHL_patch_scores/MD661/MD662&661-F58-2017.06.06-02.35.45_MD661_1_0172_prep2_gray/detector7/MD662&661-F58-2017.06.06-02.35.45_MD661_1_0172_prep2_gray_detector7_7N_sparseScores.bp\" \"/home/yuncong/CSHL_patch_scores/MD661/MD662&661-F58-2017.06.06-02.35.45_MD661_1_0172_prep2_gray/detector7/MD662&661-F58-2017.06.06-02.35.45_MD661_1_0172_prep2_gray_detector7_7N_sparseScores.bp\"\n"
     ]
    },
    {
     "name": "stderr",
     "output_type": "stream",
     "text": [
      "File does not exist: /home/yuncong/CSHL_patch_scores/MD661/MD662&661-F58-2017.06.06-02.35.45_MD661_2_0173_prep2_gray/detector7/MD662&661-F58-2017.06.06-02.35.45_MD661_2_0173_prep2_gray_detector7_6N_sparseScores.bp\n",
      "Error loading sparse scores for 6N: [Errno 2] No such file or directory: '/home/yuncong/CSHL_patch_scores/MD661/MD662&661-F58-2017.06.06-02.35.45_MD661_2_0173_prep2_gray/detector7/MD662&661-F58-2017.06.06-02.35.45_MD661_2_0173_prep2_gray_detector7_6N_sparseScores.bp'\n"
     ]
    },
    {
     "name": "stdout",
     "output_type": "stream",
     "text": [
      "rm -rf \"/home/yuncong/CSHL_patch_scores/MD661/MD662&661-F58-2017.06.06-02.35.45_MD661_2_0173_prep2_gray/detector7/MD662&661-F58-2017.06.06-02.35.45_MD661_2_0173_prep2_gray_detector7_7N_sparseScores.bp\" && mkdir -p \"/home/yuncong/CSHL_patch_scores/MD661/MD662&661-F58-2017.06.06-02.35.45_MD661_2_0173_prep2_gray/detector7\"\n",
      "aws s3 cp \"s3://mousebrainatlas-data/CSHL_patch_scores/MD661/MD662&661-F58-2017.06.06-02.35.45_MD661_2_0173_prep2_gray/detector7/MD662&661-F58-2017.06.06-02.35.45_MD661_2_0173_prep2_gray_detector7_7N_sparseScores.bp\" \"/home/yuncong/CSHL_patch_scores/MD661/MD662&661-F58-2017.06.06-02.35.45_MD661_2_0173_prep2_gray/detector7/MD662&661-F58-2017.06.06-02.35.45_MD661_2_0173_prep2_gray_detector7_7N_sparseScores.bp\"\n"
     ]
    },
    {
     "name": "stderr",
     "output_type": "stream",
     "text": [
      "File does not exist: /home/yuncong/CSHL_patch_scores/MD661/MD662&661-F58-2017.06.06-02.35.45_MD661_1_0172_prep2_gray/detector7/MD662&661-F58-2017.06.06-02.35.45_MD661_1_0172_prep2_gray_detector7_7N_sparseScores.bp\n",
      "File does not exist: /home/yuncong/CSHL_patch_scores/MD661/MD662&661-F57-2017.06.06-02.06.22_MD661_3_0171_prep2_gray/detector7/MD662&661-F57-2017.06.06-02.06.22_MD661_3_0171_prep2_gray_detector7_7N_sparseScores.bp\n",
      "Error loading sparse scores for 7N: [Errno 2] No such file or directory: '/home/yuncong/CSHL_patch_scores/MD661/MD662&661-F58-2017.06.06-02.35.45_MD661_1_0172_prep2_gray/detector7/MD662&661-F58-2017.06.06-02.35.45_MD661_1_0172_prep2_gray_detector7_7N_sparseScores.bp'\n",
      "Error loading sparse scores for 7N: [Errno 2] No such file or directory: '/home/yuncong/CSHL_patch_scores/MD661/MD662&661-F57-2017.06.06-02.06.22_MD661_3_0171_prep2_gray/detector7/MD662&661-F57-2017.06.06-02.06.22_MD661_3_0171_prep2_gray_detector7_7N_sparseScores.bp'\n"
     ]
    },
    {
     "name": "stdout",
     "output_type": "stream",
     "text": [
      "rm -rf \"/home/yuncong/CSHL_patch_scores/MD661/MD662&661-F58-2017.06.06-02.35.45_MD661_1_0172_prep2_gray/detector7/MD662&661-F58-2017.06.06-02.35.45_MD661_1_0172_prep2_gray_detector7_7n_sparseScores.bp\" && mkdir -p \"/home/yuncong/CSHL_patch_scores/MD661/MD662&661-F58-2017.06.06-02.35.45_MD661_1_0172_prep2_gray/detector7\"\n",
      "rm -rf \"/home/yuncong/CSHL_patch_scores/MD661/MD662&661-F57-2017.06.06-02.06.22_MD661_3_0171_prep2_gray/detector7/MD662&661-F57-2017.06.06-02.06.22_MD661_3_0171_prep2_gray_detector7_7n_sparseScores.bp\" && mkdir -p \"/home/yuncong/CSHL_patch_scores/MD661/MD662&661-F57-2017.06.06-02.06.22_MD661_3_0171_prep2_gray/detector7\"\n",
      "aws s3 cp \"s3://mousebrainatlas-data/CSHL_patch_scores/MD661/MD662&661-F58-2017.06.06-02.35.45_MD661_1_0172_prep2_gray/detector7/MD662&661-F58-2017.06.06-02.35.45_MD661_1_0172_prep2_gray_detector7_7n_sparseScores.bp\" \"/home/yuncong/CSHL_patch_scores/MD661/MD662&661-F58-2017.06.06-02.35.45_MD661_1_0172_prep2_gray/detector7/MD662&661-F58-2017.06.06-02.35.45_MD661_1_0172_prep2_gray_detector7_7n_sparseScores.bp\"\n",
      "aws s3 cp \"s3://mousebrainatlas-data/CSHL_patch_scores/MD661/MD662&661-F57-2017.06.06-02.06.22_MD661_3_0171_prep2_gray/detector7/MD662&661-F57-2017.06.06-02.06.22_MD661_3_0171_prep2_gray_detector7_7n_sparseScores.bp\" \"/home/yuncong/CSHL_patch_scores/MD661/MD662&661-F57-2017.06.06-02.06.22_MD661_3_0171_prep2_gray/detector7/MD662&661-F57-2017.06.06-02.06.22_MD661_3_0171_prep2_gray_detector7_7n_sparseScores.bp\"\n"
     ]
    },
    {
     "name": "stderr",
     "output_type": "stream",
     "text": [
      "File does not exist: /home/yuncong/CSHL_patch_scores/MD661/MD662&661-F58-2017.06.06-02.35.45_MD661_2_0173_prep2_gray/detector7/MD662&661-F58-2017.06.06-02.35.45_MD661_2_0173_prep2_gray_detector7_7N_sparseScores.bp\n",
      "Error loading sparse scores for 7N: [Errno 2] No such file or directory: '/home/yuncong/CSHL_patch_scores/MD661/MD662&661-F58-2017.06.06-02.35.45_MD661_2_0173_prep2_gray/detector7/MD662&661-F58-2017.06.06-02.35.45_MD661_2_0173_prep2_gray_detector7_7N_sparseScores.bp'\n"
     ]
    },
    {
     "name": "stdout",
     "output_type": "stream",
     "text": [
      "rm -rf \"/home/yuncong/CSHL_patch_scores/MD661/MD662&661-F58-2017.06.06-02.35.45_MD661_2_0173_prep2_gray/detector7/MD662&661-F58-2017.06.06-02.35.45_MD661_2_0173_prep2_gray_detector7_7n_sparseScores.bp\" && mkdir -p \"/home/yuncong/CSHL_patch_scores/MD661/MD662&661-F58-2017.06.06-02.35.45_MD661_2_0173_prep2_gray/detector7\"\n",
      "aws s3 cp \"s3://mousebrainatlas-data/CSHL_patch_scores/MD661/MD662&661-F58-2017.06.06-02.35.45_MD661_2_0173_prep2_gray/detector7/MD662&661-F58-2017.06.06-02.35.45_MD661_2_0173_prep2_gray_detector7_7n_sparseScores.bp\" \"/home/yuncong/CSHL_patch_scores/MD661/MD662&661-F58-2017.06.06-02.35.45_MD661_2_0173_prep2_gray/detector7/MD662&661-F58-2017.06.06-02.35.45_MD661_2_0173_prep2_gray_detector7_7n_sparseScores.bp\"\n"
     ]
    },
    {
     "name": "stderr",
     "output_type": "stream",
     "text": [
      "File does not exist: /home/yuncong/CSHL_patch_scores/MD661/MD662&661-F57-2017.06.06-02.06.22_MD661_3_0171_prep2_gray/detector7/MD662&661-F57-2017.06.06-02.06.22_MD661_3_0171_prep2_gray_detector7_7n_sparseScores.bp\n",
      "Error loading sparse scores for 7n: [Errno 2] No such file or directory: '/home/yuncong/CSHL_patch_scores/MD661/MD662&661-F57-2017.06.06-02.06.22_MD661_3_0171_prep2_gray/detector7/MD662&661-F57-2017.06.06-02.06.22_MD661_3_0171_prep2_gray_detector7_7n_sparseScores.bp'\n"
     ]
    },
    {
     "name": "stdout",
     "output_type": "stream",
     "text": [
      "rm -rf \"/home/yuncong/CSHL_patch_scores/MD661/MD662&661-F57-2017.06.06-02.06.22_MD661_3_0171_prep2_gray/detector7/MD662&661-F57-2017.06.06-02.06.22_MD661_3_0171_prep2_gray_detector7_AP_sparseScores.bp\" && mkdir -p \"/home/yuncong/CSHL_patch_scores/MD661/MD662&661-F57-2017.06.06-02.06.22_MD661_3_0171_prep2_gray/detector7\"\n"
     ]
    },
    {
     "name": "stderr",
     "output_type": "stream",
     "text": [
      "File does not exist: /home/yuncong/CSHL_patch_scores/MD661/MD662&661-F58-2017.06.06-02.35.45_MD661_1_0172_prep2_gray/detector7/MD662&661-F58-2017.06.06-02.35.45_MD661_1_0172_prep2_gray_detector7_7n_sparseScores.bp\n",
      "Error loading sparse scores for 7n: [Errno 2] No such file or directory: '/home/yuncong/CSHL_patch_scores/MD661/MD662&661-F58-2017.06.06-02.35.45_MD661_1_0172_prep2_gray/detector7/MD662&661-F58-2017.06.06-02.35.45_MD661_1_0172_prep2_gray_detector7_7n_sparseScores.bp'\n"
     ]
    },
    {
     "name": "stdout",
     "output_type": "stream",
     "text": [
      "rm -rf \"/home/yuncong/CSHL_patch_scores/MD661/MD662&661-F58-2017.06.06-02.35.45_MD661_1_0172_prep2_gray/detector7/MD662&661-F58-2017.06.06-02.35.45_MD661_1_0172_prep2_gray_detector7_AP_sparseScores.bp\" && mkdir -p \"/home/yuncong/CSHL_patch_scores/MD661/MD662&661-F58-2017.06.06-02.35.45_MD661_1_0172_prep2_gray/detector7\"\n",
      "aws s3 cp \"s3://mousebrainatlas-data/CSHL_patch_scores/MD661/MD662&661-F58-2017.06.06-02.35.45_MD661_1_0172_prep2_gray/detector7/MD662&661-F58-2017.06.06-02.35.45_MD661_1_0172_prep2_gray_detector7_AP_sparseScores.bp\" \"/home/yuncong/CSHL_patch_scores/MD661/MD662&661-F58-2017.06.06-02.35.45_MD661_1_0172_prep2_gray/detector7/MD662&661-F58-2017.06.06-02.35.45_MD661_1_0172_prep2_gray_detector7_AP_sparseScores.bp\"\n",
      "aws s3 cp \"s3://mousebrainatlas-data/CSHL_patch_scores/MD661/MD662&661-F57-2017.06.06-02.06.22_MD661_3_0171_prep2_gray/detector7/MD662&661-F57-2017.06.06-02.06.22_MD661_3_0171_prep2_gray_detector7_AP_sparseScores.bp\" \"/home/yuncong/CSHL_patch_scores/MD661/MD662&661-F57-2017.06.06-02.06.22_MD661_3_0171_prep2_gray/detector7/MD662&661-F57-2017.06.06-02.06.22_MD661_3_0171_prep2_gray_detector7_AP_sparseScores.bp\"\n"
     ]
    },
    {
     "name": "stderr",
     "output_type": "stream",
     "text": [
      "File does not exist: /home/yuncong/CSHL_patch_scores/MD661/MD662&661-F58-2017.06.06-02.35.45_MD661_2_0173_prep2_gray/detector7/MD662&661-F58-2017.06.06-02.35.45_MD661_2_0173_prep2_gray_detector7_7n_sparseScores.bp\n",
      "Error loading sparse scores for 7n: [Errno 2] No such file or directory: '/home/yuncong/CSHL_patch_scores/MD661/MD662&661-F58-2017.06.06-02.35.45_MD661_2_0173_prep2_gray/detector7/MD662&661-F58-2017.06.06-02.35.45_MD661_2_0173_prep2_gray_detector7_7n_sparseScores.bp'\n"
     ]
    },
    {
     "name": "stdout",
     "output_type": "stream",
     "text": [
      "rm -rf \"/home/yuncong/CSHL_patch_scores/MD661/MD662&661-F58-2017.06.06-02.35.45_MD661_2_0173_prep2_gray/detector7/MD662&661-F58-2017.06.06-02.35.45_MD661_2_0173_prep2_gray_detector7_AP_sparseScores.bp\" && mkdir -p \"/home/yuncong/CSHL_patch_scores/MD661/MD662&661-F58-2017.06.06-02.35.45_MD661_2_0173_prep2_gray/detector7\"\n",
      "aws s3 cp \"s3://mousebrainatlas-data/CSHL_patch_scores/MD661/MD662&661-F58-2017.06.06-02.35.45_MD661_2_0173_prep2_gray/detector7/MD662&661-F58-2017.06.06-02.35.45_MD661_2_0173_prep2_gray_detector7_AP_sparseScores.bp\" \"/home/yuncong/CSHL_patch_scores/MD661/MD662&661-F58-2017.06.06-02.35.45_MD661_2_0173_prep2_gray/detector7/MD662&661-F58-2017.06.06-02.35.45_MD661_2_0173_prep2_gray_detector7_AP_sparseScores.bp\"\n"
     ]
    },
    {
     "name": "stderr",
     "output_type": "stream",
     "text": [
      "File does not exist: /home/yuncong/CSHL_patch_scores/MD661/MD662&661-F58-2017.06.06-02.35.45_MD661_1_0172_prep2_gray/detector7/MD662&661-F58-2017.06.06-02.35.45_MD661_1_0172_prep2_gray_detector7_AP_sparseScores.bp\n",
      "Error loading sparse scores for AP: [Errno 2] No such file or directory: '/home/yuncong/CSHL_patch_scores/MD661/MD662&661-F58-2017.06.06-02.35.45_MD661_1_0172_prep2_gray/detector7/MD662&661-F58-2017.06.06-02.35.45_MD661_1_0172_prep2_gray_detector7_AP_sparseScores.bp'\n",
      "File does not exist: /home/yuncong/CSHL_patch_scores/MD661/MD662&661-F57-2017.06.06-02.06.22_MD661_3_0171_prep2_gray/detector7/MD662&661-F57-2017.06.06-02.06.22_MD661_3_0171_prep2_gray_detector7_AP_sparseScores.bp\n"
     ]
    },
    {
     "name": "stdout",
     "output_type": "stream",
     "text": [
      "rm -rf \"/home/yuncong/CSHL_patch_scores/MD661/MD662&661-F58-2017.06.06-02.35.45_MD661_1_0172_prep2_gray/detector7/MD662&661-F58-2017.06.06-02.35.45_MD661_1_0172_prep2_gray_detector7_Amb_sparseScores.bp\" && mkdir -p \"/home/yuncong/CSHL_patch_scores/MD661/MD662&661-F58-2017.06.06-02.35.45_MD661_1_0172_prep2_gray/detector7\"\n"
     ]
    },
    {
     "name": "stderr",
     "output_type": "stream",
     "text": [
      "Error loading sparse scores for AP: [Errno 2] No such file or directory: '/home/yuncong/CSHL_patch_scores/MD661/MD662&661-F57-2017.06.06-02.06.22_MD661_3_0171_prep2_gray/detector7/MD662&661-F57-2017.06.06-02.06.22_MD661_3_0171_prep2_gray_detector7_AP_sparseScores.bp'\n"
     ]
    },
    {
     "name": "stdout",
     "output_type": "stream",
     "text": [
      "rm -rf \"/home/yuncong/CSHL_patch_scores/MD661/MD662&661-F57-2017.06.06-02.06.22_MD661_3_0171_prep2_gray/detector7/MD662&661-F57-2017.06.06-02.06.22_MD661_3_0171_prep2_gray_detector7_Amb_sparseScores.bp\" && mkdir -p \"/home/yuncong/CSHL_patch_scores/MD661/MD662&661-F57-2017.06.06-02.06.22_MD661_3_0171_prep2_gray/detector7\"\n",
      "aws s3 cp \"s3://mousebrainatlas-data/CSHL_patch_scores/MD661/MD662&661-F58-2017.06.06-02.35.45_MD661_1_0172_prep2_gray/detector7/MD662&661-F58-2017.06.06-02.35.45_MD661_1_0172_prep2_gray_detector7_Amb_sparseScores.bp\" \"/home/yuncong/CSHL_patch_scores/MD661/MD662&661-F58-2017.06.06-02.35.45_MD661_1_0172_prep2_gray/detector7/MD662&661-F58-2017.06.06-02.35.45_MD661_1_0172_prep2_gray_detector7_Amb_sparseScores.bp\"\n",
      "aws s3 cp \"s3://mousebrainatlas-data/CSHL_patch_scores/MD661/MD662&661-F57-2017.06.06-02.06.22_MD661_3_0171_prep2_gray/detector7/MD662&661-F57-2017.06.06-02.06.22_MD661_3_0171_prep2_gray_detector7_Amb_sparseScores.bp\" \"/home/yuncong/CSHL_patch_scores/MD661/MD662&661-F57-2017.06.06-02.06.22_MD661_3_0171_prep2_gray/detector7/MD662&661-F57-2017.06.06-02.06.22_MD661_3_0171_prep2_gray_detector7_Amb_sparseScores.bp\"\n"
     ]
    },
    {
     "name": "stderr",
     "output_type": "stream",
     "text": [
      "File does not exist: /home/yuncong/CSHL_patch_scores/MD661/MD662&661-F58-2017.06.06-02.35.45_MD661_2_0173_prep2_gray/detector7/MD662&661-F58-2017.06.06-02.35.45_MD661_2_0173_prep2_gray_detector7_AP_sparseScores.bp\n",
      "Error loading sparse scores for AP: [Errno 2] No such file or directory: '/home/yuncong/CSHL_patch_scores/MD661/MD662&661-F58-2017.06.06-02.35.45_MD661_2_0173_prep2_gray/detector7/MD662&661-F58-2017.06.06-02.35.45_MD661_2_0173_prep2_gray_detector7_AP_sparseScores.bp'\n"
     ]
    },
    {
     "name": "stdout",
     "output_type": "stream",
     "text": [
      "rm -rf \"/home/yuncong/CSHL_patch_scores/MD661/MD662&661-F58-2017.06.06-02.35.45_MD661_2_0173_prep2_gray/detector7/MD662&661-F58-2017.06.06-02.35.45_MD661_2_0173_prep2_gray_detector7_Amb_sparseScores.bp\" && mkdir -p \"/home/yuncong/CSHL_patch_scores/MD661/MD662&661-F58-2017.06.06-02.35.45_MD661_2_0173_prep2_gray/detector7\"\n",
      "aws s3 cp \"s3://mousebrainatlas-data/CSHL_patch_scores/MD661/MD662&661-F58-2017.06.06-02.35.45_MD661_2_0173_prep2_gray/detector7/MD662&661-F58-2017.06.06-02.35.45_MD661_2_0173_prep2_gray_detector7_Amb_sparseScores.bp\" \"/home/yuncong/CSHL_patch_scores/MD661/MD662&661-F58-2017.06.06-02.35.45_MD661_2_0173_prep2_gray/detector7/MD662&661-F58-2017.06.06-02.35.45_MD661_2_0173_prep2_gray_detector7_Amb_sparseScores.bp\"\n"
     ]
    },
    {
     "name": "stderr",
     "output_type": "stream",
     "text": [
      "File does not exist: /home/yuncong/CSHL_patch_scores/MD661/MD662&661-F57-2017.06.06-02.06.22_MD661_3_0171_prep2_gray/detector7/MD662&661-F57-2017.06.06-02.06.22_MD661_3_0171_prep2_gray_detector7_Amb_sparseScores.bp\n",
      "Error loading sparse scores for Amb: [Errno 2] No such file or directory: '/home/yuncong/CSHL_patch_scores/MD661/MD662&661-F57-2017.06.06-02.06.22_MD661_3_0171_prep2_gray/detector7/MD662&661-F57-2017.06.06-02.06.22_MD661_3_0171_prep2_gray_detector7_Amb_sparseScores.bp'\n"
     ]
    },
    {
     "name": "stdout",
     "output_type": "stream",
     "text": [
      "rm -rf \"/home/yuncong/CSHL_patch_scores/MD661/MD662&661-F57-2017.06.06-02.06.22_MD661_3_0171_prep2_gray/detector7/MD662&661-F57-2017.06.06-02.06.22_MD661_3_0171_prep2_gray_detector7_DC_sparseScores.bp\" && mkdir -p \"/home/yuncong/CSHL_patch_scores/MD661/MD662&661-F57-2017.06.06-02.06.22_MD661_3_0171_prep2_gray/detector7\"\n"
     ]
    },
    {
     "name": "stderr",
     "output_type": "stream",
     "text": [
      "File does not exist: /home/yuncong/CSHL_patch_scores/MD661/MD662&661-F58-2017.06.06-02.35.45_MD661_1_0172_prep2_gray/detector7/MD662&661-F58-2017.06.06-02.35.45_MD661_1_0172_prep2_gray_detector7_Amb_sparseScores.bp\n",
      "Error loading sparse scores for Amb: [Errno 2] No such file or directory: '/home/yuncong/CSHL_patch_scores/MD661/MD662&661-F58-2017.06.06-02.35.45_MD661_1_0172_prep2_gray/detector7/MD662&661-F58-2017.06.06-02.35.45_MD661_1_0172_prep2_gray_detector7_Amb_sparseScores.bp'\n"
     ]
    },
    {
     "name": "stdout",
     "output_type": "stream",
     "text": [
      "rm -rf \"/home/yuncong/CSHL_patch_scores/MD661/MD662&661-F58-2017.06.06-02.35.45_MD661_1_0172_prep2_gray/detector7/MD662&661-F58-2017.06.06-02.35.45_MD661_1_0172_prep2_gray_detector7_DC_sparseScores.bp\" && mkdir -p \"/home/yuncong/CSHL_patch_scores/MD661/MD662&661-F58-2017.06.06-02.35.45_MD661_1_0172_prep2_gray/detector7\"\n",
      "aws s3 cp \"s3://mousebrainatlas-data/CSHL_patch_scores/MD661/MD662&661-F57-2017.06.06-02.06.22_MD661_3_0171_prep2_gray/detector7/MD662&661-F57-2017.06.06-02.06.22_MD661_3_0171_prep2_gray_detector7_DC_sparseScores.bp\" \"/home/yuncong/CSHL_patch_scores/MD661/MD662&661-F57-2017.06.06-02.06.22_MD661_3_0171_prep2_gray/detector7/MD662&661-F57-2017.06.06-02.06.22_MD661_3_0171_prep2_gray_detector7_DC_sparseScores.bp\"\n",
      "aws s3 cp \"s3://mousebrainatlas-data/CSHL_patch_scores/MD661/MD662&661-F58-2017.06.06-02.35.45_MD661_1_0172_prep2_gray/detector7/MD662&661-F58-2017.06.06-02.35.45_MD661_1_0172_prep2_gray_detector7_DC_sparseScores.bp\" \"/home/yuncong/CSHL_patch_scores/MD661/MD662&661-F58-2017.06.06-02.35.45_MD661_1_0172_prep2_gray/detector7/MD662&661-F58-2017.06.06-02.35.45_MD661_1_0172_prep2_gray_detector7_DC_sparseScores.bp\"\n"
     ]
    },
    {
     "name": "stderr",
     "output_type": "stream",
     "text": [
      "File does not exist: /home/yuncong/CSHL_patch_scores/MD661/MD662&661-F58-2017.06.06-02.35.45_MD661_2_0173_prep2_gray/detector7/MD662&661-F58-2017.06.06-02.35.45_MD661_2_0173_prep2_gray_detector7_Amb_sparseScores.bp\n",
      "Error loading sparse scores for Amb: [Errno 2] No such file or directory: '/home/yuncong/CSHL_patch_scores/MD661/MD662&661-F58-2017.06.06-02.35.45_MD661_2_0173_prep2_gray/detector7/MD662&661-F58-2017.06.06-02.35.45_MD661_2_0173_prep2_gray_detector7_Amb_sparseScores.bp'\n"
     ]
    },
    {
     "name": "stdout",
     "output_type": "stream",
     "text": [
      "rm -rf \"/home/yuncong/CSHL_patch_scores/MD661/MD662&661-F58-2017.06.06-02.35.45_MD661_2_0173_prep2_gray/detector7/MD662&661-F58-2017.06.06-02.35.45_MD661_2_0173_prep2_gray_detector7_DC_sparseScores.bp\" && mkdir -p \"/home/yuncong/CSHL_patch_scores/MD661/MD662&661-F58-2017.06.06-02.35.45_MD661_2_0173_prep2_gray/detector7\"\n",
      "aws s3 cp \"s3://mousebrainatlas-data/CSHL_patch_scores/MD661/MD662&661-F58-2017.06.06-02.35.45_MD661_2_0173_prep2_gray/detector7/MD662&661-F58-2017.06.06-02.35.45_MD661_2_0173_prep2_gray_detector7_DC_sparseScores.bp\" \"/home/yuncong/CSHL_patch_scores/MD661/MD662&661-F58-2017.06.06-02.35.45_MD661_2_0173_prep2_gray/detector7/MD662&661-F58-2017.06.06-02.35.45_MD661_2_0173_prep2_gray_detector7_DC_sparseScores.bp\"\n"
     ]
    },
    {
     "name": "stderr",
     "output_type": "stream",
     "text": [
      "File does not exist: /home/yuncong/CSHL_patch_scores/MD661/MD662&661-F57-2017.06.06-02.06.22_MD661_3_0171_prep2_gray/detector7/MD662&661-F57-2017.06.06-02.06.22_MD661_3_0171_prep2_gray_detector7_DC_sparseScores.bp\n",
      "File does not exist: /home/yuncong/CSHL_patch_scores/MD661/MD662&661-F58-2017.06.06-02.35.45_MD661_1_0172_prep2_gray/detector7/MD662&661-F58-2017.06.06-02.35.45_MD661_1_0172_prep2_gray_detector7_DC_sparseScores.bp\n",
      "Error loading sparse scores for DC: [Errno 2] No such file or directory: '/home/yuncong/CSHL_patch_scores/MD661/MD662&661-F58-2017.06.06-02.35.45_MD661_1_0172_prep2_gray/detector7/MD662&661-F58-2017.06.06-02.35.45_MD661_1_0172_prep2_gray_detector7_DC_sparseScores.bp'\n",
      "Error loading sparse scores for DC: [Errno 2] No such file or directory: '/home/yuncong/CSHL_patch_scores/MD661/MD662&661-F57-2017.06.06-02.06.22_MD661_3_0171_prep2_gray/detector7/MD662&661-F57-2017.06.06-02.06.22_MD661_3_0171_prep2_gray_detector7_DC_sparseScores.bp'\n"
     ]
    },
    {
     "name": "stdout",
     "output_type": "stream",
     "text": [
      "rm -rf \"/home/yuncong/CSHL_patch_scores/MD661/MD662&661-F58-2017.06.06-02.35.45_MD661_1_0172_prep2_gray/detector7/MD662&661-F58-2017.06.06-02.35.45_MD661_1_0172_prep2_gray_detector7_IC_sparseScores.bp\" && mkdir -p \"/home/yuncong/CSHL_patch_scores/MD661/MD662&661-F58-2017.06.06-02.35.45_MD661_1_0172_prep2_gray/detector7\"\n",
      "rm -rf \"/home/yuncong/CSHL_patch_scores/MD661/MD662&661-F57-2017.06.06-02.06.22_MD661_3_0171_prep2_gray/detector7/MD662&661-F57-2017.06.06-02.06.22_MD661_3_0171_prep2_gray_detector7_IC_sparseScores.bp\" && mkdir -p \"/home/yuncong/CSHL_patch_scores/MD661/MD662&661-F57-2017.06.06-02.06.22_MD661_3_0171_prep2_gray/detector7\"\n",
      "aws s3 cp \"s3://mousebrainatlas-data/CSHL_patch_scores/MD661/MD662&661-F58-2017.06.06-02.35.45_MD661_1_0172_prep2_gray/detector7/MD662&661-F58-2017.06.06-02.35.45_MD661_1_0172_prep2_gray_detector7_IC_sparseScores.bp\" \"/home/yuncong/CSHL_patch_scores/MD661/MD662&661-F58-2017.06.06-02.35.45_MD661_1_0172_prep2_gray/detector7/MD662&661-F58-2017.06.06-02.35.45_MD661_1_0172_prep2_gray_detector7_IC_sparseScores.bp\"\n",
      "aws s3 cp \"s3://mousebrainatlas-data/CSHL_patch_scores/MD661/MD662&661-F57-2017.06.06-02.06.22_MD661_3_0171_prep2_gray/detector7/MD662&661-F57-2017.06.06-02.06.22_MD661_3_0171_prep2_gray_detector7_IC_sparseScores.bp\" \"/home/yuncong/CSHL_patch_scores/MD661/MD662&661-F57-2017.06.06-02.06.22_MD661_3_0171_prep2_gray/detector7/MD662&661-F57-2017.06.06-02.06.22_MD661_3_0171_prep2_gray_detector7_IC_sparseScores.bp\"\n"
     ]
    },
    {
     "name": "stderr",
     "output_type": "stream",
     "text": [
      "File does not exist: /home/yuncong/CSHL_patch_scores/MD661/MD662&661-F58-2017.06.06-02.35.45_MD661_2_0173_prep2_gray/detector7/MD662&661-F58-2017.06.06-02.35.45_MD661_2_0173_prep2_gray_detector7_DC_sparseScores.bp\n",
      "Error loading sparse scores for DC: [Errno 2] No such file or directory: '/home/yuncong/CSHL_patch_scores/MD661/MD662&661-F58-2017.06.06-02.35.45_MD661_2_0173_prep2_gray/detector7/MD662&661-F58-2017.06.06-02.35.45_MD661_2_0173_prep2_gray_detector7_DC_sparseScores.bp'\n"
     ]
    },
    {
     "name": "stdout",
     "output_type": "stream",
     "text": [
      "rm -rf \"/home/yuncong/CSHL_patch_scores/MD661/MD662&661-F58-2017.06.06-02.35.45_MD661_2_0173_prep2_gray/detector7/MD662&661-F58-2017.06.06-02.35.45_MD661_2_0173_prep2_gray_detector7_IC_sparseScores.bp\" && mkdir -p \"/home/yuncong/CSHL_patch_scores/MD661/MD662&661-F58-2017.06.06-02.35.45_MD661_2_0173_prep2_gray/detector7\"\n",
      "aws s3 cp \"s3://mousebrainatlas-data/CSHL_patch_scores/MD661/MD662&661-F58-2017.06.06-02.35.45_MD661_2_0173_prep2_gray/detector7/MD662&661-F58-2017.06.06-02.35.45_MD661_2_0173_prep2_gray_detector7_IC_sparseScores.bp\" \"/home/yuncong/CSHL_patch_scores/MD661/MD662&661-F58-2017.06.06-02.35.45_MD661_2_0173_prep2_gray/detector7/MD662&661-F58-2017.06.06-02.35.45_MD661_2_0173_prep2_gray_detector7_IC_sparseScores.bp\"\n"
     ]
    },
    {
     "name": "stderr",
     "output_type": "stream",
     "text": [
      "File does not exist: /home/yuncong/CSHL_patch_scores/MD661/MD662&661-F58-2017.06.06-02.35.45_MD661_1_0172_prep2_gray/detector7/MD662&661-F58-2017.06.06-02.35.45_MD661_1_0172_prep2_gray_detector7_IC_sparseScores.bp\n",
      "Error loading sparse scores for IC: [Errno 2] No such file or directory: '/home/yuncong/CSHL_patch_scores/MD661/MD662&661-F58-2017.06.06-02.35.45_MD661_1_0172_prep2_gray/detector7/MD662&661-F58-2017.06.06-02.35.45_MD661_1_0172_prep2_gray_detector7_IC_sparseScores.bp'\n"
     ]
    },
    {
     "name": "stdout",
     "output_type": "stream",
     "text": [
      "rm -rf \"/home/yuncong/CSHL_patch_scores/MD661/MD662&661-F58-2017.06.06-02.35.45_MD661_1_0172_prep2_gray/detector7/MD662&661-F58-2017.06.06-02.35.45_MD661_1_0172_prep2_gray_detector7_LC_sparseScores.bp\" && mkdir -p \"/home/yuncong/CSHL_patch_scores/MD661/MD662&661-F58-2017.06.06-02.35.45_MD661_1_0172_prep2_gray/detector7\"\n",
      "aws s3 cp \"s3://mousebrainatlas-data/CSHL_patch_scores/MD661/MD662&661-F58-2017.06.06-02.35.45_MD661_1_0172_prep2_gray/detector7/MD662&661-F58-2017.06.06-02.35.45_MD661_1_0172_prep2_gray_detector7_LC_sparseScores.bp\" \"/home/yuncong/CSHL_patch_scores/MD661/MD662&661-F58-2017.06.06-02.35.45_MD661_1_0172_prep2_gray/detector7/MD662&661-F58-2017.06.06-02.35.45_MD661_1_0172_prep2_gray_detector7_LC_sparseScores.bp\"\n"
     ]
    },
    {
     "name": "stderr",
     "output_type": "stream",
     "text": [
      "File does not exist: /home/yuncong/CSHL_patch_scores/MD661/MD662&661-F57-2017.06.06-02.06.22_MD661_3_0171_prep2_gray/detector7/MD662&661-F57-2017.06.06-02.06.22_MD661_3_0171_prep2_gray_detector7_IC_sparseScores.bp\n",
      "Error loading sparse scores for IC: [Errno 2] No such file or directory: '/home/yuncong/CSHL_patch_scores/MD661/MD662&661-F57-2017.06.06-02.06.22_MD661_3_0171_prep2_gray/detector7/MD662&661-F57-2017.06.06-02.06.22_MD661_3_0171_prep2_gray_detector7_IC_sparseScores.bp'\n",
      "File does not exist: /home/yuncong/CSHL_patch_scores/MD661/MD662&661-F58-2017.06.06-02.35.45_MD661_2_0173_prep2_gray/detector7/MD662&661-F58-2017.06.06-02.35.45_MD661_2_0173_prep2_gray_detector7_IC_sparseScores.bp\n"
     ]
    },
    {
     "name": "stdout",
     "output_type": "stream",
     "text": [
      "rm -rf \"/home/yuncong/CSHL_patch_scores/MD661/MD662&661-F57-2017.06.06-02.06.22_MD661_3_0171_prep2_gray/detector7/MD662&661-F57-2017.06.06-02.06.22_MD661_3_0171_prep2_gray_detector7_LC_sparseScores.bp\" && mkdir -p \"/home/yuncong/CSHL_patch_scores/MD661/MD662&661-F57-2017.06.06-02.06.22_MD661_3_0171_prep2_gray/detector7\"\n"
     ]
    },
    {
     "name": "stderr",
     "output_type": "stream",
     "text": [
      "Error loading sparse scores for IC: [Errno 2] No such file or directory: '/home/yuncong/CSHL_patch_scores/MD661/MD662&661-F58-2017.06.06-02.35.45_MD661_2_0173_prep2_gray/detector7/MD662&661-F58-2017.06.06-02.35.45_MD661_2_0173_prep2_gray_detector7_IC_sparseScores.bp'\n"
     ]
    },
    {
     "name": "stdout",
     "output_type": "stream",
     "text": [
      "rm -rf \"/home/yuncong/CSHL_patch_scores/MD661/MD662&661-F58-2017.06.06-02.35.45_MD661_2_0173_prep2_gray/detector7/MD662&661-F58-2017.06.06-02.35.45_MD661_2_0173_prep2_gray_detector7_LC_sparseScores.bp\" && mkdir -p \"/home/yuncong/CSHL_patch_scores/MD661/MD662&661-F58-2017.06.06-02.35.45_MD661_2_0173_prep2_gray/detector7\"\n",
      "aws s3 cp \"s3://mousebrainatlas-data/CSHL_patch_scores/MD661/MD662&661-F57-2017.06.06-02.06.22_MD661_3_0171_prep2_gray/detector7/MD662&661-F57-2017.06.06-02.06.22_MD661_3_0171_prep2_gray_detector7_LC_sparseScores.bp\" \"/home/yuncong/CSHL_patch_scores/MD661/MD662&661-F57-2017.06.06-02.06.22_MD661_3_0171_prep2_gray/detector7/MD662&661-F57-2017.06.06-02.06.22_MD661_3_0171_prep2_gray_detector7_LC_sparseScores.bp\"\n",
      "aws s3 cp \"s3://mousebrainatlas-data/CSHL_patch_scores/MD661/MD662&661-F58-2017.06.06-02.35.45_MD661_2_0173_prep2_gray/detector7/MD662&661-F58-2017.06.06-02.35.45_MD661_2_0173_prep2_gray_detector7_LC_sparseScores.bp\" \"/home/yuncong/CSHL_patch_scores/MD661/MD662&661-F58-2017.06.06-02.35.45_MD661_2_0173_prep2_gray/detector7/MD662&661-F58-2017.06.06-02.35.45_MD661_2_0173_prep2_gray_detector7_LC_sparseScores.bp\"\n"
     ]
    },
    {
     "name": "stderr",
     "output_type": "stream",
     "text": [
      "File does not exist: /home/yuncong/CSHL_patch_scores/MD661/MD662&661-F58-2017.06.06-02.35.45_MD661_1_0172_prep2_gray/detector7/MD662&661-F58-2017.06.06-02.35.45_MD661_1_0172_prep2_gray_detector7_LC_sparseScores.bp\n",
      "Error loading sparse scores for LC: [Errno 2] No such file or directory: '/home/yuncong/CSHL_patch_scores/MD661/MD662&661-F58-2017.06.06-02.35.45_MD661_1_0172_prep2_gray/detector7/MD662&661-F58-2017.06.06-02.35.45_MD661_1_0172_prep2_gray_detector7_LC_sparseScores.bp'\n"
     ]
    },
    {
     "name": "stdout",
     "output_type": "stream",
     "text": [
      "rm -rf \"/home/yuncong/CSHL_patch_scores/MD661/MD662&661-F58-2017.06.06-02.35.45_MD661_1_0172_prep2_gray/detector7/MD662&661-F58-2017.06.06-02.35.45_MD661_1_0172_prep2_gray_detector7_LRt_sparseScores.bp\" && mkdir -p \"/home/yuncong/CSHL_patch_scores/MD661/MD662&661-F58-2017.06.06-02.35.45_MD661_1_0172_prep2_gray/detector7\"\n",
      "aws s3 cp \"s3://mousebrainatlas-data/CSHL_patch_scores/MD661/MD662&661-F58-2017.06.06-02.35.45_MD661_1_0172_prep2_gray/detector7/MD662&661-F58-2017.06.06-02.35.45_MD661_1_0172_prep2_gray_detector7_LRt_sparseScores.bp\" \"/home/yuncong/CSHL_patch_scores/MD661/MD662&661-F58-2017.06.06-02.35.45_MD661_1_0172_prep2_gray/detector7/MD662&661-F58-2017.06.06-02.35.45_MD661_1_0172_prep2_gray_detector7_LRt_sparseScores.bp\"\n"
     ]
    },
    {
     "name": "stderr",
     "output_type": "stream",
     "text": [
      "File does not exist: /home/yuncong/CSHL_patch_scores/MD661/MD662&661-F57-2017.06.06-02.06.22_MD661_3_0171_prep2_gray/detector7/MD662&661-F57-2017.06.06-02.06.22_MD661_3_0171_prep2_gray_detector7_LC_sparseScores.bp\n",
      "Error loading sparse scores for LC: [Errno 2] No such file or directory: '/home/yuncong/CSHL_patch_scores/MD661/MD662&661-F57-2017.06.06-02.06.22_MD661_3_0171_prep2_gray/detector7/MD662&661-F57-2017.06.06-02.06.22_MD661_3_0171_prep2_gray_detector7_LC_sparseScores.bp'\n"
     ]
    },
    {
     "name": "stdout",
     "output_type": "stream",
     "text": [
      "rm -rf \"/home/yuncong/CSHL_patch_scores/MD661/MD662&661-F57-2017.06.06-02.06.22_MD661_3_0171_prep2_gray/detector7/MD662&661-F57-2017.06.06-02.06.22_MD661_3_0171_prep2_gray_detector7_LRt_sparseScores.bp\" && mkdir -p \"/home/yuncong/CSHL_patch_scores/MD661/MD662&661-F57-2017.06.06-02.06.22_MD661_3_0171_prep2_gray/detector7\"\n",
      "aws s3 cp \"s3://mousebrainatlas-data/CSHL_patch_scores/MD661/MD662&661-F57-2017.06.06-02.06.22_MD661_3_0171_prep2_gray/detector7/MD662&661-F57-2017.06.06-02.06.22_MD661_3_0171_prep2_gray_detector7_LRt_sparseScores.bp\" \"/home/yuncong/CSHL_patch_scores/MD661/MD662&661-F57-2017.06.06-02.06.22_MD661_3_0171_prep2_gray/detector7/MD662&661-F57-2017.06.06-02.06.22_MD661_3_0171_prep2_gray_detector7_LRt_sparseScores.bp\"\n"
     ]
    },
    {
     "name": "stderr",
     "output_type": "stream",
     "text": [
      "File does not exist: /home/yuncong/CSHL_patch_scores/MD661/MD662&661-F58-2017.06.06-02.35.45_MD661_2_0173_prep2_gray/detector7/MD662&661-F58-2017.06.06-02.35.45_MD661_2_0173_prep2_gray_detector7_LC_sparseScores.bp\n",
      "Error loading sparse scores for LC: [Errno 2] No such file or directory: '/home/yuncong/CSHL_patch_scores/MD661/MD662&661-F58-2017.06.06-02.35.45_MD661_2_0173_prep2_gray/detector7/MD662&661-F58-2017.06.06-02.35.45_MD661_2_0173_prep2_gray_detector7_LC_sparseScores.bp'\n"
     ]
    },
    {
     "name": "stdout",
     "output_type": "stream",
     "text": [
      "rm -rf \"/home/yuncong/CSHL_patch_scores/MD661/MD662&661-F58-2017.06.06-02.35.45_MD661_2_0173_prep2_gray/detector7/MD662&661-F58-2017.06.06-02.35.45_MD661_2_0173_prep2_gray_detector7_LRt_sparseScores.bp\" && mkdir -p \"/home/yuncong/CSHL_patch_scores/MD661/MD662&661-F58-2017.06.06-02.35.45_MD661_2_0173_prep2_gray/detector7\"\n",
      "aws s3 cp \"s3://mousebrainatlas-data/CSHL_patch_scores/MD661/MD662&661-F58-2017.06.06-02.35.45_MD661_2_0173_prep2_gray/detector7/MD662&661-F58-2017.06.06-02.35.45_MD661_2_0173_prep2_gray_detector7_LRt_sparseScores.bp\" \"/home/yuncong/CSHL_patch_scores/MD661/MD662&661-F58-2017.06.06-02.35.45_MD661_2_0173_prep2_gray/detector7/MD662&661-F58-2017.06.06-02.35.45_MD661_2_0173_prep2_gray_detector7_LRt_sparseScores.bp\"\n"
     ]
    },
    {
     "name": "stderr",
     "output_type": "stream",
     "text": [
      "File does not exist: /home/yuncong/CSHL_patch_scores/MD661/MD662&661-F58-2017.06.06-02.35.45_MD661_1_0172_prep2_gray/detector7/MD662&661-F58-2017.06.06-02.35.45_MD661_1_0172_prep2_gray_detector7_LRt_sparseScores.bp\n",
      "Error loading sparse scores for LRt: [Errno 2] No such file or directory: '/home/yuncong/CSHL_patch_scores/MD661/MD662&661-F58-2017.06.06-02.35.45_MD661_1_0172_prep2_gray/detector7/MD662&661-F58-2017.06.06-02.35.45_MD661_1_0172_prep2_gray_detector7_LRt_sparseScores.bp'\n"
     ]
    },
    {
     "name": "stdout",
     "output_type": "stream",
     "text": [
      "rm -rf \"/home/yuncong/CSHL_patch_scores/MD661/MD662&661-F58-2017.06.06-02.35.45_MD661_1_0172_prep2_gray/detector7/MD662&661-F58-2017.06.06-02.35.45_MD661_1_0172_prep2_gray_detector7_PBG_sparseScores.bp\" && mkdir -p \"/home/yuncong/CSHL_patch_scores/MD661/MD662&661-F58-2017.06.06-02.35.45_MD661_1_0172_prep2_gray/detector7\"\n",
      "aws s3 cp \"s3://mousebrainatlas-data/CSHL_patch_scores/MD661/MD662&661-F58-2017.06.06-02.35.45_MD661_1_0172_prep2_gray/detector7/MD662&661-F58-2017.06.06-02.35.45_MD661_1_0172_prep2_gray_detector7_PBG_sparseScores.bp\" \"/home/yuncong/CSHL_patch_scores/MD661/MD662&661-F58-2017.06.06-02.35.45_MD661_1_0172_prep2_gray/detector7/MD662&661-F58-2017.06.06-02.35.45_MD661_1_0172_prep2_gray_detector7_PBG_sparseScores.bp\"\n"
     ]
    },
    {
     "name": "stderr",
     "output_type": "stream",
     "text": [
      "File does not exist: /home/yuncong/CSHL_patch_scores/MD661/MD662&661-F57-2017.06.06-02.06.22_MD661_3_0171_prep2_gray/detector7/MD662&661-F57-2017.06.06-02.06.22_MD661_3_0171_prep2_gray_detector7_LRt_sparseScores.bp\n",
      "Error loading sparse scores for LRt: [Errno 2] No such file or directory: '/home/yuncong/CSHL_patch_scores/MD661/MD662&661-F57-2017.06.06-02.06.22_MD661_3_0171_prep2_gray/detector7/MD662&661-F57-2017.06.06-02.06.22_MD661_3_0171_prep2_gray_detector7_LRt_sparseScores.bp'\n",
      "File does not exist: /home/yuncong/CSHL_patch_scores/MD661/MD662&661-F58-2017.06.06-02.35.45_MD661_2_0173_prep2_gray/detector7/MD662&661-F58-2017.06.06-02.35.45_MD661_2_0173_prep2_gray_detector7_LRt_sparseScores.bp\n"
     ]
    },
    {
     "name": "stdout",
     "output_type": "stream",
     "text": [
      "rm -rf \"/home/yuncong/CSHL_patch_scores/MD661/MD662&661-F57-2017.06.06-02.06.22_MD661_3_0171_prep2_gray/detector7/MD662&661-F57-2017.06.06-02.06.22_MD661_3_0171_prep2_gray_detector7_PBG_sparseScores.bp\" && mkdir -p \"/home/yuncong/CSHL_patch_scores/MD661/MD662&661-F57-2017.06.06-02.06.22_MD661_3_0171_prep2_gray/detector7\"\n"
     ]
    },
    {
     "name": "stderr",
     "output_type": "stream",
     "text": [
      "Error loading sparse scores for LRt: [Errno 2] No such file or directory: '/home/yuncong/CSHL_patch_scores/MD661/MD662&661-F58-2017.06.06-02.35.45_MD661_2_0173_prep2_gray/detector7/MD662&661-F58-2017.06.06-02.35.45_MD661_2_0173_prep2_gray_detector7_LRt_sparseScores.bp'\n"
     ]
    },
    {
     "name": "stdout",
     "output_type": "stream",
     "text": [
      "rm -rf \"/home/yuncong/CSHL_patch_scores/MD661/MD662&661-F58-2017.06.06-02.35.45_MD661_2_0173_prep2_gray/detector7/MD662&661-F58-2017.06.06-02.35.45_MD661_2_0173_prep2_gray_detector7_PBG_sparseScores.bp\" && mkdir -p \"/home/yuncong/CSHL_patch_scores/MD661/MD662&661-F58-2017.06.06-02.35.45_MD661_2_0173_prep2_gray/detector7\"\n",
      "aws s3 cp \"s3://mousebrainatlas-data/CSHL_patch_scores/MD661/MD662&661-F57-2017.06.06-02.06.22_MD661_3_0171_prep2_gray/detector7/MD662&661-F57-2017.06.06-02.06.22_MD661_3_0171_prep2_gray_detector7_PBG_sparseScores.bp\" \"/home/yuncong/CSHL_patch_scores/MD661/MD662&661-F57-2017.06.06-02.06.22_MD661_3_0171_prep2_gray/detector7/MD662&661-F57-2017.06.06-02.06.22_MD661_3_0171_prep2_gray_detector7_PBG_sparseScores.bp\"\n",
      "aws s3 cp \"s3://mousebrainatlas-data/CSHL_patch_scores/MD661/MD662&661-F58-2017.06.06-02.35.45_MD661_2_0173_prep2_gray/detector7/MD662&661-F58-2017.06.06-02.35.45_MD661_2_0173_prep2_gray_detector7_PBG_sparseScores.bp\" \"/home/yuncong/CSHL_patch_scores/MD661/MD662&661-F58-2017.06.06-02.35.45_MD661_2_0173_prep2_gray/detector7/MD662&661-F58-2017.06.06-02.35.45_MD661_2_0173_prep2_gray_detector7_PBG_sparseScores.bp\"\n"
     ]
    },
    {
     "name": "stderr",
     "output_type": "stream",
     "text": [
      "File does not exist: /home/yuncong/CSHL_patch_scores/MD661/MD662&661-F58-2017.06.06-02.35.45_MD661_1_0172_prep2_gray/detector7/MD662&661-F58-2017.06.06-02.35.45_MD661_1_0172_prep2_gray_detector7_PBG_sparseScores.bp\n",
      "Error loading sparse scores for PBG: [Errno 2] No such file or directory: '/home/yuncong/CSHL_patch_scores/MD661/MD662&661-F58-2017.06.06-02.35.45_MD661_1_0172_prep2_gray/detector7/MD662&661-F58-2017.06.06-02.35.45_MD661_1_0172_prep2_gray_detector7_PBG_sparseScores.bp'\n"
     ]
    },
    {
     "name": "stdout",
     "output_type": "stream",
     "text": [
      "rm -rf \"/home/yuncong/CSHL_patch_scores/MD661/MD662&661-F58-2017.06.06-02.35.45_MD661_1_0172_prep2_gray/detector7/MD662&661-F58-2017.06.06-02.35.45_MD661_1_0172_prep2_gray_detector7_Pn_sparseScores.bp\" && mkdir -p \"/home/yuncong/CSHL_patch_scores/MD661/MD662&661-F58-2017.06.06-02.35.45_MD661_1_0172_prep2_gray/detector7\"\n",
      "aws s3 cp \"s3://mousebrainatlas-data/CSHL_patch_scores/MD661/MD662&661-F58-2017.06.06-02.35.45_MD661_1_0172_prep2_gray/detector7/MD662&661-F58-2017.06.06-02.35.45_MD661_1_0172_prep2_gray_detector7_Pn_sparseScores.bp\" \"/home/yuncong/CSHL_patch_scores/MD661/MD662&661-F58-2017.06.06-02.35.45_MD661_1_0172_prep2_gray/detector7/MD662&661-F58-2017.06.06-02.35.45_MD661_1_0172_prep2_gray_detector7_Pn_sparseScores.bp\"\n"
     ]
    },
    {
     "name": "stderr",
     "output_type": "stream",
     "text": [
      "File does not exist: /home/yuncong/CSHL_patch_scores/MD661/MD662&661-F57-2017.06.06-02.06.22_MD661_3_0171_prep2_gray/detector7/MD662&661-F57-2017.06.06-02.06.22_MD661_3_0171_prep2_gray_detector7_PBG_sparseScores.bp\n",
      "Error loading sparse scores for PBG: [Errno 2] No such file or directory: '/home/yuncong/CSHL_patch_scores/MD661/MD662&661-F57-2017.06.06-02.06.22_MD661_3_0171_prep2_gray/detector7/MD662&661-F57-2017.06.06-02.06.22_MD661_3_0171_prep2_gray_detector7_PBG_sparseScores.bp'\n"
     ]
    },
    {
     "name": "stdout",
     "output_type": "stream",
     "text": [
      "rm -rf \"/home/yuncong/CSHL_patch_scores/MD661/MD662&661-F57-2017.06.06-02.06.22_MD661_3_0171_prep2_gray/detector7/MD662&661-F57-2017.06.06-02.06.22_MD661_3_0171_prep2_gray_detector7_Pn_sparseScores.bp\" && mkdir -p \"/home/yuncong/CSHL_patch_scores/MD661/MD662&661-F57-2017.06.06-02.06.22_MD661_3_0171_prep2_gray/detector7\"\n"
     ]
    },
    {
     "name": "stderr",
     "output_type": "stream",
     "text": [
      "File does not exist: /home/yuncong/CSHL_patch_scores/MD661/MD662&661-F58-2017.06.06-02.35.45_MD661_2_0173_prep2_gray/detector7/MD662&661-F58-2017.06.06-02.35.45_MD661_2_0173_prep2_gray_detector7_PBG_sparseScores.bp\n",
      "Error loading sparse scores for PBG: [Errno 2] No such file or directory: '/home/yuncong/CSHL_patch_scores/MD661/MD662&661-F58-2017.06.06-02.35.45_MD661_2_0173_prep2_gray/detector7/MD662&661-F58-2017.06.06-02.35.45_MD661_2_0173_prep2_gray_detector7_PBG_sparseScores.bp'\n"
     ]
    },
    {
     "name": "stdout",
     "output_type": "stream",
     "text": [
      "rm -rf \"/home/yuncong/CSHL_patch_scores/MD661/MD662&661-F58-2017.06.06-02.35.45_MD661_2_0173_prep2_gray/detector7/MD662&661-F58-2017.06.06-02.35.45_MD661_2_0173_prep2_gray_detector7_Pn_sparseScores.bp\" && mkdir -p \"/home/yuncong/CSHL_patch_scores/MD661/MD662&661-F58-2017.06.06-02.35.45_MD661_2_0173_prep2_gray/detector7\"\n",
      "aws s3 cp \"s3://mousebrainatlas-data/CSHL_patch_scores/MD661/MD662&661-F57-2017.06.06-02.06.22_MD661_3_0171_prep2_gray/detector7/MD662&661-F57-2017.06.06-02.06.22_MD661_3_0171_prep2_gray_detector7_Pn_sparseScores.bp\" \"/home/yuncong/CSHL_patch_scores/MD661/MD662&661-F57-2017.06.06-02.06.22_MD661_3_0171_prep2_gray/detector7/MD662&661-F57-2017.06.06-02.06.22_MD661_3_0171_prep2_gray_detector7_Pn_sparseScores.bp\"\n",
      "aws s3 cp \"s3://mousebrainatlas-data/CSHL_patch_scores/MD661/MD662&661-F58-2017.06.06-02.35.45_MD661_2_0173_prep2_gray/detector7/MD662&661-F58-2017.06.06-02.35.45_MD661_2_0173_prep2_gray_detector7_Pn_sparseScores.bp\" \"/home/yuncong/CSHL_patch_scores/MD661/MD662&661-F58-2017.06.06-02.35.45_MD661_2_0173_prep2_gray/detector7/MD662&661-F58-2017.06.06-02.35.45_MD661_2_0173_prep2_gray_detector7_Pn_sparseScores.bp\"\n"
     ]
    },
    {
     "name": "stderr",
     "output_type": "stream",
     "text": [
      "File does not exist: /home/yuncong/CSHL_patch_scores/MD661/MD662&661-F58-2017.06.06-02.35.45_MD661_1_0172_prep2_gray/detector7/MD662&661-F58-2017.06.06-02.35.45_MD661_1_0172_prep2_gray_detector7_Pn_sparseScores.bp\n",
      "Error loading sparse scores for Pn: [Errno 2] No such file or directory: '/home/yuncong/CSHL_patch_scores/MD661/MD662&661-F58-2017.06.06-02.35.45_MD661_1_0172_prep2_gray/detector7/MD662&661-F58-2017.06.06-02.35.45_MD661_1_0172_prep2_gray_detector7_Pn_sparseScores.bp'\n"
     ]
    },
    {
     "name": "stdout",
     "output_type": "stream",
     "text": [
      "rm -rf \"/home/yuncong/CSHL_patch_scores/MD661/MD662&661-F58-2017.06.06-02.35.45_MD661_1_0172_prep2_gray/detector7/MD662&661-F58-2017.06.06-02.35.45_MD661_1_0172_prep2_gray_detector7_RMC_sparseScores.bp\" && mkdir -p \"/home/yuncong/CSHL_patch_scores/MD661/MD662&661-F58-2017.06.06-02.35.45_MD661_1_0172_prep2_gray/detector7\"\n",
      "aws s3 cp \"s3://mousebrainatlas-data/CSHL_patch_scores/MD661/MD662&661-F58-2017.06.06-02.35.45_MD661_1_0172_prep2_gray/detector7/MD662&661-F58-2017.06.06-02.35.45_MD661_1_0172_prep2_gray_detector7_RMC_sparseScores.bp\" \"/home/yuncong/CSHL_patch_scores/MD661/MD662&661-F58-2017.06.06-02.35.45_MD661_1_0172_prep2_gray/detector7/MD662&661-F58-2017.06.06-02.35.45_MD661_1_0172_prep2_gray_detector7_RMC_sparseScores.bp\"\n"
     ]
    },
    {
     "name": "stderr",
     "output_type": "stream",
     "text": [
      "File does not exist: /home/yuncong/CSHL_patch_scores/MD661/MD662&661-F57-2017.06.06-02.06.22_MD661_3_0171_prep2_gray/detector7/MD662&661-F57-2017.06.06-02.06.22_MD661_3_0171_prep2_gray_detector7_Pn_sparseScores.bp\n",
      "Error loading sparse scores for Pn: [Errno 2] No such file or directory: '/home/yuncong/CSHL_patch_scores/MD661/MD662&661-F57-2017.06.06-02.06.22_MD661_3_0171_prep2_gray/detector7/MD662&661-F57-2017.06.06-02.06.22_MD661_3_0171_prep2_gray_detector7_Pn_sparseScores.bp'\n"
     ]
    },
    {
     "name": "stdout",
     "output_type": "stream",
     "text": [
      "rm -rf \"/home/yuncong/CSHL_patch_scores/MD661/MD662&661-F57-2017.06.06-02.06.22_MD661_3_0171_prep2_gray/detector7/MD662&661-F57-2017.06.06-02.06.22_MD661_3_0171_prep2_gray_detector7_RMC_sparseScores.bp\" && mkdir -p \"/home/yuncong/CSHL_patch_scores/MD661/MD662&661-F57-2017.06.06-02.06.22_MD661_3_0171_prep2_gray/detector7\"\n",
      "aws s3 cp \"s3://mousebrainatlas-data/CSHL_patch_scores/MD661/MD662&661-F57-2017.06.06-02.06.22_MD661_3_0171_prep2_gray/detector7/MD662&661-F57-2017.06.06-02.06.22_MD661_3_0171_prep2_gray_detector7_RMC_sparseScores.bp\" \"/home/yuncong/CSHL_patch_scores/MD661/MD662&661-F57-2017.06.06-02.06.22_MD661_3_0171_prep2_gray/detector7/MD662&661-F57-2017.06.06-02.06.22_MD661_3_0171_prep2_gray_detector7_RMC_sparseScores.bp\"\n"
     ]
    },
    {
     "name": "stderr",
     "output_type": "stream",
     "text": [
      "File does not exist: /home/yuncong/CSHL_patch_scores/MD661/MD662&661-F58-2017.06.06-02.35.45_MD661_2_0173_prep2_gray/detector7/MD662&661-F58-2017.06.06-02.35.45_MD661_2_0173_prep2_gray_detector7_Pn_sparseScores.bp\n",
      "Error loading sparse scores for Pn: [Errno 2] No such file or directory: '/home/yuncong/CSHL_patch_scores/MD661/MD662&661-F58-2017.06.06-02.35.45_MD661_2_0173_prep2_gray/detector7/MD662&661-F58-2017.06.06-02.35.45_MD661_2_0173_prep2_gray_detector7_Pn_sparseScores.bp'\n"
     ]
    },
    {
     "name": "stdout",
     "output_type": "stream",
     "text": [
      "rm -rf \"/home/yuncong/CSHL_patch_scores/MD661/MD662&661-F58-2017.06.06-02.35.45_MD661_2_0173_prep2_gray/detector7/MD662&661-F58-2017.06.06-02.35.45_MD661_2_0173_prep2_gray_detector7_RMC_sparseScores.bp\" && mkdir -p \"/home/yuncong/CSHL_patch_scores/MD661/MD662&661-F58-2017.06.06-02.35.45_MD661_2_0173_prep2_gray/detector7\"\n",
      "aws s3 cp \"s3://mousebrainatlas-data/CSHL_patch_scores/MD661/MD662&661-F58-2017.06.06-02.35.45_MD661_2_0173_prep2_gray/detector7/MD662&661-F58-2017.06.06-02.35.45_MD661_2_0173_prep2_gray_detector7_RMC_sparseScores.bp\" \"/home/yuncong/CSHL_patch_scores/MD661/MD662&661-F58-2017.06.06-02.35.45_MD661_2_0173_prep2_gray/detector7/MD662&661-F58-2017.06.06-02.35.45_MD661_2_0173_prep2_gray_detector7_RMC_sparseScores.bp\"\n"
     ]
    },
    {
     "name": "stderr",
     "output_type": "stream",
     "text": [
      "File does not exist: /home/yuncong/CSHL_patch_scores/MD661/MD662&661-F58-2017.06.06-02.35.45_MD661_1_0172_prep2_gray/detector7/MD662&661-F58-2017.06.06-02.35.45_MD661_1_0172_prep2_gray_detector7_RMC_sparseScores.bp\n",
      "Error loading sparse scores for RMC: [Errno 2] No such file or directory: '/home/yuncong/CSHL_patch_scores/MD661/MD662&661-F58-2017.06.06-02.35.45_MD661_1_0172_prep2_gray/detector7/MD662&661-F58-2017.06.06-02.35.45_MD661_1_0172_prep2_gray_detector7_RMC_sparseScores.bp'\n"
     ]
    },
    {
     "name": "stdout",
     "output_type": "stream",
     "text": [
      "rm -rf \"/home/yuncong/CSHL_patch_scores/MD661/MD662&661-F58-2017.06.06-02.35.45_MD661_1_0172_prep2_gray/detector7/MD662&661-F58-2017.06.06-02.35.45_MD661_1_0172_prep2_gray_detector7_RtTg_sparseScores.bp\" && mkdir -p \"/home/yuncong/CSHL_patch_scores/MD661/MD662&661-F58-2017.06.06-02.35.45_MD661_1_0172_prep2_gray/detector7\"\n",
      "aws s3 cp \"s3://mousebrainatlas-data/CSHL_patch_scores/MD661/MD662&661-F58-2017.06.06-02.35.45_MD661_1_0172_prep2_gray/detector7/MD662&661-F58-2017.06.06-02.35.45_MD661_1_0172_prep2_gray_detector7_RtTg_sparseScores.bp\" \"/home/yuncong/CSHL_patch_scores/MD661/MD662&661-F58-2017.06.06-02.35.45_MD661_1_0172_prep2_gray/detector7/MD662&661-F58-2017.06.06-02.35.45_MD661_1_0172_prep2_gray_detector7_RtTg_sparseScores.bp\"\n"
     ]
    },
    {
     "name": "stderr",
     "output_type": "stream",
     "text": [
      "File does not exist: /home/yuncong/CSHL_patch_scores/MD661/MD662&661-F57-2017.06.06-02.06.22_MD661_3_0171_prep2_gray/detector7/MD662&661-F57-2017.06.06-02.06.22_MD661_3_0171_prep2_gray_detector7_RMC_sparseScores.bp\n",
      "Error loading sparse scores for RMC: [Errno 2] No such file or directory: '/home/yuncong/CSHL_patch_scores/MD661/MD662&661-F57-2017.06.06-02.06.22_MD661_3_0171_prep2_gray/detector7/MD662&661-F57-2017.06.06-02.06.22_MD661_3_0171_prep2_gray_detector7_RMC_sparseScores.bp'\n"
     ]
    },
    {
     "name": "stdout",
     "output_type": "stream",
     "text": [
      "rm -rf \"/home/yuncong/CSHL_patch_scores/MD661/MD662&661-F57-2017.06.06-02.06.22_MD661_3_0171_prep2_gray/detector7/MD662&661-F57-2017.06.06-02.06.22_MD661_3_0171_prep2_gray_detector7_RtTg_sparseScores.bp\" && mkdir -p \"/home/yuncong/CSHL_patch_scores/MD661/MD662&661-F57-2017.06.06-02.06.22_MD661_3_0171_prep2_gray/detector7\"\n"
     ]
    },
    {
     "name": "stderr",
     "output_type": "stream",
     "text": [
      "File does not exist: /home/yuncong/CSHL_patch_scores/MD661/MD662&661-F58-2017.06.06-02.35.45_MD661_2_0173_prep2_gray/detector7/MD662&661-F58-2017.06.06-02.35.45_MD661_2_0173_prep2_gray_detector7_RMC_sparseScores.bp\n",
      "Error loading sparse scores for RMC: [Errno 2] No such file or directory: '/home/yuncong/CSHL_patch_scores/MD661/MD662&661-F58-2017.06.06-02.35.45_MD661_2_0173_prep2_gray/detector7/MD662&661-F58-2017.06.06-02.35.45_MD661_2_0173_prep2_gray_detector7_RMC_sparseScores.bp'\n"
     ]
    },
    {
     "name": "stdout",
     "output_type": "stream",
     "text": [
      "rm -rf \"/home/yuncong/CSHL_patch_scores/MD661/MD662&661-F58-2017.06.06-02.35.45_MD661_2_0173_prep2_gray/detector7/MD662&661-F58-2017.06.06-02.35.45_MD661_2_0173_prep2_gray_detector7_RtTg_sparseScores.bp\" && mkdir -p \"/home/yuncong/CSHL_patch_scores/MD661/MD662&661-F58-2017.06.06-02.35.45_MD661_2_0173_prep2_gray/detector7\"\n",
      "aws s3 cp \"s3://mousebrainatlas-data/CSHL_patch_scores/MD661/MD662&661-F57-2017.06.06-02.06.22_MD661_3_0171_prep2_gray/detector7/MD662&661-F57-2017.06.06-02.06.22_MD661_3_0171_prep2_gray_detector7_RtTg_sparseScores.bp\" \"/home/yuncong/CSHL_patch_scores/MD661/MD662&661-F57-2017.06.06-02.06.22_MD661_3_0171_prep2_gray/detector7/MD662&661-F57-2017.06.06-02.06.22_MD661_3_0171_prep2_gray_detector7_RtTg_sparseScores.bp\"\n",
      "aws s3 cp \"s3://mousebrainatlas-data/CSHL_patch_scores/MD661/MD662&661-F58-2017.06.06-02.35.45_MD661_2_0173_prep2_gray/detector7/MD662&661-F58-2017.06.06-02.35.45_MD661_2_0173_prep2_gray_detector7_RtTg_sparseScores.bp\" \"/home/yuncong/CSHL_patch_scores/MD661/MD662&661-F58-2017.06.06-02.35.45_MD661_2_0173_prep2_gray/detector7/MD662&661-F58-2017.06.06-02.35.45_MD661_2_0173_prep2_gray_detector7_RtTg_sparseScores.bp\"\n"
     ]
    },
    {
     "name": "stderr",
     "output_type": "stream",
     "text": [
      "File does not exist: /home/yuncong/CSHL_patch_scores/MD661/MD662&661-F58-2017.06.06-02.35.45_MD661_1_0172_prep2_gray/detector7/MD662&661-F58-2017.06.06-02.35.45_MD661_1_0172_prep2_gray_detector7_RtTg_sparseScores.bp\n",
      "Error loading sparse scores for RtTg: [Errno 2] No such file or directory: '/home/yuncong/CSHL_patch_scores/MD661/MD662&661-F58-2017.06.06-02.35.45_MD661_1_0172_prep2_gray/detector7/MD662&661-F58-2017.06.06-02.35.45_MD661_1_0172_prep2_gray_detector7_RtTg_sparseScores.bp'\n"
     ]
    },
    {
     "name": "stdout",
     "output_type": "stream",
     "text": [
      "rm -rf \"/home/yuncong/CSHL_patch_scores/MD661/MD662&661-F58-2017.06.06-02.35.45_MD661_1_0172_prep2_gray/detector7/MD662&661-F58-2017.06.06-02.35.45_MD661_1_0172_prep2_gray_detector7_SC_sparseScores.bp\" && mkdir -p \"/home/yuncong/CSHL_patch_scores/MD661/MD662&661-F58-2017.06.06-02.35.45_MD661_1_0172_prep2_gray/detector7\"\n",
      "aws s3 cp \"s3://mousebrainatlas-data/CSHL_patch_scores/MD661/MD662&661-F58-2017.06.06-02.35.45_MD661_1_0172_prep2_gray/detector7/MD662&661-F58-2017.06.06-02.35.45_MD661_1_0172_prep2_gray_detector7_SC_sparseScores.bp\" \"/home/yuncong/CSHL_patch_scores/MD661/MD662&661-F58-2017.06.06-02.35.45_MD661_1_0172_prep2_gray/detector7/MD662&661-F58-2017.06.06-02.35.45_MD661_1_0172_prep2_gray_detector7_SC_sparseScores.bp\"\n"
     ]
    },
    {
     "name": "stderr",
     "output_type": "stream",
     "text": [
      "File does not exist: /home/yuncong/CSHL_patch_scores/MD661/MD662&661-F57-2017.06.06-02.06.22_MD661_3_0171_prep2_gray/detector7/MD662&661-F57-2017.06.06-02.06.22_MD661_3_0171_prep2_gray_detector7_RtTg_sparseScores.bp\n",
      "Error loading sparse scores for RtTg: [Errno 2] No such file or directory: '/home/yuncong/CSHL_patch_scores/MD661/MD662&661-F57-2017.06.06-02.06.22_MD661_3_0171_prep2_gray/detector7/MD662&661-F57-2017.06.06-02.06.22_MD661_3_0171_prep2_gray_detector7_RtTg_sparseScores.bp'\n",
      "File does not exist: /home/yuncong/CSHL_patch_scores/MD661/MD662&661-F58-2017.06.06-02.35.45_MD661_2_0173_prep2_gray/detector7/MD662&661-F58-2017.06.06-02.35.45_MD661_2_0173_prep2_gray_detector7_RtTg_sparseScores.bp\n"
     ]
    },
    {
     "name": "stdout",
     "output_type": "stream",
     "text": [
      "rm -rf \"/home/yuncong/CSHL_patch_scores/MD661/MD662&661-F57-2017.06.06-02.06.22_MD661_3_0171_prep2_gray/detector7/MD662&661-F57-2017.06.06-02.06.22_MD661_3_0171_prep2_gray_detector7_SC_sparseScores.bp\" && mkdir -p \"/home/yuncong/CSHL_patch_scores/MD661/MD662&661-F57-2017.06.06-02.06.22_MD661_3_0171_prep2_gray/detector7\"\n"
     ]
    },
    {
     "name": "stderr",
     "output_type": "stream",
     "text": [
      "Error loading sparse scores for RtTg: [Errno 2] No such file or directory: '/home/yuncong/CSHL_patch_scores/MD661/MD662&661-F58-2017.06.06-02.35.45_MD661_2_0173_prep2_gray/detector7/MD662&661-F58-2017.06.06-02.35.45_MD661_2_0173_prep2_gray_detector7_RtTg_sparseScores.bp'\n"
     ]
    },
    {
     "name": "stdout",
     "output_type": "stream",
     "text": [
      "rm -rf \"/home/yuncong/CSHL_patch_scores/MD661/MD662&661-F58-2017.06.06-02.35.45_MD661_2_0173_prep2_gray/detector7/MD662&661-F58-2017.06.06-02.35.45_MD661_2_0173_prep2_gray_detector7_SC_sparseScores.bp\" && mkdir -p \"/home/yuncong/CSHL_patch_scores/MD661/MD662&661-F58-2017.06.06-02.35.45_MD661_2_0173_prep2_gray/detector7\"\n",
      "aws s3 cp \"s3://mousebrainatlas-data/CSHL_patch_scores/MD661/MD662&661-F57-2017.06.06-02.06.22_MD661_3_0171_prep2_gray/detector7/MD662&661-F57-2017.06.06-02.06.22_MD661_3_0171_prep2_gray_detector7_SC_sparseScores.bp\" \"/home/yuncong/CSHL_patch_scores/MD661/MD662&661-F57-2017.06.06-02.06.22_MD661_3_0171_prep2_gray/detector7/MD662&661-F57-2017.06.06-02.06.22_MD661_3_0171_prep2_gray_detector7_SC_sparseScores.bp\"\n",
      "aws s3 cp \"s3://mousebrainatlas-data/CSHL_patch_scores/MD661/MD662&661-F58-2017.06.06-02.35.45_MD661_2_0173_prep2_gray/detector7/MD662&661-F58-2017.06.06-02.35.45_MD661_2_0173_prep2_gray_detector7_SC_sparseScores.bp\" \"/home/yuncong/CSHL_patch_scores/MD661/MD662&661-F58-2017.06.06-02.35.45_MD661_2_0173_prep2_gray/detector7/MD662&661-F58-2017.06.06-02.35.45_MD661_2_0173_prep2_gray_detector7_SC_sparseScores.bp\"\n"
     ]
    },
    {
     "name": "stderr",
     "output_type": "stream",
     "text": [
      "File does not exist: /home/yuncong/CSHL_patch_scores/MD661/MD662&661-F58-2017.06.06-02.35.45_MD661_1_0172_prep2_gray/detector7/MD662&661-F58-2017.06.06-02.35.45_MD661_1_0172_prep2_gray_detector7_SC_sparseScores.bp\n",
      "Error loading sparse scores for SC: [Errno 2] No such file or directory: '/home/yuncong/CSHL_patch_scores/MD661/MD662&661-F58-2017.06.06-02.35.45_MD661_1_0172_prep2_gray/detector7/MD662&661-F58-2017.06.06-02.35.45_MD661_1_0172_prep2_gray_detector7_SC_sparseScores.bp'\n"
     ]
    },
    {
     "name": "stdout",
     "output_type": "stream",
     "text": [
      "rm -rf \"/home/yuncong/CSHL_patch_scores/MD661/MD662&661-F58-2017.06.06-02.35.45_MD661_1_0172_prep2_gray/detector7/MD662&661-F58-2017.06.06-02.35.45_MD661_1_0172_prep2_gray_detector7_SNC_sparseScores.bp\" && mkdir -p \"/home/yuncong/CSHL_patch_scores/MD661/MD662&661-F58-2017.06.06-02.35.45_MD661_1_0172_prep2_gray/detector7\"\n",
      "aws s3 cp \"s3://mousebrainatlas-data/CSHL_patch_scores/MD661/MD662&661-F58-2017.06.06-02.35.45_MD661_1_0172_prep2_gray/detector7/MD662&661-F58-2017.06.06-02.35.45_MD661_1_0172_prep2_gray_detector7_SNC_sparseScores.bp\" \"/home/yuncong/CSHL_patch_scores/MD661/MD662&661-F58-2017.06.06-02.35.45_MD661_1_0172_prep2_gray/detector7/MD662&661-F58-2017.06.06-02.35.45_MD661_1_0172_prep2_gray_detector7_SNC_sparseScores.bp\"\n"
     ]
    },
    {
     "name": "stderr",
     "output_type": "stream",
     "text": [
      "File does not exist: /home/yuncong/CSHL_patch_scores/MD661/MD662&661-F58-2017.06.06-02.35.45_MD661_2_0173_prep2_gray/detector7/MD662&661-F58-2017.06.06-02.35.45_MD661_2_0173_prep2_gray_detector7_SC_sparseScores.bp\n",
      "Error loading sparse scores for SC: [Errno 2] No such file or directory: '/home/yuncong/CSHL_patch_scores/MD661/MD662&661-F58-2017.06.06-02.35.45_MD661_2_0173_prep2_gray/detector7/MD662&661-F58-2017.06.06-02.35.45_MD661_2_0173_prep2_gray_detector7_SC_sparseScores.bp'\n"
     ]
    },
    {
     "name": "stdout",
     "output_type": "stream",
     "text": [
      "rm -rf \"/home/yuncong/CSHL_patch_scores/MD661/MD662&661-F58-2017.06.06-02.35.45_MD661_2_0173_prep2_gray/detector7/MD662&661-F58-2017.06.06-02.35.45_MD661_2_0173_prep2_gray_detector7_SNC_sparseScores.bp\" && mkdir -p \"/home/yuncong/CSHL_patch_scores/MD661/MD662&661-F58-2017.06.06-02.35.45_MD661_2_0173_prep2_gray/detector7\"\n"
     ]
    },
    {
     "name": "stderr",
     "output_type": "stream",
     "text": [
      "File does not exist: /home/yuncong/CSHL_patch_scores/MD661/MD662&661-F57-2017.06.06-02.06.22_MD661_3_0171_prep2_gray/detector7/MD662&661-F57-2017.06.06-02.06.22_MD661_3_0171_prep2_gray_detector7_SC_sparseScores.bp\n",
      "Error loading sparse scores for SC: [Errno 2] No such file or directory: '/home/yuncong/CSHL_patch_scores/MD661/MD662&661-F57-2017.06.06-02.06.22_MD661_3_0171_prep2_gray/detector7/MD662&661-F57-2017.06.06-02.06.22_MD661_3_0171_prep2_gray_detector7_SC_sparseScores.bp'\n"
     ]
    },
    {
     "name": "stdout",
     "output_type": "stream",
     "text": [
      "rm -rf \"/home/yuncong/CSHL_patch_scores/MD661/MD662&661-F57-2017.06.06-02.06.22_MD661_3_0171_prep2_gray/detector7/MD662&661-F57-2017.06.06-02.06.22_MD661_3_0171_prep2_gray_detector7_SNC_sparseScores.bp\" && mkdir -p \"/home/yuncong/CSHL_patch_scores/MD661/MD662&661-F57-2017.06.06-02.06.22_MD661_3_0171_prep2_gray/detector7\"\n",
      "aws s3 cp \"s3://mousebrainatlas-data/CSHL_patch_scores/MD661/MD662&661-F58-2017.06.06-02.35.45_MD661_2_0173_prep2_gray/detector7/MD662&661-F58-2017.06.06-02.35.45_MD661_2_0173_prep2_gray_detector7_SNC_sparseScores.bp\" \"/home/yuncong/CSHL_patch_scores/MD661/MD662&661-F58-2017.06.06-02.35.45_MD661_2_0173_prep2_gray/detector7/MD662&661-F58-2017.06.06-02.35.45_MD661_2_0173_prep2_gray_detector7_SNC_sparseScores.bp\"\n",
      "aws s3 cp \"s3://mousebrainatlas-data/CSHL_patch_scores/MD661/MD662&661-F57-2017.06.06-02.06.22_MD661_3_0171_prep2_gray/detector7/MD662&661-F57-2017.06.06-02.06.22_MD661_3_0171_prep2_gray_detector7_SNC_sparseScores.bp\" \"/home/yuncong/CSHL_patch_scores/MD661/MD662&661-F57-2017.06.06-02.06.22_MD661_3_0171_prep2_gray/detector7/MD662&661-F57-2017.06.06-02.06.22_MD661_3_0171_prep2_gray_detector7_SNC_sparseScores.bp\"\n"
     ]
    },
    {
     "name": "stderr",
     "output_type": "stream",
     "text": [
      "File does not exist: /home/yuncong/CSHL_patch_scores/MD661/MD662&661-F58-2017.06.06-02.35.45_MD661_1_0172_prep2_gray/detector7/MD662&661-F58-2017.06.06-02.35.45_MD661_1_0172_prep2_gray_detector7_SNC_sparseScores.bp\n",
      "Error loading sparse scores for SNC: [Errno 2] No such file or directory: '/home/yuncong/CSHL_patch_scores/MD661/MD662&661-F58-2017.06.06-02.35.45_MD661_1_0172_prep2_gray/detector7/MD662&661-F58-2017.06.06-02.35.45_MD661_1_0172_prep2_gray_detector7_SNC_sparseScores.bp'\n"
     ]
    },
    {
     "name": "stdout",
     "output_type": "stream",
     "text": [
      "rm -rf \"/home/yuncong/CSHL_patch_scores/MD661/MD662&661-F58-2017.06.06-02.35.45_MD661_1_0172_prep2_gray/detector7/MD662&661-F58-2017.06.06-02.35.45_MD661_1_0172_prep2_gray_detector7_SNR_sparseScores.bp\" && mkdir -p \"/home/yuncong/CSHL_patch_scores/MD661/MD662&661-F58-2017.06.06-02.35.45_MD661_1_0172_prep2_gray/detector7\"\n",
      "aws s3 cp \"s3://mousebrainatlas-data/CSHL_patch_scores/MD661/MD662&661-F58-2017.06.06-02.35.45_MD661_1_0172_prep2_gray/detector7/MD662&661-F58-2017.06.06-02.35.45_MD661_1_0172_prep2_gray_detector7_SNR_sparseScores.bp\" \"/home/yuncong/CSHL_patch_scores/MD661/MD662&661-F58-2017.06.06-02.35.45_MD661_1_0172_prep2_gray/detector7/MD662&661-F58-2017.06.06-02.35.45_MD661_1_0172_prep2_gray_detector7_SNR_sparseScores.bp\"\n"
     ]
    },
    {
     "name": "stderr",
     "output_type": "stream",
     "text": [
      "File does not exist: /home/yuncong/CSHL_patch_scores/MD661/MD662&661-F57-2017.06.06-02.06.22_MD661_3_0171_prep2_gray/detector7/MD662&661-F57-2017.06.06-02.06.22_MD661_3_0171_prep2_gray_detector7_SNC_sparseScores.bp\n",
      "File does not exist: /home/yuncong/CSHL_patch_scores/MD661/MD662&661-F58-2017.06.06-02.35.45_MD661_2_0173_prep2_gray/detector7/MD662&661-F58-2017.06.06-02.35.45_MD661_2_0173_prep2_gray_detector7_SNC_sparseScores.bp\n",
      "Error loading sparse scores for SNC: [Errno 2] No such file or directory: '/home/yuncong/CSHL_patch_scores/MD661/MD662&661-F57-2017.06.06-02.06.22_MD661_3_0171_prep2_gray/detector7/MD662&661-F57-2017.06.06-02.06.22_MD661_3_0171_prep2_gray_detector7_SNC_sparseScores.bp'\n",
      "Error loading sparse scores for SNC: [Errno 2] No such file or directory: '/home/yuncong/CSHL_patch_scores/MD661/MD662&661-F58-2017.06.06-02.35.45_MD661_2_0173_prep2_gray/detector7/MD662&661-F58-2017.06.06-02.35.45_MD661_2_0173_prep2_gray_detector7_SNC_sparseScores.bp'\n"
     ]
    },
    {
     "name": "stdout",
     "output_type": "stream",
     "text": [
      "rm -rf \"/home/yuncong/CSHL_patch_scores/MD661/MD662&661-F57-2017.06.06-02.06.22_MD661_3_0171_prep2_gray/detector7/MD662&661-F57-2017.06.06-02.06.22_MD661_3_0171_prep2_gray_detector7_SNR_sparseScores.bp\" && mkdir -p \"/home/yuncong/CSHL_patch_scores/MD661/MD662&661-F57-2017.06.06-02.06.22_MD661_3_0171_prep2_gray/detector7\"\n",
      "rm -rf \"/home/yuncong/CSHL_patch_scores/MD661/MD662&661-F58-2017.06.06-02.35.45_MD661_2_0173_prep2_gray/detector7/MD662&661-F58-2017.06.06-02.35.45_MD661_2_0173_prep2_gray_detector7_SNR_sparseScores.bp\" && mkdir -p \"/home/yuncong/CSHL_patch_scores/MD661/MD662&661-F58-2017.06.06-02.35.45_MD661_2_0173_prep2_gray/detector7\"\n",
      "aws s3 cp \"s3://mousebrainatlas-data/CSHL_patch_scores/MD661/MD662&661-F57-2017.06.06-02.06.22_MD661_3_0171_prep2_gray/detector7/MD662&661-F57-2017.06.06-02.06.22_MD661_3_0171_prep2_gray_detector7_SNR_sparseScores.bp\" \"/home/yuncong/CSHL_patch_scores/MD661/MD662&661-F57-2017.06.06-02.06.22_MD661_3_0171_prep2_gray/detector7/MD662&661-F57-2017.06.06-02.06.22_MD661_3_0171_prep2_gray_detector7_SNR_sparseScores.bp\"\n",
      "aws s3 cp \"s3://mousebrainatlas-data/CSHL_patch_scores/MD661/MD662&661-F58-2017.06.06-02.35.45_MD661_2_0173_prep2_gray/detector7/MD662&661-F58-2017.06.06-02.35.45_MD661_2_0173_prep2_gray_detector7_SNR_sparseScores.bp\" \"/home/yuncong/CSHL_patch_scores/MD661/MD662&661-F58-2017.06.06-02.35.45_MD661_2_0173_prep2_gray/detector7/MD662&661-F58-2017.06.06-02.35.45_MD661_2_0173_prep2_gray_detector7_SNR_sparseScores.bp\"\n"
     ]
    },
    {
     "name": "stderr",
     "output_type": "stream",
     "text": [
      "File does not exist: /home/yuncong/CSHL_patch_scores/MD661/MD662&661-F58-2017.06.06-02.35.45_MD661_1_0172_prep2_gray/detector7/MD662&661-F58-2017.06.06-02.35.45_MD661_1_0172_prep2_gray_detector7_SNR_sparseScores.bp\n",
      "Error loading sparse scores for SNR: [Errno 2] No such file or directory: '/home/yuncong/CSHL_patch_scores/MD661/MD662&661-F58-2017.06.06-02.35.45_MD661_1_0172_prep2_gray/detector7/MD662&661-F58-2017.06.06-02.35.45_MD661_1_0172_prep2_gray_detector7_SNR_sparseScores.bp'\n"
     ]
    },
    {
     "name": "stdout",
     "output_type": "stream",
     "text": [
      "rm -rf \"/home/yuncong/CSHL_patch_scores/MD661/MD662&661-F58-2017.06.06-02.35.45_MD661_1_0172_prep2_gray/detector7/MD662&661-F58-2017.06.06-02.35.45_MD661_1_0172_prep2_gray_detector7_Sp5C_sparseScores.bp\" && mkdir -p \"/home/yuncong/CSHL_patch_scores/MD661/MD662&661-F58-2017.06.06-02.35.45_MD661_1_0172_prep2_gray/detector7\"\n",
      "aws s3 cp \"s3://mousebrainatlas-data/CSHL_patch_scores/MD661/MD662&661-F58-2017.06.06-02.35.45_MD661_1_0172_prep2_gray/detector7/MD662&661-F58-2017.06.06-02.35.45_MD661_1_0172_prep2_gray_detector7_Sp5C_sparseScores.bp\" \"/home/yuncong/CSHL_patch_scores/MD661/MD662&661-F58-2017.06.06-02.35.45_MD661_1_0172_prep2_gray/detector7/MD662&661-F58-2017.06.06-02.35.45_MD661_1_0172_prep2_gray_detector7_Sp5C_sparseScores.bp\"\n"
     ]
    },
    {
     "name": "stderr",
     "output_type": "stream",
     "text": [
      "File does not exist: /home/yuncong/CSHL_patch_scores/MD661/MD662&661-F58-2017.06.06-02.35.45_MD661_2_0173_prep2_gray/detector7/MD662&661-F58-2017.06.06-02.35.45_MD661_2_0173_prep2_gray_detector7_SNR_sparseScores.bp\n",
      "Error loading sparse scores for SNR: [Errno 2] No such file or directory: '/home/yuncong/CSHL_patch_scores/MD661/MD662&661-F58-2017.06.06-02.35.45_MD661_2_0173_prep2_gray/detector7/MD662&661-F58-2017.06.06-02.35.45_MD661_2_0173_prep2_gray_detector7_SNR_sparseScores.bp'\n"
     ]
    },
    {
     "name": "stdout",
     "output_type": "stream",
     "text": [
      "rm -rf \"/home/yuncong/CSHL_patch_scores/MD661/MD662&661-F58-2017.06.06-02.35.45_MD661_2_0173_prep2_gray/detector7/MD662&661-F58-2017.06.06-02.35.45_MD661_2_0173_prep2_gray_detector7_Sp5C_sparseScores.bp\" && mkdir -p \"/home/yuncong/CSHL_patch_scores/MD661/MD662&661-F58-2017.06.06-02.35.45_MD661_2_0173_prep2_gray/detector7\"\n"
     ]
    },
    {
     "name": "stderr",
     "output_type": "stream",
     "text": [
      "File does not exist: /home/yuncong/CSHL_patch_scores/MD661/MD662&661-F57-2017.06.06-02.06.22_MD661_3_0171_prep2_gray/detector7/MD662&661-F57-2017.06.06-02.06.22_MD661_3_0171_prep2_gray_detector7_SNR_sparseScores.bp\n",
      "Error loading sparse scores for SNR: [Errno 2] No such file or directory: '/home/yuncong/CSHL_patch_scores/MD661/MD662&661-F57-2017.06.06-02.06.22_MD661_3_0171_prep2_gray/detector7/MD662&661-F57-2017.06.06-02.06.22_MD661_3_0171_prep2_gray_detector7_SNR_sparseScores.bp'\n"
     ]
    },
    {
     "name": "stdout",
     "output_type": "stream",
     "text": [
      "rm -rf \"/home/yuncong/CSHL_patch_scores/MD661/MD662&661-F57-2017.06.06-02.06.22_MD661_3_0171_prep2_gray/detector7/MD662&661-F57-2017.06.06-02.06.22_MD661_3_0171_prep2_gray_detector7_Sp5C_sparseScores.bp\" && mkdir -p \"/home/yuncong/CSHL_patch_scores/MD661/MD662&661-F57-2017.06.06-02.06.22_MD661_3_0171_prep2_gray/detector7\"\n",
      "aws s3 cp \"s3://mousebrainatlas-data/CSHL_patch_scores/MD661/MD662&661-F58-2017.06.06-02.35.45_MD661_2_0173_prep2_gray/detector7/MD662&661-F58-2017.06.06-02.35.45_MD661_2_0173_prep2_gray_detector7_Sp5C_sparseScores.bp\" \"/home/yuncong/CSHL_patch_scores/MD661/MD662&661-F58-2017.06.06-02.35.45_MD661_2_0173_prep2_gray/detector7/MD662&661-F58-2017.06.06-02.35.45_MD661_2_0173_prep2_gray_detector7_Sp5C_sparseScores.bp\"\n",
      "aws s3 cp \"s3://mousebrainatlas-data/CSHL_patch_scores/MD661/MD662&661-F57-2017.06.06-02.06.22_MD661_3_0171_prep2_gray/detector7/MD662&661-F57-2017.06.06-02.06.22_MD661_3_0171_prep2_gray_detector7_Sp5C_sparseScores.bp\" \"/home/yuncong/CSHL_patch_scores/MD661/MD662&661-F57-2017.06.06-02.06.22_MD661_3_0171_prep2_gray/detector7/MD662&661-F57-2017.06.06-02.06.22_MD661_3_0171_prep2_gray_detector7_Sp5C_sparseScores.bp\"\n"
     ]
    },
    {
     "name": "stderr",
     "output_type": "stream",
     "text": [
      "File does not exist: /home/yuncong/CSHL_patch_scores/MD661/MD662&661-F58-2017.06.06-02.35.45_MD661_1_0172_prep2_gray/detector7/MD662&661-F58-2017.06.06-02.35.45_MD661_1_0172_prep2_gray_detector7_Sp5C_sparseScores.bp\n",
      "Error loading sparse scores for Sp5C: [Errno 2] No such file or directory: '/home/yuncong/CSHL_patch_scores/MD661/MD662&661-F58-2017.06.06-02.35.45_MD661_1_0172_prep2_gray/detector7/MD662&661-F58-2017.06.06-02.35.45_MD661_1_0172_prep2_gray_detector7_Sp5C_sparseScores.bp'\n"
     ]
    },
    {
     "name": "stdout",
     "output_type": "stream",
     "text": [
      "rm -rf \"/home/yuncong/CSHL_patch_scores/MD661/MD662&661-F58-2017.06.06-02.35.45_MD661_1_0172_prep2_gray/detector7/MD662&661-F58-2017.06.06-02.35.45_MD661_1_0172_prep2_gray_detector7_Sp5I_sparseScores.bp\" && mkdir -p \"/home/yuncong/CSHL_patch_scores/MD661/MD662&661-F58-2017.06.06-02.35.45_MD661_1_0172_prep2_gray/detector7\"\n",
      "aws s3 cp \"s3://mousebrainatlas-data/CSHL_patch_scores/MD661/MD662&661-F58-2017.06.06-02.35.45_MD661_1_0172_prep2_gray/detector7/MD662&661-F58-2017.06.06-02.35.45_MD661_1_0172_prep2_gray_detector7_Sp5I_sparseScores.bp\" \"/home/yuncong/CSHL_patch_scores/MD661/MD662&661-F58-2017.06.06-02.35.45_MD661_1_0172_prep2_gray/detector7/MD662&661-F58-2017.06.06-02.35.45_MD661_1_0172_prep2_gray_detector7_Sp5I_sparseScores.bp\"\n"
     ]
    },
    {
     "name": "stderr",
     "output_type": "stream",
     "text": [
      "File does not exist: /home/yuncong/CSHL_patch_scores/MD661/MD662&661-F57-2017.06.06-02.06.22_MD661_3_0171_prep2_gray/detector7/MD662&661-F57-2017.06.06-02.06.22_MD661_3_0171_prep2_gray_detector7_Sp5C_sparseScores.bp\n",
      "File does not exist: /home/yuncong/CSHL_patch_scores/MD661/MD662&661-F58-2017.06.06-02.35.45_MD661_2_0173_prep2_gray/detector7/MD662&661-F58-2017.06.06-02.35.45_MD661_2_0173_prep2_gray_detector7_Sp5C_sparseScores.bp\n",
      "Error loading sparse scores for Sp5C: [Errno 2] No such file or directory: '/home/yuncong/CSHL_patch_scores/MD661/MD662&661-F58-2017.06.06-02.35.45_MD661_2_0173_prep2_gray/detector7/MD662&661-F58-2017.06.06-02.35.45_MD661_2_0173_prep2_gray_detector7_Sp5C_sparseScores.bp'\n",
      "Error loading sparse scores for Sp5C: [Errno 2] No such file or directory: '/home/yuncong/CSHL_patch_scores/MD661/MD662&661-F57-2017.06.06-02.06.22_MD661_3_0171_prep2_gray/detector7/MD662&661-F57-2017.06.06-02.06.22_MD661_3_0171_prep2_gray_detector7_Sp5C_sparseScores.bp'\n"
     ]
    },
    {
     "name": "stdout",
     "output_type": "stream",
     "text": [
      "rm -rf \"/home/yuncong/CSHL_patch_scores/MD661/MD662&661-F57-2017.06.06-02.06.22_MD661_3_0171_prep2_gray/detector7/MD662&661-F57-2017.06.06-02.06.22_MD661_3_0171_prep2_gray_detector7_Sp5I_sparseScores.bp\" && mkdir -p \"/home/yuncong/CSHL_patch_scores/MD661/MD662&661-F57-2017.06.06-02.06.22_MD661_3_0171_prep2_gray/detector7\"\n",
      "rm -rf \"/home/yuncong/CSHL_patch_scores/MD661/MD662&661-F58-2017.06.06-02.35.45_MD661_2_0173_prep2_gray/detector7/MD662&661-F58-2017.06.06-02.35.45_MD661_2_0173_prep2_gray_detector7_Sp5I_sparseScores.bp\" && mkdir -p \"/home/yuncong/CSHL_patch_scores/MD661/MD662&661-F58-2017.06.06-02.35.45_MD661_2_0173_prep2_gray/detector7\"\n",
      "aws s3 cp \"s3://mousebrainatlas-data/CSHL_patch_scores/MD661/MD662&661-F57-2017.06.06-02.06.22_MD661_3_0171_prep2_gray/detector7/MD662&661-F57-2017.06.06-02.06.22_MD661_3_0171_prep2_gray_detector7_Sp5I_sparseScores.bp\" \"/home/yuncong/CSHL_patch_scores/MD661/MD662&661-F57-2017.06.06-02.06.22_MD661_3_0171_prep2_gray/detector7/MD662&661-F57-2017.06.06-02.06.22_MD661_3_0171_prep2_gray_detector7_Sp5I_sparseScores.bp\"\n",
      "aws s3 cp \"s3://mousebrainatlas-data/CSHL_patch_scores/MD661/MD662&661-F58-2017.06.06-02.35.45_MD661_2_0173_prep2_gray/detector7/MD662&661-F58-2017.06.06-02.35.45_MD661_2_0173_prep2_gray_detector7_Sp5I_sparseScores.bp\" \"/home/yuncong/CSHL_patch_scores/MD661/MD662&661-F58-2017.06.06-02.35.45_MD661_2_0173_prep2_gray/detector7/MD662&661-F58-2017.06.06-02.35.45_MD661_2_0173_prep2_gray_detector7_Sp5I_sparseScores.bp\"\n"
     ]
    },
    {
     "name": "stderr",
     "output_type": "stream",
     "text": [
      "File does not exist: /home/yuncong/CSHL_patch_scores/MD661/MD662&661-F58-2017.06.06-02.35.45_MD661_1_0172_prep2_gray/detector7/MD662&661-F58-2017.06.06-02.35.45_MD661_1_0172_prep2_gray_detector7_Sp5I_sparseScores.bp\n",
      "Error loading sparse scores for Sp5I: [Errno 2] No such file or directory: '/home/yuncong/CSHL_patch_scores/MD661/MD662&661-F58-2017.06.06-02.35.45_MD661_1_0172_prep2_gray/detector7/MD662&661-F58-2017.06.06-02.35.45_MD661_1_0172_prep2_gray_detector7_Sp5I_sparseScores.bp'\n"
     ]
    },
    {
     "name": "stdout",
     "output_type": "stream",
     "text": [
      "rm -rf \"/home/yuncong/CSHL_patch_scores/MD661/MD662&661-F58-2017.06.06-02.35.45_MD661_1_0172_prep2_gray/detector7/MD662&661-F58-2017.06.06-02.35.45_MD661_1_0172_prep2_gray_detector7_Sp5O_sparseScores.bp\" && mkdir -p \"/home/yuncong/CSHL_patch_scores/MD661/MD662&661-F58-2017.06.06-02.35.45_MD661_1_0172_prep2_gray/detector7\"\n",
      "aws s3 cp \"s3://mousebrainatlas-data/CSHL_patch_scores/MD661/MD662&661-F58-2017.06.06-02.35.45_MD661_1_0172_prep2_gray/detector7/MD662&661-F58-2017.06.06-02.35.45_MD661_1_0172_prep2_gray_detector7_Sp5O_sparseScores.bp\" \"/home/yuncong/CSHL_patch_scores/MD661/MD662&661-F58-2017.06.06-02.35.45_MD661_1_0172_prep2_gray/detector7/MD662&661-F58-2017.06.06-02.35.45_MD661_1_0172_prep2_gray_detector7_Sp5O_sparseScores.bp\"\n"
     ]
    },
    {
     "name": "stderr",
     "output_type": "stream",
     "text": [
      "File does not exist: /home/yuncong/CSHL_patch_scores/MD661/MD662&661-F58-2017.06.06-02.35.45_MD661_2_0173_prep2_gray/detector7/MD662&661-F58-2017.06.06-02.35.45_MD661_2_0173_prep2_gray_detector7_Sp5I_sparseScores.bp\n",
      "Error loading sparse scores for Sp5I: [Errno 2] No such file or directory: '/home/yuncong/CSHL_patch_scores/MD661/MD662&661-F58-2017.06.06-02.35.45_MD661_2_0173_prep2_gray/detector7/MD662&661-F58-2017.06.06-02.35.45_MD661_2_0173_prep2_gray_detector7_Sp5I_sparseScores.bp'\n"
     ]
    },
    {
     "name": "stdout",
     "output_type": "stream",
     "text": [
      "rm -rf \"/home/yuncong/CSHL_patch_scores/MD661/MD662&661-F58-2017.06.06-02.35.45_MD661_2_0173_prep2_gray/detector7/MD662&661-F58-2017.06.06-02.35.45_MD661_2_0173_prep2_gray_detector7_Sp5O_sparseScores.bp\" && mkdir -p \"/home/yuncong/CSHL_patch_scores/MD661/MD662&661-F58-2017.06.06-02.35.45_MD661_2_0173_prep2_gray/detector7\"\n"
     ]
    },
    {
     "name": "stderr",
     "output_type": "stream",
     "text": [
      "File does not exist: /home/yuncong/CSHL_patch_scores/MD661/MD662&661-F57-2017.06.06-02.06.22_MD661_3_0171_prep2_gray/detector7/MD662&661-F57-2017.06.06-02.06.22_MD661_3_0171_prep2_gray_detector7_Sp5I_sparseScores.bp\n",
      "Error loading sparse scores for Sp5I: [Errno 2] No such file or directory: '/home/yuncong/CSHL_patch_scores/MD661/MD662&661-F57-2017.06.06-02.06.22_MD661_3_0171_prep2_gray/detector7/MD662&661-F57-2017.06.06-02.06.22_MD661_3_0171_prep2_gray_detector7_Sp5I_sparseScores.bp'\n"
     ]
    },
    {
     "name": "stdout",
     "output_type": "stream",
     "text": [
      "rm -rf \"/home/yuncong/CSHL_patch_scores/MD661/MD662&661-F57-2017.06.06-02.06.22_MD661_3_0171_prep2_gray/detector7/MD662&661-F57-2017.06.06-02.06.22_MD661_3_0171_prep2_gray_detector7_Sp5O_sparseScores.bp\" && mkdir -p \"/home/yuncong/CSHL_patch_scores/MD661/MD662&661-F57-2017.06.06-02.06.22_MD661_3_0171_prep2_gray/detector7\"\n",
      "aws s3 cp \"s3://mousebrainatlas-data/CSHL_patch_scores/MD661/MD662&661-F58-2017.06.06-02.35.45_MD661_2_0173_prep2_gray/detector7/MD662&661-F58-2017.06.06-02.35.45_MD661_2_0173_prep2_gray_detector7_Sp5O_sparseScores.bp\" \"/home/yuncong/CSHL_patch_scores/MD661/MD662&661-F58-2017.06.06-02.35.45_MD661_2_0173_prep2_gray/detector7/MD662&661-F58-2017.06.06-02.35.45_MD661_2_0173_prep2_gray_detector7_Sp5O_sparseScores.bp\"\n",
      "aws s3 cp \"s3://mousebrainatlas-data/CSHL_patch_scores/MD661/MD662&661-F57-2017.06.06-02.06.22_MD661_3_0171_prep2_gray/detector7/MD662&661-F57-2017.06.06-02.06.22_MD661_3_0171_prep2_gray_detector7_Sp5O_sparseScores.bp\" \"/home/yuncong/CSHL_patch_scores/MD661/MD662&661-F57-2017.06.06-02.06.22_MD661_3_0171_prep2_gray/detector7/MD662&661-F57-2017.06.06-02.06.22_MD661_3_0171_prep2_gray_detector7_Sp5O_sparseScores.bp\"\n"
     ]
    },
    {
     "name": "stderr",
     "output_type": "stream",
     "text": [
      "File does not exist: /home/yuncong/CSHL_patch_scores/MD661/MD662&661-F58-2017.06.06-02.35.45_MD661_1_0172_prep2_gray/detector7/MD662&661-F58-2017.06.06-02.35.45_MD661_1_0172_prep2_gray_detector7_Sp5O_sparseScores.bp\n",
      "Error loading sparse scores for Sp5O: [Errno 2] No such file or directory: '/home/yuncong/CSHL_patch_scores/MD661/MD662&661-F58-2017.06.06-02.35.45_MD661_1_0172_prep2_gray/detector7/MD662&661-F58-2017.06.06-02.35.45_MD661_1_0172_prep2_gray_detector7_Sp5O_sparseScores.bp'\n"
     ]
    },
    {
     "name": "stdout",
     "output_type": "stream",
     "text": [
      "rm -rf \"/home/yuncong/CSHL_patch_scores/MD661/MD662&661-F58-2017.06.06-02.35.45_MD661_1_0172_prep2_gray/detector7/MD662&661-F58-2017.06.06-02.35.45_MD661_1_0172_prep2_gray_detector7_Tz_sparseScores.bp\" && mkdir -p \"/home/yuncong/CSHL_patch_scores/MD661/MD662&661-F58-2017.06.06-02.35.45_MD661_1_0172_prep2_gray/detector7\"\n",
      "aws s3 cp \"s3://mousebrainatlas-data/CSHL_patch_scores/MD661/MD662&661-F58-2017.06.06-02.35.45_MD661_1_0172_prep2_gray/detector7/MD662&661-F58-2017.06.06-02.35.45_MD661_1_0172_prep2_gray_detector7_Tz_sparseScores.bp\" \"/home/yuncong/CSHL_patch_scores/MD661/MD662&661-F58-2017.06.06-02.35.45_MD661_1_0172_prep2_gray/detector7/MD662&661-F58-2017.06.06-02.35.45_MD661_1_0172_prep2_gray_detector7_Tz_sparseScores.bp\"\n"
     ]
    },
    {
     "name": "stderr",
     "output_type": "stream",
     "text": [
      "File does not exist: /home/yuncong/CSHL_patch_scores/MD661/MD662&661-F57-2017.06.06-02.06.22_MD661_3_0171_prep2_gray/detector7/MD662&661-F57-2017.06.06-02.06.22_MD661_3_0171_prep2_gray_detector7_Sp5O_sparseScores.bp\n",
      "Error loading sparse scores for Sp5O: [Errno 2] No such file or directory: '/home/yuncong/CSHL_patch_scores/MD661/MD662&661-F57-2017.06.06-02.06.22_MD661_3_0171_prep2_gray/detector7/MD662&661-F57-2017.06.06-02.06.22_MD661_3_0171_prep2_gray_detector7_Sp5O_sparseScores.bp'\n"
     ]
    },
    {
     "name": "stdout",
     "output_type": "stream",
     "text": [
      "rm -rf \"/home/yuncong/CSHL_patch_scores/MD661/MD662&661-F57-2017.06.06-02.06.22_MD661_3_0171_prep2_gray/detector7/MD662&661-F57-2017.06.06-02.06.22_MD661_3_0171_prep2_gray_detector7_Tz_sparseScores.bp\" && mkdir -p \"/home/yuncong/CSHL_patch_scores/MD661/MD662&661-F57-2017.06.06-02.06.22_MD661_3_0171_prep2_gray/detector7\"\n"
     ]
    },
    {
     "name": "stderr",
     "output_type": "stream",
     "text": [
      "File does not exist: /home/yuncong/CSHL_patch_scores/MD661/MD662&661-F58-2017.06.06-02.35.45_MD661_2_0173_prep2_gray/detector7/MD662&661-F58-2017.06.06-02.35.45_MD661_2_0173_prep2_gray_detector7_Sp5O_sparseScores.bp\n",
      "Error loading sparse scores for Sp5O: [Errno 2] No such file or directory: '/home/yuncong/CSHL_patch_scores/MD661/MD662&661-F58-2017.06.06-02.35.45_MD661_2_0173_prep2_gray/detector7/MD662&661-F58-2017.06.06-02.35.45_MD661_2_0173_prep2_gray_detector7_Sp5O_sparseScores.bp'\n"
     ]
    },
    {
     "name": "stdout",
     "output_type": "stream",
     "text": [
      "rm -rf \"/home/yuncong/CSHL_patch_scores/MD661/MD662&661-F58-2017.06.06-02.35.45_MD661_2_0173_prep2_gray/detector7/MD662&661-F58-2017.06.06-02.35.45_MD661_2_0173_prep2_gray_detector7_Tz_sparseScores.bp\" && mkdir -p \"/home/yuncong/CSHL_patch_scores/MD661/MD662&661-F58-2017.06.06-02.35.45_MD661_2_0173_prep2_gray/detector7\"\n",
      "aws s3 cp \"s3://mousebrainatlas-data/CSHL_patch_scores/MD661/MD662&661-F57-2017.06.06-02.06.22_MD661_3_0171_prep2_gray/detector7/MD662&661-F57-2017.06.06-02.06.22_MD661_3_0171_prep2_gray_detector7_Tz_sparseScores.bp\" \"/home/yuncong/CSHL_patch_scores/MD661/MD662&661-F57-2017.06.06-02.06.22_MD661_3_0171_prep2_gray/detector7/MD662&661-F57-2017.06.06-02.06.22_MD661_3_0171_prep2_gray_detector7_Tz_sparseScores.bp\"\n",
      "aws s3 cp \"s3://mousebrainatlas-data/CSHL_patch_scores/MD661/MD662&661-F58-2017.06.06-02.35.45_MD661_2_0173_prep2_gray/detector7/MD662&661-F58-2017.06.06-02.35.45_MD661_2_0173_prep2_gray_detector7_Tz_sparseScores.bp\" \"/home/yuncong/CSHL_patch_scores/MD661/MD662&661-F58-2017.06.06-02.35.45_MD661_2_0173_prep2_gray/detector7/MD662&661-F58-2017.06.06-02.35.45_MD661_2_0173_prep2_gray_detector7_Tz_sparseScores.bp\"\n"
     ]
    },
    {
     "name": "stderr",
     "output_type": "stream",
     "text": [
      "File does not exist: /home/yuncong/CSHL_patch_scores/MD661/MD662&661-F58-2017.06.06-02.35.45_MD661_1_0172_prep2_gray/detector7/MD662&661-F58-2017.06.06-02.35.45_MD661_1_0172_prep2_gray_detector7_Tz_sparseScores.bp\n",
      "Error loading sparse scores for Tz: [Errno 2] No such file or directory: '/home/yuncong/CSHL_patch_scores/MD661/MD662&661-F58-2017.06.06-02.35.45_MD661_1_0172_prep2_gray/detector7/MD662&661-F58-2017.06.06-02.35.45_MD661_1_0172_prep2_gray_detector7_Tz_sparseScores.bp'\n"
     ]
    },
    {
     "name": "stdout",
     "output_type": "stream",
     "text": [
      "rm -rf \"/home/yuncong/CSHL_patch_scores/MD661/MD662&661-F58-2017.06.06-02.35.45_MD661_1_0172_prep2_gray/detector7/MD662&661-F58-2017.06.06-02.35.45_MD661_1_0172_prep2_gray_detector7_VCA_sparseScores.bp\" && mkdir -p \"/home/yuncong/CSHL_patch_scores/MD661/MD662&661-F58-2017.06.06-02.35.45_MD661_1_0172_prep2_gray/detector7\"\n",
      "aws s3 cp \"s3://mousebrainatlas-data/CSHL_patch_scores/MD661/MD662&661-F58-2017.06.06-02.35.45_MD661_1_0172_prep2_gray/detector7/MD662&661-F58-2017.06.06-02.35.45_MD661_1_0172_prep2_gray_detector7_VCA_sparseScores.bp\" \"/home/yuncong/CSHL_patch_scores/MD661/MD662&661-F58-2017.06.06-02.35.45_MD661_1_0172_prep2_gray/detector7/MD662&661-F58-2017.06.06-02.35.45_MD661_1_0172_prep2_gray_detector7_VCA_sparseScores.bp\"\n"
     ]
    },
    {
     "name": "stderr",
     "output_type": "stream",
     "text": [
      "File does not exist: /home/yuncong/CSHL_patch_scores/MD661/MD662&661-F57-2017.06.06-02.06.22_MD661_3_0171_prep2_gray/detector7/MD662&661-F57-2017.06.06-02.06.22_MD661_3_0171_prep2_gray_detector7_Tz_sparseScores.bp\n",
      "Error loading sparse scores for Tz: [Errno 2] No such file or directory: '/home/yuncong/CSHL_patch_scores/MD661/MD662&661-F57-2017.06.06-02.06.22_MD661_3_0171_prep2_gray/detector7/MD662&661-F57-2017.06.06-02.06.22_MD661_3_0171_prep2_gray_detector7_Tz_sparseScores.bp'\n"
     ]
    },
    {
     "name": "stdout",
     "output_type": "stream",
     "text": [
      "rm -rf \"/home/yuncong/CSHL_patch_scores/MD661/MD662&661-F57-2017.06.06-02.06.22_MD661_3_0171_prep2_gray/detector7/MD662&661-F57-2017.06.06-02.06.22_MD661_3_0171_prep2_gray_detector7_VCA_sparseScores.bp\" && mkdir -p \"/home/yuncong/CSHL_patch_scores/MD661/MD662&661-F57-2017.06.06-02.06.22_MD661_3_0171_prep2_gray/detector7\"\n"
     ]
    },
    {
     "name": "stderr",
     "output_type": "stream",
     "text": [
      "File does not exist: /home/yuncong/CSHL_patch_scores/MD661/MD662&661-F58-2017.06.06-02.35.45_MD661_2_0173_prep2_gray/detector7/MD662&661-F58-2017.06.06-02.35.45_MD661_2_0173_prep2_gray_detector7_Tz_sparseScores.bp\n",
      "Error loading sparse scores for Tz: [Errno 2] No such file or directory: '/home/yuncong/CSHL_patch_scores/MD661/MD662&661-F58-2017.06.06-02.35.45_MD661_2_0173_prep2_gray/detector7/MD662&661-F58-2017.06.06-02.35.45_MD661_2_0173_prep2_gray_detector7_Tz_sparseScores.bp'\n"
     ]
    },
    {
     "name": "stdout",
     "output_type": "stream",
     "text": [
      "rm -rf \"/home/yuncong/CSHL_patch_scores/MD661/MD662&661-F58-2017.06.06-02.35.45_MD661_2_0173_prep2_gray/detector7/MD662&661-F58-2017.06.06-02.35.45_MD661_2_0173_prep2_gray_detector7_VCA_sparseScores.bp\" && mkdir -p \"/home/yuncong/CSHL_patch_scores/MD661/MD662&661-F58-2017.06.06-02.35.45_MD661_2_0173_prep2_gray/detector7\"\n",
      "aws s3 cp \"s3://mousebrainatlas-data/CSHL_patch_scores/MD661/MD662&661-F57-2017.06.06-02.06.22_MD661_3_0171_prep2_gray/detector7/MD662&661-F57-2017.06.06-02.06.22_MD661_3_0171_prep2_gray_detector7_VCA_sparseScores.bp\" \"/home/yuncong/CSHL_patch_scores/MD661/MD662&661-F57-2017.06.06-02.06.22_MD661_3_0171_prep2_gray/detector7/MD662&661-F57-2017.06.06-02.06.22_MD661_3_0171_prep2_gray_detector7_VCA_sparseScores.bp\"\n",
      "aws s3 cp \"s3://mousebrainatlas-data/CSHL_patch_scores/MD661/MD662&661-F58-2017.06.06-02.35.45_MD661_2_0173_prep2_gray/detector7/MD662&661-F58-2017.06.06-02.35.45_MD661_2_0173_prep2_gray_detector7_VCA_sparseScores.bp\" \"/home/yuncong/CSHL_patch_scores/MD661/MD662&661-F58-2017.06.06-02.35.45_MD661_2_0173_prep2_gray/detector7/MD662&661-F58-2017.06.06-02.35.45_MD661_2_0173_prep2_gray_detector7_VCA_sparseScores.bp\"\n"
     ]
    },
    {
     "name": "stderr",
     "output_type": "stream",
     "text": [
      "File does not exist: /home/yuncong/CSHL_patch_scores/MD661/MD662&661-F58-2017.06.06-02.35.45_MD661_1_0172_prep2_gray/detector7/MD662&661-F58-2017.06.06-02.35.45_MD661_1_0172_prep2_gray_detector7_VCA_sparseScores.bp\n",
      "Error loading sparse scores for VCA: [Errno 2] No such file or directory: '/home/yuncong/CSHL_patch_scores/MD661/MD662&661-F58-2017.06.06-02.35.45_MD661_1_0172_prep2_gray/detector7/MD662&661-F58-2017.06.06-02.35.45_MD661_1_0172_prep2_gray_detector7_VCA_sparseScores.bp'\n"
     ]
    },
    {
     "name": "stdout",
     "output_type": "stream",
     "text": [
      "rm -rf \"/home/yuncong/CSHL_patch_scores/MD661/MD662&661-F58-2017.06.06-02.35.45_MD661_1_0172_prep2_gray/detector7/MD662&661-F58-2017.06.06-02.35.45_MD661_1_0172_prep2_gray_detector7_VCP_sparseScores.bp\" && mkdir -p \"/home/yuncong/CSHL_patch_scores/MD661/MD662&661-F58-2017.06.06-02.35.45_MD661_1_0172_prep2_gray/detector7\"\n",
      "aws s3 cp \"s3://mousebrainatlas-data/CSHL_patch_scores/MD661/MD662&661-F58-2017.06.06-02.35.45_MD661_1_0172_prep2_gray/detector7/MD662&661-F58-2017.06.06-02.35.45_MD661_1_0172_prep2_gray_detector7_VCP_sparseScores.bp\" \"/home/yuncong/CSHL_patch_scores/MD661/MD662&661-F58-2017.06.06-02.35.45_MD661_1_0172_prep2_gray/detector7/MD662&661-F58-2017.06.06-02.35.45_MD661_1_0172_prep2_gray_detector7_VCP_sparseScores.bp\"\n"
     ]
    },
    {
     "name": "stderr",
     "output_type": "stream",
     "text": [
      "File does not exist: /home/yuncong/CSHL_patch_scores/MD661/MD662&661-F58-2017.06.06-02.35.45_MD661_2_0173_prep2_gray/detector7/MD662&661-F58-2017.06.06-02.35.45_MD661_2_0173_prep2_gray_detector7_VCA_sparseScores.bp\n",
      "Error loading sparse scores for VCA: [Errno 2] No such file or directory: '/home/yuncong/CSHL_patch_scores/MD661/MD662&661-F58-2017.06.06-02.35.45_MD661_2_0173_prep2_gray/detector7/MD662&661-F58-2017.06.06-02.35.45_MD661_2_0173_prep2_gray_detector7_VCA_sparseScores.bp'\n",
      "File does not exist: /home/yuncong/CSHL_patch_scores/MD661/MD662&661-F57-2017.06.06-02.06.22_MD661_3_0171_prep2_gray/detector7/MD662&661-F57-2017.06.06-02.06.22_MD661_3_0171_prep2_gray_detector7_VCA_sparseScores.bp\n",
      "Error loading sparse scores for VCA: [Errno 2] No such file or directory: '/home/yuncong/CSHL_patch_scores/MD661/MD662&661-F57-2017.06.06-02.06.22_MD661_3_0171_prep2_gray/detector7/MD662&661-F57-2017.06.06-02.06.22_MD661_3_0171_prep2_gray_detector7_VCA_sparseScores.bp'\n"
     ]
    },
    {
     "name": "stdout",
     "output_type": "stream",
     "text": [
      "rm -rf \"/home/yuncong/CSHL_patch_scores/MD661/MD662&661-F58-2017.06.06-02.35.45_MD661_2_0173_prep2_gray/detector7/MD662&661-F58-2017.06.06-02.35.45_MD661_2_0173_prep2_gray_detector7_VCP_sparseScores.bp\" && mkdir -p \"/home/yuncong/CSHL_patch_scores/MD661/MD662&661-F58-2017.06.06-02.35.45_MD661_2_0173_prep2_gray/detector7\"\n",
      "rm -rf \"/home/yuncong/CSHL_patch_scores/MD661/MD662&661-F57-2017.06.06-02.06.22_MD661_3_0171_prep2_gray/detector7/MD662&661-F57-2017.06.06-02.06.22_MD661_3_0171_prep2_gray_detector7_VCP_sparseScores.bp\" && mkdir -p \"/home/yuncong/CSHL_patch_scores/MD661/MD662&661-F57-2017.06.06-02.06.22_MD661_3_0171_prep2_gray/detector7\"\n",
      "aws s3 cp \"s3://mousebrainatlas-data/CSHL_patch_scores/MD661/MD662&661-F57-2017.06.06-02.06.22_MD661_3_0171_prep2_gray/detector7/MD662&661-F57-2017.06.06-02.06.22_MD661_3_0171_prep2_gray_detector7_VCP_sparseScores.bp\" \"/home/yuncong/CSHL_patch_scores/MD661/MD662&661-F57-2017.06.06-02.06.22_MD661_3_0171_prep2_gray/detector7/MD662&661-F57-2017.06.06-02.06.22_MD661_3_0171_prep2_gray_detector7_VCP_sparseScores.bp\"\n",
      "aws s3 cp \"s3://mousebrainatlas-data/CSHL_patch_scores/MD661/MD662&661-F58-2017.06.06-02.35.45_MD661_2_0173_prep2_gray/detector7/MD662&661-F58-2017.06.06-02.35.45_MD661_2_0173_prep2_gray_detector7_VCP_sparseScores.bp\" \"/home/yuncong/CSHL_patch_scores/MD661/MD662&661-F58-2017.06.06-02.35.45_MD661_2_0173_prep2_gray/detector7/MD662&661-F58-2017.06.06-02.35.45_MD661_2_0173_prep2_gray_detector7_VCP_sparseScores.bp\"\n"
     ]
    },
    {
     "name": "stderr",
     "output_type": "stream",
     "text": [
      "File does not exist: /home/yuncong/CSHL_patch_scores/MD661/MD662&661-F58-2017.06.06-02.35.45_MD661_1_0172_prep2_gray/detector7/MD662&661-F58-2017.06.06-02.35.45_MD661_1_0172_prep2_gray_detector7_VCP_sparseScores.bp\n",
      "Error loading sparse scores for VCP: [Errno 2] No such file or directory: '/home/yuncong/CSHL_patch_scores/MD661/MD662&661-F58-2017.06.06-02.35.45_MD661_1_0172_prep2_gray/detector7/MD662&661-F58-2017.06.06-02.35.45_MD661_1_0172_prep2_gray_detector7_VCP_sparseScores.bp'\n"
     ]
    },
    {
     "name": "stdout",
     "output_type": "stream",
     "text": [
      "rm -rf \"/home/yuncong/CSHL_patch_scores/MD661/MD662&661-F58-2017.06.06-02.35.45_MD661_1_0172_prep2_gray/detector7/MD662&661-F58-2017.06.06-02.35.45_MD661_1_0172_prep2_gray_detector7_VLL_sparseScores.bp\" && mkdir -p \"/home/yuncong/CSHL_patch_scores/MD661/MD662&661-F58-2017.06.06-02.35.45_MD661_1_0172_prep2_gray/detector7\"\n",
      "aws s3 cp \"s3://mousebrainatlas-data/CSHL_patch_scores/MD661/MD662&661-F58-2017.06.06-02.35.45_MD661_1_0172_prep2_gray/detector7/MD662&661-F58-2017.06.06-02.35.45_MD661_1_0172_prep2_gray_detector7_VLL_sparseScores.bp\" \"/home/yuncong/CSHL_patch_scores/MD661/MD662&661-F58-2017.06.06-02.35.45_MD661_1_0172_prep2_gray/detector7/MD662&661-F58-2017.06.06-02.35.45_MD661_1_0172_prep2_gray_detector7_VLL_sparseScores.bp\"\n"
     ]
    },
    {
     "name": "stderr",
     "output_type": "stream",
     "text": [
      "File does not exist: /home/yuncong/CSHL_patch_scores/MD661/MD662&661-F57-2017.06.06-02.06.22_MD661_3_0171_prep2_gray/detector7/MD662&661-F57-2017.06.06-02.06.22_MD661_3_0171_prep2_gray_detector7_VCP_sparseScores.bp\n",
      "Error loading sparse scores for VCP: [Errno 2] No such file or directory: '/home/yuncong/CSHL_patch_scores/MD661/MD662&661-F57-2017.06.06-02.06.22_MD661_3_0171_prep2_gray/detector7/MD662&661-F57-2017.06.06-02.06.22_MD661_3_0171_prep2_gray_detector7_VCP_sparseScores.bp'\n"
     ]
    },
    {
     "name": "stdout",
     "output_type": "stream",
     "text": [
      "rm -rf \"/home/yuncong/CSHL_patch_scores/MD661/MD662&661-F57-2017.06.06-02.06.22_MD661_3_0171_prep2_gray/detector7/MD662&661-F57-2017.06.06-02.06.22_MD661_3_0171_prep2_gray_detector7_VLL_sparseScores.bp\" && mkdir -p \"/home/yuncong/CSHL_patch_scores/MD661/MD662&661-F57-2017.06.06-02.06.22_MD661_3_0171_prep2_gray/detector7\"\n",
      "aws s3 cp \"s3://mousebrainatlas-data/CSHL_patch_scores/MD661/MD662&661-F57-2017.06.06-02.06.22_MD661_3_0171_prep2_gray/detector7/MD662&661-F57-2017.06.06-02.06.22_MD661_3_0171_prep2_gray_detector7_VLL_sparseScores.bp\" \"/home/yuncong/CSHL_patch_scores/MD661/MD662&661-F57-2017.06.06-02.06.22_MD661_3_0171_prep2_gray/detector7/MD662&661-F57-2017.06.06-02.06.22_MD661_3_0171_prep2_gray_detector7_VLL_sparseScores.bp\"\n"
     ]
    },
    {
     "name": "stderr",
     "output_type": "stream",
     "text": [
      "File does not exist: /home/yuncong/CSHL_patch_scores/MD661/MD662&661-F58-2017.06.06-02.35.45_MD661_2_0173_prep2_gray/detector7/MD662&661-F58-2017.06.06-02.35.45_MD661_2_0173_prep2_gray_detector7_VCP_sparseScores.bp\n",
      "Error loading sparse scores for VCP: [Errno 2] No such file or directory: '/home/yuncong/CSHL_patch_scores/MD661/MD662&661-F58-2017.06.06-02.35.45_MD661_2_0173_prep2_gray/detector7/MD662&661-F58-2017.06.06-02.35.45_MD661_2_0173_prep2_gray_detector7_VCP_sparseScores.bp'\n"
     ]
    },
    {
     "name": "stdout",
     "output_type": "stream",
     "text": [
      "rm -rf \"/home/yuncong/CSHL_patch_scores/MD661/MD662&661-F58-2017.06.06-02.35.45_MD661_2_0173_prep2_gray/detector7/MD662&661-F58-2017.06.06-02.35.45_MD661_2_0173_prep2_gray_detector7_VLL_sparseScores.bp\" && mkdir -p \"/home/yuncong/CSHL_patch_scores/MD661/MD662&661-F58-2017.06.06-02.35.45_MD661_2_0173_prep2_gray/detector7\"\n",
      "aws s3 cp \"s3://mousebrainatlas-data/CSHL_patch_scores/MD661/MD662&661-F58-2017.06.06-02.35.45_MD661_2_0173_prep2_gray/detector7/MD662&661-F58-2017.06.06-02.35.45_MD661_2_0173_prep2_gray_detector7_VLL_sparseScores.bp\" \"/home/yuncong/CSHL_patch_scores/MD661/MD662&661-F58-2017.06.06-02.35.45_MD661_2_0173_prep2_gray/detector7/MD662&661-F58-2017.06.06-02.35.45_MD661_2_0173_prep2_gray_detector7_VLL_sparseScores.bp\"\n"
     ]
    },
    {
     "name": "stderr",
     "output_type": "stream",
     "text": [
      "File does not exist: /home/yuncong/CSHL_patch_scores/MD661/MD662&661-F58-2017.06.06-02.35.45_MD661_1_0172_prep2_gray/detector7/MD662&661-F58-2017.06.06-02.35.45_MD661_1_0172_prep2_gray_detector7_VLL_sparseScores.bp\n",
      "Error loading sparse scores for VLL: [Errno 2] No such file or directory: '/home/yuncong/CSHL_patch_scores/MD661/MD662&661-F58-2017.06.06-02.35.45_MD661_1_0172_prep2_gray/detector7/MD662&661-F58-2017.06.06-02.35.45_MD661_1_0172_prep2_gray_detector7_VLL_sparseScores.bp'\n",
      "File does not exist: /home/yuncong/CSHL_patch_scores/MD661/MD662&661-F57-2017.06.06-02.06.22_MD661_3_0171_prep2_gray/detector7/MD662&661-F57-2017.06.06-02.06.22_MD661_3_0171_prep2_gray_detector7_VLL_sparseScores.bp\n",
      "Error loading sparse scores for VLL: [Errno 2] No such file or directory: '/home/yuncong/CSHL_patch_scores/MD661/MD662&661-F57-2017.06.06-02.06.22_MD661_3_0171_prep2_gray/detector7/MD662&661-F57-2017.06.06-02.06.22_MD661_3_0171_prep2_gray_detector7_VLL_sparseScores.bp'\n",
      "File does not exist: /home/yuncong/CSHL_patch_scores/MD661/MD662&661-F58-2017.06.06-02.35.45_MD661_2_0173_prep2_gray/detector7/MD662&661-F58-2017.06.06-02.35.45_MD661_2_0173_prep2_gray_detector7_VLL_sparseScores.bp\n",
      "Error loading sparse scores for VLL: [Errno 2] No such file or directory: '/home/yuncong/CSHL_patch_scores/MD661/MD662&661-F58-2017.06.06-02.35.45_MD661_2_0173_prep2_gray/detector7/MD662&661-F58-2017.06.06-02.35.45_MD661_2_0173_prep2_gray_detector7_VLL_sparseScores.bp'\n",
      "Resample: 19.46 seconds\n",
      "/usr/local/lib/python2.7/dist-packages/ipykernel_launcher.py:157: DeprecationWarning: BaseException.message has been deprecated as of Python 2.6\n",
      "/usr/local/lib/python2.7/dist-packages/ipykernel_launcher.py:157: DeprecationWarning: BaseException.message has been deprecated as of Python 2.6\n",
      "/usr/local/lib/python2.7/dist-packages/ipykernel_launcher.py:157: DeprecationWarning: BaseException.message has been deprecated as of Python 2.6\n",
      "/usr/local/lib/python2.7/dist-packages/ipykernel_launcher.py:157: DeprecationWarning: BaseException.message has been deprecated as of Python 2.6\n",
      "/usr/local/lib/python2.7/dist-packages/ipykernel_launcher.py:157: DeprecationWarning: BaseException.message has been deprecated as of Python 2.6\n",
      "'str' object has no attribute 'shape'\n",
      "'str' object has no attribute 'shape'\n",
      "'str' object has no attribute 'shape'\n",
      "/usr/local/lib/python2.7/dist-packages/ipykernel_launcher.py:157: DeprecationWarning: BaseException.message has been deprecated as of Python 2.6\n",
      "'str' object has no attribute 'shape'\n",
      "/usr/local/lib/python2.7/dist-packages/ipykernel_launcher.py:157: DeprecationWarning: BaseException.message has been deprecated as of Python 2.6\n",
      "'str' object has no attribute 'shape'\n",
      "'str' object has no attribute 'shape'\n",
      "/usr/local/lib/python2.7/dist-packages/ipykernel_launcher.py:157: DeprecationWarning: BaseException.message has been deprecated as of Python 2.6\n",
      "/usr/local/lib/python2.7/dist-packages/ipykernel_launcher.py:157: DeprecationWarning: BaseException.message has been deprecated as of Python 2.6\n",
      "'str' object has no attribute 'shape'\n",
      "/usr/local/lib/python2.7/dist-packages/ipykernel_launcher.py:157: DeprecationWarning: BaseException.message has been deprecated as of Python 2.6\n",
      "'str' object has no attribute 'shape'\n",
      "/usr/local/lib/python2.7/dist-packages/ipykernel_launcher.py:157: DeprecationWarning: BaseException.message has been deprecated as of Python 2.6\n",
      "'str' object has no attribute 'shape'\n",
      "'str' object has no attribute 'shape'\n",
      "/usr/local/lib/python2.7/dist-packages/ipykernel_launcher.py:157: DeprecationWarning: BaseException.message has been deprecated as of Python 2.6\n",
      "/usr/local/lib/python2.7/dist-packages/ipykernel_launcher.py:157: DeprecationWarning: BaseException.message has been deprecated as of Python 2.6\n",
      "'str' object has no attribute 'shape'\n",
      "'str' object has no attribute 'shape'\n",
      "'str' object has no attribute 'shape'\n",
      "/usr/local/lib/python2.7/dist-packages/ipykernel_launcher.py:157: DeprecationWarning: BaseException.message has been deprecated as of Python 2.6\n",
      "/usr/local/lib/python2.7/dist-packages/ipykernel_launcher.py:157: DeprecationWarning: BaseException.message has been deprecated as of Python 2.6\n",
      "'str' object has no attribute 'shape'\n",
      "/usr/local/lib/python2.7/dist-packages/ipykernel_launcher.py:157: DeprecationWarning: BaseException.message has been deprecated as of Python 2.6\n",
      "'str' object has no attribute 'shape'\n",
      "/usr/local/lib/python2.7/dist-packages/ipykernel_launcher.py:157: DeprecationWarning: BaseException.message has been deprecated as of Python 2.6\n",
      "'str' object has no attribute 'shape'\n",
      "/usr/local/lib/python2.7/dist-packages/ipykernel_launcher.py:157: DeprecationWarning: BaseException.message has been deprecated as of Python 2.6\n",
      "'str' object has no attribute 'shape'\n",
      "'str' object has no attribute 'shape'\n",
      "/usr/local/lib/python2.7/dist-packages/ipykernel_launcher.py:157: DeprecationWarning: BaseException.message has been deprecated as of Python 2.6\n",
      "/usr/local/lib/python2.7/dist-packages/ipykernel_launcher.py:157: DeprecationWarning: BaseException.message has been deprecated as of Python 2.6\n",
      "'str' object has no attribute 'shape'\n",
      "'str' object has no attribute 'shape'\n",
      "/usr/local/lib/python2.7/dist-packages/ipykernel_launcher.py:157: DeprecationWarning: BaseException.message has been deprecated as of Python 2.6\n",
      "/usr/local/lib/python2.7/dist-packages/ipykernel_launcher.py:157: DeprecationWarning: BaseException.message has been deprecated as of Python 2.6\n",
      "/usr/local/lib/python2.7/dist-packages/ipykernel_launcher.py:157: DeprecationWarning: BaseException.message has been deprecated as of Python 2.6\n",
      "'str' object has no attribute 'shape'\n",
      "'str' object has no attribute 'shape'\n",
      "'str' object has no attribute 'shape'\n",
      "/usr/local/lib/python2.7/dist-packages/ipykernel_launcher.py:157: DeprecationWarning: BaseException.message has been deprecated as of Python 2.6\n",
      "'str' object has no attribute 'shape'\n",
      "'str' object has no attribute 'shape'\n",
      "'str' object has no attribute 'shape'\n",
      "'str' object has no attribute 'shape'\n",
      "'str' object has no attribute 'shape'\n",
      "'str' object has no attribute 'shape'\n",
      "'str' object has no attribute 'shape'\n",
      "Visualize scoremaps: 0.28 seconds.\n",
      "/usr/local/lib/python2.7/dist-packages/ipykernel_launcher.py:157: DeprecationWarning: BaseException.message has been deprecated as of Python 2.6\n",
      "/usr/local/lib/python2.7/dist-packages/ipykernel_launcher.py:157: DeprecationWarning: BaseException.message has been deprecated as of Python 2.6\n",
      "/usr/local/lib/python2.7/dist-packages/ipykernel_launcher.py:157: DeprecationWarning: BaseException.message has been deprecated as of Python 2.6\n",
      "/usr/local/lib/python2.7/dist-packages/ipykernel_launcher.py:157: DeprecationWarning: BaseException.message has been deprecated as of Python 2.6\n",
      "'str' object has no attribute 'shape'\n",
      "'str' object has no attribute 'shape'\n",
      "/usr/local/lib/python2.7/dist-packages/ipykernel_launcher.py:157: DeprecationWarning: BaseException.message has been deprecated as of Python 2.6\n",
      "'str' object has no attribute 'shape'\n",
      "'str' object has no attribute 'shape'\n",
      "/usr/local/lib/python2.7/dist-packages/ipykernel_launcher.py:157: DeprecationWarning: BaseException.message has been deprecated as of Python 2.6\n",
      "'str' object has no attribute 'shape'\n",
      "/usr/local/lib/python2.7/dist-packages/ipykernel_launcher.py:157: DeprecationWarning: BaseException.message has been deprecated as of Python 2.6\n",
      "/usr/local/lib/python2.7/dist-packages/ipykernel_launcher.py:157: DeprecationWarning: BaseException.message has been deprecated as of Python 2.6\n",
      "'str' object has no attribute 'shape'\n",
      "'str' object has no attribute 'shape'\n",
      "'str' object has no attribute 'shape'\n",
      "'str' object has no attribute 'shape'\n",
      "/usr/local/lib/python2.7/dist-packages/ipykernel_launcher.py:157: DeprecationWarning: BaseException.message has been deprecated as of Python 2.6\n",
      "'str' object has no attribute 'shape'\n",
      "/usr/local/lib/python2.7/dist-packages/ipykernel_launcher.py:157: DeprecationWarning: BaseException.message has been deprecated as of Python 2.6\n",
      "/usr/local/lib/python2.7/dist-packages/ipykernel_launcher.py:157: DeprecationWarning: BaseException.message has been deprecated as of Python 2.6\n",
      "/usr/local/lib/python2.7/dist-packages/ipykernel_launcher.py:157: DeprecationWarning: BaseException.message has been deprecated as of Python 2.6\n"
     ]
    },
    {
     "name": "stderr",
     "output_type": "stream",
     "text": [
      "'str' object has no attribute 'shape'\n",
      "'str' object has no attribute 'shape'\n",
      "/usr/local/lib/python2.7/dist-packages/ipykernel_launcher.py:157: DeprecationWarning: BaseException.message has been deprecated as of Python 2.6\n",
      "'str' object has no attribute 'shape'\n",
      "'str' object has no attribute 'shape'\n",
      "/usr/local/lib/python2.7/dist-packages/ipykernel_launcher.py:157: DeprecationWarning: BaseException.message has been deprecated as of Python 2.6\n",
      "/usr/local/lib/python2.7/dist-packages/ipykernel_launcher.py:157: DeprecationWarning: BaseException.message has been deprecated as of Python 2.6\n",
      "'str' object has no attribute 'shape'\n",
      "'str' object has no attribute 'shape'\n",
      "/usr/local/lib/python2.7/dist-packages/ipykernel_launcher.py:157: DeprecationWarning: BaseException.message has been deprecated as of Python 2.6\n",
      "/usr/local/lib/python2.7/dist-packages/ipykernel_launcher.py:157: DeprecationWarning: BaseException.message has been deprecated as of Python 2.6\n",
      "'str' object has no attribute 'shape'\n",
      "'str' object has no attribute 'shape'\n",
      "/usr/local/lib/python2.7/dist-packages/ipykernel_launcher.py:157: DeprecationWarning: BaseException.message has been deprecated as of Python 2.6\n",
      "/usr/local/lib/python2.7/dist-packages/ipykernel_launcher.py:157: DeprecationWarning: BaseException.message has been deprecated as of Python 2.6\n",
      "'str' object has no attribute 'shape'\n",
      "'str' object has no attribute 'shape'\n",
      "'str' object has no attribute 'shape'\n",
      "/usr/local/lib/python2.7/dist-packages/ipykernel_launcher.py:157: DeprecationWarning: BaseException.message has been deprecated as of Python 2.6\n",
      "/usr/local/lib/python2.7/dist-packages/ipykernel_launcher.py:157: DeprecationWarning: BaseException.message has been deprecated as of Python 2.6\n",
      "'str' object has no attribute 'shape'\n",
      "'str' object has no attribute 'shape'\n",
      "'str' object has no attribute 'shape'\n",
      "'str' object has no attribute 'shape'\n",
      "/usr/local/lib/python2.7/dist-packages/ipykernel_launcher.py:157: DeprecationWarning: BaseException.message has been deprecated as of Python 2.6\n",
      "'str' object has no attribute 'shape'\n",
      "'str' object has no attribute 'shape'\n",
      "'str' object has no attribute 'shape'\n",
      "'str' object has no attribute 'shape'\n",
      "/usr/local/lib/python2.7/dist-packages/ipykernel_launcher.py:157: DeprecationWarning: BaseException.message has been deprecated as of Python 2.6\n",
      "'str' object has no attribute 'shape'\n",
      "Visualize scoremaps: 0.27 seconds.\n",
      "/usr/local/lib/python2.7/dist-packages/ipykernel_launcher.py:157: DeprecationWarning: BaseException.message has been deprecated as of Python 2.6\n",
      "'str' object has no attribute 'shape'\n",
      "/usr/local/lib/python2.7/dist-packages/ipykernel_launcher.py:157: DeprecationWarning: BaseException.message has been deprecated as of Python 2.6\n",
      "/usr/local/lib/python2.7/dist-packages/ipykernel_launcher.py:157: DeprecationWarning: BaseException.message has been deprecated as of Python 2.6\n",
      "/usr/local/lib/python2.7/dist-packages/ipykernel_launcher.py:157: DeprecationWarning: BaseException.message has been deprecated as of Python 2.6\n",
      "'str' object has no attribute 'shape'\n",
      "'str' object has no attribute 'shape'\n",
      "/usr/local/lib/python2.7/dist-packages/ipykernel_launcher.py:157: DeprecationWarning: BaseException.message has been deprecated as of Python 2.6\n",
      "'str' object has no attribute 'shape'\n",
      "/usr/local/lib/python2.7/dist-packages/ipykernel_launcher.py:157: DeprecationWarning: BaseException.message has been deprecated as of Python 2.6\n",
      "/usr/local/lib/python2.7/dist-packages/ipykernel_launcher.py:157: DeprecationWarning: BaseException.message has been deprecated as of Python 2.6\n",
      "'str' object has no attribute 'shape'\n",
      "'str' object has no attribute 'shape'\n",
      "'str' object has no attribute 'shape'\n",
      "/usr/local/lib/python2.7/dist-packages/ipykernel_launcher.py:157: DeprecationWarning: BaseException.message has been deprecated as of Python 2.6\n",
      "'str' object has no attribute 'shape'\n",
      "/usr/local/lib/python2.7/dist-packages/ipykernel_launcher.py:157: DeprecationWarning: BaseException.message has been deprecated as of Python 2.6\n",
      "'str' object has no attribute 'shape'\n",
      "/usr/local/lib/python2.7/dist-packages/ipykernel_launcher.py:157: DeprecationWarning: BaseException.message has been deprecated as of Python 2.6\n",
      "/usr/local/lib/python2.7/dist-packages/ipykernel_launcher.py:157: DeprecationWarning: BaseException.message has been deprecated as of Python 2.6\n",
      "'str' object has no attribute 'shape'\n",
      "'str' object has no attribute 'shape'\n",
      "/usr/local/lib/python2.7/dist-packages/ipykernel_launcher.py:157: DeprecationWarning: BaseException.message has been deprecated as of Python 2.6\n",
      "/usr/local/lib/python2.7/dist-packages/ipykernel_launcher.py:157: DeprecationWarning: BaseException.message has been deprecated as of Python 2.6\n",
      "'str' object has no attribute 'shape'\n",
      "/usr/local/lib/python2.7/dist-packages/ipykernel_launcher.py:157: DeprecationWarning: BaseException.message has been deprecated as of Python 2.6\n",
      "'str' object has no attribute 'shape'\n",
      "/usr/local/lib/python2.7/dist-packages/ipykernel_launcher.py:157: DeprecationWarning: BaseException.message has been deprecated as of Python 2.6\n",
      "'str' object has no attribute 'shape'\n",
      "/usr/local/lib/python2.7/dist-packages/ipykernel_launcher.py:157: DeprecationWarning: BaseException.message has been deprecated as of Python 2.6\n",
      "/usr/local/lib/python2.7/dist-packages/ipykernel_launcher.py:157: DeprecationWarning: BaseException.message has been deprecated as of Python 2.6\n",
      "'str' object has no attribute 'shape'\n",
      "/usr/local/lib/python2.7/dist-packages/ipykernel_launcher.py:157: DeprecationWarning: BaseException.message has been deprecated as of Python 2.6\n",
      "'str' object has no attribute 'shape'\n",
      "'str' object has no attribute 'shape'\n",
      "'str' object has no attribute 'shape'\n",
      "/usr/local/lib/python2.7/dist-packages/ipykernel_launcher.py:157: DeprecationWarning: BaseException.message has been deprecated as of Python 2.6\n",
      "/usr/local/lib/python2.7/dist-packages/ipykernel_launcher.py:157: DeprecationWarning: BaseException.message has been deprecated as of Python 2.6\n",
      "'str' object has no attribute 'shape'\n",
      "/usr/local/lib/python2.7/dist-packages/ipykernel_launcher.py:157: DeprecationWarning: BaseException.message has been deprecated as of Python 2.6\n",
      "'str' object has no attribute 'shape'\n",
      "/usr/local/lib/python2.7/dist-packages/ipykernel_launcher.py:157: DeprecationWarning: BaseException.message has been deprecated as of Python 2.6\n",
      "'str' object has no attribute 'shape'\n",
      "'str' object has no attribute 'shape'\n",
      "'str' object has no attribute 'shape'\n",
      "/usr/local/lib/python2.7/dist-packages/ipykernel_launcher.py:157: DeprecationWarning: BaseException.message has been deprecated as of Python 2.6\n",
      "/usr/local/lib/python2.7/dist-packages/ipykernel_launcher.py:157: DeprecationWarning: BaseException.message has been deprecated as of Python 2.6\n",
      "'str' object has no attribute 'shape'\n",
      "'str' object has no attribute 'shape'\n",
      "'str' object has no attribute 'shape'\n",
      "'str' object has no attribute 'shape'\n",
      "'str' object has no attribute 'shape'\n",
      "'str' object has no attribute 'shape'\n",
      "'str' object has no attribute 'shape'\n",
      "Visualize scoremaps: 0.29 seconds.\n"
     ]
    },
    {
     "name": "stdout",
     "output_type": "stream",
     "text": [
      "rm -rf \"/home/yuncong/CSHL_classifiers/setting_38/classifiers/sp5_clf_setting_38.dump\" && mkdir -p \"/home/yuncong/CSHL_classifiers/setting_38/classifiers\"\n",
      "aws s3 cp \"s3://mousebrainatlas-data/CSHL_classifiers/setting_38/classifiers/sp5_clf_setting_38.dump\" \"/home/yuncong/CSHL_classifiers/setting_38/classifiers/sp5_clf_setting_38.dump\"\n"
     ]
    },
    {
     "name": "stderr",
     "output_type": "stream",
     "text": [
      "Setting 38: No classifier found for sp5.\n"
     ]
    },
    {
     "name": "stdout",
     "output_type": "stream",
     "text": [
      "rm -rf \"/home/yuncong/CSHL_classifiers/setting_38/classifiers/outerContour_clf_setting_38.dump\" && mkdir -p \"/home/yuncong/CSHL_classifiers/setting_38/classifiers\"\n",
      "aws s3 cp \"s3://mousebrainatlas-data/CSHL_classifiers/setting_38/classifiers/outerContour_clf_setting_38.dump\" \"/home/yuncong/CSHL_classifiers/setting_38/classifiers/outerContour_clf_setting_38.dump\"\n"
     ]
    },
    {
     "name": "stderr",
     "output_type": "stream",
     "text": [
      "Setting 38: No classifier found for outerContour.\n"
     ]
    },
    {
     "name": "stdout",
     "output_type": "stream",
     "text": [
      "rm -rf \"/home/yuncong/media/yuncong/BstemAtlasData/CSHL_patch_features/inception-bn-blue/MD661/MD661_prep2_grayL700H0_win1/MD662&661-F58-2017.06.06-02.35.45_MD661_1_0172_prep2_grayL700H0_win1_inception-bn-blue_features.bp\" && mkdir -p \"/home/yuncong/media/yuncong/BstemAtlasData/CSHL_patch_features/inception-bn-blue/MD661/MD661_prep2_grayL700H0_win1\"\n",
      "rm -rf \"/home/yuncong/media/yuncong/BstemAtlasData/CSHL_patch_features/inception-bn-blue/MD661/MD661_prep2_grayL700H0_win1/MD662&661-F57-2017.06.06-02.06.22_MD661_3_0171_prep2_grayL700H0_win1_inception-bn-blue_features.bp\" && mkdir -p \"/home/yuncong/media/yuncong/BstemAtlasData/CSHL_patch_features/inception-bn-blue/MD661/MD661_prep2_grayL700H0_win1\"\n",
      "rm -rf \"/home/yuncong/media/yuncong/BstemAtlasData/CSHL_patch_features/inception-bn-blue/MD661/MD661_prep2_grayL700H0_win1/MD662&661-F58-2017.06.06-02.35.45_MD661_2_0173_prep2_grayL700H0_win1_inception-bn-blue_features.bp\" && mkdir -p \"/home/yuncong/media/yuncong/BstemAtlasData/CSHL_patch_features/inception-bn-blue/MD661/MD661_prep2_grayL700H0_win1\"\n",
      "aws s3 cp \"s3://mousebrainatlas-data/media/yuncong/BstemAtlasData/CSHL_patch_features/inception-bn-blue/MD661/MD661_prep2_grayL700H0_win1/MD662&661-F57-2017.06.06-02.06.22_MD661_3_0171_prep2_grayL700H0_win1_inception-bn-blue_features.bp\" \"/home/yuncong/media/yuncong/BstemAtlasData/CSHL_patch_features/inception-bn-blue/MD661/MD661_prep2_grayL700H0_win1/MD662&661-F57-2017.06.06-02.06.22_MD661_3_0171_prep2_grayL700H0_win1_inception-bn-blue_features.bp\"\n",
      "aws s3 cp \"s3://mousebrainatlas-data/media/yuncong/BstemAtlasData/CSHL_patch_features/inception-bn-blue/MD661/MD661_prep2_grayL700H0_win1/MD662&661-F58-2017.06.06-02.35.45_MD661_2_0173_prep2_grayL700H0_win1_inception-bn-blue_features.bp\" \"/home/yuncong/media/yuncong/BstemAtlasData/CSHL_patch_features/inception-bn-blue/MD661/MD661_prep2_grayL700H0_win1/MD662&661-F58-2017.06.06-02.35.45_MD661_2_0173_prep2_grayL700H0_win1_inception-bn-blue_features.bp\"\n",
      "aws s3 cp \"s3://mousebrainatlas-data/media/yuncong/BstemAtlasData/CSHL_patch_features/inception-bn-blue/MD661/MD661_prep2_grayL700H0_win1/MD662&661-F58-2017.06.06-02.35.45_MD661_1_0172_prep2_grayL700H0_win1_inception-bn-blue_features.bp\" \"/home/yuncong/media/yuncong/BstemAtlasData/CSHL_patch_features/inception-bn-blue/MD661/MD661_prep2_grayL700H0_win1/MD662&661-F58-2017.06.06-02.35.45_MD661_1_0172_prep2_grayL700H0_win1_inception-bn-blue_features.bp\"\n"
     ]
    },
    {
     "name": "stderr",
     "output_type": "stream",
     "text": [
      "/usr/local/lib/python2.7/dist-packages/ipykernel_launcher.py:34: DeprecationWarning: BaseException.message has been deprecated as of Python 2.6\n",
      "\n",
      "/usr/local/lib/python2.7/dist-packages/ipykernel_launcher.py:34: DeprecationWarning: BaseException.message has been deprecated as of Python 2.6\n",
      "\n",
      "/usr/local/lib/python2.7/dist-packages/ipykernel_launcher.py:34: DeprecationWarning: BaseException.message has been deprecated as of Python 2.6\n",
      "\n",
      "Classifier predict: 0.80\n"
     ]
    },
    {
     "name": "stdout",
     "output_type": "stream",
     "text": [
      "rm -rf \"/home/yuncong/CSHL_patch_scores/MD661/MD662&661-F57-2017.06.06-02.06.22_MD661_3_0171_prep2_gray/detector8/MD662&661-F57-2017.06.06-02.06.22_MD661_3_0171_prep2_gray_detector8_10N_sparseScores.bp\" && mkdir -p \"/home/yuncong/CSHL_patch_scores/MD661/MD662&661-F57-2017.06.06-02.06.22_MD661_3_0171_prep2_gray/detector8\"\n",
      "rm -rf \"/home/yuncong/CSHL_patch_scores/MD661/MD662&661-F58-2017.06.06-02.35.45_MD661_2_0173_prep2_gray/detector8/MD662&661-F58-2017.06.06-02.35.45_MD661_2_0173_prep2_gray_detector8_10N_sparseScores.bp\" && mkdir -p \"/home/yuncong/CSHL_patch_scores/MD661/MD662&661-F58-2017.06.06-02.35.45_MD661_2_0173_prep2_gray/detector8\"\n",
      "aws s3 cp \"s3://mousebrainatlas-data/CSHL_patch_scores/MD661/MD662&661-F57-2017.06.06-02.06.22_MD661_3_0171_prep2_gray/detector8/MD662&661-F57-2017.06.06-02.06.22_MD661_3_0171_prep2_gray_detector8_10N_sparseScores.bp\" \"/home/yuncong/CSHL_patch_scores/MD661/MD662&661-F57-2017.06.06-02.06.22_MD661_3_0171_prep2_gray/detector8/MD662&661-F57-2017.06.06-02.06.22_MD661_3_0171_prep2_gray_detector8_10N_sparseScores.bp\"\n",
      "rm -rf \"/home/yuncong/CSHL_patch_scores/MD661/MD662&661-F58-2017.06.06-02.35.45_MD661_1_0172_prep2_gray/detector8/MD662&661-F58-2017.06.06-02.35.45_MD661_1_0172_prep2_gray_detector8_10N_sparseScores.bp\" && mkdir -p \"/home/yuncong/CSHL_patch_scores/MD661/MD662&661-F58-2017.06.06-02.35.45_MD661_1_0172_prep2_gray/detector8\"\n",
      "aws s3 cp \"s3://mousebrainatlas-data/CSHL_patch_scores/MD661/MD662&661-F58-2017.06.06-02.35.45_MD661_2_0173_prep2_gray/detector8/MD662&661-F58-2017.06.06-02.35.45_MD661_2_0173_prep2_gray_detector8_10N_sparseScores.bp\" \"/home/yuncong/CSHL_patch_scores/MD661/MD662&661-F58-2017.06.06-02.35.45_MD661_2_0173_prep2_gray/detector8/MD662&661-F58-2017.06.06-02.35.45_MD661_2_0173_prep2_gray_detector8_10N_sparseScores.bp\"\n",
      "aws s3 cp \"s3://mousebrainatlas-data/CSHL_patch_scores/MD661/MD662&661-F58-2017.06.06-02.35.45_MD661_1_0172_prep2_gray/detector8/MD662&661-F58-2017.06.06-02.35.45_MD661_1_0172_prep2_gray_detector8_10N_sparseScores.bp\" \"/home/yuncong/CSHL_patch_scores/MD661/MD662&661-F58-2017.06.06-02.35.45_MD661_1_0172_prep2_gray/detector8/MD662&661-F58-2017.06.06-02.35.45_MD661_1_0172_prep2_gray_detector8_10N_sparseScores.bp\"\n"
     ]
    },
    {
     "name": "stderr",
     "output_type": "stream",
     "text": [
      "File does not exist: /home/yuncong/CSHL_patch_scores/MD661/MD662&661-F57-2017.06.06-02.06.22_MD661_3_0171_prep2_gray/detector8/MD662&661-F57-2017.06.06-02.06.22_MD661_3_0171_prep2_gray_detector8_10N_sparseScores.bp\n",
      "Error loading sparse scores for 10N: [Errno 2] No such file or directory: '/home/yuncong/CSHL_patch_scores/MD661/MD662&661-F57-2017.06.06-02.06.22_MD661_3_0171_prep2_gray/detector8/MD662&661-F57-2017.06.06-02.06.22_MD661_3_0171_prep2_gray_detector8_10N_sparseScores.bp'\n"
     ]
    },
    {
     "name": "stdout",
     "output_type": "stream",
     "text": [
      "rm -rf \"/home/yuncong/CSHL_patch_scores/MD661/MD662&661-F57-2017.06.06-02.06.22_MD661_3_0171_prep2_gray/detector8/MD662&661-F57-2017.06.06-02.06.22_MD661_3_0171_prep2_gray_detector8_12N_sparseScores.bp\" && mkdir -p \"/home/yuncong/CSHL_patch_scores/MD661/MD662&661-F57-2017.06.06-02.06.22_MD661_3_0171_prep2_gray/detector8\"\n"
     ]
    },
    {
     "name": "stderr",
     "output_type": "stream",
     "text": [
      "File does not exist: /home/yuncong/CSHL_patch_scores/MD661/MD662&661-F58-2017.06.06-02.35.45_MD661_2_0173_prep2_gray/detector8/MD662&661-F58-2017.06.06-02.35.45_MD661_2_0173_prep2_gray_detector8_10N_sparseScores.bp\n",
      "Error loading sparse scores for 10N: [Errno 2] No such file or directory: '/home/yuncong/CSHL_patch_scores/MD661/MD662&661-F58-2017.06.06-02.35.45_MD661_2_0173_prep2_gray/detector8/MD662&661-F58-2017.06.06-02.35.45_MD661_2_0173_prep2_gray_detector8_10N_sparseScores.bp'\n"
     ]
    },
    {
     "name": "stdout",
     "output_type": "stream",
     "text": [
      "rm -rf \"/home/yuncong/CSHL_patch_scores/MD661/MD662&661-F58-2017.06.06-02.35.45_MD661_2_0173_prep2_gray/detector8/MD662&661-F58-2017.06.06-02.35.45_MD661_2_0173_prep2_gray_detector8_12N_sparseScores.bp\" && mkdir -p \"/home/yuncong/CSHL_patch_scores/MD661/MD662&661-F58-2017.06.06-02.35.45_MD661_2_0173_prep2_gray/detector8\"\n"
     ]
    },
    {
     "name": "stderr",
     "output_type": "stream",
     "text": [
      "File does not exist: /home/yuncong/CSHL_patch_scores/MD661/MD662&661-F58-2017.06.06-02.35.45_MD661_1_0172_prep2_gray/detector8/MD662&661-F58-2017.06.06-02.35.45_MD661_1_0172_prep2_gray_detector8_10N_sparseScores.bp\n"
     ]
    },
    {
     "name": "stdout",
     "output_type": "stream",
     "text": [
      "aws s3 cp \"s3://mousebrainatlas-data/CSHL_patch_scores/MD661/MD662&661-F57-2017.06.06-02.06.22_MD661_3_0171_prep2_gray/detector8/MD662&661-F57-2017.06.06-02.06.22_MD661_3_0171_prep2_gray_detector8_12N_sparseScores.bp\" \"/home/yuncong/CSHL_patch_scores/MD661/MD662&661-F57-2017.06.06-02.06.22_MD661_3_0171_prep2_gray/detector8/MD662&661-F57-2017.06.06-02.06.22_MD661_3_0171_prep2_gray_detector8_12N_sparseScores.bp\"\n"
     ]
    },
    {
     "name": "stderr",
     "output_type": "stream",
     "text": [
      "Error loading sparse scores for 10N: [Errno 2] No such file or directory: '/home/yuncong/CSHL_patch_scores/MD661/MD662&661-F58-2017.06.06-02.35.45_MD661_1_0172_prep2_gray/detector8/MD662&661-F58-2017.06.06-02.35.45_MD661_1_0172_prep2_gray_detector8_10N_sparseScores.bp'\n"
     ]
    },
    {
     "name": "stdout",
     "output_type": "stream",
     "text": [
      "rm -rf \"/home/yuncong/CSHL_patch_scores/MD661/MD662&661-F58-2017.06.06-02.35.45_MD661_1_0172_prep2_gray/detector8/MD662&661-F58-2017.06.06-02.35.45_MD661_1_0172_prep2_gray_detector8_12N_sparseScores.bp\" && mkdir -p \"/home/yuncong/CSHL_patch_scores/MD661/MD662&661-F58-2017.06.06-02.35.45_MD661_1_0172_prep2_gray/detector8\"\n",
      "aws s3 cp \"s3://mousebrainatlas-data/CSHL_patch_scores/MD661/MD662&661-F58-2017.06.06-02.35.45_MD661_2_0173_prep2_gray/detector8/MD662&661-F58-2017.06.06-02.35.45_MD661_2_0173_prep2_gray_detector8_12N_sparseScores.bp\" \"/home/yuncong/CSHL_patch_scores/MD661/MD662&661-F58-2017.06.06-02.35.45_MD661_2_0173_prep2_gray/detector8/MD662&661-F58-2017.06.06-02.35.45_MD661_2_0173_prep2_gray_detector8_12N_sparseScores.bp\"\n",
      "aws s3 cp \"s3://mousebrainatlas-data/CSHL_patch_scores/MD661/MD662&661-F58-2017.06.06-02.35.45_MD661_1_0172_prep2_gray/detector8/MD662&661-F58-2017.06.06-02.35.45_MD661_1_0172_prep2_gray_detector8_12N_sparseScores.bp\" \"/home/yuncong/CSHL_patch_scores/MD661/MD662&661-F58-2017.06.06-02.35.45_MD661_1_0172_prep2_gray/detector8/MD662&661-F58-2017.06.06-02.35.45_MD661_1_0172_prep2_gray_detector8_12N_sparseScores.bp\"\n"
     ]
    },
    {
     "name": "stderr",
     "output_type": "stream",
     "text": [
      "File does not exist: /home/yuncong/CSHL_patch_scores/MD661/MD662&661-F57-2017.06.06-02.06.22_MD661_3_0171_prep2_gray/detector8/MD662&661-F57-2017.06.06-02.06.22_MD661_3_0171_prep2_gray_detector8_12N_sparseScores.bp\n",
      "Error loading sparse scores for 12N: [Errno 2] No such file or directory: '/home/yuncong/CSHL_patch_scores/MD661/MD662&661-F57-2017.06.06-02.06.22_MD661_3_0171_prep2_gray/detector8/MD662&661-F57-2017.06.06-02.06.22_MD661_3_0171_prep2_gray_detector8_12N_sparseScores.bp'\n"
     ]
    },
    {
     "name": "stdout",
     "output_type": "stream",
     "text": [
      "rm -rf \"/home/yuncong/CSHL_patch_scores/MD661/MD662&661-F57-2017.06.06-02.06.22_MD661_3_0171_prep2_gray/detector8/MD662&661-F57-2017.06.06-02.06.22_MD661_3_0171_prep2_gray_detector8_3N_sparseScores.bp\" && mkdir -p \"/home/yuncong/CSHL_patch_scores/MD661/MD662&661-F57-2017.06.06-02.06.22_MD661_3_0171_prep2_gray/detector8\"\n",
      "aws s3 cp \"s3://mousebrainatlas-data/CSHL_patch_scores/MD661/MD662&661-F57-2017.06.06-02.06.22_MD661_3_0171_prep2_gray/detector8/MD662&661-F57-2017.06.06-02.06.22_MD661_3_0171_prep2_gray_detector8_3N_sparseScores.bp\" \"/home/yuncong/CSHL_patch_scores/MD661/MD662&661-F57-2017.06.06-02.06.22_MD661_3_0171_prep2_gray/detector8/MD662&661-F57-2017.06.06-02.06.22_MD661_3_0171_prep2_gray_detector8_3N_sparseScores.bp\"\n"
     ]
    },
    {
     "name": "stderr",
     "output_type": "stream",
     "text": [
      "File does not exist: /home/yuncong/CSHL_patch_scores/MD661/MD662&661-F58-2017.06.06-02.35.45_MD661_2_0173_prep2_gray/detector8/MD662&661-F58-2017.06.06-02.35.45_MD661_2_0173_prep2_gray_detector8_12N_sparseScores.bp\n",
      "Error loading sparse scores for 12N: [Errno 2] No such file or directory: '/home/yuncong/CSHL_patch_scores/MD661/MD662&661-F58-2017.06.06-02.35.45_MD661_2_0173_prep2_gray/detector8/MD662&661-F58-2017.06.06-02.35.45_MD661_2_0173_prep2_gray_detector8_12N_sparseScores.bp'\n",
      "File does not exist: /home/yuncong/CSHL_patch_scores/MD661/MD662&661-F58-2017.06.06-02.35.45_MD661_1_0172_prep2_gray/detector8/MD662&661-F58-2017.06.06-02.35.45_MD661_1_0172_prep2_gray_detector8_12N_sparseScores.bp\n"
     ]
    },
    {
     "name": "stdout",
     "output_type": "stream",
     "text": [
      "rm -rf \"/home/yuncong/CSHL_patch_scores/MD661/MD662&661-F58-2017.06.06-02.35.45_MD661_2_0173_prep2_gray/detector8/MD662&661-F58-2017.06.06-02.35.45_MD661_2_0173_prep2_gray_detector8_3N_sparseScores.bp\" && mkdir -p \"/home/yuncong/CSHL_patch_scores/MD661/MD662&661-F58-2017.06.06-02.35.45_MD661_2_0173_prep2_gray/detector8\"\n"
     ]
    },
    {
     "name": "stderr",
     "output_type": "stream",
     "text": [
      "Error loading sparse scores for 12N: [Errno 2] No such file or directory: '/home/yuncong/CSHL_patch_scores/MD661/MD662&661-F58-2017.06.06-02.35.45_MD661_1_0172_prep2_gray/detector8/MD662&661-F58-2017.06.06-02.35.45_MD661_1_0172_prep2_gray_detector8_12N_sparseScores.bp'\n"
     ]
    },
    {
     "name": "stdout",
     "output_type": "stream",
     "text": [
      "rm -rf \"/home/yuncong/CSHL_patch_scores/MD661/MD662&661-F58-2017.06.06-02.35.45_MD661_1_0172_prep2_gray/detector8/MD662&661-F58-2017.06.06-02.35.45_MD661_1_0172_prep2_gray_detector8_3N_sparseScores.bp\" && mkdir -p \"/home/yuncong/CSHL_patch_scores/MD661/MD662&661-F58-2017.06.06-02.35.45_MD661_1_0172_prep2_gray/detector8\"\n",
      "aws s3 cp \"s3://mousebrainatlas-data/CSHL_patch_scores/MD661/MD662&661-F58-2017.06.06-02.35.45_MD661_2_0173_prep2_gray/detector8/MD662&661-F58-2017.06.06-02.35.45_MD661_2_0173_prep2_gray_detector8_3N_sparseScores.bp\" \"/home/yuncong/CSHL_patch_scores/MD661/MD662&661-F58-2017.06.06-02.35.45_MD661_2_0173_prep2_gray/detector8/MD662&661-F58-2017.06.06-02.35.45_MD661_2_0173_prep2_gray_detector8_3N_sparseScores.bp\"\n",
      "aws s3 cp \"s3://mousebrainatlas-data/CSHL_patch_scores/MD661/MD662&661-F58-2017.06.06-02.35.45_MD661_1_0172_prep2_gray/detector8/MD662&661-F58-2017.06.06-02.35.45_MD661_1_0172_prep2_gray_detector8_3N_sparseScores.bp\" \"/home/yuncong/CSHL_patch_scores/MD661/MD662&661-F58-2017.06.06-02.35.45_MD661_1_0172_prep2_gray/detector8/MD662&661-F58-2017.06.06-02.35.45_MD661_1_0172_prep2_gray_detector8_3N_sparseScores.bp\"\n"
     ]
    },
    {
     "name": "stderr",
     "output_type": "stream",
     "text": [
      "File does not exist: /home/yuncong/CSHL_patch_scores/MD661/MD662&661-F58-2017.06.06-02.35.45_MD661_2_0173_prep2_gray/detector8/MD662&661-F58-2017.06.06-02.35.45_MD661_2_0173_prep2_gray_detector8_3N_sparseScores.bp\n",
      "Error loading sparse scores for 3N: [Errno 2] No such file or directory: '/home/yuncong/CSHL_patch_scores/MD661/MD662&661-F58-2017.06.06-02.35.45_MD661_2_0173_prep2_gray/detector8/MD662&661-F58-2017.06.06-02.35.45_MD661_2_0173_prep2_gray_detector8_3N_sparseScores.bp'\n"
     ]
    },
    {
     "name": "stdout",
     "output_type": "stream",
     "text": [
      "rm -rf \"/home/yuncong/CSHL_patch_scores/MD661/MD662&661-F58-2017.06.06-02.35.45_MD661_2_0173_prep2_gray/detector8/MD662&661-F58-2017.06.06-02.35.45_MD661_2_0173_prep2_gray_detector8_4N_sparseScores.bp\" && mkdir -p \"/home/yuncong/CSHL_patch_scores/MD661/MD662&661-F58-2017.06.06-02.35.45_MD661_2_0173_prep2_gray/detector8\"\n"
     ]
    },
    {
     "name": "stderr",
     "output_type": "stream",
     "text": [
      "File does not exist: /home/yuncong/CSHL_patch_scores/MD661/MD662&661-F57-2017.06.06-02.06.22_MD661_3_0171_prep2_gray/detector8/MD662&661-F57-2017.06.06-02.06.22_MD661_3_0171_prep2_gray_detector8_3N_sparseScores.bp\n",
      "Error loading sparse scores for 3N: [Errno 2] No such file or directory: '/home/yuncong/CSHL_patch_scores/MD661/MD662&661-F57-2017.06.06-02.06.22_MD661_3_0171_prep2_gray/detector8/MD662&661-F57-2017.06.06-02.06.22_MD661_3_0171_prep2_gray_detector8_3N_sparseScores.bp'\n"
     ]
    },
    {
     "name": "stdout",
     "output_type": "stream",
     "text": [
      "rm -rf \"/home/yuncong/CSHL_patch_scores/MD661/MD662&661-F57-2017.06.06-02.06.22_MD661_3_0171_prep2_gray/detector8/MD662&661-F57-2017.06.06-02.06.22_MD661_3_0171_prep2_gray_detector8_4N_sparseScores.bp\" && mkdir -p \"/home/yuncong/CSHL_patch_scores/MD661/MD662&661-F57-2017.06.06-02.06.22_MD661_3_0171_prep2_gray/detector8\"\n",
      "aws s3 cp \"s3://mousebrainatlas-data/CSHL_patch_scores/MD661/MD662&661-F58-2017.06.06-02.35.45_MD661_2_0173_prep2_gray/detector8/MD662&661-F58-2017.06.06-02.35.45_MD661_2_0173_prep2_gray_detector8_4N_sparseScores.bp\" \"/home/yuncong/CSHL_patch_scores/MD661/MD662&661-F58-2017.06.06-02.35.45_MD661_2_0173_prep2_gray/detector8/MD662&661-F58-2017.06.06-02.35.45_MD661_2_0173_prep2_gray_detector8_4N_sparseScores.bp\"\n"
     ]
    },
    {
     "name": "stderr",
     "output_type": "stream",
     "text": [
      "File does not exist: /home/yuncong/CSHL_patch_scores/MD661/MD662&661-F58-2017.06.06-02.35.45_MD661_1_0172_prep2_gray/detector8/MD662&661-F58-2017.06.06-02.35.45_MD661_1_0172_prep2_gray_detector8_3N_sparseScores.bp\n",
      "Error loading sparse scores for 3N: [Errno 2] No such file or directory: '/home/yuncong/CSHL_patch_scores/MD661/MD662&661-F58-2017.06.06-02.35.45_MD661_1_0172_prep2_gray/detector8/MD662&661-F58-2017.06.06-02.35.45_MD661_1_0172_prep2_gray_detector8_3N_sparseScores.bp'\n"
     ]
    },
    {
     "name": "stdout",
     "output_type": "stream",
     "text": [
      "rm -rf \"/home/yuncong/CSHL_patch_scores/MD661/MD662&661-F58-2017.06.06-02.35.45_MD661_1_0172_prep2_gray/detector8/MD662&661-F58-2017.06.06-02.35.45_MD661_1_0172_prep2_gray_detector8_4N_sparseScores.bp\" && mkdir -p \"/home/yuncong/CSHL_patch_scores/MD661/MD662&661-F58-2017.06.06-02.35.45_MD661_1_0172_prep2_gray/detector8\"\n",
      "aws s3 cp \"s3://mousebrainatlas-data/CSHL_patch_scores/MD661/MD662&661-F57-2017.06.06-02.06.22_MD661_3_0171_prep2_gray/detector8/MD662&661-F57-2017.06.06-02.06.22_MD661_3_0171_prep2_gray_detector8_4N_sparseScores.bp\" \"/home/yuncong/CSHL_patch_scores/MD661/MD662&661-F57-2017.06.06-02.06.22_MD661_3_0171_prep2_gray/detector8/MD662&661-F57-2017.06.06-02.06.22_MD661_3_0171_prep2_gray_detector8_4N_sparseScores.bp\"\n",
      "aws s3 cp \"s3://mousebrainatlas-data/CSHL_patch_scores/MD661/MD662&661-F58-2017.06.06-02.35.45_MD661_1_0172_prep2_gray/detector8/MD662&661-F58-2017.06.06-02.35.45_MD661_1_0172_prep2_gray_detector8_4N_sparseScores.bp\" \"/home/yuncong/CSHL_patch_scores/MD661/MD662&661-F58-2017.06.06-02.35.45_MD661_1_0172_prep2_gray/detector8/MD662&661-F58-2017.06.06-02.35.45_MD661_1_0172_prep2_gray_detector8_4N_sparseScores.bp\"\n"
     ]
    },
    {
     "name": "stderr",
     "output_type": "stream",
     "text": [
      "File does not exist: /home/yuncong/CSHL_patch_scores/MD661/MD662&661-F58-2017.06.06-02.35.45_MD661_2_0173_prep2_gray/detector8/MD662&661-F58-2017.06.06-02.35.45_MD661_2_0173_prep2_gray_detector8_4N_sparseScores.bp\n",
      "Error loading sparse scores for 4N: [Errno 2] No such file or directory: '/home/yuncong/CSHL_patch_scores/MD661/MD662&661-F58-2017.06.06-02.35.45_MD661_2_0173_prep2_gray/detector8/MD662&661-F58-2017.06.06-02.35.45_MD661_2_0173_prep2_gray_detector8_4N_sparseScores.bp'\n"
     ]
    },
    {
     "name": "stdout",
     "output_type": "stream",
     "text": [
      "rm -rf \"/home/yuncong/CSHL_patch_scores/MD661/MD662&661-F58-2017.06.06-02.35.45_MD661_2_0173_prep2_gray/detector8/MD662&661-F58-2017.06.06-02.35.45_MD661_2_0173_prep2_gray_detector8_5N_sparseScores.bp\" && mkdir -p \"/home/yuncong/CSHL_patch_scores/MD661/MD662&661-F58-2017.06.06-02.35.45_MD661_2_0173_prep2_gray/detector8\"\n",
      "aws s3 cp \"s3://mousebrainatlas-data/CSHL_patch_scores/MD661/MD662&661-F58-2017.06.06-02.35.45_MD661_2_0173_prep2_gray/detector8/MD662&661-F58-2017.06.06-02.35.45_MD661_2_0173_prep2_gray_detector8_5N_sparseScores.bp\" \"/home/yuncong/CSHL_patch_scores/MD661/MD662&661-F58-2017.06.06-02.35.45_MD661_2_0173_prep2_gray/detector8/MD662&661-F58-2017.06.06-02.35.45_MD661_2_0173_prep2_gray_detector8_5N_sparseScores.bp\"\n"
     ]
    },
    {
     "name": "stderr",
     "output_type": "stream",
     "text": [
      "File does not exist: /home/yuncong/CSHL_patch_scores/MD661/MD662&661-F58-2017.06.06-02.35.45_MD661_1_0172_prep2_gray/detector8/MD662&661-F58-2017.06.06-02.35.45_MD661_1_0172_prep2_gray_detector8_4N_sparseScores.bp\n",
      "Error loading sparse scores for 4N: [Errno 2] No such file or directory: '/home/yuncong/CSHL_patch_scores/MD661/MD662&661-F58-2017.06.06-02.35.45_MD661_1_0172_prep2_gray/detector8/MD662&661-F58-2017.06.06-02.35.45_MD661_1_0172_prep2_gray_detector8_4N_sparseScores.bp'\n"
     ]
    },
    {
     "name": "stdout",
     "output_type": "stream",
     "text": [
      "rm -rf \"/home/yuncong/CSHL_patch_scores/MD661/MD662&661-F58-2017.06.06-02.35.45_MD661_1_0172_prep2_gray/detector8/MD662&661-F58-2017.06.06-02.35.45_MD661_1_0172_prep2_gray_detector8_5N_sparseScores.bp\" && mkdir -p \"/home/yuncong/CSHL_patch_scores/MD661/MD662&661-F58-2017.06.06-02.35.45_MD661_1_0172_prep2_gray/detector8\"\n"
     ]
    },
    {
     "name": "stderr",
     "output_type": "stream",
     "text": [
      "File does not exist: /home/yuncong/CSHL_patch_scores/MD661/MD662&661-F57-2017.06.06-02.06.22_MD661_3_0171_prep2_gray/detector8/MD662&661-F57-2017.06.06-02.06.22_MD661_3_0171_prep2_gray_detector8_4N_sparseScores.bp\n",
      "Error loading sparse scores for 4N: [Errno 2] No such file or directory: '/home/yuncong/CSHL_patch_scores/MD661/MD662&661-F57-2017.06.06-02.06.22_MD661_3_0171_prep2_gray/detector8/MD662&661-F57-2017.06.06-02.06.22_MD661_3_0171_prep2_gray_detector8_4N_sparseScores.bp'\n"
     ]
    },
    {
     "name": "stdout",
     "output_type": "stream",
     "text": [
      "rm -rf \"/home/yuncong/CSHL_patch_scores/MD661/MD662&661-F57-2017.06.06-02.06.22_MD661_3_0171_prep2_gray/detector8/MD662&661-F57-2017.06.06-02.06.22_MD661_3_0171_prep2_gray_detector8_5N_sparseScores.bp\" && mkdir -p \"/home/yuncong/CSHL_patch_scores/MD661/MD662&661-F57-2017.06.06-02.06.22_MD661_3_0171_prep2_gray/detector8\"\n",
      "aws s3 cp \"s3://mousebrainatlas-data/CSHL_patch_scores/MD661/MD662&661-F58-2017.06.06-02.35.45_MD661_1_0172_prep2_gray/detector8/MD662&661-F58-2017.06.06-02.35.45_MD661_1_0172_prep2_gray_detector8_5N_sparseScores.bp\" \"/home/yuncong/CSHL_patch_scores/MD661/MD662&661-F58-2017.06.06-02.35.45_MD661_1_0172_prep2_gray/detector8/MD662&661-F58-2017.06.06-02.35.45_MD661_1_0172_prep2_gray_detector8_5N_sparseScores.bp\"\n",
      "aws s3 cp \"s3://mousebrainatlas-data/CSHL_patch_scores/MD661/MD662&661-F57-2017.06.06-02.06.22_MD661_3_0171_prep2_gray/detector8/MD662&661-F57-2017.06.06-02.06.22_MD661_3_0171_prep2_gray_detector8_5N_sparseScores.bp\" \"/home/yuncong/CSHL_patch_scores/MD661/MD662&661-F57-2017.06.06-02.06.22_MD661_3_0171_prep2_gray/detector8/MD662&661-F57-2017.06.06-02.06.22_MD661_3_0171_prep2_gray_detector8_5N_sparseScores.bp\"\n"
     ]
    },
    {
     "name": "stderr",
     "output_type": "stream",
     "text": [
      "File does not exist: /home/yuncong/CSHL_patch_scores/MD661/MD662&661-F58-2017.06.06-02.35.45_MD661_2_0173_prep2_gray/detector8/MD662&661-F58-2017.06.06-02.35.45_MD661_2_0173_prep2_gray_detector8_5N_sparseScores.bp\n",
      "Error loading sparse scores for 5N: [Errno 2] No such file or directory: '/home/yuncong/CSHL_patch_scores/MD661/MD662&661-F58-2017.06.06-02.35.45_MD661_2_0173_prep2_gray/detector8/MD662&661-F58-2017.06.06-02.35.45_MD661_2_0173_prep2_gray_detector8_5N_sparseScores.bp'\n"
     ]
    },
    {
     "name": "stdout",
     "output_type": "stream",
     "text": [
      "rm -rf \"/home/yuncong/CSHL_patch_scores/MD661/MD662&661-F58-2017.06.06-02.35.45_MD661_2_0173_prep2_gray/detector8/MD662&661-F58-2017.06.06-02.35.45_MD661_2_0173_prep2_gray_detector8_6N_sparseScores.bp\" && mkdir -p \"/home/yuncong/CSHL_patch_scores/MD661/MD662&661-F58-2017.06.06-02.35.45_MD661_2_0173_prep2_gray/detector8\"\n",
      "aws s3 cp \"s3://mousebrainatlas-data/CSHL_patch_scores/MD661/MD662&661-F58-2017.06.06-02.35.45_MD661_2_0173_prep2_gray/detector8/MD662&661-F58-2017.06.06-02.35.45_MD661_2_0173_prep2_gray_detector8_6N_sparseScores.bp\" \"/home/yuncong/CSHL_patch_scores/MD661/MD662&661-F58-2017.06.06-02.35.45_MD661_2_0173_prep2_gray/detector8/MD662&661-F58-2017.06.06-02.35.45_MD661_2_0173_prep2_gray_detector8_6N_sparseScores.bp\"\n"
     ]
    },
    {
     "name": "stderr",
     "output_type": "stream",
     "text": [
      "File does not exist: /home/yuncong/CSHL_patch_scores/MD661/MD662&661-F58-2017.06.06-02.35.45_MD661_1_0172_prep2_gray/detector8/MD662&661-F58-2017.06.06-02.35.45_MD661_1_0172_prep2_gray_detector8_5N_sparseScores.bp\n",
      "Error loading sparse scores for 5N: [Errno 2] No such file or directory: '/home/yuncong/CSHL_patch_scores/MD661/MD662&661-F58-2017.06.06-02.35.45_MD661_1_0172_prep2_gray/detector8/MD662&661-F58-2017.06.06-02.35.45_MD661_1_0172_prep2_gray_detector8_5N_sparseScores.bp'\n",
      "File does not exist: /home/yuncong/CSHL_patch_scores/MD661/MD662&661-F57-2017.06.06-02.06.22_MD661_3_0171_prep2_gray/detector8/MD662&661-F57-2017.06.06-02.06.22_MD661_3_0171_prep2_gray_detector8_5N_sparseScores.bp\n",
      "Error loading sparse scores for 5N: [Errno 2] No such file or directory: '/home/yuncong/CSHL_patch_scores/MD661/MD662&661-F57-2017.06.06-02.06.22_MD661_3_0171_prep2_gray/detector8/MD662&661-F57-2017.06.06-02.06.22_MD661_3_0171_prep2_gray_detector8_5N_sparseScores.bp'\n"
     ]
    },
    {
     "name": "stdout",
     "output_type": "stream",
     "text": [
      "rm -rf \"/home/yuncong/CSHL_patch_scores/MD661/MD662&661-F58-2017.06.06-02.35.45_MD661_1_0172_prep2_gray/detector8/MD662&661-F58-2017.06.06-02.35.45_MD661_1_0172_prep2_gray_detector8_6N_sparseScores.bp\" && mkdir -p \"/home/yuncong/CSHL_patch_scores/MD661/MD662&661-F58-2017.06.06-02.35.45_MD661_1_0172_prep2_gray/detector8\"\n",
      "rm -rf \"/home/yuncong/CSHL_patch_scores/MD661/MD662&661-F57-2017.06.06-02.06.22_MD661_3_0171_prep2_gray/detector8/MD662&661-F57-2017.06.06-02.06.22_MD661_3_0171_prep2_gray_detector8_6N_sparseScores.bp\" && mkdir -p \"/home/yuncong/CSHL_patch_scores/MD661/MD662&661-F57-2017.06.06-02.06.22_MD661_3_0171_prep2_gray/detector8\"\n",
      "aws s3 cp \"s3://mousebrainatlas-data/CSHL_patch_scores/MD661/MD662&661-F57-2017.06.06-02.06.22_MD661_3_0171_prep2_gray/detector8/MD662&661-F57-2017.06.06-02.06.22_MD661_3_0171_prep2_gray_detector8_6N_sparseScores.bp\" \"/home/yuncong/CSHL_patch_scores/MD661/MD662&661-F57-2017.06.06-02.06.22_MD661_3_0171_prep2_gray/detector8/MD662&661-F57-2017.06.06-02.06.22_MD661_3_0171_prep2_gray_detector8_6N_sparseScores.bp\"\n",
      "aws s3 cp \"s3://mousebrainatlas-data/CSHL_patch_scores/MD661/MD662&661-F58-2017.06.06-02.35.45_MD661_1_0172_prep2_gray/detector8/MD662&661-F58-2017.06.06-02.35.45_MD661_1_0172_prep2_gray_detector8_6N_sparseScores.bp\" \"/home/yuncong/CSHL_patch_scores/MD661/MD662&661-F58-2017.06.06-02.35.45_MD661_1_0172_prep2_gray/detector8/MD662&661-F58-2017.06.06-02.35.45_MD661_1_0172_prep2_gray_detector8_6N_sparseScores.bp\"\n"
     ]
    },
    {
     "name": "stderr",
     "output_type": "stream",
     "text": [
      "File does not exist: /home/yuncong/CSHL_patch_scores/MD661/MD662&661-F58-2017.06.06-02.35.45_MD661_2_0173_prep2_gray/detector8/MD662&661-F58-2017.06.06-02.35.45_MD661_2_0173_prep2_gray_detector8_6N_sparseScores.bp\n",
      "Error loading sparse scores for 6N: [Errno 2] No such file or directory: '/home/yuncong/CSHL_patch_scores/MD661/MD662&661-F58-2017.06.06-02.35.45_MD661_2_0173_prep2_gray/detector8/MD662&661-F58-2017.06.06-02.35.45_MD661_2_0173_prep2_gray_detector8_6N_sparseScores.bp'\n"
     ]
    },
    {
     "name": "stdout",
     "output_type": "stream",
     "text": [
      "rm -rf \"/home/yuncong/CSHL_patch_scores/MD661/MD662&661-F58-2017.06.06-02.35.45_MD661_2_0173_prep2_gray/detector8/MD662&661-F58-2017.06.06-02.35.45_MD661_2_0173_prep2_gray_detector8_7N_sparseScores.bp\" && mkdir -p \"/home/yuncong/CSHL_patch_scores/MD661/MD662&661-F58-2017.06.06-02.35.45_MD661_2_0173_prep2_gray/detector8\"\n",
      "aws s3 cp \"s3://mousebrainatlas-data/CSHL_patch_scores/MD661/MD662&661-F58-2017.06.06-02.35.45_MD661_2_0173_prep2_gray/detector8/MD662&661-F58-2017.06.06-02.35.45_MD661_2_0173_prep2_gray_detector8_7N_sparseScores.bp\" \"/home/yuncong/CSHL_patch_scores/MD661/MD662&661-F58-2017.06.06-02.35.45_MD661_2_0173_prep2_gray/detector8/MD662&661-F58-2017.06.06-02.35.45_MD661_2_0173_prep2_gray_detector8_7N_sparseScores.bp\"\n"
     ]
    },
    {
     "name": "stderr",
     "output_type": "stream",
     "text": [
      "File does not exist: /home/yuncong/CSHL_patch_scores/MD661/MD662&661-F58-2017.06.06-02.35.45_MD661_1_0172_prep2_gray/detector8/MD662&661-F58-2017.06.06-02.35.45_MD661_1_0172_prep2_gray_detector8_6N_sparseScores.bp\n",
      "Error loading sparse scores for 6N: [Errno 2] No such file or directory: '/home/yuncong/CSHL_patch_scores/MD661/MD662&661-F58-2017.06.06-02.35.45_MD661_1_0172_prep2_gray/detector8/MD662&661-F58-2017.06.06-02.35.45_MD661_1_0172_prep2_gray_detector8_6N_sparseScores.bp'\n"
     ]
    },
    {
     "name": "stdout",
     "output_type": "stream",
     "text": [
      "rm -rf \"/home/yuncong/CSHL_patch_scores/MD661/MD662&661-F58-2017.06.06-02.35.45_MD661_1_0172_prep2_gray/detector8/MD662&661-F58-2017.06.06-02.35.45_MD661_1_0172_prep2_gray_detector8_7N_sparseScores.bp\" && mkdir -p \"/home/yuncong/CSHL_patch_scores/MD661/MD662&661-F58-2017.06.06-02.35.45_MD661_1_0172_prep2_gray/detector8\"\n"
     ]
    },
    {
     "name": "stderr",
     "output_type": "stream",
     "text": [
      "File does not exist: /home/yuncong/CSHL_patch_scores/MD661/MD662&661-F57-2017.06.06-02.06.22_MD661_3_0171_prep2_gray/detector8/MD662&661-F57-2017.06.06-02.06.22_MD661_3_0171_prep2_gray_detector8_6N_sparseScores.bp\n",
      "Error loading sparse scores for 6N: [Errno 2] No such file or directory: '/home/yuncong/CSHL_patch_scores/MD661/MD662&661-F57-2017.06.06-02.06.22_MD661_3_0171_prep2_gray/detector8/MD662&661-F57-2017.06.06-02.06.22_MD661_3_0171_prep2_gray_detector8_6N_sparseScores.bp'\n"
     ]
    },
    {
     "name": "stdout",
     "output_type": "stream",
     "text": [
      "rm -rf \"/home/yuncong/CSHL_patch_scores/MD661/MD662&661-F57-2017.06.06-02.06.22_MD661_3_0171_prep2_gray/detector8/MD662&661-F57-2017.06.06-02.06.22_MD661_3_0171_prep2_gray_detector8_7N_sparseScores.bp\" && mkdir -p \"/home/yuncong/CSHL_patch_scores/MD661/MD662&661-F57-2017.06.06-02.06.22_MD661_3_0171_prep2_gray/detector8\"\n",
      "aws s3 cp \"s3://mousebrainatlas-data/CSHL_patch_scores/MD661/MD662&661-F58-2017.06.06-02.35.45_MD661_1_0172_prep2_gray/detector8/MD662&661-F58-2017.06.06-02.35.45_MD661_1_0172_prep2_gray_detector8_7N_sparseScores.bp\" \"/home/yuncong/CSHL_patch_scores/MD661/MD662&661-F58-2017.06.06-02.35.45_MD661_1_0172_prep2_gray/detector8/MD662&661-F58-2017.06.06-02.35.45_MD661_1_0172_prep2_gray_detector8_7N_sparseScores.bp\"\n",
      "aws s3 cp \"s3://mousebrainatlas-data/CSHL_patch_scores/MD661/MD662&661-F57-2017.06.06-02.06.22_MD661_3_0171_prep2_gray/detector8/MD662&661-F57-2017.06.06-02.06.22_MD661_3_0171_prep2_gray_detector8_7N_sparseScores.bp\" \"/home/yuncong/CSHL_patch_scores/MD661/MD662&661-F57-2017.06.06-02.06.22_MD661_3_0171_prep2_gray/detector8/MD662&661-F57-2017.06.06-02.06.22_MD661_3_0171_prep2_gray_detector8_7N_sparseScores.bp\"\n"
     ]
    },
    {
     "name": "stderr",
     "output_type": "stream",
     "text": [
      "File does not exist: /home/yuncong/CSHL_patch_scores/MD661/MD662&661-F58-2017.06.06-02.35.45_MD661_2_0173_prep2_gray/detector8/MD662&661-F58-2017.06.06-02.35.45_MD661_2_0173_prep2_gray_detector8_7N_sparseScores.bp\n",
      "Error loading sparse scores for 7N: [Errno 2] No such file or directory: '/home/yuncong/CSHL_patch_scores/MD661/MD662&661-F58-2017.06.06-02.35.45_MD661_2_0173_prep2_gray/detector8/MD662&661-F58-2017.06.06-02.35.45_MD661_2_0173_prep2_gray_detector8_7N_sparseScores.bp'\n"
     ]
    },
    {
     "name": "stdout",
     "output_type": "stream",
     "text": [
      "rm -rf \"/home/yuncong/CSHL_patch_scores/MD661/MD662&661-F58-2017.06.06-02.35.45_MD661_2_0173_prep2_gray/detector8/MD662&661-F58-2017.06.06-02.35.45_MD661_2_0173_prep2_gray_detector8_7n_sparseScores.bp\" && mkdir -p \"/home/yuncong/CSHL_patch_scores/MD661/MD662&661-F58-2017.06.06-02.35.45_MD661_2_0173_prep2_gray/detector8\"\n",
      "aws s3 cp \"s3://mousebrainatlas-data/CSHL_patch_scores/MD661/MD662&661-F58-2017.06.06-02.35.45_MD661_2_0173_prep2_gray/detector8/MD662&661-F58-2017.06.06-02.35.45_MD661_2_0173_prep2_gray_detector8_7n_sparseScores.bp\" \"/home/yuncong/CSHL_patch_scores/MD661/MD662&661-F58-2017.06.06-02.35.45_MD661_2_0173_prep2_gray/detector8/MD662&661-F58-2017.06.06-02.35.45_MD661_2_0173_prep2_gray_detector8_7n_sparseScores.bp\"\n"
     ]
    },
    {
     "name": "stderr",
     "output_type": "stream",
     "text": [
      "File does not exist: /home/yuncong/CSHL_patch_scores/MD661/MD662&661-F58-2017.06.06-02.35.45_MD661_1_0172_prep2_gray/detector8/MD662&661-F58-2017.06.06-02.35.45_MD661_1_0172_prep2_gray_detector8_7N_sparseScores.bp\n",
      "Error loading sparse scores for 7N: [Errno 2] No such file or directory: '/home/yuncong/CSHL_patch_scores/MD661/MD662&661-F58-2017.06.06-02.35.45_MD661_1_0172_prep2_gray/detector8/MD662&661-F58-2017.06.06-02.35.45_MD661_1_0172_prep2_gray_detector8_7N_sparseScores.bp'\n"
     ]
    },
    {
     "name": "stdout",
     "output_type": "stream",
     "text": [
      "rm -rf \"/home/yuncong/CSHL_patch_scores/MD661/MD662&661-F58-2017.06.06-02.35.45_MD661_1_0172_prep2_gray/detector8/MD662&661-F58-2017.06.06-02.35.45_MD661_1_0172_prep2_gray_detector8_7n_sparseScores.bp\" && mkdir -p \"/home/yuncong/CSHL_patch_scores/MD661/MD662&661-F58-2017.06.06-02.35.45_MD661_1_0172_prep2_gray/detector8\"\n",
      "aws s3 cp \"s3://mousebrainatlas-data/CSHL_patch_scores/MD661/MD662&661-F58-2017.06.06-02.35.45_MD661_1_0172_prep2_gray/detector8/MD662&661-F58-2017.06.06-02.35.45_MD661_1_0172_prep2_gray_detector8_7n_sparseScores.bp\" \"/home/yuncong/CSHL_patch_scores/MD661/MD662&661-F58-2017.06.06-02.35.45_MD661_1_0172_prep2_gray/detector8/MD662&661-F58-2017.06.06-02.35.45_MD661_1_0172_prep2_gray_detector8_7n_sparseScores.bp\"\n"
     ]
    },
    {
     "name": "stderr",
     "output_type": "stream",
     "text": [
      "File does not exist: /home/yuncong/CSHL_patch_scores/MD661/MD662&661-F57-2017.06.06-02.06.22_MD661_3_0171_prep2_gray/detector8/MD662&661-F57-2017.06.06-02.06.22_MD661_3_0171_prep2_gray_detector8_7N_sparseScores.bp\n",
      "Error loading sparse scores for 7N: [Errno 2] No such file or directory: '/home/yuncong/CSHL_patch_scores/MD661/MD662&661-F57-2017.06.06-02.06.22_MD661_3_0171_prep2_gray/detector8/MD662&661-F57-2017.06.06-02.06.22_MD661_3_0171_prep2_gray_detector8_7N_sparseScores.bp'\n"
     ]
    },
    {
     "name": "stdout",
     "output_type": "stream",
     "text": [
      "rm -rf \"/home/yuncong/CSHL_patch_scores/MD661/MD662&661-F57-2017.06.06-02.06.22_MD661_3_0171_prep2_gray/detector8/MD662&661-F57-2017.06.06-02.06.22_MD661_3_0171_prep2_gray_detector8_7n_sparseScores.bp\" && mkdir -p \"/home/yuncong/CSHL_patch_scores/MD661/MD662&661-F57-2017.06.06-02.06.22_MD661_3_0171_prep2_gray/detector8\"\n",
      "aws s3 cp \"s3://mousebrainatlas-data/CSHL_patch_scores/MD661/MD662&661-F57-2017.06.06-02.06.22_MD661_3_0171_prep2_gray/detector8/MD662&661-F57-2017.06.06-02.06.22_MD661_3_0171_prep2_gray_detector8_7n_sparseScores.bp\" \"/home/yuncong/CSHL_patch_scores/MD661/MD662&661-F57-2017.06.06-02.06.22_MD661_3_0171_prep2_gray/detector8/MD662&661-F57-2017.06.06-02.06.22_MD661_3_0171_prep2_gray_detector8_7n_sparseScores.bp\"\n"
     ]
    },
    {
     "name": "stderr",
     "output_type": "stream",
     "text": [
      "File does not exist: /home/yuncong/CSHL_patch_scores/MD661/MD662&661-F58-2017.06.06-02.35.45_MD661_2_0173_prep2_gray/detector8/MD662&661-F58-2017.06.06-02.35.45_MD661_2_0173_prep2_gray_detector8_7n_sparseScores.bp\n",
      "Error loading sparse scores for 7n: [Errno 2] No such file or directory: '/home/yuncong/CSHL_patch_scores/MD661/MD662&661-F58-2017.06.06-02.35.45_MD661_2_0173_prep2_gray/detector8/MD662&661-F58-2017.06.06-02.35.45_MD661_2_0173_prep2_gray_detector8_7n_sparseScores.bp'\n"
     ]
    },
    {
     "name": "stdout",
     "output_type": "stream",
     "text": [
      "rm -rf \"/home/yuncong/CSHL_patch_scores/MD661/MD662&661-F58-2017.06.06-02.35.45_MD661_2_0173_prep2_gray/detector8/MD662&661-F58-2017.06.06-02.35.45_MD661_2_0173_prep2_gray_detector8_AP_sparseScores.bp\" && mkdir -p \"/home/yuncong/CSHL_patch_scores/MD661/MD662&661-F58-2017.06.06-02.35.45_MD661_2_0173_prep2_gray/detector8\"\n",
      "aws s3 cp \"s3://mousebrainatlas-data/CSHL_patch_scores/MD661/MD662&661-F58-2017.06.06-02.35.45_MD661_2_0173_prep2_gray/detector8/MD662&661-F58-2017.06.06-02.35.45_MD661_2_0173_prep2_gray_detector8_AP_sparseScores.bp\" \"/home/yuncong/CSHL_patch_scores/MD661/MD662&661-F58-2017.06.06-02.35.45_MD661_2_0173_prep2_gray/detector8/MD662&661-F58-2017.06.06-02.35.45_MD661_2_0173_prep2_gray_detector8_AP_sparseScores.bp\"\n"
     ]
    },
    {
     "name": "stderr",
     "output_type": "stream",
     "text": [
      "File does not exist: /home/yuncong/CSHL_patch_scores/MD661/MD662&661-F58-2017.06.06-02.35.45_MD661_1_0172_prep2_gray/detector8/MD662&661-F58-2017.06.06-02.35.45_MD661_1_0172_prep2_gray_detector8_7n_sparseScores.bp\n",
      "Error loading sparse scores for 7n: [Errno 2] No such file or directory: '/home/yuncong/CSHL_patch_scores/MD661/MD662&661-F58-2017.06.06-02.35.45_MD661_1_0172_prep2_gray/detector8/MD662&661-F58-2017.06.06-02.35.45_MD661_1_0172_prep2_gray_detector8_7n_sparseScores.bp'\n"
     ]
    },
    {
     "name": "stdout",
     "output_type": "stream",
     "text": [
      "rm -rf \"/home/yuncong/CSHL_patch_scores/MD661/MD662&661-F58-2017.06.06-02.35.45_MD661_1_0172_prep2_gray/detector8/MD662&661-F58-2017.06.06-02.35.45_MD661_1_0172_prep2_gray_detector8_AP_sparseScores.bp\" && mkdir -p \"/home/yuncong/CSHL_patch_scores/MD661/MD662&661-F58-2017.06.06-02.35.45_MD661_1_0172_prep2_gray/detector8\"\n",
      "aws s3 cp \"s3://mousebrainatlas-data/CSHL_patch_scores/MD661/MD662&661-F58-2017.06.06-02.35.45_MD661_1_0172_prep2_gray/detector8/MD662&661-F58-2017.06.06-02.35.45_MD661_1_0172_prep2_gray_detector8_AP_sparseScores.bp\" \"/home/yuncong/CSHL_patch_scores/MD661/MD662&661-F58-2017.06.06-02.35.45_MD661_1_0172_prep2_gray/detector8/MD662&661-F58-2017.06.06-02.35.45_MD661_1_0172_prep2_gray_detector8_AP_sparseScores.bp\"\n"
     ]
    },
    {
     "name": "stderr",
     "output_type": "stream",
     "text": [
      "File does not exist: /home/yuncong/CSHL_patch_scores/MD661/MD662&661-F57-2017.06.06-02.06.22_MD661_3_0171_prep2_gray/detector8/MD662&661-F57-2017.06.06-02.06.22_MD661_3_0171_prep2_gray_detector8_7n_sparseScores.bp\n",
      "Error loading sparse scores for 7n: [Errno 2] No such file or directory: '/home/yuncong/CSHL_patch_scores/MD661/MD662&661-F57-2017.06.06-02.06.22_MD661_3_0171_prep2_gray/detector8/MD662&661-F57-2017.06.06-02.06.22_MD661_3_0171_prep2_gray_detector8_7n_sparseScores.bp'\n"
     ]
    },
    {
     "name": "stdout",
     "output_type": "stream",
     "text": [
      "rm -rf \"/home/yuncong/CSHL_patch_scores/MD661/MD662&661-F57-2017.06.06-02.06.22_MD661_3_0171_prep2_gray/detector8/MD662&661-F57-2017.06.06-02.06.22_MD661_3_0171_prep2_gray_detector8_AP_sparseScores.bp\" && mkdir -p \"/home/yuncong/CSHL_patch_scores/MD661/MD662&661-F57-2017.06.06-02.06.22_MD661_3_0171_prep2_gray/detector8\"\n",
      "aws s3 cp \"s3://mousebrainatlas-data/CSHL_patch_scores/MD661/MD662&661-F57-2017.06.06-02.06.22_MD661_3_0171_prep2_gray/detector8/MD662&661-F57-2017.06.06-02.06.22_MD661_3_0171_prep2_gray_detector8_AP_sparseScores.bp\" \"/home/yuncong/CSHL_patch_scores/MD661/MD662&661-F57-2017.06.06-02.06.22_MD661_3_0171_prep2_gray/detector8/MD662&661-F57-2017.06.06-02.06.22_MD661_3_0171_prep2_gray_detector8_AP_sparseScores.bp\"\n"
     ]
    },
    {
     "name": "stderr",
     "output_type": "stream",
     "text": [
      "File does not exist: /home/yuncong/CSHL_patch_scores/MD661/MD662&661-F58-2017.06.06-02.35.45_MD661_2_0173_prep2_gray/detector8/MD662&661-F58-2017.06.06-02.35.45_MD661_2_0173_prep2_gray_detector8_AP_sparseScores.bp\n",
      "Error loading sparse scores for AP: [Errno 2] No such file or directory: '/home/yuncong/CSHL_patch_scores/MD661/MD662&661-F58-2017.06.06-02.35.45_MD661_2_0173_prep2_gray/detector8/MD662&661-F58-2017.06.06-02.35.45_MD661_2_0173_prep2_gray_detector8_AP_sparseScores.bp'\n"
     ]
    },
    {
     "name": "stdout",
     "output_type": "stream",
     "text": [
      "rm -rf \"/home/yuncong/CSHL_patch_scores/MD661/MD662&661-F58-2017.06.06-02.35.45_MD661_2_0173_prep2_gray/detector8/MD662&661-F58-2017.06.06-02.35.45_MD661_2_0173_prep2_gray_detector8_Amb_sparseScores.bp\" && mkdir -p \"/home/yuncong/CSHL_patch_scores/MD661/MD662&661-F58-2017.06.06-02.35.45_MD661_2_0173_prep2_gray/detector8\"\n",
      "aws s3 cp \"s3://mousebrainatlas-data/CSHL_patch_scores/MD661/MD662&661-F58-2017.06.06-02.35.45_MD661_2_0173_prep2_gray/detector8/MD662&661-F58-2017.06.06-02.35.45_MD661_2_0173_prep2_gray_detector8_Amb_sparseScores.bp\" \"/home/yuncong/CSHL_patch_scores/MD661/MD662&661-F58-2017.06.06-02.35.45_MD661_2_0173_prep2_gray/detector8/MD662&661-F58-2017.06.06-02.35.45_MD661_2_0173_prep2_gray_detector8_Amb_sparseScores.bp\"\n"
     ]
    },
    {
     "name": "stderr",
     "output_type": "stream",
     "text": [
      "File does not exist: /home/yuncong/CSHL_patch_scores/MD661/MD662&661-F58-2017.06.06-02.35.45_MD661_1_0172_prep2_gray/detector8/MD662&661-F58-2017.06.06-02.35.45_MD661_1_0172_prep2_gray_detector8_AP_sparseScores.bp\n",
      "Error loading sparse scores for AP: [Errno 2] No such file or directory: '/home/yuncong/CSHL_patch_scores/MD661/MD662&661-F58-2017.06.06-02.35.45_MD661_1_0172_prep2_gray/detector8/MD662&661-F58-2017.06.06-02.35.45_MD661_1_0172_prep2_gray_detector8_AP_sparseScores.bp'\n"
     ]
    },
    {
     "name": "stdout",
     "output_type": "stream",
     "text": [
      "rm -rf \"/home/yuncong/CSHL_patch_scores/MD661/MD662&661-F58-2017.06.06-02.35.45_MD661_1_0172_prep2_gray/detector8/MD662&661-F58-2017.06.06-02.35.45_MD661_1_0172_prep2_gray_detector8_Amb_sparseScores.bp\" && mkdir -p \"/home/yuncong/CSHL_patch_scores/MD661/MD662&661-F58-2017.06.06-02.35.45_MD661_1_0172_prep2_gray/detector8\"\n"
     ]
    },
    {
     "name": "stderr",
     "output_type": "stream",
     "text": [
      "File does not exist: /home/yuncong/CSHL_patch_scores/MD661/MD662&661-F57-2017.06.06-02.06.22_MD661_3_0171_prep2_gray/detector8/MD662&661-F57-2017.06.06-02.06.22_MD661_3_0171_prep2_gray_detector8_AP_sparseScores.bp\n",
      "Error loading sparse scores for AP: [Errno 2] No such file or directory: '/home/yuncong/CSHL_patch_scores/MD661/MD662&661-F57-2017.06.06-02.06.22_MD661_3_0171_prep2_gray/detector8/MD662&661-F57-2017.06.06-02.06.22_MD661_3_0171_prep2_gray_detector8_AP_sparseScores.bp'\n"
     ]
    },
    {
     "name": "stdout",
     "output_type": "stream",
     "text": [
      "rm -rf \"/home/yuncong/CSHL_patch_scores/MD661/MD662&661-F57-2017.06.06-02.06.22_MD661_3_0171_prep2_gray/detector8/MD662&661-F57-2017.06.06-02.06.22_MD661_3_0171_prep2_gray_detector8_Amb_sparseScores.bp\" && mkdir -p \"/home/yuncong/CSHL_patch_scores/MD661/MD662&661-F57-2017.06.06-02.06.22_MD661_3_0171_prep2_gray/detector8\"\n",
      "aws s3 cp \"s3://mousebrainatlas-data/CSHL_patch_scores/MD661/MD662&661-F58-2017.06.06-02.35.45_MD661_1_0172_prep2_gray/detector8/MD662&661-F58-2017.06.06-02.35.45_MD661_1_0172_prep2_gray_detector8_Amb_sparseScores.bp\" \"/home/yuncong/CSHL_patch_scores/MD661/MD662&661-F58-2017.06.06-02.35.45_MD661_1_0172_prep2_gray/detector8/MD662&661-F58-2017.06.06-02.35.45_MD661_1_0172_prep2_gray_detector8_Amb_sparseScores.bp\"\n",
      "aws s3 cp \"s3://mousebrainatlas-data/CSHL_patch_scores/MD661/MD662&661-F57-2017.06.06-02.06.22_MD661_3_0171_prep2_gray/detector8/MD662&661-F57-2017.06.06-02.06.22_MD661_3_0171_prep2_gray_detector8_Amb_sparseScores.bp\" \"/home/yuncong/CSHL_patch_scores/MD661/MD662&661-F57-2017.06.06-02.06.22_MD661_3_0171_prep2_gray/detector8/MD662&661-F57-2017.06.06-02.06.22_MD661_3_0171_prep2_gray_detector8_Amb_sparseScores.bp\"\n"
     ]
    },
    {
     "name": "stderr",
     "output_type": "stream",
     "text": [
      "File does not exist: /home/yuncong/CSHL_patch_scores/MD661/MD662&661-F58-2017.06.06-02.35.45_MD661_2_0173_prep2_gray/detector8/MD662&661-F58-2017.06.06-02.35.45_MD661_2_0173_prep2_gray_detector8_Amb_sparseScores.bp\n",
      "Error loading sparse scores for Amb: [Errno 2] No such file or directory: '/home/yuncong/CSHL_patch_scores/MD661/MD662&661-F58-2017.06.06-02.35.45_MD661_2_0173_prep2_gray/detector8/MD662&661-F58-2017.06.06-02.35.45_MD661_2_0173_prep2_gray_detector8_Amb_sparseScores.bp'\n"
     ]
    },
    {
     "name": "stdout",
     "output_type": "stream",
     "text": [
      "rm -rf \"/home/yuncong/CSHL_patch_scores/MD661/MD662&661-F58-2017.06.06-02.35.45_MD661_2_0173_prep2_gray/detector8/MD662&661-F58-2017.06.06-02.35.45_MD661_2_0173_prep2_gray_detector8_DC_sparseScores.bp\" && mkdir -p \"/home/yuncong/CSHL_patch_scores/MD661/MD662&661-F58-2017.06.06-02.35.45_MD661_2_0173_prep2_gray/detector8\"\n",
      "aws s3 cp \"s3://mousebrainatlas-data/CSHL_patch_scores/MD661/MD662&661-F58-2017.06.06-02.35.45_MD661_2_0173_prep2_gray/detector8/MD662&661-F58-2017.06.06-02.35.45_MD661_2_0173_prep2_gray_detector8_DC_sparseScores.bp\" \"/home/yuncong/CSHL_patch_scores/MD661/MD662&661-F58-2017.06.06-02.35.45_MD661_2_0173_prep2_gray/detector8/MD662&661-F58-2017.06.06-02.35.45_MD661_2_0173_prep2_gray_detector8_DC_sparseScores.bp\"\n"
     ]
    },
    {
     "name": "stderr",
     "output_type": "stream",
     "text": [
      "File does not exist: /home/yuncong/CSHL_patch_scores/MD661/MD662&661-F58-2017.06.06-02.35.45_MD661_1_0172_prep2_gray/detector8/MD662&661-F58-2017.06.06-02.35.45_MD661_1_0172_prep2_gray_detector8_Amb_sparseScores.bp\n",
      "Error loading sparse scores for Amb: [Errno 2] No such file or directory: '/home/yuncong/CSHL_patch_scores/MD661/MD662&661-F58-2017.06.06-02.35.45_MD661_1_0172_prep2_gray/detector8/MD662&661-F58-2017.06.06-02.35.45_MD661_1_0172_prep2_gray_detector8_Amb_sparseScores.bp'\n"
     ]
    },
    {
     "name": "stdout",
     "output_type": "stream",
     "text": [
      "rm -rf \"/home/yuncong/CSHL_patch_scores/MD661/MD662&661-F58-2017.06.06-02.35.45_MD661_1_0172_prep2_gray/detector8/MD662&661-F58-2017.06.06-02.35.45_MD661_1_0172_prep2_gray_detector8_DC_sparseScores.bp\" && mkdir -p \"/home/yuncong/CSHL_patch_scores/MD661/MD662&661-F58-2017.06.06-02.35.45_MD661_1_0172_prep2_gray/detector8\"\n"
     ]
    },
    {
     "name": "stderr",
     "output_type": "stream",
     "text": [
      "File does not exist: /home/yuncong/CSHL_patch_scores/MD661/MD662&661-F57-2017.06.06-02.06.22_MD661_3_0171_prep2_gray/detector8/MD662&661-F57-2017.06.06-02.06.22_MD661_3_0171_prep2_gray_detector8_Amb_sparseScores.bp\n",
      "Error loading sparse scores for Amb: [Errno 2] No such file or directory: '/home/yuncong/CSHL_patch_scores/MD661/MD662&661-F57-2017.06.06-02.06.22_MD661_3_0171_prep2_gray/detector8/MD662&661-F57-2017.06.06-02.06.22_MD661_3_0171_prep2_gray_detector8_Amb_sparseScores.bp'\n"
     ]
    },
    {
     "name": "stdout",
     "output_type": "stream",
     "text": [
      "rm -rf \"/home/yuncong/CSHL_patch_scores/MD661/MD662&661-F57-2017.06.06-02.06.22_MD661_3_0171_prep2_gray/detector8/MD662&661-F57-2017.06.06-02.06.22_MD661_3_0171_prep2_gray_detector8_DC_sparseScores.bp\" && mkdir -p \"/home/yuncong/CSHL_patch_scores/MD661/MD662&661-F57-2017.06.06-02.06.22_MD661_3_0171_prep2_gray/detector8\"\n",
      "aws s3 cp \"s3://mousebrainatlas-data/CSHL_patch_scores/MD661/MD662&661-F58-2017.06.06-02.35.45_MD661_1_0172_prep2_gray/detector8/MD662&661-F58-2017.06.06-02.35.45_MD661_1_0172_prep2_gray_detector8_DC_sparseScores.bp\" \"/home/yuncong/CSHL_patch_scores/MD661/MD662&661-F58-2017.06.06-02.35.45_MD661_1_0172_prep2_gray/detector8/MD662&661-F58-2017.06.06-02.35.45_MD661_1_0172_prep2_gray_detector8_DC_sparseScores.bp\"\n",
      "aws s3 cp \"s3://mousebrainatlas-data/CSHL_patch_scores/MD661/MD662&661-F57-2017.06.06-02.06.22_MD661_3_0171_prep2_gray/detector8/MD662&661-F57-2017.06.06-02.06.22_MD661_3_0171_prep2_gray_detector8_DC_sparseScores.bp\" \"/home/yuncong/CSHL_patch_scores/MD661/MD662&661-F57-2017.06.06-02.06.22_MD661_3_0171_prep2_gray/detector8/MD662&661-F57-2017.06.06-02.06.22_MD661_3_0171_prep2_gray_detector8_DC_sparseScores.bp\"\n"
     ]
    },
    {
     "name": "stderr",
     "output_type": "stream",
     "text": [
      "File does not exist: /home/yuncong/CSHL_patch_scores/MD661/MD662&661-F58-2017.06.06-02.35.45_MD661_2_0173_prep2_gray/detector8/MD662&661-F58-2017.06.06-02.35.45_MD661_2_0173_prep2_gray_detector8_DC_sparseScores.bp\n",
      "Error loading sparse scores for DC: [Errno 2] No such file or directory: '/home/yuncong/CSHL_patch_scores/MD661/MD662&661-F58-2017.06.06-02.35.45_MD661_2_0173_prep2_gray/detector8/MD662&661-F58-2017.06.06-02.35.45_MD661_2_0173_prep2_gray_detector8_DC_sparseScores.bp'\n"
     ]
    },
    {
     "name": "stdout",
     "output_type": "stream",
     "text": [
      "rm -rf \"/home/yuncong/CSHL_patch_scores/MD661/MD662&661-F58-2017.06.06-02.35.45_MD661_2_0173_prep2_gray/detector8/MD662&661-F58-2017.06.06-02.35.45_MD661_2_0173_prep2_gray_detector8_IC_sparseScores.bp\" && mkdir -p \"/home/yuncong/CSHL_patch_scores/MD661/MD662&661-F58-2017.06.06-02.35.45_MD661_2_0173_prep2_gray/detector8\"\n",
      "aws s3 cp \"s3://mousebrainatlas-data/CSHL_patch_scores/MD661/MD662&661-F58-2017.06.06-02.35.45_MD661_2_0173_prep2_gray/detector8/MD662&661-F58-2017.06.06-02.35.45_MD661_2_0173_prep2_gray_detector8_IC_sparseScores.bp\" \"/home/yuncong/CSHL_patch_scores/MD661/MD662&661-F58-2017.06.06-02.35.45_MD661_2_0173_prep2_gray/detector8/MD662&661-F58-2017.06.06-02.35.45_MD661_2_0173_prep2_gray_detector8_IC_sparseScores.bp\"\n"
     ]
    },
    {
     "name": "stderr",
     "output_type": "stream",
     "text": [
      "File does not exist: /home/yuncong/CSHL_patch_scores/MD661/MD662&661-F58-2017.06.06-02.35.45_MD661_1_0172_prep2_gray/detector8/MD662&661-F58-2017.06.06-02.35.45_MD661_1_0172_prep2_gray_detector8_DC_sparseScores.bp\n",
      "Error loading sparse scores for DC: [Errno 2] No such file or directory: '/home/yuncong/CSHL_patch_scores/MD661/MD662&661-F58-2017.06.06-02.35.45_MD661_1_0172_prep2_gray/detector8/MD662&661-F58-2017.06.06-02.35.45_MD661_1_0172_prep2_gray_detector8_DC_sparseScores.bp'\n"
     ]
    },
    {
     "name": "stdout",
     "output_type": "stream",
     "text": [
      "rm -rf \"/home/yuncong/CSHL_patch_scores/MD661/MD662&661-F58-2017.06.06-02.35.45_MD661_1_0172_prep2_gray/detector8/MD662&661-F58-2017.06.06-02.35.45_MD661_1_0172_prep2_gray_detector8_IC_sparseScores.bp\" && mkdir -p \"/home/yuncong/CSHL_patch_scores/MD661/MD662&661-F58-2017.06.06-02.35.45_MD661_1_0172_prep2_gray/detector8\"\n",
      "aws s3 cp \"s3://mousebrainatlas-data/CSHL_patch_scores/MD661/MD662&661-F58-2017.06.06-02.35.45_MD661_1_0172_prep2_gray/detector8/MD662&661-F58-2017.06.06-02.35.45_MD661_1_0172_prep2_gray_detector8_IC_sparseScores.bp\" \"/home/yuncong/CSHL_patch_scores/MD661/MD662&661-F58-2017.06.06-02.35.45_MD661_1_0172_prep2_gray/detector8/MD662&661-F58-2017.06.06-02.35.45_MD661_1_0172_prep2_gray_detector8_IC_sparseScores.bp\"\n"
     ]
    },
    {
     "name": "stderr",
     "output_type": "stream",
     "text": [
      "File does not exist: /home/yuncong/CSHL_patch_scores/MD661/MD662&661-F57-2017.06.06-02.06.22_MD661_3_0171_prep2_gray/detector8/MD662&661-F57-2017.06.06-02.06.22_MD661_3_0171_prep2_gray_detector8_DC_sparseScores.bp\n",
      "Error loading sparse scores for DC: [Errno 2] No such file or directory: '/home/yuncong/CSHL_patch_scores/MD661/MD662&661-F57-2017.06.06-02.06.22_MD661_3_0171_prep2_gray/detector8/MD662&661-F57-2017.06.06-02.06.22_MD661_3_0171_prep2_gray_detector8_DC_sparseScores.bp'\n"
     ]
    },
    {
     "name": "stdout",
     "output_type": "stream",
     "text": [
      "rm -rf \"/home/yuncong/CSHL_patch_scores/MD661/MD662&661-F57-2017.06.06-02.06.22_MD661_3_0171_prep2_gray/detector8/MD662&661-F57-2017.06.06-02.06.22_MD661_3_0171_prep2_gray_detector8_IC_sparseScores.bp\" && mkdir -p \"/home/yuncong/CSHL_patch_scores/MD661/MD662&661-F57-2017.06.06-02.06.22_MD661_3_0171_prep2_gray/detector8\"\n",
      "aws s3 cp \"s3://mousebrainatlas-data/CSHL_patch_scores/MD661/MD662&661-F57-2017.06.06-02.06.22_MD661_3_0171_prep2_gray/detector8/MD662&661-F57-2017.06.06-02.06.22_MD661_3_0171_prep2_gray_detector8_IC_sparseScores.bp\" \"/home/yuncong/CSHL_patch_scores/MD661/MD662&661-F57-2017.06.06-02.06.22_MD661_3_0171_prep2_gray/detector8/MD662&661-F57-2017.06.06-02.06.22_MD661_3_0171_prep2_gray_detector8_IC_sparseScores.bp\"\n"
     ]
    },
    {
     "name": "stderr",
     "output_type": "stream",
     "text": [
      "File does not exist: /home/yuncong/CSHL_patch_scores/MD661/MD662&661-F58-2017.06.06-02.35.45_MD661_2_0173_prep2_gray/detector8/MD662&661-F58-2017.06.06-02.35.45_MD661_2_0173_prep2_gray_detector8_IC_sparseScores.bp\n",
      "Error loading sparse scores for IC: [Errno 2] No such file or directory: '/home/yuncong/CSHL_patch_scores/MD661/MD662&661-F58-2017.06.06-02.35.45_MD661_2_0173_prep2_gray/detector8/MD662&661-F58-2017.06.06-02.35.45_MD661_2_0173_prep2_gray_detector8_IC_sparseScores.bp'\n"
     ]
    },
    {
     "name": "stdout",
     "output_type": "stream",
     "text": [
      "rm -rf \"/home/yuncong/CSHL_patch_scores/MD661/MD662&661-F58-2017.06.06-02.35.45_MD661_2_0173_prep2_gray/detector8/MD662&661-F58-2017.06.06-02.35.45_MD661_2_0173_prep2_gray_detector8_LC_sparseScores.bp\" && mkdir -p \"/home/yuncong/CSHL_patch_scores/MD661/MD662&661-F58-2017.06.06-02.35.45_MD661_2_0173_prep2_gray/detector8\"\n",
      "aws s3 cp \"s3://mousebrainatlas-data/CSHL_patch_scores/MD661/MD662&661-F58-2017.06.06-02.35.45_MD661_2_0173_prep2_gray/detector8/MD662&661-F58-2017.06.06-02.35.45_MD661_2_0173_prep2_gray_detector8_LC_sparseScores.bp\" \"/home/yuncong/CSHL_patch_scores/MD661/MD662&661-F58-2017.06.06-02.35.45_MD661_2_0173_prep2_gray/detector8/MD662&661-F58-2017.06.06-02.35.45_MD661_2_0173_prep2_gray_detector8_LC_sparseScores.bp\"\n"
     ]
    },
    {
     "name": "stderr",
     "output_type": "stream",
     "text": [
      "File does not exist: /home/yuncong/CSHL_patch_scores/MD661/MD662&661-F58-2017.06.06-02.35.45_MD661_1_0172_prep2_gray/detector8/MD662&661-F58-2017.06.06-02.35.45_MD661_1_0172_prep2_gray_detector8_IC_sparseScores.bp\n",
      "Error loading sparse scores for IC: [Errno 2] No such file or directory: '/home/yuncong/CSHL_patch_scores/MD661/MD662&661-F58-2017.06.06-02.35.45_MD661_1_0172_prep2_gray/detector8/MD662&661-F58-2017.06.06-02.35.45_MD661_1_0172_prep2_gray_detector8_IC_sparseScores.bp'\n"
     ]
    },
    {
     "name": "stdout",
     "output_type": "stream",
     "text": [
      "rm -rf \"/home/yuncong/CSHL_patch_scores/MD661/MD662&661-F58-2017.06.06-02.35.45_MD661_1_0172_prep2_gray/detector8/MD662&661-F58-2017.06.06-02.35.45_MD661_1_0172_prep2_gray_detector8_LC_sparseScores.bp\" && mkdir -p \"/home/yuncong/CSHL_patch_scores/MD661/MD662&661-F58-2017.06.06-02.35.45_MD661_1_0172_prep2_gray/detector8\"\n",
      "aws s3 cp \"s3://mousebrainatlas-data/CSHL_patch_scores/MD661/MD662&661-F58-2017.06.06-02.35.45_MD661_1_0172_prep2_gray/detector8/MD662&661-F58-2017.06.06-02.35.45_MD661_1_0172_prep2_gray_detector8_LC_sparseScores.bp\" \"/home/yuncong/CSHL_patch_scores/MD661/MD662&661-F58-2017.06.06-02.35.45_MD661_1_0172_prep2_gray/detector8/MD662&661-F58-2017.06.06-02.35.45_MD661_1_0172_prep2_gray_detector8_LC_sparseScores.bp\"\n"
     ]
    },
    {
     "name": "stderr",
     "output_type": "stream",
     "text": [
      "File does not exist: /home/yuncong/CSHL_patch_scores/MD661/MD662&661-F57-2017.06.06-02.06.22_MD661_3_0171_prep2_gray/detector8/MD662&661-F57-2017.06.06-02.06.22_MD661_3_0171_prep2_gray_detector8_IC_sparseScores.bp\n",
      "Error loading sparse scores for IC: [Errno 2] No such file or directory: '/home/yuncong/CSHL_patch_scores/MD661/MD662&661-F57-2017.06.06-02.06.22_MD661_3_0171_prep2_gray/detector8/MD662&661-F57-2017.06.06-02.06.22_MD661_3_0171_prep2_gray_detector8_IC_sparseScores.bp'\n"
     ]
    },
    {
     "name": "stdout",
     "output_type": "stream",
     "text": [
      "rm -rf \"/home/yuncong/CSHL_patch_scores/MD661/MD662&661-F57-2017.06.06-02.06.22_MD661_3_0171_prep2_gray/detector8/MD662&661-F57-2017.06.06-02.06.22_MD661_3_0171_prep2_gray_detector8_LC_sparseScores.bp\" && mkdir -p \"/home/yuncong/CSHL_patch_scores/MD661/MD662&661-F57-2017.06.06-02.06.22_MD661_3_0171_prep2_gray/detector8\"\n",
      "aws s3 cp \"s3://mousebrainatlas-data/CSHL_patch_scores/MD661/MD662&661-F57-2017.06.06-02.06.22_MD661_3_0171_prep2_gray/detector8/MD662&661-F57-2017.06.06-02.06.22_MD661_3_0171_prep2_gray_detector8_LC_sparseScores.bp\" \"/home/yuncong/CSHL_patch_scores/MD661/MD662&661-F57-2017.06.06-02.06.22_MD661_3_0171_prep2_gray/detector8/MD662&661-F57-2017.06.06-02.06.22_MD661_3_0171_prep2_gray_detector8_LC_sparseScores.bp\"\n"
     ]
    },
    {
     "name": "stderr",
     "output_type": "stream",
     "text": [
      "File does not exist: /home/yuncong/CSHL_patch_scores/MD661/MD662&661-F58-2017.06.06-02.35.45_MD661_2_0173_prep2_gray/detector8/MD662&661-F58-2017.06.06-02.35.45_MD661_2_0173_prep2_gray_detector8_LC_sparseScores.bp\n",
      "Error loading sparse scores for LC: [Errno 2] No such file or directory: '/home/yuncong/CSHL_patch_scores/MD661/MD662&661-F58-2017.06.06-02.35.45_MD661_2_0173_prep2_gray/detector8/MD662&661-F58-2017.06.06-02.35.45_MD661_2_0173_prep2_gray_detector8_LC_sparseScores.bp'\n"
     ]
    },
    {
     "name": "stdout",
     "output_type": "stream",
     "text": [
      "rm -rf \"/home/yuncong/CSHL_patch_scores/MD661/MD662&661-F58-2017.06.06-02.35.45_MD661_2_0173_prep2_gray/detector8/MD662&661-F58-2017.06.06-02.35.45_MD661_2_0173_prep2_gray_detector8_LRt_sparseScores.bp\" && mkdir -p \"/home/yuncong/CSHL_patch_scores/MD661/MD662&661-F58-2017.06.06-02.35.45_MD661_2_0173_prep2_gray/detector8\"\n",
      "aws s3 cp \"s3://mousebrainatlas-data/CSHL_patch_scores/MD661/MD662&661-F58-2017.06.06-02.35.45_MD661_2_0173_prep2_gray/detector8/MD662&661-F58-2017.06.06-02.35.45_MD661_2_0173_prep2_gray_detector8_LRt_sparseScores.bp\" \"/home/yuncong/CSHL_patch_scores/MD661/MD662&661-F58-2017.06.06-02.35.45_MD661_2_0173_prep2_gray/detector8/MD662&661-F58-2017.06.06-02.35.45_MD661_2_0173_prep2_gray_detector8_LRt_sparseScores.bp\"\n"
     ]
    },
    {
     "name": "stderr",
     "output_type": "stream",
     "text": [
      "File does not exist: /home/yuncong/CSHL_patch_scores/MD661/MD662&661-F58-2017.06.06-02.35.45_MD661_1_0172_prep2_gray/detector8/MD662&661-F58-2017.06.06-02.35.45_MD661_1_0172_prep2_gray_detector8_LC_sparseScores.bp\n",
      "Error loading sparse scores for LC: [Errno 2] No such file or directory: '/home/yuncong/CSHL_patch_scores/MD661/MD662&661-F58-2017.06.06-02.35.45_MD661_1_0172_prep2_gray/detector8/MD662&661-F58-2017.06.06-02.35.45_MD661_1_0172_prep2_gray_detector8_LC_sparseScores.bp'\n"
     ]
    },
    {
     "name": "stdout",
     "output_type": "stream",
     "text": [
      "rm -rf \"/home/yuncong/CSHL_patch_scores/MD661/MD662&661-F58-2017.06.06-02.35.45_MD661_1_0172_prep2_gray/detector8/MD662&661-F58-2017.06.06-02.35.45_MD661_1_0172_prep2_gray_detector8_LRt_sparseScores.bp\" && mkdir -p \"/home/yuncong/CSHL_patch_scores/MD661/MD662&661-F58-2017.06.06-02.35.45_MD661_1_0172_prep2_gray/detector8\"\n",
      "aws s3 cp \"s3://mousebrainatlas-data/CSHL_patch_scores/MD661/MD662&661-F58-2017.06.06-02.35.45_MD661_1_0172_prep2_gray/detector8/MD662&661-F58-2017.06.06-02.35.45_MD661_1_0172_prep2_gray_detector8_LRt_sparseScores.bp\" \"/home/yuncong/CSHL_patch_scores/MD661/MD662&661-F58-2017.06.06-02.35.45_MD661_1_0172_prep2_gray/detector8/MD662&661-F58-2017.06.06-02.35.45_MD661_1_0172_prep2_gray_detector8_LRt_sparseScores.bp\"\n"
     ]
    },
    {
     "name": "stderr",
     "output_type": "stream",
     "text": [
      "File does not exist: /home/yuncong/CSHL_patch_scores/MD661/MD662&661-F57-2017.06.06-02.06.22_MD661_3_0171_prep2_gray/detector8/MD662&661-F57-2017.06.06-02.06.22_MD661_3_0171_prep2_gray_detector8_LC_sparseScores.bp\n",
      "Error loading sparse scores for LC: [Errno 2] No such file or directory: '/home/yuncong/CSHL_patch_scores/MD661/MD662&661-F57-2017.06.06-02.06.22_MD661_3_0171_prep2_gray/detector8/MD662&661-F57-2017.06.06-02.06.22_MD661_3_0171_prep2_gray_detector8_LC_sparseScores.bp'\n"
     ]
    },
    {
     "name": "stdout",
     "output_type": "stream",
     "text": [
      "rm -rf \"/home/yuncong/CSHL_patch_scores/MD661/MD662&661-F57-2017.06.06-02.06.22_MD661_3_0171_prep2_gray/detector8/MD662&661-F57-2017.06.06-02.06.22_MD661_3_0171_prep2_gray_detector8_LRt_sparseScores.bp\" && mkdir -p \"/home/yuncong/CSHL_patch_scores/MD661/MD662&661-F57-2017.06.06-02.06.22_MD661_3_0171_prep2_gray/detector8\"\n",
      "aws s3 cp \"s3://mousebrainatlas-data/CSHL_patch_scores/MD661/MD662&661-F57-2017.06.06-02.06.22_MD661_3_0171_prep2_gray/detector8/MD662&661-F57-2017.06.06-02.06.22_MD661_3_0171_prep2_gray_detector8_LRt_sparseScores.bp\" \"/home/yuncong/CSHL_patch_scores/MD661/MD662&661-F57-2017.06.06-02.06.22_MD661_3_0171_prep2_gray/detector8/MD662&661-F57-2017.06.06-02.06.22_MD661_3_0171_prep2_gray_detector8_LRt_sparseScores.bp\"\n"
     ]
    },
    {
     "name": "stderr",
     "output_type": "stream",
     "text": [
      "File does not exist: /home/yuncong/CSHL_patch_scores/MD661/MD662&661-F58-2017.06.06-02.35.45_MD661_2_0173_prep2_gray/detector8/MD662&661-F58-2017.06.06-02.35.45_MD661_2_0173_prep2_gray_detector8_LRt_sparseScores.bp\n",
      "Error loading sparse scores for LRt: [Errno 2] No such file or directory: '/home/yuncong/CSHL_patch_scores/MD661/MD662&661-F58-2017.06.06-02.35.45_MD661_2_0173_prep2_gray/detector8/MD662&661-F58-2017.06.06-02.35.45_MD661_2_0173_prep2_gray_detector8_LRt_sparseScores.bp'\n"
     ]
    },
    {
     "name": "stdout",
     "output_type": "stream",
     "text": [
      "rm -rf \"/home/yuncong/CSHL_patch_scores/MD661/MD662&661-F58-2017.06.06-02.35.45_MD661_2_0173_prep2_gray/detector8/MD662&661-F58-2017.06.06-02.35.45_MD661_2_0173_prep2_gray_detector8_PBG_sparseScores.bp\" && mkdir -p \"/home/yuncong/CSHL_patch_scores/MD661/MD662&661-F58-2017.06.06-02.35.45_MD661_2_0173_prep2_gray/detector8\"\n",
      "aws s3 cp \"s3://mousebrainatlas-data/CSHL_patch_scores/MD661/MD662&661-F58-2017.06.06-02.35.45_MD661_2_0173_prep2_gray/detector8/MD662&661-F58-2017.06.06-02.35.45_MD661_2_0173_prep2_gray_detector8_PBG_sparseScores.bp\" \"/home/yuncong/CSHL_patch_scores/MD661/MD662&661-F58-2017.06.06-02.35.45_MD661_2_0173_prep2_gray/detector8/MD662&661-F58-2017.06.06-02.35.45_MD661_2_0173_prep2_gray_detector8_PBG_sparseScores.bp\"\n"
     ]
    },
    {
     "name": "stderr",
     "output_type": "stream",
     "text": [
      "File does not exist: /home/yuncong/CSHL_patch_scores/MD661/MD662&661-F58-2017.06.06-02.35.45_MD661_1_0172_prep2_gray/detector8/MD662&661-F58-2017.06.06-02.35.45_MD661_1_0172_prep2_gray_detector8_LRt_sparseScores.bp\n",
      "Error loading sparse scores for LRt: [Errno 2] No such file or directory: '/home/yuncong/CSHL_patch_scores/MD661/MD662&661-F58-2017.06.06-02.35.45_MD661_1_0172_prep2_gray/detector8/MD662&661-F58-2017.06.06-02.35.45_MD661_1_0172_prep2_gray_detector8_LRt_sparseScores.bp'\n"
     ]
    },
    {
     "name": "stdout",
     "output_type": "stream",
     "text": [
      "rm -rf \"/home/yuncong/CSHL_patch_scores/MD661/MD662&661-F58-2017.06.06-02.35.45_MD661_1_0172_prep2_gray/detector8/MD662&661-F58-2017.06.06-02.35.45_MD661_1_0172_prep2_gray_detector8_PBG_sparseScores.bp\" && mkdir -p \"/home/yuncong/CSHL_patch_scores/MD661/MD662&661-F58-2017.06.06-02.35.45_MD661_1_0172_prep2_gray/detector8\"\n",
      "aws s3 cp \"s3://mousebrainatlas-data/CSHL_patch_scores/MD661/MD662&661-F58-2017.06.06-02.35.45_MD661_1_0172_prep2_gray/detector8/MD662&661-F58-2017.06.06-02.35.45_MD661_1_0172_prep2_gray_detector8_PBG_sparseScores.bp\" \"/home/yuncong/CSHL_patch_scores/MD661/MD662&661-F58-2017.06.06-02.35.45_MD661_1_0172_prep2_gray/detector8/MD662&661-F58-2017.06.06-02.35.45_MD661_1_0172_prep2_gray_detector8_PBG_sparseScores.bp\"\n"
     ]
    },
    {
     "name": "stderr",
     "output_type": "stream",
     "text": [
      "File does not exist: /home/yuncong/CSHL_patch_scores/MD661/MD662&661-F57-2017.06.06-02.06.22_MD661_3_0171_prep2_gray/detector8/MD662&661-F57-2017.06.06-02.06.22_MD661_3_0171_prep2_gray_detector8_LRt_sparseScores.bp\n",
      "Error loading sparse scores for LRt: [Errno 2] No such file or directory: '/home/yuncong/CSHL_patch_scores/MD661/MD662&661-F57-2017.06.06-02.06.22_MD661_3_0171_prep2_gray/detector8/MD662&661-F57-2017.06.06-02.06.22_MD661_3_0171_prep2_gray_detector8_LRt_sparseScores.bp'\n"
     ]
    },
    {
     "name": "stdout",
     "output_type": "stream",
     "text": [
      "rm -rf \"/home/yuncong/CSHL_patch_scores/MD661/MD662&661-F57-2017.06.06-02.06.22_MD661_3_0171_prep2_gray/detector8/MD662&661-F57-2017.06.06-02.06.22_MD661_3_0171_prep2_gray_detector8_PBG_sparseScores.bp\" && mkdir -p \"/home/yuncong/CSHL_patch_scores/MD661/MD662&661-F57-2017.06.06-02.06.22_MD661_3_0171_prep2_gray/detector8\"\n",
      "aws s3 cp \"s3://mousebrainatlas-data/CSHL_patch_scores/MD661/MD662&661-F57-2017.06.06-02.06.22_MD661_3_0171_prep2_gray/detector8/MD662&661-F57-2017.06.06-02.06.22_MD661_3_0171_prep2_gray_detector8_PBG_sparseScores.bp\" \"/home/yuncong/CSHL_patch_scores/MD661/MD662&661-F57-2017.06.06-02.06.22_MD661_3_0171_prep2_gray/detector8/MD662&661-F57-2017.06.06-02.06.22_MD661_3_0171_prep2_gray_detector8_PBG_sparseScores.bp\"\n"
     ]
    },
    {
     "name": "stderr",
     "output_type": "stream",
     "text": [
      "File does not exist: /home/yuncong/CSHL_patch_scores/MD661/MD662&661-F58-2017.06.06-02.35.45_MD661_2_0173_prep2_gray/detector8/MD662&661-F58-2017.06.06-02.35.45_MD661_2_0173_prep2_gray_detector8_PBG_sparseScores.bp\n",
      "Error loading sparse scores for PBG: [Errno 2] No such file or directory: '/home/yuncong/CSHL_patch_scores/MD661/MD662&661-F58-2017.06.06-02.35.45_MD661_2_0173_prep2_gray/detector8/MD662&661-F58-2017.06.06-02.35.45_MD661_2_0173_prep2_gray_detector8_PBG_sparseScores.bp'\n"
     ]
    },
    {
     "name": "stdout",
     "output_type": "stream",
     "text": [
      "rm -rf \"/home/yuncong/CSHL_patch_scores/MD661/MD662&661-F58-2017.06.06-02.35.45_MD661_2_0173_prep2_gray/detector8/MD662&661-F58-2017.06.06-02.35.45_MD661_2_0173_prep2_gray_detector8_Pn_sparseScores.bp\" && mkdir -p \"/home/yuncong/CSHL_patch_scores/MD661/MD662&661-F58-2017.06.06-02.35.45_MD661_2_0173_prep2_gray/detector8\"\n",
      "aws s3 cp \"s3://mousebrainatlas-data/CSHL_patch_scores/MD661/MD662&661-F58-2017.06.06-02.35.45_MD661_2_0173_prep2_gray/detector8/MD662&661-F58-2017.06.06-02.35.45_MD661_2_0173_prep2_gray_detector8_Pn_sparseScores.bp\" \"/home/yuncong/CSHL_patch_scores/MD661/MD662&661-F58-2017.06.06-02.35.45_MD661_2_0173_prep2_gray/detector8/MD662&661-F58-2017.06.06-02.35.45_MD661_2_0173_prep2_gray_detector8_Pn_sparseScores.bp\"\n"
     ]
    },
    {
     "name": "stderr",
     "output_type": "stream",
     "text": [
      "File does not exist: /home/yuncong/CSHL_patch_scores/MD661/MD662&661-F58-2017.06.06-02.35.45_MD661_1_0172_prep2_gray/detector8/MD662&661-F58-2017.06.06-02.35.45_MD661_1_0172_prep2_gray_detector8_PBG_sparseScores.bp\n",
      "Error loading sparse scores for PBG: [Errno 2] No such file or directory: '/home/yuncong/CSHL_patch_scores/MD661/MD662&661-F58-2017.06.06-02.35.45_MD661_1_0172_prep2_gray/detector8/MD662&661-F58-2017.06.06-02.35.45_MD661_1_0172_prep2_gray_detector8_PBG_sparseScores.bp'\n"
     ]
    },
    {
     "name": "stdout",
     "output_type": "stream",
     "text": [
      "rm -rf \"/home/yuncong/CSHL_patch_scores/MD661/MD662&661-F58-2017.06.06-02.35.45_MD661_1_0172_prep2_gray/detector8/MD662&661-F58-2017.06.06-02.35.45_MD661_1_0172_prep2_gray_detector8_Pn_sparseScores.bp\" && mkdir -p \"/home/yuncong/CSHL_patch_scores/MD661/MD662&661-F58-2017.06.06-02.35.45_MD661_1_0172_prep2_gray/detector8\"\n"
     ]
    },
    {
     "name": "stderr",
     "output_type": "stream",
     "text": [
      "File does not exist: /home/yuncong/CSHL_patch_scores/MD661/MD662&661-F57-2017.06.06-02.06.22_MD661_3_0171_prep2_gray/detector8/MD662&661-F57-2017.06.06-02.06.22_MD661_3_0171_prep2_gray_detector8_PBG_sparseScores.bp\n",
      "Error loading sparse scores for PBG: [Errno 2] No such file or directory: '/home/yuncong/CSHL_patch_scores/MD661/MD662&661-F57-2017.06.06-02.06.22_MD661_3_0171_prep2_gray/detector8/MD662&661-F57-2017.06.06-02.06.22_MD661_3_0171_prep2_gray_detector8_PBG_sparseScores.bp'\n"
     ]
    },
    {
     "name": "stdout",
     "output_type": "stream",
     "text": [
      "rm -rf \"/home/yuncong/CSHL_patch_scores/MD661/MD662&661-F57-2017.06.06-02.06.22_MD661_3_0171_prep2_gray/detector8/MD662&661-F57-2017.06.06-02.06.22_MD661_3_0171_prep2_gray_detector8_Pn_sparseScores.bp\" && mkdir -p \"/home/yuncong/CSHL_patch_scores/MD661/MD662&661-F57-2017.06.06-02.06.22_MD661_3_0171_prep2_gray/detector8\"\n",
      "aws s3 cp \"s3://mousebrainatlas-data/CSHL_patch_scores/MD661/MD662&661-F58-2017.06.06-02.35.45_MD661_1_0172_prep2_gray/detector8/MD662&661-F58-2017.06.06-02.35.45_MD661_1_0172_prep2_gray_detector8_Pn_sparseScores.bp\" \"/home/yuncong/CSHL_patch_scores/MD661/MD662&661-F58-2017.06.06-02.35.45_MD661_1_0172_prep2_gray/detector8/MD662&661-F58-2017.06.06-02.35.45_MD661_1_0172_prep2_gray_detector8_Pn_sparseScores.bp\"\n",
      "aws s3 cp \"s3://mousebrainatlas-data/CSHL_patch_scores/MD661/MD662&661-F57-2017.06.06-02.06.22_MD661_3_0171_prep2_gray/detector8/MD662&661-F57-2017.06.06-02.06.22_MD661_3_0171_prep2_gray_detector8_Pn_sparseScores.bp\" \"/home/yuncong/CSHL_patch_scores/MD661/MD662&661-F57-2017.06.06-02.06.22_MD661_3_0171_prep2_gray/detector8/MD662&661-F57-2017.06.06-02.06.22_MD661_3_0171_prep2_gray_detector8_Pn_sparseScores.bp\"\n"
     ]
    },
    {
     "name": "stderr",
     "output_type": "stream",
     "text": [
      "File does not exist: /home/yuncong/CSHL_patch_scores/MD661/MD662&661-F58-2017.06.06-02.35.45_MD661_2_0173_prep2_gray/detector8/MD662&661-F58-2017.06.06-02.35.45_MD661_2_0173_prep2_gray_detector8_Pn_sparseScores.bp\n",
      "Error loading sparse scores for Pn: [Errno 2] No such file or directory: '/home/yuncong/CSHL_patch_scores/MD661/MD662&661-F58-2017.06.06-02.35.45_MD661_2_0173_prep2_gray/detector8/MD662&661-F58-2017.06.06-02.35.45_MD661_2_0173_prep2_gray_detector8_Pn_sparseScores.bp'\n"
     ]
    },
    {
     "name": "stdout",
     "output_type": "stream",
     "text": [
      "rm -rf \"/home/yuncong/CSHL_patch_scores/MD661/MD662&661-F58-2017.06.06-02.35.45_MD661_2_0173_prep2_gray/detector8/MD662&661-F58-2017.06.06-02.35.45_MD661_2_0173_prep2_gray_detector8_RMC_sparseScores.bp\" && mkdir -p \"/home/yuncong/CSHL_patch_scores/MD661/MD662&661-F58-2017.06.06-02.35.45_MD661_2_0173_prep2_gray/detector8\"\n",
      "aws s3 cp \"s3://mousebrainatlas-data/CSHL_patch_scores/MD661/MD662&661-F58-2017.06.06-02.35.45_MD661_2_0173_prep2_gray/detector8/MD662&661-F58-2017.06.06-02.35.45_MD661_2_0173_prep2_gray_detector8_RMC_sparseScores.bp\" \"/home/yuncong/CSHL_patch_scores/MD661/MD662&661-F58-2017.06.06-02.35.45_MD661_2_0173_prep2_gray/detector8/MD662&661-F58-2017.06.06-02.35.45_MD661_2_0173_prep2_gray_detector8_RMC_sparseScores.bp\"\n"
     ]
    },
    {
     "name": "stderr",
     "output_type": "stream",
     "text": [
      "File does not exist: /home/yuncong/CSHL_patch_scores/MD661/MD662&661-F57-2017.06.06-02.06.22_MD661_3_0171_prep2_gray/detector8/MD662&661-F57-2017.06.06-02.06.22_MD661_3_0171_prep2_gray_detector8_Pn_sparseScores.bp\n",
      "Error loading sparse scores for Pn: [Errno 2] No such file or directory: '/home/yuncong/CSHL_patch_scores/MD661/MD662&661-F57-2017.06.06-02.06.22_MD661_3_0171_prep2_gray/detector8/MD662&661-F57-2017.06.06-02.06.22_MD661_3_0171_prep2_gray_detector8_Pn_sparseScores.bp'\n"
     ]
    },
    {
     "name": "stdout",
     "output_type": "stream",
     "text": [
      "rm -rf \"/home/yuncong/CSHL_patch_scores/MD661/MD662&661-F57-2017.06.06-02.06.22_MD661_3_0171_prep2_gray/detector8/MD662&661-F57-2017.06.06-02.06.22_MD661_3_0171_prep2_gray_detector8_RMC_sparseScores.bp\" && mkdir -p \"/home/yuncong/CSHL_patch_scores/MD661/MD662&661-F57-2017.06.06-02.06.22_MD661_3_0171_prep2_gray/detector8\"\n",
      "aws s3 cp \"s3://mousebrainatlas-data/CSHL_patch_scores/MD661/MD662&661-F57-2017.06.06-02.06.22_MD661_3_0171_prep2_gray/detector8/MD662&661-F57-2017.06.06-02.06.22_MD661_3_0171_prep2_gray_detector8_RMC_sparseScores.bp\" \"/home/yuncong/CSHL_patch_scores/MD661/MD662&661-F57-2017.06.06-02.06.22_MD661_3_0171_prep2_gray/detector8/MD662&661-F57-2017.06.06-02.06.22_MD661_3_0171_prep2_gray_detector8_RMC_sparseScores.bp\"\n"
     ]
    },
    {
     "name": "stderr",
     "output_type": "stream",
     "text": [
      "File does not exist: /home/yuncong/CSHL_patch_scores/MD661/MD662&661-F58-2017.06.06-02.35.45_MD661_1_0172_prep2_gray/detector8/MD662&661-F58-2017.06.06-02.35.45_MD661_1_0172_prep2_gray_detector8_Pn_sparseScores.bp\n",
      "Error loading sparse scores for Pn: [Errno 2] No such file or directory: '/home/yuncong/CSHL_patch_scores/MD661/MD662&661-F58-2017.06.06-02.35.45_MD661_1_0172_prep2_gray/detector8/MD662&661-F58-2017.06.06-02.35.45_MD661_1_0172_prep2_gray_detector8_Pn_sparseScores.bp'\n"
     ]
    },
    {
     "name": "stdout",
     "output_type": "stream",
     "text": [
      "rm -rf \"/home/yuncong/CSHL_patch_scores/MD661/MD662&661-F58-2017.06.06-02.35.45_MD661_1_0172_prep2_gray/detector8/MD662&661-F58-2017.06.06-02.35.45_MD661_1_0172_prep2_gray_detector8_RMC_sparseScores.bp\" && mkdir -p \"/home/yuncong/CSHL_patch_scores/MD661/MD662&661-F58-2017.06.06-02.35.45_MD661_1_0172_prep2_gray/detector8\"\n",
      "aws s3 cp \"s3://mousebrainatlas-data/CSHL_patch_scores/MD661/MD662&661-F58-2017.06.06-02.35.45_MD661_1_0172_prep2_gray/detector8/MD662&661-F58-2017.06.06-02.35.45_MD661_1_0172_prep2_gray_detector8_RMC_sparseScores.bp\" \"/home/yuncong/CSHL_patch_scores/MD661/MD662&661-F58-2017.06.06-02.35.45_MD661_1_0172_prep2_gray/detector8/MD662&661-F58-2017.06.06-02.35.45_MD661_1_0172_prep2_gray_detector8_RMC_sparseScores.bp\"\n"
     ]
    },
    {
     "name": "stderr",
     "output_type": "stream",
     "text": [
      "File does not exist: /home/yuncong/CSHL_patch_scores/MD661/MD662&661-F58-2017.06.06-02.35.45_MD661_2_0173_prep2_gray/detector8/MD662&661-F58-2017.06.06-02.35.45_MD661_2_0173_prep2_gray_detector8_RMC_sparseScores.bp\n",
      "Error loading sparse scores for RMC: [Errno 2] No such file or directory: '/home/yuncong/CSHL_patch_scores/MD661/MD662&661-F58-2017.06.06-02.35.45_MD661_2_0173_prep2_gray/detector8/MD662&661-F58-2017.06.06-02.35.45_MD661_2_0173_prep2_gray_detector8_RMC_sparseScores.bp'\n"
     ]
    },
    {
     "name": "stdout",
     "output_type": "stream",
     "text": [
      "rm -rf \"/home/yuncong/CSHL_patch_scores/MD661/MD662&661-F58-2017.06.06-02.35.45_MD661_2_0173_prep2_gray/detector8/MD662&661-F58-2017.06.06-02.35.45_MD661_2_0173_prep2_gray_detector8_RtTg_sparseScores.bp\" && mkdir -p \"/home/yuncong/CSHL_patch_scores/MD661/MD662&661-F58-2017.06.06-02.35.45_MD661_2_0173_prep2_gray/detector8\"\n",
      "aws s3 cp \"s3://mousebrainatlas-data/CSHL_patch_scores/MD661/MD662&661-F58-2017.06.06-02.35.45_MD661_2_0173_prep2_gray/detector8/MD662&661-F58-2017.06.06-02.35.45_MD661_2_0173_prep2_gray_detector8_RtTg_sparseScores.bp\" \"/home/yuncong/CSHL_patch_scores/MD661/MD662&661-F58-2017.06.06-02.35.45_MD661_2_0173_prep2_gray/detector8/MD662&661-F58-2017.06.06-02.35.45_MD661_2_0173_prep2_gray_detector8_RtTg_sparseScores.bp\"\n"
     ]
    },
    {
     "name": "stderr",
     "output_type": "stream",
     "text": [
      "File does not exist: /home/yuncong/CSHL_patch_scores/MD661/MD662&661-F57-2017.06.06-02.06.22_MD661_3_0171_prep2_gray/detector8/MD662&661-F57-2017.06.06-02.06.22_MD661_3_0171_prep2_gray_detector8_RMC_sparseScores.bp\n",
      "Error loading sparse scores for RMC: [Errno 2] No such file or directory: '/home/yuncong/CSHL_patch_scores/MD661/MD662&661-F57-2017.06.06-02.06.22_MD661_3_0171_prep2_gray/detector8/MD662&661-F57-2017.06.06-02.06.22_MD661_3_0171_prep2_gray_detector8_RMC_sparseScores.bp'\n"
     ]
    },
    {
     "name": "stdout",
     "output_type": "stream",
     "text": [
      "rm -rf \"/home/yuncong/CSHL_patch_scores/MD661/MD662&661-F57-2017.06.06-02.06.22_MD661_3_0171_prep2_gray/detector8/MD662&661-F57-2017.06.06-02.06.22_MD661_3_0171_prep2_gray_detector8_RtTg_sparseScores.bp\" && mkdir -p \"/home/yuncong/CSHL_patch_scores/MD661/MD662&661-F57-2017.06.06-02.06.22_MD661_3_0171_prep2_gray/detector8\"\n",
      "aws s3 cp \"s3://mousebrainatlas-data/CSHL_patch_scores/MD661/MD662&661-F57-2017.06.06-02.06.22_MD661_3_0171_prep2_gray/detector8/MD662&661-F57-2017.06.06-02.06.22_MD661_3_0171_prep2_gray_detector8_RtTg_sparseScores.bp\" \"/home/yuncong/CSHL_patch_scores/MD661/MD662&661-F57-2017.06.06-02.06.22_MD661_3_0171_prep2_gray/detector8/MD662&661-F57-2017.06.06-02.06.22_MD661_3_0171_prep2_gray_detector8_RtTg_sparseScores.bp\"\n"
     ]
    },
    {
     "name": "stderr",
     "output_type": "stream",
     "text": [
      "File does not exist: /home/yuncong/CSHL_patch_scores/MD661/MD662&661-F58-2017.06.06-02.35.45_MD661_1_0172_prep2_gray/detector8/MD662&661-F58-2017.06.06-02.35.45_MD661_1_0172_prep2_gray_detector8_RMC_sparseScores.bp\n",
      "Error loading sparse scores for RMC: [Errno 2] No such file or directory: '/home/yuncong/CSHL_patch_scores/MD661/MD662&661-F58-2017.06.06-02.35.45_MD661_1_0172_prep2_gray/detector8/MD662&661-F58-2017.06.06-02.35.45_MD661_1_0172_prep2_gray_detector8_RMC_sparseScores.bp'\n"
     ]
    },
    {
     "name": "stdout",
     "output_type": "stream",
     "text": [
      "rm -rf \"/home/yuncong/CSHL_patch_scores/MD661/MD662&661-F58-2017.06.06-02.35.45_MD661_1_0172_prep2_gray/detector8/MD662&661-F58-2017.06.06-02.35.45_MD661_1_0172_prep2_gray_detector8_RtTg_sparseScores.bp\" && mkdir -p \"/home/yuncong/CSHL_patch_scores/MD661/MD662&661-F58-2017.06.06-02.35.45_MD661_1_0172_prep2_gray/detector8\"\n",
      "aws s3 cp \"s3://mousebrainatlas-data/CSHL_patch_scores/MD661/MD662&661-F58-2017.06.06-02.35.45_MD661_1_0172_prep2_gray/detector8/MD662&661-F58-2017.06.06-02.35.45_MD661_1_0172_prep2_gray_detector8_RtTg_sparseScores.bp\" \"/home/yuncong/CSHL_patch_scores/MD661/MD662&661-F58-2017.06.06-02.35.45_MD661_1_0172_prep2_gray/detector8/MD662&661-F58-2017.06.06-02.35.45_MD661_1_0172_prep2_gray_detector8_RtTg_sparseScores.bp\"\n"
     ]
    },
    {
     "name": "stderr",
     "output_type": "stream",
     "text": [
      "File does not exist: /home/yuncong/CSHL_patch_scores/MD661/MD662&661-F58-2017.06.06-02.35.45_MD661_2_0173_prep2_gray/detector8/MD662&661-F58-2017.06.06-02.35.45_MD661_2_0173_prep2_gray_detector8_RtTg_sparseScores.bp\n",
      "Error loading sparse scores for RtTg: [Errno 2] No such file or directory: '/home/yuncong/CSHL_patch_scores/MD661/MD662&661-F58-2017.06.06-02.35.45_MD661_2_0173_prep2_gray/detector8/MD662&661-F58-2017.06.06-02.35.45_MD661_2_0173_prep2_gray_detector8_RtTg_sparseScores.bp'\n"
     ]
    },
    {
     "name": "stdout",
     "output_type": "stream",
     "text": [
      "rm -rf \"/home/yuncong/CSHL_patch_scores/MD661/MD662&661-F58-2017.06.06-02.35.45_MD661_2_0173_prep2_gray/detector8/MD662&661-F58-2017.06.06-02.35.45_MD661_2_0173_prep2_gray_detector8_SC_sparseScores.bp\" && mkdir -p \"/home/yuncong/CSHL_patch_scores/MD661/MD662&661-F58-2017.06.06-02.35.45_MD661_2_0173_prep2_gray/detector8\"\n",
      "aws s3 cp \"s3://mousebrainatlas-data/CSHL_patch_scores/MD661/MD662&661-F58-2017.06.06-02.35.45_MD661_2_0173_prep2_gray/detector8/MD662&661-F58-2017.06.06-02.35.45_MD661_2_0173_prep2_gray_detector8_SC_sparseScores.bp\" \"/home/yuncong/CSHL_patch_scores/MD661/MD662&661-F58-2017.06.06-02.35.45_MD661_2_0173_prep2_gray/detector8/MD662&661-F58-2017.06.06-02.35.45_MD661_2_0173_prep2_gray_detector8_SC_sparseScores.bp\"\n"
     ]
    },
    {
     "name": "stderr",
     "output_type": "stream",
     "text": [
      "File does not exist: /home/yuncong/CSHL_patch_scores/MD661/MD662&661-F57-2017.06.06-02.06.22_MD661_3_0171_prep2_gray/detector8/MD662&661-F57-2017.06.06-02.06.22_MD661_3_0171_prep2_gray_detector8_RtTg_sparseScores.bp\n",
      "Error loading sparse scores for RtTg: [Errno 2] No such file or directory: '/home/yuncong/CSHL_patch_scores/MD661/MD662&661-F57-2017.06.06-02.06.22_MD661_3_0171_prep2_gray/detector8/MD662&661-F57-2017.06.06-02.06.22_MD661_3_0171_prep2_gray_detector8_RtTg_sparseScores.bp'\n"
     ]
    },
    {
     "name": "stdout",
     "output_type": "stream",
     "text": [
      "rm -rf \"/home/yuncong/CSHL_patch_scores/MD661/MD662&661-F57-2017.06.06-02.06.22_MD661_3_0171_prep2_gray/detector8/MD662&661-F57-2017.06.06-02.06.22_MD661_3_0171_prep2_gray_detector8_SC_sparseScores.bp\" && mkdir -p \"/home/yuncong/CSHL_patch_scores/MD661/MD662&661-F57-2017.06.06-02.06.22_MD661_3_0171_prep2_gray/detector8\"\n",
      "aws s3 cp \"s3://mousebrainatlas-data/CSHL_patch_scores/MD661/MD662&661-F57-2017.06.06-02.06.22_MD661_3_0171_prep2_gray/detector8/MD662&661-F57-2017.06.06-02.06.22_MD661_3_0171_prep2_gray_detector8_SC_sparseScores.bp\" \"/home/yuncong/CSHL_patch_scores/MD661/MD662&661-F57-2017.06.06-02.06.22_MD661_3_0171_prep2_gray/detector8/MD662&661-F57-2017.06.06-02.06.22_MD661_3_0171_prep2_gray_detector8_SC_sparseScores.bp\"\n"
     ]
    },
    {
     "name": "stderr",
     "output_type": "stream",
     "text": [
      "File does not exist: /home/yuncong/CSHL_patch_scores/MD661/MD662&661-F58-2017.06.06-02.35.45_MD661_1_0172_prep2_gray/detector8/MD662&661-F58-2017.06.06-02.35.45_MD661_1_0172_prep2_gray_detector8_RtTg_sparseScores.bp\n",
      "Error loading sparse scores for RtTg: [Errno 2] No such file or directory: '/home/yuncong/CSHL_patch_scores/MD661/MD662&661-F58-2017.06.06-02.35.45_MD661_1_0172_prep2_gray/detector8/MD662&661-F58-2017.06.06-02.35.45_MD661_1_0172_prep2_gray_detector8_RtTg_sparseScores.bp'\n"
     ]
    },
    {
     "name": "stdout",
     "output_type": "stream",
     "text": [
      "rm -rf \"/home/yuncong/CSHL_patch_scores/MD661/MD662&661-F58-2017.06.06-02.35.45_MD661_1_0172_prep2_gray/detector8/MD662&661-F58-2017.06.06-02.35.45_MD661_1_0172_prep2_gray_detector8_SC_sparseScores.bp\" && mkdir -p \"/home/yuncong/CSHL_patch_scores/MD661/MD662&661-F58-2017.06.06-02.35.45_MD661_1_0172_prep2_gray/detector8\"\n",
      "aws s3 cp \"s3://mousebrainatlas-data/CSHL_patch_scores/MD661/MD662&661-F58-2017.06.06-02.35.45_MD661_1_0172_prep2_gray/detector8/MD662&661-F58-2017.06.06-02.35.45_MD661_1_0172_prep2_gray_detector8_SC_sparseScores.bp\" \"/home/yuncong/CSHL_patch_scores/MD661/MD662&661-F58-2017.06.06-02.35.45_MD661_1_0172_prep2_gray/detector8/MD662&661-F58-2017.06.06-02.35.45_MD661_1_0172_prep2_gray_detector8_SC_sparseScores.bp\"\n"
     ]
    },
    {
     "name": "stderr",
     "output_type": "stream",
     "text": [
      "File does not exist: /home/yuncong/CSHL_patch_scores/MD661/MD662&661-F58-2017.06.06-02.35.45_MD661_2_0173_prep2_gray/detector8/MD662&661-F58-2017.06.06-02.35.45_MD661_2_0173_prep2_gray_detector8_SC_sparseScores.bp\n",
      "Error loading sparse scores for SC: [Errno 2] No such file or directory: '/home/yuncong/CSHL_patch_scores/MD661/MD662&661-F58-2017.06.06-02.35.45_MD661_2_0173_prep2_gray/detector8/MD662&661-F58-2017.06.06-02.35.45_MD661_2_0173_prep2_gray_detector8_SC_sparseScores.bp'\n"
     ]
    },
    {
     "name": "stdout",
     "output_type": "stream",
     "text": [
      "rm -rf \"/home/yuncong/CSHL_patch_scores/MD661/MD662&661-F58-2017.06.06-02.35.45_MD661_2_0173_prep2_gray/detector8/MD662&661-F58-2017.06.06-02.35.45_MD661_2_0173_prep2_gray_detector8_SNC_sparseScores.bp\" && mkdir -p \"/home/yuncong/CSHL_patch_scores/MD661/MD662&661-F58-2017.06.06-02.35.45_MD661_2_0173_prep2_gray/detector8\"\n",
      "aws s3 cp \"s3://mousebrainatlas-data/CSHL_patch_scores/MD661/MD662&661-F58-2017.06.06-02.35.45_MD661_2_0173_prep2_gray/detector8/MD662&661-F58-2017.06.06-02.35.45_MD661_2_0173_prep2_gray_detector8_SNC_sparseScores.bp\" \"/home/yuncong/CSHL_patch_scores/MD661/MD662&661-F58-2017.06.06-02.35.45_MD661_2_0173_prep2_gray/detector8/MD662&661-F58-2017.06.06-02.35.45_MD661_2_0173_prep2_gray_detector8_SNC_sparseScores.bp\"\n"
     ]
    },
    {
     "name": "stderr",
     "output_type": "stream",
     "text": [
      "File does not exist: /home/yuncong/CSHL_patch_scores/MD661/MD662&661-F57-2017.06.06-02.06.22_MD661_3_0171_prep2_gray/detector8/MD662&661-F57-2017.06.06-02.06.22_MD661_3_0171_prep2_gray_detector8_SC_sparseScores.bp\n",
      "Error loading sparse scores for SC: [Errno 2] No such file or directory: '/home/yuncong/CSHL_patch_scores/MD661/MD662&661-F57-2017.06.06-02.06.22_MD661_3_0171_prep2_gray/detector8/MD662&661-F57-2017.06.06-02.06.22_MD661_3_0171_prep2_gray_detector8_SC_sparseScores.bp'\n"
     ]
    },
    {
     "name": "stdout",
     "output_type": "stream",
     "text": [
      "rm -rf \"/home/yuncong/CSHL_patch_scores/MD661/MD662&661-F57-2017.06.06-02.06.22_MD661_3_0171_prep2_gray/detector8/MD662&661-F57-2017.06.06-02.06.22_MD661_3_0171_prep2_gray_detector8_SNC_sparseScores.bp\" && mkdir -p \"/home/yuncong/CSHL_patch_scores/MD661/MD662&661-F57-2017.06.06-02.06.22_MD661_3_0171_prep2_gray/detector8\"\n"
     ]
    },
    {
     "name": "stderr",
     "output_type": "stream",
     "text": [
      "File does not exist: /home/yuncong/CSHL_patch_scores/MD661/MD662&661-F58-2017.06.06-02.35.45_MD661_1_0172_prep2_gray/detector8/MD662&661-F58-2017.06.06-02.35.45_MD661_1_0172_prep2_gray_detector8_SC_sparseScores.bp\n",
      "Error loading sparse scores for SC: [Errno 2] No such file or directory: '/home/yuncong/CSHL_patch_scores/MD661/MD662&661-F58-2017.06.06-02.35.45_MD661_1_0172_prep2_gray/detector8/MD662&661-F58-2017.06.06-02.35.45_MD661_1_0172_prep2_gray_detector8_SC_sparseScores.bp'\n"
     ]
    },
    {
     "name": "stdout",
     "output_type": "stream",
     "text": [
      "aws s3 cp \"s3://mousebrainatlas-data/CSHL_patch_scores/MD661/MD662&661-F57-2017.06.06-02.06.22_MD661_3_0171_prep2_gray/detector8/MD662&661-F57-2017.06.06-02.06.22_MD661_3_0171_prep2_gray_detector8_SNC_sparseScores.bp\" \"/home/yuncong/CSHL_patch_scores/MD661/MD662&661-F57-2017.06.06-02.06.22_MD661_3_0171_prep2_gray/detector8/MD662&661-F57-2017.06.06-02.06.22_MD661_3_0171_prep2_gray_detector8_SNC_sparseScores.bp\"\n",
      "rm -rf \"/home/yuncong/CSHL_patch_scores/MD661/MD662&661-F58-2017.06.06-02.35.45_MD661_1_0172_prep2_gray/detector8/MD662&661-F58-2017.06.06-02.35.45_MD661_1_0172_prep2_gray_detector8_SNC_sparseScores.bp\" && mkdir -p \"/home/yuncong/CSHL_patch_scores/MD661/MD662&661-F58-2017.06.06-02.35.45_MD661_1_0172_prep2_gray/detector8\"\n",
      "aws s3 cp \"s3://mousebrainatlas-data/CSHL_patch_scores/MD661/MD662&661-F58-2017.06.06-02.35.45_MD661_1_0172_prep2_gray/detector8/MD662&661-F58-2017.06.06-02.35.45_MD661_1_0172_prep2_gray_detector8_SNC_sparseScores.bp\" \"/home/yuncong/CSHL_patch_scores/MD661/MD662&661-F58-2017.06.06-02.35.45_MD661_1_0172_prep2_gray/detector8/MD662&661-F58-2017.06.06-02.35.45_MD661_1_0172_prep2_gray_detector8_SNC_sparseScores.bp\"\n"
     ]
    },
    {
     "name": "stderr",
     "output_type": "stream",
     "text": [
      "File does not exist: /home/yuncong/CSHL_patch_scores/MD661/MD662&661-F58-2017.06.06-02.35.45_MD661_2_0173_prep2_gray/detector8/MD662&661-F58-2017.06.06-02.35.45_MD661_2_0173_prep2_gray_detector8_SNC_sparseScores.bp\n",
      "Error loading sparse scores for SNC: [Errno 2] No such file or directory: '/home/yuncong/CSHL_patch_scores/MD661/MD662&661-F58-2017.06.06-02.35.45_MD661_2_0173_prep2_gray/detector8/MD662&661-F58-2017.06.06-02.35.45_MD661_2_0173_prep2_gray_detector8_SNC_sparseScores.bp'\n"
     ]
    },
    {
     "name": "stdout",
     "output_type": "stream",
     "text": [
      "rm -rf \"/home/yuncong/CSHL_patch_scores/MD661/MD662&661-F58-2017.06.06-02.35.45_MD661_2_0173_prep2_gray/detector8/MD662&661-F58-2017.06.06-02.35.45_MD661_2_0173_prep2_gray_detector8_SNR_sparseScores.bp\" && mkdir -p \"/home/yuncong/CSHL_patch_scores/MD661/MD662&661-F58-2017.06.06-02.35.45_MD661_2_0173_prep2_gray/detector8\"\n",
      "aws s3 cp \"s3://mousebrainatlas-data/CSHL_patch_scores/MD661/MD662&661-F58-2017.06.06-02.35.45_MD661_2_0173_prep2_gray/detector8/MD662&661-F58-2017.06.06-02.35.45_MD661_2_0173_prep2_gray_detector8_SNR_sparseScores.bp\" \"/home/yuncong/CSHL_patch_scores/MD661/MD662&661-F58-2017.06.06-02.35.45_MD661_2_0173_prep2_gray/detector8/MD662&661-F58-2017.06.06-02.35.45_MD661_2_0173_prep2_gray_detector8_SNR_sparseScores.bp\"\n"
     ]
    },
    {
     "name": "stderr",
     "output_type": "stream",
     "text": [
      "File does not exist: /home/yuncong/CSHL_patch_scores/MD661/MD662&661-F57-2017.06.06-02.06.22_MD661_3_0171_prep2_gray/detector8/MD662&661-F57-2017.06.06-02.06.22_MD661_3_0171_prep2_gray_detector8_SNC_sparseScores.bp\n",
      "Error loading sparse scores for SNC: [Errno 2] No such file or directory: '/home/yuncong/CSHL_patch_scores/MD661/MD662&661-F57-2017.06.06-02.06.22_MD661_3_0171_prep2_gray/detector8/MD662&661-F57-2017.06.06-02.06.22_MD661_3_0171_prep2_gray_detector8_SNC_sparseScores.bp'\n"
     ]
    },
    {
     "name": "stdout",
     "output_type": "stream",
     "text": [
      "rm -rf \"/home/yuncong/CSHL_patch_scores/MD661/MD662&661-F57-2017.06.06-02.06.22_MD661_3_0171_prep2_gray/detector8/MD662&661-F57-2017.06.06-02.06.22_MD661_3_0171_prep2_gray_detector8_SNR_sparseScores.bp\" && mkdir -p \"/home/yuncong/CSHL_patch_scores/MD661/MD662&661-F57-2017.06.06-02.06.22_MD661_3_0171_prep2_gray/detector8\"\n"
     ]
    },
    {
     "name": "stderr",
     "output_type": "stream",
     "text": [
      "File does not exist: /home/yuncong/CSHL_patch_scores/MD661/MD662&661-F58-2017.06.06-02.35.45_MD661_1_0172_prep2_gray/detector8/MD662&661-F58-2017.06.06-02.35.45_MD661_1_0172_prep2_gray_detector8_SNC_sparseScores.bp\n",
      "Error loading sparse scores for SNC: [Errno 2] No such file or directory: '/home/yuncong/CSHL_patch_scores/MD661/MD662&661-F58-2017.06.06-02.35.45_MD661_1_0172_prep2_gray/detector8/MD662&661-F58-2017.06.06-02.35.45_MD661_1_0172_prep2_gray_detector8_SNC_sparseScores.bp'\n"
     ]
    },
    {
     "name": "stdout",
     "output_type": "stream",
     "text": [
      "rm -rf \"/home/yuncong/CSHL_patch_scores/MD661/MD662&661-F58-2017.06.06-02.35.45_MD661_1_0172_prep2_gray/detector8/MD662&661-F58-2017.06.06-02.35.45_MD661_1_0172_prep2_gray_detector8_SNR_sparseScores.bp\" && mkdir -p \"/home/yuncong/CSHL_patch_scores/MD661/MD662&661-F58-2017.06.06-02.35.45_MD661_1_0172_prep2_gray/detector8\"\n",
      "aws s3 cp \"s3://mousebrainatlas-data/CSHL_patch_scores/MD661/MD662&661-F57-2017.06.06-02.06.22_MD661_3_0171_prep2_gray/detector8/MD662&661-F57-2017.06.06-02.06.22_MD661_3_0171_prep2_gray_detector8_SNR_sparseScores.bp\" \"/home/yuncong/CSHL_patch_scores/MD661/MD662&661-F57-2017.06.06-02.06.22_MD661_3_0171_prep2_gray/detector8/MD662&661-F57-2017.06.06-02.06.22_MD661_3_0171_prep2_gray_detector8_SNR_sparseScores.bp\"\n",
      "aws s3 cp \"s3://mousebrainatlas-data/CSHL_patch_scores/MD661/MD662&661-F58-2017.06.06-02.35.45_MD661_1_0172_prep2_gray/detector8/MD662&661-F58-2017.06.06-02.35.45_MD661_1_0172_prep2_gray_detector8_SNR_sparseScores.bp\" \"/home/yuncong/CSHL_patch_scores/MD661/MD662&661-F58-2017.06.06-02.35.45_MD661_1_0172_prep2_gray/detector8/MD662&661-F58-2017.06.06-02.35.45_MD661_1_0172_prep2_gray_detector8_SNR_sparseScores.bp\"\n"
     ]
    },
    {
     "name": "stderr",
     "output_type": "stream",
     "text": [
      "File does not exist: /home/yuncong/CSHL_patch_scores/MD661/MD662&661-F58-2017.06.06-02.35.45_MD661_2_0173_prep2_gray/detector8/MD662&661-F58-2017.06.06-02.35.45_MD661_2_0173_prep2_gray_detector8_SNR_sparseScores.bp\n",
      "Error loading sparse scores for SNR: [Errno 2] No such file or directory: '/home/yuncong/CSHL_patch_scores/MD661/MD662&661-F58-2017.06.06-02.35.45_MD661_2_0173_prep2_gray/detector8/MD662&661-F58-2017.06.06-02.35.45_MD661_2_0173_prep2_gray_detector8_SNR_sparseScores.bp'\n"
     ]
    },
    {
     "name": "stdout",
     "output_type": "stream",
     "text": [
      "rm -rf \"/home/yuncong/CSHL_patch_scores/MD661/MD662&661-F58-2017.06.06-02.35.45_MD661_2_0173_prep2_gray/detector8/MD662&661-F58-2017.06.06-02.35.45_MD661_2_0173_prep2_gray_detector8_Sp5C_sparseScores.bp\" && mkdir -p \"/home/yuncong/CSHL_patch_scores/MD661/MD662&661-F58-2017.06.06-02.35.45_MD661_2_0173_prep2_gray/detector8\"\n",
      "aws s3 cp \"s3://mousebrainatlas-data/CSHL_patch_scores/MD661/MD662&661-F58-2017.06.06-02.35.45_MD661_2_0173_prep2_gray/detector8/MD662&661-F58-2017.06.06-02.35.45_MD661_2_0173_prep2_gray_detector8_Sp5C_sparseScores.bp\" \"/home/yuncong/CSHL_patch_scores/MD661/MD662&661-F58-2017.06.06-02.35.45_MD661_2_0173_prep2_gray/detector8/MD662&661-F58-2017.06.06-02.35.45_MD661_2_0173_prep2_gray_detector8_Sp5C_sparseScores.bp\"\n"
     ]
    },
    {
     "name": "stderr",
     "output_type": "stream",
     "text": [
      "File does not exist: /home/yuncong/CSHL_patch_scores/MD661/MD662&661-F58-2017.06.06-02.35.45_MD661_1_0172_prep2_gray/detector8/MD662&661-F58-2017.06.06-02.35.45_MD661_1_0172_prep2_gray_detector8_SNR_sparseScores.bp\n",
      "Error loading sparse scores for SNR: [Errno 2] No such file or directory: '/home/yuncong/CSHL_patch_scores/MD661/MD662&661-F58-2017.06.06-02.35.45_MD661_1_0172_prep2_gray/detector8/MD662&661-F58-2017.06.06-02.35.45_MD661_1_0172_prep2_gray_detector8_SNR_sparseScores.bp'\n"
     ]
    },
    {
     "name": "stdout",
     "output_type": "stream",
     "text": [
      "rm -rf \"/home/yuncong/CSHL_patch_scores/MD661/MD662&661-F58-2017.06.06-02.35.45_MD661_1_0172_prep2_gray/detector8/MD662&661-F58-2017.06.06-02.35.45_MD661_1_0172_prep2_gray_detector8_Sp5C_sparseScores.bp\" && mkdir -p \"/home/yuncong/CSHL_patch_scores/MD661/MD662&661-F58-2017.06.06-02.35.45_MD661_1_0172_prep2_gray/detector8\"\n",
      "aws s3 cp \"s3://mousebrainatlas-data/CSHL_patch_scores/MD661/MD662&661-F58-2017.06.06-02.35.45_MD661_1_0172_prep2_gray/detector8/MD662&661-F58-2017.06.06-02.35.45_MD661_1_0172_prep2_gray_detector8_Sp5C_sparseScores.bp\" \"/home/yuncong/CSHL_patch_scores/MD661/MD662&661-F58-2017.06.06-02.35.45_MD661_1_0172_prep2_gray/detector8/MD662&661-F58-2017.06.06-02.35.45_MD661_1_0172_prep2_gray_detector8_Sp5C_sparseScores.bp\"\n"
     ]
    },
    {
     "name": "stderr",
     "output_type": "stream",
     "text": [
      "File does not exist: /home/yuncong/CSHL_patch_scores/MD661/MD662&661-F57-2017.06.06-02.06.22_MD661_3_0171_prep2_gray/detector8/MD662&661-F57-2017.06.06-02.06.22_MD661_3_0171_prep2_gray_detector8_SNR_sparseScores.bp\n",
      "Error loading sparse scores for SNR: [Errno 2] No such file or directory: '/home/yuncong/CSHL_patch_scores/MD661/MD662&661-F57-2017.06.06-02.06.22_MD661_3_0171_prep2_gray/detector8/MD662&661-F57-2017.06.06-02.06.22_MD661_3_0171_prep2_gray_detector8_SNR_sparseScores.bp'\n"
     ]
    },
    {
     "name": "stdout",
     "output_type": "stream",
     "text": [
      "rm -rf \"/home/yuncong/CSHL_patch_scores/MD661/MD662&661-F57-2017.06.06-02.06.22_MD661_3_0171_prep2_gray/detector8/MD662&661-F57-2017.06.06-02.06.22_MD661_3_0171_prep2_gray_detector8_Sp5C_sparseScores.bp\" && mkdir -p \"/home/yuncong/CSHL_patch_scores/MD661/MD662&661-F57-2017.06.06-02.06.22_MD661_3_0171_prep2_gray/detector8\"\n",
      "aws s3 cp \"s3://mousebrainatlas-data/CSHL_patch_scores/MD661/MD662&661-F57-2017.06.06-02.06.22_MD661_3_0171_prep2_gray/detector8/MD662&661-F57-2017.06.06-02.06.22_MD661_3_0171_prep2_gray_detector8_Sp5C_sparseScores.bp\" \"/home/yuncong/CSHL_patch_scores/MD661/MD662&661-F57-2017.06.06-02.06.22_MD661_3_0171_prep2_gray/detector8/MD662&661-F57-2017.06.06-02.06.22_MD661_3_0171_prep2_gray_detector8_Sp5C_sparseScores.bp\"\n"
     ]
    },
    {
     "name": "stderr",
     "output_type": "stream",
     "text": [
      "File does not exist: /home/yuncong/CSHL_patch_scores/MD661/MD662&661-F58-2017.06.06-02.35.45_MD661_2_0173_prep2_gray/detector8/MD662&661-F58-2017.06.06-02.35.45_MD661_2_0173_prep2_gray_detector8_Sp5C_sparseScores.bp\n",
      "Error loading sparse scores for Sp5C: [Errno 2] No such file or directory: '/home/yuncong/CSHL_patch_scores/MD661/MD662&661-F58-2017.06.06-02.35.45_MD661_2_0173_prep2_gray/detector8/MD662&661-F58-2017.06.06-02.35.45_MD661_2_0173_prep2_gray_detector8_Sp5C_sparseScores.bp'\n",
      "File does not exist: /home/yuncong/CSHL_patch_scores/MD661/MD662&661-F57-2017.06.06-02.06.22_MD661_3_0171_prep2_gray/detector8/MD662&661-F57-2017.06.06-02.06.22_MD661_3_0171_prep2_gray_detector8_Sp5C_sparseScores.bp\n"
     ]
    },
    {
     "name": "stdout",
     "output_type": "stream",
     "text": [
      "rm -rf \"/home/yuncong/CSHL_patch_scores/MD661/MD662&661-F58-2017.06.06-02.35.45_MD661_2_0173_prep2_gray/detector8/MD662&661-F58-2017.06.06-02.35.45_MD661_2_0173_prep2_gray_detector8_Sp5I_sparseScores.bp\" && mkdir -p \"/home/yuncong/CSHL_patch_scores/MD661/MD662&661-F58-2017.06.06-02.35.45_MD661_2_0173_prep2_gray/detector8\"\n"
     ]
    },
    {
     "name": "stderr",
     "output_type": "stream",
     "text": [
      "Error loading sparse scores for Sp5C: [Errno 2] No such file or directory: '/home/yuncong/CSHL_patch_scores/MD661/MD662&661-F57-2017.06.06-02.06.22_MD661_3_0171_prep2_gray/detector8/MD662&661-F57-2017.06.06-02.06.22_MD661_3_0171_prep2_gray_detector8_Sp5C_sparseScores.bp'\n"
     ]
    },
    {
     "name": "stdout",
     "output_type": "stream",
     "text": [
      "rm -rf \"/home/yuncong/CSHL_patch_scores/MD661/MD662&661-F57-2017.06.06-02.06.22_MD661_3_0171_prep2_gray/detector8/MD662&661-F57-2017.06.06-02.06.22_MD661_3_0171_prep2_gray_detector8_Sp5I_sparseScores.bp\" && mkdir -p \"/home/yuncong/CSHL_patch_scores/MD661/MD662&661-F57-2017.06.06-02.06.22_MD661_3_0171_prep2_gray/detector8\"\n",
      "aws s3 cp \"s3://mousebrainatlas-data/CSHL_patch_scores/MD661/MD662&661-F57-2017.06.06-02.06.22_MD661_3_0171_prep2_gray/detector8/MD662&661-F57-2017.06.06-02.06.22_MD661_3_0171_prep2_gray_detector8_Sp5I_sparseScores.bp\" \"/home/yuncong/CSHL_patch_scores/MD661/MD662&661-F57-2017.06.06-02.06.22_MD661_3_0171_prep2_gray/detector8/MD662&661-F57-2017.06.06-02.06.22_MD661_3_0171_prep2_gray_detector8_Sp5I_sparseScores.bp\"\n",
      "aws s3 cp \"s3://mousebrainatlas-data/CSHL_patch_scores/MD661/MD662&661-F58-2017.06.06-02.35.45_MD661_2_0173_prep2_gray/detector8/MD662&661-F58-2017.06.06-02.35.45_MD661_2_0173_prep2_gray_detector8_Sp5I_sparseScores.bp\" \"/home/yuncong/CSHL_patch_scores/MD661/MD662&661-F58-2017.06.06-02.35.45_MD661_2_0173_prep2_gray/detector8/MD662&661-F58-2017.06.06-02.35.45_MD661_2_0173_prep2_gray_detector8_Sp5I_sparseScores.bp\"\n"
     ]
    },
    {
     "name": "stderr",
     "output_type": "stream",
     "text": [
      "File does not exist: /home/yuncong/CSHL_patch_scores/MD661/MD662&661-F58-2017.06.06-02.35.45_MD661_1_0172_prep2_gray/detector8/MD662&661-F58-2017.06.06-02.35.45_MD661_1_0172_prep2_gray_detector8_Sp5C_sparseScores.bp\n",
      "Error loading sparse scores for Sp5C: [Errno 2] No such file or directory: '/home/yuncong/CSHL_patch_scores/MD661/MD662&661-F58-2017.06.06-02.35.45_MD661_1_0172_prep2_gray/detector8/MD662&661-F58-2017.06.06-02.35.45_MD661_1_0172_prep2_gray_detector8_Sp5C_sparseScores.bp'\n"
     ]
    },
    {
     "name": "stdout",
     "output_type": "stream",
     "text": [
      "rm -rf \"/home/yuncong/CSHL_patch_scores/MD661/MD662&661-F58-2017.06.06-02.35.45_MD661_1_0172_prep2_gray/detector8/MD662&661-F58-2017.06.06-02.35.45_MD661_1_0172_prep2_gray_detector8_Sp5I_sparseScores.bp\" && mkdir -p \"/home/yuncong/CSHL_patch_scores/MD661/MD662&661-F58-2017.06.06-02.35.45_MD661_1_0172_prep2_gray/detector8\"\n",
      "aws s3 cp \"s3://mousebrainatlas-data/CSHL_patch_scores/MD661/MD662&661-F58-2017.06.06-02.35.45_MD661_1_0172_prep2_gray/detector8/MD662&661-F58-2017.06.06-02.35.45_MD661_1_0172_prep2_gray_detector8_Sp5I_sparseScores.bp\" \"/home/yuncong/CSHL_patch_scores/MD661/MD662&661-F58-2017.06.06-02.35.45_MD661_1_0172_prep2_gray/detector8/MD662&661-F58-2017.06.06-02.35.45_MD661_1_0172_prep2_gray_detector8_Sp5I_sparseScores.bp\"\n"
     ]
    },
    {
     "name": "stderr",
     "output_type": "stream",
     "text": [
      "File does not exist: /home/yuncong/CSHL_patch_scores/MD661/MD662&661-F58-2017.06.06-02.35.45_MD661_2_0173_prep2_gray/detector8/MD662&661-F58-2017.06.06-02.35.45_MD661_2_0173_prep2_gray_detector8_Sp5I_sparseScores.bp\n",
      "File does not exist: /home/yuncong/CSHL_patch_scores/MD661/MD662&661-F57-2017.06.06-02.06.22_MD661_3_0171_prep2_gray/detector8/MD662&661-F57-2017.06.06-02.06.22_MD661_3_0171_prep2_gray_detector8_Sp5I_sparseScores.bp\n",
      "Error loading sparse scores for Sp5I: [Errno 2] No such file or directory: '/home/yuncong/CSHL_patch_scores/MD661/MD662&661-F57-2017.06.06-02.06.22_MD661_3_0171_prep2_gray/detector8/MD662&661-F57-2017.06.06-02.06.22_MD661_3_0171_prep2_gray_detector8_Sp5I_sparseScores.bp'\n",
      "Error loading sparse scores for Sp5I: [Errno 2] No such file or directory: '/home/yuncong/CSHL_patch_scores/MD661/MD662&661-F58-2017.06.06-02.35.45_MD661_2_0173_prep2_gray/detector8/MD662&661-F58-2017.06.06-02.35.45_MD661_2_0173_prep2_gray_detector8_Sp5I_sparseScores.bp'\n"
     ]
    },
    {
     "name": "stdout",
     "output_type": "stream",
     "text": [
      "rm -rf \"/home/yuncong/CSHL_patch_scores/MD661/MD662&661-F58-2017.06.06-02.35.45_MD661_2_0173_prep2_gray/detector8/MD662&661-F58-2017.06.06-02.35.45_MD661_2_0173_prep2_gray_detector8_Sp5O_sparseScores.bp\" && mkdir -p \"/home/yuncong/CSHL_patch_scores/MD661/MD662&661-F58-2017.06.06-02.35.45_MD661_2_0173_prep2_gray/detector8\"\n",
      "rm -rf \"/home/yuncong/CSHL_patch_scores/MD661/MD662&661-F57-2017.06.06-02.06.22_MD661_3_0171_prep2_gray/detector8/MD662&661-F57-2017.06.06-02.06.22_MD661_3_0171_prep2_gray_detector8_Sp5O_sparseScores.bp\" && mkdir -p \"/home/yuncong/CSHL_patch_scores/MD661/MD662&661-F57-2017.06.06-02.06.22_MD661_3_0171_prep2_gray/detector8\"\n"
     ]
    },
    {
     "name": "stderr",
     "output_type": "stream",
     "text": [
      "File does not exist: /home/yuncong/CSHL_patch_scores/MD661/MD662&661-F58-2017.06.06-02.35.45_MD661_1_0172_prep2_gray/detector8/MD662&661-F58-2017.06.06-02.35.45_MD661_1_0172_prep2_gray_detector8_Sp5I_sparseScores.bp\n",
      "Error loading sparse scores for Sp5I: [Errno 2] No such file or directory: '/home/yuncong/CSHL_patch_scores/MD661/MD662&661-F58-2017.06.06-02.35.45_MD661_1_0172_prep2_gray/detector8/MD662&661-F58-2017.06.06-02.35.45_MD661_1_0172_prep2_gray_detector8_Sp5I_sparseScores.bp'\n"
     ]
    },
    {
     "name": "stdout",
     "output_type": "stream",
     "text": [
      "rm -rf \"/home/yuncong/CSHL_patch_scores/MD661/MD662&661-F58-2017.06.06-02.35.45_MD661_1_0172_prep2_gray/detector8/MD662&661-F58-2017.06.06-02.35.45_MD661_1_0172_prep2_gray_detector8_Sp5O_sparseScores.bp\" && mkdir -p \"/home/yuncong/CSHL_patch_scores/MD661/MD662&661-F58-2017.06.06-02.35.45_MD661_1_0172_prep2_gray/detector8\"\n",
      "aws s3 cp \"s3://mousebrainatlas-data/CSHL_patch_scores/MD661/MD662&661-F57-2017.06.06-02.06.22_MD661_3_0171_prep2_gray/detector8/MD662&661-F57-2017.06.06-02.06.22_MD661_3_0171_prep2_gray_detector8_Sp5O_sparseScores.bp\" \"/home/yuncong/CSHL_patch_scores/MD661/MD662&661-F57-2017.06.06-02.06.22_MD661_3_0171_prep2_gray/detector8/MD662&661-F57-2017.06.06-02.06.22_MD661_3_0171_prep2_gray_detector8_Sp5O_sparseScores.bp\"\n",
      "aws s3 cp \"s3://mousebrainatlas-data/CSHL_patch_scores/MD661/MD662&661-F58-2017.06.06-02.35.45_MD661_2_0173_prep2_gray/detector8/MD662&661-F58-2017.06.06-02.35.45_MD661_2_0173_prep2_gray_detector8_Sp5O_sparseScores.bp\" \"/home/yuncong/CSHL_patch_scores/MD661/MD662&661-F58-2017.06.06-02.35.45_MD661_2_0173_prep2_gray/detector8/MD662&661-F58-2017.06.06-02.35.45_MD661_2_0173_prep2_gray_detector8_Sp5O_sparseScores.bp\"\n",
      "aws s3 cp \"s3://mousebrainatlas-data/CSHL_patch_scores/MD661/MD662&661-F58-2017.06.06-02.35.45_MD661_1_0172_prep2_gray/detector8/MD662&661-F58-2017.06.06-02.35.45_MD661_1_0172_prep2_gray_detector8_Sp5O_sparseScores.bp\" \"/home/yuncong/CSHL_patch_scores/MD661/MD662&661-F58-2017.06.06-02.35.45_MD661_1_0172_prep2_gray/detector8/MD662&661-F58-2017.06.06-02.35.45_MD661_1_0172_prep2_gray_detector8_Sp5O_sparseScores.bp\"\n"
     ]
    },
    {
     "name": "stderr",
     "output_type": "stream",
     "text": [
      "File does not exist: /home/yuncong/CSHL_patch_scores/MD661/MD662&661-F58-2017.06.06-02.35.45_MD661_1_0172_prep2_gray/detector8/MD662&661-F58-2017.06.06-02.35.45_MD661_1_0172_prep2_gray_detector8_Sp5O_sparseScores.bp\n",
      "Error loading sparse scores for Sp5O: [Errno 2] No such file or directory: '/home/yuncong/CSHL_patch_scores/MD661/MD662&661-F58-2017.06.06-02.35.45_MD661_1_0172_prep2_gray/detector8/MD662&661-F58-2017.06.06-02.35.45_MD661_1_0172_prep2_gray_detector8_Sp5O_sparseScores.bp'\n"
     ]
    },
    {
     "name": "stdout",
     "output_type": "stream",
     "text": [
      "rm -rf \"/home/yuncong/CSHL_patch_scores/MD661/MD662&661-F58-2017.06.06-02.35.45_MD661_1_0172_prep2_gray/detector8/MD662&661-F58-2017.06.06-02.35.45_MD661_1_0172_prep2_gray_detector8_Tz_sparseScores.bp\" && mkdir -p \"/home/yuncong/CSHL_patch_scores/MD661/MD662&661-F58-2017.06.06-02.35.45_MD661_1_0172_prep2_gray/detector8\"\n",
      "aws s3 cp \"s3://mousebrainatlas-data/CSHL_patch_scores/MD661/MD662&661-F58-2017.06.06-02.35.45_MD661_1_0172_prep2_gray/detector8/MD662&661-F58-2017.06.06-02.35.45_MD661_1_0172_prep2_gray_detector8_Tz_sparseScores.bp\" \"/home/yuncong/CSHL_patch_scores/MD661/MD662&661-F58-2017.06.06-02.35.45_MD661_1_0172_prep2_gray/detector8/MD662&661-F58-2017.06.06-02.35.45_MD661_1_0172_prep2_gray_detector8_Tz_sparseScores.bp\"\n"
     ]
    },
    {
     "name": "stderr",
     "output_type": "stream",
     "text": [
      "File does not exist: /home/yuncong/CSHL_patch_scores/MD661/MD662&661-F57-2017.06.06-02.06.22_MD661_3_0171_prep2_gray/detector8/MD662&661-F57-2017.06.06-02.06.22_MD661_3_0171_prep2_gray_detector8_Sp5O_sparseScores.bp\n",
      "Error loading sparse scores for Sp5O: [Errno 2] No such file or directory: '/home/yuncong/CSHL_patch_scores/MD661/MD662&661-F57-2017.06.06-02.06.22_MD661_3_0171_prep2_gray/detector8/MD662&661-F57-2017.06.06-02.06.22_MD661_3_0171_prep2_gray_detector8_Sp5O_sparseScores.bp'\n"
     ]
    },
    {
     "name": "stdout",
     "output_type": "stream",
     "text": [
      "rm -rf \"/home/yuncong/CSHL_patch_scores/MD661/MD662&661-F57-2017.06.06-02.06.22_MD661_3_0171_prep2_gray/detector8/MD662&661-F57-2017.06.06-02.06.22_MD661_3_0171_prep2_gray_detector8_Tz_sparseScores.bp\" && mkdir -p \"/home/yuncong/CSHL_patch_scores/MD661/MD662&661-F57-2017.06.06-02.06.22_MD661_3_0171_prep2_gray/detector8\"\n"
     ]
    },
    {
     "name": "stderr",
     "output_type": "stream",
     "text": [
      "File does not exist: /home/yuncong/CSHL_patch_scores/MD661/MD662&661-F58-2017.06.06-02.35.45_MD661_2_0173_prep2_gray/detector8/MD662&661-F58-2017.06.06-02.35.45_MD661_2_0173_prep2_gray_detector8_Sp5O_sparseScores.bp\n",
      "Error loading sparse scores for Sp5O: [Errno 2] No such file or directory: '/home/yuncong/CSHL_patch_scores/MD661/MD662&661-F58-2017.06.06-02.35.45_MD661_2_0173_prep2_gray/detector8/MD662&661-F58-2017.06.06-02.35.45_MD661_2_0173_prep2_gray_detector8_Sp5O_sparseScores.bp'\n"
     ]
    },
    {
     "name": "stdout",
     "output_type": "stream",
     "text": [
      "aws s3 cp \"s3://mousebrainatlas-data/CSHL_patch_scores/MD661/MD662&661-F57-2017.06.06-02.06.22_MD661_3_0171_prep2_gray/detector8/MD662&661-F57-2017.06.06-02.06.22_MD661_3_0171_prep2_gray_detector8_Tz_sparseScores.bp\" \"/home/yuncong/CSHL_patch_scores/MD661/MD662&661-F57-2017.06.06-02.06.22_MD661_3_0171_prep2_gray/detector8/MD662&661-F57-2017.06.06-02.06.22_MD661_3_0171_prep2_gray_detector8_Tz_sparseScores.bp\"\n",
      "rm -rf \"/home/yuncong/CSHL_patch_scores/MD661/MD662&661-F58-2017.06.06-02.35.45_MD661_2_0173_prep2_gray/detector8/MD662&661-F58-2017.06.06-02.35.45_MD661_2_0173_prep2_gray_detector8_Tz_sparseScores.bp\" && mkdir -p \"/home/yuncong/CSHL_patch_scores/MD661/MD662&661-F58-2017.06.06-02.35.45_MD661_2_0173_prep2_gray/detector8\"\n",
      "aws s3 cp \"s3://mousebrainatlas-data/CSHL_patch_scores/MD661/MD662&661-F58-2017.06.06-02.35.45_MD661_2_0173_prep2_gray/detector8/MD662&661-F58-2017.06.06-02.35.45_MD661_2_0173_prep2_gray_detector8_Tz_sparseScores.bp\" \"/home/yuncong/CSHL_patch_scores/MD661/MD662&661-F58-2017.06.06-02.35.45_MD661_2_0173_prep2_gray/detector8/MD662&661-F58-2017.06.06-02.35.45_MD661_2_0173_prep2_gray_detector8_Tz_sparseScores.bp\"\n"
     ]
    },
    {
     "name": "stderr",
     "output_type": "stream",
     "text": [
      "File does not exist: /home/yuncong/CSHL_patch_scores/MD661/MD662&661-F58-2017.06.06-02.35.45_MD661_1_0172_prep2_gray/detector8/MD662&661-F58-2017.06.06-02.35.45_MD661_1_0172_prep2_gray_detector8_Tz_sparseScores.bp\n",
      "Error loading sparse scores for Tz: [Errno 2] No such file or directory: '/home/yuncong/CSHL_patch_scores/MD661/MD662&661-F58-2017.06.06-02.35.45_MD661_1_0172_prep2_gray/detector8/MD662&661-F58-2017.06.06-02.35.45_MD661_1_0172_prep2_gray_detector8_Tz_sparseScores.bp'\n"
     ]
    },
    {
     "name": "stdout",
     "output_type": "stream",
     "text": [
      "rm -rf \"/home/yuncong/CSHL_patch_scores/MD661/MD662&661-F58-2017.06.06-02.35.45_MD661_1_0172_prep2_gray/detector8/MD662&661-F58-2017.06.06-02.35.45_MD661_1_0172_prep2_gray_detector8_VCA_sparseScores.bp\" && mkdir -p \"/home/yuncong/CSHL_patch_scores/MD661/MD662&661-F58-2017.06.06-02.35.45_MD661_1_0172_prep2_gray/detector8\"\n",
      "aws s3 cp \"s3://mousebrainatlas-data/CSHL_patch_scores/MD661/MD662&661-F58-2017.06.06-02.35.45_MD661_1_0172_prep2_gray/detector8/MD662&661-F58-2017.06.06-02.35.45_MD661_1_0172_prep2_gray_detector8_VCA_sparseScores.bp\" \"/home/yuncong/CSHL_patch_scores/MD661/MD662&661-F58-2017.06.06-02.35.45_MD661_1_0172_prep2_gray/detector8/MD662&661-F58-2017.06.06-02.35.45_MD661_1_0172_prep2_gray_detector8_VCA_sparseScores.bp\"\n"
     ]
    },
    {
     "name": "stderr",
     "output_type": "stream",
     "text": [
      "File does not exist: /home/yuncong/CSHL_patch_scores/MD661/MD662&661-F58-2017.06.06-02.35.45_MD661_2_0173_prep2_gray/detector8/MD662&661-F58-2017.06.06-02.35.45_MD661_2_0173_prep2_gray_detector8_Tz_sparseScores.bp\n",
      "Error loading sparse scores for Tz: [Errno 2] No such file or directory: '/home/yuncong/CSHL_patch_scores/MD661/MD662&661-F58-2017.06.06-02.35.45_MD661_2_0173_prep2_gray/detector8/MD662&661-F58-2017.06.06-02.35.45_MD661_2_0173_prep2_gray_detector8_Tz_sparseScores.bp'\n"
     ]
    },
    {
     "name": "stdout",
     "output_type": "stream",
     "text": [
      "rm -rf \"/home/yuncong/CSHL_patch_scores/MD661/MD662&661-F58-2017.06.06-02.35.45_MD661_2_0173_prep2_gray/detector8/MD662&661-F58-2017.06.06-02.35.45_MD661_2_0173_prep2_gray_detector8_VCA_sparseScores.bp\" && mkdir -p \"/home/yuncong/CSHL_patch_scores/MD661/MD662&661-F58-2017.06.06-02.35.45_MD661_2_0173_prep2_gray/detector8\"\n",
      "aws s3 cp \"s3://mousebrainatlas-data/CSHL_patch_scores/MD661/MD662&661-F58-2017.06.06-02.35.45_MD661_2_0173_prep2_gray/detector8/MD662&661-F58-2017.06.06-02.35.45_MD661_2_0173_prep2_gray_detector8_VCA_sparseScores.bp\" \"/home/yuncong/CSHL_patch_scores/MD661/MD662&661-F58-2017.06.06-02.35.45_MD661_2_0173_prep2_gray/detector8/MD662&661-F58-2017.06.06-02.35.45_MD661_2_0173_prep2_gray_detector8_VCA_sparseScores.bp\"\n"
     ]
    },
    {
     "name": "stderr",
     "output_type": "stream",
     "text": [
      "File does not exist: /home/yuncong/CSHL_patch_scores/MD661/MD662&661-F57-2017.06.06-02.06.22_MD661_3_0171_prep2_gray/detector8/MD662&661-F57-2017.06.06-02.06.22_MD661_3_0171_prep2_gray_detector8_Tz_sparseScores.bp\n",
      "Error loading sparse scores for Tz: [Errno 2] No such file or directory: '/home/yuncong/CSHL_patch_scores/MD661/MD662&661-F57-2017.06.06-02.06.22_MD661_3_0171_prep2_gray/detector8/MD662&661-F57-2017.06.06-02.06.22_MD661_3_0171_prep2_gray_detector8_Tz_sparseScores.bp'\n"
     ]
    },
    {
     "name": "stdout",
     "output_type": "stream",
     "text": [
      "rm -rf \"/home/yuncong/CSHL_patch_scores/MD661/MD662&661-F57-2017.06.06-02.06.22_MD661_3_0171_prep2_gray/detector8/MD662&661-F57-2017.06.06-02.06.22_MD661_3_0171_prep2_gray_detector8_VCA_sparseScores.bp\" && mkdir -p \"/home/yuncong/CSHL_patch_scores/MD661/MD662&661-F57-2017.06.06-02.06.22_MD661_3_0171_prep2_gray/detector8\"\n",
      "aws s3 cp \"s3://mousebrainatlas-data/CSHL_patch_scores/MD661/MD662&661-F57-2017.06.06-02.06.22_MD661_3_0171_prep2_gray/detector8/MD662&661-F57-2017.06.06-02.06.22_MD661_3_0171_prep2_gray_detector8_VCA_sparseScores.bp\" \"/home/yuncong/CSHL_patch_scores/MD661/MD662&661-F57-2017.06.06-02.06.22_MD661_3_0171_prep2_gray/detector8/MD662&661-F57-2017.06.06-02.06.22_MD661_3_0171_prep2_gray_detector8_VCA_sparseScores.bp\"\n"
     ]
    },
    {
     "name": "stderr",
     "output_type": "stream",
     "text": [
      "File does not exist: /home/yuncong/CSHL_patch_scores/MD661/MD662&661-F58-2017.06.06-02.35.45_MD661_1_0172_prep2_gray/detector8/MD662&661-F58-2017.06.06-02.35.45_MD661_1_0172_prep2_gray_detector8_VCA_sparseScores.bp\n",
      "Error loading sparse scores for VCA: [Errno 2] No such file or directory: '/home/yuncong/CSHL_patch_scores/MD661/MD662&661-F58-2017.06.06-02.35.45_MD661_1_0172_prep2_gray/detector8/MD662&661-F58-2017.06.06-02.35.45_MD661_1_0172_prep2_gray_detector8_VCA_sparseScores.bp'\n"
     ]
    },
    {
     "name": "stdout",
     "output_type": "stream",
     "text": [
      "rm -rf \"/home/yuncong/CSHL_patch_scores/MD661/MD662&661-F58-2017.06.06-02.35.45_MD661_1_0172_prep2_gray/detector8/MD662&661-F58-2017.06.06-02.35.45_MD661_1_0172_prep2_gray_detector8_VCP_sparseScores.bp\" && mkdir -p \"/home/yuncong/CSHL_patch_scores/MD661/MD662&661-F58-2017.06.06-02.35.45_MD661_1_0172_prep2_gray/detector8\"\n",
      "aws s3 cp \"s3://mousebrainatlas-data/CSHL_patch_scores/MD661/MD662&661-F58-2017.06.06-02.35.45_MD661_1_0172_prep2_gray/detector8/MD662&661-F58-2017.06.06-02.35.45_MD661_1_0172_prep2_gray_detector8_VCP_sparseScores.bp\" \"/home/yuncong/CSHL_patch_scores/MD661/MD662&661-F58-2017.06.06-02.35.45_MD661_1_0172_prep2_gray/detector8/MD662&661-F58-2017.06.06-02.35.45_MD661_1_0172_prep2_gray_detector8_VCP_sparseScores.bp\"\n"
     ]
    },
    {
     "name": "stderr",
     "output_type": "stream",
     "text": [
      "File does not exist: /home/yuncong/CSHL_patch_scores/MD661/MD662&661-F58-2017.06.06-02.35.45_MD661_2_0173_prep2_gray/detector8/MD662&661-F58-2017.06.06-02.35.45_MD661_2_0173_prep2_gray_detector8_VCA_sparseScores.bp\n",
      "Error loading sparse scores for VCA: [Errno 2] No such file or directory: '/home/yuncong/CSHL_patch_scores/MD661/MD662&661-F58-2017.06.06-02.35.45_MD661_2_0173_prep2_gray/detector8/MD662&661-F58-2017.06.06-02.35.45_MD661_2_0173_prep2_gray_detector8_VCA_sparseScores.bp'\n"
     ]
    },
    {
     "name": "stdout",
     "output_type": "stream",
     "text": [
      "rm -rf \"/home/yuncong/CSHL_patch_scores/MD661/MD662&661-F58-2017.06.06-02.35.45_MD661_2_0173_prep2_gray/detector8/MD662&661-F58-2017.06.06-02.35.45_MD661_2_0173_prep2_gray_detector8_VCP_sparseScores.bp\" && mkdir -p \"/home/yuncong/CSHL_patch_scores/MD661/MD662&661-F58-2017.06.06-02.35.45_MD661_2_0173_prep2_gray/detector8\"\n"
     ]
    },
    {
     "name": "stderr",
     "output_type": "stream",
     "text": [
      "File does not exist: /home/yuncong/CSHL_patch_scores/MD661/MD662&661-F57-2017.06.06-02.06.22_MD661_3_0171_prep2_gray/detector8/MD662&661-F57-2017.06.06-02.06.22_MD661_3_0171_prep2_gray_detector8_VCA_sparseScores.bp\n",
      "Error loading sparse scores for VCA: [Errno 2] No such file or directory: '/home/yuncong/CSHL_patch_scores/MD661/MD662&661-F57-2017.06.06-02.06.22_MD661_3_0171_prep2_gray/detector8/MD662&661-F57-2017.06.06-02.06.22_MD661_3_0171_prep2_gray_detector8_VCA_sparseScores.bp'\n"
     ]
    },
    {
     "name": "stdout",
     "output_type": "stream",
     "text": [
      "aws s3 cp \"s3://mousebrainatlas-data/CSHL_patch_scores/MD661/MD662&661-F58-2017.06.06-02.35.45_MD661_2_0173_prep2_gray/detector8/MD662&661-F58-2017.06.06-02.35.45_MD661_2_0173_prep2_gray_detector8_VCP_sparseScores.bp\" \"/home/yuncong/CSHL_patch_scores/MD661/MD662&661-F58-2017.06.06-02.35.45_MD661_2_0173_prep2_gray/detector8/MD662&661-F58-2017.06.06-02.35.45_MD661_2_0173_prep2_gray_detector8_VCP_sparseScores.bp\"\n",
      "rm -rf \"/home/yuncong/CSHL_patch_scores/MD661/MD662&661-F57-2017.06.06-02.06.22_MD661_3_0171_prep2_gray/detector8/MD662&661-F57-2017.06.06-02.06.22_MD661_3_0171_prep2_gray_detector8_VCP_sparseScores.bp\" && mkdir -p \"/home/yuncong/CSHL_patch_scores/MD661/MD662&661-F57-2017.06.06-02.06.22_MD661_3_0171_prep2_gray/detector8\"\n",
      "aws s3 cp \"s3://mousebrainatlas-data/CSHL_patch_scores/MD661/MD662&661-F57-2017.06.06-02.06.22_MD661_3_0171_prep2_gray/detector8/MD662&661-F57-2017.06.06-02.06.22_MD661_3_0171_prep2_gray_detector8_VCP_sparseScores.bp\" \"/home/yuncong/CSHL_patch_scores/MD661/MD662&661-F57-2017.06.06-02.06.22_MD661_3_0171_prep2_gray/detector8/MD662&661-F57-2017.06.06-02.06.22_MD661_3_0171_prep2_gray_detector8_VCP_sparseScores.bp\"\n"
     ]
    },
    {
     "name": "stderr",
     "output_type": "stream",
     "text": [
      "File does not exist: /home/yuncong/CSHL_patch_scores/MD661/MD662&661-F58-2017.06.06-02.35.45_MD661_1_0172_prep2_gray/detector8/MD662&661-F58-2017.06.06-02.35.45_MD661_1_0172_prep2_gray_detector8_VCP_sparseScores.bp\n",
      "Error loading sparse scores for VCP: [Errno 2] No such file or directory: '/home/yuncong/CSHL_patch_scores/MD661/MD662&661-F58-2017.06.06-02.35.45_MD661_1_0172_prep2_gray/detector8/MD662&661-F58-2017.06.06-02.35.45_MD661_1_0172_prep2_gray_detector8_VCP_sparseScores.bp'\n"
     ]
    },
    {
     "name": "stdout",
     "output_type": "stream",
     "text": [
      "rm -rf \"/home/yuncong/CSHL_patch_scores/MD661/MD662&661-F58-2017.06.06-02.35.45_MD661_1_0172_prep2_gray/detector8/MD662&661-F58-2017.06.06-02.35.45_MD661_1_0172_prep2_gray_detector8_VLL_sparseScores.bp\" && mkdir -p \"/home/yuncong/CSHL_patch_scores/MD661/MD662&661-F58-2017.06.06-02.35.45_MD661_1_0172_prep2_gray/detector8\"\n",
      "aws s3 cp \"s3://mousebrainatlas-data/CSHL_patch_scores/MD661/MD662&661-F58-2017.06.06-02.35.45_MD661_1_0172_prep2_gray/detector8/MD662&661-F58-2017.06.06-02.35.45_MD661_1_0172_prep2_gray_detector8_VLL_sparseScores.bp\" \"/home/yuncong/CSHL_patch_scores/MD661/MD662&661-F58-2017.06.06-02.35.45_MD661_1_0172_prep2_gray/detector8/MD662&661-F58-2017.06.06-02.35.45_MD661_1_0172_prep2_gray_detector8_VLL_sparseScores.bp\"\n"
     ]
    },
    {
     "name": "stderr",
     "output_type": "stream",
     "text": [
      "File does not exist: /home/yuncong/CSHL_patch_scores/MD661/MD662&661-F58-2017.06.06-02.35.45_MD661_2_0173_prep2_gray/detector8/MD662&661-F58-2017.06.06-02.35.45_MD661_2_0173_prep2_gray_detector8_VCP_sparseScores.bp\n",
      "Error loading sparse scores for VCP: [Errno 2] No such file or directory: '/home/yuncong/CSHL_patch_scores/MD661/MD662&661-F58-2017.06.06-02.35.45_MD661_2_0173_prep2_gray/detector8/MD662&661-F58-2017.06.06-02.35.45_MD661_2_0173_prep2_gray_detector8_VCP_sparseScores.bp'\n"
     ]
    },
    {
     "name": "stdout",
     "output_type": "stream",
     "text": [
      "rm -rf \"/home/yuncong/CSHL_patch_scores/MD661/MD662&661-F58-2017.06.06-02.35.45_MD661_2_0173_prep2_gray/detector8/MD662&661-F58-2017.06.06-02.35.45_MD661_2_0173_prep2_gray_detector8_VLL_sparseScores.bp\" && mkdir -p \"/home/yuncong/CSHL_patch_scores/MD661/MD662&661-F58-2017.06.06-02.35.45_MD661_2_0173_prep2_gray/detector8\"\n"
     ]
    },
    {
     "name": "stderr",
     "output_type": "stream",
     "text": [
      "File does not exist: /home/yuncong/CSHL_patch_scores/MD661/MD662&661-F57-2017.06.06-02.06.22_MD661_3_0171_prep2_gray/detector8/MD662&661-F57-2017.06.06-02.06.22_MD661_3_0171_prep2_gray_detector8_VCP_sparseScores.bp\n",
      "Error loading sparse scores for VCP: [Errno 2] No such file or directory: '/home/yuncong/CSHL_patch_scores/MD661/MD662&661-F57-2017.06.06-02.06.22_MD661_3_0171_prep2_gray/detector8/MD662&661-F57-2017.06.06-02.06.22_MD661_3_0171_prep2_gray_detector8_VCP_sparseScores.bp'\n"
     ]
    },
    {
     "name": "stdout",
     "output_type": "stream",
     "text": [
      "rm -rf \"/home/yuncong/CSHL_patch_scores/MD661/MD662&661-F57-2017.06.06-02.06.22_MD661_3_0171_prep2_gray/detector8/MD662&661-F57-2017.06.06-02.06.22_MD661_3_0171_prep2_gray_detector8_VLL_sparseScores.bp\" && mkdir -p \"/home/yuncong/CSHL_patch_scores/MD661/MD662&661-F57-2017.06.06-02.06.22_MD661_3_0171_prep2_gray/detector8\"\n",
      "aws s3 cp \"s3://mousebrainatlas-data/CSHL_patch_scores/MD661/MD662&661-F58-2017.06.06-02.35.45_MD661_2_0173_prep2_gray/detector8/MD662&661-F58-2017.06.06-02.35.45_MD661_2_0173_prep2_gray_detector8_VLL_sparseScores.bp\" \"/home/yuncong/CSHL_patch_scores/MD661/MD662&661-F58-2017.06.06-02.35.45_MD661_2_0173_prep2_gray/detector8/MD662&661-F58-2017.06.06-02.35.45_MD661_2_0173_prep2_gray_detector8_VLL_sparseScores.bp\"\n",
      "aws s3 cp \"s3://mousebrainatlas-data/CSHL_patch_scores/MD661/MD662&661-F57-2017.06.06-02.06.22_MD661_3_0171_prep2_gray/detector8/MD662&661-F57-2017.06.06-02.06.22_MD661_3_0171_prep2_gray_detector8_VLL_sparseScores.bp\" \"/home/yuncong/CSHL_patch_scores/MD661/MD662&661-F57-2017.06.06-02.06.22_MD661_3_0171_prep2_gray/detector8/MD662&661-F57-2017.06.06-02.06.22_MD661_3_0171_prep2_gray_detector8_VLL_sparseScores.bp\"\n"
     ]
    },
    {
     "name": "stderr",
     "output_type": "stream",
     "text": [
      "File does not exist: /home/yuncong/CSHL_patch_scores/MD661/MD662&661-F58-2017.06.06-02.35.45_MD661_1_0172_prep2_gray/detector8/MD662&661-F58-2017.06.06-02.35.45_MD661_1_0172_prep2_gray_detector8_VLL_sparseScores.bp\n",
      "Error loading sparse scores for VLL: [Errno 2] No such file or directory: '/home/yuncong/CSHL_patch_scores/MD661/MD662&661-F58-2017.06.06-02.35.45_MD661_1_0172_prep2_gray/detector8/MD662&661-F58-2017.06.06-02.35.45_MD661_1_0172_prep2_gray_detector8_VLL_sparseScores.bp'\n",
      "File does not exist: /home/yuncong/CSHL_patch_scores/MD661/MD662&661-F58-2017.06.06-02.35.45_MD661_2_0173_prep2_gray/detector8/MD662&661-F58-2017.06.06-02.35.45_MD661_2_0173_prep2_gray_detector8_VLL_sparseScores.bp\n",
      "Error loading sparse scores for VLL: [Errno 2] No such file or directory: '/home/yuncong/CSHL_patch_scores/MD661/MD662&661-F58-2017.06.06-02.35.45_MD661_2_0173_prep2_gray/detector8/MD662&661-F58-2017.06.06-02.35.45_MD661_2_0173_prep2_gray_detector8_VLL_sparseScores.bp'\n",
      "File does not exist: /home/yuncong/CSHL_patch_scores/MD661/MD662&661-F57-2017.06.06-02.06.22_MD661_3_0171_prep2_gray/detector8/MD662&661-F57-2017.06.06-02.06.22_MD661_3_0171_prep2_gray_detector8_VLL_sparseScores.bp\n",
      "Error loading sparse scores for VLL: [Errno 2] No such file or directory: '/home/yuncong/CSHL_patch_scores/MD661/MD662&661-F57-2017.06.06-02.06.22_MD661_3_0171_prep2_gray/detector8/MD662&661-F57-2017.06.06-02.06.22_MD661_3_0171_prep2_gray_detector8_VLL_sparseScores.bp'\n",
      "Resample: 19.44 seconds\n",
      "/usr/local/lib/python2.7/dist-packages/ipykernel_launcher.py:157: DeprecationWarning: BaseException.message has been deprecated as of Python 2.6\n",
      "'str' object has no attribute 'shape'\n",
      "/usr/local/lib/python2.7/dist-packages/ipykernel_launcher.py:157: DeprecationWarning: BaseException.message has been deprecated as of Python 2.6\n",
      "/usr/local/lib/python2.7/dist-packages/ipykernel_launcher.py:157: DeprecationWarning: BaseException.message has been deprecated as of Python 2.6\n",
      "'str' object has no attribute 'shape'\n",
      "/usr/local/lib/python2.7/dist-packages/ipykernel_launcher.py:157: DeprecationWarning: BaseException.message has been deprecated as of Python 2.6\n",
      "/usr/local/lib/python2.7/dist-packages/ipykernel_launcher.py:157: DeprecationWarning: BaseException.message has been deprecated as of Python 2.6\n",
      "'str' object has no attribute 'shape'\n",
      "/usr/local/lib/python2.7/dist-packages/ipykernel_launcher.py:157: DeprecationWarning: BaseException.message has been deprecated as of Python 2.6\n",
      "'str' object has no attribute 'shape'\n",
      "/usr/local/lib/python2.7/dist-packages/ipykernel_launcher.py:157: DeprecationWarning: BaseException.message has been deprecated as of Python 2.6\n",
      "/usr/local/lib/python2.7/dist-packages/ipykernel_launcher.py:157: DeprecationWarning: BaseException.message has been deprecated as of Python 2.6\n",
      "/usr/local/lib/python2.7/dist-packages/ipykernel_launcher.py:157: DeprecationWarning: BaseException.message has been deprecated as of Python 2.6\n",
      "'str' object has no attribute 'shape'\n",
      "'str' object has no attribute 'shape'\n",
      "/usr/local/lib/python2.7/dist-packages/ipykernel_launcher.py:157: DeprecationWarning: BaseException.message has been deprecated as of Python 2.6\n",
      "'str' object has no attribute 'shape'\n",
      "'str' object has no attribute 'shape'\n",
      "'str' object has no attribute 'shape'\n",
      "/usr/local/lib/python2.7/dist-packages/ipykernel_launcher.py:157: DeprecationWarning: BaseException.message has been deprecated as of Python 2.6\n",
      "'str' object has no attribute 'shape'\n",
      "/usr/local/lib/python2.7/dist-packages/ipykernel_launcher.py:157: DeprecationWarning: BaseException.message has been deprecated as of Python 2.6\n",
      "'str' object has no attribute 'shape'\n",
      "'str' object has no attribute 'shape'\n",
      "/usr/local/lib/python2.7/dist-packages/ipykernel_launcher.py:157: DeprecationWarning: BaseException.message has been deprecated as of Python 2.6\n",
      "'str' object has no attribute 'shape'\n",
      "/usr/local/lib/python2.7/dist-packages/ipykernel_launcher.py:157: DeprecationWarning: BaseException.message has been deprecated as of Python 2.6\n",
      "/usr/local/lib/python2.7/dist-packages/ipykernel_launcher.py:157: DeprecationWarning: BaseException.message has been deprecated as of Python 2.6\n",
      "/usr/local/lib/python2.7/dist-packages/ipykernel_launcher.py:157: DeprecationWarning: BaseException.message has been deprecated as of Python 2.6\n",
      "'str' object has no attribute 'shape'\n",
      "'str' object has no attribute 'shape'\n",
      "'str' object has no attribute 'shape'\n",
      "'str' object has no attribute 'shape'\n",
      "'str' object has no attribute 'shape'\n",
      "/usr/local/lib/python2.7/dist-packages/ipykernel_launcher.py:157: DeprecationWarning: BaseException.message has been deprecated as of Python 2.6\n",
      "/usr/local/lib/python2.7/dist-packages/ipykernel_launcher.py:157: DeprecationWarning: BaseException.message has been deprecated as of Python 2.6\n",
      "/usr/local/lib/python2.7/dist-packages/ipykernel_launcher.py:157: DeprecationWarning: BaseException.message has been deprecated as of Python 2.6\n",
      "/usr/local/lib/python2.7/dist-packages/ipykernel_launcher.py:157: DeprecationWarning: BaseException.message has been deprecated as of Python 2.6\n",
      "/usr/local/lib/python2.7/dist-packages/ipykernel_launcher.py:157: DeprecationWarning: BaseException.message has been deprecated as of Python 2.6\n",
      "/usr/local/lib/python2.7/dist-packages/ipykernel_launcher.py:157: DeprecationWarning: BaseException.message has been deprecated as of Python 2.6\n",
      "/usr/local/lib/python2.7/dist-packages/ipykernel_launcher.py:157: DeprecationWarning: BaseException.message has been deprecated as of Python 2.6\n",
      "/usr/local/lib/python2.7/dist-packages/ipykernel_launcher.py:157: DeprecationWarning: BaseException.message has been deprecated as of Python 2.6\n",
      "'str' object has no attribute 'shape'\n",
      "'str' object has no attribute 'shape'\n",
      "'str' object has no attribute 'shape'\n",
      "'str' object has no attribute 'shape'\n",
      "'str' object has no attribute 'shape'\n",
      "'str' object has no attribute 'shape'\n",
      "'str' object has no attribute 'shape'\n",
      "'str' object has no attribute 'shape'\n",
      "'str' object has no attribute 'shape'\n",
      "'str' object has no attribute 'shape'\n",
      "'str' object has no attribute 'shape'\n",
      "'str' object has no attribute 'shape'\n",
      "Visualize scoremaps: 0.27 seconds.\n",
      "/usr/local/lib/python2.7/dist-packages/ipykernel_launcher.py:157: DeprecationWarning: BaseException.message has been deprecated as of Python 2.6\n",
      "/usr/local/lib/python2.7/dist-packages/ipykernel_launcher.py:157: DeprecationWarning: BaseException.message has been deprecated as of Python 2.6\n",
      "/usr/local/lib/python2.7/dist-packages/ipykernel_launcher.py:157: DeprecationWarning: BaseException.message has been deprecated as of Python 2.6\n",
      "/usr/local/lib/python2.7/dist-packages/ipykernel_launcher.py:157: DeprecationWarning: BaseException.message has been deprecated as of Python 2.6\n",
      "/usr/local/lib/python2.7/dist-packages/ipykernel_launcher.py:157: DeprecationWarning: BaseException.message has been deprecated as of Python 2.6\n",
      "/usr/local/lib/python2.7/dist-packages/ipykernel_launcher.py:157: DeprecationWarning: BaseException.message has been deprecated as of Python 2.6\n",
      "'str' object has no attribute 'shape'\n",
      "'str' object has no attribute 'shape'\n",
      "'str' object has no attribute 'shape'\n",
      "'str' object has no attribute 'shape'\n",
      "'str' object has no attribute 'shape'\n",
      "/usr/local/lib/python2.7/dist-packages/ipykernel_launcher.py:157: DeprecationWarning: BaseException.message has been deprecated as of Python 2.6\n",
      "/usr/local/lib/python2.7/dist-packages/ipykernel_launcher.py:157: DeprecationWarning: BaseException.message has been deprecated as of Python 2.6\n",
      "'str' object has no attribute 'shape'\n",
      "/usr/local/lib/python2.7/dist-packages/ipykernel_launcher.py:157: DeprecationWarning: BaseException.message has been deprecated as of Python 2.6\n",
      "/usr/local/lib/python2.7/dist-packages/ipykernel_launcher.py:157: DeprecationWarning: BaseException.message has been deprecated as of Python 2.6\n",
      "'str' object has no attribute 'shape'\n",
      "'str' object has no attribute 'shape'\n",
      "/usr/local/lib/python2.7/dist-packages/ipykernel_launcher.py:157: DeprecationWarning: BaseException.message has been deprecated as of Python 2.6\n",
      "'str' object has no attribute 'shape'\n",
      "'str' object has no attribute 'shape'\n",
      "'str' object has no attribute 'shape'\n",
      "/usr/local/lib/python2.7/dist-packages/ipykernel_launcher.py:157: DeprecationWarning: BaseException.message has been deprecated as of Python 2.6\n"
     ]
    },
    {
     "name": "stderr",
     "output_type": "stream",
     "text": [
      "/usr/local/lib/python2.7/dist-packages/ipykernel_launcher.py:157: DeprecationWarning: BaseException.message has been deprecated as of Python 2.6\n",
      "'str' object has no attribute 'shape'\n",
      "/usr/local/lib/python2.7/dist-packages/ipykernel_launcher.py:157: DeprecationWarning: BaseException.message has been deprecated as of Python 2.6\n",
      "'str' object has no attribute 'shape'\n",
      "/usr/local/lib/python2.7/dist-packages/ipykernel_launcher.py:157: DeprecationWarning: BaseException.message has been deprecated as of Python 2.6\n",
      "/usr/local/lib/python2.7/dist-packages/ipykernel_launcher.py:157: DeprecationWarning: BaseException.message has been deprecated as of Python 2.6\n",
      "'str' object has no attribute 'shape'\n",
      "/usr/local/lib/python2.7/dist-packages/ipykernel_launcher.py:157: DeprecationWarning: BaseException.message has been deprecated as of Python 2.6\n",
      "'str' object has no attribute 'shape'\n",
      "'str' object has no attribute 'shape'\n",
      "/usr/local/lib/python2.7/dist-packages/ipykernel_launcher.py:157: DeprecationWarning: BaseException.message has been deprecated as of Python 2.6\n",
      "'str' object has no attribute 'shape'\n",
      "/usr/local/lib/python2.7/dist-packages/ipykernel_launcher.py:157: DeprecationWarning: BaseException.message has been deprecated as of Python 2.6\n",
      "'str' object has no attribute 'shape'\n",
      "/usr/local/lib/python2.7/dist-packages/ipykernel_launcher.py:157: DeprecationWarning: BaseException.message has been deprecated as of Python 2.6\n",
      "'str' object has no attribute 'shape'\n",
      "/usr/local/lib/python2.7/dist-packages/ipykernel_launcher.py:157: DeprecationWarning: BaseException.message has been deprecated as of Python 2.6\n",
      "/usr/local/lib/python2.7/dist-packages/ipykernel_launcher.py:157: DeprecationWarning: BaseException.message has been deprecated as of Python 2.6\n",
      "'str' object has no attribute 'shape'\n",
      "'str' object has no attribute 'shape'\n",
      "'str' object has no attribute 'shape'\n",
      "/usr/local/lib/python2.7/dist-packages/ipykernel_launcher.py:157: DeprecationWarning: BaseException.message has been deprecated as of Python 2.6\n",
      "'str' object has no attribute 'shape'\n",
      "'str' object has no attribute 'shape'\n",
      "'str' object has no attribute 'shape'\n",
      "/usr/local/lib/python2.7/dist-packages/ipykernel_launcher.py:157: DeprecationWarning: BaseException.message has been deprecated as of Python 2.6\n",
      "'str' object has no attribute 'shape'\n",
      "'str' object has no attribute 'shape'\n",
      "'str' object has no attribute 'shape'\n",
      "'str' object has no attribute 'shape'\n",
      "'str' object has no attribute 'shape'\n",
      "Visualize scoremaps: 0.28 seconds.\n",
      "/usr/local/lib/python2.7/dist-packages/ipykernel_launcher.py:157: DeprecationWarning: BaseException.message has been deprecated as of Python 2.6\n",
      "'str' object has no attribute 'shape'\n",
      "/usr/local/lib/python2.7/dist-packages/ipykernel_launcher.py:157: DeprecationWarning: BaseException.message has been deprecated as of Python 2.6\n",
      "/usr/local/lib/python2.7/dist-packages/ipykernel_launcher.py:157: DeprecationWarning: BaseException.message has been deprecated as of Python 2.6\n",
      "'str' object has no attribute 'shape'\n",
      "/usr/local/lib/python2.7/dist-packages/ipykernel_launcher.py:157: DeprecationWarning: BaseException.message has been deprecated as of Python 2.6\n",
      "'str' object has no attribute 'shape'\n",
      "/usr/local/lib/python2.7/dist-packages/ipykernel_launcher.py:157: DeprecationWarning: BaseException.message has been deprecated as of Python 2.6\n",
      "'str' object has no attribute 'shape'\n",
      "/usr/local/lib/python2.7/dist-packages/ipykernel_launcher.py:157: DeprecationWarning: BaseException.message has been deprecated as of Python 2.6\n",
      "'str' object has no attribute 'shape'\n",
      "'str' object has no attribute 'shape'\n",
      "/usr/local/lib/python2.7/dist-packages/ipykernel_launcher.py:157: DeprecationWarning: BaseException.message has been deprecated as of Python 2.6\n",
      "'str' object has no attribute 'shape'\n",
      "/usr/local/lib/python2.7/dist-packages/ipykernel_launcher.py:157: DeprecationWarning: BaseException.message has been deprecated as of Python 2.6\n",
      "/usr/local/lib/python2.7/dist-packages/ipykernel_launcher.py:157: DeprecationWarning: BaseException.message has been deprecated as of Python 2.6\n",
      "'str' object has no attribute 'shape'\n",
      "'str' object has no attribute 'shape'\n",
      "'str' object has no attribute 'shape'\n",
      "/usr/local/lib/python2.7/dist-packages/ipykernel_launcher.py:157: DeprecationWarning: BaseException.message has been deprecated as of Python 2.6\n",
      "/usr/local/lib/python2.7/dist-packages/ipykernel_launcher.py:157: DeprecationWarning: BaseException.message has been deprecated as of Python 2.6\n",
      "'str' object has no attribute 'shape'\n",
      "'str' object has no attribute 'shape'\n",
      "/usr/local/lib/python2.7/dist-packages/ipykernel_launcher.py:157: DeprecationWarning: BaseException.message has been deprecated as of Python 2.6\n",
      "/usr/local/lib/python2.7/dist-packages/ipykernel_launcher.py:157: DeprecationWarning: BaseException.message has been deprecated as of Python 2.6\n",
      "'str' object has no attribute 'shape'\n",
      "/usr/local/lib/python2.7/dist-packages/ipykernel_launcher.py:157: DeprecationWarning: BaseException.message has been deprecated as of Python 2.6\n",
      "/usr/local/lib/python2.7/dist-packages/ipykernel_launcher.py:157: DeprecationWarning: BaseException.message has been deprecated as of Python 2.6\n",
      "'str' object has no attribute 'shape'\n",
      "'str' object has no attribute 'shape'\n",
      "/usr/local/lib/python2.7/dist-packages/ipykernel_launcher.py:157: DeprecationWarning: BaseException.message has been deprecated as of Python 2.6\n",
      "'str' object has no attribute 'shape'\n",
      "/usr/local/lib/python2.7/dist-packages/ipykernel_launcher.py:157: DeprecationWarning: BaseException.message has been deprecated as of Python 2.6\n",
      "/usr/local/lib/python2.7/dist-packages/ipykernel_launcher.py:157: DeprecationWarning: BaseException.message has been deprecated as of Python 2.6\n",
      "'str' object has no attribute 'shape'\n",
      "/usr/local/lib/python2.7/dist-packages/ipykernel_launcher.py:157: DeprecationWarning: BaseException.message has been deprecated as of Python 2.6\n",
      "'str' object has no attribute 'shape'\n",
      "'str' object has no attribute 'shape'\n",
      "/usr/local/lib/python2.7/dist-packages/ipykernel_launcher.py:157: DeprecationWarning: BaseException.message has been deprecated as of Python 2.6\n",
      "/usr/local/lib/python2.7/dist-packages/ipykernel_launcher.py:157: DeprecationWarning: BaseException.message has been deprecated as of Python 2.6\n",
      "/usr/local/lib/python2.7/dist-packages/ipykernel_launcher.py:157: DeprecationWarning: BaseException.message has been deprecated as of Python 2.6\n",
      "'str' object has no attribute 'shape'\n",
      "'str' object has no attribute 'shape'\n",
      "'str' object has no attribute 'shape'\n",
      "'str' object has no attribute 'shape'\n",
      "/usr/local/lib/python2.7/dist-packages/ipykernel_launcher.py:157: DeprecationWarning: BaseException.message has been deprecated as of Python 2.6\n",
      "/usr/local/lib/python2.7/dist-packages/ipykernel_launcher.py:157: DeprecationWarning: BaseException.message has been deprecated as of Python 2.6\n",
      "'str' object has no attribute 'shape'\n",
      "'str' object has no attribute 'shape'\n",
      "'str' object has no attribute 'shape'\n",
      "'str' object has no attribute 'shape'\n",
      "'str' object has no attribute 'shape'\n",
      "'str' object has no attribute 'shape'\n",
      "'str' object has no attribute 'shape'\n",
      "Visualize scoremaps: 0.28 seconds.\n"
     ]
    },
    {
     "name": "stdout",
     "output_type": "stream",
     "text": [
      "rm -rf \"/home/yuncong/CSHL_classifiers/setting_38/classifiers/sp5_clf_setting_38.dump\" && mkdir -p \"/home/yuncong/CSHL_classifiers/setting_38/classifiers\"\n",
      "aws s3 cp \"s3://mousebrainatlas-data/CSHL_classifiers/setting_38/classifiers/sp5_clf_setting_38.dump\" \"/home/yuncong/CSHL_classifiers/setting_38/classifiers/sp5_clf_setting_38.dump\"\n"
     ]
    },
    {
     "name": "stderr",
     "output_type": "stream",
     "text": [
      "Setting 38: No classifier found for sp5.\n"
     ]
    },
    {
     "name": "stdout",
     "output_type": "stream",
     "text": [
      "rm -rf \"/home/yuncong/CSHL_classifiers/setting_38/classifiers/outerContour_clf_setting_38.dump\" && mkdir -p \"/home/yuncong/CSHL_classifiers/setting_38/classifiers\"\n",
      "aws s3 cp \"s3://mousebrainatlas-data/CSHL_classifiers/setting_38/classifiers/outerContour_clf_setting_38.dump\" \"/home/yuncong/CSHL_classifiers/setting_38/classifiers/outerContour_clf_setting_38.dump\"\n"
     ]
    },
    {
     "name": "stderr",
     "output_type": "stream",
     "text": [
      "Setting 38: No classifier found for outerContour.\n"
     ]
    },
    {
     "name": "stdout",
     "output_type": "stream",
     "text": [
      "rm -rf \"/home/yuncong/media/yuncong/BstemAtlasData/CSHL_patch_features/inception-bn-blue/MD661/MD661_prep2_grayL800H0_win1/MD662&661-F58-2017.06.06-02.35.45_MD661_1_0172_prep2_grayL800H0_win1_inception-bn-blue_features.bp\" && mkdir -p \"/home/yuncong/media/yuncong/BstemAtlasData/CSHL_patch_features/inception-bn-blue/MD661/MD661_prep2_grayL800H0_win1\"\n",
      "rm -rf \"/home/yuncong/media/yuncong/BstemAtlasData/CSHL_patch_features/inception-bn-blue/MD661/MD661_prep2_grayL800H0_win1/MD662&661-F57-2017.06.06-02.06.22_MD661_3_0171_prep2_grayL800H0_win1_inception-bn-blue_features.bp\" && mkdir -p \"/home/yuncong/media/yuncong/BstemAtlasData/CSHL_patch_features/inception-bn-blue/MD661/MD661_prep2_grayL800H0_win1\"\n",
      "rm -rf \"/home/yuncong/media/yuncong/BstemAtlasData/CSHL_patch_features/inception-bn-blue/MD661/MD661_prep2_grayL800H0_win1/MD662&661-F58-2017.06.06-02.35.45_MD661_2_0173_prep2_grayL800H0_win1_inception-bn-blue_features.bp\" && mkdir -p \"/home/yuncong/media/yuncong/BstemAtlasData/CSHL_patch_features/inception-bn-blue/MD661/MD661_prep2_grayL800H0_win1\"\n",
      "aws s3 cp \"s3://mousebrainatlas-data/media/yuncong/BstemAtlasData/CSHL_patch_features/inception-bn-blue/MD661/MD661_prep2_grayL800H0_win1/MD662&661-F58-2017.06.06-02.35.45_MD661_2_0173_prep2_grayL800H0_win1_inception-bn-blue_features.bp\" \"/home/yuncong/media/yuncong/BstemAtlasData/CSHL_patch_features/inception-bn-blue/MD661/MD661_prep2_grayL800H0_win1/MD662&661-F58-2017.06.06-02.35.45_MD661_2_0173_prep2_grayL800H0_win1_inception-bn-blue_features.bp\"\n",
      "aws s3 cp \"s3://mousebrainatlas-data/media/yuncong/BstemAtlasData/CSHL_patch_features/inception-bn-blue/MD661/MD661_prep2_grayL800H0_win1/MD662&661-F57-2017.06.06-02.06.22_MD661_3_0171_prep2_grayL800H0_win1_inception-bn-blue_features.bp\" \"/home/yuncong/media/yuncong/BstemAtlasData/CSHL_patch_features/inception-bn-blue/MD661/MD661_prep2_grayL800H0_win1/MD662&661-F57-2017.06.06-02.06.22_MD661_3_0171_prep2_grayL800H0_win1_inception-bn-blue_features.bp\"\n",
      "aws s3 cp \"s3://mousebrainatlas-data/media/yuncong/BstemAtlasData/CSHL_patch_features/inception-bn-blue/MD661/MD661_prep2_grayL800H0_win1/MD662&661-F58-2017.06.06-02.35.45_MD661_1_0172_prep2_grayL800H0_win1_inception-bn-blue_features.bp\" \"/home/yuncong/media/yuncong/BstemAtlasData/CSHL_patch_features/inception-bn-blue/MD661/MD661_prep2_grayL800H0_win1/MD662&661-F58-2017.06.06-02.35.45_MD661_1_0172_prep2_grayL800H0_win1_inception-bn-blue_features.bp\"\n"
     ]
    },
    {
     "name": "stderr",
     "output_type": "stream",
     "text": [
      "/usr/local/lib/python2.7/dist-packages/ipykernel_launcher.py:34: DeprecationWarning: BaseException.message has been deprecated as of Python 2.6\n",
      "\n",
      "/usr/local/lib/python2.7/dist-packages/ipykernel_launcher.py:34: DeprecationWarning: BaseException.message has been deprecated as of Python 2.6\n",
      "\n",
      "/usr/local/lib/python2.7/dist-packages/ipykernel_launcher.py:34: DeprecationWarning: BaseException.message has been deprecated as of Python 2.6\n",
      "\n",
      "Classifier predict: 0.90\n"
     ]
    },
    {
     "name": "stdout",
     "output_type": "stream",
     "text": [
      "rm -rf \"/home/yuncong/CSHL_patch_scores/MD661/MD662&661-F58-2017.06.06-02.35.45_MD661_1_0172_prep2_gray/detector9/MD662&661-F58-2017.06.06-02.35.45_MD661_1_0172_prep2_gray_detector9_10N_sparseScores.bp\" && mkdir -p \"/home/yuncong/CSHL_patch_scores/MD661/MD662&661-F58-2017.06.06-02.35.45_MD661_1_0172_prep2_gray/detector9\"\n",
      "aws s3 cp \"s3://mousebrainatlas-data/CSHL_patch_scores/MD661/MD662&661-F58-2017.06.06-02.35.45_MD661_1_0172_prep2_gray/detector9/MD662&661-F58-2017.06.06-02.35.45_MD661_1_0172_prep2_gray_detector9_10N_sparseScores.bp\" \"/home/yuncong/CSHL_patch_scores/MD661/MD662&661-F58-2017.06.06-02.35.45_MD661_1_0172_prep2_gray/detector9/MD662&661-F58-2017.06.06-02.35.45_MD661_1_0172_prep2_gray_detector9_10N_sparseScores.bp\"\n",
      "rm -rf \"/home/yuncong/CSHL_patch_scores/MD661/MD662&661-F58-2017.06.06-02.35.45_MD661_2_0173_prep2_gray/detector9/MD662&661-F58-2017.06.06-02.35.45_MD661_2_0173_prep2_gray_detector9_10N_sparseScores.bp\" && mkdir -p \"/home/yuncong/CSHL_patch_scores/MD661/MD662&661-F58-2017.06.06-02.35.45_MD661_2_0173_prep2_gray/detector9\"\n",
      "rm -rf \"/home/yuncong/CSHL_patch_scores/MD661/MD662&661-F57-2017.06.06-02.06.22_MD661_3_0171_prep2_gray/detector9/MD662&661-F57-2017.06.06-02.06.22_MD661_3_0171_prep2_gray_detector9_10N_sparseScores.bp\" && mkdir -p \"/home/yuncong/CSHL_patch_scores/MD661/MD662&661-F57-2017.06.06-02.06.22_MD661_3_0171_prep2_gray/detector9\"\n",
      "aws s3 cp \"s3://mousebrainatlas-data/CSHL_patch_scores/MD661/MD662&661-F57-2017.06.06-02.06.22_MD661_3_0171_prep2_gray/detector9/MD662&661-F57-2017.06.06-02.06.22_MD661_3_0171_prep2_gray_detector9_10N_sparseScores.bp\" \"/home/yuncong/CSHL_patch_scores/MD661/MD662&661-F57-2017.06.06-02.06.22_MD661_3_0171_prep2_gray/detector9/MD662&661-F57-2017.06.06-02.06.22_MD661_3_0171_prep2_gray_detector9_10N_sparseScores.bp\"\n",
      "aws s3 cp \"s3://mousebrainatlas-data/CSHL_patch_scores/MD661/MD662&661-F58-2017.06.06-02.35.45_MD661_2_0173_prep2_gray/detector9/MD662&661-F58-2017.06.06-02.35.45_MD661_2_0173_prep2_gray_detector9_10N_sparseScores.bp\" \"/home/yuncong/CSHL_patch_scores/MD661/MD662&661-F58-2017.06.06-02.35.45_MD661_2_0173_prep2_gray/detector9/MD662&661-F58-2017.06.06-02.35.45_MD661_2_0173_prep2_gray_detector9_10N_sparseScores.bp\"\n"
     ]
    },
    {
     "name": "stderr",
     "output_type": "stream",
     "text": [
      "File does not exist: /home/yuncong/CSHL_patch_scores/MD661/MD662&661-F58-2017.06.06-02.35.45_MD661_2_0173_prep2_gray/detector9/MD662&661-F58-2017.06.06-02.35.45_MD661_2_0173_prep2_gray_detector9_10N_sparseScores.bp\n",
      "File does not exist: /home/yuncong/CSHL_patch_scores/MD661/MD662&661-F58-2017.06.06-02.35.45_MD661_1_0172_prep2_gray/detector9/MD662&661-F58-2017.06.06-02.35.45_MD661_1_0172_prep2_gray_detector9_10N_sparseScores.bp\n",
      "Error loading sparse scores for 10N: [Errno 2] No such file or directory: '/home/yuncong/CSHL_patch_scores/MD661/MD662&661-F58-2017.06.06-02.35.45_MD661_2_0173_prep2_gray/detector9/MD662&661-F58-2017.06.06-02.35.45_MD661_2_0173_prep2_gray_detector9_10N_sparseScores.bp'\n",
      "Error loading sparse scores for 10N: [Errno 2] No such file or directory: '/home/yuncong/CSHL_patch_scores/MD661/MD662&661-F58-2017.06.06-02.35.45_MD661_1_0172_prep2_gray/detector9/MD662&661-F58-2017.06.06-02.35.45_MD661_1_0172_prep2_gray_detector9_10N_sparseScores.bp'\n"
     ]
    },
    {
     "name": "stdout",
     "output_type": "stream",
     "text": [
      "rm -rf \"/home/yuncong/CSHL_patch_scores/MD661/MD662&661-F58-2017.06.06-02.35.45_MD661_2_0173_prep2_gray/detector9/MD662&661-F58-2017.06.06-02.35.45_MD661_2_0173_prep2_gray_detector9_12N_sparseScores.bp\" && mkdir -p \"/home/yuncong/CSHL_patch_scores/MD661/MD662&661-F58-2017.06.06-02.35.45_MD661_2_0173_prep2_gray/detector9\"\n",
      "rm -rf \"/home/yuncong/CSHL_patch_scores/MD661/MD662&661-F58-2017.06.06-02.35.45_MD661_1_0172_prep2_gray/detector9/MD662&661-F58-2017.06.06-02.35.45_MD661_1_0172_prep2_gray_detector9_12N_sparseScores.bp\" && mkdir -p \"/home/yuncong/CSHL_patch_scores/MD661/MD662&661-F58-2017.06.06-02.35.45_MD661_1_0172_prep2_gray/detector9\"\n"
     ]
    },
    {
     "name": "stderr",
     "output_type": "stream",
     "text": [
      "File does not exist: /home/yuncong/CSHL_patch_scores/MD661/MD662&661-F57-2017.06.06-02.06.22_MD661_3_0171_prep2_gray/detector9/MD662&661-F57-2017.06.06-02.06.22_MD661_3_0171_prep2_gray_detector9_10N_sparseScores.bp\n",
      "Error loading sparse scores for 10N: [Errno 2] No such file or directory: '/home/yuncong/CSHL_patch_scores/MD661/MD662&661-F57-2017.06.06-02.06.22_MD661_3_0171_prep2_gray/detector9/MD662&661-F57-2017.06.06-02.06.22_MD661_3_0171_prep2_gray_detector9_10N_sparseScores.bp'\n"
     ]
    },
    {
     "name": "stdout",
     "output_type": "stream",
     "text": [
      "rm -rf \"/home/yuncong/CSHL_patch_scores/MD661/MD662&661-F57-2017.06.06-02.06.22_MD661_3_0171_prep2_gray/detector9/MD662&661-F57-2017.06.06-02.06.22_MD661_3_0171_prep2_gray_detector9_12N_sparseScores.bp\" && mkdir -p \"/home/yuncong/CSHL_patch_scores/MD661/MD662&661-F57-2017.06.06-02.06.22_MD661_3_0171_prep2_gray/detector9\"\n",
      "aws s3 cp \"s3://mousebrainatlas-data/CSHL_patch_scores/MD661/MD662&661-F58-2017.06.06-02.35.45_MD661_2_0173_prep2_gray/detector9/MD662&661-F58-2017.06.06-02.35.45_MD661_2_0173_prep2_gray_detector9_12N_sparseScores.bp\" \"/home/yuncong/CSHL_patch_scores/MD661/MD662&661-F58-2017.06.06-02.35.45_MD661_2_0173_prep2_gray/detector9/MD662&661-F58-2017.06.06-02.35.45_MD661_2_0173_prep2_gray_detector9_12N_sparseScores.bp\"\n",
      "aws s3 cp \"s3://mousebrainatlas-data/CSHL_patch_scores/MD661/MD662&661-F58-2017.06.06-02.35.45_MD661_1_0172_prep2_gray/detector9/MD662&661-F58-2017.06.06-02.35.45_MD661_1_0172_prep2_gray_detector9_12N_sparseScores.bp\" \"/home/yuncong/CSHL_patch_scores/MD661/MD662&661-F58-2017.06.06-02.35.45_MD661_1_0172_prep2_gray/detector9/MD662&661-F58-2017.06.06-02.35.45_MD661_1_0172_prep2_gray_detector9_12N_sparseScores.bp\"\n",
      "aws s3 cp \"s3://mousebrainatlas-data/CSHL_patch_scores/MD661/MD662&661-F57-2017.06.06-02.06.22_MD661_3_0171_prep2_gray/detector9/MD662&661-F57-2017.06.06-02.06.22_MD661_3_0171_prep2_gray_detector9_12N_sparseScores.bp\" \"/home/yuncong/CSHL_patch_scores/MD661/MD662&661-F57-2017.06.06-02.06.22_MD661_3_0171_prep2_gray/detector9/MD662&661-F57-2017.06.06-02.06.22_MD661_3_0171_prep2_gray_detector9_12N_sparseScores.bp\"\n"
     ]
    },
    {
     "name": "stderr",
     "output_type": "stream",
     "text": [
      "File does not exist: /home/yuncong/CSHL_patch_scores/MD661/MD662&661-F58-2017.06.06-02.35.45_MD661_1_0172_prep2_gray/detector9/MD662&661-F58-2017.06.06-02.35.45_MD661_1_0172_prep2_gray_detector9_12N_sparseScores.bp\n",
      "Error loading sparse scores for 12N: [Errno 2] No such file or directory: '/home/yuncong/CSHL_patch_scores/MD661/MD662&661-F58-2017.06.06-02.35.45_MD661_1_0172_prep2_gray/detector9/MD662&661-F58-2017.06.06-02.35.45_MD661_1_0172_prep2_gray_detector9_12N_sparseScores.bp'\n"
     ]
    },
    {
     "name": "stdout",
     "output_type": "stream",
     "text": [
      "rm -rf \"/home/yuncong/CSHL_patch_scores/MD661/MD662&661-F58-2017.06.06-02.35.45_MD661_1_0172_prep2_gray/detector9/MD662&661-F58-2017.06.06-02.35.45_MD661_1_0172_prep2_gray_detector9_3N_sparseScores.bp\" && mkdir -p \"/home/yuncong/CSHL_patch_scores/MD661/MD662&661-F58-2017.06.06-02.35.45_MD661_1_0172_prep2_gray/detector9\"\n",
      "aws s3 cp \"s3://mousebrainatlas-data/CSHL_patch_scores/MD661/MD662&661-F58-2017.06.06-02.35.45_MD661_1_0172_prep2_gray/detector9/MD662&661-F58-2017.06.06-02.35.45_MD661_1_0172_prep2_gray_detector9_3N_sparseScores.bp\" \"/home/yuncong/CSHL_patch_scores/MD661/MD662&661-F58-2017.06.06-02.35.45_MD661_1_0172_prep2_gray/detector9/MD662&661-F58-2017.06.06-02.35.45_MD661_1_0172_prep2_gray_detector9_3N_sparseScores.bp\"\n"
     ]
    },
    {
     "name": "stderr",
     "output_type": "stream",
     "text": [
      "File does not exist: /home/yuncong/CSHL_patch_scores/MD661/MD662&661-F58-2017.06.06-02.35.45_MD661_2_0173_prep2_gray/detector9/MD662&661-F58-2017.06.06-02.35.45_MD661_2_0173_prep2_gray_detector9_12N_sparseScores.bp\n",
      "Error loading sparse scores for 12N: [Errno 2] No such file or directory: '/home/yuncong/CSHL_patch_scores/MD661/MD662&661-F58-2017.06.06-02.35.45_MD661_2_0173_prep2_gray/detector9/MD662&661-F58-2017.06.06-02.35.45_MD661_2_0173_prep2_gray_detector9_12N_sparseScores.bp'\n"
     ]
    },
    {
     "name": "stdout",
     "output_type": "stream",
     "text": [
      "rm -rf \"/home/yuncong/CSHL_patch_scores/MD661/MD662&661-F58-2017.06.06-02.35.45_MD661_2_0173_prep2_gray/detector9/MD662&661-F58-2017.06.06-02.35.45_MD661_2_0173_prep2_gray_detector9_3N_sparseScores.bp\" && mkdir -p \"/home/yuncong/CSHL_patch_scores/MD661/MD662&661-F58-2017.06.06-02.35.45_MD661_2_0173_prep2_gray/detector9\"\n"
     ]
    },
    {
     "name": "stderr",
     "output_type": "stream",
     "text": [
      "File does not exist: /home/yuncong/CSHL_patch_scores/MD661/MD662&661-F57-2017.06.06-02.06.22_MD661_3_0171_prep2_gray/detector9/MD662&661-F57-2017.06.06-02.06.22_MD661_3_0171_prep2_gray_detector9_12N_sparseScores.bp\n",
      "Error loading sparse scores for 12N: [Errno 2] No such file or directory: '/home/yuncong/CSHL_patch_scores/MD661/MD662&661-F57-2017.06.06-02.06.22_MD661_3_0171_prep2_gray/detector9/MD662&661-F57-2017.06.06-02.06.22_MD661_3_0171_prep2_gray_detector9_12N_sparseScores.bp'\n"
     ]
    },
    {
     "name": "stdout",
     "output_type": "stream",
     "text": [
      "rm -rf \"/home/yuncong/CSHL_patch_scores/MD661/MD662&661-F57-2017.06.06-02.06.22_MD661_3_0171_prep2_gray/detector9/MD662&661-F57-2017.06.06-02.06.22_MD661_3_0171_prep2_gray_detector9_3N_sparseScores.bp\" && mkdir -p \"/home/yuncong/CSHL_patch_scores/MD661/MD662&661-F57-2017.06.06-02.06.22_MD661_3_0171_prep2_gray/detector9\"\n",
      "aws s3 cp \"s3://mousebrainatlas-data/CSHL_patch_scores/MD661/MD662&661-F58-2017.06.06-02.35.45_MD661_2_0173_prep2_gray/detector9/MD662&661-F58-2017.06.06-02.35.45_MD661_2_0173_prep2_gray_detector9_3N_sparseScores.bp\" \"/home/yuncong/CSHL_patch_scores/MD661/MD662&661-F58-2017.06.06-02.35.45_MD661_2_0173_prep2_gray/detector9/MD662&661-F58-2017.06.06-02.35.45_MD661_2_0173_prep2_gray_detector9_3N_sparseScores.bp\"\n",
      "aws s3 cp \"s3://mousebrainatlas-data/CSHL_patch_scores/MD661/MD662&661-F57-2017.06.06-02.06.22_MD661_3_0171_prep2_gray/detector9/MD662&661-F57-2017.06.06-02.06.22_MD661_3_0171_prep2_gray_detector9_3N_sparseScores.bp\" \"/home/yuncong/CSHL_patch_scores/MD661/MD662&661-F57-2017.06.06-02.06.22_MD661_3_0171_prep2_gray/detector9/MD662&661-F57-2017.06.06-02.06.22_MD661_3_0171_prep2_gray_detector9_3N_sparseScores.bp\"\n"
     ]
    },
    {
     "name": "stderr",
     "output_type": "stream",
     "text": [
      "File does not exist: /home/yuncong/CSHL_patch_scores/MD661/MD662&661-F58-2017.06.06-02.35.45_MD661_1_0172_prep2_gray/detector9/MD662&661-F58-2017.06.06-02.35.45_MD661_1_0172_prep2_gray_detector9_3N_sparseScores.bp\n",
      "Error loading sparse scores for 3N: [Errno 2] No such file or directory: '/home/yuncong/CSHL_patch_scores/MD661/MD662&661-F58-2017.06.06-02.35.45_MD661_1_0172_prep2_gray/detector9/MD662&661-F58-2017.06.06-02.35.45_MD661_1_0172_prep2_gray_detector9_3N_sparseScores.bp'\n"
     ]
    },
    {
     "name": "stdout",
     "output_type": "stream",
     "text": [
      "rm -rf \"/home/yuncong/CSHL_patch_scores/MD661/MD662&661-F58-2017.06.06-02.35.45_MD661_1_0172_prep2_gray/detector9/MD662&661-F58-2017.06.06-02.35.45_MD661_1_0172_prep2_gray_detector9_4N_sparseScores.bp\" && mkdir -p \"/home/yuncong/CSHL_patch_scores/MD661/MD662&661-F58-2017.06.06-02.35.45_MD661_1_0172_prep2_gray/detector9\"\n",
      "aws s3 cp \"s3://mousebrainatlas-data/CSHL_patch_scores/MD661/MD662&661-F58-2017.06.06-02.35.45_MD661_1_0172_prep2_gray/detector9/MD662&661-F58-2017.06.06-02.35.45_MD661_1_0172_prep2_gray_detector9_4N_sparseScores.bp\" \"/home/yuncong/CSHL_patch_scores/MD661/MD662&661-F58-2017.06.06-02.35.45_MD661_1_0172_prep2_gray/detector9/MD662&661-F58-2017.06.06-02.35.45_MD661_1_0172_prep2_gray_detector9_4N_sparseScores.bp\"\n"
     ]
    },
    {
     "name": "stderr",
     "output_type": "stream",
     "text": [
      "File does not exist: /home/yuncong/CSHL_patch_scores/MD661/MD662&661-F58-2017.06.06-02.35.45_MD661_2_0173_prep2_gray/detector9/MD662&661-F58-2017.06.06-02.35.45_MD661_2_0173_prep2_gray_detector9_3N_sparseScores.bp\n",
      "File does not exist: /home/yuncong/CSHL_patch_scores/MD661/MD662&661-F57-2017.06.06-02.06.22_MD661_3_0171_prep2_gray/detector9/MD662&661-F57-2017.06.06-02.06.22_MD661_3_0171_prep2_gray_detector9_3N_sparseScores.bp\n",
      "Error loading sparse scores for 3N: [Errno 2] No such file or directory: '/home/yuncong/CSHL_patch_scores/MD661/MD662&661-F57-2017.06.06-02.06.22_MD661_3_0171_prep2_gray/detector9/MD662&661-F57-2017.06.06-02.06.22_MD661_3_0171_prep2_gray_detector9_3N_sparseScores.bp'\n",
      "Error loading sparse scores for 3N: [Errno 2] No such file or directory: '/home/yuncong/CSHL_patch_scores/MD661/MD662&661-F58-2017.06.06-02.35.45_MD661_2_0173_prep2_gray/detector9/MD662&661-F58-2017.06.06-02.35.45_MD661_2_0173_prep2_gray_detector9_3N_sparseScores.bp'\n"
     ]
    },
    {
     "name": "stdout",
     "output_type": "stream",
     "text": [
      "rm -rf \"/home/yuncong/CSHL_patch_scores/MD661/MD662&661-F57-2017.06.06-02.06.22_MD661_3_0171_prep2_gray/detector9/MD662&661-F57-2017.06.06-02.06.22_MD661_3_0171_prep2_gray_detector9_4N_sparseScores.bp\" && mkdir -p \"/home/yuncong/CSHL_patch_scores/MD661/MD662&661-F57-2017.06.06-02.06.22_MD661_3_0171_prep2_gray/detector9\"\n",
      "rm -rf \"/home/yuncong/CSHL_patch_scores/MD661/MD662&661-F58-2017.06.06-02.35.45_MD661_2_0173_prep2_gray/detector9/MD662&661-F58-2017.06.06-02.35.45_MD661_2_0173_prep2_gray_detector9_4N_sparseScores.bp\" && mkdir -p \"/home/yuncong/CSHL_patch_scores/MD661/MD662&661-F58-2017.06.06-02.35.45_MD661_2_0173_prep2_gray/detector9\"\n",
      "aws s3 cp \"s3://mousebrainatlas-data/CSHL_patch_scores/MD661/MD662&661-F57-2017.06.06-02.06.22_MD661_3_0171_prep2_gray/detector9/MD662&661-F57-2017.06.06-02.06.22_MD661_3_0171_prep2_gray_detector9_4N_sparseScores.bp\" \"/home/yuncong/CSHL_patch_scores/MD661/MD662&661-F57-2017.06.06-02.06.22_MD661_3_0171_prep2_gray/detector9/MD662&661-F57-2017.06.06-02.06.22_MD661_3_0171_prep2_gray_detector9_4N_sparseScores.bp\"\n",
      "aws s3 cp \"s3://mousebrainatlas-data/CSHL_patch_scores/MD661/MD662&661-F58-2017.06.06-02.35.45_MD661_2_0173_prep2_gray/detector9/MD662&661-F58-2017.06.06-02.35.45_MD661_2_0173_prep2_gray_detector9_4N_sparseScores.bp\" \"/home/yuncong/CSHL_patch_scores/MD661/MD662&661-F58-2017.06.06-02.35.45_MD661_2_0173_prep2_gray/detector9/MD662&661-F58-2017.06.06-02.35.45_MD661_2_0173_prep2_gray_detector9_4N_sparseScores.bp\"\n"
     ]
    },
    {
     "name": "stderr",
     "output_type": "stream",
     "text": [
      "File does not exist: /home/yuncong/CSHL_patch_scores/MD661/MD662&661-F58-2017.06.06-02.35.45_MD661_1_0172_prep2_gray/detector9/MD662&661-F58-2017.06.06-02.35.45_MD661_1_0172_prep2_gray_detector9_4N_sparseScores.bp\n",
      "Error loading sparse scores for 4N: [Errno 2] No such file or directory: '/home/yuncong/CSHL_patch_scores/MD661/MD662&661-F58-2017.06.06-02.35.45_MD661_1_0172_prep2_gray/detector9/MD662&661-F58-2017.06.06-02.35.45_MD661_1_0172_prep2_gray_detector9_4N_sparseScores.bp'\n"
     ]
    },
    {
     "name": "stdout",
     "output_type": "stream",
     "text": [
      "rm -rf \"/home/yuncong/CSHL_patch_scores/MD661/MD662&661-F58-2017.06.06-02.35.45_MD661_1_0172_prep2_gray/detector9/MD662&661-F58-2017.06.06-02.35.45_MD661_1_0172_prep2_gray_detector9_5N_sparseScores.bp\" && mkdir -p \"/home/yuncong/CSHL_patch_scores/MD661/MD662&661-F58-2017.06.06-02.35.45_MD661_1_0172_prep2_gray/detector9\"\n"
     ]
    },
    {
     "name": "stderr",
     "output_type": "stream",
     "text": [
      "File does not exist: /home/yuncong/CSHL_patch_scores/MD661/MD662&661-F58-2017.06.06-02.35.45_MD661_2_0173_prep2_gray/detector9/MD662&661-F58-2017.06.06-02.35.45_MD661_2_0173_prep2_gray_detector9_4N_sparseScores.bp\n",
      "Error loading sparse scores for 4N: [Errno 2] No such file or directory: '/home/yuncong/CSHL_patch_scores/MD661/MD662&661-F58-2017.06.06-02.35.45_MD661_2_0173_prep2_gray/detector9/MD662&661-F58-2017.06.06-02.35.45_MD661_2_0173_prep2_gray_detector9_4N_sparseScores.bp'\n"
     ]
    },
    {
     "name": "stdout",
     "output_type": "stream",
     "text": [
      "rm -rf \"/home/yuncong/CSHL_patch_scores/MD661/MD662&661-F58-2017.06.06-02.35.45_MD661_2_0173_prep2_gray/detector9/MD662&661-F58-2017.06.06-02.35.45_MD661_2_0173_prep2_gray_detector9_5N_sparseScores.bp\" && mkdir -p \"/home/yuncong/CSHL_patch_scores/MD661/MD662&661-F58-2017.06.06-02.35.45_MD661_2_0173_prep2_gray/detector9\"\n",
      "aws s3 cp \"s3://mousebrainatlas-data/CSHL_patch_scores/MD661/MD662&661-F58-2017.06.06-02.35.45_MD661_1_0172_prep2_gray/detector9/MD662&661-F58-2017.06.06-02.35.45_MD661_1_0172_prep2_gray_detector9_5N_sparseScores.bp\" \"/home/yuncong/CSHL_patch_scores/MD661/MD662&661-F58-2017.06.06-02.35.45_MD661_1_0172_prep2_gray/detector9/MD662&661-F58-2017.06.06-02.35.45_MD661_1_0172_prep2_gray_detector9_5N_sparseScores.bp\"\n"
     ]
    },
    {
     "name": "stderr",
     "output_type": "stream",
     "text": [
      "File does not exist: /home/yuncong/CSHL_patch_scores/MD661/MD662&661-F57-2017.06.06-02.06.22_MD661_3_0171_prep2_gray/detector9/MD662&661-F57-2017.06.06-02.06.22_MD661_3_0171_prep2_gray_detector9_4N_sparseScores.bp\n"
     ]
    },
    {
     "name": "stdout",
     "output_type": "stream",
     "text": [
      "aws s3 cp \"s3://mousebrainatlas-data/CSHL_patch_scores/MD661/MD662&661-F58-2017.06.06-02.35.45_MD661_2_0173_prep2_gray/detector9/MD662&661-F58-2017.06.06-02.35.45_MD661_2_0173_prep2_gray_detector9_5N_sparseScores.bp\" \"/home/yuncong/CSHL_patch_scores/MD661/MD662&661-F58-2017.06.06-02.35.45_MD661_2_0173_prep2_gray/detector9/MD662&661-F58-2017.06.06-02.35.45_MD661_2_0173_prep2_gray_detector9_5N_sparseScores.bp\"\n"
     ]
    },
    {
     "name": "stderr",
     "output_type": "stream",
     "text": [
      "Error loading sparse scores for 4N: [Errno 2] No such file or directory: '/home/yuncong/CSHL_patch_scores/MD661/MD662&661-F57-2017.06.06-02.06.22_MD661_3_0171_prep2_gray/detector9/MD662&661-F57-2017.06.06-02.06.22_MD661_3_0171_prep2_gray_detector9_4N_sparseScores.bp'\n"
     ]
    },
    {
     "name": "stdout",
     "output_type": "stream",
     "text": [
      "rm -rf \"/home/yuncong/CSHL_patch_scores/MD661/MD662&661-F57-2017.06.06-02.06.22_MD661_3_0171_prep2_gray/detector9/MD662&661-F57-2017.06.06-02.06.22_MD661_3_0171_prep2_gray_detector9_5N_sparseScores.bp\" && mkdir -p \"/home/yuncong/CSHL_patch_scores/MD661/MD662&661-F57-2017.06.06-02.06.22_MD661_3_0171_prep2_gray/detector9\"\n",
      "aws s3 cp \"s3://mousebrainatlas-data/CSHL_patch_scores/MD661/MD662&661-F57-2017.06.06-02.06.22_MD661_3_0171_prep2_gray/detector9/MD662&661-F57-2017.06.06-02.06.22_MD661_3_0171_prep2_gray_detector9_5N_sparseScores.bp\" \"/home/yuncong/CSHL_patch_scores/MD661/MD662&661-F57-2017.06.06-02.06.22_MD661_3_0171_prep2_gray/detector9/MD662&661-F57-2017.06.06-02.06.22_MD661_3_0171_prep2_gray_detector9_5N_sparseScores.bp\"\n"
     ]
    },
    {
     "name": "stderr",
     "output_type": "stream",
     "text": [
      "File does not exist: /home/yuncong/CSHL_patch_scores/MD661/MD662&661-F58-2017.06.06-02.35.45_MD661_1_0172_prep2_gray/detector9/MD662&661-F58-2017.06.06-02.35.45_MD661_1_0172_prep2_gray_detector9_5N_sparseScores.bp\n",
      "Error loading sparse scores for 5N: [Errno 2] No such file or directory: '/home/yuncong/CSHL_patch_scores/MD661/MD662&661-F58-2017.06.06-02.35.45_MD661_1_0172_prep2_gray/detector9/MD662&661-F58-2017.06.06-02.35.45_MD661_1_0172_prep2_gray_detector9_5N_sparseScores.bp'\n"
     ]
    },
    {
     "name": "stdout",
     "output_type": "stream",
     "text": [
      "rm -rf \"/home/yuncong/CSHL_patch_scores/MD661/MD662&661-F58-2017.06.06-02.35.45_MD661_1_0172_prep2_gray/detector9/MD662&661-F58-2017.06.06-02.35.45_MD661_1_0172_prep2_gray_detector9_6N_sparseScores.bp\" && mkdir -p \"/home/yuncong/CSHL_patch_scores/MD661/MD662&661-F58-2017.06.06-02.35.45_MD661_1_0172_prep2_gray/detector9\"\n",
      "aws s3 cp \"s3://mousebrainatlas-data/CSHL_patch_scores/MD661/MD662&661-F58-2017.06.06-02.35.45_MD661_1_0172_prep2_gray/detector9/MD662&661-F58-2017.06.06-02.35.45_MD661_1_0172_prep2_gray_detector9_6N_sparseScores.bp\" \"/home/yuncong/CSHL_patch_scores/MD661/MD662&661-F58-2017.06.06-02.35.45_MD661_1_0172_prep2_gray/detector9/MD662&661-F58-2017.06.06-02.35.45_MD661_1_0172_prep2_gray_detector9_6N_sparseScores.bp\"\n"
     ]
    },
    {
     "name": "stderr",
     "output_type": "stream",
     "text": [
      "File does not exist: /home/yuncong/CSHL_patch_scores/MD661/MD662&661-F58-2017.06.06-02.35.45_MD661_2_0173_prep2_gray/detector9/MD662&661-F58-2017.06.06-02.35.45_MD661_2_0173_prep2_gray_detector9_5N_sparseScores.bp\n",
      "File does not exist: /home/yuncong/CSHL_patch_scores/MD661/MD662&661-F57-2017.06.06-02.06.22_MD661_3_0171_prep2_gray/detector9/MD662&661-F57-2017.06.06-02.06.22_MD661_3_0171_prep2_gray_detector9_5N_sparseScores.bp\n",
      "Error loading sparse scores for 5N: [Errno 2] No such file or directory: '/home/yuncong/CSHL_patch_scores/MD661/MD662&661-F58-2017.06.06-02.35.45_MD661_2_0173_prep2_gray/detector9/MD662&661-F58-2017.06.06-02.35.45_MD661_2_0173_prep2_gray_detector9_5N_sparseScores.bp'\n",
      "Error loading sparse scores for 5N: [Errno 2] No such file or directory: '/home/yuncong/CSHL_patch_scores/MD661/MD662&661-F57-2017.06.06-02.06.22_MD661_3_0171_prep2_gray/detector9/MD662&661-F57-2017.06.06-02.06.22_MD661_3_0171_prep2_gray_detector9_5N_sparseScores.bp'\n"
     ]
    },
    {
     "name": "stdout",
     "output_type": "stream",
     "text": [
      "rm -rf \"/home/yuncong/CSHL_patch_scores/MD661/MD662&661-F58-2017.06.06-02.35.45_MD661_2_0173_prep2_gray/detector9/MD662&661-F58-2017.06.06-02.35.45_MD661_2_0173_prep2_gray_detector9_6N_sparseScores.bp\" && mkdir -p \"/home/yuncong/CSHL_patch_scores/MD661/MD662&661-F58-2017.06.06-02.35.45_MD661_2_0173_prep2_gray/detector9\"\n",
      "rm -rf \"/home/yuncong/CSHL_patch_scores/MD661/MD662&661-F57-2017.06.06-02.06.22_MD661_3_0171_prep2_gray/detector9/MD662&661-F57-2017.06.06-02.06.22_MD661_3_0171_prep2_gray_detector9_6N_sparseScores.bp\" && mkdir -p \"/home/yuncong/CSHL_patch_scores/MD661/MD662&661-F57-2017.06.06-02.06.22_MD661_3_0171_prep2_gray/detector9\"\n",
      "aws s3 cp \"s3://mousebrainatlas-data/CSHL_patch_scores/MD661/MD662&661-F58-2017.06.06-02.35.45_MD661_2_0173_prep2_gray/detector9/MD662&661-F58-2017.06.06-02.35.45_MD661_2_0173_prep2_gray_detector9_6N_sparseScores.bp\" \"/home/yuncong/CSHL_patch_scores/MD661/MD662&661-F58-2017.06.06-02.35.45_MD661_2_0173_prep2_gray/detector9/MD662&661-F58-2017.06.06-02.35.45_MD661_2_0173_prep2_gray_detector9_6N_sparseScores.bp\"\n",
      "aws s3 cp \"s3://mousebrainatlas-data/CSHL_patch_scores/MD661/MD662&661-F57-2017.06.06-02.06.22_MD661_3_0171_prep2_gray/detector9/MD662&661-F57-2017.06.06-02.06.22_MD661_3_0171_prep2_gray_detector9_6N_sparseScores.bp\" \"/home/yuncong/CSHL_patch_scores/MD661/MD662&661-F57-2017.06.06-02.06.22_MD661_3_0171_prep2_gray/detector9/MD662&661-F57-2017.06.06-02.06.22_MD661_3_0171_prep2_gray_detector9_6N_sparseScores.bp\"\n"
     ]
    },
    {
     "name": "stderr",
     "output_type": "stream",
     "text": [
      "File does not exist: /home/yuncong/CSHL_patch_scores/MD661/MD662&661-F58-2017.06.06-02.35.45_MD661_1_0172_prep2_gray/detector9/MD662&661-F58-2017.06.06-02.35.45_MD661_1_0172_prep2_gray_detector9_6N_sparseScores.bp\n",
      "Error loading sparse scores for 6N: [Errno 2] No such file or directory: '/home/yuncong/CSHL_patch_scores/MD661/MD662&661-F58-2017.06.06-02.35.45_MD661_1_0172_prep2_gray/detector9/MD662&661-F58-2017.06.06-02.35.45_MD661_1_0172_prep2_gray_detector9_6N_sparseScores.bp'\n"
     ]
    },
    {
     "name": "stdout",
     "output_type": "stream",
     "text": [
      "rm -rf \"/home/yuncong/CSHL_patch_scores/MD661/MD662&661-F58-2017.06.06-02.35.45_MD661_1_0172_prep2_gray/detector9/MD662&661-F58-2017.06.06-02.35.45_MD661_1_0172_prep2_gray_detector9_7N_sparseScores.bp\" && mkdir -p \"/home/yuncong/CSHL_patch_scores/MD661/MD662&661-F58-2017.06.06-02.35.45_MD661_1_0172_prep2_gray/detector9\"\n",
      "aws s3 cp \"s3://mousebrainatlas-data/CSHL_patch_scores/MD661/MD662&661-F58-2017.06.06-02.35.45_MD661_1_0172_prep2_gray/detector9/MD662&661-F58-2017.06.06-02.35.45_MD661_1_0172_prep2_gray_detector9_7N_sparseScores.bp\" \"/home/yuncong/CSHL_patch_scores/MD661/MD662&661-F58-2017.06.06-02.35.45_MD661_1_0172_prep2_gray/detector9/MD662&661-F58-2017.06.06-02.35.45_MD661_1_0172_prep2_gray_detector9_7N_sparseScores.bp\"\n"
     ]
    },
    {
     "name": "stderr",
     "output_type": "stream",
     "text": [
      "File does not exist: /home/yuncong/CSHL_patch_scores/MD661/MD662&661-F57-2017.06.06-02.06.22_MD661_3_0171_prep2_gray/detector9/MD662&661-F57-2017.06.06-02.06.22_MD661_3_0171_prep2_gray_detector9_6N_sparseScores.bp\n",
      "Error loading sparse scores for 6N: [Errno 2] No such file or directory: '/home/yuncong/CSHL_patch_scores/MD661/MD662&661-F57-2017.06.06-02.06.22_MD661_3_0171_prep2_gray/detector9/MD662&661-F57-2017.06.06-02.06.22_MD661_3_0171_prep2_gray_detector9_6N_sparseScores.bp'\n"
     ]
    },
    {
     "name": "stdout",
     "output_type": "stream",
     "text": [
      "rm -rf \"/home/yuncong/CSHL_patch_scores/MD661/MD662&661-F57-2017.06.06-02.06.22_MD661_3_0171_prep2_gray/detector9/MD662&661-F57-2017.06.06-02.06.22_MD661_3_0171_prep2_gray_detector9_7N_sparseScores.bp\" && mkdir -p \"/home/yuncong/CSHL_patch_scores/MD661/MD662&661-F57-2017.06.06-02.06.22_MD661_3_0171_prep2_gray/detector9\"\n",
      "aws s3 cp \"s3://mousebrainatlas-data/CSHL_patch_scores/MD661/MD662&661-F57-2017.06.06-02.06.22_MD661_3_0171_prep2_gray/detector9/MD662&661-F57-2017.06.06-02.06.22_MD661_3_0171_prep2_gray_detector9_7N_sparseScores.bp\" \"/home/yuncong/CSHL_patch_scores/MD661/MD662&661-F57-2017.06.06-02.06.22_MD661_3_0171_prep2_gray/detector9/MD662&661-F57-2017.06.06-02.06.22_MD661_3_0171_prep2_gray_detector9_7N_sparseScores.bp\"\n"
     ]
    },
    {
     "name": "stderr",
     "output_type": "stream",
     "text": [
      "File does not exist: /home/yuncong/CSHL_patch_scores/MD661/MD662&661-F58-2017.06.06-02.35.45_MD661_2_0173_prep2_gray/detector9/MD662&661-F58-2017.06.06-02.35.45_MD661_2_0173_prep2_gray_detector9_6N_sparseScores.bp\n",
      "Error loading sparse scores for 6N: [Errno 2] No such file or directory: '/home/yuncong/CSHL_patch_scores/MD661/MD662&661-F58-2017.06.06-02.35.45_MD661_2_0173_prep2_gray/detector9/MD662&661-F58-2017.06.06-02.35.45_MD661_2_0173_prep2_gray_detector9_6N_sparseScores.bp'\n"
     ]
    },
    {
     "name": "stdout",
     "output_type": "stream",
     "text": [
      "rm -rf \"/home/yuncong/CSHL_patch_scores/MD661/MD662&661-F58-2017.06.06-02.35.45_MD661_2_0173_prep2_gray/detector9/MD662&661-F58-2017.06.06-02.35.45_MD661_2_0173_prep2_gray_detector9_7N_sparseScores.bp\" && mkdir -p \"/home/yuncong/CSHL_patch_scores/MD661/MD662&661-F58-2017.06.06-02.35.45_MD661_2_0173_prep2_gray/detector9\"\n",
      "aws s3 cp \"s3://mousebrainatlas-data/CSHL_patch_scores/MD661/MD662&661-F58-2017.06.06-02.35.45_MD661_2_0173_prep2_gray/detector9/MD662&661-F58-2017.06.06-02.35.45_MD661_2_0173_prep2_gray_detector9_7N_sparseScores.bp\" \"/home/yuncong/CSHL_patch_scores/MD661/MD662&661-F58-2017.06.06-02.35.45_MD661_2_0173_prep2_gray/detector9/MD662&661-F58-2017.06.06-02.35.45_MD661_2_0173_prep2_gray_detector9_7N_sparseScores.bp\"\n"
     ]
    },
    {
     "name": "stderr",
     "output_type": "stream",
     "text": [
      "File does not exist: /home/yuncong/CSHL_patch_scores/MD661/MD662&661-F58-2017.06.06-02.35.45_MD661_1_0172_prep2_gray/detector9/MD662&661-F58-2017.06.06-02.35.45_MD661_1_0172_prep2_gray_detector9_7N_sparseScores.bp\n",
      "Error loading sparse scores for 7N: [Errno 2] No such file or directory: '/home/yuncong/CSHL_patch_scores/MD661/MD662&661-F58-2017.06.06-02.35.45_MD661_1_0172_prep2_gray/detector9/MD662&661-F58-2017.06.06-02.35.45_MD661_1_0172_prep2_gray_detector9_7N_sparseScores.bp'\n"
     ]
    },
    {
     "name": "stdout",
     "output_type": "stream",
     "text": [
      "rm -rf \"/home/yuncong/CSHL_patch_scores/MD661/MD662&661-F58-2017.06.06-02.35.45_MD661_1_0172_prep2_gray/detector9/MD662&661-F58-2017.06.06-02.35.45_MD661_1_0172_prep2_gray_detector9_7n_sparseScores.bp\" && mkdir -p \"/home/yuncong/CSHL_patch_scores/MD661/MD662&661-F58-2017.06.06-02.35.45_MD661_1_0172_prep2_gray/detector9\"\n",
      "aws s3 cp \"s3://mousebrainatlas-data/CSHL_patch_scores/MD661/MD662&661-F58-2017.06.06-02.35.45_MD661_1_0172_prep2_gray/detector9/MD662&661-F58-2017.06.06-02.35.45_MD661_1_0172_prep2_gray_detector9_7n_sparseScores.bp\" \"/home/yuncong/CSHL_patch_scores/MD661/MD662&661-F58-2017.06.06-02.35.45_MD661_1_0172_prep2_gray/detector9/MD662&661-F58-2017.06.06-02.35.45_MD661_1_0172_prep2_gray_detector9_7n_sparseScores.bp\"\n"
     ]
    },
    {
     "name": "stderr",
     "output_type": "stream",
     "text": [
      "File does not exist: /home/yuncong/CSHL_patch_scores/MD661/MD662&661-F57-2017.06.06-02.06.22_MD661_3_0171_prep2_gray/detector9/MD662&661-F57-2017.06.06-02.06.22_MD661_3_0171_prep2_gray_detector9_7N_sparseScores.bp\n",
      "Error loading sparse scores for 7N: [Errno 2] No such file or directory: '/home/yuncong/CSHL_patch_scores/MD661/MD662&661-F57-2017.06.06-02.06.22_MD661_3_0171_prep2_gray/detector9/MD662&661-F57-2017.06.06-02.06.22_MD661_3_0171_prep2_gray_detector9_7N_sparseScores.bp'\n"
     ]
    },
    {
     "name": "stdout",
     "output_type": "stream",
     "text": [
      "rm -rf \"/home/yuncong/CSHL_patch_scores/MD661/MD662&661-F57-2017.06.06-02.06.22_MD661_3_0171_prep2_gray/detector9/MD662&661-F57-2017.06.06-02.06.22_MD661_3_0171_prep2_gray_detector9_7n_sparseScores.bp\" && mkdir -p \"/home/yuncong/CSHL_patch_scores/MD661/MD662&661-F57-2017.06.06-02.06.22_MD661_3_0171_prep2_gray/detector9\"\n",
      "aws s3 cp \"s3://mousebrainatlas-data/CSHL_patch_scores/MD661/MD662&661-F57-2017.06.06-02.06.22_MD661_3_0171_prep2_gray/detector9/MD662&661-F57-2017.06.06-02.06.22_MD661_3_0171_prep2_gray_detector9_7n_sparseScores.bp\" \"/home/yuncong/CSHL_patch_scores/MD661/MD662&661-F57-2017.06.06-02.06.22_MD661_3_0171_prep2_gray/detector9/MD662&661-F57-2017.06.06-02.06.22_MD661_3_0171_prep2_gray_detector9_7n_sparseScores.bp\"\n"
     ]
    },
    {
     "name": "stderr",
     "output_type": "stream",
     "text": [
      "File does not exist: /home/yuncong/CSHL_patch_scores/MD661/MD662&661-F58-2017.06.06-02.35.45_MD661_2_0173_prep2_gray/detector9/MD662&661-F58-2017.06.06-02.35.45_MD661_2_0173_prep2_gray_detector9_7N_sparseScores.bp\n",
      "Error loading sparse scores for 7N: [Errno 2] No such file or directory: '/home/yuncong/CSHL_patch_scores/MD661/MD662&661-F58-2017.06.06-02.35.45_MD661_2_0173_prep2_gray/detector9/MD662&661-F58-2017.06.06-02.35.45_MD661_2_0173_prep2_gray_detector9_7N_sparseScores.bp'\n"
     ]
    },
    {
     "name": "stdout",
     "output_type": "stream",
     "text": [
      "rm -rf \"/home/yuncong/CSHL_patch_scores/MD661/MD662&661-F58-2017.06.06-02.35.45_MD661_2_0173_prep2_gray/detector9/MD662&661-F58-2017.06.06-02.35.45_MD661_2_0173_prep2_gray_detector9_7n_sparseScores.bp\" && mkdir -p \"/home/yuncong/CSHL_patch_scores/MD661/MD662&661-F58-2017.06.06-02.35.45_MD661_2_0173_prep2_gray/detector9\"\n",
      "aws s3 cp \"s3://mousebrainatlas-data/CSHL_patch_scores/MD661/MD662&661-F58-2017.06.06-02.35.45_MD661_2_0173_prep2_gray/detector9/MD662&661-F58-2017.06.06-02.35.45_MD661_2_0173_prep2_gray_detector9_7n_sparseScores.bp\" \"/home/yuncong/CSHL_patch_scores/MD661/MD662&661-F58-2017.06.06-02.35.45_MD661_2_0173_prep2_gray/detector9/MD662&661-F58-2017.06.06-02.35.45_MD661_2_0173_prep2_gray_detector9_7n_sparseScores.bp\"\n"
     ]
    },
    {
     "name": "stderr",
     "output_type": "stream",
     "text": [
      "File does not exist: /home/yuncong/CSHL_patch_scores/MD661/MD662&661-F58-2017.06.06-02.35.45_MD661_1_0172_prep2_gray/detector9/MD662&661-F58-2017.06.06-02.35.45_MD661_1_0172_prep2_gray_detector9_7n_sparseScores.bp\n",
      "Error loading sparse scores for 7n: [Errno 2] No such file or directory: '/home/yuncong/CSHL_patch_scores/MD661/MD662&661-F58-2017.06.06-02.35.45_MD661_1_0172_prep2_gray/detector9/MD662&661-F58-2017.06.06-02.35.45_MD661_1_0172_prep2_gray_detector9_7n_sparseScores.bp'\n"
     ]
    },
    {
     "name": "stdout",
     "output_type": "stream",
     "text": [
      "rm -rf \"/home/yuncong/CSHL_patch_scores/MD661/MD662&661-F58-2017.06.06-02.35.45_MD661_1_0172_prep2_gray/detector9/MD662&661-F58-2017.06.06-02.35.45_MD661_1_0172_prep2_gray_detector9_AP_sparseScores.bp\" && mkdir -p \"/home/yuncong/CSHL_patch_scores/MD661/MD662&661-F58-2017.06.06-02.35.45_MD661_1_0172_prep2_gray/detector9\"\n",
      "aws s3 cp \"s3://mousebrainatlas-data/CSHL_patch_scores/MD661/MD662&661-F58-2017.06.06-02.35.45_MD661_1_0172_prep2_gray/detector9/MD662&661-F58-2017.06.06-02.35.45_MD661_1_0172_prep2_gray_detector9_AP_sparseScores.bp\" \"/home/yuncong/CSHL_patch_scores/MD661/MD662&661-F58-2017.06.06-02.35.45_MD661_1_0172_prep2_gray/detector9/MD662&661-F58-2017.06.06-02.35.45_MD661_1_0172_prep2_gray_detector9_AP_sparseScores.bp\"\n"
     ]
    },
    {
     "name": "stderr",
     "output_type": "stream",
     "text": [
      "File does not exist: /home/yuncong/CSHL_patch_scores/MD661/MD662&661-F57-2017.06.06-02.06.22_MD661_3_0171_prep2_gray/detector9/MD662&661-F57-2017.06.06-02.06.22_MD661_3_0171_prep2_gray_detector9_7n_sparseScores.bp\n",
      "Error loading sparse scores for 7n: [Errno 2] No such file or directory: '/home/yuncong/CSHL_patch_scores/MD661/MD662&661-F57-2017.06.06-02.06.22_MD661_3_0171_prep2_gray/detector9/MD662&661-F57-2017.06.06-02.06.22_MD661_3_0171_prep2_gray_detector9_7n_sparseScores.bp'\n"
     ]
    },
    {
     "name": "stdout",
     "output_type": "stream",
     "text": [
      "rm -rf \"/home/yuncong/CSHL_patch_scores/MD661/MD662&661-F57-2017.06.06-02.06.22_MD661_3_0171_prep2_gray/detector9/MD662&661-F57-2017.06.06-02.06.22_MD661_3_0171_prep2_gray_detector9_AP_sparseScores.bp\" && mkdir -p \"/home/yuncong/CSHL_patch_scores/MD661/MD662&661-F57-2017.06.06-02.06.22_MD661_3_0171_prep2_gray/detector9\"\n",
      "aws s3 cp \"s3://mousebrainatlas-data/CSHL_patch_scores/MD661/MD662&661-F57-2017.06.06-02.06.22_MD661_3_0171_prep2_gray/detector9/MD662&661-F57-2017.06.06-02.06.22_MD661_3_0171_prep2_gray_detector9_AP_sparseScores.bp\" \"/home/yuncong/CSHL_patch_scores/MD661/MD662&661-F57-2017.06.06-02.06.22_MD661_3_0171_prep2_gray/detector9/MD662&661-F57-2017.06.06-02.06.22_MD661_3_0171_prep2_gray_detector9_AP_sparseScores.bp\"\n"
     ]
    },
    {
     "name": "stderr",
     "output_type": "stream",
     "text": [
      "File does not exist: /home/yuncong/CSHL_patch_scores/MD661/MD662&661-F58-2017.06.06-02.35.45_MD661_2_0173_prep2_gray/detector9/MD662&661-F58-2017.06.06-02.35.45_MD661_2_0173_prep2_gray_detector9_7n_sparseScores.bp\n",
      "Error loading sparse scores for 7n: [Errno 2] No such file or directory: '/home/yuncong/CSHL_patch_scores/MD661/MD662&661-F58-2017.06.06-02.35.45_MD661_2_0173_prep2_gray/detector9/MD662&661-F58-2017.06.06-02.35.45_MD661_2_0173_prep2_gray_detector9_7n_sparseScores.bp'\n"
     ]
    },
    {
     "name": "stdout",
     "output_type": "stream",
     "text": [
      "rm -rf \"/home/yuncong/CSHL_patch_scores/MD661/MD662&661-F58-2017.06.06-02.35.45_MD661_2_0173_prep2_gray/detector9/MD662&661-F58-2017.06.06-02.35.45_MD661_2_0173_prep2_gray_detector9_AP_sparseScores.bp\" && mkdir -p \"/home/yuncong/CSHL_patch_scores/MD661/MD662&661-F58-2017.06.06-02.35.45_MD661_2_0173_prep2_gray/detector9\"\n",
      "aws s3 cp \"s3://mousebrainatlas-data/CSHL_patch_scores/MD661/MD662&661-F58-2017.06.06-02.35.45_MD661_2_0173_prep2_gray/detector9/MD662&661-F58-2017.06.06-02.35.45_MD661_2_0173_prep2_gray_detector9_AP_sparseScores.bp\" \"/home/yuncong/CSHL_patch_scores/MD661/MD662&661-F58-2017.06.06-02.35.45_MD661_2_0173_prep2_gray/detector9/MD662&661-F58-2017.06.06-02.35.45_MD661_2_0173_prep2_gray_detector9_AP_sparseScores.bp\"\n"
     ]
    },
    {
     "name": "stderr",
     "output_type": "stream",
     "text": [
      "File does not exist: /home/yuncong/CSHL_patch_scores/MD661/MD662&661-F58-2017.06.06-02.35.45_MD661_1_0172_prep2_gray/detector9/MD662&661-F58-2017.06.06-02.35.45_MD661_1_0172_prep2_gray_detector9_AP_sparseScores.bp\n",
      "Error loading sparse scores for AP: [Errno 2] No such file or directory: '/home/yuncong/CSHL_patch_scores/MD661/MD662&661-F58-2017.06.06-02.35.45_MD661_1_0172_prep2_gray/detector9/MD662&661-F58-2017.06.06-02.35.45_MD661_1_0172_prep2_gray_detector9_AP_sparseScores.bp'\n"
     ]
    },
    {
     "name": "stdout",
     "output_type": "stream",
     "text": [
      "rm -rf \"/home/yuncong/CSHL_patch_scores/MD661/MD662&661-F58-2017.06.06-02.35.45_MD661_1_0172_prep2_gray/detector9/MD662&661-F58-2017.06.06-02.35.45_MD661_1_0172_prep2_gray_detector9_Amb_sparseScores.bp\" && mkdir -p \"/home/yuncong/CSHL_patch_scores/MD661/MD662&661-F58-2017.06.06-02.35.45_MD661_1_0172_prep2_gray/detector9\"\n",
      "aws s3 cp \"s3://mousebrainatlas-data/CSHL_patch_scores/MD661/MD662&661-F58-2017.06.06-02.35.45_MD661_1_0172_prep2_gray/detector9/MD662&661-F58-2017.06.06-02.35.45_MD661_1_0172_prep2_gray_detector9_Amb_sparseScores.bp\" \"/home/yuncong/CSHL_patch_scores/MD661/MD662&661-F58-2017.06.06-02.35.45_MD661_1_0172_prep2_gray/detector9/MD662&661-F58-2017.06.06-02.35.45_MD661_1_0172_prep2_gray_detector9_Amb_sparseScores.bp\"\n"
     ]
    },
    {
     "name": "stderr",
     "output_type": "stream",
     "text": [
      "File does not exist: /home/yuncong/CSHL_patch_scores/MD661/MD662&661-F57-2017.06.06-02.06.22_MD661_3_0171_prep2_gray/detector9/MD662&661-F57-2017.06.06-02.06.22_MD661_3_0171_prep2_gray_detector9_AP_sparseScores.bp\n",
      "Error loading sparse scores for AP: [Errno 2] No such file or directory: '/home/yuncong/CSHL_patch_scores/MD661/MD662&661-F57-2017.06.06-02.06.22_MD661_3_0171_prep2_gray/detector9/MD662&661-F57-2017.06.06-02.06.22_MD661_3_0171_prep2_gray_detector9_AP_sparseScores.bp'\n"
     ]
    },
    {
     "name": "stdout",
     "output_type": "stream",
     "text": [
      "rm -rf \"/home/yuncong/CSHL_patch_scores/MD661/MD662&661-F57-2017.06.06-02.06.22_MD661_3_0171_prep2_gray/detector9/MD662&661-F57-2017.06.06-02.06.22_MD661_3_0171_prep2_gray_detector9_Amb_sparseScores.bp\" && mkdir -p \"/home/yuncong/CSHL_patch_scores/MD661/MD662&661-F57-2017.06.06-02.06.22_MD661_3_0171_prep2_gray/detector9\"\n",
      "aws s3 cp \"s3://mousebrainatlas-data/CSHL_patch_scores/MD661/MD662&661-F57-2017.06.06-02.06.22_MD661_3_0171_prep2_gray/detector9/MD662&661-F57-2017.06.06-02.06.22_MD661_3_0171_prep2_gray_detector9_Amb_sparseScores.bp\" \"/home/yuncong/CSHL_patch_scores/MD661/MD662&661-F57-2017.06.06-02.06.22_MD661_3_0171_prep2_gray/detector9/MD662&661-F57-2017.06.06-02.06.22_MD661_3_0171_prep2_gray_detector9_Amb_sparseScores.bp\"\n"
     ]
    },
    {
     "name": "stderr",
     "output_type": "stream",
     "text": [
      "File does not exist: /home/yuncong/CSHL_patch_scores/MD661/MD662&661-F58-2017.06.06-02.35.45_MD661_2_0173_prep2_gray/detector9/MD662&661-F58-2017.06.06-02.35.45_MD661_2_0173_prep2_gray_detector9_AP_sparseScores.bp\n",
      "Error loading sparse scores for AP: [Errno 2] No such file or directory: '/home/yuncong/CSHL_patch_scores/MD661/MD662&661-F58-2017.06.06-02.35.45_MD661_2_0173_prep2_gray/detector9/MD662&661-F58-2017.06.06-02.35.45_MD661_2_0173_prep2_gray_detector9_AP_sparseScores.bp'\n"
     ]
    },
    {
     "name": "stdout",
     "output_type": "stream",
     "text": [
      "rm -rf \"/home/yuncong/CSHL_patch_scores/MD661/MD662&661-F58-2017.06.06-02.35.45_MD661_2_0173_prep2_gray/detector9/MD662&661-F58-2017.06.06-02.35.45_MD661_2_0173_prep2_gray_detector9_Amb_sparseScores.bp\" && mkdir -p \"/home/yuncong/CSHL_patch_scores/MD661/MD662&661-F58-2017.06.06-02.35.45_MD661_2_0173_prep2_gray/detector9\"\n",
      "aws s3 cp \"s3://mousebrainatlas-data/CSHL_patch_scores/MD661/MD662&661-F58-2017.06.06-02.35.45_MD661_2_0173_prep2_gray/detector9/MD662&661-F58-2017.06.06-02.35.45_MD661_2_0173_prep2_gray_detector9_Amb_sparseScores.bp\" \"/home/yuncong/CSHL_patch_scores/MD661/MD662&661-F58-2017.06.06-02.35.45_MD661_2_0173_prep2_gray/detector9/MD662&661-F58-2017.06.06-02.35.45_MD661_2_0173_prep2_gray_detector9_Amb_sparseScores.bp\"\n"
     ]
    },
    {
     "name": "stderr",
     "output_type": "stream",
     "text": [
      "File does not exist: /home/yuncong/CSHL_patch_scores/MD661/MD662&661-F58-2017.06.06-02.35.45_MD661_1_0172_prep2_gray/detector9/MD662&661-F58-2017.06.06-02.35.45_MD661_1_0172_prep2_gray_detector9_Amb_sparseScores.bp\n",
      "Error loading sparse scores for Amb: [Errno 2] No such file or directory: '/home/yuncong/CSHL_patch_scores/MD661/MD662&661-F58-2017.06.06-02.35.45_MD661_1_0172_prep2_gray/detector9/MD662&661-F58-2017.06.06-02.35.45_MD661_1_0172_prep2_gray_detector9_Amb_sparseScores.bp'\n"
     ]
    },
    {
     "name": "stdout",
     "output_type": "stream",
     "text": [
      "rm -rf \"/home/yuncong/CSHL_patch_scores/MD661/MD662&661-F58-2017.06.06-02.35.45_MD661_1_0172_prep2_gray/detector9/MD662&661-F58-2017.06.06-02.35.45_MD661_1_0172_prep2_gray_detector9_DC_sparseScores.bp\" && mkdir -p \"/home/yuncong/CSHL_patch_scores/MD661/MD662&661-F58-2017.06.06-02.35.45_MD661_1_0172_prep2_gray/detector9\"\n",
      "aws s3 cp \"s3://mousebrainatlas-data/CSHL_patch_scores/MD661/MD662&661-F58-2017.06.06-02.35.45_MD661_1_0172_prep2_gray/detector9/MD662&661-F58-2017.06.06-02.35.45_MD661_1_0172_prep2_gray_detector9_DC_sparseScores.bp\" \"/home/yuncong/CSHL_patch_scores/MD661/MD662&661-F58-2017.06.06-02.35.45_MD661_1_0172_prep2_gray/detector9/MD662&661-F58-2017.06.06-02.35.45_MD661_1_0172_prep2_gray_detector9_DC_sparseScores.bp\"\n"
     ]
    },
    {
     "name": "stderr",
     "output_type": "stream",
     "text": [
      "File does not exist: /home/yuncong/CSHL_patch_scores/MD661/MD662&661-F57-2017.06.06-02.06.22_MD661_3_0171_prep2_gray/detector9/MD662&661-F57-2017.06.06-02.06.22_MD661_3_0171_prep2_gray_detector9_Amb_sparseScores.bp\n",
      "Error loading sparse scores for Amb: [Errno 2] No such file or directory: '/home/yuncong/CSHL_patch_scores/MD661/MD662&661-F57-2017.06.06-02.06.22_MD661_3_0171_prep2_gray/detector9/MD662&661-F57-2017.06.06-02.06.22_MD661_3_0171_prep2_gray_detector9_Amb_sparseScores.bp'\n"
     ]
    },
    {
     "name": "stdout",
     "output_type": "stream",
     "text": [
      "rm -rf \"/home/yuncong/CSHL_patch_scores/MD661/MD662&661-F57-2017.06.06-02.06.22_MD661_3_0171_prep2_gray/detector9/MD662&661-F57-2017.06.06-02.06.22_MD661_3_0171_prep2_gray_detector9_DC_sparseScores.bp\" && mkdir -p \"/home/yuncong/CSHL_patch_scores/MD661/MD662&661-F57-2017.06.06-02.06.22_MD661_3_0171_prep2_gray/detector9\"\n",
      "aws s3 cp \"s3://mousebrainatlas-data/CSHL_patch_scores/MD661/MD662&661-F57-2017.06.06-02.06.22_MD661_3_0171_prep2_gray/detector9/MD662&661-F57-2017.06.06-02.06.22_MD661_3_0171_prep2_gray_detector9_DC_sparseScores.bp\" \"/home/yuncong/CSHL_patch_scores/MD661/MD662&661-F57-2017.06.06-02.06.22_MD661_3_0171_prep2_gray/detector9/MD662&661-F57-2017.06.06-02.06.22_MD661_3_0171_prep2_gray_detector9_DC_sparseScores.bp\"\n"
     ]
    },
    {
     "name": "stderr",
     "output_type": "stream",
     "text": [
      "File does not exist: /home/yuncong/CSHL_patch_scores/MD661/MD662&661-F58-2017.06.06-02.35.45_MD661_2_0173_prep2_gray/detector9/MD662&661-F58-2017.06.06-02.35.45_MD661_2_0173_prep2_gray_detector9_Amb_sparseScores.bp\n",
      "Error loading sparse scores for Amb: [Errno 2] No such file or directory: '/home/yuncong/CSHL_patch_scores/MD661/MD662&661-F58-2017.06.06-02.35.45_MD661_2_0173_prep2_gray/detector9/MD662&661-F58-2017.06.06-02.35.45_MD661_2_0173_prep2_gray_detector9_Amb_sparseScores.bp'\n"
     ]
    },
    {
     "name": "stdout",
     "output_type": "stream",
     "text": [
      "rm -rf \"/home/yuncong/CSHL_patch_scores/MD661/MD662&661-F58-2017.06.06-02.35.45_MD661_2_0173_prep2_gray/detector9/MD662&661-F58-2017.06.06-02.35.45_MD661_2_0173_prep2_gray_detector9_DC_sparseScores.bp\" && mkdir -p \"/home/yuncong/CSHL_patch_scores/MD661/MD662&661-F58-2017.06.06-02.35.45_MD661_2_0173_prep2_gray/detector9\"\n",
      "aws s3 cp \"s3://mousebrainatlas-data/CSHL_patch_scores/MD661/MD662&661-F58-2017.06.06-02.35.45_MD661_2_0173_prep2_gray/detector9/MD662&661-F58-2017.06.06-02.35.45_MD661_2_0173_prep2_gray_detector9_DC_sparseScores.bp\" \"/home/yuncong/CSHL_patch_scores/MD661/MD662&661-F58-2017.06.06-02.35.45_MD661_2_0173_prep2_gray/detector9/MD662&661-F58-2017.06.06-02.35.45_MD661_2_0173_prep2_gray_detector9_DC_sparseScores.bp\"\n"
     ]
    },
    {
     "name": "stderr",
     "output_type": "stream",
     "text": [
      "File does not exist: /home/yuncong/CSHL_patch_scores/MD661/MD662&661-F58-2017.06.06-02.35.45_MD661_1_0172_prep2_gray/detector9/MD662&661-F58-2017.06.06-02.35.45_MD661_1_0172_prep2_gray_detector9_DC_sparseScores.bp\n",
      "Error loading sparse scores for DC: [Errno 2] No such file or directory: '/home/yuncong/CSHL_patch_scores/MD661/MD662&661-F58-2017.06.06-02.35.45_MD661_1_0172_prep2_gray/detector9/MD662&661-F58-2017.06.06-02.35.45_MD661_1_0172_prep2_gray_detector9_DC_sparseScores.bp'\n"
     ]
    },
    {
     "name": "stdout",
     "output_type": "stream",
     "text": [
      "rm -rf \"/home/yuncong/CSHL_patch_scores/MD661/MD662&661-F58-2017.06.06-02.35.45_MD661_1_0172_prep2_gray/detector9/MD662&661-F58-2017.06.06-02.35.45_MD661_1_0172_prep2_gray_detector9_IC_sparseScores.bp\" && mkdir -p \"/home/yuncong/CSHL_patch_scores/MD661/MD662&661-F58-2017.06.06-02.35.45_MD661_1_0172_prep2_gray/detector9\"\n"
     ]
    },
    {
     "name": "stderr",
     "output_type": "stream",
     "text": [
      "File does not exist: /home/yuncong/CSHL_patch_scores/MD661/MD662&661-F57-2017.06.06-02.06.22_MD661_3_0171_prep2_gray/detector9/MD662&661-F57-2017.06.06-02.06.22_MD661_3_0171_prep2_gray_detector9_DC_sparseScores.bp\n",
      "Error loading sparse scores for DC: [Errno 2] No such file or directory: '/home/yuncong/CSHL_patch_scores/MD661/MD662&661-F57-2017.06.06-02.06.22_MD661_3_0171_prep2_gray/detector9/MD662&661-F57-2017.06.06-02.06.22_MD661_3_0171_prep2_gray_detector9_DC_sparseScores.bp'\n"
     ]
    },
    {
     "name": "stdout",
     "output_type": "stream",
     "text": [
      "aws s3 cp \"s3://mousebrainatlas-data/CSHL_patch_scores/MD661/MD662&661-F58-2017.06.06-02.35.45_MD661_1_0172_prep2_gray/detector9/MD662&661-F58-2017.06.06-02.35.45_MD661_1_0172_prep2_gray_detector9_IC_sparseScores.bp\" \"/home/yuncong/CSHL_patch_scores/MD661/MD662&661-F58-2017.06.06-02.35.45_MD661_1_0172_prep2_gray/detector9/MD662&661-F58-2017.06.06-02.35.45_MD661_1_0172_prep2_gray_detector9_IC_sparseScores.bp\"\n",
      "rm -rf \"/home/yuncong/CSHL_patch_scores/MD661/MD662&661-F57-2017.06.06-02.06.22_MD661_3_0171_prep2_gray/detector9/MD662&661-F57-2017.06.06-02.06.22_MD661_3_0171_prep2_gray_detector9_IC_sparseScores.bp\" && mkdir -p \"/home/yuncong/CSHL_patch_scores/MD661/MD662&661-F57-2017.06.06-02.06.22_MD661_3_0171_prep2_gray/detector9\"\n",
      "aws s3 cp \"s3://mousebrainatlas-data/CSHL_patch_scores/MD661/MD662&661-F57-2017.06.06-02.06.22_MD661_3_0171_prep2_gray/detector9/MD662&661-F57-2017.06.06-02.06.22_MD661_3_0171_prep2_gray_detector9_IC_sparseScores.bp\" \"/home/yuncong/CSHL_patch_scores/MD661/MD662&661-F57-2017.06.06-02.06.22_MD661_3_0171_prep2_gray/detector9/MD662&661-F57-2017.06.06-02.06.22_MD661_3_0171_prep2_gray_detector9_IC_sparseScores.bp\"\n"
     ]
    },
    {
     "name": "stderr",
     "output_type": "stream",
     "text": [
      "File does not exist: /home/yuncong/CSHL_patch_scores/MD661/MD662&661-F58-2017.06.06-02.35.45_MD661_2_0173_prep2_gray/detector9/MD662&661-F58-2017.06.06-02.35.45_MD661_2_0173_prep2_gray_detector9_DC_sparseScores.bp\n",
      "Error loading sparse scores for DC: [Errno 2] No such file or directory: '/home/yuncong/CSHL_patch_scores/MD661/MD662&661-F58-2017.06.06-02.35.45_MD661_2_0173_prep2_gray/detector9/MD662&661-F58-2017.06.06-02.35.45_MD661_2_0173_prep2_gray_detector9_DC_sparseScores.bp'\n"
     ]
    },
    {
     "name": "stdout",
     "output_type": "stream",
     "text": [
      "rm -rf \"/home/yuncong/CSHL_patch_scores/MD661/MD662&661-F58-2017.06.06-02.35.45_MD661_2_0173_prep2_gray/detector9/MD662&661-F58-2017.06.06-02.35.45_MD661_2_0173_prep2_gray_detector9_IC_sparseScores.bp\" && mkdir -p \"/home/yuncong/CSHL_patch_scores/MD661/MD662&661-F58-2017.06.06-02.35.45_MD661_2_0173_prep2_gray/detector9\"\n",
      "aws s3 cp \"s3://mousebrainatlas-data/CSHL_patch_scores/MD661/MD662&661-F58-2017.06.06-02.35.45_MD661_2_0173_prep2_gray/detector9/MD662&661-F58-2017.06.06-02.35.45_MD661_2_0173_prep2_gray_detector9_IC_sparseScores.bp\" \"/home/yuncong/CSHL_patch_scores/MD661/MD662&661-F58-2017.06.06-02.35.45_MD661_2_0173_prep2_gray/detector9/MD662&661-F58-2017.06.06-02.35.45_MD661_2_0173_prep2_gray_detector9_IC_sparseScores.bp\"\n"
     ]
    },
    {
     "name": "stderr",
     "output_type": "stream",
     "text": [
      "File does not exist: /home/yuncong/CSHL_patch_scores/MD661/MD662&661-F58-2017.06.06-02.35.45_MD661_1_0172_prep2_gray/detector9/MD662&661-F58-2017.06.06-02.35.45_MD661_1_0172_prep2_gray_detector9_IC_sparseScores.bp\n",
      "Error loading sparse scores for IC: [Errno 2] No such file or directory: '/home/yuncong/CSHL_patch_scores/MD661/MD662&661-F58-2017.06.06-02.35.45_MD661_1_0172_prep2_gray/detector9/MD662&661-F58-2017.06.06-02.35.45_MD661_1_0172_prep2_gray_detector9_IC_sparseScores.bp'\n"
     ]
    },
    {
     "name": "stdout",
     "output_type": "stream",
     "text": [
      "rm -rf \"/home/yuncong/CSHL_patch_scores/MD661/MD662&661-F58-2017.06.06-02.35.45_MD661_1_0172_prep2_gray/detector9/MD662&661-F58-2017.06.06-02.35.45_MD661_1_0172_prep2_gray_detector9_LC_sparseScores.bp\" && mkdir -p \"/home/yuncong/CSHL_patch_scores/MD661/MD662&661-F58-2017.06.06-02.35.45_MD661_1_0172_prep2_gray/detector9\"\n",
      "aws s3 cp \"s3://mousebrainatlas-data/CSHL_patch_scores/MD661/MD662&661-F58-2017.06.06-02.35.45_MD661_1_0172_prep2_gray/detector9/MD662&661-F58-2017.06.06-02.35.45_MD661_1_0172_prep2_gray_detector9_LC_sparseScores.bp\" \"/home/yuncong/CSHL_patch_scores/MD661/MD662&661-F58-2017.06.06-02.35.45_MD661_1_0172_prep2_gray/detector9/MD662&661-F58-2017.06.06-02.35.45_MD661_1_0172_prep2_gray_detector9_LC_sparseScores.bp\"\n"
     ]
    },
    {
     "name": "stderr",
     "output_type": "stream",
     "text": [
      "File does not exist: /home/yuncong/CSHL_patch_scores/MD661/MD662&661-F57-2017.06.06-02.06.22_MD661_3_0171_prep2_gray/detector9/MD662&661-F57-2017.06.06-02.06.22_MD661_3_0171_prep2_gray_detector9_IC_sparseScores.bp\n",
      "Error loading sparse scores for IC: [Errno 2] No such file or directory: '/home/yuncong/CSHL_patch_scores/MD661/MD662&661-F57-2017.06.06-02.06.22_MD661_3_0171_prep2_gray/detector9/MD662&661-F57-2017.06.06-02.06.22_MD661_3_0171_prep2_gray_detector9_IC_sparseScores.bp'\n"
     ]
    },
    {
     "name": "stdout",
     "output_type": "stream",
     "text": [
      "rm -rf \"/home/yuncong/CSHL_patch_scores/MD661/MD662&661-F57-2017.06.06-02.06.22_MD661_3_0171_prep2_gray/detector9/MD662&661-F57-2017.06.06-02.06.22_MD661_3_0171_prep2_gray_detector9_LC_sparseScores.bp\" && mkdir -p \"/home/yuncong/CSHL_patch_scores/MD661/MD662&661-F57-2017.06.06-02.06.22_MD661_3_0171_prep2_gray/detector9\"\n"
     ]
    },
    {
     "name": "stderr",
     "output_type": "stream",
     "text": [
      "File does not exist: /home/yuncong/CSHL_patch_scores/MD661/MD662&661-F58-2017.06.06-02.35.45_MD661_2_0173_prep2_gray/detector9/MD662&661-F58-2017.06.06-02.35.45_MD661_2_0173_prep2_gray_detector9_IC_sparseScores.bp\n",
      "Error loading sparse scores for IC: [Errno 2] No such file or directory: '/home/yuncong/CSHL_patch_scores/MD661/MD662&661-F58-2017.06.06-02.35.45_MD661_2_0173_prep2_gray/detector9/MD662&661-F58-2017.06.06-02.35.45_MD661_2_0173_prep2_gray_detector9_IC_sparseScores.bp'\n"
     ]
    },
    {
     "name": "stdout",
     "output_type": "stream",
     "text": [
      "rm -rf \"/home/yuncong/CSHL_patch_scores/MD661/MD662&661-F58-2017.06.06-02.35.45_MD661_2_0173_prep2_gray/detector9/MD662&661-F58-2017.06.06-02.35.45_MD661_2_0173_prep2_gray_detector9_LC_sparseScores.bp\" && mkdir -p \"/home/yuncong/CSHL_patch_scores/MD661/MD662&661-F58-2017.06.06-02.35.45_MD661_2_0173_prep2_gray/detector9\"\n",
      "aws s3 cp \"s3://mousebrainatlas-data/CSHL_patch_scores/MD661/MD662&661-F57-2017.06.06-02.06.22_MD661_3_0171_prep2_gray/detector9/MD662&661-F57-2017.06.06-02.06.22_MD661_3_0171_prep2_gray_detector9_LC_sparseScores.bp\" \"/home/yuncong/CSHL_patch_scores/MD661/MD662&661-F57-2017.06.06-02.06.22_MD661_3_0171_prep2_gray/detector9/MD662&661-F57-2017.06.06-02.06.22_MD661_3_0171_prep2_gray_detector9_LC_sparseScores.bp\"\n",
      "aws s3 cp \"s3://mousebrainatlas-data/CSHL_patch_scores/MD661/MD662&661-F58-2017.06.06-02.35.45_MD661_2_0173_prep2_gray/detector9/MD662&661-F58-2017.06.06-02.35.45_MD661_2_0173_prep2_gray_detector9_LC_sparseScores.bp\" \"/home/yuncong/CSHL_patch_scores/MD661/MD662&661-F58-2017.06.06-02.35.45_MD661_2_0173_prep2_gray/detector9/MD662&661-F58-2017.06.06-02.35.45_MD661_2_0173_prep2_gray_detector9_LC_sparseScores.bp\"\n"
     ]
    },
    {
     "name": "stderr",
     "output_type": "stream",
     "text": [
      "File does not exist: /home/yuncong/CSHL_patch_scores/MD661/MD662&661-F58-2017.06.06-02.35.45_MD661_1_0172_prep2_gray/detector9/MD662&661-F58-2017.06.06-02.35.45_MD661_1_0172_prep2_gray_detector9_LC_sparseScores.bp\n",
      "Error loading sparse scores for LC: [Errno 2] No such file or directory: '/home/yuncong/CSHL_patch_scores/MD661/MD662&661-F58-2017.06.06-02.35.45_MD661_1_0172_prep2_gray/detector9/MD662&661-F58-2017.06.06-02.35.45_MD661_1_0172_prep2_gray_detector9_LC_sparseScores.bp'\n"
     ]
    },
    {
     "name": "stdout",
     "output_type": "stream",
     "text": [
      "rm -rf \"/home/yuncong/CSHL_patch_scores/MD661/MD662&661-F58-2017.06.06-02.35.45_MD661_1_0172_prep2_gray/detector9/MD662&661-F58-2017.06.06-02.35.45_MD661_1_0172_prep2_gray_detector9_LRt_sparseScores.bp\" && mkdir -p \"/home/yuncong/CSHL_patch_scores/MD661/MD662&661-F58-2017.06.06-02.35.45_MD661_1_0172_prep2_gray/detector9\"\n",
      "aws s3 cp \"s3://mousebrainatlas-data/CSHL_patch_scores/MD661/MD662&661-F58-2017.06.06-02.35.45_MD661_1_0172_prep2_gray/detector9/MD662&661-F58-2017.06.06-02.35.45_MD661_1_0172_prep2_gray_detector9_LRt_sparseScores.bp\" \"/home/yuncong/CSHL_patch_scores/MD661/MD662&661-F58-2017.06.06-02.35.45_MD661_1_0172_prep2_gray/detector9/MD662&661-F58-2017.06.06-02.35.45_MD661_1_0172_prep2_gray_detector9_LRt_sparseScores.bp\"\n"
     ]
    },
    {
     "name": "stderr",
     "output_type": "stream",
     "text": [
      "File does not exist: /home/yuncong/CSHL_patch_scores/MD661/MD662&661-F57-2017.06.06-02.06.22_MD661_3_0171_prep2_gray/detector9/MD662&661-F57-2017.06.06-02.06.22_MD661_3_0171_prep2_gray_detector9_LC_sparseScores.bp\n",
      "Error loading sparse scores for LC: [Errno 2] No such file or directory: '/home/yuncong/CSHL_patch_scores/MD661/MD662&661-F57-2017.06.06-02.06.22_MD661_3_0171_prep2_gray/detector9/MD662&661-F57-2017.06.06-02.06.22_MD661_3_0171_prep2_gray_detector9_LC_sparseScores.bp'\n"
     ]
    },
    {
     "name": "stdout",
     "output_type": "stream",
     "text": [
      "rm -rf \"/home/yuncong/CSHL_patch_scores/MD661/MD662&661-F57-2017.06.06-02.06.22_MD661_3_0171_prep2_gray/detector9/MD662&661-F57-2017.06.06-02.06.22_MD661_3_0171_prep2_gray_detector9_LRt_sparseScores.bp\" && mkdir -p \"/home/yuncong/CSHL_patch_scores/MD661/MD662&661-F57-2017.06.06-02.06.22_MD661_3_0171_prep2_gray/detector9\"\n",
      "aws s3 cp \"s3://mousebrainatlas-data/CSHL_patch_scores/MD661/MD662&661-F57-2017.06.06-02.06.22_MD661_3_0171_prep2_gray/detector9/MD662&661-F57-2017.06.06-02.06.22_MD661_3_0171_prep2_gray_detector9_LRt_sparseScores.bp\" \"/home/yuncong/CSHL_patch_scores/MD661/MD662&661-F57-2017.06.06-02.06.22_MD661_3_0171_prep2_gray/detector9/MD662&661-F57-2017.06.06-02.06.22_MD661_3_0171_prep2_gray_detector9_LRt_sparseScores.bp\"\n"
     ]
    },
    {
     "name": "stderr",
     "output_type": "stream",
     "text": [
      "File does not exist: /home/yuncong/CSHL_patch_scores/MD661/MD662&661-F58-2017.06.06-02.35.45_MD661_2_0173_prep2_gray/detector9/MD662&661-F58-2017.06.06-02.35.45_MD661_2_0173_prep2_gray_detector9_LC_sparseScores.bp\n",
      "Error loading sparse scores for LC: [Errno 2] No such file or directory: '/home/yuncong/CSHL_patch_scores/MD661/MD662&661-F58-2017.06.06-02.35.45_MD661_2_0173_prep2_gray/detector9/MD662&661-F58-2017.06.06-02.35.45_MD661_2_0173_prep2_gray_detector9_LC_sparseScores.bp'\n"
     ]
    },
    {
     "name": "stdout",
     "output_type": "stream",
     "text": [
      "rm -rf \"/home/yuncong/CSHL_patch_scores/MD661/MD662&661-F58-2017.06.06-02.35.45_MD661_2_0173_prep2_gray/detector9/MD662&661-F58-2017.06.06-02.35.45_MD661_2_0173_prep2_gray_detector9_LRt_sparseScores.bp\" && mkdir -p \"/home/yuncong/CSHL_patch_scores/MD661/MD662&661-F58-2017.06.06-02.35.45_MD661_2_0173_prep2_gray/detector9\"\n",
      "aws s3 cp \"s3://mousebrainatlas-data/CSHL_patch_scores/MD661/MD662&661-F58-2017.06.06-02.35.45_MD661_2_0173_prep2_gray/detector9/MD662&661-F58-2017.06.06-02.35.45_MD661_2_0173_prep2_gray_detector9_LRt_sparseScores.bp\" \"/home/yuncong/CSHL_patch_scores/MD661/MD662&661-F58-2017.06.06-02.35.45_MD661_2_0173_prep2_gray/detector9/MD662&661-F58-2017.06.06-02.35.45_MD661_2_0173_prep2_gray_detector9_LRt_sparseScores.bp\"\n"
     ]
    },
    {
     "name": "stderr",
     "output_type": "stream",
     "text": [
      "File does not exist: /home/yuncong/CSHL_patch_scores/MD661/MD662&661-F58-2017.06.06-02.35.45_MD661_1_0172_prep2_gray/detector9/MD662&661-F58-2017.06.06-02.35.45_MD661_1_0172_prep2_gray_detector9_LRt_sparseScores.bp\n",
      "Error loading sparse scores for LRt: [Errno 2] No such file or directory: '/home/yuncong/CSHL_patch_scores/MD661/MD662&661-F58-2017.06.06-02.35.45_MD661_1_0172_prep2_gray/detector9/MD662&661-F58-2017.06.06-02.35.45_MD661_1_0172_prep2_gray_detector9_LRt_sparseScores.bp'\n"
     ]
    },
    {
     "name": "stdout",
     "output_type": "stream",
     "text": [
      "rm -rf \"/home/yuncong/CSHL_patch_scores/MD661/MD662&661-F58-2017.06.06-02.35.45_MD661_1_0172_prep2_gray/detector9/MD662&661-F58-2017.06.06-02.35.45_MD661_1_0172_prep2_gray_detector9_PBG_sparseScores.bp\" && mkdir -p \"/home/yuncong/CSHL_patch_scores/MD661/MD662&661-F58-2017.06.06-02.35.45_MD661_1_0172_prep2_gray/detector9\"\n",
      "aws s3 cp \"s3://mousebrainatlas-data/CSHL_patch_scores/MD661/MD662&661-F58-2017.06.06-02.35.45_MD661_1_0172_prep2_gray/detector9/MD662&661-F58-2017.06.06-02.35.45_MD661_1_0172_prep2_gray_detector9_PBG_sparseScores.bp\" \"/home/yuncong/CSHL_patch_scores/MD661/MD662&661-F58-2017.06.06-02.35.45_MD661_1_0172_prep2_gray/detector9/MD662&661-F58-2017.06.06-02.35.45_MD661_1_0172_prep2_gray_detector9_PBG_sparseScores.bp\"\n"
     ]
    },
    {
     "name": "stderr",
     "output_type": "stream",
     "text": [
      "File does not exist: /home/yuncong/CSHL_patch_scores/MD661/MD662&661-F57-2017.06.06-02.06.22_MD661_3_0171_prep2_gray/detector9/MD662&661-F57-2017.06.06-02.06.22_MD661_3_0171_prep2_gray_detector9_LRt_sparseScores.bp\n",
      "Error loading sparse scores for LRt: [Errno 2] No such file or directory: '/home/yuncong/CSHL_patch_scores/MD661/MD662&661-F57-2017.06.06-02.06.22_MD661_3_0171_prep2_gray/detector9/MD662&661-F57-2017.06.06-02.06.22_MD661_3_0171_prep2_gray_detector9_LRt_sparseScores.bp'\n"
     ]
    },
    {
     "name": "stdout",
     "output_type": "stream",
     "text": [
      "rm -rf \"/home/yuncong/CSHL_patch_scores/MD661/MD662&661-F57-2017.06.06-02.06.22_MD661_3_0171_prep2_gray/detector9/MD662&661-F57-2017.06.06-02.06.22_MD661_3_0171_prep2_gray_detector9_PBG_sparseScores.bp\" && mkdir -p \"/home/yuncong/CSHL_patch_scores/MD661/MD662&661-F57-2017.06.06-02.06.22_MD661_3_0171_prep2_gray/detector9\"\n",
      "aws s3 cp \"s3://mousebrainatlas-data/CSHL_patch_scores/MD661/MD662&661-F57-2017.06.06-02.06.22_MD661_3_0171_prep2_gray/detector9/MD662&661-F57-2017.06.06-02.06.22_MD661_3_0171_prep2_gray_detector9_PBG_sparseScores.bp\" \"/home/yuncong/CSHL_patch_scores/MD661/MD662&661-F57-2017.06.06-02.06.22_MD661_3_0171_prep2_gray/detector9/MD662&661-F57-2017.06.06-02.06.22_MD661_3_0171_prep2_gray_detector9_PBG_sparseScores.bp\"\n"
     ]
    },
    {
     "name": "stderr",
     "output_type": "stream",
     "text": [
      "File does not exist: /home/yuncong/CSHL_patch_scores/MD661/MD662&661-F58-2017.06.06-02.35.45_MD661_2_0173_prep2_gray/detector9/MD662&661-F58-2017.06.06-02.35.45_MD661_2_0173_prep2_gray_detector9_LRt_sparseScores.bp\n",
      "Error loading sparse scores for LRt: [Errno 2] No such file or directory: '/home/yuncong/CSHL_patch_scores/MD661/MD662&661-F58-2017.06.06-02.35.45_MD661_2_0173_prep2_gray/detector9/MD662&661-F58-2017.06.06-02.35.45_MD661_2_0173_prep2_gray_detector9_LRt_sparseScores.bp'\n"
     ]
    },
    {
     "name": "stdout",
     "output_type": "stream",
     "text": [
      "rm -rf \"/home/yuncong/CSHL_patch_scores/MD661/MD662&661-F58-2017.06.06-02.35.45_MD661_2_0173_prep2_gray/detector9/MD662&661-F58-2017.06.06-02.35.45_MD661_2_0173_prep2_gray_detector9_PBG_sparseScores.bp\" && mkdir -p \"/home/yuncong/CSHL_patch_scores/MD661/MD662&661-F58-2017.06.06-02.35.45_MD661_2_0173_prep2_gray/detector9\"\n",
      "aws s3 cp \"s3://mousebrainatlas-data/CSHL_patch_scores/MD661/MD662&661-F58-2017.06.06-02.35.45_MD661_2_0173_prep2_gray/detector9/MD662&661-F58-2017.06.06-02.35.45_MD661_2_0173_prep2_gray_detector9_PBG_sparseScores.bp\" \"/home/yuncong/CSHL_patch_scores/MD661/MD662&661-F58-2017.06.06-02.35.45_MD661_2_0173_prep2_gray/detector9/MD662&661-F58-2017.06.06-02.35.45_MD661_2_0173_prep2_gray_detector9_PBG_sparseScores.bp\"\n"
     ]
    },
    {
     "name": "stderr",
     "output_type": "stream",
     "text": [
      "File does not exist: /home/yuncong/CSHL_patch_scores/MD661/MD662&661-F58-2017.06.06-02.35.45_MD661_1_0172_prep2_gray/detector9/MD662&661-F58-2017.06.06-02.35.45_MD661_1_0172_prep2_gray_detector9_PBG_sparseScores.bp\n",
      "Error loading sparse scores for PBG: [Errno 2] No such file or directory: '/home/yuncong/CSHL_patch_scores/MD661/MD662&661-F58-2017.06.06-02.35.45_MD661_1_0172_prep2_gray/detector9/MD662&661-F58-2017.06.06-02.35.45_MD661_1_0172_prep2_gray_detector9_PBG_sparseScores.bp'\n"
     ]
    },
    {
     "name": "stdout",
     "output_type": "stream",
     "text": [
      "rm -rf \"/home/yuncong/CSHL_patch_scores/MD661/MD662&661-F58-2017.06.06-02.35.45_MD661_1_0172_prep2_gray/detector9/MD662&661-F58-2017.06.06-02.35.45_MD661_1_0172_prep2_gray_detector9_Pn_sparseScores.bp\" && mkdir -p \"/home/yuncong/CSHL_patch_scores/MD661/MD662&661-F58-2017.06.06-02.35.45_MD661_1_0172_prep2_gray/detector9\"\n",
      "aws s3 cp \"s3://mousebrainatlas-data/CSHL_patch_scores/MD661/MD662&661-F58-2017.06.06-02.35.45_MD661_1_0172_prep2_gray/detector9/MD662&661-F58-2017.06.06-02.35.45_MD661_1_0172_prep2_gray_detector9_Pn_sparseScores.bp\" \"/home/yuncong/CSHL_patch_scores/MD661/MD662&661-F58-2017.06.06-02.35.45_MD661_1_0172_prep2_gray/detector9/MD662&661-F58-2017.06.06-02.35.45_MD661_1_0172_prep2_gray_detector9_Pn_sparseScores.bp\"\n"
     ]
    },
    {
     "name": "stderr",
     "output_type": "stream",
     "text": [
      "File does not exist: /home/yuncong/CSHL_patch_scores/MD661/MD662&661-F57-2017.06.06-02.06.22_MD661_3_0171_prep2_gray/detector9/MD662&661-F57-2017.06.06-02.06.22_MD661_3_0171_prep2_gray_detector9_PBG_sparseScores.bp\n",
      "Error loading sparse scores for PBG: [Errno 2] No such file or directory: '/home/yuncong/CSHL_patch_scores/MD661/MD662&661-F57-2017.06.06-02.06.22_MD661_3_0171_prep2_gray/detector9/MD662&661-F57-2017.06.06-02.06.22_MD661_3_0171_prep2_gray_detector9_PBG_sparseScores.bp'\n"
     ]
    },
    {
     "name": "stdout",
     "output_type": "stream",
     "text": [
      "rm -rf \"/home/yuncong/CSHL_patch_scores/MD661/MD662&661-F57-2017.06.06-02.06.22_MD661_3_0171_prep2_gray/detector9/MD662&661-F57-2017.06.06-02.06.22_MD661_3_0171_prep2_gray_detector9_Pn_sparseScores.bp\" && mkdir -p \"/home/yuncong/CSHL_patch_scores/MD661/MD662&661-F57-2017.06.06-02.06.22_MD661_3_0171_prep2_gray/detector9\"\n",
      "aws s3 cp \"s3://mousebrainatlas-data/CSHL_patch_scores/MD661/MD662&661-F57-2017.06.06-02.06.22_MD661_3_0171_prep2_gray/detector9/MD662&661-F57-2017.06.06-02.06.22_MD661_3_0171_prep2_gray_detector9_Pn_sparseScores.bp\" \"/home/yuncong/CSHL_patch_scores/MD661/MD662&661-F57-2017.06.06-02.06.22_MD661_3_0171_prep2_gray/detector9/MD662&661-F57-2017.06.06-02.06.22_MD661_3_0171_prep2_gray_detector9_Pn_sparseScores.bp\"\n"
     ]
    },
    {
     "name": "stderr",
     "output_type": "stream",
     "text": [
      "File does not exist: /home/yuncong/CSHL_patch_scores/MD661/MD662&661-F58-2017.06.06-02.35.45_MD661_2_0173_prep2_gray/detector9/MD662&661-F58-2017.06.06-02.35.45_MD661_2_0173_prep2_gray_detector9_PBG_sparseScores.bp\n",
      "Error loading sparse scores for PBG: [Errno 2] No such file or directory: '/home/yuncong/CSHL_patch_scores/MD661/MD662&661-F58-2017.06.06-02.35.45_MD661_2_0173_prep2_gray/detector9/MD662&661-F58-2017.06.06-02.35.45_MD661_2_0173_prep2_gray_detector9_PBG_sparseScores.bp'\n"
     ]
    },
    {
     "name": "stdout",
     "output_type": "stream",
     "text": [
      "rm -rf \"/home/yuncong/CSHL_patch_scores/MD661/MD662&661-F58-2017.06.06-02.35.45_MD661_2_0173_prep2_gray/detector9/MD662&661-F58-2017.06.06-02.35.45_MD661_2_0173_prep2_gray_detector9_Pn_sparseScores.bp\" && mkdir -p \"/home/yuncong/CSHL_patch_scores/MD661/MD662&661-F58-2017.06.06-02.35.45_MD661_2_0173_prep2_gray/detector9\"\n",
      "aws s3 cp \"s3://mousebrainatlas-data/CSHL_patch_scores/MD661/MD662&661-F58-2017.06.06-02.35.45_MD661_2_0173_prep2_gray/detector9/MD662&661-F58-2017.06.06-02.35.45_MD661_2_0173_prep2_gray_detector9_Pn_sparseScores.bp\" \"/home/yuncong/CSHL_patch_scores/MD661/MD662&661-F58-2017.06.06-02.35.45_MD661_2_0173_prep2_gray/detector9/MD662&661-F58-2017.06.06-02.35.45_MD661_2_0173_prep2_gray_detector9_Pn_sparseScores.bp\"\n"
     ]
    },
    {
     "name": "stderr",
     "output_type": "stream",
     "text": [
      "File does not exist: /home/yuncong/CSHL_patch_scores/MD661/MD662&661-F58-2017.06.06-02.35.45_MD661_1_0172_prep2_gray/detector9/MD662&661-F58-2017.06.06-02.35.45_MD661_1_0172_prep2_gray_detector9_Pn_sparseScores.bp\n",
      "Error loading sparse scores for Pn: [Errno 2] No such file or directory: '/home/yuncong/CSHL_patch_scores/MD661/MD662&661-F58-2017.06.06-02.35.45_MD661_1_0172_prep2_gray/detector9/MD662&661-F58-2017.06.06-02.35.45_MD661_1_0172_prep2_gray_detector9_Pn_sparseScores.bp'\n"
     ]
    },
    {
     "name": "stdout",
     "output_type": "stream",
     "text": [
      "rm -rf \"/home/yuncong/CSHL_patch_scores/MD661/MD662&661-F58-2017.06.06-02.35.45_MD661_1_0172_prep2_gray/detector9/MD662&661-F58-2017.06.06-02.35.45_MD661_1_0172_prep2_gray_detector9_RMC_sparseScores.bp\" && mkdir -p \"/home/yuncong/CSHL_patch_scores/MD661/MD662&661-F58-2017.06.06-02.35.45_MD661_1_0172_prep2_gray/detector9\"\n"
     ]
    },
    {
     "name": "stderr",
     "output_type": "stream",
     "text": [
      "File does not exist: /home/yuncong/CSHL_patch_scores/MD661/MD662&661-F57-2017.06.06-02.06.22_MD661_3_0171_prep2_gray/detector9/MD662&661-F57-2017.06.06-02.06.22_MD661_3_0171_prep2_gray_detector9_Pn_sparseScores.bp\n",
      "Error loading sparse scores for Pn: [Errno 2] No such file or directory: '/home/yuncong/CSHL_patch_scores/MD661/MD662&661-F57-2017.06.06-02.06.22_MD661_3_0171_prep2_gray/detector9/MD662&661-F57-2017.06.06-02.06.22_MD661_3_0171_prep2_gray_detector9_Pn_sparseScores.bp'\n"
     ]
    },
    {
     "name": "stdout",
     "output_type": "stream",
     "text": [
      "rm -rf \"/home/yuncong/CSHL_patch_scores/MD661/MD662&661-F57-2017.06.06-02.06.22_MD661_3_0171_prep2_gray/detector9/MD662&661-F57-2017.06.06-02.06.22_MD661_3_0171_prep2_gray_detector9_RMC_sparseScores.bp\" && mkdir -p \"/home/yuncong/CSHL_patch_scores/MD661/MD662&661-F57-2017.06.06-02.06.22_MD661_3_0171_prep2_gray/detector9\"\n",
      "aws s3 cp \"s3://mousebrainatlas-data/CSHL_patch_scores/MD661/MD662&661-F58-2017.06.06-02.35.45_MD661_1_0172_prep2_gray/detector9/MD662&661-F58-2017.06.06-02.35.45_MD661_1_0172_prep2_gray_detector9_RMC_sparseScores.bp\" \"/home/yuncong/CSHL_patch_scores/MD661/MD662&661-F58-2017.06.06-02.35.45_MD661_1_0172_prep2_gray/detector9/MD662&661-F58-2017.06.06-02.35.45_MD661_1_0172_prep2_gray_detector9_RMC_sparseScores.bp\"\n",
      "aws s3 cp \"s3://mousebrainatlas-data/CSHL_patch_scores/MD661/MD662&661-F57-2017.06.06-02.06.22_MD661_3_0171_prep2_gray/detector9/MD662&661-F57-2017.06.06-02.06.22_MD661_3_0171_prep2_gray_detector9_RMC_sparseScores.bp\" \"/home/yuncong/CSHL_patch_scores/MD661/MD662&661-F57-2017.06.06-02.06.22_MD661_3_0171_prep2_gray/detector9/MD662&661-F57-2017.06.06-02.06.22_MD661_3_0171_prep2_gray_detector9_RMC_sparseScores.bp\"\n"
     ]
    },
    {
     "name": "stderr",
     "output_type": "stream",
     "text": [
      "File does not exist: /home/yuncong/CSHL_patch_scores/MD661/MD662&661-F58-2017.06.06-02.35.45_MD661_2_0173_prep2_gray/detector9/MD662&661-F58-2017.06.06-02.35.45_MD661_2_0173_prep2_gray_detector9_Pn_sparseScores.bp\n",
      "Error loading sparse scores for Pn: [Errno 2] No such file or directory: '/home/yuncong/CSHL_patch_scores/MD661/MD662&661-F58-2017.06.06-02.35.45_MD661_2_0173_prep2_gray/detector9/MD662&661-F58-2017.06.06-02.35.45_MD661_2_0173_prep2_gray_detector9_Pn_sparseScores.bp'\n"
     ]
    },
    {
     "name": "stdout",
     "output_type": "stream",
     "text": [
      "rm -rf \"/home/yuncong/CSHL_patch_scores/MD661/MD662&661-F58-2017.06.06-02.35.45_MD661_2_0173_prep2_gray/detector9/MD662&661-F58-2017.06.06-02.35.45_MD661_2_0173_prep2_gray_detector9_RMC_sparseScores.bp\" && mkdir -p \"/home/yuncong/CSHL_patch_scores/MD661/MD662&661-F58-2017.06.06-02.35.45_MD661_2_0173_prep2_gray/detector9\"\n",
      "aws s3 cp \"s3://mousebrainatlas-data/CSHL_patch_scores/MD661/MD662&661-F58-2017.06.06-02.35.45_MD661_2_0173_prep2_gray/detector9/MD662&661-F58-2017.06.06-02.35.45_MD661_2_0173_prep2_gray_detector9_RMC_sparseScores.bp\" \"/home/yuncong/CSHL_patch_scores/MD661/MD662&661-F58-2017.06.06-02.35.45_MD661_2_0173_prep2_gray/detector9/MD662&661-F58-2017.06.06-02.35.45_MD661_2_0173_prep2_gray_detector9_RMC_sparseScores.bp\"\n"
     ]
    },
    {
     "name": "stderr",
     "output_type": "stream",
     "text": [
      "File does not exist: /home/yuncong/CSHL_patch_scores/MD661/MD662&661-F58-2017.06.06-02.35.45_MD661_1_0172_prep2_gray/detector9/MD662&661-F58-2017.06.06-02.35.45_MD661_1_0172_prep2_gray_detector9_RMC_sparseScores.bp\n",
      "Error loading sparse scores for RMC: [Errno 2] No such file or directory: '/home/yuncong/CSHL_patch_scores/MD661/MD662&661-F58-2017.06.06-02.35.45_MD661_1_0172_prep2_gray/detector9/MD662&661-F58-2017.06.06-02.35.45_MD661_1_0172_prep2_gray_detector9_RMC_sparseScores.bp'\n"
     ]
    },
    {
     "name": "stdout",
     "output_type": "stream",
     "text": [
      "rm -rf \"/home/yuncong/CSHL_patch_scores/MD661/MD662&661-F58-2017.06.06-02.35.45_MD661_1_0172_prep2_gray/detector9/MD662&661-F58-2017.06.06-02.35.45_MD661_1_0172_prep2_gray_detector9_RtTg_sparseScores.bp\" && mkdir -p \"/home/yuncong/CSHL_patch_scores/MD661/MD662&661-F58-2017.06.06-02.35.45_MD661_1_0172_prep2_gray/detector9\"\n",
      "aws s3 cp \"s3://mousebrainatlas-data/CSHL_patch_scores/MD661/MD662&661-F58-2017.06.06-02.35.45_MD661_1_0172_prep2_gray/detector9/MD662&661-F58-2017.06.06-02.35.45_MD661_1_0172_prep2_gray_detector9_RtTg_sparseScores.bp\" \"/home/yuncong/CSHL_patch_scores/MD661/MD662&661-F58-2017.06.06-02.35.45_MD661_1_0172_prep2_gray/detector9/MD662&661-F58-2017.06.06-02.35.45_MD661_1_0172_prep2_gray_detector9_RtTg_sparseScores.bp\"\n"
     ]
    },
    {
     "name": "stderr",
     "output_type": "stream",
     "text": [
      "File does not exist: /home/yuncong/CSHL_patch_scores/MD661/MD662&661-F57-2017.06.06-02.06.22_MD661_3_0171_prep2_gray/detector9/MD662&661-F57-2017.06.06-02.06.22_MD661_3_0171_prep2_gray_detector9_RMC_sparseScores.bp\n",
      "Error loading sparse scores for RMC: [Errno 2] No such file or directory: '/home/yuncong/CSHL_patch_scores/MD661/MD662&661-F57-2017.06.06-02.06.22_MD661_3_0171_prep2_gray/detector9/MD662&661-F57-2017.06.06-02.06.22_MD661_3_0171_prep2_gray_detector9_RMC_sparseScores.bp'\n"
     ]
    },
    {
     "name": "stdout",
     "output_type": "stream",
     "text": [
      "rm -rf \"/home/yuncong/CSHL_patch_scores/MD661/MD662&661-F57-2017.06.06-02.06.22_MD661_3_0171_prep2_gray/detector9/MD662&661-F57-2017.06.06-02.06.22_MD661_3_0171_prep2_gray_detector9_RtTg_sparseScores.bp\" && mkdir -p \"/home/yuncong/CSHL_patch_scores/MD661/MD662&661-F57-2017.06.06-02.06.22_MD661_3_0171_prep2_gray/detector9\"\n",
      "aws s3 cp \"s3://mousebrainatlas-data/CSHL_patch_scores/MD661/MD662&661-F57-2017.06.06-02.06.22_MD661_3_0171_prep2_gray/detector9/MD662&661-F57-2017.06.06-02.06.22_MD661_3_0171_prep2_gray_detector9_RtTg_sparseScores.bp\" \"/home/yuncong/CSHL_patch_scores/MD661/MD662&661-F57-2017.06.06-02.06.22_MD661_3_0171_prep2_gray/detector9/MD662&661-F57-2017.06.06-02.06.22_MD661_3_0171_prep2_gray_detector9_RtTg_sparseScores.bp\"\n"
     ]
    },
    {
     "name": "stderr",
     "output_type": "stream",
     "text": [
      "File does not exist: /home/yuncong/CSHL_patch_scores/MD661/MD662&661-F58-2017.06.06-02.35.45_MD661_2_0173_prep2_gray/detector9/MD662&661-F58-2017.06.06-02.35.45_MD661_2_0173_prep2_gray_detector9_RMC_sparseScores.bp\n",
      "Error loading sparse scores for RMC: [Errno 2] No such file or directory: '/home/yuncong/CSHL_patch_scores/MD661/MD662&661-F58-2017.06.06-02.35.45_MD661_2_0173_prep2_gray/detector9/MD662&661-F58-2017.06.06-02.35.45_MD661_2_0173_prep2_gray_detector9_RMC_sparseScores.bp'\n"
     ]
    },
    {
     "name": "stdout",
     "output_type": "stream",
     "text": [
      "rm -rf \"/home/yuncong/CSHL_patch_scores/MD661/MD662&661-F58-2017.06.06-02.35.45_MD661_2_0173_prep2_gray/detector9/MD662&661-F58-2017.06.06-02.35.45_MD661_2_0173_prep2_gray_detector9_RtTg_sparseScores.bp\" && mkdir -p \"/home/yuncong/CSHL_patch_scores/MD661/MD662&661-F58-2017.06.06-02.35.45_MD661_2_0173_prep2_gray/detector9\"\n",
      "aws s3 cp \"s3://mousebrainatlas-data/CSHL_patch_scores/MD661/MD662&661-F58-2017.06.06-02.35.45_MD661_2_0173_prep2_gray/detector9/MD662&661-F58-2017.06.06-02.35.45_MD661_2_0173_prep2_gray_detector9_RtTg_sparseScores.bp\" \"/home/yuncong/CSHL_patch_scores/MD661/MD662&661-F58-2017.06.06-02.35.45_MD661_2_0173_prep2_gray/detector9/MD662&661-F58-2017.06.06-02.35.45_MD661_2_0173_prep2_gray_detector9_RtTg_sparseScores.bp\"\n"
     ]
    },
    {
     "name": "stderr",
     "output_type": "stream",
     "text": [
      "File does not exist: /home/yuncong/CSHL_patch_scores/MD661/MD662&661-F58-2017.06.06-02.35.45_MD661_1_0172_prep2_gray/detector9/MD662&661-F58-2017.06.06-02.35.45_MD661_1_0172_prep2_gray_detector9_RtTg_sparseScores.bp\n",
      "Error loading sparse scores for RtTg: [Errno 2] No such file or directory: '/home/yuncong/CSHL_patch_scores/MD661/MD662&661-F58-2017.06.06-02.35.45_MD661_1_0172_prep2_gray/detector9/MD662&661-F58-2017.06.06-02.35.45_MD661_1_0172_prep2_gray_detector9_RtTg_sparseScores.bp'\n"
     ]
    },
    {
     "name": "stdout",
     "output_type": "stream",
     "text": [
      "rm -rf \"/home/yuncong/CSHL_patch_scores/MD661/MD662&661-F58-2017.06.06-02.35.45_MD661_1_0172_prep2_gray/detector9/MD662&661-F58-2017.06.06-02.35.45_MD661_1_0172_prep2_gray_detector9_SC_sparseScores.bp\" && mkdir -p \"/home/yuncong/CSHL_patch_scores/MD661/MD662&661-F58-2017.06.06-02.35.45_MD661_1_0172_prep2_gray/detector9\"\n"
     ]
    },
    {
     "name": "stderr",
     "output_type": "stream",
     "text": [
      "File does not exist: /home/yuncong/CSHL_patch_scores/MD661/MD662&661-F57-2017.06.06-02.06.22_MD661_3_0171_prep2_gray/detector9/MD662&661-F57-2017.06.06-02.06.22_MD661_3_0171_prep2_gray_detector9_RtTg_sparseScores.bp\n",
      "Error loading sparse scores for RtTg: [Errno 2] No such file or directory: '/home/yuncong/CSHL_patch_scores/MD661/MD662&661-F57-2017.06.06-02.06.22_MD661_3_0171_prep2_gray/detector9/MD662&661-F57-2017.06.06-02.06.22_MD661_3_0171_prep2_gray_detector9_RtTg_sparseScores.bp'\n"
     ]
    },
    {
     "name": "stdout",
     "output_type": "stream",
     "text": [
      "rm -rf \"/home/yuncong/CSHL_patch_scores/MD661/MD662&661-F57-2017.06.06-02.06.22_MD661_3_0171_prep2_gray/detector9/MD662&661-F57-2017.06.06-02.06.22_MD661_3_0171_prep2_gray_detector9_SC_sparseScores.bp\" && mkdir -p \"/home/yuncong/CSHL_patch_scores/MD661/MD662&661-F57-2017.06.06-02.06.22_MD661_3_0171_prep2_gray/detector9\"\n",
      "aws s3 cp \"s3://mousebrainatlas-data/CSHL_patch_scores/MD661/MD662&661-F58-2017.06.06-02.35.45_MD661_1_0172_prep2_gray/detector9/MD662&661-F58-2017.06.06-02.35.45_MD661_1_0172_prep2_gray_detector9_SC_sparseScores.bp\" \"/home/yuncong/CSHL_patch_scores/MD661/MD662&661-F58-2017.06.06-02.35.45_MD661_1_0172_prep2_gray/detector9/MD662&661-F58-2017.06.06-02.35.45_MD661_1_0172_prep2_gray_detector9_SC_sparseScores.bp\"\n",
      "aws s3 cp \"s3://mousebrainatlas-data/CSHL_patch_scores/MD661/MD662&661-F57-2017.06.06-02.06.22_MD661_3_0171_prep2_gray/detector9/MD662&661-F57-2017.06.06-02.06.22_MD661_3_0171_prep2_gray_detector9_SC_sparseScores.bp\" \"/home/yuncong/CSHL_patch_scores/MD661/MD662&661-F57-2017.06.06-02.06.22_MD661_3_0171_prep2_gray/detector9/MD662&661-F57-2017.06.06-02.06.22_MD661_3_0171_prep2_gray_detector9_SC_sparseScores.bp\"\n"
     ]
    },
    {
     "name": "stderr",
     "output_type": "stream",
     "text": [
      "File does not exist: /home/yuncong/CSHL_patch_scores/MD661/MD662&661-F58-2017.06.06-02.35.45_MD661_2_0173_prep2_gray/detector9/MD662&661-F58-2017.06.06-02.35.45_MD661_2_0173_prep2_gray_detector9_RtTg_sparseScores.bp\n",
      "Error loading sparse scores for RtTg: [Errno 2] No such file or directory: '/home/yuncong/CSHL_patch_scores/MD661/MD662&661-F58-2017.06.06-02.35.45_MD661_2_0173_prep2_gray/detector9/MD662&661-F58-2017.06.06-02.35.45_MD661_2_0173_prep2_gray_detector9_RtTg_sparseScores.bp'\n"
     ]
    },
    {
     "name": "stdout",
     "output_type": "stream",
     "text": [
      "rm -rf \"/home/yuncong/CSHL_patch_scores/MD661/MD662&661-F58-2017.06.06-02.35.45_MD661_2_0173_prep2_gray/detector9/MD662&661-F58-2017.06.06-02.35.45_MD661_2_0173_prep2_gray_detector9_SC_sparseScores.bp\" && mkdir -p \"/home/yuncong/CSHL_patch_scores/MD661/MD662&661-F58-2017.06.06-02.35.45_MD661_2_0173_prep2_gray/detector9\"\n",
      "aws s3 cp \"s3://mousebrainatlas-data/CSHL_patch_scores/MD661/MD662&661-F58-2017.06.06-02.35.45_MD661_2_0173_prep2_gray/detector9/MD662&661-F58-2017.06.06-02.35.45_MD661_2_0173_prep2_gray_detector9_SC_sparseScores.bp\" \"/home/yuncong/CSHL_patch_scores/MD661/MD662&661-F58-2017.06.06-02.35.45_MD661_2_0173_prep2_gray/detector9/MD662&661-F58-2017.06.06-02.35.45_MD661_2_0173_prep2_gray_detector9_SC_sparseScores.bp\"\n"
     ]
    },
    {
     "name": "stderr",
     "output_type": "stream",
     "text": [
      "File does not exist: /home/yuncong/CSHL_patch_scores/MD661/MD662&661-F58-2017.06.06-02.35.45_MD661_1_0172_prep2_gray/detector9/MD662&661-F58-2017.06.06-02.35.45_MD661_1_0172_prep2_gray_detector9_SC_sparseScores.bp\n",
      "Error loading sparse scores for SC: [Errno 2] No such file or directory: '/home/yuncong/CSHL_patch_scores/MD661/MD662&661-F58-2017.06.06-02.35.45_MD661_1_0172_prep2_gray/detector9/MD662&661-F58-2017.06.06-02.35.45_MD661_1_0172_prep2_gray_detector9_SC_sparseScores.bp'\n"
     ]
    },
    {
     "name": "stdout",
     "output_type": "stream",
     "text": [
      "rm -rf \"/home/yuncong/CSHL_patch_scores/MD661/MD662&661-F58-2017.06.06-02.35.45_MD661_1_0172_prep2_gray/detector9/MD662&661-F58-2017.06.06-02.35.45_MD661_1_0172_prep2_gray_detector9_SNC_sparseScores.bp\" && mkdir -p \"/home/yuncong/CSHL_patch_scores/MD661/MD662&661-F58-2017.06.06-02.35.45_MD661_1_0172_prep2_gray/detector9\"\n"
     ]
    },
    {
     "name": "stderr",
     "output_type": "stream",
     "text": [
      "File does not exist: /home/yuncong/CSHL_patch_scores/MD661/MD662&661-F57-2017.06.06-02.06.22_MD661_3_0171_prep2_gray/detector9/MD662&661-F57-2017.06.06-02.06.22_MD661_3_0171_prep2_gray_detector9_SC_sparseScores.bp\n",
      "Error loading sparse scores for SC: [Errno 2] No such file or directory: '/home/yuncong/CSHL_patch_scores/MD661/MD662&661-F57-2017.06.06-02.06.22_MD661_3_0171_prep2_gray/detector9/MD662&661-F57-2017.06.06-02.06.22_MD661_3_0171_prep2_gray_detector9_SC_sparseScores.bp'\n"
     ]
    },
    {
     "name": "stdout",
     "output_type": "stream",
     "text": [
      "rm -rf \"/home/yuncong/CSHL_patch_scores/MD661/MD662&661-F57-2017.06.06-02.06.22_MD661_3_0171_prep2_gray/detector9/MD662&661-F57-2017.06.06-02.06.22_MD661_3_0171_prep2_gray_detector9_SNC_sparseScores.bp\" && mkdir -p \"/home/yuncong/CSHL_patch_scores/MD661/MD662&661-F57-2017.06.06-02.06.22_MD661_3_0171_prep2_gray/detector9\"\n",
      "aws s3 cp \"s3://mousebrainatlas-data/CSHL_patch_scores/MD661/MD662&661-F58-2017.06.06-02.35.45_MD661_1_0172_prep2_gray/detector9/MD662&661-F58-2017.06.06-02.35.45_MD661_1_0172_prep2_gray_detector9_SNC_sparseScores.bp\" \"/home/yuncong/CSHL_patch_scores/MD661/MD662&661-F58-2017.06.06-02.35.45_MD661_1_0172_prep2_gray/detector9/MD662&661-F58-2017.06.06-02.35.45_MD661_1_0172_prep2_gray_detector9_SNC_sparseScores.bp\"\n"
     ]
    },
    {
     "name": "stderr",
     "output_type": "stream",
     "text": [
      "File does not exist: /home/yuncong/CSHL_patch_scores/MD661/MD662&661-F58-2017.06.06-02.35.45_MD661_2_0173_prep2_gray/detector9/MD662&661-F58-2017.06.06-02.35.45_MD661_2_0173_prep2_gray_detector9_SC_sparseScores.bp\n"
     ]
    },
    {
     "name": "stdout",
     "output_type": "stream",
     "text": [
      "aws s3 cp \"s3://mousebrainatlas-data/CSHL_patch_scores/MD661/MD662&661-F57-2017.06.06-02.06.22_MD661_3_0171_prep2_gray/detector9/MD662&661-F57-2017.06.06-02.06.22_MD661_3_0171_prep2_gray_detector9_SNC_sparseScores.bp\" \"/home/yuncong/CSHL_patch_scores/MD661/MD662&661-F57-2017.06.06-02.06.22_MD661_3_0171_prep2_gray/detector9/MD662&661-F57-2017.06.06-02.06.22_MD661_3_0171_prep2_gray_detector9_SNC_sparseScores.bp\"\n"
     ]
    },
    {
     "name": "stderr",
     "output_type": "stream",
     "text": [
      "Error loading sparse scores for SC: [Errno 2] No such file or directory: '/home/yuncong/CSHL_patch_scores/MD661/MD662&661-F58-2017.06.06-02.35.45_MD661_2_0173_prep2_gray/detector9/MD662&661-F58-2017.06.06-02.35.45_MD661_2_0173_prep2_gray_detector9_SC_sparseScores.bp'\n"
     ]
    },
    {
     "name": "stdout",
     "output_type": "stream",
     "text": [
      "rm -rf \"/home/yuncong/CSHL_patch_scores/MD661/MD662&661-F58-2017.06.06-02.35.45_MD661_2_0173_prep2_gray/detector9/MD662&661-F58-2017.06.06-02.35.45_MD661_2_0173_prep2_gray_detector9_SNC_sparseScores.bp\" && mkdir -p \"/home/yuncong/CSHL_patch_scores/MD661/MD662&661-F58-2017.06.06-02.35.45_MD661_2_0173_prep2_gray/detector9\"\n",
      "aws s3 cp \"s3://mousebrainatlas-data/CSHL_patch_scores/MD661/MD662&661-F58-2017.06.06-02.35.45_MD661_2_0173_prep2_gray/detector9/MD662&661-F58-2017.06.06-02.35.45_MD661_2_0173_prep2_gray_detector9_SNC_sparseScores.bp\" \"/home/yuncong/CSHL_patch_scores/MD661/MD662&661-F58-2017.06.06-02.35.45_MD661_2_0173_prep2_gray/detector9/MD662&661-F58-2017.06.06-02.35.45_MD661_2_0173_prep2_gray_detector9_SNC_sparseScores.bp\"\n"
     ]
    },
    {
     "name": "stderr",
     "output_type": "stream",
     "text": [
      "File does not exist: /home/yuncong/CSHL_patch_scores/MD661/MD662&661-F58-2017.06.06-02.35.45_MD661_1_0172_prep2_gray/detector9/MD662&661-F58-2017.06.06-02.35.45_MD661_1_0172_prep2_gray_detector9_SNC_sparseScores.bp\n",
      "Error loading sparse scores for SNC: [Errno 2] No such file or directory: '/home/yuncong/CSHL_patch_scores/MD661/MD662&661-F58-2017.06.06-02.35.45_MD661_1_0172_prep2_gray/detector9/MD662&661-F58-2017.06.06-02.35.45_MD661_1_0172_prep2_gray_detector9_SNC_sparseScores.bp'\n"
     ]
    },
    {
     "name": "stdout",
     "output_type": "stream",
     "text": [
      "rm -rf \"/home/yuncong/CSHL_patch_scores/MD661/MD662&661-F58-2017.06.06-02.35.45_MD661_1_0172_prep2_gray/detector9/MD662&661-F58-2017.06.06-02.35.45_MD661_1_0172_prep2_gray_detector9_SNR_sparseScores.bp\" && mkdir -p \"/home/yuncong/CSHL_patch_scores/MD661/MD662&661-F58-2017.06.06-02.35.45_MD661_1_0172_prep2_gray/detector9\"\n",
      "aws s3 cp \"s3://mousebrainatlas-data/CSHL_patch_scores/MD661/MD662&661-F58-2017.06.06-02.35.45_MD661_1_0172_prep2_gray/detector9/MD662&661-F58-2017.06.06-02.35.45_MD661_1_0172_prep2_gray_detector9_SNR_sparseScores.bp\" \"/home/yuncong/CSHL_patch_scores/MD661/MD662&661-F58-2017.06.06-02.35.45_MD661_1_0172_prep2_gray/detector9/MD662&661-F58-2017.06.06-02.35.45_MD661_1_0172_prep2_gray_detector9_SNR_sparseScores.bp\"\n"
     ]
    },
    {
     "name": "stderr",
     "output_type": "stream",
     "text": [
      "File does not exist: /home/yuncong/CSHL_patch_scores/MD661/MD662&661-F57-2017.06.06-02.06.22_MD661_3_0171_prep2_gray/detector9/MD662&661-F57-2017.06.06-02.06.22_MD661_3_0171_prep2_gray_detector9_SNC_sparseScores.bp\n",
      "Error loading sparse scores for SNC: [Errno 2] No such file or directory: '/home/yuncong/CSHL_patch_scores/MD661/MD662&661-F57-2017.06.06-02.06.22_MD661_3_0171_prep2_gray/detector9/MD662&661-F57-2017.06.06-02.06.22_MD661_3_0171_prep2_gray_detector9_SNC_sparseScores.bp'\n"
     ]
    },
    {
     "name": "stdout",
     "output_type": "stream",
     "text": [
      "rm -rf \"/home/yuncong/CSHL_patch_scores/MD661/MD662&661-F57-2017.06.06-02.06.22_MD661_3_0171_prep2_gray/detector9/MD662&661-F57-2017.06.06-02.06.22_MD661_3_0171_prep2_gray_detector9_SNR_sparseScores.bp\" && mkdir -p \"/home/yuncong/CSHL_patch_scores/MD661/MD662&661-F57-2017.06.06-02.06.22_MD661_3_0171_prep2_gray/detector9\"\n"
     ]
    },
    {
     "name": "stderr",
     "output_type": "stream",
     "text": [
      "File does not exist: /home/yuncong/CSHL_patch_scores/MD661/MD662&661-F58-2017.06.06-02.35.45_MD661_2_0173_prep2_gray/detector9/MD662&661-F58-2017.06.06-02.35.45_MD661_2_0173_prep2_gray_detector9_SNC_sparseScores.bp\n",
      "Error loading sparse scores for SNC: [Errno 2] No such file or directory: '/home/yuncong/CSHL_patch_scores/MD661/MD662&661-F58-2017.06.06-02.35.45_MD661_2_0173_prep2_gray/detector9/MD662&661-F58-2017.06.06-02.35.45_MD661_2_0173_prep2_gray_detector9_SNC_sparseScores.bp'\n"
     ]
    },
    {
     "name": "stdout",
     "output_type": "stream",
     "text": [
      "rm -rf \"/home/yuncong/CSHL_patch_scores/MD661/MD662&661-F58-2017.06.06-02.35.45_MD661_2_0173_prep2_gray/detector9/MD662&661-F58-2017.06.06-02.35.45_MD661_2_0173_prep2_gray_detector9_SNR_sparseScores.bp\" && mkdir -p \"/home/yuncong/CSHL_patch_scores/MD661/MD662&661-F58-2017.06.06-02.35.45_MD661_2_0173_prep2_gray/detector9\"\n",
      "aws s3 cp \"s3://mousebrainatlas-data/CSHL_patch_scores/MD661/MD662&661-F57-2017.06.06-02.06.22_MD661_3_0171_prep2_gray/detector9/MD662&661-F57-2017.06.06-02.06.22_MD661_3_0171_prep2_gray_detector9_SNR_sparseScores.bp\" \"/home/yuncong/CSHL_patch_scores/MD661/MD662&661-F57-2017.06.06-02.06.22_MD661_3_0171_prep2_gray/detector9/MD662&661-F57-2017.06.06-02.06.22_MD661_3_0171_prep2_gray_detector9_SNR_sparseScores.bp\"\n",
      "aws s3 cp \"s3://mousebrainatlas-data/CSHL_patch_scores/MD661/MD662&661-F58-2017.06.06-02.35.45_MD661_2_0173_prep2_gray/detector9/MD662&661-F58-2017.06.06-02.35.45_MD661_2_0173_prep2_gray_detector9_SNR_sparseScores.bp\" \"/home/yuncong/CSHL_patch_scores/MD661/MD662&661-F58-2017.06.06-02.35.45_MD661_2_0173_prep2_gray/detector9/MD662&661-F58-2017.06.06-02.35.45_MD661_2_0173_prep2_gray_detector9_SNR_sparseScores.bp\"\n"
     ]
    },
    {
     "name": "stderr",
     "output_type": "stream",
     "text": [
      "File does not exist: /home/yuncong/CSHL_patch_scores/MD661/MD662&661-F57-2017.06.06-02.06.22_MD661_3_0171_prep2_gray/detector9/MD662&661-F57-2017.06.06-02.06.22_MD661_3_0171_prep2_gray_detector9_SNR_sparseScores.bp\n",
      "Error loading sparse scores for SNR: [Errno 2] No such file or directory: '/home/yuncong/CSHL_patch_scores/MD661/MD662&661-F57-2017.06.06-02.06.22_MD661_3_0171_prep2_gray/detector9/MD662&661-F57-2017.06.06-02.06.22_MD661_3_0171_prep2_gray_detector9_SNR_sparseScores.bp'\n"
     ]
    },
    {
     "name": "stdout",
     "output_type": "stream",
     "text": [
      "rm -rf \"/home/yuncong/CSHL_patch_scores/MD661/MD662&661-F57-2017.06.06-02.06.22_MD661_3_0171_prep2_gray/detector9/MD662&661-F57-2017.06.06-02.06.22_MD661_3_0171_prep2_gray_detector9_Sp5C_sparseScores.bp\" && mkdir -p \"/home/yuncong/CSHL_patch_scores/MD661/MD662&661-F57-2017.06.06-02.06.22_MD661_3_0171_prep2_gray/detector9\"\n"
     ]
    },
    {
     "name": "stderr",
     "output_type": "stream",
     "text": [
      "File does not exist: /home/yuncong/CSHL_patch_scores/MD661/MD662&661-F58-2017.06.06-02.35.45_MD661_1_0172_prep2_gray/detector9/MD662&661-F58-2017.06.06-02.35.45_MD661_1_0172_prep2_gray_detector9_SNR_sparseScores.bp\n",
      "Error loading sparse scores for SNR: [Errno 2] No such file or directory: '/home/yuncong/CSHL_patch_scores/MD661/MD662&661-F58-2017.06.06-02.35.45_MD661_1_0172_prep2_gray/detector9/MD662&661-F58-2017.06.06-02.35.45_MD661_1_0172_prep2_gray_detector9_SNR_sparseScores.bp'\n"
     ]
    },
    {
     "name": "stdout",
     "output_type": "stream",
     "text": [
      "rm -rf \"/home/yuncong/CSHL_patch_scores/MD661/MD662&661-F58-2017.06.06-02.35.45_MD661_1_0172_prep2_gray/detector9/MD662&661-F58-2017.06.06-02.35.45_MD661_1_0172_prep2_gray_detector9_Sp5C_sparseScores.bp\" && mkdir -p \"/home/yuncong/CSHL_patch_scores/MD661/MD662&661-F58-2017.06.06-02.35.45_MD661_1_0172_prep2_gray/detector9\"\n",
      "aws s3 cp \"s3://mousebrainatlas-data/CSHL_patch_scores/MD661/MD662&661-F57-2017.06.06-02.06.22_MD661_3_0171_prep2_gray/detector9/MD662&661-F57-2017.06.06-02.06.22_MD661_3_0171_prep2_gray_detector9_Sp5C_sparseScores.bp\" \"/home/yuncong/CSHL_patch_scores/MD661/MD662&661-F57-2017.06.06-02.06.22_MD661_3_0171_prep2_gray/detector9/MD662&661-F57-2017.06.06-02.06.22_MD661_3_0171_prep2_gray_detector9_Sp5C_sparseScores.bp\"\n",
      "aws s3 cp \"s3://mousebrainatlas-data/CSHL_patch_scores/MD661/MD662&661-F58-2017.06.06-02.35.45_MD661_1_0172_prep2_gray/detector9/MD662&661-F58-2017.06.06-02.35.45_MD661_1_0172_prep2_gray_detector9_Sp5C_sparseScores.bp\" \"/home/yuncong/CSHL_patch_scores/MD661/MD662&661-F58-2017.06.06-02.35.45_MD661_1_0172_prep2_gray/detector9/MD662&661-F58-2017.06.06-02.35.45_MD661_1_0172_prep2_gray_detector9_Sp5C_sparseScores.bp\"\n"
     ]
    },
    {
     "name": "stderr",
     "output_type": "stream",
     "text": [
      "File does not exist: /home/yuncong/CSHL_patch_scores/MD661/MD662&661-F58-2017.06.06-02.35.45_MD661_2_0173_prep2_gray/detector9/MD662&661-F58-2017.06.06-02.35.45_MD661_2_0173_prep2_gray_detector9_SNR_sparseScores.bp\n",
      "Error loading sparse scores for SNR: [Errno 2] No such file or directory: '/home/yuncong/CSHL_patch_scores/MD661/MD662&661-F58-2017.06.06-02.35.45_MD661_2_0173_prep2_gray/detector9/MD662&661-F58-2017.06.06-02.35.45_MD661_2_0173_prep2_gray_detector9_SNR_sparseScores.bp'\n"
     ]
    },
    {
     "name": "stdout",
     "output_type": "stream",
     "text": [
      "rm -rf \"/home/yuncong/CSHL_patch_scores/MD661/MD662&661-F58-2017.06.06-02.35.45_MD661_2_0173_prep2_gray/detector9/MD662&661-F58-2017.06.06-02.35.45_MD661_2_0173_prep2_gray_detector9_Sp5C_sparseScores.bp\" && mkdir -p \"/home/yuncong/CSHL_patch_scores/MD661/MD662&661-F58-2017.06.06-02.35.45_MD661_2_0173_prep2_gray/detector9\"\n",
      "aws s3 cp \"s3://mousebrainatlas-data/CSHL_patch_scores/MD661/MD662&661-F58-2017.06.06-02.35.45_MD661_2_0173_prep2_gray/detector9/MD662&661-F58-2017.06.06-02.35.45_MD661_2_0173_prep2_gray_detector9_Sp5C_sparseScores.bp\" \"/home/yuncong/CSHL_patch_scores/MD661/MD662&661-F58-2017.06.06-02.35.45_MD661_2_0173_prep2_gray/detector9/MD662&661-F58-2017.06.06-02.35.45_MD661_2_0173_prep2_gray_detector9_Sp5C_sparseScores.bp\"\n"
     ]
    },
    {
     "name": "stderr",
     "output_type": "stream",
     "text": [
      "File does not exist: /home/yuncong/CSHL_patch_scores/MD661/MD662&661-F58-2017.06.06-02.35.45_MD661_1_0172_prep2_gray/detector9/MD662&661-F58-2017.06.06-02.35.45_MD661_1_0172_prep2_gray_detector9_Sp5C_sparseScores.bp\n",
      "Error loading sparse scores for Sp5C: [Errno 2] No such file or directory: '/home/yuncong/CSHL_patch_scores/MD661/MD662&661-F58-2017.06.06-02.35.45_MD661_1_0172_prep2_gray/detector9/MD662&661-F58-2017.06.06-02.35.45_MD661_1_0172_prep2_gray_detector9_Sp5C_sparseScores.bp'\n"
     ]
    },
    {
     "name": "stdout",
     "output_type": "stream",
     "text": [
      "rm -rf \"/home/yuncong/CSHL_patch_scores/MD661/MD662&661-F58-2017.06.06-02.35.45_MD661_1_0172_prep2_gray/detector9/MD662&661-F58-2017.06.06-02.35.45_MD661_1_0172_prep2_gray_detector9_Sp5I_sparseScores.bp\" && mkdir -p \"/home/yuncong/CSHL_patch_scores/MD661/MD662&661-F58-2017.06.06-02.35.45_MD661_1_0172_prep2_gray/detector9\"\n",
      "aws s3 cp \"s3://mousebrainatlas-data/CSHL_patch_scores/MD661/MD662&661-F58-2017.06.06-02.35.45_MD661_1_0172_prep2_gray/detector9/MD662&661-F58-2017.06.06-02.35.45_MD661_1_0172_prep2_gray_detector9_Sp5I_sparseScores.bp\" \"/home/yuncong/CSHL_patch_scores/MD661/MD662&661-F58-2017.06.06-02.35.45_MD661_1_0172_prep2_gray/detector9/MD662&661-F58-2017.06.06-02.35.45_MD661_1_0172_prep2_gray_detector9_Sp5I_sparseScores.bp\"\n"
     ]
    },
    {
     "name": "stderr",
     "output_type": "stream",
     "text": [
      "File does not exist: /home/yuncong/CSHL_patch_scores/MD661/MD662&661-F57-2017.06.06-02.06.22_MD661_3_0171_prep2_gray/detector9/MD662&661-F57-2017.06.06-02.06.22_MD661_3_0171_prep2_gray_detector9_Sp5C_sparseScores.bp\n",
      "Error loading sparse scores for Sp5C: [Errno 2] No such file or directory: '/home/yuncong/CSHL_patch_scores/MD661/MD662&661-F57-2017.06.06-02.06.22_MD661_3_0171_prep2_gray/detector9/MD662&661-F57-2017.06.06-02.06.22_MD661_3_0171_prep2_gray_detector9_Sp5C_sparseScores.bp'\n"
     ]
    },
    {
     "name": "stdout",
     "output_type": "stream",
     "text": [
      "rm -rf \"/home/yuncong/CSHL_patch_scores/MD661/MD662&661-F57-2017.06.06-02.06.22_MD661_3_0171_prep2_gray/detector9/MD662&661-F57-2017.06.06-02.06.22_MD661_3_0171_prep2_gray_detector9_Sp5I_sparseScores.bp\" && mkdir -p \"/home/yuncong/CSHL_patch_scores/MD661/MD662&661-F57-2017.06.06-02.06.22_MD661_3_0171_prep2_gray/detector9\"\n"
     ]
    },
    {
     "name": "stderr",
     "output_type": "stream",
     "text": [
      "File does not exist: /home/yuncong/CSHL_patch_scores/MD661/MD662&661-F58-2017.06.06-02.35.45_MD661_2_0173_prep2_gray/detector9/MD662&661-F58-2017.06.06-02.35.45_MD661_2_0173_prep2_gray_detector9_Sp5C_sparseScores.bp\n",
      "Error loading sparse scores for Sp5C: [Errno 2] No such file or directory: '/home/yuncong/CSHL_patch_scores/MD661/MD662&661-F58-2017.06.06-02.35.45_MD661_2_0173_prep2_gray/detector9/MD662&661-F58-2017.06.06-02.35.45_MD661_2_0173_prep2_gray_detector9_Sp5C_sparseScores.bp'\n"
     ]
    },
    {
     "name": "stdout",
     "output_type": "stream",
     "text": [
      "rm -rf \"/home/yuncong/CSHL_patch_scores/MD661/MD662&661-F58-2017.06.06-02.35.45_MD661_2_0173_prep2_gray/detector9/MD662&661-F58-2017.06.06-02.35.45_MD661_2_0173_prep2_gray_detector9_Sp5I_sparseScores.bp\" && mkdir -p \"/home/yuncong/CSHL_patch_scores/MD661/MD662&661-F58-2017.06.06-02.35.45_MD661_2_0173_prep2_gray/detector9\"\n",
      "aws s3 cp \"s3://mousebrainatlas-data/CSHL_patch_scores/MD661/MD662&661-F57-2017.06.06-02.06.22_MD661_3_0171_prep2_gray/detector9/MD662&661-F57-2017.06.06-02.06.22_MD661_3_0171_prep2_gray_detector9_Sp5I_sparseScores.bp\" \"/home/yuncong/CSHL_patch_scores/MD661/MD662&661-F57-2017.06.06-02.06.22_MD661_3_0171_prep2_gray/detector9/MD662&661-F57-2017.06.06-02.06.22_MD661_3_0171_prep2_gray_detector9_Sp5I_sparseScores.bp\"\n",
      "aws s3 cp \"s3://mousebrainatlas-data/CSHL_patch_scores/MD661/MD662&661-F58-2017.06.06-02.35.45_MD661_2_0173_prep2_gray/detector9/MD662&661-F58-2017.06.06-02.35.45_MD661_2_0173_prep2_gray_detector9_Sp5I_sparseScores.bp\" \"/home/yuncong/CSHL_patch_scores/MD661/MD662&661-F58-2017.06.06-02.35.45_MD661_2_0173_prep2_gray/detector9/MD662&661-F58-2017.06.06-02.35.45_MD661_2_0173_prep2_gray_detector9_Sp5I_sparseScores.bp\"\n"
     ]
    },
    {
     "name": "stderr",
     "output_type": "stream",
     "text": [
      "File does not exist: /home/yuncong/CSHL_patch_scores/MD661/MD662&661-F58-2017.06.06-02.35.45_MD661_1_0172_prep2_gray/detector9/MD662&661-F58-2017.06.06-02.35.45_MD661_1_0172_prep2_gray_detector9_Sp5I_sparseScores.bp\n",
      "Error loading sparse scores for Sp5I: [Errno 2] No such file or directory: '/home/yuncong/CSHL_patch_scores/MD661/MD662&661-F58-2017.06.06-02.35.45_MD661_1_0172_prep2_gray/detector9/MD662&661-F58-2017.06.06-02.35.45_MD661_1_0172_prep2_gray_detector9_Sp5I_sparseScores.bp'\n"
     ]
    },
    {
     "name": "stdout",
     "output_type": "stream",
     "text": [
      "rm -rf \"/home/yuncong/CSHL_patch_scores/MD661/MD662&661-F58-2017.06.06-02.35.45_MD661_1_0172_prep2_gray/detector9/MD662&661-F58-2017.06.06-02.35.45_MD661_1_0172_prep2_gray_detector9_Sp5O_sparseScores.bp\" && mkdir -p \"/home/yuncong/CSHL_patch_scores/MD661/MD662&661-F58-2017.06.06-02.35.45_MD661_1_0172_prep2_gray/detector9\"\n",
      "aws s3 cp \"s3://mousebrainatlas-data/CSHL_patch_scores/MD661/MD662&661-F58-2017.06.06-02.35.45_MD661_1_0172_prep2_gray/detector9/MD662&661-F58-2017.06.06-02.35.45_MD661_1_0172_prep2_gray_detector9_Sp5O_sparseScores.bp\" \"/home/yuncong/CSHL_patch_scores/MD661/MD662&661-F58-2017.06.06-02.35.45_MD661_1_0172_prep2_gray/detector9/MD662&661-F58-2017.06.06-02.35.45_MD661_1_0172_prep2_gray_detector9_Sp5O_sparseScores.bp\"\n"
     ]
    },
    {
     "name": "stderr",
     "output_type": "stream",
     "text": [
      "File does not exist: /home/yuncong/CSHL_patch_scores/MD661/MD662&661-F57-2017.06.06-02.06.22_MD661_3_0171_prep2_gray/detector9/MD662&661-F57-2017.06.06-02.06.22_MD661_3_0171_prep2_gray_detector9_Sp5I_sparseScores.bp\n",
      "Error loading sparse scores for Sp5I: [Errno 2] No such file or directory: '/home/yuncong/CSHL_patch_scores/MD661/MD662&661-F57-2017.06.06-02.06.22_MD661_3_0171_prep2_gray/detector9/MD662&661-F57-2017.06.06-02.06.22_MD661_3_0171_prep2_gray_detector9_Sp5I_sparseScores.bp'\n"
     ]
    },
    {
     "name": "stdout",
     "output_type": "stream",
     "text": [
      "rm -rf \"/home/yuncong/CSHL_patch_scores/MD661/MD662&661-F57-2017.06.06-02.06.22_MD661_3_0171_prep2_gray/detector9/MD662&661-F57-2017.06.06-02.06.22_MD661_3_0171_prep2_gray_detector9_Sp5O_sparseScores.bp\" && mkdir -p \"/home/yuncong/CSHL_patch_scores/MD661/MD662&661-F57-2017.06.06-02.06.22_MD661_3_0171_prep2_gray/detector9\"\n"
     ]
    },
    {
     "name": "stderr",
     "output_type": "stream",
     "text": [
      "File does not exist: /home/yuncong/CSHL_patch_scores/MD661/MD662&661-F58-2017.06.06-02.35.45_MD661_2_0173_prep2_gray/detector9/MD662&661-F58-2017.06.06-02.35.45_MD661_2_0173_prep2_gray_detector9_Sp5I_sparseScores.bp\n",
      "Error loading sparse scores for Sp5I: [Errno 2] No such file or directory: '/home/yuncong/CSHL_patch_scores/MD661/MD662&661-F58-2017.06.06-02.35.45_MD661_2_0173_prep2_gray/detector9/MD662&661-F58-2017.06.06-02.35.45_MD661_2_0173_prep2_gray_detector9_Sp5I_sparseScores.bp'\n"
     ]
    },
    {
     "name": "stdout",
     "output_type": "stream",
     "text": [
      "rm -rf \"/home/yuncong/CSHL_patch_scores/MD661/MD662&661-F58-2017.06.06-02.35.45_MD661_2_0173_prep2_gray/detector9/MD662&661-F58-2017.06.06-02.35.45_MD661_2_0173_prep2_gray_detector9_Sp5O_sparseScores.bp\" && mkdir -p \"/home/yuncong/CSHL_patch_scores/MD661/MD662&661-F58-2017.06.06-02.35.45_MD661_2_0173_prep2_gray/detector9\"\n",
      "aws s3 cp \"s3://mousebrainatlas-data/CSHL_patch_scores/MD661/MD662&661-F57-2017.06.06-02.06.22_MD661_3_0171_prep2_gray/detector9/MD662&661-F57-2017.06.06-02.06.22_MD661_3_0171_prep2_gray_detector9_Sp5O_sparseScores.bp\" \"/home/yuncong/CSHL_patch_scores/MD661/MD662&661-F57-2017.06.06-02.06.22_MD661_3_0171_prep2_gray/detector9/MD662&661-F57-2017.06.06-02.06.22_MD661_3_0171_prep2_gray_detector9_Sp5O_sparseScores.bp\"\n",
      "aws s3 cp \"s3://mousebrainatlas-data/CSHL_patch_scores/MD661/MD662&661-F58-2017.06.06-02.35.45_MD661_2_0173_prep2_gray/detector9/MD662&661-F58-2017.06.06-02.35.45_MD661_2_0173_prep2_gray_detector9_Sp5O_sparseScores.bp\" \"/home/yuncong/CSHL_patch_scores/MD661/MD662&661-F58-2017.06.06-02.35.45_MD661_2_0173_prep2_gray/detector9/MD662&661-F58-2017.06.06-02.35.45_MD661_2_0173_prep2_gray_detector9_Sp5O_sparseScores.bp\"\n"
     ]
    },
    {
     "name": "stderr",
     "output_type": "stream",
     "text": [
      "File does not exist: /home/yuncong/CSHL_patch_scores/MD661/MD662&661-F58-2017.06.06-02.35.45_MD661_1_0172_prep2_gray/detector9/MD662&661-F58-2017.06.06-02.35.45_MD661_1_0172_prep2_gray_detector9_Sp5O_sparseScores.bp\n",
      "Error loading sparse scores for Sp5O: [Errno 2] No such file or directory: '/home/yuncong/CSHL_patch_scores/MD661/MD662&661-F58-2017.06.06-02.35.45_MD661_1_0172_prep2_gray/detector9/MD662&661-F58-2017.06.06-02.35.45_MD661_1_0172_prep2_gray_detector9_Sp5O_sparseScores.bp'\n"
     ]
    },
    {
     "name": "stdout",
     "output_type": "stream",
     "text": [
      "rm -rf \"/home/yuncong/CSHL_patch_scores/MD661/MD662&661-F58-2017.06.06-02.35.45_MD661_1_0172_prep2_gray/detector9/MD662&661-F58-2017.06.06-02.35.45_MD661_1_0172_prep2_gray_detector9_Tz_sparseScores.bp\" && mkdir -p \"/home/yuncong/CSHL_patch_scores/MD661/MD662&661-F58-2017.06.06-02.35.45_MD661_1_0172_prep2_gray/detector9\"\n",
      "aws s3 cp \"s3://mousebrainatlas-data/CSHL_patch_scores/MD661/MD662&661-F58-2017.06.06-02.35.45_MD661_1_0172_prep2_gray/detector9/MD662&661-F58-2017.06.06-02.35.45_MD661_1_0172_prep2_gray_detector9_Tz_sparseScores.bp\" \"/home/yuncong/CSHL_patch_scores/MD661/MD662&661-F58-2017.06.06-02.35.45_MD661_1_0172_prep2_gray/detector9/MD662&661-F58-2017.06.06-02.35.45_MD661_1_0172_prep2_gray_detector9_Tz_sparseScores.bp\"\n"
     ]
    },
    {
     "name": "stderr",
     "output_type": "stream",
     "text": [
      "File does not exist: /home/yuncong/CSHL_patch_scores/MD661/MD662&661-F57-2017.06.06-02.06.22_MD661_3_0171_prep2_gray/detector9/MD662&661-F57-2017.06.06-02.06.22_MD661_3_0171_prep2_gray_detector9_Sp5O_sparseScores.bp\n",
      "Error loading sparse scores for Sp5O: [Errno 2] No such file or directory: '/home/yuncong/CSHL_patch_scores/MD661/MD662&661-F57-2017.06.06-02.06.22_MD661_3_0171_prep2_gray/detector9/MD662&661-F57-2017.06.06-02.06.22_MD661_3_0171_prep2_gray_detector9_Sp5O_sparseScores.bp'\n"
     ]
    },
    {
     "name": "stdout",
     "output_type": "stream",
     "text": [
      "rm -rf \"/home/yuncong/CSHL_patch_scores/MD661/MD662&661-F57-2017.06.06-02.06.22_MD661_3_0171_prep2_gray/detector9/MD662&661-F57-2017.06.06-02.06.22_MD661_3_0171_prep2_gray_detector9_Tz_sparseScores.bp\" && mkdir -p \"/home/yuncong/CSHL_patch_scores/MD661/MD662&661-F57-2017.06.06-02.06.22_MD661_3_0171_prep2_gray/detector9\"\n"
     ]
    },
    {
     "name": "stderr",
     "output_type": "stream",
     "text": [
      "File does not exist: /home/yuncong/CSHL_patch_scores/MD661/MD662&661-F58-2017.06.06-02.35.45_MD661_2_0173_prep2_gray/detector9/MD662&661-F58-2017.06.06-02.35.45_MD661_2_0173_prep2_gray_detector9_Sp5O_sparseScores.bp\n",
      "Error loading sparse scores for Sp5O: [Errno 2] No such file or directory: '/home/yuncong/CSHL_patch_scores/MD661/MD662&661-F58-2017.06.06-02.35.45_MD661_2_0173_prep2_gray/detector9/MD662&661-F58-2017.06.06-02.35.45_MD661_2_0173_prep2_gray_detector9_Sp5O_sparseScores.bp'\n"
     ]
    },
    {
     "name": "stdout",
     "output_type": "stream",
     "text": [
      "rm -rf \"/home/yuncong/CSHL_patch_scores/MD661/MD662&661-F58-2017.06.06-02.35.45_MD661_2_0173_prep2_gray/detector9/MD662&661-F58-2017.06.06-02.35.45_MD661_2_0173_prep2_gray_detector9_Tz_sparseScores.bp\" && mkdir -p \"/home/yuncong/CSHL_patch_scores/MD661/MD662&661-F58-2017.06.06-02.35.45_MD661_2_0173_prep2_gray/detector9\"\n",
      "aws s3 cp \"s3://mousebrainatlas-data/CSHL_patch_scores/MD661/MD662&661-F57-2017.06.06-02.06.22_MD661_3_0171_prep2_gray/detector9/MD662&661-F57-2017.06.06-02.06.22_MD661_3_0171_prep2_gray_detector9_Tz_sparseScores.bp\" \"/home/yuncong/CSHL_patch_scores/MD661/MD662&661-F57-2017.06.06-02.06.22_MD661_3_0171_prep2_gray/detector9/MD662&661-F57-2017.06.06-02.06.22_MD661_3_0171_prep2_gray_detector9_Tz_sparseScores.bp\"\n",
      "aws s3 cp \"s3://mousebrainatlas-data/CSHL_patch_scores/MD661/MD662&661-F58-2017.06.06-02.35.45_MD661_2_0173_prep2_gray/detector9/MD662&661-F58-2017.06.06-02.35.45_MD661_2_0173_prep2_gray_detector9_Tz_sparseScores.bp\" \"/home/yuncong/CSHL_patch_scores/MD661/MD662&661-F58-2017.06.06-02.35.45_MD661_2_0173_prep2_gray/detector9/MD662&661-F58-2017.06.06-02.35.45_MD661_2_0173_prep2_gray_detector9_Tz_sparseScores.bp\"\n"
     ]
    },
    {
     "name": "stderr",
     "output_type": "stream",
     "text": [
      "File does not exist: /home/yuncong/CSHL_patch_scores/MD661/MD662&661-F58-2017.06.06-02.35.45_MD661_1_0172_prep2_gray/detector9/MD662&661-F58-2017.06.06-02.35.45_MD661_1_0172_prep2_gray_detector9_Tz_sparseScores.bp\n",
      "Error loading sparse scores for Tz: [Errno 2] No such file or directory: '/home/yuncong/CSHL_patch_scores/MD661/MD662&661-F58-2017.06.06-02.35.45_MD661_1_0172_prep2_gray/detector9/MD662&661-F58-2017.06.06-02.35.45_MD661_1_0172_prep2_gray_detector9_Tz_sparseScores.bp'\n"
     ]
    },
    {
     "name": "stdout",
     "output_type": "stream",
     "text": [
      "rm -rf \"/home/yuncong/CSHL_patch_scores/MD661/MD662&661-F58-2017.06.06-02.35.45_MD661_1_0172_prep2_gray/detector9/MD662&661-F58-2017.06.06-02.35.45_MD661_1_0172_prep2_gray_detector9_VCA_sparseScores.bp\" && mkdir -p \"/home/yuncong/CSHL_patch_scores/MD661/MD662&661-F58-2017.06.06-02.35.45_MD661_1_0172_prep2_gray/detector9\"\n",
      "aws s3 cp \"s3://mousebrainatlas-data/CSHL_patch_scores/MD661/MD662&661-F58-2017.06.06-02.35.45_MD661_1_0172_prep2_gray/detector9/MD662&661-F58-2017.06.06-02.35.45_MD661_1_0172_prep2_gray_detector9_VCA_sparseScores.bp\" \"/home/yuncong/CSHL_patch_scores/MD661/MD662&661-F58-2017.06.06-02.35.45_MD661_1_0172_prep2_gray/detector9/MD662&661-F58-2017.06.06-02.35.45_MD661_1_0172_prep2_gray_detector9_VCA_sparseScores.bp\"\n"
     ]
    },
    {
     "name": "stderr",
     "output_type": "stream",
     "text": [
      "File does not exist: /home/yuncong/CSHL_patch_scores/MD661/MD662&661-F57-2017.06.06-02.06.22_MD661_3_0171_prep2_gray/detector9/MD662&661-F57-2017.06.06-02.06.22_MD661_3_0171_prep2_gray_detector9_Tz_sparseScores.bp\n",
      "Error loading sparse scores for Tz: [Errno 2] No such file or directory: '/home/yuncong/CSHL_patch_scores/MD661/MD662&661-F57-2017.06.06-02.06.22_MD661_3_0171_prep2_gray/detector9/MD662&661-F57-2017.06.06-02.06.22_MD661_3_0171_prep2_gray_detector9_Tz_sparseScores.bp'\n"
     ]
    },
    {
     "name": "stdout",
     "output_type": "stream",
     "text": [
      "rm -rf \"/home/yuncong/CSHL_patch_scores/MD661/MD662&661-F57-2017.06.06-02.06.22_MD661_3_0171_prep2_gray/detector9/MD662&661-F57-2017.06.06-02.06.22_MD661_3_0171_prep2_gray_detector9_VCA_sparseScores.bp\" && mkdir -p \"/home/yuncong/CSHL_patch_scores/MD661/MD662&661-F57-2017.06.06-02.06.22_MD661_3_0171_prep2_gray/detector9\"\n"
     ]
    },
    {
     "name": "stderr",
     "output_type": "stream",
     "text": [
      "File does not exist: /home/yuncong/CSHL_patch_scores/MD661/MD662&661-F58-2017.06.06-02.35.45_MD661_2_0173_prep2_gray/detector9/MD662&661-F58-2017.06.06-02.35.45_MD661_2_0173_prep2_gray_detector9_Tz_sparseScores.bp\n",
      "Error loading sparse scores for Tz: [Errno 2] No such file or directory: '/home/yuncong/CSHL_patch_scores/MD661/MD662&661-F58-2017.06.06-02.35.45_MD661_2_0173_prep2_gray/detector9/MD662&661-F58-2017.06.06-02.35.45_MD661_2_0173_prep2_gray_detector9_Tz_sparseScores.bp'\n"
     ]
    },
    {
     "name": "stdout",
     "output_type": "stream",
     "text": [
      "rm -rf \"/home/yuncong/CSHL_patch_scores/MD661/MD662&661-F58-2017.06.06-02.35.45_MD661_2_0173_prep2_gray/detector9/MD662&661-F58-2017.06.06-02.35.45_MD661_2_0173_prep2_gray_detector9_VCA_sparseScores.bp\" && mkdir -p \"/home/yuncong/CSHL_patch_scores/MD661/MD662&661-F58-2017.06.06-02.35.45_MD661_2_0173_prep2_gray/detector9\"\n",
      "aws s3 cp \"s3://mousebrainatlas-data/CSHL_patch_scores/MD661/MD662&661-F57-2017.06.06-02.06.22_MD661_3_0171_prep2_gray/detector9/MD662&661-F57-2017.06.06-02.06.22_MD661_3_0171_prep2_gray_detector9_VCA_sparseScores.bp\" \"/home/yuncong/CSHL_patch_scores/MD661/MD662&661-F57-2017.06.06-02.06.22_MD661_3_0171_prep2_gray/detector9/MD662&661-F57-2017.06.06-02.06.22_MD661_3_0171_prep2_gray_detector9_VCA_sparseScores.bp\"\n",
      "aws s3 cp \"s3://mousebrainatlas-data/CSHL_patch_scores/MD661/MD662&661-F58-2017.06.06-02.35.45_MD661_2_0173_prep2_gray/detector9/MD662&661-F58-2017.06.06-02.35.45_MD661_2_0173_prep2_gray_detector9_VCA_sparseScores.bp\" \"/home/yuncong/CSHL_patch_scores/MD661/MD662&661-F58-2017.06.06-02.35.45_MD661_2_0173_prep2_gray/detector9/MD662&661-F58-2017.06.06-02.35.45_MD661_2_0173_prep2_gray_detector9_VCA_sparseScores.bp\"\n"
     ]
    },
    {
     "name": "stderr",
     "output_type": "stream",
     "text": [
      "File does not exist: /home/yuncong/CSHL_patch_scores/MD661/MD662&661-F58-2017.06.06-02.35.45_MD661_1_0172_prep2_gray/detector9/MD662&661-F58-2017.06.06-02.35.45_MD661_1_0172_prep2_gray_detector9_VCA_sparseScores.bp\n",
      "Error loading sparse scores for VCA: [Errno 2] No such file or directory: '/home/yuncong/CSHL_patch_scores/MD661/MD662&661-F58-2017.06.06-02.35.45_MD661_1_0172_prep2_gray/detector9/MD662&661-F58-2017.06.06-02.35.45_MD661_1_0172_prep2_gray_detector9_VCA_sparseScores.bp'\n"
     ]
    },
    {
     "name": "stdout",
     "output_type": "stream",
     "text": [
      "rm -rf \"/home/yuncong/CSHL_patch_scores/MD661/MD662&661-F58-2017.06.06-02.35.45_MD661_1_0172_prep2_gray/detector9/MD662&661-F58-2017.06.06-02.35.45_MD661_1_0172_prep2_gray_detector9_VCP_sparseScores.bp\" && mkdir -p \"/home/yuncong/CSHL_patch_scores/MD661/MD662&661-F58-2017.06.06-02.35.45_MD661_1_0172_prep2_gray/detector9\"\n",
      "aws s3 cp \"s3://mousebrainatlas-data/CSHL_patch_scores/MD661/MD662&661-F58-2017.06.06-02.35.45_MD661_1_0172_prep2_gray/detector9/MD662&661-F58-2017.06.06-02.35.45_MD661_1_0172_prep2_gray_detector9_VCP_sparseScores.bp\" \"/home/yuncong/CSHL_patch_scores/MD661/MD662&661-F58-2017.06.06-02.35.45_MD661_1_0172_prep2_gray/detector9/MD662&661-F58-2017.06.06-02.35.45_MD661_1_0172_prep2_gray_detector9_VCP_sparseScores.bp\"\n"
     ]
    },
    {
     "name": "stderr",
     "output_type": "stream",
     "text": [
      "File does not exist: /home/yuncong/CSHL_patch_scores/MD661/MD662&661-F58-2017.06.06-02.35.45_MD661_2_0173_prep2_gray/detector9/MD662&661-F58-2017.06.06-02.35.45_MD661_2_0173_prep2_gray_detector9_VCA_sparseScores.bp\n",
      "Error loading sparse scores for VCA: [Errno 2] No such file or directory: '/home/yuncong/CSHL_patch_scores/MD661/MD662&661-F58-2017.06.06-02.35.45_MD661_2_0173_prep2_gray/detector9/MD662&661-F58-2017.06.06-02.35.45_MD661_2_0173_prep2_gray_detector9_VCA_sparseScores.bp'\n"
     ]
    },
    {
     "name": "stdout",
     "output_type": "stream",
     "text": [
      "rm -rf \"/home/yuncong/CSHL_patch_scores/MD661/MD662&661-F58-2017.06.06-02.35.45_MD661_2_0173_prep2_gray/detector9/MD662&661-F58-2017.06.06-02.35.45_MD661_2_0173_prep2_gray_detector9_VCP_sparseScores.bp\" && mkdir -p \"/home/yuncong/CSHL_patch_scores/MD661/MD662&661-F58-2017.06.06-02.35.45_MD661_2_0173_prep2_gray/detector9\"\n"
     ]
    },
    {
     "name": "stderr",
     "output_type": "stream",
     "text": [
      "File does not exist: /home/yuncong/CSHL_patch_scores/MD661/MD662&661-F57-2017.06.06-02.06.22_MD661_3_0171_prep2_gray/detector9/MD662&661-F57-2017.06.06-02.06.22_MD661_3_0171_prep2_gray_detector9_VCA_sparseScores.bp\n",
      "Error loading sparse scores for VCA: [Errno 2] No such file or directory: '/home/yuncong/CSHL_patch_scores/MD661/MD662&661-F57-2017.06.06-02.06.22_MD661_3_0171_prep2_gray/detector9/MD662&661-F57-2017.06.06-02.06.22_MD661_3_0171_prep2_gray_detector9_VCA_sparseScores.bp'\n"
     ]
    },
    {
     "name": "stdout",
     "output_type": "stream",
     "text": [
      "rm -rf \"/home/yuncong/CSHL_patch_scores/MD661/MD662&661-F57-2017.06.06-02.06.22_MD661_3_0171_prep2_gray/detector9/MD662&661-F57-2017.06.06-02.06.22_MD661_3_0171_prep2_gray_detector9_VCP_sparseScores.bp\" && mkdir -p \"/home/yuncong/CSHL_patch_scores/MD661/MD662&661-F57-2017.06.06-02.06.22_MD661_3_0171_prep2_gray/detector9\"\n",
      "aws s3 cp \"s3://mousebrainatlas-data/CSHL_patch_scores/MD661/MD662&661-F58-2017.06.06-02.35.45_MD661_2_0173_prep2_gray/detector9/MD662&661-F58-2017.06.06-02.35.45_MD661_2_0173_prep2_gray_detector9_VCP_sparseScores.bp\" \"/home/yuncong/CSHL_patch_scores/MD661/MD662&661-F58-2017.06.06-02.35.45_MD661_2_0173_prep2_gray/detector9/MD662&661-F58-2017.06.06-02.35.45_MD661_2_0173_prep2_gray_detector9_VCP_sparseScores.bp\"\n",
      "aws s3 cp \"s3://mousebrainatlas-data/CSHL_patch_scores/MD661/MD662&661-F57-2017.06.06-02.06.22_MD661_3_0171_prep2_gray/detector9/MD662&661-F57-2017.06.06-02.06.22_MD661_3_0171_prep2_gray_detector9_VCP_sparseScores.bp\" \"/home/yuncong/CSHL_patch_scores/MD661/MD662&661-F57-2017.06.06-02.06.22_MD661_3_0171_prep2_gray/detector9/MD662&661-F57-2017.06.06-02.06.22_MD661_3_0171_prep2_gray_detector9_VCP_sparseScores.bp\"\n"
     ]
    },
    {
     "name": "stderr",
     "output_type": "stream",
     "text": [
      "File does not exist: /home/yuncong/CSHL_patch_scores/MD661/MD662&661-F58-2017.06.06-02.35.45_MD661_1_0172_prep2_gray/detector9/MD662&661-F58-2017.06.06-02.35.45_MD661_1_0172_prep2_gray_detector9_VCP_sparseScores.bp\n",
      "Error loading sparse scores for VCP: [Errno 2] No such file or directory: '/home/yuncong/CSHL_patch_scores/MD661/MD662&661-F58-2017.06.06-02.35.45_MD661_1_0172_prep2_gray/detector9/MD662&661-F58-2017.06.06-02.35.45_MD661_1_0172_prep2_gray_detector9_VCP_sparseScores.bp'\n"
     ]
    },
    {
     "name": "stdout",
     "output_type": "stream",
     "text": [
      "rm -rf \"/home/yuncong/CSHL_patch_scores/MD661/MD662&661-F58-2017.06.06-02.35.45_MD661_1_0172_prep2_gray/detector9/MD662&661-F58-2017.06.06-02.35.45_MD661_1_0172_prep2_gray_detector9_VLL_sparseScores.bp\" && mkdir -p \"/home/yuncong/CSHL_patch_scores/MD661/MD662&661-F58-2017.06.06-02.35.45_MD661_1_0172_prep2_gray/detector9\"\n",
      "aws s3 cp \"s3://mousebrainatlas-data/CSHL_patch_scores/MD661/MD662&661-F58-2017.06.06-02.35.45_MD661_1_0172_prep2_gray/detector9/MD662&661-F58-2017.06.06-02.35.45_MD661_1_0172_prep2_gray_detector9_VLL_sparseScores.bp\" \"/home/yuncong/CSHL_patch_scores/MD661/MD662&661-F58-2017.06.06-02.35.45_MD661_1_0172_prep2_gray/detector9/MD662&661-F58-2017.06.06-02.35.45_MD661_1_0172_prep2_gray_detector9_VLL_sparseScores.bp\"\n"
     ]
    },
    {
     "name": "stderr",
     "output_type": "stream",
     "text": [
      "File does not exist: /home/yuncong/CSHL_patch_scores/MD661/MD662&661-F58-2017.06.06-02.35.45_MD661_2_0173_prep2_gray/detector9/MD662&661-F58-2017.06.06-02.35.45_MD661_2_0173_prep2_gray_detector9_VCP_sparseScores.bp\n",
      "Error loading sparse scores for VCP: [Errno 2] No such file or directory: '/home/yuncong/CSHL_patch_scores/MD661/MD662&661-F58-2017.06.06-02.35.45_MD661_2_0173_prep2_gray/detector9/MD662&661-F58-2017.06.06-02.35.45_MD661_2_0173_prep2_gray_detector9_VCP_sparseScores.bp'\n"
     ]
    },
    {
     "name": "stdout",
     "output_type": "stream",
     "text": [
      "rm -rf \"/home/yuncong/CSHL_patch_scores/MD661/MD662&661-F58-2017.06.06-02.35.45_MD661_2_0173_prep2_gray/detector9/MD662&661-F58-2017.06.06-02.35.45_MD661_2_0173_prep2_gray_detector9_VLL_sparseScores.bp\" && mkdir -p \"/home/yuncong/CSHL_patch_scores/MD661/MD662&661-F58-2017.06.06-02.35.45_MD661_2_0173_prep2_gray/detector9\"\n"
     ]
    },
    {
     "name": "stderr",
     "output_type": "stream",
     "text": [
      "File does not exist: /home/yuncong/CSHL_patch_scores/MD661/MD662&661-F57-2017.06.06-02.06.22_MD661_3_0171_prep2_gray/detector9/MD662&661-F57-2017.06.06-02.06.22_MD661_3_0171_prep2_gray_detector9_VCP_sparseScores.bp\n",
      "Error loading sparse scores for VCP: [Errno 2] No such file or directory: '/home/yuncong/CSHL_patch_scores/MD661/MD662&661-F57-2017.06.06-02.06.22_MD661_3_0171_prep2_gray/detector9/MD662&661-F57-2017.06.06-02.06.22_MD661_3_0171_prep2_gray_detector9_VCP_sparseScores.bp'\n"
     ]
    },
    {
     "name": "stdout",
     "output_type": "stream",
     "text": [
      "rm -rf \"/home/yuncong/CSHL_patch_scores/MD661/MD662&661-F57-2017.06.06-02.06.22_MD661_3_0171_prep2_gray/detector9/MD662&661-F57-2017.06.06-02.06.22_MD661_3_0171_prep2_gray_detector9_VLL_sparseScores.bp\" && mkdir -p \"/home/yuncong/CSHL_patch_scores/MD661/MD662&661-F57-2017.06.06-02.06.22_MD661_3_0171_prep2_gray/detector9\"\n",
      "aws s3 cp \"s3://mousebrainatlas-data/CSHL_patch_scores/MD661/MD662&661-F58-2017.06.06-02.35.45_MD661_2_0173_prep2_gray/detector9/MD662&661-F58-2017.06.06-02.35.45_MD661_2_0173_prep2_gray_detector9_VLL_sparseScores.bp\" \"/home/yuncong/CSHL_patch_scores/MD661/MD662&661-F58-2017.06.06-02.35.45_MD661_2_0173_prep2_gray/detector9/MD662&661-F58-2017.06.06-02.35.45_MD661_2_0173_prep2_gray_detector9_VLL_sparseScores.bp\"\n",
      "aws s3 cp \"s3://mousebrainatlas-data/CSHL_patch_scores/MD661/MD662&661-F57-2017.06.06-02.06.22_MD661_3_0171_prep2_gray/detector9/MD662&661-F57-2017.06.06-02.06.22_MD661_3_0171_prep2_gray_detector9_VLL_sparseScores.bp\" \"/home/yuncong/CSHL_patch_scores/MD661/MD662&661-F57-2017.06.06-02.06.22_MD661_3_0171_prep2_gray/detector9/MD662&661-F57-2017.06.06-02.06.22_MD661_3_0171_prep2_gray_detector9_VLL_sparseScores.bp\"\n"
     ]
    },
    {
     "name": "stderr",
     "output_type": "stream",
     "text": [
      "File does not exist: /home/yuncong/CSHL_patch_scores/MD661/MD662&661-F58-2017.06.06-02.35.45_MD661_1_0172_prep2_gray/detector9/MD662&661-F58-2017.06.06-02.35.45_MD661_1_0172_prep2_gray_detector9_VLL_sparseScores.bp\n",
      "Error loading sparse scores for VLL: [Errno 2] No such file or directory: '/home/yuncong/CSHL_patch_scores/MD661/MD662&661-F58-2017.06.06-02.35.45_MD661_1_0172_prep2_gray/detector9/MD662&661-F58-2017.06.06-02.35.45_MD661_1_0172_prep2_gray_detector9_VLL_sparseScores.bp'\n",
      "File does not exist: /home/yuncong/CSHL_patch_scores/MD661/MD662&661-F57-2017.06.06-02.06.22_MD661_3_0171_prep2_gray/detector9/MD662&661-F57-2017.06.06-02.06.22_MD661_3_0171_prep2_gray_detector9_VLL_sparseScores.bp\n",
      "Error loading sparse scores for VLL: [Errno 2] No such file or directory: '/home/yuncong/CSHL_patch_scores/MD661/MD662&661-F57-2017.06.06-02.06.22_MD661_3_0171_prep2_gray/detector9/MD662&661-F57-2017.06.06-02.06.22_MD661_3_0171_prep2_gray_detector9_VLL_sparseScores.bp'\n",
      "File does not exist: /home/yuncong/CSHL_patch_scores/MD661/MD662&661-F58-2017.06.06-02.35.45_MD661_2_0173_prep2_gray/detector9/MD662&661-F58-2017.06.06-02.35.45_MD661_2_0173_prep2_gray_detector9_VLL_sparseScores.bp\n",
      "Error loading sparse scores for VLL: [Errno 2] No such file or directory: '/home/yuncong/CSHL_patch_scores/MD661/MD662&661-F58-2017.06.06-02.35.45_MD661_2_0173_prep2_gray/detector9/MD662&661-F58-2017.06.06-02.35.45_MD661_2_0173_prep2_gray_detector9_VLL_sparseScores.bp'\n",
      "Resample: 19.54 seconds\n",
      "/usr/local/lib/python2.7/dist-packages/ipykernel_launcher.py:157: DeprecationWarning: BaseException.message has been deprecated as of Python 2.6\n",
      "'str' object has no attribute 'shape'\n",
      "/usr/local/lib/python2.7/dist-packages/ipykernel_launcher.py:157: DeprecationWarning: BaseException.message has been deprecated as of Python 2.6\n",
      "'str' object has no attribute 'shape'\n",
      "/usr/local/lib/python2.7/dist-packages/ipykernel_launcher.py:157: DeprecationWarning: BaseException.message has been deprecated as of Python 2.6\n",
      "'str' object has no attribute 'shape'\n",
      "/usr/local/lib/python2.7/dist-packages/ipykernel_launcher.py:157: DeprecationWarning: BaseException.message has been deprecated as of Python 2.6\n",
      "/usr/local/lib/python2.7/dist-packages/ipykernel_launcher.py:157: DeprecationWarning: BaseException.message has been deprecated as of Python 2.6\n",
      "'str' object has no attribute 'shape'\n",
      "/usr/local/lib/python2.7/dist-packages/ipykernel_launcher.py:157: DeprecationWarning: BaseException.message has been deprecated as of Python 2.6\n",
      "'str' object has no attribute 'shape'\n",
      "/usr/local/lib/python2.7/dist-packages/ipykernel_launcher.py:157: DeprecationWarning: BaseException.message has been deprecated as of Python 2.6\n",
      "'str' object has no attribute 'shape'\n",
      "/usr/local/lib/python2.7/dist-packages/ipykernel_launcher.py:157: DeprecationWarning: BaseException.message has been deprecated as of Python 2.6\n",
      "'str' object has no attribute 'shape'\n",
      "/usr/local/lib/python2.7/dist-packages/ipykernel_launcher.py:157: DeprecationWarning: BaseException.message has been deprecated as of Python 2.6\n",
      "/usr/local/lib/python2.7/dist-packages/ipykernel_launcher.py:157: DeprecationWarning: BaseException.message has been deprecated as of Python 2.6\n",
      "'str' object has no attribute 'shape'\n",
      "/usr/local/lib/python2.7/dist-packages/ipykernel_launcher.py:157: DeprecationWarning: BaseException.message has been deprecated as of Python 2.6\n",
      "'str' object has no attribute 'shape'\n",
      "/usr/local/lib/python2.7/dist-packages/ipykernel_launcher.py:157: DeprecationWarning: BaseException.message has been deprecated as of Python 2.6\n",
      "'str' object has no attribute 'shape'\n",
      "'str' object has no attribute 'shape'\n",
      "'str' object has no attribute 'shape'\n",
      "/usr/local/lib/python2.7/dist-packages/ipykernel_launcher.py:157: DeprecationWarning: BaseException.message has been deprecated as of Python 2.6\n",
      "/usr/local/lib/python2.7/dist-packages/ipykernel_launcher.py:157: DeprecationWarning: BaseException.message has been deprecated as of Python 2.6\n",
      "/usr/local/lib/python2.7/dist-packages/ipykernel_launcher.py:157: DeprecationWarning: BaseException.message has been deprecated as of Python 2.6\n",
      "'str' object has no attribute 'shape'\n",
      "/usr/local/lib/python2.7/dist-packages/ipykernel_launcher.py:157: DeprecationWarning: BaseException.message has been deprecated as of Python 2.6\n",
      "'str' object has no attribute 'shape'\n",
      "'str' object has no attribute 'shape'\n",
      "/usr/local/lib/python2.7/dist-packages/ipykernel_launcher.py:157: DeprecationWarning: BaseException.message has been deprecated as of Python 2.6\n",
      "'str' object has no attribute 'shape'\n",
      "'str' object has no attribute 'shape'\n",
      "'str' object has no attribute 'shape'\n",
      "/usr/local/lib/python2.7/dist-packages/ipykernel_launcher.py:157: DeprecationWarning: BaseException.message has been deprecated as of Python 2.6\n",
      "/usr/local/lib/python2.7/dist-packages/ipykernel_launcher.py:157: DeprecationWarning: BaseException.message has been deprecated as of Python 2.6\n",
      "/usr/local/lib/python2.7/dist-packages/ipykernel_launcher.py:157: DeprecationWarning: BaseException.message has been deprecated as of Python 2.6\n",
      "/usr/local/lib/python2.7/dist-packages/ipykernel_launcher.py:157: DeprecationWarning: BaseException.message has been deprecated as of Python 2.6\n",
      "'str' object has no attribute 'shape'\n",
      "'str' object has no attribute 'shape'\n",
      "/usr/local/lib/python2.7/dist-packages/ipykernel_launcher.py:157: DeprecationWarning: BaseException.message has been deprecated as of Python 2.6\n",
      "'str' object has no attribute 'shape'\n",
      "'str' object has no attribute 'shape'\n",
      "'str' object has no attribute 'shape'\n",
      "'str' object has no attribute 'shape'\n",
      "'str' object has no attribute 'shape'\n",
      "/usr/local/lib/python2.7/dist-packages/ipykernel_launcher.py:157: DeprecationWarning: BaseException.message has been deprecated as of Python 2.6\n",
      "'str' object has no attribute 'shape'\n",
      "'str' object has no attribute 'shape'\n",
      "'str' object has no attribute 'shape'\n",
      "'str' object has no attribute 'shape'\n",
      "'str' object has no attribute 'shape'\n",
      "Visualize scoremaps: 0.28 seconds.\n",
      "/usr/local/lib/python2.7/dist-packages/ipykernel_launcher.py:157: DeprecationWarning: BaseException.message has been deprecated as of Python 2.6\n",
      "/usr/local/lib/python2.7/dist-packages/ipykernel_launcher.py:157: DeprecationWarning: BaseException.message has been deprecated as of Python 2.6\n",
      "/usr/local/lib/python2.7/dist-packages/ipykernel_launcher.py:157: DeprecationWarning: BaseException.message has been deprecated as of Python 2.6\n",
      "/usr/local/lib/python2.7/dist-packages/ipykernel_launcher.py:157: DeprecationWarning: BaseException.message has been deprecated as of Python 2.6\n",
      "/usr/local/lib/python2.7/dist-packages/ipykernel_launcher.py:157: DeprecationWarning: BaseException.message has been deprecated as of Python 2.6\n",
      "'str' object has no attribute 'shape'\n",
      "/usr/local/lib/python2.7/dist-packages/ipykernel_launcher.py:157: DeprecationWarning: BaseException.message has been deprecated as of Python 2.6\n",
      "'str' object has no attribute 'shape'\n",
      "'str' object has no attribute 'shape'\n",
      "'str' object has no attribute 'shape'\n",
      "'str' object has no attribute 'shape'\n",
      "'str' object has no attribute 'shape'\n",
      "/usr/local/lib/python2.7/dist-packages/ipykernel_launcher.py:157: DeprecationWarning: BaseException.message has been deprecated as of Python 2.6\n",
      "/usr/local/lib/python2.7/dist-packages/ipykernel_launcher.py:157: DeprecationWarning: BaseException.message has been deprecated as of Python 2.6\n",
      "'str' object has no attribute 'shape'\n",
      "/usr/local/lib/python2.7/dist-packages/ipykernel_launcher.py:157: DeprecationWarning: BaseException.message has been deprecated as of Python 2.6\n",
      "'str' object has no attribute 'shape'\n",
      "/usr/local/lib/python2.7/dist-packages/ipykernel_launcher.py:157: DeprecationWarning: BaseException.message has been deprecated as of Python 2.6\n",
      "'str' object has no attribute 'shape'\n",
      "/usr/local/lib/python2.7/dist-packages/ipykernel_launcher.py:157: DeprecationWarning: BaseException.message has been deprecated as of Python 2.6\n",
      "'str' object has no attribute 'shape'\n",
      "'str' object has no attribute 'shape'\n",
      "/usr/local/lib/python2.7/dist-packages/ipykernel_launcher.py:157: DeprecationWarning: BaseException.message has been deprecated as of Python 2.6\n",
      "/usr/local/lib/python2.7/dist-packages/ipykernel_launcher.py:157: DeprecationWarning: BaseException.message has been deprecated as of Python 2.6\n"
     ]
    },
    {
     "name": "stderr",
     "output_type": "stream",
     "text": [
      "'str' object has no attribute 'shape'\n",
      "'str' object has no attribute 'shape'\n",
      "/usr/local/lib/python2.7/dist-packages/ipykernel_launcher.py:157: DeprecationWarning: BaseException.message has been deprecated as of Python 2.6\n",
      "/usr/local/lib/python2.7/dist-packages/ipykernel_launcher.py:157: DeprecationWarning: BaseException.message has been deprecated as of Python 2.6\n",
      "'str' object has no attribute 'shape'\n",
      "'str' object has no attribute 'shape'\n",
      "/usr/local/lib/python2.7/dist-packages/ipykernel_launcher.py:157: DeprecationWarning: BaseException.message has been deprecated as of Python 2.6\n",
      "/usr/local/lib/python2.7/dist-packages/ipykernel_launcher.py:157: DeprecationWarning: BaseException.message has been deprecated as of Python 2.6\n",
      "'str' object has no attribute 'shape'\n",
      "'str' object has no attribute 'shape'\n",
      "/usr/local/lib/python2.7/dist-packages/ipykernel_launcher.py:157: DeprecationWarning: BaseException.message has been deprecated as of Python 2.6\n",
      "'str' object has no attribute 'shape'\n",
      "/usr/local/lib/python2.7/dist-packages/ipykernel_launcher.py:157: DeprecationWarning: BaseException.message has been deprecated as of Python 2.6\n",
      "'str' object has no attribute 'shape'\n",
      "/usr/local/lib/python2.7/dist-packages/ipykernel_launcher.py:157: DeprecationWarning: BaseException.message has been deprecated as of Python 2.6\n",
      "/usr/local/lib/python2.7/dist-packages/ipykernel_launcher.py:157: DeprecationWarning: BaseException.message has been deprecated as of Python 2.6\n",
      "'str' object has no attribute 'shape'\n",
      "'str' object has no attribute 'shape'\n",
      "/usr/local/lib/python2.7/dist-packages/ipykernel_launcher.py:157: DeprecationWarning: BaseException.message has been deprecated as of Python 2.6\n",
      "'str' object has no attribute 'shape'\n",
      "/usr/local/lib/python2.7/dist-packages/ipykernel_launcher.py:157: DeprecationWarning: BaseException.message has been deprecated as of Python 2.6\n",
      "/usr/local/lib/python2.7/dist-packages/ipykernel_launcher.py:157: DeprecationWarning: BaseException.message has been deprecated as of Python 2.6\n",
      "'str' object has no attribute 'shape'\n",
      "'str' object has no attribute 'shape'\n",
      "'str' object has no attribute 'shape'\n",
      "'str' object has no attribute 'shape'\n",
      "'str' object has no attribute 'shape'\n",
      "'str' object has no attribute 'shape'\n",
      "'str' object has no attribute 'shape'\n",
      "'str' object has no attribute 'shape'\n",
      "Visualize scoremaps: 0.30 seconds.\n",
      "/usr/local/lib/python2.7/dist-packages/ipykernel_launcher.py:157: DeprecationWarning: BaseException.message has been deprecated as of Python 2.6\n",
      "/usr/local/lib/python2.7/dist-packages/ipykernel_launcher.py:157: DeprecationWarning: BaseException.message has been deprecated as of Python 2.6\n",
      "/usr/local/lib/python2.7/dist-packages/ipykernel_launcher.py:157: DeprecationWarning: BaseException.message has been deprecated as of Python 2.6\n",
      "/usr/local/lib/python2.7/dist-packages/ipykernel_launcher.py:157: DeprecationWarning: BaseException.message has been deprecated as of Python 2.6\n",
      "/usr/local/lib/python2.7/dist-packages/ipykernel_launcher.py:157: DeprecationWarning: BaseException.message has been deprecated as of Python 2.6\n",
      "'str' object has no attribute 'shape'\n",
      "'str' object has no attribute 'shape'\n",
      "'str' object has no attribute 'shape'\n",
      "/usr/local/lib/python2.7/dist-packages/ipykernel_launcher.py:157: DeprecationWarning: BaseException.message has been deprecated as of Python 2.6\n",
      "'str' object has no attribute 'shape'\n",
      "'str' object has no attribute 'shape'\n",
      "/usr/local/lib/python2.7/dist-packages/ipykernel_launcher.py:157: DeprecationWarning: BaseException.message has been deprecated as of Python 2.6\n",
      "'str' object has no attribute 'shape'\n",
      "/usr/local/lib/python2.7/dist-packages/ipykernel_launcher.py:157: DeprecationWarning: BaseException.message has been deprecated as of Python 2.6\n",
      "'str' object has no attribute 'shape'\n",
      "'str' object has no attribute 'shape'\n",
      "/usr/local/lib/python2.7/dist-packages/ipykernel_launcher.py:157: DeprecationWarning: BaseException.message has been deprecated as of Python 2.6\n",
      "/usr/local/lib/python2.7/dist-packages/ipykernel_launcher.py:157: DeprecationWarning: BaseException.message has been deprecated as of Python 2.6\n",
      "/usr/local/lib/python2.7/dist-packages/ipykernel_launcher.py:157: DeprecationWarning: BaseException.message has been deprecated as of Python 2.6\n",
      "'str' object has no attribute 'shape'\n",
      "/usr/local/lib/python2.7/dist-packages/ipykernel_launcher.py:157: DeprecationWarning: BaseException.message has been deprecated as of Python 2.6\n",
      "'str' object has no attribute 'shape'\n",
      "'str' object has no attribute 'shape'\n",
      "/usr/local/lib/python2.7/dist-packages/ipykernel_launcher.py:157: DeprecationWarning: BaseException.message has been deprecated as of Python 2.6\n",
      "'str' object has no attribute 'shape'\n",
      "'str' object has no attribute 'shape'\n",
      "/usr/local/lib/python2.7/dist-packages/ipykernel_launcher.py:157: DeprecationWarning: BaseException.message has been deprecated as of Python 2.6\n",
      "/usr/local/lib/python2.7/dist-packages/ipykernel_launcher.py:157: DeprecationWarning: BaseException.message has been deprecated as of Python 2.6\n",
      "'str' object has no attribute 'shape'\n",
      "'str' object has no attribute 'shape'\n",
      "/usr/local/lib/python2.7/dist-packages/ipykernel_launcher.py:157: DeprecationWarning: BaseException.message has been deprecated as of Python 2.6\n",
      "/usr/local/lib/python2.7/dist-packages/ipykernel_launcher.py:157: DeprecationWarning: BaseException.message has been deprecated as of Python 2.6\n",
      "/usr/local/lib/python2.7/dist-packages/ipykernel_launcher.py:157: DeprecationWarning: BaseException.message has been deprecated as of Python 2.6\n",
      "'str' object has no attribute 'shape'\n",
      "'str' object has no attribute 'shape'\n",
      "'str' object has no attribute 'shape'\n",
      "/usr/local/lib/python2.7/dist-packages/ipykernel_launcher.py:157: DeprecationWarning: BaseException.message has been deprecated as of Python 2.6\n",
      "'str' object has no attribute 'shape'\n",
      "/usr/local/lib/python2.7/dist-packages/ipykernel_launcher.py:157: DeprecationWarning: BaseException.message has been deprecated as of Python 2.6\n",
      "/usr/local/lib/python2.7/dist-packages/ipykernel_launcher.py:157: DeprecationWarning: BaseException.message has been deprecated as of Python 2.6\n",
      "'str' object has no attribute 'shape'\n",
      "'str' object has no attribute 'shape'\n",
      "'str' object has no attribute 'shape'\n",
      "/usr/local/lib/python2.7/dist-packages/ipykernel_launcher.py:157: DeprecationWarning: BaseException.message has been deprecated as of Python 2.6\n",
      "'str' object has no attribute 'shape'\n",
      "/usr/local/lib/python2.7/dist-packages/ipykernel_launcher.py:157: DeprecationWarning: BaseException.message has been deprecated as of Python 2.6\n",
      "'str' object has no attribute 'shape'\n",
      "'str' object has no attribute 'shape'\n",
      "'str' object has no attribute 'shape'\n",
      "'str' object has no attribute 'shape'\n",
      "'str' object has no attribute 'shape'\n",
      "'str' object has no attribute 'shape'\n",
      "'str' object has no attribute 'shape'\n",
      "Visualize scoremaps: 0.29 seconds.\n"
     ]
    },
    {
     "name": "stdout",
     "output_type": "stream",
     "text": [
      "rm -rf \"/home/yuncong/CSHL_classifiers/setting_38/classifiers/sp5_clf_setting_38.dump\" && mkdir -p \"/home/yuncong/CSHL_classifiers/setting_38/classifiers\"\n",
      "aws s3 cp \"s3://mousebrainatlas-data/CSHL_classifiers/setting_38/classifiers/sp5_clf_setting_38.dump\" \"/home/yuncong/CSHL_classifiers/setting_38/classifiers/sp5_clf_setting_38.dump\"\n"
     ]
    },
    {
     "name": "stderr",
     "output_type": "stream",
     "text": [
      "Setting 38: No classifier found for sp5.\n"
     ]
    },
    {
     "name": "stdout",
     "output_type": "stream",
     "text": [
      "rm -rf \"/home/yuncong/CSHL_classifiers/setting_38/classifiers/outerContour_clf_setting_38.dump\" && mkdir -p \"/home/yuncong/CSHL_classifiers/setting_38/classifiers\"\n",
      "aws s3 cp \"s3://mousebrainatlas-data/CSHL_classifiers/setting_38/classifiers/outerContour_clf_setting_38.dump\" \"/home/yuncong/CSHL_classifiers/setting_38/classifiers/outerContour_clf_setting_38.dump\"\n"
     ]
    },
    {
     "name": "stderr",
     "output_type": "stream",
     "text": [
      "Setting 38: No classifier found for outerContour.\n"
     ]
    },
    {
     "name": "stdout",
     "output_type": "stream",
     "text": [
      "rm -rf \"/home/yuncong/media/yuncong/BstemAtlasData/CSHL_patch_features/inception-bn-blue/MD661/MD661_prep2_grayL900H0_win1/MD662&661-F58-2017.06.06-02.35.45_MD661_2_0173_prep2_grayL900H0_win1_inception-bn-blue_features.bp\" && mkdir -p \"/home/yuncong/media/yuncong/BstemAtlasData/CSHL_patch_features/inception-bn-blue/MD661/MD661_prep2_grayL900H0_win1\"\n",
      "rm -rf \"/home/yuncong/media/yuncong/BstemAtlasData/CSHL_patch_features/inception-bn-blue/MD661/MD661_prep2_grayL900H0_win1/MD662&661-F57-2017.06.06-02.06.22_MD661_3_0171_prep2_grayL900H0_win1_inception-bn-blue_features.bp\" && mkdir -p \"/home/yuncong/media/yuncong/BstemAtlasData/CSHL_patch_features/inception-bn-blue/MD661/MD661_prep2_grayL900H0_win1\"\n",
      "rm -rf \"/home/yuncong/media/yuncong/BstemAtlasData/CSHL_patch_features/inception-bn-blue/MD661/MD661_prep2_grayL900H0_win1/MD662&661-F58-2017.06.06-02.35.45_MD661_1_0172_prep2_grayL900H0_win1_inception-bn-blue_features.bp\" && mkdir -p \"/home/yuncong/media/yuncong/BstemAtlasData/CSHL_patch_features/inception-bn-blue/MD661/MD661_prep2_grayL900H0_win1\"\n",
      "aws s3 cp \"s3://mousebrainatlas-data/media/yuncong/BstemAtlasData/CSHL_patch_features/inception-bn-blue/MD661/MD661_prep2_grayL900H0_win1/MD662&661-F58-2017.06.06-02.35.45_MD661_2_0173_prep2_grayL900H0_win1_inception-bn-blue_features.bp\" \"/home/yuncong/media/yuncong/BstemAtlasData/CSHL_patch_features/inception-bn-blue/MD661/MD661_prep2_grayL900H0_win1/MD662&661-F58-2017.06.06-02.35.45_MD661_2_0173_prep2_grayL900H0_win1_inception-bn-blue_features.bp\"\n",
      "aws s3 cp \"s3://mousebrainatlas-data/media/yuncong/BstemAtlasData/CSHL_patch_features/inception-bn-blue/MD661/MD661_prep2_grayL900H0_win1/MD662&661-F57-2017.06.06-02.06.22_MD661_3_0171_prep2_grayL900H0_win1_inception-bn-blue_features.bp\" \"/home/yuncong/media/yuncong/BstemAtlasData/CSHL_patch_features/inception-bn-blue/MD661/MD661_prep2_grayL900H0_win1/MD662&661-F57-2017.06.06-02.06.22_MD661_3_0171_prep2_grayL900H0_win1_inception-bn-blue_features.bp\"\n",
      "aws s3 cp \"s3://mousebrainatlas-data/media/yuncong/BstemAtlasData/CSHL_patch_features/inception-bn-blue/MD661/MD661_prep2_grayL900H0_win1/MD662&661-F58-2017.06.06-02.35.45_MD661_1_0172_prep2_grayL900H0_win1_inception-bn-blue_features.bp\" \"/home/yuncong/media/yuncong/BstemAtlasData/CSHL_patch_features/inception-bn-blue/MD661/MD661_prep2_grayL900H0_win1/MD662&661-F58-2017.06.06-02.35.45_MD661_1_0172_prep2_grayL900H0_win1_inception-bn-blue_features.bp\"\n"
     ]
    },
    {
     "name": "stderr",
     "output_type": "stream",
     "text": [
      "/usr/local/lib/python2.7/dist-packages/ipykernel_launcher.py:34: DeprecationWarning: BaseException.message has been deprecated as of Python 2.6\n",
      "\n",
      "/usr/local/lib/python2.7/dist-packages/ipykernel_launcher.py:34: DeprecationWarning: BaseException.message has been deprecated as of Python 2.6\n",
      "\n",
      "/usr/local/lib/python2.7/dist-packages/ipykernel_launcher.py:34: DeprecationWarning: BaseException.message has been deprecated as of Python 2.6\n",
      "\n",
      "Classifier predict: 0.79\n"
     ]
    },
    {
     "name": "stdout",
     "output_type": "stream",
     "text": [
      "rm -rf \"/home/yuncong/CSHL_patch_scores/MD661/MD662&661-F57-2017.06.06-02.06.22_MD661_3_0171_prep2_gray/detector10/MD662&661-F57-2017.06.06-02.06.22_MD661_3_0171_prep2_gray_detector10_10N_sparseScores.bp\" && mkdir -p \"/home/yuncong/CSHL_patch_scores/MD661/MD662&661-F57-2017.06.06-02.06.22_MD661_3_0171_prep2_gray/detector10\"\n",
      "aws s3 cp \"s3://mousebrainatlas-data/CSHL_patch_scores/MD661/MD662&661-F57-2017.06.06-02.06.22_MD661_3_0171_prep2_gray/detector10/MD662&661-F57-2017.06.06-02.06.22_MD661_3_0171_prep2_gray_detector10_10N_sparseScores.bp\" \"/home/yuncong/CSHL_patch_scores/MD661/MD662&661-F57-2017.06.06-02.06.22_MD661_3_0171_prep2_gray/detector10/MD662&661-F57-2017.06.06-02.06.22_MD661_3_0171_prep2_gray_detector10_10N_sparseScores.bp\"\n",
      "rm -rf \"/home/yuncong/CSHL_patch_scores/MD661/MD662&661-F58-2017.06.06-02.35.45_MD661_1_0172_prep2_gray/detector10/MD662&661-F58-2017.06.06-02.35.45_MD661_1_0172_prep2_gray_detector10_10N_sparseScores.bp\" && mkdir -p \"/home/yuncong/CSHL_patch_scores/MD661/MD662&661-F58-2017.06.06-02.35.45_MD661_1_0172_prep2_gray/detector10\"\n",
      "rm -rf \"/home/yuncong/CSHL_patch_scores/MD661/MD662&661-F58-2017.06.06-02.35.45_MD661_2_0173_prep2_gray/detector10/MD662&661-F58-2017.06.06-02.35.45_MD661_2_0173_prep2_gray_detector10_10N_sparseScores.bp\" && mkdir -p \"/home/yuncong/CSHL_patch_scores/MD661/MD662&661-F58-2017.06.06-02.35.45_MD661_2_0173_prep2_gray/detector10\"\n",
      "aws s3 cp \"s3://mousebrainatlas-data/CSHL_patch_scores/MD661/MD662&661-F58-2017.06.06-02.35.45_MD661_1_0172_prep2_gray/detector10/MD662&661-F58-2017.06.06-02.35.45_MD661_1_0172_prep2_gray_detector10_10N_sparseScores.bp\" \"/home/yuncong/CSHL_patch_scores/MD661/MD662&661-F58-2017.06.06-02.35.45_MD661_1_0172_prep2_gray/detector10/MD662&661-F58-2017.06.06-02.35.45_MD661_1_0172_prep2_gray_detector10_10N_sparseScores.bp\"\n",
      "aws s3 cp \"s3://mousebrainatlas-data/CSHL_patch_scores/MD661/MD662&661-F58-2017.06.06-02.35.45_MD661_2_0173_prep2_gray/detector10/MD662&661-F58-2017.06.06-02.35.45_MD661_2_0173_prep2_gray_detector10_10N_sparseScores.bp\" \"/home/yuncong/CSHL_patch_scores/MD661/MD662&661-F58-2017.06.06-02.35.45_MD661_2_0173_prep2_gray/detector10/MD662&661-F58-2017.06.06-02.35.45_MD661_2_0173_prep2_gray_detector10_10N_sparseScores.bp\"\n"
     ]
    },
    {
     "name": "stderr",
     "output_type": "stream",
     "text": [
      "File does not exist: /home/yuncong/CSHL_patch_scores/MD661/MD662&661-F58-2017.06.06-02.35.45_MD661_2_0173_prep2_gray/detector10/MD662&661-F58-2017.06.06-02.35.45_MD661_2_0173_prep2_gray_detector10_10N_sparseScores.bp\n",
      "Error loading sparse scores for 10N: [Errno 2] No such file or directory: '/home/yuncong/CSHL_patch_scores/MD661/MD662&661-F58-2017.06.06-02.35.45_MD661_2_0173_prep2_gray/detector10/MD662&661-F58-2017.06.06-02.35.45_MD661_2_0173_prep2_gray_detector10_10N_sparseScores.bp'\n"
     ]
    },
    {
     "name": "stdout",
     "output_type": "stream",
     "text": [
      "rm -rf \"/home/yuncong/CSHL_patch_scores/MD661/MD662&661-F58-2017.06.06-02.35.45_MD661_2_0173_prep2_gray/detector10/MD662&661-F58-2017.06.06-02.35.45_MD661_2_0173_prep2_gray_detector10_12N_sparseScores.bp\" && mkdir -p \"/home/yuncong/CSHL_patch_scores/MD661/MD662&661-F58-2017.06.06-02.35.45_MD661_2_0173_prep2_gray/detector10\"\n"
     ]
    },
    {
     "name": "stderr",
     "output_type": "stream",
     "text": [
      "File does not exist: /home/yuncong/CSHL_patch_scores/MD661/MD662&661-F57-2017.06.06-02.06.22_MD661_3_0171_prep2_gray/detector10/MD662&661-F57-2017.06.06-02.06.22_MD661_3_0171_prep2_gray_detector10_10N_sparseScores.bp\n",
      "Error loading sparse scores for 10N: [Errno 2] No such file or directory: '/home/yuncong/CSHL_patch_scores/MD661/MD662&661-F57-2017.06.06-02.06.22_MD661_3_0171_prep2_gray/detector10/MD662&661-F57-2017.06.06-02.06.22_MD661_3_0171_prep2_gray_detector10_10N_sparseScores.bp'\n"
     ]
    },
    {
     "name": "stdout",
     "output_type": "stream",
     "text": [
      "aws s3 cp \"s3://mousebrainatlas-data/CSHL_patch_scores/MD661/MD662&661-F58-2017.06.06-02.35.45_MD661_2_0173_prep2_gray/detector10/MD662&661-F58-2017.06.06-02.35.45_MD661_2_0173_prep2_gray_detector10_12N_sparseScores.bp\" \"/home/yuncong/CSHL_patch_scores/MD661/MD662&661-F58-2017.06.06-02.35.45_MD661_2_0173_prep2_gray/detector10/MD662&661-F58-2017.06.06-02.35.45_MD661_2_0173_prep2_gray_detector10_12N_sparseScores.bp\"\n",
      "rm -rf \"/home/yuncong/CSHL_patch_scores/MD661/MD662&661-F57-2017.06.06-02.06.22_MD661_3_0171_prep2_gray/detector10/MD662&661-F57-2017.06.06-02.06.22_MD661_3_0171_prep2_gray_detector10_12N_sparseScores.bp\" && mkdir -p \"/home/yuncong/CSHL_patch_scores/MD661/MD662&661-F57-2017.06.06-02.06.22_MD661_3_0171_prep2_gray/detector10\"\n"
     ]
    },
    {
     "name": "stderr",
     "output_type": "stream",
     "text": [
      "File does not exist: /home/yuncong/CSHL_patch_scores/MD661/MD662&661-F58-2017.06.06-02.35.45_MD661_1_0172_prep2_gray/detector10/MD662&661-F58-2017.06.06-02.35.45_MD661_1_0172_prep2_gray_detector10_10N_sparseScores.bp\n",
      "Error loading sparse scores for 10N: [Errno 2] No such file or directory: '/home/yuncong/CSHL_patch_scores/MD661/MD662&661-F58-2017.06.06-02.35.45_MD661_1_0172_prep2_gray/detector10/MD662&661-F58-2017.06.06-02.35.45_MD661_1_0172_prep2_gray_detector10_10N_sparseScores.bp'\n"
     ]
    },
    {
     "name": "stdout",
     "output_type": "stream",
     "text": [
      "rm -rf \"/home/yuncong/CSHL_patch_scores/MD661/MD662&661-F58-2017.06.06-02.35.45_MD661_1_0172_prep2_gray/detector10/MD662&661-F58-2017.06.06-02.35.45_MD661_1_0172_prep2_gray_detector10_12N_sparseScores.bp\" && mkdir -p \"/home/yuncong/CSHL_patch_scores/MD661/MD662&661-F58-2017.06.06-02.35.45_MD661_1_0172_prep2_gray/detector10\"\n",
      "aws s3 cp \"s3://mousebrainatlas-data/CSHL_patch_scores/MD661/MD662&661-F57-2017.06.06-02.06.22_MD661_3_0171_prep2_gray/detector10/MD662&661-F57-2017.06.06-02.06.22_MD661_3_0171_prep2_gray_detector10_12N_sparseScores.bp\" \"/home/yuncong/CSHL_patch_scores/MD661/MD662&661-F57-2017.06.06-02.06.22_MD661_3_0171_prep2_gray/detector10/MD662&661-F57-2017.06.06-02.06.22_MD661_3_0171_prep2_gray_detector10_12N_sparseScores.bp\"\n",
      "aws s3 cp \"s3://mousebrainatlas-data/CSHL_patch_scores/MD661/MD662&661-F58-2017.06.06-02.35.45_MD661_1_0172_prep2_gray/detector10/MD662&661-F58-2017.06.06-02.35.45_MD661_1_0172_prep2_gray_detector10_12N_sparseScores.bp\" \"/home/yuncong/CSHL_patch_scores/MD661/MD662&661-F58-2017.06.06-02.35.45_MD661_1_0172_prep2_gray/detector10/MD662&661-F58-2017.06.06-02.35.45_MD661_1_0172_prep2_gray_detector10_12N_sparseScores.bp\"\n"
     ]
    },
    {
     "name": "stderr",
     "output_type": "stream",
     "text": [
      "File does not exist: /home/yuncong/CSHL_patch_scores/MD661/MD662&661-F57-2017.06.06-02.06.22_MD661_3_0171_prep2_gray/detector10/MD662&661-F57-2017.06.06-02.06.22_MD661_3_0171_prep2_gray_detector10_12N_sparseScores.bp\n",
      "Error loading sparse scores for 12N: [Errno 2] No such file or directory: '/home/yuncong/CSHL_patch_scores/MD661/MD662&661-F57-2017.06.06-02.06.22_MD661_3_0171_prep2_gray/detector10/MD662&661-F57-2017.06.06-02.06.22_MD661_3_0171_prep2_gray_detector10_12N_sparseScores.bp'\n"
     ]
    },
    {
     "name": "stdout",
     "output_type": "stream",
     "text": [
      "rm -rf \"/home/yuncong/CSHL_patch_scores/MD661/MD662&661-F57-2017.06.06-02.06.22_MD661_3_0171_prep2_gray/detector10/MD662&661-F57-2017.06.06-02.06.22_MD661_3_0171_prep2_gray_detector10_3N_sparseScores.bp\" && mkdir -p \"/home/yuncong/CSHL_patch_scores/MD661/MD662&661-F57-2017.06.06-02.06.22_MD661_3_0171_prep2_gray/detector10\"\n"
     ]
    },
    {
     "name": "stderr",
     "output_type": "stream",
     "text": [
      "File does not exist: /home/yuncong/CSHL_patch_scores/MD661/MD662&661-F58-2017.06.06-02.35.45_MD661_2_0173_prep2_gray/detector10/MD662&661-F58-2017.06.06-02.35.45_MD661_2_0173_prep2_gray_detector10_12N_sparseScores.bp\n",
      "Error loading sparse scores for 12N: [Errno 2] No such file or directory: '/home/yuncong/CSHL_patch_scores/MD661/MD662&661-F58-2017.06.06-02.35.45_MD661_2_0173_prep2_gray/detector10/MD662&661-F58-2017.06.06-02.35.45_MD661_2_0173_prep2_gray_detector10_12N_sparseScores.bp'\n"
     ]
    },
    {
     "name": "stdout",
     "output_type": "stream",
     "text": [
      "aws s3 cp \"s3://mousebrainatlas-data/CSHL_patch_scores/MD661/MD662&661-F57-2017.06.06-02.06.22_MD661_3_0171_prep2_gray/detector10/MD662&661-F57-2017.06.06-02.06.22_MD661_3_0171_prep2_gray_detector10_3N_sparseScores.bp\" \"/home/yuncong/CSHL_patch_scores/MD661/MD662&661-F57-2017.06.06-02.06.22_MD661_3_0171_prep2_gray/detector10/MD662&661-F57-2017.06.06-02.06.22_MD661_3_0171_prep2_gray_detector10_3N_sparseScores.bp\"\n",
      "rm -rf \"/home/yuncong/CSHL_patch_scores/MD661/MD662&661-F58-2017.06.06-02.35.45_MD661_2_0173_prep2_gray/detector10/MD662&661-F58-2017.06.06-02.35.45_MD661_2_0173_prep2_gray_detector10_3N_sparseScores.bp\" && mkdir -p \"/home/yuncong/CSHL_patch_scores/MD661/MD662&661-F58-2017.06.06-02.35.45_MD661_2_0173_prep2_gray/detector10\"\n"
     ]
    },
    {
     "name": "stderr",
     "output_type": "stream",
     "text": [
      "File does not exist: /home/yuncong/CSHL_patch_scores/MD661/MD662&661-F58-2017.06.06-02.35.45_MD661_1_0172_prep2_gray/detector10/MD662&661-F58-2017.06.06-02.35.45_MD661_1_0172_prep2_gray_detector10_12N_sparseScores.bp\n",
      "Error loading sparse scores for 12N: [Errno 2] No such file or directory: '/home/yuncong/CSHL_patch_scores/MD661/MD662&661-F58-2017.06.06-02.35.45_MD661_1_0172_prep2_gray/detector10/MD662&661-F58-2017.06.06-02.35.45_MD661_1_0172_prep2_gray_detector10_12N_sparseScores.bp'\n"
     ]
    },
    {
     "name": "stdout",
     "output_type": "stream",
     "text": [
      "rm -rf \"/home/yuncong/CSHL_patch_scores/MD661/MD662&661-F58-2017.06.06-02.35.45_MD661_1_0172_prep2_gray/detector10/MD662&661-F58-2017.06.06-02.35.45_MD661_1_0172_prep2_gray_detector10_3N_sparseScores.bp\" && mkdir -p \"/home/yuncong/CSHL_patch_scores/MD661/MD662&661-F58-2017.06.06-02.35.45_MD661_1_0172_prep2_gray/detector10\"\n",
      "aws s3 cp \"s3://mousebrainatlas-data/CSHL_patch_scores/MD661/MD662&661-F58-2017.06.06-02.35.45_MD661_2_0173_prep2_gray/detector10/MD662&661-F58-2017.06.06-02.35.45_MD661_2_0173_prep2_gray_detector10_3N_sparseScores.bp\" \"/home/yuncong/CSHL_patch_scores/MD661/MD662&661-F58-2017.06.06-02.35.45_MD661_2_0173_prep2_gray/detector10/MD662&661-F58-2017.06.06-02.35.45_MD661_2_0173_prep2_gray_detector10_3N_sparseScores.bp\"\n",
      "aws s3 cp \"s3://mousebrainatlas-data/CSHL_patch_scores/MD661/MD662&661-F58-2017.06.06-02.35.45_MD661_1_0172_prep2_gray/detector10/MD662&661-F58-2017.06.06-02.35.45_MD661_1_0172_prep2_gray_detector10_3N_sparseScores.bp\" \"/home/yuncong/CSHL_patch_scores/MD661/MD662&661-F58-2017.06.06-02.35.45_MD661_1_0172_prep2_gray/detector10/MD662&661-F58-2017.06.06-02.35.45_MD661_1_0172_prep2_gray_detector10_3N_sparseScores.bp\"\n"
     ]
    },
    {
     "name": "stderr",
     "output_type": "stream",
     "text": [
      "File does not exist: /home/yuncong/CSHL_patch_scores/MD661/MD662&661-F58-2017.06.06-02.35.45_MD661_2_0173_prep2_gray/detector10/MD662&661-F58-2017.06.06-02.35.45_MD661_2_0173_prep2_gray_detector10_3N_sparseScores.bp\n",
      "Error loading sparse scores for 3N: [Errno 2] No such file or directory: '/home/yuncong/CSHL_patch_scores/MD661/MD662&661-F58-2017.06.06-02.35.45_MD661_2_0173_prep2_gray/detector10/MD662&661-F58-2017.06.06-02.35.45_MD661_2_0173_prep2_gray_detector10_3N_sparseScores.bp'\n"
     ]
    },
    {
     "name": "stdout",
     "output_type": "stream",
     "text": [
      "rm -rf \"/home/yuncong/CSHL_patch_scores/MD661/MD662&661-F58-2017.06.06-02.35.45_MD661_2_0173_prep2_gray/detector10/MD662&661-F58-2017.06.06-02.35.45_MD661_2_0173_prep2_gray_detector10_4N_sparseScores.bp\" && mkdir -p \"/home/yuncong/CSHL_patch_scores/MD661/MD662&661-F58-2017.06.06-02.35.45_MD661_2_0173_prep2_gray/detector10\"\n",
      "aws s3 cp \"s3://mousebrainatlas-data/CSHL_patch_scores/MD661/MD662&661-F58-2017.06.06-02.35.45_MD661_2_0173_prep2_gray/detector10/MD662&661-F58-2017.06.06-02.35.45_MD661_2_0173_prep2_gray_detector10_4N_sparseScores.bp\" \"/home/yuncong/CSHL_patch_scores/MD661/MD662&661-F58-2017.06.06-02.35.45_MD661_2_0173_prep2_gray/detector10/MD662&661-F58-2017.06.06-02.35.45_MD661_2_0173_prep2_gray_detector10_4N_sparseScores.bp\"\n"
     ]
    },
    {
     "name": "stderr",
     "output_type": "stream",
     "text": [
      "File does not exist: /home/yuncong/CSHL_patch_scores/MD661/MD662&661-F58-2017.06.06-02.35.45_MD661_1_0172_prep2_gray/detector10/MD662&661-F58-2017.06.06-02.35.45_MD661_1_0172_prep2_gray_detector10_3N_sparseScores.bp\n",
      "File does not exist: /home/yuncong/CSHL_patch_scores/MD661/MD662&661-F57-2017.06.06-02.06.22_MD661_3_0171_prep2_gray/detector10/MD662&661-F57-2017.06.06-02.06.22_MD661_3_0171_prep2_gray_detector10_3N_sparseScores.bp\n",
      "Error loading sparse scores for 3N: [Errno 2] No such file or directory: '/home/yuncong/CSHL_patch_scores/MD661/MD662&661-F58-2017.06.06-02.35.45_MD661_1_0172_prep2_gray/detector10/MD662&661-F58-2017.06.06-02.35.45_MD661_1_0172_prep2_gray_detector10_3N_sparseScores.bp'\n",
      "Error loading sparse scores for 3N: [Errno 2] No such file or directory: '/home/yuncong/CSHL_patch_scores/MD661/MD662&661-F57-2017.06.06-02.06.22_MD661_3_0171_prep2_gray/detector10/MD662&661-F57-2017.06.06-02.06.22_MD661_3_0171_prep2_gray_detector10_3N_sparseScores.bp'\n"
     ]
    },
    {
     "name": "stdout",
     "output_type": "stream",
     "text": [
      "rm -rf \"/home/yuncong/CSHL_patch_scores/MD661/MD662&661-F58-2017.06.06-02.35.45_MD661_1_0172_prep2_gray/detector10/MD662&661-F58-2017.06.06-02.35.45_MD661_1_0172_prep2_gray_detector10_4N_sparseScores.bp\" && mkdir -p \"/home/yuncong/CSHL_patch_scores/MD661/MD662&661-F58-2017.06.06-02.35.45_MD661_1_0172_prep2_gray/detector10\"\n",
      "rm -rf \"/home/yuncong/CSHL_patch_scores/MD661/MD662&661-F57-2017.06.06-02.06.22_MD661_3_0171_prep2_gray/detector10/MD662&661-F57-2017.06.06-02.06.22_MD661_3_0171_prep2_gray_detector10_4N_sparseScores.bp\" && mkdir -p \"/home/yuncong/CSHL_patch_scores/MD661/MD662&661-F57-2017.06.06-02.06.22_MD661_3_0171_prep2_gray/detector10\"\n",
      "aws s3 cp \"s3://mousebrainatlas-data/CSHL_patch_scores/MD661/MD662&661-F58-2017.06.06-02.35.45_MD661_1_0172_prep2_gray/detector10/MD662&661-F58-2017.06.06-02.35.45_MD661_1_0172_prep2_gray_detector10_4N_sparseScores.bp\" \"/home/yuncong/CSHL_patch_scores/MD661/MD662&661-F58-2017.06.06-02.35.45_MD661_1_0172_prep2_gray/detector10/MD662&661-F58-2017.06.06-02.35.45_MD661_1_0172_prep2_gray_detector10_4N_sparseScores.bp\"\n",
      "aws s3 cp \"s3://mousebrainatlas-data/CSHL_patch_scores/MD661/MD662&661-F57-2017.06.06-02.06.22_MD661_3_0171_prep2_gray/detector10/MD662&661-F57-2017.06.06-02.06.22_MD661_3_0171_prep2_gray_detector10_4N_sparseScores.bp\" \"/home/yuncong/CSHL_patch_scores/MD661/MD662&661-F57-2017.06.06-02.06.22_MD661_3_0171_prep2_gray/detector10/MD662&661-F57-2017.06.06-02.06.22_MD661_3_0171_prep2_gray_detector10_4N_sparseScores.bp\"\n"
     ]
    },
    {
     "name": "stderr",
     "output_type": "stream",
     "text": [
      "File does not exist: /home/yuncong/CSHL_patch_scores/MD661/MD662&661-F58-2017.06.06-02.35.45_MD661_2_0173_prep2_gray/detector10/MD662&661-F58-2017.06.06-02.35.45_MD661_2_0173_prep2_gray_detector10_4N_sparseScores.bp\n",
      "Error loading sparse scores for 4N: [Errno 2] No such file or directory: '/home/yuncong/CSHL_patch_scores/MD661/MD662&661-F58-2017.06.06-02.35.45_MD661_2_0173_prep2_gray/detector10/MD662&661-F58-2017.06.06-02.35.45_MD661_2_0173_prep2_gray_detector10_4N_sparseScores.bp'\n"
     ]
    },
    {
     "name": "stdout",
     "output_type": "stream",
     "text": [
      "rm -rf \"/home/yuncong/CSHL_patch_scores/MD661/MD662&661-F58-2017.06.06-02.35.45_MD661_2_0173_prep2_gray/detector10/MD662&661-F58-2017.06.06-02.35.45_MD661_2_0173_prep2_gray_detector10_5N_sparseScores.bp\" && mkdir -p \"/home/yuncong/CSHL_patch_scores/MD661/MD662&661-F58-2017.06.06-02.35.45_MD661_2_0173_prep2_gray/detector10\"\n",
      "aws s3 cp \"s3://mousebrainatlas-data/CSHL_patch_scores/MD661/MD662&661-F58-2017.06.06-02.35.45_MD661_2_0173_prep2_gray/detector10/MD662&661-F58-2017.06.06-02.35.45_MD661_2_0173_prep2_gray_detector10_5N_sparseScores.bp\" \"/home/yuncong/CSHL_patch_scores/MD661/MD662&661-F58-2017.06.06-02.35.45_MD661_2_0173_prep2_gray/detector10/MD662&661-F58-2017.06.06-02.35.45_MD661_2_0173_prep2_gray_detector10_5N_sparseScores.bp\"\n"
     ]
    },
    {
     "name": "stderr",
     "output_type": "stream",
     "text": [
      "File does not exist: /home/yuncong/CSHL_patch_scores/MD661/MD662&661-F58-2017.06.06-02.35.45_MD661_1_0172_prep2_gray/detector10/MD662&661-F58-2017.06.06-02.35.45_MD661_1_0172_prep2_gray_detector10_4N_sparseScores.bp\n",
      "Error loading sparse scores for 4N: [Errno 2] No such file or directory: '/home/yuncong/CSHL_patch_scores/MD661/MD662&661-F58-2017.06.06-02.35.45_MD661_1_0172_prep2_gray/detector10/MD662&661-F58-2017.06.06-02.35.45_MD661_1_0172_prep2_gray_detector10_4N_sparseScores.bp'\n"
     ]
    },
    {
     "name": "stdout",
     "output_type": "stream",
     "text": [
      "rm -rf \"/home/yuncong/CSHL_patch_scores/MD661/MD662&661-F58-2017.06.06-02.35.45_MD661_1_0172_prep2_gray/detector10/MD662&661-F58-2017.06.06-02.35.45_MD661_1_0172_prep2_gray_detector10_5N_sparseScores.bp\" && mkdir -p \"/home/yuncong/CSHL_patch_scores/MD661/MD662&661-F58-2017.06.06-02.35.45_MD661_1_0172_prep2_gray/detector10\"\n"
     ]
    },
    {
     "name": "stderr",
     "output_type": "stream",
     "text": [
      "File does not exist: /home/yuncong/CSHL_patch_scores/MD661/MD662&661-F57-2017.06.06-02.06.22_MD661_3_0171_prep2_gray/detector10/MD662&661-F57-2017.06.06-02.06.22_MD661_3_0171_prep2_gray_detector10_4N_sparseScores.bp\n"
     ]
    },
    {
     "name": "stdout",
     "output_type": "stream",
     "text": [
      "aws s3 cp \"s3://mousebrainatlas-data/CSHL_patch_scores/MD661/MD662&661-F58-2017.06.06-02.35.45_MD661_1_0172_prep2_gray/detector10/MD662&661-F58-2017.06.06-02.35.45_MD661_1_0172_prep2_gray_detector10_5N_sparseScores.bp\" \"/home/yuncong/CSHL_patch_scores/MD661/MD662&661-F58-2017.06.06-02.35.45_MD661_1_0172_prep2_gray/detector10/MD662&661-F58-2017.06.06-02.35.45_MD661_1_0172_prep2_gray_detector10_5N_sparseScores.bp\"\n"
     ]
    },
    {
     "name": "stderr",
     "output_type": "stream",
     "text": [
      "Error loading sparse scores for 4N: [Errno 2] No such file or directory: '/home/yuncong/CSHL_patch_scores/MD661/MD662&661-F57-2017.06.06-02.06.22_MD661_3_0171_prep2_gray/detector10/MD662&661-F57-2017.06.06-02.06.22_MD661_3_0171_prep2_gray_detector10_4N_sparseScores.bp'\n"
     ]
    },
    {
     "name": "stdout",
     "output_type": "stream",
     "text": [
      "rm -rf \"/home/yuncong/CSHL_patch_scores/MD661/MD662&661-F57-2017.06.06-02.06.22_MD661_3_0171_prep2_gray/detector10/MD662&661-F57-2017.06.06-02.06.22_MD661_3_0171_prep2_gray_detector10_5N_sparseScores.bp\" && mkdir -p \"/home/yuncong/CSHL_patch_scores/MD661/MD662&661-F57-2017.06.06-02.06.22_MD661_3_0171_prep2_gray/detector10\"\n",
      "aws s3 cp \"s3://mousebrainatlas-data/CSHL_patch_scores/MD661/MD662&661-F57-2017.06.06-02.06.22_MD661_3_0171_prep2_gray/detector10/MD662&661-F57-2017.06.06-02.06.22_MD661_3_0171_prep2_gray_detector10_5N_sparseScores.bp\" \"/home/yuncong/CSHL_patch_scores/MD661/MD662&661-F57-2017.06.06-02.06.22_MD661_3_0171_prep2_gray/detector10/MD662&661-F57-2017.06.06-02.06.22_MD661_3_0171_prep2_gray_detector10_5N_sparseScores.bp\"\n"
     ]
    },
    {
     "name": "stderr",
     "output_type": "stream",
     "text": [
      "File does not exist: /home/yuncong/CSHL_patch_scores/MD661/MD662&661-F58-2017.06.06-02.35.45_MD661_2_0173_prep2_gray/detector10/MD662&661-F58-2017.06.06-02.35.45_MD661_2_0173_prep2_gray_detector10_5N_sparseScores.bp\n",
      "Error loading sparse scores for 5N: [Errno 2] No such file or directory: '/home/yuncong/CSHL_patch_scores/MD661/MD662&661-F58-2017.06.06-02.35.45_MD661_2_0173_prep2_gray/detector10/MD662&661-F58-2017.06.06-02.35.45_MD661_2_0173_prep2_gray_detector10_5N_sparseScores.bp'\n"
     ]
    },
    {
     "name": "stdout",
     "output_type": "stream",
     "text": [
      "rm -rf \"/home/yuncong/CSHL_patch_scores/MD661/MD662&661-F58-2017.06.06-02.35.45_MD661_2_0173_prep2_gray/detector10/MD662&661-F58-2017.06.06-02.35.45_MD661_2_0173_prep2_gray_detector10_6N_sparseScores.bp\" && mkdir -p \"/home/yuncong/CSHL_patch_scores/MD661/MD662&661-F58-2017.06.06-02.35.45_MD661_2_0173_prep2_gray/detector10\"\n",
      "aws s3 cp \"s3://mousebrainatlas-data/CSHL_patch_scores/MD661/MD662&661-F58-2017.06.06-02.35.45_MD661_2_0173_prep2_gray/detector10/MD662&661-F58-2017.06.06-02.35.45_MD661_2_0173_prep2_gray_detector10_6N_sparseScores.bp\" \"/home/yuncong/CSHL_patch_scores/MD661/MD662&661-F58-2017.06.06-02.35.45_MD661_2_0173_prep2_gray/detector10/MD662&661-F58-2017.06.06-02.35.45_MD661_2_0173_prep2_gray_detector10_6N_sparseScores.bp\"\n"
     ]
    },
    {
     "name": "stderr",
     "output_type": "stream",
     "text": [
      "File does not exist: /home/yuncong/CSHL_patch_scores/MD661/MD662&661-F58-2017.06.06-02.35.45_MD661_1_0172_prep2_gray/detector10/MD662&661-F58-2017.06.06-02.35.45_MD661_1_0172_prep2_gray_detector10_5N_sparseScores.bp\n",
      "Error loading sparse scores for 5N: [Errno 2] No such file or directory: '/home/yuncong/CSHL_patch_scores/MD661/MD662&661-F58-2017.06.06-02.35.45_MD661_1_0172_prep2_gray/detector10/MD662&661-F58-2017.06.06-02.35.45_MD661_1_0172_prep2_gray_detector10_5N_sparseScores.bp'\n"
     ]
    },
    {
     "name": "stdout",
     "output_type": "stream",
     "text": [
      "rm -rf \"/home/yuncong/CSHL_patch_scores/MD661/MD662&661-F58-2017.06.06-02.35.45_MD661_1_0172_prep2_gray/detector10/MD662&661-F58-2017.06.06-02.35.45_MD661_1_0172_prep2_gray_detector10_6N_sparseScores.bp\" && mkdir -p \"/home/yuncong/CSHL_patch_scores/MD661/MD662&661-F58-2017.06.06-02.35.45_MD661_1_0172_prep2_gray/detector10\"\n"
     ]
    },
    {
     "name": "stderr",
     "output_type": "stream",
     "text": [
      "File does not exist: /home/yuncong/CSHL_patch_scores/MD661/MD662&661-F57-2017.06.06-02.06.22_MD661_3_0171_prep2_gray/detector10/MD662&661-F57-2017.06.06-02.06.22_MD661_3_0171_prep2_gray_detector10_5N_sparseScores.bp\n",
      "Error loading sparse scores for 5N: [Errno 2] No such file or directory: '/home/yuncong/CSHL_patch_scores/MD661/MD662&661-F57-2017.06.06-02.06.22_MD661_3_0171_prep2_gray/detector10/MD662&661-F57-2017.06.06-02.06.22_MD661_3_0171_prep2_gray_detector10_5N_sparseScores.bp'\n"
     ]
    },
    {
     "name": "stdout",
     "output_type": "stream",
     "text": [
      "rm -rf \"/home/yuncong/CSHL_patch_scores/MD661/MD662&661-F57-2017.06.06-02.06.22_MD661_3_0171_prep2_gray/detector10/MD662&661-F57-2017.06.06-02.06.22_MD661_3_0171_prep2_gray_detector10_6N_sparseScores.bp\" && mkdir -p \"/home/yuncong/CSHL_patch_scores/MD661/MD662&661-F57-2017.06.06-02.06.22_MD661_3_0171_prep2_gray/detector10\"\n",
      "aws s3 cp \"s3://mousebrainatlas-data/CSHL_patch_scores/MD661/MD662&661-F58-2017.06.06-02.35.45_MD661_1_0172_prep2_gray/detector10/MD662&661-F58-2017.06.06-02.35.45_MD661_1_0172_prep2_gray_detector10_6N_sparseScores.bp\" \"/home/yuncong/CSHL_patch_scores/MD661/MD662&661-F58-2017.06.06-02.35.45_MD661_1_0172_prep2_gray/detector10/MD662&661-F58-2017.06.06-02.35.45_MD661_1_0172_prep2_gray_detector10_6N_sparseScores.bp\"\n",
      "aws s3 cp \"s3://mousebrainatlas-data/CSHL_patch_scores/MD661/MD662&661-F57-2017.06.06-02.06.22_MD661_3_0171_prep2_gray/detector10/MD662&661-F57-2017.06.06-02.06.22_MD661_3_0171_prep2_gray_detector10_6N_sparseScores.bp\" \"/home/yuncong/CSHL_patch_scores/MD661/MD662&661-F57-2017.06.06-02.06.22_MD661_3_0171_prep2_gray/detector10/MD662&661-F57-2017.06.06-02.06.22_MD661_3_0171_prep2_gray_detector10_6N_sparseScores.bp\"\n"
     ]
    },
    {
     "name": "stderr",
     "output_type": "stream",
     "text": [
      "File does not exist: /home/yuncong/CSHL_patch_scores/MD661/MD662&661-F58-2017.06.06-02.35.45_MD661_2_0173_prep2_gray/detector10/MD662&661-F58-2017.06.06-02.35.45_MD661_2_0173_prep2_gray_detector10_6N_sparseScores.bp\n",
      "Error loading sparse scores for 6N: [Errno 2] No such file or directory: '/home/yuncong/CSHL_patch_scores/MD661/MD662&661-F58-2017.06.06-02.35.45_MD661_2_0173_prep2_gray/detector10/MD662&661-F58-2017.06.06-02.35.45_MD661_2_0173_prep2_gray_detector10_6N_sparseScores.bp'\n"
     ]
    },
    {
     "name": "stdout",
     "output_type": "stream",
     "text": [
      "rm -rf \"/home/yuncong/CSHL_patch_scores/MD661/MD662&661-F58-2017.06.06-02.35.45_MD661_2_0173_prep2_gray/detector10/MD662&661-F58-2017.06.06-02.35.45_MD661_2_0173_prep2_gray_detector10_7N_sparseScores.bp\" && mkdir -p \"/home/yuncong/CSHL_patch_scores/MD661/MD662&661-F58-2017.06.06-02.35.45_MD661_2_0173_prep2_gray/detector10\"\n",
      "aws s3 cp \"s3://mousebrainatlas-data/CSHL_patch_scores/MD661/MD662&661-F58-2017.06.06-02.35.45_MD661_2_0173_prep2_gray/detector10/MD662&661-F58-2017.06.06-02.35.45_MD661_2_0173_prep2_gray_detector10_7N_sparseScores.bp\" \"/home/yuncong/CSHL_patch_scores/MD661/MD662&661-F58-2017.06.06-02.35.45_MD661_2_0173_prep2_gray/detector10/MD662&661-F58-2017.06.06-02.35.45_MD661_2_0173_prep2_gray_detector10_7N_sparseScores.bp\"\n"
     ]
    },
    {
     "name": "stderr",
     "output_type": "stream",
     "text": [
      "File does not exist: /home/yuncong/CSHL_patch_scores/MD661/MD662&661-F57-2017.06.06-02.06.22_MD661_3_0171_prep2_gray/detector10/MD662&661-F57-2017.06.06-02.06.22_MD661_3_0171_prep2_gray_detector10_6N_sparseScores.bp\n",
      "Error loading sparse scores for 6N: [Errno 2] No such file or directory: '/home/yuncong/CSHL_patch_scores/MD661/MD662&661-F57-2017.06.06-02.06.22_MD661_3_0171_prep2_gray/detector10/MD662&661-F57-2017.06.06-02.06.22_MD661_3_0171_prep2_gray_detector10_6N_sparseScores.bp'\n"
     ]
    },
    {
     "name": "stdout",
     "output_type": "stream",
     "text": [
      "rm -rf \"/home/yuncong/CSHL_patch_scores/MD661/MD662&661-F57-2017.06.06-02.06.22_MD661_3_0171_prep2_gray/detector10/MD662&661-F57-2017.06.06-02.06.22_MD661_3_0171_prep2_gray_detector10_7N_sparseScores.bp\" && mkdir -p \"/home/yuncong/CSHL_patch_scores/MD661/MD662&661-F57-2017.06.06-02.06.22_MD661_3_0171_prep2_gray/detector10\"\n"
     ]
    },
    {
     "name": "stderr",
     "output_type": "stream",
     "text": [
      "File does not exist: /home/yuncong/CSHL_patch_scores/MD661/MD662&661-F58-2017.06.06-02.35.45_MD661_1_0172_prep2_gray/detector10/MD662&661-F58-2017.06.06-02.35.45_MD661_1_0172_prep2_gray_detector10_6N_sparseScores.bp\n",
      "Error loading sparse scores for 6N: [Errno 2] No such file or directory: '/home/yuncong/CSHL_patch_scores/MD661/MD662&661-F58-2017.06.06-02.35.45_MD661_1_0172_prep2_gray/detector10/MD662&661-F58-2017.06.06-02.35.45_MD661_1_0172_prep2_gray_detector10_6N_sparseScores.bp'\n"
     ]
    },
    {
     "name": "stdout",
     "output_type": "stream",
     "text": [
      "rm -rf \"/home/yuncong/CSHL_patch_scores/MD661/MD662&661-F58-2017.06.06-02.35.45_MD661_1_0172_prep2_gray/detector10/MD662&661-F58-2017.06.06-02.35.45_MD661_1_0172_prep2_gray_detector10_7N_sparseScores.bp\" && mkdir -p \"/home/yuncong/CSHL_patch_scores/MD661/MD662&661-F58-2017.06.06-02.35.45_MD661_1_0172_prep2_gray/detector10\"\n",
      "aws s3 cp \"s3://mousebrainatlas-data/CSHL_patch_scores/MD661/MD662&661-F57-2017.06.06-02.06.22_MD661_3_0171_prep2_gray/detector10/MD662&661-F57-2017.06.06-02.06.22_MD661_3_0171_prep2_gray_detector10_7N_sparseScores.bp\" \"/home/yuncong/CSHL_patch_scores/MD661/MD662&661-F57-2017.06.06-02.06.22_MD661_3_0171_prep2_gray/detector10/MD662&661-F57-2017.06.06-02.06.22_MD661_3_0171_prep2_gray_detector10_7N_sparseScores.bp\"\n",
      "aws s3 cp \"s3://mousebrainatlas-data/CSHL_patch_scores/MD661/MD662&661-F58-2017.06.06-02.35.45_MD661_1_0172_prep2_gray/detector10/MD662&661-F58-2017.06.06-02.35.45_MD661_1_0172_prep2_gray_detector10_7N_sparseScores.bp\" \"/home/yuncong/CSHL_patch_scores/MD661/MD662&661-F58-2017.06.06-02.35.45_MD661_1_0172_prep2_gray/detector10/MD662&661-F58-2017.06.06-02.35.45_MD661_1_0172_prep2_gray_detector10_7N_sparseScores.bp\"\n"
     ]
    },
    {
     "name": "stderr",
     "output_type": "stream",
     "text": [
      "File does not exist: /home/yuncong/CSHL_patch_scores/MD661/MD662&661-F58-2017.06.06-02.35.45_MD661_2_0173_prep2_gray/detector10/MD662&661-F58-2017.06.06-02.35.45_MD661_2_0173_prep2_gray_detector10_7N_sparseScores.bp\n",
      "Error loading sparse scores for 7N: [Errno 2] No such file or directory: '/home/yuncong/CSHL_patch_scores/MD661/MD662&661-F58-2017.06.06-02.35.45_MD661_2_0173_prep2_gray/detector10/MD662&661-F58-2017.06.06-02.35.45_MD661_2_0173_prep2_gray_detector10_7N_sparseScores.bp'\n"
     ]
    },
    {
     "name": "stdout",
     "output_type": "stream",
     "text": [
      "rm -rf \"/home/yuncong/CSHL_patch_scores/MD661/MD662&661-F58-2017.06.06-02.35.45_MD661_2_0173_prep2_gray/detector10/MD662&661-F58-2017.06.06-02.35.45_MD661_2_0173_prep2_gray_detector10_7n_sparseScores.bp\" && mkdir -p \"/home/yuncong/CSHL_patch_scores/MD661/MD662&661-F58-2017.06.06-02.35.45_MD661_2_0173_prep2_gray/detector10\"\n",
      "aws s3 cp \"s3://mousebrainatlas-data/CSHL_patch_scores/MD661/MD662&661-F58-2017.06.06-02.35.45_MD661_2_0173_prep2_gray/detector10/MD662&661-F58-2017.06.06-02.35.45_MD661_2_0173_prep2_gray_detector10_7n_sparseScores.bp\" \"/home/yuncong/CSHL_patch_scores/MD661/MD662&661-F58-2017.06.06-02.35.45_MD661_2_0173_prep2_gray/detector10/MD662&661-F58-2017.06.06-02.35.45_MD661_2_0173_prep2_gray_detector10_7n_sparseScores.bp\"\n"
     ]
    },
    {
     "name": "stderr",
     "output_type": "stream",
     "text": [
      "File does not exist: /home/yuncong/CSHL_patch_scores/MD661/MD662&661-F58-2017.06.06-02.35.45_MD661_1_0172_prep2_gray/detector10/MD662&661-F58-2017.06.06-02.35.45_MD661_1_0172_prep2_gray_detector10_7N_sparseScores.bp\n",
      "Error loading sparse scores for 7N: [Errno 2] No such file or directory: '/home/yuncong/CSHL_patch_scores/MD661/MD662&661-F58-2017.06.06-02.35.45_MD661_1_0172_prep2_gray/detector10/MD662&661-F58-2017.06.06-02.35.45_MD661_1_0172_prep2_gray_detector10_7N_sparseScores.bp'\n",
      "File does not exist: /home/yuncong/CSHL_patch_scores/MD661/MD662&661-F57-2017.06.06-02.06.22_MD661_3_0171_prep2_gray/detector10/MD662&661-F57-2017.06.06-02.06.22_MD661_3_0171_prep2_gray_detector10_7N_sparseScores.bp\n"
     ]
    },
    {
     "name": "stdout",
     "output_type": "stream",
     "text": [
      "rm -rf \"/home/yuncong/CSHL_patch_scores/MD661/MD662&661-F58-2017.06.06-02.35.45_MD661_1_0172_prep2_gray/detector10/MD662&661-F58-2017.06.06-02.35.45_MD661_1_0172_prep2_gray_detector10_7n_sparseScores.bp\" && mkdir -p \"/home/yuncong/CSHL_patch_scores/MD661/MD662&661-F58-2017.06.06-02.35.45_MD661_1_0172_prep2_gray/detector10\"\n"
     ]
    },
    {
     "name": "stderr",
     "output_type": "stream",
     "text": [
      "Error loading sparse scores for 7N: [Errno 2] No such file or directory: '/home/yuncong/CSHL_patch_scores/MD661/MD662&661-F57-2017.06.06-02.06.22_MD661_3_0171_prep2_gray/detector10/MD662&661-F57-2017.06.06-02.06.22_MD661_3_0171_prep2_gray_detector10_7N_sparseScores.bp'\n"
     ]
    },
    {
     "name": "stdout",
     "output_type": "stream",
     "text": [
      "rm -rf \"/home/yuncong/CSHL_patch_scores/MD661/MD662&661-F57-2017.06.06-02.06.22_MD661_3_0171_prep2_gray/detector10/MD662&661-F57-2017.06.06-02.06.22_MD661_3_0171_prep2_gray_detector10_7n_sparseScores.bp\" && mkdir -p \"/home/yuncong/CSHL_patch_scores/MD661/MD662&661-F57-2017.06.06-02.06.22_MD661_3_0171_prep2_gray/detector10\"\n",
      "aws s3 cp \"s3://mousebrainatlas-data/CSHL_patch_scores/MD661/MD662&661-F58-2017.06.06-02.35.45_MD661_1_0172_prep2_gray/detector10/MD662&661-F58-2017.06.06-02.35.45_MD661_1_0172_prep2_gray_detector10_7n_sparseScores.bp\" \"/home/yuncong/CSHL_patch_scores/MD661/MD662&661-F58-2017.06.06-02.35.45_MD661_1_0172_prep2_gray/detector10/MD662&661-F58-2017.06.06-02.35.45_MD661_1_0172_prep2_gray_detector10_7n_sparseScores.bp\"\n",
      "aws s3 cp \"s3://mousebrainatlas-data/CSHL_patch_scores/MD661/MD662&661-F57-2017.06.06-02.06.22_MD661_3_0171_prep2_gray/detector10/MD662&661-F57-2017.06.06-02.06.22_MD661_3_0171_prep2_gray_detector10_7n_sparseScores.bp\" \"/home/yuncong/CSHL_patch_scores/MD661/MD662&661-F57-2017.06.06-02.06.22_MD661_3_0171_prep2_gray/detector10/MD662&661-F57-2017.06.06-02.06.22_MD661_3_0171_prep2_gray_detector10_7n_sparseScores.bp\"\n"
     ]
    },
    {
     "name": "stderr",
     "output_type": "stream",
     "text": [
      "File does not exist: /home/yuncong/CSHL_patch_scores/MD661/MD662&661-F58-2017.06.06-02.35.45_MD661_2_0173_prep2_gray/detector10/MD662&661-F58-2017.06.06-02.35.45_MD661_2_0173_prep2_gray_detector10_7n_sparseScores.bp\n",
      "Error loading sparse scores for 7n: [Errno 2] No such file or directory: '/home/yuncong/CSHL_patch_scores/MD661/MD662&661-F58-2017.06.06-02.35.45_MD661_2_0173_prep2_gray/detector10/MD662&661-F58-2017.06.06-02.35.45_MD661_2_0173_prep2_gray_detector10_7n_sparseScores.bp'\n"
     ]
    },
    {
     "name": "stdout",
     "output_type": "stream",
     "text": [
      "rm -rf \"/home/yuncong/CSHL_patch_scores/MD661/MD662&661-F58-2017.06.06-02.35.45_MD661_2_0173_prep2_gray/detector10/MD662&661-F58-2017.06.06-02.35.45_MD661_2_0173_prep2_gray_detector10_AP_sparseScores.bp\" && mkdir -p \"/home/yuncong/CSHL_patch_scores/MD661/MD662&661-F58-2017.06.06-02.35.45_MD661_2_0173_prep2_gray/detector10\"\n",
      "aws s3 cp \"s3://mousebrainatlas-data/CSHL_patch_scores/MD661/MD662&661-F58-2017.06.06-02.35.45_MD661_2_0173_prep2_gray/detector10/MD662&661-F58-2017.06.06-02.35.45_MD661_2_0173_prep2_gray_detector10_AP_sparseScores.bp\" \"/home/yuncong/CSHL_patch_scores/MD661/MD662&661-F58-2017.06.06-02.35.45_MD661_2_0173_prep2_gray/detector10/MD662&661-F58-2017.06.06-02.35.45_MD661_2_0173_prep2_gray_detector10_AP_sparseScores.bp\"\n"
     ]
    },
    {
     "name": "stderr",
     "output_type": "stream",
     "text": [
      "File does not exist: /home/yuncong/CSHL_patch_scores/MD661/MD662&661-F58-2017.06.06-02.35.45_MD661_1_0172_prep2_gray/detector10/MD662&661-F58-2017.06.06-02.35.45_MD661_1_0172_prep2_gray_detector10_7n_sparseScores.bp\n",
      "Error loading sparse scores for 7n: [Errno 2] No such file or directory: '/home/yuncong/CSHL_patch_scores/MD661/MD662&661-F58-2017.06.06-02.35.45_MD661_1_0172_prep2_gray/detector10/MD662&661-F58-2017.06.06-02.35.45_MD661_1_0172_prep2_gray_detector10_7n_sparseScores.bp'\n"
     ]
    },
    {
     "name": "stdout",
     "output_type": "stream",
     "text": [
      "rm -rf \"/home/yuncong/CSHL_patch_scores/MD661/MD662&661-F58-2017.06.06-02.35.45_MD661_1_0172_prep2_gray/detector10/MD662&661-F58-2017.06.06-02.35.45_MD661_1_0172_prep2_gray_detector10_AP_sparseScores.bp\" && mkdir -p \"/home/yuncong/CSHL_patch_scores/MD661/MD662&661-F58-2017.06.06-02.35.45_MD661_1_0172_prep2_gray/detector10\"\n",
      "aws s3 cp \"s3://mousebrainatlas-data/CSHL_patch_scores/MD661/MD662&661-F58-2017.06.06-02.35.45_MD661_1_0172_prep2_gray/detector10/MD662&661-F58-2017.06.06-02.35.45_MD661_1_0172_prep2_gray_detector10_AP_sparseScores.bp\" \"/home/yuncong/CSHL_patch_scores/MD661/MD662&661-F58-2017.06.06-02.35.45_MD661_1_0172_prep2_gray/detector10/MD662&661-F58-2017.06.06-02.35.45_MD661_1_0172_prep2_gray_detector10_AP_sparseScores.bp\"\n"
     ]
    },
    {
     "name": "stderr",
     "output_type": "stream",
     "text": [
      "File does not exist: /home/yuncong/CSHL_patch_scores/MD661/MD662&661-F57-2017.06.06-02.06.22_MD661_3_0171_prep2_gray/detector10/MD662&661-F57-2017.06.06-02.06.22_MD661_3_0171_prep2_gray_detector10_7n_sparseScores.bp\n",
      "Error loading sparse scores for 7n: [Errno 2] No such file or directory: '/home/yuncong/CSHL_patch_scores/MD661/MD662&661-F57-2017.06.06-02.06.22_MD661_3_0171_prep2_gray/detector10/MD662&661-F57-2017.06.06-02.06.22_MD661_3_0171_prep2_gray_detector10_7n_sparseScores.bp'\n"
     ]
    },
    {
     "name": "stdout",
     "output_type": "stream",
     "text": [
      "rm -rf \"/home/yuncong/CSHL_patch_scores/MD661/MD662&661-F57-2017.06.06-02.06.22_MD661_3_0171_prep2_gray/detector10/MD662&661-F57-2017.06.06-02.06.22_MD661_3_0171_prep2_gray_detector10_AP_sparseScores.bp\" && mkdir -p \"/home/yuncong/CSHL_patch_scores/MD661/MD662&661-F57-2017.06.06-02.06.22_MD661_3_0171_prep2_gray/detector10\"\n",
      "aws s3 cp \"s3://mousebrainatlas-data/CSHL_patch_scores/MD661/MD662&661-F57-2017.06.06-02.06.22_MD661_3_0171_prep2_gray/detector10/MD662&661-F57-2017.06.06-02.06.22_MD661_3_0171_prep2_gray_detector10_AP_sparseScores.bp\" \"/home/yuncong/CSHL_patch_scores/MD661/MD662&661-F57-2017.06.06-02.06.22_MD661_3_0171_prep2_gray/detector10/MD662&661-F57-2017.06.06-02.06.22_MD661_3_0171_prep2_gray_detector10_AP_sparseScores.bp\"\n"
     ]
    },
    {
     "name": "stderr",
     "output_type": "stream",
     "text": [
      "File does not exist: /home/yuncong/CSHL_patch_scores/MD661/MD662&661-F58-2017.06.06-02.35.45_MD661_2_0173_prep2_gray/detector10/MD662&661-F58-2017.06.06-02.35.45_MD661_2_0173_prep2_gray_detector10_AP_sparseScores.bp\n",
      "Error loading sparse scores for AP: [Errno 2] No such file or directory: '/home/yuncong/CSHL_patch_scores/MD661/MD662&661-F58-2017.06.06-02.35.45_MD661_2_0173_prep2_gray/detector10/MD662&661-F58-2017.06.06-02.35.45_MD661_2_0173_prep2_gray_detector10_AP_sparseScores.bp'\n"
     ]
    },
    {
     "name": "stdout",
     "output_type": "stream",
     "text": [
      "rm -rf \"/home/yuncong/CSHL_patch_scores/MD661/MD662&661-F58-2017.06.06-02.35.45_MD661_2_0173_prep2_gray/detector10/MD662&661-F58-2017.06.06-02.35.45_MD661_2_0173_prep2_gray_detector10_Amb_sparseScores.bp\" && mkdir -p \"/home/yuncong/CSHL_patch_scores/MD661/MD662&661-F58-2017.06.06-02.35.45_MD661_2_0173_prep2_gray/detector10\"\n",
      "aws s3 cp \"s3://mousebrainatlas-data/CSHL_patch_scores/MD661/MD662&661-F58-2017.06.06-02.35.45_MD661_2_0173_prep2_gray/detector10/MD662&661-F58-2017.06.06-02.35.45_MD661_2_0173_prep2_gray_detector10_Amb_sparseScores.bp\" \"/home/yuncong/CSHL_patch_scores/MD661/MD662&661-F58-2017.06.06-02.35.45_MD661_2_0173_prep2_gray/detector10/MD662&661-F58-2017.06.06-02.35.45_MD661_2_0173_prep2_gray_detector10_Amb_sparseScores.bp\"\n"
     ]
    },
    {
     "name": "stderr",
     "output_type": "stream",
     "text": [
      "File does not exist: /home/yuncong/CSHL_patch_scores/MD661/MD662&661-F58-2017.06.06-02.35.45_MD661_1_0172_prep2_gray/detector10/MD662&661-F58-2017.06.06-02.35.45_MD661_1_0172_prep2_gray_detector10_AP_sparseScores.bp\n",
      "Error loading sparse scores for AP: [Errno 2] No such file or directory: '/home/yuncong/CSHL_patch_scores/MD661/MD662&661-F58-2017.06.06-02.35.45_MD661_1_0172_prep2_gray/detector10/MD662&661-F58-2017.06.06-02.35.45_MD661_1_0172_prep2_gray_detector10_AP_sparseScores.bp'\n"
     ]
    },
    {
     "name": "stdout",
     "output_type": "stream",
     "text": [
      "rm -rf \"/home/yuncong/CSHL_patch_scores/MD661/MD662&661-F58-2017.06.06-02.35.45_MD661_1_0172_prep2_gray/detector10/MD662&661-F58-2017.06.06-02.35.45_MD661_1_0172_prep2_gray_detector10_Amb_sparseScores.bp\" && mkdir -p \"/home/yuncong/CSHL_patch_scores/MD661/MD662&661-F58-2017.06.06-02.35.45_MD661_1_0172_prep2_gray/detector10\"\n",
      "aws s3 cp \"s3://mousebrainatlas-data/CSHL_patch_scores/MD661/MD662&661-F58-2017.06.06-02.35.45_MD661_1_0172_prep2_gray/detector10/MD662&661-F58-2017.06.06-02.35.45_MD661_1_0172_prep2_gray_detector10_Amb_sparseScores.bp\" \"/home/yuncong/CSHL_patch_scores/MD661/MD662&661-F58-2017.06.06-02.35.45_MD661_1_0172_prep2_gray/detector10/MD662&661-F58-2017.06.06-02.35.45_MD661_1_0172_prep2_gray_detector10_Amb_sparseScores.bp\"\n"
     ]
    },
    {
     "name": "stderr",
     "output_type": "stream",
     "text": [
      "File does not exist: /home/yuncong/CSHL_patch_scores/MD661/MD662&661-F57-2017.06.06-02.06.22_MD661_3_0171_prep2_gray/detector10/MD662&661-F57-2017.06.06-02.06.22_MD661_3_0171_prep2_gray_detector10_AP_sparseScores.bp\n",
      "Error loading sparse scores for AP: [Errno 2] No such file or directory: '/home/yuncong/CSHL_patch_scores/MD661/MD662&661-F57-2017.06.06-02.06.22_MD661_3_0171_prep2_gray/detector10/MD662&661-F57-2017.06.06-02.06.22_MD661_3_0171_prep2_gray_detector10_AP_sparseScores.bp'\n"
     ]
    },
    {
     "name": "stdout",
     "output_type": "stream",
     "text": [
      "rm -rf \"/home/yuncong/CSHL_patch_scores/MD661/MD662&661-F57-2017.06.06-02.06.22_MD661_3_0171_prep2_gray/detector10/MD662&661-F57-2017.06.06-02.06.22_MD661_3_0171_prep2_gray_detector10_Amb_sparseScores.bp\" && mkdir -p \"/home/yuncong/CSHL_patch_scores/MD661/MD662&661-F57-2017.06.06-02.06.22_MD661_3_0171_prep2_gray/detector10\"\n",
      "aws s3 cp \"s3://mousebrainatlas-data/CSHL_patch_scores/MD661/MD662&661-F57-2017.06.06-02.06.22_MD661_3_0171_prep2_gray/detector10/MD662&661-F57-2017.06.06-02.06.22_MD661_3_0171_prep2_gray_detector10_Amb_sparseScores.bp\" \"/home/yuncong/CSHL_patch_scores/MD661/MD662&661-F57-2017.06.06-02.06.22_MD661_3_0171_prep2_gray/detector10/MD662&661-F57-2017.06.06-02.06.22_MD661_3_0171_prep2_gray_detector10_Amb_sparseScores.bp\"\n"
     ]
    },
    {
     "name": "stderr",
     "output_type": "stream",
     "text": [
      "File does not exist: /home/yuncong/CSHL_patch_scores/MD661/MD662&661-F58-2017.06.06-02.35.45_MD661_2_0173_prep2_gray/detector10/MD662&661-F58-2017.06.06-02.35.45_MD661_2_0173_prep2_gray_detector10_Amb_sparseScores.bp\n",
      "Error loading sparse scores for Amb: [Errno 2] No such file or directory: '/home/yuncong/CSHL_patch_scores/MD661/MD662&661-F58-2017.06.06-02.35.45_MD661_2_0173_prep2_gray/detector10/MD662&661-F58-2017.06.06-02.35.45_MD661_2_0173_prep2_gray_detector10_Amb_sparseScores.bp'\n"
     ]
    },
    {
     "name": "stdout",
     "output_type": "stream",
     "text": [
      "rm -rf \"/home/yuncong/CSHL_patch_scores/MD661/MD662&661-F58-2017.06.06-02.35.45_MD661_2_0173_prep2_gray/detector10/MD662&661-F58-2017.06.06-02.35.45_MD661_2_0173_prep2_gray_detector10_DC_sparseScores.bp\" && mkdir -p \"/home/yuncong/CSHL_patch_scores/MD661/MD662&661-F58-2017.06.06-02.35.45_MD661_2_0173_prep2_gray/detector10\"\n",
      "aws s3 cp \"s3://mousebrainatlas-data/CSHL_patch_scores/MD661/MD662&661-F58-2017.06.06-02.35.45_MD661_2_0173_prep2_gray/detector10/MD662&661-F58-2017.06.06-02.35.45_MD661_2_0173_prep2_gray_detector10_DC_sparseScores.bp\" \"/home/yuncong/CSHL_patch_scores/MD661/MD662&661-F58-2017.06.06-02.35.45_MD661_2_0173_prep2_gray/detector10/MD662&661-F58-2017.06.06-02.35.45_MD661_2_0173_prep2_gray_detector10_DC_sparseScores.bp\"\n"
     ]
    },
    {
     "name": "stderr",
     "output_type": "stream",
     "text": [
      "File does not exist: /home/yuncong/CSHL_patch_scores/MD661/MD662&661-F58-2017.06.06-02.35.45_MD661_1_0172_prep2_gray/detector10/MD662&661-F58-2017.06.06-02.35.45_MD661_1_0172_prep2_gray_detector10_Amb_sparseScores.bp\n",
      "Error loading sparse scores for Amb: [Errno 2] No such file or directory: '/home/yuncong/CSHL_patch_scores/MD661/MD662&661-F58-2017.06.06-02.35.45_MD661_1_0172_prep2_gray/detector10/MD662&661-F58-2017.06.06-02.35.45_MD661_1_0172_prep2_gray_detector10_Amb_sparseScores.bp'\n"
     ]
    },
    {
     "name": "stdout",
     "output_type": "stream",
     "text": [
      "rm -rf \"/home/yuncong/CSHL_patch_scores/MD661/MD662&661-F58-2017.06.06-02.35.45_MD661_1_0172_prep2_gray/detector10/MD662&661-F58-2017.06.06-02.35.45_MD661_1_0172_prep2_gray_detector10_DC_sparseScores.bp\" && mkdir -p \"/home/yuncong/CSHL_patch_scores/MD661/MD662&661-F58-2017.06.06-02.35.45_MD661_1_0172_prep2_gray/detector10\"\n",
      "aws s3 cp \"s3://mousebrainatlas-data/CSHL_patch_scores/MD661/MD662&661-F58-2017.06.06-02.35.45_MD661_1_0172_prep2_gray/detector10/MD662&661-F58-2017.06.06-02.35.45_MD661_1_0172_prep2_gray_detector10_DC_sparseScores.bp\" \"/home/yuncong/CSHL_patch_scores/MD661/MD662&661-F58-2017.06.06-02.35.45_MD661_1_0172_prep2_gray/detector10/MD662&661-F58-2017.06.06-02.35.45_MD661_1_0172_prep2_gray_detector10_DC_sparseScores.bp\"\n"
     ]
    },
    {
     "name": "stderr",
     "output_type": "stream",
     "text": [
      "File does not exist: /home/yuncong/CSHL_patch_scores/MD661/MD662&661-F57-2017.06.06-02.06.22_MD661_3_0171_prep2_gray/detector10/MD662&661-F57-2017.06.06-02.06.22_MD661_3_0171_prep2_gray_detector10_Amb_sparseScores.bp\n",
      "Error loading sparse scores for Amb: [Errno 2] No such file or directory: '/home/yuncong/CSHL_patch_scores/MD661/MD662&661-F57-2017.06.06-02.06.22_MD661_3_0171_prep2_gray/detector10/MD662&661-F57-2017.06.06-02.06.22_MD661_3_0171_prep2_gray_detector10_Amb_sparseScores.bp'\n"
     ]
    },
    {
     "name": "stdout",
     "output_type": "stream",
     "text": [
      "rm -rf \"/home/yuncong/CSHL_patch_scores/MD661/MD662&661-F57-2017.06.06-02.06.22_MD661_3_0171_prep2_gray/detector10/MD662&661-F57-2017.06.06-02.06.22_MD661_3_0171_prep2_gray_detector10_DC_sparseScores.bp\" && mkdir -p \"/home/yuncong/CSHL_patch_scores/MD661/MD662&661-F57-2017.06.06-02.06.22_MD661_3_0171_prep2_gray/detector10\"\n",
      "aws s3 cp \"s3://mousebrainatlas-data/CSHL_patch_scores/MD661/MD662&661-F57-2017.06.06-02.06.22_MD661_3_0171_prep2_gray/detector10/MD662&661-F57-2017.06.06-02.06.22_MD661_3_0171_prep2_gray_detector10_DC_sparseScores.bp\" \"/home/yuncong/CSHL_patch_scores/MD661/MD662&661-F57-2017.06.06-02.06.22_MD661_3_0171_prep2_gray/detector10/MD662&661-F57-2017.06.06-02.06.22_MD661_3_0171_prep2_gray_detector10_DC_sparseScores.bp\"\n"
     ]
    },
    {
     "name": "stderr",
     "output_type": "stream",
     "text": [
      "File does not exist: /home/yuncong/CSHL_patch_scores/MD661/MD662&661-F58-2017.06.06-02.35.45_MD661_2_0173_prep2_gray/detector10/MD662&661-F58-2017.06.06-02.35.45_MD661_2_0173_prep2_gray_detector10_DC_sparseScores.bp\n",
      "Error loading sparse scores for DC: [Errno 2] No such file or directory: '/home/yuncong/CSHL_patch_scores/MD661/MD662&661-F58-2017.06.06-02.35.45_MD661_2_0173_prep2_gray/detector10/MD662&661-F58-2017.06.06-02.35.45_MD661_2_0173_prep2_gray_detector10_DC_sparseScores.bp'\n"
     ]
    },
    {
     "name": "stdout",
     "output_type": "stream",
     "text": [
      "rm -rf \"/home/yuncong/CSHL_patch_scores/MD661/MD662&661-F58-2017.06.06-02.35.45_MD661_2_0173_prep2_gray/detector10/MD662&661-F58-2017.06.06-02.35.45_MD661_2_0173_prep2_gray_detector10_IC_sparseScores.bp\" && mkdir -p \"/home/yuncong/CSHL_patch_scores/MD661/MD662&661-F58-2017.06.06-02.35.45_MD661_2_0173_prep2_gray/detector10\"\n",
      "aws s3 cp \"s3://mousebrainatlas-data/CSHL_patch_scores/MD661/MD662&661-F58-2017.06.06-02.35.45_MD661_2_0173_prep2_gray/detector10/MD662&661-F58-2017.06.06-02.35.45_MD661_2_0173_prep2_gray_detector10_IC_sparseScores.bp\" \"/home/yuncong/CSHL_patch_scores/MD661/MD662&661-F58-2017.06.06-02.35.45_MD661_2_0173_prep2_gray/detector10/MD662&661-F58-2017.06.06-02.35.45_MD661_2_0173_prep2_gray_detector10_IC_sparseScores.bp\"\n"
     ]
    },
    {
     "name": "stderr",
     "output_type": "stream",
     "text": [
      "File does not exist: /home/yuncong/CSHL_patch_scores/MD661/MD662&661-F58-2017.06.06-02.35.45_MD661_1_0172_prep2_gray/detector10/MD662&661-F58-2017.06.06-02.35.45_MD661_1_0172_prep2_gray_detector10_DC_sparseScores.bp\n",
      "Error loading sparse scores for DC: [Errno 2] No such file or directory: '/home/yuncong/CSHL_patch_scores/MD661/MD662&661-F58-2017.06.06-02.35.45_MD661_1_0172_prep2_gray/detector10/MD662&661-F58-2017.06.06-02.35.45_MD661_1_0172_prep2_gray_detector10_DC_sparseScores.bp'\n"
     ]
    },
    {
     "name": "stdout",
     "output_type": "stream",
     "text": [
      "rm -rf \"/home/yuncong/CSHL_patch_scores/MD661/MD662&661-F58-2017.06.06-02.35.45_MD661_1_0172_prep2_gray/detector10/MD662&661-F58-2017.06.06-02.35.45_MD661_1_0172_prep2_gray_detector10_IC_sparseScores.bp\" && mkdir -p \"/home/yuncong/CSHL_patch_scores/MD661/MD662&661-F58-2017.06.06-02.35.45_MD661_1_0172_prep2_gray/detector10\"\n",
      "aws s3 cp \"s3://mousebrainatlas-data/CSHL_patch_scores/MD661/MD662&661-F58-2017.06.06-02.35.45_MD661_1_0172_prep2_gray/detector10/MD662&661-F58-2017.06.06-02.35.45_MD661_1_0172_prep2_gray_detector10_IC_sparseScores.bp\" \"/home/yuncong/CSHL_patch_scores/MD661/MD662&661-F58-2017.06.06-02.35.45_MD661_1_0172_prep2_gray/detector10/MD662&661-F58-2017.06.06-02.35.45_MD661_1_0172_prep2_gray_detector10_IC_sparseScores.bp\"\n"
     ]
    },
    {
     "name": "stderr",
     "output_type": "stream",
     "text": [
      "File does not exist: /home/yuncong/CSHL_patch_scores/MD661/MD662&661-F57-2017.06.06-02.06.22_MD661_3_0171_prep2_gray/detector10/MD662&661-F57-2017.06.06-02.06.22_MD661_3_0171_prep2_gray_detector10_DC_sparseScores.bp\n",
      "Error loading sparse scores for DC: [Errno 2] No such file or directory: '/home/yuncong/CSHL_patch_scores/MD661/MD662&661-F57-2017.06.06-02.06.22_MD661_3_0171_prep2_gray/detector10/MD662&661-F57-2017.06.06-02.06.22_MD661_3_0171_prep2_gray_detector10_DC_sparseScores.bp'\n"
     ]
    },
    {
     "name": "stdout",
     "output_type": "stream",
     "text": [
      "rm -rf \"/home/yuncong/CSHL_patch_scores/MD661/MD662&661-F57-2017.06.06-02.06.22_MD661_3_0171_prep2_gray/detector10/MD662&661-F57-2017.06.06-02.06.22_MD661_3_0171_prep2_gray_detector10_IC_sparseScores.bp\" && mkdir -p \"/home/yuncong/CSHL_patch_scores/MD661/MD662&661-F57-2017.06.06-02.06.22_MD661_3_0171_prep2_gray/detector10\"\n",
      "aws s3 cp \"s3://mousebrainatlas-data/CSHL_patch_scores/MD661/MD662&661-F57-2017.06.06-02.06.22_MD661_3_0171_prep2_gray/detector10/MD662&661-F57-2017.06.06-02.06.22_MD661_3_0171_prep2_gray_detector10_IC_sparseScores.bp\" \"/home/yuncong/CSHL_patch_scores/MD661/MD662&661-F57-2017.06.06-02.06.22_MD661_3_0171_prep2_gray/detector10/MD662&661-F57-2017.06.06-02.06.22_MD661_3_0171_prep2_gray_detector10_IC_sparseScores.bp\"\n"
     ]
    },
    {
     "name": "stderr",
     "output_type": "stream",
     "text": [
      "File does not exist: /home/yuncong/CSHL_patch_scores/MD661/MD662&661-F58-2017.06.06-02.35.45_MD661_2_0173_prep2_gray/detector10/MD662&661-F58-2017.06.06-02.35.45_MD661_2_0173_prep2_gray_detector10_IC_sparseScores.bp\n",
      "Error loading sparse scores for IC: [Errno 2] No such file or directory: '/home/yuncong/CSHL_patch_scores/MD661/MD662&661-F58-2017.06.06-02.35.45_MD661_2_0173_prep2_gray/detector10/MD662&661-F58-2017.06.06-02.35.45_MD661_2_0173_prep2_gray_detector10_IC_sparseScores.bp'\n"
     ]
    },
    {
     "name": "stdout",
     "output_type": "stream",
     "text": [
      "rm -rf \"/home/yuncong/CSHL_patch_scores/MD661/MD662&661-F58-2017.06.06-02.35.45_MD661_2_0173_prep2_gray/detector10/MD662&661-F58-2017.06.06-02.35.45_MD661_2_0173_prep2_gray_detector10_LC_sparseScores.bp\" && mkdir -p \"/home/yuncong/CSHL_patch_scores/MD661/MD662&661-F58-2017.06.06-02.35.45_MD661_2_0173_prep2_gray/detector10\"\n",
      "aws s3 cp \"s3://mousebrainatlas-data/CSHL_patch_scores/MD661/MD662&661-F58-2017.06.06-02.35.45_MD661_2_0173_prep2_gray/detector10/MD662&661-F58-2017.06.06-02.35.45_MD661_2_0173_prep2_gray_detector10_LC_sparseScores.bp\" \"/home/yuncong/CSHL_patch_scores/MD661/MD662&661-F58-2017.06.06-02.35.45_MD661_2_0173_prep2_gray/detector10/MD662&661-F58-2017.06.06-02.35.45_MD661_2_0173_prep2_gray_detector10_LC_sparseScores.bp\"\n"
     ]
    },
    {
     "name": "stderr",
     "output_type": "stream",
     "text": [
      "File does not exist: /home/yuncong/CSHL_patch_scores/MD661/MD662&661-F58-2017.06.06-02.35.45_MD661_1_0172_prep2_gray/detector10/MD662&661-F58-2017.06.06-02.35.45_MD661_1_0172_prep2_gray_detector10_IC_sparseScores.bp\n",
      "Error loading sparse scores for IC: [Errno 2] No such file or directory: '/home/yuncong/CSHL_patch_scores/MD661/MD662&661-F58-2017.06.06-02.35.45_MD661_1_0172_prep2_gray/detector10/MD662&661-F58-2017.06.06-02.35.45_MD661_1_0172_prep2_gray_detector10_IC_sparseScores.bp'\n"
     ]
    },
    {
     "name": "stdout",
     "output_type": "stream",
     "text": [
      "rm -rf \"/home/yuncong/CSHL_patch_scores/MD661/MD662&661-F58-2017.06.06-02.35.45_MD661_1_0172_prep2_gray/detector10/MD662&661-F58-2017.06.06-02.35.45_MD661_1_0172_prep2_gray_detector10_LC_sparseScores.bp\" && mkdir -p \"/home/yuncong/CSHL_patch_scores/MD661/MD662&661-F58-2017.06.06-02.35.45_MD661_1_0172_prep2_gray/detector10\"\n",
      "aws s3 cp \"s3://mousebrainatlas-data/CSHL_patch_scores/MD661/MD662&661-F58-2017.06.06-02.35.45_MD661_1_0172_prep2_gray/detector10/MD662&661-F58-2017.06.06-02.35.45_MD661_1_0172_prep2_gray_detector10_LC_sparseScores.bp\" \"/home/yuncong/CSHL_patch_scores/MD661/MD662&661-F58-2017.06.06-02.35.45_MD661_1_0172_prep2_gray/detector10/MD662&661-F58-2017.06.06-02.35.45_MD661_1_0172_prep2_gray_detector10_LC_sparseScores.bp\"\n"
     ]
    },
    {
     "name": "stderr",
     "output_type": "stream",
     "text": [
      "File does not exist: /home/yuncong/CSHL_patch_scores/MD661/MD662&661-F57-2017.06.06-02.06.22_MD661_3_0171_prep2_gray/detector10/MD662&661-F57-2017.06.06-02.06.22_MD661_3_0171_prep2_gray_detector10_IC_sparseScores.bp\n",
      "Error loading sparse scores for IC: [Errno 2] No such file or directory: '/home/yuncong/CSHL_patch_scores/MD661/MD662&661-F57-2017.06.06-02.06.22_MD661_3_0171_prep2_gray/detector10/MD662&661-F57-2017.06.06-02.06.22_MD661_3_0171_prep2_gray_detector10_IC_sparseScores.bp'\n"
     ]
    },
    {
     "name": "stdout",
     "output_type": "stream",
     "text": [
      "rm -rf \"/home/yuncong/CSHL_patch_scores/MD661/MD662&661-F57-2017.06.06-02.06.22_MD661_3_0171_prep2_gray/detector10/MD662&661-F57-2017.06.06-02.06.22_MD661_3_0171_prep2_gray_detector10_LC_sparseScores.bp\" && mkdir -p \"/home/yuncong/CSHL_patch_scores/MD661/MD662&661-F57-2017.06.06-02.06.22_MD661_3_0171_prep2_gray/detector10\"\n",
      "aws s3 cp \"s3://mousebrainatlas-data/CSHL_patch_scores/MD661/MD662&661-F57-2017.06.06-02.06.22_MD661_3_0171_prep2_gray/detector10/MD662&661-F57-2017.06.06-02.06.22_MD661_3_0171_prep2_gray_detector10_LC_sparseScores.bp\" \"/home/yuncong/CSHL_patch_scores/MD661/MD662&661-F57-2017.06.06-02.06.22_MD661_3_0171_prep2_gray/detector10/MD662&661-F57-2017.06.06-02.06.22_MD661_3_0171_prep2_gray_detector10_LC_sparseScores.bp\"\n"
     ]
    },
    {
     "name": "stderr",
     "output_type": "stream",
     "text": [
      "File does not exist: /home/yuncong/CSHL_patch_scores/MD661/MD662&661-F58-2017.06.06-02.35.45_MD661_2_0173_prep2_gray/detector10/MD662&661-F58-2017.06.06-02.35.45_MD661_2_0173_prep2_gray_detector10_LC_sparseScores.bp\n",
      "Error loading sparse scores for LC: [Errno 2] No such file or directory: '/home/yuncong/CSHL_patch_scores/MD661/MD662&661-F58-2017.06.06-02.35.45_MD661_2_0173_prep2_gray/detector10/MD662&661-F58-2017.06.06-02.35.45_MD661_2_0173_prep2_gray_detector10_LC_sparseScores.bp'\n"
     ]
    },
    {
     "name": "stdout",
     "output_type": "stream",
     "text": [
      "rm -rf \"/home/yuncong/CSHL_patch_scores/MD661/MD662&661-F58-2017.06.06-02.35.45_MD661_2_0173_prep2_gray/detector10/MD662&661-F58-2017.06.06-02.35.45_MD661_2_0173_prep2_gray_detector10_LRt_sparseScores.bp\" && mkdir -p \"/home/yuncong/CSHL_patch_scores/MD661/MD662&661-F58-2017.06.06-02.35.45_MD661_2_0173_prep2_gray/detector10\"\n",
      "aws s3 cp \"s3://mousebrainatlas-data/CSHL_patch_scores/MD661/MD662&661-F58-2017.06.06-02.35.45_MD661_2_0173_prep2_gray/detector10/MD662&661-F58-2017.06.06-02.35.45_MD661_2_0173_prep2_gray_detector10_LRt_sparseScores.bp\" \"/home/yuncong/CSHL_patch_scores/MD661/MD662&661-F58-2017.06.06-02.35.45_MD661_2_0173_prep2_gray/detector10/MD662&661-F58-2017.06.06-02.35.45_MD661_2_0173_prep2_gray_detector10_LRt_sparseScores.bp\"\n"
     ]
    },
    {
     "name": "stderr",
     "output_type": "stream",
     "text": [
      "File does not exist: /home/yuncong/CSHL_patch_scores/MD661/MD662&661-F58-2017.06.06-02.35.45_MD661_1_0172_prep2_gray/detector10/MD662&661-F58-2017.06.06-02.35.45_MD661_1_0172_prep2_gray_detector10_LC_sparseScores.bp\n",
      "Error loading sparse scores for LC: [Errno 2] No such file or directory: '/home/yuncong/CSHL_patch_scores/MD661/MD662&661-F58-2017.06.06-02.35.45_MD661_1_0172_prep2_gray/detector10/MD662&661-F58-2017.06.06-02.35.45_MD661_1_0172_prep2_gray_detector10_LC_sparseScores.bp'\n"
     ]
    },
    {
     "name": "stdout",
     "output_type": "stream",
     "text": [
      "rm -rf \"/home/yuncong/CSHL_patch_scores/MD661/MD662&661-F58-2017.06.06-02.35.45_MD661_1_0172_prep2_gray/detector10/MD662&661-F58-2017.06.06-02.35.45_MD661_1_0172_prep2_gray_detector10_LRt_sparseScores.bp\" && mkdir -p \"/home/yuncong/CSHL_patch_scores/MD661/MD662&661-F58-2017.06.06-02.35.45_MD661_1_0172_prep2_gray/detector10\"\n",
      "aws s3 cp \"s3://mousebrainatlas-data/CSHL_patch_scores/MD661/MD662&661-F58-2017.06.06-02.35.45_MD661_1_0172_prep2_gray/detector10/MD662&661-F58-2017.06.06-02.35.45_MD661_1_0172_prep2_gray_detector10_LRt_sparseScores.bp\" \"/home/yuncong/CSHL_patch_scores/MD661/MD662&661-F58-2017.06.06-02.35.45_MD661_1_0172_prep2_gray/detector10/MD662&661-F58-2017.06.06-02.35.45_MD661_1_0172_prep2_gray_detector10_LRt_sparseScores.bp\"\n"
     ]
    },
    {
     "name": "stderr",
     "output_type": "stream",
     "text": [
      "File does not exist: /home/yuncong/CSHL_patch_scores/MD661/MD662&661-F57-2017.06.06-02.06.22_MD661_3_0171_prep2_gray/detector10/MD662&661-F57-2017.06.06-02.06.22_MD661_3_0171_prep2_gray_detector10_LC_sparseScores.bp\n",
      "Error loading sparse scores for LC: [Errno 2] No such file or directory: '/home/yuncong/CSHL_patch_scores/MD661/MD662&661-F57-2017.06.06-02.06.22_MD661_3_0171_prep2_gray/detector10/MD662&661-F57-2017.06.06-02.06.22_MD661_3_0171_prep2_gray_detector10_LC_sparseScores.bp'\n"
     ]
    },
    {
     "name": "stdout",
     "output_type": "stream",
     "text": [
      "rm -rf \"/home/yuncong/CSHL_patch_scores/MD661/MD662&661-F57-2017.06.06-02.06.22_MD661_3_0171_prep2_gray/detector10/MD662&661-F57-2017.06.06-02.06.22_MD661_3_0171_prep2_gray_detector10_LRt_sparseScores.bp\" && mkdir -p \"/home/yuncong/CSHL_patch_scores/MD661/MD662&661-F57-2017.06.06-02.06.22_MD661_3_0171_prep2_gray/detector10\"\n",
      "aws s3 cp \"s3://mousebrainatlas-data/CSHL_patch_scores/MD661/MD662&661-F57-2017.06.06-02.06.22_MD661_3_0171_prep2_gray/detector10/MD662&661-F57-2017.06.06-02.06.22_MD661_3_0171_prep2_gray_detector10_LRt_sparseScores.bp\" \"/home/yuncong/CSHL_patch_scores/MD661/MD662&661-F57-2017.06.06-02.06.22_MD661_3_0171_prep2_gray/detector10/MD662&661-F57-2017.06.06-02.06.22_MD661_3_0171_prep2_gray_detector10_LRt_sparseScores.bp\"\n"
     ]
    },
    {
     "name": "stderr",
     "output_type": "stream",
     "text": [
      "File does not exist: /home/yuncong/CSHL_patch_scores/MD661/MD662&661-F58-2017.06.06-02.35.45_MD661_2_0173_prep2_gray/detector10/MD662&661-F58-2017.06.06-02.35.45_MD661_2_0173_prep2_gray_detector10_LRt_sparseScores.bp\n",
      "Error loading sparse scores for LRt: [Errno 2] No such file or directory: '/home/yuncong/CSHL_patch_scores/MD661/MD662&661-F58-2017.06.06-02.35.45_MD661_2_0173_prep2_gray/detector10/MD662&661-F58-2017.06.06-02.35.45_MD661_2_0173_prep2_gray_detector10_LRt_sparseScores.bp'\n"
     ]
    },
    {
     "name": "stdout",
     "output_type": "stream",
     "text": [
      "rm -rf \"/home/yuncong/CSHL_patch_scores/MD661/MD662&661-F58-2017.06.06-02.35.45_MD661_2_0173_prep2_gray/detector10/MD662&661-F58-2017.06.06-02.35.45_MD661_2_0173_prep2_gray_detector10_PBG_sparseScores.bp\" && mkdir -p \"/home/yuncong/CSHL_patch_scores/MD661/MD662&661-F58-2017.06.06-02.35.45_MD661_2_0173_prep2_gray/detector10\"\n",
      "aws s3 cp \"s3://mousebrainatlas-data/CSHL_patch_scores/MD661/MD662&661-F58-2017.06.06-02.35.45_MD661_2_0173_prep2_gray/detector10/MD662&661-F58-2017.06.06-02.35.45_MD661_2_0173_prep2_gray_detector10_PBG_sparseScores.bp\" \"/home/yuncong/CSHL_patch_scores/MD661/MD662&661-F58-2017.06.06-02.35.45_MD661_2_0173_prep2_gray/detector10/MD662&661-F58-2017.06.06-02.35.45_MD661_2_0173_prep2_gray_detector10_PBG_sparseScores.bp\"\n"
     ]
    },
    {
     "name": "stderr",
     "output_type": "stream",
     "text": [
      "File does not exist: /home/yuncong/CSHL_patch_scores/MD661/MD662&661-F58-2017.06.06-02.35.45_MD661_1_0172_prep2_gray/detector10/MD662&661-F58-2017.06.06-02.35.45_MD661_1_0172_prep2_gray_detector10_LRt_sparseScores.bp\n",
      "Error loading sparse scores for LRt: [Errno 2] No such file or directory: '/home/yuncong/CSHL_patch_scores/MD661/MD662&661-F58-2017.06.06-02.35.45_MD661_1_0172_prep2_gray/detector10/MD662&661-F58-2017.06.06-02.35.45_MD661_1_0172_prep2_gray_detector10_LRt_sparseScores.bp'\n"
     ]
    },
    {
     "name": "stdout",
     "output_type": "stream",
     "text": [
      "rm -rf \"/home/yuncong/CSHL_patch_scores/MD661/MD662&661-F58-2017.06.06-02.35.45_MD661_1_0172_prep2_gray/detector10/MD662&661-F58-2017.06.06-02.35.45_MD661_1_0172_prep2_gray_detector10_PBG_sparseScores.bp\" && mkdir -p \"/home/yuncong/CSHL_patch_scores/MD661/MD662&661-F58-2017.06.06-02.35.45_MD661_1_0172_prep2_gray/detector10\"\n",
      "aws s3 cp \"s3://mousebrainatlas-data/CSHL_patch_scores/MD661/MD662&661-F58-2017.06.06-02.35.45_MD661_1_0172_prep2_gray/detector10/MD662&661-F58-2017.06.06-02.35.45_MD661_1_0172_prep2_gray_detector10_PBG_sparseScores.bp\" \"/home/yuncong/CSHL_patch_scores/MD661/MD662&661-F58-2017.06.06-02.35.45_MD661_1_0172_prep2_gray/detector10/MD662&661-F58-2017.06.06-02.35.45_MD661_1_0172_prep2_gray_detector10_PBG_sparseScores.bp\"\n"
     ]
    },
    {
     "name": "stderr",
     "output_type": "stream",
     "text": [
      "File does not exist: /home/yuncong/CSHL_patch_scores/MD661/MD662&661-F57-2017.06.06-02.06.22_MD661_3_0171_prep2_gray/detector10/MD662&661-F57-2017.06.06-02.06.22_MD661_3_0171_prep2_gray_detector10_LRt_sparseScores.bp\n",
      "Error loading sparse scores for LRt: [Errno 2] No such file or directory: '/home/yuncong/CSHL_patch_scores/MD661/MD662&661-F57-2017.06.06-02.06.22_MD661_3_0171_prep2_gray/detector10/MD662&661-F57-2017.06.06-02.06.22_MD661_3_0171_prep2_gray_detector10_LRt_sparseScores.bp'\n"
     ]
    },
    {
     "name": "stdout",
     "output_type": "stream",
     "text": [
      "rm -rf \"/home/yuncong/CSHL_patch_scores/MD661/MD662&661-F57-2017.06.06-02.06.22_MD661_3_0171_prep2_gray/detector10/MD662&661-F57-2017.06.06-02.06.22_MD661_3_0171_prep2_gray_detector10_PBG_sparseScores.bp\" && mkdir -p \"/home/yuncong/CSHL_patch_scores/MD661/MD662&661-F57-2017.06.06-02.06.22_MD661_3_0171_prep2_gray/detector10\"\n",
      "aws s3 cp \"s3://mousebrainatlas-data/CSHL_patch_scores/MD661/MD662&661-F57-2017.06.06-02.06.22_MD661_3_0171_prep2_gray/detector10/MD662&661-F57-2017.06.06-02.06.22_MD661_3_0171_prep2_gray_detector10_PBG_sparseScores.bp\" \"/home/yuncong/CSHL_patch_scores/MD661/MD662&661-F57-2017.06.06-02.06.22_MD661_3_0171_prep2_gray/detector10/MD662&661-F57-2017.06.06-02.06.22_MD661_3_0171_prep2_gray_detector10_PBG_sparseScores.bp\"\n"
     ]
    },
    {
     "name": "stderr",
     "output_type": "stream",
     "text": [
      "File does not exist: /home/yuncong/CSHL_patch_scores/MD661/MD662&661-F58-2017.06.06-02.35.45_MD661_2_0173_prep2_gray/detector10/MD662&661-F58-2017.06.06-02.35.45_MD661_2_0173_prep2_gray_detector10_PBG_sparseScores.bp\n",
      "Error loading sparse scores for PBG: [Errno 2] No such file or directory: '/home/yuncong/CSHL_patch_scores/MD661/MD662&661-F58-2017.06.06-02.35.45_MD661_2_0173_prep2_gray/detector10/MD662&661-F58-2017.06.06-02.35.45_MD661_2_0173_prep2_gray_detector10_PBG_sparseScores.bp'\n"
     ]
    },
    {
     "name": "stdout",
     "output_type": "stream",
     "text": [
      "rm -rf \"/home/yuncong/CSHL_patch_scores/MD661/MD662&661-F58-2017.06.06-02.35.45_MD661_2_0173_prep2_gray/detector10/MD662&661-F58-2017.06.06-02.35.45_MD661_2_0173_prep2_gray_detector10_Pn_sparseScores.bp\" && mkdir -p \"/home/yuncong/CSHL_patch_scores/MD661/MD662&661-F58-2017.06.06-02.35.45_MD661_2_0173_prep2_gray/detector10\"\n",
      "aws s3 cp \"s3://mousebrainatlas-data/CSHL_patch_scores/MD661/MD662&661-F58-2017.06.06-02.35.45_MD661_2_0173_prep2_gray/detector10/MD662&661-F58-2017.06.06-02.35.45_MD661_2_0173_prep2_gray_detector10_Pn_sparseScores.bp\" \"/home/yuncong/CSHL_patch_scores/MD661/MD662&661-F58-2017.06.06-02.35.45_MD661_2_0173_prep2_gray/detector10/MD662&661-F58-2017.06.06-02.35.45_MD661_2_0173_prep2_gray_detector10_Pn_sparseScores.bp\"\n"
     ]
    },
    {
     "name": "stderr",
     "output_type": "stream",
     "text": [
      "File does not exist: /home/yuncong/CSHL_patch_scores/MD661/MD662&661-F58-2017.06.06-02.35.45_MD661_1_0172_prep2_gray/detector10/MD662&661-F58-2017.06.06-02.35.45_MD661_1_0172_prep2_gray_detector10_PBG_sparseScores.bp\n",
      "Error loading sparse scores for PBG: [Errno 2] No such file or directory: '/home/yuncong/CSHL_patch_scores/MD661/MD662&661-F58-2017.06.06-02.35.45_MD661_1_0172_prep2_gray/detector10/MD662&661-F58-2017.06.06-02.35.45_MD661_1_0172_prep2_gray_detector10_PBG_sparseScores.bp'\n"
     ]
    },
    {
     "name": "stdout",
     "output_type": "stream",
     "text": [
      "rm -rf \"/home/yuncong/CSHL_patch_scores/MD661/MD662&661-F58-2017.06.06-02.35.45_MD661_1_0172_prep2_gray/detector10/MD662&661-F58-2017.06.06-02.35.45_MD661_1_0172_prep2_gray_detector10_Pn_sparseScores.bp\" && mkdir -p \"/home/yuncong/CSHL_patch_scores/MD661/MD662&661-F58-2017.06.06-02.35.45_MD661_1_0172_prep2_gray/detector10\"\n",
      "aws s3 cp \"s3://mousebrainatlas-data/CSHL_patch_scores/MD661/MD662&661-F58-2017.06.06-02.35.45_MD661_1_0172_prep2_gray/detector10/MD662&661-F58-2017.06.06-02.35.45_MD661_1_0172_prep2_gray_detector10_Pn_sparseScores.bp\" \"/home/yuncong/CSHL_patch_scores/MD661/MD662&661-F58-2017.06.06-02.35.45_MD661_1_0172_prep2_gray/detector10/MD662&661-F58-2017.06.06-02.35.45_MD661_1_0172_prep2_gray_detector10_Pn_sparseScores.bp\"\n"
     ]
    },
    {
     "name": "stderr",
     "output_type": "stream",
     "text": [
      "File does not exist: /home/yuncong/CSHL_patch_scores/MD661/MD662&661-F57-2017.06.06-02.06.22_MD661_3_0171_prep2_gray/detector10/MD662&661-F57-2017.06.06-02.06.22_MD661_3_0171_prep2_gray_detector10_PBG_sparseScores.bp\n",
      "Error loading sparse scores for PBG: [Errno 2] No such file or directory: '/home/yuncong/CSHL_patch_scores/MD661/MD662&661-F57-2017.06.06-02.06.22_MD661_3_0171_prep2_gray/detector10/MD662&661-F57-2017.06.06-02.06.22_MD661_3_0171_prep2_gray_detector10_PBG_sparseScores.bp'\n"
     ]
    },
    {
     "name": "stdout",
     "output_type": "stream",
     "text": [
      "rm -rf \"/home/yuncong/CSHL_patch_scores/MD661/MD662&661-F57-2017.06.06-02.06.22_MD661_3_0171_prep2_gray/detector10/MD662&661-F57-2017.06.06-02.06.22_MD661_3_0171_prep2_gray_detector10_Pn_sparseScores.bp\" && mkdir -p \"/home/yuncong/CSHL_patch_scores/MD661/MD662&661-F57-2017.06.06-02.06.22_MD661_3_0171_prep2_gray/detector10\"\n",
      "aws s3 cp \"s3://mousebrainatlas-data/CSHL_patch_scores/MD661/MD662&661-F57-2017.06.06-02.06.22_MD661_3_0171_prep2_gray/detector10/MD662&661-F57-2017.06.06-02.06.22_MD661_3_0171_prep2_gray_detector10_Pn_sparseScores.bp\" \"/home/yuncong/CSHL_patch_scores/MD661/MD662&661-F57-2017.06.06-02.06.22_MD661_3_0171_prep2_gray/detector10/MD662&661-F57-2017.06.06-02.06.22_MD661_3_0171_prep2_gray_detector10_Pn_sparseScores.bp\"\n"
     ]
    },
    {
     "name": "stderr",
     "output_type": "stream",
     "text": [
      "File does not exist: /home/yuncong/CSHL_patch_scores/MD661/MD662&661-F58-2017.06.06-02.35.45_MD661_2_0173_prep2_gray/detector10/MD662&661-F58-2017.06.06-02.35.45_MD661_2_0173_prep2_gray_detector10_Pn_sparseScores.bp\n",
      "Error loading sparse scores for Pn: [Errno 2] No such file or directory: '/home/yuncong/CSHL_patch_scores/MD661/MD662&661-F58-2017.06.06-02.35.45_MD661_2_0173_prep2_gray/detector10/MD662&661-F58-2017.06.06-02.35.45_MD661_2_0173_prep2_gray_detector10_Pn_sparseScores.bp'\n"
     ]
    },
    {
     "name": "stdout",
     "output_type": "stream",
     "text": [
      "rm -rf \"/home/yuncong/CSHL_patch_scores/MD661/MD662&661-F58-2017.06.06-02.35.45_MD661_2_0173_prep2_gray/detector10/MD662&661-F58-2017.06.06-02.35.45_MD661_2_0173_prep2_gray_detector10_RMC_sparseScores.bp\" && mkdir -p \"/home/yuncong/CSHL_patch_scores/MD661/MD662&661-F58-2017.06.06-02.35.45_MD661_2_0173_prep2_gray/detector10\"\n",
      "aws s3 cp \"s3://mousebrainatlas-data/CSHL_patch_scores/MD661/MD662&661-F58-2017.06.06-02.35.45_MD661_2_0173_prep2_gray/detector10/MD662&661-F58-2017.06.06-02.35.45_MD661_2_0173_prep2_gray_detector10_RMC_sparseScores.bp\" \"/home/yuncong/CSHL_patch_scores/MD661/MD662&661-F58-2017.06.06-02.35.45_MD661_2_0173_prep2_gray/detector10/MD662&661-F58-2017.06.06-02.35.45_MD661_2_0173_prep2_gray_detector10_RMC_sparseScores.bp\"\n"
     ]
    },
    {
     "name": "stderr",
     "output_type": "stream",
     "text": [
      "File does not exist: /home/yuncong/CSHL_patch_scores/MD661/MD662&661-F58-2017.06.06-02.35.45_MD661_1_0172_prep2_gray/detector10/MD662&661-F58-2017.06.06-02.35.45_MD661_1_0172_prep2_gray_detector10_Pn_sparseScores.bp\n",
      "Error loading sparse scores for Pn: [Errno 2] No such file or directory: '/home/yuncong/CSHL_patch_scores/MD661/MD662&661-F58-2017.06.06-02.35.45_MD661_1_0172_prep2_gray/detector10/MD662&661-F58-2017.06.06-02.35.45_MD661_1_0172_prep2_gray_detector10_Pn_sparseScores.bp'\n"
     ]
    },
    {
     "name": "stdout",
     "output_type": "stream",
     "text": [
      "rm -rf \"/home/yuncong/CSHL_patch_scores/MD661/MD662&661-F58-2017.06.06-02.35.45_MD661_1_0172_prep2_gray/detector10/MD662&661-F58-2017.06.06-02.35.45_MD661_1_0172_prep2_gray_detector10_RMC_sparseScores.bp\" && mkdir -p \"/home/yuncong/CSHL_patch_scores/MD661/MD662&661-F58-2017.06.06-02.35.45_MD661_1_0172_prep2_gray/detector10\"\n",
      "aws s3 cp \"s3://mousebrainatlas-data/CSHL_patch_scores/MD661/MD662&661-F58-2017.06.06-02.35.45_MD661_1_0172_prep2_gray/detector10/MD662&661-F58-2017.06.06-02.35.45_MD661_1_0172_prep2_gray_detector10_RMC_sparseScores.bp\" \"/home/yuncong/CSHL_patch_scores/MD661/MD662&661-F58-2017.06.06-02.35.45_MD661_1_0172_prep2_gray/detector10/MD662&661-F58-2017.06.06-02.35.45_MD661_1_0172_prep2_gray_detector10_RMC_sparseScores.bp\"\n"
     ]
    },
    {
     "name": "stderr",
     "output_type": "stream",
     "text": [
      "File does not exist: /home/yuncong/CSHL_patch_scores/MD661/MD662&661-F57-2017.06.06-02.06.22_MD661_3_0171_prep2_gray/detector10/MD662&661-F57-2017.06.06-02.06.22_MD661_3_0171_prep2_gray_detector10_Pn_sparseScores.bp\n",
      "Error loading sparse scores for Pn: [Errno 2] No such file or directory: '/home/yuncong/CSHL_patch_scores/MD661/MD662&661-F57-2017.06.06-02.06.22_MD661_3_0171_prep2_gray/detector10/MD662&661-F57-2017.06.06-02.06.22_MD661_3_0171_prep2_gray_detector10_Pn_sparseScores.bp'\n"
     ]
    },
    {
     "name": "stdout",
     "output_type": "stream",
     "text": [
      "rm -rf \"/home/yuncong/CSHL_patch_scores/MD661/MD662&661-F57-2017.06.06-02.06.22_MD661_3_0171_prep2_gray/detector10/MD662&661-F57-2017.06.06-02.06.22_MD661_3_0171_prep2_gray_detector10_RMC_sparseScores.bp\" && mkdir -p \"/home/yuncong/CSHL_patch_scores/MD661/MD662&661-F57-2017.06.06-02.06.22_MD661_3_0171_prep2_gray/detector10\"\n",
      "aws s3 cp \"s3://mousebrainatlas-data/CSHL_patch_scores/MD661/MD662&661-F57-2017.06.06-02.06.22_MD661_3_0171_prep2_gray/detector10/MD662&661-F57-2017.06.06-02.06.22_MD661_3_0171_prep2_gray_detector10_RMC_sparseScores.bp\" \"/home/yuncong/CSHL_patch_scores/MD661/MD662&661-F57-2017.06.06-02.06.22_MD661_3_0171_prep2_gray/detector10/MD662&661-F57-2017.06.06-02.06.22_MD661_3_0171_prep2_gray_detector10_RMC_sparseScores.bp\"\n"
     ]
    },
    {
     "name": "stderr",
     "output_type": "stream",
     "text": [
      "File does not exist: /home/yuncong/CSHL_patch_scores/MD661/MD662&661-F58-2017.06.06-02.35.45_MD661_2_0173_prep2_gray/detector10/MD662&661-F58-2017.06.06-02.35.45_MD661_2_0173_prep2_gray_detector10_RMC_sparseScores.bp\n",
      "Error loading sparse scores for RMC: [Errno 2] No such file or directory: '/home/yuncong/CSHL_patch_scores/MD661/MD662&661-F58-2017.06.06-02.35.45_MD661_2_0173_prep2_gray/detector10/MD662&661-F58-2017.06.06-02.35.45_MD661_2_0173_prep2_gray_detector10_RMC_sparseScores.bp'\n"
     ]
    },
    {
     "name": "stdout",
     "output_type": "stream",
     "text": [
      "rm -rf \"/home/yuncong/CSHL_patch_scores/MD661/MD662&661-F58-2017.06.06-02.35.45_MD661_2_0173_prep2_gray/detector10/MD662&661-F58-2017.06.06-02.35.45_MD661_2_0173_prep2_gray_detector10_RtTg_sparseScores.bp\" && mkdir -p \"/home/yuncong/CSHL_patch_scores/MD661/MD662&661-F58-2017.06.06-02.35.45_MD661_2_0173_prep2_gray/detector10\"\n",
      "aws s3 cp \"s3://mousebrainatlas-data/CSHL_patch_scores/MD661/MD662&661-F58-2017.06.06-02.35.45_MD661_2_0173_prep2_gray/detector10/MD662&661-F58-2017.06.06-02.35.45_MD661_2_0173_prep2_gray_detector10_RtTg_sparseScores.bp\" \"/home/yuncong/CSHL_patch_scores/MD661/MD662&661-F58-2017.06.06-02.35.45_MD661_2_0173_prep2_gray/detector10/MD662&661-F58-2017.06.06-02.35.45_MD661_2_0173_prep2_gray_detector10_RtTg_sparseScores.bp\"\n"
     ]
    },
    {
     "name": "stderr",
     "output_type": "stream",
     "text": [
      "File does not exist: /home/yuncong/CSHL_patch_scores/MD661/MD662&661-F58-2017.06.06-02.35.45_MD661_1_0172_prep2_gray/detector10/MD662&661-F58-2017.06.06-02.35.45_MD661_1_0172_prep2_gray_detector10_RMC_sparseScores.bp\n",
      "Error loading sparse scores for RMC: [Errno 2] No such file or directory: '/home/yuncong/CSHL_patch_scores/MD661/MD662&661-F58-2017.06.06-02.35.45_MD661_1_0172_prep2_gray/detector10/MD662&661-F58-2017.06.06-02.35.45_MD661_1_0172_prep2_gray_detector10_RMC_sparseScores.bp'\n"
     ]
    },
    {
     "name": "stdout",
     "output_type": "stream",
     "text": [
      "rm -rf \"/home/yuncong/CSHL_patch_scores/MD661/MD662&661-F58-2017.06.06-02.35.45_MD661_1_0172_prep2_gray/detector10/MD662&661-F58-2017.06.06-02.35.45_MD661_1_0172_prep2_gray_detector10_RtTg_sparseScores.bp\" && mkdir -p \"/home/yuncong/CSHL_patch_scores/MD661/MD662&661-F58-2017.06.06-02.35.45_MD661_1_0172_prep2_gray/detector10\"\n",
      "aws s3 cp \"s3://mousebrainatlas-data/CSHL_patch_scores/MD661/MD662&661-F58-2017.06.06-02.35.45_MD661_1_0172_prep2_gray/detector10/MD662&661-F58-2017.06.06-02.35.45_MD661_1_0172_prep2_gray_detector10_RtTg_sparseScores.bp\" \"/home/yuncong/CSHL_patch_scores/MD661/MD662&661-F58-2017.06.06-02.35.45_MD661_1_0172_prep2_gray/detector10/MD662&661-F58-2017.06.06-02.35.45_MD661_1_0172_prep2_gray_detector10_RtTg_sparseScores.bp\"\n"
     ]
    },
    {
     "name": "stderr",
     "output_type": "stream",
     "text": [
      "File does not exist: /home/yuncong/CSHL_patch_scores/MD661/MD662&661-F57-2017.06.06-02.06.22_MD661_3_0171_prep2_gray/detector10/MD662&661-F57-2017.06.06-02.06.22_MD661_3_0171_prep2_gray_detector10_RMC_sparseScores.bp\n",
      "Error loading sparse scores for RMC: [Errno 2] No such file or directory: '/home/yuncong/CSHL_patch_scores/MD661/MD662&661-F57-2017.06.06-02.06.22_MD661_3_0171_prep2_gray/detector10/MD662&661-F57-2017.06.06-02.06.22_MD661_3_0171_prep2_gray_detector10_RMC_sparseScores.bp'\n"
     ]
    },
    {
     "name": "stdout",
     "output_type": "stream",
     "text": [
      "rm -rf \"/home/yuncong/CSHL_patch_scores/MD661/MD662&661-F57-2017.06.06-02.06.22_MD661_3_0171_prep2_gray/detector10/MD662&661-F57-2017.06.06-02.06.22_MD661_3_0171_prep2_gray_detector10_RtTg_sparseScores.bp\" && mkdir -p \"/home/yuncong/CSHL_patch_scores/MD661/MD662&661-F57-2017.06.06-02.06.22_MD661_3_0171_prep2_gray/detector10\"\n",
      "aws s3 cp \"s3://mousebrainatlas-data/CSHL_patch_scores/MD661/MD662&661-F57-2017.06.06-02.06.22_MD661_3_0171_prep2_gray/detector10/MD662&661-F57-2017.06.06-02.06.22_MD661_3_0171_prep2_gray_detector10_RtTg_sparseScores.bp\" \"/home/yuncong/CSHL_patch_scores/MD661/MD662&661-F57-2017.06.06-02.06.22_MD661_3_0171_prep2_gray/detector10/MD662&661-F57-2017.06.06-02.06.22_MD661_3_0171_prep2_gray_detector10_RtTg_sparseScores.bp\"\n"
     ]
    },
    {
     "name": "stderr",
     "output_type": "stream",
     "text": [
      "File does not exist: /home/yuncong/CSHL_patch_scores/MD661/MD662&661-F58-2017.06.06-02.35.45_MD661_2_0173_prep2_gray/detector10/MD662&661-F58-2017.06.06-02.35.45_MD661_2_0173_prep2_gray_detector10_RtTg_sparseScores.bp\n",
      "Error loading sparse scores for RtTg: [Errno 2] No such file or directory: '/home/yuncong/CSHL_patch_scores/MD661/MD662&661-F58-2017.06.06-02.35.45_MD661_2_0173_prep2_gray/detector10/MD662&661-F58-2017.06.06-02.35.45_MD661_2_0173_prep2_gray_detector10_RtTg_sparseScores.bp'\n"
     ]
    },
    {
     "name": "stdout",
     "output_type": "stream",
     "text": [
      "rm -rf \"/home/yuncong/CSHL_patch_scores/MD661/MD662&661-F58-2017.06.06-02.35.45_MD661_2_0173_prep2_gray/detector10/MD662&661-F58-2017.06.06-02.35.45_MD661_2_0173_prep2_gray_detector10_SC_sparseScores.bp\" && mkdir -p \"/home/yuncong/CSHL_patch_scores/MD661/MD662&661-F58-2017.06.06-02.35.45_MD661_2_0173_prep2_gray/detector10\"\n",
      "aws s3 cp \"s3://mousebrainatlas-data/CSHL_patch_scores/MD661/MD662&661-F58-2017.06.06-02.35.45_MD661_2_0173_prep2_gray/detector10/MD662&661-F58-2017.06.06-02.35.45_MD661_2_0173_prep2_gray_detector10_SC_sparseScores.bp\" \"/home/yuncong/CSHL_patch_scores/MD661/MD662&661-F58-2017.06.06-02.35.45_MD661_2_0173_prep2_gray/detector10/MD662&661-F58-2017.06.06-02.35.45_MD661_2_0173_prep2_gray_detector10_SC_sparseScores.bp\"\n"
     ]
    },
    {
     "name": "stderr",
     "output_type": "stream",
     "text": [
      "File does not exist: /home/yuncong/CSHL_patch_scores/MD661/MD662&661-F58-2017.06.06-02.35.45_MD661_1_0172_prep2_gray/detector10/MD662&661-F58-2017.06.06-02.35.45_MD661_1_0172_prep2_gray_detector10_RtTg_sparseScores.bp\n",
      "Error loading sparse scores for RtTg: [Errno 2] No such file or directory: '/home/yuncong/CSHL_patch_scores/MD661/MD662&661-F58-2017.06.06-02.35.45_MD661_1_0172_prep2_gray/detector10/MD662&661-F58-2017.06.06-02.35.45_MD661_1_0172_prep2_gray_detector10_RtTg_sparseScores.bp'\n"
     ]
    },
    {
     "name": "stdout",
     "output_type": "stream",
     "text": [
      "rm -rf \"/home/yuncong/CSHL_patch_scores/MD661/MD662&661-F58-2017.06.06-02.35.45_MD661_1_0172_prep2_gray/detector10/MD662&661-F58-2017.06.06-02.35.45_MD661_1_0172_prep2_gray_detector10_SC_sparseScores.bp\" && mkdir -p \"/home/yuncong/CSHL_patch_scores/MD661/MD662&661-F58-2017.06.06-02.35.45_MD661_1_0172_prep2_gray/detector10\"\n",
      "aws s3 cp \"s3://mousebrainatlas-data/CSHL_patch_scores/MD661/MD662&661-F58-2017.06.06-02.35.45_MD661_1_0172_prep2_gray/detector10/MD662&661-F58-2017.06.06-02.35.45_MD661_1_0172_prep2_gray_detector10_SC_sparseScores.bp\" \"/home/yuncong/CSHL_patch_scores/MD661/MD662&661-F58-2017.06.06-02.35.45_MD661_1_0172_prep2_gray/detector10/MD662&661-F58-2017.06.06-02.35.45_MD661_1_0172_prep2_gray_detector10_SC_sparseScores.bp\"\n"
     ]
    },
    {
     "name": "stderr",
     "output_type": "stream",
     "text": [
      "File does not exist: /home/yuncong/CSHL_patch_scores/MD661/MD662&661-F57-2017.06.06-02.06.22_MD661_3_0171_prep2_gray/detector10/MD662&661-F57-2017.06.06-02.06.22_MD661_3_0171_prep2_gray_detector10_RtTg_sparseScores.bp\n",
      "Error loading sparse scores for RtTg: [Errno 2] No such file or directory: '/home/yuncong/CSHL_patch_scores/MD661/MD662&661-F57-2017.06.06-02.06.22_MD661_3_0171_prep2_gray/detector10/MD662&661-F57-2017.06.06-02.06.22_MD661_3_0171_prep2_gray_detector10_RtTg_sparseScores.bp'\n"
     ]
    },
    {
     "name": "stdout",
     "output_type": "stream",
     "text": [
      "rm -rf \"/home/yuncong/CSHL_patch_scores/MD661/MD662&661-F57-2017.06.06-02.06.22_MD661_3_0171_prep2_gray/detector10/MD662&661-F57-2017.06.06-02.06.22_MD661_3_0171_prep2_gray_detector10_SC_sparseScores.bp\" && mkdir -p \"/home/yuncong/CSHL_patch_scores/MD661/MD662&661-F57-2017.06.06-02.06.22_MD661_3_0171_prep2_gray/detector10\"\n",
      "aws s3 cp \"s3://mousebrainatlas-data/CSHL_patch_scores/MD661/MD662&661-F57-2017.06.06-02.06.22_MD661_3_0171_prep2_gray/detector10/MD662&661-F57-2017.06.06-02.06.22_MD661_3_0171_prep2_gray_detector10_SC_sparseScores.bp\" \"/home/yuncong/CSHL_patch_scores/MD661/MD662&661-F57-2017.06.06-02.06.22_MD661_3_0171_prep2_gray/detector10/MD662&661-F57-2017.06.06-02.06.22_MD661_3_0171_prep2_gray_detector10_SC_sparseScores.bp\"\n"
     ]
    },
    {
     "name": "stderr",
     "output_type": "stream",
     "text": [
      "File does not exist: /home/yuncong/CSHL_patch_scores/MD661/MD662&661-F58-2017.06.06-02.35.45_MD661_2_0173_prep2_gray/detector10/MD662&661-F58-2017.06.06-02.35.45_MD661_2_0173_prep2_gray_detector10_SC_sparseScores.bp\n",
      "Error loading sparse scores for SC: [Errno 2] No such file or directory: '/home/yuncong/CSHL_patch_scores/MD661/MD662&661-F58-2017.06.06-02.35.45_MD661_2_0173_prep2_gray/detector10/MD662&661-F58-2017.06.06-02.35.45_MD661_2_0173_prep2_gray_detector10_SC_sparseScores.bp'\n"
     ]
    },
    {
     "name": "stdout",
     "output_type": "stream",
     "text": [
      "rm -rf \"/home/yuncong/CSHL_patch_scores/MD661/MD662&661-F58-2017.06.06-02.35.45_MD661_2_0173_prep2_gray/detector10/MD662&661-F58-2017.06.06-02.35.45_MD661_2_0173_prep2_gray_detector10_SNC_sparseScores.bp\" && mkdir -p \"/home/yuncong/CSHL_patch_scores/MD661/MD662&661-F58-2017.06.06-02.35.45_MD661_2_0173_prep2_gray/detector10\"\n",
      "aws s3 cp \"s3://mousebrainatlas-data/CSHL_patch_scores/MD661/MD662&661-F58-2017.06.06-02.35.45_MD661_2_0173_prep2_gray/detector10/MD662&661-F58-2017.06.06-02.35.45_MD661_2_0173_prep2_gray_detector10_SNC_sparseScores.bp\" \"/home/yuncong/CSHL_patch_scores/MD661/MD662&661-F58-2017.06.06-02.35.45_MD661_2_0173_prep2_gray/detector10/MD662&661-F58-2017.06.06-02.35.45_MD661_2_0173_prep2_gray_detector10_SNC_sparseScores.bp\"\n"
     ]
    },
    {
     "name": "stderr",
     "output_type": "stream",
     "text": [
      "File does not exist: /home/yuncong/CSHL_patch_scores/MD661/MD662&661-F58-2017.06.06-02.35.45_MD661_1_0172_prep2_gray/detector10/MD662&661-F58-2017.06.06-02.35.45_MD661_1_0172_prep2_gray_detector10_SC_sparseScores.bp\n",
      "Error loading sparse scores for SC: [Errno 2] No such file or directory: '/home/yuncong/CSHL_patch_scores/MD661/MD662&661-F58-2017.06.06-02.35.45_MD661_1_0172_prep2_gray/detector10/MD662&661-F58-2017.06.06-02.35.45_MD661_1_0172_prep2_gray_detector10_SC_sparseScores.bp'\n"
     ]
    },
    {
     "name": "stdout",
     "output_type": "stream",
     "text": [
      "rm -rf \"/home/yuncong/CSHL_patch_scores/MD661/MD662&661-F58-2017.06.06-02.35.45_MD661_1_0172_prep2_gray/detector10/MD662&661-F58-2017.06.06-02.35.45_MD661_1_0172_prep2_gray_detector10_SNC_sparseScores.bp\" && mkdir -p \"/home/yuncong/CSHL_patch_scores/MD661/MD662&661-F58-2017.06.06-02.35.45_MD661_1_0172_prep2_gray/detector10\"\n",
      "aws s3 cp \"s3://mousebrainatlas-data/CSHL_patch_scores/MD661/MD662&661-F58-2017.06.06-02.35.45_MD661_1_0172_prep2_gray/detector10/MD662&661-F58-2017.06.06-02.35.45_MD661_1_0172_prep2_gray_detector10_SNC_sparseScores.bp\" \"/home/yuncong/CSHL_patch_scores/MD661/MD662&661-F58-2017.06.06-02.35.45_MD661_1_0172_prep2_gray/detector10/MD662&661-F58-2017.06.06-02.35.45_MD661_1_0172_prep2_gray_detector10_SNC_sparseScores.bp\"\n"
     ]
    },
    {
     "name": "stderr",
     "output_type": "stream",
     "text": [
      "File does not exist: /home/yuncong/CSHL_patch_scores/MD661/MD662&661-F57-2017.06.06-02.06.22_MD661_3_0171_prep2_gray/detector10/MD662&661-F57-2017.06.06-02.06.22_MD661_3_0171_prep2_gray_detector10_SC_sparseScores.bp\n",
      "Error loading sparse scores for SC: [Errno 2] No such file or directory: '/home/yuncong/CSHL_patch_scores/MD661/MD662&661-F57-2017.06.06-02.06.22_MD661_3_0171_prep2_gray/detector10/MD662&661-F57-2017.06.06-02.06.22_MD661_3_0171_prep2_gray_detector10_SC_sparseScores.bp'\n"
     ]
    },
    {
     "name": "stdout",
     "output_type": "stream",
     "text": [
      "rm -rf \"/home/yuncong/CSHL_patch_scores/MD661/MD662&661-F57-2017.06.06-02.06.22_MD661_3_0171_prep2_gray/detector10/MD662&661-F57-2017.06.06-02.06.22_MD661_3_0171_prep2_gray_detector10_SNC_sparseScores.bp\" && mkdir -p \"/home/yuncong/CSHL_patch_scores/MD661/MD662&661-F57-2017.06.06-02.06.22_MD661_3_0171_prep2_gray/detector10\"\n",
      "aws s3 cp \"s3://mousebrainatlas-data/CSHL_patch_scores/MD661/MD662&661-F57-2017.06.06-02.06.22_MD661_3_0171_prep2_gray/detector10/MD662&661-F57-2017.06.06-02.06.22_MD661_3_0171_prep2_gray_detector10_SNC_sparseScores.bp\" \"/home/yuncong/CSHL_patch_scores/MD661/MD662&661-F57-2017.06.06-02.06.22_MD661_3_0171_prep2_gray/detector10/MD662&661-F57-2017.06.06-02.06.22_MD661_3_0171_prep2_gray_detector10_SNC_sparseScores.bp\"\n"
     ]
    },
    {
     "name": "stderr",
     "output_type": "stream",
     "text": [
      "File does not exist: /home/yuncong/CSHL_patch_scores/MD661/MD662&661-F58-2017.06.06-02.35.45_MD661_2_0173_prep2_gray/detector10/MD662&661-F58-2017.06.06-02.35.45_MD661_2_0173_prep2_gray_detector10_SNC_sparseScores.bp\n",
      "Error loading sparse scores for SNC: [Errno 2] No such file or directory: '/home/yuncong/CSHL_patch_scores/MD661/MD662&661-F58-2017.06.06-02.35.45_MD661_2_0173_prep2_gray/detector10/MD662&661-F58-2017.06.06-02.35.45_MD661_2_0173_prep2_gray_detector10_SNC_sparseScores.bp'\n"
     ]
    },
    {
     "name": "stdout",
     "output_type": "stream",
     "text": [
      "rm -rf \"/home/yuncong/CSHL_patch_scores/MD661/MD662&661-F58-2017.06.06-02.35.45_MD661_2_0173_prep2_gray/detector10/MD662&661-F58-2017.06.06-02.35.45_MD661_2_0173_prep2_gray_detector10_SNR_sparseScores.bp\" && mkdir -p \"/home/yuncong/CSHL_patch_scores/MD661/MD662&661-F58-2017.06.06-02.35.45_MD661_2_0173_prep2_gray/detector10\"\n",
      "aws s3 cp \"s3://mousebrainatlas-data/CSHL_patch_scores/MD661/MD662&661-F58-2017.06.06-02.35.45_MD661_2_0173_prep2_gray/detector10/MD662&661-F58-2017.06.06-02.35.45_MD661_2_0173_prep2_gray_detector10_SNR_sparseScores.bp\" \"/home/yuncong/CSHL_patch_scores/MD661/MD662&661-F58-2017.06.06-02.35.45_MD661_2_0173_prep2_gray/detector10/MD662&661-F58-2017.06.06-02.35.45_MD661_2_0173_prep2_gray_detector10_SNR_sparseScores.bp\"\n"
     ]
    },
    {
     "name": "stderr",
     "output_type": "stream",
     "text": [
      "File does not exist: /home/yuncong/CSHL_patch_scores/MD661/MD662&661-F58-2017.06.06-02.35.45_MD661_1_0172_prep2_gray/detector10/MD662&661-F58-2017.06.06-02.35.45_MD661_1_0172_prep2_gray_detector10_SNC_sparseScores.bp\n",
      "Error loading sparse scores for SNC: [Errno 2] No such file or directory: '/home/yuncong/CSHL_patch_scores/MD661/MD662&661-F58-2017.06.06-02.35.45_MD661_1_0172_prep2_gray/detector10/MD662&661-F58-2017.06.06-02.35.45_MD661_1_0172_prep2_gray_detector10_SNC_sparseScores.bp'\n",
      "File does not exist: /home/yuncong/CSHL_patch_scores/MD661/MD662&661-F57-2017.06.06-02.06.22_MD661_3_0171_prep2_gray/detector10/MD662&661-F57-2017.06.06-02.06.22_MD661_3_0171_prep2_gray_detector10_SNC_sparseScores.bp\n",
      "Error loading sparse scores for SNC: [Errno 2] No such file or directory: '/home/yuncong/CSHL_patch_scores/MD661/MD662&661-F57-2017.06.06-02.06.22_MD661_3_0171_prep2_gray/detector10/MD662&661-F57-2017.06.06-02.06.22_MD661_3_0171_prep2_gray_detector10_SNC_sparseScores.bp'\n"
     ]
    },
    {
     "name": "stdout",
     "output_type": "stream",
     "text": [
      "rm -rf \"/home/yuncong/CSHL_patch_scores/MD661/MD662&661-F58-2017.06.06-02.35.45_MD661_1_0172_prep2_gray/detector10/MD662&661-F58-2017.06.06-02.35.45_MD661_1_0172_prep2_gray_detector10_SNR_sparseScores.bp\" && mkdir -p \"/home/yuncong/CSHL_patch_scores/MD661/MD662&661-F58-2017.06.06-02.35.45_MD661_1_0172_prep2_gray/detector10\"\n",
      "rm -rf \"/home/yuncong/CSHL_patch_scores/MD661/MD662&661-F57-2017.06.06-02.06.22_MD661_3_0171_prep2_gray/detector10/MD662&661-F57-2017.06.06-02.06.22_MD661_3_0171_prep2_gray_detector10_SNR_sparseScores.bp\" && mkdir -p \"/home/yuncong/CSHL_patch_scores/MD661/MD662&661-F57-2017.06.06-02.06.22_MD661_3_0171_prep2_gray/detector10\"\n",
      "aws s3 cp \"s3://mousebrainatlas-data/CSHL_patch_scores/MD661/MD662&661-F57-2017.06.06-02.06.22_MD661_3_0171_prep2_gray/detector10/MD662&661-F57-2017.06.06-02.06.22_MD661_3_0171_prep2_gray_detector10_SNR_sparseScores.bp\" \"/home/yuncong/CSHL_patch_scores/MD661/MD662&661-F57-2017.06.06-02.06.22_MD661_3_0171_prep2_gray/detector10/MD662&661-F57-2017.06.06-02.06.22_MD661_3_0171_prep2_gray_detector10_SNR_sparseScores.bp\"\n",
      "aws s3 cp \"s3://mousebrainatlas-data/CSHL_patch_scores/MD661/MD662&661-F58-2017.06.06-02.35.45_MD661_1_0172_prep2_gray/detector10/MD662&661-F58-2017.06.06-02.35.45_MD661_1_0172_prep2_gray_detector10_SNR_sparseScores.bp\" \"/home/yuncong/CSHL_patch_scores/MD661/MD662&661-F58-2017.06.06-02.35.45_MD661_1_0172_prep2_gray/detector10/MD662&661-F58-2017.06.06-02.35.45_MD661_1_0172_prep2_gray_detector10_SNR_sparseScores.bp\"\n"
     ]
    },
    {
     "name": "stderr",
     "output_type": "stream",
     "text": [
      "File does not exist: /home/yuncong/CSHL_patch_scores/MD661/MD662&661-F58-2017.06.06-02.35.45_MD661_2_0173_prep2_gray/detector10/MD662&661-F58-2017.06.06-02.35.45_MD661_2_0173_prep2_gray_detector10_SNR_sparseScores.bp\n",
      "Error loading sparse scores for SNR: [Errno 2] No such file or directory: '/home/yuncong/CSHL_patch_scores/MD661/MD662&661-F58-2017.06.06-02.35.45_MD661_2_0173_prep2_gray/detector10/MD662&661-F58-2017.06.06-02.35.45_MD661_2_0173_prep2_gray_detector10_SNR_sparseScores.bp'\n"
     ]
    },
    {
     "name": "stdout",
     "output_type": "stream",
     "text": [
      "rm -rf \"/home/yuncong/CSHL_patch_scores/MD661/MD662&661-F58-2017.06.06-02.35.45_MD661_2_0173_prep2_gray/detector10/MD662&661-F58-2017.06.06-02.35.45_MD661_2_0173_prep2_gray_detector10_Sp5C_sparseScores.bp\" && mkdir -p \"/home/yuncong/CSHL_patch_scores/MD661/MD662&661-F58-2017.06.06-02.35.45_MD661_2_0173_prep2_gray/detector10\"\n",
      "aws s3 cp \"s3://mousebrainatlas-data/CSHL_patch_scores/MD661/MD662&661-F58-2017.06.06-02.35.45_MD661_2_0173_prep2_gray/detector10/MD662&661-F58-2017.06.06-02.35.45_MD661_2_0173_prep2_gray_detector10_Sp5C_sparseScores.bp\" \"/home/yuncong/CSHL_patch_scores/MD661/MD662&661-F58-2017.06.06-02.35.45_MD661_2_0173_prep2_gray/detector10/MD662&661-F58-2017.06.06-02.35.45_MD661_2_0173_prep2_gray_detector10_Sp5C_sparseScores.bp\"\n"
     ]
    },
    {
     "name": "stderr",
     "output_type": "stream",
     "text": [
      "File does not exist: /home/yuncong/CSHL_patch_scores/MD661/MD662&661-F58-2017.06.06-02.35.45_MD661_1_0172_prep2_gray/detector10/MD662&661-F58-2017.06.06-02.35.45_MD661_1_0172_prep2_gray_detector10_SNR_sparseScores.bp\n",
      "Error loading sparse scores for SNR: [Errno 2] No such file or directory: '/home/yuncong/CSHL_patch_scores/MD661/MD662&661-F58-2017.06.06-02.35.45_MD661_1_0172_prep2_gray/detector10/MD662&661-F58-2017.06.06-02.35.45_MD661_1_0172_prep2_gray_detector10_SNR_sparseScores.bp'\n"
     ]
    },
    {
     "name": "stdout",
     "output_type": "stream",
     "text": [
      "rm -rf \"/home/yuncong/CSHL_patch_scores/MD661/MD662&661-F58-2017.06.06-02.35.45_MD661_1_0172_prep2_gray/detector10/MD662&661-F58-2017.06.06-02.35.45_MD661_1_0172_prep2_gray_detector10_Sp5C_sparseScores.bp\" && mkdir -p \"/home/yuncong/CSHL_patch_scores/MD661/MD662&661-F58-2017.06.06-02.35.45_MD661_1_0172_prep2_gray/detector10\"\n"
     ]
    },
    {
     "name": "stderr",
     "output_type": "stream",
     "text": [
      "File does not exist: /home/yuncong/CSHL_patch_scores/MD661/MD662&661-F57-2017.06.06-02.06.22_MD661_3_0171_prep2_gray/detector10/MD662&661-F57-2017.06.06-02.06.22_MD661_3_0171_prep2_gray_detector10_SNR_sparseScores.bp\n",
      "Error loading sparse scores for SNR: [Errno 2] No such file or directory: '/home/yuncong/CSHL_patch_scores/MD661/MD662&661-F57-2017.06.06-02.06.22_MD661_3_0171_prep2_gray/detector10/MD662&661-F57-2017.06.06-02.06.22_MD661_3_0171_prep2_gray_detector10_SNR_sparseScores.bp'\n"
     ]
    },
    {
     "name": "stdout",
     "output_type": "stream",
     "text": [
      "rm -rf \"/home/yuncong/CSHL_patch_scores/MD661/MD662&661-F57-2017.06.06-02.06.22_MD661_3_0171_prep2_gray/detector10/MD662&661-F57-2017.06.06-02.06.22_MD661_3_0171_prep2_gray_detector10_Sp5C_sparseScores.bp\" && mkdir -p \"/home/yuncong/CSHL_patch_scores/MD661/MD662&661-F57-2017.06.06-02.06.22_MD661_3_0171_prep2_gray/detector10\"\n",
      "aws s3 cp \"s3://mousebrainatlas-data/CSHL_patch_scores/MD661/MD662&661-F58-2017.06.06-02.35.45_MD661_1_0172_prep2_gray/detector10/MD662&661-F58-2017.06.06-02.35.45_MD661_1_0172_prep2_gray_detector10_Sp5C_sparseScores.bp\" \"/home/yuncong/CSHL_patch_scores/MD661/MD662&661-F58-2017.06.06-02.35.45_MD661_1_0172_prep2_gray/detector10/MD662&661-F58-2017.06.06-02.35.45_MD661_1_0172_prep2_gray_detector10_Sp5C_sparseScores.bp\"\n",
      "aws s3 cp \"s3://mousebrainatlas-data/CSHL_patch_scores/MD661/MD662&661-F57-2017.06.06-02.06.22_MD661_3_0171_prep2_gray/detector10/MD662&661-F57-2017.06.06-02.06.22_MD661_3_0171_prep2_gray_detector10_Sp5C_sparseScores.bp\" \"/home/yuncong/CSHL_patch_scores/MD661/MD662&661-F57-2017.06.06-02.06.22_MD661_3_0171_prep2_gray/detector10/MD662&661-F57-2017.06.06-02.06.22_MD661_3_0171_prep2_gray_detector10_Sp5C_sparseScores.bp\"\n"
     ]
    },
    {
     "name": "stderr",
     "output_type": "stream",
     "text": [
      "File does not exist: /home/yuncong/CSHL_patch_scores/MD661/MD662&661-F58-2017.06.06-02.35.45_MD661_2_0173_prep2_gray/detector10/MD662&661-F58-2017.06.06-02.35.45_MD661_2_0173_prep2_gray_detector10_Sp5C_sparseScores.bp\n",
      "Error loading sparse scores for Sp5C: [Errno 2] No such file or directory: '/home/yuncong/CSHL_patch_scores/MD661/MD662&661-F58-2017.06.06-02.35.45_MD661_2_0173_prep2_gray/detector10/MD662&661-F58-2017.06.06-02.35.45_MD661_2_0173_prep2_gray_detector10_Sp5C_sparseScores.bp'\n"
     ]
    },
    {
     "name": "stdout",
     "output_type": "stream",
     "text": [
      "rm -rf \"/home/yuncong/CSHL_patch_scores/MD661/MD662&661-F58-2017.06.06-02.35.45_MD661_2_0173_prep2_gray/detector10/MD662&661-F58-2017.06.06-02.35.45_MD661_2_0173_prep2_gray_detector10_Sp5I_sparseScores.bp\" && mkdir -p \"/home/yuncong/CSHL_patch_scores/MD661/MD662&661-F58-2017.06.06-02.35.45_MD661_2_0173_prep2_gray/detector10\"\n",
      "aws s3 cp \"s3://mousebrainatlas-data/CSHL_patch_scores/MD661/MD662&661-F58-2017.06.06-02.35.45_MD661_2_0173_prep2_gray/detector10/MD662&661-F58-2017.06.06-02.35.45_MD661_2_0173_prep2_gray_detector10_Sp5I_sparseScores.bp\" \"/home/yuncong/CSHL_patch_scores/MD661/MD662&661-F58-2017.06.06-02.35.45_MD661_2_0173_prep2_gray/detector10/MD662&661-F58-2017.06.06-02.35.45_MD661_2_0173_prep2_gray_detector10_Sp5I_sparseScores.bp\"\n"
     ]
    },
    {
     "name": "stderr",
     "output_type": "stream",
     "text": [
      "File does not exist: /home/yuncong/CSHL_patch_scores/MD661/MD662&661-F58-2017.06.06-02.35.45_MD661_1_0172_prep2_gray/detector10/MD662&661-F58-2017.06.06-02.35.45_MD661_1_0172_prep2_gray_detector10_Sp5C_sparseScores.bp\n",
      "Error loading sparse scores for Sp5C: [Errno 2] No such file or directory: '/home/yuncong/CSHL_patch_scores/MD661/MD662&661-F58-2017.06.06-02.35.45_MD661_1_0172_prep2_gray/detector10/MD662&661-F58-2017.06.06-02.35.45_MD661_1_0172_prep2_gray_detector10_Sp5C_sparseScores.bp'\n"
     ]
    },
    {
     "name": "stdout",
     "output_type": "stream",
     "text": [
      "rm -rf \"/home/yuncong/CSHL_patch_scores/MD661/MD662&661-F58-2017.06.06-02.35.45_MD661_1_0172_prep2_gray/detector10/MD662&661-F58-2017.06.06-02.35.45_MD661_1_0172_prep2_gray_detector10_Sp5I_sparseScores.bp\" && mkdir -p \"/home/yuncong/CSHL_patch_scores/MD661/MD662&661-F58-2017.06.06-02.35.45_MD661_1_0172_prep2_gray/detector10\"\n"
     ]
    },
    {
     "name": "stderr",
     "output_type": "stream",
     "text": [
      "File does not exist: /home/yuncong/CSHL_patch_scores/MD661/MD662&661-F57-2017.06.06-02.06.22_MD661_3_0171_prep2_gray/detector10/MD662&661-F57-2017.06.06-02.06.22_MD661_3_0171_prep2_gray_detector10_Sp5C_sparseScores.bp\n",
      "Error loading sparse scores for Sp5C: [Errno 2] No such file or directory: '/home/yuncong/CSHL_patch_scores/MD661/MD662&661-F57-2017.06.06-02.06.22_MD661_3_0171_prep2_gray/detector10/MD662&661-F57-2017.06.06-02.06.22_MD661_3_0171_prep2_gray_detector10_Sp5C_sparseScores.bp'\n"
     ]
    },
    {
     "name": "stdout",
     "output_type": "stream",
     "text": [
      "rm -rf \"/home/yuncong/CSHL_patch_scores/MD661/MD662&661-F57-2017.06.06-02.06.22_MD661_3_0171_prep2_gray/detector10/MD662&661-F57-2017.06.06-02.06.22_MD661_3_0171_prep2_gray_detector10_Sp5I_sparseScores.bp\" && mkdir -p \"/home/yuncong/CSHL_patch_scores/MD661/MD662&661-F57-2017.06.06-02.06.22_MD661_3_0171_prep2_gray/detector10\"\n",
      "aws s3 cp \"s3://mousebrainatlas-data/CSHL_patch_scores/MD661/MD662&661-F58-2017.06.06-02.35.45_MD661_1_0172_prep2_gray/detector10/MD662&661-F58-2017.06.06-02.35.45_MD661_1_0172_prep2_gray_detector10_Sp5I_sparseScores.bp\" \"/home/yuncong/CSHL_patch_scores/MD661/MD662&661-F58-2017.06.06-02.35.45_MD661_1_0172_prep2_gray/detector10/MD662&661-F58-2017.06.06-02.35.45_MD661_1_0172_prep2_gray_detector10_Sp5I_sparseScores.bp\"\n",
      "aws s3 cp \"s3://mousebrainatlas-data/CSHL_patch_scores/MD661/MD662&661-F57-2017.06.06-02.06.22_MD661_3_0171_prep2_gray/detector10/MD662&661-F57-2017.06.06-02.06.22_MD661_3_0171_prep2_gray_detector10_Sp5I_sparseScores.bp\" \"/home/yuncong/CSHL_patch_scores/MD661/MD662&661-F57-2017.06.06-02.06.22_MD661_3_0171_prep2_gray/detector10/MD662&661-F57-2017.06.06-02.06.22_MD661_3_0171_prep2_gray_detector10_Sp5I_sparseScores.bp\"\n"
     ]
    },
    {
     "name": "stderr",
     "output_type": "stream",
     "text": [
      "File does not exist: /home/yuncong/CSHL_patch_scores/MD661/MD662&661-F58-2017.06.06-02.35.45_MD661_2_0173_prep2_gray/detector10/MD662&661-F58-2017.06.06-02.35.45_MD661_2_0173_prep2_gray_detector10_Sp5I_sparseScores.bp\n",
      "Error loading sparse scores for Sp5I: [Errno 2] No such file or directory: '/home/yuncong/CSHL_patch_scores/MD661/MD662&661-F58-2017.06.06-02.35.45_MD661_2_0173_prep2_gray/detector10/MD662&661-F58-2017.06.06-02.35.45_MD661_2_0173_prep2_gray_detector10_Sp5I_sparseScores.bp'\n"
     ]
    },
    {
     "name": "stdout",
     "output_type": "stream",
     "text": [
      "rm -rf \"/home/yuncong/CSHL_patch_scores/MD661/MD662&661-F58-2017.06.06-02.35.45_MD661_2_0173_prep2_gray/detector10/MD662&661-F58-2017.06.06-02.35.45_MD661_2_0173_prep2_gray_detector10_Sp5O_sparseScores.bp\" && mkdir -p \"/home/yuncong/CSHL_patch_scores/MD661/MD662&661-F58-2017.06.06-02.35.45_MD661_2_0173_prep2_gray/detector10\"\n",
      "aws s3 cp \"s3://mousebrainatlas-data/CSHL_patch_scores/MD661/MD662&661-F58-2017.06.06-02.35.45_MD661_2_0173_prep2_gray/detector10/MD662&661-F58-2017.06.06-02.35.45_MD661_2_0173_prep2_gray_detector10_Sp5O_sparseScores.bp\" \"/home/yuncong/CSHL_patch_scores/MD661/MD662&661-F58-2017.06.06-02.35.45_MD661_2_0173_prep2_gray/detector10/MD662&661-F58-2017.06.06-02.35.45_MD661_2_0173_prep2_gray_detector10_Sp5O_sparseScores.bp\"\n"
     ]
    },
    {
     "name": "stderr",
     "output_type": "stream",
     "text": [
      "File does not exist: /home/yuncong/CSHL_patch_scores/MD661/MD662&661-F58-2017.06.06-02.35.45_MD661_1_0172_prep2_gray/detector10/MD662&661-F58-2017.06.06-02.35.45_MD661_1_0172_prep2_gray_detector10_Sp5I_sparseScores.bp\n",
      "Error loading sparse scores for Sp5I: [Errno 2] No such file or directory: '/home/yuncong/CSHL_patch_scores/MD661/MD662&661-F58-2017.06.06-02.35.45_MD661_1_0172_prep2_gray/detector10/MD662&661-F58-2017.06.06-02.35.45_MD661_1_0172_prep2_gray_detector10_Sp5I_sparseScores.bp'\n"
     ]
    },
    {
     "name": "stdout",
     "output_type": "stream",
     "text": [
      "rm -rf \"/home/yuncong/CSHL_patch_scores/MD661/MD662&661-F58-2017.06.06-02.35.45_MD661_1_0172_prep2_gray/detector10/MD662&661-F58-2017.06.06-02.35.45_MD661_1_0172_prep2_gray_detector10_Sp5O_sparseScores.bp\" && mkdir -p \"/home/yuncong/CSHL_patch_scores/MD661/MD662&661-F58-2017.06.06-02.35.45_MD661_1_0172_prep2_gray/detector10\"\n"
     ]
    },
    {
     "name": "stderr",
     "output_type": "stream",
     "text": [
      "File does not exist: /home/yuncong/CSHL_patch_scores/MD661/MD662&661-F57-2017.06.06-02.06.22_MD661_3_0171_prep2_gray/detector10/MD662&661-F57-2017.06.06-02.06.22_MD661_3_0171_prep2_gray_detector10_Sp5I_sparseScores.bp\n",
      "Error loading sparse scores for Sp5I: [Errno 2] No such file or directory: '/home/yuncong/CSHL_patch_scores/MD661/MD662&661-F57-2017.06.06-02.06.22_MD661_3_0171_prep2_gray/detector10/MD662&661-F57-2017.06.06-02.06.22_MD661_3_0171_prep2_gray_detector10_Sp5I_sparseScores.bp'\n"
     ]
    },
    {
     "name": "stdout",
     "output_type": "stream",
     "text": [
      "rm -rf \"/home/yuncong/CSHL_patch_scores/MD661/MD662&661-F57-2017.06.06-02.06.22_MD661_3_0171_prep2_gray/detector10/MD662&661-F57-2017.06.06-02.06.22_MD661_3_0171_prep2_gray_detector10_Sp5O_sparseScores.bp\" && mkdir -p \"/home/yuncong/CSHL_patch_scores/MD661/MD662&661-F57-2017.06.06-02.06.22_MD661_3_0171_prep2_gray/detector10\"\n",
      "aws s3 cp \"s3://mousebrainatlas-data/CSHL_patch_scores/MD661/MD662&661-F58-2017.06.06-02.35.45_MD661_1_0172_prep2_gray/detector10/MD662&661-F58-2017.06.06-02.35.45_MD661_1_0172_prep2_gray_detector10_Sp5O_sparseScores.bp\" \"/home/yuncong/CSHL_patch_scores/MD661/MD662&661-F58-2017.06.06-02.35.45_MD661_1_0172_prep2_gray/detector10/MD662&661-F58-2017.06.06-02.35.45_MD661_1_0172_prep2_gray_detector10_Sp5O_sparseScores.bp\"\n",
      "aws s3 cp \"s3://mousebrainatlas-data/CSHL_patch_scores/MD661/MD662&661-F57-2017.06.06-02.06.22_MD661_3_0171_prep2_gray/detector10/MD662&661-F57-2017.06.06-02.06.22_MD661_3_0171_prep2_gray_detector10_Sp5O_sparseScores.bp\" \"/home/yuncong/CSHL_patch_scores/MD661/MD662&661-F57-2017.06.06-02.06.22_MD661_3_0171_prep2_gray/detector10/MD662&661-F57-2017.06.06-02.06.22_MD661_3_0171_prep2_gray_detector10_Sp5O_sparseScores.bp\"\n"
     ]
    },
    {
     "name": "stderr",
     "output_type": "stream",
     "text": [
      "File does not exist: /home/yuncong/CSHL_patch_scores/MD661/MD662&661-F58-2017.06.06-02.35.45_MD661_2_0173_prep2_gray/detector10/MD662&661-F58-2017.06.06-02.35.45_MD661_2_0173_prep2_gray_detector10_Sp5O_sparseScores.bp\n",
      "Error loading sparse scores for Sp5O: [Errno 2] No such file or directory: '/home/yuncong/CSHL_patch_scores/MD661/MD662&661-F58-2017.06.06-02.35.45_MD661_2_0173_prep2_gray/detector10/MD662&661-F58-2017.06.06-02.35.45_MD661_2_0173_prep2_gray_detector10_Sp5O_sparseScores.bp'\n"
     ]
    },
    {
     "name": "stdout",
     "output_type": "stream",
     "text": [
      "rm -rf \"/home/yuncong/CSHL_patch_scores/MD661/MD662&661-F58-2017.06.06-02.35.45_MD661_2_0173_prep2_gray/detector10/MD662&661-F58-2017.06.06-02.35.45_MD661_2_0173_prep2_gray_detector10_Tz_sparseScores.bp\" && mkdir -p \"/home/yuncong/CSHL_patch_scores/MD661/MD662&661-F58-2017.06.06-02.35.45_MD661_2_0173_prep2_gray/detector10\"\n",
      "aws s3 cp \"s3://mousebrainatlas-data/CSHL_patch_scores/MD661/MD662&661-F58-2017.06.06-02.35.45_MD661_2_0173_prep2_gray/detector10/MD662&661-F58-2017.06.06-02.35.45_MD661_2_0173_prep2_gray_detector10_Tz_sparseScores.bp\" \"/home/yuncong/CSHL_patch_scores/MD661/MD662&661-F58-2017.06.06-02.35.45_MD661_2_0173_prep2_gray/detector10/MD662&661-F58-2017.06.06-02.35.45_MD661_2_0173_prep2_gray_detector10_Tz_sparseScores.bp\"\n"
     ]
    },
    {
     "name": "stderr",
     "output_type": "stream",
     "text": [
      "File does not exist: /home/yuncong/CSHL_patch_scores/MD661/MD662&661-F58-2017.06.06-02.35.45_MD661_1_0172_prep2_gray/detector10/MD662&661-F58-2017.06.06-02.35.45_MD661_1_0172_prep2_gray_detector10_Sp5O_sparseScores.bp\n",
      "Error loading sparse scores for Sp5O: [Errno 2] No such file or directory: '/home/yuncong/CSHL_patch_scores/MD661/MD662&661-F58-2017.06.06-02.35.45_MD661_1_0172_prep2_gray/detector10/MD662&661-F58-2017.06.06-02.35.45_MD661_1_0172_prep2_gray_detector10_Sp5O_sparseScores.bp'\n"
     ]
    },
    {
     "name": "stdout",
     "output_type": "stream",
     "text": [
      "rm -rf \"/home/yuncong/CSHL_patch_scores/MD661/MD662&661-F58-2017.06.06-02.35.45_MD661_1_0172_prep2_gray/detector10/MD662&661-F58-2017.06.06-02.35.45_MD661_1_0172_prep2_gray_detector10_Tz_sparseScores.bp\" && mkdir -p \"/home/yuncong/CSHL_patch_scores/MD661/MD662&661-F58-2017.06.06-02.35.45_MD661_1_0172_prep2_gray/detector10\"\n"
     ]
    },
    {
     "name": "stderr",
     "output_type": "stream",
     "text": [
      "File does not exist: /home/yuncong/CSHL_patch_scores/MD661/MD662&661-F57-2017.06.06-02.06.22_MD661_3_0171_prep2_gray/detector10/MD662&661-F57-2017.06.06-02.06.22_MD661_3_0171_prep2_gray_detector10_Sp5O_sparseScores.bp\n",
      "Error loading sparse scores for Sp5O: [Errno 2] No such file or directory: '/home/yuncong/CSHL_patch_scores/MD661/MD662&661-F57-2017.06.06-02.06.22_MD661_3_0171_prep2_gray/detector10/MD662&661-F57-2017.06.06-02.06.22_MD661_3_0171_prep2_gray_detector10_Sp5O_sparseScores.bp'\n"
     ]
    },
    {
     "name": "stdout",
     "output_type": "stream",
     "text": [
      "rm -rf \"/home/yuncong/CSHL_patch_scores/MD661/MD662&661-F57-2017.06.06-02.06.22_MD661_3_0171_prep2_gray/detector10/MD662&661-F57-2017.06.06-02.06.22_MD661_3_0171_prep2_gray_detector10_Tz_sparseScores.bp\" && mkdir -p \"/home/yuncong/CSHL_patch_scores/MD661/MD662&661-F57-2017.06.06-02.06.22_MD661_3_0171_prep2_gray/detector10\"\n",
      "aws s3 cp \"s3://mousebrainatlas-data/CSHL_patch_scores/MD661/MD662&661-F58-2017.06.06-02.35.45_MD661_1_0172_prep2_gray/detector10/MD662&661-F58-2017.06.06-02.35.45_MD661_1_0172_prep2_gray_detector10_Tz_sparseScores.bp\" \"/home/yuncong/CSHL_patch_scores/MD661/MD662&661-F58-2017.06.06-02.35.45_MD661_1_0172_prep2_gray/detector10/MD662&661-F58-2017.06.06-02.35.45_MD661_1_0172_prep2_gray_detector10_Tz_sparseScores.bp\"\n",
      "aws s3 cp \"s3://mousebrainatlas-data/CSHL_patch_scores/MD661/MD662&661-F57-2017.06.06-02.06.22_MD661_3_0171_prep2_gray/detector10/MD662&661-F57-2017.06.06-02.06.22_MD661_3_0171_prep2_gray_detector10_Tz_sparseScores.bp\" \"/home/yuncong/CSHL_patch_scores/MD661/MD662&661-F57-2017.06.06-02.06.22_MD661_3_0171_prep2_gray/detector10/MD662&661-F57-2017.06.06-02.06.22_MD661_3_0171_prep2_gray_detector10_Tz_sparseScores.bp\"\n"
     ]
    },
    {
     "name": "stderr",
     "output_type": "stream",
     "text": [
      "File does not exist: /home/yuncong/CSHL_patch_scores/MD661/MD662&661-F58-2017.06.06-02.35.45_MD661_2_0173_prep2_gray/detector10/MD662&661-F58-2017.06.06-02.35.45_MD661_2_0173_prep2_gray_detector10_Tz_sparseScores.bp\n",
      "Error loading sparse scores for Tz: [Errno 2] No such file or directory: '/home/yuncong/CSHL_patch_scores/MD661/MD662&661-F58-2017.06.06-02.35.45_MD661_2_0173_prep2_gray/detector10/MD662&661-F58-2017.06.06-02.35.45_MD661_2_0173_prep2_gray_detector10_Tz_sparseScores.bp'\n"
     ]
    },
    {
     "name": "stdout",
     "output_type": "stream",
     "text": [
      "rm -rf \"/home/yuncong/CSHL_patch_scores/MD661/MD662&661-F58-2017.06.06-02.35.45_MD661_2_0173_prep2_gray/detector10/MD662&661-F58-2017.06.06-02.35.45_MD661_2_0173_prep2_gray_detector10_VCA_sparseScores.bp\" && mkdir -p \"/home/yuncong/CSHL_patch_scores/MD661/MD662&661-F58-2017.06.06-02.35.45_MD661_2_0173_prep2_gray/detector10\"\n",
      "aws s3 cp \"s3://mousebrainatlas-data/CSHL_patch_scores/MD661/MD662&661-F58-2017.06.06-02.35.45_MD661_2_0173_prep2_gray/detector10/MD662&661-F58-2017.06.06-02.35.45_MD661_2_0173_prep2_gray_detector10_VCA_sparseScores.bp\" \"/home/yuncong/CSHL_patch_scores/MD661/MD662&661-F58-2017.06.06-02.35.45_MD661_2_0173_prep2_gray/detector10/MD662&661-F58-2017.06.06-02.35.45_MD661_2_0173_prep2_gray_detector10_VCA_sparseScores.bp\"\n"
     ]
    },
    {
     "name": "stderr",
     "output_type": "stream",
     "text": [
      "File does not exist: /home/yuncong/CSHL_patch_scores/MD661/MD662&661-F58-2017.06.06-02.35.45_MD661_1_0172_prep2_gray/detector10/MD662&661-F58-2017.06.06-02.35.45_MD661_1_0172_prep2_gray_detector10_Tz_sparseScores.bp\n",
      "File does not exist: /home/yuncong/CSHL_patch_scores/MD661/MD662&661-F57-2017.06.06-02.06.22_MD661_3_0171_prep2_gray/detector10/MD662&661-F57-2017.06.06-02.06.22_MD661_3_0171_prep2_gray_detector10_Tz_sparseScores.bp\n",
      "Error loading sparse scores for Tz: [Errno 2] No such file or directory: '/home/yuncong/CSHL_patch_scores/MD661/MD662&661-F58-2017.06.06-02.35.45_MD661_1_0172_prep2_gray/detector10/MD662&661-F58-2017.06.06-02.35.45_MD661_1_0172_prep2_gray_detector10_Tz_sparseScores.bp'\n",
      "Error loading sparse scores for Tz: [Errno 2] No such file or directory: '/home/yuncong/CSHL_patch_scores/MD661/MD662&661-F57-2017.06.06-02.06.22_MD661_3_0171_prep2_gray/detector10/MD662&661-F57-2017.06.06-02.06.22_MD661_3_0171_prep2_gray_detector10_Tz_sparseScores.bp'\n"
     ]
    },
    {
     "name": "stdout",
     "output_type": "stream",
     "text": [
      "rm -rf \"/home/yuncong/CSHL_patch_scores/MD661/MD662&661-F58-2017.06.06-02.35.45_MD661_1_0172_prep2_gray/detector10/MD662&661-F58-2017.06.06-02.35.45_MD661_1_0172_prep2_gray_detector10_VCA_sparseScores.bp\" && mkdir -p \"/home/yuncong/CSHL_patch_scores/MD661/MD662&661-F58-2017.06.06-02.35.45_MD661_1_0172_prep2_gray/detector10\"\n",
      "rm -rf \"/home/yuncong/CSHL_patch_scores/MD661/MD662&661-F57-2017.06.06-02.06.22_MD661_3_0171_prep2_gray/detector10/MD662&661-F57-2017.06.06-02.06.22_MD661_3_0171_prep2_gray_detector10_VCA_sparseScores.bp\" && mkdir -p \"/home/yuncong/CSHL_patch_scores/MD661/MD662&661-F57-2017.06.06-02.06.22_MD661_3_0171_prep2_gray/detector10\"\n",
      "aws s3 cp \"s3://mousebrainatlas-data/CSHL_patch_scores/MD661/MD662&661-F58-2017.06.06-02.35.45_MD661_1_0172_prep2_gray/detector10/MD662&661-F58-2017.06.06-02.35.45_MD661_1_0172_prep2_gray_detector10_VCA_sparseScores.bp\" \"/home/yuncong/CSHL_patch_scores/MD661/MD662&661-F58-2017.06.06-02.35.45_MD661_1_0172_prep2_gray/detector10/MD662&661-F58-2017.06.06-02.35.45_MD661_1_0172_prep2_gray_detector10_VCA_sparseScores.bp\"\n",
      "aws s3 cp \"s3://mousebrainatlas-data/CSHL_patch_scores/MD661/MD662&661-F57-2017.06.06-02.06.22_MD661_3_0171_prep2_gray/detector10/MD662&661-F57-2017.06.06-02.06.22_MD661_3_0171_prep2_gray_detector10_VCA_sparseScores.bp\" \"/home/yuncong/CSHL_patch_scores/MD661/MD662&661-F57-2017.06.06-02.06.22_MD661_3_0171_prep2_gray/detector10/MD662&661-F57-2017.06.06-02.06.22_MD661_3_0171_prep2_gray_detector10_VCA_sparseScores.bp\"\n"
     ]
    },
    {
     "name": "stderr",
     "output_type": "stream",
     "text": [
      "File does not exist: /home/yuncong/CSHL_patch_scores/MD661/MD662&661-F58-2017.06.06-02.35.45_MD661_2_0173_prep2_gray/detector10/MD662&661-F58-2017.06.06-02.35.45_MD661_2_0173_prep2_gray_detector10_VCA_sparseScores.bp\n",
      "Error loading sparse scores for VCA: [Errno 2] No such file or directory: '/home/yuncong/CSHL_patch_scores/MD661/MD662&661-F58-2017.06.06-02.35.45_MD661_2_0173_prep2_gray/detector10/MD662&661-F58-2017.06.06-02.35.45_MD661_2_0173_prep2_gray_detector10_VCA_sparseScores.bp'\n"
     ]
    },
    {
     "name": "stdout",
     "output_type": "stream",
     "text": [
      "rm -rf \"/home/yuncong/CSHL_patch_scores/MD661/MD662&661-F58-2017.06.06-02.35.45_MD661_2_0173_prep2_gray/detector10/MD662&661-F58-2017.06.06-02.35.45_MD661_2_0173_prep2_gray_detector10_VCP_sparseScores.bp\" && mkdir -p \"/home/yuncong/CSHL_patch_scores/MD661/MD662&661-F58-2017.06.06-02.35.45_MD661_2_0173_prep2_gray/detector10\"\n",
      "aws s3 cp \"s3://mousebrainatlas-data/CSHL_patch_scores/MD661/MD662&661-F58-2017.06.06-02.35.45_MD661_2_0173_prep2_gray/detector10/MD662&661-F58-2017.06.06-02.35.45_MD661_2_0173_prep2_gray_detector10_VCP_sparseScores.bp\" \"/home/yuncong/CSHL_patch_scores/MD661/MD662&661-F58-2017.06.06-02.35.45_MD661_2_0173_prep2_gray/detector10/MD662&661-F58-2017.06.06-02.35.45_MD661_2_0173_prep2_gray_detector10_VCP_sparseScores.bp\"\n"
     ]
    },
    {
     "name": "stderr",
     "output_type": "stream",
     "text": [
      "File does not exist: /home/yuncong/CSHL_patch_scores/MD661/MD662&661-F57-2017.06.06-02.06.22_MD661_3_0171_prep2_gray/detector10/MD662&661-F57-2017.06.06-02.06.22_MD661_3_0171_prep2_gray_detector10_VCA_sparseScores.bp\n",
      "Error loading sparse scores for VCA: [Errno 2] No such file or directory: '/home/yuncong/CSHL_patch_scores/MD661/MD662&661-F57-2017.06.06-02.06.22_MD661_3_0171_prep2_gray/detector10/MD662&661-F57-2017.06.06-02.06.22_MD661_3_0171_prep2_gray_detector10_VCA_sparseScores.bp'\n"
     ]
    },
    {
     "name": "stdout",
     "output_type": "stream",
     "text": [
      "rm -rf \"/home/yuncong/CSHL_patch_scores/MD661/MD662&661-F57-2017.06.06-02.06.22_MD661_3_0171_prep2_gray/detector10/MD662&661-F57-2017.06.06-02.06.22_MD661_3_0171_prep2_gray_detector10_VCP_sparseScores.bp\" && mkdir -p \"/home/yuncong/CSHL_patch_scores/MD661/MD662&661-F57-2017.06.06-02.06.22_MD661_3_0171_prep2_gray/detector10\"\n",
      "aws s3 cp \"s3://mousebrainatlas-data/CSHL_patch_scores/MD661/MD662&661-F57-2017.06.06-02.06.22_MD661_3_0171_prep2_gray/detector10/MD662&661-F57-2017.06.06-02.06.22_MD661_3_0171_prep2_gray_detector10_VCP_sparseScores.bp\" \"/home/yuncong/CSHL_patch_scores/MD661/MD662&661-F57-2017.06.06-02.06.22_MD661_3_0171_prep2_gray/detector10/MD662&661-F57-2017.06.06-02.06.22_MD661_3_0171_prep2_gray_detector10_VCP_sparseScores.bp\"\n"
     ]
    },
    {
     "name": "stderr",
     "output_type": "stream",
     "text": [
      "File does not exist: /home/yuncong/CSHL_patch_scores/MD661/MD662&661-F58-2017.06.06-02.35.45_MD661_1_0172_prep2_gray/detector10/MD662&661-F58-2017.06.06-02.35.45_MD661_1_0172_prep2_gray_detector10_VCA_sparseScores.bp\n",
      "Error loading sparse scores for VCA: [Errno 2] No such file or directory: '/home/yuncong/CSHL_patch_scores/MD661/MD662&661-F58-2017.06.06-02.35.45_MD661_1_0172_prep2_gray/detector10/MD662&661-F58-2017.06.06-02.35.45_MD661_1_0172_prep2_gray_detector10_VCA_sparseScores.bp'\n"
     ]
    },
    {
     "name": "stdout",
     "output_type": "stream",
     "text": [
      "rm -rf \"/home/yuncong/CSHL_patch_scores/MD661/MD662&661-F58-2017.06.06-02.35.45_MD661_1_0172_prep2_gray/detector10/MD662&661-F58-2017.06.06-02.35.45_MD661_1_0172_prep2_gray_detector10_VCP_sparseScores.bp\" && mkdir -p \"/home/yuncong/CSHL_patch_scores/MD661/MD662&661-F58-2017.06.06-02.35.45_MD661_1_0172_prep2_gray/detector10\"\n",
      "aws s3 cp \"s3://mousebrainatlas-data/CSHL_patch_scores/MD661/MD662&661-F58-2017.06.06-02.35.45_MD661_1_0172_prep2_gray/detector10/MD662&661-F58-2017.06.06-02.35.45_MD661_1_0172_prep2_gray_detector10_VCP_sparseScores.bp\" \"/home/yuncong/CSHL_patch_scores/MD661/MD662&661-F58-2017.06.06-02.35.45_MD661_1_0172_prep2_gray/detector10/MD662&661-F58-2017.06.06-02.35.45_MD661_1_0172_prep2_gray_detector10_VCP_sparseScores.bp\"\n"
     ]
    },
    {
     "name": "stderr",
     "output_type": "stream",
     "text": [
      "File does not exist: /home/yuncong/CSHL_patch_scores/MD661/MD662&661-F58-2017.06.06-02.35.45_MD661_2_0173_prep2_gray/detector10/MD662&661-F58-2017.06.06-02.35.45_MD661_2_0173_prep2_gray_detector10_VCP_sparseScores.bp\n",
      "Error loading sparse scores for VCP: [Errno 2] No such file or directory: '/home/yuncong/CSHL_patch_scores/MD661/MD662&661-F58-2017.06.06-02.35.45_MD661_2_0173_prep2_gray/detector10/MD662&661-F58-2017.06.06-02.35.45_MD661_2_0173_prep2_gray_detector10_VCP_sparseScores.bp'\n"
     ]
    },
    {
     "name": "stdout",
     "output_type": "stream",
     "text": [
      "rm -rf \"/home/yuncong/CSHL_patch_scores/MD661/MD662&661-F58-2017.06.06-02.35.45_MD661_2_0173_prep2_gray/detector10/MD662&661-F58-2017.06.06-02.35.45_MD661_2_0173_prep2_gray_detector10_VLL_sparseScores.bp\" && mkdir -p \"/home/yuncong/CSHL_patch_scores/MD661/MD662&661-F58-2017.06.06-02.35.45_MD661_2_0173_prep2_gray/detector10\"\n",
      "aws s3 cp \"s3://mousebrainatlas-data/CSHL_patch_scores/MD661/MD662&661-F58-2017.06.06-02.35.45_MD661_2_0173_prep2_gray/detector10/MD662&661-F58-2017.06.06-02.35.45_MD661_2_0173_prep2_gray_detector10_VLL_sparseScores.bp\" \"/home/yuncong/CSHL_patch_scores/MD661/MD662&661-F58-2017.06.06-02.35.45_MD661_2_0173_prep2_gray/detector10/MD662&661-F58-2017.06.06-02.35.45_MD661_2_0173_prep2_gray_detector10_VLL_sparseScores.bp\"\n"
     ]
    },
    {
     "name": "stderr",
     "output_type": "stream",
     "text": [
      "File does not exist: /home/yuncong/CSHL_patch_scores/MD661/MD662&661-F57-2017.06.06-02.06.22_MD661_3_0171_prep2_gray/detector10/MD662&661-F57-2017.06.06-02.06.22_MD661_3_0171_prep2_gray_detector10_VCP_sparseScores.bp\n",
      "Error loading sparse scores for VCP: [Errno 2] No such file or directory: '/home/yuncong/CSHL_patch_scores/MD661/MD662&661-F57-2017.06.06-02.06.22_MD661_3_0171_prep2_gray/detector10/MD662&661-F57-2017.06.06-02.06.22_MD661_3_0171_prep2_gray_detector10_VCP_sparseScores.bp'\n"
     ]
    },
    {
     "name": "stdout",
     "output_type": "stream",
     "text": [
      "rm -rf \"/home/yuncong/CSHL_patch_scores/MD661/MD662&661-F57-2017.06.06-02.06.22_MD661_3_0171_prep2_gray/detector10/MD662&661-F57-2017.06.06-02.06.22_MD661_3_0171_prep2_gray_detector10_VLL_sparseScores.bp\" && mkdir -p \"/home/yuncong/CSHL_patch_scores/MD661/MD662&661-F57-2017.06.06-02.06.22_MD661_3_0171_prep2_gray/detector10\"\n",
      "aws s3 cp \"s3://mousebrainatlas-data/CSHL_patch_scores/MD661/MD662&661-F57-2017.06.06-02.06.22_MD661_3_0171_prep2_gray/detector10/MD662&661-F57-2017.06.06-02.06.22_MD661_3_0171_prep2_gray_detector10_VLL_sparseScores.bp\" \"/home/yuncong/CSHL_patch_scores/MD661/MD662&661-F57-2017.06.06-02.06.22_MD661_3_0171_prep2_gray/detector10/MD662&661-F57-2017.06.06-02.06.22_MD661_3_0171_prep2_gray_detector10_VLL_sparseScores.bp\"\n"
     ]
    },
    {
     "name": "stderr",
     "output_type": "stream",
     "text": [
      "File does not exist: /home/yuncong/CSHL_patch_scores/MD661/MD662&661-F58-2017.06.06-02.35.45_MD661_1_0172_prep2_gray/detector10/MD662&661-F58-2017.06.06-02.35.45_MD661_1_0172_prep2_gray_detector10_VCP_sparseScores.bp\n",
      "Error loading sparse scores for VCP: [Errno 2] No such file or directory: '/home/yuncong/CSHL_patch_scores/MD661/MD662&661-F58-2017.06.06-02.35.45_MD661_1_0172_prep2_gray/detector10/MD662&661-F58-2017.06.06-02.35.45_MD661_1_0172_prep2_gray_detector10_VCP_sparseScores.bp'\n"
     ]
    },
    {
     "name": "stdout",
     "output_type": "stream",
     "text": [
      "rm -rf \"/home/yuncong/CSHL_patch_scores/MD661/MD662&661-F58-2017.06.06-02.35.45_MD661_1_0172_prep2_gray/detector10/MD662&661-F58-2017.06.06-02.35.45_MD661_1_0172_prep2_gray_detector10_VLL_sparseScores.bp\" && mkdir -p \"/home/yuncong/CSHL_patch_scores/MD661/MD662&661-F58-2017.06.06-02.35.45_MD661_1_0172_prep2_gray/detector10\"\n",
      "aws s3 cp \"s3://mousebrainatlas-data/CSHL_patch_scores/MD661/MD662&661-F58-2017.06.06-02.35.45_MD661_1_0172_prep2_gray/detector10/MD662&661-F58-2017.06.06-02.35.45_MD661_1_0172_prep2_gray_detector10_VLL_sparseScores.bp\" \"/home/yuncong/CSHL_patch_scores/MD661/MD662&661-F58-2017.06.06-02.35.45_MD661_1_0172_prep2_gray/detector10/MD662&661-F58-2017.06.06-02.35.45_MD661_1_0172_prep2_gray_detector10_VLL_sparseScores.bp\"\n"
     ]
    },
    {
     "name": "stderr",
     "output_type": "stream",
     "text": [
      "File does not exist: /home/yuncong/CSHL_patch_scores/MD661/MD662&661-F58-2017.06.06-02.35.45_MD661_2_0173_prep2_gray/detector10/MD662&661-F58-2017.06.06-02.35.45_MD661_2_0173_prep2_gray_detector10_VLL_sparseScores.bp\n",
      "Error loading sparse scores for VLL: [Errno 2] No such file or directory: '/home/yuncong/CSHL_patch_scores/MD661/MD662&661-F58-2017.06.06-02.35.45_MD661_2_0173_prep2_gray/detector10/MD662&661-F58-2017.06.06-02.35.45_MD661_2_0173_prep2_gray_detector10_VLL_sparseScores.bp'\n",
      "File does not exist: /home/yuncong/CSHL_patch_scores/MD661/MD662&661-F57-2017.06.06-02.06.22_MD661_3_0171_prep2_gray/detector10/MD662&661-F57-2017.06.06-02.06.22_MD661_3_0171_prep2_gray_detector10_VLL_sparseScores.bp\n",
      "Error loading sparse scores for VLL: [Errno 2] No such file or directory: '/home/yuncong/CSHL_patch_scores/MD661/MD662&661-F57-2017.06.06-02.06.22_MD661_3_0171_prep2_gray/detector10/MD662&661-F57-2017.06.06-02.06.22_MD661_3_0171_prep2_gray_detector10_VLL_sparseScores.bp'\n",
      "File does not exist: /home/yuncong/CSHL_patch_scores/MD661/MD662&661-F58-2017.06.06-02.35.45_MD661_1_0172_prep2_gray/detector10/MD662&661-F58-2017.06.06-02.35.45_MD661_1_0172_prep2_gray_detector10_VLL_sparseScores.bp\n",
      "Error loading sparse scores for VLL: [Errno 2] No such file or directory: '/home/yuncong/CSHL_patch_scores/MD661/MD662&661-F58-2017.06.06-02.35.45_MD661_1_0172_prep2_gray/detector10/MD662&661-F58-2017.06.06-02.35.45_MD661_1_0172_prep2_gray_detector10_VLL_sparseScores.bp'\n",
      "Resample: 19.35 seconds\n",
      "/usr/local/lib/python2.7/dist-packages/ipykernel_launcher.py:157: DeprecationWarning: BaseException.message has been deprecated as of Python 2.6\n",
      "/usr/local/lib/python2.7/dist-packages/ipykernel_launcher.py:157: DeprecationWarning: BaseException.message has been deprecated as of Python 2.6\n",
      "/usr/local/lib/python2.7/dist-packages/ipykernel_launcher.py:157: DeprecationWarning: BaseException.message has been deprecated as of Python 2.6\n",
      "/usr/local/lib/python2.7/dist-packages/ipykernel_launcher.py:157: DeprecationWarning: BaseException.message has been deprecated as of Python 2.6\n",
      "'str' object has no attribute 'shape'\n",
      "'str' object has no attribute 'shape'\n",
      "/usr/local/lib/python2.7/dist-packages/ipykernel_launcher.py:157: DeprecationWarning: BaseException.message has been deprecated as of Python 2.6\n",
      "'str' object has no attribute 'shape'\n",
      "'str' object has no attribute 'shape'\n",
      "'str' object has no attribute 'shape'\n",
      "/usr/local/lib/python2.7/dist-packages/ipykernel_launcher.py:157: DeprecationWarning: BaseException.message has been deprecated as of Python 2.6\n",
      "'str' object has no attribute 'shape'\n",
      "/usr/local/lib/python2.7/dist-packages/ipykernel_launcher.py:157: DeprecationWarning: BaseException.message has been deprecated as of Python 2.6\n",
      "/usr/local/lib/python2.7/dist-packages/ipykernel_launcher.py:157: DeprecationWarning: BaseException.message has been deprecated as of Python 2.6\n",
      "'str' object has no attribute 'shape'\n",
      "/usr/local/lib/python2.7/dist-packages/ipykernel_launcher.py:157: DeprecationWarning: BaseException.message has been deprecated as of Python 2.6\n",
      "'str' object has no attribute 'shape'\n",
      "/usr/local/lib/python2.7/dist-packages/ipykernel_launcher.py:157: DeprecationWarning: BaseException.message has been deprecated as of Python 2.6\n",
      "'str' object has no attribute 'shape'\n",
      "'str' object has no attribute 'shape'\n",
      "/usr/local/lib/python2.7/dist-packages/ipykernel_launcher.py:157: DeprecationWarning: BaseException.message has been deprecated as of Python 2.6\n",
      "/usr/local/lib/python2.7/dist-packages/ipykernel_launcher.py:157: DeprecationWarning: BaseException.message has been deprecated as of Python 2.6\n",
      "'str' object has no attribute 'shape'\n",
      "/usr/local/lib/python2.7/dist-packages/ipykernel_launcher.py:157: DeprecationWarning: BaseException.message has been deprecated as of Python 2.6\n",
      "'str' object has no attribute 'shape'\n",
      "'str' object has no attribute 'shape'\n",
      "/usr/local/lib/python2.7/dist-packages/ipykernel_launcher.py:157: DeprecationWarning: BaseException.message has been deprecated as of Python 2.6\n",
      "/usr/local/lib/python2.7/dist-packages/ipykernel_launcher.py:157: DeprecationWarning: BaseException.message has been deprecated as of Python 2.6\n",
      "'str' object has no attribute 'shape'\n",
      "'str' object has no attribute 'shape'\n",
      "/usr/local/lib/python2.7/dist-packages/ipykernel_launcher.py:157: DeprecationWarning: BaseException.message has been deprecated as of Python 2.6\n",
      "'str' object has no attribute 'shape'\n",
      "/usr/local/lib/python2.7/dist-packages/ipykernel_launcher.py:157: DeprecationWarning: BaseException.message has been deprecated as of Python 2.6\n",
      "/usr/local/lib/python2.7/dist-packages/ipykernel_launcher.py:157: DeprecationWarning: BaseException.message has been deprecated as of Python 2.6\n",
      "'str' object has no attribute 'shape'\n",
      "/usr/local/lib/python2.7/dist-packages/ipykernel_launcher.py:157: DeprecationWarning: BaseException.message has been deprecated as of Python 2.6\n",
      "'str' object has no attribute 'shape'\n",
      "/usr/local/lib/python2.7/dist-packages/ipykernel_launcher.py:157: DeprecationWarning: BaseException.message has been deprecated as of Python 2.6\n",
      "'str' object has no attribute 'shape'\n",
      "'str' object has no attribute 'shape'\n",
      "/usr/local/lib/python2.7/dist-packages/ipykernel_launcher.py:157: DeprecationWarning: BaseException.message has been deprecated as of Python 2.6\n",
      "/usr/local/lib/python2.7/dist-packages/ipykernel_launcher.py:157: DeprecationWarning: BaseException.message has been deprecated as of Python 2.6\n",
      "/usr/local/lib/python2.7/dist-packages/ipykernel_launcher.py:157: DeprecationWarning: BaseException.message has been deprecated as of Python 2.6\n",
      "'str' object has no attribute 'shape'\n",
      "'str' object has no attribute 'shape'\n",
      "/usr/local/lib/python2.7/dist-packages/ipykernel_launcher.py:157: DeprecationWarning: BaseException.message has been deprecated as of Python 2.6\n",
      "'str' object has no attribute 'shape'\n",
      "'str' object has no attribute 'shape'\n",
      "'str' object has no attribute 'shape'\n",
      "'str' object has no attribute 'shape'\n",
      "'str' object has no attribute 'shape'\n",
      "'str' object has no attribute 'shape'\n",
      "'str' object has no attribute 'shape'\n",
      "'str' object has no attribute 'shape'\n",
      "Visualize scoremaps: 0.28 seconds.\n",
      "/usr/local/lib/python2.7/dist-packages/ipykernel_launcher.py:157: DeprecationWarning: BaseException.message has been deprecated as of Python 2.6\n",
      "'str' object has no attribute 'shape'\n",
      "/usr/local/lib/python2.7/dist-packages/ipykernel_launcher.py:157: DeprecationWarning: BaseException.message has been deprecated as of Python 2.6\n",
      "'str' object has no attribute 'shape'\n",
      "/usr/local/lib/python2.7/dist-packages/ipykernel_launcher.py:157: DeprecationWarning: BaseException.message has been deprecated as of Python 2.6\n",
      "'str' object has no attribute 'shape'\n",
      "/usr/local/lib/python2.7/dist-packages/ipykernel_launcher.py:157: DeprecationWarning: BaseException.message has been deprecated as of Python 2.6\n",
      "/usr/local/lib/python2.7/dist-packages/ipykernel_launcher.py:157: DeprecationWarning: BaseException.message has been deprecated as of Python 2.6\n",
      "'str' object has no attribute 'shape'\n",
      "'str' object has no attribute 'shape'\n",
      "/usr/local/lib/python2.7/dist-packages/ipykernel_launcher.py:157: DeprecationWarning: BaseException.message has been deprecated as of Python 2.6\n",
      "/usr/local/lib/python2.7/dist-packages/ipykernel_launcher.py:157: DeprecationWarning: BaseException.message has been deprecated as of Python 2.6\n",
      "'str' object has no attribute 'shape'\n",
      "'str' object has no attribute 'shape'\n",
      "/usr/local/lib/python2.7/dist-packages/ipykernel_launcher.py:157: DeprecationWarning: BaseException.message has been deprecated as of Python 2.6\n",
      "'str' object has no attribute 'shape'\n",
      "/usr/local/lib/python2.7/dist-packages/ipykernel_launcher.py:157: DeprecationWarning: BaseException.message has been deprecated as of Python 2.6\n",
      "/usr/local/lib/python2.7/dist-packages/ipykernel_launcher.py:157: DeprecationWarning: BaseException.message has been deprecated as of Python 2.6\n",
      "'str' object has no attribute 'shape'\n",
      "/usr/local/lib/python2.7/dist-packages/ipykernel_launcher.py:157: DeprecationWarning: BaseException.message has been deprecated as of Python 2.6\n",
      "'str' object has no attribute 'shape'\n",
      "/usr/local/lib/python2.7/dist-packages/ipykernel_launcher.py:157: DeprecationWarning: BaseException.message has been deprecated as of Python 2.6\n"
     ]
    },
    {
     "name": "stderr",
     "output_type": "stream",
     "text": [
      "'str' object has no attribute 'shape'\n",
      "/usr/local/lib/python2.7/dist-packages/ipykernel_launcher.py:157: DeprecationWarning: BaseException.message has been deprecated as of Python 2.6\n",
      "/usr/local/lib/python2.7/dist-packages/ipykernel_launcher.py:157: DeprecationWarning: BaseException.message has been deprecated as of Python 2.6\n",
      "'str' object has no attribute 'shape'\n",
      "/usr/local/lib/python2.7/dist-packages/ipykernel_launcher.py:157: DeprecationWarning: BaseException.message has been deprecated as of Python 2.6\n",
      "'str' object has no attribute 'shape'\n",
      "'str' object has no attribute 'shape'\n",
      "/usr/local/lib/python2.7/dist-packages/ipykernel_launcher.py:157: DeprecationWarning: BaseException.message has been deprecated as of Python 2.6\n",
      "/usr/local/lib/python2.7/dist-packages/ipykernel_launcher.py:157: DeprecationWarning: BaseException.message has been deprecated as of Python 2.6\n",
      "'str' object has no attribute 'shape'\n",
      "'str' object has no attribute 'shape'\n",
      "'str' object has no attribute 'shape'\n",
      "/usr/local/lib/python2.7/dist-packages/ipykernel_launcher.py:157: DeprecationWarning: BaseException.message has been deprecated as of Python 2.6\n",
      "/usr/local/lib/python2.7/dist-packages/ipykernel_launcher.py:157: DeprecationWarning: BaseException.message has been deprecated as of Python 2.6\n",
      "/usr/local/lib/python2.7/dist-packages/ipykernel_launcher.py:157: DeprecationWarning: BaseException.message has been deprecated as of Python 2.6\n",
      "'str' object has no attribute 'shape'\n",
      "'str' object has no attribute 'shape'\n",
      "'str' object has no attribute 'shape'\n",
      "/usr/local/lib/python2.7/dist-packages/ipykernel_launcher.py:157: DeprecationWarning: BaseException.message has been deprecated as of Python 2.6\n",
      "/usr/local/lib/python2.7/dist-packages/ipykernel_launcher.py:157: DeprecationWarning: BaseException.message has been deprecated as of Python 2.6\n",
      "'str' object has no attribute 'shape'\n",
      "/usr/local/lib/python2.7/dist-packages/ipykernel_launcher.py:157: DeprecationWarning: BaseException.message has been deprecated as of Python 2.6\n",
      "/usr/local/lib/python2.7/dist-packages/ipykernel_launcher.py:157: DeprecationWarning: BaseException.message has been deprecated as of Python 2.6\n",
      "'str' object has no attribute 'shape'\n",
      "'str' object has no attribute 'shape'\n",
      "'str' object has no attribute 'shape'\n",
      "'str' object has no attribute 'shape'\n",
      "'str' object has no attribute 'shape'\n",
      "'str' object has no attribute 'shape'\n",
      "'str' object has no attribute 'shape'\n",
      "'str' object has no attribute 'shape'\n",
      "'str' object has no attribute 'shape'\n",
      "Visualize scoremaps: 0.28 seconds.\n",
      "/usr/local/lib/python2.7/dist-packages/ipykernel_launcher.py:157: DeprecationWarning: BaseException.message has been deprecated as of Python 2.6\n",
      "'str' object has no attribute 'shape'\n",
      "/usr/local/lib/python2.7/dist-packages/ipykernel_launcher.py:157: DeprecationWarning: BaseException.message has been deprecated as of Python 2.6\n",
      "/usr/local/lib/python2.7/dist-packages/ipykernel_launcher.py:157: DeprecationWarning: BaseException.message has been deprecated as of Python 2.6\n",
      "/usr/local/lib/python2.7/dist-packages/ipykernel_launcher.py:157: DeprecationWarning: BaseException.message has been deprecated as of Python 2.6\n",
      "'str' object has no attribute 'shape'\n",
      "'str' object has no attribute 'shape'\n",
      "/usr/local/lib/python2.7/dist-packages/ipykernel_launcher.py:157: DeprecationWarning: BaseException.message has been deprecated as of Python 2.6\n",
      "'str' object has no attribute 'shape'\n",
      "'str' object has no attribute 'shape'\n",
      "/usr/local/lib/python2.7/dist-packages/ipykernel_launcher.py:157: DeprecationWarning: BaseException.message has been deprecated as of Python 2.6\n",
      "/usr/local/lib/python2.7/dist-packages/ipykernel_launcher.py:157: DeprecationWarning: BaseException.message has been deprecated as of Python 2.6\n",
      "'str' object has no attribute 'shape'\n",
      "/usr/local/lib/python2.7/dist-packages/ipykernel_launcher.py:157: DeprecationWarning: BaseException.message has been deprecated as of Python 2.6\n",
      "'str' object has no attribute 'shape'\n",
      "'str' object has no attribute 'shape'\n",
      "/usr/local/lib/python2.7/dist-packages/ipykernel_launcher.py:157: DeprecationWarning: BaseException.message has been deprecated as of Python 2.6\n",
      "/usr/local/lib/python2.7/dist-packages/ipykernel_launcher.py:157: DeprecationWarning: BaseException.message has been deprecated as of Python 2.6\n",
      "'str' object has no attribute 'shape'\n",
      "/usr/local/lib/python2.7/dist-packages/ipykernel_launcher.py:157: DeprecationWarning: BaseException.message has been deprecated as of Python 2.6\n",
      "'str' object has no attribute 'shape'\n",
      "'str' object has no attribute 'shape'\n",
      "/usr/local/lib/python2.7/dist-packages/ipykernel_launcher.py:157: DeprecationWarning: BaseException.message has been deprecated as of Python 2.6\n",
      "/usr/local/lib/python2.7/dist-packages/ipykernel_launcher.py:157: DeprecationWarning: BaseException.message has been deprecated as of Python 2.6\n",
      "/usr/local/lib/python2.7/dist-packages/ipykernel_launcher.py:157: DeprecationWarning: BaseException.message has been deprecated as of Python 2.6\n",
      "'str' object has no attribute 'shape'\n",
      "'str' object has no attribute 'shape'\n",
      "/usr/local/lib/python2.7/dist-packages/ipykernel_launcher.py:157: DeprecationWarning: BaseException.message has been deprecated as of Python 2.6\n",
      "'str' object has no attribute 'shape'\n",
      "/usr/local/lib/python2.7/dist-packages/ipykernel_launcher.py:157: DeprecationWarning: BaseException.message has been deprecated as of Python 2.6\n",
      "'str' object has no attribute 'shape'\n",
      "/usr/local/lib/python2.7/dist-packages/ipykernel_launcher.py:157: DeprecationWarning: BaseException.message has been deprecated as of Python 2.6\n",
      "'str' object has no attribute 'shape'\n",
      "'str' object has no attribute 'shape'\n",
      "/usr/local/lib/python2.7/dist-packages/ipykernel_launcher.py:157: DeprecationWarning: BaseException.message has been deprecated as of Python 2.6\n",
      "/usr/local/lib/python2.7/dist-packages/ipykernel_launcher.py:157: DeprecationWarning: BaseException.message has been deprecated as of Python 2.6\n",
      "/usr/local/lib/python2.7/dist-packages/ipykernel_launcher.py:157: DeprecationWarning: BaseException.message has been deprecated as of Python 2.6\n",
      "/usr/local/lib/python2.7/dist-packages/ipykernel_launcher.py:157: DeprecationWarning: BaseException.message has been deprecated as of Python 2.6\n",
      "'str' object has no attribute 'shape'\n",
      "'str' object has no attribute 'shape'\n",
      "/usr/local/lib/python2.7/dist-packages/ipykernel_launcher.py:157: DeprecationWarning: BaseException.message has been deprecated as of Python 2.6\n",
      "/usr/local/lib/python2.7/dist-packages/ipykernel_launcher.py:157: DeprecationWarning: BaseException.message has been deprecated as of Python 2.6\n",
      "'str' object has no attribute 'shape'\n",
      "'str' object has no attribute 'shape'\n",
      "'str' object has no attribute 'shape'\n",
      "/usr/local/lib/python2.7/dist-packages/ipykernel_launcher.py:157: DeprecationWarning: BaseException.message has been deprecated as of Python 2.6\n",
      "'str' object has no attribute 'shape'\n",
      "'str' object has no attribute 'shape'\n",
      "'str' object has no attribute 'shape'\n",
      "'str' object has no attribute 'shape'\n",
      "'str' object has no attribute 'shape'\n",
      "'str' object has no attribute 'shape'\n",
      "'str' object has no attribute 'shape'\n",
      "'str' object has no attribute 'shape'\n",
      "Visualize scoremaps: 0.29 seconds.\n"
     ]
    }
   ],
   "source": [
    "# This can also be done in `pipeline_aws.ipynb`.\n",
    "\n",
    "for detector_id in [7,8,9,10]:           \n",
    "\n",
    "    ###################################\n",
    "    \n",
    "    detector_properties = detector_settings.loc[detector_id]\n",
    "    input_img_version = detector_properties['input_version']\n",
    "    windowing_id = int(detector_properties['windowing_id'])\n",
    "    model_name = detector_properties['feature_network']\n",
    "    classifier_id = int(detector_properties['feature_classifier_id'])\n",
    "\n",
    "    classifier_properties = classifier_settings.loc[classifier_id]\n",
    "    assert dataset_settings.loc[int(classifier_properties['train_set_id'].split('/')[0])]['network_model'] == model_name\n",
    "    svm_id = int(classifier_properties['svm_id'])\n",
    "\n",
    "    windowing_properties = windowing_settings[windowing_id]\n",
    "    patch_size = windowing_properties['patch_size']\n",
    "    spacing = windowing_properties['spacing']\n",
    "    w, h = metadata_cache['image_shape'][stack]\n",
    "    half_size = patch_size/2\n",
    "    \n",
    "    ########################\n",
    "    \n",
    "    available_classifiers = {svm_id: DataManager.load_classifiers(classifier_id=svm_id)}\n",
    "\n",
    "    def clf_predict(stack, fn):\n",
    "\n",
    "        if is_invalid(stack=stack, fn=fn):\n",
    "            return\n",
    "\n",
    "        try:\n",
    "            features = DataManager.load_dnn_features(stack=stack, model_name=model_name, fn=fn, \n",
    "                                                     win=windowing_id, input_img_version=input_img_version)\n",
    "        except Exception as e:\n",
    "            sys.stderr.write('%s\\n' % e.message)\n",
    "            return\n",
    "\n",
    "        clf_allClasses_ = available_classifiers[svm_id]\n",
    "\n",
    "        for structure, clf in clf_allClasses_.iteritems():\n",
    "\n",
    "            probs = clf.predict_proba(features)[:, clf.classes_.tolist().index(1.)]\n",
    "\n",
    "            output_fn = DataManager.get_sparse_scores_filepath(stack=stack, structure=structure, \n",
    "                                                               detector_id=detector_id, fn=fn)\n",
    "            create_parent_dir_if_not_exists(output_fn)\n",
    "            bp.pack_ndarray_file(probs, output_fn)\n",
    "            upload_to_s3(output_fn)\n",
    "\n",
    "\n",
    "    t = time.time()\n",
    "\n",
    "    pool = Pool(NUM_CORES/2)\n",
    "    pool.map(lambda fn: clf_predict(stack=stack, fn=fn), filenames)\n",
    "    pool.close()\n",
    "    pool.join()\n",
    "\n",
    "    sys.stderr.write('Classifier predict: %.2f\\n' % (time.time()-t))\n",
    "\n",
    "    #############################\n",
    "\n",
    "    downscale = 32\n",
    "\n",
    "    ##############################\n",
    "\n",
    "    def resample(fn):\n",
    "\n",
    "        if is_invalid(stack=stack, fn=fn):\n",
    "            return\n",
    "\n",
    "    #         t = time.time()\n",
    "\n",
    "        try:\n",
    "            _, sample_locations_roi = DataManager.load_patch_locations(stack=stack, fn=fn, win=windowing_id)\n",
    "        except Exception as e:\n",
    "            sys.stderr.write('Error loading patch locations for %s: %s.\\n' % (fn, str(e)))\n",
    "            return\n",
    "\n",
    "        #actual_setting = resolve_actual_setting(setting=classifier_id, stack=stack, fn=fn)\n",
    "\n",
    "        downscaled_grid_y = np.arange(0, h, downscale)\n",
    "        downscaled_grid_x = np.arange(0, w, downscale)\n",
    "        downscaled_ny = len(downscaled_grid_y)\n",
    "        downscaled_nx = len(downscaled_grid_x)\n",
    "\n",
    "        for structure in all_structures_with_classifiers:\n",
    "            try:\n",
    "                sparse_scores = DataManager.load_sparse_scores(stack, fn=fn, structure=structure, detector_id=detector_id)\n",
    "            except Exception as e:\n",
    "                sys.stderr.write('Error loading sparse scores for %s: %s\\n' % (structure, str(e)))\n",
    "                continue\n",
    "\n",
    "            f_grid = np.zeros(((h-half_size)/spacing+1, (w-half_size)/spacing+1))\n",
    "            a = (sample_locations_roi - half_size)/spacing\n",
    "            f_grid[a[:,1], a[:,0]] = sparse_scores\n",
    "\n",
    "            yinterps = (downscaled_grid_y - half_size)/float(spacing)\n",
    "            xinterps = (downscaled_grid_x - half_size)/float(spacing)\n",
    "\n",
    "            points_y, points_x = np.broadcast_arrays(yinterps.reshape(-1,1), xinterps)\n",
    "            coord = np.c_[points_y.flat, points_x.flat]\n",
    "            f_interp = map_coordinates(f_grid, coord.T, order=1)\n",
    "            f_interp_2d = f_interp.reshape((downscaled_ny, downscaled_nx))                       \n",
    "\n",
    "            scoremap_bp_filepath = \\\n",
    "            DataManager.get_downscaled_scoremap_filepath(stack=stack, fn=fn, \n",
    "                                                         structure=structure, \n",
    "                                                         detector_id=detector_id,\n",
    "                                                        downscale=downscale)\n",
    "\n",
    "            create_parent_dir_if_not_exists(scoremap_bp_filepath)\n",
    "            bp.pack_ndarray_file(f_interp_2d.astype(np.float16), scoremap_bp_filepath)\n",
    "            upload_to_s3(scoremap_bp_filepath)\n",
    "\n",
    "    #         sys.stderr.write('interpolate %d: %.2f seconds\\n' % (sec, time.time() - t)) \n",
    "\n",
    "    t = time.time()\n",
    "\n",
    "    pool = Pool(NUM_CORES/2)\n",
    "    # pool = Pool(1)\n",
    "    pool.map(resample, filenames)\n",
    "    pool.close()\n",
    "    pool.join()\n",
    "\n",
    "    sys.stderr.write('Resample: %.2f seconds\\n' % (time.time() - t)) \n",
    "\n",
    "    ###########################\n",
    "\n",
    "    add_label_text = True\n",
    "    cmap_name = 'jet'\n",
    "    bg_image_version = input_img_version\n",
    "    downscale = 8\n",
    "\n",
    "    #########################\n",
    "\n",
    "    for fn in filenames:\n",
    "\n",
    "        if is_invalid(stack=stack, fn=fn):\n",
    "            continue\n",
    "\n",
    "        t = time.time()\n",
    "\n",
    "        def save_scoremap(structure):\n",
    "            viz_fp = DataManager.get_scoremap_viz_filepath(stack=stack, downscale=downscale, fn=fn, structure=structure, detector_id=detector_id)\n",
    "            create_parent_dir_if_not_exists(viz_fp)\n",
    "\n",
    "            try:\n",
    "                if add_label_text:\n",
    "                    label_text = str(structure)\n",
    "                else:\n",
    "                    label_text = None\n",
    "                viz = scoremap_overlay_on(bg='original', stack=stack, fn=fn, structure=structure,\n",
    "                                    out_downscale=downscale, label_text=label_text, detector_id=detector_id,\n",
    "                                         cmap_name=cmap_name, image_version=bg_image_version)\n",
    "                imsave(viz_fp, img_as_ubyte(viz))\n",
    "                upload_to_s3(viz_fp)\n",
    "            except Exception as e:\n",
    "                # raise e\n",
    "                sys.stderr.write('%s\\n' % e.message)\n",
    "                return\n",
    "\n",
    "        # for s in all_known_structures:\n",
    "            # save_scoremap(s)\n",
    "\n",
    "        pool = Pool(NUM_CORES)\n",
    "        pool.map(save_scoremap, all_known_structures)\n",
    "        pool.close()\n",
    "        pool.join()\n",
    "\n",
    "        sys.stderr.write('Visualize scoremaps: %.2f seconds.\\n' % (time.time() - t))\n",
    "        # 7s for one structure, one section, single process\n",
    "        # 20s for all structures, one section, 8 processes\n"
   ]
  },
  {
   "cell_type": "code",
   "execution_count": null,
   "metadata": {
    "collapsed": true
   },
   "outputs": [],
   "source": []
  }
 ],
 "metadata": {
  "kernelspec": {
   "display_name": "Python 2",
   "language": "python",
   "name": "python2"
  },
  "language_info": {
   "codemirror_mode": {
    "name": "ipython",
    "version": 2
   },
   "file_extension": ".py",
   "mimetype": "text/x-python",
   "name": "python",
   "nbconvert_exporter": "python",
   "pygments_lexer": "ipython2",
   "version": "2.7.12"
  }
 },
 "nbformat": 4,
 "nbformat_minor": 2
}
