{
 "cells": [
  {
   "cell_type": "code",
   "execution_count": 1,
   "metadata": {
    "scrolled": true
   },
   "outputs": [
    {
     "name": "stdout",
     "output_type": "stream",
     "text": [
      "Setting environment for Precision WorkStation\n"
     ]
    },
    {
     "name": "stderr",
     "output_type": "stream",
     "text": [
      "No vtk\n",
      "/usr/local/lib/python2.7/dist-packages/sklearn/cross_validation.py:44: DeprecationWarning: This module was deprecated in version 0.18 in favor of the model_selection module into which all the refactored classes and functions are moved. Also note that the interface of the new CV iterators are different from that of this module. This module will be removed in 0.20.\n",
      "  \"This module will be removed in 0.20.\", DeprecationWarning)\n"
     ]
    }
   ],
   "source": [
    "%load_ext autoreload\n",
    "%autoreload 2\n",
    "\n",
    "import sys\n",
    "import os\n",
    "import time\n",
    "\n",
    "import numpy as np\n",
    "try:\n",
    "    import mxnet as mx\n",
    "except:\n",
    "    sys.stderr.write(\"Cannot import mxnet.\\n\")\n",
    "import matplotlib.pyplot as plt\n",
    "%matplotlib inline\n",
    "from skimage.exposure import rescale_intensity\n",
    "from skimage.transform import rotate\n",
    "\n",
    "sys.path.append(os.environ['REPO_DIR'] + '/utilities')\n",
    "from utilities2015 import *\n",
    "from metadata import *\n",
    "from data_manager import *\n",
    "from learning_utilities import *\n",
    "from distributed_utilities import *\n",
    "from visualization_utilities import *"
   ]
  },
  {
   "cell_type": "code",
   "execution_count": 2,
   "metadata": {
    "collapsed": true,
    "scrolled": true
   },
   "outputs": [],
   "source": [
    "from sklearn.externals import joblib\n",
    "\n",
    "from sklearn.linear_model import LogisticRegression\n",
    "from sklearn.svm import LinearSVC, SVC\n",
    "from sklearn.calibration import CalibratedClassifierCV\n",
    "from sklearn.ensemble import GradientBoostingClassifier \n",
    "\n",
    "sys.path.append('/home/yuncong/csd395/xgboost/python-package')\n",
    "try:\n",
    "    from xgboost.sklearn import XGBClassifier\n",
    "except:\n",
    "    sys.stderr.write('xgboost is not loaded.')"
   ]
  },
  {
   "cell_type": "code",
   "execution_count": 3,
   "metadata": {},
   "outputs": [
    {
     "name": "stderr",
     "output_type": "stream",
     "text": [
      "/usr/local/lib/python2.7/dist-packages/mxnet/module/base_module.py:53: UserWarning: \u001b[91mYou created Module with Module(..., label_names=['softmax_label']) but input with name 'softmax_label' is not found in symbol.list_arguments(). Did you mean one of:\n",
      "\tdata\u001b[0m\n",
      "  warnings.warn(msg)\n",
      "/usr/local/lib/python2.7/dist-packages/mxnet/module/base_module.py:65: UserWarning: Data provided by label_shapes don't match names specified by label_names ([] vs. ['softmax_label'])\n",
      "  warnings.warn(msg)\n"
     ]
    }
   ],
   "source": [
    "batch_size = 256\n",
    "model_dir_name = 'inception-bn-blue'\n",
    "model_name = 'inception-bn-blue'\n",
    "model, mean_img = load_mxnet_model(model_dir_name=model_dir_name, model_name=model_name, \n",
    "                                   num_gpus=1, batch_size=batch_size)"
   ]
  },
  {
   "cell_type": "code",
   "execution_count": 4,
   "metadata": {
    "collapsed": true
   },
   "outputs": [],
   "source": [
    "train_stacks = ['CHATM2']\n",
    "test_stacks = ['CHATM3']"
   ]
  },
  {
   "cell_type": "code",
   "execution_count": 5,
   "metadata": {
    "collapsed": true
   },
   "outputs": [],
   "source": [
    "stack_stain = {'CHATM2': 'F', 'CHATM3': 'F'}\n",
    "\n",
    "# Number of sections on which to sample examples from.\n",
    "stack_section_number = defaultdict(dict)\n",
    "\n",
    "for name_u in all_known_structures:\n",
    "    for st in train_stacks:\n",
    "        stack_section_number[st][name_u] = 10\n",
    "#         if name_u == '4N' or name_u == '10N':\n",
    "#             stack_section_number[st][name_u] = 20\n",
    "#         else:\n",
    "#             stack_section_number[st][name_u] = 10\n",
    "    for st in test_stacks:\n",
    "        stack_section_number[st][name_u] = 10\n",
    "\n",
    "stack_section_number.default_factory = None"
   ]
  },
  {
   "cell_type": "code",
   "execution_count": 6,
   "metadata": {
    "collapsed": true
   },
   "outputs": [],
   "source": [
    "win_id = 7"
   ]
  },
  {
   "cell_type": "code",
   "execution_count": 7,
   "metadata": {},
   "outputs": [
    {
     "name": "stdout",
     "output_type": "stream",
     "text": [
      "aws s3 cp --recursive \"s3://mousebrainatlas-data/CSHL_labelings_v3/CHATM2\" \"/home/yuncong/CSHL_labelings_v3/CHATM2\" --exclude \"*\" --include \"*win7*grid_indices_lookup*\"\n",
      "0\n",
      "latest timestamp:  05102018101342\n",
      "aws s3 cp --recursive \"s3://mousebrainatlas-data/CSHL_labelings_v3/CHATM3\" \"/home/yuncong/CSHL_labelings_v3/CHATM3\" --exclude \"*\" --include \"*win7*grid_indices_lookup*\"\n",
      "0\n",
      "latest timestamp:  04272018015834\n"
     ]
    }
   ],
   "source": [
    "grid_indices_lookup_allStacks = {}\n",
    "\n",
    "for stack in train_stacks + test_stacks:\n",
    "    try:\n",
    "#         grid_indices_lookup_allStacks[stack] = \\\n",
    "#         DataManager.load_annotation_to_grid_indices_lookup(stack=stack, win_id=win_id,\n",
    "#                                                            by_human=False, timestamp='latest',\n",
    "#                                                            detector_id_f=1,\n",
    "#                                                           return_locations=True)            \n",
    "\n",
    "        grid_indices_lookup_allStacks[stack] = \\\n",
    "        DataManager.load_annotation_to_grid_indices_lookup(stack=stack, win_id=win_id,\n",
    "                                                           by_human=True, timestamp='latest',\n",
    "                                                          return_locations=True, suffix='structures')            \n",
    "\n",
    "    except Exception as e:\n",
    "        print e\n",
    "        sys.stderr.write(\"Fail to load annotation grid lookup for %s.\\n\" % stack)"
   ]
  },
  {
   "cell_type": "code",
   "execution_count": 8,
   "metadata": {
    "collapsed": true
   },
   "outputs": [],
   "source": [
    "from itertools import chain\n",
    "all_labels = sorted(list(set(chain.from_iterable(set(grid_indices_lookup_allStacks[st].columns.tolist()) \n",
    "                                                 for st in train_stacks + test_stacks))))"
   ]
  },
  {
   "cell_type": "code",
   "execution_count": 9,
   "metadata": {
    "collapsed": true
   },
   "outputs": [],
   "source": [
    "def sample_addresses(stacks, structure):\n",
    "        \n",
    "    positive_labels = [structure]\n",
    "    negative_labels = get_negative_labels(structure, 'neg_has_all_surround', \n",
    "                                          margin='500um', labels_found=all_labels)\n",
    "\n",
    "    positive_addresses_all_stacks = {}\n",
    "    negative_addresses_all_stacks = {}\n",
    "        \n",
    "    for stack in stacks:\n",
    "\n",
    "        candidate_sections = list(chain(*[grid_indices_lookup_allStacks[stack][pl].dropna(how='any').index.tolist() \n",
    "                                      for pl in positive_labels]))\n",
    "\n",
    "        n_sections = stack_section_number[stack][structure]\n",
    "\n",
    "        if stack_stain[stack] == 'F':\n",
    "            neurotrace_sections = []\n",
    "            nissl_sections = []\n",
    "            for sec in candidate_sections:\n",
    "                if (metadata_cache['sections_to_filenames'][stack][sec].split('-')[1][0] == 'F') \\\n",
    "                or stack in ['CHATM2', 'CHATM3']:\n",
    "                    neurotrace_sections.append(sec)\n",
    "                else:\n",
    "                    nissl_sections.append(sec)\n",
    "            print 'neurotrace_sections', neurotrace_sections\n",
    "            print 'nissl_sections', nissl_sections\n",
    "            sampled_sections = np.random.choice(neurotrace_sections, min(len(neurotrace_sections), n_sections), replace=False)\n",
    "        else:\n",
    "            sampled_sections = np.random.choice(candidate_sections, min(len(candidate_sections), n_sections), replace=False)\n",
    "            \n",
    "        positive_addresses_all_stacks[stack] = sorted([(stack, sec, tuple(loc))\n",
    "for nl in set(positive_labels) & set(grid_indices_lookup_allStacks[stack].columns)\n",
    "  for sec, locs in grid_indices_lookup_allStacks[stack][nl].loc[sampled_sections].dropna().iteritems()\n",
    "  for loc in locs])\n",
    "\n",
    "        negative_addresses_all_stacks[stack] = sorted([(stack, sec, tuple(loc))\n",
    "for nl in set(negative_labels) & set(grid_indices_lookup_allStacks[stack].columns)\n",
    "  for sec, locs in grid_indices_lookup_allStacks[stack][nl].loc[sampled_sections].dropna().iteritems()\n",
    "  for loc in locs])\n",
    "\n",
    "    positive_addresses = sum(positive_addresses_all_stacks.values(), [])\n",
    "    negative_addresses = sum(negative_addresses_all_stacks.values(), [])\n",
    "\n",
    "    del positive_addresses_all_stacks, negative_addresses_all_stacks\n",
    "\n",
    "    return positive_addresses, negative_addresses"
   ]
  },
  {
   "cell_type": "code",
   "execution_count": 10,
   "metadata": {
    "collapsed": true
   },
   "outputs": [],
   "source": [
    "# train_scheme = 'stretch_min_max'\n",
    "# train_scheme = 'normalize_mu_sigma_global_(-1,5)'\n",
    "# train_scheme = 'normalize_mu_region_sigma_wholeImage_(-1,5)'\n",
    "# train_scheme = 'normalize_mu_region_sigma_wholeImage_(-1,9)'\n",
    "train_scheme = 'none'\n",
    "\n",
    "# test_scheme = 'stretch_min_max'\n",
    "# test_scheme = 'normalize_mu_sigma_global_(-1,5)'\n",
    "# test_scheme = 'normalize_mu_region_sigma_wholeImage_(-1,5)'\n",
    "# test_scheme = 'normalize_mu_region_sigma_wholeImage_(-1,9)'\n",
    "test_scheme = 'none'"
   ]
  },
  {
   "cell_type": "code",
   "execution_count": 11,
   "metadata": {
    "collapsed": true,
    "scrolled": true
   },
   "outputs": [],
   "source": [
    "# existing_classifier_id = 998 # If set, not train from scratch\n",
    "# existing_classifier_id = 990\n",
    "# extract_train_features = True"
   ]
  },
  {
   "cell_type": "code",
   "execution_count": 12,
   "metadata": {
    "collapsed": true
   },
   "outputs": [],
   "source": [
    "existing_classifier_id = None\n",
    "extract_train_features = True\n",
    "# classifier_id = 990 # MD585/MD589 -> MD594, cnn\n",
    "# classifier_id = 991 # MD585/MD589 -> MD594, lbp\n",
    "# classifier_id = 992 # MD585/MD589 -> MD594, glcm\n",
    "# classifier_id = 993 # MD585/MD589 -> MD594, mean greylevel\n",
    "classifier_id = 899 # CHATM2 -> CHATM2, cnn"
   ]
  },
  {
   "cell_type": "code",
   "execution_count": 13,
   "metadata": {
    "collapsed": true
   },
   "outputs": [],
   "source": [
    "# method = 'mean_intensity'\n",
    "method = 'cnn'"
   ]
  },
  {
   "cell_type": "code",
   "execution_count": 14,
   "metadata": {
    "scrolled": true
   },
   "outputs": [
    {
     "name": "stdout",
     "output_type": "stream",
     "text": [
      "neurotrace_sections [157, 158, 159, 160, 161, 197, 199, 201]\n",
      "nissl_sections []\n",
      "# positive train = 23\n",
      "# negative train = 5088\n",
      "('CHATM2', 158)\n",
      "('CHATM2', 201)\n",
      "('CHATM2', 159)\n",
      "('CHATM2', 197)\n",
      "('CHATM2', 199)\n",
      "('CHATM2', 160)\n",
      "('CHATM2', 161)\n",
      "('CHATM2', 157)\n",
      "neurotrace_sections [204, 205, 206, 207, 208, 245, 247]\n",
      "nissl_sections []\n",
      "# positive test = 17\n",
      "# negative test = 4359\n",
      "('CHATM3', 207)\n",
      "('CHATM3', 206)\n",
      "('CHATM3', 208)\n",
      "('CHATM3', 205)\n",
      "('CHATM3', 247)\n",
      "('CHATM3', 204)\n",
      "('CHATM3', 245)\n",
      "Training: 23 positive, 23 negative\n",
      "Test: 17 positive, 1000 negative\n",
      "aws s3 cp \"/data/CSHL_classifiers/setting_899/classifiers/6N_clf_setting_899.dump\" \"s3://mousebrainatlas-data/CSHL_classifiers/setting_899/classifiers/6N_clf_setting_899.dump\"\n"
     ]
    },
    {
     "name": "stderr",
     "output_type": "stream",
     "text": [
      "Fitting classifier: 0.00 seconds\n"
     ]
    },
    {
     "name": "stdout",
     "output_type": "stream",
     "text": [
      "0\n",
      "Training: 23 positive, 23 negative\n",
      "Test: 17 positive, 1000 negative\n",
      "aws s3 cp \"/data/CSHL_classifiers/setting_899/classifiers/6N_clf_setting_899.dump\" \"s3://mousebrainatlas-data/CSHL_classifiers/setting_899/classifiers/6N_clf_setting_899.dump\"\n"
     ]
    },
    {
     "name": "stderr",
     "output_type": "stream",
     "text": [
      "Fitting classifier: 0.00 seconds\n"
     ]
    },
    {
     "name": "stdout",
     "output_type": "stream",
     "text": [
      "0\n",
      "Training: 23 positive, 23 negative\n",
      "Test: 17 positive, 1000 negative\n",
      "aws s3 cp \"/data/CSHL_classifiers/setting_899/classifiers/6N_clf_setting_899.dump\" \"s3://mousebrainatlas-data/CSHL_classifiers/setting_899/classifiers/6N_clf_setting_899.dump\"\n"
     ]
    },
    {
     "name": "stderr",
     "output_type": "stream",
     "text": [
      "Fitting classifier: 0.00 seconds\n"
     ]
    },
    {
     "name": "stdout",
     "output_type": "stream",
     "text": [
      "0\n",
      "Training: 23 positive, 23 negative\n",
      "Test: 17 positive, 1000 negative\n",
      "aws s3 cp \"/data/CSHL_classifiers/setting_899/classifiers/6N_clf_setting_899.dump\" \"s3://mousebrainatlas-data/CSHL_classifiers/setting_899/classifiers/6N_clf_setting_899.dump\"\n"
     ]
    },
    {
     "name": "stderr",
     "output_type": "stream",
     "text": [
      "Fitting classifier: 0.00 seconds\n"
     ]
    },
    {
     "name": "stdout",
     "output_type": "stream",
     "text": [
      "0\n",
      "Training: 23 positive, 23 negative\n",
      "Test: 17 positive, 1000 negative\n",
      "aws s3 cp \"/data/CSHL_classifiers/setting_899/classifiers/6N_clf_setting_899.dump\" \"s3://mousebrainatlas-data/CSHL_classifiers/setting_899/classifiers/6N_clf_setting_899.dump\"\n"
     ]
    },
    {
     "name": "stderr",
     "output_type": "stream",
     "text": [
      "Fitting classifier: 0.00 seconds\n"
     ]
    },
    {
     "name": "stdout",
     "output_type": "stream",
     "text": [
      "0\n",
      "Training: 23 positive, 23 negative\n",
      "Test: 17 positive, 1000 negative\n",
      "aws s3 cp \"/data/CSHL_classifiers/setting_899/classifiers/6N_clf_setting_899.dump\" \"s3://mousebrainatlas-data/CSHL_classifiers/setting_899/classifiers/6N_clf_setting_899.dump\"\n"
     ]
    },
    {
     "name": "stderr",
     "output_type": "stream",
     "text": [
      "Fitting classifier: 0.00 seconds\n"
     ]
    },
    {
     "name": "stdout",
     "output_type": "stream",
     "text": [
      "0\n"
     ]
    },
    {
     "data": {
      "image/png": "[encoded data removed]",
      "text/plain": [
       "<matplotlib.figure.Figure at 0x7fd6c63d2b10>"
      ]
     },
     "metadata": {},
     "output_type": "display_data"
    },
    {
     "data": {
      "image/png": "[encoded data removed]",
      "text/plain": [
       "<matplotlib.figure.Figure at 0x7fd6853c6e90>"
      ]
     },
     "metadata": {},
     "output_type": "display_data"
    },
    {
     "name": "stderr",
     "output_type": "stream",
     "text": [
      "No handlers could be found for logger \"matplotlib.legend\"\n"
     ]
    },
    {
     "data": {
      "image/png": "[encoded data removed]",
      "text/plain": [
       "<matplotlib.figure.Figure at 0x7fd68f6464d0>"
      ]
     },
     "metadata": {},
     "output_type": "display_data"
    }
   ],
   "source": [
    "# for structure in all_known_structures:\n",
    "for structure in ['6N']:\n",
    "\n",
    "    # features_dict = {(scheme, tfv): {} for scheme in schemes for tfv in transforms}\n",
    "    features_dict = defaultdict(dict)\n",
    "\n",
    "    ############## Sample and Load training feature vectors #########################################\n",
    "\n",
    "    if extract_train_features:\n",
    "    \n",
    "        positive_addresses_traindata, negative_addresses_traindata = \\\n",
    "        sample_addresses(train_stacks, structure)\n",
    "\n",
    "        print '# positive train =', len(positive_addresses_traindata)\n",
    "        print '# negative train =', len(negative_addresses_traindata)\n",
    "\n",
    "        addresses_to_compute = positive_addresses_traindata + negative_addresses_traindata\n",
    "\n",
    "        for variant in [0]:\n",
    "            features_loaded = read_features(addresses=addresses_to_compute, \n",
    "                                            scheme=train_scheme, win_id=7, prep_id=2, \n",
    "                                            model=model, mean_img=mean_img, model_name=model_name, \n",
    "                                            batch_size=batch_size,\n",
    "                                           method=method,\n",
    "                                           compute_new_addresses=True\n",
    "#                                            compute_new_addresses=False\n",
    "                                           )\n",
    "            \n",
    "            for addr, f in izip(addresses_to_compute, features_loaded):\n",
    "                if f is not None:\n",
    "                    features_dict[(train_scheme, variant)][addr] = f\n",
    "\n",
    "            del features_loaded\n",
    "\n",
    "    ############## Sample and Load test feature vectors #############################################\n",
    "    \n",
    "    positive_addresses_testdata, negative_addresses_testdata = \\\n",
    "    sample_addresses(test_stacks, structure)\n",
    "    \n",
    "    print '# positive test =', len(positive_addresses_testdata)\n",
    "    print '# negative test =', len(negative_addresses_testdata)\n",
    "    \n",
    "    addresses_to_compute = positive_addresses_testdata + negative_addresses_testdata\n",
    "\n",
    "    for variant in [0]:\n",
    "        features_loaded = read_features(addresses=addresses_to_compute, \n",
    "                                        scheme=test_scheme, win_id=7, prep_id=2, \n",
    "                                        model=model, mean_img=mean_img, model_name=model_name, \n",
    "                                        batch_size=batch_size,\n",
    "                                           method=method,\n",
    "                                       compute_new_addresses=True\n",
    "#                                         compute_new_addresses=False\n",
    "                                       )\n",
    "\n",
    "        for addr, f in izip(addresses_to_compute, features_loaded):\n",
    "            if f is not None:\n",
    "                features_dict[(test_scheme, variant)][addr] = f\n",
    "\n",
    "        del features_loaded\n",
    "            \n",
    "    ########################################################################################\n",
    "    \n",
    "    # n_train_list = [10, 100, 200, 500, 1000, 2000, 5000, 10000, 15000]\n",
    "#     n_train_list = [10, 1000]\n",
    "#     n_train_list = [1000, 5000, 15000]\n",
    "    n_train_list = [1000, 5000]\n",
    "#     n_train_list = [15000]\n",
    "    test_metrics_all_ntrain = defaultdict(lambda: defaultdict(list))\n",
    "    train_metrics_all_ntrain = defaultdict(lambda: defaultdict(list))\n",
    "\n",
    "    for n_train in n_train_list:\n",
    "\n",
    "        for trial in range(3):\n",
    "            \n",
    "            ##### Sample from training pool the required number of examples ######\n",
    "\n",
    "            # If train and test data are from different sets\n",
    "            n_train_pos = min(n_train, len(positive_addresses_traindata))\n",
    "#             if len(positive_addresses_traindata) < n_train_pos:\n",
    "#                 continue\n",
    "            training_pos_indices = np.random.choice(range(len(positive_addresses_traindata)), n_train_pos, replace=False)\n",
    "            \n",
    "            n_test_pos = min(len(positive_addresses_testdata), 1000)\n",
    "            test_pos_indices = np.random.choice(range(len(positive_addresses_testdata)), n_test_pos, replace=False)\n",
    "\n",
    "            # If train and test are from same set\n",
    "        #     n_pos_total = len(positive_addresses)\n",
    "        #     n_train_pos = 1000\n",
    "        #     training_pos_indices = np.random.choice(range(n_pos_total), n_train_pos, replace=False)\n",
    "        #     test_pos_indices = np.random.choice(np.setdiff1d(range(n_pos_total), training_pos_indices),\n",
    "        #                                         size=min(2000, n_pos_total-n_train_pos), replace=False)\n",
    "        #     n_test_pos = len(test_pos_indices)\n",
    "\n",
    "            # If train and test data are from different sets\n",
    "            n_train_neg = n_train_pos\n",
    "            training_neg_indices = np.random.choice(range(len(negative_addresses_traindata)), n_train_neg, replace=False)\n",
    "            \n",
    "            n_test_neg = min(len(negative_addresses_testdata), 1000)\n",
    "            test_neg_indices = np.random.choice(range(len(negative_addresses_testdata)), n_test_neg, replace=False)\n",
    "\n",
    "            # If train and test are from same set\n",
    "        #     n_neg_total = len(negative_addresses)\n",
    "        #     n_train_neg = 1000\n",
    "        #     training_neg_indices = np.random.choice(range(n_neg_total), n_train_neg, replace=False)\n",
    "        #     test_neg_indices = np.random.choice(np.setdiff1d(range(n_neg_total), training_neg_indices), \n",
    "        #                                         size=min(2000, n_pos_total-n_train_pos), replace=False)\n",
    "        #     n_test_neg = len(test_neg_indices)\n",
    "\n",
    "            print \"Training: %d positive, %d negative\" % (n_train_pos, n_train_neg)\n",
    "            print \"Test: %d positive, %d negative\" % (n_test_pos, n_test_neg)\n",
    "\n",
    "            ################\n",
    "\n",
    "            if extract_train_features:\n",
    "                # If train and test data are from different sets\n",
    "                addresses_train_pos = [positive_addresses_traindata[i] for i in training_pos_indices]\n",
    "                addresses_train_neg = [negative_addresses_traindata[i] for i in training_neg_indices]\n",
    "\n",
    "            addresses_test_pos = [positive_addresses_testdata[i] for i in test_pos_indices]\n",
    "            addresses_test_neg = [negative_addresses_testdata[i] for i in test_neg_indices]\n",
    "\n",
    "            #################\n",
    "\n",
    "#             for augment_training in [True, False]:\n",
    "            for augment_training in [False]:\n",
    "        \n",
    "                feature_classifier_alg = 'lr'\n",
    "#                 feature_classifier_alg = 'xgb2'\n",
    "        #             feature_classifier_alg = 'lin_svc'\n",
    "        #             feature_classifier_alg = 'lin_svc_calib'\n",
    "                sample_weights = None   \n",
    "\n",
    "                if extract_train_features:\n",
    "            \n",
    "                    if augment_training:\n",
    "                        train_transforms = range(8)\n",
    "                    else:\n",
    "                        train_transforms = range(1)\n",
    "                    features_train_pos = {(train_scheme, tf_variant): \n",
    "                                          [features_dict[(train_scheme, tf_variant)][addr] \n",
    "                                           for addr in addresses_train_pos \n",
    "                                           if addr in features_dict[(train_scheme, tf_variant)]]\n",
    "                                              for tf_variant in train_transforms}\n",
    "                    features_train_neg = {(train_scheme, tf_variant): \n",
    "                                          [features_dict[(train_scheme, tf_variant)][addr] \n",
    "                                           for addr in addresses_train_neg\n",
    "                                           if addr in features_dict[(train_scheme, tf_variant)]]\n",
    "                                              for tf_variant in train_transforms}\n",
    "\n",
    "                    train_data = np.concatenate([np.r_[features_train_pos[(train_scheme,tf)], \n",
    "                                                       features_train_neg[(train_scheme,tf)]] \n",
    "                                                    for tf in train_transforms])\n",
    "                    train_labels = np.concatenate([np.r_[np.ones((len(features_train_pos[(train_scheme,tf)]), )), \n",
    "                                                        -np.ones((len(features_train_neg[(train_scheme,tf)]), ))]\n",
    "                                                  for tf in train_transforms])\n",
    "\n",
    "                if existing_classifier_id is None:\n",
    "                    clf = train_binary_classifier(train_data, train_labels,\n",
    "                                       alg=feature_classifier_alg, \n",
    "                                       sample_weights=sample_weights)\n",
    "\n",
    "    #                 del train_data, features_train_pos, features_train_neg\n",
    "\n",
    "                    clf_fp = DataManager.get_classifier_filepath(classifier_id=classifier_id, structure=structure)\n",
    "                    create_parent_dir_if_not_exists(clf_fp)\n",
    "                    joblib.dump(clf, clf_fp)\n",
    "                    upload_to_s3(clf_fp)\n",
    "                else:\n",
    "                    sys.stderr.write('Load existing classifiers %d\\n' % existing_classifier_id)\n",
    "                    clf = DataManager.load_classifiers(classifier_id=existing_classifier_id)[structure]\n",
    "                \n",
    "                ######################### Compute train metrics #########################\n",
    "                \n",
    "                if extract_train_features:\n",
    "                    train_metrics = compute_classification_metrics(clf.predict_proba(train_data)[:,1], train_labels)\n",
    "                    train_metrics_all_ntrain[n_train][(train_scheme, 'augment' if augment_training else 'no-augment')].append(train_metrics)\n",
    "                \n",
    "                ######################### Test ###############################\n",
    "                \n",
    "                test_transforms = range(1)\n",
    "                features_test_pos = {(test_scheme, tf_variant): \n",
    "                                      [features_dict[(test_scheme, tf_variant)][addr] \n",
    "                                       for addr in addresses_test_pos\n",
    "                                      if addr in features_dict[(test_scheme, tf_variant)]]\n",
    "                                          for tf_variant in test_transforms}\n",
    "                features_test_neg = {(test_scheme, tf_variant): \n",
    "                                      [features_dict[(test_scheme, tf_variant)][addr] \n",
    "                                       for addr in addresses_test_neg\n",
    "                                      if addr in features_dict[(test_scheme, tf_variant)]]\n",
    "                                          for tf_variant in test_transforms}\n",
    "                \n",
    "                test_data = np.concatenate([np.r_[features_test_pos[(test_scheme,tf_variant)], \n",
    "                                  features_test_neg[(test_scheme,tf_variant)]]\n",
    "                                            for tf_variant in train_transforms])\n",
    "                test_labels = np.concatenate([np.r_[np.ones((len(features_test_pos[(test_scheme,tf_variant)]), )), \n",
    "                                     -np.ones((len(features_test_neg[(test_scheme,tf_variant)]), ))]\n",
    "                                            for tf_variant in train_transforms])\n",
    "                test_metrics = compute_classification_metrics(clf.predict_proba(test_data)[:,1], test_labels)\n",
    "    #             print \"acc@0.5 = %.3f, acc@opt = %.3f, opt_thresh = %.3f, auroc = %.3f, auprc = %.3f\" % \\\n",
    "    #             (test_metrics['acc'][0.5], test_metrics['acc'][test_metrics['opt_thresh']], test_metrics['opt_thresh'], test_metrics['auroc'], test_metrics['auprc'])\n",
    "\n",
    "                test_metrics_all_ntrain[n_train][(test_scheme, 'augment' if augment_training else 'no-augment')].append(test_metrics)\n",
    "\n",
    "    train_metrics_all_ntrain.default_factory = None\n",
    "    test_metrics_all_ntrain.default_factory = None\n",
    "    \n",
    "    plot_result_wrt_ntrain(extract_one_metric(test_metrics_all_ntrain, 'acc', 0.5), ylabel='Test accuracy@0.5 threshold');\n",
    "    plot_result_wrt_ntrain(extract_one_metric(test_metrics_all_ntrain, 'auroc'), ylabel='Area under ROC');\n",
    "\n",
    "    plot_roc_curve(test_metrics_all_ntrain[1000][(test_scheme,\n",
    "                  'no-augment')][0]['fp'], \n",
    "                   test_metrics_all_ntrain[1000][(test_scheme,\n",
    "                  'no-augment')][0]['tp'], \n",
    "                  test_metrics_all_ntrain[1000][(test_scheme,\n",
    "                  'no-augment')][0]['opt_thresh']);\n",
    "    \n",
    "    import uuid\n",
    "\n",
    "    result = {\n",
    "        'n_sections': stack_section_number,\n",
    "        'stain': stack_stain,\n",
    "        'train_stacks': train_stacks,\n",
    "        'test_stacks': test_stacks,\n",
    "        'test_scheme': test_scheme,\n",
    "        'train_scheme': train_scheme,\n",
    "        'train_metrics_all_ntrain': train_metrics_all_ntrain,\n",
    "        'test_metrics_all_ntrain': test_metrics_all_ntrain,\n",
    "        'structure': structure,\n",
    "        'method': method,\n",
    "        'classifier_id': existing_classifier_id if existing_classifier_id is not None else classifier_id\n",
    "    }\n",
    "\n",
    "#     create_if_not_exists(ROOT_DIR + '/assessment_results_v3/')\n",
    "#     save_pickle(result, ROOT_DIR + '/assessment_results_v3/assessment_result_%s.pkl' % str(uuid.uuid1()).split('-')[0])"
   ]
  },
  {
   "cell_type": "code",
   "execution_count": 17,
   "metadata": {},
   "outputs": [
    {
     "data": {
      "text/plain": [
       "0.8676170000000001"
      ]
     },
     "execution_count": 17,
     "metadata": {},
     "output_type": "execute_result"
    }
   ],
   "source": [
    "np.mean(extract_one_metric(test_metrics_all_ntrain, 'auroc')[15000][('normalize_mu_region_sigma_wholeImage_(-1,5)','no-augment')])"
   ]
  },
  {
   "cell_type": "code",
   "execution_count": 18,
   "metadata": {},
   "outputs": [
    {
     "data": {
      "image/png": "[encoded data removed]",
      "text/plain": [
       "<matplotlib.figure.Figure at 0x7fdfdc654e10>"
      ]
     },
     "metadata": {},
     "output_type": "display_data"
    },
    {
     "data": {
      "image/png": "[encoded data removed]",
      "text/plain": [
       "<matplotlib.figure.Figure at 0x7fdfe41ead10>"
      ]
     },
     "metadata": {},
     "output_type": "display_data"
    }
   ],
   "source": [
    "plot_result_wrt_ntrain(extract_one_metric(test_metrics_all_ntrain, 'acc', 0.5), ylabel='Test accuracy@0.5 threshold');\n",
    "plot_result_wrt_ntrain(extract_one_metric(test_metrics_all_ntrain, 'auroc'), ylabel='Area under ROC');"
   ]
  }
 ],
 "metadata": {
  "kernelspec": {
   "display_name": "Python 2",
   "language": "python",
   "name": "python2"
  },
  "language_info": {
   "codemirror_mode": {
    "name": "ipython",
    "version": 2
   },
   "file_extension": ".py",
   "mimetype": "text/x-python",
   "name": "python",
   "nbconvert_exporter": "python",
   "pygments_lexer": "ipython2",
   "version": "2.7.12"
  }
 },
 "nbformat": 4,
 "nbformat_minor": 2
}
