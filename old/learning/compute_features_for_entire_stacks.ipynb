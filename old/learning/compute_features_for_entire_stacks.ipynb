{
 "cells": [
  {
   "cell_type": "code",
   "execution_count": 1,
   "metadata": {
    "scrolled": true
   },
   "outputs": [
    {
     "name": "stdout",
     "output_type": "stream",
     "text": [
      "Setting environment for Precision WorkStation\n"
     ]
    },
    {
     "name": "stderr",
     "output_type": "stream",
     "text": [
      "No vtk\n",
      "/usr/local/lib/python2.7/dist-packages/sklearn/cross_validation.py:44: DeprecationWarning: This module was deprecated in version 0.18 in favor of the model_selection module into which all the refactored classes and functions are moved. Also note that the interface of the new CV iterators are different from that of this module. This module will be removed in 0.20.\n",
      "  \"This module will be removed in 0.20.\", DeprecationWarning)\n"
     ]
    }
   ],
   "source": [
    "%reload_ext autoreload\n",
    "%autoreload 2\n",
    "\n",
    "import os\n",
    "import argparse\n",
    "import sys\n",
    "import time\n",
    "\n",
    "import numpy as np\n",
    "from multiprocess import Pool\n",
    "\n",
    "sys.path.append(os.path.join(os.environ['REPO_DIR'], 'utilities'))\n",
    "from utilities2015 import *\n",
    "from metadata import *\n",
    "from data_manager import *\n",
    "from learning_utilities import *\n",
    "\n",
    "%matplotlib inline"
   ]
  },
  {
   "cell_type": "code",
   "execution_count": 2,
   "metadata": {},
   "outputs": [
    {
     "name": "stderr",
     "output_type": "stream",
     "text": [
      "/usr/local/lib/python2.7/dist-packages/mxnet/module/base_module.py:53: UserWarning: \u001b[91mYou created Module with Module(..., label_names=['softmax_label']) but input with name 'softmax_label' is not found in symbol.list_arguments(). Did you mean one of:\n",
      "\tdata\u001b[0m\n",
      "  warnings.warn(msg)\n",
      "/usr/local/lib/python2.7/dist-packages/mxnet/module/base_module.py:65: UserWarning: Data provided by label_shapes don't match names specified by label_names ([] vs. ['softmax_label'])\n",
      "  warnings.warn(msg)\n"
     ]
    }
   ],
   "source": [
    "batch_size = 256\n",
    "model_dir_name = 'inception-bn-blue'\n",
    "model_name = 'inception-bn-blue'\n",
    "model, mean_img = load_mxnet_model(model_dir_name=model_dir_name, model_name=model_name, \n",
    "                                   num_gpus=1, batch_size=batch_size)"
   ]
  },
  {
   "cell_type": "code",
   "execution_count": 4,
   "metadata": {},
   "outputs": [
    {
     "name": "stderr",
     "output_type": "stream",
     "text": [
      "rm -rf \"/data/CSHL_data_processed/MD662/MD662_prep2_raw_NtbNormalizedAdaptiveInvertedGamma/MD662&661-F35-2017.06.05-17.08.18_MD662_1_0103_prep2_raw_NtbNormalizedAdaptiveInvertedGamma.tif\" && mkdir -p \"/data/CSHL_data_processed/MD662/MD662_prep2_raw_NtbNormalizedAdaptiveInvertedGamma\"\n",
      "return code: 0\n",
      "aws s3 cp \"s3://mousebrainatlas-data/CSHL_data_processed/MD662/MD662_prep2_raw_NtbNormalizedAdaptiveInvertedGamma/MD662&661-F35-2017.06.05-17.08.18_MD662_1_0103_prep2_raw_NtbNormalizedAdaptiveInvertedGamma.tif\" \"/data/CSHL_data_processed/MD662/MD662_prep2_raw_NtbNormalizedAdaptiveInvertedGamma/MD662&661-F35-2017.06.05-17.08.18_MD662_1_0103_prep2_raw_NtbNormalizedAdaptiveInvertedGamma.tif\"\n"
     ]
    },
    {
     "name": "stdout",
     "output_type": "stream",
     "text": [
      "/data/CSHL_data_processed/MD662/MD662_prep2_raw_NtbNormalizedAdaptiveInvertedGamma/MD662&661-F35-2017.06.05-17.08.18_MD662_1_0103_prep2_raw_NtbNormalizedAdaptiveInvertedGamma.tif\n"
     ]
    },
    {
     "name": "stderr",
     "output_type": "stream",
     "text": [
      "return code: 1\n",
      "Not using image_cache.\n",
      "NtbNormalizedAdaptiveInvertedGamma cannot be loaded."
     ]
    },
    {
     "ename": "Exception",
     "evalue": "Image loading failed.",
     "output_type": "error",
     "traceback": [
      "\u001b[0;31m---------------------------------------------------------------------------\u001b[0m",
      "\u001b[0;31mException\u001b[0m                                 Traceback (most recent call last)",
      "\u001b[0;32m<ipython-input-4-fa58e185fda4>\u001b[0m in \u001b[0;36m<module>\u001b[0;34m()\u001b[0m\n\u001b[1;32m      1\u001b[0m img = DataManager.load_image_v2(stack=stack, section=100, prep_id=2, \n\u001b[0;32m----> 2\u001b[0;31m                                 version='NtbNormalizedAdaptiveInvertedGamma')\n\u001b[0m",
      "\u001b[0;32m/home/yuncong/Brain/utilities/data_manager.py\u001b[0m in \u001b[0;36mload_image_v2\u001b[0;34m(stack, prep_id, resol, version, section, fn, data_dir, ext, thumbnail_data_dir)\u001b[0m\n\u001b[1;32m   4591\u001b[0m             \u001b[0;32melse\u001b[0m\u001b[0;34m:\u001b[0m\u001b[0;34m\u001b[0m\u001b[0m\n\u001b[1;32m   4592\u001b[0m                 \u001b[0msys\u001b[0m\u001b[0;34m.\u001b[0m\u001b[0mstderr\u001b[0m\u001b[0;34m.\u001b[0m\u001b[0mwrite\u001b[0m\u001b[0;34m(\u001b[0m\u001b[0;34m\"%s cannot be loaded.\"\u001b[0m \u001b[0;34m%\u001b[0m \u001b[0mversion\u001b[0m\u001b[0;34m)\u001b[0m\u001b[0;34m\u001b[0m\u001b[0m\n\u001b[0;32m-> 4593\u001b[0;31m                 \u001b[0;32mraise\u001b[0m \u001b[0mException\u001b[0m\u001b[0;34m(\u001b[0m\u001b[0;34m\"Image loading failed.\"\u001b[0m\u001b[0;34m)\u001b[0m\u001b[0;34m\u001b[0m\u001b[0m\n\u001b[0m\u001b[1;32m   4594\u001b[0m \u001b[0;34m\u001b[0m\u001b[0m\n\u001b[1;32m   4595\u001b[0m         \u001b[0;32mif\u001b[0m \u001b[0mversion\u001b[0m \u001b[0;34m==\u001b[0m \u001b[0;34m'mask'\u001b[0m\u001b[0;34m:\u001b[0m\u001b[0;34m\u001b[0m\u001b[0m\n",
      "\u001b[0;31mException\u001b[0m: Image loading failed."
     ]
    }
   ],
   "source": [
    "img = DataManager.load_image_v2(stack=stack, section=100, prep_id=2, \n",
    "                                version='NtbNormalizedAdaptiveInvertedGamma')"
   ]
  },
  {
   "cell_type": "code",
   "execution_count": 3,
   "metadata": {
    "scrolled": true
   },
   "outputs": [
    {
     "name": "stderr",
     "output_type": "stream",
     "text": [
      "locate patches: 0.04 seconds\n",
      "Recompute features requested... computing from scratch.\n",
      "rm -rf \"/data/CSHL_data_processed/MD662/MD662_prep2_raw_NtbNormalizedAdaptiveInvertedGamma/MD662&661-F35-2017.06.05-17.08.18_MD662_1_0103_prep2_raw_NtbNormalizedAdaptiveInvertedGamma.tif\" && mkdir -p \"/data/CSHL_data_processed/MD662/MD662_prep2_raw_NtbNormalizedAdaptiveInvertedGamma\"\n",
      "return code: 0\n",
      "aws s3 cp \"s3://mousebrainatlas-data/CSHL_data_processed/MD662/MD662_prep2_raw_NtbNormalizedAdaptiveInvertedGamma/MD662&661-F35-2017.06.05-17.08.18_MD662_1_0103_prep2_raw_NtbNormalizedAdaptiveInvertedGamma.tif\" \"/data/CSHL_data_processed/MD662/MD662_prep2_raw_NtbNormalizedAdaptiveInvertedGamma/MD662&661-F35-2017.06.05-17.08.18_MD662_1_0103_prep2_raw_NtbNormalizedAdaptiveInvertedGamma.tif\"\n"
     ]
    },
    {
     "name": "stdout",
     "output_type": "stream",
     "text": [
      "/data/CSHL_data_processed/MD662/MD662_prep2_raw_NtbNormalizedAdaptiveInvertedGamma/MD662&661-F35-2017.06.05-17.08.18_MD662_1_0103_prep2_raw_NtbNormalizedAdaptiveInvertedGamma.tif\n"
     ]
    },
    {
     "name": "stderr",
     "output_type": "stream",
     "text": [
      "return code: 1\n",
      "Not using image_cache.\n",
      "NtbNormalizedAdaptiveInvertedGamma cannot be loaded."
     ]
    },
    {
     "ename": "Exception",
     "evalue": "Image loading failed.",
     "output_type": "error",
     "traceback": [
      "\u001b[0;31m---------------------------------------------------------------------------\u001b[0m",
      "\u001b[0;31mException\u001b[0m                                 Traceback (most recent call last)",
      "\u001b[0;32m<ipython-input-3-ddf111bc62f5>\u001b[0m in \u001b[0;36m<module>\u001b[0;34m()\u001b[0m\n\u001b[1;32m     15\u001b[0m                                  \u001b[0mbatch_size\u001b[0m\u001b[0;34m=\u001b[0m\u001b[0mbatch_size\u001b[0m\u001b[0;34m,\u001b[0m\u001b[0;34m\u001b[0m\u001b[0m\n\u001b[1;32m     16\u001b[0m             \u001b[0mattach_timestamp\u001b[0m\u001b[0;34m=\u001b[0m\u001b[0mFalse\u001b[0m\u001b[0;34m,\u001b[0m\u001b[0;34m\u001b[0m\u001b[0m\n\u001b[0;32m---> 17\u001b[0;31m             recompute=True)\n\u001b[0m\u001b[1;32m     18\u001b[0m \u001b[0;31m#         break\u001b[0m\u001b[0;34m\u001b[0m\u001b[0;34m\u001b[0m\u001b[0m\n",
      "\u001b[0;32m/home/yuncong/Brain/utilities/learning_utilities.pyc\u001b[0m in \u001b[0;36mcompute_and_save_features_one_section\u001b[0;34m(scheme, win_id, stack, prep_id, locations_roi, bbox, sec, fn, method, model, mean_img, model_name, batch_size, attach_timestamp, version, recompute)\u001b[0m\n\u001b[1;32m   3015\u001b[0m                                           \u001b[0mstack\u001b[0m\u001b[0;34m=\u001b[0m\u001b[0mstack\u001b[0m\u001b[0;34m,\u001b[0m \u001b[0msection\u001b[0m\u001b[0;34m=\u001b[0m\u001b[0msec\u001b[0m\u001b[0;34m,\u001b[0m \u001b[0mlocations\u001b[0m\u001b[0;34m=\u001b[0m\u001b[0mlocations_to_compute\u001b[0m\u001b[0;34m,\u001b[0m\u001b[0;34m\u001b[0m\u001b[0m\n\u001b[1;32m   3016\u001b[0m                                           \u001b[0mmodel\u001b[0m\u001b[0;34m=\u001b[0m\u001b[0mmodel\u001b[0m\u001b[0;34m,\u001b[0m \u001b[0mmean_img\u001b[0m\u001b[0;34m=\u001b[0m\u001b[0mmean_img\u001b[0m\u001b[0;34m,\u001b[0m \u001b[0mbatch_size\u001b[0m\u001b[0;34m=\u001b[0m\u001b[0mbatch_size\u001b[0m\u001b[0;34m,\u001b[0m \u001b[0mmethod\u001b[0m\u001b[0;34m=\u001b[0m\u001b[0mmethod\u001b[0m\u001b[0;34m,\u001b[0m\u001b[0;34m\u001b[0m\u001b[0m\n\u001b[0;32m-> 3017\u001b[0;31m                                                  version=version)\n\u001b[0m\u001b[1;32m   3018\u001b[0m         \u001b[0msys\u001b[0m\u001b[0;34m.\u001b[0m\u001b[0mstderr\u001b[0m\u001b[0;34m.\u001b[0m\u001b[0mwrite\u001b[0m\u001b[0;34m(\u001b[0m\u001b[0;34m'Compute features at one section, multiple locations: %.2f seconds\\n'\u001b[0m \u001b[0;34m%\u001b[0m \u001b[0;34m(\u001b[0m\u001b[0mtime\u001b[0m\u001b[0;34m.\u001b[0m\u001b[0mtime\u001b[0m\u001b[0;34m(\u001b[0m\u001b[0;34m)\u001b[0m \u001b[0;34m-\u001b[0m \u001b[0mt\u001b[0m\u001b[0;34m)\u001b[0m\u001b[0;34m)\u001b[0m\u001b[0;34m\u001b[0m\u001b[0m\n\u001b[1;32m   3019\u001b[0m \u001b[0;34m\u001b[0m\u001b[0m\n",
      "\u001b[0;32m/home/yuncong/Brain/utilities/learning_utilities.pyc\u001b[0m in \u001b[0;36mcompute_features_at_one_section_locations\u001b[0;34m(scheme, win_id, stack, section, locations, method, model, mean_img, batch_size, version)\u001b[0m\n\u001b[1;32m   3055\u001b[0m                                                    \u001b[0moutput_patch_size\u001b[0m\u001b[0;34m=\u001b[0m\u001b[0;36m224\u001b[0m\u001b[0;34m,\u001b[0m\u001b[0;34m\u001b[0m\u001b[0m\n\u001b[1;32m   3056\u001b[0m                                                    \u001b[0mnormalization_scheme\u001b[0m\u001b[0;34m=\u001b[0m\u001b[0mscheme\u001b[0m\u001b[0;34m,\u001b[0m\u001b[0;34m\u001b[0m\u001b[0m\n\u001b[0;32m-> 3057\u001b[0;31m                                                   version=version)\n\u001b[0m\u001b[1;32m   3058\u001b[0m \u001b[0;34m\u001b[0m\u001b[0m\n\u001b[1;32m   3059\u001b[0m     \u001b[0msys\u001b[0m\u001b[0;34m.\u001b[0m\u001b[0mstderr\u001b[0m\u001b[0;34m.\u001b[0m\u001b[0mwrite\u001b[0m\u001b[0;34m(\u001b[0m\u001b[0;34m'Extract patches: %.2f seconds\\n'\u001b[0m \u001b[0;34m%\u001b[0m \u001b[0;34m(\u001b[0m\u001b[0mtime\u001b[0m\u001b[0;34m.\u001b[0m\u001b[0mtime\u001b[0m\u001b[0;34m(\u001b[0m\u001b[0;34m)\u001b[0m \u001b[0;34m-\u001b[0m \u001b[0mt\u001b[0m\u001b[0;34m)\u001b[0m\u001b[0;34m)\u001b[0m\u001b[0;34m\u001b[0m\u001b[0m\n",
      "\u001b[0;32m/home/yuncong/Brain/utilities/learning_utilities.pyc\u001b[0m in \u001b[0;36mextract_patches_given_locations\u001b[0;34m(patch_size, locs, img, stack, sec, fn, version, prep_id, normalization_scheme, is_nissl, output_patch_size)\u001b[0m\n\u001b[1;32m    823\u001b[0m \u001b[0;34m\u001b[0m\u001b[0m\n\u001b[1;32m    824\u001b[0m         \u001b[0;32mif\u001b[0m \u001b[0mstack\u001b[0m \u001b[0;32min\u001b[0m \u001b[0;34m[\u001b[0m\u001b[0;34m'CHATM2'\u001b[0m\u001b[0;34m,\u001b[0m \u001b[0;34m'CHATM3'\u001b[0m\u001b[0;34m,\u001b[0m \u001b[0;34m'MD661'\u001b[0m\u001b[0;34m,\u001b[0m \u001b[0;34m'MD662'\u001b[0m\u001b[0;34m,\u001b[0m \u001b[0;34m'MD658'\u001b[0m\u001b[0;34m]\u001b[0m\u001b[0;34m:\u001b[0m\u001b[0;34m\u001b[0m\u001b[0m\n\u001b[0;32m--> 825\u001b[0;31m             \u001b[0mimg\u001b[0m \u001b[0;34m=\u001b[0m \u001b[0mDataManager\u001b[0m\u001b[0;34m.\u001b[0m\u001b[0mload_image_v2\u001b[0m\u001b[0;34m(\u001b[0m\u001b[0mstack\u001b[0m\u001b[0;34m=\u001b[0m\u001b[0mstack\u001b[0m\u001b[0;34m,\u001b[0m \u001b[0msection\u001b[0m\u001b[0;34m=\u001b[0m\u001b[0msec\u001b[0m\u001b[0;34m,\u001b[0m \u001b[0mfn\u001b[0m\u001b[0;34m=\u001b[0m\u001b[0mfn\u001b[0m\u001b[0;34m,\u001b[0m \u001b[0mprep_id\u001b[0m\u001b[0;34m=\u001b[0m\u001b[0mprep_id\u001b[0m\u001b[0;34m,\u001b[0m \u001b[0mversion\u001b[0m\u001b[0;34m=\u001b[0m\u001b[0;34m'NtbNormalizedAdaptiveInvertedGamma'\u001b[0m\u001b[0;34m)\u001b[0m\u001b[0;34m\u001b[0m\u001b[0m\n\u001b[0m\u001b[1;32m    826\u001b[0m         \u001b[0;32melif\u001b[0m \u001b[0mstack\u001b[0m \u001b[0;32min\u001b[0m \u001b[0mall_nissl_stacks\u001b[0m\u001b[0;34m:\u001b[0m\u001b[0;34m\u001b[0m\u001b[0m\n\u001b[1;32m    827\u001b[0m             \u001b[0;31m# img = img_as_ubyte(rgb2gray(DataManager.load_image_v2(stack=stack, section=sec, fn=fn, prep_id=prep_id, version=version)))\u001b[0m\u001b[0;34m\u001b[0m\u001b[0;34m\u001b[0m\u001b[0m\n",
      "\u001b[0;32m/home/yuncong/Brain/utilities/data_manager.py\u001b[0m in \u001b[0;36mload_image_v2\u001b[0;34m(stack, prep_id, resol, version, section, fn, data_dir, ext, thumbnail_data_dir)\u001b[0m\n\u001b[1;32m   4591\u001b[0m             \u001b[0;32melse\u001b[0m\u001b[0;34m:\u001b[0m\u001b[0;34m\u001b[0m\u001b[0m\n\u001b[1;32m   4592\u001b[0m                 \u001b[0msys\u001b[0m\u001b[0;34m.\u001b[0m\u001b[0mstderr\u001b[0m\u001b[0;34m.\u001b[0m\u001b[0mwrite\u001b[0m\u001b[0;34m(\u001b[0m\u001b[0;34m\"%s cannot be loaded.\"\u001b[0m \u001b[0;34m%\u001b[0m \u001b[0mversion\u001b[0m\u001b[0;34m)\u001b[0m\u001b[0;34m\u001b[0m\u001b[0m\n\u001b[0;32m-> 4593\u001b[0;31m                 \u001b[0;32mraise\u001b[0m \u001b[0mException\u001b[0m\u001b[0;34m(\u001b[0m\u001b[0;34m\"Image loading failed.\"\u001b[0m\u001b[0;34m)\u001b[0m\u001b[0;34m\u001b[0m\u001b[0m\n\u001b[0m\u001b[1;32m   4594\u001b[0m \u001b[0;34m\u001b[0m\u001b[0m\n\u001b[1;32m   4595\u001b[0m         \u001b[0;32mif\u001b[0m \u001b[0mversion\u001b[0m \u001b[0;34m==\u001b[0m \u001b[0;34m'mask'\u001b[0m\u001b[0;34m:\u001b[0m\u001b[0;34m\u001b[0m\u001b[0m\n",
      "\u001b[0;31mException\u001b[0m: Image loading failed."
     ]
    }
   ],
   "source": [
    "# for stack in ['MD661', 'MD662']:\n",
    "# for stack in ['MD585', 'MD589', 'MD594']:\n",
    "for stack in ['MD662']:\n",
    "    for sec in metadata_cache['valid_sections'][stack][:1]:\n",
    "        compute_and_save_features_one_section(\n",
    "#                                 scheme='normalize_mu_region_sigma_wholeImage_(-1,5)', \n",
    "                                    scheme='none', \n",
    "    #                             bbox=(11217, 16886, 13859, 18404),\n",
    "#                                 method='glcm',\n",
    "                                method='cnn',\n",
    "                                win_id=7, prep_id=2,\n",
    "                                stack=stack, sec=sec,\n",
    "                                model=model, model_name=model_name,\n",
    "                                 mean_img=mean_img, \n",
    "                                 batch_size=batch_size, \n",
    "            attach_timestamp=False, \n",
    "            recompute=True)\n",
    "#         break"
   ]
  },
  {
   "cell_type": "code",
   "execution_count": null,
   "metadata": {
    "collapsed": true
   },
   "outputs": [],
   "source": []
  }
 ],
 "metadata": {
  "kernelspec": {
   "display_name": "Python 2",
   "language": "python",
   "name": "python2"
  },
  "language_info": {
   "codemirror_mode": {
    "name": "ipython",
    "version": 2
   },
   "file_extension": ".py",
   "mimetype": "text/x-python",
   "name": "python",
   "nbconvert_exporter": "python",
   "pygments_lexer": "ipython2",
   "version": "2.7.12"
  }
 },
 "nbformat": 4,
 "nbformat_minor": 2
}
