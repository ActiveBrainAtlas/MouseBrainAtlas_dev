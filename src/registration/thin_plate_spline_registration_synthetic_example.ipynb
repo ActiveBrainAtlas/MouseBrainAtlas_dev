{
 "cells": [
  {
   "cell_type": "code",
   "execution_count": 4,
   "metadata": {},
   "outputs": [
    {
     "name": "stdout",
     "output_type": "stream",
     "text": [
      "The autoreload extension is already loaded. To reload it, use:\n",
      "  %reload_ext autoreload\n"
     ]
    }
   ],
   "source": [
    "%load_ext autoreload\n",
    "%autoreload 2\n",
    "\n",
    "import sys\n",
    "import os\n",
    "import time\n",
    "from collections import defaultdict\n",
    "\n",
    "import numpy as np\n",
    "import matplotlib.pyplot as plt\n",
    "%matplotlib inline\n",
    "import numdifftools as nd\n",
    "\n",
    "sys.path.append(os.environ['REPO_DIR'] + '/utilities')\n",
    "from utilities2015 import *\n",
    "from metadata import *\n",
    "from data_manager import *\n",
    "from registration_utilities import *\n",
    "from annotation_utilities import *"
   ]
  },
  {
   "cell_type": "code",
   "execution_count": 5,
   "metadata": {
    "collapsed": true
   },
   "outputs": [],
   "source": [
    "v1 = np.zeros((100,100,100))\n",
    "v1[30:50, :, 40:60] = 1\n",
    "v1[10:30, :, 40:60] = -1\n",
    "v1[50:70, :, 40:60] = -1\n",
    "v1 = np.pad(v1, 50, 'constant', constant_values=0)\n",
    "\n",
    "v2 = np.zeros((100,100,100))\n",
    "v2[20:40, 50:, 40:60] = 1\n",
    "v2[:20, 50:, 40:60] = -1\n",
    "v2[40:60, 50:, 40:60] = -1\n",
    "v2[20:40, :50, 40:60] = -1\n",
    "v2[40:60, :50, 40:60] = 1\n",
    "v2[60:80, :50, 40:60] = -1\n",
    "v2 = np.pad(v2, 50, 'constant', constant_values=0)"
   ]
  },
  {
   "cell_type": "code",
   "execution_count": 6,
   "metadata": {
    "collapsed": true
   },
   "outputs": [],
   "source": [
    "# v1 = np.zeros((100,100,100))\n",
    "# v1[30:50, :-40, 40:60] = 1\n",
    "# v1 = np.pad(v1, 50, 'constant')\n",
    "\n",
    "# v2 = np.zeros((100,100,100))\n",
    "# v2[20:40, 40:, 40:60] = 1\n",
    "# v2 = np.pad(v2, 50, 'constant')"
   ]
  },
  {
   "cell_type": "code",
   "execution_count": 7,
   "metadata": {
    "scrolled": true
   },
   "outputs": [
    {
     "data": {
      "image/png": "[encoded data removed]",
      "text/plain": [
       "<matplotlib.figure.Figure at 0x7f91007e1410>"
      ]
     },
     "metadata": {},
     "output_type": "display_data"
    },
    {
     "data": {
      "image/png": "[encoded data removed]",
      "text/plain": [
       "<matplotlib.figure.Figure at 0x7f910077d910>"
      ]
     },
     "metadata": {},
     "output_type": "display_data"
    }
   ],
   "source": [
    "display_volume_sections(v1)\n",
    "display_volume_sections(v2)"
   ]
  },
  {
   "cell_type": "code",
   "execution_count": 8,
   "metadata": {
    "collapsed": true
   },
   "outputs": [],
   "source": [
    "gy1, gx1, gz1 = np.gradient(v1)\n",
    "gy2, gx2, gz2 = np.gradient(v2)"
   ]
  },
  {
   "cell_type": "code",
   "execution_count": 9,
   "metadata": {
    "collapsed": true
   },
   "outputs": [],
   "source": [
    "nz_ys, nz_xs, nz_zs = np.where(v1)\n",
    "nz_xyzs = np.c_[nz_xs, nz_ys, nz_zs]\n",
    "n_nz = len(nz_xs)\n",
    "\n",
    "# Phi = np.c_[np.ones((n_nz,)), nz_xs, nz_ys, nz_zs]"
   ]
  },
  {
   "cell_type": "code",
   "execution_count": 10,
   "metadata": {
    "collapsed": true
   },
   "outputs": [],
   "source": [
    "A = np.array([v1[y,x,z] for x,y,z in nz_xyzs])"
   ]
  },
  {
   "cell_type": "code",
   "execution_count": 15,
   "metadata": {
    "collapsed": true
   },
   "outputs": [],
   "source": [
    "ctrl_ys, ctrl_xs, ctrl_zs = np.meshgrid(np.arange(0, v1.shape[1], 20), np.arange(0, v1.shape[0], 20), np.arange(0, v1.shape[2], 20))\n",
    "ctrl_xyzs = np.c_[ctrl_xs.flatten(), ctrl_ys.flatten(), ctrl_zs.flatten()]\n",
    "n_ctrl = len(ctrl_xyzs)"
   ]
  },
  {
   "cell_type": "code",
   "execution_count": 16,
   "metadata": {
    "collapsed": true
   },
   "outputs": [],
   "source": [
    "Kappa_ctrlPts = np.array([np.linalg.norm(ctrl_xyzs - p, axis=1) for p in ctrl_xyzs])"
   ]
  },
  {
   "cell_type": "code",
   "execution_count": 17,
   "metadata": {
    "collapsed": true
   },
   "outputs": [],
   "source": [
    "lr = 1e-4"
   ]
  },
  {
   "cell_type": "code",
   "execution_count": 18,
   "metadata": {
    "scrolled": true
   },
   "outputs": [
    {
     "name": "stdout",
     "output_type": "stream",
     "text": [
      "0\n",
      "20000.0\n",
      "1\n",
      "29804.5442868\n",
      "2\n",
      "19806.5144374\n",
      "3\n",
      "43239.8168617\n",
      "4\n",
      "28874.0394777\n",
      "5\n",
      "45235.0065611\n",
      "6\n",
      "50405.9253957\n",
      "7\n",
      "44805.1523015\n",
      "8\n",
      "58256.4839491\n",
      "9\n",
      "55782.7848122\n",
      "10\n",
      "58121.8245935\n",
      "11\n",
      "61072.4482653\n",
      "12\n",
      "58157.2907166\n",
      "13\n",
      "70768.0043898\n",
      "14\n",
      "69267.1084641\n",
      "15\n",
      "66666.5660406\n",
      "16\n",
      "69935.5401333\n",
      "17\n",
      "67434.0137502\n",
      "18\n",
      "66816.5991262\n",
      "19\n",
      "67134.3081978\n",
      "20\n",
      "70182.1643301\n",
      "21\n",
      "72638.5559064\n",
      "22\n",
      "73902.4603721\n",
      "23\n",
      "73858.7806629\n",
      "24\n",
      "76391.7028076\n",
      "25\n",
      "78827.9563448\n",
      "26\n",
      "79059.9272344\n",
      "27\n",
      "79520.0816017\n",
      "28\n",
      "79450.0847901\n",
      "29\n",
      "79931.1985155\n",
      "30\n",
      "79878.2203131\n",
      "31\n",
      "79908.3085209\n",
      "32\n",
      "79949.3042944\n",
      "33\n",
      "79844.4112202\n",
      "34\n",
      "80076.4185528\n",
      "35\n",
      "80114.4710752\n",
      "36\n",
      "79883.5143388\n",
      "37\n",
      "80265.5804283\n",
      "38\n",
      "80408.5652056\n",
      "39\n",
      "80270.6497744\n",
      "40\n",
      "80413.6614912\n",
      "41\n",
      "80287.7332181\n",
      "42\n",
      "80071.7017886\n",
      "43\n",
      "80477.7939609\n",
      "44\n",
      "80560.7895749\n",
      "45\n",
      "80528.8356446\n",
      "46\n",
      "80631.8513436\n",
      "47\n",
      "80616.8887688\n",
      "48\n",
      "80577.895117\n",
      "49\n",
      "80574.9390577\n",
      "50\n",
      "80630.9484437\n",
      "51\n",
      "80652.9789324\n",
      "52\n",
      "80614.0108309\n",
      "53\n",
      "80524.0676554\n",
      "54\n",
      "80692.0776405\n",
      "55\n",
      "80570.0790436\n",
      "56\n",
      "80771.1153519\n",
      "57\n",
      "80676.1242409\n",
      "58\n",
      "80666.1197989\n",
      "59\n",
      "80687.1815493\n",
      "60\n",
      "80618.1820042\n",
      "61\n",
      "80655.2319487\n",
      "62\n",
      "80933.2006322\n",
      "63\n",
      "80846.2197747\n",
      "64\n",
      "80369.1985286\n",
      "65\n",
      "80921.2159317\n",
      "66\n",
      "80685.2468556\n",
      "67\n",
      "80651.2287783\n",
      "68\n",
      "80740.264044\n",
      "69\n",
      "80836.2534338\n",
      "70\n",
      "80599.296955\n",
      "71\n",
      "80798.3112118\n",
      "72\n",
      "80974.2699823\n",
      "73\n",
      "80836.2695205\n",
      "74\n",
      "80820.2595452\n",
      "75\n",
      "80616.2662286\n",
      "76\n",
      "81022.2429279\n",
      "77\n",
      "80882.2904229\n",
      "78\n",
      "80770.2171462\n",
      "79\n",
      "80894.3570855\n",
      "80\n",
      "80900.3226129\n",
      "81\n",
      "80576.3804753\n",
      "82\n",
      "80838.3471184\n",
      "83\n",
      "80652.3623414\n",
      "84\n",
      "81015.3621492\n",
      "85\n",
      "80794.3971123\n",
      "86\n",
      "80705.3510047\n",
      "87\n",
      "80674.3526924\n",
      "88\n",
      "81128.4409819\n",
      "89\n",
      "81017.4371052\n",
      "90\n",
      "80925.4024515\n",
      "91\n",
      "80699.4380888\n",
      "92\n",
      "80983.4494941\n",
      "93\n",
      "80730.3976931\n",
      "94\n",
      "80866.4490113\n",
      "95\n",
      "80738.4885747\n",
      "96\n",
      "80986.4561286\n",
      "97\n",
      "80703.4087132\n",
      "98\n",
      "80679.4488637\n",
      "99\n",
      "80735.4423047\n"
     ]
    }
   ],
   "source": [
    "Wx = np.zeros((n_ctrl,))\n",
    "Wy = np.zeros((n_ctrl,))\n",
    "Wz = np.zeros((n_ctrl,))\n",
    "\n",
    "dCdWx_historical = 0\n",
    "dCdWy_historical = 0\n",
    "dCdWz_historical = 0\n",
    "\n",
    "for iteration in range(100):\n",
    "    print iteration\n",
    "\n",
    "    r = np.array([np.linalg.norm(ctrl_xyzs - p, axis=1) for p in nz_xyzs])\n",
    "\n",
    "    Kappa = r\n",
    "\n",
    "    q = nz_xyzs + np.dot(Kappa, np.c_[Wx, Wy, Wz])\n",
    "\n",
    "    ###################################\n",
    "    \n",
    "    S = np.array([v2[int(y), int(x), int(z)] for x,y,z in q])\n",
    "    F = np.dot(A, S) - np.dot(Wx.T, np.dot(Kappa_ctrlPts, Wx)) - \\\n",
    "    np.dot(Wy.T, np.dot(Kappa_ctrlPts, Wy)) - \\\n",
    "    np.dot(Wz.T, np.dot(Kappa_ctrlPts, Wz))\n",
    "    print F\n",
    "    \n",
    "#     grid_points = [(x,y,100) for x in range(0,v1.shape[1],2) for y in range(0,v1.shape[0],2)]\n",
    "#     dist_to_ctrl = np.array([np.linalg.norm(ctrl_xyzs - p, axis=1) for p in grid_points])\n",
    "#     u = dist_to_ctrl\n",
    "#     warped_grid_points = grid_points + np.dot(u, np.c_[Wx, Wy, Wz])\n",
    "    \n",
    "#     plt.scatter(warped_grid_points[:,0], warped_grid_points[:,1], s=2)\n",
    "#     plt.show()\n",
    "    \n",
    "    #####################################\n",
    "    \n",
    "    dSdq_allTestPts = np.array([(gx2[y,x,z], gy2[y,x,z], gz2[y,x,z]) for x,y,z in q.astype(np.int)])\n",
    "\n",
    "    dqxdWx = Kappa\n",
    "    dqydWy = Kappa\n",
    "    dqzdWz = Kappa\n",
    "\n",
    "    dSdWx_allTestPts = dSdq_allTestPts[:,0][:,None] * dqxdWx\n",
    "    dSdWy_allTestPts = dSdq_allTestPts[:,1][:,None] * dqydWy\n",
    "    dSdWz_allTestPts = dSdq_allTestPts[:,2][:,None] * dqzdWz\n",
    "\n",
    "    dFdWx = np.dot(A, dSdWx_allTestPts)\n",
    "    dFdWy = np.dot(A, dSdWy_allTestPts)\n",
    "    dFdWz = np.dot(A, dSdWz_allTestPts)\n",
    "\n",
    "    dQdWx = 2*np.dot(Kappa_ctrlPts, Wx)\n",
    "    dQdWy = 2*np.dot(Kappa_ctrlPts, Wy)\n",
    "    dQdWz = 2*np.dot(Kappa_ctrlPts, Wz)\n",
    "    \n",
    "    gamma = 0\n",
    "    \n",
    "    dCdWx = dFdWx - gamma * dQdWx\n",
    "    dCdWy = dFdWy - gamma * dQdWy\n",
    "    dCdWz = dFdWz - gamma * dQdWz\n",
    "    \n",
    "    # AdaGrad Rule\n",
    "    dCdWx_historical += dCdWx**2\n",
    "    dCdWy_historical += dCdWy**2\n",
    "    dCdWz_historical += dCdWz**2\n",
    "    \n",
    "    dCdWx_adjusted = dCdWx / np.sqrt(dCdWx_historical + 1e-10)\n",
    "    dCdWy_adjusted = dCdWy / np.sqrt(dCdWy_historical + 1e-10)\n",
    "    dCdWz_adjusted = dCdWz / np.sqrt(dCdWz_historical + 1e-10)\n",
    "    \n",
    "    Wx = Wx + lr * dCdWx_adjusted\n",
    "    Wy = Wy + lr * dCdWy_adjusted\n",
    "    Wz = Wz + lr * dCdWz_adjusted\n",
    "    \n",
    "    ###############################\n",
    "    \n",
    "#     nzvoxels_m_temp = parallel_where_binary(v1 > 0)\n",
    "\n",
    "#     dist_to_ctrl = np.array([np.linalg.norm(ctrl_xyzs - p, axis=1) for p in nz_xyzs])\n",
    "#     u = dist_to_ctrl\n",
    "#     nzs_m_aligned_to_f = (nz_xyzs + np.dot(u, np.c_[Wx, Wy, Wz])).astype(np.int)\n",
    "\n",
    "#     ydim_f, xdim_f, zdim_f = v2.shape\n",
    "\n",
    "#     volume_m_aligned_to_f = np.zeros(v2.shape, v1.dtype)\n",
    "\n",
    "#     xs_f, ys_f, zs_f = nzs_m_aligned_to_f.T\n",
    "\n",
    "#     valid = (xs_f >= 0) & (ys_f >= 0) & (zs_f >= 0) & \\\n",
    "#     (xs_f < xdim_f) & (ys_f < ydim_f) & (zs_f < zdim_f)\n",
    "\n",
    "#     xs_m, ys_m, zs_m = nz_xyzs.T\n",
    "\n",
    "#     volume_m_aligned_to_f[ys_f[valid], xs_f[valid], zs_f[valid]] = \\\n",
    "#     v1[ys_m[valid], xs_m[valid], zs_m[valid]]\n",
    "\n",
    "#     del nzs_m_aligned_to_f\n",
    "\n",
    "#     if np.issubdtype(volume_m_aligned_to_f.dtype, np.float):\n",
    "#         dense_volume = fill_sparse_score_volume(volume_m_aligned_to_f)\n",
    "#     elif np.issubdtype(volume_m_aligned_to_f.dtype, np.integer):\n",
    "#         dense_volume = fill_sparse_volume(volume_m_aligned_to_f)\n",
    "#     else:\n",
    "#         raise Exception('transform_volume: Volume must be either float or int.')\n",
    "    \n",
    "#     display_images_in_grids([v1[..., 100], v2[..., 100], dense_volume[..., 100]],\n",
    "#                         nc=3, titles=['moving', 'fixed', 'deformed moving'],\n",
    "#                        cmap=plt.cm.gray, vmin=0, vmax=1)\n",
    "    \n",
    "    ###################################"
   ]
  },
  {
   "cell_type": "code",
   "execution_count": 20,
   "metadata": {},
   "outputs": [
    {
     "data": {
      "image/png": "[encoded data removed]",
      "text/plain": [
       "<matplotlib.figure.Figure at 0x7f8ef04b8e90>"
      ]
     },
     "metadata": {},
     "output_type": "display_data"
    }
   ],
   "source": [
    "grid_points = [(x,y,100) for x in range(0,v1.shape[1],2) for y in range(0,v1.shape[0],2)]\n",
    "dist_to_ctrl = np.array([np.linalg.norm(ctrl_xyzs - p, axis=1) for p in grid_points])\n",
    "u = dist_to_ctrl\n",
    "warped_grid_points = grid_points + np.dot(u, np.c_[Wx, Wy, Wz])\n",
    "\n",
    "plt.scatter(warped_grid_points[:,0], warped_grid_points[:,1], s=2)\n",
    "plt.show()"
   ]
  },
  {
   "cell_type": "code",
   "execution_count": 19,
   "metadata": {},
   "outputs": [
    {
     "data": {
      "image/png": "[encoded data removed]",
      "text/plain": [
       "<matplotlib.figure.Figure at 0x7f8ef04b8250>"
      ]
     },
     "metadata": {},
     "output_type": "display_data"
    }
   ],
   "source": [
    "nzvoxels_m_temp = parallel_where_binary(v1 > 0)\n",
    "\n",
    "dist_to_ctrl = np.array([np.linalg.norm(ctrl_xyzs - p, axis=1) for p in nz_xyzs])\n",
    "u = dist_to_ctrl\n",
    "nzs_m_aligned_to_f = (nz_xyzs + np.dot(u, np.c_[Wx, Wy, Wz])).astype(np.int)\n",
    "\n",
    "ydim_f, xdim_f, zdim_f = v2.shape\n",
    "\n",
    "volume_m_aligned_to_f = np.zeros(v2.shape, v1.dtype)\n",
    "\n",
    "xs_f, ys_f, zs_f = nzs_m_aligned_to_f.T\n",
    "\n",
    "valid = (xs_f >= 0) & (ys_f >= 0) & (zs_f >= 0) & \\\n",
    "(xs_f < xdim_f) & (ys_f < ydim_f) & (zs_f < zdim_f)\n",
    "\n",
    "xs_m, ys_m, zs_m = nz_xyzs.T\n",
    "\n",
    "volume_m_aligned_to_f[ys_f[valid], xs_f[valid], zs_f[valid]] = \\\n",
    "v1[ys_m[valid], xs_m[valid], zs_m[valid]]\n",
    "\n",
    "del nzs_m_aligned_to_f\n",
    "\n",
    "if np.issubdtype(volume_m_aligned_to_f.dtype, np.float):\n",
    "    dense_volume = fill_sparse_score_volume(volume_m_aligned_to_f)\n",
    "elif np.issubdtype(volume_m_aligned_to_f.dtype, np.integer):\n",
    "    dense_volume = fill_sparse_volume(volume_m_aligned_to_f)\n",
    "else:\n",
    "    raise Exception('transform_volume: Volume must be either float or int.')\n",
    "\n",
    "display_images_in_grids([v1[..., 100], v2[..., 100], dense_volume[..., 100]],\n",
    "                    nc=3, titles=['moving', 'fixed', 'deformed moving'],\n",
    "                   cmap=plt.cm.gray, vmin=0, vmax=1)"
   ]
  },
  {
   "cell_type": "code",
   "execution_count": null,
   "metadata": {
    "collapsed": true
   },
   "outputs": [],
   "source": []
  }
 ],
 "metadata": {
  "kernelspec": {
   "display_name": "Python 2",
   "language": "python",
   "name": "python2"
  },
  "language_info": {
   "codemirror_mode": {
    "name": "ipython",
    "version": 2
   },
   "file_extension": ".py",
   "mimetype": "text/x-python",
   "name": "python",
   "nbconvert_exporter": "python",
   "pygments_lexer": "ipython2",
   "version": "2.7.12"
  }
 },
 "nbformat": 4,
 "nbformat_minor": 2
}
