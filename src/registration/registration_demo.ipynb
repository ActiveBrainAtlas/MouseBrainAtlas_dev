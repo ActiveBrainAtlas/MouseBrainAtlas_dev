{
 "cells": [
  {
   "cell_type": "code",
   "execution_count": 1,
   "metadata": {},
   "outputs": [
    {
     "name": "stdout",
     "output_type": "stream",
     "text": [
      "Setting environment for Precision WorkStation\n",
      "{'DEMO998': 0.46}\n"
     ]
    },
    {
     "name": "stderr",
     "output_type": "stream",
     "text": [
      "ENABLE_UPLOAD_S3 is not set, default to False.\n",
      "ENABLE_DOWNLOAD_S3 is not set, default to False.\n",
      "No anchor.txt is found. Seems we are using the operation ini to provide anchor. Try to load operation ini.\n",
      "No anchor.txt is found. Seems we are using the operation ini to provide anchor. Try to load operation ini.\n",
      "No vtk\n",
      "No anchor.txt is found. Seems we are using the operation ini to provide anchor. Try to load operation ini.\n",
      "Seems you are using operation INIs to provide cropbox.\n",
      "No anchor.txt is found. Seems we are using the operation ini to provide anchor. Try to load operation ini.\n",
      "Seems you are using operation INIs to provide cropbox.\n"
     ]
    }
   ],
   "source": [
    "import sys\n",
    "import os\n",
    "import time\n",
    "\n",
    "import matplotlib\n",
    "# Force matplotlib to not use any Xwindows backend.\n",
    "matplotlib.use('Agg') # https://stackoverflow.com/a/3054314\n",
    "import matplotlib.pyplot as plt\n",
    "import numpy as np\n",
    "\n",
    "sys.path.append(os.path.join(os.environ['REPO_DIR'], 'utilities'))\n",
    "from utilities2015 import *\n",
    "from registration_utilities import *\n",
    "from annotation_utilities import *\n",
    "from metadata import *\n",
    "from data_manager import *\n",
    "\n",
    "from aligner_v3 import Aligner"
   ]
  },
  {
   "cell_type": "code",
   "execution_count": 3,
   "metadata": {},
   "outputs": [],
   "source": [
    "brain_f_spec = load_json('../../demo/demo_fixed_brain_spec_12N.json')\n",
    "brain_m_spec = load_json('../../demo/demo_moving_brain_spec_12N.json')\n",
    "registration_setting = 7\n",
    "use_simple_global = True\n"
   ]
  },
  {
   "cell_type": "code",
   "execution_count": 4,
   "metadata": {
    "collapsed": true
   },
   "outputs": [],
   "source": [
    "structures_f = brain_f_spec['structure']\n",
    "if isinstance(structures_f, str):\n",
    "    structures_f = [structures_f]\n",
    "    \n",
    "structures_m = brain_m_spec['structure']\n",
    "if isinstance(structures_m, str):\n",
    "    structures_m = [structures_m]\n",
    "\n",
    "if brain_f_spec['vol_type'] == 'annotationAsScore': # If Neurolucida annotation\n",
    "    fixed_surroundings_have_positive_value = True\n",
    "    fixed_use_surround = True\n",
    "elif brain_f_spec['vol_type'] == 'score': # If detection score map\n",
    "    fixed_surroundings_have_positive_value = False\n",
    "    fixed_use_surround = False\n",
    "else:\n",
    "    raise\n"
   ]
  },
  {
   "cell_type": "code",
   "execution_count": 5,
   "metadata": {},
   "outputs": [
    {
     "name": "stdout",
     "output_type": "stream",
     "text": [
      "upstream_warp_id                                                               None\n",
      "transform_type                                                                rigid\n",
      "grad_computation_sample_number                                               100000\n",
      "grid_search_sample_number                                                      1000\n",
      "std_tx_um                                                                        50\n",
      "std_ty_um                                                                        50\n",
      "std_tz_um                                                                        50\n",
      "std_theta_xy_degree                                                              10\n",
      "surround_weight                                                             inverse\n",
      "regularization_weight                                                           NaN\n",
      "terminate_thresh_trans                                                         0.01\n",
      "terminate_thresh_rot                                                           0.01\n",
      "history_len                                                                     100\n",
      "max_iter_num                                                                   5000\n",
      "learning_rate_trans                                                               1\n",
      "learning_rate_rot                                                              0.01\n",
      "comment                           structure registration with surround, no initi...\n",
      "Name: 7, dtype: object\n",
      "surround inverse True\n",
      "loaded_cropbox_resolution 10.0um\n",
      "voxel size for moving = 10.00 um\n",
      "voxel size for fixed = 10.00 um\n",
      "label_mapping_m2f {1: 1, 2: 1}\n",
      "{1: -0.2259316876134332, 2: 1.0}\n"
     ]
    },
    {
     "name": "stderr",
     "output_type": "stream",
     "text": [
      "Prior structure/index map not found. Generating a new one.\n",
      "Loaded moving volumes: [u'12N', u'12N_surround_200um'].\n",
      "Prior structure/index map not found. Generating a new one.\n",
      "Loaded fixed volumes: [u'12N'].\n",
      "Computing structure sizes: 0.00 s\n",
      "Label weights not set, default to 1 for all structures.\n",
      "Regularization weights not set, default to 0.\n",
      "indices_f: set([1])\n"
     ]
    }
   ],
   "source": [
    "alignment_spec = dict(stack_m=brain_m_spec, stack_f=brain_f_spec, warp_setting=registration_setting)\n",
    "\n",
    "brain_m_spec0 = brain_m_spec.copy()\n",
    "brain_m_spec0.pop(\"structure\")\n",
    "brain_f_spec0 = brain_f_spec.copy()\n",
    "brain_f_spec0.pop(\"structure\")\n",
    "simpleGlobal_alignment_spec = dict(stack_m=brain_m_spec0, stack_f=brain_f_spec0, warp_setting=0)\n",
    "\n",
    "aligner_parameters = generate_aligner_parameters_v2(alignment_spec=alignment_spec, \n",
    "                                                    structures_m=structures_m,\n",
    "                                                   fixed_structures_are_sided=True,\n",
    " fixed_surroundings_have_positive_value=fixed_surroundings_have_positive_value,\n",
    "                                                   fixed_use_surround=fixed_use_surround)\n",
    "\n",
    "aligner = Aligner(aligner_parameters['volume_fixed'], \n",
    "                  aligner_parameters['volume_moving'], \n",
    "                  labelIndexMap_m2f=aligner_parameters['label_mapping_m2f'])\n",
    "\n",
    "aligner.compute_gradient(smooth_first=True)\n",
    "aligner.set_label_weights(label_weights=aligner_parameters['label_weights_m'])\n"
   ]
  },
  {
   "cell_type": "code",
   "execution_count": 8,
   "metadata": {},
   "outputs": [
    {
     "name": "stderr",
     "output_type": "stream",
     "text": [
      "Set initial transform to [1.00000000e+00 0.00000000e+00 0.00000000e+00 1.03245321e+03\n",
      " 0.00000000e+00 1.00000000e+00 0.00000000e+00 4.14338454e+02\n",
      " 0.00000000e+00 0.00000000e+00 1.00000000e+00 4.48000000e+02].\n",
      "centroid_m: [1230.83790861  481.74054169  446.5       ], centroid_f: [1230.83790861  481.74054169  446.5       ]\n"
     ]
    }
   ],
   "source": [
    "if use_simple_global:\n",
    "    T_atlas_wrt_canonicalAtlasSpace_subject_wrt_wholebrain_atlasResol = np.loadtxt(os.path.join(DATA_ROOTDIR, 'CSHL_simple_global_registration', brain_f_spec['name'] + '_T_atlas_wrt_canonicalAtlasSpace_subject_wrt_wholebrain_atlasResol.txt'))\n",
    "    aligner.set_initial_transform(T_atlas_wrt_canonicalAtlasSpace_subject_wrt_wholebrain_atlasResol)\n",
    "    aligner.set_centroid(centroid_m='structure_centroid', centroid_f='centroid_m')\n",
    "else:\n",
    "    T_atlas_wrt_canonicalAtlasSpace_subject_wrt_wholebrain_atlasResol = np.array([[1,0,0,0],[0,1,0,0],[0,0,1,0]])\n",
    "    aligner.set_initial_transform(T_atlas_wrt_canonicalAtlasSpace_subject_wrt_wholebrain_atlasResol)\n",
    "    aligner.set_centroid(centroid_m='structure_centroid', centroid_f='structure_centroid')"
   ]
  },
  {
   "cell_type": "code",
   "execution_count": 9,
   "metadata": {},
   "outputs": [
    {
     "name": "stdout",
     "output_type": "stream",
     "text": [
      "[[1.00000000e+00 0.00000000e+00 0.00000000e+00 1.03245321e+03]\n",
      " [0.00000000e+00 1.00000000e+00 0.00000000e+00 4.14338454e+02]\n",
      " [0.00000000e+00 0.00000000e+00 1.00000000e+00 4.48000000e+02]\n",
      " [0.00000000e+00 0.00000000e+00 0.00000000e+00 1.00000000e+00]]\n"
     ]
    }
   ],
   "source": [
    "grid_search_T = np.array([[1,0,0,0],[0,1,0,0],[0,0,1,0]])\n",
    "init_T = compose_alignment_parameters([T_atlas_wrt_canonicalAtlasSpace_subject_wrt_wholebrain_atlasResol, grid_search_T])\n",
    "print init_T"
   ]
  },
  {
   "cell_type": "code",
   "execution_count": 10,
   "metadata": {},
   "outputs": [
    {
     "name": "stderr",
     "output_type": "stream",
     "text": [
      "/home/yuncong/MouseBrainAtlas/src/utilities/registration_utilities.py:1571: FutureWarning: Conversion of the second argument of issubdtype from `float` to `np.floating` is deprecated. In future, it will be treated as `np.float64 == np.dtype(float).type`.\n",
      "  if np.issubdtype(volume_m_aligned_to_f.dtype, np.float):\n",
      "Interpolating/filling sparse volume: 0.05 seconds.\n",
      "Interpolating/filling sparse volume: 0.09 seconds.\n"
     ]
    }
   ],
   "source": [
    "for structure_m in structures_m:\n",
    "\n",
    "    for s in [structure_m, convert_to_surround_name(name=structure_m, margin='200um')]:\n",
    "    \n",
    "        stack_m_spec = dict(name='atlasV7',\n",
    "                   vol_type='score',\n",
    "                   structure=s,\n",
    "                    resolution='10.0um'\n",
    "                   )\n",
    "\n",
    "    #     stack_f_spec = dict(name=stack,\n",
    "    #                        vol_type='score',\n",
    "    #                        detector_id=detector_id,\n",
    "    #                        structure=convert_to_original_name(structure_m),\n",
    "    #                         resolution='10.0um'\n",
    "    #                        )\n",
    "\n",
    "        # local_alignment_spec = dict(stack_m=stack_m_spec, \n",
    "        #                       stack_f=stack_f_spec,\n",
    "        #                       warp_setting=registration_setting)\n",
    "\n",
    "        # DataManager.save_alignment_results_v3(transform_parameters=convert_transform_forms(transform=tf_atlas_to_subj, out_form='dict'),\n",
    "        #                score_traj=aligner.scores,\n",
    "        #                parameter_traj=aligner.Ts,\n",
    "        #               alignment_spec=local_alignment_spec)\n",
    "\n",
    "        # tf_atlas_to_subj = DataManager.load_alignment_results_v3(local_alignment_spec, what='parameters', out_form=(4,4))\n",
    "\n",
    "        atlas_structure_wrt_canonicalAtlasSpace_atlasResol = \\\n",
    "        DataManager.load_original_volume_v2(stack_spec=stack_m_spec, bbox_wrt='canonicalAtlasSpace', structure=s)\n",
    "\n",
    "#         aligned_structure_wrt_wholebrain_inputResol = \\\n",
    "#         transform_volume_v4(volume=atlas_structure_wrt_canonicalAtlasSpace_atlasResol,\n",
    "#                             transform=tf_atlas_to_subj,\n",
    "#                             return_origin_instead_of_bbox=True)\n",
    "\n",
    "#         DataManager.save_transformed_volume_v2(volume=aligned_structure_wrt_wholebrain_inputResol, \n",
    "#                                                alignment_spec=alignment_spec,\n",
    "#                                               structure=s,\n",
    "#                                                upload_s3=False)\n",
    "\n",
    "        ###############################\n",
    "\n",
    "\n",
    "        aligned_structure_wrt_wholebrain_inputResol = \\\n",
    "        transform_volume_v4(volume=atlas_structure_wrt_canonicalAtlasSpace_atlasResol,\n",
    "                            transform=init_T,\n",
    "                            return_origin_instead_of_bbox=True)\n",
    "\n",
    "#         DataManager.save_transformed_volume_v2(volume=aligned_structure_wrt_wholebrain_inputResol, \n",
    "#                                                alignment_spec=simpleGlobal_alignment_spec,\n",
    "#                                               structure=s,\n",
    "#                                                upload_s3=False)"
   ]
  },
  {
   "cell_type": "code",
   "execution_count": 19,
   "metadata": {},
   "outputs": [
    {
     "data": {
      "text/plain": [
       "array([198.04543786,  66.57848514,  -1.5       ])"
      ]
     },
     "execution_count": 19,
     "metadata": {},
     "output_type": "execute_result"
    }
   ],
   "source": [
    "atlas_structure_wrt_canonicalAtlasSpace_atlasResol[1]+compute_centroid_3d(atlas_structure_wrt_canonicalAtlasSpace_atlasResol[0])"
   ]
  },
  {
   "cell_type": "code",
   "execution_count": 17,
   "metadata": {},
   "outputs": [
    {
     "data": {
      "text/plain": [
       "array([[1.00000000e+00, 0.00000000e+00, 0.00000000e+00, 1.03245321e+03],\n",
       "       [0.00000000e+00, 1.00000000e+00, 0.00000000e+00, 4.14338454e+02],\n",
       "       [0.00000000e+00, 0.00000000e+00, 1.00000000e+00, 4.48000000e+02],\n",
       "       [0.00000000e+00, 0.00000000e+00, 0.00000000e+00, 1.00000000e+00]])"
      ]
     },
     "execution_count": 17,
     "metadata": {},
     "output_type": "execute_result"
    }
   ],
   "source": [
    "init_T"
   ]
  },
  {
   "cell_type": "code",
   "execution_count": 16,
   "metadata": {},
   "outputs": [
    {
     "data": {
      "text/plain": [
       "array([1230.23848538,  480.45666516,  446.5       ])"
      ]
     },
     "execution_count": 16,
     "metadata": {},
     "output_type": "execute_result"
    }
   ],
   "source": [
    "compute_centroid_3d(aligned_structure_wrt_wholebrain_inputResol[0]) + aligned_structure_wrt_wholebrain_inputResol[1]"
   ]
  }
 ],
 "metadata": {
  "kernelspec": {
   "display_name": "Python 2",
   "language": "python",
   "name": "python2"
  },
  "language_info": {
   "codemirror_mode": {
    "name": "ipython",
    "version": 2
   },
   "file_extension": ".py",
   "mimetype": "text/x-python",
   "name": "python",
   "nbconvert_exporter": "python",
   "pygments_lexer": "ipython2",
   "version": "2.7.12"
  }
 },
 "nbformat": 4,
 "nbformat_minor": 2
}
