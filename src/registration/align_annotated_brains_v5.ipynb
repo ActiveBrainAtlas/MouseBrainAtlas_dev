{
 "cells": [
  {
   "cell_type": "code",
   "execution_count": 1,
   "metadata": {
    "scrolled": true
   },
   "outputs": [
    {
     "name": "stdout",
     "output_type": "stream",
     "text": [
      "Setting environment for Local Macbook Pro\n"
     ]
    }
   ],
   "source": [
    "%load_ext autoreload\n",
    "%autoreload 2\n",
    "\n",
    "import sys\n",
    "import os\n",
    "import time\n",
    "\n",
    "import numpy as np\n",
    "import matplotlib.pyplot as plt\n",
    "%matplotlib inline\n",
    "\n",
    "sys.path.append(os.environ['REPO_DIR'] + '/utilities')\n",
    "from utilities2015 import *\n",
    "from registration_utilities import *\n",
    "from data_manager import *\n",
    "from metadata import *"
   ]
  },
  {
   "cell_type": "code",
   "execution_count": 2,
   "metadata": {
    "collapsed": true
   },
   "outputs": [],
   "source": [
    "stack_m_spec = dict(name='MD594',\n",
    "                   vol_type='annotationAsScore',\n",
    "                   detector_id=None,\n",
    "                   prep_id=None,\n",
    "                   structure=None,\n",
    "                   resolution='10.0um')\n",
    "\n",
    "stack_f_spec = dict(name='MD589',\n",
    "                   vol_type='annotationAsScore',\n",
    "                   detector_id=None,\n",
    "                   prep_id=None,\n",
    "                   structure=None,\n",
    "                   resolution='10.0um')\n",
    "\n",
    "midsagittal_alignment_spec = dict(stack_m=stack_m_spec, \n",
    "                      stack_f=stack_f_spec,\n",
    "                      warp_setting=8)"
   ]
  },
  {
   "cell_type": "code",
   "execution_count": 4,
   "metadata": {
    "scrolled": true
   },
   "outputs": [
    {
     "name": "stdout",
     "output_type": "stream",
     "text": [
      "upstream_warp_id                                       None\n",
      "transform_type                                        rigid\n",
      "terminate_thresh                                      1e-06\n",
      "grad_computation_sample_number                       100000\n",
      "grid_search_sample_number                             10000\n",
      "std_tx_um                                               200\n",
      "std_ty_um                                               200\n",
      "std_tz_um                                               200\n",
      "std_theta_xy_degree                                      30\n",
      "surround_weight                                         NaN\n",
      "regularization_weight                                     0\n",
      "comment                           align mid-sagittal planes\n",
      "max_iter_num                                            NaN\n",
      "Name: 8, dtype: object\n",
      "surround nan False\n"
     ]
    },
    {
     "name": "stderr",
     "output_type": "stream",
     "text": [
      "Prior structure/index map not found. Generating a new one.\n"
     ]
    },
    {
     "name": "stdout",
     "output_type": "stream",
     "text": [
      "rm -rf \"/media/yuncong/YuncongPublic/CSHL_volumes/MD594/MD594_10.0um_annotationAsScoreVolume/score_volumes/MD594_10.0um_annotationAsScoreVolume_5N_L_bbox_wrt_atlasSpace.txt\" && mkdir -p \"/media/yuncong/YuncongPublic/CSHL_volumes/MD594/MD594_10.0um_annotationAsScoreVolume/score_volumes\"\n",
      "0\n",
      "aws s3 cp \"s3://mousebrainatlas-data/CSHL_volumes/MD594/MD594_10.0um_annotationAsScoreVolume/score_volumes/MD594_10.0um_annotationAsScoreVolume_5N_L_bbox_wrt_atlasSpace.txt\" \"/media/yuncong/YuncongPublic/CSHL_volumes/MD594/MD594_10.0um_annotationAsScoreVolume/score_volumes/MD594_10.0um_annotationAsScoreVolume_5N_L_bbox_wrt_atlasSpace.txt\"\n",
      "1\n"
     ]
    },
    {
     "name": "stderr",
     "output_type": "stream",
     "text": [
      "File does not exist: /media/yuncong/YuncongPublic/CSHL_volumes/MD594/MD594_10.0um_annotationAsScoreVolume/score_volumes/MD594_10.0um_annotationAsScoreVolume_5N_L_bbox_wrt_atlasSpace.txt\n"
     ]
    },
    {
     "ename": "IOError",
     "evalue": "[Errno 2] No such file or directory: '/media/yuncong/YuncongPublic/CSHL_volumes/MD594/MD594_10.0um_annotationAsScoreVolume/score_volumes/MD594_10.0um_annotationAsScoreVolume_5N_L_bbox_wrt_atlasSpace.txt'",
     "output_type": "error",
     "traceback": [
      "\u001b[0;31m---------------------------------------------------------------------------\u001b[0m",
      "\u001b[0;31mIOError\u001b[0m                                   Traceback (most recent call last)",
      "\u001b[0;32m<ipython-input-4-5c0a59a1858d>\u001b[0m in \u001b[0;36m<module>\u001b[0;34m()\u001b[0m\n\u001b[1;32m      1\u001b[0m midsagittal_aligner_parameters = generate_aligner_parameters_v2(alignment_spec=midsagittal_alignment_spec,\n\u001b[1;32m      2\u001b[0m \u001b[0mstructures_m\u001b[0m\u001b[0;34m=\u001b[0m\u001b[0;34m[\u001b[0m\u001b[0;34m'5N_L'\u001b[0m\u001b[0;34m,\u001b[0m \u001b[0;34m'5N_R'\u001b[0m\u001b[0;34m,\u001b[0m \u001b[0;34m'6N_L'\u001b[0m\u001b[0;34m,\u001b[0m \u001b[0;34m'6N_R'\u001b[0m\u001b[0;34m,\u001b[0m \u001b[0;34m'7N_L'\u001b[0m\u001b[0;34m,\u001b[0m \u001b[0;34m'7N_R'\u001b[0m\u001b[0;34m,\u001b[0m \u001b[0;34m'7n_L'\u001b[0m\u001b[0;34m,\u001b[0m \u001b[0;34m'7n_R'\u001b[0m\u001b[0;34m,\u001b[0m \u001b[0;34m'Amb_L'\u001b[0m\u001b[0;34m,\u001b[0m \u001b[0;34m'Amb_R'\u001b[0m\u001b[0;34m,\u001b[0m \u001b[0;34m'LC_L'\u001b[0m\u001b[0;34m,\u001b[0m \u001b[0;34m'LC_R'\u001b[0m\u001b[0;34m,\u001b[0m \u001b[0;34m'LRt_L'\u001b[0m\u001b[0;34m,\u001b[0m \u001b[0;34m'LRt_R'\u001b[0m\u001b[0;34m,\u001b[0m \u001b[0;34m'Pn_L'\u001b[0m\u001b[0;34m,\u001b[0m \u001b[0;34m'Pn_R'\u001b[0m\u001b[0;34m,\u001b[0m \u001b[0;34m'Tz_L'\u001b[0m\u001b[0;34m,\u001b[0m \u001b[0;34m'Tz_R'\u001b[0m\u001b[0;34m,\u001b[0m \u001b[0;34m'VLL_L'\u001b[0m\u001b[0;34m,\u001b[0m \u001b[0;34m'VLL_R'\u001b[0m\u001b[0;34m,\u001b[0m \u001b[0;34m'RMC_L'\u001b[0m\u001b[0;34m,\u001b[0m \u001b[0;34m'RMC_R'\u001b[0m\u001b[0;34m,\u001b[0m \u001b[0;34m'SNC_L'\u001b[0m\u001b[0;34m,\u001b[0m \u001b[0;34m'SNC_R'\u001b[0m\u001b[0;34m,\u001b[0m \u001b[0;34m'SNR_L'\u001b[0m\u001b[0;34m,\u001b[0m \u001b[0;34m'SNR_R'\u001b[0m\u001b[0;34m,\u001b[0m \u001b[0;34m'3N_L'\u001b[0m\u001b[0;34m,\u001b[0m \u001b[0;34m'3N_R'\u001b[0m\u001b[0;34m,\u001b[0m \u001b[0;34m'4N_L'\u001b[0m\u001b[0;34m,\u001b[0m \u001b[0;34m'4N_R'\u001b[0m\u001b[0;34m,\u001b[0m \u001b[0;34m'Sp5C_L'\u001b[0m\u001b[0;34m,\u001b[0m \u001b[0;34m'Sp5C_R'\u001b[0m\u001b[0;34m,\u001b[0m \u001b[0;34m'PBG_L'\u001b[0m\u001b[0;34m,\u001b[0m \u001b[0;34m'PBG_R'\u001b[0m\u001b[0;34m,\u001b[0m \u001b[0;34m'10N_L'\u001b[0m\u001b[0;34m,\u001b[0m \u001b[0;34m'10N_R'\u001b[0m\u001b[0;34m,\u001b[0m \u001b[0;34m'VCA_L'\u001b[0m\u001b[0;34m,\u001b[0m \u001b[0;34m'VCA_R'\u001b[0m\u001b[0;34m,\u001b[0m \u001b[0;34m'VCP_L'\u001b[0m\u001b[0;34m,\u001b[0m \u001b[0;34m'VCP_R'\u001b[0m\u001b[0;34m,\u001b[0m \u001b[0;34m'DC_L'\u001b[0m\u001b[0;34m,\u001b[0m \u001b[0;34m'DC_R'\u001b[0m\u001b[0;34m,\u001b[0m \u001b[0;34m'AP'\u001b[0m\u001b[0;34m,\u001b[0m \u001b[0;34m'12N'\u001b[0m\u001b[0;34m,\u001b[0m \u001b[0;34m'SC'\u001b[0m\u001b[0;34m,\u001b[0m \u001b[0;34m'IC'\u001b[0m\u001b[0;34m]\u001b[0m\u001b[0;34m,\u001b[0m\u001b[0;34m\u001b[0m\u001b[0m\n\u001b[0;32m----> 3\u001b[0;31m \u001b[0mstructures_f\u001b[0m\u001b[0;34m=\u001b[0m\u001b[0;34m[\u001b[0m\u001b[0;34m'5N_L'\u001b[0m\u001b[0;34m,\u001b[0m \u001b[0;34m'5N_R'\u001b[0m\u001b[0;34m,\u001b[0m \u001b[0;34m'6N_L'\u001b[0m\u001b[0;34m,\u001b[0m \u001b[0;34m'6N_R'\u001b[0m\u001b[0;34m,\u001b[0m \u001b[0;34m'7N_L'\u001b[0m\u001b[0;34m,\u001b[0m \u001b[0;34m'7N_R'\u001b[0m\u001b[0;34m,\u001b[0m \u001b[0;34m'7n_L'\u001b[0m\u001b[0;34m,\u001b[0m \u001b[0;34m'7n_R'\u001b[0m\u001b[0;34m,\u001b[0m \u001b[0;34m'Amb_L'\u001b[0m\u001b[0;34m,\u001b[0m \u001b[0;34m'Amb_R'\u001b[0m\u001b[0;34m,\u001b[0m \u001b[0;34m'LC_L'\u001b[0m\u001b[0;34m,\u001b[0m \u001b[0;34m'LC_R'\u001b[0m\u001b[0;34m,\u001b[0m \u001b[0;34m'LRt_L'\u001b[0m\u001b[0;34m,\u001b[0m \u001b[0;34m'LRt_R'\u001b[0m\u001b[0;34m,\u001b[0m \u001b[0;34m'Pn_L'\u001b[0m\u001b[0;34m,\u001b[0m \u001b[0;34m'Pn_R'\u001b[0m\u001b[0;34m,\u001b[0m \u001b[0;34m'Tz_L'\u001b[0m\u001b[0;34m,\u001b[0m \u001b[0;34m'Tz_R'\u001b[0m\u001b[0;34m,\u001b[0m \u001b[0;34m'VLL_L'\u001b[0m\u001b[0;34m,\u001b[0m \u001b[0;34m'VLL_R'\u001b[0m\u001b[0;34m,\u001b[0m \u001b[0;34m'RMC_L'\u001b[0m\u001b[0;34m,\u001b[0m \u001b[0;34m'RMC_R'\u001b[0m\u001b[0;34m,\u001b[0m \u001b[0;34m'SNC_L'\u001b[0m\u001b[0;34m,\u001b[0m \u001b[0;34m'SNC_R'\u001b[0m\u001b[0;34m,\u001b[0m \u001b[0;34m'SNR_L'\u001b[0m\u001b[0;34m,\u001b[0m \u001b[0;34m'SNR_R'\u001b[0m\u001b[0;34m,\u001b[0m \u001b[0;34m'3N_L'\u001b[0m\u001b[0;34m,\u001b[0m \u001b[0;34m'3N_R'\u001b[0m\u001b[0;34m,\u001b[0m \u001b[0;34m'4N_L'\u001b[0m\u001b[0;34m,\u001b[0m \u001b[0;34m'4N_R'\u001b[0m\u001b[0;34m,\u001b[0m \u001b[0;34m'Sp5C_L'\u001b[0m\u001b[0;34m,\u001b[0m \u001b[0;34m'Sp5C_R'\u001b[0m\u001b[0;34m,\u001b[0m \u001b[0;34m'PBG_L'\u001b[0m\u001b[0;34m,\u001b[0m \u001b[0;34m'PBG_R'\u001b[0m\u001b[0;34m,\u001b[0m \u001b[0;34m'10N_L'\u001b[0m\u001b[0;34m,\u001b[0m \u001b[0;34m'10N_R'\u001b[0m\u001b[0;34m,\u001b[0m \u001b[0;34m'VCA_L'\u001b[0m\u001b[0;34m,\u001b[0m \u001b[0;34m'VCA_R'\u001b[0m\u001b[0;34m,\u001b[0m \u001b[0;34m'VCP_L'\u001b[0m\u001b[0;34m,\u001b[0m \u001b[0;34m'VCP_R'\u001b[0m\u001b[0;34m,\u001b[0m \u001b[0;34m'DC_L'\u001b[0m\u001b[0;34m,\u001b[0m \u001b[0;34m'DC_R'\u001b[0m\u001b[0;34m,\u001b[0m \u001b[0;34m'AP'\u001b[0m\u001b[0;34m,\u001b[0m \u001b[0;34m'12N'\u001b[0m\u001b[0;34m,\u001b[0m \u001b[0;34m'SC'\u001b[0m\u001b[0;34m,\u001b[0m \u001b[0;34m'IC'\u001b[0m\u001b[0;34m]\u001b[0m\u001b[0;34m\u001b[0m\u001b[0m\n\u001b[0m\u001b[1;32m      4\u001b[0m \u001b[0;31m# structures_m=['5N_L', '5N_R', '7N_L', '7N_R', '7n_L', '7n_R', 'LC_L', 'LC_R', 'LRt_L', 'LRt_R', 'Pn_L', 'Pn_R', 'Tz_L', 'Tz_R', 'VLL_L', 'VLL_R', 'SNR_L', 'SNR_R', 'Sp5C_L', 'Sp5C_R', '12N', 'SC', 'IC']\u001b[0m\u001b[0;34m\u001b[0m\u001b[0;34m\u001b[0m\u001b[0m\n\u001b[1;32m      5\u001b[0m \u001b[0;31m# structures_m=['5N_L', '5N_R', '6N_L', '6N_R', '7N_L', '7N_R']\u001b[0m\u001b[0;34m\u001b[0m\u001b[0;34m\u001b[0m\u001b[0m\n",
      "\u001b[0;32m/home/yuncong/Brain/utilities/registration_utilities.pyc\u001b[0m in \u001b[0;36mgenerate_aligner_parameters_v2\u001b[0;34m(alignment_spec, structures_m, structures_f, fixed_structures_are_sided)\u001b[0m\n\u001b[1;32m    297\u001b[0m                                                         \u001b[0mstructures\u001b[0m\u001b[0;34m=\u001b[0m\u001b[0mstructures_m\u001b[0m\u001b[0;34m,\u001b[0m\u001b[0;34m\u001b[0m\u001b[0m\n\u001b[1;32m    298\u001b[0m                                                          \u001b[0min_bbox_wrt\u001b[0m\u001b[0;34m=\u001b[0m\u001b[0;34m'atlasSpace'\u001b[0m\u001b[0;34m,\u001b[0m\u001b[0;34m\u001b[0m\u001b[0m\n\u001b[0;32m--> 299\u001b[0;31m                                                                  \u001b[0mreturn_origin_instead_of_bbox\u001b[0m\u001b[0;34m=\u001b[0m\u001b[0mTrue\u001b[0m\u001b[0;34m\u001b[0m\u001b[0m\n\u001b[0m\u001b[1;32m    300\u001b[0m                                                                  \u001b[0;31m# in_bbox_wrt='wholebrain',\u001b[0m\u001b[0;34m\u001b[0m\u001b[0;34m\u001b[0m\u001b[0m\n\u001b[1;32m    301\u001b[0m                                                             \u001b[0;31m# out_bbox_wrt='atlasSpace'\u001b[0m\u001b[0;34m\u001b[0m\u001b[0;34m\u001b[0m\u001b[0m\n",
      "\u001b[0;32m/home/yuncong/Brain/utilities/data_manager.pyc\u001b[0m in \u001b[0;36mload_original_volume_all_known_structures_v3\u001b[0;34m(stack_spec, in_bbox_wrt, out_bbox_wrt, structures, sided, include_surround, return_label_mappings, name_or_index_as_key, common_shape, return_origin_instead_of_bbox)\u001b[0m\n\u001b[1;32m   2955\u001b[0m                 \u001b[0mindex\u001b[0m \u001b[0;34m=\u001b[0m \u001b[0mstructure_to_label\u001b[0m\u001b[0;34m[\u001b[0m\u001b[0mstructure\u001b[0m\u001b[0;34m]\u001b[0m\u001b[0;34m\u001b[0m\u001b[0m\n\u001b[1;32m   2956\u001b[0m \u001b[0;34m\u001b[0m\u001b[0m\n\u001b[0;32m-> 2957\u001b[0;31m             \u001b[0mv\u001b[0m\u001b[0;34m,\u001b[0m \u001b[0mb\u001b[0m \u001b[0;34m=\u001b[0m \u001b[0mDataManager\u001b[0m\u001b[0;34m.\u001b[0m\u001b[0mload_original_volume_v2\u001b[0m\u001b[0;34m(\u001b[0m\u001b[0mstack_spec\u001b[0m\u001b[0;34m,\u001b[0m \u001b[0mstructure\u001b[0m\u001b[0;34m=\u001b[0m\u001b[0mstructure\u001b[0m\u001b[0;34m,\u001b[0m \u001b[0mbbox_wrt\u001b[0m\u001b[0;34m=\u001b[0m\u001b[0min_bbox_wrt\u001b[0m\u001b[0;34m,\u001b[0m \u001b[0mresolution\u001b[0m\u001b[0;34m=\u001b[0m\u001b[0mstack_spec\u001b[0m\u001b[0;34m[\u001b[0m\u001b[0;34m'resolution'\u001b[0m\u001b[0;34m]\u001b[0m\u001b[0;34m)\u001b[0m\u001b[0;34m\u001b[0m\u001b[0m\n\u001b[0m\u001b[1;32m   2958\u001b[0m \u001b[0;34m\u001b[0m\u001b[0m\n\u001b[1;32m   2959\u001b[0m             in_bbox_origin_wrt_wholebrain = DataManager.get_domain_origin(stack=stack_spec['name'], domain=in_bbox_wrt,\n",
      "\u001b[0;32m/home/yuncong/Brain/utilities/data_manager.pyc\u001b[0m in \u001b[0;36mload_original_volume_v2\u001b[0;34m(stack_spec, structure, resolution, bbox_wrt, return_origin_instead_of_bbox, crop_to_minimal)\u001b[0m\n\u001b[1;32m   3060\u001b[0m                                                                    resolution=resolution, wrt=bbox_wrt)\n\u001b[1;32m   3061\u001b[0m         \u001b[0mdownload_from_s3\u001b[0m\u001b[0;34m(\u001b[0m\u001b[0mbbox_fp\u001b[0m\u001b[0;34m)\u001b[0m\u001b[0;34m\u001b[0m\u001b[0m\n\u001b[0;32m-> 3062\u001b[0;31m         \u001b[0mvolume_bbox\u001b[0m \u001b[0;34m=\u001b[0m \u001b[0mDataManager\u001b[0m\u001b[0;34m.\u001b[0m\u001b[0mload_data\u001b[0m\u001b[0;34m(\u001b[0m\u001b[0mbbox_fp\u001b[0m\u001b[0;34m,\u001b[0m \u001b[0mfiletype\u001b[0m\u001b[0;34m=\u001b[0m\u001b[0;34m'bbox'\u001b[0m\u001b[0;34m)\u001b[0m\u001b[0;34m\u001b[0m\u001b[0m\n\u001b[0m\u001b[1;32m   3063\u001b[0m \u001b[0;34m\u001b[0m\u001b[0m\n\u001b[1;32m   3064\u001b[0m         \u001b[0;32mif\u001b[0m \u001b[0mcrop_to_minimal\u001b[0m\u001b[0;34m:\u001b[0m\u001b[0;34m\u001b[0m\u001b[0m\n",
      "\u001b[0;32m/home/yuncong/Brain/utilities/data_manager.pyc\u001b[0m in \u001b[0;36mload_data\u001b[0;34m(filepath, filetype)\u001b[0m\n\u001b[1;32m    666\u001b[0m                 \u001b[0;32mreturn\u001b[0m \u001b[0mload_hdf_v2\u001b[0m\u001b[0;34m(\u001b[0m\u001b[0mfilepath\u001b[0m\u001b[0;34m)\u001b[0m\u001b[0;34m\u001b[0m\u001b[0m\n\u001b[1;32m    667\u001b[0m         \u001b[0;32melif\u001b[0m \u001b[0mfiletype\u001b[0m \u001b[0;34m==\u001b[0m \u001b[0;34m'bbox'\u001b[0m\u001b[0;34m:\u001b[0m\u001b[0;34m\u001b[0m\u001b[0m\n\u001b[0;32m--> 668\u001b[0;31m             \u001b[0;32mreturn\u001b[0m \u001b[0mnp\u001b[0m\u001b[0;34m.\u001b[0m\u001b[0mloadtxt\u001b[0m\u001b[0;34m(\u001b[0m\u001b[0mfilepath\u001b[0m\u001b[0;34m)\u001b[0m\u001b[0;34m.\u001b[0m\u001b[0mastype\u001b[0m\u001b[0;34m(\u001b[0m\u001b[0mnp\u001b[0m\u001b[0;34m.\u001b[0m\u001b[0mint\u001b[0m\u001b[0;34m)\u001b[0m\u001b[0;34m\u001b[0m\u001b[0m\n\u001b[0m\u001b[1;32m    669\u001b[0m         \u001b[0;32melif\u001b[0m \u001b[0mfiletype\u001b[0m \u001b[0;34m==\u001b[0m \u001b[0;34m'annotation_hdf'\u001b[0m\u001b[0;34m:\u001b[0m\u001b[0;34m\u001b[0m\u001b[0m\n\u001b[1;32m    670\u001b[0m             \u001b[0mcontour_df\u001b[0m \u001b[0;34m=\u001b[0m \u001b[0mread_hdf\u001b[0m\u001b[0;34m(\u001b[0m\u001b[0mfilepath\u001b[0m\u001b[0;34m,\u001b[0m \u001b[0;34m'contours'\u001b[0m\u001b[0;34m)\u001b[0m\u001b[0;34m\u001b[0m\u001b[0m\n",
      "\u001b[0;32m/usr/local/lib/python2.7/dist-packages/numpy/lib/npyio.pyc\u001b[0m in \u001b[0;36mloadtxt\u001b[0;34m(fname, dtype, comments, delimiter, converters, skiprows, usecols, unpack, ndmin)\u001b[0m\n\u001b[1;32m    894\u001b[0m                 \u001b[0mfh\u001b[0m \u001b[0;34m=\u001b[0m \u001b[0miter\u001b[0m\u001b[0;34m(\u001b[0m\u001b[0mbz2\u001b[0m\u001b[0;34m.\u001b[0m\u001b[0mBZ2File\u001b[0m\u001b[0;34m(\u001b[0m\u001b[0mfname\u001b[0m\u001b[0;34m)\u001b[0m\u001b[0;34m)\u001b[0m\u001b[0;34m\u001b[0m\u001b[0m\n\u001b[1;32m    895\u001b[0m             \u001b[0;32melif\u001b[0m \u001b[0msys\u001b[0m\u001b[0;34m.\u001b[0m\u001b[0mversion_info\u001b[0m\u001b[0;34m[\u001b[0m\u001b[0;36m0\u001b[0m\u001b[0;34m]\u001b[0m \u001b[0;34m==\u001b[0m \u001b[0;36m2\u001b[0m\u001b[0;34m:\u001b[0m\u001b[0;34m\u001b[0m\u001b[0m\n\u001b[0;32m--> 896\u001b[0;31m                 \u001b[0mfh\u001b[0m \u001b[0;34m=\u001b[0m \u001b[0miter\u001b[0m\u001b[0;34m(\u001b[0m\u001b[0mopen\u001b[0m\u001b[0;34m(\u001b[0m\u001b[0mfname\u001b[0m\u001b[0;34m,\u001b[0m \u001b[0;34m'U'\u001b[0m\u001b[0;34m)\u001b[0m\u001b[0;34m)\u001b[0m\u001b[0;34m\u001b[0m\u001b[0m\n\u001b[0m\u001b[1;32m    897\u001b[0m             \u001b[0;32melse\u001b[0m\u001b[0;34m:\u001b[0m\u001b[0;34m\u001b[0m\u001b[0m\n\u001b[1;32m    898\u001b[0m                 \u001b[0mfh\u001b[0m \u001b[0;34m=\u001b[0m \u001b[0miter\u001b[0m\u001b[0;34m(\u001b[0m\u001b[0mopen\u001b[0m\u001b[0;34m(\u001b[0m\u001b[0mfname\u001b[0m\u001b[0;34m)\u001b[0m\u001b[0;34m)\u001b[0m\u001b[0;34m\u001b[0m\u001b[0m\n",
      "\u001b[0;31mIOError\u001b[0m: [Errno 2] No such file or directory: '/media/yuncong/YuncongPublic/CSHL_volumes/MD594/MD594_10.0um_annotationAsScoreVolume/score_volumes/MD594_10.0um_annotationAsScoreVolume_5N_L_bbox_wrt_atlasSpace.txt'"
     ]
    }
   ],
   "source": [
    "midsagittal_aligner_parameters = generate_aligner_parameters_v2(alignment_spec=midsagittal_alignment_spec,\n",
    "structures_m=['5N_L', '5N_R', '6N_L', '6N_R', '7N_L', '7N_R', '7n_L', '7n_R', 'Amb_L', 'Amb_R', 'LC_L', 'LC_R', 'LRt_L', 'LRt_R', 'Pn_L', 'Pn_R', 'Tz_L', 'Tz_R', 'VLL_L', 'VLL_R', 'RMC_L', 'RMC_R', 'SNC_L', 'SNC_R', 'SNR_L', 'SNR_R', '3N_L', '3N_R', '4N_L', '4N_R', 'Sp5C_L', 'Sp5C_R', 'PBG_L', 'PBG_R', '10N_L', '10N_R', 'VCA_L', 'VCA_R', 'VCP_L', 'VCP_R', 'DC_L', 'DC_R', 'AP', '12N', 'SC', 'IC'],\n",
    "structures_f=['5N_L', '5N_R', '6N_L', '6N_R', '7N_L', '7N_R', '7n_L', '7n_R', 'Amb_L', 'Amb_R', 'LC_L', 'LC_R', 'LRt_L', 'LRt_R', 'Pn_L', 'Pn_R', 'Tz_L', 'Tz_R', 'VLL_L', 'VLL_R', 'RMC_L', 'RMC_R', 'SNC_L', 'SNC_R', 'SNR_L', 'SNR_R', '3N_L', '3N_R', '4N_L', '4N_R', 'Sp5C_L', 'Sp5C_R', 'PBG_L', 'PBG_R', '10N_L', '10N_R', 'VCA_L', 'VCA_R', 'VCP_L', 'VCP_R', 'DC_L', 'DC_R', 'AP', '12N', 'SC', 'IC']\n",
    "# structures_m=['5N_L', '5N_R', '7N_L', '7N_R', '7n_L', '7n_R', 'LC_L', 'LC_R', 'LRt_L', 'LRt_R', 'Pn_L', 'Pn_R', 'Tz_L', 'Tz_R', 'VLL_L', 'VLL_R', 'SNR_L', 'SNR_R', 'Sp5C_L', 'Sp5C_R', '12N', 'SC', 'IC']\n",
    "# structures_m=['5N_L', '5N_R', '6N_L', '6N_R', '7N_L', '7N_R']\n",
    "# structures_m=['5N_L', '7N_L', '7n_L', 'LC_L',  'LRt_L', 'Pn_L', 'Tz_L', 'VLL_L',  'SNR_L', 'Sp5C_L', '12N', 'SC', 'IC'],\n",
    "# structures_f=['5N_L', '7N_L', '7n_L', 'LC_L',  'LRt_L', 'Pn_L', 'Tz_L', 'VLL_L',  'SNR_L', 'Sp5C_L', '12N', 'SC', 'IC']\n",
    ")"
   ]
  },
  {
   "cell_type": "code",
   "execution_count": 4,
   "metadata": {
    "collapsed": true
   },
   "outputs": [],
   "source": [
    "volume_fixed = midsagittal_aligner_parameters['volume_fixed']\n",
    "volume_moving = midsagittal_aligner_parameters['volume_moving']"
   ]
  },
  {
   "cell_type": "markdown",
   "metadata": {
    "collapsed": true
   },
   "source": [
    "# Align mid-sagittal planes"
   ]
  },
  {
   "cell_type": "code",
   "execution_count": 5,
   "metadata": {
    "collapsed": true
   },
   "outputs": [],
   "source": [
    "# from mpl_toolkits.mplot3d import Axes3D\n",
    "\n",
    "# fig = plt.figure(figsize=(10,10));\n",
    "# ax = fig.add_subplot(111, projection='3d')\n",
    "# for label, c in structure_centroids_fixed.iteritems():\n",
    "#     ax.scatter(c[0], c[1], c[2], c=structure_unsided_to_colors[convert_to_original_name(label)], marker='o')\n",
    "# ax.set_xlabel('tx')\n",
    "# ax.set_ylabel('ty')\n",
    "# ax.set_zlabel('tz')\n",
    "# ax.view_init(elev=30, azim=0)\n",
    "# # for i, (x,y,z) in enumerate(xyz_trajectory[::5]):\n",
    "# #     ax.text(x,y,z,str(i))\n",
    "# plt.show()"
   ]
  },
  {
   "cell_type": "code",
   "execution_count": 5,
   "metadata": {
    "collapsed": true
   },
   "outputs": [],
   "source": [
    "# The frame identifier \"fixed\" is different from \"wholebrain\".\n",
    "# Check midsagittal_aligner_parameters['volume_fixed_origin_wrt_wholebrain'].\n",
    "\n",
    "structure_centroids_fixed_rel2fixed = {midsagittal_aligner_parameters['label_to_structure_fixed'][i]: c for i, c in get_structure_centroids(vol_dict=volume_fixed).iteritems()}\n",
    "structure_centroids_moving_rel2moving = {midsagittal_aligner_parameters['label_to_structure_moving'][i]: c for i, c in get_structure_centroids(vol_dict=volume_moving).iteritems()}"
   ]
  },
  {
   "cell_type": "code",
   "execution_count": 7,
   "metadata": {
    "scrolled": true
   },
   "outputs": [
    {
     "data": {
      "image/png": "[encoded data removed]",
      "text/plain": [
       "<matplotlib.figure.Figure at 0x7fd26d734e10>"
      ]
     },
     "metadata": {},
     "output_type": "display_data"
    },
    {
     "data": {
      "image/png": "[encoded data removed]",
      "text/plain": [
       "<matplotlib.figure.Figure at 0x7fd26d734d50>"
      ]
     },
     "metadata": {},
     "output_type": "display_data"
    }
   ],
   "source": [
    "for label, c in structure_centroids_fixed_rel2fixed.iteritems():\n",
    "    plt.scatter(c[1], c[2], c=np.array(name_unsided_to_color[convert_to_original_name(label)])/255., marker='o', s=50)\n",
    "plt.xlabel('x');\n",
    "plt.ylabel('z');\n",
    "plt.title('Structure centroids, fixed brain, top-down view');\n",
    "plt.show()\n",
    "    \n",
    "for label, c in structure_centroids_moving_rel2moving.iteritems():\n",
    "    plt.scatter(c[1], c[2], c=np.array(name_unsided_to_color[convert_to_original_name(label)])/255., marker='o', s=50)\n",
    "plt.xlabel('x');\n",
    "plt.ylabel('z');\n",
    "plt.title('Structure centroids, moving brain, top-down view');\n",
    "plt.show()"
   ]
  },
  {
   "cell_type": "code",
   "execution_count": 8,
   "metadata": {},
   "outputs": [
    {
     "name": "stdout",
     "output_type": "stream",
     "text": [
      "mid-sagittal plane normal = [ 0.03639325 -0.09139192  0.99514976]\n",
      "mid-sagittal plane centroid = [258.9775392  318.80293053 267.61576123]\n"
     ]
    }
   ],
   "source": [
    "midplane_points_fixed_rel2fixed = compute_midpoints(structure_centroids_fixed_rel2fixed)\n",
    "midplane_vector_fixed, midplane_centroid_fixed_rel2fixed = fit_plane(midplane_points_fixed_rel2fixed.values())\n",
    "\n",
    "print 'mid-sagittal plane normal =', midplane_vector_fixed\n",
    "print 'mid-sagittal plane centroid =', midplane_centroid_fixed_rel2fixed "
   ]
  },
  {
   "cell_type": "code",
   "execution_count": 9,
   "metadata": {},
   "outputs": [
    {
     "name": "stdout",
     "output_type": "stream",
     "text": [
      "mid-sagittal plane normal = [-0.04418231 -0.03820326  0.99829276]\n",
      "mid-sagittal plane centroid = [296.4675136  303.5707196  265.46964496]\n"
     ]
    }
   ],
   "source": [
    "midplane_points_moving_rel2moving = compute_midpoints(structure_centroids_moving_rel2moving)\n",
    "midplane_vector_moving, midplane_centroid_moving_rel2moving = fit_plane(midplane_points_moving_rel2moving.values())\n",
    "\n",
    "print 'mid-sagittal plane normal =', midplane_vector_moving\n",
    "print 'mid-sagittal plane centroid =', midplane_centroid_moving_rel2moving "
   ]
  },
  {
   "cell_type": "code",
   "execution_count": 10,
   "metadata": {},
   "outputs": [
    {
     "data": {
      "image/png": "[encoded data removed]",
      "text/plain": [
       "<matplotlib.figure.Figure at 0x7fd26d522710>"
      ]
     },
     "metadata": {},
     "output_type": "display_data"
    },
    {
     "data": {
      "image/png": "[encoded data removed]",
      "text/plain": [
       "<matplotlib.figure.Figure at 0x7fd26d4f3d10>"
      ]
     },
     "metadata": {},
     "output_type": "display_data"
    }
   ],
   "source": [
    "for name_u, c in midplane_points_fixed_rel2fixed.iteritems():\n",
    "    plt.scatter(c[1], c[2], c=np.array(name_unsided_to_color[name_u])/255., marker='o')\n",
    "    \n",
    "d = 100\n",
    "e1 = midplane_centroid_fixed_rel2fixed - midplane_vector_fixed * d\n",
    "e2 = midplane_centroid_fixed_rel2fixed + midplane_vector_fixed * d\n",
    "plt.plot([e1[1], e2[1]], [e1[2], e2[2]])\n",
    "    \n",
    "plt.xlabel('x');\n",
    "plt.ylabel('z');\n",
    "plt.title('Midpoints, fixed brain, top-down view');\n",
    "plt.show()\n",
    "\n",
    "####################\n",
    "\n",
    "for name_u, c in midplane_points_moving_rel2moving.iteritems():\n",
    "    plt.scatter(c[1], c[2], c=np.array(name_unsided_to_color[name_u])/255., marker='o')\n",
    "\n",
    "d = 100\n",
    "e1 = midplane_centroid_moving_rel2moving - midplane_vector_moving * d\n",
    "e2 = midplane_centroid_moving_rel2moving + midplane_vector_moving * d\n",
    "plt.plot([e1[1], e2[1]], [e1[2], e2[2]])\n",
    "    \n",
    "plt.xlabel('x');\n",
    "plt.ylabel('z');\n",
    "plt.title('Midpoints, moving brain, top-down view');\n",
    "plt.show()"
   ]
  },
  {
   "cell_type": "code",
   "execution_count": 11,
   "metadata": {
    "collapsed": true
   },
   "outputs": [],
   "source": [
    "R = R_align_two_vectors(midplane_vector_moving, midplane_vector_fixed)"
   ]
  },
  {
   "cell_type": "code",
   "execution_count": 12,
   "metadata": {},
   "outputs": [
    {
     "name": "stdout",
     "output_type": "stream",
     "text": [
      "[[ 0.99675439 -0.00328702  0.08044388  0.        ]\n",
      " [ 0.00756948  0.99856614 -0.05299953  0.        ]\n",
      " [-0.08015438  0.05343634  0.99535006  0.        ]]\n"
     ]
    }
   ],
   "source": [
    "T_align_midplane = np.zeros((3,4))\n",
    "T_align_midplane[:3, :3] = R\n",
    "T_align_midplane = T_align_midplane.flatten()\n",
    "\n",
    "print T_align_midplane.reshape((3,4))"
   ]
  },
  {
   "cell_type": "code",
   "execution_count": 13,
   "metadata": {
    "scrolled": true
   },
   "outputs": [
    {
     "name": "stderr",
     "output_type": "stream",
     "text": [
      "/home/yuncong/Brain/utilities/registration_utilities.py:3059: FutureWarning: Conversion of the second argument of issubdtype from `float` to `np.floating` is deprecated. In future, it will be treated as `np.float64 == np.dtype(float).type`.\n",
      "  if np.issubdtype(volume_m_aligned_to_f.dtype, np.float):\n",
      "Interpolating/filling sparse volume: 0.11 seconds.\n",
      "Interpolating/filling sparse volume: 0.09 seconds.\n",
      "Interpolating/filling sparse volume: 0.01 seconds.\n",
      "Interpolating/filling sparse volume: 0.01 seconds.\n",
      "Interpolating/filling sparse volume: 0.20 seconds.\n",
      "Interpolating/filling sparse volume: 0.18 seconds.\n",
      "Interpolating/filling sparse volume: 0.42 seconds.\n",
      "Interpolating/filling sparse volume: 0.36 seconds.\n",
      "Interpolating/filling sparse volume: 0.02 seconds.\n",
      "Interpolating/filling sparse volume: 0.02 seconds.\n",
      "Interpolating/filling sparse volume: 0.07 seconds.\n",
      "Interpolating/filling sparse volume: 0.06 seconds.\n",
      "Interpolating/filling sparse volume: 0.25 seconds.\n",
      "Interpolating/filling sparse volume: 0.30 seconds.\n",
      "Interpolating/filling sparse volume: 0.31 seconds.\n",
      "Interpolating/filling sparse volume: 0.23 seconds.\n",
      "Interpolating/filling sparse volume: 0.06 seconds.\n",
      "Interpolating/filling sparse volume: 0.07 seconds.\n",
      "Interpolating/filling sparse volume: 0.37 seconds.\n",
      "Interpolating/filling sparse volume: 0.30 seconds.\n",
      "Interpolating/filling sparse volume: 0.09 seconds.\n",
      "Interpolating/filling sparse volume: 0.10 seconds.\n",
      "Interpolating/filling sparse volume: 0.19 seconds.\n",
      "Interpolating/filling sparse volume: 0.19 seconds.\n",
      "Interpolating/filling sparse volume: 0.78 seconds.\n",
      "Interpolating/filling sparse volume: 0.72 seconds.\n",
      "Interpolating/filling sparse volume: 0.03 seconds.\n",
      "Interpolating/filling sparse volume: 0.04 seconds.\n",
      "Interpolating/filling sparse volume: 0.01 seconds.\n",
      "Interpolating/filling sparse volume: 0.01 seconds.\n",
      "Interpolating/filling sparse volume: 1.39 seconds.\n",
      "Interpolating/filling sparse volume: 0.74 seconds.\n",
      "Interpolating/filling sparse volume: 0.07 seconds.\n",
      "Interpolating/filling sparse volume: 0.06 seconds.\n",
      "Interpolating/filling sparse volume: 0.08 seconds.\n",
      "Interpolating/filling sparse volume: 0.07 seconds.\n",
      "Interpolating/filling sparse volume: 0.28 seconds.\n",
      "Interpolating/filling sparse volume: 0.25 seconds.\n",
      "Interpolating/filling sparse volume: 0.17 seconds.\n",
      "Interpolating/filling sparse volume: 0.16 seconds.\n",
      "Interpolating/filling sparse volume: 0.24 seconds.\n",
      "Interpolating/filling sparse volume: 0.23 seconds.\n",
      "Interpolating/filling sparse volume: 0.04 seconds.\n",
      "Interpolating/filling sparse volume: 0.20 seconds.\n",
      "Interpolating/filling sparse volume: 3.94 seconds.\n",
      "Interpolating/filling sparse volume: 1.70 seconds.\n"
     ]
    }
   ],
   "source": [
    "volume_moving_midplaneAligned_rel2fixed = {label_s: transform_volume_v3(vol=vol.astype(np.int), origin=(0,0,0),\n",
    "                                                          tf_params=T_align_midplane, \n",
    "                                                          centroid_m=midplane_centroid_moving_rel2moving, \n",
    "                                                          centroid_f=midplane_centroid_fixed_rel2fixed) \n",
    "                                  for label_s, vol in volume_moving.iteritems()}"
   ]
  },
  {
   "cell_type": "code",
   "execution_count": 14,
   "metadata": {
    "collapsed": true
   },
   "outputs": [],
   "source": [
    "# volume_moving_midplane_aligned = \\\n",
    "# {label_s: crop_and_pad_volume(vol_inbbox, bbox, out_bbox=(0, xdim_f-1, 0, ydim_f-1, 0, zdim_f-1)) \n",
    "#  for label_s, (vol_inbbox, bbox) in volume_moving_midplane_aligned.iteritems()}"
   ]
  },
  {
   "cell_type": "code",
   "execution_count": 15,
   "metadata": {
    "collapsed": true
   },
   "outputs": [],
   "source": [
    "structure_centroids_m_midplaneAligned_rel2fixed = \\\n",
    "{midsagittal_aligner_parameters['label_to_structure_moving'][i]: c \n",
    " for i, c in get_structure_centroids(vol_bbox_dict=volume_moving_midplaneAligned_rel2fixed).iteritems()}"
   ]
  },
  {
   "cell_type": "code",
   "execution_count": 16,
   "metadata": {
    "collapsed": true
   },
   "outputs": [],
   "source": [
    "midplane_points_m_midplaneAligned_rel2fixed = compute_midpoints(structure_centroids_m_midplaneAligned_rel2fixed)"
   ]
  },
  {
   "cell_type": "code",
   "execution_count": 17,
   "metadata": {
    "scrolled": true
   },
   "outputs": [
    {
     "data": {
      "image/png": "[encoded data removed]",
      "text/plain": [
       "<matplotlib.figure.Figure at 0x7fd26d373e10>"
      ]
     },
     "metadata": {},
     "output_type": "display_data"
    },
    {
     "data": {
      "image/png": "[encoded data removed]",
      "text/plain": [
       "<matplotlib.figure.Figure at 0x7fd26d265310>"
      ]
     },
     "metadata": {},
     "output_type": "display_data"
    },
    {
     "data": {
      "image/png": "[encoded data removed]",
      "text/plain": [
       "<matplotlib.figure.Figure at 0x7fd26d0811d0>"
      ]
     },
     "metadata": {},
     "output_type": "display_data"
    }
   ],
   "source": [
    "for name_s, c in structure_centroids_moving_rel2moving.iteritems():\n",
    "    plt.scatter(c[1], c[2], c=np.array(name_unsided_to_color[convert_to_original_name(name_s)])/255., \n",
    "                marker='o', alpha=.2, s=50)\n",
    "    \n",
    "for name_u, c in midplane_points_moving_rel2moving.iteritems():\n",
    "    plt.scatter(c[1], c[2], c=np.array(name_unsided_to_color[name_u])/255., marker='^', s=50)\n",
    "    \n",
    "for name_u in set([convert_to_original_name(name_s) for name_s in structure_centroids_moving_rel2moving.keys()]):\n",
    "    if name_u not in singular_structures:\n",
    "        name_l = convert_to_left_name(name_u)\n",
    "        name_r = convert_to_right_name(name_u)\n",
    "        if name_l in structure_centroids_moving_rel2moving:\n",
    "            e1 = structure_centroids_moving_rel2moving[name_l]\n",
    "        if name_r in structure_centroids_moving_rel2moving:\n",
    "            e2 = structure_centroids_moving_rel2moving[name_r]\n",
    "        plt.plot((e1[1], e2[1]), (e1[2], e2[2]), alpha=.2);\n",
    "    \n",
    "plt.xlabel('x');\n",
    "plt.ylabel('z');\n",
    "plt.title('Structure centroids, moving brain, top-down view');\n",
    "plt.show()\n",
    "\n",
    "##########################################################\n",
    "\n",
    "for name_s, c in structure_centroids_m_midplaneAligned_rel2fixed.iteritems():\n",
    "    plt.scatter(c[1], c[2], c=np.array(name_unsided_to_color[convert_to_original_name(name_s)])/255., \n",
    "                marker='o', alpha=.2, s=50)\n",
    "\n",
    "for name_u, c in midplane_points_m_midplaneAligned_rel2fixed.iteritems():\n",
    "    plt.scatter(c[1], c[2], c=np.array(name_unsided_to_color[name_u])/255., marker='^', s=50)\n",
    "    \n",
    "for name_u in set([convert_to_original_name(name_s) for name_s in structure_centroids_m_midplaneAligned_rel2fixed.keys()]):\n",
    "    if name_u not in singular_structures:\n",
    "        name_l = convert_to_left_name(name_u)\n",
    "        name_r = convert_to_right_name(name_u)\n",
    "        if name_l in structure_centroids_m_midplaneAligned_rel2fixed:\n",
    "            e1 = structure_centroids_m_midplaneAligned_rel2fixed[name_l]\n",
    "        if name_r in structure_centroids_m_midplaneAligned_rel2fixed:\n",
    "            e2 = structure_centroids_m_midplaneAligned_rel2fixed[name_r]\n",
    "        plt.plot((e1[1], e2[1]), (e1[2], e2[2]), alpha=.2);   \n",
    "    \n",
    "    \n",
    "plt.xlabel('x');\n",
    "plt.ylabel('z');\n",
    "plt.title('Structure centroids, moving brain\\nmid-sagittal plane aligned, top-down view');\n",
    "plt.show()\n",
    "\n",
    "##########################################################\n",
    "\n",
    "for name_s, c in structure_centroids_fixed_rel2fixed.iteritems():\n",
    "    plt.scatter(c[1], c[2], c=np.array(name_unsided_to_color[convert_to_original_name(name_s)])/255., \n",
    "                marker='o', alpha=.2, s=50)\n",
    "    \n",
    "for name_u, c in midplane_points_fixed_rel2fixed.iteritems():\n",
    "    plt.scatter(c[1], c[2], c=np.array(name_unsided_to_color[name_u])/255., marker='^', s=50)\n",
    "    \n",
    "for name_u in set([convert_to_original_name(name_s) for name_s in structure_centroids_fixed_rel2fixed.keys()]):\n",
    "    if name_u not in singular_structures:\n",
    "        name_l = convert_to_left_name(name_u)\n",
    "        name_r = convert_to_right_name(name_u)\n",
    "        if name_l in structure_centroids_fixed_rel2fixed:\n",
    "            e1 = structure_centroids_fixed_rel2fixed[name_l]\n",
    "        if name_r in structure_centroids_fixed_rel2fixed:\n",
    "            e2 = structure_centroids_fixed_rel2fixed[name_r]\n",
    "        plt.plot((e1[1], e2[1]), (e1[2], e2[2]), alpha=.2);\n",
    "    \n",
    "plt.xlabel('x');\n",
    "plt.ylabel('z');\n",
    "plt.title('Structure centroids, fixed brain, top-down view');\n",
    "plt.show()"
   ]
  },
  {
   "cell_type": "code",
   "execution_count": 18,
   "metadata": {
    "scrolled": true
   },
   "outputs": [
    {
     "name": "stdout",
     "output_type": "stream",
     "text": [
      "5N_L\n",
      "aws s3 cp \"/home/yuncong/CSHL_volumes/MD594/MD594_10.0um_annotationAsScoreVolume_warp8_MD589_10.0um_annotationAsScoreVolume_10.0um/score_volumes/MD594_10.0um_annotationAsScoreVolume_warp8_MD589_10.0um_annotationAsScoreVolume_10.0um_5N_L.bp\" \"s3://mousebrainatlas-data/CSHL_volumes/MD594/MD594_10.0um_annotationAsScoreVolume_warp8_MD589_10.0um_annotationAsScoreVolume_10.0um/score_volumes/MD594_10.0um_annotationAsScoreVolume_warp8_MD589_10.0um_annotationAsScoreVolume_10.0um_5N_L.bp\"\n"
     ]
    },
    {
     "name": "stderr",
     "output_type": "stream",
     "text": [
      "Interpolating/filling sparse volume: 0.11 seconds.\n"
     ]
    },
    {
     "name": "stdout",
     "output_type": "stream",
     "text": [
      "0\n",
      "aws s3 cp \"/home/yuncong/CSHL_volumes/MD594/MD594_10.0um_annotationAsScoreVolume_warp8_MD589_10.0um_annotationAsScoreVolume_10.0um/score_volumes/MD594_10.0um_annotationAsScoreVolume_warp8_MD589_10.0um_annotationAsScoreVolume_10.0um_5N_L_bbox_wrt_fixedWholebrain.txt\" \"s3://mousebrainatlas-data/CSHL_volumes/MD594/MD594_10.0um_annotationAsScoreVolume_warp8_MD589_10.0um_annotationAsScoreVolume_10.0um/score_volumes/MD594_10.0um_annotationAsScoreVolume_warp8_MD589_10.0um_annotationAsScoreVolume_10.0um_5N_L_bbox_wrt_fixedWholebrain.txt\"\n",
      "0\n",
      "5N_R\n",
      "aws s3 cp \"/home/yuncong/CSHL_volumes/MD594/MD594_10.0um_annotationAsScoreVolume_warp8_MD589_10.0um_annotationAsScoreVolume_10.0um/score_volumes/MD594_10.0um_annotationAsScoreVolume_warp8_MD589_10.0um_annotationAsScoreVolume_10.0um_5N_R.bp\" \"s3://mousebrainatlas-data/CSHL_volumes/MD594/MD594_10.0um_annotationAsScoreVolume_warp8_MD589_10.0um_annotationAsScoreVolume_10.0um/score_volumes/MD594_10.0um_annotationAsScoreVolume_warp8_MD589_10.0um_annotationAsScoreVolume_10.0um_5N_R.bp\"\n"
     ]
    },
    {
     "name": "stderr",
     "output_type": "stream",
     "text": [
      "Interpolating/filling sparse volume: 0.10 seconds.\n"
     ]
    },
    {
     "name": "stdout",
     "output_type": "stream",
     "text": [
      "0\n",
      "aws s3 cp \"/home/yuncong/CSHL_volumes/MD594/MD594_10.0um_annotationAsScoreVolume_warp8_MD589_10.0um_annotationAsScoreVolume_10.0um/score_volumes/MD594_10.0um_annotationAsScoreVolume_warp8_MD589_10.0um_annotationAsScoreVolume_10.0um_5N_R_bbox_wrt_fixedWholebrain.txt\" \"s3://mousebrainatlas-data/CSHL_volumes/MD594/MD594_10.0um_annotationAsScoreVolume_warp8_MD589_10.0um_annotationAsScoreVolume_10.0um/score_volumes/MD594_10.0um_annotationAsScoreVolume_warp8_MD589_10.0um_annotationAsScoreVolume_10.0um_5N_R_bbox_wrt_fixedWholebrain.txt\"\n",
      "0\n",
      "6N_L\n",
      "aws s3 cp \"/home/yuncong/CSHL_volumes/MD594/MD594_10.0um_annotationAsScoreVolume_warp8_MD589_10.0um_annotationAsScoreVolume_10.0um/score_volumes/MD594_10.0um_annotationAsScoreVolume_warp8_MD589_10.0um_annotationAsScoreVolume_10.0um_6N_L.bp\" \"s3://mousebrainatlas-data/CSHL_volumes/MD594/MD594_10.0um_annotationAsScoreVolume_warp8_MD589_10.0um_annotationAsScoreVolume_10.0um/score_volumes/MD594_10.0um_annotationAsScoreVolume_warp8_MD589_10.0um_annotationAsScoreVolume_10.0um_6N_L.bp\"\n"
     ]
    },
    {
     "name": "stderr",
     "output_type": "stream",
     "text": [
      "Interpolating/filling sparse volume: 0.02 seconds.\n"
     ]
    },
    {
     "name": "stdout",
     "output_type": "stream",
     "text": [
      "0\n",
      "aws s3 cp \"/home/yuncong/CSHL_volumes/MD594/MD594_10.0um_annotationAsScoreVolume_warp8_MD589_10.0um_annotationAsScoreVolume_10.0um/score_volumes/MD594_10.0um_annotationAsScoreVolume_warp8_MD589_10.0um_annotationAsScoreVolume_10.0um_6N_L_bbox_wrt_fixedWholebrain.txt\" \"s3://mousebrainatlas-data/CSHL_volumes/MD594/MD594_10.0um_annotationAsScoreVolume_warp8_MD589_10.0um_annotationAsScoreVolume_10.0um/score_volumes/MD594_10.0um_annotationAsScoreVolume_warp8_MD589_10.0um_annotationAsScoreVolume_10.0um_6N_L_bbox_wrt_fixedWholebrain.txt\"\n",
      "0\n",
      "6N_R\n",
      "aws s3 cp \"/home/yuncong/CSHL_volumes/MD594/MD594_10.0um_annotationAsScoreVolume_warp8_MD589_10.0um_annotationAsScoreVolume_10.0um/score_volumes/MD594_10.0um_annotationAsScoreVolume_warp8_MD589_10.0um_annotationAsScoreVolume_10.0um_6N_R.bp\" \"s3://mousebrainatlas-data/CSHL_volumes/MD594/MD594_10.0um_annotationAsScoreVolume_warp8_MD589_10.0um_annotationAsScoreVolume_10.0um/score_volumes/MD594_10.0um_annotationAsScoreVolume_warp8_MD589_10.0um_annotationAsScoreVolume_10.0um_6N_R.bp\"\n"
     ]
    },
    {
     "name": "stderr",
     "output_type": "stream",
     "text": [
      "Interpolating/filling sparse volume: 0.02 seconds.\n"
     ]
    },
    {
     "name": "stdout",
     "output_type": "stream",
     "text": [
      "0\n",
      "aws s3 cp \"/home/yuncong/CSHL_volumes/MD594/MD594_10.0um_annotationAsScoreVolume_warp8_MD589_10.0um_annotationAsScoreVolume_10.0um/score_volumes/MD594_10.0um_annotationAsScoreVolume_warp8_MD589_10.0um_annotationAsScoreVolume_10.0um_6N_R_bbox_wrt_fixedWholebrain.txt\" \"s3://mousebrainatlas-data/CSHL_volumes/MD594/MD594_10.0um_annotationAsScoreVolume_warp8_MD589_10.0um_annotationAsScoreVolume_10.0um/score_volumes/MD594_10.0um_annotationAsScoreVolume_warp8_MD589_10.0um_annotationAsScoreVolume_10.0um_6N_R_bbox_wrt_fixedWholebrain.txt\"\n",
      "0\n",
      "7N_L\n"
     ]
    },
    {
     "name": "stderr",
     "output_type": "stream",
     "text": [
      "Interpolating/filling sparse volume: 0.21 seconds.\n"
     ]
    },
    {
     "name": "stdout",
     "output_type": "stream",
     "text": [
      "aws s3 cp \"/home/yuncong/CSHL_volumes/MD594/MD594_10.0um_annotationAsScoreVolume_warp8_MD589_10.0um_annotationAsScoreVolume_10.0um/score_volumes/MD594_10.0um_annotationAsScoreVolume_warp8_MD589_10.0um_annotationAsScoreVolume_10.0um_7N_L.bp\" \"s3://mousebrainatlas-data/CSHL_volumes/MD594/MD594_10.0um_annotationAsScoreVolume_warp8_MD589_10.0um_annotationAsScoreVolume_10.0um/score_volumes/MD594_10.0um_annotationAsScoreVolume_warp8_MD589_10.0um_annotationAsScoreVolume_10.0um_7N_L.bp\"\n",
      "0\n",
      "aws s3 cp \"/home/yuncong/CSHL_volumes/MD594/MD594_10.0um_annotationAsScoreVolume_warp8_MD589_10.0um_annotationAsScoreVolume_10.0um/score_volumes/MD594_10.0um_annotationAsScoreVolume_warp8_MD589_10.0um_annotationAsScoreVolume_10.0um_7N_L_bbox_wrt_fixedWholebrain.txt\" \"s3://mousebrainatlas-data/CSHL_volumes/MD594/MD594_10.0um_annotationAsScoreVolume_warp8_MD589_10.0um_annotationAsScoreVolume_10.0um/score_volumes/MD594_10.0um_annotationAsScoreVolume_warp8_MD589_10.0um_annotationAsScoreVolume_10.0um_7N_L_bbox_wrt_fixedWholebrain.txt\"\n",
      "0\n",
      "7N_R\n"
     ]
    },
    {
     "name": "stderr",
     "output_type": "stream",
     "text": [
      "Interpolating/filling sparse volume: 0.18 seconds.\n"
     ]
    },
    {
     "name": "stdout",
     "output_type": "stream",
     "text": [
      "aws s3 cp \"/home/yuncong/CSHL_volumes/MD594/MD594_10.0um_annotationAsScoreVolume_warp8_MD589_10.0um_annotationAsScoreVolume_10.0um/score_volumes/MD594_10.0um_annotationAsScoreVolume_warp8_MD589_10.0um_annotationAsScoreVolume_10.0um_7N_R.bp\" \"s3://mousebrainatlas-data/CSHL_volumes/MD594/MD594_10.0um_annotationAsScoreVolume_warp8_MD589_10.0um_annotationAsScoreVolume_10.0um/score_volumes/MD594_10.0um_annotationAsScoreVolume_warp8_MD589_10.0um_annotationAsScoreVolume_10.0um_7N_R.bp\"\n",
      "0\n",
      "aws s3 cp \"/home/yuncong/CSHL_volumes/MD594/MD594_10.0um_annotationAsScoreVolume_warp8_MD589_10.0um_annotationAsScoreVolume_10.0um/score_volumes/MD594_10.0um_annotationAsScoreVolume_warp8_MD589_10.0um_annotationAsScoreVolume_10.0um_7N_R_bbox_wrt_fixedWholebrain.txt\" \"s3://mousebrainatlas-data/CSHL_volumes/MD594/MD594_10.0um_annotationAsScoreVolume_warp8_MD589_10.0um_annotationAsScoreVolume_10.0um/score_volumes/MD594_10.0um_annotationAsScoreVolume_warp8_MD589_10.0um_annotationAsScoreVolume_10.0um_7N_R_bbox_wrt_fixedWholebrain.txt\"\n",
      "0\n",
      "7n_L\n"
     ]
    },
    {
     "name": "stderr",
     "output_type": "stream",
     "text": [
      "Interpolating/filling sparse volume: 0.41 seconds.\n"
     ]
    },
    {
     "name": "stdout",
     "output_type": "stream",
     "text": [
      "aws s3 cp \"/home/yuncong/CSHL_volumes/MD594/MD594_10.0um_annotationAsScoreVolume_warp8_MD589_10.0um_annotationAsScoreVolume_10.0um/score_volumes/MD594_10.0um_annotationAsScoreVolume_warp8_MD589_10.0um_annotationAsScoreVolume_10.0um_7n_L.bp\" \"s3://mousebrainatlas-data/CSHL_volumes/MD594/MD594_10.0um_annotationAsScoreVolume_warp8_MD589_10.0um_annotationAsScoreVolume_10.0um/score_volumes/MD594_10.0um_annotationAsScoreVolume_warp8_MD589_10.0um_annotationAsScoreVolume_10.0um_7n_L.bp\"\n",
      "0\n",
      "aws s3 cp \"/home/yuncong/CSHL_volumes/MD594/MD594_10.0um_annotationAsScoreVolume_warp8_MD589_10.0um_annotationAsScoreVolume_10.0um/score_volumes/MD594_10.0um_annotationAsScoreVolume_warp8_MD589_10.0um_annotationAsScoreVolume_10.0um_7n_L_bbox_wrt_fixedWholebrain.txt\" \"s3://mousebrainatlas-data/CSHL_volumes/MD594/MD594_10.0um_annotationAsScoreVolume_warp8_MD589_10.0um_annotationAsScoreVolume_10.0um/score_volumes/MD594_10.0um_annotationAsScoreVolume_warp8_MD589_10.0um_annotationAsScoreVolume_10.0um_7n_L_bbox_wrt_fixedWholebrain.txt\"\n",
      "0\n",
      "7n_R\n"
     ]
    },
    {
     "name": "stderr",
     "output_type": "stream",
     "text": [
      "Interpolating/filling sparse volume: 0.36 seconds.\n"
     ]
    },
    {
     "name": "stdout",
     "output_type": "stream",
     "text": [
      "aws s3 cp \"/home/yuncong/CSHL_volumes/MD594/MD594_10.0um_annotationAsScoreVolume_warp8_MD589_10.0um_annotationAsScoreVolume_10.0um/score_volumes/MD594_10.0um_annotationAsScoreVolume_warp8_MD589_10.0um_annotationAsScoreVolume_10.0um_7n_R.bp\" \"s3://mousebrainatlas-data/CSHL_volumes/MD594/MD594_10.0um_annotationAsScoreVolume_warp8_MD589_10.0um_annotationAsScoreVolume_10.0um/score_volumes/MD594_10.0um_annotationAsScoreVolume_warp8_MD589_10.0um_annotationAsScoreVolume_10.0um_7n_R.bp\"\n",
      "0\n",
      "aws s3 cp \"/home/yuncong/CSHL_volumes/MD594/MD594_10.0um_annotationAsScoreVolume_warp8_MD589_10.0um_annotationAsScoreVolume_10.0um/score_volumes/MD594_10.0um_annotationAsScoreVolume_warp8_MD589_10.0um_annotationAsScoreVolume_10.0um_7n_R_bbox_wrt_fixedWholebrain.txt\" \"s3://mousebrainatlas-data/CSHL_volumes/MD594/MD594_10.0um_annotationAsScoreVolume_warp8_MD589_10.0um_annotationAsScoreVolume_10.0um/score_volumes/MD594_10.0um_annotationAsScoreVolume_warp8_MD589_10.0um_annotationAsScoreVolume_10.0um_7n_R_bbox_wrt_fixedWholebrain.txt\"\n",
      "0\n",
      "Amb_L\n",
      "aws s3 cp \"/home/yuncong/CSHL_volumes/MD594/MD594_10.0um_annotationAsScoreVolume_warp8_MD589_10.0um_annotationAsScoreVolume_10.0um/score_volumes/MD594_10.0um_annotationAsScoreVolume_warp8_MD589_10.0um_annotationAsScoreVolume_10.0um_Amb_L.bp\" \"s3://mousebrainatlas-data/CSHL_volumes/MD594/MD594_10.0um_annotationAsScoreVolume_warp8_MD589_10.0um_annotationAsScoreVolume_10.0um/score_volumes/MD594_10.0um_annotationAsScoreVolume_warp8_MD589_10.0um_annotationAsScoreVolume_10.0um_Amb_L.bp\"\n"
     ]
    },
    {
     "name": "stderr",
     "output_type": "stream",
     "text": [
      "Interpolating/filling sparse volume: 0.02 seconds.\n"
     ]
    },
    {
     "name": "stdout",
     "output_type": "stream",
     "text": [
      "0\n",
      "aws s3 cp \"/home/yuncong/CSHL_volumes/MD594/MD594_10.0um_annotationAsScoreVolume_warp8_MD589_10.0um_annotationAsScoreVolume_10.0um/score_volumes/MD594_10.0um_annotationAsScoreVolume_warp8_MD589_10.0um_annotationAsScoreVolume_10.0um_Amb_L_bbox_wrt_fixedWholebrain.txt\" \"s3://mousebrainatlas-data/CSHL_volumes/MD594/MD594_10.0um_annotationAsScoreVolume_warp8_MD589_10.0um_annotationAsScoreVolume_10.0um/score_volumes/MD594_10.0um_annotationAsScoreVolume_warp8_MD589_10.0um_annotationAsScoreVolume_10.0um_Amb_L_bbox_wrt_fixedWholebrain.txt\"\n",
      "0\n",
      "Amb_R\n",
      "aws s3 cp \"/home/yuncong/CSHL_volumes/MD594/MD594_10.0um_annotationAsScoreVolume_warp8_MD589_10.0um_annotationAsScoreVolume_10.0um/score_volumes/MD594_10.0um_annotationAsScoreVolume_warp8_MD589_10.0um_annotationAsScoreVolume_10.0um_Amb_R.bp\" \"s3://mousebrainatlas-data/CSHL_volumes/MD594/MD594_10.0um_annotationAsScoreVolume_warp8_MD589_10.0um_annotationAsScoreVolume_10.0um/score_volumes/MD594_10.0um_annotationAsScoreVolume_warp8_MD589_10.0um_annotationAsScoreVolume_10.0um_Amb_R.bp\"\n"
     ]
    },
    {
     "name": "stderr",
     "output_type": "stream",
     "text": [
      "Interpolating/filling sparse volume: 0.02 seconds.\n"
     ]
    },
    {
     "name": "stdout",
     "output_type": "stream",
     "text": [
      "0\n",
      "aws s3 cp \"/home/yuncong/CSHL_volumes/MD594/MD594_10.0um_annotationAsScoreVolume_warp8_MD589_10.0um_annotationAsScoreVolume_10.0um/score_volumes/MD594_10.0um_annotationAsScoreVolume_warp8_MD589_10.0um_annotationAsScoreVolume_10.0um_Amb_R_bbox_wrt_fixedWholebrain.txt\" \"s3://mousebrainatlas-data/CSHL_volumes/MD594/MD594_10.0um_annotationAsScoreVolume_warp8_MD589_10.0um_annotationAsScoreVolume_10.0um/score_volumes/MD594_10.0um_annotationAsScoreVolume_warp8_MD589_10.0um_annotationAsScoreVolume_10.0um_Amb_R_bbox_wrt_fixedWholebrain.txt\"\n",
      "0\n",
      "LC_L\n",
      "aws s3 cp \"/home/yuncong/CSHL_volumes/MD594/MD594_10.0um_annotationAsScoreVolume_warp8_MD589_10.0um_annotationAsScoreVolume_10.0um/score_volumes/MD594_10.0um_annotationAsScoreVolume_warp8_MD589_10.0um_annotationAsScoreVolume_10.0um_LC_L.bp\" \"s3://mousebrainatlas-data/CSHL_volumes/MD594/MD594_10.0um_annotationAsScoreVolume_warp8_MD589_10.0um_annotationAsScoreVolume_10.0um/score_volumes/MD594_10.0um_annotationAsScoreVolume_warp8_MD589_10.0um_annotationAsScoreVolume_10.0um_LC_L.bp\"\n"
     ]
    },
    {
     "name": "stderr",
     "output_type": "stream",
     "text": [
      "Interpolating/filling sparse volume: 0.07 seconds.\n"
     ]
    },
    {
     "name": "stdout",
     "output_type": "stream",
     "text": [
      "0\n",
      "aws s3 cp \"/home/yuncong/CSHL_volumes/MD594/MD594_10.0um_annotationAsScoreVolume_warp8_MD589_10.0um_annotationAsScoreVolume_10.0um/score_volumes/MD594_10.0um_annotationAsScoreVolume_warp8_MD589_10.0um_annotationAsScoreVolume_10.0um_LC_L_bbox_wrt_fixedWholebrain.txt\" \"s3://mousebrainatlas-data/CSHL_volumes/MD594/MD594_10.0um_annotationAsScoreVolume_warp8_MD589_10.0um_annotationAsScoreVolume_10.0um/score_volumes/MD594_10.0um_annotationAsScoreVolume_warp8_MD589_10.0um_annotationAsScoreVolume_10.0um_LC_L_bbox_wrt_fixedWholebrain.txt\"\n",
      "0\n",
      "LC_R\n",
      "aws s3 cp \"/home/yuncong/CSHL_volumes/MD594/MD594_10.0um_annotationAsScoreVolume_warp8_MD589_10.0um_annotationAsScoreVolume_10.0um/score_volumes/MD594_10.0um_annotationAsScoreVolume_warp8_MD589_10.0um_annotationAsScoreVolume_10.0um_LC_R.bp\" \"s3://mousebrainatlas-data/CSHL_volumes/MD594/MD594_10.0um_annotationAsScoreVolume_warp8_MD589_10.0um_annotationAsScoreVolume_10.0um/score_volumes/MD594_10.0um_annotationAsScoreVolume_warp8_MD589_10.0um_annotationAsScoreVolume_10.0um_LC_R.bp\"\n"
     ]
    },
    {
     "name": "stderr",
     "output_type": "stream",
     "text": [
      "Interpolating/filling sparse volume: 0.07 seconds.\n"
     ]
    },
    {
     "name": "stdout",
     "output_type": "stream",
     "text": [
      "0\n",
      "aws s3 cp \"/home/yuncong/CSHL_volumes/MD594/MD594_10.0um_annotationAsScoreVolume_warp8_MD589_10.0um_annotationAsScoreVolume_10.0um/score_volumes/MD594_10.0um_annotationAsScoreVolume_warp8_MD589_10.0um_annotationAsScoreVolume_10.0um_LC_R_bbox_wrt_fixedWholebrain.txt\" \"s3://mousebrainatlas-data/CSHL_volumes/MD594/MD594_10.0um_annotationAsScoreVolume_warp8_MD589_10.0um_annotationAsScoreVolume_10.0um/score_volumes/MD594_10.0um_annotationAsScoreVolume_warp8_MD589_10.0um_annotationAsScoreVolume_10.0um_LC_R_bbox_wrt_fixedWholebrain.txt\"\n",
      "0\n",
      "LRt_L\n"
     ]
    },
    {
     "name": "stderr",
     "output_type": "stream",
     "text": [
      "Interpolating/filling sparse volume: 0.25 seconds.\n"
     ]
    },
    {
     "name": "stdout",
     "output_type": "stream",
     "text": [
      "aws s3 cp \"/home/yuncong/CSHL_volumes/MD594/MD594_10.0um_annotationAsScoreVolume_warp8_MD589_10.0um_annotationAsScoreVolume_10.0um/score_volumes/MD594_10.0um_annotationAsScoreVolume_warp8_MD589_10.0um_annotationAsScoreVolume_10.0um_LRt_L.bp\" \"s3://mousebrainatlas-data/CSHL_volumes/MD594/MD594_10.0um_annotationAsScoreVolume_warp8_MD589_10.0um_annotationAsScoreVolume_10.0um/score_volumes/MD594_10.0um_annotationAsScoreVolume_warp8_MD589_10.0um_annotationAsScoreVolume_10.0um_LRt_L.bp\"\n",
      "0\n",
      "aws s3 cp \"/home/yuncong/CSHL_volumes/MD594/MD594_10.0um_annotationAsScoreVolume_warp8_MD589_10.0um_annotationAsScoreVolume_10.0um/score_volumes/MD594_10.0um_annotationAsScoreVolume_warp8_MD589_10.0um_annotationAsScoreVolume_10.0um_LRt_L_bbox_wrt_fixedWholebrain.txt\" \"s3://mousebrainatlas-data/CSHL_volumes/MD594/MD594_10.0um_annotationAsScoreVolume_warp8_MD589_10.0um_annotationAsScoreVolume_10.0um/score_volumes/MD594_10.0um_annotationAsScoreVolume_warp8_MD589_10.0um_annotationAsScoreVolume_10.0um_LRt_L_bbox_wrt_fixedWholebrain.txt\"\n",
      "0\n",
      "LRt_R\n"
     ]
    },
    {
     "name": "stderr",
     "output_type": "stream",
     "text": [
      "Interpolating/filling sparse volume: 0.30 seconds.\n"
     ]
    },
    {
     "name": "stdout",
     "output_type": "stream",
     "text": [
      "aws s3 cp \"/home/yuncong/CSHL_volumes/MD594/MD594_10.0um_annotationAsScoreVolume_warp8_MD589_10.0um_annotationAsScoreVolume_10.0um/score_volumes/MD594_10.0um_annotationAsScoreVolume_warp8_MD589_10.0um_annotationAsScoreVolume_10.0um_LRt_R.bp\" \"s3://mousebrainatlas-data/CSHL_volumes/MD594/MD594_10.0um_annotationAsScoreVolume_warp8_MD589_10.0um_annotationAsScoreVolume_10.0um/score_volumes/MD594_10.0um_annotationAsScoreVolume_warp8_MD589_10.0um_annotationAsScoreVolume_10.0um_LRt_R.bp\"\n",
      "0\n",
      "aws s3 cp \"/home/yuncong/CSHL_volumes/MD594/MD594_10.0um_annotationAsScoreVolume_warp8_MD589_10.0um_annotationAsScoreVolume_10.0um/score_volumes/MD594_10.0um_annotationAsScoreVolume_warp8_MD589_10.0um_annotationAsScoreVolume_10.0um_LRt_R_bbox_wrt_fixedWholebrain.txt\" \"s3://mousebrainatlas-data/CSHL_volumes/MD594/MD594_10.0um_annotationAsScoreVolume_warp8_MD589_10.0um_annotationAsScoreVolume_10.0um/score_volumes/MD594_10.0um_annotationAsScoreVolume_warp8_MD589_10.0um_annotationAsScoreVolume_10.0um_LRt_R_bbox_wrt_fixedWholebrain.txt\"\n",
      "0\n",
      "Pn_L\n"
     ]
    },
    {
     "name": "stderr",
     "output_type": "stream",
     "text": [
      "Interpolating/filling sparse volume: 0.31 seconds.\n"
     ]
    },
    {
     "name": "stdout",
     "output_type": "stream",
     "text": [
      "aws s3 cp \"/home/yuncong/CSHL_volumes/MD594/MD594_10.0um_annotationAsScoreVolume_warp8_MD589_10.0um_annotationAsScoreVolume_10.0um/score_volumes/MD594_10.0um_annotationAsScoreVolume_warp8_MD589_10.0um_annotationAsScoreVolume_10.0um_Pn_L.bp\" \"s3://mousebrainatlas-data/CSHL_volumes/MD594/MD594_10.0um_annotationAsScoreVolume_warp8_MD589_10.0um_annotationAsScoreVolume_10.0um/score_volumes/MD594_10.0um_annotationAsScoreVolume_warp8_MD589_10.0um_annotationAsScoreVolume_10.0um_Pn_L.bp\"\n",
      "0\n",
      "aws s3 cp \"/home/yuncong/CSHL_volumes/MD594/MD594_10.0um_annotationAsScoreVolume_warp8_MD589_10.0um_annotationAsScoreVolume_10.0um/score_volumes/MD594_10.0um_annotationAsScoreVolume_warp8_MD589_10.0um_annotationAsScoreVolume_10.0um_Pn_L_bbox_wrt_fixedWholebrain.txt\" \"s3://mousebrainatlas-data/CSHL_volumes/MD594/MD594_10.0um_annotationAsScoreVolume_warp8_MD589_10.0um_annotationAsScoreVolume_10.0um/score_volumes/MD594_10.0um_annotationAsScoreVolume_warp8_MD589_10.0um_annotationAsScoreVolume_10.0um_Pn_L_bbox_wrt_fixedWholebrain.txt\"\n",
      "0\n",
      "Pn_R\n"
     ]
    },
    {
     "name": "stderr",
     "output_type": "stream",
     "text": [
      "Interpolating/filling sparse volume: 0.24 seconds.\n"
     ]
    },
    {
     "name": "stdout",
     "output_type": "stream",
     "text": [
      "aws s3 cp \"/home/yuncong/CSHL_volumes/MD594/MD594_10.0um_annotationAsScoreVolume_warp8_MD589_10.0um_annotationAsScoreVolume_10.0um/score_volumes/MD594_10.0um_annotationAsScoreVolume_warp8_MD589_10.0um_annotationAsScoreVolume_10.0um_Pn_R.bp\" \"s3://mousebrainatlas-data/CSHL_volumes/MD594/MD594_10.0um_annotationAsScoreVolume_warp8_MD589_10.0um_annotationAsScoreVolume_10.0um/score_volumes/MD594_10.0um_annotationAsScoreVolume_warp8_MD589_10.0um_annotationAsScoreVolume_10.0um_Pn_R.bp\"\n",
      "0\n",
      "aws s3 cp \"/home/yuncong/CSHL_volumes/MD594/MD594_10.0um_annotationAsScoreVolume_warp8_MD589_10.0um_annotationAsScoreVolume_10.0um/score_volumes/MD594_10.0um_annotationAsScoreVolume_warp8_MD589_10.0um_annotationAsScoreVolume_10.0um_Pn_R_bbox_wrt_fixedWholebrain.txt\" \"s3://mousebrainatlas-data/CSHL_volumes/MD594/MD594_10.0um_annotationAsScoreVolume_warp8_MD589_10.0um_annotationAsScoreVolume_10.0um/score_volumes/MD594_10.0um_annotationAsScoreVolume_warp8_MD589_10.0um_annotationAsScoreVolume_10.0um_Pn_R_bbox_wrt_fixedWholebrain.txt\"\n",
      "0\n",
      "Tz_L\n",
      "aws s3 cp \"/home/yuncong/CSHL_volumes/MD594/MD594_10.0um_annotationAsScoreVolume_warp8_MD589_10.0um_annotationAsScoreVolume_10.0um/score_volumes/MD594_10.0um_annotationAsScoreVolume_warp8_MD589_10.0um_annotationAsScoreVolume_10.0um_Tz_L.bp\" \"s3://mousebrainatlas-data/CSHL_volumes/MD594/MD594_10.0um_annotationAsScoreVolume_warp8_MD589_10.0um_annotationAsScoreVolume_10.0um/score_volumes/MD594_10.0um_annotationAsScoreVolume_warp8_MD589_10.0um_annotationAsScoreVolume_10.0um_Tz_L.bp\"\n"
     ]
    },
    {
     "name": "stderr",
     "output_type": "stream",
     "text": [
      "Interpolating/filling sparse volume: 0.06 seconds.\n"
     ]
    },
    {
     "name": "stdout",
     "output_type": "stream",
     "text": [
      "0\n",
      "aws s3 cp \"/home/yuncong/CSHL_volumes/MD594/MD594_10.0um_annotationAsScoreVolume_warp8_MD589_10.0um_annotationAsScoreVolume_10.0um/score_volumes/MD594_10.0um_annotationAsScoreVolume_warp8_MD589_10.0um_annotationAsScoreVolume_10.0um_Tz_L_bbox_wrt_fixedWholebrain.txt\" \"s3://mousebrainatlas-data/CSHL_volumes/MD594/MD594_10.0um_annotationAsScoreVolume_warp8_MD589_10.0um_annotationAsScoreVolume_10.0um/score_volumes/MD594_10.0um_annotationAsScoreVolume_warp8_MD589_10.0um_annotationAsScoreVolume_10.0um_Tz_L_bbox_wrt_fixedWholebrain.txt\"\n",
      "0\n",
      "Tz_R\n",
      "aws s3 cp \"/home/yuncong/CSHL_volumes/MD594/MD594_10.0um_annotationAsScoreVolume_warp8_MD589_10.0um_annotationAsScoreVolume_10.0um/score_volumes/MD594_10.0um_annotationAsScoreVolume_warp8_MD589_10.0um_annotationAsScoreVolume_10.0um_Tz_R.bp\" \"s3://mousebrainatlas-data/CSHL_volumes/MD594/MD594_10.0um_annotationAsScoreVolume_warp8_MD589_10.0um_annotationAsScoreVolume_10.0um/score_volumes/MD594_10.0um_annotationAsScoreVolume_warp8_MD589_10.0um_annotationAsScoreVolume_10.0um_Tz_R.bp\"\n"
     ]
    },
    {
     "name": "stderr",
     "output_type": "stream",
     "text": [
      "Interpolating/filling sparse volume: 0.07 seconds.\n"
     ]
    },
    {
     "name": "stdout",
     "output_type": "stream",
     "text": [
      "0\n",
      "aws s3 cp \"/home/yuncong/CSHL_volumes/MD594/MD594_10.0um_annotationAsScoreVolume_warp8_MD589_10.0um_annotationAsScoreVolume_10.0um/score_volumes/MD594_10.0um_annotationAsScoreVolume_warp8_MD589_10.0um_annotationAsScoreVolume_10.0um_Tz_R_bbox_wrt_fixedWholebrain.txt\" \"s3://mousebrainatlas-data/CSHL_volumes/MD594/MD594_10.0um_annotationAsScoreVolume_warp8_MD589_10.0um_annotationAsScoreVolume_10.0um/score_volumes/MD594_10.0um_annotationAsScoreVolume_warp8_MD589_10.0um_annotationAsScoreVolume_10.0um_Tz_R_bbox_wrt_fixedWholebrain.txt\"\n",
      "0\n",
      "VLL_L\n"
     ]
    },
    {
     "name": "stderr",
     "output_type": "stream",
     "text": [
      "Interpolating/filling sparse volume: 0.39 seconds.\n"
     ]
    },
    {
     "name": "stdout",
     "output_type": "stream",
     "text": [
      "aws s3 cp \"/home/yuncong/CSHL_volumes/MD594/MD594_10.0um_annotationAsScoreVolume_warp8_MD589_10.0um_annotationAsScoreVolume_10.0um/score_volumes/MD594_10.0um_annotationAsScoreVolume_warp8_MD589_10.0um_annotationAsScoreVolume_10.0um_VLL_L.bp\" \"s3://mousebrainatlas-data/CSHL_volumes/MD594/MD594_10.0um_annotationAsScoreVolume_warp8_MD589_10.0um_annotationAsScoreVolume_10.0um/score_volumes/MD594_10.0um_annotationAsScoreVolume_warp8_MD589_10.0um_annotationAsScoreVolume_10.0um_VLL_L.bp\"\n",
      "0\n",
      "aws s3 cp \"/home/yuncong/CSHL_volumes/MD594/MD594_10.0um_annotationAsScoreVolume_warp8_MD589_10.0um_annotationAsScoreVolume_10.0um/score_volumes/MD594_10.0um_annotationAsScoreVolume_warp8_MD589_10.0um_annotationAsScoreVolume_10.0um_VLL_L_bbox_wrt_fixedWholebrain.txt\" \"s3://mousebrainatlas-data/CSHL_volumes/MD594/MD594_10.0um_annotationAsScoreVolume_warp8_MD589_10.0um_annotationAsScoreVolume_10.0um/score_volumes/MD594_10.0um_annotationAsScoreVolume_warp8_MD589_10.0um_annotationAsScoreVolume_10.0um_VLL_L_bbox_wrt_fixedWholebrain.txt\"\n",
      "0\n",
      "VLL_R\n"
     ]
    },
    {
     "name": "stderr",
     "output_type": "stream",
     "text": [
      "Interpolating/filling sparse volume: 0.30 seconds.\n"
     ]
    },
    {
     "name": "stdout",
     "output_type": "stream",
     "text": [
      "aws s3 cp \"/home/yuncong/CSHL_volumes/MD594/MD594_10.0um_annotationAsScoreVolume_warp8_MD589_10.0um_annotationAsScoreVolume_10.0um/score_volumes/MD594_10.0um_annotationAsScoreVolume_warp8_MD589_10.0um_annotationAsScoreVolume_10.0um_VLL_R.bp\" \"s3://mousebrainatlas-data/CSHL_volumes/MD594/MD594_10.0um_annotationAsScoreVolume_warp8_MD589_10.0um_annotationAsScoreVolume_10.0um/score_volumes/MD594_10.0um_annotationAsScoreVolume_warp8_MD589_10.0um_annotationAsScoreVolume_10.0um_VLL_R.bp\"\n",
      "0\n",
      "aws s3 cp \"/home/yuncong/CSHL_volumes/MD594/MD594_10.0um_annotationAsScoreVolume_warp8_MD589_10.0um_annotationAsScoreVolume_10.0um/score_volumes/MD594_10.0um_annotationAsScoreVolume_warp8_MD589_10.0um_annotationAsScoreVolume_10.0um_VLL_R_bbox_wrt_fixedWholebrain.txt\" \"s3://mousebrainatlas-data/CSHL_volumes/MD594/MD594_10.0um_annotationAsScoreVolume_warp8_MD589_10.0um_annotationAsScoreVolume_10.0um/score_volumes/MD594_10.0um_annotationAsScoreVolume_warp8_MD589_10.0um_annotationAsScoreVolume_10.0um_VLL_R_bbox_wrt_fixedWholebrain.txt\"\n",
      "0\n",
      "RMC_L\n",
      "aws s3 cp \"/home/yuncong/CSHL_volumes/MD594/MD594_10.0um_annotationAsScoreVolume_warp8_MD589_10.0um_annotationAsScoreVolume_10.0um/score_volumes/MD594_10.0um_annotationAsScoreVolume_warp8_MD589_10.0um_annotationAsScoreVolume_10.0um_RMC_L.bp\" \"s3://mousebrainatlas-data/CSHL_volumes/MD594/MD594_10.0um_annotationAsScoreVolume_warp8_MD589_10.0um_annotationAsScoreVolume_10.0um/score_volumes/MD594_10.0um_annotationAsScoreVolume_warp8_MD589_10.0um_annotationAsScoreVolume_10.0um_RMC_L.bp\"\n"
     ]
    },
    {
     "name": "stderr",
     "output_type": "stream",
     "text": [
      "Interpolating/filling sparse volume: 0.09 seconds.\n"
     ]
    },
    {
     "name": "stdout",
     "output_type": "stream",
     "text": [
      "0\n",
      "aws s3 cp \"/home/yuncong/CSHL_volumes/MD594/MD594_10.0um_annotationAsScoreVolume_warp8_MD589_10.0um_annotationAsScoreVolume_10.0um/score_volumes/MD594_10.0um_annotationAsScoreVolume_warp8_MD589_10.0um_annotationAsScoreVolume_10.0um_RMC_L_bbox_wrt_fixedWholebrain.txt\" \"s3://mousebrainatlas-data/CSHL_volumes/MD594/MD594_10.0um_annotationAsScoreVolume_warp8_MD589_10.0um_annotationAsScoreVolume_10.0um/score_volumes/MD594_10.0um_annotationAsScoreVolume_warp8_MD589_10.0um_annotationAsScoreVolume_10.0um_RMC_L_bbox_wrt_fixedWholebrain.txt\"\n",
      "0\n",
      "RMC_R\n",
      "aws s3 cp \"/home/yuncong/CSHL_volumes/MD594/MD594_10.0um_annotationAsScoreVolume_warp8_MD589_10.0um_annotationAsScoreVolume_10.0um/score_volumes/MD594_10.0um_annotationAsScoreVolume_warp8_MD589_10.0um_annotationAsScoreVolume_10.0um_RMC_R.bp\" \"s3://mousebrainatlas-data/CSHL_volumes/MD594/MD594_10.0um_annotationAsScoreVolume_warp8_MD589_10.0um_annotationAsScoreVolume_10.0um/score_volumes/MD594_10.0um_annotationAsScoreVolume_warp8_MD589_10.0um_annotationAsScoreVolume_10.0um_RMC_R.bp\"\n"
     ]
    },
    {
     "name": "stderr",
     "output_type": "stream",
     "text": [
      "Interpolating/filling sparse volume: 0.11 seconds.\n"
     ]
    },
    {
     "name": "stdout",
     "output_type": "stream",
     "text": [
      "0\n",
      "aws s3 cp \"/home/yuncong/CSHL_volumes/MD594/MD594_10.0um_annotationAsScoreVolume_warp8_MD589_10.0um_annotationAsScoreVolume_10.0um/score_volumes/MD594_10.0um_annotationAsScoreVolume_warp8_MD589_10.0um_annotationAsScoreVolume_10.0um_RMC_R_bbox_wrt_fixedWholebrain.txt\" \"s3://mousebrainatlas-data/CSHL_volumes/MD594/MD594_10.0um_annotationAsScoreVolume_warp8_MD589_10.0um_annotationAsScoreVolume_10.0um/score_volumes/MD594_10.0um_annotationAsScoreVolume_warp8_MD589_10.0um_annotationAsScoreVolume_10.0um_RMC_R_bbox_wrt_fixedWholebrain.txt\"\n",
      "0\n",
      "SNC_L\n"
     ]
    },
    {
     "name": "stderr",
     "output_type": "stream",
     "text": [
      "Interpolating/filling sparse volume: 0.20 seconds.\n"
     ]
    },
    {
     "name": "stdout",
     "output_type": "stream",
     "text": [
      "aws s3 cp \"/home/yuncong/CSHL_volumes/MD594/MD594_10.0um_annotationAsScoreVolume_warp8_MD589_10.0um_annotationAsScoreVolume_10.0um/score_volumes/MD594_10.0um_annotationAsScoreVolume_warp8_MD589_10.0um_annotationAsScoreVolume_10.0um_SNC_L.bp\" \"s3://mousebrainatlas-data/CSHL_volumes/MD594/MD594_10.0um_annotationAsScoreVolume_warp8_MD589_10.0um_annotationAsScoreVolume_10.0um/score_volumes/MD594_10.0um_annotationAsScoreVolume_warp8_MD589_10.0um_annotationAsScoreVolume_10.0um_SNC_L.bp\"\n",
      "0\n",
      "aws s3 cp \"/home/yuncong/CSHL_volumes/MD594/MD594_10.0um_annotationAsScoreVolume_warp8_MD589_10.0um_annotationAsScoreVolume_10.0um/score_volumes/MD594_10.0um_annotationAsScoreVolume_warp8_MD589_10.0um_annotationAsScoreVolume_10.0um_SNC_L_bbox_wrt_fixedWholebrain.txt\" \"s3://mousebrainatlas-data/CSHL_volumes/MD594/MD594_10.0um_annotationAsScoreVolume_warp8_MD589_10.0um_annotationAsScoreVolume_10.0um/score_volumes/MD594_10.0um_annotationAsScoreVolume_warp8_MD589_10.0um_annotationAsScoreVolume_10.0um_SNC_L_bbox_wrt_fixedWholebrain.txt\"\n",
      "0\n",
      "SNC_R\n"
     ]
    },
    {
     "name": "stderr",
     "output_type": "stream",
     "text": [
      "Interpolating/filling sparse volume: 0.19 seconds.\n"
     ]
    },
    {
     "name": "stdout",
     "output_type": "stream",
     "text": [
      "aws s3 cp \"/home/yuncong/CSHL_volumes/MD594/MD594_10.0um_annotationAsScoreVolume_warp8_MD589_10.0um_annotationAsScoreVolume_10.0um/score_volumes/MD594_10.0um_annotationAsScoreVolume_warp8_MD589_10.0um_annotationAsScoreVolume_10.0um_SNC_R.bp\" \"s3://mousebrainatlas-data/CSHL_volumes/MD594/MD594_10.0um_annotationAsScoreVolume_warp8_MD589_10.0um_annotationAsScoreVolume_10.0um/score_volumes/MD594_10.0um_annotationAsScoreVolume_warp8_MD589_10.0um_annotationAsScoreVolume_10.0um_SNC_R.bp\"\n",
      "0\n",
      "aws s3 cp \"/home/yuncong/CSHL_volumes/MD594/MD594_10.0um_annotationAsScoreVolume_warp8_MD589_10.0um_annotationAsScoreVolume_10.0um/score_volumes/MD594_10.0um_annotationAsScoreVolume_warp8_MD589_10.0um_annotationAsScoreVolume_10.0um_SNC_R_bbox_wrt_fixedWholebrain.txt\" \"s3://mousebrainatlas-data/CSHL_volumes/MD594/MD594_10.0um_annotationAsScoreVolume_warp8_MD589_10.0um_annotationAsScoreVolume_10.0um/score_volumes/MD594_10.0um_annotationAsScoreVolume_warp8_MD589_10.0um_annotationAsScoreVolume_10.0um_SNC_R_bbox_wrt_fixedWholebrain.txt\"\n",
      "0\n",
      "SNR_L\n"
     ]
    },
    {
     "name": "stderr",
     "output_type": "stream",
     "text": [
      "Interpolating/filling sparse volume: 0.78 seconds.\n"
     ]
    },
    {
     "name": "stdout",
     "output_type": "stream",
     "text": [
      "aws s3 cp \"/home/yuncong/CSHL_volumes/MD594/MD594_10.0um_annotationAsScoreVolume_warp8_MD589_10.0um_annotationAsScoreVolume_10.0um/score_volumes/MD594_10.0um_annotationAsScoreVolume_warp8_MD589_10.0um_annotationAsScoreVolume_10.0um_SNR_L.bp\" \"s3://mousebrainatlas-data/CSHL_volumes/MD594/MD594_10.0um_annotationAsScoreVolume_warp8_MD589_10.0um_annotationAsScoreVolume_10.0um/score_volumes/MD594_10.0um_annotationAsScoreVolume_warp8_MD589_10.0um_annotationAsScoreVolume_10.0um_SNR_L.bp\"\n",
      "0\n",
      "aws s3 cp \"/home/yuncong/CSHL_volumes/MD594/MD594_10.0um_annotationAsScoreVolume_warp8_MD589_10.0um_annotationAsScoreVolume_10.0um/score_volumes/MD594_10.0um_annotationAsScoreVolume_warp8_MD589_10.0um_annotationAsScoreVolume_10.0um_SNR_L_bbox_wrt_fixedWholebrain.txt\" \"s3://mousebrainatlas-data/CSHL_volumes/MD594/MD594_10.0um_annotationAsScoreVolume_warp8_MD589_10.0um_annotationAsScoreVolume_10.0um/score_volumes/MD594_10.0um_annotationAsScoreVolume_warp8_MD589_10.0um_annotationAsScoreVolume_10.0um_SNR_L_bbox_wrt_fixedWholebrain.txt\"\n",
      "0\n",
      "SNR_R\n"
     ]
    },
    {
     "name": "stderr",
     "output_type": "stream",
     "text": [
      "Interpolating/filling sparse volume: 0.73 seconds.\n"
     ]
    },
    {
     "name": "stdout",
     "output_type": "stream",
     "text": [
      "aws s3 cp \"/home/yuncong/CSHL_volumes/MD594/MD594_10.0um_annotationAsScoreVolume_warp8_MD589_10.0um_annotationAsScoreVolume_10.0um/score_volumes/MD594_10.0um_annotationAsScoreVolume_warp8_MD589_10.0um_annotationAsScoreVolume_10.0um_SNR_R.bp\" \"s3://mousebrainatlas-data/CSHL_volumes/MD594/MD594_10.0um_annotationAsScoreVolume_warp8_MD589_10.0um_annotationAsScoreVolume_10.0um/score_volumes/MD594_10.0um_annotationAsScoreVolume_warp8_MD589_10.0um_annotationAsScoreVolume_10.0um_SNR_R.bp\"\n",
      "0\n",
      "aws s3 cp \"/home/yuncong/CSHL_volumes/MD594/MD594_10.0um_annotationAsScoreVolume_warp8_MD589_10.0um_annotationAsScoreVolume_10.0um/score_volumes/MD594_10.0um_annotationAsScoreVolume_warp8_MD589_10.0um_annotationAsScoreVolume_10.0um_SNR_R_bbox_wrt_fixedWholebrain.txt\" \"s3://mousebrainatlas-data/CSHL_volumes/MD594/MD594_10.0um_annotationAsScoreVolume_warp8_MD589_10.0um_annotationAsScoreVolume_10.0um/score_volumes/MD594_10.0um_annotationAsScoreVolume_warp8_MD589_10.0um_annotationAsScoreVolume_10.0um_SNR_R_bbox_wrt_fixedWholebrain.txt\"\n",
      "0\n",
      "3N_L\n",
      "aws s3 cp \"/home/yuncong/CSHL_volumes/MD594/MD594_10.0um_annotationAsScoreVolume_warp8_MD589_10.0um_annotationAsScoreVolume_10.0um/score_volumes/MD594_10.0um_annotationAsScoreVolume_warp8_MD589_10.0um_annotationAsScoreVolume_10.0um_3N_L.bp\" \"s3://mousebrainatlas-data/CSHL_volumes/MD594/MD594_10.0um_annotationAsScoreVolume_warp8_MD589_10.0um_annotationAsScoreVolume_10.0um/score_volumes/MD594_10.0um_annotationAsScoreVolume_warp8_MD589_10.0um_annotationAsScoreVolume_10.0um_3N_L.bp\"\n"
     ]
    },
    {
     "name": "stderr",
     "output_type": "stream",
     "text": [
      "Interpolating/filling sparse volume: 0.04 seconds.\n"
     ]
    },
    {
     "name": "stdout",
     "output_type": "stream",
     "text": [
      "0\n",
      "aws s3 cp \"/home/yuncong/CSHL_volumes/MD594/MD594_10.0um_annotationAsScoreVolume_warp8_MD589_10.0um_annotationAsScoreVolume_10.0um/score_volumes/MD594_10.0um_annotationAsScoreVolume_warp8_MD589_10.0um_annotationAsScoreVolume_10.0um_3N_L_bbox_wrt_fixedWholebrain.txt\" \"s3://mousebrainatlas-data/CSHL_volumes/MD594/MD594_10.0um_annotationAsScoreVolume_warp8_MD589_10.0um_annotationAsScoreVolume_10.0um/score_volumes/MD594_10.0um_annotationAsScoreVolume_warp8_MD589_10.0um_annotationAsScoreVolume_10.0um_3N_L_bbox_wrt_fixedWholebrain.txt\"\n",
      "0\n",
      "3N_R\n",
      "aws s3 cp \"/home/yuncong/CSHL_volumes/MD594/MD594_10.0um_annotationAsScoreVolume_warp8_MD589_10.0um_annotationAsScoreVolume_10.0um/score_volumes/MD594_10.0um_annotationAsScoreVolume_warp8_MD589_10.0um_annotationAsScoreVolume_10.0um_3N_R.bp\" \"s3://mousebrainatlas-data/CSHL_volumes/MD594/MD594_10.0um_annotationAsScoreVolume_warp8_MD589_10.0um_annotationAsScoreVolume_10.0um/score_volumes/MD594_10.0um_annotationAsScoreVolume_warp8_MD589_10.0um_annotationAsScoreVolume_10.0um_3N_R.bp\"\n"
     ]
    },
    {
     "name": "stderr",
     "output_type": "stream",
     "text": [
      "Interpolating/filling sparse volume: 0.04 seconds.\n"
     ]
    },
    {
     "name": "stdout",
     "output_type": "stream",
     "text": [
      "0\n",
      "aws s3 cp \"/home/yuncong/CSHL_volumes/MD594/MD594_10.0um_annotationAsScoreVolume_warp8_MD589_10.0um_annotationAsScoreVolume_10.0um/score_volumes/MD594_10.0um_annotationAsScoreVolume_warp8_MD589_10.0um_annotationAsScoreVolume_10.0um_3N_R_bbox_wrt_fixedWholebrain.txt\" \"s3://mousebrainatlas-data/CSHL_volumes/MD594/MD594_10.0um_annotationAsScoreVolume_warp8_MD589_10.0um_annotationAsScoreVolume_10.0um/score_volumes/MD594_10.0um_annotationAsScoreVolume_warp8_MD589_10.0um_annotationAsScoreVolume_10.0um_3N_R_bbox_wrt_fixedWholebrain.txt\"\n",
      "0\n",
      "4N_L\n",
      "aws s3 cp \"/home/yuncong/CSHL_volumes/MD594/MD594_10.0um_annotationAsScoreVolume_warp8_MD589_10.0um_annotationAsScoreVolume_10.0um/score_volumes/MD594_10.0um_annotationAsScoreVolume_warp8_MD589_10.0um_annotationAsScoreVolume_10.0um_4N_L.bp\" \"s3://mousebrainatlas-data/CSHL_volumes/MD594/MD594_10.0um_annotationAsScoreVolume_warp8_MD589_10.0um_annotationAsScoreVolume_10.0um/score_volumes/MD594_10.0um_annotationAsScoreVolume_warp8_MD589_10.0um_annotationAsScoreVolume_10.0um_4N_L.bp\"\n"
     ]
    },
    {
     "name": "stderr",
     "output_type": "stream",
     "text": [
      "Interpolating/filling sparse volume: 0.02 seconds.\n"
     ]
    },
    {
     "name": "stdout",
     "output_type": "stream",
     "text": [
      "0\n",
      "aws s3 cp \"/home/yuncong/CSHL_volumes/MD594/MD594_10.0um_annotationAsScoreVolume_warp8_MD589_10.0um_annotationAsScoreVolume_10.0um/score_volumes/MD594_10.0um_annotationAsScoreVolume_warp8_MD589_10.0um_annotationAsScoreVolume_10.0um_4N_L_bbox_wrt_fixedWholebrain.txt\" \"s3://mousebrainatlas-data/CSHL_volumes/MD594/MD594_10.0um_annotationAsScoreVolume_warp8_MD589_10.0um_annotationAsScoreVolume_10.0um/score_volumes/MD594_10.0um_annotationAsScoreVolume_warp8_MD589_10.0um_annotationAsScoreVolume_10.0um_4N_L_bbox_wrt_fixedWholebrain.txt\"\n",
      "0\n",
      "4N_R\n",
      "aws s3 cp \"/home/yuncong/CSHL_volumes/MD594/MD594_10.0um_annotationAsScoreVolume_warp8_MD589_10.0um_annotationAsScoreVolume_10.0um/score_volumes/MD594_10.0um_annotationAsScoreVolume_warp8_MD589_10.0um_annotationAsScoreVolume_10.0um_4N_R.bp\" \"s3://mousebrainatlas-data/CSHL_volumes/MD594/MD594_10.0um_annotationAsScoreVolume_warp8_MD589_10.0um_annotationAsScoreVolume_10.0um/score_volumes/MD594_10.0um_annotationAsScoreVolume_warp8_MD589_10.0um_annotationAsScoreVolume_10.0um_4N_R.bp\"\n"
     ]
    },
    {
     "name": "stderr",
     "output_type": "stream",
     "text": [
      "Interpolating/filling sparse volume: 0.01 seconds.\n"
     ]
    },
    {
     "name": "stdout",
     "output_type": "stream",
     "text": [
      "0\n",
      "aws s3 cp \"/home/yuncong/CSHL_volumes/MD594/MD594_10.0um_annotationAsScoreVolume_warp8_MD589_10.0um_annotationAsScoreVolume_10.0um/score_volumes/MD594_10.0um_annotationAsScoreVolume_warp8_MD589_10.0um_annotationAsScoreVolume_10.0um_4N_R_bbox_wrt_fixedWholebrain.txt\" \"s3://mousebrainatlas-data/CSHL_volumes/MD594/MD594_10.0um_annotationAsScoreVolume_warp8_MD589_10.0um_annotationAsScoreVolume_10.0um/score_volumes/MD594_10.0um_annotationAsScoreVolume_warp8_MD589_10.0um_annotationAsScoreVolume_10.0um_4N_R_bbox_wrt_fixedWholebrain.txt\"\n",
      "0\n",
      "Sp5I_L\n",
      "aws s3 cp \"/home/yuncong/CSHL_volumes/MD594/MD594_10.0um_annotationAsScoreVolume_warp8_MD589_10.0um_annotationAsScoreVolume_10.0um/score_volumes/MD594_10.0um_annotationAsScoreVolume_warp8_MD589_10.0um_annotationAsScoreVolume_10.0um_Sp5I_L.bp\" \"s3://mousebrainatlas-data/CSHL_volumes/MD594/MD594_10.0um_annotationAsScoreVolume_warp8_MD589_10.0um_annotationAsScoreVolume_10.0um/score_volumes/MD594_10.0um_annotationAsScoreVolume_warp8_MD589_10.0um_annotationAsScoreVolume_10.0um_Sp5I_L.bp\"\n"
     ]
    },
    {
     "name": "stderr",
     "output_type": "stream",
     "text": [
      "Interpolating/filling sparse volume: 0.11 seconds.\n"
     ]
    },
    {
     "name": "stdout",
     "output_type": "stream",
     "text": [
      "0\n",
      "aws s3 cp \"/home/yuncong/CSHL_volumes/MD594/MD594_10.0um_annotationAsScoreVolume_warp8_MD589_10.0um_annotationAsScoreVolume_10.0um/score_volumes/MD594_10.0um_annotationAsScoreVolume_warp8_MD589_10.0um_annotationAsScoreVolume_10.0um_Sp5I_L_bbox_wrt_fixedWholebrain.txt\" \"s3://mousebrainatlas-data/CSHL_volumes/MD594/MD594_10.0um_annotationAsScoreVolume_warp8_MD589_10.0um_annotationAsScoreVolume_10.0um/score_volumes/MD594_10.0um_annotationAsScoreVolume_warp8_MD589_10.0um_annotationAsScoreVolume_10.0um_Sp5I_L_bbox_wrt_fixedWholebrain.txt\"\n",
      "0\n",
      "Sp5I_R\n"
     ]
    },
    {
     "name": "stderr",
     "output_type": "stream",
     "text": [
      "Interpolating/filling sparse volume: 0.22 seconds.\n"
     ]
    },
    {
     "name": "stdout",
     "output_type": "stream",
     "text": [
      "aws s3 cp \"/home/yuncong/CSHL_volumes/MD594/MD594_10.0um_annotationAsScoreVolume_warp8_MD589_10.0um_annotationAsScoreVolume_10.0um/score_volumes/MD594_10.0um_annotationAsScoreVolume_warp8_MD589_10.0um_annotationAsScoreVolume_10.0um_Sp5I_R.bp\" \"s3://mousebrainatlas-data/CSHL_volumes/MD594/MD594_10.0um_annotationAsScoreVolume_warp8_MD589_10.0um_annotationAsScoreVolume_10.0um/score_volumes/MD594_10.0um_annotationAsScoreVolume_warp8_MD589_10.0um_annotationAsScoreVolume_10.0um_Sp5I_R.bp\"\n",
      "0\n",
      "aws s3 cp \"/home/yuncong/CSHL_volumes/MD594/MD594_10.0um_annotationAsScoreVolume_warp8_MD589_10.0um_annotationAsScoreVolume_10.0um/score_volumes/MD594_10.0um_annotationAsScoreVolume_warp8_MD589_10.0um_annotationAsScoreVolume_10.0um_Sp5I_R_bbox_wrt_fixedWholebrain.txt\" \"s3://mousebrainatlas-data/CSHL_volumes/MD594/MD594_10.0um_annotationAsScoreVolume_warp8_MD589_10.0um_annotationAsScoreVolume_10.0um/score_volumes/MD594_10.0um_annotationAsScoreVolume_warp8_MD589_10.0um_annotationAsScoreVolume_10.0um_Sp5I_R_bbox_wrt_fixedWholebrain.txt\"\n",
      "0\n",
      "Sp5O_L\n"
     ]
    },
    {
     "name": "stderr",
     "output_type": "stream",
     "text": [
      "Interpolating/filling sparse volume: 0.26 seconds.\n"
     ]
    },
    {
     "name": "stdout",
     "output_type": "stream",
     "text": [
      "aws s3 cp \"/home/yuncong/CSHL_volumes/MD594/MD594_10.0um_annotationAsScoreVolume_warp8_MD589_10.0um_annotationAsScoreVolume_10.0um/score_volumes/MD594_10.0um_annotationAsScoreVolume_warp8_MD589_10.0um_annotationAsScoreVolume_10.0um_Sp5O_L.bp\" \"s3://mousebrainatlas-data/CSHL_volumes/MD594/MD594_10.0um_annotationAsScoreVolume_warp8_MD589_10.0um_annotationAsScoreVolume_10.0um/score_volumes/MD594_10.0um_annotationAsScoreVolume_warp8_MD589_10.0um_annotationAsScoreVolume_10.0um_Sp5O_L.bp\"\n",
      "0\n",
      "aws s3 cp \"/home/yuncong/CSHL_volumes/MD594/MD594_10.0um_annotationAsScoreVolume_warp8_MD589_10.0um_annotationAsScoreVolume_10.0um/score_volumes/MD594_10.0um_annotationAsScoreVolume_warp8_MD589_10.0um_annotationAsScoreVolume_10.0um_Sp5O_L_bbox_wrt_fixedWholebrain.txt\" \"s3://mousebrainatlas-data/CSHL_volumes/MD594/MD594_10.0um_annotationAsScoreVolume_warp8_MD589_10.0um_annotationAsScoreVolume_10.0um/score_volumes/MD594_10.0um_annotationAsScoreVolume_warp8_MD589_10.0um_annotationAsScoreVolume_10.0um_Sp5O_L_bbox_wrt_fixedWholebrain.txt\"\n",
      "0\n",
      "Sp5O_R\n"
     ]
    },
    {
     "name": "stderr",
     "output_type": "stream",
     "text": [
      "Interpolating/filling sparse volume: 0.30 seconds.\n"
     ]
    },
    {
     "name": "stdout",
     "output_type": "stream",
     "text": [
      "aws s3 cp \"/home/yuncong/CSHL_volumes/MD594/MD594_10.0um_annotationAsScoreVolume_warp8_MD589_10.0um_annotationAsScoreVolume_10.0um/score_volumes/MD594_10.0um_annotationAsScoreVolume_warp8_MD589_10.0um_annotationAsScoreVolume_10.0um_Sp5O_R.bp\" \"s3://mousebrainatlas-data/CSHL_volumes/MD594/MD594_10.0um_annotationAsScoreVolume_warp8_MD589_10.0um_annotationAsScoreVolume_10.0um/score_volumes/MD594_10.0um_annotationAsScoreVolume_warp8_MD589_10.0um_annotationAsScoreVolume_10.0um_Sp5O_R.bp\"\n",
      "0\n",
      "aws s3 cp \"/home/yuncong/CSHL_volumes/MD594/MD594_10.0um_annotationAsScoreVolume_warp8_MD589_10.0um_annotationAsScoreVolume_10.0um/score_volumes/MD594_10.0um_annotationAsScoreVolume_warp8_MD589_10.0um_annotationAsScoreVolume_10.0um_Sp5O_R_bbox_wrt_fixedWholebrain.txt\" \"s3://mousebrainatlas-data/CSHL_volumes/MD594/MD594_10.0um_annotationAsScoreVolume_warp8_MD589_10.0um_annotationAsScoreVolume_10.0um/score_volumes/MD594_10.0um_annotationAsScoreVolume_warp8_MD589_10.0um_annotationAsScoreVolume_10.0um_Sp5O_R_bbox_wrt_fixedWholebrain.txt\"\n",
      "0\n",
      "Sp5C_L\n"
     ]
    },
    {
     "name": "stderr",
     "output_type": "stream",
     "text": [
      "Interpolating/filling sparse volume: 1.47 seconds.\n"
     ]
    },
    {
     "name": "stdout",
     "output_type": "stream",
     "text": [
      "aws s3 cp \"/home/yuncong/CSHL_volumes/MD594/MD594_10.0um_annotationAsScoreVolume_warp8_MD589_10.0um_annotationAsScoreVolume_10.0um/score_volumes/MD594_10.0um_annotationAsScoreVolume_warp8_MD589_10.0um_annotationAsScoreVolume_10.0um_Sp5C_L.bp\" \"s3://mousebrainatlas-data/CSHL_volumes/MD594/MD594_10.0um_annotationAsScoreVolume_warp8_MD589_10.0um_annotationAsScoreVolume_10.0um/score_volumes/MD594_10.0um_annotationAsScoreVolume_warp8_MD589_10.0um_annotationAsScoreVolume_10.0um_Sp5C_L.bp\"\n",
      "0\n",
      "aws s3 cp \"/home/yuncong/CSHL_volumes/MD594/MD594_10.0um_annotationAsScoreVolume_warp8_MD589_10.0um_annotationAsScoreVolume_10.0um/score_volumes/MD594_10.0um_annotationAsScoreVolume_warp8_MD589_10.0um_annotationAsScoreVolume_10.0um_Sp5C_L_bbox_wrt_fixedWholebrain.txt\" \"s3://mousebrainatlas-data/CSHL_volumes/MD594/MD594_10.0um_annotationAsScoreVolume_warp8_MD589_10.0um_annotationAsScoreVolume_10.0um/score_volumes/MD594_10.0um_annotationAsScoreVolume_warp8_MD589_10.0um_annotationAsScoreVolume_10.0um_Sp5C_L_bbox_wrt_fixedWholebrain.txt\"\n",
      "0\n",
      "Sp5C_R\n"
     ]
    },
    {
     "name": "stderr",
     "output_type": "stream",
     "text": [
      "Interpolating/filling sparse volume: 0.76 seconds.\n"
     ]
    },
    {
     "name": "stdout",
     "output_type": "stream",
     "text": [
      "aws s3 cp \"/home/yuncong/CSHL_volumes/MD594/MD594_10.0um_annotationAsScoreVolume_warp8_MD589_10.0um_annotationAsScoreVolume_10.0um/score_volumes/MD594_10.0um_annotationAsScoreVolume_warp8_MD589_10.0um_annotationAsScoreVolume_10.0um_Sp5C_R.bp\" \"s3://mousebrainatlas-data/CSHL_volumes/MD594/MD594_10.0um_annotationAsScoreVolume_warp8_MD589_10.0um_annotationAsScoreVolume_10.0um/score_volumes/MD594_10.0um_annotationAsScoreVolume_warp8_MD589_10.0um_annotationAsScoreVolume_10.0um_Sp5C_R.bp\"\n",
      "0\n",
      "aws s3 cp \"/home/yuncong/CSHL_volumes/MD594/MD594_10.0um_annotationAsScoreVolume_warp8_MD589_10.0um_annotationAsScoreVolume_10.0um/score_volumes/MD594_10.0um_annotationAsScoreVolume_warp8_MD589_10.0um_annotationAsScoreVolume_10.0um_Sp5C_R_bbox_wrt_fixedWholebrain.txt\" \"s3://mousebrainatlas-data/CSHL_volumes/MD594/MD594_10.0um_annotationAsScoreVolume_warp8_MD589_10.0um_annotationAsScoreVolume_10.0um/score_volumes/MD594_10.0um_annotationAsScoreVolume_warp8_MD589_10.0um_annotationAsScoreVolume_10.0um_Sp5C_R_bbox_wrt_fixedWholebrain.txt\"\n",
      "0\n",
      "PBG_L\n",
      "aws s3 cp \"/home/yuncong/CSHL_volumes/MD594/MD594_10.0um_annotationAsScoreVolume_warp8_MD589_10.0um_annotationAsScoreVolume_10.0um/score_volumes/MD594_10.0um_annotationAsScoreVolume_warp8_MD589_10.0um_annotationAsScoreVolume_10.0um_PBG_L.bp\" \"s3://mousebrainatlas-data/CSHL_volumes/MD594/MD594_10.0um_annotationAsScoreVolume_warp8_MD589_10.0um_annotationAsScoreVolume_10.0um/score_volumes/MD594_10.0um_annotationAsScoreVolume_warp8_MD589_10.0um_annotationAsScoreVolume_10.0um_PBG_L.bp\""
     ]
    },
    {
     "name": "stderr",
     "output_type": "stream",
     "text": [
      "Interpolating/filling sparse volume: 0.07 seconds.\n"
     ]
    },
    {
     "name": "stdout",
     "output_type": "stream",
     "text": [
      "\n",
      "0\n",
      "aws s3 cp \"/home/yuncong/CSHL_volumes/MD594/MD594_10.0um_annotationAsScoreVolume_warp8_MD589_10.0um_annotationAsScoreVolume_10.0um/score_volumes/MD594_10.0um_annotationAsScoreVolume_warp8_MD589_10.0um_annotationAsScoreVolume_10.0um_PBG_L_bbox_wrt_fixedWholebrain.txt\" \"s3://mousebrainatlas-data/CSHL_volumes/MD594/MD594_10.0um_annotationAsScoreVolume_warp8_MD589_10.0um_annotationAsScoreVolume_10.0um/score_volumes/MD594_10.0um_annotationAsScoreVolume_warp8_MD589_10.0um_annotationAsScoreVolume_10.0um_PBG_L_bbox_wrt_fixedWholebrain.txt\"\n",
      "0\n",
      "PBG_R\n",
      "aws s3 cp \"/home/yuncong/CSHL_volumes/MD594/MD594_10.0um_annotationAsScoreVolume_warp8_MD589_10.0um_annotationAsScoreVolume_10.0um/score_volumes/MD594_10.0um_annotationAsScoreVolume_warp8_MD589_10.0um_annotationAsScoreVolume_10.0um_PBG_R.bp\" \"s3://mousebrainatlas-data/CSHL_volumes/MD594/MD594_10.0um_annotationAsScoreVolume_warp8_MD589_10.0um_annotationAsScoreVolume_10.0um/score_volumes/MD594_10.0um_annotationAsScoreVolume_warp8_MD589_10.0um_annotationAsScoreVolume_10.0um_PBG_R.bp\""
     ]
    },
    {
     "name": "stderr",
     "output_type": "stream",
     "text": [
      "Interpolating/filling sparse volume: 0.07 seconds.\n"
     ]
    },
    {
     "name": "stdout",
     "output_type": "stream",
     "text": [
      "\n",
      "0\n",
      "aws s3 cp \"/home/yuncong/CSHL_volumes/MD594/MD594_10.0um_annotationAsScoreVolume_warp8_MD589_10.0um_annotationAsScoreVolume_10.0um/score_volumes/MD594_10.0um_annotationAsScoreVolume_warp8_MD589_10.0um_annotationAsScoreVolume_10.0um_PBG_R_bbox_wrt_fixedWholebrain.txt\" \"s3://mousebrainatlas-data/CSHL_volumes/MD594/MD594_10.0um_annotationAsScoreVolume_warp8_MD589_10.0um_annotationAsScoreVolume_10.0um/score_volumes/MD594_10.0um_annotationAsScoreVolume_warp8_MD589_10.0um_annotationAsScoreVolume_10.0um_PBG_R_bbox_wrt_fixedWholebrain.txt\"\n",
      "0\n",
      "10N_L\n",
      "aws s3 cp \"/home/yuncong/CSHL_volumes/MD594/MD594_10.0um_annotationAsScoreVolume_warp8_MD589_10.0um_annotationAsScoreVolume_10.0um/score_volumes/MD594_10.0um_annotationAsScoreVolume_warp8_MD589_10.0um_annotationAsScoreVolume_10.0um_10N_L.bp\" \"s3://mousebrainatlas-data/CSHL_volumes/MD594/MD594_10.0um_annotationAsScoreVolume_warp8_MD589_10.0um_annotationAsScoreVolume_10.0um/score_volumes/MD594_10.0um_annotationAsScoreVolume_warp8_MD589_10.0um_annotationAsScoreVolume_10.0um_10N_L.bp\"\n"
     ]
    },
    {
     "name": "stderr",
     "output_type": "stream",
     "text": [
      "Interpolating/filling sparse volume: 0.09 seconds.\n"
     ]
    },
    {
     "name": "stdout",
     "output_type": "stream",
     "text": [
      "0\n",
      "aws s3 cp \"/home/yuncong/CSHL_volumes/MD594/MD594_10.0um_annotationAsScoreVolume_warp8_MD589_10.0um_annotationAsScoreVolume_10.0um/score_volumes/MD594_10.0um_annotationAsScoreVolume_warp8_MD589_10.0um_annotationAsScoreVolume_10.0um_10N_L_bbox_wrt_fixedWholebrain.txt\" \"s3://mousebrainatlas-data/CSHL_volumes/MD594/MD594_10.0um_annotationAsScoreVolume_warp8_MD589_10.0um_annotationAsScoreVolume_10.0um/score_volumes/MD594_10.0um_annotationAsScoreVolume_warp8_MD589_10.0um_annotationAsScoreVolume_10.0um_10N_L_bbox_wrt_fixedWholebrain.txt\"\n",
      "0\n",
      "10N_R\n",
      "aws s3 cp \"/home/yuncong/CSHL_volumes/MD594/MD594_10.0um_annotationAsScoreVolume_warp8_MD589_10.0um_annotationAsScoreVolume_10.0um/score_volumes/MD594_10.0um_annotationAsScoreVolume_warp8_MD589_10.0um_annotationAsScoreVolume_10.0um_10N_R.bp\" \"s3://mousebrainatlas-data/CSHL_volumes/MD594/MD594_10.0um_annotationAsScoreVolume_warp8_MD589_10.0um_annotationAsScoreVolume_10.0um/score_volumes/MD594_10.0um_annotationAsScoreVolume_warp8_MD589_10.0um_annotationAsScoreVolume_10.0um_10N_R.bp\""
     ]
    },
    {
     "name": "stderr",
     "output_type": "stream",
     "text": [
      "Interpolating/filling sparse volume: 0.08 seconds.\n"
     ]
    },
    {
     "name": "stdout",
     "output_type": "stream",
     "text": [
      "\n",
      "0\n",
      "aws s3 cp \"/home/yuncong/CSHL_volumes/MD594/MD594_10.0um_annotationAsScoreVolume_warp8_MD589_10.0um_annotationAsScoreVolume_10.0um/score_volumes/MD594_10.0um_annotationAsScoreVolume_warp8_MD589_10.0um_annotationAsScoreVolume_10.0um_10N_R_bbox_wrt_fixedWholebrain.txt\" \"s3://mousebrainatlas-data/CSHL_volumes/MD594/MD594_10.0um_annotationAsScoreVolume_warp8_MD589_10.0um_annotationAsScoreVolume_10.0um/score_volumes/MD594_10.0um_annotationAsScoreVolume_warp8_MD589_10.0um_annotationAsScoreVolume_10.0um_10N_R_bbox_wrt_fixedWholebrain.txt\"\n",
      "0\n",
      "VCA_L\n"
     ]
    },
    {
     "name": "stderr",
     "output_type": "stream",
     "text": [
      "Interpolating/filling sparse volume: 0.29 seconds.\n"
     ]
    },
    {
     "name": "stdout",
     "output_type": "stream",
     "text": [
      "aws s3 cp \"/home/yuncong/CSHL_volumes/MD594/MD594_10.0um_annotationAsScoreVolume_warp8_MD589_10.0um_annotationAsScoreVolume_10.0um/score_volumes/MD594_10.0um_annotationAsScoreVolume_warp8_MD589_10.0um_annotationAsScoreVolume_10.0um_VCA_L.bp\" \"s3://mousebrainatlas-data/CSHL_volumes/MD594/MD594_10.0um_annotationAsScoreVolume_warp8_MD589_10.0um_annotationAsScoreVolume_10.0um/score_volumes/MD594_10.0um_annotationAsScoreVolume_warp8_MD589_10.0um_annotationAsScoreVolume_10.0um_VCA_L.bp\"\n",
      "0\n",
      "aws s3 cp \"/home/yuncong/CSHL_volumes/MD594/MD594_10.0um_annotationAsScoreVolume_warp8_MD589_10.0um_annotationAsScoreVolume_10.0um/score_volumes/MD594_10.0um_annotationAsScoreVolume_warp8_MD589_10.0um_annotationAsScoreVolume_10.0um_VCA_L_bbox_wrt_fixedWholebrain.txt\" \"s3://mousebrainatlas-data/CSHL_volumes/MD594/MD594_10.0um_annotationAsScoreVolume_warp8_MD589_10.0um_annotationAsScoreVolume_10.0um/score_volumes/MD594_10.0um_annotationAsScoreVolume_warp8_MD589_10.0um_annotationAsScoreVolume_10.0um_VCA_L_bbox_wrt_fixedWholebrain.txt\"\n",
      "0\n",
      "VCA_R\n"
     ]
    },
    {
     "name": "stderr",
     "output_type": "stream",
     "text": [
      "Interpolating/filling sparse volume: 0.25 seconds.\n"
     ]
    },
    {
     "name": "stdout",
     "output_type": "stream",
     "text": [
      "aws s3 cp \"/home/yuncong/CSHL_volumes/MD594/MD594_10.0um_annotationAsScoreVolume_warp8_MD589_10.0um_annotationAsScoreVolume_10.0um/score_volumes/MD594_10.0um_annotationAsScoreVolume_warp8_MD589_10.0um_annotationAsScoreVolume_10.0um_VCA_R.bp\" \"s3://mousebrainatlas-data/CSHL_volumes/MD594/MD594_10.0um_annotationAsScoreVolume_warp8_MD589_10.0um_annotationAsScoreVolume_10.0um/score_volumes/MD594_10.0um_annotationAsScoreVolume_warp8_MD589_10.0um_annotationAsScoreVolume_10.0um_VCA_R.bp\"\n",
      "0\n",
      "aws s3 cp \"/home/yuncong/CSHL_volumes/MD594/MD594_10.0um_annotationAsScoreVolume_warp8_MD589_10.0um_annotationAsScoreVolume_10.0um/score_volumes/MD594_10.0um_annotationAsScoreVolume_warp8_MD589_10.0um_annotationAsScoreVolume_10.0um_VCA_R_bbox_wrt_fixedWholebrain.txt\" \"s3://mousebrainatlas-data/CSHL_volumes/MD594/MD594_10.0um_annotationAsScoreVolume_warp8_MD589_10.0um_annotationAsScoreVolume_10.0um/score_volumes/MD594_10.0um_annotationAsScoreVolume_warp8_MD589_10.0um_annotationAsScoreVolume_10.0um_VCA_R_bbox_wrt_fixedWholebrain.txt\"\n",
      "0\n",
      "VCP_L\n",
      "aws s3 cp \"/home/yuncong/CSHL_volumes/MD594/MD594_10.0um_annotationAsScoreVolume_warp8_MD589_10.0um_annotationAsScoreVolume_10.0um/score_volumes/MD594_10.0um_annotationAsScoreVolume_warp8_MD589_10.0um_annotationAsScoreVolume_10.0um_VCP_L.bp\" \"s3://mousebrainatlas-data/CSHL_volumes/MD594/MD594_10.0um_annotationAsScoreVolume_warp8_MD589_10.0um_annotationAsScoreVolume_10.0um/score_volumes/MD594_10.0um_annotationAsScoreVolume_warp8_MD589_10.0um_annotationAsScoreVolume_10.0um_VCP_L.bp\"\n"
     ]
    },
    {
     "name": "stderr",
     "output_type": "stream",
     "text": [
      "Interpolating/filling sparse volume: 0.17 seconds.\n"
     ]
    },
    {
     "name": "stdout",
     "output_type": "stream",
     "text": [
      "0\n",
      "aws s3 cp \"/home/yuncong/CSHL_volumes/MD594/MD594_10.0um_annotationAsScoreVolume_warp8_MD589_10.0um_annotationAsScoreVolume_10.0um/score_volumes/MD594_10.0um_annotationAsScoreVolume_warp8_MD589_10.0um_annotationAsScoreVolume_10.0um_VCP_L_bbox_wrt_fixedWholebrain.txt\" \"s3://mousebrainatlas-data/CSHL_volumes/MD594/MD594_10.0um_annotationAsScoreVolume_warp8_MD589_10.0um_annotationAsScoreVolume_10.0um/score_volumes/MD594_10.0um_annotationAsScoreVolume_warp8_MD589_10.0um_annotationAsScoreVolume_10.0um_VCP_L_bbox_wrt_fixedWholebrain.txt\"\n",
      "0\n",
      "VCP_R\n"
     ]
    },
    {
     "name": "stderr",
     "output_type": "stream",
     "text": [
      "Interpolating/filling sparse volume: 0.17 seconds.\n"
     ]
    },
    {
     "name": "stdout",
     "output_type": "stream",
     "text": [
      "aws s3 cp \"/home/yuncong/CSHL_volumes/MD594/MD594_10.0um_annotationAsScoreVolume_warp8_MD589_10.0um_annotationAsScoreVolume_10.0um/score_volumes/MD594_10.0um_annotationAsScoreVolume_warp8_MD589_10.0um_annotationAsScoreVolume_10.0um_VCP_R.bp\" \"s3://mousebrainatlas-data/CSHL_volumes/MD594/MD594_10.0um_annotationAsScoreVolume_warp8_MD589_10.0um_annotationAsScoreVolume_10.0um/score_volumes/MD594_10.0um_annotationAsScoreVolume_warp8_MD589_10.0um_annotationAsScoreVolume_10.0um_VCP_R.bp\"\n",
      "0\n",
      "aws s3 cp \"/home/yuncong/CSHL_volumes/MD594/MD594_10.0um_annotationAsScoreVolume_warp8_MD589_10.0um_annotationAsScoreVolume_10.0um/score_volumes/MD594_10.0um_annotationAsScoreVolume_warp8_MD589_10.0um_annotationAsScoreVolume_10.0um_VCP_R_bbox_wrt_fixedWholebrain.txt\" \"s3://mousebrainatlas-data/CSHL_volumes/MD594/MD594_10.0um_annotationAsScoreVolume_warp8_MD589_10.0um_annotationAsScoreVolume_10.0um/score_volumes/MD594_10.0um_annotationAsScoreVolume_warp8_MD589_10.0um_annotationAsScoreVolume_10.0um_VCP_R_bbox_wrt_fixedWholebrain.txt\"\n",
      "0\n",
      "DC_L\n"
     ]
    },
    {
     "name": "stderr",
     "output_type": "stream",
     "text": [
      "Interpolating/filling sparse volume: 0.24 seconds.\n"
     ]
    },
    {
     "name": "stdout",
     "output_type": "stream",
     "text": [
      "aws s3 cp \"/home/yuncong/CSHL_volumes/MD594/MD594_10.0um_annotationAsScoreVolume_warp8_MD589_10.0um_annotationAsScoreVolume_10.0um/score_volumes/MD594_10.0um_annotationAsScoreVolume_warp8_MD589_10.0um_annotationAsScoreVolume_10.0um_DC_L.bp\" \"s3://mousebrainatlas-data/CSHL_volumes/MD594/MD594_10.0um_annotationAsScoreVolume_warp8_MD589_10.0um_annotationAsScoreVolume_10.0um/score_volumes/MD594_10.0um_annotationAsScoreVolume_warp8_MD589_10.0um_annotationAsScoreVolume_10.0um_DC_L.bp\"\n",
      "0\n",
      "aws s3 cp \"/home/yuncong/CSHL_volumes/MD594/MD594_10.0um_annotationAsScoreVolume_warp8_MD589_10.0um_annotationAsScoreVolume_10.0um/score_volumes/MD594_10.0um_annotationAsScoreVolume_warp8_MD589_10.0um_annotationAsScoreVolume_10.0um_DC_L_bbox_wrt_fixedWholebrain.txt\" \"s3://mousebrainatlas-data/CSHL_volumes/MD594/MD594_10.0um_annotationAsScoreVolume_warp8_MD589_10.0um_annotationAsScoreVolume_10.0um/score_volumes/MD594_10.0um_annotationAsScoreVolume_warp8_MD589_10.0um_annotationAsScoreVolume_10.0um_DC_L_bbox_wrt_fixedWholebrain.txt\"\n",
      "0\n",
      "DC_R\n"
     ]
    },
    {
     "name": "stderr",
     "output_type": "stream",
     "text": [
      "Interpolating/filling sparse volume: 0.25 seconds.\n"
     ]
    },
    {
     "name": "stdout",
     "output_type": "stream",
     "text": [
      "aws s3 cp \"/home/yuncong/CSHL_volumes/MD594/MD594_10.0um_annotationAsScoreVolume_warp8_MD589_10.0um_annotationAsScoreVolume_10.0um/score_volumes/MD594_10.0um_annotationAsScoreVolume_warp8_MD589_10.0um_annotationAsScoreVolume_10.0um_DC_R.bp\" \"s3://mousebrainatlas-data/CSHL_volumes/MD594/MD594_10.0um_annotationAsScoreVolume_warp8_MD589_10.0um_annotationAsScoreVolume_10.0um/score_volumes/MD594_10.0um_annotationAsScoreVolume_warp8_MD589_10.0um_annotationAsScoreVolume_10.0um_DC_R.bp\"\n",
      "0\n",
      "aws s3 cp \"/home/yuncong/CSHL_volumes/MD594/MD594_10.0um_annotationAsScoreVolume_warp8_MD589_10.0um_annotationAsScoreVolume_10.0um/score_volumes/MD594_10.0um_annotationAsScoreVolume_warp8_MD589_10.0um_annotationAsScoreVolume_10.0um_DC_R_bbox_wrt_fixedWholebrain.txt\" \"s3://mousebrainatlas-data/CSHL_volumes/MD594/MD594_10.0um_annotationAsScoreVolume_warp8_MD589_10.0um_annotationAsScoreVolume_10.0um/score_volumes/MD594_10.0um_annotationAsScoreVolume_warp8_MD589_10.0um_annotationAsScoreVolume_10.0um_DC_R_bbox_wrt_fixedWholebrain.txt\"\n",
      "0\n",
      "AP\n",
      "aws s3 cp \"/home/yuncong/CSHL_volumes/MD594/MD594_10.0um_annotationAsScoreVolume_warp8_MD589_10.0um_annotationAsScoreVolume_10.0um/score_volumes/MD594_10.0um_annotationAsScoreVolume_warp8_MD589_10.0um_annotationAsScoreVolume_10.0um_AP.bp\" \"s3://mousebrainatlas-data/CSHL_volumes/MD594/MD594_10.0um_annotationAsScoreVolume_warp8_MD589_10.0um_annotationAsScoreVolume_10.0um/score_volumes/MD594_10.0um_annotationAsScoreVolume_warp8_MD589_10.0um_annotationAsScoreVolume_10.0um_AP.bp\"\n"
     ]
    },
    {
     "name": "stderr",
     "output_type": "stream",
     "text": [
      "Interpolating/filling sparse volume: 0.05 seconds.\n"
     ]
    },
    {
     "name": "stdout",
     "output_type": "stream",
     "text": [
      "0\n",
      "aws s3 cp \"/home/yuncong/CSHL_volumes/MD594/MD594_10.0um_annotationAsScoreVolume_warp8_MD589_10.0um_annotationAsScoreVolume_10.0um/score_volumes/MD594_10.0um_annotationAsScoreVolume_warp8_MD589_10.0um_annotationAsScoreVolume_10.0um_AP_bbox_wrt_fixedWholebrain.txt\" \"s3://mousebrainatlas-data/CSHL_volumes/MD594/MD594_10.0um_annotationAsScoreVolume_warp8_MD589_10.0um_annotationAsScoreVolume_10.0um/score_volumes/MD594_10.0um_annotationAsScoreVolume_warp8_MD589_10.0um_annotationAsScoreVolume_10.0um_AP_bbox_wrt_fixedWholebrain.txt\"\n",
      "0\n",
      "12N\n"
     ]
    },
    {
     "name": "stderr",
     "output_type": "stream",
     "text": [
      "Interpolating/filling sparse volume: 0.21 seconds.\n"
     ]
    },
    {
     "name": "stdout",
     "output_type": "stream",
     "text": [
      "aws s3 cp \"/home/yuncong/CSHL_volumes/MD594/MD594_10.0um_annotationAsScoreVolume_warp8_MD589_10.0um_annotationAsScoreVolume_10.0um/score_volumes/MD594_10.0um_annotationAsScoreVolume_warp8_MD589_10.0um_annotationAsScoreVolume_10.0um_12N.bp\" \"s3://mousebrainatlas-data/CSHL_volumes/MD594/MD594_10.0um_annotationAsScoreVolume_warp8_MD589_10.0um_annotationAsScoreVolume_10.0um/score_volumes/MD594_10.0um_annotationAsScoreVolume_warp8_MD589_10.0um_annotationAsScoreVolume_10.0um_12N.bp\"\n",
      "0\n",
      "aws s3 cp \"/home/yuncong/CSHL_volumes/MD594/MD594_10.0um_annotationAsScoreVolume_warp8_MD589_10.0um_annotationAsScoreVolume_10.0um/score_volumes/MD594_10.0um_annotationAsScoreVolume_warp8_MD589_10.0um_annotationAsScoreVolume_10.0um_12N_bbox_wrt_fixedWholebrain.txt\" \"s3://mousebrainatlas-data/CSHL_volumes/MD594/MD594_10.0um_annotationAsScoreVolume_warp8_MD589_10.0um_annotationAsScoreVolume_10.0um/score_volumes/MD594_10.0um_annotationAsScoreVolume_warp8_MD589_10.0um_annotationAsScoreVolume_10.0um_12N_bbox_wrt_fixedWholebrain.txt\"\n",
      "0\n",
      "RtTg\n"
     ]
    },
    {
     "name": "stderr",
     "output_type": "stream",
     "text": [
      "Interpolating/filling sparse volume: 0.66 seconds.\n"
     ]
    },
    {
     "name": "stdout",
     "output_type": "stream",
     "text": [
      "aws s3 cp \"/home/yuncong/CSHL_volumes/MD594/MD594_10.0um_annotationAsScoreVolume_warp8_MD589_10.0um_annotationAsScoreVolume_10.0um/score_volumes/MD594_10.0um_annotationAsScoreVolume_warp8_MD589_10.0um_annotationAsScoreVolume_10.0um_RtTg.bp\" \"s3://mousebrainatlas-data/CSHL_volumes/MD594/MD594_10.0um_annotationAsScoreVolume_warp8_MD589_10.0um_annotationAsScoreVolume_10.0um/score_volumes/MD594_10.0um_annotationAsScoreVolume_warp8_MD589_10.0um_annotationAsScoreVolume_10.0um_RtTg.bp\"\n",
      "0\n",
      "aws s3 cp \"/home/yuncong/CSHL_volumes/MD594/MD594_10.0um_annotationAsScoreVolume_warp8_MD589_10.0um_annotationAsScoreVolume_10.0um/score_volumes/MD594_10.0um_annotationAsScoreVolume_warp8_MD589_10.0um_annotationAsScoreVolume_10.0um_RtTg_bbox_wrt_fixedWholebrain.txt\" \"s3://mousebrainatlas-data/CSHL_volumes/MD594/MD594_10.0um_annotationAsScoreVolume_warp8_MD589_10.0um_annotationAsScoreVolume_10.0um/score_volumes/MD594_10.0um_annotationAsScoreVolume_warp8_MD589_10.0um_annotationAsScoreVolume_10.0um_RtTg_bbox_wrt_fixedWholebrain.txt\"\n",
      "0\n",
      "SC\n"
     ]
    },
    {
     "name": "stderr",
     "output_type": "stream",
     "text": [
      "Interpolating/filling sparse volume: 4.13 seconds.\n"
     ]
    },
    {
     "name": "stdout",
     "output_type": "stream",
     "text": [
      "aws s3 cp \"/home/yuncong/CSHL_volumes/MD594/MD594_10.0um_annotationAsScoreVolume_warp8_MD589_10.0um_annotationAsScoreVolume_10.0um/score_volumes/MD594_10.0um_annotationAsScoreVolume_warp8_MD589_10.0um_annotationAsScoreVolume_10.0um_SC.bp\" \"s3://mousebrainatlas-data/CSHL_volumes/MD594/MD594_10.0um_annotationAsScoreVolume_warp8_MD589_10.0um_annotationAsScoreVolume_10.0um/score_volumes/MD594_10.0um_annotationAsScoreVolume_warp8_MD589_10.0um_annotationAsScoreVolume_10.0um_SC.bp\"\n",
      "0\n",
      "aws s3 cp \"/home/yuncong/CSHL_volumes/MD594/MD594_10.0um_annotationAsScoreVolume_warp8_MD589_10.0um_annotationAsScoreVolume_10.0um/score_volumes/MD594_10.0um_annotationAsScoreVolume_warp8_MD589_10.0um_annotationAsScoreVolume_10.0um_SC_bbox_wrt_fixedWholebrain.txt\" \"s3://mousebrainatlas-data/CSHL_volumes/MD594/MD594_10.0um_annotationAsScoreVolume_warp8_MD589_10.0um_annotationAsScoreVolume_10.0um/score_volumes/MD594_10.0um_annotationAsScoreVolume_warp8_MD589_10.0um_annotationAsScoreVolume_10.0um_SC_bbox_wrt_fixedWholebrain.txt\"\n",
      "0\n",
      "IC\n"
     ]
    },
    {
     "name": "stderr",
     "output_type": "stream",
     "text": [
      "Interpolating/filling sparse volume: 1.78 seconds.\n"
     ]
    },
    {
     "name": "stdout",
     "output_type": "stream",
     "text": [
      "aws s3 cp \"/home/yuncong/CSHL_volumes/MD594/MD594_10.0um_annotationAsScoreVolume_warp8_MD589_10.0um_annotationAsScoreVolume_10.0um/score_volumes/MD594_10.0um_annotationAsScoreVolume_warp8_MD589_10.0um_annotationAsScoreVolume_10.0um_IC.bp\" \"s3://mousebrainatlas-data/CSHL_volumes/MD594/MD594_10.0um_annotationAsScoreVolume_warp8_MD589_10.0um_annotationAsScoreVolume_10.0um/score_volumes/MD594_10.0um_annotationAsScoreVolume_warp8_MD589_10.0um_annotationAsScoreVolume_10.0um_IC.bp\"\n",
      "0\n",
      "aws s3 cp \"/home/yuncong/CSHL_volumes/MD594/MD594_10.0um_annotationAsScoreVolume_warp8_MD589_10.0um_annotationAsScoreVolume_10.0um/score_volumes/MD594_10.0um_annotationAsScoreVolume_warp8_MD589_10.0um_annotationAsScoreVolume_10.0um_IC_bbox_wrt_fixedWholebrain.txt\" \"s3://mousebrainatlas-data/CSHL_volumes/MD594/MD594_10.0um_annotationAsScoreVolume_warp8_MD589_10.0um_annotationAsScoreVolume_10.0um/score_volumes/MD594_10.0um_annotationAsScoreVolume_warp8_MD589_10.0um_annotationAsScoreVolume_10.0um_IC_bbox_wrt_fixedWholebrain.txt\"\n",
      "0\n"
     ]
    }
   ],
   "source": [
    "for name_s in all_known_structures_sided:\n",
    "    \n",
    "    print name_s\n",
    "    \n",
    "    try:\n",
    "    \n",
    "        volume, origin_wrt_wholebrain = \\\n",
    "            DataManager.load_original_volume_v2(stack_spec=stack_m_spec, \n",
    "                                                   structure=name_s,\n",
    "                                                  resolution='10.0um',\n",
    "                                                  return_origin_instead_of_bbox=True)\n",
    "\n",
    "    except:\n",
    "        sys.stderr.write(\"Cannot load moving brain for %s\\n\" % name_s)\n",
    "        continue\n",
    "            \n",
    "    vol, bbox_wrt_fixedWholebrain = \\\n",
    "    transform_volume_v3(vol=volume.astype(np.int), \n",
    "                        origin=origin_wrt_wholebrain,\n",
    "                      tf_params=T_align_midplane, \n",
    "                      centroid_m=midplane_centroid_moving_rel2moving + midsagittal_aligner_parameters['volume_moving_origin_wrt_wholebrain'],\n",
    "                      centroid_f=midplane_centroid_fixed_rel2fixed + midsagittal_aligner_parameters['volume_fixed_origin_wrt_wholebrain'],\n",
    "                             return_origin_instead_of_bbox=False)\n",
    "    \n",
    "    vol_fp = DataManager.get_transformed_volume_filepath_v2(midsagittal_alignment_spec, structure=name_s)\n",
    "    create_parent_dir_if_not_exists(vol_fp)\n",
    "    bp.pack_ndarray_file(vol, vol_fp)\n",
    "    upload_to_s3(vol_fp)\n",
    "    \n",
    "    bbox_fp = \\\n",
    "    DataManager.get_transformed_volume_bbox_filepath_v2(midsagittal_alignment_spec, \n",
    "                                                        structure=name_s, \n",
    "                                                        wrt='fixedWholebrain')\n",
    "    create_parent_dir_if_not_exists(bbox_fp)\n",
    "    np.savetxt(bbox_fp, bbox_wrt_fixedWholebrain)\n",
    "    upload_to_s3(bbox_fp)"
   ]
  },
  {
   "cell_type": "markdown",
   "metadata": {
    "collapsed": true
   },
   "source": [
    "# Affine registration, under the constaint that mid-sagittal plane is aligned."
   ]
  },
  {
   "cell_type": "code",
   "execution_count": 19,
   "metadata": {
    "collapsed": true
   },
   "outputs": [],
   "source": [
    "# warp_setting = 9"
   ]
  },
  {
   "cell_type": "code",
   "execution_count": 9,
   "metadata": {
    "collapsed": true
   },
   "outputs": [],
   "source": [
    "affine_alignment_spec = dict(stack_m=stack_m_spec, \n",
    "                            stack_f=stack_f_spec,\n",
    "                            warp_setting=9,\n",
    "                            initial_alignment_spec=midsagittal_alignment_spec)"
   ]
  },
  {
   "cell_type": "code",
   "execution_count": 11,
   "metadata": {
    "scrolled": true
   },
   "outputs": [
    {
     "name": "stdout",
     "output_type": "stream",
     "text": [
      "upstream_warp_id                                                                  8\n",
      "transform_type                                                                rigid\n",
      "terminate_thresh                                                              1e-06\n",
      "grad_computation_sample_number                                               100000\n",
      "grid_search_sample_number                                                     10000\n",
      "std_tx_um                                                                      2000\n",
      "std_ty_um                                                                      2000\n",
      "std_tz_um                                                                      2000\n",
      "std_theta_xy_degree                                                              30\n",
      "surround_weight                                                                 NaN\n",
      "regularization_weight                                                           NaN\n",
      "comment                           global registration given mid-sagittal planes ...\n",
      "max_iter_num                                                                    NaN\n",
      "Name: 9, dtype: object\n",
      "surround nan False\n",
      "{'warp_setting': 8, 'stack_f': {'prep_id': None, 'name': 'MD589', 'vol_type': 'annotationAsScore', 'detector_id': None, 'resolution': '10.0um', 'structure': None}, 'stack_m': {'prep_id': None, 'name': 'MD594', 'vol_type': 'annotationAsScore', 'detector_id': None, 'resolution': '10.0um', 'structure': None}}\n"
     ]
    },
    {
     "name": "stderr",
     "output_type": "stream",
     "text": [
      "Prior structure/index map not found. Generating a new one.\n",
      "Loaded moving volumes: ['10N_L', '10N_R', '12N', '3N_L', '3N_R', '4N_L', '4N_R', '5N_L', '5N_R', '6N_L', '6N_R', '7N_L', '7N_R', '7n_L', '7n_R', 'AP', 'Amb_L', 'Amb_R', 'DC_L', 'DC_R', 'IC', 'LC_L', 'LC_R', 'LRt_L', 'LRt_R', 'PBG_L', 'PBG_R', 'Pn_L', 'Pn_R', 'RMC_L', 'RMC_R', 'SC', 'SNC_L', 'SNC_R', 'SNR_L', 'SNR_R', 'Sp5C_L', 'Sp5C_R', 'Tz_L', 'Tz_R', 'VCA_L', 'VCA_R', 'VCP_L', 'VCP_R', 'VLL_L', 'VLL_R'].\n",
      "Prior structure/index map not found. Generating a new one.\n"
     ]
    },
    {
     "name": "stdout",
     "output_type": "stream",
     "text": [
      "voxel size for moving = 10.00 um\n",
      "voxel size for fixed = 10.00 um\n"
     ]
    },
    {
     "name": "stderr",
     "output_type": "stream",
     "text": [
      "Loaded fixed volumes: ['10N_L', '10N_R', '12N', '3N_L', '3N_R', '4N_L', '4N_R', '5N_L', '5N_R', '6N_L', '6N_R', '7N_L', '7N_R', '7n_L', '7n_R', 'AP', 'Amb_L', 'Amb_R', 'DC_L', 'DC_R', 'IC', 'LC_L', 'LC_R', 'LRt_L', 'LRt_R', 'PBG_L', 'PBG_R', 'Pn_L', 'Pn_R', 'RMC_L', 'RMC_R', 'SC', 'SNC_L', 'SNC_R', 'SNR_L', 'SNR_R', 'Sp5C_L', 'Sp5C_R', 'Tz_L', 'Tz_R', 'VCA_L', 'VCA_R', 'VCP_L', 'VCP_R', 'VLL_L', 'VLL_R'].\n"
     ]
    }
   ],
   "source": [
    "affine_aligner_parameters = generate_aligner_parameters(alignment_spec=affine_alignment_spec,\n",
    "structures_m=['5N_L', '5N_R', '6N_L', '6N_R', '7N_L', '7N_R', '7n_L', '7n_R', 'Amb_L', 'Amb_R', 'LC_L', 'LC_R', 'LRt_L', 'LRt_R', 'Pn_L', 'Pn_R', 'Tz_L', 'Tz_R', 'VLL_L', 'VLL_R', 'RMC_L', 'RMC_R', 'SNC_L', 'SNC_R', 'SNR_L', 'SNR_R', '3N_L', '3N_R', '4N_L', '4N_R', 'Sp5C_L', 'Sp5C_R', 'PBG_L', 'PBG_R', '10N_L', '10N_R', 'VCA_L', 'VCA_R', 'VCP_L', 'VCP_R', 'DC_L', 'DC_R', 'AP', '12N', 'SC', 'IC'],\n",
    "structures_f=['5N_L', '5N_R', '6N_L', '6N_R', '7N_L', '7N_R', '7n_L', '7n_R', 'Amb_L', 'Amb_R', 'LC_L', 'LC_R', 'LRt_L', 'LRt_R', 'Pn_L', 'Pn_R', 'Tz_L', 'Tz_R', 'VLL_L', 'VLL_R', 'RMC_L', 'RMC_R', 'SNC_L', 'SNC_R', 'SNR_L', 'SNR_R', '3N_L', '3N_R', '4N_L', '4N_R', 'Sp5C_L', 'Sp5C_R', 'PBG_L', 'PBG_R', '10N_L', '10N_R', 'VCA_L', 'VCA_R', 'VCP_L', 'VCP_R', 'DC_L', 'DC_R', 'AP', '12N', 'SC', 'IC'],\n",
    ")"
   ]
  },
  {
   "cell_type": "code",
   "execution_count": 22,
   "metadata": {
    "collapsed": true
   },
   "outputs": [],
   "source": [
    "volume_fixed = affine_aligner_parameters['volume_fixed']\n",
    "volume_moving = affine_aligner_parameters['volume_moving']"
   ]
  },
  {
   "cell_type": "code",
   "execution_count": 23,
   "metadata": {},
   "outputs": [
    {
     "name": "stderr",
     "output_type": "stream",
     "text": [
      "Label weights not set, default to 1 for all structures.\n",
      "Regularization weights not set, default to 0.\n"
     ]
    }
   ],
   "source": [
    "aligner = Aligner4(volume_fixed, volume_moving, labelIndexMap_m2f=affine_aligner_parameters['label_mapping_m2f'])"
   ]
  },
  {
   "cell_type": "code",
   "execution_count": 24,
   "metadata": {},
   "outputs": [
    {
     "name": "stderr",
     "output_type": "stream",
     "text": [
      "centroid_m: [375.5 239.  270. ], centroid_f: [310.  255.5 276.5]\n"
     ]
    }
   ],
   "source": [
    "aligner.set_centroid(centroid_m='volume_centroid', centroid_f='volume_centroid')\n",
    "# aligner.set_centroid(centroid_m='structure_centroid', centroid_f='centroid_m', indices_m=[structure_to_label_moving['IC']])"
   ]
  },
  {
   "cell_type": "code",
   "execution_count": 25,
   "metadata": {
    "collapsed": true,
    "scrolled": true
   },
   "outputs": [],
   "source": [
    "# Because annotated brain volumes are similar, grid search is not necessary. \n",
    "\n",
    "# grid_search_T, grid_search_score = aligner.do_grid_search(grid_search_iteration_number=1000, \n",
    "#                        grid_search_sample_number=10,\n",
    "#                       std_tx=std_tx, std_ty=std_ty, std_tz=0, std_theta_xy=0,\n",
    "#                        grid_search_eta=3.)"
   ]
  },
  {
   "cell_type": "code",
   "execution_count": 26,
   "metadata": {
    "scrolled": true
   },
   "outputs": [
    {
     "name": "stdout",
     "output_type": "stream",
     "text": [
      "Computing gradient for 1\n",
      "Computing gradient for 2\n",
      "Computing gradient for 3\n",
      "Computing gradient for 4\n",
      "Computing gradient for 5\n",
      "Computing gradient for 6\n",
      "Computing gradient for 7\n",
      "Computing gradient for 8\n",
      "Computing gradient for 9\n",
      "Computing gradient for 10\n",
      "Computing gradient for 11\n",
      "Computing gradient for 12\n",
      "Computing gradient for 13\n",
      "Computing gradient for 14\n",
      "Computing gradient for 15\n",
      "Computing gradient for 16\n",
      "Computing gradient for 17\n",
      "Computing gradient for 18\n",
      "Computing gradient for 19\n",
      "Computing gradient for 20\n",
      "Computing gradient for 21\n",
      "Computing gradient for 22\n",
      "Computing gradient for 23\n",
      "Computing gradient for 24\n",
      "Computing gradient for 25\n",
      "Computing gradient for 26\n",
      "Computing gradient for 27\n",
      "Computing gradient for 28\n",
      "Computing gradient for 29\n",
      "Computing gradient for 30\n",
      "Computing gradient for 31\n",
      "Computing gradient for 32\n",
      "Computing gradient for 33\n",
      "Computing gradient for 34\n",
      "Computing gradient for 35\n",
      "Computing gradient for 36\n",
      "Computing gradient for 37\n",
      "Computing gradient for 38\n",
      "Computing gradient for 39\n",
      "Computing gradient for 40\n",
      "Computing gradient for 41\n",
      "Computing gradient for 42\n",
      "Computing gradient for 43\n",
      "Computing gradient for 44\n",
      "Computing gradient for 45\n",
      "Computing gradient for 46\n"
     ]
    },
    {
     "name": "stderr",
     "output_type": "stream",
     "text": [
      "indices_f: set([1, 2, 3, 4, 5, 6, 7, 8, 9, 10, 11, 12, 13, 14, 15, 16, 17, 18, 19, 20, 21, 22, 23, 24, 25, 26, 27, 28, 29, 30, 31, 32, 33, 34, 35, 36, 37, 38, 39, 40, 41, 42, 43, 44, 45, 46])\n"
     ]
    }
   ],
   "source": [
    "gradients_f = compute_gradient(volume_fixed, smooth_first=True)\n",
    "aligner.load_gradient(gradients=gradients_f)"
   ]
  },
  {
   "cell_type": "code",
   "execution_count": 27,
   "metadata": {
    "collapsed": true
   },
   "outputs": [],
   "source": [
    "# gradient_filepath_map_f = {ind_f: DataManager.get_volume_gradient_filepath_template(\\\n",
    "#                             stack=stack_fixed, structure=label_to_structure_fixed[ind_f],\n",
    "#                             downscale=32, volume_type='annotationAsScore')\n",
    "#                            for ind_m, ind_f in label_mapping_m2f.iteritems()}"
   ]
  },
  {
   "cell_type": "code",
   "execution_count": 28,
   "metadata": {
    "collapsed": true,
    "scrolled": true
   },
   "outputs": [],
   "source": [
    "# aligner.load_gradient(gradient_filepath_map_f=gradient_filepath_map_f)"
   ]
  },
  {
   "cell_type": "code",
   "execution_count": 29,
   "metadata": {
    "collapsed": true
   },
   "outputs": [],
   "source": [
    "aligner.set_label_weights(label_weights=affine_aligner_parameters['label_weights_m'])"
   ]
  },
  {
   "cell_type": "code",
   "execution_count": 30,
   "metadata": {
    "collapsed": true
   },
   "outputs": [],
   "source": [
    "# T = grid_search_T"
   ]
  },
  {
   "cell_type": "code",
   "execution_count": 31,
   "metadata": {
    "scrolled": true
   },
   "outputs": [
    {
     "name": "stderr",
     "output_type": "stream",
     "text": [
      "\n",
      "iteration 0\n",
      "Error computing score/gradient for 9: Image gradient at all valid voxel is zero.\n",
      "Error computing score/gradient for 10: Image gradient at all valid voxel is zero.\n",
      "Error computing score/gradient for 22: Image gradient at all valid voxel is zero.\n",
      "Error computing score/gradient for 24: Image gradient at all valid voxel is zero.\n",
      "Error computing score/gradient for 27: Image gradient at all valid voxel is zero.\n",
      "Error computing score/gradient for 28: Image gradient at all valid voxel is zero.\n",
      "Error computing score/gradient for 29: Image gradient at all valid voxel is zero.\n",
      "Error computing score/gradient for 30: Image gradient at all valid voxel is zero.\n",
      "Error computing score/gradient for 33: Image gradient at all valid voxel is zero.\n",
      "Error computing score/gradient for 34: Image gradient at all valid voxel is zero.\n",
      "Error computing score/gradient for 35: Image gradient at all valid voxel is zero.\n",
      "Error computing score/gradient for 36: Image gradient at all valid voxel is zero.\n",
      "Error computing score/gradient for 43: Image gradient at all valid voxel is zero.\n",
      "Norm of gradient (translation) = 1.732051\n",
      "Norm of gradient (rotation) = 1.732051\n",
      "around x=0.00; around y=-0.00; around z=-5.73\n",
      "step: 3.10 seconds\n",
      "current score: -8.515351\n",
      "new_T: [10.48292514  9.48375819  0.        ]\n",
      "det: 1.00\n",
      "\n",
      "iteration 1\n",
      "Error computing score/gradient for 9: Image gradient at all valid voxel is zero.\n",
      "Error computing score/gradient for 10: Image gradient at all valid voxel is zero.\n",
      "Error computing score/gradient for 13: Image gradient at all valid voxel is zero.\n",
      "Error computing score/gradient for 14: Image gradient at all valid voxel is zero.\n",
      "Error computing score/gradient for 21: Image gradient at all valid voxel is zero.\n",
      "Error computing score/gradient for 22: Image gradient at all valid voxel is zero.\n",
      "Error computing score/gradient for 23: Image gradient at all valid voxel is zero.\n",
      "Error computing score/gradient for 24: Image gradient at all valid voxel is zero.\n",
      "Error computing score/gradient for 27: Image gradient at all valid voxel is zero.\n",
      "Error computing score/gradient for 28: Image gradient at all valid voxel is zero.\n",
      "Error computing score/gradient for 29: Image gradient at all valid voxel is zero.\n",
      "Error computing score/gradient for 30: Image gradient at all valid voxel is zero.\n",
      "Error computing score/gradient for 33: Image gradient at all valid voxel is zero.\n",
      "Error computing score/gradient for 34: Image gradient at all valid voxel is zero.\n",
      "Error computing score/gradient for 35: Image gradient at all valid voxel is zero.\n",
      "Error computing score/gradient for 36: Image gradient at all valid voxel is zero.\n",
      "Error computing score/gradient for 43: Image gradient at all valid voxel is zero.\n",
      "Error computing score/gradient for 46: Image gradient at all valid voxel is zero.\n",
      "Norm of gradient (translation) = 1.410869\n",
      "Norm of gradient (rotation) = 1.055987\n",
      "around x=0.00; around y=-0.00; around z=-5.98\n",
      "step: 3.21 seconds\n",
      "current score: -6.385600\n",
      "new_T: [11.30458506 -0.51085429  0.        ]\n",
      "det: 1.00\n",
      "\n",
      "iteration 2\n",
      "Error computing score/gradient for 9: Image gradient at all valid voxel is zero.\n",
      "Error computing score/gradient for 10: Image gradient at all valid voxel is zero.\n",
      "Error computing score/gradient for 13: Image gradient at all valid voxel is zero.\n",
      "Error computing score/gradient for 14: Image gradient at all valid voxel is zero.\n",
      "Error computing score/gradient for 21: Image gradient at all valid voxel is zero.\n",
      "Error computing score/gradient for 22: Image gradient at all valid voxel is zero.\n",
      "Error computing score/gradient for 23: Image gradient at all valid voxel is zero.\n",
      "Error computing score/gradient for 24: Image gradient at all valid voxel is zero.\n",
      "Error computing score/gradient for 27: Image gradient at all valid voxel is zero.\n",
      "Error computing score/gradient for 28: Image gradient at all valid voxel is zero.\n",
      "Error computing score/gradient for 29: Image gradient at all valid voxel is zero.\n",
      "Error computing score/gradient for 30: Image gradient at all valid voxel is zero.\n",
      "Error computing score/gradient for 33: Image gradient at all valid voxel is zero.\n",
      "Error computing score/gradient for 34: Image gradient at all valid voxel is zero.\n",
      "Error computing score/gradient for 35: Image gradient at all valid voxel is zero.\n",
      "Error computing score/gradient for 36: Image gradient at all valid voxel is zero.\n",
      "Error computing score/gradient for 43: Image gradient at all valid voxel is zero.\n",
      "Error computing score/gradient for 44: Image gradient at all valid voxel is zero.\n",
      "Norm of gradient (translation) = 0.727775\n",
      "Norm of gradient (rotation) = 0.790824\n",
      "around x=0.00; around y=-0.00; around z=-3.40\n",
      "step: 3.23 seconds\n",
      "current score: -8.422887\n",
      "new_T: [10.35632528 -3.89321674  0.        ]\n",
      "det: 1.00\n",
      "\n",
      "iteration 3\n",
      "Error computing score/gradient for 9: Image gradient at all valid voxel is zero.\n",
      "Error computing score/gradient for 10: Image gradient at all valid voxel is zero.\n",
      "Error computing score/gradient for 13: Image gradient at all valid voxel is zero.\n",
      "Error computing score/gradient for 14: Image gradient at all valid voxel is zero.\n",
      "Error computing score/gradient for 21: Image gradient at all valid voxel is zero.\n",
      "Error computing score/gradient for 22: Image gradient at all valid voxel is zero.\n",
      "Error computing score/gradient for 23: Image gradient at all valid voxel is zero.\n",
      "Error computing score/gradient for 24: Image gradient at all valid voxel is zero.\n",
      "Error computing score/gradient for 27: Image gradient at all valid voxel is zero.\n",
      "Error computing score/gradient for 28: Image gradient at all valid voxel is zero.\n",
      "Error computing score/gradient for 29: Image gradient at all valid voxel is zero.\n",
      "Error computing score/gradient for 30: Image gradient at all valid voxel is zero.\n",
      "Error computing score/gradient for 33: Image gradient at all valid voxel is zero.\n",
      "Error computing score/gradient for 34: Image gradient at all valid voxel is zero.\n",
      "Error computing score/gradient for 35: Image gradient at all valid voxel is zero.\n",
      "Error computing score/gradient for 36: Image gradient at all valid voxel is zero.\n",
      "Error computing score/gradient for 43: Image gradient at all valid voxel is zero.\n",
      "Error computing score/gradient for 44: Image gradient at all valid voxel is zero.\n",
      "Norm of gradient (translation) = 0.433848\n",
      "Norm of gradient (rotation) = 0.662592\n",
      "around x=0.00; around y=-0.00; around z=-1.08\n",
      "step: 3.26 seconds\n",
      "current score: -8.345263\n",
      "new_T: [11.66362518 -0.94910825  0.        ]\n",
      "det: 1.00\n",
      "\n",
      "iteration 4\n",
      "Error computing score/gradient for 9: Image gradient at all valid voxel is zero.\n",
      "Error computing score/gradient for 10: Image gradient at all valid voxel is zero.\n",
      "Error computing score/gradient for 13: Image gradient at all valid voxel is zero.\n",
      "Error computing score/gradient for 14: Image gradient at all valid voxel is zero.\n",
      "Error computing score/gradient for 21: Image gradient at all valid voxel is zero.\n",
      "Error computing score/gradient for 22: Image gradient at all valid voxel is zero.\n",
      "Error computing score/gradient for 23: Image gradient at all valid voxel is zero.\n",
      "Error computing score/gradient for 24: Image gradient at all valid voxel is zero.\n",
      "Error computing score/gradient for 27: Image gradient at all valid voxel is zero.\n",
      "Error computing score/gradient for 28: Image gradient at all valid voxel is zero.\n",
      "Error computing score/gradient for 29: Image gradient at all valid voxel is zero.\n",
      "Error computing score/gradient for 30: Image gradient at all valid voxel is zero.\n",
      "Error computing score/gradient for 33: Image gradient at all valid voxel is zero.\n",
      "Error computing score/gradient for 35: Image gradient at all valid voxel is zero.\n",
      "Error computing score/gradient for 36: Image gradient at all valid voxel is zero.\n",
      "Error computing score/gradient for 43: Image gradient at all valid voxel is zero.\n",
      "Norm of gradient (translation) = 0.594411\n",
      "Norm of gradient (rotation) = 0.634871\n",
      "around x=0.00; around y=-0.00; around z=0.25\n",
      "step: 3.26 seconds\n",
      "current score: -8.324019\n",
      "new_T: [14.73323509  3.13305853  0.        ]\n",
      "det: 1.00\n",
      "\n",
      "iteration 5\n",
      "Error computing score/gradient for 9: Image gradient at all valid voxel is zero.\n",
      "Error computing score/gradient for 10: Image gradient at all valid voxel is zero.\n",
      "Error computing score/gradient for 13: Image gradient at all valid voxel is zero.\n"
     ]
    },
    {
     "name": "stderr",
     "output_type": "stream",
     "text": [
      "Error computing score/gradient for 22: Image gradient at all valid voxel is zero.\n",
      "Error computing score/gradient for 23: Image gradient at all valid voxel is zero.\n",
      "Error computing score/gradient for 24: Image gradient at all valid voxel is zero.\n",
      "Error computing score/gradient for 27: Image gradient at all valid voxel is zero.\n",
      "Error computing score/gradient for 28: Image gradient at all valid voxel is zero.\n",
      "Error computing score/gradient for 29: Image gradient at all valid voxel is zero.\n",
      "Error computing score/gradient for 30: Image gradient at all valid voxel is zero.\n",
      "Error computing score/gradient for 35: Image gradient at all valid voxel is zero.\n",
      "Error computing score/gradient for 36: Image gradient at all valid voxel is zero.\n",
      "Error computing score/gradient for 43: Image gradient at all valid voxel is zero.\n",
      "Norm of gradient (translation) = 0.520354\n",
      "Norm of gradient (rotation) = 0.497001\n",
      "around x=0.00; around y=-0.00; around z=1.31\n",
      "step: 3.30 seconds\n",
      "current score: -8.317852\n",
      "new_T: [17.33167797  2.87723376  0.        ]\n",
      "det: 1.00\n",
      "\n",
      "iteration 6\n",
      "Error computing score/gradient for 9: Image gradient at all valid voxel is zero.\n",
      "Error computing score/gradient for 10: Image gradient at all valid voxel is zero.\n",
      "Error computing score/gradient for 22: Image gradient at all valid voxel is zero.\n",
      "Error computing score/gradient for 24: Image gradient at all valid voxel is zero.\n",
      "Error computing score/gradient for 27: Image gradient at all valid voxel is zero.\n",
      "Error computing score/gradient for 28: Image gradient at all valid voxel is zero.\n",
      "Error computing score/gradient for 29: Image gradient at all valid voxel is zero.\n",
      "Error computing score/gradient for 30: Image gradient at all valid voxel is zero.\n",
      "Error computing score/gradient for 35: Image gradient at all valid voxel is zero.\n",
      "Error computing score/gradient for 36: Image gradient at all valid voxel is zero.\n",
      "Error computing score/gradient for 43: Image gradient at all valid voxel is zero.\n",
      "Norm of gradient (translation) = 0.680943\n",
      "Norm of gradient (rotation) = 0.818768\n",
      "around x=0.00; around y=-0.00; around z=4.18\n",
      "step: 3.29 seconds\n",
      "current score: -8.302773\n",
      "new_T: [18.47036335  8.81214937  0.        ]\n",
      "det: 1.00\n",
      "\n",
      "iteration 7\n",
      "Error computing score/gradient for 9: Image gradient at all valid voxel is zero.\n",
      "Error computing score/gradient for 24: Image gradient at all valid voxel is zero.\n",
      "Error computing score/gradient for 27: Image gradient at all valid voxel is zero.\n",
      "Error computing score/gradient for 28: Image gradient at all valid voxel is zero.\n",
      "Error computing score/gradient for 29: Image gradient at all valid voxel is zero.\n",
      "Error computing score/gradient for 30: Image gradient at all valid voxel is zero.\n",
      "Norm of gradient (translation) = 0.768466\n",
      "Norm of gradient (rotation) = 0.763267\n",
      "around x=0.00; around y=-0.00; around z=5.69\n",
      "step: 3.22 seconds\n",
      "current score: -8.197369\n",
      "new_T: [22.12825459 13.80360092  0.        ]\n",
      "det: 1.00\n",
      "\n",
      "iteration 8\n",
      "Error computing score/gradient for 9: Image gradient at all valid voxel is zero.\n",
      "Error computing score/gradient for 24: Image gradient at all valid voxel is zero.\n",
      "Error computing score/gradient for 27: Image gradient at all valid voxel is zero.\n",
      "Error computing score/gradient for 28: Image gradient at all valid voxel is zero.\n",
      "Error computing score/gradient for 29: Image gradient at all valid voxel is zero.\n",
      "Error computing score/gradient for 30: Image gradient at all valid voxel is zero.\n",
      "Norm of gradient (translation) = 0.654705\n",
      "Norm of gradient (rotation) = 0.847667\n",
      "around x=0.00; around y=-0.00; around z=8.94\n",
      "step: 3.24 seconds\n",
      "current score: -8.105915\n",
      "new_T: [23.07674242 18.19450354  0.        ]\n",
      "det: 1.00\n",
      "\n",
      "iteration 9\n",
      "Error computing score/gradient for 9: Image gradient at all valid voxel is zero.\n",
      "Error computing score/gradient for 27: Image gradient at all valid voxel is zero.\n",
      "Error computing score/gradient for 29: Image gradient at all valid voxel is zero.\n",
      "Error computing score/gradient for 30: Image gradient at all valid voxel is zero.\n",
      "Norm of gradient (translation) = 1.045447\n",
      "Norm of gradient (rotation) = 1.143633\n",
      "around x=0.00; around y=-0.00; around z=13.37\n",
      "step: 3.23 seconds\n",
      "current score: -7.878189\n",
      "new_T: [24.10240938 28.49656632  0.        ]\n",
      "det: 1.00\n",
      "\n",
      "iteration 10\n",
      "Error computing score/gradient for 29: Image gradient at all valid voxel is zero.\n",
      "Error computing score/gradient for 30: Image gradient at all valid voxel is zero.\n",
      "Norm of gradient (translation) = 1.327592\n",
      "Norm of gradient (rotation) = 1.299663\n",
      "around x=0.00; around y=-0.00; around z=8.33\n",
      "step: 3.21 seconds\n",
      "current score: -7.815345\n",
      "new_T: [34.60876133 17.43008312  0.        ]\n",
      "det: 1.00\n",
      "\n",
      "iteration 11\n",
      "Error computing score/gradient for 9: Image gradient at all valid voxel is zero.\n",
      "Error computing score/gradient for 27: Image gradient at all valid voxel is zero.\n",
      "Error computing score/gradient for 29: Image gradient at all valid voxel is zero.\n",
      "Error computing score/gradient for 30: Image gradient at all valid voxel is zero.\n",
      "Norm of gradient (translation) = 0.745871\n",
      "Norm of gradient (rotation) = 0.868857\n",
      "around x=0.00; around y=-0.00; around z=11.47\n",
      "step: 3.21 seconds\n",
      "current score: -7.977927\n",
      "new_T: [29.17527962 21.89450607  0.        ]\n",
      "det: 1.00\n",
      "\n",
      "iteration 12\n",
      "Error computing score/gradient for 29: Image gradient at all valid voxel is zero.\n",
      "Error computing score/gradient for 30: Image gradient at all valid voxel is zero.\n",
      "Norm of gradient (translation) = 0.532367\n",
      "Norm of gradient (rotation) = 0.526318\n",
      "around x=0.00; around y=-0.00; around z=12.44\n",
      "step: 3.21 seconds\n",
      "current score: -7.636555\n",
      "new_T: [29.68409362 23.93858907  0.        ]\n",
      "det: 1.00\n",
      "\n",
      "iteration 13\n",
      "Error computing score/gradient for 29: Image gradient at all valid voxel is zero.\n",
      "Error computing score/gradient for 30: Image gradient at all valid voxel is zero.\n",
      "Norm of gradient (translation) = 0.602997\n",
      "Norm of gradient (rotation) = 0.436626\n",
      "around x=0.00; around y=-0.00; around z=11.47\n",
      "step: 3.20 seconds\n",
      "current score: -7.604244\n",
      "new_T: [32.77057334 20.90704407  0.        ]\n",
      "det: 1.00\n",
      "\n",
      "iteration 14\n",
      "Error computing score/gradient for 29: Image gradient at all valid voxel is zero.\n",
      "Error computing score/gradient for 30: Image gradient at all valid voxel is zero.\n",
      "Norm of gradient (translation) = 0.626812\n",
      "Norm of gradient (rotation) = 0.720328\n",
      "around x=0.00; around y=-0.00; around z=13.92\n",
      "step: 3.22 seconds\n",
      "current score: -7.652466\n",
      "new_T: [29.76398326 26.18425131  0.        ]\n",
      "det: 1.00\n",
      "\n",
      "iteration 15\n",
      "Error computing score/gradient for 29: Image gradient at all valid voxel is zero.\n",
      "Error computing score/gradient for 30: Image gradient at all valid voxel is zero.\n",
      "Norm of gradient (translation) = 0.723864\n",
      "Norm of gradient (rotation) = 0.644178\n",
      "around x=0.00; around y=-0.00; around z=11.65\n",
      "step: 3.20 seconds\n",
      "current score: -7.637274\n",
      "new_T: [35.22782829 20.94160981  0.        ]\n",
      "det: 1.00\n",
      "\n",
      "iteration 16\n",
      "Error computing score/gradient for 29: Image gradient at all valid voxel is zero.\n",
      "Error computing score/gradient for 30: Image gradient at all valid voxel is zero.\n",
      "Norm of gradient (translation) = 0.620693\n",
      "Norm of gradient (rotation) = 0.709803\n",
      "around x=0.00; around y=-0.00; around z=14.14\n",
      "step: 3.20 seconds\n",
      "current score: -7.663291\n",
      "new_T: [31.28399564 26.16897616  0.        ]\n",
      "det: 1.00\n",
      "\n",
      "iteration 17\n",
      "Error computing score/gradient for 29: Image gradient at all valid voxel is zero.\n",
      "Error computing score/gradient for 30: Image gradient at all valid voxel is zero.\n",
      "Norm of gradient (translation) = 0.592717\n",
      "Norm of gradient (rotation) = 0.507859\n",
      "around x=0.00; around y=-0.00; around z=12.45\n",
      "step: 3.21 seconds\n",
      "current score: -7.610860\n",
      "new_T: [35.44618609 22.10532413  0.        ]\n",
      "det: 1.00\n",
      "\n",
      "iteration 18\n",
      "Error computing score/gradient for 29: Image gradient at all valid voxel is zero.\n",
      "Error computing score/gradient for 30: Image gradient at all valid voxel is zero.\n",
      "Norm of gradient (translation) = 0.471056\n",
      "Norm of gradient (rotation) = 0.519251\n",
      "around x=0.00; around y=-0.00; around z=14.08\n",
      "step: 3.22 seconds\n",
      "current score: -7.594116\n",
      "new_T: [32.86997488 25.40969407  0.        ]\n",
      "det: 1.00\n",
      "\n",
      "iteration 19\n",
      "Error computing score/gradient for 29: Image gradient at all valid voxel is zero.\n",
      "Error computing score/gradient for 30: Image gradient at all valid voxel is zero.\n",
      "Norm of gradient (translation) = 0.463213\n",
      "Norm of gradient (rotation) = 0.383524\n",
      "around x=0.00; around y=-0.00; around z=12.99\n",
      "step: 3.23 seconds\n",
      "current score: -7.575197\n",
      "new_T: [35.63941018 22.6716672   0.        ]\n",
      "det: 1.00\n",
      "\n",
      "iteration 20\n"
     ]
    },
    {
     "name": "stderr",
     "output_type": "stream",
     "text": [
      "Error computing score/gradient for 29: Image gradient at all valid voxel is zero.\n",
      "Error computing score/gradient for 30: Image gradient at all valid voxel is zero.\n",
      "Norm of gradient (translation) = 0.384146\n",
      "Norm of gradient (rotation) = 0.405904\n",
      "around x=0.00; around y=-0.00; around z=14.08\n",
      "step: 3.23 seconds\n",
      "current score: -7.564102\n",
      "new_T: [33.97017586 24.84212391  0.        ]\n",
      "det: 1.00\n",
      "\n",
      "iteration 21\n",
      "Error computing score/gradient for 29: Image gradient at all valid voxel is zero.\n",
      "Error computing score/gradient for 30: Image gradient at all valid voxel is zero.\n",
      "Norm of gradient (translation) = 0.375462\n",
      "Norm of gradient (rotation) = 0.320132\n",
      "around x=0.00; around y=-0.00; around z=13.41\n",
      "step: 3.21 seconds\n",
      "current score: -7.557484\n",
      "new_T: [35.79885041 23.16142589  0.        ]\n",
      "det: 1.00\n",
      "\n",
      "iteration 22\n",
      "Error computing score/gradient for 29: Image gradient at all valid voxel is zero.\n",
      "Error computing score/gradient for 30: Image gradient at all valid voxel is zero.\n",
      "Norm of gradient (translation) = 0.326436\n",
      "Norm of gradient (rotation) = 0.329384\n",
      "around x=0.00; around y=-0.00; around z=14.09\n",
      "step: 3.22 seconds\n",
      "current score: -7.549619\n",
      "new_T: [34.83351842 24.48662046  0.        ]\n",
      "det: 1.00\n",
      "\n",
      "iteration 23\n",
      "Error computing score/gradient for 29: Image gradient at all valid voxel is zero.\n",
      "Error computing score/gradient for 30: Image gradient at all valid voxel is zero.\n",
      "Norm of gradient (translation) = 0.318882\n",
      "Norm of gradient (rotation) = 0.284275\n",
      "around x=0.00; around y=-0.00; around z=13.72\n",
      "step: 3.23 seconds\n",
      "current score: -7.549601\n",
      "new_T: [35.95632681 23.56711565  0.        ]\n",
      "det: 1.00\n",
      "\n",
      "iteration 24\n",
      "Error computing score/gradient for 29: Image gradient at all valid voxel is zero.\n",
      "Error computing score/gradient for 30: Image gradient at all valid voxel is zero.\n",
      "Norm of gradient (translation) = 0.290575\n",
      "Norm of gradient (rotation) = 0.283103\n",
      "around x=0.00; around y=-0.00; around z=14.11\n",
      "step: 3.22 seconds\n",
      "current score: -7.542626\n",
      "new_T: [35.48671573 24.27996202  0.        ]\n",
      "det: 1.00\n",
      "\n",
      "iteration 25\n",
      "Error computing score/gradient for 29: Image gradient at all valid voxel is zero.\n",
      "Error computing score/gradient for 30: Image gradient at all valid voxel is zero.\n",
      "Norm of gradient (translation) = 0.283259\n",
      "Norm of gradient (rotation) = 0.263604\n",
      "around x=0.00; around y=-0.00; around z=13.96\n",
      "step: 3.21 seconds\n",
      "current score: -7.544620\n",
      "new_T: [36.1152227  23.89141066  0.        ]\n",
      "det: 1.00\n",
      "\n",
      "iteration 26\n",
      "Error computing score/gradient for 29: Image gradient at all valid voxel is zero.\n",
      "Error computing score/gradient for 30: Image gradient at all valid voxel is zero.\n",
      "Norm of gradient (translation) = 0.269726\n",
      "Norm of gradient (rotation) = 0.261245\n",
      "around x=0.00; around y=-0.00; around z=14.16\n",
      "step: 3.23 seconds\n",
      "current score: -7.541010\n",
      "new_T: [35.97797199 24.21711197  0.        ]\n",
      "det: 1.00\n",
      "\n",
      "iteration 27\n",
      "Error computing score/gradient for 29: Image gradient at all valid voxel is zero.\n",
      "Error computing score/gradient for 30: Image gradient at all valid voxel is zero.\n",
      "Norm of gradient (translation) = 0.263130\n",
      "Norm of gradient (rotation) = 0.253186\n",
      "around x=0.00; around y=-0.00; around z=14.13\n",
      "step: 3.22 seconds\n",
      "current score: -7.541533\n",
      "new_T: [36.31114877 24.0974239   0.        ]\n",
      "det: 1.00\n",
      "\n",
      "iteration 28\n",
      "Error computing score/gradient for 29: Image gradient at all valid voxel is zero.\n",
      "Error computing score/gradient for 30: Image gradient at all valid voxel is zero.\n",
      "Norm of gradient (translation) = 0.253967\n",
      "Norm of gradient (rotation) = 0.247924\n",
      "around x=0.00; around y=-0.00; around z=14.24\n",
      "step: 3.24 seconds\n",
      "current score: -7.541046\n",
      "new_T: [36.32008009 24.2700444   0.        ]\n",
      "det: 1.00\n",
      "\n",
      "iteration 29\n",
      "Error computing score/gradient for 29: Image gradient at all valid voxel is zero.\n",
      "Error computing score/gradient for 30: Image gradient at all valid voxel is zero.\n",
      "Norm of gradient (translation) = 0.248403\n",
      "Norm of gradient (rotation) = 0.242808\n",
      "around x=0.00; around y=-0.00; around z=14.25\n",
      "step: 3.21 seconds\n",
      "current score: -7.542201\n",
      "new_T: [36.51213375 24.23382246  0.        ]\n",
      "det: 1.00\n",
      "\n",
      "iteration 30\n",
      "Error computing score/gradient for 29: Image gradient at all valid voxel is zero.\n",
      "Error computing score/gradient for 30: Image gradient at all valid voxel is zero.\n",
      "Norm of gradient (translation) = 0.241592\n",
      "Norm of gradient (rotation) = 0.238914\n",
      "around x=0.00; around y=-0.00; around z=14.30\n",
      "step: 3.21 seconds\n",
      "current score: -7.541633\n",
      "new_T: [36.58495175 24.30625167  0.        ]\n",
      "det: 1.00\n",
      "\n",
      "iteration 31\n",
      "Error computing score/gradient for 29: Image gradient at all valid voxel is zero.\n",
      "Error computing score/gradient for 30: Image gradient at all valid voxel is zero.\n",
      "Norm of gradient (translation) = 0.235383\n",
      "Norm of gradient (rotation) = 0.234379\n",
      "around x=0.00; around y=-0.00; around z=14.34\n",
      "step: 3.22 seconds\n",
      "current score: -7.541230\n",
      "new_T: [36.70103194 24.33458047  0.        ]\n",
      "det: 1.00\n",
      "\n",
      "iteration 32\n",
      "Error computing score/gradient for 29: Image gradient at all valid voxel is zero.\n",
      "Error computing score/gradient for 30: Image gradient at all valid voxel is zero.\n",
      "Norm of gradient (translation) = 0.229523\n",
      "Norm of gradient (rotation) = 0.229429\n",
      "around x=0.00; around y=-0.00; around z=14.37\n",
      "step: 3.22 seconds\n",
      "current score: -7.541759\n",
      "new_T: [36.77634553 24.3839872   0.        ]\n",
      "det: 1.00\n",
      "\n",
      "iteration 33\n",
      "Error computing score/gradient for 29: Image gradient at all valid voxel is zero.\n",
      "Error computing score/gradient for 30: Image gradient at all valid voxel is zero.\n",
      "Norm of gradient (translation) = 0.224556\n",
      "Norm of gradient (rotation) = 0.225925\n",
      "around x=0.00; around y=-0.00; around z=14.40\n",
      "step: 3.22 seconds\n",
      "current score: -7.541453\n",
      "new_T: [36.86779942 24.40983034  0.        ]\n",
      "det: 1.00\n",
      "\n",
      "iteration 34\n",
      "Error computing score/gradient for 29: Image gradient at all valid voxel is zero.\n",
      "Error computing score/gradient for 30: Image gradient at all valid voxel is zero.\n",
      "Norm of gradient (translation) = 0.219201\n",
      "Norm of gradient (rotation) = 0.222020\n",
      "around x=0.00; around y=-0.00; around z=14.44\n",
      "step: 3.20 seconds\n",
      "current score: -7.541461\n",
      "new_T: [36.92763191 24.47804678  0.        ]\n",
      "det: 1.00\n",
      "\n",
      "iteration 35\n",
      "Error computing score/gradient for 29: Image gradient at all valid voxel is zero.\n",
      "Error computing score/gradient for 30: Image gradient at all valid voxel is zero.\n",
      "Norm of gradient (translation) = 0.215004\n",
      "Norm of gradient (rotation) = 0.219106\n",
      "around x=0.00; around y=-0.00; around z=14.46\n",
      "step: 3.27 seconds\n",
      "current score: -7.542412\n",
      "new_T: [37.02936017 24.49086507  0.        ]\n",
      "det: 1.00\n",
      "\n",
      "iteration 36\n",
      "Error computing score/gradient for 29: Image gradient at all valid voxel is zero.\n",
      "Error computing score/gradient for 30: Image gradient at all valid voxel is zero.\n",
      "Norm of gradient (translation) = 0.210509\n",
      "Norm of gradient (rotation) = 0.214916\n",
      "around x=0.00; around y=-0.00; around z=14.49\n",
      "step: 3.24 seconds\n",
      "current score: -7.542096\n",
      "new_T: [37.07774318 24.52468139  0.        ]\n",
      "det: 1.00\n",
      "\n",
      "iteration 37\n",
      "Error computing score/gradient for 29: Image gradient at all valid voxel is zero.\n",
      "Error computing score/gradient for 30: Image gradient at all valid voxel is zero.\n",
      "Norm of gradient (translation) = 0.207305\n",
      "Norm of gradient (rotation) = 0.212891\n",
      "around x=0.00; around y=-0.00; around z=14.50\n",
      "step: 3.26 seconds\n",
      "current score: -7.541971\n",
      "new_T: [37.144053   24.53134282  0.        ]\n",
      "det: 1.00\n",
      "\n",
      "iteration 38\n",
      "Error computing score/gradient for 29: Image gradient at all valid voxel is zero.\n",
      "Error computing score/gradient for 30: Image gradient at all valid voxel is zero.\n",
      "Norm of gradient (translation) = 0.203193\n",
      "Norm of gradient (rotation) = 0.210119\n",
      "around x=0.00; around y=-0.00; around z=14.52\n",
      "step: 3.23 seconds\n",
      "current score: -7.541987\n",
      "new_T: [37.19811926 24.55398247  0.        ]\n",
      "det: 1.00\n",
      "\n",
      "iteration 39\n",
      "Error computing score/gradient for 29: Image gradient at all valid voxel is zero.\n",
      "Error computing score/gradient for 30: Image gradient at all valid voxel is zero.\n",
      "Norm of gradient (translation) = 0.199259\n",
      "Norm of gradient (rotation) = 0.206531\n",
      "around x=0.00; around y=-0.00; around z=14.54\n",
      "step: 3.21 seconds\n",
      "current score: -7.542056\n",
      "new_T: [37.24467706 24.57587864  0.        ]\n",
      "det: 1.00\n",
      "\n",
      "iteration 40\n",
      "Error computing score/gradient for 29: Image gradient at all valid voxel is zero.\n",
      "Error computing score/gradient for 30: Image gradient at all valid voxel is zero.\n"
     ]
    },
    {
     "name": "stderr",
     "output_type": "stream",
     "text": [
      "Norm of gradient (translation) = 0.195371\n",
      "Norm of gradient (rotation) = 0.203551\n",
      "around x=0.00; around y=-0.00; around z=14.56\n",
      "step: 3.26 seconds\n",
      "current score: -7.542618\n",
      "new_T: [37.28731958 24.61303579  0.        ]\n",
      "det: 1.00\n",
      "\n",
      "iteration 41\n",
      "Error computing score/gradient for 29: Image gradient at all valid voxel is zero.\n",
      "Error computing score/gradient for 30: Image gradient at all valid voxel is zero.\n",
      "Norm of gradient (translation) = 0.192634\n",
      "Norm of gradient (rotation) = 0.201492\n",
      "around x=0.00; around y=-0.00; around z=14.58\n",
      "step: 3.20 seconds\n",
      "current score: -7.542588\n",
      "new_T: [37.32460954 24.62365324  0.        ]\n",
      "det: 1.00\n",
      "\n",
      "iteration 42\n",
      "Error computing score/gradient for 29: Image gradient at all valid voxel is zero.\n",
      "Error computing score/gradient for 30: Image gradient at all valid voxel is zero.\n",
      "Norm of gradient (translation) = 0.189165\n",
      "Norm of gradient (rotation) = 0.198425\n",
      "around x=0.00; around y=-0.00; around z=14.59\n",
      "step: 3.20 seconds\n",
      "current score: -7.541681\n",
      "new_T: [37.35974653 24.64181661  0.        ]\n",
      "det: 1.00\n",
      "\n",
      "iteration 43\n",
      "Error computing score/gradient for 29: Image gradient at all valid voxel is zero.\n",
      "Error computing score/gradient for 30: Image gradient at all valid voxel is zero.\n",
      "Norm of gradient (translation) = 0.186094\n",
      "Norm of gradient (rotation) = 0.196432\n",
      "around x=0.00; around y=-0.00; around z=14.61\n",
      "step: 3.19 seconds\n",
      "current score: -7.542338\n",
      "new_T: [37.38517181 24.66710664  0.        ]\n",
      "det: 1.00\n",
      "\n",
      "iteration 44\n",
      "Error computing score/gradient for 29: Image gradient at all valid voxel is zero.\n",
      "Error computing score/gradient for 30: Image gradient at all valid voxel is zero.\n",
      "Norm of gradient (translation) = 0.182918\n",
      "Norm of gradient (rotation) = 0.193536\n",
      "around x=0.00; around y=-0.00; around z=14.62\n",
      "step: 3.19 seconds\n",
      "current score: -7.541847\n",
      "new_T: [37.42377819 24.68350393  0.        ]\n",
      "det: 1.00\n",
      "\n",
      "iteration 45\n",
      "Error computing score/gradient for 29: Image gradient at all valid voxel is zero.\n",
      "Error computing score/gradient for 30: Image gradient at all valid voxel is zero.\n",
      "Norm of gradient (translation) = 0.180422\n",
      "Norm of gradient (rotation) = 0.191470\n",
      "around x=0.00; around y=-0.00; around z=14.63\n",
      "step: 3.20 seconds\n",
      "current score: -7.541433\n",
      "new_T: [37.45554229 24.69962888  0.        ]\n",
      "det: 1.00\n",
      "\n",
      "iteration 46\n",
      "Error computing score/gradient for 29: Image gradient at all valid voxel is zero.\n",
      "Error computing score/gradient for 30: Image gradient at all valid voxel is zero.\n",
      "Norm of gradient (translation) = 0.177576\n",
      "Norm of gradient (rotation) = 0.189215\n",
      "around x=0.00; around y=-0.00; around z=14.64\n",
      "step: 3.21 seconds\n",
      "current score: -7.542119\n",
      "new_T: [37.48268176 24.70340547  0.        ]\n",
      "det: 1.00\n",
      "\n",
      "iteration 47\n",
      "Error computing score/gradient for 29: Image gradient at all valid voxel is zero.\n",
      "Error computing score/gradient for 30: Image gradient at all valid voxel is zero.\n",
      "Norm of gradient (translation) = 0.175520\n",
      "Norm of gradient (rotation) = 0.187289\n",
      "around x=0.00; around y=-0.00; around z=14.65\n",
      "step: 3.20 seconds\n",
      "current score: -7.542142\n",
      "new_T: [37.50212963 24.70039954  0.        ]\n",
      "det: 1.00\n",
      "\n",
      "iteration 48\n",
      "Error computing score/gradient for 29: Image gradient at all valid voxel is zero.\n",
      "Error computing score/gradient for 30: Image gradient at all valid voxel is zero.\n",
      "Norm of gradient (translation) = 0.172418\n",
      "Norm of gradient (rotation) = 0.185340\n",
      "around x=0.00; around y=-0.00; around z=14.66\n",
      "step: 3.20 seconds\n",
      "current score: -7.542567\n",
      "new_T: [37.52380325 24.71863344  0.        ]\n",
      "det: 1.00\n",
      "\n",
      "iteration 49\n",
      "Error computing score/gradient for 29: Image gradient at all valid voxel is zero.\n",
      "Error computing score/gradient for 30: Image gradient at all valid voxel is zero.\n",
      "Norm of gradient (translation) = 0.170374\n",
      "Norm of gradient (rotation) = 0.183753\n",
      "around x=0.00; around y=-0.00; around z=14.67\n",
      "step: 3.20 seconds\n",
      "current score: -7.543106\n",
      "new_T: [37.53591182 24.7344211   0.        ]\n",
      "det: 1.00\n",
      "\n",
      "iteration 50\n",
      "Error computing score/gradient for 29: Image gradient at all valid voxel is zero.\n",
      "Error computing score/gradient for 30: Image gradient at all valid voxel is zero.\n",
      "Norm of gradient (translation) = 0.167207\n",
      "Norm of gradient (rotation) = 0.180077\n",
      "around x=0.00; around y=-0.00; around z=14.67\n",
      "step: 3.21 seconds\n",
      "current score: -7.543006\n",
      "new_T: [37.56119421 24.74855279  0.        ]\n",
      "det: 1.00\n",
      "\n",
      "iteration 51\n",
      "Error computing score/gradient for 29: Image gradient at all valid voxel is zero.\n",
      "Error computing score/gradient for 30: Image gradient at all valid voxel is zero.\n",
      "Norm of gradient (translation) = 0.165744\n",
      "Norm of gradient (rotation) = 0.179799\n",
      "around x=0.00; around y=-0.00; around z=14.68\n",
      "step: 3.20 seconds\n",
      "current score: -7.542191\n",
      "new_T: [37.57785633 24.76676621  0.        ]\n",
      "det: 1.00\n",
      "\n",
      "iteration 52\n",
      "Error computing score/gradient for 29: Image gradient at all valid voxel is zero.\n",
      "Error computing score/gradient for 30: Image gradient at all valid voxel is zero.\n",
      "Norm of gradient (translation) = 0.164561\n",
      "Norm of gradient (rotation) = 0.179300\n",
      "around x=0.00; around y=-0.00; around z=14.68\n",
      "step: 3.21 seconds\n",
      "current score: -7.543157\n",
      "new_T: [37.60193432 24.75543269  0.        ]\n",
      "det: 1.00\n",
      "\n",
      "iteration 53\n",
      "Error computing score/gradient for 29: Image gradient at all valid voxel is zero.\n",
      "Error computing score/gradient for 30: Image gradient at all valid voxel is zero.\n",
      "Norm of gradient (translation) = 0.161430\n",
      "Norm of gradient (rotation) = 0.175816\n",
      "around x=0.00; around y=-0.00; around z=14.69\n",
      "step: 3.20 seconds\n",
      "current score: -7.542930\n",
      "new_T: [37.61996712 24.75357049  0.        ]\n",
      "det: 1.00\n",
      "\n",
      "iteration 54\n",
      "Error computing score/gradient for 29: Image gradient at all valid voxel is zero.\n",
      "Error computing score/gradient for 30: Image gradient at all valid voxel is zero.\n",
      "Norm of gradient (translation) = 0.160028\n",
      "Norm of gradient (rotation) = 0.174629\n",
      "around x=0.00; around y=-0.00; around z=14.70\n",
      "step: 3.18 seconds\n",
      "current score: -7.543558\n",
      "new_T: [37.61312666 24.75626563  0.        ]\n",
      "det: 1.00\n",
      "\n",
      "iteration 55\n",
      "Error computing score/gradient for 29: Image gradient at all valid voxel is zero.\n",
      "Error computing score/gradient for 30: Image gradient at all valid voxel is zero.\n",
      "Norm of gradient (translation) = 0.157207\n",
      "Norm of gradient (rotation) = 0.172470\n",
      "around x=0.00; around y=-0.00; around z=14.71\n",
      "step: 3.21 seconds\n",
      "current score: -7.543222\n",
      "new_T: [37.62316689 24.78684781  0.        ]\n",
      "det: 1.00\n",
      "\n",
      "iteration 56\n",
      "Error computing score/gradient for 29: Image gradient at all valid voxel is zero.\n",
      "Error computing score/gradient for 30: Image gradient at all valid voxel is zero.\n",
      "Norm of gradient (translation) = 0.155805\n",
      "Norm of gradient (rotation) = 0.171490\n",
      "around x=0.00; around y=-0.00; around z=14.71\n",
      "step: 3.20 seconds\n",
      "current score: -7.543347\n",
      "new_T: [37.64031923 24.78067666  0.        ]\n",
      "det: 1.00\n",
      "\n",
      "iteration 57\n",
      "Error computing score/gradient for 29: Image gradient at all valid voxel is zero.\n",
      "Error computing score/gradient for 30: Image gradient at all valid voxel is zero.\n",
      "Norm of gradient (translation) = 0.154139\n",
      "Norm of gradient (rotation) = 0.170076\n",
      "around x=0.00; around y=-0.00; around z=14.71\n",
      "step: 3.19 seconds\n",
      "current score: -7.543837\n",
      "new_T: [37.64977979 24.78473771  0.        ]\n",
      "det: 1.00\n",
      "\n",
      "iteration 58\n",
      "Error computing score/gradient for 29: Image gradient at all valid voxel is zero.\n",
      "Error computing score/gradient for 30: Image gradient at all valid voxel is zero.\n",
      "Norm of gradient (translation) = 0.151908\n",
      "Norm of gradient (rotation) = 0.167877\n",
      "around x=0.00; around y=-0.00; around z=14.71\n",
      "step: 3.22 seconds\n",
      "current score: -7.543602\n",
      "new_T: [37.66401399 24.76802606  0.        ]\n",
      "det: 1.00\n",
      "\n",
      "iteration 59\n",
      "Error computing score/gradient for 29: Image gradient at all valid voxel is zero.\n",
      "Error computing score/gradient for 30: Image gradient at all valid voxel is zero.\n",
      "Norm of gradient (translation) = 0.150556\n",
      "Norm of gradient (rotation) = 0.166752\n",
      "around x=0.00; around y=-0.00; around z=14.72\n",
      "step: 3.20 seconds\n",
      "current score: -7.543465\n",
      "new_T: [37.66953994 24.77700496  0.        ]\n",
      "det: 1.00\n",
      "\n",
      "iteration 60\n",
      "Error computing score/gradient for 29: Image gradient at all valid voxel is zero.\n",
      "Error computing score/gradient for 30: Image gradient at all valid voxel is zero.\n",
      "Norm of gradient (translation) = 0.148759\n",
      "Norm of gradient (rotation) = 0.166122\n",
      "around x=0.00; around y=-0.00; around z=14.72\n",
      "step: 3.19 seconds\n",
      "current score: -7.542919\n",
      "new_T: [37.67702346 24.80696061  0.        ]\n",
      "det: 1.00\n",
      "\n",
      "iteration 61\n"
     ]
    },
    {
     "name": "stderr",
     "output_type": "stream",
     "text": [
      "Error computing score/gradient for 29: Image gradient at all valid voxel is zero.\n",
      "Error computing score/gradient for 30: Image gradient at all valid voxel is zero.\n",
      "Norm of gradient (translation) = 0.147373\n",
      "Norm of gradient (rotation) = 0.164288\n",
      "around x=0.00; around y=-0.00; around z=14.72\n",
      "step: 3.21 seconds\n",
      "current score: -7.543488\n",
      "new_T: [37.69167462 24.79800793  0.        ]\n",
      "det: 1.00\n",
      "\n",
      "iteration 62\n",
      "Error computing score/gradient for 29: Image gradient at all valid voxel is zero.\n",
      "Error computing score/gradient for 30: Image gradient at all valid voxel is zero.\n",
      "Norm of gradient (translation) = 0.146104\n",
      "Norm of gradient (rotation) = 0.163253\n",
      "around x=0.00; around y=-0.00; around z=14.72\n",
      "step: 3.22 seconds\n",
      "current score: -7.542464\n",
      "new_T: [37.69579587 24.8093757   0.        ]\n",
      "det: 1.00\n",
      "\n",
      "iteration 63\n",
      "Error computing score/gradient for 29: Image gradient at all valid voxel is zero.\n",
      "Error computing score/gradient for 30: Image gradient at all valid voxel is zero.\n",
      "Norm of gradient (translation) = 0.144552\n",
      "Norm of gradient (rotation) = 0.161778\n",
      "around x=0.00; around y=-0.00; around z=14.72\n",
      "step: 3.24 seconds\n",
      "current score: -7.544097\n",
      "new_T: [37.70932571 24.77685594  0.        ]\n",
      "det: 1.00\n",
      "\n",
      "iteration 64\n",
      "Error computing score/gradient for 29: Image gradient at all valid voxel is zero.\n",
      "Error computing score/gradient for 30: Image gradient at all valid voxel is zero.\n",
      "Norm of gradient (translation) = 0.142695\n",
      "Norm of gradient (rotation) = 0.160699\n",
      "around x=0.00; around y=-0.00; around z=14.73\n",
      "step: 3.26 seconds\n",
      "current score: -7.544342\n",
      "new_T: [37.70664873 24.8109102   0.        ]\n",
      "det: 1.00\n",
      "\n",
      "iteration 65\n",
      "Error computing score/gradient for 29: Image gradient at all valid voxel is zero.\n",
      "Error computing score/gradient for 30: Image gradient at all valid voxel is zero.\n",
      "Norm of gradient (translation) = 0.141689\n",
      "Norm of gradient (rotation) = 0.159640\n",
      "around x=0.00; around y=-0.00; around z=14.73\n",
      "step: 3.27 seconds\n",
      "current score: -7.544576\n",
      "new_T: [37.72036341 24.80708358  0.        ]\n",
      "det: 1.00\n",
      "\n",
      "iteration 66\n",
      "Error computing score/gradient for 29: Image gradient at all valid voxel is zero.\n",
      "Error computing score/gradient for 30: Image gradient at all valid voxel is zero.\n",
      "Norm of gradient (translation) = 0.140295\n",
      "Norm of gradient (rotation) = 0.158114\n",
      "around x=0.00; around y=-0.00; around z=14.74\n",
      "step: 3.26 seconds\n",
      "current score: -7.544196\n",
      "new_T: [37.70614562 24.82796228  0.        ]\n",
      "det: 1.00\n",
      "\n",
      "iteration 67\n",
      "Error computing score/gradient for 29: Image gradient at all valid voxel is zero.\n",
      "Error computing score/gradient for 30: Image gradient at all valid voxel is zero.\n",
      "Norm of gradient (translation) = 0.138846\n",
      "Norm of gradient (rotation) = 0.157881\n",
      "around x=0.00; around y=-0.00; around z=14.73\n",
      "step: 3.23 seconds\n",
      "current score: -7.543501\n",
      "new_T: [37.730577   24.81543422  0.        ]\n",
      "det: 1.00\n",
      "\n",
      "iteration 68\n",
      "Error computing score/gradient for 29: Image gradient at all valid voxel is zero.\n",
      "Error computing score/gradient for 30: Image gradient at all valid voxel is zero.\n",
      "Norm of gradient (translation) = 0.137181\n",
      "Norm of gradient (rotation) = 0.153993\n",
      "around x=0.00; around y=-0.00; around z=14.74\n",
      "step: 3.24 seconds\n",
      "current score: -7.543319\n",
      "new_T: [37.71085239 24.81874924  0.        ]\n",
      "det: 1.00\n",
      "\n",
      "iteration 69\n",
      "Error computing score/gradient for 29: Image gradient at all valid voxel is zero.\n",
      "Error computing score/gradient for 30: Image gradient at all valid voxel is zero.\n",
      "Norm of gradient (translation) = 0.136198\n",
      "Norm of gradient (rotation) = 0.155283\n",
      "around x=0.00; around y=-0.00; around z=14.73\n",
      "step: 3.23 seconds\n",
      "current score: -7.542865\n",
      "new_T: [37.73498782 24.81666612  0.        ]\n",
      "det: 1.00\n",
      "\n",
      "iteration 70\n",
      "Error computing score/gradient for 29: Image gradient at all valid voxel is zero.\n",
      "Error computing score/gradient for 30: Image gradient at all valid voxel is zero.\n",
      "Norm of gradient (translation) = 0.134904\n",
      "Norm of gradient (rotation) = 0.153098\n",
      "around x=0.00; around y=-0.00; around z=14.74\n",
      "step: 3.23 seconds\n",
      "current score: -7.544245\n",
      "new_T: [37.72366745 24.83736988  0.        ]\n",
      "det: 1.00\n",
      "\n",
      "iteration 71\n",
      "Error computing score/gradient for 29: Image gradient at all valid voxel is zero.\n",
      "Error computing score/gradient for 30: Image gradient at all valid voxel is zero.\n",
      "Norm of gradient (translation) = 0.133950\n",
      "Norm of gradient (rotation) = 0.152524\n",
      "around x=0.00; around y=-0.00; around z=14.74\n",
      "step: 3.20 seconds\n",
      "current score: -7.542979\n",
      "new_T: [37.73117313 24.81335637  0.        ]\n",
      "det: 1.00\n",
      "\n",
      "iteration 72\n",
      "Error computing score/gradient for 29: Image gradient at all valid voxel is zero.\n",
      "Error computing score/gradient for 30: Image gradient at all valid voxel is zero.\n",
      "Norm of gradient (translation) = 0.132553\n",
      "Norm of gradient (rotation) = 0.150654\n",
      "around x=0.00; around y=-0.00; around z=14.74\n",
      "step: 3.21 seconds\n",
      "current score: -7.543387\n",
      "new_T: [37.72771154 24.82340423  0.        ]\n",
      "det: 1.00\n",
      "\n",
      "iteration 73\n",
      "Error computing score/gradient for 29: Image gradient at all valid voxel is zero.\n",
      "Error computing score/gradient for 30: Image gradient at all valid voxel is zero.\n",
      "Norm of gradient (translation) = 0.131605\n",
      "Norm of gradient (rotation) = 0.150733\n",
      "around x=0.00; around y=-0.00; around z=14.74\n",
      "step: 3.19 seconds\n",
      "current score: -7.543727\n",
      "new_T: [37.7291341  24.83128281  0.        ]\n",
      "det: 1.00\n",
      "\n",
      "iteration 74\n",
      "Error computing score/gradient for 29: Image gradient at all valid voxel is zero.\n",
      "Error computing score/gradient for 30: Image gradient at all valid voxel is zero.\n",
      "Norm of gradient (translation) = 0.130144\n",
      "Norm of gradient (rotation) = 0.148948\n",
      "around x=0.00; around y=-0.00; around z=14.73\n",
      "step: 3.22 seconds\n",
      "current score: -7.543530\n",
      "new_T: [37.7562982  24.80877541  0.        ]\n",
      "det: 1.00\n",
      "\n",
      "iteration 75\n",
      "Error computing score/gradient for 29: Image gradient at all valid voxel is zero.\n",
      "Error computing score/gradient for 30: Image gradient at all valid voxel is zero.\n",
      "Norm of gradient (translation) = 0.129171\n",
      "Norm of gradient (rotation) = 0.146936\n",
      "around x=0.00; around y=-0.00; around z=14.75\n",
      "step: 3.20 seconds\n",
      "current score: -7.543957\n",
      "new_T: [37.72460671 24.81735679  0.        ]\n",
      "det: 1.00\n",
      "\n",
      "iteration 76\n",
      "Error computing score/gradient for 29: Image gradient at all valid voxel is zero.\n",
      "Error computing score/gradient for 30: Image gradient at all valid voxel is zero.\n",
      "Norm of gradient (translation) = 0.127967\n",
      "Norm of gradient (rotation) = 0.148145\n",
      "around x=0.00; around y=-0.00; around z=14.74\n",
      "step: 3.21 seconds\n",
      "current score: -7.543976\n",
      "new_T: [37.75163436 24.82271373  0.        ]\n",
      "det: 1.00\n",
      "\n",
      "iteration 77\n",
      "Error computing score/gradient for 29: Image gradient at all valid voxel is zero.\n",
      "Error computing score/gradient for 30: Image gradient at all valid voxel is zero.\n",
      "Norm of gradient (translation) = 0.127455\n",
      "Norm of gradient (rotation) = 0.146474\n",
      "around x=0.00; around y=-0.00; around z=14.75\n",
      "step: 3.20 seconds\n",
      "current score: -7.544353\n",
      "new_T: [37.72740307 24.84054961  0.        ]\n",
      "det: 1.00\n",
      "\n",
      "iteration 78\n",
      "Error computing score/gradient for 29: Image gradient at all valid voxel is zero.\n",
      "Error computing score/gradient for 30: Image gradient at all valid voxel is zero.\n",
      "Norm of gradient (translation) = 0.126378\n",
      "Norm of gradient (rotation) = 0.146524\n",
      "around x=0.00; around y=-0.00; around z=14.74\n",
      "step: 3.21 seconds\n",
      "current score: -7.543135\n",
      "new_T: [37.74945424 24.82625175  0.        ]\n",
      "det: 1.00\n",
      "\n",
      "iteration 79\n",
      "Error computing score/gradient for 29: Image gradient at all valid voxel is zero.\n",
      "Error computing score/gradient for 30: Image gradient at all valid voxel is zero.\n",
      "Norm of gradient (translation) = 0.124874\n",
      "Norm of gradient (rotation) = 0.143990\n",
      "around x=0.00; around y=-0.00; around z=14.74\n",
      "step: 3.21 seconds\n",
      "current score: -7.543844\n",
      "new_T: [37.74625555 24.82155361  0.        ]\n",
      "det: 1.00\n",
      "\n",
      "iteration 80\n",
      "Error computing score/gradient for 29: Image gradient at all valid voxel is zero.\n",
      "Error computing score/gradient for 30: Image gradient at all valid voxel is zero.\n",
      "Norm of gradient (translation) = 0.124339\n",
      "Norm of gradient (rotation) = 0.144615\n",
      "around x=0.00; around y=-0.00; around z=14.75\n",
      "step: 3.22 seconds\n",
      "current score: -7.543741\n",
      "new_T: [37.74530336 24.84804223  0.        ]\n",
      "det: 1.00\n",
      "\n",
      "iteration 81\n",
      "Error computing score/gradient for 29: Image gradient at all valid voxel is zero.\n",
      "Error computing score/gradient for 30: Image gradient at all valid voxel is zero.\n"
     ]
    },
    {
     "name": "stderr",
     "output_type": "stream",
     "text": [
      "Norm of gradient (translation) = 0.123234\n",
      "Norm of gradient (rotation) = 0.142944\n",
      "around x=0.00; around y=-0.00; around z=14.74\n",
      "step: 3.21 seconds\n",
      "current score: -7.544139\n",
      "new_T: [37.75642715 24.82847606  0.        ]\n",
      "det: 1.00\n",
      "\n",
      "iteration 82\n",
      "Error computing score/gradient for 29: Image gradient at all valid voxel is zero.\n",
      "Error computing score/gradient for 30: Image gradient at all valid voxel is zero.\n",
      "Norm of gradient (translation) = 0.122374\n",
      "Norm of gradient (rotation) = 0.141465\n",
      "around x=0.00; around y=-0.00; around z=14.75\n",
      "step: 3.19 seconds\n",
      "current score: -7.543681\n",
      "new_T: [37.74600278 24.82386653  0.        ]\n",
      "det: 1.00\n",
      "\n",
      "iteration 83\n",
      "Error computing score/gradient for 29: Image gradient at all valid voxel is zero.\n",
      "Error computing score/gradient for 30: Image gradient at all valid voxel is zero.\n",
      "Norm of gradient (translation) = 0.121604\n",
      "Norm of gradient (rotation) = 0.142060\n",
      "around x=0.00; around y=-0.00; around z=14.75\n",
      "step: 3.19 seconds\n",
      "current score: -7.543042\n",
      "new_T: [37.75572215 24.83305029  0.        ]\n",
      "det: 1.00\n",
      "\n",
      "iteration 84\n",
      "Error computing score/gradient for 29: Image gradient at all valid voxel is zero.\n",
      "Error computing score/gradient for 30: Image gradient at all valid voxel is zero.\n",
      "Norm of gradient (translation) = 0.120326\n",
      "Norm of gradient (rotation) = 0.139328\n",
      "around x=0.00; around y=-0.00; around z=14.74\n",
      "step: 3.21 seconds\n",
      "current score: -7.543982\n",
      "new_T: [37.76462068 24.80721789  0.        ]\n",
      "det: 1.00\n",
      "\n",
      "iteration 85\n",
      "Error computing score/gradient for 29: Image gradient at all valid voxel is zero.\n",
      "Error computing score/gradient for 30: Image gradient at all valid voxel is zero.\n",
      "Norm of gradient (translation) = 0.119429\n",
      "Norm of gradient (rotation) = 0.138677\n",
      "around x=0.00; around y=-0.00; around z=14.75\n",
      "step: 3.18 seconds\n",
      "current score: -7.543953\n",
      "new_T: [37.7496711  24.83964959  0.        ]\n",
      "det: 1.00\n",
      "\n",
      "iteration 86\n",
      "Error computing score/gradient for 29: Image gradient at all valid voxel is zero.\n",
      "Error computing score/gradient for 30: Image gradient at all valid voxel is zero.\n",
      "Norm of gradient (translation) = 0.118854\n",
      "Norm of gradient (rotation) = 0.139751\n",
      "around x=0.00; around y=-0.00; around z=14.75\n",
      "step: 3.27 seconds\n",
      "current score: -7.544127\n",
      "new_T: [37.75820789 24.85465477  0.        ]\n",
      "det: 1.00\n",
      "\n",
      "iteration 87\n",
      "Error computing score/gradient for 29: Image gradient at all valid voxel is zero.\n",
      "Error computing score/gradient for 30: Image gradient at all valid voxel is zero.\n",
      "Norm of gradient (translation) = 0.118007\n",
      "Norm of gradient (rotation) = 0.137932\n",
      "around x=0.00; around y=-0.00; around z=14.75\n",
      "step: 3.29 seconds\n",
      "current score: -7.544252\n",
      "new_T: [37.7640811  24.84034088  0.        ]\n",
      "det: 1.00\n",
      "\n",
      "iteration 88\n",
      "Error computing score/gradient for 29: Image gradient at all valid voxel is zero.\n",
      "Error computing score/gradient for 30: Image gradient at all valid voxel is zero.\n",
      "Norm of gradient (translation) = 0.117491\n",
      "Norm of gradient (rotation) = 0.137907\n",
      "around x=0.00; around y=-0.00; around z=14.75\n",
      "step: 3.30 seconds\n",
      "current score: -7.543505\n",
      "new_T: [37.75336737 24.83970838  0.        ]\n",
      "det: 1.00\n",
      "\n",
      "iteration 89\n",
      "Error computing score/gradient for 29: Image gradient at all valid voxel is zero.\n",
      "Error computing score/gradient for 30: Image gradient at all valid voxel is zero.\n",
      "Norm of gradient (translation) = 0.116507\n",
      "Norm of gradient (rotation) = 0.137551\n",
      "around x=0.00; around y=-0.00; around z=14.75\n",
      "step: 3.30 seconds\n",
      "current score: -7.543217\n",
      "new_T: [37.76200257 24.85611078  0.        ]\n",
      "det: 1.00\n",
      "\n",
      "iteration 90\n",
      "Error computing score/gradient for 29: Image gradient at all valid voxel is zero.\n",
      "Error computing score/gradient for 30: Image gradient at all valid voxel is zero.\n",
      "Norm of gradient (translation) = 0.115702\n",
      "Norm of gradient (rotation) = 0.135929\n",
      "around x=0.00; around y=-0.00; around z=14.75\n",
      "step: 3.28 seconds\n",
      "current score: -7.543294\n",
      "new_T: [37.76532515 24.83466774  0.        ]\n",
      "det: 1.00\n",
      "\n",
      "iteration 91\n",
      "Error computing score/gradient for 29: Image gradient at all valid voxel is zero.\n",
      "Error computing score/gradient for 30: Image gradient at all valid voxel is zero.\n",
      "Norm of gradient (translation) = 0.115017\n",
      "Norm of gradient (rotation) = 0.136100\n",
      "around x=0.00; around y=-0.00; around z=14.75\n",
      "step: 3.30 seconds\n",
      "current score: -7.543187\n",
      "new_T: [37.76846738 24.83261965  0.        ]\n",
      "det: 1.00\n",
      "\n",
      "iteration 92\n",
      "Error computing score/gradient for 29: Image gradient at all valid voxel is zero.\n",
      "Error computing score/gradient for 30: Image gradient at all valid voxel is zero.\n",
      "Norm of gradient (translation) = 0.114114\n",
      "Norm of gradient (rotation) = 0.134568\n",
      "around x=0.00; around y=-0.00; around z=14.75\n",
      "step: 3.30 seconds\n",
      "current score: -7.543631\n",
      "new_T: [37.76856748 24.83309379  0.        ]\n",
      "det: 1.00\n",
      "\n",
      "iteration 93\n",
      "Error computing score/gradient for 29: Image gradient at all valid voxel is zero.\n",
      "Error computing score/gradient for 30: Image gradient at all valid voxel is zero.\n",
      "Norm of gradient (translation) = 0.113367\n",
      "Norm of gradient (rotation) = 0.134033\n",
      "around x=0.00; around y=-0.00; around z=14.75\n",
      "step: 3.28 seconds\n",
      "current score: -7.543842\n",
      "new_T: [37.76567965 24.84220264  0.        ]\n",
      "det: 1.00\n",
      "\n",
      "iteration 94\n",
      "Error computing score/gradient for 29: Image gradient at all valid voxel is zero.\n",
      "Error computing score/gradient for 30: Image gradient at all valid voxel is zero.\n",
      "Norm of gradient (translation) = 0.112882\n",
      "Norm of gradient (rotation) = 0.133912\n",
      "around x=0.00; around y=-0.00; around z=14.76\n",
      "step: 3.27 seconds\n",
      "current score: -7.544287\n",
      "new_T: [37.75829662 24.85379708  0.        ]\n",
      "det: 1.00\n",
      "\n",
      "iteration 95\n",
      "Error computing score/gradient for 29: Image gradient at all valid voxel is zero.\n",
      "Error computing score/gradient for 30: Image gradient at all valid voxel is zero.\n",
      "Norm of gradient (translation) = 0.111554\n",
      "Norm of gradient (rotation) = 0.132110\n",
      "around x=0.00; around y=-0.00; around z=14.75\n",
      "step: 3.24 seconds\n",
      "current score: -7.543996\n",
      "new_T: [37.77150527 24.84884939  0.        ]\n",
      "det: 1.00\n",
      "\n",
      "iteration 96\n",
      "Error computing score/gradient for 29: Image gradient at all valid voxel is zero.\n",
      "Error computing score/gradient for 30: Image gradient at all valid voxel is zero.\n",
      "Norm of gradient (translation) = 0.111239\n",
      "Norm of gradient (rotation) = 0.131947\n",
      "around x=0.00; around y=-0.00; around z=14.75\n",
      "step: 3.21 seconds\n",
      "current score: -7.543689\n",
      "new_T: [37.78129611 24.84002671  0.        ]\n",
      "det: 1.00\n",
      "\n",
      "iteration 97\n",
      "Error computing score/gradient for 29: Image gradient at all valid voxel is zero.\n",
      "Error computing score/gradient for 30: Image gradient at all valid voxel is zero.\n",
      "Norm of gradient (translation) = 0.110476\n",
      "Norm of gradient (rotation) = 0.130634\n",
      "around x=0.00; around y=-0.00; around z=14.76\n",
      "step: 3.24 seconds\n",
      "current score: -7.543477\n",
      "new_T: [37.76265579 24.86125615  0.        ]\n",
      "det: 1.00\n",
      "\n",
      "iteration 98\n",
      "Error computing score/gradient for 29: Image gradient at all valid voxel is zero.\n",
      "Error computing score/gradient for 30: Image gradient at all valid voxel is zero.\n",
      "Norm of gradient (translation) = 0.109849\n",
      "Norm of gradient (rotation) = 0.130086\n",
      "around x=0.00; around y=-0.00; around z=14.75\n",
      "step: 3.21 seconds\n",
      "current score: -7.543718\n",
      "new_T: [37.76329062 24.82992887  0.        ]\n",
      "det: 1.00\n",
      "\n",
      "iteration 99\n",
      "Error computing score/gradient for 29: Image gradient at all valid voxel is zero.\n",
      "Error computing score/gradient for 30: Image gradient at all valid voxel is zero.\n",
      "Norm of gradient (translation) = 0.109125\n",
      "Norm of gradient (rotation) = 0.129946\n",
      "around x=0.00; around y=-0.00; around z=14.75\n",
      "step: 3.24 seconds\n",
      "current score: -7.543618\n",
      "new_T: [37.76295298 24.85161537  0.        ]\n",
      "det: 1.00\n",
      "\n",
      "iteration 100\n",
      "Error computing score/gradient for 29: Image gradient at all valid voxel is zero.\n",
      "Error computing score/gradient for 30: Image gradient at all valid voxel is zero.\n",
      "Norm of gradient (translation) = 0.108787\n",
      "Norm of gradient (rotation) = 0.130240\n",
      "around x=0.00; around y=-0.00; around z=14.75\n",
      "step: 3.23 seconds\n",
      "current score: -7.544315\n",
      "new_T: [37.77812004 24.84464073  0.        ]\n",
      "det: 1.00\n",
      "\n",
      "iteration 101\n"
     ]
    },
    {
     "ename": "KeyboardInterrupt",
     "evalue": "",
     "output_type": "error",
     "traceback": [
      "\u001b[0;31m---------------------------------------------------------------------------\u001b[0m",
      "\u001b[0;31mKeyboardInterrupt\u001b[0m                         Traceback (most recent call last)",
      "\u001b[0;32m<ipython-input-31-268e46631c8c>\u001b[0m in \u001b[0;36m<module>\u001b[0;34m()\u001b[0m\n\u001b[1;32m      5\u001b[0m                              \u001b[0mterminate_thresh_trans\u001b[0m\u001b[0;34m=\u001b[0m\u001b[0;36m.01\u001b[0m\u001b[0;34m,\u001b[0m\u001b[0;34m\u001b[0m\u001b[0m\n\u001b[1;32m      6\u001b[0m                              \u001b[0mgrad_computation_sample_number\u001b[0m\u001b[0;34m=\u001b[0m\u001b[0;36m100000\u001b[0m\u001b[0;34m,\u001b[0m\u001b[0;34m\u001b[0m\u001b[0m\n\u001b[0;32m----> 7\u001b[0;31m                              \u001b[0mfull_lr\u001b[0m\u001b[0;34m=\u001b[0m\u001b[0mnp\u001b[0m\u001b[0;34m.\u001b[0m\u001b[0marray\u001b[0m\u001b[0;34m(\u001b[0m\u001b[0;34m[\u001b[0m\u001b[0;36m10\u001b[0m\u001b[0;34m,\u001b[0m\u001b[0;36m10\u001b[0m\u001b[0;34m,\u001b[0m\u001b[0;36m0\u001b[0m\u001b[0;34m,\u001b[0m\u001b[0;36m0\u001b[0m\u001b[0;34m,\u001b[0m\u001b[0;36m0\u001b[0m\u001b[0;34m,\u001b[0m\u001b[0;36m.1\u001b[0m\u001b[0;34m]\u001b[0m\u001b[0;34m)\u001b[0m\u001b[0;34m,\u001b[0m \u001b[0;31m# shift along z axis, rotations around x axis and y axis are frozen\u001b[0m\u001b[0;34m\u001b[0m\u001b[0m\n\u001b[0m\u001b[1;32m      8\u001b[0m \u001b[0;31m#                              init_T=grid_search_T\u001b[0m\u001b[0;34m\u001b[0m\u001b[0;34m\u001b[0m\u001b[0m\n\u001b[1;32m      9\u001b[0m                             )                                  \n",
      "\u001b[0;32m/home/yuncong/Brain/utilities/registration_utilities.pyc\u001b[0m in \u001b[0;36moptimize\u001b[0;34m(self, tf_type, init_T, label_weights, grad_computation_sample_number, max_iter_num, history_len, terminate_thresh_rot, terminate_thresh_trans, indices_m, lr1, lr2, full_lr, reg_weights, epsilon, affine_scaling_limits, bspline_deformation_limit)\u001b[0m\n\u001b[1;32m   1277\u001b[0m                     \u001b[0mverbose\u001b[0m\u001b[0;34m=\u001b[0m\u001b[0mFalse\u001b[0m\u001b[0;34m,\u001b[0m \u001b[0mnum_samples\u001b[0m\u001b[0;34m=\u001b[0m\u001b[0mgrad_computation_sample_number\u001b[0m\u001b[0;34m,\u001b[0m\u001b[0;34m\u001b[0m\u001b[0m\n\u001b[1;32m   1278\u001b[0m                     \u001b[0mindices_m\u001b[0m\u001b[0;34m=\u001b[0m\u001b[0mindices_m\u001b[0m\u001b[0;34m,\u001b[0m\u001b[0;34m\u001b[0m\u001b[0m\n\u001b[0;32m-> 1279\u001b[0;31m                     epsilon=epsilon)\n\u001b[0m\u001b[1;32m   1280\u001b[0m \u001b[0;34m\u001b[0m\u001b[0m\n\u001b[1;32m   1281\u001b[0m             \u001b[0;32melif\u001b[0m \u001b[0mtf_type\u001b[0m \u001b[0;34m==\u001b[0m \u001b[0;34m'affine'\u001b[0m\u001b[0;34m:\u001b[0m\u001b[0;34m\u001b[0m\u001b[0m\n",
      "\u001b[0;32m/home/yuncong/Brain/utilities/registration_utilities.pyc\u001b[0m in \u001b[0;36mstep_lie\u001b[0;34m(self, T, lr, grad_historical, sq_updates_historical, verbose, num_samples, indices_m, epsilon)\u001b[0m\n\u001b[1;32m   1368\u001b[0m         \u001b[0;31m# print 'T:', np.ravel(T)\u001b[0m\u001b[0;34m\u001b[0m\u001b[0;34m\u001b[0m\u001b[0m\n\u001b[1;32m   1369\u001b[0m         \u001b[0;31m# t = time.time()\u001b[0m\u001b[0;34m\u001b[0m\u001b[0;34m\u001b[0m\u001b[0m\n\u001b[0;32m-> 1370\u001b[0;31m         \u001b[0mscore\u001b[0m\u001b[0;34m,\u001b[0m \u001b[0mgrad\u001b[0m \u001b[0;34m=\u001b[0m \u001b[0mself\u001b[0m\u001b[0;34m.\u001b[0m\u001b[0mcompute_score_and_gradient\u001b[0m\u001b[0;34m(\u001b[0m\u001b[0mT\u001b[0m\u001b[0;34m,\u001b[0m \u001b[0mtf_type\u001b[0m\u001b[0;34m=\u001b[0m\u001b[0;34m'rigid'\u001b[0m\u001b[0;34m,\u001b[0m \u001b[0mnum_samples\u001b[0m\u001b[0;34m=\u001b[0m\u001b[0mnum_samples\u001b[0m\u001b[0;34m,\u001b[0m \u001b[0mindices_m\u001b[0m\u001b[0;34m=\u001b[0m\u001b[0mindices_m\u001b[0m\u001b[0;34m)\u001b[0m\u001b[0;34m\u001b[0m\u001b[0m\n\u001b[0m\u001b[1;32m   1371\u001b[0m         \u001b[0;31m# sys.stderr.write(\"compute_score_and_gradient: %.2f s\\n\" % (time.time() - t))\u001b[0m\u001b[0;34m\u001b[0m\u001b[0;34m\u001b[0m\u001b[0m\n\u001b[1;32m   1372\u001b[0m         \u001b[0;31m# grad is (6,)-array\u001b[0m\u001b[0;34m\u001b[0m\u001b[0;34m\u001b[0m\u001b[0m\n",
      "\u001b[0;32m/home/yuncong/Brain/utilities/registration_utilities.pyc\u001b[0m in \u001b[0;36mcompute_score_and_gradient\u001b[0;34m(self, T, tf_type, num_samples, indices_m)\u001b[0m\n\u001b[1;32m    838\u001b[0m             \u001b[0;31m# t = time.time()\u001b[0m\u001b[0;34m\u001b[0m\u001b[0;34m\u001b[0m\u001b[0m\n\u001b[1;32m    839\u001b[0m             \u001b[0;32mtry\u001b[0m\u001b[0;34m:\u001b[0m\u001b[0;34m\u001b[0m\u001b[0m\n\u001b[0;32m--> 840\u001b[0;31m                 \u001b[0mscore_one\u001b[0m\u001b[0;34m,\u001b[0m \u001b[0mgrad_one\u001b[0m \u001b[0;34m=\u001b[0m \u001b[0mself\u001b[0m\u001b[0;34m.\u001b[0m\u001b[0mcompute_score_and_gradient_one\u001b[0m\u001b[0;34m(\u001b[0m\u001b[0mT\u001b[0m\u001b[0;34m,\u001b[0m \u001b[0mtf_type\u001b[0m\u001b[0;34m=\u001b[0m\u001b[0mtf_type\u001b[0m\u001b[0;34m,\u001b[0m \u001b[0mnum_samples\u001b[0m\u001b[0;34m=\u001b[0m\u001b[0mnum_samples\u001b[0m\u001b[0;34m,\u001b[0m \u001b[0mind_m\u001b[0m\u001b[0;34m=\u001b[0m\u001b[0mind_m\u001b[0m\u001b[0;34m)\u001b[0m\u001b[0;34m\u001b[0m\u001b[0m\n\u001b[0m\u001b[1;32m    841\u001b[0m                 \u001b[0;31m# sys.stderr.write(\"compute_score_and_gradient_one: %.2f s\\n\" % (time.time()-t))\u001b[0m\u001b[0;34m\u001b[0m\u001b[0;34m\u001b[0m\u001b[0m\n\u001b[1;32m    842\u001b[0m                 \u001b[0;31m# sys.stderr.write(\"%d, %f\\n\" % (ind_m, score_one))\u001b[0m\u001b[0;34m\u001b[0m\u001b[0;34m\u001b[0m\u001b[0m\n",
      "\u001b[0;32m/home/yuncong/Brain/utilities/registration_utilities.pyc\u001b[0m in \u001b[0;36mcompute_score_and_gradient_one\u001b[0;34m(self, T, tf_type, num_samples, ind_m)\u001b[0m\n\u001b[1;32m    664\u001b[0m         \u001b[0;31m# Moving volume's valid voxel coordinates (centralized).\u001b[0m\u001b[0;34m\u001b[0m\u001b[0;34m\u001b[0m\u001b[0m\n\u001b[1;32m    665\u001b[0m         \u001b[0;31m# t = time.time()\u001b[0m\u001b[0;34m\u001b[0m\u001b[0;34m\u001b[0m\u001b[0m\n\u001b[0;32m--> 666\u001b[0;31m         \u001b[0mdxs\u001b[0m\u001b[0;34m,\u001b[0m \u001b[0mdys\u001b[0m\u001b[0;34m,\u001b[0m \u001b[0mdzs\u001b[0m \u001b[0;34m=\u001b[0m \u001b[0mnzvoxels_centered_m\u001b[0m\u001b[0;34m[\u001b[0m\u001b[0mind_m\u001b[0m\u001b[0;34m]\u001b[0m\u001b[0;34m[\u001b[0m\u001b[0mvalid_moving_voxel_indicators\u001b[0m\u001b[0;34m]\u001b[0m\u001b[0;34m.\u001b[0m\u001b[0mT\u001b[0m\u001b[0;34m\u001b[0m\u001b[0m\n\u001b[0m\u001b[1;32m    667\u001b[0m         \u001b[0;31m# sys.stderr.write(\"fancy indexing into centralized moving volume nzvoxels: %.2f s\\n\" % (time.time() - t))\u001b[0m\u001b[0;34m\u001b[0m\u001b[0;34m\u001b[0m\u001b[0m\n\u001b[1;32m    668\u001b[0m \u001b[0;34m\u001b[0m\u001b[0m\n",
      "\u001b[0;31mKeyboardInterrupt\u001b[0m: "
     ]
    }
   ],
   "source": [
    "T, scores = aligner.optimize(tf_type=affine_aligner_parameters['transform_type'], \n",
    "                             max_iter_num=200,\n",
    "                             history_len=50, \n",
    "#                              terminate_thresh=1e-4,\n",
    "                             terminate_thresh_trans=.01,\n",
    "                             grad_computation_sample_number=100000,\n",
    "                             full_lr=np.array([10,10,0,0,0,.1]), # shift along z axis, rotations around x axis and y axis are frozen\n",
    "#                              init_T=grid_search_T\n",
    "                            )                                  \n",
    "# traj = aligner.Ts"
   ]
  },
  {
   "cell_type": "code",
   "execution_count": null,
   "metadata": {
    "collapsed": true,
    "scrolled": true
   },
   "outputs": [],
   "source": [
    "print T.reshape((3,4))\n",
    "plt.plot(scores);\n",
    "print max(scores), scores[-1]"
   ]
  },
  {
   "cell_type": "markdown",
   "metadata": {},
   "source": [
    "# Export parameters and score plots"
   ]
  },
  {
   "cell_type": "code",
   "execution_count": null,
   "metadata": {
    "collapsed": true
   },
   "outputs": [],
   "source": [
    "transform_parameters = {\n",
    "    'parameters': aligner.Ts[-1],\n",
    "    'centroid_m': aligner.centroid_m,\n",
    "    'centroid_f': aligner.centroid_f,\n",
    "    'domain_m_origin_wrt_wholebrain': affine_aligner_parameters['volume_moving_origin_wrt_wholebrain'],\n",
    "    'domain_f_origin_wrt_wholebrain': affine_aligner_parameters['volume_fixed_origin_wrt_wholebrain']\n",
    "}"
   ]
  },
  {
   "cell_type": "code",
   "execution_count": null,
   "metadata": {
    "collapsed": true,
    "scrolled": true
   },
   "outputs": [],
   "source": [
    "DataManager.save_alignment_results_v2(transform_parameters=transform_parameters,\n",
    "                       score_traj=scores,\n",
    "                       parameter_traj=aligner.Ts,\n",
    "                      alignment_spec=affine_alignment_spec)"
   ]
  },
  {
   "cell_type": "code",
   "execution_count": null,
   "metadata": {
    "collapsed": true,
    "scrolled": true
   },
   "outputs": [],
   "source": [
    "for name_s in all_known_structures_sided:\n",
    "# for name_s in ['7N_L']:\n",
    "    \n",
    "    try:\n",
    "        volume, bbox_wrt_fixedWholebrain = \\\n",
    "            DataManager.load_transformed_volume_v2(alignment_spec=midsagittal_alignment_spec, \n",
    "                                                   structure=name_s,\n",
    "                                                  resolution='10.0um',\n",
    "                                                  return_origin_instead_of_bbox=False)        \n",
    "    except:\n",
    "        sys.stderr.write(\"Cannot load moving brain for %s\\n\" % name_s)\n",
    "        continue\n",
    "            \n",
    "            \n",
    "    transformed_vol, transformed_vol_bbox_wrt_fixedWholebrain = transform_volume_by_alignment_parameters(volume, bbox=bbox_wrt_fixedWholebrain,\n",
    "                                                                                                        transform_parameters=transform_parameters)\n",
    "    print transformed_vol.shape, transformed_vol_bbox_wrt_fixedWholebrain\n",
    "    DataManager.save_transformed_volume(volume=transformed_vol, \n",
    "                                        bbox=transformed_vol_bbox_wrt_fixedWholebrain, \n",
    "                                        alignment_spec=affine_alignment_spec, \n",
    "                                        resolution='%.1fum' % affine_aligner_parameters['resolution_um'], \n",
    "                                        structure=name_s)"
   ]
  },
  {
   "cell_type": "markdown",
   "metadata": {},
   "source": [
    "# Temp"
   ]
  },
  {
   "cell_type": "code",
   "execution_count": 15,
   "metadata": {
    "collapsed": true
   },
   "outputs": [],
   "source": [
    "volume, bbox_wrt_fixedWholebrain = \\\n",
    "    DataManager.load_transformed_volume_v2(alignment_spec=midsagittal_alignment_spec, \n",
    "                                           structure=name_s,\n",
    "                                          resolution='10.0um',\n",
    "                                          return_origin_instead_of_bbox=False)     "
   ]
  },
  {
   "cell_type": "code",
   "execution_count": 12,
   "metadata": {
    "scrolled": true
   },
   "outputs": [
    {
     "name": "stdout",
     "output_type": "stream",
     "text": [
      "(76, 71, 49) [1098. 1168.  535.  610.  305.  353.]\n",
      "aws s3 cp \"/home/yuncong/CSHL_volumes/MD594/MD594_10.0um_annotationAsScoreVolume_warp9_MD589_10.0um_annotationAsScoreVolume_10.0um/score_volumes/MD594_10.0um_annotationAsScoreVolume_warp9_MD589_10.0um_annotationAsScoreVolume_10.0um_5N_L.bp\" \"s3://mousebrainatlas-data/CSHL_volumes/MD594/MD594_10.0um_annotationAsScoreVolume_warp9_MD589_10.0um_annotationAsScoreVolume_10.0um/score_volumes/MD594_10.0um_annotationAsScoreVolume_warp9_MD589_10.0um_annotationAsScoreVolume_10.0um_5N_L.bp\"\n",
      "0\n",
      "aws s3 cp \"/home/yuncong/CSHL_volumes/MD594/MD594_10.0um_annotationAsScoreVolume_warp9_MD589_10.0um_annotationAsScoreVolume_10.0um/score_volumes/MD594_10.0um_annotationAsScoreVolume_warp9_MD589_10.0um_annotationAsScoreVolume_10.0um_5N_L_bbox_wrt_fixedWholebrain.txt\" \"s3://mousebrainatlas-data/CSHL_volumes/MD594/MD594_10.0um_annotationAsScoreVolume_warp9_MD589_10.0um_annotationAsScoreVolume_10.0um/score_volumes/MD594_10.0um_annotationAsScoreVolume_warp9_MD589_10.0um_annotationAsScoreVolume_10.0um_5N_L_bbox_wrt_fixedWholebrain.txt\"\n",
      "0\n",
      "(74, 65, 48) [1105. 1169.  520.  593.  569.  616.]\n",
      "aws s3 cp \"/home/yuncong/CSHL_volumes/MD594/MD594_10.0um_annotationAsScoreVolume_warp9_MD589_10.0um_annotationAsScoreVolume_10.0um/score_volumes/MD594_10.0um_annotationAsScoreVolume_warp9_MD589_10.0um_annotationAsScoreVolume_10.0um_5N_R.bp\" \"s3://mousebrainatlas-data/CSHL_volumes/MD594/MD594_10.0um_annotationAsScoreVolume_warp9_MD589_10.0um_annotationAsScoreVolume_10.0um/score_volumes/MD594_10.0um_annotationAsScoreVolume_warp9_MD589_10.0um_annotationAsScoreVolume_10.0um_5N_R.bp\"\n",
      "0\n",
      "aws s3 cp \"/home/yuncong/CSHL_volumes/MD594/MD594_10.0um_annotationAsScoreVolume_warp9_MD589_10.0um_annotationAsScoreVolume_10.0um/score_volumes/MD594_10.0um_annotationAsScoreVolume_warp9_MD589_10.0um_annotationAsScoreVolume_10.0um_5N_R_bbox_wrt_fixedWholebrain.txt\" \"s3://mousebrainatlas-data/CSHL_volumes/MD594/MD594_10.0um_annotationAsScoreVolume_warp9_MD589_10.0um_annotationAsScoreVolume_10.0um/score_volumes/MD594_10.0um_annotationAsScoreVolume_warp9_MD589_10.0um_annotationAsScoreVolume_10.0um_5N_R_bbox_wrt_fixedWholebrain.txt\"\n",
      "0\n",
      "(25, 21, 27) [1180. 1200.  554.  578.  420.  446.]\n",
      "aws s3 cp \"/home/yuncong/CSHL_volumes/MD594/MD594_10.0um_annotationAsScoreVolume_warp9_MD589_10.0um_annotationAsScoreVolume_10.0um/score_volumes/MD594_10.0um_annotationAsScoreVolume_warp9_MD589_10.0um_annotationAsScoreVolume_10.0um_6N_L.bp\" \"s3://mousebrainatlas-data/CSHL_volumes/MD594/MD594_10.0um_annotationAsScoreVolume_warp9_MD589_10.0um_annotationAsScoreVolume_10.0um/score_volumes/MD594_10.0um_annotationAsScoreVolume_warp9_MD589_10.0um_annotationAsScoreVolume_10.0um_6N_L.bp\"\n",
      "0\n",
      "aws s3 cp \"/home/yuncong/CSHL_volumes/MD594/MD594_10.0um_annotationAsScoreVolume_warp9_MD589_10.0um_annotationAsScoreVolume_10.0um/score_volumes/MD594_10.0um_annotationAsScoreVolume_warp9_MD589_10.0um_annotationAsScoreVolume_10.0um_6N_L_bbox_wrt_fixedWholebrain.txt\" \"s3://mousebrainatlas-data/CSHL_volumes/MD594/MD594_10.0um_annotationAsScoreVolume_warp9_MD589_10.0um_annotationAsScoreVolume_10.0um/score_volumes/MD594_10.0um_annotationAsScoreVolume_warp9_MD589_10.0um_annotationAsScoreVolume_10.0um_6N_L_bbox_wrt_fixedWholebrain.txt\"\n",
      "0\n",
      "(20, 23, 26) [1184. 1206.  562.  581.  485.  510.]\n",
      "aws s3 cp \"/home/yuncong/CSHL_volumes/MD594/MD594_10.0um_annotationAsScoreVolume_warp9_MD589_10.0um_annotationAsScoreVolume_10.0um/score_volumes/MD594_10.0um_annotationAsScoreVolume_warp9_MD589_10.0um_annotationAsScoreVolume_10.0um_6N_R.bp\" \"s3://mousebrainatlas-data/CSHL_volumes/MD594/MD594_10.0um_annotationAsScoreVolume_warp9_MD589_10.0um_annotationAsScoreVolume_10.0um/score_volumes/MD594_10.0um_annotationAsScoreVolume_warp9_MD589_10.0um_annotationAsScoreVolume_10.0um_6N_R.bp\"\n",
      "0\n",
      "aws s3 cp \"/home/yuncong/CSHL_volumes/MD594/MD594_10.0um_annotationAsScoreVolume_warp9_MD589_10.0um_annotationAsScoreVolume_10.0um/score_volumes/MD594_10.0um_annotationAsScoreVolume_warp9_MD589_10.0um_annotationAsScoreVolume_10.0um_6N_R_bbox_wrt_fixedWholebrain.txt\" \"s3://mousebrainatlas-data/CSHL_volumes/MD594/MD594_10.0um_annotationAsScoreVolume_warp9_MD589_10.0um_annotationAsScoreVolume_10.0um/score_volumes/MD594_10.0um_annotationAsScoreVolume_warp9_MD589_10.0um_annotationAsScoreVolume_10.0um_6N_R_bbox_wrt_fixedWholebrain.txt\"\n",
      "0\n",
      "(63, 96, 95) [1162. 1257.  642.  704.  307.  401.]\n",
      "aws s3 cp \"/home/yuncong/CSHL_volumes/MD594/MD594_10.0um_annotationAsScoreVolume_warp9_MD589_10.0um_annotationAsScoreVolume_10.0um/score_volumes/MD594_10.0um_annotationAsScoreVolume_warp9_MD589_10.0um_annotationAsScoreVolume_10.0um_7N_L.bp\" \"s3://mousebrainatlas-data/CSHL_volumes/MD594/MD594_10.0um_annotationAsScoreVolume_warp9_MD589_10.0um_annotationAsScoreVolume_10.0um/score_volumes/MD594_10.0um_annotationAsScoreVolume_warp9_MD589_10.0um_annotationAsScoreVolume_10.0um_7N_L.bp\"\n",
      "0\n",
      "aws s3 cp \"/home/yuncong/CSHL_volumes/MD594/MD594_10.0um_annotationAsScoreVolume_warp9_MD589_10.0um_annotationAsScoreVolume_10.0um/score_volumes/MD594_10.0um_annotationAsScoreVolume_warp9_MD589_10.0um_annotationAsScoreVolume_10.0um_7N_L_bbox_wrt_fixedWholebrain.txt\" \"s3://mousebrainatlas-data/CSHL_volumes/MD594/MD594_10.0um_annotationAsScoreVolume_warp9_MD589_10.0um_annotationAsScoreVolume_10.0um/score_volumes/MD594_10.0um_annotationAsScoreVolume_warp9_MD589_10.0um_annotationAsScoreVolume_10.0um_7N_L_bbox_wrt_fixedWholebrain.txt\"\n",
      "0\n",
      "(73, 92, 78) [1167. 1258.  639.  711.  539.  616.]\n",
      "aws s3 cp \"/home/yuncong/CSHL_volumes/MD594/MD594_10.0um_annotationAsScoreVolume_warp9_MD589_10.0um_annotationAsScoreVolume_10.0um/score_volumes/MD594_10.0um_annotationAsScoreVolume_warp9_MD589_10.0um_annotationAsScoreVolume_10.0um_7N_R.bp\" \"s3://mousebrainatlas-data/CSHL_volumes/MD594/MD594_10.0um_annotationAsScoreVolume_warp9_MD589_10.0um_annotationAsScoreVolume_10.0um/score_volumes/MD594_10.0um_annotationAsScoreVolume_warp9_MD589_10.0um_annotationAsScoreVolume_10.0um_7N_R.bp\"\n",
      "0\n",
      "aws s3 cp \"/home/yuncong/CSHL_volumes/MD594/MD594_10.0um_annotationAsScoreVolume_warp9_MD589_10.0um_annotationAsScoreVolume_10.0um/score_volumes/MD594_10.0um_annotationAsScoreVolume_warp9_MD589_10.0um_annotationAsScoreVolume_10.0um_7N_R_bbox_wrt_fixedWholebrain.txt\" \"s3://mousebrainatlas-data/CSHL_volumes/MD594/MD594_10.0um_annotationAsScoreVolume_warp9_MD589_10.0um_annotationAsScoreVolume_10.0um/score_volumes/MD594_10.0um_annotationAsScoreVolume_warp9_MD589_10.0um_annotationAsScoreVolume_10.0um_7N_R_bbox_wrt_fixedWholebrain.txt\"\n",
      "0\n",
      "(120, 110, 125) [1108. 1217.  548.  667.  302.  426.]\n",
      "aws s3 cp \"/home/yuncong/CSHL_volumes/MD594/MD594_10.0um_annotationAsScoreVolume_warp9_MD589_10.0um_annotationAsScoreVolume_10.0um/score_volumes/MD594_10.0um_annotationAsScoreVolume_warp9_MD589_10.0um_annotationAsScoreVolume_10.0um_7n_L.bp\" \"s3://mousebrainatlas-data/CSHL_volumes/MD594/MD594_10.0um_annotationAsScoreVolume_warp9_MD589_10.0um_annotationAsScoreVolume_10.0um/score_volumes/MD594_10.0um_annotationAsScoreVolume_warp9_MD589_10.0um_annotationAsScoreVolume_10.0um_7n_L.bp\"\n",
      "0\n",
      "aws s3 cp \"/home/yuncong/CSHL_volumes/MD594/MD594_10.0um_annotationAsScoreVolume_warp9_MD589_10.0um_annotationAsScoreVolume_10.0um/score_volumes/MD594_10.0um_annotationAsScoreVolume_warp9_MD589_10.0um_annotationAsScoreVolume_10.0um_7n_L_bbox_wrt_fixedWholebrain.txt\" \"s3://mousebrainatlas-data/CSHL_volumes/MD594/MD594_10.0um_annotationAsScoreVolume_warp9_MD589_10.0um_annotationAsScoreVolume_10.0um/score_volumes/MD594_10.0um_annotationAsScoreVolume_warp9_MD589_10.0um_annotationAsScoreVolume_10.0um_7n_L_bbox_wrt_fixedWholebrain.txt\"\n",
      "0\n",
      "(107, 99, 135) [1127. 1225.  546.  652.  498.  632.]\n",
      "aws s3 cp \"/home/yuncong/CSHL_volumes/MD594/MD594_10.0um_annotationAsScoreVolume_warp9_MD589_10.0um_annotationAsScoreVolume_10.0um/score_volumes/MD594_10.0um_annotationAsScoreVolume_warp9_MD589_10.0um_annotationAsScoreVolume_10.0um_7n_R.bp\" \"s3://mousebrainatlas-data/CSHL_volumes/MD594/MD594_10.0um_annotationAsScoreVolume_warp9_MD589_10.0um_annotationAsScoreVolume_10.0um/score_volumes/MD594_10.0um_annotationAsScoreVolume_warp9_MD589_10.0um_annotationAsScoreVolume_10.0um_7n_R.bp\"\n",
      "0\n",
      "aws s3 cp \"/home/yuncong/CSHL_volumes/MD594/MD594_10.0um_annotationAsScoreVolume_warp9_MD589_10.0um_annotationAsScoreVolume_10.0um/score_volumes/MD594_10.0um_annotationAsScoreVolume_warp9_MD589_10.0um_annotationAsScoreVolume_10.0um_7n_R_bbox_wrt_fixedWholebrain.txt\" \"s3://mousebrainatlas-data/CSHL_volumes/MD594/MD594_10.0um_annotationAsScoreVolume_warp9_MD589_10.0um_annotationAsScoreVolume_10.0um/score_volumes/MD594_10.0um_annotationAsScoreVolume_warp9_MD589_10.0um_annotationAsScoreVolume_10.0um_7n_R_bbox_wrt_fixedWholebrain.txt\"\n"
     ]
    },
    {
     "name": "stdout",
     "output_type": "stream",
     "text": [
      "0\n",
      "(21, 50, 14) [1269. 1318.  651.  671.  332.  345.]\n",
      "aws s3 cp \"/home/yuncong/CSHL_volumes/MD594/MD594_10.0um_annotationAsScoreVolume_warp9_MD589_10.0um_annotationAsScoreVolume_10.0um/score_volumes/MD594_10.0um_annotationAsScoreVolume_warp9_MD589_10.0um_annotationAsScoreVolume_10.0um_Amb_L.bp\" \"s3://mousebrainatlas-data/CSHL_volumes/MD594/MD594_10.0um_annotationAsScoreVolume_warp9_MD589_10.0um_annotationAsScoreVolume_10.0um/score_volumes/MD594_10.0um_annotationAsScoreVolume_warp9_MD589_10.0um_annotationAsScoreVolume_10.0um_Amb_L.bp\"\n",
      "0\n",
      "aws s3 cp \"/home/yuncong/CSHL_volumes/MD594/MD594_10.0um_annotationAsScoreVolume_warp9_MD589_10.0um_annotationAsScoreVolume_10.0um/score_volumes/MD594_10.0um_annotationAsScoreVolume_warp9_MD589_10.0um_annotationAsScoreVolume_10.0um_Amb_L_bbox_wrt_fixedWholebrain.txt\" \"s3://mousebrainatlas-data/CSHL_volumes/MD594/MD594_10.0um_annotationAsScoreVolume_warp9_MD589_10.0um_annotationAsScoreVolume_10.0um/score_volumes/MD594_10.0um_annotationAsScoreVolume_warp9_MD589_10.0um_annotationAsScoreVolume_10.0um_Amb_L_bbox_wrt_fixedWholebrain.txt\"\n",
      "0\n",
      "(22, 48, 14) [1276. 1323.  650.  671.  572.  585.]\n",
      "aws s3 cp \"/home/yuncong/CSHL_volumes/MD594/MD594_10.0um_annotationAsScoreVolume_warp9_MD589_10.0um_annotationAsScoreVolume_10.0um/score_volumes/MD594_10.0um_annotationAsScoreVolume_warp9_MD589_10.0um_annotationAsScoreVolume_10.0um_Amb_R.bp\" \"s3://mousebrainatlas-data/CSHL_volumes/MD594/MD594_10.0um_annotationAsScoreVolume_warp9_MD589_10.0um_annotationAsScoreVolume_10.0um/score_volumes/MD594_10.0um_annotationAsScoreVolume_warp9_MD589_10.0um_annotationAsScoreVolume_10.0um_Amb_R.bp\"\n",
      "0\n",
      "aws s3 cp \"/home/yuncong/CSHL_volumes/MD594/MD594_10.0um_annotationAsScoreVolume_warp9_MD589_10.0um_annotationAsScoreVolume_10.0um/score_volumes/MD594_10.0um_annotationAsScoreVolume_warp9_MD589_10.0um_annotationAsScoreVolume_10.0um_Amb_R_bbox_wrt_fixedWholebrain.txt\" \"s3://mousebrainatlas-data/CSHL_volumes/MD594/MD594_10.0um_annotationAsScoreVolume_warp9_MD589_10.0um_annotationAsScoreVolume_10.0um/score_volumes/MD594_10.0um_annotationAsScoreVolume_warp9_MD589_10.0um_annotationAsScoreVolume_10.0um_Amb_R_bbox_wrt_fixedWholebrain.txt\"\n",
      "0\n",
      "(59, 80, 32) [1122. 1201.  476.  534.  363.  394.]\n",
      "aws s3 cp \"/home/yuncong/CSHL_volumes/MD594/MD594_10.0um_annotationAsScoreVolume_warp9_MD589_10.0um_annotationAsScoreVolume_10.0um/score_volumes/MD594_10.0um_annotationAsScoreVolume_warp9_MD589_10.0um_annotationAsScoreVolume_10.0um_LC_L.bp\" \"s3://mousebrainatlas-data/CSHL_volumes/MD594/MD594_10.0um_annotationAsScoreVolume_warp9_MD589_10.0um_annotationAsScoreVolume_10.0um/score_volumes/MD594_10.0um_annotationAsScoreVolume_warp9_MD589_10.0um_annotationAsScoreVolume_10.0um_LC_L.bp\"\n",
      "0\n",
      "aws s3 cp \"/home/yuncong/CSHL_volumes/MD594/MD594_10.0um_annotationAsScoreVolume_warp9_MD589_10.0um_annotationAsScoreVolume_10.0um/score_volumes/MD594_10.0um_annotationAsScoreVolume_warp9_MD589_10.0um_annotationAsScoreVolume_10.0um_LC_L_bbox_wrt_fixedWholebrain.txt\" \"s3://mousebrainatlas-data/CSHL_volumes/MD594/MD594_10.0um_annotationAsScoreVolume_warp9_MD589_10.0um_annotationAsScoreVolume_10.0um/score_volumes/MD594_10.0um_annotationAsScoreVolume_warp9_MD589_10.0um_annotationAsScoreVolume_10.0um_LC_L_bbox_wrt_fixedWholebrain.txt\"\n",
      "0\n",
      "(55, 84, 29) [1131. 1214.  475.  529.  524.  552.]\n",
      "aws s3 cp \"/home/yuncong/CSHL_volumes/MD594/MD594_10.0um_annotationAsScoreVolume_warp9_MD589_10.0um_annotationAsScoreVolume_10.0um/score_volumes/MD594_10.0um_annotationAsScoreVolume_warp9_MD589_10.0um_annotationAsScoreVolume_10.0um_LC_R.bp\" \"s3://mousebrainatlas-data/CSHL_volumes/MD594/MD594_10.0um_annotationAsScoreVolume_warp9_MD589_10.0um_annotationAsScoreVolume_10.0um/score_volumes/MD594_10.0um_annotationAsScoreVolume_warp9_MD589_10.0um_annotationAsScoreVolume_10.0um_LC_R.bp\"\n",
      "0\n",
      "aws s3 cp \"/home/yuncong/CSHL_volumes/MD594/MD594_10.0um_annotationAsScoreVolume_warp9_MD589_10.0um_annotationAsScoreVolume_10.0um/score_volumes/MD594_10.0um_annotationAsScoreVolume_warp9_MD589_10.0um_annotationAsScoreVolume_10.0um_LC_R_bbox_wrt_fixedWholebrain.txt\" \"s3://mousebrainatlas-data/CSHL_volumes/MD594/MD594_10.0um_annotationAsScoreVolume_warp9_MD589_10.0um_annotationAsScoreVolume_10.0um/score_volumes/MD594_10.0um_annotationAsScoreVolume_warp9_MD589_10.0um_annotationAsScoreVolume_10.0um_LC_R_bbox_wrt_fixedWholebrain.txt\"\n",
      "0\n",
      "(97, 129, 76) [1310. 1438.  661.  757.  312.  387.]\n",
      "aws s3 cp \"/home/yuncong/CSHL_volumes/MD594/MD594_10.0um_annotationAsScoreVolume_warp9_MD589_10.0um_annotationAsScoreVolume_10.0um/score_volumes/MD594_10.0um_annotationAsScoreVolume_warp9_MD589_10.0um_annotationAsScoreVolume_10.0um_LRt_L.bp\" \"s3://mousebrainatlas-data/CSHL_volumes/MD594/MD594_10.0um_annotationAsScoreVolume_warp9_MD589_10.0um_annotationAsScoreVolume_10.0um/score_volumes/MD594_10.0um_annotationAsScoreVolume_warp9_MD589_10.0um_annotationAsScoreVolume_10.0um_LRt_L.bp\"\n",
      "0\n",
      "aws s3 cp \"/home/yuncong/CSHL_volumes/MD594/MD594_10.0um_annotationAsScoreVolume_warp9_MD589_10.0um_annotationAsScoreVolume_10.0um/score_volumes/MD594_10.0um_annotationAsScoreVolume_warp9_MD589_10.0um_annotationAsScoreVolume_10.0um_LRt_L_bbox_wrt_fixedWholebrain.txt\" \"s3://mousebrainatlas-data/CSHL_volumes/MD594/MD594_10.0um_annotationAsScoreVolume_warp9_MD589_10.0um_annotationAsScoreVolume_10.0um/score_volumes/MD594_10.0um_annotationAsScoreVolume_warp9_MD589_10.0um_annotationAsScoreVolume_10.0um_LRt_L_bbox_wrt_fixedWholebrain.txt\"\n",
      "0\n",
      "(108, 125, 78) [1312. 1436.  635.  742.  528.  605.]\n",
      "aws s3 cp \"/home/yuncong/CSHL_volumes/MD594/MD594_10.0um_annotationAsScoreVolume_warp9_MD589_10.0um_annotationAsScoreVolume_10.0um/score_volumes/MD594_10.0um_annotationAsScoreVolume_warp9_MD589_10.0um_annotationAsScoreVolume_10.0um_LRt_R.bp\" \"s3://mousebrainatlas-data/CSHL_volumes/MD594/MD594_10.0um_annotationAsScoreVolume_warp9_MD589_10.0um_annotationAsScoreVolume_10.0um/score_volumes/MD594_10.0um_annotationAsScoreVolume_warp9_MD589_10.0um_annotationAsScoreVolume_10.0um_LRt_R.bp\"\n",
      "0\n",
      "aws s3 cp \"/home/yuncong/CSHL_volumes/MD594/MD594_10.0um_annotationAsScoreVolume_warp9_MD589_10.0um_annotationAsScoreVolume_10.0um/score_volumes/MD594_10.0um_annotationAsScoreVolume_warp9_MD589_10.0um_annotationAsScoreVolume_10.0um_LRt_R_bbox_wrt_fixedWholebrain.txt\" \"s3://mousebrainatlas-data/CSHL_volumes/MD594/MD594_10.0um_annotationAsScoreVolume_warp9_MD589_10.0um_annotationAsScoreVolume_10.0um/score_volumes/MD594_10.0um_annotationAsScoreVolume_warp9_MD589_10.0um_annotationAsScoreVolume_10.0um_LRt_R_bbox_wrt_fixedWholebrain.txt\"\n",
      "0\n",
      "(93, 101, 110) [ 960. 1060.  604.  696.  355.  464.]\n",
      "aws s3 cp \"/home/yuncong/CSHL_volumes/MD594/MD594_10.0um_annotationAsScoreVolume_warp9_MD589_10.0um_annotationAsScoreVolume_10.0um/score_volumes/MD594_10.0um_annotationAsScoreVolume_warp9_MD589_10.0um_annotationAsScoreVolume_10.0um_Pn_L.bp\" \"s3://mousebrainatlas-data/CSHL_volumes/MD594/MD594_10.0um_annotationAsScoreVolume_warp9_MD589_10.0um_annotationAsScoreVolume_10.0um/score_volumes/MD594_10.0um_annotationAsScoreVolume_warp9_MD589_10.0um_annotationAsScoreVolume_10.0um_Pn_L.bp\"\n",
      "0\n",
      "aws s3 cp \"/home/yuncong/CSHL_volumes/MD594/MD594_10.0um_annotationAsScoreVolume_warp9_MD589_10.0um_annotationAsScoreVolume_10.0um/score_volumes/MD594_10.0um_annotationAsScoreVolume_warp9_MD589_10.0um_annotationAsScoreVolume_10.0um_Pn_L_bbox_wrt_fixedWholebrain.txt\" \"s3://mousebrainatlas-data/CSHL_volumes/MD594/MD594_10.0um_annotationAsScoreVolume_warp9_MD589_10.0um_annotationAsScoreVolume_10.0um/score_volumes/MD594_10.0um_annotationAsScoreVolume_warp9_MD589_10.0um_annotationAsScoreVolume_10.0um_Pn_L_bbox_wrt_fixedWholebrain.txt\"\n",
      "0\n",
      "(91, 95, 90) [ 963. 1057.  607.  697.  502.  591.]\n",
      "aws s3 cp \"/home/yuncong/CSHL_volumes/MD594/MD594_10.0um_annotationAsScoreVolume_warp9_MD589_10.0um_annotationAsScoreVolume_10.0um/score_volumes/MD594_10.0um_annotationAsScoreVolume_warp9_MD589_10.0um_annotationAsScoreVolume_10.0um_Pn_R.bp\" \"s3://mousebrainatlas-data/CSHL_volumes/MD594/MD594_10.0um_annotationAsScoreVolume_warp9_MD589_10.0um_annotationAsScoreVolume_10.0um/score_volumes/MD594_10.0um_annotationAsScoreVolume_warp9_MD589_10.0um_annotationAsScoreVolume_10.0um_Pn_R.bp\"\n",
      "0\n",
      "aws s3 cp \"/home/yuncong/CSHL_volumes/MD594/MD594_10.0um_annotationAsScoreVolume_warp9_MD589_10.0um_annotationAsScoreVolume_10.0um/score_volumes/MD594_10.0um_annotationAsScoreVolume_warp9_MD589_10.0um_annotationAsScoreVolume_10.0um_Pn_R_bbox_wrt_fixedWholebrain.txt\" \"s3://mousebrainatlas-data/CSHL_volumes/MD594/MD594_10.0um_annotationAsScoreVolume_warp9_MD589_10.0um_annotationAsScoreVolume_10.0um/score_volumes/MD594_10.0um_annotationAsScoreVolume_warp9_MD589_10.0um_annotationAsScoreVolume_10.0um_Pn_R_bbox_wrt_fixedWholebrain.txt\"\n"
     ]
    },
    {
     "name": "stdout",
     "output_type": "stream",
     "text": [
      "0\n",
      "(42, 86, 42) [1064. 1149.  658.  699.  399.  440.]\n",
      "aws s3 cp \"/home/yuncong/CSHL_volumes/MD594/MD594_10.0um_annotationAsScoreVolume_warp9_MD589_10.0um_annotationAsScoreVolume_10.0um/score_volumes/MD594_10.0um_annotationAsScoreVolume_warp9_MD589_10.0um_annotationAsScoreVolume_10.0um_Tz_L.bp\" \"s3://mousebrainatlas-data/CSHL_volumes/MD594/MD594_10.0um_annotationAsScoreVolume_warp9_MD589_10.0um_annotationAsScoreVolume_10.0um/score_volumes/MD594_10.0um_annotationAsScoreVolume_warp9_MD589_10.0um_annotationAsScoreVolume_10.0um_Tz_L.bp\"\n",
      "0\n",
      "aws s3 cp \"/home/yuncong/CSHL_volumes/MD594/MD594_10.0um_annotationAsScoreVolume_warp9_MD589_10.0um_annotationAsScoreVolume_10.0um/score_volumes/MD594_10.0um_annotationAsScoreVolume_warp9_MD589_10.0um_annotationAsScoreVolume_10.0um_Tz_L_bbox_wrt_fixedWholebrain.txt\" \"s3://mousebrainatlas-data/CSHL_volumes/MD594/MD594_10.0um_annotationAsScoreVolume_warp9_MD589_10.0um_annotationAsScoreVolume_10.0um/score_volumes/MD594_10.0um_annotationAsScoreVolume_warp9_MD589_10.0um_annotationAsScoreVolume_10.0um_Tz_L_bbox_wrt_fixedWholebrain.txt\"\n",
      "0\n",
      "(40, 88, 55) [1065. 1152.  663.  702.  493.  547.]\n",
      "aws s3 cp \"/home/yuncong/CSHL_volumes/MD594/MD594_10.0um_annotationAsScoreVolume_warp9_MD589_10.0um_annotationAsScoreVolume_10.0um/score_volumes/MD594_10.0um_annotationAsScoreVolume_warp9_MD589_10.0um_annotationAsScoreVolume_10.0um_Tz_R.bp\" \"s3://mousebrainatlas-data/CSHL_volumes/MD594/MD594_10.0um_annotationAsScoreVolume_warp9_MD589_10.0um_annotationAsScoreVolume_10.0um/score_volumes/MD594_10.0um_annotationAsScoreVolume_warp9_MD589_10.0um_annotationAsScoreVolume_10.0um_Tz_R.bp\"\n",
      "0\n",
      "aws s3 cp \"/home/yuncong/CSHL_volumes/MD594/MD594_10.0um_annotationAsScoreVolume_warp9_MD589_10.0um_annotationAsScoreVolume_10.0um/score_volumes/MD594_10.0um_annotationAsScoreVolume_warp9_MD589_10.0um_annotationAsScoreVolume_10.0um_Tz_R_bbox_wrt_fixedWholebrain.txt\" \"s3://mousebrainatlas-data/CSHL_volumes/MD594/MD594_10.0um_annotationAsScoreVolume_warp9_MD589_10.0um_annotationAsScoreVolume_10.0um/score_volumes/MD594_10.0um_annotationAsScoreVolume_warp9_MD589_10.0um_annotationAsScoreVolume_10.0um_Tz_R_bbox_wrt_fixedWholebrain.txt\"\n",
      "0\n",
      "(189, 79, 82) [1020. 1098.  488.  676.  271.  352.]\n",
      "aws s3 cp \"/home/yuncong/CSHL_volumes/MD594/MD594_10.0um_annotationAsScoreVolume_warp9_MD589_10.0um_annotationAsScoreVolume_10.0um/score_volumes/MD594_10.0um_annotationAsScoreVolume_warp9_MD589_10.0um_annotationAsScoreVolume_10.0um_VLL_L.bp\" \"s3://mousebrainatlas-data/CSHL_volumes/MD594/MD594_10.0um_annotationAsScoreVolume_warp9_MD589_10.0um_annotationAsScoreVolume_10.0um/score_volumes/MD594_10.0um_annotationAsScoreVolume_warp9_MD589_10.0um_annotationAsScoreVolume_10.0um_VLL_L.bp\"\n",
      "0\n",
      "aws s3 cp \"/home/yuncong/CSHL_volumes/MD594/MD594_10.0um_annotationAsScoreVolume_warp9_MD589_10.0um_annotationAsScoreVolume_10.0um/score_volumes/MD594_10.0um_annotationAsScoreVolume_warp9_MD589_10.0um_annotationAsScoreVolume_10.0um_VLL_L_bbox_wrt_fixedWholebrain.txt\" \"s3://mousebrainatlas-data/CSHL_volumes/MD594/MD594_10.0um_annotationAsScoreVolume_warp9_MD589_10.0um_annotationAsScoreVolume_10.0um/score_volumes/MD594_10.0um_annotationAsScoreVolume_warp9_MD589_10.0um_annotationAsScoreVolume_10.0um_VLL_L_bbox_wrt_fixedWholebrain.txt\"\n",
      "0\n",
      "(188, 78, 58) [1024. 1101.  478.  665.  589.  646.]\n",
      "aws s3 cp \"/home/yuncong/CSHL_volumes/MD594/MD594_10.0um_annotationAsScoreVolume_warp9_MD589_10.0um_annotationAsScoreVolume_10.0um/score_volumes/MD594_10.0um_annotationAsScoreVolume_warp9_MD589_10.0um_annotationAsScoreVolume_10.0um_VLL_R.bp\" \"s3://mousebrainatlas-data/CSHL_volumes/MD594/MD594_10.0um_annotationAsScoreVolume_warp9_MD589_10.0um_annotationAsScoreVolume_10.0um/score_volumes/MD594_10.0um_annotationAsScoreVolume_warp9_MD589_10.0um_annotationAsScoreVolume_10.0um_VLL_R.bp\"\n",
      "0\n",
      "aws s3 cp \"/home/yuncong/CSHL_volumes/MD594/MD594_10.0um_annotationAsScoreVolume_warp9_MD589_10.0um_annotationAsScoreVolume_10.0um/score_volumes/MD594_10.0um_annotationAsScoreVolume_warp9_MD589_10.0um_annotationAsScoreVolume_10.0um_VLL_R_bbox_wrt_fixedWholebrain.txt\" \"s3://mousebrainatlas-data/CSHL_volumes/MD594/MD594_10.0um_annotationAsScoreVolume_warp9_MD589_10.0um_annotationAsScoreVolume_10.0um/score_volumes/MD594_10.0um_annotationAsScoreVolume_warp9_MD589_10.0um_annotationAsScoreVolume_10.0um_VLL_R_bbox_wrt_fixedWholebrain.txt\"\n",
      "0\n",
      "(59, 68, 57) [ 965. 1032.  479.  537.  389.  445.]\n",
      "aws s3 cp \"/home/yuncong/CSHL_volumes/MD594/MD594_10.0um_annotationAsScoreVolume_warp9_MD589_10.0um_annotationAsScoreVolume_10.0um/score_volumes/MD594_10.0um_annotationAsScoreVolume_warp9_MD589_10.0um_annotationAsScoreVolume_10.0um_RMC_L.bp\" \"s3://mousebrainatlas-data/CSHL_volumes/MD594/MD594_10.0um_annotationAsScoreVolume_warp9_MD589_10.0um_annotationAsScoreVolume_10.0um/score_volumes/MD594_10.0um_annotationAsScoreVolume_warp9_MD589_10.0um_annotationAsScoreVolume_10.0um_RMC_L.bp\"\n",
      "0\n",
      "aws s3 cp \"/home/yuncong/CSHL_volumes/MD594/MD594_10.0um_annotationAsScoreVolume_warp9_MD589_10.0um_annotationAsScoreVolume_10.0um/score_volumes/MD594_10.0um_annotationAsScoreVolume_warp9_MD589_10.0um_annotationAsScoreVolume_10.0um_RMC_L_bbox_wrt_fixedWholebrain.txt\" \"s3://mousebrainatlas-data/CSHL_volumes/MD594/MD594_10.0um_annotationAsScoreVolume_warp9_MD589_10.0um_annotationAsScoreVolume_10.0um/score_volumes/MD594_10.0um_annotationAsScoreVolume_warp9_MD589_10.0um_annotationAsScoreVolume_10.0um_RMC_L_bbox_wrt_fixedWholebrain.txt\"\n",
      "0\n",
      "(53, 82, 54) [ 947. 1028.  481.  533.  489.  542.]\n",
      "aws s3 cp \"/home/yuncong/CSHL_volumes/MD594/MD594_10.0um_annotationAsScoreVolume_warp9_MD589_10.0um_annotationAsScoreVolume_10.0um/score_volumes/MD594_10.0um_annotationAsScoreVolume_warp9_MD589_10.0um_annotationAsScoreVolume_10.0um_RMC_R.bp\" \"s3://mousebrainatlas-data/CSHL_volumes/MD594/MD594_10.0um_annotationAsScoreVolume_warp9_MD589_10.0um_annotationAsScoreVolume_10.0um/score_volumes/MD594_10.0um_annotationAsScoreVolume_warp9_MD589_10.0um_annotationAsScoreVolume_10.0um_RMC_R.bp\"\n",
      "0\n",
      "aws s3 cp \"/home/yuncong/CSHL_volumes/MD594/MD594_10.0um_annotationAsScoreVolume_warp9_MD589_10.0um_annotationAsScoreVolume_10.0um/score_volumes/MD594_10.0um_annotationAsScoreVolume_warp9_MD589_10.0um_annotationAsScoreVolume_10.0um_RMC_R_bbox_wrt_fixedWholebrain.txt\" \"s3://mousebrainatlas-data/CSHL_volumes/MD594/MD594_10.0um_annotationAsScoreVolume_warp9_MD589_10.0um_annotationAsScoreVolume_10.0um/score_volumes/MD594_10.0um_annotationAsScoreVolume_warp9_MD589_10.0um_annotationAsScoreVolume_10.0um_RMC_R_bbox_wrt_fixedWholebrain.txt\"\n",
      "0\n",
      "(98, 70, 100) [909. 978. 507. 604. 307. 406.]\n",
      "aws s3 cp \"/home/yuncong/CSHL_volumes/MD594/MD594_10.0um_annotationAsScoreVolume_warp9_MD589_10.0um_annotationAsScoreVolume_10.0um/score_volumes/MD594_10.0um_annotationAsScoreVolume_warp9_MD589_10.0um_annotationAsScoreVolume_10.0um_SNC_L.bp\" \"s3://mousebrainatlas-data/CSHL_volumes/MD594/MD594_10.0um_annotationAsScoreVolume_warp9_MD589_10.0um_annotationAsScoreVolume_10.0um/score_volumes/MD594_10.0um_annotationAsScoreVolume_warp9_MD589_10.0um_annotationAsScoreVolume_10.0um_SNC_L.bp\"\n",
      "0\n",
      "aws s3 cp \"/home/yuncong/CSHL_volumes/MD594/MD594_10.0um_annotationAsScoreVolume_warp9_MD589_10.0um_annotationAsScoreVolume_10.0um/score_volumes/MD594_10.0um_annotationAsScoreVolume_warp9_MD589_10.0um_annotationAsScoreVolume_10.0um_SNC_L_bbox_wrt_fixedWholebrain.txt\" \"s3://mousebrainatlas-data/CSHL_volumes/MD594/MD594_10.0um_annotationAsScoreVolume_warp9_MD589_10.0um_annotationAsScoreVolume_10.0um/score_volumes/MD594_10.0um_annotationAsScoreVolume_warp9_MD589_10.0um_annotationAsScoreVolume_10.0um_SNC_L_bbox_wrt_fixedWholebrain.txt\"\n",
      "0\n",
      "(105, 79, 86) [900. 978. 489. 593. 555. 640.]\n",
      "aws s3 cp \"/home/yuncong/CSHL_volumes/MD594/MD594_10.0um_annotationAsScoreVolume_warp9_MD589_10.0um_annotationAsScoreVolume_10.0um/score_volumes/MD594_10.0um_annotationAsScoreVolume_warp9_MD589_10.0um_annotationAsScoreVolume_10.0um_SNC_R.bp\" \"s3://mousebrainatlas-data/CSHL_volumes/MD594/MD594_10.0um_annotationAsScoreVolume_warp9_MD589_10.0um_annotationAsScoreVolume_10.0um/score_volumes/MD594_10.0um_annotationAsScoreVolume_warp9_MD589_10.0um_annotationAsScoreVolume_10.0um_SNC_R.bp\"\n",
      "0\n",
      "aws s3 cp \"/home/yuncong/CSHL_volumes/MD594/MD594_10.0um_annotationAsScoreVolume_warp9_MD589_10.0um_annotationAsScoreVolume_10.0um/score_volumes/MD594_10.0um_annotationAsScoreVolume_warp9_MD589_10.0um_annotationAsScoreVolume_10.0um_SNC_R_bbox_wrt_fixedWholebrain.txt\" \"s3://mousebrainatlas-data/CSHL_volumes/MD594/MD594_10.0um_annotationAsScoreVolume_warp9_MD589_10.0um_annotationAsScoreVolume_10.0um/score_volumes/MD594_10.0um_annotationAsScoreVolume_warp9_MD589_10.0um_annotationAsScoreVolume_10.0um_SNC_R_bbox_wrt_fixedWholebrain.txt\"\n"
     ]
    },
    {
     "name": "stdout",
     "output_type": "stream",
     "text": [
      "0\n",
      "(167, 150, 138) [ 903. 1052.  463.  629.  269.  406.]\n",
      "aws s3 cp \"/home/yuncong/CSHL_volumes/MD594/MD594_10.0um_annotationAsScoreVolume_warp9_MD589_10.0um_annotationAsScoreVolume_10.0um/score_volumes/MD594_10.0um_annotationAsScoreVolume_warp9_MD589_10.0um_annotationAsScoreVolume_10.0um_SNR_L.bp\" \"s3://mousebrainatlas-data/CSHL_volumes/MD594/MD594_10.0um_annotationAsScoreVolume_warp9_MD589_10.0um_annotationAsScoreVolume_10.0um/score_volumes/MD594_10.0um_annotationAsScoreVolume_warp9_MD589_10.0um_annotationAsScoreVolume_10.0um_SNR_L.bp\"\n",
      "0\n",
      "aws s3 cp \"/home/yuncong/CSHL_volumes/MD594/MD594_10.0um_annotationAsScoreVolume_warp9_MD589_10.0um_annotationAsScoreVolume_10.0um/score_volumes/MD594_10.0um_annotationAsScoreVolume_warp9_MD589_10.0um_annotationAsScoreVolume_10.0um_SNR_L_bbox_wrt_fixedWholebrain.txt\" \"s3://mousebrainatlas-data/CSHL_volumes/MD594/MD594_10.0um_annotationAsScoreVolume_warp9_MD589_10.0um_annotationAsScoreVolume_10.0um/score_volumes/MD594_10.0um_annotationAsScoreVolume_warp9_MD589_10.0um_annotationAsScoreVolume_10.0um_SNR_L_bbox_wrt_fixedWholebrain.txt\"\n",
      "0\n",
      "(174, 152, 118) [ 894. 1045.  439.  612.  539.  656.]\n",
      "aws s3 cp \"/home/yuncong/CSHL_volumes/MD594/MD594_10.0um_annotationAsScoreVolume_warp9_MD589_10.0um_annotationAsScoreVolume_10.0um/score_volumes/MD594_10.0um_annotationAsScoreVolume_warp9_MD589_10.0um_annotationAsScoreVolume_10.0um_SNR_R.bp\" \"s3://mousebrainatlas-data/CSHL_volumes/MD594/MD594_10.0um_annotationAsScoreVolume_warp9_MD589_10.0um_annotationAsScoreVolume_10.0um/score_volumes/MD594_10.0um_annotationAsScoreVolume_warp9_MD589_10.0um_annotationAsScoreVolume_10.0um_SNR_R.bp\"\n",
      "0\n",
      "aws s3 cp \"/home/yuncong/CSHL_volumes/MD594/MD594_10.0um_annotationAsScoreVolume_warp9_MD589_10.0um_annotationAsScoreVolume_10.0um/score_volumes/MD594_10.0um_annotationAsScoreVolume_warp9_MD589_10.0um_annotationAsScoreVolume_10.0um_SNR_R_bbox_wrt_fixedWholebrain.txt\" \"s3://mousebrainatlas-data/CSHL_volumes/MD594/MD594_10.0um_annotationAsScoreVolume_warp9_MD589_10.0um_annotationAsScoreVolume_10.0um/score_volumes/MD594_10.0um_annotationAsScoreVolume_warp9_MD589_10.0um_annotationAsScoreVolume_10.0um_SNR_R_bbox_wrt_fixedWholebrain.txt\"\n",
      "0\n",
      "(28, 63, 26) [ 992. 1054.  445.  472.  438.  463.]\n",
      "aws s3 cp \"/home/yuncong/CSHL_volumes/MD594/MD594_10.0um_annotationAsScoreVolume_warp9_MD589_10.0um_annotationAsScoreVolume_10.0um/score_volumes/MD594_10.0um_annotationAsScoreVolume_warp9_MD589_10.0um_annotationAsScoreVolume_10.0um_3N_L.bp\" \"s3://mousebrainatlas-data/CSHL_volumes/MD594/MD594_10.0um_annotationAsScoreVolume_warp9_MD589_10.0um_annotationAsScoreVolume_10.0um/score_volumes/MD594_10.0um_annotationAsScoreVolume_warp9_MD589_10.0um_annotationAsScoreVolume_10.0um_3N_L.bp\"\n",
      "0\n",
      "aws s3 cp \"/home/yuncong/CSHL_volumes/MD594/MD594_10.0um_annotationAsScoreVolume_warp9_MD589_10.0um_annotationAsScoreVolume_10.0um/score_volumes/MD594_10.0um_annotationAsScoreVolume_warp9_MD589_10.0um_annotationAsScoreVolume_10.0um_3N_L_bbox_wrt_fixedWholebrain.txt\" \"s3://mousebrainatlas-data/CSHL_volumes/MD594/MD594_10.0um_annotationAsScoreVolume_warp9_MD589_10.0um_annotationAsScoreVolume_10.0um/score_volumes/MD594_10.0um_annotationAsScoreVolume_warp9_MD589_10.0um_annotationAsScoreVolume_10.0um_3N_L_bbox_wrt_fixedWholebrain.txt\"\n",
      "0\n",
      "(33, 65, 26) [ 989. 1053.  442.  474.  464.  489.]\n",
      "aws s3 cp \"/home/yuncong/CSHL_volumes/MD594/MD594_10.0um_annotationAsScoreVolume_warp9_MD589_10.0um_annotationAsScoreVolume_10.0um/score_volumes/MD594_10.0um_annotationAsScoreVolume_warp9_MD589_10.0um_annotationAsScoreVolume_10.0um_3N_R.bp\" \"s3://mousebrainatlas-data/CSHL_volumes/MD594/MD594_10.0um_annotationAsScoreVolume_warp9_MD589_10.0um_annotationAsScoreVolume_10.0um/score_volumes/MD594_10.0um_annotationAsScoreVolume_warp9_MD589_10.0um_annotationAsScoreVolume_10.0um_3N_R.bp\"\n",
      "0\n",
      "aws s3 cp \"/home/yuncong/CSHL_volumes/MD594/MD594_10.0um_annotationAsScoreVolume_warp9_MD589_10.0um_annotationAsScoreVolume_10.0um/score_volumes/MD594_10.0um_annotationAsScoreVolume_warp9_MD589_10.0um_annotationAsScoreVolume_10.0um_3N_R_bbox_wrt_fixedWholebrain.txt\" \"s3://mousebrainatlas-data/CSHL_volumes/MD594/MD594_10.0um_annotationAsScoreVolume_warp9_MD589_10.0um_annotationAsScoreVolume_10.0um/score_volumes/MD594_10.0um_annotationAsScoreVolume_warp9_MD589_10.0um_annotationAsScoreVolume_10.0um_3N_R_bbox_wrt_fixedWholebrain.txt\"\n",
      "0\n",
      "(23, 21, 16) [1053. 1073.  450.  472.  432.  447.]\n",
      "aws s3 cp \"/home/yuncong/CSHL_volumes/MD594/MD594_10.0um_annotationAsScoreVolume_warp9_MD589_10.0um_annotationAsScoreVolume_10.0um/score_volumes/MD594_10.0um_annotationAsScoreVolume_warp9_MD589_10.0um_annotationAsScoreVolume_10.0um_4N_L.bp\" \"s3://mousebrainatlas-data/CSHL_volumes/MD594/MD594_10.0um_annotationAsScoreVolume_warp9_MD589_10.0um_annotationAsScoreVolume_10.0um/score_volumes/MD594_10.0um_annotationAsScoreVolume_warp9_MD589_10.0um_annotationAsScoreVolume_10.0um_4N_L.bp\"\n",
      "0\n",
      "aws s3 cp \"/home/yuncong/CSHL_volumes/MD594/MD594_10.0um_annotationAsScoreVolume_warp9_MD589_10.0um_annotationAsScoreVolume_10.0um/score_volumes/MD594_10.0um_annotationAsScoreVolume_warp9_MD589_10.0um_annotationAsScoreVolume_10.0um_4N_L_bbox_wrt_fixedWholebrain.txt\" \"s3://mousebrainatlas-data/CSHL_volumes/MD594/MD594_10.0um_annotationAsScoreVolume_warp9_MD589_10.0um_annotationAsScoreVolume_10.0um/score_volumes/MD594_10.0um_annotationAsScoreVolume_warp9_MD589_10.0um_annotationAsScoreVolume_10.0um_4N_L_bbox_wrt_fixedWholebrain.txt\"\n",
      "0\n",
      "(23, 20, 12) [1056. 1075.  449.  471.  478.  489.]\n",
      "aws s3 cp \"/home/yuncong/CSHL_volumes/MD594/MD594_10.0um_annotationAsScoreVolume_warp9_MD589_10.0um_annotationAsScoreVolume_10.0um/score_volumes/MD594_10.0um_annotationAsScoreVolume_warp9_MD589_10.0um_annotationAsScoreVolume_10.0um_4N_R.bp\" \"s3://mousebrainatlas-data/CSHL_volumes/MD594/MD594_10.0um_annotationAsScoreVolume_warp9_MD589_10.0um_annotationAsScoreVolume_10.0um/score_volumes/MD594_10.0um_annotationAsScoreVolume_warp9_MD589_10.0um_annotationAsScoreVolume_10.0um_4N_R.bp\"\n",
      "0\n",
      "aws s3 cp \"/home/yuncong/CSHL_volumes/MD594/MD594_10.0um_annotationAsScoreVolume_warp9_MD589_10.0um_annotationAsScoreVolume_10.0um/score_volumes/MD594_10.0um_annotationAsScoreVolume_warp9_MD589_10.0um_annotationAsScoreVolume_10.0um_4N_R_bbox_wrt_fixedWholebrain.txt\" \"s3://mousebrainatlas-data/CSHL_volumes/MD594/MD594_10.0um_annotationAsScoreVolume_warp9_MD589_10.0um_annotationAsScoreVolume_10.0um/score_volumes/MD594_10.0um_annotationAsScoreVolume_warp9_MD589_10.0um_annotationAsScoreVolume_10.0um_4N_R_bbox_wrt_fixedWholebrain.txt\"\n",
      "0\n",
      "(95, 89, 31) [1315. 1403.  569.  663.  239.  269.]\n",
      "aws s3 cp \"/home/yuncong/CSHL_volumes/MD594/MD594_10.0um_annotationAsScoreVolume_warp9_MD589_10.0um_annotationAsScoreVolume_10.0um/score_volumes/MD594_10.0um_annotationAsScoreVolume_warp9_MD589_10.0um_annotationAsScoreVolume_10.0um_Sp5I_L.bp\" \"s3://mousebrainatlas-data/CSHL_volumes/MD594/MD594_10.0um_annotationAsScoreVolume_warp9_MD589_10.0um_annotationAsScoreVolume_10.0um/score_volumes/MD594_10.0um_annotationAsScoreVolume_warp9_MD589_10.0um_annotationAsScoreVolume_10.0um_Sp5I_L.bp\"\n",
      "0\n",
      "aws s3 cp \"/home/yuncong/CSHL_volumes/MD594/MD594_10.0um_annotationAsScoreVolume_warp9_MD589_10.0um_annotationAsScoreVolume_10.0um/score_volumes/MD594_10.0um_annotationAsScoreVolume_warp9_MD589_10.0um_annotationAsScoreVolume_10.0um_Sp5I_L_bbox_wrt_fixedWholebrain.txt\" \"s3://mousebrainatlas-data/CSHL_volumes/MD594/MD594_10.0um_annotationAsScoreVolume_warp9_MD589_10.0um_annotationAsScoreVolume_10.0um/score_volumes/MD594_10.0um_annotationAsScoreVolume_warp9_MD589_10.0um_annotationAsScoreVolume_10.0um_Sp5I_L_bbox_wrt_fixedWholebrain.txt\"\n",
      "0\n",
      "(123, 80, 48) [1336. 1415.  538.  660.  618.  665.]\n",
      "aws s3 cp \"/home/yuncong/CSHL_volumes/MD594/MD594_10.0um_annotationAsScoreVolume_warp9_MD589_10.0um_annotationAsScoreVolume_10.0um/score_volumes/MD594_10.0um_annotationAsScoreVolume_warp9_MD589_10.0um_annotationAsScoreVolume_10.0um_Sp5I_R.bp\" \"s3://mousebrainatlas-data/CSHL_volumes/MD594/MD594_10.0um_annotationAsScoreVolume_warp9_MD589_10.0um_annotationAsScoreVolume_10.0um/score_volumes/MD594_10.0um_annotationAsScoreVolume_warp9_MD589_10.0um_annotationAsScoreVolume_10.0um_Sp5I_R.bp\"\n",
      "0\n",
      "aws s3 cp \"/home/yuncong/CSHL_volumes/MD594/MD594_10.0um_annotationAsScoreVolume_warp9_MD589_10.0um_annotationAsScoreVolume_10.0um/score_volumes/MD594_10.0um_annotationAsScoreVolume_warp9_MD589_10.0um_annotationAsScoreVolume_10.0um_Sp5I_R_bbox_wrt_fixedWholebrain.txt\" \"s3://mousebrainatlas-data/CSHL_volumes/MD594/MD594_10.0um_annotationAsScoreVolume_warp9_MD589_10.0um_annotationAsScoreVolume_10.0um/score_volumes/MD594_10.0um_annotationAsScoreVolume_warp9_MD589_10.0um_annotationAsScoreVolume_10.0um_Sp5I_R_bbox_wrt_fixedWholebrain.txt\"\n",
      "0\n",
      "(70, 191, 38) [1155. 1345.  575.  644.  243.  280.]\n",
      "aws s3 cp \"/home/yuncong/CSHL_volumes/MD594/MD594_10.0um_annotationAsScoreVolume_warp9_MD589_10.0um_annotationAsScoreVolume_10.0um/score_volumes/MD594_10.0um_annotationAsScoreVolume_warp9_MD589_10.0um_annotationAsScoreVolume_10.0um_Sp5O_L.bp\" \"s3://mousebrainatlas-data/CSHL_volumes/MD594/MD594_10.0um_annotationAsScoreVolume_warp9_MD589_10.0um_annotationAsScoreVolume_10.0um/score_volumes/MD594_10.0um_annotationAsScoreVolume_warp9_MD589_10.0um_annotationAsScoreVolume_10.0um_Sp5O_L.bp\"\n",
      "0\n",
      "aws s3 cp \"/home/yuncong/CSHL_volumes/MD594/MD594_10.0um_annotationAsScoreVolume_warp9_MD589_10.0um_annotationAsScoreVolume_10.0um/score_volumes/MD594_10.0um_annotationAsScoreVolume_warp9_MD589_10.0um_annotationAsScoreVolume_10.0um_Sp5O_L_bbox_wrt_fixedWholebrain.txt\" \"s3://mousebrainatlas-data/CSHL_volumes/MD594/MD594_10.0um_annotationAsScoreVolume_warp9_MD589_10.0um_annotationAsScoreVolume_10.0um/score_volumes/MD594_10.0um_annotationAsScoreVolume_warp9_MD589_10.0um_annotationAsScoreVolume_10.0um_Sp5O_L_bbox_wrt_fixedWholebrain.txt\"\n",
      "0\n",
      "(104, 185, 37) [1180. 1364.  547.  650.  623.  659.]\n",
      "aws s3 cp \"/home/yuncong/CSHL_volumes/MD594/MD594_10.0um_annotationAsScoreVolume_warp9_MD589_10.0um_annotationAsScoreVolume_10.0um/score_volumes/MD594_10.0um_annotationAsScoreVolume_warp9_MD589_10.0um_annotationAsScoreVolume_10.0um_Sp5O_R.bp\" \"s3://mousebrainatlas-data/CSHL_volumes/MD594/MD594_10.0um_annotationAsScoreVolume_warp9_MD589_10.0um_annotationAsScoreVolume_10.0um/score_volumes/MD594_10.0um_annotationAsScoreVolume_warp9_MD589_10.0um_annotationAsScoreVolume_10.0um_Sp5O_R.bp\"\n",
      "0\n",
      "aws s3 cp \"/home/yuncong/CSHL_volumes/MD594/MD594_10.0um_annotationAsScoreVolume_warp9_MD589_10.0um_annotationAsScoreVolume_10.0um/score_volumes/MD594_10.0um_annotationAsScoreVolume_warp9_MD589_10.0um_annotationAsScoreVolume_10.0um_Sp5O_R_bbox_wrt_fixedWholebrain.txt\" \"s3://mousebrainatlas-data/CSHL_volumes/MD594/MD594_10.0um_annotationAsScoreVolume_warp9_MD589_10.0um_annotationAsScoreVolume_10.0um/score_volumes/MD594_10.0um_annotationAsScoreVolume_warp9_MD589_10.0um_annotationAsScoreVolume_10.0um_Sp5O_R_bbox_wrt_fixedWholebrain.txt\"\n",
      "0\n",
      "(229, 210, 117) [1372. 1581.  578.  806.  260.  376.]\n",
      "aws s3 cp \"/home/yuncong/CSHL_volumes/MD594/MD594_10.0um_annotationAsScoreVolume_warp9_MD589_10.0um_annotationAsScoreVolume_10.0um/score_volumes/MD594_10.0um_annotationAsScoreVolume_warp9_MD589_10.0um_annotationAsScoreVolume_10.0um_Sp5C_L.bp\" \"s3://mousebrainatlas-data/CSHL_volumes/MD594/MD594_10.0um_annotationAsScoreVolume_warp9_MD589_10.0um_annotationAsScoreVolume_10.0um/score_volumes/MD594_10.0um_annotationAsScoreVolume_warp9_MD589_10.0um_annotationAsScoreVolume_10.0um_Sp5C_L.bp\"\n",
      "0\n",
      "aws s3 cp \"/home/yuncong/CSHL_volumes/MD594/MD594_10.0um_annotationAsScoreVolume_warp9_MD589_10.0um_annotationAsScoreVolume_10.0um/score_volumes/MD594_10.0um_annotationAsScoreVolume_warp9_MD589_10.0um_annotationAsScoreVolume_10.0um_Sp5C_L_bbox_wrt_fixedWholebrain.txt\" \"s3://mousebrainatlas-data/CSHL_volumes/MD594/MD594_10.0um_annotationAsScoreVolume_warp9_MD589_10.0um_annotationAsScoreVolume_10.0um/score_volumes/MD594_10.0um_annotationAsScoreVolume_warp9_MD589_10.0um_annotationAsScoreVolume_10.0um_Sp5C_L_bbox_wrt_fixedWholebrain.txt\"\n",
      "0\n",
      "(187, 145, 95) [1384. 1528.  546.  732.  550.  644.]\n",
      "aws s3 cp \"/home/yuncong/CSHL_volumes/MD594/MD594_10.0um_annotationAsScoreVolume_warp9_MD589_10.0um_annotationAsScoreVolume_10.0um/score_volumes/MD594_10.0um_annotationAsScoreVolume_warp9_MD589_10.0um_annotationAsScoreVolume_10.0um_Sp5C_R.bp\" \"s3://mousebrainatlas-data/CSHL_volumes/MD594/MD594_10.0um_annotationAsScoreVolume_warp9_MD589_10.0um_annotationAsScoreVolume_10.0um/score_volumes/MD594_10.0um_annotationAsScoreVolume_warp9_MD589_10.0um_annotationAsScoreVolume_10.0um_Sp5C_R.bp\"\n",
      "0\n",
      "aws s3 cp \"/home/yuncong/CSHL_volumes/MD594/MD594_10.0um_annotationAsScoreVolume_warp9_MD589_10.0um_annotationAsScoreVolume_10.0um/score_volumes/MD594_10.0um_annotationAsScoreVolume_warp9_MD589_10.0um_annotationAsScoreVolume_10.0um_Sp5C_R_bbox_wrt_fixedWholebrain.txt\" \"s3://mousebrainatlas-data/CSHL_volumes/MD594/MD594_10.0um_annotationAsScoreVolume_warp9_MD589_10.0um_annotationAsScoreVolume_10.0um/score_volumes/MD594_10.0um_annotationAsScoreVolume_warp9_MD589_10.0um_annotationAsScoreVolume_10.0um_Sp5C_R_bbox_wrt_fixedWholebrain.txt\"\n",
      "0\n",
      "(75, 63, 35) [1041. 1103.  399.  473.  264.  298.]\n",
      "aws s3 cp \"/home/yuncong/CSHL_volumes/MD594/MD594_10.0um_annotationAsScoreVolume_warp9_MD589_10.0um_annotationAsScoreVolume_10.0um/score_volumes/MD594_10.0um_annotationAsScoreVolume_warp9_MD589_10.0um_annotationAsScoreVolume_10.0um_PBG_L.bp\" \"s3://mousebrainatlas-data/CSHL_volumes/MD594/MD594_10.0um_annotationAsScoreVolume_warp9_MD589_10.0um_annotationAsScoreVolume_10.0um/score_volumes/MD594_10.0um_annotationAsScoreVolume_warp9_MD589_10.0um_annotationAsScoreVolume_10.0um_PBG_L.bp\"\n",
      "0\n",
      "aws s3 cp \"/home/yuncong/CSHL_volumes/MD594/MD594_10.0um_annotationAsScoreVolume_warp9_MD589_10.0um_annotationAsScoreVolume_10.0um/score_volumes/MD594_10.0um_annotationAsScoreVolume_warp9_MD589_10.0um_annotationAsScoreVolume_10.0um_PBG_L_bbox_wrt_fixedWholebrain.txt\" \"s3://mousebrainatlas-data/CSHL_volumes/MD594/MD594_10.0um_annotationAsScoreVolume_warp9_MD589_10.0um_annotationAsScoreVolume_10.0um/score_volumes/MD594_10.0um_annotationAsScoreVolume_warp9_MD589_10.0um_annotationAsScoreVolume_10.0um_PBG_L_bbox_wrt_fixedWholebrain.txt\"\n",
      "0\n",
      "(75, 72, 23) [1042. 1113.  386.  460.  629.  651.]\n",
      "aws s3 cp \"/home/yuncong/CSHL_volumes/MD594/MD594_10.0um_annotationAsScoreVolume_warp9_MD589_10.0um_annotationAsScoreVolume_10.0um/score_volumes/MD594_10.0um_annotationAsScoreVolume_warp9_MD589_10.0um_annotationAsScoreVolume_10.0um_PBG_R.bp\" \"s3://mousebrainatlas-data/CSHL_volumes/MD594/MD594_10.0um_annotationAsScoreVolume_warp9_MD589_10.0um_annotationAsScoreVolume_10.0um/score_volumes/MD594_10.0um_annotationAsScoreVolume_warp9_MD589_10.0um_annotationAsScoreVolume_10.0um_PBG_R.bp\"\n",
      "0\n",
      "aws s3 cp \"/home/yuncong/CSHL_volumes/MD594/MD594_10.0um_annotationAsScoreVolume_warp9_MD589_10.0um_annotationAsScoreVolume_10.0um/score_volumes/MD594_10.0um_annotationAsScoreVolume_warp9_MD589_10.0um_annotationAsScoreVolume_10.0um_PBG_R_bbox_wrt_fixedWholebrain.txt\" \"s3://mousebrainatlas-data/CSHL_volumes/MD594/MD594_10.0um_annotationAsScoreVolume_warp9_MD589_10.0um_annotationAsScoreVolume_10.0um/score_volumes/MD594_10.0um_annotationAsScoreVolume_warp9_MD589_10.0um_annotationAsScoreVolume_10.0um_PBG_R_bbox_wrt_fixedWholebrain.txt\"\n",
      "0\n",
      "(72, 97, 34) [1327. 1423.  579.  650.  408.  441.]\n",
      "aws s3 cp \"/home/yuncong/CSHL_volumes/MD594/MD594_10.0um_annotationAsScoreVolume_warp9_MD589_10.0um_annotationAsScoreVolume_10.0um/score_volumes/MD594_10.0um_annotationAsScoreVolume_warp9_MD589_10.0um_annotationAsScoreVolume_10.0um_10N_L.bp\" \"s3://mousebrainatlas-data/CSHL_volumes/MD594/MD594_10.0um_annotationAsScoreVolume_warp9_MD589_10.0um_annotationAsScoreVolume_10.0um/score_volumes/MD594_10.0um_annotationAsScoreVolume_warp9_MD589_10.0um_annotationAsScoreVolume_10.0um_10N_L.bp\"\n",
      "0\n",
      "aws s3 cp \"/home/yuncong/CSHL_volumes/MD594/MD594_10.0um_annotationAsScoreVolume_warp9_MD589_10.0um_annotationAsScoreVolume_10.0um/score_volumes/MD594_10.0um_annotationAsScoreVolume_warp9_MD589_10.0um_annotationAsScoreVolume_10.0um_10N_L_bbox_wrt_fixedWholebrain.txt\" \"s3://mousebrainatlas-data/CSHL_volumes/MD594/MD594_10.0um_annotationAsScoreVolume_warp9_MD589_10.0um_annotationAsScoreVolume_10.0um/score_volumes/MD594_10.0um_annotationAsScoreVolume_warp9_MD589_10.0um_annotationAsScoreVolume_10.0um_10N_L_bbox_wrt_fixedWholebrain.txt\"\n",
      "0\n",
      "(63, 86, 37) [1334. 1419.  579.  641.  465.  501.]\n",
      "aws s3 cp \"/home/yuncong/CSHL_volumes/MD594/MD594_10.0um_annotationAsScoreVolume_warp9_MD589_10.0um_annotationAsScoreVolume_10.0um/score_volumes/MD594_10.0um_annotationAsScoreVolume_warp9_MD589_10.0um_annotationAsScoreVolume_10.0um_10N_R.bp\" \"s3://mousebrainatlas-data/CSHL_volumes/MD594/MD594_10.0um_annotationAsScoreVolume_warp9_MD589_10.0um_annotationAsScoreVolume_10.0um/score_volumes/MD594_10.0um_annotationAsScoreVolume_warp9_MD589_10.0um_annotationAsScoreVolume_10.0um_10N_R.bp\"\n"
     ]
    },
    {
     "name": "stdout",
     "output_type": "stream",
     "text": [
      "0\n",
      "aws s3 cp \"/home/yuncong/CSHL_volumes/MD594/MD594_10.0um_annotationAsScoreVolume_warp9_MD589_10.0um_annotationAsScoreVolume_10.0um/score_volumes/MD594_10.0um_annotationAsScoreVolume_warp9_MD589_10.0um_annotationAsScoreVolume_10.0um_10N_R_bbox_wrt_fixedWholebrain.txt\" \"s3://mousebrainatlas-data/CSHL_volumes/MD594/MD594_10.0um_annotationAsScoreVolume_warp9_MD589_10.0um_annotationAsScoreVolume_10.0um/score_volumes/MD594_10.0um_annotationAsScoreVolume_warp9_MD589_10.0um_annotationAsScoreVolume_10.0um_10N_R_bbox_wrt_fixedWholebrain.txt\"\n",
      "0\n",
      "(113, 121, 60) [1104. 1224.  512.  624.  194.  253.]\n",
      "aws s3 cp \"/home/yuncong/CSHL_volumes/MD594/MD594_10.0um_annotationAsScoreVolume_warp9_MD589_10.0um_annotationAsScoreVolume_10.0um/score_volumes/MD594_10.0um_annotationAsScoreVolume_warp9_MD589_10.0um_annotationAsScoreVolume_10.0um_VCA_L.bp\" \"s3://mousebrainatlas-data/CSHL_volumes/MD594/MD594_10.0um_annotationAsScoreVolume_warp9_MD589_10.0um_annotationAsScoreVolume_10.0um/score_volumes/MD594_10.0um_annotationAsScoreVolume_warp9_MD589_10.0um_annotationAsScoreVolume_10.0um_VCA_L.bp\"\n",
      "0\n",
      "aws s3 cp \"/home/yuncong/CSHL_volumes/MD594/MD594_10.0um_annotationAsScoreVolume_warp9_MD589_10.0um_annotationAsScoreVolume_10.0um/score_volumes/MD594_10.0um_annotationAsScoreVolume_warp9_MD589_10.0um_annotationAsScoreVolume_10.0um_VCA_L_bbox_wrt_fixedWholebrain.txt\" \"s3://mousebrainatlas-data/CSHL_volumes/MD594/MD594_10.0um_annotationAsScoreVolume_warp9_MD589_10.0um_annotationAsScoreVolume_10.0um/score_volumes/MD594_10.0um_annotationAsScoreVolume_warp9_MD589_10.0um_annotationAsScoreVolume_10.0um_VCA_L_bbox_wrt_fixedWholebrain.txt\"\n",
      "0\n",
      "(90, 122, 74) [1126. 1247.  493.  582.  660.  733.]\n",
      "aws s3 cp \"/home/yuncong/CSHL_volumes/MD594/MD594_10.0um_annotationAsScoreVolume_warp9_MD589_10.0um_annotationAsScoreVolume_10.0um/score_volumes/MD594_10.0um_annotationAsScoreVolume_warp9_MD589_10.0um_annotationAsScoreVolume_10.0um_VCA_R.bp\" \"s3://mousebrainatlas-data/CSHL_volumes/MD594/MD594_10.0um_annotationAsScoreVolume_warp9_MD589_10.0um_annotationAsScoreVolume_10.0um/score_volumes/MD594_10.0um_annotationAsScoreVolume_warp9_MD589_10.0um_annotationAsScoreVolume_10.0um_VCA_R.bp\"\n",
      "0\n",
      "aws s3 cp \"/home/yuncong/CSHL_volumes/MD594/MD594_10.0um_annotationAsScoreVolume_warp9_MD589_10.0um_annotationAsScoreVolume_10.0um/score_volumes/MD594_10.0um_annotationAsScoreVolume_warp9_MD589_10.0um_annotationAsScoreVolume_10.0um_VCA_R_bbox_wrt_fixedWholebrain.txt\" \"s3://mousebrainatlas-data/CSHL_volumes/MD594/MD594_10.0um_annotationAsScoreVolume_warp9_MD589_10.0um_annotationAsScoreVolume_10.0um/score_volumes/MD594_10.0um_annotationAsScoreVolume_warp9_MD589_10.0um_annotationAsScoreVolume_10.0um_VCA_R_bbox_wrt_fixedWholebrain.txt\"\n",
      "0\n",
      "(116, 100, 43) [1177. 1276.  519.  634.  211.  253.]\n",
      "aws s3 cp \"/home/yuncong/CSHL_volumes/MD594/MD594_10.0um_annotationAsScoreVolume_warp9_MD589_10.0um_annotationAsScoreVolume_10.0um/score_volumes/MD594_10.0um_annotationAsScoreVolume_warp9_MD589_10.0um_annotationAsScoreVolume_10.0um_VCP_L.bp\" \"s3://mousebrainatlas-data/CSHL_volumes/MD594/MD594_10.0um_annotationAsScoreVolume_warp9_MD589_10.0um_annotationAsScoreVolume_10.0um/score_volumes/MD594_10.0um_annotationAsScoreVolume_warp9_MD589_10.0um_annotationAsScoreVolume_10.0um_VCP_L.bp\"\n",
      "0\n",
      "aws s3 cp \"/home/yuncong/CSHL_volumes/MD594/MD594_10.0um_annotationAsScoreVolume_warp9_MD589_10.0um_annotationAsScoreVolume_10.0um/score_volumes/MD594_10.0um_annotationAsScoreVolume_warp9_MD589_10.0um_annotationAsScoreVolume_10.0um_VCP_L_bbox_wrt_fixedWholebrain.txt\" \"s3://mousebrainatlas-data/CSHL_volumes/MD594/MD594_10.0um_annotationAsScoreVolume_warp9_MD589_10.0um_annotationAsScoreVolume_10.0um/score_volumes/MD594_10.0um_annotationAsScoreVolume_warp9_MD589_10.0um_annotationAsScoreVolume_10.0um_VCP_L_bbox_wrt_fixedWholebrain.txt\"\n",
      "0\n",
      "(96, 85, 61) [1206. 1290.  499.  594.  658.  718.]\n",
      "aws s3 cp \"/home/yuncong/CSHL_volumes/MD594/MD594_10.0um_annotationAsScoreVolume_warp9_MD589_10.0um_annotationAsScoreVolume_10.0um/score_volumes/MD594_10.0um_annotationAsScoreVolume_warp9_MD589_10.0um_annotationAsScoreVolume_10.0um_VCP_R.bp\" \"s3://mousebrainatlas-data/CSHL_volumes/MD594/MD594_10.0um_annotationAsScoreVolume_warp9_MD589_10.0um_annotationAsScoreVolume_10.0um/score_volumes/MD594_10.0um_annotationAsScoreVolume_warp9_MD589_10.0um_annotationAsScoreVolume_10.0um_VCP_R.bp\"\n",
      "0\n",
      "aws s3 cp \"/home/yuncong/CSHL_volumes/MD594/MD594_10.0um_annotationAsScoreVolume_warp9_MD589_10.0um_annotationAsScoreVolume_10.0um/score_volumes/MD594_10.0um_annotationAsScoreVolume_warp9_MD589_10.0um_annotationAsScoreVolume_10.0um_VCP_R_bbox_wrt_fixedWholebrain.txt\" \"s3://mousebrainatlas-data/CSHL_volumes/MD594/MD594_10.0um_annotationAsScoreVolume_warp9_MD589_10.0um_annotationAsScoreVolume_10.0um/score_volumes/MD594_10.0um_annotationAsScoreVolume_warp9_MD589_10.0um_annotationAsScoreVolume_10.0um_VCP_R_bbox_wrt_fixedWholebrain.txt\"\n",
      "0\n",
      "(77, 104, 98) [1185. 1288.  493.  569.  210.  307.]\n",
      "aws s3 cp \"/home/yuncong/CSHL_volumes/MD594/MD594_10.0um_annotationAsScoreVolume_warp9_MD589_10.0um_annotationAsScoreVolume_10.0um/score_volumes/MD594_10.0um_annotationAsScoreVolume_warp9_MD589_10.0um_annotationAsScoreVolume_10.0um_DC_L.bp\" \"s3://mousebrainatlas-data/CSHL_volumes/MD594/MD594_10.0um_annotationAsScoreVolume_warp9_MD589_10.0um_annotationAsScoreVolume_10.0um/score_volumes/MD594_10.0um_annotationAsScoreVolume_warp9_MD589_10.0um_annotationAsScoreVolume_10.0um_DC_L.bp\"\n",
      "0\n",
      "aws s3 cp \"/home/yuncong/CSHL_volumes/MD594/MD594_10.0um_annotationAsScoreVolume_warp9_MD589_10.0um_annotationAsScoreVolume_10.0um/score_volumes/MD594_10.0um_annotationAsScoreVolume_warp9_MD589_10.0um_annotationAsScoreVolume_10.0um_DC_L_bbox_wrt_fixedWholebrain.txt\" \"s3://mousebrainatlas-data/CSHL_volumes/MD594/MD594_10.0um_annotationAsScoreVolume_warp9_MD589_10.0um_annotationAsScoreVolume_10.0um/score_volumes/MD594_10.0um_annotationAsScoreVolume_warp9_MD589_10.0um_annotationAsScoreVolume_10.0um_DC_L_bbox_wrt_fixedWholebrain.txt\"\n",
      "0\n",
      "(59, 115, 108) [1190. 1304.  469.  527.  604.  711.]\n",
      "aws s3 cp \"/home/yuncong/CSHL_volumes/MD594/MD594_10.0um_annotationAsScoreVolume_warp9_MD589_10.0um_annotationAsScoreVolume_10.0um/score_volumes/MD594_10.0um_annotationAsScoreVolume_warp9_MD589_10.0um_annotationAsScoreVolume_10.0um_DC_R.bp\" \"s3://mousebrainatlas-data/CSHL_volumes/MD594/MD594_10.0um_annotationAsScoreVolume_warp9_MD589_10.0um_annotationAsScoreVolume_10.0um/score_volumes/MD594_10.0um_annotationAsScoreVolume_warp9_MD589_10.0um_annotationAsScoreVolume_10.0um_DC_R.bp\"\n",
      "0\n",
      "aws s3 cp \"/home/yuncong/CSHL_volumes/MD594/MD594_10.0um_annotationAsScoreVolume_warp9_MD589_10.0um_annotationAsScoreVolume_10.0um/score_volumes/MD594_10.0um_annotationAsScoreVolume_warp9_MD589_10.0um_annotationAsScoreVolume_10.0um_DC_R_bbox_wrt_fixedWholebrain.txt\" \"s3://mousebrainatlas-data/CSHL_volumes/MD594/MD594_10.0um_annotationAsScoreVolume_warp9_MD589_10.0um_annotationAsScoreVolume_10.0um/score_volumes/MD594_10.0um_annotationAsScoreVolume_warp9_MD589_10.0um_annotationAsScoreVolume_10.0um_DC_R_bbox_wrt_fixedWholebrain.txt\"\n",
      "0\n",
      "(35, 63, 42) [1346. 1408.  570.  604.  431.  472.]\n",
      "aws s3 cp \"/home/yuncong/CSHL_volumes/MD594/MD594_10.0um_annotationAsScoreVolume_warp9_MD589_10.0um_annotationAsScoreVolume_10.0um/score_volumes/MD594_10.0um_annotationAsScoreVolume_warp9_MD589_10.0um_annotationAsScoreVolume_10.0um_AP.bp\" \"s3://mousebrainatlas-data/CSHL_volumes/MD594/MD594_10.0um_annotationAsScoreVolume_warp9_MD589_10.0um_annotationAsScoreVolume_10.0um/score_volumes/MD594_10.0um_annotationAsScoreVolume_warp9_MD589_10.0um_annotationAsScoreVolume_10.0um_AP.bp\"\n",
      "0\n",
      "aws s3 cp \"/home/yuncong/CSHL_volumes/MD594/MD594_10.0um_annotationAsScoreVolume_warp9_MD589_10.0um_annotationAsScoreVolume_10.0um/score_volumes/MD594_10.0um_annotationAsScoreVolume_warp9_MD589_10.0um_annotationAsScoreVolume_10.0um_AP_bbox_wrt_fixedWholebrain.txt\" \"s3://mousebrainatlas-data/CSHL_volumes/MD594/MD594_10.0um_annotationAsScoreVolume_warp9_MD589_10.0um_annotationAsScoreVolume_10.0um/score_volumes/MD594_10.0um_annotationAsScoreVolume_warp9_MD589_10.0um_annotationAsScoreVolume_10.0um_AP_bbox_wrt_fixedWholebrain.txt\"\n",
      "0\n",
      "(85, 111, 81) [1320. 1430.  585.  669.  415.  495.]\n",
      "aws s3 cp \"/home/yuncong/CSHL_volumes/MD594/MD594_10.0um_annotationAsScoreVolume_warp9_MD589_10.0um_annotationAsScoreVolume_10.0um/score_volumes/MD594_10.0um_annotationAsScoreVolume_warp9_MD589_10.0um_annotationAsScoreVolume_10.0um_12N.bp\" \"s3://mousebrainatlas-data/CSHL_volumes/MD594/MD594_10.0um_annotationAsScoreVolume_warp9_MD589_10.0um_annotationAsScoreVolume_10.0um/score_volumes/MD594_10.0um_annotationAsScoreVolume_warp9_MD589_10.0um_annotationAsScoreVolume_10.0um_12N.bp\"\n"
     ]
    },
    {
     "name": "stdout",
     "output_type": "stream",
     "text": [
      "0\n",
      "aws s3 cp \"/home/yuncong/CSHL_volumes/MD594/MD594_10.0um_annotationAsScoreVolume_warp9_MD589_10.0um_annotationAsScoreVolume_10.0um/score_volumes/MD594_10.0um_annotationAsScoreVolume_warp9_MD589_10.0um_annotationAsScoreVolume_10.0um_12N_bbox_wrt_fixedWholebrain.txt\" \"s3://mousebrainatlas-data/CSHL_volumes/MD594/MD594_10.0um_annotationAsScoreVolume_warp9_MD589_10.0um_annotationAsScoreVolume_10.0um/score_volumes/MD594_10.0um_annotationAsScoreVolume_warp9_MD589_10.0um_annotationAsScoreVolume_10.0um_12N_bbox_wrt_fixedWholebrain.txt\"\n",
      "0\n",
      "(90, 134, 169) [1001. 1134.  583.  672.  395.  563.]\n",
      "aws s3 cp \"/home/yuncong/CSHL_volumes/MD594/MD594_10.0um_annotationAsScoreVolume_warp9_MD589_10.0um_annotationAsScoreVolume_10.0um/score_volumes/MD594_10.0um_annotationAsScoreVolume_warp9_MD589_10.0um_annotationAsScoreVolume_10.0um_RtTg.bp\" \"s3://mousebrainatlas-data/CSHL_volumes/MD594/MD594_10.0um_annotationAsScoreVolume_warp9_MD589_10.0um_annotationAsScoreVolume_10.0um/score_volumes/MD594_10.0um_annotationAsScoreVolume_warp9_MD589_10.0um_annotationAsScoreVolume_10.0um_RtTg.bp\"\n",
      "0\n",
      "aws s3 cp \"/home/yuncong/CSHL_volumes/MD594/MD594_10.0um_annotationAsScoreVolume_warp9_MD589_10.0um_annotationAsScoreVolume_10.0um/score_volumes/MD594_10.0um_annotationAsScoreVolume_warp9_MD589_10.0um_annotationAsScoreVolume_10.0um_RtTg_bbox_wrt_fixedWholebrain.txt\" \"s3://mousebrainatlas-data/CSHL_volumes/MD594/MD594_10.0um_annotationAsScoreVolume_warp9_MD589_10.0um_annotationAsScoreVolume_10.0um/score_volumes/MD594_10.0um_annotationAsScoreVolume_warp9_MD589_10.0um_annotationAsScoreVolume_10.0um_RtTg_bbox_wrt_fixedWholebrain.txt\"\n",
      "0\n",
      "(209, 222, 349) [ 912. 1133.  242.  450.  287.  635.]\n",
      "aws s3 cp \"/home/yuncong/CSHL_volumes/MD594/MD594_10.0um_annotationAsScoreVolume_warp9_MD589_10.0um_annotationAsScoreVolume_10.0um/score_volumes/MD594_10.0um_annotationAsScoreVolume_warp9_MD589_10.0um_annotationAsScoreVolume_10.0um_SC.bp\" \"s3://mousebrainatlas-data/CSHL_volumes/MD594/MD594_10.0um_annotationAsScoreVolume_warp9_MD589_10.0um_annotationAsScoreVolume_10.0um/score_volumes/MD594_10.0um_annotationAsScoreVolume_warp9_MD589_10.0um_annotationAsScoreVolume_10.0um_SC.bp\"\n",
      "0\n",
      "aws s3 cp \"/home/yuncong/CSHL_volumes/MD594/MD594_10.0um_annotationAsScoreVolume_warp9_MD589_10.0um_annotationAsScoreVolume_10.0um/score_volumes/MD594_10.0um_annotationAsScoreVolume_warp9_MD589_10.0um_annotationAsScoreVolume_10.0um_SC_bbox_wrt_fixedWholebrain.txt\" \"s3://mousebrainatlas-data/CSHL_volumes/MD594/MD594_10.0um_annotationAsScoreVolume_warp9_MD589_10.0um_annotationAsScoreVolume_10.0um/score_volumes/MD594_10.0um_annotationAsScoreVolume_warp9_MD589_10.0um_annotationAsScoreVolume_10.0um_SC_bbox_wrt_fixedWholebrain.txt\"\n",
      "0\n",
      "(178, 153, 282) [1061. 1213.  237.  414.  297.  578.]\n",
      "aws s3 cp \"/home/yuncong/CSHL_volumes/MD594/MD594_10.0um_annotationAsScoreVolume_warp9_MD589_10.0um_annotationAsScoreVolume_10.0um/score_volumes/MD594_10.0um_annotationAsScoreVolume_warp9_MD589_10.0um_annotationAsScoreVolume_10.0um_IC.bp\" \"s3://mousebrainatlas-data/CSHL_volumes/MD594/MD594_10.0um_annotationAsScoreVolume_warp9_MD589_10.0um_annotationAsScoreVolume_10.0um/score_volumes/MD594_10.0um_annotationAsScoreVolume_warp9_MD589_10.0um_annotationAsScoreVolume_10.0um_IC.bp\"\n",
      "0\n",
      "aws s3 cp \"/home/yuncong/CSHL_volumes/MD594/MD594_10.0um_annotationAsScoreVolume_warp9_MD589_10.0um_annotationAsScoreVolume_10.0um/score_volumes/MD594_10.0um_annotationAsScoreVolume_warp9_MD589_10.0um_annotationAsScoreVolume_10.0um_IC_bbox_wrt_fixedWholebrain.txt\" \"s3://mousebrainatlas-data/CSHL_volumes/MD594/MD594_10.0um_annotationAsScoreVolume_warp9_MD589_10.0um_annotationAsScoreVolume_10.0um/score_volumes/MD594_10.0um_annotationAsScoreVolume_warp9_MD589_10.0um_annotationAsScoreVolume_10.0um_IC_bbox_wrt_fixedWholebrain.txt\"\n",
      "0\n"
     ]
    }
   ],
   "source": [
    "for name_s in all_known_structures_sided:\n",
    "# for name_s in ['7N_L']:\n",
    "    \n",
    "    try:\n",
    "        transformed_vol, transformed_vol_bbox_wrt_fixedWholebrain = \\\n",
    "            DataManager.load_transformed_volume_v2(alignment_spec=affine_alignment_spec, \n",
    "                                                   structure=name_s,\n",
    "                                                  resolution='10.0um',\n",
    "                                                  return_origin_instead_of_bbox=False)        \n",
    "    except Exception as e:\n",
    "        raise e\n",
    "        sys.stderr.write(\"Cannot load moving brain for %s\\n\" % name_s)\n",
    "        continue\n",
    "            \n",
    "    print transformed_vol.shape, transformed_vol_bbox_wrt_fixedWholebrain\n",
    "    DataManager.save_transformed_volume(volume=transformed_vol, \n",
    "                                        bbox=transformed_vol_bbox_wrt_fixedWholebrain, \n",
    "                                        alignment_spec=affine_alignment_spec, \n",
    "                                        resolution='%.1fum' % affine_aligner_parameters['resolution_um'], \n",
    "                                        structure=name_s)"
   ]
  }
 ],
 "metadata": {
  "kernelspec": {
   "display_name": "Python 2",
   "language": "python",
   "name": "python2"
  },
  "language_info": {
   "codemirror_mode": {
    "name": "ipython",
    "version": 2
   },
   "file_extension": ".py",
   "mimetype": "text/x-python",
   "name": "python",
   "nbconvert_exporter": "python",
   "pygments_lexer": "ipython2",
   "version": "2.7.12"
  }
 },
 "nbformat": 4,
 "nbformat_minor": 1
}
