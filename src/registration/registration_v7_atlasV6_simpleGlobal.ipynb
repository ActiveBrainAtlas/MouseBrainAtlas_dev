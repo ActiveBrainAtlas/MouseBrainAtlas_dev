{
 "cells": [
  {
   "cell_type": "code",
   "execution_count": 1,
   "metadata": {},
   "outputs": [
    {
     "name": "stdout",
     "output_type": "stream",
     "text": [
      "Setting environment for Precision WorkStation\n"
     ]
    },
    {
     "name": "stderr",
     "output_type": "stream",
     "text": [
      "No vtk\n"
     ]
    }
   ],
   "source": [
    "%load_ext autoreload\n",
    "%autoreload 2\n",
    "\n",
    "import sys\n",
    "import os\n",
    "import time\n",
    "\n",
    "import matplotlib.pyplot as plt\n",
    "%matplotlib inline\n",
    "from multiprocess import Pool\n",
    "import numpy as np\n",
    "\n",
    "sys.path.append(os.environ['REPO_DIR'] + '/utilities')\n",
    "from utilities2015 import *\n",
    "from metadata import *\n",
    "from data_manager import *\n",
    "\n",
    "from registration_utilities import *"
   ]
  },
  {
   "cell_type": "code",
   "execution_count": 2,
   "metadata": {
    "collapsed": true
   },
   "outputs": [],
   "source": [
    "atlas_spec = dict(name='atlasV6',\n",
    "                   vol_type='score'    ,               \n",
    "                    resolution='10.0um'\n",
    "                   )"
   ]
  },
  {
   "cell_type": "code",
   "execution_count": 3,
   "metadata": {},
   "outputs": [
    {
     "name": "stderr",
     "output_type": "stream",
     "text": [
      "Prior structure/index map not found. Generating a new one.\n"
     ]
    }
   ],
   "source": [
    "atlas_structures_wrt_canonicalAtlasSpace_atlasResol = \\\n",
    "DataManager.load_original_volume_all_known_structures_v3(atlas_spec, in_bbox_wrt='canonicalAtlasSpace',\n",
    "                                                        out_bbox_wrt='canonicalAtlasSpace')"
   ]
  },
  {
   "cell_type": "code",
   "execution_count": 4,
   "metadata": {
    "collapsed": true
   },
   "outputs": [],
   "source": [
    "atlas_structure_centroids_wrt_canonicalAtlasSpace_atlasResol = get_structure_centroids(vol_origin_dict=atlas_structures_wrt_canonicalAtlasSpace_atlasResol)"
   ]
  },
  {
   "cell_type": "code",
   "execution_count": 5,
   "metadata": {
    "collapsed": true
   },
   "outputs": [],
   "source": [
    "atlas_anchor1_wrt_canonicalAtlasSpace_atlasResol = \\\n",
    "np.r_[atlas_structure_centroids_wrt_canonicalAtlasSpace_atlasResol['12N'][:2], 0]\n",
    "atlas_anchor2_wrt_canonicalAtlasSpace_atlasResol = \\\n",
    "np.r_[atlas_structure_centroids_wrt_canonicalAtlasSpace_atlasResol['3N_L'][:2], 0]"
   ]
  },
  {
   "cell_type": "code",
   "execution_count": 6,
   "metadata": {
    "collapsed": true
   },
   "outputs": [],
   "source": [
    "# stack = 'CHATM2'\n",
    "stack = 'MD661'"
   ]
  },
  {
   "cell_type": "code",
   "execution_count": 7,
   "metadata": {
    "collapsed": true
   },
   "outputs": [],
   "source": [
    "intensity_volume_spec = dict(name=stack, resolution='10.0um', prep_id='wholebrainWithMargin', vol_type='intensity')\n",
    "_, (wholebrainWithMargin_origin_wrt_wholebrain_dataResol_x, \\\n",
    "    wholebrainWithMargin_origin_wrt_wholebrain_dataResol_y, \\\n",
    "    wholebrainWithMargin_origin_wrt_wholebrain_dataResol_z) = \\\n",
    "DataManager.load_original_volume_v2(intensity_volume_spec, return_origin_instead_of_bbox=True)"
   ]
  },
  {
   "cell_type": "code",
   "execution_count": 8,
   "metadata": {
    "collapsed": true
   },
   "outputs": [],
   "source": [
    "if stack == 'CHATM2':\n",
    "    subject_anchor1_wrt_wholebrainWithMargin_atlasResol = np.array([565,246,179]) * 20. / 10. # 12N\n",
    "    subject_anchor2_wrt_wholebrainWithMargin_atlasResol = np.array([388,183,179]) * 20. / 10. # 3N_L\n",
    "elif stack == 'CHATM3':\n",
    "    subject_anchor1_wrt_wholebrainWithMargin_atlasResol = np.array([740,258,230]) * 20. / 10.\n",
    "    subject_anchor2_wrt_wholebrainWithMargin_atlasResol = np.array([550,195,230]) * 20. / 10.\n",
    "elif stack == 'MD593':\n",
    "    subject_anchor1_wrt_wholebrainWithMargin_atlasResol = np.array([647*20., 233*20., 164*10.+138*20.]) / 10.\n",
    "    subject_anchor2_wrt_wholebrainWithMargin_atlasResol = np.array([474*20., 171*20., 164*10.+138*20.]) / 10.\n",
    "elif stack == 'MD589':\n",
    "    subject_anchor1_wrt_wholebrainWithMargin_atlasResol = np.array([605*20., 260*20., wholebrainWithMargin_origin_wrt_wholebrain_dataResol_z*10.+135*20.]) / 10.\n",
    "    subject_anchor2_wrt_wholebrainWithMargin_atlasResol = np.array([456*20., 175*20., wholebrainWithMargin_origin_wrt_wholebrain_dataResol_z*10.+135*20.]) / 10.\n",
    "elif stack == 'MD585':\n",
    "    subject_anchor1_wrt_wholebrainWithMargin_atlasResol = np.array([614*20., 241*20., wholebrainWithMargin_origin_wrt_wholebrain_dataResol_z*10.+117*20.]) / 10.\n",
    "    subject_anchor2_wrt_wholebrainWithMargin_atlasResol = np.array([423*20., 165*20., wholebrainWithMargin_origin_wrt_wholebrain_dataResol_z*10.+145*20.]) / 10.\n",
    "elif stack == 'MD590':\n",
    "    subject_anchor1_wrt_wholebrainWithMargin_atlasResol = np.array([650*20., 239*20., wholebrainWithMargin_origin_wrt_wholebrain_dataResol_z*10.+124*20.]) / 10.\n",
    "    subject_anchor2_wrt_wholebrainWithMargin_atlasResol = np.array([473*20., 159*20., wholebrainWithMargin_origin_wrt_wholebrain_dataResol_z*10.+124*20.]) / 10.\n",
    "elif stack == 'MD591':\n",
    "    subject_anchor1_wrt_wholebrainWithMargin_atlasResol = np.array([637*20., 287*20., wholebrainWithMargin_origin_wrt_wholebrain_dataResol_z*10.+124*20.]) / 10.\n",
    "    subject_anchor2_wrt_wholebrainWithMargin_atlasResol = np.array([469*20., 190*20., wholebrainWithMargin_origin_wrt_wholebrain_dataResol_z*10.+124*20.]) / 10.\n",
    "elif stack == 'MD592':\n",
    "    subject_anchor1_wrt_wholebrainWithMargin_atlasResol = np.array([647*20., 223*20., wholebrainWithMargin_origin_wrt_wholebrain_dataResol_z*10.+136*20.]) / 10.\n",
    "    subject_anchor2_wrt_wholebrainWithMargin_atlasResol = np.array([470*20., 180*20., wholebrainWithMargin_origin_wrt_wholebrain_dataResol_z*10.+136*20.]) / 10.\n",
    "elif stack == 'MD594':\n",
    "    subject_anchor1_wrt_wholebrainWithMargin_atlasResol = np.array([650*20., 189*20., wholebrainWithMargin_origin_wrt_wholebrain_dataResol_z*10.+136*20.]) / 10.\n",
    "    subject_anchor2_wrt_wholebrainWithMargin_atlasResol = np.array([461*20., 151*20., wholebrainWithMargin_origin_wrt_wholebrain_dataResol_z*10.+136*20.]) / 10.\n",
    "elif stack == 'MD595':\n",
    "    subject_anchor1_wrt_wholebrainWithMargin_atlasResol = np.array([674*20., 225*20., wholebrainWithMargin_origin_wrt_wholebrain_dataResol_z*10.+137*20.]) / 10.\n",
    "    subject_anchor2_wrt_wholebrainWithMargin_atlasResol = np.array([486*20., 180*20., wholebrainWithMargin_origin_wrt_wholebrain_dataResol_z*10.+137*20.]) / 10.\n",
    "elif stack == 'MD598':\n",
    "    subject_anchor1_wrt_wholebrainWithMargin_atlasResol = np.array([628*20., 206*20., wholebrainWithMargin_origin_wrt_wholebrain_dataResol_z*10.+165*20.]) / 10.\n",
    "    subject_anchor2_wrt_wholebrainWithMargin_atlasResol = np.array([464*20., 164*20., wholebrainWithMargin_origin_wrt_wholebrain_dataResol_z*10.+165*20.]) / 10.\n",
    "elif stack == 'MD599':\n",
    "    subject_anchor1_wrt_wholebrainWithMargin_atlasResol = np.array([682*20., 222*20., wholebrainWithMargin_origin_wrt_wholebrain_dataResol_z*10.+129*20.]) / 10.\n",
    "    subject_anchor2_wrt_wholebrainWithMargin_atlasResol = np.array([505*20., 175*20., wholebrainWithMargin_origin_wrt_wholebrain_dataResol_z*10.+129*20.]) / 10.\n",
    "elif stack == 'MD602':\n",
    "    subject_anchor1_wrt_wholebrainWithMargin_atlasResol = np.array([668*20., 197*20., wholebrainWithMargin_origin_wrt_wholebrain_dataResol_z*10.+135*20.]) / 10.\n",
    "    subject_anchor2_wrt_wholebrainWithMargin_atlasResol = np.array([460*20., 157*20., wholebrainWithMargin_origin_wrt_wholebrain_dataResol_z*10.+135*20.]) / 10.\n",
    "elif stack == 'MD603':\n",
    "    subject_anchor1_wrt_wholebrainWithMargin_atlasResol = np.array([651*20., 229*20., wholebrainWithMargin_origin_wrt_wholebrain_dataResol_z*10.+153*20.]) / 10.\n",
    "    subject_anchor2_wrt_wholebrainWithMargin_atlasResol = np.array([446*20., 168*20., wholebrainWithMargin_origin_wrt_wholebrain_dataResol_z*10.+153*20.]) / 10.\n",
    "elif stack == 'MD661':\n",
    "    subject_anchor1_wrt_wholebrainWithMargin_atlasResol = np.array([559*20., 209*20., wholebrainWithMargin_origin_wrt_wholebrain_dataResol_z*10.+140*20.]) / 10.\n",
    "    subject_anchor2_wrt_wholebrainWithMargin_atlasResol = np.array([383*20., 166*20., wholebrainWithMargin_origin_wrt_wholebrain_dataResol_z*10.+140*20.]) / 10.\n",
    "else:\n",
    "    raise"
   ]
  },
  {
   "cell_type": "code",
   "execution_count": 9,
   "metadata": {
    "collapsed": true
   },
   "outputs": [],
   "source": [
    "def align_anchors(pm1, pm2, pf1, pf2):\n",
    "    \"\"\"\n",
    "    Align the vector (pm1, pm2) and vector (pf1, pf2), and align the two middle points. \n",
    "    \"\"\"\n",
    "    \n",
    "    t = ((pf1 + pf2) / 2. - (pm1 + pm2) / 2.)\n",
    "\n",
    "    subject_d = pf1 - pf2\n",
    "    atlas_d = pm1 - pm2\n",
    "\n",
    "    subject_d_n = subject_d / np.linalg.norm(subject_d)\n",
    "    atlas_d_n = atlas_d / np.linalg.norm(atlas_d)\n",
    "\n",
    "    R = R_align_two_vectors(atlas_d_n, subject_d_n)\n",
    "\n",
    "    T = np.zeros((3,4))\n",
    "    T[:3, :3] = R\n",
    "    T[:3, 3] = t\n",
    "    \n",
    "    return T"
   ]
  },
  {
   "cell_type": "code",
   "execution_count": 10,
   "metadata": {
    "collapsed": true
   },
   "outputs": [],
   "source": [
    "wholebrainWithMargin_origin_wrt_wholebrain_dataResol = \\\n",
    "np.r_[wholebrainWithMargin_origin_wrt_wholebrain_dataResol_x,\n",
    "      wholebrainWithMargin_origin_wrt_wholebrain_dataResol_y,\n",
    "      0]"
   ]
  },
  {
   "cell_type": "code",
   "execution_count": 11,
   "metadata": {
    "collapsed": true
   },
   "outputs": [],
   "source": [
    "subject_anchor1_wrt_wholebrain_atlasResol = subject_anchor1_wrt_wholebrainWithMargin_atlasResol + \\\n",
    "wholebrainWithMargin_origin_wrt_wholebrain_dataResol # only valid because dataResol is same as atlasResol\n",
    "\n",
    "subject_anchor2_wrt_wholebrain_atlasResol = subject_anchor2_wrt_wholebrainWithMargin_atlasResol + \\\n",
    "wholebrainWithMargin_origin_wrt_wholebrain_dataResol # only valid because dataResol is same as atlasResol"
   ]
  },
  {
   "cell_type": "code",
   "execution_count": 12,
   "metadata": {
    "collapsed": true
   },
   "outputs": [],
   "source": [
    "T_atlas_wrt_canonicalAtlasSpace_subject_wrt_wholebrain_atlasResol = align_anchors(atlas_anchor1_wrt_canonicalAtlasSpace_atlasResol, atlas_anchor2_wrt_canonicalAtlasSpace_atlasResol,\n",
    "             subject_anchor1_wrt_wholebrain_atlasResol, subject_anchor2_wrt_wholebrain_atlasResol)"
   ]
  },
  {
   "cell_type": "code",
   "execution_count": 13,
   "metadata": {},
   "outputs": [
    {
     "name": "stdout",
     "output_type": "stream",
     "text": [
      "[[ 9.71736748e-01  2.36076991e-01  0.00000000e+00  1.06809838e+03]\n",
      " [-2.36076991e-01  9.71736748e-01  0.00000000e+00  5.57968802e+02]\n",
      " [ 0.00000000e+00  0.00000000e+00  1.00000000e+00  4.48000000e+02]]\n"
     ]
    }
   ],
   "source": [
    "print T_atlas_wrt_canonicalAtlasSpace_subject_wrt_wholebrain_atlasResol"
   ]
  },
  {
   "cell_type": "code",
   "execution_count": 14,
   "metadata": {
    "collapsed": true
   },
   "outputs": [],
   "source": [
    "bp.pack_ndarray_file(T_atlas_wrt_canonicalAtlasSpace_subject_wrt_wholebrain_atlasResol, \n",
    "                     '/home/yuncong/' + stack + '_T_atlas_wrt_canonicalAtlasSpace_subject_wrt_wholebrain_atlasResol.bp')"
   ]
  },
  {
   "cell_type": "code",
   "execution_count": null,
   "metadata": {
    "collapsed": true
   },
   "outputs": [],
   "source": []
  }
 ],
 "metadata": {
  "kernelspec": {
   "display_name": "Python 2",
   "language": "python",
   "name": "python2"
  },
  "language_info": {
   "codemirror_mode": {
    "name": "ipython",
    "version": 2
   },
   "file_extension": ".py",
   "mimetype": "text/x-python",
   "name": "python",
   "nbconvert_exporter": "python",
   "pygments_lexer": "ipython2",
   "version": "2.7.12"
  }
 },
 "nbformat": 4,
 "nbformat_minor": 2
}
