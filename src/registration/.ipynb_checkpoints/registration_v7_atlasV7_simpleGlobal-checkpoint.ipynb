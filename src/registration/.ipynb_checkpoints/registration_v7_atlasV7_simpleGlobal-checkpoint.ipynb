{
 "cells": [
  {
   "cell_type": "code",
   "execution_count": null,
   "metadata": {
    "collapsed": true
   },
   "outputs": [],
   "source": [
    "# TO ADD\n",
    "# AUTO-DOWNLOAD THE FOLLOWING VOLUME FILES\n",
    "# File does not exist: /media/alexn/BstemAtlasDataBackup/ucsd_brain/CSHL_volumes\\\n",
    "#       /atlasV7/atlasV7_10.0um_scoreVolume/score_volumes/atlasV7_10.0um_scoreVolume_3N_R.bp\n",
    "# [Errno 2] No such file or directory: '/media/alexn/BstemAtlasDataBackup/ucsd_brain/CSHL_volumes\\\n",
    "#       /atlasV7/atlasV7_10.0um_scoreVolume/score_volumes/atlasV7_10.0um_scoreVolume_3N_R.bp'"
   ]
  },
  {
   "cell_type": "code",
   "execution_count": 56,
   "metadata": {
    "scrolled": true
   },
   "outputs": [
    {
     "name": "stdout",
     "output_type": "stream",
     "text": [
      "The autoreload extension is already loaded. To reload it, use:\n",
      "  %reload_ext autoreload\n"
     ]
    }
   ],
   "source": [
    "%load_ext autoreload\n",
    "%autoreload 2\n",
    "\n",
    "import sys\n",
    "import os\n",
    "import time\n",
    "\n",
    "import matplotlib.pyplot as plt\n",
    "%matplotlib inline\n",
    "from multiprocess import Pool\n",
    "import numpy as np\n",
    "\n",
    "sys.path.append(os.environ['REPO_DIR'] + '/utilities')\n",
    "from utilities2015 import *\n",
    "from metadata import *\n",
    "from data_manager import *\n",
    "\n",
    "from registration_utilities import *"
   ]
  },
  {
   "cell_type": "code",
   "execution_count": 57,
   "metadata": {
    "collapsed": true
   },
   "outputs": [],
   "source": [
    "# For DEMO998, use atlasV7\n",
    "atlas_spec = dict(name='atlasV7',\n",
    "                   vol_type='score'    ,               \n",
    "                    resolution='10.0um'\n",
    "                   )\n",
    "\n",
    "# atlas_spec = dict(name='atlasV6',\n",
    "#                    vol_type='score'    ,               \n",
    "#                     resolution='10.0um'\n",
    "#                    )"
   ]
  },
  {
   "cell_type": "code",
   "execution_count": 58,
   "metadata": {},
   "outputs": [
    {
     "name": "stderr",
     "output_type": "stream",
     "text": [
      "Prior structure/index map not found. Generating a new one.\n",
      "File does not exist: /media/alexn/BstemAtlasDataBackup/ucsd_brain/CSHL_volumes/atlasV7/atlasV7_10.0um_scoreVolume/score_volumes/atlasV7_10.0um_scoreVolume_5N_L.bp\n",
      "[Errno 2] No such file or directory: '/media/alexn/BstemAtlasDataBackup/ucsd_brain/CSHL_volumes/atlasV7/atlasV7_10.0um_scoreVolume/score_volumes/atlasV7_10.0um_scoreVolume_5N_L.bp'\n",
      "Score volume for 5N_L does not exist.\n",
      "File does not exist: /media/alexn/BstemAtlasDataBackup/ucsd_brain/CSHL_volumes/atlasV7/atlasV7_10.0um_scoreVolume/score_volumes/atlasV7_10.0um_scoreVolume_5N_R.bp\n",
      "[Errno 2] No such file or directory: '/media/alexn/BstemAtlasDataBackup/ucsd_brain/CSHL_volumes/atlasV7/atlasV7_10.0um_scoreVolume/score_volumes/atlasV7_10.0um_scoreVolume_5N_R.bp'\n",
      "Score volume for 5N_R does not exist.\n",
      "File does not exist: /media/alexn/BstemAtlasDataBackup/ucsd_brain/CSHL_volumes/atlasV7/atlasV7_10.0um_scoreVolume/score_volumes/atlasV7_10.0um_scoreVolume_6N_L.bp\n",
      "[Errno 2] No such file or directory: '/media/alexn/BstemAtlasDataBackup/ucsd_brain/CSHL_volumes/atlasV7/atlasV7_10.0um_scoreVolume/score_volumes/atlasV7_10.0um_scoreVolume_6N_L.bp'\n",
      "Score volume for 6N_L does not exist.\n",
      "File does not exist: /media/alexn/BstemAtlasDataBackup/ucsd_brain/CSHL_volumes/atlasV7/atlasV7_10.0um_scoreVolume/score_volumes/atlasV7_10.0um_scoreVolume_6N_R.bp\n",
      "[Errno 2] No such file or directory: '/media/alexn/BstemAtlasDataBackup/ucsd_brain/CSHL_volumes/atlasV7/atlasV7_10.0um_scoreVolume/score_volumes/atlasV7_10.0um_scoreVolume_6N_R.bp'\n",
      "Score volume for 6N_R does not exist.\n",
      "File does not exist: /media/alexn/BstemAtlasDataBackup/ucsd_brain/CSHL_volumes/atlasV7/atlasV7_10.0um_scoreVolume/score_volumes/atlasV7_10.0um_scoreVolume_7N_L.bp\n",
      "[Errno 2] No such file or directory: '/media/alexn/BstemAtlasDataBackup/ucsd_brain/CSHL_volumes/atlasV7/atlasV7_10.0um_scoreVolume/score_volumes/atlasV7_10.0um_scoreVolume_7N_L.bp'\n",
      "Score volume for 7N_L does not exist.\n",
      "File does not exist: /media/alexn/BstemAtlasDataBackup/ucsd_brain/CSHL_volumes/atlasV7/atlasV7_10.0um_scoreVolume/score_volumes/atlasV7_10.0um_scoreVolume_7N_R.bp\n",
      "[Errno 2] No such file or directory: '/media/alexn/BstemAtlasDataBackup/ucsd_brain/CSHL_volumes/atlasV7/atlasV7_10.0um_scoreVolume/score_volumes/atlasV7_10.0um_scoreVolume_7N_R.bp'\n",
      "Score volume for 7N_R does not exist.\n",
      "File does not exist: /media/alexn/BstemAtlasDataBackup/ucsd_brain/CSHL_volumes/atlasV7/atlasV7_10.0um_scoreVolume/score_volumes/atlasV7_10.0um_scoreVolume_7n_L.bp\n",
      "[Errno 2] No such file or directory: '/media/alexn/BstemAtlasDataBackup/ucsd_brain/CSHL_volumes/atlasV7/atlasV7_10.0um_scoreVolume/score_volumes/atlasV7_10.0um_scoreVolume_7n_L.bp'\n",
      "Score volume for 7n_L does not exist.\n",
      "File does not exist: /media/alexn/BstemAtlasDataBackup/ucsd_brain/CSHL_volumes/atlasV7/atlasV7_10.0um_scoreVolume/score_volumes/atlasV7_10.0um_scoreVolume_7n_R.bp\n",
      "[Errno 2] No such file or directory: '/media/alexn/BstemAtlasDataBackup/ucsd_brain/CSHL_volumes/atlasV7/atlasV7_10.0um_scoreVolume/score_volumes/atlasV7_10.0um_scoreVolume_7n_R.bp'\n",
      "Score volume for 7n_R does not exist.\n",
      "File does not exist: /media/alexn/BstemAtlasDataBackup/ucsd_brain/CSHL_volumes/atlasV7/atlasV7_10.0um_scoreVolume/score_volumes/atlasV7_10.0um_scoreVolume_Amb_L.bp\n",
      "[Errno 2] No such file or directory: '/media/alexn/BstemAtlasDataBackup/ucsd_brain/CSHL_volumes/atlasV7/atlasV7_10.0um_scoreVolume/score_volumes/atlasV7_10.0um_scoreVolume_Amb_L.bp'\n",
      "Score volume for Amb_L does not exist.\n",
      "File does not exist: /media/alexn/BstemAtlasDataBackup/ucsd_brain/CSHL_volumes/atlasV7/atlasV7_10.0um_scoreVolume/score_volumes/atlasV7_10.0um_scoreVolume_Amb_R.bp\n",
      "[Errno 2] No such file or directory: '/media/alexn/BstemAtlasDataBackup/ucsd_brain/CSHL_volumes/atlasV7/atlasV7_10.0um_scoreVolume/score_volumes/atlasV7_10.0um_scoreVolume_Amb_R.bp'\n",
      "Score volume for Amb_R does not exist.\n",
      "File does not exist: /media/alexn/BstemAtlasDataBackup/ucsd_brain/CSHL_volumes/atlasV7/atlasV7_10.0um_scoreVolume/score_volumes/atlasV7_10.0um_scoreVolume_LC_L.bp\n",
      "[Errno 2] No such file or directory: '/media/alexn/BstemAtlasDataBackup/ucsd_brain/CSHL_volumes/atlasV7/atlasV7_10.0um_scoreVolume/score_volumes/atlasV7_10.0um_scoreVolume_LC_L.bp'\n",
      "Score volume for LC_L does not exist.\n",
      "File does not exist: /media/alexn/BstemAtlasDataBackup/ucsd_brain/CSHL_volumes/atlasV7/atlasV7_10.0um_scoreVolume/score_volumes/atlasV7_10.0um_scoreVolume_LC_R.bp\n",
      "[Errno 2] No such file or directory: '/media/alexn/BstemAtlasDataBackup/ucsd_brain/CSHL_volumes/atlasV7/atlasV7_10.0um_scoreVolume/score_volumes/atlasV7_10.0um_scoreVolume_LC_R.bp'\n",
      "Score volume for LC_R does not exist.\n",
      "File does not exist: /media/alexn/BstemAtlasDataBackup/ucsd_brain/CSHL_volumes/atlasV7/atlasV7_10.0um_scoreVolume/score_volumes/atlasV7_10.0um_scoreVolume_LRt_L.bp\n",
      "[Errno 2] No such file or directory: '/media/alexn/BstemAtlasDataBackup/ucsd_brain/CSHL_volumes/atlasV7/atlasV7_10.0um_scoreVolume/score_volumes/atlasV7_10.0um_scoreVolume_LRt_L.bp'\n",
      "Score volume for LRt_L does not exist.\n",
      "File does not exist: /media/alexn/BstemAtlasDataBackup/ucsd_brain/CSHL_volumes/atlasV7/atlasV7_10.0um_scoreVolume/score_volumes/atlasV7_10.0um_scoreVolume_LRt_R.bp\n",
      "[Errno 2] No such file or directory: '/media/alexn/BstemAtlasDataBackup/ucsd_brain/CSHL_volumes/atlasV7/atlasV7_10.0um_scoreVolume/score_volumes/atlasV7_10.0um_scoreVolume_LRt_R.bp'\n",
      "Score volume for LRt_R does not exist.\n",
      "File does not exist: /media/alexn/BstemAtlasDataBackup/ucsd_brain/CSHL_volumes/atlasV7/atlasV7_10.0um_scoreVolume/score_volumes/atlasV7_10.0um_scoreVolume_Pn_L.bp\n",
      "[Errno 2] No such file or directory: '/media/alexn/BstemAtlasDataBackup/ucsd_brain/CSHL_volumes/atlasV7/atlasV7_10.0um_scoreVolume/score_volumes/atlasV7_10.0um_scoreVolume_Pn_L.bp'\n",
      "Score volume for Pn_L does not exist.\n",
      "File does not exist: /media/alexn/BstemAtlasDataBackup/ucsd_brain/CSHL_volumes/atlasV7/atlasV7_10.0um_scoreVolume/score_volumes/atlasV7_10.0um_scoreVolume_Pn_R.bp\n",
      "[Errno 2] No such file or directory: '/media/alexn/BstemAtlasDataBackup/ucsd_brain/CSHL_volumes/atlasV7/atlasV7_10.0um_scoreVolume/score_volumes/atlasV7_10.0um_scoreVolume_Pn_R.bp'\n",
      "Score volume for Pn_R does not exist.\n",
      "File does not exist: /media/alexn/BstemAtlasDataBackup/ucsd_brain/CSHL_volumes/atlasV7/atlasV7_10.0um_scoreVolume/score_volumes/atlasV7_10.0um_scoreVolume_Tz_L.bp\n",
      "[Errno 2] No such file or directory: '/media/alexn/BstemAtlasDataBackup/ucsd_brain/CSHL_volumes/atlasV7/atlasV7_10.0um_scoreVolume/score_volumes/atlasV7_10.0um_scoreVolume_Tz_L.bp'\n",
      "Score volume for Tz_L does not exist.\n",
      "File does not exist: /media/alexn/BstemAtlasDataBackup/ucsd_brain/CSHL_volumes/atlasV7/atlasV7_10.0um_scoreVolume/score_volumes/atlasV7_10.0um_scoreVolume_Tz_R.bp\n",
      "[Errno 2] No such file or directory: '/media/alexn/BstemAtlasDataBackup/ucsd_brain/CSHL_volumes/atlasV7/atlasV7_10.0um_scoreVolume/score_volumes/atlasV7_10.0um_scoreVolume_Tz_R.bp'\n",
      "Score volume for Tz_R does not exist.\n",
      "File does not exist: /media/alexn/BstemAtlasDataBackup/ucsd_brain/CSHL_volumes/atlasV7/atlasV7_10.0um_scoreVolume/score_volumes/atlasV7_10.0um_scoreVolume_VLL_L.bp\n",
      "[Errno 2] No such file or directory: '/media/alexn/BstemAtlasDataBackup/ucsd_brain/CSHL_volumes/atlasV7/atlasV7_10.0um_scoreVolume/score_volumes/atlasV7_10.0um_scoreVolume_VLL_L.bp'\n",
      "Score volume for VLL_L does not exist.\n",
      "File does not exist: /media/alexn/BstemAtlasDataBackup/ucsd_brain/CSHL_volumes/atlasV7/atlasV7_10.0um_scoreVolume/score_volumes/atlasV7_10.0um_scoreVolume_VLL_R.bp\n",
      "[Errno 2] No such file or directory: '/media/alexn/BstemAtlasDataBackup/ucsd_brain/CSHL_volumes/atlasV7/atlasV7_10.0um_scoreVolume/score_volumes/atlasV7_10.0um_scoreVolume_VLL_R.bp'\n",
      "Score volume for VLL_R does not exist.\n",
      "File does not exist: /media/alexn/BstemAtlasDataBackup/ucsd_brain/CSHL_volumes/atlasV7/atlasV7_10.0um_scoreVolume/score_volumes/atlasV7_10.0um_scoreVolume_RMC_L.bp\n",
      "[Errno 2] No such file or directory: '/media/alexn/BstemAtlasDataBackup/ucsd_brain/CSHL_volumes/atlasV7/atlasV7_10.0um_scoreVolume/score_volumes/atlasV7_10.0um_scoreVolume_RMC_L.bp'\n",
      "Score volume for RMC_L does not exist.\n",
      "File does not exist: /media/alexn/BstemAtlasDataBackup/ucsd_brain/CSHL_volumes/atlasV7/atlasV7_10.0um_scoreVolume/score_volumes/atlasV7_10.0um_scoreVolume_RMC_R.bp\n",
      "[Errno 2] No such file or directory: '/media/alexn/BstemAtlasDataBackup/ucsd_brain/CSHL_volumes/atlasV7/atlasV7_10.0um_scoreVolume/score_volumes/atlasV7_10.0um_scoreVolume_RMC_R.bp'\n",
      "Score volume for RMC_R does not exist.\n",
      "File does not exist: /media/alexn/BstemAtlasDataBackup/ucsd_brain/CSHL_volumes/atlasV7/atlasV7_10.0um_scoreVolume/score_volumes/atlasV7_10.0um_scoreVolume_SNC_L.bp\n",
      "[Errno 2] No such file or directory: '/media/alexn/BstemAtlasDataBackup/ucsd_brain/CSHL_volumes/atlasV7/atlasV7_10.0um_scoreVolume/score_volumes/atlasV7_10.0um_scoreVolume_SNC_L.bp'\n",
      "Score volume for SNC_L does not exist.\n",
      "File does not exist: /media/alexn/BstemAtlasDataBackup/ucsd_brain/CSHL_volumes/atlasV7/atlasV7_10.0um_scoreVolume/score_volumes/atlasV7_10.0um_scoreVolume_SNC_R.bp\n",
      "[Errno 2] No such file or directory: '/media/alexn/BstemAtlasDataBackup/ucsd_brain/CSHL_volumes/atlasV7/atlasV7_10.0um_scoreVolume/score_volumes/atlasV7_10.0um_scoreVolume_SNC_R.bp'\n",
      "Score volume for SNC_R does not exist.\n",
      "File does not exist: /media/alexn/BstemAtlasDataBackup/ucsd_brain/CSHL_volumes/atlasV7/atlasV7_10.0um_scoreVolume/score_volumes/atlasV7_10.0um_scoreVolume_SNR_L.bp\n",
      "[Errno 2] No such file or directory: '/media/alexn/BstemAtlasDataBackup/ucsd_brain/CSHL_volumes/atlasV7/atlasV7_10.0um_scoreVolume/score_volumes/atlasV7_10.0um_scoreVolume_SNR_L.bp'\n",
      "Score volume for SNR_L does not exist.\n",
      "File does not exist: /media/alexn/BstemAtlasDataBackup/ucsd_brain/CSHL_volumes/atlasV7/atlasV7_10.0um_scoreVolume/score_volumes/atlasV7_10.0um_scoreVolume_SNR_R.bp\n",
      "[Errno 2] No such file or directory: '/media/alexn/BstemAtlasDataBackup/ucsd_brain/CSHL_volumes/atlasV7/atlasV7_10.0um_scoreVolume/score_volumes/atlasV7_10.0um_scoreVolume_SNR_R.bp'\n",
      "Score volume for SNR_R does not exist.\n",
      "File does not exist: /media/alexn/BstemAtlasDataBackup/ucsd_brain/CSHL_volumes/atlasV7/atlasV7_10.0um_scoreVolume/score_volumes/atlasV7_10.0um_scoreVolume_3N_L.bp\n",
      "[Errno 2] No such file or directory: '/media/alexn/BstemAtlasDataBackup/ucsd_brain/CSHL_volumes/atlasV7/atlasV7_10.0um_scoreVolume/score_volumes/atlasV7_10.0um_scoreVolume_3N_L.bp'\n",
      "Score volume for 3N_L does not exist.\n",
      "File does not exist: /media/alexn/BstemAtlasDataBackup/ucsd_brain/CSHL_volumes/atlasV7/atlasV7_10.0um_scoreVolume/score_volumes/atlasV7_10.0um_scoreVolume_4N_L.bp\n",
      "[Errno 2] No such file or directory: '/media/alexn/BstemAtlasDataBackup/ucsd_brain/CSHL_volumes/atlasV7/atlasV7_10.0um_scoreVolume/score_volumes/atlasV7_10.0um_scoreVolume_4N_L.bp'\n",
      "Score volume for 4N_L does not exist.\n",
      "File does not exist: /media/alexn/BstemAtlasDataBackup/ucsd_brain/CSHL_volumes/atlasV7/atlasV7_10.0um_scoreVolume/score_volumes/atlasV7_10.0um_scoreVolume_Sp5I_L.bp\n",
      "[Errno 2] No such file or directory: '/media/alexn/BstemAtlasDataBackup/ucsd_brain/CSHL_volumes/atlasV7/atlasV7_10.0um_scoreVolume/score_volumes/atlasV7_10.0um_scoreVolume_Sp5I_L.bp'\n",
      "Score volume for Sp5I_L does not exist.\n",
      "File does not exist: /media/alexn/BstemAtlasDataBackup/ucsd_brain/CSHL_volumes/atlasV7/atlasV7_10.0um_scoreVolume/score_volumes/atlasV7_10.0um_scoreVolume_Sp5I_R.bp\n",
      "[Errno 2] No such file or directory: '/media/alexn/BstemAtlasDataBackup/ucsd_brain/CSHL_volumes/atlasV7/atlasV7_10.0um_scoreVolume/score_volumes/atlasV7_10.0um_scoreVolume_Sp5I_R.bp'\n",
      "Score volume for Sp5I_R does not exist.\n",
      "File does not exist: /media/alexn/BstemAtlasDataBackup/ucsd_brain/CSHL_volumes/atlasV7/atlasV7_10.0um_scoreVolume/score_volumes/atlasV7_10.0um_scoreVolume_Sp5O_L.bp\n",
      "[Errno 2] No such file or directory: '/media/alexn/BstemAtlasDataBackup/ucsd_brain/CSHL_volumes/atlasV7/atlasV7_10.0um_scoreVolume/score_volumes/atlasV7_10.0um_scoreVolume_Sp5O_L.bp'\n",
      "Score volume for Sp5O_L does not exist.\n",
      "File does not exist: /media/alexn/BstemAtlasDataBackup/ucsd_brain/CSHL_volumes/atlasV7/atlasV7_10.0um_scoreVolume/score_volumes/atlasV7_10.0um_scoreVolume_Sp5O_R.bp\n",
      "[Errno 2] No such file or directory: '/media/alexn/BstemAtlasDataBackup/ucsd_brain/CSHL_volumes/atlasV7/atlasV7_10.0um_scoreVolume/score_volumes/atlasV7_10.0um_scoreVolume_Sp5O_R.bp'\n",
      "Score volume for Sp5O_R does not exist.\n",
      "File does not exist: /media/alexn/BstemAtlasDataBackup/ucsd_brain/CSHL_volumes/atlasV7/atlasV7_10.0um_scoreVolume/score_volumes/atlasV7_10.0um_scoreVolume_Sp5C_L.bp\n",
      "[Errno 2] No such file or directory: '/media/alexn/BstemAtlasDataBackup/ucsd_brain/CSHL_volumes/atlasV7/atlasV7_10.0um_scoreVolume/score_volumes/atlasV7_10.0um_scoreVolume_Sp5C_L.bp'\n",
      "Score volume for Sp5C_L does not exist.\n",
      "File does not exist: /media/alexn/BstemAtlasDataBackup/ucsd_brain/CSHL_volumes/atlasV7/atlasV7_10.0um_scoreVolume/score_volumes/atlasV7_10.0um_scoreVolume_Sp5C_R.bp\n",
      "[Errno 2] No such file or directory: '/media/alexn/BstemAtlasDataBackup/ucsd_brain/CSHL_volumes/atlasV7/atlasV7_10.0um_scoreVolume/score_volumes/atlasV7_10.0um_scoreVolume_Sp5C_R.bp'\n",
      "Score volume for Sp5C_R does not exist.\n",
      "File does not exist: /media/alexn/BstemAtlasDataBackup/ucsd_brain/CSHL_volumes/atlasV7/atlasV7_10.0um_scoreVolume/score_volumes/atlasV7_10.0um_scoreVolume_PBG_L.bp\n",
      "[Errno 2] No such file or directory: '/media/alexn/BstemAtlasDataBackup/ucsd_brain/CSHL_volumes/atlasV7/atlasV7_10.0um_scoreVolume/score_volumes/atlasV7_10.0um_scoreVolume_PBG_L.bp'\n",
      "Score volume for PBG_L does not exist.\n",
      "File does not exist: /media/alexn/BstemAtlasDataBackup/ucsd_brain/CSHL_volumes/atlasV7/atlasV7_10.0um_scoreVolume/score_volumes/atlasV7_10.0um_scoreVolume_PBG_R.bp\n",
      "[Errno 2] No such file or directory: '/media/alexn/BstemAtlasDataBackup/ucsd_brain/CSHL_volumes/atlasV7/atlasV7_10.0um_scoreVolume/score_volumes/atlasV7_10.0um_scoreVolume_PBG_R.bp'\n",
      "Score volume for PBG_R does not exist.\n",
      "File does not exist: /media/alexn/BstemAtlasDataBackup/ucsd_brain/CSHL_volumes/atlasV7/atlasV7_10.0um_scoreVolume/score_volumes/atlasV7_10.0um_scoreVolume_10N_L.bp\n",
      "[Errno 2] No such file or directory: '/media/alexn/BstemAtlasDataBackup/ucsd_brain/CSHL_volumes/atlasV7/atlasV7_10.0um_scoreVolume/score_volumes/atlasV7_10.0um_scoreVolume_10N_L.bp'\n",
      "Score volume for 10N_L does not exist.\n",
      "File does not exist: /media/alexn/BstemAtlasDataBackup/ucsd_brain/CSHL_volumes/atlasV7/atlasV7_10.0um_scoreVolume/score_volumes/atlasV7_10.0um_scoreVolume_10N_R.bp\n",
      "[Errno 2] No such file or directory: '/media/alexn/BstemAtlasDataBackup/ucsd_brain/CSHL_volumes/atlasV7/atlasV7_10.0um_scoreVolume/score_volumes/atlasV7_10.0um_scoreVolume_10N_R.bp'\n",
      "Score volume for 10N_R does not exist.\n",
      "File does not exist: /media/alexn/BstemAtlasDataBackup/ucsd_brain/CSHL_volumes/atlasV7/atlasV7_10.0um_scoreVolume/score_volumes/atlasV7_10.0um_scoreVolume_VCA_L.bp\n",
      "[Errno 2] No such file or directory: '/media/alexn/BstemAtlasDataBackup/ucsd_brain/CSHL_volumes/atlasV7/atlasV7_10.0um_scoreVolume/score_volumes/atlasV7_10.0um_scoreVolume_VCA_L.bp'\n",
      "Score volume for VCA_L does not exist.\n",
      "File does not exist: /media/alexn/BstemAtlasDataBackup/ucsd_brain/CSHL_volumes/atlasV7/atlasV7_10.0um_scoreVolume/score_volumes/atlasV7_10.0um_scoreVolume_VCA_R.bp\n",
      "[Errno 2] No such file or directory: '/media/alexn/BstemAtlasDataBackup/ucsd_brain/CSHL_volumes/atlasV7/atlasV7_10.0um_scoreVolume/score_volumes/atlasV7_10.0um_scoreVolume_VCA_R.bp'\n",
      "Score volume for VCA_R does not exist.\n",
      "File does not exist: /media/alexn/BstemAtlasDataBackup/ucsd_brain/CSHL_volumes/atlasV7/atlasV7_10.0um_scoreVolume/score_volumes/atlasV7_10.0um_scoreVolume_VCP_L.bp\n",
      "[Errno 2] No such file or directory: '/media/alexn/BstemAtlasDataBackup/ucsd_brain/CSHL_volumes/atlasV7/atlasV7_10.0um_scoreVolume/score_volumes/atlasV7_10.0um_scoreVolume_VCP_L.bp'\n",
      "Score volume for VCP_L does not exist.\n",
      "File does not exist: /media/alexn/BstemAtlasDataBackup/ucsd_brain/CSHL_volumes/atlasV7/atlasV7_10.0um_scoreVolume/score_volumes/atlasV7_10.0um_scoreVolume_VCP_R.bp\n",
      "[Errno 2] No such file or directory: '/media/alexn/BstemAtlasDataBackup/ucsd_brain/CSHL_volumes/atlasV7/atlasV7_10.0um_scoreVolume/score_volumes/atlasV7_10.0um_scoreVolume_VCP_R.bp'\n",
      "Score volume for VCP_R does not exist.\n",
      "File does not exist: /media/alexn/BstemAtlasDataBackup/ucsd_brain/CSHL_volumes/atlasV7/atlasV7_10.0um_scoreVolume/score_volumes/atlasV7_10.0um_scoreVolume_DC_L.bp\n",
      "[Errno 2] No such file or directory: '/media/alexn/BstemAtlasDataBackup/ucsd_brain/CSHL_volumes/atlasV7/atlasV7_10.0um_scoreVolume/score_volumes/atlasV7_10.0um_scoreVolume_DC_L.bp'\n",
      "Score volume for DC_L does not exist.\n",
      "File does not exist: /media/alexn/BstemAtlasDataBackup/ucsd_brain/CSHL_volumes/atlasV7/atlasV7_10.0um_scoreVolume/score_volumes/atlasV7_10.0um_scoreVolume_DC_R.bp\n",
      "[Errno 2] No such file or directory: '/media/alexn/BstemAtlasDataBackup/ucsd_brain/CSHL_volumes/atlasV7/atlasV7_10.0um_scoreVolume/score_volumes/atlasV7_10.0um_scoreVolume_DC_R.bp'\n",
      "Score volume for DC_R does not exist.\n",
      "File does not exist: /media/alexn/BstemAtlasDataBackup/ucsd_brain/CSHL_volumes/atlasV7/atlasV7_10.0um_scoreVolume/score_volumes/atlasV7_10.0um_scoreVolume_AP.bp\n",
      "[Errno 2] No such file or directory: '/media/alexn/BstemAtlasDataBackup/ucsd_brain/CSHL_volumes/atlasV7/atlasV7_10.0um_scoreVolume/score_volumes/atlasV7_10.0um_scoreVolume_AP.bp'\n",
      "Score volume for AP does not exist.\n"
     ]
    },
    {
     "name": "stderr",
     "output_type": "stream",
     "text": [
      "File does not exist: /media/alexn/BstemAtlasDataBackup/ucsd_brain/CSHL_volumes/atlasV7/atlasV7_10.0um_scoreVolume/score_volumes/atlasV7_10.0um_scoreVolume_RtTg.bp\n",
      "[Errno 2] No such file or directory: '/media/alexn/BstemAtlasDataBackup/ucsd_brain/CSHL_volumes/atlasV7/atlasV7_10.0um_scoreVolume/score_volumes/atlasV7_10.0um_scoreVolume_RtTg.bp'\n",
      "Score volume for RtTg does not exist.\n",
      "File does not exist: /media/alexn/BstemAtlasDataBackup/ucsd_brain/CSHL_volumes/atlasV7/atlasV7_10.0um_scoreVolume/score_volumes/atlasV7_10.0um_scoreVolume_SC.bp\n",
      "[Errno 2] No such file or directory: '/media/alexn/BstemAtlasDataBackup/ucsd_brain/CSHL_volumes/atlasV7/atlasV7_10.0um_scoreVolume/score_volumes/atlasV7_10.0um_scoreVolume_SC.bp'\n",
      "Score volume for SC does not exist.\n",
      "File does not exist: /media/alexn/BstemAtlasDataBackup/ucsd_brain/CSHL_volumes/atlasV7/atlasV7_10.0um_scoreVolume/score_volumes/atlasV7_10.0um_scoreVolume_IC.bp\n",
      "[Errno 2] No such file or directory: '/media/alexn/BstemAtlasDataBackup/ucsd_brain/CSHL_volumes/atlasV7/atlasV7_10.0um_scoreVolume/score_volumes/atlasV7_10.0um_scoreVolume_IC.bp'\n",
      "Score volume for IC does not exist.\n"
     ]
    }
   ],
   "source": [
    "atlas_structures_wrt_canonicalAtlasSpace_atlasResol = \\\n",
    "DataManager.load_original_volume_all_known_structures_v3(atlas_spec, in_bbox_wrt='canonicalAtlasSpace',\n",
    "                                                        out_bbox_wrt='canonicalAtlasSpace')"
   ]
  },
  {
   "cell_type": "code",
   "execution_count": 59,
   "metadata": {
    "collapsed": true
   },
   "outputs": [],
   "source": [
    "atlas_structure_centroids_wrt_canonicalAtlasSpace_atlasResol = get_structure_centroids(\\\n",
    "                                    vol_origin_dict=atlas_structures_wrt_canonicalAtlasSpace_atlasResol)"
   ]
  },
  {
   "cell_type": "code",
   "execution_count": 60,
   "metadata": {
    "collapsed": true
   },
   "outputs": [],
   "source": [
    "atlas_anchor1_wrt_canonicalAtlasSpace_atlasResol = \\\n",
    "np.r_[atlas_structure_centroids_wrt_canonicalAtlasSpace_atlasResol['12N'][:2], 0]\n",
    "atlas_anchor2_wrt_canonicalAtlasSpace_atlasResol = \\\n",
    "np.r_[atlas_structure_centroids_wrt_canonicalAtlasSpace_atlasResol['3N_R'][:2], 0]"
   ]
  },
  {
   "cell_type": "code",
   "execution_count": 61,
   "metadata": {
    "collapsed": true
   },
   "outputs": [],
   "source": [
    "# stack = 'CHATM2'\n",
    "# stack = 'MD661'\n",
    "# stack = 'DEMO998'\n",
    "stack = 'UCSD001'"
   ]
  },
  {
   "cell_type": "code",
   "execution_count": 62,
   "metadata": {
    "collapsed": true
   },
   "outputs": [],
   "source": [
    "intensity_volume_spec = dict(name=stack, resolution='10.0um', prep_id='wholebrainWithMargin', \\\n",
    "                             vol_type='intensity')\n",
    "\n",
    "_, wholebrainWithMargin_origin_wrt_wholebrain_dataResol = \\\n",
    "DataManager.load_original_volume_v2(intensity_volume_spec, return_origin_instead_of_bbox=True)\n",
    "\n",
    "wholebrainWithMargin_origin_wrt_wholebrain_dataResol_x, \\\n",
    "    wholebrainWithMargin_origin_wrt_wholebrain_dataResol_y, \\\n",
    "    wholebrainWithMargin_origin_wrt_wholebrain_dataResol_z = \\\n",
    "wholebrainWithMargin_origin_wrt_wholebrain_dataResol"
   ]
  },
  {
   "cell_type": "code",
   "execution_count": 63,
   "metadata": {
    "collapsed": true
   },
   "outputs": [],
   "source": [
    "# Pick the x/y coordinates on the intensity volume (no margin).\n",
    "# Use the thumbnail sagittal panel (right bottom) in brain_labeling_gui. \n",
    "# Click a point while holding down space bar, then you can read off the coordinates at the GUI window's title bar.\n",
    "\n",
    "# bug? Must click on lossless to get accurate coordinates.\n",
    "\n",
    "# It seems subject_anchor2_wrt_wholebrainWithMargin_atlasResol are misnomer.\n",
    "# they should really be subject_anchor1_wrt_wholebrain_atlasResol.\n",
    "\n",
    "if stack == 'CHATM2':\n",
    "    subject_anchor1_wrt_wholebrainWithMargin_atlasResol = np.array([565,246,179]) * 20. / 10. # 12N\n",
    "    subject_anchor2_wrt_wholebrainWithMargin_atlasResol = np.array([388,183,179]) * 20. / 10. # 3N_L\n",
    "elif stack == 'CHATM3':\n",
    "    subject_anchor1_wrt_wholebrainWithMargin_atlasResol = np.array([740,258,230]) * 20. / 10.\n",
    "    subject_anchor2_wrt_wholebrainWithMargin_atlasResol = np.array([550,195,230]) * 20. / 10.\n",
    "elif stack == 'MD593':\n",
    "    subject_anchor1_wrt_wholebrainWithMargin_atlasResol = np.array([647*20., 233*20., 164*10.+138*20.]) / 10.\n",
    "    subject_anchor2_wrt_wholebrainWithMargin_atlasResol = np.array([474*20., 171*20., 164*10.+138*20.]) / 10.\n",
    "elif stack == 'MD589':\n",
    "    # Here 605 is the x of 12N's center, 260 is the y of 12N's center, 135 is the z of mid-sagittal plane. All in GUI's intensity volume voxel unit (20um/voxel).\n",
    "    subject_anchor1_wrt_wholebrainWithMargin_atlasResol = np.array([605*20., 260*20., wholebrainWithMargin_origin_wrt_wholebrain_dataResol_z*10.+135*20.]) / 10.\n",
    "    subject_anchor2_wrt_wholebrainWithMargin_atlasResol = np.array([456*20., 175*20., wholebrainWithMargin_origin_wrt_wholebrain_dataResol_z*10.+135*20.]) / 10.\n",
    "elif stack == 'MD585':\n",
    "    subject_anchor1_wrt_wholebrainWithMargin_atlasResol = np.array([614*20., 241*20., wholebrainWithMargin_origin_wrt_wholebrain_dataResol_z*10.+117*20.]) / 10.\n",
    "    subject_anchor2_wrt_wholebrainWithMargin_atlasResol = np.array([423*20., 165*20., wholebrainWithMargin_origin_wrt_wholebrain_dataResol_z*10.+145*20.]) / 10.\n",
    "elif stack == 'MD590':\n",
    "    subject_anchor1_wrt_wholebrainWithMargin_atlasResol = np.array([650*20., 239*20., wholebrainWithMargin_origin_wrt_wholebrain_dataResol_z*10.+124*20.]) / 10.\n",
    "    subject_anchor2_wrt_wholebrainWithMargin_atlasResol = np.array([473*20., 159*20., wholebrainWithMargin_origin_wrt_wholebrain_dataResol_z*10.+124*20.]) / 10.\n",
    "elif stack == 'MD591':\n",
    "    subject_anchor1_wrt_wholebrainWithMargin_atlasResol = np.array([637*20., 287*20., wholebrainWithMargin_origin_wrt_wholebrain_dataResol_z*10.+124*20.]) / 10.\n",
    "    subject_anchor2_wrt_wholebrainWithMargin_atlasResol = np.array([469*20., 190*20., wholebrainWithMargin_origin_wrt_wholebrain_dataResol_z*10.+124*20.]) / 10.\n",
    "elif stack == 'MD592':\n",
    "    subject_anchor1_wrt_wholebrainWithMargin_atlasResol = np.array([647*20., 223*20., wholebrainWithMargin_origin_wrt_wholebrain_dataResol_z*10.+136*20.]) / 10.\n",
    "    subject_anchor2_wrt_wholebrainWithMargin_atlasResol = np.array([470*20., 180*20., wholebrainWithMargin_origin_wrt_wholebrain_dataResol_z*10.+136*20.]) / 10.\n",
    "elif stack == 'MD594':\n",
    "    subject_anchor1_wrt_wholebrainWithMargin_atlasResol = np.array([650*20., 189*20., wholebrainWithMargin_origin_wrt_wholebrain_dataResol_z*10.+136*20.]) / 10.\n",
    "    subject_anchor2_wrt_wholebrainWithMargin_atlasResol = np.array([461*20., 151*20., wholebrainWithMargin_origin_wrt_wholebrain_dataResol_z*10.+136*20.]) / 10.\n",
    "elif stack == 'MD595':\n",
    "    subject_anchor1_wrt_wholebrainWithMargin_atlasResol = np.array([674*20., 225*20., wholebrainWithMargin_origin_wrt_wholebrain_dataResol_z*10.+137*20.]) / 10.\n",
    "    subject_anchor2_wrt_wholebrainWithMargin_atlasResol = np.array([486*20., 180*20., wholebrainWithMargin_origin_wrt_wholebrain_dataResol_z*10.+137*20.]) / 10.\n",
    "elif stack == 'MD598':\n",
    "    subject_anchor1_wrt_wholebrainWithMargin_atlasResol = np.array([628*20., 206*20., wholebrainWithMargin_origin_wrt_wholebrain_dataResol_z*10.+165*20.]) / 10.\n",
    "    subject_anchor2_wrt_wholebrainWithMargin_atlasResol = np.array([464*20., 164*20., wholebrainWithMargin_origin_wrt_wholebrain_dataResol_z*10.+165*20.]) / 10.\n",
    "elif stack == 'MD599':\n",
    "    subject_anchor1_wrt_wholebrainWithMargin_atlasResol = np.array([682*20., 222*20., wholebrainWithMargin_origin_wrt_wholebrain_dataResol_z*10.+129*20.]) / 10.\n",
    "    subject_anchor2_wrt_wholebrainWithMargin_atlasResol = np.array([505*20., 175*20., wholebrainWithMargin_origin_wrt_wholebrain_dataResol_z*10.+129*20.]) / 10.\n",
    "elif stack == 'MD602':\n",
    "    subject_anchor1_wrt_wholebrainWithMargin_atlasResol = np.array([668*20., 197*20., wholebrainWithMargin_origin_wrt_wholebrain_dataResol_z*10.+135*20.]) / 10.\n",
    "    subject_anchor2_wrt_wholebrainWithMargin_atlasResol = np.array([460*20., 157*20., wholebrainWithMargin_origin_wrt_wholebrain_dataResol_z*10.+135*20.]) / 10.\n",
    "elif stack == 'MD603':\n",
    "    subject_anchor1_wrt_wholebrainWithMargin_atlasResol = np.array([651*20., 229*20., wholebrainWithMargin_origin_wrt_wholebrain_dataResol_z*10.+153*20.]) / 10.\n",
    "    subject_anchor2_wrt_wholebrainWithMargin_atlasResol = np.array([446*20., 168*20., wholebrainWithMargin_origin_wrt_wholebrain_dataResol_z*10.+153*20.]) / 10.\n",
    "elif stack == 'MD661':\n",
    "    subject_anchor1_wrt_wholebrainWithMargin_atlasResol = np.array([559*20., 209*20., wholebrainWithMargin_origin_wrt_wholebrain_dataResol_z*10.+140*20.]) / 10.\n",
    "    subject_anchor2_wrt_wholebrainWithMargin_atlasResol = np.array([383*20., 166*20., wholebrainWithMargin_origin_wrt_wholebrain_dataResol_z*10.+140*20.]) / 10.\n",
    "elif stack == 'DEMO998':\n",
    "    mid_z_wrt_wholebrainWithMargin = 0 # this must be changed\n",
    "    subject_anchor1_wrt_wholebrain_atlasResol = np.array([wholebrainWithMargin_origin_wrt_wholebrain_dataResol_x * 10. + 558*20., \n",
    "                                                          wholebrainWithMargin_origin_wrt_wholebrain_dataResol_y * 10. + 207*20., \n",
    "                                                          wholebrainWithMargin_origin_wrt_wholebrain_dataResol_z*10. + mid_z_wrt_wholebrainWithMargin*20.]) / 10.\n",
    "    subject_anchor2_wrt_wholebrain_atlasResol = np.array([wholebrainWithMargin_origin_wrt_wholebrain_dataResol_x * 10. + 366*20., \n",
    "                                                          wholebrainWithMargin_origin_wrt_wholebrain_dataResol_y * 10. + 171*20., \n",
    "                                                          wholebrainWithMargin_origin_wrt_wholebrain_dataResol_z*10. + mid_z_wrt_wholebrainWithMargin*20.]) / 10.\n",
    "elif stack == 'UCSD001':\n",
    "    mid_z_wrt_wholebrainWithMargin = 160\n",
    "    subject_anchor1_wrt_wholebrain_atlasResol = np.array([wholebrainWithMargin_origin_wrt_wholebrain_dataResol_x * 10. + 640*20., \n",
    "                                                          wholebrainWithMargin_origin_wrt_wholebrain_dataResol_y * 10. + 257*20., \n",
    "                                                          wholebrainWithMargin_origin_wrt_wholebrain_dataResol_z*10. + mid_z_wrt_wholebrainWithMargin*20.]) / 10.\n",
    "    subject_anchor2_wrt_wholebrain_atlasResol = np.array([wholebrainWithMargin_origin_wrt_wholebrain_dataResol_x * 10. + 460*20., \n",
    "                                                          wholebrainWithMargin_origin_wrt_wholebrain_dataResol_y * 10. + 218*20., \n",
    "                                                          wholebrainWithMargin_origin_wrt_wholebrain_dataResol_z*10. + mid_z_wrt_wholebrainWithMargin*20.]) / 10.\n",
    "else:\n",
    "    raise"
   ]
  },
  {
   "cell_type": "code",
   "execution_count": 64,
   "metadata": {
    "collapsed": true
   },
   "outputs": [],
   "source": [
    "def align_anchors(pm1, pm2, pf1, pf2):\n",
    "    \"\"\"\n",
    "    Align the vector (pm1, pm2) and vector (pf1, pf2), and align the two middle points. \n",
    "    \"\"\"\n",
    "    \n",
    "    t = ((pf1 + pf2) / 2. - (pm1 + pm2) / 2.)\n",
    "    \n",
    "    subject_d = pf1 - pf2\n",
    "    atlas_d = pm1 - pm2\n",
    "\n",
    "    subject_d_n = subject_d / np.linalg.norm(subject_d)\n",
    "    atlas_d_n = atlas_d / np.linalg.norm(atlas_d)\n",
    "\n",
    "    R = R_align_two_vectors(atlas_d_n, subject_d_n)\n",
    "    \n",
    "    T = np.zeros((3,4))\n",
    "    T[:3, :3] = R\n",
    "#     T[:3, 3] = np.dot(R, t)\n",
    "    T[:3, 3] = t\n",
    "    \n",
    "    return T"
   ]
  },
  {
   "cell_type": "code",
   "execution_count": 66,
   "metadata": {
    "collapsed": true
   },
   "outputs": [],
   "source": [
    "if stack == 'DEMO998' or stack=='UCSD001':\n",
    "    wholebrainWithMargin_origin_wrt_wholebrain_dataResol = \\\n",
    "    np.r_[wholebrainWithMargin_origin_wrt_wholebrain_dataResol_x,\n",
    "          wholebrainWithMargin_origin_wrt_wholebrain_dataResol_y,\n",
    "          wholebrainWithMargin_origin_wrt_wholebrain_dataResol_z]\n",
    "else:\n",
    "    wholebrainWithMargin_origin_wrt_wholebrain_dataResol = \\\n",
    "np.r_[wholebrainWithMargin_origin_wrt_wholebrain_dataResol_x,\n",
    "      wholebrainWithMargin_origin_wrt_wholebrain_dataResol_y,\n",
    "      0]\n",
    "\n",
    "    subject_anchor1_wrt_wholebrain_atlasResol = subject_anchor1_wrt_wholebrainWithMargin_atlasResol + \\\n",
    "    wholebrainWithMargin_origin_wrt_wholebrain_dataResol # only valid because dataResol is same as atlasResol\n",
    "\n",
    "    subject_anchor2_wrt_wholebrain_atlasResol = subject_anchor2_wrt_wholebrainWithMargin_atlasResol + \\\n",
    "    wholebrainWithMargin_origin_wrt_wholebrain_dataResol # only valid because dataResol is same as atlasResol"
   ]
  },
  {
   "cell_type": "code",
   "execution_count": 67,
   "metadata": {},
   "outputs": [
    {
     "data": {
      "text/plain": [
       "array([200.54678679,  68.66154597,   0.        ])"
      ]
     },
     "execution_count": 67,
     "metadata": {},
     "output_type": "execute_result"
    }
   ],
   "source": [
    "atlas_anchor1_wrt_canonicalAtlasSpace_atlasResol"
   ]
  },
  {
   "cell_type": "code",
   "execution_count": 68,
   "metadata": {},
   "outputs": [
    {
     "data": {
      "text/plain": [
       "array([1403.,  576.,  528.])"
      ]
     },
     "execution_count": 68,
     "metadata": {},
     "output_type": "execute_result"
    }
   ],
   "source": [
    "subject_anchor1_wrt_wholebrain_atlasResol"
   ]
  },
  {
   "cell_type": "code",
   "execution_count": null,
   "metadata": {
    "collapsed": true
   },
   "outputs": [],
   "source": []
  },
  {
   "cell_type": "code",
   "execution_count": 69,
   "metadata": {
    "collapsed": true
   },
   "outputs": [],
   "source": [
    "T_atlas_wrt_canonicalAtlasSpace_subject_wrt_wholebrain_atlasResol = \\\n",
    "align_anchors(atlas_anchor1_wrt_canonicalAtlasSpace_atlasResol, atlas_anchor2_wrt_canonicalAtlasSpace_atlasResol,\n",
    "             subject_anchor1_wrt_wholebrain_atlasResol, subject_anchor2_wrt_wholebrain_atlasResol)"
   ]
  },
  {
   "cell_type": "code",
   "execution_count": 70,
   "metadata": {
    "scrolled": true
   },
   "outputs": [
    {
     "name": "stdout",
     "output_type": "stream",
     "text": [
      "[[ 9.63404748e-01  2.68060726e-01  0.00000000e+00  1.18974282e+03]\n",
      " [-2.68060726e-01  9.63404748e-01  0.00000000e+00  5.56443355e+02]\n",
      " [ 0.00000000e+00  0.00000000e+00  1.00000000e+00  5.28000000e+02]]\n"
     ]
    }
   ],
   "source": [
    "print T_atlas_wrt_canonicalAtlasSpace_subject_wrt_wholebrain_atlasResol"
   ]
  },
  {
   "cell_type": "code",
   "execution_count": 71,
   "metadata": {
    "collapsed": true
   },
   "outputs": [],
   "source": [
    "# https://www.lfd.uci.edu/~gohlke/code/transformations.py.html\n",
    "\n",
    "def quaternion_about_axis(angle, axis):\n",
    "    \"\"\"Return quaternion for rotation about axis.\n",
    "\n",
    "    >>> q = quaternion_about_axis(0.123, [1, 0, 0])\n",
    "    >>> numpy.allclose(q, [0.99810947, 0.06146124, 0, 0])\n",
    "    True\n",
    "\n",
    "    \"\"\"\n",
    "    q = np.array([0.0, axis[0], axis[1], axis[2]])\n",
    "    qlen = np.linalg.norm(q)\n",
    "    q *= np.sin(angle/2.0) / qlen\n",
    "    q[0] = np.cos(angle/2.0)\n",
    "    return q\n",
    "\n",
    "\n",
    "def quaternion_matrix(quaternion):\n",
    "    \"\"\"Return homogeneous rotation matrix from quaternion.\n",
    "\n",
    "    >>> M = quaternion_matrix([0.99810947, 0.06146124, 0, 0])\n",
    "    >>> numpy.allclose(M, rotation_matrix(0.123, [1, 0, 0]))\n",
    "    True\n",
    "    >>> M = quaternion_matrix([1, 0, 0, 0])\n",
    "    >>> numpy.allclose(M, numpy.identity(4))\n",
    "    True\n",
    "    >>> M = quaternion_matrix([0, 1, 0, 0])\n",
    "    >>> numpy.allclose(M, numpy.diag([1, -1, -1, 1]))\n",
    "    True\n",
    "\n",
    "    \"\"\"\n",
    "    q = np.array(quaternion, dtype=np.float64, copy=True)\n",
    "    n = np.dot(q, q)\n",
    "    q *= np.sqrt(2.0 / n)\n",
    "    q = np.outer(q, q)\n",
    "    return np.array([\n",
    "        [1.0-q[2, 2]-q[3, 3],     q[1, 2]-q[3, 0],     q[1, 3]+q[2, 0], 0.0],\n",
    "        [    q[1, 2]+q[3, 0], 1.0-q[1, 1]-q[3, 3],     q[2, 3]-q[1, 0], 0.0],\n",
    "        [    q[1, 3]-q[2, 0],     q[2, 3]+q[1, 0], 1.0-q[1, 1]-q[2, 2], 0.0],\n",
    "        [                0.0,                 0.0,                 0.0, 1.0]])\n",
    "\n",
    "rand_vec = np.random.uniform(size=3)\n",
    "rand_vec = rand_vec / np.linalg.norm(rand_vec)\n",
    "rand_rot_amount = np.random.uniform(high=np.deg2rad(5))\n",
    "perturb_rot = quaternion_matrix(quaternion_about_axis(rand_rot_amount, rand_vec))\n",
    "\n",
    "perturb_xyz = np.random.choice(np.arange(-30, 30), 3)\n",
    "\n",
    "T_atlas_wrt_canonicalAtlasSpace_subject_wrt_wholebrain_atlasResol = \\\n",
    "np.dot(T_atlas_wrt_canonicalAtlasSpace_subject_wrt_wholebrain_atlasResol, perturb_rot)\n",
    "T_atlas_wrt_canonicalAtlasSpace_subject_wrt_wholebrain_atlasResol[:3, 3] += perturb_xyz"
   ]
  },
  {
   "cell_type": "code",
   "execution_count": 72,
   "metadata": {},
   "outputs": [
    {
     "name": "stdout",
     "output_type": "stream",
     "text": [
      "[[ 9.75061546e-01  2.21337993e-01  1.64236256e-02  1.17874282e+03]\n",
      " [-2.21085932e-01  9.75128045e-01 -1.58609041e-02  5.59443355e+02]\n",
      " [-1.95256559e-02  1.18342629e-02  9.99739316e-01  5.29000000e+02]]\n"
     ]
    }
   ],
   "source": [
    "print T_atlas_wrt_canonicalAtlasSpace_subject_wrt_wholebrain_atlasResol"
   ]
  },
  {
   "cell_type": "code",
   "execution_count": 73,
   "metadata": {},
   "outputs": [
    {
     "ename": "OSError",
     "evalue": "[Errno 17] File exists: '/media/alexn/BstemAtlasDataBackup/ucsd_brain/CSHL_simple_global_registration/'",
     "output_type": "error",
     "traceback": [
      "\u001b[0;31m---------------------------------------------------------------------------\u001b[0m",
      "\u001b[0;31mOSError\u001b[0m                                   Traceback (most recent call last)",
      "\u001b[0;32m<ipython-input-73-f1551eabd615>\u001b[0m in \u001b[0;36m<module>\u001b[0;34m()\u001b[0m\n\u001b[1;32m      1\u001b[0m \u001b[0;31m# Create empty directory with empty text file otherwise the next step won't work\u001b[0m\u001b[0;34m\u001b[0m\u001b[0;34m\u001b[0m\u001b[0m\n\u001b[1;32m      2\u001b[0m \u001b[0;34m\u001b[0m\u001b[0m\n\u001b[0;32m----> 3\u001b[0;31m \u001b[0mos\u001b[0m\u001b[0;34m.\u001b[0m\u001b[0mmkdir\u001b[0m\u001b[0;34m(\u001b[0m\u001b[0mROOT_DIR\u001b[0m\u001b[0;34m+\u001b[0m\u001b[0;34m'CSHL_simple_global_registration/'\u001b[0m\u001b[0;34m)\u001b[0m\u001b[0;34m\u001b[0m\u001b[0m\n\u001b[0m\u001b[1;32m      4\u001b[0m \u001b[0;34m\u001b[0m\u001b[0m\n\u001b[1;32m      5\u001b[0m \u001b[0mopen\u001b[0m\u001b[0;34m(\u001b[0m\u001b[0mROOT_DIR\u001b[0m\u001b[0;34m+\u001b[0m\u001b[0;34m'CSHL_simple_global_registration/UCSD001_T_atlas_wrt_canonicalAtlasSpace_subject_wrt_wholebrain_atlasResol.txt'\u001b[0m\u001b[0;34m,\u001b[0m \u001b[0;34m'a'\u001b[0m\u001b[0;34m)\u001b[0m\u001b[0;34m.\u001b[0m\u001b[0mclose\u001b[0m\u001b[0;34m(\u001b[0m\u001b[0;34m)\u001b[0m\u001b[0;34m\u001b[0m\u001b[0m\n",
      "\u001b[0;31mOSError\u001b[0m: [Errno 17] File exists: '/media/alexn/BstemAtlasDataBackup/ucsd_brain/CSHL_simple_global_registration/'"
     ]
    }
   ],
   "source": [
    "# Create empty directory with empty text file otherwise the next step won't work\n",
    "\n",
    "os.mkdir(ROOT_DIR+'CSHL_simple_global_registration/')\n",
    "\n",
    "open(ROOT_DIR+'CSHL_simple_global_registration/UCSD001_T_atlas_wrt_\\\n",
    "canonicalAtlasSpace_subject_wrt_wholebrain_atlasResol.txt', 'a').close()"
   ]
  },
  {
   "cell_type": "code",
   "execution_count": 74,
   "metadata": {
    "collapsed": true
   },
   "outputs": [],
   "source": [
    "np.savetxt(os.path.join(DATA_ROOTDIR, 'CSHL_simple_global_registration', stack + \\\n",
    "                        '_T_atlas_wrt_canonicalAtlasSpace_subject_wrt_wholebrain_atlasResol.txt'),\n",
    "           T_atlas_wrt_canonicalAtlasSpace_subject_wrt_wholebrain_atlasResol)"
   ]
  },
  {
   "cell_type": "code",
   "execution_count": 75,
   "metadata": {
    "collapsed": true
   },
   "outputs": [],
   "source": [
    "bp.pack_ndarray_file(T_atlas_wrt_canonicalAtlasSpace_subject_wrt_wholebrain_atlasResol, \n",
    "                     os.path.join(DATA_ROOTDIR, 'CSHL_simple_global_registration', stack + \\\n",
    "                                  '_T_atlas_wrt_canonicalAtlasSpace_subject_wrt_wholebrain_atlasResol.bp'))"
   ]
  },
  {
   "cell_type": "code",
   "execution_count": null,
   "metadata": {
    "collapsed": true
   },
   "outputs": [],
   "source": []
  }
 ],
 "metadata": {
  "kernelspec": {
   "display_name": "Python 2",
   "language": "python",
   "name": "python2"
  },
  "language_info": {
   "codemirror_mode": {
    "name": "ipython",
    "version": 2
   },
   "file_extension": ".py",
   "mimetype": "text/x-python",
   "name": "python",
   "nbconvert_exporter": "python",
   "pygments_lexer": "ipython2",
   "version": "2.7.12"
  }
 },
 "nbformat": 4,
 "nbformat_minor": 2
}
