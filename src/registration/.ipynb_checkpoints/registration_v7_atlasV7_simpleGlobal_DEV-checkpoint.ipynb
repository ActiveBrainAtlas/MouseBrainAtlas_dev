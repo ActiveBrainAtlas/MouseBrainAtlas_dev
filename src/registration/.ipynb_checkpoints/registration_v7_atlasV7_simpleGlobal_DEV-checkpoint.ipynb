{
 "cells": [
  {
   "cell_type": "code",
   "execution_count": 10,
   "metadata": {
    "scrolled": true
   },
   "outputs": [
    {
     "name": "stderr",
     "output_type": "stream",
     "text": [
      "/home/alexn/brainDev/src//utilities/utilities2015.py:2: UserWarning: \n",
      "This call to matplotlib.use() has no effect because the backend has already\n",
      "been chosen; matplotlib.use() must be called *before* pylab, matplotlib.pyplot,\n",
      "or matplotlib.backends is imported for the first time.\n",
      "\n",
      "The backend was *originally* set to 'module://ipykernel.pylab.backend_inline' by the following code:\n",
      "  File \"/usr/lib/python2.7/runpy.py\", line 174, in _run_module_as_main\n",
      "    \"__main__\", fname, loader, pkg_name)\n",
      "  File \"/usr/lib/python2.7/runpy.py\", line 72, in _run_code\n",
      "    exec code in run_globals\n",
      "  File \"/usr/local/lib/python2.7/dist-packages/ipykernel_launcher.py\", line 16, in <module>\n",
      "    app.launch_new_instance()\n",
      "  File \"/usr/local/lib/python2.7/dist-packages/traitlets/config/application.py\", line 658, in launch_instance\n",
      "    app.start()\n",
      "  File \"/usr/local/lib/python2.7/dist-packages/ipykernel/kernelapp.py\", line 477, in start\n",
      "    ioloop.IOLoop.instance().start()\n",
      "  File \"/usr/local/lib/python2.7/dist-packages/zmq/eventloop/ioloop.py\", line 177, in start\n",
      "    super(ZMQIOLoop, self).start()\n",
      "  File \"/usr/local/lib/python2.7/dist-packages/tornado/ioloop.py\", line 888, in start\n",
      "    handler_func(fd_obj, events)\n",
      "  File \"/usr/local/lib/python2.7/dist-packages/tornado/stack_context.py\", line 277, in null_wrapper\n",
      "    return fn(*args, **kwargs)\n",
      "  File \"/usr/local/lib/python2.7/dist-packages/zmq/eventloop/zmqstream.py\", line 440, in _handle_events\n",
      "    self._handle_recv()\n",
      "  File \"/usr/local/lib/python2.7/dist-packages/zmq/eventloop/zmqstream.py\", line 472, in _handle_recv\n",
      "    self._run_callback(callback, msg)\n",
      "  File \"/usr/local/lib/python2.7/dist-packages/zmq/eventloop/zmqstream.py\", line 414, in _run_callback\n",
      "    callback(*args, **kwargs)\n",
      "  File \"/usr/local/lib/python2.7/dist-packages/tornado/stack_context.py\", line 277, in null_wrapper\n",
      "    return fn(*args, **kwargs)\n",
      "  File \"/usr/local/lib/python2.7/dist-packages/ipykernel/kernelbase.py\", line 283, in dispatcher\n",
      "    return self.dispatch_shell(stream, msg)\n",
      "  File \"/usr/local/lib/python2.7/dist-packages/ipykernel/kernelbase.py\", line 235, in dispatch_shell\n",
      "    handler(stream, idents, msg)\n",
      "  File \"/usr/local/lib/python2.7/dist-packages/ipykernel/kernelbase.py\", line 399, in execute_request\n",
      "    user_expressions, allow_stdin)\n",
      "  File \"/usr/local/lib/python2.7/dist-packages/ipykernel/ipkernel.py\", line 196, in do_execute\n",
      "    res = shell.run_cell(code, store_history=store_history, silent=silent)\n",
      "  File \"/usr/local/lib/python2.7/dist-packages/ipykernel/zmqshell.py\", line 533, in run_cell\n",
      "    return super(ZMQInteractiveShell, self).run_cell(*args, **kwargs)\n",
      "  File \"/usr/local/lib/python2.7/dist-packages/IPython/core/interactiveshell.py\", line 2718, in run_cell\n",
      "    interactivity=interactivity, compiler=compiler, result=result)\n",
      "  File \"/usr/local/lib/python2.7/dist-packages/IPython/core/interactiveshell.py\", line 2822, in run_ast_nodes\n",
      "    if self.run_code(code, result):\n",
      "  File \"/usr/local/lib/python2.7/dist-packages/IPython/core/interactiveshell.py\", line 2882, in run_code\n",
      "    exec(code_obj, self.user_global_ns, self.user_ns)\n",
      "  File \"<ipython-input-10-ddfbdcfdc57e>\", line 9, in <module>\n",
      "    get_ipython().magic(u'matplotlib inline')\n",
      "  File \"/usr/local/lib/python2.7/dist-packages/IPython/core/interactiveshell.py\", line 2160, in magic\n",
      "    return self.run_line_magic(magic_name, magic_arg_s)\n",
      "  File \"/usr/local/lib/python2.7/dist-packages/IPython/core/interactiveshell.py\", line 2081, in run_line_magic\n",
      "    result = fn(*args,**kwargs)\n",
      "  File \"<decorator-gen-105>\", line 2, in matplotlib\n",
      "  File \"/usr/local/lib/python2.7/dist-packages/IPython/core/magic.py\", line 188, in <lambda>\n",
      "    call = lambda f, *a, **k: f(*a, **k)\n",
      "  File \"/usr/local/lib/python2.7/dist-packages/IPython/core/magics/pylab.py\", line 100, in matplotlib\n",
      "    gui, backend = self.shell.enable_matplotlib(args.gui)\n",
      "  File \"/usr/local/lib/python2.7/dist-packages/IPython/core/interactiveshell.py\", line 2950, in enable_matplotlib\n",
      "    pt.activate_matplotlib(backend)\n",
      "  File \"/usr/local/lib/python2.7/dist-packages/IPython/core/pylabtools.py\", line 308, in activate_matplotlib\n",
      "    matplotlib.pyplot.switch_backend(backend)\n",
      "  File \"/usr/local/lib/python2.7/dist-packages/matplotlib/pyplot.py\", line 232, in switch_backend\n",
      "    matplotlib.use(newbackend, warn=False, force=True)\n",
      "  File \"/usr/local/lib/python2.7/dist-packages/matplotlib/__init__.py\", line 1305, in use\n",
      "    reload(sys.modules['matplotlib.backends'])\n",
      "  File \"/usr/local/lib/python2.7/dist-packages/matplotlib/backends/__init__.py\", line 14, in <module>\n",
      "    line for line in traceback.format_stack()\n",
      "\n",
      "\n",
      "  matplotlib.use('Agg')\n",
      "ENABLE_UPLOAD_S3 is not set, default to False.\n",
      "ENABLE_DOWNLOAD_S3 is not set, default to False.\n",
      "No anchor.txt is found. Seems we are using the operation ini to provide anchor. Try to load operation ini.\n",
      "Failed to cache MD585 anchor: ini file /media/alexn/BstemAtlasDataBackup/script_test/CSHL_data_processed/MD585/operation_configs/from_none_to_aligned.ini does not exist.\n",
      "File does not exist: /media/alexn/BstemAtlasDataBackup/script_test/CSHL_data_processed/MD585/MD585_sorted_filenames.txt\n",
      "Failed to cache MD585 sections_to_filenames: \n",
      "File does not exist: /media/alexn/BstemAtlasDataBackup/script_test/CSHL_data_processed/MD585/MD585_sorted_filenames.txt\n",
      "Failed to cache MD585 filenames_to_sections: \n",
      "No anchor.txt is found. Seems we are using the operation ini to provide anchor. Try to load operation ini.\n",
      "Failed to cache MD585 section_limits: ini file /media/alexn/BstemAtlasDataBackup/script_test/CSHL_data_processed/MD585/operation_configs/from_none_to_aligned.ini does not exist.\n",
      "No anchor.txt is found. Seems we are using the operation ini to provide anchor. Try to load operation ini.\n",
      "Failed to cache MD585 cropbox: ini file /media/alexn/BstemAtlasDataBackup/script_test/CSHL_data_processed/MD585/operation_configs/from_none_to_aligned.ini does not exist.\n",
      "Failed to cache MD585 valid_sections/filenames: MD585\n",
      "No anchor.txt is found. Seems we are using the operation ini to provide anchor. Try to load operation ini.\n",
      "Failed to cache MD585 image_shape: ini file /media/alexn/BstemAtlasDataBackup/script_test/CSHL_data_processed/MD585/operation_configs/from_none_to_aligned.ini does not exist.\n"
     ]
    },
    {
     "name": "stdout",
     "output_type": "stream",
     "text": [
      "Setting environment for Precision WorkStation for Alex Newberry\n",
      "{'DK1-2': 0.46, 'UCSD001': 0.325}\n",
      "/media/alexn/BstemAtlasDataBackup/script_test/CSHL_data_processed/UCSD001/UCSD001_cropbox.ini\n",
      "/media/alexn/BstemAtlasDataBackup/script_test/CSHL_data_processed/UCSD001/UCSD001_cropbox.ini\n",
      "/media/alexn/BstemAtlasDataBackup/script_test/CSHL_data_processed/DK1-2/DK1-2_cropbox.ini\n",
      "/media/alexn/BstemAtlasDataBackup/script_test/CSHL_data_processed/DK1-2/DK1-2_cropbox.ini\n"
     ]
    },
    {
     "name": "stderr",
     "output_type": "stream",
     "text": [
      "Seems you are using operation INIs to provide cropbox.\n",
      "Seems you are using operation INIs to provide cropbox.\n",
      "Seems you are using operation INIs to provide cropbox.\n",
      "Seems you are using operation INIs to provide cropbox.\n"
     ]
    }
   ],
   "source": [
    "%load_ext autoreload\n",
    "%autoreload 2\n",
    "\n",
    "import sys\n",
    "import os\n",
    "import time\n",
    "\n",
    "import matplotlib.pyplot as plt\n",
    "%matplotlib inline\n",
    "from multiprocess import Pool\n",
    "import numpy as np\n",
    "\n",
    "sys.path.append(os.environ['REPO_DIR'] + '/utilities')\n",
    "from utilities2015 import *\n",
    "from metadata import *\n",
    "from data_manager import *\n",
    "\n",
    "from registration_utilities import *"
   ]
  },
  {
   "cell_type": "code",
   "execution_count": 11,
   "metadata": {
    "collapsed": true
   },
   "outputs": [],
   "source": [
    "# For DEMO998, use atlasV7\n",
    "atlas_spec = dict(name='atlasV7',\n",
    "                   vol_type='score'    ,               \n",
    "                    resolution='10.0um'\n",
    "                   )\n",
    "\n",
    "# atlas_spec = dict(name='atlasV6',\n",
    "#                    vol_type='score'    ,               \n",
    "#                     resolution='10.0um'\n",
    "#                    )"
   ]
  },
  {
   "cell_type": "code",
   "execution_count": 12,
   "metadata": {},
   "outputs": [
    {
     "name": "stderr",
     "output_type": "stream",
     "text": [
      "Prior structure/index map not found. Generating a new one.\n"
     ]
    }
   ],
   "source": [
    "atlas_structures_wrt_canonicalAtlasSpace_atlasResol = \\\n",
    "DataManager.load_original_volume_all_known_structures_v3(atlas_spec, in_bbox_wrt='canonicalAtlasSpace',\n",
    "                                                        out_bbox_wrt='canonicalAtlasSpace')"
   ]
  },
  {
   "cell_type": "code",
   "execution_count": 13,
   "metadata": {
    "collapsed": true
   },
   "outputs": [],
   "source": [
    "atlas_structure_centroids_wrt_canonicalAtlasSpace_atlasResol = get_structure_centroids(vol_origin_dict=atlas_structures_wrt_canonicalAtlasSpace_atlasResol)"
   ]
  },
  {
   "cell_type": "code",
   "execution_count": 14,
   "metadata": {},
   "outputs": [
    {
     "name": "stdout",
     "output_type": "stream",
     "text": [
      "['LRt_R', 'Sp5C_L', 'Pn_L', '7N_R', 'PBG_L', 'VLL_L', 'VLL_R', '7N_L', 'PBG_R', 'RtTg', 'Sp5C_R', 'Pn_R', 'LRt_L', 'Sp5O_R', 'SNR_L', '5N_R', '12N', 'SNR_R', 'Sp5O_L', 'DC_R', 'VCA_L', '3N_L', '6N_R', 'Sp5I_L', '5N_L', 'RMC_R', 'SNC_L', 'SNC_R', 'AP', 'RMC_L', 'Sp5I_R', '3N_R', '6N_L', 'IC', 'VCA_R', 'DC_L', 'Amb_R', 'VCP_R', 'LC_R', '10N_R', '7n_R', '4N_R', 'Tz_L', 'Tz_R', '7n_L', '4N_L', 'LC_L', '10N_L', 'SC', 'VCP_L', 'Amb_L']\n",
      "(78, 124, 86)\n",
      "[141.80026858  31.12536632 -44.        ]\n"
     ]
    }
   ],
   "source": [
    "# What is... atlas_structures_wrt_canonicalAtlasSpace_atlasResol\n",
    "print atlas_structures_wrt_canonicalAtlasSpace_atlasResol.keys()\n",
    "print np.shape( atlas_structures_wrt_canonicalAtlasSpace_atlasResol['12N'][0] )\n",
    "print atlas_structures_wrt_canonicalAtlasSpace_atlasResol['12N'][1]"
   ]
  },
  {
   "cell_type": "code",
   "execution_count": 15,
   "metadata": {
    "collapsed": true
   },
   "outputs": [],
   "source": [
    "atlas_anchor1_wrt_canonicalAtlasSpace_atlasResol = \\\n",
    "np.r_[atlas_structure_centroids_wrt_canonicalAtlasSpace_atlasResol['12N'][:2], 0]\n",
    "atlas_anchor2_wrt_canonicalAtlasSpace_atlasResol = \\\n",
    "np.r_[atlas_structure_centroids_wrt_canonicalAtlasSpace_atlasResol['3N_R'][:2], 0]"
   ]
  },
  {
   "cell_type": "code",
   "execution_count": 16,
   "metadata": {},
   "outputs": [
    {
     "name": "stdout",
     "output_type": "stream",
     "text": [
      "(200.5467867878674, 68.66154597259373, -1.5)\n",
      "[200.54678679  68.66154597   0.        ]\n"
     ]
    }
   ],
   "source": [
    "# What is... atlas_structure_centroids_wrt_canonicalAtlasSpace_atlasResol\n",
    "print atlas_structure_centroids_wrt_canonicalAtlasSpace_atlasResol['12N']\n",
    "#   Replaces last element (z_coordinate) with 0\n",
    "print np.r_[atlas_structure_centroids_wrt_canonicalAtlasSpace_atlasResol['12N'][:2], 0]"
   ]
  },
  {
   "cell_type": "code",
   "execution_count": 17,
   "metadata": {
    "collapsed": true
   },
   "outputs": [],
   "source": [
    "# stack = 'CHATM2'\n",
    "# stack = 'MD661'\n",
    "# stack = 'DEMO998'\n",
    "stack = 'MD585'"
   ]
  },
  {
   "cell_type": "code",
   "execution_count": 18,
   "metadata": {
    "scrolled": true
   },
   "outputs": [
    {
     "name": "stderr",
     "output_type": "stream",
     "text": [
      "File does not exist: /media/alexn/BstemAtlasDataBackup/script_test/CSHL_volumes/MD585/MD585_wholebrainWithMargin_10.0um_intensityVolume/MD585_wholebrainWithMargin_10.0um_intensityVolume.bp\n"
     ]
    },
    {
     "ename": "IOError",
     "evalue": "[Errno 2] No such file or directory: '/media/alexn/BstemAtlasDataBackup/script_test/CSHL_volumes/MD585/MD585_wholebrainWithMargin_10.0um_intensityVolume/MD585_wholebrainWithMargin_10.0um_intensityVolume.bp'",
     "output_type": "error",
     "traceback": [
      "\u001b[0;31m---------------------------------------------------------------------------\u001b[0m",
      "\u001b[0;31mIOError\u001b[0m                                   Traceback (most recent call last)",
      "\u001b[0;32m<ipython-input-18-d0643a2473b5>\u001b[0m in \u001b[0;36m<module>\u001b[0;34m()\u001b[0m\n\u001b[1;32m      1\u001b[0m \u001b[0mintensity_volume_spec\u001b[0m \u001b[0;34m=\u001b[0m \u001b[0mdict\u001b[0m\u001b[0;34m(\u001b[0m\u001b[0mname\u001b[0m\u001b[0;34m=\u001b[0m\u001b[0mstack\u001b[0m\u001b[0;34m,\u001b[0m \u001b[0mresolution\u001b[0m\u001b[0;34m=\u001b[0m\u001b[0;34m'10.0um'\u001b[0m\u001b[0;34m,\u001b[0m \u001b[0mprep_id\u001b[0m\u001b[0;34m=\u001b[0m\u001b[0;34m'wholebrainWithMargin'\u001b[0m\u001b[0;34m,\u001b[0m                              \u001b[0mvol_type\u001b[0m\u001b[0;34m=\u001b[0m\u001b[0;34m'intensity'\u001b[0m\u001b[0;34m)\u001b[0m\u001b[0;34m\u001b[0m\u001b[0m\n\u001b[1;32m      2\u001b[0m \u001b[0;34m\u001b[0m\u001b[0m\n\u001b[0;32m----> 3\u001b[0;31m \u001b[0m_\u001b[0m\u001b[0;34m,\u001b[0m \u001b[0mwholebrainWithMargin_origin_wrt_wholebrain_dataResol\u001b[0m \u001b[0;34m=\u001b[0m \u001b[0mDataManager\u001b[0m\u001b[0;34m.\u001b[0m\u001b[0mload_original_volume_v2\u001b[0m\u001b[0;34m(\u001b[0m\u001b[0mintensity_volume_spec\u001b[0m\u001b[0;34m,\u001b[0m \u001b[0mreturn_origin_instead_of_bbox\u001b[0m\u001b[0;34m=\u001b[0m\u001b[0mTrue\u001b[0m\u001b[0;34m)\u001b[0m\u001b[0;34m\u001b[0m\u001b[0m\n\u001b[0m\u001b[1;32m      4\u001b[0m \u001b[0;34m\u001b[0m\u001b[0m\n\u001b[1;32m      5\u001b[0m \u001b[0mwholebrainWithMargin_origin_wrt_wholebrain_dataResol_x\u001b[0m\u001b[0;34m,\u001b[0m     \u001b[0mwholebrainWithMargin_origin_wrt_wholebrain_dataResol_y\u001b[0m\u001b[0;34m,\u001b[0m     \u001b[0mwholebrainWithMargin_origin_wrt_wholebrain_dataResol_z\u001b[0m \u001b[0;34m=\u001b[0m \u001b[0mwholebrainWithMargin_origin_wrt_wholebrain_dataResol\u001b[0m\u001b[0;34m\u001b[0m\u001b[0m\n",
      "\u001b[0;32m/home/alexn/brainDev/src//utilities/data_manager.pyc\u001b[0m in \u001b[0;36mload_original_volume_v2\u001b[0;34m(stack_spec, structure, resolution, bbox_wrt, return_origin_instead_of_bbox, crop_to_minimal)\u001b[0m\n\u001b[1;32m   3870\u001b[0m         \u001b[0mvol_fp\u001b[0m \u001b[0;34m=\u001b[0m \u001b[0mDataManager\u001b[0m\u001b[0;34m.\u001b[0m\u001b[0mget_original_volume_filepath_v2\u001b[0m\u001b[0;34m(\u001b[0m\u001b[0mstack_spec\u001b[0m\u001b[0;34m=\u001b[0m\u001b[0mstack_spec\u001b[0m\u001b[0;34m,\u001b[0m \u001b[0mstructure\u001b[0m\u001b[0;34m=\u001b[0m\u001b[0mstructure\u001b[0m\u001b[0;34m,\u001b[0m \u001b[0mresolution\u001b[0m\u001b[0;34m=\u001b[0m\u001b[0mresolution\u001b[0m\u001b[0;34m)\u001b[0m\u001b[0;34m\u001b[0m\u001b[0m\n\u001b[1;32m   3871\u001b[0m         \u001b[0;31m# download_from_s3(vol_fp, is_dir=False)\u001b[0m\u001b[0;34m\u001b[0m\u001b[0;34m\u001b[0m\u001b[0m\n\u001b[0;32m-> 3872\u001b[0;31m         \u001b[0mvolume\u001b[0m \u001b[0;34m=\u001b[0m \u001b[0mDataManager\u001b[0m\u001b[0;34m.\u001b[0m\u001b[0mload_data\u001b[0m\u001b[0;34m(\u001b[0m\u001b[0mvol_fp\u001b[0m\u001b[0;34m,\u001b[0m \u001b[0mfiletype\u001b[0m\u001b[0;34m=\u001b[0m\u001b[0;34m'bp'\u001b[0m\u001b[0;34m)\u001b[0m\u001b[0;34m\u001b[0m\u001b[0m\n\u001b[0m\u001b[1;32m   3873\u001b[0m \u001b[0;34m\u001b[0m\u001b[0m\n\u001b[1;32m   3874\u001b[0m         \u001b[0;31m# bbox_fp = DataManager.get_original_volume_bbox_filepath_v2(stack_spec=stack_spec, structure=structure,\u001b[0m\u001b[0;34m\u001b[0m\u001b[0;34m\u001b[0m\u001b[0m\n",
      "\u001b[0;32m/home/alexn/brainDev/src//utilities/data_manager.pyc\u001b[0m in \u001b[0;36mload_data\u001b[0;34m(filepath, filetype)\u001b[0m\n\u001b[1;32m   1026\u001b[0m \u001b[0;34m\u001b[0m\u001b[0m\n\u001b[1;32m   1027\u001b[0m         \u001b[0;32mif\u001b[0m \u001b[0mfiletype\u001b[0m \u001b[0;34m==\u001b[0m \u001b[0;34m'bp'\u001b[0m\u001b[0;34m:\u001b[0m\u001b[0;34m\u001b[0m\u001b[0m\n\u001b[0;32m-> 1028\u001b[0;31m             \u001b[0;32mreturn\u001b[0m \u001b[0mbp\u001b[0m\u001b[0;34m.\u001b[0m\u001b[0munpack_ndarray_file\u001b[0m\u001b[0;34m(\u001b[0m\u001b[0mfilepath\u001b[0m\u001b[0;34m)\u001b[0m\u001b[0;34m\u001b[0m\u001b[0m\n\u001b[0m\u001b[1;32m   1029\u001b[0m         \u001b[0;32melif\u001b[0m \u001b[0mfiletype\u001b[0m \u001b[0;34m==\u001b[0m \u001b[0;34m'image'\u001b[0m\u001b[0;34m:\u001b[0m\u001b[0;34m\u001b[0m\u001b[0m\n\u001b[1;32m   1030\u001b[0m             \u001b[0;32mreturn\u001b[0m \u001b[0mimread\u001b[0m\u001b[0;34m(\u001b[0m\u001b[0mfilepath\u001b[0m\u001b[0;34m)\u001b[0m\u001b[0;34m\u001b[0m\u001b[0m\n",
      "\u001b[0;32m/usr/local/lib/python2.7/dist-packages/bloscpack/numpy_io.pyc\u001b[0m in \u001b[0;36munpack_ndarray_file\u001b[0;34m(filename)\u001b[0m\n\u001b[1;32m    231\u001b[0m \u001b[0;34m\u001b[0m\u001b[0m\n\u001b[1;32m    232\u001b[0m \u001b[0;32mdef\u001b[0m \u001b[0munpack_ndarray_file\u001b[0m\u001b[0;34m(\u001b[0m\u001b[0mfilename\u001b[0m\u001b[0;34m)\u001b[0m\u001b[0;34m:\u001b[0m\u001b[0;34m\u001b[0m\u001b[0m\n\u001b[0;32m--> 233\u001b[0;31m     \u001b[0msource\u001b[0m \u001b[0;34m=\u001b[0m \u001b[0mCompressedFPSource\u001b[0m\u001b[0;34m(\u001b[0m\u001b[0mopen\u001b[0m\u001b[0;34m(\u001b[0m\u001b[0mfilename\u001b[0m\u001b[0;34m,\u001b[0m \u001b[0;34m'rb'\u001b[0m\u001b[0;34m)\u001b[0m\u001b[0;34m)\u001b[0m\u001b[0;34m\u001b[0m\u001b[0m\n\u001b[0m\u001b[1;32m    234\u001b[0m     \u001b[0;32mreturn\u001b[0m \u001b[0munpack_ndarray\u001b[0m\u001b[0;34m(\u001b[0m\u001b[0msource\u001b[0m\u001b[0;34m)\u001b[0m\u001b[0;34m\u001b[0m\u001b[0m\n\u001b[1;32m    235\u001b[0m \u001b[0;34m\u001b[0m\u001b[0m\n",
      "\u001b[0;31mIOError\u001b[0m: [Errno 2] No such file or directory: '/media/alexn/BstemAtlasDataBackup/script_test/CSHL_volumes/MD585/MD585_wholebrainWithMargin_10.0um_intensityVolume/MD585_wholebrainWithMargin_10.0um_intensityVolume.bp'"
     ]
    }
   ],
   "source": [
    "intensity_volume_spec = dict(name=stack, resolution='10.0um', prep_id='wholebrainWithMargin', \\\n",
    "                             vol_type='intensity')\n",
    "\n",
    "_, wholebrainWithMargin_origin_wrt_wholebrain_dataResol = \\\n",
    "DataManager.load_original_volume_v2(intensity_volume_spec, return_origin_instead_of_bbox=True)\n",
    "\n",
    "wholebrainWithMargin_origin_wrt_wholebrain_dataResol_x, \\\n",
    "    wholebrainWithMargin_origin_wrt_wholebrain_dataResol_y, \\\n",
    "    wholebrainWithMargin_origin_wrt_wholebrain_dataResol_z = \\\n",
    "wholebrainWithMargin_origin_wrt_wholebrain_dataResol"
   ]
  },
  {
   "cell_type": "code",
   "execution_count": null,
   "metadata": {},
   "outputs": [],
   "source": [
    "# What is... \n",
    "print 'intensity_volume_spec:'\n",
    "print intensity_volume_spec\n",
    "print '\\nwholebrainWithMargin_origin_wrt_wholebrain_dataResol:'\n",
    "print wholebrainWithMargin_origin_wrt_wholebrain_dataResol"
   ]
  },
  {
   "cell_type": "code",
   "execution_count": null,
   "metadata": {
    "collapsed": true
   },
   "outputs": [],
   "source": [
    "# Test 20181203\n",
    "\n",
    "if stack == 'MD585':\n",
    "    mid_z_wrt_wholebrainWithMargin = 120.\n",
    "    subject_anchor1_wrt_wholebrain_atlasResol = np.array([wholebrainWithMargin_origin_wrt_wholebrain_dataResol_x * 10. + 613*20., \n",
    "                                                          wholebrainWithMargin_origin_wrt_wholebrain_dataResol_y * 10. + 226*20., \n",
    "                                                          wholebrainWithMargin_origin_wrt_wholebrain_dataResol_z*10. + mid_z_wrt_wholebrainWithMargin*20.]) / 10.\n",
    "    subject_anchor2_wrt_wholebrain_atlasResol = np.array([wholebrainWithMargin_origin_wrt_wholebrain_dataResol_x * 10. + 451*20., \n",
    "                                                          wholebrainWithMargin_origin_wrt_wholebrain_dataResol_y * 10. + 161*20., \n",
    "                                                          wholebrainWithMargin_origin_wrt_wholebrain_dataResol_z*10. + mid_z_wrt_wholebrainWithMargin*20.]) / 10."
   ]
  },
  {
   "cell_type": "code",
   "execution_count": null,
   "metadata": {},
   "outputs": [],
   "source": [
    "# What is...\n",
    "print '[X, Y, Z] for 12N'\n",
    "print subject_anchor1_wrt_wholebrain_atlasResol\n",
    "print '\\n[X, Y, Z] for 3N_R'\n",
    "print subject_anchor2_wrt_wholebrain_atlasResol"
   ]
  },
  {
   "cell_type": "code",
   "execution_count": null,
   "metadata": {
    "collapsed": true
   },
   "outputs": [],
   "source": [
    "def align_anchors(pm1, pm2, pf1, pf2):\n",
    "    \"\"\"\n",
    "    Align the vector (pm1, pm2) and vector (pf1, pf2), and align the two middle points. \n",
    "    \"\"\"\n",
    "    \n",
    "    t = ((pf1 + pf2) / 2. - (pm1 + pm2) / 2.)\n",
    "    \n",
    "    subject_d = pf1 - pf2\n",
    "    atlas_d = pm1 - pm2\n",
    "\n",
    "    subject_d_n = subject_d / np.linalg.norm(subject_d)\n",
    "    atlas_d_n = atlas_d / np.linalg.norm(atlas_d)\n",
    "\n",
    "    R = R_align_two_vectors(atlas_d_n, subject_d_n)\n",
    "    \n",
    "    T = np.zeros((3,4))\n",
    "    T[:3, :3] = R\n",
    "#     T[:3, 3] = np.dot(R, t)\n",
    "    T[:3, 3] = t\n",
    "    \n",
    "    return T\n",
    "def align_anchors_print(pm1, pm2, pf1, pf2):\n",
    "    \"\"\"\n",
    "    Align the vector (pm1, pm2) and vector (pf1, pf2), and align the two middle points. \n",
    "    \"\"\"\n",
    "    print 'Align pm1, pm2'\n",
    "    print pm1\n",
    "    print pm2\n",
    "    print '\\nAlign pf1, pf2'\n",
    "    print pf1\n",
    "    print pf2\n",
    "    \n",
    "    t = ((pf1 + pf2) / 2. - (pm1 + pm2) / 2.)\n",
    "    print '\\nt = ((pf1 + pf2) / 2. - (pm1 + pm2) / 2.)'\n",
    "    print t\n",
    "    \n",
    "    subject_d = pf1 - pf2\n",
    "    atlas_d = pm1 - pm2\n",
    "    \n",
    "    print '\\nsubject_d = pf1 - pf2'\n",
    "    print subject_d\n",
    "    print 'atlas_d = pm1 - pm2'\n",
    "    print atlas_d\n",
    "\n",
    "    subject_d_n = subject_d / np.linalg.norm(subject_d)\n",
    "    atlas_d_n = atlas_d / np.linalg.norm(atlas_d)\n",
    "    \n",
    "    print '\\nsubject_d_n = subject_d / np.linalg.norm(subject_d)'\n",
    "    print subject_d_n\n",
    "    print 'atlas_d_n = atlas_d / np.linalg.norm(atlas_d)'\n",
    "    print atlas_d_n\n",
    "\n",
    "    R = R_align_two_vectors(atlas_d_n, subject_d_n)\n",
    "    \n",
    "    T = np.zeros((3,4))\n",
    "    T[:3, :3] = R\n",
    "#     T[:3, 3] = np.dot(R, t)\n",
    "    T[:3, 3] = t\n",
    "    \n",
    "    print '\\nR = R_align_two_vectors(atlas_d_n, subject_d_n)'\n",
    "    print R\n",
    "    print '\\nT = np.zeros((3,4))'\n",
    "    print T\n",
    "    print '\\nT[:3, :3] = R'\n",
    "    print T\n",
    "    print '\\nT[:3, 3] = t'\n",
    "    print T\n",
    "    \n",
    "    return T"
   ]
  },
  {
   "cell_type": "code",
   "execution_count": null,
   "metadata": {},
   "outputs": [],
   "source": [
    "wholebrainWithMargin_origin_wrt_wholebrain_dataResol"
   ]
  },
  {
   "cell_type": "code",
   "execution_count": null,
   "metadata": {
    "collapsed": true
   },
   "outputs": [],
   "source": [
    "wholebrainWithMargin_origin_wrt_wholebrain_dataResol = \\\n",
    "np.r_[wholebrainWithMargin_origin_wrt_wholebrain_dataResol_x,\n",
    "      wholebrainWithMargin_origin_wrt_wholebrain_dataResol_y,\n",
    "      wholebrainWithMargin_origin_wrt_wholebrain_dataResol_z]"
   ]
  },
  {
   "cell_type": "code",
   "execution_count": null,
   "metadata": {},
   "outputs": [],
   "source": [
    "atlas_anchor1_wrt_canonicalAtlasSpace_atlasResol"
   ]
  },
  {
   "cell_type": "code",
   "execution_count": null,
   "metadata": {},
   "outputs": [],
   "source": [
    "subject_anchor1_wrt_wholebrain_atlasResol"
   ]
  },
  {
   "cell_type": "code",
   "execution_count": null,
   "metadata": {},
   "outputs": [],
   "source": [
    "T_atlas_wrt_canonicalAtlasSpace_subject_wrt_wholebrain_atlasResol = \\\n",
    "align_anchors_print(atlas_anchor1_wrt_canonicalAtlasSpace_atlasResol, atlas_anchor2_wrt_canonicalAtlasSpace_atlasResol,\n",
    "             subject_anchor1_wrt_wholebrain_atlasResol, subject_anchor2_wrt_wholebrain_atlasResol)"
   ]
  },
  {
   "cell_type": "code",
   "execution_count": null,
   "metadata": {
    "scrolled": true
   },
   "outputs": [],
   "source": [
    "print T_atlas_wrt_canonicalAtlasSpace_subject_wrt_wholebrain_atlasResol"
   ]
  },
  {
   "cell_type": "code",
   "execution_count": null,
   "metadata": {
    "collapsed": true
   },
   "outputs": [],
   "source": [
    "# https://www.lfd.uci.edu/~gohlke/code/transformations.py.html\n",
    "\n",
    "def quaternion_about_axis(angle, axis):\n",
    "    \"\"\"Return quaternion for rotation about axis.\n",
    "\n",
    "    >>> q = quaternion_about_axis(0.123, [1, 0, 0])\n",
    "    >>> numpy.allclose(q, [0.99810947, 0.06146124, 0, 0])\n",
    "    True\n",
    "\n",
    "    \"\"\"\n",
    "    q = np.array([0.0, axis[0], axis[1], axis[2]])\n",
    "    qlen = np.linalg.norm(q)\n",
    "    q *= np.sin(angle/2.0) / qlen\n",
    "    q[0] = np.cos(angle/2.0)\n",
    "    return q\n",
    "\n",
    "\n",
    "def quaternion_matrix(quaternion):\n",
    "    \"\"\"Return homogeneous rotation matrix from quaternion.\n",
    "\n",
    "    >>> M = quaternion_matrix([0.99810947, 0.06146124, 0, 0])\n",
    "    >>> numpy.allclose(M, rotation_matrix(0.123, [1, 0, 0]))\n",
    "    True\n",
    "    >>> M = quaternion_matrix([1, 0, 0, 0])\n",
    "    >>> numpy.allclose(M, numpy.identity(4))\n",
    "    True\n",
    "    >>> M = quaternion_matrix([0, 1, 0, 0])\n",
    "    >>> numpy.allclose(M, numpy.diag([1, -1, -1, 1]))\n",
    "    True\n",
    "\n",
    "    \"\"\"\n",
    "    q = np.array(quaternion, dtype=np.float64, copy=True)\n",
    "    n = np.dot(q, q)\n",
    "    q *= np.sqrt(2.0 / n)\n",
    "    q = np.outer(q, q)\n",
    "    return np.array([\n",
    "        [1.0-q[2, 2]-q[3, 3],     q[1, 2]-q[3, 0],     q[1, 3]+q[2, 0], 0.0],\n",
    "        [    q[1, 2]+q[3, 0], 1.0-q[1, 1]-q[3, 3],     q[2, 3]-q[1, 0], 0.0],\n",
    "        [    q[1, 3]-q[2, 0],     q[2, 3]+q[1, 0], 1.0-q[1, 1]-q[2, 2], 0.0],\n",
    "        [                0.0,                 0.0,                 0.0, 1.0]])\n",
    "\n",
    "rand_vec = np.random.uniform(size=3)\n",
    "rand_vec = rand_vec / np.linalg.norm(rand_vec)\n",
    "rand_rot_amount = np.random.uniform(high=np.deg2rad(5))\n",
    "perturb_rot = quaternion_matrix(quaternion_about_axis(rand_rot_amount, rand_vec))\n",
    "\n",
    "perturb_xyz = np.random.choice(np.arange(-30, 30), 3)\n",
    "\n",
    "T_atlas_wrt_canonicalAtlasSpace_subject_wrt_wholebrain_atlasResol = \\\n",
    "np.dot(T_atlas_wrt_canonicalAtlasSpace_subject_wrt_wholebrain_atlasResol, perturb_rot)\n",
    "T_atlas_wrt_canonicalAtlasSpace_subject_wrt_wholebrain_atlasResol[:3, 3] += perturb_xyz"
   ]
  },
  {
   "cell_type": "code",
   "execution_count": null,
   "metadata": {},
   "outputs": [],
   "source": [
    "print T_atlas_wrt_canonicalAtlasSpace_subject_wrt_wholebrain_atlasResol"
   ]
  },
  {
   "cell_type": "code",
   "execution_count": null,
   "metadata": {},
   "outputs": [],
   "source": [
    "fp = os.path.join(DATA_ROOTDIR, 'CSHL_simple_global_registration', stack + '_T_atlas_wrt_canonicalAtlasSpace_subject_wrt_wholebrain_atlasResol.txt')\n",
    "create_parent_dir_if_not_exists(fp)\n",
    "np.savetxt(fp, T_atlas_wrt_canonicalAtlasSpace_subject_wrt_wholebrain_atlasResol)"
   ]
  },
  {
   "cell_type": "code",
   "execution_count": null,
   "metadata": {
    "collapsed": true
   },
   "outputs": [],
   "source": [
    "# bp.pack_ndarray_file(T_atlas_wrt_canonicalAtlasSpace_subject_wrt_wholebrain_atlasResol, \n",
    "#                      os.path.join(DATA_ROOTDIR, 'CSHL_simple_global_registration', stack + '_T_atlas_wrt_canonicalAtlasSpace_subject_wrt_wholebrain_atlasResol.bp'))"
   ]
  },
  {
   "cell_type": "code",
   "execution_count": null,
   "metadata": {
    "collapsed": true
   },
   "outputs": [],
   "source": []
  },
  {
   "cell_type": "code",
   "execution_count": null,
   "metadata": {
    "collapsed": true
   },
   "outputs": [],
   "source": []
  },
  {
   "cell_type": "code",
   "execution_count": null,
   "metadata": {
    "collapsed": true
   },
   "outputs": [],
   "source": []
  },
  {
   "cell_type": "code",
   "execution_count": null,
   "metadata": {
    "collapsed": true
   },
   "outputs": [],
   "source": []
  },
  {
   "cell_type": "code",
   "execution_count": null,
   "metadata": {
    "collapsed": true
   },
   "outputs": [],
   "source": []
  }
 ],
 "metadata": {
  "kernelspec": {
   "display_name": "Python 2",
   "language": "python",
   "name": "python2"
  },
  "language_info": {
   "codemirror_mode": {
    "name": "ipython",
    "version": 2
   },
   "file_extension": ".py",
   "mimetype": "text/x-python",
   "name": "python",
   "nbconvert_exporter": "python",
   "pygments_lexer": "ipython2",
   "version": "2.7.12"
  }
 },
 "nbformat": 4,
 "nbformat_minor": 2
}
