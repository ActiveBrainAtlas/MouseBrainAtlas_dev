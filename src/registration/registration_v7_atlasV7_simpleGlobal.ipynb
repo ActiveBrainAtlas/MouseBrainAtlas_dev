{
 "cells": [
  {
   "cell_type": "code",
   "execution_count": 1,
   "metadata": {
    "scrolled": true
   },
   "outputs": [
    {
     "name": "stderr",
     "output_type": "stream",
     "text": [
      "/home/yuncong/MouseBrainAtlas/src/utilities/utilities2015.py:2: UserWarning: \n",
      "This call to matplotlib.use() has no effect because the backend has already\n",
      "been chosen; matplotlib.use() must be called *before* pylab, matplotlib.pyplot,\n",
      "or matplotlib.backends is imported for the first time.\n",
      "\n",
      "The backend was *originally* set to 'module://ipykernel.pylab.backend_inline' by the following code:\n",
      "  File \"/usr/lib/python2.7/runpy.py\", line 174, in _run_module_as_main\n",
      "    \"__main__\", fname, loader, pkg_name)\n",
      "  File \"/usr/lib/python2.7/runpy.py\", line 72, in _run_code\n",
      "    exec code in run_globals\n",
      "  File \"/home/yuncong/MouseBrainAtlas/mousebrainatlas_virtualenv/lib/python2.7/site-packages/ipykernel_launcher.py\", line 16, in <module>\n",
      "    app.launch_new_instance()\n",
      "  File \"/home/yuncong/MouseBrainAtlas/mousebrainatlas_virtualenv/local/lib/python2.7/site-packages/traitlets/config/application.py\", line 658, in launch_instance\n",
      "    app.start()\n",
      "  File \"/home/yuncong/MouseBrainAtlas/mousebrainatlas_virtualenv/local/lib/python2.7/site-packages/ipykernel/kernelapp.py\", line 499, in start\n",
      "    self.io_loop.start()\n",
      "  File \"/home/yuncong/MouseBrainAtlas/mousebrainatlas_virtualenv/local/lib/python2.7/site-packages/tornado/ioloop.py\", line 1073, in start\n",
      "    handler_func(fd_obj, events)\n",
      "  File \"/home/yuncong/MouseBrainAtlas/mousebrainatlas_virtualenv/local/lib/python2.7/site-packages/tornado/stack_context.py\", line 300, in null_wrapper\n",
      "    return fn(*args, **kwargs)\n",
      "  File \"/home/yuncong/MouseBrainAtlas/mousebrainatlas_virtualenv/local/lib/python2.7/site-packages/zmq/eventloop/zmqstream.py\", line 450, in _handle_events\n",
      "    self._handle_recv()\n",
      "  File \"/home/yuncong/MouseBrainAtlas/mousebrainatlas_virtualenv/local/lib/python2.7/site-packages/zmq/eventloop/zmqstream.py\", line 480, in _handle_recv\n",
      "    self._run_callback(callback, msg)\n",
      "  File \"/home/yuncong/MouseBrainAtlas/mousebrainatlas_virtualenv/local/lib/python2.7/site-packages/zmq/eventloop/zmqstream.py\", line 432, in _run_callback\n",
      "    callback(*args, **kwargs)\n",
      "  File \"/home/yuncong/MouseBrainAtlas/mousebrainatlas_virtualenv/local/lib/python2.7/site-packages/tornado/stack_context.py\", line 300, in null_wrapper\n",
      "    return fn(*args, **kwargs)\n",
      "  File \"/home/yuncong/MouseBrainAtlas/mousebrainatlas_virtualenv/local/lib/python2.7/site-packages/ipykernel/kernelbase.py\", line 283, in dispatcher\n",
      "    return self.dispatch_shell(stream, msg)\n",
      "  File \"/home/yuncong/MouseBrainAtlas/mousebrainatlas_virtualenv/local/lib/python2.7/site-packages/ipykernel/kernelbase.py\", line 233, in dispatch_shell\n",
      "    handler(stream, idents, msg)\n",
      "  File \"/home/yuncong/MouseBrainAtlas/mousebrainatlas_virtualenv/local/lib/python2.7/site-packages/ipykernel/kernelbase.py\", line 399, in execute_request\n",
      "    user_expressions, allow_stdin)\n",
      "  File \"/home/yuncong/MouseBrainAtlas/mousebrainatlas_virtualenv/local/lib/python2.7/site-packages/ipykernel/ipkernel.py\", line 208, in do_execute\n",
      "    res = shell.run_cell(code, store_history=store_history, silent=silent)\n",
      "  File \"/home/yuncong/MouseBrainAtlas/mousebrainatlas_virtualenv/local/lib/python2.7/site-packages/ipykernel/zmqshell.py\", line 537, in run_cell\n",
      "    return super(ZMQInteractiveShell, self).run_cell(*args, **kwargs)\n",
      "  File \"/home/yuncong/MouseBrainAtlas/mousebrainatlas_virtualenv/local/lib/python2.7/site-packages/IPython/core/interactiveshell.py\", line 2714, in run_cell\n",
      "    interactivity=interactivity, compiler=compiler, result=result)\n",
      "  File \"/home/yuncong/MouseBrainAtlas/mousebrainatlas_virtualenv/local/lib/python2.7/site-packages/IPython/core/interactiveshell.py\", line 2818, in run_ast_nodes\n",
      "    if self.run_code(code, result):\n",
      "  File \"/home/yuncong/MouseBrainAtlas/mousebrainatlas_virtualenv/local/lib/python2.7/site-packages/IPython/core/interactiveshell.py\", line 2878, in run_code\n",
      "    exec(code_obj, self.user_global_ns, self.user_ns)\n",
      "  File \"<ipython-input-1-d16377a6acfa>\", line 9, in <module>\n",
      "    get_ipython().magic(u'matplotlib inline')\n",
      "  File \"/home/yuncong/MouseBrainAtlas/mousebrainatlas_virtualenv/local/lib/python2.7/site-packages/IPython/core/interactiveshell.py\", line 2160, in magic\n",
      "    return self.run_line_magic(magic_name, magic_arg_s)\n",
      "  File \"/home/yuncong/MouseBrainAtlas/mousebrainatlas_virtualenv/local/lib/python2.7/site-packages/IPython/core/interactiveshell.py\", line 2081, in run_line_magic\n",
      "    result = fn(*args,**kwargs)\n",
      "  File \"<decorator-gen-105>\", line 2, in matplotlib\n",
      "  File \"/home/yuncong/MouseBrainAtlas/mousebrainatlas_virtualenv/local/lib/python2.7/site-packages/IPython/core/magic.py\", line 188, in <lambda>\n",
      "    call = lambda f, *a, **k: f(*a, **k)\n",
      "  File \"/home/yuncong/MouseBrainAtlas/mousebrainatlas_virtualenv/local/lib/python2.7/site-packages/IPython/core/magics/pylab.py\", line 100, in matplotlib\n",
      "    gui, backend = self.shell.enable_matplotlib(args.gui)\n",
      "  File \"/home/yuncong/MouseBrainAtlas/mousebrainatlas_virtualenv/local/lib/python2.7/site-packages/IPython/core/interactiveshell.py\", line 2966, in enable_matplotlib\n",
      "    pt.activate_matplotlib(backend)\n",
      "  File \"/home/yuncong/MouseBrainAtlas/mousebrainatlas_virtualenv/local/lib/python2.7/site-packages/IPython/core/pylabtools.py\", line 315, in activate_matplotlib\n",
      "    matplotlib.pyplot.switch_backend(backend)\n",
      "  File \"/home/yuncong/MouseBrainAtlas/mousebrainatlas_virtualenv/local/lib/python2.7/site-packages/matplotlib/pyplot.py\", line 231, in switch_backend\n",
      "    matplotlib.use(newbackend, warn=False, force=True)\n",
      "  File \"/home/yuncong/MouseBrainAtlas/mousebrainatlas_virtualenv/local/lib/python2.7/site-packages/matplotlib/__init__.py\", line 1410, in use\n",
      "    reload(sys.modules['matplotlib.backends'])\n",
      "  File \"/home/yuncong/MouseBrainAtlas/mousebrainatlas_virtualenv/local/lib/python2.7/site-packages/matplotlib/backends/__init__.py\", line 16, in <module>\n",
      "    line for line in traceback.format_stack()\n",
      "\n",
      "\n",
      "  matplotlib.use('Agg')\n",
      "ENABLE_UPLOAD_S3 is not set, default to False.\n",
      "ENABLE_DOWNLOAD_S3 is not set, default to False.\n"
     ]
    },
    {
     "name": "stdout",
     "output_type": "stream",
     "text": [
      "Setting environment for Precision WorkStation\n",
      "{'MD585': 0.46, 'UCSD001': 0.3125}\n"
     ]
    },
    {
     "name": "stderr",
     "output_type": "stream",
     "text": [
      "No vtk\n",
      "Seems you are using operation INIs to provide cropbox.\n",
      "Seems you are using operation INIs to provide cropbox.\n",
      "No anchor.txt is found. Seems we are using the operation ini to provide anchor. Try to load operation ini.\n",
      "Failed to cache MD594 anchor: ini file /media/yuncong/BstemAtlasData/atlas_data/CSHL_data_processed/MD594/operation_configs/from_none_to_aligned.ini does not exist.\n",
      "File does not exist: /media/yuncong/BstemAtlasData/atlas_data/CSHL_data_processed/MD594/MD594_sorted_filenames.txt\n",
      "Failed to cache MD594 sections_to_filenames: \n",
      "File does not exist: /media/yuncong/BstemAtlasData/atlas_data/CSHL_data_processed/MD594/MD594_sorted_filenames.txt\n",
      "Failed to cache MD594 filenames_to_sections: \n",
      "No anchor.txt is found. Seems we are using the operation ini to provide anchor. Try to load operation ini.\n",
      "Failed to cache MD594 section_limits: ini file /media/yuncong/BstemAtlasData/atlas_data/CSHL_data_processed/MD594/MD594_prep2_sectionLimits.ini does not exist.\n",
      "No anchor.txt is found. Seems we are using the operation ini to provide anchor. Try to load operation ini.\n",
      "Failed to cache MD594 cropbox: ini file /media/yuncong/BstemAtlasData/atlas_data/CSHL_data_processed/MD594/operation_configs/from_none_to_aligned.ini does not exist.\n",
      "Failed to cache MD594 valid_sections/filenames: MD594\n",
      "No anchor.txt is found. Seems we are using the operation ini to provide anchor. Try to load operation ini.\n",
      "Failed to cache MD594 image_shape: ini file /media/yuncong/BstemAtlasData/atlas_data/CSHL_data_processed/MD594/operation_configs/from_none_to_aligned.ini does not exist.\n",
      "No anchor.txt is found. Seems we are using the operation ini to provide anchor. Try to load operation ini.\n",
      "Failed to cache MD589 anchor: ini file /media/yuncong/BstemAtlasData/atlas_data/CSHL_data_processed/MD589/operation_configs/from_none_to_aligned.ini does not exist.\n",
      "File does not exist: /media/yuncong/BstemAtlasData/atlas_data/CSHL_data_processed/MD589/MD589_sorted_filenames.txt\n",
      "Failed to cache MD589 sections_to_filenames: \n",
      "File does not exist: /media/yuncong/BstemAtlasData/atlas_data/CSHL_data_processed/MD589/MD589_sorted_filenames.txt\n",
      "Failed to cache MD589 filenames_to_sections: \n",
      "No anchor.txt is found. Seems we are using the operation ini to provide anchor. Try to load operation ini.\n",
      "Failed to cache MD589 section_limits: ini file /media/yuncong/BstemAtlasData/atlas_data/CSHL_data_processed/MD589/MD589_prep2_sectionLimits.ini does not exist.\n",
      "No anchor.txt is found. Seems we are using the operation ini to provide anchor. Try to load operation ini.\n",
      "Failed to cache MD589 cropbox: ini file /media/yuncong/BstemAtlasData/atlas_data/CSHL_data_processed/MD589/operation_configs/from_none_to_aligned.ini does not exist.\n",
      "Failed to cache MD589 valid_sections/filenames: MD589\n",
      "No anchor.txt is found. Seems we are using the operation ini to provide anchor. Try to load operation ini.\n",
      "Failed to cache MD589 image_shape: ini file /media/yuncong/BstemAtlasData/atlas_data/CSHL_data_processed/MD589/operation_configs/from_none_to_aligned.ini does not exist.\n",
      "No anchor.txt is found. Seems we are using the operation ini to provide anchor. Try to load operation ini.\n",
      "No anchor.txt is found. Seems we are using the operation ini to provide anchor. Try to load operation ini.\n",
      "No anchor.txt is found. Seems we are using the operation ini to provide anchor. Try to load operation ini.\n",
      "Seems you are using operation INIs to provide cropbox.\n",
      "No anchor.txt is found. Seems we are using the operation ini to provide anchor. Try to load operation ini.\n",
      "Seems you are using operation INIs to provide cropbox.\n"
     ]
    }
   ],
   "source": [
    "%load_ext autoreload\n",
    "%autoreload 2\n",
    "\n",
    "import sys\n",
    "import os\n",
    "import time\n",
    "\n",
    "import matplotlib.pyplot as plt\n",
    "%matplotlib inline\n",
    "from multiprocess import Pool\n",
    "import numpy as np\n",
    "\n",
    "sys.path.append(os.environ['REPO_DIR'] + '/utilities')\n",
    "from utilities2015 import *\n",
    "from metadata import *\n",
    "from data_manager import *\n",
    "\n",
    "from registration_utilities import *"
   ]
  },
  {
   "cell_type": "code",
   "execution_count": 2,
   "metadata": {},
   "outputs": [],
   "source": [
    "# For DEMO998, use atlasV7\n",
    "atlas_spec = dict(name='atlasV7',\n",
    "                   vol_type='score'    ,               \n",
    "                    resolution='10.0um'\n",
    "                   )\n",
    "\n",
    "# atlas_spec = dict(name='atlasV6',\n",
    "#                    vol_type='score'    ,               \n",
    "#                     resolution='10.0um'\n",
    "#                    )"
   ]
  },
  {
   "cell_type": "code",
   "execution_count": 3,
   "metadata": {},
   "outputs": [
    {
     "name": "stderr",
     "output_type": "stream",
     "text": [
      "Prior structure/index map not found. Generating a new one.\n"
     ]
    }
   ],
   "source": [
    "atlas_structures_wrt_canonicalAtlasSpace_atlasResol = \\\n",
    "DataManager.load_original_volume_all_known_structures_v3(atlas_spec, in_bbox_wrt='canonicalAtlasSpace',\n",
    "                                                        out_bbox_wrt='canonicalAtlasSpace')"
   ]
  },
  {
   "cell_type": "code",
   "execution_count": 4,
   "metadata": {},
   "outputs": [],
   "source": [
    "atlas_structure_centroids_wrt_canonicalAtlasSpace_atlasResol = get_structure_centroids(vol_origin_dict=atlas_structures_wrt_canonicalAtlasSpace_atlasResol)"
   ]
  },
  {
   "cell_type": "code",
   "execution_count": 5,
   "metadata": {},
   "outputs": [],
   "source": [
    "atlas_anchor1_wrt_canonicalAtlasSpace_atlasResol = \\\n",
    "np.r_[atlas_structure_centroids_wrt_canonicalAtlasSpace_atlasResol['12N'][:2], 0]\n",
    "atlas_anchor2_wrt_canonicalAtlasSpace_atlasResol = \\\n",
    "np.r_[atlas_structure_centroids_wrt_canonicalAtlasSpace_atlasResol['3N_R'][:2], 0]"
   ]
  },
  {
   "cell_type": "code",
   "execution_count": 6,
   "metadata": {},
   "outputs": [],
   "source": [
    "# stack = 'CHATM2'\n",
    "# stack = 'MD661'\n",
    "# stack = 'DEMO998'\n",
    "stack = 'MD585'"
   ]
  },
  {
   "cell_type": "code",
   "execution_count": 7,
   "metadata": {
    "scrolled": true
   },
   "outputs": [],
   "source": [
    "intensity_volume_spec = dict(name=stack, resolution='10.0um', prep_id='wholebrainWithMargin', vol_type='intensity')\n",
    "\n",
    "_, wholebrainWithMargin_origin_wrt_wholebrain_dataResol = \\\n",
    "DataManager.load_original_volume_v2(intensity_volume_spec, return_origin_instead_of_bbox=True)\n",
    "\n",
    "wholebrainWithMargin_origin_wrt_wholebrain_dataResol_x, \\\n",
    "    wholebrainWithMargin_origin_wrt_wholebrain_dataResol_y, \\\n",
    "    wholebrainWithMargin_origin_wrt_wholebrain_dataResol_z = \\\n",
    "wholebrainWithMargin_origin_wrt_wholebrain_dataResol"
   ]
  },
  {
   "cell_type": "code",
   "execution_count": 8,
   "metadata": {},
   "outputs": [],
   "source": [
    "# Test 20181203\n",
    "\n",
    "if stack == 'MD585':\n",
    "    mid_z_wrt_wholebrainWithMargin = 120.\n",
    "    subject_anchor1_wrt_wholebrain_atlasResol = np.array([wholebrainWithMargin_origin_wrt_wholebrain_dataResol_x * 10. + 613*20., \n",
    "                                                          wholebrainWithMargin_origin_wrt_wholebrain_dataResol_y * 10. + 226*20., \n",
    "                                                          wholebrainWithMargin_origin_wrt_wholebrain_dataResol_z*10. + mid_z_wrt_wholebrainWithMargin*20.]) / 10.\n",
    "    subject_anchor2_wrt_wholebrain_atlasResol = np.array([wholebrainWithMargin_origin_wrt_wholebrain_dataResol_x * 10. + 451*20., \n",
    "                                                          wholebrainWithMargin_origin_wrt_wholebrain_dataResol_y * 10. + 161*20., \n",
    "                                                          wholebrainWithMargin_origin_wrt_wholebrain_dataResol_z*10. + mid_z_wrt_wholebrainWithMargin*20.]) / 10."
   ]
  },
  {
   "cell_type": "code",
   "execution_count": 8,
   "metadata": {},
   "outputs": [],
   "source": [
    "# # Pick the x/y coordinates on the intensity volume (no margin).\n",
    "# # Use the thumbnail sagittal panel (right bottom) in brain_labeling_gui. \n",
    "# # Click a point while holding down space bar, then you can read off the coordinates at the GUI window's title bar.\n",
    "\n",
    "# # bug? Must click on lossless to get accurate coordinates.\n",
    "\n",
    "# # It seems subject_anchor2_wrt_wholebrainWithMargin_atlasResol are misnomer.\n",
    "# # they should really be subject_anchor1_wrt_wholebrain_atlasResol.\n",
    "\n",
    "# if stack == 'CHATM2':\n",
    "#     subject_anchor1_wrt_wholebrainWithMargin_atlasResol = np.array([565,246,179]) * 20. / 10. # 12N\n",
    "#     subject_anchor2_wrt_wholebrainWithMargin_atlasResol = np.array([388,183,179]) * 20. / 10. # 3N_L\n",
    "# elif stack == 'CHATM3':\n",
    "#     subject_anchor1_wrt_wholebrainWithMargin_atlasResol = np.array([740,258,230]) * 20. / 10.\n",
    "#     subject_anchor2_wrt_wholebrainWithMargin_atlasResol = np.array([550,195,230]) * 20. / 10.\n",
    "# elif stack == 'MD593':\n",
    "#     subject_anchor1_wrt_wholebrainWithMargin_atlasResol = np.array([647*20., 233*20., 164*10.+138*20.]) / 10.\n",
    "#     subject_anchor2_wrt_wholebrainWithMargin_atlasResol = np.array([474*20., 171*20., 164*10.+138*20.]) / 10.\n",
    "# elif stack == 'MD589':\n",
    "#     # Here 605 is the x of 12N's center, 260 is the y of 12N's center, 135 is the z of mid-sagittal plane. All in GUI's intensity volume voxel unit (20um/voxel).\n",
    "#     subject_anchor1_wrt_wholebrainWithMargin_atlasResol = np.array([605*20., 260*20., wholebrainWithMargin_origin_wrt_wholebrain_dataResol_z*10.+135*20.]) / 10.\n",
    "#     subject_anchor2_wrt_wholebrainWithMargin_atlasResol = np.array([456*20., 175*20., wholebrainWithMargin_origin_wrt_wholebrain_dataResol_z*10.+135*20.]) / 10.\n",
    "# elif stack == 'MD585':\n",
    "#     subject_anchor1_wrt_wholebrainWithMargin_atlasResol = np.array([614*20., 241*20., wholebrainWithMargin_origin_wrt_wholebrain_dataResol_z*10.+117*20.]) / 10.\n",
    "#     subject_anchor2_wrt_wholebrainWithMargin_atlasResol = np.array([423*20., 165*20., wholebrainWithMargin_origin_wrt_wholebrain_dataResol_z*10.+145*20.]) / 10.\n",
    "# elif stack == 'MD590':\n",
    "#     subject_anchor1_wrt_wholebrainWithMargin_atlasResol = np.array([650*20., 239*20., wholebrainWithMargin_origin_wrt_wholebrain_dataResol_z*10.+124*20.]) / 10.\n",
    "#     subject_anchor2_wrt_wholebrainWithMargin_atlasResol = np.array([473*20., 159*20., wholebrainWithMargin_origin_wrt_wholebrain_dataResol_z*10.+124*20.]) / 10.\n",
    "# elif stack == 'MD591':\n",
    "#     subject_anchor1_wrt_wholebrainWithMargin_atlasResol = np.array([637*20., 287*20., wholebrainWithMargin_origin_wrt_wholebrain_dataResol_z*10.+124*20.]) / 10.\n",
    "#     subject_anchor2_wrt_wholebrainWithMargin_atlasResol = np.array([469*20., 190*20., wholebrainWithMargin_origin_wrt_wholebrain_dataResol_z*10.+124*20.]) / 10.\n",
    "# elif stack == 'MD592':\n",
    "#     subject_anchor1_wrt_wholebrainWithMargin_atlasResol = np.array([647*20., 223*20., wholebrainWithMargin_origin_wrt_wholebrain_dataResol_z*10.+136*20.]) / 10.\n",
    "#     subject_anchor2_wrt_wholebrainWithMargin_atlasResol = np.array([470*20., 180*20., wholebrainWithMargin_origin_wrt_wholebrain_dataResol_z*10.+136*20.]) / 10.\n",
    "# elif stack == 'MD594':\n",
    "#     subject_anchor1_wrt_wholebrainWithMargin_atlasResol = np.array([650*20., 189*20., wholebrainWithMargin_origin_wrt_wholebrain_dataResol_z*10.+136*20.]) / 10.\n",
    "#     subject_anchor2_wrt_wholebrainWithMargin_atlasResol = np.array([461*20., 151*20., wholebrainWithMargin_origin_wrt_wholebrain_dataResol_z*10.+136*20.]) / 10.\n",
    "# elif stack == 'MD595':\n",
    "#     subject_anchor1_wrt_wholebrainWithMargin_atlasResol = np.array([674*20., 225*20., wholebrainWithMargin_origin_wrt_wholebrain_dataResol_z*10.+137*20.]) / 10.\n",
    "#     subject_anchor2_wrt_wholebrainWithMargin_atlasResol = np.array([486*20., 180*20., wholebrainWithMargin_origin_wrt_wholebrain_dataResol_z*10.+137*20.]) / 10.\n",
    "# elif stack == 'MD598':\n",
    "#     subject_anchor1_wrt_wholebrainWithMargin_atlasResol = np.array([628*20., 206*20., wholebrainWithMargin_origin_wrt_wholebrain_dataResol_z*10.+165*20.]) / 10.\n",
    "#     subject_anchor2_wrt_wholebrainWithMargin_atlasResol = np.array([464*20., 164*20., wholebrainWithMargin_origin_wrt_wholebrain_dataResol_z*10.+165*20.]) / 10.\n",
    "# elif stack == 'MD599':\n",
    "#     subject_anchor1_wrt_wholebrainWithMargin_atlasResol = np.array([682*20., 222*20., wholebrainWithMargin_origin_wrt_wholebrain_dataResol_z*10.+129*20.]) / 10.\n",
    "#     subject_anchor2_wrt_wholebrainWithMargin_atlasResol = np.array([505*20., 175*20., wholebrainWithMargin_origin_wrt_wholebrain_dataResol_z*10.+129*20.]) / 10.\n",
    "# elif stack == 'MD602':\n",
    "#     subject_anchor1_wrt_wholebrainWithMargin_atlasResol = np.array([668*20., 197*20., wholebrainWithMargin_origin_wrt_wholebrain_dataResol_z*10.+135*20.]) / 10.\n",
    "#     subject_anchor2_wrt_wholebrainWithMargin_atlasResol = np.array([460*20., 157*20., wholebrainWithMargin_origin_wrt_wholebrain_dataResol_z*10.+135*20.]) / 10.\n",
    "# elif stack == 'MD603':\n",
    "#     subject_anchor1_wrt_wholebrainWithMargin_atlasResol = np.array([651*20., 229*20., wholebrainWithMargin_origin_wrt_wholebrain_dataResol_z*10.+153*20.]) / 10.\n",
    "#     subject_anchor2_wrt_wholebrainWithMargin_atlasResol = np.array([446*20., 168*20., wholebrainWithMargin_origin_wrt_wholebrain_dataResol_z*10.+153*20.]) / 10.\n",
    "# elif stack == 'MD661':\n",
    "#     subject_anchor1_wrt_wholebrainWithMargin_atlasResol = np.array([559*20., 209*20., wholebrainWithMargin_origin_wrt_wholebrain_dataResol_z*10.+140*20.]) / 10.\n",
    "#     subject_anchor2_wrt_wholebrainWithMargin_atlasResol = np.array([383*20., 166*20., wholebrainWithMargin_origin_wrt_wholebrain_dataResol_z*10.+140*20.]) / 10.\n",
    "# elif stack == 'DEMO998':\n",
    "#     mid_z_wrt_wholebrainWithMargin = 0 # this must be changed\n",
    "#     subject_anchor1_wrt_wholebrain_atlasResol = np.array([wholebrainWithMargin_origin_wrt_wholebrain_dataResol_x * 10. + 558*20., \n",
    "#                                                           wholebrainWithMargin_origin_wrt_wholebrain_dataResol_y * 10. + 207*20., \n",
    "#                                                           wholebrainWithMargin_origin_wrt_wholebrain_dataResol_z*10. + mid_z_wrt_wholebrainWithMargin*20.]) / 10.\n",
    "#     subject_anchor2_wrt_wholebrain_atlasResol = np.array([wholebrainWithMargin_origin_wrt_wholebrain_dataResol_x * 10. + 366*20., \n",
    "#                                                           wholebrainWithMargin_origin_wrt_wholebrain_dataResol_y * 10. + 171*20., \n",
    "#                                                           wholebrainWithMargin_origin_wrt_wholebrain_dataResol_z*10. + mid_z_wrt_wholebrainWithMargin*20.]) / 10.\n",
    "# else:\n",
    "#     raise"
   ]
  },
  {
   "cell_type": "code",
   "execution_count": 9,
   "metadata": {},
   "outputs": [],
   "source": [
    "def align_anchors(pm1, pm2, pf1, pf2):\n",
    "    \"\"\"\n",
    "    Align the vector (pm1, pm2) and vector (pf1, pf2), and align the two middle points. \n",
    "    \"\"\"\n",
    "    \n",
    "    t = ((pf1 + pf2) / 2. - (pm1 + pm2) / 2.)\n",
    "    \n",
    "    subject_d = pf1 - pf2\n",
    "    atlas_d = pm1 - pm2\n",
    "\n",
    "    subject_d_n = subject_d / np.linalg.norm(subject_d)\n",
    "    atlas_d_n = atlas_d / np.linalg.norm(atlas_d)\n",
    "\n",
    "    R = R_align_two_vectors(atlas_d_n, subject_d_n)\n",
    "    \n",
    "    T = np.zeros((3,4))\n",
    "    T[:3, :3] = R\n",
    "#     T[:3, 3] = np.dot(R, t)\n",
    "    T[:3, 3] = t\n",
    "    \n",
    "    return T"
   ]
  },
  {
   "cell_type": "code",
   "execution_count": 10,
   "metadata": {},
   "outputs": [],
   "source": [
    "wholebrainWithMargin_origin_wrt_wholebrain_dataResol = \\\n",
    "np.r_[wholebrainWithMargin_origin_wrt_wholebrain_dataResol_x,\n",
    "      wholebrainWithMargin_origin_wrt_wholebrain_dataResol_y,\n",
    "      wholebrainWithMargin_origin_wrt_wholebrain_dataResol_z]"
   ]
  },
  {
   "cell_type": "code",
   "execution_count": 11,
   "metadata": {},
   "outputs": [],
   "source": [
    "# if stack == 'DEMO998':\n",
    "#     wholebrainWithMargin_origin_wrt_wholebrain_dataResol = \\\n",
    "#     np.r_[wholebrainWithMargin_origin_wrt_wholebrain_dataResol_x,\n",
    "#           wholebrainWithMargin_origin_wrt_wholebrain_dataResol_y,\n",
    "#           wholebrainWithMargin_origin_wrt_wholebrain_dataResol_z]\n",
    "# else:\n",
    "#     wholebrainWithMargin_origin_wrt_wholebrain_dataResol = \\\n",
    "# np.r_[wholebrainWithMargin_origin_wrt_wholebrain_dataResol_x,\n",
    "#       wholebrainWithMargin_origin_wrt_wholebrain_dataResol_y,\n",
    "#       0]\n",
    "\n",
    "#     subject_anchor1_wrt_wholebrain_atlasResol = subject_anchor1_wrt_wholebrainWithMargin_atlasResol + \\\n",
    "#     wholebrainWithMargin_origin_wrt_wholebrain_dataResol # only valid because dataResol is same as atlasResol\n",
    "\n",
    "#     subject_anchor2_wrt_wholebrain_atlasResol = subject_anchor2_wrt_wholebrainWithMargin_atlasResol + \\\n",
    "#     wholebrainWithMargin_origin_wrt_wholebrain_dataResol # only valid because dataResol is same as atlasResol"
   ]
  },
  {
   "cell_type": "code",
   "execution_count": 12,
   "metadata": {},
   "outputs": [
    {
     "data": {
      "text/plain": [
       "array([200.54678679,  68.66154597,   0.        ])"
      ]
     },
     "execution_count": 12,
     "metadata": {},
     "output_type": "execute_result"
    }
   ],
   "source": [
    "atlas_anchor1_wrt_canonicalAtlasSpace_atlasResol"
   ]
  },
  {
   "cell_type": "code",
   "execution_count": 13,
   "metadata": {},
   "outputs": [
    {
     "data": {
      "text/plain": [
       "array([1373.,  556.,  402.])"
      ]
     },
     "execution_count": 13,
     "metadata": {},
     "output_type": "execute_result"
    }
   ],
   "source": [
    "subject_anchor1_wrt_wholebrain_atlasResol"
   ]
  },
  {
   "cell_type": "code",
   "execution_count": null,
   "metadata": {
    "collapsed": true
   },
   "outputs": [],
   "source": []
  },
  {
   "cell_type": "code",
   "execution_count": 14,
   "metadata": {},
   "outputs": [],
   "source": [
    "T_atlas_wrt_canonicalAtlasSpace_subject_wrt_wholebrain_atlasResol = \\\n",
    "align_anchors(atlas_anchor1_wrt_canonicalAtlasSpace_atlasResol, atlas_anchor2_wrt_canonicalAtlasSpace_atlasResol,\n",
    "             subject_anchor1_wrt_wholebrain_atlasResol, subject_anchor2_wrt_wholebrain_atlasResol)"
   ]
  },
  {
   "cell_type": "code",
   "execution_count": 15,
   "metadata": {
    "scrolled": true
   },
   "outputs": [
    {
     "name": "stdout",
     "output_type": "stream",
     "text": [
      "[[ 9.94682907e-01  1.02994988e-01  0.00000000e+00  1.17774282e+03]\n",
      " [-1.02994988e-01  9.94682907e-01  0.00000000e+00  5.10443355e+02]\n",
      " [ 0.00000000e+00  0.00000000e+00  1.00000000e+00  4.02000000e+02]]\n"
     ]
    }
   ],
   "source": [
    "print T_atlas_wrt_canonicalAtlasSpace_subject_wrt_wholebrain_atlasResol"
   ]
  },
  {
   "cell_type": "code",
   "execution_count": 23,
   "metadata": {},
   "outputs": [],
   "source": [
    "# https://www.lfd.uci.edu/~gohlke/code/transformations.py.html\n",
    "\n",
    "def quaternion_about_axis(angle, axis):\n",
    "    \"\"\"Return quaternion for rotation about axis.\n",
    "\n",
    "    >>> q = quaternion_about_axis(0.123, [1, 0, 0])\n",
    "    >>> numpy.allclose(q, [0.99810947, 0.06146124, 0, 0])\n",
    "    True\n",
    "\n",
    "    \"\"\"\n",
    "    q = np.array([0.0, axis[0], axis[1], axis[2]])\n",
    "    qlen = np.linalg.norm(q)\n",
    "    q *= np.sin(angle/2.0) / qlen\n",
    "    q[0] = np.cos(angle/2.0)\n",
    "    return q\n",
    "\n",
    "\n",
    "def quaternion_matrix(quaternion):\n",
    "    \"\"\"Return homogeneous rotation matrix from quaternion.\n",
    "\n",
    "    >>> M = quaternion_matrix([0.99810947, 0.06146124, 0, 0])\n",
    "    >>> numpy.allclose(M, rotation_matrix(0.123, [1, 0, 0]))\n",
    "    True\n",
    "    >>> M = quaternion_matrix([1, 0, 0, 0])\n",
    "    >>> numpy.allclose(M, numpy.identity(4))\n",
    "    True\n",
    "    >>> M = quaternion_matrix([0, 1, 0, 0])\n",
    "    >>> numpy.allclose(M, numpy.diag([1, -1, -1, 1]))\n",
    "    True\n",
    "\n",
    "    \"\"\"\n",
    "    q = np.array(quaternion, dtype=np.float64, copy=True)\n",
    "    n = np.dot(q, q)\n",
    "    q *= np.sqrt(2.0 / n)\n",
    "    q = np.outer(q, q)\n",
    "    return np.array([\n",
    "        [1.0-q[2, 2]-q[3, 3],     q[1, 2]-q[3, 0],     q[1, 3]+q[2, 0], 0.0],\n",
    "        [    q[1, 2]+q[3, 0], 1.0-q[1, 1]-q[3, 3],     q[2, 3]-q[1, 0], 0.0],\n",
    "        [    q[1, 3]-q[2, 0],     q[2, 3]+q[1, 0], 1.0-q[1, 1]-q[2, 2], 0.0],\n",
    "        [                0.0,                 0.0,                 0.0, 1.0]])\n",
    "\n",
    "rand_vec = np.random.uniform(size=3)\n",
    "rand_vec = rand_vec / np.linalg.norm(rand_vec)\n",
    "rand_rot_amount = np.random.uniform(high=np.deg2rad(5))\n",
    "perturb_rot = quaternion_matrix(quaternion_about_axis(rand_rot_amount, rand_vec))\n",
    "\n",
    "perturb_xyz = np.random.choice(np.arange(-30, 30), 3)\n",
    "\n",
    "T_atlas_wrt_canonicalAtlasSpace_subject_wrt_wholebrain_atlasResol = \\\n",
    "np.dot(T_atlas_wrt_canonicalAtlasSpace_subject_wrt_wholebrain_atlasResol, perturb_rot)\n",
    "T_atlas_wrt_canonicalAtlasSpace_subject_wrt_wholebrain_atlasResol[:3, 3] += perturb_xyz"
   ]
  },
  {
   "cell_type": "code",
   "execution_count": 24,
   "metadata": {},
   "outputs": [
    {
     "name": "stdout",
     "output_type": "stream",
     "text": [
      "[[ 9.96794573e-01  7.88366266e-02  1.36901111e-02  1.15974282e+03]\n",
      " [-7.83927867e-02  9.96460235e-01 -3.03912136e-02  5.13443355e+02]\n",
      " [-1.60375592e-02  2.92205308e-02  9.99444324e-01  4.25000000e+02]]\n"
     ]
    }
   ],
   "source": [
    "print T_atlas_wrt_canonicalAtlasSpace_subject_wrt_wholebrain_atlasResol"
   ]
  },
  {
   "cell_type": "code",
   "execution_count": 26,
   "metadata": {},
   "outputs": [],
   "source": [
    "fp = os.path.join(DATA_ROOTDIR, 'CSHL_simple_global_registration', stack + '_T_atlas_wrt_canonicalAtlasSpace_subject_wrt_wholebrain_atlasResol.txt')\n",
    "create_parent_dir_if_not_exists(fp)\n",
    "np.savetxt(fp, T_atlas_wrt_canonicalAtlasSpace_subject_wrt_wholebrain_atlasResol)"
   ]
  },
  {
   "cell_type": "code",
   "execution_count": 56,
   "metadata": {
    "collapsed": true
   },
   "outputs": [],
   "source": [
    "# bp.pack_ndarray_file(T_atlas_wrt_canonicalAtlasSpace_subject_wrt_wholebrain_atlasResol, \n",
    "#                      os.path.join(DATA_ROOTDIR, 'CSHL_simple_global_registration', stack + '_T_atlas_wrt_canonicalAtlasSpace_subject_wrt_wholebrain_atlasResol.bp'))"
   ]
  }
 ],
 "metadata": {
  "kernelspec": {
   "display_name": "Python 2",
   "language": "python",
   "name": "python2"
  },
  "language_info": {
   "codemirror_mode": {
    "name": "ipython",
    "version": 2
   },
   "file_extension": ".py",
   "mimetype": "text/x-python",
   "name": "python",
   "nbconvert_exporter": "python",
   "pygments_lexer": "ipython2",
   "version": "2.7.12"
  }
 },
 "nbformat": 4,
 "nbformat_minor": 2
}
