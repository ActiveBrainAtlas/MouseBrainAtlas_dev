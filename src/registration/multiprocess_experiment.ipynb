{
 "cells": [
  {
   "cell_type": "code",
   "execution_count": 1,
   "metadata": {
    "collapsed": false
   },
   "outputs": [
    {
     "name": "stdout",
     "output_type": "stream",
     "text": [
      "Setting environment for Gordon\n"
     ]
    }
   ],
   "source": [
    "%load_ext autoreload\n",
    "%autoreload 2\n",
    "\n",
    "# import numpy as np\n",
    "\n",
    "import sys\n",
    "import os\n",
    "\n",
    "sys.path.append(os.environ['REPO_DIR'] + '/utilities')\n",
    "# from utilities2015 import *\n",
    "\n",
    "import time"
   ]
  },
  {
   "cell_type": "code",
   "execution_count": 31,
   "metadata": {
    "collapsed": false
   },
   "outputs": [
    {
     "name": "stdout",
     "output_type": "stream",
     "text": [
      "[100000000, 100000000, 100000000, 100000000, 100000000, 100000000, 100000000, 100000000]\n",
      "0.288985967636\n",
      "0\n",
      "1\n",
      "2\n",
      "3\n",
      "4\n",
      "5\n",
      "6\n",
      "7\n"
     ]
    }
   ],
   "source": [
    "from registration_utilities import A\n",
    "a = A(int(1e8))\n",
    "\n",
    "t = time.time()\n",
    "a.func_parallel(processes=8)\n",
    "print time.time() -t "
   ]
  },
  {
   "cell_type": "code",
   "execution_count": 17,
   "metadata": {
    "collapsed": false
   },
   "outputs": [],
   "source": []
  },
  {
   "cell_type": "code",
   "execution_count": 25,
   "metadata": {
    "collapsed": false
   },
   "outputs": [
    {
     "name": "stdout",
     "output_type": "stream",
     "text": [
      "1.77589607239\n",
      "0\n",
      "1\n",
      "2\n",
      "3\n",
      "4\n",
      "5\n",
      "6\n",
      "7\n",
      "8\n",
      "9\n",
      "10\n",
      "11\n",
      "12\n",
      "13\n",
      "14\n",
      "15\n"
     ]
    }
   ],
   "source": [
    "# I asked a question on http://stackoverflow.com/questions/37745455/how-to-share-the-large-class-member-variable-between-the-processes\n",
    "\n",
    "from registration_utilities import A\n",
    "a = A(int(1e6))\n",
    "\n",
    "t = time.time()\n",
    "\n",
    "from multiprocess import Pool\n",
    "\n",
    "n = 16\n",
    "\n",
    "pool = Pool(processes=n)\n",
    "pool.map(a.func2, range(n))\n",
    "\n",
    "pool.close()\n",
    "pool.join()\n",
    "\n",
    "print time.time() -t \n",
    "\n",
    "# 1e5 - 0.02s \n",
    "# 1e6 - 0.1s-1.6s"
   ]
  }
 ],
 "metadata": {
  "kernelspec": {
   "display_name": "Python 2",
   "language": "python",
   "name": "python2"
  },
  "language_info": {
   "codemirror_mode": {
    "name": "ipython",
    "version": 2
   },
   "file_extension": ".py",
   "mimetype": "text/x-python",
   "name": "python",
   "nbconvert_exporter": "python",
   "pygments_lexer": "ipython2",
   "version": "2.7.3"
  }
 },
 "nbformat": 4,
 "nbformat_minor": 0
}
