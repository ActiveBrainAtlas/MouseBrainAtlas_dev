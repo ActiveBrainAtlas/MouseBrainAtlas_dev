{
 "cells": [
  {
   "cell_type": "code",
   "execution_count": 1,
   "metadata": {
    "scrolled": true
   },
   "outputs": [
    {
     "name": "stderr",
     "output_type": "stream",
     "text": [
      "ENABLE_UPLOAD_S3 is not set, default to False.\n",
      "ENABLE_DOWNLOAD_S3 is not set, default to False.\n",
      "No vtk\n",
      "Failed to cache MD585 section_limits: ini file /media/yuncong/BstemAtlasData/atlas_data/CSHL_data_processed/MD585/MD585_prep2_sectionLimits.ini does not exist.\n",
      "Seems you are using operation INIs to provide cropbox.\n",
      "Failed to cache MD585 cropbox: ini file /media/yuncong/BstemAtlasData/atlas_data/CSHL_data_processed/MD585/operation_configs/from_padded_to_brainstem.ini does not exist.\n",
      "Failed to cache MD585 valid_sections/filenames: MD585\n",
      "Seems you are using operation INIs to provide cropbox.\n",
      "Failed to cache MD585 image_shape: ini file /media/yuncong/BstemAtlasData/atlas_data/CSHL_data_processed/MD585/operation_configs/from_padded_to_brainstem.ini does not exist.\n",
      "No anchor.txt is found. Seems we are using the operation ini to provide anchor. Try to load operation ini.\n",
      "Failed to cache MD594 anchor: ini file /media/yuncong/BstemAtlasData/atlas_data/CSHL_data_processed/MD594/operation_configs/from_none_to_aligned.ini does not exist.\n",
      "File does not exist: /media/yuncong/BstemAtlasData/atlas_data/CSHL_data_processed/MD594/MD594_sorted_filenames.txt\n",
      "Failed to cache MD594 sections_to_filenames: \n",
      "File does not exist: /media/yuncong/BstemAtlasData/atlas_data/CSHL_data_processed/MD594/MD594_sorted_filenames.txt\n",
      "Failed to cache MD594 filenames_to_sections: \n",
      "No anchor.txt is found. Seems we are using the operation ini to provide anchor. Try to load operation ini.\n",
      "Failed to cache MD594 section_limits: ini file /media/yuncong/BstemAtlasData/atlas_data/CSHL_data_processed/MD594/operation_configs/from_none_to_aligned.ini does not exist.\n",
      "No anchor.txt is found. Seems we are using the operation ini to provide anchor. Try to load operation ini.\n",
      "Failed to cache MD594 cropbox: ini file /media/yuncong/BstemAtlasData/atlas_data/CSHL_data_processed/MD594/operation_configs/from_none_to_aligned.ini does not exist.\n",
      "Failed to cache MD594 valid_sections/filenames: MD594\n",
      "No anchor.txt is found. Seems we are using the operation ini to provide anchor. Try to load operation ini.\n",
      "Failed to cache MD594 image_shape: ini file /media/yuncong/BstemAtlasData/atlas_data/CSHL_data_processed/MD594/operation_configs/from_none_to_aligned.ini does not exist.\n",
      "No anchor.txt is found. Seems we are using the operation ini to provide anchor. Try to load operation ini.\n",
      "Failed to cache MD589 anchor: ini file /media/yuncong/BstemAtlasData/atlas_data/CSHL_data_processed/MD589/operation_configs/from_none_to_aligned.ini does not exist.\n",
      "File does not exist: /media/yuncong/BstemAtlasData/atlas_data/CSHL_data_processed/MD589/MD589_sorted_filenames.txt\n",
      "Failed to cache MD589 sections_to_filenames: \n",
      "File does not exist: /media/yuncong/BstemAtlasData/atlas_data/CSHL_data_processed/MD589/MD589_sorted_filenames.txt\n",
      "Failed to cache MD589 filenames_to_sections: \n",
      "No anchor.txt is found. Seems we are using the operation ini to provide anchor. Try to load operation ini.\n",
      "Failed to cache MD589 section_limits: ini file /media/yuncong/BstemAtlasData/atlas_data/CSHL_data_processed/MD589/operation_configs/from_none_to_aligned.ini does not exist.\n",
      "No anchor.txt is found. Seems we are using the operation ini to provide anchor. Try to load operation ini.\n",
      "Failed to cache MD589 cropbox: ini file /media/yuncong/BstemAtlasData/atlas_data/CSHL_data_processed/MD589/operation_configs/from_none_to_aligned.ini does not exist.\n",
      "Failed to cache MD589 valid_sections/filenames: MD589\n",
      "No anchor.txt is found. Seems we are using the operation ini to provide anchor. Try to load operation ini.\n",
      "Failed to cache MD589 image_shape: ini file /media/yuncong/BstemAtlasData/atlas_data/CSHL_data_processed/MD589/operation_configs/from_none_to_aligned.ini does not exist.\n",
      "No anchor.txt is found. Seems we are using the operation ini to provide anchor. Try to load operation ini.\n",
      "Failed to cache DEMO998 anchor: ini file /media/yuncong/BstemAtlasData/atlas_data/CSHL_data_processed/DEMO998/operation_configs/from_none_to_aligned.ini does not exist.\n",
      "File does not exist: /media/yuncong/BstemAtlasData/atlas_data/CSHL_data_processed/DEMO998/DEMO998_sorted_filenames.txt\n",
      "Failed to cache DEMO998 sections_to_filenames: \n",
      "File does not exist: /media/yuncong/BstemAtlasData/atlas_data/CSHL_data_processed/DEMO998/DEMO998_sorted_filenames.txt\n",
      "Failed to cache DEMO998 filenames_to_sections: \n",
      "No anchor.txt is found. Seems we are using the operation ini to provide anchor. Try to load operation ini.\n",
      "Failed to cache DEMO998 section_limits: ini file /media/yuncong/BstemAtlasData/atlas_data/CSHL_data_processed/DEMO998/operation_configs/from_none_to_aligned.ini does not exist.\n",
      "No anchor.txt is found. Seems we are using the operation ini to provide anchor. Try to load operation ini.\n",
      "Failed to cache DEMO998 cropbox: ini file /media/yuncong/BstemAtlasData/atlas_data/CSHL_data_processed/DEMO998/operation_configs/from_none_to_aligned.ini does not exist.\n",
      "Failed to cache DEMO998 valid_sections/filenames: DEMO998\n",
      "No anchor.txt is found. Seems we are using the operation ini to provide anchor. Try to load operation ini.\n",
      "Failed to cache DEMO998 image_shape: ini file /media/yuncong/BstemAtlasData/atlas_data/CSHL_data_processed/DEMO998/operation_configs/from_none_to_aligned.ini does not exist.\n"
     ]
    },
    {
     "name": "stdout",
     "output_type": "stream",
     "text": [
      "Setting environment for Precision WorkStation\n",
      "{'MD585': 0.46}\n"
     ]
    },
    {
     "name": "stderr",
     "output_type": "stream",
     "text": [
      "/home/yuncong/MouseBrainAtlas/mousebrainatlas_virtualenv/local/lib/python2.7/site-packages/sklearn/ensemble/weight_boosting.py:29: DeprecationWarning: numpy.core.umath_tests is an internal NumPy module and should not be imported. It will be removed in a future NumPy release.\n",
      "  from numpy.core.umath_tests import inner1d\n",
      "xgboost is not loaded.\n"
     ]
    }
   ],
   "source": [
    "import argparse\n",
    "\n",
    "import sys\n",
    "import os\n",
    "\n",
    "sys.path.append(os.environ['REPO_DIR'] + '/utilities')\n",
    "from utilities2015 import *\n",
    "from data_manager import *\n",
    "from metadata import *\n",
    "from distributed_utilities import *\n",
    "from learning_utilities import *\n",
    "\n",
    "from scipy.ndimage.interpolation import map_coordinates\n",
    "from skimage.exposure import rescale_intensity, adjust_gamma\n",
    "from skimage.transform import rotate\n"
   ]
  },
  {
   "cell_type": "code",
   "execution_count": 2,
   "metadata": {},
   "outputs": [],
   "source": [
    "stack = 'MD585'"
   ]
  },
  {
   "cell_type": "code",
   "execution_count": 8,
   "metadata": {},
   "outputs": [],
   "source": [
    "section = 230"
   ]
  },
  {
   "cell_type": "code",
   "execution_count": 9,
   "metadata": {},
   "outputs": [],
   "source": [
    "normalized_float_map = load_data(DataManager.get_intensity_normalization_result_filepath(what='normalized_float_map', stack=stack, section=section))"
   ]
  },
  {
   "cell_type": "code",
   "execution_count": 10,
   "metadata": {},
   "outputs": [
    {
     "data": {
      "text/plain": [
       "(25205, 32032)"
      ]
     },
     "execution_count": 10,
     "metadata": {},
     "output_type": "execute_result"
    }
   ],
   "source": [
    "normalized_float_map"
   ]
  },
  {
   "cell_type": "code",
   "execution_count": 11,
   "metadata": {},
   "outputs": [
    {
     "name": "stderr",
     "output_type": "stream",
     "text": [
      "/home/yuncong/MouseBrainAtlas/mousebrainatlas_virtualenv/local/lib/python2.7/site-packages/skimage/util/dtype.py:122: UserWarning: Possible precision loss when converting from float64 to uint8\n",
      "  .format(dtypeobj_in, dtypeobj_out))\n"
     ]
    }
   ],
   "source": [
    "gamma_map = img_as_ubyte(adjust_gamma(np.arange(0, 256, 1) / 255., 8.))"
   ]
  },
  {
   "cell_type": "code",
   "execution_count": 14,
   "metadata": {},
   "outputs": [
    {
     "data": {
      "text/plain": [
       "'MD585-IHC41-2015.08.19-14.21.09_MD585_1_0121'"
      ]
     },
     "execution_count": 14,
     "metadata": {},
     "output_type": "execute_result"
    }
   ],
   "source": [
    "metadata_cache['sections_to_filenames'][stack][230]"
   ]
  },
  {
   "cell_type": "code",
   "execution_count": 15,
   "metadata": {},
   "outputs": [],
   "source": [
    "image_name = 'MD585-IHC41-2015.08.19-14.21.09_MD585_1_0121'"
   ]
  },
  {
   "cell_type": "code",
   "execution_count": 16,
   "metadata": {},
   "outputs": [],
   "source": [
    "img_normalized = load_data(\n",
    "          DataManager.get_intensity_normalization_result_filepath(what='normalized_float_map', stack=stack, fn=image_name),\n",
    "         download_s3=False)  "
   ]
  },
  {
   "cell_type": "code",
   "execution_count": 28,
   "metadata": {},
   "outputs": [],
   "source": [
    "img_normalized_uint8 = rescale_intensity_v2(img_normalized, -5, 4)"
   ]
  },
  {
   "cell_type": "code",
   "execution_count": 29,
   "metadata": {
    "scrolled": true
   },
   "outputs": [
    {
     "data": {
      "text/html": [
       "<a href='tmp.jpg' target='_blank'>tmp.jpg</a><br>"
      ],
      "text/plain": [
       "/home/yuncong/MouseBrainAtlas/src/preprocess/tmp.jpg"
      ]
     },
     "execution_count": 29,
     "metadata": {},
     "output_type": "execute_result"
    }
   ],
   "source": [
    "display_image(img_normalized_uint8[::2, ::2])"
   ]
  },
  {
   "cell_type": "code",
   "execution_count": null,
   "metadata": {},
   "outputs": [],
   "source": [
    "low = -2.\n",
    "high = 50.\n",
    "\n",
    "t = time.time()\n",
    "img_normalized_uint8 = rescale_intensity_v2(img_normalized, low, high)\n",
    "sys.stderr.write('Rescale to uint8: %.2f seconds.\\n' % (time.time() - t))\n",
    "\n",
    "t = time.time()\n",
    "raw_mask = load_data(DataManager.get_image_filepath_v2(stack=stack, prep_id=prep_id, fn=image_name, version='mask', resol=resol, ext='bp'),\n",
    "                    download_s3=False)\n",
    "img_normalized_uint8[~raw_mask] = 0\n",
    "sys.stderr.write('Load mask: %.2f seconds.\\n' % (time.time() - t))\n",
    "\n",
    "img = 255 - img_normalized_uint8\n",
    "save_data(gamma_map[img], \n",
    "          DataManager.get_image_filepath_v2(stack=stack, prep_id=prep_id, fn=image_name, version=args.out_version, resol=resol),\n",
    "         upload_s3=False)\n"
   ]
  }
 ],
 "metadata": {
  "kernelspec": {
   "display_name": "Python 2",
   "language": "python",
   "name": "python2"
  },
  "language_info": {
   "codemirror_mode": {
    "name": "ipython",
    "version": 2
   },
   "file_extension": ".py",
   "mimetype": "text/x-python",
   "name": "python",
   "nbconvert_exporter": "python",
   "pygments_lexer": "ipython2",
   "version": "2.7.12"
  }
 },
 "nbformat": 4,
 "nbformat_minor": 2
}
