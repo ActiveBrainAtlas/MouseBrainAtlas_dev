{
 "cells": [
  {
   "cell_type": "code",
   "execution_count": 9,
   "metadata": {
    "collapsed": false
   },
   "outputs": [
    {
     "name": "stdout",
     "output_type": "stream",
     "text": [
      "The autoreload extension is already loaded. To reload it, use:\n",
      "  %reload_ext autoreload\n"
     ]
    }
   ],
   "source": [
    "\"\"\"\n",
    "Deprecated due to generating algorithm review result \n",
    "in generate_masks script, and the use of mask editing \n",
    "tool in GUi.\n",
    "\"\"\"\n",
    "\n",
    "%load_ext autoreload\n",
    "%autoreload 2\n",
    "\n",
    "import os\n",
    "import time\n",
    "import sys\n",
    "sys.path.append(os.path.join(os.environ['REPO_DIR'], 'utilities'))\n",
    "from utilities2015 import *\n",
    "from annotation_utilities import contours_to_mask\n",
    "from registration_utilities import find_contour_points\n",
    "\n",
    "import numpy as np\n",
    "\n",
    "sys.path.append('/oasis/projects/nsf/csd181/yuncong/opencv-2.4.9/release/lib/python2.7/site-packages')\n",
    "import cv2\n",
    "\n",
    "import matplotlib.pyplot as plt\n",
    "%matplotlib inline\n",
    "\n",
    "from skimage.filters.rank import entropy\n",
    "from skimage.morphology import remove_small_objects, disk, remove_small_holes, binary_dilation, disk, binary_closing\n",
    "from skimage.measure import label, regionprops\n",
    "from skimage.color import rgb2gray\n",
    "from skimage.io import imread, imsave\n",
    "from skimage.segmentation import active_contour\n",
    "from skimage.filters import gaussian, threshold_adaptive\n",
    "from skimage.util import img_as_ubyte\n",
    "\n",
    "from sklearn.mixture import GaussianMixture\n",
    "from sklearn.cluster import KMeans"
   ]
  },
  {
   "cell_type": "code",
   "execution_count": 10,
   "metadata": {
    "collapsed": true
   },
   "outputs": [],
   "source": [
    "from metadata import *\n",
    "from data_manager import *"
   ]
  },
  {
   "cell_type": "code",
   "execution_count": 11,
   "metadata": {
    "collapsed": true
   },
   "outputs": [],
   "source": [
    "stack = 'MD652'"
   ]
  },
  {
   "cell_type": "code",
   "execution_count": 12,
   "metadata": {
    "collapsed": false
   },
   "outputs": [],
   "source": [
    "submask_dir = create_if_not_exists('/home/yuncong/CSHL_data_processed/%(stack)s/%(stack)s_submasks' % {'stack': stack})\n",
    "# gallery_dir = create_if_not_exists('/home/yuncong/CSHL_data_processed/%(stack)s/%(stack)s_submaskGallery' % {'stack': stack})"
   ]
  },
  {
   "cell_type": "code",
   "execution_count": null,
   "metadata": {
    "collapsed": true
   },
   "outputs": [],
   "source": [
    "# new"
   ]
  },
  {
   "cell_type": "code",
   "execution_count": null,
   "metadata": {
    "collapsed": true
   },
   "outputs": [],
   "source": [
    "def consolidate_alg_submask_review(alg_decisions):\n",
    "    \"\"\"\n",
    "    Return {submask_ind: bool}\n",
    "    \"\"\"\n",
    "\n",
    "    consolidated_decisions = {}\n",
    "\n",
    "    if len(alg_decisions) == 0:\n",
    "        return {}\n",
    "    else:\n",
    "        alg_positives = [index for index, l in alg_decisions.iteritems() if l == 1]\n",
    "        if len(alg_positives) > 0:\n",
    "            assert len(alg_positives) == 1\n",
    "            correct_index = alg_positives[0]\n",
    "        else:\n",
    "            correct_index = 1\n",
    "\n",
    "        consolidated_decisions[correct_index] = 1\n",
    "        for idx in alg_decisions:\n",
    "            if idx != correct_index:\n",
    "                consolidated_decisions[idx] = -1\n",
    "        return {i: r == 1 for i, r in consolidated_decisions.iteritems()}"
   ]
  },
  {
   "cell_type": "code",
   "execution_count": null,
   "metadata": {
    "collapsed": true
   },
   "outputs": [],
   "source": [
    "n = len(final_masks)\n",
    "decisions = [0 for _ in range(n)]\n",
    "undecided = []\n",
    "negatives = []\n",
    "positives = []\n",
    "\n",
    "if n == 1: # If only one mask, assign it positive.\n",
    "    decisions[0] = 1\n",
    "    undecided.append(0)\n",
    "else:\n",
    "    for i in range(n):\n",
    "        if np.count_nonzero(final_masks[i]) < 10000:\n",
    "            decisions[i] = -1\n",
    "            negatives.append(i)\n",
    "        else:\n",
    "            decisions[i] = 0\n",
    "            positives.append(i)\n",
    "\n",
    "# If only one undecided and the rest are negative, make the undecided positive.\n",
    "if len(undecided) == 1 and len(negatives) == n - len(undecided):\n",
    "    decisions[undecided[0]] = 1\n",
    "\n",
    "# If there are more than one positives, make all other undecided negative.\n",
    "if len(positives) >= 1:\n",
    "    for u in undecided:\n",
    "        decisions[u] = -1\n",
    "\n",
    "decisions = consolidate_alg_submask_review(dict(zip(range(1, 1+len(decisions)), decisions)))\n",
    "\n"
   ]
  },
  {
   "cell_type": "code",
   "execution_count": null,
   "metadata": {
    "collapsed": true
   },
   "outputs": [],
   "source": [
    "# old"
   ]
  },
  {
   "cell_type": "code",
   "execution_count": 18,
   "metadata": {
    "collapsed": false
   },
   "outputs": [],
   "source": [
    "from collections import defaultdict\n",
    "\n",
    "labels = defaultdict(dict)\n",
    "for fn in os.listdir(submask_dir):\n",
    "\n",
    "    mask_fns = os.listdir(submask_dir + '/' + fn)\n",
    "    masks = [imread(submask_dir + '/' + fn + '/' + mask_fn).astype(bool) for mask_fn in mask_fns]\n",
    "    \n",
    "    areas = [np.count_nonzero(mask) for mask in masks]\n",
    "    indices = [int(mask_fn[:-4].split('_')[-1]) for mask_fn in mask_fns]\n",
    "    \n",
    "#     print fn, mask_fns\n",
    "    \n",
    "    n = len(indices)\n",
    "    if n == 1:\n",
    "        labels[fn][indices[0]] = 1\n",
    "    else:\n",
    "        for i in range(n):\n",
    "            if areas[i] < 10000:\n",
    "                labels[fn][indices[i]] = -1\n",
    "            else:\n",
    "                labels[fn][indices[i]] = 0\n",
    "    \n",
    "    undecided = [i for i, l in labels[fn].iteritems() if l == 0]\n",
    "    negatives = [i for i, l in labels[fn].iteritems() if l == -1]\n",
    "    positives = [i for i, l in labels[fn].iteritems() if l == 1]\n",
    "    \n",
    "    if len(undecided) == 1 and len(negatives) == n - len(undecided):\n",
    "        labels[fn][undecided[0]] = 1\n",
    "    \n",
    "    if len(positives) >= 1:\n",
    "        for u in undecided:\n",
    "            labels[fn][u] = -1\n",
    "            \n",
    "#     with open('/home/yuncong/CSHL_data_processed/%(stack)s/%(stack)s_submasks/%(fn)s/%(fn)s_masks_algReview.txt' % dict(fn=fn, stack=stack), 'w') as f:\n",
    "#         for i, lbl in labels[fn].iteritems():\n",
    "#             f.write('%d %d\\n' % (i, lbl))\n",
    "                \n",
    "labels.default_factory = None"
   ]
  },
  {
   "cell_type": "code",
   "execution_count": 14,
   "metadata": {
    "collapsed": false
   },
   "outputs": [],
   "source": [
    "# add extra cells for correction result\n",
    "D = {fn: dict(sum([[(str(i)+'_alg', l), (str(i)+'_human', np.nan)] for i, l in d.iteritems()], [])) \n",
    "     for fn, d in labels.iteritems()}"
   ]
  },
  {
   "cell_type": "code",
   "execution_count": 15,
   "metadata": {
    "collapsed": false
   },
   "outputs": [],
   "source": [
    "sorted_fns = sorted(labels.keys(), key=lambda fn: int(fn.split('-')[1][1:]))"
   ]
  },
  {
   "cell_type": "code",
   "execution_count": 16,
   "metadata": {
    "collapsed": false,
    "scrolled": true
   },
   "outputs": [],
   "source": [
    "import pandas\n",
    "df = pandas.DataFrame(data=D, columns=sorted_fns).T\n",
    "df.to_csv('/home/yuncong/CSHL_data_processed/%(stack)s/%(stack)s_mask_check.csv' % {'stack': stack})"
   ]
  },
  {
   "cell_type": "markdown",
   "metadata": {},
   "source": [
    "# ... then user reviews this on local machine and prepares the reviewed version."
   ]
  },
  {
   "cell_type": "code",
   "execution_count": 80,
   "metadata": {
    "collapsed": false
   },
   "outputs": [],
   "source": [
    "df_rev = pandas.read_csv('/home/yuncong/CSHL_data_processed/%(stack)s/%(stack)s_mask_check_reviewed.csv' % {'stack': stack},\n",
    "                        index_col=0)"
   ]
  },
  {
   "cell_type": "code",
   "execution_count": 20,
   "metadata": {
    "collapsed": false,
    "scrolled": true
   },
   "outputs": [],
   "source": [
    "human_labels_reviewed = {}\n",
    "\n",
    "for fn, row in df_rev.iterrows():\n",
    "    human_labels = {int(name[0]): l for name, l in row.dropna().iteritems() if name.endswith('human')}\n",
    "    alg_labels = {int(name[0]): l for name, l in row.dropna().iteritems() if name.endswith('alg')}        \n",
    "    \n",
    "    human_positives = [index for index, l in human_labels.iteritems() if l == 1]\n",
    "    \n",
    "    if len(human_positives) == 0:\n",
    "        # If no human label is given, default to algorithm result; \n",
    "        # if algo. is unsure, treat the first mask as correct.\n",
    "        \n",
    "        alg_positives = [index for index, l in alg_labels.iteritems() if l == 1]\n",
    "        if len(alg_positives) > 0:\n",
    "            assert len(alg_positives) == 1\n",
    "            correct_index = alg_positives[0]\n",
    "        else:\n",
    "            correct_index = 1\n",
    "    else:\n",
    "        # if human label is given, use that.\n",
    "        assert len(human_positives) == 1\n",
    "        correct_index = human_positives[0]\n",
    "    \n",
    "    human_labels[correct_index] = 1\n",
    "    for idx in alg_labels:\n",
    "        if idx != correct_index:\n",
    "            human_labels[idx] = -1\n",
    "\n",
    "    human_labels_reviewed[fn] = human_labels"
   ]
  },
  {
   "cell_type": "code",
   "execution_count": 120,
   "metadata": {
    "collapsed": true
   },
   "outputs": [],
   "source": [
    "# reviewed_mask_dir = create_if_not_exists('/home/yuncong/CSHL_data_processed/%(stack)s/%(stack)s_mask_unsorted_reviewed' % {'stack': stack})\n",
    "reviewed_mask_dir = create_if_not_exists('/home/yuncong/CSHL_data_processed/%(stack)s/%(stack)s_mask_unsorted' % {'stack': stack})"
   ]
  },
  {
   "cell_type": "code",
   "execution_count": 121,
   "metadata": {
    "collapsed": false
   },
   "outputs": [
    {
     "name": "stdout",
     "output_type": "stream",
     "text": [
      "cp /home/yuncong/CSHL_data_processed/MD635/MD635_submasks/MD635-F16-2016.05.18-19.01.39_MD635_1_0046/MD635-F16-2016.05.18-19.01.39_MD635_1_0046_submasks_1.png /home/yuncong/CSHL_data_processed/MD635/MD635_mask_unsorted/MD635-F16-2016.05.18-19.01.39_MD635_1_0046_mask.png\n",
      "cp /home/yuncong/CSHL_data_processed/MD635/MD635_submasks/MD635-F13-2016.05.18-18.22.59_MD635_2_0038/MD635-F13-2016.05.18-18.22.59_MD635_2_0038_submasks_1.png /home/yuncong/CSHL_data_processed/MD635/MD635_mask_unsorted/MD635-F13-2016.05.18-18.22.59_MD635_2_0038_mask.png\n",
      "cp /home/yuncong/CSHL_data_processed/MD635/MD635_submasks/MD635-F40-2016.05.19-01.08.51_MD635_2_0119/MD635-F40-2016.05.19-01.08.51_MD635_2_0119_submasks_1.png /home/yuncong/CSHL_data_processed/MD635/MD635_mask_unsorted/MD635-F40-2016.05.19-01.08.51_MD635_2_0119_mask.png\n",
      "cp /home/yuncong/CSHL_data_processed/MD635/MD635_submasks/MD635-F48-2016.05.19-03.40.12_MD635_2_0143/MD635-F48-2016.05.19-03.40.12_MD635_2_0143_submasks_1.png /home/yuncong/CSHL_data_processed/MD635/MD635_mask_unsorted/MD635-F48-2016.05.19-03.40.12_MD635_2_0143_mask.png\n"
     ]
    },
    {
     "name": "stderr",
     "output_type": "stream",
     "text": [
      "Child returned 0\n",
      "Child returned 0\n",
      "Child returned 0\n",
      "Child returned 0\n",
      "Child returned 0\n",
      "Child returned 0\n"
     ]
    },
    {
     "name": "stdout",
     "output_type": "stream",
     "text": [
      "cp /home/yuncong/CSHL_data_processed/MD635/MD635_submasks/MD635-F163-2016.05.20-10.17.45_MD635_3_0489/MD635-F163-2016.05.20-10.17.45_MD635_3_0489_submasks_1.png /home/yuncong/CSHL_data_processed/MD635/MD635_mask_unsorted/MD635-F163-2016.05.20-10.17.45_MD635_3_0489_mask.png\n",
      "cp /home/yuncong/CSHL_data_processed/MD635/MD635_submasks/MD635-F62-2016.05.19-08.18.25_MD635_2_0185/MD635-F62-2016.05.19-08.18.25_MD635_2_0185_submasks_1.png /home/yuncong/CSHL_data_processed/MD635/MD635_mask_unsorted/MD635-F62-2016.05.19-08.18.25_MD635_2_0185_mask.png\n",
      "cp /home/yuncong/CSHL_data_processed/MD635/MD635_submasks/MD635-F157-2016.05.20-13.32.17_MD635_1_0469/MD635-F157-2016.05.20-13.32.17_MD635_1_0469_submasks_1.png /home/yuncong/CSHL_data_processed/MD635/MD635_mask_unsorted/MD635-F157-2016.05.20-13.32.17_MD635_1_0469_mask.png\n"
     ]
    },
    {
     "name": "stderr",
     "output_type": "stream",
     "text": [
      "Child returned 0\n",
      "Child returned 0\n",
      "Child returned 0\n"
     ]
    },
    {
     "name": "stdout",
     "output_type": "stream",
     "text": [
      "cp /home/yuncong/CSHL_data_processed/MD635/MD635_submasks/MD635-F132-2016.05.20-04.14.48_MD635_1_0394/MD635-F132-2016.05.20-04.14.48_MD635_1_0394_submasks_1.png /home/yuncong/CSHL_data_processed/MD635/MD635_mask_unsorted/MD635-F132-2016.05.20-04.14.48_MD635_1_0394_mask.png\n",
      "cp /home/yuncong/CSHL_data_processed/MD635/MD635_submasks/MD635-F11-2016.05.18-17.57.22_MD635_1_0031/MD635-F11-2016.05.18-17.57.22_MD635_1_0031_submasks_1.png /home/yuncong/CSHL_data_processed/MD635/MD635_mask_unsorted/MD635-F11-2016.05.18-17.57.22_MD635_1_0031_mask.png\n",
      "cp /home/yuncong/CSHL_data_processed/MD635/MD635_submasks/MD635-F23-2016.05.18-20.33.07_MD635_1_0067/MD635-F23-2016.05.18-20.33.07_MD635_1_0067_submasks_1.png /home/yuncong/CSHL_data_processed/MD635/MD635_mask_unsorted/MD635-F23-2016.05.18-20.33.07_MD635_1_0067_mask.png\n"
     ]
    },
    {
     "name": "stderr",
     "output_type": "stream",
     "text": [
      "Child returned 0\n",
      "Child returned 0\n",
      "Child returned 0\n",
      "Child returned 0\n"
     ]
    },
    {
     "name": "stdout",
     "output_type": "stream",
     "text": [
      "cp /home/yuncong/CSHL_data_processed/MD635/MD635_submasks/MD635-F39-2016.05.19-00.52.10_MD635_2_0116/MD635-F39-2016.05.19-00.52.10_MD635_2_0116_submasks_1.png /home/yuncong/CSHL_data_processed/MD635/MD635_mask_unsorted/MD635-F39-2016.05.19-00.52.10_MD635_2_0116_mask.png\n",
      "cp /home/yuncong/CSHL_data_processed/MD635/MD635_submasks/MD635-F25-2016.05.18-21.02.30_MD635_2_0074/MD635-F25-2016.05.18-21.02.30_MD635_2_0074_submasks_1.png /home/yuncong/CSHL_data_processed/MD635/MD635_mask_unsorted/MD635-F25-2016.05.18-21.02.30_MD635_2_0074_mask.png\n",
      "cp /home/yuncong/CSHL_data_processed/MD635/MD635_submasks/MD635-F76-2016.05.19-12.50.14_MD635_1_0226/MD635-F76-2016.05.19-12.50.14_MD635_1_0226_submasks_1.png /home/yuncong/CSHL_data_processed/MD635/MD635_mask_unsorted/MD635-F76-2016.05.19-12.50.14_MD635_1_0226_mask.png\n",
      "cp /home/yuncong/CSHL_data_processed/MD635/MD635_submasks/MD635-F119-2016.05.20-01.22.34_MD635_1_0355/MD635-F119-2016.05.20-01.22.34_MD635_1_0355_submasks_1.png /home/yuncong/CSHL_data_processed/MD635/MD635_mask_unsorted/MD635-F119-2016.05.20-01.22.34_MD635_1_0355_mask.png\n"
     ]
    },
    {
     "name": "stderr",
     "output_type": "stream",
     "text": [
      "Child returned 0\n",
      "Child returned 0\n",
      "Child returned 0\n"
     ]
    },
    {
     "name": "stdout",
     "output_type": "stream",
     "text": [
      "cp /home/yuncong/CSHL_data_processed/MD635/MD635_submasks/MD635-F32-2016.05.18-22.50.16_MD635_2_0095/MD635-F32-2016.05.18-22.50.16_MD635_2_0095_submasks_1.png /home/yuncong/CSHL_data_processed/MD635/MD635_mask_unsorted/MD635-F32-2016.05.18-22.50.16_MD635_2_0095_mask.png\n",
      "cp /home/yuncong/CSHL_data_processed/MD635/MD635_submasks/MD635-F84-2016.05.19-15.18.11_MD635_2_0251/MD635-F84-2016.05.19-15.18.11_MD635_2_0251_submasks_1.png /home/yuncong/CSHL_data_processed/MD635/MD635_mask_unsorted/MD635-F84-2016.05.19-15.18.11_MD635_2_0251_mask.png\n",
      "cp /home/yuncong/CSHL_data_processed/MD635/MD635_submasks/MD635-F118-2016.05.20-01.05.52_MD635_3_0354/MD635-F118-2016.05.20-01.05.52_MD635_3_0354_submasks_1.png /home/yuncong/CSHL_data_processed/MD635/MD635_mask_unsorted/MD635-F118-2016.05.20-01.05.52_MD635_3_0354_mask.png\n"
     ]
    },
    {
     "name": "stderr",
     "output_type": "stream",
     "text": [
      "Child returned 0\n",
      "Child returned 0\n",
      "Child returned 0\n"
     ]
    },
    {
     "name": "stdout",
     "output_type": "stream",
     "text": [
      "cp /home/yuncong/CSHL_data_processed/MD635/MD635_submasks/MD635-F2-2016.05.18-16.35.43_MD635_1_0004/MD635-F2-2016.05.18-16.35.43_MD635_1_0004_submasks_1.png /home/yuncong/CSHL_data_processed/MD635/MD635_mask_unsorted/MD635-F2-2016.05.18-16.35.43_MD635_1_0004_mask.png\n",
      "cp /home/yuncong/CSHL_data_processed/MD635/MD635_submasks/MD635-F52-2016.05.23-15.23.47_MD635_1_0154/MD635-F52-2016.05.23-15.23.47_MD635_1_0154_submasks_1.png /home/yuncong/CSHL_data_processed/MD635/MD635_mask_unsorted/MD635-F52-2016.05.23-15.23.47_MD635_1_0154_mask.png\n",
      "cp /home/yuncong/CSHL_data_processed/MD635/MD635_submasks/MD635-F49-2016.05.19-03.59.43_MD635_2_0146/MD635-F49-2016.05.19-03.59.43_MD635_2_0146_submasks_1.png /home/yuncong/CSHL_data_processed/MD635/MD635_mask_unsorted/MD635-F49-2016.05.19-03.59.43_MD635_2_0146_mask.png\n"
     ]
    },
    {
     "name": "stderr",
     "output_type": "stream",
     "text": [
      "Child returned 0\n",
      "Child returned 0\n",
      "Child returned 0\n",
      "Child returned 0\n"
     ]
    },
    {
     "name": "stdout",
     "output_type": "stream",
     "text": [
      "cp /home/yuncong/CSHL_data_processed/MD635/MD635_submasks/MD635-F130-2016.05.20-03.44.32_MD635_3_0390/MD635-F130-2016.05.20-03.44.32_MD635_3_0390_submasks_1.png /home/yuncong/CSHL_data_processed/MD635/MD635_mask_unsorted/MD635-F130-2016.05.20-03.44.32_MD635_3_0390_mask.png\n",
      "cp /home/yuncong/CSHL_data_processed/MD635/MD635_submasks/MD635-F56-2016.05.19-06.13.54_MD635_1_0166/MD635-F56-2016.05.19-06.13.54_MD635_1_0166_submasks_1.png /home/yuncong/CSHL_data_processed/MD635/MD635_mask_unsorted/MD635-F56-2016.05.19-06.13.54_MD635_1_0166_mask.png\n",
      "cp /home/yuncong/CSHL_data_processed/MD635/MD635_submasks/MD635-F75-2016.05.19-12.32.46_MD635_1_0223/MD635-F75-2016.05.19-12.32.46_MD635_1_0223_submasks_1.png /home/yuncong/CSHL_data_processed/MD635/MD635_mask_unsorted/MD635-F75-2016.05.19-12.32.46_MD635_1_0223_mask.png\n",
      "cp /home/yuncong/CSHL_data_processed/MD635/MD635_submasks/MD635-F27-2016.05.18-21.31.38_MD635_1_0079/MD635-F27-2016.05.18-21.31.38_MD635_1_0079_submasks_1.png /home/yuncong/CSHL_data_processed/MD635/MD635_mask_unsorted/MD635-F27-2016.05.18-21.31.38_MD635_1_0079_mask.png\n"
     ]
    },
    {
     "name": "stderr",
     "output_type": "stream",
     "text": [
      "Child returned 0\n",
      "Child returned 0\n",
      "Child returned 0\n"
     ]
    },
    {
     "name": "stdout",
     "output_type": "stream",
     "text": [
      "cp /home/yuncong/CSHL_data_processed/MD635/MD635_submasks/MD635-F109-2016.05.19-22.46.43_MD635_2_0326/MD635-F109-2016.05.19-22.46.43_MD635_2_0326_submasks_1.png /home/yuncong/CSHL_data_processed/MD635/MD635_mask_unsorted/MD635-F109-2016.05.19-22.46.43_MD635_2_0326_mask.png\n",
      "cp /home/yuncong/CSHL_data_processed/MD635/MD635_submasks/MD635-F121-2016.05.20-01.55.48_MD635_2_0362/MD635-F121-2016.05.20-01.55.48_MD635_2_0362_submasks_1.png /home/yuncong/CSHL_data_processed/MD635/MD635_mask_unsorted/MD635-F121-2016.05.20-01.55.48_MD635_2_0362_mask.png\n",
      "cp /home/yuncong/CSHL_data_processed/MD635/MD635_submasks/MD635-F92-2016.05.19-17.52.45_MD635_2_0275/MD635-F92-2016.05.19-17.52.45_MD635_2_0275_submasks_1.png /home/yuncong/CSHL_data_processed/MD635/MD635_mask_unsorted/MD635-F92-2016.05.19-17.52.45_MD635_2_0275_mask.png\n"
     ]
    },
    {
     "name": "stderr",
     "output_type": "stream",
     "text": [
      "Child returned 0\n",
      "Child returned 0\n",
      "Child returned 0\n"
     ]
    },
    {
     "name": "stdout",
     "output_type": "stream",
     "text": [
      "cp /home/yuncong/CSHL_data_processed/MD635/MD635_submasks/MD635-F34-2016.05.18-23.23.55_MD635_2_0101/MD635-F34-2016.05.18-23.23.55_MD635_2_0101_submasks_1.png /home/yuncong/CSHL_data_processed/MD635/MD635_mask_unsorted/MD635-F34-2016.05.18-23.23.55_MD635_2_0101_mask.png\n",
      "cp /home/yuncong/CSHL_data_processed/MD635/MD635_submasks/MD635-F68-2016.05.19-10.18.40_MD635_2_0203/MD635-F68-2016.05.19-10.18.40_MD635_2_0203_submasks_1.png /home/yuncong/CSHL_data_processed/MD635/MD635_mask_unsorted/MD635-F68-2016.05.19-10.18.40_MD635_2_0203_mask.png\n",
      "cp /home/yuncong/CSHL_data_processed/MD635/MD635_submasks/MD635-F32-2016.05.18-22.50.16_MD635_1_0094/MD635-F32-2016.05.18-22.50.16_MD635_1_0094_submasks_1.png /home/yuncong/CSHL_data_processed/MD635/MD635_mask_unsorted/MD635-F32-2016.05.18-22.50.16_MD635_1_0094_mask.png\n"
     ]
    },
    {
     "name": "stderr",
     "output_type": "stream",
     "text": [
      "Child returned 0\n",
      "Child returned 0\n",
      "Child returned 0\n"
     ]
    },
    {
     "name": "stdout",
     "output_type": "stream",
     "text": [
      "cp /home/yuncong/CSHL_data_processed/MD635/MD635_submasks/MD635-F44-2016.05.19-02.24.57_MD635_3_0132/MD635-F44-2016.05.19-02.24.57_MD635_3_0132_submasks_1.png /home/yuncong/CSHL_data_processed/MD635/MD635_mask_unsorted/MD635-F44-2016.05.19-02.24.57_MD635_3_0132_mask.png\n",
      "cp /home/yuncong/CSHL_data_processed/MD635/MD635_submasks/MD635-F142-2016.05.20-06.40.47_MD635_3_0426/MD635-F142-2016.05.20-06.40.47_MD635_3_0426_submasks_1.png /home/yuncong/CSHL_data_processed/MD635/MD635_mask_unsorted/MD635-F142-2016.05.20-06.40.47_MD635_3_0426_mask.png\n",
      "cp /home/yuncong/CSHL_data_processed/MD635/MD635_submasks/MD635-F102-2016.05.19-20.58.51_MD635_2_0305/MD635-F102-2016.05.19-20.58.51_MD635_2_0305_submasks_1.png /home/yuncong/CSHL_data_processed/MD635/MD635_mask_unsorted/MD635-F102-2016.05.19-20.58.51_MD635_2_0305_mask.png\n"
     ]
    },
    {
     "name": "stderr",
     "output_type": "stream",
     "text": [
      "Child returned 0\n",
      "Child returned 0\n",
      "Child returned 0\n"
     ]
    },
    {
     "name": "stdout",
     "output_type": "stream",
     "text": [
      "cp /home/yuncong/CSHL_data_processed/MD635/MD635_submasks/MD635-F71-2016.05.19-11.17.07_MD635_1_0211/MD635-F71-2016.05.19-11.17.07_MD635_1_0211_submasks_1.png /home/yuncong/CSHL_data_processed/MD635/MD635_mask_unsorted/MD635-F71-2016.05.19-11.17.07_MD635_1_0211_mask.png\n",
      "cp /home/yuncong/CSHL_data_processed/MD635/MD635_submasks/MD635-F150-2016.05.20-08.25.21_MD635_2_0449/MD635-F150-2016.05.20-08.25.21_MD635_2_0449_submasks_1.png /home/yuncong/CSHL_data_processed/MD635/MD635_mask_unsorted/MD635-F150-2016.05.20-08.25.21_MD635_2_0449_mask.png\n",
      "cp /home/yuncong/CSHL_data_processed/MD635/MD635_submasks/MD635-F117-2016.05.20-00.49.06_MD635_3_0351/MD635-F117-2016.05.20-00.49.06_MD635_3_0351_submasks_1.png /home/yuncong/CSHL_data_processed/MD635/MD635_mask_unsorted/MD635-F117-2016.05.20-00.49.06_MD635_3_0351_mask.png\n"
     ]
    },
    {
     "name": "stderr",
     "output_type": "stream",
     "text": [
      "Child returned 0\n",
      "Child returned 0\n",
      "Child returned 0\n"
     ]
    },
    {
     "name": "stdout",
     "output_type": "stream",
     "text": [
      "cp /home/yuncong/CSHL_data_processed/MD635/MD635_submasks/MD635-F48-2016.05.19-03.40.12_MD635_3_0144/MD635-F48-2016.05.19-03.40.12_MD635_3_0144_submasks_1.png /home/yuncong/CSHL_data_processed/MD635/MD635_mask_unsorted/MD635-F48-2016.05.19-03.40.12_MD635_3_0144_mask.png\n",
      "cp /home/yuncong/CSHL_data_processed/MD635/MD635_submasks/MD635-F141-2016.05.20-06.27.21_MD635_2_0422/MD635-F141-2016.05.20-06.27.21_MD635_2_0422_submasks_1.png /home/yuncong/CSHL_data_processed/MD635/MD635_mask_unsorted/MD635-F141-2016.05.20-06.27.21_MD635_2_0422_mask.png\n",
      "cp /home/yuncong/CSHL_data_processed/MD635/MD635_submasks/MD635-F133-2016.05.20-04.28.44_MD635_3_0399/MD635-F133-2016.05.20-04.28.44_MD635_3_0399_submasks_1.png /home/yuncong/CSHL_data_processed/MD635/MD635_mask_unsorted/MD635-F133-2016.05.20-04.28.44_MD635_3_0399_mask.png\n"
     ]
    },
    {
     "name": "stderr",
     "output_type": "stream",
     "text": [
      "Child returned 0\n",
      "Child returned 0\n",
      "Child returned 0\n",
      "Child returned 0\n"
     ]
    },
    {
     "name": "stdout",
     "output_type": "stream",
     "text": [
      "cp /home/yuncong/CSHL_data_processed/MD635/MD635_submasks/MD635-F22-2016.05.18-20.18.12_MD635_3_0066/MD635-F22-2016.05.18-20.18.12_MD635_3_0066_submasks_1.png /home/yuncong/CSHL_data_processed/MD635/MD635_mask_unsorted/MD635-F22-2016.05.18-20.18.12_MD635_3_0066_mask.png\n",
      "cp /home/yuncong/CSHL_data_processed/MD635/MD635_submasks/MD635-F129-2016.05.20-03.29.55_MD635_2_0386/MD635-F129-2016.05.20-03.29.55_MD635_2_0386_submasks_1.png /home/yuncong/CSHL_data_processed/MD635/MD635_mask_unsorted/MD635-F129-2016.05.20-03.29.55_MD635_2_0386_mask.png\n",
      "cp /home/yuncong/CSHL_data_processed/MD635/MD635_submasks/MD635-F42-2016.05.19-01.47.04_MD635_1_0124/MD635-F42-2016.05.19-01.47.04_MD635_1_0124_submasks_1.png /home/yuncong/CSHL_data_processed/MD635/MD635_mask_unsorted/MD635-F42-2016.05.19-01.47.04_MD635_1_0124_mask.png\n",
      "cp /home/yuncong/CSHL_data_processed/MD635/MD635_submasks/MD635-F3-2016.05.18-16.44.09_MD635_2_0008/MD635-F3-2016.05.18-16.44.09_MD635_2_0008_submasks_1.png /home/yuncong/CSHL_data_processed/MD635/MD635_mask_unsorted/MD635-F3-2016.05.18-16.44.09_MD635_2_0008_mask.png\n"
     ]
    },
    {
     "name": "stderr",
     "output_type": "stream",
     "text": [
      "Child returned 0\n",
      "Child returned 0\n",
      "Child returned 0\n",
      "Child returned 0\n"
     ]
    },
    {
     "name": "stdout",
     "output_type": "stream",
     "text": [
      "cp /home/yuncong/CSHL_data_processed/MD635/MD635_submasks/MD635-F90-2016.05.19-17.14.09_MD635_2_0269/MD635-F90-2016.05.19-17.14.09_MD635_2_0269_submasks_1.png /home/yuncong/CSHL_data_processed/MD635/MD635_mask_unsorted/MD635-F90-2016.05.19-17.14.09_MD635_2_0269_mask.png\n",
      "cp /home/yuncong/CSHL_data_processed/MD635/MD635_submasks/MD635-F5-2016.05.18-17.01.34_MD635_2_0014/MD635-F5-2016.05.18-17.01.34_MD635_2_0014_submasks_1.png /home/yuncong/CSHL_data_processed/MD635/MD635_mask_unsorted/MD635-F5-2016.05.18-17.01.34_MD635_2_0014_mask.png\n",
      "cp /home/yuncong/CSHL_data_processed/MD635/MD635_submasks/MD635-F9-2016.05.18-17.35.56_MD635_3_0027/MD635-F9-2016.05.18-17.35.56_MD635_3_0027_submasks_1.png /home/yuncong/CSHL_data_processed/MD635/MD635_mask_unsorted/MD635-F9-2016.05.18-17.35.56_MD635_3_0027_mask.png\n",
      "cp /home/yuncong/CSHL_data_processed/MD635/MD635_submasks/MD635-F58-2016.05.19-06.52.57_MD635_2_0173/MD635-F58-2016.05.19-06.52.57_MD635_2_0173_submasks_1.png /home/yuncong/CSHL_data_processed/MD635/MD635_mask_unsorted/MD635-F58-2016.05.19-06.52.57_MD635_2_0173_mask.png\n"
     ]
    },
    {
     "name": "stderr",
     "output_type": "stream",
     "text": [
      "Child returned 0\n",
      "Child returned 0\n",
      "Child returned 0\n",
      "Child returned 0\n"
     ]
    },
    {
     "name": "stdout",
     "output_type": "stream",
     "text": [
      "cp /home/yuncong/CSHL_data_processed/MD635/MD635_submasks/MD635-F26-2016.05.18-21.16.59_MD635_3_0078/MD635-F26-2016.05.18-21.16.59_MD635_3_0078_submasks_1.png /home/yuncong/CSHL_data_processed/MD635/MD635_mask_unsorted/MD635-F26-2016.05.18-21.16.59_MD635_3_0078_mask.png\n",
      "cp /home/yuncong/CSHL_data_processed/MD635/MD635_submasks/MD635-F22-2016.05.18-20.18.12_MD635_1_0064/MD635-F22-2016.05.18-20.18.12_MD635_1_0064_submasks_1.png /home/yuncong/CSHL_data_processed/MD635/MD635_mask_unsorted/MD635-F22-2016.05.18-20.18.12_MD635_1_0064_mask.png\n",
      "cp /home/yuncong/CSHL_data_processed/MD635/MD635_submasks/MD635-F155-2016.05.20-09.19.32_MD635_2_0464/MD635-F155-2016.05.20-09.19.32_MD635_2_0464_submasks_1.png /home/yuncong/CSHL_data_processed/MD635/MD635_mask_unsorted/MD635-F155-2016.05.20-09.19.32_MD635_2_0464_mask.png\n",
      "cp /home/yuncong/CSHL_data_processed/MD635/MD635_submasks/MD635-F124-2016.05.20-02.13.16_MD635_3_0372/MD635-F124-2016.05.20-02.13.16_MD635_3_0372_submasks_1.png /home/yuncong/CSHL_data_processed/MD635/MD635_mask_unsorted/MD635-F124-2016.05.20-02.13.16_MD635_3_0372_mask.png\n"
     ]
    },
    {
     "name": "stderr",
     "output_type": "stream",
     "text": [
      "Child returned 0\n",
      "Child returned 0\n",
      "Child returned 0\n"
     ]
    },
    {
     "name": "stdout",
     "output_type": "stream",
     "text": [
      "cp /home/yuncong/CSHL_data_processed/MD635/MD635_submasks/MD635-F116-2016.05.20-00.31.07_MD635_2_0347/MD635-F116-2016.05.20-00.31.07_MD635_2_0347_submasks_1.png /home/yuncong/CSHL_data_processed/MD635/MD635_mask_unsorted/MD635-F116-2016.05.20-00.31.07_MD635_2_0347_mask.png\n",
      "cp /home/yuncong/CSHL_data_processed/MD635/MD635_submasks/MD635-F31-2016.05.18-22.31.18_MD635_2_0092/MD635-F31-2016.05.18-22.31.18_MD635_2_0092_submasks_1.png /home/yuncong/CSHL_data_processed/MD635/MD635_mask_unsorted/MD635-F31-2016.05.18-22.31.18_MD635_2_0092_mask.png\n",
      "cp /home/yuncong/CSHL_data_processed/MD635/MD635_submasks/MD635-F112-2016.05.19-23.28.08_MD635_2_0335/MD635-F112-2016.05.19-23.28.08_MD635_2_0335_submasks_1.png /home/yuncong/CSHL_data_processed/MD635/MD635_mask_unsorted/MD635-F112-2016.05.19-23.28.08_MD635_2_0335_mask.png\n"
     ]
    },
    {
     "name": "stderr",
     "output_type": "stream",
     "text": [
      "Child returned 0\n",
      "Child returned 0\n",
      "Child returned 0\n"
     ]
    },
    {
     "name": "stdout",
     "output_type": "stream",
     "text": [
      "cp /home/yuncong/CSHL_data_processed/MD635/MD635_submasks/MD635-F132-2016.05.20-04.14.48_MD635_3_0396/MD635-F132-2016.05.20-04.14.48_MD635_3_0396_submasks_1.png /home/yuncong/CSHL_data_processed/MD635/MD635_mask_unsorted/MD635-F132-2016.05.20-04.14.48_MD635_3_0396_mask.png\n",
      "cp /home/yuncong/CSHL_data_processed/MD635/MD635_submasks/MD635-F99-2016.05.19-20.06.21_MD635_2_0296/MD635-F99-2016.05.19-20.06.21_MD635_2_0296_submasks_1.png /home/yuncong/CSHL_data_processed/MD635/MD635_mask_unsorted/MD635-F99-2016.05.19-20.06.21_MD635_2_0296_mask.png\n",
      "cp /home/yuncong/CSHL_data_processed/MD635/MD635_submasks/MD635-F69-2016.05.19-10.38.34_MD635_2_0206/MD635-F69-2016.05.19-10.38.34_MD635_2_0206_submasks_1.png /home/yuncong/CSHL_data_processed/MD635/MD635_mask_unsorted/MD635-F69-2016.05.19-10.38.34_MD635_2_0206_mask.png\n"
     ]
    },
    {
     "name": "stderr",
     "output_type": "stream",
     "text": [
      "Child returned 0\n",
      "Child returned 0\n",
      "Child returned 0\n"
     ]
    },
    {
     "name": "stdout",
     "output_type": "stream",
     "text": [
      "cp /home/yuncong/CSHL_data_processed/MD635/MD635_submasks/MD635-F20-2016.05.18-19.52.29_MD635_3_0060/MD635-F20-2016.05.18-19.52.29_MD635_3_0060_submasks_1.png /home/yuncong/CSHL_data_processed/MD635/MD635_mask_unsorted/MD635-F20-2016.05.18-19.52.29_MD635_3_0060_mask.png\n",
      "cp /home/yuncong/CSHL_data_processed/MD635/MD635_submasks/MD635-F161-2016.05.20-09.59.58_MD635_3_0483/MD635-F161-2016.05.20-09.59.58_MD635_3_0483_submasks_1.png /home/yuncong/CSHL_data_processed/MD635/MD635_mask_unsorted/MD635-F161-2016.05.20-09.59.58_MD635_3_0483_mask.png\n",
      "cp /home/yuncong/CSHL_data_processed/MD635/MD635_submasks/MD635-F38-2016.05.19-00.34.28_MD635_2_0113/MD635-F38-2016.05.19-00.34.28_MD635_2_0113_submasks_1.png /home/yuncong/CSHL_data_processed/MD635/MD635_mask_unsorted/MD635-F38-2016.05.19-00.34.28_MD635_2_0113_mask.png\n"
     ]
    },
    {
     "name": "stderr",
     "output_type": "stream",
     "text": [
      "Child returned 0\n",
      "Child returned 0\n",
      "Child returned 0\n"
     ]
    },
    {
     "name": "stdout",
     "output_type": "stream",
     "text": [
      "cp /home/yuncong/CSHL_data_processed/MD635/MD635_submasks/MD635-F127-2016.05.20-02.59.46_MD635_3_0381/MD635-F127-2016.05.20-02.59.46_MD635_3_0381_submasks_1.png /home/yuncong/CSHL_data_processed/MD635/MD635_mask_unsorted/MD635-F127-2016.05.20-02.59.46_MD635_3_0381_mask.png\n",
      "cp /home/yuncong/CSHL_data_processed/MD635/MD635_submasks/MD635-F146-2016.05.20-07.35.26_MD635_1_0436/MD635-F146-2016.05.20-07.35.26_MD635_1_0436_submasks_1.png /home/yuncong/CSHL_data_processed/MD635/MD635_mask_unsorted/MD635-F146-2016.05.20-07.35.26_MD635_1_0436_mask.png\n",
      "cp /home/yuncong/CSHL_data_processed/MD635/MD635_submasks/MD635-F143-2016.05.20-06.54.44_MD635_1_0427/MD635-F143-2016.05.20-06.54.44_MD635_1_0427_submasks_1.png /home/yuncong/CSHL_data_processed/MD635/MD635_mask_unsorted/MD635-F143-2016.05.20-06.54.44_MD635_1_0427_mask.png\n"
     ]
    },
    {
     "name": "stderr",
     "output_type": "stream",
     "text": [
      "Child returned 0\n",
      "Child returned 0\n",
      "Child returned 0\n"
     ]
    },
    {
     "name": "stdout",
     "output_type": "stream",
     "text": [
      "cp /home/yuncong/CSHL_data_processed/MD635/MD635_submasks/MD635-F109-2016.05.19-22.46.43_MD635_1_0325/MD635-F109-2016.05.19-22.46.43_MD635_1_0325_submasks_1.png /home/yuncong/CSHL_data_processed/MD635/MD635_mask_unsorted/MD635-F109-2016.05.19-22.46.43_MD635_1_0325_mask.png\n",
      "cp /home/yuncong/CSHL_data_processed/MD635/MD635_submasks/MD635-F113-2016.05.19-23.40.05_MD635_2_0338/MD635-F113-2016.05.19-23.40.05_MD635_2_0338_submasks_1.png /home/yuncong/CSHL_data_processed/MD635/MD635_mask_unsorted/MD635-F113-2016.05.19-23.40.05_MD635_2_0338_mask.png\n",
      "cp /home/yuncong/CSHL_data_processed/MD635/MD635_submasks/MD635-F162-2016.05.20-10.09.24_MD635_3_0486/MD635-F162-2016.05.20-10.09.24_MD635_3_0486_submasks_1.png /home/yuncong/CSHL_data_processed/MD635/MD635_mask_unsorted/MD635-F162-2016.05.20-10.09.24_MD635_3_0486_mask.png\n",
      "cp /home/yuncong/CSHL_data_processed/MD635/MD635_submasks/MD635-F10-2016.05.18-17.44.17_MD635_2_0029/MD635-F10-2016.05.18-17.44.17_MD635_2_0029_submasks_1.png /home/yuncong/CSHL_data_processed/MD635/MD635_mask_unsorted/MD635-F10-2016.05.18-17.44.17_MD635_2_0029_mask.png\n"
     ]
    },
    {
     "name": "stderr",
     "output_type": "stream",
     "text": [
      "Child returned 0\n",
      "Child returned 0\n",
      "Child returned 0\n",
      "Child returned 0\n"
     ]
    },
    {
     "name": "stdout",
     "output_type": "stream",
     "text": [
      "cp /home/yuncong/CSHL_data_processed/MD635/MD635_submasks/MD635-F101-2016.05.19-20.44.28_MD635_1_0301/MD635-F101-2016.05.19-20.44.28_MD635_1_0301_submasks_1.png /home/yuncong/CSHL_data_processed/MD635/MD635_mask_unsorted/MD635-F101-2016.05.19-20.44.28_MD635_1_0301_mask.png\n",
      "cp /home/yuncong/CSHL_data_processed/MD635/MD635_submasks/MD635-F166-2016.05.20-10.41.13_MD635_2_0497/MD635-F166-2016.05.20-10.41.13_MD635_2_0497_submasks_1.png /home/yuncong/CSHL_data_processed/MD635/MD635_mask_unsorted/MD635-F166-2016.05.20-10.41.13_MD635_2_0497_mask.png\n",
      "cp /home/yuncong/CSHL_data_processed/MD635/MD635_submasks/MD635-F64-2016.05.19-09.00.59_MD635_1_0190/MD635-F64-2016.05.19-09.00.59_MD635_1_0190_submasks_1.png /home/yuncong/CSHL_data_processed/MD635/MD635_mask_unsorted/MD635-F64-2016.05.19-09.00.59_MD635_1_0190_mask.png\n",
      "cp /home/yuncong/CSHL_data_processed/MD635/MD635_submasks/MD635-F138-2016.05.20-05.45.33_MD635_3_0414/MD635-F138-2016.05.20-05.45.33_MD635_3_0414_submasks_1.png /home/yuncong/CSHL_data_processed/MD635/MD635_mask_unsorted/MD635-F138-2016.05.20-05.45.33_MD635_3_0414_mask.png\n"
     ]
    },
    {
     "name": "stderr",
     "output_type": "stream",
     "text": [
      "Child returned 0\n",
      "Child returned 0\n",
      "Child returned 0\n"
     ]
    },
    {
     "name": "stdout",
     "output_type": "stream",
     "text": [
      "cp /home/yuncong/CSHL_data_processed/MD635/MD635_submasks/MD635-F13-2016.05.18-18.22.59_MD635_1_0037/MD635-F13-2016.05.18-18.22.59_MD635_1_0037_submasks_1.png /home/yuncong/CSHL_data_processed/MD635/MD635_mask_unsorted/MD635-F13-2016.05.18-18.22.59_MD635_1_0037_mask.png\n",
      "cp /home/yuncong/CSHL_data_processed/MD635/MD635_submasks/MD635-F2-2016.05.18-16.35.43_MD635_3_0006/MD635-F2-2016.05.18-16.35.43_MD635_3_0006_submasks_1.png /home/yuncong/CSHL_data_processed/MD635/MD635_mask_unsorted/MD635-F2-2016.05.18-16.35.43_MD635_3_0006_mask.png\n",
      "cp /home/yuncong/CSHL_data_processed/MD635/MD635_submasks/MD635-F64-2016.05.19-09.00.59_MD635_2_0191/MD635-F64-2016.05.19-09.00.59_MD635_2_0191_submasks_1.png /home/yuncong/CSHL_data_processed/MD635/MD635_mask_unsorted/MD635-F64-2016.05.19-09.00.59_MD635_2_0191_mask.png\n"
     ]
    },
    {
     "name": "stderr",
     "output_type": "stream",
     "text": [
      "Child returned 0\n",
      "Child returned 0\n",
      "Child returned 0\n"
     ]
    },
    {
     "name": "stdout",
     "output_type": "stream",
     "text": [
      "cp /home/yuncong/CSHL_data_processed/MD635/MD635_submasks/MD635-F26-2016.05.18-21.16.59_MD635_2_0077/MD635-F26-2016.05.18-21.16.59_MD635_2_0077_submasks_1.png /home/yuncong/CSHL_data_processed/MD635/MD635_mask_unsorted/MD635-F26-2016.05.18-21.16.59_MD635_2_0077_mask.png\n",
      "cp /home/yuncong/CSHL_data_processed/MD635/MD635_submasks/MD635-F151-2016.05.20-08.36.34_MD635_1_0451/MD635-F151-2016.05.20-08.36.34_MD635_1_0451_submasks_1.png /home/yuncong/CSHL_data_processed/MD635/MD635_mask_unsorted/MD635-F151-2016.05.20-08.36.34_MD635_1_0451_mask.png\n",
      "cp /home/yuncong/CSHL_data_processed/MD635/MD635_submasks/MD635-F37-2016.05.23-14.05.18_MD635_1_0109/MD635-F37-2016.05.23-14.05.18_MD635_1_0109_submasks_1.png /home/yuncong/CSHL_data_processed/MD635/MD635_mask_unsorted/MD635-F37-2016.05.23-14.05.18_MD635_1_0109_mask.png\n"
     ]
    },
    {
     "name": "stderr",
     "output_type": "stream",
     "text": [
      "Child returned 0\n",
      "Child returned 0\n",
      "Child returned 0\n"
     ]
    },
    {
     "name": "stdout",
     "output_type": "stream",
     "text": [
      "cp /home/yuncong/CSHL_data_processed/MD635/MD635_submasks/MD635-F5-2016.05.18-17.01.34_MD635_3_0015/MD635-F5-2016.05.18-17.01.34_MD635_3_0015_submasks_1.png /home/yuncong/CSHL_data_processed/MD635/MD635_mask_unsorted/MD635-F5-2016.05.18-17.01.34_MD635_3_0015_mask.png\n",
      "cp /home/yuncong/CSHL_data_processed/MD635/MD635_submasks/MD635-F114-2016.05.19-23.57.07_MD635_1_0340/MD635-F114-2016.05.19-23.57.07_MD635_1_0340_submasks_1.png /home/yuncong/CSHL_data_processed/MD635/MD635_mask_unsorted/MD635-F114-2016.05.19-23.57.07_MD635_1_0340_mask.png\n",
      "cp /home/yuncong/CSHL_data_processed/MD635/MD635_submasks/MD635-F158-2016.05.20-09.29.45_MD635_1_0472/MD635-F158-2016.05.20-09.29.45_MD635_1_0472_submasks_1.png /home/yuncong/CSHL_data_processed/MD635/MD635_mask_unsorted/MD635-F158-2016.05.20-09.29.45_MD635_1_0472_mask.png\n"
     ]
    },
    {
     "name": "stderr",
     "output_type": "stream",
     "text": [
      "Child returned 0\n",
      "Child returned 0\n",
      "Child returned 0\n"
     ]
    },
    {
     "name": "stdout",
     "output_type": "stream",
     "text": [
      "cp /home/yuncong/CSHL_data_processed/MD635/MD635_submasks/MD635-F45-2016.05.19-02.43.09_MD635_1_0133/MD635-F45-2016.05.19-02.43.09_MD635_1_0133_submasks_1.png /home/yuncong/CSHL_data_processed/MD635/MD635_mask_unsorted/MD635-F45-2016.05.19-02.43.09_MD635_1_0133_mask.png\n",
      "cp /home/yuncong/CSHL_data_processed/MD635/MD635_submasks/MD635-F119-2016.05.20-01.22.34_MD635_2_0356/MD635-F119-2016.05.20-01.22.34_MD635_2_0356_submasks_1.png /home/yuncong/CSHL_data_processed/MD635/MD635_mask_unsorted/MD635-F119-2016.05.20-01.22.34_MD635_2_0356_mask.png\n",
      "cp /home/yuncong/CSHL_data_processed/MD635/MD635_submasks/MD635-F46-2016.05.19-03.02.11_MD635_3_0138/MD635-F46-2016.05.19-03.02.11_MD635_3_0138_submasks_1.png /home/yuncong/CSHL_data_processed/MD635/MD635_mask_unsorted/MD635-F46-2016.05.19-03.02.11_MD635_3_0138_mask.png\n"
     ]
    },
    {
     "name": "stderr",
     "output_type": "stream",
     "text": [
      "Child returned 0\n",
      "Child returned 0\n",
      "Child returned 0\n"
     ]
    },
    {
     "name": "stdout",
     "output_type": "stream",
     "text": [
      "cp /home/yuncong/CSHL_data_processed/MD635/MD635_submasks/MD635-F164-2016.05.20-10.25.54_MD635_1_0490/MD635-F164-2016.05.20-10.25.54_MD635_1_0490_submasks_1.png /home/yuncong/CSHL_data_processed/MD635/MD635_mask_unsorted/MD635-F164-2016.05.20-10.25.54_MD635_1_0490_mask.png\n",
      "cp /home/yuncong/CSHL_data_processed/MD635/MD635_submasks/MD635-F7-2016.05.18-17.18.49_MD635_1_0019/MD635-F7-2016.05.18-17.18.49_MD635_1_0019_submasks_1.png /home/yuncong/CSHL_data_processed/MD635/MD635_mask_unsorted/MD635-F7-2016.05.18-17.18.49_MD635_1_0019_mask.png\n",
      "cp /home/yuncong/CSHL_data_processed/MD635/MD635_submasks/MD635-F94-2016.05.19-18.31.07_MD635_2_0281/MD635-F94-2016.05.19-18.31.07_MD635_2_0281_submasks_1.png /home/yuncong/CSHL_data_processed/MD635/MD635_mask_unsorted/MD635-F94-2016.05.19-18.31.07_MD635_2_0281_mask.png\n"
     ]
    },
    {
     "name": "stderr",
     "output_type": "stream",
     "text": [
      "Child returned 0\n",
      "Child returned 0\n",
      "Child returned 0\n"
     ]
    },
    {
     "name": "stdout",
     "output_type": "stream",
     "text": [
      "cp /home/yuncong/CSHL_data_processed/MD635/MD635_submasks/MD635-F61-2016.05.19-07.56.43_MD635_1_0181/MD635-F61-2016.05.19-07.56.43_MD635_1_0181_submasks_1.png /home/yuncong/CSHL_data_processed/MD635/MD635_mask_unsorted/MD635-F61-2016.05.19-07.56.43_MD635_1_0181_mask.png\n",
      "cp /home/yuncong/CSHL_data_processed/MD635/MD635_submasks/MD635-F74-2016.05.19-12.15.18_MD635_1_0220/MD635-F74-2016.05.19-12.15.18_MD635_1_0220_submasks_1.png /home/yuncong/CSHL_data_processed/MD635/MD635_mask_unsorted/MD635-F74-2016.05.19-12.15.18_MD635_1_0220_mask.png\n",
      "cp /home/yuncong/CSHL_data_processed/MD635/MD635_submasks/MD635-F158-2016.05.20-09.29.45_MD635_3_0474/MD635-F158-2016.05.20-09.29.45_MD635_3_0474_submasks_1.png /home/yuncong/CSHL_data_processed/MD635/MD635_mask_unsorted/MD635-F158-2016.05.20-09.29.45_MD635_3_0474_mask.png\n",
      "cp /home/yuncong/CSHL_data_processed/MD635/MD635_submasks/MD635-F65-2016.05.19-09.20.00_MD635_1_0193/MD635-F65-2016.05.19-09.20.00_MD635_1_0193_submasks_1.png /home/yuncong/CSHL_data_processed/MD635/MD635_mask_unsorted/MD635-F65-2016.05.19-09.20.00_MD635_1_0193_mask.png\n"
     ]
    },
    {
     "name": "stderr",
     "output_type": "stream",
     "text": [
      "Child returned 0\n",
      "Child returned 0\n",
      "Child returned 0\n"
     ]
    },
    {
     "name": "stdout",
     "output_type": "stream",
     "text": [
      "cp /home/yuncong/CSHL_data_processed/MD635/MD635_submasks/MD635-F37-2016.05.23-14.05.18_MD635_2_0110/MD635-F37-2016.05.23-14.05.18_MD635_2_0110_submasks_1.png /home/yuncong/CSHL_data_processed/MD635/MD635_mask_unsorted/MD635-F37-2016.05.23-14.05.18_MD635_2_0110_mask.png\n",
      "cp /home/yuncong/CSHL_data_processed/MD635/MD635_submasks/MD635-F85-2016.05.19-15.36.47_MD635_1_0253/MD635-F85-2016.05.19-15.36.47_MD635_1_0253_submasks_1.png /home/yuncong/CSHL_data_processed/MD635/MD635_mask_unsorted/MD635-F85-2016.05.19-15.36.47_MD635_1_0253_mask.png\n",
      "cp /home/yuncong/CSHL_data_processed/MD635/MD635_submasks/MD635-F143-2016.05.20-06.54.44_MD635_2_0428/MD635-F143-2016.05.20-06.54.44_MD635_2_0428_submasks_1.png /home/yuncong/CSHL_data_processed/MD635/MD635_mask_unsorted/MD635-F143-2016.05.20-06.54.44_MD635_2_0428_mask.png\n",
      "cp /home/yuncong/CSHL_data_processed/MD635/MD635_submasks/MD635-F25-2016.05.18-21.02.30_MD635_3_0075/MD635-F25-2016.05.18-21.02.30_MD635_3_0075_submasks_1.png /home/yuncong/CSHL_data_processed/MD635/MD635_mask_unsorted/MD635-F25-2016.05.18-21.02.30_MD635_3_0075_mask.png\n"
     ]
    },
    {
     "name": "stderr",
     "output_type": "stream",
     "text": [
      "Child returned 0\n",
      "Child returned 0\n",
      "Child returned 0\n",
      "Child returned 0\n",
      "Child returned 0\n",
      "Child returned 0\n"
     ]
    },
    {
     "name": "stdout",
     "output_type": "stream",
     "text": [
      "cp /home/yuncong/CSHL_data_processed/MD635/MD635_submasks/MD635-F165-2016.05.20-10.33.56_MD635_3_0495/MD635-F165-2016.05.20-10.33.56_MD635_3_0495_submasks_1.png /home/yuncong/CSHL_data_processed/MD635/MD635_mask_unsorted/MD635-F165-2016.05.20-10.33.56_MD635_3_0495_mask.png\n",
      "cp /home/yuncong/CSHL_data_processed/MD635/MD635_submasks/MD635-F160-2016.05.20-09.52.10_MD635_1_0478/MD635-F160-2016.05.20-09.52.10_MD635_1_0478_submasks_1.png /home/yuncong/CSHL_data_processed/MD635/MD635_mask_unsorted/MD635-F160-2016.05.20-09.52.10_MD635_1_0478_mask.png\n",
      "cp /home/yuncong/CSHL_data_processed/MD635/MD635_submasks/MD635-F95-2016.05.19-18.49.58_MD635_2_0284/MD635-F95-2016.05.19-18.49.58_MD635_2_0284_submasks_1.png /home/yuncong/CSHL_data_processed/MD635/MD635_mask_unsorted/MD635-F95-2016.05.19-18.49.58_MD635_2_0284_mask.png\n"
     ]
    },
    {
     "name": "stderr",
     "output_type": "stream",
     "text": [
      "Child returned 0\n",
      "Child returned 0\n",
      "Child returned 0\n",
      "Child returned 0\n"
     ]
    },
    {
     "name": "stdout",
     "output_type": "stream",
     "text": [
      "cp /home/yuncong/CSHL_data_processed/MD635/MD635_submasks/MD635-F152-2016.05.20-08.47.02_MD635_3_0456/MD635-F152-2016.05.20-08.47.02_MD635_3_0456_submasks_1.png /home/yuncong/CSHL_data_processed/MD635/MD635_mask_unsorted/MD635-F152-2016.05.20-08.47.02_MD635_3_0456_mask.png\n",
      "cp /home/yuncong/CSHL_data_processed/MD635/MD635_submasks/MD635-F36-2016.05.18-23.59.35_MD635_2_0107/MD635-F36-2016.05.18-23.59.35_MD635_2_0107_submasks_1.png /home/yuncong/CSHL_data_processed/MD635/MD635_mask_unsorted/MD635-F36-2016.05.18-23.59.35_MD635_2_0107_mask.png\n",
      "cp /home/yuncong/CSHL_data_processed/MD635/MD635_submasks/MD635-F87-2016.05.19-16.15.25_MD635_2_0260/MD635-F87-2016.05.19-16.15.25_MD635_2_0260_submasks_1.png /home/yuncong/CSHL_data_processed/MD635/MD635_mask_unsorted/MD635-F87-2016.05.19-16.15.25_MD635_2_0260_mask.png\n",
      "cp /home/yuncong/CSHL_data_processed/MD635/MD635_submasks/MD635-F142-2016.05.20-06.40.47_MD635_2_0425/MD635-F142-2016.05.20-06.40.47_MD635_2_0425_submasks_1.png /home/yuncong/CSHL_data_processed/MD635/MD635_mask_unsorted/MD635-F142-2016.05.20-06.40.47_MD635_2_0425_mask.png\n"
     ]
    },
    {
     "name": "stderr",
     "output_type": "stream",
     "text": [
      "Child returned 0\n",
      "Child returned 0\n",
      "Child returned 0\n"
     ]
    },
    {
     "name": "stdout",
     "output_type": "stream",
     "text": [
      "cp /home/yuncong/CSHL_data_processed/MD635/MD635_submasks/MD635-F36-2016.05.18-23.59.35_MD635_1_0106/MD635-F36-2016.05.18-23.59.35_MD635_1_0106_submasks_1.png /home/yuncong/CSHL_data_processed/MD635/MD635_mask_unsorted/MD635-F36-2016.05.18-23.59.35_MD635_1_0106_mask.png\n",
      "cp /home/yuncong/CSHL_data_processed/MD635/MD635_submasks/MD635-F18-2016.05.18-19.27.06_MD635_1_0052/MD635-F18-2016.05.18-19.27.06_MD635_1_0052_submasks_1.png /home/yuncong/CSHL_data_processed/MD635/MD635_mask_unsorted/MD635-F18-2016.05.18-19.27.06_MD635_1_0052_mask.png\n",
      "cp /home/yuncong/CSHL_data_processed/MD635/MD635_submasks/MD635-F154-2016.05.20-09.08.27_MD635_2_0461/MD635-F154-2016.05.20-09.08.27_MD635_2_0461_submasks_1.png /home/yuncong/CSHL_data_processed/MD635/MD635_mask_unsorted/MD635-F154-2016.05.20-09.08.27_MD635_2_0461_mask.png\n"
     ]
    },
    {
     "name": "stderr",
     "output_type": "stream",
     "text": [
      "Child returned 0\n",
      "Child returned 0\n",
      "Child returned 0\n"
     ]
    },
    {
     "name": "stdout",
     "output_type": "stream",
     "text": [
      "cp /home/yuncong/CSHL_data_processed/MD635/MD635_submasks/MD635-F1-2016.05.18-16.23.55_MD635_3_0003/MD635-F1-2016.05.18-16.23.55_MD635_3_0003_submasks_1.png /home/yuncong/CSHL_data_processed/MD635/MD635_mask_unsorted/MD635-F1-2016.05.18-16.23.55_MD635_3_0003_mask.png\n",
      "cp /home/yuncong/CSHL_data_processed/MD635/MD635_submasks/MD635-F21-2016.05.18-20.05.17_MD635_3_0063/MD635-F21-2016.05.18-20.05.17_MD635_3_0063_submasks_1.png /home/yuncong/CSHL_data_processed/MD635/MD635_mask_unsorted/MD635-F21-2016.05.18-20.05.17_MD635_3_0063_mask.png\n",
      "cp /home/yuncong/CSHL_data_processed/MD635/MD635_submasks/MD635-F36-2016.05.18-23.59.35_MD635_3_0108/MD635-F36-2016.05.18-23.59.35_MD635_3_0108_submasks_1.png /home/yuncong/CSHL_data_processed/MD635/MD635_mask_unsorted/MD635-F36-2016.05.18-23.59.35_MD635_3_0108_mask.png\n"
     ]
    },
    {
     "name": "stderr",
     "output_type": "stream",
     "text": [
      "Child returned 0\n",
      "Child returned 0\n",
      "Child returned 0\n"
     ]
    },
    {
     "name": "stdout",
     "output_type": "stream",
     "text": [
      "cp /home/yuncong/CSHL_data_processed/MD635/MD635_submasks/MD635-F73-2016.05.19-11.56.44_MD635_1_0217/MD635-F73-2016.05.19-11.56.44_MD635_1_0217_submasks_1.png /home/yuncong/CSHL_data_processed/MD635/MD635_mask_unsorted/MD635-F73-2016.05.19-11.56.44_MD635_1_0217_mask.png\n",
      "cp /home/yuncong/CSHL_data_processed/MD635/MD635_submasks/MD635-F146-2016.05.20-07.35.26_MD635_2_0437/MD635-F146-2016.05.20-07.35.26_MD635_2_0437_submasks_1.png /home/yuncong/CSHL_data_processed/MD635/MD635_mask_unsorted/MD635-F146-2016.05.20-07.35.26_MD635_2_0437_mask.png\n",
      "cp /home/yuncong/CSHL_data_processed/MD635/MD635_submasks/MD635-F24-2016.05.18-20.47.57_MD635_3_0072/MD635-F24-2016.05.18-20.47.57_MD635_3_0072_submasks_1.png /home/yuncong/CSHL_data_processed/MD635/MD635_mask_unsorted/MD635-F24-2016.05.18-20.47.57_MD635_3_0072_mask.png\n"
     ]
    },
    {
     "name": "stderr",
     "output_type": "stream",
     "text": [
      "Child returned 0\n",
      "Child returned 0\n",
      "Child returned 0\n"
     ]
    },
    {
     "name": "stdout",
     "output_type": "stream",
     "text": [
      "cp /home/yuncong/CSHL_data_processed/MD635/MD635_submasks/MD635-F150-2016.05.20-08.25.21_MD635_1_0448/MD635-F150-2016.05.20-08.25.21_MD635_1_0448_submasks_1.png /home/yuncong/CSHL_data_processed/MD635/MD635_mask_unsorted/MD635-F150-2016.05.20-08.25.21_MD635_1_0448_mask.png\n",
      "cp /home/yuncong/CSHL_data_processed/MD635/MD635_submasks/MD635-F138-2016.05.20-05.45.33_MD635_2_0413/MD635-F138-2016.05.20-05.45.33_MD635_2_0413_submasks_1.png /home/yuncong/CSHL_data_processed/MD635/MD635_mask_unsorted/MD635-F138-2016.05.20-05.45.33_MD635_2_0413_mask.png\n",
      "cp /home/yuncong/CSHL_data_processed/MD635/MD635_submasks/MD635-F156-2016.05.20-13.20.34_MD635_1_0466/MD635-F156-2016.05.20-13.20.34_MD635_1_0466_submasks_1.png /home/yuncong/CSHL_data_processed/MD635/MD635_mask_unsorted/MD635-F156-2016.05.20-13.20.34_MD635_1_0466_mask.png\n"
     ]
    },
    {
     "name": "stderr",
     "output_type": "stream",
     "text": [
      "Child returned 0\n",
      "Child returned 0\n",
      "Child returned 0\n"
     ]
    },
    {
     "name": "stdout",
     "output_type": "stream",
     "text": [
      "cp /home/yuncong/CSHL_data_processed/MD635/MD635_submasks/MD635-F110-2016.05.19-23.00.00_MD635_1_0328/MD635-F110-2016.05.19-23.00.00_MD635_1_0328_submasks_1.png /home/yuncong/CSHL_data_processed/MD635/MD635_mask_unsorted/MD635-F110-2016.05.19-23.00.00_MD635_1_0328_mask.png\n",
      "cp /home/yuncong/CSHL_data_processed/MD635/MD635_submasks/MD635-F41-2016.05.19-01.28.39_MD635_1_0121/MD635-F41-2016.05.19-01.28.39_MD635_1_0121_submasks_1.png /home/yuncong/CSHL_data_processed/MD635/MD635_mask_unsorted/MD635-F41-2016.05.19-01.28.39_MD635_1_0121_mask.png\n",
      "cp /home/yuncong/CSHL_data_processed/MD635/MD635_submasks/MD635-F48-2016.05.19-03.40.12_MD635_1_0142/MD635-F48-2016.05.19-03.40.12_MD635_1_0142_submasks_1.png /home/yuncong/CSHL_data_processed/MD635/MD635_mask_unsorted/MD635-F48-2016.05.19-03.40.12_MD635_1_0142_mask.png\n"
     ]
    },
    {
     "name": "stderr",
     "output_type": "stream",
     "text": [
      "Child returned 0\n",
      "Child returned 0\n",
      "Child returned 0\n"
     ]
    },
    {
     "name": "stdout",
     "output_type": "stream",
     "text": [
      "cp /home/yuncong/CSHL_data_processed/MD635/MD635_submasks/MD635-F28-2016.05.18-21.46.26_MD635_2_0083/MD635-F28-2016.05.18-21.46.26_MD635_2_0083_submasks_1.png /home/yuncong/CSHL_data_processed/MD635/MD635_mask_unsorted/MD635-F28-2016.05.18-21.46.26_MD635_2_0083_mask.png\n",
      "cp /home/yuncong/CSHL_data_processed/MD635/MD635_submasks/MD635-F140-2016.05.20-06.14.16_MD635_3_0420/MD635-F140-2016.05.20-06.14.16_MD635_3_0420_submasks_1.png /home/yuncong/CSHL_data_processed/MD635/MD635_mask_unsorted/MD635-F140-2016.05.20-06.14.16_MD635_3_0420_mask.png\n",
      "cp /home/yuncong/CSHL_data_processed/MD635/MD635_submasks/MD635-F27-2016.05.18-21.31.38_MD635_2_0080/MD635-F27-2016.05.18-21.31.38_MD635_2_0080_submasks_1.png /home/yuncong/CSHL_data_processed/MD635/MD635_mask_unsorted/MD635-F27-2016.05.18-21.31.38_MD635_2_0080_mask.png\n"
     ]
    },
    {
     "name": "stderr",
     "output_type": "stream",
     "text": [
      "Child returned 0\n",
      "Child returned 0\n",
      "Child returned 0\n"
     ]
    },
    {
     "name": "stdout",
     "output_type": "stream",
     "text": [
      "cp /home/yuncong/CSHL_data_processed/MD635/MD635_submasks/MD635-F114-2016.05.19-23.57.07_MD635_2_0341/MD635-F114-2016.05.19-23.57.07_MD635_2_0341_submasks_1.png /home/yuncong/CSHL_data_processed/MD635/MD635_mask_unsorted/MD635-F114-2016.05.19-23.57.07_MD635_2_0341_mask.png\n",
      "cp /home/yuncong/CSHL_data_processed/MD635/MD635_submasks/MD635-F166-2016.05.20-10.41.13_MD635_3_0498/MD635-F166-2016.05.20-10.41.13_MD635_3_0498_submasks_1.png /home/yuncong/CSHL_data_processed/MD635/MD635_mask_unsorted/MD635-F166-2016.05.20-10.41.13_MD635_3_0498_mask.png\n",
      "cp /home/yuncong/CSHL_data_processed/MD635/MD635_submasks/MD635-F107-2016.05.19-22.17.03_MD635_1_0319/MD635-F107-2016.05.19-22.17.03_MD635_1_0319_submasks_1.png /home/yuncong/CSHL_data_processed/MD635/MD635_mask_unsorted/MD635-F107-2016.05.19-22.17.03_MD635_1_0319_mask.png\n"
     ]
    },
    {
     "name": "stderr",
     "output_type": "stream",
     "text": [
      "Child returned 0\n",
      "Child returned 0\n",
      "Child returned 0\n"
     ]
    },
    {
     "name": "stdout",
     "output_type": "stream",
     "text": [
      "cp /home/yuncong/CSHL_data_processed/MD635/MD635_submasks/MD635-F122-2016.05.20-12.43.46_MD635_3_0366/MD635-F122-2016.05.20-12.43.46_MD635_3_0366_submasks_1.png /home/yuncong/CSHL_data_processed/MD635/MD635_mask_unsorted/MD635-F122-2016.05.20-12.43.46_MD635_3_0366_mask.png\n",
      "cp /home/yuncong/CSHL_data_processed/MD635/MD635_submasks/MD635-F44-2016.05.19-02.24.57_MD635_2_0131/MD635-F44-2016.05.19-02.24.57_MD635_2_0131_submasks_1.png /home/yuncong/CSHL_data_processed/MD635/MD635_mask_unsorted/MD635-F44-2016.05.19-02.24.57_MD635_2_0131_mask.png\n",
      "cp /home/yuncong/CSHL_data_processed/MD635/MD635_submasks/MD635-F50-2016.05.23-14.45.07_MD635_1_0148/MD635-F50-2016.05.23-14.45.07_MD635_1_0148_submasks_1.png /home/yuncong/CSHL_data_processed/MD635/MD635_mask_unsorted/MD635-F50-2016.05.23-14.45.07_MD635_1_0148_mask.png\n"
     ]
    },
    {
     "name": "stderr",
     "output_type": "stream",
     "text": [
      "Child returned 0\n",
      "Child returned 0\n",
      "Child returned 0\n"
     ]
    },
    {
     "name": "stdout",
     "output_type": "stream",
     "text": [
      "cp /home/yuncong/CSHL_data_processed/MD635/MD635_submasks/MD635-F33-2016.05.18-23.06.34_MD635_2_0098/MD635-F33-2016.05.18-23.06.34_MD635_2_0098_submasks_1.png /home/yuncong/CSHL_data_processed/MD635/MD635_mask_unsorted/MD635-F33-2016.05.18-23.06.34_MD635_2_0098_mask.png\n",
      "cp /home/yuncong/CSHL_data_processed/MD635/MD635_submasks/MD635-F120-2016.05.20-01.39.14_MD635_3_0360/MD635-F120-2016.05.20-01.39.14_MD635_3_0360_submasks_1.png /home/yuncong/CSHL_data_processed/MD635/MD635_mask_unsorted/MD635-F120-2016.05.20-01.39.14_MD635_3_0360_mask.png\n",
      "cp /home/yuncong/CSHL_data_processed/MD635/MD635_submasks/MD635-F136-2016.05.20-05.12.43_MD635_2_0407/MD635-F136-2016.05.20-05.12.43_MD635_2_0407_submasks_1.png /home/yuncong/CSHL_data_processed/MD635/MD635_mask_unsorted/MD635-F136-2016.05.20-05.12.43_MD635_2_0407_mask.png\n"
     ]
    },
    {
     "name": "stderr",
     "output_type": "stream",
     "text": [
      "Child returned 0\n",
      "Child returned 0\n",
      "Child returned 0\n",
      "Child returned 0\n"
     ]
    },
    {
     "name": "stdout",
     "output_type": "stream",
     "text": [
      "cp /home/yuncong/CSHL_data_processed/MD635/MD635_submasks/MD635-F167-2016.05.20-10.48.47_MD635_1_0499/MD635-F167-2016.05.20-10.48.47_MD635_1_0499_submasks_1.png /home/yuncong/CSHL_data_processed/MD635/MD635_mask_unsorted/MD635-F167-2016.05.20-10.48.47_MD635_1_0499_mask.png\n",
      "cp /home/yuncong/CSHL_data_processed/MD635/MD635_submasks/MD635-F125-2016.05.20-02.28.59_MD635_1_0373/MD635-F125-2016.05.20-02.28.59_MD635_1_0373_submasks_1.png /home/yuncong/CSHL_data_processed/MD635/MD635_mask_unsorted/MD635-F125-2016.05.20-02.28.59_MD635_1_0373_mask.png\n",
      "cp /home/yuncong/CSHL_data_processed/MD635/MD635_submasks/MD635-F123-2016.05.20-13.02.20_MD635_1_0367/MD635-F123-2016.05.20-13.02.20_MD635_1_0367_submasks_1.png /home/yuncong/CSHL_data_processed/MD635/MD635_mask_unsorted/MD635-F123-2016.05.20-13.02.20_MD635_1_0367_mask.png\n",
      "cp /home/yuncong/CSHL_data_processed/MD635/MD635_submasks/MD635-F52-2016.05.23-15.23.47_MD635_3_0156/MD635-F52-2016.05.23-15.23.47_MD635_3_0156_submasks_1.png /home/yuncong/CSHL_data_processed/MD635/MD635_mask_unsorted/MD635-F52-2016.05.23-15.23.47_MD635_3_0156_mask.png\n"
     ]
    },
    {
     "name": "stderr",
     "output_type": "stream",
     "text": [
      "Child returned 0\n",
      "Child returned 0\n",
      "Child returned 0\n"
     ]
    },
    {
     "name": "stdout",
     "output_type": "stream",
     "text": [
      "cp /home/yuncong/CSHL_data_processed/MD635/MD635_submasks/MD635-F14-2016.05.18-18.35.51_MD635_1_0040/MD635-F14-2016.05.18-18.35.51_MD635_1_0040_submasks_1.png /home/yuncong/CSHL_data_processed/MD635/MD635_mask_unsorted/MD635-F14-2016.05.18-18.35.51_MD635_1_0040_mask.png\n",
      "cp /home/yuncong/CSHL_data_processed/MD635/MD635_submasks/MD635-F149-2016.05.20-08.14.13_MD635_3_0447/MD635-F149-2016.05.20-08.14.13_MD635_3_0447_submasks_1.png /home/yuncong/CSHL_data_processed/MD635/MD635_mask_unsorted/MD635-F149-2016.05.20-08.14.13_MD635_3_0447_mask.png\n",
      "cp /home/yuncong/CSHL_data_processed/MD635/MD635_submasks/MD635-F159-2016.05.20-09.46.00_MD635_2_0476/MD635-F159-2016.05.20-09.46.00_MD635_2_0476_submasks_1.png /home/yuncong/CSHL_data_processed/MD635/MD635_mask_unsorted/MD635-F159-2016.05.20-09.46.00_MD635_2_0476_mask.png\n"
     ]
    },
    {
     "name": "stderr",
     "output_type": "stream",
     "text": [
      "Child returned 0\n",
      "Child returned 0\n",
      "Child returned 0\n"
     ]
    },
    {
     "name": "stdout",
     "output_type": "stream",
     "text": [
      "cp /home/yuncong/CSHL_data_processed/MD635/MD635_submasks/MD635-F22-2016.05.18-20.18.12_MD635_2_0065/MD635-F22-2016.05.18-20.18.12_MD635_2_0065_submasks_1.png /home/yuncong/CSHL_data_processed/MD635/MD635_mask_unsorted/MD635-F22-2016.05.18-20.18.12_MD635_2_0065_mask.png\n",
      "cp /home/yuncong/CSHL_data_processed/MD635/MD635_submasks/MD635-F4-2016.05.18-16.52.52_MD635_1_0010/MD635-F4-2016.05.18-16.52.52_MD635_1_0010_submasks_1.png /home/yuncong/CSHL_data_processed/MD635/MD635_mask_unsorted/MD635-F4-2016.05.18-16.52.52_MD635_1_0010_mask.png\n",
      "cp /home/yuncong/CSHL_data_processed/MD635/MD635_submasks/MD635-F81-2016.05.19-14.21.58_MD635_1_0241/MD635-F81-2016.05.19-14.21.58_MD635_1_0241_submasks_2.png /home/yuncong/CSHL_data_processed/MD635/MD635_mask_unsorted/MD635-F81-2016.05.19-14.21.58_MD635_1_0241_mask.png\n"
     ]
    },
    {
     "name": "stderr",
     "output_type": "stream",
     "text": [
      "Child returned 0\n",
      "Child returned 0\n",
      "Child returned 0\n"
     ]
    },
    {
     "name": "stdout",
     "output_type": "stream",
     "text": [
      "cp /home/yuncong/CSHL_data_processed/MD635/MD635_submasks/MD635-F82-2016.05.19-14.39.57_MD635_1_0244/MD635-F82-2016.05.19-14.39.57_MD635_1_0244_submasks_2.png /home/yuncong/CSHL_data_processed/MD635/MD635_mask_unsorted/MD635-F82-2016.05.19-14.39.57_MD635_1_0244_mask.png\n",
      "cp /home/yuncong/CSHL_data_processed/MD635/MD635_submasks/MD635-F79-2016.05.19-13.44.43_MD635_1_0235/MD635-F79-2016.05.19-13.44.43_MD635_1_0235_submasks_1.png /home/yuncong/CSHL_data_processed/MD635/MD635_mask_unsorted/MD635-F79-2016.05.19-13.44.43_MD635_1_0235_mask.png\n",
      "cp /home/yuncong/CSHL_data_processed/MD635/MD635_submasks/MD635-F142-2016.05.20-06.40.47_MD635_1_0424/MD635-F142-2016.05.20-06.40.47_MD635_1_0424_submasks_1.png /home/yuncong/CSHL_data_processed/MD635/MD635_mask_unsorted/MD635-F142-2016.05.20-06.40.47_MD635_1_0424_mask.png\n"
     ]
    },
    {
     "name": "stderr",
     "output_type": "stream",
     "text": [
      "Child returned 0\n",
      "Child returned 0\n",
      "Child returned 0\n"
     ]
    },
    {
     "name": "stdout",
     "output_type": "stream",
     "text": [
      "cp /home/yuncong/CSHL_data_processed/MD635/MD635_submasks/MD635-F126-2016.05.20-02.44.24_MD635_2_0377/MD635-F126-2016.05.20-02.44.24_MD635_2_0377_submasks_1.png /home/yuncong/CSHL_data_processed/MD635/MD635_mask_unsorted/MD635-F126-2016.05.20-02.44.24_MD635_2_0377_mask.png\n",
      "cp /home/yuncong/CSHL_data_processed/MD635/MD635_submasks/MD635-F122-2016.05.20-12.43.46_MD635_2_0365/MD635-F122-2016.05.20-12.43.46_MD635_2_0365_submasks_1.png /home/yuncong/CSHL_data_processed/MD635/MD635_mask_unsorted/MD635-F122-2016.05.20-12.43.46_MD635_2_0365_mask.png\n",
      "cp /home/yuncong/CSHL_data_processed/MD635/MD635_submasks/MD635-F19-2016.05.18-19.39.41_MD635_2_0056/MD635-F19-2016.05.18-19.39.41_MD635_2_0056_submasks_1.png /home/yuncong/CSHL_data_processed/MD635/MD635_mask_unsorted/MD635-F19-2016.05.18-19.39.41_MD635_2_0056_mask.png\n"
     ]
    },
    {
     "name": "stderr",
     "output_type": "stream",
     "text": [
      "Child returned 0\n",
      "Child returned 0\n",
      "Child returned 0\n"
     ]
    },
    {
     "name": "stdout",
     "output_type": "stream",
     "text": [
      "cp /home/yuncong/CSHL_data_processed/MD635/MD635_submasks/MD635-F98-2016.05.19-19.46.20_MD635_2_0293/MD635-F98-2016.05.19-19.46.20_MD635_2_0293_submasks_1.png /home/yuncong/CSHL_data_processed/MD635/MD635_mask_unsorted/MD635-F98-2016.05.19-19.46.20_MD635_2_0293_mask.png\n",
      "cp /home/yuncong/CSHL_data_processed/MD635/MD635_submasks/MD635-F159-2016.05.20-09.46.00_MD635_1_0475/MD635-F159-2016.05.20-09.46.00_MD635_1_0475_submasks_1.png /home/yuncong/CSHL_data_processed/MD635/MD635_mask_unsorted/MD635-F159-2016.05.20-09.46.00_MD635_1_0475_mask.png\n",
      "cp /home/yuncong/CSHL_data_processed/MD635/MD635_submasks/MD635-F117-2016.05.20-00.49.06_MD635_2_0350/MD635-F117-2016.05.20-00.49.06_MD635_2_0350_submasks_1.png /home/yuncong/CSHL_data_processed/MD635/MD635_mask_unsorted/MD635-F117-2016.05.20-00.49.06_MD635_2_0350_mask.png\n"
     ]
    },
    {
     "name": "stderr",
     "output_type": "stream",
     "text": [
      "Child returned 0\n",
      "Child returned 0\n",
      "Child returned 0\n"
     ]
    },
    {
     "name": "stdout",
     "output_type": "stream",
     "text": [
      "cp /home/yuncong/CSHL_data_processed/MD635/MD635_submasks/MD635-F147-2016.05.20-07.48.51_MD635_2_0440/MD635-F147-2016.05.20-07.48.51_MD635_2_0440_submasks_1.png /home/yuncong/CSHL_data_processed/MD635/MD635_mask_unsorted/MD635-F147-2016.05.20-07.48.51_MD635_2_0440_mask.png\n",
      "cp /home/yuncong/CSHL_data_processed/MD635/MD635_submasks/MD635-F130-2016.05.20-03.44.32_MD635_2_0389/MD635-F130-2016.05.20-03.44.32_MD635_2_0389_submasks_1.png /home/yuncong/CSHL_data_processed/MD635/MD635_mask_unsorted/MD635-F130-2016.05.20-03.44.32_MD635_2_0389_mask.png\n",
      "cp /home/yuncong/CSHL_data_processed/MD635/MD635_submasks/MD635-F34-2016.05.18-23.23.55_MD635_1_0100/MD635-F34-2016.05.18-23.23.55_MD635_1_0100_submasks_1.png /home/yuncong/CSHL_data_processed/MD635/MD635_mask_unsorted/MD635-F34-2016.05.18-23.23.55_MD635_1_0100_mask.png\n"
     ]
    },
    {
     "name": "stderr",
     "output_type": "stream",
     "text": [
      "Child returned 0\n",
      "Child returned 0\n",
      "Child returned 0\n"
     ]
    },
    {
     "name": "stdout",
     "output_type": "stream",
     "text": [
      "cp /home/yuncong/CSHL_data_processed/MD635/MD635_submasks/MD635-F139-2016.05.20-06.00.29_MD635_1_0415/MD635-F139-2016.05.20-06.00.29_MD635_1_0415_submasks_1.png /home/yuncong/CSHL_data_processed/MD635/MD635_mask_unsorted/MD635-F139-2016.05.20-06.00.29_MD635_1_0415_mask.png\n",
      "cp /home/yuncong/CSHL_data_processed/MD635/MD635_submasks/MD635-F137-2016.05.20-05.30.36_MD635_2_0410/MD635-F137-2016.05.20-05.30.36_MD635_2_0410_submasks_1.png /home/yuncong/CSHL_data_processed/MD635/MD635_mask_unsorted/MD635-F137-2016.05.20-05.30.36_MD635_2_0410_mask.png\n",
      "cp /home/yuncong/CSHL_data_processed/MD635/MD635_submasks/MD635-F128-2016.05.20-03.14.48_MD635_3_0384/MD635-F128-2016.05.20-03.14.48_MD635_3_0384_submasks_1.png /home/yuncong/CSHL_data_processed/MD635/MD635_mask_unsorted/MD635-F128-2016.05.20-03.14.48_MD635_3_0384_mask.png\n"
     ]
    },
    {
     "name": "stderr",
     "output_type": "stream",
     "text": [
      "Child returned 0\n",
      "Child returned 0\n",
      "Child returned 0\n",
      "Child returned 0\n"
     ]
    },
    {
     "name": "stdout",
     "output_type": "stream",
     "text": [
      "cp /home/yuncong/CSHL_data_processed/MD635/MD635_submasks/MD635-F29-2016.05.18-22.01.14_MD635_2_0086/MD635-F29-2016.05.18-22.01.14_MD635_2_0086_submasks_1.png /home/yuncong/CSHL_data_processed/MD635/MD635_mask_unsorted/MD635-F29-2016.05.18-22.01.14_MD635_2_0086_mask.png\n",
      "cp /home/yuncong/CSHL_data_processed/MD635/MD635_submasks/MD635-F20-2016.05.18-19.52.29_MD635_1_0058/MD635-F20-2016.05.18-19.52.29_MD635_1_0058_submasks_1.png /home/yuncong/CSHL_data_processed/MD635/MD635_mask_unsorted/MD635-F20-2016.05.18-19.52.29_MD635_1_0058_mask.png\n",
      "cp /home/yuncong/CSHL_data_processed/MD635/MD635_submasks/MD635-F47-2016.05.19-03.19.48_MD635_3_0141/MD635-F47-2016.05.19-03.19.48_MD635_3_0141_submasks_1.png /home/yuncong/CSHL_data_processed/MD635/MD635_mask_unsorted/MD635-F47-2016.05.19-03.19.48_MD635_3_0141_mask.png\n",
      "cp /home/yuncong/CSHL_data_processed/MD635/MD635_submasks/MD635-F167-2016.05.20-10.48.47_MD635_2_0500/MD635-F167-2016.05.20-10.48.47_MD635_2_0500_submasks_1.png /home/yuncong/CSHL_data_processed/MD635/MD635_mask_unsorted/MD635-F167-2016.05.20-10.48.47_MD635_2_0500_mask.png\n"
     ]
    },
    {
     "name": "stderr",
     "output_type": "stream",
     "text": [
      "Child returned 0\n",
      "Child returned 0\n",
      "Child returned 0\n"
     ]
    },
    {
     "name": "stdout",
     "output_type": "stream",
     "text": [
      "cp /home/yuncong/CSHL_data_processed/MD635/MD635_submasks/MD635-F28-2016.05.18-21.46.26_MD635_1_0082/MD635-F28-2016.05.18-21.46.26_MD635_1_0082_submasks_1.png /home/yuncong/CSHL_data_processed/MD635/MD635_mask_unsorted/MD635-F28-2016.05.18-21.46.26_MD635_1_0082_mask.png\n",
      "cp /home/yuncong/CSHL_data_processed/MD635/MD635_submasks/MD635-F14-2016.05.18-18.35.51_MD635_3_0042/MD635-F14-2016.05.18-18.35.51_MD635_3_0042_submasks_1.png /home/yuncong/CSHL_data_processed/MD635/MD635_mask_unsorted/MD635-F14-2016.05.18-18.35.51_MD635_3_0042_mask.png\n",
      "cp /home/yuncong/CSHL_data_processed/MD635/MD635_submasks/MD635-F130-2016.05.20-03.44.32_MD635_1_0388/MD635-F130-2016.05.20-03.44.32_MD635_1_0388_submasks_1.png /home/yuncong/CSHL_data_processed/MD635/MD635_mask_unsorted/MD635-F130-2016.05.20-03.44.32_MD635_1_0388_mask.png\n"
     ]
    },
    {
     "name": "stderr",
     "output_type": "stream",
     "text": [
      "Child returned 0\n",
      "Child returned 0\n",
      "Child returned 0\n"
     ]
    },
    {
     "name": "stdout",
     "output_type": "stream",
     "text": [
      "cp /home/yuncong/CSHL_data_processed/MD635/MD635_submasks/MD635-F17-2016.05.18-19.14.24_MD635_2_0050/MD635-F17-2016.05.18-19.14.24_MD635_2_0050_submasks_1.png /home/yuncong/CSHL_data_processed/MD635/MD635_mask_unsorted/MD635-F17-2016.05.18-19.14.24_MD635_2_0050_mask.png\n",
      "cp /home/yuncong/CSHL_data_processed/MD635/MD635_submasks/MD635-F1-2016.05.18-16.23.55_MD635_2_0002/MD635-F1-2016.05.18-16.23.55_MD635_2_0002_submasks_1.png /home/yuncong/CSHL_data_processed/MD635/MD635_mask_unsorted/MD635-F1-2016.05.18-16.23.55_MD635_2_0002_mask.png\n",
      "cp /home/yuncong/CSHL_data_processed/MD635/MD635_submasks/MD635-F88-2016.05.19-16.34.48_MD635_2_0263/MD635-F88-2016.05.19-16.34.48_MD635_2_0263_submasks_1.png /home/yuncong/CSHL_data_processed/MD635/MD635_mask_unsorted/MD635-F88-2016.05.19-16.34.48_MD635_2_0263_mask.png\n"
     ]
    },
    {
     "name": "stderr",
     "output_type": "stream",
     "text": [
      "Child returned 0\n",
      "Child returned 0\n",
      "Child returned 0\n"
     ]
    },
    {
     "name": "stdout",
     "output_type": "stream",
     "text": [
      "cp /home/yuncong/CSHL_data_processed/MD635/MD635_submasks/MD635-F101-2016.05.19-20.44.28_MD635_2_0302/MD635-F101-2016.05.19-20.44.28_MD635_2_0302_submasks_1.png /home/yuncong/CSHL_data_processed/MD635/MD635_mask_unsorted/MD635-F101-2016.05.19-20.44.28_MD635_2_0302_mask.png\n",
      "cp /home/yuncong/CSHL_data_processed/MD635/MD635_submasks/MD635-F57-2016.05.19-06.32.00_MD635_1_0169/MD635-F57-2016.05.19-06.32.00_MD635_1_0169_submasks_1.png /home/yuncong/CSHL_data_processed/MD635/MD635_mask_unsorted/MD635-F57-2016.05.19-06.32.00_MD635_1_0169_mask.png\n",
      "cp /home/yuncong/CSHL_data_processed/MD635/MD635_submasks/MD635-F50-2016.05.23-14.45.07_MD635_2_0149/MD635-F50-2016.05.23-14.45.07_MD635_2_0149_submasks_1.png /home/yuncong/CSHL_data_processed/MD635/MD635_mask_unsorted/MD635-F50-2016.05.23-14.45.07_MD635_2_0149_mask.png\n"
     ]
    },
    {
     "name": "stderr",
     "output_type": "stream",
     "text": [
      "Child returned 0\n",
      "Child returned 0\n",
      "Child returned 0\n"
     ]
    },
    {
     "name": "stdout",
     "output_type": "stream",
     "text": [
      "cp /home/yuncong/CSHL_data_processed/MD635/MD635_submasks/MD635-F153-2016.05.20-08.57.53_MD635_2_0458/MD635-F153-2016.05.20-08.57.53_MD635_2_0458_submasks_1.png /home/yuncong/CSHL_data_processed/MD635/MD635_mask_unsorted/MD635-F153-2016.05.20-08.57.53_MD635_2_0458_mask.png\n",
      "cp /home/yuncong/CSHL_data_processed/MD635/MD635_submasks/MD635-F2-2016.05.18-16.35.43_MD635_2_0005/MD635-F2-2016.05.18-16.35.43_MD635_2_0005_submasks_1.png /home/yuncong/CSHL_data_processed/MD635/MD635_mask_unsorted/MD635-F2-2016.05.18-16.35.43_MD635_2_0005_mask.png\n",
      "cp /home/yuncong/CSHL_data_processed/MD635/MD635_submasks/MD635-F155-2016.05.20-09.19.32_MD635_1_0463/MD635-F155-2016.05.20-09.19.32_MD635_1_0463_submasks_1.png /home/yuncong/CSHL_data_processed/MD635/MD635_mask_unsorted/MD635-F155-2016.05.20-09.19.32_MD635_1_0463_mask.png\n",
      "cp /home/yuncong/CSHL_data_processed/MD635/MD635_submasks/MD635-F19-2016.05.18-19.39.41_MD635_1_0055/MD635-F19-2016.05.18-19.39.41_MD635_1_0055_submasks_1.png /home/yuncong/CSHL_data_processed/MD635/MD635_mask_unsorted/MD635-F19-2016.05.18-19.39.41_MD635_1_0055_mask.png\n"
     ]
    },
    {
     "name": "stderr",
     "output_type": "stream",
     "text": [
      "Child returned 0\n",
      "Child returned 0\n",
      "Child returned 0\n"
     ]
    },
    {
     "name": "stdout",
     "output_type": "stream",
     "text": [
      "cp /home/yuncong/CSHL_data_processed/MD635/MD635_submasks/MD635-F33-2016.05.18-23.06.34_MD635_1_0097/MD635-F33-2016.05.18-23.06.34_MD635_1_0097_submasks_1.png /home/yuncong/CSHL_data_processed/MD635/MD635_mask_unsorted/MD635-F33-2016.05.18-23.06.34_MD635_1_0097_mask.png\n",
      "cp /home/yuncong/CSHL_data_processed/MD635/MD635_submasks/MD635-F105-2016.05.19-21.45.41_MD635_2_0314/MD635-F105-2016.05.19-21.45.41_MD635_2_0314_submasks_1.png /home/yuncong/CSHL_data_processed/MD635/MD635_mask_unsorted/MD635-F105-2016.05.19-21.45.41_MD635_2_0314_mask.png\n",
      "cp /home/yuncong/CSHL_data_processed/MD635/MD635_submasks/MD635-F116-2016.05.20-00.31.07_MD635_3_0348/MD635-F116-2016.05.20-00.31.07_MD635_3_0348_submasks_1.png /home/yuncong/CSHL_data_processed/MD635/MD635_mask_unsorted/MD635-F116-2016.05.20-00.31.07_MD635_3_0348_mask.png\n"
     ]
    },
    {
     "name": "stderr",
     "output_type": "stream",
     "text": [
      "Child returned 0\n",
      "Child returned 0\n",
      "Child returned 0\n"
     ]
    },
    {
     "name": "stdout",
     "output_type": "stream",
     "text": [
      "cp /home/yuncong/CSHL_data_processed/MD635/MD635_submasks/MD635-F41-2016.05.19-01.28.39_MD635_3_0123/MD635-F41-2016.05.19-01.28.39_MD635_3_0123_submasks_1.png /home/yuncong/CSHL_data_processed/MD635/MD635_mask_unsorted/MD635-F41-2016.05.19-01.28.39_MD635_3_0123_mask.png\n",
      "cp /home/yuncong/CSHL_data_processed/MD635/MD635_submasks/MD635-F78-2016.05.19-13.26.25_MD635_1_0232/MD635-F78-2016.05.19-13.26.25_MD635_1_0232_submasks_1.png /home/yuncong/CSHL_data_processed/MD635/MD635_mask_unsorted/MD635-F78-2016.05.19-13.26.25_MD635_1_0232_mask.png\n",
      "cp /home/yuncong/CSHL_data_processed/MD635/MD635_submasks/MD635-F95-2016.05.19-18.49.58_MD635_1_0283/MD635-F95-2016.05.19-18.49.58_MD635_1_0283_submasks_1.png /home/yuncong/CSHL_data_processed/MD635/MD635_mask_unsorted/MD635-F95-2016.05.19-18.49.58_MD635_1_0283_mask.png\n",
      "cp /home/yuncong/CSHL_data_processed/MD635/MD635_submasks/MD635-F149-2016.05.20-08.14.13_MD635_1_0445/MD635-F149-2016.05.20-08.14.13_MD635_1_0445_submasks_1.png /home/yuncong/CSHL_data_processed/MD635/MD635_mask_unsorted/MD635-F149-2016.05.20-08.14.13_MD635_1_0445_mask.png\n"
     ]
    },
    {
     "name": "stderr",
     "output_type": "stream",
     "text": [
      "Child returned 0\n",
      "Child returned 0\n",
      "Child returned 0\n"
     ]
    },
    {
     "name": "stdout",
     "output_type": "stream",
     "text": [
      "cp /home/yuncong/CSHL_data_processed/MD635/MD635_submasks/MD635-F160-2016.05.20-09.52.10_MD635_2_0479/MD635-F160-2016.05.20-09.52.10_MD635_2_0479_submasks_1.png /home/yuncong/CSHL_data_processed/MD635/MD635_mask_unsorted/MD635-F160-2016.05.20-09.52.10_MD635_2_0479_mask.png\n",
      "cp /home/yuncong/CSHL_data_processed/MD635/MD635_submasks/MD635-F163-2016.05.20-10.17.45_MD635_1_0487/MD635-F163-2016.05.20-10.17.45_MD635_1_0487_submasks_1.png /home/yuncong/CSHL_data_processed/MD635/MD635_mask_unsorted/MD635-F163-2016.05.20-10.17.45_MD635_1_0487_mask.png\n",
      "cp /home/yuncong/CSHL_data_processed/MD635/MD635_submasks/MD635-F165-2016.05.20-10.33.56_MD635_2_0494/MD635-F165-2016.05.20-10.33.56_MD635_2_0494_submasks_1.png /home/yuncong/CSHL_data_processed/MD635/MD635_mask_unsorted/MD635-F165-2016.05.20-10.33.56_MD635_2_0494_mask.png\n",
      "cp /home/yuncong/CSHL_data_processed/MD635/MD635_submasks/MD635-F166-2016.05.20-10.41.13_MD635_1_0496/MD635-F166-2016.05.20-10.41.13_MD635_1_0496_submasks_1.png /home/yuncong/CSHL_data_processed/MD635/MD635_mask_unsorted/MD635-F166-2016.05.20-10.41.13_MD635_1_0496_mask.png"
     ]
    },
    {
     "name": "stderr",
     "output_type": "stream",
     "text": [
      "Child returned 0\n",
      "Child returned 0\n",
      "Child returned 0\n"
     ]
    },
    {
     "name": "stdout",
     "output_type": "stream",
     "text": [
      "\n",
      "cp /home/yuncong/CSHL_data_processed/MD635/MD635_submasks/MD635-F105-2016.05.19-21.45.41_MD635_1_0313/MD635-F105-2016.05.19-21.45.41_MD635_1_0313_submasks_1.png /home/yuncong/CSHL_data_processed/MD635/MD635_mask_unsorted/MD635-F105-2016.05.19-21.45.41_MD635_1_0313_mask.png\n",
      "cp /home/yuncong/CSHL_data_processed/MD635/MD635_submasks/MD635-F19-2016.05.18-19.39.41_MD635_3_0057/MD635-F19-2016.05.18-19.39.41_MD635_3_0057_submasks_1.png /home/yuncong/CSHL_data_processed/MD635/MD635_mask_unsorted/MD635-F19-2016.05.18-19.39.41_MD635_3_0057_mask.png\n"
     ]
    },
    {
     "name": "stderr",
     "output_type": "stream",
     "text": [
      "Child returned 0\n",
      "Child returned 0\n",
      "Child returned 0\n"
     ]
    },
    {
     "name": "stdout",
     "output_type": "stream",
     "text": [
      "cp /home/yuncong/CSHL_data_processed/MD635/MD635_submasks/MD635-F24-2016.05.18-20.47.57_MD635_1_0070/MD635-F24-2016.05.18-20.47.57_MD635_1_0070_submasks_1.png /home/yuncong/CSHL_data_processed/MD635/MD635_mask_unsorted/MD635-F24-2016.05.18-20.47.57_MD635_1_0070_mask.png\n",
      "cp /home/yuncong/CSHL_data_processed/MD635/MD635_submasks/MD635-F60-2016.05.19-07.35.14_MD635_2_0179/MD635-F60-2016.05.19-07.35.14_MD635_2_0179_submasks_1.png /home/yuncong/CSHL_data_processed/MD635/MD635_mask_unsorted/MD635-F60-2016.05.19-07.35.14_MD635_2_0179_mask.png\n",
      "cp /home/yuncong/CSHL_data_processed/MD635/MD635_submasks/MD635-F134-2016.05.20-04.44.11_MD635_2_0401/MD635-F134-2016.05.20-04.44.11_MD635_2_0401_submasks_1.png /home/yuncong/CSHL_data_processed/MD635/MD635_mask_unsorted/MD635-F134-2016.05.20-04.44.11_MD635_2_0401_mask.png\n"
     ]
    },
    {
     "name": "stderr",
     "output_type": "stream",
     "text": [
      "Child returned 0\n",
      "Child returned 0\n",
      "Child returned 0\n"
     ]
    },
    {
     "name": "stdout",
     "output_type": "stream",
     "text": [
      "cp /home/yuncong/CSHL_data_processed/MD635/MD635_submasks/MD635-F141-2016.05.20-06.27.21_MD635_3_0423/MD635-F141-2016.05.20-06.27.21_MD635_3_0423_submasks_1.png /home/yuncong/CSHL_data_processed/MD635/MD635_mask_unsorted/MD635-F141-2016.05.20-06.27.21_MD635_3_0423_mask.png\n",
      "cp /home/yuncong/CSHL_data_processed/MD635/MD635_submasks/MD635-F29-2016.05.18-22.01.14_MD635_1_0085/MD635-F29-2016.05.18-22.01.14_MD635_1_0085_submasks_1.png /home/yuncong/CSHL_data_processed/MD635/MD635_mask_unsorted/MD635-F29-2016.05.18-22.01.14_MD635_1_0085_mask.png\n",
      "cp /home/yuncong/CSHL_data_processed/MD635/MD635_submasks/MD635-F151-2016.05.20-08.36.34_MD635_2_0452/MD635-F151-2016.05.20-08.36.34_MD635_2_0452_submasks_1.png /home/yuncong/CSHL_data_processed/MD635/MD635_mask_unsorted/MD635-F151-2016.05.20-08.36.34_MD635_2_0452_mask.png\n"
     ]
    },
    {
     "name": "stderr",
     "output_type": "stream",
     "text": [
      "Child returned 0\n",
      "Child returned 0\n",
      "Child returned 0\n"
     ]
    },
    {
     "name": "stdout",
     "output_type": "stream",
     "text": [
      "cp /home/yuncong/CSHL_data_processed/MD635/MD635_submasks/MD635-F113-2016.05.19-23.40.05_MD635_3_0339/MD635-F113-2016.05.19-23.40.05_MD635_3_0339_submasks_1.png /home/yuncong/CSHL_data_processed/MD635/MD635_mask_unsorted/MD635-F113-2016.05.19-23.40.05_MD635_3_0339_mask.png\n",
      "cp /home/yuncong/CSHL_data_processed/MD635/MD635_submasks/MD635-F18-2016.05.18-19.27.06_MD635_3_0054/MD635-F18-2016.05.18-19.27.06_MD635_3_0054_submasks_1.png /home/yuncong/CSHL_data_processed/MD635/MD635_mask_unsorted/MD635-F18-2016.05.18-19.27.06_MD635_3_0054_mask.png\n",
      "cp /home/yuncong/CSHL_data_processed/MD635/MD635_submasks/MD635-F70-2016.05.19-10.57.59_MD635_1_0208/MD635-F70-2016.05.19-10.57.59_MD635_1_0208_submasks_1.png /home/yuncong/CSHL_data_processed/MD635/MD635_mask_unsorted/MD635-F70-2016.05.19-10.57.59_MD635_1_0208_mask.png\n"
     ]
    },
    {
     "name": "stderr",
     "output_type": "stream",
     "text": [
      "Child returned 0\n",
      "Child returned 0\n",
      "Child returned 0\n"
     ]
    },
    {
     "name": "stdout",
     "output_type": "stream",
     "text": [
      "cp /home/yuncong/CSHL_data_processed/MD635/MD635_submasks/MD635-F42-2016.05.19-01.47.04_MD635_3_0126/MD635-F42-2016.05.19-01.47.04_MD635_3_0126_submasks_1.png /home/yuncong/CSHL_data_processed/MD635/MD635_mask_unsorted/MD635-F42-2016.05.19-01.47.04_MD635_3_0126_mask.png\n",
      "cp /home/yuncong/CSHL_data_processed/MD635/MD635_submasks/MD635-F140-2016.05.20-06.14.16_MD635_2_0419/MD635-F140-2016.05.20-06.14.16_MD635_2_0419_submasks_1.png /home/yuncong/CSHL_data_processed/MD635/MD635_mask_unsorted/MD635-F140-2016.05.20-06.14.16_MD635_2_0419_mask.png\n",
      "cp /home/yuncong/CSHL_data_processed/MD635/MD635_submasks/MD635-F42-2016.05.19-01.47.04_MD635_2_0125/MD635-F42-2016.05.19-01.47.04_MD635_2_0125_submasks_1.png /home/yuncong/CSHL_data_processed/MD635/MD635_mask_unsorted/MD635-F42-2016.05.19-01.47.04_MD635_2_0125_mask.png\n",
      "cp /home/yuncong/CSHL_data_processed/MD635/MD635_submasks/MD635-F10-2016.05.18-17.44.17_MD635_3_0030/MD635-F10-2016.05.18-17.44.17_MD635_3_0030_submasks_1.png /home/yuncong/CSHL_data_processed/MD635/MD635_mask_unsorted/MD635-F10-2016.05.18-17.44.17_MD635_3_0030_mask.png\n"
     ]
    },
    {
     "name": "stderr",
     "output_type": "stream",
     "text": [
      "Child returned 0\n",
      "Child returned 0\n",
      "Child returned 0\n",
      "Child returned 0\n",
      "Child returned 0\n",
      "Child returned 0\n"
     ]
    },
    {
     "name": "stdout",
     "output_type": "stream",
     "text": [
      "cp /home/yuncong/CSHL_data_processed/MD635/MD635_submasks/MD635-F47-2016.05.19-03.19.48_MD635_2_0140/MD635-F47-2016.05.19-03.19.48_MD635_2_0140_submasks_1.png /home/yuncong/CSHL_data_processed/MD635/MD635_mask_unsorted/MD635-F47-2016.05.19-03.19.48_MD635_2_0140_mask.png\n",
      "cp /home/yuncong/CSHL_data_processed/MD635/MD635_submasks/MD635-F91-2016.05.19-17.33.31_MD635_1_0271/MD635-F91-2016.05.19-17.33.31_MD635_1_0271_submasks_1.png /home/yuncong/CSHL_data_processed/MD635/MD635_mask_unsorted/MD635-F91-2016.05.19-17.33.31_MD635_1_0271_mask.png\n",
      "cp /home/yuncong/CSHL_data_processed/MD635/MD635_submasks/MD635-F39-2016.05.19-00.52.10_MD635_1_0115/MD635-F39-2016.05.19-00.52.10_MD635_1_0115_submasks_1.png /home/yuncong/CSHL_data_processed/MD635/MD635_mask_unsorted/MD635-F39-2016.05.19-00.52.10_MD635_1_0115_mask.png\n",
      "cp /home/yuncong/CSHL_data_processed/MD635/MD635_submasks/MD635-F167-2016.05.20-10.48.47_MD635_3_0501/MD635-F167-2016.05.20-10.48.47_MD635_3_0501_submasks_1.png /home/yuncong/CSHL_data_processed/MD635/MD635_mask_unsorted/MD635-F167-2016.05.20-10.48.47_MD635_3_0501_mask.png\n"
     ]
    },
    {
     "name": "stderr",
     "output_type": "stream",
     "text": [
      "Child returned 0\n",
      "Child returned 0\n",
      "Child returned 0\n",
      "Child returned 0\n"
     ]
    },
    {
     "name": "stdout",
     "output_type": "stream",
     "text": [
      "cp /home/yuncong/CSHL_data_processed/MD635/MD635_submasks/MD635-F13-2016.05.18-18.22.59_MD635_3_0039/MD635-F13-2016.05.18-18.22.59_MD635_3_0039_submasks_1.png /home/yuncong/CSHL_data_processed/MD635/MD635_mask_unsorted/MD635-F13-2016.05.18-18.22.59_MD635_3_0039_mask.png\n",
      "cp /home/yuncong/CSHL_data_processed/MD635/MD635_submasks/MD635-F152-2016.05.20-08.47.02_MD635_1_0454/MD635-F152-2016.05.20-08.47.02_MD635_1_0454_submasks_1.png /home/yuncong/CSHL_data_processed/MD635/MD635_mask_unsorted/MD635-F152-2016.05.20-08.47.02_MD635_1_0454_mask.png\n",
      "cp /home/yuncong/CSHL_data_processed/MD635/MD635_submasks/MD635-F100-2016.05.19-20.25.22_MD635_1_0298/MD635-F100-2016.05.19-20.25.22_MD635_1_0298_submasks_1.png /home/yuncong/CSHL_data_processed/MD635/MD635_mask_unsorted/MD635-F100-2016.05.19-20.25.22_MD635_1_0298_mask.png\n"
     ]
    },
    {
     "name": "stderr",
     "output_type": "stream",
     "text": [
      "Child returned 0\n",
      "Child returned 0\n",
      "Child returned 0\n"
     ]
    },
    {
     "name": "stdout",
     "output_type": "stream",
     "text": [
      "cp /home/yuncong/CSHL_data_processed/MD635/MD635_submasks/MD635-F137-2016.05.20-05.30.36_MD635_1_0409/MD635-F137-2016.05.20-05.30.36_MD635_1_0409_submasks_1.png /home/yuncong/CSHL_data_processed/MD635/MD635_mask_unsorted/MD635-F137-2016.05.20-05.30.36_MD635_1_0409_mask.png\n",
      "cp /home/yuncong/CSHL_data_processed/MD635/MD635_submasks/MD635-F115-2016.05.20-00.14.05_MD635_2_0344/MD635-F115-2016.05.20-00.14.05_MD635_2_0344_submasks_1.png /home/yuncong/CSHL_data_processed/MD635/MD635_mask_unsorted/MD635-F115-2016.05.20-00.14.05_MD635_2_0344_mask.png\n",
      "cp /home/yuncong/CSHL_data_processed/MD635/MD635_submasks/MD635-F131-2016.05.20-03.59.18_MD635_1_0391/MD635-F131-2016.05.20-03.59.18_MD635_1_0391_submasks_1.png /home/yuncong/CSHL_data_processed/MD635/MD635_mask_unsorted/MD635-F131-2016.05.20-03.59.18_MD635_1_0391_mask.png\n"
     ]
    },
    {
     "name": "stderr",
     "output_type": "stream",
     "text": [
      "Child returned 0\n",
      "Child returned 0\n",
      "Child returned 0\n"
     ]
    },
    {
     "name": "stdout",
     "output_type": "stream",
     "text": [
      "cp /home/yuncong/CSHL_data_processed/MD635/MD635_submasks/MD635-F108-2016.05.19-22.32.40_MD635_2_0323/MD635-F108-2016.05.19-22.32.40_MD635_2_0323_submasks_1.png /home/yuncong/CSHL_data_processed/MD635/MD635_mask_unsorted/MD635-F108-2016.05.19-22.32.40_MD635_2_0323_mask.png\n",
      "cp /home/yuncong/CSHL_data_processed/MD635/MD635_submasks/MD635-F115-2016.05.20-00.14.05_MD635_1_0343/MD635-F115-2016.05.20-00.14.05_MD635_1_0343_submasks_1.png /home/yuncong/CSHL_data_processed/MD635/MD635_mask_unsorted/MD635-F115-2016.05.20-00.14.05_MD635_1_0343_mask.png\n",
      "cp /home/yuncong/CSHL_data_processed/MD635/MD635_submasks/MD635-F83-2016.05.19-14.59.24_MD635_2_0248/MD635-F83-2016.05.19-14.59.24_MD635_2_0248_submasks_2.png /home/yuncong/CSHL_data_processed/MD635/MD635_mask_unsorted/MD635-F83-2016.05.19-14.59.24_MD635_2_0248_mask.png\n"
     ]
    },
    {
     "name": "stderr",
     "output_type": "stream",
     "text": [
      "Child returned 0\n",
      "Child returned 0\n",
      "Child returned 0\n"
     ]
    },
    {
     "name": "stdout",
     "output_type": "stream",
     "text": [
      "cp /home/yuncong/CSHL_data_processed/MD635/MD635_submasks/MD635-F71-2016.05.19-11.17.07_MD635_2_0212/MD635-F71-2016.05.19-11.17.07_MD635_2_0212_submasks_1.png /home/yuncong/CSHL_data_processed/MD635/MD635_mask_unsorted/MD635-F71-2016.05.19-11.17.07_MD635_2_0212_mask.png\n",
      "cp /home/yuncong/CSHL_data_processed/MD635/MD635_submasks/MD635-F67-2016.05.19-09.59.06_MD635_1_0199/MD635-F67-2016.05.19-09.59.06_MD635_1_0199_submasks_1.png /home/yuncong/CSHL_data_processed/MD635/MD635_mask_unsorted/MD635-F67-2016.05.19-09.59.06_MD635_1_0199_mask.png\n",
      "cp /home/yuncong/CSHL_data_processed/MD635/MD635_submasks/MD635-F29-2016.05.18-22.01.14_MD635_3_0087/MD635-F29-2016.05.18-22.01.14_MD635_3_0087_submasks_1.png /home/yuncong/CSHL_data_processed/MD635/MD635_mask_unsorted/MD635-F29-2016.05.18-22.01.14_MD635_3_0087_mask.png\n"
     ]
    },
    {
     "name": "stderr",
     "output_type": "stream",
     "text": [
      "Child returned 0\n",
      "Child returned 0\n",
      "Child returned 0\n"
     ]
    },
    {
     "name": "stdout",
     "output_type": "stream",
     "text": [
      "cp /home/yuncong/CSHL_data_processed/MD635/MD635_submasks/MD635-F24-2016.05.18-20.47.57_MD635_2_0071/MD635-F24-2016.05.18-20.47.57_MD635_2_0071_submasks_1.png /home/yuncong/CSHL_data_processed/MD635/MD635_mask_unsorted/MD635-F24-2016.05.18-20.47.57_MD635_2_0071_mask.png\n",
      "cp /home/yuncong/CSHL_data_processed/MD635/MD635_submasks/MD635-F11-2016.05.18-17.57.22_MD635_2_0032/MD635-F11-2016.05.18-17.57.22_MD635_2_0032_submasks_1.png /home/yuncong/CSHL_data_processed/MD635/MD635_mask_unsorted/MD635-F11-2016.05.18-17.57.22_MD635_2_0032_mask.png\n",
      "cp /home/yuncong/CSHL_data_processed/MD635/MD635_submasks/MD635-F34-2016.05.18-23.23.55_MD635_3_0102/MD635-F34-2016.05.18-23.23.55_MD635_3_0102_submasks_1.png /home/yuncong/CSHL_data_processed/MD635/MD635_mask_unsorted/MD635-F34-2016.05.18-23.23.55_MD635_3_0102_mask.png\n"
     ]
    },
    {
     "name": "stderr",
     "output_type": "stream",
     "text": [
      "Child returned 0\n",
      "Child returned 0\n",
      "Child returned 0\n"
     ]
    },
    {
     "name": "stdout",
     "output_type": "stream",
     "text": [
      "cp /home/yuncong/CSHL_data_processed/MD635/MD635_submasks/MD635-F41-2016.05.19-01.28.39_MD635_2_0122/MD635-F41-2016.05.19-01.28.39_MD635_2_0122_submasks_1.png /home/yuncong/CSHL_data_processed/MD635/MD635_mask_unsorted/MD635-F41-2016.05.19-01.28.39_MD635_2_0122_mask.png\n",
      "cp /home/yuncong/CSHL_data_processed/MD635/MD635_submasks/MD635-F6-2016.05.18-17.10.18_MD635_2_0017/MD635-F6-2016.05.18-17.10.18_MD635_2_0017_submasks_1.png /home/yuncong/CSHL_data_processed/MD635/MD635_mask_unsorted/MD635-F6-2016.05.18-17.10.18_MD635_2_0017_mask.png\n",
      "cp /home/yuncong/CSHL_data_processed/MD635/MD635_submasks/MD635-F53-2016.05.19-05.14.50_MD635_2_0158/MD635-F53-2016.05.19-05.14.50_MD635_2_0158_submasks_1.png /home/yuncong/CSHL_data_processed/MD635/MD635_mask_unsorted/MD635-F53-2016.05.19-05.14.50_MD635_2_0158_mask.png\n"
     ]
    },
    {
     "name": "stderr",
     "output_type": "stream",
     "text": [
      "Child returned 0\n",
      "Child returned 0\n",
      "Child returned 0\n"
     ]
    },
    {
     "name": "stdout",
     "output_type": "stream",
     "text": [
      "cp /home/yuncong/CSHL_data_processed/MD635/MD635_submasks/MD635-F141-2016.05.20-06.27.21_MD635_1_0421/MD635-F141-2016.05.20-06.27.21_MD635_1_0421_submasks_1.png /home/yuncong/CSHL_data_processed/MD635/MD635_mask_unsorted/MD635-F141-2016.05.20-06.27.21_MD635_1_0421_mask.png\n",
      "cp /home/yuncong/CSHL_data_processed/MD635/MD635_submasks/MD635-F14-2016.05.18-18.35.51_MD635_2_0041/MD635-F14-2016.05.18-18.35.51_MD635_2_0041_submasks_1.png /home/yuncong/CSHL_data_processed/MD635/MD635_mask_unsorted/MD635-F14-2016.05.18-18.35.51_MD635_2_0041_mask.png\n",
      "cp /home/yuncong/CSHL_data_processed/MD635/MD635_submasks/MD635-F125-2016.05.20-02.28.59_MD635_2_0374/MD635-F125-2016.05.20-02.28.59_MD635_2_0374_submasks_1.png /home/yuncong/CSHL_data_processed/MD635/MD635_mask_unsorted/MD635-F125-2016.05.20-02.28.59_MD635_2_0374_mask.png\n"
     ]
    },
    {
     "name": "stderr",
     "output_type": "stream",
     "text": [
      "Child returned 0\n",
      "Child returned 0\n",
      "Child returned 0\n"
     ]
    },
    {
     "name": "stdout",
     "output_type": "stream",
     "text": [
      "cp /home/yuncong/CSHL_data_processed/MD635/MD635_submasks/MD635-F144-2016.05.20-07.08.32_MD635_3_0432/MD635-F144-2016.05.20-07.08.32_MD635_3_0432_submasks_1.png /home/yuncong/CSHL_data_processed/MD635/MD635_mask_unsorted/MD635-F144-2016.05.20-07.08.32_MD635_3_0432_mask.png\n",
      "cp /home/yuncong/CSHL_data_processed/MD635/MD635_submasks/MD635-F99-2016.05.19-20.06.21_MD635_1_0295/MD635-F99-2016.05.19-20.06.21_MD635_1_0295_submasks_1.png /home/yuncong/CSHL_data_processed/MD635/MD635_mask_unsorted/MD635-F99-2016.05.19-20.06.21_MD635_1_0295_mask.png\n",
      "cp /home/yuncong/CSHL_data_processed/MD635/MD635_submasks/MD635-F38-2016.05.19-00.34.28_MD635_3_0114/MD635-F38-2016.05.19-00.34.28_MD635_3_0114_submasks_1.png /home/yuncong/CSHL_data_processed/MD635/MD635_mask_unsorted/MD635-F38-2016.05.19-00.34.28_MD635_3_0114_mask.png\n"
     ]
    },
    {
     "name": "stderr",
     "output_type": "stream",
     "text": [
      "Child returned 0\n",
      "Child returned 0\n",
      "Child returned 0\n"
     ]
    },
    {
     "name": "stdout",
     "output_type": "stream",
     "text": [
      "cp /home/yuncong/CSHL_data_processed/MD635/MD635_submasks/MD635-F128-2016.05.20-03.14.48_MD635_1_0382/MD635-F128-2016.05.20-03.14.48_MD635_1_0382_submasks_1.png /home/yuncong/CSHL_data_processed/MD635/MD635_mask_unsorted/MD635-F128-2016.05.20-03.14.48_MD635_1_0382_mask.png\n",
      "cp /home/yuncong/CSHL_data_processed/MD635/MD635_submasks/MD635-F156-2016.05.20-13.20.34_MD635_2_0467/MD635-F156-2016.05.20-13.20.34_MD635_2_0467_submasks_1.png /home/yuncong/CSHL_data_processed/MD635/MD635_mask_unsorted/MD635-F156-2016.05.20-13.20.34_MD635_2_0467_mask.png\n",
      "cp /home/yuncong/CSHL_data_processed/MD635/MD635_submasks/MD635-F84-2016.05.19-15.18.11_MD635_1_0250/MD635-F84-2016.05.19-15.18.11_MD635_1_0250_submasks_1.png /home/yuncong/CSHL_data_processed/MD635/MD635_mask_unsorted/MD635-F84-2016.05.19-15.18.11_MD635_1_0250_mask.png\n"
     ]
    },
    {
     "name": "stderr",
     "output_type": "stream",
     "text": [
      "Child returned 0\n",
      "Child returned 0\n",
      "Child returned 0\n"
     ]
    },
    {
     "name": "stdout",
     "output_type": "stream",
     "text": [
      "cp /home/yuncong/CSHL_data_processed/MD635/MD635_submasks/MD635-F9-2016.05.18-17.35.56_MD635_2_0026/MD635-F9-2016.05.18-17.35.56_MD635_2_0026_submasks_1.png /home/yuncong/CSHL_data_processed/MD635/MD635_mask_unsorted/MD635-F9-2016.05.18-17.35.56_MD635_2_0026_mask.png\n",
      "cp /home/yuncong/CSHL_data_processed/MD635/MD635_submasks/MD635-F33-2016.05.18-23.06.34_MD635_3_0099/MD635-F33-2016.05.18-23.06.34_MD635_3_0099_submasks_1.png /home/yuncong/CSHL_data_processed/MD635/MD635_mask_unsorted/MD635-F33-2016.05.18-23.06.34_MD635_3_0099_mask.png\n",
      "cp /home/yuncong/CSHL_data_processed/MD635/MD635_submasks/MD635-F168-2016.05.20-10.55.38_MD635_1_0502/MD635-F168-2016.05.20-10.55.38_MD635_1_0502_submasks_1.png /home/yuncong/CSHL_data_processed/MD635/MD635_mask_unsorted/MD635-F168-2016.05.20-10.55.38_MD635_1_0502_mask.png\n"
     ]
    },
    {
     "name": "stderr",
     "output_type": "stream",
     "text": [
      "Child returned 0\n",
      "Child returned 0\n",
      "Child returned 0\n",
      "Child returned 0\n"
     ]
    },
    {
     "name": "stdout",
     "output_type": "stream",
     "text": [
      "cp /home/yuncong/CSHL_data_processed/MD635/MD635_submasks/MD635-F25-2016.05.18-21.02.30_MD635_1_0073/MD635-F25-2016.05.18-21.02.30_MD635_1_0073_submasks_1.png /home/yuncong/CSHL_data_processed/MD635/MD635_mask_unsorted/MD635-F25-2016.05.18-21.02.30_MD635_1_0073_mask.png\n",
      "cp /home/yuncong/CSHL_data_processed/MD635/MD635_submasks/MD635-F8-2016.05.18-17.27.15_MD635_1_0022/MD635-F8-2016.05.18-17.27.15_MD635_1_0022_submasks_1.png /home/yuncong/CSHL_data_processed/MD635/MD635_mask_unsorted/MD635-F8-2016.05.18-17.27.15_MD635_1_0022_mask.png\n",
      "cp /home/yuncong/CSHL_data_processed/MD635/MD635_submasks/MD635-F4-2016.05.18-16.52.52_MD635_2_0011/MD635-F4-2016.05.18-16.52.52_MD635_2_0011_submasks_1.png /home/yuncong/CSHL_data_processed/MD635/MD635_mask_unsorted/MD635-F4-2016.05.18-16.52.52_MD635_2_0011_mask.png\n",
      "cp /home/yuncong/CSHL_data_processed/MD635/MD635_submasks/MD635-F116-2016.05.20-00.31.07_MD635_1_0346/MD635-F116-2016.05.20-00.31.07_MD635_1_0346_submasks_1.png /home/yuncong/CSHL_data_processed/MD635/MD635_mask_unsorted/MD635-F116-2016.05.20-00.31.07_MD635_1_0346_mask.png\n"
     ]
    },
    {
     "name": "stderr",
     "output_type": "stream",
     "text": [
      "Child returned 0\n",
      "Child returned 0\n",
      "Child returned 0\n",
      "Child returned 0\n"
     ]
    },
    {
     "name": "stdout",
     "output_type": "stream",
     "text": [
      "cp /home/yuncong/CSHL_data_processed/MD635/MD635_submasks/MD635-F121-2016.05.20-01.55.48_MD635_3_0363/MD635-F121-2016.05.20-01.55.48_MD635_3_0363_submasks_1.png /home/yuncong/CSHL_data_processed/MD635/MD635_mask_unsorted/MD635-F121-2016.05.20-01.55.48_MD635_3_0363_mask.png\n",
      "cp /home/yuncong/CSHL_data_processed/MD635/MD635_submasks/MD635-F135-2016.05.20-04.58.19_MD635_1_0403/MD635-F135-2016.05.20-04.58.19_MD635_1_0403_submasks_1.png /home/yuncong/CSHL_data_processed/MD635/MD635_mask_unsorted/MD635-F135-2016.05.20-04.58.19_MD635_1_0403_mask.png\n",
      "cp /home/yuncong/CSHL_data_processed/MD635/MD635_submasks/MD635-F163-2016.05.20-10.17.45_MD635_2_0488/MD635-F163-2016.05.20-10.17.45_MD635_2_0488_submasks_1.png /home/yuncong/CSHL_data_processed/MD635/MD635_mask_unsorted/MD635-F163-2016.05.20-10.17.45_MD635_2_0488_mask.png\n",
      "cp /home/yuncong/CSHL_data_processed/MD635/MD635_submasks/MD635-F158-2016.05.20-09.29.45_MD635_2_0473/MD635-F158-2016.05.20-09.29.45_MD635_2_0473_submasks_1.png /home/yuncong/CSHL_data_processed/MD635/MD635_mask_unsorted/MD635-F158-2016.05.20-09.29.45_MD635_2_0473_mask.png\n"
     ]
    },
    {
     "name": "stderr",
     "output_type": "stream",
     "text": [
      "Child returned 0\n",
      "Child returned 0\n",
      "Child returned 0\n",
      "Child returned 0\n"
     ]
    },
    {
     "name": "stdout",
     "output_type": "stream",
     "text": [
      "cp /home/yuncong/CSHL_data_processed/MD635/MD635_submasks/MD635-F16-2016.05.18-19.01.39_MD635_3_0048/MD635-F16-2016.05.18-19.01.39_MD635_3_0048_submasks_1.png /home/yuncong/CSHL_data_processed/MD635/MD635_mask_unsorted/MD635-F16-2016.05.18-19.01.39_MD635_3_0048_mask.png\n",
      "cp /home/yuncong/CSHL_data_processed/MD635/MD635_submasks/MD635-F82-2016.05.19-14.39.57_MD635_2_0245/MD635-F82-2016.05.19-14.39.57_MD635_2_0245_submasks_2.png /home/yuncong/CSHL_data_processed/MD635/MD635_mask_unsorted/MD635-F82-2016.05.19-14.39.57_MD635_2_0245_mask.png\n",
      "cp /home/yuncong/CSHL_data_processed/MD635/MD635_submasks/MD635-F145-2016.05.20-07.21.59_MD635_1_0433/MD635-F145-2016.05.20-07.21.59_MD635_1_0433_submasks_1.png /home/yuncong/CSHL_data_processed/MD635/MD635_mask_unsorted/MD635-F145-2016.05.20-07.21.59_MD635_1_0433_mask.png\n",
      "cp /home/yuncong/CSHL_data_processed/MD635/MD635_submasks/MD635-F79-2016.05.19-13.44.43_MD635_2_0236/MD635-F79-2016.05.19-13.44.43_MD635_2_0236_submasks_2.png /home/yuncong/CSHL_data_processed/MD635/MD635_mask_unsorted/MD635-F79-2016.05.19-13.44.43_MD635_2_0236_mask.png\n"
     ]
    },
    {
     "name": "stderr",
     "output_type": "stream",
     "text": [
      "Child returned 0\n",
      "Child returned 0\n",
      "Child returned 0\n",
      "Child returned 0\n"
     ]
    },
    {
     "name": "stdout",
     "output_type": "stream",
     "text": [
      "cp /home/yuncong/CSHL_data_processed/MD635/MD635_submasks/MD635-F150-2016.05.20-08.25.21_MD635_3_0450/MD635-F150-2016.05.20-08.25.21_MD635_3_0450_submasks_1.png /home/yuncong/CSHL_data_processed/MD635/MD635_mask_unsorted/MD635-F150-2016.05.20-08.25.21_MD635_3_0450_mask.png\n",
      "cp /home/yuncong/CSHL_data_processed/MD635/MD635_submasks/MD635-F21-2016.05.18-20.05.17_MD635_1_0061/MD635-F21-2016.05.18-20.05.17_MD635_1_0061_submasks_1.png /home/yuncong/CSHL_data_processed/MD635/MD635_mask_unsorted/MD635-F21-2016.05.18-20.05.17_MD635_1_0061_mask.png\n",
      "cp /home/yuncong/CSHL_data_processed/MD635/MD635_submasks/MD635-F97-2016.05.19-19.26.37_MD635_2_0290/MD635-F97-2016.05.19-19.26.37_MD635_2_0290_submasks_1.png /home/yuncong/CSHL_data_processed/MD635/MD635_mask_unsorted/MD635-F97-2016.05.19-19.26.37_MD635_2_0290_mask.png\n",
      "cp /home/yuncong/CSHL_data_processed/MD635/MD635_submasks/MD635-F127-2016.05.20-02.59.46_MD635_2_0380/MD635-F127-2016.05.20-02.59.46_MD635_2_0380_submasks_1.png /home/yuncong/CSHL_data_processed/MD635/MD635_mask_unsorted/MD635-F127-2016.05.20-02.59.46_MD635_2_0380_mask.png\n"
     ]
    },
    {
     "name": "stderr",
     "output_type": "stream",
     "text": [
      "Child returned 0\n",
      "Child returned 0\n",
      "Child returned 0\n"
     ]
    },
    {
     "name": "stdout",
     "output_type": "stream",
     "text": [
      "cp /home/yuncong/CSHL_data_processed/MD635/MD635_submasks/MD635-F149-2016.05.20-08.14.13_MD635_2_0446/MD635-F149-2016.05.20-08.14.13_MD635_2_0446_submasks_1.png /home/yuncong/CSHL_data_processed/MD635/MD635_mask_unsorted/MD635-F149-2016.05.20-08.14.13_MD635_2_0446_mask.png\n",
      "cp /home/yuncong/CSHL_data_processed/MD635/MD635_submasks/MD635-F146-2016.05.20-07.35.26_MD635_3_0438/MD635-F146-2016.05.20-07.35.26_MD635_3_0438_submasks_1.png /home/yuncong/CSHL_data_processed/MD635/MD635_mask_unsorted/MD635-F146-2016.05.20-07.35.26_MD635_3_0438_mask.png\n",
      "cp /home/yuncong/CSHL_data_processed/MD635/MD635_submasks/MD635-F119-2016.05.20-01.22.34_MD635_3_0357/MD635-F119-2016.05.20-01.22.34_MD635_3_0357_submasks_1.png /home/yuncong/CSHL_data_processed/MD635/MD635_mask_unsorted/MD635-F119-2016.05.20-01.22.34_MD635_3_0357_mask.png\n",
      "cp /home/yuncong/CSHL_data_processed/MD635/MD635_submasks/MD635-F43-2016.05.19-02.06.14_MD635_3_0129/MD635-F43-2016.05.19-02.06.14_MD635_3_0129_submasks_1.png /home/yuncong/CSHL_data_processed/MD635/MD635_mask_unsorted/MD635-F43-2016.05.19-02.06.14_MD635_3_0129_mask.png\n"
     ]
    },
    {
     "name": "stderr",
     "output_type": "stream",
     "text": [
      "Child returned 0\n",
      "Child returned 0\n",
      "Child returned 0\n",
      "Child returned 0\n"
     ]
    },
    {
     "name": "stdout",
     "output_type": "stream",
     "text": [
      "cp /home/yuncong/CSHL_data_processed/MD635/MD635_submasks/MD635-F139-2016.05.20-06.00.29_MD635_3_0417/MD635-F139-2016.05.20-06.00.29_MD635_3_0417_submasks_1.png /home/yuncong/CSHL_data_processed/MD635/MD635_mask_unsorted/MD635-F139-2016.05.20-06.00.29_MD635_3_0417_mask.png\n",
      "cp /home/yuncong/CSHL_data_processed/MD635/MD635_submasks/MD635-F128-2016.05.20-03.14.48_MD635_2_0383/MD635-F128-2016.05.20-03.14.48_MD635_2_0383_submasks_1.png /home/yuncong/CSHL_data_processed/MD635/MD635_mask_unsorted/MD635-F128-2016.05.20-03.14.48_MD635_2_0383_mask.png\n",
      "cp /home/yuncong/CSHL_data_processed/MD635/MD635_submasks/MD635-F89-2016.05.19-16.53.54_MD635_2_0266/MD635-F89-2016.05.19-16.53.54_MD635_2_0266_submasks_1.png /home/yuncong/CSHL_data_processed/MD635/MD635_mask_unsorted/MD635-F89-2016.05.19-16.53.54_MD635_2_0266_mask.png\n"
     ]
    },
    {
     "name": "stderr",
     "output_type": "stream",
     "text": [
      "Child returned 0\n",
      "Child returned 0\n",
      "Child returned 0\n"
     ]
    },
    {
     "name": "stdout",
     "output_type": "stream",
     "text": [
      "cp /home/yuncong/CSHL_data_processed/MD635/MD635_submasks/MD635-F157-2016.05.20-13.32.17_MD635_2_0470/MD635-F157-2016.05.20-13.32.17_MD635_2_0470_submasks_1.png /home/yuncong/CSHL_data_processed/MD635/MD635_mask_unsorted/MD635-F157-2016.05.20-13.32.17_MD635_2_0470_mask.png\n",
      "cp /home/yuncong/CSHL_data_processed/MD635/MD635_submasks/MD635-F162-2016.05.20-10.09.24_MD635_1_0484/MD635-F162-2016.05.20-10.09.24_MD635_1_0484_submasks_1.png /home/yuncong/CSHL_data_processed/MD635/MD635_mask_unsorted/MD635-F162-2016.05.20-10.09.24_MD635_1_0484_mask.png\n",
      "cp /home/yuncong/CSHL_data_processed/MD635/MD635_submasks/MD635-F40-2016.05.19-01.08.51_MD635_3_0120/MD635-F40-2016.05.19-01.08.51_MD635_3_0120_submasks_1.png /home/yuncong/CSHL_data_processed/MD635/MD635_mask_unsorted/MD635-F40-2016.05.19-01.08.51_MD635_3_0120_mask.png\n"
     ]
    },
    {
     "name": "stderr",
     "output_type": "stream",
     "text": [
      "Child returned 0\n",
      "Child returned 0\n",
      "Child returned 0\n"
     ]
    },
    {
     "name": "stdout",
     "output_type": "stream",
     "text": [
      "cp /home/yuncong/CSHL_data_processed/MD635/MD635_submasks/MD635-F17-2016.05.18-19.14.24_MD635_1_0049/MD635-F17-2016.05.18-19.14.24_MD635_1_0049_submasks_1.png /home/yuncong/CSHL_data_processed/MD635/MD635_mask_unsorted/MD635-F17-2016.05.18-19.14.24_MD635_1_0049_mask.png\n",
      "cp /home/yuncong/CSHL_data_processed/MD635/MD635_submasks/MD635-F106-2016.05.19-22.01.46_MD635_2_0317/MD635-F106-2016.05.19-22.01.46_MD635_2_0317_submasks_1.png /home/yuncong/CSHL_data_processed/MD635/MD635_mask_unsorted/MD635-F106-2016.05.19-22.01.46_MD635_2_0317_mask.png\n",
      "cp /home/yuncong/CSHL_data_processed/MD635/MD635_submasks/MD635-F43-2016.05.19-02.06.14_MD635_1_0127/MD635-F43-2016.05.19-02.06.14_MD635_1_0127_submasks_1.png /home/yuncong/CSHL_data_processed/MD635/MD635_mask_unsorted/MD635-F43-2016.05.19-02.06.14_MD635_1_0127_mask.png\n"
     ]
    },
    {
     "name": "stderr",
     "output_type": "stream",
     "text": [
      "Child returned 0\n",
      "Child returned 0\n",
      "Child returned 0\n"
     ]
    },
    {
     "name": "stdout",
     "output_type": "stream",
     "text": [
      "cp /home/yuncong/CSHL_data_processed/MD635/MD635_submasks/MD635-F110-2016.05.19-23.00.00_MD635_2_0329/MD635-F110-2016.05.19-23.00.00_MD635_2_0329_submasks_1.png /home/yuncong/CSHL_data_processed/MD635/MD635_mask_unsorted/MD635-F110-2016.05.19-23.00.00_MD635_2_0329_mask.png\n",
      "cp /home/yuncong/CSHL_data_processed/MD635/MD635_submasks/MD635-F54-2016.05.19-05.34.49_MD635_3_0162/MD635-F54-2016.05.19-05.34.49_MD635_3_0162_submasks_1.png /home/yuncong/CSHL_data_processed/MD635/MD635_mask_unsorted/MD635-F54-2016.05.19-05.34.49_MD635_3_0162_mask.png\n",
      "cp /home/yuncong/CSHL_data_processed/MD635/MD635_submasks/MD635-F35-2016.05.18-23.40.52_MD635_2_0104/MD635-F35-2016.05.18-23.40.52_MD635_2_0104_submasks_1.png /home/yuncong/CSHL_data_processed/MD635/MD635_mask_unsorted/MD635-F35-2016.05.18-23.40.52_MD635_2_0104_mask.png\n",
      "cp /home/yuncong/CSHL_data_processed/MD635/MD635_submasks/MD635-F144-2016.05.20-07.08.32_MD635_1_0430/MD635-F144-2016.05.20-07.08.32_MD635_1_0430_submasks_1.png /home/yuncong/CSHL_data_processed/MD635/MD635_mask_unsorted/MD635-F144-2016.05.20-07.08.32_MD635_1_0430_mask.png\n"
     ]
    },
    {
     "name": "stderr",
     "output_type": "stream",
     "text": [
      "Child returned 0\n",
      "Child returned 0\n",
      "Child returned 0\n"
     ]
    },
    {
     "name": "stdout",
     "output_type": "stream",
     "text": [
      "cp /home/yuncong/CSHL_data_processed/MD635/MD635_submasks/MD635-F102-2016.05.19-20.58.51_MD635_1_0304/MD635-F102-2016.05.19-20.58.51_MD635_1_0304_submasks_1.png /home/yuncong/CSHL_data_processed/MD635/MD635_mask_unsorted/MD635-F102-2016.05.19-20.58.51_MD635_1_0304_mask.png\n",
      "cp /home/yuncong/CSHL_data_processed/MD635/MD635_submasks/MD635-F51-2016.05.23-15.04.39_MD635_2_0152/MD635-F51-2016.05.23-15.04.39_MD635_2_0152_submasks_1.png /home/yuncong/CSHL_data_processed/MD635/MD635_mask_unsorted/MD635-F51-2016.05.23-15.04.39_MD635_2_0152_mask.png\n",
      "cp /home/yuncong/CSHL_data_processed/MD635/MD635_submasks/MD635-F3-2016.05.23-13.56.45_MD635_1_0007/MD635-F3-2016.05.23-13.56.45_MD635_1_0007_submasks_1.png /home/yuncong/CSHL_data_processed/MD635/MD635_mask_unsorted/MD635-F3-2016.05.23-13.56.45_MD635_1_0007_mask.png\n"
     ]
    },
    {
     "name": "stderr",
     "output_type": "stream",
     "text": [
      "Child returned 0\n",
      "Child returned 0\n",
      "Child returned 0\n"
     ]
    },
    {
     "name": "stdout",
     "output_type": "stream",
     "text": [
      "cp /home/yuncong/CSHL_data_processed/MD635/MD635_submasks/MD635-F65-2016.05.19-09.20.00_MD635_2_0194/MD635-F65-2016.05.19-09.20.00_MD635_2_0194_submasks_1.png /home/yuncong/CSHL_data_processed/MD635/MD635_mask_unsorted/MD635-F65-2016.05.19-09.20.00_MD635_2_0194_mask.png\n",
      "cp /home/yuncong/CSHL_data_processed/MD635/MD635_submasks/MD635-F57-2016.05.19-06.32.00_MD635_2_0170/MD635-F57-2016.05.19-06.32.00_MD635_2_0170_submasks_1.png /home/yuncong/CSHL_data_processed/MD635/MD635_mask_unsorted/MD635-F57-2016.05.19-06.32.00_MD635_2_0170_mask.png\n",
      "cp /home/yuncong/CSHL_data_processed/MD635/MD635_submasks/MD635-F18-2016.05.18-19.27.06_MD635_2_0053/MD635-F18-2016.05.18-19.27.06_MD635_2_0053_submasks_1.png /home/yuncong/CSHL_data_processed/MD635/MD635_mask_unsorted/MD635-F18-2016.05.18-19.27.06_MD635_2_0053_mask.png\n"
     ]
    },
    {
     "name": "stderr",
     "output_type": "stream",
     "text": [
      "Child returned 0\n",
      "Child returned 0\n",
      "Child returned 0\n",
      "Child returned 0\n"
     ]
    },
    {
     "name": "stdout",
     "output_type": "stream",
     "text": [
      "cp /home/yuncong/CSHL_data_processed/MD635/MD635_submasks/MD635-F89-2016.05.19-16.53.54_MD635_1_0265/MD635-F89-2016.05.19-16.53.54_MD635_1_0265_submasks_1.png /home/yuncong/CSHL_data_processed/MD635/MD635_mask_unsorted/MD635-F89-2016.05.19-16.53.54_MD635_1_0265_mask.png\n",
      "cp /home/yuncong/CSHL_data_processed/MD635/MD635_submasks/MD635-F93-2016.05.19-18.12.24_MD635_1_0277/MD635-F93-2016.05.19-18.12.24_MD635_1_0277_submasks_1.png /home/yuncong/CSHL_data_processed/MD635/MD635_mask_unsorted/MD635-F93-2016.05.19-18.12.24_MD635_1_0277_mask.png\n",
      "cp /home/yuncong/CSHL_data_processed/MD635/MD635_submasks/MD635-F58-2016.05.19-06.52.57_MD635_1_0172/MD635-F58-2016.05.19-06.52.57_MD635_1_0172_submasks_1.png /home/yuncong/CSHL_data_processed/MD635/MD635_mask_unsorted/MD635-F58-2016.05.19-06.52.57_MD635_1_0172_mask.png\n"
     ]
    },
    {
     "name": "stderr",
     "output_type": "stream",
     "text": [
      "Child returned 0\n",
      "Child returned 0\n",
      "Child returned 0\n"
     ]
    },
    {
     "name": "stdout",
     "output_type": "stream",
     "text": [
      "cp /home/yuncong/CSHL_data_processed/MD635/MD635_submasks/MD635-F61-2016.05.19-07.56.43_MD635_2_0182/MD635-F61-2016.05.19-07.56.43_MD635_2_0182_submasks_1.png /home/yuncong/CSHL_data_processed/MD635/MD635_mask_unsorted/MD635-F61-2016.05.19-07.56.43_MD635_2_0182_mask.png\n",
      "cp /home/yuncong/CSHL_data_processed/MD635/MD635_submasks/MD635-F5-2016.05.18-17.01.34_MD635_1_0013/MD635-F5-2016.05.18-17.01.34_MD635_1_0013_submasks_1.png /home/yuncong/CSHL_data_processed/MD635/MD635_mask_unsorted/MD635-F5-2016.05.18-17.01.34_MD635_1_0013_mask.png\n",
      "cp /home/yuncong/CSHL_data_processed/MD635/MD635_submasks/MD635-F49-2016.05.23-14.25.13_MD635_3_0147/MD635-F49-2016.05.23-14.25.13_MD635_3_0147_submasks_1.png /home/yuncong/CSHL_data_processed/MD635/MD635_mask_unsorted/MD635-F49-2016.05.23-14.25.13_MD635_3_0147_mask.png\n"
     ]
    },
    {
     "name": "stderr",
     "output_type": "stream",
     "text": [
      "Child returned 0\n",
      "Child returned 0\n",
      "Child returned 0\n"
     ]
    },
    {
     "name": "stdout",
     "output_type": "stream",
     "text": [
      "cp /home/yuncong/CSHL_data_processed/MD635/MD635_submasks/MD635-F37-2016.05.23-14.05.18_MD635_3_0111/MD635-F37-2016.05.23-14.05.18_MD635_3_0111_submasks_1.png /home/yuncong/CSHL_data_processed/MD635/MD635_mask_unsorted/MD635-F37-2016.05.23-14.05.18_MD635_3_0111_mask.png\n",
      "cp /home/yuncong/CSHL_data_processed/MD635/MD635_submasks/MD635-F39-2016.05.19-00.52.10_MD635_3_0117/MD635-F39-2016.05.19-00.52.10_MD635_3_0117_submasks_1.png /home/yuncong/CSHL_data_processed/MD635/MD635_mask_unsorted/MD635-F39-2016.05.19-00.52.10_MD635_3_0117_mask.png\n",
      "cp /home/yuncong/CSHL_data_processed/MD635/MD635_submasks/MD635-F45-2016.05.19-02.43.09_MD635_3_0135/MD635-F45-2016.05.19-02.43.09_MD635_3_0135_submasks_1.png /home/yuncong/CSHL_data_processed/MD635/MD635_mask_unsorted/MD635-F45-2016.05.19-02.43.09_MD635_3_0135_mask.png\n",
      "cp /home/yuncong/CSHL_data_processed/MD635/MD635_submasks/MD635-F129-2016.05.20-03.29.55_MD635_1_0385/MD635-F129-2016.05.20-03.29.55_MD635_1_0385_submasks_1.png /home/yuncong/CSHL_data_processed/MD635/MD635_mask_unsorted/MD635-F129-2016.05.20-03.29.55_MD635_1_0385_mask.png\n"
     ]
    },
    {
     "name": "stderr",
     "output_type": "stream",
     "text": [
      "Child returned 0\n",
      "Child returned 0\n",
      "Child returned 0\n",
      "Child returned 0\n"
     ]
    },
    {
     "name": "stdout",
     "output_type": "stream",
     "text": [
      "cp /home/yuncong/CSHL_data_processed/MD635/MD635_submasks/MD635-F129-2016.05.20-03.29.55_MD635_3_0387/MD635-F129-2016.05.20-03.29.55_MD635_3_0387_submasks_1.png /home/yuncong/CSHL_data_processed/MD635/MD635_mask_unsorted/MD635-F129-2016.05.20-03.29.55_MD635_3_0387_mask.png\n",
      "cp /home/yuncong/CSHL_data_processed/MD635/MD635_submasks/MD635-F168-2016.05.20-10.55.38_MD635_2_0503/MD635-F168-2016.05.20-10.55.38_MD635_2_0503_submasks_1.png /home/yuncong/CSHL_data_processed/MD635/MD635_mask_unsorted/MD635-F168-2016.05.20-10.55.38_MD635_2_0503_mask.png\n",
      "cp /home/yuncong/CSHL_data_processed/MD635/MD635_submasks/MD635-F106-2016.05.19-22.01.46_MD635_1_0316/MD635-F106-2016.05.19-22.01.46_MD635_1_0316_submasks_1.png /home/yuncong/CSHL_data_processed/MD635/MD635_mask_unsorted/MD635-F106-2016.05.19-22.01.46_MD635_1_0316_mask.png\n",
      "cp /home/yuncong/CSHL_data_processed/MD635/MD635_submasks/MD635-F55-2016.05.19-05.55.53_MD635_2_0164/MD635-F55-2016.05.19-05.55.53_MD635_2_0164_submasks_1.png /home/yuncong/CSHL_data_processed/MD635/MD635_mask_unsorted/MD635-F55-2016.05.19-05.55.53_MD635_2_0164_mask.png\n"
     ]
    },
    {
     "name": "stderr",
     "output_type": "stream",
     "text": [
      "Child returned 0\n",
      "Child returned 0\n",
      "Child returned 0\n"
     ]
    },
    {
     "name": "stdout",
     "output_type": "stream",
     "text": [
      "cp /home/yuncong/CSHL_data_processed/MD635/MD635_submasks/MD635-F15-2016.05.18-18.48.38_MD635_2_0044/MD635-F15-2016.05.18-18.48.38_MD635_2_0044_submasks_1.png /home/yuncong/CSHL_data_processed/MD635/MD635_mask_unsorted/MD635-F15-2016.05.18-18.48.38_MD635_2_0044_mask.png\n",
      "cp /home/yuncong/CSHL_data_processed/MD635/MD635_submasks/MD635-F148-2016.05.20-08.00.59_MD635_3_0444/MD635-F148-2016.05.20-08.00.59_MD635_3_0444_submasks_1.png /home/yuncong/CSHL_data_processed/MD635/MD635_mask_unsorted/MD635-F148-2016.05.20-08.00.59_MD635_3_0444_mask.png\n",
      "cp /home/yuncong/CSHL_data_processed/MD635/MD635_submasks/MD635-F86-2016.05.19-15.55.34_MD635_2_0257/MD635-F86-2016.05.19-15.55.34_MD635_2_0257_submasks_1.png /home/yuncong/CSHL_data_processed/MD635/MD635_mask_unsorted/MD635-F86-2016.05.19-15.55.34_MD635_2_0257_mask.png\n"
     ]
    },
    {
     "name": "stderr",
     "output_type": "stream",
     "text": [
      "Child returned 0\n",
      "Child returned 0\n",
      "Child returned 0\n"
     ]
    },
    {
     "name": "stdout",
     "output_type": "stream",
     "text": [
      "cp /home/yuncong/CSHL_data_processed/MD635/MD635_submasks/MD635-F80-2016.05.19-14.03.50_MD635_2_0239/MD635-F80-2016.05.19-14.03.50_MD635_2_0239_submasks_2.png /home/yuncong/CSHL_data_processed/MD635/MD635_mask_unsorted/MD635-F80-2016.05.19-14.03.50_MD635_2_0239_mask.png\n",
      "cp /home/yuncong/CSHL_data_processed/MD635/MD635_submasks/MD635-F148-2016.05.20-08.00.59_MD635_1_0442/MD635-F148-2016.05.20-08.00.59_MD635_1_0442_submasks_1.png /home/yuncong/CSHL_data_processed/MD635/MD635_mask_unsorted/MD635-F148-2016.05.20-08.00.59_MD635_1_0442_mask.png\n",
      "cp /home/yuncong/CSHL_data_processed/MD635/MD635_submasks/MD635-F3-2016.05.18-16.44.09_MD635_3_0009/MD635-F3-2016.05.18-16.44.09_MD635_3_0009_submasks_1.png /home/yuncong/CSHL_data_processed/MD635/MD635_mask_unsorted/MD635-F3-2016.05.18-16.44.09_MD635_3_0009_mask.png\n"
     ]
    },
    {
     "name": "stderr",
     "output_type": "stream",
     "text": [
      "Child returned 0\n",
      "Child returned 0\n",
      "Child returned 0\n"
     ]
    },
    {
     "name": "stdout",
     "output_type": "stream",
     "text": [
      "cp /home/yuncong/CSHL_data_processed/MD635/MD635_submasks/MD635-F68-2016.05.19-10.18.40_MD635_1_0202/MD635-F68-2016.05.19-10.18.40_MD635_1_0202_submasks_1.png /home/yuncong/CSHL_data_processed/MD635/MD635_mask_unsorted/MD635-F68-2016.05.19-10.18.40_MD635_1_0202_mask.png\n",
      "cp /home/yuncong/CSHL_data_processed/MD635/MD635_submasks/MD635-F45-2016.05.19-02.43.09_MD635_2_0134/MD635-F45-2016.05.19-02.43.09_MD635_2_0134_submasks_1.png /home/yuncong/CSHL_data_processed/MD635/MD635_mask_unsorted/MD635-F45-2016.05.19-02.43.09_MD635_2_0134_mask.png\n",
      "cp /home/yuncong/CSHL_data_processed/MD635/MD635_submasks/MD635-F103-2016.05.19-21.14.34_MD635_1_0307/MD635-F103-2016.05.19-21.14.34_MD635_1_0307_submasks_1.png /home/yuncong/CSHL_data_processed/MD635/MD635_mask_unsorted/MD635-F103-2016.05.19-21.14.34_MD635_1_0307_mask.png\n",
      "cp /home/yuncong/CSHL_data_processed/MD635/MD635_submasks/MD635-F132-2016.05.20-04.14.48_MD635_2_0395/MD635-F132-2016.05.20-04.14.48_MD635_2_0395_submasks_1.png /home/yuncong/CSHL_data_processed/MD635/MD635_mask_unsorted/MD635-F132-2016.05.20-04.14.48_MD635_2_0395_mask.png\n"
     ]
    },
    {
     "name": "stderr",
     "output_type": "stream",
     "text": [
      "Child returned 0\n",
      "Child returned 0\n",
      "Child returned 0\n"
     ]
    },
    {
     "name": "stdout",
     "output_type": "stream",
     "text": [
      "cp /home/yuncong/CSHL_data_processed/MD635/MD635_submasks/MD635-F92-2016.05.19-17.52.45_MD635_1_0274/MD635-F92-2016.05.19-17.52.45_MD635_1_0274_submasks_1.png /home/yuncong/CSHL_data_processed/MD635/MD635_mask_unsorted/MD635-F92-2016.05.19-17.52.45_MD635_1_0274_mask.png\n",
      "cp /home/yuncong/CSHL_data_processed/MD635/MD635_submasks/MD635-F145-2016.05.20-07.21.59_MD635_3_0435/MD635-F145-2016.05.20-07.21.59_MD635_3_0435_submasks_1.png /home/yuncong/CSHL_data_processed/MD635/MD635_mask_unsorted/MD635-F145-2016.05.20-07.21.59_MD635_3_0435_mask.png\n",
      "cp /home/yuncong/CSHL_data_processed/MD635/MD635_submasks/MD635-F154-2016.05.20-09.08.27_MD635_1_0460/MD635-F154-2016.05.20-09.08.27_MD635_1_0460_submasks_1.png /home/yuncong/CSHL_data_processed/MD635/MD635_mask_unsorted/MD635-F154-2016.05.20-09.08.27_MD635_1_0460_mask.png\n"
     ]
    },
    {
     "name": "stderr",
     "output_type": "stream",
     "text": [
      "Child returned 0\n",
      "Child returned 0\n",
      "Child returned 0\n",
      "Child returned 0\n"
     ]
    },
    {
     "name": "stdout",
     "output_type": "stream",
     "text": [
      "cp /home/yuncong/CSHL_data_processed/MD635/MD635_submasks/MD635-F63-2016.05.19-08.39.03_MD635_1_0187/MD635-F63-2016.05.19-08.39.03_MD635_1_0187_submasks_1.png /home/yuncong/CSHL_data_processed/MD635/MD635_mask_unsorted/MD635-F63-2016.05.19-08.39.03_MD635_1_0187_mask.png\n",
      "cp /home/yuncong/CSHL_data_processed/MD635/MD635_submasks/MD635-F93-2016.05.19-18.12.24_MD635_2_0278/MD635-F93-2016.05.19-18.12.24_MD635_2_0278_submasks_1.png /home/yuncong/CSHL_data_processed/MD635/MD635_mask_unsorted/MD635-F93-2016.05.19-18.12.24_MD635_2_0278_mask.png\n",
      "cp /home/yuncong/CSHL_data_processed/MD635/MD635_submasks/MD635-F77-2016.05.19-13.07.42_MD635_2_0230/MD635-F77-2016.05.19-13.07.42_MD635_2_0230_submasks_1.png /home/yuncong/CSHL_data_processed/MD635/MD635_mask_unsorted/MD635-F77-2016.05.19-13.07.42_MD635_2_0230_mask.png\n"
     ]
    },
    {
     "name": "stderr",
     "output_type": "stream",
     "text": [
      "Child returned 0\n",
      "Child returned 0\n",
      "Child returned 0\n"
     ]
    },
    {
     "name": "stdout",
     "output_type": "stream",
     "text": [
      "cp /home/yuncong/CSHL_data_processed/MD635/MD635_submasks/MD635-F136-2016.05.20-05.12.43_MD635_3_0408/MD635-F136-2016.05.20-05.12.43_MD635_3_0408_submasks_1.png /home/yuncong/CSHL_data_processed/MD635/MD635_mask_unsorted/MD635-F136-2016.05.20-05.12.43_MD635_3_0408_mask.png\n",
      "cp /home/yuncong/CSHL_data_processed/MD635/MD635_submasks/MD635-F66-2016.05.19-09.39.33_MD635_2_0197/MD635-F66-2016.05.19-09.39.33_MD635_2_0197_submasks_1.png /home/yuncong/CSHL_data_processed/MD635/MD635_mask_unsorted/MD635-F66-2016.05.19-09.39.33_MD635_2_0197_mask.png\n",
      "cp /home/yuncong/CSHL_data_processed/MD635/MD635_submasks/MD635-F148-2016.05.20-08.00.59_MD635_2_0443/MD635-F148-2016.05.20-08.00.59_MD635_2_0443_submasks_1.png /home/yuncong/CSHL_data_processed/MD635/MD635_mask_unsorted/MD635-F148-2016.05.20-08.00.59_MD635_2_0443_mask.png\n"
     ]
    },
    {
     "name": "stderr",
     "output_type": "stream",
     "text": [
      "Child returned 0\n",
      "Child returned 0\n",
      "Child returned 0\n"
     ]
    },
    {
     "name": "stdout",
     "output_type": "stream",
     "text": [
      "cp /home/yuncong/CSHL_data_processed/MD635/MD635_submasks/MD635-F124-2016.05.20-02.13.16_MD635_1_0370/MD635-F124-2016.05.20-02.13.16_MD635_1_0370_submasks_1.png /home/yuncong/CSHL_data_processed/MD635/MD635_mask_unsorted/MD635-F124-2016.05.20-02.13.16_MD635_1_0370_mask.png\n",
      "cp /home/yuncong/CSHL_data_processed/MD635/MD635_submasks/MD635-F139-2016.05.20-06.00.29_MD635_2_0416/MD635-F139-2016.05.20-06.00.29_MD635_2_0416_submasks_1.png /home/yuncong/CSHL_data_processed/MD635/MD635_mask_unsorted/MD635-F139-2016.05.20-06.00.29_MD635_2_0416_mask.png\n",
      "cp /home/yuncong/CSHL_data_processed/MD635/MD635_submasks/MD635-F15-2016.05.18-18.48.38_MD635_1_0043/MD635-F15-2016.05.18-18.48.38_MD635_1_0043_submasks_1.png /home/yuncong/CSHL_data_processed/MD635/MD635_mask_unsorted/MD635-F15-2016.05.18-18.48.38_MD635_1_0043_mask.png\n"
     ]
    },
    {
     "name": "stderr",
     "output_type": "stream",
     "text": [
      "Child returned 0\n",
      "Child returned 0\n",
      "Child returned 0\n"
     ]
    },
    {
     "name": "stdout",
     "output_type": "stream",
     "text": [
      "cp /home/yuncong/CSHL_data_processed/MD635/MD635_submasks/MD635-F63-2016.05.19-08.39.03_MD635_2_0188/MD635-F63-2016.05.19-08.39.03_MD635_2_0188_submasks_1.png /home/yuncong/CSHL_data_processed/MD635/MD635_mask_unsorted/MD635-F63-2016.05.19-08.39.03_MD635_2_0188_mask.png\n",
      "cp /home/yuncong/CSHL_data_processed/MD635/MD635_submasks/MD635-F8-2016.05.18-17.27.15_MD635_2_0023/MD635-F8-2016.05.18-17.27.15_MD635_2_0023_submasks_1.png /home/yuncong/CSHL_data_processed/MD635/MD635_mask_unsorted/MD635-F8-2016.05.18-17.27.15_MD635_2_0023_mask.png\n",
      "cp /home/yuncong/CSHL_data_processed/MD635/MD635_submasks/MD635-F55-2016.05.23-16.24.34_MD635_3_0165/MD635-F55-2016.05.23-16.24.34_MD635_3_0165_submasks_1.png /home/yuncong/CSHL_data_processed/MD635/MD635_mask_unsorted/MD635-F55-2016.05.23-16.24.34_MD635_3_0165_mask.png\n"
     ]
    },
    {
     "name": "stderr",
     "output_type": "stream",
     "text": [
      "Child returned 0\n",
      "Child returned 0\n",
      "Child returned 0\n"
     ]
    },
    {
     "name": "stdout",
     "output_type": "stream",
     "text": [
      "cp /home/yuncong/CSHL_data_processed/MD635/MD635_submasks/MD635-F59-2016.05.19-07.14.24_MD635_2_0176/MD635-F59-2016.05.19-07.14.24_MD635_2_0176_submasks_1.png /home/yuncong/CSHL_data_processed/MD635/MD635_mask_unsorted/MD635-F59-2016.05.19-07.14.24_MD635_2_0176_mask.png\n",
      "cp /home/yuncong/CSHL_data_processed/MD635/MD635_submasks/MD635-F56-2016.05.19-06.13.54_MD635_2_0167/MD635-F56-2016.05.19-06.13.54_MD635_2_0167_submasks_1.png /home/yuncong/CSHL_data_processed/MD635/MD635_mask_unsorted/MD635-F56-2016.05.19-06.13.54_MD635_2_0167_mask.png\n",
      "cp /home/yuncong/CSHL_data_processed/MD635/MD635_submasks/MD635-F69-2016.05.19-10.38.34_MD635_1_0205/MD635-F69-2016.05.19-10.38.34_MD635_1_0205_submasks_1.png /home/yuncong/CSHL_data_processed/MD635/MD635_mask_unsorted/MD635-F69-2016.05.19-10.38.34_MD635_1_0205_mask.png\n",
      "cp /home/yuncong/CSHL_data_processed/MD635/MD635_submasks/MD635-F112-2016.05.19-23.28.08_MD635_1_0334/MD635-F112-2016.05.19-23.28.08_MD635_1_0334_submasks_1.png /home/yuncong/CSHL_data_processed/MD635/MD635_mask_unsorted/MD635-F112-2016.05.19-23.28.08_MD635_1_0334_mask.png\n"
     ]
    },
    {
     "name": "stderr",
     "output_type": "stream",
     "text": [
      "Child returned 0\n",
      "Child returned 0\n",
      "Child returned 0\n"
     ]
    },
    {
     "name": "stdout",
     "output_type": "stream",
     "text": [
      "cp /home/yuncong/CSHL_data_processed/MD635/MD635_submasks/MD635-F54-2016.05.23-16.02.27_MD635_2_0161/MD635-F54-2016.05.23-16.02.27_MD635_2_0161_submasks_1.png /home/yuncong/CSHL_data_processed/MD635/MD635_mask_unsorted/MD635-F54-2016.05.23-16.02.27_MD635_2_0161_mask.png\n",
      "cp /home/yuncong/CSHL_data_processed/MD635/MD635_submasks/MD635-F73-2016.05.19-11.56.44_MD635_2_0218/MD635-F73-2016.05.19-11.56.44_MD635_2_0218_submasks_1.png /home/yuncong/CSHL_data_processed/MD635/MD635_mask_unsorted/MD635-F73-2016.05.19-11.56.44_MD635_2_0218_mask.png\n",
      "cp /home/yuncong/CSHL_data_processed/MD635/MD635_submasks/MD635-F157-2016.05.20-13.32.17_MD635_3_0471/MD635-F157-2016.05.20-13.32.17_MD635_3_0471_submasks_1.png /home/yuncong/CSHL_data_processed/MD635/MD635_mask_unsorted/MD635-F157-2016.05.20-13.32.17_MD635_3_0471_mask.png\n",
      "cp /home/yuncong/CSHL_data_processed/MD635/MD635_submasks/MD635-F113-2016.05.19-23.40.05_MD635_1_0337/MD635-F113-2016.05.19-23.40.05_MD635_1_0337_submasks_1.png /home/yuncong/CSHL_data_processed/MD635/MD635_mask_unsorted/MD635-F113-2016.05.19-23.40.05_MD635_1_0337_mask.png\n"
     ]
    },
    {
     "name": "stderr",
     "output_type": "stream",
     "text": [
      "Child returned 0\n",
      "Child returned 0\n",
      "Child returned 0\n",
      "Child returned 0\n",
      "Child returned 0\n",
      "Child returned 0\n",
      "Child returned 0\n"
     ]
    },
    {
     "name": "stdout",
     "output_type": "stream",
     "text": [
      "cp /home/yuncong/CSHL_data_processed/MD635/MD635_submasks/MD635-F35-2016.05.18-23.40.52_MD635_3_0105/MD635-F35-2016.05.18-23.40.52_MD635_3_0105_submasks_1.png /home/yuncong/CSHL_data_processed/MD635/MD635_mask_unsorted/MD635-F35-2016.05.18-23.40.52_MD635_3_0105_mask.png\n",
      "cp /home/yuncong/CSHL_data_processed/MD635/MD635_submasks/MD635-F161-2016.05.20-09.59.58_MD635_2_0482/MD635-F161-2016.05.20-09.59.58_MD635_2_0482_submasks_1.png /home/yuncong/CSHL_data_processed/MD635/MD635_mask_unsorted/MD635-F161-2016.05.20-09.59.58_MD635_2_0482_mask.png\n",
      "cp /home/yuncong/CSHL_data_processed/MD635/MD635_submasks/MD635-F108-2016.05.19-22.32.40_MD635_1_0322/MD635-F108-2016.05.19-22.32.40_MD635_1_0322_submasks_1.png /home/yuncong/CSHL_data_processed/MD635/MD635_mask_unsorted/MD635-F108-2016.05.19-22.32.40_MD635_1_0322_mask.png\n",
      "cp /home/yuncong/CSHL_data_processed/MD635/MD635_submasks/MD635-F49-2016.05.19-03.59.43_MD635_1_0145/MD635-F49-2016.05.19-03.59.43_MD635_1_0145_submasks_1.png /home/yuncong/CSHL_data_processed/MD635/MD635_mask_unsorted/MD635-F49-2016.05.19-03.59.43_MD635_1_0145_mask.png\n"
     ]
    },
    {
     "name": "stderr",
     "output_type": "stream",
     "text": [
      "Child returned 0\n",
      "Child returned 0\n",
      "Child returned 0\n",
      "Child returned 0\n"
     ]
    },
    {
     "name": "stdout",
     "output_type": "stream",
     "text": [
      "cp /home/yuncong/CSHL_data_processed/MD635/MD635_submasks/MD635-F40-2016.05.19-01.08.51_MD635_1_0118/MD635-F40-2016.05.19-01.08.51_MD635_1_0118_submasks_1.png /home/yuncong/CSHL_data_processed/MD635/MD635_mask_unsorted/MD635-F40-2016.05.19-01.08.51_MD635_1_0118_mask.png\n",
      "cp /home/yuncong/CSHL_data_processed/MD635/MD635_submasks/MD635-F46-2016.05.19-03.02.11_MD635_1_0136/MD635-F46-2016.05.19-03.02.11_MD635_1_0136_submasks_1.png /home/yuncong/CSHL_data_processed/MD635/MD635_mask_unsorted/MD635-F46-2016.05.19-03.02.11_MD635_1_0136_mask.png\n",
      "cp /home/yuncong/CSHL_data_processed/MD635/MD635_submasks/MD635-F147-2016.05.20-07.48.51_MD635_3_0441/MD635-F147-2016.05.20-07.48.51_MD635_3_0441_submasks_1.png /home/yuncong/CSHL_data_processed/MD635/MD635_mask_unsorted/MD635-F147-2016.05.20-07.48.51_MD635_3_0441_mask.png\n",
      "cp /home/yuncong/CSHL_data_processed/MD635/MD635_submasks/MD635-F11-2016.05.18-17.57.22_MD635_3_0033/MD635-F11-2016.05.18-17.57.22_MD635_3_0033_submasks_1.png /home/yuncong/CSHL_data_processed/MD635/MD635_mask_unsorted/MD635-F11-2016.05.18-17.57.22_MD635_3_0033_mask.png\n"
     ]
    },
    {
     "name": "stderr",
     "output_type": "stream",
     "text": [
      "Child returned 0\n",
      "Child returned 0\n",
      "Child returned 0\n"
     ]
    },
    {
     "name": "stdout",
     "output_type": "stream",
     "text": [
      "cp /home/yuncong/CSHL_data_processed/MD635/MD635_submasks/MD635-F111-2016.05.19-23.13.55_MD635_1_0331/MD635-F111-2016.05.19-23.13.55_MD635_1_0331_submasks_1.png /home/yuncong/CSHL_data_processed/MD635/MD635_mask_unsorted/MD635-F111-2016.05.19-23.13.55_MD635_1_0331_mask.png\n",
      "cp /home/yuncong/CSHL_data_processed/MD635/MD635_submasks/MD635-F100-2016.05.19-20.25.22_MD635_2_0299/MD635-F100-2016.05.19-20.25.22_MD635_2_0299_submasks_1.png /home/yuncong/CSHL_data_processed/MD635/MD635_mask_unsorted/MD635-F100-2016.05.19-20.25.22_MD635_2_0299_mask.png\n",
      "cp /home/yuncong/CSHL_data_processed/MD635/MD635_submasks/MD635-F143-2016.05.20-06.54.44_MD635_3_0429/MD635-F143-2016.05.20-06.54.44_MD635_3_0429_submasks_1.png /home/yuncong/CSHL_data_processed/MD635/MD635_mask_unsorted/MD635-F143-2016.05.20-06.54.44_MD635_3_0429_mask.png\n"
     ]
    },
    {
     "name": "stderr",
     "output_type": "stream",
     "text": [
      "Child returned 0\n",
      "Child returned 0\n",
      "Child returned 0\n",
      "Child returned 0\n"
     ]
    },
    {
     "name": "stdout",
     "output_type": "stream",
     "text": [
      "cp /home/yuncong/CSHL_data_processed/MD635/MD635_submasks/MD635-F161-2016.05.20-09.59.58_MD635_1_0481/MD635-F161-2016.05.20-09.59.58_MD635_1_0481_submasks_1.png /home/yuncong/CSHL_data_processed/MD635/MD635_mask_unsorted/MD635-F161-2016.05.20-09.59.58_MD635_1_0481_mask.png\n",
      "cp /home/yuncong/CSHL_data_processed/MD635/MD635_submasks/MD635-F127-2016.05.20-02.59.46_MD635_1_0379/MD635-F127-2016.05.20-02.59.46_MD635_1_0379_submasks_1.png /home/yuncong/CSHL_data_processed/MD635/MD635_mask_unsorted/MD635-F127-2016.05.20-02.59.46_MD635_1_0379_mask.png\n",
      "cp /home/yuncong/CSHL_data_processed/MD635/MD635_submasks/MD635-F38-2016.05.19-00.34.28_MD635_1_0112/MD635-F38-2016.05.19-00.34.28_MD635_1_0112_submasks_1.png /home/yuncong/CSHL_data_processed/MD635/MD635_mask_unsorted/MD635-F38-2016.05.19-00.34.28_MD635_1_0112_mask.png\n",
      "cp /home/yuncong/CSHL_data_processed/MD635/MD635_submasks/MD635-F123-2016.05.20-13.02.20_MD635_3_0369/MD635-F123-2016.05.20-13.02.20_MD635_3_0369_submasks_1.png /home/yuncong/CSHL_data_processed/MD635/MD635_mask_unsorted/MD635-F123-2016.05.20-13.02.20_MD635_3_0369_mask.png\n"
     ]
    },
    {
     "name": "stderr",
     "output_type": "stream",
     "text": [
      "Child returned 0\n",
      "Child returned 0\n",
      "Child returned 0\n"
     ]
    },
    {
     "name": "stdout",
     "output_type": "stream",
     "text": [
      "cp /home/yuncong/CSHL_data_processed/MD635/MD635_submasks/MD635-F125-2016.05.20-02.28.59_MD635_3_0375/MD635-F125-2016.05.20-02.28.59_MD635_3_0375_submasks_1.png /home/yuncong/CSHL_data_processed/MD635/MD635_mask_unsorted/MD635-F125-2016.05.20-02.28.59_MD635_3_0375_mask.png\n",
      "cp /home/yuncong/CSHL_data_processed/MD635/MD635_submasks/MD635-F12-2016.05.18-18.10.09_MD635_1_0034/MD635-F12-2016.05.18-18.10.09_MD635_1_0034_submasks_1.png /home/yuncong/CSHL_data_processed/MD635/MD635_mask_unsorted/MD635-F12-2016.05.18-18.10.09_MD635_1_0034_mask.png\n",
      "cp /home/yuncong/CSHL_data_processed/MD635/MD635_submasks/MD635-F43-2016.05.19-02.06.14_MD635_2_0128/MD635-F43-2016.05.19-02.06.14_MD635_2_0128_submasks_1.png /home/yuncong/CSHL_data_processed/MD635/MD635_mask_unsorted/MD635-F43-2016.05.19-02.06.14_MD635_2_0128_mask.png\n"
     ]
    },
    {
     "name": "stderr",
     "output_type": "stream",
     "text": [
      "Child returned 0\n",
      "Child returned 0\n",
      "Child returned 0\n"
     ]
    },
    {
     "name": "stdout",
     "output_type": "stream",
     "text": [
      "cp /home/yuncong/CSHL_data_processed/MD635/MD635_submasks/MD635-F97-2016.05.19-19.26.37_MD635_1_0289/MD635-F97-2016.05.19-19.26.37_MD635_1_0289_submasks_1.png /home/yuncong/CSHL_data_processed/MD635/MD635_mask_unsorted/MD635-F97-2016.05.19-19.26.37_MD635_1_0289_mask.png\n",
      "cp /home/yuncong/CSHL_data_processed/MD635/MD635_submasks/MD635-F145-2016.05.20-07.21.59_MD635_2_0434/MD635-F145-2016.05.20-07.21.59_MD635_2_0434_submasks_1.png /home/yuncong/CSHL_data_processed/MD635/MD635_mask_unsorted/MD635-F145-2016.05.20-07.21.59_MD635_2_0434_mask.png\n",
      "cp /home/yuncong/CSHL_data_processed/MD635/MD635_submasks/MD635-F70-2016.05.19-10.57.59_MD635_2_0209/MD635-F70-2016.05.19-10.57.59_MD635_2_0209_submasks_1.png /home/yuncong/CSHL_data_processed/MD635/MD635_mask_unsorted/MD635-F70-2016.05.19-10.57.59_MD635_2_0209_mask.png\n",
      "cp /home/yuncong/CSHL_data_processed/MD635/MD635_submasks/MD635-F104-2016.05.19-21.30.09_MD635_2_0311/MD635-F104-2016.05.19-21.30.09_MD635_2_0311_submasks_1.png /home/yuncong/CSHL_data_processed/MD635/MD635_mask_unsorted/MD635-F104-2016.05.19-21.30.09_MD635_2_0311_mask.png"
     ]
    },
    {
     "name": "stderr",
     "output_type": "stream",
     "text": [
      "Child returned 0\n",
      "Child returned 0\n",
      "Child returned 0\n"
     ]
    },
    {
     "name": "stdout",
     "output_type": "stream",
     "text": [
      "\n",
      "cp /home/yuncong/CSHL_data_processed/MD635/MD635_submasks/MD635-F53-2016.05.23-15.42.22_MD635_1_0157/MD635-F53-2016.05.23-15.42.22_MD635_1_0157_submasks_1.png /home/yuncong/CSHL_data_processed/MD635/MD635_mask_unsorted/MD635-F53-2016.05.23-15.42.22_MD635_1_0157_mask.png\n",
      "cp /home/yuncong/CSHL_data_processed/MD635/MD635_submasks/MD635-F131-2016.05.20-03.59.18_MD635_2_0392/MD635-F131-2016.05.20-03.59.18_MD635_2_0392_submasks_1.png /home/yuncong/CSHL_data_processed/MD635/MD635_mask_unsorted/MD635-F131-2016.05.20-03.59.18_MD635_2_0392_mask.png\n"
     ]
    },
    {
     "name": "stderr",
     "output_type": "stream",
     "text": [
      "Child returned 0\n",
      "Child returned 0\n",
      "Child returned 0\n"
     ]
    },
    {
     "name": "stdout",
     "output_type": "stream",
     "text": [
      "cp /home/yuncong/CSHL_data_processed/MD635/MD635_submasks/MD635-F121-2016.05.20-01.55.48_MD635_1_0361/MD635-F121-2016.05.20-01.55.48_MD635_1_0361_submasks_1.png /home/yuncong/CSHL_data_processed/MD635/MD635_mask_unsorted/MD635-F121-2016.05.20-01.55.48_MD635_1_0361_mask.png\n",
      "cp /home/yuncong/CSHL_data_processed/MD635/MD635_submasks/MD635-F51-2016.05.23-15.04.39_MD635_3_0153/MD635-F51-2016.05.23-15.04.39_MD635_3_0153_submasks_1.png /home/yuncong/CSHL_data_processed/MD635/MD635_mask_unsorted/MD635-F51-2016.05.23-15.04.39_MD635_3_0153_mask.png\n",
      "cp /home/yuncong/CSHL_data_processed/MD635/MD635_submasks/MD635-F151-2016.05.20-08.36.34_MD635_3_0453/MD635-F151-2016.05.20-08.36.34_MD635_3_0453_submasks_1.png /home/yuncong/CSHL_data_processed/MD635/MD635_mask_unsorted/MD635-F151-2016.05.20-08.36.34_MD635_3_0453_mask.png\n",
      "cp /home/yuncong/CSHL_data_processed/MD635/MD635_submasks/MD635-F67-2016.05.19-09.59.06_MD635_2_0200/MD635-F67-2016.05.19-09.59.06_MD635_2_0200_submasks_1.png /home/yuncong/CSHL_data_processed/MD635/MD635_mask_unsorted/MD635-F67-2016.05.19-09.59.06_MD635_2_0200_mask.png\n"
     ]
    },
    {
     "name": "stderr",
     "output_type": "stream",
     "text": [
      "Child returned 0\n",
      "Child returned 0\n",
      "Child returned 0\n"
     ]
    },
    {
     "name": "stdout",
     "output_type": "stream",
     "text": [
      "cp /home/yuncong/CSHL_data_processed/MD635/MD635_submasks/MD635-F52-2016.05.19-04.56.12_MD635_2_0155/MD635-F52-2016.05.19-04.56.12_MD635_2_0155_submasks_1.png /home/yuncong/CSHL_data_processed/MD635/MD635_mask_unsorted/MD635-F52-2016.05.19-04.56.12_MD635_2_0155_mask.png\n",
      "cp /home/yuncong/CSHL_data_processed/MD635/MD635_submasks/MD635-F12-2016.05.18-18.10.09_MD635_3_0036/MD635-F12-2016.05.18-18.10.09_MD635_3_0036_submasks_1.png /home/yuncong/CSHL_data_processed/MD635/MD635_mask_unsorted/MD635-F12-2016.05.18-18.10.09_MD635_3_0036_mask.png\n",
      "cp /home/yuncong/CSHL_data_processed/MD635/MD635_submasks/MD635-F138-2016.05.20-05.45.33_MD635_1_0412/MD635-F138-2016.05.20-05.45.33_MD635_1_0412_submasks_1.png /home/yuncong/CSHL_data_processed/MD635/MD635_mask_unsorted/MD635-F138-2016.05.20-05.45.33_MD635_1_0412_mask.png\n",
      "cp /home/yuncong/CSHL_data_processed/MD635/MD635_submasks/MD635-F153-2016.05.20-08.57.53_MD635_3_0459/MD635-F153-2016.05.20-08.57.53_MD635_3_0459_submasks_1.png /home/yuncong/CSHL_data_processed/MD635/MD635_mask_unsorted/MD635-F153-2016.05.20-08.57.53_MD635_3_0459_mask.png\n"
     ]
    },
    {
     "name": "stderr",
     "output_type": "stream",
     "text": [
      "Child returned 0\n",
      "Child returned 0\n",
      "Child returned 0\n"
     ]
    },
    {
     "name": "stdout",
     "output_type": "stream",
     "text": [
      "cp /home/yuncong/CSHL_data_processed/MD635/MD635_submasks/MD635-F26-2016.05.18-21.16.59_MD635_1_0076/MD635-F26-2016.05.18-21.16.59_MD635_1_0076_submasks_1.png /home/yuncong/CSHL_data_processed/MD635/MD635_mask_unsorted/MD635-F26-2016.05.18-21.16.59_MD635_1_0076_mask.png\n",
      "cp /home/yuncong/CSHL_data_processed/MD635/MD635_submasks/MD635-F20-2016.05.18-19.52.29_MD635_2_0059/MD635-F20-2016.05.18-19.52.29_MD635_2_0059_submasks_1.png /home/yuncong/CSHL_data_processed/MD635/MD635_mask_unsorted/MD635-F20-2016.05.18-19.52.29_MD635_2_0059_mask.png\n",
      "cp /home/yuncong/CSHL_data_processed/MD635/MD635_submasks/MD635-F6-2016.05.18-17.10.18_MD635_3_0018/MD635-F6-2016.05.18-17.10.18_MD635_3_0018_submasks_1.png /home/yuncong/CSHL_data_processed/MD635/MD635_mask_unsorted/MD635-F6-2016.05.18-17.10.18_MD635_3_0018_mask.png\n",
      "cp /home/yuncong/CSHL_data_processed/MD635/MD635_submasks/MD635-F80-2016.05.19-14.03.50_MD635_1_0238/MD635-F80-2016.05.19-14.03.50_MD635_1_0238_submasks_2.png /home/yuncong/CSHL_data_processed/MD635/MD635_mask_unsorted/MD635-F80-2016.05.19-14.03.50_MD635_1_0238_mask.png\n"
     ]
    },
    {
     "name": "stderr",
     "output_type": "stream",
     "text": [
      "Child returned 0\n",
      "Child returned 0\n",
      "Child returned 0\n",
      "Child returned 0\n",
      "Child returned 0\n",
      "Child returned 0\n"
     ]
    },
    {
     "name": "stdout",
     "output_type": "stream",
     "text": [
      "cp /home/yuncong/CSHL_data_processed/MD635/MD635_submasks/MD635-F126-2016.05.20-02.44.24_MD635_3_0378/MD635-F126-2016.05.20-02.44.24_MD635_3_0378_submasks_1.png /home/yuncong/CSHL_data_processed/MD635/MD635_mask_unsorted/MD635-F126-2016.05.20-02.44.24_MD635_3_0378_mask.png\n",
      "cp /home/yuncong/CSHL_data_processed/MD635/MD635_submasks/MD635-F107-2016.05.19-22.17.03_MD635_2_0320/MD635-F107-2016.05.19-22.17.03_MD635_2_0320_submasks_1.png /home/yuncong/CSHL_data_processed/MD635/MD635_mask_unsorted/MD635-F107-2016.05.19-22.17.03_MD635_2_0320_mask.png\n",
      "cp /home/yuncong/CSHL_data_processed/MD635/MD635_submasks/MD635-F21-2016.05.18-20.05.17_MD635_2_0062/MD635-F21-2016.05.18-20.05.17_MD635_2_0062_submasks_1.png /home/yuncong/CSHL_data_processed/MD635/MD635_mask_unsorted/MD635-F21-2016.05.18-20.05.17_MD635_2_0062_mask.png\n"
     ]
    },
    {
     "name": "stderr",
     "output_type": "stream",
     "text": [
      "Child returned 0\n",
      "Child returned 0\n",
      "Child returned 0\n"
     ]
    },
    {
     "name": "stdout",
     "output_type": "stream",
     "text": [
      "cp /home/yuncong/CSHL_data_processed/MD635/MD635_submasks/MD635-F44-2016.05.19-02.24.57_MD635_1_0130/MD635-F44-2016.05.19-02.24.57_MD635_1_0130_submasks_1.png /home/yuncong/CSHL_data_processed/MD635/MD635_mask_unsorted/MD635-F44-2016.05.19-02.24.57_MD635_1_0130_mask.png\n",
      "cp /home/yuncong/CSHL_data_processed/MD635/MD635_submasks/MD635-F165-2016.05.20-10.33.56_MD635_1_0493/MD635-F165-2016.05.20-10.33.56_MD635_1_0493_submasks_1.png /home/yuncong/CSHL_data_processed/MD635/MD635_mask_unsorted/MD635-F165-2016.05.20-10.33.56_MD635_1_0493_mask.png\n",
      "cp /home/yuncong/CSHL_data_processed/MD635/MD635_submasks/MD635-F7-2016.05.18-17.18.49_MD635_2_0020/MD635-F7-2016.05.18-17.18.49_MD635_2_0020_submasks_1.png /home/yuncong/CSHL_data_processed/MD635/MD635_mask_unsorted/MD635-F7-2016.05.18-17.18.49_MD635_2_0020_mask.png\n"
     ]
    },
    {
     "name": "stderr",
     "output_type": "stream",
     "text": [
      "Child returned 0\n",
      "Child returned 0\n",
      "Child returned 0\n"
     ]
    },
    {
     "name": "stdout",
     "output_type": "stream",
     "text": [
      "cp /home/yuncong/CSHL_data_processed/MD635/MD635_submasks/MD635-F27-2016.05.18-21.31.38_MD635_3_0081/MD635-F27-2016.05.18-21.31.38_MD635_3_0081_submasks_1.png /home/yuncong/CSHL_data_processed/MD635/MD635_mask_unsorted/MD635-F27-2016.05.18-21.31.38_MD635_3_0081_mask.png\n",
      "cp /home/yuncong/CSHL_data_processed/MD635/MD635_submasks/MD635-F120-2016.05.20-01.39.14_MD635_2_0359/MD635-F120-2016.05.20-01.39.14_MD635_2_0359_submasks_1.png /home/yuncong/CSHL_data_processed/MD635/MD635_mask_unsorted/MD635-F120-2016.05.20-01.39.14_MD635_2_0359_mask.png\n",
      "cp /home/yuncong/CSHL_data_processed/MD635/MD635_submasks/MD635-F30-2016.05.18-22.15.39_MD635_3_0090/MD635-F30-2016.05.18-22.15.39_MD635_3_0090_submasks_1.png /home/yuncong/CSHL_data_processed/MD635/MD635_mask_unsorted/MD635-F30-2016.05.18-22.15.39_MD635_3_0090_mask.png\n"
     ]
    },
    {
     "name": "stderr",
     "output_type": "stream",
     "text": [
      "Child returned 0\n",
      "Child returned 0\n",
      "Child returned 0\n"
     ]
    },
    {
     "name": "stdout",
     "output_type": "stream",
     "text": [
      "cp /home/yuncong/CSHL_data_processed/MD635/MD635_submasks/MD635-F103-2016.05.19-21.14.34_MD635_2_0308/MD635-F103-2016.05.19-21.14.34_MD635_2_0308_submasks_1.png /home/yuncong/CSHL_data_processed/MD635/MD635_mask_unsorted/MD635-F103-2016.05.19-21.14.34_MD635_2_0308_mask.png\n",
      "cp /home/yuncong/CSHL_data_processed/MD635/MD635_submasks/MD635-F94-2016.05.19-18.31.07_MD635_1_0280/MD635-F94-2016.05.19-18.31.07_MD635_1_0280_submasks_1.png /home/yuncong/CSHL_data_processed/MD635/MD635_mask_unsorted/MD635-F94-2016.05.19-18.31.07_MD635_1_0280_mask.png\n",
      "cp /home/yuncong/CSHL_data_processed/MD635/MD635_submasks/MD635-F156-2016.05.20-13.20.34_MD635_3_0468/MD635-F156-2016.05.20-13.20.34_MD635_3_0468_submasks_1.png /home/yuncong/CSHL_data_processed/MD635/MD635_mask_unsorted/MD635-F156-2016.05.20-13.20.34_MD635_3_0468_mask.png\n"
     ]
    },
    {
     "name": "stderr",
     "output_type": "stream",
     "text": [
      "Child returned 0\n",
      "Child returned 0\n",
      "Child returned 0\n"
     ]
    },
    {
     "name": "stdout",
     "output_type": "stream",
     "text": [
      "cp /home/yuncong/CSHL_data_processed/MD635/MD635_submasks/MD635-F72-2016.05.19-11.37.07_MD635_2_0215/MD635-F72-2016.05.19-11.37.07_MD635_2_0215_submasks_1.png /home/yuncong/CSHL_data_processed/MD635/MD635_mask_unsorted/MD635-F72-2016.05.19-11.37.07_MD635_2_0215_mask.png\n",
      "cp /home/yuncong/CSHL_data_processed/MD635/MD635_submasks/MD635-F154-2016.05.20-09.08.27_MD635_3_0462/MD635-F154-2016.05.20-09.08.27_MD635_3_0462_submasks_1.png /home/yuncong/CSHL_data_processed/MD635/MD635_mask_unsorted/MD635-F154-2016.05.20-09.08.27_MD635_3_0462_mask.png\n",
      "cp /home/yuncong/CSHL_data_processed/MD635/MD635_submasks/MD635-F50-2016.05.23-14.45.07_MD635_3_0150/MD635-F50-2016.05.23-14.45.07_MD635_3_0150_submasks_1.png /home/yuncong/CSHL_data_processed/MD635/MD635_mask_unsorted/MD635-F50-2016.05.23-14.45.07_MD635_3_0150_mask.png\n"
     ]
    },
    {
     "name": "stderr",
     "output_type": "stream",
     "text": [
      "Child returned 0\n",
      "Child returned 0\n",
      "Child returned 0\n"
     ]
    },
    {
     "name": "stdout",
     "output_type": "stream",
     "text": [
      "cp /home/yuncong/CSHL_data_processed/MD635/MD635_submasks/MD635-F31-2016.05.18-22.31.18_MD635_1_0091/MD635-F31-2016.05.18-22.31.18_MD635_1_0091_submasks_1.png /home/yuncong/CSHL_data_processed/MD635/MD635_mask_unsorted/MD635-F31-2016.05.18-22.31.18_MD635_1_0091_mask.png\n",
      "cp /home/yuncong/CSHL_data_processed/MD635/MD635_submasks/MD635-F9-2016.05.18-17.35.56_MD635_1_0025/MD635-F9-2016.05.18-17.35.56_MD635_1_0025_submasks_1.png /home/yuncong/CSHL_data_processed/MD635/MD635_mask_unsorted/MD635-F9-2016.05.18-17.35.56_MD635_1_0025_mask.png\n",
      "cp /home/yuncong/CSHL_data_processed/MD635/MD635_submasks/MD635-F72-2016.05.19-11.37.07_MD635_1_0214/MD635-F72-2016.05.19-11.37.07_MD635_1_0214_submasks_1.png /home/yuncong/CSHL_data_processed/MD635/MD635_mask_unsorted/MD635-F72-2016.05.19-11.37.07_MD635_1_0214_mask.png\n"
     ]
    },
    {
     "name": "stderr",
     "output_type": "stream",
     "text": [
      "Child returned 0\n",
      "Child returned 0\n",
      "Child returned 0\n"
     ]
    },
    {
     "name": "stdout",
     "output_type": "stream",
     "text": [
      "cp /home/yuncong/CSHL_data_processed/MD635/MD635_submasks/MD635-F137-2016.05.20-05.30.36_MD635_3_0411/MD635-F137-2016.05.20-05.30.36_MD635_3_0411_submasks_1.png /home/yuncong/CSHL_data_processed/MD635/MD635_mask_unsorted/MD635-F137-2016.05.20-05.30.36_MD635_3_0411_mask.png\n",
      "cp /home/yuncong/CSHL_data_processed/MD635/MD635_submasks/MD635-F30-2016.05.18-22.15.39_MD635_2_0089/MD635-F30-2016.05.18-22.15.39_MD635_2_0089_submasks_1.png /home/yuncong/CSHL_data_processed/MD635/MD635_mask_unsorted/MD635-F30-2016.05.18-22.15.39_MD635_2_0089_mask.png\n",
      "cp /home/yuncong/CSHL_data_processed/MD635/MD635_submasks/MD635-F140-2016.05.20-06.14.16_MD635_1_0418/MD635-F140-2016.05.20-06.14.16_MD635_1_0418_submasks_1.png /home/yuncong/CSHL_data_processed/MD635/MD635_mask_unsorted/MD635-F140-2016.05.20-06.14.16_MD635_1_0418_mask.png\n"
     ]
    },
    {
     "name": "stderr",
     "output_type": "stream",
     "text": [
      "Child returned 0\n",
      "Child returned 0\n",
      "Child returned 0\n"
     ]
    },
    {
     "name": "stdout",
     "output_type": "stream",
     "text": [
      "cp /home/yuncong/CSHL_data_processed/MD635/MD635_submasks/MD635-F8-2016.05.18-17.27.15_MD635_3_0024/MD635-F8-2016.05.18-17.27.15_MD635_3_0024_submasks_1.png /home/yuncong/CSHL_data_processed/MD635/MD635_mask_unsorted/MD635-F8-2016.05.18-17.27.15_MD635_3_0024_mask.png\n",
      "cp /home/yuncong/CSHL_data_processed/MD635/MD635_submasks/MD635-F147-2016.05.20-07.48.51_MD635_1_0439/MD635-F147-2016.05.20-07.48.51_MD635_1_0439_submasks_1.png /home/yuncong/CSHL_data_processed/MD635/MD635_mask_unsorted/MD635-F147-2016.05.20-07.48.51_MD635_1_0439_mask.png\n",
      "cp /home/yuncong/CSHL_data_processed/MD635/MD635_submasks/MD635-F86-2016.05.19-15.55.34_MD635_1_0256/MD635-F86-2016.05.19-15.55.34_MD635_1_0256_submasks_1.png /home/yuncong/CSHL_data_processed/MD635/MD635_mask_unsorted/MD635-F86-2016.05.19-15.55.34_MD635_1_0256_mask.png\n",
      "cp /home/yuncong/CSHL_data_processed/MD635/MD635_submasks/MD635-F88-2016.05.19-16.34.48_MD635_1_0262/MD635-F88-2016.05.19-16.34.48_MD635_1_0262_submasks_1.png /home/yuncong/CSHL_data_processed/MD635/MD635_mask_unsorted/MD635-F88-2016.05.19-16.34.48_MD635_1_0262_mask.png\n"
     ]
    },
    {
     "name": "stderr",
     "output_type": "stream",
     "text": [
      "Child returned 0\n",
      "Child returned 0\n",
      "Child returned 0\n",
      "Child returned 0\n"
     ]
    },
    {
     "name": "stdout",
     "output_type": "stream",
     "text": [
      "cp /home/yuncong/CSHL_data_processed/MD635/MD635_submasks/MD635-F12-2016.05.18-18.10.09_MD635_2_0035/MD635-F12-2016.05.18-18.10.09_MD635_2_0035_submasks_1.png /home/yuncong/CSHL_data_processed/MD635/MD635_mask_unsorted/MD635-F12-2016.05.18-18.10.09_MD635_2_0035_mask.png\n",
      "cp /home/yuncong/CSHL_data_processed/MD635/MD635_submasks/MD635-F53-2016.05.19-05.14.50_MD635_3_0159/MD635-F53-2016.05.19-05.14.50_MD635_3_0159_submasks_1.png /home/yuncong/CSHL_data_processed/MD635/MD635_mask_unsorted/MD635-F53-2016.05.19-05.14.50_MD635_3_0159_mask.png\n",
      "cp /home/yuncong/CSHL_data_processed/MD635/MD635_submasks/MD635-F152-2016.05.20-08.47.02_MD635_2_0455/MD635-F152-2016.05.20-08.47.02_MD635_2_0455_submasks_1.png /home/yuncong/CSHL_data_processed/MD635/MD635_mask_unsorted/MD635-F152-2016.05.20-08.47.02_MD635_2_0455_mask.png\n",
      "cp /home/yuncong/CSHL_data_processed/MD635/MD635_submasks/MD635-F164-2016.05.20-10.25.54_MD635_3_0492/MD635-F164-2016.05.20-10.25.54_MD635_3_0492_submasks_1.png /home/yuncong/CSHL_data_processed/MD635/MD635_mask_unsorted/MD635-F164-2016.05.20-10.25.54_MD635_3_0492_mask.png\n"
     ]
    },
    {
     "name": "stderr",
     "output_type": "stream",
     "text": [
      "Child returned 0\n",
      "Child returned 0\n",
      "Child returned 0\n"
     ]
    },
    {
     "name": "stdout",
     "output_type": "stream",
     "text": [
      "cp /home/yuncong/CSHL_data_processed/MD635/MD635_submasks/MD635-F122-2016.05.23-17.02.25_MD635_1_0364/MD635-F122-2016.05.23-17.02.25_MD635_1_0364_submasks_1.png /home/yuncong/CSHL_data_processed/MD635/MD635_mask_unsorted/MD635-F122-2016.05.23-17.02.25_MD635_1_0364_mask.png\n",
      "cp /home/yuncong/CSHL_data_processed/MD635/MD635_submasks/MD635-F23-2016.05.18-20.33.07_MD635_3_0069/MD635-F23-2016.05.18-20.33.07_MD635_3_0069_submasks_1.png /home/yuncong/CSHL_data_processed/MD635/MD635_mask_unsorted/MD635-F23-2016.05.18-20.33.07_MD635_3_0069_mask.png\n",
      "cp /home/yuncong/CSHL_data_processed/MD635/MD635_submasks/MD635-F124-2016.05.20-02.13.16_MD635_2_0371/MD635-F124-2016.05.20-02.13.16_MD635_2_0371_submasks_1.png /home/yuncong/CSHL_data_processed/MD635/MD635_mask_unsorted/MD635-F124-2016.05.20-02.13.16_MD635_2_0371_mask.png\n"
     ]
    },
    {
     "name": "stderr",
     "output_type": "stream",
     "text": [
      "Child returned 0\n",
      "Child returned 0\n",
      "Child returned 0\n"
     ]
    },
    {
     "name": "stdout",
     "output_type": "stream",
     "text": [
      "cp /home/yuncong/CSHL_data_processed/MD635/MD635_submasks/MD635-F131-2016.05.20-03.59.18_MD635_3_0393/MD635-F131-2016.05.20-03.59.18_MD635_3_0393_submasks_1.png /home/yuncong/CSHL_data_processed/MD635/MD635_mask_unsorted/MD635-F131-2016.05.20-03.59.18_MD635_3_0393_mask.png\n",
      "cp /home/yuncong/CSHL_data_processed/MD635/MD635_submasks/MD635-F126-2016.05.20-02.44.24_MD635_1_0376/MD635-F126-2016.05.20-02.44.24_MD635_1_0376_submasks_1.png /home/yuncong/CSHL_data_processed/MD635/MD635_mask_unsorted/MD635-F126-2016.05.20-02.44.24_MD635_1_0376_mask.png\n",
      "cp /home/yuncong/CSHL_data_processed/MD635/MD635_submasks/MD635-F135-2016.05.20-04.58.19_MD635_3_0405/MD635-F135-2016.05.20-04.58.19_MD635_3_0405_submasks_1.png /home/yuncong/CSHL_data_processed/MD635/MD635_mask_unsorted/MD635-F135-2016.05.20-04.58.19_MD635_3_0405_mask.png\n"
     ]
    },
    {
     "name": "stderr",
     "output_type": "stream",
     "text": [
      "Child returned 0\n",
      "Child returned 0\n",
      "Child returned 0\n"
     ]
    },
    {
     "name": "stdout",
     "output_type": "stream",
     "text": [
      "cp /home/yuncong/CSHL_data_processed/MD635/MD635_submasks/MD635-F78-2016.05.19-13.26.25_MD635_2_0233/MD635-F78-2016.05.19-13.26.25_MD635_2_0233_submasks_1.png /home/yuncong/CSHL_data_processed/MD635/MD635_mask_unsorted/MD635-F78-2016.05.19-13.26.25_MD635_2_0233_mask.png\n",
      "cp /home/yuncong/CSHL_data_processed/MD635/MD635_submasks/MD635-F117-2016.05.20-00.49.06_MD635_1_0349/MD635-F117-2016.05.20-00.49.06_MD635_1_0349_submasks_1.png /home/yuncong/CSHL_data_processed/MD635/MD635_mask_unsorted/MD635-F117-2016.05.20-00.49.06_MD635_1_0349_mask.png\n",
      "cp /home/yuncong/CSHL_data_processed/MD635/MD635_submasks/MD635-F115-2016.05.20-00.14.05_MD635_3_0345/MD635-F115-2016.05.20-00.14.05_MD635_3_0345_submasks_1.png /home/yuncong/CSHL_data_processed/MD635/MD635_mask_unsorted/MD635-F115-2016.05.20-00.14.05_MD635_3_0345_mask.png\n",
      "cp /home/yuncong/CSHL_data_processed/MD635/MD635_submasks/MD635-F35-2016.05.18-23.40.52_MD635_1_0103/MD635-F35-2016.05.18-23.40.52_MD635_1_0103_submasks_1.png /home/yuncong/CSHL_data_processed/MD635/MD635_mask_unsorted/MD635-F35-2016.05.18-23.40.52_MD635_1_0103_mask.png\n"
     ]
    },
    {
     "name": "stderr",
     "output_type": "stream",
     "text": [
      "Child returned 0\n",
      "Child returned 0\n",
      "Child returned 0\n"
     ]
    },
    {
     "name": "stdout",
     "output_type": "stream",
     "text": [
      "cp /home/yuncong/CSHL_data_processed/MD635/MD635_submasks/MD635-F15-2016.05.18-18.48.38_MD635_3_0045/MD635-F15-2016.05.18-18.48.38_MD635_3_0045_submasks_1.png /home/yuncong/CSHL_data_processed/MD635/MD635_mask_unsorted/MD635-F15-2016.05.18-18.48.38_MD635_3_0045_mask.png\n",
      "cp /home/yuncong/CSHL_data_processed/MD635/MD635_submasks/MD635-F66-2016.05.19-09.39.33_MD635_1_0196/MD635-F66-2016.05.19-09.39.33_MD635_1_0196_submasks_1.png /home/yuncong/CSHL_data_processed/MD635/MD635_mask_unsorted/MD635-F66-2016.05.19-09.39.33_MD635_1_0196_mask.png\n",
      "cp /home/yuncong/CSHL_data_processed/MD635/MD635_submasks/MD635-F168-2016.05.20-10.55.38_MD635_3_0504/MD635-F168-2016.05.20-10.55.38_MD635_3_0504_submasks_1.png /home/yuncong/CSHL_data_processed/MD635/MD635_mask_unsorted/MD635-F168-2016.05.20-10.55.38_MD635_3_0504_mask.png\n",
      "cp /home/yuncong/CSHL_data_processed/MD635/MD635_submasks/MD635-F153-2016.05.20-08.57.53_MD635_1_0457/MD635-F153-2016.05.20-08.57.53_MD635_1_0457_submasks_1.png /home/yuncong/CSHL_data_processed/MD635/MD635_mask_unsorted/MD635-F153-2016.05.20-08.57.53_MD635_1_0457_mask.png\n"
     ]
    },
    {
     "name": "stderr",
     "output_type": "stream",
     "text": [
      "Child returned 0\n",
      "Child returned 0\n",
      "Child returned 0\n",
      "Child returned 0\n"
     ]
    },
    {
     "name": "stdout",
     "output_type": "stream",
     "text": [
      "cp /home/yuncong/CSHL_data_processed/MD635/MD635_submasks/MD635-F28-2016.05.18-21.46.26_MD635_3_0084/MD635-F28-2016.05.18-21.46.26_MD635_3_0084_submasks_1.png /home/yuncong/CSHL_data_processed/MD635/MD635_mask_unsorted/MD635-F28-2016.05.18-21.46.26_MD635_3_0084_mask.png\n",
      "cp /home/yuncong/CSHL_data_processed/MD635/MD635_submasks/MD635-F87-2016.05.19-16.15.25_MD635_1_0259/MD635-F87-2016.05.19-16.15.25_MD635_1_0259_submasks_1.png /home/yuncong/CSHL_data_processed/MD635/MD635_mask_unsorted/MD635-F87-2016.05.19-16.15.25_MD635_1_0259_mask.png\n",
      "cp /home/yuncong/CSHL_data_processed/MD635/MD635_submasks/MD635-F32-2016.05.18-22.50.16_MD635_3_0096/MD635-F32-2016.05.18-22.50.16_MD635_3_0096_submasks_1.png /home/yuncong/CSHL_data_processed/MD635/MD635_mask_unsorted/MD635-F32-2016.05.18-22.50.16_MD635_3_0096_mask.png\n"
     ]
    },
    {
     "name": "stderr",
     "output_type": "stream",
     "text": [
      "Child returned 0\n",
      "Child returned 0\n",
      "Child returned 0\n"
     ]
    },
    {
     "name": "stdout",
     "output_type": "stream",
     "text": [
      "cp /home/yuncong/CSHL_data_processed/MD635/MD635_submasks/MD635-F104-2016.05.19-21.30.09_MD635_1_0310/MD635-F104-2016.05.19-21.30.09_MD635_1_0310_submasks_1.png /home/yuncong/CSHL_data_processed/MD635/MD635_mask_unsorted/MD635-F104-2016.05.19-21.30.09_MD635_1_0310_mask.png\n",
      "cp /home/yuncong/CSHL_data_processed/MD635/MD635_submasks/MD635-F144-2016.05.20-07.08.32_MD635_2_0431/MD635-F144-2016.05.20-07.08.32_MD635_2_0431_submasks_1.png /home/yuncong/CSHL_data_processed/MD635/MD635_mask_unsorted/MD635-F144-2016.05.20-07.08.32_MD635_2_0431_mask.png\n",
      "cp /home/yuncong/CSHL_data_processed/MD635/MD635_submasks/MD635-F23-2016.05.18-20.33.07_MD635_2_0068/MD635-F23-2016.05.18-20.33.07_MD635_2_0068_submasks_1.png /home/yuncong/CSHL_data_processed/MD635/MD635_mask_unsorted/MD635-F23-2016.05.18-20.33.07_MD635_2_0068_mask.png\n"
     ]
    },
    {
     "name": "stderr",
     "output_type": "stream",
     "text": [
      "Child returned 0\n",
      "Child returned 0\n",
      "Child returned 0\n"
     ]
    },
    {
     "name": "stdout",
     "output_type": "stream",
     "text": [
      "cp /home/yuncong/CSHL_data_processed/MD635/MD635_submasks/MD635-F46-2016.05.19-03.02.11_MD635_2_0137/MD635-F46-2016.05.19-03.02.11_MD635_2_0137_submasks_1.png /home/yuncong/CSHL_data_processed/MD635/MD635_mask_unsorted/MD635-F46-2016.05.19-03.02.11_MD635_2_0137_mask.png\n",
      "cp /home/yuncong/CSHL_data_processed/MD635/MD635_submasks/MD635-F59-2016.05.19-07.14.24_MD635_1_0175/MD635-F59-2016.05.19-07.14.24_MD635_1_0175_submasks_1.png /home/yuncong/CSHL_data_processed/MD635/MD635_mask_unsorted/MD635-F59-2016.05.19-07.14.24_MD635_1_0175_mask.png\n",
      "cp /home/yuncong/CSHL_data_processed/MD635/MD635_submasks/MD635-F75-2016.05.19-12.32.46_MD635_2_0224/MD635-F75-2016.05.19-12.32.46_MD635_2_0224_submasks_1.png /home/yuncong/CSHL_data_processed/MD635/MD635_mask_unsorted/MD635-F75-2016.05.19-12.32.46_MD635_2_0224_mask.png\n",
      "cp /home/yuncong/CSHL_data_processed/MD635/MD635_submasks/MD635-F96-2016.05.19-19.08.35_MD635_1_0286/MD635-F96-2016.05.19-19.08.35_MD635_1_0286_submasks_1.png /home/yuncong/CSHL_data_processed/MD635/MD635_mask_unsorted/MD635-F96-2016.05.19-19.08.35_MD635_1_0286_mask.png\n"
     ]
    },
    {
     "name": "stderr",
     "output_type": "stream",
     "text": [
      "Child returned 0\n",
      "Child returned 0\n",
      "Child returned 0\n",
      "Child returned 0\n"
     ]
    },
    {
     "name": "stdout",
     "output_type": "stream",
     "text": [
      "cp /home/yuncong/CSHL_data_processed/MD635/MD635_submasks/MD635-F7-2016.05.18-17.18.49_MD635_3_0021/MD635-F7-2016.05.18-17.18.49_MD635_3_0021_submasks_1.png /home/yuncong/CSHL_data_processed/MD635/MD635_mask_unsorted/MD635-F7-2016.05.18-17.18.49_MD635_3_0021_mask.png\n",
      "cp /home/yuncong/CSHL_data_processed/MD635/MD635_submasks/MD635-F30-2016.05.18-22.15.39_MD635_1_0088/MD635-F30-2016.05.18-22.15.39_MD635_1_0088_submasks_1.png /home/yuncong/CSHL_data_processed/MD635/MD635_mask_unsorted/MD635-F30-2016.05.18-22.15.39_MD635_1_0088_mask.png\n",
      "cp /home/yuncong/CSHL_data_processed/MD635/MD635_submasks/MD635-F111-2016.05.19-23.13.55_MD635_2_0332/MD635-F111-2016.05.19-23.13.55_MD635_2_0332_submasks_1.png /home/yuncong/CSHL_data_processed/MD635/MD635_mask_unsorted/MD635-F111-2016.05.19-23.13.55_MD635_2_0332_mask.png\n",
      "cp /home/yuncong/CSHL_data_processed/MD635/MD635_submasks/MD635-F91-2016.05.19-17.33.31_MD635_2_0272/MD635-F91-2016.05.19-17.33.31_MD635_2_0272_submasks_1.png /home/yuncong/CSHL_data_processed/MD635/MD635_mask_unsorted/MD635-F91-2016.05.19-17.33.31_MD635_2_0272_mask.png\n"
     ]
    },
    {
     "name": "stderr",
     "output_type": "stream",
     "text": [
      "Child returned 0\n",
      "Child returned 0\n",
      "Child returned 0\n",
      "Child returned 0\n",
      "Child returned 0\n",
      "Child returned 0\n"
     ]
    },
    {
     "name": "stdout",
     "output_type": "stream",
     "text": [
      "cp /home/yuncong/CSHL_data_processed/MD635/MD635_submasks/MD635-F60-2016.05.19-07.35.14_MD635_1_0178/MD635-F60-2016.05.19-07.35.14_MD635_1_0178_submasks_1.png /home/yuncong/CSHL_data_processed/MD635/MD635_mask_unsorted/MD635-F60-2016.05.19-07.35.14_MD635_1_0178_mask.png\n",
      "cp /home/yuncong/CSHL_data_processed/MD635/MD635_submasks/MD635-F51-2016.05.23-15.04.39_MD635_1_0151/MD635-F51-2016.05.23-15.04.39_MD635_1_0151_submasks_1.png /home/yuncong/CSHL_data_processed/MD635/MD635_mask_unsorted/MD635-F51-2016.05.23-15.04.39_MD635_1_0151_mask.png\n",
      "cp /home/yuncong/CSHL_data_processed/MD635/MD635_submasks/MD635-F47-2016.05.19-03.19.48_MD635_1_0139/MD635-F47-2016.05.19-03.19.48_MD635_1_0139_submasks_1.png /home/yuncong/CSHL_data_processed/MD635/MD635_mask_unsorted/MD635-F47-2016.05.19-03.19.48_MD635_1_0139_mask.png\n"
     ]
    },
    {
     "name": "stderr",
     "output_type": "stream",
     "text": [
      "Child returned 0\n",
      "Child returned 0\n",
      "Child returned 0\n",
      "Child returned 0\n"
     ]
    },
    {
     "name": "stdout",
     "output_type": "stream",
     "text": [
      "cp /home/yuncong/CSHL_data_processed/MD635/MD635_submasks/MD635-F123-2016.05.20-13.02.20_MD635_2_0368/MD635-F123-2016.05.20-13.02.20_MD635_2_0368_submasks_1.png /home/yuncong/CSHL_data_processed/MD635/MD635_mask_unsorted/MD635-F123-2016.05.20-13.02.20_MD635_2_0368_mask.png\n",
      "cp /home/yuncong/CSHL_data_processed/MD635/MD635_submasks/MD635-F118-2016.05.20-01.05.52_MD635_1_0352/MD635-F118-2016.05.20-01.05.52_MD635_1_0352_submasks_1.png /home/yuncong/CSHL_data_processed/MD635/MD635_mask_unsorted/MD635-F118-2016.05.20-01.05.52_MD635_1_0352_mask.png\n",
      "cp /home/yuncong/CSHL_data_processed/MD635/MD635_submasks/MD635-F62-2016.05.19-08.18.25_MD635_1_0184/MD635-F62-2016.05.19-08.18.25_MD635_1_0184_submasks_1.png /home/yuncong/CSHL_data_processed/MD635/MD635_mask_unsorted/MD635-F62-2016.05.19-08.18.25_MD635_1_0184_mask.png\n",
      "cp /home/yuncong/CSHL_data_processed/MD635/MD635_submasks/MD635-F114-2016.05.19-23.57.07_MD635_3_0342/MD635-F114-2016.05.19-23.57.07_MD635_3_0342_submasks_1.png /home/yuncong/CSHL_data_processed/MD635/MD635_mask_unsorted/MD635-F114-2016.05.19-23.57.07_MD635_3_0342_mask.png\n"
     ]
    },
    {
     "name": "stderr",
     "output_type": "stream",
     "text": [
      "Child returned 0\n",
      "Child returned 0\n",
      "Child returned 0\n"
     ]
    },
    {
     "name": "stdout",
     "output_type": "stream",
     "text": [
      "cp /home/yuncong/CSHL_data_processed/MD635/MD635_submasks/MD635-F133-2016.05.20-04.28.44_MD635_1_0397/MD635-F133-2016.05.20-04.28.44_MD635_1_0397_submasks_1.png /home/yuncong/CSHL_data_processed/MD635/MD635_mask_unsorted/MD635-F133-2016.05.20-04.28.44_MD635_1_0397_mask.png\n",
      "cp /home/yuncong/CSHL_data_processed/MD635/MD635_submasks/MD635-F17-2016.05.18-19.14.24_MD635_3_0051/MD635-F17-2016.05.18-19.14.24_MD635_3_0051_submasks_1.png /home/yuncong/CSHL_data_processed/MD635/MD635_mask_unsorted/MD635-F17-2016.05.18-19.14.24_MD635_3_0051_mask.png\n",
      "cp /home/yuncong/CSHL_data_processed/MD635/MD635_submasks/MD635-F16-2016.05.18-19.01.39_MD635_2_0047/MD635-F16-2016.05.18-19.01.39_MD635_2_0047_submasks_1.png /home/yuncong/CSHL_data_processed/MD635/MD635_mask_unsorted/MD635-F16-2016.05.18-19.01.39_MD635_2_0047_mask.png\n"
     ]
    },
    {
     "name": "stderr",
     "output_type": "stream",
     "text": [
      "Child returned 0\n",
      "Child returned 0\n",
      "Child returned 0\n"
     ]
    },
    {
     "name": "stdout",
     "output_type": "stream",
     "text": [
      "cp /home/yuncong/CSHL_data_processed/MD635/MD635_submasks/MD635-F83-2016.05.19-14.59.24_MD635_1_0247/MD635-F83-2016.05.19-14.59.24_MD635_1_0247_submasks_1.png /home/yuncong/CSHL_data_processed/MD635/MD635_mask_unsorted/MD635-F83-2016.05.19-14.59.24_MD635_1_0247_mask.png\n",
      "cp /home/yuncong/CSHL_data_processed/MD635/MD635_submasks/MD635-F164-2016.05.20-10.25.54_MD635_2_0491/MD635-F164-2016.05.20-10.25.54_MD635_2_0491_submasks_1.png /home/yuncong/CSHL_data_processed/MD635/MD635_mask_unsorted/MD635-F164-2016.05.20-10.25.54_MD635_2_0491_mask.png\n",
      "cp /home/yuncong/CSHL_data_processed/MD635/MD635_submasks/MD635-F133-2016.05.20-04.28.44_MD635_2_0398/MD635-F133-2016.05.20-04.28.44_MD635_2_0398_submasks_1.png /home/yuncong/CSHL_data_processed/MD635/MD635_mask_unsorted/MD635-F133-2016.05.20-04.28.44_MD635_2_0398_mask.png\n"
     ]
    },
    {
     "name": "stderr",
     "output_type": "stream",
     "text": [
      "Child returned 0\n",
      "Child returned 0\n",
      "Child returned 0\n"
     ]
    },
    {
     "name": "stdout",
     "output_type": "stream",
     "text": [
      "cp /home/yuncong/CSHL_data_processed/MD635/MD635_submasks/MD635-F77-2016.05.19-13.07.42_MD635_1_0229/MD635-F77-2016.05.19-13.07.42_MD635_1_0229_submasks_1.png /home/yuncong/CSHL_data_processed/MD635/MD635_mask_unsorted/MD635-F77-2016.05.19-13.07.42_MD635_1_0229_mask.png\n",
      "cp /home/yuncong/CSHL_data_processed/MD635/MD635_submasks/MD635-F96-2016.05.19-19.08.35_MD635_2_0287/MD635-F96-2016.05.19-19.08.35_MD635_2_0287_submasks_1.png /home/yuncong/CSHL_data_processed/MD635/MD635_mask_unsorted/MD635-F96-2016.05.19-19.08.35_MD635_2_0287_mask.png\n",
      "cp /home/yuncong/CSHL_data_processed/MD635/MD635_submasks/MD635-F74-2016.05.19-12.15.18_MD635_2_0221/MD635-F74-2016.05.19-12.15.18_MD635_2_0221_submasks_1.png /home/yuncong/CSHL_data_processed/MD635/MD635_mask_unsorted/MD635-F74-2016.05.19-12.15.18_MD635_2_0221_mask.png\n"
     ]
    },
    {
     "name": "stderr",
     "output_type": "stream",
     "text": [
      "Child returned 0\n",
      "Child returned 0\n",
      "Child returned 0\n"
     ]
    },
    {
     "name": "stdout",
     "output_type": "stream",
     "text": [
      "cp /home/yuncong/CSHL_data_processed/MD635/MD635_submasks/MD635-F1-2016.05.18-16.23.55_MD635_1_0001/MD635-F1-2016.05.18-16.23.55_MD635_1_0001_submasks_1.png /home/yuncong/CSHL_data_processed/MD635/MD635_mask_unsorted/MD635-F1-2016.05.18-16.23.55_MD635_1_0001_mask.png\n",
      "cp /home/yuncong/CSHL_data_processed/MD635/MD635_submasks/MD635-F162-2016.05.20-10.09.24_MD635_2_0485/MD635-F162-2016.05.20-10.09.24_MD635_2_0485_submasks_1.png /home/yuncong/CSHL_data_processed/MD635/MD635_mask_unsorted/MD635-F162-2016.05.20-10.09.24_MD635_2_0485_mask.png\n",
      "cp /home/yuncong/CSHL_data_processed/MD635/MD635_submasks/MD635-F98-2016.05.19-19.46.20_MD635_1_0292/MD635-F98-2016.05.19-19.46.20_MD635_1_0292_submasks_1.png /home/yuncong/CSHL_data_processed/MD635/MD635_mask_unsorted/MD635-F98-2016.05.19-19.46.20_MD635_1_0292_mask.png\n"
     ]
    },
    {
     "name": "stderr",
     "output_type": "stream",
     "text": [
      "Child returned 0\n",
      "Child returned 0\n",
      "Child returned 0\n"
     ]
    },
    {
     "name": "stdout",
     "output_type": "stream",
     "text": [
      "cp /home/yuncong/CSHL_data_processed/MD635/MD635_submasks/MD635-F118-2016.05.20-01.05.52_MD635_2_0353/MD635-F118-2016.05.20-01.05.52_MD635_2_0353_submasks_1.png /home/yuncong/CSHL_data_processed/MD635/MD635_mask_unsorted/MD635-F118-2016.05.20-01.05.52_MD635_2_0353_mask.png\n",
      "cp /home/yuncong/CSHL_data_processed/MD635/MD635_submasks/MD635-F4-2016.05.18-16.52.52_MD635_3_0012/MD635-F4-2016.05.18-16.52.52_MD635_3_0012_submasks_1.png /home/yuncong/CSHL_data_processed/MD635/MD635_mask_unsorted/MD635-F4-2016.05.18-16.52.52_MD635_3_0012_mask.png\n",
      "cp /home/yuncong/CSHL_data_processed/MD635/MD635_submasks/MD635-F155-2016.05.20-09.19.32_MD635_3_0465/MD635-F155-2016.05.20-09.19.32_MD635_3_0465_submasks_1.png /home/yuncong/CSHL_data_processed/MD635/MD635_mask_unsorted/MD635-F155-2016.05.20-09.19.32_MD635_3_0465_mask.png\n"
     ]
    },
    {
     "name": "stderr",
     "output_type": "stream",
     "text": [
      "Child returned 0\n",
      "Child returned 0\n",
      "Child returned 0\n",
      "Child returned 0\n"
     ]
    },
    {
     "name": "stdout",
     "output_type": "stream",
     "text": [
      "cp /home/yuncong/CSHL_data_processed/MD635/MD635_submasks/MD635-F10-2016.05.18-17.44.17_MD635_1_0028/MD635-F10-2016.05.18-17.44.17_MD635_1_0028_submasks_1.png /home/yuncong/CSHL_data_processed/MD635/MD635_mask_unsorted/MD635-F10-2016.05.18-17.44.17_MD635_1_0028_mask.png\n",
      "cp /home/yuncong/CSHL_data_processed/MD635/MD635_submasks/MD635-F85-2016.05.19-15.36.47_MD635_2_0254/MD635-F85-2016.05.19-15.36.47_MD635_2_0254_submasks_1.png /home/yuncong/CSHL_data_processed/MD635/MD635_mask_unsorted/MD635-F85-2016.05.19-15.36.47_MD635_2_0254_mask.png\n",
      "cp /home/yuncong/CSHL_data_processed/MD635/MD635_submasks/MD635-F120-2016.05.20-01.39.14_MD635_1_0358/MD635-F120-2016.05.20-01.39.14_MD635_1_0358_submasks_1.png /home/yuncong/CSHL_data_processed/MD635/MD635_mask_unsorted/MD635-F120-2016.05.20-01.39.14_MD635_1_0358_mask.png\n",
      "cp /home/yuncong/CSHL_data_processed/MD635/MD635_submasks/MD635-F6-2016.05.18-17.10.18_MD635_1_0016/MD635-F6-2016.05.18-17.10.18_MD635_1_0016_submasks_1.png /home/yuncong/CSHL_data_processed/MD635/MD635_mask_unsorted/MD635-F6-2016.05.18-17.10.18_MD635_1_0016_mask.png\n"
     ]
    },
    {
     "name": "stderr",
     "output_type": "stream",
     "text": [
      "Child returned 0\n"
     ]
    }
   ],
   "source": [
    "for fn, d in human_labels_reviewed.iteritems():\n",
    "    correct_indices = [index for index, l in d.iteritems() if l == 1]\n",
    "    assert len(correct_indices) == 1\n",
    "    correct_index = correct_indices[0]\n",
    "    \n",
    "    from_fn = os.path.join(submask_dir, '%(fn)s/%(fn)s_submasks_%(corr_idx)d.png' % dict(fn=fn, corr_idx=correct_index))\n",
    "    to_fn = os.path.join(reviewed_mask_dir, '%(fn)s_mask.png' % dict(fn=fn, corr_idx=correct_index))\n",
    "    \n",
    "    execute_command('cp %(from)s %(to)s' % {'from': from_fn, 'to': to_fn})"
   ]
  },
  {
   "cell_type": "markdown",
   "metadata": {},
   "source": [
    "# Learn"
   ]
  },
  {
   "cell_type": "code",
   "execution_count": 41,
   "metadata": {
    "collapsed": false,
    "scrolled": true
   },
   "outputs": [],
   "source": [
    "from scipy.stats import entropy\n",
    "\n",
    "labels = defaultdict(dict)\n",
    "for fn in os.listdir(submask_dir):\n",
    "    img_rgb = imread('/home/yuncong/CSHL_data/%(stack)s/%(fn)s.tif' % dict(stack=stack, fn=fn))\n",
    "\n",
    "    mask_fns = os.listdir(submask_dir + '/' + fn)\n",
    "    masks = [imread(submask_dir + '/' + fn + '/' + mask_fn).astype(bool) for mask_fn in mask_fns]\n",
    "    vals = [img_rgb[mask, 2] for mask in masks]\n",
    "    ents = [entropy(v) for v in vals]\n",
    "    stds = [np.std(v) for v in vals]\n",
    "    \n",
    "    vals_r = [img_rgb[mask, 0] for mask in masks]\n",
    "    ents_r = [entropy(v) for v in vals_r]\n",
    "    stds_r = [np.std(v) for v in vals_r]\n",
    "    \n",
    "    vals_g = [img_rgb[mask, 1] for mask in masks]\n",
    "    ents_g = [entropy(v) for v in vals_g]\n",
    "    stds_g = [np.std(v) for v in vals_g]\n",
    "    \n",
    "    areas = [np.count_nonzero(mask) for mask in masks]\n",
    "    indices = [int(mask_fn[:-4].split('_')[-1]) for mask_fn in mask_fns]\n",
    "    n = len(indices)\n",
    "    if n == 1:\n",
    "        labels[fn][indices[0]] = (1, ents[0], stds[0], ents_r[0], stds_r[0], ents_g[0], stds_g[0])\n",
    "    else:\n",
    "        for i in range(n):\n",
    "            if areas[i] < 10000:\n",
    "                labels[fn][indices[i]] = (-1, ents[i], stds[i], ents_r[i], stds_r[i], ents_g[i], stds_g[i])\n",
    "                \n",
    "labels.default_factory = None"
   ]
  },
  {
   "cell_type": "code",
   "execution_count": 64,
   "metadata": {
    "collapsed": false
   },
   "outputs": [],
   "source": [
    "D = np.array([dd for d in labels.itervalues() for dd in d.itervalues()])\n",
    "Y = D[:,0]\n",
    "X = D[:, 1:3]"
   ]
  },
  {
   "cell_type": "code",
   "execution_count": 65,
   "metadata": {
    "collapsed": false
   },
   "outputs": [
    {
     "name": "stdout",
     "output_type": "stream",
     "text": [
      "[[ 0.41265194 -0.00855474]] [-1.99669771]\n",
      "Train acc: 0.842519685039\n"
     ]
    }
   ],
   "source": [
    "from sklearn.linear_model import LogisticRegression\n",
    "\n",
    "clf = LogisticRegression(C=.1)\n",
    "clf.fit(X, Y)\n",
    "print clf.coef_, clf.intercept_\n",
    "\n",
    "n = len(D)\n",
    "print 'Train acc:', np.count_nonzero((clf.predict_proba(X)[:, 1] > 0.5) == (Y == 1)) / float(n)"
   ]
  },
  {
   "cell_type": "code",
   "execution_count": 66,
   "metadata": {
    "collapsed": false
   },
   "outputs": [],
   "source": [
    "predictions = defaultdict(dict)\n",
    "\n",
    "for fn in os.listdir(submask_dir):\n",
    "    img_rgb = imread('/home/yuncong/CSHL_data/%(stack)s/%(fn)s.tif' % dict(stack=stack, fn=fn))\n",
    "\n",
    "    mask_fns = os.listdir(submask_dir + '/' + fn)\n",
    "    masks = [imread(submask_dir + '/' + fn + '/' + mask_fn).astype(bool) for mask_fn in mask_fns]\n",
    "    \n",
    "    vals = [img_rgb[mask, 2] for mask in masks]\n",
    "    ents = [entropy(v) for v in vals]\n",
    "    stds = [np.std(v) for v in vals]\n",
    "    \n",
    "    vals_r = [img_rgb[mask, 0] for mask in masks]\n",
    "    ents_r = [entropy(v) for v in vals_r]\n",
    "    stds_r = [np.std(v) for v in vals_r]\n",
    "    \n",
    "    vals_g = [img_rgb[mask, 1] for mask in masks]\n",
    "    ents_g = [entropy(v) for v in vals_g]\n",
    "    stds_g = [np.std(v) for v in vals_g]\n",
    "    \n",
    "    areas = np.array([np.count_nonzero(mask) for mask in masks])\n",
    "    indices = [int(mask_fn[:-4].split('_')[-1]) for mask_fn in mask_fns]\n",
    "#     scores = clf.predict_proba(np.c_[ents, stds, ents_r, stds_r, ents_g, stds_g])[:,1]\n",
    "    scores = clf.predict_proba(np.c_[ents, stds])[:,1]\n",
    "#     y = scores > 0\n",
    "    n = len(indices)\n",
    "    for i in range(n):\n",
    "        predictions[fn][indices[i]] = (scores[i], ents[i], stds[i], ents_r[i], stds_r[i], ents_g[i], stds_g[i])\n",
    "                \n",
    "predictions.default_factory = None"
   ]
  },
  {
   "cell_type": "code",
   "execution_count": 67,
   "metadata": {
    "collapsed": false
   },
   "outputs": [
    {
     "data": {
      "text/plain": [
       "0.671264367816092"
      ]
     },
     "execution_count": 67,
     "metadata": {},
     "output_type": "execute_result"
    }
   ],
   "source": [
    "np.count_nonzero([np.count_nonzero([dd[0] > .5 for dd in d.itervalues()]) == 1 \n",
    "                  for fn, d in sorted(predictions.items())]) / float(len(predictions))"
   ]
  },
  {
   "cell_type": "code",
   "execution_count": 63,
   "metadata": {
    "collapsed": false
   },
   "outputs": [
    {
     "data": {
      "text/plain": [
       "0.6735632183908046"
      ]
     },
     "execution_count": 63,
     "metadata": {},
     "output_type": "execute_result"
    }
   ],
   "source": [
    "np.count_nonzero([np.count_nonzero([dd[0] > .5 for dd in d.itervalues()]) == 1 \n",
    "                  for fn, d in sorted(predictions.items())]) / float(len(predictions))"
   ]
  },
  {
   "cell_type": "code",
   "execution_count": 30,
   "metadata": {
    "collapsed": false
   },
   "outputs": [
    {
     "name": "stdout",
     "output_type": "stream",
     "text": [
      "MD635-F1-2016.05.18-16.23.55_MD635_1_0001\n",
      "{1: (0.57592460634799425, 9.4961567909212441, 188.88298762329401), 2: (0.019003734200276481, 4.2162216573936142, 430.99717060169513)}\n",
      "MD635-F1-2016.05.18-16.23.55_MD635_2_0002\n",
      "{1: (0.54674999804326818, 9.3757649037961741, 196.92972909976601)}\n",
      "MD635-F1-2016.05.18-16.23.55_MD635_3_0003\n",
      "{1: (0.7024007975007881, 9.6317876217615392, 130.81893293147476)}\n",
      "MD635-F10-2016.05.18-17.44.17_MD635_1_0028\n",
      "{1: (0.76095416966302576, 10.69381201555241, 147.07719304975049)}\n",
      "MD635-F10-2016.05.18-17.44.17_MD635_2_0029\n",
      "{1: (0.76225978499679681, 10.729165349722916, 147.94192833193506)}\n",
      "MD635-F10-2016.05.18-17.44.17_MD635_3_0030\n",
      "{1: (0.75230140300595871, 10.733340492487867, 154.47718309712192), 2: (0.12723172432884941, 5.2233029476985955, 243.65078852202561)}\n",
      "MD635-F100-2016.05.19-20.25.22_MD635_1_0298\n",
      "{1: (0.90747894938519436, 12.444578854364272, 99.985272046396119)}\n",
      "MD635-F100-2016.05.19-20.25.22_MD635_2_0299\n",
      "{1: (0.8838738248736433, 12.425716358184289, 128.7194720785057)}\n",
      "MD635-F101-2016.05.19-20.44.28_MD635_1_0301\n",
      "{1: (0.85783843560838491, 12.29270441154938, 149.44457136687959)}\n",
      "MD635-F101-2016.05.19-20.44.28_MD635_2_0302\n",
      "{1: (0.85990633528131921, 12.285909277381739, 147.12250427734821), 2: (0.84317242397101655, 10.40052912293414, 71.665123712618509)}\n",
      "MD635-F102-2016.05.19-20.58.51_MD635_1_0304\n",
      "{1: (0.90560000011055897, 12.305872844906089, 95.886985646982268), 2: (0.92347771294537084, 11.336889877110693, 22.318307649263929), 3: (0.90891880641840406, 10.960265704581126, 26.368170932870751), 4: (0.90457200565505236, 11.219261720863674, 44.871334305167899)}\n",
      "MD635-F102-2016.05.19-20.58.51_MD635_2_0305\n",
      "{1: (0.90758661664413443, 12.304371739500741, 93.072171420387761)}\n",
      "MD635-F103-2016.05.19-21.14.34_MD635_1_0307\n",
      "{1: (0.92236732940488153, 12.348570122264757, 72.943037120337323)}\n",
      "MD635-F103-2016.05.19-21.14.34_MD635_2_0308\n",
      "{1: (0.90671439551893007, 12.298780210337053, 94.012952367700308)}\n",
      "MD635-F104-2016.05.19-21.30.09_MD635_1_0310\n",
      "{1: (0.91648624755205288, 12.316775477069335, 80.693051111007989), 2: (0.93791027365306923, 11.72430417001139, 14.762043175142551)}\n",
      "MD635-F104-2016.05.19-21.30.09_MD635_2_0311\n",
      "{1: (0.89248184297731703, 12.276176372793531, 111.37032470037475)}\n",
      "MD635-F105-2016.05.19-21.45.41_MD635_1_0313\n",
      "{1: (0.91413891186653573, 12.317661523984096, 84.275810685768107), 2: (0.92238960437699835, 11.291568395807568, 21.920436882810041)}\n",
      "MD635-F105-2016.05.19-21.45.41_MD635_2_0314\n",
      "{1: (0.89365496931448052, 12.246347151546628, 108.49547326906746)}\n",
      "MD635-F106-2016.05.19-22.01.46_MD635_1_0316\n",
      "{1: (0.90806206979528681, 12.316037734966432, 92.970723008845198)}\n",
      "MD635-F106-2016.05.19-22.01.46_MD635_2_0317\n",
      "{1: (0.88544017776674666, 12.248598986290641, 118.38150750022906)}\n",
      "MD635-F107-2016.05.19-22.17.03_MD635_1_0319\n",
      "{1: (0.92636596860983511, 12.342990341082411, 65.986729972003957)}\n",
      "MD635-F107-2016.05.19-22.17.03_MD635_2_0320\n",
      "{1: (0.91083808418947376, 12.2741561153374, 87.009741947359032)}\n",
      "MD635-F108-2016.05.19-22.32.40_MD635_1_0322\n",
      "{1: (0.91950446283041187, 12.28808431063309, 74.621926433228026), 2: (0.93162488868256876, 11.503189910798831, 16.154155662791187)}\n",
      "MD635-F108-2016.05.19-22.32.40_MD635_2_0323\n",
      "{1: (0.90309920852219305, 12.251552874678019, 96.646409157101786), 2: (0.92044424354460408, 11.08835558066672, 15.25884606474475)}\n",
      "MD635-F109-2016.05.19-22.46.43_MD635_1_0325\n",
      "{1: (0.93327704305584791, 12.315600663620533, 52.275805628286513), 2: (0.6639298919821538, 7.8636167800838912, 66.323749351160245)}\n",
      "MD635-F109-2016.05.19-22.46.43_MD635_2_0326\n",
      "{1: (0.91696475687850054, 12.25301232058222, 76.884617119355838), 2: (0.48825980486738801, 7.6206399657307244, 139.68209086571932)}\n",
      "MD635-F11-2016.05.18-17.57.22_MD635_1_0031\n",
      "{1: (0.73685941393905063, 10.787726965052203, 166.59425611783783)}\n",
      "MD635-F11-2016.05.18-17.57.22_MD635_2_0032\n",
      "{1: (0.77424741256634988, 10.791119843533396, 143.05839984966249), 2: (0.39205905277465175, 6.4167800905072863, 127.39892567007226), 3: (0.22832553908271339, 5.3916651690386912, 169.02608748149669)}\n",
      "MD635-F11-2016.05.18-17.57.22_MD635_3_0033\n",
      "{1: (0.84790424354714566, 10.889664947685104, 91.023982822681901), 2: (0.46803419320357259, 6.865240141085228, 112.72056589258308), 3: (0.29040125841161268, 6.084931701460607, 164.55177770897879)}\n",
      "MD635-F110-2016.05.19-23.00.00_MD635_1_0328\n",
      "{1: (0.92301327762978758, 12.286791575477503, 68.904515723517733), 2: (0.59251626342818209, 7.4956733055175579, 84.40108780274619)}\n",
      "MD635-F110-2016.05.19-23.00.00_MD635_2_0329\n",
      "{1: (0.91120721536770732, 12.243563607073629, 85.001749877522414), 2: (0.39820253721282056, 7.3750291994770709, 170.61688273825922)}\n",
      "MD635-F111-2016.05.19-23.13.55_MD635_1_0331\n",
      "{1: (0.91060719219144293, 12.272454501667756, 87.259613532088778), 2: (0.37617850836128325, 6.7958730455067258, 153.53282460654384), 3: (0.9295518460143698, 11.521151908983363, 20.772400344139445)}\n",
      "MD635-F111-2016.05.19-23.13.55_MD635_2_0332\n",
      "{1: (0.89421413524284987, 12.234252248522054, 107.22268094799016)}\n",
      "MD635-F112-2016.05.19-23.28.08_MD635_1_0334\n",
      "{1: (0.92361033871258569, 12.264115415903479, 66.825010608491681)}\n",
      "MD635-F112-2016.05.19-23.28.08_MD635_2_0335\n",
      "{1: (0.88263459252908127, 12.176935847046009, 118.12395793611434), 2: (0.86156266004646564, 10.520228056714865, 60.336725059614999)}\n",
      "MD635-F113-2016.05.19-23.40.05_MD635_1_0337\n",
      "{1: (0.85390330637023559, 12.116354086394695, 144.66721951895397), 2: (0.91800930876857345, 10.929638276829463, 11.436577476448544)}\n",
      "MD635-F113-2016.05.19-23.40.05_MD635_2_0338\n",
      "{1: (0.90882069509345931, 12.206857907938375, 86.638082097792761), 2: (0.84402146897965158, 10.230866473715773, 62.728944553721313)}\n",
      "MD635-F113-2016.05.19-23.40.05_MD635_3_0339\n",
      "{1: (0.8776400667991362, 11.848085005144686, 107.79617754128397), 2: (0.82898117122526394, 10.880644830567292, 106.93463645906874), 3: (0.79720451509093104, 10.77068351052349, 126.12105721962804), 4: (0.87074747198209246, 11.260189525848528, 86.76565936583404), 5: (0.83023043347518388, 10.699086964664311, 97.143839970121618), 6: (0.83565122557970817, 10.724225097677365, 93.802308530658351), 7: (0.81023640490082294, 10.202907307552641, 89.074014715262749)}\n",
      "MD635-F114-2016.05.19-23.57.07_MD635_1_0340\n",
      "{1: (0.91966781752745641, 12.20294208227693, 70.256722691927322)}\n",
      "MD635-F114-2016.05.19-23.57.07_MD635_2_0341\n",
      "{1: (0.88444700524913811, 12.173954175787127, 115.92112527509117)}\n",
      "MD635-F114-2016.05.19-23.57.07_MD635_3_0342\n",
      "{1: (0.84935055008161509, 12.029358360509606, 144.68287584527613), 2: (0.92657796276956772, 11.287770943778604, 14.722696800653127)}\n",
      "MD635-F115-2016.05.20-00.14.05_MD635_1_0343\n",
      "{1: (0.93746702676142502, 12.261139888129332, 41.543982902831765)}\n",
      "MD635-F115-2016.05.20-00.14.05_MD635_2_0344\n",
      "{1: (0.91602728598857874, 12.184664717435176, 75.019673108421173)}\n",
      "MD635-F115-2016.05.20-00.14.05_MD635_3_0345\n",
      "{1: (0.91131854443113613, 12.246728387833137, 84.993472430262386)}\n",
      "MD635-F116-2016.05.20-00.31.07_MD635_1_0346\n",
      "{1: (0.93584272902293286, 12.19361589933361, 41.48713504760272)}\n",
      "MD635-F116-2016.05.20-00.31.07_MD635_2_0347\n",
      "{1: (0.91868336364799585, 12.191120807806268, 71.235508199508217)}\n",
      "MD635-F116-2016.05.20-00.31.07_MD635_3_0348\n",
      "{1: (0.89412830872123183, 12.112617409987076, 101.46144330431024), 2: (0.91230548317403737, 10.888748567917697, 18.054323297903885)}\n",
      "MD635-F117-2016.05.20-00.49.06_MD635_1_0349\n",
      "{1: (0.94003419310615977, 12.244604752572947, 35.526568882722728), 2: (0.91911348447170671, 10.90884495824643, 8.7081401694983605)}\n",
      "MD635-F117-2016.05.20-00.49.06_MD635_2_0350\n",
      "{1: (0.91015571142386686, 12.125008966246464, 80.794196174732022)}\n",
      "MD635-F117-2016.05.20-00.49.06_MD635_3_0351\n",
      "{1: (0.88999707472081668, 12.100788912326479, 105.9068301890171)}\n",
      "MD635-F118-2016.05.20-01.05.52_MD635_1_0352\n",
      "{1: (0.93379752387156034, 12.192939867284077, 45.378461990719259)}\n",
      "MD635-F118-2016.05.20-01.05.52_MD635_2_0353\n",
      "{1: (0.91051039982255655, 12.105582332042475, 79.349185227107753)}\n",
      "MD635-F118-2016.05.20-01.05.52_MD635_3_0354\n",
      "{1: (0.87301188378366112, 12.059228233093743, 122.93896816098417)}\n",
      "MD635-F119-2016.05.20-01.22.34_MD635_1_0355\n",
      "{1: (0.93567686480639978, 12.16771522561292, 40.560306676825164)}\n",
      "MD635-F119-2016.05.20-01.22.34_MD635_2_0356\n",
      "{1: (0.91418947795641869, 12.105309471141428, 73.957328418337184)}\n",
      "MD635-F119-2016.05.20-01.22.34_MD635_3_0357\n",
      "{1: (0.88202000883544696, 12.004456074825113, 110.49605209007036)}\n",
      "MD635-F12-2016.05.18-18.10.09_MD635_1_0034\n",
      "{1: (0.78037409903576316, 10.895908396286877, 143.97546517663253)}\n",
      "MD635-F12-2016.05.18-18.10.09_MD635_2_0035\n",
      "{1: (0.77438359508406451, 10.912422197521135, 148.81852508219549)}\n",
      "MD635-F12-2016.05.18-18.10.09_MD635_3_0036\n",
      "{1: (0.86878060113674271, 11.011179915597037, 76.784024410709264), 2: (0.92341518777309317, 11.098895314336399, 10.941633240565022)}\n",
      "MD635-F120-2016.05.20-01.39.14_MD635_1_0358\n",
      "{1: (0.93911788795521867, 12.159187777965951, 33.293027723241423)}\n",
      "MD635-F120-2016.05.20-01.39.14_MD635_2_0359\n",
      "{1: (0.90520468662150344, 12.060466340626137, 84.588923137018156)}\n",
      "MD635-F120-2016.05.20-01.39.14_MD635_3_0360\n",
      "{1: (0.86866392331125453, 12.010119978546367, 125.08915005621047)}\n",
      "MD635-F121-2016.05.20-01.55.48_MD635_1_0361\n",
      "{1: (0.88720208161847247, 12.009587118040679, 104.80822508707659)}\n",
      "MD635-F121-2016.05.20-01.55.48_MD635_2_0362\n",
      "{1: (0.88632931108784641, 11.985019387127711, 104.63919423288111)}\n",
      "MD635-F121-2016.05.20-01.55.48_MD635_3_0363\n",
      "{1: (0.91064894143130237, 12.051277243845556, 76.530796219138253), 2: (0.92099774657570543, 11.008171115841808, 10.504617434943858)}\n",
      "MD635-F122-2016.05.20-12.43.46_MD635_2_0365\n",
      "{1: (0.87344301447318806, 11.913345580387253, 115.44682625194822), 2: (0.52567609747887889, 8.3573014936095724, 157.70959787745906)}\n",
      "MD635-F122-2016.05.20-12.43.46_MD635_3_0366\n",
      "{1: (0.89579221352423533, 11.966062682698276, 92.32307532688823), 2: (0.62253255939046637, 8.1283489446647401, 100.19824343613907), 3: (0.92455359145858917, 11.176954719799625, 12.812305079698865), 4: (0.91890306409366984, 11.00126678719983, 13.496722264870728), 5: (0.91639025932896567, 10.988936862247604, 16.789073361598174)}\n",
      "MD635-F122-2016.05.23-17.02.25_MD635_1_0364\n",
      "{1: (0.87192767783523017, 11.958269317519955, 119.20810027227554), 2: (0.82951498014061575, 10.629550398528952, 94.381993744692963)}\n",
      "MD635-F123-2016.05.20-13.02.20_MD635_1_0367\n",
      "{1: (0.89419508703656359, 11.989519059974572, 95.441106091394218)}\n",
      "MD635-F123-2016.05.20-13.02.20_MD635_2_0368\n",
      "{1: (0.87578720001870891, 11.987390444637537, 116.51968745233802)}\n",
      "MD635-F123-2016.05.20-13.02.20_MD635_3_0369\n",
      "{1: (0.89481798533252244, 12.020622061143866, 96.169792637164846)}\n",
      "MD635-F124-2016.05.20-02.13.16_MD635_1_0370\n",
      "{1: (0.9010825650671257, 11.916359702696679, 83.146898391679358)}\n",
      "MD635-F124-2016.05.20-02.13.16_MD635_2_0371\n",
      "{1: (0.91190317807735155, 11.980523736703164, 71.304504181053844)}\n",
      "MD635-F124-2016.05.20-02.13.16_MD635_3_0372\n",
      "{1: (0.90665359769294229, 11.968434046777867, 78.162155064414165), 2: (0.90659414113631087, 10.728076733887626, 18.413559358880338)}\n",
      "MD635-F125-2016.05.20-02.28.59_MD635_1_0373\n",
      "{1: (0.86473532734079461, 11.920289842125715, 124.73123596710107)}\n",
      "MD635-F125-2016.05.20-02.28.59_MD635_2_0374\n",
      "{1: (0.85701147530076616, 11.800874784618856, 126.51110355260592)}\n",
      "MD635-F125-2016.05.20-02.28.59_MD635_3_0375\n",
      "{1: (0.89665518437054004, 11.945933991348127, 90.267515787859978), 2: (0.90185632812230354, 10.727152780141553, 24.765215847274099)}\n",
      "MD635-F126-2016.05.20-02.44.24_MD635_1_0376\n",
      "{1: (0.91682343114558351, 11.911580224125752, 60.631875538265682)}\n",
      "MD635-F126-2016.05.20-02.44.24_MD635_2_0377\n",
      "{1: (0.89426856118308273, 11.887905387184714, 90.448794248988236)}\n",
      "MD635-F126-2016.05.20-02.44.24_MD635_3_0378\n",
      "{1: (0.89411143565439988, 11.909808490172416, 91.699452732126019)}\n",
      "MD635-F127-2016.05.20-02.59.46_MD635_1_0379\n",
      "{1: (0.86175260028661194, 11.877096613862317, 125.60127114340412)}\n",
      "MD635-F127-2016.05.20-02.59.46_MD635_2_0380\n",
      "{1: (0.85737080238088281, 11.836139536634413, 127.86903373758587)}\n",
      "MD635-F127-2016.05.20-02.59.46_MD635_3_0381\n",
      "{1: (0.8887127318950091, 11.897980442039035, 97.649734879487696)}\n",
      "MD635-F128-2016.05.20-03.14.48_MD635_1_0382\n",
      "{1: (0.86812982711559383, 11.847600667045889, 117.79605846624247)}\n",
      "MD635-F128-2016.05.20-03.14.48_MD635_2_0383\n",
      "{1: (0.82149321518799334, 11.7975312961175, 157.23211348321175), 2: (0.89158508382475843, 10.638272779091329, 33.451758330702319)}\n",
      "MD635-F128-2016.05.20-03.14.48_MD635_3_0384\n",
      "{1: (0.84329338249187857, 11.857298119227288, 141.82783213871016)}\n",
      "MD635-F129-2016.05.20-03.29.55_MD635_1_0385\n",
      "{1: (0.86235639137215914, 11.829726158802494, 122.72275453874762)}\n",
      "MD635-F129-2016.05.20-03.29.55_MD635_2_0386\n",
      "{1: (0.84055408974461876, 11.824215904671107, 142.63808959203129)}\n",
      "MD635-F129-2016.05.20-03.29.55_MD635_3_0387\n",
      "{1: (0.88655066664841498, 11.881923443027588, 99.409145313474085)}\n",
      "MD635-F13-2016.05.18-18.22.59_MD635_1_0037\n",
      "{1: (0.80181045153749908, 10.990863579327797, 133.38283851053706)}\n",
      "MD635-F13-2016.05.18-18.22.59_MD635_2_0038\n",
      "{1: (0.78953986168871682, 11.012385297951669, 143.2458268356344)}\n",
      "MD635-F13-2016.05.18-18.22.59_MD635_3_0039\n",
      "{1: (0.80854879973275506, 11.047113904628455, 131.0744174341655), 2: (0.9109525079951889, 10.93604159447867, 22.298773840021717)}\n",
      "MD635-F130-2016.05.20-03.44.32_MD635_1_0388\n",
      "{1: (0.86853616734673444, 11.811779728876171, 115.65272469680271)}\n",
      "MD635-F130-2016.05.20-03.44.32_MD635_2_0389\n",
      "{1: (0.8635499619130641, 11.825037319912559, 121.31683710520294)}\n",
      "MD635-F130-2016.05.20-03.44.32_MD635_3_0390\n",
      "{1: (0.85453844412788782, 11.829159292882002, 130.21769609444573)}\n",
      "MD635-F131-2016.05.20-03.59.18_MD635_1_0391\n",
      "{1: (0.85167644404628906, 11.806081180786926, 131.77423899839332), 2: (0.4243344053213936, 4.2397046681796295, 6.7599661875739336)}\n",
      "MD635-F131-2016.05.20-03.59.18_MD635_2_0392\n",
      "{1: (0.86916160644957918, 11.809126082382885, 114.88312387886444)}\n",
      "MD635-F131-2016.05.20-03.59.18_MD635_3_0393\n",
      "{1: (0.88420345329240024, 11.792012510537374, 97.775848862393872)}\n",
      "MD635-F132-2016.05.20-04.14.48_MD635_1_0394\n",
      "{1: (0.89794274618646697, 11.820813291792177, 82.598854150792988)}\n",
      "MD635-F132-2016.05.20-04.14.48_MD635_2_0395\n",
      "{1: (0.89723656918056827, 11.924633947268097, 88.504837369482942), 2: (0.8933828772064607, 10.796055809435535, 38.872561404686124)}\n",
      "MD635-F132-2016.05.20-04.14.48_MD635_3_0396\n",
      "{1: (0.88665653083980056, 11.802282909228525, 95.444464586354329)}\n",
      "MD635-F133-2016.05.20-04.28.44_MD635_1_0397\n",
      "{1: (0.80256148472740152, 11.520778334290418, 158.39090693656414)}\n",
      "MD635-F133-2016.05.20-04.28.44_MD635_2_0398\n",
      "{1: (0.81286512662588717, 11.699846109709094, 159.27209330057809)}\n",
      "MD635-F133-2016.05.20-04.28.44_MD635_3_0399\n",
      "{1: (0.84866116455305551, 11.732881034117032, 131.01041591841326), 2: (0.036815580659097423, 5.5196187970917396, 414.42622977092748)}\n",
      "MD635-F134-2016.05.20-04.44.11_MD635_2_0401\n",
      "{1: (0.8169634485446875, 11.73285987439235, 157.68821078195742)}\n",
      "MD635-F135-2016.05.20-04.58.19_MD635_1_0403\n",
      "{1: (0.86454854657174707, 11.729694545672766, 115.72410980936512)}\n",
      "MD635-F135-2016.05.20-04.58.19_MD635_3_0405\n",
      "{1: (0.8677306161136441, 11.758388722748833, 113.8998786310855)}\n",
      "MD635-F136-2016.05.20-05.12.43_MD635_2_0407\n",
      "{1: (0.859181349379874, 11.698960772875612, 119.51203329226313)}\n",
      "MD635-F136-2016.05.20-05.12.43_MD635_3_0408\n",
      "{1: (0.87862945768120004, 11.752310426062197, 102.09558905228653)}\n",
      "MD635-F137-2016.05.20-05.30.36_MD635_1_0409\n",
      "{1: (0.88535287916053862, 11.733045288102844, 93.613488577518524)}\n",
      "MD635-F137-2016.05.20-05.30.36_MD635_2_0410\n",
      "{1: (0.85734642605615297, 11.718016060669102, 122.1944517304336)}\n",
      "MD635-F137-2016.05.20-05.30.36_MD635_3_0411\n",
      "{1: (0.86473535132675539, 11.71458553186363, 114.80872324560296)}\n",
      "MD635-F138-2016.05.20-05.45.33_MD635_1_0412\n",
      "{1: (0.90268068103382126, 11.74874808599307, 72.950766177671966)}\n",
      "MD635-F138-2016.05.20-05.45.33_MD635_2_0413\n",
      "{1: (0.88527012001218752, 11.707200353458736, 92.462093432414605)}\n",
      "MD635-F138-2016.05.20-05.45.33_MD635_3_0414\n",
      "{1: (0.85518830389957634, 11.704561385929752, 123.59524367205772)}\n",
      "MD635-F139-2016.05.20-06.00.29_MD635_1_0415\n",
      "{1: (0.88685932602137751, 11.685541533942276, 89.577182052444428)}\n",
      "MD635-F139-2016.05.20-06.00.29_MD635_2_0416\n",
      "{1: (0.87697101375145659, 11.685849115915129, 100.697032796266)}\n",
      "MD635-F139-2016.05.20-06.00.29_MD635_3_0417\n",
      "{1: (0.83381476001385357, 11.668200465900926, 140.89265779197731)}\n",
      "MD635-F14-2016.05.18-18.35.51_MD635_1_0040\n",
      "{1: (0.70807592930956742, 11.028861187143383, 195.01775852664943)}\n",
      "MD635-F14-2016.05.18-18.35.51_MD635_2_0041\n",
      "{1: (0.8177965711334938, 11.087474965766962, 125.90457385018972)}\n",
      "MD635-F14-2016.05.18-18.35.51_MD635_3_0042\n",
      "{1: (0.85291541474641985, 11.148057804608056, 98.882923836469175)}\n",
      "MD635-F140-2016.05.20-06.14.16_MD635_1_0418\n",
      "{1: (0.88220373963004728, 11.6545888335923, 93.413095860124983), 2: (0.52872684137333203, 5.1623799630564058, 2.1665590306005122)}\n",
      "MD635-F140-2016.05.20-06.14.16_MD635_2_0419\n",
      "{1: (0.87841316621391519, 11.653502680142351, 97.566341847890257)}\n",
      "MD635-F140-2016.05.20-06.14.16_MD635_3_0420\n",
      "{1: (0.8334344035255451, 11.605573348102128, 138.19230614824912)}\n",
      "MD635-F141-2016.05.20-06.27.21_MD635_1_0421\n",
      "{1: (0.88233168403908757, 11.57022622511764, 89.199739964784953), 2: (0.61214780905987209, 8.3869161900125171, 117.80958955452563)}\n",
      "MD635-F141-2016.05.20-06.27.21_MD635_2_0422\n",
      "{1: (0.8658307091898263, 11.587899119772739, 107.59936757067044), 2: (0.47651986334880952, 8.2863692617669162, 177.29104903048434)}\n",
      "MD635-F141-2016.05.20-06.27.21_MD635_3_0423\n",
      "{1: (0.86513092009488757, 11.566247117421515, 107.25756596804898), 2: (0.4030202099904871, 8.1540024777882891, 205.84662698916415)}\n",
      "MD635-F142-2016.05.20-06.40.47_MD635_1_0424\n",
      "{1: (0.92020394796641636, 11.632882030082293, 41.908047186143527), 2: (0.39185651373306007, 4.5978614016740753, 39.759705528002463), 3: (0.72225651659724521, 8.2397011723506672, 52.339254721020787)}\n",
      "MD635-F142-2016.05.20-06.40.47_MD635_2_0425\n",
      "{1: (0.87166981515182251, 11.564912170007453, 100.50356086843303), 2: (0.37951726402771913, 8.2016251286975645, 219.68138558958194)}\n",
      "MD635-F142-2016.05.20-06.40.47_MD635_3_0426\n",
      "{1: (0.84196059506532572, 11.519286067001323, 126.6981325711658), 2: (0.39846511889523623, 8.229330146321173, 211.69743429960079)}\n",
      "MD635-F143-2016.05.20-06.54.44_MD635_1_0427\n",
      "{1: (0.91507946101315407, 11.693832344522459, 52.776603645170034), 2: (0.077609747086665556, 7.792780060206228, 431.84067790802413)}\n",
      "MD635-F143-2016.05.20-06.54.44_MD635_2_0428\n",
      "{1: (0.85300276755820037, 11.474611097183233, 114.55334889349643), 2: (0.33604771075912138, 7.9357069475958344, 228.98942143259097)}\n",
      "MD635-F143-2016.05.20-06.54.44_MD635_3_0429\n",
      "{1: (0.83592430679879814, 11.533375149038303, 132.60041787344315), 2: (0.29420452595852059, 8.1553164696595992, 262.2710350340169)}\n",
      "MD635-F144-2016.05.20-07.08.32_MD635_1_0430\n",
      "{1: (0.91908264894997205, 11.593081149202311, 41.761883937235375), 2: (0.6658598085346914, 8.1464513423155775, 78.954235261879958)}\n",
      "MD635-F144-2016.05.20-07.08.32_MD635_2_0431\n",
      "{1: (0.88046723004016836, 11.498138064092885, 87.807387366745047), 2: (0.40072705305815576, 7.9387594973789071, 196.57920618375312)}\n",
      "MD635-F144-2016.05.20-07.08.32_MD635_3_0432\n",
      "{1: (0.82418249710080671, 11.380295547134292, 134.94954513762949), 2: (0.4083078138391989, 5.4709268900135815, 73.860374812656744), 3: (0.22652977703164567, 7.8970365486872911, 291.07154056548319)}\n",
      "MD635-F145-2016.05.20-07.21.59_MD635_1_0433\n",
      "{1: (0.89971740964746838, 11.372678434865485, 58.700983928473114), 2: (0.55797582654356381, 7.7786448184080328, 114.58260854136965)}\n",
      "MD635-F145-2016.05.20-07.21.59_MD635_2_0434\n",
      "{1: (0.86491273045097727, 11.485646887328375, 103.5881225176708), 2: (0.35465485558645998, 8.0042620994539213, 222.67391138042899)}\n",
      "MD635-F145-2016.05.20-07.21.59_MD635_3_0435\n",
      "{1: (0.86105990626789686, 11.467790059895522, 106.53593108629943), 2: (0.31635453566807831, 7.97201747650481, 241.21684408529487)}\n",
      "MD635-F146-2016.05.20-07.35.26_MD635_1_0436\n",
      "{1: (0.91420740359140906, 11.543846329664582, 46.847508510609593), 2: (0.65524008168080083, 8.0662939746094668, 80.624420778210421)}\n",
      "MD635-F146-2016.05.20-07.35.26_MD635_2_0437\n",
      "{1: (0.87966868173301604, 11.460037680048298, 86.853943490638429), 2: (0.27252764050802408, 7.8664413926700476, 260.81930074583369), 3: (0.87424381619617952, 10.537067449043107, 48.210633112787825)}\n",
      "MD635-F146-2016.05.20-07.35.26_MD635_3_0438\n",
      "{1: (0.79939889933120967, 11.400692771191876, 154.91750974459873), 2: (0.15687246782837885, 7.8014574080458727, 339.49306050438867)}\n",
      "MD635-F147-2016.05.20-07.48.51_MD635_1_0439\n",
      "{1: (0.91589228514041321, 11.523680334102453, 43.341000440730362), 2: (0.62501296212944557, 7.8978427666544224, 87.843903007079064)}\n",
      "MD635-F147-2016.05.20-07.48.51_MD635_2_0440\n",
      "{1: (0.88541650776491643, 11.425919476509517, 78.72547095828827), 2: (0.47590085932503046, 7.85400021482985, 156.72509948299609)}\n",
      "MD635-F147-2016.05.20-07.48.51_MD635_3_0441\n",
      "{1: (0.84120296738166067, 11.399411874302778, 121.58007774683863), 2: (0.22070032603908338, 7.7504969748939487, 287.92816657835061)}\n",
      "MD635-F148-2016.05.20-08.00.59_MD635_1_0442\n",
      "{1: (0.91181819016011578, 11.460689772649937, 46.353059965555595), 2: (0.62320654723518409, 7.770413579652141, 82.597241991591872)}\n",
      "MD635-F148-2016.05.20-08.00.59_MD635_2_0443\n",
      "{1: (0.88010631966013608, 11.389075623583695, 82.946917452535843), 2: (0.34247306992416587, 7.6515593092592518, 211.93237751682634)}\n",
      "MD635-F148-2016.05.20-08.00.59_MD635_3_0444\n",
      "{1: (0.81717809740668768, 11.33287097597178, 138.22621016901579), 2: (0.75272910299499618, 10.336011045164842, 135.04288447694671)}\n",
      "MD635-F149-2016.05.20-08.14.13_MD635_1_0445\n",
      "{1: (0.92487233200326546, 11.498045046617701, 27.765444622745292), 2: (0.71428952404355917, 7.8588386154173655, 38.570196067431105)}\n",
      "MD635-F149-2016.05.20-08.14.13_MD635_2_0446\n",
      "{1: (0.8952837766978311, 11.391132281385188, 65.225667822418075), 2: (0.35636812735238077, 7.1750536584377675, 181.80158580302268)}\n",
      "MD635-F149-2016.05.20-08.14.13_MD635_3_0447\n",
      "{1: (0.86646207152470067, 11.348487607881628, 95.414378471464872)}\n",
      "MD635-F15-2016.05.18-18.48.38_MD635_1_0043\n",
      "{1: (0.74885967866826686, 11.115952076945966, 175.08214086189375)}\n",
      "MD635-F15-2016.05.18-18.48.38_MD635_2_0044\n",
      "{1: (0.77393760370738329, 11.112955845996456, 158.78978567196685)}\n",
      "MD635-F15-2016.05.18-18.48.38_MD635_3_0045\n",
      "{1: (0.84392721775549584, 11.198817284616164, 109.50332530252248)}\n",
      "MD635-F150-2016.05.20-08.25.21_MD635_1_0448\n",
      "{1: (0.88600884765382992, 11.269738290753979, 70.5077837036782), 2: (0.6540910507793245, 7.8245780388502535, 69.558960276905665), 3: (0.60420026959190987, 8.2864152666835906, 116.86043022450869), 4: (0.33041827751288999, 7.4606021658793775, 209.03367156459143)}\n",
      "MD635-F150-2016.05.20-08.25.21_MD635_2_0449\n",
      "{1: (0.84491532284720705, 11.294526367094454, 113.24081040984466), 2: (0.5679032582114576, 7.6200191158063797, 102.21428955226547), 3: (0.7388256404011867, 10.081484601653017, 131.33924831005339)}\n",
      "MD635-F150-2016.05.20-08.25.21_MD635_3_0450\n",
      "{1: (0.76098579374713082, 11.218692433802104, 172.37534784533256), 2: (0.32989341400835304, 7.2725090449032805, 200.23811365947418), 3: (0.6485024804032048, 10.128142428665432, 183.55172283611986)}\n",
      "MD635-F151-2016.05.20-08.36.34_MD635_1_0451\n",
      "{1: (0.82183743017206823, 11.247839699991209, 130.44223229362694), 2: (0.39905220260248392, 6.0279663366187783, 105.22475527566078)}\n",
      "MD635-F151-2016.05.20-08.36.34_MD635_2_0452\n",
      "{1: (0.78947564810329252, 11.214377298811939, 153.03441385900905), 2: (0.097556237457538192, 7.4030680620729177, 383.74879460390417)}\n",
      "MD635-F151-2016.05.20-08.36.34_MD635_3_0453\n",
      "{1: (0.78974913831681126, 11.190247852991954, 151.67804746770346)}\n",
      "MD635-F152-2016.05.20-08.47.02_MD635_1_0454\n",
      "{1: (0.81360894409626727, 11.232351635017688, 136.14925216265314), 2: (0.13014670440411388, 7.3541669703894801, 343.39755609676348)}\n",
      "MD635-F152-2016.05.20-08.47.02_MD635_2_0455\n",
      "{1: (0.7483848641133316, 11.177996341867216, 178.36988502396306), 2: (0.041053780802434485, 7.2964460756136571, 486.88193701867317)}\n",
      "MD635-F152-2016.05.20-08.47.02_MD635_3_0456\n",
      "{1: (0.76357097831258047, 11.202765131714619, 169.93941391284636), 2: (0.03431435688735493, 7.2762483121165884, 507.68769850102899)}\n",
      "MD635-F153-2016.05.20-08.57.53_MD635_1_0457\n",
      "{1: (0.83253436610231624, 11.186370345308836, 118.72759577299884)}\n",
      "MD635-F153-2016.05.20-08.57.53_MD635_2_0458\n",
      "{1: (0.79278466123213776, 11.108158704479418, 145.56992361192707), 2: (0.059412210420971757, 7.1713517079468012, 435.38213437989702)}\n",
      "MD635-F153-2016.05.20-08.57.53_MD635_3_0459\n",
      "{1: (0.77223250157537271, 11.032294558955915, 156.03515512168025), 2: (0.041823806004850118, 5.3224158921295031, 389.39519334118933), 3: (0.094705961747693815, 7.2634604452073424, 380.84936240024228)}\n",
      "MD635-F154-2016.05.20-09.08.27_MD635_1_0460\n",
      "{1: (0.72372580014522547, 11.092121088435048, 189.07288570493432)}\n",
      "MD635-F154-2016.05.20-09.08.27_MD635_2_0461\n",
      "{1: (0.71345192265333135, 11.072011220393547, 194.04225457775829), 2: (0.011755138633779605, 7.0618640547463372, 625.27160659377728)}\n",
      "MD635-F154-2016.05.20-09.08.27_MD635_3_0462\n",
      "{1: (0.7338084796430131, 11.052500603196366, 181.19856478015103)}\n",
      "MD635-F155-2016.05.20-09.19.32_MD635_1_0463\n",
      "{1: (0.85226095806601998, 11.099001987316107, 97.125335011669208)}\n",
      "MD635-F155-2016.05.20-09.19.32_MD635_2_0464\n",
      "{1: (0.80086609166664136, 11.039271784672634, 136.41131670810014)}\n",
      "MD635-F155-2016.05.20-09.19.32_MD635_3_0465\n",
      "{1: (0.81357540531888506, 11.065394252281317, 128.12163629996343), 2: (0.095898369362367564, 6.9945732909285985, 366.26249105483549)}\n",
      "MD635-F156-2016.05.20-13.20.34_MD635_1_0466\n",
      "{1: (0.84971924106543217, 10.840453756219057, 86.996927081648764), 2: (0.84553078979898544, 10.560330879807378, 77.275725609839029), 3: (0.83235986149954355, 10.423866514819013, 82.093206802044818), 4: (0.86291164920852725, 10.90762719715193, 77.696030509655003)}\n",
      "MD635-F156-2016.05.20-13.20.34_MD635_2_0467\n",
      "{1: (0.79875248902642593, 11.013647655603066, 136.71837839414081)}\n",
      "MD635-F156-2016.05.20-13.20.34_MD635_3_0468\n",
      "{1: (0.79035637659114222, 10.957649592235406, 140.03034087667459)}\n",
      "MD635-F157-2016.05.20-13.32.17_MD635_1_0469\n",
      "{1: (0.85613272172862542, 11.067345359961505, 91.96420572892994)}\n",
      "MD635-F157-2016.05.20-13.32.17_MD635_2_0470\n",
      "{1: (0.81171614802400238, 10.987801342851261, 125.80629669790103), 2: (0.081128083464261563, 4.9712797231600483, 290.11155267211291)}\n",
      "MD635-F157-2016.05.20-13.32.17_MD635_3_0471\n",
      "{1: (0.8113395022329869, 10.98443932376345, 125.93198054308913), 2: (0.12678134117213066, 4.8260410034487613, 224.9630301551351), 3: (0.73097922869481724, 9.830581514633641, 123.94470521338944)}\n",
      "MD635-F158-2016.05.20-09.29.45_MD635_1_0472\n",
      "{1: (0.80916412378535552, 10.882979077536906, 122.69187303560695), 2: (0.15099897480511743, 6.5993281726527329, 286.77856197699805)}\n",
      "MD635-F158-2016.05.20-09.29.45_MD635_2_0473\n",
      "{1: (0.79958440880989035, 10.882732948126277, 129.79758456996655), 2: (0.050664203965769969, 5.8089995409625956, 389.3679171185251), 3: (0.64292268779543837, 6.5313713515333154, 12.906671810167422), 4: (0.91446239673880092, 11.016347146908403, 21.022159060188883), 5: (0.74859116140361248, 7.8167825143878975, 16.108060174991099)}\n",
      "MD635-F158-2016.05.20-09.29.45_MD635_3_0474\n",
      "{1: (0.75394094080945706, 10.844666672815599, 158.81640299724958), 2: (0.035872333399137514, 6.3943849507259998, 459.77041384075903)}\n",
      "MD635-F159-2016.05.20-09.46.00_MD635_1_0475\n",
      "{1: (0.68978297437286018, 10.819636920651574, 195.08975532161458)}\n",
      "MD635-F159-2016.05.20-09.46.00_MD635_2_0476\n",
      "{1: (0.72927912701533426, 10.799653869668688, 171.69810609524222), 2: (0.17903104770051328, 6.3638393725017544, 251.58914555068753)}\n",
      "MD635-F16-2016.05.18-19.01.39_MD635_1_0046\n",
      "{1: (0.80018422288203117, 11.185407702018759, 143.95957551639566)}\n",
      "MD635-F16-2016.05.18-19.01.39_MD635_2_0047\n",
      "{1: (0.83585445539239533, 11.200708157931485, 116.61319628247608)}\n",
      "MD635-F16-2016.05.18-19.01.39_MD635_3_0048\n",
      "{1: (0.82705484357737324, 11.202353993219328, 124.03407627806955)}\n",
      "MD635-F160-2016.05.20-09.52.10_MD635_1_0478\n",
      "{1: (0.736157085976197, 10.76052154062922, 165.70500455271517)}\n",
      "MD635-F160-2016.05.20-09.52.10_MD635_2_0479\n",
      "{1: (0.72938971245391004, 10.716465825370864, 167.61990928833384)}\n",
      "MD635-F161-2016.05.20-09.59.58_MD635_1_0481\n",
      "{1: (0.89814370706529179, 10.839175989125559, 34.991388330373418)}\n",
      "MD635-F161-2016.05.20-09.59.58_MD635_2_0482\n",
      "{1: (0.79419469734333847, 10.687503288790904, 124.27304153101798)}\n",
      "MD635-F161-2016.05.20-09.59.58_MD635_3_0483\n",
      "{1: (0.70208712353767389, 10.641305646829498, 179.69006711644334)}\n",
      "MD635-F162-2016.05.20-10.09.24_MD635_1_0484\n",
      "{1: (0.78961096863144076, 10.610758803186012, 123.82267816028384)}\n",
      "MD635-F162-2016.05.20-10.09.24_MD635_2_0485\n",
      "{1: (0.68555261209805929, 10.586398641420685, 186.14151805955876)}\n",
      "MD635-F162-2016.05.20-10.09.24_MD635_3_0486\n",
      "{1: (0.72786636810019678, 10.547367546248619, 160.36375141805297), 2: (0.8403582210912367, 10.888976001253171, 97.695991894218778)}\n",
      "MD635-F163-2016.05.20-10.17.45_MD635_1_0487\n",
      "{1: (0.79950136325656929, 10.545633945234471, 113.59762323755997), 2: (0.23547839377852392, 5.2620776056297345, 158.08082999161863)}\n",
      "MD635-F163-2016.05.20-10.17.45_MD635_2_0488\n",
      "{1: (0.70474942084657044, 10.462029686163795, 169.55065050802298)}\n",
      "MD635-F163-2016.05.20-10.17.45_MD635_3_0489\n",
      "{1: (0.65478435733249762, 10.365238672622985, 191.75357815342679)}\n",
      "MD635-F164-2016.05.20-10.25.54_MD635_1_0490\n",
      "{1: (0.79664054853934163, 10.324917019541955, 105.02612207861334), 2: (0.30262513067823377, 7.2988052530962335, 216.25406627574196)}\n",
      "MD635-F164-2016.05.20-10.25.54_MD635_2_0491\n",
      "{1: (0.72162310497813353, 10.27877082451999, 151.06600444904998), 2: (0.2148460158724102, 7.3201907373711279, 271.18910335732522)}\n",
      "MD635-F164-2016.05.20-10.25.54_MD635_3_0492\n",
      "{1: (0.66414179767147818, 10.242981656609178, 180.9853296308159), 2: (0.12992522312249055, 7.122043114783799, 332.42953451089011)}\n",
      "MD635-F165-2016.05.20-10.33.56_MD635_1_0493\n",
      "{1: (0.73590174580318612, 10.200890804252598, 138.86391230042477)}\n",
      "MD635-F165-2016.05.20-10.33.56_MD635_2_0494\n",
      "{1: (0.62680368878429771, 10.061206217098826, 191.30333515634456)}\n",
      "MD635-F165-2016.05.20-10.33.56_MD635_3_0495\n",
      "{1: (0.63790383581918753, 10.056695168421175, 185.50416184620028)}\n",
      "MD635-F166-2016.05.20-10.41.13_MD635_1_0496\n",
      "{1: (0.73531407779922664, 10.002498886724302, 129.64735705912966)}\n",
      "MD635-F166-2016.05.20-10.41.13_MD635_2_0497\n",
      "{1: (0.55036111804197563, 9.9001650824308474, 220.52048187443151)}\n",
      "MD635-F166-2016.05.20-10.41.13_MD635_3_0498\n",
      "{1: (0.56788264526346721, 9.7909564393782986, 206.94287299118784), 2: (0.070539501473135716, 5.7277071815157203, 344.28681799279758)}\n",
      "MD635-F167-2016.05.20-10.48.47_MD635_1_0499\n",
      "{1: (0.68052656302258585, 9.6631583002272041, 144.32127666450984), 2: (0.079028073261148593, 5.6547078770011243, 326.41036585971364)}\n",
      "MD635-F167-2016.05.20-10.48.47_MD635_2_0500\n",
      "{1: (0.54738993194362928, 9.5420000947483388, 204.64646535995431), 2: (0.050260735761198098, 5.3476983230654289, 368.10057996190955)}\n",
      "MD635-F167-2016.05.20-10.48.47_MD635_3_0501\n",
      "{1: (0.48846701379673141, 9.4570491100276186, 228.16739459556385)}\n",
      "MD635-F168-2016.05.20-10.55.38_MD635_1_0502\n",
      "{1: (0.46783183175310827, 8.6868081039193701, 200.68192967967727)}\n",
      "MD635-F168-2016.05.20-10.55.38_MD635_2_0503\n",
      "{1: (0.44104802767228735, 8.7184665341035199, 214.8405227499228)}\n",
      "MD635-F168-2016.05.20-10.55.38_MD635_3_0504\n",
      "{1: (0.25642645967629074, 7.6368735255518931, 259.42336856569523), 2: (0.19753203978923703, 7.2936350563013947, 282.27940179357256)}\n",
      "MD635-F17-2016.05.18-19.14.24_MD635_1_0049\n",
      "{1: (0.83540008929875653, 11.260609415628901, 119.88931765788159), 2: (0.39002125147723565, 5.5838054234863872, 88.219346401935979)}\n",
      "MD635-F17-2016.05.18-19.14.24_MD635_2_0050\n",
      "{1: (0.81900119838069019, 11.231364357664638, 131.8978510947064)}\n",
      "MD635-F17-2016.05.18-19.14.24_MD635_3_0051\n",
      "{1: (0.86582954034965298, 11.341723372373593, 95.725848036186306)}\n",
      "MD635-F18-2016.05.18-19.27.06_MD635_1_0052\n",
      "{1: (0.7859713113536928, 11.278587193991752, 158.58148868439989)}\n",
      "MD635-F18-2016.05.18-19.27.06_MD635_2_0053\n",
      "{1: (0.81534271052660523, 11.336325208740574, 139.82334592800208)}\n",
      "MD635-F18-2016.05.18-19.27.06_MD635_3_0054\n",
      "{1: (0.85403086313697907, 11.346026914795514, 107.38964486933182)}\n",
      "MD635-F19-2016.05.18-19.39.41_MD635_1_0055\n",
      "{1: (0.8704710812224804, 11.474723308365812, 97.400859902306493)}\n",
      "MD635-F19-2016.05.18-19.39.41_MD635_2_0056\n",
      "{1: (0.82376300228837407, 11.310215025855452, 131.90718102413118)}\n",
      "MD635-F19-2016.05.18-19.39.41_MD635_3_0057\n",
      "{1: (0.79639513777379756, 11.380294890214941, 156.11102165122844)}\n",
      "MD635-F2-2016.05.18-16.35.43_MD635_1_0004\n",
      "{1: (0.59767666004082032, 9.67238757750704, 186.89504457715122)}\n",
      "MD635-F2-2016.05.18-16.35.43_MD635_2_0005\n",
      "{1: (0.57239394580120129, 9.7795899565906979, 204.24285393186599)}\n",
      "MD635-F2-2016.05.18-16.35.43_MD635_3_0006\n",
      "{1: (0.6429113508256542, 9.8265490654962573, 171.86080938296314)}\n",
      "MD635-F20-2016.05.18-19.52.29_MD635_1_0058\n",
      "{1: (0.84267025058240264, 11.346427415106739, 117.73544376625983), 2: (0.86830025545762002, 10.320053889881018, 43.93818751070193)}\n",
      "MD635-F20-2016.05.18-19.52.29_MD635_2_0059\n",
      "{1: (0.85421528826962922, 11.372895159920931, 108.51265522417279)}\n",
      "MD635-F20-2016.05.18-19.52.29_MD635_3_0060\n",
      "{1: (0.83871062082397174, 11.397168139328144, 123.63912733191047)}\n",
      "MD635-F21-2016.05.18-20.05.17_MD635_1_0061\n",
      "{1: (0.65388011898425114, 11.412306584491686, 242.72796163051444)}\n",
      "MD635-F21-2016.05.18-20.05.17_MD635_2_0062\n",
      "{1: (0.78994799388907178, 11.450177217916199, 164.0761307985415), 2: (0.89129825338010893, 11.080317622098649, 55.120992530093751), 3: (0.88753271767263198, 10.532789544031068, 33.185741670787444)}\n",
      "MD635-F21-2016.05.18-20.05.17_MD635_3_0063\n",
      "{1: (0.87622053277722034, 11.514388336923346, 93.237307598768624)}\n",
      "MD635-F22-2016.05.18-20.18.12_MD635_1_0064\n",
      "{1: (0.79700306434813639, 11.482125882987191, 160.58426466082665)}\n",
      "MD635-F22-2016.05.18-20.18.12_MD635_2_0065\n",
      "{1: (0.80295781311447978, 11.479895652643943, 156.12626765752637)}\n",
      "MD635-F22-2016.05.18-20.18.12_MD635_3_0066\n",
      "{1: (0.87886477115832062, 11.335422192890007, 81.728136132074468)}\n",
      "MD635-F23-2016.05.18-20.33.07_MD635_1_0067\n",
      "{1: (0.80038905807903349, 11.525046835841652, 160.19282119466635)}\n",
      "MD635-F23-2016.05.18-20.33.07_MD635_2_0068\n",
      "{1: (0.80550674438363234, 11.498662467765032, 155.13902489069903)}\n",
      "MD635-F23-2016.05.18-20.33.07_MD635_3_0069\n",
      "{1: (0.85791481063347186, 11.554529555916274, 113.7642581272432), 2: (0.051840215371943395, 4.7804803606185118, 336.9283679147967)}\n",
      "MD635-F24-2016.05.18-20.47.57_MD635_1_0070\n",
      "{1: (0.85047784154015837, 11.535403288965419, 119.82309459683684)}\n",
      "MD635-F24-2016.05.18-20.47.57_MD635_2_0071\n",
      "{1: (0.86598901739652567, 11.550583243796734, 105.63999677024005), 2: (0.071402470409410945, 5.3075367762410348, 322.48922972400464)}\n",
      "MD635-F24-2016.05.18-20.47.57_MD635_3_0072\n",
      "{1: (0.84774345343333479, 11.597212162103036, 125.29937699688985), 2: (0.016349336348399225, 5.3974464018285344, 505.87790969245521)}\n",
      "MD635-F25-2016.05.18-21.02.30_MD635_1_0073\n",
      "{1: (0.84930874905815423, 11.585520089813704, 123.3117838921513), 2: (0.90553958841431526, 10.663526535434778, 16.748267365807461)}\n",
      "MD635-F25-2016.05.18-21.02.30_MD635_2_0074\n",
      "{1: (0.84417852925313319, 11.59762324004415, 128.51721055828736), 2: (0.075785153230912616, 5.6044780770892464, 329.296290329074)}\n",
      "MD635-F25-2016.05.18-21.02.30_MD635_3_0075\n",
      "{1: (0.77551834274357589, 11.580628364925152, 180.28998349327634), 2: (0.051659865496666409, 5.6500723280600162, 379.30419113180238)}\n",
      "MD635-F26-2016.05.18-21.16.59_MD635_1_0076\n",
      "{1: (0.8842179516411689, 11.649420044647632, 90.881111234373478), 2: (0.23189421423322187, 5.779909319558092, 185.39894692136451)}\n",
      "MD635-F26-2016.05.18-21.16.59_MD635_2_0077\n",
      "{1: (0.86191866753763524, 11.607591280477028, 112.43820816901253), 2: (0.10198276104239157, 4.6973362321701204, 247.47138854375024), 3: (0.68448533493326047, 7.0940771990593516, 18.261805833403685), 4: (0.096335201921518065, 5.8734235920376996, 311.59421838414693)}\n",
      "MD635-F26-2016.05.18-21.16.59_MD635_3_0078\n",
      "{1: (0.83631603802599308, 11.659923732891759, 138.37051338911638), 2: (0.033890890634267451, 6.0627013765017299, 450.65303986964295)}\n",
      "MD635-F27-2016.05.18-21.31.38_MD635_1_0079\n",
      "{1: (0.88181916698902341, 11.622076933332275, 92.276804771248806)}\n",
      "MD635-F27-2016.05.18-21.31.38_MD635_2_0080\n",
      "{1: (0.84478358580251367, 11.644048582002526, 130.21807571291808)}\n",
      "MD635-F27-2016.05.18-21.31.38_MD635_3_0081\n",
      "{1: (0.78851552841810701, 11.628682615493116, 173.69326312039689), 2: (0.90997202865099625, 10.797378096741106, 17.016052869987895)}\n",
      "MD635-F28-2016.05.18-21.46.26_MD635_1_0082\n",
      "{1: (0.84983916211916766, 11.481730649814393, 117.82016946360883), 2: (0.094479731975317602, 5.7489196331832089, 308.10174734675905)}\n",
      "MD635-F28-2016.05.18-21.46.26_MD635_2_0083\n",
      "{1: (0.84466986181279935, 11.636970991763583, 129.97802844113721), 2: (0.90319083957094037, 10.753540214204087, 24.264833301774413)}\n",
      "MD635-F28-2016.05.18-21.46.26_MD635_3_0084\n",
      "{1: (0.84718951521336017, 11.660790389806179, 128.8670970269867)}\n",
      "MD635-F29-2016.05.18-22.01.14_MD635_1_0085\n",
      "{1: (0.87309937588970488, 11.659961882399918, 103.58741334895826)}\n",
      "MD635-F29-2016.05.18-22.01.14_MD635_2_0086\n",
      "{1: (0.8812059908226797, 11.722191425199558, 97.79223762638965)}\n",
      "MD635-F29-2016.05.18-22.01.14_MD635_3_0087\n",
      "{1: (0.84250588122933534, 11.718275835476605, 135.81703362719892)}\n",
      "MD635-F3-2016.05.18-16.44.09_MD635_2_0008\n",
      "{1: (0.64101158492765797, 9.9691860842445088, 179.70731692178185)}\n",
      "MD635-F3-2016.05.18-16.44.09_MD635_3_0009\n",
      "{1: (0.74678194244252161, 10.023290484647365, 123.66368606269546)}\n",
      "MD635-F3-2016.05.23-13.56.45_MD635_1_0007\n",
      "{1: (0.6304728961746856, 9.9402793260723907, 183.63296717599945)}\n",
      "MD635-F30-2016.05.18-22.15.39_MD635_1_0088\n",
      "{1: (0.88901988792350795, 11.745074673548832, 89.91059983976244)}\n",
      "MD635-F30-2016.05.18-22.15.39_MD635_2_0089\n",
      "{1: (0.83488699347810869, 11.53553371075993, 133.58638449550335)}\n",
      "MD635-F30-2016.05.18-22.15.39_MD635_3_0090\n",
      "{1: (0.86173539815848177, 11.713102439839323, 117.70761772750181)}\n",
      "MD635-F31-2016.05.18-22.31.18_MD635_1_0091\n",
      "{1: (0.83523019286176126, 11.736042572664655, 142.96699380753628), 2: (0.94341539518554207, 11.723710322169184, 3.1963991398020188)}\n",
      "MD635-F31-2016.05.18-22.31.18_MD635_2_0092\n",
      "{1: (0.82074098253146899, 11.791329804930147, 157.5316230712435)}\n",
      "MD635-F32-2016.05.18-22.50.16_MD635_1_0094\n",
      "{1: (0.87196934741642973, 11.754429683753427, 109.33193212964896)}\n",
      "MD635-F32-2016.05.18-22.50.16_MD635_2_0095\n",
      "{1: (0.87800366812662689, 11.786768172443919, 104.44216281652376), 2: (0.85132650612675709, 11.083687788084804, 97.251896960216058), 3: (0.87618648506363273, 10.859017436833101, 61.661096423192767)}\n",
      "MD635-F32-2016.05.18-22.50.16_MD635_3_0096\n",
      "{1: (0.88244555014042059, 11.780845362145687, 99.231047283729765)}\n",
      "MD635-F33-2016.05.18-23.06.34_MD635_1_0097\n",
      "{1: (0.85709233175953847, 11.797068349440977, 126.25034621082743)}\n",
      "MD635-F33-2016.05.18-23.06.34_MD635_2_0098\n",
      "{1: (0.86076776654557219, 11.790726838699474, 122.39851654608245), 2: (0.75088184976680983, 7.7621601763846861, 12.046157343664872), 3: (0.64198301574314953, 6.5155244911755856, 12.620456436115356), 4: (0.80240140139557714, 10.229612977693293, 96.227461715206218), 5: (0.73913241423371201, 7.6168046420238316, 12.265409968233824), 6: (0.90930796245919299, 10.745106057872746, 15.439034583636783)}\n",
      "MD635-F33-2016.05.18-23.06.34_MD635_3_0099\n",
      "{1: (0.90222988573469909, 11.866977534638238, 79.252369820285693)}\n",
      "MD635-F34-2016.05.18-23.23.55_MD635_1_0100\n",
      "{1: (0.78628725336932581, 11.771830279024304, 182.15422510095971)}\n",
      "MD635-F34-2016.05.18-23.23.55_MD635_2_0101\n",
      "{1: (0.86054380899847172, 11.812407515870456, 123.66261342726449), 2: (0.88754540413796157, 11.044592880559041, 57.858567425841677)}\n",
      "MD635-F34-2016.05.18-23.23.55_MD635_3_0102\n",
      "{1: (0.90264392777067493, 11.858892916236428, 78.312681912738256)}\n",
      "MD635-F35-2016.05.18-23.40.52_MD635_1_0103\n",
      "{1: (0.86907457964254109, 11.847415794735479, 116.81952267221426)}\n",
      "MD635-F35-2016.05.18-23.40.52_MD635_2_0104\n",
      "{1: (0.89527616797876108, 11.872285339074129, 88.444370708111705), 2: (0.58941993768814449, 6.0295197461617906, 15.176077807087506), 3: (0.72344803980598993, 7.5861975265543649, 20.121180773769677), 4: (0.90521469458097936, 10.716228425229334, 19.733742586254738)}\n",
      "MD635-F35-2016.05.18-23.40.52_MD635_3_0105\n",
      "{1: (0.90723241069592353, 11.937430914831241, 75.864982361347145)}\n",
      "MD635-F36-2016.05.18-23.59.35_MD635_1_0106\n",
      "{1: (0.87292570497450483, 11.836754960523658, 112.29844227048164)}\n",
      "MD635-F36-2016.05.18-23.59.35_MD635_2_0107\n",
      "{1: (0.87537916619823986, 11.865942040243834, 111.09926002078281), 2: (0.89002400497084522, 11.185139390110372, 61.706798171946055), 3: (0.90593826515559972, 11.041995210695433, 34.458474291502689)}\n",
      "MD635-F36-2016.05.18-23.59.35_MD635_3_0108\n",
      "{1: (0.89466615272402561, 11.819080919284954, 86.636575399134486)}\n",
      "MD635-F37-2016.05.23-14.05.18_MD635_1_0109\n",
      "{1: (0.86520499421258934, 11.884488456509514, 122.53423729923227), 2: (0.76360353363704792, 7.9316288873838037, 12.129648315014132)}\n",
      "MD635-F37-2016.05.23-14.05.18_MD635_2_0110\n",
      "{1: (0.8768634225334242, 11.900243903665721, 111.15524485310584), 2: (0.89210635861198695, 10.384143718383871, 20.56169740445246), 3: (0.86022930684316634, 9.579689172502766, 16.269791903575094)}\n",
      "MD635-F37-2016.05.23-14.05.18_MD635_3_0111\n",
      "{1: (0.89621806738532872, 11.954215019362941, 91.217348927517378), 2: (0.89993284090957282, 11.111454770008368, 45.821053431078063), 3: (0.67988104374535374, 7.054692772305712, 18.844502268940552)}\n",
      "MD635-F38-2016.05.19-00.34.28_MD635_1_0112\n",
      "{1: (0.92387469891714724, 12.085478080698948, 57.76945363970043), 2: (0.88656930398300748, 10.757753550957599, 45.161282916261186), 3: (0.91096720385874164, 11.176654763999412, 33.883970447089915), 4: (0.90650506172423384, 10.8706281222053, 25.412675167862343)}\n",
      "MD635-F38-2016.05.19-00.34.28_MD635_2_0113\n",
      "{1: (0.8864921829643414, 11.903728697718778, 100.52891351039159)}\n",
      "MD635-F38-2016.05.19-00.34.28_MD635_3_0114\n",
      "{1: (0.90665579809278685, 11.919137729692242, 75.781226198686895), 2: (0.83330345344120604, 9.0743079990947493, 16.202753195591029), 3: (0.7178760972820879, 7.3815432271789216, 13.484900352764642)}\n",
      "MD635-F39-2016.05.19-00.52.10_MD635_1_0115\n",
      "{1: (0.88169986319998761, 11.925114520495384, 107.0280871830158)}\n",
      "MD635-F39-2016.05.19-00.52.10_MD635_2_0116\n",
      "{1: (0.86461612139332611, 11.901869848200663, 123.96180343138521), 2: (0.93807530027113517, 11.83640213533865, 19.83760479931534), 3: (0.91974483598030954, 11.133450605686962, 18.546111464245435)}\n",
      "MD635-F39-2016.05.19-00.52.10_MD635_3_0117\n",
      "{1: (0.82771794336871551, 11.882759007842587, 156.31180442283588), 2: (0.91532630145193983, 11.008731286765396, 19.357815503691612), 3: (0.81170910301521593, 10.335728708927617, 94.357879448070292)}\n",
      "MD635-F4-2016.05.18-16.52.52_MD635_1_0010\n",
      "{1: (0.75059192130762931, 10.213499097330677, 130.47166627923164)}\n",
      "MD635-F4-2016.05.18-16.52.52_MD635_2_0011\n",
      "{1: (0.65855317906507782, 10.053212341823819, 174.74838946610166)}\n",
      "MD635-F4-2016.05.18-16.52.52_MD635_3_0012\n",
      "{1: (0.78959177288682991, 10.164070539300049, 102.28943516375486)}\n",
      "MD635-F40-2016.05.19-01.08.51_MD635_1_0118\n",
      "{1: (0.88819337151915456, 11.896444174099257, 98.188221522490807), 2: (0.93730843127567443, 11.57910485431759, 8.9607592946499413)}\n",
      "MD635-F40-2016.05.19-01.08.51_MD635_2_0119\n",
      "{1: (0.89153331068649611, 11.963597700398116, 97.443602352667071), 2: (0.9332069213297266, 11.710043917877373, 23.197338530430006), 3: (0.91299910290639885, 10.888366499293738, 17.018802145391863)}\n",
      "MD635-F40-2016.05.19-01.08.51_MD635_3_0120\n",
      "{1: (0.88339463300885279, 11.932418421340602, 105.46918791728446), 2: (0.91420041159828869, 11.870430632377762, 62.611264669574965)}\n",
      "MD635-F41-2016.05.19-01.28.39_MD635_1_0121\n",
      "{1: (0.90278474710770362, 11.9458645005842, 82.320463090536023)}\n",
      "MD635-F41-2016.05.19-01.28.39_MD635_2_0122\n",
      "{1: (0.89375595777373373, 11.967121061317004, 94.902271332874278), 2: (0.49829605666632643, 4.8899170775023784, 3.2674124313498889)}\n",
      "MD635-F41-2016.05.19-01.28.39_MD635_3_0123\n",
      "{1: (0.89885391928046732, 11.972209362134445, 88.734812493434049), 2: (0.90554397048735968, 10.656143881197101, 16.386164196357445)}\n",
      "MD635-F42-2016.05.19-01.47.04_MD635_1_0124\n",
      "{1: (0.90692718380579429, 11.980670476432927, 78.374026615753721)}\n",
      "MD635-F42-2016.05.19-01.47.04_MD635_2_0125\n",
      "{1: (0.89556342541824685, 11.932968607275049, 91.012946679753028), 2: (0.68745922498410994, 7.8808530462632937, 54.599457712384002), 3: (0.83958274205967931, 9.0367606698862364, 9.0256845349033981)}\n",
      "MD635-F42-2016.05.19-01.47.04_MD635_3_0126\n",
      "{1: (0.8980499717771171, 11.938576522480503, 88.142522622552335), 2: (0.63849876302408037, 7.4742881584328638, 60.636290028583225), 3: (0.79736905301518823, 8.4207774648015512, 12.650435353749918)}\n",
      "MD635-F43-2016.05.19-02.06.14_MD635_1_0127\n",
      "{1: (0.88137433460648573, 11.960109189633755, 109.08049750342748)}\n",
      "MD635-F43-2016.05.19-02.06.14_MD635_2_0128\n",
      "{1: (0.86122632186222248, 11.954985173529408, 129.87391191737132), 2: (0.84614071270391789, 11.175372575405095, 106.39651948265066), 3: (0.90428665131600372, 10.980784838245448, 33.753909744478172), 4: (0.91027871505705227, 11.010306826426453, 26.848745234513487)}\n",
      "MD635-F43-2016.05.19-02.06.14_MD635_3_0129\n",
      "{1: (0.87915811707945846, 11.976166111543046, 112.31305281095374), 2: (0.89669864064558402, 11.591688528813876, 73.125068797519276)}\n",
      "MD635-F44-2016.05.19-02.24.57_MD635_1_0130\n",
      "{1: (0.90295400804459514, 12.024426551521875, 85.884418408418853)}\n",
      "MD635-F44-2016.05.19-02.24.57_MD635_2_0131\n",
      "{1: (0.87954751931534314, 11.969719527774904, 111.57303733451654), 2: (0.90845724691639507, 10.803552616531784, 19.45910354597158)}\n",
      "MD635-F44-2016.05.19-02.24.57_MD635_3_0132\n",
      "{1: (0.89351615738801293, 12.023287027573028, 97.906439078059336), 2: (0.71215614363418656, 7.2251701526444041, 9.2233978981086988), 3: (0.77892671564932259, 8.2583850396815031, 17.734990094214858), 4: (0.89453134961482716, 10.683657066423642, 32.034638205757446)}\n",
      "MD635-F45-2016.05.19-02.43.09_MD635_1_0133\n",
      "{1: (0.89875560809274091, 12.096904630883184, 94.87604442772529), 2: (0.8988201542960913, 10.766206870485629, 30.604687833155513)}\n",
      "MD635-F45-2016.05.19-02.43.09_MD635_2_0134\n",
      "{1: (0.85436146908404142, 11.847681701995258, 131.27749896391771), 2: (0.92984148429036917, 11.498503938477596, 19.161934448297366), 3: (0.84729835140849896, 9.2641512379321789, 13.162929146050384)}\n",
      "MD635-F45-2016.05.19-02.43.09_MD635_3_0135\n",
      "{1: (0.87721728299897106, 11.914413897752222, 111.45518907074238), 2: (0.70584236194300864, 8.0492664707087478, 52.552355952080518), 3: (0.88472613914929565, 11.072404365839089, 62.466440332995802), 4: (0.7060637952291986, 7.6622168578443022, 33.757682116719998), 5: (0.87052230699807731, 10.722022159890802, 61.039953931293994)}\n",
      "MD635-F46-2016.05.19-03.02.11_MD635_1_0136\n",
      "{1: (0.89056316471921204, 11.985218200662837, 99.654650069110644)}\n",
      "MD635-F46-2016.05.19-03.02.11_MD635_2_0137\n",
      "{1: (0.87923981547408936, 12.001855605105419, 113.46230966274895), 2: (0.91400259895754377, 11.121177036737253, 26.764262152935164), 3: (0.91508195767910483, 11.117701221492847, 24.982207220300584)}\n",
      "MD635-F46-2016.05.19-03.02.11_MD635_3_0138\n",
      "{1: (0.88676870970665345, 12.007045509297244, 105.19098947055976), 2: (0.90861927157813838, 10.803565406802569, 19.231795552122819), 3: (0.89634054121234386, 10.804726140036948, 35.615842837009325)}\n",
      "MD635-F47-2016.05.19-03.19.48_MD635_1_0139\n",
      "{1: (0.89016940217481444, 12.030813443100781, 102.32554874117238)}\n",
      "MD635-F47-2016.05.19-03.19.48_MD635_2_0140\n",
      "{1: (0.85109828313264257, 11.821867852301832, 133.06988081519407), 2: (0.53196624424961969, 5.3425501471370067, 9.3370903521821838), 3: (0.70802210786227648, 7.3484105012849215, 17.515547513740614)}\n",
      "MD635-F47-2016.05.19-03.19.48_MD635_3_0141\n",
      "{1: (0.88189743758228201, 12.050112341878229, 112.83598368626922), 2: (0.87985527234489913, 11.167690350486469, 72.545890853147114), 3: (0.83812015073542279, 10.535677510745245, 82.593183474391594)}\n",
      "MD635-F48-2016.05.19-03.40.12_MD635_1_0142\n",
      "{1: (0.88569775525257, 12.018685239087709, 106.99411412866858)}\n",
      "MD635-F48-2016.05.19-03.40.12_MD635_2_0143\n",
      "{1: (0.87771453273492228, 12.043794635908517, 117.15547721307698), 2: (0.87754179330534809, 11.469299850468117, 89.631783072390263), 3: (0.89926505966023096, 10.984253969017795, 40.549566520410849)}\n",
      "MD635-F48-2016.05.19-03.40.12_MD635_3_0144\n",
      "{1: (0.85367948648774117, 11.966796027079656, 137.66262681080474), 2: (0.91156718866047659, 10.887676870067981, 19.077270701383931)}\n",
      "MD635-F49-2016.05.19-03.59.43_MD635_1_0145\n",
      "{1: (0.90603531304871432, 12.061907491674003, 83.522446490888541), 2: (0.64650511013904388, 7.8554087182469132, 74.945594750975459)}\n",
      "MD635-F49-2016.05.19-03.59.43_MD635_2_0146\n",
      "{1: (0.87824143483560524, 11.999528937728286, 114.44533493313678), 2: (0.62666238437927235, 7.8175224161075896, 83.146130712084513), 3: (0.88504188661782957, 11.035117431576841, 60.305507206311987)}\n",
      "MD635-F49-2016.05.23-14.25.13_MD635_3_0147\n",
      "{1: (0.89685134698409008, 12.111153200156153, 97.989475906239619), 2: (0.40436577180314959, 6.5797493283321229, 129.25651845781422)}\n",
      "MD635-F5-2016.05.18-17.01.34_MD635_1_0013\n",
      "{1: (0.62459381239257383, 10.14120421822537, 196.265171986154)}\n",
      "MD635-F5-2016.05.18-17.01.34_MD635_2_0014\n",
      "{1: (0.77332301653639157, 10.241504818063694, 117.16412723893653)}\n",
      "MD635-F5-2016.05.18-17.01.34_MD635_3_0015\n",
      "{1: (0.81658289944622886, 10.330317393335793, 90.331491200849484)}\n",
      "MD635-F50-2016.05.23-14.45.07_MD635_1_0148\n",
      "{1: (0.91212705711680653, 12.092028104076665, 76.356967764152344), 2: (0.64311473647571482, 7.7370504282953156, 70.966803510542604)}\n",
      "MD635-F50-2016.05.23-14.45.07_MD635_2_0149\n",
      "{1: (0.89698521262545072, 12.067385478468562, 95.709017495416816), 2: (0.80456723193844804, 8.5612358505150556, 14.147104429337169), 3: (0.49084808571120908, 5.0815942926426363, 15.996257258222791), 4: (0.73743195837610431, 7.7069787420022546, 17.643843934616594), 5: (0.60398214454852561, 7.6818316934899, 87.803949128923378)}\n",
      "MD635-F50-2016.05.23-14.45.07_MD635_3_0150\n",
      "{1: (0.89136205294274595, 12.098920871578304, 104.17801538243319), 2: (0.87182262590679405, 10.907076132371744, 68.611980991722689), 3: (0.54147799839492738, 7.5804912388294774, 112.81615460420663)}\n",
      "MD635-F51-2016.05.23-15.04.39_MD635_1_0151\n",
      "{1: (0.91741991762608122, 12.121365402067763, 69.833877203927301), 2: (0.60662349582878838, 7.5196309153847078, 78.687563894566551), 3: (0.92162224145648441, 11.148356118658654, 16.259744421390497)}\n",
      "MD635-F51-2016.05.23-15.04.39_MD635_2_0152\n",
      "{1: (0.90411887381615996, 12.107226670970494, 88.316117397905728), 2: (0.67201283298517367, 6.8990895476443956, 15.537826168685791), 3: (0.90922949998419889, 10.876926501369383, 21.908787157418974)}\n",
      "MD635-F51-2016.05.23-15.04.39_MD635_3_0153\n",
      "{1: (0.90267613527130985, 12.11963193496018, 90.847012717380821), 2: (0.81424898860192008, 8.744148236566307, 15.632619085677209), 3: (0.90483656257934775, 10.799624065040431, 24.270714543083415)}\n",
      "MD635-F52-2016.05.19-04.56.12_MD635_2_0155\n",
      "{1: (0.89407707029855921, 12.129830452773817, 102.35500117620572), 2: (0.17121337043424367, 6.9693697582356764, 287.12494455559073), 3: (0.49838517386054293, 7.1487369669995555, 112.18366845400553), 4: (0.89610862981411799, 10.662173974965643, 29.031079582335231)}\n",
      "MD635-F52-2016.05.23-15.23.47_MD635_1_0154\n",
      "{1: (0.91986738921726741, 12.147898849578453, 67.285491833827393), 2: (0.60981603384246896, 7.2528300190194006, 64.251848482923606), 3: (0.31822249535894703, 4.5084154096053934, 73.136228425997459)}\n",
      "MD635-F52-2016.05.23-15.23.47_MD635_3_0156\n",
      "{1: (0.85773413452396929, 12.040165859836101, 137.36290038305361)}\n",
      "MD635-F53-2016.05.19-05.14.50_MD635_2_0158\n",
      "{1: (0.89987366563122384, 12.223619923226591, 99.544977454609494), 2: (0.89920033359527807, 11.151429323454234, 48.697046065390388), 3: (0.91552121505495865, 11.041523681838045, 20.645328149440935)}\n",
      "MD635-F53-2016.05.19-05.14.50_MD635_3_0159\n",
      "{1: (0.89006568528443941, 12.1839053561262, 109.83414708498329)}\n",
      "MD635-F53-2016.05.23-15.42.22_MD635_1_0157\n",
      "{1: (0.90223689726233236, 12.095047383267506, 90.244405698392086), 2: (0.91978781843369328, 11.112606161607983, 17.472560283929781)}\n",
      "MD635-F54-2016.05.19-05.34.49_MD635_3_0162\n",
      "{1: (0.89928943992169486, 12.189865322648604, 98.672766999046061), 2: (0.92666331597650275, 11.309626713003368, 15.630209876343502), 3: (0.91154742716947346, 10.855210386054054, 17.53984877305556)}\n",
      "MD635-F54-2016.05.23-16.02.27_MD635_2_0161\n",
      "{1: (0.93335691566320567, 12.270762298162172, 49.962933477556007)}\n",
      "MD635-F55-2016.05.19-05.55.53_MD635_2_0164\n",
      "{1: (0.8792457089133372, 12.186886940638495, 122.38111473452041), 2: (0.16517535825653232, 4.7125045426339423, 183.30667724463225), 3: (0.3228126242208898, 5.1696236073521273, 102.56696961539244), 4: (0.9284102092717843, 11.814670879018028, 36.953555312680479)}\n",
      "MD635-F55-2016.05.23-16.24.34_MD635_3_0165\n",
      "{1: (0.88599400501404679, 12.203432213632439, 115.56323736554002), 2: (0.17807461593174778, 4.3686130218582147, 156.10834933244902), 3: (0.31352579947641612, 5.2005877177534376, 109.06493992310968), 4: (0.90503574021147171, 10.786663160699625, 23.374878377352076)}\n",
      "MD635-F56-2016.05.19-06.13.54_MD635_1_0166\n",
      "{1: (0.9121404201018628, 12.247190962192427, 83.822015508851578)}\n",
      "MD635-F56-2016.05.19-06.13.54_MD635_2_0167\n",
      "{1: (0.88543854453326276, 12.212616588917305, 116.64771897403303)}\n",
      "MD635-F57-2016.05.19-06.32.00_MD635_1_0169\n",
      "{1: (0.94188768456128147, 12.35906256488488, 37.147255544461061), 2: (0.93288979175676157, 11.551949003608026, 16.164792451667935), 3: (0.86471616004910112, 9.5342949266932635, 9.6579659542614991)}\n",
      "MD635-F57-2016.05.19-06.32.00_MD635_2_0170\n",
      "{1: (0.93267310635528877, 12.307831838279741, 53.030030106022537), 2: (0.92969002216943941, 11.279437758268539, 8.8660421510244767)}\n",
      "MD635-F58-2016.05.19-06.52.57_MD635_1_0172\n",
      "{1: (0.90018700460888801, 12.249856046979554, 100.4034376781818), 2: (0.91543642361624866, 11.053313082166746, 21.342104241685558), 3: (0.56569781768313743, 6.3240023641948522, 40.748727391171364), 4: (0.86243285799390934, 10.043820722101991, 36.501319932446478)}\n",
      "MD635-F58-2016.05.19-06.52.57_MD635_2_0173\n",
      "{1: (0.87854746861911959, 12.237510615884759, 125.58987239619699), 2: (0.87035349512562621, 10.515026041828166, 51.23012954204998), 3: (0.82772980788869255, 9.7626101664224372, 54.033180917515118)}\n",
      "MD635-F59-2016.05.19-07.14.24_MD635_1_0175\n",
      "{1: (0.90131022686467266, 12.284840555189179, 100.62230749870531)}\n",
      "MD635-F59-2016.05.19-07.14.24_MD635_2_0176\n",
      "{1: (0.89420969048962684, 12.265035340146984, 108.71304687427995), 2: (0.84451069652226629, 9.3503872512990043, 19.822615542420614)}\n",
      "MD635-F6-2016.05.18-17.10.18_MD635_1_0016\n",
      "{1: (0.72711872694981738, 10.301581101493451, 148.94867319145979)}\n",
      "MD635-F6-2016.05.18-17.10.18_MD635_2_0017\n",
      "{1: (0.78872593054597562, 10.399743889458072, 114.26582331046849)}\n",
      "MD635-F6-2016.05.18-17.10.18_MD635_3_0018\n",
      "{1: (0.80076669672758272, 10.408359387087524, 106.05105046550415)}\n",
      "MD635-F60-2016.05.19-07.35.14_MD635_1_0178\n",
      "{1: (0.91988889639153015, 12.320788841243084, 75.591016401934098)}\n",
      "MD635-F60-2016.05.19-07.35.14_MD635_2_0179\n",
      "{1: (0.8774043312475559, 12.265791382384698, 128.20132894517545), 2: (0.68563944637351337, 7.3468709492153543, 29.830434215234501)}\n",
      "MD635-F61-2016.05.19-07.56.43_MD635_1_0181\n",
      "{1: (0.84434184464751005, 12.272159897144745, 160.90941292153613), 2: (0.90326159785134863, 10.775875870337211, 25.247603455542404)}\n",
      "MD635-F61-2016.05.19-07.56.43_MD635_2_0182\n",
      "{1: (0.8473311927679793, 12.266801378388015, 157.97106749509834), 2: (0.88895707300912308, 10.370250979633839, 23.668100839688865), 3: (0.90231477575447638, 10.59927495353041, 17.990095333719804)}\n",
      "MD635-F62-2016.05.19-08.18.25_MD635_1_0184\n",
      "{1: (0.89930852800158134, 12.33598286089123, 105.69635023274812)}\n",
      "MD635-F62-2016.05.19-08.18.25_MD635_2_0185\n",
      "{1: (0.89599282061203178, 12.315111580049919, 108.9086069156529), 2: (0.92406847036984296, 11.702060451549649, 38.952228146051432), 3: (0.87869081831963891, 10.680702352653558, 50.337519620523146), 4: (0.87593128396532638, 11.237699162855225, 80.202181285767125)}\n",
      "MD635-F63-2016.05.19-08.39.03_MD635_1_0187\n",
      "{1: (0.87813243596844903, 12.307046856852395, 129.39807829257089), 2: (0.92807107902206221, 11.344005715711248, 14.84538337343124)}\n",
      "MD635-F63-2016.05.19-08.39.03_MD635_2_0188\n",
      "{1: (0.89262926662716058, 12.31012640829022, 112.82826379209247)}\n",
      "MD635-F64-2016.05.19-09.00.59_MD635_1_0190\n",
      "{1: (0.88568148807219271, 12.317075486843807, 121.40624472843866), 2: (0.6983663822239824, 7.2806634312188798, 19.655940382884502)}\n",
      "MD635-F64-2016.05.19-09.00.59_MD635_2_0191\n",
      "{1: (0.89005812902135839, 12.29441389673074, 115.17373668055895), 2: (0.93620107118884321, 11.700641140070154, 17.008200040568255), 3: (0.90967364164723241, 11.630147955157287, 57.611217353693611), 4: (0.91591914086309478, 11.042559652011214, 20.092587964665096)}\n",
      "MD635-F65-2016.05.19-09.20.00_MD635_1_0193\n",
      "{1: (0.85338330383115668, 12.269035398390193, 152.51858655756646)}\n",
      "MD635-F65-2016.05.19-09.20.00_MD635_2_0194\n",
      "{1: (0.88979678271410834, 12.292536692089444, 115.39505851801492), 2: (0.92828076985012897, 11.334593207225112, 14.023673119960792), 3: (0.83826519085610041, 10.709947454642649, 90.874374925400033)}\n",
      "MD635-F66-2016.05.19-09.39.33_MD635_1_0196\n",
      "{1: (0.86179456232769391, 12.314490914996689, 146.65853302612811), 2: (0.89880597238043325, 10.692552145877206, 27.070057775596648)}\n",
      "MD635-F66-2016.05.19-09.39.33_MD635_2_0197\n",
      "{1: (0.87583114185541577, 12.291958867380393, 131.16382566243189), 2: (0.87780136171334633, 11.012317683537342, 67.305880993443566)}\n",
      "MD635-F67-2016.05.19-09.59.06_MD635_1_0199\n",
      "{1: (0.87795275614709711, 12.328364110568378, 130.6224926553717), 2: (0.68316317891225131, 7.4514746894253436, 36.216297987683468)}\n",
      "MD635-F67-2016.05.19-09.59.06_MD635_2_0200\n",
      "{1: (0.89856035956386404, 12.337060497614068, 106.71097050961899), 2: (0.92460983765559268, 11.440306944382044, 25.421246872138529), 3: (0.91979331449018897, 10.969516445510861, 10.561682150694514)}\n",
      "MD635-F68-2016.05.19-10.18.40_MD635_1_0202\n",
      "{1: (0.86276365566964086, 12.296141609221014, 144.81950194418874), 2: (0.76159600433630437, 8.0560802706684242, 19.428989490385817)}\n",
      "MD635-F68-2016.05.19-10.18.40_MD635_2_0203\n",
      "{1: (0.88743970296214902, 12.330417356749315, 120.00618959561579), 2: (0.40216194234811053, 6.623984531403444, 132.46081100961865), 3: (0.87916672565359699, 9.9194852146730454, 13.096164643641439), 4: (0.92996518438364284, 11.428558150564621, 15.566149204072261), 5: (0.89931623244769143, 11.285296215011096, 55.004790370046081), 6: (0.86556971759914536, 10.770850674359634, 68.450088026398703), 7: (0.89913305223424889, 10.588410791083655, 21.625657773353151)}\n",
      "MD635-F69-2016.05.19-10.38.34_MD635_1_0205\n",
      "{1: (0.86532738877046911, 12.319883641818286, 143.41352265713621), 2: (0.89861941107189081, 10.627570396606936, 24.175128956219499)}\n",
      "MD635-F69-2016.05.19-10.38.34_MD635_2_0206\n",
      "{1: (0.83248820168426485, 12.299069800090784, 172.43920163715575)}\n",
      "MD635-F7-2016.05.18-17.18.49_MD635_1_0019\n",
      "{1: (0.7244076435969159, 10.431637074166222, 156.81441436466267)}\n",
      "MD635-F7-2016.05.18-17.18.49_MD635_2_0020\n",
      "{1: (0.76688922051080533, 10.47805018509229, 132.82248642507886)}\n",
      "MD635-F7-2016.05.18-17.18.49_MD635_3_0021\n",
      "{1: (0.81834625801288097, 10.512699626664201, 97.747597027081213)}\n",
      "MD635-F70-2016.05.19-10.57.59_MD635_1_0208\n",
      "{1: (0.85775912101964058, 12.345201210461422, 152.05284928885351)}\n",
      "MD635-F70-2016.05.19-10.57.59_MD635_2_0209\n",
      "{1: (0.83522961250864347, 12.313339949724607, 170.81438370388477), 2: (0.921448287532599, 11.072351290011435, 12.874742182518201), 3: (0.77263487583465096, 8.2238808754871293, 20.299080341185753), 4: (0.73307684971278919, 7.5623281216262015, 13.28175332377149)}\n",
      "MD635-F71-2016.05.19-11.17.07_MD635_1_0211\n",
      "{1: (0.91590210053028587, 12.401422830611503, 85.665471175037297)}\n",
      "MD635-F71-2016.05.19-11.17.07_MD635_2_0212\n",
      "{1: (0.89661421045297329, 12.370695404926259, 110.80826599184671), 2: (0.81757528974168692, 8.6648419915049431, 9.2183650426810821), 3: (0.91139943092631204, 10.883582498446996, 19.122825523980573)}\n",
      "MD635-F72-2016.05.19-11.37.07_MD635_1_0214\n",
      "{1: (0.89679619167853242, 12.362128574508926, 110.16536726590755)}\n",
      "MD635-F72-2016.05.19-11.37.07_MD635_2_0215\n",
      "{1: (0.87094202419280431, 12.335669643690457, 138.44102954047338)}\n",
      "MD635-F73-2016.05.19-11.56.44_MD635_1_0217\n",
      "{1: (0.90532522060347309, 12.436025575987598, 102.5403540213951)}\n",
      "MD635-F73-2016.05.19-11.56.44_MD635_2_0218\n",
      "{1: (0.88360478287862254, 12.325545099128782, 124.19364035265345), 2: (0.91840442268532996, 11.079491712231086, 18.050029351720028)}\n",
      "MD635-F74-2016.05.19-12.15.18_MD635_1_0220\n",
      "{1: (0.91879099846286372, 12.406679542292258, 81.464816980187564), 2: (0.90936269181812424, 10.647538574656886, 10.655106946173433)}\n",
      "MD635-F74-2016.05.19-12.15.18_MD635_2_0221\n",
      "{1: (0.89323362544401541, 12.349938227242919, 114.0097129520272)}\n",
      "MD635-F75-2016.05.19-12.32.46_MD635_1_0223\n",
      "{1: (0.90226111943490561, 12.172557276665826, 93.95112004864157), 2: (0.94035509945690754, 12.081615146252769, 26.997358127587241), 3: (0.9276393213452786, 11.369344850611277, 16.821620431394408), 4: (0.93076420344452848, 11.494800064120927, 17.31974679479184)}\n",
      "MD635-F75-2016.05.19-12.32.46_MD635_2_0224\n",
      "{1: (0.87906557022248721, 12.367222408950958, 131.27809739658804)}\n",
      "MD635-F76-2016.05.19-12.50.14_MD635_1_0226\n",
      "{1: (0.88461812099019266, 12.317789258652859, 122.66340529257975)}\n",
      "MD635-F77-2016.05.19-13.07.42_MD635_1_0229\n",
      "{1: (0.92212470741319819, 12.384646865728083, 75.078765907287206)}\n",
      "MD635-F77-2016.05.19-13.07.42_MD635_2_0230\n",
      "{1: (0.89652719520295443, 12.331654064869882, 109.03473054612941), 2: (0.89028536259937718, 10.774628189404357, 41.592658383196657)}\n",
      "MD635-F78-2016.05.19-13.26.25_MD635_1_0232\n",
      "{1: (0.92336429889584448, 12.38753806028825, 73.185544442524858)}\n",
      "MD635-F78-2016.05.19-13.26.25_MD635_2_0233\n",
      "{1: (0.90063395473004282, 12.337602540480418, 104.05339731689303)}\n",
      "MD635-F79-2016.05.19-13.44.43_MD635_1_0235\n",
      "{1: (0.91615905232572969, 12.372577979024086, 83.883598080777588)}\n",
      "MD635-F79-2016.05.19-13.44.43_MD635_2_0236\n",
      "{1: (0.29208084945198709, 5.6798449958811039, 144.06060344797314), 2: (0.89712602192212076, 12.343905012098174, 108.86915707170876)}\n",
      "MD635-F8-2016.05.18-17.27.15_MD635_1_0022\n",
      "{1: (0.76943856861192328, 10.53711659640717, 133.9982867016146)}\n",
      "MD635-F8-2016.05.18-17.27.15_MD635_2_0023\n",
      "{1: (0.79475806553349104, 10.539052060866036, 116.70893635454154)}\n",
      "MD635-F8-2016.05.18-17.27.15_MD635_3_0024\n",
      "{1: (0.86738167263350074, 10.645429347453803, 60.569428867674588)}\n",
      "MD635-F80-2016.05.19-14.03.50_MD635_1_0238\n",
      "{1: (0.36095149579225877, 5.5080700693049636, 99.06264150601254), 2: (0.92649891650003502, 12.380142345433116, 67.550797576372247), 3: (0.92697758113756656, 11.325228505973135, 15.841155595902954)}\n",
      "MD635-F80-2016.05.19-14.03.50_MD635_2_0239\n",
      "{1: (0.17132457278676011, 4.7103473092854538, 178.06566507992142), 2: (0.89914935713338606, 12.319638498973212, 105.11328210412174), 3: (0.91135061326978395, 11.142861969467013, 31.700251843927656)}\n",
      "MD635-F81-2016.05.19-14.21.58_MD635_1_0241\n",
      "{1: (0.21987148295314299, 4.8419054161129598, 148.19151047063272), 2: (0.91258211419314228, 12.383416391114588, 89.747342347582673)}\n",
      "MD635-F82-2016.05.19-14.39.57_MD635_1_0244\n",
      "{1: (0.082484299716296949, 6.2604071969768942, 350.18413150125286), 2: (0.89409229122920653, 12.410945391207276, 115.89625799672511)}\n",
      "MD635-F82-2016.05.19-14.39.57_MD635_2_0245\n",
      "{1: (0.085065920540765269, 5.7958333903775525, 323.84276342191987), 2: (0.88453998279301638, 12.415003231538019, 127.44214394093228), 3: (0.037445117699017046, 5.5371092267064128, 413.21151756691205)}\n",
      "MD635-F83-2016.05.19-14.59.24_MD635_1_0247\n",
      "{1: (0.90611769455390168, 12.3348476546558, 96.575010507703141)}\n",
      "MD635-F83-2016.05.19-14.59.24_MD635_2_0248\n",
      "{1: (0.070129893927915576, 3.9507319496506792, 259.30373043090725), 2: (0.87683653137011774, 12.307144725860384, 130.81189128386922)}\n",
      "MD635-F84-2016.05.19-15.18.11_MD635_1_0250\n",
      "{1: (0.88065237407724417, 12.294051868892634, 125.99383493009312)}\n",
      "MD635-F84-2016.05.19-15.18.11_MD635_2_0251\n",
      "{1: (0.83318809719528009, 12.246096189922124, 169.29626736894377), 2: (0.075424501397210728, 4.964496422254852, 299.02893226787813), 3: (0.93892249052669574, 12.004090018102769, 26.210518414065195)}\n",
      "MD635-F85-2016.05.19-15.36.47_MD635_1_0253\n",
      "{1: (0.91155778851393121, 12.320818364351242, 88.220859116247624), 2: (0.93311704101417303, 11.943561454387357, 34.629896869820357), 3: (0.90442816829691697, 11.462653568797617, 56.806393573842797)}\n",
      "MD635-F85-2016.05.19-15.36.47_MD635_2_0254\n",
      "{1: (0.86427151910848576, 12.273781575446799, 142.24534294389065), 2: (0.92553461774638468, 11.295151899714252, 16.859833690506854)}\n",
      "MD635-F86-2016.05.19-15.55.34_MD635_1_0256\n",
      "{1: (0.90528223417835052, 12.317296756145574, 96.871885853680411), 2: (0.90509525781603928, 10.988450061366052, 33.027432405427469)}\n",
      "MD635-F86-2016.05.19-15.55.34_MD635_2_0257\n",
      "{1: (0.85276289735070854, 12.277774213658869, 153.51872343538898)}\n",
      "MD635-F87-2016.05.19-16.15.25_MD635_1_0259\n",
      "{1: (0.91068967299515913, 12.318139398646972, 89.344807175515584)}\n",
      "MD635-F87-2016.05.19-16.15.25_MD635_2_0260\n",
      "{1: (0.87067332788868368, 12.301254865653034, 137.06016326358886), 2: (0.92282782050677448, 11.234747819045939, 18.462182638053022), 3: (0.92091820853543593, 11.149956047633172, 17.471572274764704)}\n",
      "MD635-F88-2016.05.19-16.34.48_MD635_1_0262\n",
      "{1: (0.87851893411443716, 12.273752235879885, 127.3693041201682)}\n",
      "MD635-F88-2016.05.19-16.34.48_MD635_2_0263\n",
      "{1: (0.84176696823716579, 12.293735257647834, 164.22498881164228), 2: (0.92683193188007451, 11.283216985906304, 14.065951545965659)}\n",
      "MD635-F89-2016.05.19-16.53.54_MD635_1_0265\n",
      "{1: (0.92933642046473597, 12.367307039977314, 61.972100032762846)}\n",
      "MD635-F89-2016.05.19-16.53.54_MD635_2_0266\n",
      "{1: (0.87479529528732081, 12.310709966442715, 133.17776430449277)}\n",
      "MD635-F9-2016.05.18-17.35.56_MD635_1_0025\n",
      "{1: (0.77704573483438066, 10.729882563802269, 138.22477300046299)}\n",
      "MD635-F9-2016.05.18-17.35.56_MD635_2_0026\n",
      "{1: (0.68552227397793886, 10.481430478950971, 181.09465516403944)}\n",
      "MD635-F9-2016.05.18-17.35.56_MD635_3_0027\n",
      "{1: (0.66559929193872969, 10.638360892652363, 199.29247374738947)}\n",
      "MD635-F90-2016.05.19-17.14.09_MD635_2_0269\n",
      "{1: (0.88858286809153153, 12.328459116290766, 118.56799783843518), 2: (0.8984861844152795, 11.06176325192728, 45.289986268170615), 3: (0.92611773998359137, 11.291647939297624, 15.698212912219754)}\n",
      "MD635-F91-2016.05.19-17.33.31_MD635_1_0271\n",
      "{1: (0.90890784615863551, 12.335512693525557, 92.720966747028911)}\n",
      "MD635-F91-2016.05.19-17.33.31_MD635_2_0272\n",
      "{1: (0.86387669153050983, 12.306258096975393, 144.20486143588363), 2: (0.68702247054741483, 7.002747299168087, 12.480096182907362)}\n",
      "MD635-F92-2016.05.19-17.52.45_MD635_1_0274\n",
      "{1: (0.89227590064402384, 12.342485943968452, 114.8195410696315)}\n",
      "MD635-F92-2016.05.19-17.52.45_MD635_2_0275\n",
      "{1: (0.86426421746517457, 12.329993428196046, 144.96409077517401)}\n",
      "MD635-F93-2016.05.19-18.12.24_MD635_1_0277\n",
      "{1: (0.91825446728239435, 12.421370690219739, 83.011506234156698)}\n",
      "MD635-F93-2016.05.19-18.12.24_MD635_2_0278\n",
      "{1: (0.8925260045466219, 12.295384008646115, 112.24303034594547)}\n",
      "MD635-F94-2016.05.19-18.31.07_MD635_1_0280\n",
      "{1: (0.87256730513683523, 12.253221195372612, 132.7646098694976), 2: (0.91758102736386915, 10.93820052011257, 12.513151705635801)}\n",
      "MD635-F94-2016.05.19-18.31.07_MD635_2_0281\n",
      "{1: (0.89596841009223649, 12.354506649751555, 110.839510110519), 2: (0.94012332051644698, 11.824152523364722, 15.060405650188555), 3: (0.93475902527705168, 11.605089041084856, 15.192020644744048), 4: (0.94304594968021005, 11.845164223452164, 9.8614465610346542), 5: (0.93301312489825272, 11.401922203794074, 8.6975252607144551), 6: (0.89764820208270635, 11.158680082254715, 51.034989046767954), 7: (0.84081266661203202, 10.733527571966944, 89.801249818435437)}\n",
      "MD635-F95-2016.05.19-18.49.58_MD635_1_0283\n",
      "{1: (0.88937413344014205, 12.238333058014554, 113.28344701395051), 2: (0.92869368003761943, 11.381275393115198, 15.548539344449035)}\n",
      "MD635-F95-2016.05.19-18.49.58_MD635_2_0284\n",
      "{1: (0.92059443140209607, 12.398833910942095, 78.231985678715859), 2: (0.92542188769853595, 11.260279520839623, 15.368772822533201)}\n",
      "MD635-F96-2016.05.19-19.08.35_MD635_1_0286\n",
      "{1: (0.89184851694202127, 12.32498455617106, 114.49418414853416)}\n",
      "MD635-F96-2016.05.19-19.08.35_MD635_2_0287\n",
      "{1: (0.89360935875520831, 12.342966114422273, 113.21213981249829)}\n",
      "MD635-F97-2016.05.19-19.26.37_MD635_1_0289\n",
      "{1: (0.86263360977378656, 12.34084698830217, 147.104278316316), 2: (0.89154787065737029, 11.274141999600873, 64.168961213848362)}\n",
      "MD635-F97-2016.05.19-19.26.37_MD635_2_0290\n",
      "{1: (0.88109823305568102, 12.329600977444025, 127.21192702066814)}\n",
      "MD635-F98-2016.05.19-19.46.20_MD635_1_0292\n",
      "{1: (0.91075115894691161, 12.3778616631724, 92.137213829210992), 2: (0.13739975833005399, 4.0315357731984101, 175.80669850446503)}\n",
      "MD635-F98-2016.05.19-19.46.20_MD635_2_0293\n",
      "{1: (0.89766485530955242, 12.336619954741179, 107.83368393304411), 2: (0.157830234742386, 5.2456193818467289, 215.36359341199176), 3: (0.91057750757611211, 10.797885862540603, 16.173969568755517)}\n",
      "MD635-F99-2016.05.19-20.06.21_MD635_1_0295\n",
      "{1: (0.92880173273159661, 12.40279794235226, 64.632506933962887)}\n",
      "MD635-F99-2016.05.19-20.06.21_MD635_2_0296\n",
      "{1: (0.91958446924704951, 12.371049705036476, 78.497487548147333)}\n"
     ]
    }
   ],
   "source": [
    "for fn, d in sorted(predictions.items()):\n",
    "    print fn\n",
    "    print d"
   ]
  },
  {
   "cell_type": "code",
   "execution_count": null,
   "metadata": {
    "collapsed": true
   },
   "outputs": [],
   "source": []
  }
 ],
 "metadata": {
  "kernelspec": {
   "display_name": "Python 2",
   "language": "python",
   "name": "python2"
  },
  "language_info": {
   "codemirror_mode": {
    "name": "ipython",
    "version": 2
   },
   "file_extension": ".py",
   "mimetype": "text/x-python",
   "name": "python",
   "nbconvert_exporter": "python",
   "pygments_lexer": "ipython2",
   "version": "2.7.3"
  }
 },
 "nbformat": 4,
 "nbformat_minor": 1
}
