{
 "cells": [
  {
   "cell_type": "code",
   "execution_count": 1,
   "metadata": {},
   "outputs": [
    {
     "name": "stdout",
     "output_type": "stream",
     "text": [
      "Setting environment for Precision WorkStation\n"
     ]
    },
    {
     "name": "stderr",
     "output_type": "stream",
     "text": [
      "No vtk\n"
     ]
    }
   ],
   "source": [
    "%reload_ext autoreload\n",
    "%autoreload 2\n",
    "\n",
    "import numpy as np\n",
    "import bloscpack as bp\n",
    "\n",
    "import sys\n",
    "import os\n",
    "sys.path.append(os.path.join(os.environ['REPO_DIR'], 'utilities'))\n",
    "from utilities2015 import *\n",
    "from annotation_utilities import *\n",
    "from registration_utilities import *\n",
    "from vis3d_utilities import *\n",
    "from metadata import *\n",
    "from data_manager import *\n",
    "\n",
    "import time\n",
    "\n",
    "import matplotlib.pyplot as plt\n",
    "%matplotlib inline"
   ]
  },
  {
   "cell_type": "code",
   "execution_count": 11,
   "metadata": {
    "collapsed": true
   },
   "outputs": [],
   "source": [
    "stack = 'M920'"
   ]
  },
  {
   "cell_type": "code",
   "execution_count": 12,
   "metadata": {},
   "outputs": [],
   "source": [
    "if stack == 'M919':\n",
    "    raw_data_dirs = \\\n",
    "    {('Nissl', 'down64'): os.path.join('/home/yuncong/LGN3Datlas', 'm919', 'STIF'),\n",
    "    }\n",
    "    \n",
    "    input_image_filename_to_imagename_re_pattern_mapping = \\\n",
    "    {('Nissl', 'down64'): os.path.join('/home/yuncong/LGN3Datlas', 'm919', 'STIF', '(.*).tif'),\n",
    "    }\n",
    "elif stack == 'M920':\n",
    "    raw_data_dirs = \\\n",
    "    {('Nissl', 'down64'): os.path.join('/home/yuncong/LGN3Datlas', 'm920', 'STIF'),\n",
    "    }\n",
    "    \n",
    "    input_image_filename_to_imagename_re_pattern_mapping = \\\n",
    "    {('Nissl', 'down64'): os.path.join('/home/yuncong/LGN3Datlas', 'm920', 'STIF', '(.*).tif'),\n",
    "    }\n",
    "elif stack == 'M1144':\n",
    "    raw_data_dirs = \\\n",
    "    {('Nissl', 'down64'): os.path.join('/home/yuncong/LGN3Datlas', 'm1144', 'STIF'),\n",
    "    }\n",
    "    \n",
    "    input_image_filename_to_imagename_re_pattern_mapping = \\\n",
    "    {('Nissl', 'down64'): os.path.join('/home/yuncong/LGN3Datlas', 'm1144', 'STIF', '(.*).tif'),\n",
    "    }\n",
    "else:\n",
    "    raise"
   ]
  },
  {
   "cell_type": "code",
   "execution_count": 17,
   "metadata": {},
   "outputs": [
    {
     "name": "stdout",
     "output_type": "stream",
     "text": [
      "('Nissl', 'down64') missing:\n",
      "set([])\n",
      "\n"
     ]
    }
   ],
   "source": [
    "image_names_all_data_dirs_flattened = set([])\n",
    "image_names_all_data_dirs = {}\n",
    "for vr, data_dir in raw_data_dirs.iteritems():\n",
    "    if data_dir is None: continue\n",
    "    image_names = set([])\n",
    "    if vr in input_image_filename_to_imagename_re_pattern_mapping:\n",
    "        for fn in os.listdir(data_dir):\n",
    "            g = re.search(input_image_filename_to_imagename_re_pattern_mapping[vr], os.path.join(data_dir, fn))\n",
    "            img_name = g.groups()[0]\n",
    "            image_names.add(img_name)\n",
    "            image_names_all_data_dirs_flattened.add(img_name)\n",
    "    image_names_all_data_dirs[vr] = image_names\n",
    "    \n",
    "    \n",
    "# Make sure the every image has all three channels.\n",
    "for vr, img_names in image_names_all_data_dirs.iteritems():\n",
    "    print vr, 'missing:' \n",
    "    print image_names_all_data_dirs_flattened - img_names\n",
    "    print "
   ]
  },
  {
   "cell_type": "code",
   "execution_count": 18,
   "metadata": {},
   "outputs": [
    {
     "name": "stdout",
     "output_type": "stream",
     "text": [
      "52 images are found.\n"
     ]
    }
   ],
   "source": [
    "print len(image_names_all_data_dirs_flattened), 'images are found.'"
   ]
  },
  {
   "cell_type": "code",
   "execution_count": 19,
   "metadata": {
    "collapsed": true
   },
   "outputs": [],
   "source": [
    "# valid_filenames = sorted(list(image_names_all_data_dirs_flattened), key=lambda n: int(n.split('_')[-1]))"
   ]
  },
  {
   "cell_type": "code",
   "execution_count": 20,
   "metadata": {
    "collapsed": true
   },
   "outputs": [],
   "source": [
    "thumbnail_downscale_factor = 64"
   ]
  },
  {
   "cell_type": "code",
   "execution_count": 21,
   "metadata": {
    "collapsed": true
   },
   "outputs": [],
   "source": [
    "sections_to_filenames = {}\n",
    "for img_name in image_names_all_data_dirs_flattened:\n",
    "    sections_to_filenames[int(img_name.split('_')[-1])] = img_name"
   ]
  },
  {
   "cell_type": "code",
   "execution_count": 22,
   "metadata": {},
   "outputs": [
    {
     "name": "stdout",
     "output_type": "stream",
     "text": [
      "52 valid filenames\n"
     ]
    }
   ],
   "source": [
    "# Note that this could be the human-corrected version, in which case the transforms may not exist.\n",
    "valid_filenames = sorted([fn for fn in sections_to_filenames.values() if not is_invalid(fn=fn)], \n",
    "                         key=lambda n: int(n.split('_')[-1]))\n",
    "print len(valid_filenames), 'valid filenames'"
   ]
  },
  {
   "cell_type": "code",
   "execution_count": 23,
   "metadata": {
    "collapsed": true
   },
   "outputs": [],
   "source": [
    "tb_fmt = 'tif'"
   ]
  },
  {
   "cell_type": "code",
   "execution_count": 24,
   "metadata": {
    "collapsed": true
   },
   "outputs": [],
   "source": [
    "version = 'Nissl'"
   ]
  },
  {
   "cell_type": "code",
   "execution_count": 26,
   "metadata": {},
   "outputs": [],
   "source": [
    "# Create the sorted image name file.\n",
    "\n",
    "sorted_filelist_fp = DataManager.get_sorted_filenames_filename(stack=stack)\n",
    "\n",
    "create_parent_dir_if_not_exists(sorted_filelist_fp)\n",
    "\n",
    "with open(sorted_filelist_fp, 'w') as f:\n",
    "    for img_name in valid_filenames:\n",
    "        f.write('%s %d\\n' % (img_name, int(img_name.split('_')[-1])))"
   ]
  },
  {
   "cell_type": "code",
   "execution_count": 27,
   "metadata": {},
   "outputs": [
    {
     "name": "stdout",
     "output_type": "stream",
     "text": [
      "cp /home/yuncong/LGN3Datlas/m920/STIF/M920-N87--_2_0260.tif /data/CSHL_data_processed/M920/M920_down64_Nissl/M920-N87--_2_0260_down64_Nissl.tif\n",
      "0\n",
      "cp /home/yuncong/LGN3Datlas/m920/STIF/M920-N88--_2_0263.tif /data/CSHL_data_processed/M920/M920_down64_Nissl/M920-N88--_2_0263_down64_Nissl.tif\n",
      "0\n",
      "cp /home/yuncong/LGN3Datlas/m920/STIF/M920-N89--_2_0266.tif /data/CSHL_data_processed/M920/M920_down64_Nissl/M920-N89--_2_0266_down64_Nissl.tif\n",
      "0\n",
      "cp /home/yuncong/LGN3Datlas/m920/STIF/M920-N90--_2_0269.tif /data/CSHL_data_processed/M920/M920_down64_Nissl/M920-N90--_2_0269_down64_Nissl.tif\n",
      "0\n",
      "cp /home/yuncong/LGN3Datlas/m920/STIF/M920-N91--_2_0272.tif /data/CSHL_data_processed/M920/M920_down64_Nissl/M920-N91--_2_0272_down64_Nissl.tif\n",
      "0\n",
      "cp /home/yuncong/LGN3Datlas/m920/STIF/M920-N92--_2_0275.tif /data/CSHL_data_processed/M920/M920_down64_Nissl/M920-N92--_2_0275_down64_Nissl.tif\n",
      "0\n",
      "cp /home/yuncong/LGN3Datlas/m920/STIF/M920-N93--_2_0278.tif /data/CSHL_data_processed/M920/M920_down64_Nissl/M920-N93--_2_0278_down64_Nissl.tif\n",
      "0\n",
      "cp /home/yuncong/LGN3Datlas/m920/STIF/M920-N94--_2_0281.tif /data/CSHL_data_processed/M920/M920_down64_Nissl/M920-N94--_2_0281_down64_Nissl.tif\n",
      "0\n",
      "cp /home/yuncong/LGN3Datlas/m920/STIF/M920-N95--_2_0284.tif /data/CSHL_data_processed/M920/M920_down64_Nissl/M920-N95--_2_0284_down64_Nissl.tif\n",
      "0\n",
      "cp /home/yuncong/LGN3Datlas/m920/STIF/M920-N96--_2_0287.tif /data/CSHL_data_processed/M920/M920_down64_Nissl/M920-N96--_2_0287_down64_Nissl.tif\n",
      "0\n",
      "cp /home/yuncong/LGN3Datlas/m920/STIF/M920-N97--_2_0290.tif /data/CSHL_data_processed/M920/M920_down64_Nissl/M920-N97--_2_0290_down64_Nissl.tif\n",
      "0\n",
      "cp /home/yuncong/LGN3Datlas/m920/STIF/M920-N98--_2_0293.tif /data/CSHL_data_processed/M920/M920_down64_Nissl/M920-N98--_2_0293_down64_Nissl.tif\n",
      "0\n",
      "cp /home/yuncong/LGN3Datlas/m920/STIF/M920-N99--_2_0296.tif /data/CSHL_data_processed/M920/M920_down64_Nissl/M920-N99--_2_0296_down64_Nissl.tif\n",
      "0\n",
      "cp /home/yuncong/LGN3Datlas/m920/STIF/M920-N100--_2_0299.tif /data/CSHL_data_processed/M920/M920_down64_Nissl/M920-N100--_2_0299_down64_Nissl.tif\n",
      "0\n",
      "cp /home/yuncong/LGN3Datlas/m920/STIF/M920-N101--_2_0302.tif /data/CSHL_data_processed/M920/M920_down64_Nissl/M920-N101--_2_0302_down64_Nissl.tif\n",
      "0\n",
      "cp /home/yuncong/LGN3Datlas/m920/STIF/M920-N102--_2_0305.tif /data/CSHL_data_processed/M920/M920_down64_Nissl/M920-N102--_2_0305_down64_Nissl.tif\n",
      "0\n",
      "cp /home/yuncong/LGN3Datlas/m920/STIF/M920-N103--_2_0308.tif /data/CSHL_data_processed/M920/M920_down64_Nissl/M920-N103--_2_0308_down64_Nissl.tif\n",
      "0\n",
      "cp /home/yuncong/LGN3Datlas/m920/STIF/M920-N104--_2_0311.tif /data/CSHL_data_processed/M920/M920_down64_Nissl/M920-N104--_2_0311_down64_Nissl.tif\n",
      "0\n",
      "cp /home/yuncong/LGN3Datlas/m920/STIF/M920-N105--_2_0314.tif /data/CSHL_data_processed/M920/M920_down64_Nissl/M920-N105--_2_0314_down64_Nissl.tif\n",
      "0\n",
      "cp /home/yuncong/LGN3Datlas/m920/STIF/M920-N106--_2_0317.tif /data/CSHL_data_processed/M920/M920_down64_Nissl/M920-N106--_2_0317_down64_Nissl.tif\n",
      "0\n",
      "cp /home/yuncong/LGN3Datlas/m920/STIF/M920-N107--_2_0320.tif /data/CSHL_data_processed/M920/M920_down64_Nissl/M920-N107--_2_0320_down64_Nissl.tif\n",
      "0\n",
      "cp /home/yuncong/LGN3Datlas/m920/STIF/M920-N108--_2_0323.tif /data/CSHL_data_processed/M920/M920_down64_Nissl/M920-N108--_2_0323_down64_Nissl.tif\n",
      "0\n",
      "cp /home/yuncong/LGN3Datlas/m920/STIF/M920-N109--_2_0326.tif /data/CSHL_data_processed/M920/M920_down64_Nissl/M920-N109--_2_0326_down64_Nissl.tif\n",
      "0\n",
      "cp /home/yuncong/LGN3Datlas/m920/STIF/M920-N110--_2_0329.tif /data/CSHL_data_processed/M920/M920_down64_Nissl/M920-N110--_2_0329_down64_Nissl.tif\n",
      "0\n",
      "cp /home/yuncong/LGN3Datlas/m920/STIF/M920-N111--_2_0332.tif /data/CSHL_data_processed/M920/M920_down64_Nissl/M920-N111--_2_0332_down64_Nissl.tif\n",
      "0\n",
      "cp /home/yuncong/LGN3Datlas/m920/STIF/M920-N112--_2_0335.tif /data/CSHL_data_processed/M920/M920_down64_Nissl/M920-N112--_2_0335_down64_Nissl.tif\n",
      "0\n",
      "cp /home/yuncong/LGN3Datlas/m920/STIF/M920-N113--_2_0338.tif /data/CSHL_data_processed/M920/M920_down64_Nissl/M920-N113--_2_0338_down64_Nissl.tif\n",
      "0\n",
      "cp /home/yuncong/LGN3Datlas/m920/STIF/M920-N114--_2_0341.tif /data/CSHL_data_processed/M920/M920_down64_Nissl/M920-N114--_2_0341_down64_Nissl.tif\n",
      "0\n",
      "cp /home/yuncong/LGN3Datlas/m920/STIF/M920-N115--_2_0344.tif /data/CSHL_data_processed/M920/M920_down64_Nissl/M920-N115--_2_0344_down64_Nissl.tif\n",
      "0\n",
      "cp /home/yuncong/LGN3Datlas/m920/STIF/M920-N116--_2_0347.tif /data/CSHL_data_processed/M920/M920_down64_Nissl/M920-N116--_2_0347_down64_Nissl.tif\n",
      "0\n",
      "cp /home/yuncong/LGN3Datlas/m920/STIF/M920-N117--_2_0350.tif /data/CSHL_data_processed/M920/M920_down64_Nissl/M920-N117--_2_0350_down64_Nissl.tif\n",
      "0\n",
      "cp /home/yuncong/LGN3Datlas/m920/STIF/M920-N118--_2_0353.tif /data/CSHL_data_processed/M920/M920_down64_Nissl/M920-N118--_2_0353_down64_Nissl.tif\n",
      "0\n",
      "cp /home/yuncong/LGN3Datlas/m920/STIF/M920-N119--_2_0356.tif /data/CSHL_data_processed/M920/M920_down64_Nissl/M920-N119--_2_0356_down64_Nissl.tif\n",
      "0\n",
      "cp /home/yuncong/LGN3Datlas/m920/STIF/M920-N120--_2_0359.tif /data/CSHL_data_processed/M920/M920_down64_Nissl/M920-N120--_2_0359_down64_Nissl.tif\n",
      "0\n",
      "cp /home/yuncong/LGN3Datlas/m920/STIF/M920-N121--_2_0362.tif /data/CSHL_data_processed/M920/M920_down64_Nissl/M920-N121--_2_0362_down64_Nissl.tif\n",
      "0\n",
      "cp /home/yuncong/LGN3Datlas/m920/STIF/M920-N122--_2_0365.tif /data/CSHL_data_processed/M920/M920_down64_Nissl/M920-N122--_2_0365_down64_Nissl.tif\n",
      "0\n",
      "cp /home/yuncong/LGN3Datlas/m920/STIF/M920-N123--_2_0368.tif /data/CSHL_data_processed/M920/M920_down64_Nissl/M920-N123--_2_0368_down64_Nissl.tif\n",
      "0\n",
      "cp /home/yuncong/LGN3Datlas/m920/STIF/M920-N124--_2_0371.tif /data/CSHL_data_processed/M920/M920_down64_Nissl/M920-N124--_2_0371_down64_Nissl.tif\n",
      "0\n",
      "cp /home/yuncong/LGN3Datlas/m920/STIF/M920-N125--_2_0374.tif /data/CSHL_data_processed/M920/M920_down64_Nissl/M920-N125--_2_0374_down64_Nissl.tif\n",
      "0\n",
      "cp /home/yuncong/LGN3Datlas/m920/STIF/M920-N126--_2_0377.tif /data/CSHL_data_processed/M920/M920_down64_Nissl/M920-N126--_2_0377_down64_Nissl.tif\n",
      "0\n",
      "cp /home/yuncong/LGN3Datlas/m920/STIF/M920-N127--_2_0380.tif /data/CSHL_data_processed/M920/M920_down64_Nissl/M920-N127--_2_0380_down64_Nissl.tif\n",
      "0\n",
      "cp /home/yuncong/LGN3Datlas/m920/STIF/M920-N128--_2_0383.tif /data/CSHL_data_processed/M920/M920_down64_Nissl/M920-N128--_2_0383_down64_Nissl.tif\n",
      "0\n",
      "cp /home/yuncong/LGN3Datlas/m920/STIF/M920-N129--_2_0386.tif /data/CSHL_data_processed/M920/M920_down64_Nissl/M920-N129--_2_0386_down64_Nissl.tif\n",
      "0\n",
      "cp /home/yuncong/LGN3Datlas/m920/STIF/M920-N130--_2_0389.tif /data/CSHL_data_processed/M920/M920_down64_Nissl/M920-N130--_2_0389_down64_Nissl.tif\n",
      "0\n",
      "cp /home/yuncong/LGN3Datlas/m920/STIF/M920-N131--_2_0392.tif /data/CSHL_data_processed/M920/M920_down64_Nissl/M920-N131--_2_0392_down64_Nissl.tif\n",
      "0\n",
      "cp /home/yuncong/LGN3Datlas/m920/STIF/M920-N132--_2_0395.tif /data/CSHL_data_processed/M920/M920_down64_Nissl/M920-N132--_2_0395_down64_Nissl.tif\n",
      "0\n",
      "cp /home/yuncong/LGN3Datlas/m920/STIF/M920-N133--_2_0398.tif /data/CSHL_data_processed/M920/M920_down64_Nissl/M920-N133--_2_0398_down64_Nissl.tif\n",
      "0\n",
      "cp /home/yuncong/LGN3Datlas/m920/STIF/M920-N134--_2_0401.tif /data/CSHL_data_processed/M920/M920_down64_Nissl/M920-N134--_2_0401_down64_Nissl.tif\n",
      "0\n",
      "cp /home/yuncong/LGN3Datlas/m920/STIF/M920-N135--_2_0404.tif /data/CSHL_data_processed/M920/M920_down64_Nissl/M920-N135--_2_0404_down64_Nissl.tif\n",
      "0\n",
      "cp /home/yuncong/LGN3Datlas/m920/STIF/M920-N136--_2_0407.tif /data/CSHL_data_processed/M920/M920_down64_Nissl/M920-N136--_2_0407_down64_Nissl.tif\n",
      "0\n",
      "cp /home/yuncong/LGN3Datlas/m920/STIF/M920-N137--_2_0410.tif /data/CSHL_data_processed/M920/M920_down64_Nissl/M920-N137--_2_0410_down64_Nissl.tif\n",
      "0\n",
      "cp /home/yuncong/LGN3Datlas/m920/STIF/M920-N138--_2_0413.tif /data/CSHL_data_processed/M920/M920_down64_Nissl/M920-N138--_2_0413_down64_Nissl.tif\n",
      "0\n"
     ]
    }
   ],
   "source": [
    "for img_name in valid_filenames:\n",
    "    in_fp = os.path.join(raw_data_dirs[('Nissl', 'down64')], img_name + '.tif')\n",
    "    out_fp = DataManager.get_image_filepath_v2(stack=stack, prep_id=None, version='Nissl', resol='down64', fn=img_name)\n",
    "    \n",
    "    create_parent_dir_if_not_exists(out_fp)\n",
    "    execute_command('cp %s %s' % (in_fp, out_fp))"
   ]
  },
  {
   "cell_type": "code",
   "execution_count": 28,
   "metadata": {
    "collapsed": true
   },
   "outputs": [],
   "source": [
    "tb_resol = 'down64'\n",
    "\n",
    "script = os.path.join(REPO_DIR, 'preprocess', 'align_consecutive_v2.py')\n",
    "input_dir = DataManager.get_image_dir_v2(stack=stack, prep_id=None, version=version, resol=tb_resol)\n",
    "output_dir = create_if_not_exists(os.path.join(THUMBNAIL_DATA_DIR, stack, stack + '_elastix_output'))"
   ]
  },
  {
   "cell_type": "code",
   "execution_count": 30,
   "metadata": {
    "scrolled": true
   },
   "outputs": [
    {
     "name": "stdout",
     "output_type": "stream",
     "text": [
      "Align...\n",
      "rm -f ~/stderr_*; rm -f ~/stdout_*\n",
      "0\n"
     ]
    },
    {
     "name": "stderr",
     "output_type": "stream",
     "text": [
      "Run locally.\n"
     ]
    },
    {
     "name": "stdout",
     "output_type": "stream",
     "text": [
      "done in 1121.76981997 seconds\n"
     ]
    },
    {
     "name": "stderr",
     "output_type": "stream",
     "text": [
      "Jobs submitted. Use wait_qsub_complete() to wait for all execution to finish.\n"
     ]
    }
   ],
   "source": [
    "t = time.time()\n",
    "print 'Align...'\n",
    "\n",
    "run_distributed(\"%(script)s %(stack)s \\\"%(input_dir)s\\\" \\\"%(output_dir)s\\\" \\'%%(kwargs_str)s\\' %(fmt)s -p %(param_fp)s -r\" % \\\n",
    "                {'script': script,\n",
    "                'stack': stack,\n",
    "                'input_dir': input_dir,\n",
    "                'output_dir': output_dir,\n",
    "                'fmt': tb_fmt,\n",
    "                 'param_fp': '/home/yuncong/Brain/preprocess/parameters/Parameters_Rigid_MutualInfo_noNumberOfSpatialSamples.txt'\n",
    "                },\n",
    "                kwargs_list=[{'prev_fn': valid_filenames[i-1] + '_' + tb_resol + '_' + version, \n",
    "                              'curr_fn': valid_filenames[i] + '_' + tb_resol + '_' + version,\n",
    "                             'prev_sn': valid_filenames[i-1] ,\n",
    "                             'curr_sn': valid_filenames[i] } \n",
    "                             for i in range(1, len(valid_filenames))],\n",
    "                argument_type='list',\n",
    "                jobs_per_node=4,\n",
    "               local_only=True)\n",
    "\n",
    "# wait_qsub_complete()\n",
    "\n",
    "print 'done in', time.time() - t, 'seconds' # 2252 seconds full stack"
   ]
  },
  {
   "cell_type": "code",
   "execution_count": 14,
   "metadata": {
    "collapsed": true
   },
   "outputs": [],
   "source": [
    "import re\n",
    "\n",
    "final_metric = {}\n",
    "for i in range(1, len(valid_filenames)):\n",
    "#     if stack == 'ChatCryoJane201710':\n",
    "#         prev_fn = valid_filenames[i-1] + '-Ntb'\n",
    "#         curr_fn = valid_filenames[i] + '-Ntb'\n",
    "#     else:\n",
    "    prev_fn = valid_filenames[i-1]\n",
    "    curr_fn = valid_filenames[i]\n",
    "\n",
    "    with open(os.path.join(output_dir, curr_fn + '_to_' + prev_fn, 'elastix.log'), 'r') as f:\n",
    "        t = f.read()\n",
    "        g = re.search(\"Final metric value  = (.*?)\\n\", t)\n",
    "#         final_metric[(curr_fn, prev_fn)] = -float(g.groups()[0])\n",
    "        if g is None:\n",
    "            print i\n",
    "        final_metric[i] = float(g.groups()[0])"
   ]
  },
  {
   "cell_type": "code",
   "execution_count": 15,
   "metadata": {},
   "outputs": [
    {
     "data": {
      "image/png": "[encoded data removed]",
      "text/plain": [
       "<matplotlib.figure.Figure at 0x7f0e95326190>"
      ]
     },
     "metadata": {},
     "output_type": "display_data"
    }
   ],
   "source": [
    "%matplotlib inline\n",
    "metric_arr = np.array(final_metric.values())\n",
    "plt.figure(figsize=(20,2));\n",
    "plt.ylim([-1, metric_arr.max()+.1]);\n",
    "plt.stem(metric_arr);\n",
    "plt.title('Mutual information of pairwise registration');\n",
    "plt.yticks(np.arange(-1, metric_arr.max()+.1, 0.1));\n",
    "plt.xlabel('Image index');\n",
    "plt.ylabel('Mutual info');"
   ]
  },
  {
   "cell_type": "code",
   "execution_count": 39,
   "metadata": {},
   "outputs": [],
   "source": [
    "anchor_fp = DataManager.get_anchor_filename_filename(stack)\n",
    "\n",
    "if not os.path.exists(anchor_fp):\n",
    "\n",
    "    shapes = \\\n",
    "        [identify_shape(DataManager.get_image_filepath_v2(stack=stack, fn=fn, prep_id=None, version='Nissl', resol='down64'))\n",
    "        for fn in valid_filenames]\n",
    "    largest_idx = np.argmax([h*w for h, w in shapes])\n",
    "    print 'largest section is ', largest_idx, valid_filenames[largest_idx]\n",
    "\n",
    "    with open(anchor_fp, 'w') as f:\n",
    "        f.write(valid_filenames[largest_idx])"
   ]
  },
  {
   "cell_type": "code",
   "execution_count": 14,
   "metadata": {},
   "outputs": [
    {
     "name": "stdout",
     "output_type": "stream",
     "text": [
      "anchor_idx = 0\n"
     ]
    }
   ],
   "source": [
    "anchor_fn = DataManager.load_anchor_filename(stack=stack)\n",
    "anchor_idx = valid_filenames.index(anchor_fn)\n",
    "print 'anchor_idx =', anchor_idx"
   ]
  },
  {
   "cell_type": "code",
   "execution_count": 41,
   "metadata": {},
   "outputs": [
    {
     "name": "stdout",
     "output_type": "stream",
     "text": [
      "rm -f /data/CSHL_data_processed/M919/M919_transformsTo_M919-N78--_2_0233.pkl\n",
      "0\n",
      "Composing transform...\n",
      "rm -f ~/stderr_*; rm -f ~/stdout_*\n",
      "0\n"
     ]
    },
    {
     "name": "stderr",
     "output_type": "stream",
     "text": [
      "Run locally.\n"
     ]
    },
    {
     "name": "stdout",
     "output_type": "stream",
     "text": [
      "done in 1.37391090393 seconds\n"
     ]
    },
    {
     "name": "stderr",
     "output_type": "stream",
     "text": [
      "Jobs submitted. Use wait_qsub_complete() to wait for all execution to finish.\n"
     ]
    }
   ],
   "source": [
    "script = os.path.join(REPO_DIR, 'preprocess', 'compose_transform_thumbnail_v2.py')\n",
    "input_dir = os.path.join(DATA_DIR, stack, stack + '_elastix_output')\n",
    "output_fp = os.path.join(DATA_DIR, stack, '%(stack)s_transformsTo_%(anchor_fn)s.pkl' % \\\n",
    "                         dict(stack=stack, anchor_fn=anchor_fn))\n",
    "\n",
    "execute_command('rm -f %s' % output_fp)\n",
    "\n",
    "t = time.time()\n",
    "print 'Composing transform...'\n",
    "\n",
    "run_distributed(\"%(script)s %(stack)s \\\"%(input_dir)s\\\" \\'%%(kwargs_str)s\\' %(anchor_idx)d \\\"%(output_fp)s\\\"\" % \\\n",
    "            {'stack': stack,\n",
    "            'script': script,\n",
    "            'input_dir': input_dir,\n",
    "            'anchor_idx': anchor_idx,\n",
    "            'output_fp': output_fp},\n",
    "            kwargs_list=[{'filenames': valid_filenames}],\n",
    "            argument_type='list',\n",
    "               local_only=True)\n",
    "\n",
    "# wait_qsub_complete()\n",
    "\n",
    "print 'done in', time.time() - t, 'seconds' # 20 seconds"
   ]
  },
  {
   "cell_type": "code",
   "execution_count": 15,
   "metadata": {},
   "outputs": [
    {
     "name": "stdout",
     "output_type": "stream",
     "text": [
      "out_dir: /data/CSHL_data_processed/M919/M919_prep1_down64_Nissl\n",
      "rm -r /data/CSHL_data_processed/M919/M919_prep1_down64_Nissl\n",
      "1\n",
      "Warping...\n",
      "rm -f ~/stderr_*; rm -f ~/stdout_*\n",
      "0\n"
     ]
    },
    {
     "name": "stderr",
     "output_type": "stream",
     "text": [
      "Run locally.\n"
     ]
    },
    {
     "name": "stdout",
     "output_type": "stream",
     "text": [
      "done in 12.139496088 seconds\n"
     ]
    },
    {
     "name": "stderr",
     "output_type": "stream",
     "text": [
      "Jobs submitted. Use wait_qsub_complete() to wait for all execution to finish.\n"
     ]
    }
   ],
   "source": [
    "# transforms_fp = os.path.join(DATA_DIR, stack, '%(stack)s_transformsTo_%(anchor_fn)s.pkl' % \\\n",
    "#                                                 dict(stack=stack, anchor_fn=anchor_fn))\n",
    "# download_from_s3(transforms_fp, redownload=True)\n",
    "\n",
    "pad_bg_color = 'white'\n",
    "prep_id = 1\n",
    "version = 'Nissl'\n",
    "tb_resol = 'down64'\n",
    "\n",
    "input_dir = DataManager.get_image_dir_v2(stack=stack, prep_id=None, version=version, resol=tb_resol)\n",
    "out_dir = DataManager.get_image_dir_v2(stack=stack, prep_id=prep_id, resol=tb_resol, version=version)\n",
    "print 'out_dir:', out_dir\n",
    "script = os.path.join(REPO_DIR, 'preprocess', 'warp_crop_IM_v3.py')\n",
    "\n",
    "execute_command('rm -r %s' % out_dir)\n",
    "\n",
    "t = time.time()\n",
    "print 'Warping...'\n",
    "\n",
    "\n",
    "transforms_to_anchor = DataManager.load_transforms(stack=stack, downsample_factor=32, use_inverse=False, anchor_fn=anchor_fn)\n",
    "\n",
    "if pad_bg_color == 'auto': # useful for alternatively stained stacks where bg varies depending on stain on each section\n",
    "    run_distributed('%(script)s %(stack)s \\\"%%(input_fp)s\\\" \\\"%%(output_fp)s\\\" %%(transform)s thumbnail 0 0 2000 1500 %%(pad_bg_color)s' % \\\n",
    "                    {'script': script,\n",
    "                    'stack': stack,\n",
    "                    },\n",
    "                    kwargs_list=[{'transform': ','.join(map(str, transforms_to_anchor[fn].flatten())),\n",
    "                                'input_fp': DataManager.get_image_filepath_v2(stack=stack, fn=fn, prep_id=None, version=version, resol=tb_resol),\n",
    "                                  'output_fp': DataManager.get_image_filepath_v2(stack=stack, fn=fn, prep_id=prep_id, version=version, resol=tb_resol),\n",
    "                                'pad_bg_color': 'black' if fn.split('-')[1][0] == 'F' else 'white'}\n",
    "                                for fn in valid_filenames],\n",
    "                    argument_type='single',\n",
    "                   jobs_per_node=8,\n",
    "                   local_only=True)\n",
    "else:\n",
    "    run_distributed('%(script)s %(stack)s \\\"%%(input_fp)s\\\" \\\"%%(output_fp)s\\\" %%(transform)s thumbnail 0 0 2000 1500 %(pad_bg_color)s' % \\\n",
    "                    {'script': script,\n",
    "                    'stack': stack,\n",
    "                    'pad_bg_color': pad_bg_color},\n",
    "                    kwargs_list=[{'transform': ','.join(map(str, transforms_to_anchor[fn].flatten())),\n",
    "                                'input_fp': DataManager.get_image_filepath_v2(stack=stack, fn=fn, prep_id=None, version=version, resol=tb_resol),\n",
    "                                  'output_fp': DataManager.get_image_filepath_v2(stack=stack, fn=fn, prep_id=prep_id, version=version, resol=tb_resol),\n",
    "                                 }\n",
    "                                for fn in valid_filenames],\n",
    "                    argument_type='single',\n",
    "                   jobs_per_node=8,\n",
    "                   local_only=True)\n",
    "\n",
    "# wait_qsub_complete()\n",
    "    \n",
    "print 'done in', time.time() - t, 'seconds' # 300 seconds."
   ]
  },
  {
   "cell_type": "code",
   "execution_count": null,
   "metadata": {
    "collapsed": true
   },
   "outputs": [],
   "source": []
  }
 ],
 "metadata": {
  "kernelspec": {
   "display_name": "Python 2",
   "language": "python",
   "name": "python2"
  },
  "language_info": {
   "codemirror_mode": {
    "name": "ipython",
    "version": 2
   },
   "file_extension": ".py",
   "mimetype": "text/x-python",
   "name": "python",
   "nbconvert_exporter": "python",
   "pygments_lexer": "ipython2",
   "version": "2.7.12"
  }
 },
 "nbformat": 4,
 "nbformat_minor": 2
}
