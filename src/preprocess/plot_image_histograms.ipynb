{
 "cells": [
  {
   "cell_type": "code",
   "execution_count": 1,
   "metadata": {
    "scrolled": true
   },
   "outputs": [
    {
     "name": "stdout",
     "output_type": "stream",
     "text": [
      "Setting environment for Precision WorkStation\n"
     ]
    },
    {
     "name": "stderr",
     "output_type": "stream",
     "text": [
      "No vtk\n",
      "No vtk/usr/local/lib/python2.7/dist-packages/sklearn/cross_validation.py:44: DeprecationWarning: This module was deprecated in version 0.18 in favor of the model_selection module into which all the refactored classes and functions are moved. Also note that the interface of the new CV iterators are different from that of this module. This module will be removed in 0.20.\n",
      "  \"This module will be removed in 0.20.\", DeprecationWarning)\n"
     ]
    }
   ],
   "source": [
    "%load_ext autoreload\n",
    "%autoreload 2\n",
    "\n",
    "import sys\n",
    "import os\n",
    "import time\n",
    "\n",
    "import numpy as np\n",
    "import matplotlib.pyplot as plt\n",
    "%matplotlib inline\n",
    "from scipy.ndimage.interpolation import map_coordinates\n",
    "from skimage.exposure import rescale_intensity\n",
    "from skimage.transform import rotate\n",
    "\n",
    "sys.path.append(os.environ['REPO_DIR'] + '/utilities')\n",
    "from utilities2015 import *\n",
    "from metadata import *\n",
    "from data_manager import *\n",
    "from learning_utilities import *\n",
    "from distributed_utilities import *\n",
    "from visualization_utilities import *"
   ]
  },
  {
   "cell_type": "markdown",
   "metadata": {},
   "source": [
    "# Plot histogram over whole images."
   ]
  },
  {
   "cell_type": "code",
   "execution_count": 2,
   "metadata": {
    "collapsed": true
   },
   "outputs": [],
   "source": [
    "stack_versions = {'MD585': 'gray',\n",
    "'MD589': 'gray',\n",
    "'MD594': 'gray',\n",
    "'MD635': 'Ntb',\n",
    "'MD653': 'Ntb',\n",
    " 'MD652': 'Ntb',\n",
    " 'MD642': 'Ntb',\n",
    " 'MD657': 'Ntb',\n",
    " 'MD658': 'Ntb',\n",
    " 'MD661': 'Ntb',\n",
    " 'MD662': 'Ntb' \n",
    "}"
   ]
  },
  {
   "cell_type": "code",
   "execution_count": null,
   "metadata": {
    "collapsed": true
   },
   "outputs": [],
   "source": [
    "# for stack in ['MD585', 'MD589', 'MD594'] + ['MD635'] + ['MD653', 'MD652', 'MD642', 'MD657', 'MD658'] + ['MD661', 'MD662']:\n",
    "for stack in ['MD635'] + ['MD653', 'MD652', 'MD642', 'MD657', 'MD658'] + ['MD661', 'MD662']:\n",
    "\n",
    "    structure = '7N'\n",
    "    \n",
    "    if stack in ['MD585', 'MD589', 'MD594'] + ['MD658'] + ['MD635']:\n",
    "        local_region_bboxes_all_sections = get_local_regions(stack, margin_um=200, by_human=True ,\n",
    "                                                         structures=['7N_L'])\n",
    "    elif stack in ['MD653', 'MD652', 'MD642', 'MD657']:\n",
    "        local_region_bboxes_all_sections = get_local_regions(stack, margin_um=200, by_human=False, level=0.5, \n",
    "                                                     structures=['7N_L'],\n",
    "                                                    detector_id_f=13)\n",
    "    elif stack in ['MD661', 'MD662']:\n",
    "        local_region_bboxes_all_sections = get_local_regions(stack, margin_um=200, by_human=False, level=0.5, \n",
    "                                                     structures=['7N_L'],\n",
    "                                                    detector_id_f=1)\n",
    "    else:\n",
    "        raise\n",
    "        \n",
    "    for name_s, bboxes_all_sections in local_region_bboxes_all_sections.iteritems():\n",
    "        for sec, bbox in bboxes_all_sections.iteritems():\n",
    "\n",
    "#     for sec in metadata_cache['valid_sections'][stack]:\n",
    "        \n",
    "#             try:\n",
    "            print sec\n",
    "\n",
    "            NorF = DataManager.get_brightfield_or_fluorescence(stack=stack, sec=sec)\n",
    "\n",
    "            lossless_img = DataManager.load_image_v2(stack=stack, prep_id=2, section=sec, version=stack_versions[stack])\n",
    "\n",
    "            tb_mask = DataManager.load_thumbnail_mask_v3(stack=stack, prep_id=2, section=sec)\n",
    "            lossless_mask = rescale_by_resampling(tb_mask, 32)\n",
    "\n",
    "            if NorF == 'N':\n",
    "                counts, bins = np.histogram(lossless_img[lossless_mask], bins=np.linspace(0, 256, 257));\n",
    "            elif NorF == 'F':\n",
    "                counts, bins = np.histogram(lossless_img[lossless_mask], bins=np.linspace(0, 3500, 300));\n",
    "            else:\n",
    "                raise\n",
    "\n",
    "            vmax = lossless_img[lossless_mask].max()\n",
    "            vmin = lossless_img[lossless_mask].min()\n",
    "\n",
    "            fig = plt.figure(figsize=(10, 5));\n",
    "            plt.bar(bins[:-1], counts, align='center')\n",
    "            if NorF == 'N':\n",
    "                plt.xlim([-1, 256]);\n",
    "                plt.xticks(np.r_[bins[::50], vmin, vmax])\n",
    "            else:\n",
    "                plt.xlim([-1, 3500]);\n",
    "                plt.xticks(np.r_[bins[::50], vmin, vmax])\n",
    "            plt.axvline(x=vmax, c='r');\n",
    "            plt.axvline(x=vmin, c='r');\n",
    "            plt.title('Histogram (linear)');\n",
    "            plt.xlabel('Pixel intensity');\n",
    "    #                 plt.show();\n",
    "\n",
    "            plot_fp = os.path.join(ROOT_DIR, 'raw_image_histograms_fullImage', stack, '%s_%d%s.png' % (stack, sec, NorF))\n",
    "            create_parent_dir_if_not_exists(plot_fp)\n",
    "            plt.savefig(fname=plot_fp, bbox_inches='tight');\n",
    "            plt.close(fig);\n",
    "            upload_to_s3(plot_fp)\n",
    "\n",
    "            counts_log = np.log(counts)\n",
    "\n",
    "            fig = plt.figure(figsize=(10, 5));\n",
    "            plt.bar(bins[:-1], counts_log, width=np.diff(bins)[0]*.8, align='center');\n",
    "            if NorF == 'N':\n",
    "                plt.xlim([-1, 256]);\n",
    "                plt.xticks(np.r_[bins[::50], vmin, vmax])\n",
    "            else:\n",
    "                plt.xlim([-1, 3500]);\n",
    "                plt.xticks(np.r_[bins[::50], vmin, vmax])\n",
    "\n",
    "            plt.axvline(x=vmax, c='r');\n",
    "            plt.axvline(x=vmin, c='r');\n",
    "            plt.title('Histogram (log)');\n",
    "            plt.xlabel('Pixel intensity');\n",
    "    #                 plt.show();\n",
    "\n",
    "            plot_fp = os.path.join(ROOT_DIR, 'raw_image_histograms_log_fullImage', stack, '%s_%d%s.png' % (stack, sec, NorF))\n",
    "            create_parent_dir_if_not_exists(plot_fp)\n",
    "            plt.savefig(fname=plot_fp, bbox_inches='tight');\n",
    "            plt.close(fig);\n",
    "            upload_to_s3(plot_fp)\n",
    "#             except:\n",
    "#                 pass"
   ]
  },
  {
   "cell_type": "code",
   "execution_count": 2,
   "metadata": {
    "collapsed": true
   },
   "outputs": [],
   "source": [
    "stack_versions = {'CHATM2': 'Ntb'}"
   ]
  },
  {
   "cell_type": "code",
   "execution_count": 3,
   "metadata": {
    "collapsed": true
   },
   "outputs": [],
   "source": [
    "nissl_bins = np.linspace(0, 256, 257)\n",
    "ntb_bins = np.linspace(0, 65536, 300)"
   ]
  },
  {
   "cell_type": "code",
   "execution_count": 8,
   "metadata": {
    "scrolled": true
   },
   "outputs": [
    {
     "name": "stdout",
     "output_type": "stream",
     "text": [
      "150\n"
     ]
    },
    {
     "name": "stderr",
     "output_type": "stream",
     "text": [
      "Not using image_cache.\n"
     ]
    },
    {
     "name": "stdout",
     "output_type": "stream",
     "text": [
      "/media/yuncong/BstemAtlasData/CSHL_data_processed/CHATM2/CHATM2_prep2_lossless_Ntb/CHATM2_slide50_2018_01_22-S3_prep2_lossless_Ntb.tif\n",
      "aws s3 cp \"/home/yuncong/raw_image_histograms_log_fullImage/CHATM2/CHATM2_150F.png\" \"s3://mousebrainatlas-data/raw_image_histograms_log_fullImage/CHATM2/CHATM2_150F.png\"\n",
      "0\n",
      "151\n"
     ]
    },
    {
     "name": "stderr",
     "output_type": "stream",
     "text": [
      "Not using image_cache.\n"
     ]
    },
    {
     "name": "stdout",
     "output_type": "stream",
     "text": [
      "/media/yuncong/BstemAtlasData/CSHL_data_processed/CHATM2/CHATM2_prep2_lossless_Ntb/CHATM2_slide51_2018_01_22-S1_prep2_lossless_Ntb.tif\n",
      "aws s3 cp \"/home/yuncong/raw_image_histograms_log_fullImage/CHATM2/CHATM2_151F.png\" \"s3://mousebrainatlas-data/raw_image_histograms_log_fullImage/CHATM2/CHATM2_151F.png\"\n",
      "0\n",
      "152\n"
     ]
    },
    {
     "name": "stderr",
     "output_type": "stream",
     "text": [
      "Not using image_cache.\n"
     ]
    },
    {
     "name": "stdout",
     "output_type": "stream",
     "text": [
      "/media/yuncong/BstemAtlasData/CSHL_data_processed/CHATM2/CHATM2_prep2_lossless_Ntb/CHATM2_slide51_2018_01_22-S2_prep2_lossless_Ntb.tif\n",
      "aws s3 cp \"/home/yuncong/raw_image_histograms_log_fullImage/CHATM2/CHATM2_152F.png\" \"s3://mousebrainatlas-data/raw_image_histograms_log_fullImage/CHATM2/CHATM2_152F.png\"\n",
      "0\n",
      "153\n"
     ]
    },
    {
     "name": "stderr",
     "output_type": "stream",
     "text": [
      "Not using image_cache.\n"
     ]
    },
    {
     "name": "stdout",
     "output_type": "stream",
     "text": [
      "/media/yuncong/BstemAtlasData/CSHL_data_processed/CHATM2/CHATM2_prep2_lossless_Ntb/CHATM2_slide51_2018_01_22-S3_prep2_lossless_Ntb.tif\n",
      "aws s3 cp \"/home/yuncong/raw_image_histograms_log_fullImage/CHATM2/CHATM2_153F.png\" \"s3://mousebrainatlas-data/raw_image_histograms_log_fullImage/CHATM2/CHATM2_153F.png\"\n",
      "0\n",
      "154\n"
     ]
    },
    {
     "name": "stderr",
     "output_type": "stream",
     "text": [
      "Not using image_cache.\n"
     ]
    },
    {
     "name": "stdout",
     "output_type": "stream",
     "text": [
      "/media/yuncong/BstemAtlasData/CSHL_data_processed/CHATM2/CHATM2_prep2_lossless_Ntb/CHATM2_slide52_2018_01_22-S1_prep2_lossless_Ntb.tif\n",
      "aws s3 cp \"/home/yuncong/raw_image_histograms_log_fullImage/CHATM2/CHATM2_154F.png\" \"s3://mousebrainatlas-data/raw_image_histograms_log_fullImage/CHATM2/CHATM2_154F.png\"\n",
      "0\n",
      "155\n"
     ]
    },
    {
     "name": "stderr",
     "output_type": "stream",
     "text": [
      "Not using image_cache.\n"
     ]
    },
    {
     "name": "stdout",
     "output_type": "stream",
     "text": [
      "/media/yuncong/BstemAtlasData/CSHL_data_processed/CHATM2/CHATM2_prep2_lossless_Ntb/CHATM2_slide52_2018_01_22-S2_prep2_lossless_Ntb.tif\n",
      "aws s3 cp \"/home/yuncong/raw_image_histograms_log_fullImage/CHATM2/CHATM2_155F.png\" \"s3://mousebrainatlas-data/raw_image_histograms_log_fullImage/CHATM2/CHATM2_155F.png\"\n",
      "0\n",
      "156\n"
     ]
    },
    {
     "name": "stderr",
     "output_type": "stream",
     "text": [
      "Not using image_cache.\n"
     ]
    },
    {
     "name": "stdout",
     "output_type": "stream",
     "text": [
      "/media/yuncong/BstemAtlasData/CSHL_data_processed/CHATM2/CHATM2_prep2_lossless_Ntb/CHATM2_slide52_2018_01_22-S3_prep2_lossless_Ntb.tif\n",
      "aws s3 cp \"/home/yuncong/raw_image_histograms_log_fullImage/CHATM2/CHATM2_156F.png\" \"s3://mousebrainatlas-data/raw_image_histograms_log_fullImage/CHATM2/CHATM2_156F.png\"\n",
      "0\n",
      "157\n"
     ]
    },
    {
     "name": "stderr",
     "output_type": "stream",
     "text": [
      "Not using image_cache.\n"
     ]
    },
    {
     "name": "stdout",
     "output_type": "stream",
     "text": [
      "/media/yuncong/BstemAtlasData/CSHL_data_processed/CHATM2/CHATM2_prep2_lossless_Ntb/CHATM2_slide53_2018_01_22-S1_prep2_lossless_Ntb.tif\n",
      "aws s3 cp \"/home/yuncong/raw_image_histograms_log_fullImage/CHATM2/CHATM2_157F.png\" \"s3://mousebrainatlas-data/raw_image_histograms_log_fullImage/CHATM2/CHATM2_157F.png\"\n",
      "0\n",
      "158\n"
     ]
    },
    {
     "name": "stderr",
     "output_type": "stream",
     "text": [
      "Not using image_cache.\n"
     ]
    },
    {
     "name": "stdout",
     "output_type": "stream",
     "text": [
      "/media/yuncong/BstemAtlasData/CSHL_data_processed/CHATM2/CHATM2_prep2_lossless_Ntb/CHATM2_slide53_2018_01_22-S2_prep2_lossless_Ntb.tif\n",
      "aws s3 cp \"/home/yuncong/raw_image_histograms_log_fullImage/CHATM2/CHATM2_158F.png\" \"s3://mousebrainatlas-data/raw_image_histograms_log_fullImage/CHATM2/CHATM2_158F.png\"\n",
      "0\n",
      "159\n"
     ]
    },
    {
     "name": "stderr",
     "output_type": "stream",
     "text": [
      "Not using image_cache.\n"
     ]
    },
    {
     "name": "stdout",
     "output_type": "stream",
     "text": [
      "/media/yuncong/BstemAtlasData/CSHL_data_processed/CHATM2/CHATM2_prep2_lossless_Ntb/CHATM2_slide53_2018_01_22-S3_prep2_lossless_Ntb.tif\n",
      "aws s3 cp \"/home/yuncong/raw_image_histograms_log_fullImage/CHATM2/CHATM2_159F.png\" \"s3://mousebrainatlas-data/raw_image_histograms_log_fullImage/CHATM2/CHATM2_159F.png\"\n",
      "0\n",
      "160\n"
     ]
    },
    {
     "name": "stderr",
     "output_type": "stream",
     "text": [
      "Not using image_cache.\n"
     ]
    },
    {
     "name": "stdout",
     "output_type": "stream",
     "text": [
      "/media/yuncong/BstemAtlasData/CSHL_data_processed/CHATM2/CHATM2_prep2_lossless_Ntb/CHATM2_slide54_2018_01_22-S1_prep2_lossless_Ntb.tif\n",
      "aws s3 cp \"/home/yuncong/raw_image_histograms_log_fullImage/CHATM2/CHATM2_160F.png\" \"s3://mousebrainatlas-data/raw_image_histograms_log_fullImage/CHATM2/CHATM2_160F.png\"\n",
      "0\n",
      "161\n"
     ]
    },
    {
     "name": "stderr",
     "output_type": "stream",
     "text": [
      "Not using image_cache.\n"
     ]
    },
    {
     "name": "stdout",
     "output_type": "stream",
     "text": [
      "/media/yuncong/BstemAtlasData/CSHL_data_processed/CHATM2/CHATM2_prep2_lossless_Ntb/CHATM2_slide54_2018_01_22-S2_prep2_lossless_Ntb.tif\n",
      "aws s3 cp \"/home/yuncong/raw_image_histograms_log_fullImage/CHATM2/CHATM2_161F.png\" \"s3://mousebrainatlas-data/raw_image_histograms_log_fullImage/CHATM2/CHATM2_161F.png\"\n",
      "0\n",
      "162\n"
     ]
    },
    {
     "name": "stderr",
     "output_type": "stream",
     "text": [
      "Not using image_cache.\n"
     ]
    },
    {
     "name": "stdout",
     "output_type": "stream",
     "text": [
      "/media/yuncong/BstemAtlasData/CSHL_data_processed/CHATM2/CHATM2_prep2_lossless_Ntb/CHATM2_slide54_2018_01_22-S3_prep2_lossless_Ntb.tif\n",
      "aws s3 cp \"/home/yuncong/raw_image_histograms_log_fullImage/CHATM2/CHATM2_162F.png\" \"s3://mousebrainatlas-data/raw_image_histograms_log_fullImage/CHATM2/CHATM2_162F.png\"\n",
      "0\n",
      "163\n"
     ]
    },
    {
     "name": "stderr",
     "output_type": "stream",
     "text": [
      "Not using image_cache.\n"
     ]
    },
    {
     "name": "stdout",
     "output_type": "stream",
     "text": [
      "/media/yuncong/BstemAtlasData/CSHL_data_processed/CHATM2/CHATM2_prep2_lossless_Ntb/CHATM2_slide55_2018_01_22-S1_prep2_lossless_Ntb.tif\n",
      "aws s3 cp \"/home/yuncong/raw_image_histograms_log_fullImage/CHATM2/CHATM2_163F.png\" \"s3://mousebrainatlas-data/raw_image_histograms_log_fullImage/CHATM2/CHATM2_163F.png\"\n",
      "0\n",
      "164\n"
     ]
    },
    {
     "name": "stderr",
     "output_type": "stream",
     "text": [
      "Not using image_cache.\n"
     ]
    },
    {
     "name": "stdout",
     "output_type": "stream",
     "text": [
      "/media/yuncong/BstemAtlasData/CSHL_data_processed/CHATM2/CHATM2_prep2_lossless_Ntb/CHATM2_slide55_2018_01_22-S2_prep2_lossless_Ntb.tif\n",
      "aws s3 cp \"/home/yuncong/raw_image_histograms_log_fullImage/CHATM2/CHATM2_164F.png\" \"s3://mousebrainatlas-data/raw_image_histograms_log_fullImage/CHATM2/CHATM2_164F.png\"\n",
      "0\n",
      "165\n"
     ]
    },
    {
     "name": "stderr",
     "output_type": "stream",
     "text": [
      "Not using image_cache.\n"
     ]
    },
    {
     "name": "stdout",
     "output_type": "stream",
     "text": [
      "/media/yuncong/BstemAtlasData/CSHL_data_processed/CHATM2/CHATM2_prep2_lossless_Ntb/CHATM2_slide55_2018_01_22-S3_prep2_lossless_Ntb.tif\n",
      "aws s3 cp \"/home/yuncong/raw_image_histograms_log_fullImage/CHATM2/CHATM2_165F.png\" \"s3://mousebrainatlas-data/raw_image_histograms_log_fullImage/CHATM2/CHATM2_165F.png\"\n",
      "0\n",
      "166\n"
     ]
    },
    {
     "name": "stderr",
     "output_type": "stream",
     "text": [
      "Not using image_cache.\n"
     ]
    },
    {
     "name": "stdout",
     "output_type": "stream",
     "text": [
      "/media/yuncong/BstemAtlasData/CSHL_data_processed/CHATM2/CHATM2_prep2_lossless_Ntb/CHATM2_slide56_2018_01_22-S1_prep2_lossless_Ntb.tif\n",
      "aws s3 cp \"/home/yuncong/raw_image_histograms_log_fullImage/CHATM2/CHATM2_166F.png\" \"s3://mousebrainatlas-data/raw_image_histograms_log_fullImage/CHATM2/CHATM2_166F.png\"\n",
      "0\n",
      "167\n"
     ]
    },
    {
     "name": "stderr",
     "output_type": "stream",
     "text": [
      "Not using image_cache.\n"
     ]
    },
    {
     "name": "stdout",
     "output_type": "stream",
     "text": [
      "/media/yuncong/BstemAtlasData/CSHL_data_processed/CHATM2/CHATM2_prep2_lossless_Ntb/CHATM2_slide56_2018_01_22-S2_prep2_lossless_Ntb.tif\n",
      "aws s3 cp \"/home/yuncong/raw_image_histograms_log_fullImage/CHATM2/CHATM2_167F.png\" \"s3://mousebrainatlas-data/raw_image_histograms_log_fullImage/CHATM2/CHATM2_167F.png\"\n",
      "0\n",
      "168\n"
     ]
    },
    {
     "name": "stderr",
     "output_type": "stream",
     "text": [
      "Not using image_cache.\n"
     ]
    },
    {
     "name": "stdout",
     "output_type": "stream",
     "text": [
      "/media/yuncong/BstemAtlasData/CSHL_data_processed/CHATM2/CHATM2_prep2_lossless_Ntb/CHATM2_slide56_2018_01_22-S3_prep2_lossless_Ntb.tif\n",
      "aws s3 cp \"/home/yuncong/raw_image_histograms_log_fullImage/CHATM2/CHATM2_168F.png\" \"s3://mousebrainatlas-data/raw_image_histograms_log_fullImage/CHATM2/CHATM2_168F.png\"\n",
      "0\n",
      "169\n"
     ]
    },
    {
     "name": "stderr",
     "output_type": "stream",
     "text": [
      "Not using image_cache.\n"
     ]
    },
    {
     "name": "stdout",
     "output_type": "stream",
     "text": [
      "/media/yuncong/BstemAtlasData/CSHL_data_processed/CHATM2/CHATM2_prep2_lossless_Ntb/CHATM2_slide57_2018_01_22-S1_prep2_lossless_Ntb.tif\n",
      "aws s3 cp \"/home/yuncong/raw_image_histograms_log_fullImage/CHATM2/CHATM2_169F.png\" \"s3://mousebrainatlas-data/raw_image_histograms_log_fullImage/CHATM2/CHATM2_169F.png\"\n",
      "0\n"
     ]
    }
   ],
   "source": [
    "for stack in ['CHATM2']:\n",
    "\n",
    "#     for sec in metadata_cache['valid_sections'][stack][::10]:\n",
    "    for sec in range(150, 170):\n",
    "        \n",
    "        try:\n",
    "        \n",
    "            print sec\n",
    "\n",
    "            NorF = DataManager.get_brightfield_or_fluorescence(stack=stack, sec=sec)\n",
    "\n",
    "            lossless_img = DataManager.load_image_v2(stack=stack, prep_id=2, section=sec, version=stack_versions[stack])\n",
    "\n",
    "            tb_mask = DataManager.load_thumbnail_mask_v3(stack=stack, prep_id=2, section=sec)\n",
    "            lossless_mask = rescale_by_resampling(tb_mask, 32)\n",
    "\n",
    "            if NorF == 'N':\n",
    "                counts, bins = np.histogram(lossless_img[lossless_mask], bins=nissl_bins);\n",
    "            elif NorF == 'F':\n",
    "                counts, bins = np.histogram(lossless_img[lossless_mask], bins=ntb_bins);\n",
    "            else:\n",
    "                raise\n",
    "\n",
    "            vmax = lossless_img[lossless_mask].max()\n",
    "            vmin = lossless_img[lossless_mask].min()\n",
    "\n",
    "#             fig = plt.figure(figsize=(10, 5));\n",
    "#             plt.bar(bins[:-1], counts, align='center')\n",
    "#             if NorF == 'N':\n",
    "#                 plt.xlim([-1, nissl_bins[-1]]);\n",
    "#                 plt.xticks(np.r_[bins[::50], vmin, vmax], rotation=60)\n",
    "#             else:\n",
    "#                 plt.xlim([-1, ntb_bins[-1]]);\n",
    "#                 plt.xticks(np.r_[bins[::50], vmin, vmax], rotation=60)\n",
    "#             plt.axvline(x=vmax, c='r');\n",
    "#             plt.axvline(x=vmin, c='r');\n",
    "#             plt.title('Histogram (linear)');\n",
    "#             plt.xlabel('Pixel intensity');\n",
    "#             plt.show();\n",
    "\n",
    "#             plot_fp = os.path.join(ROOT_DIR, 'raw_image_histograms_fullImage', stack, '%s_%d%s.png' % (stack, sec, NorF))\n",
    "#             create_parent_dir_if_not_exists(plot_fp)\n",
    "#             plt.savefig(fname=plot_fp, bbox_inches='tight');\n",
    "#             plt.close(fig);\n",
    "#             upload_to_s3(plot_fp)\n",
    "\n",
    "            counts_log = np.log(counts)\n",
    "\n",
    "            fig = plt.figure(figsize=(10, 5));\n",
    "            plt.bar(bins[:-1], counts_log, width=np.diff(bins)[0]*.8, align='center');\n",
    "            if NorF == 'N':\n",
    "                plt.xlim([-1, nissl_bins[-1]]);\n",
    "                plt.xticks(np.r_[bins[::50], vmin, vmax], rotation=60)\n",
    "            else:\n",
    "                plt.xlim([-1, ntb_bins[-1]]);\n",
    "                plt.xticks(np.r_[bins[::50], vmin, vmax], rotation=60)\n",
    "\n",
    "            plt.axvline(x=vmax, c='r');\n",
    "            plt.axvline(x=vmin, c='r');\n",
    "            plt.title('Histogram (log)');\n",
    "            plt.xlabel('Pixel intensity');\n",
    "#             plt.show();\n",
    "\n",
    "            plot_fp = os.path.join(ROOT_DIR, 'raw_image_histograms_log_fullImage', stack, '%s_%d%s.png' % (stack, sec, NorF))\n",
    "            create_parent_dir_if_not_exists(plot_fp)\n",
    "            plt.savefig(fname=plot_fp, bbox_inches='tight');\n",
    "            plt.close(fig);\n",
    "            upload_to_s3(plot_fp)\n",
    "            \n",
    "        except Exception as e:\n",
    "            print e\n",
    "            pass"
   ]
  }
 ],
 "metadata": {
  "kernelspec": {
   "display_name": "Python 2",
   "language": "python",
   "name": "python2"
  },
  "language_info": {
   "codemirror_mode": {
    "name": "ipython",
    "version": 2
   },
   "file_extension": ".py",
   "mimetype": "text/x-python",
   "name": "python",
   "nbconvert_exporter": "python",
   "pygments_lexer": "ipython2",
   "version": "2.7.12"
  }
 },
 "nbformat": 4,
 "nbformat_minor": 2
}
