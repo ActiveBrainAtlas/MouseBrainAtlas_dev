{
 "cells": [
  {
   "cell_type": "code",
   "execution_count": 14,
   "metadata": {
    "collapsed": true
   },
   "outputs": [],
   "source": [
    "import numpy as np\n",
    "\n",
    "import matplotlib.pyplot as plt\n",
    "%matplotlib inline\n",
    "\n",
    "import os, sys\n",
    "\n",
    "from skimage.io import imread, imsave\n",
    "from skimage.transform import rotate\n",
    "from skimage.util import img_as_ubyte, img_as_float\n",
    "\n",
    "from subprocess import check_output, call"
   ]
  },
  {
   "cell_type": "code",
   "execution_count": 53,
   "metadata": {
    "collapsed": false
   },
   "outputs": [
    {
     "name": "stdout",
     "output_type": "stream",
     "text": [
      "21728 14816\n"
     ]
    }
   ],
   "source": [
    "stack = 'MD594'\n",
    "\n",
    "img_dir = '/home/yuncong/CSHL_data_processed/'+stack+'_lossless_aligned_cropped_downscaled_stereotactic'\n",
    "filenames = sorted(os.listdir(img_dir))\n",
    "rotated_w, rotated_h = map(int, check_output(\"identify -format %%Wx%%H %s\" % img_dir + '/' + filenames[1], shell=True).split('x'))\n",
    "\n",
    "print rotated_w, rotated_h "
   ]
  },
  {
   "cell_type": "code",
   "execution_count": 73,
   "metadata": {
    "collapsed": false
   },
   "outputs": [],
   "source": [
    "interaural_center_tb_allStacks = {'MD589': (51, 342), 'MD594': (138, 337)}\n",
    "pitch_angle_allStacks = {'MD589': -18.5, 'MD594': 0} # negative for counter-clockise rotation, in degrees\n",
    "\n",
    "interaural_center_tb = interaural_center_tb_allStacks[stack]\n",
    "interaural_center_lossless = map(lambda x: x*32, interaural_center_tb)\n",
    "pitch_angle = pitch_angle_allStacks[stack]\n",
    "\n",
    "# interaural_center_lossless_allStacks = dict([(l, (pt[0]*32, pt[1]*32)) for l, pt in interaural_center_tb_allStacks.iteritems()])\n",
    "# interaural_center_lossless = interaural_center_lossless_allStacks[stack]"
   ]
  },
  {
   "cell_type": "code",
   "execution_count": 74,
   "metadata": {
    "collapsed": true
   },
   "outputs": [],
   "source": [
    "from skimage.transform import SimilarityTransform, warp\n",
    "\n",
    "def get_rotate_transform(shape, angle, resize=False, center=None, order=1, mode='constant',\n",
    "           cval=0, clip=True, preserve_range=False):\n",
    "\n",
    "    rows, cols = shape\n",
    "\n",
    "    # rotation around center\n",
    "    if center is None:\n",
    "        center = np.array((cols, rows)) / 2. - 0.5\n",
    "    else:\n",
    "        center = np.asarray(center)\n",
    "                \n",
    "    tform1 = SimilarityTransform(translation=-center)\n",
    "    tform2 = SimilarityTransform(rotation=np.deg2rad(angle))\n",
    "    tform3 = SimilarityTransform(translation=center)\n",
    "    tform = tform1 + tform2 + tform3\n",
    "\n",
    "    output_shape = None\n",
    "    if resize:\n",
    "        # determine shape of output image\n",
    "        corners = np.array([[1, 1], [1, rows], [cols, rows], [cols, 1]])\n",
    "        corners = tform(corners - 1)\n",
    "        minc = corners[:, 0].min()\n",
    "        minr = corners[:, 1].min()\n",
    "        maxc = corners[:, 0].max()\n",
    "        maxr = corners[:, 1].max()\n",
    "                \n",
    "        out_rows = maxr - minr + 1\n",
    "        out_cols = maxc - minc + 1\n",
    "        output_shape = np.ceil((out_rows, out_cols))\n",
    "        \n",
    "        # fit output image in new shape\n",
    "        translation = -np.asarray((minc, minr))\n",
    "        tform4 = SimilarityTransform(translation=translation)\n",
    "        tform = tform + tform4\n",
    "\n",
    "    return tform, output_shape"
   ]
  },
  {
   "cell_type": "code",
   "execution_count": 75,
   "metadata": {
    "collapsed": false
   },
   "outputs": [
    {
     "name": "stdout",
     "output_type": "stream",
     "text": [
      "[ 17632.  16704.]\n"
     ]
    }
   ],
   "source": [
    "tform, output_shape = get_rotate_transform((orig_h, orig_w), pitch_angle, resize=True, center=interaural_center_lossless, cval=0)\n",
    "print output_shape"
   ]
  },
  {
   "cell_type": "code",
   "execution_count": 112,
   "metadata": {
    "collapsed": false,
    "scrolled": false
   },
   "outputs": [
    {
     "name": "stdout",
     "output_type": "stream",
     "text": [
      "[ 4416 10784]\n"
     ]
    }
   ],
   "source": [
    "# interaural_center_tb_shifted = tform(interaural_center_tb)[0].astype(np.int)\n",
    "# print interaural_center_tb_shifted\n",
    "\n",
    "interaural_center_lossless_shifted = tform(interaural_center_lossless)[0].astype(np.int)\n",
    "print interaural_center_lossless_shifted\n",
    "\n",
    "grid_viz = np.zeros((rotated_h, rotated_w, 4), np.uint8)\n",
    "\n",
    "# 15.2 um / pixel\n",
    "micrometers_per_pixel = 15.2 / 32\n",
    "micrometers_per_tick = 250\n",
    "green_tick_interval_mm = 1000\n",
    "lw = 8\n",
    "\n",
    "tick_interval_pixel = micrometers_per_tick / micrometers_per_pixel\n",
    "green_tick_interval_pixel = green_tick_interval_mm / micrometers_per_pixel\n",
    "\n",
    "# gray grids are 100 um apart\n",
    "for c in np.arange(interaural_center_lossless_shifted[0], 0, -tick_interval_pixel).astype(np.int):\n",
    "    grid_viz[:, c-lw:c+lw, 3] = 255*.1\n",
    "\n",
    "for c in np.arange(interaural_center_lossless_shifted[0], rotated_w, tick_interval_pixel).astype(np.int):\n",
    "    grid_viz[:, c-lw:c+lw, 3] = 255*.1\n",
    "    \n",
    "for r in np.arange(interaural_center_lossless_shifted[1], 0, -tick_interval_pixel).astype(np.int):\n",
    "    grid_viz[r-lw:r+lw, :, 3] = 255*.1\n",
    "\n",
    "for r in np.arange(interaural_center_lossless_shifted[1], rotated_h, tick_interval_pixel).astype(np.int):\n",
    "    grid_viz[r-lw:r+lw, :, 3] = 255*.1\n",
    "\n",
    "\n",
    "# green grids are 1 mm apart\n",
    "\n",
    "neg_xticks = np.arange(interaural_center_lossless_shifted[0], 0, -green_tick_interval_pixel).astype(np.int)\n",
    "pos_xticks = np.arange(interaural_center_lossless_shifted[0], rotated_w, green_tick_interval_pixel).astype(np.int)\n",
    "xticks = np.r_[neg_xticks[::-1][:-1], pos_xticks]\n",
    "\n",
    "neg_yticks = np.arange(interaural_center_lossless_shifted[1], 0, -green_tick_interval_pixel).astype(np.int)\n",
    "pos_yticks = np.arange(interaural_center_lossless_shifted[1], rotated_h, green_tick_interval_pixel).astype(np.int)\n",
    "yticks = np.r_[neg_yticks[::-1][:-1], pos_yticks]\n",
    "    \n",
    "for c in xticks:\n",
    "    grid_viz[:, c-lw:c+lw, :] = (0,255,0,255*.4)\n",
    "\n",
    "for r in yticks:\n",
    "    grid_viz[r-lw:r+lw, :, :] = (0,255,0,255*.4)\n",
    "\n",
    "# red line defines origin (interaural)\n",
    "cx, cy = interaural_center_lossless_shifted\n",
    "grid_viz[:, cx-lw:cx+lw, :] = (255,0,0,255*.4)\n",
    "grid_viz[cy-lw:cy+lw, :, :] = (255,0,0,255*.4)\n",
    "\n",
    "n_pos_x = len(pos_xticks)\n",
    "n_neg_x = len(neg_xticks)-1\n",
    "n_pos_y = len(pos_yticks)\n",
    "n_neg_y = len(neg_yticks)-1\n",
    "\n",
    "# coordinate texts\n",
    "for xi, x in enumerate(xticks):\n",
    "    for yi, y in enumerate(yticks):\n",
    "        cv2.putText(grid_viz, '(%d,%d)'%(n_neg_x-xi, n_neg_y-yi), (x,y-20), \n",
    "                    cv2.FONT_HERSHEY_SIMPLEX, 3, ((0,255,0,255*.4)), 5)"
   ]
  },
  {
   "cell_type": "code",
   "execution_count": 113,
   "metadata": {
    "collapsed": false
   },
   "outputs": [
    {
     "data": {
      "text/plain": [
       "True"
      ]
     },
     "execution_count": 113,
     "metadata": {},
     "output_type": "execute_result"
    }
   ],
   "source": [
    "import cv2\n",
    "cv2.imwrite('/home/yuncong/CSHL_data_processed/'+stack+'_lossless_aligned_cropped_stereotacticGrids.png', \n",
    "            grid_viz[...,[2,1,0,3]]);\n",
    "\n",
    "# imsave('/home/yuncong/CSHL_data_processed/MD589_lossless_aligned_cropped_stereotacticGrids.png', grid_viz)"
   ]
  },
  {
   "cell_type": "code",
   "execution_count": 33,
   "metadata": {
    "collapsed": true
   },
   "outputs": [],
   "source": [
    "sys.path.append(os.path.join(os.environ['REPO_DIR'], 'utilities'))\n",
    "from utilities2015 import alpha_blending, display"
   ]
  },
  {
   "cell_type": "code",
   "execution_count": 237,
   "metadata": {
    "collapsed": false,
    "scrolled": true
   },
   "outputs": [
    {
     "data": {
      "text/plain": [
       "[(49, 2.6400000000000001),\n",
       " (50, 2.5993846153846154),\n",
       " (51, 2.5587692307692307),\n",
       " (52, 2.5181538461538464),\n",
       " (53, 2.4775384615384617),\n",
       " (54, 2.436923076923077),\n",
       " (55, 2.3963076923076922),\n",
       " (56, 2.355692307692308),\n",
       " (57, 2.3150769230769233),\n",
       " (58, 2.2744615384615385),\n",
       " (59, 2.2338461538461538),\n",
       " (60, 2.1932307692307695),\n",
       " (61, 2.1526153846153848),\n",
       " (62, 2.1120000000000001),\n",
       " (63, 2.0713846153846154),\n",
       " (64, 2.0307692307692307),\n",
       " (65, 1.9901538461538464),\n",
       " (66, 1.9495384615384617),\n",
       " (67, 1.9089230769230769),\n",
       " (68, 1.8683076923076924),\n",
       " (69, 1.8276923076923079),\n",
       " (70, 1.7870769230769232),\n",
       " (71, 1.7464615384615385),\n",
       " (72, 1.705846153846154),\n",
       " (73, 1.6652307692307693),\n",
       " (74, 1.6246153846153848),\n",
       " (75, 1.5840000000000001),\n",
       " (76, 1.5433846153846156),\n",
       " (77, 1.5027692307692309),\n",
       " (78, 1.4621538461538464),\n",
       " (79, 1.4215384615384616),\n",
       " (80, 1.3809230769230771),\n",
       " (81, 1.3403076923076924),\n",
       " (82, 1.2996923076923077),\n",
       " (83, 1.2590769230769232),\n",
       " (84, 1.2184615384615385),\n",
       " (85, 1.177846153846154),\n",
       " (86, 1.1372307692307693),\n",
       " (87, 1.0966153846153848),\n",
       " (88, 1.056),\n",
       " (89, 1.0153846153846156),\n",
       " (90, 0.97476923076923083),\n",
       " (91, 0.93415384615384633),\n",
       " (92, 0.89353846153846161),\n",
       " (93, 0.85292307692307712),\n",
       " (94, 0.8123076923076924),\n",
       " (95, 0.7716923076923079),\n",
       " (96, 0.73107692307692318),\n",
       " (97, 0.69046153846153846),\n",
       " (98, 0.64984615384615396),\n",
       " (99, 0.60923076923076946),\n",
       " (100, 0.56861538461538474),\n",
       " (101, 0.52800000000000002),\n",
       " (102, 0.48738461538461531),\n",
       " (103, 0.44676923076923103),\n",
       " (104, 0.40615384615384631),\n",
       " (105, 0.36553846153846159),\n",
       " (106, 0.32492307692307687),\n",
       " (107, 0.28430769230769259),\n",
       " (108, 0.24369230769230787),\n",
       " (109, 0.20307692307692315),\n",
       " (110, 0.16246153846153844),\n",
       " (111, 0.12184615384615416),\n",
       " (112, 0.08123076923076944),\n",
       " (113, 0.04061538461538472),\n",
       " (114, 0.0)]"
      ]
     },
     "execution_count": 237,
     "metadata": {},
     "output_type": "execute_result"
    }
   ],
   "source": [
    "zip(range(49, 115), np.linspace(2.64, 0, 114-49+1))"
   ]
  },
  {
   "cell_type": "code",
   "execution_count": 6,
   "metadata": {
    "collapsed": false
   },
   "outputs": [
    {
     "name": "stdout",
     "output_type": "stream",
     "text": [
      "MD589_0068_thumbnail_aligned_cropped_stereotactic.tif\n",
      "MD589_0119_thumbnail_aligned_cropped_stereotactic.tif\n",
      "MD589_0131_thumbnail_aligned_cropped_stereotactic.tif\n",
      "MD589_0054_thumbnail_aligned_cropped_stereotactic.tif\n",
      "MD589_0101_thumbnail_aligned_cropped_stereotactic.tif\n",
      "MD589_0112_thumbnail_aligned_cropped_stereotactic.tif\n",
      "MD589_0090_thumbnail_aligned_cropped_stereotactic.tif\n",
      "MD589_0130_thumbnail_aligned_cropped_stereotactic.tif\n",
      "MD589_0140_thumbnail_aligned_cropped_stereotactic.tif\n",
      "MD589_0110_thumbnail_aligned_cropped_stereotactic.tif\n",
      "MD589_0093_thumbnail_aligned_cropped_stereotactic.tif\n",
      "MD589_0105_thumbnail_aligned_cropped_stereotactic.tif\n",
      "MD589_0132_thumbnail_aligned_cropped_stereotactic.tif\n",
      "MD589_0073_thumbnail_aligned_cropped_stereotactic.tif\n",
      "MD589_0108_thumbnail_aligned_cropped_stereotactic.tif\n",
      "MD589_0152_thumbnail_aligned_cropped_stereotactic.tif\n",
      "MD589_0094_thumbnail_aligned_cropped_stereotactic.tif\n",
      "MD589_0107_thumbnail_aligned_cropped_stereotactic.tif\n",
      "MD589_0061_thumbnail_aligned_cropped_stereotactic.tif\n",
      "MD589_0133_thumbnail_aligned_cropped_stereotactic.tif\n",
      "MD589_0174_thumbnail_aligned_cropped_stereotactic.tif\n",
      "MD589_0082_thumbnail_aligned_cropped_stereotactic.tif\n",
      "MD589_0084_thumbnail_aligned_cropped_stereotactic.tif\n",
      "MD589_0129_thumbnail_aligned_cropped_stereotactic.tif\n",
      "MD589_0118_thumbnail_aligned_cropped_stereotactic.tif\n",
      "MD589_0089_thumbnail_aligned_cropped_stereotactic.tif\n",
      "MD589_0080_thumbnail_aligned_cropped_stereotactic.tif\n",
      "MD589_0137_thumbnail_aligned_cropped_stereotactic.tif\n",
      "MD589_0175_thumbnail_aligned_cropped_stereotactic.tif\n",
      "MD589_0162_thumbnail_aligned_cropped_stereotactic.tif\n",
      "MD589_0157_thumbnail_aligned_cropped_stereotactic.tif\n",
      "MD589_0097_thumbnail_aligned_cropped_stereotactic.tif\n",
      "MD589_0106_thumbnail_aligned_cropped_stereotactic.tif\n",
      "MD589_0051_thumbnail_aligned_cropped_stereotactic.tif\n",
      "MD589_0165_thumbnail_aligned_cropped_stereotactic.tif\n",
      "MD589_0083_thumbnail_aligned_cropped_stereotactic.tif\n",
      "MD589_0176_thumbnail_aligned_cropped_stereotactic.tif\n",
      "MD589_0179_thumbnail_aligned_cropped_stereotactic.tif\n",
      "MD589_0116_thumbnail_aligned_cropped_stereotactic.tif\n",
      "MD589_0091_thumbnail_aligned_cropped_stereotactic.tif\n",
      "MD589_0171_thumbnail_aligned_cropped_stereotactic.tif\n",
      "MD589_0111_thumbnail_aligned_cropped_stereotactic.tif\n",
      "MD589_0168_thumbnail_aligned_cropped_stereotactic.tif\n",
      "MD589_0117_thumbnail_aligned_cropped_stereotactic.tif\n",
      "MD589_0172_thumbnail_aligned_cropped_stereotactic.tif\n",
      "MD589_0180_thumbnail_aligned_cropped_stereotactic.tif\n",
      "MD589_0072_thumbnail_aligned_cropped_stereotactic.tif\n",
      "MD589_0056_thumbnail_aligned_cropped_stereotactic.tif\n",
      "MD589_0142_thumbnail_aligned_cropped_stereotactic.tif\n",
      "MD589_0136_thumbnail_aligned_cropped_stereotactic.tif\n",
      "MD589_0102_thumbnail_aligned_cropped_stereotactic.tif\n",
      "MD589_0153_thumbnail_aligned_cropped_stereotactic.tif\n",
      "MD589_0125_thumbnail_aligned_cropped_stereotactic.tif\n",
      "MD589_0078_thumbnail_aligned_cropped_stereotactic.tif\n",
      "MD589_0126_thumbnail_aligned_cropped_stereotactic.tif\n",
      "MD589_0139_thumbnail_aligned_cropped_stereotactic.tif\n",
      "MD589_0135_thumbnail_aligned_cropped_stereotactic.tif\n",
      "MD589_0088_thumbnail_aligned_cropped_stereotactic.tif\n",
      "MD589_0183_thumbnail_aligned_cropped_stereotactic.tif\n",
      "MD589_0087_thumbnail_aligned_cropped_stereotactic.tif\n",
      "MD589_0075_thumbnail_aligned_cropped_stereotactic.tif\n",
      "MD589_0123_thumbnail_aligned_cropped_stereotactic.tif\n",
      "MD589_0163_thumbnail_aligned_cropped_stereotactic.tif\n",
      "MD589_0164_thumbnail_aligned_cropped_stereotactic.tif\n",
      "MD589_0186_thumbnail_aligned_cropped_stereotactic.tif\n",
      "MD589_0058_thumbnail_aligned_cropped_stereotactic.tif\n",
      "MD589_0098_thumbnail_aligned_cropped_stereotactic.tif\n",
      "MD589_0120_thumbnail_aligned_cropped_stereotactic.tif\n",
      "MD589_0055_thumbnail_aligned_cropped_stereotactic.tif\n",
      "MD589_0146_thumbnail_aligned_cropped_stereotactic.tif\n",
      "MD589_0134_thumbnail_aligned_cropped_stereotactic.tif\n",
      "MD589_0177_thumbnail_aligned_cropped_stereotactic.tif\n",
      "MD589_0121_thumbnail_aligned_cropped_stereotactic.tif\n",
      "MD589_0185_thumbnail_aligned_cropped_stereotactic.tif\n",
      "MD589_0070_thumbnail_aligned_cropped_stereotactic.tif\n",
      "MD589_0096_thumbnail_aligned_cropped_stereotactic.tif\n",
      "MD589_0127_thumbnail_aligned_cropped_stereotactic.tif\n",
      "MD589_0063_thumbnail_aligned_cropped_stereotactic.tif\n",
      "MD589_0086_thumbnail_aligned_cropped_stereotactic.tif\n",
      "MD589_0160_thumbnail_aligned_cropped_stereotactic.tif\n",
      "MD589_0154_thumbnail_aligned_cropped_stereotactic.tif\n",
      "MD589_0074_thumbnail_aligned_cropped_stereotactic.tif\n",
      "MD589_0114_thumbnail_aligned_cropped_stereotactic.tif\n",
      "MD589_0124_thumbnail_aligned_cropped_stereotactic.tif\n",
      "MD589_0060_thumbnail_aligned_cropped_stereotactic.tif\n",
      "MD589_0059_thumbnail_aligned_cropped_stereotactic.tif\n",
      "MD589_0145_thumbnail_aligned_cropped_stereotactic.tif\n",
      "MD589_0151_thumbnail_aligned_cropped_stereotactic.tif\n",
      "MD589_0158_thumbnail_aligned_cropped_stereotactic.tif\n",
      "MD589_0166_thumbnail_aligned_cropped_stereotactic.tif\n",
      "MD589_0141_thumbnail_aligned_cropped_stereotactic.tif\n",
      "MD589_0067_thumbnail_aligned_cropped_stereotactic.tif\n",
      "MD589_0049_thumbnail_aligned_cropped_stereotactic.tif\n",
      "MD589_0053_thumbnail_aligned_cropped_stereotactic.tif\n",
      "MD589_0057_thumbnail_aligned_cropped_stereotactic.tif\n",
      "MD589_0104_thumbnail_aligned_cropped_stereotactic.tif\n",
      "MD589_0178_thumbnail_aligned_cropped_stereotactic.tif\n",
      "MD589_0079_thumbnail_aligned_cropped_stereotactic.tif\n",
      "MD589_0113_thumbnail_aligned_cropped_stereotactic.tif\n",
      "MD589_0077_thumbnail_aligned_cropped_stereotactic.tif\n",
      "MD589_0143_thumbnail_aligned_cropped_stereotactic.tif\n",
      "MD589_0147_thumbnail_aligned_cropped_stereotactic.tif\n",
      "MD589_0155_thumbnail_aligned_cropped_stereotactic.tif\n",
      "MD589_0109_thumbnail_aligned_cropped_stereotactic.tif\n",
      "MD589_0069_thumbnail_aligned_cropped_stereotactic.tif\n",
      "MD589_0050_thumbnail_aligned_cropped_stereotactic.tif\n",
      "MD589_0138_thumbnail_aligned_cropped_stereotactic.tif\n",
      "MD589_0095_thumbnail_aligned_cropped_stereotactic.tif\n",
      "MD589_0184_thumbnail_aligned_cropped_stereotactic.tif\n",
      "MD589_0150_thumbnail_aligned_cropped_stereotactic.tif\n",
      "MD589_0122_thumbnail_aligned_cropped_stereotactic.tif\n",
      "MD589_0115_thumbnail_aligned_cropped_stereotactic.tif\n",
      "MD589_0170_thumbnail_aligned_cropped_stereotactic.tif\n",
      "MD589_0076_thumbnail_aligned_cropped_stereotactic.tif\n",
      "MD589_0144_thumbnail_aligned_cropped_stereotactic.tif\n",
      "MD589_0052_thumbnail_aligned_cropped_stereotactic.tif\n",
      "MD589_0182_thumbnail_aligned_cropped_stereotactic.tif\n",
      "MD589_0149_thumbnail_aligned_cropped_stereotactic.tif\n",
      "MD589_0099_thumbnail_aligned_cropped_stereotactic.tif\n",
      "MD589_0167_thumbnail_aligned_cropped_stereotactic.tif\n",
      "MD589_0128_thumbnail_aligned_cropped_stereotactic.tif\n",
      "MD589_0181_thumbnail_aligned_cropped_stereotactic.tif\n",
      "MD589_0092_thumbnail_aligned_cropped_stereotactic.tif\n",
      "MD589_0100_thumbnail_aligned_cropped_stereotactic.tif\n",
      "MD589_0066_thumbnail_aligned_cropped_stereotactic.tif\n",
      "MD589_0071_thumbnail_aligned_cropped_stereotactic.tif\n",
      "MD589_0161_thumbnail_aligned_cropped_stereotactic.tif\n",
      "MD589_0156_thumbnail_aligned_cropped_stereotactic.tif\n",
      "MD589_0159_thumbnail_aligned_cropped_stereotactic.tif\n",
      "MD589_0062_thumbnail_aligned_cropped_stereotactic.tif\n",
      "MD589_0148_thumbnail_aligned_cropped_stereotactic.tif\n",
      "MD589_0173_thumbnail_aligned_cropped_stereotactic.tif\n",
      "MD589_0064_thumbnail_aligned_cropped_stereotactic.tif\n",
      "MD589_0065_thumbnail_aligned_cropped_stereotactic.tif\n",
      "MD589_0103_thumbnail_aligned_cropped_stereotactic.tif\n",
      "MD589_0085_thumbnail_aligned_cropped_stereotactic.tif\n",
      "MD589_0081_thumbnail_aligned_cropped_stereotactic.tif\n",
      "MD589_0169_thumbnail_aligned_cropped_stereotactic.tif\n"
     ]
    }
   ],
   "source": [
    "for f in filenames:\n",
    "    print f"
   ]
  },
  {
   "cell_type": "code",
   "execution_count": null,
   "metadata": {
    "collapsed": true
   },
   "outputs": [],
   "source": []
  }
 ],
 "metadata": {
  "kernelspec": {
   "display_name": "Python 2",
   "language": "python",
   "name": "python2"
  },
  "language_info": {
   "codemirror_mode": {
    "name": "ipython",
    "version": 2
   },
   "file_extension": ".py",
   "mimetype": "text/x-python",
   "name": "python",
   "nbconvert_exporter": "python",
   "pygments_lexer": "ipython2",
   "version": "2.7.3"
  }
 },
 "nbformat": 4,
 "nbformat_minor": 0
}
