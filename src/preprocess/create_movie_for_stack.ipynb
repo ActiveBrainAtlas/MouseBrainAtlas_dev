{
 "cells": [
  {
   "cell_type": "code",
   "execution_count": 2,
   "metadata": {},
   "outputs": [
    {
     "name": "stdout",
     "output_type": "stream",
     "text": [
      "Setting environment for Local Macbook Pro\n"
     ]
    },
    {
     "name": "stderr",
     "output_type": "stream",
     "text": [
      "Not using image_cache.\n",
      "Not using image_cache.\n",
      "Not using image_cache.\n",
      "Not using image_cache.\n",
      "Not using image_cache.\n",
      "Not using image_cache.\n",
      "Not using image_cache.\n",
      "Not using image_cache.\n",
      "Not using image_cache.\n",
      "Not using image_cache.\n",
      "Not using image_cache.\n",
      "Not using image_cache.\n",
      "Not using image_cache.\n",
      "Not using image_cache.\n",
      "Not using image_cache.\n",
      "Not using image_cache.\n",
      "Not using image_cache.\n",
      "Not using image_cache.\n",
      "Not using image_cache.\n",
      "Not using image_cache.\n",
      "Not using image_cache.\n"
     ]
    }
   ],
   "source": [
    "%reload_ext autoreload\n",
    "%autoreload 2\n",
    "\n",
    "import sys\n",
    "import os\n",
    "\n",
    "sys.path.append(os.path.join(os.environ['REPO_DIR'], 'utilities'))\n",
    "from utilities2015 import *\n",
    "from metadata import *\n",
    "from data_manager import *"
   ]
  },
  {
   "cell_type": "markdown",
   "metadata": {},
   "source": [
    "# Make MD662 movie, thumbnail"
   ]
  },
  {
   "cell_type": "code",
   "execution_count": 2,
   "metadata": {
    "collapsed": true
   },
   "outputs": [],
   "source": [
    "o = np.array([105, 131])\n",
    "s = np.array([1265, 611])"
   ]
  },
  {
   "cell_type": "code",
   "execution_count": 4,
   "metadata": {
    "collapsed": true
   },
   "outputs": [],
   "source": [
    "! mkdir ~/MD662_prep5"
   ]
  },
  {
   "cell_type": "code",
   "execution_count": 10,
   "metadata": {
    "collapsed": true
   },
   "outputs": [],
   "source": [
    "! mogrify -crop 1265x611+105+131 -path ~/MD662_prep5/ /home/yuncong/CSHL_data_processed/MD662/MD662_prep1_thumbnail/*.tif"
   ]
  },
  {
   "cell_type": "code",
   "execution_count": 11,
   "metadata": {
    "collapsed": true
   },
   "outputs": [],
   "source": [
    "fn2ind = {fn + '_prep1_thumbnail.tif': ind for fn, ind in metadata_cache['filenames_to_sections']['MD662'].iteritems()}"
   ]
  },
  {
   "cell_type": "code",
   "execution_count": 12,
   "metadata": {
    "collapsed": true
   },
   "outputs": [],
   "source": [
    "! mkdir /home/yuncong/MD662_prep5_renamed/"
   ]
  },
  {
   "cell_type": "code",
   "execution_count": 13,
   "metadata": {
    "collapsed": true
   },
   "outputs": [],
   "source": [
    "for fn in os.listdir('/home/yuncong/MD662_prep5/'):\n",
    "    os.rename('/home/yuncong/MD662_prep5/' + fn, '/home/yuncong/MD662_prep5_renamed/%03d.tif' % fn2ind[fn])"
   ]
  },
  {
   "cell_type": "code",
   "execution_count": 17,
   "metadata": {},
   "outputs": [
    {
     "name": "stdout",
     "output_type": "stream",
     "text": [
      "ffmpeg version 2.8.11-0ubuntu0.16.04.1 Copyright (c) 2000-2017 the FFmpeg developers\n",
      "  built with gcc 5.4.0 (Ubuntu 5.4.0-6ubuntu1~16.04.4) 20160609\n",
      "  configuration: --prefix=/usr --extra-version=0ubuntu0.16.04.1 --build-suffix=-ffmpeg --toolchain=hardened --libdir=/usr/lib/x86_64-linux-gnu --incdir=/usr/include/x86_64-linux-gnu --cc=cc --cxx=g++ --enable-gpl --enable-shared --disable-stripping --disable-decoder=libopenjpeg --disable-decoder=libschroedinger --enable-avresample --enable-avisynth --enable-gnutls --enable-ladspa --enable-libass --enable-libbluray --enable-libbs2b --enable-libcaca --enable-libcdio --enable-libflite --enable-libfontconfig --enable-libfreetype --enable-libfribidi --enable-libgme --enable-libgsm --enable-libmodplug --enable-libmp3lame --enable-libopenjpeg --enable-libopus --enable-libpulse --enable-librtmp --enable-libschroedinger --enable-libshine --enable-libsnappy --enable-libsoxr --enable-libspeex --enable-libssh --enable-libtheora --enable-libtwolame --enable-libvorbis --enable-libvpx --enable-libwavpack --enable-libwebp --enable-libx265 --enable-libxvid --enable-libzvbi --enable-openal --enable-opengl --enable-x11grab --enable-libdc1394 --enable-libiec61883 --enable-libzmq --enable-frei0r --enable-libx264 --enable-libopencv\n",
      "  WARNING: library configuration mismatch\n",
      "  avcodec     configuration: --prefix=/usr --extra-version=0ubuntu0.16.04.1 --build-suffix=-ffmpeg --toolchain=hardened --libdir=/usr/lib/x86_64-linux-gnu --incdir=/usr/include/x86_64-linux-gnu --cc=cc --cxx=g++ --enable-gpl --enable-shared --disable-stripping --disable-decoder=libopenjpeg --disable-decoder=libschroedinger --enable-avresample --enable-avisynth --enable-gnutls --enable-ladspa --enable-libass --enable-libbluray --enable-libbs2b --enable-libcaca --enable-libcdio --enable-libflite --enable-libfontconfig --enable-libfreetype --enable-libfribidi --enable-libgme --enable-libgsm --enable-libmodplug --enable-libmp3lame --enable-libopenjpeg --enable-libopus --enable-libpulse --enable-librtmp --enable-libschroedinger --enable-libshine --enable-libsnappy --enable-libsoxr --enable-libspeex --enable-libssh --enable-libtheora --enable-libtwolame --enable-libvorbis --enable-libvpx --enable-libwavpack --enable-libwebp --enable-libx265 --enable-libxvid --enable-libzvbi --enable-openal --enable-opengl --enable-x11grab --enable-libdc1394 --enable-libiec61883 --enable-libzmq --enable-frei0r --enable-libx264 --enable-libopencv --enable-version3 --disable-doc --disable-programs --disable-avdevice --disable-avfilter --disable-avformat --disable-avresample --disable-postproc --disable-swscale --enable-libopencore_amrnb --enable-libopencore_amrwb --enable-libvo_aacenc --enable-libvo_amrwbenc\n",
      "  libavutil      54. 31.100 / 54. 31.100\n",
      "  libavcodec     56. 60.100 / 56. 60.100\n",
      "  libavformat    56. 40.101 / 56. 40.101\n",
      "  libavdevice    56.  4.100 / 56.  4.100\n",
      "  libavfilter     5. 40.101 /  5. 40.101\n",
      "  libavresample   2.  1.  0 /  2.  1.  0\n",
      "  libswscale      3.  1.101 /  3.  1.101\n",
      "  libswresample   1.  2.101 /  1.  2.101\n",
      "  libpostproc    53.  3.100 / 53.  3.100\n",
      "Input #0, image2, from '/home/yuncong//MD662_prep5_renamed/*.tif':\n",
      "  Duration: 00:00:43.80, start: 0.000000, bitrate: N/A\n",
      "    Stream #0:0: Video: tiff, rgb24, 1265x611, 10 fps, 10 tbr, 10 tbn, 10 tbc\n",
      "\u001b[1;36m[libx264 @ 0xbb10a0] \u001b[0musing cpu capabilities: MMX2 SSE2Fast SSSE3 SSE4.2 AVX FMA3 AVX2 LZCNT BMI2\n",
      "\u001b[1;36m[libx264 @ 0xbb10a0] \u001b[0mprofile High, level 5.0\n",
      "\u001b[1;36m[libx264 @ 0xbb10a0] \u001b[0m264 - core 148 r2643 5c65704 - H.264/MPEG-4 AVC codec - Copyleft 2003-2015 - http://www.videolan.org/x264.html - options: cabac=1 ref=3 deblock=1:0:0 analyse=0x3:0x113 me=hex subme=7 psy=1 psy_rd=1.00:0.00 mixed_ref=1 me_range=16 chroma_me=1 trellis=1 8x8dct=1 cqm=0 deadzone=21,11 fast_pskip=1 chroma_qp_offset=-2 threads=12 lookahead_threads=2 sliced_threads=0 nr=0 decimate=1 interlaced=0 bluray_compat=0 constrained_intra=0 bframes=3 b_pyramid=2 b_adapt=1 b_bias=0 direct=1 weightb=1 open_gop=0 weightp=2 keyint=250 keyint_min=25 scenecut=40 intra_refresh=0 rc_lookahead=40 rc=crf mbtree=1 crf=23.0 qcomp=0.60 qpmin=0 qpmax=69 qpstep=4 ip_ratio=1.40 aq=1:1.00\n",
      "Output #0, mp4, to '/home/yuncong/MD662_prep5_thumbnail_aligned.mp4':\n",
      "  Metadata:\n",
      "    encoder         : Lavf56.40.101\n",
      "    Stream #0:0: Video: h264 (libx264) ([33][0][0][0] / 0x0021), yuv420p, 2236x1080, q=-1--1, 25 fps, 12800 tbn, 25 tbc\n",
      "    Metadata:\n",
      "      encoder         : Lavc56.60.100 libx264\n",
      "Stream mapping:\n",
      "  Stream #0:0 -> #0:0 (tiff (native) -> h264 (libx264))\n",
      "Press [q] to stop, [?] for help\n",
      "frame= 1094 fps= 12 q=-1.0 Lsize=   73633kB time=00:00:43.68 bitrate=13809.6kbits/s    \n",
      "video:73622kB audio:0kB subtitle:0kB other streams:0kB global headers:0kB muxing overhead: 0.015494%\n",
      "\u001b[1;36m[libx264 @ 0xbb10a0] \u001b[0mframe I:244   Avg QP:17.89  size:194307\n",
      "\u001b[1;36m[libx264 @ 0xbb10a0] \u001b[0mframe P:631   Avg QP:20.55  size: 44173\n",
      "\u001b[1;36m[libx264 @ 0xbb10a0] \u001b[0mframe B:219   Avg QP:20.10  size:   474\n",
      "\u001b[1;36m[libx264 @ 0xbb10a0] \u001b[0mconsecutive B-frames: 60.0% 40.0%  0.0%  0.0%\n",
      "\u001b[1;36m[libx264 @ 0xbb10a0] \u001b[0mmb I  I16..4: 15.0% 67.8% 17.2%\n",
      "\u001b[1;36m[libx264 @ 0xbb10a0] \u001b[0mmb P  I16..4:  4.0% 10.1%  1.1%  P16..4:  7.8%  1.7%  1.7%  0.0%  0.0%    skip:73.7%\n",
      "\u001b[1;36m[libx264 @ 0xbb10a0] \u001b[0mmb B  I16..4:  0.0%  0.0%  0.0%  B16..8:  3.5%  0.0%  0.0%  direct: 0.0%  skip:96.5%  L0: 2.9% L1:97.1% BI: 0.0%\n",
      "\u001b[1;36m[libx264 @ 0xbb10a0] \u001b[0m8x8 transform intra:67.5% inter:82.0%\n",
      "\u001b[1;36m[libx264 @ 0xbb10a0] \u001b[0mcoded y,uvDC,uvAC intra: 47.8% 46.6% 36.4% inter: 3.3% 6.2% 2.1%\n",
      "\u001b[1;36m[libx264 @ 0xbb10a0] \u001b[0mi16 v,h,dc,p: 76% 13%  8%  4%\n",
      "\u001b[1;36m[libx264 @ 0xbb10a0] \u001b[0mi8 v,h,dc,ddl,ddr,vr,hd,vl,hu: 37%  9% 23%  5%  6%  5%  5%  5%  6%\n",
      "\u001b[1;36m[libx264 @ 0xbb10a0] \u001b[0mi4 v,h,dc,ddl,ddr,vr,hd,vl,hu: 44% 13% 16%  5%  6%  4%  4%  3%  4%\n",
      "\u001b[1;36m[libx264 @ 0xbb10a0] \u001b[0mi8c dc,h,v,p: 75%  8% 11%  6%\n",
      "\u001b[1;36m[libx264 @ 0xbb10a0] \u001b[0mWeighted P-Frames: Y:5.1% UV:4.4%\n",
      "\u001b[1;36m[libx264 @ 0xbb10a0] \u001b[0mref P L0: 63.2% 11.0%  9.7% 14.1%  2.0%\n",
      "\u001b[1;36m[libx264 @ 0xbb10a0] \u001b[0mref B L0: 61.6% 38.4%\n",
      "\u001b[1;36m[libx264 @ 0xbb10a0] \u001b[0mkb/s:13782.07\n"
     ]
    }
   ],
   "source": [
    "! ffmpeg -framerate 10 -pattern_type glob -i \"/home/yuncong//MD662_prep5_renamed/*.tif\" -vf \"scale=-1:1080,fps=25,format=yuv420p\" ~/MD662_prep5_thumbnail_aligned.mp4"
   ]
  },
  {
   "cell_type": "markdown",
   "metadata": {},
   "source": [
    "# Make MD662 movie, down8"
   ]
  },
  {
   "cell_type": "code",
   "execution_count": null,
   "metadata": {
    "collapsed": true
   },
   "outputs": [],
   "source": [
    "fn2ind = {fn + '_prep2_lossless_contrastStretched.jpg': ind for fn, ind in metadata_cache['filenames_to_sections']['MD662'].iteritems()}"
   ]
  },
  {
   "cell_type": "code",
   "execution_count": 14,
   "metadata": {
    "collapsed": true
   },
   "outputs": [],
   "source": [
    "! mkdir /home/yuncong/MD662_down8_renamed/"
   ]
  },
  {
   "cell_type": "markdown",
   "metadata": {
    "collapsed": true
   },
   "source": [
    "for fn in os.listdir('/home/yuncong/MD662_down8/'):\n",
    "    os.rename('/home/yuncong/MD662_down8/' + fn, '/home/yuncong/MD662_down8_renamed/%03d.jpg' % fn2ind[fn])"
   ]
  },
  {
   "cell_type": "markdown",
   "metadata": {},
   "source": [
    "# Make MD662 movie, down8, entire brain (prep5)"
   ]
  },
  {
   "cell_type": "code",
   "execution_count": 20,
   "metadata": {},
   "outputs": [],
   "source": [
    "fn2ind = {fn + '_prep5_down8_contrastStretched': ind for fn, ind in metadata_cache['filenames_to_sections']['MD662'].iteritems()}"
   ]
  },
  {
   "cell_type": "code",
   "execution_count": 6,
   "metadata": {
    "collapsed": true
   },
   "outputs": [],
   "source": [
    "! rm -r /home/yuncong/MD662_prep5_renamed/; mkdir /home/yuncong/MD662_prep5_renamed/"
   ]
  },
  {
   "cell_type": "code",
   "execution_count": 21,
   "metadata": {},
   "outputs": [],
   "source": [
    "for fn in os.listdir('/media/yuncong/YuncongPublic/CSHL_data_processed/MD662/MD662_prep5_down8_contrastStretched/'):\n",
    "    basefn = os.path.splitext(fn)[0]\n",
    "    os.system('cp \\\"%s\\\" \\\"%s\\\"' % \\\n",
    "              (\"/media/yuncong/YuncongPublic/CSHL_data_processed/MD662/MD662_prep5_down8_contrastStretched/%s\" % fn, \n",
    "                '/home/yuncong/MD662_prep5_renamed/%03d.jpg' % fn2ind[basefn])\n",
    "             )"
   ]
  },
  {
   "cell_type": "code",
   "execution_count": 22,
   "metadata": {},
   "outputs": [
    {
     "name": "stdout",
     "output_type": "stream",
     "text": [
      "ffmpeg version 2.8.11-0ubuntu0.16.04.1 Copyright (c) 2000-2017 the FFmpeg developers\n",
      "  built with gcc 5.4.0 (Ubuntu 5.4.0-6ubuntu1~16.04.4) 20160609\n",
      "  configuration: --prefix=/usr --extra-version=0ubuntu0.16.04.1 --build-suffix=-ffmpeg --toolchain=hardened --libdir=/usr/lib/x86_64-linux-gnu --incdir=/usr/include/x86_64-linux-gnu --cc=cc --cxx=g++ --enable-gpl --enable-shared --disable-stripping --disable-decoder=libopenjpeg --disable-decoder=libschroedinger --enable-avresample --enable-avisynth --enable-gnutls --enable-ladspa --enable-libass --enable-libbluray --enable-libbs2b --enable-libcaca --enable-libcdio --enable-libflite --enable-libfontconfig --enable-libfreetype --enable-libfribidi --enable-libgme --enable-libgsm --enable-libmodplug --enable-libmp3lame --enable-libopenjpeg --enable-libopus --enable-libpulse --enable-librtmp --enable-libschroedinger --enable-libshine --enable-libsnappy --enable-libsoxr --enable-libspeex --enable-libssh --enable-libtheora --enable-libtwolame --enable-libvorbis --enable-libvpx --enable-libwavpack --enable-libwebp --enable-libx265 --enable-libxvid --enable-libzvbi --enable-openal --enable-opengl --enable-x11grab --enable-libdc1394 --enable-libiec61883 --enable-libzmq --enable-frei0r --enable-libx264 --enable-libopencv\n",
      "  WARNING: library configuration mismatch\n",
      "  avcodec     configuration: --prefix=/usr --extra-version=0ubuntu0.16.04.1 --build-suffix=-ffmpeg --toolchain=hardened --libdir=/usr/lib/x86_64-linux-gnu --incdir=/usr/include/x86_64-linux-gnu --cc=cc --cxx=g++ --enable-gpl --enable-shared --disable-stripping --disable-decoder=libopenjpeg --disable-decoder=libschroedinger --enable-avresample --enable-avisynth --enable-gnutls --enable-ladspa --enable-libass --enable-libbluray --enable-libbs2b --enable-libcaca --enable-libcdio --enable-libflite --enable-libfontconfig --enable-libfreetype --enable-libfribidi --enable-libgme --enable-libgsm --enable-libmodplug --enable-libmp3lame --enable-libopenjpeg --enable-libopus --enable-libpulse --enable-librtmp --enable-libschroedinger --enable-libshine --enable-libsnappy --enable-libsoxr --enable-libspeex --enable-libssh --enable-libtheora --enable-libtwolame --enable-libvorbis --enable-libvpx --enable-libwavpack --enable-libwebp --enable-libx265 --enable-libxvid --enable-libzvbi --enable-openal --enable-opengl --enable-x11grab --enable-libdc1394 --enable-libiec61883 --enable-libzmq --enable-frei0r --enable-libx264 --enable-libopencv --enable-version3 --disable-doc --disable-programs --disable-avdevice --disable-avfilter --disable-avformat --disable-avresample --disable-postproc --disable-swscale --enable-libopencore_amrnb --enable-libopencore_amrwb --enable-libvo_aacenc --enable-libvo_amrwbenc\n",
      "  libavutil      54. 31.100 / 54. 31.100\n",
      "  libavcodec     56. 60.100 / 56. 60.100\n",
      "  libavformat    56. 40.101 / 56. 40.101\n",
      "  libavdevice    56.  4.100 / 56.  4.100\n",
      "  libavfilter     5. 40.101 /  5. 40.101\n",
      "  libavresample   2.  1.  0 /  2.  1.  0\n",
      "  libswscale      3.  1.101 /  3.  1.101\n",
      "  libswresample   1.  2.101 /  1.  2.101\n",
      "  libpostproc    53.  3.100 / 53.  3.100\n",
      "\u001b[0;36m[mjpeg @ 0x1e36160] \u001b[0mChangeing bps to 8\n",
      "Input #0, image2, from '/home/yuncong//MD662_prep5_renamed/*.jpg':\n",
      "  Duration: 00:00:43.80, start: 0.000000, bitrate: N/A\n",
      "    Stream #0:0: Video: mjpeg, yuvj420p(pc, bt470bg/unknown/unknown), 3188x1643 [SAR 1:1 DAR 3188:1643], 10 fps, 10 tbr, 10 tbn, 10 tbc\n",
      "\u001b[1;34m[swscaler @ 0x20fade0] \u001b[0m\u001b[0;33mdeprecated pixel format used, make sure you did set range correctly\n",
      "\u001b[0m\u001b[1;36m[libx264 @ 0x1e437a0] \u001b[0musing SAR=4095/4096\n",
      "\u001b[1;36m[libx264 @ 0x1e437a0] \u001b[0musing cpu capabilities: MMX2 SSE2Fast SSSE3 SSE4.2 AVX FMA3 AVX2 LZCNT BMI2\n",
      "\u001b[1;36m[libx264 @ 0x1e437a0] \u001b[0mprofile High, level 5.0\n",
      "\u001b[1;36m[libx264 @ 0x1e437a0] \u001b[0m264 - core 148 r2643 5c65704 - H.264/MPEG-4 AVC codec - Copyleft 2003-2015 - http://www.videolan.org/x264.html - options: cabac=1 ref=3 deblock=1:0:0 analyse=0x3:0x113 me=hex subme=7 psy=1 psy_rd=1.00:0.00 mixed_ref=1 me_range=16 chroma_me=1 trellis=1 8x8dct=1 cqm=0 deadzone=21,11 fast_pskip=1 chroma_qp_offset=-2 threads=12 lookahead_threads=2 sliced_threads=0 nr=0 decimate=1 interlaced=0 bluray_compat=0 constrained_intra=0 bframes=3 b_pyramid=2 b_adapt=1 b_bias=0 direct=1 weightb=1 open_gop=0 weightp=2 keyint=250 keyint_min=25 scenecut=40 intra_refresh=0 rc_lookahead=40 rc=crf mbtree=1 crf=23.0 qcomp=0.60 qpmin=0 qpmax=69 qpstep=4 ip_ratio=1.40 aq=1:1.00\n",
      "Output #0, mp4, to '/home/yuncong/MD662_prep5_down8_aligned.mp4':\n",
      "  Metadata:\n",
      "    encoder         : Lavf56.40.101\n",
      "    Stream #0:0: Video: h264 (libx264) ([33][0][0][0] / 0x0021), yuv420p, 2096x1080 [SAR 215190:215233 DAR 3188:1643], q=-1--1, 25 fps, 12800 tbn, 25 tbc\n",
      "    Metadata:\n",
      "      encoder         : Lavc56.60.100 libx264\n",
      "Stream mapping:\n",
      "  Stream #0:0 -> #0:0 (mjpeg (native) -> h264 (libx264))\n",
      "Press [q] to stop, [?] for help\n",
      "frame= 1094 fps= 19 q=-1.0 Lsize=   69000kB time=00:00:43.68 bitrate=12940.6kbits/s    \n",
      "video:68988kB audio:0kB subtitle:0kB other streams:0kB global headers:0kB muxing overhead: 0.016559%\n",
      "\u001b[1;36m[libx264 @ 0x1e437a0] \u001b[0mframe I:263   Avg QP:17.14  size:185512\n",
      "\u001b[1;36m[libx264 @ 0x1e437a0] \u001b[0mframe P:612   Avg QP:20.10  size: 35577\n",
      "\u001b[1;36m[libx264 @ 0x1e437a0] \u001b[0mframe B:219   Avg QP:19.45  size:   367\n",
      "\u001b[1;36m[libx264 @ 0x1e437a0] \u001b[0mconsecutive B-frames: 60.0% 40.0%  0.0%  0.0%\n",
      "\u001b[1;36m[libx264 @ 0x1e437a0] \u001b[0mmb I  I16..4: 26.4% 55.5% 18.1%\n",
      "\u001b[1;36m[libx264 @ 0x1e437a0] \u001b[0mmb P  I16..4:  6.2%  9.6%  1.1%  P16..4:  5.9%  1.5%  1.3%  0.0%  0.0%    skip:74.4%\n",
      "\u001b[1;36m[libx264 @ 0x1e437a0] \u001b[0mmb B  I16..4:  0.0%  0.0%  0.0%  B16..8:  2.9%  0.0%  0.0%  direct: 0.0%  skip:97.1%  L0: 2.4% L1:97.6% BI: 0.0%\n",
      "\u001b[1;36m[libx264 @ 0x1e437a0] \u001b[0m8x8 transform intra:55.9% inter:59.0%\n",
      "\u001b[1;36m[libx264 @ 0x1e437a0] \u001b[0mcoded y,uvDC,uvAC intra: 36.6% 58.5% 44.6% inter: 2.4% 4.9% 1.9%\n",
      "\u001b[1;36m[libx264 @ 0x1e437a0] \u001b[0mi16 v,h,dc,p: 83% 11%  4%  2%\n",
      "\u001b[1;36m[libx264 @ 0x1e437a0] \u001b[0mi8 v,h,dc,ddl,ddr,vr,hd,vl,hu: 40%  8% 29%  4%  4%  4%  4%  3%  4%\n",
      "\u001b[1;36m[libx264 @ 0x1e437a0] \u001b[0mi4 v,h,dc,ddl,ddr,vr,hd,vl,hu: 32% 13% 21%  6%  6%  5%  5%  5%  6%\n",
      "\u001b[1;36m[libx264 @ 0x1e437a0] \u001b[0mi8c dc,h,v,p: 67% 12% 16%  6%\n",
      "\u001b[1;36m[libx264 @ 0x1e437a0] \u001b[0mWeighted P-Frames: Y:8.0% UV:8.0%\n",
      "\u001b[1;36m[libx264 @ 0x1e437a0] \u001b[0mref P L0: 66.7%  8.1%  9.4% 11.3%  4.6%\n",
      "\u001b[1;36m[libx264 @ 0x1e437a0] \u001b[0mref B L0: 75.9% 24.1%\n",
      "\u001b[1;36m[libx264 @ 0x1e437a0] \u001b[0mkb/s:12914.68\n"
     ]
    }
   ],
   "source": [
    "! ffmpeg -framerate 10 -pattern_type glob -i \"/home/yuncong//MD662_prep5_renamed/*.jpg\" -vf \"scale=-1:1080,fps=25,format=yuv420p\" ~/MD662_prep5_down8_aligned.mp4"
   ]
  }
 ],
 "metadata": {
  "kernelspec": {
   "display_name": "Python 2",
   "language": "python",
   "name": "python2"
  },
  "language_info": {
   "codemirror_mode": {
    "name": "ipython",
    "version": 2
   },
   "file_extension": ".py",
   "mimetype": "text/x-python",
   "name": "python",
   "nbconvert_exporter": "python",
   "pygments_lexer": "ipython2",
   "version": "2.7.12"
  }
 },
 "nbformat": 4,
 "nbformat_minor": 2
}
