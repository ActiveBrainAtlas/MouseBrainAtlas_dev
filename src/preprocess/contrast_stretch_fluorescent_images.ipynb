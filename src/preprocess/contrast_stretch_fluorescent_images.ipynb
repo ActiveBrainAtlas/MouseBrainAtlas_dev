{
 "cells": [
  {
   "cell_type": "code",
   "execution_count": 1,
   "metadata": {},
   "outputs": [
    {
     "data": {
      "text/plain": [
       "'\\nThis the notebook version of the script with the same name.\\nImplemented linear map from 0 to a user-given `clipmax`.\\n\\nThe purpose is to generate RGB images, in raw resolution for annotating markers in the GUI \\nor as thumbnails for quick browsing. \\n\\nThe intensity stretching does not aim to optimize classification (so linear is fine).\\n'"
      ]
     },
     "execution_count": 1,
     "metadata": {},
     "output_type": "execute_result"
    }
   ],
   "source": [
    "\"\"\"\n",
    "This the notebook version of the script with the same name.\n",
    "Implemented linear map from 0 to a user-given `clipmax`.\n",
    "\n",
    "The purpose is to generate RGB images, in raw resolution for annotating markers in the GUI \n",
    "or as thumbnails for quick browsing. \n",
    "\n",
    "The intensity stretching does not aim to optimize classification (so linear is fine).\n",
    "\"\"\""
   ]
  },
  {
   "cell_type": "code",
   "execution_count": 2,
   "metadata": {
    "scrolled": true
   },
   "outputs": [
    {
     "name": "stderr",
     "output_type": "stream",
     "text": [
      "/shared/MouseBrainAtlas/utilities/utilities2015.py:2: UserWarning: \n",
      "This call to matplotlib.use() has no effect because the backend has already\n",
      "been chosen; matplotlib.use() must be called *before* pylab, matplotlib.pyplot,\n",
      "or matplotlib.backends is imported for the first time.\n",
      "\n",
      "The backend was *originally* set to 'module://ipykernel.pylab.backend_inline' by the following code:\n",
      "  File \"/usr/lib/python2.7/runpy.py\", line 174, in _run_module_as_main\n",
      "    \"__main__\", fname, loader, pkg_name)\n",
      "  File \"/usr/lib/python2.7/runpy.py\", line 72, in _run_code\n",
      "    exec code in run_globals\n",
      "  File \"/usr/local/lib/python2.7/dist-packages/ipykernel_launcher.py\", line 16, in <module>\n",
      "    app.launch_new_instance()\n",
      "  File \"/usr/local/lib/python2.7/dist-packages/traitlets/config/application.py\", line 658, in launch_instance\n",
      "    app.start()\n",
      "  File \"/usr/local/lib/python2.7/dist-packages/ipykernel/kernelapp.py\", line 478, in start\n",
      "    self.io_loop.start()\n",
      "  File \"/usr/local/lib/python2.7/dist-packages/zmq/eventloop/ioloop.py\", line 177, in start\n",
      "    super(ZMQIOLoop, self).start()\n",
      "  File \"/usr/local/lib/python2.7/dist-packages/tornado/ioloop.py\", line 888, in start\n",
      "    handler_func(fd_obj, events)\n",
      "  File \"/usr/local/lib/python2.7/dist-packages/tornado/stack_context.py\", line 277, in null_wrapper\n",
      "    return fn(*args, **kwargs)\n",
      "  File \"/usr/local/lib/python2.7/dist-packages/zmq/eventloop/zmqstream.py\", line 440, in _handle_events\n",
      "    self._handle_recv()\n",
      "  File \"/usr/local/lib/python2.7/dist-packages/zmq/eventloop/zmqstream.py\", line 472, in _handle_recv\n",
      "    self._run_callback(callback, msg)\n",
      "  File \"/usr/local/lib/python2.7/dist-packages/zmq/eventloop/zmqstream.py\", line 414, in _run_callback\n",
      "    callback(*args, **kwargs)\n",
      "  File \"/usr/local/lib/python2.7/dist-packages/tornado/stack_context.py\", line 277, in null_wrapper\n",
      "    return fn(*args, **kwargs)\n",
      "  File \"/usr/local/lib/python2.7/dist-packages/ipykernel/kernelbase.py\", line 281, in dispatcher\n",
      "    return self.dispatch_shell(stream, msg)\n",
      "  File \"/usr/local/lib/python2.7/dist-packages/ipykernel/kernelbase.py\", line 232, in dispatch_shell\n",
      "    handler(stream, idents, msg)\n",
      "  File \"/usr/local/lib/python2.7/dist-packages/ipykernel/kernelbase.py\", line 397, in execute_request\n",
      "    user_expressions, allow_stdin)\n",
      "  File \"/usr/local/lib/python2.7/dist-packages/ipykernel/ipkernel.py\", line 208, in do_execute\n",
      "    res = shell.run_cell(code, store_history=store_history, silent=silent)\n",
      "  File \"/usr/local/lib/python2.7/dist-packages/ipykernel/zmqshell.py\", line 533, in run_cell\n",
      "    return super(ZMQInteractiveShell, self).run_cell(*args, **kwargs)\n",
      "  File \"/usr/local/lib/python2.7/dist-packages/IPython/core/interactiveshell.py\", line 2718, in run_cell\n",
      "    interactivity=interactivity, compiler=compiler, result=result)\n",
      "  File \"/usr/local/lib/python2.7/dist-packages/IPython/core/interactiveshell.py\", line 2822, in run_ast_nodes\n",
      "    if self.run_code(code, result):\n",
      "  File \"/usr/local/lib/python2.7/dist-packages/IPython/core/interactiveshell.py\", line 2882, in run_code\n",
      "    exec(code_obj, self.user_global_ns, self.user_ns)\n",
      "  File \"<ipython-input-2-1d4e5f3ae748>\", line 6, in <module>\n",
      "    get_ipython().magic(u'matplotlib inline')\n",
      "  File \"/usr/local/lib/python2.7/dist-packages/IPython/core/interactiveshell.py\", line 2160, in magic\n",
      "    return self.run_line_magic(magic_name, magic_arg_s)\n",
      "  File \"/usr/local/lib/python2.7/dist-packages/IPython/core/interactiveshell.py\", line 2081, in run_line_magic\n",
      "    result = fn(*args,**kwargs)\n",
      "  File \"<decorator-gen-105>\", line 2, in matplotlib\n",
      "  File \"/usr/local/lib/python2.7/dist-packages/IPython/core/magic.py\", line 188, in <lambda>\n",
      "    call = lambda f, *a, **k: f(*a, **k)\n",
      "  File \"/usr/local/lib/python2.7/dist-packages/IPython/core/magics/pylab.py\", line 100, in matplotlib\n",
      "    gui, backend = self.shell.enable_matplotlib(args.gui)\n",
      "  File \"/usr/local/lib/python2.7/dist-packages/IPython/core/interactiveshell.py\", line 2950, in enable_matplotlib\n",
      "    pt.activate_matplotlib(backend)\n",
      "  File \"/usr/local/lib/python2.7/dist-packages/IPython/core/pylabtools.py\", line 309, in activate_matplotlib\n",
      "    matplotlib.pyplot.switch_backend(backend)\n",
      "  File \"/usr/local/lib/python2.7/dist-packages/matplotlib/pyplot.py\", line 232, in switch_backend\n",
      "    matplotlib.use(newbackend, warn=False, force=True)\n",
      "  File \"/usr/local/lib/python2.7/dist-packages/matplotlib/__init__.py\", line 1305, in use\n",
      "    reload(sys.modules['matplotlib.backends'])\n",
      "  File \"/usr/local/lib/python2.7/dist-packages/matplotlib/backends/__init__.py\", line 14, in <module>\n",
      "    line for line in traceback.format_stack()\n",
      "\n",
      "\n",
      "  matplotlib.use('Agg')\n",
      "No vtk\n",
      "No vtkNot using image_cache.\n",
      "Not using image_cache.\n",
      "Not using image_cache.\n"
     ]
    },
    {
     "name": "stdout",
     "output_type": "stream",
     "text": [
      "Setting environment for AWS compute node\n"
     ]
    },
    {
     "name": "stderr",
     "output_type": "stream",
     "text": [
      "Not using image_cache.\n",
      "Not using image_cache.\n",
      "Not using image_cache.\n",
      "Not using image_cache.\n",
      "Not using image_cache.\n",
      "Not using image_cache.\n",
      "Not using image_cache.\n",
      "Not using image_cache.\n",
      "Not using image_cache.\n",
      "Not using image_cache.\n",
      "Not using image_cache.\n",
      "Not using image_cache.\n",
      "Not using image_cache.\n",
      "Not using image_cache.\n",
      "Not using image_cache.\n",
      "Not using image_cache.\n",
      "Not using image_cache.\n",
      "Not using image_cache.\n"
     ]
    }
   ],
   "source": [
    "import os, sys\n",
    "\n",
    "from skimage.io import imread\n",
    "import numpy as np\n",
    "import matplotlib.pyplot as plt\n",
    "%matplotlib inline\n",
    "from pandas import DataFrame\n",
    "\n",
    "sys.path.append(os.path.join(os.environ['REPO_DIR'], 'utilities'))\n",
    "from utilities2015 import *\n",
    "from data_manager import *\n",
    "from metadata import *"
   ]
  },
  {
   "cell_type": "code",
   "execution_count": 2,
   "metadata": {
    "collapsed": true
   },
   "outputs": [],
   "source": [
    "from skimage.filters import median, gaussian, threshold_otsu\n",
    "from skimage.morphology import disk, remove_small_objects, binary_closing\n",
    "from skimage.measure import label, regionprops\n",
    "from skimage.exposure import rescale_intensity"
   ]
  },
  {
   "cell_type": "code",
   "execution_count": 3,
   "metadata": {
    "collapsed": true
   },
   "outputs": [],
   "source": [
    "examples = {\n",
    "'MD658': [\n",
    "( 'MD658-F43-2017.04.05-02.10.06_MD658_1_0127', 10228, 9988, 3560, 2168),\n",
    "( 'MD658-F38-2017.04.05-00.43.15_MD658_1_0112', 7200 ,6464, 6176, 5120),\n",
    "( 'MD658-F33-2017.04.04-23.12.27_MD658_1_0097', 6912 ,7392, 4320, 3328),\n",
    "( 'MD658-F60-2017.04.05-06.47.55_MD658_2_0179', 7360 ,6368, 2240 ,2272),\n",
    "( 'MD658-F61-2017.04.05-07.03.26_MD658_2_0182', 10528, 9536, 2688, 2240)],\n",
    "'MD657': [\n",
    "('MD657-F28-2017.02.18-00.45.02_MD657_1_0082', 6624,7264,5536,3008),\n",
    "( 'MD657-F40-2017.02.18-04.41.42_MD657_2_0119', 7488,8320,4736,4000),\n",
    "( 'MD657-F34-2017.02.18-02.34.03_MD657_1_0100', 7648,6336,1792,2016),\n",
    "( 'MD657-F34-2017.02.18-02.34.03_MD657_2_0101', 10848,6848,4160,1760),\n",
    "('MD657-F40-2017.02.18-04.41.42_MD657_1_0118', 297*32,301*32,85*32,70*32)],\n",
    "'MD662': [\n",
    "('MD662&661-F60-2017.06.06-03.35.37_MD662_1_0178', 220*32,199*32,176*32,182*32)],\n",
    "'MD661':\n",
    "[\n",
    "    ('MD662&661-F51-2017.06.06-01.06.07_MD661_3_0153', 199*32, 253*32, 120*32, 131*32)]\n",
    "    \n",
    "}"
   ]
  },
  {
   "cell_type": "code",
   "execution_count": 18,
   "metadata": {
    "collapsed": true
   },
   "outputs": [],
   "source": [
    "# stack = 'MD662'\n",
    "# label_channel = 1\n",
    "# label_clipmax = 1000\n",
    "\n",
    "stack = 'MD661'\n",
    "label_channel = 1\n",
    "label_clipmax = 400\n",
    "\n",
    "# stack = 'MD657'\n",
    "# label_channel = 1\n",
    "# stack = 'MD658'\n",
    "# label_channel = 0"
   ]
  },
  {
   "cell_type": "code",
   "execution_count": 19,
   "metadata": {},
   "outputs": [
    {
     "name": "stdout",
     "output_type": "stream",
     "text": [
      "6368 10207 8096 12287 3840 4192\n"
     ]
    }
   ],
   "source": [
    "_, xmin, ymin, w, h = examples[stack][0]\n",
    "xmax = xmin + w - 1\n",
    "ymax = ymin + h - 1\n",
    "print xmin, xmax, ymin, ymax, w, h"
   ]
  },
  {
   "cell_type": "code",
   "execution_count": null,
   "metadata": {
    "collapsed": true,
    "scrolled": true
   },
   "outputs": [],
   "source": [
    "for fn in metadata_cache['valid_filenames']['MD661'][60:80]:\n",
    "\n",
    "    print fn\n",
    "    \n",
    "    img = DataManager.load_image_v2(stack=stack, prep_id=2, resol='lossless', fn=fn)\n",
    "    img_cropped = img[:, :, label_channel][ymin:ymax+1, xmin:xmax+1]\n",
    "    img_cropped_contrast_stretched = img_as_ubyte(rescale_intensity(img_cropped, in_range=(0, 1000)))\n",
    "    \n",
    "    img_blue_normalized = DataManager.load_image_v2(stack=stack, prep_id=2, resol='lossless', fn=fn, version='gray')\n",
    "    img_blue_normalized_cropped = img_blue_normalized[ymin:ymax+1, xmin:xmax+1]\n",
    "    \n",
    "    contrast_stretched_img = np.zeros(img_cropped.shape + (3,), np.uint8)\n",
    "    contrast_stretched_img[..., 1] = img_cropped_contrast_stretched\n",
    "    contrast_stretched_img[..., 2] = rescale_intensity(-img_blue_normalized_cropped)\n",
    "    \n",
    "    plt.figure(figsize=(20, 20));\n",
    "    plt.imshow(contrast_stretched_img);\n",
    "    plt.show();"
   ]
  },
  {
   "cell_type": "code",
   "execution_count": 6,
   "metadata": {
    "collapsed": true
   },
   "outputs": [],
   "source": [
    "# fn = 'MD657-F40-2017.02.18-04.41.42_MD657_1_0118'\n",
    "# fn = 'MD662&661-F60-2017.06.06-03.35.37_MD662_1_0178'\n",
    "fn = 'MD662&661-F51-2017.06.06-01.06.07_MD661_2_0152'\n",
    "# fn = examples[stack][0][0]"
   ]
  },
  {
   "cell_type": "code",
   "execution_count": 7,
   "metadata": {},
   "outputs": [
    {
     "name": "stderr",
     "output_type": "stream",
     "text": [
      "/usr/local/lib/python2.7/dist-packages/skimage/external/tifffile/tifffile.py:2611: RuntimeWarning: py_decodelzw encountered unexpected end of stream\n",
      "  strip = decompress(strip)\n",
      "/usr/local/lib/python2.7/dist-packages/skimage/external/tifffile/tifffile.py:2546: UserWarning: unpack: string size must be a multiple of element size\n",
      "  warnings.warn(\"unpack: %s\" % e)\n"
     ]
    }
   ],
   "source": [
    "img = DataManager.load_image_v2(stack=stack, prep_id=2, resol='lossless', fn=fn)\n",
    "img_cropped = img[:, :, label_channel][ymin:ymax+1, xmin:xmax+1]"
   ]
  },
  {
   "cell_type": "code",
   "execution_count": 8,
   "metadata": {
    "collapsed": true
   },
   "outputs": [],
   "source": [
    "# plt.figure();\n",
    "# plt.hist(img_cropped.flatten(), bins=256, log=True);\n",
    "# plt.show();"
   ]
  },
  {
   "cell_type": "code",
   "execution_count": 14,
   "metadata": {
    "collapsed": true
   },
   "outputs": [],
   "source": [
    "img_cropped_contrast_stretched = img_as_ubyte(rescale_intensity(img_cropped, in_range=(0, label_clipmax)))"
   ]
  },
  {
   "cell_type": "code",
   "execution_count": 10,
   "metadata": {},
   "outputs": [
    {
     "data": {
      "text/html": [
       "<a href='tmp.jpg' target='_blank'>tmp.jpg</a><br>"
      ],
      "text/plain": [
       "/shared/MouseBrainAtlas/preprocess/tmp.jpg"
      ]
     },
     "execution_count": 10,
     "metadata": {},
     "output_type": "execute_result"
    }
   ],
   "source": [
    "display_image(img_cropped_contrast_stretched)"
   ]
  },
  {
   "cell_type": "code",
   "execution_count": 11,
   "metadata": {
    "collapsed": true
   },
   "outputs": [],
   "source": [
    "img_blue_normalized = DataManager.load_image_v2(stack=stack, prep_id=2, resol='lossless', fn=fn, version='gray')\n",
    "img_blue_normalized_cropped = img_blue_normalized[ymin:ymax+1, xmin:xmax+1]"
   ]
  },
  {
   "cell_type": "code",
   "execution_count": 59,
   "metadata": {},
   "outputs": [
    {
     "data": {
      "text/html": [
       "<a href='tmp.jpg' target='_blank'>tmp.jpg</a><br>"
      ],
      "text/plain": [
       "/shared/MouseBrainAtlas/preprocess/tmp.jpg"
      ]
     },
     "execution_count": 59,
     "metadata": {},
     "output_type": "execute_result"
    }
   ],
   "source": [
    "display_image(img_blue_normalized_cropped)"
   ]
  },
  {
   "cell_type": "code",
   "execution_count": 15,
   "metadata": {
    "collapsed": true
   },
   "outputs": [],
   "source": [
    "contrast_stretched_img = np.zeros(img_cropped.shape + (3,), np.uint8)\n",
    "contrast_stretched_img[..., 1] = img_cropped_contrast_stretched\n",
    "contrast_stretched_img[..., 2] = rescale_intensity(-img_blue_normalized_cropped)"
   ]
  },
  {
   "cell_type": "code",
   "execution_count": 16,
   "metadata": {},
   "outputs": [
    {
     "data": {
      "text/html": [
       "<a href='tmp.jpg' target='_blank'>tmp.jpg</a><br>"
      ],
      "text/plain": [
       "/shared/MouseBrainAtlas/preprocess/tmp.jpg"
      ]
     },
     "execution_count": 16,
     "metadata": {},
     "output_type": "execute_result"
    }
   ],
   "source": [
    "display_image(contrast_stretched_img)"
   ]
  },
  {
   "cell_type": "code",
   "execution_count": 92,
   "metadata": {},
   "outputs": [
    {
     "data": {
      "image/png": "[encoded data removed]",
      "text/plain": [
       "<matplotlib.figure.Figure at 0x7fa92ddf3e10>"
      ]
     },
     "metadata": {},
     "output_type": "display_data"
    },
    {
     "data": {
      "image/png": "[encoded data removed]",
      "text/plain": [
       "<matplotlib.figure.Figure at 0x7fa92e1e7e10>"
      ]
     },
     "metadata": {},
     "output_type": "display_data"
    }
   ],
   "source": [
    "plt.figure();\n",
    "plt.hist(contrast_stretched_img[..., 1].flatten(), bins=256, log=True);\n",
    "plt.show();\n",
    "\n",
    "plt.figure();\n",
    "plt.hist(contrast_stretched_img[..., 2].flatten(), bins=256, log=True);\n",
    "plt.show();"
   ]
  },
  {
   "cell_type": "code",
   "execution_count": 128,
   "metadata": {},
   "outputs": [
    {
     "data": {
      "text/plain": [
       "'/shared/CSHL_data_processed/MD662/MD662_prep2_lossless_contrastStretched/MD662&661-F60-2017.06.06-03.35.37_MD662_1_0178_prep2_lossless_contrastStretched.jpg'"
      ]
     },
     "execution_count": 128,
     "metadata": {},
     "output_type": "execute_result"
    }
   ],
   "source": [
    "output_fp = DataManager.get_image_filepath_v2(stack=stack, prep_id=2, \n",
    "                                              resol='lossless', fn=fn, version='contrastStretched', \n",
    "                                              ext='jpg')"
   ]
  }
 ],
 "metadata": {
  "kernelspec": {
   "display_name": "Python 2",
   "language": "python",
   "name": "python2"
  },
  "language_info": {
   "codemirror_mode": {
    "name": "ipython",
    "version": 2
   },
   "file_extension": ".py",
   "mimetype": "text/x-python",
   "name": "python",
   "nbconvert_exporter": "python",
   "pygments_lexer": "ipython2",
   "version": "2.7.12"
  }
 },
 "nbformat": 4,
 "nbformat_minor": 2
}
