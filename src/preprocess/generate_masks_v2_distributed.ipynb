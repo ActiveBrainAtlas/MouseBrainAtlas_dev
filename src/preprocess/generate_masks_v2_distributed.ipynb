{
 "cells": [
  {
   "cell_type": "code",
   "execution_count": 1,
   "metadata": {
    "collapsed": false
   },
   "outputs": [
    {
     "name": "stdout",
     "output_type": "stream",
     "text": [
      "Setting environment for Gordon\n"
     ]
    },
    {
     "name": "stderr",
     "output_type": "stream",
     "text": [
      "No vtk\n"
     ]
    }
   ],
   "source": [
    "%load_ext autoreload\n",
    "%autoreload 2\n",
    "\n",
    "import os\n",
    "import sys\n",
    "\n",
    "sys.path.append(os.path.join(os.environ['REPO_DIR'], 'utilities'))\n",
    "from utilities2015 import *\n",
    "from metadata import *\n",
    "from data_manager import *\n",
    "\n",
    "import time\n",
    "\n",
    "from distributed_utilities import *"
   ]
  },
  {
   "cell_type": "code",
   "execution_count": 15,
   "metadata": {
    "collapsed": true
   },
   "outputs": [],
   "source": [
    "stack = 'MD642'"
   ]
  },
  {
   "cell_type": "code",
   "execution_count": 25,
   "metadata": {
    "collapsed": false
   },
   "outputs": [],
   "source": [
    "border_dissim_percentile = 30\n",
    "min_size = 100\n",
    "filenames = [fn for fn in metadata_cache['sections_to_filenames'][stack].values() if not is_invalid(fn)]"
   ]
  },
  {
   "cell_type": "code",
   "execution_count": 26,
   "metadata": {
    "collapsed": false
   },
   "outputs": [],
   "source": [
    "exclude_nodes = [33]"
   ]
  },
  {
   "cell_type": "code",
   "execution_count": null,
   "metadata": {
    "collapsed": false,
    "scrolled": true
   },
   "outputs": [],
   "source": [
    "t = time.time()\n",
    "print 'Generating thumbnail mask...',\n",
    "\n",
    "input_dir = os.path.join(RAW_DATA_DIR, stack)\n",
    "output_dir = create_if_not_exists(os.path.join(DATA_DIR, stack, stack + '_submasks'))\n",
    "\n",
    "script_name = 'generate_thumbnail_masks_v4.py'\n",
    "# !! For some reason (perhaps too much simultaneous write to disk), the distributed computation cannot finish, usually stuck with only a few sections left.\n",
    "\n",
    "run_distributed4(command='%(script_path)s %(stack)s %(input_dir)s \\'%%(filenames)s\\' %(output_dir)s --border_dissim_percentile %(border_dissim_percentile)d --min_size %(min_size)d' % \\\n",
    "                {'script_path': os.path.join(os.environ['REPO_DIR'], 'preprocess', script_name),\n",
    "                'stack': stack,\n",
    "                'input_dir': input_dir,\n",
    "                'output_dir': output_dir,\n",
    "                'border_dissim_percentile': border_dissim_percentile,\n",
    "                'min_size': min_size},\n",
    "                kwargs_list=dict(filenames=filenames),\n",
    "                exclude_nodes=exclude_nodes,\n",
    "                argument_type='list2')\n",
    "\n",
    "print 'done in', time.time() - t, 'seconds' # 500s"
   ]
  },
  {
   "cell_type": "code",
   "execution_count": null,
   "metadata": {
    "collapsed": true
   },
   "outputs": [],
   "source": [
    "# ... Review in local machine using GUI..."
   ]
  },
  {
   "cell_type": "code",
   "execution_count": 27,
   "metadata": {
    "collapsed": false
   },
   "outputs": [],
   "source": [
    "xmin, xmax, ymin, ymax = metadata_cache['cropbox'][stack]\n",
    "anchor_fn = metadata_cache['anchor_fn'][stack]"
   ]
  },
  {
   "cell_type": "code",
   "execution_count": 28,
   "metadata": {
    "collapsed": false
   },
   "outputs": [
    {
     "name": "stdout",
     "output_type": "stream",
     "text": [
      "warping thumbnail mask... rm -rf /oasis/projects/nsf/csd395/yuncong/CSHL_data_processed/MD642/MD642_masks_alignedTo_MD642-F53-2017.01.14-12.23.43_MD642_1_0157\n",
      "['gcn-20-33.sdsc.edu'] are excluded\n"
     ]
    },
    {
     "name": "stderr",
     "output_type": "stream",
     "text": [
      "Child returned 0\n"
     ]
    },
    {
     "name": "stdout",
     "output_type": "stream",
     "text": [
      "Using nodes: ['gcn-20-31.sdsc.edu', 'gcn-20-32.sdsc.edu', 'gcn-20-34.sdsc.edu', 'gcn-20-35.sdsc.edu', 'gcn-20-36.sdsc.edu', 'gcn-20-37.sdsc.edu', 'gcn-20-38.sdsc.edu', 'gcn-20-41.sdsc.edu', 'gcn-20-42.sdsc.edu', 'gcn-20-43.sdsc.edu', 'gcn-20-44.sdsc.edu', 'gcn-20-45.sdsc.edu', 'gcn-20-46.sdsc.edu', 'gcn-20-47.sdsc.edu', 'gcn-20-48.sdsc.edu']\n",
      "done in 366.522112846 seconds\n"
     ]
    }
   ],
   "source": [
    "t = time.time()\n",
    "print 'warping thumbnail mask...',\n",
    "\n",
    "elastix_output_dir = os.path.join(DATA_DIR, stack, stack+'_elastix_output')\n",
    "transforms_filename = os.path.join(elastix_output_dir, '%(stack)s_transformsTo_%(anchor_fn)s.pkl' % \\\n",
    "                                                        dict(stack=stack, anchor_fn=anchor_fn))\n",
    "transforms_to_anchor = pickle.load(open(transforms_filename, 'r'))\n",
    "\n",
    "execute_command('rm -rf %(aligned_dir)s' % dict(aligned_dir=os.path.join(DATA_DIR, stack, stack + '_masks_alignedTo_' + anchor_fn)))\n",
    "\n",
    "run_distributed4('%(script_path)s %(stack)s %(input_dir)s %(aligned_dir)s %%(transform)s %%(filename)s %%(output_fn)s thumbnail 0 0 2000 1500 black' % \\\n",
    "                {'script_path': os.path.join(os.environ['REPO_DIR'], 'preprocess', 'warp_crop_IM_v2.py'),\n",
    "                'stack': stack,\n",
    "                'input_dir': os.path.join(DATA_DIR, stack, stack + '_masks'),\n",
    "                'aligned_dir': os.path.join(DATA_DIR, stack, stack + '_masks_alignedTo_' + anchor_fn)},\n",
    "                kwargs_list=[{'transform': ','.join(map(str, transforms_to_anchor[fn].flatten())),\n",
    "                            'filename': fn + '_mask.png',\n",
    "                            'output_fn': fn + '_mask_alignedTo_' + anchor_fn + '.png'}\n",
    "                            for fn in filenames],\n",
    "                exclude_nodes=exclude_nodes,\n",
    "                argument_type='single')\n",
    "\n",
    "print 'done in', time.time() - t, 'seconds' # 350s"
   ]
  },
  {
   "cell_type": "code",
   "execution_count": 29,
   "metadata": {
    "collapsed": false
   },
   "outputs": [
    {
     "name": "stdout",
     "output_type": "stream",
     "text": [
      "rm -rf /oasis/projects/nsf/csd395/yuncong/CSHL_data_processed/MD642/MD642_masks_alignedTo_MD642-F53-2017.01.14-12.23.43_MD642_1_0157_cropped\n"
     ]
    },
    {
     "name": "stderr",
     "output_type": "stream",
     "text": [
      "cropping thumbnail mask...Child returned 0\n",
      "done in 61.756742 seconds\n"
     ]
    }
   ],
   "source": [
    "t = time.time()\n",
    "sys.stderr.write('cropping thumbnail mask...')\n",
    "\n",
    "aligned_cropped_dir = '%(stack_data_dir)s/%(stack)s_masks_alignedTo_%(anchor_fn)s_cropped' % \\\n",
    "                        {'stack': stack,\n",
    "                        'stack_data_dir': os.path.join(DATA_DIR, stack),\n",
    "                        'anchor_fn': anchor_fn}\n",
    "\n",
    "execute_command('rm -rf %(aligned_cropped_dir)s' % dict(aligned_cropped_dir=aligned_cropped_dir))\n",
    "\n",
    "os.system(('mkdir %(aligned_cropped_dir)s ; '\n",
    "            'mogrify -set filename:name %%t -crop %(w)dx%(h)d+%(x)d+%(y)d -write \"%(aligned_cropped_dir)s/%%[filename:name]_cropped.png\" %(stack_data_dir)s/%(stack)s_masks_alignedTo_%(anchor_fn)s/*.png') % \\\n",
    "    {'stack': stack,\n",
    "    'stack_data_dir': os.path.join(DATA_DIR, stack),\n",
    "    'aligned_cropped_dir': aligned_cropped_dir,\n",
    "    'w':xmax+1-xmin, 'h':ymax+1-ymin, 'x':xmin, 'y':ymin,\n",
    "    'anchor_fn': anchor_fn})\n",
    "\n",
    "sys.stderr.write('done in %f seconds\\n' % (time.time() - t)) # 70s"
   ]
  },
  {
   "cell_type": "code",
   "execution_count": null,
   "metadata": {
    "collapsed": true
   },
   "outputs": [],
   "source": []
  }
 ],
 "metadata": {
  "kernelspec": {
   "display_name": "Python 2",
   "language": "python",
   "name": "python2"
  },
  "language_info": {
   "codemirror_mode": {
    "name": "ipython",
    "version": 2
   },
   "file_extension": ".py",
   "mimetype": "text/x-python",
   "name": "python",
   "nbconvert_exporter": "python",
   "pygments_lexer": "ipython2",
   "version": "2.7.3"
  }
 },
 "nbformat": 4,
 "nbformat_minor": 1
}
