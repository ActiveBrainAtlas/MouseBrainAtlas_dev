{
 "cells": [
  {
   "cell_type": "code",
   "execution_count": 1,
   "metadata": {
    "collapsed": true
   },
   "outputs": [],
   "source": [
    "import numpy as np\n",
    "\n",
    "import sys\n",
    "import os\n",
    "\n",
    "sys.path.append(os.environ['REPO_DIR'] + '/utilities')\n",
    "from utilities2015 import *\n",
    "\n",
    "import matplotlib.pyplot as plt\n",
    "%matplotlib inline"
   ]
  },
  {
   "cell_type": "code",
   "execution_count": 2,
   "metadata": {
    "collapsed": true
   },
   "outputs": [],
   "source": [
    "stack = 'MD585'\n",
    "section_roi_begin, section_roi_end = detect_bbox_range_lookup[stack]"
   ]
  },
  {
   "cell_type": "code",
   "execution_count": 3,
   "metadata": {
    "collapsed": true
   },
   "outputs": [],
   "source": [
    "# labels = ['BackG', '5N', '7n', '7N', '12N', 'Gr', 'LVe', 'Pn', 'SuVe', 'VLL']\n",
    "\n",
    "labels = ['BackG', '5N', '7n', '7N', '12N', 'Gr', 'LVe', 'Pn', 'SuVe', 'VLL', \n",
    "                     '6N', 'Amb', 'R', 'Tz', 'Sol', 'RtTg', 'LRt', 'LC', 'AP', 'sp5']\n",
    "\n",
    "label_dict = dict([(l,i) for i, l in enumerate(labels)])"
   ]
  },
  {
   "cell_type": "code",
   "execution_count": 4,
   "metadata": {
    "collapsed": true
   },
   "outputs": [],
   "source": [
    "scoremaps_rootdir = '/oasis/projects/nsf/csd395/yuncong/CSHL_scoremaps_lossless'"
   ]
  },
  {
   "cell_type": "code",
   "execution_count": 5,
   "metadata": {
    "collapsed": true
   },
   "outputs": [],
   "source": [
    "downsample_factor = 8"
   ]
  },
  {
   "cell_type": "code",
   "execution_count": 8,
   "metadata": {
    "collapsed": false,
    "scrolled": true
   },
   "outputs": [
    {
     "name": "stdout",
     "output_type": "stream",
     "text": [
      "132\n",
      "132 5N 21783\n",
      "132 7n 51481\n",
      "132 7N 95324\n",
      "132 12N 2844\n",
      "132 Gr 4779\n",
      "132 LVe 85149\n",
      "132 Pn 12547\n",
      "132 SuVe 13279\n",
      "132 VLL 67021\n",
      "132 6N 24426\n",
      "132 Amb 21184\n",
      "132 R 7954\n",
      "132 Tz 20776\n",
      "132 LRt 25262\n",
      "132 LC 7804\n",
      "132 AP 12923\n",
      "132 sp5 157104\n",
      "133\n",
      "133 5N 101803\n",
      "133 7n 3846\n",
      "133"
     ]
    },
    {
     "name": "stderr",
     "output_type": "stream",
     "text": [
      "No scoremap for Sol section 132\n",
      "No scoremap for RtTg section 132\n",
      "No scoremap for 12N section 133\n"
     ]
    },
    {
     "name": "stdout",
     "output_type": "stream",
     "text": [
      " 7N 283366\n",
      "133 Gr 9565\n",
      "133 LVe 1951\n",
      "133 Pn 8647\n",
      "133 SuVe 15429\n",
      "133 VLL 138891\n",
      "133 Amb 4395\n",
      "133"
     ]
    },
    {
     "name": "stderr",
     "output_type": "stream",
     "text": [
      "No scoremap for 6N section 133\n",
      "No scoremap for Tz section 133\n"
     ]
    },
    {
     "name": "stdout",
     "output_type": "stream",
     "text": [
      " R 2063\n",
      "133 Sol 2334\n",
      "133 LRt 17724\n",
      "133 LC 15140\n",
      "133 AP 29192\n",
      "133 sp5 12930\n",
      "134\n",
      "134 5N 38288\n",
      "134 7n 23471\n",
      "134"
     ]
    },
    {
     "name": "stderr",
     "output_type": "stream",
     "text": [
      "No scoremap for RtTg section 133\n",
      "No scoremap for 12N section 134\n"
     ]
    },
    {
     "name": "stdout",
     "output_type": "stream",
     "text": [
      " 7N 126692\n",
      "134 Gr 11225\n",
      "134 LVe 30693\n",
      "134 Pn 70966\n",
      "134 SuVe 37888\n",
      "134 VLL 115498\n",
      "134 6N 32904\n",
      "134 Amb 65393\n",
      "134 R 5687\n",
      "134 Tz 12460\n",
      "134 LRt 15554\n",
      "134 LC 51029\n",
      "134 AP 100907\n",
      "134 sp5 172576\n",
      "135\n",
      "135 5N 70107\n",
      "135 7n 19053\n",
      "135"
     ]
    },
    {
     "name": "stderr",
     "output_type": "stream",
     "text": [
      "No scoremap for Sol section 134\n",
      "No scoremap for RtTg section 134\n",
      "No scoremap for 12N section 135\n"
     ]
    },
    {
     "name": "stdout",
     "output_type": "stream",
     "text": [
      " 7N 199603\n",
      "135 Gr 6920\n",
      "135 LVe 4763\n",
      "135 Pn 18697\n",
      "135 SuVe 53848\n",
      "135 VLL 208354\n",
      "135 6N 8349\n",
      "135 Amb 32679\n",
      "135 R 5140\n",
      "135 Tz 1452\n",
      "135 LRt 8816\n",
      "135 LC 38225\n",
      "135 AP 76163\n",
      "135 sp5 99137\n",
      "136\n",
      "136 5N 38584\n",
      "136 7n 24165\n",
      "136"
     ]
    },
    {
     "name": "stderr",
     "output_type": "stream",
     "text": [
      "No scoremap for Sol section 135\n",
      "No scoremap for RtTg section 135\n",
      "No scoremap for 12N section 136\n"
     ]
    },
    {
     "name": "stdout",
     "output_type": "stream",
     "text": [
      " 7N 121523\n",
      "136 Gr 5688\n",
      "136 LVe 28102\n",
      "136 Pn 36292\n",
      "136 SuVe 17646\n",
      "136 VLL 128620\n",
      "136 6N 18180\n",
      "136 Amb 29682\n",
      "136 R 5450\n",
      "136 Tz 6690\n",
      "136 LRt 14792\n",
      "136 LC 28669\n",
      "136 AP 49482\n",
      "136 sp5 128671\n",
      "137\n",
      "137 5N 53524\n",
      "137 7n 17396\n",
      "137"
     ]
    },
    {
     "name": "stderr",
     "output_type": "stream",
     "text": [
      "No scoremap for Sol section 136\n",
      "No scoremap for RtTg section 136\n",
      "No scoremap for 12N section 137\n"
     ]
    },
    {
     "name": "stdout",
     "output_type": "stream",
     "text": [
      " 7N 209429\n",
      "137 Gr 5643\n",
      "137 LVe 12130\n",
      "137 Pn 5866\n",
      "137 SuVe 21384\n",
      "137 VLL 192158\n",
      "137 6N 3393\n",
      "137 Amb 12988\n",
      "137 R 3278\n",
      "137 LRt 15513\n",
      "137 LC 17634\n",
      "137 AP 49550\n",
      "137 sp5 86212\n",
      "138\n",
      "138 5N 25365\n",
      "138 7n 21141\n",
      "138 7N 113970\n",
      "138 12N 1902\n",
      "138 Gr 6629\n",
      "138 LVe 24540\n",
      "138 Pn 45702\n",
      "138 SuVe 6883\n",
      "138 VLL 100086\n",
      "138 6N 15907\n",
      "138 Amb 29003\n",
      "138 R 8106\n",
      "138"
     ]
    },
    {
     "name": "stderr",
     "output_type": "stream",
     "text": [
      "No scoremap for Tz section 137\n",
      "No scoremap for Sol section 137\n",
      "No scoremap for RtTg section 137\n",
      "No scoremap for Sol section 138\n"
     ]
    },
    {
     "name": "stdout",
     "output_type": "stream",
     "text": [
      " Tz 14078\n",
      "138 LRt 22118\n",
      "138 LC 35534\n",
      "138 AP 38079\n",
      "138 sp5 169423\n",
      "139\n",
      "139 5N 40481\n",
      "139 7n 18071\n",
      "139"
     ]
    },
    {
     "name": "stderr",
     "output_type": "stream",
     "text": [
      "No scoremap for RtTg section 138\n",
      "No scoremap for 12N section 139\n"
     ]
    },
    {
     "name": "stdout",
     "output_type": "stream",
     "text": [
      " 7N 185980\n",
      "139 Gr 7194\n",
      "139 LVe 3491\n",
      "139 Pn 15905\n",
      "139 SuVe 14454\n",
      "139 VLL 190679\n",
      "139 6N 3691\n",
      "139 Amb 11278\n",
      "139 R 2773\n",
      "139 Tz 1399\n",
      "139 Sol 1407\n",
      "139 LRt 11973\n",
      "139 LC 21187\n",
      "139 AP 45022\n",
      "139 sp5 113310\n",
      "140\n",
      "140 5N 53806\n",
      "140 7n 34428\n",
      "140 7N 108553\n",
      "140 12N 3011\n",
      "140 Gr 18942\n",
      "140 LVe 183712\n",
      "140 Pn 23451\n",
      "140 SuVe 53435\n",
      "140 VLL 77445\n",
      "140 6N 53847\n",
      "140 Amb 23621\n",
      "140 R 12583\n",
      "140"
     ]
    },
    {
     "name": "stderr",
     "output_type": "stream",
     "text": [
      "No scoremap for RtTg section 139\n",
      "No scoremap for Sol section 140\n"
     ]
    },
    {
     "name": "stdout",
     "output_type": "stream",
     "text": [
      " Tz 34089\n",
      "140 LRt 35212\n",
      "140 LC 15968\n",
      "140 AP 29820\n",
      "140 sp5 179663\n",
      "141\n",
      "141 5N 59800\n",
      "141 7n 19236\n",
      "141 7N 210116\n",
      "141 12N 0\n",
      "141 Gr 18846\n",
      "141 LVe 6237\n",
      "141 Pn 14546\n",
      "141 SuVe 34248\n",
      "141 VLL 214931\n",
      "141 6N 7398\n",
      "141 Amb 13505\n",
      "141 R 2218\n",
      "141 Tz 2976\n",
      "141 Sol 2216\n",
      "141 RtTg 0\n",
      "141 LRt 13393\n",
      "141 LC 16090\n",
      "141 AP 53925\n",
      "141 sp5 104970\n",
      "142\n",
      "142 5N 39398\n",
      "142 7n 24850\n",
      "142 7N 108639\n",
      "142 12N 4788\n",
      "142 Gr 12775\n",
      "142 LVe 161272\n",
      "142 Pn 6195\n",
      "142 SuVe 28300\n",
      "142 VLL 81685\n",
      "142 6N 17136\n",
      "142 Amb 9443\n",
      "142 R 5495\n",
      "142 Tz 17766\n",
      "142 Sol 171\n",
      "142 RtTg 103\n",
      "142 LRt 42194\n",
      "142 LC 4106\n",
      "142 AP 13226\n",
      "142 sp5 114299\n",
      "143\n",
      "143 5N 46827\n",
      "143 7n 18574\n",
      "143 7N 194324\n",
      "143 12N 1327\n",
      "143 Gr 9596\n",
      "143 LVe 6207\n",
      "143 Pn 9387\n",
      "143 SuVe 10985\n",
      "143 VLL 166329\n",
      "143 6N 3924\n",
      "143 Amb 7024\n",
      "143 R 3480\n",
      "143"
     ]
    },
    {
     "name": "stderr",
     "output_type": "stream",
     "text": [
      "No scoremap for RtTg section 140\n",
      "No scoremap for Sol section 143\n"
     ]
    },
    {
     "name": "stdout",
     "output_type": "stream",
     "text": [
      " Tz 2195\n",
      "143 LRt 17620\n",
      "143 LC 13492\n",
      "143 AP 39116\n",
      "143 sp5 102707\n",
      "144\n",
      "144 5N 33620\n",
      "144 7n 23295\n",
      "144 7N 155243\n",
      "144 12N 6019\n",
      "144 Gr 9805\n",
      "144 LVe 104872\n",
      "144 Pn 19406\n",
      "144 SuVe 18998\n",
      "144 VLL 98147\n",
      "144 6N 20500\n",
      "144 Amb 10171\n",
      "144 R 4193\n",
      "144"
     ]
    },
    {
     "name": "stderr",
     "output_type": "stream",
     "text": [
      "No scoremap for RtTg section 143\n",
      "No scoremap for Sol section 144\n"
     ]
    },
    {
     "name": "stdout",
     "output_type": "stream",
     "text": [
      " Tz 21433\n",
      "144 LRt 38972\n",
      "144 LC 6116\n",
      "144 AP 11534\n",
      "144 sp5 121950\n",
      "145\n",
      "145 5N 34130\n",
      "145 7n 10196\n",
      "145"
     ]
    },
    {
     "name": "stderr",
     "output_type": "stream",
     "text": [
      "No scoremap for RtTg section 144\n",
      "No scoremap for 12N section 145\n"
     ]
    },
    {
     "name": "stdout",
     "output_type": "stream",
     "text": [
      " 7N 192385\n",
      "145 Gr 13330\n",
      "145 LVe 4373\n",
      "145 Pn 18350\n",
      "145 SuVe 8143\n",
      "145 VLL 177443\n",
      "145 6N 3736\n",
      "145 Amb 13172\n",
      "145 R 2007\n",
      "145 Tz 2106\n",
      "145 Sol 1402\n",
      "145 LRt 15218\n",
      "145 LC 19198\n",
      "145 AP 44544\n",
      "145 sp5 132354\n",
      "146\n",
      "146 5N 50670\n",
      "146 7n 12621\n",
      "146"
     ]
    },
    {
     "name": "stderr",
     "output_type": "stream",
     "text": [
      "No scoremap for RtTg section 145\n",
      "No scoremap for 12N section 146\n"
     ]
    },
    {
     "name": "stdout",
     "output_type": "stream",
     "text": [
      " 7N 146454\n",
      "146 Gr 13540\n",
      "146 LVe 24179\n",
      "146 Pn 65481\n",
      "146 SuVe 23490\n",
      "146 VLL 113594\n",
      "146 6N 47721\n",
      "146 Amb 48210\n",
      "146 R 1701\n",
      "146 Tz 12200\n",
      "146 LRt 21365\n",
      "146 LC 20788\n",
      "146 AP 60548\n",
      "146 sp5 144052\n",
      "147\n",
      "147 5N 62359\n",
      "147 7n 12322\n",
      "147 7N 237347\n",
      "147 12N 1211\n",
      "147 Gr 15290\n",
      "147 LVe 4182\n",
      "147 Pn 8843\n",
      "147 SuVe 38349\n",
      "147 VLL 207927\n",
      "147 6N 9026\n",
      "147 Amb 12117\n",
      "147 R 3040\n",
      "147 Tz 2564\n",
      "147"
     ]
    },
    {
     "name": "stderr",
     "output_type": "stream",
     "text": [
      "No scoremap for Sol section 146\n",
      "No scoremap for RtTg section 146\n",
      "No scoremap for RtTg section 147\n"
     ]
    },
    {
     "name": "stdout",
     "output_type": "stream",
     "text": [
      " Sol 1604\n",
      "147 LRt 11948\n",
      "147 LC 17141\n",
      "147 AP 42179\n",
      "147 sp5 89136\n",
      "148\n",
      "148 5N 47946\n",
      "148 7n 18379\n",
      "148 7N 162564\n",
      "148 12N 2010\n",
      "148 Gr 12447\n",
      "148 LVe 26662\n",
      "148 Pn 23352\n",
      "148 SuVe 10643\n",
      "148 VLL 115865\n",
      "148 6N 26459\n",
      "148 Amb 24826\n",
      "148 R 1919\n",
      "148 Tz 12238\n",
      "148 Sol 1372\n",
      "148 LRt 24712\n",
      "148 LC 9742\n",
      "148 AP 27528\n",
      "148 sp5 107348\n",
      "149\n",
      "149 5N 56395\n",
      "149 7n 11890\n",
      "149"
     ]
    },
    {
     "name": "stderr",
     "output_type": "stream",
     "text": [
      "No scoremap for RtTg section 148\n",
      "No scoremap for 12N section 149\n"
     ]
    },
    {
     "name": "stdout",
     "output_type": "stream",
     "text": [
      " 7N 231175\n",
      "149 Gr 14801\n",
      "149 LVe 8104\n",
      "149 Pn 11473\n",
      "149 SuVe 28810\n",
      "149 VLL 200441\n",
      "149 6N 8371\n",
      "149 Amb 12870\n",
      "149 Tz 2588\n",
      "149"
     ]
    },
    {
     "name": "stderr",
     "output_type": "stream",
     "text": [
      "No scoremap for R section 149\n",
      "No scoremap for RtTg section 149\n"
     ]
    },
    {
     "name": "stdout",
     "output_type": "stream",
     "text": [
      " Sol 2196\n",
      "149 LRt 16014\n",
      "149 LC 18117\n",
      "149 AP 47703\n",
      "149 sp5 98676\n",
      "150\n",
      "150 5N 33429\n",
      "150 7n 11388\n",
      "150 7N 171953\n",
      "150 Gr 14349\n",
      "150 LVe 20442\n",
      "150 Pn 36779\n",
      "150 SuVe 13036\n",
      "150 VLL 117844\n",
      "150 6N 38184\n",
      "150 Amb 42145\n",
      "150 R 2584\n",
      "150 Tz 15559\n",
      "150"
     ]
    },
    {
     "name": "stderr",
     "output_type": "stream",
     "text": [
      "No scoremap for 12N section 150\n",
      "No scoremap for RtTg section 150\n"
     ]
    },
    {
     "name": "stdout",
     "output_type": "stream",
     "text": [
      " Sol 2449\n",
      "150 LRt 21614\n",
      "150 LC 31321\n",
      "150 AP 46713\n",
      "150 sp5 180255\n",
      "151\n",
      "151 5N 49045\n",
      "151 7n 8319\n",
      "151 7N 227169\n",
      "151 Gr 15968\n",
      "151 LVe 2725\n",
      "151 Pn 12199\n",
      "151 SuVe 28176\n",
      "151 VLL 211793\n",
      "151 6N 5251\n",
      "151 Amb 9227\n",
      "151 R 1728\n",
      "151 Tz 2595\n",
      "151"
     ]
    },
    {
     "name": "stderr",
     "output_type": "stream",
     "text": [
      "No scoremap for 12N section 151\n",
      "No scoremap for RtTg section 151\n"
     ]
    },
    {
     "name": "stdout",
     "output_type": "stream",
     "text": [
      " Sol 2516\n",
      "151 LRt 9328\n",
      "151 LC 31082\n",
      "151 AP 40884\n",
      "151 sp5 101562\n",
      "152\n",
      "152 5N 8297\n",
      "152 7n 5505\n",
      "152 7N 180915\n",
      "152 Gr 30063\n",
      "152 LVe 62090\n",
      "152 Pn 69175\n",
      "152 SuVe 22094\n",
      "152 VLL 63848\n",
      "152 6N 109789\n",
      "152"
     ]
    },
    {
     "name": "stderr",
     "output_type": "stream",
     "text": [
      "No scoremap for 12N section 152\n",
      "No scoremap for R section 152\n"
     ]
    },
    {
     "name": "stdout",
     "output_type": "stream",
     "text": [
      " Amb 135084\n",
      "152 Tz 46507\n",
      "152 Sol 7459\n",
      "152 LRt 61155\n",
      "152 LC 38654\n",
      "152 AP 101890\n",
      "152 sp5 377385\n",
      "153\n",
      "153 5N 58192\n",
      "153 7n 10650\n",
      "153"
     ]
    },
    {
     "name": "stderr",
     "output_type": "stream",
     "text": [
      "No scoremap for RtTg section 152\n",
      "No scoremap for 12N section 153\n"
     ]
    },
    {
     "name": "stdout",
     "output_type": "stream",
     "text": [
      " 7N 217240\n",
      "153 Gr 24070\n",
      "153 LVe 7686\n",
      "153 Pn 13250\n",
      "153 SuVe 32280\n",
      "153 VLL 166416\n",
      "153 6N 22380\n",
      "153 Amb 17836\n",
      "153 R 2024\n",
      "153 Tz 2032\n",
      "153 Sol 3243\n",
      "153 LRt 8334\n",
      "153 LC 16339\n",
      "153 AP 45696\n",
      "153 sp5 85195\n",
      "154\n",
      "154 5N 44437\n",
      "154 7n 23968\n",
      "154 7N 124416\n",
      "154 12N 10546\n",
      "154 Gr 20414\n",
      "154 LVe 81819\n",
      "154 Pn 8914\n",
      "154 SuVe 22976\n",
      "154 VLL 72680\n",
      "154 6N 16169\n",
      "154 Amb 15461\n",
      "154 R 4545\n",
      "154 Tz 5078\n",
      "154"
     ]
    },
    {
     "name": "stderr",
     "output_type": "stream",
     "text": [
      "No scoremap for RtTg section 153\n",
      "No scoremap for RtTg section 154\n"
     ]
    },
    {
     "name": "stdout",
     "output_type": "stream",
     "text": [
      " Sol 3292\n",
      "154 LRt 34477\n",
      "154 LC 14955\n",
      "154 AP 13605\n",
      "154 sp5 88272\n",
      "155\n",
      "155 5N 47927\n",
      "155 7n 9056\n",
      "155 7N 197648\n",
      "155 Gr 15719\n",
      "155 LVe 10555\n",
      "155 Pn 12592\n",
      "155 SuVe 20766\n",
      "155 VLL 157858\n",
      "155 6N 16929\n",
      "155 Amb 16047\n",
      "155 R 1513\n",
      "155 Tz 4235\n",
      "155"
     ]
    },
    {
     "name": "stderr",
     "output_type": "stream",
     "text": [
      "No scoremap for 12N section 155\n",
      "No scoremap for RtTg section 155\n"
     ]
    },
    {
     "name": "stdout",
     "output_type": "stream",
     "text": [
      " Sol 3408\n",
      "155 LRt 16458\n",
      "155 LC 10878\n",
      "155 AP 30164\n",
      "155 sp5 85142\n",
      "156\n",
      "156 5N 30324\n",
      "156 7n 12091\n",
      "156 7N 125807\n",
      "156 12N 2399\n",
      "156 Gr 15245\n",
      "156 LVe 12790\n",
      "156 Pn 30993\n",
      "156 SuVe 8738\n",
      "156 VLL 76431\n",
      "156 6N 42555\n",
      "156 Amb 44692\n",
      "156 R 3212\n",
      "156 Tz 15141\n",
      "156 Sol 2452\n",
      "156 LRt 17185\n",
      "156 LC 36559\n",
      "156 AP 35560\n",
      "156 sp5 179109\n",
      "157\n",
      "157 5N 40709\n",
      "157 7n 12483\n",
      "157 7N 205258\n",
      "157 12N 10997\n",
      "157 Gr 11920\n",
      "157"
     ]
    },
    {
     "name": "stderr",
     "output_type": "stream",
     "text": [
      "No scoremap for RtTg section 156\n",
      "No scoremap for Pn section 157\n"
     ]
    },
    {
     "name": "stdout",
     "output_type": "stream",
     "text": [
      " LVe 1803\n",
      "157 SuVe 9841\n",
      "157 VLL 59638\n",
      "157 Amb 6348\n",
      "157"
     ]
    },
    {
     "name": "stderr",
     "output_type": "stream",
     "text": [
      "No scoremap for 6N section 157\n",
      "No scoremap for Tz section 157\n"
     ]
    },
    {
     "name": "stdout",
     "output_type": "stream",
     "text": [
      " R 6733\n",
      "157 LRt 3367\n",
      "157 LC 6715\n",
      "157 AP 15526\n",
      "157 sp5 30467\n",
      "158\n",
      "158 5N 51120\n",
      "158 7n 32474\n",
      "158 7N 152741\n",
      "158 12N 19165\n",
      "158 Gr 23079\n",
      "158 LVe 12306\n",
      "158 Pn 6124\n",
      "158 SuVe 20323\n",
      "158 VLL 69591\n",
      "158 6N 36240\n",
      "158 Amb 18963\n",
      "158 R 8198\n",
      "158"
     ]
    },
    {
     "name": "stderr",
     "output_type": "stream",
     "text": [
      "No scoremap for Sol section 157\n",
      "No scoremap for RtTg section 157\n",
      "No scoremap for Sol section 158\n"
     ]
    },
    {
     "name": "stdout",
     "output_type": "stream",
     "text": [
      " Tz 11478\n",
      "158 RtTg 1485\n",
      "158 LRt 11228\n",
      "158 LC 15882\n",
      "158 AP 20451\n",
      "158 sp5 82143\n",
      "159\n",
      "159 5N 71972\n",
      "159 7n 5734\n",
      "159 7N 294055\n",
      "159 Gr 24390\n",
      "159 LVe 7705\n",
      "159 Pn 12197\n",
      "159 SuVe 64352\n",
      "159 VLL 156841\n",
      "159 6N 17392\n",
      "159"
     ]
    },
    {
     "name": "stderr",
     "output_type": "stream",
     "text": [
      "No scoremap for 12N section 159\n",
      "No scoremap for R section 159\n"
     ]
    },
    {
     "name": "stdout",
     "output_type": "stream",
     "text": [
      " Amb 18459\n",
      "159 Tz 3519\n",
      "159 Sol 2328\n",
      "159 LRt 18968\n",
      "159 LC 26916\n",
      "159 AP 53002\n",
      "159 sp5 76259\n",
      "160\n",
      "160 5N 38837\n",
      "160 7n 7390\n",
      "160 7N 175713\n",
      "160 12N 1862\n",
      "160 Gr 29530\n",
      "160 LVe 26136\n",
      "160 Pn 21277\n",
      "160 SuVe 40664\n",
      "160 VLL 92965\n",
      "160 6N 48612\n",
      "160 Amb 32544\n",
      "160 R 1897\n",
      "160 Tz 8858\n",
      "160"
     ]
    },
    {
     "name": "stderr",
     "output_type": "stream",
     "text": [
      "No scoremap for RtTg section 159\n",
      "No scoremap for RtTg section 160\n"
     ]
    },
    {
     "name": "stdout",
     "output_type": "stream",
     "text": [
      " Sol 2993\n",
      "160 LRt 22672\n",
      "160 LC 29103\n",
      "160 AP 31348\n",
      "160 sp5 125591\n",
      "161\n",
      "161 5N 42767\n",
      "161 7n 6277\n",
      "161 7N 211530\n",
      "161 Gr 29582\n",
      "161 LVe 6485\n",
      "161 Pn 16165\n",
      "161 SuVe 33419\n",
      "161 VLL 146259\n",
      "161 6N 14866\n",
      "161 Amb 16155\n",
      "161"
     ]
    },
    {
     "name": "stderr",
     "output_type": "stream",
     "text": [
      "No scoremap for 12N section 161\n",
      "No scoremap for Tz section 161\n"
     ]
    },
    {
     "name": "stdout",
     "output_type": "stream",
     "text": [
      " R 2765\n",
      "161 Sol 2348\n",
      "161 LRt 16090\n",
      "161 LC 41523\n",
      "161 AP 32399\n",
      "161 sp5 92472\n",
      "162\n",
      "162 5N 20701\n",
      "162 7n 7979\n",
      "162"
     ]
    },
    {
     "name": "stderr",
     "output_type": "stream",
     "text": [
      "No scoremap for RtTg section 161\n",
      "No scoremap for 12N section 162\n"
     ]
    },
    {
     "name": "stdout",
     "output_type": "stream",
     "text": [
      " 7N 170230\n",
      "162 Gr 32596\n",
      "162 LVe 14909\n",
      "162 Pn 33239\n",
      "162 SuVe 19709\n",
      "162 VLL 84678\n",
      "162 6N 54307\n",
      "162 Amb 50133\n",
      "162 R 1788\n",
      "162 Tz 15151\n",
      "162 Sol 3058\n",
      "162 LRt 33689\n",
      "162 LC 77451\n",
      "162 AP 42693\n",
      "162 sp5 235230\n",
      "163\n",
      "163 5N 48675\n",
      "163 7n 11091\n",
      "163 7N 200587\n",
      "163 12N 1581\n",
      "163 Gr 36479\n",
      "163 LVe 5780\n",
      "163 Pn 17557\n",
      "163 SuVe 30717\n",
      "163 VLL 144371\n",
      "163 6N 18582\n",
      "163 Amb 20675\n",
      "163 R 3303\n",
      "163 Tz 2220\n",
      "163"
     ]
    },
    {
     "name": "stderr",
     "output_type": "stream",
     "text": [
      "No scoremap for RtTg section 162\n",
      "No scoremap for RtTg section 163\n"
     ]
    },
    {
     "name": "stdout",
     "output_type": "stream",
     "text": [
      " Sol 1910\n",
      "163 LRt 18638\n",
      "163 LC 34770\n",
      "163 AP 35038\n",
      "163 sp5 100833\n",
      "164\n",
      "164 5N 35035\n",
      "164 7n 11046\n",
      "164 7N 181214\n",
      "164 12N 1243\n",
      "164 Gr 45184\n",
      "164 LVe 25724\n",
      "164 Pn 29134\n",
      "164 SuVe 62229\n",
      "164 VLL 90170\n",
      "164 6N 49659\n",
      "164 Amb 59337\n",
      "164 R 2336\n",
      "164 Tz 7665\n",
      "164 Sol 4752\n",
      "164 LRt 21735\n",
      "164 LC 73616\n",
      "164 AP 37097\n",
      "164 sp5 174062\n",
      "165\n",
      "165 5N 42811\n",
      "165 7n 5934\n",
      "165"
     ]
    },
    {
     "name": "stderr",
     "output_type": "stream",
     "text": [
      "No scoremap for RtTg section 164\n",
      "No scoremap for 12N section 165\n"
     ]
    },
    {
     "name": "stdout",
     "output_type": "stream",
     "text": [
      " 7N 325950\n",
      "165 Gr 4289\n",
      "165 LVe 1017\n",
      "165 Pn 7964\n",
      "165 SuVe 2334\n",
      "165 VLL 8555\n",
      "165"
     ]
    },
    {
     "name": "stderr",
     "output_type": "stream",
     "text": [
      "No scoremap for 6N section 165\n",
      "No scoremap for R section 165\n"
     ]
    },
    {
     "name": "stdout",
     "output_type": "stream",
     "text": [
      " Amb 40837\n",
      "165 LRt 47917\n",
      "165 LC 26902\n",
      "165 AP 66130\n",
      "165 sp5 42168\n",
      "166\n",
      "166 5N 39414\n",
      "166 7n 9479\n",
      "166 7N 172214\n",
      "166 12N 3237\n",
      "166 Gr 31774\n",
      "166 LVe 25610\n",
      "166 Pn 30586\n",
      "166 SuVe 19899\n",
      "166 VLL 79391\n",
      "166 6N 50461\n",
      "166 Amb 53987\n",
      "166 R 3391\n",
      "166 Tz 7759\n",
      "166"
     ]
    },
    {
     "name": "stderr",
     "output_type": "stream",
     "text": [
      "No scoremap for Tz section 165\n",
      "No scoremap for Sol section 165\n",
      "No scoremap for RtTg section 165\n",
      "No scoremap for RtTg section 166\n"
     ]
    },
    {
     "name": "stdout",
     "output_type": "stream",
     "text": [
      " Sol 3005\n",
      "166 LRt 38149\n",
      "166 LC 65728\n",
      "166 AP 34479\n",
      "166 sp5 146117\n",
      "167\n",
      "167 5N 43270\n",
      "167 7n 6917\n",
      "167 7N 339624\n",
      "167 12N 1697\n",
      "167 Gr 17167\n",
      "167 LVe 8254\n",
      "167 Pn 11375\n",
      "167 SuVe 9326\n",
      "167 VLL 43022\n",
      "167 6N 5148\n",
      "167 Amb 32818\n",
      "167 LRt 41399\n",
      "167 LC 17488\n",
      "167 AP 43930\n",
      "167 sp5 41651\n",
      "168\n",
      "168 5N 18912\n",
      "168 7n 10047\n",
      "168 7N 147888\n",
      "168 12N 1843\n",
      "168 Gr 32197\n",
      "168 LVe 16310\n",
      "168 Pn 38427\n",
      "168 SuVe 8050\n",
      "168 VLL 57573\n",
      "168 6N 48044\n",
      "168 Amb 48402\n",
      "168 R 5471\n",
      "168 Tz 8945\n",
      "168"
     ]
    },
    {
     "name": "stderr",
     "output_type": "stream",
     "text": [
      "No scoremap for R section 167\n",
      "No scoremap for Tz section 167\n",
      "No scoremap for Sol section 167\n",
      "No scoremap for RtTg section 167\n",
      "No scoremap for RtTg section 168\n"
     ]
    },
    {
     "name": "stdout",
     "output_type": "stream",
     "text": [
      " Sol 4489\n",
      "168 LRt 32548\n",
      "168 LC 113794\n",
      "168 AP 35292\n",
      "168 sp5 216437\n",
      "169\n",
      "169 5N 49844\n",
      "169 7n 6212\n",
      "169 7N 248177\n",
      "169 12N 1270\n",
      "169 Gr 22759\n",
      "169 LVe 16225\n",
      "169 Pn 24350\n",
      "169 SuVe 28341\n",
      "169 VLL 99138\n",
      "169 6N 15571\n",
      "169 Amb 31254\n",
      "169 R 2353\n",
      "169 Tz 2119\n",
      "169 Sol 4486\n",
      "169 LRt 20890\n",
      "169 LC 45601\n",
      "169 AP 46963\n",
      "169 sp5 80019\n",
      "170\n",
      "170 5N 27756\n",
      "170 7n 9941\n",
      "170 7N 158224\n",
      "170 12N 1114\n",
      "170 Gr 41487\n",
      "170 LVe 28549\n",
      "170 Pn 38138\n",
      "170 SuVe 29885\n",
      "170 VLL 79673\n",
      "170 6N 42058\n",
      "170 Amb 77933\n",
      "170 R 4222\n",
      "170 Tz 7221\n",
      "170"
     ]
    },
    {
     "name": "stderr",
     "output_type": "stream",
     "text": [
      "No scoremap for RtTg section 169\n",
      "No scoremap for RtTg section 170\n"
     ]
    },
    {
     "name": "stdout",
     "output_type": "stream",
     "text": [
      " Sol 4087\n",
      "170 LRt 27894\n",
      "170 LC 108598\n",
      "170 AP 35094\n",
      "170 sp5 150443\n",
      "171\n",
      "171 5N 47255\n",
      "171 7n 11397\n",
      "171 7N 173797\n",
      "171 12N 2186\n",
      "171 Gr 44442\n",
      "171 LVe 14510\n",
      "171 Pn 30901\n",
      "171 SuVe 51468\n",
      "171 VLL 94877\n",
      "171 6N 21696\n",
      "171 Amb 37103\n",
      "171 R 10665\n",
      "171 Tz 1912\n",
      "171 Sol 6803\n",
      "171 LRt 20830\n",
      "171 LC 111445\n",
      "171 AP 67603\n",
      "171 sp5 145820\n",
      "172\n",
      "172 5N 21276\n",
      "172 7n 8501\n",
      "172 7N 156380\n",
      "172 12N 2980\n",
      "172 Gr 34295\n",
      "172 LVe 34727\n",
      "172 Pn 31571\n",
      "172 SuVe 23485\n",
      "172 VLL 71391\n",
      "172 6N 31980\n",
      "172 Amb 46531\n",
      "172 R 5023\n",
      "172 Tz 4035\n",
      "172"
     ]
    },
    {
     "name": "stderr",
     "output_type": "stream",
     "text": [
      "No scoremap for RtTg section 171\n",
      "No scoremap for RtTg section 172\n"
     ]
    },
    {
     "name": "stdout",
     "output_type": "stream",
     "text": [
      " Sol 6490\n",
      "172 LRt 38293\n",
      "172 LC 86734\n",
      "172 AP 28346\n",
      "172 sp5 193055\n",
      "173\n",
      "173 5N 49821\n",
      "173 7n 8094\n",
      "173 7N 209210\n",
      "173 12N 1584\n",
      "173 Gr 34238\n",
      "173 LVe 9043\n",
      "173 Pn 22140\n",
      "173 SuVe 36423\n",
      "173 VLL 87829\n",
      "173 6N 13463\n",
      "173 Amb 36986\n",
      "173 R 3818\n",
      "173 Tz 1408\n",
      "173 Sol 8260\n",
      "173 LRt 21300\n",
      "173 LC 60408\n",
      "173 AP 47618\n",
      "173 sp5 68421\n",
      "174\n",
      "174 5N 10828\n",
      "174 7n 7634\n",
      "174 7N 127659\n",
      "174 12N 1542\n",
      "174 Gr 30752\n",
      "174 LVe 22560\n",
      "174 Pn 42925\n",
      "174 SuVe 9620\n",
      "174 VLL 55379\n",
      "174 6N 41319\n",
      "174 Amb 72773\n",
      "174 R 4371\n",
      "174 Tz 7674\n",
      "174"
     ]
    },
    {
     "name": "stderr",
     "output_type": "stream",
     "text": [
      "No scoremap for RtTg section 173\n",
      "No scoremap for RtTg section 174\n"
     ]
    },
    {
     "name": "stdout",
     "output_type": "stream",
     "text": [
      " Sol 7911\n",
      "174 LRt 45993\n",
      "174 LC 102306\n",
      "174 AP 36692\n",
      "174 sp5 226492\n",
      "175\n",
      "175 5N 37808\n",
      "175 7n 3810\n",
      "175 7N 196650\n",
      "175 Gr 33793\n",
      "175 LVe 4556\n",
      "175 Pn 16872\n",
      "175 SuVe 21830\n",
      "175 VLL 98147\n",
      "175 6N 18113\n",
      "175 Amb 45093\n",
      "175 R 6476\n",
      "175 Tz 1175\n",
      "175"
     ]
    },
    {
     "name": "stderr",
     "output_type": "stream",
     "text": [
      "No scoremap for 12N section 175\n",
      "No scoremap for RtTg section 175\n"
     ]
    },
    {
     "name": "stdout",
     "output_type": "stream",
     "text": [
      " Sol 9188\n",
      "175 LRt 13809\n",
      "175 LC 81125\n",
      "175 AP 51370\n",
      "175 sp5 104393\n",
      "176\n",
      "176 5N 135477\n",
      "176 7N 300337\n",
      "176 12N 16803\n",
      "176 Gr 39144\n",
      "176 LVe 3920\n",
      "176 Pn 27270\n",
      "176 SuVe 18073\n",
      "176"
     ]
    },
    {
     "name": "stderr",
     "output_type": "stream",
     "text": [
      "No scoremap for 7n section 176\n",
      "No scoremap for 6N section 176\n"
     ]
    },
    {
     "name": "stdout",
     "output_type": "stream",
     "text": [
      " VLL 106005\n",
      "176 Amb 8124\n",
      "176 R 6866\n",
      "176"
     ]
    },
    {
     "name": "stderr",
     "output_type": "stream",
     "text": [
      "No scoremap for Tz section 176\n",
      "No scoremap for RtTg section 176\n"
     ]
    },
    {
     "name": "stdout",
     "output_type": "stream",
     "text": [
      " Sol 14616\n",
      "176 LRt 50200\n",
      "176 LC 24805\n",
      "176 AP 25580\n",
      "176 sp5 13227\n",
      "177\n",
      "177 5N 127342\n",
      "177 7n 1121\n",
      "177 7N 290728\n",
      "177 12N 12993\n",
      "177 Gr 49905\n",
      "177 LVe 2808\n",
      "177 Pn 32501\n",
      "177 SuVe 40824\n",
      "177 VLL 90580\n",
      "177 Amb 9583\n",
      "177 R 22564\n",
      "177 Tz 1822\n",
      "177"
     ]
    },
    {
     "name": "stderr",
     "output_type": "stream",
     "text": [
      "No scoremap for 6N section 177\n",
      "No scoremap for RtTg section 177\n"
     ]
    },
    {
     "name": "stdout",
     "output_type": "stream",
     "text": [
      " Sol 16037\n",
      "177 LRt 33524\n",
      "177 LC 43098\n",
      "177 AP 46255\n",
      "177 sp5 13210\n",
      "178\n",
      "178 5N 94498\n",
      "178 7n 1373\n",
      "178 7N 234531\n",
      "178 12N 13982\n",
      "178 Gr 47962\n",
      "178 LVe 2730\n",
      "178 Pn 35478\n",
      "178 SuVe 13372\n",
      "178 VLL 103660\n",
      "178 Amb 4583\n",
      "178 R 8356\n",
      "178 Tz 3726\n",
      "178"
     ]
    },
    {
     "name": "stderr",
     "output_type": "stream",
     "text": [
      "No scoremap for 6N section 178\n",
      "No scoremap for RtTg section 178\n"
     ]
    },
    {
     "name": "stdout",
     "output_type": "stream",
     "text": [
      " Sol 10095\n",
      "178 LRt 32982\n",
      "178 LC 20880\n",
      "178 AP 27664\n",
      "178 sp5 9580\n",
      "179\n",
      "179 5N 114438\n",
      "179 7n 2210\n",
      "179 7N 273619\n",
      "179 12N 5665\n",
      "179 Gr 47306\n",
      "179 LVe 4976\n",
      "179 Pn 43025\n",
      "179 SuVe 31902\n",
      "179 VLL 125529\n",
      "179 6N 1065\n",
      "179 Amb 10726\n",
      "179 R 18013\n",
      "179 Tz 4969\n",
      "179 Sol 12390\n",
      "179 LRt 29612\n",
      "179 LC 36252\n",
      "179 AP 43490\n",
      "179 sp5 8967\n",
      "180\n",
      "180 5N 103755\n",
      "180 7n 1488\n",
      "180 7N 245726\n",
      "180 12N 12957\n",
      "180 Gr 42072\n",
      "180 LVe 5494\n",
      "180 Pn 35518\n",
      "180 SuVe 11468\n",
      "180"
     ]
    },
    {
     "name": "stderr",
     "output_type": "stream",
     "text": [
      "No scoremap for RtTg section 179\n",
      "No scoremap for 6N section 180\n"
     ]
    },
    {
     "name": "stdout",
     "output_type": "stream",
     "text": [
      " VLL 113547\n",
      "180 Amb 7611\n",
      "180 R 10940\n",
      "180 Tz 6679\n",
      "180 Sol 11824\n",
      "180 RtTg 1485\n",
      "180 LRt 23541\n",
      "180 LC 26028\n",
      "180 AP 29747\n",
      "180 sp5 9164\n",
      "181\n",
      "181 5N 99561\n",
      "181 7N 287312\n",
      "181 12N 3524\n",
      "181 Gr 39053\n",
      "181 LVe 3163\n",
      "181 Pn 45095\n",
      "181 SuVe 22530\n",
      "181 VLL 142677\n",
      "181 6N 1205\n",
      "181 Amb 9187\n",
      "181 R 17101\n",
      "181 Tz 6895\n",
      "181"
     ]
    },
    {
     "name": "stderr",
     "output_type": "stream",
     "text": [
      "No scoremap for 7n section 181\n",
      "No scoremap for RtTg section 181\n"
     ]
    },
    {
     "name": "stdout",
     "output_type": "stream",
     "text": [
      " Sol 8118\n",
      "181 LRt 22189\n",
      "181 LC 43842\n",
      "181 AP 40733\n",
      "181 sp5 7818\n",
      "182\n",
      "182 5N 110363\n",
      "182 7N 294108\n",
      "182 12N 14623\n",
      "182 Gr 45983\n",
      "182 LVe 7663\n",
      "182 Pn 44503\n",
      "182 SuVe 25259\n",
      "182 VLL 108385\n",
      "182 6N 1048\n",
      "182 Amb 9129\n",
      "182 R 13225\n",
      "182 Tz 7195\n",
      "182 Sol 14397\n",
      "182 RtTg 1990\n",
      "182 LRt 38606\n",
      "182 LC 29421\n",
      "182 AP 30577\n",
      "182 sp5 23849\n",
      "183\n",
      "183"
     ]
    },
    {
     "name": "stderr",
     "output_type": "stream",
     "text": [
      "No scoremap for 7n section 182\n",
      "No scoremap for 7n section 183\n"
     ]
    },
    {
     "name": "stdout",
     "output_type": "stream",
     "text": [
      " 5N 158955\n",
      "183 7N 384138\n",
      "183 12N 5180\n",
      "183 Gr 26530\n",
      "183 LVe 6148\n",
      "183 Pn 42792\n",
      "183 SuVe 7722\n",
      "183 VLL 58347\n",
      "183 Amb 8611\n",
      "183 R 6201\n",
      "183 Tz 6325\n",
      "183"
     ]
    },
    {
     "name": "stderr",
     "output_type": "stream",
     "text": [
      "No scoremap for 6N section 183\n",
      "No scoremap for RtTg section 183\n"
     ]
    },
    {
     "name": "stdout",
     "output_type": "stream",
     "text": [
      " Sol 4006\n",
      "183 LRt 23107\n",
      "183 LC 20506\n",
      "183 AP 69574\n",
      "183 sp5 14774\n",
      "184\n",
      "184 5N 116214\n",
      "184 7N 271655\n",
      "184 12N 7336\n",
      "184 Gr 43131\n",
      "184 LVe 12556\n",
      "184 Pn 43967\n",
      "184 SuVe 24625\n",
      "184"
     ]
    },
    {
     "name": "stderr",
     "output_type": "stream",
     "text": [
      "No scoremap for 7n section 184\n",
      "No scoremap for 6N section 184\n"
     ]
    },
    {
     "name": "stdout",
     "output_type": "stream",
     "text": [
      " VLL 123664\n",
      "184 Amb 8255\n",
      "184 R 17420\n",
      "184 Tz 8841\n",
      "184 Sol 10234\n",
      "184 LRt 29144\n",
      "184 LC 28735\n",
      "184 AP 40381\n",
      "184 sp5 11416\n",
      "185\n",
      "185"
     ]
    },
    {
     "name": "stderr",
     "output_type": "stream",
     "text": [
      "No scoremap for RtTg section 184\n",
      "No scoremap for 7n section 185\n"
     ]
    },
    {
     "name": "stdout",
     "output_type": "stream",
     "text": [
      " 5N 120435\n",
      "185 7N 284148\n",
      "185 12N 2483\n",
      "185 Gr 40122\n",
      "185 LVe 6809\n",
      "185 Pn 57280\n",
      "185 SuVe 37799\n",
      "185 VLL 162496\n",
      "185 6N 5086\n",
      "185 Amb 8477\n",
      "185 R 16088\n",
      "185 Tz 9596\n",
      "185 Sol 8939\n",
      "185 LRt 25515\n",
      "185 LC 43777\n",
      "185 AP 51504\n",
      "185 sp5 7090\n",
      "186\n",
      "186"
     ]
    },
    {
     "name": "stderr",
     "output_type": "stream",
     "text": [
      "No scoremap for RtTg section 185\n",
      "No scoremap for 7n section 186\n"
     ]
    },
    {
     "name": "stdout",
     "output_type": "stream",
     "text": [
      " 5N 84235\n",
      "186 7N 246404\n",
      "186 12N 10086\n",
      "186 Gr 36181\n",
      "186 LVe 5852\n",
      "186 Pn 39003\n",
      "186 SuVe 22854\n",
      "186 VLL 129429\n",
      "186 6N 3615\n",
      "186 Amb 7868\n",
      "186 R 24092\n",
      "186 Tz 8415\n",
      "186 Sol 11045\n",
      "186 RtTg 2141\n",
      "186 LRt 25054\n",
      "186 LC 37692\n",
      "186 AP 31719\n",
      "186 sp5 9886\n",
      "187\n",
      "187 5N 72838\n",
      "187 7N 302553\n",
      "187 12N 2134\n",
      "187 Gr 31959\n",
      "187 LVe 3289\n",
      "187 Pn 45543\n",
      "187 SuVe 30561\n",
      "187 VLL 151574\n",
      "187 6N 2182\n",
      "187 Amb 9426\n",
      "187 R 19609\n",
      "187 Tz 8358\n",
      "187 Sol 6255\n",
      "187 RtTg 2110\n",
      "187 LRt 25964\n",
      "187 LC 41529\n",
      "187 AP 47041\n",
      "187 sp5 13513\n",
      "188\n",
      "188"
     ]
    },
    {
     "name": "stderr",
     "output_type": "stream",
     "text": [
      "No scoremap for 7n section 187\n",
      "No scoremap for 7n section 188\n"
     ]
    },
    {
     "name": "stdout",
     "output_type": "stream",
     "text": [
      " 5N 96429\n",
      "188 7N 267513\n",
      "188 12N 21025\n",
      "188 Gr 32512\n",
      "188 LVe 7060\n",
      "188 Pn 42350\n",
      "188 SuVe 15022\n",
      "188 VLL 89269\n",
      "188 6N 1676\n",
      "188 Amb 5320\n",
      "188 R 16971\n",
      "188 Tz 6495\n",
      "188 Sol 11939\n",
      "188 RtTg 3032\n",
      "188 LRt 33501\n",
      "188 LC 16474\n",
      "188 AP 23156\n",
      "188 sp5 31486\n",
      "189\n",
      "189 5N 79339\n",
      "189 7N 271899\n",
      "189 12N 8901\n",
      "189 Gr 39956\n",
      "189 LVe 4713\n",
      "189 Pn 60262\n",
      "189 SuVe 37142\n",
      "189 VLL 88330\n",
      "189 6N 3048\n",
      "189 Amb 10555\n",
      "189 R 23702\n",
      "189 Tz 6127\n",
      "189 Sol 11696\n",
      "189 RtTg 2037\n",
      "189 LRt 25311\n",
      "189 LC 39721\n",
      "189 AP 55101\n",
      "189 sp5 18236\n",
      "190\n",
      "190"
     ]
    },
    {
     "name": "stderr",
     "output_type": "stream",
     "text": [
      "No scoremap for 7n section 189\n",
      "No scoremap for 7n section 190\n"
     ]
    },
    {
     "name": "stdout",
     "output_type": "stream",
     "text": [
      " 5N 81717\n",
      "190 7N 245941\n",
      "190 12N 11019\n",
      "190 Gr 31618\n",
      "190 LVe 7396\n",
      "190 Pn 39635\n",
      "190 SuVe 14772\n",
      "190 VLL 104029\n",
      "190 6N 2794\n",
      "190 Amb 6808\n",
      "190 R 15461\n",
      "190 Tz 7679\n",
      "190 Sol 16675\n",
      "190 RtTg 3638\n",
      "190 LRt 36869\n",
      "190 LC 16662\n",
      "190 AP 36487\n",
      "190 sp5 19843\n",
      "191\n",
      "191 5N 61585\n",
      "191 7n 4963\n",
      "191 7N 222004\n",
      "191 12N 7716\n",
      "191 Gr 26242\n",
      "191 LVe 3421\n",
      "191 Pn 37050\n",
      "191 SuVe 18438\n",
      "191 VLL 102588\n",
      "191 6N 3012\n",
      "191 Amb 10045\n",
      "191 R 20063\n",
      "191 Tz 8628\n",
      "191 Sol 11067\n",
      "191 RtTg 5321\n",
      "191 LRt 19307\n",
      "191 LC 29154\n",
      "191 AP 50971\n",
      "191 sp5 13026\n",
      "192\n",
      "192 5N 51496\n",
      "192 7n 1284\n",
      "192 7N 201077\n",
      "192 12N 12104\n",
      "192 Gr 21604\n",
      "192 LVe 4916\n",
      "192 Pn 33648\n",
      "192 SuVe 12164\n",
      "192 VLL 88030\n",
      "192 6N 2815\n",
      "192 Amb 9433\n",
      "192 R 15290\n",
      "192 Tz 8847\n",
      "192 Sol 14468\n",
      "192 RtTg 4551\n",
      "192 LRt 36115\n",
      "192 LC 24256\n",
      "192 AP 41178\n",
      "192 sp5 18779\n",
      "193\n",
      "193 5N 53171\n",
      "193 7N 197916\n",
      "193 12N 5254\n",
      "193 Gr 21092\n",
      "193 LVe 1640\n",
      "193 Pn 39629\n",
      "193 SuVe 22155\n",
      "193 VLL 82656\n",
      "193 6N 1810\n",
      "193 Amb 5271\n",
      "193 R 23991\n",
      "193 Tz 6594\n",
      "193 Sol 11759\n",
      "193 RtTg 2600\n",
      "193 LRt 18332\n",
      "193 LC 37891\n",
      "193 AP 54251\n",
      "193 sp5 15078\n",
      "194\n",
      "194"
     ]
    },
    {
     "name": "stderr",
     "output_type": "stream",
     "text": [
      "No scoremap for 7n section 193\n",
      "No scoremap for 7n section 194\n"
     ]
    },
    {
     "name": "stdout",
     "output_type": "stream",
     "text": [
      " 5N 56930\n",
      "194 7N 241007\n",
      "194 12N 10781\n",
      "194 Gr 29151\n",
      "194 LVe 3515\n",
      "194 Pn 32158\n",
      "194 SuVe 28787\n",
      "194 VLL 66212\n",
      "194 Amb 9933\n",
      "194 R 22074\n",
      "194 Tz 6916\n",
      "194 Sol 14046\n",
      "194 RtTg 3875\n",
      "194 LRt 30793\n",
      "194 LC 32236\n",
      "194 AP 33822\n",
      "194 sp5 50266\n",
      "195\n",
      "195 5N 44749\n",
      "195 7n 4245\n",
      "195 7N 141070\n",
      "195 12N 1438\n",
      "195 Gr 15680\n",
      "195 LVe 21206\n",
      "195 Pn 30038\n",
      "195 SuVe 74893\n",
      "195 VLL 75702\n",
      "195 6N 20900\n",
      "195 Amb 60088\n",
      "195 R 13102\n",
      "195 Tz 3195\n",
      "195"
     ]
    },
    {
     "name": "stderr",
     "output_type": "stream",
     "text": [
      "No scoremap for 6N section 194\n",
      "No scoremap for RtTg section 195\n"
     ]
    },
    {
     "name": "stdout",
     "output_type": "stream",
     "text": [
      " Sol 11700\n",
      "195 LRt 18974\n",
      "195 LC 87684\n",
      "195 AP 125823\n",
      "195 sp5 140808\n",
      "196\n",
      "196 5N 46680\n",
      "196 7N 180655\n",
      "196 12N 7278\n",
      "196 Gr 27340\n",
      "196 LVe 4765\n",
      "196 Pn 29282\n",
      "196 SuVe 20988\n",
      "196 VLL 67626\n",
      "196 6N 1425\n",
      "196 Amb 9920\n",
      "196 R 21178\n",
      "196 Tz 4636\n",
      "196 Sol 16159\n",
      "196 RtTg 3816\n",
      "196 LRt 29648\n",
      "196 LC 39564\n",
      "196 AP 43933\n",
      "196 sp5 21897\n",
      "197\n",
      "197 5N 31390\n",
      "197 7n 2001\n",
      "197 7N 107170\n",
      "197 12N 5510\n",
      "197 Gr 10861\n",
      "197 LVe 12296\n",
      "197 Pn 25251\n",
      "197 SuVe 35151\n",
      "197 VLL 63930\n",
      "197 6N 15944\n",
      "197 Amb 46748\n",
      "197"
     ]
    },
    {
     "name": "stderr",
     "output_type": "stream",
     "text": [
      "No scoremap for 7n section 196\n",
      "No scoremap for Tz section 197\n"
     ]
    },
    {
     "name": "stdout",
     "output_type": "stream",
     "text": [
      " R 11825\n",
      "197 Sol 16663\n",
      "197 LRt 17357\n",
      "197 LC 63722\n",
      "197 AP 63665\n",
      "197 sp5 79698\n",
      "198\n",
      "198"
     ]
    },
    {
     "name": "stderr",
     "output_type": "stream",
     "text": [
      "No scoremap for RtTg section 197\n",
      "No scoremap for 7n section 198\n"
     ]
    },
    {
     "name": "stdout",
     "output_type": "stream",
     "text": [
      " 5N 45843\n",
      "198 7N 166571\n",
      "198 12N 11718\n",
      "198 Gr 14007\n",
      "198 LVe 4116\n",
      "198 Pn 38827\n",
      "198 SuVe 10575\n",
      "198 VLL 74683\n",
      "198 6N 1106\n",
      "198 Amb 7559\n",
      "198 R 22613\n",
      "198 Tz 2066\n",
      "198 Sol 18602\n",
      "198 RtTg 10682\n",
      "198 LRt 33197\n",
      "198 LC 46933\n",
      "198 AP 51300\n",
      "198 sp5 20246\n",
      "199\n",
      "199 5N 27948\n",
      "199 7n 1396\n",
      "199 7N 119865\n",
      "199 12N 5550\n",
      "199 Gr 10006\n",
      "199 LVe 8033\n",
      "199 Pn 41586\n",
      "199 SuVe 31943\n",
      "199 VLL 67949\n",
      "199 6N 12908\n",
      "199 Amb 46612\n",
      "199 R 9011\n",
      "199 Tz 1450\n",
      "199 Sol 15494\n",
      "199 LRt 20175\n",
      "199 LC 90791\n",
      "199 AP 79582\n",
      "199 sp5 110538\n",
      "200\n",
      "200"
     ]
    },
    {
     "name": "stderr",
     "output_type": "stream",
     "text": [
      "No scoremap for RtTg section 199\n",
      "No scoremap for 7n section 200\n"
     ]
    },
    {
     "name": "stdout",
     "output_type": "stream",
     "text": [
      " 5N 58253\n",
      "200 7N 73222\n",
      "200 12N 58744\n",
      "200 Gr 7430\n",
      "200 Pn 27529\n",
      "200 SuVe 3505\n",
      "200"
     ]
    },
    {
     "name": "stderr",
     "output_type": "stream",
     "text": [
      "No scoremap for LVe section 200\n",
      "No scoremap for 6N section 200\n"
     ]
    },
    {
     "name": "stdout",
     "output_type": "stream",
     "text": [
      " VLL 34326\n",
      "200 Amb 1992\n",
      "200 R 19281\n",
      "200 Sol 13448\n",
      "200 RtTg 47223\n",
      "200 LRt 8017\n",
      "200 LC 37257\n",
      "200 AP 40242\n",
      "200 sp5 9351\n",
      "201\n",
      "201 5N 31175\n",
      "201 7n 1692\n",
      "201"
     ]
    },
    {
     "name": "stderr",
     "output_type": "stream",
     "text": [
      "No scoremap for Tz section 200\n",
      "No scoremap for 12N section 201\n"
     ]
    },
    {
     "name": "stdout",
     "output_type": "stream",
     "text": [
      " 7N 114952\n",
      "201 Gr 10015\n",
      "201 LVe 8573\n",
      "201 Pn 64451\n",
      "201 SuVe 54303\n",
      "201 VLL 72920\n",
      "201 6N 17234\n",
      "201 Amb 106545\n",
      "201 R 9570\n",
      "201"
     ]
    },
    {
     "name": "stderr",
     "output_type": "stream",
     "text": [
      "No scoremap for Tz section 201\n",
      "No scoremap for RtTg section 201\n"
     ]
    },
    {
     "name": "stdout",
     "output_type": "stream",
     "text": [
      " Sol 15343\n",
      "201 LRt 23949\n",
      "201 LC 142318\n",
      "201 AP 136416\n",
      "201 sp5 166883\n",
      "202\n",
      "202 5N 78409\n",
      "202 7n 2054\n",
      "202 7N 169262\n",
      "202 12N 12812\n",
      "202 Gr 16288\n",
      "202 LVe 5618\n",
      "202 Pn 51532\n",
      "202 SuVe 23349\n",
      "202 VLL 95390\n",
      "202 Amb 10384\n",
      "202"
     ]
    },
    {
     "name": "stderr",
     "output_type": "stream",
     "text": [
      "No scoremap for 6N section 202\n",
      "No scoremap for Tz section 202\n"
     ]
    },
    {
     "name": "stdout",
     "output_type": "stream",
     "text": [
      " R 15995\n",
      "202 Sol 18183\n",
      "202 RtTg 3327\n",
      "202 LRt 32860\n",
      "202 LC 51172\n",
      "202 AP 56816\n",
      "202 sp5 13876\n",
      "203\n",
      "203 5N 40033\n",
      "203 7n 4962\n",
      "203 7N 135335\n",
      "203 12N 1246\n",
      "203 Gr 8589\n",
      "203 LVe 21704\n",
      "203 Pn 69227\n",
      "203 SuVe 43035\n",
      "203 VLL 78536\n",
      "203 6N 25777\n",
      "203 Amb 93239\n",
      "203 R 9162\n",
      "203 Tz 1835\n",
      "203 Sol 13675\n",
      "203 LRt 27130\n",
      "203 LC 92604\n",
      "203 AP 112717\n",
      "203 sp5 94396\n",
      "204\n",
      "204"
     ]
    },
    {
     "name": "stderr",
     "output_type": "stream",
     "text": [
      "No scoremap for RtTg section 203\n",
      "No scoremap for 7n section 204\n"
     ]
    },
    {
     "name": "stdout",
     "output_type": "stream",
     "text": [
      " 5N 74321\n",
      "204 7N 179588\n",
      "204 12N 4680\n",
      "204 Gr 19686\n",
      "204 LVe 7941\n",
      "204 Pn 63519\n",
      "204 SuVe 35291\n",
      "204 VLL 121927\n",
      "204 Amb 18261\n",
      "204"
     ]
    },
    {
     "name": "stderr",
     "output_type": "stream",
     "text": [
      "No scoremap for 6N section 204\n",
      "No scoremap for Tz section 204\n"
     ]
    },
    {
     "name": "stdout",
     "output_type": "stream",
     "text": [
      " R 15484\n",
      "204 Sol 16555\n",
      "204 LRt 46235\n",
      "204 LC 63949\n",
      "204 AP 83198\n",
      "204 sp5 19366\n",
      "205\n",
      "205 5N 43491\n",
      "205 7n 3905\n",
      "205 7N 144227\n",
      "205 12N 1509\n",
      "205 Gr 3880\n",
      "205 LVe 24712\n",
      "205 Pn 90503\n",
      "205 SuVe 52007\n",
      "205 VLL 85084\n",
      "205 6N 29254\n",
      "205 Amb 92775\n",
      "205 R 4546\n",
      "205 Tz 3602\n",
      "205"
     ]
    },
    {
     "name": "stderr",
     "output_type": "stream",
     "text": [
      "No scoremap for RtTg section 204\n",
      "No scoremap for RtTg section 205\n"
     ]
    },
    {
     "name": "stdout",
     "output_type": "stream",
     "text": [
      " Sol 11549\n",
      "205 LRt 43632\n",
      "205 LC 112535\n",
      "205 AP 148523\n",
      "205 sp5 136327\n",
      "206\n",
      "206 5N 96200\n",
      "206 7N 186980\n",
      "206 12N 7926\n",
      "206 Gr 22953\n",
      "206 LVe 15054\n",
      "206 Pn 63877\n",
      "206 SuVe 31785\n",
      "206"
     ]
    },
    {
     "name": "stderr",
     "output_type": "stream",
     "text": [
      "No scoremap for 7n section 206\n",
      "No scoremap for 6N section 206\n"
     ]
    },
    {
     "name": "stdout",
     "output_type": "stream",
     "text": [
      " VLL 105752\n",
      "206 Amb 17116\n",
      "206 R 8212\n",
      "206"
     ]
    },
    {
     "name": "stderr",
     "output_type": "stream",
     "text": [
      "No scoremap for Tz section 206\n",
      "No scoremap for RtTg section 206\n"
     ]
    },
    {
     "name": "stdout",
     "output_type": "stream",
     "text": [
      " Sol 13833\n",
      "206 LRt 53956\n",
      "206 LC 43811\n",
      "206 AP 68219\n",
      "206 sp5 40741\n",
      "207\n",
      "207 5N 96331\n",
      "207 7n 5975\n",
      "207 7N 119588\n",
      "207 12N 39320\n",
      "207 Gr 19583\n",
      "207 LVe 1723\n",
      "207 Pn 62672\n",
      "207 SuVe 14312\n",
      "207 VLL 69681\n",
      "207 6N 2609\n",
      "207 Amb 5405\n",
      "207 R 17365\n",
      "207 Sol 14823\n",
      "207 RtTg 9463\n",
      "207 LRt 11107\n",
      "207 LC 84751\n",
      "207 AP 57479\n",
      "207 sp5 22982\n",
      "208\n",
      "208 5N 152235\n",
      "208 7n 2295\n",
      "208 7N 138158\n",
      "208 12N 20568\n",
      "208 Gr 18106\n",
      "208 LVe 2681\n",
      "208 Pn 57852\n",
      "208 SuVe 19382\n",
      "208 VLL 116453\n",
      "208 6N 1343\n",
      "208 Amb 12798\n",
      "208"
     ]
    },
    {
     "name": "stderr",
     "output_type": "stream",
     "text": [
      "No scoremap for Tz section 207\n",
      "No scoremap for Tz section 208\n"
     ]
    },
    {
     "name": "stdout",
     "output_type": "stream",
     "text": [
      " R 6773\n",
      "208 Sol 13598\n",
      "208 RtTg 1239\n",
      "208 LRt 16962\n",
      "208 LC 64629\n",
      "208 AP 50409\n",
      "208 sp5 17704\n",
      "209\n",
      "209 5N 152756\n",
      "209 7n 3967\n",
      "209 7N 139107\n",
      "209 12N 4538\n",
      "209 Gr 15889\n",
      "209 LVe 5161\n",
      "209 Pn 75565\n",
      "209 SuVe 33573\n",
      "209 VLL 99563\n",
      "209 6N 3259\n",
      "209 Amb 12677\n",
      "209 R 7779\n",
      "209"
     ]
    },
    {
     "name": "stderr",
     "output_type": "stream",
     "text": [
      "No scoremap for Tz section 209\n",
      "No scoremap for RtTg section 209\n"
     ]
    },
    {
     "name": "stdout",
     "output_type": "stream",
     "text": [
      " Sol 11219\n",
      "209 LRt 26207\n",
      "209 LC 86652\n",
      "209 AP 90154\n",
      "209 sp5 22474\n",
      "210\n",
      "210 5N 112962\n",
      "210 7n 3054\n",
      "210 7N 133779\n",
      "210 12N 20413\n",
      "210 Gr 17366\n",
      "210 LVe 3274\n",
      "210 Pn 68334\n",
      "210 SuVe 20529\n",
      "210 VLL 97806\n",
      "210 6N 1740\n",
      "210 Amb 10757\n",
      "210 R 4402\n",
      "210"
     ]
    },
    {
     "name": "stderr",
     "output_type": "stream",
     "text": [
      "No scoremap for Tz section 210\n",
      "No scoremap for RtTg section 210\n"
     ]
    },
    {
     "name": "stdout",
     "output_type": "stream",
     "text": [
      " Sol 15626\n",
      "210 LRt 15756\n",
      "210 LC 87591\n",
      "210 AP 60892\n",
      "210 sp5 22811\n",
      "211\n",
      "211 5N 128973\n",
      "211 7n 2647\n",
      "211 7N 150660\n",
      "211 12N 4165\n",
      "211 Gr 19491\n",
      "211 LVe 5001\n",
      "211 Pn 67912\n",
      "211 SuVe 39769\n",
      "211 VLL 119164\n",
      "211 6N 3451\n",
      "211 Amb 13165\n",
      "211 R 6663\n",
      "211 Sol 15680\n",
      "211 RtTg 1418\n",
      "211 LRt 13049\n",
      "211 LC 118382\n",
      "211 AP 134491\n",
      "211 sp5 23885\n",
      "212\n",
      "212"
     ]
    },
    {
     "name": "stderr",
     "output_type": "stream",
     "text": [
      "No scoremap for Tz section 211\n",
      "No scoremap for 7n section 212\n"
     ]
    },
    {
     "name": "stdout",
     "output_type": "stream",
     "text": [
      " 5N 110284\n",
      "212 7N 177047\n",
      "212 12N 20993\n",
      "212 Gr 36042\n",
      "212 LVe 9372\n",
      "212 Pn 51634\n",
      "212 SuVe 48632\n",
      "212 VLL 58134\n",
      "212 Amb 10021\n",
      "212"
     ]
    },
    {
     "name": "stderr",
     "output_type": "stream",
     "text": [
      "No scoremap for 6N section 212\n",
      "No scoremap for Tz section 212\n"
     ]
    },
    {
     "name": "stdout",
     "output_type": "stream",
     "text": [
      " R 9545\n",
      "212 Sol 12595\n",
      "212 LRt 15937\n",
      "212 LC 118250\n",
      "212 AP 104090\n",
      "212 sp5 39534\n",
      "213\n",
      "213 5N 91271\n",
      "213 7n 15757\n",
      "213 7N 86673\n",
      "213 12N 2525\n",
      "213 Gr 24210\n",
      "213 LVe 23068\n",
      "213 Pn 79211\n",
      "213 SuVe 69487\n",
      "213 VLL 70683\n",
      "213 6N 42491\n",
      "213 Amb 67959\n",
      "213"
     ]
    },
    {
     "name": "stderr",
     "output_type": "stream",
     "text": [
      "No scoremap for RtTg section 212\n",
      "No scoremap for Tz section 213\n"
     ]
    },
    {
     "name": "stdout",
     "output_type": "stream",
     "text": [
      " R 7987\n",
      "213 Sol 11394\n",
      "213 LRt 14176\n",
      "213 LC 158991\n",
      "213 AP 212508\n",
      "213 sp5 120926\n",
      "214\n",
      "214 5N 102109\n",
      "214 7n 1168\n",
      "214 7N 154852\n",
      "214 12N 4700\n",
      "214 Gr 34257\n",
      "214 LVe 11413\n",
      "214 Pn 28604\n",
      "214 SuVe 24745\n",
      "214"
     ]
    },
    {
     "name": "stderr",
     "output_type": "stream",
     "text": [
      "No scoremap for RtTg section 213\n",
      "No scoremap for 6N section 214\n"
     ]
    },
    {
     "name": "stdout",
     "output_type": "stream",
     "text": [
      " VLL 90930\n",
      "214 Amb 9980\n",
      "214 R 7840\n",
      "214"
     ]
    },
    {
     "name": "stderr",
     "output_type": "stream",
     "text": [
      "No scoremap for Tz section 214\n",
      "No scoremap for RtTg section 214\n"
     ]
    },
    {
     "name": "stdout",
     "output_type": "stream",
     "text": [
      " Sol 14279\n",
      "214 LRt 36938\n",
      "214 LC 69412\n",
      "214 AP 90829\n",
      "214 sp5 29237\n",
      "215\n",
      "215 5N 64298\n",
      "215 7n 14665\n",
      "215 7N 92112\n",
      "215 12N 2924\n",
      "215 Gr 31585\n",
      "215 LVe 12303\n",
      "215 Pn 45548\n",
      "215 SuVe 53770\n",
      "215 VLL 78150\n",
      "215 6N 25224\n",
      "215 Amb 38017\n",
      "215 R 4830\n",
      "215"
     ]
    },
    {
     "name": "stderr",
     "output_type": "stream",
     "text": [
      "No scoremap for Tz section 215\n",
      "No scoremap for RtTg section 215\n"
     ]
    },
    {
     "name": "stdout",
     "output_type": "stream",
     "text": [
      " Sol 13192\n",
      "215 LRt 12788\n",
      "215 LC 186630\n",
      "215 AP 126186\n",
      "215 sp5 131717\n",
      "216\n",
      "216 5N 86120\n",
      "216 7n 1541\n",
      "216 7N 136746\n",
      "216 12N 9188\n",
      "216 Gr 38752\n",
      "216 LVe 10297\n",
      "216 Pn 23604\n",
      "216 SuVe 21134\n",
      "216 VLL 98260\n",
      "216 6N 1527\n",
      "216 Amb 4929\n",
      "216 R 11564\n",
      "216"
     ]
    },
    {
     "name": "stderr",
     "output_type": "stream",
     "text": [
      "No scoremap for Tz section 216\n",
      "No scoremap for RtTg section 216\n"
     ]
    },
    {
     "name": "stdout",
     "output_type": "stream",
     "text": [
      " Sol 13590\n",
      "216 LRt 22279\n",
      "216 LC 89463\n",
      "216 AP 64186\n",
      "216 sp5 27569\n",
      "217\n",
      "217 5N 52167\n",
      "217 7n 10593\n",
      "217 7N 110981\n",
      "217 12N 1394\n",
      "217 Gr 21657\n",
      "217 LVe 17220\n",
      "217 Pn 41764\n",
      "217 SuVe 28321\n",
      "217 VLL 97881\n",
      "217 6N 21708\n",
      "217 Amb 50913\n",
      "217 R 2884\n",
      "217"
     ]
    },
    {
     "name": "stderr",
     "output_type": "stream",
     "text": [
      "No scoremap for Tz section 217\n",
      "No scoremap for RtTg section 217\n"
     ]
    },
    {
     "name": "stdout",
     "output_type": "stream",
     "text": [
      " Sol 14667\n",
      "217 LRt 13112\n",
      "217 LC 154404\n",
      "217 AP 118231\n",
      "217 sp5 120314\n",
      "218\n",
      "218 5N 109601\n",
      "218 7n 2047\n",
      "218 7N 179065\n",
      "218 12N 23933\n",
      "218 Gr 43362\n",
      "218 LVe 5596\n",
      "218 Pn 28814\n",
      "218 SuVe 12921\n",
      "218 VLL 67952\n",
      "218 Amb 8720\n",
      "218"
     ]
    },
    {
     "name": "stderr",
     "output_type": "stream",
     "text": [
      "No scoremap for 6N section 218\n",
      "No scoremap for Tz section 218\n"
     ]
    },
    {
     "name": "stdout",
     "output_type": "stream",
     "text": [
      " R 7920\n",
      "218 Sol 8576\n",
      "218 RtTg 1686\n",
      "218 LRt 23053\n",
      "218 LC 74376\n",
      "218 AP 61442\n",
      "218 sp5 35248\n",
      "219\n",
      "219 5N 67627\n",
      "219 7n 6134\n",
      "219 7N 96393\n",
      "219 12N 5642\n",
      "219 Gr 35618\n",
      "219 LVe 36162\n",
      "219 Pn 51486\n",
      "219 SuVe 58448\n",
      "219 VLL 92021\n",
      "219 6N 29285\n",
      "219 Amb 64197\n",
      "219 R 8705\n",
      "219 Tz 1331\n",
      "219 Sol 14624\n",
      "219 LRt 20648\n",
      "219 LC 185153\n",
      "219 AP 110074\n",
      "219 sp5 145936\n",
      "220\n",
      "220 5N 88170\n",
      "220 7n 1383\n",
      "220 7N 118781\n",
      "220 12N 15295\n",
      "220 Gr 47687\n",
      "220 LVe 9064\n",
      "220 Pn 30949\n",
      "220 SuVe 12319\n",
      "220 VLL 80465\n",
      "220 6N 2487\n",
      "220 Amb 6331\n",
      "220"
     ]
    },
    {
     "name": "stderr",
     "output_type": "stream",
     "text": [
      "No scoremap for RtTg section 219\n",
      "No scoremap for Tz section 220\n"
     ]
    },
    {
     "name": "stdout",
     "output_type": "stream",
     "text": [
      " R 8062\n",
      "220 Sol 12402\n",
      "220 LRt 27337\n",
      "220 LC 71572\n",
      "220 AP 55907\n",
      "220 sp5 19821\n",
      "221\n",
      "221 5N 60835\n",
      "221 7n 3181\n",
      "221 7N 109084\n",
      "221 12N 3837\n",
      "221 Gr 33063\n",
      "221 LVe 29684\n",
      "221 Pn 39460\n",
      "221 SuVe 42739\n",
      "221 VLL 92936\n",
      "221 6N 27244\n",
      "221 Amb 63078\n",
      "221 R 3372\n",
      "221 Tz 2415\n",
      "221"
     ]
    },
    {
     "name": "stderr",
     "output_type": "stream",
     "text": [
      "No scoremap for RtTg section 220\n",
      "No scoremap for RtTg section 221\n"
     ]
    },
    {
     "name": "stdout",
     "output_type": "stream",
     "text": [
      " Sol 17708\n",
      "221 LRt 27356\n",
      "221 LC 126327\n",
      "221 AP 114166\n",
      "221 sp5 103823\n",
      "222\n",
      "222 5N 85699\n",
      "222 7n 4640\n",
      "222 7N 150116\n",
      "222 12N 24387\n",
      "222 Gr 30364\n",
      "222 LVe 13986\n",
      "222 Pn 25921\n",
      "222 SuVe 11750\n",
      "222 VLL 52792\n",
      "222 6N 2834\n",
      "222 Amb 16827\n",
      "222 R 10942\n",
      "222 Sol 18350\n",
      "222 RtTg 1397\n",
      "222 LRt 34763\n",
      "222 LC 49655\n",
      "222 AP 52757\n",
      "222 sp5 19580\n",
      "223\n",
      "223 5N 37758\n",
      "223 7n 1157\n",
      "223 7N 111170\n",
      "223 12N 1824\n",
      "223 Gr 26229\n",
      "223 LVe 18113\n",
      "223 Pn 40777\n",
      "223 SuVe 51913\n",
      "223 VLL 99695\n",
      "223 6N 33777\n",
      "223 Amb 67715\n",
      "223 R 6401\n",
      "223 Tz 2125\n",
      "223"
     ]
    },
    {
     "name": "stderr",
     "output_type": "stream",
     "text": [
      "No scoremap for Tz section 222\n",
      "No scoremap for RtTg section 223\n"
     ]
    },
    {
     "name": "stdout",
     "output_type": "stream",
     "text": [
      " Sol 20066\n",
      "223 LRt 20645\n",
      "223 LC 178293\n",
      "223 AP 90724\n",
      "223 sp5 149089\n",
      "224\n",
      "224 5N 83360\n",
      "224 7N 278714\n",
      "224 12N 12366\n",
      "224"
     ]
    },
    {
     "name": "stderr",
     "output_type": "stream",
     "text": [
      "No scoremap for 7n section 224\n",
      "No scoremap for LVe section 224\n"
     ]
    },
    {
     "name": "stdout",
     "output_type": "stream",
     "text": [
      " Gr 77630\n",
      "224 Pn 39187\n",
      "224 SuVe 68954\n",
      "224 VLL 70434\n",
      "224 Amb 6374\n",
      "224"
     ]
    },
    {
     "name": "stderr",
     "output_type": "stream",
     "text": [
      "No scoremap for 6N section 224\n",
      "No scoremap for Tz section 224\n"
     ]
    },
    {
     "name": "stdout",
     "output_type": "stream",
     "text": [
      " R 8573\n",
      "224 Sol 9893\n",
      "224 RtTg 1018\n",
      "224 LRt 21588\n",
      "224 LC 106238\n",
      "224 AP 48976\n",
      "224 sp5 14292\n",
      "225\n",
      "225 5N 55907\n",
      "225 7n 2929\n",
      "225 7N 107420\n",
      "225 12N 5752\n",
      "225 Gr 42931\n",
      "225 LVe 32067\n",
      "225 Pn 53984\n",
      "225 SuVe 85726\n",
      "225 VLL 66267\n",
      "225 6N 30231\n",
      "225 Amb 88813\n",
      "225 R 12952\n",
      "225 Tz 1275\n",
      "225 Sol 16094\n",
      "225 LRt 19535\n",
      "225 LC 161169\n",
      "225 AP 108972\n",
      "225 sp5 145369\n",
      "226\n",
      "226"
     ]
    },
    {
     "name": "stderr",
     "output_type": "stream",
     "text": [
      "No scoremap for RtTg section 225\n",
      "No scoremap for 7n section 226\n"
     ]
    },
    {
     "name": "stdout",
     "output_type": "stream",
     "text": [
      " 5N 88943\n",
      "226 7N 202664\n",
      "226 12N 11022\n",
      "226 Gr 49400\n",
      "226 LVe 2252\n",
      "226 Pn 49256\n",
      "226 SuVe 46874\n",
      "226 VLL 110027\n",
      "226 Amb 12532\n",
      "226"
     ]
    },
    {
     "name": "stderr",
     "output_type": "stream",
     "text": [
      "No scoremap for 6N section 226\n",
      "No scoremap for Tz section 226\n"
     ]
    },
    {
     "name": "stdout",
     "output_type": "stream",
     "text": [
      " R 8339\n",
      "226 Sol 16565\n",
      "226 RtTg 2577\n",
      "226 LRt 37083\n",
      "226 LC 67073\n",
      "226 AP 51316\n",
      "226 sp5 18720\n",
      "227\n",
      "227 5N 36974\n",
      "227 7n 2692\n",
      "227 7N 114612\n",
      "227 12N 4245\n",
      "227 Gr 40686\n",
      "227 LVe 15173\n",
      "227 Pn 33416\n",
      "227 SuVe 101466\n",
      "227 VLL 73640\n",
      "227 6N 23327\n",
      "227 Amb 76231\n",
      "227 R 10344\n",
      "227 Tz 2114\n",
      "227 Sol 11955\n",
      "227 LRt 14541\n",
      "227 LC 151631\n",
      "227 AP 63253\n",
      "227 sp5 110893\n",
      "228\n",
      "228"
     ]
    },
    {
     "name": "stderr",
     "output_type": "stream",
     "text": [
      "No scoremap for RtTg section 227\n",
      "No scoremap for 7n section 228\n"
     ]
    },
    {
     "name": "stdout",
     "output_type": "stream",
     "text": [
      " 5N 75369\n",
      "228 7N 182473\n",
      "228 12N 10422\n",
      "228 Gr 32760\n",
      "228 LVe 1504\n",
      "228 Pn 55976\n",
      "228 SuVe 42971\n",
      "228 VLL 130336\n",
      "228 Amb 14442\n",
      "228 R 12946\n",
      "228 Tz 4368\n",
      "228 Sol 16707\n",
      "228 RtTg 2931\n",
      "228 LRt 25657\n",
      "228 LC 80792\n",
      "228 AP 43745\n",
      "228 sp5 12471\n",
      "229\n",
      "229 5N 20233\n",
      "229 7n 2355\n",
      "229 7N 114910\n",
      "229 12N 4267\n",
      "229 Gr 24327\n",
      "229 LVe 9569\n",
      "229 Pn 48880\n",
      "229 SuVe 47188\n",
      "229 VLL 100017\n",
      "229 6N 21454\n",
      "229 Amb 71230\n",
      "229 R 8759\n",
      "229 Tz 1859\n",
      "229"
     ]
    },
    {
     "name": "stderr",
     "output_type": "stream",
     "text": [
      "No scoremap for 6N section 228\n",
      "No scoremap for RtTg section 229\n"
     ]
    },
    {
     "name": "stdout",
     "output_type": "stream",
     "text": [
      " Sol 15170\n",
      "229 LRt 22494\n",
      "229 LC 135288\n",
      "229 AP 80854\n",
      "229 sp5 137690\n",
      "230\n",
      "230 5N 73316\n",
      "230 7N 210632\n",
      "230 12N 13100\n",
      "230 Gr 63518\n",
      "230 LVe 2974\n",
      "230 Pn 53598\n",
      "230 SuVe 55583\n",
      "230"
     ]
    },
    {
     "name": "stderr",
     "output_type": "stream",
     "text": [
      "No scoremap for 7n section 230\n",
      "No scoremap for 6N section 230\n"
     ]
    },
    {
     "name": "stdout",
     "output_type": "stream",
     "text": [
      " VLL 86089\n",
      "230 Amb 17300\n",
      "230 R 37389\n",
      "230 Tz 3937\n",
      "230 Sol 13380\n",
      "230 RtTg 3085\n",
      "230 LRt 24254\n",
      "230 LC 84860\n",
      "230 AP 35133\n",
      "230 sp5 22323\n",
      "231\n",
      "231 5N 50445\n",
      "231 7n 1537\n",
      "231 7N 218035\n",
      "231 12N 2739\n",
      "231 Gr 22591\n",
      "231 LVe 35156\n",
      "231 Pn 39735\n",
      "231 SuVe 74719\n",
      "231 VLL 64415\n",
      "231 6N 22635\n",
      "231 Amb 75507\n",
      "231 R 14364\n",
      "231 Tz 3877\n",
      "231 Sol 6799\n",
      "231 LRt 21587\n",
      "231 LC 41549\n",
      "231 AP 92096\n",
      "231 sp5 93147\n",
      "232\n",
      "232"
     ]
    },
    {
     "name": "stderr",
     "output_type": "stream",
     "text": [
      "No scoremap for RtTg section 231\n",
      "No scoremap for 7n section 232\n"
     ]
    },
    {
     "name": "stdout",
     "output_type": "stream",
     "text": [
      " 5N 82248\n",
      "232 7N 175750\n",
      "232 12N 12824\n",
      "232 Gr 51440\n",
      "232 LVe 3377\n",
      "232 Pn 65098\n",
      "232 SuVe 42655\n",
      "232 VLL 94981\n",
      "232 6N 1108\n",
      "232 Amb 11108\n",
      "232 R 27969\n",
      "232 Tz 6342\n",
      "232 Sol 12344\n",
      "232 RtTg 2418\n",
      "232 LRt 24457\n",
      "232 LC 70152\n",
      "232 AP 40576\n",
      "232 sp5 11013\n",
      "233\n",
      "233 5N 44982\n",
      "233 7n 4233\n",
      "233 7N 109604\n",
      "233 12N 7286\n",
      "233 Gr 31439\n",
      "233 LVe 31611\n",
      "233 Pn 50315\n",
      "233 SuVe 75943\n",
      "233 VLL 89458\n",
      "233 6N 35774\n",
      "233 Amb 58143\n",
      "233 R 16469\n",
      "233 Tz 3776\n",
      "233 Sol 12354\n",
      "233 LRt 31140\n",
      "233 LC 115088\n",
      "233 AP 75772\n",
      "233 sp5 122992\n",
      "234\n",
      "234"
     ]
    },
    {
     "name": "stderr",
     "output_type": "stream",
     "text": [
      "No scoremap for RtTg section 233\n",
      "No scoremap for 7n section 234\n"
     ]
    },
    {
     "name": "stdout",
     "output_type": "stream",
     "text": [
      " 5N 78115\n",
      "234 7N 184519\n",
      "234 12N 2784\n",
      "234 Gr 52591\n",
      "234 LVe 3276\n",
      "234 Pn 68093\n",
      "234 SuVe 61643\n",
      "234 VLL 124896\n",
      "234 6N 1329\n",
      "234 Amb 14380\n",
      "234 R 33710\n",
      "234 Tz 7875\n",
      "234 Sol 12115\n",
      "234 RtTg 2654\n",
      "234 LRt 21357\n",
      "234 LC 67153\n",
      "234 AP 44824\n",
      "234 sp5 15157\n",
      "235\n",
      "235 5N 20522\n",
      "235 7n 3443\n",
      "235 7N 176986\n",
      "235 12N 1293\n",
      "235 Gr 37176\n",
      "235 LVe 16629\n",
      "235 Pn 50509\n",
      "235 SuVe 80949\n",
      "235 VLL 98756\n",
      "235 6N 44778\n",
      "235 Amb 112957\n",
      "235 R 11049\n",
      "235 Tz 6250\n",
      "235 Sol 11608\n",
      "235 LRt 28484\n",
      "235 LC 180462\n",
      "235 AP 77589\n",
      "235 sp5 186539\n",
      "236\n",
      "236 5N 53590\n",
      "236 7n 1552\n",
      "236 7N 233706\n",
      "236 12N 3567\n",
      "236 Gr 73543\n",
      "236 LVe 12469\n",
      "236 Pn 60897\n",
      "236 SuVe 48975\n",
      "236"
     ]
    },
    {
     "name": "stderr",
     "output_type": "stream",
     "text": [
      "No scoremap for RtTg section 235\n",
      "No scoremap for 6N section 236\n"
     ]
    },
    {
     "name": "stdout",
     "output_type": "stream",
     "text": [
      " VLL 55350\n",
      "236 Amb 18241\n",
      "236 R 26215\n",
      "236 Tz 8364\n",
      "236 Sol 16692\n",
      "236 LRt 68657\n",
      "236 LC 79818\n",
      "236 AP 55685\n",
      "236 sp5 72159\n",
      "237\n",
      "237 5N 50306\n",
      "237 7n 9416\n",
      "237 7N 139051\n",
      "237 12N 4922\n",
      "237 Gr 44870\n",
      "237 LVe 25643\n",
      "237 Pn 53609\n",
      "237 SuVe 98716\n",
      "237 VLL 81572\n",
      "237 6N 45690\n",
      "237 Amb 57819\n",
      "237 R 33968\n",
      "237 Tz 7475\n",
      "237"
     ]
    },
    {
     "name": "stderr",
     "output_type": "stream",
     "text": [
      "No scoremap for RtTg section 236\n",
      "No scoremap for RtTg section 237\n"
     ]
    },
    {
     "name": "stdout",
     "output_type": "stream",
     "text": [
      " Sol 5905\n",
      "237 LRt 21851\n",
      "237 LC 125399\n",
      "237 AP 78443\n",
      "237 sp5 108957\n",
      "238\n",
      "238 5N 71664\n",
      "238 7n 2670\n",
      "238 7N 119201\n",
      "238 12N 87807\n",
      "238 Gr 27730\n",
      "238 LVe 1239\n",
      "238 Pn 30540\n",
      "238 SuVe 5140\n",
      "238 VLL 47424\n",
      "238 6N 1208\n",
      "238 Amb 6695\n",
      "238 R 29331\n",
      "238 Tz 7200\n",
      "238 Sol 4768\n",
      "238 RtTg 26788\n",
      "238 LRt 14485\n",
      "238 LC 27637\n",
      "238 AP 29750\n",
      "238 sp5 15450\n",
      "239\n",
      "239 5N 20052\n",
      "239 7n 6526\n",
      "239 7N 145962\n",
      "239 12N 11757\n",
      "239 Gr 24191\n",
      "239 LVe 11660\n",
      "239 Pn 22220\n",
      "239 SuVe 40286\n",
      "239 VLL 63186\n",
      "239 6N 21028\n",
      "239 Amb 30788\n",
      "239 R 36911\n",
      "239 Tz 6273\n",
      "239 Sol 4335\n",
      "239 LRt 13925\n",
      "239 LC 83117\n",
      "239 AP 31430\n",
      "239 sp5 58801\n",
      "240\n",
      "240 5N 89330\n",
      "240 7n 2127\n",
      "240 7N 173310\n",
      "240 12N 31330\n",
      "240 Gr 38711\n",
      "240 LVe 1386\n",
      "240 Pn 47184\n",
      "240 SuVe 16012\n",
      "240 VLL 104626\n",
      "240 6N 1126\n",
      "240 Amb 6434\n",
      "240 R 24607\n",
      "240 Tz 9541\n",
      "240 Sol 6972\n",
      "240 RtTg 8728\n",
      "240 LRt 17390\n",
      "240 LC 44717\n",
      "240 AP 35288\n",
      "240 sp5 13712\n",
      "241\n",
      "241 5N 33843\n",
      "241 7n 5803\n",
      "241 7N 137182\n",
      "241 12N 1764\n",
      "241 Gr 31797\n",
      "241 LVe 13588\n",
      "241 Pn 56177\n",
      "241 SuVe 45609\n",
      "241 VLL 98823\n",
      "241 6N 50136\n",
      "241 Amb 48366\n",
      "241 R 22183\n",
      "241 Tz 9960\n",
      "241"
     ]
    },
    {
     "name": "stderr",
     "output_type": "stream",
     "text": [
      "No scoremap for RtTg section 239\n",
      "No scoremap for RtTg section 241\n"
     ]
    },
    {
     "name": "stdout",
     "output_type": "stream",
     "text": [
      " Sol 8233\n",
      "241 LRt 22058\n",
      "241 LC 171185\n",
      "241 AP 69506\n",
      "241 sp5 145593\n",
      "242\n",
      "242 5N 138419\n",
      "242 7n 2272\n",
      "242 7N 235300\n",
      "242 12N 47830\n",
      "242 Gr 39320\n",
      "242 LVe 2063\n",
      "242 Pn 37137\n",
      "242 SuVe 19049\n",
      "242 VLL 70740\n",
      "242 Amb 13505\n",
      "242 R 23994\n",
      "242 Tz 10403\n",
      "242 Sol 7356\n",
      "242 RtTg 6583\n",
      "242 LRt 34334\n",
      "242 LC 35637\n",
      "242 AP 33866\n",
      "242 sp5 18758\n",
      "243\n",
      "243 5N 26456\n",
      "243 7n 10699\n",
      "243 7N 30270\n",
      "243 12N 3661\n",
      "243 Gr 6162\n",
      "243 LVe 35195\n",
      "243 Pn 79565\n",
      "243 SuVe 8910\n",
      "243 VLL 39772\n",
      "243 6N 33839\n",
      "243 Amb 63943\n",
      "243 R 15674\n",
      "243 Tz 10639\n",
      "243"
     ]
    },
    {
     "name": "stderr",
     "output_type": "stream",
     "text": [
      "No scoremap for 6N section 242\n",
      "No scoremap for RtTg section 243\n"
     ]
    },
    {
     "name": "stdout",
     "output_type": "stream",
     "text": [
      " Sol 10493\n",
      "243 LRt 58828\n",
      "243 LC 161472\n",
      "243 AP 56783\n",
      "243 sp5 205716\n",
      "244\n",
      "244 5N 113739\n",
      "244 7n 1646\n",
      "244 7N 238162\n",
      "244 12N 7024\n",
      "244 Gr 48647\n",
      "244 LVe 6780\n",
      "244 Pn 47336\n",
      "244 SuVe 48348\n",
      "244 VLL 74489\n",
      "244 6N 1588\n",
      "244 Amb 17124\n",
      "244 R 22171\n",
      "244 Tz 10246\n",
      "244 Sol 5848\n",
      "244 RtTg 2252\n",
      "244 LRt 35851\n",
      "244 LC 34927\n",
      "244 AP 33159\n",
      "244 sp5 16578\n",
      "245\n",
      "245 5N 22565\n",
      "245 7n 8482\n",
      "245 7N 37304\n",
      "245 12N 1951\n",
      "245 Gr 8039\n",
      "245 LVe 32476\n",
      "245 Pn 52677\n",
      "245 SuVe 6826\n",
      "245 VLL 25736\n",
      "245 6N 32393\n",
      "245 Amb 52472\n",
      "245 R 13314\n",
      "245 Tz 7768\n",
      "245 Sol 5550\n",
      "245 LRt 44665\n",
      "245 LC 100394\n",
      "245 AP 35742\n",
      "245 sp5 173241\n",
      "246\n",
      "246 5N 102613\n",
      "246 7n 1351\n",
      "246 7N 234667\n",
      "246 12N 8155\n",
      "246 Gr 40321\n",
      "246 LVe 3075\n",
      "246 Pn 37415\n",
      "246 SuVe 18501\n",
      "246 VLL 102784\n",
      "246 6N 3386\n",
      "246 Amb 11452\n",
      "246 R 25548\n",
      "246 Tz 8496\n",
      "246 Sol 5171\n",
      "246 RtTg 5894\n",
      "246 LRt 28492\n",
      "246 LC 61971\n",
      "246 AP 35953\n",
      "246 sp5 17815\n",
      "247\n",
      "247 5N 9312\n",
      "247 7n 4774\n",
      "247"
     ]
    },
    {
     "name": "stderr",
     "output_type": "stream",
     "text": [
      "No scoremap for RtTg section 245\n",
      "No scoremap for 12N section 247\n"
     ]
    },
    {
     "name": "stdout",
     "output_type": "stream",
     "text": [
      " 7N 32454\n",
      "247 Gr 2390\n",
      "247 LVe 9459\n",
      "247 Pn 51126\n",
      "247 SuVe 1216\n",
      "247 VLL 13548\n",
      "247 6N 24196\n",
      "247 Amb 55624\n",
      "247 R 9518\n",
      "247 Tz 6681\n",
      "247 Sol 3841\n",
      "247 LRt 46063\n",
      "247 LC 153741\n",
      "247 AP 29772\n",
      "247 sp5 246648\n",
      "248\n",
      "248 5N 133908\n",
      "248 7n 2030\n",
      "248 7N 250248\n",
      "248 12N 5582\n",
      "248 Gr 36344\n",
      "248 LVe 2580\n",
      "248 Pn 34778\n",
      "248 SuVe 54500\n",
      "248 VLL 112627\n",
      "248 6N 1328\n",
      "248 Amb 20025\n",
      "248 R 30753\n",
      "248 Tz 4843\n",
      "248"
     ]
    },
    {
     "name": "stderr",
     "output_type": "stream",
     "text": [
      "No scoremap for RtTg section 247\n",
      "No scoremap for RtTg section 248\n"
     ]
    },
    {
     "name": "stdout",
     "output_type": "stream",
     "text": [
      " Sol 8238\n",
      "248 LRt 25881\n",
      "248 LC 97702\n",
      "248 AP 28557\n",
      "248 sp5 25511\n",
      "249\n",
      "249 5N 14195\n",
      "249 7n 8779\n",
      "249 7N 8470\n",
      "249"
     ]
    },
    {
     "name": "stderr",
     "output_type": "stream",
     "text": [
      "No scoremap for 12N section 249\n",
      "No scoremap for Gr section 249\n",
      "No scoremap for LVe section 249\n",
      "No scoremap for SuVe section 249\n"
     ]
    },
    {
     "name": "stdout",
     "output_type": "stream",
     "text": [
      " Pn 2721\n",
      "249 Amb 2790\n",
      "249"
     ]
    },
    {
     "name": "stderr",
     "output_type": "stream",
     "text": [
      "No scoremap for VLL section 249\n",
      "No scoremap for 6N section 249\n",
      "No scoremap for Tz section 249\n"
     ]
    },
    {
     "name": "stdout",
     "output_type": "stream",
     "text": [
      " R 8900\n",
      "249 LRt 20609\n",
      "249 LC 367393\n",
      "249 AP 21282\n",
      "249 sp5 8995\n",
      "250\n",
      "250 5N 229918\n",
      "250 7n 1436\n",
      "250 7N 260083\n",
      "250 12N 5066\n",
      "250 Gr 24740\n",
      "250 LVe 6303\n",
      "250 Pn 35287\n",
      "250 SuVe 43725\n",
      "250"
     ]
    },
    {
     "name": "stderr",
     "output_type": "stream",
     "text": [
      "No scoremap for Sol section 249\n",
      "No scoremap for RtTg section 249\n",
      "No scoremap for 6N section 250\n"
     ]
    },
    {
     "name": "stdout",
     "output_type": "stream",
     "text": [
      " VLL 135424\n",
      "250 Amb 8688\n",
      "250 R 11798\n",
      "250 Tz 2695\n",
      "250 Sol 6420\n",
      "250 LRt 18720\n",
      "250 LC 44753\n",
      "250 AP 46156\n",
      "250 sp5 13727\n",
      "251\n",
      "251 5N 19787\n",
      "251 7n 6458\n",
      "251"
     ]
    },
    {
     "name": "stderr",
     "output_type": "stream",
     "text": [
      "No scoremap for RtTg section 250\n",
      "No scoremap for 12N section 251\n"
     ]
    },
    {
     "name": "stdout",
     "output_type": "stream",
     "text": [
      " 7N 32686\n",
      "251"
     ]
    },
    {
     "name": "stderr",
     "output_type": "stream",
     "text": [
      "No scoremap for Gr section 251\n",
      "No scoremap for LVe section 251\n",
      "No scoremap for SuVe section 251\n"
     ]
    },
    {
     "name": "stdout",
     "output_type": "stream",
     "text": [
      " Pn 8404\n",
      "251 Amb 9251\n",
      "251"
     ]
    },
    {
     "name": "stderr",
     "output_type": "stream",
     "text": [
      "No scoremap for VLL section 251\n",
      "No scoremap for 6N section 251\n",
      "No scoremap for Tz section 251\n"
     ]
    },
    {
     "name": "stdout",
     "output_type": "stream",
     "text": [
      " R 5490\n",
      "251 LRt 37727\n",
      "251 LC 315133\n",
      "251 AP 24630\n",
      "251 sp5 15163\n",
      "252\n",
      "252"
     ]
    },
    {
     "name": "stderr",
     "output_type": "stream",
     "text": [
      "No scoremap for Sol section 251\n",
      "No scoremap for RtTg section 251\n",
      "No scoremap for 7n section 252\n"
     ]
    },
    {
     "name": "stdout",
     "output_type": "stream",
     "text": [
      " 5N 180168\n",
      "252 7N 248138\n",
      "252 12N 3957\n",
      "252 Gr 23735\n",
      "252 LVe 1200\n",
      "252 Pn 32891\n",
      "252 SuVe 31376\n",
      "252 VLL 124235\n",
      "252 6N 1183\n",
      "252 Amb 7233\n",
      "252 R 12692\n",
      "252 Tz 1356\n",
      "252 Sol 10720\n",
      "252 LRt 18390\n",
      "252 LC 65086\n",
      "252 AP 44896\n",
      "252 sp5 15308\n",
      "253\n",
      "253 5N 11356\n",
      "253 7n 4077\n",
      "253"
     ]
    },
    {
     "name": "stderr",
     "output_type": "stream",
     "text": [
      "No scoremap for RtTg section 252\n",
      "No scoremap for 12N section 253\n"
     ]
    },
    {
     "name": "stdout",
     "output_type": "stream",
     "text": [
      " 7N 23150\n",
      "253"
     ]
    },
    {
     "name": "stderr",
     "output_type": "stream",
     "text": [
      "No scoremap for Gr section 253\n",
      "No scoremap for LVe section 253\n",
      "No scoremap for SuVe section 253\n"
     ]
    },
    {
     "name": "stdout",
     "output_type": "stream",
     "text": [
      " Pn 12795\n",
      "253 Amb 1037\n",
      "253"
     ]
    },
    {
     "name": "stderr",
     "output_type": "stream",
     "text": [
      "No scoremap for VLL section 253\n",
      "No scoremap for 6N section 253\n",
      "No scoremap for Tz section 253\n"
     ]
    },
    {
     "name": "stdout",
     "output_type": "stream",
     "text": [
      " R 7665\n",
      "253 LRt 14943\n",
      "253 LC 246460\n",
      "253 AP 14010\n",
      "253 sp5 4628\n",
      "254\n",
      "254 5N 116693\n",
      "254 7n 2239\n",
      "254 7N 273945\n",
      "254 12N 10479\n",
      "254 Gr 46487\n",
      "254 LVe 1899\n",
      "254 Pn 36170\n",
      "254 SuVe 44514\n",
      "254 VLL 58126\n",
      "254 6N 1099\n",
      "254 Amb 11898\n",
      "254"
     ]
    },
    {
     "name": "stderr",
     "output_type": "stream",
     "text": [
      "No scoremap for Sol section 253\n",
      "No scoremap for RtTg section 253\n",
      "No scoremap for Tz section 254\n"
     ]
    },
    {
     "name": "stdout",
     "output_type": "stream",
     "text": [
      " R 22002\n",
      "254 Sol 7048\n",
      "254 RtTg 1036\n",
      "254 LRt 27037\n",
      "254 LC 79216\n",
      "254 AP 34282\n",
      "254 sp5 28015\n",
      "255\n",
      "255 5N 40177\n",
      "255 7n 24464\n",
      "255 7N 51874\n",
      "255 12N 4112\n",
      "255 Gr 4875\n",
      "255 LVe 45546\n",
      "255 Pn 56890\n",
      "255 SuVe 10598\n",
      "255 VLL 7021\n",
      "255 6N 44052\n",
      "255 Amb 53307\n",
      "255 R 26485\n",
      "255 Tz 3301\n",
      "255 Sol 6718\n",
      "255 RtTg 1490\n",
      "255 LRt 34373\n",
      "255 LC 167721\n",
      "255 AP 34929\n",
      "255 sp5 211499\n",
      "256\n",
      "256 5N 177292\n",
      "256 7n 2041\n",
      "256 7N 255357\n",
      "256 12N 2242\n",
      "256 Gr 50433\n",
      "256 LVe 6582\n",
      "256 Pn 30472\n",
      "256 SuVe 45237\n",
      "256 VLL 81417\n",
      "256 6N 1832\n",
      "256 Amb 11903\n",
      "256 R 13836\n",
      "256 Tz 1278\n",
      "256 Sol 6640\n",
      "256 LRt 19741\n",
      "256 LC 40149\n",
      "256 AP 32777\n",
      "256 sp5 21146\n",
      "257\n",
      "257 5N 23040\n",
      "257 7n 17203\n",
      "257 7N 76162\n",
      "257 12N 1970\n",
      "257 Gr 4145\n",
      "257 LVe 37384\n",
      "257 Pn 31754\n",
      "257 SuVe 6959\n",
      "257 VLL 15008\n",
      "257 6N 23957\n",
      "257 Amb 39109\n",
      "257 R 8768\n",
      "257 Tz 3212\n",
      "257"
     ]
    },
    {
     "name": "stderr",
     "output_type": "stream",
     "text": [
      "No scoremap for RtTg section 256\n",
      "No scoremap for RtTg section 257\n"
     ]
    },
    {
     "name": "stdout",
     "output_type": "stream",
     "text": [
      " Sol 4976\n",
      "257 LRt 32914\n",
      "257 LC 63598\n",
      "257 AP 19377\n",
      "257 sp5 123791\n",
      "258\n",
      "258 5N 150969\n",
      "258 7n 1288\n",
      "258 7N 272305\n",
      "258 12N 3845\n",
      "258 Gr 31003\n",
      "258 LVe 4728\n",
      "258 Pn 27912\n",
      "258 SuVe 23413\n",
      "258 VLL 97343\n",
      "258 Amb 8696\n",
      "258"
     ]
    },
    {
     "name": "stderr",
     "output_type": "stream",
     "text": [
      "No scoremap for 6N section 258\n",
      "No scoremap for Tz section 258\n"
     ]
    },
    {
     "name": "stdout",
     "output_type": "stream",
     "text": [
      " R 8608\n",
      "258 Sol 10310\n",
      "258 LRt 16514\n",
      "258 LC 42505\n",
      "258 AP 34075\n",
      "258 sp5 18583\n",
      "259\n",
      "259 5N 4967\n",
      "259 7n 9219\n",
      "259"
     ]
    },
    {
     "name": "stderr",
     "output_type": "stream",
     "text": [
      "No scoremap for RtTg section 258\n",
      "No scoremap for 12N section 259\n"
     ]
    },
    {
     "name": "stdout",
     "output_type": "stream",
     "text": [
      " 7N 58291\n",
      "259 Gr 2514\n",
      "259 LVe 24890\n",
      "259 Pn 66771\n",
      "259 SuVe 3653\n",
      "259 VLL 6694\n",
      "259 6N 31531\n",
      "259 Amb 66345\n",
      "259 R 3480\n",
      "259 Tz 5858\n",
      "259 Sol 5324\n",
      "259 LRt 47991\n",
      "259 LC 109073\n",
      "259 AP 27992\n",
      "259 sp5 233404\n",
      "260\n",
      "260 5N 131588\n",
      "260 7n 1961\n",
      "260"
     ]
    },
    {
     "name": "stderr",
     "output_type": "stream",
     "text": [
      "No scoremap for RtTg section 259\n",
      "No scoremap for 12N section 260\n"
     ]
    },
    {
     "name": "stdout",
     "output_type": "stream",
     "text": [
      " 7N 255774\n",
      "260 Gr 42880\n",
      "260 LVe 5741\n",
      "260 Pn 57433\n",
      "260 SuVe 51208\n",
      "260 VLL 77599\n",
      "260 Amb 11757\n",
      "260 R 5115\n",
      "260 Tz 2369\n",
      "260"
     ]
    },
    {
     "name": "stderr",
     "output_type": "stream",
     "text": [
      "No scoremap for 6N section 260\n",
      "No scoremap for RtTg section 260\n"
     ]
    },
    {
     "name": "stdout",
     "output_type": "stream",
     "text": [
      " Sol 13841\n",
      "260 LRt 79148\n",
      "260 LC 70890\n",
      "260 AP 45376\n",
      "260 sp5 97015\n",
      "261\n",
      "262\n",
      "262 5N 202210\n",
      "262 7n 2287\n",
      "262 7N 233041\n",
      "262 12N 1942\n",
      "262 Gr 32939\n",
      "262 LVe 9332\n",
      "262 Pn 31334\n",
      "262 SuVe 48998\n",
      "262 VLL 97344\n",
      "262 6N 1070\n",
      "262 Amb 14342\n",
      "262"
     ]
    },
    {
     "name": "stderr",
     "output_type": "stream",
     "text": [
      "No scoremap for 5N section 261\n",
      "No scoremap for 7n section 261\n",
      "No scoremap for 7N section 261\n",
      "No scoremap for 12N section 261\n",
      "No scoremap for Gr section 261\n",
      "No scoremap for LVe section 261\n",
      "No scoremap for Pn section 261\n",
      "No scoremap for SuVe section 261\n",
      "No scoremap for VLL section 261\n",
      "No scoremap for 6N section 261\n",
      "No scoremap for Amb section 261\n",
      "No scoremap for R section 261\n",
      "No scoremap for Tz section 261\n",
      "No scoremap for Sol section 261\n",
      "No scoremap for RtTg section 261\n",
      "No scoremap for LRt section 261\n",
      "No scoremap for LC section 261\n",
      "No scoremap for AP section 261\n",
      "No scoremap for sp5 section 261\n",
      "No scoremap for Tz section 262\n"
     ]
    },
    {
     "name": "stdout",
     "output_type": "stream",
     "text": [
      " R 12379\n",
      "262 Sol 9258\n",
      "262 LRt 25212\n",
      "262 LC 34035\n",
      "262 AP 27501\n",
      "262 sp5 23440\n",
      "263\n",
      "263"
     ]
    },
    {
     "name": "stderr",
     "output_type": "stream",
     "text": [
      "No scoremap for RtTg section 262\n",
      "No scoremap for 7n section 263\n"
     ]
    },
    {
     "name": "stdout",
     "output_type": "stream",
     "text": [
      " 5N 10589\n",
      "263 7N 74734\n",
      "263 12N 1960\n",
      "263"
     ]
    },
    {
     "name": "stderr",
     "output_type": "stream",
     "text": [
      "No scoremap for Gr section 263\n",
      "No scoremap for LVe section 263\n",
      "No scoremap for Pn section 263\n",
      "No scoremap for SuVe section 263\n",
      "No scoremap for VLL section 263\n",
      "No scoremap for 6N section 263\n",
      "No scoremap for Amb section 263\n",
      "No scoremap for Tz section 263\n"
     ]
    },
    {
     "name": "stdout",
     "output_type": "stream",
     "text": [
      " R 1206\n",
      "263 LRt 25500\n",
      "263 LC 15961\n",
      "263 AP 25970\n",
      "263 sp5 6875\n",
      "264\n",
      "264"
     ]
    },
    {
     "name": "stderr",
     "output_type": "stream",
     "text": [
      "No scoremap for Sol section 263\n",
      "No scoremap for RtTg section 263\n",
      "No scoremap for 7n section 264\n"
     ]
    },
    {
     "name": "stdout",
     "output_type": "stream",
     "text": [
      " 5N 173667\n",
      "264 7N 187847\n",
      "264 12N 2153\n",
      "264 Gr 24846\n",
      "264 LVe 7514\n",
      "264 Pn 38790\n",
      "264 SuVe 27922\n",
      "264 VLL 108772\n",
      "264 Amb 6945\n",
      "264 R 9921\n",
      "264 Tz 1737\n",
      "264"
     ]
    },
    {
     "name": "stderr",
     "output_type": "stream",
     "text": [
      "No scoremap for 6N section 264\n",
      "No scoremap for RtTg section 264\n"
     ]
    },
    {
     "name": "stdout",
     "output_type": "stream",
     "text": [
      " Sol 10558\n",
      "264 LRt 15211\n",
      "264 LC 49589\n",
      "264 AP 31903\n",
      "264 sp5 12387\n",
      "265\n",
      "265 5N 17944\n",
      "265 7n 17072\n",
      "265 7N 60479\n",
      "265 12N 1668\n",
      "265 LVe 12024\n",
      "265 Pn 22512\n",
      "265 SuVe 1301\n",
      "265 VLL 11815\n",
      "265 6N 12454\n",
      "265 Amb 38376\n",
      "265"
     ]
    },
    {
     "name": "stderr",
     "output_type": "stream",
     "text": [
      "No scoremap for Gr section 265\n",
      "No scoremap for Tz section 265\n"
     ]
    },
    {
     "name": "stdout",
     "output_type": "stream",
     "text": [
      " R 6837\n",
      "265 LRt 29396\n",
      "265 LC 23547\n",
      "265 AP 19961\n",
      "265 sp5 57415\n",
      "266\n",
      "266 5N 160498\n",
      "266 7n 1956\n",
      "266 7N 231094\n",
      "266 12N 8301\n",
      "266 Gr 35843\n",
      "266 LVe 9583\n",
      "266 Pn 23306\n",
      "266 SuVe 34147\n",
      "266"
     ]
    },
    {
     "name": "stderr",
     "output_type": "stream",
     "text": [
      "No scoremap for Sol section 265\n",
      "No scoremap for RtTg section 265\n",
      "No scoremap for 6N section 266\n"
     ]
    },
    {
     "name": "stdout",
     "output_type": "stream",
     "text": [
      " VLL 62292\n",
      "266 Amb 7757\n",
      "266 R 13813\n",
      "266 Tz 1816\n",
      "266 Sol 11270\n",
      "266 LRt 31523\n",
      "266 LC 44714\n",
      "266 AP 31465\n",
      "266 sp5 25425\n",
      "267\n",
      "267 5N 29491\n",
      "267 7n 12070\n",
      "267 7N 63654\n",
      "267 12N 2140\n",
      "267 Gr 3858\n",
      "267 LVe 78925\n",
      "267 Pn 29554\n",
      "267 SuVe 14020\n",
      "267 VLL 11448\n",
      "267 6N 22070\n",
      "267 Amb 74823\n",
      "267 R 3516\n",
      "267 Tz 3628\n",
      "267"
     ]
    },
    {
     "name": "stderr",
     "output_type": "stream",
     "text": [
      "No scoremap for RtTg section 266\n",
      "No scoremap for RtTg section 267\n"
     ]
    },
    {
     "name": "stdout",
     "output_type": "stream",
     "text": [
      " Sol 6119\n",
      "267 LRt 41087\n",
      "267 LC 17814\n",
      "267 AP 34074\n",
      "267 sp5 97114\n",
      "268\n",
      "268 5N 182583\n",
      "268 7n 2561\n",
      "268 7N 178945\n",
      "268 12N 2996\n",
      "268 Gr 26976\n",
      "268 LVe 11821\n",
      "268 Pn 23102\n",
      "268 SuVe 34445\n",
      "268 VLL 74770\n",
      "268 Amb 9370\n",
      "268 R 9934\n",
      "268 Tz 1369\n",
      "268"
     ]
    },
    {
     "name": "stderr",
     "output_type": "stream",
     "text": [
      "No scoremap for 6N section 268\n",
      "No scoremap for RtTg section 268\n"
     ]
    },
    {
     "name": "stdout",
     "output_type": "stream",
     "text": [
      " Sol 8864\n",
      "268 LRt 29027\n",
      "268 LC 34953\n",
      "268 AP 23466\n",
      "268 sp5 20370\n",
      "269\n",
      "269 5N 28206\n",
      "269 7n 16824\n",
      "269 7N 40044\n",
      "269 12N 1260\n",
      "269 Gr 2174\n",
      "269 LVe 58518\n",
      "269 Pn 34185\n",
      "269 SuVe 5627\n",
      "269 VLL 7063\n",
      "269 6N 18581\n",
      "269 Amb 41088\n",
      "269 R 8000\n",
      "269 Tz 4515\n",
      "269 Sol 4330\n",
      "269 LRt 22808\n",
      "269 LC 42577\n",
      "269 AP 14981\n",
      "269 sp5 182146\n",
      "270\n",
      "270 5N 138637\n",
      "270 7n 1280\n",
      "270 7N 198130\n",
      "270 12N 2464\n",
      "270 Gr 16646\n",
      "270 LVe 6165\n",
      "270 Pn 18703\n",
      "270 SuVe 19673\n",
      "270"
     ]
    },
    {
     "name": "stderr",
     "output_type": "stream",
     "text": [
      "No scoremap for RtTg section 269\n",
      "No scoremap for 6N section 270\n"
     ]
    },
    {
     "name": "stdout",
     "output_type": "stream",
     "text": [
      " VLL 71385\n",
      "270 Amb 4293\n",
      "270 R 5287\n",
      "270"
     ]
    },
    {
     "name": "stderr",
     "output_type": "stream",
     "text": [
      "No scoremap for Tz section 270\n",
      "No scoremap for RtTg section 270\n"
     ]
    },
    {
     "name": "stdout",
     "output_type": "stream",
     "text": [
      " Sol 7629\n",
      "270 LRt 20537\n",
      "270 LC 24024\n",
      "270 AP 26674\n",
      "270 sp5 14370\n",
      "271\n",
      "271 5N 13242\n",
      "271 7n 14797\n",
      "271 7N 49353\n",
      "271 LVe 23125\n",
      "271 Pn 36225\n",
      "271 SuVe 1218\n",
      "271 VLL 3173\n",
      "271 6N 12189\n",
      "271 Amb 71816\n",
      "271 R 17129\n",
      "271 Tz 4096\n",
      "271"
     ]
    },
    {
     "name": "stderr",
     "output_type": "stream",
     "text": [
      "No scoremap for 12N section 271\n",
      "No scoremap for Gr section 271\n",
      "No scoremap for RtTg section 271\n"
     ]
    },
    {
     "name": "stdout",
     "output_type": "stream",
     "text": [
      " Sol 2177\n",
      "271 LRt 21558\n",
      "271 LC 174015\n",
      "271 AP 34396\n",
      "271 sp5 258770\n",
      "272\n",
      "272 5N 134315\n",
      "272 7n 2276\n",
      "272 7N 209030\n",
      "272 12N 6085\n",
      "272 Gr 26687\n",
      "272 LVe 7283\n",
      "272 Pn 20645\n",
      "272 SuVe 51295\n",
      "272 VLL 58567\n",
      "272 Amb 4550\n",
      "272"
     ]
    },
    {
     "name": "stderr",
     "output_type": "stream",
     "text": [
      "No scoremap for 6N section 272\n",
      "No scoremap for Tz section 272\n"
     ]
    },
    {
     "name": "stdout",
     "output_type": "stream",
     "text": [
      " R 15383\n",
      "272 Sol 8204\n",
      "272 LRt 25532\n",
      "272 LC 57127\n",
      "272 AP 24195\n",
      "272 sp5 30080\n",
      "273\n",
      "273 5N 116288\n",
      "273 7n 3959\n",
      "273 7N 136351\n",
      "273 12N 1379\n",
      "273 Gr 12164\n",
      "273 LVe 6426\n",
      "273 Pn 11614\n",
      "273 SuVe 10822\n",
      "273"
     ]
    },
    {
     "name": "stderr",
     "output_type": "stream",
     "text": [
      "No scoremap for RtTg section 272\n",
      "No scoremap for 6N section 273\n"
     ]
    },
    {
     "name": "stdout",
     "output_type": "stream",
     "text": [
      " VLL 53380\n",
      "273 Amb 2604\n",
      "273 R 14683\n",
      "273"
     ]
    },
    {
     "name": "stderr",
     "output_type": "stream",
     "text": [
      "No scoremap for Tz section 273\n",
      "No scoremap for RtTg section 273\n"
     ]
    },
    {
     "name": "stdout",
     "output_type": "stream",
     "text": [
      " Sol 2985\n",
      "273 LRt 16059\n",
      "273 LC 25754\n",
      "273 AP 35151\n",
      "273 sp5 20644\n",
      "274\n",
      "274 5N 158769\n",
      "274 7n 2948\n",
      "274 7N 172467\n",
      "274 12N 2639\n",
      "274 Gr 19246\n",
      "274 LVe 10428\n",
      "274 Pn 12165\n",
      "274 SuVe 42662\n",
      "274 VLL 63754\n",
      "274 Amb 7945\n",
      "274"
     ]
    },
    {
     "name": "stderr",
     "output_type": "stream",
     "text": [
      "No scoremap for 6N section 274\n",
      "No scoremap for Tz section 274\n"
     ]
    },
    {
     "name": "stdout",
     "output_type": "stream",
     "text": [
      " R 9552\n",
      "274 Sol 4061\n",
      "274 LRt 19866\n",
      "274 LC 41627\n",
      "274 AP 26566\n",
      "274 sp5 21276\n",
      "275\n",
      "275 5N 108589\n",
      "275 7n 4929\n",
      "275 7N 95734\n",
      "275 12N 3134\n",
      "275 Gr 5279\n",
      "275 LVe 14008\n",
      "275 Pn 8843\n",
      "275 SuVe 9015\n",
      "275"
     ]
    },
    {
     "name": "stderr",
     "output_type": "stream",
     "text": [
      "No scoremap for RtTg section 274\n",
      "No scoremap for 6N section 275\n"
     ]
    },
    {
     "name": "stdout",
     "output_type": "stream",
     "text": [
      " VLL 45170\n",
      "275 Amb 4213\n",
      "275 R 13151\n",
      "275"
     ]
    },
    {
     "name": "stderr",
     "output_type": "stream",
     "text": [
      "No scoremap for Tz section 275\n",
      "No scoremap for RtTg section 275\n"
     ]
    },
    {
     "name": "stdout",
     "output_type": "stream",
     "text": [
      " Sol 3890\n",
      "275 LRt 19887\n",
      "275 LC 22060\n",
      "275 AP 16838\n",
      "275 sp5 23587\n",
      "276\n",
      "276 5N 141446\n",
      "276 7n 1346\n",
      "276 7N 164819\n",
      "276 12N 2589\n",
      "276 Gr 12587\n",
      "276 LVe 6348\n",
      "276 Pn 9309\n",
      "276 SuVe 17134\n",
      "276 VLL 64507\n",
      "276 Amb 2532\n",
      "276"
     ]
    },
    {
     "name": "stderr",
     "output_type": "stream",
     "text": [
      "No scoremap for 6N section 276\n",
      "No scoremap for Tz section 276\n"
     ]
    },
    {
     "name": "stdout",
     "output_type": "stream",
     "text": [
      " R 8856\n",
      "276 Sol 2709\n",
      "276 LRt 12413\n",
      "276 LC 33125\n",
      "276 AP 30114\n",
      "276 sp5 17859\n",
      "277\n",
      "277 5N 89232\n",
      "277 7n 5365\n",
      "277 7N 87516\n",
      "277 12N 1469\n",
      "277 Gr 7783\n",
      "277 LVe 10417\n",
      "277 Pn 10823\n",
      "277 SuVe 8737\n",
      "277"
     ]
    },
    {
     "name": "stderr",
     "output_type": "stream",
     "text": [
      "No scoremap for RtTg section 276\n",
      "No scoremap for 6N section 277\n"
     ]
    },
    {
     "name": "stdout",
     "output_type": "stream",
     "text": [
      " VLL 57963\n",
      "277 Amb 2748\n",
      "277 R 14937\n",
      "277"
     ]
    },
    {
     "name": "stderr",
     "output_type": "stream",
     "text": [
      "No scoremap for Tz section 277\n",
      "No scoremap for RtTg section 277\n"
     ]
    },
    {
     "name": "stdout",
     "output_type": "stream",
     "text": [
      " Sol 3936\n",
      "277 LRt 20758\n",
      "277 LC 31598\n",
      "277 AP 16314\n",
      "277 sp5 32665\n",
      "278\n",
      "278 5N 141415\n",
      "278 7n 2845\n",
      "278 7N 190652\n",
      "278 12N 10363\n",
      "278 Gr 10316\n",
      "278 LVe 4601\n",
      "278 Pn 11184\n",
      "278 SuVe 20188\n",
      "278 VLL 51106\n",
      "278 Amb 1787\n",
      "278"
     ]
    },
    {
     "name": "stderr",
     "output_type": "stream",
     "text": [
      "No scoremap for 6N section 278\n",
      "No scoremap for Tz section 278\n"
     ]
    },
    {
     "name": "stdout",
     "output_type": "stream",
     "text": [
      " R 11476\n",
      "278 Sol 3451\n",
      "278 RtTg 1728\n",
      "278 LRt 14551\n",
      "278 LC 49399\n",
      "278 AP 20848\n",
      "278 sp5 14897\n",
      "279\n",
      "279 5N 127941\n",
      "279 7n 2322\n",
      "279 7N 143687\n",
      "279 Gr 7395\n",
      "279 LVe 2880\n",
      "279 Pn 10314\n",
      "279 SuVe 7978\n",
      "279"
     ]
    },
    {
     "name": "stderr",
     "output_type": "stream",
     "text": [
      "No scoremap for 12N section 279\n",
      "No scoremap for 6N section 279\n"
     ]
    },
    {
     "name": "stdout",
     "output_type": "stream",
     "text": [
      " VLL 73473\n",
      "279 Amb 2796\n",
      "279 R 6424\n",
      "279"
     ]
    },
    {
     "name": "stderr",
     "output_type": "stream",
     "text": [
      "No scoremap for Tz section 279\n",
      "No scoremap for RtTg section 279\n"
     ]
    },
    {
     "name": "stdout",
     "output_type": "stream",
     "text": [
      " Sol 2405\n",
      "279 LRt 8777\n",
      "279 LC 23966\n",
      "279 AP 33670\n",
      "279 sp5 13708\n",
      "280\n",
      "280 5N 143199\n",
      "280 7n 4332\n",
      "280 7N 145866\n",
      "280 Gr 9698\n",
      "280 LVe 6290\n",
      "280 Pn 6513\n",
      "280 SuVe 28000\n",
      "280"
     ]
    },
    {
     "name": "stderr",
     "output_type": "stream",
     "text": [
      "No scoremap for 12N section 280\n",
      "No scoremap for 6N section 280\n"
     ]
    },
    {
     "name": "stdout",
     "output_type": "stream",
     "text": [
      " VLL 81372\n",
      "280 Amb 4743\n",
      "280 R 9141\n",
      "280 Tz 1152\n",
      "280 Sol 3825\n",
      "280 LRt 12809\n",
      "280 LC 46908\n",
      "280 AP 24261\n",
      "280 sp5 24454\n",
      "281\n",
      "281 5N 97269\n",
      "281 7n 5044\n",
      "281"
     ]
    },
    {
     "name": "stderr",
     "output_type": "stream",
     "text": [
      "No scoremap for RtTg section 280\n",
      "No scoremap for 12N section 281\n"
     ]
    },
    {
     "name": "stdout",
     "output_type": "stream",
     "text": [
      " 7N 109834\n",
      "281 Gr 2151\n",
      "281 LVe 8460\n",
      "281 Pn 4169\n",
      "281 SuVe 3980\n",
      "281 VLL 57720\n",
      "281 Amb 1456\n",
      "281 R 10654\n",
      "281 Tz 1101\n",
      "281"
     ]
    },
    {
     "name": "stderr",
     "output_type": "stream",
     "text": [
      "No scoremap for 6N section 281\n",
      "No scoremap for RtTg section 281\n"
     ]
    },
    {
     "name": "stdout",
     "output_type": "stream",
     "text": [
      " Sol 3563\n",
      "281 LRt 10949\n",
      "281 LC 18081\n",
      "281 AP 20074\n",
      "281 sp5 23636\n",
      "282\n",
      "282 5N 159837\n",
      "282 7n 2736\n",
      "282 7N 137697\n",
      "282 Gr 6879\n",
      "282 LVe 3790\n",
      "282 Pn 8726\n",
      "282 SuVe 19682\n",
      "282"
     ]
    },
    {
     "name": "stderr",
     "output_type": "stream",
     "text": [
      "No scoremap for 12N section 282\n",
      "No scoremap for 6N section 282\n"
     ]
    },
    {
     "name": "stdout",
     "output_type": "stream",
     "text": [
      " VLL 87681\n",
      "282 Amb 2756\n",
      "282 R 7673\n",
      "282"
     ]
    },
    {
     "name": "stderr",
     "output_type": "stream",
     "text": [
      "No scoremap for Tz section 282\n",
      "No scoremap for RtTg section 282\n"
     ]
    },
    {
     "name": "stdout",
     "output_type": "stream",
     "text": [
      " Sol 2746\n",
      "282 LRt 7725\n",
      "282 LC 32486\n",
      "282 AP 29123\n",
      "282 sp5 23917\n",
      "283\n",
      "283 5N 80541\n",
      "283 7n 5395\n",
      "283 7N 86443\n",
      "283 Gr 2427\n",
      "283 LVe 8160\n",
      "283 Pn 4830\n",
      "283 SuVe 3762\n",
      "283"
     ]
    },
    {
     "name": "stderr",
     "output_type": "stream",
     "text": [
      "No scoremap for 12N section 283\n",
      "No scoremap for 6N section 283\n"
     ]
    },
    {
     "name": "stdout",
     "output_type": "stream",
     "text": [
      " VLL 60140\n",
      "283 Amb 2339\n",
      "283 R 9707\n",
      "283"
     ]
    },
    {
     "name": "stderr",
     "output_type": "stream",
     "text": [
      "No scoremap for Tz section 283\n",
      "No scoremap for RtTg section 283\n"
     ]
    },
    {
     "name": "stdout",
     "output_type": "stream",
     "text": [
      " Sol 3464\n",
      "283 LRt 5690\n",
      "283 LC 17254\n",
      "283 AP 14377\n",
      "283 sp5 23494\n",
      "284\n",
      "284 5N 189131\n",
      "284 7n 2234\n",
      "284 7N 178756\n",
      "284 12N 2707\n",
      "284 Gr 12940\n",
      "284 LVe 1836\n",
      "284 Pn 16638\n",
      "284 SuVe 32357\n",
      "284 VLL 64606\n",
      "284 Amb 1805\n",
      "284"
     ]
    },
    {
     "name": "stderr",
     "output_type": "stream",
     "text": [
      "No scoremap for 6N section 284\n",
      "No scoremap for Tz section 284\n"
     ]
    },
    {
     "name": "stdout",
     "output_type": "stream",
     "text": [
      " R 7989\n",
      "284 Sol 4822\n",
      "284 LRt 8325\n",
      "284 LC 48565\n",
      "284 AP 34236\n",
      "284 sp5 19441\n",
      "285\n",
      "285 5N 43996\n",
      "285 7n 27205\n",
      "285"
     ]
    },
    {
     "name": "stderr",
     "output_type": "stream",
     "text": [
      "No scoremap for RtTg section 284\n",
      "No scoremap for 12N section 285\n"
     ]
    },
    {
     "name": "stdout",
     "output_type": "stream",
     "text": [
      " 7N 27100\n",
      "285 Amb 14084\n",
      "285"
     ]
    },
    {
     "name": "stderr",
     "output_type": "stream",
     "text": [
      "No scoremap for Gr section 285\n",
      "No scoremap for LVe section 285\n",
      "No scoremap for Pn section 285\n",
      "No scoremap for SuVe section 285\n",
      "No scoremap for VLL section 285\n",
      "No scoremap for 6N section 285\n",
      "No scoremap for Tz section 285\n"
     ]
    },
    {
     "name": "stdout",
     "output_type": "stream",
     "text": [
      " R 6166\n",
      "285 LRt 24820\n",
      "285 LC 237860\n",
      "285 AP 31326\n",
      "285 sp5 16821\n",
      "286\n",
      "286 5N 196547\n",
      "286 7n 4061\n",
      "286"
     ]
    },
    {
     "name": "stderr",
     "output_type": "stream",
     "text": [
      "No scoremap for Sol section 285\n",
      "No scoremap for RtTg section 285\n",
      "No scoremap for 12N section 286\n"
     ]
    },
    {
     "name": "stdout",
     "output_type": "stream",
     "text": [
      " 7N 152929\n",
      "286 Gr 5455\n",
      "286 LVe 1137\n",
      "286 Pn 12491\n",
      "286 SuVe 37171\n",
      "286 VLL 75455\n",
      "286 Amb 1401\n",
      "286"
     ]
    },
    {
     "name": "stderr",
     "output_type": "stream",
     "text": [
      "No scoremap for 6N section 286\n",
      "No scoremap for Tz section 286\n"
     ]
    },
    {
     "name": "stdout",
     "output_type": "stream",
     "text": [
      " R 8947\n",
      "286 LRt 5794\n",
      "286 LC 33666\n",
      "286 AP 30325\n",
      "286 sp5 15840\n",
      "287\n",
      "287 5N 42874\n",
      "287 7n 22060\n",
      "287"
     ]
    },
    {
     "name": "stderr",
     "output_type": "stream",
     "text": [
      "No scoremap for Sol section 286\n",
      "No scoremap for RtTg section 286\n",
      "No scoremap for 12N section 287\n"
     ]
    },
    {
     "name": "stdout",
     "output_type": "stream",
     "text": [
      " 7N 51626\n",
      "287 LVe 68636\n",
      "287 Pn 7522\n",
      "287 SuVe 10453\n",
      "287 VLL 25332\n",
      "287 6N 21121\n",
      "287 Amb 29068\n",
      "287 R 7992\n",
      "287"
     ]
    },
    {
     "name": "stderr",
     "output_type": "stream",
     "text": [
      "No scoremap for Gr section 287\n",
      "No scoremap for Sol section 287\n"
     ]
    },
    {
     "name": "stdout",
     "output_type": "stream",
     "text": [
      " Tz 6616\n",
      "287 LRt 9008\n",
      "287 LC 30616\n",
      "287 AP 27262\n",
      "287 sp5 97671\n",
      "288\n",
      "288 5N 149752\n",
      "288 7n 2991\n",
      "288"
     ]
    },
    {
     "name": "stderr",
     "output_type": "stream",
     "text": [
      "No scoremap for RtTg section 287\n",
      "No scoremap for 12N section 288\n"
     ]
    },
    {
     "name": "stdout",
     "output_type": "stream",
     "text": [
      " 7N 139030\n",
      "288 Gr 2778\n",
      "288 Pn 7454\n",
      "288 SuVe 22328\n",
      "288"
     ]
    },
    {
     "name": "stderr",
     "output_type": "stream",
     "text": [
      "No scoremap for LVe section 288\n",
      "No scoremap for 6N section 288\n"
     ]
    },
    {
     "name": "stdout",
     "output_type": "stream",
     "text": [
      " VLL 76196\n",
      "288 Amb 4504\n",
      "288 R 4381\n",
      "288 LRt 6364\n",
      "288 LC 30749\n",
      "288 AP 30770\n",
      "288 sp5 17740\n",
      "289\n",
      "289 5N 40357\n",
      "289 7n 26930\n",
      "289"
     ]
    },
    {
     "name": "stderr",
     "output_type": "stream",
     "text": [
      "No scoremap for Tz section 288\n",
      "No scoremap for Sol section 288\n",
      "No scoremap for RtTg section 288\n",
      "No scoremap for 12N section 289\n"
     ]
    },
    {
     "name": "stdout",
     "output_type": "stream",
     "text": [
      " 7N 41632\n",
      "289 LVe 25612\n",
      "289 Pn 16646\n",
      "289 SuVe 5484\n",
      "289 VLL 24540\n",
      "289 6N 23777\n",
      "289 Amb 23221\n",
      "289 R 9551\n",
      "289"
     ]
    },
    {
     "name": "stderr",
     "output_type": "stream",
     "text": [
      "No scoremap for Gr section 289\n",
      "No scoremap for Sol section 289\n"
     ]
    },
    {
     "name": "stdout",
     "output_type": "stream",
     "text": [
      " Tz 2838\n",
      "289 LRt 8555\n",
      "289 LC 48336\n",
      "289 AP 22964\n",
      "289 sp5 144782\n",
      "290\n",
      "290 5N 32672\n",
      "290 7n 5679\n",
      "290"
     ]
    },
    {
     "name": "stderr",
     "output_type": "stream",
     "text": [
      "No scoremap for RtTg section 289\n",
      "No scoremap for 12N section 290\n"
     ]
    },
    {
     "name": "stdout",
     "output_type": "stream",
     "text": [
      " 7N 34052\n",
      "290 Gr 1770\n",
      "290 LVe 62197\n",
      "290 Pn 10667\n",
      "290 SuVe 59000\n",
      "290 VLL 10678\n",
      "290 6N 32858\n",
      "290 Amb 50141\n",
      "290 R 7272\n",
      "290 Tz 4601\n",
      "290 LRt 4857\n",
      "290 LC 93227\n",
      "290 AP 276207\n",
      "290 sp5 442897\n",
      "291\n",
      "291 5N 66549\n",
      "291 7n 70145\n",
      "291"
     ]
    },
    {
     "name": "stderr",
     "output_type": "stream",
     "text": [
      "No scoremap for Sol section 290\n",
      "No scoremap for RtTg section 290\n",
      "No scoremap for 12N section 291\n"
     ]
    },
    {
     "name": "stdout",
     "output_type": "stream",
     "text": [
      " 7N 42844\n",
      "291 LVe 23861\n",
      "291 Pn 11376\n",
      "291 SuVe 10503\n",
      "291 VLL 22802\n",
      "291 6N 23626\n",
      "291 Amb 28922\n",
      "291 R 10446\n",
      "291"
     ]
    },
    {
     "name": "stderr",
     "output_type": "stream",
     "text": [
      "No scoremap for Gr section 291\n",
      "No scoremap for Sol section 291\n"
     ]
    },
    {
     "name": "stdout",
     "output_type": "stream",
     "text": [
      " Tz 3343\n",
      "291 LRt 5959\n",
      "291 LC 32455\n",
      "291 AP 28602\n",
      "291 sp5 97148\n",
      "292\n",
      "292 5N 75785\n",
      "292 7n 26335\n",
      "292"
     ]
    },
    {
     "name": "stderr",
     "output_type": "stream",
     "text": [
      "No scoremap for RtTg section 291\n",
      "No scoremap for 12N section 292\n"
     ]
    },
    {
     "name": "stdout",
     "output_type": "stream",
     "text": [
      " 7N 68536\n",
      "292 LVe 8114\n",
      "292 Pn 16393\n",
      "292 SuVe 62521\n",
      "292 VLL 58610\n",
      "292 6N 27956\n",
      "292 Amb 38849\n",
      "292 R 8803\n",
      "292"
     ]
    },
    {
     "name": "stderr",
     "output_type": "stream",
     "text": [
      "No scoremap for Gr section 292\n",
      "No scoremap for Sol section 292\n"
     ]
    },
    {
     "name": "stdout",
     "output_type": "stream",
     "text": [
      " Tz 2374\n",
      "292 LRt 5114\n",
      "292 LC 110395\n",
      "292 AP 69411\n",
      "292 sp5 130262\n"
     ]
    },
    {
     "name": "stderr",
     "output_type": "stream",
     "text": [
      "No scoremap for RtTg section 292\n"
     ]
    }
   ],
   "source": [
    "for sec in range(section_roi_begin, section_roi_end+1):\n",
    "    print sec\n",
    "    \n",
    "    for l in labels:\n",
    "\n",
    "        if l == 'BackG': continue\n",
    "    \n",
    "#     for sec in range(section_roi_begin, section_roi_end+1):        \n",
    "    \n",
    "        scoremap_bp_filepath = DataMa\n",
    "            % {'stack': stack, 'slice': sec, 'label': l}\n",
    "            \n",
    "        if not os.path.exists(scoremap_bp_filepath):\n",
    "            sys.stderr.write('No scoremap for %s section %d\\n' % (l, sec))\n",
    "            continue\n",
    "    \n",
    "        score_map = bp.unpack_ndarray_file(scoremap_bp_filepath)[::downsample_factor, ::downsample_factor]                \n",
    "\n",
    "#         if np.count_nonzero(score_map) < 5e3:\n",
    "#             sys.stderr.write('1, No %s is detected on section %d\\n' % (l, sec))\n",
    "           \n",
    "        print sec, l, np.count_nonzero(score_map > .1)\n",
    "    \n",
    "#         if np.count_nonzero(score_map > .1) < 5e3:\n",
    "#             sys.stderr.write('No %s is detected on section %d\\n' % (l, sec))\n",
    "#             os.system('rm %s' % (scoremap_bp_filepath))\n",
    "            \n",
    "#         print l, sec, score_map.mean(), score_map.max(), np.count_nonzero(score_map), np.count_nonzero(score_map > .1)\n"
   ]
  },
  {
   "cell_type": "code",
   "execution_count": null,
   "metadata": {
    "collapsed": true
   },
   "outputs": [],
   "source": []
  }
 ],
 "metadata": {
  "kernelspec": {
   "display_name": "Python 2",
   "language": "python",
   "name": "python2"
  },
  "language_info": {
   "codemirror_mode": {
    "name": "ipython",
    "version": 2
   },
   "file_extension": ".py",
   "mimetype": "text/x-python",
   "name": "python",
   "nbconvert_exporter": "python",
   "pygments_lexer": "ipython2",
   "version": "2.7.3"
  }
 },
 "nbformat": 4,
 "nbformat_minor": 0
}
