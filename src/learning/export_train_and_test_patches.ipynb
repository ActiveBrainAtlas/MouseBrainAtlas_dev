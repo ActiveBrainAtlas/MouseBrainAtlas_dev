{
 "cells": [
  {
   "cell_type": "code",
   "execution_count": 1,
   "metadata": {},
   "outputs": [
    {
     "name": "stdout",
     "output_type": "stream",
     "text": [
      "Setting environment for Precision WorkStation\n",
      "/media/yuncong/BstemAtlasData/CSHL_data_processed/MD585/MD585_prep2_thumbnail/MD585-N16-2015.07.16-20.32.33_MD585_2_0047_prep2_thumbnail.tif\n",
      "/media/yuncong/BstemAtlasData/CSHL_data_processed/MD589/MD589_prep2_thumbnail/MD589-N16-2015.07.30-17.03.43_MD589_3_0048_prep2_thumbnail.tif\n"
     ]
    },
    {
     "name": "stderr",
     "output_type": "stream",
     "text": [
      "No vtk\n",
      "No vtkNot using image_cache.\n",
      "Not using image_cache.\n",
      "Not using image_cache.\n",
      "Not using image_cache.\n",
      "Not using image_cache.\n",
      "Not using image_cache.\n",
      "Not using image_cache.\n",
      "Not using image_cache.\n",
      "Not using image_cache.\n",
      "Not using image_cache.\n",
      "Not using image_cache.\n",
      "Not using image_cache.\n",
      "Not using image_cache.\n",
      "Not using image_cache.\n",
      "Not using image_cache.\n"
     ]
    },
    {
     "name": "stdout",
     "output_type": "stream",
     "text": [
      "/media/yuncong/BstemAtlasData/CSHL_data_processed/MD590/MD590_prep2_thumbnail/MD590-IHC17-2015.08.10-19.09.09_MD590_2_0050_prep2_thumbnail.tif\n",
      "/media/yuncong/BstemAtlasData/CSHL_data_processed/MD591/MD591_prep2_thumbnail/MD591-IHC17-2015.08.28-04.23.47_MD591_1_0049_prep2_thumbnail.tif\n",
      "/media/yuncong/BstemAtlasData/CSHL_data_processed/MD592/MD592_prep2_thumbnail/MD592-N16-2015.08.22-00.50.39_MD592_2_0047_prep2_thumbnail.tif\n",
      "/media/yuncong/BstemAtlasData/CSHL_data_processed/MD593/MD593_prep2_thumbnail/MD593-N15-2015.08.21-16.53.02_MD593_3_0045_prep2_thumbnail.tif\n",
      "/media/yuncong/BstemAtlasData/CSHL_data_processed/MD594/MD594_prep2_thumbnail/MD594-IHC16-2015.08.26-16.11.01_MD594_1_0046_prep2_thumbnail.tif\n",
      "/media/yuncong/BstemAtlasData/CSHL_data_processed/MD595/MD595_prep2_thumbnail/MD595-IHC12-2015.09.15-01.21.39_MD595_2_0035_prep2_thumbnail.tif\n",
      "/media/yuncong/BstemAtlasData/CSHL_data_processed/MD598/MD598_prep2_thumbnail/MD598-N18-2015.09.29-17.40.03_MD598_3_0054_prep2_thumbnail.tif\n",
      "/media/yuncong/BstemAtlasData/CSHL_data_processed/MD599/MD599_prep2_thumbnail/MD599-N19-2015.10.02-18.12.13_MD599_3_0057_prep2_thumbnail.tif\n",
      "/media/yuncong/BstemAtlasData/CSHL_data_processed/MD602/MD602_prep2_thumbnail/MD602-N19-2015.12.01-16.24.09_MD602_2_0056_prep2_thumbnail.tif\n",
      "/media/yuncong/BstemAtlasData/CSHL_data_processed/MD603/MD603_prep2_thumbnail/MD603-N11-2016.03.02-12.51.47_MD603_1_0031_prep2_thumbnail.tif\n",
      "/media/yuncong/BstemAtlasData/CSHL_data_processed/MD635/MD635_prep2_thumbnail/MD635-F25-2016.05.18-21.02.30_MD635_3_0075_prep2_thumbnail.tif\n",
      "/media/yuncong/BstemAtlasData/CSHL_data_processed/MD653/MD653_prep2_thumbnail/MD653-F15-2016.12.20-21.04.12_MD653_1_0043_prep2_thumbnail.tif\n",
      "/media/yuncong/BstemAtlasData/CSHL_data_processed/MD652/MD652_prep2_thumbnail/MD652-F15-2016.12.16-20.45.52_MD652_3_0045_prep2_thumbnail.tif\n",
      "/media/yuncong/BstemAtlasData/CSHL_data_processed/MD642/MD642_prep2_thumbnail/MD642-N14-2017.01.18-16.25.58_MD642_2_0041_prep2_thumbnail.tif\n",
      "/media/yuncong/BstemAtlasData/CSHL_data_processed/MD657/MD657_prep2_thumbnail/MD657-N13-2017.02.22-14.33.34_MD657_3_0039_prep2_thumbnail.tif\n"
     ]
    },
    {
     "name": "stderr",
     "output_type": "stream",
     "text": [
      "Not using image_cache.\n",
      "Not using image_cache.\n",
      "Not using image_cache.\n",
      "Not using image_cache.\n",
      "Not using image_cache.\n",
      "Not using image_cache.\n",
      "/usr/local/lib/python2.7/dist-packages/sklearn/cross_validation.py:44: DeprecationWarning: This module was deprecated in version 0.18 in favor of the model_selection module into which all the refactored classes and functions are moved. Also note that the interface of the new CV iterators are different from that of this module. This module will be removed in 0.20.\n",
      "  \"This module will be removed in 0.20.\", DeprecationWarning)\n"
     ]
    },
    {
     "name": "stdout",
     "output_type": "stream",
     "text": [
      "/media/yuncong/BstemAtlasData/CSHL_data_processed/MD658/MD658_prep2_thumbnail/MD658-N18-2017.03.31-17.34.22_MD658_2_0053_prep2_thumbnail.tif\n",
      "/media/yuncong/BstemAtlasData/CSHL_data_processed/MD661/MD661_prep2_thumbnail/MD662&661-F30-2017.06.05-14.49.48_MD661_1_0088_prep2_thumbnail.tif\n",
      "/media/yuncong/BstemAtlasData/CSHL_data_processed/MD662/MD662_prep2_thumbnail/MD662&661-F35-2017.06.05-17.08.18_MD662_1_0103_prep2_thumbnail.tif\n",
      "/media/yuncong/BstemAtlasData/CSHL_data_processed/ChatCryoJane201710/ChatCryoJane201710_prep2_thumbnail_Ntb/ChatCryoJane201710_slide1-S1_prep2_thumbnail_Ntb.tif\n"
     ]
    }
   ],
   "source": [
    "%load_ext autoreload\n",
    "%autoreload 2\n",
    "\n",
    "import sys\n",
    "import os\n",
    "import time\n",
    "\n",
    "import numpy as np\n",
    "try:\n",
    "    import mxnet as mx\n",
    "except:\n",
    "    sys.stderr.write(\"Cannot import mxnet.\\n\")\n",
    "import matplotlib.pyplot as plt\n",
    "%matplotlib inline\n",
    "from skimage.exposure import rescale_intensity\n",
    "from skimage.transform import rotate\n",
    "\n",
    "sys.path.append(os.environ['REPO_DIR'] + '/utilities')\n",
    "from utilities2015 import *\n",
    "from metadata import *\n",
    "from data_manager import *\n",
    "from learning_utilities import *\n",
    "from distributed_utilities import *\n",
    "from visualization_utilities import *"
   ]
  },
  {
   "cell_type": "code",
   "execution_count": 2,
   "metadata": {
    "collapsed": true
   },
   "outputs": [],
   "source": [
    "from sklearn.externals import joblib\n",
    "\n",
    "from sklearn.linear_model import LogisticRegression\n",
    "from sklearn.svm import LinearSVC, SVC\n",
    "from sklearn.calibration import CalibratedClassifierCV\n",
    "from sklearn.ensemble import GradientBoostingClassifier \n",
    "\n",
    "sys.path.append('/home/yuncong/csd395/xgboost/python-package')\n",
    "try:\n",
    "    from xgboost.sklearn import XGBClassifier\n",
    "except:\n",
    "    sys.stderr.write('xgboost is not loaded.')"
   ]
  },
  {
   "cell_type": "code",
   "execution_count": 3,
   "metadata": {},
   "outputs": [
    {
     "name": "stderr",
     "output_type": "stream",
     "text": [
      "/usr/local/lib/python2.7/dist-packages/mxnet/module/base_module.py:53: UserWarning: \u001b[91mYou created Module with Module(..., label_names=['softmax_label']) but input with name 'softmax_label' is not found in symbol.list_arguments(). Did you mean one of:\n",
      "\tdata\u001b[0m\n",
      "  warnings.warn(msg)\n",
      "/usr/local/lib/python2.7/dist-packages/mxnet/module/base_module.py:65: UserWarning: Data provided by label_shapes don't match names specified by label_names ([] vs. ['softmax_label'])\n",
      "  warnings.warn(msg)\n"
     ]
    }
   ],
   "source": [
    "batch_size = 256\n",
    "model_dir_name = 'inception-bn-blue'\n",
    "model_name = 'inception-bn-blue'\n",
    "model, mean_img = load_mxnet_model(model_dir_name=model_dir_name, model_name=model_name, \n",
    "                                   num_gpus=1, batch_size=batch_size)"
   ]
  },
  {
   "cell_type": "code",
   "execution_count": 13,
   "metadata": {
    "collapsed": true
   },
   "outputs": [],
   "source": [
    "train_scheme = 'normalize_mu_region_sigma_wholeImage_(-1,5)'"
   ]
  },
  {
   "cell_type": "code",
   "execution_count": 28,
   "metadata": {
    "scrolled": true
   },
   "outputs": [
    {
     "name": "stdout",
     "output_type": "stream",
     "text": [
      "aws s3 cp --recursive \"s3://mousebrainatlas-data/CSHL_labelings_v3/MD661\" \"/home/yuncong/CSHL_labelings_v3/MD661\" --exclude \"*\" --include \"*win7*warp*grid_indices_lookup*\"\n",
      "latest timestamp:  01302018020813\n",
      "# positive train = 1028\n",
      "# negative train = 5726\n"
     ]
    },
    {
     "name": "stderr",
     "output_type": "stream",
     "text": [
      "No images are provided. Load instead.\n",
      "Not using image_cache.\n"
     ]
    },
    {
     "name": "stdout",
     "output_type": "stream",
     "text": [
      "/media/yuncong/BstemAtlasData/CSHL_data_processed/MD661/MD661_prep2_lossless/MD662&661-F104-2017.06.06-23.26.43_MD661_1_0310_prep2_lossless.tif\n"
     ]
    },
    {
     "name": "stderr",
     "output_type": "stream",
     "text": [
      "Load image: 23.82 seconds.\n",
      "Crop patches: 0.00 seconds.\n",
      "No images are provided. Load instead.\n",
      "Not using image_cache.\n"
     ]
    },
    {
     "name": "stdout",
     "output_type": "stream",
     "text": [
      "/media/yuncong/BstemAtlasData/CSHL_data_processed/MD661/MD661_prep2_lossless/MD662&661-F110-2017.06.07-02.03.05_MD661_1_0328_prep2_lossless.tif\n"
     ]
    },
    {
     "name": "stderr",
     "output_type": "stream",
     "text": [
      "Load image: 22.42 seconds.\n",
      "Crop patches: 0.00 seconds.\n",
      "No images are provided. Load instead.\n",
      "Not using image_cache.\n"
     ]
    },
    {
     "name": "stdout",
     "output_type": "stream",
     "text": [
      "/media/yuncong/BstemAtlasData/CSHL_data_processed/MD661/MD661_prep2_lossless/MD662&661-F113-2017.06.07-03.19.59_MD661_1_0337_prep2_lossless.tif\n"
     ]
    },
    {
     "name": "stderr",
     "output_type": "stream",
     "text": [
      "Load image: 22.00 seconds.\n",
      "Crop patches: 0.00 seconds.\n",
      "No images are provided. Load instead.\n",
      "Not using image_cache.\n"
     ]
    },
    {
     "name": "stdout",
     "output_type": "stream",
     "text": [
      "/media/yuncong/BstemAtlasData/CSHL_data_processed/MD661/MD661_prep2_lossless/MD662&661-F55-2017.06.22-17.33.34_MD661_1_0163_prep2_lossless.tif\n"
     ]
    },
    {
     "name": "stderr",
     "output_type": "stream",
     "text": [
      "Load image: 19.96 seconds.\n",
      "Crop patches: 0.00 seconds.\n",
      "No images are provided. Load instead.\n",
      "Not using image_cache.\n"
     ]
    },
    {
     "name": "stdout",
     "output_type": "stream",
     "text": [
      "/media/yuncong/BstemAtlasData/CSHL_data_processed/MD661/MD661_prep2_lossless/MD662&661-F53-2017.06.08-17.11.31_MD661_2_0158_prep2_lossless.tif\n"
     ]
    },
    {
     "name": "stderr",
     "output_type": "stream",
     "text": [
      "Load image: 20.65 seconds.\n",
      "Crop patches: 0.00 seconds.\n",
      "No images are provided. Load instead.\n",
      "Not using image_cache.\n"
     ]
    },
    {
     "name": "stdout",
     "output_type": "stream",
     "text": [
      "/media/yuncong/BstemAtlasData/CSHL_data_processed/MD661/MD661_prep2_lossless/MD662&661-F52-2017.06.06-01.35.53_MD661_1_0154_prep2_lossless.tif\n"
     ]
    },
    {
     "name": "stderr",
     "output_type": "stream",
     "text": [
      "Load image: 20.07 seconds.\n",
      "Crop patches: 0.00 seconds.\n",
      "No images are provided. Load instead.\n",
      "Not using image_cache.\n"
     ]
    },
    {
     "name": "stdout",
     "output_type": "stream",
     "text": [
      "/media/yuncong/BstemAtlasData/CSHL_data_processed/MD661/MD661_prep2_lossless/MD662&661-F54-2017.06.22-17.00.44_MD661_2_0161_prep2_lossless.tif\n"
     ]
    },
    {
     "name": "stderr",
     "output_type": "stream",
     "text": [
      "Load image: 19.81 seconds.\n",
      "Crop patches: 0.00 seconds.\n",
      "No images are provided. Load instead.\n",
      "Not using image_cache.\n"
     ]
    },
    {
     "name": "stdout",
     "output_type": "stream",
     "text": [
      "/media/yuncong/BstemAtlasData/CSHL_data_processed/MD661/MD661_prep2_lossless/MD662&661-F50-2017.06.06-00.35.44_MD661_1_0148_prep2_lossless.tif\n"
     ]
    },
    {
     "name": "stderr",
     "output_type": "stream",
     "text": [
      "Load image: 20.95 seconds.\n",
      "Crop patches: 0.00 seconds.\n",
      "No images are provided. Load instead.\n",
      "Not using image_cache.\n"
     ]
    },
    {
     "name": "stdout",
     "output_type": "stream",
     "text": [
      "/media/yuncong/BstemAtlasData/CSHL_data_processed/MD661/MD661_prep2_lossless/MD662&661-F106-2017.06.07-00.20.03_MD661_2_0317_prep2_lossless.tif\n"
     ]
    },
    {
     "name": "stderr",
     "output_type": "stream",
     "text": [
      "Load image: 22.44 seconds.\n",
      "Crop patches: 0.00 seconds.\n"
     ]
    },
    {
     "name": "stdout",
     "output_type": "stream",
     "text": [
      "aws s3 cp \"/home/yuncong/training_examples/MD661/5N_positive.png\" \"s3://mousebrainatlas-data/training_examples/MD661/5N_positive.png\"\n"
     ]
    },
    {
     "name": "stderr",
     "output_type": "stream",
     "text": [
      "No images are provided. Load instead.\n",
      "Not using image_cache.\n"
     ]
    },
    {
     "name": "stdout",
     "output_type": "stream",
     "text": [
      "/media/yuncong/BstemAtlasData/CSHL_data_processed/MD661/MD661_prep2_lossless/MD662&661-F104-2017.06.06-23.26.43_MD661_1_0310_prep2_lossless.tif\n"
     ]
    },
    {
     "name": "stderr",
     "output_type": "stream",
     "text": [
      "Load image: 22.09 seconds.\n",
      "Crop patches: 0.00 seconds.\n",
      "No images are provided. Load instead.\n",
      "Not using image_cache.\n"
     ]
    },
    {
     "name": "stdout",
     "output_type": "stream",
     "text": [
      "/media/yuncong/BstemAtlasData/CSHL_data_processed/MD661/MD661_prep2_lossless/MD662&661-F110-2017.06.07-02.03.05_MD661_1_0328_prep2_lossless.tif\n"
     ]
    },
    {
     "name": "stderr",
     "output_type": "stream",
     "text": [
      "Load image: 21.35 seconds.\n",
      "Crop patches: 0.00 seconds.\n",
      "No images are provided. Load instead.\n",
      "Not using image_cache.\n"
     ]
    },
    {
     "name": "stdout",
     "output_type": "stream",
     "text": [
      "/media/yuncong/BstemAtlasData/CSHL_data_processed/MD661/MD661_prep2_lossless/MD662&661-F113-2017.06.07-03.19.59_MD661_1_0337_prep2_lossless.tif\n"
     ]
    },
    {
     "name": "stderr",
     "output_type": "stream",
     "text": [
      "Load image: 21.02 seconds.\n",
      "Crop patches: 0.00 seconds.\n",
      "No images are provided. Load instead.\n",
      "Not using image_cache.\n"
     ]
    },
    {
     "name": "stdout",
     "output_type": "stream",
     "text": [
      "/media/yuncong/BstemAtlasData/CSHL_data_processed/MD661/MD661_prep2_lossless/MD662&661-F55-2017.06.22-17.33.34_MD661_1_0163_prep2_lossless.tif\n"
     ]
    },
    {
     "name": "stderr",
     "output_type": "stream",
     "text": [
      "Load image: 19.78 seconds.\n",
      "Crop patches: 0.00 seconds.\n",
      "No images are provided. Load instead.\n",
      "Not using image_cache.\n"
     ]
    },
    {
     "name": "stdout",
     "output_type": "stream",
     "text": [
      "/media/yuncong/BstemAtlasData/CSHL_data_processed/MD661/MD661_prep2_lossless/MD662&661-F53-2017.06.08-17.11.31_MD661_2_0158_prep2_lossless.tif\n"
     ]
    },
    {
     "name": "stderr",
     "output_type": "stream",
     "text": [
      "Load image: 20.68 seconds.\n",
      "Crop patches: 0.00 seconds.\n",
      "No images are provided. Load instead.\n",
      "Not using image_cache.\n"
     ]
    },
    {
     "name": "stdout",
     "output_type": "stream",
     "text": [
      "/media/yuncong/BstemAtlasData/CSHL_data_processed/MD661/MD661_prep2_lossless/MD662&661-F52-2017.06.06-01.35.53_MD661_1_0154_prep2_lossless.tif\n"
     ]
    },
    {
     "name": "stderr",
     "output_type": "stream",
     "text": [
      "Load image: 20.07 seconds.\n",
      "Crop patches: 0.00 seconds.\n",
      "No images are provided. Load instead.\n",
      "Not using image_cache.\n"
     ]
    },
    {
     "name": "stdout",
     "output_type": "stream",
     "text": [
      "/media/yuncong/BstemAtlasData/CSHL_data_processed/MD661/MD661_prep2_lossless/MD662&661-F54-2017.06.22-17.00.44_MD661_2_0161_prep2_lossless.tif\n"
     ]
    },
    {
     "name": "stderr",
     "output_type": "stream",
     "text": [
      "Load image: 19.75 seconds.\n",
      "Crop patches: 0.00 seconds.\n",
      "No images are provided. Load instead.\n",
      "Not using image_cache.\n"
     ]
    },
    {
     "name": "stdout",
     "output_type": "stream",
     "text": [
      "/media/yuncong/BstemAtlasData/CSHL_data_processed/MD661/MD661_prep2_lossless/MD662&661-F50-2017.06.06-00.35.44_MD661_1_0148_prep2_lossless.tif\n"
     ]
    },
    {
     "name": "stderr",
     "output_type": "stream",
     "text": [
      "Load image: 20.70 seconds.\n",
      "Crop patches: 0.00 seconds.\n",
      "No images are provided. Load instead.\n",
      "Not using image_cache.\n"
     ]
    },
    {
     "name": "stdout",
     "output_type": "stream",
     "text": [
      "/media/yuncong/BstemAtlasData/CSHL_data_processed/MD661/MD661_prep2_lossless/MD662&661-F57-2017.06.06-02.06.22_MD661_2_0170_prep2_lossless.tif\n"
     ]
    },
    {
     "name": "stderr",
     "output_type": "stream",
     "text": [
      "Load image: 19.88 seconds.\n",
      "Crop patches: 0.00 seconds.\n",
      "No images are provided. Load instead.\n",
      "Not using image_cache.\n"
     ]
    },
    {
     "name": "stdout",
     "output_type": "stream",
     "text": [
      "/media/yuncong/BstemAtlasData/CSHL_data_processed/MD661/MD661_prep2_lossless/MD662&661-F106-2017.06.07-00.20.03_MD661_2_0317_prep2_lossless.tif\n"
     ]
    },
    {
     "name": "stderr",
     "output_type": "stream",
     "text": [
      "Load image: 22.07 seconds.\n",
      "Crop patches: 0.00 seconds.\n"
     ]
    },
    {
     "name": "stdout",
     "output_type": "stream",
     "text": [
      "aws s3 cp \"/home/yuncong/training_examples/MD661/5N_negative.png\" \"s3://mousebrainatlas-data/training_examples/MD661/5N_negative.png\"\n",
      "# positive train = 14\n",
      "# negative train = 2026\n"
     ]
    },
    {
     "name": "stderr",
     "output_type": "stream",
     "text": [
      "No images are provided. Load instead.\n",
      "Not using image_cache.\n"
     ]
    },
    {
     "name": "stdout",
     "output_type": "stream",
     "text": [
      "/media/yuncong/BstemAtlasData/CSHL_data_processed/MD661/MD661_prep2_lossless/MD662&661-F71-2017.06.06-09.00.35_MD661_1_0211_prep2_lossless.tif\n"
     ]
    },
    {
     "name": "stderr",
     "output_type": "stream",
     "text": [
      "Load image: 22.36 seconds.\n",
      "Crop patches: 0.00 seconds.\n",
      "No images are provided. Load instead.\n",
      "Not using image_cache.\n"
     ]
    },
    {
     "name": "stdout",
     "output_type": "stream",
     "text": [
      "/media/yuncong/BstemAtlasData/CSHL_data_processed/MD661/MD661_prep2_lossless/MD662&661-F88-2017.06.06-15.57.25_MD661_1_0262_prep2_lossless.tif\n"
     ]
    },
    {
     "name": "stderr",
     "output_type": "stream",
     "text": [
      "Load image: 22.96 seconds.\n",
      "Crop patches: 0.00 seconds.\n",
      "No images are provided. Load instead.\n",
      "Not using image_cache.\n"
     ]
    },
    {
     "name": "stdout",
     "output_type": "stream",
     "text": [
      "/media/yuncong/BstemAtlasData/CSHL_data_processed/MD661/MD661_prep2_lossless/MD662&661-F88-2017.06.06-15.57.25_MD661_2_0263_prep2_lossless.tif\n"
     ]
    },
    {
     "name": "stderr",
     "output_type": "stream",
     "text": [
      "Load image: 22.55 seconds.\n",
      "Crop patches: 0.00 seconds.\n",
      "No images are provided. Load instead.\n",
      "Not using image_cache.\n"
     ]
    },
    {
     "name": "stdout",
     "output_type": "stream",
     "text": [
      "/media/yuncong/BstemAtlasData/CSHL_data_processed/MD661/MD661_prep2_lossless/MD662&661-F87-2017.06.06-15.22.59_MD661_2_0260_prep2_lossless.tif\n"
     ]
    },
    {
     "name": "stderr",
     "output_type": "stream",
     "text": [
      "Load image: 22.02 seconds.\n",
      "Crop patches: 0.00 seconds.\n",
      "No images are provided. Load instead.\n",
      "Not using image_cache.\n"
     ]
    },
    {
     "name": "stdout",
     "output_type": "stream",
     "text": [
      "/media/yuncong/BstemAtlasData/CSHL_data_processed/MD661/MD661_prep2_lossless/MD662&661-F71-2017.06.06-09.00.35_MD661_2_0212_prep2_lossless.tif\n"
     ]
    },
    {
     "name": "stderr",
     "output_type": "stream",
     "text": [
      "Load image: 23.11 seconds.\n",
      "Crop patches: 0.00 seconds.\n",
      "No images are provided. Load instead.\n",
      "Not using image_cache.\n"
     ]
    },
    {
     "name": "stdout",
     "output_type": "stream",
     "text": [
      "/media/yuncong/BstemAtlasData/CSHL_data_processed/MD661/MD661_prep2_lossless/MD662&661-F89-2017.06.06-16.49.49_MD661_1_0265_prep2_lossless.tif\n"
     ]
    },
    {
     "name": "stderr",
     "output_type": "stream",
     "text": [
      "Load image: 21.11 seconds.\n",
      "Crop patches: 0.00 seconds.\n",
      "No images are provided. Load instead.\n",
      "Not using image_cache.\n"
     ]
    },
    {
     "name": "stdout",
     "output_type": "stream",
     "text": [
      "/media/yuncong/BstemAtlasData/CSHL_data_processed/MD661/MD661_prep2_lossless/MD662&661-F70-2017.06.06-08.36.23_MD661_2_0209_prep2_lossless.tif\n"
     ]
    },
    {
     "name": "stderr",
     "output_type": "stream",
     "text": [
      "Load image: 21.47 seconds.\n",
      "Crop patches: 0.00 seconds.\n"
     ]
    },
    {
     "name": "stdout",
     "output_type": "stream",
     "text": [
      "aws s3 cp \"/home/yuncong/training_examples/MD661/6N_positive.png\" \"s3://mousebrainatlas-data/training_examples/MD661/6N_positive.png\"\n"
     ]
    },
    {
     "name": "stderr",
     "output_type": "stream",
     "text": [
      "No images are provided. Load instead.\n",
      "Not using image_cache.\n"
     ]
    },
    {
     "name": "stdout",
     "output_type": "stream",
     "text": [
      "/media/yuncong/BstemAtlasData/CSHL_data_processed/MD661/MD661_prep2_lossless/MD662&661-F71-2017.06.06-09.00.35_MD661_1_0211_prep2_lossless.tif\n"
     ]
    },
    {
     "name": "stderr",
     "output_type": "stream",
     "text": [
      "Load image: 22.85 seconds.\n",
      "Crop patches: 0.00 seconds.\n",
      "No images are provided. Load instead.\n",
      "Not using image_cache.\n"
     ]
    },
    {
     "name": "stdout",
     "output_type": "stream",
     "text": [
      "/media/yuncong/BstemAtlasData/CSHL_data_processed/MD661/MD661_prep2_lossless/MD662&661-F88-2017.06.06-15.57.25_MD661_1_0262_prep2_lossless.tif\n"
     ]
    },
    {
     "name": "stderr",
     "output_type": "stream",
     "text": [
      "Load image: 22.86 seconds.\n",
      "Crop patches: 0.00 seconds.\n",
      "No images are provided. Load instead.\n",
      "Not using image_cache.\n"
     ]
    },
    {
     "name": "stdout",
     "output_type": "stream",
     "text": [
      "/media/yuncong/BstemAtlasData/CSHL_data_processed/MD661/MD661_prep2_lossless/MD662&661-F88-2017.06.06-15.57.25_MD661_2_0263_prep2_lossless.tif\n"
     ]
    },
    {
     "name": "stderr",
     "output_type": "stream",
     "text": [
      "Load image: 22.91 seconds.\n",
      "Crop patches: 0.00 seconds.\n",
      "No images are provided. Load instead.\n",
      "Not using image_cache.\n"
     ]
    },
    {
     "name": "stdout",
     "output_type": "stream",
     "text": [
      "/media/yuncong/BstemAtlasData/CSHL_data_processed/MD661/MD661_prep2_lossless/MD662&661-F87-2017.06.06-15.22.59_MD661_2_0260_prep2_lossless.tif\n"
     ]
    },
    {
     "name": "stderr",
     "output_type": "stream",
     "text": [
      "Load image: 22.44 seconds.\n",
      "Crop patches: 0.00 seconds.\n",
      "No images are provided. Load instead.\n",
      "Not using image_cache.\n"
     ]
    },
    {
     "name": "stdout",
     "output_type": "stream",
     "text": [
      "/media/yuncong/BstemAtlasData/CSHL_data_processed/MD661/MD661_prep2_lossless/MD662&661-F71-2017.06.06-09.00.35_MD661_2_0212_prep2_lossless.tif\n"
     ]
    },
    {
     "name": "stderr",
     "output_type": "stream",
     "text": [
      "Load image: 22.88 seconds.\n",
      "Crop patches: 0.00 seconds.\n",
      "No images are provided. Load instead.\n",
      "Not using image_cache.\n"
     ]
    },
    {
     "name": "stdout",
     "output_type": "stream",
     "text": [
      "/media/yuncong/BstemAtlasData/CSHL_data_processed/MD661/MD661_prep2_lossless/MD662&661-F89-2017.06.06-16.49.49_MD661_1_0265_prep2_lossless.tif\n"
     ]
    },
    {
     "name": "stderr",
     "output_type": "stream",
     "text": [
      "Load image: 21.16 seconds.\n",
      "Crop patches: 0.00 seconds.\n",
      "No images are provided. Load instead.\n",
      "Not using image_cache.\n"
     ]
    },
    {
     "name": "stdout",
     "output_type": "stream",
     "text": [
      "/media/yuncong/BstemAtlasData/CSHL_data_processed/MD661/MD661_prep2_lossless/MD662&661-F70-2017.06.06-08.36.23_MD661_2_0209_prep2_lossless.tif\n"
     ]
    },
    {
     "name": "stderr",
     "output_type": "stream",
     "text": [
      "Load image: 22.07 seconds.\n",
      "Crop patches: 0.00 seconds.\n"
     ]
    },
    {
     "name": "stdout",
     "output_type": "stream",
     "text": [
      "aws s3 cp \"/home/yuncong/training_examples/MD661/6N_negative.png\" \"s3://mousebrainatlas-data/training_examples/MD661/6N_negative.png\"\n",
      "# positive train = 1468\n",
      "# negative train = 5296\n"
     ]
    },
    {
     "name": "stderr",
     "output_type": "stream",
     "text": [
      "No images are provided. Load instead.\n",
      "Not using image_cache.\n"
     ]
    },
    {
     "name": "stdout",
     "output_type": "stream",
     "text": [
      "/media/yuncong/BstemAtlasData/CSHL_data_processed/MD661/MD661_prep2_lossless/MD662&661-F60-2017.06.06-03.35.37_MD661_1_0178_prep2_lossless.tif\n"
     ]
    },
    {
     "name": "stderr",
     "output_type": "stream",
     "text": [
      "Load image: 19.40 seconds.\n",
      "Crop patches: 0.00 seconds.\n",
      "No images are provided. Load instead.\n",
      "Not using image_cache.\n"
     ]
    },
    {
     "name": "stdout",
     "output_type": "stream",
     "text": [
      "/media/yuncong/BstemAtlasData/CSHL_data_processed/MD661/MD661_prep2_lossless/MD662&661-F107-2017.06.07-00.44.42_MD661_2_0320_prep2_lossless.tif\n"
     ]
    },
    {
     "name": "stderr",
     "output_type": "stream",
     "text": [
      "Load image: 22.89 seconds.\n",
      "Crop patches: 0.00 seconds.\n",
      "No images are provided. Load instead.\n",
      "Not using image_cache.\n"
     ]
    },
    {
     "name": "stdout",
     "output_type": "stream",
     "text": [
      "/media/yuncong/BstemAtlasData/CSHL_data_processed/MD661/MD661_prep2_lossless/MD662&661-F55-2017.06.22-17.33.34_MD661_2_0164_prep2_lossless.tif\n"
     ]
    },
    {
     "name": "stderr",
     "output_type": "stream",
     "text": [
      "Load image: 19.18 seconds.\n",
      "Crop patches: 0.00 seconds.\n",
      "No images are provided. Load instead.\n",
      "Not using image_cache.\n"
     ]
    },
    {
     "name": "stdout",
     "output_type": "stream",
     "text": [
      "/media/yuncong/BstemAtlasData/CSHL_data_processed/MD661/MD661_prep2_lossless/MD662&661-F108-2017.06.07-01.10.56_MD661_2_0323_prep2_lossless.tif\n"
     ]
    },
    {
     "name": "stderr",
     "output_type": "stream",
     "text": [
      "Load image: 22.63 seconds.\n",
      "Crop patches: 0.00 seconds.\n",
      "No images are provided. Load instead.\n",
      "Not using image_cache.\n"
     ]
    },
    {
     "name": "stdout",
     "output_type": "stream",
     "text": [
      "/media/yuncong/BstemAtlasData/CSHL_data_processed/MD661/MD661_prep2_lossless/MD662&661-F118-2017.06.07-11.26.45_MD661_1_0352_prep2_lossless.tif\n"
     ]
    },
    {
     "name": "stderr",
     "output_type": "stream",
     "text": [
      "Load image: 20.97 seconds.\n",
      "Crop patches: 0.00 seconds.\n",
      "No images are provided. Load instead.\n",
      "Not using image_cache.\n"
     ]
    },
    {
     "name": "stdout",
     "output_type": "stream",
     "text": [
      "/media/yuncong/BstemAtlasData/CSHL_data_processed/MD661/MD661_prep2_lossless/MD662&661-F115-2017.06.07-04.11.41_MD661_1_0343_prep2_lossless.tif\n"
     ]
    },
    {
     "name": "stderr",
     "output_type": "stream",
     "text": [
      "Load image: 21.64 seconds.\n",
      "Crop patches: 0.00 seconds.\n",
      "No images are provided. Load instead.\n",
      "Not using image_cache.\n"
     ]
    },
    {
     "name": "stdout",
     "output_type": "stream",
     "text": [
      "/media/yuncong/BstemAtlasData/CSHL_data_processed/MD661/MD661_prep2_lossless/MD662&661-F58-2017.06.06-02.35.45_MD661_2_0173_prep2_lossless.tif\n"
     ]
    },
    {
     "name": "stderr",
     "output_type": "stream",
     "text": [
      "Load image: 20.11 seconds.\n",
      "Crop patches: 0.00 seconds.\n",
      "No images are provided. Load instead.\n",
      "Not using image_cache.\n"
     ]
    },
    {
     "name": "stdout",
     "output_type": "stream",
     "text": [
      "/media/yuncong/BstemAtlasData/CSHL_data_processed/MD661/MD661_prep2_lossless/MD662&661-F99-2017.06.06-21.14.03_MD661_2_0296_prep2_lossless.tif\n"
     ]
    },
    {
     "name": "stderr",
     "output_type": "stream",
     "text": [
      "Load image: 23.28 seconds.\n",
      "Crop patches: 0.00 seconds.\n",
      "No images are provided. Load instead.\n",
      "Not using image_cache.\n"
     ]
    },
    {
     "name": "stdout",
     "output_type": "stream",
     "text": [
      "/media/yuncong/BstemAtlasData/CSHL_data_processed/MD661/MD661_prep2_lossless/MD662&661-F57-2017.06.06-02.06.22_MD661_2_0170_prep2_lossless.tif\n"
     ]
    },
    {
     "name": "stderr",
     "output_type": "stream",
     "text": [
      "Load image: 19.99 seconds.\n",
      "Crop patches: 0.00 seconds.\n",
      "No images are provided. Load instead.\n",
      "Not using image_cache.\n"
     ]
    },
    {
     "name": "stdout",
     "output_type": "stream",
     "text": [
      "/media/yuncong/BstemAtlasData/CSHL_data_processed/MD661/MD661_prep2_lossless/MD662&661-F50-2017.06.06-00.35.44_MD661_3_0150_prep2_lossless.tif\n"
     ]
    },
    {
     "name": "stderr",
     "output_type": "stream",
     "text": [
      "Load image: 21.56 seconds.\n",
      "Crop patches: 0.00 seconds.\n"
     ]
    },
    {
     "name": "stdout",
     "output_type": "stream",
     "text": [
      "aws s3 cp \"/home/yuncong/training_examples/MD661/7N_positive.png\" \"s3://mousebrainatlas-data/training_examples/MD661/7N_positive.png\"\n"
     ]
    },
    {
     "name": "stderr",
     "output_type": "stream",
     "text": [
      "No images are provided. Load instead.\n",
      "Not using image_cache.\n"
     ]
    },
    {
     "name": "stdout",
     "output_type": "stream",
     "text": [
      "/media/yuncong/BstemAtlasData/CSHL_data_processed/MD661/MD661_prep2_lossless/MD662&661-F60-2017.06.06-03.35.37_MD661_1_0178_prep2_lossless.tif\n"
     ]
    },
    {
     "name": "stderr",
     "output_type": "stream",
     "text": [
      "Load image: 20.82 seconds.\n",
      "Crop patches: 0.00 seconds.\n",
      "No images are provided. Load instead.\n",
      "Not using image_cache.\n"
     ]
    },
    {
     "name": "stdout",
     "output_type": "stream",
     "text": [
      "/media/yuncong/BstemAtlasData/CSHL_data_processed/MD661/MD661_prep2_lossless/MD662&661-F107-2017.06.07-00.44.42_MD661_2_0320_prep2_lossless.tif\n"
     ]
    },
    {
     "name": "stderr",
     "output_type": "stream",
     "text": [
      "Load image: 22.69 seconds.\n",
      "Crop patches: 0.00 seconds.\n",
      "No images are provided. Load instead.\n",
      "Not using image_cache.\n"
     ]
    },
    {
     "name": "stdout",
     "output_type": "stream",
     "text": [
      "/media/yuncong/BstemAtlasData/CSHL_data_processed/MD661/MD661_prep2_lossless/MD662&661-F55-2017.06.22-17.33.34_MD661_2_0164_prep2_lossless.tif\n"
     ]
    },
    {
     "name": "stderr",
     "output_type": "stream",
     "text": [
      "Load image: 19.02 seconds.\n",
      "Crop patches: 0.00 seconds.\n",
      "No images are provided. Load instead.\n",
      "Not using image_cache.\n"
     ]
    },
    {
     "name": "stdout",
     "output_type": "stream",
     "text": [
      "/media/yuncong/BstemAtlasData/CSHL_data_processed/MD661/MD661_prep2_lossless/MD662&661-F108-2017.06.07-01.10.56_MD661_2_0323_prep2_lossless.tif\n"
     ]
    },
    {
     "name": "stderr",
     "output_type": "stream",
     "text": [
      "Load image: 22.74 seconds.\n",
      "Crop patches: 0.00 seconds.\n",
      "No images are provided. Load instead.\n",
      "Not using image_cache.\n"
     ]
    },
    {
     "name": "stdout",
     "output_type": "stream",
     "text": [
      "/media/yuncong/BstemAtlasData/CSHL_data_processed/MD661/MD661_prep2_lossless/MD662&661-F118-2017.06.07-11.26.45_MD661_1_0352_prep2_lossless.tif\n"
     ]
    },
    {
     "name": "stderr",
     "output_type": "stream",
     "text": [
      "Load image: 21.08 seconds.\n",
      "Crop patches: 0.00 seconds.\n",
      "No images are provided. Load instead.\n",
      "Not using image_cache.\n"
     ]
    },
    {
     "name": "stdout",
     "output_type": "stream",
     "text": [
      "/media/yuncong/BstemAtlasData/CSHL_data_processed/MD661/MD661_prep2_lossless/MD662&661-F115-2017.06.07-04.11.41_MD661_1_0343_prep2_lossless.tif\n"
     ]
    },
    {
     "name": "stderr",
     "output_type": "stream",
     "text": [
      "Load image: 20.95 seconds.\n",
      "Crop patches: 0.00 seconds.\n",
      "No images are provided. Load instead.\n",
      "Not using image_cache.\n"
     ]
    },
    {
     "name": "stdout",
     "output_type": "stream",
     "text": [
      "/media/yuncong/BstemAtlasData/CSHL_data_processed/MD661/MD661_prep2_lossless/MD662&661-F58-2017.06.06-02.35.45_MD661_2_0173_prep2_lossless.tif\n"
     ]
    },
    {
     "name": "stderr",
     "output_type": "stream",
     "text": [
      "Load image: 19.45 seconds.\n",
      "Crop patches: 0.00 seconds.\n",
      "No images are provided. Load instead.\n",
      "Not using image_cache.\n"
     ]
    },
    {
     "name": "stdout",
     "output_type": "stream",
     "text": [
      "/media/yuncong/BstemAtlasData/CSHL_data_processed/MD661/MD661_prep2_lossless/MD662&661-F99-2017.06.06-21.14.03_MD661_2_0296_prep2_lossless.tif\n"
     ]
    },
    {
     "name": "stderr",
     "output_type": "stream",
     "text": [
      "Load image: 22.88 seconds.\n",
      "Crop patches: 0.00 seconds.\n",
      "No images are provided. Load instead.\n",
      "Not using image_cache.\n"
     ]
    },
    {
     "name": "stdout",
     "output_type": "stream",
     "text": [
      "/media/yuncong/BstemAtlasData/CSHL_data_processed/MD661/MD661_prep2_lossless/MD662&661-F57-2017.06.06-02.06.22_MD661_2_0170_prep2_lossless.tif\n"
     ]
    },
    {
     "name": "stderr",
     "output_type": "stream",
     "text": [
      "Load image: 19.64 seconds.\n",
      "Crop patches: 0.00 seconds.\n",
      "No images are provided. Load instead.\n",
      "Not using image_cache.\n"
     ]
    },
    {
     "name": "stdout",
     "output_type": "stream",
     "text": [
      "/media/yuncong/BstemAtlasData/CSHL_data_processed/MD661/MD661_prep2_lossless/MD662&661-F50-2017.06.06-00.35.44_MD661_3_0150_prep2_lossless.tif\n"
     ]
    },
    {
     "name": "stderr",
     "output_type": "stream",
     "text": [
      "Load image: 21.35 seconds.\n",
      "Crop patches: 0.00 seconds.\n"
     ]
    },
    {
     "name": "stdout",
     "output_type": "stream",
     "text": [
      "aws s3 cp \"/home/yuncong/training_examples/MD661/7N_negative.png\" \"s3://mousebrainatlas-data/training_examples/MD661/7N_negative.png\"\n",
      "# positive train = 192\n",
      "# negative train = 3759\n"
     ]
    },
    {
     "name": "stderr",
     "output_type": "stream",
     "text": [
      "No images are provided. Load instead.\n",
      "Not using image_cache.\n"
     ]
    },
    {
     "name": "stdout",
     "output_type": "stream",
     "text": [
      "/media/yuncong/BstemAtlasData/CSHL_data_processed/MD661/MD661_prep2_lossless/MD662&661-F66-2017.06.06-06.35.52_MD661_1_0196_prep2_lossless.tif\n"
     ]
    },
    {
     "name": "stderr",
     "output_type": "stream",
     "text": [
      "Load image: 20.38 seconds.\n",
      "Crop patches: 0.00 seconds.\n",
      "No images are provided. Load instead.\n",
      "Not using image_cache.\n"
     ]
    },
    {
     "name": "stdout",
     "output_type": "stream",
     "text": [
      "/media/yuncong/BstemAtlasData/CSHL_data_processed/MD661/MD661_prep2_lossless/MD662&661-F114-2017.06.07-03.45.47_MD661_1_0340_prep2_lossless.tif\n"
     ]
    },
    {
     "name": "stderr",
     "output_type": "stream",
     "text": [
      "Load image: 20.47 seconds.\n",
      "Crop patches: 0.00 seconds.\n",
      "No images are provided. Load instead.\n",
      "Not using image_cache.\n"
     ]
    },
    {
     "name": "stdout",
     "output_type": "stream",
     "text": [
      "/media/yuncong/BstemAtlasData/CSHL_data_processed/MD661/MD661_prep2_lossless/MD662&661-F95-2017.06.06-19.27.57_MD661_2_0284_prep2_lossless.tif\n"
     ]
    },
    {
     "name": "stderr",
     "output_type": "stream",
     "text": [
      "Load image: 21.71 seconds.\n",
      "Crop patches: 0.00 seconds.\n",
      "No images are provided. Load instead.\n",
      "Not using image_cache.\n"
     ]
    },
    {
     "name": "stdout",
     "output_type": "stream",
     "text": [
      "/media/yuncong/BstemAtlasData/CSHL_data_processed/MD661/MD661_prep2_lossless/MD662&661-F101-2017.06.06-22.05.45_MD661_2_0302_prep2_lossless.tif\n"
     ]
    },
    {
     "name": "stderr",
     "output_type": "stream",
     "text": [
      "Load image: 21.55 seconds.\n",
      "Crop patches: 0.00 seconds.\n",
      "No images are provided. Load instead.\n",
      "Not using image_cache.\n"
     ]
    },
    {
     "name": "stdout",
     "output_type": "stream",
     "text": [
      "/media/yuncong/BstemAtlasData/CSHL_data_processed/MD661/MD661_prep2_lossless/MD662&661-F99-2017.06.06-21.14.03_MD661_1_0295_prep2_lossless.tif\n"
     ]
    },
    {
     "name": "stderr",
     "output_type": "stream",
     "text": [
      "Load image: 20.51 seconds.\n",
      "Crop patches: 0.00 seconds.\n",
      "No images are provided. Load instead.\n",
      "Not using image_cache.\n"
     ]
    },
    {
     "name": "stdout",
     "output_type": "stream",
     "text": [
      "/media/yuncong/BstemAtlasData/CSHL_data_processed/MD661/MD661_prep2_lossless/MD662&661-F67-2017.06.06-07.07.27_MD661_3_0201_prep2_lossless.tif\n"
     ]
    },
    {
     "name": "stderr",
     "output_type": "stream",
     "text": [
      "Load image: 17.87 seconds.\n",
      "Crop patches: 0.00 seconds.\n",
      "No images are provided. Load instead.\n",
      "Not using image_cache.\n"
     ]
    },
    {
     "name": "stdout",
     "output_type": "stream",
     "text": [
      "/media/yuncong/BstemAtlasData/CSHL_data_processed/MD661/MD661_prep2_lossless/MD662&661-F100-2017.06.06-21.40.10_MD661_2_0299_prep2_lossless.tif\n"
     ]
    },
    {
     "name": "stderr",
     "output_type": "stream",
     "text": [
      "Load image: 18.69 seconds.\n",
      "Crop patches: 0.00 seconds.\n",
      "No images are provided. Load instead.\n",
      "Not using image_cache.\n"
     ]
    },
    {
     "name": "stdout",
     "output_type": "stream",
     "text": [
      "/media/yuncong/BstemAtlasData/CSHL_data_processed/MD661/MD661_prep2_lossless/MD662&661-F103-2017.06.06-22.56.22_MD661_2_0308_prep2_lossless.tif\n"
     ]
    },
    {
     "name": "stderr",
     "output_type": "stream",
     "text": [
      "Load image: 18.37 seconds.\n",
      "Crop patches: 0.00 seconds.\n",
      "No images are provided. Load instead.\n",
      "Not using image_cache.\n"
     ]
    },
    {
     "name": "stdout",
     "output_type": "stream",
     "text": [
      "/media/yuncong/BstemAtlasData/CSHL_data_processed/MD661/MD661_prep2_lossless/MD662&661-F52-2017.06.06-01.35.53_MD661_2_0155_prep2_lossless.tif\n"
     ]
    },
    {
     "name": "stderr",
     "output_type": "stream",
     "text": [
      "Load image: 16.33 seconds.\n",
      "Crop patches: 0.00 seconds.\n",
      "No images are provided. Load instead.\n",
      "Not using image_cache.\n"
     ]
    },
    {
     "name": "stdout",
     "output_type": "stream",
     "text": [
      "/media/yuncong/BstemAtlasData/CSHL_data_processed/MD661/MD661_prep2_lossless/MD662&661-F61-2017.06.06-04.06.02_MD661_2_0182_prep2_lossless.tif\n"
     ]
    },
    {
     "name": "stderr",
     "output_type": "stream",
     "text": [
      "Load image: 16.70 seconds.\n",
      "Crop patches: 0.00 seconds.\n"
     ]
    },
    {
     "name": "stdout",
     "output_type": "stream",
     "text": [
      "aws s3 cp \"/home/yuncong/training_examples/MD661/7n_positive.png\" \"s3://mousebrainatlas-data/training_examples/MD661/7n_positive.png\"\n"
     ]
    },
    {
     "name": "stderr",
     "output_type": "stream",
     "text": [
      "No images are provided. Load instead.\n",
      "Not using image_cache.\n"
     ]
    },
    {
     "name": "stdout",
     "output_type": "stream",
     "text": [
      "/media/yuncong/BstemAtlasData/CSHL_data_processed/MD661/MD661_prep2_lossless/MD662&661-F66-2017.06.06-06.35.52_MD661_1_0196_prep2_lossless.tif\n"
     ]
    },
    {
     "name": "stderr",
     "output_type": "stream",
     "text": [
      "Load image: 17.22 seconds.\n",
      "Crop patches: 0.00 seconds.\n",
      "No images are provided. Load instead.\n",
      "Not using image_cache.\n"
     ]
    },
    {
     "name": "stdout",
     "output_type": "stream",
     "text": [
      "/media/yuncong/BstemAtlasData/CSHL_data_processed/MD661/MD661_prep2_lossless/MD662&661-F114-2017.06.07-03.45.47_MD661_1_0340_prep2_lossless.tif\n"
     ]
    },
    {
     "name": "stderr",
     "output_type": "stream",
     "text": [
      "Load image: 51.17 seconds.\n",
      "Crop patches: 0.00 seconds.\n",
      "No images are provided. Load instead.\n",
      "Not using image_cache.\n"
     ]
    },
    {
     "name": "stdout",
     "output_type": "stream",
     "text": [
      "/media/yuncong/BstemAtlasData/CSHL_data_processed/MD661/MD661_prep2_lossless/MD662&661-F95-2017.06.06-19.27.57_MD661_2_0284_prep2_lossless.tif\n"
     ]
    },
    {
     "name": "stderr",
     "output_type": "stream",
     "text": [
      "Load image: 24.93 seconds.\n",
      "Crop patches: 0.00 seconds.\n",
      "No images are provided. Load instead.\n",
      "Not using image_cache.\n"
     ]
    },
    {
     "name": "stdout",
     "output_type": "stream",
     "text": [
      "/media/yuncong/BstemAtlasData/CSHL_data_processed/MD661/MD661_prep2_lossless/MD662&661-F101-2017.06.06-22.05.45_MD661_2_0302_prep2_lossless.tif\n"
     ]
    },
    {
     "name": "stderr",
     "output_type": "stream",
     "text": [
      "Load image: 18.69 seconds.\n",
      "Crop patches: 0.00 seconds.\n",
      "No images are provided. Load instead.\n",
      "Not using image_cache.\n"
     ]
    },
    {
     "name": "stdout",
     "output_type": "stream",
     "text": [
      "/media/yuncong/BstemAtlasData/CSHL_data_processed/MD661/MD661_prep2_lossless/MD662&661-F99-2017.06.06-21.14.03_MD661_1_0295_prep2_lossless.tif\n"
     ]
    },
    {
     "name": "stderr",
     "output_type": "stream",
     "text": [
      "Load image: 17.76 seconds.\n",
      "Crop patches: 0.00 seconds.\n",
      "No images are provided. Load instead.\n",
      "Not using image_cache.\n"
     ]
    },
    {
     "name": "stdout",
     "output_type": "stream",
     "text": [
      "/media/yuncong/BstemAtlasData/CSHL_data_processed/MD661/MD661_prep2_lossless/MD662&661-F67-2017.06.06-07.07.27_MD661_3_0201_prep2_lossless.tif\n"
     ]
    },
    {
     "name": "stderr",
     "output_type": "stream",
     "text": [
      "Load image: 16.40 seconds.\n",
      "Crop patches: 0.00 seconds.\n",
      "No images are provided. Load instead.\n",
      "Not using image_cache.\n"
     ]
    },
    {
     "name": "stdout",
     "output_type": "stream",
     "text": [
      "/media/yuncong/BstemAtlasData/CSHL_data_processed/MD661/MD661_prep2_lossless/MD662&661-F100-2017.06.06-21.40.10_MD661_2_0299_prep2_lossless.tif\n"
     ]
    },
    {
     "name": "stderr",
     "output_type": "stream",
     "text": [
      "Load image: 17.98 seconds.\n",
      "Crop patches: 0.00 seconds.\n",
      "No images are provided. Load instead.\n",
      "Not using image_cache.\n"
     ]
    },
    {
     "name": "stdout",
     "output_type": "stream",
     "text": [
      "/media/yuncong/BstemAtlasData/CSHL_data_processed/MD661/MD661_prep2_lossless/MD662&661-F103-2017.06.06-22.56.22_MD661_2_0308_prep2_lossless.tif\n"
     ]
    },
    {
     "name": "stderr",
     "output_type": "stream",
     "text": [
      "Load image: 17.08 seconds.\n",
      "Crop patches: 0.00 seconds.\n",
      "No images are provided. Load instead.\n",
      "Not using image_cache.\n"
     ]
    },
    {
     "name": "stdout",
     "output_type": "stream",
     "text": [
      "/media/yuncong/BstemAtlasData/CSHL_data_processed/MD661/MD661_prep2_lossless/MD662&661-F52-2017.06.06-01.35.53_MD661_2_0155_prep2_lossless.tif\n"
     ]
    },
    {
     "name": "stderr",
     "output_type": "stream",
     "text": [
      "Load image: 15.34 seconds.\n",
      "Crop patches: 0.00 seconds.\n",
      "No images are provided. Load instead.\n",
      "Not using image_cache.\n"
     ]
    },
    {
     "name": "stdout",
     "output_type": "stream",
     "text": [
      "/media/yuncong/BstemAtlasData/CSHL_data_processed/MD661/MD661_prep2_lossless/MD662&661-F61-2017.06.06-04.06.02_MD661_2_0182_prep2_lossless.tif\n"
     ]
    },
    {
     "name": "stderr",
     "output_type": "stream",
     "text": [
      "Load image: 17.39 seconds.\n",
      "Crop patches: 0.00 seconds.\n"
     ]
    },
    {
     "name": "stdout",
     "output_type": "stream",
     "text": [
      "aws s3 cp \"/home/yuncong/training_examples/MD661/7n_negative.png\" \"s3://mousebrainatlas-data/training_examples/MD661/7n_negative.png\"\n",
      "# positive train = 9\n",
      "# negative train = 2163\n"
     ]
    },
    {
     "name": "stderr",
     "output_type": "stream",
     "text": [
      "No images are provided. Load instead.\n",
      "Not using image_cache.\n"
     ]
    },
    {
     "name": "stdout",
     "output_type": "stream",
     "text": [
      "/media/yuncong/BstemAtlasData/CSHL_data_processed/MD661/MD661_prep2_lossless/MD662&661-F112-2017.06.07-02.53.08_MD661_1_0334_prep2_lossless.tif\n"
     ]
    },
    {
     "name": "stderr",
     "output_type": "stream",
     "text": [
      "Load image: 17.57 seconds.\n",
      "Crop patches: 0.00 seconds.\n",
      "No images are provided. Load instead.\n",
      "Not using image_cache.\n"
     ]
    },
    {
     "name": "stdout",
     "output_type": "stream",
     "text": [
      "/media/yuncong/BstemAtlasData/CSHL_data_processed/MD661/MD661_prep2_lossless/MD662&661-F111-2017.06.07-02.28.23_MD661_1_0331_prep2_lossless.tif\n"
     ]
    },
    {
     "name": "stderr",
     "output_type": "stream",
     "text": [
      "Load image: 18.45 seconds.\n",
      "Crop patches: 0.00 seconds.\n",
      "No images are provided. Load instead.\n",
      "Not using image_cache.\n"
     ]
    },
    {
     "name": "stdout",
     "output_type": "stream",
     "text": [
      "/media/yuncong/BstemAtlasData/CSHL_data_processed/MD661/MD661_prep2_lossless/MD662&661-F52-2017.06.06-01.35.53_MD661_1_0154_prep2_lossless.tif\n"
     ]
    },
    {
     "name": "stderr",
     "output_type": "stream",
     "text": [
      "Load image: 15.83 seconds.\n",
      "Crop patches: 0.00 seconds.\n",
      "No images are provided. Load instead.\n",
      "Not using image_cache.\n"
     ]
    },
    {
     "name": "stdout",
     "output_type": "stream",
     "text": [
      "/media/yuncong/BstemAtlasData/CSHL_data_processed/MD661/MD661_prep2_lossless/MD662&661-F111-2017.06.07-02.28.23_MD661_2_0332_prep2_lossless.tif\n"
     ]
    },
    {
     "name": "stderr",
     "output_type": "stream",
     "text": [
      "Load image: 17.78 seconds.\n",
      "Crop patches: 0.00 seconds.\n",
      "No images are provided. Load instead.\n",
      "Not using image_cache.\n"
     ]
    },
    {
     "name": "stdout",
     "output_type": "stream",
     "text": [
      "/media/yuncong/BstemAtlasData/CSHL_data_processed/MD661/MD661_prep2_lossless/MD662&661-F52-2017.06.06-01.35.53_MD661_2_0155_prep2_lossless.tif\n"
     ]
    },
    {
     "name": "stderr",
     "output_type": "stream",
     "text": [
      "Load image: 15.62 seconds.\n",
      "Crop patches: 0.00 seconds.\n"
     ]
    },
    {
     "name": "stdout",
     "output_type": "stream",
     "text": [
      "aws s3 cp \"/home/yuncong/training_examples/MD661/Amb_positive.png\" \"s3://mousebrainatlas-data/training_examples/MD661/Amb_positive.png\"\n"
     ]
    },
    {
     "name": "stderr",
     "output_type": "stream",
     "text": [
      "No images are provided. Load instead.\n",
      "Not using image_cache.\n"
     ]
    },
    {
     "name": "stdout",
     "output_type": "stream",
     "text": [
      "/media/yuncong/BstemAtlasData/CSHL_data_processed/MD661/MD661_prep2_lossless/MD662&661-F112-2017.06.07-02.53.08_MD661_1_0334_prep2_lossless.tif\n"
     ]
    },
    {
     "name": "stderr",
     "output_type": "stream",
     "text": [
      "Load image: 18.15 seconds.\n",
      "Crop patches: 0.00 seconds.\n",
      "No images are provided. Load instead.\n",
      "Not using image_cache.\n"
     ]
    },
    {
     "name": "stdout",
     "output_type": "stream",
     "text": [
      "/media/yuncong/BstemAtlasData/CSHL_data_processed/MD661/MD661_prep2_lossless/MD662&661-F111-2017.06.07-02.28.23_MD661_1_0331_prep2_lossless.tif\n"
     ]
    },
    {
     "name": "stderr",
     "output_type": "stream",
     "text": [
      "Load image: 17.93 seconds.\n",
      "Crop patches: 0.00 seconds.\n",
      "No images are provided. Load instead.\n",
      "Not using image_cache.\n"
     ]
    },
    {
     "name": "stdout",
     "output_type": "stream",
     "text": [
      "/media/yuncong/BstemAtlasData/CSHL_data_processed/MD661/MD661_prep2_lossless/MD662&661-F52-2017.06.06-01.35.53_MD661_1_0154_prep2_lossless.tif\n"
     ]
    },
    {
     "name": "stderr",
     "output_type": "stream",
     "text": [
      "Load image: 15.63 seconds.\n",
      "Crop patches: 0.00 seconds.\n",
      "No images are provided. Load instead.\n",
      "Not using image_cache.\n"
     ]
    },
    {
     "name": "stdout",
     "output_type": "stream",
     "text": [
      "/media/yuncong/BstemAtlasData/CSHL_data_processed/MD661/MD661_prep2_lossless/MD662&661-F111-2017.06.07-02.28.23_MD661_2_0332_prep2_lossless.tif\n"
     ]
    },
    {
     "name": "stderr",
     "output_type": "stream",
     "text": [
      "Load image: 17.57 seconds.\n",
      "Crop patches: 0.00 seconds.\n",
      "No images are provided. Load instead.\n",
      "Not using image_cache.\n"
     ]
    },
    {
     "name": "stdout",
     "output_type": "stream",
     "text": [
      "/media/yuncong/BstemAtlasData/CSHL_data_processed/MD661/MD661_prep2_lossless/MD662&661-F52-2017.06.06-01.35.53_MD661_2_0155_prep2_lossless.tif\n"
     ]
    },
    {
     "name": "stderr",
     "output_type": "stream",
     "text": [
      "Load image: 15.30 seconds.\n",
      "Crop patches: 0.00 seconds.\n"
     ]
    },
    {
     "name": "stdout",
     "output_type": "stream",
     "text": [
      "aws s3 cp \"/home/yuncong/training_examples/MD661/Amb_negative.png\" \"s3://mousebrainatlas-data/training_examples/MD661/Amb_negative.png\"\n",
      "# positive train = 430\n",
      "# negative train = 5701\n"
     ]
    },
    {
     "name": "stderr",
     "output_type": "stream",
     "text": [
      "No images are provided. Load instead.\n",
      "Not using image_cache.\n"
     ]
    },
    {
     "name": "stdout",
     "output_type": "stream",
     "text": [
      "/media/yuncong/BstemAtlasData/CSHL_data_processed/MD661/MD661_prep2_lossless/MD662&661-F63-2017.06.06-05.05.24_MD661_2_0188_prep2_lossless.tif\n"
     ]
    },
    {
     "name": "stderr",
     "output_type": "stream",
     "text": [
      "Load image: 16.96 seconds.\n",
      "Crop patches: 0.00 seconds.\n",
      "No images are provided. Load instead.\n",
      "Not using image_cache.\n"
     ]
    },
    {
     "name": "stdout",
     "output_type": "stream",
     "text": [
      "/media/yuncong/BstemAtlasData/CSHL_data_processed/MD661/MD661_prep2_lossless/MD662&661-F63-2017.06.06-05.05.24_MD661_3_0189_prep2_lossless.tif\n"
     ]
    },
    {
     "name": "stderr",
     "output_type": "stream",
     "text": [
      "Load image: 17.49 seconds.\n",
      "Crop patches: 0.00 seconds.\n",
      "No images are provided. Load instead.\n",
      "Not using image_cache.\n"
     ]
    },
    {
     "name": "stdout",
     "output_type": "stream",
     "text": [
      "/media/yuncong/BstemAtlasData/CSHL_data_processed/MD661/MD661_prep2_lossless/MD662&661-F62-2017.06.06-04.35.55_MD661_1_0184_prep2_lossless.tif\n"
     ]
    },
    {
     "name": "stderr",
     "output_type": "stream",
     "text": [
      "Load image: 15.14 seconds.\n",
      "Crop patches: 0.00 seconds.\n",
      "No images are provided. Load instead.\n",
      "Not using image_cache.\n"
     ]
    },
    {
     "name": "stdout",
     "output_type": "stream",
     "text": [
      "/media/yuncong/BstemAtlasData/CSHL_data_processed/MD661/MD661_prep2_lossless/MD662&661-F64-2017.06.06-05.35.10_MD661_1_0190_prep2_lossless.tif\n"
     ]
    },
    {
     "name": "stderr",
     "output_type": "stream",
     "text": [
      "Load image: 15.32 seconds.\n",
      "Crop patches: 0.00 seconds.\n",
      "No images are provided. Load instead.\n",
      "Not using image_cache.\n"
     ]
    },
    {
     "name": "stdout",
     "output_type": "stream",
     "text": [
      "/media/yuncong/BstemAtlasData/CSHL_data_processed/MD661/MD661_prep2_lossless/MD662&661-F62-2017.06.06-04.35.55_MD661_2_0185_prep2_lossless.tif\n"
     ]
    },
    {
     "name": "stderr",
     "output_type": "stream",
     "text": [
      "Load image: 17.31 seconds.\n",
      "Crop patches: 0.00 seconds.\n",
      "No images are provided. Load instead.\n",
      "Not using image_cache.\n"
     ]
    },
    {
     "name": "stdout",
     "output_type": "stream",
     "text": [
      "/media/yuncong/BstemAtlasData/CSHL_data_processed/MD661/MD661_prep2_lossless/MD662&661-F62-2017.06.06-04.35.55_MD661_3_0186_prep2_lossless.tif\n"
     ]
    },
    {
     "name": "stderr",
     "output_type": "stream",
     "text": [
      "Load image: 17.84 seconds.\n",
      "Crop patches: 0.00 seconds.\n",
      "No images are provided. Load instead.\n",
      "Not using image_cache.\n"
     ]
    },
    {
     "name": "stdout",
     "output_type": "stream",
     "text": [
      "/media/yuncong/BstemAtlasData/CSHL_data_processed/MD661/MD661_prep2_lossless/MD662&661-F102-2017.06.06-22.30.50_MD661_1_0304_prep2_lossless.tif\n"
     ]
    },
    {
     "name": "stderr",
     "output_type": "stream",
     "text": [
      "Load image: 18.20 seconds.\n",
      "Crop patches: 0.00 seconds.\n",
      "No images are provided. Load instead.\n",
      "Not using image_cache.\n"
     ]
    },
    {
     "name": "stdout",
     "output_type": "stream",
     "text": [
      "/media/yuncong/BstemAtlasData/CSHL_data_processed/MD661/MD661_prep2_lossless/MD662&661-F100-2017.06.06-21.40.10_MD661_1_0298_prep2_lossless.tif\n"
     ]
    },
    {
     "name": "stderr",
     "output_type": "stream",
     "text": [
      "Load image: 17.67 seconds.\n",
      "Crop patches: 0.00 seconds.\n",
      "No images are provided. Load instead.\n",
      "Not using image_cache.\n"
     ]
    },
    {
     "name": "stdout",
     "output_type": "stream",
     "text": [
      "/media/yuncong/BstemAtlasData/CSHL_data_processed/MD661/MD661_prep2_lossless/MD662&661-F103-2017.06.06-22.56.22_MD661_1_0307_prep2_lossless.tif\n"
     ]
    },
    {
     "name": "stderr",
     "output_type": "stream",
     "text": [
      "Load image: 17.95 seconds.\n",
      "Crop patches: 0.00 seconds.\n"
     ]
    },
    {
     "name": "stdout",
     "output_type": "stream",
     "text": [
      "aws s3 cp \"/home/yuncong/training_examples/MD661/LC_positive.png\" \"s3://mousebrainatlas-data/training_examples/MD661/LC_positive.png\"\n"
     ]
    },
    {
     "name": "stderr",
     "output_type": "stream",
     "text": [
      "No images are provided. Load instead.\n",
      "Not using image_cache.\n"
     ]
    },
    {
     "name": "stdout",
     "output_type": "stream",
     "text": [
      "/media/yuncong/BstemAtlasData/CSHL_data_processed/MD661/MD661_prep2_lossless/MD662&661-F63-2017.06.06-05.05.24_MD661_2_0188_prep2_lossless.tif\n"
     ]
    },
    {
     "name": "stderr",
     "output_type": "stream",
     "text": [
      "Load image: 17.28 seconds.\n",
      "Crop patches: 0.00 seconds.\n",
      "No images are provided. Load instead.\n",
      "Not using image_cache.\n"
     ]
    },
    {
     "name": "stdout",
     "output_type": "stream",
     "text": [
      "/media/yuncong/BstemAtlasData/CSHL_data_processed/MD661/MD661_prep2_lossless/MD662&661-F63-2017.06.06-05.05.24_MD661_3_0189_prep2_lossless.tif\n"
     ]
    },
    {
     "name": "stderr",
     "output_type": "stream",
     "text": [
      "Load image: 16.69 seconds.\n",
      "Crop patches: 0.00 seconds.\n",
      "No images are provided. Load instead.\n",
      "Not using image_cache.\n"
     ]
    },
    {
     "name": "stdout",
     "output_type": "stream",
     "text": [
      "/media/yuncong/BstemAtlasData/CSHL_data_processed/MD661/MD661_prep2_lossless/MD662&661-F62-2017.06.06-04.35.55_MD661_1_0184_prep2_lossless.tif\n"
     ]
    },
    {
     "name": "stderr",
     "output_type": "stream",
     "text": [
      "Load image: 14.91 seconds.\n",
      "Crop patches: 0.00 seconds.\n",
      "No images are provided. Load instead.\n",
      "Not using image_cache.\n"
     ]
    },
    {
     "name": "stdout",
     "output_type": "stream",
     "text": [
      "/media/yuncong/BstemAtlasData/CSHL_data_processed/MD661/MD661_prep2_lossless/MD662&661-F64-2017.06.06-05.35.10_MD661_1_0190_prep2_lossless.tif\n"
     ]
    },
    {
     "name": "stderr",
     "output_type": "stream",
     "text": [
      "Load image: 15.34 seconds.\n",
      "Crop patches: 0.00 seconds.\n",
      "No images are provided. Load instead.\n",
      "Not using image_cache.\n"
     ]
    },
    {
     "name": "stdout",
     "output_type": "stream",
     "text": [
      "/media/yuncong/BstemAtlasData/CSHL_data_processed/MD661/MD661_prep2_lossless/MD662&661-F62-2017.06.06-04.35.55_MD661_3_0186_prep2_lossless.tif\n"
     ]
    },
    {
     "name": "stderr",
     "output_type": "stream",
     "text": [
      "Load image: 17.81 seconds.\n",
      "Crop patches: 0.00 seconds.\n",
      "No images are provided. Load instead.\n",
      "Not using image_cache.\n"
     ]
    },
    {
     "name": "stdout",
     "output_type": "stream",
     "text": [
      "/media/yuncong/BstemAtlasData/CSHL_data_processed/MD661/MD661_prep2_lossless/MD662&661-F99-2017.06.06-21.14.03_MD661_1_0295_prep2_lossless.tif\n"
     ]
    },
    {
     "name": "stderr",
     "output_type": "stream",
     "text": [
      "Load image: 17.50 seconds.\n",
      "Crop patches: 0.00 seconds.\n",
      "No images are provided. Load instead.\n",
      "Not using image_cache.\n"
     ]
    },
    {
     "name": "stdout",
     "output_type": "stream",
     "text": [
      "/media/yuncong/BstemAtlasData/CSHL_data_processed/MD661/MD661_prep2_lossless/MD662&661-F102-2017.06.06-22.30.50_MD661_1_0304_prep2_lossless.tif\n"
     ]
    },
    {
     "name": "stderr",
     "output_type": "stream",
     "text": [
      "Load image: 17.72 seconds.\n",
      "Crop patches: 0.00 seconds.\n",
      "No images are provided. Load instead.\n",
      "Not using image_cache.\n"
     ]
    },
    {
     "name": "stdout",
     "output_type": "stream",
     "text": [
      "/media/yuncong/BstemAtlasData/CSHL_data_processed/MD661/MD661_prep2_lossless/MD662&661-F100-2017.06.06-21.40.10_MD661_1_0298_prep2_lossless.tif\n"
     ]
    },
    {
     "name": "stderr",
     "output_type": "stream",
     "text": [
      "Load image: 17.76 seconds.\n",
      "Crop patches: 0.00 seconds.\n",
      "No images are provided. Load instead.\n",
      "Not using image_cache.\n"
     ]
    },
    {
     "name": "stdout",
     "output_type": "stream",
     "text": [
      "/media/yuncong/BstemAtlasData/CSHL_data_processed/MD661/MD661_prep2_lossless/MD662&661-F103-2017.06.06-22.56.22_MD661_1_0307_prep2_lossless.tif\n"
     ]
    },
    {
     "name": "stderr",
     "output_type": "stream",
     "text": [
      "Load image: 19.63 seconds.\n",
      "Crop patches: 0.00 seconds.\n"
     ]
    },
    {
     "name": "stdout",
     "output_type": "stream",
     "text": [
      "aws s3 cp \"/home/yuncong/training_examples/MD661/LC_negative.png\" \"s3://mousebrainatlas-data/training_examples/MD661/LC_negative.png\"\n",
      "# positive train = 812\n",
      "# negative train = 7028\n"
     ]
    },
    {
     "name": "stderr",
     "output_type": "stream",
     "text": [
      "No images are provided. Load instead.\n",
      "Not using image_cache.\n"
     ]
    },
    {
     "name": "stdout",
     "output_type": "stream",
     "text": [
      "/media/yuncong/BstemAtlasData/CSHL_data_processed/MD661/MD661_prep2_lossless/MD662&661-F108-2017.06.07-01.10.56_MD661_1_0322_prep2_lossless.tif\n"
     ]
    },
    {
     "name": "stderr",
     "output_type": "stream",
     "text": [
      "Load image: 19.20 seconds.\n",
      "Crop patches: 0.00 seconds.\n",
      "No images are provided. Load instead.\n",
      "Not using image_cache.\n"
     ]
    },
    {
     "name": "stdout",
     "output_type": "stream",
     "text": [
      "/media/yuncong/BstemAtlasData/CSHL_data_processed/MD661/MD661_prep2_lossless/MD662&661-F111-2017.06.07-02.28.23_MD661_1_0331_prep2_lossless.tif\n"
     ]
    },
    {
     "name": "stderr",
     "output_type": "stream",
     "text": [
      "Load image: 18.01 seconds.\n",
      "Crop patches: 0.00 seconds.\n",
      "No images are provided. Load instead.\n",
      "Not using image_cache.\n"
     ]
    },
    {
     "name": "stdout",
     "output_type": "stream",
     "text": [
      "/media/yuncong/BstemAtlasData/CSHL_data_processed/MD661/MD661_prep2_lossless/MD662&661-F108-2017.06.07-01.10.56_MD661_2_0323_prep2_lossless.tif\n"
     ]
    },
    {
     "name": "stderr",
     "output_type": "stream",
     "text": [
      "Load image: 18.33 seconds.\n",
      "Crop patches: 0.00 seconds.\n",
      "No images are provided. Load instead.\n",
      "Not using image_cache.\n"
     ]
    },
    {
     "name": "stdout",
     "output_type": "stream",
     "text": [
      "/media/yuncong/BstemAtlasData/CSHL_data_processed/MD661/MD661_prep2_lossless/MD662&661-F54-2017.06.22-17.00.44_MD661_1_0160_prep2_lossless.tif\n"
     ]
    },
    {
     "name": "stderr",
     "output_type": "stream",
     "text": [
      "Load image: 16.36 seconds.\n",
      "Crop patches: 0.00 seconds.\n",
      "No images are provided. Load instead.\n",
      "Not using image_cache.\n"
     ]
    },
    {
     "name": "stdout",
     "output_type": "stream",
     "text": [
      "/media/yuncong/BstemAtlasData/CSHL_data_processed/MD661/MD661_prep2_lossless/MD662&661-F57-2017.06.06-02.06.22_MD661_3_0171_prep2_lossless.tif\n"
     ]
    },
    {
     "name": "stderr",
     "output_type": "stream",
     "text": [
      "Load image: 16.62 seconds.\n",
      "Crop patches: 0.00 seconds.\n",
      "No images are provided. Load instead.\n",
      "Not using image_cache.\n"
     ]
    },
    {
     "name": "stdout",
     "output_type": "stream",
     "text": [
      "/media/yuncong/BstemAtlasData/CSHL_data_processed/MD661/MD661_prep2_lossless/MD662&661-F56-2017.06.08-18.42.36_MD661_1_0166_prep2_lossless.tif\n"
     ]
    },
    {
     "name": "stderr",
     "output_type": "stream",
     "text": [
      "Load image: 15.28 seconds.\n",
      "Crop patches: 0.00 seconds.\n",
      "No images are provided. Load instead.\n",
      "Not using image_cache.\n"
     ]
    },
    {
     "name": "stdout",
     "output_type": "stream",
     "text": [
      "/media/yuncong/BstemAtlasData/CSHL_data_processed/MD661/MD661_prep2_lossless/MD662&661-F57-2017.06.06-02.06.22_MD661_1_0169_prep2_lossless.tif\n"
     ]
    },
    {
     "name": "stderr",
     "output_type": "stream",
     "text": [
      "Load image: 15.45 seconds.\n",
      "Crop patches: 0.00 seconds.\n",
      "No images are provided. Load instead.\n",
      "Not using image_cache.\n"
     ]
    },
    {
     "name": "stdout",
     "output_type": "stream",
     "text": [
      "/media/yuncong/BstemAtlasData/CSHL_data_processed/MD661/MD661_prep2_lossless/MD662&661-F114-2017.06.07-03.45.47_MD661_2_0341_prep2_lossless.tif\n"
     ]
    },
    {
     "name": "stderr",
     "output_type": "stream",
     "text": [
      "Load image: 17.12 seconds.\n",
      "Crop patches: 0.00 seconds.\n",
      "No images are provided. Load instead.\n",
      "Not using image_cache.\n"
     ]
    },
    {
     "name": "stdout",
     "output_type": "stream",
     "text": [
      "/media/yuncong/BstemAtlasData/CSHL_data_processed/MD661/MD661_prep2_lossless/MD662&661-F109-2017.06.07-01.37.37_MD661_1_0325_prep2_lossless.tif\n"
     ]
    },
    {
     "name": "stderr",
     "output_type": "stream",
     "text": [
      "Load image: 18.16 seconds.\n",
      "Crop patches: 0.00 seconds.\n"
     ]
    },
    {
     "name": "stdout",
     "output_type": "stream",
     "text": [
      "aws s3 cp \"/home/yuncong/training_examples/MD661/LRt_positive.png\" \"s3://mousebrainatlas-data/training_examples/MD661/LRt_positive.png\"\n"
     ]
    },
    {
     "name": "stderr",
     "output_type": "stream",
     "text": [
      "No images are provided. Load instead.\n",
      "Not using image_cache.\n"
     ]
    },
    {
     "name": "stdout",
     "output_type": "stream",
     "text": [
      "/media/yuncong/BstemAtlasData/CSHL_data_processed/MD661/MD661_prep2_lossless/MD662&661-F53-2017.06.08-17.11.31_MD661_1_0157_prep2_lossless.tif\n"
     ]
    },
    {
     "name": "stderr",
     "output_type": "stream",
     "text": [
      "Load image: 16.09 seconds.\n",
      "Crop patches: 0.00 seconds.\n",
      "No images are provided. Load instead.\n",
      "Not using image_cache.\n"
     ]
    },
    {
     "name": "stdout",
     "output_type": "stream",
     "text": [
      "/media/yuncong/BstemAtlasData/CSHL_data_processed/MD661/MD661_prep2_lossless/MD662&661-F108-2017.06.07-01.10.56_MD661_1_0322_prep2_lossless.tif\n"
     ]
    },
    {
     "name": "stderr",
     "output_type": "stream",
     "text": [
      "Load image: 16.81 seconds.\n",
      "Crop patches: 0.00 seconds.\n",
      "No images are provided. Load instead.\n",
      "Not using image_cache.\n"
     ]
    },
    {
     "name": "stdout",
     "output_type": "stream",
     "text": [
      "/media/yuncong/BstemAtlasData/CSHL_data_processed/MD661/MD661_prep2_lossless/MD662&661-F111-2017.06.07-02.28.23_MD661_1_0331_prep2_lossless.tif\n"
     ]
    },
    {
     "name": "stderr",
     "output_type": "stream",
     "text": [
      "Load image: 22.24 seconds.\n",
      "Crop patches: 0.00 seconds.\n",
      "No images are provided. Load instead.\n",
      "Not using image_cache.\n"
     ]
    },
    {
     "name": "stdout",
     "output_type": "stream",
     "text": [
      "/media/yuncong/BstemAtlasData/CSHL_data_processed/MD661/MD661_prep2_lossless/MD662&661-F108-2017.06.07-01.10.56_MD661_2_0323_prep2_lossless.tif\n"
     ]
    },
    {
     "name": "stderr",
     "output_type": "stream",
     "text": [
      "Load image: 29.48 seconds.\n",
      "Crop patches: 0.00 seconds.\n",
      "No images are provided. Load instead.\n",
      "Not using image_cache.\n"
     ]
    },
    {
     "name": "stdout",
     "output_type": "stream",
     "text": [
      "/media/yuncong/BstemAtlasData/CSHL_data_processed/MD661/MD661_prep2_lossless/MD662&661-F54-2017.06.22-17.00.44_MD661_1_0160_prep2_lossless.tif\n"
     ]
    },
    {
     "name": "stderr",
     "output_type": "stream",
     "text": [
      "Load image: 22.54 seconds.\n",
      "Crop patches: 0.00 seconds.\n",
      "No images are provided. Load instead.\n",
      "Not using image_cache.\n"
     ]
    },
    {
     "name": "stdout",
     "output_type": "stream",
     "text": [
      "/media/yuncong/BstemAtlasData/CSHL_data_processed/MD661/MD661_prep2_lossless/MD662&661-F57-2017.06.06-02.06.22_MD661_3_0171_prep2_lossless.tif\n"
     ]
    },
    {
     "name": "stderr",
     "output_type": "stream",
     "text": [
      "Load image: 16.61 seconds.\n",
      "Crop patches: 0.00 seconds.\n",
      "No images are provided. Load instead.\n",
      "Not using image_cache.\n"
     ]
    },
    {
     "name": "stdout",
     "output_type": "stream",
     "text": [
      "/media/yuncong/BstemAtlasData/CSHL_data_processed/MD661/MD661_prep2_lossless/MD662&661-F56-2017.06.08-18.42.36_MD661_1_0166_prep2_lossless.tif\n"
     ]
    },
    {
     "name": "stderr",
     "output_type": "stream",
     "text": [
      "Load image: 15.93 seconds.\n",
      "Crop patches: 0.00 seconds.\n",
      "No images are provided. Load instead.\n",
      "Not using image_cache.\n"
     ]
    },
    {
     "name": "stdout",
     "output_type": "stream",
     "text": [
      "/media/yuncong/BstemAtlasData/CSHL_data_processed/MD661/MD661_prep2_lossless/MD662&661-F57-2017.06.06-02.06.22_MD661_1_0169_prep2_lossless.tif\n"
     ]
    },
    {
     "name": "stderr",
     "output_type": "stream",
     "text": [
      "Load image: 15.74 seconds.\n",
      "Crop patches: 0.00 seconds.\n",
      "No images are provided. Load instead.\n",
      "Not using image_cache.\n"
     ]
    },
    {
     "name": "stdout",
     "output_type": "stream",
     "text": [
      "/media/yuncong/BstemAtlasData/CSHL_data_processed/MD661/MD661_prep2_lossless/MD662&661-F114-2017.06.07-03.45.47_MD661_2_0341_prep2_lossless.tif\n"
     ]
    },
    {
     "name": "stderr",
     "output_type": "stream",
     "text": [
      "Load image: 17.24 seconds.\n",
      "Crop patches: 0.00 seconds.\n",
      "No images are provided. Load instead.\n",
      "Not using image_cache.\n"
     ]
    },
    {
     "name": "stdout",
     "output_type": "stream",
     "text": [
      "/media/yuncong/BstemAtlasData/CSHL_data_processed/MD661/MD661_prep2_lossless/MD662&661-F109-2017.06.07-01.37.37_MD661_1_0325_prep2_lossless.tif\n"
     ]
    },
    {
     "name": "stderr",
     "output_type": "stream",
     "text": [
      "Load image: 16.93 seconds.\n",
      "Crop patches: 0.00 seconds.\n"
     ]
    },
    {
     "name": "stdout",
     "output_type": "stream",
     "text": [
      "aws s3 cp \"/home/yuncong/training_examples/MD661/LRt_negative.png\" \"s3://mousebrainatlas-data/training_examples/MD661/LRt_negative.png\"\n",
      "# positive train = 2226\n",
      "# negative train = 6013\n"
     ]
    },
    {
     "name": "stderr",
     "output_type": "stream",
     "text": [
      "No images are provided. Load instead.\n",
      "Not using image_cache.\n"
     ]
    },
    {
     "name": "stdout",
     "output_type": "stream",
     "text": [
      "/media/yuncong/BstemAtlasData/CSHL_data_processed/MD661/MD661_prep2_lossless/MD662&661-F92-2017.06.06-18.08.17_MD661_2_0275_prep2_lossless.tif\n"
     ]
    },
    {
     "name": "stderr",
     "output_type": "stream",
     "text": [
      "Load image: 18.77 seconds.\n",
      "Crop patches: 0.00 seconds.\n",
      "No images are provided. Load instead.\n",
      "Not using image_cache.\n"
     ]
    },
    {
     "name": "stdout",
     "output_type": "stream",
     "text": [
      "/media/yuncong/BstemAtlasData/CSHL_data_processed/MD661/MD661_prep2_lossless/MD662&661-F92-2017.06.06-18.08.17_MD661_1_0274_prep2_lossless.tif\n"
     ]
    },
    {
     "name": "stderr",
     "output_type": "stream",
     "text": [
      "Load image: 18.99 seconds.\n",
      "Crop patches: 0.00 seconds.\n",
      "No images are provided. Load instead.\n",
      "Not using image_cache.\n"
     ]
    },
    {
     "name": "stdout",
     "output_type": "stream",
     "text": [
      "/media/yuncong/BstemAtlasData/CSHL_data_processed/MD661/MD661_prep2_lossless/MD662&661-F52-2017.06.06-01.35.53_MD661_1_0154_prep2_lossless.tif\n"
     ]
    },
    {
     "name": "stderr",
     "output_type": "stream",
     "text": [
      "Load image: 16.24 seconds.\n",
      "Crop patches: 0.00 seconds.\n",
      "No images are provided. Load instead.\n",
      "Not using image_cache.\n"
     ]
    },
    {
     "name": "stdout",
     "output_type": "stream",
     "text": [
      "/media/yuncong/BstemAtlasData/CSHL_data_processed/MD661/MD661_prep2_lossless/MD662&661-F95-2017.06.06-19.27.57_MD661_2_0284_prep2_lossless.tif\n"
     ]
    },
    {
     "name": "stderr",
     "output_type": "stream",
     "text": [
      "Load image: 17.41 seconds.\n",
      "Crop patches: 0.00 seconds.\n",
      "No images are provided. Load instead.\n",
      "Not using image_cache.\n"
     ]
    },
    {
     "name": "stdout",
     "output_type": "stream",
     "text": [
      "/media/yuncong/BstemAtlasData/CSHL_data_processed/MD661/MD661_prep2_lossless/MD662&661-F98-2017.06.06-20.47.32_MD661_2_0293_prep2_lossless.tif\n"
     ]
    },
    {
     "name": "stderr",
     "output_type": "stream",
     "text": [
      "Load image: 18.47 seconds.\n",
      "Crop patches: 0.00 seconds.\n",
      "No images are provided. Load instead.\n",
      "Not using image_cache.\n"
     ]
    },
    {
     "name": "stdout",
     "output_type": "stream",
     "text": [
      "/media/yuncong/BstemAtlasData/CSHL_data_processed/MD661/MD661_prep2_lossless/MD662&661-F80-2017.06.06-12.18.56_MD661_1_0238_prep2_lossless.tif\n"
     ]
    },
    {
     "name": "stderr",
     "output_type": "stream",
     "text": [
      "Load image: 18.40 seconds.\n",
      "Crop patches: 0.00 seconds.\n",
      "No images are provided. Load instead.\n",
      "Not using image_cache.\n"
     ]
    },
    {
     "name": "stdout",
     "output_type": "stream",
     "text": [
      "/media/yuncong/BstemAtlasData/CSHL_data_processed/MD661/MD661_prep2_lossless/MD662&661-F54-2017.06.22-17.00.44_MD661_3_0162_prep2_lossless.tif\n"
     ]
    },
    {
     "name": "stderr",
     "output_type": "stream",
     "text": [
      "Load image: 16.65 seconds.\n",
      "Crop patches: 0.00 seconds.\n",
      "No images are provided. Load instead.\n",
      "Not using image_cache.\n"
     ]
    },
    {
     "name": "stdout",
     "output_type": "stream",
     "text": [
      "/media/yuncong/BstemAtlasData/CSHL_data_processed/MD661/MD661_prep2_lossless/MD662&661-F56-2017.06.08-18.42.36_MD661_3_0168_prep2_lossless.tif\n"
     ]
    },
    {
     "name": "stderr",
     "output_type": "stream",
     "text": [
      "Load image: 18.06 seconds.\n",
      "Crop patches: 0.00 seconds.\n",
      "No images are provided. Load instead.\n",
      "Not using image_cache.\n"
     ]
    },
    {
     "name": "stdout",
     "output_type": "stream",
     "text": [
      "/media/yuncong/BstemAtlasData/CSHL_data_processed/MD661/MD661_prep2_lossless/MD662&661-F84-2017.06.06-14.03.51_MD661_1_0250_prep2_lossless.tif\n"
     ]
    },
    {
     "name": "stderr",
     "output_type": "stream",
     "text": [
      "Load image: 18.33 seconds.\n",
      "Crop patches: 0.00 seconds.\n",
      "No images are provided. Load instead.\n",
      "Not using image_cache.\n"
     ]
    },
    {
     "name": "stdout",
     "output_type": "stream",
     "text": [
      "/media/yuncong/BstemAtlasData/CSHL_data_processed/MD661/MD661_prep2_lossless/MD662&661-F99-2017.06.06-21.14.03_MD661_2_0296_prep2_lossless.tif\n"
     ]
    },
    {
     "name": "stderr",
     "output_type": "stream",
     "text": [
      "Load image: 18.46 seconds.\n",
      "Crop patches: 0.00 seconds.\n"
     ]
    },
    {
     "name": "stdout",
     "output_type": "stream",
     "text": [
      "aws s3 cp \"/home/yuncong/training_examples/MD661/Pn_positive.png\" \"s3://mousebrainatlas-data/training_examples/MD661/Pn_positive.png\"\n"
     ]
    },
    {
     "name": "stderr",
     "output_type": "stream",
     "text": [
      "No images are provided. Load instead.\n",
      "Not using image_cache.\n"
     ]
    },
    {
     "name": "stdout",
     "output_type": "stream",
     "text": [
      "/media/yuncong/BstemAtlasData/CSHL_data_processed/MD661/MD661_prep2_lossless/MD662&661-F92-2017.06.06-18.08.17_MD661_2_0275_prep2_lossless.tif\n"
     ]
    },
    {
     "name": "stderr",
     "output_type": "stream",
     "text": [
      "Load image: 18.47 seconds.\n",
      "Crop patches: 0.00 seconds.\n",
      "No images are provided. Load instead.\n",
      "Not using image_cache.\n"
     ]
    },
    {
     "name": "stdout",
     "output_type": "stream",
     "text": [
      "/media/yuncong/BstemAtlasData/CSHL_data_processed/MD661/MD661_prep2_lossless/MD662&661-F92-2017.06.06-18.08.17_MD661_1_0274_prep2_lossless.tif\n"
     ]
    },
    {
     "name": "stderr",
     "output_type": "stream",
     "text": [
      "Load image: 18.78 seconds.\n",
      "Crop patches: 0.00 seconds.\n",
      "No images are provided. Load instead.\n",
      "Not using image_cache.\n"
     ]
    },
    {
     "name": "stdout",
     "output_type": "stream",
     "text": [
      "/media/yuncong/BstemAtlasData/CSHL_data_processed/MD661/MD661_prep2_lossless/MD662&661-F52-2017.06.06-01.35.53_MD661_1_0154_prep2_lossless.tif\n"
     ]
    },
    {
     "name": "stderr",
     "output_type": "stream",
     "text": [
      "Load image: 16.84 seconds.\n",
      "Crop patches: 0.00 seconds.\n",
      "No images are provided. Load instead.\n",
      "Not using image_cache.\n"
     ]
    },
    {
     "name": "stdout",
     "output_type": "stream",
     "text": [
      "/media/yuncong/BstemAtlasData/CSHL_data_processed/MD661/MD661_prep2_lossless/MD662&661-F95-2017.06.06-19.27.57_MD661_2_0284_prep2_lossless.tif\n"
     ]
    },
    {
     "name": "stderr",
     "output_type": "stream",
     "text": [
      "Load image: 18.26 seconds.\n",
      "Crop patches: 0.00 seconds.\n",
      "No images are provided. Load instead.\n",
      "Not using image_cache.\n"
     ]
    },
    {
     "name": "stdout",
     "output_type": "stream",
     "text": [
      "/media/yuncong/BstemAtlasData/CSHL_data_processed/MD661/MD661_prep2_lossless/MD662&661-F98-2017.06.06-20.47.32_MD661_2_0293_prep2_lossless.tif\n"
     ]
    },
    {
     "name": "stderr",
     "output_type": "stream",
     "text": [
      "Load image: 19.02 seconds.\n",
      "Crop patches: 0.00 seconds.\n",
      "No images are provided. Load instead.\n",
      "Not using image_cache.\n"
     ]
    },
    {
     "name": "stdout",
     "output_type": "stream",
     "text": [
      "/media/yuncong/BstemAtlasData/CSHL_data_processed/MD661/MD661_prep2_lossless/MD662&661-F80-2017.06.06-12.18.56_MD661_1_0238_prep2_lossless.tif\n"
     ]
    },
    {
     "name": "stderr",
     "output_type": "stream",
     "text": [
      "Load image: 18.63 seconds.\n",
      "Crop patches: 0.00 seconds.\n",
      "No images are provided. Load instead.\n",
      "Not using image_cache.\n"
     ]
    },
    {
     "name": "stdout",
     "output_type": "stream",
     "text": [
      "/media/yuncong/BstemAtlasData/CSHL_data_processed/MD661/MD661_prep2_lossless/MD662&661-F54-2017.06.22-17.00.44_MD661_3_0162_prep2_lossless.tif\n"
     ]
    },
    {
     "name": "stderr",
     "output_type": "stream",
     "text": [
      "Load image: 16.76 seconds.\n",
      "Crop patches: 0.00 seconds.\n",
      "No images are provided. Load instead.\n",
      "Not using image_cache.\n"
     ]
    },
    {
     "name": "stdout",
     "output_type": "stream",
     "text": [
      "/media/yuncong/BstemAtlasData/CSHL_data_processed/MD661/MD661_prep2_lossless/MD662&661-F56-2017.06.08-18.42.36_MD661_3_0168_prep2_lossless.tif\n"
     ]
    },
    {
     "name": "stderr",
     "output_type": "stream",
     "text": [
      "Load image: 17.73 seconds.\n",
      "Crop patches: 0.00 seconds.\n",
      "No images are provided. Load instead.\n",
      "Not using image_cache.\n"
     ]
    },
    {
     "name": "stdout",
     "output_type": "stream",
     "text": [
      "/media/yuncong/BstemAtlasData/CSHL_data_processed/MD661/MD661_prep2_lossless/MD662&661-F84-2017.06.06-14.03.51_MD661_1_0250_prep2_lossless.tif\n"
     ]
    },
    {
     "name": "stderr",
     "output_type": "stream",
     "text": [
      "Load image: 18.28 seconds.\n",
      "Crop patches: 0.00 seconds.\n",
      "No images are provided. Load instead.\n",
      "Not using image_cache.\n"
     ]
    },
    {
     "name": "stdout",
     "output_type": "stream",
     "text": [
      "/media/yuncong/BstemAtlasData/CSHL_data_processed/MD661/MD661_prep2_lossless/MD662&661-F99-2017.06.06-21.14.03_MD661_2_0296_prep2_lossless.tif\n"
     ]
    },
    {
     "name": "stderr",
     "output_type": "stream",
     "text": [
      "Load image: 18.68 seconds.\n",
      "Crop patches: 0.00 seconds.\n"
     ]
    },
    {
     "name": "stdout",
     "output_type": "stream",
     "text": [
      "aws s3 cp \"/home/yuncong/training_examples/MD661/Pn_negative.png\" \"s3://mousebrainatlas-data/training_examples/MD661/Pn_negative.png\"\n",
      "# positive train = 285\n",
      "# negative train = 4861\n"
     ]
    },
    {
     "name": "stderr",
     "output_type": "stream",
     "text": [
      "No images are provided. Load instead.\n",
      "Not using image_cache.\n"
     ]
    },
    {
     "name": "stdout",
     "output_type": "stream",
     "text": [
      "/media/yuncong/BstemAtlasData/CSHL_data_processed/MD661/MD661_prep2_lossless/MD662&661-F60-2017.06.06-03.35.37_MD661_1_0178_prep2_lossless.tif\n"
     ]
    },
    {
     "name": "stderr",
     "output_type": "stream",
     "text": [
      "Load image: 16.17 seconds.\n",
      "Crop patches: 0.00 seconds.\n",
      "No images are provided. Load instead.\n",
      "Not using image_cache.\n"
     ]
    },
    {
     "name": "stdout",
     "output_type": "stream",
     "text": [
      "/media/yuncong/BstemAtlasData/CSHL_data_processed/MD661/MD661_prep2_lossless/MD662&661-F62-2017.06.06-04.35.55_MD661_1_0184_prep2_lossless.tif\n"
     ]
    },
    {
     "name": "stderr",
     "output_type": "stream",
     "text": [
      "Load image: 15.27 seconds.\n",
      "Crop patches: 0.00 seconds.\n",
      "No images are provided. Load instead.\n",
      "Not using image_cache.\n"
     ]
    },
    {
     "name": "stdout",
     "output_type": "stream",
     "text": [
      "/media/yuncong/BstemAtlasData/CSHL_data_processed/MD661/MD661_prep2_lossless/MD662&661-F64-2017.06.06-05.35.10_MD661_1_0190_prep2_lossless.tif\n"
     ]
    },
    {
     "name": "stderr",
     "output_type": "stream",
     "text": [
      "Load image: 15.75 seconds.\n",
      "Crop patches: 0.00 seconds.\n",
      "No images are provided. Load instead.\n",
      "Not using image_cache.\n"
     ]
    },
    {
     "ename": "KeyboardInterrupt",
     "evalue": "",
     "output_type": "error",
     "traceback": [
      "\u001b[0;31m---------------------------------------------------------------------------\u001b[0m",
      "\u001b[0;31mKeyboardInterrupt\u001b[0m                         Traceback (most recent call last)",
      "\u001b[0;32m<ipython-input-28-b0048c30ad75>\u001b[0m in \u001b[0;36m<module>\u001b[0;34m()\u001b[0m\n\u001b[1;32m    109\u001b[0m         positive_patches =     extract_patches_given_locations_multiple_sections(addresses=random.sample(positive_addresses_traindata, min(50, len(positive_addresses_traindata))),\n\u001b[1;32m    110\u001b[0m                                                       \u001b[0mwin_id\u001b[0m\u001b[0;34m=\u001b[0m\u001b[0mwin_id\u001b[0m\u001b[0;34m,\u001b[0m \u001b[0mnormalization_scheme\u001b[0m\u001b[0;34m=\u001b[0m\u001b[0mtrain_scheme\u001b[0m\u001b[0;34m,\u001b[0m\u001b[0;34m\u001b[0m\u001b[0m\n\u001b[0;32m--> 111\u001b[0;31m                                                       location_or_grid_index='location')\n\u001b[0m\u001b[1;32m    112\u001b[0m \u001b[0;34m\u001b[0m\u001b[0m\n\u001b[1;32m    113\u001b[0m         \u001b[0mexport_fp\u001b[0m \u001b[0;34m=\u001b[0m \u001b[0;34m'/home/yuncong/training_examples/%s/%s_positive.png'\u001b[0m \u001b[0;34m%\u001b[0m \u001b[0;34m(\u001b[0m\u001b[0mstack\u001b[0m\u001b[0;34m,\u001b[0m \u001b[0mstructure\u001b[0m\u001b[0;34m)\u001b[0m\u001b[0;34m\u001b[0m\u001b[0m\n",
      "\u001b[0;32m/home/yuncong/Brain/utilities/learning_utilities.pyc\u001b[0m in \u001b[0;36mextract_patches_given_locations_multiple_sections\u001b[0;34m(addresses, images, version, prep_id, win_id, patch_size, location_or_grid_index, normalization_scheme)\u001b[0m\n\u001b[1;32m   1036\u001b[0m                                                                 \u001b[0mpatch_size\u001b[0m\u001b[0;34m=\u001b[0m\u001b[0mpatch_size\u001b[0m\u001b[0;34m,\u001b[0m\u001b[0;34m\u001b[0m\u001b[0m\n\u001b[1;32m   1037\u001b[0m                                                                 \u001b[0mprep_id\u001b[0m\u001b[0;34m=\u001b[0m\u001b[0mprep_id\u001b[0m\u001b[0;34m,\u001b[0m\u001b[0;34m\u001b[0m\u001b[0m\n\u001b[0;32m-> 1038\u001b[0;31m                                                                 normalization_scheme=normalization_scheme)\n\u001b[0m\u001b[1;32m   1039\u001b[0m \u001b[0;34m\u001b[0m\u001b[0m\n\u001b[1;32m   1040\u001b[0m         \u001b[0mpatches_all\u001b[0m \u001b[0;34m+=\u001b[0m \u001b[0mextracted_patches\u001b[0m\u001b[0;34m\u001b[0m\u001b[0m\n",
      "\u001b[0;32m/home/yuncong/Brain/utilities/learning_utilities.pyc\u001b[0m in \u001b[0;36mextract_patches_given_locations\u001b[0;34m(patch_size, locs, img, stack, sec, fn, version, prep_id, normalization_scheme, is_nissl, output_patch_size)\u001b[0m\n\u001b[1;32m    833\u001b[0m                     \u001b[0mimg\u001b[0m \u001b[0;34m=\u001b[0m \u001b[0mimg_as_ubyte\u001b[0m\u001b[0;34m(\u001b[0m\u001b[0mrgb2gray\u001b[0m\u001b[0;34m(\u001b[0m\u001b[0mimg\u001b[0m\u001b[0;34m)\u001b[0m\u001b[0;34m)\u001b[0m \u001b[0;31m# convert grayscale\u001b[0m\u001b[0;34m\u001b[0m\u001b[0m\n\u001b[1;32m    834\u001b[0m             \u001b[0;32melse\u001b[0m\u001b[0;34m:\u001b[0m\u001b[0;34m\u001b[0m\u001b[0m\n\u001b[0;32m--> 835\u001b[0;31m                 \u001b[0mimg\u001b[0m \u001b[0;34m=\u001b[0m \u001b[0mDataManager\u001b[0m\u001b[0;34m.\u001b[0m\u001b[0mload_image_v2\u001b[0m\u001b[0;34m(\u001b[0m\u001b[0mstack\u001b[0m\u001b[0;34m=\u001b[0m\u001b[0mstack\u001b[0m\u001b[0;34m,\u001b[0m \u001b[0msection\u001b[0m\u001b[0;34m=\u001b[0m\u001b[0msec\u001b[0m\u001b[0;34m,\u001b[0m \u001b[0mfn\u001b[0m\u001b[0;34m=\u001b[0m\u001b[0mfn\u001b[0m\u001b[0;34m,\u001b[0m \u001b[0mprep_id\u001b[0m\u001b[0;34m=\u001b[0m\u001b[0mprep_id\u001b[0m\u001b[0;34m,\u001b[0m \u001b[0mversion\u001b[0m\u001b[0;34m=\u001b[0m\u001b[0mversion\u001b[0m\u001b[0;34m)\u001b[0m\u001b[0;34m\u001b[0m\u001b[0m\n\u001b[0m\u001b[1;32m    836\u001b[0m                 \u001b[0;32mif\u001b[0m \u001b[0mimg\u001b[0m\u001b[0;34m.\u001b[0m\u001b[0mndim\u001b[0m \u001b[0;34m==\u001b[0m \u001b[0;36m3\u001b[0m\u001b[0;34m:\u001b[0m\u001b[0;34m\u001b[0m\u001b[0m\n\u001b[1;32m    837\u001b[0m                     \u001b[0mimg\u001b[0m \u001b[0;34m=\u001b[0m \u001b[0mimg\u001b[0m\u001b[0;34m[\u001b[0m\u001b[0;34m.\u001b[0m\u001b[0;34m.\u001b[0m\u001b[0;34m.\u001b[0m\u001b[0;34m,\u001b[0m\u001b[0;36m2\u001b[0m\u001b[0;34m]\u001b[0m \u001b[0;31m# use blue channel of neurotrace\u001b[0m\u001b[0;34m\u001b[0m\u001b[0m\n",
      "\u001b[0;32m/home/yuncong/Brain/utilities/data_manager.pyc\u001b[0m in \u001b[0;36mload_image_v2\u001b[0;34m(stack, prep_id, resol, version, section, fn, data_dir, ext, thumbnail_data_dir)\u001b[0m\n\u001b[1;32m   3426\u001b[0m         \u001b[0;32melse\u001b[0m\u001b[0;34m:\u001b[0m\u001b[0;34m\u001b[0m\u001b[0m\n\u001b[1;32m   3427\u001b[0m             \u001b[0msys\u001b[0m\u001b[0;34m.\u001b[0m\u001b[0mstderr\u001b[0m\u001b[0;34m.\u001b[0m\u001b[0mwrite\u001b[0m\u001b[0;34m(\u001b[0m\u001b[0;34m\"Not using image_cache.\\n\"\u001b[0m\u001b[0;34m)\u001b[0m\u001b[0;34m\u001b[0m\u001b[0m\n\u001b[0;32m-> 3428\u001b[0;31m             \u001b[0mimg\u001b[0m \u001b[0;34m=\u001b[0m \u001b[0mcv2\u001b[0m\u001b[0;34m.\u001b[0m\u001b[0mimread\u001b[0m\u001b[0;34m(\u001b[0m\u001b[0mimg_fp\u001b[0m\u001b[0;34m,\u001b[0m \u001b[0;34m-\u001b[0m\u001b[0;36m1\u001b[0m\u001b[0;34m)\u001b[0m\u001b[0;34m\u001b[0m\u001b[0m\n\u001b[0m\u001b[1;32m   3429\u001b[0m             \u001b[0;32mprint\u001b[0m \u001b[0mimg_fp\u001b[0m\u001b[0;34m\u001b[0m\u001b[0m\n\u001b[1;32m   3430\u001b[0m \u001b[0;34m\u001b[0m\u001b[0m\n",
      "\u001b[0;31mKeyboardInterrupt\u001b[0m: "
     ]
    }
   ],
   "source": [
    "stacks = ['MD661']\n",
    "# test_stacks = ['MD635'] + all_alt_nissl_ntb_stacks + all_alt_nissl_tracing_stacks + 'ChatCryoJane201710'\n",
    "\n",
    "for stack in stacks:\n",
    "\n",
    "    if stack in ['MD661']:\n",
    "        stack_stain = {stack: 'F'}\n",
    "    else:\n",
    "        stack_stain = {stack: 'N'}\n",
    "\n",
    "    # Number of sections on which to sample examples from.\n",
    "    stack_section_number = defaultdict(dict)\n",
    "\n",
    "    for name_u in all_known_structures:\n",
    "        stack_section_number[stack][name_u] = 10\n",
    "    #         if name_u == '4N' or name_u == '10N':\n",
    "    #             stack_section_number[st][name_u] = 20\n",
    "    #         else:\n",
    "    #             stack_section_number[st][name_u] = 10\n",
    "\n",
    "    stack_section_number.default_factory = None\n",
    "\n",
    "    \n",
    "    win_id = 7\n",
    "    \n",
    "    grid_indices_lookup_allStacks = {}\n",
    "\n",
    "\n",
    "    try:\n",
    "        \n",
    "        if stack in ['MD661']:        \n",
    "            grid_indices_lookup_allStacks[stack] = \\\n",
    "            DataManager.load_annotation_to_grid_indices_lookup(stack=stack, win_id=win_id,\n",
    "                                                               by_human=False, timestamp='latest',\n",
    "                                                               detector_id_f=1,\n",
    "                                                              return_locations=True)            \n",
    "        else:\n",
    "            grid_indices_lookup_allStacks[stack] = \\\n",
    "            DataManager.load_annotation_to_grid_indices_lookup(stack=stack, win_id=win_id,\n",
    "                                                               by_human=True, timestamp='latest',\n",
    "                                                              return_locations=True)            \n",
    "\n",
    "    except Exception as e:\n",
    "        print e\n",
    "        sys.stderr.write(\"Fail to load annotation grid lookup for %s.\\n\" % stack)\n",
    "        \n",
    "    from itertools import chain\n",
    "    all_labels = sorted(list(set(chain.from_iterable(set(grid_indices_lookup_allStacks[st].columns.tolist()) \n",
    "                                                 for st in [stack]))))\n",
    "    \n",
    "    def sample_addresses(stacks, structure):\n",
    "\n",
    "        positive_labels = [structure]\n",
    "        \n",
    "        if stacks == ['MD661']:\n",
    "            negative_labels = get_negative_labels(structure, 'neg_has_all_surround', \n",
    "                                              margin_um=200, labels_found=all_labels)\n",
    "        else:\n",
    "            negative_labels = get_negative_labels(structure, 'neg_has_all_surround', \n",
    "                                              margin_um=500, labels_found=all_labels)\n",
    "\n",
    "        positive_addresses_all_stacks = {}\n",
    "        negative_addresses_all_stacks = {}\n",
    "\n",
    "        for stack in stacks:\n",
    "\n",
    "            candidate_sections = list(chain(*[grid_indices_lookup_allStacks[stack][pl].dropna(how='any').index.tolist() \n",
    "                                          for pl in positive_labels]))\n",
    "\n",
    "            n_sections = stack_section_number[stack][structure]\n",
    "\n",
    "            if stack_stain[stack] == 'F':\n",
    "                neurotrace_sections = []\n",
    "                nissl_sections = []\n",
    "                for sec in candidate_sections:\n",
    "                    if metadata_cache['sections_to_filenames'][stack][sec].split('-')[1][0] == 'F':\n",
    "                        neurotrace_sections.append(sec)\n",
    "                    else:\n",
    "                        nissl_sections.append(sec)\n",
    "                sampled_sections = np.random.choice(neurotrace_sections, min(len(neurotrace_sections), n_sections), replace=False)\n",
    "            else:\n",
    "                sampled_sections = np.random.choice(candidate_sections, min(len(candidate_sections), n_sections), replace=False)\n",
    "\n",
    "            positive_addresses_all_stacks[stack] = sorted([(stack, sec, tuple(loc))\n",
    "    for nl in set(positive_labels) & set(grid_indices_lookup_allStacks[stack].columns)\n",
    "      for sec, locs in grid_indices_lookup_allStacks[stack][nl].loc[sampled_sections].dropna().iteritems()\n",
    "      for loc in locs])\n",
    "\n",
    "            negative_addresses_all_stacks[stack] = sorted([(stack, sec, tuple(loc))\n",
    "    for nl in set(negative_labels) & set(grid_indices_lookup_allStacks[stack].columns)\n",
    "      for sec, locs in grid_indices_lookup_allStacks[stack][nl].loc[sampled_sections].dropna().iteritems()\n",
    "      for loc in locs])\n",
    "\n",
    "        positive_addresses = sum(positive_addresses_all_stacks.values(), [])\n",
    "        negative_addresses = sum(negative_addresses_all_stacks.values(), [])\n",
    "\n",
    "        del positive_addresses_all_stacks, negative_addresses_all_stacks\n",
    "\n",
    "        return positive_addresses, negative_addresses\n",
    "    \n",
    "    \n",
    "    import random\n",
    "\n",
    "    for structure in all_known_structures:\n",
    "    \n",
    "        positive_addresses_traindata, negative_addresses_traindata = sample_addresses([stack], structure)\n",
    "\n",
    "        print '# positive train =', len(positive_addresses_traindata)\n",
    "        print '# negative train =', len(negative_addresses_traindata)\n",
    "\n",
    "        positive_patches = \\\n",
    "    extract_patches_given_locations_multiple_sections(addresses=random.sample(positive_addresses_traindata, min(50, len(positive_addresses_traindata))),\n",
    "                                                      win_id=win_id, normalization_scheme=train_scheme,\n",
    "                                                      location_or_grid_index='location')\n",
    "\n",
    "        export_fp = '/home/yuncong/training_examples/%s/%s_positive.png' % (stack, structure)\n",
    "        create_parent_dir_if_not_exists(export_fp)\n",
    "        display_images_in_grids(positive_patches, nc=10, cmap=plt.cm.gray, vmin=0, vmax=255, export_fn=export_fp)\n",
    "        upload_to_s3(export_fp)\n",
    "\n",
    "        ################################\n",
    "        negative_patches = \\\n",
    "    extract_patches_given_locations_multiple_sections(addresses=random.sample(negative_addresses_traindata, min(50, len(negative_addresses_traindata))),\n",
    "                                                      win_id=win_id, normalization_scheme=train_scheme,\n",
    "                                                      location_or_grid_index='location')\n",
    "\n",
    "        export_fp = '/home/yuncong/training_examples/%s/%s_negative.png' % (stack, structure)\n",
    "        create_parent_dir_if_not_exists(export_fp)\n",
    "        display_images_in_grids(negative_patches, nc=10, cmap=plt.cm.gray, vmin=0, vmax=255, export_fn=export_fp)\n",
    "        upload_to_s3(export_fp)"
   ]
  }
 ],
 "metadata": {
  "kernelspec": {
   "display_name": "Python 2",
   "language": "python",
   "name": "python2"
  },
  "language_info": {
   "codemirror_mode": {
    "name": "ipython",
    "version": 2
   },
   "file_extension": ".py",
   "mimetype": "text/x-python",
   "name": "python",
   "nbconvert_exporter": "python",
   "pygments_lexer": "ipython2",
   "version": "2.7.12"
  }
 },
 "nbformat": 4,
 "nbformat_minor": 2
}
