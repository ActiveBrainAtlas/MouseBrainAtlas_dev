{
 "cells": [
  {
   "cell_type": "code",
   "execution_count": 1,
   "metadata": {
    "scrolled": true
   },
   "outputs": [
    {
     "name": "stderr",
     "output_type": "stream",
     "text": [
      "/home/yuncong/MouseBrainAtlas/src/utilities/utilities2015.py:2: UserWarning: \n",
      "This call to matplotlib.use() has no effect because the backend has already\n",
      "been chosen; matplotlib.use() must be called *before* pylab, matplotlib.pyplot,\n",
      "or matplotlib.backends is imported for the first time.\n",
      "\n",
      "The backend was *originally* set to 'module://ipykernel.pylab.backend_inline' by the following code:\n",
      "  File \"/usr/lib/python2.7/runpy.py\", line 174, in _run_module_as_main\n",
      "    \"__main__\", fname, loader, pkg_name)\n",
      "  File \"/usr/lib/python2.7/runpy.py\", line 72, in _run_code\n",
      "    exec code in run_globals\n",
      "  File \"/usr/local/lib/python2.7/dist-packages/ipykernel_launcher.py\", line 16, in <module>\n",
      "    app.launch_new_instance()\n",
      "  File \"/usr/local/lib/python2.7/dist-packages/traitlets/config/application.py\", line 658, in launch_instance\n",
      "    app.start()\n",
      "  File \"/usr/local/lib/python2.7/dist-packages/ipykernel/kernelapp.py\", line 477, in start\n",
      "    ioloop.IOLoop.instance().start()\n",
      "  File \"/usr/local/lib/python2.7/dist-packages/zmq/eventloop/ioloop.py\", line 177, in start\n",
      "    super(ZMQIOLoop, self).start()\n",
      "  File \"/usr/local/lib/python2.7/dist-packages/tornado/ioloop.py\", line 888, in start\n",
      "    handler_func(fd_obj, events)\n",
      "  File \"/usr/local/lib/python2.7/dist-packages/tornado/stack_context.py\", line 277, in null_wrapper\n",
      "    return fn(*args, **kwargs)\n",
      "  File \"/usr/local/lib/python2.7/dist-packages/zmq/eventloop/zmqstream.py\", line 440, in _handle_events\n",
      "    self._handle_recv()\n",
      "  File \"/usr/local/lib/python2.7/dist-packages/zmq/eventloop/zmqstream.py\", line 472, in _handle_recv\n",
      "    self._run_callback(callback, msg)\n",
      "  File \"/usr/local/lib/python2.7/dist-packages/zmq/eventloop/zmqstream.py\", line 414, in _run_callback\n",
      "    callback(*args, **kwargs)\n",
      "  File \"/usr/local/lib/python2.7/dist-packages/tornado/stack_context.py\", line 277, in null_wrapper\n",
      "    return fn(*args, **kwargs)\n",
      "  File \"/usr/local/lib/python2.7/dist-packages/ipykernel/kernelbase.py\", line 283, in dispatcher\n",
      "    return self.dispatch_shell(stream, msg)\n",
      "  File \"/usr/local/lib/python2.7/dist-packages/ipykernel/kernelbase.py\", line 235, in dispatch_shell\n",
      "    handler(stream, idents, msg)\n",
      "  File \"/usr/local/lib/python2.7/dist-packages/ipykernel/kernelbase.py\", line 399, in execute_request\n",
      "    user_expressions, allow_stdin)\n",
      "  File \"/usr/local/lib/python2.7/dist-packages/ipykernel/ipkernel.py\", line 196, in do_execute\n",
      "    res = shell.run_cell(code, store_history=store_history, silent=silent)\n",
      "  File \"/usr/local/lib/python2.7/dist-packages/ipykernel/zmqshell.py\", line 533, in run_cell\n",
      "    return super(ZMQInteractiveShell, self).run_cell(*args, **kwargs)\n",
      "  File \"/usr/local/lib/python2.7/dist-packages/IPython/core/interactiveshell.py\", line 2718, in run_cell\n",
      "    interactivity=interactivity, compiler=compiler, result=result)\n",
      "  File \"/usr/local/lib/python2.7/dist-packages/IPython/core/interactiveshell.py\", line 2822, in run_ast_nodes\n",
      "    if self.run_code(code, result):\n",
      "  File \"/usr/local/lib/python2.7/dist-packages/IPython/core/interactiveshell.py\", line 2882, in run_code\n",
      "    exec(code_obj, self.user_global_ns, self.user_ns)\n",
      "  File \"<ipython-input-1-fc4079e49eb7>\", line 14, in <module>\n",
      "    get_ipython().magic(u'matplotlib inline')\n",
      "  File \"/usr/local/lib/python2.7/dist-packages/IPython/core/interactiveshell.py\", line 2160, in magic\n",
      "    return self.run_line_magic(magic_name, magic_arg_s)\n",
      "  File \"/usr/local/lib/python2.7/dist-packages/IPython/core/interactiveshell.py\", line 2081, in run_line_magic\n",
      "    result = fn(*args,**kwargs)\n",
      "  File \"<decorator-gen-105>\", line 2, in matplotlib\n",
      "  File \"/usr/local/lib/python2.7/dist-packages/IPython/core/magic.py\", line 188, in <lambda>\n",
      "    call = lambda f, *a, **k: f(*a, **k)\n",
      "  File \"/usr/local/lib/python2.7/dist-packages/IPython/core/magics/pylab.py\", line 100, in matplotlib\n",
      "    gui, backend = self.shell.enable_matplotlib(args.gui)\n",
      "  File \"/usr/local/lib/python2.7/dist-packages/IPython/core/interactiveshell.py\", line 2950, in enable_matplotlib\n",
      "    pt.activate_matplotlib(backend)\n",
      "  File \"/usr/local/lib/python2.7/dist-packages/IPython/core/pylabtools.py\", line 308, in activate_matplotlib\n",
      "    matplotlib.pyplot.switch_backend(backend)\n",
      "  File \"/usr/local/lib/python2.7/dist-packages/matplotlib/pyplot.py\", line 232, in switch_backend\n",
      "    matplotlib.use(newbackend, warn=False, force=True)\n",
      "  File \"/usr/local/lib/python2.7/dist-packages/matplotlib/__init__.py\", line 1305, in use\n",
      "    reload(sys.modules['matplotlib.backends'])\n",
      "  File \"/usr/local/lib/python2.7/dist-packages/matplotlib/backends/__init__.py\", line 14, in <module>\n",
      "    line for line in traceback.format_stack()\n",
      "\n",
      "\n",
      "  matplotlib.use('Agg')\n",
      "ENABLE_UPLOAD_S3 is not set, default to False.\n",
      "ENABLE_DOWNLOAD_S3 is not set, default to False.\n"
     ]
    },
    {
     "name": "stdout",
     "output_type": "stream",
     "text": [
      "Setting environment for Precision WorkStation\n",
      "{}\n"
     ]
    },
    {
     "name": "stderr",
     "output_type": "stream",
     "text": [
      "No anchor.txt is found. Seems we are using the operation ini to provide anchor. Try to load operation ini.\n",
      "/home/yuncong/MouseBrainAtlas/src/utilities/data_manager.py:5500: DeprecationWarning: BaseException.message has been deprecated as of Python 2.6\n",
      "  sys.stderr.write(\"Failed to cache %s anchor: %s\\n\" % (stack, e.message))\n",
      "Failed to cache MD585 anchor: ini file /media/yuncong/BstemAtlasData/atlas_data/CSHL_data_processed/MD585/operation_configs/from_none_to_aligned.ini does not exist.\n",
      "File does not exist: /media/yuncong/BstemAtlasData/atlas_data/CSHL_data_processed/MD585/MD585_sorted_filenames.txt\n",
      "/home/yuncong/MouseBrainAtlas/src/utilities/data_manager.py:5506: DeprecationWarning: BaseException.message has been deprecated as of Python 2.6\n",
      "  sys.stderr.write(\"Failed to cache %s sections_to_filenames: %s\\n\" % (stack, e.message))\n",
      "Failed to cache MD585 sections_to_filenames: \n",
      "File does not exist: /media/yuncong/BstemAtlasData/atlas_data/CSHL_data_processed/MD585/MD585_sorted_filenames.txt\n",
      "/home/yuncong/MouseBrainAtlas/src/utilities/data_manager.py:5517: DeprecationWarning: BaseException.message has been deprecated as of Python 2.6\n",
      "  sys.stderr.write(\"Failed to cache %s filenames_to_sections: %s\\n\" % (stack, e.message))\n",
      "Failed to cache MD585 filenames_to_sections: \n",
      "No anchor.txt is found. Seems we are using the operation ini to provide anchor. Try to load operation ini.\n",
      "/home/yuncong/MouseBrainAtlas/src/utilities/data_manager.py:5522: DeprecationWarning: BaseException.message has been deprecated as of Python 2.6\n",
      "  sys.stderr.write(\"Failed to cache %s section_limits: %s\\n\" % (stack, e.message))\n",
      "Failed to cache MD585 section_limits: ini file /media/yuncong/BstemAtlasData/atlas_data/CSHL_data_processed/MD585/operation_configs/from_none_to_aligned.ini does not exist.\n",
      "No anchor.txt is found. Seems we are using the operation ini to provide anchor. Try to load operation ini.\n",
      "/home/yuncong/MouseBrainAtlas/src/utilities/data_manager.py:5528: DeprecationWarning: BaseException.message has been deprecated as of Python 2.6\n",
      "  sys.stderr.write(\"Failed to cache %s cropbox: %s\\n\" % (stack, e.message))\n",
      "Failed to cache MD585 cropbox: ini file /media/yuncong/BstemAtlasData/atlas_data/CSHL_data_processed/MD585/operation_configs/from_none_to_aligned.ini does not exist.\n",
      "/home/yuncong/MouseBrainAtlas/src/utilities/data_manager.py:5538: DeprecationWarning: BaseException.message has been deprecated as of Python 2.6\n",
      "  sys.stderr.write(\"Failed to cache %s valid_sections/filenames: %s\\n\" % (stack, e.message))\n",
      "Failed to cache MD585 valid_sections/filenames: MD585\n",
      "No anchor.txt is found. Seems we are using the operation ini to provide anchor. Try to load operation ini.\n",
      "/home/yuncong/MouseBrainAtlas/src/utilities/data_manager.py:5549: DeprecationWarning: BaseException.message has been deprecated as of Python 2.6\n",
      "  sys.stderr.write(\"Failed to cache %s image_shape: %s\\n\" % (stack, e.message))\n",
      "Failed to cache MD585 image_shape: ini file /media/yuncong/BstemAtlasData/atlas_data/CSHL_data_processed/MD585/operation_configs/from_none_to_aligned.ini does not exist.\n",
      "No anchor.txt is found. Seems we are using the operation ini to provide anchor. Try to load operation ini.\n",
      "Failed to cache MD594 anchor: ini file /media/yuncong/BstemAtlasData/atlas_data/CSHL_data_processed/MD594/operation_configs/from_none_to_aligned.ini does not exist.\n",
      "File does not exist: /media/yuncong/BstemAtlasData/atlas_data/CSHL_data_processed/MD594/MD594_sorted_filenames.txt\n",
      "Failed to cache MD594 sections_to_filenames: \n",
      "File does not exist: /media/yuncong/BstemAtlasData/atlas_data/CSHL_data_processed/MD594/MD594_sorted_filenames.txt\n",
      "Failed to cache MD594 filenames_to_sections: \n",
      "No anchor.txt is found. Seems we are using the operation ini to provide anchor. Try to load operation ini.\n",
      "Failed to cache MD594 section_limits: ini file /media/yuncong/BstemAtlasData/atlas_data/CSHL_data_processed/MD594/operation_configs/from_none_to_aligned.ini does not exist.\n",
      "No anchor.txt is found. Seems we are using the operation ini to provide anchor. Try to load operation ini.\n",
      "Failed to cache MD594 cropbox: ini file /media/yuncong/BstemAtlasData/atlas_data/CSHL_data_processed/MD594/operation_configs/from_none_to_aligned.ini does not exist.\n",
      "Failed to cache MD594 valid_sections/filenames: MD594\n",
      "No anchor.txt is found. Seems we are using the operation ini to provide anchor. Try to load operation ini.\n",
      "Failed to cache MD594 image_shape: ini file /media/yuncong/BstemAtlasData/atlas_data/CSHL_data_processed/MD594/operation_configs/from_none_to_aligned.ini does not exist.\n",
      "No anchor.txt is found. Seems we are using the operation ini to provide anchor. Try to load operation ini.\n",
      "Failed to cache MD589 anchor: ini file /media/yuncong/BstemAtlasData/atlas_data/CSHL_data_processed/MD589/operation_configs/from_none_to_aligned.ini does not exist.\n",
      "File does not exist: /media/yuncong/BstemAtlasData/atlas_data/CSHL_data_processed/MD589/MD589_sorted_filenames.txt\n",
      "Failed to cache MD589 sections_to_filenames: \n",
      "File does not exist: /media/yuncong/BstemAtlasData/atlas_data/CSHL_data_processed/MD589/MD589_sorted_filenames.txt\n",
      "Failed to cache MD589 filenames_to_sections: \n",
      "No anchor.txt is found. Seems we are using the operation ini to provide anchor. Try to load operation ini.\n",
      "Failed to cache MD589 section_limits: ini file /media/yuncong/BstemAtlasData/atlas_data/CSHL_data_processed/MD589/operation_configs/from_none_to_aligned.ini does not exist.\n",
      "No anchor.txt is found. Seems we are using the operation ini to provide anchor. Try to load operation ini.\n",
      "Failed to cache MD589 cropbox: ini file /media/yuncong/BstemAtlasData/atlas_data/CSHL_data_processed/MD589/operation_configs/from_none_to_aligned.ini does not exist.\n",
      "Failed to cache MD589 valid_sections/filenames: MD589\n",
      "No anchor.txt is found. Seems we are using the operation ini to provide anchor. Try to load operation ini.\n",
      "Failed to cache MD589 image_shape: ini file /media/yuncong/BstemAtlasData/atlas_data/CSHL_data_processed/MD589/operation_configs/from_none_to_aligned.ini does not exist.\n",
      "No anchor.txt is found. Seems we are using the operation ini to provide anchor. Try to load operation ini.\n",
      "Failed to cache DEMO998 anchor: ini file /media/yuncong/BstemAtlasData/atlas_data/CSHL_data_processed/DEMO998/operation_configs/from_none_to_aligned.ini does not exist.\n",
      "File does not exist: /media/yuncong/BstemAtlasData/atlas_data/CSHL_data_processed/DEMO998/DEMO998_sorted_filenames.txt\n",
      "Failed to cache DEMO998 sections_to_filenames: \n",
      "File does not exist: /media/yuncong/BstemAtlasData/atlas_data/CSHL_data_processed/DEMO998/DEMO998_sorted_filenames.txt\n",
      "Failed to cache DEMO998 filenames_to_sections: \n",
      "No anchor.txt is found. Seems we are using the operation ini to provide anchor. Try to load operation ini.\n",
      "Failed to cache DEMO998 section_limits: ini file /media/yuncong/BstemAtlasData/atlas_data/CSHL_data_processed/DEMO998/operation_configs/from_none_to_aligned.ini does not exist.\n",
      "No anchor.txt is found. Seems we are using the operation ini to provide anchor. Try to load operation ini.\n",
      "Failed to cache DEMO998 cropbox: ini file /media/yuncong/BstemAtlasData/atlas_data/CSHL_data_processed/DEMO998/operation_configs/from_none_to_aligned.ini does not exist.\n",
      "Failed to cache DEMO998 valid_sections/filenames: DEMO998\n",
      "No anchor.txt is found. Seems we are using the operation ini to provide anchor. Try to load operation ini.\n",
      "Failed to cache DEMO998 image_shape: ini file /media/yuncong/BstemAtlasData/atlas_data/CSHL_data_processed/DEMO998/operation_configs/from_none_to_aligned.ini does not exist.\n",
      "/usr/local/lib/python2.7/dist-packages/sklearn/cross_validation.py:44: DeprecationWarning: This module was deprecated in version 0.18 in favor of the model_selection module into which all the refactored classes and functions are moved. Also note that the interface of the new CV iterators are different from that of this module. This module will be removed in 0.20.\n",
      "  \"This module will be removed in 0.20.\", DeprecationWarning)\n"
     ]
    }
   ],
   "source": [
    "%load_ext autoreload\n",
    "%autoreload 2\n",
    "\n",
    "import sys\n",
    "import os\n",
    "import time\n",
    "\n",
    "import numpy as np\n",
    "try:\n",
    "    import mxnet as mx\n",
    "except:\n",
    "    sys.stderr.write(\"Cannot import mxnet.\\n\")\n",
    "import matplotlib.pyplot as plt\n",
    "%matplotlib inline\n",
    "from skimage.exposure import rescale_intensity\n",
    "from skimage.transform import rotate\n",
    "\n",
    "sys.path.append(os.environ['REPO_DIR'] + '/utilities')\n",
    "from utilities2015 import *\n",
    "from metadata import *\n",
    "from data_manager import *\n",
    "from learning_utilities import *\n",
    "from distributed_utilities import *\n",
    "from visualization_utilities import *"
   ]
  },
  {
   "cell_type": "code",
   "execution_count": 2,
   "metadata": {
    "collapsed": true,
    "scrolled": true
   },
   "outputs": [],
   "source": [
    "from sklearn.externals import joblib\n",
    "\n",
    "from sklearn.linear_model import LogisticRegression\n",
    "from sklearn.svm import LinearSVC, SVC\n",
    "from sklearn.calibration import CalibratedClassifierCV\n",
    "from sklearn.ensemble import GradientBoostingClassifier \n",
    "\n",
    "sys.path.append('/home/yuncong/csd395/xgboost/python-package')\n",
    "try:\n",
    "    from xgboost.sklearn import XGBClassifier\n",
    "except:\n",
    "    sys.stderr.write('xgboost is not loaded.')"
   ]
  },
  {
   "cell_type": "code",
   "execution_count": 3,
   "metadata": {},
   "outputs": [
    {
     "name": "stderr",
     "output_type": "stream",
     "text": [
      "ENABLE_DOWNLOAD_S3 is False. Skip downloading from S3.\n",
      "/usr/local/lib/python2.7/dist-packages/mxnet/module/base_module.py:53: UserWarning: \u001b[91mYou created Module with Module(..., label_names=['softmax_label']) but input with name 'softmax_label' is not found in symbol.list_arguments(). Did you mean one of:\n",
      "\tdata\u001b[0m\n",
      "  warnings.warn(msg)\n",
      "/usr/local/lib/python2.7/dist-packages/mxnet/module/base_module.py:65: UserWarning: Data provided by label_shapes don't match names specified by label_names ([] vs. ['softmax_label'])\n",
      "  warnings.warn(msg)\n"
     ]
    }
   ],
   "source": [
    "batch_size = 256\n",
    "model_dir_name = 'inception-bn-blue'\n",
    "model_name = 'inception-bn-blue'\n",
    "model, mean_img = load_mxnet_model(model_dir_name=model_dir_name, model_name=model_name, \n",
    "                                   num_gpus=1, batch_size=batch_size)"
   ]
  },
  {
   "cell_type": "code",
   "execution_count": 4,
   "metadata": {
    "collapsed": true
   },
   "outputs": [],
   "source": [
    "train_stacks = ['MD589', 'MD585']\n",
    "test_stacks = ['MD594']"
   ]
  },
  {
   "cell_type": "code",
   "execution_count": 5,
   "metadata": {
    "collapsed": true
   },
   "outputs": [],
   "source": [
    "stack_stain = {'MD585': 'N', 'MD589': 'N', 'MD594': 'N'}\n",
    "\n",
    "# Number of sections on which to sample examples from.\n",
    "stack_section_number = defaultdict(dict)\n",
    "\n",
    "for name_u in all_known_structures:\n",
    "    for st in train_stacks:\n",
    "        stack_section_number[st][name_u] = 10\n",
    "#         if name_u == '4N' or name_u == '10N':\n",
    "#             stack_section_number[st][name_u] = 20\n",
    "#         else:\n",
    "#             stack_section_number[st][name_u] = 10\n",
    "    for st in test_stacks:\n",
    "        stack_section_number[st][name_u] = 10\n",
    "\n",
    "stack_section_number.default_factory = None"
   ]
  },
  {
   "cell_type": "code",
   "execution_count": 6,
   "metadata": {},
   "outputs": [
    {
     "data": {
      "text/plain": [
       "{1: {'patch_size': 224, 'spacing': 56},\n",
       " 2: {'comment': 'larger margin', 'patch_size': 224, 'spacing': 56},\n",
       " 3: {'comment': 'smaller spacing', 'patch_size': 224, 'spacing': 32},\n",
       " 4: {'comment': 'smaller spacing', 'patch_size': 224, 'spacing': 128},\n",
       " 5: {'comment': 'smaller spacing', 'patch_size': 224, 'spacing': 64},\n",
       " 6: {'comment': 'twice as large patch', 'patch_size': 448, 'spacing': 64},\n",
       " 7: {'comment': 'specify size/spacing in terms of microns rather than pixels',\n",
       "  'patch_size_um': 103.04,\n",
       "  'spacing_um': 30},\n",
       " 8: {'comment': 'larger patch', 'patch_size_um': 206.08, 'spacing_um': 30},\n",
       " 9: {'comment': 'larger patch', 'patch_size_um': 412.16, 'spacing_um': 30},\n",
       " 10: {'comment': 'larger patch', 'patch_size_um': 824.32, 'spacing_um': 30},\n",
       " 11: {'comment': 'larger patch', 'patch_size_um': 51.52, 'spacing_um': 30},\n",
       " 12: {'comment': 'larger patch', 'patch_size_um': 25.76, 'spacing_um': 30}}"
      ]
     },
     "execution_count": 6,
     "metadata": {},
     "output_type": "execute_result"
    }
   ],
   "source": [
    "windowing_settings"
   ]
  },
  {
   "cell_type": "code",
   "execution_count": 7,
   "metadata": {
    "collapsed": true
   },
   "outputs": [],
   "source": [
    "# win_id = 7\n",
    "# win_id = 8\n",
    "win_id = 9\n",
    "# win_id = 11\n",
    "# win_id = 8"
   ]
  },
  {
   "cell_type": "code",
   "execution_count": 8,
   "metadata": {
    "scrolled": true
   },
   "outputs": [
    {
     "name": "stderr",
     "output_type": "stream",
     "text": [
      "ENABLE_DOWNLOAD_S3 is False. Skip downloading from S3.\n"
     ]
    },
    {
     "ename": "OSError",
     "evalue": "[Errno 2] No such file or directory: '/media/yuncong/BstemAtlasData/atlas_data/CSHL_labelings_v3/MD589'",
     "output_type": "error",
     "traceback": [
      "\u001b[0;31m---------------------------------------------------------------------------\u001b[0m",
      "\u001b[0;31mOSError\u001b[0m                                   Traceback (most recent call last)",
      "\u001b[0;32m<ipython-input-8-65fdef8a1371>\u001b[0m in \u001b[0;36m<module>\u001b[0;34m()\u001b[0m\n\u001b[1;32m     16\u001b[0m     grid_indices_lookup_allStacks[stack] =     DataManager.load_annotation_to_grid_indices_lookup(stack=stack, win_id=win_id,\n\u001b[1;32m     17\u001b[0m                                                        \u001b[0mby_human\u001b[0m\u001b[0;34m=\u001b[0m\u001b[0mTrue\u001b[0m\u001b[0;34m,\u001b[0m \u001b[0mtimestamp\u001b[0m\u001b[0;34m=\u001b[0m\u001b[0;34m'latest'\u001b[0m\u001b[0;34m,\u001b[0m\u001b[0;34m\u001b[0m\u001b[0m\n\u001b[0;32m---> 18\u001b[0;31m                                                       return_locations=True)\n\u001b[0m\u001b[1;32m     19\u001b[0m \u001b[0;34m\u001b[0m\u001b[0m\n\u001b[1;32m     20\u001b[0m \u001b[0;31m#     except Exception as e:\u001b[0m\u001b[0;34m\u001b[0m\u001b[0;34m\u001b[0m\u001b[0m\n",
      "\u001b[0;32m/home/yuncong/MouseBrainAtlas/src/utilities/data_manager.pyc\u001b[0m in \u001b[0;36mload_annotation_to_grid_indices_lookup\u001b[0;34m(stack, win_id, by_human, stack_m, detector_id_m, detector_id_f, prep_id_m, prep_id_f, warp_setting, trial_idx, timestamp, return_locations, suffix)\u001b[0m\n\u001b[1;32m    780\u001b[0m         \u001b[0;32mfrom\u001b[0m \u001b[0mlearning_utilities\u001b[0m \u001b[0;32mimport\u001b[0m \u001b[0mgrid_parameters_to_sample_locations\u001b[0m\u001b[0;34m\u001b[0m\u001b[0m\n\u001b[1;32m    781\u001b[0m \u001b[0;34m\u001b[0m\u001b[0m\n\u001b[0;32m--> 782\u001b[0;31m         \u001b[0mgrid_indices_lookup_fp\u001b[0m \u001b[0;34m=\u001b[0m \u001b[0mDataManager\u001b[0m\u001b[0;34m.\u001b[0m\u001b[0mget_annotation_to_grid_indices_lookup_filepath\u001b[0m\u001b[0;34m(\u001b[0m\u001b[0;34m**\u001b[0m\u001b[0mlocals\u001b[0m\u001b[0;34m(\u001b[0m\u001b[0;34m)\u001b[0m\u001b[0;34m)\u001b[0m\u001b[0;34m\u001b[0m\u001b[0m\n\u001b[0m\u001b[1;32m    783\u001b[0m         \u001b[0mdownload_from_s3\u001b[0m\u001b[0;34m(\u001b[0m\u001b[0mgrid_indices_lookup_fp\u001b[0m\u001b[0;34m)\u001b[0m\u001b[0;34m\u001b[0m\u001b[0m\n\u001b[1;32m    784\u001b[0m \u001b[0;34m\u001b[0m\u001b[0m\n",
      "\u001b[0;32m/home/yuncong/MouseBrainAtlas/src/utilities/data_manager.pyc\u001b[0m in \u001b[0;36mget_annotation_to_grid_indices_lookup_filepath\u001b[0;34m(stack, win_id, by_human, stack_m, detector_id_m, detector_id_f, prep_id_m, prep_id_f, warp_setting, trial_idx, timestamp, suffix, **kwargs)\u001b[0m\n\u001b[1;32m    818\u001b[0m                                  include_only=\"*win%(win_id)d*warp*grid_indices_lookup*\" % {'win_id':win_id}, redownload=True)\n\u001b[1;32m    819\u001b[0m                 \u001b[0mtimestamps\u001b[0m \u001b[0;34m=\u001b[0m \u001b[0;34m[\u001b[0m\u001b[0;34m]\u001b[0m\u001b[0;34m\u001b[0m\u001b[0m\n\u001b[0;32m--> 820\u001b[0;31m                 \u001b[0;32mfor\u001b[0m \u001b[0mfn\u001b[0m \u001b[0;32min\u001b[0m \u001b[0mos\u001b[0m\u001b[0;34m.\u001b[0m\u001b[0mlistdir\u001b[0m\u001b[0;34m(\u001b[0m\u001b[0mos\u001b[0m\u001b[0;34m.\u001b[0m\u001b[0mpath\u001b[0m\u001b[0;34m.\u001b[0m\u001b[0mjoin\u001b[0m\u001b[0;34m(\u001b[0m\u001b[0mANNOTATION_ROOTDIR\u001b[0m\u001b[0;34m,\u001b[0m \u001b[0mstack\u001b[0m\u001b[0;34m)\u001b[0m\u001b[0;34m)\u001b[0m\u001b[0;34m:\u001b[0m\u001b[0;34m\u001b[0m\u001b[0m\n\u001b[0m\u001b[1;32m    821\u001b[0m                     \u001b[0;32mprint\u001b[0m \u001b[0mfn\u001b[0m\u001b[0;34m\u001b[0m\u001b[0m\n\u001b[1;32m    822\u001b[0m                     \u001b[0;32mif\u001b[0m \u001b[0;34m'lookup'\u001b[0m \u001b[0;32mnot\u001b[0m \u001b[0;32min\u001b[0m \u001b[0mfn\u001b[0m\u001b[0;34m:\u001b[0m\u001b[0;34m\u001b[0m\u001b[0m\n",
      "\u001b[0;31mOSError\u001b[0m: [Errno 2] No such file or directory: '/media/yuncong/BstemAtlasData/atlas_data/CSHL_labelings_v3/MD589'"
     ]
    }
   ],
   "source": [
    "grid_indices_lookup_allStacks = {}\n",
    "\n",
    "for stack in train_stacks + test_stacks:\n",
    "#     try:\n",
    "#         grid_indices_lookup_allStacks[stack] = \\\n",
    "#         DataManager.load_annotation_to_grid_indices_lookup(stack=stack, win_id=win_id,\n",
    "#                                                            by_human=False, timestamp='latest',\n",
    "#                                                            detector_id_f=1,\n",
    "#                                                           return_locations=True)            \n",
    "\n",
    "#         grid_indices_lookup_allStacks[stack] = \\\n",
    "#         DataManager.load_annotation_to_grid_indices_lookup(stack=stack, win_id=win_id,\n",
    "#                                                            by_human=True, timestamp='latest',\n",
    "#                                                           return_locations=True, suffix='structures')            \n",
    "\n",
    "    grid_indices_lookup_allStacks[stack] = \\\n",
    "    DataManager.load_annotation_to_grid_indices_lookup(stack=stack, win_id=win_id,\n",
    "                                                       by_human=True, timestamp='latest',\n",
    "                                                      return_locations=True)\n",
    "\n",
    "#     except Exception as e:\n",
    "#         sys.stderr.write(\"Fail to load annotation grid lookup for %s: %s\\n\" % (stack, e.message))\n",
    "#         raise e"
   ]
  },
  {
   "cell_type": "code",
   "execution_count": 10,
   "metadata": {
    "collapsed": true
   },
   "outputs": [],
   "source": [
    "from itertools import chain\n",
    "all_labels = sorted(list(set(chain.from_iterable(set(grid_indices_lookup_allStacks[st].columns.tolist()) \n",
    "                                                 for st in train_stacks + test_stacks))))"
   ]
  },
  {
   "cell_type": "code",
   "execution_count": 11,
   "metadata": {
    "collapsed": true
   },
   "outputs": [],
   "source": [
    "def sample_addresses(stacks, structure):\n",
    "        \n",
    "    positive_labels = [structure]\n",
    "    negative_labels = get_negative_labels(structure, 'neg_has_all_surround', \n",
    "                                          margin='500um', labels_found=all_labels)\n",
    "\n",
    "    positive_addresses_all_stacks = {}\n",
    "    negative_addresses_all_stacks = {}\n",
    "        \n",
    "    for stack in stacks:\n",
    "\n",
    "        candidate_sections = list(chain(*[grid_indices_lookup_allStacks[stack][pl].dropna(how='any').index.tolist() \n",
    "                                      for pl in positive_labels]))\n",
    "\n",
    "        n_sections = stack_section_number[stack][structure]\n",
    "\n",
    "        if stack_stain[stack] == 'F':\n",
    "            neurotrace_sections = []\n",
    "            nissl_sections = []\n",
    "            for sec in candidate_sections:\n",
    "                if (metadata_cache['sections_to_filenames'][stack][sec].split('-')[1][0] == 'F') \\\n",
    "                or stack in ['CHATM2', 'CHATM3']:\n",
    "                    neurotrace_sections.append(sec)\n",
    "                else:\n",
    "                    nissl_sections.append(sec)\n",
    "            print 'neurotrace_sections', neurotrace_sections\n",
    "            print 'nissl_sections', nissl_sections\n",
    "            sampled_sections = np.random.choice(neurotrace_sections, min(len(neurotrace_sections), n_sections), replace=False)\n",
    "        else:\n",
    "            sampled_sections = np.random.choice(candidate_sections, min(len(candidate_sections), n_sections), replace=False)\n",
    "            \n",
    "        positive_addresses_all_stacks[stack] = sorted([(stack, sec, tuple(loc))\n",
    "for nl in set(positive_labels) & set(grid_indices_lookup_allStacks[stack].columns)\n",
    "  for sec, locs in grid_indices_lookup_allStacks[stack][nl].loc[sampled_sections].dropna().iteritems()\n",
    "  for loc in locs])\n",
    "\n",
    "        negative_addresses_all_stacks[stack] = sorted([(stack, sec, tuple(loc))\n",
    "for nl in set(negative_labels) & set(grid_indices_lookup_allStacks[stack].columns)\n",
    "  for sec, locs in grid_indices_lookup_allStacks[stack][nl].loc[sampled_sections].dropna().iteritems()\n",
    "  for loc in locs])\n",
    "\n",
    "    positive_addresses = sum(positive_addresses_all_stacks.values(), [])\n",
    "    negative_addresses = sum(negative_addresses_all_stacks.values(), [])\n",
    "\n",
    "    del positive_addresses_all_stacks, negative_addresses_all_stacks\n",
    "\n",
    "    return positive_addresses, negative_addresses"
   ]
  },
  {
   "cell_type": "code",
   "execution_count": 12,
   "metadata": {
    "collapsed": true
   },
   "outputs": [],
   "source": [
    "# train_scheme = 'stretch_min_max'\n",
    "# train_scheme = 'normalize_mu_sigma_global_(-1,5)'\n",
    "# train_scheme = 'normalize_mu_region_sigma_wholeImage_(-1,5)'\n",
    "# train_scheme = 'normalize_mu_region_sigma_wholeImage_(-1,9)'\n",
    "train_scheme = 'none'\n",
    "\n",
    "# test_scheme = 'stretch_min_max'\n",
    "# test_scheme = 'normalize_mu_sigma_global_(-1,5)'\n",
    "# test_scheme = 'normalize_mu_region_sigma_wholeImage_(-1,5)'\n",
    "# test_scheme = 'normalize_mu_region_sigma_wholeImage_(-1,9)'\n",
    "test_scheme = 'none'"
   ]
  },
  {
   "cell_type": "code",
   "execution_count": 13,
   "metadata": {
    "collapsed": true,
    "scrolled": true
   },
   "outputs": [],
   "source": [
    "# existing_classifier_id = 998 # If set, not train from scratch\n",
    "# existing_classifier_id = 990\n",
    "# extract_train_features = True"
   ]
  },
  {
   "cell_type": "code",
   "execution_count": 14,
   "metadata": {
    "collapsed": true
   },
   "outputs": [],
   "source": [
    "existing_classifier_id = None\n",
    "extract_train_features = True\n",
    "# classifier_id = 990 # MD585/MD589 -> MD594, cnn\n",
    "# classifier_id = 991 # MD585/MD589 -> MD594, lbp\n",
    "# classifier_id = 992 # MD585/MD589 -> MD594, glcm\n",
    "# classifier_id = 993 # MD585/MD589 -> MD594, mean greylevel\n",
    "# classifier_id = 899 # CHATM2 -> CHATM2, cnn\n",
    "# classifier_id = 898 # DEMO998 -> DEMO998, cnn, win7\n",
    "# classifier_id = 897 # DEMO998 -> DEMO998, cnn, win8\n",
    "# classifier_id = 896 # DEMO998 -> DEMO998, cnn, win9\n",
    "# win10 is too large and no patch can be extracted from DEMO998 section 225 3N.\n",
    "# classifier_id = 895 # DEMO998 -> DEMO998, cnn, win11\n",
    "# classifier_id = 894 # MD585/MD589 -> MD594, cnn, win8\n",
    "# classifier_id = 893 # MD585/MD589 -> MD594, cnn, win11\n",
    "# classifier_id = 892 # MD585/MD589 -> MD594, cnn, concat 100um 200um\n",
    "# classifier_id = 891 # MD585/MD589 -> MD594, cnn, win7\n",
    "# classifier_id = 890 # MD585/MD589 -> MD594, cnn, concat 100um 200um 50um\n",
    "classifier_id = 889 # MD585/MD589 -> MD594, cnn, win9"
   ]
  },
  {
   "cell_type": "code",
   "execution_count": 15,
   "metadata": {
    "collapsed": true,
    "scrolled": true
   },
   "outputs": [],
   "source": [
    "# method = 'mean_intensity'\n",
    "method = 'cnn' # "
   ]
  },
  {
   "cell_type": "code",
   "execution_count": 16,
   "metadata": {
    "collapsed": true
   },
   "outputs": [],
   "source": [
    "prep_id = 'alignedBrainstemCrop'"
   ]
  },
  {
   "cell_type": "code",
   "execution_count": null,
   "metadata": {
    "collapsed": true
   },
   "outputs": [],
   "source": []
  },
  {
   "cell_type": "code",
   "execution_count": null,
   "metadata": {
    "collapsed": true,
    "scrolled": true
   },
   "outputs": [],
   "source": [
    "for stack in ['MD585', 'MD589', 'MD594']:\n",
    "    \n",
    "    target_locations = grid_parameters_to_sample_locations(grid_spec=win_id_to_gridspec(win_id=7, stack=stack))\n",
    "    source_locations = grid_parameters_to_sample_locations(grid_spec=win_id_to_gridspec(win_id=8, stack=stack))\n",
    "    target_locations_mapped_to_source_locations, target_indices_to_source_indices_mapping = align_grid_specs(source_locations=source_locations, target_locations=target_locations, stack=stack)\n",
    "\n",
    "    target_locations_to_source_locations_mapping = {tuple(tgt_loc): tuple(src_loc)\n",
    "                        for tgt_loc, src_loc in zip(target_locations, target_locations_mapped_to_source_locations)}\n",
    "    \n",
    "    for sec in metadata_cache['valid_sections'][stack]:\n",
    "        \n",
    "        print stack, sec\n",
    "        \n",
    "        features_100um, locations_100um = DataManager.load_dnn_features_v2(stack=stack, sec=sec,\n",
    "                                                                           prep_id=prep_id, win_id=7,\n",
    "                                                                           normalization_scheme='none',\n",
    "                                                                           model_name=model_name)\n",
    "        \n",
    "        features_200um, locations_200um = DataManager.load_dnn_features_v2(stack=stack, sec=sec,\n",
    "                                                               prep_id=prep_id, win_id=8,\n",
    "                                                               normalization_scheme='none',\n",
    "                                                               model_name=model_name)\n",
    "\n",
    "        locations_200um_to_indices_200um_in_loaded_pool_mapping = {tuple(loc_200um): idx_200um_in_loaded_pool\n",
    "                                for idx_200um_in_loaded_pool, loc_200um in enumerate(locations_200um)}\n",
    "        \n",
    "        features = []\n",
    "        locations = []\n",
    "        for idx_100um_in_loaded_pool, loc_100um in enumerate(locations_100um):\n",
    "            loc_200um = target_locations_to_source_locations_mapping[tuple(loc_100um)]\n",
    "            if tuple(loc_200um) in locations_200um_to_indices_200um_in_loaded_pool_mapping:\n",
    "                # check if the 100um grid mapped to a 200um grid that has features associated\n",
    "                idx_200um_in_loaded_pool = locations_200um_to_indices_200um_in_loaded_pool_mapping[tuple(loc_200um)]\n",
    "\n",
    "                f = np.concatenate([features_100um[idx_100um_in_loaded_pool], \n",
    "                                   features_200um[idx_200um_in_loaded_pool]], axis=-1)\n",
    "                features.append(f)\n",
    "                locations.append(locations_100um[idx_100um_in_loaded_pool])\n",
    "                \n",
    "        DataManager.save_dnn_features_v2(features=features, locations=locations,\n",
    "                         stack=stack, sec=sec, prep_id=prep_id,\n",
    "                         win_id=7, normalization_scheme='none',\n",
    "                         model_name='concat_100um_200um')"
   ]
  },
  {
   "cell_type": "code",
   "execution_count": null,
   "metadata": {
    "collapsed": true
   },
   "outputs": [],
   "source": [
    "for stack in ['MD585', 'MD589', 'MD594']:\n",
    "    \n",
    "    size100um_locations = grid_parameters_to_sample_locations(grid_spec=win_id_to_gridspec(win_id=7, stack=stack))\n",
    "    size200um_locations = grid_parameters_to_sample_locations(grid_spec=win_id_to_gridspec(win_id=8, stack=stack))\n",
    "    size50um_locations = grid_parameters_to_sample_locations(grid_spec=win_id_to_gridspec(win_id=11, stack=stack))\n",
    "    \n",
    "    size100um_locations_mapped_to_size200um_locations, \\\n",
    "    size100um_indices_to_size200um_indices_mapping = \\\n",
    "    align_grid_specs(source_locations=size200um_locations, \n",
    "                     target_locations=size100um_locations, \n",
    "                     stack=stack)\n",
    "\n",
    "    size100um_locations_to_size200um_locations_mapping = {tuple(tgt_loc): tuple(src_loc)\n",
    "                        for tgt_loc, src_loc in zip(size100um_locations, \n",
    "                                                    size100um_locations_mapped_to_size200um_locations)}\n",
    "    \n",
    "    size100um_locations_mapped_to_size50um_locations, \\\n",
    "    size100um_indices_to_size50um_indices_mapping = \\\n",
    "    align_grid_specs(source_locations=size50um_locations, \n",
    "                     target_locations=size100um_locations, \n",
    "                     stack=stack)\n",
    "    size100um_locations_to_size50um_locations_mapping = {tuple(tgt_loc): tuple(src_loc)\n",
    "                        for tgt_loc, src_loc in zip(size100um_locations, \n",
    "                                                    size100um_locations_mapped_to_size50um_locations)}\n",
    "    \n",
    "    for sec in metadata_cache['valid_sections'][stack]:\n",
    "        \n",
    "        print stack, sec\n",
    "        \n",
    "        features_100um, locations_100um = DataManager.load_dnn_features_v2(stack=stack, sec=sec,\n",
    "                                                                           prep_id=prep_id, win_id=7,\n",
    "                                                                           normalization_scheme='none',\n",
    "                                                                           model_name=model_name)\n",
    "        \n",
    "        features_200um, locations_200um = DataManager.load_dnn_features_v2(stack=stack, sec=sec,\n",
    "                                                               prep_id=prep_id, win_id=8,\n",
    "                                                               normalization_scheme='none',\n",
    "                                                               model_name=model_name)\n",
    "\n",
    "        features_50um, locations_50um = DataManager.load_dnn_features_v2(stack=stack, sec=sec,\n",
    "                                                               prep_id=prep_id, win_id=11,\n",
    "                                                               normalization_scheme='none',\n",
    "                                                               model_name=model_name)\n",
    "\n",
    "        locations_200um_to_indices_200um_in_loaded_pool_mapping = {tuple(loc_200um): idx_200um_in_loaded_pool\n",
    "                                for idx_200um_in_loaded_pool, loc_200um in enumerate(locations_200um)}\n",
    "\n",
    "        locations_50um_to_indices_50um_in_loaded_pool_mapping = {tuple(loc_50um): idx_50um_in_loaded_pool\n",
    "                        for idx_50um_in_loaded_pool, loc_50um in enumerate(locations_50um)}\n",
    "\n",
    "        \n",
    "        features = []\n",
    "        locations = []\n",
    "        for idx_100um_in_loaded_pool, loc_100um in enumerate(locations_100um):\n",
    "            loc_200um = size100um_locations_to_size200um_locations_mapping[tuple(loc_100um)]\n",
    "            loc_50um = size100um_locations_to_size50um_locations_mapping[tuple(loc_100um)]\n",
    "            \n",
    "            if tuple(loc_200um) in locations_200um_to_indices_200um_in_loaded_pool_mapping and \\\n",
    "            tuple(loc_50um) in locations_50um_to_indices_50um_in_loaded_pool_mapping:\n",
    "                \n",
    "                # check if the 100um grid mapped to a 200um grid that has features associated\n",
    "                idx_200um_in_loaded_pool = locations_200um_to_indices_200um_in_loaded_pool_mapping[tuple(loc_200um)]\n",
    "                \n",
    "                idx_50um_in_loaded_pool = locations_50um_to_indices_50um_in_loaded_pool_mapping[tuple(loc_50um)]\n",
    "\n",
    "                f = np.concatenate([features_100um[idx_100um_in_loaded_pool], \n",
    "                                   features_200um[idx_200um_in_loaded_pool],\n",
    "                                   features_50um[idx_50um_in_loaded_pool]], axis=-1)\n",
    "                features.append(f)\n",
    "                locations.append(locations_100um[idx_100um_in_loaded_pool])\n",
    "                \n",
    "        DataManager.save_dnn_features_v2(features=features, locations=locations,\n",
    "                         stack=stack, sec=sec, prep_id=prep_id,\n",
    "                         win_id=7, normalization_scheme='none',\n",
    "                         model_name='concat_100um_200um_50um')"
   ]
  },
  {
   "cell_type": "code",
   "execution_count": null,
   "metadata": {
    "collapsed": true
   },
   "outputs": [],
   "source": []
  },
  {
   "cell_type": "code",
   "execution_count": 18,
   "metadata": {
    "collapsed": true
   },
   "outputs": [],
   "source": [
    "compute_new_addresses = False"
   ]
  },
  {
   "cell_type": "code",
   "execution_count": 317,
   "metadata": {
    "collapsed": true
   },
   "outputs": [],
   "source": [
    "# model_name = 'concat_100um_200um'\n",
    "model_name = 'concat_100um_200um_50um'"
   ]
  },
  {
   "cell_type": "code",
   "execution_count": 36,
   "metadata": {
    "scrolled": true
   },
   "outputs": [
    {
     "name": "stdout",
     "output_type": "stream",
     "text": [
      "# positive train = 4215\n",
      "# negative train = 28745\n",
      "('MD589', 105)\n",
      "('MD589', 350)\n",
      "('MD585', 343)\n"
     ]
    },
    {
     "name": "stderr",
     "output_type": "stream",
     "text": [
      "Feature for (MD585,343,(6818,7598)) is not in pool. Re-compute.\n",
      "Feature for (MD585,343,(6818,7663)) is not in pool. Re-compute.\n",
      "Feature for (MD585,343,(6883,7598)) is not in pool. Re-compute.\n",
      "Feature for (MD585,343,(6883,7663)) is not in pool. Re-compute.\n",
      "Feature for (MD585,343,(6883,7728)) is not in pool. Re-compute.\n",
      "Feature for (MD585,343,(6948,7533)) is not in pool. Re-compute.\n",
      "Feature for (MD585,343,(6948,7598)) is not in pool. Re-compute.\n",
      "Feature for (MD585,343,(6948,7663)) is not in pool. Re-compute.\n",
      "Feature for (MD585,343,(6948,7728)) is not in pool. Re-compute.\n",
      "Feature for (MD585,343,(7013,7533)) is not in pool. Re-compute.\n",
      "Feature for (MD585,343,(7013,7598)) is not in pool. Re-compute.\n",
      "Feature for (MD585,343,(7013,7663)) is not in pool. Re-compute.\n",
      "Feature for (MD585,343,(7013,7728)) is not in pool. Re-compute.\n",
      "Feature for (MD585,343,(7013,7793)) is not in pool. Re-compute.\n",
      "Feature for (MD585,343,(7078,7598)) is not in pool. Re-compute.\n",
      "Feature for (MD585,343,(7078,7663)) is not in pool. Re-compute.\n",
      "Feature for (MD585,343,(7078,7728)) is not in pool. Re-compute.\n",
      "Feature for (MD585,343,(7078,7793)) is not in pool. Re-compute.\n",
      "Feature for (MD585,343,(7143,7663)) is not in pool. Re-compute.\n",
      "Feature for (MD585,343,(7143,7728)) is not in pool. Re-compute.\n",
      "Feature for (MD585,343,(7143,7793)) is not in pool. Re-compute.\n",
      "Feature for (MD585,343,(7208,7728)) is not in pool. Re-compute.\n",
      "Feature for (MD585,343,(7208,7793)) is not in pool. Re-compute.\n",
      "Feature for (MD585,343,(7208,7858)) is not in pool. Re-compute.\n",
      "Feature for (MD585,343,(7273,7728)) is not in pool. Re-compute.\n",
      "Feature for (MD585,343,(7273,7793)) is not in pool. Re-compute.\n",
      "Feature for (MD585,343,(7273,7858)) is not in pool. Re-compute.\n",
      "Feature for (MD585,343,(7273,7923)) is not in pool. Re-compute.\n",
      "Feature for (MD585,343,(7338,7793)) is not in pool. Re-compute.\n",
      "Feature for (MD585,343,(7338,7858)) is not in pool. Re-compute.\n",
      "Feature for (MD585,343,(7338,7923)) is not in pool. Re-compute.\n",
      "Feature for (MD585,343,(7338,7988)) is not in pool. Re-compute.\n",
      "Feature for (MD585,343,(7403,7793)) is not in pool. Re-compute.\n",
      "Feature for (MD585,343,(7403,7858)) is not in pool. Re-compute.\n",
      "Feature for (MD585,343,(7403,7923)) is not in pool. Re-compute.\n",
      "Feature for (MD585,343,(7403,7988)) is not in pool. Re-compute.\n",
      "Feature for (MD585,343,(7403,8053)) is not in pool. Re-compute.\n",
      "Feature for (MD585,343,(7468,7858)) is not in pool. Re-compute.\n",
      "Feature for (MD585,343,(7468,7923)) is not in pool. Re-compute.\n",
      "Feature for (MD585,343,(7468,7988)) is not in pool. Re-compute.\n",
      "Feature for (MD585,343,(7468,8053)) is not in pool. Re-compute.\n",
      "Feature for (MD585,343,(7533,7858)) is not in pool. Re-compute.\n",
      "Feature for (MD585,343,(7533,7923)) is not in pool. Re-compute.\n",
      "Feature for (MD585,343,(7533,7988)) is not in pool. Re-compute.\n",
      "Feature for (MD585,343,(7533,8053)) is not in pool. Re-compute.\n",
      "Feature for (MD585,343,(7533,8118)) is not in pool. Re-compute.\n",
      "Feature for (MD585,343,(7598,7858)) is not in pool. Re-compute.\n",
      "Feature for (MD585,343,(7598,7923)) is not in pool. Re-compute.\n",
      "Feature for (MD585,343,(7598,7988)) is not in pool. Re-compute.\n",
      "Feature for (MD585,343,(7598,8053)) is not in pool. Re-compute.\n",
      "Feature for (MD585,343,(7598,8118)) is not in pool. Re-compute.\n",
      "Feature for (MD585,343,(7663,7923)) is not in pool. Re-compute.\n",
      "Feature for (MD585,343,(7663,7988)) is not in pool. Re-compute.\n",
      "Feature for (MD585,343,(7663,8053)) is not in pool. Re-compute.\n",
      "Feature for (MD585,343,(7663,8118)) is not in pool. Re-compute.\n",
      "Feature for (MD585,343,(7663,8183)) is not in pool. Re-compute.\n",
      "Feature for (MD585,343,(7728,7988)) is not in pool. Re-compute.\n",
      "Feature for (MD585,343,(7728,8053)) is not in pool. Re-compute.\n",
      "Feature for (MD585,343,(7728,8118)) is not in pool. Re-compute.\n",
      "Feature for (MD585,343,(7728,8183)) is not in pool. Re-compute.\n",
      "Feature for (MD585,343,(7793,7988)) is not in pool. Re-compute.\n",
      "Feature for (MD585,343,(7793,8053)) is not in pool. Re-compute.\n",
      "Feature for (MD585,343,(7793,8118)) is not in pool. Re-compute.\n"
     ]
    },
    {
     "name": "stdout",
     "output_type": "stream",
     "text": [
      "('MD589', 104)\n",
      "('MD585', 88)\n"
     ]
    },
    {
     "name": "stderr",
     "output_type": "stream",
     "text": [
      "Feature for (MD585,88,(6363,8183)) is not in pool. Re-compute.\n",
      "Feature for (MD585,88,(6363,8248)) is not in pool. Re-compute.\n",
      "Feature for (MD585,88,(6428,8183)) is not in pool. Re-compute.\n",
      "Feature for (MD585,88,(6428,8248)) is not in pool. Re-compute.\n",
      "Feature for (MD585,88,(6428,8313)) is not in pool. Re-compute.\n",
      "Feature for (MD585,88,(6428,8378)) is not in pool. Re-compute.\n",
      "Feature for (MD585,88,(6493,8183)) is not in pool. Re-compute.\n",
      "Feature for (MD585,88,(6493,8248)) is not in pool. Re-compute.\n",
      "Feature for (MD585,88,(6493,8313)) is not in pool. Re-compute.\n",
      "Feature for (MD585,88,(6493,8378)) is not in pool. Re-compute.\n",
      "Feature for (MD585,88,(6493,8443)) is not in pool. Re-compute.\n",
      "Feature for (MD585,88,(6558,8183)) is not in pool. Re-compute.\n",
      "Feature for (MD585,88,(6558,8248)) is not in pool. Re-compute.\n",
      "Feature for (MD585,88,(6558,8313)) is not in pool. Re-compute.\n",
      "Feature for (MD585,88,(6558,8378)) is not in pool. Re-compute.\n",
      "Feature for (MD585,88,(6558,8443)) is not in pool. Re-compute.\n",
      "Feature for (MD585,88,(6558,8508)) is not in pool. Re-compute.\n",
      "Feature for (MD585,88,(6623,8118)) is not in pool. Re-compute.\n",
      "Feature for (MD585,88,(6623,8183)) is not in pool. Re-compute.\n",
      "Feature for (MD585,88,(6623,8248)) is not in pool. Re-compute.\n",
      "Feature for (MD585,88,(6623,8313)) is not in pool. Re-compute.\n",
      "Feature for (MD585,88,(6623,8378)) is not in pool. Re-compute.\n",
      "Feature for (MD585,88,(6623,8443)) is not in pool. Re-compute.\n",
      "Feature for (MD585,88,(6623,8508)) is not in pool. Re-compute.\n",
      "Feature for (MD585,88,(6623,8573)) is not in pool. Re-compute.\n",
      "Feature for (MD585,88,(6688,8248)) is not in pool. Re-compute.\n",
      "Feature for (MD585,88,(6688,8313)) is not in pool. Re-compute.\n",
      "Feature for (MD585,88,(6688,8378)) is not in pool. Re-compute.\n",
      "Feature for (MD585,88,(6688,8443)) is not in pool. Re-compute.\n",
      "Feature for (MD585,88,(6688,8508)) is not in pool. Re-compute.\n",
      "Feature for (MD585,88,(6688,8573)) is not in pool. Re-compute.\n",
      "Feature for (MD585,88,(6688,8638)) is not in pool. Re-compute.\n",
      "Feature for (MD585,88,(6753,8313)) is not in pool. Re-compute.\n",
      "Feature for (MD585,88,(6753,8378)) is not in pool. Re-compute.\n",
      "Feature for (MD585,88,(6753,8443)) is not in pool. Re-compute.\n",
      "Feature for (MD585,88,(6753,8508)) is not in pool. Re-compute.\n",
      "Feature for (MD585,88,(6753,8573)) is not in pool. Re-compute.\n",
      "Feature for (MD585,88,(6753,8638)) is not in pool. Re-compute.\n",
      "Feature for (MD585,88,(6753,8703)) is not in pool. Re-compute.\n",
      "Feature for (MD585,88,(6818,8508)) is not in pool. Re-compute.\n",
      "Feature for (MD585,88,(6818,8573)) is not in pool. Re-compute.\n",
      "Feature for (MD585,88,(6818,8638)) is not in pool. Re-compute.\n",
      "Feature for (MD585,88,(6818,8703)) is not in pool. Re-compute.\n",
      "Feature for (MD585,88,(6818,8768)) is not in pool. Re-compute.\n",
      "Feature for (MD585,88,(6883,8573)) is not in pool. Re-compute.\n",
      "Feature for (MD585,88,(6883,8638)) is not in pool. Re-compute.\n",
      "Feature for (MD585,88,(6883,8703)) is not in pool. Re-compute.\n",
      "Feature for (MD585,88,(6883,8768)) is not in pool. Re-compute.\n",
      "Feature for (MD585,88,(6883,8833)) is not in pool. Re-compute.\n",
      "Feature for (MD585,88,(6948,8573)) is not in pool. Re-compute.\n",
      "Feature for (MD585,88,(6948,8638)) is not in pool. Re-compute.\n",
      "Feature for (MD585,88,(6948,8703)) is not in pool. Re-compute.\n",
      "Feature for (MD585,88,(6948,8768)) is not in pool. Re-compute.\n",
      "Feature for (MD585,88,(6948,8833)) is not in pool. Re-compute.\n",
      "Feature for (MD585,88,(6948,8898)) is not in pool. Re-compute.\n",
      "Feature for (MD585,88,(7013,8638)) is not in pool. Re-compute.\n",
      "Feature for (MD585,88,(7013,8703)) is not in pool. Re-compute.\n",
      "Feature for (MD585,88,(7013,8768)) is not in pool. Re-compute.\n",
      "Feature for (MD585,88,(7013,8833)) is not in pool. Re-compute.\n",
      "Feature for (MD585,88,(7078,8703)) is not in pool. Re-compute.\n"
     ]
    },
    {
     "name": "stdout",
     "output_type": "stream",
     "text": [
      "('MD589', 102)\n",
      "('MD585', 95)\n"
     ]
    },
    {
     "name": "stderr",
     "output_type": "stream",
     "text": [
      "Feature for (MD585,95,(5973,8183)) is not in pool. Re-compute.\n",
      "Feature for (MD585,95,(5973,8248)) is not in pool. Re-compute.\n",
      "Feature for (MD585,95,(5973,8313)) is not in pool. Re-compute.\n",
      "Feature for (MD585,95,(6038,8183)) is not in pool. Re-compute.\n",
      "Feature for (MD585,95,(6038,8248)) is not in pool. Re-compute.\n",
      "Feature for (MD585,95,(6038,8313)) is not in pool. Re-compute.\n",
      "Feature for (MD585,95,(6103,8183)) is not in pool. Re-compute.\n",
      "Feature for (MD585,95,(6103,8248)) is not in pool. Re-compute.\n",
      "Feature for (MD585,95,(6103,8313)) is not in pool. Re-compute.\n",
      "Feature for (MD585,95,(6168,8118)) is not in pool. Re-compute.\n",
      "Feature for (MD585,95,(6168,8183)) is not in pool. Re-compute.\n",
      "Feature for (MD585,95,(6168,8248)) is not in pool. Re-compute.\n",
      "Feature for (MD585,95,(6168,8313)) is not in pool. Re-compute.\n",
      "Feature for (MD585,95,(6233,8248)) is not in pool. Re-compute.\n",
      "Feature for (MD585,95,(6233,8313)) is not in pool. Re-compute.\n",
      "Feature for (MD585,95,(6298,8313)) is not in pool. Re-compute.\n",
      "Feature for (MD585,95,(6298,8378)) is not in pool. Re-compute.\n",
      "Feature for (MD585,95,(6363,8313)) is not in pool. Re-compute.\n",
      "Feature for (MD585,95,(6363,8378)) is not in pool. Re-compute.\n",
      "Feature for (MD585,95,(6428,8378)) is not in pool. Re-compute.\n",
      "Feature for (MD585,95,(6493,8378)) is not in pool. Re-compute.\n",
      "Feature for (MD585,95,(6558,8378)) is not in pool. Re-compute.\n",
      "Feature for (MD585,95,(6558,8443)) is not in pool. Re-compute.\n",
      "Feature for (MD585,95,(6623,8378)) is not in pool. Re-compute.\n",
      "Feature for (MD585,95,(6623,8443)) is not in pool. Re-compute.\n",
      "Feature for (MD585,95,(6688,8378)) is not in pool. Re-compute.\n",
      "Feature for (MD585,95,(6688,8443)) is not in pool. Re-compute.\n",
      "Feature for (MD585,95,(6688,8508)) is not in pool. Re-compute.\n",
      "Feature for (MD585,95,(6753,8573)) is not in pool. Re-compute.\n",
      "Feature for (MD585,95,(6753,8638)) is not in pool. Re-compute.\n",
      "Feature for (MD585,95,(6818,8638)) is not in pool. Re-compute.\n",
      "Feature for (MD585,95,(6818,8703)) is not in pool. Re-compute.\n",
      "Feature for (MD585,95,(6818,8768)) is not in pool. Re-compute.\n",
      "Feature for (MD585,95,(6883,8703)) is not in pool. Re-compute.\n",
      "Feature for (MD585,95,(6883,8768)) is not in pool. Re-compute.\n",
      "Feature for (MD585,95,(6883,8833)) is not in pool. Re-compute.\n",
      "Feature for (MD585,95,(6883,8898)) is not in pool. Re-compute.\n",
      "Feature for (MD585,95,(6948,8833)) is not in pool. Re-compute.\n",
      "Feature for (MD585,95,(6948,8898)) is not in pool. Re-compute.\n"
     ]
    },
    {
     "name": "stdout",
     "output_type": "stream",
     "text": [
      "('MD589', 348)\n",
      "('MD589', 339)\n",
      "('MD585', 331)\n",
      "('MD589', 362)\n",
      "('MD589', 354)\n",
      "('MD589', 109)\n",
      "('MD589', 351)\n",
      "('MD585', 328)\n",
      "('MD585', 325)\n",
      "('MD585', 100)\n",
      "('MD585', 334)\n"
     ]
    },
    {
     "name": "stderr",
     "output_type": "stream",
     "text": [
      "Feature for (MD585,334,(6493,7793)) is not in pool. Re-compute.\n",
      "Feature for (MD585,334,(6558,7858)) is not in pool. Re-compute.\n",
      "Feature for (MD585,334,(6623,7858)) is not in pool. Re-compute.\n"
     ]
    },
    {
     "name": "stdout",
     "output_type": "stream",
     "text": [
      "('MD585', 347)\n"
     ]
    },
    {
     "name": "stderr",
     "output_type": "stream",
     "text": [
      "Feature for (MD585,347,(7078,7663)) is not in pool. Re-compute.\n",
      "Feature for (MD585,347,(7143,7663)) is not in pool. Re-compute.\n",
      "Feature for (MD585,347,(7143,7728)) is not in pool. Re-compute.\n",
      "Feature for (MD585,347,(7208,7598)) is not in pool. Re-compute.\n",
      "Feature for (MD585,347,(7208,7663)) is not in pool. Re-compute.\n",
      "Feature for (MD585,347,(7208,7728)) is not in pool. Re-compute.\n",
      "Feature for (MD585,347,(7273,7598)) is not in pool. Re-compute.\n",
      "Feature for (MD585,347,(7273,7663)) is not in pool. Re-compute.\n",
      "Feature for (MD585,347,(7273,7728)) is not in pool. Re-compute.\n",
      "Feature for (MD585,347,(7273,7793)) is not in pool. Re-compute.\n",
      "Feature for (MD585,347,(7338,7598)) is not in pool. Re-compute.\n",
      "Feature for (MD585,347,(7338,7663)) is not in pool. Re-compute.\n",
      "Feature for (MD585,347,(7338,7728)) is not in pool. Re-compute.\n",
      "Feature for (MD585,347,(7338,7793)) is not in pool. Re-compute.\n",
      "Feature for (MD585,347,(7403,7598)) is not in pool. Re-compute.\n",
      "Feature for (MD585,347,(7403,7663)) is not in pool. Re-compute.\n",
      "Feature for (MD585,347,(7403,7728)) is not in pool. Re-compute.\n",
      "Feature for (MD585,347,(7403,7793)) is not in pool. Re-compute.\n",
      "Feature for (MD585,347,(7403,7858)) is not in pool. Re-compute.\n",
      "Feature for (MD585,347,(7468,7598)) is not in pool. Re-compute.\n",
      "Feature for (MD585,347,(7468,7663)) is not in pool. Re-compute.\n",
      "Feature for (MD585,347,(7468,7728)) is not in pool. Re-compute.\n",
      "Feature for (MD585,347,(7468,7793)) is not in pool. Re-compute.\n",
      "Feature for (MD585,347,(7468,7858)) is not in pool. Re-compute.\n",
      "Feature for (MD585,347,(7468,7923)) is not in pool. Re-compute.\n",
      "Feature for (MD585,347,(7533,7598)) is not in pool. Re-compute.\n",
      "Feature for (MD585,347,(7533,7663)) is not in pool. Re-compute.\n",
      "Feature for (MD585,347,(7533,7728)) is not in pool. Re-compute.\n",
      "Feature for (MD585,347,(7533,7793)) is not in pool. Re-compute.\n",
      "Feature for (MD585,347,(7533,7858)) is not in pool. Re-compute.\n",
      "Feature for (MD585,347,(7533,7923)) is not in pool. Re-compute.\n",
      "Feature for (MD585,347,(7598,7598)) is not in pool. Re-compute.\n",
      "Feature for (MD585,347,(7598,7663)) is not in pool. Re-compute.\n",
      "Feature for (MD585,347,(7598,7728)) is not in pool. Re-compute.\n",
      "Feature for (MD585,347,(7598,7793)) is not in pool. Re-compute.\n",
      "Feature for (MD585,347,(7598,7858)) is not in pool. Re-compute.\n",
      "Feature for (MD585,347,(7598,7923)) is not in pool. Re-compute.\n",
      "Feature for (MD585,347,(7663,7663)) is not in pool. Re-compute.\n",
      "Feature for (MD585,347,(7663,7728)) is not in pool. Re-compute.\n",
      "Feature for (MD585,347,(7663,7793)) is not in pool. Re-compute.\n",
      "Feature for (MD585,347,(7663,7858)) is not in pool. Re-compute.\n",
      "Feature for (MD585,347,(7663,7923)) is not in pool. Re-compute.\n",
      "Feature for (MD585,347,(7728,7728)) is not in pool. Re-compute.\n",
      "Feature for (MD585,347,(7728,7793)) is not in pool. Re-compute.\n",
      "Feature for (MD585,347,(7728,7858)) is not in pool. Re-compute.\n",
      "Feature for (MD585,347,(7728,7923)) is not in pool. Re-compute.\n",
      "Feature for (MD585,347,(7793,7728)) is not in pool. Re-compute.\n",
      "Feature for (MD585,347,(7793,7793)) is not in pool. Re-compute.\n",
      "Feature for (MD585,347,(7793,7858)) is not in pool. Re-compute.\n",
      "Feature for (MD585,347,(7858,7793)) is not in pool. Re-compute.\n"
     ]
    },
    {
     "name": "stdout",
     "output_type": "stream",
     "text": [
      "('MD585', 336)\n"
     ]
    },
    {
     "name": "stderr",
     "output_type": "stream",
     "text": [
      "Feature for (MD585,336,(6428,7663)) is not in pool. Re-compute.\n",
      "Feature for (MD585,336,(6428,7728)) is not in pool. Re-compute.\n",
      "Feature for (MD585,336,(6493,7533)) is not in pool. Re-compute.\n",
      "Feature for (MD585,336,(6493,7598)) is not in pool. Re-compute.\n",
      "Feature for (MD585,336,(6493,7663)) is not in pool. Re-compute.\n",
      "Feature for (MD585,336,(6493,7728)) is not in pool. Re-compute.\n",
      "Feature for (MD585,336,(6493,7793)) is not in pool. Re-compute.\n",
      "Feature for (MD585,336,(6493,7858)) is not in pool. Re-compute.\n",
      "Feature for (MD585,336,(6558,7468)) is not in pool. Re-compute.\n",
      "Feature for (MD585,336,(6558,7533)) is not in pool. Re-compute.\n",
      "Feature for (MD585,336,(6558,7598)) is not in pool. Re-compute.\n",
      "Feature for (MD585,336,(6558,7663)) is not in pool. Re-compute.\n",
      "Feature for (MD585,336,(6558,7728)) is not in pool. Re-compute.\n",
      "Feature for (MD585,336,(6558,7793)) is not in pool. Re-compute.\n",
      "Feature for (MD585,336,(6558,7858)) is not in pool. Re-compute.\n",
      "Feature for (MD585,336,(6558,7923)) is not in pool. Re-compute.\n",
      "Feature for (MD585,336,(6623,7533)) is not in pool. Re-compute.\n",
      "Feature for (MD585,336,(6623,7598)) is not in pool. Re-compute.\n",
      "Feature for (MD585,336,(6623,7663)) is not in pool. Re-compute.\n",
      "Feature for (MD585,336,(6623,7728)) is not in pool. Re-compute.\n",
      "Feature for (MD585,336,(6623,7793)) is not in pool. Re-compute.\n",
      "Feature for (MD585,336,(6623,7858)) is not in pool. Re-compute.\n",
      "Feature for (MD585,336,(6623,7923)) is not in pool. Re-compute.\n",
      "Feature for (MD585,336,(6623,7988)) is not in pool. Re-compute.\n",
      "Feature for (MD585,336,(6688,7923)) is not in pool. Re-compute.\n",
      "Feature for (MD585,336,(6688,7988)) is not in pool. Re-compute.\n",
      "Feature for (MD585,336,(6753,7988)) is not in pool. Re-compute.\n",
      "Feature for (MD585,336,(7533,8248)) is not in pool. Re-compute.\n",
      "Feature for (MD585,336,(7533,8313)) is not in pool. Re-compute.\n",
      "Feature for (MD585,336,(7598,8248)) is not in pool. Re-compute.\n",
      "Feature for (MD585,336,(7598,8313)) is not in pool. Re-compute.\n",
      "Feature for (MD585,336,(7598,8378)) is not in pool. Re-compute.\n",
      "Feature for (MD585,336,(7663,8248)) is not in pool. Re-compute.\n",
      "Feature for (MD585,336,(7663,8313)) is not in pool. Re-compute.\n"
     ]
    },
    {
     "name": "stdout",
     "output_type": "stream",
     "text": [
      "# positive test = 1735\n",
      "# negative test = 15286\n",
      "('MD594', 99)\n",
      "('MD594', 340)\n",
      "('MD594', 335)\n",
      "('MD594', 346)\n",
      "('MD594', 111)\n",
      "('MD594', 115)\n",
      "('MD594', 360)\n",
      "('MD594', 102)\n",
      "('MD594', 348)\n",
      "('MD594', 351)\n",
      "n_train 1000\n",
      "Trial 0\n",
      "Training: 1000 positive, 1000 negative\n",
      "Test: 1000 positive, 1000 negative\n"
     ]
    },
    {
     "name": "stderr",
     "output_type": "stream",
     "text": [
      "Fitting classifier: 0.58 seconds\n"
     ]
    },
    {
     "name": "stdout",
     "output_type": "stream",
     "text": [
      "Trial 1\n",
      "Training: 1000 positive, 1000 negative\n",
      "Test: 1000 positive, 1000 negative\n"
     ]
    },
    {
     "name": "stderr",
     "output_type": "stream",
     "text": [
      "Fitting classifier: 0.57 seconds\n"
     ]
    },
    {
     "name": "stdout",
     "output_type": "stream",
     "text": [
      "Trial 2\n",
      "Training: 1000 positive, 1000 negative\n",
      "Test: 1000 positive, 1000 negative\n"
     ]
    },
    {
     "name": "stderr",
     "output_type": "stream",
     "text": [
      "Fitting classifier: 0.56 seconds\n"
     ]
    },
    {
     "name": "stdout",
     "output_type": "stream",
     "text": [
      "n_train 5000\n",
      "Trial 0\n",
      "Training: 4215 positive, 4215 negative\n",
      "Test: 1000 positive, 1000 negative\n"
     ]
    },
    {
     "name": "stderr",
     "output_type": "stream",
     "text": [
      "Fitting classifier: 2.45 seconds\n"
     ]
    },
    {
     "name": "stdout",
     "output_type": "stream",
     "text": [
      "Trial 1\n",
      "Training: 4215 positive, 4215 negative\n",
      "Test: 1000 positive, 1000 negative\n"
     ]
    },
    {
     "name": "stderr",
     "output_type": "stream",
     "text": [
      "Fitting classifier: 3.19 seconds\n"
     ]
    },
    {
     "name": "stdout",
     "output_type": "stream",
     "text": [
      "Trial 2\n",
      "Training: 4215 positive, 4215 negative\n",
      "Test: 1000 positive, 1000 negative\n"
     ]
    },
    {
     "name": "stderr",
     "output_type": "stream",
     "text": [
      "Fitting classifier: 2.90 seconds\n"
     ]
    },
    {
     "name": "stdout",
     "output_type": "stream",
     "text": [
      "n_train 15000\n",
      "Trial 0\n",
      "Training: 4215 positive, 4215 negative\n",
      "Test: 1000 positive, 1000 negative\n"
     ]
    },
    {
     "name": "stderr",
     "output_type": "stream",
     "text": [
      "Fitting classifier: 3.16 seconds\n"
     ]
    },
    {
     "name": "stdout",
     "output_type": "stream",
     "text": [
      "Trial 1\n",
      "Training: 4215 positive, 4215 negative\n",
      "Test: 1000 positive, 1000 negative\n"
     ]
    },
    {
     "name": "stderr",
     "output_type": "stream",
     "text": [
      "Fitting classifier: 3.14 seconds\n"
     ]
    },
    {
     "name": "stdout",
     "output_type": "stream",
     "text": [
      "Trial 2\n",
      "Training: 4215 positive, 4215 negative\n",
      "Test: 1000 positive, 1000 negative\n"
     ]
    },
    {
     "name": "stderr",
     "output_type": "stream",
     "text": [
      "Fitting classifier: 2.46 seconds\n"
     ]
    },
    {
     "data": {
      "image/png": "[encoded data removed]",
      "text/plain": [
       "<matplotlib.figure.Figure at 0x7f93a14d05d0>"
      ]
     },
     "metadata": {},
     "output_type": "display_data"
    },
    {
     "data": {
      "image/png": "[encoded data removed]",
      "text/plain": [
       "<matplotlib.figure.Figure at 0x7f93b50aba90>"
      ]
     },
     "metadata": {},
     "output_type": "display_data"
    },
    {
     "data": {
      "image/png": "[encoded data removed]",
      "text/plain": [
       "<matplotlib.figure.Figure at 0x7f93181b4790>"
      ]
     },
     "metadata": {},
     "output_type": "display_data"
    },
    {
     "name": "stdout",
     "output_type": "stream",
     "text": [
      "# positive train = 1660\n",
      "# negative train = 24703\n",
      "('MD585', 333)\n",
      "('MD589', 121)\n",
      "('MD589', 115)\n",
      "('MD585', 324)\n",
      "('MD585', 323)\n",
      "('MD585', 99)\n",
      "('MD589', 348)\n",
      "('MD589', 347)\n",
      "('MD585', 95)\n"
     ]
    },
    {
     "name": "stderr",
     "output_type": "stream",
     "text": [
      "Feature for (MD585,95,(6818,8638)) is not in pool. Re-compute.\n",
      "Feature for (MD585,95,(6818,8703)) is not in pool. Re-compute.\n",
      "Feature for (MD585,95,(6818,8768)) is not in pool. Re-compute.\n",
      "Feature for (MD585,95,(6883,8703)) is not in pool. Re-compute.\n",
      "Feature for (MD585,95,(6883,8768)) is not in pool. Re-compute.\n",
      "Feature for (MD585,95,(6883,8833)) is not in pool. Re-compute.\n",
      "Feature for (MD585,95,(6883,8898)) is not in pool. Re-compute.\n",
      "Feature for (MD585,95,(6948,8833)) is not in pool. Re-compute.\n",
      "Feature for (MD585,95,(6948,8898)) is not in pool. Re-compute.\n"
     ]
    },
    {
     "name": "stdout",
     "output_type": "stream",
     "text": [
      "('MD589', 346)\n",
      "('MD585', 96)\n"
     ]
    },
    {
     "name": "stderr",
     "output_type": "stream",
     "text": [
      "Feature for (MD585,96,(6948,8768)) is not in pool. Re-compute.\n",
      "Feature for (MD585,96,(6948,8833)) is not in pool. Re-compute.\n",
      "Feature for (MD585,96,(7013,8898)) is not in pool. Re-compute.\n"
     ]
    },
    {
     "name": "stdout",
     "output_type": "stream",
     "text": [
      "('MD585', 93)\n"
     ]
    },
    {
     "name": "stderr",
     "output_type": "stream",
     "text": [
      "Feature for (MD585,93,(6818,8638)) is not in pool. Re-compute.\n",
      "Feature for (MD585,93,(6818,8703)) is not in pool. Re-compute.\n",
      "Feature for (MD585,93,(6818,8768)) is not in pool. Re-compute.\n",
      "Feature for (MD585,93,(6883,8703)) is not in pool. Re-compute.\n",
      "Feature for (MD585,93,(6883,8768)) is not in pool. Re-compute.\n",
      "Feature for (MD585,93,(6883,8833)) is not in pool. Re-compute.\n",
      "Feature for (MD585,93,(6883,8898)) is not in pool. Re-compute.\n",
      "Feature for (MD585,93,(6883,8963)) is not in pool. Re-compute.\n",
      "Feature for (MD585,93,(6948,8833)) is not in pool. Re-compute.\n",
      "Feature for (MD585,93,(6948,8898)) is not in pool. Re-compute.\n"
     ]
    },
    {
     "name": "stdout",
     "output_type": "stream",
     "text": [
      "('MD585', 103)\n",
      "('MD585', 92)\n"
     ]
    },
    {
     "name": "stderr",
     "output_type": "stream",
     "text": [
      "Feature for (MD585,92,(6883,8833)) is not in pool. Re-compute.\n",
      "Feature for (MD585,92,(6883,8898)) is not in pool. Re-compute.\n",
      "Feature for (MD585,92,(6883,8963)) is not in pool. Re-compute.\n",
      "Feature for (MD585,92,(6948,8833)) is not in pool. Re-compute.\n",
      "Feature for (MD585,92,(6948,8898)) is not in pool. Re-compute.\n"
     ]
    },
    {
     "name": "stdout",
     "output_type": "stream",
     "text": [
      "('MD589', 354)\n",
      "('MD589', 353)\n",
      "('MD585', 320)\n",
      "('MD589', 341)\n",
      "('MD589', 344)\n",
      "('MD589', 351)\n",
      "# positive test = 937\n",
      "# negative test = 11830\n",
      "('MD594', 116)\n",
      "('MD594', 354)\n",
      "('MD594', 119)\n",
      "('MD594', 344)\n",
      "('MD594', 346)\n",
      "('MD594', 339)\n",
      "('MD594', 105)\n",
      "('MD594', 114)\n",
      "('MD594', 107)\n",
      "('MD594', 353)\n",
      "n_train 1000\n",
      "Trial 0\n",
      "Training: 1000 positive, 1000 negative\n",
      "Test: 937 positive, 1000 negative\n"
     ]
    },
    {
     "name": "stderr",
     "output_type": "stream",
     "text": [
      "Fitting classifier: 0.52 seconds\n"
     ]
    },
    {
     "name": "stdout",
     "output_type": "stream",
     "text": [
      "Trial 1\n",
      "Training: 1000 positive, 1000 negative\n",
      "Test: 937 positive, 1000 negative\n"
     ]
    },
    {
     "name": "stderr",
     "output_type": "stream",
     "text": [
      "Fitting classifier: 0.45 seconds\n"
     ]
    },
    {
     "name": "stdout",
     "output_type": "stream",
     "text": [
      "Trial 2\n",
      "Training: 1000 positive, 1000 negative\n",
      "Test: 937 positive, 1000 negative\n"
     ]
    },
    {
     "name": "stderr",
     "output_type": "stream",
     "text": [
      "Fitting classifier: 0.47 seconds\n"
     ]
    },
    {
     "name": "stdout",
     "output_type": "stream",
     "text": [
      "n_train 5000\n",
      "Trial 0\n",
      "Training: 1660 positive, 1660 negative\n",
      "Test: 937 positive, 1000 negative\n"
     ]
    },
    {
     "name": "stderr",
     "output_type": "stream",
     "text": [
      "Fitting classifier: 0.84 seconds\n"
     ]
    },
    {
     "name": "stdout",
     "output_type": "stream",
     "text": [
      "Trial 1\n",
      "Training: 1660 positive, 1660 negative\n",
      "Test: 937 positive, 1000 negative\n"
     ]
    },
    {
     "name": "stderr",
     "output_type": "stream",
     "text": [
      "Fitting classifier: 0.89 seconds\n"
     ]
    },
    {
     "name": "stdout",
     "output_type": "stream",
     "text": [
      "Trial 2\n",
      "Training: 1660 positive, 1660 negative\n",
      "Test: 937 positive, 1000 negative\n"
     ]
    },
    {
     "name": "stderr",
     "output_type": "stream",
     "text": [
      "Fitting classifier: 0.86 seconds\n"
     ]
    },
    {
     "name": "stdout",
     "output_type": "stream",
     "text": [
      "n_train 15000\n",
      "Trial 0\n",
      "Training: 1660 positive, 1660 negative\n",
      "Test: 937 positive, 1000 negative\n"
     ]
    },
    {
     "name": "stderr",
     "output_type": "stream",
     "text": [
      "Fitting classifier: 0.92 seconds\n"
     ]
    },
    {
     "name": "stdout",
     "output_type": "stream",
     "text": [
      "Trial 1\n",
      "Training: 1660 positive, 1660 negative\n",
      "Test: 937 positive, 1000 negative\n"
     ]
    },
    {
     "name": "stderr",
     "output_type": "stream",
     "text": [
      "Fitting classifier: 0.80 seconds\n"
     ]
    },
    {
     "name": "stdout",
     "output_type": "stream",
     "text": [
      "Trial 2\n",
      "Training: 1660 positive, 1660 negative\n",
      "Test: 937 positive, 1000 negative\n"
     ]
    },
    {
     "name": "stderr",
     "output_type": "stream",
     "text": [
      "Fitting classifier: 0.86 seconds\n"
     ]
    },
    {
     "data": {
      "image/png": "[encoded data removed]",
      "text/plain": [
       "<matplotlib.figure.Figure at 0x7f93a1978690>"
      ]
     },
     "metadata": {},
     "output_type": "display_data"
    },
    {
     "data": {
      "image/png": "[encoded data removed]",
      "text/plain": [
       "<matplotlib.figure.Figure at 0x7f93b87d2110>"
      ]
     },
     "metadata": {},
     "output_type": "display_data"
    },
    {
     "data": {
      "image/png": "[encoded data removed]",
      "text/plain": [
       "<matplotlib.figure.Figure at 0x7f93b80d6c10>"
      ]
     },
     "metadata": {},
     "output_type": "display_data"
    },
    {
     "name": "stdout",
     "output_type": "stream",
     "text": [
      "# positive train = 1729\n",
      "# negative train = 30529\n",
      "('MD589', 345)\n",
      "('MD585', 300)\n",
      "('MD589', 114)\n",
      "('MD585', 323)\n",
      "('MD589', 350)\n",
      "('MD585', 322)\n",
      "('MD589', 123)\n",
      "('MD589', 325)\n",
      "('MD589', 346)\n",
      "('MD589', 330)\n",
      "('MD585', 317)\n",
      "('MD585', 106)\n",
      "('MD589', 333)\n",
      "('MD589', 351)\n",
      "('MD589', 108)\n",
      "('MD585', 306)\n",
      "('MD585', 111)\n",
      "('MD585', 113)\n",
      "('MD585', 302)\n",
      "('MD585', 91)\n",
      "# positive test = 539\n",
      "# negative test = 14150\n",
      "('MD594', 323)\n",
      "('MD594', 347)\n",
      "('MD594', 112)\n",
      "('MD594', 115)\n",
      "('MD594', 324)\n",
      "('MD594', 134)\n",
      "('MD594', 124)\n",
      "('MD594', 106)\n",
      "('MD594', 351)\n",
      "('MD594', 128)\n",
      "n_train 1000\n",
      "Trial 0\n",
      "Training: 1000 positive, 1000 negative\n",
      "Test: 539 positive, 1000 negative\n"
     ]
    },
    {
     "name": "stderr",
     "output_type": "stream",
     "text": [
      "Fitting classifier: 0.50 seconds\n"
     ]
    },
    {
     "name": "stdout",
     "output_type": "stream",
     "text": [
      "Trial 1\n",
      "Training: 1000 positive, 1000 negative\n",
      "Test: 539 positive, 1000 negative\n"
     ]
    },
    {
     "name": "stderr",
     "output_type": "stream",
     "text": [
      "Fitting classifier: 0.45 seconds\n"
     ]
    },
    {
     "name": "stdout",
     "output_type": "stream",
     "text": [
      "Trial 2\n",
      "Training: 1000 positive, 1000 negative\n",
      "Test: 539 positive, 1000 negative\n"
     ]
    },
    {
     "name": "stderr",
     "output_type": "stream",
     "text": [
      "Fitting classifier: 0.42 seconds\n"
     ]
    },
    {
     "name": "stdout",
     "output_type": "stream",
     "text": [
      "n_train 5000\n",
      "Trial 0\n",
      "Training: 1729 positive, 1729 negative\n",
      "Test: 539 positive, 1000 negative\n"
     ]
    },
    {
     "name": "stderr",
     "output_type": "stream",
     "text": [
      "Fitting classifier: 0.81 seconds\n"
     ]
    },
    {
     "name": "stdout",
     "output_type": "stream",
     "text": [
      "Trial 1\n",
      "Training: 1729 positive, 1729 negative\n",
      "Test: 539 positive, 1000 negative\n"
     ]
    },
    {
     "name": "stderr",
     "output_type": "stream",
     "text": [
      "Fitting classifier: 0.86 seconds\n"
     ]
    },
    {
     "name": "stdout",
     "output_type": "stream",
     "text": [
      "Trial 2\n",
      "Training: 1729 positive, 1729 negative\n",
      "Test: 539 positive, 1000 negative\n"
     ]
    },
    {
     "name": "stderr",
     "output_type": "stream",
     "text": [
      "Fitting classifier: 0.93 seconds\n"
     ]
    },
    {
     "name": "stdout",
     "output_type": "stream",
     "text": [
      "n_train 15000\n",
      "Trial 0\n",
      "Training: 1729 positive, 1729 negative\n",
      "Test: 539 positive, 1000 negative\n"
     ]
    },
    {
     "name": "stderr",
     "output_type": "stream",
     "text": [
      "Fitting classifier: 0.82 seconds\n"
     ]
    },
    {
     "name": "stdout",
     "output_type": "stream",
     "text": [
      "Trial 1\n",
      "Training: 1729 positive, 1729 negative\n",
      "Test: 539 positive, 1000 negative\n"
     ]
    },
    {
     "name": "stderr",
     "output_type": "stream",
     "text": [
      "Fitting classifier: 0.78 seconds\n"
     ]
    },
    {
     "name": "stdout",
     "output_type": "stream",
     "text": [
      "Trial 2\n",
      "Training: 1729 positive, 1729 negative\n",
      "Test: 539 positive, 1000 negative\n"
     ]
    },
    {
     "name": "stderr",
     "output_type": "stream",
     "text": [
      "Fitting classifier: 0.80 seconds\n"
     ]
    },
    {
     "data": {
      "image/png": "[encoded data removed]",
      "text/plain": [
       "<matplotlib.figure.Figure at 0x7f93a19a3f90>"
      ]
     },
     "metadata": {},
     "output_type": "display_data"
    },
    {
     "data": {
      "image/png": "[encoded data removed]",
      "text/plain": [
       "<matplotlib.figure.Figure at 0x7f93a1540650>"
      ]
     },
     "metadata": {},
     "output_type": "display_data"
    },
    {
     "data": {
      "image/png": "[encoded data removed]",
      "text/plain": [
       "<matplotlib.figure.Figure at 0x7f93b50abed0>"
      ]
     },
     "metadata": {},
     "output_type": "display_data"
    },
    {
     "name": "stdout",
     "output_type": "stream",
     "text": [
      "# positive train = 168\n",
      "# negative train = 16048\n",
      "('MD589', 222)\n",
      "('MD585', 204)\n",
      "('MD585', 195)\n",
      "('MD589', 220)\n",
      "('MD589', 224)\n",
      "('MD585', 194)\n",
      "('MD589', 219)\n",
      "('MD589', 229)\n",
      "('MD589', 227)\n",
      "('MD585', 203)\n",
      "('MD589', 228)\n",
      "('MD585', 202)\n",
      "('MD585', 199)\n",
      "('MD589', 225)\n",
      "('MD585', 201)\n",
      "('MD585', 200)\n",
      "('MD585', 197)\n",
      "('MD585', 196)\n",
      "('MD589', 223)\n",
      "('MD589', 230)\n",
      "# positive test = 90\n",
      "# negative test = 7070\n",
      "('MD594', 227)\n",
      "('MD594', 237)\n",
      "('MD594', 236)\n",
      "('MD594', 229)\n",
      "('MD594', 228)\n",
      "('MD594', 232)\n",
      "('MD594', 230)\n",
      "('MD594', 235)\n",
      "('MD594', 225)\n",
      "('MD594', 234)\n",
      "n_train 1000\n",
      "Trial 0\n",
      "Training: 168 positive, 168 negative\n",
      "Test: 90 positive, 1000 negative\n"
     ]
    },
    {
     "name": "stderr",
     "output_type": "stream",
     "text": [
      "Fitting classifier: 0.05 seconds\n"
     ]
    },
    {
     "name": "stdout",
     "output_type": "stream",
     "text": [
      "Trial 1\n",
      "Training: 168 positive, 168 negative\n",
      "Test: 90 positive, 1000 negative\n"
     ]
    },
    {
     "name": "stderr",
     "output_type": "stream",
     "text": [
      "Fitting classifier: 0.04 seconds\n"
     ]
    },
    {
     "name": "stdout",
     "output_type": "stream",
     "text": [
      "Trial 2\n",
      "Training: 168 positive, 168 negative\n",
      "Test: 90 positive, 1000 negative\n"
     ]
    },
    {
     "name": "stderr",
     "output_type": "stream",
     "text": [
      "Fitting classifier: 0.04 seconds\n"
     ]
    },
    {
     "name": "stdout",
     "output_type": "stream",
     "text": [
      "n_train 5000\n",
      "Trial 0\n",
      "Training: 168 positive, 168 negative\n",
      "Test: 90 positive, 1000 negative\n"
     ]
    },
    {
     "name": "stderr",
     "output_type": "stream",
     "text": [
      "Fitting classifier: 0.05 seconds\n"
     ]
    },
    {
     "name": "stdout",
     "output_type": "stream",
     "text": [
      "Trial 1\n",
      "Training: 168 positive, 168 negative\n",
      "Test: 90 positive, 1000 negative\n"
     ]
    },
    {
     "name": "stderr",
     "output_type": "stream",
     "text": [
      "Fitting classifier: 0.04 seconds\n"
     ]
    },
    {
     "name": "stdout",
     "output_type": "stream",
     "text": [
      "Trial 2\n",
      "Training: 168 positive, 168 negative\n",
      "Test: 90 positive, 1000 negative\n"
     ]
    },
    {
     "name": "stderr",
     "output_type": "stream",
     "text": [
      "Fitting classifier: 0.05 seconds\n"
     ]
    },
    {
     "name": "stdout",
     "output_type": "stream",
     "text": [
      "n_train 15000\n",
      "Trial 0\n",
      "Training: 168 positive, 168 negative\n",
      "Test: 90 positive, 1000 negative\n"
     ]
    },
    {
     "name": "stderr",
     "output_type": "stream",
     "text": [
      "Fitting classifier: 0.05 seconds\n"
     ]
    },
    {
     "name": "stdout",
     "output_type": "stream",
     "text": [
      "Trial 1\n",
      "Training: 168 positive, 168 negative\n",
      "Test: 90 positive, 1000 negative\n"
     ]
    },
    {
     "name": "stderr",
     "output_type": "stream",
     "text": [
      "Fitting classifier: 0.04 seconds\n"
     ]
    },
    {
     "name": "stdout",
     "output_type": "stream",
     "text": [
      "Trial 2\n",
      "Training: 168 positive, 168 negative\n",
      "Test: 90 positive, 1000 negative\n"
     ]
    },
    {
     "name": "stderr",
     "output_type": "stream",
     "text": [
      "Fitting classifier: 0.05 seconds\n"
     ]
    },
    {
     "data": {
      "image/png": "[encoded data removed]",
      "text/plain": [
       "<matplotlib.figure.Figure at 0x7f93b82edb90>"
      ]
     },
     "metadata": {},
     "output_type": "display_data"
    },
    {
     "data": {
      "image/png": "[encoded data removed]",
      "text/plain": [
       "<matplotlib.figure.Figure at 0x7f93a13e4790>"
      ]
     },
     "metadata": {},
     "output_type": "display_data"
    },
    {
     "data": {
      "image/png": "[encoded data removed]",
      "text/plain": [
       "<matplotlib.figure.Figure at 0x7f93b849d290>"
      ]
     },
     "metadata": {},
     "output_type": "display_data"
    },
    {
     "name": "stdout",
     "output_type": "stream",
     "text": [
      "# positive train = 783\n",
      "# negative train = 31167\n",
      "('MD585', 205)\n",
      "('MD585', 218)\n",
      "('MD589', 208)\n",
      "('MD585', 185)\n",
      "('MD585', 214)\n",
      "('MD589', 231)\n",
      "('MD585', 184)\n",
      "('MD585', 194)\n",
      "('MD585', 216)\n",
      "('MD589', 229)\n",
      "('MD589', 236)\n",
      "('MD589', 206)\n",
      "('MD589', 227)\n",
      "('MD585', 188)\n",
      "('MD589', 230)\n",
      "('MD589', 214)\n",
      "('MD585', 207)\n",
      "('MD585', 196)\n",
      "('MD589', 223)\n",
      "('MD589', 242)\n",
      "# positive test = 343\n",
      "# negative test = 17171\n",
      "('MD594', 227)\n",
      "('MD594', 219)\n",
      "('MD594', 236)\n",
      "('MD594', 241)\n",
      "('MD594', 228)\n",
      "('MD594', 233)\n",
      "('MD594', 231)\n",
      "('MD594', 232)\n",
      "('MD594', 230)\n",
      "('MD594', 213)\n",
      "n_train 1000\n",
      "Trial 0\n",
      "Training: 783 positive, 783 negative\n",
      "Test: 343 positive, 1000 negative\n"
     ]
    },
    {
     "name": "stderr",
     "output_type": "stream",
     "text": [
      "Fitting classifier: 0.28 seconds\n"
     ]
    },
    {
     "name": "stdout",
     "output_type": "stream",
     "text": [
      "Trial 1\n",
      "Training: 783 positive, 783 negative\n",
      "Test: 343 positive, 1000 negative\n"
     ]
    },
    {
     "name": "stderr",
     "output_type": "stream",
     "text": [
      "Fitting classifier: 0.30 seconds\n"
     ]
    },
    {
     "name": "stdout",
     "output_type": "stream",
     "text": [
      "Trial 2\n",
      "Training: 783 positive, 783 negative\n",
      "Test: 343 positive, 1000 negative\n"
     ]
    },
    {
     "name": "stderr",
     "output_type": "stream",
     "text": [
      "Fitting classifier: 0.28 seconds\n"
     ]
    },
    {
     "name": "stdout",
     "output_type": "stream",
     "text": [
      "n_train 5000\n",
      "Trial 0\n",
      "Training: 783 positive, 783 negative\n",
      "Test: 343 positive, 1000 negative\n"
     ]
    },
    {
     "name": "stderr",
     "output_type": "stream",
     "text": [
      "Fitting classifier: 0.27 seconds\n"
     ]
    },
    {
     "name": "stdout",
     "output_type": "stream",
     "text": [
      "Trial 1\n",
      "Training: 783 positive, 783 negative\n",
      "Test: 343 positive, 1000 negative\n"
     ]
    },
    {
     "name": "stderr",
     "output_type": "stream",
     "text": [
      "Fitting classifier: 0.30 seconds\n"
     ]
    },
    {
     "name": "stdout",
     "output_type": "stream",
     "text": [
      "Trial 2\n",
      "Training: 783 positive, 783 negative\n",
      "Test: 343 positive, 1000 negative\n"
     ]
    },
    {
     "name": "stderr",
     "output_type": "stream",
     "text": [
      "Fitting classifier: 0.27 seconds\n"
     ]
    },
    {
     "name": "stdout",
     "output_type": "stream",
     "text": [
      "n_train 15000\n",
      "Trial 0\n",
      "Training: 783 positive, 783 negative\n",
      "Test: 343 positive, 1000 negative\n"
     ]
    },
    {
     "name": "stderr",
     "output_type": "stream",
     "text": [
      "Fitting classifier: 0.29 seconds\n"
     ]
    },
    {
     "name": "stdout",
     "output_type": "stream",
     "text": [
      "Trial 1\n",
      "Training: 783 positive, 783 negative\n",
      "Test: 343 positive, 1000 negative\n"
     ]
    },
    {
     "name": "stderr",
     "output_type": "stream",
     "text": [
      "Fitting classifier: 0.30 seconds\n"
     ]
    },
    {
     "name": "stdout",
     "output_type": "stream",
     "text": [
      "Trial 2\n",
      "Training: 783 positive, 783 negative\n",
      "Test: 343 positive, 1000 negative\n"
     ]
    },
    {
     "name": "stderr",
     "output_type": "stream",
     "text": [
      "Fitting classifier: 0.29 seconds\n"
     ]
    },
    {
     "data": {
      "image/png": "[encoded data removed]",
      "text/plain": [
       "<matplotlib.figure.Figure at 0x7f93b81c9590>"
      ]
     },
     "metadata": {},
     "output_type": "display_data"
    },
    {
     "data": {
      "image/png": "[encoded data removed]",
      "text/plain": [
       "<matplotlib.figure.Figure at 0x7f99a2b85e10>"
      ]
     },
     "metadata": {},
     "output_type": "display_data"
    },
    {
     "data": {
      "image/png": "[encoded data removed]",
      "text/plain": [
       "<matplotlib.figure.Figure at 0x7f93b3123950>"
      ]
     },
     "metadata": {},
     "output_type": "display_data"
    },
    {
     "name": "stdout",
     "output_type": "stream",
     "text": [
      "# positive train = 3073\n",
      "# negative train = 35579\n",
      "('MD585', 238)\n",
      "('MD585', 247)\n",
      "('MD589', 200)\n",
      "('MD589', 260)\n",
      "('MD589', 222)\n",
      "('MD589', 230)\n",
      "('MD589', 240)\n",
      "('MD589', 245)\n",
      "('MD585', 235)\n",
      "('MD585', 224)\n",
      "('MD585', 221)\n",
      "('MD585', 234)\n",
      "('MD589', 270)\n",
      "('MD585', 211)\n",
      "('MD589', 204)\n",
      "('MD589', 268)\n",
      "('MD585', 196)\n",
      "('MD585', 209)\n",
      "('MD585', 206)\n",
      "('MD589', 223)\n",
      "# positive test = 1494\n",
      "# negative test = 17654\n",
      "('MD594', 216)\n",
      "('MD594', 237)\n",
      "('MD594', 246)\n",
      "('MD594', 250)\n",
      "('MD594', 206)\n",
      "('MD594', 199)\n",
      "('MD594', 230)\n",
      "('MD594', 202)\n",
      "('MD594', 262)\n",
      "('MD594', 254)\n",
      "n_train 1000\n",
      "Trial 0\n",
      "Training: 1000 positive, 1000 negative\n",
      "Test: 1000 positive, 1000 negative\n"
     ]
    },
    {
     "name": "stderr",
     "output_type": "stream",
     "text": [
      "Fitting classifier: 0.52 seconds\n"
     ]
    },
    {
     "name": "stdout",
     "output_type": "stream",
     "text": [
      "Trial 1\n",
      "Training: 1000 positive, 1000 negative\n",
      "Test: 1000 positive, 1000 negative\n"
     ]
    },
    {
     "name": "stderr",
     "output_type": "stream",
     "text": [
      "Fitting classifier: 0.46 seconds\n"
     ]
    },
    {
     "name": "stdout",
     "output_type": "stream",
     "text": [
      "Trial 2\n",
      "Training: 1000 positive, 1000 negative\n",
      "Test: 1000 positive, 1000 negative\n"
     ]
    },
    {
     "name": "stderr",
     "output_type": "stream",
     "text": [
      "Fitting classifier: 0.45 seconds\n"
     ]
    },
    {
     "name": "stdout",
     "output_type": "stream",
     "text": [
      "n_train 5000\n",
      "Trial 0\n",
      "Training: 3073 positive, 3073 negative\n",
      "Test: 1000 positive, 1000 negative\n"
     ]
    },
    {
     "name": "stderr",
     "output_type": "stream",
     "text": [
      "Fitting classifier: 1.87 seconds\n"
     ]
    },
    {
     "name": "stdout",
     "output_type": "stream",
     "text": [
      "Trial 1\n",
      "Training: 3073 positive, 3073 negative\n",
      "Test: 1000 positive, 1000 negative\n"
     ]
    },
    {
     "name": "stderr",
     "output_type": "stream",
     "text": [
      "Fitting classifier: 1.91 seconds\n"
     ]
    },
    {
     "name": "stdout",
     "output_type": "stream",
     "text": [
      "Trial 2\n",
      "Training: 3073 positive, 3073 negative\n",
      "Test: 1000 positive, 1000 negative\n"
     ]
    },
    {
     "name": "stderr",
     "output_type": "stream",
     "text": [
      "Fitting classifier: 1.99 seconds\n"
     ]
    },
    {
     "name": "stdout",
     "output_type": "stream",
     "text": [
      "n_train 15000\n",
      "Trial 0\n",
      "Training: 3073 positive, 3073 negative\n",
      "Test: 1000 positive, 1000 negative\n"
     ]
    },
    {
     "name": "stderr",
     "output_type": "stream",
     "text": [
      "Fitting classifier: 1.94 seconds\n"
     ]
    },
    {
     "name": "stdout",
     "output_type": "stream",
     "text": [
      "Trial 1\n",
      "Training: 3073 positive, 3073 negative\n",
      "Test: 1000 positive, 1000 negative\n"
     ]
    },
    {
     "name": "stderr",
     "output_type": "stream",
     "text": [
      "Fitting classifier: 1.97 seconds\n"
     ]
    },
    {
     "name": "stdout",
     "output_type": "stream",
     "text": [
      "Trial 2\n",
      "Training: 3073 positive, 3073 negative\n",
      "Test: 1000 positive, 1000 negative\n"
     ]
    },
    {
     "name": "stderr",
     "output_type": "stream",
     "text": [
      "Fitting classifier: 2.00 seconds\n"
     ]
    },
    {
     "data": {
      "image/png": "[encoded data removed]",
      "text/plain": [
       "<matplotlib.figure.Figure at 0x7f93b50ce650>"
      ]
     },
     "metadata": {},
     "output_type": "display_data"
    },
    {
     "data": {
      "image/png": "[encoded data removed]",
      "text/plain": [
       "<matplotlib.figure.Figure at 0x7f93b831e710>"
      ]
     },
     "metadata": {},
     "output_type": "display_data"
    },
    {
     "data": {
      "image/png": "[encoded data removed]",
      "text/plain": [
       "<matplotlib.figure.Figure at 0x7f93b80d60d0>"
      ]
     },
     "metadata": {},
     "output_type": "display_data"
    },
    {
     "name": "stdout",
     "output_type": "stream",
     "text": [
      "# positive train = 21430\n",
      "# negative train = 55080\n",
      "('MD585', 218)\n"
     ]
    },
    {
     "name": "stderr",
     "output_type": "stream",
     "text": [
      "Feature for (MD585,218,(3178,448)) is not in pool. Re-compute.\n",
      "Feature for (MD585,218,(3243,448)) is not in pool. Re-compute.\n",
      "Feature for (MD585,218,(3308,448)) is not in pool. Re-compute.\n",
      "Feature for (MD585,218,(3373,448)) is not in pool. Re-compute.\n",
      "Feature for (MD585,218,(3438,448)) is not in pool. Re-compute.\n",
      "Feature for (MD585,218,(3503,448)) is not in pool. Re-compute.\n",
      "Feature for (MD585,218,(3568,448)) is not in pool. Re-compute.\n",
      "Feature for (MD585,218,(3633,448)) is not in pool. Re-compute.\n",
      "Feature for (MD585,218,(3698,448)) is not in pool. Re-compute.\n",
      "Feature for (MD585,218,(3763,448)) is not in pool. Re-compute.\n",
      "Feature for (MD585,218,(3828,448)) is not in pool. Re-compute.\n",
      "Feature for (MD585,218,(3893,448)) is not in pool. Re-compute.\n",
      "Feature for (MD585,218,(3958,448)) is not in pool. Re-compute.\n",
      "Feature for (MD585,218,(4023,448)) is not in pool. Re-compute.\n",
      "Feature for (MD585,218,(4088,448)) is not in pool. Re-compute.\n",
      "Feature for (MD585,218,(4153,448)) is not in pool. Re-compute.\n",
      "Feature for (MD585,218,(4218,448)) is not in pool. Re-compute.\n",
      "Feature for (MD585,218,(4283,448)) is not in pool. Re-compute.\n",
      "Feature for (MD585,218,(4348,448)) is not in pool. Re-compute.\n",
      "Feature for (MD585,218,(4413,448)) is not in pool. Re-compute.\n"
     ]
    },
    {
     "name": "stdout",
     "output_type": "stream",
     "text": [
      "('MD585', 204)\n"
     ]
    },
    {
     "name": "stderr",
     "output_type": "stream",
     "text": [
      "Feature for (MD585,204,(3633,448)) is not in pool. Re-compute.\n",
      "Feature for (MD585,204,(3698,448)) is not in pool. Re-compute.\n",
      "Feature for (MD585,204,(3763,448)) is not in pool. Re-compute.\n",
      "Feature for (MD585,204,(3828,448)) is not in pool. Re-compute.\n",
      "Feature for (MD585,204,(3893,448)) is not in pool. Re-compute.\n",
      "Feature for (MD585,204,(3958,448)) is not in pool. Re-compute.\n",
      "Feature for (MD585,204,(4023,448)) is not in pool. Re-compute.\n",
      "Feature for (MD585,204,(4088,448)) is not in pool. Re-compute.\n",
      "Feature for (MD585,204,(4153,448)) is not in pool. Re-compute.\n",
      "Feature for (MD585,204,(4218,448)) is not in pool. Re-compute.\n",
      "Feature for (MD585,204,(4283,448)) is not in pool. Re-compute.\n",
      "Feature for (MD585,204,(4348,448)) is not in pool. Re-compute.\n",
      "Feature for (MD585,204,(4413,448)) is not in pool. Re-compute.\n",
      "Feature for (MD585,204,(4478,448)) is not in pool. Re-compute.\n",
      "Feature for (MD585,204,(4543,448)) is not in pool. Re-compute.\n",
      "Feature for (MD585,204,(4608,448)) is not in pool. Re-compute.\n",
      "Feature for (MD585,204,(4673,448)) is not in pool. Re-compute.\n",
      "Feature for (MD585,204,(4738,448)) is not in pool. Re-compute.\n",
      "Feature for (MD585,204,(4803,448)) is not in pool. Re-compute.\n",
      "Feature for (MD585,204,(4868,448)) is not in pool. Re-compute.\n",
      "Feature for (MD585,204,(4933,448)) is not in pool. Re-compute.\n",
      "Feature for (MD585,204,(4998,448)) is not in pool. Re-compute.\n",
      "Feature for (MD585,204,(5063,448)) is not in pool. Re-compute.\n",
      "Feature for (MD585,204,(5128,448)) is not in pool. Re-compute.\n",
      "Feature for (MD585,204,(5193,448)) is not in pool. Re-compute.\n",
      "Feature for (MD585,204,(5258,448)) is not in pool. Re-compute.\n",
      "Feature for (MD585,204,(5713,448)) is not in pool. Re-compute.\n"
     ]
    },
    {
     "name": "stdout",
     "output_type": "stream",
     "text": [
      "('MD589', 189)\n"
     ]
    },
    {
     "name": "stderr",
     "output_type": "stream",
     "text": [
      "Feature for (MD589,189,(4023,448)) is not in pool. Re-compute.\n",
      "Feature for (MD589,189,(4088,448)) is not in pool. Re-compute.\n",
      "Feature for (MD589,189,(4153,448)) is not in pool. Re-compute.\n",
      "Feature for (MD589,189,(4218,448)) is not in pool. Re-compute.\n",
      "Feature for (MD589,189,(4283,448)) is not in pool. Re-compute.\n",
      "Feature for (MD589,189,(4348,448)) is not in pool. Re-compute.\n",
      "Feature for (MD589,189,(4413,448)) is not in pool. Re-compute.\n",
      "Feature for (MD589,189,(4478,448)) is not in pool. Re-compute.\n",
      "Feature for (MD589,189,(4543,448)) is not in pool. Re-compute.\n",
      "Feature for (MD589,189,(4608,448)) is not in pool. Re-compute.\n",
      "Feature for (MD589,189,(4673,448)) is not in pool. Re-compute.\n",
      "Feature for (MD589,189,(4738,448)) is not in pool. Re-compute.\n",
      "Feature for (MD589,189,(4803,448)) is not in pool. Re-compute.\n",
      "Feature for (MD589,189,(4868,448)) is not in pool. Re-compute.\n",
      "Feature for (MD589,189,(4933,448)) is not in pool. Re-compute.\n",
      "Feature for (MD589,189,(4998,448)) is not in pool. Re-compute.\n",
      "Feature for (MD589,189,(5063,448)) is not in pool. Re-compute.\n",
      "Feature for (MD589,189,(5128,448)) is not in pool. Re-compute.\n",
      "Feature for (MD589,189,(5193,448)) is not in pool. Re-compute.\n",
      "Feature for (MD589,189,(5258,448)) is not in pool. Re-compute.\n",
      "Feature for (MD589,189,(5323,448)) is not in pool. Re-compute.\n",
      "Feature for (MD589,189,(5388,448)) is not in pool. Re-compute.\n",
      "Feature for (MD589,189,(5453,448)) is not in pool. Re-compute.\n",
      "Feature for (MD589,189,(5518,448)) is not in pool. Re-compute.\n",
      "Feature for (MD589,189,(5583,448)) is not in pool. Re-compute.\n",
      "Feature for (MD589,189,(5648,448)) is not in pool. Re-compute.\n",
      "Feature for (MD589,189,(5713,448)) is not in pool. Re-compute.\n",
      "Feature for (MD589,189,(5778,448)) is not in pool. Re-compute.\n",
      "Feature for (MD589,189,(5843,448)) is not in pool. Re-compute.\n",
      "Feature for (MD589,189,(5908,448)) is not in pool. Re-compute.\n",
      "Feature for (MD589,189,(5973,448)) is not in pool. Re-compute.\n",
      "Feature for (MD589,189,(6038,448)) is not in pool. Re-compute.\n",
      "Feature for (MD589,189,(6103,448)) is not in pool. Re-compute.\n",
      "Feature for (MD589,189,(6168,448)) is not in pool. Re-compute.\n",
      "Feature for (MD589,189,(6233,448)) is not in pool. Re-compute.\n",
      "Feature for (MD589,189,(6298,448)) is not in pool. Re-compute.\n",
      "Feature for (MD589,189,(6363,448)) is not in pool. Re-compute.\n",
      "Feature for (MD589,189,(6428,448)) is not in pool. Re-compute.\n",
      "Feature for (MD589,189,(6493,448)) is not in pool. Re-compute.\n"
     ]
    },
    {
     "name": "stdout",
     "output_type": "stream",
     "text": [
      "('MD585', 278)\n",
      "('MD589', 206)\n"
     ]
    },
    {
     "name": "stderr",
     "output_type": "stream",
     "text": [
      "Feature for (MD589,206,(3828,448)) is not in pool. Re-compute.\n",
      "Feature for (MD589,206,(3893,448)) is not in pool. Re-compute.\n",
      "Feature for (MD589,206,(3958,448)) is not in pool. Re-compute.\n",
      "Feature for (MD589,206,(4023,448)) is not in pool. Re-compute.\n",
      "Feature for (MD589,206,(4088,448)) is not in pool. Re-compute.\n",
      "Feature for (MD589,206,(4153,448)) is not in pool. Re-compute.\n",
      "Feature for (MD589,206,(4218,448)) is not in pool. Re-compute.\n",
      "Feature for (MD589,206,(4283,448)) is not in pool. Re-compute.\n",
      "Feature for (MD589,206,(4348,448)) is not in pool. Re-compute.\n",
      "Feature for (MD589,206,(4413,448)) is not in pool. Re-compute.\n",
      "Feature for (MD589,206,(4478,448)) is not in pool. Re-compute.\n",
      "Feature for (MD589,206,(4543,448)) is not in pool. Re-compute.\n",
      "Feature for (MD589,206,(4608,448)) is not in pool. Re-compute.\n",
      "Feature for (MD589,206,(4673,448)) is not in pool. Re-compute.\n",
      "Feature for (MD589,206,(4738,448)) is not in pool. Re-compute.\n",
      "Feature for (MD589,206,(4803,448)) is not in pool. Re-compute.\n",
      "Feature for (MD589,206,(4868,448)) is not in pool. Re-compute.\n",
      "Feature for (MD589,206,(4933,448)) is not in pool. Re-compute.\n",
      "Feature for (MD589,206,(4998,448)) is not in pool. Re-compute.\n",
      "Feature for (MD589,206,(5063,448)) is not in pool. Re-compute.\n",
      "Feature for (MD589,206,(5128,448)) is not in pool. Re-compute.\n"
     ]
    },
    {
     "name": "stdout",
     "output_type": "stream",
     "text": [
      "('MD585', 170)\n",
      "('MD585', 149)\n",
      "('MD589', 273)\n"
     ]
    },
    {
     "name": "stderr",
     "output_type": "stream",
     "text": [
      "Feature for (MD589,273,(4673,448)) is not in pool. Re-compute.\n",
      "Feature for (MD589,273,(4738,448)) is not in pool. Re-compute.\n",
      "Feature for (MD589,273,(4803,448)) is not in pool. Re-compute.\n",
      "Feature for (MD589,273,(4868,448)) is not in pool. Re-compute.\n",
      "Feature for (MD589,273,(4933,448)) is not in pool. Re-compute.\n",
      "Feature for (MD589,273,(4998,448)) is not in pool. Re-compute.\n",
      "Feature for (MD589,273,(5063,448)) is not in pool. Re-compute.\n",
      "Feature for (MD589,273,(5128,448)) is not in pool. Re-compute.\n",
      "Feature for (MD589,273,(5193,448)) is not in pool. Re-compute.\n",
      "Feature for (MD589,273,(5258,448)) is not in pool. Re-compute.\n",
      "Feature for (MD589,273,(5323,448)) is not in pool. Re-compute.\n",
      "Feature for (MD589,273,(5388,448)) is not in pool. Re-compute.\n",
      "Feature for (MD589,273,(5453,448)) is not in pool. Re-compute.\n",
      "Feature for (MD589,273,(5518,448)) is not in pool. Re-compute.\n",
      "Feature for (MD589,273,(5583,448)) is not in pool. Re-compute.\n",
      "Feature for (MD589,273,(5648,448)) is not in pool. Re-compute.\n",
      "Feature for (MD589,273,(5713,448)) is not in pool. Re-compute.\n",
      "Feature for (MD589,273,(5778,448)) is not in pool. Re-compute.\n",
      "Feature for (MD589,273,(5843,448)) is not in pool. Re-compute.\n",
      "Feature for (MD589,273,(5908,448)) is not in pool. Re-compute.\n",
      "Feature for (MD589,273,(5973,448)) is not in pool. Re-compute.\n",
      "Feature for (MD589,273,(6038,448)) is not in pool. Re-compute.\n",
      "Feature for (MD589,273,(6103,448)) is not in pool. Re-compute.\n",
      "Feature for (MD589,273,(6168,448)) is not in pool. Re-compute.\n",
      "Feature for (MD589,273,(6233,448)) is not in pool. Re-compute.\n"
     ]
    },
    {
     "name": "stdout",
     "output_type": "stream",
     "text": [
      "('MD589', 238)\n"
     ]
    },
    {
     "name": "stderr",
     "output_type": "stream",
     "text": [
      "Feature for (MD589,238,(3763,448)) is not in pool. Re-compute.\n",
      "Feature for (MD589,238,(3828,448)) is not in pool. Re-compute.\n",
      "Feature for (MD589,238,(3893,448)) is not in pool. Re-compute.\n",
      "Feature for (MD589,238,(3958,448)) is not in pool. Re-compute.\n",
      "Feature for (MD589,238,(4023,448)) is not in pool. Re-compute.\n",
      "Feature for (MD589,238,(4088,448)) is not in pool. Re-compute.\n",
      "Feature for (MD589,238,(4153,448)) is not in pool. Re-compute.\n",
      "Feature for (MD589,238,(4218,448)) is not in pool. Re-compute.\n",
      "Feature for (MD589,238,(4283,448)) is not in pool. Re-compute.\n",
      "Feature for (MD589,238,(4348,448)) is not in pool. Re-compute.\n",
      "Feature for (MD589,238,(4413,448)) is not in pool. Re-compute.\n",
      "Feature for (MD589,238,(4478,448)) is not in pool. Re-compute.\n",
      "Feature for (MD589,238,(4543,448)) is not in pool. Re-compute.\n",
      "Feature for (MD589,238,(4608,448)) is not in pool. Re-compute.\n",
      "Feature for (MD589,238,(4673,448)) is not in pool. Re-compute.\n",
      "Feature for (MD589,238,(4738,448)) is not in pool. Re-compute.\n",
      "Feature for (MD589,238,(4803,448)) is not in pool. Re-compute.\n",
      "Feature for (MD589,238,(4868,448)) is not in pool. Re-compute.\n",
      "Feature for (MD589,238,(4933,448)) is not in pool. Re-compute.\n",
      "Feature for (MD589,238,(4998,448)) is not in pool. Re-compute.\n",
      "Feature for (MD589,238,(5063,448)) is not in pool. Re-compute.\n",
      "Feature for (MD589,238,(5128,448)) is not in pool. Re-compute.\n",
      "Feature for (MD589,238,(5193,448)) is not in pool. Re-compute.\n",
      "Feature for (MD589,238,(5258,448)) is not in pool. Re-compute.\n",
      "Feature for (MD589,238,(5323,448)) is not in pool. Re-compute.\n",
      "Feature for (MD589,238,(5388,448)) is not in pool. Re-compute.\n",
      "Feature for (MD589,238,(5453,448)) is not in pool. Re-compute.\n",
      "Feature for (MD589,238,(5518,448)) is not in pool. Re-compute.\n",
      "Feature for (MD589,238,(5583,448)) is not in pool. Re-compute.\n",
      "Feature for (MD589,238,(5648,448)) is not in pool. Re-compute.\n",
      "Feature for (MD589,238,(5713,448)) is not in pool. Re-compute.\n",
      "Feature for (MD589,238,(5778,448)) is not in pool. Re-compute.\n",
      "Feature for (MD589,238,(5843,448)) is not in pool. Re-compute.\n",
      "Feature for (MD589,238,(5908,448)) is not in pool. Re-compute.\n",
      "Feature for (MD589,238,(5973,448)) is not in pool. Re-compute.\n",
      "Feature for (MD589,238,(6038,448)) is not in pool. Re-compute.\n",
      "Feature for (MD589,238,(6103,448)) is not in pool. Re-compute.\n",
      "Feature for (MD589,238,(6168,448)) is not in pool. Re-compute.\n",
      "Feature for (MD589,238,(6233,448)) is not in pool. Re-compute.\n",
      "Feature for (MD589,238,(6298,448)) is not in pool. Re-compute.\n",
      "Feature for (MD589,238,(6363,448)) is not in pool. Re-compute.\n",
      "Feature for (MD589,238,(6428,448)) is not in pool. Re-compute.\n",
      "Feature for (MD589,238,(6493,448)) is not in pool. Re-compute.\n",
      "Feature for (MD589,238,(6558,448)) is not in pool. Re-compute.\n",
      "Feature for (MD589,238,(6623,448)) is not in pool. Re-compute.\n",
      "Feature for (MD589,238,(6688,448)) is not in pool. Re-compute.\n"
     ]
    },
    {
     "name": "stdout",
     "output_type": "stream",
     "text": [
      "('MD585', 171)\n",
      "('MD589', 164)\n"
     ]
    },
    {
     "name": "stderr",
     "output_type": "stream",
     "text": [
      "Feature for (MD589,164,(4478,448)) is not in pool. Re-compute.\n",
      "Feature for (MD589,164,(4543,448)) is not in pool. Re-compute.\n",
      "Feature for (MD589,164,(4608,448)) is not in pool. Re-compute.\n",
      "Feature for (MD589,164,(4673,448)) is not in pool. Re-compute.\n",
      "Feature for (MD589,164,(4738,448)) is not in pool. Re-compute.\n",
      "Feature for (MD589,164,(4803,448)) is not in pool. Re-compute.\n",
      "Feature for (MD589,164,(4868,448)) is not in pool. Re-compute.\n",
      "Feature for (MD589,164,(4933,448)) is not in pool. Re-compute.\n",
      "Feature for (MD589,164,(4998,448)) is not in pool. Re-compute.\n",
      "Feature for (MD589,164,(5063,448)) is not in pool. Re-compute.\n",
      "Feature for (MD589,164,(5128,448)) is not in pool. Re-compute.\n",
      "Feature for (MD589,164,(5193,448)) is not in pool. Re-compute.\n",
      "Feature for (MD589,164,(5258,448)) is not in pool. Re-compute.\n",
      "Feature for (MD589,164,(5323,448)) is not in pool. Re-compute.\n",
      "Feature for (MD589,164,(5388,448)) is not in pool. Re-compute.\n",
      "Feature for (MD589,164,(5453,448)) is not in pool. Re-compute.\n",
      "Feature for (MD589,164,(5518,448)) is not in pool. Re-compute.\n",
      "Feature for (MD589,164,(5583,448)) is not in pool. Re-compute.\n",
      "Feature for (MD589,164,(5648,448)) is not in pool. Re-compute.\n",
      "Feature for (MD589,164,(5713,448)) is not in pool. Re-compute.\n",
      "Feature for (MD589,164,(5778,448)) is not in pool. Re-compute.\n",
      "Feature for (MD589,164,(5843,448)) is not in pool. Re-compute.\n",
      "Feature for (MD589,164,(5908,448)) is not in pool. Re-compute.\n",
      "Feature for (MD589,164,(5973,448)) is not in pool. Re-compute.\n",
      "Feature for (MD589,164,(6038,448)) is not in pool. Re-compute.\n",
      "Feature for (MD589,164,(6103,448)) is not in pool. Re-compute.\n",
      "Feature for (MD589,164,(6168,448)) is not in pool. Re-compute.\n",
      "Feature for (MD589,164,(6233,448)) is not in pool. Re-compute.\n",
      "Feature for (MD589,164,(6298,448)) is not in pool. Re-compute.\n",
      "Feature for (MD589,164,(6363,448)) is not in pool. Re-compute.\n",
      "Feature for (MD589,164,(6428,448)) is not in pool. Re-compute.\n",
      "Feature for (MD589,164,(6493,448)) is not in pool. Re-compute.\n",
      "Feature for (MD589,164,(6558,448)) is not in pool. Re-compute.\n",
      "Feature for (MD589,164,(6623,448)) is not in pool. Re-compute.\n",
      "Feature for (MD589,164,(6688,448)) is not in pool. Re-compute.\n",
      "Feature for (MD589,164,(6753,448)) is not in pool. Re-compute.\n",
      "Feature for (MD589,164,(6818,448)) is not in pool. Re-compute.\n",
      "Feature for (MD589,164,(6883,448)) is not in pool. Re-compute.\n",
      "Feature for (MD589,164,(6948,448)) is not in pool. Re-compute.\n",
      "Feature for (MD589,164,(7013,448)) is not in pool. Re-compute.\n",
      "Feature for (MD589,164,(7078,448)) is not in pool. Re-compute.\n",
      "Feature for (MD589,164,(7143,448)) is not in pool. Re-compute.\n"
     ]
    },
    {
     "name": "stdout",
     "output_type": "stream",
     "text": [
      "('MD585', 138)\n",
      "('MD589', 270)\n"
     ]
    },
    {
     "name": "stderr",
     "output_type": "stream",
     "text": [
      "Feature for (MD589,270,(4543,448)) is not in pool. Re-compute.\n",
      "Feature for (MD589,270,(4608,448)) is not in pool. Re-compute.\n",
      "Feature for (MD589,270,(4673,448)) is not in pool. Re-compute.\n",
      "Feature for (MD589,270,(4738,448)) is not in pool. Re-compute.\n",
      "Feature for (MD589,270,(4803,448)) is not in pool. Re-compute.\n",
      "Feature for (MD589,270,(4868,448)) is not in pool. Re-compute.\n",
      "Feature for (MD589,270,(4933,448)) is not in pool. Re-compute.\n",
      "Feature for (MD589,270,(4998,448)) is not in pool. Re-compute.\n",
      "Feature for (MD589,270,(5063,448)) is not in pool. Re-compute.\n",
      "Feature for (MD589,270,(5128,448)) is not in pool. Re-compute.\n",
      "Feature for (MD589,270,(5193,448)) is not in pool. Re-compute.\n",
      "Feature for (MD589,270,(5258,448)) is not in pool. Re-compute.\n",
      "Feature for (MD589,270,(5323,448)) is not in pool. Re-compute.\n",
      "Feature for (MD589,270,(5388,448)) is not in pool. Re-compute.\n",
      "Feature for (MD589,270,(5453,448)) is not in pool. Re-compute.\n",
      "Feature for (MD589,270,(5518,448)) is not in pool. Re-compute.\n",
      "Feature for (MD589,270,(5583,448)) is not in pool. Re-compute.\n",
      "Feature for (MD589,270,(5648,448)) is not in pool. Re-compute.\n",
      "Feature for (MD589,270,(5713,448)) is not in pool. Re-compute.\n",
      "Feature for (MD589,270,(5778,448)) is not in pool. Re-compute.\n",
      "Feature for (MD589,270,(5843,448)) is not in pool. Re-compute.\n",
      "Feature for (MD589,270,(5908,448)) is not in pool. Re-compute.\n",
      "Feature for (MD589,270,(5973,448)) is not in pool. Re-compute.\n"
     ]
    },
    {
     "name": "stdout",
     "output_type": "stream",
     "text": [
      "('MD589', 216)\n"
     ]
    },
    {
     "name": "stderr",
     "output_type": "stream",
     "text": [
      "Feature for (MD589,216,(3763,2073)) is not in pool. Re-compute.\n",
      "Feature for (MD589,216,(3828,1943)) is not in pool. Re-compute.\n",
      "Feature for (MD589,216,(3828,2008)) is not in pool. Re-compute.\n",
      "Feature for (MD589,216,(3828,2073)) is not in pool. Re-compute.\n",
      "Feature for (MD589,216,(3893,1813)) is not in pool. Re-compute.\n",
      "Feature for (MD589,216,(3893,1878)) is not in pool. Re-compute.\n",
      "Feature for (MD589,216,(3893,1943)) is not in pool. Re-compute.\n",
      "Feature for (MD589,216,(3893,2008)) is not in pool. Re-compute.\n",
      "Feature for (MD589,216,(3958,1748)) is not in pool. Re-compute.\n",
      "Feature for (MD589,216,(3958,1813)) is not in pool. Re-compute.\n",
      "Feature for (MD589,216,(3958,1878)) is not in pool. Re-compute.\n",
      "Feature for (MD589,216,(3958,1943)) is not in pool. Re-compute.\n",
      "Feature for (MD589,216,(3698,448)) is not in pool. Re-compute.\n",
      "Feature for (MD589,216,(3763,448)) is not in pool. Re-compute.\n",
      "Feature for (MD589,216,(3828,448)) is not in pool. Re-compute.\n",
      "Feature for (MD589,216,(3893,448)) is not in pool. Re-compute.\n",
      "Feature for (MD589,216,(3958,448)) is not in pool. Re-compute.\n",
      "Feature for (MD589,216,(4023,448)) is not in pool. Re-compute.\n",
      "Feature for (MD589,216,(4088,448)) is not in pool. Re-compute.\n",
      "Feature for (MD589,216,(4153,448)) is not in pool. Re-compute.\n",
      "Feature for (MD589,216,(4218,448)) is not in pool. Re-compute.\n",
      "Feature for (MD589,216,(4283,448)) is not in pool. Re-compute.\n"
     ]
    },
    {
     "name": "stdout",
     "output_type": "stream",
     "text": [
      "('MD585', 228)\n"
     ]
    },
    {
     "name": "stderr",
     "output_type": "stream",
     "text": [
      "Feature for (MD585,228,(3503,448)) is not in pool. Re-compute.\n",
      "Feature for (MD585,228,(3568,448)) is not in pool. Re-compute.\n",
      "Feature for (MD585,228,(3633,448)) is not in pool. Re-compute.\n",
      "Feature for (MD585,228,(6883,1293)) is not in pool. Re-compute.\n",
      "Feature for (MD585,228,(7078,1163)) is not in pool. Re-compute.\n"
     ]
    },
    {
     "name": "stdout",
     "output_type": "stream",
     "text": [
      "('MD589', 143)\n",
      "('MD589', 214)\n"
     ]
    },
    {
     "name": "stderr",
     "output_type": "stream",
     "text": [
      "Feature for (MD589,214,(3763,2073)) is not in pool. Re-compute.\n",
      "Feature for (MD589,214,(3828,1943)) is not in pool. Re-compute.\n",
      "Feature for (MD589,214,(3828,2008)) is not in pool. Re-compute.\n",
      "Feature for (MD589,214,(3828,2073)) is not in pool. Re-compute.\n",
      "Feature for (MD589,214,(3893,1878)) is not in pool. Re-compute.\n",
      "Feature for (MD589,214,(3893,1943)) is not in pool. Re-compute.\n",
      "Feature for (MD589,214,(3893,2008)) is not in pool. Re-compute.\n",
      "Feature for (MD589,214,(3893,2073)) is not in pool. Re-compute.\n",
      "Feature for (MD589,214,(3958,1748)) is not in pool. Re-compute.\n",
      "Feature for (MD589,214,(3958,1813)) is not in pool. Re-compute.\n",
      "Feature for (MD589,214,(3958,1878)) is not in pool. Re-compute.\n",
      "Feature for (MD589,214,(3958,1943)) is not in pool. Re-compute.\n",
      "Feature for (MD589,214,(3958,2008)) is not in pool. Re-compute.\n",
      "Feature for (MD589,214,(4023,1683)) is not in pool. Re-compute.\n",
      "Feature for (MD589,214,(4023,1748)) is not in pool. Re-compute.\n",
      "Feature for (MD589,214,(4023,1813)) is not in pool. Re-compute.\n",
      "Feature for (MD589,214,(4023,1878)) is not in pool. Re-compute.\n",
      "Feature for (MD589,214,(4023,1943)) is not in pool. Re-compute.\n",
      "Feature for (MD589,214,(4088,1553)) is not in pool. Re-compute.\n",
      "Feature for (MD589,214,(4088,1618)) is not in pool. Re-compute.\n",
      "Feature for (MD589,214,(4088,1683)) is not in pool. Re-compute.\n",
      "Feature for (MD589,214,(4088,1748)) is not in pool. Re-compute.\n",
      "Feature for (MD589,214,(4088,1813)) is not in pool. Re-compute.\n",
      "Feature for (MD589,214,(4088,1878)) is not in pool. Re-compute.\n",
      "Feature for (MD589,214,(3698,448)) is not in pool. Re-compute.\n",
      "Feature for (MD589,214,(3763,448)) is not in pool. Re-compute.\n",
      "Feature for (MD589,214,(3828,448)) is not in pool. Re-compute.\n",
      "Feature for (MD589,214,(3893,448)) is not in pool. Re-compute.\n",
      "Feature for (MD589,214,(3958,448)) is not in pool. Re-compute.\n",
      "Feature for (MD589,214,(4023,448)) is not in pool. Re-compute.\n",
      "Feature for (MD589,214,(4088,448)) is not in pool. Re-compute.\n",
      "Feature for (MD589,214,(4153,448)) is not in pool. Re-compute.\n",
      "Feature for (MD589,214,(4218,448)) is not in pool. Re-compute.\n",
      "Feature for (MD589,214,(4283,448)) is not in pool. Re-compute.\n",
      "Feature for (MD589,214,(4348,448)) is not in pool. Re-compute.\n",
      "Feature for (MD589,214,(4413,448)) is not in pool. Re-compute.\n"
     ]
    },
    {
     "name": "stdout",
     "output_type": "stream",
     "text": [
      "('MD589', 225)\n"
     ]
    },
    {
     "name": "stderr",
     "output_type": "stream",
     "text": [
      "Feature for (MD589,225,(3633,448)) is not in pool. Re-compute.\n",
      "Feature for (MD589,225,(3698,448)) is not in pool. Re-compute.\n",
      "Feature for (MD589,225,(3763,448)) is not in pool. Re-compute.\n",
      "Feature for (MD589,225,(3828,448)) is not in pool. Re-compute.\n",
      "Feature for (MD589,225,(3893,448)) is not in pool. Re-compute.\n",
      "Feature for (MD589,225,(3958,448)) is not in pool. Re-compute.\n",
      "Feature for (MD589,225,(4023,448)) is not in pool. Re-compute.\n",
      "Feature for (MD589,225,(4088,448)) is not in pool. Re-compute.\n",
      "Feature for (MD589,225,(4153,448)) is not in pool. Re-compute.\n",
      "Feature for (MD589,225,(4218,448)) is not in pool. Re-compute.\n",
      "Feature for (MD589,225,(4283,448)) is not in pool. Re-compute.\n",
      "Feature for (MD589,225,(4348,448)) is not in pool. Re-compute.\n",
      "Feature for (MD589,225,(4413,448)) is not in pool. Re-compute.\n",
      "Feature for (MD589,225,(4478,448)) is not in pool. Re-compute.\n",
      "Feature for (MD589,225,(4543,448)) is not in pool. Re-compute.\n",
      "Feature for (MD589,225,(4608,448)) is not in pool. Re-compute.\n",
      "Feature for (MD589,225,(4673,448)) is not in pool. Re-compute.\n",
      "Feature for (MD589,225,(4738,448)) is not in pool. Re-compute.\n",
      "Feature for (MD589,225,(4803,448)) is not in pool. Re-compute.\n",
      "Feature for (MD589,225,(4868,448)) is not in pool. Re-compute.\n",
      "Feature for (MD589,225,(4933,448)) is not in pool. Re-compute.\n",
      "Feature for (MD589,225,(4998,448)) is not in pool. Re-compute.\n",
      "Feature for (MD589,225,(5063,448)) is not in pool. Re-compute.\n",
      "Feature for (MD589,225,(5388,448)) is not in pool. Re-compute.\n",
      "Feature for (MD589,225,(5453,448)) is not in pool. Re-compute.\n",
      "Feature for (MD589,225,(5518,448)) is not in pool. Re-compute.\n",
      "Feature for (MD589,225,(5583,448)) is not in pool. Re-compute.\n",
      "Feature for (MD589,225,(5648,448)) is not in pool. Re-compute.\n",
      "Feature for (MD589,225,(5713,448)) is not in pool. Re-compute.\n",
      "Feature for (MD589,225,(5778,448)) is not in pool. Re-compute.\n",
      "Feature for (MD589,225,(5843,448)) is not in pool. Re-compute.\n",
      "Feature for (MD589,225,(5908,448)) is not in pool. Re-compute.\n",
      "Feature for (MD589,225,(5973,448)) is not in pool. Re-compute.\n",
      "Feature for (MD589,225,(6038,448)) is not in pool. Re-compute.\n",
      "Feature for (MD589,225,(6103,448)) is not in pool. Re-compute.\n",
      "Feature for (MD589,225,(6168,448)) is not in pool. Re-compute.\n",
      "Feature for (MD589,225,(6233,448)) is not in pool. Re-compute.\n",
      "Feature for (MD589,225,(6298,448)) is not in pool. Re-compute.\n",
      "Feature for (MD589,225,(6363,448)) is not in pool. Re-compute.\n",
      "Feature for (MD589,225,(6428,448)) is not in pool. Re-compute.\n",
      "Feature for (MD589,225,(6493,448)) is not in pool. Re-compute.\n",
      "Feature for (MD589,225,(6558,448)) is not in pool. Re-compute.\n",
      "Feature for (MD589,225,(6623,448)) is not in pool. Re-compute.\n"
     ]
    },
    {
     "name": "stdout",
     "output_type": "stream",
     "text": [
      "('MD585', 274)\n",
      "('MD585', 196)\n"
     ]
    },
    {
     "name": "stderr",
     "output_type": "stream",
     "text": [
      "Feature for (MD585,196,(3698,448)) is not in pool. Re-compute.\n",
      "Feature for (MD585,196,(3763,448)) is not in pool. Re-compute.\n",
      "Feature for (MD585,196,(3828,448)) is not in pool. Re-compute.\n",
      "Feature for (MD585,196,(3893,448)) is not in pool. Re-compute.\n",
      "Feature for (MD585,196,(3958,448)) is not in pool. Re-compute.\n",
      "Feature for (MD585,196,(4023,448)) is not in pool. Re-compute.\n",
      "Feature for (MD585,196,(4088,448)) is not in pool. Re-compute.\n",
      "Feature for (MD585,196,(4153,448)) is not in pool. Re-compute.\n",
      "Feature for (MD585,196,(4218,448)) is not in pool. Re-compute.\n",
      "Feature for (MD585,196,(4283,448)) is not in pool. Re-compute.\n",
      "Feature for (MD585,196,(4348,448)) is not in pool. Re-compute.\n",
      "Feature for (MD585,196,(4413,448)) is not in pool. Re-compute.\n",
      "Feature for (MD585,196,(4478,448)) is not in pool. Re-compute.\n",
      "Feature for (MD585,196,(4543,448)) is not in pool. Re-compute.\n",
      "Feature for (MD585,196,(4608,448)) is not in pool. Re-compute.\n",
      "Feature for (MD585,196,(4673,448)) is not in pool. Re-compute.\n",
      "Feature for (MD585,196,(4738,448)) is not in pool. Re-compute.\n",
      "Feature for (MD585,196,(4803,448)) is not in pool. Re-compute.\n",
      "Feature for (MD585,196,(4868,448)) is not in pool. Re-compute.\n",
      "Feature for (MD585,196,(4933,448)) is not in pool. Re-compute.\n",
      "Feature for (MD585,196,(4998,448)) is not in pool. Re-compute.\n",
      "Feature for (MD585,196,(5063,448)) is not in pool. Re-compute.\n",
      "Feature for (MD585,196,(5128,448)) is not in pool. Re-compute.\n",
      "Feature for (MD585,196,(5193,448)) is not in pool. Re-compute.\n",
      "Feature for (MD585,196,(5258,448)) is not in pool. Re-compute.\n",
      "Feature for (MD585,196,(5323,448)) is not in pool. Re-compute.\n",
      "Feature for (MD585,196,(5388,448)) is not in pool. Re-compute.\n",
      "Feature for (MD585,196,(5453,448)) is not in pool. Re-compute.\n",
      "Feature for (MD585,196,(5518,448)) is not in pool. Re-compute.\n"
     ]
    },
    {
     "name": "stdout",
     "output_type": "stream",
     "text": [
      "# positive test = 9403\n",
      "# negative test = 27921\n",
      "('MD594', 244)\n"
     ]
    },
    {
     "name": "stderr",
     "output_type": "stream",
     "text": [
      "Feature for (MD594,244,(448,3373)) is not in pool. Re-compute.\n",
      "Feature for (MD594,244,(448,3438)) is not in pool. Re-compute.\n",
      "Feature for (MD594,244,(2723,448)) is not in pool. Re-compute.\n",
      "Feature for (MD594,244,(2788,448)) is not in pool. Re-compute.\n",
      "Feature for (MD594,244,(2853,448)) is not in pool. Re-compute.\n",
      "Feature for (MD594,244,(2918,448)) is not in pool. Re-compute.\n",
      "Feature for (MD594,244,(2983,448)) is not in pool. Re-compute.\n",
      "Feature for (MD594,244,(3048,448)) is not in pool. Re-compute.\n",
      "Feature for (MD594,244,(3113,448)) is not in pool. Re-compute.\n",
      "Feature for (MD594,244,(3178,448)) is not in pool. Re-compute.\n",
      "Feature for (MD594,244,(3243,448)) is not in pool. Re-compute.\n",
      "Feature for (MD594,244,(3308,448)) is not in pool. Re-compute.\n",
      "Feature for (MD594,244,(3373,448)) is not in pool. Re-compute.\n",
      "Feature for (MD594,244,(3438,448)) is not in pool. Re-compute.\n",
      "Feature for (MD594,244,(3503,448)) is not in pool. Re-compute.\n",
      "Feature for (MD594,244,(3568,448)) is not in pool. Re-compute.\n",
      "Feature for (MD594,244,(3633,448)) is not in pool. Re-compute.\n"
     ]
    },
    {
     "name": "stdout",
     "output_type": "stream",
     "text": [
      "('MD594', 214)\n"
     ]
    },
    {
     "name": "stderr",
     "output_type": "stream",
     "text": [
      "Feature for (MD594,214,(3113,448)) is not in pool. Re-compute.\n",
      "Feature for (MD594,214,(3178,448)) is not in pool. Re-compute.\n",
      "Feature for (MD594,214,(3243,448)) is not in pool. Re-compute.\n",
      "Feature for (MD594,214,(3308,448)) is not in pool. Re-compute.\n",
      "Feature for (MD594,214,(3373,448)) is not in pool. Re-compute.\n",
      "Feature for (MD594,214,(3438,448)) is not in pool. Re-compute.\n",
      "Feature for (MD594,214,(3503,448)) is not in pool. Re-compute.\n",
      "Feature for (MD594,214,(3568,448)) is not in pool. Re-compute.\n",
      "Feature for (MD594,214,(3633,448)) is not in pool. Re-compute.\n",
      "Feature for (MD594,214,(3698,448)) is not in pool. Re-compute.\n",
      "Feature for (MD594,214,(3763,448)) is not in pool. Re-compute.\n",
      "Feature for (MD594,214,(3828,448)) is not in pool. Re-compute.\n",
      "Feature for (MD594,214,(3893,448)) is not in pool. Re-compute.\n",
      "Feature for (MD594,214,(3958,448)) is not in pool. Re-compute.\n",
      "Feature for (MD594,214,(4023,448)) is not in pool. Re-compute.\n",
      "Feature for (MD594,214,(4088,448)) is not in pool. Re-compute.\n",
      "Feature for (MD594,214,(4153,448)) is not in pool. Re-compute.\n",
      "Feature for (MD594,214,(4218,448)) is not in pool. Re-compute.\n",
      "Feature for (MD594,214,(4283,448)) is not in pool. Re-compute.\n",
      "Feature for (MD594,214,(4348,448)) is not in pool. Re-compute.\n",
      "Feature for (MD594,214,(4413,448)) is not in pool. Re-compute.\n",
      "Feature for (MD594,214,(4478,448)) is not in pool. Re-compute.\n",
      "Feature for (MD594,214,(4543,448)) is not in pool. Re-compute.\n",
      "Feature for (MD594,214,(4608,448)) is not in pool. Re-compute.\n",
      "Feature for (MD594,214,(4673,448)) is not in pool. Re-compute.\n",
      "Feature for (MD594,214,(4738,448)) is not in pool. Re-compute.\n",
      "Feature for (MD594,214,(4803,448)) is not in pool. Re-compute.\n",
      "Feature for (MD594,214,(4868,448)) is not in pool. Re-compute.\n",
      "Feature for (MD594,214,(4933,448)) is not in pool. Re-compute.\n",
      "Feature for (MD594,214,(4998,448)) is not in pool. Re-compute.\n"
     ]
    },
    {
     "name": "stdout",
     "output_type": "stream",
     "text": [
      "('MD594', 172)\n",
      "('MD594', 150)\n",
      "('MD594', 229)\n"
     ]
    },
    {
     "name": "stderr",
     "output_type": "stream",
     "text": [
      "Feature for (MD594,229,(5453,448)) is not in pool. Re-compute.\n",
      "Feature for (MD594,229,(5518,448)) is not in pool. Re-compute.\n",
      "Feature for (MD594,229,(5583,448)) is not in pool. Re-compute.\n",
      "Feature for (MD594,229,(5648,448)) is not in pool. Re-compute.\n"
     ]
    },
    {
     "name": "stdout",
     "output_type": "stream",
     "text": [
      "('MD594', 302)\n",
      "('MD594', 260)\n"
     ]
    },
    {
     "name": "stderr",
     "output_type": "stream",
     "text": [
      "Feature for (MD594,260,(3308,448)) is not in pool. Re-compute.\n",
      "Feature for (MD594,260,(3373,448)) is not in pool. Re-compute.\n",
      "Feature for (MD594,260,(3438,448)) is not in pool. Re-compute.\n",
      "Feature for (MD594,260,(3503,448)) is not in pool. Re-compute.\n",
      "Feature for (MD594,260,(3568,448)) is not in pool. Re-compute.\n",
      "Feature for (MD594,260,(3633,448)) is not in pool. Re-compute.\n",
      "Feature for (MD594,260,(3698,448)) is not in pool. Re-compute.\n",
      "Feature for (MD594,260,(3763,448)) is not in pool. Re-compute.\n",
      "Feature for (MD594,260,(3828,448)) is not in pool. Re-compute.\n",
      "Feature for (MD594,260,(3893,448)) is not in pool. Re-compute.\n",
      "Feature for (MD594,260,(3958,448)) is not in pool. Re-compute.\n",
      "Feature for (MD594,260,(4023,448)) is not in pool. Re-compute.\n",
      "Feature for (MD594,260,(4088,448)) is not in pool. Re-compute.\n",
      "Feature for (MD594,260,(4153,448)) is not in pool. Re-compute.\n",
      "Feature for (MD594,260,(4218,448)) is not in pool. Re-compute.\n"
     ]
    },
    {
     "name": "stdout",
     "output_type": "stream",
     "text": [
      "('MD594', 201)\n"
     ]
    },
    {
     "name": "stderr",
     "output_type": "stream",
     "text": [
      "Feature for (MD594,201,(2658,448)) is not in pool. Re-compute.\n",
      "Feature for (MD594,201,(2723,448)) is not in pool. Re-compute.\n",
      "Feature for (MD594,201,(2788,448)) is not in pool. Re-compute.\n",
      "Feature for (MD594,201,(2853,448)) is not in pool. Re-compute.\n",
      "Feature for (MD594,201,(2918,448)) is not in pool. Re-compute.\n",
      "Feature for (MD594,201,(2983,448)) is not in pool. Re-compute.\n",
      "Feature for (MD594,201,(3048,448)) is not in pool. Re-compute.\n",
      "Feature for (MD594,201,(3113,448)) is not in pool. Re-compute.\n",
      "Feature for (MD594,201,(3178,448)) is not in pool. Re-compute.\n",
      "Feature for (MD594,201,(3243,448)) is not in pool. Re-compute.\n",
      "Feature for (MD594,201,(3308,448)) is not in pool. Re-compute.\n",
      "Feature for (MD594,201,(3373,448)) is not in pool. Re-compute.\n",
      "Feature for (MD594,201,(3438,448)) is not in pool. Re-compute.\n",
      "Feature for (MD594,201,(3503,448)) is not in pool. Re-compute.\n",
      "Feature for (MD594,201,(3568,448)) is not in pool. Re-compute.\n",
      "Feature for (MD594,201,(3633,448)) is not in pool. Re-compute.\n",
      "Feature for (MD594,201,(3698,448)) is not in pool. Re-compute.\n",
      "Feature for (MD594,201,(3763,448)) is not in pool. Re-compute.\n",
      "Feature for (MD594,201,(3828,448)) is not in pool. Re-compute.\n",
      "Feature for (MD594,201,(3893,448)) is not in pool. Re-compute.\n",
      "Feature for (MD594,201,(3958,448)) is not in pool. Re-compute.\n",
      "Feature for (MD594,201,(4023,448)) is not in pool. Re-compute.\n",
      "Feature for (MD594,201,(4088,448)) is not in pool. Re-compute.\n",
      "Feature for (MD594,201,(4153,448)) is not in pool. Re-compute.\n",
      "Feature for (MD594,201,(4218,448)) is not in pool. Re-compute.\n",
      "Feature for (MD594,201,(4283,448)) is not in pool. Re-compute.\n",
      "Feature for (MD594,201,(4348,448)) is not in pool. Re-compute.\n",
      "Feature for (MD594,201,(4413,448)) is not in pool. Re-compute.\n",
      "Feature for (MD594,201,(4478,448)) is not in pool. Re-compute.\n",
      "Feature for (MD594,201,(4543,448)) is not in pool. Re-compute.\n",
      "Feature for (MD594,201,(4608,448)) is not in pool. Re-compute.\n",
      "Feature for (MD594,201,(4673,448)) is not in pool. Re-compute.\n",
      "Feature for (MD594,201,(4738,448)) is not in pool. Re-compute.\n",
      "Feature for (MD594,201,(4803,448)) is not in pool. Re-compute.\n",
      "Feature for (MD594,201,(4868,448)) is not in pool. Re-compute.\n",
      "Feature for (MD594,201,(4933,448)) is not in pool. Re-compute.\n",
      "Feature for (MD594,201,(4998,448)) is not in pool. Re-compute.\n",
      "Feature for (MD594,201,(5063,448)) is not in pool. Re-compute.\n",
      "Feature for (MD594,201,(5128,448)) is not in pool. Re-compute.\n",
      "Feature for (MD594,201,(5193,448)) is not in pool. Re-compute.\n"
     ]
    },
    {
     "name": "stdout",
     "output_type": "stream",
     "text": [
      "('MD594', 199)\n"
     ]
    },
    {
     "name": "stderr",
     "output_type": "stream",
     "text": [
      "Feature for (MD594,199,(2723,448)) is not in pool. Re-compute.\n",
      "Feature for (MD594,199,(2788,448)) is not in pool. Re-compute.\n",
      "Feature for (MD594,199,(2853,448)) is not in pool. Re-compute.\n",
      "Feature for (MD594,199,(2918,448)) is not in pool. Re-compute.\n",
      "Feature for (MD594,199,(2983,448)) is not in pool. Re-compute.\n",
      "Feature for (MD594,199,(3048,448)) is not in pool. Re-compute.\n",
      "Feature for (MD594,199,(3113,448)) is not in pool. Re-compute.\n",
      "Feature for (MD594,199,(3178,448)) is not in pool. Re-compute.\n",
      "Feature for (MD594,199,(3243,448)) is not in pool. Re-compute.\n",
      "Feature for (MD594,199,(3308,448)) is not in pool. Re-compute.\n",
      "Feature for (MD594,199,(3373,448)) is not in pool. Re-compute.\n",
      "Feature for (MD594,199,(3438,448)) is not in pool. Re-compute.\n",
      "Feature for (MD594,199,(3503,448)) is not in pool. Re-compute.\n",
      "Feature for (MD594,199,(3568,448)) is not in pool. Re-compute.\n",
      "Feature for (MD594,199,(3633,448)) is not in pool. Re-compute.\n",
      "Feature for (MD594,199,(3698,448)) is not in pool. Re-compute.\n",
      "Feature for (MD594,199,(3763,448)) is not in pool. Re-compute.\n",
      "Feature for (MD594,199,(3828,448)) is not in pool. Re-compute.\n",
      "Feature for (MD594,199,(3893,448)) is not in pool. Re-compute.\n",
      "Feature for (MD594,199,(3958,448)) is not in pool. Re-compute.\n",
      "Feature for (MD594,199,(4023,448)) is not in pool. Re-compute.\n",
      "Feature for (MD594,199,(4088,448)) is not in pool. Re-compute.\n",
      "Feature for (MD594,199,(4153,448)) is not in pool. Re-compute.\n",
      "Feature for (MD594,199,(4218,448)) is not in pool. Re-compute.\n",
      "Feature for (MD594,199,(4283,448)) is not in pool. Re-compute.\n",
      "Feature for (MD594,199,(4348,448)) is not in pool. Re-compute.\n",
      "Feature for (MD594,199,(4413,448)) is not in pool. Re-compute.\n",
      "Feature for (MD594,199,(4478,448)) is not in pool. Re-compute.\n",
      "Feature for (MD594,199,(4543,448)) is not in pool. Re-compute.\n",
      "Feature for (MD594,199,(4608,448)) is not in pool. Re-compute.\n",
      "Feature for (MD594,199,(4673,448)) is not in pool. Re-compute.\n",
      "Feature for (MD594,199,(4738,448)) is not in pool. Re-compute.\n",
      "Feature for (MD594,199,(4803,448)) is not in pool. Re-compute.\n",
      "Feature for (MD594,199,(4868,448)) is not in pool. Re-compute.\n",
      "Feature for (MD594,199,(4933,448)) is not in pool. Re-compute.\n",
      "Feature for (MD594,199,(4998,448)) is not in pool. Re-compute.\n",
      "Feature for (MD594,199,(5063,448)) is not in pool. Re-compute.\n",
      "Feature for (MD594,199,(5128,448)) is not in pool. Re-compute.\n",
      "Feature for (MD594,199,(5193,448)) is not in pool. Re-compute.\n",
      "Feature for (MD594,199,(5258,448)) is not in pool. Re-compute.\n"
     ]
    },
    {
     "name": "stdout",
     "output_type": "stream",
     "text": [
      "('MD594', 300)\n",
      "n_train 1000\n",
      "Trial 0\n",
      "Training: 1000 positive, 1000 negative\n",
      "Test: 1000 positive, 1000 negative\n"
     ]
    },
    {
     "name": "stderr",
     "output_type": "stream",
     "text": [
      "Fitting classifier: 0.51 seconds\n"
     ]
    },
    {
     "name": "stdout",
     "output_type": "stream",
     "text": [
      "Trial 1\n",
      "Training: 1000 positive, 1000 negative\n",
      "Test: 1000 positive, 1000 negative\n"
     ]
    },
    {
     "name": "stderr",
     "output_type": "stream",
     "text": [
      "Fitting classifier: 0.44 seconds\n"
     ]
    },
    {
     "name": "stdout",
     "output_type": "stream",
     "text": [
      "Trial 2\n",
      "Training: 1000 positive, 1000 negative\n",
      "Test: 1000 positive, 1000 negative\n"
     ]
    },
    {
     "name": "stderr",
     "output_type": "stream",
     "text": [
      "Fitting classifier: 0.53 seconds\n"
     ]
    },
    {
     "name": "stdout",
     "output_type": "stream",
     "text": [
      "n_train 5000\n",
      "Trial 0\n",
      "Training: 5000 positive, 5000 negative\n",
      "Test: 1000 positive, 1000 negative\n"
     ]
    },
    {
     "name": "stderr",
     "output_type": "stream",
     "text": [
      "Fitting classifier: 3.30 seconds\n"
     ]
    },
    {
     "name": "stdout",
     "output_type": "stream",
     "text": [
      "Trial 1\n",
      "Training: 5000 positive, 5000 negative\n",
      "Test: 1000 positive, 1000 negative\n"
     ]
    },
    {
     "name": "stderr",
     "output_type": "stream",
     "text": [
      "Fitting classifier: 3.27 seconds\n"
     ]
    },
    {
     "name": "stdout",
     "output_type": "stream",
     "text": [
      "Trial 2\n",
      "Training: 5000 positive, 5000 negative\n",
      "Test: 1000 positive, 1000 negative\n"
     ]
    },
    {
     "name": "stderr",
     "output_type": "stream",
     "text": [
      "Fitting classifier: 3.16 seconds\n"
     ]
    },
    {
     "name": "stdout",
     "output_type": "stream",
     "text": [
      "n_train 15000\n",
      "Trial 0\n",
      "Training: 15000 positive, 15000 negative\n",
      "Test: 1000 positive, 1000 negative\n"
     ]
    },
    {
     "name": "stderr",
     "output_type": "stream",
     "text": [
      "Fitting classifier: 16.57 seconds\n"
     ]
    },
    {
     "name": "stdout",
     "output_type": "stream",
     "text": [
      "Trial 1\n",
      "Training: 15000 positive, 15000 negative\n",
      "Test: 1000 positive, 1000 negative\n"
     ]
    },
    {
     "name": "stderr",
     "output_type": "stream",
     "text": [
      "Fitting classifier: 12.68 seconds\n"
     ]
    },
    {
     "name": "stdout",
     "output_type": "stream",
     "text": [
      "Trial 2\n",
      "Training: 15000 positive, 15000 negative\n",
      "Test: 1000 positive, 1000 negative\n"
     ]
    },
    {
     "name": "stderr",
     "output_type": "stream",
     "text": [
      "Fitting classifier: 15.99 seconds\n"
     ]
    },
    {
     "data": {
      "image/png": "[encoded data removed]",
      "text/plain": [
       "<matplotlib.figure.Figure at 0x7f93b80d6d90>"
      ]
     },
     "metadata": {},
     "output_type": "display_data"
    },
    {
     "data": {
      "image/png": "[encoded data removed]",
      "text/plain": [
       "<matplotlib.figure.Figure at 0x7f93181b4d50>"
      ]
     },
     "metadata": {},
     "output_type": "display_data"
    },
    {
     "data": {
      "image/png": "[encoded data removed]",
      "text/plain": [
       "<matplotlib.figure.Figure at 0x7f93b849ddd0>"
      ]
     },
     "metadata": {},
     "output_type": "display_data"
    },
    {
     "name": "stdout",
     "output_type": "stream",
     "text": [
      "# positive train = 14353\n",
      "# negative train = 42933\n",
      "('MD589', 244)\n",
      "('MD589', 295)\n"
     ]
    },
    {
     "name": "stderr",
     "output_type": "stream",
     "text": [
      "Feature for (MD589,295,(6688,448)) is not in pool. Re-compute.\n",
      "Feature for (MD589,295,(6753,448)) is not in pool. Re-compute.\n",
      "Feature for (MD589,295,(6818,448)) is not in pool. Re-compute.\n",
      "Feature for (MD589,295,(6883,448)) is not in pool. Re-compute.\n",
      "Feature for (MD589,295,(6948,448)) is not in pool. Re-compute.\n"
     ]
    },
    {
     "name": "stdout",
     "output_type": "stream",
     "text": [
      "('MD585', 182)\n"
     ]
    },
    {
     "name": "stderr",
     "output_type": "stream",
     "text": [
      "Feature for (MD585,182,(7143,448)) is not in pool. Re-compute.\n",
      "Feature for (MD585,182,(7208,448)) is not in pool. Re-compute.\n",
      "Feature for (MD585,182,(7273,448)) is not in pool. Re-compute.\n",
      "Feature for (MD585,182,(7338,448)) is not in pool. Re-compute.\n",
      "Feature for (MD585,182,(5388,448)) is not in pool. Re-compute.\n",
      "Feature for (MD585,182,(5453,448)) is not in pool. Re-compute.\n",
      "Feature for (MD585,182,(5518,448)) is not in pool. Re-compute.\n",
      "Feature for (MD585,182,(5583,448)) is not in pool. Re-compute.\n",
      "Feature for (MD585,182,(5648,448)) is not in pool. Re-compute.\n",
      "Feature for (MD585,182,(5713,448)) is not in pool. Re-compute.\n",
      "Feature for (MD585,182,(5778,448)) is not in pool. Re-compute.\n",
      "Feature for (MD585,182,(5843,448)) is not in pool. Re-compute.\n",
      "Feature for (MD585,182,(5908,448)) is not in pool. Re-compute.\n",
      "Feature for (MD585,182,(6688,448)) is not in pool. Re-compute.\n",
      "Feature for (MD585,182,(6753,448)) is not in pool. Re-compute.\n",
      "Feature for (MD585,182,(6818,448)) is not in pool. Re-compute.\n",
      "Feature for (MD585,182,(6883,448)) is not in pool. Re-compute.\n",
      "Feature for (MD585,182,(6948,448)) is not in pool. Re-compute.\n",
      "Feature for (MD585,182,(7013,448)) is not in pool. Re-compute.\n",
      "Feature for (MD585,182,(7078,448)) is not in pool. Re-compute.\n",
      "Feature for (MD585,182,(7403,448)) is not in pool. Re-compute.\n",
      "Feature for (MD585,182,(7468,448)) is not in pool. Re-compute.\n",
      "Feature for (MD585,182,(7533,448)) is not in pool. Re-compute.\n",
      "Feature for (MD585,182,(7598,448)) is not in pool. Re-compute.\n",
      "Feature for (MD585,182,(7663,448)) is not in pool. Re-compute.\n",
      "Feature for (MD585,182,(7728,448)) is not in pool. Re-compute.\n",
      "Feature for (MD585,182,(7793,448)) is not in pool. Re-compute.\n",
      "Feature for (MD585,182,(7858,448)) is not in pool. Re-compute.\n",
      "Feature for (MD585,182,(7923,448)) is not in pool. Re-compute.\n",
      "Feature for (MD585,182,(7988,448)) is not in pool. Re-compute.\n",
      "Feature for (MD585,182,(8053,448)) is not in pool. Re-compute.\n",
      "Feature for (MD585,182,(8118,448)) is not in pool. Re-compute.\n",
      "Feature for (MD585,182,(8183,448)) is not in pool. Re-compute.\n",
      "Feature for (MD585,182,(8248,448)) is not in pool. Re-compute.\n",
      "Feature for (MD585,182,(8313,448)) is not in pool. Re-compute.\n",
      "Feature for (MD585,182,(8378,448)) is not in pool. Re-compute.\n",
      "Feature for (MD585,182,(8443,448)) is not in pool. Re-compute.\n",
      "Feature for (MD585,182,(8508,448)) is not in pool. Re-compute.\n",
      "Feature for (MD585,182,(8573,448)) is not in pool. Re-compute.\n",
      "Feature for (MD585,182,(8638,448)) is not in pool. Re-compute.\n",
      "Feature for (MD585,182,(8703,448)) is not in pool. Re-compute.\n"
     ]
    },
    {
     "name": "stdout",
     "output_type": "stream",
     "text": [
      "('MD589', 263)\n"
     ]
    },
    {
     "name": "stderr",
     "output_type": "stream",
     "text": [
      "Feature for (MD589,263,(6428,448)) is not in pool. Re-compute.\n",
      "Feature for (MD589,263,(6493,448)) is not in pool. Re-compute.\n",
      "Feature for (MD589,263,(6558,448)) is not in pool. Re-compute.\n"
     ]
    },
    {
     "name": "stdout",
     "output_type": "stream",
     "text": [
      "('MD585', 280)\n",
      "('MD589', 273)\n",
      "('MD589', 230)\n",
      "('MD589', 251)\n",
      "('MD589', 140)\n"
     ]
    },
    {
     "name": "stderr",
     "output_type": "stream",
     "text": [
      "Feature for (MD589,140,(7013,448)) is not in pool. Re-compute.\n",
      "Feature for (MD589,140,(7078,448)) is not in pool. Re-compute.\n",
      "Feature for (MD589,140,(7143,448)) is not in pool. Re-compute.\n",
      "Feature for (MD589,140,(7208,448)) is not in pool. Re-compute.\n",
      "Feature for (MD589,140,(7273,448)) is not in pool. Re-compute.\n",
      "Feature for (MD589,140,(7338,448)) is not in pool. Re-compute.\n",
      "Feature for (MD589,140,(7403,448)) is not in pool. Re-compute.\n",
      "Feature for (MD589,140,(7468,448)) is not in pool. Re-compute.\n"
     ]
    },
    {
     "name": "stdout",
     "output_type": "stream",
     "text": [
      "('MD585', 224)\n"
     ]
    },
    {
     "name": "stderr",
     "output_type": "stream",
     "text": [
      "Feature for (MD585,224,(6883,1293)) is not in pool. Re-compute.\n",
      "Feature for (MD585,224,(6948,1228)) is not in pool. Re-compute.\n",
      "Feature for (MD585,224,(6948,1293)) is not in pool. Re-compute.\n",
      "Feature for (MD585,224,(7013,1228)) is not in pool. Re-compute.\n",
      "Feature for (MD585,224,(7013,1293)) is not in pool. Re-compute.\n",
      "Feature for (MD585,224,(7078,1228)) is not in pool. Re-compute.\n"
     ]
    },
    {
     "name": "stdout",
     "output_type": "stream",
     "text": [
      "('MD585', 157)\n"
     ]
    },
    {
     "name": "stderr",
     "output_type": "stream",
     "text": [
      "Feature for (MD585,157,(5778,448)) is not in pool. Re-compute.\n",
      "Feature for (MD585,157,(5843,448)) is not in pool. Re-compute.\n",
      "Feature for (MD585,157,(5908,448)) is not in pool. Re-compute.\n",
      "Feature for (MD585,157,(5973,448)) is not in pool. Re-compute.\n",
      "Feature for (MD585,157,(6038,448)) is not in pool. Re-compute.\n",
      "Feature for (MD585,157,(6103,448)) is not in pool. Re-compute.\n",
      "Feature for (MD585,157,(6168,448)) is not in pool. Re-compute.\n",
      "Feature for (MD585,157,(6233,448)) is not in pool. Re-compute.\n",
      "Feature for (MD585,157,(6298,448)) is not in pool. Re-compute.\n",
      "Feature for (MD585,157,(7013,448)) is not in pool. Re-compute.\n",
      "Feature for (MD585,157,(7078,448)) is not in pool. Re-compute.\n",
      "Feature for (MD585,157,(7143,448)) is not in pool. Re-compute.\n",
      "Feature for (MD585,157,(7208,448)) is not in pool. Re-compute.\n",
      "Feature for (MD585,157,(7273,448)) is not in pool. Re-compute.\n",
      "Feature for (MD585,157,(7338,448)) is not in pool. Re-compute.\n",
      "Feature for (MD585,157,(7403,448)) is not in pool. Re-compute.\n",
      "Feature for (MD585,157,(7468,448)) is not in pool. Re-compute.\n",
      "Feature for (MD585,157,(7533,448)) is not in pool. Re-compute.\n",
      "Feature for (MD585,157,(7598,448)) is not in pool. Re-compute.\n",
      "Feature for (MD585,157,(7663,448)) is not in pool. Re-compute.\n",
      "Feature for (MD585,157,(7728,448)) is not in pool. Re-compute.\n",
      "Feature for (MD585,157,(7793,448)) is not in pool. Re-compute.\n",
      "Feature for (MD585,157,(7858,448)) is not in pool. Re-compute.\n",
      "Feature for (MD585,157,(8573,448)) is not in pool. Re-compute.\n"
     ]
    },
    {
     "name": "stdout",
     "output_type": "stream",
     "text": [
      "('MD585', 170)\n"
     ]
    },
    {
     "name": "stderr",
     "output_type": "stream",
     "text": [
      "Feature for (MD585,170,(7143,448)) is not in pool. Re-compute.\n",
      "Feature for (MD585,170,(7208,448)) is not in pool. Re-compute.\n",
      "Feature for (MD585,170,(7273,448)) is not in pool. Re-compute.\n",
      "Feature for (MD585,170,(7338,448)) is not in pool. Re-compute.\n",
      "Feature for (MD585,170,(7403,448)) is not in pool. Re-compute.\n",
      "Feature for (MD585,170,(5453,448)) is not in pool. Re-compute.\n",
      "Feature for (MD585,170,(5518,448)) is not in pool. Re-compute.\n",
      "Feature for (MD585,170,(5583,448)) is not in pool. Re-compute.\n",
      "Feature for (MD585,170,(5648,448)) is not in pool. Re-compute.\n",
      "Feature for (MD585,170,(5713,448)) is not in pool. Re-compute.\n",
      "Feature for (MD585,170,(5778,448)) is not in pool. Re-compute.\n",
      "Feature for (MD585,170,(5843,448)) is not in pool. Re-compute.\n",
      "Feature for (MD585,170,(5908,448)) is not in pool. Re-compute.\n",
      "Feature for (MD585,170,(5973,448)) is not in pool. Re-compute.\n",
      "Feature for (MD585,170,(6038,448)) is not in pool. Re-compute.\n",
      "Feature for (MD585,170,(6103,448)) is not in pool. Re-compute.\n",
      "Feature for (MD585,170,(6753,448)) is not in pool. Re-compute.\n",
      "Feature for (MD585,170,(6818,448)) is not in pool. Re-compute.\n",
      "Feature for (MD585,170,(6883,448)) is not in pool. Re-compute.\n",
      "Feature for (MD585,170,(6948,448)) is not in pool. Re-compute.\n",
      "Feature for (MD585,170,(7013,448)) is not in pool. Re-compute.\n",
      "Feature for (MD585,170,(7078,448)) is not in pool. Re-compute.\n",
      "Feature for (MD585,170,(7468,448)) is not in pool. Re-compute.\n",
      "Feature for (MD585,170,(7533,448)) is not in pool. Re-compute.\n",
      "Feature for (MD585,170,(7598,448)) is not in pool. Re-compute.\n",
      "Feature for (MD585,170,(7663,448)) is not in pool. Re-compute.\n",
      "Feature for (MD585,170,(7728,448)) is not in pool. Re-compute.\n",
      "Feature for (MD585,170,(7793,448)) is not in pool. Re-compute.\n",
      "Feature for (MD585,170,(7858,448)) is not in pool. Re-compute.\n",
      "Feature for (MD585,170,(7923,448)) is not in pool. Re-compute.\n",
      "Feature for (MD585,170,(7988,448)) is not in pool. Re-compute.\n",
      "Feature for (MD585,170,(8053,448)) is not in pool. Re-compute.\n",
      "Feature for (MD585,170,(8313,448)) is not in pool. Re-compute.\n",
      "Feature for (MD585,170,(8378,448)) is not in pool. Re-compute.\n",
      "Feature for (MD585,170,(8443,448)) is not in pool. Re-compute.\n",
      "Feature for (MD585,170,(8508,448)) is not in pool. Re-compute.\n",
      "Feature for (MD585,170,(8573,448)) is not in pool. Re-compute.\n",
      "Feature for (MD585,170,(8638,448)) is not in pool. Re-compute.\n",
      "Feature for (MD585,170,(8703,448)) is not in pool. Re-compute.\n",
      "Feature for (MD585,170,(8768,448)) is not in pool. Re-compute.\n",
      "Feature for (MD585,170,(8833,448)) is not in pool. Re-compute.\n"
     ]
    },
    {
     "name": "stdout",
     "output_type": "stream",
     "text": [
      "('MD589', 236)\n",
      "('MD585', 156)\n"
     ]
    },
    {
     "name": "stderr",
     "output_type": "stream",
     "text": [
      "Feature for (MD585,156,(5778,448)) is not in pool. Re-compute.\n",
      "Feature for (MD585,156,(5843,448)) is not in pool. Re-compute.\n",
      "Feature for (MD585,156,(5908,448)) is not in pool. Re-compute.\n",
      "Feature for (MD585,156,(5973,448)) is not in pool. Re-compute.\n",
      "Feature for (MD585,156,(6038,448)) is not in pool. Re-compute.\n",
      "Feature for (MD585,156,(6103,448)) is not in pool. Re-compute.\n",
      "Feature for (MD585,156,(6168,448)) is not in pool. Re-compute.\n",
      "Feature for (MD585,156,(6233,448)) is not in pool. Re-compute.\n",
      "Feature for (MD585,156,(6298,448)) is not in pool. Re-compute.\n",
      "Feature for (MD585,156,(6363,448)) is not in pool. Re-compute.\n",
      "Feature for (MD585,156,(7078,448)) is not in pool. Re-compute.\n",
      "Feature for (MD585,156,(7143,448)) is not in pool. Re-compute.\n",
      "Feature for (MD585,156,(7208,448)) is not in pool. Re-compute.\n",
      "Feature for (MD585,156,(7273,448)) is not in pool. Re-compute.\n",
      "Feature for (MD585,156,(7338,448)) is not in pool. Re-compute.\n",
      "Feature for (MD585,156,(7403,448)) is not in pool. Re-compute.\n",
      "Feature for (MD585,156,(7468,448)) is not in pool. Re-compute.\n",
      "Feature for (MD585,156,(7533,448)) is not in pool. Re-compute.\n",
      "Feature for (MD585,156,(7598,448)) is not in pool. Re-compute.\n",
      "Feature for (MD585,156,(7663,448)) is not in pool. Re-compute.\n",
      "Feature for (MD585,156,(7728,448)) is not in pool. Re-compute.\n",
      "Feature for (MD585,156,(7793,448)) is not in pool. Re-compute.\n",
      "Feature for (MD585,156,(8573,448)) is not in pool. Re-compute.\n"
     ]
    },
    {
     "name": "stdout",
     "output_type": "stream",
     "text": [
      "('MD589', 141)\n"
     ]
    },
    {
     "name": "stderr",
     "output_type": "stream",
     "text": [
      "Feature for (MD589,141,(6948,448)) is not in pool. Re-compute.\n",
      "Feature for (MD589,141,(7013,448)) is not in pool. Re-compute.\n",
      "Feature for (MD589,141,(7078,448)) is not in pool. Re-compute.\n",
      "Feature for (MD589,141,(7143,448)) is not in pool. Re-compute.\n",
      "Feature for (MD589,141,(7208,448)) is not in pool. Re-compute.\n",
      "Feature for (MD589,141,(7273,448)) is not in pool. Re-compute.\n",
      "Feature for (MD589,141,(7338,448)) is not in pool. Re-compute.\n",
      "Feature for (MD589,141,(7403,448)) is not in pool. Re-compute.\n",
      "Feature for (MD589,141,(7468,448)) is not in pool. Re-compute.\n",
      "Feature for (MD589,141,(8703,448)) is not in pool. Re-compute.\n"
     ]
    },
    {
     "name": "stdout",
     "output_type": "stream",
     "text": [
      "('MD585', 136)\n",
      "('MD589', 150)\n"
     ]
    },
    {
     "name": "stderr",
     "output_type": "stream",
     "text": [
      "Feature for (MD589,150,(6753,448)) is not in pool. Re-compute.\n",
      "Feature for (MD589,150,(6818,448)) is not in pool. Re-compute.\n",
      "Feature for (MD589,150,(6883,448)) is not in pool. Re-compute.\n",
      "Feature for (MD589,150,(6948,448)) is not in pool. Re-compute.\n",
      "Feature for (MD589,150,(7013,448)) is not in pool. Re-compute.\n",
      "Feature for (MD589,150,(7078,448)) is not in pool. Re-compute.\n",
      "Feature for (MD589,150,(7143,448)) is not in pool. Re-compute.\n",
      "Feature for (MD589,150,(7208,448)) is not in pool. Re-compute.\n",
      "Feature for (MD589,150,(7273,448)) is not in pool. Re-compute.\n",
      "Feature for (MD589,150,(7338,448)) is not in pool. Re-compute.\n"
     ]
    },
    {
     "name": "stdout",
     "output_type": "stream",
     "text": [
      "('MD585', 256)\n"
     ]
    },
    {
     "name": "stderr",
     "output_type": "stream",
     "text": [
      "Feature for (MD585,256,(8573,448)) is not in pool. Re-compute.\n",
      "Feature for (MD585,256,(8638,448)) is not in pool. Re-compute.\n",
      "Feature for (MD585,256,(8703,448)) is not in pool. Re-compute.\n"
     ]
    },
    {
     "name": "stdout",
     "output_type": "stream",
     "text": [
      "('MD585', 251)\n"
     ]
    },
    {
     "name": "stderr",
     "output_type": "stream",
     "text": [
      "Feature for (MD585,251,(8508,448)) is not in pool. Re-compute.\n",
      "Feature for (MD585,251,(8573,448)) is not in pool. Re-compute.\n",
      "Feature for (MD585,251,(8638,448)) is not in pool. Re-compute.\n"
     ]
    },
    {
     "name": "stdout",
     "output_type": "stream",
     "text": [
      "('MD585', 240)\n"
     ]
    },
    {
     "name": "stderr",
     "output_type": "stream",
     "text": [
      "Feature for (MD585,240,(8378,448)) is not in pool. Re-compute.\n"
     ]
    },
    {
     "name": "stdout",
     "output_type": "stream",
     "text": [
      "# positive test = 7732\n",
      "# negative test = 21332\n",
      "('MD594', 185)\n"
     ]
    },
    {
     "name": "stderr",
     "output_type": "stream",
     "text": [
      "Feature for (MD594,185,(4543,448)) is not in pool. Re-compute.\n",
      "Feature for (MD594,185,(4608,448)) is not in pool. Re-compute.\n",
      "Feature for (MD594,185,(4673,448)) is not in pool. Re-compute.\n",
      "Feature for (MD594,185,(4738,448)) is not in pool. Re-compute.\n",
      "Feature for (MD594,185,(4803,448)) is not in pool. Re-compute.\n",
      "Feature for (MD594,185,(4868,448)) is not in pool. Re-compute.\n",
      "Feature for (MD594,185,(4933,448)) is not in pool. Re-compute.\n",
      "Feature for (MD594,185,(4998,448)) is not in pool. Re-compute.\n",
      "Feature for (MD594,185,(5063,448)) is not in pool. Re-compute.\n",
      "Feature for (MD594,185,(5128,448)) is not in pool. Re-compute.\n",
      "Feature for (MD594,185,(5193,448)) is not in pool. Re-compute.\n",
      "Feature for (MD594,185,(5258,448)) is not in pool. Re-compute.\n",
      "Feature for (MD594,185,(5323,448)) is not in pool. Re-compute.\n",
      "Feature for (MD594,185,(5388,448)) is not in pool. Re-compute.\n",
      "Feature for (MD594,185,(5453,448)) is not in pool. Re-compute.\n",
      "Feature for (MD594,185,(5778,448)) is not in pool. Re-compute.\n",
      "Feature for (MD594,185,(5843,448)) is not in pool. Re-compute.\n",
      "Feature for (MD594,185,(5908,448)) is not in pool. Re-compute.\n",
      "Feature for (MD594,185,(5973,448)) is not in pool. Re-compute.\n",
      "Feature for (MD594,185,(6038,448)) is not in pool. Re-compute.\n",
      "Feature for (MD594,185,(6103,448)) is not in pool. Re-compute.\n",
      "Feature for (MD594,185,(6168,448)) is not in pool. Re-compute.\n",
      "Feature for (MD594,185,(6233,448)) is not in pool. Re-compute.\n",
      "Feature for (MD594,185,(6298,448)) is not in pool. Re-compute.\n",
      "Feature for (MD594,185,(6363,448)) is not in pool. Re-compute.\n",
      "Feature for (MD594,185,(6428,448)) is not in pool. Re-compute.\n",
      "Feature for (MD594,185,(6493,448)) is not in pool. Re-compute.\n",
      "Feature for (MD594,185,(6558,448)) is not in pool. Re-compute.\n",
      "Feature for (MD594,185,(6623,448)) is not in pool. Re-compute.\n",
      "Feature for (MD594,185,(6688,448)) is not in pool. Re-compute.\n",
      "Feature for (MD594,185,(6753,448)) is not in pool. Re-compute.\n",
      "Feature for (MD594,185,(6818,448)) is not in pool. Re-compute.\n",
      "Feature for (MD594,185,(6883,448)) is not in pool. Re-compute.\n",
      "Feature for (MD594,185,(6948,448)) is not in pool. Re-compute.\n",
      "Feature for (MD594,185,(7013,448)) is not in pool. Re-compute.\n",
      "Feature for (MD594,185,(7078,448)) is not in pool. Re-compute.\n",
      "Feature for (MD594,185,(7143,448)) is not in pool. Re-compute.\n",
      "Feature for (MD594,185,(7208,448)) is not in pool. Re-compute.\n",
      "Feature for (MD594,185,(7273,448)) is not in pool. Re-compute.\n",
      "Feature for (MD594,185,(7338,448)) is not in pool. Re-compute.\n",
      "Feature for (MD594,185,(7403,448)) is not in pool. Re-compute.\n",
      "Feature for (MD594,185,(7468,448)) is not in pool. Re-compute.\n",
      "Feature for (MD594,185,(7533,448)) is not in pool. Re-compute.\n",
      "Feature for (MD594,185,(7598,448)) is not in pool. Re-compute.\n",
      "Feature for (MD594,185,(7663,448)) is not in pool. Re-compute.\n",
      "Feature for (MD594,185,(7728,448)) is not in pool. Re-compute.\n",
      "Feature for (MD594,185,(7793,448)) is not in pool. Re-compute.\n",
      "Feature for (MD594,185,(7858,448)) is not in pool. Re-compute.\n",
      "Feature for (MD594,185,(7923,448)) is not in pool. Re-compute.\n",
      "Feature for (MD594,185,(7988,448)) is not in pool. Re-compute.\n"
     ]
    },
    {
     "name": "stdout",
     "output_type": "stream",
     "text": [
      "('MD594', 258)\n"
     ]
    },
    {
     "name": "stderr",
     "output_type": "stream",
     "text": [
      "Feature for (MD594,258,(4283,448)) is not in pool. Re-compute.\n",
      "Feature for (MD594,258,(4348,448)) is not in pool. Re-compute.\n",
      "Feature for (MD594,258,(4413,448)) is not in pool. Re-compute.\n",
      "Feature for (MD594,258,(4478,448)) is not in pool. Re-compute.\n",
      "Feature for (MD594,258,(4543,448)) is not in pool. Re-compute.\n",
      "Feature for (MD594,258,(4608,448)) is not in pool. Re-compute.\n",
      "Feature for (MD594,258,(4673,448)) is not in pool. Re-compute.\n",
      "Feature for (MD594,258,(4738,448)) is not in pool. Re-compute.\n",
      "Feature for (MD594,258,(4803,448)) is not in pool. Re-compute.\n",
      "Feature for (MD594,258,(4868,448)) is not in pool. Re-compute.\n",
      "Feature for (MD594,258,(4933,448)) is not in pool. Re-compute.\n",
      "Feature for (MD594,258,(4998,448)) is not in pool. Re-compute.\n",
      "Feature for (MD594,258,(5063,448)) is not in pool. Re-compute.\n",
      "Feature for (MD594,258,(5388,448)) is not in pool. Re-compute.\n",
      "Feature for (MD594,258,(5453,448)) is not in pool. Re-compute.\n",
      "Feature for (MD594,258,(5518,448)) is not in pool. Re-compute.\n",
      "Feature for (MD594,258,(5583,448)) is not in pool. Re-compute.\n",
      "Feature for (MD594,258,(5648,448)) is not in pool. Re-compute.\n",
      "Feature for (MD594,258,(5713,448)) is not in pool. Re-compute.\n",
      "Feature for (MD594,258,(5778,448)) is not in pool. Re-compute.\n",
      "Feature for (MD594,258,(5843,448)) is not in pool. Re-compute.\n",
      "Feature for (MD594,258,(5908,448)) is not in pool. Re-compute.\n",
      "Feature for (MD594,258,(5973,448)) is not in pool. Re-compute.\n",
      "Feature for (MD594,258,(6038,448)) is not in pool. Re-compute.\n",
      "Feature for (MD594,258,(6103,448)) is not in pool. Re-compute.\n",
      "Feature for (MD594,258,(6168,448)) is not in pool. Re-compute.\n",
      "Feature for (MD594,258,(6233,448)) is not in pool. Re-compute.\n",
      "Feature for (MD594,258,(6298,448)) is not in pool. Re-compute.\n",
      "Feature for (MD594,258,(6363,448)) is not in pool. Re-compute.\n",
      "Feature for (MD594,258,(6428,448)) is not in pool. Re-compute.\n",
      "Feature for (MD594,258,(6493,448)) is not in pool. Re-compute.\n",
      "Feature for (MD594,258,(6558,448)) is not in pool. Re-compute.\n",
      "Feature for (MD594,258,(6623,448)) is not in pool. Re-compute.\n",
      "Feature for (MD594,258,(6688,448)) is not in pool. Re-compute.\n",
      "Feature for (MD594,258,(6753,448)) is not in pool. Re-compute.\n",
      "Feature for (MD594,258,(6818,448)) is not in pool. Re-compute.\n",
      "Feature for (MD594,258,(6883,448)) is not in pool. Re-compute.\n",
      "Feature for (MD594,258,(6948,448)) is not in pool. Re-compute.\n",
      "Feature for (MD594,258,(7013,448)) is not in pool. Re-compute.\n",
      "Feature for (MD594,258,(7078,448)) is not in pool. Re-compute.\n",
      "Feature for (MD594,258,(7143,448)) is not in pool. Re-compute.\n",
      "Feature for (MD594,258,(7208,448)) is not in pool. Re-compute.\n",
      "Feature for (MD594,258,(7273,448)) is not in pool. Re-compute.\n",
      "Feature for (MD594,258,(7338,448)) is not in pool. Re-compute.\n",
      "Feature for (MD594,258,(7403,448)) is not in pool. Re-compute.\n"
     ]
    },
    {
     "name": "stdout",
     "output_type": "stream",
     "text": [
      "('MD594', 283)\n"
     ]
    },
    {
     "name": "stderr",
     "output_type": "stream",
     "text": [
      "Feature for (MD594,283,(4348,448)) is not in pool. Re-compute.\n",
      "Feature for (MD594,283,(4413,448)) is not in pool. Re-compute.\n",
      "Feature for (MD594,283,(4478,448)) is not in pool. Re-compute.\n",
      "Feature for (MD594,283,(4543,448)) is not in pool. Re-compute.\n",
      "Feature for (MD594,283,(4608,448)) is not in pool. Re-compute.\n",
      "Feature for (MD594,283,(4673,448)) is not in pool. Re-compute.\n",
      "Feature for (MD594,283,(4738,448)) is not in pool. Re-compute.\n",
      "Feature for (MD594,283,(4803,448)) is not in pool. Re-compute.\n",
      "Feature for (MD594,283,(4868,448)) is not in pool. Re-compute.\n",
      "Feature for (MD594,283,(4933,448)) is not in pool. Re-compute.\n",
      "Feature for (MD594,283,(4998,448)) is not in pool. Re-compute.\n",
      "Feature for (MD594,283,(5323,448)) is not in pool. Re-compute.\n",
      "Feature for (MD594,283,(5388,448)) is not in pool. Re-compute.\n",
      "Feature for (MD594,283,(5453,448)) is not in pool. Re-compute.\n",
      "Feature for (MD594,283,(5518,448)) is not in pool. Re-compute.\n",
      "Feature for (MD594,283,(5583,448)) is not in pool. Re-compute.\n",
      "Feature for (MD594,283,(5648,448)) is not in pool. Re-compute.\n",
      "Feature for (MD594,283,(5713,448)) is not in pool. Re-compute.\n",
      "Feature for (MD594,283,(5778,448)) is not in pool. Re-compute.\n",
      "Feature for (MD594,283,(5843,448)) is not in pool. Re-compute.\n",
      "Feature for (MD594,283,(5908,448)) is not in pool. Re-compute.\n",
      "Feature for (MD594,283,(5973,448)) is not in pool. Re-compute.\n",
      "Feature for (MD594,283,(6038,448)) is not in pool. Re-compute.\n",
      "Feature for (MD594,283,(6103,448)) is not in pool. Re-compute.\n",
      "Feature for (MD594,283,(6168,448)) is not in pool. Re-compute.\n",
      "Feature for (MD594,283,(6233,448)) is not in pool. Re-compute.\n",
      "Feature for (MD594,283,(6298,448)) is not in pool. Re-compute.\n",
      "Feature for (MD594,283,(6363,448)) is not in pool. Re-compute.\n",
      "Feature for (MD594,283,(6428,448)) is not in pool. Re-compute.\n",
      "Feature for (MD594,283,(6493,448)) is not in pool. Re-compute.\n",
      "Feature for (MD594,283,(6558,448)) is not in pool. Re-compute.\n",
      "Feature for (MD594,283,(6623,448)) is not in pool. Re-compute.\n",
      "Feature for (MD594,283,(6688,448)) is not in pool. Re-compute.\n",
      "Feature for (MD594,283,(6753,448)) is not in pool. Re-compute.\n",
      "Feature for (MD594,283,(6818,448)) is not in pool. Re-compute.\n",
      "Feature for (MD594,283,(6883,448)) is not in pool. Re-compute.\n",
      "Feature for (MD594,283,(6948,448)) is not in pool. Re-compute.\n",
      "Feature for (MD594,283,(7013,448)) is not in pool. Re-compute.\n",
      "Feature for (MD594,283,(7078,448)) is not in pool. Re-compute.\n",
      "Feature for (MD594,283,(7143,448)) is not in pool. Re-compute.\n"
     ]
    },
    {
     "name": "stdout",
     "output_type": "stream",
     "text": [
      "('MD594', 154)\n"
     ]
    },
    {
     "name": "stderr",
     "output_type": "stream",
     "text": [
      "Feature for (MD594,154,(6883,448)) is not in pool. Re-compute.\n",
      "Feature for (MD594,154,(6948,448)) is not in pool. Re-compute.\n",
      "Feature for (MD594,154,(7013,448)) is not in pool. Re-compute.\n",
      "Feature for (MD594,154,(7208,448)) is not in pool. Re-compute.\n",
      "Feature for (MD594,154,(7273,448)) is not in pool. Re-compute.\n",
      "Feature for (MD594,154,(7338,448)) is not in pool. Re-compute.\n",
      "Feature for (MD594,154,(7403,448)) is not in pool. Re-compute.\n",
      "Feature for (MD594,154,(7468,448)) is not in pool. Re-compute.\n",
      "Feature for (MD594,154,(7533,448)) is not in pool. Re-compute.\n",
      "Feature for (MD594,154,(7598,448)) is not in pool. Re-compute.\n",
      "Feature for (MD594,154,(7663,448)) is not in pool. Re-compute.\n"
     ]
    },
    {
     "name": "stdout",
     "output_type": "stream",
     "text": [
      "('MD594', 243)\n"
     ]
    },
    {
     "name": "stderr",
     "output_type": "stream",
     "text": [
      "Feature for (MD594,243,(5778,448)) is not in pool. Re-compute.\n",
      "Feature for (MD594,243,(5843,448)) is not in pool. Re-compute.\n",
      "Feature for (MD594,243,(5908,448)) is not in pool. Re-compute.\n",
      "Feature for (MD594,243,(5973,448)) is not in pool. Re-compute.\n",
      "Feature for (MD594,243,(6038,448)) is not in pool. Re-compute.\n",
      "Feature for (MD594,243,(6103,448)) is not in pool. Re-compute.\n",
      "Feature for (MD594,243,(6168,448)) is not in pool. Re-compute.\n",
      "Feature for (MD594,243,(6233,448)) is not in pool. Re-compute.\n",
      "Feature for (MD594,243,(6298,448)) is not in pool. Re-compute.\n",
      "Feature for (MD594,243,(6363,448)) is not in pool. Re-compute.\n",
      "Feature for (MD594,243,(6428,448)) is not in pool. Re-compute.\n",
      "Feature for (MD594,243,(6493,448)) is not in pool. Re-compute.\n",
      "Feature for (MD594,243,(6558,448)) is not in pool. Re-compute.\n",
      "Feature for (MD594,243,(6623,448)) is not in pool. Re-compute.\n",
      "Feature for (MD594,243,(6688,448)) is not in pool. Re-compute.\n",
      "Feature for (MD594,243,(6753,448)) is not in pool. Re-compute.\n",
      "Feature for (MD594,243,(6818,448)) is not in pool. Re-compute.\n",
      "Feature for (MD594,243,(6883,448)) is not in pool. Re-compute.\n",
      "Feature for (MD594,243,(6948,448)) is not in pool. Re-compute.\n",
      "Feature for (MD594,243,(7013,448)) is not in pool. Re-compute.\n",
      "Feature for (MD594,243,(7078,448)) is not in pool. Re-compute.\n",
      "Feature for (MD594,243,(7143,448)) is not in pool. Re-compute.\n",
      "Feature for (MD594,243,(7208,448)) is not in pool. Re-compute.\n",
      "Feature for (MD594,243,(7273,448)) is not in pool. Re-compute.\n"
     ]
    },
    {
     "name": "stdout",
     "output_type": "stream",
     "text": [
      "('MD594', 169)\n"
     ]
    },
    {
     "name": "stderr",
     "output_type": "stream",
     "text": [
      "Feature for (MD594,169,(4868,448)) is not in pool. Re-compute.\n",
      "Feature for (MD594,169,(5258,448)) is not in pool. Re-compute.\n",
      "Feature for (MD594,169,(5323,448)) is not in pool. Re-compute.\n",
      "Feature for (MD594,169,(5388,448)) is not in pool. Re-compute.\n",
      "Feature for (MD594,169,(5583,448)) is not in pool. Re-compute.\n",
      "Feature for (MD594,169,(5648,448)) is not in pool. Re-compute.\n",
      "Feature for (MD594,169,(6103,448)) is not in pool. Re-compute.\n",
      "Feature for (MD594,169,(6168,448)) is not in pool. Re-compute.\n",
      "Feature for (MD594,169,(6233,448)) is not in pool. Re-compute.\n",
      "Feature for (MD594,169,(6298,448)) is not in pool. Re-compute.\n",
      "Feature for (MD594,169,(6363,448)) is not in pool. Re-compute.\n",
      "Feature for (MD594,169,(6428,448)) is not in pool. Re-compute.\n",
      "Feature for (MD594,169,(6493,448)) is not in pool. Re-compute.\n",
      "Feature for (MD594,169,(6558,448)) is not in pool. Re-compute.\n",
      "Feature for (MD594,169,(6623,448)) is not in pool. Re-compute.\n",
      "Feature for (MD594,169,(6688,448)) is not in pool. Re-compute.\n",
      "Feature for (MD594,169,(6753,448)) is not in pool. Re-compute.\n",
      "Feature for (MD594,169,(6818,448)) is not in pool. Re-compute.\n",
      "Feature for (MD594,169,(6883,448)) is not in pool. Re-compute.\n",
      "Feature for (MD594,169,(6948,448)) is not in pool. Re-compute.\n",
      "Feature for (MD594,169,(7013,448)) is not in pool. Re-compute.\n",
      "Feature for (MD594,169,(7078,448)) is not in pool. Re-compute.\n",
      "Feature for (MD594,169,(7143,448)) is not in pool. Re-compute.\n",
      "Feature for (MD594,169,(7208,448)) is not in pool. Re-compute.\n",
      "Feature for (MD594,169,(7273,448)) is not in pool. Re-compute.\n",
      "Feature for (MD594,169,(7338,448)) is not in pool. Re-compute.\n",
      "Feature for (MD594,169,(7403,448)) is not in pool. Re-compute.\n",
      "Feature for (MD594,169,(7468,448)) is not in pool. Re-compute.\n",
      "Feature for (MD594,169,(7533,448)) is not in pool. Re-compute.\n",
      "Feature for (MD594,169,(7598,448)) is not in pool. Re-compute.\n",
      "Feature for (MD594,169,(7663,448)) is not in pool. Re-compute.\n",
      "Feature for (MD594,169,(7728,448)) is not in pool. Re-compute.\n",
      "Feature for (MD594,169,(7793,448)) is not in pool. Re-compute.\n",
      "Feature for (MD594,169,(7858,448)) is not in pool. Re-compute.\n",
      "Feature for (MD594,169,(7923,448)) is not in pool. Re-compute.\n"
     ]
    },
    {
     "name": "stdout",
     "output_type": "stream",
     "text": [
      "('MD594', 157)\n"
     ]
    },
    {
     "name": "stderr",
     "output_type": "stream",
     "text": [
      "Feature for (MD594,157,(6688,448)) is not in pool. Re-compute.\n",
      "Feature for (MD594,157,(6753,448)) is not in pool. Re-compute.\n",
      "Feature for (MD594,157,(6818,448)) is not in pool. Re-compute.\n",
      "Feature for (MD594,157,(6883,448)) is not in pool. Re-compute.\n",
      "Feature for (MD594,157,(6948,448)) is not in pool. Re-compute.\n",
      "Feature for (MD594,157,(7013,448)) is not in pool. Re-compute.\n",
      "Feature for (MD594,157,(7078,448)) is not in pool. Re-compute.\n",
      "Feature for (MD594,157,(7143,448)) is not in pool. Re-compute.\n",
      "Feature for (MD594,157,(7208,448)) is not in pool. Re-compute.\n",
      "Feature for (MD594,157,(7273,448)) is not in pool. Re-compute.\n",
      "Feature for (MD594,157,(7338,448)) is not in pool. Re-compute.\n",
      "Feature for (MD594,157,(7403,448)) is not in pool. Re-compute.\n",
      "Feature for (MD594,157,(7468,448)) is not in pool. Re-compute.\n",
      "Feature for (MD594,157,(7533,448)) is not in pool. Re-compute.\n",
      "Feature for (MD594,157,(7598,448)) is not in pool. Re-compute.\n",
      "Feature for (MD594,157,(7663,448)) is not in pool. Re-compute.\n",
      "Feature for (MD594,157,(7728,448)) is not in pool. Re-compute.\n",
      "Feature for (MD594,157,(7793,448)) is not in pool. Re-compute.\n",
      "Feature for (MD594,157,(7858,448)) is not in pool. Re-compute.\n"
     ]
    },
    {
     "name": "stdout",
     "output_type": "stream",
     "text": [
      "('MD594', 235)\n"
     ]
    },
    {
     "name": "stderr",
     "output_type": "stream",
     "text": [
      "Feature for (MD594,235,(5583,448)) is not in pool. Re-compute.\n",
      "Feature for (MD594,235,(5648,448)) is not in pool. Re-compute.\n",
      "Feature for (MD594,235,(5713,448)) is not in pool. Re-compute.\n",
      "Feature for (MD594,235,(5778,448)) is not in pool. Re-compute.\n",
      "Feature for (MD594,235,(5843,448)) is not in pool. Re-compute.\n",
      "Feature for (MD594,235,(5908,448)) is not in pool. Re-compute.\n",
      "Feature for (MD594,235,(5973,448)) is not in pool. Re-compute.\n",
      "Feature for (MD594,235,(6038,448)) is not in pool. Re-compute.\n",
      "Feature for (MD594,235,(6103,448)) is not in pool. Re-compute.\n",
      "Feature for (MD594,235,(6168,448)) is not in pool. Re-compute.\n",
      "Feature for (MD594,235,(6233,448)) is not in pool. Re-compute.\n",
      "Feature for (MD594,235,(6298,448)) is not in pool. Re-compute.\n",
      "Feature for (MD594,235,(6363,448)) is not in pool. Re-compute.\n",
      "Feature for (MD594,235,(6428,448)) is not in pool. Re-compute.\n",
      "Feature for (MD594,235,(6493,448)) is not in pool. Re-compute.\n",
      "Feature for (MD594,235,(6558,448)) is not in pool. Re-compute.\n",
      "Feature for (MD594,235,(6623,448)) is not in pool. Re-compute.\n",
      "Feature for (MD594,235,(6688,448)) is not in pool. Re-compute.\n",
      "Feature for (MD594,235,(6753,448)) is not in pool. Re-compute.\n",
      "Feature for (MD594,235,(6818,448)) is not in pool. Re-compute.\n",
      "Feature for (MD594,235,(6883,448)) is not in pool. Re-compute.\n",
      "Feature for (MD594,235,(6948,448)) is not in pool. Re-compute.\n",
      "Feature for (MD594,235,(7013,448)) is not in pool. Re-compute.\n",
      "Feature for (MD594,235,(7078,448)) is not in pool. Re-compute.\n",
      "Feature for (MD594,235,(7143,448)) is not in pool. Re-compute.\n"
     ]
    },
    {
     "name": "stdout",
     "output_type": "stream",
     "text": [
      "('MD594', 255)\n"
     ]
    },
    {
     "name": "stderr",
     "output_type": "stream",
     "text": [
      "Feature for (MD594,255,(4283,448)) is not in pool. Re-compute.\n",
      "Feature for (MD594,255,(4348,448)) is not in pool. Re-compute.\n",
      "Feature for (MD594,255,(4413,448)) is not in pool. Re-compute.\n",
      "Feature for (MD594,255,(4478,448)) is not in pool. Re-compute.\n",
      "Feature for (MD594,255,(4543,448)) is not in pool. Re-compute.\n",
      "Feature for (MD594,255,(4608,448)) is not in pool. Re-compute.\n",
      "Feature for (MD594,255,(4673,448)) is not in pool. Re-compute.\n",
      "Feature for (MD594,255,(4738,448)) is not in pool. Re-compute.\n",
      "Feature for (MD594,255,(4803,448)) is not in pool. Re-compute.\n",
      "Feature for (MD594,255,(4868,448)) is not in pool. Re-compute.\n",
      "Feature for (MD594,255,(4933,448)) is not in pool. Re-compute.\n",
      "Feature for (MD594,255,(5323,448)) is not in pool. Re-compute.\n",
      "Feature for (MD594,255,(5388,448)) is not in pool. Re-compute.\n",
      "Feature for (MD594,255,(5453,448)) is not in pool. Re-compute.\n",
      "Feature for (MD594,255,(5518,448)) is not in pool. Re-compute.\n",
      "Feature for (MD594,255,(5583,448)) is not in pool. Re-compute.\n",
      "Feature for (MD594,255,(5648,448)) is not in pool. Re-compute.\n",
      "Feature for (MD594,255,(5713,448)) is not in pool. Re-compute.\n",
      "Feature for (MD594,255,(5778,448)) is not in pool. Re-compute.\n",
      "Feature for (MD594,255,(5843,448)) is not in pool. Re-compute.\n",
      "Feature for (MD594,255,(5908,448)) is not in pool. Re-compute.\n",
      "Feature for (MD594,255,(5973,448)) is not in pool. Re-compute.\n",
      "Feature for (MD594,255,(6038,448)) is not in pool. Re-compute.\n",
      "Feature for (MD594,255,(6103,448)) is not in pool. Re-compute.\n",
      "Feature for (MD594,255,(6168,448)) is not in pool. Re-compute.\n",
      "Feature for (MD594,255,(6233,448)) is not in pool. Re-compute.\n",
      "Feature for (MD594,255,(6298,448)) is not in pool. Re-compute.\n",
      "Feature for (MD594,255,(6363,448)) is not in pool. Re-compute.\n",
      "Feature for (MD594,255,(6428,448)) is not in pool. Re-compute.\n",
      "Feature for (MD594,255,(6493,448)) is not in pool. Re-compute.\n",
      "Feature for (MD594,255,(6558,448)) is not in pool. Re-compute.\n",
      "Feature for (MD594,255,(6623,448)) is not in pool. Re-compute.\n",
      "Feature for (MD594,255,(6688,448)) is not in pool. Re-compute.\n",
      "Feature for (MD594,255,(6753,448)) is not in pool. Re-compute.\n",
      "Feature for (MD594,255,(6818,448)) is not in pool. Re-compute.\n",
      "Feature for (MD594,255,(6883,448)) is not in pool. Re-compute.\n",
      "Feature for (MD594,255,(6948,448)) is not in pool. Re-compute.\n",
      "Feature for (MD594,255,(7013,448)) is not in pool. Re-compute.\n",
      "Feature for (MD594,255,(7078,448)) is not in pool. Re-compute.\n",
      "Feature for (MD594,255,(7143,448)) is not in pool. Re-compute.\n",
      "Feature for (MD594,255,(7208,448)) is not in pool. Re-compute.\n",
      "Feature for (MD594,255,(7273,448)) is not in pool. Re-compute.\n",
      "Feature for (MD594,255,(7338,448)) is not in pool. Re-compute.\n",
      "Feature for (MD594,255,(7403,448)) is not in pool. Re-compute.\n"
     ]
    },
    {
     "name": "stdout",
     "output_type": "stream",
     "text": [
      "('MD594', 160)\n"
     ]
    },
    {
     "name": "stderr",
     "output_type": "stream",
     "text": [
      "Feature for (MD594,160,(6818,448)) is not in pool. Re-compute.\n",
      "Feature for (MD594,160,(6883,448)) is not in pool. Re-compute.\n",
      "Feature for (MD594,160,(6948,448)) is not in pool. Re-compute.\n",
      "Feature for (MD594,160,(7013,448)) is not in pool. Re-compute.\n",
      "Feature for (MD594,160,(7078,448)) is not in pool. Re-compute.\n",
      "Feature for (MD594,160,(7143,448)) is not in pool. Re-compute.\n",
      "Feature for (MD594,160,(7208,448)) is not in pool. Re-compute.\n",
      "Feature for (MD594,160,(7273,448)) is not in pool. Re-compute.\n",
      "Feature for (MD594,160,(7338,448)) is not in pool. Re-compute.\n",
      "Feature for (MD594,160,(7403,448)) is not in pool. Re-compute.\n",
      "Feature for (MD594,160,(7468,448)) is not in pool. Re-compute.\n",
      "Feature for (MD594,160,(7533,448)) is not in pool. Re-compute.\n"
     ]
    },
    {
     "name": "stdout",
     "output_type": "stream",
     "text": [
      "n_train 1000\n",
      "Trial 0\n",
      "Training: 1000 positive, 1000 negative\n",
      "Test: 1000 positive, 1000 negative\n"
     ]
    },
    {
     "name": "stderr",
     "output_type": "stream",
     "text": [
      "Fitting classifier: 0.45 seconds\n"
     ]
    },
    {
     "name": "stdout",
     "output_type": "stream",
     "text": [
      "Trial 1\n",
      "Training: 1000 positive, 1000 negative\n",
      "Test: 1000 positive, 1000 negative\n"
     ]
    },
    {
     "name": "stderr",
     "output_type": "stream",
     "text": [
      "Fitting classifier: 0.45 seconds\n"
     ]
    },
    {
     "name": "stdout",
     "output_type": "stream",
     "text": [
      "Trial 2\n",
      "Training: 1000 positive, 1000 negative\n",
      "Test: 1000 positive, 1000 negative\n"
     ]
    },
    {
     "name": "stderr",
     "output_type": "stream",
     "text": [
      "Fitting classifier: 0.49 seconds\n"
     ]
    },
    {
     "name": "stdout",
     "output_type": "stream",
     "text": [
      "n_train 5000\n",
      "Trial 0\n",
      "Training: 5000 positive, 5000 negative\n",
      "Test: 1000 positive, 1000 negative\n"
     ]
    },
    {
     "name": "stderr",
     "output_type": "stream",
     "text": [
      "Fitting classifier: 3.51 seconds\n"
     ]
    },
    {
     "name": "stdout",
     "output_type": "stream",
     "text": [
      "Trial 1\n",
      "Training: 5000 positive, 5000 negative\n",
      "Test: 1000 positive, 1000 negative\n"
     ]
    },
    {
     "name": "stderr",
     "output_type": "stream",
     "text": [
      "Fitting classifier: 3.81 seconds\n"
     ]
    },
    {
     "name": "stdout",
     "output_type": "stream",
     "text": [
      "Trial 2\n",
      "Training: 5000 positive, 5000 negative\n",
      "Test: 1000 positive, 1000 negative\n"
     ]
    },
    {
     "name": "stderr",
     "output_type": "stream",
     "text": [
      "Fitting classifier: 3.38 seconds\n"
     ]
    },
    {
     "name": "stdout",
     "output_type": "stream",
     "text": [
      "n_train 15000\n",
      "Trial 0\n",
      "Training: 14353 positive, 14353 negative\n",
      "Test: 1000 positive, 1000 negative\n"
     ]
    },
    {
     "name": "stderr",
     "output_type": "stream",
     "text": [
      "Fitting classifier: 15.89 seconds\n"
     ]
    },
    {
     "name": "stdout",
     "output_type": "stream",
     "text": [
      "Trial 1\n",
      "Training: 14353 positive, 14353 negative\n",
      "Test: 1000 positive, 1000 negative\n"
     ]
    },
    {
     "name": "stderr",
     "output_type": "stream",
     "text": [
      "Fitting classifier: 17.23 seconds\n"
     ]
    },
    {
     "name": "stdout",
     "output_type": "stream",
     "text": [
      "Trial 2\n",
      "Training: 14353 positive, 14353 negative\n",
      "Test: 1000 positive, 1000 negative\n"
     ]
    },
    {
     "name": "stderr",
     "output_type": "stream",
     "text": [
      "Fitting classifier: 16.86 seconds\n"
     ]
    },
    {
     "data": {
      "image/png": "[encoded data removed]",
      "text/plain": [
       "<matplotlib.figure.Figure at 0x7f93a13b9b50>"
      ]
     },
     "metadata": {},
     "output_type": "display_data"
    },
    {
     "data": {
      "image/png": "[encoded data removed]",
      "text/plain": [
       "<matplotlib.figure.Figure at 0x7f9a241aa610>"
      ]
     },
     "metadata": {},
     "output_type": "display_data"
    },
    {
     "data": {
      "image/png": "[encoded data removed]",
      "text/plain": [
       "<matplotlib.figure.Figure at 0x7f93b1120d90>"
      ]
     },
     "metadata": {},
     "output_type": "display_data"
    }
   ],
   "source": [
    "for structure in all_known_structures:\n",
    "    if structure in ['SNC', '4N']:\n",
    "        continue\n",
    "# for structure in ['3N']:\n",
    "\n",
    "    # features_dict = {(scheme, tfv): {} for scheme in schemes for tfv in transforms}\n",
    "    features_dict = defaultdict(dict)\n",
    "\n",
    "    ############## Sample and Load training feature vectors #########################################\n",
    "\n",
    "    if extract_train_features:\n",
    "    \n",
    "        positive_addresses_traindata, negative_addresses_traindata = \\\n",
    "        sample_addresses(train_stacks, structure)\n",
    "\n",
    "        print '# positive train =', len(positive_addresses_traindata)\n",
    "        print '# negative train =', len(negative_addresses_traindata)\n",
    "\n",
    "        addresses_to_compute = positive_addresses_traindata + negative_addresses_traindata\n",
    "\n",
    "        for variant in [0]:\n",
    "            features_loaded = read_features(addresses=addresses_to_compute, \n",
    "                                            scheme=train_scheme, win_id=win_id, prep_id=prep_id, \n",
    "                                            model=model, mean_img=mean_img, model_name=model_name, \n",
    "                                            batch_size=batch_size,\n",
    "                                           method=method,\n",
    "                                           compute_new_addresses=compute_new_addresses\n",
    "                                           )\n",
    "            \n",
    "            for addr, f in izip(addresses_to_compute, features_loaded):\n",
    "                if f is not None:\n",
    "                    features_dict[(train_scheme, variant)][addr] = f\n",
    "\n",
    "            del features_loaded\n",
    "\n",
    "    ############## Sample and Load test feature vectors #############################################\n",
    "    \n",
    "    positive_addresses_testdata, negative_addresses_testdata = \\\n",
    "    sample_addresses(test_stacks, structure)\n",
    "    \n",
    "    print '# positive test =', len(positive_addresses_testdata)\n",
    "    print '# negative test =', len(negative_addresses_testdata)\n",
    "    \n",
    "    addresses_to_compute = positive_addresses_testdata + negative_addresses_testdata\n",
    "\n",
    "    for variant in [0]:\n",
    "        features_loaded = read_features(addresses=addresses_to_compute, \n",
    "                                        scheme=test_scheme, win_id=win_id, prep_id=prep_id, \n",
    "                                        model=model, mean_img=mean_img, model_name=model_name, \n",
    "                                        batch_size=batch_size,\n",
    "                                           method=method,\n",
    "                                       compute_new_addresses=compute_new_addresses\n",
    "                                       )\n",
    "\n",
    "        for addr, f in izip(addresses_to_compute, features_loaded):\n",
    "            if f is not None:\n",
    "                features_dict[(test_scheme, variant)][addr] = f\n",
    "\n",
    "        del features_loaded\n",
    "            \n",
    "    ########################################################################################\n",
    "    \n",
    "    # n_train_list = [10, 100, 200, 500, 1000, 2000, 5000, 10000, 15000]\n",
    "#     n_train_list = [10, 1000]\n",
    "    n_train_list = [1000, 5000, 15000]\n",
    "#     n_train_list = [1000, 5000]\n",
    "#     n_train_list = [15000]\n",
    "    test_metrics_all_ntrain = defaultdict(lambda: defaultdict(list))\n",
    "    train_metrics_all_ntrain = defaultdict(lambda: defaultdict(list))\n",
    "\n",
    "    for n_train in n_train_list:\n",
    "\n",
    "        print \"n_train\", n_train\n",
    "        \n",
    "        for trial in range(3):\n",
    "            print \"Trial\", trial\n",
    "            \n",
    "            ##### Sample from training pool the required number of examples ######\n",
    "\n",
    "            # If train and test data are from different sets\n",
    "            n_train_pos = min(n_train, len(positive_addresses_traindata))\n",
    "#             if len(positive_addresses_traindata) < n_train_pos:\n",
    "#                 continue\n",
    "            training_pos_indices = np.random.choice(range(len(positive_addresses_traindata)), n_train_pos, replace=False)\n",
    "            \n",
    "            n_test_pos = min(len(positive_addresses_testdata), 1000)\n",
    "            test_pos_indices = np.random.choice(range(len(positive_addresses_testdata)), n_test_pos, replace=False)\n",
    "\n",
    "            # If train and test are from same set\n",
    "        #     n_pos_total = len(positive_addresses)\n",
    "        #     n_train_pos = 1000\n",
    "        #     training_pos_indices = np.random.choice(range(n_pos_total), n_train_pos, replace=False)\n",
    "        #     test_pos_indices = np.random.choice(np.setdiff1d(range(n_pos_total), training_pos_indices),\n",
    "        #                                         size=min(2000, n_pos_total-n_train_pos), replace=False)\n",
    "        #     n_test_pos = len(test_pos_indices)\n",
    "\n",
    "            # If train and test data are from different sets\n",
    "            n_train_neg = n_train_pos\n",
    "            training_neg_indices = np.random.choice(range(len(negative_addresses_traindata)), n_train_neg, replace=False)\n",
    "            \n",
    "            n_test_neg = min(len(negative_addresses_testdata), 1000)\n",
    "            test_neg_indices = np.random.choice(range(len(negative_addresses_testdata)), n_test_neg, replace=False)\n",
    "\n",
    "            # If train and test are from same set\n",
    "        #     n_neg_total = len(negative_addresses)\n",
    "        #     n_train_neg = 1000\n",
    "        #     training_neg_indices = np.random.choice(range(n_neg_total), n_train_neg, replace=False)\n",
    "        #     test_neg_indices = np.random.choice(np.setdiff1d(range(n_neg_total), training_neg_indices), \n",
    "        #                                         size=min(2000, n_pos_total-n_train_pos), replace=False)\n",
    "        #     n_test_neg = len(test_neg_indices)\n",
    "\n",
    "            print \"Training: %d positive, %d negative\" % (n_train_pos, n_train_neg)\n",
    "            print \"Test: %d positive, %d negative\" % (n_test_pos, n_test_neg)\n",
    "\n",
    "            ################\n",
    "\n",
    "            if extract_train_features:\n",
    "                # If train and test data are from different sets\n",
    "                addresses_train_pos = [positive_addresses_traindata[i] for i in training_pos_indices]\n",
    "                addresses_train_neg = [negative_addresses_traindata[i] for i in training_neg_indices]\n",
    "\n",
    "            addresses_test_pos = [positive_addresses_testdata[i] for i in test_pos_indices]\n",
    "            addresses_test_neg = [negative_addresses_testdata[i] for i in test_neg_indices]\n",
    "\n",
    "            #################\n",
    "\n",
    "#             for augment_training in [True, False]:\n",
    "            for augment_training in [False]:\n",
    "        \n",
    "                feature_classifier_alg = 'lr'\n",
    "#                 feature_classifier_alg = 'xgb2'\n",
    "        #             feature_classifier_alg = 'lin_svc'\n",
    "        #             feature_classifier_alg = 'lin_svc_calib'\n",
    "                sample_weights = None   \n",
    "\n",
    "                if extract_train_features:\n",
    "            \n",
    "                    if augment_training:\n",
    "                        train_transforms = range(8)\n",
    "                    else:\n",
    "                        train_transforms = range(1)\n",
    "                    features_train_pos = {(train_scheme, tf_variant): \n",
    "                                          [features_dict[(train_scheme, tf_variant)][addr] \n",
    "                                           for addr in addresses_train_pos \n",
    "                                           if addr in features_dict[(train_scheme, tf_variant)]]\n",
    "                                              for tf_variant in train_transforms}\n",
    "                    features_train_neg = {(train_scheme, tf_variant): \n",
    "                                          [features_dict[(train_scheme, tf_variant)][addr] \n",
    "                                           for addr in addresses_train_neg\n",
    "                                           if addr in features_dict[(train_scheme, tf_variant)]]\n",
    "                                              for tf_variant in train_transforms}\n",
    "\n",
    "                    train_data = np.concatenate([np.r_[features_train_pos[(train_scheme,tf)], \n",
    "                                                       features_train_neg[(train_scheme,tf)]] \n",
    "                                                    for tf in train_transforms])\n",
    "                    train_labels = np.concatenate([np.r_[np.ones((len(features_train_pos[(train_scheme,tf)]), )), \n",
    "                                                        -np.ones((len(features_train_neg[(train_scheme,tf)]), ))]\n",
    "                                                  for tf in train_transforms])\n",
    "\n",
    "                if existing_classifier_id is None:\n",
    "                    clf = train_binary_classifier(train_data, train_labels,\n",
    "                                       alg=feature_classifier_alg, \n",
    "                                       sample_weights=sample_weights)\n",
    "\n",
    "    #                 del train_data, features_train_pos, features_train_neg\n",
    "\n",
    "                    clf_fp = DataManager.get_classifier_filepath(classifier_id=classifier_id, structure=structure)\n",
    "                    save_data(clf, clf_fp)\n",
    "#                     upload_to_s3(clf_fp)\n",
    "                else:\n",
    "                    sys.stderr.write('Load existing classifiers %d\\n' % existing_classifier_id)\n",
    "                    clf = DataManager.load_classifiers(classifier_id=existing_classifier_id)[structure]\n",
    "                \n",
    "                ######################### Compute train metrics #########################\n",
    "                \n",
    "                if extract_train_features:\n",
    "                    train_metrics = compute_classification_metrics(clf.predict_proba(train_data)[:,1], train_labels)\n",
    "                    train_metrics_all_ntrain[n_train][(train_scheme, 'augment' if augment_training else 'no-augment')].append(train_metrics)\n",
    "                \n",
    "                ######################### Test ###############################\n",
    "                \n",
    "                test_transforms = range(1)\n",
    "                features_test_pos = {(test_scheme, tf_variant): \n",
    "                                      [features_dict[(test_scheme, tf_variant)][addr] \n",
    "                                       for addr in addresses_test_pos\n",
    "                                      if addr in features_dict[(test_scheme, tf_variant)]]\n",
    "                                          for tf_variant in test_transforms}\n",
    "                features_test_neg = {(test_scheme, tf_variant): \n",
    "                                      [features_dict[(test_scheme, tf_variant)][addr] \n",
    "                                       for addr in addresses_test_neg\n",
    "                                      if addr in features_dict[(test_scheme, tf_variant)]]\n",
    "                                          for tf_variant in test_transforms}\n",
    "                \n",
    "                test_data = np.concatenate([np.r_[features_test_pos[(test_scheme,tf_variant)], \n",
    "                                  features_test_neg[(test_scheme,tf_variant)]]\n",
    "                                            for tf_variant in train_transforms])\n",
    "                test_labels = np.concatenate([np.r_[np.ones((len(features_test_pos[(test_scheme,tf_variant)]), )), \n",
    "                                     -np.ones((len(features_test_neg[(test_scheme,tf_variant)]), ))]\n",
    "                                            for tf_variant in train_transforms])\n",
    "                test_metrics = compute_classification_metrics(clf.predict_proba(test_data)[:,1], test_labels)\n",
    "    #             print \"acc@0.5 = %.3f, acc@opt = %.3f, opt_thresh = %.3f, auroc = %.3f, auprc = %.3f\" % \\\n",
    "    #             (test_metrics['acc'][0.5], test_metrics['acc'][test_metrics['opt_thresh']], test_metrics['opt_thresh'], test_metrics['auroc'], test_metrics['auprc'])\n",
    "\n",
    "                test_metrics_all_ntrain[n_train][(test_scheme, 'augment' if augment_training else 'no-augment')].append(test_metrics)\n",
    "\n",
    "    train_metrics_all_ntrain.default_factory = None\n",
    "    test_metrics_all_ntrain.default_factory = None\n",
    "    \n",
    "    plot_result_wrt_ntrain(extract_one_metric(test_metrics_all_ntrain, 'acc', 0.5), ylabel='Test accuracy@0.5 threshold');\n",
    "    plot_result_wrt_ntrain(extract_one_metric(test_metrics_all_ntrain, 'auroc'), ylabel='Area under ROC');\n",
    "\n",
    "    plot_roc_curve(test_metrics_all_ntrain[1000][(test_scheme,\n",
    "                  'no-augment')][0]['fp'], \n",
    "                   test_metrics_all_ntrain[1000][(test_scheme,\n",
    "                  'no-augment')][0]['tp'], \n",
    "                  test_metrics_all_ntrain[1000][(test_scheme,\n",
    "                  'no-augment')][0]['opt_thresh']);\n",
    "    \n",
    "    import uuid\n",
    "\n",
    "    result = {\n",
    "        'n_sections': stack_section_number,\n",
    "        'stain': stack_stain,\n",
    "        'train_stacks': train_stacks,\n",
    "        'test_stacks': test_stacks,\n",
    "        'test_scheme': test_scheme,\n",
    "        'train_scheme': train_scheme,\n",
    "        'train_metrics_all_ntrain': train_metrics_all_ntrain,\n",
    "        'test_metrics_all_ntrain': test_metrics_all_ntrain,\n",
    "        'structure': structure,\n",
    "        'method': method,\n",
    "        'classifier_id': existing_classifier_id if existing_classifier_id is not None else classifier_id\n",
    "    }\n",
    "\n",
    "    create_if_not_exists(ROOT_DIR + '/assessment_results_v4/')\n",
    "    save_pickle(result, ROOT_DIR + '/assessment_results_v4/assessment_result_%s.pkl' % str(uuid.uuid1()).split('-')[0])"
   ]
  },
  {
   "cell_type": "code",
   "execution_count": 37,
   "metadata": {},
   "outputs": [
    {
     "data": {
      "text/plain": [
       "0.8824355850574825"
      ]
     },
     "execution_count": 37,
     "metadata": {},
     "output_type": "execute_result"
    }
   ],
   "source": [
    "np.mean(extract_one_metric(test_metrics_all_ntrain, 'auroc')[15000][('none','no-augment')])"
   ]
  },
  {
   "cell_type": "code",
   "execution_count": null,
   "metadata": {
    "collapsed": true
   },
   "outputs": [],
   "source": [
    "plot_result_wrt_ntrain(extract_one_metric(test_metrics_all_ntrain, 'acc', 0.5), ylabel='Test accuracy@0.5 threshold');\n",
    "plot_result_wrt_ntrain(extract_one_metric(test_metrics_all_ntrain, 'auroc'), ylabel='Area under ROC');"
   ]
  },
  {
   "cell_type": "code",
   "execution_count": null,
   "metadata": {
    "collapsed": true
   },
   "outputs": [],
   "source": []
  }
 ],
 "metadata": {
  "kernelspec": {
   "display_name": "Python 2",
   "language": "python",
   "name": "python2"
  },
  "language_info": {
   "codemirror_mode": {
    "name": "ipython",
    "version": 2
   },
   "file_extension": ".py",
   "mimetype": "text/x-python",
   "name": "python",
   "nbconvert_exporter": "python",
   "pygments_lexer": "ipython2",
   "version": "2.7.12"
  }
 },
 "nbformat": 4,
 "nbformat_minor": 2
}
