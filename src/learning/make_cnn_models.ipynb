{
 "cells": [
  {
   "cell_type": "code",
   "execution_count": 1,
   "metadata": {},
   "outputs": [
    {
     "name": "stderr",
     "output_type": "stream",
     "text": [
      "/usr/local/lib/python2.7/dist-packages/matplotlib/__init__.py:1350: UserWarning:  This call to matplotlib.use() has no effect\n",
      "because the backend has already been chosen;\n",
      "matplotlib.use() must be called *before* pylab, matplotlib.pyplot,\n",
      "or matplotlib.backends is imported for the first time.\n",
      "\n",
      "  warnings.warn(_use_error_msg)\n"
     ]
    },
    {
     "name": "stdout",
     "output_type": "stream",
     "text": [
      "Setting environment for Precision WorkStation\n"
     ]
    },
    {
     "name": "stderr",
     "output_type": "stream",
     "text": [
      "No vtk\n"
     ]
    }
   ],
   "source": [
    "%load_ext autoreload\n",
    "%autoreload 2\n",
    "\n",
    "import sys\n",
    "import os\n",
    "import time\n",
    "\n",
    "import numpy as np\n",
    "import mxnet as mx\n",
    "import matplotlib.pyplot as plt\n",
    "%matplotlib inline\n",
    "\n",
    "sys.path.append(os.environ['REPO_DIR'] + '/utilities')\n",
    "from utilities2015 import *\n",
    "from metadata import *\n",
    "from data_manager import *\n",
    "from learning_utilities import *"
   ]
  },
  {
   "cell_type": "markdown",
   "metadata": {},
   "source": [
    "# Convert to using one channel input"
   ]
  },
  {
   "cell_type": "code",
   "execution_count": 32,
   "metadata": {
    "scrolled": true
   },
   "outputs": [
    {
     "data": {
      "image/png": "[encoded data removed]",
      "text/plain": [
       "<matplotlib.figure.Figure at 0x7fa9d701c690>"
      ]
     },
     "metadata": {},
     "output_type": "display_data"
    },
    {
     "data": {
      "image/png": "[encoded data removed]",
      "text/plain": [
       "<matplotlib.figure.Figure at 0x7fa9d7101f90>"
      ]
     },
     "metadata": {},
     "output_type": "display_data"
    },
    {
     "data": {
      "image/png": "[encoded data removed]",
      "text/plain": [
       "<matplotlib.figure.Figure at 0x7fa9d6c261d0>"
      ]
     },
     "metadata": {},
     "output_type": "display_data"
    }
   ],
   "source": [
    "# Different channels are different. So using only the weights of one channel is ad-hoc.\n",
    "\n",
    "plt.matshow(np.squeeze(init_model.arg_params['conv_1_weight'].asnumpy()[:,[0],:,:])[2], vmin=-2, vmax=2)\n",
    "plt.colorbar();\n",
    "plt.show();\n",
    "\n",
    "plt.matshow(np.squeeze(init_model.arg_params['conv_1_weight'].asnumpy()[:,[1],:,:])[2], vmin=-2, vmax=2)\n",
    "plt.colorbar();\n",
    "plt.show();\n",
    "\n",
    "plt.matshow(np.squeeze(init_model.arg_params['conv_1_weight'].asnumpy()[:,[2],:,:])[2], vmin=-2, vmax=2)\n",
    "plt.colorbar();\n",
    "plt.show();"
   ]
  },
  {
   "cell_type": "markdown",
   "metadata": {},
   "source": [
    "# Inception-BN"
   ]
  },
  {
   "cell_type": "code",
   "execution_count": 6,
   "metadata": {},
   "outputs": [
    {
     "name": "stderr",
     "output_type": "stream",
     "text": [
      "/usr/local/lib/python2.7/dist-packages/mxnet/model.py:901: DeprecationWarning: \u001b[91mmxnet.model.FeedForward has been deprecated. Please use mxnet.mod.Module instead.\u001b[0m\n",
      "  **kwargs)\n",
      "/usr/local/lib/python2.7/dist-packages/ipykernel_launcher.py:28: DeprecationWarning: \u001b[91mmxnet.model.FeedForward has been deprecated. Please use mxnet.mod.Module instead.\u001b[0m\n"
     ]
    }
   ],
   "source": [
    "# In order for input to be saturation channel of patches, only use the blue channel in the first convolution layer.\n",
    "\n",
    "channel = 2\n",
    "\n",
    "model_dir_name = 'inception-bn'\n",
    "model_name = 'Inception-BN'\n",
    "model_iteration = 126\n",
    "\n",
    "output_symbol_name = 'flatten_output'\n",
    "output_dim = 1024\n",
    "\n",
    "init_model = mx.model.FeedForward.load(os.path.join(MXNET_MODEL_ROOTDIR, model_dir_name, model_name), \n",
    "                                       model_iteration, \n",
    "                                       ctx=mx.gpu())\n",
    "\n",
    "arg_params = init_model.arg_params.copy()\n",
    "# arg_params.pop('fc1_bias');\n",
    "# arg_params.pop('fc1_weight');\n",
    "# arg_params['conv_1_weight'] = mx.ndarray.array(init_model.arg_params['conv_1_weight'].asnumpy()[:,[channel],:,:])\n",
    "\n",
    "flatten_output = init_model.symbol.get_internals()[output_symbol_name]\n",
    "\n",
    "net = mx.model.FeedForward(ctx=mx.gpu(), \n",
    "                           symbol=flatten_output, \n",
    "                           num_epoch=0,\n",
    "                           arg_params = arg_params, \n",
    "                           aux_params = init_model.aux_params,\n",
    "                           allow_extra_params = True)"
   ]
  },
  {
   "cell_type": "code",
   "execution_count": 10,
   "metadata": {
    "collapsed": true
   },
   "outputs": [],
   "source": [
    "new_model_dir_name = 'inception-bn-blue'\n",
    "new_model_name = 'inception-bn-blue'\n",
    "model_fp = os.path.join(MXNET_MODEL_ROOTDIR, new_model_dir_name, new_model_name)\n",
    "# create_parent_dir_if_not_exists(model_fp)\n",
    "# net.save(model_fp)"
   ]
  },
  {
   "cell_type": "code",
   "execution_count": 11,
   "metadata": {
    "scrolled": false
   },
   "outputs": [
    {
     "data": {
      "text/plain": [
       "'/home/yuncong/mxnet_models/inception-bn-blue/inception-bn-blue'"
      ]
     },
     "execution_count": 11,
     "metadata": {},
     "output_type": "execute_result"
    }
   ],
   "source": [
    "model_fp"
   ]
  },
  {
   "cell_type": "code",
   "execution_count": 119,
   "metadata": {
    "collapsed": true
   },
   "outputs": [],
   "source": [
    "mean_img = mx.nd.load(os.path.join(MODEL_ROOTDIR, model_dir_name, 'mean_224.nd'))['mean_img'].asnumpy()[channel]\n",
    "np.save(os.path.join(MODEL_ROOTDIR, new_model_dir_name, 'mean_224'), mean_img)"
   ]
  },
  {
   "cell_type": "markdown",
   "metadata": {},
   "source": [
    "# Inception-BN shallow"
   ]
  },
  {
   "cell_type": "code",
   "execution_count": 5,
   "metadata": {},
   "outputs": [
    {
     "name": "stderr",
     "output_type": "stream",
     "text": [
      "/usr/local/lib/python2.7/dist-packages/ipykernel_launcher.py:28: DeprecationWarning: \u001b[91mmxnet.model.FeedForward has been deprecated. Please use mxnet.mod.Module instead.\u001b[0m\n"
     ]
    }
   ],
   "source": [
    "# In order for input to be saturation channel of patches, only use the blue channel in the first convolution layer.\n",
    "\n",
    "channel = 2\n",
    "\n",
    "model_dir_name = 'inception-bn'\n",
    "model_name = 'Inception-BN'\n",
    "model_iteration = 126\n",
    "\n",
    "# output_symbol_name = 'ch_concat_3a_chconcat_output'\n",
    "output_symbol_name = 'pool_2_output'\n",
    "\n",
    "init_model = mx.model.FeedForward.load(os.path.join(MXNET_MODEL_ROOTDIR, model_dir_name, model_name), \n",
    "                                       model_iteration, \n",
    "                                       ctx=mx.gpu())\n",
    "\n",
    "arg_params = init_model.arg_params.copy()\n",
    "arg_params.pop('fc1_bias');\n",
    "arg_params.pop('fc1_weight');\n",
    "arg_params['conv_1_weight'] = mx.ndarray.array(init_model.arg_params['conv_1_weight'].asnumpy()[:,[channel],:,:])\n",
    "\n",
    "flatten_output = init_model.symbol.get_internals()[output_symbol_name]\n",
    "\n",
    "net = mx.model.FeedForward(ctx=mx.gpu(), \n",
    "                           symbol=flatten_output, \n",
    "                           num_epoch=0,\n",
    "                           arg_params = arg_params, \n",
    "                           aux_params = init_model.aux_params,\n",
    "                           allow_extra_params = True)"
   ]
  },
  {
   "cell_type": "code",
   "execution_count": 3,
   "metadata": {},
   "outputs": [
    {
     "name": "stdout",
     "output_type": "stream",
     "text": [
      "aws s3 cp \"/home/yuncong/mxnet_models/inception-bn-3a/inception-bn-3a\" \"s3://mousebrainatlas-data/mxnet_models/inception-bn-3a/inception-bn-3a\"\n"
     ]
    }
   ],
   "source": [
    "# new_model_dir_name = 'inception-bn-3a'\n",
    "# new_model_name = 'inception-bn-3a'\n",
    "\n",
    "model_fp = os.path.join(MXNET_MODEL_ROOTDIR, new_model_dir_name, new_model_name)\n",
    "create_parent_dir_if_not_exists(model_fp)\n",
    "net.save(model_fp)\n",
    "upload_to_s3(model_fp)"
   ]
  },
  {
   "cell_type": "code",
   "execution_count": 4,
   "metadata": {},
   "outputs": [
    {
     "name": "stdout",
     "output_type": "stream",
     "text": [
      "aws s3 cp \"/home/yuncong/mxnet_models/inception-bn-3a/mean_224\" \"s3://mousebrainatlas-data/mxnet_models/inception-bn-3a/mean_224\"\n"
     ]
    }
   ],
   "source": [
    "mean_img = mx.nd.load(os.path.join(MXNET_MODEL_ROOTDIR, model_dir_name, 'mean_224.nd'))['mean_img'].asnumpy()[channel]\n",
    "mean_img_fp = os.path.join(MXNET_MODEL_ROOTDIR, new_model_dir_name, 'mean_224')\n",
    "np.save(mean_img_fp, mean_img)\n",
    "upload_to_s3(mean_img_fp)"
   ]
  },
  {
   "cell_type": "markdown",
   "metadata": {},
   "source": [
    "# inception-bn-blue-softmax"
   ]
  },
  {
   "cell_type": "code",
   "execution_count": 20,
   "metadata": {},
   "outputs": [
    {
     "name": "stdout",
     "output_type": "stream",
     "text": [
      "rm -rf /shared/mxnet_models/inception-bn && mkdir -p /shared/mxnet_models\n",
      "aws s3 cp --recursive s3://mousebrainatlas-data/mxnet_models/inception-bn /shared/mxnet_models/inception-bn\n"
     ]
    },
    {
     "name": "stderr",
     "output_type": "stream",
     "text": [
      "Child returned 0\n",
      "Child returned 0\n",
      "2.13 seconds.\n",
      "/usr/local/lib/python2.7/dist-packages/ipykernel_launcher.py:29: DeprecationWarning: \u001b[91mmxnet.model.FeedForward has been deprecated. Please use mxnet.mod.Module instead.\u001b[0m\n"
     ]
    }
   ],
   "source": [
    "model_dir_name = 'inception-bn'\n",
    "model_name = 'Inception-BN'\n",
    "model_iteration = 126\n",
    "\n",
    "output_symbol_name = 'softmax_output'\n",
    "output_dim = 1024\n",
    "\n",
    "model_dir_fp = os.path.join(MXNET_MODEL_ROOTDIR, model_dir_name)\n",
    "download_from_s3(model_dir_fp, is_dir=True, redownload=True)\n",
    "\n",
    "init_model = mx.model.FeedForward.load(os.path.join(model_dir_fp, model_name), \n",
    "                                       model_iteration, \n",
    "                                       ctx=mx.gpu())\n",
    "\n",
    "arg_params = init_model.arg_params.copy()\n",
    "\n",
    "channel = 2\n",
    "arg_params['conv_1_weight'] = mx.ndarray.array(init_model.arg_params['conv_1_weight'].asnumpy()[:,[channel],:,:])\n",
    "\n",
    "flatten_output = init_model.symbol.get_internals()[output_symbol_name]\n",
    "\n",
    "net = mx.model.FeedForward(ctx=mx.gpu(), \n",
    "                           symbol=flatten_output, \n",
    "                           num_epoch=0,\n",
    "                           arg_params = arg_params, \n",
    "                           aux_params = init_model.aux_params,\n",
    "                           allow_extra_params = True)"
   ]
  },
  {
   "cell_type": "code",
   "execution_count": 21,
   "metadata": {
    "collapsed": true
   },
   "outputs": [],
   "source": [
    "new_model_dir_name = 'inception-bn-blue-softmax'\n",
    "new_model_name = 'inception-bn-blue-softmax'\n",
    "model_fp = os.path.join(MXNET_MODEL_ROOTDIR, new_model_dir_name, new_model_name)\n",
    "create_parent_dir_if_not_exists(model_fp)\n",
    "net.save(model_fp)"
   ]
  },
  {
   "cell_type": "code",
   "execution_count": 22,
   "metadata": {
    "collapsed": true
   },
   "outputs": [],
   "source": [
    "mean_img = mx.nd.load(os.path.join(MXNET_MODEL_ROOTDIR, model_dir_name, 'mean_224.nd'))['mean_img'].asnumpy()[channel]\n",
    "np.save(os.path.join(MXNET_MODEL_ROOTDIR, new_model_dir_name, 'mean_224'), mean_img)"
   ]
  },
  {
   "cell_type": "code",
   "execution_count": 23,
   "metadata": {},
   "outputs": [
    {
     "name": "stdout",
     "output_type": "stream",
     "text": [
      "aws s3 cp --recursive /shared/mxnet_models/inception-bn-blue-softmax s3://mousebrainatlas-data/mxnet_models/inception-bn-blue-softmax\n"
     ]
    },
    {
     "name": "stderr",
     "output_type": "stream",
     "text": [
      "Child returned 0\n",
      "1.94 seconds.\n"
     ]
    }
   ],
   "source": [
    "upload_to_s3(os.path.join(MXNET_MODEL_ROOTDIR, new_model_dir_name), is_dir=True)"
   ]
  },
  {
   "cell_type": "markdown",
   "metadata": {},
   "source": [
    "# VGG"
   ]
  },
  {
   "cell_type": "code",
   "execution_count": 113,
   "metadata": {},
   "outputs": [
    {
     "name": "stderr",
     "output_type": "stream",
     "text": [
      "/usr/local/lib/python2.7/dist-packages/ipykernel/__main__.py:34: DeprecationWarning: \u001b[91mmxnet.model.FeedForward has been deprecated. Please use mxnet.mod.Module instead.\u001b[0m\n"
     ]
    }
   ],
   "source": [
    "# In order for input to be saturation channel of patches, only use the blue channel in the first convolution layer.\n",
    "\n",
    "channel = 2\n",
    "\n",
    "model_dir_name = 'vgg16'\n",
    "model_name = 'vgg16'\n",
    "model_iteration = 0\n",
    "\n",
    "# output_symbol_name = 'flatten_0_output'\n",
    "# output_dim = 25088\n",
    "\n",
    "# output_symbol_name = 'fc6_output'\n",
    "# output_dim = 4096\n",
    "\n",
    "output_symbol_name = 'fc7_output'\n",
    "output_dim = 4096\n",
    "\n",
    "init_model = mx.model.FeedForward.load(os.path.join(MODEL_ROOTDIR, model_dir_name, model_name), \n",
    "                                       model_iteration, \n",
    "                                       ctx=mx.gpu())\n",
    "\n",
    "arg_params = init_model.arg_params.copy()\n",
    "# arg_params.pop('fc8_bias');\n",
    "# arg_params.pop('fc8_weight');\n",
    "arg_params['conv1_1_weight'] = mx.ndarray.array(init_model.arg_params['conv1_1_weight'].asnumpy()[:,[channel],:,:])\n",
    "\n",
    "flatten_output = init_model.symbol.get_internals()[output_symbol_name]\n",
    "\n",
    "net = mx.model.FeedForward(ctx=mx.gpu(), \n",
    "                           symbol=flatten_output, \n",
    "                           num_epoch=0,\n",
    "                           arg_params = arg_params, \n",
    "                           aux_params = init_model.aux_params,\n",
    "                           allow_extra_params = True)"
   ]
  },
  {
   "cell_type": "code",
   "execution_count": 114,
   "metadata": {
    "collapsed": true
   },
   "outputs": [],
   "source": [
    "new_model_dir_name = 'vgg16-blue'\n",
    "new_model_name = 'vgg16-blue'\n",
    "model_fp = os.path.join(MODEL_ROOTDIR, new_model_dir_name, new_model_name)\n",
    "create_parent_dir_if_not_exists(model_fp)\n",
    "net.save(model_fp)"
   ]
  },
  {
   "cell_type": "code",
   "execution_count": 115,
   "metadata": {
    "collapsed": true
   },
   "outputs": [],
   "source": [
    "mean_img = np.load(os.path.join(MODEL_ROOTDIR, model_dir_name, 'vgg_mean.npy'))\n",
    "np.save(os.path.join(MODEL_ROOTDIR, new_model_dir_name, 'vgg_mean.npy'), mean_img[..., channel])"
   ]
  },
  {
   "cell_type": "code",
   "execution_count": null,
   "metadata": {
    "collapsed": true
   },
   "outputs": [],
   "source": [
    "# "
   ]
  },
  {
   "cell_type": "code",
   "execution_count": 120,
   "metadata": {},
   "outputs": [
    {
     "data": {
      "text/plain": [
       "'inception-bn-blue.pdf'"
      ]
     },
     "execution_count": 120,
     "metadata": {},
     "output_type": "execute_result"
    }
   ],
   "source": [
    "# Visualize network topology\n",
    "a = mx.viz.plot_network(init_model.symbol.get_internals()[output_symbol_name], shape={\"data\":(1, 1, 224, 224)}, node_attrs={\"shape\":'rect',\"fixedsize\":'false'})\n",
    "a.render(new_model_name)"
   ]
  },
  {
   "cell_type": "markdown",
   "metadata": {},
   "source": [
    "# finetune"
   ]
  },
  {
   "cell_type": "code",
   "execution_count": 2,
   "metadata": {
    "collapsed": true
   },
   "outputs": [],
   "source": [
    "structures_to_sample = all_known_structures\n",
    "\n",
    "negative_labels_to_sample = [s + '_negative' for s in structures_to_sample]\n",
    "\n",
    "margins_to_sample = [200, 500]\n",
    "surround_labels_to_sample = [convert_to_surround_name(s, margin=m, suffix=surr_l) \n",
    "                             for m in margins_to_sample\n",
    "                             for s in structures_to_sample \n",
    "                             for surr_l in structures_to_sample + ['noclass'] \n",
    "                             if surr_l != s]\n",
    "\n",
    "labels_to_sample = structures_to_sample + negative_labels_to_sample + surround_labels_to_sample + ['noclass']"
   ]
  },
  {
   "cell_type": "code",
   "execution_count": null,
   "metadata": {
    "collapsed": true
   },
   "outputs": [],
   "source": [
    "# initial model\n",
    "\n",
    "model_dir_name = 'inception-bn'\n",
    "model_name = 'Inception-BN'\n",
    "model_iteration = 126\n",
    "\n",
    "init_model = mx.model.FeedForward.load(os.path.join(MODEL_ROOTDIR, model_dir_name, model_name), \n",
    "                                       model_iteration, \n",
    "                                       ctx=mx.gpu())\n",
    "\n",
    "arg_params = init_model.arg_params.copy()\n",
    "arg_params.pop('fc1_bias');\n",
    "arg_params.pop('fc1_weight');\n",
    "arg_params['conv_1_weight'] = mx.ndarray.array(init_model.arg_params['conv_1_weight'].asnumpy()[:,[0],:,:])\n",
    "\n",
    "n_class = len(labels_to_sample)\n",
    "flatten_output = init_model.symbol.get_internals()['flatten_output']\n",
    "fc = mx.symbol.FullyConnected(data=flatten_output, name='fullc', num_hidden=n_class)\n",
    "softmax = mx.symbol.SoftmaxOutput(data=fc, name='softmax')"
   ]
  },
  {
   "cell_type": "code",
   "execution_count": null,
   "metadata": {
    "collapsed": true
   },
   "outputs": [],
   "source": [
    "net = mx.model.FeedForward(ctx=mx.gpu(), \n",
    "                           symbol=softmax, \n",
    "                           num_epoch=n_epoch, optimizer=opt,\n",
    "                           arg_params = arg_params, \n",
    "                           aux_params = init_model.aux_params,\n",
    "                           allow_extra_params = True)"
   ]
  },
  {
   "cell_type": "code",
   "execution_count": null,
   "metadata": {
    "collapsed": true
   },
   "outputs": [],
   "source": []
  },
  {
   "cell_type": "code",
   "execution_count": null,
   "metadata": {
    "collapsed": true
   },
   "outputs": [],
   "source": [
    "n_epoch = 10\n",
    "l_rate = 0.001\n",
    "checkpoint_prefix = os.path.join(MODEL_ROOTDIR, model_dir_name, 'Sat28ClassFinetuned')\n",
    "\n",
    "opt = mx.optimizer.SGD(learning_rate=l_rate)\n",
    "\n",
    "net = mx.model.FeedForward(ctx=mx.gpu(), \n",
    "                           symbol=softmax, \n",
    "                           num_epoch=n_epoch, optimizer=opt,\n",
    "                           arg_params = arg_params, \n",
    "                           aux_params = init_model.aux_params,\n",
    "                           allow_extra_params = True)"
   ]
  },
  {
   "cell_type": "code",
   "execution_count": null,
   "metadata": {
    "collapsed": true
   },
   "outputs": [],
   "source": [
    "dataset = 2"
   ]
  },
  {
   "cell_type": "code",
   "execution_count": null,
   "metadata": {
    "collapsed": true
   },
   "outputs": [],
   "source": [
    "# load training addresses\n",
    "training_addresses = load_pickle(os.path.join(CLF_ROOTDIR, 'datasets', 'dataset_%d' % dataset, 'patch_addresses.pkl'))\n",
    "training_addresses = {l: addrs for l, addrs in training_addresses.iteritems() if l in labels_to_sample}"
   ]
  },
  {
   "cell_type": "code",
   "execution_count": null,
   "metadata": {
    "collapsed": true,
    "scrolled": true
   },
   "outputs": [],
   "source": [
    "training_patches = {label: extract_patches_given_locations_multiple_sections(addresses[:10], \n",
    "                                                            location_or_grid_index='grid_index',\n",
    "                                                           version='compressed')\n",
    "                    for label, addresses in training_addresses.iteritems()}"
   ]
  },
  {
   "cell_type": "code",
   "execution_count": null,
   "metadata": {
    "collapsed": true
   },
   "outputs": [],
   "source": [
    "# Below is half-finished ..."
   ]
  },
  {
   "cell_type": "code",
   "execution_count": null,
   "metadata": {
    "collapsed": true
   },
   "outputs": [],
   "source": [
    "for stack in ['MD642']:\n",
    "\n",
    "    print stack\n",
    "\n",
    "    section_to_filename = metadata_cache['sections_to_filenames'][stack]\n",
    "    anchor_fn = metadata_cache['anchor_fn'][stack]\n",
    "\n",
    "    image_width, image_height = metadata_cache['image_shape'][stack]\n",
    "    grid_spec = (patch_size, stride, image_width, image_height)\n",
    "\n",
    "    sample_locations = grid_parameters_to_sample_locations(grid_spec=grid_spec)\n",
    "\n",
    "    first_detect_sec, last_detect_sec = metadata_cache['section_limits'][stack]\n",
    "\n",
    "    bar = show_progress_bar(first_detect_sec, last_detect_sec)\n",
    "\n",
    "    for sec in range(first_detect_sec, last_detect_sec):\n",
    "        sat = imread(DataManager.get_image_filepath(stack=stack, section=sec, version='saturation'))\n",
    "    \n",
    "\n",
    "        t = time.time()\n",
    "\n",
    "    #         patches = np.array([sat[y-half_size:y+half_size, x-half_size:x+half_size].copy()\n",
    "    #                             for x, y in sample_locations_roi]) # n x 224 x 224\n",
    "\n",
    "        patches = np.array([sat[y-half_size:y+half_size, x-half_size:x+half_size]\n",
    "                            for x, y in sample_locations_roi]) # n x 224 x 224\n",
    "\n",
    "        patches_mean_subtracted = patches - mean_img\n",
    "\n",
    "        patches_mean_subtracted_input = patches_mean_subtracted[:, None, :, :] # n x 1 x 224 x 224\n",
    "        #         patches = np.rollaxis(patches2, 3, 1)\n",
    "\n",
    "        sys.stderr.write('extract, reshape, normalize: %.2f seconds\\n' % (time.time() - t)) # ~ 4s / 20k patches\n",
    "\n",
    "    #         batch_size = 256 # increasing to 500 does not save any time\n",
    "        batch_size = 16 # increasing to 500 does not save any time\n",
    "\n",
    "    data_iter = mx.io.NDArrayIter(\n",
    "        patches_mean_subtracted_input, \n",
    "        np.zeros((n, ), np.int), # labels are not important since it is just feed-forward\n",
    "        batch_size = batch_size,\n",
    "        shuffle=False\n",
    "    )\n",
    "\n",
    "    t = time.time()\n",
    "\n",
    "    features = model.fit(data_iter,\n",
    "                        batch_end_callback=mx.callback.Speedometer(batch_size, 30),\n",
    "                        epoch_end_callback=mx.callback.do_checkpoint(checkpoint_prefix))\n",
    "    net.save(checkpoint_prefix)\n",
    "\n",
    "    sys.stderr.write('predict: %.2f seconds\\n' % (time.time() - t))"
   ]
  }
 ],
 "metadata": {
  "kernelspec": {
   "display_name": "Python 2",
   "language": "python",
   "name": "python2"
  },
  "language_info": {
   "codemirror_mode": {
    "name": "ipython",
    "version": 2
   },
   "file_extension": ".py",
   "mimetype": "text/x-python",
   "name": "python",
   "nbconvert_exporter": "python",
   "pygments_lexer": "ipython2",
   "version": "2.7.12"
  }
 },
 "nbformat": 4,
 "nbformat_minor": 1
}
