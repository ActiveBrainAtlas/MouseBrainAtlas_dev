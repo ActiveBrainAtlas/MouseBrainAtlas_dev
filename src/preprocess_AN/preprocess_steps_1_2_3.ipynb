{
 "cells": [
  {
   "cell_type": "markdown",
   "metadata": {},
   "source": [
    "First, edit your .bashrc file in your home directory and add REPO_DIR='fp/to/this/code'\n",
    "You may have to run in a notebook cell as well something like: os.environ['REPO_DIR'] = '/home/alexn/brainDev'"
   ]
  },
  {
   "cell_type": "code",
   "execution_count": 32,
   "metadata": {
    "scrolled": true
   },
   "outputs": [
    {
     "name": "stdout",
     "output_type": "stream",
     "text": [
      "Setting environment for Precision WorkStation for Alex Newberry\n"
     ]
    },
    {
     "name": "stderr",
     "output_type": "stream",
     "text": [
      "rm -rf \"/data/media/alexn/BstemAtlasDataBackup/CSHL_data_processed/MD585/MD585_alignedTo_MD585-N47-2015.07.16-22.50.52_MD585_3_0141_cropbox.txt\" && mkdir -p \"/data/media/alexn/BstemAtlasDataBackup/CSHL_data_processed/MD585\"\n",
      "return code: 0\n",
      "aws s3 cp \"s3://mousebrainatlas-data/media/alexn/BstemAtlasDataBackup/CSHL_data_processed/MD585/MD585_alignedTo_MD585-N47-2015.07.16-22.50.52_MD585_3_0141_cropbox.txt\" \"/data/media/alexn/BstemAtlasDataBackup/CSHL_data_processed/MD585/MD585_alignedTo_MD585-N47-2015.07.16-22.50.52_MD585_3_0141_cropbox.txt\"\n",
      "return code: 1\n",
      "rm -rf \"/data/media/alexn/BstemAtlasDataBackup/CSHL_data_processed/MD589/MD589_alignedTo_MD589-IHC31-2015.07.30-23.26.22_MD589_1_0091_cropbox.txt\" && mkdir -p \"/data/media/alexn/BstemAtlasDataBackup/CSHL_data_processed/MD589\"\n",
      "return code: 0\n",
      "aws s3 cp \"s3://mousebrainatlas-data/media/alexn/BstemAtlasDataBackup/CSHL_data_processed/MD589/MD589_alignedTo_MD589-IHC31-2015.07.30-23.26.22_MD589_1_0091_cropbox.txt\" \"/data/media/alexn/BstemAtlasDataBackup/CSHL_data_processed/MD589/MD589_alignedTo_MD589-IHC31-2015.07.30-23.26.22_MD589_1_0091_cropbox.txt\"\n",
      "return code: 1\n",
      "rm -rf \"/data/media/alexn/BstemAtlasDataBackup/CSHL_data_processed/MD590/MD590_alignedTo_MD590-N47-2015.09.12-05.32.06_MD590_2_0140_cropbox.txt\" && mkdir -p \"/data/media/alexn/BstemAtlasDataBackup/CSHL_data_processed/MD590\"\n",
      "return code: 0\n",
      "aws s3 cp \"s3://mousebrainatlas-data/media/alexn/BstemAtlasDataBackup/CSHL_data_processed/MD590/MD590_alignedTo_MD590-N47-2015.09.12-05.32.06_MD590_2_0140_cropbox.txt\" \"/data/media/alexn/BstemAtlasDataBackup/CSHL_data_processed/MD590/MD590_alignedTo_MD590-N47-2015.09.12-05.32.06_MD590_2_0140_cropbox.txt\"\n",
      "return code: 1\n",
      "rm -rf \"/data/media/alexn/BstemAtlasDataBackup/CSHL_data_processed/MD591/MD591_alignedTo_MD591-N57-2015.09.21-17.13.29_MD591_1_0169_cropbox.txt\" && mkdir -p \"/data/media/alexn/BstemAtlasDataBackup/CSHL_data_processed/MD591\"\n",
      "return code: 0\n",
      "aws s3 cp \"s3://mousebrainatlas-data/media/alexn/BstemAtlasDataBackup/CSHL_data_processed/MD591/MD591_alignedTo_MD591-N57-2015.09.21-17.13.29_MD591_1_0169_cropbox.txt\" \"/data/media/alexn/BstemAtlasDataBackup/CSHL_data_processed/MD591/MD591_alignedTo_MD591-N57-2015.09.21-17.13.29_MD591_1_0169_cropbox.txt\"\n",
      "return code: 1\n",
      "rm -rf \"/data/media/alexn/BstemAtlasDataBackup/CSHL_data_processed/MD592/MD592_alignedTo_MD592-IHC59-2015.08.26-00.06.25_MD592_2_0176_cropbox.txt\" && mkdir -p \"/data/media/alexn/BstemAtlasDataBackup/CSHL_data_processed/MD592\"\n",
      "return code: 0\n",
      "aws s3 cp \"s3://mousebrainatlas-data/media/alexn/BstemAtlasDataBackup/CSHL_data_processed/MD592/MD592_alignedTo_MD592-IHC59-2015.08.26-00.06.25_MD592_2_0176_cropbox.txt\" \"/data/media/alexn/BstemAtlasDataBackup/CSHL_data_processed/MD592/MD592_alignedTo_MD592-IHC59-2015.08.26-00.06.25_MD592_2_0176_cropbox.txt\"\n",
      "return code: 1\n",
      "rm -rf \"/data/media/alexn/BstemAtlasDataBackup/CSHL_data_processed/MD593/MD593_alignedTo_MD593-IHC54-2015.08.25-17.40.32_MD593_2_0161_cropbox.txt\" && mkdir -p \"/data/media/alexn/BstemAtlasDataBackup/CSHL_data_processed/MD593\"\n",
      "return code: 0\n",
      "aws s3 cp \"s3://mousebrainatlas-data/media/alexn/BstemAtlasDataBackup/CSHL_data_processed/MD593/MD593_alignedTo_MD593-IHC54-2015.08.25-17.40.32_MD593_2_0161_cropbox.txt\" \"/data/media/alexn/BstemAtlasDataBackup/CSHL_data_processed/MD593/MD593_alignedTo_MD593-IHC54-2015.08.25-17.40.32_MD593_2_0161_cropbox.txt\"\n",
      "return code: 1\n",
      "rm -rf \"/data/media/alexn/BstemAtlasDataBackup/CSHL_data_processed/MD594/MD594_alignedTo_MD594-IHC58-2015.08.26-18.48.50_MD594_1_0172_cropbox.txt\" && mkdir -p \"/data/media/alexn/BstemAtlasDataBackup/CSHL_data_processed/MD594\"\n",
      "return code: 0\n",
      "aws s3 cp \"s3://mousebrainatlas-data/media/alexn/BstemAtlasDataBackup/CSHL_data_processed/MD594/MD594_alignedTo_MD594-IHC58-2015.08.26-18.48.50_MD594_1_0172_cropbox.txt\" \"/data/media/alexn/BstemAtlasDataBackup/CSHL_data_processed/MD594/MD594_alignedTo_MD594-IHC58-2015.08.26-18.48.50_MD594_1_0172_cropbox.txt\"\n",
      "return code: 1\n",
      "rm -rf \"/data/media/alexn/BstemAtlasDataBackup/CSHL_data_processed/MD595/MD595_alignedTo_MD595-IHC48-2015.09.15-18.38.44_MD595_1_0142_cropbox.txt\" && mkdir -p \"/data/media/alexn/BstemAtlasDataBackup/CSHL_data_processed/MD595\"\n",
      "return code: 0\n",
      "aws s3 cp \"s3://mousebrainatlas-data/media/alexn/BstemAtlasDataBackup/CSHL_data_processed/MD595/MD595_alignedTo_MD595-IHC48-2015.09.15-18.38.44_MD595_1_0142_cropbox.txt\" \"/data/media/alexn/BstemAtlasDataBackup/CSHL_data_processed/MD595/MD595_alignedTo_MD595-IHC48-2015.09.15-18.38.44_MD595_1_0142_cropbox.txt\"\n",
      "return code: 1\n",
      "rm -rf \"/data/media/alexn/BstemAtlasDataBackup/CSHL_data_processed/MD598/MD598_alignedTo_MD598-N42-2015.09.29-19.26.12_MD598_2_0125_cropbox.txt\" && mkdir -p \"/data/media/alexn/BstemAtlasDataBackup/CSHL_data_processed/MD598\"\n",
      "return code: 0\n",
      "aws s3 cp \"s3://mousebrainatlas-data/media/alexn/BstemAtlasDataBackup/CSHL_data_processed/MD598/MD598_alignedTo_MD598-N42-2015.09.29-19.26.12_MD598_2_0125_cropbox.txt\" \"/data/media/alexn/BstemAtlasDataBackup/CSHL_data_processed/MD598/MD598_alignedTo_MD598-N42-2015.09.29-19.26.12_MD598_2_0125_cropbox.txt\"\n",
      "return code: 1\n",
      "rm -rf \"/data/media/alexn/BstemAtlasDataBackup/CSHL_data_processed/MD599/MD599_alignedTo_MD599-IHC40-2015.10.03-06.04.31_MD599_2_0119_cropbox.txt\" && mkdir -p \"/data/media/alexn/BstemAtlasDataBackup/CSHL_data_processed/MD599\"\n",
      "return code: 0\n",
      "aws s3 cp \"s3://mousebrainatlas-data/media/alexn/BstemAtlasDataBackup/CSHL_data_processed/MD599/MD599_alignedTo_MD599-IHC40-2015.10.03-06.04.31_MD599_2_0119_cropbox.txt\" \"/data/media/alexn/BstemAtlasDataBackup/CSHL_data_processed/MD599/MD599_alignedTo_MD599-IHC40-2015.10.03-06.04.31_MD599_2_0119_cropbox.txt\"\n",
      "return code: 1\n",
      "rm -rf \"/data/media/alexn/BstemAtlasDataBackup/CSHL_data_processed/MD602/MD602_alignedTo_MD602-N49-2015.12.01-18.41.46_MD602_2_0146_cropbox.txt\" && mkdir -p \"/data/media/alexn/BstemAtlasDataBackup/CSHL_data_processed/MD602\"\n",
      "return code: 0\n",
      "aws s3 cp \"s3://mousebrainatlas-data/media/alexn/BstemAtlasDataBackup/CSHL_data_processed/MD602/MD602_alignedTo_MD602-N49-2015.12.01-18.41.46_MD602_2_0146_cropbox.txt\" \"/data/media/alexn/BstemAtlasDataBackup/CSHL_data_processed/MD602/MD602_alignedTo_MD602-N49-2015.12.01-18.41.46_MD602_2_0146_cropbox.txt\"\n",
      "return code: 1\n",
      "rm -rf \"/data/media/alexn/BstemAtlasDataBackup/CSHL_data_processed/MD603/MD603_alignedTo_MD603-N60-2015.12.03-23.57.05_MD603_2_0179_cropbox.txt\" && mkdir -p \"/data/media/alexn/BstemAtlasDataBackup/CSHL_data_processed/MD603\"\n",
      "return code: 0\n",
      "aws s3 cp \"s3://mousebrainatlas-data/media/alexn/BstemAtlasDataBackup/CSHL_data_processed/MD603/MD603_alignedTo_MD603-N60-2015.12.03-23.57.05_MD603_2_0179_cropbox.txt\" \"/data/media/alexn/BstemAtlasDataBackup/CSHL_data_processed/MD603/MD603_alignedTo_MD603-N60-2015.12.03-23.57.05_MD603_2_0179_cropbox.txt\"\n",
      "return code: 1\n",
      "rm -rf \"/data/media/alexn/BstemAtlasDataBackup/CSHL_data_processed/MD635/MD635_alignedTo_MD635-F63-2016.05.19-08.39.03_MD635_2_0188_cropbox.txt\" && mkdir -p \"/data/media/alexn/BstemAtlasDataBackup/CSHL_data_processed/MD635\"\n",
      "return code: 0\n",
      "aws s3 cp \"s3://mousebrainatlas-data/media/alexn/BstemAtlasDataBackup/CSHL_data_processed/MD635/MD635_alignedTo_MD635-F63-2016.05.19-08.39.03_MD635_2_0188_cropbox.txt\" \"/data/media/alexn/BstemAtlasDataBackup/CSHL_data_processed/MD635/MD635_alignedTo_MD635-F63-2016.05.19-08.39.03_MD635_2_0188_cropbox.txt\"\n",
      "return code: 1\n",
      "rm -rf \"/data/media/alexn/BstemAtlasDataBackup/CSHL_data_processed/MD653/MD653_alignedTo_MD653-F64-2016.12.21-12.03.55_MD653_2_0191_cropbox.txt\" && mkdir -p \"/data/media/alexn/BstemAtlasDataBackup/CSHL_data_processed/MD653\"\n",
      "return code: 0\n",
      "aws s3 cp \"s3://mousebrainatlas-data/media/alexn/BstemAtlasDataBackup/CSHL_data_processed/MD653/MD653_alignedTo_MD653-F64-2016.12.21-12.03.55_MD653_2_0191_cropbox.txt\" \"/data/media/alexn/BstemAtlasDataBackup/CSHL_data_processed/MD653/MD653_alignedTo_MD653-F64-2016.12.21-12.03.55_MD653_2_0191_cropbox.txt\"\n",
      "return code: 1\n",
      "rm -rf \"/data/media/alexn/BstemAtlasDataBackup/CSHL_data_processed/MD652/MD652_alignedTo_MD652-F45-2016.12.17-05.56.31_MD652_2_0134_cropbox.txt\" && mkdir -p \"/data/media/alexn/BstemAtlasDataBackup/CSHL_data_processed/MD652\"\n",
      "return code: 0\n",
      "aws s3 cp \"s3://mousebrainatlas-data/media/alexn/BstemAtlasDataBackup/CSHL_data_processed/MD652/MD652_alignedTo_MD652-F45-2016.12.17-05.56.31_MD652_2_0134_cropbox.txt\" \"/data/media/alexn/BstemAtlasDataBackup/CSHL_data_processed/MD652/MD652_alignedTo_MD652-F45-2016.12.17-05.56.31_MD652_2_0134_cropbox.txt\"\n"
     ]
    },
    {
     "name": "stderr",
     "output_type": "stream",
     "text": [
      "return code: 1\n",
      "rm -rf \"/data/media/alexn/BstemAtlasDataBackup/CSHL_data_processed/MD642/MD642_alignedTo_MD642-F53-2017.01.14-12.23.43_MD642_1_0157_cropbox.txt\" && mkdir -p \"/data/media/alexn/BstemAtlasDataBackup/CSHL_data_processed/MD642\"\n",
      "return code: 0\n",
      "aws s3 cp \"s3://mousebrainatlas-data/media/alexn/BstemAtlasDataBackup/CSHL_data_processed/MD642/MD642_alignedTo_MD642-F53-2017.01.14-12.23.43_MD642_1_0157_cropbox.txt\" \"/data/media/alexn/BstemAtlasDataBackup/CSHL_data_processed/MD642/MD642_alignedTo_MD642-F53-2017.01.14-12.23.43_MD642_1_0157_cropbox.txt\"\n",
      "return code: 1\n",
      "rm -rf \"/data/media/alexn/BstemAtlasDataBackup/CSHL_data_processed/MD657/MD657_alignedTo_MD657-F44-2017.02.18-06.06.27_MD657_1_0130_cropbox.txt\" && mkdir -p \"/data/media/alexn/BstemAtlasDataBackup/CSHL_data_processed/MD657\"\n",
      "return code: 0\n",
      "aws s3 cp \"s3://mousebrainatlas-data/media/alexn/BstemAtlasDataBackup/CSHL_data_processed/MD657/MD657_alignedTo_MD657-F44-2017.02.18-06.06.27_MD657_1_0130_cropbox.txt\" \"/data/media/alexn/BstemAtlasDataBackup/CSHL_data_processed/MD657/MD657_alignedTo_MD657-F44-2017.02.18-06.06.27_MD657_1_0130_cropbox.txt\"\n",
      "return code: 1\n",
      "rm -rf \"/data/media/alexn/BstemAtlasDataBackup/CSHL_data_processed/MD658/MD658_alignedTo_MD658-N58-2017.03.31-19.59.31_MD658_2_0173_cropbox.txt\" && mkdir -p \"/data/media/alexn/BstemAtlasDataBackup/CSHL_data_processed/MD658\"\n",
      "return code: 0\n",
      "aws s3 cp \"s3://mousebrainatlas-data/media/alexn/BstemAtlasDataBackup/CSHL_data_processed/MD658/MD658_alignedTo_MD658-N58-2017.03.31-19.59.31_MD658_2_0173_cropbox.txt\" \"/data/media/alexn/BstemAtlasDataBackup/CSHL_data_processed/MD658/MD658_alignedTo_MD658-N58-2017.03.31-19.59.31_MD658_2_0173_cropbox.txt\"\n",
      "return code: 1\n",
      "rm -rf \"/data/media/alexn/BstemAtlasDataBackup/CSHL_data_processed/MD661/MD661_alignedTo_MD662&661-F116-2017.06.07-04.39.41_MD661_1_0346_cropbox.txt\" && mkdir -p \"/data/media/alexn/BstemAtlasDataBackup/CSHL_data_processed/MD661\"\n",
      "return code: 0\n",
      "aws s3 cp \"s3://mousebrainatlas-data/media/alexn/BstemAtlasDataBackup/CSHL_data_processed/MD661/MD661_alignedTo_MD662&661-F116-2017.06.07-04.39.41_MD661_1_0346_cropbox.txt\" \"/data/media/alexn/BstemAtlasDataBackup/CSHL_data_processed/MD661/MD661_alignedTo_MD662&661-F116-2017.06.07-04.39.41_MD661_1_0346_cropbox.txt\"\n",
      "return code: 1\n",
      "rm -rf \"/data/media/alexn/BstemAtlasDataBackup/CSHL_data_processed/CHATM2/CHATM2_alignedTo_CHATM2_slide62_2018_02_14-S1_cropbox.txt\" && mkdir -p \"/data/media/alexn/BstemAtlasDataBackup/CSHL_data_processed/CHATM2\"\n",
      "return code: 0\n",
      "aws s3 cp \"s3://mousebrainatlas-data/media/alexn/BstemAtlasDataBackup/CSHL_data_processed/CHATM2/CHATM2_alignedTo_CHATM2_slide62_2018_02_14-S1_cropbox.txt\" \"/data/media/alexn/BstemAtlasDataBackup/CSHL_data_processed/CHATM2/CHATM2_alignedTo_CHATM2_slide62_2018_02_14-S1_cropbox.txt\"\n",
      "return code: 1\n",
      "rm -rf \"/data/media/alexn/BstemAtlasDataBackup/CSHL_data_processed/CHATM3/CHATM3_alignedTo_CHATM3_slide77_2018_01_26-S1_cropbox.txt\" && mkdir -p \"/data/media/alexn/BstemAtlasDataBackup/CSHL_data_processed/CHATM3\"\n",
      "return code: 0\n",
      "aws s3 cp \"s3://mousebrainatlas-data/media/alexn/BstemAtlasDataBackup/CSHL_data_processed/CHATM3/CHATM3_alignedTo_CHATM3_slide77_2018_01_26-S1_cropbox.txt\" \"/data/media/alexn/BstemAtlasDataBackup/CSHL_data_processed/CHATM3/CHATM3_alignedTo_CHATM3_slide77_2018_01_26-S1_cropbox.txt\"\n",
      "return code: 1\n",
      "rm -rf \"/data/media/alexn/BstemAtlasDataBackup/CSHL_data_processed/MD585/MD585_alignedTo_MD585-N47-2015.07.16-22.50.52_MD585_3_0141_prep2_sectionLimits.json\" && mkdir -p \"/data/media/alexn/BstemAtlasDataBackup/CSHL_data_processed/MD585\"\n",
      "return code: 0\n",
      "aws s3 cp \"s3://mousebrainatlas-data/media/alexn/BstemAtlasDataBackup/CSHL_data_processed/MD585/MD585_alignedTo_MD585-N47-2015.07.16-22.50.52_MD585_3_0141_prep2_sectionLimits.json\" \"/data/media/alexn/BstemAtlasDataBackup/CSHL_data_processed/MD585/MD585_alignedTo_MD585-N47-2015.07.16-22.50.52_MD585_3_0141_prep2_sectionLimits.json\"\n",
      "return code: 1\n",
      "rm -rf \"/data/media/alexn/BstemAtlasDataBackup/CSHL_data_processed/MD589/MD589_alignedTo_MD589-IHC31-2015.07.30-23.26.22_MD589_1_0091_prep2_sectionLimits.json\" && mkdir -p \"/data/media/alexn/BstemAtlasDataBackup/CSHL_data_processed/MD589\"\n",
      "return code: 0\n",
      "aws s3 cp \"s3://mousebrainatlas-data/media/alexn/BstemAtlasDataBackup/CSHL_data_processed/MD589/MD589_alignedTo_MD589-IHC31-2015.07.30-23.26.22_MD589_1_0091_prep2_sectionLimits.json\" \"/data/media/alexn/BstemAtlasDataBackup/CSHL_data_processed/MD589/MD589_alignedTo_MD589-IHC31-2015.07.30-23.26.22_MD589_1_0091_prep2_sectionLimits.json\"\n"
     ]
    },
    {
     "name": "stdout",
     "output_type": "stream",
     "text": [
      "An exception of type IOError occurred setting metadata_cache parameter section_limits. Arguments:\n",
      "(2, 'No such file or directory')\n",
      "Failed for MD585\n",
      "KEY ERROR ADN 999111\n"
     ]
    },
    {
     "name": "stderr",
     "output_type": "stream",
     "text": [
      "return code: 1\n",
      "rm -rf \"/data/media/alexn/BstemAtlasDataBackup/CSHL_data_processed/MD590/MD590_alignedTo_MD590-N47-2015.09.12-05.32.06_MD590_2_0140_prep2_sectionLimits.json\" && mkdir -p \"/data/media/alexn/BstemAtlasDataBackup/CSHL_data_processed/MD590\"\n",
      "return code: 0\n",
      "aws s3 cp \"s3://mousebrainatlas-data/media/alexn/BstemAtlasDataBackup/CSHL_data_processed/MD590/MD590_alignedTo_MD590-N47-2015.09.12-05.32.06_MD590_2_0140_prep2_sectionLimits.json\" \"/data/media/alexn/BstemAtlasDataBackup/CSHL_data_processed/MD590/MD590_alignedTo_MD590-N47-2015.09.12-05.32.06_MD590_2_0140_prep2_sectionLimits.json\"\n"
     ]
    },
    {
     "name": "stdout",
     "output_type": "stream",
     "text": [
      "An exception of type IOError occurred setting metadata_cache parameter section_limits. Arguments:\n",
      "(2, 'No such file or directory')\n",
      "Failed for MD589\n",
      "KEY ERROR ADN 999111\n"
     ]
    },
    {
     "name": "stderr",
     "output_type": "stream",
     "text": [
      "return code: 1\n",
      "rm -rf \"/data/media/alexn/BstemAtlasDataBackup/CSHL_data_processed/MD591/MD591_alignedTo_MD591-N57-2015.09.21-17.13.29_MD591_1_0169_prep2_sectionLimits.json\" && mkdir -p \"/data/media/alexn/BstemAtlasDataBackup/CSHL_data_processed/MD591\"\n",
      "return code: 0\n",
      "aws s3 cp \"s3://mousebrainatlas-data/media/alexn/BstemAtlasDataBackup/CSHL_data_processed/MD591/MD591_alignedTo_MD591-N57-2015.09.21-17.13.29_MD591_1_0169_prep2_sectionLimits.json\" \"/data/media/alexn/BstemAtlasDataBackup/CSHL_data_processed/MD591/MD591_alignedTo_MD591-N57-2015.09.21-17.13.29_MD591_1_0169_prep2_sectionLimits.json\"\n"
     ]
    },
    {
     "name": "stdout",
     "output_type": "stream",
     "text": [
      "An exception of type IOError occurred setting metadata_cache parameter section_limits. Arguments:\n",
      "(2, 'No such file or directory')\n",
      "Failed for MD590\n",
      "KEY ERROR ADN 999111\n"
     ]
    },
    {
     "name": "stderr",
     "output_type": "stream",
     "text": [
      "return code: 1\n",
      "rm -rf \"/data/media/alexn/BstemAtlasDataBackup/CSHL_data_processed/MD592/MD592_alignedTo_MD592-IHC59-2015.08.26-00.06.25_MD592_2_0176_prep2_sectionLimits.json\" && mkdir -p \"/data/media/alexn/BstemAtlasDataBackup/CSHL_data_processed/MD592\"\n",
      "return code: 0\n",
      "aws s3 cp \"s3://mousebrainatlas-data/media/alexn/BstemAtlasDataBackup/CSHL_data_processed/MD592/MD592_alignedTo_MD592-IHC59-2015.08.26-00.06.25_MD592_2_0176_prep2_sectionLimits.json\" \"/data/media/alexn/BstemAtlasDataBackup/CSHL_data_processed/MD592/MD592_alignedTo_MD592-IHC59-2015.08.26-00.06.25_MD592_2_0176_prep2_sectionLimits.json\"\n"
     ]
    },
    {
     "name": "stdout",
     "output_type": "stream",
     "text": [
      "An exception of type IOError occurred setting metadata_cache parameter section_limits. Arguments:\n",
      "(2, 'No such file or directory')\n",
      "Failed for MD591\n",
      "KEY ERROR ADN 999111\n"
     ]
    },
    {
     "name": "stderr",
     "output_type": "stream",
     "text": [
      "return code: 1\n",
      "rm -rf \"/data/media/alexn/BstemAtlasDataBackup/CSHL_data_processed/MD593/MD593_alignedTo_MD593-IHC54-2015.08.25-17.40.32_MD593_2_0161_prep2_sectionLimits.json\" && mkdir -p \"/data/media/alexn/BstemAtlasDataBackup/CSHL_data_processed/MD593\"\n",
      "return code: 0\n",
      "aws s3 cp \"s3://mousebrainatlas-data/media/alexn/BstemAtlasDataBackup/CSHL_data_processed/MD593/MD593_alignedTo_MD593-IHC54-2015.08.25-17.40.32_MD593_2_0161_prep2_sectionLimits.json\" \"/data/media/alexn/BstemAtlasDataBackup/CSHL_data_processed/MD593/MD593_alignedTo_MD593-IHC54-2015.08.25-17.40.32_MD593_2_0161_prep2_sectionLimits.json\"\n"
     ]
    },
    {
     "name": "stdout",
     "output_type": "stream",
     "text": [
      "An exception of type IOError occurred setting metadata_cache parameter section_limits. Arguments:\n",
      "(2, 'No such file or directory')\n",
      "Failed for MD592\n",
      "KEY ERROR ADN 999111\n"
     ]
    },
    {
     "name": "stderr",
     "output_type": "stream",
     "text": [
      "return code: 1\n",
      "rm -rf \"/data/media/alexn/BstemAtlasDataBackup/CSHL_data_processed/MD594/MD594_alignedTo_MD594-IHC58-2015.08.26-18.48.50_MD594_1_0172_prep2_sectionLimits.json\" && mkdir -p \"/data/media/alexn/BstemAtlasDataBackup/CSHL_data_processed/MD594\"\n",
      "return code: 0\n",
      "aws s3 cp \"s3://mousebrainatlas-data/media/alexn/BstemAtlasDataBackup/CSHL_data_processed/MD594/MD594_alignedTo_MD594-IHC58-2015.08.26-18.48.50_MD594_1_0172_prep2_sectionLimits.json\" \"/data/media/alexn/BstemAtlasDataBackup/CSHL_data_processed/MD594/MD594_alignedTo_MD594-IHC58-2015.08.26-18.48.50_MD594_1_0172_prep2_sectionLimits.json\"\n"
     ]
    },
    {
     "name": "stdout",
     "output_type": "stream",
     "text": [
      "An exception of type IOError occurred setting metadata_cache parameter section_limits. Arguments:\n",
      "(2, 'No such file or directory')\n",
      "Failed for MD593\n",
      "KEY ERROR ADN 999111\n"
     ]
    },
    {
     "name": "stderr",
     "output_type": "stream",
     "text": [
      "return code: 1\n",
      "rm -rf \"/data/media/alexn/BstemAtlasDataBackup/CSHL_data_processed/MD595/MD595_alignedTo_MD595-IHC48-2015.09.15-18.38.44_MD595_1_0142_prep2_sectionLimits.json\" && mkdir -p \"/data/media/alexn/BstemAtlasDataBackup/CSHL_data_processed/MD595\"\n",
      "return code: 0\n",
      "aws s3 cp \"s3://mousebrainatlas-data/media/alexn/BstemAtlasDataBackup/CSHL_data_processed/MD595/MD595_alignedTo_MD595-IHC48-2015.09.15-18.38.44_MD595_1_0142_prep2_sectionLimits.json\" \"/data/media/alexn/BstemAtlasDataBackup/CSHL_data_processed/MD595/MD595_alignedTo_MD595-IHC48-2015.09.15-18.38.44_MD595_1_0142_prep2_sectionLimits.json\"\n"
     ]
    },
    {
     "name": "stdout",
     "output_type": "stream",
     "text": [
      "An exception of type IOError occurred setting metadata_cache parameter section_limits. Arguments:\n",
      "(2, 'No such file or directory')\n",
      "Failed for MD594\n",
      "KEY ERROR ADN 999111\n"
     ]
    },
    {
     "name": "stderr",
     "output_type": "stream",
     "text": [
      "return code: 1\n",
      "rm -rf \"/data/media/alexn/BstemAtlasDataBackup/CSHL_data_processed/MD598/MD598_alignedTo_MD598-N42-2015.09.29-19.26.12_MD598_2_0125_prep2_sectionLimits.json\" && mkdir -p \"/data/media/alexn/BstemAtlasDataBackup/CSHL_data_processed/MD598\"\n",
      "return code: 0\n",
      "aws s3 cp \"s3://mousebrainatlas-data/media/alexn/BstemAtlasDataBackup/CSHL_data_processed/MD598/MD598_alignedTo_MD598-N42-2015.09.29-19.26.12_MD598_2_0125_prep2_sectionLimits.json\" \"/data/media/alexn/BstemAtlasDataBackup/CSHL_data_processed/MD598/MD598_alignedTo_MD598-N42-2015.09.29-19.26.12_MD598_2_0125_prep2_sectionLimits.json\"\n"
     ]
    },
    {
     "name": "stdout",
     "output_type": "stream",
     "text": [
      "An exception of type IOError occurred setting metadata_cache parameter section_limits. Arguments:\n",
      "(2, 'No such file or directory')\n",
      "Failed for MD595\n",
      "KEY ERROR ADN 999111\n"
     ]
    },
    {
     "name": "stderr",
     "output_type": "stream",
     "text": [
      "return code: 1\n",
      "rm -rf \"/data/media/alexn/BstemAtlasDataBackup/CSHL_data_processed/MD599/MD599_alignedTo_MD599-IHC40-2015.10.03-06.04.31_MD599_2_0119_prep2_sectionLimits.json\" && mkdir -p \"/data/media/alexn/BstemAtlasDataBackup/CSHL_data_processed/MD599\"\n",
      "return code: 0\n",
      "aws s3 cp \"s3://mousebrainatlas-data/media/alexn/BstemAtlasDataBackup/CSHL_data_processed/MD599/MD599_alignedTo_MD599-IHC40-2015.10.03-06.04.31_MD599_2_0119_prep2_sectionLimits.json\" \"/data/media/alexn/BstemAtlasDataBackup/CSHL_data_processed/MD599/MD599_alignedTo_MD599-IHC40-2015.10.03-06.04.31_MD599_2_0119_prep2_sectionLimits.json\"\n"
     ]
    },
    {
     "name": "stdout",
     "output_type": "stream",
     "text": [
      "An exception of type IOError occurred setting metadata_cache parameter section_limits. Arguments:\n",
      "(2, 'No such file or directory')\n",
      "Failed for MD598\n",
      "KEY ERROR ADN 999111\n"
     ]
    },
    {
     "name": "stderr",
     "output_type": "stream",
     "text": [
      "return code: 1\n",
      "rm -rf \"/data/media/alexn/BstemAtlasDataBackup/CSHL_data_processed/MD602/MD602_alignedTo_MD602-N49-2015.12.01-18.41.46_MD602_2_0146_prep2_sectionLimits.json\" && mkdir -p \"/data/media/alexn/BstemAtlasDataBackup/CSHL_data_processed/MD602\"\n",
      "return code: 0\n",
      "aws s3 cp \"s3://mousebrainatlas-data/media/alexn/BstemAtlasDataBackup/CSHL_data_processed/MD602/MD602_alignedTo_MD602-N49-2015.12.01-18.41.46_MD602_2_0146_prep2_sectionLimits.json\" \"/data/media/alexn/BstemAtlasDataBackup/CSHL_data_processed/MD602/MD602_alignedTo_MD602-N49-2015.12.01-18.41.46_MD602_2_0146_prep2_sectionLimits.json\"\n"
     ]
    },
    {
     "name": "stdout",
     "output_type": "stream",
     "text": [
      "An exception of type IOError occurred setting metadata_cache parameter section_limits. Arguments:\n",
      "(2, 'No such file or directory')\n",
      "Failed for MD599\n",
      "KEY ERROR ADN 999111\n"
     ]
    },
    {
     "name": "stderr",
     "output_type": "stream",
     "text": [
      "return code: 1\n",
      "rm -rf \"/data/media/alexn/BstemAtlasDataBackup/CSHL_data_processed/MD603/MD603_alignedTo_MD603-N60-2015.12.03-23.57.05_MD603_2_0179_prep2_sectionLimits.json\" && mkdir -p \"/data/media/alexn/BstemAtlasDataBackup/CSHL_data_processed/MD603\"\n",
      "return code: 0\n",
      "aws s3 cp \"s3://mousebrainatlas-data/media/alexn/BstemAtlasDataBackup/CSHL_data_processed/MD603/MD603_alignedTo_MD603-N60-2015.12.03-23.57.05_MD603_2_0179_prep2_sectionLimits.json\" \"/data/media/alexn/BstemAtlasDataBackup/CSHL_data_processed/MD603/MD603_alignedTo_MD603-N60-2015.12.03-23.57.05_MD603_2_0179_prep2_sectionLimits.json\"\n"
     ]
    },
    {
     "name": "stdout",
     "output_type": "stream",
     "text": [
      "An exception of type IOError occurred setting metadata_cache parameter section_limits. Arguments:\n",
      "(2, 'No such file or directory')\n",
      "Failed for MD602\n",
      "KEY ERROR ADN 999111\n"
     ]
    },
    {
     "name": "stderr",
     "output_type": "stream",
     "text": [
      "return code: 1\n",
      "rm -rf \"/data/media/alexn/BstemAtlasDataBackup/CSHL_data_processed/MD635/MD635_alignedTo_MD635-F63-2016.05.19-08.39.03_MD635_2_0188_prep2_sectionLimits.json\" && mkdir -p \"/data/media/alexn/BstemAtlasDataBackup/CSHL_data_processed/MD635\"\n",
      "return code: 0\n",
      "aws s3 cp \"s3://mousebrainatlas-data/media/alexn/BstemAtlasDataBackup/CSHL_data_processed/MD635/MD635_alignedTo_MD635-F63-2016.05.19-08.39.03_MD635_2_0188_prep2_sectionLimits.json\" \"/data/media/alexn/BstemAtlasDataBackup/CSHL_data_processed/MD635/MD635_alignedTo_MD635-F63-2016.05.19-08.39.03_MD635_2_0188_prep2_sectionLimits.json\"\n"
     ]
    },
    {
     "name": "stdout",
     "output_type": "stream",
     "text": [
      "An exception of type IOError occurred setting metadata_cache parameter section_limits. Arguments:\n",
      "(2, 'No such file or directory')\n",
      "Failed for MD603\n",
      "KEY ERROR ADN 999111\n"
     ]
    },
    {
     "name": "stderr",
     "output_type": "stream",
     "text": [
      "return code: 1\n",
      "rm -rf \"/data/media/alexn/BstemAtlasDataBackup/CSHL_data_processed/MD653/MD653_alignedTo_MD653-F64-2016.12.21-12.03.55_MD653_2_0191_prep2_sectionLimits.json\" && mkdir -p \"/data/media/alexn/BstemAtlasDataBackup/CSHL_data_processed/MD653\"\n",
      "return code: 0\n",
      "aws s3 cp \"s3://mousebrainatlas-data/media/alexn/BstemAtlasDataBackup/CSHL_data_processed/MD653/MD653_alignedTo_MD653-F64-2016.12.21-12.03.55_MD653_2_0191_prep2_sectionLimits.json\" \"/data/media/alexn/BstemAtlasDataBackup/CSHL_data_processed/MD653/MD653_alignedTo_MD653-F64-2016.12.21-12.03.55_MD653_2_0191_prep2_sectionLimits.json\"\n"
     ]
    },
    {
     "name": "stdout",
     "output_type": "stream",
     "text": [
      "An exception of type IOError occurred setting metadata_cache parameter section_limits. Arguments:\n",
      "(2, 'No such file or directory')\n",
      "Failed for MD635\n",
      "KEY ERROR ADN 999111\n"
     ]
    },
    {
     "name": "stderr",
     "output_type": "stream",
     "text": [
      "return code: 1\n",
      "rm -rf \"/data/media/alexn/BstemAtlasDataBackup/CSHL_data_processed/MD652/MD652_alignedTo_MD652-F45-2016.12.17-05.56.31_MD652_2_0134_prep2_sectionLimits.json\" && mkdir -p \"/data/media/alexn/BstemAtlasDataBackup/CSHL_data_processed/MD652\"\n",
      "return code: 0\n",
      "aws s3 cp \"s3://mousebrainatlas-data/media/alexn/BstemAtlasDataBackup/CSHL_data_processed/MD652/MD652_alignedTo_MD652-F45-2016.12.17-05.56.31_MD652_2_0134_prep2_sectionLimits.json\" \"/data/media/alexn/BstemAtlasDataBackup/CSHL_data_processed/MD652/MD652_alignedTo_MD652-F45-2016.12.17-05.56.31_MD652_2_0134_prep2_sectionLimits.json\"\n"
     ]
    },
    {
     "name": "stdout",
     "output_type": "stream",
     "text": [
      "An exception of type IOError occurred setting metadata_cache parameter section_limits. Arguments:\n",
      "(2, 'No such file or directory')\n",
      "Failed for MD653\n",
      "KEY ERROR ADN 999111\n"
     ]
    },
    {
     "name": "stderr",
     "output_type": "stream",
     "text": [
      "return code: 1\n",
      "rm -rf \"/data/media/alexn/BstemAtlasDataBackup/CSHL_data_processed/MD642/MD642_alignedTo_MD642-F53-2017.01.14-12.23.43_MD642_1_0157_prep2_sectionLimits.json\" && mkdir -p \"/data/media/alexn/BstemAtlasDataBackup/CSHL_data_processed/MD642\"\n",
      "return code: 0\n",
      "aws s3 cp \"s3://mousebrainatlas-data/media/alexn/BstemAtlasDataBackup/CSHL_data_processed/MD642/MD642_alignedTo_MD642-F53-2017.01.14-12.23.43_MD642_1_0157_prep2_sectionLimits.json\" \"/data/media/alexn/BstemAtlasDataBackup/CSHL_data_processed/MD642/MD642_alignedTo_MD642-F53-2017.01.14-12.23.43_MD642_1_0157_prep2_sectionLimits.json\"\n"
     ]
    },
    {
     "name": "stdout",
     "output_type": "stream",
     "text": [
      "An exception of type IOError occurred setting metadata_cache parameter section_limits. Arguments:\n",
      "(2, 'No such file or directory')\n",
      "Failed for MD652\n",
      "KEY ERROR ADN 999111\n"
     ]
    },
    {
     "name": "stderr",
     "output_type": "stream",
     "text": [
      "return code: 1\n",
      "rm -rf \"/data/media/alexn/BstemAtlasDataBackup/CSHL_data_processed/MD657/MD657_alignedTo_MD657-F44-2017.02.18-06.06.27_MD657_1_0130_prep2_sectionLimits.json\" && mkdir -p \"/data/media/alexn/BstemAtlasDataBackup/CSHL_data_processed/MD657\"\n",
      "return code: 0\n",
      "aws s3 cp \"s3://mousebrainatlas-data/media/alexn/BstemAtlasDataBackup/CSHL_data_processed/MD657/MD657_alignedTo_MD657-F44-2017.02.18-06.06.27_MD657_1_0130_prep2_sectionLimits.json\" \"/data/media/alexn/BstemAtlasDataBackup/CSHL_data_processed/MD657/MD657_alignedTo_MD657-F44-2017.02.18-06.06.27_MD657_1_0130_prep2_sectionLimits.json\"\n"
     ]
    },
    {
     "name": "stdout",
     "output_type": "stream",
     "text": [
      "An exception of type IOError occurred setting metadata_cache parameter section_limits. Arguments:\n",
      "(2, 'No such file or directory')\n",
      "Failed for MD642\n",
      "KEY ERROR ADN 999111\n"
     ]
    },
    {
     "name": "stderr",
     "output_type": "stream",
     "text": [
      "return code: 1\n",
      "rm -rf \"/data/media/alexn/BstemAtlasDataBackup/CSHL_data_processed/MD658/MD658_alignedTo_MD658-N58-2017.03.31-19.59.31_MD658_2_0173_prep2_sectionLimits.json\" && mkdir -p \"/data/media/alexn/BstemAtlasDataBackup/CSHL_data_processed/MD658\"\n",
      "return code: 0\n",
      "aws s3 cp \"s3://mousebrainatlas-data/media/alexn/BstemAtlasDataBackup/CSHL_data_processed/MD658/MD658_alignedTo_MD658-N58-2017.03.31-19.59.31_MD658_2_0173_prep2_sectionLimits.json\" \"/data/media/alexn/BstemAtlasDataBackup/CSHL_data_processed/MD658/MD658_alignedTo_MD658-N58-2017.03.31-19.59.31_MD658_2_0173_prep2_sectionLimits.json\"\n"
     ]
    },
    {
     "name": "stdout",
     "output_type": "stream",
     "text": [
      "An exception of type IOError occurred setting metadata_cache parameter section_limits. Arguments:\n",
      "(2, 'No such file or directory')\n",
      "Failed for MD657\n",
      "KEY ERROR ADN 999111\n"
     ]
    },
    {
     "name": "stderr",
     "output_type": "stream",
     "text": [
      "return code: 1\n",
      "rm -rf \"/data/media/alexn/BstemAtlasDataBackup/CSHL_data_processed/MD661/MD661_alignedTo_MD662&661-F116-2017.06.07-04.39.41_MD661_1_0346_prep2_sectionLimits.json\" && mkdir -p \"/data/media/alexn/BstemAtlasDataBackup/CSHL_data_processed/MD661\"\n",
      "return code: 0\n",
      "aws s3 cp \"s3://mousebrainatlas-data/media/alexn/BstemAtlasDataBackup/CSHL_data_processed/MD661/MD661_alignedTo_MD662&661-F116-2017.06.07-04.39.41_MD661_1_0346_prep2_sectionLimits.json\" \"/data/media/alexn/BstemAtlasDataBackup/CSHL_data_processed/MD661/MD661_alignedTo_MD662&661-F116-2017.06.07-04.39.41_MD661_1_0346_prep2_sectionLimits.json\"\n"
     ]
    },
    {
     "name": "stdout",
     "output_type": "stream",
     "text": [
      "An exception of type IOError occurred setting metadata_cache parameter section_limits. Arguments:\n",
      "(2, 'No such file or directory')\n",
      "Failed for MD658\n",
      "KEY ERROR ADN 999111\n"
     ]
    },
    {
     "name": "stderr",
     "output_type": "stream",
     "text": [
      "return code: 1\n",
      "rm -rf \"/data/media/alexn/BstemAtlasDataBackup/CSHL_data_processed/CHATM2/CHATM2_alignedTo_CHATM2_slide62_2018_02_14-S1_prep2_sectionLimits.json\" && mkdir -p \"/data/media/alexn/BstemAtlasDataBackup/CSHL_data_processed/CHATM2\"\n",
      "return code: 0\n",
      "aws s3 cp \"s3://mousebrainatlas-data/media/alexn/BstemAtlasDataBackup/CSHL_data_processed/CHATM2/CHATM2_alignedTo_CHATM2_slide62_2018_02_14-S1_prep2_sectionLimits.json\" \"/data/media/alexn/BstemAtlasDataBackup/CSHL_data_processed/CHATM2/CHATM2_alignedTo_CHATM2_slide62_2018_02_14-S1_prep2_sectionLimits.json\"\n"
     ]
    },
    {
     "name": "stdout",
     "output_type": "stream",
     "text": [
      "An exception of type IOError occurred setting metadata_cache parameter section_limits. Arguments:\n",
      "(2, 'No such file or directory')\n",
      "Failed for MD661\n",
      "KEY ERROR ADN 999111\n"
     ]
    },
    {
     "name": "stderr",
     "output_type": "stream",
     "text": [
      "return code: 1\n",
      "rm -rf \"/data/media/alexn/BstemAtlasDataBackup/CSHL_data_processed/CHATM3/CHATM3_alignedTo_CHATM3_slide77_2018_01_26-S1_prep2_sectionLimits.json\" && mkdir -p \"/data/media/alexn/BstemAtlasDataBackup/CSHL_data_processed/CHATM3\"\n",
      "return code: 0\n",
      "aws s3 cp \"s3://mousebrainatlas-data/media/alexn/BstemAtlasDataBackup/CSHL_data_processed/CHATM3/CHATM3_alignedTo_CHATM3_slide77_2018_01_26-S1_prep2_sectionLimits.json\" \"/data/media/alexn/BstemAtlasDataBackup/CSHL_data_processed/CHATM3/CHATM3_alignedTo_CHATM3_slide77_2018_01_26-S1_prep2_sectionLimits.json\"\n"
     ]
    },
    {
     "name": "stdout",
     "output_type": "stream",
     "text": [
      "An exception of type IOError occurred setting metadata_cache parameter section_limits. Arguments:\n",
      "(2, 'No such file or directory')\n",
      "Failed for CHATM2\n",
      "KEY ERROR ADN 999111\n"
     ]
    },
    {
     "name": "stderr",
     "output_type": "stream",
     "text": [
      "return code: 1\n"
     ]
    },
    {
     "name": "stdout",
     "output_type": "stream",
     "text": [
      "An exception of type IOError occurred setting metadata_cache parameter section_limits. Arguments:\n",
      "(2, 'No such file or directory')\n",
      "Failed for CHATM3\n",
      "KEY ERROR ADN 999111\n"
     ]
    },
    {
     "name": "stderr",
     "output_type": "stream",
     "text": [
      "/usr/local/lib/python2.7/dist-packages/sklearn/cross_validation.py:44: DeprecationWarning: This module was deprecated in version 0.18 in favor of the model_selection module into which all the refactored classes and functions are moved. Also note that the interface of the new CV iterators are different from that of this module. This module will be removed in 0.20.\n",
      "  \"This module will be removed in 0.20.\", DeprecationWarning)\n"
     ]
    }
   ],
   "source": [
    "# Setup and Imports\n",
    "\n",
    "# %reload_ext : Reloads an IPython extension by its module name.\n",
    "%reload_ext autoreload\n",
    "# %autoreload 2 : Reloads all modules (except those excluded by %aimport)  \n",
    "#  every time before executing the Python code typed.\n",
    "%autoreload 2\n",
    "\n",
    "# %TEXT : code in this format is called a \"magic function\" \n",
    "#  https://stackoverflow.com/questions/43027980/purpose-of-matplotlib-inline/43028034\n",
    "\n",
    "import os\n",
    "import sys\n",
    "import time\n",
    "\n",
    "import matplotlib.pyplot as plt\n",
    "# Sets backend of matplotlib to the 'inline' backend\n",
    "%matplotlib inline\n",
    "import numpy as np\n",
    "\n",
    "sys.path.append(os.path.join(os.environ['REPO_DIR'], 'utilities'))\n",
    "from utilities2015 import *\n",
    "from metadata import *\n",
    "from data_manager import *\n",
    "from learning_utilities import *"
   ]
  },
  {
   "cell_type": "code",
   "execution_count": null,
   "metadata": {
    "collapsed": true
   },
   "outputs": [],
   "source": [
    "stack = 'MD662'\n",
    "print('testing metadata: ',metadata_cache['valid_filenames_all'][stack][0])"
   ]
  },
  {
   "cell_type": "markdown",
   "metadata": {},
   "source": [
    "# STEP 1\n",
    "### raw (.jp2) -> raw_Ntb (.tif)"
   ]
  },
  {
   "cell_type": "code",
   "execution_count": null,
   "metadata": {
    "collapsed": true
   },
   "outputs": [],
   "source": [
    "in_dir = '/media/alexn/BstemAtlasDataBackup/MD662/'\n",
    "output_dir = create_if_not_exists(DataManager.get_image_dir_v2(stack=stack, prep_id=None, resol='raw'))\n",
    "\n",
    "# INPUT TEST\n",
    "in_list = [os.path.join(in_dir, img_name + '_lossless.jp2') \n",
    "                                       for img_name in list(image_names_all_data_dirs_flattened)]\n",
    "# OUTPUT TEST\n",
    "out_list = [DataManager.get_image_filepath_v2(stack=stack, prep_id=None, \n",
    "                                        resol='raw', version=None, fn=img_name) \n",
    "                                        for img_name in list(image_names_all_data_dirs_flattened)]\n",
    "\n",
    "print('first input file: ',in_list[0])\n",
    "print('first output file: ',out_list[0])"
   ]
  },
  {
   "cell_type": "code",
   "execution_count": null,
   "metadata": {
    "collapsed": true
   },
   "outputs": [],
   "source": [
    "# Multiple core processing on every individual file (takes about 4 minutes each)\n",
    "# In total will take about 30 hours\n",
    "# Creates new files at /CSHL_data_processed/MD662/MD662_raw/*_raw.tif\n",
    "t = time.time()\n",
    "\n",
    "run_distributed('export LD_LIBRARY_PATH=%(kdu_dir)s:$LD_LIBRARY_PATH; %(kdu_bin)s -i \\\"%%(in_fp)s\\\" -o \\\"%%(out_fp)s\\\"' % \\\n",
    "                {'kdu_bin': KDU_EXPAND_BIN, 'kdu_dir': os.path.dirname(KDU_EXPAND_BIN)},\n",
    "                kwargs_list={'in_fp': [os.path.join(in_dir, img_name + '_lossless.jp2') \n",
    "                                       for img_name in list(image_names_all_data_dirs_flattened)], \n",
    "                             'out_fp': [DataManager.get_image_filepath_v2(stack=stack, prep_id=None, \n",
    "                                        resol='raw', version=None, fn=img_name) \n",
    "                                        for img_name in list(image_names_all_data_dirs_flattened)]},\n",
    "                argument_type='single',\n",
    "                jobs_per_node=1, # Use single process\n",
    "                local_only=True, # Run local\n",
    "                use_aws=False)   # Run local\n",
    "print 'done in', time.time() - t, 'seconds' # 2252 seconds full stack"
   ]
  },
  {
   "cell_type": "markdown",
   "metadata": {},
   "source": [
    "# STEP 2\n",
    "### raw_Ntb -> thumbnail_Ntb\n",
    "rescale\n",
    "\n",
    "# & STEP 3\n",
    "### thumbnail_Ntb -> thumbnail_NtbNormalized\n",
    "normalize_intensity"
   ]
  },
  {
   "cell_type": "code",
   "execution_count": null,
   "metadata": {
    "collapsed": true
   },
   "outputs": [],
   "source": [
    "create_if_not_exists(DataManager.get_image_dir_v2(stack=stack, prep_id=None, resol='raw', version='Ntb'))"
   ]
  },
  {
   "cell_type": "code",
   "execution_count": 2,
   "metadata": {},
   "outputs": [
    {
     "ename": "NameError",
     "evalue": "name 'image_names_all_data_dirs_flattened' is not defined",
     "output_type": "error",
     "traceback": [
      "\u001b[0;31m---------------------------------------------------------------------------\u001b[0m",
      "\u001b[0;31mNameError\u001b[0m                                 Traceback (most recent call last)",
      "\u001b[0;32m<ipython-input-2-60505a941cf3>\u001b[0m in \u001b[0;36m<module>\u001b[0;34m()\u001b[0m\n\u001b[1;32m      1\u001b[0m print [DataManager.get_image_filepath_v2(stack=stack, prep_id=None, \n\u001b[1;32m      2\u001b[0m                                         resol='raw', version='Ntb', fn=img_name) \n\u001b[0;32m----> 3\u001b[0;31m                                         for img_name in list(image_names_all_data_dirs_flattened)]\n\u001b[0m",
      "\u001b[0;31mNameError\u001b[0m: name 'image_names_all_data_dirs_flattened' is not defined"
     ]
    }
   ],
   "source": [
    "print [DataManager.get_image_filepath_v2(stack=stack, prep_id=None, \n",
    "                                        resol='raw', version='Ntb', fn=img_name) \n",
    "                                        for img_name in list(image_names_all_data_dirs_flattened)]"
   ]
  },
  {
   "cell_type": "code",
   "execution_count": null,
   "metadata": {
    "collapsed": true
   },
   "outputs": [],
   "source": [
    "# raw -> raw_Ntb\n",
    "# Multiple core processing on every individual file (takes about 4 minutes each)\n",
    "# In total will take about 20 hours\n",
    "# Creates new files at CSHL_data_processed/MD662/MD662_raw_Ntb/*_raw_Ntb.tif\n",
    "t = time.time()\n",
    "run_distributed('convert \\\"%(in_fp)s\\\" -channel B -separate \\\"%(out_fp)s\\\"',\n",
    "                kwargs_list={'in_fp': [DataManager.get_image_filepath_v2(stack=stack, prep_id=None, \n",
    "                                        resol='raw', version=None, fn=img_name) \n",
    "                                       for img_name in list(image_names_all_data_dirs_flattened)], \n",
    "                             'out_fp': [DataManager.get_image_filepath_v2(stack=stack, prep_id=None, \n",
    "                                        resol='raw', version='Ntb', fn=img_name) \n",
    "                                        for img_name in list(image_names_all_data_dirs_flattened)]},\n",
    "                argument_type='single',\n",
    "                jobs_per_node=1,\n",
    "                local_only=True,\n",
    "               use_aws=False)\n",
    "print('finished generating raw_Ntb files')\n",
    "print 'done in', time.time() - t, 'seconds' # 2252 seconds full stack\n",
    "\n",
    "thumbnail_downscale_factor = 32\n",
    "tb_resol = 'thumbnail'\n",
    "\n",
    "# Takes about 1 minute per file, in total about 8-10 hours\n",
    "\n",
    "# Will create new files at the filepaths /CSHL_data_processed/MD662/MD662_thumbnail_Ntb/*_thumbnail_Ntb.tif\n",
    "#  and /CSHL_data_processed/MD662/MD662_thumbnail_NtbNormalized/*_thumbnail_NtbNormalized.tif\n",
    "# Only 108 files in each directory though?\n",
    "i = 0\n",
    "\n",
    "for img_name in metadata_cache['valid_filenames_all'][stack]:\n",
    "    i = i+1\n",
    "    print '\\n\\n'+img_name+'\\n'\n",
    "\n",
    "    t = time.time()\n",
    "\n",
    "    in_fp = DataManager.get_image_filepath_v2(stack=stack, prep_id=None, resol='raw', version='Ntb', \\\n",
    "                                              fn=img_name)\n",
    "    out_fp = DataManager.get_image_filepath_v2(stack=stack, prep_id=None, resol=tb_resol, version='Ntb', \\\n",
    "                                              fn=img_name)\n",
    "    create_parent_dir_if_not_exists(out_fp)\n",
    "    \n",
    "    try:\n",
    "        img = imread(in_fp)\n",
    "    except IndexError:\n",
    "        print('Problematic file detected\\n\\n'+out_fp+'\\n\\n')\n",
    "        \n",
    "    print(out_fp)\n",
    "    img_tb = img[::thumbnail_downscale_factor, ::thumbnail_downscale_factor]\n",
    "    imsave(out_fp, img_tb)\n",
    "        \n",
    "    sys.stderr.write(\"Rescale: %.2f seconds.\\n\" % (time.time() - t)) # ~20s / image\n",
    "    \n",
    "    t = time.time()\n",
    "\n",
    "    in_fp = DataManager.get_image_filepath_v2(stack=stack, prep_id=None, resol=tb_resol, version='Ntb', \\\n",
    "                                              fn=img_name)\n",
    "    out_fp = DataManager.get_image_filepath_v2(stack=stack, prep_id=None, resol=tb_resol, version='NtbNormalized',\\\n",
    "                                               fn=img_name)\n",
    "    create_parent_dir_if_not_exists(out_fp)\n",
    "    \n",
    "    print(out_fp)\n",
    "    cmd = \"\"\"convert \"%(in_fp)s\" -normalize -depth 8 \"%(out_fp)s\" \"\"\" % {'in_fp': in_fp, 'out_fp': out_fp}\n",
    "    execute_command(cmd)\n",
    "  #  try:\n",
    "  #      img = imread(in_fp)\n",
    "  #  except IndexError:\n",
    "  #      print('Problematic file detected\\n\\n'+out_fp+'\\n\\n')\n",
    "    \n",
    "    \n",
    "    sys.stderr.write(\"Intensity normalize: %.2f seconds.\\n\" % (time.time() - t))\n",
    "print i"
   ]
  }
 ],
 "metadata": {
  "kernelspec": {
   "display_name": "Python 2",
   "language": "python",
   "name": "python2"
  },
  "language_info": {
   "codemirror_mode": {
    "name": "ipython",
    "version": 2
   },
   "file_extension": ".py",
   "mimetype": "text/x-python",
   "name": "python",
   "nbconvert_exporter": "python",
   "pygments_lexer": "ipython2",
   "version": "2.7.12"
  }
 },
 "nbformat": 4,
 "nbformat_minor": 2
}
