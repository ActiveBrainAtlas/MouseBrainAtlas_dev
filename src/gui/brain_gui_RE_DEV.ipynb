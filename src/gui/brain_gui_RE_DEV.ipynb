{
 "cells": [
  {
   "cell_type": "code",
   "execution_count": 2,
   "metadata": {},
   "outputs": [
    {
     "name": "stderr",
     "output_type": "stream",
     "text": [
      "ENABLE_UPLOAD_S3 is not set, default to False.\n",
      "ENABLE_DOWNLOAD_S3 is not set, default to False.\n",
      "No anchor.txt is found. Seems we are using the operation ini to provide anchor. Try to load operation ini.\n",
      "Failed to cache MD585 anchor: ini file /media/alexn/BstemAtlasDataBackup/script_test/CSHL_data_processed/MD585/operation_configs/from_none_to_aligned.ini does not exist.\n",
      "File does not exist: /media/alexn/BstemAtlasDataBackup/script_test/CSHL_data_processed/MD585/MD585_sorted_filenames.txt\n",
      "Failed to cache MD585 sections_to_filenames: \n",
      "File does not exist: /media/alexn/BstemAtlasDataBackup/script_test/CSHL_data_processed/MD585/MD585_sorted_filenames.txt\n",
      "Failed to cache MD585 filenames_to_sections: \n",
      "No anchor.txt is found. Seems we are using the operation ini to provide anchor. Try to load operation ini.\n",
      "Failed to cache MD585 section_limits: ini file /media/alexn/BstemAtlasDataBackup/script_test/CSHL_data_processed/MD585/operation_configs/from_none_to_aligned.ini does not exist.\n",
      "No anchor.txt is found. Seems we are using the operation ini to provide anchor. Try to load operation ini.\n",
      "Failed to cache MD585 cropbox: ini file /media/alexn/BstemAtlasDataBackup/script_test/CSHL_data_processed/MD585/operation_configs/from_none_to_aligned.ini does not exist.\n",
      "Failed to cache MD585 valid_sections/filenames: MD585\n",
      "No anchor.txt is found. Seems we are using the operation ini to provide anchor. Try to load operation ini.\n",
      "Failed to cache MD585 image_shape: ini file /media/alexn/BstemAtlasDataBackup/script_test/CSHL_data_processed/MD585/operation_configs/from_none_to_aligned.ini does not exist.\n"
     ]
    },
    {
     "name": "stdout",
     "output_type": "stream",
     "text": [
      "Setting environment for an unknown machine. Global root paths must be set as env variables.\n",
      "{'DK1-2': 0.46, 'UCSD001': 0.325}\n",
      "/media/alexn/BstemAtlasDataBackup/script_test/CSHL_data_processed/UCSD001/UCSD001_cropbox.ini\n",
      "/media/alexn/BstemAtlasDataBackup/script_test/CSHL_data_processed/UCSD001/UCSD001_cropbox.ini\n",
      "/media/alexn/BstemAtlasDataBackup/script_test/CSHL_data_processed/DK1-2/DK1-2_cropbox.ini\n",
      "/media/alexn/BstemAtlasDataBackup/script_test/CSHL_data_processed/DK1-2/DK1-2_cropbox.ini\n"
     ]
    },
    {
     "name": "stderr",
     "output_type": "stream",
     "text": [
      "Seems you are using operation INIs to provide cropbox.\n",
      "Seems you are using operation INIs to provide cropbox.\n",
      "Seems you are using operation INIs to provide cropbox.\n",
      "Seems you are using operation INIs to provide cropbox.\n"
     ]
    }
   ],
   "source": [
    "from brain_labeling_gui_v28 import *"
   ]
  },
  {
   "cell_type": "code",
   "execution_count": 5,
   "metadata": {},
   "outputs": [
    {
     "ename": "NameError",
     "evalue": "name 'self' is not defined",
     "output_type": "error",
     "traceback": [
      "\u001b[0;31m---------------------------------------------------------------------------\u001b[0m",
      "\u001b[0;31mNameError\u001b[0m                                 Traceback (most recent call last)",
      "\u001b[0;32m<ipython-input-5-be67137c9999>\u001b[0m in \u001b[0;36m<module>\u001b[0;34m()\u001b[0m\n\u001b[0;32m----> 1\u001b[0;31m structures_df_fp = str(QFileDialog.getOpenFileName(self, \"Choose the structure annotation file\",\n\u001b[0m\u001b[1;32m      2\u001b[0m         os.path.join((ANNOTATION_THALAMUS_ROOTDIR if self.prep_id == 3 else ANNOTATION_ROOTDIR), self.stack)))\n\u001b[1;32m      3\u001b[0m \u001b[0mstructure_df\u001b[0m \u001b[0;34m=\u001b[0m \u001b[0mload_hdf_v2\u001b[0m\u001b[0;34m(\u001b[0m\u001b[0mstructures_df_fp\u001b[0m\u001b[0;34m)\u001b[0m\u001b[0;34m\u001b[0m\u001b[0m\n\u001b[1;32m      4\u001b[0m \u001b[0;34m\u001b[0m\u001b[0m\n\u001b[1;32m      5\u001b[0m \u001b[0;32mfor\u001b[0m \u001b[0msid\u001b[0m\u001b[0;34m,\u001b[0m \u001b[0mstruct_info\u001b[0m \u001b[0;32min\u001b[0m \u001b[0mstructure_df\u001b[0m\u001b[0;34m.\u001b[0m\u001b[0miterrows\u001b[0m\u001b[0;34m(\u001b[0m\u001b[0;34m)\u001b[0m\u001b[0;34m:\u001b[0m\u001b[0;34m\u001b[0m\u001b[0m\n",
      "\u001b[0;31mNameError\u001b[0m: name 'self' is not defined"
     ]
    }
   ],
   "source": [
    "structures_df_fp = str( os.path.join((ANNOTATION_THALAMUS_ROOTDIR if self.prep_id == 3 else ANNOTATION_ROOTDIR), self.stack) ) \n",
    "structure_df = load_hdf_v2(structures_df_fp)\n",
    "\n",
    "for sid, struct_info in structure_df.iterrows():\n",
    "        name_s = compose_label(struct_info['name'], side=struct_info['side'])\n",
    "        print name_s\n",
    "\n",
    "        if struct_info['volume'] is None:\n",
    "            volume_volResol = None\n",
    "            origin_wrt_wholebrain_volResol = None\n",
    "        else:\n",
    "            volume = bp.unpack_ndarray_str(struct_info['volume'])\n",
    "            origin_wrt_wholebrain_storedVolResol = struct_info['origin']\n",
    "\n",
    "            scaling = convert_resolution_string_to_voxel_size(stack=self.stack, resolution=struct_info['resolution']) / self.structure_volume_resolution_um\n",
    "            volume_volResol = rescale_by_resampling(volume, scaling)\n",
    "            origin_wrt_wholebrain_volResol = origin_wrt_wholebrain_storedVolResol * scaling\n",
    "\n",
    "        self.structure_volumes[set_name][name_s] = {\n",
    "            'volume': volume_volResol,\n",
    "            'origin': origin_wrt_wholebrain_volResol,\n",
    "            'edits': struct_info['edits']\n",
    "        }\n",
    "\n",
    "\n",
    "        if name_s in selected_structures or name_s in new_structures_to_load:\n",
    "            self.handle_structure_update(set_name=set_name, name_s=name_s, use_confirmed_only=False, recompute_from_contours=False)"
   ]
  },
  {
   "cell_type": "code",
   "execution_count": 12,
   "metadata": {},
   "outputs": [
    {
     "data": {
      "text/plain": [
       "'/media/alexn/BstemAtlasDataBackup/script_test/CSHL_labelings_v3'"
      ]
     },
     "execution_count": 12,
     "metadata": {},
     "output_type": "execute_result"
    }
   ],
   "source": [
    "ANNOTATION_ROOTDIR"
   ]
  },
  {
   "cell_type": "code",
   "execution_count": null,
   "metadata": {
    "collapsed": true
   },
   "outputs": [],
   "source": []
  },
  {
   "cell_type": "code",
   "execution_count": null,
   "metadata": {
    "collapsed": true
   },
   "outputs": [],
   "source": []
  },
  {
   "cell_type": "code",
   "execution_count": null,
   "metadata": {
    "collapsed": true
   },
   "outputs": [],
   "source": []
  },
  {
   "cell_type": "code",
   "execution_count": 11,
   "metadata": {},
   "outputs": [
    {
     "data": {
      "text/plain": [
       "'/media/alexn/BstemAtlasDataBackup/script_test/CSHL_data_processed/MD585/MD585_prep2_raw_/1231231231_prep2_raw_.tif'"
      ]
     },
     "execution_count": 11,
     "metadata": {},
     "output_type": "execute_result"
    }
   ],
   "source": [
    "DataManager.get_image_filepath_v2(stack='MD585', prep_id=2, resol='raw', version='', fn='1231231231')"
   ]
  },
  {
   "cell_type": "code",
   "execution_count": null,
   "metadata": {
    "collapsed": true
   },
   "outputs": [],
   "source": []
  }
 ],
 "metadata": {
  "kernelspec": {
   "display_name": "Python 2",
   "language": "python",
   "name": "python2"
  },
  "language_info": {
   "codemirror_mode": {
    "name": "ipython",
    "version": 2
   },
   "file_extension": ".py",
   "mimetype": "text/x-python",
   "name": "python",
   "nbconvert_exporter": "python",
   "pygments_lexer": "ipython2",
   "version": "2.7.12"
  }
 },
 "nbformat": 4,
 "nbformat_minor": 2
}
