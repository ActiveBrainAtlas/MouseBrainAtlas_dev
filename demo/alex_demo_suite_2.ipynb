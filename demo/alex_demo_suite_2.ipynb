{
 "cells": [
  {
   "cell_type": "code",
   "execution_count": 1,
   "metadata": {},
   "outputs": [
    {
     "name": "stderr",
     "output_type": "stream",
     "text": [
      "ENABLE_UPLOAD_S3 is not set, default to False.\n",
      "ENABLE_DOWNLOAD_S3 is not set, default to False.\n"
     ]
    },
    {
     "name": "stdout",
     "output_type": "stream",
     "text": [
      "Setting environment for Precision WorkStation for Alex Newberry\n",
      "{'DEMO998': 0.46}\n"
     ]
    },
    {
     "name": "stderr",
     "output_type": "stream",
     "text": [
      "No anchor.txt is found. Seems we are using the operation ini to provide anchor. Try to load operation ini.\n",
      "No anchor.txt is found. Seems we are using the operation ini to provide anchor. Try to load operation ini.\n",
      "No vtk\n",
      "Failed to cache DEMO998 section_limits: ini file /media/alexn/BstemAtlasDataBackup/demo_preprocess/CSHL_data_processed/DEMO998/DEMO998_prep2_sectionLimits.ini does not exist.\n",
      "No anchor.txt is found. Seems we are using the operation ini to provide anchor. Try to load operation ini.\n",
      "Seems you are using operation INIs to provide cropbox.\n",
      "Failed to cache DEMO998 valid_sections/filenames: DEMO998\n",
      "No anchor.txt is found. Seems we are using the operation ini to provide anchor. Try to load operation ini.\n",
      "Seems you are using operation INIs to provide cropbox.\n"
     ]
    }
   ],
   "source": [
    "import os\n",
    "import sys\n",
    "import numpy as np\n",
    "\n",
    "sys.path.append(os.path.join(os.environ['REPO_DIR'], 'utilities'))\n",
    "from utilities2015 import *\n",
    "from metadata import *\n",
    "from data_manager import *\n",
    "\n",
    "import matplotlib.pyplot as plt\n",
    "%matplotlib inline"
   ]
  },
  {
   "cell_type": "markdown",
   "metadata": {},
   "source": [
    "# Compute Features"
   ]
  },
  {
   "cell_type": "code",
   "execution_count": null,
   "metadata": {
    "collapsed": true
   },
   "outputs": [],
   "source": [
    "%%writefile input_spec.ini\n",
    "[DEFAULT]\n",
    "image_name_list = MD662&661-F81-2017.06.06-12.44.40_MD661_2_0242\n",
    "    MD662&661-F84-2017.06.06-14.03.51_MD661_1_0250\n",
    "    MD662&661-F86-2017.06.06-14.56.48_MD661_2_0257\n",
    "stack = DEMO998\n",
    "prep_id = alignedBrainstemCrop\n",
    "version = NtbNormalizedAdaptiveInvertedGamma\n",
    "resol = raw"
   ]
  },
  {
   "cell_type": "code",
   "execution_count": null,
   "metadata": {
    "collapsed": true
   },
   "outputs": [],
   "source": [
    "#! python demo_compute_features_v2.py input_spec.ini\n",
    "# Doesn't exist quite yet"
   ]
  },
  {
   "cell_type": "markdown",
   "metadata": {},
   "source": [
    "# Generate Probability Volumes"
   ]
  },
  {
   "cell_type": "code",
   "execution_count": null,
   "metadata": {
    "collapsed": true
   },
   "outputs": [],
   "source": []
  },
  {
   "cell_type": "markdown",
   "metadata": {},
   "source": [
    "# Registration & Visualization"
   ]
  },
  {
   "cell_type": "code",
   "execution_count": null,
   "metadata": {
    "collapsed": true
   },
   "outputs": [],
   "source": []
  },
  {
   "cell_type": "code",
   "execution_count": null,
   "metadata": {
    "collapsed": true
   },
   "outputs": [],
   "source": []
  },
  {
   "cell_type": "markdown",
   "metadata": {},
   "source": [
    "# TESTING"
   ]
  },
  {
   "cell_type": "code",
   "execution_count": null,
   "metadata": {
    "collapsed": true
   },
   "outputs": [],
   "source": [
    "prep_id = rawBeforeRotation\n",
    "/nfs/birdstore-brainbucket1/Active_Atlas_Data/UCSD_AxioScanner/20180129-04_Neurotrace_TIF/\n"
   ]
  },
  {
   "cell_type": "code",
   "execution_count": 92,
   "metadata": {
    "scrolled": true
   },
   "outputs": [
    {
     "name": "stdout",
     "output_type": "stream",
     "text": [
      "Overwriting input_spec.ini\n"
     ]
    }
   ],
   "source": [
    "%%writefile input_spec.ini\n",
    "[DEFAULT]\n",
    "image_name_list = UCSD001_slide001_2018_09_03-S1\n",
    "    UCSD001_slide001_2018_09_03-S2\n",
    "stack = UCSD001\n",
    "prep_id = rawBeforeRotation\n",
    "version = None\n",
    "resol = raw"
   ]
  },
  {
   "cell_type": "code",
   "execution_count": 113,
   "metadata": {},
   "outputs": [
    {
     "name": "stdout",
     "output_type": "stream",
     "text": [
      "ENABLE_UPLOAD_S3 is not set, default to False.\n",
      "ENABLE_DOWNLOAD_S3 is not set, default to False.\n",
      "Setting environment for Precision WorkStation for Alex Newberry\n",
      "{}\n",
      "No anchor.txt is found. Seems we are using the operation ini to provide anchor. Try to load operation ini.\n",
      "No anchor.txt is found. Seems we are using the operation ini to provide anchor. Try to load operation ini.\n",
      "No vtk\n",
      "No mcubes\n",
      "Failed to cache DEMO998 section_limits: ini file /media/alexn/BstemAtlasDataBackup/ucsd_brain/CSHL_data_processed/DEMO998/DEMO998_prep2_sectionLimits.ini does not exist.\n",
      "No anchor.txt is found. Seems we are using the operation ini to provide anchor. Try to load operation ini.\n",
      "Seems you are using operation INIs to provide cropbox.\n",
      "Failed to cache DEMO998 valid_sections/filenames: DEMO998\n",
      "No anchor.txt is found. Seems we are using the operation ini to provide anchor. Try to load operation ini.\n",
      "Seems you are using operation INIs to provide cropbox.\n",
      "**********************************\n",
      "['UCSD001_slide001_2018_09_03-S1', 'UCSD001_slide001_2018_09_03-S2']\n",
      "**********************************\n",
      "['UCSD001_slide001_2018_09_03-S1', 'UCSD001_slide001_2018_09_03-S2']\n",
      "**********************************\n",
      "0\n",
      "2\n",
      "UCSD001_slide001_2018_09_03-S1\n",
      "UCSD001_slide001_2018_09_03-S2\n",
      "**********************************\n",
      "python /home/alexn/brainDev/demo/warp_crop.py --input_fp \"%(input_fp)s\" --output_fp \"%(output_fp)s\" %(ops_str)s --pad_color %(pad_color)s\n",
      "input\n",
      "/media/alexn/BstemAtlasDataBackup/ucsd_brain/CSHL_data_processed/UCSD001/UCSD001_prep7_raw_None/UCSD001_slide001_2018_09_03-S2_prep7_raw_None.tif\n",
      "ouput\n",
      "/media/alexn/BstemAtlasDataBackup/ucsd_brain/CSHL_data_processed/UCSD001/UCSD001_prep0_raw_None/UCSD001_slide001_2018_09_03-S2_prep0_raw_None.tif\n",
      "**********************************\n",
      "python %(script)s --input_fp /media/alexn/BstemAtlasDataBackup/ucsd_brain/CSHL_data_processed/UCSD001/UCSD001_prep7_raw_None/UCSD001_slide001_2018_09_03-S2_prep7_raw_None.tif --output_fp /media/alexn/BstemAtlasDataBackup/ucsd_brain/CSHL_data_processed/UCSD001/UCSD001_prep0_raw_None/UCSD001_slide001_2018_09_03-S2_prep0_raw_None.tif  --op rotate rotate270  --pad_color %%(pad_color)s\n",
      "rm -f /media/alexn/BstemAtlasDataBackup/ucsd_brain/mousebrainatlas_tmp/stderr_*; rm -f /media/alexn/BstemAtlasDataBackup/ucsd_brain/mousebrainatlas_tmp/stdout_*\n",
      "return code: 0\n",
      "Run locally.\n",
      "Jobs submitted. Use wait_qsub_complete() to wait for all execution to finish.\n"
     ]
    }
   ],
   "source": [
    "! python warp_crop.py --input_spec input_spec.ini --op_id 'rotate270'"
   ]
  },
  {
   "cell_type": "code",
   "execution_count": 97,
   "metadata": {
    "collapsed": true
   },
   "outputs": [],
   "source": [
    "DATA_ROOTDIR = '/media/alexn/BstemAtlasDataBackup/ucsd_brain/'"
   ]
  },
  {
   "cell_type": "code",
   "execution_count": 101,
   "metadata": {
    "collapsed": true
   },
   "outputs": [],
   "source": [
    "os.environ['DATA_ROOTDIR'] = '/media/alexn/BstemAtlasDataBackup/ucsd_brain/'"
   ]
  }
 ],
 "metadata": {
  "kernelspec": {
   "display_name": "Python 2",
   "language": "python",
   "name": "python2"
  },
  "language_info": {
   "codemirror_mode": {
    "name": "ipython",
    "version": 2
   },
   "file_extension": ".py",
   "mimetype": "text/x-python",
   "name": "python",
   "nbconvert_exporter": "python",
   "pygments_lexer": "ipython2",
   "version": "2.7.12"
  }
 },
 "nbformat": 4,
 "nbformat_minor": 2
}
