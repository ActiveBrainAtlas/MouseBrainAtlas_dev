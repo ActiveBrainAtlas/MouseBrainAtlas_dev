{
 "cells": [
  {
   "cell_type": "markdown",
   "metadata": {},
   "source": [
    "(Create symb CHATM2 folder)\n",
    "ln -s /nfs/birdstore/Active_Atlas_Data/data_root/CSHL_data_processed/CHATM2/ /nfs/birdstore/Master_Repo/\n",
    "\n",
    "(Remove symb CHATM2 folder)\n",
    "unlink Master_Repo/CHATM2\n",
    "\n",
    "\n",
    "Notes:\n",
    "    MD635/DK17 raw files exist in both:\n",
    "        - /nfs/birdstore/Active_Atlas_Data/CSHL_NanoZoomer/\n",
    "        - /nfs/birdstore/Hannah_Liechty/\n",
    "        "
   ]
  },
  {
   "cell_type": "code",
   "execution_count": 30,
   "metadata": {},
   "outputs": [
    {
     "name": "stdout",
     "output_type": "stream",
     "text": [
      "ln -s /nfs/birdstore/Hannah_Liechty/DK19_20_secondhalf/ /nfs/birdstore/Master_Repo/Active_Atlas_Pointers/Image_Files/Raw_Scanner_Files/ && \\\n",
      "ln -s /nfs/birdstore/Hannah_Liechty/DK21_22/ /nfs/birdstore/Master_Repo/Active_Atlas_Pointers/Image_Files/Raw_Scanner_Files/ && \\\n",
      "ln -s /nfs/birdstore/Hannah_Liechty/DK23_FINALS/ /nfs/birdstore/Master_Repo/Active_Atlas_Pointers/Image_Files/Raw_Scanner_Files/ && \\\n",
      "ln -s /nfs/birdstore/Hannah_Liechty/DK23_rescan/ /nfs/birdstore/Master_Repo/Active_Atlas_Pointers/Image_Files/Raw_Scanner_Files/ && \\\n",
      "ln -s /nfs/birdstore/Hannah_Liechty/DK23_rescan2/ /nfs/birdstore/Master_Repo/Active_Atlas_Pointers/Image_Files/Raw_Scanner_Files/ && \\\n",
      "ln -s /nfs/birdstore/Hannah_Liechty/DK23_Test/ /nfs/birdstore/Master_Repo/Active_Atlas_Pointers/Image_Files/Raw_Scanner_Files/ && \\\n",
      "ln -s /nfs/birdstore/Hannah_Liechty/DK24_Batchstain/ /nfs/birdstore/Master_Repo/Active_Atlas_Pointers/Image_Files/Raw_Scanner_Files/ && \\\n",
      "ln -s /nfs/birdstore/Hannah_Liechty/MD635/ /nfs/birdstore/Master_Repo/Active_Atlas_Pointers/Image_Files/Raw_Scanner_Files/ && \\\n",
      "ln -s /nfs/birdstore/Hannah_Liechty/MD658/ /nfs/birdstore/Master_Repo/Active_Atlas_Pointers/Image_Files/Raw_Scanner_Files/ && \\\n",
      "\n"
     ]
    }
   ],
   "source": [
    "# All relevant folders in Hannah's folder\n",
    "hannah_folder_items = ! ls /nfs/birdstore/Hannah_Liechty/ -1\n",
    "\n",
    "# Generate symbolic link command for raw brains in Hannah's folder\n",
    "cmd = ''\n",
    "for folder_item in hannah_folder_items:\n",
    "    if not 'MD' in folder_item and not 'DK' in folder_item:\n",
    "        continue\n",
    "        \n",
    "    cmd += 'ln -s /nfs/birdstore/Hannah_Liechty/'+folder_item+'/ \\\n",
    "/nfs/birdstore/Master_Repo/Active_Atlas_Pointers/Image_Files/Raw_Scanner_Files/ && \\\\\\n'\n",
    "\n",
    "print cmd"
   ]
  },
  {
   "cell_type": "code",
   "execution_count": 24,
   "metadata": {
    "collapsed": true
   },
   "outputs": [],
   "source": [
    "foundational_brains = [\n",
    "    'MD585',\n",
    "    'MD589',\n",
    "    'MD590',\n",
    "    'MD591',\n",
    "    'MD592',\n",
    "    'MD593',\n",
    "    'MD594',\n",
    "    'MD595',\n",
    "    'MD598',\n",
    "    'MD599',\n",
    "    'MD602',\n",
    "    'MD603',\n",
    "    'MD635',\n",
    "    'MD642',\n",
    "    'MD652',\n",
    "    'MD653',\n",
    "    'MD657',\n",
    "    'MD658',\n",
    "    'MD661',\n",
    "    'MD662',\n",
    "    'CHATM2',\n",
    "    'CHATM3'\n",
    "]\n",
    "\n",
    "# Generate symbolic link command for foundational brains\n",
    "cmd = ''\n",
    "for stack in foundational_brains:\n",
    "    cmd += 'ln -s /nfs/birdstore/Active_Atlas_Data/data_root/CSHL_data_processed/'+stack+'/ \\\n",
    "/nfs/birdstore/Master_Repo/Active_Atlas_Pointers/Image_Files/Foundational_Brains/ && \\\\\\n'\n",
    "#print cmd"
   ]
  },
  {
   "cell_type": "code",
   "execution_count": 36,
   "metadata": {
    "scrolled": true
   },
   "outputs": [
    {
     "name": "stdout",
     "output_type": "stream",
     "text": [
      "ln -sf /nfs/birdstore/Active_Atlas_Data/CSHL_NanoZoomer/DK17/ /nfs/birdstore/Master_Repo/Active_Atlas_Pointers/Image_Files/Raw_Scanner_Files/ && \\\n",
      "ln -sf /nfs/birdstore/Active_Atlas_Data/CSHL_NanoZoomer/DK29/ /nfs/birdstore/Master_Repo/Active_Atlas_Pointers/Image_Files/Raw_Scanner_Files/ && \\\n",
      "ln -sf /nfs/birdstore/Active_Atlas_Data/CSHL_NanoZoomer/MD175/ /nfs/birdstore/Master_Repo/Active_Atlas_Pointers/Image_Files/Raw_Scanner_Files/ && \\\n",
      "ln -sf /nfs/birdstore/Active_Atlas_Data/CSHL_NanoZoomer/MD585_01Aug2015/ /nfs/birdstore/Master_Repo/Active_Atlas_Pointers/Image_Files/Raw_Scanner_Files/ && \\\n",
      "ln -sf /nfs/birdstore/Active_Atlas_Data/CSHL_NanoZoomer/MD589_01Sep2015/ /nfs/birdstore/Master_Repo/Active_Atlas_Pointers/Image_Files/Raw_Scanner_Files/ && \\\n",
      "ln -sf /nfs/birdstore/Active_Atlas_Data/CSHL_NanoZoomer/MD590_02Sep2015/ /nfs/birdstore/Master_Repo/Active_Atlas_Pointers/Image_Files/Raw_Scanner_Files/ && \\\n",
      "ln -sf /nfs/birdstore/Active_Atlas_Data/CSHL_NanoZoomer/MD591_03Sep2015/ /nfs/birdstore/Master_Repo/Active_Atlas_Pointers/Image_Files/Raw_Scanner_Files/ && \\\n",
      "ln -sf /nfs/birdstore/Active_Atlas_Data/CSHL_NanoZoomer/MD592_04Sep2015/ /nfs/birdstore/Master_Repo/Active_Atlas_Pointers/Image_Files/Raw_Scanner_Files/ && \\\n",
      "ln -sf /nfs/birdstore/Active_Atlas_Data/CSHL_NanoZoomer/MD593_05Sep2015/ /nfs/birdstore/Master_Repo/Active_Atlas_Pointers/Image_Files/Raw_Scanner_Files/ && \\\n",
      "ln -sf /nfs/birdstore/Active_Atlas_Data/CSHL_NanoZoomer/MD594_06Sep2015/ /nfs/birdstore/Master_Repo/Active_Atlas_Pointers/Image_Files/Raw_Scanner_Files/ && \\\n",
      "ln -sf /nfs/birdstore/Active_Atlas_Data/CSHL_NanoZoomer/MD595_07Sep2015/ /nfs/birdstore/Master_Repo/Active_Atlas_Pointers/Image_Files/Raw_Scanner_Files/ && \\\n",
      "ln -sf /nfs/birdstore/Active_Atlas_Data/CSHL_NanoZoomer/MD598_01Nov2015/ /nfs/birdstore/Master_Repo/Active_Atlas_Pointers/Image_Files/Raw_Scanner_Files/ && \\\n",
      "ln -sf /nfs/birdstore/Active_Atlas_Data/CSHL_NanoZoomer/MD599/ /nfs/birdstore/Master_Repo/Active_Atlas_Pointers/Image_Files/Raw_Scanner_Files/ && \\\n",
      "ln -sf /nfs/birdstore/Active_Atlas_Data/CSHL_NanoZoomer/MD599a/ /nfs/birdstore/Master_Repo/Active_Atlas_Pointers/Image_Files/Raw_Scanner_Files/ && \\\n",
      "ln -sf /nfs/birdstore/Active_Atlas_Data/CSHL_NanoZoomer/MD602_01Jan2018/ /nfs/birdstore/Master_Repo/Active_Atlas_Pointers/Image_Files/Raw_Scanner_Files/ && \\\n",
      "ln -sf /nfs/birdstore/Active_Atlas_Data/CSHL_NanoZoomer/MD603_02Jan2018/ /nfs/birdstore/Master_Repo/Active_Atlas_Pointers/Image_Files/Raw_Scanner_Files/ && \\\n",
      "ln -sf /nfs/birdstore/Active_Atlas_Data/CSHL_NanoZoomer/MD634/ /nfs/birdstore/Master_Repo/Active_Atlas_Pointers/Image_Files/Raw_Scanner_Files/ && \\\n",
      "ln -sf /nfs/birdstore/Active_Atlas_Data/CSHL_NanoZoomer/MD635/ /nfs/birdstore/Master_Repo/Active_Atlas_Pointers/Image_Files/Raw_Scanner_Files/ && \\\n",
      "ln -sf /nfs/birdstore/Active_Atlas_Data/CSHL_NanoZoomer/MD636/ /nfs/birdstore/Master_Repo/Active_Atlas_Pointers/Image_Files/Raw_Scanner_Files/ && \\\n",
      "ln -sf /nfs/birdstore/Active_Atlas_Data/CSHL_NanoZoomer/MD639/ /nfs/birdstore/Master_Repo/Active_Atlas_Pointers/Image_Files/Raw_Scanner_Files/ && \\\n",
      "ln -sf /nfs/birdstore/Active_Atlas_Data/CSHL_NanoZoomer/MD642/ /nfs/birdstore/Master_Repo/Active_Atlas_Pointers/Image_Files/Raw_Scanner_Files/ && \\\n",
      "ln -sf /nfs/birdstore/Active_Atlas_Data/CSHL_NanoZoomer/MD653/ /nfs/birdstore/Master_Repo/Active_Atlas_Pointers/Image_Files/Raw_Scanner_Files/ && \\\n",
      "ln -sf /nfs/birdstore/Active_Atlas_Data/CSHL_NanoZoomer/MD657/ /nfs/birdstore/Master_Repo/Active_Atlas_Pointers/Image_Files/Raw_Scanner_Files/ && \\\n",
      "ln -sf /nfs/birdstore/Active_Atlas_Data/CSHL_NanoZoomer/MD658_PRV/ /nfs/birdstore/Master_Repo/Active_Atlas_Pointers/Image_Files/Raw_Scanner_Files/ && \\\n",
      "ln -sf /nfs/birdstore/Active_Atlas_Data/CSHL_NanoZoomer/MD661_DGrabies/ /nfs/birdstore/Master_Repo/Active_Atlas_Pointers/Image_Files/Raw_Scanner_Files/ && \\\n",
      "ln -sf /nfs/birdstore/Active_Atlas_Data/CSHL_NanoZoomer/MD662_DGrabies/ /nfs/birdstore/Master_Repo/Active_Atlas_Pointers/Image_Files/Raw_Scanner_Files/ && \\\n",
      "\n"
     ]
    }
   ],
   "source": [
    "# All relevant folders in the CSHL_NanoZoomer folder\n",
    "CSHL_NanoZoomer_folder_items = ! ls /nfs/birdstore/Active_Atlas_Data/CSHL_NanoZoomer/ -1\n",
    "\n",
    "# Generate symbolic link command for raw brains\n",
    "cmd = ''\n",
    "for folder_item in CSHL_NanoZoomer_folder_items:\n",
    "    if 'macro' in folder_item:\n",
    "        continue\n",
    "        \n",
    "    cmd += 'ln -sf /nfs/birdstore/Active_Atlas_Data/CSHL_NanoZoomer/'+folder_item+'/ \\\n",
    "/nfs/birdstore/Master_Repo/Active_Atlas_Pointers/Image_Files/Raw_Scanner_Files/ && \\\\\\n'\n",
    "\n",
    "print cmd"
   ]
  },
  {
   "cell_type": "code",
   "execution_count": 40,
   "metadata": {},
   "outputs": [
    {
     "name": "stdout",
     "output_type": "stream",
     "text": [
      "ln -sf /nfs/birdstore/Active_Atlas_Data/UCSD_Nanozoomer/CHATM2_2018-04-20/ /nfs/birdstore/Master_Repo/Active_Atlas_Pointers/Image_Files/Raw_Scanner_Files/ && \\\n",
      "ln -sf /nfs/birdstore/Active_Atlas_Data/UCSD_Nanozoomer/CSHL2_2018-04-20/ /nfs/birdstore/Master_Repo/Active_Atlas_Pointers/Image_Files/Raw_Scanner_Files/ && \\\n",
      "\n"
     ]
    }
   ],
   "source": [
    "# All relevant folders in the UCSD_Nanozoomer folder\n",
    "UCSD_Nanozoomer_folder_items = ! ls /nfs/birdstore/Active_Atlas_Data/UCSD_Nanozoomer/ -1\n",
    "\n",
    "# Generate symbolic link command for raw brains\n",
    "cmd = ''\n",
    "for folder_item in UCSD_Nanozoomer_folder_items:\n",
    "    cmd += 'ln -sf /nfs/birdstore/Active_Atlas_Data/UCSD_Nanozoomer/'+folder_item+'/ \\\n",
    "/nfs/birdstore/Master_Repo/Active_Atlas_Pointers/Image_Files/Raw_Scanner_Files/ && \\\\\\n'\n",
    "\n",
    "print cmd"
   ]
  },
  {
   "cell_type": "code",
   "execution_count": 49,
   "metadata": {},
   "outputs": [
    {
     "name": "stdout",
     "output_type": "stream",
     "text": [
      "ln -sf /nfs/birdstore/Active_Atlas_Data/UCSD_AxioScanner/2019/DK17_18_slide158_S4_TIF/ /nfs/birdstore/Master_Repo/Active_Atlas_Pointers/Image_Files/Raw_Scanner_Files/ && \\\n",
      "ln -sf /nfs/birdstore/Active_Atlas_Data/UCSD_AxioScanner/2019/DK17_DK18/ /nfs/birdstore/Master_Repo/Active_Atlas_Pointers/Image_Files/Raw_Scanner_Files/ && \\\n",
      "ln -sf /nfs/birdstore/Active_Atlas_Data/UCSD_AxioScanner/2019/DK19_DK20/ /nfs/birdstore/Master_Repo/Active_Atlas_Pointers/Image_Files/Raw_Scanner_Files/ && \\\n",
      "ln -sf /nfs/birdstore/Active_Atlas_Data/UCSD_AxioScanner/2019/DK23_Final/ /nfs/birdstore/Master_Repo/Active_Atlas_Pointers/Image_Files/Raw_Scanner_Files/ && \\\n",
      "\n"
     ]
    }
   ],
   "source": [
    "# All relevant folders in the CSHL_NanoZoomer folder\n",
    "UCSD_AxioScanner_folder_items = ! ls /nfs/birdstore/Active_Atlas_Data/UCSD_AxioScanner/2019/ -1\n",
    "\n",
    "# Generate symbolic link command for raw brains\n",
    "cmd = ''\n",
    "for folder_item in UCSD_AxioScanner_folder_items:\n",
    "    if 'February_2019' in folder_item or 'sorted' in folder_item:\n",
    "        continue\n",
    "        \n",
    "    cmd += 'ln -sf /nfs/birdstore/Active_Atlas_Data/UCSD_AxioScanner/2019/'+folder_item+'/ \\\n",
    "/nfs/birdstore/Master_Repo/Active_Atlas_Pointers/Image_Files/Raw_Scanner_Files/ && \\\\\\n'\n",
    "\n",
    "print cmd"
   ]
  },
  {
   "cell_type": "code",
   "execution_count": 45,
   "metadata": {},
   "outputs": [
    {
     "name": "stdout",
     "output_type": "stream",
     "text": [
      "ln -sf /nfs/birdstore/Active_Atlas_Data/UCSD_AxioScanner/2018/20180129-04_Neurotrace/ /nfs/birdstore/Master_Repo/Active_Atlas_Pointers/Image_Files/Raw_Scanner_Files/ && \\\n",
      "ln -sf /nfs/birdstore/Active_Atlas_Data/UCSD_AxioScanner/2018/CHATM2_2018-01-19/ /nfs/birdstore/Master_Repo/Active_Atlas_Pointers/Image_Files/Raw_Scanner_Files/ && \\\n",
      "ln -sf /nfs/birdstore/Active_Atlas_Data/UCSD_AxioScanner/2018/CHATM3_2018-01-26/ /nfs/birdstore/Master_Repo/Active_Atlas_Pointers/Image_Files/Raw_Scanner_Files/ && \\\n",
      "ln -sf /nfs/birdstore/Active_Atlas_Data/UCSD_AxioScanner/2018/CHAT_M4/ /nfs/birdstore/Master_Repo/Active_Atlas_Pointers/Image_Files/Raw_Scanner_Files/ && \\\n",
      "ln -sf /nfs/birdstore/Active_Atlas_Data/UCSD_AxioScanner/2018/CSHL2_2018-04-04/ /nfs/birdstore/Master_Repo/Active_Atlas_Pointers/Image_Files/Raw_Scanner_Files/ && \\\n",
      "ln -sf /nfs/birdstore/Active_Atlas_Data/UCSD_AxioScanner/2018/CSHL2_Thionin/ /nfs/birdstore/Master_Repo/Active_Atlas_Pointers/Image_Files/Raw_Scanner_Files/ && \\\n",
      "ln -sf /nfs/birdstore/Active_Atlas_Data/UCSD_AxioScanner/2018/UCSD001_prep7_raw_None/ /nfs/birdstore/Master_Repo/Active_Atlas_Pointers/Image_Files/Raw_Scanner_Files/ && \\\n",
      "\n"
     ]
    }
   ],
   "source": [
    "# All relevant folders in the CSHL_NanoZoomer folder\n",
    "UCSD_AxioScanner_folder_items = ! ls /nfs/birdstore/Active_Atlas_Data/UCSD_AxioScanner/2018/ -1\n",
    "\n",
    "# Generate symbolic link command for raw brains\n",
    "cmd = ''\n",
    "for folder_item in UCSD_AxioScanner_folder_items:\n",
    "    if 'macro' in folder_item:\n",
    "        continue\n",
    "        \n",
    "    cmd += 'ln -sf /nfs/birdstore/Active_Atlas_Data/UCSD_AxioScanner/2018/'+folder_item+'/ \\\n",
    "/nfs/birdstore/Master_Repo/Active_Atlas_Pointers/Image_Files/Raw_Scanner_Files/ && \\\\\\n'\n",
    "\n",
    "print cmd"
   ]
  },
  {
   "cell_type": "code",
   "execution_count": 44,
   "metadata": {
    "scrolled": true
   },
   "outputs": [
    {
     "name": "stdout",
     "output_type": "stream",
     "text": [
      "20180129-04_Neurotrace\r\n",
      "CHATM2_2018-01-19\r\n",
      "CHATM3_2018-01-26\r\n",
      "CHAT_M4\r\n",
      "CSHL2_2018-04-04\r\n",
      "CSHL2_Thionin\r\n",
      "UCSD001_prep7_raw_None\r\n"
     ]
    }
   ],
   "source": [
    "! ls /nfs/birdstore/Active_Atlas_Data/UCSD_AxioScanner/2018/ -1"
   ]
  },
  {
   "cell_type": "code",
   "execution_count": 48,
   "metadata": {},
   "outputs": [
    {
     "name": "stdout",
     "output_type": "stream",
     "text": [
      "DK17_18_slide158_S4_TIF\r\n",
      "DK17_DK18\r\n",
      "DK19_DK20\r\n",
      "DK23_Final\r\n",
      "February_2019\r\n",
      "sorted filename files\r\n"
     ]
    }
   ],
   "source": [
    "! ls /nfs/birdstore/Active_Atlas_Data/UCSD_AxioScanner/2019/ -1"
   ]
  },
  {
   "cell_type": "code",
   "execution_count": 38,
   "metadata": {},
   "outputs": [
    {
     "name": "stdout",
     "output_type": "stream",
     "text": [
      "2018\r\n",
      "2019\r\n"
     ]
    }
   ],
   "source": [
    "! ls /nfs/birdstore/Active_Atlas_Data/UCSD_AxioScanner/ -1"
   ]
  },
  {
   "cell_type": "code",
   "execution_count": null,
   "metadata": {
    "collapsed": true
   },
   "outputs": [],
   "source": []
  },
  {
   "cell_type": "code",
   "execution_count": null,
   "metadata": {
    "collapsed": true
   },
   "outputs": [],
   "source": []
  },
  {
   "cell_type": "code",
   "execution_count": 1,
   "metadata": {
    "collapsed": true
   },
   "outputs": [],
   "source": [
    "root_fp = '/nfs/birdstore/Active_Atlas_Data/'"
   ]
  },
  {
   "cell_type": "code",
   "execution_count": 27,
   "metadata": {
    "collapsed": true
   },
   "outputs": [],
   "source": []
  },
  {
   "cell_type": "code",
   "execution_count": 22,
   "metadata": {
    "collapsed": true
   },
   "outputs": [],
   "source": [
    "! ls /nfs/birdstore/Master_Repo/"
   ]
  },
  {
   "cell_type": "code",
   "execution_count": null,
   "metadata": {
    "collapsed": true
   },
   "outputs": [],
   "source": [
    "ln -s TARGET LINK_NAME\n"
   ]
  },
  {
   "cell_type": "code",
   "execution_count": 23,
   "metadata": {},
   "outputs": [
    {
     "name": "stdout",
     "output_type": "stream",
     "text": [
      "ln: failed to create symbolic link '/nfs/birdstore/Master_Repo/TestLink': Permission denied\r\n"
     ]
    }
   ],
   "source": [
    "! ln -s $root_fp/data_root/CSHL_data_processed/CHATM2 /nfs/birdstore/Master_Repo/TestLink"
   ]
  },
  {
   "cell_type": "code",
   "execution_count": 8,
   "metadata": {},
   "outputs": [
    {
     "name": "stdout",
     "output_type": "stream",
     "text": [
      "CSHL2_Fluorescent_TIF\r\n",
      "CSHL_NanoZoomer\r\n",
      "data_root\r\n",
      "Example_Ref_Brains\r\n",
      "new_data_root\r\n",
      "UCSD_AxioScanner\r\n",
      "UCSD_Nanozoomer\r\n"
     ]
    }
   ],
   "source": [
    "! ls $root_fp -1"
   ]
  },
  {
   "cell_type": "code",
   "execution_count": 20,
   "metadata": {},
   "outputs": [
    {
     "name": "stdout",
     "output_type": "stream",
     "text": [
      "average_nissl_intensity_mapping.npy\r\n",
      "CHATM2\r\n",
      "CHATM3\r\n",
      "DEMO999\r\n",
      "DK5\r\n",
      "DK5&6_ROI_Q_C\r\n",
      "DK6\r\n",
      "max_nissl_intensity_mapping.npy\r\n",
      "MD585\r\n",
      "MD589\r\n",
      "MD590\r\n",
      "MD591\r\n",
      "MD592\r\n",
      "MD593\r\n",
      "MD594\r\n",
      "MD595\r\n",
      "MD598\r\n",
      "MD599\r\n",
      "MD602\r\n",
      "MD603\r\n",
      "MD635\r\n",
      "MD642\r\n",
      "MD652\r\n",
      "MD653\r\n",
      "MD657\r\n",
      "MD658\r\n",
      "MD661\r\n",
      "MD662\r\n",
      "median_nissl_intensity_mapping.npy\r\n",
      "min_nissl_intensity_mapping.npy\r\n"
     ]
    }
   ],
   "source": [
    "! ls $root_fp/data_root/CSHL_data_processed/ -1"
   ]
  },
  {
   "cell_type": "code",
   "execution_count": 9,
   "metadata": {},
   "outputs": [
    {
     "name": "stdout",
     "output_type": "stream",
     "text": [
      "MD589-IHC75-2015.07.31-02.30.14_MD589_3_0225_lossless.jp2\r\n",
      "MD589-IHC75-2015.07.31-02.30.14_MD589_3_0225_lossless.tif\r\n",
      "MD589-IHC81-2015.07.31-02.49.49_MD589_1_0241_lossless.jp2\r\n",
      "MD589-N14-2015.07.30-16.55.58_MD589_1_0040_lossless.jp2\r\n",
      "MD594-IHC32-2015.08.26-17.07.31_MD594_2_0095_lossless.jp2\r\n",
      "MD594-N16-2015.08.26-21.44.15_MD594_3_0048_lossless.jp2\r\n"
     ]
    }
   ],
   "source": [
    "! ls $root_fp/Example_Ref_Brains/ -1"
   ]
  },
  {
   "cell_type": "code",
   "execution_count": 10,
   "metadata": {},
   "outputs": [
    {
     "name": "stdout",
     "output_type": "stream",
     "text": [
      "CSHL2_slide001_2018_04_04-S1-CFP.tif\r\n",
      "CSHL2_slide001_2018_04_04-S2-CFP.tif\r\n",
      "CSHL2_slide001_2018_04_04-S3-CFP.tif\r\n",
      "CSHL2_slide003_2018_04_04-S1.tif\r\n",
      "CSHL2_slide003_2018_04_04-S2.tif\r\n",
      "CSHL2_slide005_2018_04_18-S1.tif\r\n",
      "CSHL2_slide005_2018_04_18-S2.tif\r\n",
      "CSHL2_slide005_2018_04_18-S3.tif\r\n",
      "CSHL2_slide007_2018_04_18-S1.tif\r\n",
      "CSHL2_slide007_2018_04_18-S2.tif\r\n",
      "CSHL2_slide007_2018_04_18-S3.tif\r\n",
      "CSHL2_slide009_2018_04_18-S1.tif\r\n",
      "CSHL2_slide009_2018_04_18-S2.tif\r\n",
      "CSHL2_slide009_2018_04_18-S3.tif\r\n",
      "CSHL2_slide011_2018_04_18-S2.tif\r\n",
      "CSHL2_slide011_2018_04_18-S3.tif\r\n",
      "CSHL2_slide013_2018_04_04-S1.tif\r\n",
      "CSHL2_slide013_2018_04_04-S2.tif\r\n",
      "CSHL2_slide015_2018_04_18-S1.tif\r\n",
      "CSHL2_slide015_2018_04_18-S2.tif\r\n",
      "CSHL2_slide015_2018_04_18-S3.tif\r\n",
      "CSHL2_slide017_2018_04_18-S2.tif\r\n",
      "CSHL2_slide017_2018_04_18-S3.tif\r\n",
      "CSHL2_slide019_2018_04_04-S1.tif\r\n",
      "CSHL2_slide019_2018_04_04-S2.tif\r\n",
      "CSHL2_slide019_2018_04_04-S3.tif\r\n",
      "CSHL2_slide023_2018_04_18-S1.tif\r\n",
      "CSHL2_slide023_2018_04_18-S2.tif\r\n",
      "CSHL2_slide023_2018_04_18-S3.tif\r\n",
      "CSHL2_slide025_2018_04_18-S1.tif\r\n",
      "CSHL2_slide025_2018_04_18-S2.tif\r\n",
      "CSHL2_slide025_2018_04_18-S3.tif\r\n",
      "CSHL2_slide027_2018_04_18-S1.tif\r\n",
      "CSHL2_slide027_2018_04_18-S2.tif\r\n",
      "CSHL2_slide027_2018_04_18-S3.tif\r\n",
      "CSHL2_slide029_2018_04_18-S1.tif\r\n",
      "CSHL2_slide029_2018_04_18-S2.tif\r\n",
      "CSHL2_slide029_2018_04_18-S3.tif\r\n",
      "CSHL2_slide031_2018_04_18-S1.tif\r\n",
      "CSHL2_slide031_2018_04_18-S2.tif\r\n",
      "CSHL2_slide031_2018_04_18-S3.tif\r\n",
      "CSHL2_slide033_2018_04_04-S1.tif\r\n",
      "CSHL2_slide033_2018_04_04-S2.tif\r\n",
      "CSHL2_slide033_2018_04_04-S3.tif\r\n",
      "CSHL2_slide035_2018_04_04-S1.tif\r\n",
      "CSHL2_slide035_2018_04_04-S2.tif\r\n",
      "CSHL2_slide035_2018_04_04-S3.tif\r\n",
      "CSHL2_slide037_2018_04_04-S1.tif\r\n",
      "CSHL2_slide037_2018_04_04-S2.tif\r\n",
      "CSHL2_slide037_2018_04_04-S3.tif\r\n",
      "CSHL2_slide039_2018_04_18-S1.tif\r\n",
      "CSHL2_slide039_2018_04_18-S2.tif\r\n",
      "CSHL2_slide039_2018_04_18-S3.tif\r\n",
      "CSHL2_slide041_2018_04_18-S1.tif\r\n",
      "CSHL2_slide041_2018_04_18-S2.tif\r\n",
      "CSHL2_slide041_2018_04_18-S3.tif\r\n",
      "CSHL2_slide043_2018_04_18-S1.tif\r\n",
      "CSHL2_slide043_2018_04_18-S2.tif\r\n",
      "CSHL2_slide043_2018_04_18-S3.tif\r\n",
      "CSHL2_slide045_2018_04_04-S1.tif\r\n",
      "CSHL2_slide045_2018_04_04-S2.tif\r\n",
      "CSHL2_slide045_2018_04_04-S3.tif\r\n",
      "CSHL2_slide047_2018_04_04-S1.tif\r\n",
      "CSHL2_slide047_2018_04_04-S2.tif\r\n",
      "CSHL2_slide047_2018_04_04-S3.tif\r\n",
      "CSHL2_slide049_2018_04_04-S2.tif\r\n",
      "CSHL2_slide049_2018_04_04-S3.tif\r\n",
      "CSHL2_slide051_2018_04_04-S1.tif\r\n",
      "CSHL2_slide051_2018_04_04-S2.tif\r\n",
      "CSHL2_slide051_2018_04_04-S3.tif\r\n",
      "CSHL2_slide053_2018_04_18-S1.tif\r\n",
      "CSHL2_slide053_2018_04_18-S2.tif\r\n",
      "CSHL2_slide053_2018_04_18-S3.tif\r\n",
      "CSHL2_slide055_2018_04_04-S2.tif\r\n",
      "CSHL2_slide055_2018_04_04-S3.tif\r\n",
      "CSHL2_slide057_2018_04_18-S1.tif\r\n",
      "CSHL2_slide057_2018_04_18-S2.tif\r\n",
      "CSHL2_slide057_2018_04_18-S3.tif\r\n",
      "CSHL2_slide059_2018_04_04-S1.tif\r\n",
      "CSHL2_slide059_2018_04_04-S2.tif\r\n",
      "CSHL2_slide059_2018_04_04-S3.tif\r\n",
      "CSHL2_slide061_2018_04_20-S1.tif\r\n",
      "CSHL2_slide061_2018_04_20-S2.tif\r\n",
      "CSHL2_slide061_2018_04_20-S3.tif\r\n",
      "CSHL2_slide063_2018_04_07-S1.tif\r\n",
      "CSHL2_slide063_2018_04_07-S2.tif\r\n",
      "CSHL2_slide063_2018_04_07-S3.tif\r\n",
      "CSHL2_slide065_2018_04_07-S1.tif\r\n",
      "CSHL2_slide065_2018_04_07-S2.tif\r\n",
      "CSHL2_slide065_2018_04_07-S3.tif\r\n",
      "CSHL2_slide067_2018_04_07-S2.tif\r\n",
      "CSHL2_slide067_2018_04_07-S3.tif\r\n",
      "CSHL2_slide069_2018_04_07-S1.tif\r\n",
      "CSHL2_slide069_2018_04_07-S2.tif\r\n",
      "CSHL2_slide069_2018_04_07-S3.tif\r\n",
      "CSHL2_slide071_2018_04_07-S1.tif\r\n",
      "CSHL2_slide071_2018_04_07-S2.tif\r\n",
      "CSHL2_slide071_2018_04_07-S3.tif\r\n",
      "CSHL2_slide073_2018_04_07-S1.tif\r\n",
      "CSHL2_slide073_2018_04_07-S2.tif\r\n",
      "CSHL2_slide073_2018_04_07-S3.tif\r\n",
      "CSHL2_slide075_2018_04_07-S1.tif\r\n",
      "CSHL2_slide075_2018_04_07-S2.tif\r\n",
      "CSHL2_slide075_2018_04_07-S3.tif\r\n",
      "CSHL2_slide077_2018_04_07-S1.tif\r\n",
      "CSHL2_slide077_2018_04_07-S2.tif\r\n",
      "CSHL2_slide077_2018_04_07-S3.tif\r\n",
      "CSHL2_slide079_2018_04_07-S1.tif\r\n",
      "CSHL2_slide079_2018_04_07-S2.tif\r\n",
      "CSHL2_slide079_2018_04_07-S3.tif\r\n",
      "CSHL2_slide081_2018_04_07-S1.tif\r\n",
      "CSHL2_slide081_2018_04_07-S2.tif\r\n",
      "CSHL2_slide081_2018_04_07-S3.tif\r\n",
      "CSHL2_slide083_2018_04_07-S1.tif\r\n",
      "CSHL2_slide083_2018_04_07-S2.tif\r\n",
      "CSHL2_slide083_2018_04_07-S3.tif\r\n",
      "CSHL2_slide085_2018_04_07-S1.tif\r\n",
      "CSHL2_slide085_2018_04_07-S2.tif\r\n",
      "CSHL2_slide085_2018_04_07-S3.tif\r\n",
      "CSHL2_slide087_2018_04_07-S1.tif\r\n",
      "CSHL2_slide087_2018_04_07-S2.tif\r\n",
      "CSHL2_slide087_2018_04_07-S3.tif\r\n",
      "CSHL2_slide089_2018_04_07-S1.tif\r\n",
      "CSHL2_slide089_2018_04_07-S2.tif\r\n",
      "CSHL2_slide089_2018_04_07-S3.tif\r\n",
      "CSHL2_slide091_2018_04_07-S1.tif\r\n",
      "CSHL2_slide091_2018_04_07-S2.tif\r\n",
      "CSHL2_slide091_2018_04_07-S3.tif\r\n",
      "CSHL2_slide093_2018_04_07-S1.tif\r\n",
      "CSHL2_slide093_2018_04_07-S2.tif\r\n",
      "CSHL2_slide093_2018_04_07-S3.tif\r\n",
      "CSHL2_slide095_2018_04_07-S1.tif\r\n",
      "CSHL2_slide095_2018_04_07-S2.tif\r\n",
      "CSHL2_slide095_2018_04_07-S3.tif\r\n",
      "CSHL2_slide097_2018_04_07-S1.tif\r\n",
      "CSHL2_slide097_2018_04_07-S2.tif\r\n",
      "CSHL2_slide097_2018_04_07-S3.tif\r\n",
      "CSHL2_slide099_2018_04_07-S1.tif\r\n",
      "CSHL2_slide099_2018_04_07-S2.tif\r\n",
      "CSHL2_slide099_2018_04_07-S3.tif\r\n",
      "CSHL2_slide101_2018_04_07-S1.tif\r\n",
      "CSHL2_slide101_2018_04_07-S2.tif\r\n",
      "CSHL2_slide101_2018_04_07-S3.tif\r\n",
      "CSHL2_slide103_2018_04_07-S1.tif\r\n",
      "CSHL2_slide103_2018_04_07-S2.tif\r\n",
      "CSHL2_slide103_2018_04_07-S3.tif\r\n",
      "CSHL2_slide105_2018_04_07-S1.tif\r\n",
      "CSHL2_slide105_2018_04_07-S2.tif\r\n",
      "CSHL2_slide105_2018_04_07-S3.tif\r\n",
      "CSHL2_slide107_2018_04_07-S1.tif\r\n",
      "CSHL2_slide107_2018_04_07-S2.tif\r\n",
      "CSHL2_slide107_2018_04_07-S3.tif\r\n",
      "CSHL2_slide109_2018_04_07-S1.tif\r\n",
      "CSHL2_slide109_2018_04_07-S2.tif\r\n",
      "CSHL2_slide109_2018_04_07-S3.tif\r\n",
      "CSHL2_slide111_2018_04_18-S1.tif\r\n",
      "CSHL2_slide111_2018_04_18-S2.tif\r\n",
      "CSHL2_slide111_2018_04_18-S3.tif\r\n",
      "CSHL2_slide113_2018_04_07-S1.tif\r\n",
      "CSHL2_slide113_2018_04_07-S2.tif\r\n",
      "CSHL2_slide113_2018_04_07-S3.tif\r\n",
      "CSHL2_slide115_2018_04_07-S1.tif\r\n",
      "CSHL2_slide115_2018_04_07-S2.tif\r\n",
      "CSHL2_slide115_2018_04_07-S3.tif\r\n",
      "CSHL2_slide117_2018_04_07-S1.tif\r\n",
      "CSHL2_slide117_2018_04_07-S2.tif\r\n",
      "CSHL2_slide117_2018_04_07-S3.tif\r\n",
      "CSHL2_slide119_2018_04_07-S1.tif\r\n",
      "CSHL2_slide119_2018_04_07-S2.tif\r\n",
      "CSHL2_slide119_2018_04_07-S3.tif\r\n"
     ]
    }
   ],
   "source": [
    "! ls $root_fp/CSHL2_Fluorescent_TIF/ -1"
   ]
  },
  {
   "cell_type": "code",
   "execution_count": 11,
   "metadata": {},
   "outputs": [
    {
     "name": "stdout",
     "output_type": "stream",
     "text": [
      "DK17\r\n",
      "DK29\r\n",
      "macros\r\n",
      "macros_annotated\r\n",
      "MD175\r\n",
      "MD585_01Aug2015\r\n",
      "MD589_01Sep2015\r\n",
      "MD590_02Sep2015\r\n",
      "MD591_03Sep2015\r\n",
      "MD592_04Sep2015\r\n",
      "MD593_05Sep2015\r\n",
      "MD594_06Sep2015\r\n",
      "MD595_07Sep2015\r\n",
      "MD598_01Nov2015\r\n",
      "MD599\r\n",
      "MD599a\r\n",
      "MD602_01Jan2018\r\n",
      "MD603_02Jan2018\r\n",
      "MD634\r\n",
      "MD635\r\n",
      "MD636\r\n",
      "MD639\r\n",
      "MD642\r\n",
      "MD653\r\n",
      "MD657\r\n",
      "MD658_PRV\r\n",
      "MD661_DGrabies\r\n",
      "MD662_DGrabies\r\n"
     ]
    }
   ],
   "source": [
    "! ls $root_fp/CSHL_NanoZoomer -1"
   ]
  },
  {
   "cell_type": "code",
   "execution_count": 12,
   "metadata": {},
   "outputs": [
    {
     "name": "stdout",
     "output_type": "stream",
     "text": [
      "2018\r\n",
      "2019\r\n"
     ]
    }
   ],
   "source": [
    "! ls $root_fp/UCSD_AxioScanner -1"
   ]
  },
  {
   "cell_type": "code",
   "execution_count": 13,
   "metadata": {},
   "outputs": [
    {
     "name": "stdout",
     "output_type": "stream",
     "text": [
      "CHATM2_2018-04-20\r\n",
      "CSHL2_2018-04-20\r\n"
     ]
    }
   ],
   "source": [
    "! ls $root_fp/UCSD_Nanozoomer -1"
   ]
  },
  {
   "cell_type": "code",
   "execution_count": null,
   "metadata": {
    "collapsed": true
   },
   "outputs": [],
   "source": []
  }
 ],
 "metadata": {
  "kernelspec": {
   "display_name": "Python 2",
   "language": "python",
   "name": "python2"
  },
  "language_info": {
   "codemirror_mode": {
    "name": "ipython",
    "version": 2
   },
   "file_extension": ".py",
   "mimetype": "text/x-python",
   "name": "python",
   "nbconvert_exporter": "python",
   "pygments_lexer": "ipython2",
   "version": "2.7.12"
  }
 },
 "nbformat": 4,
 "nbformat_minor": 2
}
