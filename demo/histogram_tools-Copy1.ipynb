{
 "cells": [
  {
   "cell_type": "code",
   "execution_count": 1,
   "metadata": {
    "collapsed": true
   },
   "outputs": [],
   "source": [
    "import cv2\n",
    "import numpy as np\n",
    "import matplotlib.pyplot as plt\n",
    "%matplotlib inline"
   ]
  },
  {
   "cell_type": "code",
   "execution_count": 2,
   "metadata": {
    "collapsed": true
   },
   "outputs": [],
   "source": [
    "image_folder = '/data2/DK39_test/CSHL_data_processed/DK39/czi_raw_output/'\n",
    "\n",
    "images = ! ls $image_folder"
   ]
  },
  {
   "cell_type": "code",
   "execution_count": 3,
   "metadata": {
    "collapsed": true
   },
   "outputs": [],
   "source": [
    "fps_ch0 = [image_folder+'DK39_slide050_2019_12_26_S01_C0_CFP.tif',\n",
    "          image_folder+'DK39_slide055_2020_01_02_S01_C0_CFP.tif',\n",
    "          image_folder+'DK39_slide060_2019_12_26_S01_C0_CFP.tif',\n",
    "          image_folder+'DK39_slide065_2019_12_26_S01_C0_CFP.tif']\n",
    "fps_ch1 = [image_folder+'DK39_slide050_2019_12_26_S01_C1_AF568.tif',\n",
    "          image_folder+'DK39_slide055_2020_01_02_S01_C1_AF568.tif',\n",
    "          image_folder+'DK39_slide060_2019_12_26_S01_C1_AF568.tif',\n",
    "          image_folder+'DK39_slide065_2019_12_26_S01_C1_AF568.tif']\n",
    "fps_ch2 = [image_folder+'DK39_slide050_2019_12_26_S01_C2_TuYFP.tif',\n",
    "          image_folder+'DK39_slide055_2020_01_02_S01_C2_TuYFP.tif',\n",
    "          image_folder+'DK39_slide060_2019_12_26_S01_C2_TuYFP.tif',\n",
    "          image_folder+'DK39_slide065_2019_12_26_S01_C2_TuYFP.tif']"
   ]
  },
  {
   "cell_type": "code",
   "execution_count": null,
   "metadata": {
    "collapsed": true
   },
   "outputs": [],
   "source": []
  },
  {
   "cell_type": "code",
   "execution_count": 45,
   "metadata": {
    "collapsed": true
   },
   "outputs": [],
   "source": [
    "img1 = cv2.imread( fps_ch0[0] )[::32,::32]\n",
    "img2 = cv2.imread( fps_ch1[0] )[::32,::32]\n",
    "img3 = cv2.imread( fps_ch2[0] )[::32,::32]"
   ]
  },
  {
   "cell_type": "code",
   "execution_count": 46,
   "metadata": {},
   "outputs": [
    {
     "data": {
      "text/plain": [
       "(1508, 702, 3)"
      ]
     },
     "execution_count": 46,
     "metadata": {},
     "output_type": "execute_result"
    }
   ],
   "source": [
    "img1.shape"
   ]
  },
  {
   "cell_type": "code",
   "execution_count": 62,
   "metadata": {
    "collapsed": true
   },
   "outputs": [],
   "source": [
    "color_img = np.zeros( [1508,702,3] )\n",
    "\n",
    "color_img[:,:,0] = img1[:,:,0]/5\n",
    "color_img[:,:,1] = img2[:,:,0]/7\n",
    "color_img[:,:,2] = img3[:,:,0]/5"
   ]
  },
  {
   "cell_type": "code",
   "execution_count": 63,
   "metadata": {},
   "outputs": [
    {
     "data": {
      "text/plain": [
       "<matplotlib.image.AxesImage at 0x7fce7afda390>"
      ]
     },
     "execution_count": 63,
     "metadata": {},
     "output_type": "execute_result"
    },
    {
     "data": {
      "image/png": "[encoded data removed]",
      "text/plain": [
       "<matplotlib.figure.Figure at 0x7fce79def090>"
      ]
     },
     "metadata": {},
     "output_type": "display_data"
    }
   ],
   "source": [
    "plt.imshow( color_img )"
   ]
  },
  {
   "cell_type": "code",
   "execution_count": null,
   "metadata": {
    "collapsed": true
   },
   "outputs": [],
   "source": []
  },
  {
   "cell_type": "code",
   "execution_count": null,
   "metadata": {
    "collapsed": true
   },
   "outputs": [],
   "source": [
    "plt.imshow( cv2.imread( fps_ch0[0] )[::32,::32] )"
   ]
  },
  {
   "cell_type": "code",
   "execution_count": null,
   "metadata": {
    "collapsed": true
   },
   "outputs": [],
   "source": []
  },
  {
   "cell_type": "code",
   "execution_count": null,
   "metadata": {
    "collapsed": true
   },
   "outputs": [],
   "source": [
    "def normalize_img( img_fp ):\n",
    "    img = cv2.imread(img_fp)[::32,::32]\n",
    "    unraveled_img = img.ravel()\n",
    "        \n",
    "    fig, (ax1, ax2) = plt.subplots(2)\n",
    "    \n",
    "    \n",
    "    \n",
    "        \n",
    "    plt.show()"
   ]
  },
  {
   "cell_type": "code",
   "execution_count": null,
   "metadata": {
    "collapsed": true
   },
   "outputs": [],
   "source": []
  },
  {
   "cell_type": "code",
   "execution_count": null,
   "metadata": {
    "collapsed": true
   },
   "outputs": [],
   "source": []
  },
  {
   "cell_type": "code",
   "execution_count": null,
   "metadata": {
    "collapsed": true
   },
   "outputs": [],
   "source": []
  },
  {
   "cell_type": "code",
   "execution_count": null,
   "metadata": {
    "collapsed": true
   },
   "outputs": [],
   "source": []
  },
  {
   "cell_type": "code",
   "execution_count": null,
   "metadata": {
    "collapsed": true
   },
   "outputs": [],
   "source": []
  },
  {
   "cell_type": "code",
   "execution_count": 5,
   "metadata": {
    "collapsed": true
   },
   "outputs": [],
   "source": [
    "def plot_histogram( img_fp, downsampled=True, plot_to_max=False):\n",
    "    if downsampled:\n",
    "        img = cv2.imread(img_fp)[::32,::32]\n",
    "    else:\n",
    "        img = cv2.imread(img_fp)\n",
    "        \n",
    "    fig, ax = plt.subplots()\n",
    "    fig.suptitle( img_fp )\n",
    "    fig.set_figwidth(18)\n",
    "    \n",
    "    if plot_to_max:\n",
    "        unraveled_img = img.ravel()\n",
    "        max_value = max(unraveled_img)\n",
    "        ax.hist( unraveled_img, max_value, [0,max_value])\n",
    "    else:\n",
    "        ax.hist( img.ravel(), 50, [0,50])\n",
    "        \n",
    "    plt.show()"
   ]
  },
  {
   "cell_type": "code",
   "execution_count": 41,
   "metadata": {
    "collapsed": true
   },
   "outputs": [],
   "source": [
    "def plot_histogram( img_fp, downsampled=True, plot_to_max=False, take_log=True):\n",
    "    if downsampled:\n",
    "        img = cv2.imread(img_fp)[::32,::32]\n",
    "    else:\n",
    "        img = cv2.imread(img_fp)\n",
    "        \n",
    "    fig, ax = plt.subplots()\n",
    "    fig.suptitle( img_fp )\n",
    "    fig.set_figwidth(18)\n",
    "    \n",
    "    unraveled_img = img.ravel()\n",
    "#     if take_log:\n",
    "#         unraveled_img = np.log2(unraveled_img)\n",
    "    \n",
    "    if plot_to_max:\n",
    "        max_value = max(unraveled_img)\n",
    "        ax.hist( unraveled_img, max_value, [0,max_value])\n",
    "    else:\n",
    "        ax.hist( unraveled_img, 250, [0,250])\n",
    "        \n",
    "    ax.set_yscale('log')\n",
    "        \n",
    "    plt.show()"
   ]
  },
  {
   "cell_type": "code",
   "execution_count": 17,
   "metadata": {},
   "outputs": [
    {
     "data": {
      "text/plain": [
       "5.643856189774724"
      ]
     },
     "execution_count": 17,
     "metadata": {},
     "output_type": "execute_result"
    }
   ],
   "source": [
    "np.log2(50)"
   ]
  },
  {
   "cell_type": "code",
   "execution_count": 35,
   "metadata": {},
   "outputs": [
    {
     "data": {
      "image/png": "[encoded data removed]",
      "text/plain": [
       "<matplotlib.figure.Figure at 0x7fce7af31990>"
      ]
     },
     "metadata": {},
     "output_type": "display_data"
    }
   ],
   "source": [
    "plot_histogram( fps_ch0[0] )"
   ]
  }
 ],
 "metadata": {
  "kernelspec": {
   "display_name": "Python 2",
   "language": "python",
   "name": "python2"
  },
  "language_info": {
   "codemirror_mode": {
    "name": "ipython",
    "version": 2
   },
   "file_extension": ".py",
   "mimetype": "text/x-python",
   "name": "python",
   "nbconvert_exporter": "python",
   "pygments_lexer": "ipython2",
   "version": "2.7.12"
  }
 },
 "nbformat": 4,
 "nbformat_minor": 2
}
