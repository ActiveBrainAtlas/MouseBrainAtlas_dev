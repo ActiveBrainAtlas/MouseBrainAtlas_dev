{
 "cells": [
  {
   "cell_type": "code",
   "execution_count": 84,
   "metadata": {
    "collapsed": true
   },
   "outputs": [],
   "source": [
    "from PyQt4.QtCore import *"
   ]
  },
  {
   "cell_type": "code",
   "execution_count": 88,
   "metadata": {},
   "outputs": [
    {
     "name": "stdout",
     "output_type": "stream",
     "text": [
      "/home/alexn/brainDev/mousebrainatlas_virtualenv/bin/python\r\n"
     ]
    }
   ],
   "source": [
    "! which python"
   ]
  },
  {
   "cell_type": "code",
   "execution_count": 82,
   "metadata": {},
   "outputs": [
    {
     "ename": "OSError",
     "evalue": "[Errno 17] File exists: '/media/alexn/Data_2/Atlas_Root_Dirs/Beta_Testing/CSHL_data_processed/MD635/MD635_raw'",
     "output_type": "error",
     "traceback": [
      "\u001b[0;31m---------------------------------------------------------------------------\u001b[0m",
      "\u001b[0;31mOSError\u001b[0m                                   Traceback (most recent call last)",
      "\u001b[0;32m<ipython-input-82-ad04a1da3f79>\u001b[0m in \u001b[0;36m<module>\u001b[0;34m()\u001b[0m\n\u001b[1;32m      1\u001b[0m \u001b[0mraw_stack_dir\u001b[0m \u001b[0;34m=\u001b[0m \u001b[0mDataManager\u001b[0m\u001b[0;34m.\u001b[0m\u001b[0mget_image_filepath_v2\u001b[0m\u001b[0;34m(\u001b[0m\u001b[0mstack\u001b[0m\u001b[0;34m,\u001b[0m \u001b[0mNone\u001b[0m\u001b[0;34m,\u001b[0m \u001b[0mversion\u001b[0m\u001b[0;34m=\u001b[0m\u001b[0mNone\u001b[0m\u001b[0;34m,\u001b[0m \u001b[0mresol\u001b[0m\u001b[0;34m=\u001b[0m\u001b[0;34m\"raw\"\u001b[0m\u001b[0;34m,\u001b[0m \u001b[0mfn\u001b[0m\u001b[0;34m=\u001b[0m\u001b[0mfn\u001b[0m\u001b[0;34m)\u001b[0m\u001b[0;34m\u001b[0m\u001b[0m\n\u001b[0;32m----> 2\u001b[0;31m \u001b[0mos\u001b[0m\u001b[0;34m.\u001b[0m\u001b[0mmakedirs\u001b[0m\u001b[0;34m(\u001b[0m \u001b[0mraw_stack_dir\u001b[0m\u001b[0;34m[\u001b[0m\u001b[0;36m0\u001b[0m\u001b[0;34m:\u001b[0m\u001b[0mmax\u001b[0m\u001b[0;34m(\u001b[0m\u001b[0mloc\u001b[0m \u001b[0;32mfor\u001b[0m \u001b[0mloc\u001b[0m\u001b[0;34m,\u001b[0m \u001b[0mval\u001b[0m \u001b[0;32min\u001b[0m \u001b[0menumerate\u001b[0m\u001b[0;34m(\u001b[0m\u001b[0mraw_stack_dir\u001b[0m\u001b[0;34m)\u001b[0m \u001b[0;32mif\u001b[0m \u001b[0mval\u001b[0m \u001b[0;34m==\u001b[0m \u001b[0;34m'/'\u001b[0m\u001b[0;34m)\u001b[0m\u001b[0;34m]\u001b[0m \u001b[0;34m)\u001b[0m\u001b[0;34m\u001b[0m\u001b[0m\n\u001b[0m",
      "\u001b[0;32m/usr/lib/python2.7/os.pyc\u001b[0m in \u001b[0;36mmakedirs\u001b[0;34m(name, mode)\u001b[0m\n\u001b[1;32m    155\u001b[0m         \u001b[0;32mif\u001b[0m \u001b[0mtail\u001b[0m \u001b[0;34m==\u001b[0m \u001b[0mcurdir\u001b[0m\u001b[0;34m:\u001b[0m           \u001b[0;31m# xxx/newdir/. exists if xxx/newdir exists\u001b[0m\u001b[0;34m\u001b[0m\u001b[0m\n\u001b[1;32m    156\u001b[0m             \u001b[0;32mreturn\u001b[0m\u001b[0;34m\u001b[0m\u001b[0m\n\u001b[0;32m--> 157\u001b[0;31m     \u001b[0mmkdir\u001b[0m\u001b[0;34m(\u001b[0m\u001b[0mname\u001b[0m\u001b[0;34m,\u001b[0m \u001b[0mmode\u001b[0m\u001b[0;34m)\u001b[0m\u001b[0;34m\u001b[0m\u001b[0m\n\u001b[0m\u001b[1;32m    158\u001b[0m \u001b[0;34m\u001b[0m\u001b[0m\n\u001b[1;32m    159\u001b[0m \u001b[0;32mdef\u001b[0m \u001b[0mremovedirs\u001b[0m\u001b[0;34m(\u001b[0m\u001b[0mname\u001b[0m\u001b[0;34m)\u001b[0m\u001b[0;34m:\u001b[0m\u001b[0;34m\u001b[0m\u001b[0m\n",
      "\u001b[0;31mOSError\u001b[0m: [Errno 17] File exists: '/media/alexn/Data_2/Atlas_Root_Dirs/Beta_Testing/CSHL_data_processed/MD635/MD635_raw'"
     ]
    }
   ],
   "source": [
    "raw_stack_dir = DataManager.get_image_filepath_v2(stack, None, version=None, resol=\"raw\", fn=fn)\n",
    "os.makedirs( raw_stack_dir[0:max(loc for loc, val in enumerate(raw_stack_dir) if val == '/')] )"
   ]
  },
  {
   "cell_type": "code",
   "execution_count": 78,
   "metadata": {},
   "outputs": [
    {
     "name": "stderr",
     "output_type": "stream",
     "text": [
      "<ipython-input-78-0c458d8e28e6>:12: SyntaxWarning: import * only allowed at module level\n",
      "  def get_selected_fp( initialdir=os.environ['ROOT_DIR'], default_filetype=(\"jp2 files\",\"*.jp2\") ):\n"
     ]
    }
   ],
   "source": [
    "import os \n",
    "import sys\n",
    "import subprocess\n",
    "from a_driver_utilities import *\n",
    "sys.path.append(os.path.join(os.environ['REPO_DIR'], 'utilities'))\n",
    "from utilities2015 import *\n",
    "from registration_utilities import *\n",
    "from annotation_utilities import *\n",
    "from metadata import *\n",
    "from data_manager import *\n",
    "\n",
    "def get_selected_fp( initialdir=os.environ['ROOT_DIR'], default_filetype=(\"jp2 files\",\"*.jp2\") ):\n",
    "    # Use tkinter to ask user for filepath to jp2 images\n",
    "    from tkinter import filedialog\n",
    "    from tkinter import *\n",
    "    root = Tk()\n",
    "    root.filename =  filedialog.askopenfilename(initialdir = initialdir,\\\n",
    "                                                title = \"Select file\",\\\n",
    "                                                filetypes = (default_filetype,(\"all files\",\"*.*\")))\n",
    "    fn = root.filename\n",
    "    root.destroy()\n",
    "    return fn\n",
    "\n",
    "stack = \"MD635\"\n",
    "\n",
    "fn = get_selected_fp( initialdir=os.environ['ROOT_DIR'], default_filetype=(\"tiff files\",\"*.tif*\") )\n",
    "#raw_tiff_sample_fn = fn[max(loc for loc, val in enumerate(fn) if val == '/')+1:len(fn)]\n",
    "raw_tiff_input_fp = fn[0:max(loc for loc, val in enumerate(fn) if val == '/')]\n",
    "raw_tiff_input_fns = os.listdir( raw_tiff_input_fp )\n",
    "\n",
    "filenames_list = DataManager.load_sorted_filenames(stack)[0].keys()\n",
    "\n",
    "for fn in filenames_list:\n",
    "    for raw_tiff_input_fn in raw_tiff_input_fns:\n",
    "        if fn in raw_tiff_input_fn:\n",
    "            old_fp = os.path.join( raw_tiff_input_fp, raw_tiff_input_fn )\n",
    "            new_fp = DataManager.get_image_filepath_v2(stack, None, version=None, resol=\"raw\", fn=fn)\n",
    "            command = [\"cp\", old_fp, new_fp]\n",
    "            completion_message = 'Finished copying and renaming all tiff files into the proper location.'\n",
    "            call_and_time( command, completion_message=completion_message)"
   ]
  },
  {
   "cell_type": "code",
   "execution_count": 56,
   "metadata": {},
   "outputs": [],
   "source": [
    "command = [\"ls\", raw_tiff_input_fp]\n",
    "completion_message = '!'\n",
    "call_and_time( command, completion_message=completion_message)"
   ]
  },
  {
   "cell_type": "code",
   "execution_count": 58,
   "metadata": {},
   "outputs": [
    {
     "data": {
      "text/plain": [
       "['MD635-F68-2016.05.19-10.18.40_MD635_2_0203_lossless.tif',\n",
       " 'slideo_MD635-F67-2016.05.19-09.59.06_MD635_2_0200_lossless_blahblah.tif',\n",
       " 'lorem_ipsum_MD635-F68-2016.05.19-10.18.40_MD635_1_0202_lossless.tif']"
      ]
     },
     "execution_count": 58,
     "metadata": {},
     "output_type": "execute_result"
    }
   ],
   "source": [
    "os.listdir( raw_tiff_input_fp )"
   ]
  },
  {
   "cell_type": "code",
   "execution_count": 62,
   "metadata": {},
   "outputs": [
    {
     "data": {
      "text/plain": [
       "'\\n        Args:\\n            version (str): the version string.\\n\\n        Returns:\\n            Absolute path of the image file.\\n        '"
      ]
     },
     "execution_count": 62,
     "metadata": {},
     "output_type": "execute_result"
    }
   ],
   "source": [
    "DataManager.get_image_filepath_v2.__doc__"
   ]
  },
  {
   "cell_type": "code",
   "execution_count": 74,
   "metadata": {},
   "outputs": [
    {
     "data": {
      "text/plain": [
       "'/media/alexn/Data_2/Atlas_Root_Dirs/Beta_Testing/CSHL_data_processed/MD635/MD635_None/test_None.tif'"
      ]
     },
     "execution_count": 74,
     "metadata": {},
     "output_type": "execute_result"
    }
   ],
   "source": [
    "DataManager.get_image_filepath_v2(stack, None, version=None, resol=None, fn=\"test\")"
   ]
  },
  {
   "cell_type": "code",
   "execution_count": 70,
   "metadata": {},
   "outputs": [
    {
     "data": {
      "text/plain": [
       "'/media/alexn/Data_2/Atlas_Root_Dirs/Beta_Testing/CSHL_data_processed/MD635/MD635_None/test_None.tif'"
      ]
     },
     "execution_count": 70,
     "metadata": {},
     "output_type": "execute_result"
    }
   ],
   "source": [
    "DataManager.get_image_filepath_v2(stack, None, version=None, resol=None,\n",
    "                           data_dir=DATA_DIR, raw_data_dir=RAW_DATA_DIR, thumbnail_data_dir=THUMBNAIL_DATA_DIR,\n",
    "                           section=None, fn=\"test\")"
   ]
  },
  {
   "cell_type": "code",
   "execution_count": 76,
   "metadata": {},
   "outputs": [
    {
     "data": {
      "text/plain": [
       "'/media/alexn/Data_2/Atlas_Root_Dirs/Beta_Testing/CSHL_data_processed/MD635/MD635_raw/test_raw.tif'"
      ]
     },
     "execution_count": 76,
     "metadata": {},
     "output_type": "execute_result"
    }
   ],
   "source": [
    "DataManager.get_image_filepath_v2(stack, None, version=None, resol=\"raw\", fn=fn)"
   ]
  },
  {
   "cell_type": "code",
   "execution_count": null,
   "metadata": {
    "collapsed": true
   },
   "outputs": [],
   "source": [
    "for fn in filenames_list:\n",
    "    for raw_tiff_input_fn in raw_tiff_input_fns:\n",
    "        if fn in raw_tiff_input_fn:\n",
    "            old_fp = os.path.join( raw_tiff_input_fp, raw_tiff_input_fn )\n",
    "            new_fp = DataManager.get_image_filepath_v2(stack, None, version=None, resol=\"raw\", fn=fn)\n",
    "            command = [\"cp\", old_fp, new_fp]\n",
    "            completion_message = 'Finished copying and renaming all tiff files into the proper location.'\n",
    "            call_and_time( command, completion_message=completion_message)"
   ]
  },
  {
   "cell_type": "code",
   "execution_count": 52,
   "metadata": {},
   "outputs": [
    {
     "data": {
      "text/plain": [
       "['MD635-F68-2016.05.19-10.18.40_MD635_1_0202',\n",
       " 'MD635-F67-2016.05.19-09.59.06_MD635_2_0200',\n",
       " 'MD635-F68-2016.05.19-10.18.40_MD635_2_0203']"
      ]
     },
     "execution_count": 52,
     "metadata": {},
     "output_type": "execute_result"
    }
   ],
   "source": [
    "filenames_list"
   ]
  },
  {
   "cell_type": "code",
   "execution_count": 50,
   "metadata": {},
   "outputs": [
    {
     "data": {
      "text/plain": [
       "'lorem_ipsum_MD635-F68-2016.05.19-10.18.40_MD635_1_0202_lossless.tif'"
      ]
     },
     "execution_count": 50,
     "metadata": {},
     "output_type": "execute_result"
    }
   ],
   "source": [
    "raw_tiff_sample_fn"
   ]
  },
  {
   "cell_type": "code",
   "execution_count": 51,
   "metadata": {},
   "outputs": [
    {
     "data": {
      "text/plain": [
       "'/media/alexn/Data_2/Atlas_Root_Dirs/Beta_Testing/arbitrary_storage_directory/test_tiff_files_IGNORE'"
      ]
     },
     "execution_count": 51,
     "metadata": {},
     "output_type": "execute_result"
    }
   ],
   "source": [
    "raw_tiff_curr_fp"
   ]
  },
  {
   "cell_type": "code",
   "execution_count": 47,
   "metadata": {
    "scrolled": true
   },
   "outputs": [
    {
     "data": {
      "text/plain": [
       "['MD635-F68-2016.05.19-10.18.40_MD635_1_0202',\n",
       " 'MD635-F67-2016.05.19-09.59.06_MD635_2_0200',\n",
       " 'MD635-F68-2016.05.19-10.18.40_MD635_2_0203']"
      ]
     },
     "execution_count": 47,
     "metadata": {},
     "output_type": "execute_result"
    }
   ],
   "source": [
    "DataManager.load_sorted_filenames(\"MD635\")[0].keys()"
   ]
  },
  {
   "cell_type": "code",
   "execution_count": null,
   "metadata": {
    "collapsed": true
   },
   "outputs": [],
   "source": []
  },
  {
   "cell_type": "code",
   "execution_count": 39,
   "metadata": {
    "collapsed": true
   },
   "outputs": [],
   "source": [
    "import os \n",
    "import sys\n",
    "import subprocess\n",
    "import json\n",
    "from a_driver_utilities import *\n",
    "stack=\"MD6335\""
   ]
  },
  {
   "cell_type": "code",
   "execution_count": 40,
   "metadata": {
    "collapsed": true
   },
   "outputs": [],
   "source": [
    "jp2_fp = '/media/alexn/Data_2/Atlas_Root_Dirs/Beta_Testing/OOOOOOOOOOOOOOOOOOOOOOO'"
   ]
  },
  {
   "cell_type": "code",
   "execution_count": 41,
   "metadata": {},
   "outputs": [
    {
     "name": "stdout",
     "output_type": "stream",
     "text": [
      "ENABLE_UPLOAD_S3 is not set, default to False.\n",
      "ENABLE_DOWNLOAD_S3 is not set, default to False.\n",
      "Setting environment for Precision WorkStation for Alex Newberry\n",
      "{'MD585': 0.46}\n",
      "No mcubes\n",
      "No anchor.txt is found. Seems we are using the operation ini to provide anchor. Try to load operation ini.\n",
      "No anchor.txt is found. Seems we are using the operation ini to provide anchor. Try to load operation ini.\n",
      "Failed to cache MD585 section_limits: ini file /media/alexn/Data_2/Atlas_Root_Dirs/Beta_Testing/CSHL_data_processed/MD585/MD585_prep2_sectionLimits.ini does not exist.\n",
      "No anchor.txt is found. Seems we are using the operation ini to provide anchor. Try to load operation ini.\n",
      "Seems you are using operation INIs to provide cropbox.\n",
      "Failed to cache MD585 valid_sections/filenames: MD585\n",
      "No anchor.txt is found. Seems we are using the operation ini to provide anchor. Try to load operation ini.\n",
      "Seems you are using operation INIs to provide cropbox.\n",
      "Folder for stack MD589 not found, skipping.\n",
      "Folder for stack MD590 not found, skipping.\n",
      "Folder for stack MD591 not found, skipping.\n",
      "Folder for stack MD592 not found, skipping.\n",
      "Folder for stack MD593 not found, skipping.\n",
      "Folder for stack MD594 not found, skipping.\n",
      "Folder for stack MD595 not found, skipping.\n",
      "Folder for stack MD598 not found, skipping.\n",
      "Folder for stack MD599 not found, skipping.\n",
      "Folder for stack MD602 not found, skipping.\n",
      "Folder for stack MD603 not found, skipping.\n",
      "No anchor.txt is found. Seems we are using the operation ini to provide anchor. Try to load operation ini.\n",
      "Failed to cache MD635 anchor: ini file /media/alexn/Data_2/Atlas_Root_Dirs/Beta_Testing/CSHL_data_processed/MD635/operation_configs/from_none_to_aligned.ini does not exist.\n",
      "No anchor.txt is found. Seems we are using the operation ini to provide anchor. Try to load operation ini.\n",
      "Failed to cache MD635 section_limits: ini file /media/alexn/Data_2/Atlas_Root_Dirs/Beta_Testing/CSHL_data_processed/MD635/operation_configs/from_none_to_aligned.ini does not exist.\n",
      "No anchor.txt is found. Seems we are using the operation ini to provide anchor. Try to load operation ini.\n",
      "Failed to cache MD635 cropbox: ini file /media/alexn/Data_2/Atlas_Root_Dirs/Beta_Testing/CSHL_data_processed/MD635/operation_configs/from_none_to_aligned.ini does not exist.\n",
      "Failed to cache MD635 valid_sections/filenames: MD635\n",
      "No anchor.txt is found. Seems we are using the operation ini to provide anchor. Try to load operation ini.\n",
      "Failed to cache MD635 image_shape: ini file /media/alexn/Data_2/Atlas_Root_Dirs/Beta_Testing/CSHL_data_processed/MD635/operation_configs/from_none_to_aligned.ini does not exist.\n",
      "Folder for stack MD653 not found, skipping.\n",
      "Folder for stack MD652 not found, skipping.\n",
      "Folder for stack MD642 not found, skipping.\n",
      "Folder for stack MD657 not found, skipping.\n",
      "Folder for stack MD658 not found, skipping.\n",
      "Folder for stack MD661 not found, skipping.\n",
      "Folder for stack MD662 not found, skipping.\n",
      "Folder for stack CHATM2 not found, skipping.\n",
      "Folder for stack CHATM3 not found, skipping.\n",
      "Folder for stack UCSD001 not found, skipping.\n",
      "Found 1 images.\n",
      "\n",
      "(None, u'raw') missing:\n",
      "set([])\n",
      "rm -f /media/alexn/Data_2/Atlas_Root_Dirs/Beta_Testing/mousebrainatlas_tmp/stderr_*; rm -f /media/alexn/Data_2/Atlas_Root_Dirs/Beta_Testing/mousebrainatlas_tmp/stdout_*\n",
      "return code: 0\n",
      "Run locally.\n",
      "Jobs submitted. Use wait_qsub_complete() to wait for all execution to finish.\n"
     ]
    }
   ],
   "source": [
    "# CONVERT *.jp2 to *.tif\n",
    "json_fn = stack+'_raw_input_spec.json'\n",
    "\n",
    "default_raw_fp = os.path.join( os.environ['DATA_ROOTDIR'], 'CSHL_data_processed', stack, stack+'_raw')\n",
    "try:\n",
    "    os.mkdir(default_raw_fp)\n",
    "except:\n",
    "    pass\n",
    "json_data = [{\"version\": None, \\\n",
    "                 \"resolution\": \"raw\", \\\n",
    "                 \"data_dirs\": jp2_fp, \\\n",
    "                 \"filepath_to_imageName_mapping\": jp2_fp+\"/(.*?)_lossless.jp2\", \\\n",
    "                 \"imageName_to_filepath_mapping\": jp2_fp+\"/%s_lossless.jp2\"}]\n",
    "\n",
    "with open( json_fn, 'w') as outfile:\n",
    "    json.dump( json_data, outfile)\n",
    "\n",
    "! python jp2_to_tiff.py $stack $json_fn\n",
    "# command = [\"python\", \"jp2_to_tiff.py\", stack, json_fn]\n",
    "# completion_message = 'Completed converting jp2 to tiff for all files in folder.'\n",
    "# call_and_time( command, completion_message=completion_message)"
   ]
  },
  {
   "cell_type": "code",
   "execution_count": null,
   "metadata": {
    "collapsed": true
   },
   "outputs": [],
   "source": []
  },
  {
   "cell_type": "code",
   "execution_count": null,
   "metadata": {
    "collapsed": true
   },
   "outputs": [],
   "source": []
  },
  {
   "cell_type": "code",
   "execution_count": 7,
   "metadata": {
    "scrolled": true
   },
   "outputs": [
    {
     "ename": "ImportError",
     "evalue": "No module named ij",
     "output_type": "error",
     "traceback": [
      "\u001b[0;31m---------------------------------------------------------------------------\u001b[0m",
      "\u001b[0;31mImportError\u001b[0m                               Traceback (most recent call last)",
      "\u001b[0;32m<ipython-input-7-d425fd93793a>\u001b[0m in \u001b[0;36m<module>\u001b[0;34m()\u001b[0m\n\u001b[0;32m----> 1\u001b[0;31m \u001b[0;32mfrom\u001b[0m \u001b[0mij\u001b[0m \u001b[0;32mimport\u001b[0m \u001b[0mIJ\u001b[0m\u001b[0;34m\u001b[0m\u001b[0m\n\u001b[0m",
      "\u001b[0;31mImportError\u001b[0m: No module named ij"
     ]
    }
   ],
   "source": [
    "from ij import IJ"
   ]
  },
  {
   "cell_type": "code",
   "execution_count": 9,
   "metadata": {},
   "outputs": [
    {
     "name": "stdout",
     "output_type": "stream",
     "text": [
      "/usr/local/lib/python2.7/dist-packages/pip/_vendor/requests/__init__.py:83: RequestsDependencyWarning: Old version of cryptography ([1, 2, 3]) may cause slowdown.\n",
      "  warnings.warn(warning, RequestsDependencyWarning)\n",
      "\u001b[33mDEPRECATION: Python 2.7 will reach the end of its life on January 1st, 2020. Please upgrade your Python as Python 2.7 won't be maintained after that date. A future version of pip will drop support for Python 2.7.\u001b[0m\n",
      "Collecting pyimagej\n",
      "  Downloading https://files.pythonhosted.org/packages/68/a4/d22ea494423f7a4c7ca99b31ea7f1007b9f6bd4e9221c04a67a0373dbc58/pyimagej-0.4.0.tar.gz\n",
      "Collecting imglyb (from pyimagej)\n",
      "\u001b[31m  Could not find a version that satisfies the requirement imglyb (from pyimagej) (from versions: )\u001b[0m\n",
      "\u001b[31mNo matching distribution found for imglyb (from pyimagej)\u001b[0m\n",
      "\u001b[33mYou are using pip version 19.0.3, however version 19.1.1 is available.\n",
      "You should consider upgrading via the 'pip install --upgrade pip' command.\u001b[0m\n"
     ]
    }
   ],
   "source": [
    "! pip install pyimagej"
   ]
  },
  {
   "cell_type": "code",
   "execution_count": 7,
   "metadata": {},
   "outputs": [
    {
     "name": "stdout",
     "output_type": "stream",
     "text": [
      "/media/alexn/Data_2/Atlas_Root_Dirs/Beta_Testing/OOOOOOOOOOOOOOOOOOOOOOO/MD635-F1-2016.05.18-16.23.55_MD635_1_0001_lossless.jp2\n"
     ]
    }
   ],
   "source": [
    "\n",
    "from tkinter import filedialog\n",
    "from tkinter import *\n",
    "\n",
    "root = Tk()\n",
    "root.filename =  filedialog.askopenfilename(initialdir = \"/\",title = \"Select file\",filetypes = ((\"jp2 files\",\"*.jp2\"),(\"all files\",\"*.*\")))\n",
    "fn = root.filename\n",
    "jp2_fp = fn[0:max(loc for loc, val in enumerate(fn) if val == '/')+1]\n",
    "print(root.filename)\n",
    "root.destroy()"
   ]
  },
  {
   "cell_type": "code",
   "execution_count": 11,
   "metadata": {},
   "outputs": [
    {
     "data": {
      "text/plain": [
       "'/media/alexn/Data_2/Atlas_Root_Dirs/Beta_Testing/OOOOOOOOOOOOOOOOOOOOOOO/'"
      ]
     },
     "execution_count": 11,
     "metadata": {},
     "output_type": "execute_result"
    }
   ],
   "source": [
    "fn[0:max(loc for loc, val in enumerate(fn) if val == '/')+1]"
   ]
  },
  {
   "cell_type": "code",
   "execution_count": 1,
   "metadata": {},
   "outputs": [
    {
     "data": {
      "text/plain": [
       "'dsfksdjbkjsfkksfdk'"
      ]
     },
     "execution_count": 1,
     "metadata": {},
     "output_type": "execute_result"
    }
   ],
   "source": [
    "'dsfKSDJBKjsFKkSFDk'.lower()"
   ]
  },
  {
   "cell_type": "code",
   "execution_count": 5,
   "metadata": {},
   "outputs": [
    {
     "ename": "AttributeError",
     "evalue": "type object 'DataManager' has no attribute 'get_sorted_filenames'",
     "output_type": "error",
     "traceback": [
      "\u001b[0;31m---------------------------------------------------------------------------\u001b[0m",
      "\u001b[0;31mAttributeError\u001b[0m                            Traceback (most recent call last)",
      "\u001b[0;32m<ipython-input-5-a812d6664702>\u001b[0m in \u001b[0;36m<module>\u001b[0;34m()\u001b[0m\n\u001b[0;32m----> 1\u001b[0;31m \u001b[0mDataManager\u001b[0m\u001b[0;34m.\u001b[0m\u001b[0mget_sorted_filenames\u001b[0m\u001b[0;34m(\u001b[0m\u001b[0;34m)\u001b[0m\u001b[0;34m\u001b[0m\u001b[0m\n\u001b[0m",
      "\u001b[0;31mAttributeError\u001b[0m: type object 'DataManager' has no attribute 'get_sorted_filenames'"
     ]
    }
   ],
   "source": [
    "DataManager.get_sorted_filenames()"
   ]
  },
  {
   "cell_type": "code",
   "execution_count": 1,
   "metadata": {
    "collapsed": true
   },
   "outputs": [],
   "source": [
    "def save_dict_as_ini( input_dict, fp ):\n",
    "    import configparser\n",
    "    assert 'DEFAULT' in input_dict.keys()\n",
    "\n",
    "    config = configparser.ConfigParser()\n",
    "\n",
    "    for key in input_dict.keys():\n",
    "        config[key] = input_dict[key]\n",
    "    \n",
    "    with open(fp, 'w') as configfile:\n",
    "        config.write(configfile)"
   ]
  },
  {
   "cell_type": "code",
   "execution_count": 2,
   "metadata": {
    "collapsed": true
   },
   "outputs": [],
   "source": [
    "input_dict['DEFAULT'] = {'stack_name': 'MD585', \\\n",
    "                         'cutting_plane': 'sagittal',\\\n",
    "                         'planar_resolution_um': 0.46,\\\n",
    "                         'section_thickness_um': 20,\\\n",
    "                         'stain': 'Thionin',\\\n",
    "                         'stain_2_if_alternating': ''}\n",
    "save_dict_as_ini( input_dict, '/home/alexn/Desktop/test.ini')"
   ]
  },
  {
   "cell_type": "code",
   "execution_count": 2,
   "metadata": {
    "scrolled": true
   },
   "outputs": [
    {
     "name": "stderr",
     "output_type": "stream",
     "text": [
      "ENABLE_UPLOAD_S3 is not set, default to False.\n",
      "ENABLE_DOWNLOAD_S3 is not set, default to False.\n"
     ]
    },
    {
     "name": "stdout",
     "output_type": "stream",
     "text": [
      "Setting environment for Precision WorkStation for Alex Newberry\n",
      "{'MD585': 0.46}\n"
     ]
    },
    {
     "name": "stderr",
     "output_type": "stream",
     "text": [
      "No anchor.txt is found. Seems we are using the operation ini to provide anchor. Try to load operation ini.\n",
      "No anchor.txt is found. Seems we are using the operation ini to provide anchor. Try to load operation ini.\n",
      "Failed to cache MD585 section_limits: ini file /media/alexn/Data_2/Atlas_Root_Dirs/Beta_Testing/CSHL_data_processed/MD585/MD585_prep2_sectionLimits.ini does not exist.\n",
      "No anchor.txt is found. Seems we are using the operation ini to provide anchor. Try to load operation ini.\n",
      "Seems you are using operation INIs to provide cropbox.\n",
      "Failed to cache MD585 valid_sections/filenames: MD585\n",
      "No anchor.txt is found. Seems we are using the operation ini to provide anchor. Try to load operation ini.\n",
      "Seems you are using operation INIs to provide cropbox.\n",
      "Folder for stack MD589 not found, skipping.\n",
      "Folder for stack MD590 not found, skipping.\n",
      "Folder for stack MD591 not found, skipping.\n",
      "Folder for stack MD592 not found, skipping.\n",
      "Folder for stack MD593 not found, skipping.\n",
      "Folder for stack MD594 not found, skipping.\n",
      "Folder for stack MD595 not found, skipping.\n",
      "Folder for stack MD598 not found, skipping.\n",
      "Folder for stack MD599 not found, skipping.\n",
      "Folder for stack MD602 not found, skipping.\n",
      "Folder for stack MD603 not found, skipping.\n",
      "Folder for stack MD635 not found, skipping.\n",
      "Folder for stack MD653 not found, skipping.\n",
      "Folder for stack MD652 not found, skipping.\n",
      "Folder for stack MD642 not found, skipping.\n",
      "Folder for stack MD657 not found, skipping.\n",
      "Folder for stack MD658 not found, skipping.\n",
      "Folder for stack MD661 not found, skipping.\n",
      "Folder for stack MD662 not found, skipping.\n",
      "Folder for stack CHATM2 not found, skipping.\n",
      "Folder for stack CHATM3 not found, skipping.\n",
      "Folder for stack UCSD001 not found, skipping.\n"
     ]
    }
   ],
   "source": [
    "import os \n",
    "import sys\n",
    "import subprocess\n",
    "\n",
    "from a_driver_utilities import *\n",
    "sys.path.append(os.path.join(os.environ['REPO_DIR'], 'utilities'))\n",
    "from utilities2015 import *\n",
    "from registration_utilities import *\n",
    "from annotation_utilities import *\n",
    "from metadata import *\n",
    "from data_manager import *\n",
    "\n",
    "bs_root = '/nfs/birdstore-brainbucket1/Active_Atlas_Data/'"
   ]
  },
  {
   "cell_type": "code",
   "execution_count": 7,
   "metadata": {
    "collapsed": true,
    "scrolled": true
   },
   "outputs": [],
   "source": [
    "! cp -R $bs_root/UCSD_AxioScanner/2019/DK19_DK20/*.tif $ROOT_DIR/DK19_20/czi_raw_converted/"
   ]
  },
  {
   "cell_type": "code",
   "execution_count": 11,
   "metadata": {},
   "outputs": [
    {
     "name": "stdout",
     "output_type": "stream",
     "text": [
      "DK19_20_slide001_2019_04_09.czi  DK19_20_slide031_2019_04_09.czi\r\n",
      "DK19_20_slide002_2019_04_09.czi  DK19_20_slide032_2019_04_09.czi\r\n",
      "DK19_20_slide003_2019_04_09.czi  DK19_20_slide033_2019_04_09.czi\r\n",
      "DK19_20_slide004_2019_04_09.czi  DK19_20_slide034_2019_04_09.czi\r\n",
      "DK19_20_slide005_2019_04_09.czi  DK19_20_slide035_2019_04_09.czi\r\n",
      "DK19_20_slide006_2019_04_09.czi  DK19_20_slide036_2019_04_09.czi\r\n",
      "DK19_20_slide007_2019_04_09.czi  DK19_20_slide037_2019_04_09.czi\r\n",
      "DK19_20_slide008_2019_04_09.czi  DK19_20_slide038_2019_04_09.czi\r\n",
      "DK19_20_slide009_2019_04_09.czi  DK19_20_slide039_2019_04_09.czi\r\n",
      "DK19_20_slide010_2019_04_09.czi  DK19_20_slide040_2019_04_09.czi\r\n",
      "DK19_20_slide011_2019_04_09.czi  DK19_20_slide041_2019_04_09.czi\r\n",
      "DK19_20_slide012_2019_04_09.czi  DK19_20_slide042_2019_04_09.czi\r\n",
      "DK19_20_slide013_2019_04_09.czi  DK19_20_slide043_2019_04_09.czi\r\n",
      "DK19_20_slide016_2019_04_09.czi  DK19_20_slide044_2019_04_09.czi\r\n",
      "DK19_20_slide017_2019_04_09.czi  DK19_20_slide045_2019_04_09.czi\r\n",
      "DK19_20_slide018_2019_04_09.czi  DK19_20_slide046_2019_04_09.czi\r\n",
      "DK19_20_slide019_2019_04_09.czi  DK19_20_slide047_2019_04_09.czi\r\n",
      "DK19_20_slide020_2019_04_09.czi  DK19_20_slide048_2019_04_09.czi\r\n",
      "DK19_20_slide021_2019_04_09.czi  DK19_20_slide049_2019_04_09.czi\r\n",
      "DK19_20_slide022_2019_04_09.czi  DK19_20_slide050_2019_04_09.czi\r\n",
      "DK19_20_slide023_2019_04_09.czi  DK19_20_slide051_2019_04_09.czi\r\n",
      "DK19_20_slide024_2019_04_09.czi  DK19_20_slide052_2019_04_09.czi\r\n",
      "DK19_20_slide025_2019_04_09.czi  DK19_20_slide053_2019_04_09.czi\r\n",
      "DK19_20_slide026_2019_04_09.czi  DK19_20_slide054_2019_04_09.czi\r\n",
      "DK19_20_slide027_2019_04_09.czi  DK19_20_slide055_2019_04_09.czi\r\n",
      "DK19_20_slide028_2019_04_09.czi  DK19_20_slide056_2019_04_09.czi\r\n",
      "DK19_20_slide029_2019_04_09.czi  DK19_20_slide057_2019_04_09.czi\r\n",
      "DK19_20_slide030_2019_04_09.czi\r\n"
     ]
    }
   ],
   "source": [
    "# None copied\n",
    "# Must be mirrorred twice? Cut from the wrong side\n",
    "\n",
    "# sagittal-20um, NTB\n",
    "! ls $bs_root/UCSD_AxioScanner/2019/DK19_DK20/"
   ]
  },
  {
   "cell_type": "code",
   "execution_count": 9,
   "metadata": {
    "collapsed": true
   },
   "outputs": [],
   "source": [
    "! rm -R $bs_root/UCSD_AxioScanner/2019/DK19_DK20/*.tif"
   ]
  },
  {
   "cell_type": "code",
   "execution_count": 10,
   "metadata": {
    "collapsed": true
   },
   "outputs": [],
   "source": [
    "! rm -R $bs_root/UCSD_AxioScanner/2019/DK17_DK18/*.tif"
   ]
  },
  {
   "cell_type": "code",
   "execution_count": null,
   "metadata": {
    "collapsed": true
   },
   "outputs": [],
   "source": []
  }
 ],
 "metadata": {
  "kernelspec": {
   "display_name": "Python 2",
   "language": "python",
   "name": "python2"
  },
  "language_info": {
   "codemirror_mode": {
    "name": "ipython",
    "version": 2
   },
   "file_extension": ".py",
   "mimetype": "text/x-python",
   "name": "python",
   "nbconvert_exporter": "python",
   "pygments_lexer": "ipython2",
   "version": "2.7.12"
  }
 },
 "nbformat": 4,
 "nbformat_minor": 2
}
