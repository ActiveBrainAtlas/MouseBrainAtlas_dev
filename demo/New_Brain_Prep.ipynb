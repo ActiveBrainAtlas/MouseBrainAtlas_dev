{
 "cells": [
  {
   "cell_type": "code",
   "execution_count": 1,
   "metadata": {
    "scrolled": true
   },
   "outputs": [
    {
     "name": "stderr",
     "output_type": "stream",
     "text": [
      "ENABLE_UPLOAD_S3 is not set, default to False.\n",
      "ENABLE_DOWNLOAD_S3 is not set, default to False.\n"
     ]
    },
    {
     "name": "stdout",
     "output_type": "stream",
     "text": [
      "Setting environment for Precision WorkStation for Alex Newberry\n",
      "{}\n"
     ]
    },
    {
     "name": "stderr",
     "output_type": "stream",
     "text": [
      "Folder for stack MD585 not found, skipping.\n",
      "Folder for stack MD589 not found, skipping.\n",
      "Folder for stack MD590 not found, skipping.\n",
      "Folder for stack MD591 not found, skipping.\n",
      "Folder for stack MD592 not found, skipping.\n",
      "Folder for stack MD593 not found, skipping.\n",
      "Folder for stack MD594 not found, skipping.\n",
      "Folder for stack MD595 not found, skipping.\n",
      "Folder for stack MD598 not found, skipping.\n",
      "Folder for stack MD599 not found, skipping.\n",
      "Folder for stack MD602 not found, skipping.\n",
      "Folder for stack MD603 not found, skipping.\n",
      "Folder for stack MD635 not found, skipping.\n",
      "Folder for stack MD653 not found, skipping.\n",
      "Folder for stack MD652 not found, skipping.\n",
      "Folder for stack MD642 not found, skipping.\n",
      "Folder for stack MD657 not found, skipping.\n",
      "Folder for stack MD658 not found, skipping.\n",
      "Folder for stack MD661 not found, skipping.\n",
      "Folder for stack MD662 not found, skipping.\n",
      "Folder for stack CHATM2 not found, skipping.\n",
      "Folder for stack CHATM3 not found, skipping.\n",
      "Folder for stack UCSD001 not found, skipping.\n"
     ]
    }
   ],
   "source": [
    "import os \n",
    "import sys\n",
    "import subprocess\n",
    "\n",
    "from a_driver_utilities import *\n",
    "sys.path.append(os.path.join(os.environ['REPO_DIR'], 'utilities'))\n",
    "from utilities2015 import *\n",
    "from registration_utilities import *\n",
    "from annotation_utilities import *\n",
    "from metadata import *\n",
    "from data_manager import *\n",
    "\n",
    "bs_root = '/nfs/birdstore-brainbucket1/Active_Atlas_Data/'"
   ]
  },
  {
   "cell_type": "code",
   "execution_count": 7,
   "metadata": {
    "scrolled": true
   },
   "outputs": [],
   "source": [
    "! cp -R $bs_root/UCSD_AxioScanner/2019/DK19_DK20/*.tif $ROOT_DIR/DK19_20/czi_raw_converted/"
   ]
  },
  {
   "cell_type": "code",
   "execution_count": 11,
   "metadata": {},
   "outputs": [
    {
     "name": "stdout",
     "output_type": "stream",
     "text": [
      "DK19_20_slide001_2019_04_09.czi  DK19_20_slide031_2019_04_09.czi\r\n",
      "DK19_20_slide002_2019_04_09.czi  DK19_20_slide032_2019_04_09.czi\r\n",
      "DK19_20_slide003_2019_04_09.czi  DK19_20_slide033_2019_04_09.czi\r\n",
      "DK19_20_slide004_2019_04_09.czi  DK19_20_slide034_2019_04_09.czi\r\n",
      "DK19_20_slide005_2019_04_09.czi  DK19_20_slide035_2019_04_09.czi\r\n",
      "DK19_20_slide006_2019_04_09.czi  DK19_20_slide036_2019_04_09.czi\r\n",
      "DK19_20_slide007_2019_04_09.czi  DK19_20_slide037_2019_04_09.czi\r\n",
      "DK19_20_slide008_2019_04_09.czi  DK19_20_slide038_2019_04_09.czi\r\n",
      "DK19_20_slide009_2019_04_09.czi  DK19_20_slide039_2019_04_09.czi\r\n",
      "DK19_20_slide010_2019_04_09.czi  DK19_20_slide040_2019_04_09.czi\r\n",
      "DK19_20_slide011_2019_04_09.czi  DK19_20_slide041_2019_04_09.czi\r\n",
      "DK19_20_slide012_2019_04_09.czi  DK19_20_slide042_2019_04_09.czi\r\n",
      "DK19_20_slide013_2019_04_09.czi  DK19_20_slide043_2019_04_09.czi\r\n",
      "DK19_20_slide016_2019_04_09.czi  DK19_20_slide044_2019_04_09.czi\r\n",
      "DK19_20_slide017_2019_04_09.czi  DK19_20_slide045_2019_04_09.czi\r\n",
      "DK19_20_slide018_2019_04_09.czi  DK19_20_slide046_2019_04_09.czi\r\n",
      "DK19_20_slide019_2019_04_09.czi  DK19_20_slide047_2019_04_09.czi\r\n",
      "DK19_20_slide020_2019_04_09.czi  DK19_20_slide048_2019_04_09.czi\r\n",
      "DK19_20_slide021_2019_04_09.czi  DK19_20_slide049_2019_04_09.czi\r\n",
      "DK19_20_slide022_2019_04_09.czi  DK19_20_slide050_2019_04_09.czi\r\n",
      "DK19_20_slide023_2019_04_09.czi  DK19_20_slide051_2019_04_09.czi\r\n",
      "DK19_20_slide024_2019_04_09.czi  DK19_20_slide052_2019_04_09.czi\r\n",
      "DK19_20_slide025_2019_04_09.czi  DK19_20_slide053_2019_04_09.czi\r\n",
      "DK19_20_slide026_2019_04_09.czi  DK19_20_slide054_2019_04_09.czi\r\n",
      "DK19_20_slide027_2019_04_09.czi  DK19_20_slide055_2019_04_09.czi\r\n",
      "DK19_20_slide028_2019_04_09.czi  DK19_20_slide056_2019_04_09.czi\r\n",
      "DK19_20_slide029_2019_04_09.czi  DK19_20_slide057_2019_04_09.czi\r\n",
      "DK19_20_slide030_2019_04_09.czi\r\n"
     ]
    }
   ],
   "source": [
    "# None copied\n",
    "# Must be mirrorred twice? Cut from the wrong side\n",
    "\n",
    "# sagittal-20um, NTB\n",
    "! ls $bs_root/UCSD_AxioScanner/2019/DK19_DK20/"
   ]
  },
  {
   "cell_type": "code",
   "execution_count": 9,
   "metadata": {},
   "outputs": [],
   "source": [
    "! rm -R $bs_root/UCSD_AxioScanner/2019/DK19_DK20/*.tif"
   ]
  },
  {
   "cell_type": "code",
   "execution_count": 10,
   "metadata": {
    "collapsed": true
   },
   "outputs": [],
   "source": [
    "! rm -R $bs_root/UCSD_AxioScanner/2019/DK17_DK18/*.tif"
   ]
  },
  {
   "cell_type": "code",
   "execution_count": null,
   "metadata": {
    "collapsed": true
   },
   "outputs": [],
   "source": []
  }
 ],
 "metadata": {
  "kernelspec": {
   "display_name": "Python 2",
   "language": "python",
   "name": "python2"
  },
  "language_info": {
   "codemirror_mode": {
    "name": "ipython",
    "version": 2
   },
   "file_extension": ".py",
   "mimetype": "text/x-python",
   "name": "python",
   "nbconvert_exporter": "python",
   "pygments_lexer": "ipython2",
   "version": "2.7.12"
  }
 },
 "nbformat": 4,
 "nbformat_minor": 2
}
