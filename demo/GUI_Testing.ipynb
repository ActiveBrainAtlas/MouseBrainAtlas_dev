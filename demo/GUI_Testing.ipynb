{
 "cells": [
  {
   "cell_type": "code",
   "execution_count": 3,
   "metadata": {},
   "outputs": [
    {
     "name": "stdout",
     "output_type": "stream",
     "text": [
      "Setting environment for Precision WorkStation for Alex Newberry\n",
      "{'DK18': 0.325, 'DK17': 0.325}\n"
     ]
    },
    {
     "name": "stderr",
     "output_type": "stream",
     "text": [
      "No anchor.txt is found. Seems we are using the operation ini to provide anchor. Try to load operation ini.\n",
      "No anchor.txt is found. Seems we are using the operation ini to provide anchor. Try to load operation ini.\n",
      "Failed to cache DK17 section_limits: ini file /media/alexn/Data_2/Atlas_Root_Dirs/Duke_Brains/CSHL_data_processed/DK17/DK17_prep2_sectionLimits.ini does not exist.\n",
      "No anchor.txt is found. Seems we are using the operation ini to provide anchor. Try to load operation ini.\n",
      "Seems you are using operation INIs to provide cropbox.\n",
      "Failed to cache DK17 valid_sections/filenames: DK17\n",
      "No anchor.txt is found. Seems we are using the operation ini to provide anchor. Try to load operation ini.\n",
      "Seems you are using operation INIs to provide cropbox.\n",
      "No anchor.txt is found. Seems we are using the operation ini to provide anchor. Try to load operation ini.\n",
      "Failed to cache DK18 anchor: ini file /media/alexn/Data_2/Atlas_Root_Dirs/Duke_Brains/CSHL_data_processed/DK18/operation_configs/from_none_to_aligned.ini does not exist.\n",
      "No anchor.txt is found. Seems we are using the operation ini to provide anchor. Try to load operation ini.\n",
      "Failed to cache DK18 section_limits: ini file /media/alexn/Data_2/Atlas_Root_Dirs/Duke_Brains/CSHL_data_processed/DK18/operation_configs/from_none_to_aligned.ini does not exist.\n",
      "No anchor.txt is found. Seems we are using the operation ini to provide anchor. Try to load operation ini.\n",
      "Failed to cache DK18 cropbox: ini file /media/alexn/Data_2/Atlas_Root_Dirs/Duke_Brains/CSHL_data_processed/DK18/operation_configs/from_none_to_aligned.ini does not exist.\n",
      "Failed to cache DK18 valid_sections/filenames: DK18\n",
      "No anchor.txt is found. Seems we are using the operation ini to provide anchor. Try to load operation ini.\n",
      "Failed to cache DK18 image_shape: ini file /media/alexn/Data_2/Atlas_Root_Dirs/Duke_Brains/CSHL_data_processed/DK18/operation_configs/from_none_to_aligned.ini does not exist.\n"
     ]
    }
   ],
   "source": [
    "import os \n",
    "import sys\n",
    "import subprocess\n",
    "from a_driver_utilities import *\n",
    "sys.path.append(os.path.join(os.environ['REPO_DIR'], 'utilities'))\n",
    "from utilities2015 import *\n",
    "from registration_utilities import *\n",
    "from annotation_utilities import *\n",
    "# from metadata import *\n",
    "from data_manager import DataManager\n",
    "from a_driver_utilities import *\n",
    "\n",
    "def all_img_files_present( stack, prep_id='None', version='Ntb', resol='thumbnail' ):\n",
    "    all_files_present = True\n",
    "    missing_files = []\n",
    "    \n",
    "    filenames_list = DataManager.load_sorted_filenames(stack)[0].keys()\n",
    "    for img_name in filenames_list:\n",
    "        img_fp = DataManager.get_image_filepath_v2(stack=stack, prep_id=prep_id, resol=resol, version=version, fn=img_name)\n",
    "        if not os.path.isfile( img_fp ):\n",
    "            all_files_present = False\n",
    "            missing_files.append(img_name)\n",
    "            \n",
    "    return all_files_present, missing_files\n",
    "\n",
    "def all_img_files_valid( stack, prep_id='None', version='Ntb', resol='thumbnail' ):\n",
    "    all_files_valid = True\n",
    "    corrupted_files = []\n",
    "    \n",
    "    filenames_list = DataManager.load_sorted_filenames(stack)[0].keys()\n",
    "    for img_name in filenames_list:\n",
    "        img_fp = DataManager.get_image_filepath_v2(stack=stack, prep_id=prep_id, resol=resol, version=version, fn=img_name)\n",
    "        \n",
    "        try:\n",
    "            img = cv2.imread(img_fp)\n",
    "            # If length of the image size is zero, it's corrupted\n",
    "            if len(np.shape(img))==0:\n",
    "                all_files_valid = False\n",
    "                corrupted_files.append(img_name)\n",
    "                continue\n",
    "        except Exception as e:\n",
    "            all_files_valid = False\n",
    "            print(e)\n",
    "            corrupted_files.append(img_name)\n",
    "            \n",
    "    return all_files_valid, corrupted_files\n",
    "\n",
    "def get_horozontal_or_vertical_files( stack, orientation, prep_id='None', version='NtbNormalized', resol='thumbnail' ):\n",
    "    assert orientation in [\"vertical\",\"horozontal\"]\n",
    "    all_files_horoz = True\n",
    "    vert_files = []\n",
    "    horoz_files = []\n",
    "    \n",
    "    filenames_list = DataManager.load_sorted_filenames(stack)[0].keys()\n",
    "    for img_name in filenames_list:\n",
    "        img_fp = DataManager.get_image_filepath_v2(stack=stack, prep_id=prep_id, resol=resol, version=version, fn=img_name)\n",
    "        \n",
    "        try:\n",
    "            img = cv2.imread(img_fp)\n",
    "            \n",
    "            img_shape = np.shape(img)\n",
    "            if img_shape[1] < img_shape[0]: # is vertical\n",
    "                if orientation==\"vertical\":\n",
    "                    print img_name\n",
    "                vert_files.append(img_name)\n",
    "                all_files_horoz = False\n",
    "            elif img_shape[1] > img_shape[0]: # is horozontal\n",
    "                if orientation==\"horozontal\":\n",
    "                    print img_name\n",
    "                horoz_files.append(img_name)\n",
    "            \n",
    "        except Exception as e:\n",
    "            all_files_horoz = False\n",
    "            print(e)\n",
    "            \n",
    "    if orientation==\"vertical\":\n",
    "        return not all_files_horoz, vert_files\n",
    "    elif orientation==\"horozontal\":\n",
    "        return all_files_horoz, horoz_files\n",
    "\n",
    "def make_dummy_sorted_filenames( stack, image_fn_list ):\n",
    "    fns_data = \"\"\n",
    "    for i in range(1,len(image_fn_list)+1):\n",
    "        image_fn = image_fn_list[i-1]\n",
    "        fns_data += image_fn+\" \"+str(i)+\" \\n\"\n",
    "    fns_data = fns_data[:-2]\n",
    "#     print fns_data\n",
    "    with open(DataManager.get_sorted_filenames_filename(stack), 'w') as f:\n",
    "        f.write(fns_data)"
   ]
  },
  {
   "cell_type": "code",
   "execution_count": 7,
   "metadata": {},
   "outputs": [
    {
     "data": {
      "text/plain": [
       "['DK17', 'DK18']"
      ]
     },
     "execution_count": 7,
     "metadata": {},
     "output_type": "execute_result"
    }
   ],
   "source": [
    "planar_resolution"
   ]
  },
  {
   "cell_type": "code",
   "execution_count": 5,
   "metadata": {},
   "outputs": [
    {
     "data": {
      "text/plain": [
       "360"
      ]
     },
     "execution_count": 5,
     "metadata": {},
     "output_type": "execute_result"
    }
   ],
   "source": [
    "len(DataManager.load_sorted_filenames(\"DK17\")[0].keys())"
   ]
  },
  {
   "cell_type": "code",
   "execution_count": null,
   "metadata": {
    "collapsed": true
   },
   "outputs": [],
   "source": []
  },
  {
   "cell_type": "code",
   "execution_count": null,
   "metadata": {
    "collapsed": true
   },
   "outputs": [],
   "source": []
  },
  {
   "cell_type": "code",
   "execution_count": 1,
   "metadata": {},
   "outputs": [
    {
     "name": "stdout",
     "output_type": "stream",
     "text": [
      "QGridLayout.addLayout(QLayout, int, int, Qt.Alignment alignment=0)\n",
      "QGridLayout.addLayout(QLayout, int, int, int, int, Qt.Alignment alignment=0)\n"
     ]
    }
   ],
   "source": [
    "from PyQt4.QtCore import *\n",
    "from PyQt4.QtGui import *\n",
    "\n",
    "print QGridLayout.addLayout.__doc__"
   ]
  },
  {
   "cell_type": "code",
   "execution_count": 3,
   "metadata": {
    "scrolled": true
   },
   "outputs": [
    {
     "ename": "TypeError",
     "evalue": "vars() argument must have __dict__ attribute",
     "output_type": "error",
     "traceback": [
      "\u001b[0;31m---------------------------------------------------------------------------\u001b[0m",
      "\u001b[0;31mTypeError\u001b[0m                                 Traceback (most recent call last)",
      "\u001b[0;32m<ipython-input-3-879ec4926e59>\u001b[0m in \u001b[0;36m<module>\u001b[0;34m()\u001b[0m\n\u001b[0;32m----> 1\u001b[0;31m \u001b[0mvars\u001b[0m\u001b[0;34m(\u001b[0m\u001b[0mQGridLayout\u001b[0m\u001b[0;34m.\u001b[0m\u001b[0maddLayout\u001b[0m\u001b[0;34m)\u001b[0m\u001b[0;34m\u001b[0m\u001b[0m\n\u001b[0m",
      "\u001b[0;31mTypeError\u001b[0m: vars() argument must have __dict__ attribute"
     ]
    }
   ],
   "source": [
    "vars(QGridLayout.addLayout)"
   ]
  },
  {
   "cell_type": "code",
   "execution_count": 3,
   "metadata": {
    "scrolled": true
   },
   "outputs": [
    {
     "data": {
      "text/plain": [
       "dict_proxy({'KeepEmptyParts': 0,\n",
       "            'NormalizationForm': PyQt4.QtCore.NormalizationForm,\n",
       "            'NormalizationForm_C': 1,\n",
       "            'NormalizationForm_D': 0,\n",
       "            'NormalizationForm_KC': 3,\n",
       "            'NormalizationForm_KD': 2,\n",
       "            'SectionCaseInsensitiveSeps': 8,\n",
       "            'SectionDefault': 0,\n",
       "            'SectionFlag': PyQt4.QtCore.SectionFlag,\n",
       "            'SectionFlags': PyQt4.QtCore.SectionFlags,\n",
       "            'SectionIncludeLeadingSep': 2,\n",
       "            'SectionIncludeTrailingSep': 4,\n",
       "            'SectionSkipEmpty': 1,\n",
       "            'SkipEmptyParts': 1,\n",
       "            'SplitBehavior': PyQt4.QtCore.SplitBehavior,\n",
       "            '__add__': <slot wrapper '__add__' of 'QString' objects>,\n",
       "            '__contains__': <slot wrapper '__contains__' of 'QString' objects>,\n",
       "            '__doc__': 'QString()\\nQString(int, QChar)\\nQString(QString)\\nQString(QByteArray)\\nQString(QUuid)',\n",
       "            '__eq__': <slot wrapper '__eq__' of 'QString' objects>,\n",
       "            '__ge__': <slot wrapper '__ge__' of 'QString' objects>,\n",
       "            '__getitem__': <slot wrapper '__getitem__' of 'QString' objects>,\n",
       "            '__gt__': <slot wrapper '__gt__' of 'QString' objects>,\n",
       "            '__hash__': <slot wrapper '__hash__' of 'QString' objects>,\n",
       "            '__iadd__': <slot wrapper '__iadd__' of 'QString' objects>,\n",
       "            '__imul__': <slot wrapper '__imul__' of 'QString' objects>,\n",
       "            '__le__': <slot wrapper '__le__' of 'QString' objects>,\n",
       "            '__len__': <slot wrapper '__len__' of 'QString' objects>,\n",
       "            '__lt__': <slot wrapper '__lt__' of 'QString' objects>,\n",
       "            '__module__': 'PyQt4.QtCore',\n",
       "            '__mul__': <slot wrapper '__mul__' of 'QString' objects>,\n",
       "            '__ne__': <slot wrapper '__ne__' of 'QString' objects>,\n",
       "            '__radd__': <slot wrapper '__radd__' of 'QString' objects>,\n",
       "            '__reduce__': <method '_pickle_type' of 'QString' objects>,\n",
       "            '__repr__': <slot wrapper '__repr__' of 'QString' objects>,\n",
       "            '__rmul__': <slot wrapper '__rmul__' of 'QString' objects>,\n",
       "            '__str__': <slot wrapper '__str__' of 'QString' objects>,\n",
       "            '__weakref__': <attribute '__weakref__' of 'QString' objects>,\n",
       "            'append': <built-in method append>,\n",
       "            'arg': <built-in method arg>,\n",
       "            'at': <built-in method at>,\n",
       "            'capacity': <built-in method capacity>,\n",
       "            'chop': <built-in method chop>,\n",
       "            'clear': <built-in method clear>,\n",
       "            'compare': <built-in method compare>,\n",
       "            'contains': <built-in method contains>,\n",
       "            'count': <built-in method count>,\n",
       "            'endsWith': <built-in method endsWith>,\n",
       "            'fill': <built-in method fill>,\n",
       "            'fromAscii': <built-in method fromAscii>,\n",
       "            'fromLatin1': <built-in method fromLatin1>,\n",
       "            'fromLocal8Bit': <built-in method fromLocal8Bit>,\n",
       "            'fromUtf8': <built-in method fromUtf8>,\n",
       "            'indexOf': <built-in method indexOf>,\n",
       "            'insert': <built-in method insert>,\n",
       "            'isEmpty': <built-in method isEmpty>,\n",
       "            'isNull': <built-in method isNull>,\n",
       "            'isRightToLeft': <built-in method isRightToLeft>,\n",
       "            'isSimpleText': <built-in method isSimpleText>,\n",
       "            'lastIndexOf': <built-in method lastIndexOf>,\n",
       "            'left': <built-in method left>,\n",
       "            'leftJustified': <built-in method leftJustified>,\n",
       "            'length': <built-in method length>,\n",
       "            'localeAwareCompare': <built-in method localeAwareCompare>,\n",
       "            'mid': <built-in method mid>,\n",
       "            'normalized': <built-in method normalized>,\n",
       "            'number': <built-in method number>,\n",
       "            'prepend': <built-in method prepend>,\n",
       "            'push_back': <built-in method push_back>,\n",
       "            'push_front': <built-in method push_front>,\n",
       "            'remove': <built-in method remove>,\n",
       "            'repeated': <built-in method repeated>,\n",
       "            'replace': <built-in method replace>,\n",
       "            'reserve': <built-in method reserve>,\n",
       "            'resize': <built-in method resize>,\n",
       "            'right': <built-in method right>,\n",
       "            'rightJustified': <built-in method rightJustified>,\n",
       "            'section': <built-in method section>,\n",
       "            'setNum': <built-in method setNum>,\n",
       "            'simplified': <built-in method simplified>,\n",
       "            'size': <built-in method size>,\n",
       "            'split': <built-in method split>,\n",
       "            'squeeze': <built-in method squeeze>,\n",
       "            'startsWith': <built-in method startsWith>,\n",
       "            'swap': <built-in method swap>,\n",
       "            'toAscii': <built-in method toAscii>,\n",
       "            'toCaseFolded': <built-in method toCaseFolded>,\n",
       "            'toDouble': <built-in method toDouble>,\n",
       "            'toFloat': <built-in method toFloat>,\n",
       "            'toInt': <built-in method toInt>,\n",
       "            'toLatin1': <built-in method toLatin1>,\n",
       "            'toLocal8Bit': <built-in method toLocal8Bit>,\n",
       "            'toLong': <built-in method toLong>,\n",
       "            'toLongLong': <built-in method toLongLong>,\n",
       "            'toLower': <built-in method toLower>,\n",
       "            'toShort': <built-in method toShort>,\n",
       "            'toUInt': <built-in method toUInt>,\n",
       "            'toULong': <built-in method toULong>,\n",
       "            'toULongLong': <built-in method toULongLong>,\n",
       "            'toUShort': <built-in method toUShort>,\n",
       "            'toUpper': <built-in method toUpper>,\n",
       "            'toUtf8': <built-in method toUtf8>,\n",
       "            'trimmed': <built-in method trimmed>,\n",
       "            'truncate': <built-in method truncate>})"
      ]
     },
     "execution_count": 3,
     "metadata": {},
     "output_type": "execute_result"
    }
   ],
   "source": [
    "import PyQt4\n",
    "vars(PyQt4.QtCore.QString)"
   ]
  },
  {
   "cell_type": "code",
   "execution_count": 3,
   "metadata": {},
   "outputs": [
    {
     "data": {
      "text/plain": [
       "{'cutting_plane': 'sagittal', 'resolution': 0.325, 'stain': 'NTB'}"
      ]
     },
     "execution_count": 3,
     "metadata": {},
     "output_type": "execute_result"
    }
   ],
   "source": [
    "stack_metadata['DK17']"
   ]
  },
  {
   "cell_type": "code",
   "execution_count": 1,
   "metadata": {},
   "outputs": [
    {
     "name": "stdout",
     "output_type": "stream",
     "text": [
      "Setting environment for Precision WorkStation for Alex Newberry\n",
      "{'DK18': 0.325, 'DK17': 0.325}\n"
     ]
    },
    {
     "name": "stderr",
     "output_type": "stream",
     "text": [
      "No anchor.txt is found. Seems we are using the operation ini to provide anchor. Try to load operation ini.\n",
      "No anchor.txt is found. Seems we are using the operation ini to provide anchor. Try to load operation ini.\n",
      "Failed to cache DK17 section_limits: ini file /media/alexn/Data_2/Atlas_Root_Dirs/Duke_Brains/CSHL_data_processed/DK17/DK17_prep2_sectionLimits.ini does not exist.\n",
      "No anchor.txt is found. Seems we are using the operation ini to provide anchor. Try to load operation ini.\n",
      "Seems you are using operation INIs to provide cropbox.\n",
      "Failed to cache DK17 valid_sections/filenames: DK17\n",
      "No anchor.txt is found. Seems we are using the operation ini to provide anchor. Try to load operation ini.\n",
      "Seems you are using operation INIs to provide cropbox.\n",
      "No anchor.txt is found. Seems we are using the operation ini to provide anchor. Try to load operation ini.\n",
      "Failed to cache DK18 anchor: ini file /media/alexn/Data_2/Atlas_Root_Dirs/Duke_Brains/CSHL_data_processed/DK18/operation_configs/from_none_to_aligned.ini does not exist.\n",
      "No anchor.txt is found. Seems we are using the operation ini to provide anchor. Try to load operation ini.\n",
      "Failed to cache DK18 section_limits: ini file /media/alexn/Data_2/Atlas_Root_Dirs/Duke_Brains/CSHL_data_processed/DK18/operation_configs/from_none_to_aligned.ini does not exist.\n",
      "No anchor.txt is found. Seems we are using the operation ini to provide anchor. Try to load operation ini.\n",
      "Failed to cache DK18 cropbox: ini file /media/alexn/Data_2/Atlas_Root_Dirs/Duke_Brains/CSHL_data_processed/DK18/operation_configs/from_none_to_aligned.ini does not exist.\n",
      "Failed to cache DK18 valid_sections/filenames: DK18\n",
      "No anchor.txt is found. Seems we are using the operation ini to provide anchor. Try to load operation ini.\n",
      "Failed to cache DK18 image_shape: ini file /media/alexn/Data_2/Atlas_Root_Dirs/Duke_Brains/CSHL_data_processed/DK18/operation_configs/from_none_to_aligned.ini does not exist.\n"
     ]
    }
   ],
   "source": [
    "import os \n",
    "import subprocess\n",
    "from a_driver_utilities import *\n",
    "sys.path.append(os.path.join(os.environ['REPO_DIR'], 'utilities'))\n",
    "from utilities2015 import *\n",
    "from registration_utilities import *\n",
    "from annotation_utilities import *\n",
    "# from metadata import *\n",
    "from data_manager import DataManager\n",
    "from a_driver_utilities import *"
   ]
  },
  {
   "cell_type": "code",
   "execution_count": 1,
   "metadata": {},
   "outputs": [
    {
     "name": "stdout",
     "output_type": "stream",
     "text": [
      "Setting environment for Precision WorkStation for Alex Newberry\n",
      "{'DK18': 0.325, 'DK17': 0.325}\n"
     ]
    },
    {
     "name": "stderr",
     "output_type": "stream",
     "text": [
      "No anchor.txt is found. Seems we are using the operation ini to provide anchor. Try to load operation ini.\n",
      "No anchor.txt is found. Seems we are using the operation ini to provide anchor. Try to load operation ini.\n",
      "Failed to cache DK17 section_limits: ini file /media/alexn/Data_2/Atlas_Root_Dirs/Duke_Brains/CSHL_data_processed/DK17/DK17_prep2_sectionLimits.ini does not exist.\n",
      "No anchor.txt is found. Seems we are using the operation ini to provide anchor. Try to load operation ini.\n",
      "Seems you are using operation INIs to provide cropbox.\n",
      "Failed to cache DK17 valid_sections/filenames: DK17\n",
      "No anchor.txt is found. Seems we are using the operation ini to provide anchor. Try to load operation ini.\n",
      "Seems you are using operation INIs to provide cropbox.\n",
      "No anchor.txt is found. Seems we are using the operation ini to provide anchor. Try to load operation ini.\n",
      "Failed to cache DK18 anchor: ini file /media/alexn/Data_2/Atlas_Root_Dirs/Duke_Brains/CSHL_data_processed/DK18/operation_configs/from_none_to_aligned.ini does not exist.\n",
      "No anchor.txt is found. Seems we are using the operation ini to provide anchor. Try to load operation ini.\n",
      "Failed to cache DK18 section_limits: ini file /media/alexn/Data_2/Atlas_Root_Dirs/Duke_Brains/CSHL_data_processed/DK18/operation_configs/from_none_to_aligned.ini does not exist.\n",
      "No anchor.txt is found. Seems we are using the operation ini to provide anchor. Try to load operation ini.\n",
      "Failed to cache DK18 cropbox: ini file /media/alexn/Data_2/Atlas_Root_Dirs/Duke_Brains/CSHL_data_processed/DK18/operation_configs/from_none_to_aligned.ini does not exist.\n",
      "Failed to cache DK18 valid_sections/filenames: DK18\n",
      "No anchor.txt is found. Seems we are using the operation ini to provide anchor. Try to load operation ini.\n",
      "Failed to cache DK18 image_shape: ini file /media/alexn/Data_2/Atlas_Root_Dirs/Duke_Brains/CSHL_data_processed/DK18/operation_configs/from_none_to_aligned.ini does not exist.\n"
     ]
    },
    {
     "name": "stdout",
     "output_type": "stream",
     "text": [
      "Items in the list are :\n",
      "<class 'PyQt4.QtCore.QString'>\n",
      "DK17\n",
      "Current index 1 selection changed  DK18\n"
     ]
    },
    {
     "ename": "KeyError",
     "evalue": "PyQt4.QtCore.QByteArray('DK18')",
     "output_type": "error",
     "traceback": [
      "\u001b[0;31m---------------------------------------------------------------------------\u001b[0m",
      "\u001b[0;31mKeyError\u001b[0m                                  Traceback (most recent call last)",
      "\u001b[0;32m<ipython-input-1-3e536353dfcb>\u001b[0m in \u001b[0;36mdropdownSelect\u001b[0;34m(self, i)\u001b[0m\n\u001b[1;32m    106\u001b[0m             \u001b[0;32mprint\u001b[0m \u001b[0;34m\"Current index\"\u001b[0m\u001b[0;34m,\u001b[0m\u001b[0mi\u001b[0m\u001b[0;34m,\u001b[0m\u001b[0;34m\"selection changed \"\u001b[0m\u001b[0;34m,\u001b[0m\u001b[0mselection\u001b[0m\u001b[0;34m\u001b[0m\u001b[0m\n\u001b[1;32m    107\u001b[0m \u001b[0;34m\u001b[0m\u001b[0m\n\u001b[0;32m--> 108\u001b[0;31m             \u001b[0mself\u001b[0m\u001b[0;34m.\u001b[0m\u001b[0mupdate_stain_field\u001b[0m\u001b[0;34m(\u001b[0m \u001b[0mselection_str\u001b[0m \u001b[0;34m)\u001b[0m\u001b[0;34m\u001b[0m\u001b[0m\n\u001b[0m\u001b[1;32m    109\u001b[0m \u001b[0;34m\u001b[0m\u001b[0m\n\u001b[1;32m    110\u001b[0m \u001b[0;34m\u001b[0m\u001b[0m\n",
      "\u001b[0;32m<ipython-input-1-3e536353dfcb>\u001b[0m in \u001b[0;36mupdate_stain_field\u001b[0;34m(self, stack)\u001b[0m\n\u001b[1;32m    110\u001b[0m \u001b[0;34m\u001b[0m\u001b[0m\n\u001b[1;32m    111\u001b[0m     \u001b[0;32mdef\u001b[0m \u001b[0mupdate_stain_field\u001b[0m\u001b[0;34m(\u001b[0m\u001b[0mself\u001b[0m\u001b[0;34m,\u001b[0m \u001b[0mstack\u001b[0m\u001b[0;34m)\u001b[0m\u001b[0;34m:\u001b[0m\u001b[0;34m\u001b[0m\u001b[0m\n\u001b[0;32m--> 112\u001b[0;31m         \u001b[0mself\u001b[0m\u001b[0;34m.\u001b[0m\u001b[0me3\u001b[0m\u001b[0;34m.\u001b[0m\u001b[0msetText\u001b[0m\u001b[0;34m(\u001b[0m \u001b[0mstack_metadata\u001b[0m\u001b[0;34m[\u001b[0m\u001b[0mstack\u001b[0m\u001b[0;34m]\u001b[0m \u001b[0;34m)\u001b[0m\u001b[0;34m\u001b[0m\u001b[0m\n\u001b[0m\u001b[1;32m    113\u001b[0m \u001b[0;34m\u001b[0m\u001b[0m\n\u001b[1;32m    114\u001b[0m     \u001b[0;32mdef\u001b[0m \u001b[0mbuttonPress\u001b[0m\u001b[0;34m(\u001b[0m\u001b[0mself\u001b[0m\u001b[0;34m,\u001b[0m\u001b[0mb\u001b[0m\u001b[0;34m)\u001b[0m\u001b[0;34m:\u001b[0m\u001b[0;34m\u001b[0m\u001b[0m\n",
      "\u001b[0;31mKeyError\u001b[0m: PyQt4.QtCore.QByteArray('DK18')"
     ]
    },
    {
     "ename": "SystemExit",
     "evalue": "0",
     "output_type": "error",
     "traceback": [
      "An exception has occurred, use %tb to see the full traceback.\n",
      "\u001b[0;31mSystemExit\u001b[0m\u001b[0;31m:\u001b[0m 0\n"
     ]
    },
    {
     "name": "stderr",
     "output_type": "stream",
     "text": [
      "/usr/local/lib/python2.7/dist-packages/IPython/core/interactiveshell.py:2890: UserWarning: To exit: use 'exit', 'quit', or Ctrl-D.\n",
      "  warn(\"To exit: use 'exit', 'quit', or Ctrl-D.\", stacklevel=1)\n"
     ]
    }
   ],
   "source": [
    "import os \n",
    "import subprocess\n",
    "from a_driver_utilities import *\n",
    "sys.path.append(os.path.join(os.environ['REPO_DIR'], 'utilities'))\n",
    "from utilities2015 import *\n",
    "from registration_utilities import *\n",
    "from annotation_utilities import *\n",
    "# from metadata import *\n",
    "from data_manager import DataManager\n",
    "from a_driver_utilities import *\n",
    "\n",
    "import sys\n",
    "from PyQt4.QtCore import *\n",
    "from PyQt4.QtGui import *\n",
    "\n",
    "class init_GUI(QWidget):\n",
    "    def __init__(self, parent = None):\n",
    "        super(init_GUI, self).__init__(parent)\n",
    "        self.font1 = QFont(\"Arial\",16)\n",
    "        \n",
    "        self.initUI()\n",
    "        \n",
    "    def initUI(self):\n",
    "        # Set Layout and Geometry of Window\n",
    "        #layout = QHBoxLayout()\n",
    "        self.grid1 = QGridLayout()\n",
    "        self.grid2 = QGridLayout()\n",
    "        #self.setGeometry(50, 50, 300, 300)\n",
    "        self.setFixedSize(500, 400)\n",
    "        \n",
    "        ### Grid 1 (1 row) ###\n",
    "        # Static Text Field\n",
    "        self.e1 = QLineEdit()\n",
    "        self.e1.setValidator( QIntValidator() )\n",
    "        self.e1.setMaxLength(6)\n",
    "        self.e1.setAlignment(Qt.AlignRight)\n",
    "        self.e1.setFont( self.font1 )\n",
    "        self.e1.setReadOnly( True )\n",
    "        self.e1.setText( \"Stack:\" )\n",
    "        self.e1.setFrame( False )\n",
    "        self.grid1.addWidget( self.e1, 0, 0)\n",
    "        # Dropbown Menu (ComboBox) for selecting Stack\n",
    "        self.cb = QComboBox()\n",
    "        self.cb.addItems( all_stacks )\n",
    "        self.cb.setFont( self.font1 )\n",
    "        self.cb.currentIndexChanged.connect( self.dropdownSelect )\n",
    "        self.grid1.addWidget(self.cb, 0, 1)\n",
    "        # Static Text Field\n",
    "        self.e2 = QLineEdit()\n",
    "        self.e2.setValidator( QIntValidator() )\n",
    "        self.e2.setMaxLength(6)\n",
    "        self.e2.setAlignment(Qt.AlignRight)\n",
    "        self.e2.setFont( self.font1 )\n",
    "        self.e2.setReadOnly( True )\n",
    "        self.e2.setText( \"Stain:\" )\n",
    "        self.e2.setFrame( False )\n",
    "        self.grid1.addWidget( self.e2, 0, 2)\n",
    "        # Static Text Field\n",
    "        self.e3 = QLineEdit()\n",
    "        self.e3.setValidator( QIntValidator() )\n",
    "        self.e3.setMaxLength(9)\n",
    "        self.e3.setAlignment(Qt.AlignLeft)\n",
    "        self.e3.setFont( self.font1 )\n",
    "        self.e3.setReadOnly( True )\n",
    "        self.e3.setText( \"\" )\n",
    "        self.e3.setFrame( False )\n",
    "        self.grid1.addWidget( self.e3, 0, 3)\n",
    "        \n",
    "        ### Grid 2 ###\n",
    "        # Button\n",
    "        self.b1 = QPushButton(\"Check pipeline status\")\n",
    "        self.b1.setDefault(True)\n",
    "        self.b1.clicked.connect(lambda:self.buttonPress(self.b1))\n",
    "        self.grid2.addWidget(self.b1, 0, 0)\n",
    "        # Static Text Field\n",
    "        self.e4 = QTextEdit()\n",
    "        #self.e4.setValidator( QIntValidator() )\n",
    "        #self.e4.setMaxLength(1000)\n",
    "        self.e4.setAlignment(Qt.AlignLeft)\n",
    "        self.e4.setFont( self.font1 )\n",
    "        self.e4.setReadOnly( True )\n",
    "        self.e4.setText( \"\" )\n",
    "        #self.e4.setFrame( False )\n",
    "        self.grid2.addWidget( self.e4, 1, 1)\n",
    "        \n",
    "        \n",
    "        self.grid2.setColumnStretch(1, 3)\n",
    "        self.grid2.setRowStretch(1, 2)\n",
    "        \n",
    "        ### SUPERGRID ###\n",
    "        self.supergrid = QGridLayout()\n",
    "        self.supergrid.addLayout( self.grid1, 0, 0)\n",
    "        self.supergrid.addLayout( self.grid2, 1, 0)\n",
    "        \n",
    "        # Set layout and window title\n",
    "        self.setLayout( self.supergrid )\n",
    "        self.setWindowTitle(\"combo box demo\")\n",
    "        \n",
    "        # Update interactive windows\n",
    "        self.updateFields()\n",
    "\n",
    "    def dropdownSelect(self,i):\n",
    "        #print \"Items in the list are :\"\n",
    "\n",
    "        for count in range(self.cb.count()):\n",
    "            selection = self.cb.currentText()\n",
    "            selection_str = str(selection.toUtf8())\n",
    "            #print type(selection)\n",
    "            #print self.cb.itemText(count)\n",
    "            #print \"Current index\",i,\"selection changed \",selection_str\n",
    "            \n",
    "            self.updateStainField( selection_str )\n",
    "            \n",
    "    def updateFields(self):\n",
    "        self.updateStainField( str(self.cb.currentText().toUtf8()) )\n",
    "        \n",
    "    def updateStainField(self, stack):\n",
    "        stain_from_stack = stack_metadata[stack]['stain']\n",
    "        self.e3.setText( stain_from_stack )\n",
    "        \n",
    "    def updatePipelineStatusField(self):\n",
    "        text = get_text_of_pipeline_status()\n",
    "        \n",
    "        self.e4.setText( text )\n",
    "            \n",
    "    def buttonPress(self, button):\n",
    "        if button == self.b1:\n",
    "            self.updatePipelineStatusField()\n",
    "            #print \"clicked button is \"+button.text()\n",
    "            \n",
    "\n",
    "def main():\n",
    "#     app = QApplication(sys.argv)\n",
    "#     if not PyQt4.QtWidgets.QApplication.instance():\n",
    "#         app = QtWidgets.QApplication(sys.argv)\n",
    "#     else:\n",
    "#         app = QtWidgets.QApplication.instance() \n",
    "    app = QApplication( [] )\n",
    "    \n",
    "    ex = init_GUI()\n",
    "    ex.show()\n",
    "    sys.exit( app.exec_() )\n",
    "\n",
    "if __name__ == '__main__':\n",
    "    main()\n"
   ]
  },
  {
   "cell_type": "code",
   "execution_count": null,
   "metadata": {
    "collapsed": true
   },
   "outputs": [],
   "source": []
  },
  {
   "cell_type": "code",
   "execution_count": 1,
   "metadata": {},
   "outputs": [
    {
     "name": "stdout",
     "output_type": "stream",
     "text": [
      "Setting environment for Precision WorkStation for Alex Newberry\n",
      "{'DK18': 0.325, 'DK17': 0.325}\n"
     ]
    },
    {
     "name": "stderr",
     "output_type": "stream",
     "text": [
      "No anchor.txt is found. Seems we are using the operation ini to provide anchor. Try to load operation ini.\n",
      "No anchor.txt is found. Seems we are using the operation ini to provide anchor. Try to load operation ini.\n",
      "Failed to cache DK17 section_limits: ini file /media/alexn/Data_2/Atlas_Root_Dirs/Duke_Brains/CSHL_data_processed/DK17/DK17_prep2_sectionLimits.ini does not exist.\n",
      "No anchor.txt is found. Seems we are using the operation ini to provide anchor. Try to load operation ini.\n",
      "Seems you are using operation INIs to provide cropbox.\n",
      "Failed to cache DK17 valid_sections/filenames: DK17\n",
      "No anchor.txt is found. Seems we are using the operation ini to provide anchor. Try to load operation ini.\n",
      "Seems you are using operation INIs to provide cropbox.\n",
      "No anchor.txt is found. Seems we are using the operation ini to provide anchor. Try to load operation ini.\n",
      "Failed to cache DK18 anchor: ini file /media/alexn/Data_2/Atlas_Root_Dirs/Duke_Brains/CSHL_data_processed/DK18/operation_configs/from_none_to_aligned.ini does not exist.\n",
      "No anchor.txt is found. Seems we are using the operation ini to provide anchor. Try to load operation ini.\n",
      "Failed to cache DK18 section_limits: ini file /media/alexn/Data_2/Atlas_Root_Dirs/Duke_Brains/CSHL_data_processed/DK18/operation_configs/from_none_to_aligned.ini does not exist.\n",
      "No anchor.txt is found. Seems we are using the operation ini to provide anchor. Try to load operation ini.\n",
      "Failed to cache DK18 cropbox: ini file /media/alexn/Data_2/Atlas_Root_Dirs/Duke_Brains/CSHL_data_processed/DK18/operation_configs/from_none_to_aligned.ini does not exist.\n",
      "Failed to cache DK18 valid_sections/filenames: DK18\n",
      "No anchor.txt is found. Seems we are using the operation ini to provide anchor. Try to load operation ini.\n",
      "Failed to cache DK18 image_shape: ini file /media/alexn/Data_2/Atlas_Root_Dirs/Duke_Brains/CSHL_data_processed/DK18/operation_configs/from_none_to_aligned.ini does not exist.\n"
     ]
    },
    {
     "ename": "SystemExit",
     "evalue": "0",
     "output_type": "error",
     "traceback": [
      "An exception has occurred, use %tb to see the full traceback.\n",
      "\u001b[0;31mSystemExit\u001b[0m\u001b[0;31m:\u001b[0m 0\n"
     ]
    },
    {
     "name": "stderr",
     "output_type": "stream",
     "text": [
      "/usr/local/lib/python2.7/dist-packages/IPython/core/interactiveshell.py:2890: UserWarning: To exit: use 'exit', 'quit', or Ctrl-D.\n",
      "  warn(\"To exit: use 'exit', 'quit', or Ctrl-D.\", stacklevel=1)\n"
     ]
    }
   ],
   "source": [
    "import os \n",
    "import subprocess\n",
    "from a_driver_utilities import *\n",
    "sys.path.append(os.path.join(os.environ['REPO_DIR'], 'utilities'))\n",
    "from utilities2015 import *\n",
    "from registration_utilities import *\n",
    "from annotation_utilities import *\n",
    "# from metadata import *\n",
    "from data_manager import DataManager\n",
    "from a_driver_utilities import *\n",
    "\n",
    "import sys\n",
    "from PyQt4.QtCore import *\n",
    "from PyQt4.QtGui import *\n",
    "\n",
    "class init_GUI(QWidget):\n",
    "    def __init__(self, parent = None):\n",
    "        super(init_GUI, self).__init__(parent)\n",
    "\n",
    "        # Set Layout and Geometry of Window\n",
    "        #layout = QHBoxLayout()\n",
    "        self.grid = QGridLayout()\n",
    "        self.setGeometry(50, 50, 300, 300)\n",
    "        \n",
    "        self.font1 = QFont(\"Arial\",16)\n",
    "        \n",
    "        ### Row 0 ###\n",
    "        # Static Text Field\n",
    "        self.e1 = QLineEdit()\n",
    "        self.e1.setValidator( QIntValidator() )\n",
    "        self.e1.setMaxLength(6)\n",
    "        self.e1.setAlignment(Qt.AlignRight)\n",
    "        self.e1.setFont( self.font1 )\n",
    "        self.e1.setReadOnly( True )\n",
    "        self.e1.setText( \"Stack:\" )\n",
    "        self.e1.setFrame( False )\n",
    "        self.grid.addWidget( self.e1, 0, 0)\n",
    "        \n",
    "        # Dropbown Menu (ComboBox) for selecting Stack\n",
    "        self.cb = QComboBox()\n",
    "        self.cb.addItems( all_stacks )\n",
    "        self.cb.setFont( self.font1 )\n",
    "        self.cb.currentIndexChanged.connect( self.dropdownSelect )\n",
    "        self.grid.addWidget(self.cb, 0, 1)\n",
    "        \n",
    "        ### Row 1 ###\n",
    "        # Button\n",
    "        self.b1 = QPushButton(\"Check pipeline status\")\n",
    "        self.b1.setDefault(True)\n",
    "        self.b1.clicked.connect(lambda:self.buttonPress(self.b1))\n",
    "        self.grid.addWidget(self.b1, 1, 1)\n",
    "        \n",
    "        # Static Text Field\n",
    "        self.e2 = QLineEdit()\n",
    "        self.e2.setValidator( QIntValidator() )\n",
    "        self.e2.setMaxLength(1000)\n",
    "        self.e2.setAlignment(Qt.AlignLeft)\n",
    "        self.e2.setFont( self.font1 )\n",
    "        self.e2.setReadOnly( True )\n",
    "        self.e2.setText( \"\" )\n",
    "        self.e2.setFrame( False )\n",
    "        self.grid.addWidget( self.e2, 1, 2)\n",
    "        \n",
    "        self.grid.setColumnStretch(1, 3)\n",
    "        self.grid.setRowStretch(1, 2)\n",
    "\n",
    "        \n",
    "        # Set layout and window title\n",
    "        #self.setLayout(layout)\n",
    "        self.setLayout( self.grid )\n",
    "        self.setWindowTitle(\"combo box demo\")\n",
    "\n",
    "    def dropdownSelect(self,i):\n",
    "        print \"Items in the list are :\"\n",
    "\n",
    "        for count in range(self.cb.count()):\n",
    "            print self.cb.itemText(count)\n",
    "            print \"Current index\",i,\"selection changed \",self.cb.currentText()\n",
    "            \n",
    "    def buttonPress(self,b):\n",
    "        print \"clicked button is \"+b.text()\n",
    "\n",
    "def main():\n",
    "#     app = QApplication(sys.argv)\n",
    "#     if not PyQt4.QtWidgets.QApplication.instance():\n",
    "#         app = QtWidgets.QApplication(sys.argv)\n",
    "#     else:\n",
    "#         app = QtWidgets.QApplication.instance() \n",
    "    app = QApplication( [] )\n",
    "    \n",
    "    ex = init_GUI()\n",
    "    ex.show()\n",
    "    sys.exit( app.exec_() )\n",
    "\n",
    "if __name__ == '__main__':\n",
    "    main()"
   ]
  },
  {
   "cell_type": "code",
   "execution_count": null,
   "metadata": {
    "collapsed": true
   },
   "outputs": [],
   "source": []
  },
  {
   "cell_type": "code",
   "execution_count": null,
   "metadata": {
    "collapsed": true
   },
   "outputs": [],
   "source": []
  },
  {
   "cell_type": "code",
   "execution_count": null,
   "metadata": {
    "collapsed": true
   },
   "outputs": [],
   "source": []
  },
  {
   "cell_type": "code",
   "execution_count": null,
   "metadata": {
    "collapsed": true
   },
   "outputs": [],
   "source": []
  }
 ],
 "metadata": {
  "kernelspec": {
   "display_name": "Python 2",
   "language": "python",
   "name": "python2"
  },
  "language_info": {
   "codemirror_mode": {
    "name": "ipython",
    "version": 2
   },
   "file_extension": ".py",
   "mimetype": "text/x-python",
   "name": "python",
   "nbconvert_exporter": "python",
   "pygments_lexer": "ipython2",
   "version": "2.7.12"
  }
 },
 "nbformat": 4,
 "nbformat_minor": 2
}
