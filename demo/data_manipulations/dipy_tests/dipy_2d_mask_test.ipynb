{
 "cells": [
  {
   "cell_type": "code",
   "execution_count": 2,
   "metadata": {
    "collapsed": true
   },
   "outputs": [],
   "source": [
    "# http://nipy.org/dipy/examples_built/syn_registration_2d.html"
   ]
  },
  {
   "cell_type": "code",
   "execution_count": 3,
   "metadata": {
    "collapsed": true
   },
   "outputs": [],
   "source": [
    "import numpy as np\n",
    "from dipy.data import get_fnames\n",
    "from dipy.align.imwarp import SymmetricDiffeomorphicRegistration\n",
    "from dipy.align.metrics import SSDMetric, CCMetric, EMMetric\n",
    "import dipy.align.imwarp as imwarp\n",
    "from dipy.viz import regtools\n",
    "\n",
    "import skimage.data\n",
    "\n",
    "fname_moving = '/media/alexn/BstemAtlasDataBackup/ucsd_brain/CSHL_data_processed/MD594/\\\n",
    "MD594_prep2_thumbnail_mask/MD594-IHC47-2015.08.26-18.06.03_MD594_1_0139_prep2_thumbnail_mask.png'\n",
    "fname_static = '/media/alexn/BstemAtlasDataBackup/ucsd_brain/CSHL_data_processed/MD589/\\\n",
    "MD589_prep2_thumbnail_mask/MD589-IHC28-2015.07.30-23.11.15_MD589_3_0084_prep2_thumbnail_mask.png'\n",
    "\n",
    "moving = skimage.data.load(fname_moving)[0:347,0:485]\n",
    "static = skimage.data.load(fname_static)[0:347,0:485]"
   ]
  },
  {
   "cell_type": "markdown",
   "metadata": {},
   "source": [
    "visually check the overlap of the static image with the transformed moving image, we can plot them on top of each other with different channels to see where the differences are located"
   ]
  },
  {
   "cell_type": "code",
   "execution_count": 4,
   "metadata": {},
   "outputs": [
    {
     "data": {
      "text/plain": [
       "array([[[159, 163, 215],\n",
       "        [174, 177, 221],\n",
       "        [180, 184, 221],\n",
       "        ...,\n",
       "        [235, 237, 240],\n",
       "        [235, 236, 240],\n",
       "        [234, 236, 240]],\n",
       "\n",
       "       [[198, 208, 232],\n",
       "        [197, 206, 232],\n",
       "        [196, 201, 229],\n",
       "        ...,\n",
       "        [236, 238, 242],\n",
       "        [236, 237, 241],\n",
       "        [234, 236, 241]],\n",
       "\n",
       "       [[167, 174, 219],\n",
       "        [192, 198, 228],\n",
       "        [168, 175, 221],\n",
       "        ...,\n",
       "        [235, 236, 241],\n",
       "        [234, 236, 241],\n",
       "        [235, 237, 242]],\n",
       "\n",
       "       ...,\n",
       "\n",
       "       [[238, 240, 244],\n",
       "        [234, 237, 242],\n",
       "        [234, 236, 241],\n",
       "        ...,\n",
       "        [233, 235, 241],\n",
       "        [233, 236, 241],\n",
       "        [233, 236, 241]],\n",
       "\n",
       "       [[235, 237, 240],\n",
       "        [234, 236, 241],\n",
       "        [234, 236, 241],\n",
       "        ...,\n",
       "        [233, 236, 241],\n",
       "        [234, 236, 241],\n",
       "        [234, 237, 242]],\n",
       "\n",
       "       [[236, 238, 242],\n",
       "        [233, 236, 241],\n",
       "        [234, 236, 241],\n",
       "        ...,\n",
       "        [234, 237, 242],\n",
       "        [234, 237, 241],\n",
       "        [235, 237, 242]]], dtype=uint8)"
      ]
     },
     "execution_count": 4,
     "metadata": {},
     "output_type": "execute_result"
    }
   ],
   "source": [
    "skimage.data.load('/media/alexn/BstemAtlasDataBackup/ucsd_brain/CSHL_data_processed/MD594/\\\n",
    "MD594_prep2_thumbnail_mask/MD594-IHC47-2015.08.26-18.06.03_MD594_1_0139_prep2_thumbnail_mask.png')[::2,::2]\n",
    "\n",
    "skimage.data.load('/media/alexn/BstemAtlasDataBackup/ucsd_brain/CSHL_data_processed/MD589/\\\n",
    "MD589_prep2_thumbnail/MD589-IHC28-2015.07.30-23.11.15_MD589_3_0084_prep2_thumbnail.tif')[::2,::2]"
   ]
  },
  {
   "cell_type": "code",
   "execution_count": 5,
   "metadata": {},
   "outputs": [
    {
     "data": {
      "image/png": "[encoded data removed]",
      "text/plain": [
       "<matplotlib.figure.Figure at 0x7f97980e2e50>"
      ]
     },
     "execution_count": 5,
     "metadata": {},
     "output_type": "execute_result"
    }
   ],
   "source": [
    "regtools.overlay_images(static, moving, 'Static', 'Overlay', 'Moving', 'input_images.png')"
   ]
  },
  {
   "cell_type": "markdown",
   "metadata": {},
   "source": [
    "We want to find an invertible map that transforms the moving image (circle) into the static image (the C letter).\n",
    "\n",
    "The first decision we need to make is what similarity metric is appropriate for our problem. \n",
    "In this example we are using two binary images, so the Sum of Squared Differences (SSD) is a good choice."
   ]
  },
  {
   "cell_type": "code",
   "execution_count": 6,
   "metadata": {
    "collapsed": true
   },
   "outputs": [],
   "source": [
    "dim = static.ndim\n",
    "metric = SSDMetric(dim)"
   ]
  },
  {
   "cell_type": "markdown",
   "metadata": {},
   "source": [
    "Now we define an instance of the registration class. The SyN algorithm uses a multi-resolution approach by building a Gaussian Pyramid. We instruct the registration instance to perform at most [n0,n1,...,nk] iterations at each level of the pyramid. The 0-th level corresponds to the finest resolution."
   ]
  },
  {
   "cell_type": "code",
   "execution_count": 7,
   "metadata": {
    "collapsed": true
   },
   "outputs": [],
   "source": [
    "level_iters = [200, 100, 50, 25]\n",
    "\n",
    "sdr = SymmetricDiffeomorphicRegistration(metric, level_iters, inv_iter = 50)"
   ]
  },
  {
   "cell_type": "markdown",
   "metadata": {},
   "source": [
    "Now we execute the optimization, which returns a DiffeomorphicMap object, that can be used to register images back and forth between the static and moving domains"
   ]
  },
  {
   "cell_type": "code",
   "execution_count": 8,
   "metadata": {},
   "outputs": [
    {
     "name": "stdout",
     "output_type": "stream",
     "text": [
      "Creating scale space from the moving image. Levels: 4. Sigma factor: 0.200000.\n",
      "Creating scale space from the static image. Levels: 4. Sigma factor: 0.200000.\n",
      "Optimizing level 3\n",
      "Optimizing level 2\n",
      "Optimizing level 1\n",
      "Optimizing level 0\n"
     ]
    }
   ],
   "source": [
    "mapping = sdr.optimize(static, moving)"
   ]
  },
  {
   "cell_type": "markdown",
   "metadata": {},
   "source": [
    "It is a good idea to visualize the resulting deformation map to make sure the result is reasonable (at least, visually)"
   ]
  },
  {
   "cell_type": "code",
   "execution_count": 9,
   "metadata": {
    "scrolled": true
   },
   "outputs": [
    {
     "data": {
      "text/plain": [
       "(array([[  0.      ,   0.      ,   0.      , ...,   0.      ,   0.      ,\n",
       "           0.      ],\n",
       "        [  0.      , 127.00001 , 126.99999 , ..., 127.      , 127.      ,\n",
       "           0.      ],\n",
       "        [  0.      , 127.00001 , 127.      , ..., 127.      , 127.      ,\n",
       "           0.      ],\n",
       "        ...,\n",
       "        [  0.      , 119.10877 , 127.      , ..., 127.      , 127.00001 ,\n",
       "           0.      ],\n",
       "        [  0.      , 122.978325, 127.      , ..., 127.      , 127.      ,\n",
       "           0.      ],\n",
       "        [  0.      , 127.      , 127.      , ..., 127.      , 127.      ,\n",
       "           0.      ]], dtype=float32),\n",
       " array([[  0.     ,   0.     ,   0.     , ...,   0.     ,   0.     ,\n",
       "           0.     ],\n",
       "        [  0.     , 109.02958, 109.31248, ..., 127.     , 127.     ,\n",
       "           0.     ],\n",
       "        [  0.     , 114.10844, 127.     , ..., 127.     , 127.     ,\n",
       "           0.     ],\n",
       "        ...,\n",
       "        [  0.     , 127.     , 127.     , ..., 127.     , 113.73624,\n",
       "           0.     ],\n",
       "        [  0.     , 127.     , 127.     , ..., 127.     , 120.91981,\n",
       "           0.     ],\n",
       "        [  0.     , 127.     , 127.     , ..., 127.     , 127.     ,\n",
       "           0.     ]], dtype=float32))"
      ]
     },
     "execution_count": 9,
     "metadata": {},
     "output_type": "execute_result"
    }
   ],
   "source": [
    "regtools.plot_2d_diffeomorphic_map(mapping, 10, 'diffeomorphic_map.png')"
   ]
  },
  {
   "cell_type": "code",
   "execution_count": 10,
   "metadata": {},
   "outputs": [
    {
     "data": {
      "image/png": "[encoded data removed]",
      "text/plain": [
       "<matplotlib.figure.Figure at 0x7f9798110490>"
      ]
     },
     "execution_count": 10,
     "metadata": {},
     "output_type": "execute_result"
    }
   ],
   "source": [
    "warped_moving = mapping.transform(moving, 'linear')\n",
    "regtools.overlay_images(static, warped_moving, 'Static','Overlay','Warped moving',\n",
    "   'direct_warp_result.png')"
   ]
  },
  {
   "cell_type": "code",
   "execution_count": 11,
   "metadata": {},
   "outputs": [
    {
     "data": {
      "image/png": "[encoded data removed]",
      "text/plain": [
       "<matplotlib.figure.Figure at 0x7f973c098890>"
      ]
     },
     "execution_count": 11,
     "metadata": {},
     "output_type": "execute_result"
    }
   ],
   "source": [
    "warped_static = mapping.transform_inverse(static, 'linear')\n",
    "regtools.overlay_images(warped_static, moving,'Warped static','Overlay','Moving',\n",
    "   'inverse_warp_result.png')"
   ]
  },
  {
   "cell_type": "code",
   "execution_count": null,
   "metadata": {
    "collapsed": true
   },
   "outputs": [],
   "source": []
  }
 ],
 "metadata": {
  "kernelspec": {
   "display_name": "Python 2",
   "language": "python",
   "name": "python2"
  },
  "language_info": {
   "codemirror_mode": {
    "name": "ipython",
    "version": 2
   },
   "file_extension": ".py",
   "mimetype": "text/x-python",
   "name": "python",
   "nbconvert_exporter": "python",
   "pygments_lexer": "ipython2",
   "version": "2.7.12"
  }
 },
 "nbformat": 4,
 "nbformat_minor": 2
}
