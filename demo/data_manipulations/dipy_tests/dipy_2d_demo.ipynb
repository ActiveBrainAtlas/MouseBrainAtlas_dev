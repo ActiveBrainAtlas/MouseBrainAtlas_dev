{
 "cells": [
  {
   "cell_type": "code",
   "execution_count": null,
   "metadata": {
    "collapsed": true
   },
   "outputs": [],
   "source": [
    "# http://nipy.org/dipy/examples_built/syn_registration_2d.html"
   ]
  },
  {
   "cell_type": "code",
   "execution_count": 6,
   "metadata": {},
   "outputs": [
    {
     "name": "stdout",
     "output_type": "stream",
     "text": [
      "[sudo] password for alexn: /usr/local/lib/python2.7/dist-packages/pip/_vendor/requests/__init__.py:83: RequestsDependencyWarning: Old version of cryptography ([1, 2, 3]) may cause slowdown.\n",
      "  warnings.warn(warning, RequestsDependencyWarning)\n",
      "\u001b[33mDEPRECATION: Python 2.7 will reach the end of its life on January 1st, 2020. Please upgrade your Python as Python 2.7 won't be maintained after that date. A future version of pip will drop support for Python 2.7.\u001b[0m\n",
      "\u001b[33mThe directory '/home/alexn/.cache/pip/http' or its parent directory is not owned by the current user and the cache has been disabled. Please check the permissions and owner of that directory. If executing pip with sudo, you may want sudo's -H flag.\u001b[0m\n",
      "\u001b[33mThe directory '/home/alexn/.cache/pip' or its parent directory is not owned by the current user and caching wheels has been disabled. check the permissions and owner of that directory. If executing pip with sudo, you may want sudo's -H flag.\u001b[0m\n",
      "Requirement already satisfied: dipy in /usr/local/lib/python2.7/dist-packages (0.16.0)\n",
      "Requirement already satisfied: h5py>=2.4.0 in /usr/local/lib/python2.7/dist-packages (from dipy) (2.6.0)\n",
      "Requirement already satisfied: nibabel>=2.3.0 in /usr/local/lib/python2.7/dist-packages (from dipy) (2.4.0)\n",
      "Requirement already satisfied: numpy>=1.6.1 in /usr/local/lib/python2.7/dist-packages (from h5py>=2.4.0->dipy) (1.14.1)\n",
      "Requirement already satisfied: six in /usr/local/lib/python2.7/dist-packages (from h5py>=2.4.0->dipy) (1.11.0)\n",
      "Requirement already satisfied: bz2file; python_version < \"3.0\" in /usr/local/lib/python2.7/dist-packages (from nibabel>=2.3.0->dipy) (0.98)\n",
      "\u001b[33mYou are using pip version 19.0.3, however version 19.1.1 is available.\n",
      "You should consider upgrading via the 'pip install --upgrade pip' command.\u001b[0m\n"
     ]
    }
   ],
   "source": [
    "! echo One2Three4 | sudo -S pip install dipy"
   ]
  },
  {
   "cell_type": "code",
   "execution_count": 1,
   "metadata": {},
   "outputs": [],
   "source": [
    "import numpy as np\n",
    "from dipy.data import get_fnames\n",
    "from dipy.align.imwarp import SymmetricDiffeomorphicRegistration\n",
    "from dipy.align.metrics import SSDMetric, CCMetric, EMMetric\n",
    "import dipy.align.imwarp as imwarp\n",
    "from dipy.viz import regtools\n",
    "\n",
    "\n",
    "fname_moving = get_fnames('reg_o')\n",
    "fname_static = get_fnames('reg_c')\n",
    "\n",
    "moving = np.load(fname_moving)\n",
    "static = np.load(fname_static)"
   ]
  },
  {
   "cell_type": "markdown",
   "metadata": {},
   "source": [
    "visually check the overlap of the static image with the transformed moving image, we can plot them on top of each other with different channels to see where the differences are located"
   ]
  },
  {
   "cell_type": "code",
   "execution_count": 2,
   "metadata": {},
   "outputs": [
    {
     "data": {
      "image/png": "[encoded data removed]",
      "text/plain": [
       "<matplotlib.figure.Figure at 0x7f04c0d377d0>"
      ]
     },
     "execution_count": 2,
     "metadata": {},
     "output_type": "execute_result"
    }
   ],
   "source": [
    "regtools.overlay_images(static, moving, 'Static', 'Overlay', 'Moving', 'input_images.png')"
   ]
  },
  {
   "cell_type": "markdown",
   "metadata": {},
   "source": [
    "We want to find an invertible map that transforms the moving image (circle) into the static image (the C letter).\n",
    "\n",
    "The first decision we need to make is what similarity metric is appropriate for our problem. \n",
    "In this example we are using two binary images, so the Sum of Squared Differences (SSD) is a good choice."
   ]
  },
  {
   "cell_type": "code",
   "execution_count": 3,
   "metadata": {
    "collapsed": true
   },
   "outputs": [],
   "source": [
    "dim = static.ndim\n",
    "metric = SSDMetric(dim)"
   ]
  },
  {
   "cell_type": "markdown",
   "metadata": {},
   "source": [
    "Now we define an instance of the registration class. The SyN algorithm uses a multi-resolution approach by building a Gaussian Pyramid. We instruct the registration instance to perform at most [n0,n1,...,nk] iterations at each level of the pyramid. The 0-th level corresponds to the finest resolution."
   ]
  },
  {
   "cell_type": "code",
   "execution_count": 4,
   "metadata": {
    "collapsed": true
   },
   "outputs": [],
   "source": [
    "level_iters = [200, 100, 50, 25]\n",
    "\n",
    "sdr = SymmetricDiffeomorphicRegistration(metric, level_iters, inv_iter = 50)"
   ]
  },
  {
   "cell_type": "markdown",
   "metadata": {},
   "source": [
    "Now we execute the optimization, which returns a DiffeomorphicMap object, that can be used to register images back and forth between the static and moving domains"
   ]
  },
  {
   "cell_type": "code",
   "execution_count": 5,
   "metadata": {},
   "outputs": [
    {
     "name": "stdout",
     "output_type": "stream",
     "text": [
      "Creating scale space from the moving image. Levels: 4. Sigma factor: 0.200000.\n",
      "Creating scale space from the static image. Levels: 4. Sigma factor: 0.200000.\n",
      "Optimizing level 3\n",
      "Optimizing level 2\n",
      "Optimizing level 1\n",
      "Optimizing level 0\n"
     ]
    }
   ],
   "source": [
    "mapping = sdr.optimize(static, moving)"
   ]
  },
  {
   "cell_type": "markdown",
   "metadata": {},
   "source": [
    "It is a good idea to visualize the resulting deformation map to make sure the result is reasonable (at least, visually)"
   ]
  },
  {
   "cell_type": "code",
   "execution_count": 6,
   "metadata": {
    "scrolled": true
   },
   "outputs": [
    {
     "data": {
      "text/plain": [
       "(array([[  0.     ,   0.     ,   0.     , ...,   0.     ,   0.     ,\n",
       "           0.     ],\n",
       "        [  0.     , 127.     , 127.00001, ...,   0.     , 127.     ,\n",
       "         127.     ],\n",
       "        [  0.     , 127.00001, 127.     , ...,   0.     , 127.     ,\n",
       "         127.     ],\n",
       "        ...,\n",
       "        [  0.     ,   0.     ,   0.     , ...,   0.     ,   0.     ,\n",
       "           0.     ],\n",
       "        [  0.     , 127.     , 127.     , ...,   0.     , 127.     ,\n",
       "         127.     ],\n",
       "        [  0.     , 127.     , 127.     , ...,   0.     , 127.     ,\n",
       "         127.     ]], dtype=float32),\n",
       " array([[  0.     ,   0.     ,   0.     , ...,   0.     ,   0.     ,\n",
       "           0.     ],\n",
       "        [  0.     , 126.87221, 126.88522, ...,   0.     , 127.     ,\n",
       "         127.     ],\n",
       "        [  0.     , 126.86069, 127.     , ...,   0.     , 127.     ,\n",
       "         127.     ],\n",
       "        ...,\n",
       "        [  0.     ,   0.     ,   0.     , ...,   0.     ,   0.     ,\n",
       "           0.     ],\n",
       "        [  0.     , 127.     , 127.     , ...,   0.     , 127.     ,\n",
       "         127.     ],\n",
       "        [  0.     , 127.     , 127.     , ...,   0.     , 127.     ,\n",
       "         127.     ]], dtype=float32))"
      ]
     },
     "execution_count": 6,
     "metadata": {},
     "output_type": "execute_result"
    }
   ],
   "source": [
    "regtools.plot_2d_diffeomorphic_map(mapping, 10, 'diffeomorphic_map.png')"
   ]
  },
  {
   "cell_type": "code",
   "execution_count": 7,
   "metadata": {},
   "outputs": [
    {
     "data": {
      "image/png": "[encoded data removed]",
      "text/plain": [
       "<matplotlib.figure.Figure at 0x7f04c0d37650>"
      ]
     },
     "execution_count": 7,
     "metadata": {},
     "output_type": "execute_result"
    }
   ],
   "source": [
    "warped_moving = mapping.transform(moving, 'linear')\n",
    "regtools.overlay_images(static, warped_moving, 'Static','Overlay','Warped moving',\n",
    "   'direct_warp_result.png')"
   ]
  },
  {
   "cell_type": "code",
   "execution_count": 8,
   "metadata": {},
   "outputs": [
    {
     "data": {
      "image/png": "[encoded data removed]",
      "text/plain": [
       "<matplotlib.figure.Figure at 0x7f046c6baf10>"
      ]
     },
     "execution_count": 8,
     "metadata": {},
     "output_type": "execute_result"
    }
   ],
   "source": [
    "warped_static = mapping.transform_inverse(static, 'linear')\n",
    "regtools.overlay_images(warped_static, moving,'Warped static','Overlay','Moving',\n",
    "   'inverse_warp_result.png')"
   ]
  },
  {
   "cell_type": "code",
   "execution_count": null,
   "metadata": {
    "collapsed": true
   },
   "outputs": [],
   "source": []
  },
  {
   "cell_type": "code",
   "execution_count": null,
   "metadata": {
    "collapsed": true
   },
   "outputs": [],
   "source": []
  }
 ],
 "metadata": {
  "kernelspec": {
   "display_name": "Python 2",
   "language": "python",
   "name": "python2"
  },
  "language_info": {
   "codemirror_mode": {
    "name": "ipython",
    "version": 2
   },
   "file_extension": ".py",
   "mimetype": "text/x-python",
   "name": "python",
   "nbconvert_exporter": "python",
   "pygments_lexer": "ipython2",
   "version": "2.7.12"
  }
 },
 "nbformat": 4,
 "nbformat_minor": 2
}
