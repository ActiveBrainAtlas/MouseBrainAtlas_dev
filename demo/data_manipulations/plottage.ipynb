{
 "cells": [
  {
   "cell_type": "code",
   "execution_count": null,
   "metadata": {
    "collapsed": true
   },
   "outputs": [],
   "source": [
    "import sys\n",
    "import os\n",
    "import json\n",
    "import numpy as np\n",
    "import matplotlib.pyplot as plt\n",
    "%matplotlib inline"
   ]
  },
  {
   "cell_type": "code",
   "execution_count": null,
   "metadata": {
    "collapsed": true
   },
   "outputs": [],
   "source": [
    "plt.plot( [0,1,2,3],[1,1,0,0] )\n",
    "\n",
    "x_ticks = ['0','r0','r1']\n",
    "plt.xticks( np.arange(len(x_ticks)), x_ticks)\n",
    "\n",
    "plt.title('Constant for r<r0, linear for r0>r>r1')\n",
    "plt.xlabel('Radius')\n",
    "plt.ylabel('Distortion Weight')\n",
    "\n",
    "plt.xlim(0,2.2)\n",
    "plt.ylim(0,1.19)\n",
    "plt.show()"
   ]
  },
  {
   "cell_type": "code",
   "execution_count": null,
   "metadata": {
    "collapsed": true
   },
   "outputs": [],
   "source": [
    "import scipy as sp\n",
    "from scipy import signal\n",
    "\n",
    "window = signal.gaussian(51, std=8)\n",
    "window = window[len(window)/2:len(window)]\n",
    "plt.plot(window)\n",
    "plt.title(r\"Half-Gaussian ($\\sigma$=r1/3)\")\n",
    "plt.xlabel('Radius')\n",
    "plt.ylabel('Distortion Weight')\n",
    "\n",
    "x_ticks = ['0','r0','r1']\n",
    "plt.xticks( [0,8,25], x_ticks)\n",
    "plt.show()"
   ]
  },
  {
   "cell_type": "code",
   "execution_count": null,
   "metadata": {
    "collapsed": true
   },
   "outputs": [],
   "source": [
    "from scipy.special import expit, logit\n",
    "\n",
    "x = np.linspace(-6, 6, 121)\n",
    "y = expit(x)[::-1]\n",
    "\n",
    "plt.plot(x, y)\n",
    "# plt.grid()\n",
    "plt.xlim(-6, 6)\n",
    "\n",
    "plt.title('Sigmoid function')\n",
    "plt.xlabel('Radius')\n",
    "plt.ylabel('Distortion Weight')\n",
    "\n",
    "x_ticks = ['0','r0','r1']\n",
    "plt.xticks( [-6,0,6], x_ticks)\n",
    "\n",
    "plt.show()"
   ]
  },
  {
   "cell_type": "code",
   "execution_count": null,
   "metadata": {
    "collapsed": true
   },
   "outputs": [],
   "source": []
  },
  {
   "cell_type": "code",
   "execution_count": null,
   "metadata": {
    "collapsed": true
   },
   "outputs": [],
   "source": []
  },
  {
   "cell_type": "code",
   "execution_count": null,
   "metadata": {
    "collapsed": true
   },
   "outputs": [],
   "source": []
  }
 ],
 "metadata": {
  "kernelspec": {
   "display_name": "Python 2",
   "language": "python",
   "name": "python2"
  },
  "language_info": {
   "codemirror_mode": {
    "name": "ipython",
    "version": 2
   },
   "file_extension": ".py",
   "mimetype": "text/x-python",
   "name": "python",
   "nbconvert_exporter": "python",
   "pygments_lexer": "ipython2",
   "version": "2.7.12"
  }
 },
 "nbformat": 4,
 "nbformat_minor": 2
}
