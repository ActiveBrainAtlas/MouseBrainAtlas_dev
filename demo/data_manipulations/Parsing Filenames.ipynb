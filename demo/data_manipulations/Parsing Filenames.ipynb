{
 "cells": [
  {
   "cell_type": "code",
   "execution_count": 1,
   "metadata": {
    "collapsed": true
   },
   "outputs": [],
   "source": [
    "import os, sys\n",
    "import subprocess\n",
    "import numpy as np\n",
    "import scipy as sp\n",
    "import json\n",
    "\n",
    "from matplotlib import pyplot as plt\n",
    "%matplotlib inline"
   ]
  },
  {
   "cell_type": "code",
   "execution_count": 22,
   "metadata": {},
   "outputs": [
    {
     "ename": "ValueError",
     "evalue": "too many values to unpack",
     "output_type": "error",
     "traceback": [
      "\u001b[0;31m---------------------------------------------------------------------------\u001b[0m",
      "\u001b[0;31mValueError\u001b[0m                                Traceback (most recent call last)",
      "\u001b[0;32m<ipython-input-22-cc44bd7593b4>\u001b[0m in \u001b[0;36m<module>\u001b[0;34m()\u001b[0m\n\u001b[1;32m      2\u001b[0m \u001b[0msubfolders\u001b[0m \u001b[0;34m=\u001b[0m \u001b[0mos\u001b[0m\u001b[0;34m.\u001b[0m\u001b[0mlistdir\u001b[0m\u001b[0;34m(\u001b[0m \u001b[0mroot_fp\u001b[0m \u001b[0;34m)\u001b[0m\u001b[0;34m\u001b[0m\u001b[0m\n\u001b[1;32m      3\u001b[0m \u001b[0;34m\u001b[0m\u001b[0m\n\u001b[0;32m----> 4\u001b[0;31m \u001b[0;32mfor\u001b[0m \u001b[0mi\u001b[0m\u001b[0;34m,\u001b[0m \u001b[0msubfolder\u001b[0m \u001b[0;32min\u001b[0m \u001b[0msubfolders\u001b[0m\u001b[0;34m:\u001b[0m\u001b[0;34m\u001b[0m\u001b[0m\n\u001b[0m\u001b[1;32m      5\u001b[0m     \u001b[0;32mif\u001b[0m \u001b[0msubfolder\u001b[0m \u001b[0;34m==\u001b[0m \u001b[0;34m'butt'\u001b[0m\u001b[0;34m:\u001b[0m\u001b[0;34m\u001b[0m\u001b[0m\n\u001b[1;32m      6\u001b[0m         \u001b[0;32mcontinue\u001b[0m\u001b[0;34m\u001b[0m\u001b[0m\n",
      "\u001b[0;31mValueError\u001b[0m: too many values to unpack"
     ]
    }
   ],
   "source": [
    "root_fp = '/nfs/birdstore/Master_Repo/Active_Atlas_Pointers/Image_Files/Raw_Scanner_Files/'\n",
    "subfolders = os.listdir( root_fp )\n",
    "\n",
    "for i, subfolder in subfolders:\n",
    "    if subfolder == 'butt':\n",
    "        continue\n",
    "\n",
    "# Each subfolder contains a set of raw filenames\n",
    "# One brain can have multiple subfolders due to rescanning and converting datatypes\n",
    "for subfolder in esubfolders:\n",
    "    file_list = os.listdir( os.path.join( root_fp, subfolder) )\n",
    "    \n",
    "    if file_list[0] == 'Fluorescent' or file_list[0] == 'Nissl':\n",
    "        pass\n",
    "    \n",
    "    try:\n",
    "        print subfolder\n",
    "        print file_list[0]\n",
    "        print file_list[1]\n",
    "        print ''\n",
    "    except:\n",
    "        break"
   ]
  },
  {
   "cell_type": "code",
   "execution_count": 18,
   "metadata": {},
   "outputs": [
    {
     "data": {
      "text/plain": [
       "'/nfs/birdstore/Master_Repo/Active_Atlas_Pointers/Image_Files/Raw_Scanner_Files/CHATM2_2018-01-19'"
      ]
     },
     "execution_count": 18,
     "metadata": {},
     "output_type": "execute_result"
    }
   ],
   "source": [
    "os.path.join( root_fp, subfolder)"
   ]
  },
  {
   "cell_type": "code",
   "execution_count": 20,
   "metadata": {},
   "outputs": [
    {
     "name": "stdout",
     "output_type": "stream",
     "text": [
      "CHATM2_slide01_2018_01_18.czi\tCHATM2_slide37_2018_01_22.czi\r\n",
      "CHATM2_slide02_2018_01_18.czi\tCHATM2_slide38_2018_01_22.czi\r\n",
      "CHATM2_slide03_2018_01_18.czi\tCHATM2_slide39_2018_01_22.czi\r\n",
      "CHATM2_slide04_2018_01_18.czi\tCHATM2_slide41_2018_01_22.czi\r\n",
      "CHATM2_slide05_2018_01_18.czi\tCHATM2_slide42_2018_01_22.czi\r\n",
      "CHATM2_slide06_2018_01_18.czi\tCHATM2_slide43_2018_01_22.czi\r\n",
      "CHATM2_slide07_2018_01_18.czi\tCHATM2_slide44_2018_01_22.czi\r\n",
      "CHATM2_slide08_2018_01_18.czi\tCHATM2_slide45_2018_01_22.czi\r\n",
      "CHATM2_slide09_2018_01_18.czi\tCHATM2_slide46_2018_01_22.czi\r\n",
      "CHATM2_slide100_2018_02_13.czi\tCHATM2_slide48_2018_01_22.czi\r\n",
      "CHATM2_slide10_2018_01_18.czi\tCHATM2_slide50_2018_01_22.czi\r\n",
      "CHATM2_slide102_2018_02_13.czi\tCHATM2_slide51_2018_01_22.czi\r\n",
      "CHATM2_slide104_2018_02_13.czi\tCHATM2_slide52_2018_01_22.czi\r\n",
      "CHATM2_slide106_2018_02_13.czi\tCHATM2_slide53_2018_01_22.czi\r\n",
      "CHATM2_slide108_2018_02_13.czi\tCHATM2_slide54_2018_01_22.czi\r\n",
      "CHATM2_slide11_2018_01_18.czi\tCHATM2_slide55_2018_01_22.czi\r\n",
      "CHATM2_slide12_2018_01_18.czi\tCHATM2_slide56_2018_01_22.czi\r\n",
      "CHATM2_slide13_2018_01_19.czi\tCHATM2_slide57_2018_01_22.czi\r\n",
      "CHATM2_slide14_2018_01_18.czi\tCHATM2_slide58_2018_01_22.czi\r\n",
      "CHATM2_slide15_2018_01_18.czi\tCHATM2_slide62_2018_02_14.czi\r\n",
      "CHATM2_slide16_2018_01_18.czi\tCHATM2_slide64_2018_02_15.czi\r\n",
      "CHATM2_slide17_2018_01_18.czi\tCHATM2_slide66_2018_02_14.czi\r\n",
      "CHATM2_slide18_2018_01_18.czi\tCHATM2_slide70_2018_02_14.czi\r\n",
      "CHATM2_slide19_2018_01_18.czi\tCHATM2_slide72_2018_02_14.czi\r\n",
      "CHATM2_slide20_2018_01_18.czi\tCHATM2_slide74_2018_02_14.czi\r\n",
      "CHATM2_slide21_2018_01_18.czi\tCHATM2_slide76_2018_02_14.czi\r\n",
      "CHATM2_slide22_2018_01_19.czi\tCHATM2_slide78_2018_02_14.czi\r\n",
      "CHATM2_slide23_2018_01_18.czi\tCHATM2_slide80_2018_02_14.czi\r\n",
      "CHATM2_slide24_2018_01_18.czi\tCHATM2_slide82_2018_02_14.czi\r\n",
      "CHATM2_slide25_2018_01_18.czi\tCHATM2_slide84_2018_02_14.czi\r\n",
      "CHATM2_slide26_2018_01_18.czi\tCHATM2_slide86_2018_02_13.czi\r\n",
      "CHATM2_slide27_2018_01_18.czi\tCHATM2_slide88_2018_02_13.czi\r\n",
      "CHATM2_slide28_2018_01_18.czi\tCHATM2_slide90_2018_02_13.czi\r\n",
      "CHATM2_slide29_2018_01_18.czi\tCHATM2_slide92_2018_02_13.czi\r\n",
      "CHATM2_slide30_2018_01_18.czi\tCHATM2_slide94_2018_02_13.czi\r\n",
      "CHATM2_slide31_2018_01_19.czi\tCHATM2_slide96_2018_02_13.czi\r\n",
      "CHATM2_slide32_2018_01_20.czi\tCHATM2_slide98_2018_02_13.czi\r\n",
      "CHATM2_slide33_2018_01_20.czi\tfCHATM2_slide35_2018_01_20.czi\r\n",
      "CHATM2_slide34_2018_01_20.czi\tfCHATM2_slide49_2018_01_22.czi\r\n",
      "CHATM2_slide36_2018_01_22.czi\tfCHATM2_slide68_2018_02_14.czi\r\n"
     ]
    }
   ],
   "source": [
    "! ls '/nfs/birdstore/Master_Repo/Active_Atlas_Pointers/Image_Files/Raw_Scanner_Files/CHATM2_2018-01-19/Fluorescent'\n"
   ]
  },
  {
   "cell_type": "code",
   "execution_count": null,
   "metadata": {
    "collapsed": true
   },
   "outputs": [],
   "source": []
  }
 ],
 "metadata": {
  "kernelspec": {
   "display_name": "Python 2",
   "language": "python",
   "name": "python2"
  },
  "language_info": {
   "codemirror_mode": {
    "name": "ipython",
    "version": 2
   },
   "file_extension": ".py",
   "mimetype": "text/x-python",
   "name": "python",
   "nbconvert_exporter": "python",
   "pygments_lexer": "ipython2",
   "version": "2.7.12"
  }
 },
 "nbformat": 4,
 "nbformat_minor": 2
}
