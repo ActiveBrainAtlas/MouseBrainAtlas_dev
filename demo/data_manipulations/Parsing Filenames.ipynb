{
 "cells": [
  {
   "cell_type": "code",
   "execution_count": 1,
   "metadata": {
    "collapsed": true
   },
   "outputs": [],
   "source": [
    "import os, sys\n",
    "import subprocess\n",
    "import numpy as np\n",
    "import scipy as sp\n",
    "import json\n",
    "\n",
    "from matplotlib import pyplot as plt\n",
    "%matplotlib inline"
   ]
  },
  {
   "cell_type": "code",
   "execution_count": 74,
   "metadata": {},
   "outputs": [
    {
     "name": "stdout",
     "output_type": "stream",
     "text": [
      "MD603-N88-2016.03.02-14.55.16_MD603_1_0262.tif\n",
      "MD636-N57-2016.05.25-22.01.22_MD636_2_0170_lossy.jp2\n",
      "MD590-N24-2015.08.03-18.34.11_MD590_2_0071_lossy.jp2\n",
      "MD585-IHC28-2015.08.19-13.33.04_MD585_2_0083.png\n",
      "DK19-N95-2019.08.29-22.00.00_DK19_1_0283.tif\n",
      "MD175-N110-2011.07.27-01.34.02_MD175_1_0328.tif\n",
      "MD599-IHC28-2015.10.03-05.10.05_MD599_1_0082_lossy.jp2\n",
      "UCSD001_slide094_2018_09_05-S4_prep7_raw_None.tif\n",
      "MD642-F63-2017.01.14-15.41.18_MD642_2_0188.png\n",
      "MD589-N21-2015.07.30-17.23.23_MD589_1_0061_lossless.jp2\n",
      "MD594-N71-2015.08.27-01.14.30_MD594_1_0211.tif\n",
      "MD592-N62-2015.08.22-03.49.21_MD592_2_0185.png\n",
      "MD662&661-F29-2017.06.05-14.26.10_MD662_1_0085.tif\n",
      "DK17-N60-2019.06.07-17.50.58_DK17_1_0178.tif\n",
      "MD593-N57-2015.08.21-21.05.45_MD593_3_0169.tif\n",
      "MD653-N1-2016.12.17-02.47.14_MD653_2_0002_lossy.jp2\n",
      "MD595-IHC55-2015.09.15-04.19.17_MD595_3_0165_lossy.jp2\n",
      "MD598-N60-2015.09.29-20.37.49_MD598_2_0179.tif\n",
      "MD639-N55-2016.09.19-17.23.13_MD639_1_0163_lossless.jp2\n",
      "MD658-F75-2017.04.05-11.05.25_MD658_2_0224.png\n",
      "MD657-N1-2017.02.27-15.52.27_MD657_2_0002.tif\n",
      "MD591-IHC93-2015.08.28-10.27.28_MD591_1_0277_lossy.jp2\n",
      "MD602-IHC41-2015.12.02-00.26.19_MD602_3_0121_lossless.jp2\n"
     ]
    }
   ],
   "source": [
    "root_fp = '/nfs/birdstore/Master_Repo/Active_Atlas_Pointers/Image_Files/Raw_Scanner_Files/'\n",
    "subfolders = os.listdir( root_fp )\n",
    "\n",
    "for i, subfolder in enumerate(subfolders):\n",
    "    file_list = os.listdir( os.path.join( root_fp, subfolder) )\n",
    "    \n",
    "    if len(file_list) < 15:\n",
    "        continue\n",
    "        \n",
    "    if 'czi' in file_list[0] or 'ndpi' in file_list[0] or 'txt' in file_list[0]:\n",
    "        continue\n",
    "        \n",
    "    print file_list[0]"
   ]
  },
  {
   "cell_type": "code",
   "execution_count": null,
   "metadata": {
    "collapsed": true
   },
   "outputs": [],
   "source": []
  }
 ],
 "metadata": {
  "kernelspec": {
   "display_name": "Python 2",
   "language": "python",
   "name": "python2"
  },
  "language_info": {
   "codemirror_mode": {
    "name": "ipython",
    "version": 2
   },
   "file_extension": ".py",
   "mimetype": "text/x-python",
   "name": "python",
   "nbconvert_exporter": "python",
   "pygments_lexer": "ipython2",
   "version": "2.7.12"
  }
 },
 "nbformat": 4,
 "nbformat_minor": 2
}
