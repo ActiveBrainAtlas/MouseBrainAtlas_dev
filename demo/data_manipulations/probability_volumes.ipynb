{
 "cells": [
  {
   "cell_type": "code",
   "execution_count": 2,
   "metadata": {},
   "outputs": [],
   "source": [
    "%matplotlib inline\n",
    "\n",
    "import bloscpack as bp\n",
    "import numpy as np\n",
    "import matplotlib.pyplot as plt\n",
    "import math\n",
    "import pandas as pd\n",
    "import os\n",
    "import sys \n",
    "\n",
    "sys.path.append(os.path.join(os.environ['REPO_DIR'], 'utilities'))\n",
    "from metadata import *\n",
    "from utilities2015 import *\n",
    "from registration_utilities import *\n",
    "from annotation_utilities import *\n",
    "from data_manager import DataManager\n",
    "\n",
    "def get_npz_data(filename):\n",
    "    filename = filename+'.npz'\n",
    "    filecontents = np.load(filename)\n",
    "    data = filecontents['data']\n",
    "    del filecontents\n",
    "    return data\n",
    "\n",
    "\n",
    "def blosc_to_npz(filename):\n",
    "    if '.' in filename:\n",
    "        file = filename\n",
    "    else:\n",
    "        file = filename+\".bp\";\n",
    "\n",
    "    a = bp.unpack_ndarray_file(file)\n",
    "    b = np.asarray(a)\n",
    "\n",
    "    np.savez(filename+'.npz', data=b) # Save matrix as .npz file\n",
    "\n",
    "    print('Size of bloscpack data:')\n",
    "    print(np.shape(b))\n",
    "    print('')\n",
    "\n",
    "def read_loc_into_array(filename):\n",
    "    file = open(filename+'.bp', 'r')\n",
    "    points = []\n",
    "\n",
    "    for line in file:\n",
    "        x, y = line.split(' ')\n",
    "        x = int( x )\n",
    "        y = int( y.replace('\\n','') )\n",
    "        points.append( [x,y] )\n",
    "    return points\n",
    "\n",
    "def change_plot_sizes( width=8, length=6):\n",
    "    # Get current size\n",
    "    fig_size = plt.rcParams[\"figure.figsize\"]\n",
    "\n",
    "    # Prints: [8.0, 6.0]\n",
    "    print \"Current size:\", fig_size\n",
    "\n",
    "    # Set figure width to 12 and height to 9\n",
    "    fig_size[0] = width\n",
    "    fig_size[1] = length\n",
    "    plt.rcParams[\"figure.figsize\"] = fig_size"
   ]
  },
  {
   "cell_type": "markdown",
   "metadata": {},
   "source": [
    "# Built in functions"
   ]
  },
  {
   "cell_type": "code",
   "execution_count": 7,
   "metadata": {},
   "outputs": [
    {
     "name": "stderr",
     "output_type": "stream",
     "text": [
      "Prior structure/index map not found. Generating a new one.\n"
     ]
    }
   ],
   "source": [
    "# Load atlas volumes\n",
    "atlas_spec = dict(name='atlasV7',\n",
    "                   vol_type='score',\n",
    "                   resolution='10.0um'\n",
    "                   )\n",
    "# volume = atlas_structures_wrt_canonicalAtlasSpace_atlasResol[structure][0]\n",
    "# offset = atlas_structures_wrt_canonicalAtlasSpace_atlasResol[structure][1]\n",
    "atlas_structures_wrt_canonicalAtlasSpace_atlasResol = \\\n",
    "DataManager.load_original_volume_all_known_structures_v3(atlas_spec, in_bbox_wrt='canonicalAtlasSpace',\n",
    "                                                         out_bbox_wrt='canonicalAtlasSpace')"
   ]
  },
  {
   "cell_type": "code",
   "execution_count": null,
   "metadata": {
    "collapsed": true
   },
   "outputs": [],
   "source": [
    "### Compute score maps. ###\n",
    "\n",
    "bg_img_version = 'gray'\n",
    "\n",
    "# Load mxnet model\n",
    "batch_size = 256\n",
    "model_dir_name = 'inception-bn-blue'\n",
    "model_name = 'inception-bn-blue'\n",
    "model, mean_img = load_mxnet_model(model_dir_name=model_dir_name, model_name=model_name,\n",
    "                                   num_gpus=1, batch_size=batch_size)\n",
    "out_resolution_um = 10 # um\n",
    "\n",
    "detector_setting = detector_settings.loc[detector_id]\n",
    "clfs = DataManager.load_classifiers(classifier_id=detector_setting['feature_classifier_id'])\n",
    "win_id = detector_setting['windowing_id']\n",
    "\n",
    "viz_all_landmarks, scoremap_all_landmarks = \\\n",
    "            draw_scoremap(\n",
    "                    clfs={name_u: clfs[name_u]},\n",
    "                    bbox=bbox,\n",
    "                    scheme='none',\n",
    "                    win_id=win_id, prep_id=2,\n",
    "                    stack=stack,\n",
    "                    return_what='both',\n",
    "                    sec=sec,\n",
    "                    model=model, model_name=model_name,\n",
    "                    mean_img=mean_img,\n",
    "                    batch_size=batch_size,\n",
    "                    output_patch_size=224,\n",
    "                    is_nissl=False,\n",
    "                    out_resolution_um=out_resolution_um,\n",
    "                    bg_img_version=bg_img_version,\n",
    "                    image_shape=metadata_cache['image_shape'][stack],\n",
    "                    return_wholeimage=True)\n",
    "sm = scoremap_all_landmarks[name_u]\n",
    "viz = viz_all_landmarks[name_u]"
   ]
  },
  {
   "cell_type": "code",
   "execution_count": 14,
   "metadata": {},
   "outputs": [],
   "source": [
    "# Load downsampled scoremap\n",
    "\n",
    "stack=\"MD585\"\n",
    "section=305\n",
    "name_u=\"7n\"\n",
    "out_resolution_um=10\n",
    "detector_id=19\n",
    "\n",
    "scoremap = DataManager.load_downscaled_scoremap(stack=stack, section=section, structure=name_u,\n",
    "                                                prep_id='alignedBrainstemCrop',\n",
    "                                                out_resolution_um=out_resolution_um,\n",
    "                                                detector_id=detector_id\n",
    "                                               ).astype(np.float32)"
   ]
  },
  {
   "cell_type": "code",
   "execution_count": null,
   "metadata": {
    "collapsed": true
   },
   "outputs": [],
   "source": [
    "# load mask\n",
    "mask = DataManager.load_image_v2(stack=stack, section=sec,\n",
    "                                 prep_id='alignedBrainstemCrop',\n",
    "                                 resol='thumbnail', version='mask')"
   ]
  },
  {
   "cell_type": "code",
   "execution_count": null,
   "metadata": {
    "collapsed": true
   },
   "outputs": [],
   "source": [
    "# Create scoremap volume by converting image stack into volumes\n",
    "\n",
    "for sec in range( metadata_cache['section_limits'][stack][0],metadata_cache['section_limits'][stack][1]+1 ):\n",
    "        if is_invalid(sec=sec, stack=stack):\n",
    "            continue\n",
    "\n",
    "        try:\n",
    "            scoremap = DataManager.load_downscaled_scoremap(stack=stack, section=sec, structure=name_u,\n",
    "                                                            prep_id='alignedBrainstemCrop',\n",
    "                                                            out_resolution_um=out_resolution_um,\n",
    "                                                            detector_id=detector_id).astype(np.float32)\n",
    "        except Exception as e:\n",
    "            sys.stderr.write('%s\\n' % e)\n",
    "            continue\n",
    "\n",
    "        mask = DataManager.load_image_v2(stack=stack, section=sec,\n",
    "                                prep_id='alignedBrainstemCrop',\n",
    "                                resol='thumbnail', version='mask')\n",
    "\n",
    "        mask_outResol = rescale_by_resampling(mask, new_shape=(scoremap.shape[1], scoremap.shape[0]))\n",
    "\n",
    "        scoremap[~mask_outResol] = 0\n",
    "        scoremaps[sec] = scoremap\n",
    "\n",
    "# scoremaps[section] = section_scoremap\n",
    "volume_outVolResol, volume_origin_wrt_wholebrainXYcropped_outVolResol = \\\n",
    "        images_to_volume_v2(images=scoremaps, spacing_um=20.,\n",
    "                                in_resol_um=out_resolution_um,\n",
    "                                out_resol_um=out_resolution_um)\n",
    "    \n",
    "# Compute gradients of scoremap volume\n",
    "gradients = compute_gradient_v2((volume_outVolResol, volume_origin_wrt_wholebrain_outVolResol),\n",
    "                                        smooth_first=True)"
   ]
  },
  {
   "cell_type": "code",
   "execution_count": null,
   "metadata": {
    "collapsed": true
   },
   "outputs": [],
   "source": []
  },
  {
   "cell_type": "code",
   "execution_count": null,
   "metadata": {
    "collapsed": true
   },
   "outputs": [],
   "source": []
  },
  {
   "cell_type": "code",
   "execution_count": null,
   "metadata": {
    "collapsed": true
   },
   "outputs": [],
   "source": [
    "brain_spec = dict(name=stack,vol_type='score',detector_id=detector_id,resolution=output_resolution)\n",
    "\n",
    "\n",
    "# Scoremap fps\n",
    "DataManager.get_downscaled_scoremap_filepath(stack=stack, section=sec,\n",
    "                                        structure=name_u, detector_id=detector_id,\n",
    "                                        out_resolution_um=out_resolution_um)\n",
    "DataManager.get_scoremap_viz_filepath_v2(stack=stack, section=sec,\n",
    "                                        structure=name_u, detector_id=detector_id,\n",
    "                                        out_resolution=output_resolution)\n",
    "\n",
    "# Scoremap Volume fps\n",
    "DataManager.get_original_volume_filepath_v2(stack_spec=brain_spec, structure=name_s)\n",
    "DataManager.get_original_volume_origin_filepath_v3(stack_spec=brain_spec, structure=name_s, wrt='wholebrain')\n",
    "\n",
    "# Gradient fps\n",
    "DataManager.get_volume_gradient_filepath_v3(stack_spec=stack_spec, structure=structure)\n",
    "DataManager.get_volume_gradient_origin_filepath_v3(stack_spec=stack_spec, structure=structure)"
   ]
  },
  {
   "cell_type": "code",
   "execution_count": 20,
   "metadata": {},
   "outputs": [],
   "source": [
    "brain_spec = dict(name=\"MD585\",vol_type='score',detector_id=19,resolution='10.0um')\n",
    "structure = \"7n\"\n",
    "\n",
    "scoremap_fp = DataManager.get_original_volume_filepath_v2(stack_spec=brain_spec, structure=structure)\n",
    "gradient_fp = DataManager.get_volume_gradient_filepath_v3(stack_spec=brain_spec, structure=structure)\n"
   ]
  },
  {
   "cell_type": "code",
   "execution_count": 22,
   "metadata": {},
   "outputs": [
    {
     "ename": "IOError",
     "evalue": "[Errno 2] No such file or directory: '/media/alexn/BstemAtlasDataBackup/ucsd_brain/CSHL_volumes/MD585/MD585_detector19_10.0um_scoreVolume/score_volumes/MD585_detector19_10.0um_scoreVolume_7n.bp.bp'",
     "output_type": "error",
     "traceback": [
      "\u001b[0;31m---------------------------------------------------------------------\u001b[0m",
      "\u001b[0;31mIOError\u001b[0m                             Traceback (most recent call last)",
      "\u001b[0;32m<ipython-input-22-679f50c620e6>\u001b[0m in \u001b[0;36m<module>\u001b[0;34m()\u001b[0m\n\u001b[0;32m----> 1\u001b[0;31m \u001b[0mblosc_to_npz\u001b[0m\u001b[0;34m(\u001b[0m\u001b[0mscoremap_fp\u001b[0m\u001b[0;34m)\u001b[0m\u001b[0;34m\u001b[0m\u001b[0m\n\u001b[0m\u001b[1;32m      2\u001b[0m \u001b[0mdata_atlas\u001b[0m \u001b[0;34m=\u001b[0m \u001b[0mget_npz_data\u001b[0m\u001b[0;34m(\u001b[0m\u001b[0mscoremap_fp\u001b[0m\u001b[0;34m)\u001b[0m\u001b[0;34m\u001b[0m\u001b[0m\n",
      "\u001b[0;32m<ipython-input-2-4205bb71ffbe>\u001b[0m in \u001b[0;36mblosc_to_npz\u001b[0;34m(filename)\u001b[0m\n\u001b[1;32m     27\u001b[0m     \u001b[0mfile\u001b[0m \u001b[0;34m=\u001b[0m \u001b[0mfilename\u001b[0m\u001b[0;34m+\u001b[0m\u001b[0;34m\".bp\"\u001b[0m\u001b[0;34m;\u001b[0m\u001b[0;34m\u001b[0m\u001b[0m\n\u001b[1;32m     28\u001b[0m \u001b[0;34m\u001b[0m\u001b[0m\n\u001b[0;32m---> 29\u001b[0;31m     \u001b[0ma\u001b[0m \u001b[0;34m=\u001b[0m \u001b[0mbp\u001b[0m\u001b[0;34m.\u001b[0m\u001b[0munpack_ndarray_file\u001b[0m\u001b[0;34m(\u001b[0m\u001b[0mfile\u001b[0m\u001b[0;34m)\u001b[0m\u001b[0;34m\u001b[0m\u001b[0m\n\u001b[0m\u001b[1;32m     30\u001b[0m     \u001b[0mb\u001b[0m \u001b[0;34m=\u001b[0m \u001b[0mnp\u001b[0m\u001b[0;34m.\u001b[0m\u001b[0masarray\u001b[0m\u001b[0;34m(\u001b[0m\u001b[0ma\u001b[0m\u001b[0;34m)\u001b[0m\u001b[0;34m\u001b[0m\u001b[0m\n\u001b[1;32m     31\u001b[0m \u001b[0;34m\u001b[0m\u001b[0m\n",
      "\u001b[0;32m/usr/local/lib/python2.7/dist-packages/bloscpack/numpy_io.pyc\u001b[0m in \u001b[0;36munpack_ndarray_file\u001b[0;34m(filename)\u001b[0m\n\u001b[1;32m    231\u001b[0m \u001b[0;34m\u001b[0m\u001b[0m\n\u001b[1;32m    232\u001b[0m \u001b[0;32mdef\u001b[0m \u001b[0munpack_ndarray_file\u001b[0m\u001b[0;34m(\u001b[0m\u001b[0mfilename\u001b[0m\u001b[0;34m)\u001b[0m\u001b[0;34m:\u001b[0m\u001b[0;34m\u001b[0m\u001b[0m\n\u001b[0;32m--> 233\u001b[0;31m     \u001b[0msource\u001b[0m \u001b[0;34m=\u001b[0m \u001b[0mCompressedFPSource\u001b[0m\u001b[0;34m(\u001b[0m\u001b[0mopen\u001b[0m\u001b[0;34m(\u001b[0m\u001b[0mfilename\u001b[0m\u001b[0;34m,\u001b[0m \u001b[0;34m'rb'\u001b[0m\u001b[0;34m)\u001b[0m\u001b[0;34m)\u001b[0m\u001b[0;34m\u001b[0m\u001b[0m\n\u001b[0m\u001b[1;32m    234\u001b[0m     \u001b[0;32mreturn\u001b[0m \u001b[0munpack_ndarray\u001b[0m\u001b[0;34m(\u001b[0m\u001b[0msource\u001b[0m\u001b[0;34m)\u001b[0m\u001b[0;34m\u001b[0m\u001b[0m\n\u001b[1;32m    235\u001b[0m \u001b[0;34m\u001b[0m\u001b[0m\n",
      "\u001b[0;31mIOError\u001b[0m: [Errno 2] No such file or directory: '/media/alexn/BstemAtlasDataBackup/ucsd_brain/CSHL_volumes/MD585/MD585_detector19_10.0um_scoreVolume/score_volumes/MD585_detector19_10.0um_scoreVolume_7n.bp.bp'"
     ]
    }
   ],
   "source": [
    "blosc_to_npz( scoremap_fp )\n",
    "data_atlas = get_npz_data( scoremap_fp )"
   ]
  },
  {
   "cell_type": "markdown",
   "metadata": {},
   "source": [
    "# Global Alignment Files"
   ]
  },
  {
   "cell_type": "code",
   "execution_count": 285,
   "metadata": {},
   "outputs": [
    {
     "name": "stdout",
     "output_type": "stream",
     "text": [
      "_____List of files____\n",
      "UCSD001_manual_anchor_points.ini\n",
      "UCSD001_registered_atlas_structures_wrt_wholebrainXYcropped_xysecTwoCorners.json\n",
      "UCSD001_T_atlas_wrt_canonicalAtlasSpace_subject_wrt_wholebrain_atlasResol.bp\n",
      "UCSD001_T_atlas_wrt_canonicalAtlasSpace_subject_wrt_wholebrain_atlasResol.txt\n"
     ]
    }
   ],
   "source": [
    "DATA_ROOTDIR = '/media/alexn/BstemAtlasDataBackup/ucsd_brain/'\n",
    "fp = DATA_ROOTDIR+'/CSHL_simple_global_registration/'\n",
    "\n",
    "global_alignment_file_list = ! ls $fp\n",
    "\n",
    "g_a_file_text = ''\n",
    "g_a_file_bp = ''\n",
    "g_a_file_json = ''\n",
    "g_a_file_ini = ''\n",
    "\n",
    "print '_____List of files____'\n",
    "for f in global_alignment_file_list:\n",
    "    print f\n",
    "    if '.ini' in f:\n",
    "        g_a_file_ini = f\n",
    "    if '.bp' in f:\n",
    "        g_a_file_bp = f\n",
    "    if '.txt' in f:\n",
    "        g_a_file_text = f\n",
    "    if '.json' in f:\n",
    "        g_a_file_json = f"
   ]
  },
  {
   "cell_type": "code",
   "execution_count": 275,
   "metadata": {
    "collapsed": true
   },
   "outputs": [],
   "source": []
  },
  {
   "cell_type": "code",
   "execution_count": 284,
   "metadata": {},
   "outputs": [
    {
     "name": "stdout",
     "output_type": "stream",
     "text": [
      "[[ 9.66347634e-01  2.57249504e-01  0.00000000e+00  1.19274282e+03]\n",
      " [-2.57249504e-01  9.66347634e-01  0.00000000e+00  5.46443355e+02]\n",
      " [ 0.00000000e+00  0.00000000e+00  1.00000000e+00  4.68000000e+02]]\n"
     ]
    }
   ],
   "source": [
    "T_atlas_wrt_canonicalAtlasSpace_subject_wrt_wholebrain_atlasResol = np.loadtxt(os.path.join(\\\n",
    "    DATA_ROOTDIR, 'CSHL_simple_global_registration', g_a_file_text))\n",
    "\n",
    "print T_atlas_wrt_canonicalAtlasSpace_subject_wrt_wholebrain_atlasResol"
   ]
  },
  {
   "cell_type": "markdown",
   "metadata": {},
   "source": [
    "# AtlasV7 and UCSD001 - Score volume vizualization"
   ]
  },
  {
   "cell_type": "code",
   "execution_count": 296,
   "metadata": {},
   "outputs": [
    {
     "name": "stdout",
     "output_type": "stream",
     "text": [
      "Size of bloscpack data:\n",
      "(71, 142, 91)\n",
      "\n",
      "Size of bloscpack data:\n",
      "(71, 142, 91)\n",
      "\n"
     ]
    }
   ],
   "source": [
    "fn_atlas = 'probability_volumes/atlasV7/atlasV7_10.0um_scoreVolume_warp0_UCSD001\\\n",
    "_detector799_10.0um_scoreVolume_10.0um/score_volumes/atlasV7_10.0um_scoreVolume_warp0\\\n",
    "_UCSD001_detector799_10.0um_scoreVolume_10.0um_12N'\n",
    "\n",
    "fn_ucsd1 = 'probability_volumes/UCSD001/UCSD001_detector799_10.0um_scoreVolume_warp0_UCSD001_\\\n",
    "detector799_10.0um_scoreVolume_10.0um/score_volumes/UCSD001_detector799_10.0um_scoreVolume_warp0\\\n",
    "_UCSD001_detector799_10.0um_scoreVolume_10.0um_12N'\n",
    "\n",
    "blosc_to_npz(fn_atlas)\n",
    "data_atlas = get_npz_data(fn_atlas)\n",
    "\n",
    "blosc_to_npz(fn_ucsd1)\n",
    "data_ucsd1 = get_npz_data(fn_ucsd1)"
   ]
  },
  {
   "cell_type": "code",
   "execution_count": 297,
   "metadata": {
    "collapsed": true
   },
   "outputs": [],
   "source": [
    "# These files are identical...\n",
    "for i in data_atlas[20] - data_ucsd1[20]:\n",
    "    for j in i:\n",
    "        if not j==0:\n",
    "            print j"
   ]
  },
  {
   "cell_type": "code",
   "execution_count": 298,
   "metadata": {},
   "outputs": [
    {
     "data": {
      "text/plain": [
       "<matplotlib.image.AxesImage at 0x7fdd5f170650>"
      ]
     },
     "execution_count": 298,
     "metadata": {},
     "output_type": "execute_result"
    },
    {
     "data": {
      "image/png": "[encoded data removed]",
      "text/plain": [
       "<matplotlib.figure.Figure at 0x7fdd5f1fc4d0>"
      ]
     },
     "metadata": {},
     "output_type": "display_data"
    }
   ],
   "source": [
    "# prepare image and figure\n",
    "fig, axes = plt.subplots(2, 2)\n",
    "axes = axes.flatten()\n",
    "\n",
    "axes[0].imshow( data_atlas[40,:,:], cmap='gray', vmin=0, vmax=1 )\n",
    "axes[1].imshow( data_atlas[:,40,:], cmap='gray', vmin=0, vmax=1 )\n",
    "axes[2].imshow( data_atlas[:,:,40], cmap='gray', vmin=0, vmax=1 )\n",
    "axes[3].imshow( data_atlas[40]>.95, cmap='gray', vmin=0, vmax=1 )\n"
   ]
  },
  {
   "cell_type": "code",
   "execution_count": 302,
   "metadata": {
    "scrolled": true
   },
   "outputs": [
    {
     "data": {
      "text/plain": [
       "<matplotlib.image.AxesImage at 0x7fdd5ceba190>"
      ]
     },
     "execution_count": 302,
     "metadata": {},
     "output_type": "execute_result"
    },
    {
     "data": {
      "image/png": "[encoded data removed]",
      "text/plain": [
       "<matplotlib.figure.Figure at 0x7fdd5cfa4190>"
      ]
     },
     "metadata": {},
     "output_type": "display_data"
    }
   ],
   "source": [
    "fig, axes = plt.subplots(1,2)\n",
    "\n",
    "axes[0].imshow( data_atlas[40,:,:], cmap='gray', vmin=0, vmax=1 )\n",
    "axes[1].imshow( data_ucsd1[40,:,:], cmap='gray', vmin=0, vmax=1 )"
   ]
  },
  {
   "cell_type": "code",
   "execution_count": 296,
   "metadata": {},
   "outputs": [
    {
     "name": "stdout",
     "output_type": "stream",
     "text": [
      "Size of bloscpack data:\n",
      "(71, 142, 91)\n",
      "\n",
      "Size of bloscpack data:\n",
      "(71, 142, 91)\n",
      "\n"
     ]
    }
   ],
   "source": [
    "DATA_ROOTDIR = '/media/alexn/BstemAtlasDataBackup/ucsd_brain/'\n",
    "\n",
    "fn_ucsd1 = DATA_ROOTDIR+'probability_volumes/UCSD001/UCSD001_detector799_10.0um_scoreVolume_warp0_UCSD001_\\\n",
    "detector799_10.0um_scoreVolume_10.0um/score_volumes/UCSD001_detector799_10.0um_scoreVolume_warp0\\\n",
    "_UCSD001_detector799_10.0um_scoreVolume_10.0um_12N'\n",
    "\n",
    "blosc_to_npz(fn_atlas)\n",
    "data_atlas = get_npz_data(fn_atlas)\n",
    "\n",
    "blosc_to_npz(fn_ucsd1)\n",
    "data_ucsd1 = get_npz_data(fn_ucsd1)"
   ]
  },
  {
   "cell_type": "code",
   "execution_count": 302,
   "metadata": {
    "scrolled": true
   },
   "outputs": [
    {
     "data": {
      "text/plain": [
       "<matplotlib.image.AxesImage at 0x7fdd5ceba190>"
      ]
     },
     "execution_count": 302,
     "metadata": {},
     "output_type": "execute_result"
    },
    {
     "data": {
      "image/png": "[encoded data removed]",
      "text/plain": [
       "<matplotlib.figure.Figure at 0x7fdd5cfa4190>"
      ]
     },
     "metadata": {},
     "output_type": "display_data"
    }
   ],
   "source": [
    "fig, axes = plt.subplots(1,2)\n",
    "\n",
    "axes[0].imshow( data_atlas[40,:,:], cmap='gray', vmin=0, vmax=1 )\n",
    "axes[1].imshow( data_ucsd1[40,:,:], cmap='gray', vmin=0, vmax=1 )"
   ]
  },
  {
   "cell_type": "code",
   "execution_count": null,
   "metadata": {
    "collapsed": true
   },
   "outputs": [],
   "source": []
  },
  {
   "cell_type": "code",
   "execution_count": null,
   "metadata": {
    "collapsed": true
   },
   "outputs": [],
   "source": []
  },
  {
   "cell_type": "markdown",
   "metadata": {},
   "source": [
    "# Surround Score volume viz"
   ]
  },
  {
   "cell_type": "code",
   "execution_count": 88,
   "metadata": {},
   "outputs": [
    {
     "name": "stdout",
     "output_type": "stream",
     "text": [
      "Size of bloscpack data:\n",
      "(128, 174, 136)\n",
      "\n"
     ]
    }
   ],
   "source": [
    "fn = '12N_scorevolumes/atlasV7_10.0um_scoreVolume_12N_surround_200um'\n",
    "blosc_to_npz(fn)\n",
    "data = get_npz_data(fn)"
   ]
  },
  {
   "cell_type": "code",
   "execution_count": 99,
   "metadata": {
    "scrolled": true
   },
   "outputs": [
    {
     "data": {
      "image/png": "[encoded data removed]",
      "text/plain": [
       "<matplotlib.figure.Figure at 0x7fdd6e292550>"
      ]
     },
     "metadata": {},
     "output_type": "display_data"
    },
    {
     "data": {
      "image/png": "[encoded data removed]",
      "text/plain": [
       "<matplotlib.figure.Figure at 0x7fdd6ce69fd0>"
      ]
     },
     "metadata": {},
     "output_type": "display_data"
    },
    {
     "data": {
      "image/png": "[encoded data removed]",
      "text/plain": [
       "<matplotlib.figure.Figure at 0x7fdd6e5ba790>"
      ]
     },
     "metadata": {},
     "output_type": "display_data"
    }
   ],
   "source": [
    "# Plotted on X, Y, Z planes\n",
    "plt.imshow(data[55,:,:], cmap='gray', vmin=0, vmax=1)\n",
    "plt.show()\n",
    "\n",
    "plt.imshow(data[:,50,:], cmap='gray', vmin=0, vmax=1)\n",
    "plt.show()\n",
    "\n",
    "plt.imshow(data[:,:,60], cmap='gray', vmin=0, vmax=1)\n",
    "plt.show()"
   ]
  },
  {
   "cell_type": "code",
   "execution_count": 103,
   "metadata": {
    "scrolled": true
   },
   "outputs": [
    {
     "data": {
      "image/png": "[encoded data removed]",
      "text/plain": [
       "<matplotlib.figure.Figure at 0x7fdd6e4f16d0>"
      ]
     },
     "metadata": {},
     "output_type": "display_data"
    },
    {
     "data": {
      "image/png": "[encoded data removed]",
      "text/plain": [
       "<matplotlib.figure.Figure at 0x7fdd6e4e2790>"
      ]
     },
     "metadata": {},
     "output_type": "display_data"
    }
   ],
   "source": [
    "# Over a certain threshold\n",
    "plt.imshow(data[77,:,:]>0.999, cmap='gray', vmin=0, vmax=1)\n",
    "plt.show()\n",
    "plt.imshow(data[77,:,:]>0.5, cmap='gray', vmin=0, vmax=1)\n",
    "plt.show()"
   ]
  },
  {
   "cell_type": "code",
   "execution_count": null,
   "metadata": {
    "collapsed": true
   },
   "outputs": [],
   "source": []
  },
  {
   "cell_type": "code",
   "execution_count": null,
   "metadata": {
    "collapsed": true
   },
   "outputs": [],
   "source": []
  },
  {
   "cell_type": "code",
   "execution_count": null,
   "metadata": {
    "collapsed": true
   },
   "outputs": [],
   "source": []
  },
  {
   "cell_type": "code",
   "execution_count": null,
   "metadata": {
    "collapsed": true
   },
   "outputs": [],
   "source": []
  },
  {
   "cell_type": "code",
   "execution_count": null,
   "metadata": {
    "collapsed": true
   },
   "outputs": [],
   "source": []
  },
  {
   "cell_type": "code",
   "execution_count": null,
   "metadata": {
    "collapsed": true
   },
   "outputs": [],
   "source": []
  }
 ],
 "metadata": {
  "kernelspec": {
   "display_name": "Python 2",
   "language": "python",
   "name": "python2"
  },
  "language_info": {
   "codemirror_mode": {
    "name": "ipython",
    "version": 2
   },
   "file_extension": ".py",
   "mimetype": "text/x-python",
   "name": "python",
   "nbconvert_exporter": "python",
   "pygments_lexer": "ipython2",
   "version": "2.7.12"
  }
 },
 "nbformat": 4,
 "nbformat_minor": 2
}
