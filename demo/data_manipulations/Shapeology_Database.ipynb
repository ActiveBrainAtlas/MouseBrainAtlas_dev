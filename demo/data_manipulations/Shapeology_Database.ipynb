{
 "cells": [
  {
   "cell_type": "code",
   "execution_count": 5,
   "metadata": {
    "collapsed": true
   },
   "outputs": [],
   "source": [
    "import sqlite3\n",
    "import os, sys\n",
    "\n",
    "def create_connection(db_file):\n",
    "    \"\"\" create a database connection to the SQLite database\n",
    "        specified by the db_file\n",
    "    :param db_file: database file\n",
    "    :return: Connection object or None\n",
    "    \"\"\"\n",
    "    conn = None\n",
    "    try:\n",
    "        conn = sqlite3.connect(db_file)\n",
    "    except Error as e:\n",
    "        print(e)\n",
    " \n",
    "    return conn\n",
    "\n",
    "def select_all_tasks(conn):\n",
    "    \"\"\"\n",
    "    Query all rows in the tasks table\n",
    "    :param conn: the Connection object\n",
    "    :return:\n",
    "    \"\"\"\n",
    "    cur = conn.cursor()\n",
    "    cur.execute(\"SELECT * FROM tasks\")\n",
    " \n",
    "    rows = cur.fetchall()\n",
    " \n",
    "    for row in rows:\n",
    "        print(row)\n",
    "        \n",
    "def select_task_by_priority(conn, priority):\n",
    "    \"\"\"\n",
    "    Query tasks by priority\n",
    "    :param conn: the Connection object\n",
    "    :param priority:\n",
    "    :return:\n",
    "    \"\"\"\n",
    "    cur = conn.cursor()\n",
    "    cur.execute(\"SELECT * FROM tasks WHERE priority=?\", (priority,))\n",
    " \n",
    "    rows = cur.fetchall()\n",
    " \n",
    "    for row in rows:\n",
    "        print(row)\n",
    "        \n",
    "def main():\n",
    "    root_fp = '/data2/Shapeology_Files/MD589/'\n",
    "    fn = root_fp + '250.db'\n",
    "    database = fn\n",
    " \n",
    "    # create a database connection\n",
    "    conn = create_connection(database)\n",
    "    with conn:\n",
    "        print(\"1. Query task by priority:\")\n",
    "        select_task_by_priority(conn, 1)\n",
    " \n",
    "        print(\"2. Query all tasks\")\n",
    "        select_all_tasks(conn)\n",
    "\n",
    "root_fp = '/data2/Shapeology_Files/MD589/'\n",
    "db_fn = root_fp + '250.db'"
   ]
  },
  {
   "cell_type": "code",
   "execution_count": 28,
   "metadata": {},
   "outputs": [
    {
     "name": "stdout",
     "output_type": "stream",
     "text": [
      "(250, 214, 12, -1.1562024825566424, 1.7748779795855887, -0.8921692119177713, -0.1740102190578555, 0.726749477180023, 0.7460000282502182, -0.29095590036147656, 1.0486127637535954, -0.9199077894348087, 0.41959071010348803, 346, 22, 3.7818942049341038, 10.392028554431885, 51, -83.3125287864622, 39580.093300750785, 23.729747659077447, 5.550139223025579, 26)\n"
     ]
    }
   ],
   "source": [
    "conn = create_connection(db_fn)\n",
    "\n",
    "cur = conn.cursor()\n",
    "\n",
    "cur.execute(\"SELECT * FROM features\")\n",
    "\n",
    "print(cur.fetchone())"
   ]
  },
  {
   "cell_type": "code",
   "execution_count": 31,
   "metadata": {},
   "outputs": [
    {
     "name": "stdout",
     "output_type": "stream",
     "text": [
      "(250, 951, 6, 4.731923192842039, -2.5490172918204426, -1.5327991688334106, 0.012013456365173793, -0.2290221464307918, 2.971157894225972, -0.8247743858808971, 0.0863079607516419, 0.8743841201007391, -0.09623257449634257, 83, 10, 1.911411004831354, 15.162629757785467, 51, -49.84033902379149, 383.3966192860584, 29.454871728067328, 2.379000151563168, 11)\n"
     ]
    }
   ],
   "source": [
    "print(cur.fetchone())"
   ]
  },
  {
   "cell_type": "code",
   "execution_count": 32,
   "metadata": {
    "collapsed": true
   },
   "outputs": [],
   "source": [
    "section, x, y, dm1, dm2, \\\n",
    "dm3, dm4, dm5, dm6, dm7, \\\n",
    "dm8, dm9, dm10, area, height, \\\n",
    "horiz_std, mean, padded_size, rotation, rotation_confidence, \\\n",
    "std, vert_std, width = cur.fetchone()"
   ]
  },
  {
   "cell_type": "code",
   "execution_count": null,
   "metadata": {
    "collapsed": true
   },
   "outputs": [],
   "source": []
  },
  {
   "cell_type": "code",
   "execution_count": null,
   "metadata": {
    "collapsed": true
   },
   "outputs": [],
   "source": [
    "https://mousebrainatlas-data.s3-us-west-1.amazonaws.com/CSHL_databases/MD589/250.db"
   ]
  }
 ],
 "metadata": {
  "kernelspec": {
   "display_name": "Python 2",
   "language": "python",
   "name": "python2"
  },
  "language_info": {
   "codemirror_mode": {
    "name": "ipython",
    "version": 2
   },
   "file_extension": ".py",
   "mimetype": "text/x-python",
   "name": "python",
   "nbconvert_exporter": "python",
   "pygments_lexer": "ipython2",
   "version": "2.7.12"
  }
 },
 "nbformat": 4,
 "nbformat_minor": 2
}
