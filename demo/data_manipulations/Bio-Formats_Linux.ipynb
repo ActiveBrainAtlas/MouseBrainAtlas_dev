{
 "cells": [
  {
   "cell_type": "code",
   "execution_count": null,
   "metadata": {
    "collapsed": true
   },
   "outputs": [],
   "source": [
    "# https://docs.openmicroscopy.org/bio-formats/5.5.3/users/comlinetools/conversion.html"
   ]
  },
  {
   "cell_type": "code",
   "execution_count": 2,
   "metadata": {},
   "outputs": [
    {
     "name": "stdout",
     "output_type": "stream",
     "text": [
      "/bin/sh: 1: bfconvert: not found\r\n"
     ]
    }
   ],
   "source": [
    "! bfconvert -overwrite -nolookup -bigtiff -separate \\\n",
    "/media/alexn/Data_2/czi_convert_test/czi_file/DK17_18_slide004_2019_03_10.czi \\\n",
    "/media/alexn/Data_2/czi_convert_test/tiffs/%n_S%s_C%c_W%w_Z%z_T%t.tif"
   ]
  },
  {
   "cell_type": "markdown",
   "metadata": {},
   "source": [
    "# Thumbnail + NULL Converter"
   ]
  },
  {
   "cell_type": "code",
   "execution_count": 1,
   "metadata": {
    "collapsed": true
   },
   "outputs": [],
   "source": [
    "\n",
    "folder = '/media/alexn/Data_2/czi_convert_test/tiffs/\\\n",
    "bfconvert-overwrite-nolookup-bigtiff-compressionLZW-separate/'\n",
    "\n",
    "imgs = ! ls $folder | grep '.tif'\n"
   ]
  },
  {
   "cell_type": "code",
   "execution_count": 3,
   "metadata": {},
   "outputs": [
    {
     "name": "stdout",
     "output_type": "stream",
     "text": [
      "(816, 584)\n"
     ]
    },
    {
     "name": "stderr",
     "output_type": "stream",
     "text": [
      "/usr/local/lib/python2.7/dist-packages/tifffile/tifffile.py:2894: UserWarning: invalid page offset (648123435)\n",
      "  warnings.warn('invalid page offset (%i)' % offset)\n"
     ]
    },
    {
     "name": "stdout",
     "output_type": "stream",
     "text": [
      "(816, 584)\n"
     ]
    },
    {
     "name": "stderr",
     "output_type": "stream",
     "text": [
      "/usr/local/lib/python2.7/dist-packages/tifffile/tifffile.py:2894: UserWarning: invalid page offset (252324711)\n",
      "  warnings.warn('invalid page offset (%i)' % offset)\n",
      "/usr/local/lib/python2.7/dist-packages/tifffile/tifffile.py:1843: UserWarning: failed to reshape (13046, 9341) to (1, 1, 2, 13046, 9341)\n",
      "  result.shape, series.shape))\n"
     ]
    },
    {
     "name": "stdout",
     "output_type": "stream",
     "text": [
      "(408, 292)\n"
     ]
    },
    {
     "name": "stderr",
     "output_type": "stream",
     "text": [
      "/usr/local/lib/python2.7/dist-packages/tifffile/tifffile.py:2894: UserWarning: invalid page offset (244773942)\n",
      "  warnings.warn('invalid page offset (%i)' % offset)\n"
     ]
    },
    {
     "name": "stdout",
     "output_type": "stream",
     "text": [
      "(408, 292)\n"
     ]
    },
    {
     "name": "stderr",
     "output_type": "stream",
     "text": [
      "/usr/local/lib/python2.7/dist-packages/tifffile/tifffile.py:2894: UserWarning: invalid page offset (67231567)\n",
      "  warnings.warn('invalid page offset (%i)' % offset)\n",
      "/usr/local/lib/python2.7/dist-packages/tifffile/tifffile.py:1843: UserWarning: failed to reshape (6523, 4670) to (1, 1, 2, 6523, 4670)\n",
      "  result.shape, series.shape))\n"
     ]
    },
    {
     "name": "stdout",
     "output_type": "stream",
     "text": [
      "(204, 146)\n"
     ]
    },
    {
     "name": "stderr",
     "output_type": "stream",
     "text": [
      "/usr/local/lib/python2.7/dist-packages/tifffile/tifffile.py:2894: UserWarning: invalid page offset (65265319)\n",
      "  warnings.warn('invalid page offset (%i)' % offset)\n"
     ]
    },
    {
     "name": "stdout",
     "output_type": "stream",
     "text": [
      "(204, 146)\n"
     ]
    },
    {
     "name": "stderr",
     "output_type": "stream",
     "text": [
      "/usr/local/lib/python2.7/dist-packages/tifffile/tifffile.py:2894: UserWarning: invalid page offset (12004011)\n",
      "  warnings.warn('invalid page offset (%i)' % offset)\n",
      "/usr/local/lib/python2.7/dist-packages/tifffile/tifffile.py:1843: UserWarning: failed to reshape (3261, 2335) to (1, 1, 2, 3261, 2335)\n",
      "  result.shape, series.shape))\n",
      "/usr/local/lib/python2.7/dist-packages/tifffile/tifffile.py:2894: UserWarning: invalid page offset (11436283)\n",
      "  warnings.warn('invalid page offset (%i)' % offset)\n"
     ]
    },
    {
     "name": "stdout",
     "output_type": "stream",
     "text": [
      "(102, 73)\n",
      "(102, 73)\n"
     ]
    },
    {
     "name": "stderr",
     "output_type": "stream",
     "text": [
      "/usr/local/lib/python2.7/dist-packages/tifffile/tifffile.py:2894: UserWarning: invalid page offset (3677200)\n",
      "  warnings.warn('invalid page offset (%i)' % offset)\n",
      "/usr/local/lib/python2.7/dist-packages/tifffile/tifffile.py:1843: UserWarning: failed to reshape (1630, 1167) to (1, 1, 2, 1630, 1167)\n",
      "  result.shape, series.shape))\n",
      "/usr/local/lib/python2.7/dist-packages/tifffile/tifffile.py:2894: UserWarning: invalid page offset (3444768)\n",
      "  warnings.warn('invalid page offset (%i)' % offset)\n"
     ]
    },
    {
     "name": "stdout",
     "output_type": "stream",
     "text": [
      "(51, 37)\n",
      "(51, 37)\n"
     ]
    },
    {
     "name": "stderr",
     "output_type": "stream",
     "text": [
      "/usr/local/lib/python2.7/dist-packages/tifffile/tifffile.py:2894: UserWarning: invalid page offset (1501090)\n",
      "  warnings.warn('invalid page offset (%i)' % offset)\n",
      "/usr/local/lib/python2.7/dist-packages/tifffile/tifffile.py:1843: UserWarning: failed to reshape (815, 583) to (1, 1, 2, 815, 583)\n",
      "  result.shape, series.shape))\n",
      "/usr/local/lib/python2.7/dist-packages/tifffile/tifffile.py:2894: UserWarning: invalid page offset (1408385)\n",
      "  warnings.warn('invalid page offset (%i)' % offset)\n"
     ]
    },
    {
     "name": "stdout",
     "output_type": "stream",
     "text": [
      "(26, 19)\n",
      "(26, 19)\n"
     ]
    },
    {
     "name": "stderr",
     "output_type": "stream",
     "text": [
      "/usr/local/lib/python2.7/dist-packages/tifffile/tifffile.py:2894: UserWarning: invalid page offset (385785277)\n",
      "  warnings.warn('invalid page offset (%i)' % offset)\n",
      "/usr/local/lib/python2.7/dist-packages/tifffile/tifffile.py:1843: UserWarning: failed to reshape (16826, 11293) to (1, 1, 2, 16826, 11293)\n",
      "  result.shape, series.shape))\n"
     ]
    },
    {
     "name": "stdout",
     "output_type": "stream",
     "text": [
      "(526, 353)\n"
     ]
    },
    {
     "name": "stderr",
     "output_type": "stream",
     "text": [
      "/usr/local/lib/python2.7/dist-packages/tifffile/tifffile.py:2894: UserWarning: invalid page offset (412460381)\n",
      "  warnings.warn('invalid page offset (%i)' % offset)\n"
     ]
    },
    {
     "name": "stdout",
     "output_type": "stream",
     "text": [
      "(526, 353)\n"
     ]
    },
    {
     "name": "stderr",
     "output_type": "stream",
     "text": [
      "/usr/local/lib/python2.7/dist-packages/tifffile/tifffile.py:2894: UserWarning: invalid page offset (86015048)\n",
      "  warnings.warn('invalid page offset (%i)' % offset)\n",
      "/usr/local/lib/python2.7/dist-packages/tifffile/tifffile.py:1843: UserWarning: failed to reshape (8413, 5646) to (1, 1, 2, 8413, 5646)\n",
      "  result.shape, series.shape))\n"
     ]
    },
    {
     "name": "stdout",
     "output_type": "stream",
     "text": [
      "(263, 177)\n"
     ]
    },
    {
     "name": "stderr",
     "output_type": "stream",
     "text": [
      "/usr/local/lib/python2.7/dist-packages/tifffile/tifffile.py:2894: UserWarning: invalid page offset (90952080)\n",
      "  warnings.warn('invalid page offset (%i)' % offset)\n"
     ]
    },
    {
     "name": "stdout",
     "output_type": "stream",
     "text": [
      "(263, 177)\n"
     ]
    },
    {
     "name": "stderr",
     "output_type": "stream",
     "text": [
      "/usr/local/lib/python2.7/dist-packages/tifffile/tifffile.py:2894: UserWarning: invalid page offset (14089059)\n",
      "  warnings.warn('invalid page offset (%i)' % offset)\n",
      "/usr/local/lib/python2.7/dist-packages/tifffile/tifffile.py:1843: UserWarning: failed to reshape (4206, 2823) to (1, 1, 2, 4206, 2823)\n",
      "  result.shape, series.shape))\n",
      "/usr/local/lib/python2.7/dist-packages/tifffile/tifffile.py:2894: UserWarning: invalid page offset (15337977)\n",
      "  warnings.warn('invalid page offset (%i)' % offset)\n"
     ]
    },
    {
     "name": "stdout",
     "output_type": "stream",
     "text": [
      "(132, 89)\n",
      "(132, 89)\n"
     ]
    },
    {
     "name": "stderr",
     "output_type": "stream",
     "text": [
      "/usr/local/lib/python2.7/dist-packages/tifffile/tifffile.py:2894: UserWarning: invalid page offset (4293070)\n",
      "  warnings.warn('invalid page offset (%i)' % offset)\n",
      "/usr/local/lib/python2.7/dist-packages/tifffile/tifffile.py:1843: UserWarning: failed to reshape (2103, 1411) to (1, 1, 2, 2103, 1411)\n",
      "  result.shape, series.shape))\n",
      "/usr/local/lib/python2.7/dist-packages/tifffile/tifffile.py:2894: UserWarning: invalid page offset (4561702)\n",
      "  warnings.warn('invalid page offset (%i)' % offset)\n"
     ]
    },
    {
     "name": "stdout",
     "output_type": "stream",
     "text": [
      "(66, 45)\n",
      "(66, 45)\n"
     ]
    },
    {
     "name": "stderr",
     "output_type": "stream",
     "text": [
      "/usr/local/lib/python2.7/dist-packages/tifffile/tifffile.py:2894: UserWarning: invalid page offset (1680596)\n",
      "  warnings.warn('invalid page offset (%i)' % offset)\n",
      "/usr/local/lib/python2.7/dist-packages/tifffile/tifffile.py:1843: UserWarning: failed to reshape (1051, 705) to (1, 1, 2, 1051, 705)\n",
      "  result.shape, series.shape))\n",
      "/usr/local/lib/python2.7/dist-packages/tifffile/tifffile.py:2894: UserWarning: invalid page offset (1718478)\n",
      "  warnings.warn('invalid page offset (%i)' % offset)\n"
     ]
    },
    {
     "name": "stdout",
     "output_type": "stream",
     "text": [
      "(33, 23)\n",
      "(33, 23)\n"
     ]
    },
    {
     "name": "stderr",
     "output_type": "stream",
     "text": [
      "/usr/local/lib/python2.7/dist-packages/tifffile/tifffile.py:2894: UserWarning: invalid page offset (982326)\n",
      "  warnings.warn('invalid page offset (%i)' % offset)\n",
      "/usr/local/lib/python2.7/dist-packages/tifffile/tifffile.py:1843: UserWarning: failed to reshape (525, 352) to (1, 1, 2, 525, 352)\n",
      "  result.shape, series.shape))\n",
      "/usr/local/lib/python2.7/dist-packages/tifffile/tifffile.py:2894: UserWarning: invalid page offset (980278)\n",
      "  warnings.warn('invalid page offset (%i)' % offset)\n"
     ]
    },
    {
     "name": "stdout",
     "output_type": "stream",
     "text": [
      "(17, 11)\n",
      "(17, 11)\n"
     ]
    },
    {
     "name": "stderr",
     "output_type": "stream",
     "text": [
      "/usr/local/lib/python2.7/dist-packages/tifffile/tifffile.py:2894: UserWarning: invalid page offset (1192604831)\n",
      "  warnings.warn('invalid page offset (%i)' % offset)\n",
      "/usr/local/lib/python2.7/dist-packages/tifffile/tifffile.py:1843: UserWarning: failed to reshape (26086, 20529) to (1, 1, 2, 26086, 20529)\n",
      "  result.shape, series.shape))\n"
     ]
    },
    {
     "name": "stdout",
     "output_type": "stream",
     "text": [
      "(816, 642)\n"
     ]
    },
    {
     "name": "stderr",
     "output_type": "stream",
     "text": [
      "/usr/local/lib/python2.7/dist-packages/tifffile/tifffile.py:2894: UserWarning: invalid page offset (1174544765)\n",
      "  warnings.warn('invalid page offset (%i)' % offset)\n"
     ]
    },
    {
     "name": "stdout",
     "output_type": "stream",
     "text": [
      "(816, 642)\n"
     ]
    },
    {
     "name": "stderr",
     "output_type": "stream",
     "text": [
      "/usr/local/lib/python2.7/dist-packages/tifffile/tifffile.py:2894: UserWarning: invalid page offset (279643405)\n",
      "  warnings.warn('invalid page offset (%i)' % offset)\n",
      "/usr/local/lib/python2.7/dist-packages/tifffile/tifffile.py:1843: UserWarning: failed to reshape (13043, 10264) to (1, 1, 2, 13043, 10264)\n",
      "  result.shape, series.shape))\n"
     ]
    },
    {
     "name": "stdout",
     "output_type": "stream",
     "text": [
      "(408, 321)\n"
     ]
    },
    {
     "name": "stderr",
     "output_type": "stream",
     "text": [
      "/usr/local/lib/python2.7/dist-packages/tifffile/tifffile.py:2894: UserWarning: invalid page offset (272685843)\n",
      "  warnings.warn('invalid page offset (%i)' % offset)\n"
     ]
    },
    {
     "name": "stdout",
     "output_type": "stream",
     "text": [
      "(408, 321)\n"
     ]
    },
    {
     "name": "stderr",
     "output_type": "stream",
     "text": [
      "/usr/local/lib/python2.7/dist-packages/tifffile/tifffile.py:2894: UserWarning: invalid page offset (76953899)\n",
      "  warnings.warn('invalid page offset (%i)' % offset)\n",
      "/usr/local/lib/python2.7/dist-packages/tifffile/tifffile.py:1843: UserWarning: failed to reshape (6521, 5132) to (1, 1, 2, 6521, 5132)\n",
      "  result.shape, series.shape))\n"
     ]
    },
    {
     "name": "stdout",
     "output_type": "stream",
     "text": [
      "(204, 161)\n"
     ]
    },
    {
     "name": "stderr",
     "output_type": "stream",
     "text": [
      "/usr/local/lib/python2.7/dist-packages/tifffile/tifffile.py:2894: UserWarning: invalid page offset (75109686)\n",
      "  warnings.warn('invalid page offset (%i)' % offset)\n"
     ]
    },
    {
     "name": "stdout",
     "output_type": "stream",
     "text": [
      "(204, 161)\n"
     ]
    },
    {
     "name": "stderr",
     "output_type": "stream",
     "text": [
      "/usr/local/lib/python2.7/dist-packages/tifffile/tifffile.py:2894: UserWarning: invalid page offset (13438592)\n",
      "  warnings.warn('invalid page offset (%i)' % offset)\n",
      "/usr/local/lib/python2.7/dist-packages/tifffile/tifffile.py:1843: UserWarning: failed to reshape (3260, 2566) to (1, 1, 2, 3260, 2566)\n",
      "  result.shape, series.shape))\n",
      "/usr/local/lib/python2.7/dist-packages/tifffile/tifffile.py:2894: UserWarning: invalid page offset (13004156)\n",
      "  warnings.warn('invalid page offset (%i)' % offset)\n"
     ]
    },
    {
     "name": "stdout",
     "output_type": "stream",
     "text": [
      "(102, 81)\n",
      "(102, 81)\n"
     ]
    },
    {
     "name": "stderr",
     "output_type": "stream",
     "text": [
      "/usr/local/lib/python2.7/dist-packages/tifffile/tifffile.py:2894: UserWarning: invalid page offset (4029868)\n",
      "  warnings.warn('invalid page offset (%i)' % offset)\n",
      "/usr/local/lib/python2.7/dist-packages/tifffile/tifffile.py:1843: UserWarning: failed to reshape (1630, 1283) to (1, 1, 2, 1630, 1283)\n",
      "  result.shape, series.shape))\n",
      "/usr/local/lib/python2.7/dist-packages/tifffile/tifffile.py:2894: UserWarning: invalid page offset (3861754)\n",
      "  warnings.warn('invalid page offset (%i)' % offset)\n"
     ]
    },
    {
     "name": "stdout",
     "output_type": "stream",
     "text": [
      "(51, 41)\n",
      "(51, 41)\n"
     ]
    },
    {
     "name": "stderr",
     "output_type": "stream",
     "text": [
      "/usr/local/lib/python2.7/dist-packages/tifffile/tifffile.py:2894: UserWarning: invalid page offset (1589618)\n",
      "  warnings.warn('invalid page offset (%i)' % offset)\n",
      "/usr/local/lib/python2.7/dist-packages/tifffile/tifffile.py:1843: UserWarning: failed to reshape (815, 641) to (1, 1, 2, 815, 641)\n",
      "  result.shape, series.shape))\n",
      "/usr/local/lib/python2.7/dist-packages/tifffile/tifffile.py:2894: UserWarning: invalid page offset (1525667)\n",
      "  warnings.warn('invalid page offset (%i)' % offset)\n"
     ]
    },
    {
     "name": "stdout",
     "output_type": "stream",
     "text": [
      "(26, 21)\n",
      "(26, 21)\n"
     ]
    },
    {
     "name": "stderr",
     "output_type": "stream",
     "text": [
      "/usr/local/lib/python2.7/dist-packages/tifffile/tifffile.py:2894: UserWarning: invalid page offset (395466716)\n",
      "  warnings.warn('invalid page offset (%i)' % offset)\n",
      "/usr/local/lib/python2.7/dist-packages/tifffile/tifffile.py:1843: UserWarning: failed to reshape (14987, 11307) to (1, 1, 2, 14987, 11307)\n",
      "  result.shape, series.shape))\n"
     ]
    },
    {
     "name": "stdout",
     "output_type": "stream",
     "text": [
      "(469, 354)\n"
     ]
    },
    {
     "name": "stderr",
     "output_type": "stream",
     "text": [
      "/usr/local/lib/python2.7/dist-packages/tifffile/tifffile.py:2894: UserWarning: invalid page offset (399648705)\n",
      "  warnings.warn('invalid page offset (%i)' % offset)\n"
     ]
    },
    {
     "name": "stdout",
     "output_type": "stream",
     "text": [
      "(469, 354)\n"
     ]
    },
    {
     "name": "stderr",
     "output_type": "stream",
     "text": [
      "/usr/local/lib/python2.7/dist-packages/tifffile/tifffile.py:2894: UserWarning: invalid page offset (90260463)\n",
      "  warnings.warn('invalid page offset (%i)' % offset)\n",
      "/usr/local/lib/python2.7/dist-packages/tifffile/tifffile.py:1843: UserWarning: failed to reshape (7493, 5653) to (1, 1, 2, 7493, 5653)\n",
      "  result.shape, series.shape))\n"
     ]
    },
    {
     "name": "stdout",
     "output_type": "stream",
     "text": [
      "(235, 177)\n"
     ]
    },
    {
     "name": "stderr",
     "output_type": "stream",
     "text": [
      "/usr/local/lib/python2.7/dist-packages/tifffile/tifffile.py:2894: UserWarning: invalid page offset (93274578)\n",
      "  warnings.warn('invalid page offset (%i)' % offset)\n"
     ]
    },
    {
     "name": "stdout",
     "output_type": "stream",
     "text": [
      "(235, 177)\n"
     ]
    },
    {
     "name": "stderr",
     "output_type": "stream",
     "text": [
      "/usr/local/lib/python2.7/dist-packages/tifffile/tifffile.py:2894: UserWarning: invalid page offset (16241641)\n",
      "  warnings.warn('invalid page offset (%i)' % offset)\n",
      "/usr/local/lib/python2.7/dist-packages/tifffile/tifffile.py:1843: UserWarning: failed to reshape (3746, 2826) to (1, 1, 2, 3746, 2826)\n",
      "  result.shape, series.shape))\n",
      "/usr/local/lib/python2.7/dist-packages/tifffile/tifffile.py:2894: UserWarning: invalid page offset (16816525)\n",
      "  warnings.warn('invalid page offset (%i)' % offset)\n"
     ]
    },
    {
     "name": "stdout",
     "output_type": "stream",
     "text": [
      "(118, 89)\n",
      "(118, 89)\n"
     ]
    },
    {
     "name": "stderr",
     "output_type": "stream",
     "text": [
      "/usr/local/lib/python2.7/dist-packages/tifffile/tifffile.py:2894: UserWarning: invalid page offset (4827789)\n",
      "  warnings.warn('invalid page offset (%i)' % offset)\n",
      "/usr/local/lib/python2.7/dist-packages/tifffile/tifffile.py:1843: UserWarning: failed to reshape (1873, 1413) to (1, 1, 2, 1873, 1413)\n",
      "  result.shape, series.shape))\n",
      "/usr/local/lib/python2.7/dist-packages/tifffile/tifffile.py:2894: UserWarning: invalid page offset (4904338)\n",
      "  warnings.warn('invalid page offset (%i)' % offset)\n"
     ]
    },
    {
     "name": "stdout",
     "output_type": "stream",
     "text": [
      "(59, 45)\n",
      "(59, 45)\n"
     ]
    },
    {
     "name": "stderr",
     "output_type": "stream",
     "text": [
      "/usr/local/lib/python2.7/dist-packages/tifffile/tifffile.py:2894: UserWarning: invalid page offset (1814544)\n",
      "  warnings.warn('invalid page offset (%i)' % offset)\n",
      "/usr/local/lib/python2.7/dist-packages/tifffile/tifffile.py:1843: UserWarning: failed to reshape (936, 706) to (1, 1, 2, 936, 706)\n",
      "  result.shape, series.shape))\n",
      "/usr/local/lib/python2.7/dist-packages/tifffile/tifffile.py:2894: UserWarning: invalid page offset (1810316)\n",
      "  warnings.warn('invalid page offset (%i)' % offset)\n"
     ]
    },
    {
     "name": "stdout",
     "output_type": "stream",
     "text": [
      "(30, 23)\n",
      "(30, 23)\n"
     ]
    },
    {
     "name": "stderr",
     "output_type": "stream",
     "text": [
      "/usr/local/lib/python2.7/dist-packages/tifffile/tifffile.py:2894: UserWarning: invalid page offset (1270452)\n",
      "  warnings.warn('invalid page offset (%i)' % offset)\n",
      "/usr/local/lib/python2.7/dist-packages/tifffile/tifffile.py:1843: UserWarning: failed to reshape (569, 747) to (1, 1, 3, 569, 747)\n",
      "  result.shape, series.shape))\n",
      "/usr/local/lib/python2.7/dist-packages/tifffile/tifffile.py:2894: UserWarning: invalid page offset (1517652)\n",
      "  warnings.warn('invalid page offset (%i)' % offset)\n"
     ]
    },
    {
     "name": "stdout",
     "output_type": "stream",
     "text": [
      "(18, 24)\n",
      "(18, 24)\n"
     ]
    },
    {
     "name": "stderr",
     "output_type": "stream",
     "text": [
      "/usr/local/lib/python2.7/dist-packages/tifffile/tifffile.py:2894: UserWarning: invalid page offset (1335816)\n",
      "  warnings.warn('invalid page offset (%i)' % offset)\n"
     ]
    },
    {
     "name": "stdout",
     "output_type": "stream",
     "text": [
      "(18, 24)\n",
      "(1, 1, 3694, 8000)\n"
     ]
    },
    {
     "data": {
      "image/png": "[encoded data removed]",
      "text/plain": [
       "<matplotlib.figure.Figure at 0x7f7e52cb12d0>"
      ]
     },
     "metadata": {},
     "output_type": "display_data"
    }
   ],
   "source": [
    "import numpy as np\n",
    "%matplotlib inline\n",
    "import matplotlib.pyplot as plt\n",
    "import tifffile as tiff\n",
    "import cv2\n",
    "\n",
    "for fn in imgs:\n",
    "    full_fn = folder + fn\n",
    "    new_fn = folder + 'thumbnails/' + fn\n",
    "    \n",
    "    try:\n",
    "        img = tiff.imread( full_fn )[0,:,:]\n",
    "    except IndexError:\n",
    "        img = tiff.imread( full_fn )\n",
    "    \n",
    "    if img.dtype == 'uint16':\n",
    "        img = (img/256).astype('uint8')\n",
    "    elif img.dtype == 'uint8':\n",
    "        pass\n",
    "    \n",
    "    img_max = img.max()\n",
    "    img_thumb = img[::32,::32]\n",
    "    del img\n",
    "    \n",
    "    print np.shape(img_thumb)\n",
    "    \n",
    "    if img_max<=2:\n",
    "        new_fn = new_fn+'__NULL__.tif'\n",
    "        cv2.imwrite( new_fn, img_thumb)\n",
    "    elif np.shape(img_thumb)[0] < 250:\n",
    "        new_fn = new_fn+'__TINY__.tif'\n",
    "        cv2.imwrite( new_fn, img_thumb)\n",
    "    else:\n",
    "        gamma = 0.3\n",
    "        img_thumb_norm = 255*((img_thumb/255.0)**gamma)\n",
    "        cv2.imwrite( new_fn, img_thumb_norm)\n",
    "        plt.imshow(img_thumb_norm, cmap='gray')"
   ]
  },
  {
   "cell_type": "code",
   "execution_count": null,
   "metadata": {
    "collapsed": true
   },
   "outputs": [],
   "source": []
  },
  {
   "cell_type": "markdown",
   "metadata": {},
   "source": [
    "# Loading & Parsing CZi Metadata"
   ]
  },
  {
   "cell_type": "code",
   "execution_count": 55,
   "metadata": {
    "collapsed": true
   },
   "outputs": [],
   "source": [
    "%matplotlib inline\n",
    "import matplotlib.pyplot as plt\n",
    "import time\n",
    "import numpy as np\n",
    "import subprocess\n",
    "import os, sys\n",
    "\n",
    "folder = '/media/alexn/Data_2/czi_convert_test/czi_file/'\n",
    "\n",
    "czis = ! ls $folder | grep '.czi'"
   ]
  },
  {
   "cell_type": "code",
   "execution_count": 56,
   "metadata": {
    "collapsed": true
   },
   "outputs": [],
   "source": [
    "def get_czi_metadata( czi_fp, get_full_metadata=False ):\n",
    "    command = ['showinf', '-nopix', czi_fp ]\n",
    "    # \"showinf -nopix\" will return the metadata of a CZI file\n",
    "    czi_metadata_full = subprocess.check_output( command )\n",
    "    \n",
    "    if get_full_metadata:\n",
    "        return czi_metadata_full\n",
    "    \n",
    "    # I seperate the metadata into 3 seperate sections\n",
    "    czi_metadata_header = czi_metadata_full[\n",
    "        0:czi_metadata_full.index('\\nSeries #0')]\n",
    "    czi_metadata_series = czi_metadata_full[\n",
    "        0:czi_metadata_full.index('\\nReading global metadata')]\n",
    "    czi_metadata_global = czi_metadata_full[\n",
    "        czi_metadata_full.index('\\nReading global metadata'):]\n",
    "\n",
    "    # This extracts the 'series' count.\n",
    "    # Each series is a tissue sample at a certain resolution\n",
    "    #  or an erroneous thingy\n",
    "    series_count = int( czi_metadata_header[\n",
    "        czi_metadata_header.index('Series count = ')+15:] )\n",
    "\n",
    "    # Series #0 should be the first tissue sample at full resolution.\n",
    "    # Series #1 tends to be this same tissue sample at half the resolution.\n",
    "    # This continues halving resolution 5-6 times in succession. We only\n",
    "    # want the full resolution tissue series so we ignore those with dimensions\n",
    "    # that are much smaller than expected.\n",
    "    expected_min_width = 9000\n",
    "    expected_min_height = 9000\n",
    "\n",
    "    metadata_dict = {}\n",
    "\n",
    "    for series_i in range(series_count):\n",
    "        search_str = 'Series #'\n",
    "\n",
    "        # If the last series, extract to end of file\n",
    "        if series_i == series_count-1:\n",
    "            czi_metadata_series_i = czi_metadata_series[\n",
    "                czi_metadata_series.index('Series #'+str(series_i)) : ]\n",
    "        # Otherwise extract metadata from Series(#) to Series(#+1)\n",
    "        else:\n",
    "            czi_metadata_series_i = czi_metadata_series[\n",
    "                czi_metadata_series.index('Series #'+str(series_i)) : \n",
    "                czi_metadata_series.index('Series #'+str(series_i+1))]\n",
    "\n",
    "        # Extract width and height\n",
    "        width_height_data = czi_metadata_series_i[ czi_metadata_series_i.index('Width'):\n",
    "                                                   czi_metadata_series_i.index('\\n\\tSizeZ')]\n",
    "        width, height = width_height_data.replace('Width = ','').replace('Height = ','').split('\\n\\t')\n",
    "\n",
    "        metadata_dict[series_i] = {}\n",
    "        metadata_dict[series_i]['width'] = width\n",
    "        metadata_dict[series_i]['height'] = height\n",
    "        \n",
    "    return metadata_dict"
   ]
  },
  {
   "cell_type": "code",
   "execution_count": 67,
   "metadata": {},
   "outputs": [],
   "source": [
    "def get_fullres_series_indices( metadata_dict ):\n",
    "    fullres_series_indices = []\n",
    "    \n",
    "    last_series_i = max(metadata_dict.keys())\n",
    "    \n",
    "    series_0_width = int( metadata_dict[0]['width'] )\n",
    "    series_0_height = int( metadata_dict[0]['height'] )\n",
    "    \n",
    "    for series_curr in metadata_dict.keys():\n",
    "        # Series 0 is currently assumed to be real, fullres tissue\n",
    "        if series_curr != 0:\n",
    "            series_curr_width = int( metadata_dict[series_curr]['width'] )\n",
    "            series_prev_width = int( metadata_dict[series_curr-1]['width'] )\n",
    "            \n",
    "            series_prev_width_halved = series_prev_width/2\n",
    "            \n",
    "            # If the curr series is about half the size of the previous series\n",
    "            # this indicates that it is not a new tissue sample, just a \n",
    "            # downsampled version of the previous series.\n",
    "            if abs( series_curr_width-series_prev_width_halved ) < 5:\n",
    "                continue\n",
    "            # If this series is suspisciously small, it is not likely to be fullres\n",
    "            # Currently this assumed that series#0 is fullres \n",
    "            if series_curr_width < series_0_width*0.5:\n",
    "                continue\n",
    "                \n",
    "        # We ignore the last two series.\n",
    "        # 2nd last should be \"label image\"\n",
    "        # last should be \"macro image\"\n",
    "        if series_curr >= last_series_i-2:\n",
    "            continue\n",
    "                \n",
    "        fullres_series_indices.append( series_curr )\n",
    "        \n",
    "    return fullres_series_indices\n",
    "\n",
    "\n",
    "def extract_tiff_from_czi( fn_czi, tiff_target_folder, series_i ):\n",
    "    # The name of the tiff file\n",
    "    # %t is time, %z is z height, %s is series #, %c is channel #\n",
    "    target_tiff_fn = os.path.join( tiff_target_folder, '%n_C%c_W%w.tif' )\n",
    "    \n",
    "    command = ['bfconvert', '-bigtiff', '-compression', 'LZW', '-separate', \n",
    "               '-series', str(series_i), fn_czi, target_tiff_fn]\n",
    "    \n",
    "    subprocess.call( command )"
   ]
  },
  {
   "cell_type": "code",
   "execution_count": 59,
   "metadata": {},
   "outputs": [],
   "source": [
    "tiff_target_folder = '/media/alexn/Data_2/czi_convert_test/tiffs/'\n",
    "\n",
    "for czi_fn in czis:\n",
    "    full_czi_fn = folder + czi_fn\n",
    "    \n",
    "    # Retrieve metadata of the czi as a dictionary of relevant values\n",
    "    metadata_dict = get_czi_metadata( full_czi_fn )\n",
    "    \n",
    "    # Retrieves indices of proper fullres tissue images\n",
    "    fullres_series_indices = get_fullres_series_indices(metadata_dict)\n",
    "    \n",
    "    # Each channel of each series takes 2min 7min \n",
    "    for series_index in fullres_series_indices:\n",
    "        extract_tiff_from_czi( full_czi_fn, tiff_target_folder, series_index )"
   ]
  },
  {
   "cell_type": "code",
   "execution_count": 68,
   "metadata": {},
   "outputs": [],
   "source": [
    "for series_index in fullres_series_indices:\n",
    "    extract_tiff_from_czi( full_czi_fn, tiff_target_folder, series_index )"
   ]
  },
  {
   "cell_type": "code",
   "execution_count": 78,
   "metadata": {},
   "outputs": [
    {
     "name": "stdout",
     "output_type": "stream",
     "text": [
      "0\n",
      "a\n",
      "1\n",
      "b\n"
     ]
    }
   ],
   "source": [
    "for cb, i in enumerate(['a','b']):\n",
    "                print cb\n",
    "                print i"
   ]
  },
  {
   "cell_type": "code",
   "execution_count": 72,
   "metadata": {},
   "outputs": [
    {
     "name": "stdout",
     "output_type": "stream",
     "text": [
      "0\n",
      "a\n",
      "1\n",
      "b\n",
      "2\n",
      "c\n"
     ]
    }
   ],
   "source": [
    "for x, i in enumerate(['a','b','c']):\n",
    "    print(x)\n",
    "    print(i)"
   ]
  },
  {
   "cell_type": "code",
   "execution_count": 73,
   "metadata": {},
   "outputs": [
    {
     "data": {
      "text/plain": [
       "False"
      ]
     },
     "execution_count": 73,
     "metadata": {},
     "output_type": "execute_result"
    }
   ],
   "source": [
    "[1,2,3] == \"all\""
   ]
  },
  {
   "cell_type": "code",
   "execution_count": 77,
   "metadata": {},
   "outputs": [
    {
     "data": {
      "text/plain": [
       "True"
      ]
     },
     "execution_count": 77,
     "metadata": {},
     "output_type": "execute_result"
    }
   ],
   "source": [
    "isinstance([], list)"
   ]
  },
  {
   "cell_type": "code",
   "execution_count": 83,
   "metadata": {},
   "outputs": [
    {
     "ename": "CalledProcessError",
     "evalue": "Command '['ls', '/media/alexn/Data_2/czi_convert_test/czi_file', '|', 'grep', '.czi']' returned non-zero exit status 2",
     "output_type": "error",
     "traceback": [
      "\u001b[0;31m---------------------------------------------------------------------------\u001b[0m",
      "\u001b[0;31mCalledProcessError\u001b[0m                        Traceback (most recent call last)",
      "\u001b[0;32m<ipython-input-83-0d3a68728612>\u001b[0m in \u001b[0;36m<module>\u001b[0;34m()\u001b[0m\n\u001b[1;32m      3\u001b[0m \u001b[0mcommand\u001b[0m \u001b[0;34m=\u001b[0m \u001b[0;34m[\u001b[0m\u001b[0;34m'ls'\u001b[0m\u001b[0;34m,\u001b[0m \u001b[0mfolder\u001b[0m\u001b[0;34m,\u001b[0m \u001b[0;34m'|'\u001b[0m\u001b[0;34m,\u001b[0m \u001b[0;34m'grep'\u001b[0m\u001b[0;34m,\u001b[0m \u001b[0;34m'.czi'\u001b[0m\u001b[0;34m]\u001b[0m\u001b[0;34m\u001b[0m\u001b[0m\n\u001b[1;32m      4\u001b[0m \u001b[0;34m\u001b[0m\u001b[0m\n\u001b[0;32m----> 5\u001b[0;31m \u001b[0mczi_files\u001b[0m \u001b[0;34m=\u001b[0m \u001b[0msubprocess\u001b[0m\u001b[0;34m.\u001b[0m\u001b[0mcheck_output\u001b[0m\u001b[0;34m(\u001b[0m \u001b[0mcommand\u001b[0m \u001b[0;34m)\u001b[0m\u001b[0;34m.\u001b[0m\u001b[0msplit\u001b[0m\u001b[0;34m(\u001b[0m \u001b[0;34m'\\n'\u001b[0m \u001b[0;34m)\u001b[0m\u001b[0;34m\u001b[0m\u001b[0m\n\u001b[0m",
      "\u001b[0;32m/usr/lib/python2.7/subprocess.pyc\u001b[0m in \u001b[0;36mcheck_output\u001b[0;34m(*popenargs, **kwargs)\u001b[0m\n\u001b[1;32m    572\u001b[0m         \u001b[0;32mif\u001b[0m \u001b[0mcmd\u001b[0m \u001b[0;32mis\u001b[0m \u001b[0mNone\u001b[0m\u001b[0;34m:\u001b[0m\u001b[0;34m\u001b[0m\u001b[0m\n\u001b[1;32m    573\u001b[0m             \u001b[0mcmd\u001b[0m \u001b[0;34m=\u001b[0m \u001b[0mpopenargs\u001b[0m\u001b[0;34m[\u001b[0m\u001b[0;36m0\u001b[0m\u001b[0;34m]\u001b[0m\u001b[0;34m\u001b[0m\u001b[0m\n\u001b[0;32m--> 574\u001b[0;31m         \u001b[0;32mraise\u001b[0m \u001b[0mCalledProcessError\u001b[0m\u001b[0;34m(\u001b[0m\u001b[0mretcode\u001b[0m\u001b[0;34m,\u001b[0m \u001b[0mcmd\u001b[0m\u001b[0;34m,\u001b[0m \u001b[0moutput\u001b[0m\u001b[0;34m=\u001b[0m\u001b[0moutput\u001b[0m\u001b[0;34m)\u001b[0m\u001b[0;34m\u001b[0m\u001b[0m\n\u001b[0m\u001b[1;32m    575\u001b[0m     \u001b[0;32mreturn\u001b[0m \u001b[0moutput\u001b[0m\u001b[0;34m\u001b[0m\u001b[0m\n\u001b[1;32m    576\u001b[0m \u001b[0;34m\u001b[0m\u001b[0m\n",
      "\u001b[0;31mCalledProcessError\u001b[0m: Command '['ls', '/media/alexn/Data_2/czi_convert_test/czi_file', '|', 'grep', '.czi']' returned non-zero exit status 2"
     ]
    }
   ],
   "source": [
    "folder = '/media/alexn/Data_2/czi_convert_test/czi_file'\n",
    "\n",
    "command = ['ls', folder, '|', 'grep', '.czi']\n",
    "    \n",
    "czi_files = subprocess.check_output( command ).split( '\\n' )"
   ]
  },
  {
   "cell_type": "code",
   "execution_count": 97,
   "metadata": {
    "collapsed": true
   },
   "outputs": [],
   "source": [
    "def get_list_of_czis_in_folder( folder ):\n",
    "    command = ['ls', folder]\n",
    "\n",
    "    czi_files = subprocess.check_output( command ).split( '\\n' )\n",
    "    czi_files.remove('')\n",
    "\n",
    "    for file_to_check in czi_files:\n",
    "        if '.czi' not in file_to_check:\n",
    "            czi_files.remove(file_to_check)\n",
    "            \n",
    "    return czi_files"
   ]
  },
  {
   "cell_type": "code",
   "execution_count": 94,
   "metadata": {},
   "outputs": [],
   "source": [
    "folder = '/media/alexn/Data_2/czi_convert_test/czi_file'\n",
    "\n",
    "command = ['ls', folder]\n",
    "    \n",
    "czi_files = subprocess.check_output( command ).split( '\\n' )\n",
    "czi_files.remove('')\n",
    "\n",
    "for czifile in czi_files:\n",
    "    if '.czi' not in czifile:\n",
    "        czi_files.remove(czifile)"
   ]
  },
  {
   "cell_type": "code",
   "execution_count": 95,
   "metadata": {},
   "outputs": [
    {
     "data": {
      "text/plain": [
       "['DK17_18_slide003_2019_03_10.czi',\n",
       " 'DK17_18_slide004_2019_03_10.czi',\n",
       " 'DK17_18_slide158_2019_03_24.czi']"
      ]
     },
     "execution_count": 95,
     "metadata": {},
     "output_type": "execute_result"
    }
   ],
   "source": [
    "czi_files"
   ]
  },
  {
   "cell_type": "code",
   "execution_count": 96,
   "metadata": {},
   "outputs": [
    {
     "data": {
      "text/plain": [
       "'notes'"
      ]
     },
     "execution_count": 96,
     "metadata": {},
     "output_type": "execute_result"
    }
   ],
   "source": [
    "czifile"
   ]
  },
  {
   "cell_type": "code",
   "execution_count": 90,
   "metadata": {},
   "outputs": [
    {
     "data": {
      "text/plain": [
       "['DK17_18_slide003_2019_03_10.czi',\n",
       " 'DK17_18_slide004_2019_03_10.czi',\n",
       " 'DK17_18_slide158_2019_03_24.czi']"
      ]
     },
     "execution_count": 90,
     "metadata": {},
     "output_type": "execute_result"
    }
   ],
   "source": [
    "czi_files"
   ]
  },
  {
   "cell_type": "code",
   "execution_count": 87,
   "metadata": {
    "collapsed": true
   },
   "outputs": [],
   "source": [
    "czi_files.remove('')"
   ]
  },
  {
   "cell_type": "code",
   "execution_count": 88,
   "metadata": {},
   "outputs": [
    {
     "data": {
      "text/plain": [
       "['DK17_18_slide003_2019_03_10.czi',\n",
       " 'DK17_18_slide004_2019_03_10.czi',\n",
       " 'DK17_18_slide158_2019_03_24.czi']"
      ]
     },
     "execution_count": 88,
     "metadata": {},
     "output_type": "execute_result"
    }
   ],
   "source": [
    "czi_files"
   ]
  },
  {
   "cell_type": "code",
   "execution_count": null,
   "metadata": {
    "collapsed": true
   },
   "outputs": [],
   "source": []
  }
 ],
 "metadata": {
  "kernelspec": {
   "display_name": "Python 2",
   "language": "python",
   "name": "python2"
  },
  "language_info": {
   "codemirror_mode": {
    "name": "ipython",
    "version": 2
   },
   "file_extension": ".py",
   "mimetype": "text/x-python",
   "name": "python",
   "nbconvert_exporter": "python",
   "pygments_lexer": "ipython2",
   "version": "2.7.12"
  }
 },
 "nbformat": 4,
 "nbformat_minor": 2
}
