{
 "cells": [
  {
   "cell_type": "code",
   "execution_count": 12,
   "metadata": {
    "collapsed": true
   },
   "outputs": [],
   "source": [
    "NEUROGLANCER_ROOT = '/media/alexn/BstemAtlasDataBackup/neuroglancer_volumes/'"
   ]
  },
  {
   "cell_type": "code",
   "execution_count": 13,
   "metadata": {
    "collapsed": true
   },
   "outputs": [],
   "source": [
    "import socket\n",
    "import neuroglancer\n",
    "import subprocess\n",
    "import numpy as np\n",
    "from neuroglancer.server import global_server_args\n",
    "\n",
    "class Neuroglancer_Viewer:\n",
    "    def __init__(self, stack='MD585'):\n",
    "        self.stack = stack\n",
    "        self.local_volume_fp_root = './'\n",
    "        \n",
    "        neuroglancer.set_server_bind_address('0.0.0.0')\n",
    "        global_server_args['bind_port'] = 80\n",
    "        \n",
    "        # Create viewer\n",
    "        self.viewer = neuroglancer.Viewer()\n",
    "        \n",
    "        # Get the IP address\n",
    "        s = socket.socket(socket.AF_INET, socket.SOCK_DGRAM)\n",
    "        s.connect((\"8.8.8.8\", 80))\n",
    "        ip_name = s.getsockname()[0]\n",
    "        s.close()\n",
    "\n",
    "        # Removes the following symbols: ', \", [, ]\n",
    "        self.url = str( 'http://' + ip_name + ':' + self.viewer.get_viewer_url().split(':')[2] )##Remote URL\n",
    "        \n",
    "    def set_local_volume_fp(self, fp):\n",
    "        if fp[len(fp)-1]!='/':\n",
    "            fp = fp+'/'\n",
    "        self.local_volume_fp_root = fp\n",
    "        \n",
    "    def download_volumes(self):\n",
    "        s3_root_fp = 's3://test-bucket-sid/alex_neuroglancer_volumes/'+self.stack+'/human_annotations_5um/'\n",
    "        local_volume_fp = self.local_volume_fp_root+self.stack+'/human_annotations_5um/'\n",
    "        \n",
    "        command_list = ['aws','s3','cp','--recursive', s3_root_fp, local_volume_fp]\n",
    "        subprocess.call( command_list )\n",
    "    \n",
    "    def add_stack(self):\n",
    "        if self.stack == 'MD585':\n",
    "            with self.viewer.txn() as s:\n",
    "                s.layers[ self.stack+'_image'] = neuroglancer.ImageLayer(\\\n",
    "                    source='precomputed://https://mousebrainatlas-datajoint-jp2k.s3.amazonaws.com/precomputed/MD585_fullres')\n",
    "        elif self.stack == 'MD589':\n",
    "            with self.viewer.txn() as s:\n",
    "                s.layers[ self.stack+'_image'] = neuroglancer.ImageLayer(\\\n",
    "                    source='precomputed://https://mousebrainatlas-datajoint-jp2k.s3.amazonaws.com/precomputed/MD589_fullres')\n",
    "        elif self.stack == 'MD594':\n",
    "            with self.viewer.txn() as s:\n",
    "                s.layers[ self.stack+'_image'] = neuroglancer.ImageLayer(\\\n",
    "                    source='precomputed://https://mousebrainatlas-datajoint-jp2k.s3.amazonaws.com/precomputed/MD594_fullres')\n",
    "            \n",
    "    def add_volume(self, colored=True):\n",
    "        volume_fp = self.local_volume_fp_root+self.stack+'/human_annotation/solid_volume_5um/'\n",
    "        if colored:\n",
    "            volume_fn = 'volume_colored.npy'\n",
    "            color_segments=[]\n",
    "            for i in range(1,50):\n",
    "                color_segments.append(i)\n",
    "        else:\n",
    "            volume_fn = 'volume.npy'\n",
    "        \n",
    "        xy_ng_resolution_um = 5\n",
    "        volume_data = np.load( volume_fp+volume_fn )\n",
    "        \n",
    "        with self.viewer.txn() as s:\n",
    "            s.layers[ self.stack+\"_Annotations\" ] = neuroglancer.SegmentationLayer(\n",
    "                source = neuroglancer.LocalVolume(\n",
    "                    data=volume_data, # Z,Y,X\n",
    "                    voxel_size=[ xy_ng_resolution_um*1000, xy_ng_resolution_um*1000, 20000], # X Y Z\n",
    "                    voxel_offset = [ 0, 0, 0] # X Y Z\n",
    "                ),\n",
    "                segments = color_segments\n",
    "            )\n",
    "            \n",
    "    def reset_orientation(self):\n",
    "        with self.viewer.txn() as s:\n",
    "            # Resets X/Y/Z plane orientation\n",
    "            s.navigation.pose.orientation = [0,0,0,1]\n",
    "            # Zooms out \n",
    "            s.navigation.zoomFactor = 5000 # 5000 If xy, 10000 If 4panel\n",
    "            # Resets 3D Viewer Orientation\n",
    "            s.perspectiveOrientation = [0,0,0,1]\n",
    "            # Zooms out\n",
    "            s.perspectiveZoom = 75000\n",
    "\n",
    "            s.layout = 'xy' # '3d'/'4panel'/'xy'\n",
    "            \n",
    "    def stop(self):\n",
    "        neuroglancer.stop()"
   ]
  },
  {
   "cell_type": "code",
   "execution_count": 14,
   "metadata": {},
   "outputs": [
    {
     "name": "stdout",
     "output_type": "stream",
     "text": [
      "http://132.239.73.85:38039/v/9fa0f8ef67cf0fb604e27e71154fe204cb504ded/\n"
     ]
    }
   ],
   "source": [
    "new_viewer = Neuroglancer_Viewer(stack='MD594') # 8 off\n",
    "new_viewer.add_stack()\n",
    "new_viewer.reset_orientation()\n",
    "\n",
    "print new_viewer.url"
   ]
  },
  {
   "cell_type": "code",
   "execution_count": 16,
   "metadata": {},
   "outputs": [
    {
     "name": "stdout",
     "output_type": "stream",
     "text": [
      "http://132.239.73.85:39189/v/d9fff74df8704d687de2599626464c2eeab28d13/\n"
     ]
    }
   ],
   "source": [
    "new_viewer = Neuroglancer_Viewer(stack='MD589') # 8 off\n",
    "new_viewer.add_stack()\n",
    "new_viewer.reset_orientation()\n",
    "\n",
    "print new_viewer.url"
   ]
  },
  {
   "cell_type": "code",
   "execution_count": 18,
   "metadata": {
    "scrolled": true
   },
   "outputs": [
    {
     "name": "stdout",
     "output_type": "stream",
     "text": [
      "http://132.239.73.85:35671/v/22c415e5d52c576d85fdcc01af7376bfebc9929d/\n"
     ]
    }
   ],
   "source": [
    "new_viewer = Neuroglancer_Viewer(stack='MD585')\n",
    "new_viewer.add_stack()\n",
    "\n",
    "new_viewer.set_local_volume_fp( fp=NEUROGLANCER_ROOT )\n",
    "new_viewer.add_volume()\n",
    "\n",
    "new_viewer.reset_orientation()\n",
    "\n",
    "print new_viewer.url"
   ]
  },
  {
   "cell_type": "code",
   "execution_count": 17,
   "metadata": {
    "collapsed": true
   },
   "outputs": [],
   "source": [
    "new_viewer.stop()\n",
    "del new_viewer"
   ]
  },
  {
   "cell_type": "code",
   "execution_count": null,
   "metadata": {
    "collapsed": true
   },
   "outputs": [],
   "source": []
  },
  {
   "cell_type": "code",
   "execution_count": 57,
   "metadata": {
    "scrolled": true
   },
   "outputs": [
    {
     "data": {
      "text/plain": [
       "1"
      ]
     },
     "execution_count": 57,
     "metadata": {},
     "output_type": "execute_result"
    }
   ],
   "source": [
    "import subprocess\n",
    "s3_root_fp = 's3://test-bucket-sid/alex_neuroglancer_volumes/'+'MD585'+'/human_annotations_5um'\n",
    "        \n",
    "command_list = ['aws','s3','cp','--recursive',s3_root_fp, '/home/alexn/Desktop/test_ng/']\n",
    "subprocess.call( command_list )"
   ]
  },
  {
   "cell_type": "code",
   "execution_count": 41,
   "metadata": {
    "collapsed": true
   },
   "outputs": [],
   "source": [
    "! rm -r /home/alexn/test_ng"
   ]
  },
  {
   "cell_type": "code",
   "execution_count": null,
   "metadata": {
    "collapsed": true
   },
   "outputs": [],
   "source": []
  }
 ],
 "metadata": {
  "kernelspec": {
   "display_name": "Python 2",
   "language": "python",
   "name": "python2"
  },
  "language_info": {
   "codemirror_mode": {
    "name": "ipython",
    "version": 2
   },
   "file_extension": ".py",
   "mimetype": "text/x-python",
   "name": "python",
   "nbconvert_exporter": "python",
   "pygments_lexer": "ipython2",
   "version": "2.7.12"
  }
 },
 "nbformat": 4,
 "nbformat_minor": 2
}
