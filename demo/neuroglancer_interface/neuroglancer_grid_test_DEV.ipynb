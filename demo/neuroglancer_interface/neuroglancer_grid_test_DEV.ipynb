{
 "cells": [
  {
   "cell_type": "code",
   "execution_count": 1,
   "metadata": {
    "collapsed": true
   },
   "outputs": [],
   "source": [
    "import time\n",
    "\n",
    "import neuroglancer\n",
    "import numpy as np\n",
    "\n",
    "import cv2\n",
    "import matplotlib.pyplot as plt\n",
    "%matplotlib inline\n",
    "\n",
    "def convert_coor_xy_list_to_x_y_list( coordinates ):\n",
    "    x_coors = []\n",
    "    y_coors = []\n",
    "    for coor in coordinates:\n",
    "        y, x = coor\n",
    "        x_coors.append( int(x) )\n",
    "        y_coors.append( int(y) )\n",
    "    return [x_coors, y_coors]"
   ]
  },
  {
   "cell_type": "code",
   "execution_count": 18,
   "metadata": {},
   "outputs": [
    {
     "ename": "NameError",
     "evalue": "name 'primary_system1' is not defined",
     "output_type": "error",
     "traceback": [
      "\u001b[0;31m---------------------------------------------------------------------------\u001b[0m",
      "\u001b[0;31mNameError\u001b[0m                                 Traceback (most recent call last)",
      "\u001b[0;32m<ipython-input-18-8009f07406ce>\u001b[0m in \u001b[0;36m<module>\u001b[0;34m()\u001b[0m\n\u001b[1;32m     11\u001b[0m     \u001b[0;32mreturn\u001b[0m \u001b[0;32mlambda\u001b[0m \u001b[0mx\u001b[0m\u001b[0;34m:\u001b[0m \u001b[0;34m(\u001b[0m\u001b[0mA2\u001b[0m\u001b[0;34m*\u001b[0m\u001b[0mnp\u001b[0m\u001b[0;34m.\u001b[0m\u001b[0mvstack\u001b[0m\u001b[0;34m(\u001b[0m\u001b[0;34m(\u001b[0m\u001b[0mnp\u001b[0m\u001b[0;34m.\u001b[0m\u001b[0mmatrix\u001b[0m\u001b[0;34m(\u001b[0m\u001b[0mx\u001b[0m\u001b[0;34m)\u001b[0m\u001b[0;34m.\u001b[0m\u001b[0mreshape\u001b[0m\u001b[0;34m(\u001b[0m\u001b[0;36m3\u001b[0m\u001b[0;34m,\u001b[0m\u001b[0;36m1\u001b[0m\u001b[0;34m)\u001b[0m\u001b[0;34m,\u001b[0m\u001b[0;36m1\u001b[0m\u001b[0;34m)\u001b[0m\u001b[0;34m)\u001b[0m\u001b[0;34m)\u001b[0m\u001b[0;34m[\u001b[0m\u001b[0;36m0\u001b[0m\u001b[0;34m:\u001b[0m\u001b[0;36m3\u001b[0m\u001b[0;34m,\u001b[0m\u001b[0;34m:\u001b[0m\u001b[0;34m]\u001b[0m\u001b[0;34m\u001b[0m\u001b[0m\n\u001b[1;32m     12\u001b[0m \u001b[0;34m\u001b[0m\u001b[0m\n\u001b[0;32m---> 13\u001b[0;31m transformFn = solve_affine( primary_system1, primary_system2, \n\u001b[0m\u001b[1;32m     14\u001b[0m                             \u001b[0mprimary_system3\u001b[0m\u001b[0;34m,\u001b[0m \u001b[0mprimary_system4\u001b[0m\u001b[0;34m,\u001b[0m\u001b[0;34m\u001b[0m\u001b[0m\n\u001b[1;32m     15\u001b[0m                             \u001b[0msecondary_system1\u001b[0m\u001b[0;34m,\u001b[0m \u001b[0msecondary_system2\u001b[0m\u001b[0;34m,\u001b[0m\u001b[0;34m\u001b[0m\u001b[0m\n",
      "\u001b[0;31mNameError\u001b[0m: name 'primary_system1' is not defined"
     ]
    }
   ],
   "source": [
    "def solve_affine( p1, p2, p3, p4, s1, s2, s3, s4 ):\n",
    "    x = np.transpose(np.matrix([p1,p2,p3,p4]))\n",
    "    y = np.transpose(np.matrix([s1,s2,s3,s4]))\n",
    "    # add ones on the bottom of x and y\n",
    "    x = np.vstack((x,[1,1,1,1]))\n",
    "    y = np.vstack((y,[1,1,1,1]))\n",
    "    # solve for A2\n",
    "    A2 = y * x.I\n",
    "    # return function that takes input x and transforms it\n",
    "    # don't need to return the 4th row as it is \n",
    "    return lambda x: (A2*np.vstack((np.matrix(x).reshape(3,1),1)))[0:3,:]\n",
    "\n",
    "transformFn = solve_affine( primary_system1, primary_system2, \n",
    "                            primary_system3, primary_system4,\n",
    "                            secondary_system1, secondary_system2,\n",
    "                            secondary_system3, secondary_system4 )\n",
    "\n",
    "# test: transform primary_system1 and we should get secondary_system1\n",
    "np.matrix(secondary_system1).T - transformFn( primary_system1 )\n",
    "# np.linalg.norm of above is 0.02555\n",
    "\n",
    "# transform another point (x,y,z).\n",
    "transformed = transformFn((x,y,z))"
   ]
  },
  {
   "cell_type": "code",
   "execution_count": 27,
   "metadata": {},
   "outputs": [],
   "source": [
    "transformFn = solve_affine( [0,0,0], [0,0,1], \n",
    "                            [0,1,1], [1,0,1],\n",
    "                            [0,0,0], [0,0,1], \n",
    "                            [0,1,1], [1,1,1] )\n",
    "\n",
    "# # test: transform primary_system1 and we should get secondary_system1\n",
    "# np.matrix(secondary_system1).T - transformFn( primary_system1 )\n",
    "# # np.linalg.norm of above is 0.02555\n",
    "\n",
    "# transform another point (x,y,z).\n",
    "transformed = transformFn((0,1,1))"
   ]
  },
  {
   "cell_type": "code",
   "execution_count": 51,
   "metadata": {},
   "outputs": [],
   "source": [
    "transformFn = solve_affine( [0,0,0], [1,0,0], \n",
    "                            [0,1,0], [0,0,1],\n",
    "                            [0,0,0], [0,1,0], \n",
    "                            [-1,0,0], [0,0,1] )\n",
    "\n",
    "# # test: transform primary_system1 and we should get secondary_system1\n",
    "# np.matrix(secondary_system1).T - transformFn( primary_system1 )\n",
    "# # np.linalg.norm of above is 0.02555\n",
    "\n",
    "# transform another point (x,y,z).\n",
    "transformed = transformFn((2,2,1))"
   ]
  },
  {
   "cell_type": "code",
   "execution_count": 52,
   "metadata": {},
   "outputs": [
    {
     "data": {
      "text/plain": [
       "matrix([[-2.],\n",
       "        [ 2.],\n",
       "        [ 1.]])"
      ]
     },
     "execution_count": 52,
     "metadata": {},
     "output_type": "execute_result"
    }
   ],
   "source": [
    "transformed"
   ]
  },
  {
   "cell_type": "code",
   "execution_count": 53,
   "metadata": {},
   "outputs": [
    {
     "data": {
      "text/plain": [
       "9.076923076923077"
      ]
     },
     "execution_count": 53,
     "metadata": {},
     "output_type": "execute_result"
    }
   ],
   "source": [
    "118./13"
   ]
  },
  {
   "cell_type": "code",
   "execution_count": null,
   "metadata": {
    "collapsed": true
   },
   "outputs": [],
   "source": []
  },
  {
   "cell_type": "code",
   "execution_count": null,
   "metadata": {
    "collapsed": true
   },
   "outputs": [],
   "source": []
  },
  {
   "cell_type": "code",
   "execution_count": 2,
   "metadata": {},
   "outputs": [
    {
     "name": "stderr",
     "output_type": "stream",
     "text": [
      "/usr/local/lib/python2.7/dist-packages/matplotlib/cbook/deprecation.py:106: MatplotlibDeprecationWarning: Adding an axes using the same arguments as a previous axes currently reuses the earlier instance.  In a future version, a new instance will always be created and returned.  Meanwhile, this warning can be suppressed, and the future behavior ensured, by passing a unique label to each axes instance.\n",
      "  warnings.warn(message, mplDeprecation, stacklevel=1)\n"
     ]
    },
    {
     "data": {
      "image/png": "[encoded data removed]",
      "text/plain": [
       "<matplotlib.figure.Figure at 0x7f268dbf2650>"
      ]
     },
     "metadata": {},
     "output_type": "display_data"
    }
   ],
   "source": [
    "test_matrix = np.zeros((100,100))\n",
    "for i in range(100):\n",
    "    test_matrix[i,i]=1\n",
    "    \n",
    "test_grid = [[0,0],[4,0],[9,0],[0,4],[4,4],[9,4],[0,9],[4,9],[9,9]]\n",
    "\n",
    "img = test_matrix\n",
    "rows,cols = img.shape\n",
    "\n",
    "pts1 = np.float32([[0,0],[99,0],[0,99]]) # [x,y]\n",
    "pts2 = np.float32([[60,0],[99,0],[0,99]]) # [x,y]\n",
    "\n",
    "M = cv2.getAffineTransform(pts1,pts2)\n",
    "\n",
    "dst = cv2.warpAffine(img,M,(cols,rows))\n",
    "\n",
    "y_coors_1, x_coors_1 = convert_coor_xy_list_to_x_y_list( pts1 )\n",
    "plt.subplot(121),plt.imshow(img),plt.title('Input')\n",
    "plt.subplot(121),plt.scatter(x_coors_1,y_coors_1, c='r', s=30)\n",
    "y_coors_2, x_coors_2 = convert_coor_xy_list_to_x_y_list( pts2 )\n",
    "plt.subplot(122),plt.imshow(dst),plt.title('Output')\n",
    "plt.subplot(122),plt.scatter(x_coors_2,y_coors_2, c='r', s=30)\n",
    "plt.show()"
   ]
  },
  {
   "cell_type": "code",
   "execution_count": 241,
   "metadata": {},
   "outputs": [],
   "source": [
    "volume = np.zeros((100,100,50))\n",
    "for z in range(50):\n",
    "    for i in range(100):\n",
    "        volume[i,i,z]=1\n",
    "        \n",
    "        \n",
    "grid_dict = {}\n",
    "jump_x = 25\n",
    "jump_y = 25\n",
    "jump_z = 25\n",
    "for x in range(0,101,jump_x):\n",
    "    for y in range(0,101,jump_y):\n",
    "        for z in range(0,51,jump_z):\n",
    "            coordinates = (x,y,z)\n",
    "            coordinates_str = str(coordinates)\n",
    "            grid_dict[coordinates_str] = coordinates\n",
    "            \n",
    "grid_dict['(50, 50, 0)'] = (50,40,0)"
   ]
  },
  {
   "cell_type": "code",
   "execution_count": 421,
   "metadata": {
    "collapsed": true
   },
   "outputs": [],
   "source": [
    "volume = np.zeros((100,100,50))\n",
    "\n",
    "for z in range(50):\n",
    "    for i in range(100):\n",
    "        volume[i,i,z]=1\n",
    "        try:\n",
    "            volume[i-1,i,z]=1\n",
    "            volume[i+1,i,z]=1\n",
    "            volume[i,i+1,z]=1\n",
    "            volume[i+1,i+1,z]=1\n",
    "            volume[i+2,i+1,z]=1\n",
    "            \n",
    "            volume[i+25,i,z]=1\n",
    "            volume[i-25,i,z]=1\n",
    "        except:\n",
    "            continue"
   ]
  },
  {
   "cell_type": "code",
   "execution_count": 422,
   "metadata": {
    "scrolled": true
   },
   "outputs": [],
   "source": [
    "def get_triangle_indices_to_vertices_2d( grid_dict, triangle_type='sawtooth' ):\n",
    "    \"\"\"\n",
    "    Sawtooth: Every point with two unique, adjacent points will create a triangle.\n",
    "    \"\"\"\n",
    "    \n",
    "    original_grid_coors = []\n",
    "    \n",
    "    for original_grid_pnt_str in grid_dict.keys():\n",
    "        # Convert the string-key into coordinate pair\n",
    "        original_grid_pnt_coors = original_grid_pnt_str.replace('(','').replace(')','').replace(' ','').split(',')\n",
    "        original_grid_pnt_coors = [int(original_grid_pnt_coors[0]), \\\n",
    "                                   int(original_grid_pnt_coors[1]), \\\n",
    "                                   int(original_grid_pnt_coors[2])]\n",
    "        # Add the grid point coordinates to the list of original grid point coordinates\n",
    "        original_grid_coors.append( original_grid_pnt_coors )\n",
    "        \n",
    "    triangle_indices_to_vertices = {}\n",
    "    triangle_index = 0\n",
    "    \n",
    "    if triangle_type=='sawtooth':\n",
    "        for pnt in original_grid_coors:\n",
    "            right_gridpnt = list( np.add( pnt, [jump_x,0,0] ) )\n",
    "            down_gridpnt = list( np.add( pnt, [0,jump_y,0] ) )\n",
    "            \n",
    "            up_right_gridpnt = list( np.add( pnt, [jump_x,-jump_y,0] ) )\n",
    "            \n",
    "            # Check for RIGHT point and DOWN point\n",
    "            if (right_gridpnt in original_grid_coors) and (up_right_gridpnt in original_grid_coors):\n",
    "                triangle_indices_to_vertices[triangle_index] = [pnt, right_gridpnt, up_right_gridpnt]\n",
    "                triangle_index += 1\n",
    "\n",
    "            # Check for RIGHT point and RIGHT+UP point\n",
    "            if (right_gridpnt in original_grid_coors) and (down_gridpnt in original_grid_coors):\n",
    "                triangle_indices_to_vertices[triangle_index] = [pnt, right_gridpnt, down_gridpnt]\n",
    "                triangle_index += 1\n",
    "                \n",
    "    return triangle_indices_to_vertices\n",
    "\n",
    "def signed_area(pr2):\n",
    "    \"\"\"\n",
    "     Return the signed area enclosed by a ring using the linear time\n",
    "     algorithm at http://www.cgafaq.info/wiki/Polygon_Area. A value >= 0\n",
    "     indicates a counter-clockwise oriented ring.\n",
    "    \"\"\"\n",
    "    xs, ys = map(list, zip(*pr2))\n",
    "    xs.append(xs[1])\n",
    "    ys.append(ys[1])\n",
    "    return sum(xs[i]*(ys[i+1]-ys[i-1]) for i in range(1, len(pr2)))/2.0\n",
    "\n",
    "def get_mask_from_vertices( tupVerts ):\n",
    "    from matplotlib.path import Path\n",
    "    \n",
    "    clockwise = np.sign( signed_area(tupVerts) )\n",
    "    \n",
    "    # Is a 2D triangle\n",
    "    if np.shape(tupVerts)==(3,2):\n",
    "        x_vals = [tupVerts[0,0],tupVerts[1,0],tupVerts[2,0]]\n",
    "        y_vals = [tupVerts[0,1],tupVerts[1,1],tupVerts[2,1]]\n",
    "        max_x = int( max(x_vals))\n",
    "        min_x = int( min(x_vals))\n",
    "        max_y = int( max(y_vals))\n",
    "        min_y = int( min(y_vals))\n",
    "\n",
    "    x, y = np.meshgrid(np.arange(max_x), np.arange(max_y)) # make a canvas with coordinates\n",
    "    x, y = x.flatten(), y.flatten()\n",
    "    points = np.vstack((x,y)).T \n",
    "\n",
    "    p = Path(tupVerts) # make a polygon\n",
    "    grid = p.contains_points(points, radius=0*clockwise)\n",
    "    mask = grid.reshape( max_y, max_x ) # now you have a mask with points inside a polygon\n",
    "    plt.imshow(mask)\n",
    "    plt.show()\n",
    "    return mask"
   ]
  },
  {
   "cell_type": "code",
   "execution_count": 435,
   "metadata": {
    "scrolled": true
   },
   "outputs": [
    {
     "data": {
      "image/png": "[encoded data removed]",
      "text/plain": [
       "<matplotlib.figure.Figure at 0x7f266dc26910>"
      ]
     },
     "metadata": {},
     "output_type": "display_data"
    },
    {
     "name": "stdout",
     "output_type": "stream",
     "text": [
      "[[50. 25.]\n",
      " [75. 25.]\n",
      " [50. 40.]]\n"
     ]
    },
    {
     "data": {
      "image/png": "[encoded data removed]",
      "text/plain": [
       "<matplotlib.figure.Figure at 0x7f266e650e10>"
      ]
     },
     "metadata": {},
     "output_type": "display_data"
    },
    {
     "data": {
      "image/png": "[encoded data removed]",
      "text/plain": [
       "<matplotlib.figure.Figure at 0x7f266d683810>"
      ]
     },
     "metadata": {},
     "output_type": "display_data"
    },
    {
     "name": "stdout",
     "output_type": "stream",
     "text": [
      "[50, 75, 25, 40]\n"
     ]
    },
    {
     "data": {
      "image/png": "[encoded data removed]",
      "text/plain": [
       "<matplotlib.figure.Figure at 0x7f266e650550>"
      ]
     },
     "metadata": {},
     "output_type": "display_data"
    },
    {
     "data": {
      "image/png": "[encoded data removed]",
      "text/plain": [
       "<matplotlib.figure.Figure at 0x7f266e2e2190>"
      ]
     },
     "metadata": {},
     "output_type": "display_data"
    },
    {
     "name": "stdout",
     "output_type": "stream",
     "text": [
      "[[25. 75.]\n",
      " [50. 75.]\n",
      " [50. 40.]]\n"
     ]
    },
    {
     "data": {
      "image/png": "[encoded data removed]",
      "text/plain": [
       "<matplotlib.figure.Figure at 0x7f266e0a9c90>"
      ]
     },
     "metadata": {},
     "output_type": "display_data"
    },
    {
     "data": {
      "image/png": "[encoded data removed]",
      "text/plain": [
       "<matplotlib.figure.Figure at 0x7f266d8b9910>"
      ]
     },
     "metadata": {},
     "output_type": "display_data"
    },
    {
     "name": "stdout",
     "output_type": "stream",
     "text": [
      "[25, 50, 40, 75]\n"
     ]
    },
    {
     "data": {
      "image/png": "[encoded data removed]",
      "text/plain": [
       "<matplotlib.figure.Figure at 0x7f266e6bdb90>"
      ]
     },
     "metadata": {},
     "output_type": "display_data"
    },
    {
     "data": {
      "image/png": "[encoded data removed]",
      "text/plain": [
       "<matplotlib.figure.Figure at 0x7f266d7ccfd0>"
      ]
     },
     "metadata": {},
     "output_type": "display_data"
    },
    {
     "name": "stdout",
     "output_type": "stream",
     "text": [
      "[[25. 50.]\n",
      " [50. 40.]\n",
      " [50. 25.]]\n"
     ]
    },
    {
     "data": {
      "image/png": "[encoded data removed]",
      "text/plain": [
       "<matplotlib.figure.Figure at 0x7f266d2d5b50>"
      ]
     },
     "metadata": {},
     "output_type": "display_data"
    },
    {
     "data": {
      "image/png": "[encoded data removed]",
      "text/plain": [
       "<matplotlib.figure.Figure at 0x7f266d2c0cd0>"
      ]
     },
     "metadata": {},
     "output_type": "display_data"
    },
    {
     "name": "stdout",
     "output_type": "stream",
     "text": [
      "[25, 50, 25, 50]\n"
     ]
    },
    {
     "data": {
      "image/png": "[encoded data removed]",
      "text/plain": [
       "<matplotlib.figure.Figure at 0x7f266d726590>"
      ]
     },
     "metadata": {},
     "output_type": "display_data"
    },
    {
     "data": {
      "image/png": "[encoded data removed]",
      "text/plain": [
       "<matplotlib.figure.Figure at 0x7f266d8b91d0>"
      ]
     },
     "metadata": {},
     "output_type": "display_data"
    },
    {
     "name": "stdout",
     "output_type": "stream",
     "text": [
      "[[25. 50.]\n",
      " [50. 40.]\n",
      " [25. 75.]]\n"
     ]
    },
    {
     "data": {
      "image/png": "[encoded data removed]",
      "text/plain": [
       "<matplotlib.figure.Figure at 0x7f266d5e41d0>"
      ]
     },
     "metadata": {},
     "output_type": "display_data"
    },
    {
     "data": {
      "image/png": "[encoded data removed]",
      "text/plain": [
       "<matplotlib.figure.Figure at 0x7f266d1e5610>"
      ]
     },
     "metadata": {},
     "output_type": "display_data"
    },
    {
     "name": "stdout",
     "output_type": "stream",
     "text": [
      "[25, 50, 40, 75]\n"
     ]
    },
    {
     "data": {
      "image/png": "[encoded data removed]",
      "text/plain": [
       "<matplotlib.figure.Figure at 0x7f266cf422d0>"
      ]
     },
     "metadata": {},
     "output_type": "display_data"
    },
    {
     "data": {
      "image/png": "[encoded data removed]",
      "text/plain": [
       "<matplotlib.figure.Figure at 0x7f266cfa6a90>"
      ]
     },
     "metadata": {},
     "output_type": "display_data"
    },
    {
     "name": "stdout",
     "output_type": "stream",
     "text": [
      "[[50. 40.]\n",
      " [75. 50.]\n",
      " [75. 25.]]\n"
     ]
    },
    {
     "data": {
      "image/png": "[encoded data removed]",
      "text/plain": [
       "<matplotlib.figure.Figure at 0x7f266cfb1590>"
      ]
     },
     "metadata": {},
     "output_type": "display_data"
    },
    {
     "data": {
      "image/png": "[encoded data removed]",
      "text/plain": [
       "<matplotlib.figure.Figure at 0x7f266d1ddad0>"
      ]
     },
     "metadata": {},
     "output_type": "display_data"
    },
    {
     "name": "stdout",
     "output_type": "stream",
     "text": [
      "[50, 75, 25, 50]\n"
     ]
    },
    {
     "data": {
      "image/png": "[encoded data removed]",
      "text/plain": [
       "<matplotlib.figure.Figure at 0x7f266da72650>"
      ]
     },
     "metadata": {},
     "output_type": "display_data"
    },
    {
     "data": {
      "image/png": "[encoded data removed]",
      "text/plain": [
       "<matplotlib.figure.Figure at 0x7f266d2178d0>"
      ]
     },
     "metadata": {},
     "output_type": "display_data"
    },
    {
     "name": "stdout",
     "output_type": "stream",
     "text": [
      "[[50. 40.]\n",
      " [75. 50.]\n",
      " [50. 75.]]\n"
     ]
    },
    {
     "data": {
      "image/png": "[encoded data removed]",
      "text/plain": [
       "<matplotlib.figure.Figure at 0x7f266e9e2c10>"
      ]
     },
     "metadata": {},
     "output_type": "display_data"
    },
    {
     "data": {
      "image/png": "[encoded data removed]",
      "text/plain": [
       "<matplotlib.figure.Figure at 0x7f266d7c2510>"
      ]
     },
     "metadata": {},
     "output_type": "display_data"
    },
    {
     "name": "stdout",
     "output_type": "stream",
     "text": [
      "[50, 75, 40, 75]\n"
     ]
    },
    {
     "data": {
      "image/png": "[encoded data removed]",
      "text/plain": [
       "<matplotlib.figure.Figure at 0x7f266ed7f610>"
      ]
     },
     "metadata": {},
     "output_type": "display_data"
    }
   ],
   "source": [
    "triangle_indices_to_vertices = get_triangle_indices_to_vertices_2d( grid_dict, triangle_type='sawtooth' )\n",
    "volume_copy = volume.copy()\n",
    "volume_copy = np.zeros(np.shape(volume))\n",
    "\n",
    "\n",
    "for grid1_triangle_vertices in triangle_indices_to_vertices.values():\n",
    "    triangle_is_distorted = False\n",
    "    # Check every vertex in the triangle, if any have been changed, then set\n",
    "    # `triangle_is_distorted` to True\n",
    "    for coordinate_pair in grid1_triangle_vertices:\n",
    "        grid1_coordinate_pair_string = str(tuple( coordinate_pair ))\n",
    "        grid2_coordinate_pair_string = str(grid_dict[grid1_coordinate_pair_string])\n",
    "        if grid2_coordinate_pair_string != grid1_coordinate_pair_string:\n",
    "            triangle_is_distorted = True\n",
    "            break\n",
    "            \n",
    "    # Calculate bounding boxes\n",
    "    large_num = 999999999 # an arbitrarily large number guaranteed to be overwritten by smaller numbers\n",
    "    grid1_min_max_x_y = [large_num,-1,large_num,-1] # minX, maxX, minY, maxY\n",
    "    grid2_min_max_x_y = [large_num,-1,large_num,-1] # minX, maxX, minY, maxY\n",
    "    # The for loop finds the grid2 vertices and put into this list\n",
    "    grid2_triangle_vertices = []\n",
    "    for grid1_coordinate_pair in grid1_triangle_vertices:\n",
    "        # Update the cropping box for the grid1 points (using min/max x/y values)\n",
    "        grid1_min_max_x_y[0] = min( grid1_min_max_x_y[0], grid1_coordinate_pair[0] )\n",
    "        grid1_min_max_x_y[1] = max( grid1_min_max_x_y[1], grid1_coordinate_pair[0] )\n",
    "        grid1_min_max_x_y[2] = min( grid1_min_max_x_y[2], grid1_coordinate_pair[1] )\n",
    "        grid1_min_max_x_y[3] = max( grid1_min_max_x_y[3], grid1_coordinate_pair[1] )\n",
    "        \n",
    "        # Add mapped (grid1->grid2) coordinates to the grid2 vertices list\n",
    "        grid1_coordinate_pair_string = str(tuple( grid1_coordinate_pair ))\n",
    "        grid2_triangle_vertices.append( list(grid_dict[grid1_coordinate_pair_string]) )\n",
    "        \n",
    "        grid2_coordinate_pair = list(grid_dict[grid1_coordinate_pair_string])\n",
    "        # Update the cropping box for the grid2 points (using min/max x/y values)\n",
    "        grid2_min_max_x_y[0] = min( grid2_min_max_x_y[0], grid2_coordinate_pair[0] )\n",
    "        grid2_min_max_x_y[1] = max( grid2_min_max_x_y[1], grid2_coordinate_pair[0] )\n",
    "        grid2_min_max_x_y[2] = min( grid2_min_max_x_y[2], grid2_coordinate_pair[1] )\n",
    "        grid2_min_max_x_y[3] = max( grid2_min_max_x_y[3], grid2_coordinate_pair[1] )\n",
    "        \n",
    "    \n",
    "        \n",
    "    # If none of the 3 vertices have been changed, copy the triangle to \"volume_copy\" \n",
    "    #   and then continue to the next triangle\n",
    "    if not triangle_is_distorted:\n",
    "#         volume_cross_section = volume_copy[:,:,z_plane]\n",
    "#         rows,cols = volume_cross_section.shape\n",
    "#         cropped_volume_cross_section = np.zeros( (rows,cols) )\n",
    "        \n",
    "#         grid1_triangle_vertices_xy = [grid1_triangle_vertices[0][0:2],\n",
    "#                                       grid1_triangle_vertices[1][0:2],\n",
    "#                                       grid1_triangle_vertices[2][0:2]]\n",
    "#         grid1_triangle_mask = get_mask_from_vertices( grid1_triangle_vertices_xy )\n",
    "#         for x in range( grid1_min_max_x_y[0], grid1_min_max_x_y[1]):\n",
    "#             for y in range( grid1_min_max_x_y[2], grid1_min_max_x_y[3]):\n",
    "#                 try:\n",
    "#                     if grid1_triangle_mask[x,y]:\n",
    "#                         volume_copy[x,y,z_plane] = warped_cropped_volume_cross_section[x,y]\n",
    "#                 except:\n",
    "#                     continue\n",
    "        \n",
    "        continue\n",
    "    # If the triangle *HAS BEEN DISTORTED*\n",
    "    \n",
    "#     print(grid1_triangle_vertices)\n",
    "#     print(grid2_triangle_vertices)\n",
    "    z_plane = grid1_triangle_vertices[0][2]\n",
    "    volume_cross_section = volume[:,:,z_plane].copy()\n",
    "    \n",
    "    # Remove the z-coordinate for this preliminary code\n",
    "    grid1_triangle_vertices_xy = [grid1_triangle_vertices[0][0:2],\n",
    "                                  grid1_triangle_vertices[1][0:2],\n",
    "                                  grid1_triangle_vertices[2][0:2]]\n",
    "    grid2_triangle_vertices_xy = [grid2_triangle_vertices[0][0:2],\n",
    "                                  grid2_triangle_vertices[1][0:2],\n",
    "                                  grid2_triangle_vertices[2][0:2]]\n",
    "    # The affine transformation is computed using the vertices, which are relabeled as \"mapping points\"\n",
    "    mapping_pts1 = np.float32(grid1_triangle_vertices_xy)\n",
    "    mapping_pts2 = np.float32(grid2_triangle_vertices_xy)\n",
    "    \n",
    "    # Crop out the relevant part of the image\n",
    "    rows,cols = volume_cross_section.shape\n",
    "    cropped_volume_cross_section = np.zeros( (rows,cols) )\n",
    "    cropped_volume_cross_section[ grid1_min_max_x_y[2]:grid1_min_max_x_y[3], \\\n",
    "                                  grid1_min_max_x_y[0]:grid1_min_max_x_y[1] ] = \\\n",
    "           volume_cross_section[ grid1_min_max_x_y[2]:grid1_min_max_x_y[3], \\\n",
    "                                 grid1_min_max_x_y[0]:grid1_min_max_x_y[1] ]\n",
    "#     cropped_volume_cross_section = volume_cross_section[ grid1_min_max_x_y[2]:grid1_min_max_x_y[3], \\\n",
    "#                                  grid1_min_max_x_y[0]:grid1_min_max_x_y[1] ].copy()\n",
    "#     rows,cols = cropped_volume_cross_section.shape\n",
    "    \n",
    "    # If the cropbox area only contains zeros, skip the transformation\n",
    "    if np.count_nonzero( cropped_volume_cross_section ) == 0:\n",
    "        continue\n",
    "\n",
    "    \n",
    "    # Apply the affine transformation to the cropped img\n",
    "    M = cv2.getAffineTransform(mapping_pts1,mapping_pts2)\n",
    "    warped_cropped_volume_cross_section = cv2.warpAffine( cropped_volume_cross_section, M, (cols,rows))\n",
    "\n",
    "    # Plot the original (cropped) image and vertex points\n",
    "    y_coors_1, x_coors_1 = convert_coor_xy_list_to_x_y_list( mapping_pts1 )\n",
    "    plt.subplot(121),plt.imshow(cropped_volume_cross_section, cmap='gray'),plt.title('Input')\n",
    "    plt.subplot(121),plt.scatter(x_coors_1,y_coors_1, c='r', s=5)\n",
    "    # Plot the transformed (cropped) image and vertex points\n",
    "    y_coors_2, x_coors_2 = convert_coor_xy_list_to_x_y_list( mapping_pts2 )\n",
    "    plt.subplot(122),plt.imshow(warped_cropped_volume_cross_section, cmap='gray'),plt.title('Output')\n",
    "    plt.subplot(122),plt.scatter(x_coors_2,y_coors_2, c='r', s=5)\n",
    "    plt.show()\n",
    "    \n",
    "    print mapping_pts2\n",
    "    grid2_triangle_mask = get_mask_from_vertices( mapping_pts2 )\n",
    "#     if (mapping_pts2==[[25., 50.],[50., 40.],[25., 75.]]).all():\n",
    "#         plt.imshow(grid2_triangle_mask)\n",
    "#         plt.show()\n",
    "#         sdf\n",
    "    plt.imshow(warped_cropped_volume_cross_section)\n",
    "    plt.show()\n",
    "    print(grid2_min_max_x_y)\n",
    "    for x in range( grid2_min_max_x_y[0], grid2_min_max_x_y[1]):\n",
    "        for y in range( grid2_min_max_x_y[2], grid2_min_max_x_y[3]):\n",
    "            if grid2_triangle_mask[y,x]:\n",
    "                volume_copy[x,y,z_plane] = max(volume_copy[x,y,z_plane],warped_cropped_volume_cross_section[x,y])\n",
    "                \n",
    "    plt.imshow( volume_copy[:,:,z_plane] )\n",
    "    \n",
    "    plt.scatter([50,50],[50,40], c='r', s=5)\n",
    "    plt.show()"
   ]
  },
  {
   "cell_type": "code",
   "execution_count": 432,
   "metadata": {},
   "outputs": [
    {
     "data": {
      "text/plain": [
       "[50, 25]"
      ]
     },
     "execution_count": 432,
     "metadata": {},
     "output_type": "execute_result"
    }
   ],
   "source": [
    "grid1_triangle_vertices_xy[0]"
   ]
  },
  {
   "cell_type": "code",
   "execution_count": 295,
   "metadata": {},
   "outputs": [
    {
     "data": {
      "text/plain": [
       "array([[25., 50.],\n",
       "       [50., 40.],\n",
       "       [25., 75.]], dtype=float32)"
      ]
     },
     "execution_count": 295,
     "metadata": {},
     "output_type": "execute_result"
    }
   ],
   "source": [
    "mapping_pts2"
   ]
  },
  {
   "cell_type": "code",
   "execution_count": 343,
   "metadata": {},
   "outputs": [
    {
     "data": {
      "text/plain": [
       "array([[25., 50.],\n",
       "       [50., 40.],\n",
       "       [25., 75.]], dtype=float32)"
      ]
     },
     "execution_count": 343,
     "metadata": {},
     "output_type": "execute_result"
    }
   ],
   "source": [
    "mapping_pts2"
   ]
  },
  {
   "cell_type": "code",
   "execution_count": 309,
   "metadata": {},
   "outputs": [
    {
     "data": {
      "text/plain": [
       "[25, 50]"
      ]
     },
     "execution_count": 309,
     "metadata": {},
     "output_type": "execute_result"
    }
   ],
   "source": [
    "[[25, 50],[50, 40],[25, 75]][0]"
   ]
  },
  {
   "cell_type": "code",
   "execution_count": null,
   "metadata": {
    "collapsed": true
   },
   "outputs": [],
   "source": []
  },
  {
   "cell_type": "code",
   "execution_count": 308,
   "metadata": {},
   "outputs": [
    {
     "ename": "TypeError",
     "evalue": "list indices must be integers, not tuple",
     "output_type": "error",
     "traceback": [
      "\u001b[0;31m---------------------------------------------------------------------------\u001b[0m",
      "\u001b[0;31mTypeError\u001b[0m                                 Traceback (most recent call last)",
      "\u001b[0;32m<ipython-input-308-ddb9130e9813>\u001b[0m in \u001b[0;36m<module>\u001b[0;34m()\u001b[0m\n\u001b[0;32m----> 1\u001b[0;31m \u001b[0;34m[\u001b[0m\u001b[0;34m[\u001b[0m\u001b[0;36m25\u001b[0m\u001b[0;34m,\u001b[0m \u001b[0;36m50\u001b[0m\u001b[0;34m]\u001b[0m\u001b[0;34m,\u001b[0m\u001b[0;34m[\u001b[0m\u001b[0;36m50\u001b[0m\u001b[0;34m,\u001b[0m \u001b[0;36m40\u001b[0m\u001b[0;34m]\u001b[0m\u001b[0;34m,\u001b[0m\u001b[0;34m[\u001b[0m\u001b[0;36m25\u001b[0m\u001b[0;34m,\u001b[0m \u001b[0;36m75\u001b[0m\u001b[0;34m]\u001b[0m\u001b[0;34m]\u001b[0m\u001b[0;34m[\u001b[0m\u001b[0;36m0\u001b[0m\u001b[0;34m,\u001b[0m\u001b[0;36m0\u001b[0m\u001b[0;34m]\u001b[0m\u001b[0;34m\u001b[0m\u001b[0m\n\u001b[0m",
      "\u001b[0;31mTypeError\u001b[0m: list indices must be integers, not tuple"
     ]
    }
   ],
   "source": [
    "[[25, 50],[50, 40],[25, 75]][0,0]"
   ]
  },
  {
   "cell_type": "code",
   "execution_count": 326,
   "metadata": {},
   "outputs": [
    {
     "ename": "TypeError",
     "evalue": "list indices must be integers, not tuple",
     "output_type": "error",
     "traceback": [
      "\u001b[0;31m---------------------------------------------------------------------------\u001b[0m",
      "\u001b[0;31mTypeError\u001b[0m                                 Traceback (most recent call last)",
      "\u001b[0;32m<ipython-input-326-db7967159efe>\u001b[0m in \u001b[0;36m<module>\u001b[0;34m()\u001b[0m\n\u001b[0;32m----> 1\u001b[0;31m \u001b[0mget_mask_from_vertices\u001b[0m\u001b[0;34m(\u001b[0m \u001b[0;34m[\u001b[0m\u001b[0;34m[\u001b[0m\u001b[0;36m25.\u001b[0m\u001b[0;34m,\u001b[0m \u001b[0;36m50.\u001b[0m\u001b[0;34m]\u001b[0m\u001b[0;34m,\u001b[0m\u001b[0;34m[\u001b[0m\u001b[0;36m50.\u001b[0m\u001b[0;34m,\u001b[0m \u001b[0;36m40.\u001b[0m\u001b[0;34m]\u001b[0m\u001b[0;34m,\u001b[0m\u001b[0;34m[\u001b[0m\u001b[0;36m25.\u001b[0m\u001b[0;34m,\u001b[0m \u001b[0;36m75.\u001b[0m\u001b[0;34m]\u001b[0m\u001b[0;34m]\u001b[0m\u001b[0;34m)\u001b[0m\u001b[0;34m\u001b[0m\u001b[0m\n\u001b[0m",
      "\u001b[0;32m<ipython-input-320-7f404be4d37a>\u001b[0m in \u001b[0;36mget_mask_from_vertices\u001b[0;34m(tupVerts)\u001b[0m\n\u001b[1;32m      6\u001b[0m     \u001b[0;31m# Is a 2D triangle\u001b[0m\u001b[0;34m\u001b[0m\u001b[0;34m\u001b[0m\u001b[0m\n\u001b[1;32m      7\u001b[0m     \u001b[0;32mif\u001b[0m \u001b[0mnp\u001b[0m\u001b[0;34m.\u001b[0m\u001b[0mshape\u001b[0m\u001b[0;34m(\u001b[0m\u001b[0mtupVerts\u001b[0m\u001b[0;34m)\u001b[0m\u001b[0;34m==\u001b[0m\u001b[0;34m(\u001b[0m\u001b[0;36m3\u001b[0m\u001b[0;34m,\u001b[0m\u001b[0;36m2\u001b[0m\u001b[0;34m)\u001b[0m\u001b[0;34m:\u001b[0m\u001b[0;34m\u001b[0m\u001b[0m\n\u001b[0;32m----> 8\u001b[0;31m         \u001b[0mx_vals\u001b[0m \u001b[0;34m=\u001b[0m \u001b[0;34m[\u001b[0m\u001b[0mtupVerts\u001b[0m\u001b[0;34m[\u001b[0m\u001b[0;36m0\u001b[0m\u001b[0;34m,\u001b[0m\u001b[0;36m0\u001b[0m\u001b[0;34m]\u001b[0m\u001b[0;34m,\u001b[0m\u001b[0mtupVerts\u001b[0m\u001b[0;34m[\u001b[0m\u001b[0;36m1\u001b[0m\u001b[0;34m,\u001b[0m\u001b[0;36m0\u001b[0m\u001b[0;34m]\u001b[0m\u001b[0;34m,\u001b[0m\u001b[0mtupVerts\u001b[0m\u001b[0;34m[\u001b[0m\u001b[0;36m2\u001b[0m\u001b[0;34m,\u001b[0m\u001b[0;36m0\u001b[0m\u001b[0;34m]\u001b[0m\u001b[0;34m]\u001b[0m\u001b[0;34m\u001b[0m\u001b[0m\n\u001b[0m\u001b[1;32m      9\u001b[0m         \u001b[0my_vals\u001b[0m \u001b[0;34m=\u001b[0m \u001b[0;34m[\u001b[0m\u001b[0mtupVerts\u001b[0m\u001b[0;34m[\u001b[0m\u001b[0;36m0\u001b[0m\u001b[0;34m,\u001b[0m\u001b[0;36m1\u001b[0m\u001b[0;34m]\u001b[0m\u001b[0;34m,\u001b[0m\u001b[0mtupVerts\u001b[0m\u001b[0;34m[\u001b[0m\u001b[0;36m1\u001b[0m\u001b[0;34m,\u001b[0m\u001b[0;36m1\u001b[0m\u001b[0;34m]\u001b[0m\u001b[0;34m,\u001b[0m\u001b[0mtupVerts\u001b[0m\u001b[0;34m[\u001b[0m\u001b[0;36m2\u001b[0m\u001b[0;34m,\u001b[0m\u001b[0;36m1\u001b[0m\u001b[0;34m]\u001b[0m\u001b[0;34m]\u001b[0m\u001b[0;34m\u001b[0m\u001b[0m\n\u001b[1;32m     10\u001b[0m         \u001b[0mmax_x\u001b[0m \u001b[0;34m=\u001b[0m \u001b[0mint\u001b[0m\u001b[0;34m(\u001b[0m \u001b[0mmax\u001b[0m\u001b[0;34m(\u001b[0m\u001b[0mx_vals\u001b[0m\u001b[0;34m)\u001b[0m\u001b[0;34m)\u001b[0m\u001b[0;34m\u001b[0m\u001b[0m\n",
      "\u001b[0;31mTypeError\u001b[0m: list indices must be integers, not tuple"
     ]
    }
   ],
   "source": [
    "get_mask_from_vertices( [[25., 50.],[50., 40.],[25., 75.]])"
   ]
  },
  {
   "cell_type": "code",
   "execution_count": 298,
   "metadata": {
    "scrolled": true
   },
   "outputs": [
    {
     "data": {
      "image/png": "[encoded data removed]",
      "text/plain": [
       "<matplotlib.figure.Figure at 0x7f266da728d0>"
      ]
     },
     "metadata": {},
     "output_type": "display_data"
    },
    {
     "data": {
      "text/plain": [
       "array([[False, False, False, ..., False, False, False],\n",
       "       [False, False, False, ..., False, False, False],\n",
       "       [False, False, False, ..., False, False, False],\n",
       "       ...,\n",
       "       [ True,  True,  True, ..., False, False, False],\n",
       "       [False, False, False, ..., False, False, False],\n",
       "       [ True,  True, False, ..., False, False, False]])"
      ]
     },
     "execution_count": 298,
     "metadata": {},
     "output_type": "execute_result"
    }
   ],
   "source": [
    "get_mask_from_vertices( [[25., 50.],[50., 40.],[25., 75.]])"
   ]
  },
  {
   "cell_type": "code",
   "execution_count": 293,
   "metadata": {},
   "outputs": [
    {
     "data": {
      "image/png": "[encoded data removed]",
      "text/plain": [
       "<matplotlib.figure.Figure at 0x7f266d6dd950>"
      ]
     },
     "metadata": {},
     "output_type": "display_data"
    },
    {
     "data": {
      "text/plain": [
       "array([[False, False, False, ..., False, False, False],\n",
       "       [False, False, False, ..., False, False, False],\n",
       "       [False, False, False, ..., False, False, False],\n",
       "       ...,\n",
       "       [ True,  True,  True, ..., False, False, False],\n",
       "       [False, False, False, ..., False, False, False],\n",
       "       [ True,  True, False, ..., False, False, False]])"
      ]
     },
     "execution_count": 293,
     "metadata": {},
     "output_type": "execute_result"
    }
   ],
   "source": [
    "get_mask_from_vertices( mapping_pts2 )"
   ]
  },
  {
   "cell_type": "code",
   "execution_count": 289,
   "metadata": {},
   "outputs": [
    {
     "data": {
      "image/png": "[encoded data removed]",
      "text/plain": [
       "<matplotlib.figure.Figure at 0x7f266d9c7cd0>"
      ]
     },
     "metadata": {},
     "output_type": "display_data"
    },
    {
     "data": {
      "text/plain": [
       "array([[False, False, False, ..., False, False, False],\n",
       "       [False, False, False, ..., False, False, False],\n",
       "       [False, False, False, ..., False, False, False],\n",
       "       ...,\n",
       "       [False, False, False, ..., False, False, False],\n",
       "       [False, False, False, ..., False, False, False],\n",
       "       [False, False, False, ..., False, False, False]])"
      ]
     },
     "execution_count": 289,
     "metadata": {},
     "output_type": "execute_result"
    }
   ],
   "source": [
    "get_mask_from_vertices( [[25., 50.],[50., 40.],[25., 75.]])"
   ]
  },
  {
   "cell_type": "code",
   "execution_count": 285,
   "metadata": {},
   "outputs": [
    {
     "data": {
      "image/png": "[encoded data removed]",
      "text/plain": [
       "<matplotlib.figure.Figure at 0x7f266d8381d0>"
      ]
     },
     "metadata": {},
     "output_type": "display_data"
    },
    {
     "data": {
      "text/plain": [
       "<matplotlib.image.AxesImage at 0x7f266db1fed0>"
      ]
     },
     "execution_count": 285,
     "metadata": {},
     "output_type": "execute_result"
    },
    {
     "data": {
      "image/png": "[encoded data removed]",
      "text/plain": [
       "<matplotlib.figure.Figure at 0x7f266fc143d0>"
      ]
     },
     "metadata": {},
     "output_type": "display_data"
    }
   ],
   "source": [
    "plt.imshow(get_mask_from_vertices( mapping_pts2))"
   ]
  },
  {
   "cell_type": "code",
   "execution_count": 287,
   "metadata": {},
   "outputs": [
    {
     "data": {
      "image/png": "[encoded data removed]",
      "text/plain": [
       "<matplotlib.figure.Figure at 0x7f266d981dd0>"
      ]
     },
     "metadata": {},
     "output_type": "display_data"
    },
    {
     "data": {
      "text/plain": [
       "array([[False, False, False, ..., False, False, False],\n",
       "       [False, False, False, ..., False, False, False],\n",
       "       [False, False, False, ..., False, False, False],\n",
       "       ...,\n",
       "       [False, False, False, ..., False, False, False],\n",
       "       [False, False, False, ..., False, False, False],\n",
       "       [False, False, False, ..., False, False, False]])"
      ]
     },
     "execution_count": 287,
     "metadata": {},
     "output_type": "execute_result"
    }
   ],
   "source": [
    "get_mask_from_vertices( [[50., 40.],[75., 50.],[75., 25.]])"
   ]
  },
  {
   "cell_type": "code",
   "execution_count": 424,
   "metadata": {},
   "outputs": [
    {
     "data": {
      "text/plain": [
       "<matplotlib.image.AxesImage at 0x7f266dbee350>"
      ]
     },
     "execution_count": 424,
     "metadata": {},
     "output_type": "execute_result"
    },
    {
     "data": {
      "image/png": "[encoded data removed]",
      "text/plain": [
       "<matplotlib.figure.Figure at 0x7f266e938b10>"
      ]
     },
     "metadata": {},
     "output_type": "display_data"
    }
   ],
   "source": [
    "plt.imshow( volume[:,:,z_plane] )"
   ]
  },
  {
   "cell_type": "code",
   "execution_count": 273,
   "metadata": {},
   "outputs": [
    {
     "data": {
      "text/plain": [
       "<matplotlib.image.AxesImage at 0x7f266dee3110>"
      ]
     },
     "execution_count": 273,
     "metadata": {},
     "output_type": "execute_result"
    },
    {
     "data": {
      "image/png": "[encoded data removed]",
      "text/plain": [
       "<matplotlib.figure.Figure at 0x7f266e90e5d0>"
      ]
     },
     "metadata": {},
     "output_type": "display_data"
    }
   ],
   "source": [
    "plt.imshow( volume_copy[:,:,z_plane] )"
   ]
  },
  {
   "cell_type": "code",
   "execution_count": 269,
   "metadata": {
    "scrolled": true
   },
   "outputs": [
    {
     "data": {
      "text/plain": [
       "<matplotlib.image.AxesImage at 0x7f266e93ad50>"
      ]
     },
     "execution_count": 269,
     "metadata": {},
     "output_type": "execute_result"
    },
    {
     "data": {
      "image/png": "[encoded data removed]",
      "text/plain": [
       "<matplotlib.figure.Figure at 0x7f266f341cd0>"
      ]
     },
     "metadata": {},
     "output_type": "display_data"
    }
   ],
   "source": [
    "plt.imshow(volume_copy[42:55,42:55,z_plane])"
   ]
  },
  {
   "cell_type": "code",
   "execution_count": 254,
   "metadata": {},
   "outputs": [
    {
     "data": {
      "text/plain": [
       "<matplotlib.image.AxesImage at 0x7f266f68bb90>"
      ]
     },
     "execution_count": 254,
     "metadata": {},
     "output_type": "execute_result"
    },
    {
     "data": {
      "image/png": "[encoded data removed]",
      "text/plain": [
       "<matplotlib.figure.Figure at 0x7f266f908ad0>"
      ]
     },
     "metadata": {},
     "output_type": "display_data"
    }
   ],
   "source": [
    "mask1 = get_mask_from_vertices( [[50., 40.], [75., 50.], [50., 75.]])\n",
    "mask2 = get_mask_from_vertices( [[25., 50.], [50., 40.], [50., 25.]])\n",
    "plt.imshow(np.add(mask1,mask2))"
   ]
  },
  {
   "cell_type": "code",
   "execution_count": 233,
   "metadata": {},
   "outputs": [
    {
     "data": {
      "text/plain": [
       "False"
      ]
     },
     "execution_count": 233,
     "metadata": {},
     "output_type": "execute_result"
    }
   ],
   "source": [
    "np.add(mask1,mask2)[48,48]"
   ]
  },
  {
   "cell_type": "code",
   "execution_count": 234,
   "metadata": {},
   "outputs": [
    {
     "data": {
      "text/plain": [
       "<matplotlib.image.AxesImage at 0x7f266ed266d0>"
      ]
     },
     "execution_count": 234,
     "metadata": {},
     "output_type": "execute_result"
    },
    {
     "data": {
      "image/png": "[encoded data removed]",
      "text/plain": [
       "<matplotlib.figure.Figure at 0x7f26807c3c10>"
      ]
     },
     "metadata": {},
     "output_type": "display_data"
    }
   ],
   "source": [
    "plt.imshow(np.add(mask1,mask2)[42:50,42:50])"
   ]
  },
  {
   "cell_type": "code",
   "execution_count": 235,
   "metadata": {},
   "outputs": [
    {
     "data": {
      "text/plain": [
       "<matplotlib.image.AxesImage at 0x7f266ee17990>"
      ]
     },
     "execution_count": 235,
     "metadata": {},
     "output_type": "execute_result"
    },
    {
     "data": {
      "image/png": "[encoded data removed]",
      "text/plain": [
       "<matplotlib.figure.Figure at 0x7f266fee6250>"
      ]
     },
     "metadata": {},
     "output_type": "display_data"
    }
   ],
   "source": [
    "plt.imshow(volume_copy[42:50,42:50,1])"
   ]
  },
  {
   "cell_type": "code",
   "execution_count": 301,
   "metadata": {},
   "outputs": [],
   "source": [
    "def signed_area(pr2):\n",
    "    \"\"\"\n",
    "     Return the signed area enclosed by a ring using the linear time\n",
    "     algorithm at http://www.cgafaq.info/wiki/Polygon_Area. A value >= 0\n",
    "     indicates a counter-clockwise oriented ring.\n",
    "    \"\"\"\n",
    "    xs, ys = map(list, zip(*pr2))\n",
    "    xs.append(xs[1])\n",
    "    ys.append(ys[1])\n",
    "    return sum(xs[i]*(ys[i+1]-ys[i-1]) for i in range(1, len(pr2)))/2.0\n",
    "\n",
    "def get_mask_from_vertices( tupVerts ):\n",
    "    from matplotlib.path import Path\n",
    "    \n",
    "    clockwise = np.sign( signed_area(tupVerts) )\n",
    "    \n",
    "    # Is a 2D triangle\n",
    "    if np.shape(tupVerts)==(3,2):\n",
    "        x_vals = [tupVerts[0,0],tupVerts[1,0],tupVerts[2,0]]\n",
    "        y_vals = [tupVerts[0,1],tupVerts[1,1],tupVerts[2,1]]\n",
    "        max_x = int( max(x_vals))\n",
    "        min_x = int( min(x_vals))\n",
    "        max_y = int( max(y_vals))\n",
    "        min_y = int( min(y_vals))\n",
    "\n",
    "    x, y = np.meshgrid(np.arange(max_x), np.arange(max_y)) # make a canvas with coordinates\n",
    "    x, y = x.flatten(), y.flatten()\n",
    "    points = np.vstack((x,y)).T \n",
    "\n",
    "    p = Path(tupVerts) # make a polygon\n",
    "    grid = p.contains_points(points, radius=0*clockwise)\n",
    "    mask = grid.reshape( max_x, max_y ) # now you have a mask with points inside a polygon\n",
    "    plt.imshow(mask)\n",
    "    plt.show()\n",
    "    return mask"
   ]
  },
  {
   "cell_type": "code",
   "execution_count": 208,
   "metadata": {},
   "outputs": [
    {
     "data": {
      "text/plain": [
       "-625.0"
      ]
     },
     "execution_count": 208,
     "metadata": {},
     "output_type": "execute_result"
    }
   ],
   "source": [
    "signed_area([[25., 50.], [50., 45.], [50., 25.]])"
   ]
  },
  {
   "cell_type": "code",
   "execution_count": 200,
   "metadata": {},
   "outputs": [
    {
     "data": {
      "text/plain": [
       "1125.0"
      ]
     },
     "execution_count": 200,
     "metadata": {},
     "output_type": "execute_result"
    }
   ],
   "source": [
    "signed_area(mapping_pts2)"
   ]
  },
  {
   "cell_type": "code",
   "execution_count": null,
   "metadata": {
    "collapsed": true
   },
   "outputs": [],
   "source": []
  }
 ],
 "metadata": {
  "kernelspec": {
   "display_name": "Python 2",
   "language": "python",
   "name": "python2"
  },
  "language_info": {
   "codemirror_mode": {
    "name": "ipython",
    "version": 2
   },
   "file_extension": ".py",
   "mimetype": "text/x-python",
   "name": "python",
   "nbconvert_exporter": "python",
   "pygments_lexer": "ipython2",
   "version": "2.7.12"
  }
 },
 "nbformat": 4,
 "nbformat_minor": 2
}
