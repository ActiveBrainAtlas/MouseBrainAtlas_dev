{
 "cells": [
  {
   "cell_type": "code",
   "execution_count": 6,
   "metadata": {},
   "outputs": [
    {
     "name": "stdout",
     "output_type": "stream",
     "text": [
      "upload: ../../../../../media/alexn/BstemAtlasDataBackup/neuroglancer_volumes/MD585/human_annotation/structure_volumes_5um/3N_L_volume.npy to s3://test-bucket-sid/alex_neuroglancer_volumes/MD585/structure_volumes_5um/3N_L_volume.npy\n",
      "upload: ../../../../../media/alexn/BstemAtlasDataBackup/neuroglancer_volumes/MD585/human_annotation/structure_volumes_5um/10N_L_volume.npy to s3://test-bucket-sid/alex_neuroglancer_volumes/MD585/structure_volumes_5um/10N_L_volume.npy\n",
      "upload: ../../../../../media/alexn/BstemAtlasDataBackup/neuroglancer_volumes/MD585/human_annotation/structure_volumes_5um/3N_R_volume.npy to s3://test-bucket-sid/alex_neuroglancer_volumes/MD585/structure_volumes_5um/3N_R_volume.npy\n",
      "upload: ../../../../../media/alexn/BstemAtlasDataBackup/neuroglancer_volumes/MD585/human_annotation/structure_volumes_5um/4N_L_volume.npy to s3://test-bucket-sid/alex_neuroglancer_volumes/MD585/structure_volumes_5um/4N_L_volume.npy\n",
      "upload: ../../../../../media/alexn/BstemAtlasDataBackup/neuroglancer_volumes/MD585/human_annotation/structure_volumes_5um/4N_R_volume.npy to s3://test-bucket-sid/alex_neuroglancer_volumes/MD585/structure_volumes_5um/4N_R_volume.npy\n",
      "upload: ../../../../../media/alexn/BstemAtlasDataBackup/neuroglancer_volumes/MD585/human_annotation/structure_volumes_5um/5N_L_volume.npy to s3://test-bucket-sid/alex_neuroglancer_volumes/MD585/structure_volumes_5um/5N_L_volume.npy\n",
      "upload: ../../../../../media/alexn/BstemAtlasDataBackup/neuroglancer_volumes/MD585/human_annotation/structure_volumes_5um/10N_R_volume.npy to s3://test-bucket-sid/alex_neuroglancer_volumes/MD585/structure_volumes_5um/10N_R_volume.npy\n",
      "upload: ../../../../../media/alexn/BstemAtlasDataBackup/neuroglancer_volumes/MD585/human_annotation/structure_volumes_5um/12N_volume.npy to s3://test-bucket-sid/alex_neuroglancer_volumes/MD585/structure_volumes_5um/12N_volume.npy\n",
      "upload: ../../../../../media/alexn/BstemAtlasDataBackup/neuroglancer_volumes/MD585/human_annotation/structure_volumes_5um/6N_L_volume.npy to s3://test-bucket-sid/alex_neuroglancer_volumes/MD585/structure_volumes_5um/6N_L_volume.npy\n",
      "upload: ../../../../../media/alexn/BstemAtlasDataBackup/neuroglancer_volumes/MD585/human_annotation/structure_volumes_5um/6N_R_volume.npy to s3://test-bucket-sid/alex_neuroglancer_volumes/MD585/structure_volumes_5um/6N_R_volume.npy\n",
      "upload: ../../../../../media/alexn/BstemAtlasDataBackup/neuroglancer_volumes/MD585/human_annotation/structure_volumes_5um/5N_R_volume.npy to s3://test-bucket-sid/alex_neuroglancer_volumes/MD585/structure_volumes_5um/5N_R_volume.npy\n",
      "upload: ../../../../../media/alexn/BstemAtlasDataBackup/neuroglancer_volumes/MD585/human_annotation/structure_volumes_5um/7N_L_volume.npy to s3://test-bucket-sid/alex_neuroglancer_volumes/MD585/structure_volumes_5um/7N_L_volume.npy\n",
      "upload: ../../../../../media/alexn/BstemAtlasDataBackup/neuroglancer_volumes/MD585/human_annotation/structure_volumes_5um/7n_L_volume.npy to s3://test-bucket-sid/alex_neuroglancer_volumes/MD585/structure_volumes_5um/7n_L_volume.npy\n",
      "upload: ../../../../../media/alexn/BstemAtlasDataBackup/neuroglancer_volumes/MD585/human_annotation/structure_volumes_5um/Amb_L_volume.npy to s3://test-bucket-sid/alex_neuroglancer_volumes/MD585/structure_volumes_5um/Amb_L_volume.npy\n",
      "upload: ../../../../../media/alexn/BstemAtlasDataBackup/neuroglancer_volumes/MD585/human_annotation/structure_volumes_5um/7N_R_volume.npy to s3://test-bucket-sid/alex_neuroglancer_volumes/MD585/structure_volumes_5um/7N_R_volume.npy\n",
      "upload: ../../../../../media/alexn/BstemAtlasDataBackup/neuroglancer_volumes/MD585/human_annotation/structure_volumes_5um/AP_volume.npy to s3://test-bucket-sid/alex_neuroglancer_volumes/MD585/structure_volumes_5um/AP_volume.npy\n",
      "upload: ../../../../../media/alexn/BstemAtlasDataBackup/neuroglancer_volumes/MD585/human_annotation/structure_volumes_5um/7n_R_volume.npy to s3://test-bucket-sid/alex_neuroglancer_volumes/MD585/structure_volumes_5um/7n_R_volume.npy\n",
      "upload: ../../../../../media/alexn/BstemAtlasDataBackup/neuroglancer_volumes/MD585/human_annotation/structure_volumes_5um/DC_L_volume.npy to s3://test-bucket-sid/alex_neuroglancer_volumes/MD585/structure_volumes_5um/DC_L_volume.npy\n",
      "upload: ../../../../../media/alexn/BstemAtlasDataBackup/neuroglancer_volumes/MD585/human_annotation/structure_volumes_5um/LC_L_volume.npy to s3://test-bucket-sid/alex_neuroglancer_volumes/MD585/structure_volumes_5um/LC_L_volume.npy\n",
      "upload: ../../../../../media/alexn/BstemAtlasDataBackup/neuroglancer_volumes/MD585/human_annotation/structure_volumes_5um/IC_volume.npy to s3://test-bucket-sid/alex_neuroglancer_volumes/MD585/structure_volumes_5um/IC_volume.npy\n",
      "upload: ../../../../../media/alexn/BstemAtlasDataBackup/neuroglancer_volumes/MD585/human_annotation/structure_volumes_5um/Amb_R_volume.npy to s3://test-bucket-sid/alex_neuroglancer_volumes/MD585/structure_volumes_5um/Amb_R_volume.npy\n",
      "upload: ../../../../../media/alexn/BstemAtlasDataBackup/neuroglancer_volumes/MD585/human_annotation/structure_volumes_5um/PBG_L_volume.npy to s3://test-bucket-sid/alex_neuroglancer_volumes/MD585/structure_volumes_5um/PBG_L_volume.npy\n",
      "upload: ../../../../../media/alexn/BstemAtlasDataBackup/neuroglancer_volumes/MD585/human_annotation/structure_volumes_5um/LC_R_volume.npy to s3://test-bucket-sid/alex_neuroglancer_volumes/MD585/structure_volumes_5um/LC_R_volume.npy\n",
      "upload: ../../../../../media/alexn/BstemAtlasDataBackup/neuroglancer_volumes/MD585/human_annotation/structure_volumes_5um/DC_R_volume.npy to s3://test-bucket-sid/alex_neuroglancer_volumes/MD585/structure_volumes_5um/DC_R_volume.npy\n",
      "upload: ../../../../../media/alexn/BstemAtlasDataBackup/neuroglancer_volumes/MD585/human_annotation/structure_volumes_5um/LRt_L_volume.npy to s3://test-bucket-sid/alex_neuroglancer_volumes/MD585/structure_volumes_5um/LRt_L_volume.npy\n",
      "upload: ../../../../../media/alexn/BstemAtlasDataBackup/neuroglancer_volumes/MD585/human_annotation/structure_volumes_5um/PBG_R_volume.npy to s3://test-bucket-sid/alex_neuroglancer_volumes/MD585/structure_volumes_5um/PBG_R_volume.npy\n",
      "upload: ../../../../../media/alexn/BstemAtlasDataBackup/neuroglancer_volumes/MD585/human_annotation/structure_volumes_5um/Pn_L_volume.npy to s3://test-bucket-sid/alex_neuroglancer_volumes/MD585/structure_volumes_5um/Pn_L_volume.npy\n",
      "upload: ../../../../../media/alexn/BstemAtlasDataBackup/neuroglancer_volumes/MD585/human_annotation/structure_volumes_5um/Pn_R_volume.npy to s3://test-bucket-sid/alex_neuroglancer_volumes/MD585/structure_volumes_5um/Pn_R_volume.npy\n",
      "upload: ../../../../../media/alexn/BstemAtlasDataBackup/neuroglancer_volumes/MD585/human_annotation/structure_volumes_5um/RMC_L_volume.npy to s3://test-bucket-sid/alex_neuroglancer_volumes/MD585/structure_volumes_5um/RMC_L_volume.npy\n",
      "upload: ../../../../../media/alexn/BstemAtlasDataBackup/neuroglancer_volumes/MD585/human_annotation/structure_volumes_5um/RMC_R_volume.npy to s3://test-bucket-sid/alex_neuroglancer_volumes/MD585/structure_volumes_5um/RMC_R_volume.npy\n",
      "upload: ../../../../../media/alexn/BstemAtlasDataBackup/neuroglancer_volumes/MD585/human_annotation/structure_volumes_5um/SNC_L_volume.npy to s3://test-bucket-sid/alex_neuroglancer_volumes/MD585/structure_volumes_5um/SNC_L_volume.npy\n",
      "upload: ../../../../../media/alexn/BstemAtlasDataBackup/neuroglancer_volumes/MD585/human_annotation/structure_volumes_5um/RtTg_volume.npy to s3://test-bucket-sid/alex_neuroglancer_volumes/MD585/structure_volumes_5um/RtTg_volume.npy\n",
      "upload: ../../../../../media/alexn/BstemAtlasDataBackup/neuroglancer_volumes/MD585/human_annotation/structure_volumes_5um/SC_volume.npy to s3://test-bucket-sid/alex_neuroglancer_volumes/MD585/structure_volumes_5um/SC_volume.npy\n",
      "upload: ../../../../../media/alexn/BstemAtlasDataBackup/neuroglancer_volumes/MD585/human_annotation/structure_volumes_5um/LRt_R_volume.npy to s3://test-bucket-sid/alex_neuroglancer_volumes/MD585/structure_volumes_5um/LRt_R_volume.npy\n",
      "upload: ../../../../../media/alexn/BstemAtlasDataBackup/neuroglancer_volumes/MD585/human_annotation/structure_volumes_5um/SNC_R_volume.npy to s3://test-bucket-sid/alex_neuroglancer_volumes/MD585/structure_volumes_5um/SNC_R_volume.npy\n"
     ]
    },
    {
     "name": "stdout",
     "output_type": "stream",
     "text": [
      "upload: ../../../../../media/alexn/BstemAtlasDataBackup/neuroglancer_volumes/MD585/human_annotation/structure_volumes_5um/SNR_L_volume.npy to s3://test-bucket-sid/alex_neuroglancer_volumes/MD585/structure_volumes_5um/SNR_L_volume.npy\n",
      "upload: ../../../../../media/alexn/BstemAtlasDataBackup/neuroglancer_volumes/MD585/human_annotation/structure_volumes_5um/Sp5C_L_volume.npy to s3://test-bucket-sid/alex_neuroglancer_volumes/MD585/structure_volumes_5um/Sp5C_L_volume.npy\n",
      "upload: ../../../../../media/alexn/BstemAtlasDataBackup/neuroglancer_volumes/MD585/human_annotation/structure_volumes_5um/SNR_R_volume.npy to s3://test-bucket-sid/alex_neuroglancer_volumes/MD585/structure_volumes_5um/SNR_R_volume.npy\n",
      "upload: ../../../../../media/alexn/BstemAtlasDataBackup/neuroglancer_volumes/MD585/human_annotation/structure_volumes_5um/Sp5I_L_volume.npy to s3://test-bucket-sid/alex_neuroglancer_volumes/MD585/structure_volumes_5um/Sp5I_L_volume.npy\n",
      "upload: ../../../../../media/alexn/BstemAtlasDataBackup/neuroglancer_volumes/MD585/human_annotation/structure_volumes_5um/Sp5O_L_volume.npy to s3://test-bucket-sid/alex_neuroglancer_volumes/MD585/structure_volumes_5um/Sp5O_L_volume.npy\n",
      "upload: ../../../../../media/alexn/BstemAtlasDataBackup/neuroglancer_volumes/MD585/human_annotation/structure_volumes_5um/Tz_L_volume.npy to s3://test-bucket-sid/alex_neuroglancer_volumes/MD585/structure_volumes_5um/Tz_L_volume.npy\n",
      "upload: ../../../../../media/alexn/BstemAtlasDataBackup/neuroglancer_volumes/MD585/human_annotation/structure_volumes_5um/VCA_L_volume.npy to s3://test-bucket-sid/alex_neuroglancer_volumes/MD585/structure_volumes_5um/VCA_L_volume.npy\n",
      "upload: ../../../../../media/alexn/BstemAtlasDataBackup/neuroglancer_volumes/MD585/human_annotation/structure_volumes_5um/Tz_R_volume.npy to s3://test-bucket-sid/alex_neuroglancer_volumes/MD585/structure_volumes_5um/Tz_R_volume.npy\n",
      "upload: ../../../../../media/alexn/BstemAtlasDataBackup/neuroglancer_volumes/MD585/human_annotation/structure_volumes_5um/Sp5C_R_volume.npy to s3://test-bucket-sid/alex_neuroglancer_volumes/MD585/structure_volumes_5um/Sp5C_R_volume.npy\n",
      "upload: ../../../../../media/alexn/BstemAtlasDataBackup/neuroglancer_volumes/MD585/human_annotation/structure_volumes_5um/VCP_L_volume.npy to s3://test-bucket-sid/alex_neuroglancer_volumes/MD585/structure_volumes_5um/VCP_L_volume.npy\n",
      "upload: ../../../../../media/alexn/BstemAtlasDataBackup/neuroglancer_volumes/MD585/human_annotation/structure_volumes_5um/Sp5I_R_volume.npy to s3://test-bucket-sid/alex_neuroglancer_volumes/MD585/structure_volumes_5um/Sp5I_R_volume.npy\n",
      "upload: ../../../../../media/alexn/BstemAtlasDataBackup/neuroglancer_volumes/MD585/human_annotation/structure_volumes_5um/Sp5O_R_volume.npy to s3://test-bucket-sid/alex_neuroglancer_volumes/MD585/structure_volumes_5um/Sp5O_R_volume.npy\n",
      "upload: ../../../../../media/alexn/BstemAtlasDataBackup/neuroglancer_volumes/MD585/human_annotation/structure_volumes_5um/VLL_L_volume.npy to s3://test-bucket-sid/alex_neuroglancer_volumes/MD585/structure_volumes_5um/VLL_L_volume.npy\n",
      "upload: ../../../../../media/alexn/BstemAtlasDataBackup/neuroglancer_volumes/MD585/human_annotation/structure_volumes_5um/VCA_R_volume.npy to s3://test-bucket-sid/alex_neuroglancer_volumes/MD585/structure_volumes_5um/VCA_R_volume.npy\n",
      "upload: ../../../../../media/alexn/BstemAtlasDataBackup/neuroglancer_volumes/MD585/human_annotation/structure_volumes_5um/VLL_R_volume.npy to s3://test-bucket-sid/alex_neuroglancer_volumes/MD585/structure_volumes_5um/VLL_R_volume.npy\n",
      "upload: ../../../../../media/alexn/BstemAtlasDataBackup/neuroglancer_volumes/MD585/human_annotation/structure_volumes_5um/VCP_R_volume.npy to s3://test-bucket-sid/alex_neuroglancer_volumes/MD585/structure_volumes_5um/VCP_R_volume.npy\n"
     ]
    }
   ],
   "source": [
    "! aws s3 cp --recursive /media/alexn/BstemAtlasDataBackup/neuroglancer_volumes/MD585/human_annotation/structure_volumes_5um/ s3://test-bucket-sid/alex_neuroglancer_volumes/MD585/structure_volumes_5um/"
   ]
  },
  {
   "cell_type": "code",
   "execution_count": null,
   "metadata": {
    "collapsed": true
   },
   "outputs": [],
   "source": []
  },
  {
   "cell_type": "code",
   "execution_count": null,
   "metadata": {
    "collapsed": true
   },
   "outputs": [],
   "source": []
  },
  {
   "cell_type": "code",
   "execution_count": 5,
   "metadata": {
    "scrolled": false
   },
   "outputs": [
    {
     "ename": "ImportError",
     "evalue": "No module named neuroglancer_scripts.scripts",
     "output_type": "error",
     "traceback": [
      "\u001b[0;31m---------------------------------------------------------------------------\u001b[0m",
      "\u001b[0;31mImportError\u001b[0m                               Traceback (most recent call last)",
      "\u001b[0;32m<ipython-input-5-275c51839f21>\u001b[0m in \u001b[0;36m<module>\u001b[0;34m()\u001b[0m\n\u001b[0;32m----> 1\u001b[0;31m \u001b[0;32mfrom\u001b[0m \u001b[0mprecomputing_utilities\u001b[0m \u001b[0;32mimport\u001b[0m \u001b[0;34m*\u001b[0m\u001b[0;34m\u001b[0m\u001b[0m\n\u001b[0m",
      "\u001b[0;32m/home/alexn/brainDev/demo/neuroglancer_interface/precomputing_utilities.py\u001b[0m in \u001b[0;36m<module>\u001b[0;34m()\u001b[0m\n\u001b[1;32m     16\u001b[0m \u001b[0;32mimport\u001b[0m \u001b[0mboto3\u001b[0m\u001b[0;34m\u001b[0m\u001b[0m\n\u001b[1;32m     17\u001b[0m \u001b[0;32mfrom\u001b[0m \u001b[0mskimage\u001b[0m \u001b[0;32mimport\u001b[0m \u001b[0mio\u001b[0m\u001b[0;34m\u001b[0m\u001b[0m\n\u001b[0;32m---> 18\u001b[0;31m from neuroglancer_scripts.scripts import (generate_scales_info,\n\u001b[0m\u001b[1;32m     19\u001b[0m                                           \u001b[0mslices_to_precomputed\u001b[0m\u001b[0;34m,\u001b[0m\u001b[0;34m\u001b[0m\u001b[0m\n\u001b[1;32m     20\u001b[0m                                           compute_scales)\n",
      "\u001b[0;31mImportError\u001b[0m: No module named neuroglancer_scripts.scripts"
     ]
    }
   ],
   "source": [
    "from precomputing_utilities import *"
   ]
  },
  {
   "cell_type": "code",
   "execution_count": 6,
   "metadata": {},
   "outputs": [
    {
     "name": "stdout",
     "output_type": "stream",
     "text": [
      "/usr/local/lib/python2.7/dist-packages/pip/_vendor/requests/__init__.py:83: RequestsDependencyWarning: Old version of cryptography ([1, 2, 3]) may cause slowdown.\n",
      "  warnings.warn(warning, RequestsDependencyWarning)\n",
      "\u001b[33mDEPRECATION: Python 2.7 will reach the end of its life on January 1st, 2020. Please upgrade your Python as Python 2.7 won't be maintained after that date. A future version of pip will drop support for Python 2.7.\u001b[0m\n",
      "Collecting pathlib\n",
      "\u001b[?25l  Downloading https://files.pythonhosted.org/packages/ac/aa/9b065a76b9af472437a0059f77e8f962fe350438b927cb80184c32f075eb/pathlib-1.0.1.tar.gz (49kB)\n",
      "\u001b[K    100% |████████████████████████████████| 51kB 7.2MB/s ta 0:00:011\n",
      "\u001b[?25hBuilding wheels for collected packages: pathlib\n",
      "  Building wheel for pathlib (setup.py) ... \u001b[?25ldone\n",
      "\u001b[?25h  Stored in directory: /home/alexn/.cache/pip/wheels/f9/b2/4a/68efdfe5093638a9918bd1bb734af625526e849487200aa171\n",
      "Successfully built pathlib\n",
      "Installing collected packages: pathlib\n",
      "\u001b[31mCould not install packages due to an EnvironmentError: [Errno 13] Permission denied: '/usr/local/lib/python2.7/dist-packages/pathlib.pyc'\n",
      "Consider using the `--user` option or check the permissions.\n",
      "\u001b[0m\n"
     ]
    }
   ],
   "source": [
    "! pip install pathlib"
   ]
  },
  {
   "cell_type": "code",
   "execution_count": null,
   "metadata": {
    "collapsed": true
   },
   "outputs": [],
   "source": []
  }
 ],
 "metadata": {
  "kernelspec": {
   "display_name": "Python 2",
   "language": "python",
   "name": "python2"
  },
  "language_info": {
   "codemirror_mode": {
    "name": "ipython",
    "version": 2
   },
   "file_extension": ".py",
   "mimetype": "text/x-python",
   "name": "python",
   "nbconvert_exporter": "python",
   "pygments_lexer": "ipython2",
   "version": "2.7.12"
  }
 },
 "nbformat": 4,
 "nbformat_minor": 2
}
