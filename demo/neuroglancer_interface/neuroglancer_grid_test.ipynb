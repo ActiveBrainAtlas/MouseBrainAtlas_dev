{
 "cells": [
  {
   "cell_type": "code",
   "execution_count": 1,
   "metadata": {},
   "outputs": [],
   "source": [
    "import time\n",
    "\n",
    "import neuroglancer\n",
    "import numpy as np\n",
    "\n",
    "class InteractiveInference(object):\n",
    "    def __init__(self, cube):\n",
    "\n",
    "        viewer = self.viewer = neuroglancer.Viewer()\n",
    "        viewer.actions.add('move_left', self.move_cube_left)\n",
    "        viewer.actions.add('move_down', self.move_cube_down)\n",
    "        viewer.actions.add('move_right', self.move_cube_right)\n",
    "        viewer.actions.add('move_up', self.move_cube_up)\n",
    "        viewer.actions.add('morph_volume', self.morph_volume_layer)\n",
    "\n",
    "        self.cube = cube\n",
    "        self.off_x = 0\n",
    "        self.off_y = 0\n",
    "        self.off_z = 0\n",
    "        self.grid_layer = GridLayer(self.viewer)\n",
    "        self.cube_volm = neuroglancer.LocalVolume(data=self.cube, voxel_size=[10000, 10000, 10000], voxel_offset=[self.off_x, self.off_y, self.off_z])\n",
    "\n",
    "        with viewer.config_state.txn() as s:\n",
    "            s.input_event_bindings.data_view['shift+keyw'] = 'move_up'\n",
    "            s.input_event_bindings.data_view['shift+keys'] = 'move_down'\n",
    "            s.input_event_bindings.data_view['shift+keya'] = 'move_left'\n",
    "            s.input_event_bindings.data_view['shift+keyd'] = 'move_right'\n",
    "            s.input_event_bindings.data_view['shift+keyp'] = 'morph_volume'\n",
    "\n",
    "        with viewer.txn() as s:\n",
    "            s.layers['image'] = neuroglancer.ImageLayer(\n",
    "                source='precomputed://https://mousebrainatlas-datajoint-jp2k.s3.amazonaws.com/precomputed/MD585_fullres')\n",
    "            # Resets X/Y/Z plane orientation\n",
    "            s.navigation.pose.orientation = [0,0,0,1]\n",
    "            # Zooms out \n",
    "        #     s.navigation.zoomFactor = 10000 # If 4panel\n",
    "            s.navigation.zoomFactor = 5000 # If xy\n",
    "\n",
    "            # Resets 3D Viewer Orientation\n",
    "            s.perspectiveOrientation = [0,0,0,1]\n",
    "            # Zooms out\n",
    "            s.perspectiveZoom = 75000\n",
    "            \n",
    "            s.layers['cube'] = neuroglancer.ImageLayer(source=self.cube_volm)\n",
    "            s.layers['points'] = self.grid_layer.get_grid_layer()\n",
    "            # s.layers['points'] = neuroglancer.AnnotationLayer(voxel_size=[100000, 100000, 100000])\n",
    "\n",
    "    def move_cube_left(self, action_state):\n",
    "\n",
    "        self.off_x -= 10\n",
    "        cube_volm = neuroglancer.LocalVolume(data=self.cube, voxel_size=[10000, 10000, 10000],\n",
    "                                             voxel_offset=[self.off_x, self.off_y, self.off_z])\n",
    "        cube_layer = neuroglancer.SegmentationLayer(source=cube_volm)\n",
    "        with self.viewer.txn() as s:\n",
    "            s.layers['cube'] = cube_layer\n",
    "\n",
    "    def move_cube_right(self, action_state):\n",
    "        self.off_x += 10\n",
    "        cube_volm = neuroglancer.LocalVolume(data=self.cube, voxel_size=[10000, 10000, 10000],\n",
    "                                             voxel_offset=[self.off_x, self.off_y, self.off_z])\n",
    "        cube_layer = neuroglancer.SegmentationLayer(source=cube_volm)\n",
    "        with self.viewer.txn() as s:\n",
    "            s.layers['cube'] = cube_layer\n",
    "\n",
    "    def move_cube_up(self, action_state):\n",
    "        self.off_y -= 10\n",
    "        cube_volm = neuroglancer.LocalVolume(data=self.cube, voxel_size=[10000, 10000, 10000],\n",
    "                                             voxel_offset=[self.off_x, self.off_y, self.off_z])\n",
    "        cube_layer = neuroglancer.SegmentationLayer(source=cube_volm)\n",
    "        with self.viewer.txn() as s:\n",
    "            s.layers['cube'] = cube_layer\n",
    "\n",
    "    def move_cube_down(self, action_state):\n",
    "        self.off_y += 10\n",
    "        cube_volm = neuroglancer.LocalVolume(data=self.cube, voxel_size=[10000, 10000, 10000],\n",
    "                                             voxel_offset=[self.off_x, self.off_y, self.off_z])\n",
    "        cube_layer = neuroglancer.SegmentationLayer(source=cube_volm)\n",
    "        with self.viewer.txn() as s:\n",
    "            s.layers['cube'] = cube_layer\n",
    "            \n",
    "    def morph_volume_layer(self, action_state):\n",
    "        self.grid_layer.update_grid_dict()\n",
    "        grid_map = self.grid_layer.grid_dict # Gets grid_dict\n",
    "    \n",
    "        self.cube = update_volume( grid_map, self.cube )\n",
    "        cube_volm = neuroglancer.LocalVolume(data=self.cube, voxel_size=[10000, 10000, 10000],\n",
    "                                             voxel_offset=[self.off_x, self.off_y, self.off_z])\n",
    "        cube_layer = neuroglancer.SegmentationLayer(source=cube_volm)\n",
    "        with self.viewer.txn() as s:\n",
    "            s.layers['cube'] = cube_layer\n",
    "            \n",
    "            \n",
    "class GridLayer():\n",
    "    def __init__(self, viewer, shape=(80, 60, 50),  vox_size=(100000, 100000, 100000)):\n",
    "        self.vox_size = vox_size\n",
    "        self.shape = shape\n",
    "        self.jump_x = 15\n",
    "        self.jump_y = 15\n",
    "        self.jump_z = 20\n",
    "        self.viewer = viewer\n",
    "        self.grid_dict = {}\n",
    "        self.triangle_index_to_grid_pts = {}\n",
    "\n",
    "    def get_grid_layer(self):\n",
    "        grid_layer = neuroglancer.AnnotationLayer(voxel_size=self.vox_size)\n",
    "        # grid_array = np.empty(self.shape, dtype=object)\n",
    "\n",
    "        point_list = []\n",
    "\n",
    "        for i in range(0, self.shape[0], self.jump_x):\n",
    "            for j in range(0, self.shape[1], self.jump_y):\n",
    "                for k in range(0, self.shape[2], self.jump_z):\n",
    "                    self.grid_dict[repr((i, j, k))] = (i, j, k)\n",
    "                    point_list.append((i, j, k))\n",
    "\n",
    "        grid_layer.annotations = [neuroglancer.PointAnnotation(id=repr(pos), point=pos) for pos in point_list]\n",
    "\n",
    "        return grid_layer\n",
    "    \n",
    "    def update_grid_dict(self):\n",
    "        \"\"\"\n",
    "        Loads the current locations of every gridpoint and saves in the grid_dict format\n",
    "        \"\"\"\n",
    "        with self.viewer.txn() as s:\n",
    "            ss = s.layers['points']\n",
    "            grid_as_json = ss.to_json()\n",
    "            grid_list = grid_as_json['annotations']\n",
    "\n",
    "        for gridpnt in grid_list:\n",
    "            original_pos = gridpnt['id']\n",
    "            curr_pos = gridpnt['point']\n",
    "            self.grid_dict[original_pos] = tuple(curr_pos)\n",
    "\n",
    "    def print_coordiante(self):\n",
    "        if 'selectedAnnotation' in self.viewer.state.layers._layers[2]._json_data:\n",
    "            print(self.grid_dict[self.viewer.state.layers._layers[2]._json_data['selectedAnnotation']])\n",
    "            \n",
    "\n",
    "def update_volume( grid_map, volume ):\n",
    "    volume_shape = np.shape( volume )\n",
    "    \n",
    "    if grid_map['(0, 0, 0)'] == (0,0,0):\n",
    "        if volume[0,0,0] == 0:\n",
    "            new_volume = np.ones( volume_shape, dtype=np.uint8 )\n",
    "        elif volume[0,0,0] != 0:\n",
    "            new_volume = np.zeros( volume_shape, dtype=np.uint8 )\n",
    "        return new_volume\n",
    "    else:\n",
    "        return volume\n",
    "    \n",
    "    "
   ]
  },
  {
   "cell_type": "code",
   "execution_count": 2,
   "metadata": {},
   "outputs": [
    {
     "name": "stdout",
     "output_type": "stream",
     "text": [
      "http://132.239.73.85:35000/v/fe170061c575d10428f33570dd9b1dae81734e90/\n"
     ]
    }
   ],
   "source": [
    "def get_cube_test_volume():\n",
    "    cube = np.zeros((100, 100, 100), dtype=np.uint8)\n",
    "\n",
    "    cube[:, :, :10] = 1\n",
    "    cube[:, :, 90:100] = 1\n",
    "\n",
    "    cube[:10, :, :] = 1\n",
    "    cube[90:100, :, :] = 1\n",
    "\n",
    "    cube[:, :10, :] = 1\n",
    "    cube[:, 90:100, :] = 1\n",
    "    \n",
    "    return cube\n",
    "\n",
    "cube = get_cube_test_volume()\n",
    "\n",
    "neuroglancer.set_server_bind_address(bind_address='0.0.0.0', bind_port=35000)\n",
    "\n",
    "inf = InteractiveInference(cube)\n",
    "viewer = inf.viewer\n",
    "ip_name = 'ec2-52-53-248-156.us-west-1.compute.amazonaws.com'  ## Change for different machine\n",
    "ip_name = '132.239.73.85'  ## Change for different machine\n",
    "\n",
    "print('http://' + ip_name + ':' + viewer.get_viewer_url().split(':')[2])"
   ]
  },
  {
   "cell_type": "code",
   "execution_count": 76,
   "metadata": {},
   "outputs": [
    {
     "data": {
      "text/plain": [
       "{'(0, 0, 0)': [13.00509262084961, 5.022656440734863, -1.770879087814592e-08],\n",
       " '(0, 0, 20)': [0, 0, 20],\n",
       " '(0, 0, 40)': [0, 0, 40],\n",
       " '(0, 50, 0)': [0, 50, 0],\n",
       " '(0, 50, 20)': [0, 50, 20],\n",
       " '(0, 50, 40)': [0, 50, 40],\n",
       " '(50, 0, 0)': [50, 0, 0],\n",
       " '(50, 0, 20)': [50, 0, 20],\n",
       " '(50, 0, 40)': [50, 0, 40],\n",
       " '(50, 50, 0)': [50, 50, 0],\n",
       " '(50, 50, 20)': [50, 50, 20],\n",
       " '(50, 50, 40)': [50, 50, 40]}"
      ]
     },
     "execution_count": 76,
     "metadata": {},
     "output_type": "execute_result"
    }
   ],
   "source": [
    "inf.grid_layer.grid_dict"
   ]
  },
  {
   "cell_type": "code",
   "execution_count": 43,
   "metadata": {},
   "outputs": [
    {
     "data": {
      "text/plain": [
       "{'(0, 0, 0)': (16.3847713470459, 6.646653175354004, -7.223887266150086e-09),\n",
       " '(0, 0, 20)': (0, 0, 20),\n",
       " '(0, 0, 40)': (0, 0, 40),\n",
       " '(0, 50, 0)': (0, 50, 0),\n",
       " '(0, 50, 20)': (0, 50, 20),\n",
       " '(0, 50, 40)': (0, 50, 40),\n",
       " '(50, 0, 0)': (50, 0, 0),\n",
       " '(50, 0, 20)': (50, 0, 20),\n",
       " '(50, 0, 40)': (50, 0, 40),\n",
       " '(50, 50, 0)': (50, 50, 0),\n",
       " '(50, 50, 20)': (50, 50, 20),\n",
       " '(50, 50, 40)': (50, 50, 40)}"
      ]
     },
     "execution_count": 43,
     "metadata": {},
     "output_type": "execute_result"
    }
   ],
   "source": [
    "inf.grid_layer.grid_dict"
   ]
  },
  {
   "cell_type": "code",
   "execution_count": 6,
   "metadata": {},
   "outputs": [],
   "source": [
    "grid_dict = {}\n",
    "with inf.viewer.txn() as s:\n",
    "    ss = s.layers['points']\n",
    "    grid_as_json = ss.to_json()\n",
    "    grid_list = grid_as_json['annotations']\n",
    "    \n",
    "for gridpnt in grid_list:\n",
    "    original_pos = gridpnt['id']\n",
    "    curr_pos = gridpnt['point']\n",
    "    grid_dict[original_pos] = curr_pos"
   ]
  },
  {
   "cell_type": "code",
   "execution_count": 9,
   "metadata": {},
   "outputs": [
    {
     "data": {
      "text/plain": [
       "tuple"
      ]
     },
     "execution_count": 9,
     "metadata": {},
     "output_type": "execute_result"
    }
   ],
   "source": [
    "type((1,2))"
   ]
  },
  {
   "cell_type": "code",
   "execution_count": 10,
   "metadata": {},
   "outputs": [
    {
     "data": {
      "text/plain": [
       "(50, 50, 40)"
      ]
     },
     "execution_count": 10,
     "metadata": {},
     "output_type": "execute_result"
    }
   ],
   "source": [
    "tuple(curr_pos)"
   ]
  },
  {
   "cell_type": "code",
   "execution_count": 61,
   "metadata": {},
   "outputs": [
    {
     "data": {
      "text/plain": [
       "['__class__',\n",
       " '__deepcopy__',\n",
       " '__delattr__',\n",
       " '__doc__',\n",
       " '__format__',\n",
       " '__getattr__',\n",
       " '__getattribute__',\n",
       " '__hash__',\n",
       " '__init__',\n",
       " '__module__',\n",
       " '__new__',\n",
       " '__reduce__',\n",
       " '__reduce_ex__',\n",
       " '__repr__',\n",
       " '__setattr__',\n",
       " '__sizeof__',\n",
       " '__slots__',\n",
       " '__str__',\n",
       " '__subclasshook__',\n",
       " '_cached_wrappers',\n",
       " '_get_wrapped',\n",
       " '_json_data',\n",
       " '_lock',\n",
       " '_readonly',\n",
       " '_set_wrapped',\n",
       " 'layer',\n",
       " 'name',\n",
       " 'supports_readonly',\n",
       " 'to_json',\n",
       " 'visible']"
      ]
     },
     "execution_count": 61,
     "metadata": {},
     "output_type": "execute_result"
    }
   ],
   "source": [
    "dir(ss)"
   ]
  },
  {
   "cell_type": "markdown",
   "metadata": {},
   "source": [
    "# Grid Transform"
   ]
  },
  {
   "cell_type": "code",
   "execution_count": null,
   "metadata": {
    "collapsed": true
   },
   "outputs": [],
   "source": [
    "import cv2\n",
    "import matplotlib.pyplot as plt\n",
    "%matplotlib inline\n",
    "\n",
    "def convert_coor_xy_list_to_x_y_list( coordinates ):\n",
    "    x_coors = []\n",
    "    y_coors = []\n",
    "    for coor in coordinates:\n",
    "        y, x = coor\n",
    "        x_coors.append( int(x) )\n",
    "        y_coors.append( int(y) )\n",
    "    return [x_coors, y_coors]"
   ]
  },
  {
   "cell_type": "code",
   "execution_count": 5,
   "metadata": {
    "collapsed": true
   },
   "outputs": [],
   "source": [
    "test_matrix = np.zeros((10,10))\n",
    "for i in range(10):\n",
    "    test_matrix[i,i]=1\n",
    "    \n",
    "test_grid = [[0,0],[4,0],[9,0],[0,4],[4,4],[9,4],[0,9],[4,9],[9,9]]"
   ]
  },
  {
   "cell_type": "code",
   "execution_count": null,
   "metadata": {
    "collapsed": true
   },
   "outputs": [],
   "source": []
  },
  {
   "cell_type": "code",
   "execution_count": 160,
   "metadata": {},
   "outputs": [
    {
     "data": {
      "image/png": "[encoded data removed]",
      "text/plain": [
       "<matplotlib.figure.Figure at 0x7f27d08f7b10>"
      ]
     },
     "metadata": {},
     "output_type": "display_data"
    }
   ],
   "source": [
    "test_matrix = np.zeros((100,100))\n",
    "for i in range(100):\n",
    "    test_matrix[i,i]=1\n",
    "    \n",
    "test_grid = [[0,0],[4,0],[9,0],[0,4],[4,4],[9,4],[0,9],[4,9],[9,9]]\n",
    "\n",
    "img = test_matrix\n",
    "rows,cols = img.shape\n",
    "\n",
    "pts1 = np.float32([[0,0],[99,0],[0,99]]) # [x,y]\n",
    "pts2 = np.float32([[60,0],[99,0],[0,99]]) # [x,y]\n",
    "\n",
    "M = cv2.getAffineTransform(pts1,pts2)\n",
    "\n",
    "dst = cv2.warpAffine(img,M,(cols,rows))\n",
    "\n",
    "y_coors_1, x_coors_1 = convert_coor_xy_list_to_x_y_list( pts1 )\n",
    "plt.subplot(121),plt.imshow(img),plt.title('Input')\n",
    "plt.subplot(121),plt.scatter(x_coors_1,y_coors_1, c='r', s=30)\n",
    "y_coors_2, x_coors_2 = convert_coor_xy_list_to_x_y_list( pts2 )\n",
    "plt.subplot(122),plt.imshow(dst),plt.title('Output')\n",
    "plt.subplot(122),plt.scatter(x_coors_2,y_coors_2, c='r', s=30)\n",
    "plt.show()"
   ]
  },
  {
   "cell_type": "code",
   "execution_count": 163,
   "metadata": {},
   "outputs": [
    {
     "data": {
      "text/plain": [
       "{0: [[50, 100], [100, 100], [100, 50]],\n",
       " 1: [[0, 0], [50, 0], [0, 50]],\n",
       " 2: [[50, 50], [100, 50], [100, 0]],\n",
       " 3: [[50, 50], [100, 50], [50, 100]],\n",
       " 4: [[0, 100], [50, 100], [50, 50]],\n",
       " 5: [[0, 50], [50, 50], [50, 0]],\n",
       " 6: [[0, 50], [50, 50], [0, 100]],\n",
       " 7: [[50, 0], [100, 0], [50, 50]]}"
      ]
     },
     "execution_count": 163,
     "metadata": {},
     "output_type": "execute_result"
    }
   ],
   "source": [
    "grid_dict = {'(0, 0)': (0,0), '(0, 50)': (0,50), '(0, 100)': (0,100),\n",
    "             '(50, 0)': (50,0), '(50, 50)': (60,50), '(50, 100)': (50,100),\n",
    "             '(100, 0)': (100,0), '(100, 50)': (100,50), '(100, 100)': (100,100)}\n",
    "jump_x = 50\n",
    "jump_y = 50\n",
    "\n",
    "def get_triangle_indices_to_vertices( grid_dict, triangle_type='sawtooth' ):\n",
    "    \"\"\"\n",
    "    Sawtooth: Every point with two unique, adjacent points will create a triangle.\n",
    "    \"\"\"\n",
    "    \n",
    "    original_grid_coors = []\n",
    "    \n",
    "    for original_grid_pnt_str in grid_dict.keys():\n",
    "        # Convert the string-key into coordinate pair\n",
    "        original_grid_pnt_coors = original_grid_pnt_str.replace('(','').replace(')','').replace(' ','').split(',')\n",
    "        original_grid_pnt_coors = [int(original_grid_pnt_coors[0]), int(original_grid_pnt_coors[1])]\n",
    "        # Add the grid point coordinates to the list of original grid point coordinates\n",
    "        original_grid_coors.append( original_grid_pnt_coors )\n",
    "        \n",
    "    triangle_indices_to_vertices = {}\n",
    "    triangle_index = 0\n",
    "    \n",
    "    if triangle_type=='sawtooth':\n",
    "        for pnt in original_grid_coors:\n",
    "            right_gridpnt = list( np.add( pnt, [jump_x,0] ) )\n",
    "            down_gridpnt = list( np.add( pnt, [0,jump_y] ) )\n",
    "            \n",
    "            up_right_gridpnt = list( np.add( pnt, [jump_x,-jump_y] ) )\n",
    "            \n",
    "            # Check for RIGHT point and DOWN point\n",
    "            if (right_gridpnt in original_grid_coors) and (up_right_gridpnt in original_grid_coors):\n",
    "                triangle_indices_to_vertices[triangle_index] = [pnt, right_gridpnt, up_right_gridpnt]\n",
    "                triangle_index += 1\n",
    "\n",
    "            # Check for RIGHT point and RIGHT+UP point\n",
    "            if (right_gridpnt in original_grid_coors) and (down_gridpnt in original_grid_coors):\n",
    "                triangle_indices_to_vertices[triangle_index] = [pnt, right_gridpnt, down_gridpnt]\n",
    "                triangle_index += 1\n",
    "                \n",
    "    return triangle_indices_to_vertices\n",
    "\n",
    "get_triangle_indices_to_vertices( grid_dict, triangle_type='sawtooth' )"
   ]
  },
  {
   "cell_type": "code",
   "execution_count": 178,
   "metadata": {},
   "outputs": [
    {
     "name": "stdout",
     "output_type": "stream",
     "text": [
      "[[50, 50], [100, 50], [100, 0]]\n",
      "[[60, 50], [100, 50], [100, 0]]\n"
     ]
    },
    {
     "data": {
      "image/png": "[encoded data removed]",
      "text/plain": [
       "<matplotlib.figure.Figure at 0x7f27d10f8d50>"
      ]
     },
     "metadata": {},
     "output_type": "display_data"
    },
    {
     "name": "stdout",
     "output_type": "stream",
     "text": [
      "[[50, 50], [100, 50], [50, 100]]\n",
      "[[60, 50], [100, 50], [50, 100]]\n"
     ]
    },
    {
     "data": {
      "image/png": "[encoded data removed]",
      "text/plain": [
       "<matplotlib.figure.Figure at 0x7f27d07be810>"
      ]
     },
     "metadata": {},
     "output_type": "display_data"
    },
    {
     "name": "stdout",
     "output_type": "stream",
     "text": [
      "[[0, 100], [50, 100], [50, 50]]\n",
      "[[0, 100], [50, 100], [60, 50]]\n"
     ]
    },
    {
     "data": {
      "image/png": "[encoded data removed]",
      "text/plain": [
       "<matplotlib.figure.Figure at 0x7f27d089ec90>"
      ]
     },
     "metadata": {},
     "output_type": "display_data"
    },
    {
     "name": "stdout",
     "output_type": "stream",
     "text": [
      "[[0, 50], [50, 50], [50, 0]]\n",
      "[[0, 50], [60, 50], [50, 0]]\n"
     ]
    },
    {
     "data": {
      "image/png": "[encoded data removed]",
      "text/plain": [
       "<matplotlib.figure.Figure at 0x7f27d0dafa50>"
      ]
     },
     "metadata": {},
     "output_type": "display_data"
    },
    {
     "name": "stdout",
     "output_type": "stream",
     "text": [
      "[[0, 50], [50, 50], [0, 100]]\n",
      "[[0, 50], [60, 50], [0, 100]]\n"
     ]
    },
    {
     "data": {
      "image/png": "[encoded data removed]",
      "text/plain": [
       "<matplotlib.figure.Figure at 0x7f27d053a750>"
      ]
     },
     "metadata": {},
     "output_type": "display_data"
    },
    {
     "name": "stdout",
     "output_type": "stream",
     "text": [
      "[[50, 0], [100, 0], [50, 50]]\n",
      "[[50, 0], [100, 0], [60, 50]]\n"
     ]
    },
    {
     "data": {
      "image/png": "[encoded data removed]",
      "text/plain": [
       "<matplotlib.figure.Figure at 0x7f27d075c090>"
      ]
     },
     "metadata": {},
     "output_type": "display_data"
    }
   ],
   "source": [
    "triangle_indices_to_vertices = get_triangle_indices_to_vertices( grid_dict, triangle_type='sawtooth' )\n",
    "\n",
    "for grid1_triangle_vertices in triangle_indices_to_vertices.values():\n",
    "    triangle_is_distorted = False\n",
    "    # Check every vertex in the triangle, if any have been changed, then set\n",
    "    # `triangle_is_distorted` to True\n",
    "    for coordinate_pair in grid1_triangle_vertices:\n",
    "        grid1_coordinate_pair_string = str(tuple( coordinate_pair ))\n",
    "        grid2_coordinate_pair_string = str(grid_dict[grid1_coordinate_pair_string])\n",
    "        if grid2_coordinate_pair_string != grid1_coordinate_pair_string:\n",
    "            triangle_is_distorted = True\n",
    "            break\n",
    "    # If none of the 3 vertices have been changed, then continue to the next triangle\n",
    "    if not triangle_is_distorted:\n",
    "        continue\n",
    "    \n",
    "    # If the triangle *HAS BEEN DISTORTED*\n",
    "    large_num = 999999999 # an arbitrarily large number guaranteed to be overwritten by smaller numbers\n",
    "    grid1_min_max_x_y = [large_num,-1,large_num,-1] # minX, maxX, minY, maxY\n",
    "    grid2_min_max_x_y = [large_num,-1,large_num,-1] # minX, maxX, minY, maxY\n",
    "    # The for loop finds the grid2 vertices and put into this list\n",
    "    grid2_triangle_vertices = []\n",
    "    for grid1_coordinate_pair in grid1_triangle_vertices:\n",
    "        # Update the cropping box for the grid1 points (using min/max x/y values)\n",
    "        grid1_min_max_x_y[0] = min( grid1_min_max_x_y[0], grid1_coordinate_pair[0] )\n",
    "        grid1_min_max_x_y[1] = max( grid1_min_max_x_y[1], grid1_coordinate_pair[0] )\n",
    "        grid1_min_max_x_y[2] = min( grid1_min_max_x_y[2], grid1_coordinate_pair[1] )\n",
    "        grid1_min_max_x_y[3] = max( grid1_min_max_x_y[3], grid1_coordinate_pair[1] )\n",
    "        \n",
    "        # Add mapped (grid1->grid2) coordinates to the grid2 vertices list\n",
    "        grid1_coordinate_pair_string = str(tuple( grid1_coordinate_pair ))\n",
    "        grid2_triangle_vertices.append( list(grid_dict[grid1_coordinate_pair_string]) )\n",
    "        \n",
    "        grid2_coordinate_pair = list(grid_dict[grid1_coordinate_pair_string])\n",
    "        # Update the cropping box for the grid2 points (using min/max x/y values)\n",
    "        grid2_min_max_x_y[0] = min( grid2_min_max_x_y[0], grid2_coordinate_pair[0] )\n",
    "        grid2_min_max_x_y[1] = max( grid2_min_max_x_y[1], grid2_coordinate_pair[0] )\n",
    "        grid2_min_max_x_y[2] = min( grid2_min_max_x_y[2], grid2_coordinate_pair[1] )\n",
    "        grid2_min_max_x_y[3] = max( grid2_min_max_x_y[3], grid2_coordinate_pair[1] )\n",
    "       \n",
    "    print(grid1_triangle_vertices)\n",
    "    print(grid2_triangle_vertices)\n",
    "    # The affine transformation is computed using the vertices, which are relabeled as \"mapping points\"\n",
    "    mapping_pts1 = np.float32(grid1_triangle_vertices)\n",
    "    mapping_pts2 = np.float32(grid2_triangle_vertices)\n",
    "    \n",
    "    # Apply the affine transformation to the cropped img\n",
    "    M = cv2.getAffineTransform(mapping_pts1,mapping_pts2)\n",
    "    rows,cols = img.shape\n",
    "    cropped_img = np.zeros( (rows,cols) )\n",
    "    cropped_img[ grid1_min_max_x_y[2]:grid1_min_max_x_y[3], \\\n",
    "                 grid1_min_max_x_y[0]:grid1_min_max_x_y[1] ] = \\\n",
    "           img[ grid1_min_max_x_y[2]:grid1_min_max_x_y[3], \\\n",
    "                grid1_min_max_x_y[0]:grid1_min_max_x_y[1] ]\n",
    "    warped_img = cv2.warpAffine(cropped_img,M,(cols,rows))\n",
    "\n",
    "    y_coors_1, x_coors_1 = convert_coor_xy_list_to_x_y_list( mapping_pts1 )\n",
    "    plt.subplot(121),plt.imshow(cropped_img),plt.title('Input')\n",
    "    plt.subplot(121),plt.scatter(x_coors_1,y_coors_1, c='r', s=30)\n",
    "    y_coors_2, x_coors_2 = convert_coor_xy_list_to_x_y_list( mapping_pts2 )\n",
    "    plt.subplot(122),plt.imshow(warped_img),plt.title('Output')\n",
    "    plt.subplot(122),plt.scatter(x_coors_2,y_coors_2, c='r', s=30)\n",
    "    plt.show()"
   ]
  },
  {
   "cell_type": "code",
   "execution_count": 146,
   "metadata": {},
   "outputs": [
    {
     "data": {
      "text/plain": [
       "[(50, 100),\n",
       " (100, 100),\n",
       " (100, 50),\n",
       " (0, 0),\n",
       " (100, 0),\n",
       " (75, 75),\n",
       " (0, 100),\n",
       " (0, 50),\n",
       " (50, 0)]"
      ]
     },
     "execution_count": 146,
     "metadata": {},
     "output_type": "execute_result"
    }
   ],
   "source": [
    "grid_dict.values()"
   ]
  },
  {
   "cell_type": "code",
   "execution_count": null,
   "metadata": {
    "collapsed": true
   },
   "outputs": [],
   "source": []
  },
  {
   "cell_type": "code",
   "execution_count": null,
   "metadata": {
    "collapsed": true
   },
   "outputs": [],
   "source": []
  },
  {
   "cell_type": "code",
   "execution_count": null,
   "metadata": {
    "collapsed": true
   },
   "outputs": [],
   "source": []
  },
  {
   "cell_type": "code",
   "execution_count": null,
   "metadata": {
    "collapsed": true
   },
   "outputs": [],
   "source": []
  },
  {
   "cell_type": "code",
   "execution_count": 51,
   "metadata": {},
   "outputs": [
    {
     "data": {
      "text/plain": [
       "<matplotlib.image.AxesImage at 0x7f27d0f47850>"
      ]
     },
     "execution_count": 51,
     "metadata": {},
     "output_type": "execute_result"
    },
    {
     "data": {
      "image/png": "[encoded data removed]",
      "text/plain": [
       "<matplotlib.figure.Figure at 0x7f27d0cccd50>"
      ]
     },
     "metadata": {},
     "output_type": "display_data"
    }
   ],
   "source": [
    "from matplotlib.path import Path\n",
    "\n",
    "tupVerts = [(0,0),(100,100), (100,0)]\n",
    "\n",
    "x, y = np.meshgrid(np.arange(100), np.arange(100)) # make a canvas with coordinates\n",
    "x, y = x.flatten(), y.flatten()\n",
    "points = np.vstack((x,y)).T \n",
    "\n",
    "p = Path(tupVerts) # make a polygon\n",
    "grid = p.contains_points(points)\n",
    "mask = grid.reshape(100,100) # now you have a mask with points inside a polygon\n",
    "plt.imshow(mask)"
   ]
  },
  {
   "cell_type": "code",
   "execution_count": 180,
   "metadata": {},
   "outputs": [],
   "source": [
    "def get_mask_from_vertices( tupVerts ):\n",
    "    \n",
    "    from matplotlib.path import Path\n",
    "\n",
    "#     tupVerts = [[0,0],[100,100], [100,0]]\n",
    "\n",
    "    x, y = np.meshgrid(np.arange(100), np.arange(100)) # make a canvas with coordinates\n",
    "    x, y = x.flatten(), y.flatten()\n",
    "    points = np.vstack((x,y)).T \n",
    "\n",
    "    p = Path(tupVerts) # make a polygon\n",
    "    grid = p.contains_points(points)\n",
    "    mask = grid.reshape(100,100) # now you have a mask with points inside a polygon\n",
    "    plt.imshow(mask)"
   ]
  },
  {
   "cell_type": "code",
   "execution_count": 181,
   "metadata": {},
   "outputs": [
    {
     "data": {
      "image/png": "[encoded data removed]",
      "text/plain": [
       "<matplotlib.figure.Figure at 0x7f282bc7d450>"
      ]
     },
     "metadata": {},
     "output_type": "display_data"
    }
   ],
   "source": [
    "get_mask_from_vertices( [[0,0],[1000,100], [100,0]] )"
   ]
  },
  {
   "cell_type": "code",
   "execution_count": null,
   "metadata": {
    "collapsed": true
   },
   "outputs": [],
   "source": []
  }
 ],
 "metadata": {
  "kernelspec": {
   "display_name": "Python 2",
   "language": "python",
   "name": "python2"
  },
  "language_info": {
   "codemirror_mode": {
    "name": "ipython",
    "version": 2
   },
   "file_extension": ".py",
   "mimetype": "text/x-python",
   "name": "python",
   "nbconvert_exporter": "python",
   "pygments_lexer": "ipython2",
   "version": "2.7.12"
  }
 },
 "nbformat": 4,
 "nbformat_minor": 2
}
