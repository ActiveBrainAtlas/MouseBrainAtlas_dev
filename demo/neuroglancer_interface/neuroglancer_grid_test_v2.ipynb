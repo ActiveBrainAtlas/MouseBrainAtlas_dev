{
 "cells": [
  {
   "cell_type": "code",
   "execution_count": 6,
   "metadata": {
    "collapsed": true
   },
   "outputs": [],
   "source": [
    "from skimage.transform import PiecewiseAffineTransform, warp\n",
    "from skimage import data\n",
    "\n",
    "\n",
    "def grid_pnt_str_to_list( grid_pnt_str ):\n",
    "    return grid_pnt_str.replace('(','').replace(')','').replace(' ','').split(',')\n",
    "\n",
    "def get_2d_grid_dict( grid_dict, z_plane ):\n",
    "    grid_dict_2D = {}\n",
    "    \n",
    "    for grid1_pnt_str in grid_dict.keys():\n",
    "        # Convert the string-key into coordinate pair\n",
    "        grid1_pnt_coors = grid_pnt_str_to_list( grid1_pnt_str )\n",
    "        # Ignore if not on proper z plane\n",
    "        if int(grid1_pnt_coors[2])!=z_plane:\n",
    "            continue\n",
    "        grid1_pnt_coors_2D = [int(grid1_pnt_coors[0]), \\\n",
    "                                int(grid1_pnt_coors[1])]\n",
    "        \n",
    "        # Add the grid point coordinates to the list of original grid point coordinates\n",
    "        grid2_pnt_coors = grid_dict[grid1_pnt_str]\n",
    "        grid2_pnt_coors_2D = [int(grid2_pnt_coors[0]), \\\n",
    "                                int(grid2_pnt_coors[1])]\n",
    "        \n",
    "        grid_dict_2D[str(tuple(grid1_pnt_coors_2D))] = tuple(grid2_pnt_coors_2D)\n",
    "    return grid_dict_2D\n",
    "\n",
    "def get_grid_lists_from_dict( grid_dict ):\n",
    "    grid1_all_coordinates = []\n",
    "    grid2_all_coordinates = []\n",
    "    \n",
    "    for grid1_pnt_str in grid_dict.keys():\n",
    "        grid1_coors = []\n",
    "        # Convert the string-key into coordinate pair\n",
    "        grid1_pnt_coors = grid_pnt_str_to_list( grid1_pnt_str )\n",
    "        # Add coordinates into list of float coordinates\n",
    "        for grid1_pnt_coor in grid1_pnt_coors:\n",
    "            grid1_coors.append(float(grid1_pnt_coor))\n",
    "            \n",
    "        grid1_all_coordinates.append( grid1_coors )\n",
    "        grid2_all_coordinates.append( list(grid_dict[grid1_pnt_str]) )\n",
    "    return np.array(grid1_all_coordinates), np.array(grid2_all_coordinates)\n",
    "\n",
    "def my_round( x, base=5 ):\n",
    "    return int( base * round(float(x)/base))"
   ]
  },
  {
   "cell_type": "code",
   "execution_count": 23,
   "metadata": {},
   "outputs": [
    {
     "data": {
      "text/plain": [
       "[1, 2]"
      ]
     },
     "execution_count": 23,
     "metadata": {},
     "output_type": "execute_result"
    }
   ],
   "source": [
    "map(int, (1.1,2.9))"
   ]
  },
  {
   "cell_type": "code",
   "execution_count": 22,
   "metadata": {},
   "outputs": [
    {
     "ename": "TypeError",
     "evalue": "int() argument must be a string or a number, not 'tuple'",
     "output_type": "error",
     "traceback": [
      "\u001b[0;31m---------------------------------------------------------------------------\u001b[0m",
      "\u001b[0;31mTypeError\u001b[0m                                 Traceback (most recent call last)",
      "\u001b[0;32m<ipython-input-22-b0436dd3eb83>\u001b[0m in \u001b[0;36m<module>\u001b[0;34m()\u001b[0m\n\u001b[0;32m----> 1\u001b[0;31m \u001b[0mint\u001b[0m\u001b[0;34m(\u001b[0m\u001b[0;34m(\u001b[0m\u001b[0;36m1.1\u001b[0m\u001b[0;34m,\u001b[0m\u001b[0;36m2.9\u001b[0m\u001b[0;34m)\u001b[0m\u001b[0;34m)\u001b[0m\u001b[0;34m\u001b[0m\u001b[0m\n\u001b[0m",
      "\u001b[0;31mTypeError\u001b[0m: int() argument must be a string or a number, not 'tuple'"
     ]
    }
   ],
   "source": [
    "int((1.1,2.9))"
   ]
  },
  {
   "cell_type": "code",
   "execution_count": null,
   "metadata": {
    "collapsed": true
   },
   "outputs": [],
   "source": []
  },
  {
   "cell_type": "code",
   "execution_count": 237,
   "metadata": {},
   "outputs": [],
   "source": [
    "import time\n",
    "\n",
    "import neuroglancer\n",
    "import numpy as np\n",
    "            \n",
    "class GridLayer():\n",
    "    def __init__(self, viewer, shape=(800, 600, 500),  vox_size=(10000, 10000, 10000)):\n",
    "        self.vox_size = vox_size\n",
    "        self.shape = shape\n",
    "        self.jump_x = 150\n",
    "        self.jump_y = 150\n",
    "        self.jump_z = 200\n",
    "        self.viewer = viewer\n",
    "        self.grid_dict = {}\n",
    "        self.grid_dict_abs = {}\n",
    "        self.triangle_index_to_grid_pts = {}\n",
    "\n",
    "    def get_grid_layer(self):\n",
    "        grid_layer = neuroglancer.AnnotationLayer(voxel_size=self.vox_size)\n",
    "        # grid_array = np.empty(self.shape, dtype=object)\n",
    "\n",
    "        point_list = []\n",
    "\n",
    "        for i in range(0, self.shape[0], self.jump_x):\n",
    "            for j in range(0, self.shape[1], self.jump_y):\n",
    "                for k in range(0, self.shape[2], self.jump_z):\n",
    "                    self.grid_dict[repr((i, j, k))] = (i, j, k)\n",
    "                    point_list.append((i, j, k))\n",
    "\n",
    "        grid_layer.annotations = [neuroglancer.PointAnnotation(id=repr(pos), point=pos) for pos in point_list]\n",
    "\n",
    "        return grid_layer\n",
    "    \n",
    "    def update_grid_dict(self):\n",
    "        \"\"\"\n",
    "        Loads the current locations of every gridpoint and saves in the grid_dict format\n",
    "        \"\"\"\n",
    "        with self.viewer.txn() as s:\n",
    "            ss = s.layers['points']\n",
    "            grid_as_json = ss.to_json()\n",
    "            grid_list = grid_as_json['annotations']\n",
    "\n",
    "        for gridpnt in grid_list:\n",
    "            original_pos = gridpnt['id']\n",
    "            curr_pos = gridpnt['point']\n",
    "            integer_coordinates = map(int, curr_pos)\n",
    "            integer_coordinates[2] = my_round( integer_coordinates[2], self.jump_z)\n",
    "            self.grid_dict[original_pos] = tuple(integer_coordinates)\n",
    "            \n",
    "            # Update grid_dict_abs\n",
    "            abs_grid1_pos_tuple = list(original_pos.replace('(','').replace(')','').replace(' ','').split(','))\n",
    "            abs_grid1_pos_tuple = map(float, abs_grid1_pos_tuple)\n",
    "            \n",
    "            abs_grid1_pos_tuple[0] = int(abs_grid1_pos_tuple[0]*self.jump_x)\n",
    "            abs_grid1_pos_tuple[1] = int(abs_grid1_pos_tuple[1]*self.jump_y)\n",
    "            abs_grid1_pos_tuple[2] = int(abs_grid1_pos_tuple[2]*self.jump_z)\n",
    "            \n",
    "            float_grid2_coordinates = map(float, curr_pos)\n",
    "            abs_grid2_pos_tuple = ( int(float_grid2_coordinates[0]*self.jump_x),\n",
    "                                    int(float_grid2_coordinates[1]*self.jump_y),\n",
    "                                    int(float_grid2_coordinates[2]*self.jump_z))\n",
    "            self.grid_dict_abs[str(tuple(abs_grid1_pos_tuple))] = abs_grid2_pos_tuple\n",
    "\n",
    "    def print_coordiante(self):\n",
    "        if 'selectedAnnotation' in self.viewer.state.layers._layers[2]._json_data:\n",
    "            print(self.grid_dict[self.viewer.state.layers._layers[2]._json_data['selectedAnnotation']])\n",
    "            \n",
    "    \n",
    "    \n",
    "class InteractiveInference(object):\n",
    "    def __init__(self, cube):\n",
    "\n",
    "        viewer = self.viewer = neuroglancer.Viewer()\n",
    "        viewer.actions.add('move_left', self.move_cube_left)\n",
    "        viewer.actions.add('move_down', self.move_cube_down)\n",
    "        viewer.actions.add('move_right', self.move_cube_right)\n",
    "        viewer.actions.add('move_up', self.move_cube_up)\n",
    "        viewer.actions.add('morph_volume', self.morph_volume_layer)\n",
    "        viewer.actions.add('reset_cube', self.reset_cube_volume)\n",
    "        viewer.actions.add('reset_grid', self.reset_grid_points)\n",
    "\n",
    "        self.cube = cube\n",
    "        self.off_x = 0\n",
    "        self.off_y = 0\n",
    "        self.off_z = 0\n",
    "        self.grid_layer = GridLayer(self.viewer)\n",
    "        self.cube_volm = neuroglancer.LocalVolume(data=self.cube, voxel_size=[10000, 10000, 10000], voxel_offset=[self.off_x, self.off_y, self.off_z])\n",
    "\n",
    "        with viewer.config_state.txn() as s:\n",
    "            s.input_event_bindings.data_view['shift+keyw'] = 'move_up'\n",
    "            s.input_event_bindings.data_view['shift+keys'] = 'move_down'\n",
    "            s.input_event_bindings.data_view['shift+keya'] = 'move_left'\n",
    "            s.input_event_bindings.data_view['shift+keyd'] = 'move_right'\n",
    "            s.input_event_bindings.data_view['shift+keyp'] = 'morph_volume'\n",
    "            s.input_event_bindings.data_view['shift+keyr'] = 'reset_cube'\n",
    "            s.input_event_bindings.data_view['shift+keyg'] = 'reset_grid'\n",
    "\n",
    "        with viewer.txn() as s:\n",
    "            s.layers['image'] = neuroglancer.ImageLayer(\n",
    "                source='precomputed://https://mousebrainatlas-datajoint-jp2k.s3.amazonaws.com/precomputed/MD585_fullres')\n",
    "            # Resets X/Y/Z plane orientation\n",
    "            s.navigation.pose.orientation = [0,0,0,1]\n",
    "            # Zooms out \n",
    "        #     s.navigation.zoomFactor = 10000 # If 4panel\n",
    "            s.navigation.zoomFactor = 4000 # If xy\n",
    "\n",
    "            # Resets 3D Viewer Orientation\n",
    "            s.perspectiveOrientation = [0,0,0,1]\n",
    "            # Zooms out\n",
    "            s.perspectiveZoom = 75000\n",
    "            \n",
    "            s.layers['cube'] = neuroglancer.ImageLayer(source=self.cube_volm)\n",
    "            s.layers['points'] = self.grid_layer.get_grid_layer()\n",
    "            # s.layers['points'] = neuroglancer.AnnotationLayer(voxel_size=[100000, 100000, 100000])\\\n",
    "            \n",
    "    def reset_grid_points(self, action_state):\n",
    "        with viewer.txn() as s:\n",
    "            s.layers['points'] = self.grid_layer.get_grid_layer()\n",
    "    \n",
    "    def reset_cube_volume(self, action_state):\n",
    "        self.off_x = 0\n",
    "        self.off_y = 0\n",
    "        self.off_z = 0\n",
    "        self.cube = get_cube_test_volume()\n",
    "        self.cube_volm = neuroglancer.LocalVolume(data=self.cube, \n",
    "                                                  voxel_size=[10000, 10000, 10000], \n",
    "                                                  voxel_offset=[self.off_x, self.off_y, self.off_z])\n",
    "        with viewer.txn() as s:\n",
    "            s.layers['cube'] = neuroglancer.ImageLayer(source=self.cube_volm)\n",
    "\n",
    "    def move_cube_left(self, action_state):\n",
    "\n",
    "        self.off_x -= 10\n",
    "        cube_volm = neuroglancer.LocalVolume(data=self.cube, voxel_size=[10000, 10000, 10000],\n",
    "                                             voxel_offset=[self.off_x, self.off_y, self.off_z])\n",
    "        cube_layer = neuroglancer.SegmentationLayer(source=cube_volm)\n",
    "        with self.viewer.txn() as s:\n",
    "            s.layers['cube'] = cube_layer\n",
    "\n",
    "    def move_cube_right(self, action_state):\n",
    "        self.off_x += 10\n",
    "        cube_volm = neuroglancer.LocalVolume(data=self.cube, voxel_size=[10000, 10000, 10000],\n",
    "                                             voxel_offset=[self.off_x, self.off_y, self.off_z])\n",
    "        cube_layer = neuroglancer.SegmentationLayer(source=cube_volm)\n",
    "        with self.viewer.txn() as s:\n",
    "            s.layers['cube'] = cube_layer\n",
    "\n",
    "    def move_cube_up(self, action_state):\n",
    "        self.off_y -= 10\n",
    "        cube_volm = neuroglancer.LocalVolume(data=self.cube, voxel_size=[10000, 10000, 10000],\n",
    "                                             voxel_offset=[self.off_x, self.off_y, self.off_z])\n",
    "        cube_layer = neuroglancer.SegmentationLayer(source=cube_volm)\n",
    "        with self.viewer.txn() as s:\n",
    "            s.layers['cube'] = cube_layer\n",
    "\n",
    "    def move_cube_down(self, action_state):\n",
    "        self.off_y += 10\n",
    "        cube_volm = neuroglancer.LocalVolume(data=self.cube, voxel_size=[10000, 10000, 10000],\n",
    "                                             voxel_offset=[self.off_x, self.off_y, self.off_z])\n",
    "        cube_layer = neuroglancer.SegmentationLayer(source=cube_volm)\n",
    "        with self.viewer.txn() as s:\n",
    "            s.layers['cube'] = cube_layer\n",
    "            \n",
    "#     def morph_volume_layer_OLD(self, action_state):\n",
    "#         self.grid_layer.update_grid_dict()\n",
    "#         grid_map = self.grid_layer.grid_dict # Gets grid_dict\n",
    "    \n",
    "#         self.cube = update_volume( grid_map, self.cube )\n",
    "#         cube_volm = neuroglancer.LocalVolume(data=self.cube, voxel_size=[10000, 10000, 10000],\n",
    "#                                              voxel_offset=[self.off_x, self.off_y, self.off_z])\n",
    "#         cube_layer = neuroglancer.SegmentationLayer(source=cube_volm)\n",
    "#         with self.viewer.txn() as s:\n",
    "#             s.layers['cube'] = cube_layer\n",
    "            \n",
    "    def morph_volume_layer(self, action_state):\n",
    "        self.grid_layer.update_grid_dict()\n",
    "        grid_map = self.grid_layer.grid_dict # Gets grid_dict\n",
    "        grid_map_abs = self.grid_layer.grid_dict_abs\n",
    "    \n",
    "        self.cube = update_volume( grid_map, self.cube.copy() )\n",
    "        cube_volm = neuroglancer.LocalVolume(data=self.cube, voxel_size=[10000, 10000, 10000],\n",
    "                                             voxel_offset=[self.off_x, self.off_y, self.off_z])\n",
    "        cube_layer = neuroglancer.SegmentationLayer(source=cube_volm)\n",
    "        with self.viewer.txn() as s:\n",
    "            s.layers['cube'] = cube_layer\n",
    "            \n",
    "def update_volume( grid_map, volume ):\n",
    "    volume_shape = np.shape( volume )\n",
    "    new_volume = volume.copy()\n",
    "    \n",
    "#     for z in range(volume_shape[2]):\n",
    "    for z in range(100):\n",
    "        try:\n",
    "            grid_dict_2D = get_2d_grid_dict( grid_map, 0 )\n",
    "            grid_dict_2D_grid2, grid_dict_2D_grid1 = get_grid_lists_from_dict( grid_dict_2D )\n",
    "\n",
    "            tform = PiecewiseAffineTransform()\n",
    "            tform.estimate( grid_dict_2D_grid1 , grid_dict_2D_grid2 )\n",
    "\n",
    "            image = volume[z,:,:]*255\n",
    "            rows, cols = image.shape[0], image.shape[1]\n",
    "            out_rows, out_cols = rows, cols\n",
    "            warped_img = warp(image, tform, output_shape=(out_rows, out_cols))\n",
    "\n",
    "            new_volume[z,:,:] = warped_img\n",
    "        except IndexError:\n",
    "            pass\n",
    "#         except Exception as e:\n",
    "#             print(e)\n",
    "    return new_volume"
   ]
  },
  {
   "cell_type": "code",
   "execution_count": 238,
   "metadata": {
    "scrolled": true
   },
   "outputs": [
    {
     "name": "stdout",
     "output_type": "stream",
     "text": [
      "http://132.239.73.85:35000/v/a4daea00bbe3d7ce045264661bef088f567d3bb1/\n"
     ]
    }
   ],
   "source": [
    "def get_cube_test_volume(cube_len=100):\n",
    "    cube = np.zeros((cube_len, cube_len, cube_len), dtype=np.uint8)\n",
    "\n",
    "    cube[:, :, :10] = 1\n",
    "    cube[:, :, cube_len-10:cube_len] = 1\n",
    "\n",
    "    cube[:10, :, :] = 1\n",
    "    cube[cube_len-10:cube_len, :, :] = 1\n",
    "\n",
    "    cube[:, :10, :] = 1\n",
    "    cube[:, cube_len-10:cube_len, :] = 1\n",
    "    \n",
    "    return cube\n",
    "\n",
    "cube = get_cube_test_volume()\n",
    "\n",
    "neuroglancer.set_server_bind_address(bind_address='0.0.0.0', bind_port=35000)\n",
    "\n",
    "inf = InteractiveInference(cube)\n",
    "viewer = inf.viewer\n",
    "ip_name = 'ec2-52-53-248-156.us-west-1.compute.amazonaws.com'  ## Change for different machine\n",
    "ip_name = '132.239.73.85'  ## Change for different machine\n",
    "\n",
    "print('http://' + ip_name + ':' + viewer.get_viewer_url().split(':')[2])"
   ]
  },
  {
   "cell_type": "code",
   "execution_count": 208,
   "metadata": {
    "scrolled": true
   },
   "outputs": [],
   "source": [
    "gd = inf.grid_layer.grid_dict\n",
    "\n",
    "cube = get_cube_test_volume( 100 )\n",
    "\n",
    "new_cube = update_volume( gd, cube.copy() )"
   ]
  },
  {
   "cell_type": "code",
   "execution_count": 209,
   "metadata": {},
   "outputs": [
    {
     "data": {
      "text/plain": [
       "<matplotlib.image.AxesImage at 0x7f7bfda2dd50>"
      ]
     },
     "execution_count": 209,
     "metadata": {},
     "output_type": "execute_result"
    },
    {
     "data": {
      "image/png": "[encoded data removed]",
      "text/plain": [
       "<matplotlib.figure.Figure at 0x7f7bfdbead10>"
      ]
     },
     "metadata": {},
     "output_type": "display_data"
    }
   ],
   "source": [
    "plt.imshow(cube[:,:,10], norm=matplotlib.colors.Normalize(vmin=0, vmax=1, clip=False))"
   ]
  },
  {
   "cell_type": "code",
   "execution_count": 220,
   "metadata": {},
   "outputs": [
    {
     "data": {
      "text/plain": [
       "<matplotlib.image.AxesImage at 0x7f7bfd6e16d0>"
      ]
     },
     "execution_count": 220,
     "metadata": {},
     "output_type": "execute_result"
    },
    {
     "data": {
      "image/png": "[encoded data removed]",
      "text/plain": [
       "<matplotlib.figure.Figure at 0x7f7bfdbca210>"
      ]
     },
     "metadata": {},
     "output_type": "display_data"
    }
   ],
   "source": [
    "image = cube[:,:,10]*255\n",
    "\n",
    "grid_dict_2D = get_2d_grid_dict( gd, 0 )\n",
    "grid_dict_2D_grid2, grid_dict_2D_grid1 = get_grid_lists_from_dict( grid_dict_2D )\n",
    "\n",
    "tform = PiecewiseAffineTransform()\n",
    "tform.estimate( grid_dict_2D_grid1 , grid_dict_2D_grid2 )\n",
    "\n",
    "# image = volume[:,:,z]\n",
    "rows, cols = image.shape[0], image.shape[1]\n",
    "out_rows, out_cols = rows, cols\n",
    "warped_img = warp(image, tform, output_shape=(out_rows, out_cols))\n",
    "\n",
    "# volume[:,:,z] = warped_img\n",
    "plt.imshow(warped_img, norm=matplotlib.colors.Normalize(vmin=0, vmax=1, clip=False))"
   ]
  },
  {
   "cell_type": "code",
   "execution_count": 175,
   "metadata": {},
   "outputs": [
    {
     "data": {
      "text/plain": [
       "array([[600, 450],\n",
       "       [450, 300],\n",
       "       [750, 300],\n",
       "       [450, 150],\n",
       "       [150, 450],\n",
       "       [150, 150],\n",
       "       [600, 300],\n",
       "       [450,   0],\n",
       "       [300, 300],\n",
       "       [  0, 300],\n",
       "       [450, 450],\n",
       "       [600, 150],\n",
       "       [750, 150],\n",
       "       [ 11,  12],\n",
       "       [150, 300],\n",
       "       [300, 150],\n",
       "       [600,   0],\n",
       "       [143,  22],\n",
       "       [  0, 450],\n",
       "       [750,   0],\n",
       "       [300,   0],\n",
       "       [  0, 150],\n",
       "       [300, 450],\n",
       "       [750, 450]])"
      ]
     },
     "execution_count": 175,
     "metadata": {},
     "output_type": "execute_result"
    }
   ],
   "source": [
    "grid_dict_2D_grid2"
   ]
  },
  {
   "cell_type": "code",
   "execution_count": 174,
   "metadata": {},
   "outputs": [
    {
     "data": {
      "text/plain": [
       "array([[600., 450.],\n",
       "       [450., 300.],\n",
       "       [750., 300.],\n",
       "       [450., 150.],\n",
       "       [150., 450.],\n",
       "       [150., 150.],\n",
       "       [600., 300.],\n",
       "       [450.,   0.],\n",
       "       [300., 300.],\n",
       "       [  0., 300.],\n",
       "       [450., 450.],\n",
       "       [600., 150.],\n",
       "       [750., 150.],\n",
       "       [  0.,   0.],\n",
       "       [150., 300.],\n",
       "       [300., 150.],\n",
       "       [600.,   0.],\n",
       "       [150.,   0.],\n",
       "       [  0., 450.],\n",
       "       [750.,   0.],\n",
       "       [300.,   0.],\n",
       "       [  0., 150.],\n",
       "       [300., 450.],\n",
       "       [750., 450.]])"
      ]
     },
     "execution_count": 174,
     "metadata": {},
     "output_type": "execute_result"
    }
   ],
   "source": [
    "grid_dict_2D_grid1"
   ]
  },
  {
   "cell_type": "code",
   "execution_count": 173,
   "metadata": {},
   "outputs": [
    {
     "data": {
      "text/plain": [
       "False"
      ]
     },
     "execution_count": 173,
     "metadata": {},
     "output_type": "execute_result"
    }
   ],
   "source": [
    "(grid_dict_2D_grid1==grid_dict_2D_grid2).all()"
   ]
  },
  {
   "cell_type": "code",
   "execution_count": 93,
   "metadata": {},
   "outputs": [
    {
     "data": {
      "text/plain": [
       "0.0"
      ]
     },
     "execution_count": 93,
     "metadata": {},
     "output_type": "execute_result"
    },
    {
     "name": "stdout",
     "output_type": "stream",
     "text": [
      "[[0. 0. 0. ... 0. 0. 0.]\n",
      " [0. 0. 0. ... 0. 0. 0.]\n",
      " [0. 0. 0. ... 0. 0. 0.]\n",
      " ...\n",
      " [0. 0. 0. ... 0. 0. 0.]\n",
      " [0. 0. 0. ... 0. 0. 0.]\n",
      " [0. 0. 0. ... 0. 0. 0.]]\n",
      "[[0. 0. 0. ... 0. 0. 0.]\n",
      " [0. 0. 0. ... 0. 0. 0.]\n",
      " [0. 0. 0. ... 0. 0. 0.]\n",
      " ...\n",
      " [0. 0. 0. ... 0. 0. 0.]\n",
      " [0. 0. 0. ... 0. 0. 0.]\n",
      " [0. 0. 0. ... 0. 0. 0.]]\n",
      "[[0. 0. 0. ... 0. 0. 0.]\n",
      " [0. 0. 0. ... 0. 0. 0.]\n",
      " [0. 0. 0. ... 0. 0. 0.]\n",
      " ...\n",
      " [0. 0. 0. ... 0. 0. 0.]\n",
      " [0. 0. 0. ... 0. 0. 0.]\n",
      " [0. 0. 0. ... 0. 0. 0.]]\n",
      "[[0. 0. 0. ... 0. 0. 0.]\n",
      " [0. 0. 0. ... 0. 0. 0.]\n",
      " [0. 0. 0. ... 0. 0. 0.]\n",
      " ...\n",
      " [0. 0. 0. ... 0. 0. 0.]\n",
      " [0. 0. 0. ... 0. 0. 0.]\n",
      " [0. 0. 0. ... 0. 0. 0.]]\n",
      "[[0. 0. 0. ... 0. 0. 0.]\n",
      " [0. 0. 0. ... 0. 0. 0.]\n",
      " [0. 0. 0. ... 0. 0. 0.]\n",
      " ...\n",
      " [0. 0. 0. ... 0. 0. 0.]\n",
      " [0. 0. 0. ... 0. 0. 0.]\n",
      " [0. 0. 0. ... 0. 0. 0.]]\n",
      "[[0. 0. 0. ... 0. 0. 0.]\n",
      " [0. 0. 0. ... 0. 0. 0.]\n",
      " [0. 0. 0. ... 0. 0. 0.]\n",
      " ...\n",
      " [0. 0. 0. ... 0. 0. 0.]\n",
      " [0. 0. 0. ... 0. 0. 0.]\n",
      " [0. 0. 0. ... 0. 0. 0.]]\n",
      "[[0. 0. 0. ... 0. 0. 0.]\n",
      " [0. 0. 0. ... 0. 0. 0.]\n",
      " [0. 0. 0. ... 0. 0. 0.]\n",
      " ...\n",
      " [0. 0. 0. ... 0. 0. 0.]\n",
      " [0. 0. 0. ... 0. 0. 0.]\n",
      " [0. 0. 0. ... 0. 0. 0.]]\n",
      "[[0. 0. 0. ... 0. 0. 0.]\n",
      " [0. 0. 0. ... 0. 0. 0.]\n",
      " [0. 0. 0. ... 0. 0. 0.]\n",
      " ...\n",
      " [0. 0. 0. ... 0. 0. 0.]\n",
      " [0. 0. 0. ... 0. 0. 0.]\n",
      " [0. 0. 0. ... 0. 0. 0.]]\n",
      "[[0. 0. 0. ... 0. 0. 0.]\n",
      " [0. 0. 0. ... 0. 0. 0.]\n",
      " [0. 0. 0. ... 0. 0. 0.]\n",
      " ...\n",
      " [0. 0. 0. ... 0. 0. 0.]\n",
      " [0. 0. 0. ... 0. 0. 0.]\n",
      " [0. 0. 0. ... 0. 0. 0.]]\n",
      "[[0. 0. 0. ... 0. 0. 0.]\n",
      " [0. 0. 0. ... 0. 0. 0.]\n",
      " [0. 0. 0. ... 0. 0. 0.]\n",
      " ...\n",
      " [0. 0. 0. ... 0. 0. 0.]\n",
      " [0. 0. 0. ... 0. 0. 0.]\n",
      " [0. 0. 0. ... 0. 0. 0.]]\n",
      "[[0. 0. 0. ... 0. 0. 0.]\n",
      " [0. 0. 0. ... 0. 0. 0.]\n",
      " [0. 0. 0. ... 0. 0. 0.]\n",
      " ...\n",
      " [0. 0. 0. ... 0. 0. 0.]\n",
      " [0. 0. 0. ... 0. 0. 0.]\n",
      " [0. 0. 0. ... 0. 0. 0.]]\n",
      "[[0. 0. 0. ... 0. 0. 0.]\n",
      " [0. 0. 0. ... 0. 0. 0.]\n",
      " [0. 0. 0. ... 0. 0. 0.]\n",
      " ...\n",
      " [0. 0. 0. ... 0. 0. 0.]\n",
      " [0. 0. 0. ... 0. 0. 0.]\n",
      " [0. 0. 0. ... 0. 0. 0.]]\n",
      "[[0. 0. 0. ... 0. 0. 0.]\n",
      " [0. 0. 0. ... 0. 0. 0.]\n",
      " [0. 0. 0. ... 0. 0. 0.]\n",
      " ...\n",
      " [0. 0. 0. ... 0. 0. 0.]\n",
      " [0. 0. 0. ... 0. 0. 0.]\n",
      " [0. 0. 0. ... 0. 0. 0.]]\n",
      "[[0. 0. 0. ... 0. 0. 0.]\n",
      " [0. 0. 0. ... 0. 0. 0.]\n",
      " [0. 0. 0. ... 0. 0. 0.]\n",
      " ...\n",
      " [0. 0. 0. ... 0. 0. 0.]\n",
      " [0. 0. 0. ... 0. 0. 0.]\n",
      " [0. 0. 0. ... 0. 0. 0.]]\n",
      "[[0. 0. 0. ... 0. 0. 0.]\n",
      " [0. 0. 0. ... 0. 0. 0.]\n",
      " [0. 0. 0. ... 0. 0. 0.]\n",
      " ...\n",
      " [0. 0. 0. ... 0. 0. 0.]\n",
      " [0. 0. 0. ... 0. 0. 0.]\n",
      " [0. 0. 0. ... 0. 0. 0.]]\n"
     ]
    }
   ],
   "source": [
    "warped_img[1,76]"
   ]
  },
  {
   "cell_type": "code",
   "execution_count": 88,
   "metadata": {},
   "outputs": [
    {
     "data": {
      "text/plain": [
       "0.0"
      ]
     },
     "execution_count": 88,
     "metadata": {},
     "output_type": "execute_result"
    }
   ],
   "source": [
    "warped_img[50,1]"
   ]
  },
  {
   "cell_type": "code",
   "execution_count": 80,
   "metadata": {},
   "outputs": [
    {
     "data": {
      "text/plain": [
       "0.00392156862745098"
      ]
     },
     "execution_count": 80,
     "metadata": {},
     "output_type": "execute_result"
    }
   ],
   "source": [
    "np.amax(warped_img)"
   ]
  },
  {
   "cell_type": "code",
   "execution_count": 81,
   "metadata": {},
   "outputs": [
    {
     "data": {
      "text/plain": [
       "255.0"
      ]
     },
     "execution_count": 81,
     "metadata": {},
     "output_type": "execute_result"
    }
   ],
   "source": [
    "1./.00392156862745098"
   ]
  },
  {
   "cell_type": "code",
   "execution_count": 73,
   "metadata": {},
   "outputs": [
    {
     "name": "stdout",
     "output_type": "stream",
     "text": [
      "[[0.00392157 0.00392157 0.00392157 ... 0.         0.         0.        ]\n",
      " [0.00392157 0.00392157 0.00392157 ... 0.         0.         0.        ]\n",
      " [0.00392157 0.00392157 0.00392157 ... 0.         0.         0.        ]\n",
      " ...\n",
      " [0.         0.         0.         ... 0.         0.         0.        ]\n",
      " [0.         0.         0.         ... 0.         0.         0.        ]\n",
      " [0.         0.         0.         ... 0.         0.         0.        ]]\n",
      "[[0.00392157 0.00392157 0.00392157 ... 0.         0.         0.        ]\n",
      " [0.00392157 0.00392157 0.00392157 ... 0.         0.         0.        ]\n",
      " [0.00392157 0.00392157 0.00392157 ... 0.         0.         0.        ]\n",
      " ...\n",
      " [0.         0.         0.         ... 0.         0.         0.        ]\n",
      " [0.         0.         0.         ... 0.         0.         0.        ]\n",
      " [0.         0.         0.         ... 0.         0.         0.        ]]\n",
      "[[0.00392157 0.00392157 0.00392157 ... 0.         0.         0.        ]\n",
      " [0.00392157 0.00392157 0.00392157 ... 0.         0.         0.        ]\n",
      " [0.00392157 0.00392157 0.00392157 ... 0.         0.         0.        ]\n",
      " ...\n",
      " [0.         0.         0.         ... 0.         0.         0.        ]\n",
      " [0.         0.         0.         ... 0.         0.         0.        ]\n",
      " [0.         0.         0.         ... 0.         0.         0.        ]]\n",
      "[[0.00392157 0.00392157 0.00392157 ... 0.         0.         0.        ]\n",
      " [0.00392157 0.00392157 0.00392157 ... 0.         0.         0.        ]\n",
      " [0.00392157 0.00392157 0.00392157 ... 0.         0.         0.        ]\n",
      " ...\n",
      " [0.         0.         0.         ... 0.         0.         0.        ]\n",
      " [0.         0.         0.         ... 0.         0.         0.        ]\n",
      " [0.         0.         0.         ... 0.         0.         0.        ]]\n",
      "[[0.00392157 0.00392157 0.00392157 ... 0.         0.         0.        ]\n",
      " [0.00392157 0.00392157 0.00392157 ... 0.         0.         0.        ]\n",
      " [0.00392157 0.00392157 0.00392157 ... 0.         0.         0.        ]\n",
      " ...\n",
      " [0.         0.         0.         ... 0.         0.         0.        ]\n",
      " [0.         0.         0.         ... 0.         0.         0.        ]\n",
      " [0.         0.         0.         ... 0.         0.         0.        ]]\n",
      "[[0.00392157 0.00392157 0.00392157 ... 0.         0.         0.        ]\n",
      " [0.00392157 0.00392157 0.00392157 ... 0.         0.         0.        ]\n",
      " [0.00392157 0.00392157 0.00392157 ... 0.         0.         0.        ]\n",
      " ...\n",
      " [0.         0.         0.         ... 0.         0.         0.        ]\n",
      " [0.         0.         0.         ... 0.         0.         0.        ]\n",
      " [0.         0.         0.         ... 0.         0.         0.        ]]\n",
      "[[0.00392157 0.00392157 0.00392157 ... 0.         0.         0.        ]\n",
      " [0.00392157 0.00392157 0.00392157 ... 0.         0.         0.        ]\n",
      " [0.00392157 0.00392157 0.00392157 ... 0.         0.         0.        ]\n",
      " ...\n",
      " [0.         0.         0.         ... 0.         0.         0.        ]\n",
      " [0.         0.         0.         ... 0.         0.         0.        ]\n",
      " [0.         0.         0.         ... 0.         0.         0.        ]]\n",
      "[[0.00392157 0.00392157 0.00392157 ... 0.         0.         0.        ]\n",
      " [0.00392157 0.00392157 0.00392157 ... 0.         0.         0.        ]\n",
      " [0.00392157 0.00392157 0.00392157 ... 0.         0.         0.        ]\n",
      " ...\n",
      " [0.         0.         0.         ... 0.         0.         0.        ]\n",
      " [0.         0.         0.         ... 0.         0.         0.        ]\n",
      " [0.         0.         0.         ... 0.         0.         0.        ]]\n",
      "[[0.00392157 0.00392157 0.00392157 ... 0.         0.         0.        ]\n",
      " [0.00392157 0.00392157 0.00392157 ... 0.         0.         0.        ]\n",
      " [0.00392157 0.00392157 0.00392157 ... 0.         0.         0.        ]\n",
      " ...\n",
      " [0.         0.         0.         ... 0.         0.         0.        ]\n",
      " [0.         0.         0.         ... 0.         0.         0.        ]\n",
      " [0.         0.         0.         ... 0.         0.         0.        ]]\n",
      "[[0.00392157 0.00392157 0.00392157 ... 0.         0.         0.        ]\n",
      " [0.00392157 0.00392157 0.00392157 ... 0.         0.         0.        ]\n",
      " [0.00392157 0.00392157 0.00392157 ... 0.         0.         0.        ]\n",
      " ...\n",
      " [0.         0.         0.         ... 0.         0.         0.        ]\n",
      " [0.         0.         0.         ... 0.         0.         0.        ]\n",
      " [0.         0.         0.         ... 0.         0.         0.        ]]\n",
      "[[0.00392157 0.00392157 0.00392157 ... 0.         0.         0.        ]\n",
      " [0.00392157 0.00392157 0.00392157 ... 0.         0.         0.        ]\n",
      " [0.00392157 0.00392157 0.00392157 ... 0.         0.         0.        ]\n",
      " ...\n",
      " [0.         0.         0.         ... 0.         0.         0.        ]\n",
      " [0.         0.         0.         ... 0.         0.         0.        ]\n",
      " [0.         0.         0.         ... 0.         0.         0.        ]]\n",
      "[[0.00392157 0.00392157 0.00392157 ... 0.         0.         0.        ]\n",
      " [0.00392157 0.00392157 0.00392157 ... 0.         0.         0.        ]\n",
      " [0.00392157 0.00392157 0.00392157 ... 0.         0.         0.        ]\n",
      " ...\n",
      " [0.         0.         0.         ... 0.         0.         0.        ]\n",
      " [0.         0.         0.         ... 0.         0.         0.        ]\n",
      " [0.         0.         0.         ... 0.         0.         0.        ]]\n",
      "[[0.00392157 0.00392157 0.00392157 ... 0.         0.         0.        ]\n",
      " [0.00392157 0.00392157 0.00392157 ... 0.         0.         0.        ]\n",
      " [0.00392157 0.00392157 0.00392157 ... 0.         0.         0.        ]\n",
      " ...\n",
      " [0.         0.         0.         ... 0.         0.         0.        ]\n",
      " [0.         0.         0.         ... 0.         0.         0.        ]\n",
      " [0.         0.         0.         ... 0.         0.         0.        ]]\n",
      "[[0.00392157 0.00392157 0.00392157 ... 0.         0.         0.        ]\n",
      " [0.00392157 0.00392157 0.00392157 ... 0.         0.         0.        ]\n",
      " [0.00392157 0.00392157 0.00392157 ... 0.         0.         0.        ]\n",
      " ...\n",
      " [0.         0.         0.         ... 0.         0.         0.        ]\n",
      " [0.         0.         0.         ... 0.         0.         0.        ]\n",
      " [0.         0.         0.         ... 0.         0.         0.        ]]\n",
      "[[0.00392157 0.00392157 0.00392157 ... 0.         0.         0.        ]\n",
      " [0.00392157 0.00392157 0.00392157 ... 0.         0.         0.        ]\n",
      " [0.00392157 0.00392157 0.00392157 ... 0.         0.         0.        ]\n",
      " ...\n",
      " [0.         0.         0.         ... 0.         0.         0.        ]\n",
      " [0.         0.         0.         ... 0.         0.         0.        ]\n",
      " [0.         0.         0.         ... 0.         0.         0.        ]]\n"
     ]
    },
    {
     "data": {
      "text/plain": [
       "<matplotlib.image.AxesImage at 0x7f7c003a6790>"
      ]
     },
     "execution_count": 73,
     "metadata": {},
     "output_type": "execute_result"
    },
    {
     "data": {
      "image/png": "[encoded data removed]",
      "text/plain": [
       "<matplotlib.figure.Figure at 0x7f7c00443210>"
      ]
     },
     "metadata": {},
     "output_type": "display_data"
    }
   ],
   "source": [
    "import matplotlib\n",
    "import matplotlib.pyplot as plt\n",
    "%matplotlib inline\n",
    "\n",
    "gd = inf.grid_layer.grid_dict\n",
    "\n",
    "new_cube = update_volume( gd, cube.copy() )\n",
    "\n",
    "plt.imshow(new_cube[:,:,10], norm=matplotlib.colors.Normalize(vmin=0, vmax=1, clip=False))"
   ]
  },
  {
   "cell_type": "code",
   "execution_count": null,
   "metadata": {
    "collapsed": true
   },
   "outputs": [],
   "source": []
  },
  {
   "cell_type": "code",
   "execution_count": null,
   "metadata": {
    "collapsed": true
   },
   "outputs": [],
   "source": []
  },
  {
   "cell_type": "code",
   "execution_count": 98,
   "metadata": {
    "scrolled": true
   },
   "outputs": [
    {
     "data": {
      "text/plain": [
       "{'(0, 0, 0)': (25, 27, 0),\n",
       " '(0, 0, 200)': (0, 0, 200),\n",
       " '(0, 0, 400)': (0, 0, 400),\n",
       " '(0, 150, 0)': (0, 150, 0),\n",
       " '(0, 150, 200)': (0, 150, 200),\n",
       " '(0, 150, 400)': (0, 150, 400),\n",
       " '(0, 300, 0)': (0, 300, 0),\n",
       " '(0, 300, 200)': (0, 300, 200),\n",
       " '(0, 300, 400)': (0, 300, 400),\n",
       " '(0, 450, 0)': (0, 450, 0),\n",
       " '(0, 450, 200)': (0, 450, 200),\n",
       " '(0, 450, 400)': (0, 450, 400),\n",
       " '(150, 0, 0)': (150, 0, 0),\n",
       " '(150, 0, 200)': (150, 0, 200),\n",
       " '(150, 0, 400)': (150, 0, 400),\n",
       " '(150, 150, 0)': (150, 150, 0),\n",
       " '(150, 150, 200)': (150, 150, 200),\n",
       " '(150, 150, 400)': (150, 150, 400),\n",
       " '(150, 300, 0)': (150, 300, 0),\n",
       " '(150, 300, 200)': (150, 300, 200),\n",
       " '(150, 300, 400)': (150, 300, 400),\n",
       " '(150, 450, 0)': (150, 450, 0),\n",
       " '(150, 450, 200)': (150, 450, 200),\n",
       " '(150, 450, 400)': (150, 450, 400),\n",
       " '(300, 0, 0)': (300, 0, 0),\n",
       " '(300, 0, 200)': (300, 0, 200),\n",
       " '(300, 0, 400)': (300, 0, 400),\n",
       " '(300, 150, 0)': (300, 150, 0),\n",
       " '(300, 150, 200)': (300, 150, 200),\n",
       " '(300, 150, 400)': (300, 150, 400),\n",
       " '(300, 300, 0)': (300, 300, 0),\n",
       " '(300, 300, 200)': (300, 300, 200),\n",
       " '(300, 300, 400)': (300, 300, 400),\n",
       " '(300, 450, 0)': (300, 450, 0),\n",
       " '(300, 450, 200)': (300, 450, 200),\n",
       " '(300, 450, 400)': (300, 450, 400),\n",
       " '(450, 0, 0)': (450, 0, 0),\n",
       " '(450, 0, 200)': (450, 0, 200),\n",
       " '(450, 0, 400)': (450, 0, 400),\n",
       " '(450, 150, 0)': (450, 150, 0),\n",
       " '(450, 150, 200)': (450, 150, 200),\n",
       " '(450, 150, 400)': (450, 150, 400),\n",
       " '(450, 300, 0)': (450, 300, 0),\n",
       " '(450, 300, 200)': (450, 300, 200),\n",
       " '(450, 300, 400)': (450, 300, 400),\n",
       " '(450, 450, 0)': (450, 450, 0),\n",
       " '(450, 450, 200)': (450, 450, 200),\n",
       " '(450, 450, 400)': (450, 450, 400),\n",
       " '(600, 0, 0)': (600, 0, 0),\n",
       " '(600, 0, 200)': (600, 0, 200),\n",
       " '(600, 0, 400)': (600, 0, 400),\n",
       " '(600, 150, 0)': (600, 150, 0),\n",
       " '(600, 150, 200)': (600, 150, 200),\n",
       " '(600, 150, 400)': (600, 150, 400),\n",
       " '(600, 300, 0)': (600, 300, 0),\n",
       " '(600, 300, 200)': (600, 300, 200),\n",
       " '(600, 300, 400)': (600, 300, 400),\n",
       " '(600, 450, 0)': (600, 450, 0),\n",
       " '(600, 450, 200)': (600, 450, 200),\n",
       " '(600, 450, 400)': (600, 450, 400),\n",
       " '(750, 0, 0)': (750, 0, 0),\n",
       " '(750, 0, 200)': (750, 0, 200),\n",
       " '(750, 0, 400)': (750, 0, 400),\n",
       " '(750, 150, 0)': (750, 150, 0),\n",
       " '(750, 150, 200)': (750, 150, 200),\n",
       " '(750, 150, 400)': (750, 150, 400),\n",
       " '(750, 300, 0)': (750, 300, 0),\n",
       " '(750, 300, 200)': (750, 300, 200),\n",
       " '(750, 300, 400)': (750, 300, 400),\n",
       " '(750, 450, 0)': (750, 450, 0),\n",
       " '(750, 450, 200)': (750, 450, 200),\n",
       " '(750, 450, 400)': (750, 450, 400)}"
      ]
     },
     "execution_count": 98,
     "metadata": {},
     "output_type": "execute_result"
    }
   ],
   "source": [
    "inf.grid_layer.grid_dict"
   ]
  },
  {
   "cell_type": "code",
   "execution_count": 43,
   "metadata": {},
   "outputs": [
    {
     "data": {
      "text/plain": [
       "{'(0, 0, 0)': (16.3847713470459, 6.646653175354004, -7.223887266150086e-09),\n",
       " '(0, 0, 20)': (0, 0, 20),\n",
       " '(0, 0, 40)': (0, 0, 40),\n",
       " '(0, 50, 0)': (0, 50, 0),\n",
       " '(0, 50, 20)': (0, 50, 20),\n",
       " '(0, 50, 40)': (0, 50, 40),\n",
       " '(50, 0, 0)': (50, 0, 0),\n",
       " '(50, 0, 20)': (50, 0, 20),\n",
       " '(50, 0, 40)': (50, 0, 40),\n",
       " '(50, 50, 0)': (50, 50, 0),\n",
       " '(50, 50, 20)': (50, 50, 20),\n",
       " '(50, 50, 40)': (50, 50, 40)}"
      ]
     },
     "execution_count": 43,
     "metadata": {},
     "output_type": "execute_result"
    }
   ],
   "source": [
    "inf.grid_layer.grid_dict"
   ]
  },
  {
   "cell_type": "code",
   "execution_count": 6,
   "metadata": {
    "collapsed": true
   },
   "outputs": [],
   "source": [
    "grid_dict = {}\n",
    "with inf.viewer.txn() as s:\n",
    "    ss = s.layers['points']\n",
    "    grid_as_json = ss.to_json()\n",
    "    grid_list = grid_as_json['annotations']\n",
    "    \n",
    "for gridpnt in grid_list:\n",
    "    original_pos = gridpnt['id']\n",
    "    curr_pos = gridpnt['point']\n",
    "    grid_dict[original_pos] = curr_pos"
   ]
  },
  {
   "cell_type": "code",
   "execution_count": 9,
   "metadata": {},
   "outputs": [
    {
     "data": {
      "text/plain": [
       "tuple"
      ]
     },
     "execution_count": 9,
     "metadata": {},
     "output_type": "execute_result"
    }
   ],
   "source": [
    "type((1,2))"
   ]
  },
  {
   "cell_type": "code",
   "execution_count": 10,
   "metadata": {},
   "outputs": [
    {
     "data": {
      "text/plain": [
       "(50, 50, 40)"
      ]
     },
     "execution_count": 10,
     "metadata": {},
     "output_type": "execute_result"
    }
   ],
   "source": [
    "tuple(curr_pos)"
   ]
  },
  {
   "cell_type": "code",
   "execution_count": 61,
   "metadata": {},
   "outputs": [
    {
     "data": {
      "text/plain": [
       "['__class__',\n",
       " '__deepcopy__',\n",
       " '__delattr__',\n",
       " '__doc__',\n",
       " '__format__',\n",
       " '__getattr__',\n",
       " '__getattribute__',\n",
       " '__hash__',\n",
       " '__init__',\n",
       " '__module__',\n",
       " '__new__',\n",
       " '__reduce__',\n",
       " '__reduce_ex__',\n",
       " '__repr__',\n",
       " '__setattr__',\n",
       " '__sizeof__',\n",
       " '__slots__',\n",
       " '__str__',\n",
       " '__subclasshook__',\n",
       " '_cached_wrappers',\n",
       " '_get_wrapped',\n",
       " '_json_data',\n",
       " '_lock',\n",
       " '_readonly',\n",
       " '_set_wrapped',\n",
       " 'layer',\n",
       " 'name',\n",
       " 'supports_readonly',\n",
       " 'to_json',\n",
       " 'visible']"
      ]
     },
     "execution_count": 61,
     "metadata": {},
     "output_type": "execute_result"
    }
   ],
   "source": [
    "dir(ss)"
   ]
  },
  {
   "cell_type": "code",
   "execution_count": null,
   "metadata": {
    "collapsed": true
   },
   "outputs": [],
   "source": []
  }
 ],
 "metadata": {
  "kernelspec": {
   "display_name": "Python 2",
   "language": "python",
   "name": "python2"
  },
  "language_info": {
   "codemirror_mode": {
    "name": "ipython",
    "version": 2
   },
   "file_extension": ".py",
   "mimetype": "text/x-python",
   "name": "python",
   "nbconvert_exporter": "python",
   "pygments_lexer": "ipython2",
   "version": "2.7.12"
  }
 },
 "nbformat": 4,
 "nbformat_minor": 2
}
