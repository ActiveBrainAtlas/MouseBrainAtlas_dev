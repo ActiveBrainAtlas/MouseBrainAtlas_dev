{
 "cells": [
  {
   "cell_type": "code",
   "execution_count": 3,
   "metadata": {
    "collapsed": true
   },
   "outputs": [],
   "source": [
    "NEUROGLANCER_ROOT = '/media/alexn/BstemAtlasDataBackup/neuroglancer_volumes/'"
   ]
  },
  {
   "cell_type": "code",
   "execution_count": 4,
   "metadata": {
    "collapsed": true
   },
   "outputs": [],
   "source": [
    "import socket\n",
    "import neuroglancer\n",
    "import subprocess\n",
    "import numpy as np\n",
    "from neuroglancer.server import global_server_args\n",
    "\n",
    "class Neuroglancer_Viewer:\n",
    "    def __init__(self, stack='MD585'):\n",
    "        self.stack = stack\n",
    "        self.local_volume_fp_root = './'\n",
    "        \n",
    "        neuroglancer.set_server_bind_address('0.0.0.0')\n",
    "        global_server_args['bind_port'] = 80\n",
    "        \n",
    "        # Create viewer\n",
    "        self.viewer = neuroglancer.Viewer()\n",
    "        \n",
    "        # Get the IP address\n",
    "        s = socket.socket(socket.AF_INET, socket.SOCK_DGRAM)\n",
    "        s.connect((\"8.8.8.8\", 80))\n",
    "        ip_name = s.getsockname()[0]\n",
    "        s.close()\n",
    "\n",
    "        # Removes the following symbols: ', \", [, ]\n",
    "        self.url = str( 'http://' + ip_name + ':' + self.viewer.get_viewer_url().split(':')[2] )##Remote URL\n",
    "        \n",
    "    def set_local_volume_fp(self, fp):\n",
    "        if fp[len(fp)-1]!='/':\n",
    "            fp = fp+'/'\n",
    "        self.local_volume_fp_root = fp\n",
    "        \n",
    "    def download_volumes(self):\n",
    "        s3_root_fp = 's3://test-bucket-sid/alex_neuroglancer_volumes/'+self.stack+'/human_annotations_5um/'\n",
    "        local_volume_fp = self.local_volume_fp_root+self.stack+'/human_annotations_5um/'\n",
    "        \n",
    "        command_list = ['aws','s3','cp','--recursive', s3_root_fp, local_volume_fp]\n",
    "        subprocess.call( command_list )\n",
    "    \n",
    "    def add_stack(self):\n",
    "        if self.stack == 'MD585':\n",
    "            with self.viewer.txn() as s:\n",
    "                s.layers[ self.stack+'_image'] = neuroglancer.ImageLayer(\\\n",
    "                    #source='precomputed://https://mousebrainatlas-datajoint-jp2k.s3.amazonaws.com/precomputed/MD585_fullres')\n",
    "                     source='precomputed://https://neuroglancer-data.s3.amazonaws.com/Neuroglancer_Images/Precomputed/MD585/MD585_prep2_raw_grayJpeg_precomputed')\n",
    "        elif self.stack == 'MD589':\n",
    "            with self.viewer.txn() as s:\n",
    "                s.layers[ self.stack+'_image'] = neuroglancer.ImageLayer(\\\n",
    "                    source='precomputed://https://mousebrainatlas-datajoint-jp2k.s3.amazonaws.com/precomputed/MD589_fullres')\n",
    "        elif self.stack == 'MD594':\n",
    "            with self.viewer.txn() as s:\n",
    "                s.layers[ self.stack+'_image'] = neuroglancer.ImageLayer(\\\n",
    "                    source='precomputed://https://mousebrainatlas-datajoint-jp2k.s3.amazonaws.com/precomputed/MD594_fullres')\n",
    "            \n",
    "    def add_volume(self, colored=True):\n",
    "        volume_fp = self.local_volume_fp_root+self.stack+'/human_annotation/solid_volume_5um/'\n",
    "        if colored:\n",
    "            volume_fn = 'volume_colored.npy'\n",
    "            color_segments=[]\n",
    "            for i in range(1,50):\n",
    "                color_segments.append(i)\n",
    "        else:\n",
    "            volume_fn = 'volume.npy'\n",
    "        \n",
    "        xy_ng_resolution_um = 5\n",
    "        volume_data = np.load( volume_fp+volume_fn )\n",
    "        \n",
    "        with self.viewer.txn() as s:\n",
    "            s.layers[ self.stack+\"_Annotations\" ] = neuroglancer.SegmentationLayer(\n",
    "                source = neuroglancer.LocalVolume(\n",
    "                    data=volume_data, # Z,Y,X\n",
    "                    voxel_size=[ xy_ng_resolution_um*1000, xy_ng_resolution_um*1000, 20000], # X Y Z\n",
    "                    voxel_offset = [ 0, 0, 0] # X Y Z\n",
    "                ),\n",
    "                segments = color_segments\n",
    "            )\n",
    "            \n",
    "    def reset_orientation(self):\n",
    "        with self.viewer.txn() as s:\n",
    "            # Resets X/Y/Z plane orientation\n",
    "            s.navigation.pose.orientation = [0,0,0,1]\n",
    "            # Zooms out \n",
    "            s.navigation.zoomFactor = 5000 # 5000 If xy, 10000 If 4panel\n",
    "            # Resets 3D Viewer Orientation\n",
    "            s.perspectiveOrientation = [0,0,0,1]\n",
    "            # Zooms out\n",
    "            s.perspectiveZoom = 75000\n",
    "\n",
    "            s.layout = 'xy' # '3d'/'4panel'/'xy'\n",
    "            \n",
    "    def stop(self):\n",
    "        neuroglancer.stop()"
   ]
  },
  {
   "cell_type": "code",
   "execution_count": 8,
   "metadata": {},
   "outputs": [
    {
     "name": "stdout",
     "output_type": "stream",
     "text": [
      "MD585\n",
      "http://132.239.73.85:43625/v/29ca6337331b6e6f8125090cc142227f7651d9fc/\n"
     ]
    }
   ],
   "source": [
    "viewers = []\n",
    "print 'MD585'\n",
    "viewers.append( Neuroglancer_Viewer(stack='MD585') )\n",
    "viewers[0].add_stack()\n",
    "#viewers[0].set_local_volume_fp( fp=NEUROGLANCER_ROOT )\n",
    "#viewers[0].add_volume()\n",
    "viewers[0].reset_orientation()\n",
    "print viewers[0].url\n",
    "\n",
    "# print 'MD589'\n",
    "# viewers.append( Neuroglancer_Viewer(stack='MD589') )\n",
    "# viewers[1].add_stack()\n",
    "# viewers[1].set_local_volume_fp( fp=NEUROGLANCER_ROOT )\n",
    "# viewers[1].add_volume()\n",
    "# viewers[1].reset_orientation()\n",
    "# print viewers[1].url\n",
    "\n",
    "# print 'MD594'\n",
    "# viewers.append( Neuroglancer_Viewer(stack='MD594') )\n",
    "# viewers[2].add_stack()\n",
    "# viewers[2].set_local_volume_fp( fp=NEUROGLANCER_ROOT )\n",
    "# viewers[2].add_volume()\n",
    "# viewers[2].reset_orientation()\n",
    "# print viewers[2].url"
   ]
  },
  {
   "cell_type": "code",
   "execution_count": 7,
   "metadata": {},
   "outputs": [
    {
     "ename": "IndexError",
     "evalue": "list index out of range",
     "output_type": "error",
     "traceback": [
      "\u001b[0;31m---------------------------------------------------------------------------\u001b[0m",
      "\u001b[0;31mIndexError\u001b[0m                                Traceback (most recent call last)",
      "\u001b[0;32m<ipython-input-7-5ed01b2b603d>\u001b[0m in \u001b[0;36m<module>\u001b[0;34m()\u001b[0m\n\u001b[1;32m      1\u001b[0m \u001b[0mviewers\u001b[0m\u001b[0;34m[\u001b[0m\u001b[0;36m0\u001b[0m\u001b[0;34m]\u001b[0m\u001b[0;34m.\u001b[0m\u001b[0mstop\u001b[0m\u001b[0;34m(\u001b[0m\u001b[0;34m)\u001b[0m\u001b[0;34m\u001b[0m\u001b[0m\n\u001b[1;32m      2\u001b[0m \u001b[0;32mdel\u001b[0m \u001b[0mviewers\u001b[0m\u001b[0;34m[\u001b[0m\u001b[0;36m0\u001b[0m\u001b[0;34m]\u001b[0m\u001b[0;34m\u001b[0m\u001b[0m\n\u001b[0;32m----> 3\u001b[0;31m \u001b[0mviewers\u001b[0m\u001b[0;34m[\u001b[0m\u001b[0;36m0\u001b[0m\u001b[0;34m]\u001b[0m\u001b[0;34m.\u001b[0m\u001b[0mstop\u001b[0m\u001b[0;34m(\u001b[0m\u001b[0;34m)\u001b[0m\u001b[0;34m\u001b[0m\u001b[0m\n\u001b[0m\u001b[1;32m      4\u001b[0m \u001b[0;32mdel\u001b[0m \u001b[0mviewers\u001b[0m\u001b[0;34m[\u001b[0m\u001b[0;36m0\u001b[0m\u001b[0;34m]\u001b[0m\u001b[0;34m\u001b[0m\u001b[0m\n\u001b[1;32m      5\u001b[0m \u001b[0mviewers\u001b[0m\u001b[0;34m[\u001b[0m\u001b[0;36m0\u001b[0m\u001b[0;34m]\u001b[0m\u001b[0;34m.\u001b[0m\u001b[0mstop\u001b[0m\u001b[0;34m(\u001b[0m\u001b[0;34m)\u001b[0m\u001b[0;34m\u001b[0m\u001b[0m\n",
      "\u001b[0;31mIndexError\u001b[0m: list index out of range"
     ]
    }
   ],
   "source": [
    "viewers[0].stop()\n",
    "del viewers[0]\n",
    "viewers[0].stop()\n",
    "del viewers[0]\n",
    "viewers[0].stop()\n",
    "del viewers[0]"
   ]
  },
  {
   "cell_type": "code",
   "execution_count": null,
   "metadata": {
    "collapsed": true
   },
   "outputs": [],
   "source": []
  },
  {
   "cell_type": "code",
   "execution_count": 3,
   "metadata": {},
   "outputs": [
    {
     "name": "stdout",
     "output_type": "stream",
     "text": [
      "http://132.239.73.85:42849/v/b6486a96bca246b911bfeb7a6647331877432ce7/\n"
     ]
    }
   ],
   "source": [
    "new_viewer = Neuroglancer_Viewer(stack='MD594') # 8 off\n",
    "new_viewer.add_stack()\n",
    "new_viewer.reset_orientation()\n",
    "\n",
    "print new_viewer.url"
   ]
  },
  {
   "cell_type": "code",
   "execution_count": 3,
   "metadata": {},
   "outputs": [
    {
     "name": "stdout",
     "output_type": "stream",
     "text": [
      "http://132.239.73.85:42211/v/e61617fb1f4f04f4e8e9310c73b1deeb0ce4dd25/\n"
     ]
    }
   ],
   "source": [
    "new_viewer = Neuroglancer_Viewer(stack='MD589') # 8 off\n",
    "new_viewer.add_stack()\n",
    "new_viewer.reset_orientation()\n",
    "\n",
    "print new_viewer.url"
   ]
  },
  {
   "cell_type": "code",
   "execution_count": 3,
   "metadata": {
    "scrolled": true
   },
   "outputs": [
    {
     "name": "stdout",
     "output_type": "stream",
     "text": [
      "http://132.239.73.85:32961/v/a78262516d1329bc39c62a444903a6fdeb007c50/\n"
     ]
    }
   ],
   "source": [
    "new_viewer = Neuroglancer_Viewer(stack='MD585')\n",
    "new_viewer.add_stack()\n",
    "\n",
    "new_viewer.set_local_volume_fp( fp=NEUROGLANCER_ROOT )\n",
    "new_viewer.add_volume()\n",
    "\n",
    "new_viewer.reset_orientation()\n",
    "\n",
    "print new_viewer.url"
   ]
  },
  {
   "cell_type": "code",
   "execution_count": 4,
   "metadata": {
    "collapsed": true
   },
   "outputs": [],
   "source": [
    "new_viewer.set_local_volume_fp( fp=NEUROGLANCER_ROOT )\n",
    "new_viewer.add_volume()\n",
    "new_viewer.reset_orientation()"
   ]
  },
  {
   "cell_type": "code",
   "execution_count": 17,
   "metadata": {
    "collapsed": true
   },
   "outputs": [],
   "source": [
    "new_viewer.stop()\n",
    "del new_viewer"
   ]
  },
  {
   "cell_type": "code",
   "execution_count": null,
   "metadata": {
    "collapsed": true
   },
   "outputs": [],
   "source": []
  },
  {
   "cell_type": "code",
   "execution_count": 57,
   "metadata": {
    "scrolled": true
   },
   "outputs": [
    {
     "data": {
      "text/plain": [
       "1"
      ]
     },
     "execution_count": 57,
     "metadata": {},
     "output_type": "execute_result"
    }
   ],
   "source": [
    "import subprocess\n",
    "s3_root_fp = 's3://test-bucket-sid/alex_neuroglancer_volumes/'+'MD585'+'/human_annotations_5um'\n",
    "        \n",
    "command_list = ['aws','s3','cp','--recursive',s3_root_fp, '/home/alexn/Desktop/test_ng/']\n",
    "subprocess.call( command_list )"
   ]
  },
  {
   "cell_type": "code",
   "execution_count": 41,
   "metadata": {
    "collapsed": true
   },
   "outputs": [],
   "source": [
    "! rm -r /home/alexn/test_ng"
   ]
  },
  {
   "cell_type": "code",
   "execution_count": null,
   "metadata": {
    "collapsed": true
   },
   "outputs": [],
   "source": [
    "precomputed://https://neuroglancer-data.s3.amazonaws.com/Neuroglancer_Images/Precomputed/MD585/MD585_prep2_raw_grayJpeg_precomputed"
   ]
  },
  {
   "cell_type": "code",
   "execution_count": null,
   "metadata": {
    "collapsed": true
   },
   "outputs": [],
   "source": [
    "precomputed://https://neuroglancer-data.s3.amazonaws.com/Neuroglancer_Images/Precomputed/MD589/MD589_prep2_raw_grayJpeg_precomputed"
   ]
  },
  {
   "cell_type": "code",
   "execution_count": null,
   "metadata": {
    "collapsed": true
   },
   "outputs": [],
   "source": []
  },
  {
   "cell_type": "code",
   "execution_count": null,
   "metadata": {
    "collapsed": true
   },
   "outputs": [],
   "source": [
    "# %7B : {\n",
    "# %7D : }\n",
    "# %5B : [\n",
    "# %5C : \n",
    "# %5D : ]\n",
    "# %2C : ,\n",
    "\n",
    "# Copy and paste the below cell!"
   ]
  },
  {
   "cell_type": "code",
   "execution_count": null,
   "metadata": {
    "collapsed": true
   },
   "outputs": [],
   "source": [
    "def Neuroglancer_Json_Constructor():\n",
    "    def __init__(self, stack):\n",
    "        init_json = {}"
   ]
  },
  {
   "cell_type": "markdown",
   "metadata": {},
   "source": [
    "https://neuroglancer-demo.appspot.com/#!\n",
    "{\n",
    "  \"layers\": [\n",
    "    {\n",
    "      \"source\": \"precomputed://https://neuroglancer-data.s3.amazonaws.com/Neuroglancer_Images/Precomputed/MD585/MD585_prep2_raw_grayJpeg_precomputed\",\n",
    "      \"type\": \"image\",\n",
    "      \"name\": \"image\"\n",
    "    },\n",
    "    {\n",
    "      \"source\": \"precomputed://https://neuroglancer-data.s3.amazonaws.com/Neuroglancer_Images/Precomputed/MD589/MD589_prep2_raw_grayJpeg_precomputed\",\n",
    "      \"type\": \"image\",\n",
    "      \"name\": \"image_2\"\n",
    "    },\n",
    "    {\n",
    "      \"tab\": \"transform\",\n",
    "      \"source\": \"precomputed://https://test-bucket-sid.s3.amazonaws.com/final_precomputed_volumes/MD589\",\n",
    "      \"type\": \"segmentation\",\n",
    "      \"skeletonRendering\": {\n",
    "        \"mode2d\": \"lines_and_points\",\n",
    "        \"mode3d\": \"lines\"\n",
    "      },\n",
    "      \"name\": \"annotation\"\n",
    "    }\n",
    "  ],\n",
    "  \"navigation\": {\n",
    "    \"pose\": {\n",
    "      \"position\": {\n",
    "        \"voxelSize\": [\n",
    "          460,\n",
    "          460,\n",
    "          20000\n",
    "        ],\n",
    "        \"voxelCoordinates\": [\n",
    "          9745,\n",
    "          6531,\n",
    "          170.47999572753906\n",
    "        ]\n",
    "      }\n",
    "    },\n",
    "    \"zoomFactor\": 14720\n",
    "  },\n",
    "  \"perspectiveOrientation\": [\n",
    "    0.0019906109664589167,\n",
    "    -0.0022145232651382685,\n",
    "    0.007156445644795895,\n",
    "    0.9999699592590332\n",
    "  ],\n",
    "  \"perspectiveZoom\": 131072,\n",
    "  \"selectedLayer\": {\n",
    "    \"layer\": \"annotation\",\n",
    "    \"visible\": true\n",
    "  },\n",
    "  \"layout\": \"4panel\"\n",
    "}"
   ]
  },
  {
   "cell_type": "code",
   "execution_count": null,
   "metadata": {
    "collapsed": true
   },
   "outputs": [],
   "source": []
  },
  {
   "cell_type": "code",
   "execution_count": 1,
   "metadata": {},
   "outputs": [
    {
     "name": "stdout",
     "output_type": "stream",
     "text": [
      "http://127.0.0.1:41627/v/a03192aafab922ff75c364f6d4916934691f392a/\n"
     ]
    }
   ],
   "source": [
    "from __future__ import print_function\n",
    "\n",
    "import numpy as np\n",
    "\n",
    "import neuroglancer\n",
    "\n",
    "neuroglancer.set_server_bind_address('127.0.0.1')\n",
    "\n",
    "#neuroglancer.set_static_content_source(url=args.static_content_url)\n",
    "\n",
    "a = np.zeros((3, 100, 100, 100), dtype=np.uint8)\n",
    "ix, iy, iz = np.meshgrid(* [np.linspace(0, 1, n) for n in a.shape[1:]], indexing='ij')\n",
    "a[0, :, :, :] = np.abs(np.sin(4 * (ix + iy))) * 255\n",
    "a[1, :, :, :] = np.abs(np.sin(4 * (iy + iz))) * 255\n",
    "a[2, :, :, :] = np.abs(np.sin(4 * (ix + iz))) * 255\n",
    "\n",
    "b = np.cast[np.uint32](np.floor(np.sqrt((ix - 0.5)**2 + (iy - 0.5)**2 + (iz - 0.5)**2) * 10))\n",
    "b = np.pad(b, 1, 'constant')\n",
    "\n",
    "viewer = neuroglancer.Viewer()\n",
    "with viewer.txn() as s:\n",
    "    s.voxel_size = [10, 10, 10]\n",
    "    s.layers.append(\n",
    "        name='a',\n",
    "        layer=neuroglancer.LocalVolume(\n",
    "            data=a,\n",
    "            # offset is in nm, not voxels\n",
    "            offset=(200, 300, 150),\n",
    "            voxel_size=s.voxel_size,\n",
    "        ),\n",
    "        shader=\"\"\"\n",
    "void main() {\n",
    "  emitRGB(vec3(toNormalized(getDataValue(0)),\n",
    "               toNormalized(getDataValue(1)),\n",
    "               toNormalized(getDataValue(2))));\n",
    "}\n",
    "\"\"\")\n",
    "    s.layers.append(\n",
    "        name='b', layer=neuroglancer.LocalVolume(\n",
    "            data=b,\n",
    "            voxel_size=s.voxel_size,\n",
    "        ))\n",
    "\n",
    "print(viewer)"
   ]
  },
  {
   "cell_type": "code",
   "execution_count": null,
   "metadata": {
    "collapsed": true
   },
   "outputs": [],
   "source": [
    "https://neuroglancer-demo.appspot.com/#!\n",
    "{\n",
    "  \"layers\": [\n",
    "    {\n",
    "      \"source\": \"precomputed://https://neuroglancer-data.s3.amazonaws.com/Neuroglancer_Images/Precomputed/MD585/MD585_prep2_raw_grayJpeg_precomputed\",\n",
    "      \"type\": \"image\",\n",
    "      \"shader\": \"\\nvoid main() {\\n  emitRGB(vec3(toNormalized(getDataValue(1)),\\n               toNormalized(getDataValue(1)),\\n               toNormalized(getDataValue(2))));\\n}\\n\",\n",
    "      \"name\": \"a\"\n",
    "    }\n",
    "  ],\n",
    "  \"navigation\": {\n",
    "    \"pose\": {\n",
    "      \"position\": {\n",
    "        \"voxelSize\": [\n",
    "          10,\n",
    "          10,\n",
    "          10\n",
    "        ],\n",
    "        \"voxelCoordinates\": [\n",
    "          64.56402587890625,\n",
    "          77.08424377441406,\n",
    "          65\n",
    "        ]\n",
    "      }\n",
    "    },\n",
    "    \"zoomFactor\": 10\n",
    "  },\n",
    "  \"perspectiveOrientation\": [\n",
    "    -0.6836387515068054,\n",
    "    -0.17720557749271393,\n",
    "    0.6858879327774048,\n",
    "    0.175482377409935\n",
    "  ],\n",
    "  \"perspectiveZoom\": 4.154038645375808,\n",
    "  \"selectedLayer\": {\n",
    "    \"layer\": \"a\",\n",
    "    \"visible\": true\n",
    "  },\n",
    "  \"layout\": \"4panel\"\n",
    "}"
   ]
  }
 ],
 "metadata": {
  "kernelspec": {
   "display_name": "Python 2",
   "language": "python",
   "name": "python2"
  },
  "language_info": {
   "codemirror_mode": {
    "name": "ipython",
    "version": 2
   },
   "file_extension": ".py",
   "mimetype": "text/x-python",
   "name": "python",
   "nbconvert_exporter": "python",
   "pygments_lexer": "ipython2",
   "version": "2.7.12"
  }
 },
 "nbformat": 4,
 "nbformat_minor": 2
}
