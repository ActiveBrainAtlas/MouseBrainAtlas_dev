{
 "cells": [
  {
   "cell_type": "code",
   "execution_count": 1,
   "metadata": {
    "collapsed": true
   },
   "outputs": [],
   "source": [
    "from skimage.transform import PiecewiseAffineTransform, warp\n",
    "from skimage import data\n",
    "import matplotlib\n",
    "import matplotlib.pyplot as plt\n",
    "%matplotlib inline\n",
    "\n",
    "def grid_pnt_str_to_list( grid_pnt_str ):\n",
    "    return grid_pnt_str.replace('(','').replace(')','').replace(' ','').split(',')\n",
    "\n",
    "def get_2d_grid_dict( grid_dict, z_plane ):\n",
    "    grid_dict_2D = {}\n",
    "    \n",
    "    for grid1_pnt_str in grid_dict.keys():\n",
    "        # Convert the string-key into coordinate pair\n",
    "        grid1_pnt_coors = grid_pnt_str_to_list( grid1_pnt_str )\n",
    "        # Ignore if not on proper z plane\n",
    "        if int(grid1_pnt_coors[2])!=z_plane:\n",
    "            continue\n",
    "        grid1_pnt_coors_2D = [int(grid1_pnt_coors[0]), \\\n",
    "                                int(grid1_pnt_coors[1])]\n",
    "        \n",
    "        # Add the grid point coordinates to the list of original grid point coordinates\n",
    "        grid2_pnt_coors = grid_dict[grid1_pnt_str]\n",
    "        grid2_pnt_coors_2D = [int(grid2_pnt_coors[0]), \\\n",
    "                                int(grid2_pnt_coors[1])]\n",
    "        \n",
    "        grid_dict_2D[str(tuple(grid1_pnt_coors_2D))] = tuple(grid2_pnt_coors_2D)\n",
    "    return grid_dict_2D\n",
    "\n",
    "def get_grid_lists_from_dict( grid_dict ):\n",
    "    grid1_all_coordinates = []\n",
    "    grid2_all_coordinates = []\n",
    "    \n",
    "    for grid1_pnt_str in grid_dict.keys():\n",
    "        grid1_coors = []\n",
    "        # Convert the string-key into coordinate pair\n",
    "        grid1_pnt_coors = grid_pnt_str_to_list( grid1_pnt_str )\n",
    "        # Add coordinates into list of float coordinates\n",
    "        for grid1_pnt_coor in grid1_pnt_coors:\n",
    "            grid1_coors.append(float(grid1_pnt_coor))\n",
    "            \n",
    "        grid1_all_coordinates.append( grid1_coors )\n",
    "        grid2_all_coordinates.append( list(grid_dict[grid1_pnt_str]) )\n",
    "    return np.array(grid1_all_coordinates), np.array(grid2_all_coordinates)\n",
    "\n",
    "def my_round( x, base=5 ):\n",
    "    return int( base * round(float(x)/base))\n",
    "\n",
    "def get_full_volume_without_offset( volume, offset ):\n",
    "    volume_shape = np.shape( volume )\n",
    "    offset_shape = np.shape( offset )\n",
    "    assert len(volume_shape)==offset_shape[0]\n",
    "    \n",
    "    volume_noOffset = np.zeros( (volume_shape[0]+offset[0],\n",
    "                                 volume_shape[1]+offset[1],\n",
    "                                 volume_shape[2]+offset[2]) )\n",
    "    volume_noOffset[-volume_shape[0]:,-volume_shape[1]:,-volume_shape[2]:] = volume.copy()\n",
    "    return volume_noOffset"
   ]
  },
  {
   "cell_type": "code",
   "execution_count": 59,
   "metadata": {
    "collapsed": true
   },
   "outputs": [],
   "source": [
    "import time\n",
    "\n",
    "import neuroglancer\n",
    "import numpy as np\n",
    "            \n",
    "class GridLayer():\n",
    "    def __init__(self, viewer, shape=(800, 600, 500),  vox_size=(10000, 10000, 10000)):\n",
    "        self.vox_size = vox_size\n",
    "        self.shape = shape\n",
    "        self.jump_x = 150\n",
    "        self.jump_y = 150\n",
    "        self.jump_z = 20\n",
    "        self.viewer = viewer\n",
    "        self.grid_dict = {}\n",
    "        self.grid_dict_abs = {}\n",
    "        self.triangle_index_to_grid_pts = {}\n",
    "\n",
    "    def get_grid_layer(self):\n",
    "        grid_layer = neuroglancer.AnnotationLayer(voxel_size=self.vox_size)\n",
    "        # grid_array = np.empty(self.shape, dtype=object)\n",
    "\n",
    "        point_list = []\n",
    "\n",
    "        for i in range(0, self.shape[0], self.jump_x):\n",
    "            for j in range(0, self.shape[1], self.jump_y):\n",
    "                for k in range(0, self.shape[2], self.jump_z):\n",
    "                    self.grid_dict[repr((i, j, k))] = (i, j, k)\n",
    "                    point_list.append((i, j, k))\n",
    "\n",
    "        grid_layer.annotations = [neuroglancer.PointAnnotation(id=repr(pos), point=pos) for pos in point_list]\n",
    "\n",
    "        return grid_layer\n",
    "    \n",
    "    def update_grid_dict(self):\n",
    "        \"\"\"\n",
    "        Loads the current locations of every gridpoint and saves in the grid_dict format\n",
    "        \"\"\"\n",
    "        with self.viewer.txn() as s:\n",
    "            ss = s.layers['points']\n",
    "            grid_as_json = ss.to_json()\n",
    "            grid_list = grid_as_json['annotations']\n",
    "\n",
    "        for gridpnt in grid_list:\n",
    "            original_pos = gridpnt['id']\n",
    "            curr_pos = gridpnt['point']\n",
    "            integer_coordinates = map(int, curr_pos)\n",
    "            integer_coordinates[2] = my_round( integer_coordinates[2], self.jump_z)\n",
    "            self.grid_dict[original_pos] = tuple(integer_coordinates)\n",
    "            \n",
    "            # Currently unused, may be used later\n",
    "            # Update grid_dict_abs\n",
    "#             abs_grid1_pos_tuple = list(original_pos.replace('(','').replace(')','').replace(' ','').split(','))\n",
    "#             abs_grid1_pos_tuple = map(float, abs_grid1_pos_tuple)\n",
    "            \n",
    "#             abs_grid1_pos_tuple[0] = int(abs_grid1_pos_tuple[0]*self.jump_x)\n",
    "#             abs_grid1_pos_tuple[1] = int(abs_grid1_pos_tuple[1]*self.jump_y)\n",
    "#             abs_grid1_pos_tuple[2] = int(abs_grid1_pos_tuple[2]*self.jump_z)\n",
    "            \n",
    "#             float_grid2_coordinates = map(float, curr_pos)\n",
    "#             abs_grid2_pos_tuple = ( int(float_grid2_coordinates[0]*self.jump_x),\n",
    "#                                     int(float_grid2_coordinates[1]*self.jump_y),\n",
    "#                                     int(float_grid2_coordinates[2]*self.jump_z))\n",
    "#             self.grid_dict_abs[str(tuple(abs_grid1_pos_tuple))] = abs_grid2_pos_tuple\n",
    "\n",
    "    def print_coordiante(self):\n",
    "        if 'selectedAnnotation' in self.viewer.state.layers._layers[2]._json_data:\n",
    "            print(self.grid_dict[self.viewer.state.layers._layers[2]._json_data['selectedAnnotation']])\n",
    "            \n",
    "    \n",
    "    \n",
    "class InteractiveInference(object):\n",
    "    def __init__(self, cube):\n",
    "\n",
    "        viewer = self.viewer = neuroglancer.Viewer()\n",
    "        viewer.actions.add('move_left', self.move_cube_left)\n",
    "        viewer.actions.add('move_down', self.move_cube_down)\n",
    "        viewer.actions.add('move_right', self.move_cube_right)\n",
    "        viewer.actions.add('move_up', self.move_cube_up)\n",
    "        viewer.actions.add('morph_volume', self.morph_volume_layer)\n",
    "        viewer.actions.add('reset_cube', self.reset_cube_volume)\n",
    "        viewer.actions.add('reset_grid', self.reset_grid_points)\n",
    "        \n",
    "#         self.cube_voxel_size = [10000, 10000, 10000]\n",
    "        self.cube_voxel_size = [5000, 5000, 20000]\n",
    "\n",
    "        self.cube = cube\n",
    "        self.off_x = 1\n",
    "        self.off_y = 1\n",
    "        self.off_z = 0\n",
    "        self.grid_layer = GridLayer(self.viewer)\n",
    "        self.cube_volm = neuroglancer.LocalVolume(data=self.cube, voxel_size=self.cube_voxel_size, voxel_offset=[self.off_x, self.off_y, self.off_z])\n",
    "\n",
    "        with viewer.config_state.txn() as s:\n",
    "            s.input_event_bindings.data_view['shift+keyw'] = 'move_up'\n",
    "            s.input_event_bindings.data_view['shift+keys'] = 'move_down'\n",
    "            s.input_event_bindings.data_view['shift+keya'] = 'move_left'\n",
    "            s.input_event_bindings.data_view['shift+keyd'] = 'move_right'\n",
    "            s.input_event_bindings.data_view['shift+keym'] = 'morph_volume'\n",
    "            s.input_event_bindings.data_view['shift+keyc'] = 'reset_cube'\n",
    "            s.input_event_bindings.data_view['shift+keyg'] = 'reset_grid'\n",
    "\n",
    "        with viewer.txn() as s:\n",
    "            s.layers['image'] = neuroglancer.ImageLayer(\n",
    "                source='precomputed://https://mousebrainatlas-datajoint-jp2k.s3.amazonaws.com/precomputed/MD585_fullres')\n",
    "            # Resets X/Y/Z plane orientation\n",
    "            s.navigation.pose.orientation = [0,0,0,1]\n",
    "            # Zooms out \n",
    "        #     s.navigation.zoomFactor = 10000 # If 4panel\n",
    "            s.navigation.zoomFactor = 4000 # If xy\n",
    "\n",
    "            # Resets 3D Viewer Orientation\n",
    "            s.perspectiveOrientation = [0,0,0,1]\n",
    "            # Zooms out\n",
    "            s.perspectiveZoom = 75000\n",
    "            \n",
    "            s.layers['cube'] = neuroglancer.ImageLayer(source=self.cube_volm)\n",
    "            s.layers['points'] = self.grid_layer.get_grid_layer()\n",
    "            # s.layers['points'] = neuroglancer.AnnotationLayer(voxel_size=[100000, 100000, 100000])\\\n",
    "            \n",
    "    def reset_grid_points(self, action_state):\n",
    "        with viewer.txn() as s:\n",
    "            s.layers['points'] = self.grid_layer.get_grid_layer()\n",
    "    \n",
    "    def reset_cube_volume(self, action_state):\n",
    "        self.off_x = 1\n",
    "        self.off_y = 1\n",
    "        self.off_z = 0\n",
    "        self.cube = get_cube_test_volume()\n",
    "        self.cube_volm = neuroglancer.LocalVolume(data=self.cube, \n",
    "                                                  voxel_size=self.cube_voxel_size, \n",
    "                                                  voxel_offset=[self.off_x, self.off_y, self.off_z])\n",
    "        with viewer.txn() as s:\n",
    "            s.layers['cube'] = neuroglancer.ImageLayer(source=self.cube_volm)\n",
    "\n",
    "    def move_cube_left(self, action_state):\n",
    "\n",
    "        self.off_x -= 10\n",
    "        cube_volm = neuroglancer.LocalVolume(data=self.cube, voxel_size=self.cube_voxel_size,\n",
    "                                             voxel_offset=[self.off_x, self.off_y, self.off_z])\n",
    "        cube_layer = neuroglancer.SegmentationLayer(source=cube_volm)\n",
    "        with self.viewer.txn() as s:\n",
    "            s.layers['cube'] = cube_layer\n",
    "\n",
    "    def move_cube_right(self, action_state):\n",
    "        self.off_x += 10\n",
    "        cube_volm = neuroglancer.LocalVolume(data=self.cube, voxel_size=self.cube_voxel_size,\n",
    "                                             voxel_offset=[self.off_x, self.off_y, self.off_z])\n",
    "        cube_layer = neuroglancer.SegmentationLayer(source=cube_volm)\n",
    "        with self.viewer.txn() as s:\n",
    "            s.layers['cube'] = cube_layer\n",
    "\n",
    "    def move_cube_up(self, action_state):\n",
    "        self.off_y -= 10\n",
    "        cube_volm = neuroglancer.LocalVolume(data=self.cube, voxel_size=self.cube_voxel_size,\n",
    "                                             voxel_offset=[self.off_x, self.off_y, self.off_z])\n",
    "        cube_layer = neuroglancer.SegmentationLayer(source=cube_volm)\n",
    "        with self.viewer.txn() as s:\n",
    "            s.layers['cube'] = cube_layer\n",
    "\n",
    "    def move_cube_down(self, action_state):\n",
    "        self.off_y += 10\n",
    "        cube_volm = neuroglancer.LocalVolume(data=self.cube, voxel_size=self.cube_voxel_size,\n",
    "                                             voxel_offset=[self.off_x, self.off_y, self.off_z])\n",
    "        cube_layer = neuroglancer.SegmentationLayer(source=cube_volm)\n",
    "        with self.viewer.txn() as s:\n",
    "            s.layers['cube'] = cube_layer\n",
    "            \n",
    "    def morph_volume_layer(self, action_state):\n",
    "        self.grid_layer.update_grid_dict()\n",
    "        grid_map = self.grid_layer.grid_dict # Gets grid_dict\n",
    "        grid_map_abs = self.grid_layer.grid_dict_abs\n",
    "    \n",
    "        cube_offsets = [self.off_x, self.off_y, self.off_z]\n",
    "        self.cube = update_volume( grid_map, self.cube.copy(), cube_offsets )\n",
    "        cube_volm = neuroglancer.LocalVolume(data=self.cube, voxel_size=self.cube_voxel_size,\n",
    "                                             voxel_offset=[0, 0, 0])\n",
    "        cube_layer = neuroglancer.SegmentationLayer(source=cube_volm)\n",
    "        with self.viewer.txn() as s:\n",
    "            s.layers['cube'] = cube_layer\n",
    "\n",
    "\n",
    "def update_volume( grid_map, volume, volume_offset, noOffsets=False ):\n",
    "    \"\"\"\n",
    "    This function will set the offset to zero\n",
    "    \"\"\"\n",
    "    volume_offset = [volume_offset[2],volume_offset[1],volume_offset[0]]\n",
    "    volume_shape = np.shape( volume )\n",
    "    # \"new_volume\" created as a large volume with no offset\n",
    "    new_volume = np.zeros( (volume_shape[0]+volume_offset[0],\n",
    "                            volume_shape[1]+volume_offset[1]+200,\n",
    "                            volume_shape[2]+volume_offset[2]+200), dtype=np.uint8 )\n",
    "    # volume added into \"new_volume\" \n",
    "    volume_noOffset = get_full_volume_without_offset( volume, volume_offset )\n",
    "    \n",
    "    del volume\n",
    "    \n",
    "    new_max_x = 0\n",
    "    new_max_y = 0\n",
    "    \n",
    "    for z_vol_level in range(volume_shape[2]):\n",
    "        try:\n",
    "            z = z_vol_level+volume_offset[0]\n",
    "            \n",
    "            grid_map_z = my_round( z_vol_level, 20) # HARDCODED 20 SHOULD BE SELF.JUMPZ\n",
    "#             grid_dict_2D = get_2d_grid_dict( grid_map, 0 )\n",
    "            grid_dict_2D = get_2d_grid_dict( grid_map, grid_map_z )\n",
    "            grid_dict_2D_grid2, grid_dict_2D_grid1 = get_grid_lists_from_dict( grid_dict_2D )\n",
    "\n",
    "            tform = PiecewiseAffineTransform()\n",
    "            tform.estimate( grid_dict_2D_grid1 , grid_dict_2D_grid2 )\n",
    "\n",
    "            image = volume_noOffset[z,:,:]\n",
    "            rows, cols = image.shape[0], image.shape[1]\n",
    "            out_rows, out_cols = rows+200, cols+200\n",
    "            warped_img = warp(image, tform, output_shape=(out_rows, out_cols))\n",
    "                        \n",
    "            warped_img_max_nonzero_y = np.amax( np.nonzero(warped_img[:,:])[0] )\n",
    "            warped_img_max_nonzero_x = np.amax( np.nonzero(warped_img[:,:])[1] )\n",
    "            new_max_x = max( new_max_x, warped_img_max_nonzero_x)\n",
    "            new_max_y = max( new_max_y, warped_img_max_nonzero_y)\n",
    "            \n",
    "            import cv2\n",
    "            ret, warped_img = cv2.threshold(warped_img,.0001,1,cv2.THRESH_BINARY)\n",
    "            \n",
    "            new_volume[z,:,:] = warped_img\n",
    "        except IndexError:\n",
    "            pass\n",
    "        except ValueError:\n",
    "            pass\n",
    "        \n",
    "    cropped_new_volume = np.zeros( (volume_shape[0], new_max_y, new_max_x ), dtype=np.uint8 )\n",
    "    cropped_new_volume[ :, -new_max_y:, -new_max_x:] = new_volume[ :, :new_max_y, :new_max_x]\n",
    "        \n",
    "    return cropped_new_volume"
   ]
  },
  {
   "cell_type": "code",
   "execution_count": 64,
   "metadata": {
    "scrolled": true
   },
   "outputs": [
    {
     "name": "stdout",
     "output_type": "stream",
     "text": [
      "http://132.239.73.85:35000/v/ab092931769a0bae0dab84621ed0ae00180b4b50/\n"
     ]
    }
   ],
   "source": [
    "def get_cube_test_volume_real(cube_len=100):\n",
    "    cube = np.zeros((cube_len, cube_len, cube_len), dtype=np.uint8)\n",
    "\n",
    "    cube[:, :, :10] = 1\n",
    "    cube[:, :, cube_len-10:cube_len] = 1\n",
    "\n",
    "    cube[:10, :, :] = 1\n",
    "    cube[cube_len-10:cube_len, :, :] = 1\n",
    "\n",
    "    cube[:, :10, :] = 1\n",
    "    cube[:, cube_len-10:cube_len, :] = 1\n",
    "    \n",
    "    return cube\n",
    "\n",
    "def get_rect_test_volume(cube_len=100):\n",
    "    cube = np.zeros((cube_len, cube_len, cube_len), dtype=np.uint8)\n",
    "\n",
    "    cube[:, :, :10] = 1\n",
    "    cube[:, :, cube_len-10:cube_len] = 1\n",
    "\n",
    "    cube[:10, :, :] = 1\n",
    "    cube[cube_len-10:cube_len, :, :] = 1\n",
    "\n",
    "    cube[:, :10, :] = 1\n",
    "    cube[:, cube_len-10:cube_len, :] = 1\n",
    "    \n",
    "    rectangle = np.zeros( (cube_len, 2*cube_len, cube_len), dtype=np.uint8 )\n",
    "    rectangle[ 0:cube_len, 0:cube_len, 0:cube_len] = cube\n",
    "    rectangle[ 0:cube_len, cube_len:2*cube_len, 0:cube_len] = cube\n",
    "    \n",
    "    return rectangle\n",
    "\n",
    "def get_cube_test_volume():\n",
    "    atlas_volume_fp = '/media/alexn/Data_2/Neuroglancer_Files/\\\n",
    "Neuroglancer_Volumes/Matrix/MD585/human_annotation/combined_volume/brainstem_xy5um_z20um/color_1_thickness_1_offset_0/volume_colored.npy'\n",
    "    atlas_volume_fp = '/home/alexn/Desktop/MD585_IC_vol.np.npy'\n",
    "#     vol = np.zeros( (279,1508,1508) )[0:279,0:1105,:] + np.load(atlas_volume_fp)\n",
    "    vol = np.load(atlas_volume_fp)\n",
    "    return vol\n",
    "\n",
    "cube = get_cube_test_volume()\n",
    "\n",
    "neuroglancer.set_server_bind_address(bind_address='0.0.0.0', bind_port=35000)\n",
    "\n",
    "inf = InteractiveInference(cube)\n",
    "viewer = inf.viewer\n",
    "ip_name = 'ec2-52-53-248-156.us-west-1.compute.amazonaws.com'  ## Change for different machine\n",
    "ip_name = '132.239.73.85'  ## Change for different machine\n",
    "\n",
    "print('http://' + ip_name + ':' + viewer.get_viewer_url().split(':')[2])"
   ]
  },
  {
   "cell_type": "code",
   "execution_count": 62,
   "metadata": {},
   "outputs": [
    {
     "name": "stdout",
     "output_type": "stream",
     "text": [
      "Atlas_Meeting_Talking_Points  Goodwin-2019.pdf\t\tReferences\r\n",
      "atlas_patch_files\t      MD585_IC_vol.np.npy\tRestart\r\n",
      "czi_to_tif\t\t      Neuroglancer Suggestions\r\n",
      "DK8_thumbnails\t\t      old\r\n"
     ]
    }
   ],
   "source": [
    "! ls /home/alexn/Desktop/"
   ]
  },
  {
   "cell_type": "code",
   "execution_count": 27,
   "metadata": {},
   "outputs": [
    {
     "data": {
      "text/plain": [
       "(279, 1105, 1508)"
      ]
     },
     "execution_count": 27,
     "metadata": {},
     "output_type": "execute_result"
    }
   ],
   "source": [
    "np.shape(get_cube_test_volume())"
   ]
  },
  {
   "cell_type": "code",
   "execution_count": 54,
   "metadata": {},
   "outputs": [
    {
     "data": {
      "image/png": "[encoded data removed]",
      "text/plain": [
       "<matplotlib.figure.Figure at 0x7f5db7a952d0>"
      ]
     },
     "metadata": {},
     "output_type": "display_data"
    },
    {
     "data": {
      "text/plain": [
       "<matplotlib.collections.PathCollection at 0x7f5dcd3c5410>"
      ]
     },
     "execution_count": 54,
     "metadata": {},
     "output_type": "execute_result"
    },
    {
     "data": {
      "image/png": "[encoded data removed]",
      "text/plain": [
       "<matplotlib.figure.Figure at 0x7f5e06d5aed0>"
      ]
     },
     "metadata": {},
     "output_type": "display_data"
    }
   ],
   "source": [
    "def update_volume( grid_map, volume, volume_offset, noOffsets=False ):\n",
    "    \"\"\"\n",
    "    This function will set the offset to zero\n",
    "    \"\"\"\n",
    "    volume_offset = [volume_offset[2],volume_offset[1],volume_offset[0]]\n",
    "    volume_shape = np.shape( volume )\n",
    "    # \"new_volume\" created as a large volume with no offset\n",
    "    new_volume = np.zeros( (volume_shape[0]+volume_offset[0],\n",
    "                            volume_shape[1]+volume_offset[1]+200,\n",
    "                            volume_shape[2]+volume_offset[2]+200), dtype=np.uint8 )\n",
    "    # volume added into \"new_volume\" \n",
    "    volume_noOffset = get_full_volume_without_offset( volume, volume_offset )\n",
    "    \n",
    "    del volume\n",
    "    \n",
    "    new_max_x = 0\n",
    "    new_max_y = 0\n",
    "    \n",
    "    for z_vol_level in range(volume_shape[2]):\n",
    "        try:\n",
    "            z = z_vol_level+volume_offset[0]\n",
    "            grid_dict_2D = get_2d_grid_dict( grid_map, 0 )\n",
    "            grid_dict_2D_grid2, grid_dict_2D_grid1 = get_grid_lists_from_dict( grid_dict_2D )\n",
    "\n",
    "            tform = PiecewiseAffineTransform()\n",
    "            tform.estimate( grid_dict_2D_grid1 , grid_dict_2D_grid2 )\n",
    "\n",
    "            image = volume_noOffset[z,:,:]\n",
    "            rows, cols = image.shape[0], image.shape[1]\n",
    "            out_rows, out_cols = rows+200, cols+200\n",
    "            warped_img = warp(image, tform, output_shape=(out_rows, out_cols))\n",
    "                        \n",
    "                \n",
    "            warped_img_max_nonzero_y = np.amax( np.nonzero(warped_img[:,:])[0] )\n",
    "            warped_img_max_nonzero_x = np.amax( np.nonzero(warped_img[:,:])[1] )\n",
    "            new_max_x = max( new_max_x, warped_img_max_nonzero_x)\n",
    "            new_max_y = max( new_max_y, warped_img_max_nonzero_y)\n",
    "            \n",
    "            import cv2\n",
    "            ret, warped_img = cv2.threshold(warped_img,.0001,1,cv2.THRESH_BINARY)\n",
    "            \n",
    "            new_volume[z,:,:] = warped_img\n",
    "        except IndexError:\n",
    "            pass\n",
    "        except ValueError:\n",
    "            pass\n",
    "        \n",
    "    cropped_new_volume = np.zeros( (volume_shape[0], new_max_y, new_max_x ), dtype=np.uint8 )\n",
    "    cropped_new_volume[ :, -new_max_y:, -new_max_x:] = new_volume[ :, :new_max_y, :new_max_x]\n",
    "        \n",
    "    return cropped_new_volume\n",
    "\n",
    "# TESTING\n",
    "\n",
    "gd = inf.grid_layer.grid_dict\n",
    "\n",
    "# gd['(0, 0, 0)'] = (0,0,0)\n",
    "gd['(0, 0, 0)'] = (0,0,0)\n",
    "# gd['(150, 0, 0)'] = (150,0,0)\n",
    "# gd['(150, 0, 0)'] = (150,50,0)\n",
    "# gd['(150, 150, 0)'] = (150,100,0)\n",
    "\n",
    "gd['(600, 0, 0)'] = (600,50,0)\n",
    "gd['(600, 150, 0)'] = (600,100,0)\n",
    "\n",
    "cube = get_cube_test_volume( )\n",
    "\n",
    "new_cube = update_volume( gd, cube.copy(), [150,1,0] )\n",
    "\n",
    "plt.imshow(cube[100,:,:], norm=matplotlib.colors.Normalize(vmin=0, vmax=1, clip=False))\n",
    "plt.show()\n",
    "plt.imshow(new_cube[100,:,:], norm=matplotlib.colors.Normalize(vmin=0, vmax=1, clip=False))\n",
    "\n",
    "plt.scatter( [600,600], [0,150], c='b' )\n",
    "plt.scatter( [600,600], [50,100], c='r' )"
   ]
  },
  {
   "cell_type": "code",
   "execution_count": 53,
   "metadata": {},
   "outputs": [
    {
     "data": {
      "image/png": "[encoded data removed]",
      "text/plain": [
       "<matplotlib.figure.Figure at 0x7f5db7a9d690>"
      ]
     },
     "metadata": {},
     "output_type": "display_data"
    },
    {
     "data": {
      "text/plain": [
       "<matplotlib.collections.PathCollection at 0x7f5dcd04fa90>"
      ]
     },
     "execution_count": 53,
     "metadata": {},
     "output_type": "execute_result"
    },
    {
     "data": {
      "image/png": "[encoded data removed]",
      "text/plain": [
       "<matplotlib.figure.Figure at 0x7f5dcd2aee90>"
      ]
     },
     "metadata": {},
     "output_type": "display_data"
    }
   ],
   "source": [
    "plt.imshow(cube[100,:,:], norm=matplotlib.colors.Normalize(vmin=0, vmax=1, clip=False))\n",
    "plt.show()\n",
    "plt.imshow(new_cube[100,:,:], norm=matplotlib.colors.Normalize(vmin=0, vmax=1, clip=False))\n",
    "\n",
    "plt.scatter( [150,150], [0,150], c='b' )\n",
    "plt.scatter( [150,150], [50,100], c='r' )"
   ]
  },
  {
   "cell_type": "code",
   "execution_count": null,
   "metadata": {
    "collapsed": true
   },
   "outputs": [],
   "source": []
  },
  {
   "cell_type": "code",
   "execution_count": null,
   "metadata": {
    "collapsed": true
   },
   "outputs": [],
   "source": []
  },
  {
   "cell_type": "code",
   "execution_count": 46,
   "metadata": {},
   "outputs": [
    {
     "data": {
      "image/png": "[encoded data removed]",
      "text/plain": [
       "<matplotlib.figure.Figure at 0x7f5db79f2a50>"
      ]
     },
     "metadata": {},
     "output_type": "display_data"
    },
    {
     "data": {
      "text/plain": [
       "<matplotlib.collections.PathCollection at 0x7f5dcc34bed0>"
      ]
     },
     "execution_count": 46,
     "metadata": {},
     "output_type": "execute_result"
    },
    {
     "data": {
      "image/png": "[encoded data removed]",
      "text/plain": [
       "<matplotlib.figure.Figure at 0x7f5dcd6f0cd0>"
      ]
     },
     "metadata": {},
     "output_type": "display_data"
    }
   ],
   "source": [
    "\n",
    "# TESTING\n",
    "\n",
    "gd = inf.grid_layer.grid_dict\n",
    "\n",
    "# gd['(0, 0, 0)'] = (0,0,0)\n",
    "gd['(0, 0, 0)'] = (0,0,0)\n",
    "# gd['(150, 0, 0)'] = (150,0,0)\n",
    "gd['(150, 0, 0)'] = (150,50,0)\n",
    "gd['(150, 150, 0)'] = (150,100,0)\n",
    "\n",
    "rect = get_rect_test_volume()\n",
    "\n",
    "new_rect = update_volume( gd, rect.copy(), [80,15,0] )\n",
    "\n",
    "plt.imshow(rect[10,:,:], norm=matplotlib.colors.Normalize(vmin=0, vmax=1, clip=False))\n",
    "plt.show()\n",
    "plt.imshow(new_rect[10,:,:], norm=matplotlib.colors.Normalize(vmin=0, vmax=1, clip=False))\n",
    "\n",
    "plt.scatter( [150,150], [0,150], c='b' )\n",
    "plt.scatter( [150,150], [50,100], c='r' )"
   ]
  },
  {
   "cell_type": "code",
   "execution_count": 37,
   "metadata": {},
   "outputs": [
    {
     "data": {
      "text/plain": [
       "(100, 200, 100)"
      ]
     },
     "execution_count": 37,
     "metadata": {},
     "output_type": "execute_result"
    }
   ],
   "source": [
    "np.shape( update_volume( gd, rect.copy(), [1,1,0] ) )"
   ]
  },
  {
   "cell_type": "code",
   "execution_count": 186,
   "metadata": {},
   "outputs": [
    {
     "data": {
      "image/png": "[encoded data removed]",
      "text/plain": [
       "<matplotlib.figure.Figure at 0x7fd7b5fb45d0>"
      ]
     },
     "metadata": {},
     "output_type": "display_data"
    },
    {
     "data": {
      "text/plain": [
       "<matplotlib.image.AxesImage at 0x7fd7b4fb6610>"
      ]
     },
     "execution_count": 186,
     "metadata": {},
     "output_type": "execute_result"
    },
    {
     "data": {
      "image/png": "[encoded data removed]",
      "text/plain": [
       "<matplotlib.figure.Figure at 0x7fd7b501e510>"
      ]
     },
     "metadata": {},
     "output_type": "display_data"
    }
   ],
   "source": [
    "plt.imshow(cube[10,:,:], norm=matplotlib.colors.Normalize(vmin=0, vmax=1, clip=False))\n",
    "plt.show()\n",
    "plt.imshow(new_cube[10,:,:], norm=matplotlib.colors.Normalize(vmin=0, vmax=1, clip=False))"
   ]
  },
  {
   "cell_type": "code",
   "execution_count": null,
   "metadata": {
    "collapsed": true
   },
   "outputs": [],
   "source": []
  },
  {
   "cell_type": "code",
   "execution_count": null,
   "metadata": {
    "collapsed": true
   },
   "outputs": [],
   "source": []
  },
  {
   "cell_type": "code",
   "execution_count": 196,
   "metadata": {},
   "outputs": [
    {
     "ename": "ValueError",
     "evalue": "too many values to unpack",
     "output_type": "error",
     "traceback": [
      "\u001b[0;31m---------------------------------------------------------------------------\u001b[0m",
      "\u001b[0;31mValueError\u001b[0m                                Traceback (most recent call last)",
      "\u001b[0;32m<ipython-input-196-df0fe5d1556c>\u001b[0m in \u001b[0;36m<module>\u001b[0;34m()\u001b[0m\n\u001b[1;32m     23\u001b[0m \u001b[0mcube\u001b[0m \u001b[0;34m=\u001b[0m \u001b[0mget_cube_test_volume\u001b[0m\u001b[0;34m(\u001b[0m \u001b[0;36m100\u001b[0m \u001b[0;34m)\u001b[0m\u001b[0;34m\u001b[0m\u001b[0m\n\u001b[1;32m     24\u001b[0m \u001b[0;34m\u001b[0m\u001b[0m\n\u001b[0;32m---> 25\u001b[0;31m \u001b[0mnew_cube\u001b[0m\u001b[0;34m,\u001b[0m \u001b[0mnew_offset\u001b[0m \u001b[0;34m=\u001b[0m \u001b[0mupdate_volume\u001b[0m\u001b[0;34m(\u001b[0m \u001b[0mgd\u001b[0m\u001b[0;34m,\u001b[0m \u001b[0mcube\u001b[0m\u001b[0;34m.\u001b[0m\u001b[0mcopy\u001b[0m\u001b[0;34m(\u001b[0m\u001b[0;34m)\u001b[0m\u001b[0;34m,\u001b[0m \u001b[0;34m[\u001b[0m\u001b[0;36m150\u001b[0m\u001b[0;34m,\u001b[0m\u001b[0;36m1\u001b[0m\u001b[0;34m,\u001b[0m\u001b[0;36m0\u001b[0m\u001b[0;34m]\u001b[0m \u001b[0;34m)\u001b[0m\u001b[0;34m\u001b[0m\u001b[0m\n\u001b[0m",
      "\u001b[0;31mValueError\u001b[0m: too many values to unpack"
     ]
    },
    {
     "data": {
      "image/png": "[encoded data removed]",
      "text/plain": [
       "<matplotlib.figure.Figure at 0x7fd7b50f8e50>"
      ]
     },
     "metadata": {},
     "output_type": "display_data"
    }
   ],
   "source": [
    "# TESTING\n",
    "\n",
    "gd = inf.grid_layer.grid_dict\n",
    "\n",
    "# gd['(0, 0, 0)'] = (0,0,0)\n",
    "gd['(0, 0, 0)'] = (0,0,0)\n",
    "# gd['(150, 0, 0)'] = (150,0,0)\n",
    "gd['(150, 0, 0)'] = (150,50,0)\n",
    "gd['(150, 150, 0)'] = (150,100,0)\n",
    "\n",
    "cube = get_cube_test_volume( 100 )\n",
    "\n",
    "new_cube, new_offset = update_volume( gd, cube.copy(), [150,1,0] )"
   ]
  }
 ],
 "metadata": {
  "kernelspec": {
   "display_name": "Python 2",
   "language": "python",
   "name": "python2"
  },
  "language_info": {
   "codemirror_mode": {
    "name": "ipython",
    "version": 2
   },
   "file_extension": ".py",
   "mimetype": "text/x-python",
   "name": "python",
   "nbconvert_exporter": "python",
   "pygments_lexer": "ipython2",
   "version": "2.7.12"
  }
 },
 "nbformat": 4,
 "nbformat_minor": 2
}
