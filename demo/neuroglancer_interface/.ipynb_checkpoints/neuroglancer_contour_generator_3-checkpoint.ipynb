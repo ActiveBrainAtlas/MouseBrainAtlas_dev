{
 "cells": [
  {
   "cell_type": "code",
   "execution_count": 1,
   "metadata": {},
   "outputs": [
    {
     "name": "stderr",
     "output_type": "stream",
     "text": [
      "ENABLE_UPLOAD_S3 is not set, default to False.\n",
      "ENABLE_DOWNLOAD_S3 is not set, default to False.\n"
     ]
    },
    {
     "name": "stdout",
     "output_type": "stream",
     "text": [
      "Setting environment for Precision WorkStation for Alex Newberry\n",
      "{'MD589': 0.46, 'MD585': 0.46, 'UCSD001': 0.325, 'MD594': 0.46}\n",
      "/media/alexn/BstemAtlasDataBackup/ucsd_brain/CSHL_data_processed/MD585/MD585_cropbox.ini\n",
      "/media/alexn/BstemAtlasDataBackup/ucsd_brain/CSHL_data_processed/MD585/MD585_cropbox.ini\n",
      "/media/alexn/BstemAtlasDataBackup/ucsd_brain/CSHL_data_processed/MD589/MD589_cropbox.ini\n",
      "/media/alexn/BstemAtlasDataBackup/ucsd_brain/CSHL_data_processed/MD589/MD589_cropbox.ini\n",
      "/media/alexn/BstemAtlasDataBackup/ucsd_brain/CSHL_data_processed/MD594/MD594_cropbox.ini\n",
      "/media/alexn/BstemAtlasDataBackup/ucsd_brain/CSHL_data_processed/MD594/MD594_cropbox.ini\n",
      "/media/alexn/BstemAtlasDataBackup/ucsd_brain/CSHL_data_processed/UCSD001/UCSD001_cropbox.ini\n",
      "/media/alexn/BstemAtlasDataBackup/ucsd_brain/CSHL_data_processed/UCSD001/UCSD001_cropbox.ini\n"
     ]
    },
    {
     "name": "stderr",
     "output_type": "stream",
     "text": [
      "Seems you are using operation INIs to provide cropbox.\n",
      "Seems you are using operation INIs to provide cropbox.\n",
      "Seems you are using operation INIs to provide cropbox.\n",
      "Seems you are using operation INIs to provide cropbox.\n",
      "No anchor.txt is found. Seems we are using the operation ini to provide anchor. Try to load operation ini.\n",
      "Failed to cache MD590 anchor: ini file /media/alexn/BstemAtlasDataBackup/ucsd_brain/CSHL_data_processed/MD590/operation_configs/from_none_to_aligned.ini does not exist.\n",
      "File does not exist: /media/alexn/BstemAtlasDataBackup/ucsd_brain/CSHL_data_processed/MD590/MD590_sorted_filenames.txt\n",
      "Failed to cache MD590 sections_to_filenames: \n",
      "File does not exist: /media/alexn/BstemAtlasDataBackup/ucsd_brain/CSHL_data_processed/MD590/MD590_sorted_filenames.txt\n",
      "Failed to cache MD590 filenames_to_sections: \n",
      "No anchor.txt is found. Seems we are using the operation ini to provide anchor. Try to load operation ini.\n",
      "Failed to cache MD590 section_limits: ini file /media/alexn/BstemAtlasDataBackup/ucsd_brain/CSHL_data_processed/MD590/operation_configs/from_none_to_aligned.ini does not exist.\n",
      "No anchor.txt is found. Seems we are using the operation ini to provide anchor. Try to load operation ini.\n",
      "Failed to cache MD590 cropbox: ini file /media/alexn/BstemAtlasDataBackup/ucsd_brain/CSHL_data_processed/MD590/operation_configs/from_none_to_aligned.ini does not exist.\n",
      "Failed to cache MD590 valid_sections/filenames: MD590\n",
      "No anchor.txt is found. Seems we are using the operation ini to provide anchor. Try to load operation ini.\n",
      "Failed to cache MD590 image_shape: ini file /media/alexn/BstemAtlasDataBackup/ucsd_brain/CSHL_data_processed/MD590/operation_configs/from_none_to_aligned.ini does not exist.\n",
      "No anchor.txt is found. Seems we are using the operation ini to provide anchor. Try to load operation ini.\n",
      "Failed to cache MD591 anchor: ini file /media/alexn/BstemAtlasDataBackup/ucsd_brain/CSHL_data_processed/MD591/operation_configs/from_none_to_aligned.ini does not exist.\n",
      "File does not exist: /media/alexn/BstemAtlasDataBackup/ucsd_brain/CSHL_data_processed/MD591/MD591_sorted_filenames.txt\n",
      "Failed to cache MD591 sections_to_filenames: \n",
      "File does not exist: /media/alexn/BstemAtlasDataBackup/ucsd_brain/CSHL_data_processed/MD591/MD591_sorted_filenames.txt\n",
      "Failed to cache MD591 filenames_to_sections: \n",
      "No anchor.txt is found. Seems we are using the operation ini to provide anchor. Try to load operation ini.\n",
      "Failed to cache MD591 section_limits: ini file /media/alexn/BstemAtlasDataBackup/ucsd_brain/CSHL_data_processed/MD591/operation_configs/from_none_to_aligned.ini does not exist.\n",
      "No anchor.txt is found. Seems we are using the operation ini to provide anchor. Try to load operation ini.\n",
      "Failed to cache MD591 cropbox: ini file /media/alexn/BstemAtlasDataBackup/ucsd_brain/CSHL_data_processed/MD591/operation_configs/from_none_to_aligned.ini does not exist.\n",
      "Failed to cache MD591 valid_sections/filenames: MD591\n",
      "No anchor.txt is found. Seems we are using the operation ini to provide anchor. Try to load operation ini.\n",
      "Failed to cache MD591 image_shape: ini file /media/alexn/BstemAtlasDataBackup/ucsd_brain/CSHL_data_processed/MD591/operation_configs/from_none_to_aligned.ini does not exist.\n",
      "No anchor.txt is found. Seems we are using the operation ini to provide anchor. Try to load operation ini.\n",
      "Failed to cache MD592 anchor: ini file /media/alexn/BstemAtlasDataBackup/ucsd_brain/CSHL_data_processed/MD592/operation_configs/from_none_to_aligned.ini does not exist.\n",
      "File does not exist: /media/alexn/BstemAtlasDataBackup/ucsd_brain/CSHL_data_processed/MD592/MD592_sorted_filenames.txt\n",
      "Failed to cache MD592 sections_to_filenames: \n",
      "File does not exist: /media/alexn/BstemAtlasDataBackup/ucsd_brain/CSHL_data_processed/MD592/MD592_sorted_filenames.txt\n",
      "Failed to cache MD592 filenames_to_sections: \n",
      "No anchor.txt is found. Seems we are using the operation ini to provide anchor. Try to load operation ini.\n",
      "Failed to cache MD592 section_limits: ini file /media/alexn/BstemAtlasDataBackup/ucsd_brain/CSHL_data_processed/MD592/operation_configs/from_none_to_aligned.ini does not exist.\n",
      "No anchor.txt is found. Seems we are using the operation ini to provide anchor. Try to load operation ini.\n",
      "Failed to cache MD592 cropbox: ini file /media/alexn/BstemAtlasDataBackup/ucsd_brain/CSHL_data_processed/MD592/operation_configs/from_none_to_aligned.ini does not exist.\n",
      "Failed to cache MD592 valid_sections/filenames: MD592\n",
      "No anchor.txt is found. Seems we are using the operation ini to provide anchor. Try to load operation ini.\n",
      "Failed to cache MD592 image_shape: ini file /media/alexn/BstemAtlasDataBackup/ucsd_brain/CSHL_data_processed/MD592/operation_configs/from_none_to_aligned.ini does not exist.\n",
      "No anchor.txt is found. Seems we are using the operation ini to provide anchor. Try to load operation ini.\n",
      "Failed to cache MD593 anchor: ini file /media/alexn/BstemAtlasDataBackup/ucsd_brain/CSHL_data_processed/MD593/operation_configs/from_none_to_aligned.ini does not exist.\n",
      "File does not exist: /media/alexn/BstemAtlasDataBackup/ucsd_brain/CSHL_data_processed/MD593/MD593_sorted_filenames.txt\n",
      "Failed to cache MD593 sections_to_filenames: \n",
      "File does not exist: /media/alexn/BstemAtlasDataBackup/ucsd_brain/CSHL_data_processed/MD593/MD593_sorted_filenames.txt\n",
      "Failed to cache MD593 filenames_to_sections: \n",
      "No anchor.txt is found. Seems we are using the operation ini to provide anchor. Try to load operation ini.\n",
      "Failed to cache MD593 section_limits: ini file /media/alexn/BstemAtlasDataBackup/ucsd_brain/CSHL_data_processed/MD593/operation_configs/from_none_to_aligned.ini does not exist.\n",
      "No anchor.txt is found. Seems we are using the operation ini to provide anchor. Try to load operation ini.\n",
      "Failed to cache MD593 cropbox: ini file /media/alexn/BstemAtlasDataBackup/ucsd_brain/CSHL_data_processed/MD593/operation_configs/from_none_to_aligned.ini does not exist.\n",
      "Failed to cache MD593 valid_sections/filenames: MD593\n",
      "No anchor.txt is found. Seems we are using the operation ini to provide anchor. Try to load operation ini.\n",
      "Failed to cache MD593 image_shape: ini file /media/alexn/BstemAtlasDataBackup/ucsd_brain/CSHL_data_processed/MD593/operation_configs/from_none_to_aligned.ini does not exist.\n",
      "Seems you are using operation INIs to provide cropbox.\n",
      "Seems you are using operation INIs to provide cropbox.\n",
      "No anchor.txt is found. Seems we are using the operation ini to provide anchor. Try to load operation ini.\n",
      "Failed to cache MD595 anchor: ini file /media/alexn/BstemAtlasDataBackup/ucsd_brain/CSHL_data_processed/MD595/operation_configs/from_none_to_aligned.ini does not exist.\n",
      "File does not exist: /media/alexn/BstemAtlasDataBackup/ucsd_brain/CSHL_data_processed/MD595/MD595_sorted_filenames.txt\n",
      "Failed to cache MD595 sections_to_filenames: \n",
      "File does not exist: /media/alexn/BstemAtlasDataBackup/ucsd_brain/CSHL_data_processed/MD595/MD595_sorted_filenames.txt\n",
      "Failed to cache MD595 filenames_to_sections: \n",
      "No anchor.txt is found. Seems we are using the operation ini to provide anchor. Try to load operation ini.\n",
      "Failed to cache MD595 section_limits: ini file /media/alexn/BstemAtlasDataBackup/ucsd_brain/CSHL_data_processed/MD595/operation_configs/from_none_to_aligned.ini does not exist.\n",
      "No anchor.txt is found. Seems we are using the operation ini to provide anchor. Try to load operation ini.\n",
      "Failed to cache MD595 cropbox: ini file /media/alexn/BstemAtlasDataBackup/ucsd_brain/CSHL_data_processed/MD595/operation_configs/from_none_to_aligned.ini does not exist.\n",
      "Failed to cache MD595 valid_sections/filenames: MD595\n",
      "No anchor.txt is found. Seems we are using the operation ini to provide anchor. Try to load operation ini.\n",
      "Failed to cache MD595 image_shape: ini file /media/alexn/BstemAtlasDataBackup/ucsd_brain/CSHL_data_processed/MD595/operation_configs/from_none_to_aligned.ini does not exist.\n",
      "No anchor.txt is found. Seems we are using the operation ini to provide anchor. Try to load operation ini.\n",
      "Failed to cache MD598 anchor: ini file /media/alexn/BstemAtlasDataBackup/ucsd_brain/CSHL_data_processed/MD598/operation_configs/from_none_to_aligned.ini does not exist.\n",
      "File does not exist: /media/alexn/BstemAtlasDataBackup/ucsd_brain/CSHL_data_processed/MD598/MD598_sorted_filenames.txt\n",
      "Failed to cache MD598 sections_to_filenames: \n",
      "File does not exist: /media/alexn/BstemAtlasDataBackup/ucsd_brain/CSHL_data_processed/MD598/MD598_sorted_filenames.txt\n",
      "Failed to cache MD598 filenames_to_sections: \n",
      "No anchor.txt is found. Seems we are using the operation ini to provide anchor. Try to load operation ini.\n",
      "Failed to cache MD598 section_limits: ini file /media/alexn/BstemAtlasDataBackup/ucsd_brain/CSHL_data_processed/MD598/operation_configs/from_none_to_aligned.ini does not exist.\n",
      "No anchor.txt is found. Seems we are using the operation ini to provide anchor. Try to load operation ini.\n",
      "Failed to cache MD598 cropbox: ini file /media/alexn/BstemAtlasDataBackup/ucsd_brain/CSHL_data_processed/MD598/operation_configs/from_none_to_aligned.ini does not exist.\n",
      "Failed to cache MD598 valid_sections/filenames: MD598\n",
      "No anchor.txt is found. Seems we are using the operation ini to provide anchor. Try to load operation ini.\n",
      "Failed to cache MD598 image_shape: ini file /media/alexn/BstemAtlasDataBackup/ucsd_brain/CSHL_data_processed/MD598/operation_configs/from_none_to_aligned.ini does not exist.\n",
      "No anchor.txt is found. Seems we are using the operation ini to provide anchor. Try to load operation ini.\n",
      "Failed to cache MD599 anchor: ini file /media/alexn/BstemAtlasDataBackup/ucsd_brain/CSHL_data_processed/MD599/operation_configs/from_none_to_aligned.ini does not exist.\n",
      "File does not exist: /media/alexn/BstemAtlasDataBackup/ucsd_brain/CSHL_data_processed/MD599/MD599_sorted_filenames.txt\n",
      "Failed to cache MD599 sections_to_filenames: \n",
      "File does not exist: /media/alexn/BstemAtlasDataBackup/ucsd_brain/CSHL_data_processed/MD599/MD599_sorted_filenames.txt\n",
      "Failed to cache MD599 filenames_to_sections: \n",
      "No anchor.txt is found. Seems we are using the operation ini to provide anchor. Try to load operation ini.\n",
      "Failed to cache MD599 section_limits: ini file /media/alexn/BstemAtlasDataBackup/ucsd_brain/CSHL_data_processed/MD599/operation_configs/from_none_to_aligned.ini does not exist.\n",
      "No anchor.txt is found. Seems we are using the operation ini to provide anchor. Try to load operation ini.\n",
      "Failed to cache MD599 cropbox: ini file /media/alexn/BstemAtlasDataBackup/ucsd_brain/CSHL_data_processed/MD599/operation_configs/from_none_to_aligned.ini does not exist.\n",
      "Failed to cache MD599 valid_sections/filenames: MD599\n",
      "No anchor.txt is found. Seems we are using the operation ini to provide anchor. Try to load operation ini.\n",
      "Failed to cache MD599 image_shape: ini file /media/alexn/BstemAtlasDataBackup/ucsd_brain/CSHL_data_processed/MD599/operation_configs/from_none_to_aligned.ini does not exist.\n",
      "No anchor.txt is found. Seems we are using the operation ini to provide anchor. Try to load operation ini.\n",
      "Failed to cache MD602 anchor: ini file /media/alexn/BstemAtlasDataBackup/ucsd_brain/CSHL_data_processed/MD602/operation_configs/from_none_to_aligned.ini does not exist.\n",
      "File does not exist: /media/alexn/BstemAtlasDataBackup/ucsd_brain/CSHL_data_processed/MD602/MD602_sorted_filenames.txt\n",
      "Failed to cache MD602 sections_to_filenames: \n",
      "File does not exist: /media/alexn/BstemAtlasDataBackup/ucsd_brain/CSHL_data_processed/MD602/MD602_sorted_filenames.txt\n",
      "Failed to cache MD602 filenames_to_sections: \n",
      "No anchor.txt is found. Seems we are using the operation ini to provide anchor. Try to load operation ini.\n",
      "Failed to cache MD602 section_limits: ini file /media/alexn/BstemAtlasDataBackup/ucsd_brain/CSHL_data_processed/MD602/operation_configs/from_none_to_aligned.ini does not exist.\n",
      "No anchor.txt is found. Seems we are using the operation ini to provide anchor. Try to load operation ini.\n",
      "Failed to cache MD602 cropbox: ini file /media/alexn/BstemAtlasDataBackup/ucsd_brain/CSHL_data_processed/MD602/operation_configs/from_none_to_aligned.ini does not exist.\n",
      "Failed to cache MD602 valid_sections/filenames: MD602\n",
      "No anchor.txt is found. Seems we are using the operation ini to provide anchor. Try to load operation ini.\n",
      "Failed to cache MD602 image_shape: ini file /media/alexn/BstemAtlasDataBackup/ucsd_brain/CSHL_data_processed/MD602/operation_configs/from_none_to_aligned.ini does not exist.\n",
      "No anchor.txt is found. Seems we are using the operation ini to provide anchor. Try to load operation ini.\n",
      "Failed to cache MD603 anchor: ini file /media/alexn/BstemAtlasDataBackup/ucsd_brain/CSHL_data_processed/MD603/operation_configs/from_none_to_aligned.ini does not exist.\n",
      "File does not exist: /media/alexn/BstemAtlasDataBackup/ucsd_brain/CSHL_data_processed/MD603/MD603_sorted_filenames.txt\n",
      "Failed to cache MD603 sections_to_filenames: \n",
      "File does not exist: /media/alexn/BstemAtlasDataBackup/ucsd_brain/CSHL_data_processed/MD603/MD603_sorted_filenames.txt\n",
      "Failed to cache MD603 filenames_to_sections: \n",
      "No anchor.txt is found. Seems we are using the operation ini to provide anchor. Try to load operation ini.\n",
      "Failed to cache MD603 section_limits: ini file /media/alexn/BstemAtlasDataBackup/ucsd_brain/CSHL_data_processed/MD603/operation_configs/from_none_to_aligned.ini does not exist.\n",
      "No anchor.txt is found. Seems we are using the operation ini to provide anchor. Try to load operation ini.\n",
      "Failed to cache MD603 cropbox: ini file /media/alexn/BstemAtlasDataBackup/ucsd_brain/CSHL_data_processed/MD603/operation_configs/from_none_to_aligned.ini does not exist.\n",
      "Failed to cache MD603 valid_sections/filenames: MD603\n",
      "No anchor.txt is found. Seems we are using the operation ini to provide anchor. Try to load operation ini.\n",
      "Failed to cache MD603 image_shape: ini file /media/alexn/BstemAtlasDataBackup/ucsd_brain/CSHL_data_processed/MD603/operation_configs/from_none_to_aligned.ini does not exist.\n",
      "No anchor.txt is found. Seems we are using the operation ini to provide anchor. Try to load operation ini.\n",
      "Failed to cache MD635 anchor: ini file /media/alexn/BstemAtlasDataBackup/ucsd_brain/CSHL_data_processed/MD635/operation_configs/from_none_to_aligned.ini does not exist.\n",
      "File does not exist: /media/alexn/BstemAtlasDataBackup/ucsd_brain/CSHL_data_processed/MD635/MD635_sorted_filenames.txt\n",
      "Failed to cache MD635 sections_to_filenames: \n",
      "File does not exist: /media/alexn/BstemAtlasDataBackup/ucsd_brain/CSHL_data_processed/MD635/MD635_sorted_filenames.txt\n",
      "Failed to cache MD635 filenames_to_sections: \n",
      "No anchor.txt is found. Seems we are using the operation ini to provide anchor. Try to load operation ini.\n",
      "Failed to cache MD635 section_limits: ini file /media/alexn/BstemAtlasDataBackup/ucsd_brain/CSHL_data_processed/MD635/operation_configs/from_none_to_aligned.ini does not exist.\n",
      "No anchor.txt is found. Seems we are using the operation ini to provide anchor. Try to load operation ini.\n",
      "Failed to cache MD635 cropbox: ini file /media/alexn/BstemAtlasDataBackup/ucsd_brain/CSHL_data_processed/MD635/operation_configs/from_none_to_aligned.ini does not exist.\n",
      "Failed to cache MD635 valid_sections/filenames: MD635\n",
      "No anchor.txt is found. Seems we are using the operation ini to provide anchor. Try to load operation ini.\n",
      "Failed to cache MD635 image_shape: ini file /media/alexn/BstemAtlasDataBackup/ucsd_brain/CSHL_data_processed/MD635/operation_configs/from_none_to_aligned.ini does not exist.\n",
      "No anchor.txt is found. Seems we are using the operation ini to provide anchor. Try to load operation ini.\n",
      "Failed to cache MD653 anchor: ini file /media/alexn/BstemAtlasDataBackup/ucsd_brain/CSHL_data_processed/MD653/operation_configs/from_none_to_aligned.ini does not exist.\n",
      "File does not exist: /media/alexn/BstemAtlasDataBackup/ucsd_brain/CSHL_data_processed/MD653/MD653_sorted_filenames.txt\n",
      "Failed to cache MD653 sections_to_filenames: \n",
      "File does not exist: /media/alexn/BstemAtlasDataBackup/ucsd_brain/CSHL_data_processed/MD653/MD653_sorted_filenames.txt\n",
      "Failed to cache MD653 filenames_to_sections: \n",
      "No anchor.txt is found. Seems we are using the operation ini to provide anchor. Try to load operation ini.\n",
      "Failed to cache MD653 section_limits: ini file /media/alexn/BstemAtlasDataBackup/ucsd_brain/CSHL_data_processed/MD653/operation_configs/from_none_to_aligned.ini does not exist.\n",
      "No anchor.txt is found. Seems we are using the operation ini to provide anchor. Try to load operation ini.\n",
      "Failed to cache MD653 cropbox: ini file /media/alexn/BstemAtlasDataBackup/ucsd_brain/CSHL_data_processed/MD653/operation_configs/from_none_to_aligned.ini does not exist.\n",
      "Failed to cache MD653 valid_sections/filenames: MD653\n",
      "No anchor.txt is found. Seems we are using the operation ini to provide anchor. Try to load operation ini.\n",
      "Failed to cache MD653 image_shape: ini file /media/alexn/BstemAtlasDataBackup/ucsd_brain/CSHL_data_processed/MD653/operation_configs/from_none_to_aligned.ini does not exist.\n",
      "No anchor.txt is found. Seems we are using the operation ini to provide anchor. Try to load operation ini.\n",
      "Failed to cache MD652 anchor: ini file /media/alexn/BstemAtlasDataBackup/ucsd_brain/CSHL_data_processed/MD652/operation_configs/from_none_to_aligned.ini does not exist.\n",
      "File does not exist: /media/alexn/BstemAtlasDataBackup/ucsd_brain/CSHL_data_processed/MD652/MD652_sorted_filenames.txt\n",
      "Failed to cache MD652 sections_to_filenames: \n",
      "File does not exist: /media/alexn/BstemAtlasDataBackup/ucsd_brain/CSHL_data_processed/MD652/MD652_sorted_filenames.txt\n",
      "Failed to cache MD652 filenames_to_sections: \n",
      "No anchor.txt is found. Seems we are using the operation ini to provide anchor. Try to load operation ini.\n",
      "Failed to cache MD652 section_limits: ini file /media/alexn/BstemAtlasDataBackup/ucsd_brain/CSHL_data_processed/MD652/operation_configs/from_none_to_aligned.ini does not exist.\n",
      "No anchor.txt is found. Seems we are using the operation ini to provide anchor. Try to load operation ini.\n",
      "Failed to cache MD652 cropbox: ini file /media/alexn/BstemAtlasDataBackup/ucsd_brain/CSHL_data_processed/MD652/operation_configs/from_none_to_aligned.ini does not exist.\n",
      "Failed to cache MD652 valid_sections/filenames: MD652\n",
      "No anchor.txt is found. Seems we are using the operation ini to provide anchor. Try to load operation ini.\n",
      "Failed to cache MD652 image_shape: ini file /media/alexn/BstemAtlasDataBackup/ucsd_brain/CSHL_data_processed/MD652/operation_configs/from_none_to_aligned.ini does not exist.\n",
      "No anchor.txt is found. Seems we are using the operation ini to provide anchor. Try to load operation ini.\n",
      "Failed to cache MD642 anchor: ini file /media/alexn/BstemAtlasDataBackup/ucsd_brain/CSHL_data_processed/MD642/operation_configs/from_none_to_aligned.ini does not exist.\n",
      "File does not exist: /media/alexn/BstemAtlasDataBackup/ucsd_brain/CSHL_data_processed/MD642/MD642_sorted_filenames.txt\n",
      "Failed to cache MD642 sections_to_filenames: \n",
      "File does not exist: /media/alexn/BstemAtlasDataBackup/ucsd_brain/CSHL_data_processed/MD642/MD642_sorted_filenames.txt\n",
      "Failed to cache MD642 filenames_to_sections: \n",
      "No anchor.txt is found. Seems we are using the operation ini to provide anchor. Try to load operation ini.\n",
      "Failed to cache MD642 section_limits: ini file /media/alexn/BstemAtlasDataBackup/ucsd_brain/CSHL_data_processed/MD642/operation_configs/from_none_to_aligned.ini does not exist.\n",
      "No anchor.txt is found. Seems we are using the operation ini to provide anchor. Try to load operation ini.\n",
      "Failed to cache MD642 cropbox: ini file /media/alexn/BstemAtlasDataBackup/ucsd_brain/CSHL_data_processed/MD642/operation_configs/from_none_to_aligned.ini does not exist.\n",
      "Failed to cache MD642 valid_sections/filenames: MD642\n",
      "No anchor.txt is found. Seems we are using the operation ini to provide anchor. Try to load operation ini.\n",
      "Failed to cache MD642 image_shape: ini file /media/alexn/BstemAtlasDataBackup/ucsd_brain/CSHL_data_processed/MD642/operation_configs/from_none_to_aligned.ini does not exist.\n",
      "No anchor.txt is found. Seems we are using the operation ini to provide anchor. Try to load operation ini.\n",
      "Failed to cache MD657 anchor: ini file /media/alexn/BstemAtlasDataBackup/ucsd_brain/CSHL_data_processed/MD657/operation_configs/from_none_to_aligned.ini does not exist.\n",
      "File does not exist: /media/alexn/BstemAtlasDataBackup/ucsd_brain/CSHL_data_processed/MD657/MD657_sorted_filenames.txt\n",
      "Failed to cache MD657 sections_to_filenames: \n",
      "File does not exist: /media/alexn/BstemAtlasDataBackup/ucsd_brain/CSHL_data_processed/MD657/MD657_sorted_filenames.txt\n",
      "Failed to cache MD657 filenames_to_sections: \n",
      "No anchor.txt is found. Seems we are using the operation ini to provide anchor. Try to load operation ini.\n",
      "Failed to cache MD657 section_limits: ini file /media/alexn/BstemAtlasDataBackup/ucsd_brain/CSHL_data_processed/MD657/operation_configs/from_none_to_aligned.ini does not exist.\n",
      "No anchor.txt is found. Seems we are using the operation ini to provide anchor. Try to load operation ini.\n",
      "Failed to cache MD657 cropbox: ini file /media/alexn/BstemAtlasDataBackup/ucsd_brain/CSHL_data_processed/MD657/operation_configs/from_none_to_aligned.ini does not exist.\n",
      "Failed to cache MD657 valid_sections/filenames: MD657\n",
      "No anchor.txt is found. Seems we are using the operation ini to provide anchor. Try to load operation ini.\n",
      "Failed to cache MD657 image_shape: ini file /media/alexn/BstemAtlasDataBackup/ucsd_brain/CSHL_data_processed/MD657/operation_configs/from_none_to_aligned.ini does not exist.\n",
      "No anchor.txt is found. Seems we are using the operation ini to provide anchor. Try to load operation ini.\n",
      "Failed to cache MD658 anchor: ini file /media/alexn/BstemAtlasDataBackup/ucsd_brain/CSHL_data_processed/MD658/operation_configs/from_none_to_aligned.ini does not exist.\n",
      "File does not exist: /media/alexn/BstemAtlasDataBackup/ucsd_brain/CSHL_data_processed/MD658/MD658_sorted_filenames.txt\n",
      "Failed to cache MD658 sections_to_filenames: \n",
      "File does not exist: /media/alexn/BstemAtlasDataBackup/ucsd_brain/CSHL_data_processed/MD658/MD658_sorted_filenames.txt\n",
      "Failed to cache MD658 filenames_to_sections: \n",
      "No anchor.txt is found. Seems we are using the operation ini to provide anchor. Try to load operation ini.\n",
      "Failed to cache MD658 section_limits: ini file /media/alexn/BstemAtlasDataBackup/ucsd_brain/CSHL_data_processed/MD658/operation_configs/from_none_to_aligned.ini does not exist.\n",
      "No anchor.txt is found. Seems we are using the operation ini to provide anchor. Try to load operation ini.\n",
      "Failed to cache MD658 cropbox: ini file /media/alexn/BstemAtlasDataBackup/ucsd_brain/CSHL_data_processed/MD658/operation_configs/from_none_to_aligned.ini does not exist.\n",
      "Failed to cache MD658 valid_sections/filenames: MD658\n",
      "No anchor.txt is found. Seems we are using the operation ini to provide anchor. Try to load operation ini.\n",
      "Failed to cache MD658 image_shape: ini file /media/alexn/BstemAtlasDataBackup/ucsd_brain/CSHL_data_processed/MD658/operation_configs/from_none_to_aligned.ini does not exist.\n",
      "No anchor.txt is found. Seems we are using the operation ini to provide anchor. Try to load operation ini.\n",
      "Failed to cache MD661 anchor: ini file /media/alexn/BstemAtlasDataBackup/ucsd_brain/CSHL_data_processed/MD661/operation_configs/from_none_to_aligned.ini does not exist.\n",
      "File does not exist: /media/alexn/BstemAtlasDataBackup/ucsd_brain/CSHL_data_processed/MD661/MD661_sorted_filenames.txt\n",
      "Failed to cache MD661 sections_to_filenames: \n",
      "File does not exist: /media/alexn/BstemAtlasDataBackup/ucsd_brain/CSHL_data_processed/MD661/MD661_sorted_filenames.txt\n",
      "Failed to cache MD661 filenames_to_sections: \n",
      "No anchor.txt is found. Seems we are using the operation ini to provide anchor. Try to load operation ini.\n",
      "Failed to cache MD661 section_limits: ini file /media/alexn/BstemAtlasDataBackup/ucsd_brain/CSHL_data_processed/MD661/operation_configs/from_none_to_aligned.ini does not exist.\n",
      "No anchor.txt is found. Seems we are using the operation ini to provide anchor. Try to load operation ini.\n",
      "Failed to cache MD661 cropbox: ini file /media/alexn/BstemAtlasDataBackup/ucsd_brain/CSHL_data_processed/MD661/operation_configs/from_none_to_aligned.ini does not exist.\n",
      "Failed to cache MD661 valid_sections/filenames: MD661\n",
      "No anchor.txt is found. Seems we are using the operation ini to provide anchor. Try to load operation ini.\n",
      "Failed to cache MD661 image_shape: ini file /media/alexn/BstemAtlasDataBackup/ucsd_brain/CSHL_data_processed/MD661/operation_configs/from_none_to_aligned.ini does not exist.\n",
      "No anchor.txt is found. Seems we are using the operation ini to provide anchor. Try to load operation ini.\n",
      "Failed to cache MD662 anchor: ini file /media/alexn/BstemAtlasDataBackup/ucsd_brain/CSHL_data_processed/MD662/operation_configs/from_none_to_aligned.ini does not exist.\n",
      "File does not exist: /media/alexn/BstemAtlasDataBackup/ucsd_brain/CSHL_data_processed/MD662/MD662_sorted_filenames.txt\n",
      "Failed to cache MD662 sections_to_filenames: \n",
      "File does not exist: /media/alexn/BstemAtlasDataBackup/ucsd_brain/CSHL_data_processed/MD662/MD662_sorted_filenames.txt\n",
      "Failed to cache MD662 filenames_to_sections: \n",
      "No anchor.txt is found. Seems we are using the operation ini to provide anchor. Try to load operation ini.\n",
      "Failed to cache MD662 section_limits: ini file /media/alexn/BstemAtlasDataBackup/ucsd_brain/CSHL_data_processed/MD662/operation_configs/from_none_to_aligned.ini does not exist.\n",
      "No anchor.txt is found. Seems we are using the operation ini to provide anchor. Try to load operation ini.\n",
      "Failed to cache MD662 cropbox: ini file /media/alexn/BstemAtlasDataBackup/ucsd_brain/CSHL_data_processed/MD662/operation_configs/from_none_to_aligned.ini does not exist.\n",
      "Failed to cache MD662 valid_sections/filenames: MD662\n",
      "No anchor.txt is found. Seems we are using the operation ini to provide anchor. Try to load operation ini.\n",
      "Failed to cache MD662 image_shape: ini file /media/alexn/BstemAtlasDataBackup/ucsd_brain/CSHL_data_processed/MD662/operation_configs/from_none_to_aligned.ini does not exist.\n",
      "No anchor.txt is found. Seems we are using the operation ini to provide anchor. Try to load operation ini.\n",
      "Failed to cache CHATM2 anchor: ini file /media/alexn/BstemAtlasDataBackup/ucsd_brain/CSHL_data_processed/CHATM2/operation_configs/from_none_to_aligned.ini does not exist.\n",
      "File does not exist: /media/alexn/BstemAtlasDataBackup/ucsd_brain/CSHL_data_processed/CHATM2/CHATM2_sorted_filenames.txt\n",
      "Failed to cache CHATM2 sections_to_filenames: \n",
      "File does not exist: /media/alexn/BstemAtlasDataBackup/ucsd_brain/CSHL_data_processed/CHATM2/CHATM2_sorted_filenames.txt\n",
      "Failed to cache CHATM2 filenames_to_sections: \n",
      "No anchor.txt is found. Seems we are using the operation ini to provide anchor. Try to load operation ini.\n",
      "Failed to cache CHATM2 section_limits: ini file /media/alexn/BstemAtlasDataBackup/ucsd_brain/CSHL_data_processed/CHATM2/operation_configs/from_none_to_aligned.ini does not exist.\n",
      "No anchor.txt is found. Seems we are using the operation ini to provide anchor. Try to load operation ini.\n",
      "Failed to cache CHATM2 cropbox: ini file /media/alexn/BstemAtlasDataBackup/ucsd_brain/CSHL_data_processed/CHATM2/operation_configs/from_none_to_aligned.ini does not exist.\n",
      "Failed to cache CHATM2 valid_sections/filenames: CHATM2\n",
      "No anchor.txt is found. Seems we are using the operation ini to provide anchor. Try to load operation ini.\n",
      "Failed to cache CHATM2 image_shape: ini file /media/alexn/BstemAtlasDataBackup/ucsd_brain/CSHL_data_processed/CHATM2/operation_configs/from_none_to_aligned.ini does not exist.\n",
      "No anchor.txt is found. Seems we are using the operation ini to provide anchor. Try to load operation ini.\n",
      "Failed to cache CHATM3 anchor: ini file /media/alexn/BstemAtlasDataBackup/ucsd_brain/CSHL_data_processed/CHATM3/operation_configs/from_none_to_aligned.ini does not exist.\n",
      "File does not exist: /media/alexn/BstemAtlasDataBackup/ucsd_brain/CSHL_data_processed/CHATM3/CHATM3_sorted_filenames.txt\n",
      "Failed to cache CHATM3 sections_to_filenames: \n",
      "File does not exist: /media/alexn/BstemAtlasDataBackup/ucsd_brain/CSHL_data_processed/CHATM3/CHATM3_sorted_filenames.txt\n",
      "Failed to cache CHATM3 filenames_to_sections: \n",
      "No anchor.txt is found. Seems we are using the operation ini to provide anchor. Try to load operation ini.\n",
      "Failed to cache CHATM3 section_limits: ini file /media/alexn/BstemAtlasDataBackup/ucsd_brain/CSHL_data_processed/CHATM3/operation_configs/from_none_to_aligned.ini does not exist.\n",
      "No anchor.txt is found. Seems we are using the operation ini to provide anchor. Try to load operation ini.\n",
      "Failed to cache CHATM3 cropbox: ini file /media/alexn/BstemAtlasDataBackup/ucsd_brain/CSHL_data_processed/CHATM3/operation_configs/from_none_to_aligned.ini does not exist.\n",
      "Failed to cache CHATM3 valid_sections/filenames: CHATM3\n",
      "No anchor.txt is found. Seems we are using the operation ini to provide anchor. Try to load operation ini.\n",
      "Failed to cache CHATM3 image_shape: ini file /media/alexn/BstemAtlasDataBackup/ucsd_brain/CSHL_data_processed/CHATM3/operation_configs/from_none_to_aligned.ini does not exist.\n",
      "Seems you are using operation INIs to provide cropbox.\n",
      "Seems you are using operation INIs to provide cropbox.\n"
     ]
    }
   ],
   "source": [
    "import os\n",
    "import sys\n",
    "\n",
    "from ng_utilities import *\n",
    "\n",
    "sys.path.append(os.path.join(os.environ['REPO_DIR'], 'utilities'))\n",
    "from utilities2015 import *\n",
    "from registration_utilities import *\n",
    "from annotation_utilities import *\n",
    "from metadata import *\n",
    "from data_manager import *\n",
    "\n",
    "import matplotlib.pyplot as plt\n",
    "%matplotlib inline\n",
    "\n",
    "import neuroglancer\n",
    "import cv2\n",
    "\n",
    "stack = 'MD585'"
   ]
  },
  {
   "cell_type": "markdown",
   "metadata": {},
   "source": [
    "## How to Load SimpleGlobal and Local Volumes"
   ]
  },
  {
   "cell_type": "code",
   "execution_count": 2,
   "metadata": {
    "collapsed": true
   },
   "outputs": [],
   "source": [
    "def image_contour_generator( stack, structure, use_local_alignment = True, image_prep = 2, threshold=0.5):\n",
    "\n",
    "    if use_local_alignment:\n",
    "        # Load local transformed volumes\n",
    "        str_alignment_spec = load_json(fn_vis_structures)[structure]\n",
    "        vol = DataManager.load_transformed_volume_v2(alignment_spec = str_alignment_spec, \n",
    "                                                        return_origin_instead_of_bbox = True,\n",
    "                                                       structure = structure)\n",
    "    else:\n",
    "        # Load simple global volumes\n",
    "        str_alignment_spec = load_json(fn_vis_global)\n",
    "        vol = DataManager.load_transformed_volume_v2(alignment_spec = global_alignment_spec, \n",
    "                                                                     return_origin_instead_of_bbox = True,\n",
    "                                                                    structure = structure)\n",
    "\n",
    "\n",
    "    # Load collection of bounding boxes for every structure\n",
    "    registered_atlas_structures_wrt_wholebrainXYcropped_xysecTwoCorners = \\\n",
    "            load_json(os.path.join(ROOT_DIR, 'CSHL_simple_global_registration', \\\n",
    "                                    stack + '_registered_atlas_structures_wrt_wholebrainXYcropped_xysecTwoCorners.json'))\n",
    "    # Load cropping box for structure. Only need the valid min and max sections though\n",
    "    (_, _, secmin), (_, _, secmax) = registered_atlas_structures_wrt_wholebrainXYcropped_xysecTwoCorners[structure]\n",
    "    # Load range of sections for particular structure\n",
    "    valid_secmin = 1\n",
    "    valid_secmax = 999\n",
    "    section_margin = 50 # 1000um margin / 20um per slice\n",
    "    atlas_structures_wrt_wholebrainWithMargin_sections = \\\n",
    "        range(max(secmin - section_margin, valid_secmin), min(secmax + 1 + section_margin, valid_secmax))\n",
    "\n",
    "    # Choose thresholds for probability volumes\n",
    "    levels = [threshold, 0.9]\n",
    "\n",
    "\n",
    "    # LOAD CONTOURS FROM VOLUME\n",
    "    str_contour = get_structure_contours_from_structure_volumes_v3(volumes={structure: vol}, stack=stack, \n",
    "                                                         sections=atlas_structures_wrt_wholebrainWithMargin_sections,\n",
    "                                                        resolution='10.0um', level=levels, sample_every=5)\n",
    "\n",
    "    # Check number sections that the contours are present on \n",
    "    str_keys = str_contour.keys()\n",
    "    valid_sections = []\n",
    "\n",
    "    for key in str_keys:\n",
    "        if isinstance(key,int) and key>1:\n",
    "            valid_sections.append(key)\n",
    "            # Need to check individual \"levels\" are on this section as well. \n",
    "            #    (0.1 threshold spans more slices than 0.9)\n",
    "    valid_sections.sort()\n",
    "    print 'Number of valid sections:'\n",
    "    num_valid_sections = len(valid_sections)\n",
    "    print num_valid_sections\n",
    "    first_sec = valid_sections[0]\n",
    "    last_sec = valid_sections[len(valid_sections)-1]\n",
    "    print 'First valid section:',first_sec\n",
    "    print 'Last valid section:',last_sec\n",
    "    print 'num_valid_sections:',num_valid_sections\n",
    "    print '\\n\\n'\n",
    "\n",
    "    #print str_contour[ valid_sections[0] ][structure][ levels[0] ]\n",
    "\n",
    "\n",
    "\n",
    "    # LOAD prep5->prep2 cropbox\n",
    "    if image_prep==5:\n",
    "        # wholeslice_to_brainstem = -from_padded_to_wholeslice, from_padded_to_brainstem\n",
    "        ini_fp = os.environ['DATA_ROOTDIR']+'CSHL_data_processed/'+stack+'/operation_configs/from_padded_to_brainstem.ini'\n",
    "        with open(ini_fp,'r') as fn:\n",
    "            contents_list = fn.read().split('\\n')\n",
    "        for line in contents_list:\n",
    "            if 'rostral_limit' in line:\n",
    "                rostral_limit = int( line.split(' ')[2] )\n",
    "            if 'dorsal_limit' in line:\n",
    "                dorsal_limit = int( line.split(' ')[2] )\n",
    "        ini_fp = os.environ['DATA_ROOTDIR']+'CSHL_data_processed/'+stack+'/operation_configs/from_padded_to_wholeslice.ini'\n",
    "        with open(ini_fp,'r') as fn:\n",
    "            contents_list = fn.read().split('\\n')\n",
    "        for line in contents_list:\n",
    "            if 'rostral_limit' in line:\n",
    "                rostral_limit = rostral_limit - int( line.split(' ')[2] )\n",
    "            if 'dorsal_limit' in line:\n",
    "                dorsal_limit = dorsal_limit - int( line.split(' ')[2] )\n",
    "#         rostral_limit = rostral_limit\n",
    "#         dorsal_limit = dorsal_limit\n",
    "        # DONE LOADING PREP5 OFFSETS\n",
    "    elif image_prep==2:\n",
    "        rostral_limit = 0\n",
    "        dorsal_limit = 0\n",
    "\n",
    "    # PLOT Contours\n",
    "    contour_str = str_contour[ valid_sections[num_valid_sections/2] ][structure][ levels[0] ]\n",
    "    # Downsample\n",
    "    y_len, x_len = np.shape(contour_str)\n",
    "    x_list = []\n",
    "    y_list = []\n",
    "    for y in range(y_len):\n",
    "        x_list.append(rostral_limit + contour_str[y][0]/32)\n",
    "        y_list.append(dorsal_limit + contour_str[y][1]/32)\n",
    "\n",
    "    # PLOT Structure overlayed on thumbnail image\n",
    "    sorted_fns = DataManager.load_sorted_filenames(stack=stack)[0].keys()\n",
    "    # fp = DataManager.get_image_filepath_v2(stack=stack, prep_id=5, resol='thumbnail', version='gray', fn=sorted_fns[int(len(sorted_fns)/2)])\n",
    "    img_fn = metadata_cache['sections_to_filenames'][stack][last_sec-num_valid_sections/2]\n",
    "    fp = DataManager.get_image_filepath_v2(stack=stack, prep_id=image_prep, resol='thumbnail', version='gray', fn=img_fn)\n",
    "    \n",
    "#     img = imread(fp)\n",
    "#     plt.imshow( img, cmap='gray' )\n",
    "#     plt.scatter(x_list,y_list,s=1, color='r')\n",
    "#     plt.show()\n",
    "    \n",
    "    return str_contour, first_sec, last_sec"
   ]
  },
  {
   "cell_type": "code",
   "execution_count": 3,
   "metadata": {
    "collapsed": true
   },
   "outputs": [],
   "source": [
    "def add_structure_to_neuroglancer( str_contour, structure, color_radius=4, xy_ng_resolution_um=10, threshold=0.5, color=1, solid_volume=False, save_results=False ):\n",
    "    xy_ng_resolution_um = xy_ng_resolution_um # X and Y voxel length in microns\n",
    "    color_radius = color_radius*(10.0/xy_ng_resolution_um)**0.5\n",
    "\n",
    "    # Max and Min X/Y Values given random initial values that will be replaced\n",
    "    # X and Y resolution will be specified by the user in microns (xy_ng_resolution_umx by y_ng_resolution_um)\n",
    "    max_x = 0\n",
    "    max_y = 0\n",
    "    min_x = 9999999\n",
    "    min_y = 9999999\n",
    "    # 'min_z' is the relative starting section (if the prep2 sections start at slice 100, and the structure starts at slice 110, min_z is 10 )\n",
    "    # Z resolution is 20um for simple 1-1 correspondance with section thickness\n",
    "    max_z = (last_sec-ng_section_min)\n",
    "    min_z = (first_sec-ng_section_min)\n",
    "    # Scaling factor is (0.46/10). Scaling from resolution of 0.46 microns to 10 microns. \n",
    "    scale_xy = 0.46/xy_ng_resolution_um\n",
    "\n",
    "    # X,Y are 10um voxels. Z is 20um voxels. \n",
    "    # str_contour_ng_resolution is the previous contour data rescaled to neuroglancer resolution\n",
    "    str_contour_ng_resolution = {}\n",
    "\n",
    "    for section in str_contour:\n",
    "        # Load (X,Y) coordinates on this contour\n",
    "        section_contours = str_contour[ section ][structure][ threshold ]\n",
    "        # (X,Y) coordinates will be rescaled to the new resolution and placed here\n",
    "        # str_contour_ng_resolution starts at z=0 for simplicity, must provide section offset later on\n",
    "        str_contour_ng_resolution[section-first_sec] = []\n",
    "        # Number of (X,Y) coordinates\n",
    "        num_contours = len( section_contours )\n",
    "        # Cycle through each coordinate pair\n",
    "        for coordinate_pair in range(num_contours):\n",
    "\n",
    "            curr_coors = section_contours[ coordinate_pair ]\n",
    "            # Rescale coordinate pair and add to new contour dictionary\n",
    "            str_contour_ng_resolution[section-first_sec].append( [scale_xy*curr_coors[0],scale_xy*curr_coors[1]] )\n",
    "            # Replace Min/Max X/Y values with new extremes\n",
    "            min_x = min( scale_xy*curr_coors[0], min_x)\n",
    "            min_y = min( scale_xy*curr_coors[1], min_y)\n",
    "            max_x = max( scale_xy*curr_coors[0], max_x)\n",
    "            max_y = max( scale_xy*curr_coors[1], max_y)\n",
    "\n",
    "\n",
    "    # Cast max and min values to int as they are used to build 3D numpy matrix\n",
    "    max_x = int( np.ceil(max_x) ) \n",
    "    max_y = int( np.ceil(max_y) )\n",
    "    min_x = int( np.floor(min_x) )\n",
    "    min_y = int( np.floor(min_y) )\n",
    "\n",
    "    # Create empty 'structure_volume' using min and max values found earlier\n",
    "    structure_volume = np.zeros( (max_z-min_z, max_y-min_y, max_x-min_x), dtype = np.uint8 )\n",
    "    z_voxels,y_voxels,x_voxels =  np.shape(structure_volume)\n",
    "    print  np.shape(structure_volume)\n",
    "\n",
    "    # Go through every slice. For every slice color in the voxels corrosponding to the contour's coordinate pair\n",
    "    for slice in range(z_voxels):\n",
    "        slice_contour = np.asarray( str_contour_ng_resolution[slice] )\n",
    "\n",
    "        for xy_pair in slice_contour:\n",
    "            x_voxel = int(xy_pair[0])-min_x\n",
    "            y_voxel = int(xy_pair[1])-min_y\n",
    "            \n",
    "            structure_volume[slice,y_voxel,x_voxel] = color\n",
    "\n",
    "            # Instead of coloring a single voxel, color all in a specified radius from this voxel!\n",
    "            lower_bnd_offset = int( np.floor(1-color_radius) )\n",
    "            upper_bnd_offset = int( np.ceil(color_radius) )\n",
    "            for x_coor_color_radius in range( lower_bnd_offset, upper_bnd_offset):\n",
    "                for y_coor_color_radius in range( lower_bnd_offset, upper_bnd_offset):\n",
    "\n",
    "                    x_displaced_voxel = x_voxel + x_coor_color_radius\n",
    "                    y_displaced_voxel = y_voxel + y_coor_color_radius\n",
    "                    distance = ( (y_voxel-y_displaced_voxel)**2 + (x_voxel-x_displaced_voxel)**2 )**0.5\n",
    "                    # If the temporary coordinate is within the specified radius AND inside the 3D matrix\n",
    "                    if distance<color_radius and \\\n",
    "                    x_displaced_voxel<x_voxels and \\\n",
    "                    y_displaced_voxel<y_voxels and \\\n",
    "                    x_displaced_voxel>0 and \\\n",
    "                    y_displaced_voxel>0:\n",
    "                        try:\n",
    "                            # Set temporary coordinate to be visible\n",
    "                            structure_volume[slice,y_displaced_voxel,x_displaced_voxel] = color\n",
    "                        except:\n",
    "                            pass\n",
    "                        \n",
    "        if solid_volume:\n",
    "            structure_volume[slice,:,:] = fill_in_structure( structure_volume[slice,:,:], color )\n",
    "\n",
    "    # structure_volume\n",
    "\n",
    "    display_name = structure+'_'+str(threshold)+'_'+str(color)\n",
    "    \n",
    "    hc_x_offset = -42*10/xy_ng_resolution_um\n",
    "    hc_y_offset = 25*10/xy_ng_resolution_um\n",
    "    \n",
    "    \n",
    "    with viewer.txn() as s:\n",
    "#         s.layers['image'] = neuroglancer.ImageLayer(source='precomputed://https://mousebrainatlas-datajoint-jp2k.s3.amazonaws.com/precomputed/MD585_fullres')\n",
    "        s.layers[ display_name ] = neuroglancer.SegmentationLayer(\n",
    "            source = neuroglancer.LocalVolume(\n",
    "                data=structure_volume, # Z,Y,X\n",
    "                voxel_size=[ xy_ng_resolution_um*1000, xy_ng_resolution_um*1000,20000], # X Y Z\n",
    "                voxel_offset = [ min_x+hc_x_offset, min_y+hc_y_offset, min_z] # X Y Z\n",
    "            ),\n",
    "            segments = [color]\n",
    "    )\n",
    "        \n",
    "    if save_results:\n",
    "\n",
    "        fp_volumes = '/home/alexn/Desktop/neuroglancer_binary_volumes/volumes_'+xy_ng_resolution_um+'um/'\n",
    "        np.save( fp_volumes+structure+'_volume.npy',structure_volume)\n",
    "        \n",
    "        fp_offsets = '/home/alexn/Desktop/neuroglancer_binary_volumes/offsets_'+xy_ng_resolution_um+'um/'\n",
    "        with open(fp_offsets+structure+'_offsets.txt', 'w') as offset_file:\n",
    "            insert_str =  str(min_x+hc_x_offset)+\" \"+str(min_y+hc_y_offset)+\" \"+str(min_z)\n",
    "            offset_file.write(  insert_str )\n",
    "    \n",
    "    return structure_volume"
   ]
  },
  {
   "cell_type": "code",
   "execution_count": null,
   "metadata": {
    "collapsed": true
   },
   "outputs": [],
   "source": []
  },
  {
   "cell_type": "markdown",
   "metadata": {},
   "source": [
    "# Neuroglancer code"
   ]
  },
  {
   "cell_type": "code",
   "execution_count": 4,
   "metadata": {},
   "outputs": [
    {
     "name": "stdout",
     "output_type": "stream",
     "text": [
      "http://yuncong-Precision-WorkStation-T7500:42429/v/eeedaa9c477ee33c9f65acd9ab7acb7a8bd9e5de/\n",
      "http://132.239.73.85 172.17.0.1:42429/v/eeedaa9c477ee33c9f65acd9ab7acb7a8bd9e5de/\n"
     ]
    },
    {
     "data": {
      "text/html": [
       "<a href=\"http://yuncong-Precision-WorkStation-T7500:42429/v/eeedaa9c477ee33c9f65acd9ab7acb7a8bd9e5de/\" target=\"_blank\">Viewer</a>"
      ],
      "text/plain": [
       "http://yuncong-Precision-WorkStation-T7500:42429/v/eeedaa9c477ee33c9f65acd9ab7acb7a8bd9e5de/"
      ]
     },
     "execution_count": 4,
     "metadata": {},
     "output_type": "execute_result"
    }
   ],
   "source": [
    "#Replace: viewer = neuroglancer.Viewer()\n",
    "\n",
    "#With: \n",
    "neuroglancer.set_server_bind_address('0.0.0.0')\n",
    "viewer = neuroglancer.Viewer()\n",
    "print(viewer)\n",
    "\n",
    "ip_name = !hostname -I\n",
    "print('http://' + ip_name[0].strip() + ':' + viewer.get_viewer_url().split(':')[2]) ##Remote URL\n",
    "\n",
    "\n",
    "viewer # port 41989"
   ]
  },
  {
   "cell_type": "code",
   "execution_count": 11,
   "metadata": {
    "collapsed": true
   },
   "outputs": [],
   "source": [
    "# Sets 'Image' layer to be MD585 prep2 images from S3\n",
    "with viewer.txn() as s:\n",
    "    s.layers['image'] = neuroglancer.ImageLayer(source='precomputed://https://mousebrainatlas-datajoint-jp2k.s3.amazonaws.com/precomputed/MD585_fullres')\n",
    "    \n",
    "    # Resets X/Y/Z plane orientation\n",
    "    s.navigation.pose.orientation = [0,0,0,1]\n",
    "    # Zooms out \n",
    "#     s.navigation.zoomFactor = 10000 # If 4panel\n",
    "    s.navigation.zoomFactor = 5000 # If xy\n",
    "    \n",
    "    # Resets 3D Viewer Orientation\n",
    "    s.perspectiveOrientation = [0,0,0,1]\n",
    "    # Zooms out\n",
    "    s.perspectiveZoom = 75000\n",
    "    \n",
    "    s.layout = 'xy'"
   ]
  },
  {
   "cell_type": "code",
   "execution_count": 14,
   "metadata": {
    "collapsed": true
   },
   "outputs": [],
   "source": [
    "# Resets the viewer\n",
    "with viewer.txn() as s:\n",
    "    # Resets X/Y/Z plane orientation\n",
    "    s.navigation.pose.orientation = [0,0,0,1]\n",
    "    # Zooms out \n",
    "    s.navigation.zoomFactor = 10000\n",
    "    \n",
    "    # Resets 3D Viewer Orientation\n",
    "    s.perspectiveOrientation = [0,0,0,1]\n",
    "    # Zooms out\n",
    "    s.perspectiveZoom = 75000\n",
    "    \n",
    "    # Not necessary, just restates the voxel sizes of the image\n",
    "    s.navigation.pose.position.voxelSize = [460,460,20000]\n",
    "    # Sets Viewer's center location\n",
    "    s.navigation.pose.position.voxelCoordinates = [8192,6000,134]"
   ]
  },
  {
   "cell_type": "code",
   "execution_count": 52,
   "metadata": {
    "collapsed": true
   },
   "outputs": [],
   "source": [
    "with viewer.txn() as s:\n",
    "#     s.layout = '3d'\n",
    "    s.layout = '4panel'\n",
    "#     s.layout = 'xy'"
   ]
  },
  {
   "cell_type": "code",
   "execution_count": 63,
   "metadata": {
    "collapsed": true
   },
   "outputs": [],
   "source": [
    "neuroglancer.stop()"
   ]
  },
  {
   "cell_type": "code",
   "execution_count": 35,
   "metadata": {},
   "outputs": [
    {
     "name": "stdout",
     "output_type": "stream",
     "text": [
      "ManagedLayer(\"IC_0.2_5\",{\"source\": \"python://86c61c4cb6e9823ea3003304021b1f364d45d4e9.fd5eb334dc361cdfc331a91792eca0461d8d1a04\", \"type\": \"segmentation\", \"segments\": [\"5\"], \"name\": \"IC_0.2_5\"})\n"
     ]
    }
   ],
   "source": [
    "with viewer.txn() as s:\n",
    "    print s.layers['navigation']"
   ]
  },
  {
   "cell_type": "markdown",
   "metadata": {},
   "source": [
    "# Populate Viewer"
   ]
  },
  {
   "cell_type": "code",
   "execution_count": 6,
   "metadata": {
    "collapsed": true
   },
   "outputs": [],
   "source": [
    "detector_id = 19\n",
    "# detector_id = 799\n",
    "\n",
    "fn_vis_global,fn_vis_structures = create_alignment_specs(stack, detector_id)"
   ]
  },
  {
   "cell_type": "code",
   "execution_count": 7,
   "metadata": {
    "collapsed": true
   },
   "outputs": [],
   "source": [
    "# For current MD585 stack on neuroglancer\n",
    "ng_section_min = 83\n",
    "ng_section_max = 536\n",
    "ng_total_sections = 268 # 536 voxels"
   ]
  },
  {
   "cell_type": "code",
   "execution_count": 8,
   "metadata": {
    "collapsed": true
   },
   "outputs": [],
   "source": [
    "def fill_in_structure( voxel_sheet, color ):\n",
    "    contour_coordinates = []\n",
    "    y_len, x_len = np.shape(voxel_sheet )\n",
    "    \n",
    "    for y in range(y_len):\n",
    "        for x in range(x_len):\n",
    "            # If this pixel is colored in\n",
    "            if not voxel_sheet[y,x] == 0:\n",
    "                contour_coordinates.append( [y,x] )\n",
    "    \n",
    "    for y in range(y_len):\n",
    "        for x in range(x_len):\n",
    "            has_lr, has_ur, has_ll, has_ul = [False,False,False,False]\n",
    "            \n",
    "            for coordinate in contour_coordinates:\n",
    "                coor_y = coordinate[0]\n",
    "                coor_x = coordinate[1]\n",
    "                \n",
    "                if coor_y < y and coor_x < x:\n",
    "                    has_ll = True\n",
    "                if coor_y < y and coor_x > x:\n",
    "                    has_lr = True\n",
    "                if coor_y > y and coor_x < x:\n",
    "                    has_ul = True\n",
    "                if coor_y > y and coor_x > x:\n",
    "                    has_ur = True\n",
    "                    \n",
    "            if has_lr==True and has_ur==True and has_ll==True and has_ul==True:\n",
    "                voxel_sheet[y,x] = color\n",
    "    return voxel_sheet"
   ]
  },
  {
   "cell_type": "code",
   "execution_count": 67,
   "metadata": {},
   "outputs": [
    {
     "name": "stdout",
     "output_type": "stream",
     "text": [
      "/media/alexn/BstemAtlasDataBackup/ucsd_brain/CSHL_data_processed/MD585/MD585_cropbox.ini\n"
     ]
    },
    {
     "name": "stderr",
     "output_type": "stream",
     "text": [
      "Seems you are using operation INIs to provide cropbox.\n"
     ]
    },
    {
     "name": "stdout",
     "output_type": "stream",
     "text": [
      "Number of valid sections:\n",
      "192\n",
      "First valid section: 127\n",
      "Last valid section: 318\n",
      "num_valid_sections: 192\n",
      "\n",
      "\n",
      "\n",
      "(191, 189, 160)\n"
     ]
    }
   ],
   "source": [
    "stack = 'MD585'\n",
    "structure = 'IC'\n",
    "# color_codes{'blue:'1,'red',2,'yellow':3}\n",
    "\n",
    "str_contour, first_sec, last_sec = image_contour_generator( stack, structure, use_local_alignment=True, image_prep=2, threshold=0.2)\n",
    "\n",
    "ng_structure_volume = add_structure_to_neuroglancer( str_contour, structure, color_radius=2, xy_ng_resolution_um=10, threshold=0.2, color=1, solid_volume=True, save_results=False )"
   ]
  },
  {
   "cell_type": "code",
   "execution_count": 10,
   "metadata": {
    "scrolled": true
   },
   "outputs": [
    {
     "name": "stdout",
     "output_type": "stream",
     "text": [
      "/media/alexn/BstemAtlasDataBackup/ucsd_brain/CSHL_data_processed/MD585/MD585_cropbox.ini\n"
     ]
    },
    {
     "name": "stderr",
     "output_type": "stream",
     "text": [
      "Seems you are using operation INIs to provide cropbox.\n",
      "2 contours of reconstructed volume is found at position 10 ([6, 3]). Use the longest one.\n",
      "2 contours of reconstructed volume is found at position 52 ([2, 1]). Use the longest one.\n",
      "contour has less than three vertices. Ignore.\n"
     ]
    },
    {
     "name": "stdout",
     "output_type": "stream",
     "text": [
      "Number of valid sections:\n",
      "21\n",
      "First valid section: 188\n",
      "Last valid section: 208\n",
      "num_valid_sections: 21\n",
      "\n",
      "\n",
      "\n",
      "(20, 30, 58)\n",
      "/media/alexn/BstemAtlasDataBackup/ucsd_brain/CSHL_data_processed/MD585/MD585_cropbox.ini\n"
     ]
    },
    {
     "name": "stderr",
     "output_type": "stream",
     "text": [
      "Seems you are using operation INIs to provide cropbox.\n"
     ]
    },
    {
     "name": "stdout",
     "output_type": "stream",
     "text": [
      "Number of valid sections:\n",
      "44\n",
      "First valid section: 180\n",
      "Last valid section: 223\n",
      "num_valid_sections: 44\n",
      "\n",
      "\n",
      "\n",
      "(43, 62, 114)\n",
      "/media/alexn/BstemAtlasDataBackup/ucsd_brain/CSHL_data_processed/MD585/MD585_cropbox.ini\n"
     ]
    },
    {
     "name": "stderr",
     "output_type": "stream",
     "text": [
      "Seems you are using operation INIs to provide cropbox.\n"
     ]
    },
    {
     "name": "stdout",
     "output_type": "stream",
     "text": [
      "Number of valid sections:\n",
      "87\n",
      "First valid section: 175\n",
      "Last valid section: 261\n",
      "num_valid_sections: 87\n",
      "\n",
      "\n",
      "\n",
      "(86, 98, 130)\n",
      "/media/alexn/BstemAtlasDataBackup/ucsd_brain/CSHL_data_processed/MD585/MD585_cropbox.ini\n"
     ]
    },
    {
     "name": "stderr",
     "output_type": "stream",
     "text": [
      "Seems you are using operation INIs to provide cropbox.\n",
      "5 contours of reconstructed volume is found at position 25 ([23, 2, 1, 1, 1]). Use the longest one.\n"
     ]
    },
    {
     "name": "stdout",
     "output_type": "stream",
     "text": [
      "Number of valid sections:\n",
      "178\n",
      "First valid section: 135\n",
      "Last valid section: 312\n",
      "num_valid_sections: 178\n",
      "\n",
      "\n",
      "\n",
      "(177, 207, 218)\n",
      "/media/alexn/BstemAtlasDataBackup/ucsd_brain/CSHL_data_processed/MD585/MD585_cropbox.ini\n"
     ]
    },
    {
     "name": "stderr",
     "output_type": "stream",
     "text": [
      "Seems you are using operation INIs to provide cropbox.\n"
     ]
    },
    {
     "name": "stdout",
     "output_type": "stream",
     "text": [
      "Number of valid sections:\n",
      "192\n",
      "First valid section: 127\n",
      "Last valid section: 318\n",
      "num_valid_sections: 192\n",
      "\n",
      "\n",
      "\n",
      "(191, 189, 160)\n",
      "/media/alexn/BstemAtlasDataBackup/ucsd_brain/CSHL_data_processed/MD585/MD585_cropbox.ini\n"
     ]
    },
    {
     "name": "stderr",
     "output_type": "stream",
     "text": [
      "Seems you are using operation INIs to provide cropbox.\n",
      "2 contours of reconstructed volume is found at position 61 ([8, 7]). Use the longest one.\n",
      "2 contours of reconstructed volume is found at position 55 ([17, 1]). Use the longest one.\n"
     ]
    },
    {
     "name": "stdout",
     "output_type": "stream",
     "text": [
      "Number of valid sections:\n",
      "28\n",
      "First valid section: 269\n",
      "Last valid section: 296\n",
      "num_valid_sections: 28\n",
      "\n",
      "\n",
      "\n",
      "(27, 79, 61)\n",
      "/media/alexn/BstemAtlasDataBackup/ucsd_brain/CSHL_data_processed/MD585/MD585_cropbox.ini\n"
     ]
    },
    {
     "name": "stderr",
     "output_type": "stream",
     "text": [
      "Seems you are using operation INIs to provide cropbox.\n"
     ]
    },
    {
     "name": "stdout",
     "output_type": "stream",
     "text": [
      "Number of valid sections:\n",
      "25\n",
      "First valid section: 135\n",
      "Last valid section: 159\n",
      "num_valid_sections: 25\n",
      "\n",
      "\n",
      "\n",
      "(24, 80, 67)\n",
      "/media/alexn/BstemAtlasDataBackup/ucsd_brain/CSHL_data_processed/MD585/MD585_cropbox.ini\n"
     ]
    },
    {
     "name": "stderr",
     "output_type": "stream",
     "text": [
      "Seems you are using operation INIs to provide cropbox.\n"
     ]
    },
    {
     "name": "stdout",
     "output_type": "stream",
     "text": [
      "Number of valid sections:\n",
      "12\n",
      "First valid section: 231\n",
      "Last valid section: 242\n",
      "num_valid_sections: 12\n",
      "\n",
      "\n",
      "\n",
      "(11, 22, 24)\n",
      "/media/alexn/BstemAtlasDataBackup/ucsd_brain/CSHL_data_processed/MD585/MD585_cropbox.ini\n"
     ]
    },
    {
     "name": "stderr",
     "output_type": "stream",
     "text": [
      "Seems you are using operation INIs to provide cropbox.\n"
     ]
    },
    {
     "name": "stdout",
     "output_type": "stream",
     "text": [
      "Number of valid sections:\n",
      "12\n",
      "First valid section: 186\n",
      "Last valid section: 197\n",
      "num_valid_sections: 12\n",
      "\n",
      "\n",
      "\n",
      "(11, 24, 23)\n",
      "/media/alexn/BstemAtlasDataBackup/ucsd_brain/CSHL_data_processed/MD585/MD585_cropbox.ini\n"
     ]
    },
    {
     "name": "stderr",
     "output_type": "stream",
     "text": [
      "Seems you are using operation INIs to provide cropbox.\n",
      "contour has less than three vertices. Ignore.\n",
      "2 contours of reconstructed volume is found at position 15 ([46, 1]). Use the longest one.\n",
      "contour has less than three vertices. Ignore.\n",
      "2 contours of reconstructed volume is found at position 47 ([50, 1]). Use the longest one.\n"
     ]
    },
    {
     "name": "stdout",
     "output_type": "stream",
     "text": [
      "Number of valid sections:\n",
      "38\n",
      "First valid section: 252\n",
      "Last valid section: 289\n",
      "num_valid_sections: 38\n",
      "\n",
      "\n",
      "\n",
      "(37, 87, 86)\n",
      "/media/alexn/BstemAtlasDataBackup/ucsd_brain/CSHL_data_processed/MD585/MD585_cropbox.ini\n"
     ]
    },
    {
     "name": "stderr",
     "output_type": "stream",
     "text": [
      "Seems you are using operation INIs to provide cropbox.\n",
      "2 contours of reconstructed volume is found at position 98 ([11, 2]). Use the longest one.\n"
     ]
    },
    {
     "name": "stdout",
     "output_type": "stream",
     "text": [
      "Number of valid sections:\n",
      "47\n",
      "First valid section: 137\n",
      "Last valid section: 183\n",
      "num_valid_sections: 47\n",
      "\n",
      "\n",
      "\n",
      "(46, 58, 96)\n",
      "/media/alexn/BstemAtlasDataBackup/ucsd_brain/CSHL_data_processed/MD585/MD585_cropbox.ini\n"
     ]
    },
    {
     "name": "stderr",
     "output_type": "stream",
     "text": [
      "Seems you are using operation INIs to provide cropbox.\n"
     ]
    },
    {
     "name": "stdout",
     "output_type": "stream",
     "text": [
      "Number of valid sections:\n",
      "85\n",
      "First valid section: 226\n",
      "Last valid section: 310\n",
      "num_valid_sections: 85\n",
      "\n",
      "\n",
      "\n",
      "(84, 78, 70)\n",
      "/media/alexn/BstemAtlasDataBackup/ucsd_brain/CSHL_data_processed/MD585/MD585_cropbox.ini\n"
     ]
    },
    {
     "name": "stderr",
     "output_type": "stream",
     "text": [
      "Seems you are using operation INIs to provide cropbox.\n",
      "3 contours of reconstructed volume is found at position 23 ([1, 1, 1]). Use the longest one.\n",
      "contour has less than three vertices. Ignore.\n"
     ]
    },
    {
     "name": "stdout",
     "output_type": "stream",
     "text": [
      "Number of valid sections:\n",
      "77\n",
      "First valid section: 111\n",
      "Last valid section: 187\n",
      "num_valid_sections: 77\n",
      "\n",
      "\n",
      "\n",
      "(76, 44, 118)\n",
      "/media/alexn/BstemAtlasDataBackup/ucsd_brain/CSHL_data_processed/MD585/MD585_cropbox.ini\n"
     ]
    },
    {
     "name": "stderr",
     "output_type": "stream",
     "text": [
      "Seems you are using operation INIs to provide cropbox.\n"
     ]
    },
    {
     "name": "stdout",
     "output_type": "stream",
     "text": [
      "Number of valid sections:\n",
      "11\n",
      "First valid section: 260\n",
      "Last valid section: 270\n",
      "num_valid_sections: 11\n",
      "\n",
      "\n",
      "\n",
      "(10, 24, 45)\n",
      "/media/alexn/BstemAtlasDataBackup/ucsd_brain/CSHL_data_processed/MD585/MD585_cropbox.ini\n"
     ]
    },
    {
     "name": "stderr",
     "output_type": "stream",
     "text": [
      "Seems you are using operation INIs to provide cropbox.\n"
     ]
    },
    {
     "name": "stdout",
     "output_type": "stream",
     "text": [
      "Number of valid sections:\n",
      "8\n",
      "First valid section: 132\n",
      "Last valid section: 139\n",
      "num_valid_sections: 8\n",
      "\n",
      "\n",
      "\n",
      "(7, 25, 48)\n",
      "/media/alexn/BstemAtlasDataBackup/ucsd_brain/CSHL_data_processed/MD585/MD585_cropbox.ini\n"
     ]
    },
    {
     "name": "stderr",
     "output_type": "stream",
     "text": [
      "Seems you are using operation INIs to provide cropbox.\n",
      "2 contours of reconstructed volume is found at position 17 ([17, 1]). Use the longest one.\n"
     ]
    },
    {
     "name": "stdout",
     "output_type": "stream",
     "text": [
      "Number of valid sections:\n",
      "18\n",
      "First valid section: 248\n",
      "Last valid section: 265\n",
      "num_valid_sections: 18\n",
      "\n",
      "\n",
      "\n",
      "(17, 66, 67)\n",
      "/media/alexn/BstemAtlasDataBackup/ucsd_brain/CSHL_data_processed/MD585/MD585_cropbox.ini\n"
     ]
    },
    {
     "name": "stderr",
     "output_type": "stream",
     "text": [
      "Seems you are using operation INIs to provide cropbox.\n",
      "2 contours of reconstructed volume is found at position 7 ([4, 2]). Use the longest one.\n",
      "2 contours of reconstructed volume is found at position 13 ([15, 3]). Use the longest one.\n"
     ]
    },
    {
     "name": "stdout",
     "output_type": "stream",
     "text": [
      "Number of valid sections:\n",
      "17\n",
      "First valid section: 164\n",
      "Last valid section: 180\n",
      "num_valid_sections: 17\n",
      "\n",
      "\n",
      "\n",
      "(16, 66, 70)\n",
      "/media/alexn/BstemAtlasDataBackup/ucsd_brain/CSHL_data_processed/MD585/MD585_cropbox.ini\n"
     ]
    },
    {
     "name": "stderr",
     "output_type": "stream",
     "text": [
      "Seems you are using operation INIs to provide cropbox.\n",
      "2 contours of reconstructed volume is found at position 50 ([76, 1]). Use the longest one.\n",
      "2 contours of reconstructed volume is found at position 52 ([59, 1]). Use the longest one.\n"
     ]
    },
    {
     "name": "stdout",
     "output_type": "stream",
     "text": [
      "Number of valid sections:\n",
      "41\n",
      "First valid section: 244\n",
      "Last valid section: 284\n",
      "num_valid_sections: 41\n",
      "\n",
      "\n",
      "\n",
      "(40, 81, 127)\n",
      "/media/alexn/BstemAtlasDataBackup/ucsd_brain/CSHL_data_processed/MD585/MD585_cropbox.ini\n"
     ]
    },
    {
     "name": "stderr",
     "output_type": "stream",
     "text": [
      "Seems you are using operation INIs to provide cropbox.\n",
      "2 contours of reconstructed volume is found at position 99 ([5, 1]). Use the longest one.\n",
      "3 contours of reconstructed volume is found at position 89 ([13, 1, 1]). Use the longest one.\n"
     ]
    },
    {
     "name": "stdout",
     "output_type": "stream",
     "text": [
      "Number of valid sections:\n",
      "45\n",
      "First valid section: 137\n",
      "Last valid section: 181\n",
      "num_valid_sections: 45\n",
      "\n",
      "\n",
      "\n",
      "(44, 64, 118)\n",
      "/media/alexn/BstemAtlasDataBackup/ucsd_brain/CSHL_data_processed/MD585/MD585_cropbox.ini\n"
     ]
    },
    {
     "name": "stderr",
     "output_type": "stream",
     "text": [
      "Seems you are using operation INIs to provide cropbox.\n",
      "2 contours of reconstructed volume is found at position 10 ([32, 1]). Use the longest one.\n",
      "2 contours of reconstructed volume is found at position 12 ([47, 2]). Use the longest one.\n"
     ]
    },
    {
     "name": "stdout",
     "output_type": "stream",
     "text": [
      "Number of valid sections:\n",
      "57\n",
      "First valid section: 224\n",
      "Last valid section: 280\n",
      "num_valid_sections: 57\n",
      "\n",
      "\n",
      "\n",
      "(56, 92, 101)\n",
      "/media/alexn/BstemAtlasDataBackup/ucsd_brain/CSHL_data_processed/MD585/MD585_cropbox.ini\n"
     ]
    },
    {
     "name": "stderr",
     "output_type": "stream",
     "text": [
      "Seems you are using operation INIs to provide cropbox.\n",
      "2 contours of reconstructed volume is found at position 114 ([17, 9]). Use the longest one.\n"
     ]
    },
    {
     "name": "stdout",
     "output_type": "stream",
     "text": [
      "Number of valid sections:\n",
      "56\n",
      "First valid section: 162\n",
      "Last valid section: 217\n",
      "num_valid_sections: 56\n",
      "\n",
      "\n",
      "\n",
      "(55, 94, 102)\n",
      "/media/alexn/BstemAtlasDataBackup/ucsd_brain/CSHL_data_processed/MD585/MD585_cropbox.ini\n"
     ]
    },
    {
     "name": "stderr",
     "output_type": "stream",
     "text": [
      "Seems you are using operation INIs to provide cropbox.\n",
      "3 contours of reconstructed volume is found at position 18 ([5, 2, 1]). Use the longest one.\n"
     ]
    },
    {
     "name": "stdout",
     "output_type": "stream",
     "text": [
      "Number of valid sections:\n",
      "40\n",
      "First valid section: 205\n",
      "Last valid section: 244\n",
      "num_valid_sections: 40\n",
      "\n",
      "\n",
      "\n",
      "(39, 37, 79)\n",
      "/media/alexn/BstemAtlasDataBackup/ucsd_brain/CSHL_data_processed/MD585/MD585_cropbox.ini\n"
     ]
    },
    {
     "name": "stderr",
     "output_type": "stream",
     "text": [
      "Seems you are using operation INIs to provide cropbox.\n",
      "5 contours of reconstructed volume is found at position 10 ([25, 3, 2, 1, 1]). Use the longest one.\n",
      "contour has less than three vertices. Ignore.\n",
      "2 contours of reconstructed volume is found at position 16 ([47, 3]). Use the longest one.\n"
     ]
    },
    {
     "name": "stdout",
     "output_type": "stream",
     "text": [
      "Number of valid sections:\n",
      "25\n",
      "First valid section: 183\n",
      "Last valid section: 207\n",
      "num_valid_sections: 25\n",
      "\n",
      "\n",
      "\n",
      "(24, 31, 94)\n",
      "/media/alexn/BstemAtlasDataBackup/ucsd_brain/CSHL_data_processed/MD585/MD585_cropbox.ini\n"
     ]
    },
    {
     "name": "stderr",
     "output_type": "stream",
     "text": [
      "Seems you are using operation INIs to provide cropbox.\n",
      "2 contours of reconstructed volume is found at position 28 ([20, 7]). Use the longest one.\n",
      "2 contours of reconstructed volume is found at position 34 ([51, 5]). Use the longest one.\n",
      "2 contours of reconstructed volume is found at position 104 ([13, 5]). Use the longest one.\n",
      "2 contours of reconstructed volume is found at position 36 ([9, 6]). Use the longest one.\n",
      "2 contours of reconstructed volume is found at position 96 ([3, 1]). Use the longest one.\n"
     ]
    },
    {
     "name": "stdout",
     "output_type": "stream",
     "text": [
      "Number of valid sections:\n",
      "39\n",
      "First valid section: 279\n",
      "Last valid section: 317\n",
      "num_valid_sections: 39\n",
      "\n",
      "\n",
      "\n",
      "(38, 194, 85)\n",
      "/media/alexn/BstemAtlasDataBackup/ucsd_brain/CSHL_data_processed/MD585/MD585_cropbox.ini\n"
     ]
    },
    {
     "name": "stderr",
     "output_type": "stream",
     "text": [
      "Seems you are using operation INIs to provide cropbox.\n",
      "contour has less than three vertices. Ignore.\n",
      "contour has less than three vertices. Ignore.\n",
      "3 contours of reconstructed volume is found at position 87 ([3, 2, 1]). Use the longest one.\n"
     ]
    },
    {
     "name": "stdout",
     "output_type": "stream",
     "text": [
      "Number of valid sections:\n",
      "44\n",
      "First valid section: 120\n",
      "Last valid section: 163\n",
      "num_valid_sections: 44\n",
      "\n",
      "\n",
      "\n",
      "(43, 192, 77)\n",
      "/media/alexn/BstemAtlasDataBackup/ucsd_brain/CSHL_data_processed/MD585/MD585_cropbox.ini\n"
     ]
    },
    {
     "name": "stderr",
     "output_type": "stream",
     "text": [
      "Seems you are using operation INIs to provide cropbox.\n"
     ]
    },
    {
     "name": "stdout",
     "output_type": "stream",
     "text": [
      "Number of valid sections:\n",
      "33\n",
      "First valid section: 232\n",
      "Last valid section: 264\n",
      "num_valid_sections: 33\n",
      "\n",
      "\n",
      "\n",
      "(32, 56, 71)\n",
      "/media/alexn/BstemAtlasDataBackup/ucsd_brain/CSHL_data_processed/MD585/MD585_cropbox.ini\n"
     ]
    },
    {
     "name": "stderr",
     "output_type": "stream",
     "text": [
      "Seems you are using operation INIs to provide cropbox.\n",
      "contour has less than three vertices. Ignore.\n"
     ]
    },
    {
     "name": "stdout",
     "output_type": "stream",
     "text": [
      "Number of valid sections:\n",
      "32\n",
      "First valid section: 180\n",
      "Last valid section: 211\n",
      "num_valid_sections: 32\n",
      "\n",
      "\n",
      "\n",
      "(31, 58, 77)\n",
      "/media/alexn/BstemAtlasDataBackup/ucsd_brain/CSHL_data_processed/MD585/MD585_cropbox.ini\n"
     ]
    },
    {
     "name": "stderr",
     "output_type": "stream",
     "text": [
      "Seems you are using operation INIs to provide cropbox.\n",
      "2 contours of reconstructed volume is found at position 78 ([7, 1]). Use the longest one.\n",
      "2 contours of reconstructed volume is found at position 84 ([4, 2]). Use the longest one.\n",
      "2 contours of reconstructed volume is found at position 86 ([5, 1]). Use the longest one.\n",
      "2 contours of reconstructed volume is found at position 88 ([2, 1]). Use the longest one.\n",
      "contour has less than three vertices. Ignore.\n",
      "3 contours of reconstructed volume is found at position 90 ([2, 1, 1]). Use the longest one.\n",
      "contour has less than three vertices. Ignore.\n",
      "2 contours of reconstructed volume is found at position 92 ([3, 2]). Use the longest one.\n"
     ]
    },
    {
     "name": "stdout",
     "output_type": "stream",
     "text": [
      "Number of valid sections:\n",
      "54\n",
      "First valid section: 233\n",
      "Last valid section: 286\n",
      "num_valid_sections: 54\n",
      "\n",
      "\n",
      "\n",
      "(53, 48, 93)\n",
      "/media/alexn/BstemAtlasDataBackup/ucsd_brain/CSHL_data_processed/MD585/MD585_cropbox.ini\n"
     ]
    },
    {
     "name": "stderr",
     "output_type": "stream",
     "text": [
      "Seems you are using operation INIs to provide cropbox.\n",
      "contour has less than three vertices. Ignore.\n",
      "2 contours of reconstructed volume is found at position 36 ([3, 2]). Use the longest one.\n",
      "2 contours of reconstructed volume is found at position 38 ([3, 1]). Use the longest one.\n",
      "2 contours of reconstructed volume is found at position 46 ([6, 1]). Use the longest one.\n"
     ]
    },
    {
     "name": "stdout",
     "output_type": "stream",
     "text": [
      "Number of valid sections:\n",
      "53\n",
      "First valid section: 140\n",
      "Last valid section: 192\n",
      "num_valid_sections: 53\n",
      "\n",
      "\n",
      "\n",
      "(52, 91, 61)\n",
      "/media/alexn/BstemAtlasDataBackup/ucsd_brain/CSHL_data_processed/MD585/MD585_cropbox.ini\n"
     ]
    },
    {
     "name": "stderr",
     "output_type": "stream",
     "text": [
      "Seems you are using operation INIs to provide cropbox.\n",
      "2 contours of reconstructed volume is found at position 145 ([24, 1]). Use the longest one.\n",
      "3 contours of reconstructed volume is found at position 147 ([7, 3, 1]). Use the longest one.\n",
      "2 contours of reconstructed volume is found at position 17 ([11, 3]). Use the longest one.\n"
     ]
    },
    {
     "name": "stdout",
     "output_type": "stream",
     "text": [
      "Number of valid sections:\n",
      "71\n",
      "First valid section: 260\n",
      "Last valid section: 330\n",
      "num_valid_sections: 71\n",
      "\n",
      "\n",
      "\n",
      "(70, 114, 148)\n",
      "/media/alexn/BstemAtlasDataBackup/ucsd_brain/CSHL_data_processed/MD585/MD585_cropbox.ini\n"
     ]
    },
    {
     "name": "stderr",
     "output_type": "stream",
     "text": [
      "Seems you are using operation INIs to provide cropbox.\n",
      "2 contours of reconstructed volume is found at position 140 ([9, 2]). Use the longest one.\n"
     ]
    },
    {
     "name": "stdout",
     "output_type": "stream",
     "text": [
      "Number of valid sections:\n",
      "71\n",
      "First valid section: 119\n",
      "Last valid section: 189\n",
      "num_valid_sections: 71\n",
      "\n",
      "\n",
      "\n",
      "(70, 145, 116)\n",
      "/media/alexn/BstemAtlasDataBackup/ucsd_brain/CSHL_data_processed/MD585/MD585_cropbox.ini\n"
     ]
    },
    {
     "name": "stderr",
     "output_type": "stream",
     "text": [
      "Seems you are using operation INIs to provide cropbox.\n",
      "2 contours of reconstructed volume is found at position 11 ([27, 1]). Use the longest one.\n",
      "3 contours of reconstructed volume is found at position 37 ([4, 2, 1]). Use the longest one.\n"
     ]
    },
    {
     "name": "stdout",
     "output_type": "stream",
     "text": [
      "Number of valid sections:\n",
      "20\n",
      "First valid section: 217\n",
      "Last valid section: 236\n",
      "num_valid_sections: 20\n",
      "\n",
      "\n",
      "\n",
      "(19, 41, 53)\n",
      "/media/alexn/BstemAtlasDataBackup/ucsd_brain/CSHL_data_processed/MD585/MD585_cropbox.ini\n"
     ]
    },
    {
     "name": "stderr",
     "output_type": "stream",
     "text": [
      "Seems you are using operation INIs to provide cropbox.\n"
     ]
    },
    {
     "name": "stdout",
     "output_type": "stream",
     "text": [
      "Number of valid sections:\n",
      "24\n",
      "First valid section: 205\n",
      "Last valid section: 228\n",
      "num_valid_sections: 24\n",
      "\n",
      "\n",
      "\n",
      "(23, 39, 52)\n",
      "/media/alexn/BstemAtlasDataBackup/ucsd_brain/CSHL_data_processed/MD585/MD585_cropbox.ini\n"
     ]
    },
    {
     "name": "stderr",
     "output_type": "stream",
     "text": [
      "Seems you are using operation INIs to provide cropbox.\n",
      "contour has less than three vertices. Ignore.\n",
      "contour has less than three vertices. Ignore.\n"
     ]
    },
    {
     "name": "stdout",
     "output_type": "stream",
     "text": [
      "Number of valid sections:\n",
      "10\n",
      "First valid section: 228\n",
      "Last valid section: 237\n",
      "num_valid_sections: 10\n",
      "\n",
      "\n",
      "\n",
      "(9, 19, 17)\n",
      "/media/alexn/BstemAtlasDataBackup/ucsd_brain/CSHL_data_processed/MD585/MD585_cropbox.ini\n"
     ]
    },
    {
     "name": "stderr",
     "output_type": "stream",
     "text": [
      "Seems you are using operation INIs to provide cropbox.\n",
      "contour has less than three vertices. Ignore.\n",
      "contour has less than three vertices. Ignore.\n"
     ]
    },
    {
     "name": "stdout",
     "output_type": "stream",
     "text": [
      "Number of valid sections:\n",
      "9\n",
      "First valid section: 203\n",
      "Last valid section: 211\n",
      "num_valid_sections: 9\n",
      "\n",
      "\n",
      "\n",
      "(8, 19, 16)\n",
      "/media/alexn/BstemAtlasDataBackup/ucsd_brain/CSHL_data_processed/MD585/MD585_cropbox.ini\n"
     ]
    },
    {
     "name": "stderr",
     "output_type": "stream",
     "text": [
      "Seems you are using operation INIs to provide cropbox.\n",
      "2 contours of reconstructed volume is found at position 11 ([5, 1]). Use the longest one.\n",
      "2 contours of reconstructed volume is found at position 13 ([22, 6]). Use the longest one.\n",
      "2 contours of reconstructed volume is found at position 101 ([13, 1]). Use the longest one.\n",
      "2 contours of reconstructed volume is found at position 75 ([69, 1]). Use the longest one.\n",
      "3 contours of reconstructed volume is found at position 93 ([11, 3, 3]). Use the longest one.\n"
     ]
    },
    {
     "name": "stdout",
     "output_type": "stream",
     "text": [
      "Number of valid sections:\n",
      "46\n",
      "First valid section: 270\n",
      "Last valid section: 315\n",
      "num_valid_sections: 46\n",
      "\n",
      "\n",
      "\n",
      "(45, 119, 122)\n",
      "/media/alexn/BstemAtlasDataBackup/ucsd_brain/CSHL_data_processed/MD585/MD585_cropbox.ini\n"
     ]
    },
    {
     "name": "stderr",
     "output_type": "stream",
     "text": [
      "Seems you are using operation INIs to provide cropbox.\n",
      "4 contours of reconstructed volume is found at position 14 ([30, 2, 1, 1]). Use the longest one.\n",
      "2 contours of reconstructed volume is found at position 94 ([42, 3]). Use the longest one.\n",
      "2 contours of reconstructed volume is found at position 96 ([37, 1]). Use the longest one.\n",
      "2 contours of reconstructed volume is found at position 98 ([10, 7]). Use the longest one.\n",
      "2 contours of reconstructed volume is found at position 20 ([2, 1]). Use the longest one.\n",
      "contour has less than three vertices. Ignore.\n",
      "3 contours of reconstructed volume is found at position 40 ([68, 1, 1]). Use the longest one.\n"
     ]
    },
    {
     "name": "stdout",
     "output_type": "stream",
     "text": [
      "Number of valid sections:\n",
      "44\n",
      "First valid section: 100\n",
      "Last valid section: 143\n",
      "num_valid_sections: 44\n",
      "\n",
      "\n",
      "\n",
      "(43, 125, 89)\n",
      "/media/alexn/BstemAtlasDataBackup/ucsd_brain/CSHL_data_processed/MD585/MD585_cropbox.ini\n"
     ]
    },
    {
     "name": "stderr",
     "output_type": "stream",
     "text": [
      "Seems you are using operation INIs to provide cropbox.\n",
      "2 contours of reconstructed volume is found at position 81 ([115, 1]). Use the longest one.\n",
      "2 contours of reconstructed volume is found at position 83 ([105, 1]). Use the longest one.\n",
      "2 contours of reconstructed volume is found at position 85 ([83, 3]). Use the longest one.\n",
      "5 contours of reconstructed volume is found at position 93 ([12, 6, 4, 3, 2]). Use the longest one.\n",
      "4 contours of reconstructed volume is found at position 75 ([89, 3, 3, 1]). Use the longest one.\n",
      "2 contours of reconstructed volume is found at position 77 ([68, 3]). Use the longest one.\n",
      "2 contours of reconstructed volume is found at position 83 ([17, 1]). Use the longest one.\n"
     ]
    },
    {
     "name": "stdout",
     "output_type": "stream",
     "text": [
      "Number of valid sections:\n",
      "41\n",
      "First valid section: 276\n",
      "Last valid section: 316\n",
      "num_valid_sections: 41\n",
      "\n",
      "\n",
      "\n",
      "(40, 135, 166)\n",
      "/media/alexn/BstemAtlasDataBackup/ucsd_brain/CSHL_data_processed/MD585/MD585_cropbox.ini\n"
     ]
    },
    {
     "name": "stderr",
     "output_type": "stream",
     "text": [
      "Seems you are using operation INIs to provide cropbox.\n",
      "2 contours of reconstructed volume is found at position 18 ([17, 15]). Use the longest one.\n",
      "3 contours of reconstructed volume is found at position 20 ([51, 35, 1]). Use the longest one.\n",
      "5 contours of reconstructed volume is found at position 22 ([85, 46, 3, 3, 1]). Use the longest one.\n",
      "2 contours of reconstructed volume is found at position 76 ([63, 4]). Use the longest one.\n",
      "2 contours of reconstructed volume is found at position 84 ([46, 1]). Use the longest one.\n",
      "3 contours of reconstructed volume is found at position 90 ([4, 2, 2]). Use the longest one.\n",
      "contour has less than three vertices. Ignore.\n",
      "3 contours of reconstructed volume is found at position 28 ([15, 2, 2]). Use the longest one.\n",
      "6 contours of reconstructed volume is found at position 30 ([56, 28, 11, 1, 1, 1]). Use the longest one.\n",
      "3 contours of reconstructed volume is found at position 32 ([84, 40, 1]). Use the longest one.\n",
      "3 contours of reconstructed volume is found at position 64 ([81, 7, 1]). Use the longest one.\n",
      "3 contours of reconstructed volume is found at position 66 ([60, 3, 1]). Use the longest one.\n"
     ]
    },
    {
     "name": "stdout",
     "output_type": "stream",
     "text": [
      "Number of valid sections:\n",
      "37\n",
      "First valid section: 112\n",
      "Last valid section: 148\n",
      "num_valid_sections: 37\n",
      "\n",
      "\n",
      "\n",
      "(36, 122, 185)\n",
      "/media/alexn/BstemAtlasDataBackup/ucsd_brain/CSHL_data_processed/MD585/MD585_cropbox.ini\n"
     ]
    },
    {
     "name": "stderr",
     "output_type": "stream",
     "text": [
      "Seems you are using operation INIs to provide cropbox.\n",
      "2 contours of reconstructed volume is found at position 51 ([7, 5]). Use the longest one.\n",
      "2 contours of reconstructed volume is found at position 53 ([10, 7]). Use the longest one.\n",
      "2 contours of reconstructed volume is found at position 55 ([12, 9]). Use the longest one.\n",
      "2 contours of reconstructed volume is found at position 57 ([13, 10]). Use the longest one.\n",
      "2 contours of reconstructed volume is found at position 63 ([27, 11]). Use the longest one.\n",
      "2 contours of reconstructed volume is found at position 65 ([29, 17]). Use the longest one.\n",
      "2 contours of reconstructed volume is found at position 67 ([30, 21]). Use the longest one.\n",
      "2 contours of reconstructed volume is found at position 69 ([30, 23]). Use the longest one.\n",
      "2 contours of reconstructed volume is found at position 71 ([33, 27]). Use the longest one.\n",
      "2 contours of reconstructed volume is found at position 73 ([35, 29]). Use the longest one.\n",
      "3 contours of reconstructed volume is found at position 245 ([13, 5, 1]). Use the longest one.\n",
      "2 contours of reconstructed volume is found at position 107 ([10, 3]). Use the longest one.\n",
      "2 contours of reconstructed volume is found at position 109 ([11, 7]). Use the longest one.\n",
      "4 contours of reconstructed volume is found at position 111 ([12, 9, 2, 1]). Use the longest one.\n",
      "3 contours of reconstructed volume is found at position 113 ([13, 11, 9]). Use the longest one.\n",
      "3 contours of reconstructed volume is found at position 115 ([15, 13, 12]). Use the longest one.\n",
      "3 contours of reconstructed volume is found at position 117 ([18, 15, 14]). Use the longest one.\n",
      "2 contours of reconstructed volume is found at position 119 ([28, 20]). Use the longest one.\n",
      "2 contours of reconstructed volume is found at position 121 ([32, 22]). Use the longest one.\n",
      "2 contours of reconstructed volume is found at position 179 ([62, 12]). Use the longest one.\n",
      "3 contours of reconstructed volume is found at position 181 ([60, 4, 1]). Use the longest one.\n"
     ]
    },
    {
     "name": "stdout",
     "output_type": "stream",
     "text": [
      "Number of valid sections:\n",
      "101\n",
      "First valid section: 196\n",
      "Last valid section: 296\n",
      "num_valid_sections: 101\n",
      "\n",
      "\n",
      "\n",
      "(100, 128, 108)\n",
      "/media/alexn/BstemAtlasDataBackup/ucsd_brain/CSHL_data_processed/MD585/MD585_cropbox.ini\n"
     ]
    },
    {
     "name": "stderr",
     "output_type": "stream",
     "text": [
      "Seems you are using operation INIs to provide cropbox.\n",
      "2 contours of reconstructed volume is found at position 27 ([11, 7]). Use the longest one.\n",
      "2 contours of reconstructed volume is found at position 89 ([77, 1]). Use the longest one.\n"
     ]
    },
    {
     "name": "stdout",
     "output_type": "stream",
     "text": [
      "Number of valid sections:\n",
      "79\n",
      "First valid section: 103\n",
      "Last valid section: 181\n",
      "num_valid_sections: 79\n",
      "\n",
      "\n",
      "\n",
      "(78, 150, 141)\n",
      "/media/alexn/BstemAtlasDataBackup/ucsd_brain/CSHL_data_processed/MD585/MD585_cropbox.ini\n"
     ]
    },
    {
     "name": "stderr",
     "output_type": "stream",
     "text": [
      "Seems you are using operation INIs to provide cropbox.\n",
      "contour has less than three vertices. Ignore.\n",
      "contour has less than three vertices. Ignore.\n"
     ]
    },
    {
     "name": "stdout",
     "output_type": "stream",
     "text": [
      "Number of valid sections:\n",
      "15\n",
      "First valid section: 298\n",
      "Last valid section: 312\n",
      "num_valid_sections: 15\n",
      "\n",
      "\n",
      "\n",
      "(14, 70, 56)\n",
      "/media/alexn/BstemAtlasDataBackup/ucsd_brain/CSHL_data_processed/MD585/MD585_cropbox.ini\n"
     ]
    },
    {
     "name": "stderr",
     "output_type": "stream",
     "text": [
      "Seems you are using operation INIs to provide cropbox.\n",
      "2 contours of reconstructed volume is found at position 9 ([1, 1]). Use the longest one.\n",
      "contour has less than three vertices. Ignore.\n",
      "2 contours of reconstructed volume is found at position 11 ([25, 1]). Use the longest one.\n",
      "2 contours of reconstructed volume is found at position 17 ([5, 1]). Use the longest one.\n",
      "2 contours of reconstructed volume is found at position 31 ([1, 1]). Use the longest one.\n",
      "contour has less than three vertices. Ignore.\n"
     ]
    },
    {
     "name": "stdout",
     "output_type": "stream",
     "text": [
      "Number of valid sections:\n",
      "15\n",
      "First valid section: 125\n",
      "Last valid section: 139\n",
      "num_valid_sections: 15\n",
      "\n",
      "\n",
      "\n",
      "(14, 77, 45)\n",
      "/media/alexn/BstemAtlasDataBackup/ucsd_brain/CSHL_data_processed/MD585/MD585_cropbox.ini\n"
     ]
    },
    {
     "name": "stderr",
     "output_type": "stream",
     "text": [
      "Seems you are using operation INIs to provide cropbox.\n",
      "contour has less than three vertices. Ignore.\n",
      "contour has less than three vertices. Ignore.\n",
      "2 contours of reconstructed volume is found at position 36 ([9, 1]). Use the longest one.\n",
      "2 contours of reconstructed volume is found at position 48 ([15, 4]). Use the longest one.\n",
      "2 contours of reconstructed volume is found at position 54 ([11, 1]). Use the longest one.\n",
      "2 contours of reconstructed volume is found at position 56 ([3, 1]). Use the longest one.\n"
     ]
    },
    {
     "name": "stdout",
     "output_type": "stream",
     "text": [
      "Number of valid sections:\n",
      "31\n",
      "First valid section: 194\n",
      "Last valid section: 224\n",
      "num_valid_sections: 31\n",
      "\n",
      "\n",
      "\n",
      "(30, 56, 105)\n",
      "/media/alexn/BstemAtlasDataBackup/ucsd_brain/CSHL_data_processed/MD585/MD585_cropbox.ini\n"
     ]
    },
    {
     "name": "stderr",
     "output_type": "stream",
     "text": [
      "Seems you are using operation INIs to provide cropbox.\n",
      "2 contours of reconstructed volume is found at position 42 ([48, 1]). Use the longest one.\n",
      "4 contours of reconstructed volume is found at position 44 ([20, 8, 3, 2]). Use the longest one.\n",
      "contour has less than three vertices. Ignore.\n",
      "2 contours of reconstructed volume is found at position 22 ([6, 3]). Use the longest one.\n",
      "2 contours of reconstructed volume is found at position 32 ([24, 1]). Use the longest one.\n",
      "3 contours of reconstructed volume is found at position 34 ([25, 7, 1]). Use the longest one.\n",
      "6 contours of reconstructed volume is found at position 38 ([7, 2, 2, 2, 2, 1]). Use the longest one.\n"
     ]
    },
    {
     "name": "stdout",
     "output_type": "stream",
     "text": [
      "Number of valid sections:\n",
      "18\n",
      "First valid section: 176\n",
      "Last valid section: 193\n",
      "num_valid_sections: 18\n",
      "\n",
      "\n",
      "\n",
      "(17, 61, 112)\n",
      "/media/alexn/BstemAtlasDataBackup/ucsd_brain/CSHL_data_processed/MD585/MD585_cropbox.ini\n"
     ]
    },
    {
     "name": "stderr",
     "output_type": "stream",
     "text": [
      "Seems you are using operation INIs to provide cropbox.\n",
      "5 contours of reconstructed volume is found at position 87 ([6, 2, 1, 1, 1]). Use the longest one.\n"
     ]
    },
    {
     "name": "stdout",
     "output_type": "stream",
     "text": [
      "Number of valid sections:\n",
      "44\n",
      "First valid section: 306\n",
      "Last valid section: 349\n",
      "num_valid_sections: 44\n",
      "\n",
      "\n",
      "\n",
      "(43, 77, 104)\n",
      "/media/alexn/BstemAtlasDataBackup/ucsd_brain/CSHL_data_processed/MD585/MD585_cropbox.ini\n"
     ]
    },
    {
     "name": "stderr",
     "output_type": "stream",
     "text": [
      "Seems you are using operation INIs to provide cropbox.\n",
      "4 contours of reconstructed volume is found at position 11 ([12, 6, 1, 1]). Use the longest one.\n",
      "2 contours of reconstructed volume is found at position 13 ([39, 1]). Use the longest one.\n",
      "4 contours of reconstructed volume is found at position 19 ([20, 3, 2, 1]). Use the longest one.\n"
     ]
    },
    {
     "name": "stdout",
     "output_type": "stream",
     "text": [
      "Number of valid sections:\n",
      "41\n",
      "First valid section: 70\n",
      "Last valid section: 110\n",
      "num_valid_sections: 41\n",
      "\n",
      "\n",
      "\n",
      "(40, 88, 116)\n",
      "/media/alexn/BstemAtlasDataBackup/ucsd_brain/CSHL_data_processed/MD585/MD585_cropbox.ini\n"
     ]
    },
    {
     "name": "stderr",
     "output_type": "stream",
     "text": [
      "Seems you are using operation INIs to provide cropbox.\n",
      "2 contours of reconstructed volume is found at position 80 ([43, 3]). Use the longest one.\n",
      "2 contours of reconstructed volume is found at position 82 ([41, 1]). Use the longest one.\n",
      "2 contours of reconstructed volume is found at position 72 ([35, 1]). Use the longest one.\n",
      "5 contours of reconstructed volume is found at position 80 ([13, 2, 2, 1, 1]). Use the longest one.\n"
     ]
    },
    {
     "name": "stdout",
     "output_type": "stream",
     "text": [
      "Number of valid sections:\n",
      "39\n",
      "First valid section: 303\n",
      "Last valid section: 341\n",
      "num_valid_sections: 39\n",
      "\n",
      "\n",
      "\n",
      "(38, 101, 65)\n",
      "/media/alexn/BstemAtlasDataBackup/ucsd_brain/CSHL_data_processed/MD585/MD585_cropbox.ini\n"
     ]
    },
    {
     "name": "stderr",
     "output_type": "stream",
     "text": [
      "Seems you are using operation INIs to provide cropbox.\n",
      "contour has less than three vertices. Ignore.\n",
      "3 contours of reconstructed volume is found at position 14 ([12, 4, 2]). Use the longest one.\n",
      "2 contours of reconstructed volume is found at position 52 ([5, 2]). Use the longest one.\n"
     ]
    },
    {
     "name": "stdout",
     "output_type": "stream",
     "text": [
      "Number of valid sections:\n",
      "31\n",
      "First valid section: 82\n",
      "Last valid section: 112\n",
      "num_valid_sections: 31\n",
      "\n",
      "\n",
      "\n",
      "(30, 74, 101)\n",
      "/media/alexn/BstemAtlasDataBackup/ucsd_brain/CSHL_data_processed/MD585/MD585_cropbox.ini\n"
     ]
    },
    {
     "name": "stderr",
     "output_type": "stream",
     "text": [
      "Seems you are using operation INIs to provide cropbox.\n",
      "2 contours of reconstructed volume is found at position 35 ([1, 1]). Use the longest one.\n",
      "contour has less than three vertices. Ignore.\n",
      "2 contours of reconstructed volume is found at position 47 ([1, 1]). Use the longest one.\n",
      "contour has less than three vertices. Ignore.\n"
     ]
    },
    {
     "name": "stdout",
     "output_type": "stream",
     "text": [
      "Number of valid sections:\n",
      "56\n",
      "First valid section: 283\n",
      "Last valid section: 338\n",
      "num_valid_sections: 56\n",
      "\n",
      "\n",
      "\n",
      "(55, 67, 101)\n",
      "/media/alexn/BstemAtlasDataBackup/ucsd_brain/CSHL_data_processed/MD585/MD585_cropbox.ini\n"
     ]
    },
    {
     "name": "stderr",
     "output_type": "stream",
     "text": [
      "Seems you are using operation INIs to provide cropbox.\n",
      "2 contours of reconstructed volume is found at position 10 ([11, 3]). Use the longest one.\n",
      "2 contours of reconstructed volume is found at position 18 ([3, 2]). Use the longest one.\n",
      "2 contours of reconstructed volume is found at position 102 ([3, 2]). Use the longest one.\n"
     ]
    },
    {
     "name": "stdout",
     "output_type": "stream",
     "text": [
      "Number of valid sections:\n",
      "53\n",
      "First valid section: 84\n",
      "Last valid section: 136\n",
      "num_valid_sections: 53\n",
      "\n",
      "\n",
      "\n",
      "(52, 71, 108)\n"
     ]
    }
   ],
   "source": [
    "stack = 'MD585'\n",
    "\n",
    "for structure in all_structures_total:\n",
    "    str_contour, first_sec, last_sec = image_contour_generator( stack, structure, use_local_alignment=True, image_prep=2, threshold=0.2)\n",
    "\n",
    "    add_structure_to_neuroglancer( str_contour, structure, color_radius=5, xy_ng_resolution_um=10, threshold=0.2, color=1, solid_volume=False, save_results=False  )"
   ]
  },
  {
   "cell_type": "code",
   "execution_count": 41,
   "metadata": {},
   "outputs": [
    {
     "data": {
      "text/plain": [
       "<matplotlib.collections.PathCollection at 0x7f53901adb50>"
      ]
     },
     "execution_count": 41,
     "metadata": {},
     "output_type": "execute_result"
    },
    {
     "data": {
      "image/png": "[encoded data removed]",
      "text/plain": [
       "<Figure size 432x288 with 1 Axes>"
      ]
     },
     "metadata": {
      "needs_background": "light"
     },
     "output_type": "display_data"
    }
   ],
   "source": [
    "x_list = []\n",
    "y_list = []\n",
    "min_x = 9999999\n",
    "min_y = 9999999\n",
    "max_x = 0\n",
    "max_y = 0\n",
    "\n",
    "\n",
    "coor_list = str_contour[135]['IC'][0.5]\n",
    "for x, y in coor_list:\n",
    "    x_list.append(x)\n",
    "    y_list.append(y)\n",
    "\n",
    "plt.scatter(x_list, y_list, s=20)\n",
    "\n",
    "# Need to: design function that fills in all points in between"
   ]
  },
  {
   "cell_type": "code",
   "execution_count": 25,
   "metadata": {
    "scrolled": true
   },
   "outputs": [
    {
     "name": "stdout",
     "output_type": "stream",
     "text": [
      "upload: ../../../Desktop/neuroglancer_binary_volumes/offsets/5N_L_offsets.txt to s3://test-bucket-sid/alex_neuroglancer_volumes/offsets/5N_L_offsets.txt\n",
      "upload: ../../../Desktop/neuroglancer_binary_volumes/offsets/4N_L_offsets.txt to s3://test-bucket-sid/alex_neuroglancer_volumes/offsets/4N_L_offsets.txt\n",
      "upload: ../../../Desktop/neuroglancer_binary_volumes/offsets/6N_L_offsets.txt to s3://test-bucket-sid/alex_neuroglancer_volumes/offsets/6N_L_offsets.txt\n",
      "upload: ../../../Desktop/neuroglancer_binary_volumes/offsets/6N_R_offsets.txt to s3://test-bucket-sid/alex_neuroglancer_volumes/offsets/6N_R_offsets.txt\n",
      "upload: ../../../Desktop/neuroglancer_binary_volumes/offsets/4N_R_offsets.txt to s3://test-bucket-sid/alex_neuroglancer_volumes/offsets/4N_R_offsets.txt\n",
      "upload: ../../../Desktop/neuroglancer_binary_volumes/offsets/10N_R_offsets.txt to s3://test-bucket-sid/alex_neuroglancer_volumes/offsets/10N_R_offsets.txt\n",
      "upload: ../../../Desktop/neuroglancer_binary_volumes/offsets/7N_R_offsets.txt to s3://test-bucket-sid/alex_neuroglancer_volumes/offsets/7N_R_offsets.txt\n",
      "upload: ../../../Desktop/neuroglancer_binary_volumes/offsets/10N_L_offsets.txt to s3://test-bucket-sid/alex_neuroglancer_volumes/offsets/10N_L_offsets.txt\n",
      "upload: ../../../Desktop/neuroglancer_binary_volumes/offsets/5N_R_offsets.txt to s3://test-bucket-sid/alex_neuroglancer_volumes/offsets/5N_R_offsets.txt\n",
      "upload: ../../../Desktop/neuroglancer_binary_volumes/offsets/7N_L_offsets.txt to s3://test-bucket-sid/alex_neuroglancer_volumes/offsets/7N_L_offsets.txt\n",
      "upload: ../../../Desktop/neuroglancer_binary_volumes/offsets/7n_R_offsets.txt to s3://test-bucket-sid/alex_neuroglancer_volumes/offsets/7n_R_offsets.txt\n",
      "upload: ../../../Desktop/neuroglancer_binary_volumes/offsets/AP_offsets.txt to s3://test-bucket-sid/alex_neuroglancer_volumes/offsets/AP_offsets.txt\n",
      "upload: ../../../Desktop/neuroglancer_binary_volumes/offsets/7n_L_offsets.txt to s3://test-bucket-sid/alex_neuroglancer_volumes/offsets/7n_L_offsets.txt\n",
      "upload: ../../../Desktop/neuroglancer_binary_volumes/offsets/Amb_L_offsets.txt to s3://test-bucket-sid/alex_neuroglancer_volumes/offsets/Amb_L_offsets.txt\n",
      "upload: ../../../Desktop/neuroglancer_binary_volumes/offsets/DC_R_offsets.txt to s3://test-bucket-sid/alex_neuroglancer_volumes/offsets/DC_R_offsets.txt\n",
      "upload: ../../../Desktop/neuroglancer_binary_volumes/offsets/IC_offsets.txt to s3://test-bucket-sid/alex_neuroglancer_volumes/offsets/IC_offsets.txt\n",
      "upload: ../../../Desktop/neuroglancer_binary_volumes/offsets/LC_L_offsets.txt to s3://test-bucket-sid/alex_neuroglancer_volumes/offsets/LC_L_offsets.txt\n",
      "upload: ../../../Desktop/neuroglancer_binary_volumes/offsets/Amb_R_offsets.txt to s3://test-bucket-sid/alex_neuroglancer_volumes/offsets/Amb_R_offsets.txt\n",
      "upload: ../../../Desktop/neuroglancer_binary_volumes/offsets/DC_L_offsets.txt to s3://test-bucket-sid/alex_neuroglancer_volumes/offsets/DC_L_offsets.txt\n",
      "upload: ../../../Desktop/neuroglancer_binary_volumes/offsets/LC_R_offsets.txt to s3://test-bucket-sid/alex_neuroglancer_volumes/offsets/LC_R_offsets.txt\n",
      "upload: ../../../Desktop/neuroglancer_binary_volumes/offsets/PBG_L_offsets.txt to s3://test-bucket-sid/alex_neuroglancer_volumes/offsets/PBG_L_offsets.txt\n",
      "upload: ../../../Desktop/neuroglancer_binary_volumes/offsets/LRt_R_offsets.txt to s3://test-bucket-sid/alex_neuroglancer_volumes/offsets/LRt_R_offsets.txt\n",
      "upload: ../../../Desktop/neuroglancer_binary_volumes/offsets/LRt_L_offsets.txt to s3://test-bucket-sid/alex_neuroglancer_volumes/offsets/LRt_L_offsets.txt\n",
      "upload: ../../../Desktop/neuroglancer_binary_volumes/offsets/12N_offsets.txt to s3://test-bucket-sid/alex_neuroglancer_volumes/offsets/12N_offsets.txt\n",
      "upload: ../../../Desktop/neuroglancer_binary_volumes/offsets/Pn_R_offsets.txt to s3://test-bucket-sid/alex_neuroglancer_volumes/offsets/Pn_R_offsets.txt\n",
      "upload: ../../../Desktop/neuroglancer_binary_volumes/offsets/RMC_L_offsets.txt to s3://test-bucket-sid/alex_neuroglancer_volumes/offsets/RMC_L_offsets.txt\n",
      "upload: ../../../Desktop/neuroglancer_binary_volumes/offsets/RMC_R_offsets.txt to s3://test-bucket-sid/alex_neuroglancer_volumes/offsets/RMC_R_offsets.txt\n",
      "upload: ../../../Desktop/neuroglancer_binary_volumes/offsets/PBG_R_offsets.txt to s3://test-bucket-sid/alex_neuroglancer_volumes/offsets/PBG_R_offsets.txt\n",
      "upload: ../../../Desktop/neuroglancer_binary_volumes/offsets/Pn_L_offsets.txt to s3://test-bucket-sid/alex_neuroglancer_volumes/offsets/Pn_L_offsets.txt\n",
      "upload: ../../../Desktop/neuroglancer_binary_volumes/offsets/RtTg_offsets.txt to s3://test-bucket-sid/alex_neuroglancer_volumes/offsets/RtTg_offsets.txt\n",
      "upload: ../../../Desktop/neuroglancer_binary_volumes/offsets/SNC_L_offsets.txt to s3://test-bucket-sid/alex_neuroglancer_volumes/offsets/SNC_L_offsets.txt\n",
      "upload: ../../../Desktop/neuroglancer_binary_volumes/offsets/SNC_R_offsets.txt to s3://test-bucket-sid/alex_neuroglancer_volumes/offsets/SNC_R_offsets.txt\n",
      "upload: ../../../Desktop/neuroglancer_binary_volumes/offsets/SC_offsets.txt to s3://test-bucket-sid/alex_neuroglancer_volumes/offsets/SC_offsets.txt\n",
      "upload: ../../../Desktop/neuroglancer_binary_volumes/offsets/Sp5C_L_offsets.txt to s3://test-bucket-sid/alex_neuroglancer_volumes/offsets/Sp5C_L_offsets.txt\n",
      "upload: ../../../Desktop/neuroglancer_binary_volumes/offsets/SNR_L_offsets.txt to s3://test-bucket-sid/alex_neuroglancer_volumes/offsets/SNR_L_offsets.txt\n",
      "upload: ../../../Desktop/neuroglancer_binary_volumes/offsets/SNR_R_offsets.txt to s3://test-bucket-sid/alex_neuroglancer_volumes/offsets/SNR_R_offsets.txt\n",
      "upload: ../../../Desktop/neuroglancer_binary_volumes/offsets/3N_R_offsets.txt to s3://test-bucket-sid/alex_neuroglancer_volumes/offsets/3N_R_offsets.txt\n",
      "upload: ../../../Desktop/neuroglancer_binary_volumes/offsets/Sp5I_L_offsets.txt to s3://test-bucket-sid/alex_neuroglancer_volumes/offsets/Sp5I_L_offsets.txt\n",
      "upload: ../../../Desktop/neuroglancer_binary_volumes/offsets/Sp5C_R_offsets.txt to s3://test-bucket-sid/alex_neuroglancer_volumes/offsets/Sp5C_R_offsets.txt\n",
      "upload: ../../../Desktop/neuroglancer_binary_volumes/offsets/Sp5I_R_offsets.txt to s3://test-bucket-sid/alex_neuroglancer_volumes/offsets/Sp5I_R_offsets.txt\n",
      "upload: ../../../Desktop/neuroglancer_binary_volumes/offsets/Sp5O_L_offsets.txt to s3://test-bucket-sid/alex_neuroglancer_volumes/offsets/Sp5O_L_offsets.txt\n",
      "upload: ../../../Desktop/neuroglancer_binary_volumes/offsets/Tz_L_offsets.txt to s3://test-bucket-sid/alex_neuroglancer_volumes/offsets/Tz_L_offsets.txt\n",
      "upload: ../../../Desktop/neuroglancer_binary_volumes/offsets/Sp5O_R_offsets.txt to s3://test-bucket-sid/alex_neuroglancer_volumes/offsets/Sp5O_R_offsets.txt\n",
      "upload: ../../../Desktop/neuroglancer_binary_volumes/offsets/Tz_R_offsets.txt to s3://test-bucket-sid/alex_neuroglancer_volumes/offsets/Tz_R_offsets.txt\n",
      "upload: ../../../Desktop/neuroglancer_binary_volumes/offsets/3N_L_offsets.txt to s3://test-bucket-sid/alex_neuroglancer_volumes/offsets/3N_L_offsets.txt\n",
      "upload: ../../../Desktop/neuroglancer_binary_volumes/offsets/VCA_L_offsets.txt to s3://test-bucket-sid/alex_neuroglancer_volumes/offsets/VCA_L_offsets.txt\n",
      "upload: ../../../Desktop/neuroglancer_binary_volumes/offsets/VCA_R_offsets.txt to s3://test-bucket-sid/alex_neuroglancer_volumes/offsets/VCA_R_offsets.txt\n",
      "upload: ../../../Desktop/neuroglancer_binary_volumes/offsets/VCP_L_offsets.txt to s3://test-bucket-sid/alex_neuroglancer_volumes/offsets/VCP_L_offsets.txt\n",
      "upload: ../../../Desktop/neuroglancer_binary_volumes/offsets/VCP_R_offsets.txt to s3://test-bucket-sid/alex_neuroglancer_volumes/offsets/VCP_R_offsets.txt\n",
      "upload: ../../../Desktop/neuroglancer_binary_volumes/offsets/VLL_R_offsets.txt to s3://test-bucket-sid/alex_neuroglancer_volumes/offsets/VLL_R_offsets.txt\n",
      "upload: ../../../Desktop/neuroglancer_binary_volumes/offsets/VLL_L_offsets.txt to s3://test-bucket-sid/alex_neuroglancer_volumes/offsets/VLL_L_offsets.txt\n",
      "upload: ../../../Desktop/neuroglancer_binary_volumes/volumes/3N_L_volume.npy to s3://test-bucket-sid/alex_neuroglancer_volumes/volumes/3N_L_volume.npy\n",
      "upload: ../../../Desktop/neuroglancer_binary_volumes/volumes/4N_L_volume.npy to s3://test-bucket-sid/alex_neuroglancer_volumes/volumes/4N_L_volume.npy\n",
      "upload: ../../../Desktop/neuroglancer_binary_volumes/volumes/4N_R_volume.npy to s3://test-bucket-sid/alex_neuroglancer_volumes/volumes/4N_R_volume.npy\n"
     ]
    },
    {
     "name": "stdout",
     "output_type": "stream",
     "text": [
      "upload: ../../../Desktop/neuroglancer_binary_volumes/volumes/10N_L_volume.npy to s3://test-bucket-sid/alex_neuroglancer_volumes/volumes/10N_L_volume.npy\n",
      "upload: ../../../Desktop/neuroglancer_binary_volumes/volumes/3N_R_volume.npy to s3://test-bucket-sid/alex_neuroglancer_volumes/volumes/3N_R_volume.npy\n",
      "upload: ../../../Desktop/neuroglancer_binary_volumes/volumes/6N_L_volume.npy to s3://test-bucket-sid/alex_neuroglancer_volumes/volumes/6N_L_volume.npy\n",
      "upload: ../../../Desktop/neuroglancer_binary_volumes/volumes/10N_R_volume.npy to s3://test-bucket-sid/alex_neuroglancer_volumes/volumes/10N_R_volume.npy\n",
      "upload: ../../../Desktop/neuroglancer_binary_volumes/volumes/6N_R_volume.npy to s3://test-bucket-sid/alex_neuroglancer_volumes/volumes/6N_R_volume.npy\n",
      "upload: ../../../Desktop/neuroglancer_binary_volumes/volumes/12N_volume.npy to s3://test-bucket-sid/alex_neuroglancer_volumes/volumes/12N_volume.npy\n",
      "upload: ../../../Desktop/neuroglancer_binary_volumes/volumes/5N_L_volume.npy to s3://test-bucket-sid/alex_neuroglancer_volumes/volumes/5N_L_volume.npy\n",
      "upload: ../../../Desktop/neuroglancer_binary_volumes/volumes/Amb_L_volume.npy to s3://test-bucket-sid/alex_neuroglancer_volumes/volumes/Amb_L_volume.npy\n",
      "upload: ../../../Desktop/neuroglancer_binary_volumes/volumes/AP_volume.npy to s3://test-bucket-sid/alex_neuroglancer_volumes/volumes/AP_volume.npy\n",
      "upload: ../../../Desktop/neuroglancer_binary_volumes/volumes/Amb_R_volume.npy to s3://test-bucket-sid/alex_neuroglancer_volumes/volumes/Amb_R_volume.npy\n",
      "upload: ../../../Desktop/neuroglancer_binary_volumes/volumes/7N_L_volume.npy to s3://test-bucket-sid/alex_neuroglancer_volumes/volumes/7N_L_volume.npy\n",
      "upload: ../../../Desktop/neuroglancer_binary_volumes/volumes/7N_R_volume.npy to s3://test-bucket-sid/alex_neuroglancer_volumes/volumes/7N_R_volume.npy\n",
      "upload: ../../../Desktop/neuroglancer_binary_volumes/volumes/7n_R_volume.npy to s3://test-bucket-sid/alex_neuroglancer_volumes/volumes/7n_R_volume.npy\n",
      "upload: ../../../Desktop/neuroglancer_binary_volumes/volumes/7n_L_volume.npy to s3://test-bucket-sid/alex_neuroglancer_volumes/volumes/7n_L_volume.npy\n",
      "upload: ../../../Desktop/neuroglancer_binary_volumes/volumes/LC_R_volume.npy to s3://test-bucket-sid/alex_neuroglancer_volumes/volumes/LC_R_volume.npy\n",
      "upload: ../../../Desktop/neuroglancer_binary_volumes/volumes/DC_L_volume.npy to s3://test-bucket-sid/alex_neuroglancer_volumes/volumes/DC_L_volume.npy\n",
      "upload: ../../../Desktop/neuroglancer_binary_volumes/volumes/5N_R_volume.npy to s3://test-bucket-sid/alex_neuroglancer_volumes/volumes/5N_R_volume.npy\n",
      "upload: ../../../Desktop/neuroglancer_binary_volumes/volumes/LC_L_volume.npy to s3://test-bucket-sid/alex_neuroglancer_volumes/volumes/LC_L_volume.npy\n",
      "upload: ../../../Desktop/neuroglancer_binary_volumes/volumes/PBG_L_volume.npy to s3://test-bucket-sid/alex_neuroglancer_volumes/volumes/PBG_L_volume.npy\n",
      "upload: ../../../Desktop/neuroglancer_binary_volumes/volumes/PBG_R_volume.npy to s3://test-bucket-sid/alex_neuroglancer_volumes/volumes/PBG_R_volume.npy\n",
      "upload: ../../../Desktop/neuroglancer_binary_volumes/volumes/DC_R_volume.npy to s3://test-bucket-sid/alex_neuroglancer_volumes/volumes/DC_R_volume.npy\n",
      "upload: ../../../Desktop/neuroglancer_binary_volumes/volumes/Pn_L_volume.npy to s3://test-bucket-sid/alex_neuroglancer_volumes/volumes/Pn_L_volume.npy\n",
      "upload: ../../../Desktop/neuroglancer_binary_volumes/volumes/LRt_R_volume.npy to s3://test-bucket-sid/alex_neuroglancer_volumes/volumes/LRt_R_volume.npy\n",
      "upload: ../../../Desktop/neuroglancer_binary_volumes/volumes/LRt_L_volume.npy to s3://test-bucket-sid/alex_neuroglancer_volumes/volumes/LRt_L_volume.npy\n",
      "upload: ../../../Desktop/neuroglancer_binary_volumes/volumes/RMC_L_volume.npy to s3://test-bucket-sid/alex_neuroglancer_volumes/volumes/RMC_L_volume.npy\n",
      "upload: ../../../Desktop/neuroglancer_binary_volumes/volumes/RMC_R_volume.npy to s3://test-bucket-sid/alex_neuroglancer_volumes/volumes/RMC_R_volume.npy\n",
      "upload: ../../../Desktop/neuroglancer_binary_volumes/volumes/Pn_R_volume.npy to s3://test-bucket-sid/alex_neuroglancer_volumes/volumes/Pn_R_volume.npy\n",
      "upload: ../../../Desktop/neuroglancer_binary_volumes/volumes/SNC_R_volume.npy to s3://test-bucket-sid/alex_neuroglancer_volumes/volumes/SNC_R_volume.npy\n",
      "upload: ../../../Desktop/neuroglancer_binary_volumes/volumes/SNC_L_volume.npy to s3://test-bucket-sid/alex_neuroglancer_volumes/volumes/SNC_L_volume.npy\n",
      "upload: ../../../Desktop/neuroglancer_binary_volumes/volumes/RtTg_volume.npy to s3://test-bucket-sid/alex_neuroglancer_volumes/volumes/RtTg_volume.npy\n",
      "upload: ../../../Desktop/neuroglancer_binary_volumes/volumes/SNR_L_volume.npy to s3://test-bucket-sid/alex_neuroglancer_volumes/volumes/SNR_L_volume.npy\n",
      "upload: ../../../Desktop/neuroglancer_binary_volumes/volumes/Sp5I_L_volume.npy to s3://test-bucket-sid/alex_neuroglancer_volumes/volumes/Sp5I_L_volume.npy\n",
      "upload: ../../../Desktop/neuroglancer_binary_volumes/volumes/Sp5C_L_volume.npy to s3://test-bucket-sid/alex_neuroglancer_volumes/volumes/Sp5C_L_volume.npy\n",
      "upload: ../../../Desktop/neuroglancer_binary_volumes/volumes/Sp5I_R_volume.npy to s3://test-bucket-sid/alex_neuroglancer_volumes/volumes/Sp5I_R_volume.npy\n",
      "upload: ../../../Desktop/neuroglancer_binary_volumes/volumes/Sp5O_L_volume.npy to s3://test-bucket-sid/alex_neuroglancer_volumes/volumes/Sp5O_L_volume.npy\n",
      "upload: ../../../Desktop/neuroglancer_binary_volumes/volumes/SNR_R_volume.npy to s3://test-bucket-sid/alex_neuroglancer_volumes/volumes/SNR_R_volume.npy\n",
      "upload: ../../../Desktop/neuroglancer_binary_volumes/volumes/Sp5O_R_volume.npy to s3://test-bucket-sid/alex_neuroglancer_volumes/volumes/Sp5O_R_volume.npy\n",
      "upload: ../../../Desktop/neuroglancer_binary_volumes/volumes/Sp5C_R_volume.npy to s3://test-bucket-sid/alex_neuroglancer_volumes/volumes/Sp5C_R_volume.npy\n",
      "upload: ../../../Desktop/neuroglancer_binary_volumes/volumes/Tz_L_volume.npy to s3://test-bucket-sid/alex_neuroglancer_volumes/volumes/Tz_L_volume.npy\n",
      "upload: ../../../Desktop/neuroglancer_binary_volumes/volumes/IC_volume.npy to s3://test-bucket-sid/alex_neuroglancer_volumes/volumes/IC_volume.npy\n",
      "upload: ../../../Desktop/neuroglancer_binary_volumes/volumes/VCA_L_volume.npy to s3://test-bucket-sid/alex_neuroglancer_volumes/volumes/VCA_L_volume.npy\n",
      "upload: ../../../Desktop/neuroglancer_binary_volumes/volumes/VCA_R_volume.npy to s3://test-bucket-sid/alex_neuroglancer_volumes/volumes/VCA_R_volume.npy\n",
      "upload: ../../../Desktop/neuroglancer_binary_volumes/volumes/VCP_L_volume.npy to s3://test-bucket-sid/alex_neuroglancer_volumes/volumes/VCP_L_volume.npy\n",
      "upload: ../../../Desktop/neuroglancer_binary_volumes/volumes/SC_volume.npy to s3://test-bucket-sid/alex_neuroglancer_volumes/volumes/SC_volume.npy\n",
      "upload: ../../../Desktop/neuroglancer_binary_volumes/volumes/VCP_R_volume.npy to s3://test-bucket-sid/alex_neuroglancer_volumes/volumes/VCP_R_volume.npy\n",
      "upload: ../../../Desktop/neuroglancer_binary_volumes/volumes/VLL_L_volume.npy to s3://test-bucket-sid/alex_neuroglancer_volumes/volumes/VLL_L_volume.npy\n",
      "upload: ../../../Desktop/neuroglancer_binary_volumes/volumes/VLL_R_volume.npy to s3://test-bucket-sid/alex_neuroglancer_volumes/volumes/VLL_R_volume.npy\n",
      "upload: ../../../Desktop/neuroglancer_binary_volumes/volumes/Tz_R_volume.npy to s3://test-bucket-sid/alex_neuroglancer_volumes/volumes/Tz_R_volume.npy\n"
     ]
    }
   ],
   "source": [
    "! aws s3 cp --recursive /home/alexn/Desktop/neuroglancer_binary_volumes/ s3://test-bucket-sid/alex_neuroglancer_volumes"
   ]
  },
  {
   "cell_type": "markdown",
   "metadata": {},
   "source": [
    "# End Neuroglancer Code"
   ]
  },
  {
   "cell_type": "code",
   "execution_count": null,
   "metadata": {
    "collapsed": true
   },
   "outputs": [],
   "source": [
    "# wholeslice_to_brainstem = -from_padded_to_wholeslice, from_padded_to_brainstem\n",
    "\n",
    "#from_padded_to_wholeslice\n",
    "rostral_limit = 50\n",
    "caudal_limit = 1188\n",
    "dorsal_limit = 21\n",
    "ventral_limit = 738\n",
    "\n",
    "#from_padded_to_brainstem\n",
    "rostral_limit = 521\n",
    "caudal_limit = 1057\n",
    "dorsal_limit = 128\n",
    "ventral_limit = 465"
   ]
  },
  {
   "cell_type": "code",
   "execution_count": null,
   "metadata": {
    "collapsed": true
   },
   "outputs": [],
   "source": []
  }
 ],
 "metadata": {
  "kernelspec": {
   "display_name": "Python 2",
   "language": "python",
   "name": "python2"
  },
  "language_info": {
   "codemirror_mode": {
    "name": "ipython",
    "version": 2
   },
   "file_extension": ".py",
   "mimetype": "text/x-python",
   "name": "python",
   "nbconvert_exporter": "python",
   "pygments_lexer": "ipython2",
   "version": "2.7.12"
  }
 },
 "nbformat": 4,
 "nbformat_minor": 2
}
