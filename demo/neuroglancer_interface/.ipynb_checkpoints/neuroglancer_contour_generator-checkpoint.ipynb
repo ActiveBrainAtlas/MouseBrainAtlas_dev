{
 "cells": [
  {
   "cell_type": "code",
   "execution_count": 244,
   "metadata": {},
   "outputs": [],
   "source": [
    "import os\n",
    "import sys\n",
    "sys.path.append(os.path.join(os.environ['REPO_DIR'], 'utilities'))\n",
    "from utilities2015 import *\n",
    "from registration_utilities import *\n",
    "from annotation_utilities import *\n",
    "from metadata import *\n",
    "from data_manager import *\n",
    "\n",
    "import matplotlib.pyplot as plt\n",
    "%matplotlib inline\n",
    "\n",
    "import neuroglancer\n",
    "import cv2"
   ]
  },
  {
   "cell_type": "markdown",
   "metadata": {},
   "source": [
    "# Load all structures"
   ]
  },
  {
   "cell_type": "code",
   "execution_count": 209,
   "metadata": {},
   "outputs": [
    {
     "name": "stdout",
     "output_type": "stream",
     "text": [
      "['AP', '12N', 'RtTg', 'SC', 'IC', '5N_R', '5N_L', '6N_R', '6N_L', '7N_R', '7N_L', '7n_R', '7n_L', 'Amb_R', 'Amb_L', 'LC_R', 'LC_L', 'LRt_R', 'LRt_L', 'Pn_R', 'Pn_L', 'Tz_R', 'Tz_L', 'VLL_R', 'VLL_L', 'RMC_R', 'RMC_L', 'SNC_R', 'SNC_L', 'SNR_R', 'SNR_L', '3N_R', '3N_L', '4N_R', '4N_L', 'Sp5I_R', 'Sp5I_L', 'Sp5O_R', 'Sp5O_L', 'Sp5C_R', 'Sp5C_L', 'PBG_R', 'PBG_L', '10N_R', '10N_L', 'VCA_R', 'VCA_L', 'VCP_R', 'VCP_L', 'DC_R', 'DC_L']\n"
     ]
    }
   ],
   "source": [
    "paired_structures = ['5N', '6N', '7N', '7n', 'Amb', 'LC', 'LRt', 'Pn', 'Tz', 'VLL', 'RMC', \\\n",
    "                     'SNC', 'SNR', '3N', '4N', 'Sp5I', 'Sp5O', 'Sp5C', 'PBG', '10N', 'VCA', 'VCP', 'DC']\n",
    "# singular_structures = ['AP', '12N', 'RtTg', 'sp5', 'outerContour', 'SC', 'IC']\n",
    "singular_structures = ['AP', '12N', 'RtTg', 'SC', 'IC']\n",
    "\n",
    "# Make a list of all structures INCLUDING left and right variants\n",
    "all_structures_total = list( singular_structures )\n",
    "rh_structures = []\n",
    "lh_structures = []\n",
    "for structure in paired_structures:\n",
    "    all_structures_total.append( structure+'_R' )\n",
    "    all_structures_total.append( structure+'_L' )\n",
    "    rh_structures.append( structure+'_R' )\n",
    "    lh_structures.append( structure+'_L' )\n",
    "print all_structures_total"
   ]
  },
  {
   "cell_type": "markdown",
   "metadata": {},
   "source": [
    "## Running visualize_registration.py"
   ]
  },
  {
   "cell_type": "code",
   "execution_count": 3,
   "metadata": {
    "collapsed": true,
    "scrolled": true
   },
   "outputs": [],
   "source": [
    "# THIS RUNS visualize_registration_DEV.py\n",
    "stack = 'MD585'\n",
    "\n",
    "fn = stack+'_visualization_global_alignment_spec.json'\n",
    "data = {}\n",
    "\n",
    "data[\"stack_m\"] ={\n",
    "        \"name\":\"atlasV7\",\n",
    "        \"vol_type\": \"score\",\n",
    "        \"resolution\":\"10.0um\"\n",
    "        }\n",
    "data[\"stack_f\"] ={\n",
    "    \"name\":stack, \n",
    "    \"vol_type\": \"score\", \n",
    "    \"resolution\":\"10.0um\",\n",
    "    \"detector_id\":19\n",
    "    }\n",
    "data[\"warp_setting\"] = 0\n",
    "\n",
    "with open(fn, 'w') as outfile:\n",
    "    json.dump(data, outfile)\n",
    "\n",
    "# Reads data from:\n",
    "#   demo_visualization_per_structure_alignment_spec.json\n",
    "#   demo_visualization_global_alignment_spec.json\n",
    "\n",
    "fn_vis_structures = stack+'_visualization_per_structure_alignment_spec.json'\n",
    "fn_vis_global = stack+'_visualization_global_alignment_spec.json'\n",
    "\n",
    "start_time = time.time()\n",
    "    \n",
    "# If Ntb\n",
    "# ! python visualize_registration.py NtbNormalizedAdaptiveInvertedGamma \\\n",
    "# demo_visualization_per_structure_alignment_spec.json \\\n",
    "# -g demo_visualization_global_alignment_spec.json\n",
    "# If Thionin\n",
    "# ! python visualize_registration_DEV.py grayJpeg $fn_vis_structures -g $fn_vis_global\n",
    "\n",
    "# print('Took ',time.time()-start_time, 'Seconds')"
   ]
  },
  {
   "cell_type": "markdown",
   "metadata": {},
   "source": [
    "## How to Load SimpleGlobal and Local Volumes"
   ]
  },
  {
   "cell_type": "code",
   "execution_count": 32,
   "metadata": {
    "collapsed": true
   },
   "outputs": [],
   "source": [
    "def image_contour_generator( stack, structure, use_local_alignment = True, image_prep = 2, threshold=0.5):\n",
    "\n",
    "    if use_local_alignment:\n",
    "        # Load local transformed volumes\n",
    "        str_alignment_spec = load_json(os.environ['REPO_DIR']+'../demo/'+fn_vis_structures)[structure]\n",
    "        vol = DataManager.load_transformed_volume_v2(alignment_spec = str_alignment_spec, \n",
    "                                                        return_origin_instead_of_bbox = True,\n",
    "                                                       structure = structure)\n",
    "    else:\n",
    "        # Load simple global volumes\n",
    "        str_alignment_spec = load_json(os.environ['REPO_DIR']+'../demo/'+fn_vis_global)\n",
    "        vol = DataManager.load_transformed_volume_v2(alignment_spec = global_alignment_spec, \n",
    "                                                                     return_origin_instead_of_bbox = True,\n",
    "                                                                    structure = structure)\n",
    "\n",
    "\n",
    "    # Load collection of bounding boxes for every structure\n",
    "    registered_atlas_structures_wrt_wholebrainXYcropped_xysecTwoCorners = \\\n",
    "            load_json(os.path.join(ROOT_DIR, 'CSHL_simple_global_registration', \\\n",
    "                                    stack + '_registered_atlas_structures_wrt_wholebrainXYcropped_xysecTwoCorners.json'))\n",
    "    # Load cropping box for structure. Only need the valid min and max sections though\n",
    "    (_, _, secmin), (_, _, secmax) = registered_atlas_structures_wrt_wholebrainXYcropped_xysecTwoCorners[structure]\n",
    "    # Load range of sections for particular structure\n",
    "    valid_secmin = 1\n",
    "    valid_secmax = 999\n",
    "    section_margin = 50 # 1000um margin / 20um per slice\n",
    "    atlas_structures_wrt_wholebrainWithMargin_sections = \\\n",
    "        range(max(secmin - section_margin, valid_secmin), min(secmax + 1 + section_margin, valid_secmax))\n",
    "\n",
    "    # Choose thresholds for probability volumes\n",
    "    levels = [threshold, 0.9]\n",
    "\n",
    "\n",
    "    # LOAD CONTOURS FROM VOLUME (function defined below)\n",
    "    str_contour = get_structure_contours_from_structure_volumes_v3(volumes={structure: vol}, stack=stack, \n",
    "                                                         sections=atlas_structures_wrt_wholebrainWithMargin_sections,\n",
    "                                                        resolution='10.0um', level=levels, sample_every=5)\n",
    "\n",
    "    # Check number sections that the contours are present on \n",
    "    str_keys = str_contour.keys()\n",
    "    valid_sections = []\n",
    "\n",
    "    for key in str_keys:\n",
    "        if isinstance(key,int) and key>1:\n",
    "            valid_sections.append(key)\n",
    "            # Need to check individual \"levels\" are on this section as well. \n",
    "            #    (0.1 threshold spans more slices than 0.9)\n",
    "    valid_sections.sort()\n",
    "    print 'Number of valid sections:'\n",
    "    num_valid_sections = len(valid_sections)\n",
    "    print num_valid_sections\n",
    "    first_sec = valid_sections[0]\n",
    "    last_sec = valid_sections[len(valid_sections)-1]\n",
    "    print 'First valid section:',first_sec\n",
    "    print 'Last valid section:',last_sec\n",
    "    print 'num_valid_sections:',num_valid_sections\n",
    "    print '\\n\\n'\n",
    "\n",
    "    #print str_contour[ valid_sections[0] ][structure][ levels[0] ]\n",
    "\n",
    "\n",
    "\n",
    "    # LOAD prep5->prep2 cropbox\n",
    "    if image_prep==5:\n",
    "        # wholeslice_to_brainstem = -from_padded_to_wholeslice, from_padded_to_brainstem\n",
    "        ini_fp = os.environ['DATA_ROOTDIR']+'CSHL_data_processed/'+stack+'/operation_configs/from_padded_to_brainstem.ini'\n",
    "        with open(ini_fp,'r') as fn:\n",
    "            contents_list = fn.read().split('\\n')\n",
    "        for line in contents_list:\n",
    "            if 'rostral_limit' in line:\n",
    "                rostral_limit = int( line.split(' ')[2] )\n",
    "            if 'dorsal_limit' in line:\n",
    "                dorsal_limit = int( line.split(' ')[2] )\n",
    "        ini_fp = os.environ['DATA_ROOTDIR']+'CSHL_data_processed/'+stack+'/operation_configs/from_padded_to_wholeslice.ini'\n",
    "        with open(ini_fp,'r') as fn:\n",
    "            contents_list = fn.read().split('\\n')\n",
    "        for line in contents_list:\n",
    "            if 'rostral_limit' in line:\n",
    "                rostral_limit = rostral_limit - int( line.split(' ')[2] )\n",
    "            if 'dorsal_limit' in line:\n",
    "                dorsal_limit = dorsal_limit - int( line.split(' ')[2] )\n",
    "#         rostral_limit = rostral_limit\n",
    "#         dorsal_limit = dorsal_limit\n",
    "        # DONE LOADING PREP5 OFFSETS\n",
    "    elif image_prep==2:\n",
    "        rostral_limit = 0\n",
    "        dorsal_limit = 0\n",
    "\n",
    "    # PLOT Contours\n",
    "    contour_str = str_contour[ valid_sections[num_valid_sections/2] ][structure][ levels[0] ]\n",
    "    # Downsample\n",
    "    y_len, x_len = np.shape(contour_str)\n",
    "    x_list = []\n",
    "    y_list = []\n",
    "    for y in range(y_len):\n",
    "        x_list.append(rostral_limit + contour_str[y][0]/32)\n",
    "        y_list.append(dorsal_limit + contour_str[y][1]/32)\n",
    "\n",
    "    # PLOT Structure overlayed on thumbnail image\n",
    "    sorted_fns = DataManager.load_sorted_filenames(stack=stack)[0].keys()\n",
    "    # fp = DataManager.get_image_filepath_v2(stack=stack, prep_id=5, resol='thumbnail', version='gray', fn=sorted_fns[int(len(sorted_fns)/2)])\n",
    "    img_fn = metadata_cache['sections_to_filenames'][stack][last_sec-num_valid_sections/2]\n",
    "    fp = DataManager.get_image_filepath_v2(stack=stack, prep_id=image_prep, resol='thumbnail', version='gray', fn=img_fn)\n",
    "    \n",
    "#     img = imread(fp)\n",
    "#     plt.imshow( img, cmap='gray' )\n",
    "#     plt.scatter(x_list,y_list,s=1, color='r')\n",
    "#     plt.show()\n",
    "    \n",
    "    return str_contour, first_sec, last_sec"
   ]
  },
  {
   "cell_type": "code",
   "execution_count": 103,
   "metadata": {
    "collapsed": true
   },
   "outputs": [],
   "source": [
    "# For current MD585 stack on neuroglancer\n",
    "ng_section_min = 83\n",
    "ng_section_max = 536\n",
    "ng_total_sections = 268 # 536 voxels"
   ]
  },
  {
   "cell_type": "code",
   "execution_count": 227,
   "metadata": {},
   "outputs": [
    {
     "name": "stdout",
     "output_type": "stream",
     "text": [
      "/media/alexn/BstemAtlasDataBackup/ucsd_brain/CSHL_data_processed/MD585/MD585_cropbox.ini\n"
     ]
    },
    {
     "name": "stderr",
     "output_type": "stream",
     "text": [
      "Seems you are using operation INIs to provide cropbox.\n",
      "2 contours of reconstructed volume is found at position 16 ([31, 1]). Use the longest one.\n",
      "2 contours of reconstructed volume is found at position 94 ([13, 1]). Use the longest one.\n",
      "2 contours of reconstructed volume is found at position 88 ([19, 1]). Use the longest one.\n"
     ]
    },
    {
     "name": "stdout",
     "output_type": "stream",
     "text": [
      "Number of valid sections:\n",
      "40\n",
      "First valid section: 181\n",
      "Last valid section: 220\n",
      "num_valid_sections: 40\n",
      "\n",
      "\n",
      "\n"
     ]
    }
   ],
   "source": [
    "stack = 'MD585'\n",
    "threshold=0.5\n",
    "structure = '12N'\n",
    "\n",
    "# color_codes{'blue:'1,'red',2,'yellow':3}\n",
    "\n",
    "str_contour, first_sec, last_sec = image_contour_generator( stack, structure, use_local_alignment=True, image_prep=2, threshold=threshold)\n",
    "\n",
    "color_radius = 5\n",
    "ng_structure_volume = add_structure_to_neuroglancer( str_contour, structure, color_radius )"
   ]
  },
  {
   "cell_type": "code",
   "execution_count": 240,
   "metadata": {},
   "outputs": [
    {
     "name": "stdout",
     "output_type": "stream",
     "text": [
      "/media/alexn/BstemAtlasDataBackup/ucsd_brain/CSHL_data_processed/MD585/MD585_cropbox.ini\n"
     ]
    },
    {
     "name": "stderr",
     "output_type": "stream",
     "text": [
      "Seems you are using operation INIs to provide cropbox.\n",
      "2 contours of reconstructed volume is found at position 14 ([24, 7]). Use the longest one.\n",
      "2 contours of reconstructed volume is found at position 376 ([26, 3]). Use the longest one.\n",
      "2 contours of reconstructed volume is found at position 378 ([1, 1]). Use the longest one.\n",
      "contour has less than three vertices. Ignore.\n"
     ]
    },
    {
     "name": "stdout",
     "output_type": "stream",
     "text": [
      "Number of valid sections:\n",
      "198\n",
      "First valid section: 129\n",
      "Last valid section: 326\n",
      "num_valid_sections: 198\n",
      "\n",
      "\n",
      "\n",
      "(197, 405, 415)\n"
     ]
    }
   ],
   "source": [
    "stack = 'MD585'\n",
    "threshold=0.1\n",
    "structure = 'IC'\n",
    "\n",
    "str_contour, first_sec, last_sec = image_contour_generator( stack, structure, use_local_alignment=True, image_prep=2, threshold=threshold)\n",
    "\n",
    "color_radius = 3\n",
    "ng_structure_volume = add_structure_to_neuroglancer( str_contour, structure, color_radius )"
   ]
  },
  {
   "cell_type": "code",
   "execution_count": 228,
   "metadata": {
    "collapsed": true
   },
   "outputs": [],
   "source": [
    "np.save('IC_nb_volume.npy',ng_structure_volume)"
   ]
  },
  {
   "cell_type": "code",
   "execution_count": 282,
   "metadata": {},
   "outputs": [
    {
     "name": "stdout",
     "output_type": "stream",
     "text": [
      "/media/alexn/BstemAtlasDataBackup/ucsd_brain/CSHL_data_processed/MD585/MD585_cropbox.ini\n"
     ]
    },
    {
     "name": "stderr",
     "output_type": "stream",
     "text": [
      "Seems you are using operation INIs to provide cropbox.\n",
      "2 contours of reconstructed volume is found at position 12 ([13, 2]). Use the longest one.\n"
     ]
    },
    {
     "name": "stdout",
     "output_type": "stream",
     "text": [
      "Number of valid sections:\n",
      "17\n",
      "First valid section: 195\n",
      "Last valid section: 211\n",
      "num_valid_sections: 17\n",
      "\n",
      "\n",
      "\n",
      "(16, 26, 51)\n",
      "/media/alexn/BstemAtlasDataBackup/ucsd_brain/CSHL_data_processed/MD585/MD585_cropbox.ini\n"
     ]
    },
    {
     "name": "stderr",
     "output_type": "stream",
     "text": [
      "Seems you are using operation INIs to provide cropbox.\n",
      "2 contours of reconstructed volume is found at position 16 ([31, 1]). Use the longest one.\n",
      "2 contours of reconstructed volume is found at position 94 ([13, 1]). Use the longest one.\n",
      "2 contours of reconstructed volume is found at position 88 ([19, 1]). Use the longest one.\n"
     ]
    },
    {
     "name": "stdout",
     "output_type": "stream",
     "text": [
      "Number of valid sections:\n",
      "40\n",
      "First valid section: 181\n",
      "Last valid section: 220\n",
      "num_valid_sections: 40\n",
      "\n",
      "\n",
      "\n",
      "(39, 59, 101)\n",
      "/media/alexn/BstemAtlasDataBackup/ucsd_brain/CSHL_data_processed/MD585/MD585_cropbox.ini\n"
     ]
    },
    {
     "name": "stderr",
     "output_type": "stream",
     "text": [
      "Seems you are using operation INIs to provide cropbox.\n"
     ]
    },
    {
     "name": "stdout",
     "output_type": "stream",
     "text": [
      "Number of valid sections:\n",
      "82\n",
      "First valid section: 181\n",
      "Last valid section: 262\n",
      "num_valid_sections: 82\n",
      "\n",
      "\n",
      "\n",
      "(81, 78, 109)\n",
      "/media/alexn/BstemAtlasDataBackup/ucsd_brain/CSHL_data_processed/MD585/MD585_cropbox.ini\n"
     ]
    },
    {
     "name": "stderr",
     "output_type": "stream",
     "text": [
      "Seems you are using operation INIs to provide cropbox.\n",
      "2 contours of reconstructed volume is found at position 19 ([7, 3]). Use the longest one.\n"
     ]
    },
    {
     "name": "stdout",
     "output_type": "stream",
     "text": [
      "Number of valid sections:\n",
      "174\n",
      "First valid section: 131\n",
      "Last valid section: 304\n",
      "num_valid_sections: 174\n",
      "\n",
      "\n",
      "\n",
      "(173, 169, 194)\n",
      "/media/alexn/BstemAtlasDataBackup/ucsd_brain/CSHL_data_processed/MD585/MD585_cropbox.ini\n"
     ]
    },
    {
     "name": "stderr",
     "output_type": "stream",
     "text": [
      "Seems you are using operation INIs to provide cropbox.\n",
      "3 contours of reconstructed volume is found at position 24 ([7, 7, 5]). Use the longest one.\n",
      "2 contours of reconstructed volume is found at position 392 ([19, 4]). Use the longest one.\n",
      "2 contours of reconstructed volume is found at position 376 ([26, 3]). Use the longest one.\n",
      "2 contours of reconstructed volume is found at position 378 ([1, 1]). Use the longest one.\n",
      "contour has less than three vertices. Ignore.\n"
     ]
    },
    {
     "name": "stdout",
     "output_type": "stream",
     "text": [
      "Number of valid sections:\n",
      "185\n",
      "First valid section: 134\n",
      "Last valid section: 318\n",
      "num_valid_sections: 185\n",
      "\n",
      "\n",
      "\n",
      "(184, 172, 165)\n",
      "/media/alexn/BstemAtlasDataBackup/ucsd_brain/CSHL_data_processed/MD585/MD585_cropbox.ini\n"
     ]
    },
    {
     "name": "stderr",
     "output_type": "stream",
     "text": [
      "Seems you are using operation INIs to provide cropbox.\n",
      "2 contours of reconstructed volume is found at position 55 ([24, 1]). Use the longest one.\n"
     ]
    },
    {
     "name": "stdout",
     "output_type": "stream",
     "text": [
      "Number of valid sections:\n",
      "25\n",
      "First valid section: 271\n",
      "Last valid section: 295\n",
      "num_valid_sections: 25\n",
      "\n",
      "\n",
      "\n",
      "(24, 71, 55)\n",
      "/media/alexn/BstemAtlasDataBackup/ucsd_brain/CSHL_data_processed/MD585/MD585_cropbox.ini\n"
     ]
    },
    {
     "name": "stderr",
     "output_type": "stream",
     "text": [
      "Seems you are using operation INIs to provide cropbox.\n"
     ]
    },
    {
     "name": "stdout",
     "output_type": "stream",
     "text": [
      "Number of valid sections:\n",
      "23\n",
      "First valid section: 136\n",
      "Last valid section: 158\n",
      "num_valid_sections: 23\n",
      "\n",
      "\n",
      "\n",
      "(22, 72, 61)\n",
      "/media/alexn/BstemAtlasDataBackup/ucsd_brain/CSHL_data_processed/MD585/MD585_cropbox.ini\n"
     ]
    },
    {
     "name": "stderr",
     "output_type": "stream",
     "text": [
      "Seems you are using operation INIs to provide cropbox.\n"
     ]
    },
    {
     "name": "stdout",
     "output_type": "stream",
     "text": [
      "Number of valid sections:\n",
      "9\n",
      "First valid section: 235\n",
      "Last valid section: 243\n",
      "num_valid_sections: 9\n",
      "\n",
      "\n",
      "\n",
      "(8, 19, 19)\n",
      "/media/alexn/BstemAtlasDataBackup/ucsd_brain/CSHL_data_processed/MD585/MD585_cropbox.ini\n"
     ]
    },
    {
     "name": "stderr",
     "output_type": "stream",
     "text": [
      "Seems you are using operation INIs to provide cropbox.\n"
     ]
    },
    {
     "name": "stdout",
     "output_type": "stream",
     "text": [
      "Number of valid sections:\n",
      "10\n",
      "First valid section: 182\n",
      "Last valid section: 191\n",
      "num_valid_sections: 10\n",
      "\n",
      "\n",
      "\n",
      "(9, 16, 17)\n",
      "/media/alexn/BstemAtlasDataBackup/ucsd_brain/CSHL_data_processed/MD585/MD585_cropbox.ini\n"
     ]
    },
    {
     "name": "stderr",
     "output_type": "stream",
     "text": [
      "Seems you are using operation INIs to provide cropbox.\n",
      "5 contours of reconstructed volume is found at position 18 ([31, 2, 1, 1, 1]). Use the longest one.\n",
      "3 contours of reconstructed volume is found at position 48 ([75, 1, 1]). Use the longest one.\n",
      "7 contours of reconstructed volume is found at position 74 ([1, 1, 1, 1, 1, 1, 1]). Use the longest one.\n",
      "contour has less than three vertices. Ignore.\n",
      "2 contours of reconstructed volume is found at position 22 ([35, 2]). Use the longest one.\n",
      "2 contours of reconstructed volume is found at position 36 ([68, 1]). Use the longest one.\n",
      "2 contours of reconstructed volume is found at position 42 ([71, 1]). Use the longest one.\n",
      "2 contours of reconstructed volume is found at position 70 ([23, 1]). Use the longest one.\n"
     ]
    },
    {
     "name": "stdout",
     "output_type": "stream",
     "text": [
      "Number of valid sections:\n",
      "28\n",
      "First valid section: 249\n",
      "Last valid section: 276\n",
      "num_valid_sections: 28\n",
      "\n",
      "\n",
      "\n",
      "(27, 90, 82)\n",
      "/media/alexn/BstemAtlasDataBackup/ucsd_brain/CSHL_data_processed/MD585/MD585_cropbox.ini\n"
     ]
    },
    {
     "name": "stderr",
     "output_type": "stream",
     "text": [
      "Seems you are using operation INIs to provide cropbox.\n",
      "contour has less than three vertices. Ignore.\n"
     ]
    },
    {
     "name": "stdout",
     "output_type": "stream",
     "text": [
      "Number of valid sections:\n",
      "44\n",
      "First valid section: 138\n",
      "Last valid section: 181\n",
      "num_valid_sections: 44\n",
      "\n",
      "\n",
      "\n",
      "(43, 52, 88)\n",
      "/media/alexn/BstemAtlasDataBackup/ucsd_brain/CSHL_data_processed/MD585/MD585_cropbox.ini\n"
     ]
    },
    {
     "name": "stderr",
     "output_type": "stream",
     "text": [
      "Seems you are using operation INIs to provide cropbox.\n"
     ]
    },
    {
     "name": "stdout",
     "output_type": "stream",
     "text": [
      "Number of valid sections:\n",
      "71\n",
      "First valid section: 234\n",
      "Last valid section: 304\n",
      "num_valid_sections: 71\n",
      "\n",
      "\n",
      "\n",
      "(70, 108, 42)\n",
      "/media/alexn/BstemAtlasDataBackup/ucsd_brain/CSHL_data_processed/MD585/MD585_cropbox.ini\n"
     ]
    },
    {
     "name": "stderr",
     "output_type": "stream",
     "text": [
      "Seems you are using operation INIs to provide cropbox.\n"
     ]
    },
    {
     "name": "stdout",
     "output_type": "stream",
     "text": [
      "Number of valid sections:\n",
      "67\n",
      "First valid section: 115\n",
      "Last valid section: 181\n",
      "num_valid_sections: 67\n",
      "\n",
      "\n",
      "\n",
      "(66, 63, 116)\n",
      "/media/alexn/BstemAtlasDataBackup/ucsd_brain/CSHL_data_processed/MD585/MD585_cropbox.ini\n"
     ]
    },
    {
     "name": "stderr",
     "output_type": "stream",
     "text": [
      "Seems you are using operation INIs to provide cropbox.\n"
     ]
    },
    {
     "name": "stdout",
     "output_type": "stream",
     "text": [
      "Number of valid sections:\n",
      "8\n",
      "First valid section: 262\n",
      "Last valid section: 269\n",
      "num_valid_sections: 8\n",
      "\n",
      "\n",
      "\n",
      "(7, 16, 35)\n",
      "/media/alexn/BstemAtlasDataBackup/ucsd_brain/CSHL_data_processed/MD585/MD585_cropbox.ini\n"
     ]
    },
    {
     "name": "stderr",
     "output_type": "stream",
     "text": [
      "Seems you are using operation INIs to provide cropbox.\n"
     ]
    },
    {
     "name": "stdout",
     "output_type": "stream",
     "text": [
      "Number of valid sections:\n",
      "7\n",
      "First valid section: 137\n",
      "Last valid section: 143\n",
      "num_valid_sections: 7\n",
      "\n",
      "\n",
      "\n",
      "(6, 21, 35)\n",
      "/media/alexn/BstemAtlasDataBackup/ucsd_brain/CSHL_data_processed/MD585/MD585_cropbox.ini\n"
     ]
    },
    {
     "name": "stderr",
     "output_type": "stream",
     "text": [
      "Seems you are using operation INIs to provide cropbox.\n",
      "2 contours of reconstructed volume is found at position 35 ([34, 1]). Use the longest one.\n"
     ]
    },
    {
     "name": "stdout",
     "output_type": "stream",
     "text": [
      "Number of valid sections:\n",
      "18\n",
      "First valid section: 247\n",
      "Last valid section: 264\n",
      "num_valid_sections: 18\n",
      "\n",
      "\n",
      "\n",
      "(17, 57, 56)\n",
      "/media/alexn/BstemAtlasDataBackup/ucsd_brain/CSHL_data_processed/MD585/MD585_cropbox.ini\n"
     ]
    },
    {
     "name": "stderr",
     "output_type": "stream",
     "text": [
      "Seems you are using operation INIs to provide cropbox.\n",
      "4 contours of reconstructed volume is found at position 10 ([4, 3, 2, 1]). Use the longest one.\n",
      "2 contours of reconstructed volume is found at position 14 ([21, 2]). Use the longest one.\n"
     ]
    },
    {
     "name": "stdout",
     "output_type": "stream",
     "text": [
      "Number of valid sections:\n",
      "15\n",
      "First valid section: 166\n",
      "Last valid section: 180\n",
      "num_valid_sections: 15\n",
      "\n",
      "\n",
      "\n",
      "(14, 57, 59)\n",
      "/media/alexn/BstemAtlasDataBackup/ucsd_brain/CSHL_data_processed/MD585/MD585_cropbox.ini\n"
     ]
    },
    {
     "name": "stderr",
     "output_type": "stream",
     "text": [
      "Seems you are using operation INIs to provide cropbox.\n",
      "2 contours of reconstructed volume is found at position 83 ([4, 2]). Use the longest one.\n",
      "contour has less than three vertices. Ignore.\n",
      "2 contours of reconstructed volume is found at position 73 ([27, 1]). Use the longest one.\n",
      "2 contours of reconstructed volume is found at position 75 ([11, 3]). Use the longest one.\n"
     ]
    },
    {
     "name": "stdout",
     "output_type": "stream",
     "text": [
      "Number of valid sections:\n",
      "35\n",
      "First valid section: 250\n",
      "Last valid section: 284\n",
      "num_valid_sections: 35\n",
      "\n",
      "\n",
      "\n",
      "(34, 49, 127)\n",
      "/media/alexn/BstemAtlasDataBackup/ucsd_brain/CSHL_data_processed/MD585/MD585_cropbox.ini\n"
     ]
    },
    {
     "name": "stderr",
     "output_type": "stream",
     "text": [
      "Seems you are using operation INIs to provide cropbox.\n",
      "2 contours of reconstructed volume is found at position 81 ([36, 1]). Use the longest one.\n",
      "2 contours of reconstructed volume is found at position 77 ([12, 4]). Use the longest one.\n"
     ]
    },
    {
     "name": "stdout",
     "output_type": "stream",
     "text": [
      "Number of valid sections:\n",
      "35\n",
      "First valid section: 122\n",
      "Last valid section: 156\n",
      "num_valid_sections: 35\n",
      "\n",
      "\n",
      "\n",
      "(34, 79, 99)\n",
      "/media/alexn/BstemAtlasDataBackup/ucsd_brain/CSHL_data_processed/MD585/MD585_cropbox.ini\n"
     ]
    },
    {
     "name": "stderr",
     "output_type": "stream",
     "text": [
      "Seems you are using operation INIs to provide cropbox.\n",
      "2 contours of reconstructed volume is found at position 116 ([16, 3]). Use the longest one.\n",
      "2 contours of reconstructed volume is found at position 24 ([42, 1]). Use the longest one.\n",
      "2 contours of reconstructed volume is found at position 108 ([9, 5]). Use the longest one.\n"
     ]
    },
    {
     "name": "stdout",
     "output_type": "stream",
     "text": [
      "Number of valid sections:\n",
      "52\n",
      "First valid section: 226\n",
      "Last valid section: 277\n",
      "num_valid_sections: 52\n",
      "\n",
      "\n",
      "\n",
      "(51, 80, 95)\n",
      "/media/alexn/BstemAtlasDataBackup/ucsd_brain/CSHL_data_processed/MD585/MD585_cropbox.ini\n"
     ]
    },
    {
     "name": "stderr",
     "output_type": "stream",
     "text": [
      "Seems you are using operation INIs to provide cropbox.\n"
     ]
    },
    {
     "name": "stdout",
     "output_type": "stream",
     "text": [
      "Number of valid sections:\n",
      "54\n",
      "First valid section: 166\n",
      "Last valid section: 219\n",
      "num_valid_sections: 54\n",
      "\n",
      "\n",
      "\n",
      "(53, 88, 97)\n",
      "/media/alexn/BstemAtlasDataBackup/ucsd_brain/CSHL_data_processed/MD585/MD585_cropbox.ini\n"
     ]
    },
    {
     "name": "stderr",
     "output_type": "stream",
     "text": [
      "Seems you are using operation INIs to provide cropbox.\n",
      "2 contours of reconstructed volume is found at position 20 ([5, 1]). Use the longest one.\n",
      "2 contours of reconstructed volume is found at position 22 ([17, 1]). Use the longest one.\n",
      "contour has less than three vertices. Ignore.\n"
     ]
    },
    {
     "name": "stdout",
     "output_type": "stream",
     "text": [
      "Number of valid sections:\n",
      "37\n",
      "First valid section: 208\n",
      "Last valid section: 244\n",
      "num_valid_sections: 37\n",
      "\n",
      "\n",
      "\n",
      "(36, 28, 73)\n",
      "/media/alexn/BstemAtlasDataBackup/ucsd_brain/CSHL_data_processed/MD585/MD585_cropbox.ini\n"
     ]
    },
    {
     "name": "stderr",
     "output_type": "stream",
     "text": [
      "Seems you are using operation INIs to provide cropbox.\n",
      "12 contours of reconstructed volume is found at position 13 ([14, 5, 4, 4, 3, 3, 3, 3, 1, 1, 1, 1]). Use the longest one.\n"
     ]
    },
    {
     "name": "stdout",
     "output_type": "stream",
     "text": [
      "Number of valid sections:\n",
      "23\n",
      "First valid section: 184\n",
      "Last valid section: 206\n",
      "num_valid_sections: 23\n",
      "\n",
      "\n",
      "\n",
      "(22, 25, 87)\n",
      "/media/alexn/BstemAtlasDataBackup/ucsd_brain/CSHL_data_processed/MD585/MD585_cropbox.ini\n"
     ]
    },
    {
     "name": "stderr",
     "output_type": "stream",
     "text": [
      "Seems you are using operation INIs to provide cropbox.\n",
      "2 contours of reconstructed volume is found at position 33 ([53, 1]). Use the longest one.\n",
      "3 contours of reconstructed volume is found at position 73 ([48, 2, 1]). Use the longest one.\n",
      "2 contours of reconstructed volume is found at position 53 ([33, 1]). Use the longest one.\n",
      "2 contours of reconstructed volume is found at position 75 ([6, 6]). Use the longest one.\n"
     ]
    },
    {
     "name": "stdout",
     "output_type": "stream",
     "text": [
      "Number of valid sections:\n",
      "26\n",
      "First valid section: 287\n",
      "Last valid section: 312\n",
      "num_valid_sections: 26\n",
      "\n",
      "\n",
      "\n",
      "(25, 190, 63)\n",
      "/media/alexn/BstemAtlasDataBackup/ucsd_brain/CSHL_data_processed/MD585/MD585_cropbox.ini\n"
     ]
    },
    {
     "name": "stderr",
     "output_type": "stream",
     "text": [
      "Seems you are using operation INIs to provide cropbox.\n"
     ]
    },
    {
     "name": "stdout",
     "output_type": "stream",
     "text": [
      "Number of valid sections:\n",
      "41\n",
      "First valid section: 123\n",
      "Last valid section: 163\n",
      "num_valid_sections: 41\n",
      "\n",
      "\n",
      "\n",
      "(40, 177, 66)\n",
      "/media/alexn/BstemAtlasDataBackup/ucsd_brain/CSHL_data_processed/MD585/MD585_cropbox.ini\n"
     ]
    },
    {
     "name": "stderr",
     "output_type": "stream",
     "text": [
      "Seems you are using operation INIs to provide cropbox.\n",
      "contour has less than three vertices. Ignore.\n"
     ]
    },
    {
     "name": "stdout",
     "output_type": "stream",
     "text": [
      "Number of valid sections:\n",
      "29\n",
      "First valid section: 234\n",
      "Last valid section: 262\n",
      "num_valid_sections: 29\n",
      "\n",
      "\n",
      "\n",
      "(28, 48, 52)\n",
      "/media/alexn/BstemAtlasDataBackup/ucsd_brain/CSHL_data_processed/MD585/MD585_cropbox.ini\n"
     ]
    },
    {
     "name": "stderr",
     "output_type": "stream",
     "text": [
      "Seems you are using operation INIs to provide cropbox.\n",
      "contour has less than three vertices. Ignore.\n"
     ]
    },
    {
     "name": "stdout",
     "output_type": "stream",
     "text": [
      "Number of valid sections:\n",
      "28\n",
      "First valid section: 181\n",
      "Last valid section: 208\n",
      "num_valid_sections: 28\n",
      "\n",
      "\n",
      "\n",
      "(27, 47, 59)\n",
      "/media/alexn/BstemAtlasDataBackup/ucsd_brain/CSHL_data_processed/MD585/MD585_cropbox.ini\n"
     ]
    },
    {
     "name": "stderr",
     "output_type": "stream",
     "text": [
      "Seems you are using operation INIs to provide cropbox.\n",
      "2 contours of reconstructed volume is found at position 22 ([3, 2]). Use the longest one.\n",
      "2 contours of reconstructed volume is found at position 72 ([47, 1]). Use the longest one.\n",
      "2 contours of reconstructed volume is found at position 82 ([22, 1]). Use the longest one.\n",
      "2 contours of reconstructed volume is found at position 84 ([11, 1]). Use the longest one.\n",
      "2 contours of reconstructed volume is found at position 34 ([5, 1]). Use the longest one.\n",
      "2 contours of reconstructed volume is found at position 52 ([17, 1]). Use the longest one.\n",
      "2 contours of reconstructed volume is found at position 58 ([2, 1]). Use the longest one.\n",
      "contour has less than three vertices. Ignore.\n",
      "2 contours of reconstructed volume is found at position 60 ([4, 3]). Use the longest one.\n",
      "3 contours of reconstructed volume is found at position 64 ([5, 2, 1]). Use the longest one.\n",
      "4 contours of reconstructed volume is found at position 66 ([7, 3, 2, 1]). Use the longest one.\n",
      "7 contours of reconstructed volume is found at position 68 ([7, 3, 3, 2, 1, 1, 1]). Use the longest one.\n",
      "2 contours of reconstructed volume is found at position 72 ([2, 1]). Use the longest one.\n",
      "contour has less than three vertices. Ignore.\n"
     ]
    },
    {
     "name": "stdout",
     "output_type": "stream",
     "text": [
      "Number of valid sections:\n",
      "32\n",
      "First valid section: 281\n",
      "Last valid section: 312\n",
      "num_valid_sections: 32\n",
      "\n",
      "\n",
      "\n",
      "(31, 113, 31)\n",
      "/media/alexn/BstemAtlasDataBackup/ucsd_brain/CSHL_data_processed/MD585/MD585_cropbox.ini\n"
     ]
    },
    {
     "name": "stderr",
     "output_type": "stream",
     "text": [
      "Seems you are using operation INIs to provide cropbox.\n",
      "3 contours of reconstructed volume is found at position 33 ([2, 1, 1]). Use the longest one.\n",
      "contour has less than three vertices. Ignore.\n",
      "2 contours of reconstructed volume is found at position 35 ([4, 1]). Use the longest one.\n",
      "2 contours of reconstructed volume is found at position 37 ([3, 2]). Use the longest one.\n"
     ]
    },
    {
     "name": "stdout",
     "output_type": "stream",
     "text": [
      "Number of valid sections:\n",
      "43\n",
      "First valid section: 155\n",
      "Last valid section: 197\n",
      "num_valid_sections: 43\n",
      "\n",
      "\n",
      "\n",
      "(42, 78, 61)\n",
      "/media/alexn/BstemAtlasDataBackup/ucsd_brain/CSHL_data_processed/MD585/MD585_cropbox.ini\n"
     ]
    },
    {
     "name": "stderr",
     "output_type": "stream",
     "text": [
      "Seems you are using operation INIs to provide cropbox.\n",
      "2 contours of reconstructed volume is found at position 128 ([43, 1]). Use the longest one.\n",
      "2 contours of reconstructed volume is found at position 18 ([12, 3]). Use the longest one.\n"
     ]
    },
    {
     "name": "stdout",
     "output_type": "stream",
     "text": [
      "Number of valid sections:\n",
      "61\n",
      "First valid section: 270\n",
      "Last valid section: 330\n",
      "num_valid_sections: 61\n",
      "\n",
      "\n",
      "\n",
      "(60, 112, 141)\n",
      "/media/alexn/BstemAtlasDataBackup/ucsd_brain/CSHL_data_processed/MD585/MD585_cropbox.ini\n"
     ]
    },
    {
     "name": "stderr",
     "output_type": "stream",
     "text": [
      "Seems you are using operation INIs to provide cropbox.\n",
      "2 contours of reconstructed volume is found at position 16 ([34, 3]). Use the longest one.\n",
      "5 contours of reconstructed volume is found at position 128 ([20, 6, 3, 1, 1]). Use the longest one.\n",
      "4 contours of reconstructed volume is found at position 124 ([5, 4, 3, 1]). Use the longest one.\n"
     ]
    },
    {
     "name": "stdout",
     "output_type": "stream",
     "text": [
      "Number of valid sections:\n",
      "58\n",
      "First valid section: 126\n",
      "Last valid section: 183\n",
      "num_valid_sections: 58\n",
      "\n",
      "\n",
      "\n",
      "(57, 148, 107)\n",
      "/media/alexn/BstemAtlasDataBackup/ucsd_brain/CSHL_data_processed/MD585/MD585_cropbox.ini\n"
     ]
    },
    {
     "name": "stderr",
     "output_type": "stream",
     "text": [
      "Seems you are using operation INIs to provide cropbox.\n"
     ]
    },
    {
     "name": "stdout",
     "output_type": "stream",
     "text": [
      "Number of valid sections:\n",
      "11\n",
      "First valid section: 225\n",
      "Last valid section: 235\n",
      "num_valid_sections: 11\n",
      "\n",
      "\n",
      "\n",
      "(10, 34, 45)\n",
      "/media/alexn/BstemAtlasDataBackup/ucsd_brain/CSHL_data_processed/MD585/MD585_cropbox.ini\n"
     ]
    },
    {
     "name": "stderr",
     "output_type": "stream",
     "text": [
      "Seems you are using operation INIs to provide cropbox.\n",
      "2 contours of reconstructed volume is found at position 17 ([6, 2]). Use the longest one.\n"
     ]
    },
    {
     "name": "stdout",
     "output_type": "stream",
     "text": [
      "Number of valid sections:\n",
      "13\n",
      "First valid section: 208\n",
      "Last valid section: 220\n",
      "num_valid_sections: 13\n",
      "\n",
      "\n",
      "\n",
      "(12, 31, 44)\n",
      "/media/alexn/BstemAtlasDataBackup/ucsd_brain/CSHL_data_processed/MD585/MD585_cropbox.ini\n"
     ]
    },
    {
     "name": "stderr",
     "output_type": "stream",
     "text": [
      "Seems you are using operation INIs to provide cropbox.\n",
      "contour has less than three vertices. Ignore.\n"
     ]
    },
    {
     "name": "stdout",
     "output_type": "stream",
     "text": [
      "Number of valid sections:\n",
      "7\n",
      "First valid section: 229\n",
      "Last valid section: 235\n",
      "num_valid_sections: 7\n",
      "\n",
      "\n",
      "\n",
      "(6, 13, 12)\n",
      "/media/alexn/BstemAtlasDataBackup/ucsd_brain/CSHL_data_processed/MD585/MD585_cropbox.ini\n"
     ]
    },
    {
     "name": "stderr",
     "output_type": "stream",
     "text": [
      "Seems you are using operation INIs to provide cropbox.\n",
      "contour has less than three vertices. Ignore.\n"
     ]
    },
    {
     "name": "stdout",
     "output_type": "stream",
     "text": [
      "Number of valid sections:\n",
      "7\n",
      "First valid section: 203\n",
      "Last valid section: 209\n",
      "num_valid_sections: 7\n",
      "\n",
      "\n",
      "\n",
      "(6, 14, 13)\n",
      "/media/alexn/BstemAtlasDataBackup/ucsd_brain/CSHL_data_processed/MD585/MD585_cropbox.ini\n"
     ]
    },
    {
     "name": "stderr",
     "output_type": "stream",
     "text": [
      "Seems you are using operation INIs to provide cropbox.\n",
      "2 contours of reconstructed volume is found at position 20 ([9, 1]). Use the longest one.\n",
      "2 contours of reconstructed volume is found at position 38 ([85, 1]). Use the longest one.\n",
      "2 contours of reconstructed volume is found at position 24 ([6, 1]). Use the longest one.\n",
      "2 contours of reconstructed volume is found at position 48 ([81, 1]). Use the longest one.\n"
     ]
    },
    {
     "name": "stdout",
     "output_type": "stream",
     "text": [
      "Number of valid sections:\n",
      "38\n",
      "First valid section: 280\n",
      "Last valid section: 317\n",
      "num_valid_sections: 38\n",
      "\n",
      "\n",
      "\n",
      "(37, 113, 98)\n",
      "/media/alexn/BstemAtlasDataBackup/ucsd_brain/CSHL_data_processed/MD585/MD585_cropbox.ini\n"
     ]
    },
    {
     "name": "stderr",
     "output_type": "stream",
     "text": [
      "Seems you are using operation INIs to provide cropbox.\n",
      "2 contours of reconstructed volume is found at position 25 ([1, 1]). Use the longest one.\n",
      "contour has less than three vertices. Ignore.\n",
      "3 contours of reconstructed volume is found at position 31 ([9, 1, 1]). Use the longest one.\n",
      "2 contours of reconstructed volume is found at position 35 ([33, 1]). Use the longest one.\n",
      "2 contours of reconstructed volume is found at position 47 ([52, 8]). Use the longest one.\n",
      "2 contours of reconstructed volume is found at position 103 ([41, 1]). Use the longest one.\n",
      "2 contours of reconstructed volume is found at position 107 ([18, 9]). Use the longest one.\n"
     ]
    },
    {
     "name": "stdout",
     "output_type": "stream",
     "text": [
      "Number of valid sections:\n",
      "52\n",
      "First valid section: 68\n",
      "Last valid section: 119\n",
      "num_valid_sections: 52\n",
      "\n",
      "\n",
      "\n",
      "(51, 110, 82)\n",
      "/media/alexn/BstemAtlasDataBackup/ucsd_brain/CSHL_data_processed/MD585/MD585_cropbox.ini\n"
     ]
    },
    {
     "name": "stderr",
     "output_type": "stream",
     "text": [
      "Seems you are using operation INIs to provide cropbox.\n",
      "2 contours of reconstructed volume is found at position 65 ([87, 1]). Use the longest one.\n",
      "2 contours of reconstructed volume is found at position 63 ([35, 33]). Use the longest one.\n"
     ]
    },
    {
     "name": "stdout",
     "output_type": "stream",
     "text": [
      "Number of valid sections:\n",
      "53\n",
      "First valid section: 279\n",
      "Last valid section: 331\n",
      "num_valid_sections: 53\n",
      "\n",
      "\n",
      "\n",
      "(52, 124, 147)\n",
      "/media/alexn/BstemAtlasDataBackup/ucsd_brain/CSHL_data_processed/MD585/MD585_cropbox.ini\n"
     ]
    },
    {
     "name": "stderr",
     "output_type": "stream",
     "text": [
      "Seems you are using operation INIs to provide cropbox.\n",
      "9 contours of reconstructed volume is found at position 27 ([21, 3, 2, 1, 1, 1, 1, 1, 1]). Use the longest one.\n",
      "3 contours of reconstructed volume is found at position 29 ([44, 1, 1]). Use the longest one.\n",
      "3 contours of reconstructed volume is found at position 33 ([60, 1, 1]). Use the longest one.\n",
      "2 contours of reconstructed volume is found at position 35 ([73, 1]). Use the longest one.\n",
      "7 contours of reconstructed volume is found at position 37 ([84, 22, 5, 1, 1, 1, 1]). Use the longest one.\n",
      "2 contours of reconstructed volume is found at position 39 ([128, 1]). Use the longest one.\n",
      "5 contours of reconstructed volume is found at position 89 ([19, 15, 3, 1, 1]). Use the longest one.\n",
      "2 contours of reconstructed volume is found at position 33 ([23, 1]). Use the longest one.\n",
      "3 contours of reconstructed volume is found at position 37 ([41, 1, 1]). Use the longest one.\n",
      "2 contours of reconstructed volume is found at position 39 ([55, 1]). Use the longest one.\n",
      "6 contours of reconstructed volume is found at position 41 ([62, 3, 2, 1, 1, 1]). Use the longest one.\n",
      "5 contours of reconstructed volume is found at position 43 ([73, 31, 1, 1, 1]). Use the longest one.\n",
      "2 contours of reconstructed volume is found at position 45 ([116, 2]). Use the longest one.\n",
      "3 contours of reconstructed volume is found at position 47 ([111, 3, 1]). Use the longest one.\n",
      "2 contours of reconstructed volume is found at position 83 ([29, 21]). Use the longest one.\n",
      "3 contours of reconstructed volume is found at position 85 ([15, 3, 1]). Use the longest one.\n"
     ]
    },
    {
     "name": "stdout",
     "output_type": "stream",
     "text": [
      "Number of valid sections:\n",
      "32\n",
      "First valid section: 118\n",
      "Last valid section: 149\n",
      "num_valid_sections: 32\n",
      "\n",
      "\n",
      "\n",
      "(31, 120, 160)\n",
      "/media/alexn/BstemAtlasDataBackup/ucsd_brain/CSHL_data_processed/MD585/MD585_cropbox.ini\n"
     ]
    },
    {
     "name": "stderr",
     "output_type": "stream",
     "text": [
      "Seems you are using operation INIs to provide cropbox.\n",
      "2 contours of reconstructed volume is found at position 66 ([1, 1]). Use the longest one.\n",
      "contour has less than three vertices. Ignore.\n",
      "2 contours of reconstructed volume is found at position 68 ([7, 5]). Use the longest one.\n",
      "2 contours of reconstructed volume is found at position 70 ([9, 7]). Use the longest one.\n",
      "2 contours of reconstructed volume is found at position 76 ([27, 5]). Use the longest one.\n",
      "contour has less than three vertices. Ignore.\n",
      "2 contours of reconstructed volume is found at position 106 ([11, 1]). Use the longest one.\n",
      "2 contours of reconstructed volume is found at position 108 ([11, 6]). Use the longest one.\n",
      "2 contours of reconstructed volume is found at position 110 ([13, 8]). Use the longest one.\n",
      "2 contours of reconstructed volume is found at position 112 ([14, 10]). Use the longest one.\n",
      "4 contours of reconstructed volume is found at position 114 ([15, 11, 1, 1]). Use the longest one.\n",
      "2 contours of reconstructed volume is found at position 116 ([32, 11]). Use the longest one.\n",
      "2 contours of reconstructed volume is found at position 118 ([31, 15]). Use the longest one.\n",
      "2 contours of reconstructed volume is found at position 120 ([32, 17]). Use the longest one.\n",
      "2 contours of reconstructed volume is found at position 122 ([33, 21]). Use the longest one.\n",
      "2 contours of reconstructed volume is found at position 176 ([66, 13]). Use the longest one.\n",
      "2 contours of reconstructed volume is found at position 178 ([66, 7]). Use the longest one.\n",
      "2 contours of reconstructed volume is found at position 212 ([37, 1]). Use the longest one.\n",
      "contour has less than three vertices. Ignore.\n"
     ]
    },
    {
     "name": "stdout",
     "output_type": "stream",
     "text": [
      "Number of valid sections:\n",
      "86\n",
      "First valid section: 206\n",
      "Last valid section: 291\n",
      "num_valid_sections: 86\n",
      "\n",
      "\n",
      "\n",
      "(85, 106, 111)\n",
      "/media/alexn/BstemAtlasDataBackup/ucsd_brain/CSHL_data_processed/MD585/MD585_cropbox.ini\n"
     ]
    },
    {
     "name": "stderr",
     "output_type": "stream",
     "text": [
      "Seems you are using operation INIs to provide cropbox.\n",
      "2 contours of reconstructed volume is found at position 17 ([8, 6]). Use the longest one.\n",
      "2 contours of reconstructed volume is found at position 153 ([24, 1]). Use the longest one.\n",
      "2 contours of reconstructed volume is found at position 35 ([29, 3]). Use the longest one.\n",
      "3 contours of reconstructed volume is found at position 41 ([43, 1, 1]). Use the longest one.\n",
      "2 contours of reconstructed volume is found at position 93 ([62, 1]). Use the longest one.\n"
     ]
    },
    {
     "name": "stdout",
     "output_type": "stream",
     "text": [
      "Number of valid sections:\n",
      "72\n",
      "First valid section: 106\n",
      "Last valid section: 177\n",
      "num_valid_sections: 72\n",
      "\n",
      "\n",
      "\n",
      "(71, 148, 107)\n",
      "/media/alexn/BstemAtlasDataBackup/ucsd_brain/CSHL_data_processed/MD585/MD585_cropbox.ini\n"
     ]
    },
    {
     "name": "stderr",
     "output_type": "stream",
     "text": [
      "Seems you are using operation INIs to provide cropbox.\n",
      "2 contours of reconstructed volume is found at position 16 ([39, 3]). Use the longest one.\n",
      "2 contours of reconstructed volume is found at position 26 ([20, 2]). Use the longest one.\n",
      "2 contours of reconstructed volume is found at position 18 ([17, 2]). Use the longest one.\n"
     ]
    },
    {
     "name": "stdout",
     "output_type": "stream",
     "text": [
      "Number of valid sections:\n",
      "8\n",
      "First valid section: 309\n",
      "Last valid section: 316\n",
      "num_valid_sections: 8\n",
      "\n",
      "\n",
      "\n",
      "(7, 59, 29)\n",
      "/media/alexn/BstemAtlasDataBackup/ucsd_brain/CSHL_data_processed/MD585/MD585_cropbox.ini\n"
     ]
    },
    {
     "name": "stderr",
     "output_type": "stream",
     "text": [
      "Seems you are using operation INIs to provide cropbox.\n",
      "2 contours of reconstructed volume is found at position 13 ([8, 2]). Use the longest one.\n"
     ]
    },
    {
     "name": "stdout",
     "output_type": "stream",
     "text": [
      "Number of valid sections:\n",
      "13\n",
      "First valid section: 125\n",
      "Last valid section: 137\n",
      "num_valid_sections: 13\n",
      "\n",
      "\n",
      "\n",
      "(12, 50, 36)\n",
      "/media/alexn/BstemAtlasDataBackup/ucsd_brain/CSHL_data_processed/MD585/MD585_cropbox.ini\n"
     ]
    },
    {
     "name": "stderr",
     "output_type": "stream",
     "text": [
      "Seems you are using operation INIs to provide cropbox.\n",
      "contour has less than three vertices. Ignore.\n",
      "2 contours of reconstructed volume is found at position 107 ([3, 1]). Use the longest one.\n",
      "contour has less than three vertices. Ignore.\n",
      "2 contours of reconstructed volume is found at position 77 ([7, 1]). Use the longest one.\n",
      "2 contours of reconstructed volume is found at position 81 ([9, 1]). Use the longest one.\n",
      "2 contours of reconstructed volume is found at position 95 ([13, 1]). Use the longest one.\n",
      "2 contours of reconstructed volume is found at position 99 ([5, 3]). Use the longest one.\n",
      "contour has less than three vertices. Ignore.\n"
     ]
    },
    {
     "name": "stdout",
     "output_type": "stream",
     "text": [
      "Number of valid sections:\n",
      "39\n",
      "First valid section: 179\n",
      "Last valid section: 217\n",
      "num_valid_sections: 39\n",
      "\n",
      "\n",
      "\n",
      "(38, 46, 53)\n",
      "/media/alexn/BstemAtlasDataBackup/ucsd_brain/CSHL_data_processed/MD585/MD585_cropbox.ini\n"
     ]
    },
    {
     "name": "stderr",
     "output_type": "stream",
     "text": [
      "Seems you are using operation INIs to provide cropbox.\n",
      "2 contours of reconstructed volume is found at position 39 ([50, 3]). Use the longest one.\n",
      "2 contours of reconstructed volume is found at position 43 ([30, 2]). Use the longest one.\n",
      "3 contours of reconstructed volume is found at position 23 ([3, 3, 1]). Use the longest one.\n",
      "4 contours of reconstructed volume is found at position 25 ([4, 3, 2, 2]). Use the longest one.\n",
      "2 contours of reconstructed volume is found at position 27 ([9, 3]). Use the longest one.\n",
      "3 contours of reconstructed volume is found at position 31 ([16, 3, 1]). Use the longest one.\n",
      "3 contours of reconstructed volume is found at position 33 ([23, 3, 1]). Use the longest one.\n",
      "2 contours of reconstructed volume is found at position 35 ([28, 7]). Use the longest one.\n"
     ]
    },
    {
     "name": "stdout",
     "output_type": "stream",
     "text": [
      "Number of valid sections:\n",
      "16\n",
      "First valid section: 174\n",
      "Last valid section: 189\n",
      "num_valid_sections: 16\n",
      "\n",
      "\n",
      "\n",
      "(15, 39, 95)\n",
      "/media/alexn/BstemAtlasDataBackup/ucsd_brain/CSHL_data_processed/MD585/MD585_cropbox.ini\n"
     ]
    },
    {
     "name": "stderr",
     "output_type": "stream",
     "text": [
      "Seems you are using operation INIs to provide cropbox.\n",
      "3 contours of reconstructed volume is found at position 83 ([18, 3, 1]). Use the longest one.\n",
      "3 contours of reconstructed volume is found at position 77 ([36, 1, 1]). Use the longest one.\n"
     ]
    },
    {
     "name": "stdout",
     "output_type": "stream",
     "text": [
      "Number of valid sections:\n",
      "38\n",
      "First valid section: 313\n",
      "Last valid section: 350\n",
      "num_valid_sections: 38\n",
      "\n",
      "\n",
      "\n",
      "(37, 78, 102)\n",
      "/media/alexn/BstemAtlasDataBackup/ucsd_brain/CSHL_data_processed/MD585/MD585_cropbox.ini\n"
     ]
    },
    {
     "name": "stderr",
     "output_type": "stream",
     "text": [
      "Seems you are using operation INIs to provide cropbox.\n",
      "2 contours of reconstructed volume is found at position 21 ([15, 3]). Use the longest one.\n",
      "2 contours of reconstructed volume is found at position 23 ([37, 1]). Use the longest one.\n",
      "2 contours of reconstructed volume is found at position 29 ([49, 1]). Use the longest one.\n",
      "contour has less than three vertices. Ignore.\n",
      "2 contours of reconstructed volume is found at position 91 ([33, 1]). Use the longest one.\n",
      "2 contours of reconstructed volume is found at position 95 ([17, 1]). Use the longest one.\n",
      "2 contours of reconstructed volume is found at position 97 ([5, 2]). Use the longest one.\n"
     ]
    },
    {
     "name": "stdout",
     "output_type": "stream",
     "text": [
      "Number of valid sections:\n",
      "42\n",
      "First valid section: 63\n",
      "Last valid section: 104\n",
      "num_valid_sections: 42\n",
      "\n",
      "\n",
      "\n",
      "(41, 70, 101)\n",
      "/media/alexn/BstemAtlasDataBackup/ucsd_brain/CSHL_data_processed/MD585/MD585_cropbox.ini\n"
     ]
    },
    {
     "name": "stderr",
     "output_type": "stream",
     "text": [
      "Seems you are using operation INIs to provide cropbox.\n",
      "2 contours of reconstructed volume is found at position 76 ([3, 2]). Use the longest one.\n"
     ]
    },
    {
     "name": "stdout",
     "output_type": "stream",
     "text": [
      "Number of valid sections:\n",
      "32\n",
      "First valid section: 311\n",
      "Last valid section: 342\n",
      "num_valid_sections: 32\n",
      "\n",
      "\n",
      "\n",
      "(31, 88, 59)\n",
      "/media/alexn/BstemAtlasDataBackup/ucsd_brain/CSHL_data_processed/MD585/MD585_cropbox.ini\n"
     ]
    },
    {
     "name": "stderr",
     "output_type": "stream",
     "text": [
      "Seems you are using operation INIs to provide cropbox.\n",
      "2 contours of reconstructed volume is found at position 55 ([28, 1]). Use the longest one.\n",
      "2 contours of reconstructed volume is found at position 19 ([22, 3]). Use the longest one.\n",
      "3 contours of reconstructed volume is found at position 53 ([5, 3, 3]). Use the longest one.\n"
     ]
    },
    {
     "name": "stdout",
     "output_type": "stream",
     "text": [
      "Number of valid sections:\n",
      "24\n",
      "First valid section: 78\n",
      "Last valid section: 101\n",
      "num_valid_sections: 24\n",
      "\n",
      "\n",
      "\n",
      "(23, 72, 87)\n",
      "/media/alexn/BstemAtlasDataBackup/ucsd_brain/CSHL_data_processed/MD585/MD585_cropbox.ini\n"
     ]
    },
    {
     "name": "stderr",
     "output_type": "stream",
     "text": [
      "Seems you are using operation INIs to provide cropbox.\n",
      "contour has less than three vertices. Ignore.\n",
      "2 contours of reconstructed volume is found at position 133 ([8, 5]). Use the longest one.\n"
     ]
    },
    {
     "name": "stdout",
     "output_type": "stream",
     "text": [
      "Number of valid sections:\n",
      "49\n",
      "First valid section: 289\n",
      "Last valid section: 337\n",
      "num_valid_sections: 49\n",
      "\n",
      "\n",
      "\n",
      "(48, 67, 97)\n",
      "/media/alexn/BstemAtlasDataBackup/ucsd_brain/CSHL_data_processed/MD585/MD585_cropbox.ini\n"
     ]
    },
    {
     "name": "stderr",
     "output_type": "stream",
     "text": [
      "Seems you are using operation INIs to provide cropbox.\n"
     ]
    },
    {
     "name": "stdout",
     "output_type": "stream",
     "text": [
      "Number of valid sections:\n",
      "51\n",
      "First valid section: 106\n",
      "Last valid section: 156\n",
      "num_valid_sections: 51\n",
      "\n",
      "\n",
      "\n",
      "(50, 81, 82)\n"
     ]
    }
   ],
   "source": [
    "stack = 'MD585'\n",
    "threshold=0.5\n",
    "color_radius = 5\n",
    "\n",
    "for structure in all_structures_total:\n",
    "    str_contour, first_sec, last_sec = image_contour_generator( stack, structure, use_local_alignment=True, image_prep=2, threshold=threshold)\n",
    "\n",
    "    add_structure_to_neuroglancer( str_contour, structure, color_radius=4, xy_ng_resolution_um=10  )"
   ]
  },
  {
   "cell_type": "code",
   "execution_count": 275,
   "metadata": {
    "collapsed": true
   },
   "outputs": [],
   "source": [
    "def add_structure_to_neuroglancer( str_contour, structure, color_radius=4, xy_ng_resolution_um=10 ):\n",
    "    xy_ng_resolution_um = xy_ng_resolution_um # X and Y voxel length in microns\n",
    "    color_radius = color_radius*(10.0/xy_ng_resolution_um)**0.5\n",
    "\n",
    "    # Max and Min X/Y Values given random initial values that will be raplaced\n",
    "    # X and Y resolution will be 10um x 10um\n",
    "    max_x = 0\n",
    "    max_y = 0\n",
    "    min_x = 9999999\n",
    "    min_y = 9999999\n",
    "    # 'min_z' is the relative starting section (if the prep2 sections start at slice 100, and the structure starts at slice 110, min_z is 10 )\n",
    "    # Z resolution is 20um for simple 1-1 correspondance with section thickness\n",
    "    max_z = (last_sec-ng_section_min)\n",
    "    min_z = (first_sec-ng_section_min)\n",
    "    # Scaling factor is (0.46/10). Scaling from resolution of 0.46 microns to 10 microns. \n",
    "    scale_xy = 0.46/xy_ng_resolution_um\n",
    "\n",
    "    # X,Y are 10um voxels. Z is 20um voxels. \n",
    "    # str_contour_ng_resolution is the previous contour data rescaled to neuroglancer resolution\n",
    "    str_contour_ng_resolution = {}\n",
    "\n",
    "    for section in str_contour:\n",
    "        # Load (X,Y) coordinates on this contour\n",
    "        section_contours = str_contour[ section ][structure][ threshold ]\n",
    "        # (X,Y) coordinates will be rescaled to the new resolution and placed here\n",
    "        # str_contour_ng_resolution starts at z=0 for simplicity, must provide section offset later on\n",
    "        str_contour_ng_resolution[section-first_sec] = []\n",
    "        # Number of (X,Y) coordinates\n",
    "        num_contours = len( section_contours )\n",
    "        # Cycle through each coordinate pair\n",
    "        for coordinate_pair in range(num_contours):\n",
    "\n",
    "            curr_coors = section_contours[ coordinate_pair ]\n",
    "            # Rescale coordinate pair and add to new contour dictionary\n",
    "            str_contour_ng_resolution[section-first_sec].append( [scale_xy*curr_coors[0],scale_xy*curr_coors[1]] )\n",
    "            # Replace Min/Max X/Y values with new extremes\n",
    "            min_x = min( scale_xy*curr_coors[0], min_x)\n",
    "            min_y = min( scale_xy*curr_coors[1], min_y)\n",
    "            max_x = max( scale_xy*curr_coors[0], max_x)\n",
    "            max_y = max( scale_xy*curr_coors[1], max_y)\n",
    "\n",
    "\n",
    "    # Cast max and min values to int as they are used to build 3D numpy matrix\n",
    "    max_x = int( np.ceil(max_x) ) \n",
    "    max_y = int( np.ceil(max_y) )\n",
    "    min_x = int( np.floor(min_x) )\n",
    "    min_y = int( np.floor(min_y) )\n",
    "    # print 'min_x:',min_x\n",
    "    # print 'max_x:',max_x\n",
    "    # print 'min_y:',min_y\n",
    "    # print 'max_y:',max_y\n",
    "\n",
    "    # Create empty 'structure_volume' using min and max values found earlier\n",
    "    structure_volume = np.zeros( (max_z-min_z, max_y-min_y, max_x-min_x), dtype = np.uint8 )\n",
    "    z_voxels,y_voxels,x_voxels =  np.shape(structure_volume)\n",
    "    print  np.shape(structure_volume)\n",
    "\n",
    "    # Go through every slice. For every slice color in the voxels corrosponding to the contour's coordinate pair\n",
    "    for slice in range(z_voxels):\n",
    "        slice_contour = np.asarray( str_contour_ng_resolution[slice] )\n",
    "\n",
    "        for xy_pair in slice_contour:\n",
    "            x_voxel = int(xy_pair[0])-min_x\n",
    "            y_voxel = int(xy_pair[1])-min_y\n",
    "\n",
    "            # Instead of coloring a single voxel, color all in a specified radius from this voxel!\n",
    "            lower_bnd_offset = int( np.floor(1-color_radius) )\n",
    "            upper_bnd_offset = int( np.ceil(color_radius) )\n",
    "            for x_coor_color_radius in range( lower_bnd_offset, upper_bnd_offset):\n",
    "                for y_coor_color_radius in range( lower_bnd_offset, upper_bnd_offset):\n",
    "\n",
    "                    x_displaced_voxel = x_voxel + x_coor_color_radius\n",
    "                    y_displaced_voxel = y_voxel + y_coor_color_radius\n",
    "                    distance = ( (y_voxel-y_displaced_voxel)**2 + (x_voxel-x_displaced_voxel)**2 )**0.5\n",
    "                    # If the temporary coordinate is within the specified radius AND inside the 3D matrix\n",
    "                    if distance<color_radius and \\\n",
    "                    x_displaced_voxel<x_voxels and \\\n",
    "                    y_displaced_voxel<y_voxels and \\\n",
    "                    x_displaced_voxel>0 and \\\n",
    "                    y_displaced_voxel>0:\n",
    "                        try:\n",
    "                            # Set temporary coordinate to be visible\n",
    "                            structure_volume[slice,y_displaced_voxel,x_displaced_voxel] = 1\n",
    "                        except:\n",
    "                            pass\n",
    "\n",
    "    # structure_volume\n",
    "\n",
    "    display_name = structure+'_'+str(threshold)\n",
    "\n",
    "    \n",
    "    hc_x_offset = -42*10/xy_ng_resolution_um\n",
    "    hc_y_offset = 25*10/xy_ng_resolution_um\n",
    "    \n",
    "    \n",
    "    with viewer.txn() as s:\n",
    "        s.layers['image'] = neuroglancer.ImageLayer(source='precomputed://https://mousebrainatlas-datajoint-jp2k.s3.amazonaws.com/precomputed/MD585_fullres')\n",
    "        s.layers[ display_name ] = neuroglancer.SegmentationLayer(\n",
    "            source=neuroglancer.LocalVolume(\n",
    "                data=structure_volume, # Z,Y,X\n",
    "                voxel_size=[ xy_ng_resolution_um*1000, xy_ng_resolution_um*1000,20000], # X Y Z\n",
    "                voxel_offset = [ min_x+hc_x_offset, min_y+hc_y_offset, min_z] # X Y Z\n",
    "            )\n",
    "    )\n",
    "        \n",
    "    return structure_volume"
   ]
  },
  {
   "cell_type": "code",
   "execution_count": 276,
   "metadata": {},
   "outputs": [
    {
     "name": "stdout",
     "output_type": "stream",
     "text": [
      "/media/alexn/BstemAtlasDataBackup/ucsd_brain/CSHL_data_processed/MD585/MD585_cropbox.ini\n"
     ]
    },
    {
     "name": "stderr",
     "output_type": "stream",
     "text": [
      "Seems you are using operation INIs to provide cropbox.\n",
      "2 contours of reconstructed volume is found at position 14 ([24, 7]). Use the longest one.\n",
      "2 contours of reconstructed volume is found at position 376 ([26, 3]). Use the longest one.\n",
      "2 contours of reconstructed volume is found at position 378 ([1, 1]). Use the longest one.\n",
      "contour has less than three vertices. Ignore.\n"
     ]
    },
    {
     "name": "stdout",
     "output_type": "stream",
     "text": [
      "Number of valid sections:\n",
      "198\n",
      "First valid section: 129\n",
      "Last valid section: 326\n",
      "num_valid_sections: 198\n",
      "\n",
      "\n",
      "\n",
      "(197, 674, 691)\n"
     ]
    }
   ],
   "source": [
    "stack = 'MD585'\n",
    "threshold=0.1\n",
    "structure = 'IC'\n",
    "\n",
    "str_contour, first_sec, last_sec = image_contour_generator( stack, structure, use_local_alignment=True, image_prep=2, threshold=threshold)\n",
    "\n",
    "color_radius = 3\n",
    "ng_structure_volume = add_structure_to_neuroglancer( str_contour, structure, color_radius, xy_ng_resolution_um=3 )"
   ]
  },
  {
   "cell_type": "code",
   "execution_count": null,
   "metadata": {},
   "outputs": [],
   "source": [
    "ng_structure_volume = add_structure_to_neuroglancer( str_contour, structure, color_radius=5, xy_ng_resolution_um=2 )"
   ]
  },
  {
   "cell_type": "markdown",
   "metadata": {},
   "source": [
    "# Neuroglancer code"
   ]
  },
  {
   "cell_type": "code",
   "execution_count": 245,
   "metadata": {},
   "outputs": [
    {
     "data": {
      "text/html": [
       "<a href=\"http://127.0.0.1:38309/v/71cb3ed4ade9d79393bbdf44741004f36c677b4a/\" target=\"_blank\">Viewer</a>"
      ],
      "text/plain": [
       "http://127.0.0.1:38309/v/71cb3ed4ade9d79393bbdf44741004f36c677b4a/"
      ]
     },
     "execution_count": 245,
     "metadata": {},
     "output_type": "execute_result"
    }
   ],
   "source": [
    "viewer = neuroglancer.Viewer()\n",
    "\n",
    "viewer"
   ]
  },
  {
   "cell_type": "code",
   "execution_count": 68,
   "metadata": {
    "collapsed": true
   },
   "outputs": [],
   "source": [
    "with viewer.txn() as s:\n",
    "    s.layers['image'] = neuroglancer.ImageLayer(source='precomputed://https://mousebrainatlas-datajoint-jp2k.s3.amazonaws.com/precomputed/MD585_fullres')\n",
    "    #   s.layers['segmentation'] = neuroglancer.SegmentationLayer(source='precomputed://file://./pre_data/12N', selected_alpha=0.3)\n",
    "    s.layers['Structure'] = neuroglancer.SegmentationLayer(\n",
    "        source=neuroglancer.LocalVolume(\n",
    "        data=structure_volume,\n",
    "        voxel_size=[10000,10000,10000],\n",
    "        voxel_offset = [20,20,0]\n",
    "        )\n",
    ")"
   ]
  },
  {
   "cell_type": "code",
   "execution_count": null,
   "metadata": {
    "collapsed": true
   },
   "outputs": [],
   "source": []
  },
  {
   "cell_type": "code",
   "execution_count": null,
   "metadata": {
    "collapsed": true
   },
   "outputs": [],
   "source": []
  },
  {
   "cell_type": "code",
   "execution_count": null,
   "metadata": {
    "collapsed": true
   },
   "outputs": [],
   "source": []
  },
  {
   "cell_type": "code",
   "execution_count": 283,
   "metadata": {
    "collapsed": true
   },
   "outputs": [],
   "source": [
    "neuroglancer.stop()"
   ]
  },
  {
   "cell_type": "markdown",
   "metadata": {},
   "source": [
    "# End Neuroglancer Code"
   ]
  },
  {
   "cell_type": "code",
   "execution_count": null,
   "metadata": {
    "collapsed": true
   },
   "outputs": [],
   "source": [
    "# wholeslice_to_brainstem = -from_padded_to_wholeslice, from_padded_to_brainstem\n",
    "\n",
    "#from_padded_to_wholeslice\n",
    "rostral_limit = 50\n",
    "caudal_limit = 1188\n",
    "dorsal_limit = 21\n",
    "ventral_limit = 738\n",
    "\n",
    "#from_padded_to_brainstem\n",
    "rostral_limit = 521\n",
    "caudal_limit = 1057\n",
    "dorsal_limit = 128\n",
    "ventral_limit = 465"
   ]
  },
  {
   "cell_type": "code",
   "execution_count": 11,
   "metadata": {
    "collapsed": true
   },
   "outputs": [],
   "source": [
    "def get_structure_contours_from_structure_volumes_v3(volumes, stack, sections, \n",
    "                                                     resolution, level, sample_every=1,\n",
    "                                                    use_unsided_name_as_key=False):\n",
    "    \"\"\"\n",
    "    Re-section atlas volumes and obtain structure contours on each section.\n",
    "    Resolution of output contours are in volume resolution.\n",
    "    v3 supports multiple levels.\n",
    "\n",
    "    Args:\n",
    "        volumes (dict of (3D array, 3-tuple)): {structure: (volume, origin_wrt_wholebrain)}. volume is a 3d array of probability values.\n",
    "        sections (list of int):\n",
    "        resolution (int): resolution of input volumes.\n",
    "        level (float or dict or dict of list): the cut-off probability at which surfaces are generated from probabilistic volumes. Default is 0.5.\n",
    "        sample_every (int): how sparse to sample contour vertices.\n",
    "\n",
    "    Returns:\n",
    "        Dict {section: {name_s: contour vertices}}.\n",
    "    \"\"\"\n",
    "\n",
    "    from collections import defaultdict\n",
    "    \n",
    "    structure_contours_wrt_alignedBrainstemCrop_rawResol = defaultdict(lambda: defaultdict(dict))\n",
    "\n",
    "    converter = CoordinatesConverter(stack=stack, section_list=metadata_cache['sections_to_filenames'][stack].keys())\n",
    "\n",
    "    converter.register_new_resolution('structure_volume', resol_um=convert_resolution_string_to_um(resolution=resolution, stack=stack))\n",
    "    converter.register_new_resolution('image', resol_um=convert_resolution_string_to_um(resolution='raw', stack=stack))\n",
    "    \n",
    "    for name_s, (structure_volume_volResol, origin_wrt_wholebrain_volResol) in volumes.iteritems():\n",
    "\n",
    "        converter.derive_three_view_frames(name_s, \n",
    "        origin_wrt_wholebrain_um=convert_resolution_string_to_um(resolution=resolution, stack=stack) * origin_wrt_wholebrain_volResol,\n",
    "        zdim_um=convert_resolution_string_to_um(resolution=resolution, stack=stack) * structure_volume_volResol.shape[2])\n",
    "\n",
    "        positions_of_all_sections_wrt_structureVolume = converter.convert_frame_and_resolution(\n",
    "        p=np.array(sections)[:,None],\n",
    "        in_wrt=('wholebrain', 'sagittal'), in_resolution='section',\n",
    "        out_wrt=(name_s, 'sagittal'), out_resolution='structure_volume')[..., 2].flatten()\n",
    "            \n",
    "        structure_ddim = structure_volume_volResol.shape[2]\n",
    "        \n",
    "        valid_mask = (positions_of_all_sections_wrt_structureVolume >= 0) & (positions_of_all_sections_wrt_structureVolume < structure_ddim)\n",
    "        if np.count_nonzero(valid_mask) == 0:\n",
    "#             sys.stderr.write(\"%s, valid_mask is empty.\\n\" % name_s)\n",
    "            continue\n",
    "\n",
    "        positions_of_all_sections_wrt_structureVolume = positions_of_all_sections_wrt_structureVolume[valid_mask]\n",
    "        positions_of_all_sections_wrt_structureVolume = np.round(positions_of_all_sections_wrt_structureVolume).astype(np.int)\n",
    "        \n",
    "        if isinstance(level, dict):\n",
    "            level_this_structure = level[name_s]\n",
    "        else:\n",
    "            level_this_structure = level\n",
    "\n",
    "        if isinstance(level_this_structure, float):\n",
    "            level_this_structure = [level_this_structure]\n",
    "                        \n",
    "        for one_level in level_this_structure:\n",
    "\n",
    "            contour_2d_wrt_structureVolume_sectionPositions_volResol = \\\n",
    "            find_contour_points_3d(structure_volume_volResol >= one_level,\n",
    "                                    along_direction='sagittal',\n",
    "                                    sample_every=sample_every,\n",
    "                                    positions=positions_of_all_sections_wrt_structureVolume)\n",
    "\n",
    "            for d_wrt_structureVolume, cnt_uv_wrt_structureVolume in contour_2d_wrt_structureVolume_sectionPositions_volResol.iteritems():\n",
    "\n",
    "                contour_3d_wrt_structureVolume_volResol = np.column_stack([cnt_uv_wrt_structureVolume, np.ones((len(cnt_uv_wrt_structureVolume),)) * d_wrt_structureVolume])\n",
    "\n",
    "    #             contour_3d_wrt_wholebrain_uv_rawResol_section = converter.convert_frame_and_resolution(\n",
    "    #                 p=contour_3d_wrt_structureVolume_volResol,\n",
    "    #                 in_wrt=(name_s, 'sagittal'), in_resolution='structure_volume',\n",
    "    #                 out_wrt=('wholebrain', 'sagittal'), out_resolution='image_image_section')\n",
    "\n",
    "                contour_3d_wrt_alignedBrainstemCrop_uv_rawResol_section = converter.convert_frame_and_resolution(\n",
    "                        p=contour_3d_wrt_structureVolume_volResol,\n",
    "                        in_wrt=(name_s, 'sagittal'), in_resolution='structure_volume',\n",
    "                        out_wrt=('wholebrainXYcropped', 'sagittal'), out_resolution='image_image_section')\n",
    "\n",
    "                assert len(np.unique(contour_3d_wrt_alignedBrainstemCrop_uv_rawResol_section[:,2])) == 1\n",
    "                sec = int(contour_3d_wrt_alignedBrainstemCrop_uv_rawResol_section[0,2])\n",
    "\n",
    "                if use_unsided_name_as_key:\n",
    "                    name = convert_to_unsided_label(name_s)\n",
    "                else:\n",
    "                    name = name_s\n",
    "\n",
    "                structure_contours_wrt_alignedBrainstemCrop_rawResol[sec][name][one_level] = contour_3d_wrt_alignedBrainstemCrop_uv_rawResol_section[..., :2]\n",
    "        \n",
    "    return structure_contours_wrt_alignedBrainstemCrop_rawResol"
   ]
  },
  {
   "cell_type": "code",
   "execution_count": null,
   "metadata": {
    "collapsed": true
   },
   "outputs": [],
   "source": []
  }
 ],
 "metadata": {
  "kernelspec": {
   "display_name": "Python 2",
   "language": "python",
   "name": "python2"
  },
  "language_info": {
   "codemirror_mode": {
    "name": "ipython",
    "version": 2
   },
   "file_extension": ".py",
   "mimetype": "text/x-python",
   "name": "python",
   "nbconvert_exporter": "python",
   "pygments_lexer": "ipython2",
   "version": "2.7.12"
  }
 },
 "nbformat": 4,
 "nbformat_minor": 2
}
