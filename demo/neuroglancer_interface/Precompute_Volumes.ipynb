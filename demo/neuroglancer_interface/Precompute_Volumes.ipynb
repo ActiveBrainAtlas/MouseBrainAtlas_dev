{
 "cells": [
  {
   "cell_type": "code",
   "execution_count": 33,
   "metadata": {},
   "outputs": [
    {
     "name": "stdout",
     "output_type": "stream",
     "text": [
      "download: s3://test-bucket-sid/alex_neuroglancer_volumes/MD585/human_annotation/solid_volume_5um/volume_colored.npy to ../../../../../../mnt/x/temp_s3_download/volumes/MD585/human_annotation/solid_volume_5um/volume_colored.npy\n"
     ]
    }
   ],
   "source": [
    "! aws s3 cp s3://test-bucket-sid/alex_neuroglancer_volumes/MD585/human_annotation/solid_volume_5um/volume_colored.npy \\\n",
    "/mnt/x/temp_s3_download/volumes/MD585/human_annotation/solid_volume_5um/ "
   ]
  },
  {
   "cell_type": "code",
   "execution_count": 41,
   "metadata": {},
   "outputs": [
    {
     "name": "stdout",
     "output_type": "stream",
     "text": [
      "download: s3://test-bucket-sid/alex_neuroglancer_volumes/MD589/human_annotation/solid_volume_5um/volume_colored.npy to ../../../../../../mnt/x/temp_s3_download/volumes/MD589/human_annotation/solid_volume_5um/volume_colored.npy\n"
     ]
    }
   ],
   "source": [
    "! aws s3 cp s3://test-bucket-sid/alex_neuroglancer_volumes/MD589/human_annotation/solid_volume_5um/volume_colored.npy \\\n",
    "/mnt/x/temp_s3_download/volumes/MD589/human_annotation/solid_volume_5um/"
   ]
  },
  {
   "cell_type": "code",
   "execution_count": 25,
   "metadata": {},
   "outputs": [
    {
     "name": "stdout",
     "output_type": "stream",
     "text": [
      "download failed: s3://test-bucket-sid/alex_neuroglancer_volumes/MD585/human_annotation/solid_volume_5um/volume_colored.npy to ../../../../../../mnt/x/temp_s3_download/volumes/MD585/human_annotation/solid_volume_5um/volume_colored.npy [SSL: DECRYPTION_FAILED_OR_BAD_RECORD_MAC] decryption failed or bad record mac (_ssl.c:2292)\n"
     ]
    }
   ],
   "source": [
    "! aws s3 cp s3://test-bucket-sid/alex_neuroglancer_volumes/MD585/human_annotation/solid_volume_5um/volume_colored.npy /mnt/x/temp_s3_download/volumes/MD585/human_annotation/solid_volume_5um/"
   ]
  },
  {
   "cell_type": "code",
   "execution_count": 1,
   "metadata": {},
   "outputs": [],
   "source": [
    "import numpy as np\n",
    "import pickle as pkl\n",
    "import boto3\n",
    "\n",
    "import os\n",
    "\n",
    "import json\n",
    "import pathlib\n",
    "from neuroglancer_scripts.scripts import (generate_scales_info,\n",
    "                                          slices_to_precomputed,\n",
    "                                          compute_scales, volume_to_precomputed)\n",
    "import nibabel as nib\n",
    "import re"
   ]
  },
  {
   "cell_type": "code",
   "execution_count": 28,
   "metadata": {},
   "outputs": [],
   "source": [
    "stack = 'MD589'"
   ]
  },
  {
   "cell_type": "code",
   "execution_count": 18,
   "metadata": {},
   "outputs": [],
   "source": [
    "stack = 'MD585'"
   ]
  },
  {
   "cell_type": "code",
   "execution_count": 29,
   "metadata": {},
   "outputs": [],
   "source": [
    "s3_creds_file = '/mnt/c/Users/Alex/Documents/json_credentials/alex_aws_credentials.json'\n",
    "bucket_name = 'test-bucket-sid'\n",
    "ni_out = '/mnt/x/temp_s3_download/volumes/precomputed/'+stack+'/vol_color.nii'"
   ]
  },
  {
   "cell_type": "code",
   "execution_count": 30,
   "metadata": {},
   "outputs": [],
   "source": [
    "source_dir = '/mnt/x/temp_s3_download/volumes/'+stack+'/human_annotation/solid_volume_5um/volume_colored.npy'\n",
    "out_dir = '/mnt/x/temp_s3_download/volumes/precomputed/'+stack+'/'"
   ]
  },
  {
   "cell_type": "code",
   "execution_count": 21,
   "metadata": {},
   "outputs": [
    {
     "ename": "FileNotFoundError",
     "evalue": "[Errno 2] No such file or directory: '/mnt/x/temp_s3_download/volumes/MD585/human_annotation/solid_volume_5um/volume_colored.npy'",
     "output_type": "error",
     "traceback": [
      "\u001b[0;31m---------------------------------------------------------------------------\u001b[0m",
      "\u001b[0;31mFileNotFoundError\u001b[0m                         Traceback (most recent call last)",
      "\u001b[0;32m<ipython-input-21-b538bae8c6fe>\u001b[0m in \u001b[0;36m<module>\u001b[0;34m\u001b[0m\n\u001b[0;32m----> 1\u001b[0;31m \u001b[0mvol_m\u001b[0m \u001b[0;34m=\u001b[0m \u001b[0mnp\u001b[0m\u001b[0;34m.\u001b[0m\u001b[0mload\u001b[0m\u001b[0;34m(\u001b[0m\u001b[0msource_dir\u001b[0m\u001b[0;34m)\u001b[0m\u001b[0;34m\u001b[0m\u001b[0;34m\u001b[0m\u001b[0m\n\u001b[0m",
      "\u001b[0;32m~/anaconda3/lib/python3.6/site-packages/numpy/lib/npyio.py\u001b[0m in \u001b[0;36mload\u001b[0;34m(file, mmap_mode, allow_pickle, fix_imports, encoding)\u001b[0m\n\u001b[1;32m    370\u001b[0m     \u001b[0mown_fid\u001b[0m \u001b[0;34m=\u001b[0m \u001b[0;32mFalse\u001b[0m\u001b[0;34m\u001b[0m\u001b[0;34m\u001b[0m\u001b[0m\n\u001b[1;32m    371\u001b[0m     \u001b[0;32mif\u001b[0m \u001b[0misinstance\u001b[0m\u001b[0;34m(\u001b[0m\u001b[0mfile\u001b[0m\u001b[0;34m,\u001b[0m \u001b[0mbasestring\u001b[0m\u001b[0;34m)\u001b[0m\u001b[0;34m:\u001b[0m\u001b[0;34m\u001b[0m\u001b[0;34m\u001b[0m\u001b[0m\n\u001b[0;32m--> 372\u001b[0;31m         \u001b[0mfid\u001b[0m \u001b[0;34m=\u001b[0m \u001b[0mopen\u001b[0m\u001b[0;34m(\u001b[0m\u001b[0mfile\u001b[0m\u001b[0;34m,\u001b[0m \u001b[0;34m\"rb\"\u001b[0m\u001b[0;34m)\u001b[0m\u001b[0;34m\u001b[0m\u001b[0;34m\u001b[0m\u001b[0m\n\u001b[0m\u001b[1;32m    373\u001b[0m         \u001b[0mown_fid\u001b[0m \u001b[0;34m=\u001b[0m \u001b[0;32mTrue\u001b[0m\u001b[0;34m\u001b[0m\u001b[0;34m\u001b[0m\u001b[0m\n\u001b[1;32m    374\u001b[0m     \u001b[0;32melif\u001b[0m \u001b[0mis_pathlib_path\u001b[0m\u001b[0;34m(\u001b[0m\u001b[0mfile\u001b[0m\u001b[0;34m)\u001b[0m\u001b[0;34m:\u001b[0m\u001b[0;34m\u001b[0m\u001b[0;34m\u001b[0m\u001b[0m\n",
      "\u001b[0;31mFileNotFoundError\u001b[0m: [Errno 2] No such file or directory: '/mnt/x/temp_s3_download/volumes/MD585/human_annotation/solid_volume_5um/volume_colored.npy'"
     ]
    }
   ],
   "source": [
    "vol_m = np.load(source_dir)"
   ]
  },
  {
   "cell_type": "code",
   "execution_count": 22,
   "metadata": {},
   "outputs": [],
   "source": [
    "! mkdir $out_dir"
   ]
  },
  {
   "cell_type": "code",
   "execution_count": 13,
   "metadata": {},
   "outputs": [
    {
     "name": "stdout",
     "output_type": "stream",
     "text": [
      "(1429, 1099, 288)\n"
     ]
    }
   ],
   "source": [
    "vol_m = np.swapaxes(vol_m,0,2)\n",
    "print(vol_m.shape)\n",
    "vol_img = nib.Nifti1Image(vol_m, affine=np.array(\\\n",
    "      [[ 0.005,  0.,  0.,  0.],\\\n",
    "       [ 0.,   0.005,  0.,  0.],\\\n",
    "       [ 0.,  0.,  0.02,  0.],\\\n",
    "       [ 0.,  0.,  0.,  1.]]))\n",
    "nib.save(vol_img, ni_out)"
   ]
  },
  {
   "cell_type": "code",
   "execution_count": 14,
   "metadata": {},
   "outputs": [
    {
     "name": "stderr",
     "output_type": "stream",
     "text": [
      "INFO: Input image shape is (1429, 1099, 288)\n",
      "INFO: Input voxel size is [0.005 0.005 0.02 ] mm\n",
      "INFO: Detected input axis orientations RAS+\n",
      "INFO: the following info has been generated:\n",
      "{\n",
      "    \"type\": \"image\",\n",
      "    \"num_channels\": 1,\n",
      "    \"data_type\": \"uint8\",\n",
      "    \"scales\": [\n",
      "        {\n",
      "            \"encoding\": \"raw\",\n",
      "            \"size\": [1429, 1099, 288],\n",
      "            \"resolution\": [4999.999888241291, 4999.999888241291, 19999.999552965164],\n",
      "            \"voxel_offset\": [0, 0, 0]\n",
      "        }\n",
      "    ]\n",
      "}\n",
      "INFO: The metadata above was written to info_fullres.json. Please run generate-scales-info on that file to generate the 'info' file, then run this program again.\n",
      "INFO: Neuroglancer transform of the converted volume (written to transform.json):\n",
      "[[1_0_0_-2499.9999441206455]_[0_1_0_-2499.9999441206455]_[0_0_1_-9999.999776482582]_[0_0_0_1]]\n"
     ]
    },
    {
     "data": {
      "text/plain": [
       "0"
      ]
     },
     "execution_count": 14,
     "metadata": {},
     "output_type": "execute_result"
    }
   ],
   "source": [
    "volume_to_precomputed.main(['', ni_out, out_dir, '--generate-info', '--no-gzip'])"
   ]
  },
  {
   "cell_type": "code",
   "execution_count": 15,
   "metadata": {},
   "outputs": [],
   "source": [
    "with open(os.path.join(os.path.join(out_dir, 'info_fullres.json')), 'r') as info_file:\n",
    "    info = json.load(info_file)\n",
    "\n",
    "info[\"type\"] = \"segmentation\"\n",
    "# # info[\"scales\"][0][\"size\"][0] *= 1000000/20000\n",
    "# # info[\"scales\"][0][\"size\"][1] *= 1000000/5000\n",
    "# # info[\"scales\"][0][\"size\"][2] *= 1000000/5000\n",
    "\n",
    "# info[\"scales\"][0][\"resolution\"][0] = 5000\n",
    "# info[\"scales\"][0][\"resolution\"][1] = 5000\n",
    "# info[\"scales\"][0][\"resolution\"][2] = 20000\n",
    "\n",
    "with open(os.path.join(os.path.join(out_dir, 'info_fullres.json')), 'w') as info_file:\n",
    "    json.dump(info, info_file)\n",
    "\n",
    "# with open(os.path.join(out_dir, 'info_fullres.json'), 'w') as outfile:\n",
    "#     json.dump(info, outfile)\n"
   ]
  },
  {
   "cell_type": "code",
   "execution_count": 16,
   "metadata": {},
   "outputs": [
    {
     "data": {
      "text/plain": [
       "0"
      ]
     },
     "execution_count": 16,
     "metadata": {},
     "output_type": "execute_result"
    }
   ],
   "source": [
    "generate_scales_info.main(['', os.path.join(out_dir, 'info_fullres.json'),  '--encoding' , 'compressed_segmentation',\n",
    "                           out_dir, '--max-scales', '1', '--target-chunk-size', '128'])\n",
    "\n",
    "# volume_to_precomputed.main(['', ni_out, out_dir, '--flat', '--no-gzip'])"
   ]
  },
  {
   "cell_type": "code",
   "execution_count": 17,
   "metadata": {
    "scrolled": true
   },
   "outputs": [
    {
     "name": "stderr",
     "output_type": "stream",
     "text": [
      "INFO: Loading full volume to memory... \n",
      "INFO: Writing chunks... \n",
      "writing:  99%|█████████▉| 149/150 [00:41<00:00, 10.86chunks/s]"
     ]
    },
    {
     "data": {
      "text/plain": [
       "0"
      ]
     },
     "execution_count": 17,
     "metadata": {},
     "output_type": "execute_result"
    },
    {
     "name": "stderr",
     "output_type": "stream",
     "text": [
      "\r",
      "writing: 100%|██████████| 150/150 [01:00<00:00, 10.86chunks/s]"
     ]
    }
   ],
   "source": [
    "volume_to_precomputed.main(['', ni_out, out_dir, '--flat', '--no-gzip'])"
   ]
  },
  {
   "cell_type": "code",
   "execution_count": null,
   "metadata": {},
   "outputs": [],
   "source": []
  },
  {
   "cell_type": "code",
   "execution_count": 31,
   "metadata": {},
   "outputs": [
    {
     "name": "stdout",
     "output_type": "stream",
     "text": [
      "upload: ../../../../../../mnt/x/temp_s3_download/volumes/precomputed/MD589/5um/0-256_1024-1099_256-288 to s3://test-bucket-sid/final_precomputed_volumes/MD589/5um/0-256_1024-1099_256-288\n",
      "upload: ../../../../../../mnt/x/temp_s3_download/volumes/precomputed/MD589/5um/0-256_1024-1099_128-192 to s3://test-bucket-sid/final_precomputed_volumes/MD589/5um/0-256_1024-1099_128-192\n",
      "upload: ../../../../../../mnt/x/temp_s3_download/volumes/precomputed/MD589/5um/0-256_1024-1099_0-64 to s3://test-bucket-sid/final_precomputed_volumes/MD589/5um/0-256_1024-1099_0-64\n",
      "upload: ../../../../../../mnt/x/temp_s3_download/volumes/precomputed/MD589/5um/0-256_1024-1099_64-128 to s3://test-bucket-sid/final_precomputed_volumes/MD589/5um/0-256_1024-1099_64-128\n",
      "upload: ../../../../../../mnt/x/temp_s3_download/volumes/precomputed/MD589/5um/0-256_1024-1099_192-256 to s3://test-bucket-sid/final_precomputed_volumes/MD589/5um/0-256_1024-1099_192-256\n",
      "upload: ../../../../../../mnt/x/temp_s3_download/volumes/precomputed/MD589/5um/0-256_0-256_256-288 to s3://test-bucket-sid/final_precomputed_volumes/MD589/5um/0-256_0-256_256-288\n",
      "upload: ../../../../../../mnt/x/temp_s3_download/volumes/precomputed/MD589/5um/0-256_0-256_0-64 to s3://test-bucket-sid/final_precomputed_volumes/MD589/5um/0-256_0-256_0-64\n",
      "upload: ../../../../../../mnt/x/temp_s3_download/volumes/precomputed/MD589/5um/0-256_0-256_128-192 to s3://test-bucket-sid/final_precomputed_volumes/MD589/5um/0-256_0-256_128-192\n",
      "upload: ../../../../../../mnt/x/temp_s3_download/volumes/precomputed/MD589/5um/0-256_0-256_64-128 to s3://test-bucket-sid/final_precomputed_volumes/MD589/5um/0-256_0-256_64-128\n",
      "upload: ../../../../../../mnt/x/temp_s3_download/volumes/precomputed/MD589/5um/0-256_0-256_192-256 to s3://test-bucket-sid/final_precomputed_volumes/MD589/5um/0-256_0-256_192-256\n",
      "upload: ../../../../../../mnt/x/temp_s3_download/volumes/precomputed/MD589/5um/0-256_256-512_0-64 to s3://test-bucket-sid/final_precomputed_volumes/MD589/5um/0-256_256-512_0-64\n",
      "upload: ../../../../../../mnt/x/temp_s3_download/volumes/precomputed/MD589/5um/0-256_256-512_256-288 to s3://test-bucket-sid/final_precomputed_volumes/MD589/5um/0-256_256-512_256-288\n",
      "upload: ../../../../../../mnt/x/temp_s3_download/volumes/precomputed/MD589/5um/0-256_256-512_128-192 to s3://test-bucket-sid/final_precomputed_volumes/MD589/5um/0-256_256-512_128-192\n",
      "upload: ../../../../../../mnt/x/temp_s3_download/volumes/precomputed/MD589/5um/0-256_256-512_192-256 to s3://test-bucket-sid/final_precomputed_volumes/MD589/5um/0-256_256-512_192-256\n",
      "upload: ../../../../../../mnt/x/temp_s3_download/volumes/precomputed/MD589/5um/0-256_512-768_128-192 to s3://test-bucket-sid/final_precomputed_volumes/MD589/5um/0-256_512-768_128-192\n",
      "upload: ../../../../../../mnt/x/temp_s3_download/volumes/precomputed/MD589/5um/0-256_512-768_256-288 to s3://test-bucket-sid/final_precomputed_volumes/MD589/5um/0-256_512-768_256-288\n",
      "upload: ../../../../../../mnt/x/temp_s3_download/volumes/precomputed/MD589/5um/0-256_512-768_0-64 to s3://test-bucket-sid/final_precomputed_volumes/MD589/5um/0-256_512-768_0-64\n",
      "upload: ../../../../../../mnt/x/temp_s3_download/volumes/precomputed/MD589/5um/0-256_256-512_64-128 to s3://test-bucket-sid/final_precomputed_volumes/MD589/5um/0-256_256-512_64-128\n",
      "upload: ../../../../../../mnt/x/temp_s3_download/volumes/precomputed/MD589/5um/0-256_512-768_64-128 to s3://test-bucket-sid/final_precomputed_volumes/MD589/5um/0-256_512-768_64-128\n",
      "upload: ../../../../../../mnt/x/temp_s3_download/volumes/precomputed/MD589/5um/0-256_512-768_192-256 to s3://test-bucket-sid/final_precomputed_volumes/MD589/5um/0-256_512-768_192-256\n",
      "upload: ../../../../../../mnt/x/temp_s3_download/volumes/precomputed/MD589/5um/0-256_768-1024_0-64 to s3://test-bucket-sid/final_precomputed_volumes/MD589/5um/0-256_768-1024_0-64\n",
      "upload: ../../../../../../mnt/x/temp_s3_download/volumes/precomputed/MD589/5um/0-256_768-1024_128-192 to s3://test-bucket-sid/final_precomputed_volumes/MD589/5um/0-256_768-1024_128-192\n",
      "upload: ../../../../../../mnt/x/temp_s3_download/volumes/precomputed/MD589/5um/0-256_768-1024_192-256 to s3://test-bucket-sid/final_precomputed_volumes/MD589/5um/0-256_768-1024_192-256\n",
      "upload: ../../../../../../mnt/x/temp_s3_download/volumes/precomputed/MD589/5um/0-256_768-1024_256-288 to s3://test-bucket-sid/final_precomputed_volumes/MD589/5um/0-256_768-1024_256-288\n",
      "upload: ../../../../../../mnt/x/temp_s3_download/volumes/precomputed/MD589/5um/0-256_768-1024_64-128 to s3://test-bucket-sid/final_precomputed_volumes/MD589/5um/0-256_768-1024_64-128\n",
      "upload: ../../../../../../mnt/x/temp_s3_download/volumes/precomputed/MD589/5um/1024-1280_0-256_0-64 to s3://test-bucket-sid/final_precomputed_volumes/MD589/5um/1024-1280_0-256_0-64\n",
      "upload: ../../../../../../mnt/x/temp_s3_download/volumes/precomputed/MD589/5um/1024-1280_0-256_128-192 to s3://test-bucket-sid/final_precomputed_volumes/MD589/5um/1024-1280_0-256_128-192\n",
      "upload: ../../../../../../mnt/x/temp_s3_download/volumes/precomputed/MD589/5um/1024-1280_0-256_192-256 to s3://test-bucket-sid/final_precomputed_volumes/MD589/5um/1024-1280_0-256_192-256\n",
      "upload: ../../../../../../mnt/x/temp_s3_download/volumes/precomputed/MD589/5um/1024-1280_0-256_256-288 to s3://test-bucket-sid/final_precomputed_volumes/MD589/5um/1024-1280_0-256_256-288\n",
      "upload: ../../../../../../mnt/x/temp_s3_download/volumes/precomputed/MD589/5um/1024-1280_1024-1099_0-64 to s3://test-bucket-sid/final_precomputed_volumes/MD589/5um/1024-1280_1024-1099_0-64\n",
      "upload: ../../../../../../mnt/x/temp_s3_download/volumes/precomputed/MD589/5um/1024-1280_0-256_64-128 to s3://test-bucket-sid/final_precomputed_volumes/MD589/5um/1024-1280_0-256_64-128\n",
      "upload: ../../../../../../mnt/x/temp_s3_download/volumes/precomputed/MD589/5um/1024-1280_1024-1099_192-256 to s3://test-bucket-sid/final_precomputed_volumes/MD589/5um/1024-1280_1024-1099_192-256\n",
      "upload: ../../../../../../mnt/x/temp_s3_download/volumes/precomputed/MD589/5um/1024-1280_1024-1099_128-192 to s3://test-bucket-sid/final_precomputed_volumes/MD589/5um/1024-1280_1024-1099_128-192\n",
      "upload: ../../../../../../mnt/x/temp_s3_download/volumes/precomputed/MD589/5um/1024-1280_1024-1099_64-128 to s3://test-bucket-sid/final_precomputed_volumes/MD589/5um/1024-1280_1024-1099_64-128\n",
      "upload: ../../../../../../mnt/x/temp_s3_download/volumes/precomputed/MD589/5um/1024-1280_1024-1099_256-288 to s3://test-bucket-sid/final_precomputed_volumes/MD589/5um/1024-1280_1024-1099_256-288\n",
      "upload: ../../../../../../mnt/x/temp_s3_download/volumes/precomputed/MD589/5um/1024-1280_256-512_0-64 to s3://test-bucket-sid/final_precomputed_volumes/MD589/5um/1024-1280_256-512_0-64\n",
      "upload: ../../../../../../mnt/x/temp_s3_download/volumes/precomputed/MD589/5um/1024-1280_256-512_128-192 to s3://test-bucket-sid/final_precomputed_volumes/MD589/5um/1024-1280_256-512_128-192\n",
      "upload: ../../../../../../mnt/x/temp_s3_download/volumes/precomputed/MD589/5um/1024-1280_256-512_192-256 to s3://test-bucket-sid/final_precomputed_volumes/MD589/5um/1024-1280_256-512_192-256\n",
      "upload: ../../../../../../mnt/x/temp_s3_download/volumes/precomputed/MD589/5um/1024-1280_256-512_256-288 to s3://test-bucket-sid/final_precomputed_volumes/MD589/5um/1024-1280_256-512_256-288\n",
      "upload: ../../../../../../mnt/x/temp_s3_download/volumes/precomputed/MD589/5um/1024-1280_256-512_64-128 to s3://test-bucket-sid/final_precomputed_volumes/MD589/5um/1024-1280_256-512_64-128\n",
      "upload: ../../../../../../mnt/x/temp_s3_download/volumes/precomputed/MD589/5um/1024-1280_512-768_0-64 to s3://test-bucket-sid/final_precomputed_volumes/MD589/5um/1024-1280_512-768_0-64\n",
      "upload: ../../../../../../mnt/x/temp_s3_download/volumes/precomputed/MD589/5um/1024-1280_512-768_128-192 to s3://test-bucket-sid/final_precomputed_volumes/MD589/5um/1024-1280_512-768_128-192\n",
      "upload: ../../../../../../mnt/x/temp_s3_download/volumes/precomputed/MD589/5um/1024-1280_512-768_192-256 to s3://test-bucket-sid/final_precomputed_volumes/MD589/5um/1024-1280_512-768_192-256\n",
      "upload: ../../../../../../mnt/x/temp_s3_download/volumes/precomputed/MD589/5um/1024-1280_512-768_256-288 to s3://test-bucket-sid/final_precomputed_volumes/MD589/5um/1024-1280_512-768_256-288\n",
      "upload: ../../../../../../mnt/x/temp_s3_download/volumes/precomputed/MD589/5um/1024-1280_512-768_64-128 to s3://test-bucket-sid/final_precomputed_volumes/MD589/5um/1024-1280_512-768_64-128\n",
      "upload: ../../../../../../mnt/x/temp_s3_download/volumes/precomputed/MD589/5um/1024-1280_768-1024_0-64 to s3://test-bucket-sid/final_precomputed_volumes/MD589/5um/1024-1280_768-1024_0-64\n",
      "upload: ../../../../../../mnt/x/temp_s3_download/volumes/precomputed/MD589/5um/1024-1280_768-1024_128-192 to s3://test-bucket-sid/final_precomputed_volumes/MD589/5um/1024-1280_768-1024_128-192\n",
      "upload: ../../../../../../mnt/x/temp_s3_download/volumes/precomputed/MD589/5um/1280-1429_0-256_0-64 to s3://test-bucket-sid/final_precomputed_volumes/MD589/5um/1280-1429_0-256_0-64\n",
      "upload: ../../../../../../mnt/x/temp_s3_download/volumes/precomputed/MD589/5um/1280-1429_0-256_128-192 to s3://test-bucket-sid/final_precomputed_volumes/MD589/5um/1280-1429_0-256_128-192\n",
      "upload: ../../../../../../mnt/x/temp_s3_download/volumes/precomputed/MD589/5um/1280-1429_0-256_192-256 to s3://test-bucket-sid/final_precomputed_volumes/MD589/5um/1280-1429_0-256_192-256\n",
      "upload: ../../../../../../mnt/x/temp_s3_download/volumes/precomputed/MD589/5um/1280-1429_0-256_256-288 to s3://test-bucket-sid/final_precomputed_volumes/MD589/5um/1280-1429_0-256_256-288\n",
      "upload: ../../../../../../mnt/x/temp_s3_download/volumes/precomputed/MD589/5um/1024-1280_768-1024_64-128 to s3://test-bucket-sid/final_precomputed_volumes/MD589/5um/1024-1280_768-1024_64-128\n",
      "upload: ../../../../../../mnt/x/temp_s3_download/volumes/precomputed/MD589/5um/1280-1429_1024-1099_0-64 to s3://test-bucket-sid/final_precomputed_volumes/MD589/5um/1280-1429_1024-1099_0-64\n",
      "upload: ../../../../../../mnt/x/temp_s3_download/volumes/precomputed/MD589/5um/1280-1429_0-256_64-128 to s3://test-bucket-sid/final_precomputed_volumes/MD589/5um/1280-1429_0-256_64-128\n",
      "upload: ../../../../../../mnt/x/temp_s3_download/volumes/precomputed/MD589/5um/1280-1429_1024-1099_128-192 to s3://test-bucket-sid/final_precomputed_volumes/MD589/5um/1280-1429_1024-1099_128-192\n",
      "upload: ../../../../../../mnt/x/temp_s3_download/volumes/precomputed/MD589/5um/1280-1429_1024-1099_256-288 to s3://test-bucket-sid/final_precomputed_volumes/MD589/5um/1280-1429_1024-1099_256-288\n",
      "upload: ../../../../../../mnt/x/temp_s3_download/volumes/precomputed/MD589/5um/1280-1429_1024-1099_64-128 to s3://test-bucket-sid/final_precomputed_volumes/MD589/5um/1280-1429_1024-1099_64-128\n",
      "upload: ../../../../../../mnt/x/temp_s3_download/volumes/precomputed/MD589/5um/1280-1429_1024-1099_192-256 to s3://test-bucket-sid/final_precomputed_volumes/MD589/5um/1280-1429_1024-1099_192-256\n",
      "upload: ../../../../../../mnt/x/temp_s3_download/volumes/precomputed/MD589/5um/1280-1429_256-512_0-64 to s3://test-bucket-sid/final_precomputed_volumes/MD589/5um/1280-1429_256-512_0-64\n",
      "upload: ../../../../../../mnt/x/temp_s3_download/volumes/precomputed/MD589/5um/1280-1429_256-512_128-192 to s3://test-bucket-sid/final_precomputed_volumes/MD589/5um/1280-1429_256-512_128-192\n",
      "upload: ../../../../../../mnt/x/temp_s3_download/volumes/precomputed/MD589/5um/1280-1429_256-512_192-256 to s3://test-bucket-sid/final_precomputed_volumes/MD589/5um/1280-1429_256-512_192-256\n",
      "upload: ../../../../../../mnt/x/temp_s3_download/volumes/precomputed/MD589/5um/1280-1429_256-512_256-288 to s3://test-bucket-sid/final_precomputed_volumes/MD589/5um/1280-1429_256-512_256-288\n",
      "upload: ../../../../../../mnt/x/temp_s3_download/volumes/precomputed/MD589/5um/1280-1429_256-512_64-128 to s3://test-bucket-sid/final_precomputed_volumes/MD589/5um/1280-1429_256-512_64-128\n",
      "upload: ../../../../../../mnt/x/temp_s3_download/volumes/precomputed/MD589/5um/1280-1429_512-768_0-64 to s3://test-bucket-sid/final_precomputed_volumes/MD589/5um/1280-1429_512-768_0-64\n",
      "upload: ../../../../../../mnt/x/temp_s3_download/volumes/precomputed/MD589/5um/1280-1429_512-768_128-192 to s3://test-bucket-sid/final_precomputed_volumes/MD589/5um/1280-1429_512-768_128-192\n",
      "upload: ../../../../../../mnt/x/temp_s3_download/volumes/precomputed/MD589/5um/1280-1429_512-768_192-256 to s3://test-bucket-sid/final_precomputed_volumes/MD589/5um/1280-1429_512-768_192-256\n",
      "upload: ../../../../../../mnt/x/temp_s3_download/volumes/precomputed/MD589/5um/1280-1429_512-768_256-288 to s3://test-bucket-sid/final_precomputed_volumes/MD589/5um/1280-1429_512-768_256-288\n",
      "upload: ../../../../../../mnt/x/temp_s3_download/volumes/precomputed/MD589/5um/1280-1429_512-768_64-128 to s3://test-bucket-sid/final_precomputed_volumes/MD589/5um/1280-1429_512-768_64-128\n",
      "upload: ../../../../../../mnt/x/temp_s3_download/volumes/precomputed/MD589/5um/1280-1429_768-1024_0-64 to s3://test-bucket-sid/final_precomputed_volumes/MD589/5um/1280-1429_768-1024_0-64\n",
      "upload: ../../../../../../mnt/x/temp_s3_download/volumes/precomputed/MD589/5um/1280-1429_768-1024_128-192 to s3://test-bucket-sid/final_precomputed_volumes/MD589/5um/1280-1429_768-1024_128-192\n",
      "upload: ../../../../../../mnt/x/temp_s3_download/volumes/precomputed/MD589/5um/1280-1429_768-1024_256-288 to s3://test-bucket-sid/final_precomputed_volumes/MD589/5um/1280-1429_768-1024_256-288\n",
      "upload: ../../../../../../mnt/x/temp_s3_download/volumes/precomputed/MD589/5um/1280-1429_768-1024_192-256 to s3://test-bucket-sid/final_precomputed_volumes/MD589/5um/1280-1429_768-1024_192-256\n",
      "upload: ../../../../../../mnt/x/temp_s3_download/volumes/precomputed/MD589/5um/1280-1429_768-1024_64-128 to s3://test-bucket-sid/final_precomputed_volumes/MD589/5um/1280-1429_768-1024_64-128\n",
      "upload: ../../../../../../mnt/x/temp_s3_download/volumes/precomputed/MD589/5um/256-512_0-256_128-192 to s3://test-bucket-sid/final_precomputed_volumes/MD589/5um/256-512_0-256_128-192\n",
      "upload: ../../../../../../mnt/x/temp_s3_download/volumes/precomputed/MD589/5um/256-512_0-256_0-64 to s3://test-bucket-sid/final_precomputed_volumes/MD589/5um/256-512_0-256_0-64\n",
      "upload: ../../../../../../mnt/x/temp_s3_download/volumes/precomputed/MD589/5um/256-512_0-256_192-256 to s3://test-bucket-sid/final_precomputed_volumes/MD589/5um/256-512_0-256_192-256\n",
      "upload: ../../../../../../mnt/x/temp_s3_download/volumes/precomputed/MD589/5um/256-512_0-256_256-288 to s3://test-bucket-sid/final_precomputed_volumes/MD589/5um/256-512_0-256_256-288\n",
      "upload: ../../../../../../mnt/x/temp_s3_download/volumes/precomputed/MD589/5um/1024-1280_768-1024_256-288 to s3://test-bucket-sid/final_precomputed_volumes/MD589/5um/1024-1280_768-1024_256-288\n",
      "upload: ../../../../../../mnt/x/temp_s3_download/volumes/precomputed/MD589/5um/256-512_0-256_64-128 to s3://test-bucket-sid/final_precomputed_volumes/MD589/5um/256-512_0-256_64-128\n",
      "upload: ../../../../../../mnt/x/temp_s3_download/volumes/precomputed/MD589/5um/256-512_1024-1099_0-64 to s3://test-bucket-sid/final_precomputed_volumes/MD589/5um/256-512_1024-1099_0-64\n",
      "upload: ../../../../../../mnt/x/temp_s3_download/volumes/precomputed/MD589/5um/256-512_1024-1099_192-256 to s3://test-bucket-sid/final_precomputed_volumes/MD589/5um/256-512_1024-1099_192-256\n",
      "upload: ../../../../../../mnt/x/temp_s3_download/volumes/precomputed/MD589/5um/256-512_1024-1099_256-288 to s3://test-bucket-sid/final_precomputed_volumes/MD589/5um/256-512_1024-1099_256-288\n",
      "upload: ../../../../../../mnt/x/temp_s3_download/volumes/precomputed/MD589/5um/256-512_1024-1099_128-192 to s3://test-bucket-sid/final_precomputed_volumes/MD589/5um/256-512_1024-1099_128-192\n",
      "upload: ../../../../../../mnt/x/temp_s3_download/volumes/precomputed/MD589/5um/256-512_1024-1099_64-128 to s3://test-bucket-sid/final_precomputed_volumes/MD589/5um/256-512_1024-1099_64-128\n",
      "upload: ../../../../../../mnt/x/temp_s3_download/volumes/precomputed/MD589/5um/256-512_256-512_0-64 to s3://test-bucket-sid/final_precomputed_volumes/MD589/5um/256-512_256-512_0-64\n",
      "upload: ../../../../../../mnt/x/temp_s3_download/volumes/precomputed/MD589/5um/256-512_256-512_128-192 to s3://test-bucket-sid/final_precomputed_volumes/MD589/5um/256-512_256-512_128-192\n",
      "upload: ../../../../../../mnt/x/temp_s3_download/volumes/precomputed/MD589/5um/256-512_256-512_256-288 to s3://test-bucket-sid/final_precomputed_volumes/MD589/5um/256-512_256-512_256-288\n",
      "upload: ../../../../../../mnt/x/temp_s3_download/volumes/precomputed/MD589/5um/256-512_256-512_64-128 to s3://test-bucket-sid/final_precomputed_volumes/MD589/5um/256-512_256-512_64-128\n"
     ]
    },
    {
     "name": "stdout",
     "output_type": "stream",
     "text": [
      "upload: ../../../../../../mnt/x/temp_s3_download/volumes/precomputed/MD589/5um/256-512_512-768_0-64 to s3://test-bucket-sid/final_precomputed_volumes/MD589/5um/256-512_512-768_0-64\n",
      "upload: ../../../../../../mnt/x/temp_s3_download/volumes/precomputed/MD589/5um/256-512_768-1024_0-64 to s3://test-bucket-sid/final_precomputed_volumes/MD589/5um/256-512_768-1024_0-64\n",
      "upload: ../../../../../../mnt/x/temp_s3_download/volumes/precomputed/MD589/5um/1024-1280_768-1024_192-256 to s3://test-bucket-sid/final_precomputed_volumes/MD589/5um/1024-1280_768-1024_192-256\n",
      "upload: ../../../../../../mnt/x/temp_s3_download/volumes/precomputed/MD589/5um/256-512_768-1024_128-192 to s3://test-bucket-sid/final_precomputed_volumes/MD589/5um/256-512_768-1024_128-192\n",
      "upload: ../../../../../../mnt/x/temp_s3_download/volumes/precomputed/MD589/5um/256-512_512-768_192-256 to s3://test-bucket-sid/final_precomputed_volumes/MD589/5um/256-512_512-768_192-256\n",
      "upload: ../../../../../../mnt/x/temp_s3_download/volumes/precomputed/MD589/5um/256-512_512-768_256-288 to s3://test-bucket-sid/final_precomputed_volumes/MD589/5um/256-512_512-768_256-288\n",
      "upload: ../../../../../../mnt/x/temp_s3_download/volumes/precomputed/MD589/5um/256-512_768-1024_64-128 to s3://test-bucket-sid/final_precomputed_volumes/MD589/5um/256-512_768-1024_64-128\n",
      "upload: ../../../../../../mnt/x/temp_s3_download/volumes/precomputed/MD589/5um/512-768_0-256_128-192 to s3://test-bucket-sid/final_precomputed_volumes/MD589/5um/512-768_0-256_128-192\n",
      "upload: ../../../../../../mnt/x/temp_s3_download/volumes/precomputed/MD589/5um/512-768_0-256_0-64 to s3://test-bucket-sid/final_precomputed_volumes/MD589/5um/512-768_0-256_0-64\n",
      "upload: ../../../../../../mnt/x/temp_s3_download/volumes/precomputed/MD589/5um/256-512_256-512_192-256 to s3://test-bucket-sid/final_precomputed_volumes/MD589/5um/256-512_256-512_192-256\n",
      "upload: ../../../../../../mnt/x/temp_s3_download/volumes/precomputed/MD589/5um/512-768_0-256_256-288 to s3://test-bucket-sid/final_precomputed_volumes/MD589/5um/512-768_0-256_256-288\n",
      "upload: ../../../../../../mnt/x/temp_s3_download/volumes/precomputed/MD589/5um/512-768_0-256_192-256 to s3://test-bucket-sid/final_precomputed_volumes/MD589/5um/512-768_0-256_192-256\n",
      "upload: ../../../../../../mnt/x/temp_s3_download/volumes/precomputed/MD589/5um/512-768_0-256_64-128 to s3://test-bucket-sid/final_precomputed_volumes/MD589/5um/512-768_0-256_64-128\n",
      "upload: ../../../../../../mnt/x/temp_s3_download/volumes/precomputed/MD589/5um/256-512_768-1024_256-288 to s3://test-bucket-sid/final_precomputed_volumes/MD589/5um/256-512_768-1024_256-288\n",
      "upload: ../../../../../../mnt/x/temp_s3_download/volumes/precomputed/MD589/5um/256-512_512-768_128-192 to s3://test-bucket-sid/final_precomputed_volumes/MD589/5um/256-512_512-768_128-192\n",
      "upload: ../../../../../../mnt/x/temp_s3_download/volumes/precomputed/MD589/5um/256-512_768-1024_192-256 to s3://test-bucket-sid/final_precomputed_volumes/MD589/5um/256-512_768-1024_192-256\n",
      "upload: ../../../../../../mnt/x/temp_s3_download/volumes/precomputed/MD589/5um/512-768_1024-1099_128-192 to s3://test-bucket-sid/final_precomputed_volumes/MD589/5um/512-768_1024-1099_128-192\n",
      "upload: ../../../../../../mnt/x/temp_s3_download/volumes/precomputed/MD589/5um/512-768_1024-1099_256-288 to s3://test-bucket-sid/final_precomputed_volumes/MD589/5um/512-768_1024-1099_256-288\n",
      "upload: ../../../../../../mnt/x/temp_s3_download/volumes/precomputed/MD589/5um/512-768_1024-1099_64-128 to s3://test-bucket-sid/final_precomputed_volumes/MD589/5um/512-768_1024-1099_64-128\n",
      "upload: ../../../../../../mnt/x/temp_s3_download/volumes/precomputed/MD589/5um/512-768_1024-1099_0-64 to s3://test-bucket-sid/final_precomputed_volumes/MD589/5um/512-768_1024-1099_0-64\n",
      "upload: ../../../../../../mnt/x/temp_s3_download/volumes/precomputed/MD589/5um/512-768_1024-1099_192-256 to s3://test-bucket-sid/final_precomputed_volumes/MD589/5um/512-768_1024-1099_192-256\n",
      "upload: ../../../../../../mnt/x/temp_s3_download/volumes/precomputed/MD589/5um/512-768_256-512_0-64 to s3://test-bucket-sid/final_precomputed_volumes/MD589/5um/512-768_256-512_0-64\n",
      "upload: ../../../../../../mnt/x/temp_s3_download/volumes/precomputed/MD589/5um/512-768_256-512_128-192 to s3://test-bucket-sid/final_precomputed_volumes/MD589/5um/512-768_256-512_128-192\n",
      "upload: ../../../../../../mnt/x/temp_s3_download/volumes/precomputed/MD589/5um/512-768_256-512_256-288 to s3://test-bucket-sid/final_precomputed_volumes/MD589/5um/512-768_256-512_256-288\n",
      "upload: ../../../../../../mnt/x/temp_s3_download/volumes/precomputed/MD589/5um/512-768_256-512_64-128 to s3://test-bucket-sid/final_precomputed_volumes/MD589/5um/512-768_256-512_64-128\n",
      "upload: ../../../../../../mnt/x/temp_s3_download/volumes/precomputed/MD589/5um/512-768_512-768_128-192 to s3://test-bucket-sid/final_precomputed_volumes/MD589/5um/512-768_512-768_128-192\n",
      "upload: ../../../../../../mnt/x/temp_s3_download/volumes/precomputed/MD589/5um/512-768_512-768_0-64 to s3://test-bucket-sid/final_precomputed_volumes/MD589/5um/512-768_512-768_0-64\n",
      "upload: ../../../../../../mnt/x/temp_s3_download/volumes/precomputed/MD589/5um/512-768_768-1024_192-256 to s3://test-bucket-sid/final_precomputed_volumes/MD589/5um/512-768_768-1024_192-256\n",
      "upload: ../../../../../../mnt/x/temp_s3_download/volumes/precomputed/MD589/5um/512-768_512-768_64-128 to s3://test-bucket-sid/final_precomputed_volumes/MD589/5um/512-768_512-768_64-128\n",
      "upload: ../../../../../../mnt/x/temp_s3_download/volumes/precomputed/MD589/5um/512-768_768-1024_256-288 to s3://test-bucket-sid/final_precomputed_volumes/MD589/5um/512-768_768-1024_256-288\n",
      "upload: ../../../../../../mnt/x/temp_s3_download/volumes/precomputed/MD589/5um/512-768_768-1024_64-128 to s3://test-bucket-sid/final_precomputed_volumes/MD589/5um/512-768_768-1024_64-128\n",
      "upload: ../../../../../../mnt/x/temp_s3_download/volumes/precomputed/MD589/5um/512-768_256-512_192-256 to s3://test-bucket-sid/final_precomputed_volumes/MD589/5um/512-768_256-512_192-256\n",
      "upload: ../../../../../../mnt/x/temp_s3_download/volumes/precomputed/MD589/5um/768-1024_0-256_0-64 to s3://test-bucket-sid/final_precomputed_volumes/MD589/5um/768-1024_0-256_0-64\n",
      "upload: ../../../../../../mnt/x/temp_s3_download/volumes/precomputed/MD589/5um/768-1024_0-256_192-256 to s3://test-bucket-sid/final_precomputed_volumes/MD589/5um/768-1024_0-256_192-256\n",
      "upload: ../../../../../../mnt/x/temp_s3_download/volumes/precomputed/MD589/5um/512-768_512-768_192-256 to s3://test-bucket-sid/final_precomputed_volumes/MD589/5um/512-768_512-768_192-256\n",
      "upload: ../../../../../../mnt/x/temp_s3_download/volumes/precomputed/MD589/5um/768-1024_0-256_128-192 to s3://test-bucket-sid/final_precomputed_volumes/MD589/5um/768-1024_0-256_128-192\n",
      "upload: ../../../../../../mnt/x/temp_s3_download/volumes/precomputed/MD589/5um/768-1024_0-256_256-288 to s3://test-bucket-sid/final_precomputed_volumes/MD589/5um/768-1024_0-256_256-288\n",
      "upload: ../../../../../../mnt/x/temp_s3_download/volumes/precomputed/MD589/5um/768-1024_0-256_64-128 to s3://test-bucket-sid/final_precomputed_volumes/MD589/5um/768-1024_0-256_64-128\n",
      "upload: ../../../../../../mnt/x/temp_s3_download/volumes/precomputed/MD589/5um/768-1024_1024-1099_192-256 to s3://test-bucket-sid/final_precomputed_volumes/MD589/5um/768-1024_1024-1099_192-256\n",
      "upload: ../../../../../../mnt/x/temp_s3_download/volumes/precomputed/MD589/5um/768-1024_1024-1099_0-64 to s3://test-bucket-sid/final_precomputed_volumes/MD589/5um/768-1024_1024-1099_0-64\n",
      "upload: ../../../../../../mnt/x/temp_s3_download/volumes/precomputed/MD589/5um/768-1024_1024-1099_128-192 to s3://test-bucket-sid/final_precomputed_volumes/MD589/5um/768-1024_1024-1099_128-192\n",
      "upload: ../../../../../../mnt/x/temp_s3_download/volumes/precomputed/MD589/5um/768-1024_1024-1099_256-288 to s3://test-bucket-sid/final_precomputed_volumes/MD589/5um/768-1024_1024-1099_256-288\n",
      "upload: ../../../../../../mnt/x/temp_s3_download/volumes/precomputed/MD589/5um/768-1024_256-512_0-64 to s3://test-bucket-sid/final_precomputed_volumes/MD589/5um/768-1024_256-512_0-64\n",
      "upload: ../../../../../../mnt/x/temp_s3_download/volumes/precomputed/MD589/5um/768-1024_1024-1099_64-128 to s3://test-bucket-sid/final_precomputed_volumes/MD589/5um/768-1024_1024-1099_64-128\n",
      "upload: ../../../../../../mnt/x/temp_s3_download/volumes/precomputed/MD589/5um/512-768_768-1024_128-192 to s3://test-bucket-sid/final_precomputed_volumes/MD589/5um/512-768_768-1024_128-192\n"
     ]
    },
    {
     "name": "stdout",
     "output_type": "stream",
     "text": [
      "upload: ../../../../../../mnt/x/temp_s3_download/volumes/precomputed/MD589/5um/768-1024_256-512_128-192 to s3://test-bucket-sid/final_precomputed_volumes/MD589/5um/768-1024_256-512_128-192\n",
      "upload: ../../../../../../mnt/x/temp_s3_download/volumes/precomputed/MD589/5um/512-768_768-1024_0-64 to s3://test-bucket-sid/final_precomputed_volumes/MD589/5um/512-768_768-1024_0-64\n",
      "upload: ../../../../../../mnt/x/temp_s3_download/volumes/precomputed/MD589/5um/768-1024_256-512_64-128 to s3://test-bucket-sid/final_precomputed_volumes/MD589/5um/768-1024_256-512_64-128\n",
      "upload: ../../../../../../mnt/x/temp_s3_download/volumes/precomputed/MD589/5um/768-1024_256-512_256-288 to s3://test-bucket-sid/final_precomputed_volumes/MD589/5um/768-1024_256-512_256-288\n",
      "upload: ../../../../../../mnt/x/temp_s3_download/volumes/precomputed/MD589/5um/768-1024_512-768_0-64 to s3://test-bucket-sid/final_precomputed_volumes/MD589/5um/768-1024_512-768_0-64\n",
      "upload: ../../../../../../mnt/x/temp_s3_download/volumes/precomputed/MD589/5um/768-1024_256-512_192-256 to s3://test-bucket-sid/final_precomputed_volumes/MD589/5um/768-1024_256-512_192-256\n",
      "upload: ../../../../../../mnt/x/temp_s3_download/volumes/precomputed/MD589/5um/256-512_512-768_64-128 to s3://test-bucket-sid/final_precomputed_volumes/MD589/5um/256-512_512-768_64-128\n",
      "upload: ../../../../../../mnt/x/temp_s3_download/volumes/precomputed/MD589/5um/768-1024_512-768_128-192 to s3://test-bucket-sid/final_precomputed_volumes/MD589/5um/768-1024_512-768_128-192\n",
      "upload: ../../../../../../mnt/x/temp_s3_download/volumes/precomputed/MD589/5um/768-1024_512-768_256-288 to s3://test-bucket-sid/final_precomputed_volumes/MD589/5um/768-1024_512-768_256-288\n",
      "upload: ../../../../../../mnt/x/temp_s3_download/volumes/precomputed/MD589/5um/768-1024_768-1024_128-192 to s3://test-bucket-sid/final_precomputed_volumes/MD589/5um/768-1024_768-1024_128-192\n",
      "upload: ../../../../../../mnt/x/temp_s3_download/volumes/precomputed/MD589/5um/768-1024_768-1024_0-64 to s3://test-bucket-sid/final_precomputed_volumes/MD589/5um/768-1024_768-1024_0-64\n",
      "upload: ../../../../../../mnt/x/temp_s3_download/volumes/precomputed/MD589/5um/768-1024_768-1024_192-256 to s3://test-bucket-sid/final_precomputed_volumes/MD589/5um/768-1024_768-1024_192-256\n",
      "upload: ../../../../../../mnt/x/temp_s3_download/volumes/precomputed/MD589/5um/768-1024_768-1024_256-288 to s3://test-bucket-sid/final_precomputed_volumes/MD589/5um/768-1024_768-1024_256-288\n",
      "upload: ../../../../../../mnt/x/temp_s3_download/volumes/precomputed/MD589/info to s3://test-bucket-sid/final_precomputed_volumes/MD589/info\n",
      "upload: ../../../../../../mnt/x/temp_s3_download/volumes/precomputed/MD589/5um/768-1024_512-768_64-128 to s3://test-bucket-sid/final_precomputed_volumes/MD589/5um/768-1024_512-768_64-128\n",
      "upload: ../../../../../../mnt/x/temp_s3_download/volumes/precomputed/MD589/info_fullres.json to s3://test-bucket-sid/final_precomputed_volumes/MD589/info_fullres.json\n",
      "upload: ../../../../../../mnt/x/temp_s3_download/volumes/precomputed/MD589/transform.json to s3://test-bucket-sid/final_precomputed_volumes/MD589/transform.json\n",
      "upload: ../../../../../../mnt/x/temp_s3_download/volumes/precomputed/MD589/5um/768-1024_512-768_192-256 to s3://test-bucket-sid/final_precomputed_volumes/MD589/5um/768-1024_512-768_192-256\n",
      "upload: ../../../../../../mnt/x/temp_s3_download/volumes/precomputed/MD589/5um/768-1024_768-1024_64-128 to s3://test-bucket-sid/final_precomputed_volumes/MD589/5um/768-1024_768-1024_64-128\n",
      "upload: ../../../../../../mnt/x/temp_s3_download/volumes/precomputed/MD589/5um/512-768_512-768_256-288 to s3://test-bucket-sid/final_precomputed_volumes/MD589/5um/512-768_512-768_256-288\n",
      "upload: ../../../../../../mnt/x/temp_s3_download/volumes/precomputed/MD589/vol_color.nii to s3://test-bucket-sid/final_precomputed_volumes/MD589/vol_color.nii\n"
     ]
    }
   ],
   "source": [
    "out_dir = '/mnt/x/temp_s3_download/volumes/precomputed/'+stack+'/'\n",
    "! aws s3 cp --recursive $out_dir s3://test-bucket-sid/final_precomputed_volumes/$stack/"
   ]
  },
  {
   "cell_type": "code",
   "execution_count": null,
   "metadata": {},
   "outputs": [],
   "source": []
  },
  {
   "cell_type": "code",
   "execution_count": 9,
   "metadata": {},
   "outputs": [],
   "source": [
    "def get_bucket(s3_creds_file, bucket_name):\n",
    "    with open(s3_creds_file) as f:\n",
    "        creds = json.load(f)\n",
    "        aws_access_key_id = creds['access_key']\n",
    "        aws_secret_access_key = creds['secret_key']\n",
    "\n",
    "    session = boto3.Session(\n",
    "        aws_access_key_id = aws_access_key_id,\n",
    "        aws_secret_access_key = aws_secret_access_key,)\n",
    "    s3 = session.resource('s3')\n",
    "    return s3.Bucket(bucket_name)\n",
    "\n",
    "\n",
    "def upload_directory_to_s3(s3_creds_file, bucket_name, dir_to_write_from, s3_dir_to_write_to, overwrite=True):\n",
    "    bucket = get_bucket(s3_creds_file, bucket_name)\n",
    "    dir_to_write_from = '{0}'.format(pathlib.Path(dir_to_write_from))\n",
    "    # write the whole directory onto S3 bucket, upload files\n",
    "    for subdir, dirs, files in os.walk(dir_to_write_from):\n",
    "        print('Uploading: {0}'.format(subdir))\n",
    "        for file in files:\n",
    "            full_path = os.path.join(subdir, file)\n",
    "            fp_s3 = re.sub(r'\\\\', '/', full_path)\n",
    "            f_key = ''.join([s3_dir_to_write_to, re.sub(re.sub(r'\\\\', '/', dir_to_write_from), '', fp_s3)])\n",
    "\n",
    "            if not overwrite:\n",
    "                obj_keys = [obj.key for obj in bucket.objects.filter(Prefix = f_key)]\n",
    "                if len(obj_keys) == 0:\n",
    "                    bucket.upload_file(full_path, f_key)\n",
    "            else:\n",
    "                bucket.upload_file(full_path, f_key)"
   ]
  },
  {
   "cell_type": "code",
   "execution_count": null,
   "metadata": {},
   "outputs": [],
   "source": []
  }
 ],
 "metadata": {
  "kernelspec": {
   "display_name": "Python 3",
   "language": "python",
   "name": "python3"
  },
  "language_info": {
   "codemirror_mode": {
    "name": "ipython",
    "version": 3
   },
   "file_extension": ".py",
   "mimetype": "text/x-python",
   "name": "python",
   "nbconvert_exporter": "python",
   "pygments_lexer": "ipython3",
   "version": "3.6.8"
  }
 },
 "nbformat": 4,
 "nbformat_minor": 2
}
