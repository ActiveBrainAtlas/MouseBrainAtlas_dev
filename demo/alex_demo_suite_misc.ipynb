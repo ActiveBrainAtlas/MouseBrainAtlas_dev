{
 "cells": [
  {
   "cell_type": "code",
   "execution_count": 1,
   "metadata": {},
   "outputs": [
    {
     "name": "stderr",
     "output_type": "stream",
     "text": [
      "ENABLE_UPLOAD_S3 is not set, default to False.\n",
      "ENABLE_DOWNLOAD_S3 is not set, default to False.\n"
     ]
    },
    {
     "name": "stdout",
     "output_type": "stream",
     "text": [
      "Setting environment for Precision WorkStation for Alex Newberry\n",
      "{'DEMO998': 0.46}\n"
     ]
    },
    {
     "name": "stderr",
     "output_type": "stream",
     "text": [
      "No vtk\n",
      "Seems you are using operation INIs to provide cropbox.\n",
      "Seems you are using operation INIs to provide cropbox.\n"
     ]
    }
   ],
   "source": [
    "# Setup\n",
    "import os\n",
    "import sys\n",
    "import numpy as np\n",
    "\n",
    "sys.path.append(os.path.join(os.environ['REPO_DIR'], 'utilities'))\n",
    "from utilities2015 import *\n",
    "from metadata import *\n",
    "from data_manager import *\n",
    "\n",
    "import matplotlib.pyplot as plt\n",
    "%matplotlib inline"
   ]
  },
  {
   "cell_type": "markdown",
   "metadata": {},
   "source": [
    "# Annotation GUI"
   ]
  },
  {
   "cell_type": "code",
   "execution_count": 7,
   "metadata": {},
   "outputs": [
    {
     "name": "stdout",
     "output_type": "stream",
     "text": [
      "ENABLE_UPLOAD_S3 is not set, default to False.\n",
      "ENABLE_DOWNLOAD_S3 is not set, default to False.\n",
      "Setting environment for Precision WorkStation for Alex Newberry\n",
      "{'DEMO998': 0.46}\n",
      "No vtk\n",
      "No mcubes\n",
      "Seems you are using operation INIs to provide cropbox.\n",
      "Seems you are using operation INIs to provide cropbox.\n",
      "/home/alexn/brainDev/src/utilities/utilities2015.py:532: FutureWarning: Using a non-tuple sequence for multidimensional indexing is deprecated; use `arr[tuple(seq)]` instead of `arr[seq]`. In the future this will be interpreted as an array index, `arr[np.array(seq)]`, which will result either in an error or a different result.\n",
      "  np.floor(np.arange(0, v.shape[2], 1./scaling)).astype(np.int), indexing='ij')]\n",
      "Intensity volume (365, 829, 12)\n",
      "main_sagittal: Set probabilistic structure volumes resolution to 8.0 um\n",
      "tb_coronal: Set probabilistic structure volumes resolution to 8.0 um\n",
      "tb_horizontal: Set probabilistic structure volumes resolution to 8.0 um\n",
      "tb_sagittal: Set probabilistic structure volumes resolution to 8.0 um\n",
      "resolution set to raw\n",
      "Failed to compute dimension for datafeeder image feeder.\n",
      "Failed to compute dimension for datafeeder image feeder.\n",
      "main_sagittalWorker thread: <DataFeeder.ReadImagesThread object at 0x7f7d05d67e90>\n",
      " : Set active section to 85\n",
      "main_sagittal : Set active index to 0 , emit_changed_signal True\n",
      "main_sagittal : Set active section to 85\n",
      "image feeder: Image data for section 85 has not been loaded yet.\n",
      "image feeder: Looking at active set and loaded sections.\n",
      "ReadImageThread: update_active_set, load [85], drop []\n",
      "Traceback (most recent call last):\n",
      "  File \"/home/alexn/brainDev/src/gui/DataFeeder.py\", line 104, in update_active_set\n",
      "    qimage = load_qimage(stack=self.stack, sec=sec, prep_id=self.prep_id, resolution=self.resolution, img_version=self.img_version)\n",
      "  File \"/home/alexn/brainDev/src/gui/DataFeeder.py\", line 35, in load_qimage\n",
      "    fp = DataManager.get_image_filepath_v2(stack=stack, section=sec, prep_id=prep_id, resol=resolution, version=img_version)\n",
      "  File \"/home/alexn/brainDev/src/utilities/data_manager.py\", line 4822, in get_image_filepath_v2\n",
      "    raise Exception('Section %d is not specified in sorted list.' % section)\n",
      "Exception: Section 85 is not specified in sorted list.\n",
      "wait for image to load: 1.00 seconds\n",
      "Failed to update image: Cannot retrieve image 85.\n",
      "Seems you are using operation INIs to provide cropbox.\n",
      "tb_sagittal\n",
      "tb_sagittal : Set active index to 0 , emit_changed_signal True\n",
      "data_feeder.retrieve: 0.00 seconds.\n",
      "convertFromImage: 0.00 seconds.\n",
      "setPixmap: 0.00 seconds.\n",
      "setVisible: 0.00 seconds.\n",
      "tb_coronal\n",
      "tb_coronal : Set active index to 0 , emit_changed_signal True\n",
      "data_feeder.retrieve: 0.00 seconds.\n",
      "convertFromImage: 0.00 seconds.\n",
      "setPixmap: 0.00 seconds.\n",
      "setVisible: 0.00 seconds.\n",
      "tb_horizontal\n",
      "tb_horizontal : Set active index to 0 , emit_changed_signal True\n",
      "data_feeder.retrieve: 0.00 seconds.\n",
      "convertFromImage: 0.00 seconds.\n",
      "setPixmap: 0.00 seconds.\n",
      "setVisible: 0.00 seconds.\n"
     ]
    }
   ],
   "source": [
    "! python ../src/gui/brain_labeling_gui_v28.py DEMO998 --resolution raw --prep 2 --img_version jpeg"
   ]
  },
  {
   "cell_type": "code",
   "execution_count": null,
   "metadata": {
    "collapsed": true
   },
   "outputs": [],
   "source": [
    "! python ../src/gui/brain_labeling_gui_v28.py DEMO998 --resolution raw --prep 2"
   ]
  },
  {
   "cell_type": "markdown",
   "metadata": {},
   "source": [
    "# Streamlined ini file creation"
   ]
  },
  {
   "cell_type": "code",
   "execution_count": 20,
   "metadata": {
    "collapsed": true
   },
   "outputs": [],
   "source": [
    "# Creates input_spec.ini file\n",
    "def create_input_spec_ini( name, image_name_list, stack, prep_id, version, resol  ):\n",
    "    f = open(name, \"w\")\n",
    "    \n",
    "    f.write('[DEFAULT]\\n')\n",
    "    f.write('image_name_list = '+image_name_list[0]+'\\n')\n",
    "    for i in range ( 1 , len(image_name_list) ):\n",
    "        f.write('    '+image_name_list[i]+'\\n')\n",
    "    f.write('stack = '+stack+'\\n')\n",
    "    f.write('prep_id = '+prep_id+'\\n')\n",
    "    f.write('version = '+version+'\\n')\n",
    "    f.write('resol = '+resol+'\\n')"
   ]
  },
  {
   "cell_type": "markdown",
   "metadata": {},
   "source": [
    "# Rotating sections of UCSD001\n",
    "\n",
    "For the files: UCSD001_slide001_2018_09_03-S1, UCSD001_slide001_2018_09_03-S2\n",
    "\n",
    "This rotates each file 270 degrees."
   ]
  },
  {
   "cell_type": "code",
   "execution_count": null,
   "metadata": {
    "collapsed": true
   },
   "outputs": [],
   "source": [
    "os.environ['DATA_ROOTDIR'] = '/media/alexn/BstemAtlasDataBackup/ucsd_brain/'"
   ]
  },
  {
   "cell_type": "code",
   "execution_count": 21,
   "metadata": {
    "collapsed": true
   },
   "outputs": [],
   "source": [
    "image_name_list = ['UCSD001_slide001_2018_09_03-S1', 'UCSD001_slide001_2018_09_03-S2']\n",
    "create_input_spec_ini( name='input_spec.ini', image_name_list=image_name_list, stack='UCSD001', \\\n",
    "           prep_id='rawBeforeRotation', version='None', resol='raw')"
   ]
  },
  {
   "cell_type": "code",
   "execution_count": 22,
   "metadata": {},
   "outputs": [
    {
     "name": "stdout",
     "output_type": "stream",
     "text": [
      "Overwriting input_spec.ini\n"
     ]
    }
   ],
   "source": [
    "%%writefile input_spec.ini\n",
    "[DEFAULT]\n",
    "image_name_list = UCSD001_slide001_2018_09_03-S1\n",
    "    UCSD001_slide001_2018_09_03-S2\n",
    "stack = UCSD001\n",
    "prep_id = rawBeforeRotation\n",
    "version = None\n",
    "resol = raw"
   ]
  },
  {
   "cell_type": "code",
   "execution_count": null,
   "metadata": {
    "collapsed": true
   },
   "outputs": [],
   "source": [
    "%%writefile /media/alexn/BstemAtlasDataBackup/ucsd_brain/CSHL_data_processed/UCSD001/operation_configs/rotate270.ini\n",
    "[DEFAULT]\n",
    "type=rotate\n",
    "how=rotate270\n",
    "\n",
    "base_prep_id=rawBeforeRotation\n",
    "dest_prep_id=raw"
   ]
  },
  {
   "cell_type": "code",
   "execution_count": null,
   "metadata": {
    "collapsed": true
   },
   "outputs": [],
   "source": [
    "! python warp_crop.py --input_spec input_spec.ini --op_id 'rotate270'"
   ]
  },
  {
   "cell_type": "markdown",
   "metadata": {},
   "source": [
    "# Renaming UCSD001 sections"
   ]
  },
  {
   "cell_type": "code",
   "execution_count": null,
   "metadata": {},
   "outputs": [
    {
     "name": "stdout",
     "output_type": "stream",
     "text": [
      "260 done out of 474\n",
      "\n",
      "\n",
      "261 done out of 474\n",
      "\n",
      "\n",
      "262 done out of 474\n",
      "\n",
      "\n",
      "263 done out of 474\n",
      "\n",
      "\n",
      "264 done out of 474\n",
      "\n",
      "\n",
      "265 done out of 474\n",
      "\n",
      "\n",
      "266 done out of 474\n",
      "\n",
      "\n",
      "267 done out of 474\n",
      "\n",
      "\n",
      "268 done out of 474\n",
      "\n",
      "\n",
      "269 done out of 474\n",
      "\n",
      "\n",
      "270 done out of 474\n",
      "\n",
      "\n",
      "271 done out of 474\n",
      "\n",
      "\n",
      "272 done out of 474\n",
      "\n",
      "\n",
      "273 done out of 474\n",
      "\n",
      "\n",
      "274 done out of 474\n",
      "\n",
      "\n",
      "275 done out of 474\n",
      "\n",
      "\n",
      "276 done out of 474\n",
      "\n",
      "\n",
      "277 done out of 474\n",
      "\n",
      "\n",
      "278 done out of 474\n",
      "\n",
      "\n",
      "279 done out of 474\n",
      "\n",
      "\n",
      "280 done out of 474\n",
      "\n",
      "\n",
      "281 done out of 474\n",
      "\n",
      "\n",
      "282 done out of 474\n",
      "\n",
      "\n",
      "283 done out of 474\n",
      "\n",
      "\n",
      "284 done out of 474\n",
      "\n",
      "\n",
      "285 done out of 474\n",
      "\n",
      "\n",
      "286 done out of 474\n",
      "\n",
      "\n",
      "287 done out of 474\n",
      "\n",
      "\n",
      "288 done out of 474\n",
      "\n",
      "\n",
      "289 done out of 474\n",
      "\n",
      "\n",
      "290 done out of 474\n",
      "\n",
      "\n",
      "291 done out of 474\n",
      "\n",
      "\n",
      "292 done out of 474\n",
      "\n",
      "\n",
      "293 done out of 474\n",
      "\n",
      "\n",
      "294 done out of 474\n",
      "\n",
      "\n",
      "295 done out of 474\n",
      "\n",
      "\n",
      "296 done out of 474\n",
      "\n",
      "\n",
      "297 done out of 474\n",
      "\n",
      "\n",
      "298 done out of 474\n",
      "\n",
      "\n",
      "299 done out of 474\n",
      "\n",
      "\n",
      "300 done out of 474\n",
      "\n",
      "\n",
      "301 done out of 474\n",
      "\n",
      "\n",
      "302 done out of 474\n",
      "\n",
      "\n",
      "303 done out of 474\n",
      "\n",
      "\n",
      "304 done out of 474\n",
      "\n",
      "\n",
      "305 done out of 474\n",
      "\n",
      "\n",
      "306 done out of 474\n",
      "\n",
      "\n",
      "307 done out of 474\n",
      "\n",
      "\n",
      "308 done out of 474\n",
      "\n",
      "\n",
      "309 done out of 474\n",
      "\n",
      "\n",
      "310 done out of 474\n",
      "\n",
      "\n",
      "311 done out of 474\n",
      "\n",
      "\n",
      "312 done out of 474\n",
      "\n",
      "\n",
      "313 done out of 474\n",
      "\n",
      "\n",
      "314 done out of 474\n",
      "\n",
      "\n",
      "315 done out of 474\n",
      "\n",
      "\n",
      "316 done out of 474\n",
      "\n",
      "\n",
      "317 done out of 474\n",
      "\n",
      "\n",
      "318 done out of 474\n",
      "\n",
      "\n",
      "319 done out of 474\n",
      "\n",
      "\n"
     ]
    }
   ],
   "source": [
    "fp = '/nfs/birdstore-brainbucket1/Active_Atlas_Data/UCSD_AxioScanner/20180129-04_Neurotrace_TIF/'\n",
    "text_file = '20180129-04_finished.txt'\n",
    "name_og = '20180129-04'\n",
    "name_new = 'UCSD001'\n",
    "thumb_str = '_sml.tif'\n",
    "\n",
    "fp_dest = '/nfs/birdstore-brainbucket1/Active_Atlas_Data/UCSD_AxioScanner/UCSD001_prep7_raw_None/'\n",
    "\n",
    "list_of_files = ! ls $fp\n",
    "\n",
    "i = 0\n",
    "\n",
    "for fileName in list_of_files:\n",
    "    i = i + 1\n",
    "    if fileName == '20180129-04_finished.txt' or i<260:\n",
    "        continue\n",
    "    \n",
    "    #print 'fn: '+fileName\n",
    "    newFilesName = name_new+fileName[11:-4]+'_prep7_raw_None.tif'\n",
    "    #print 'newfn: '+newFilesName+'\\n\\n'\n",
    "    ! cp $fp$fileName $fp_dest$newFilesName\n",
    "    \n",
    "    pct = long(i/len(list_of_files))\n",
    "    print str(i) + ' done out of ' + str(len(list_of_files)) + '\\n\\n'"
   ]
  },
  {
   "cell_type": "code",
   "execution_count": null,
   "metadata": {
    "collapsed": true
   },
   "outputs": [],
   "source": []
  }
 ],
 "metadata": {
  "kernelspec": {
   "display_name": "Python 2",
   "language": "python",
   "name": "python2"
  },
  "language_info": {
   "codemirror_mode": {
    "name": "ipython",
    "version": 2
   },
   "file_extension": ".py",
   "mimetype": "text/x-python",
   "name": "python",
   "nbconvert_exporter": "python",
   "pygments_lexer": "ipython2",
   "version": "2.7.12"
  }
 },
 "nbformat": 4,
 "nbformat_minor": 2
}
