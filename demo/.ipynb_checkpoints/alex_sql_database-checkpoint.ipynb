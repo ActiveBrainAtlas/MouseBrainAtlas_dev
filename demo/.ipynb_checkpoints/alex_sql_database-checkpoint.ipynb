{
 "cells": [
  {
   "cell_type": "code",
   "execution_count": 9,
   "metadata": {},
   "outputs": [
    {
     "name": "stdout",
     "output_type": "stream",
     "text": [
      "UCSD001\n"
     ]
    }
   ],
   "source": [
    "mouse1 = {\n",
    "    \"stack_name\": \"UCSD001\",\n",
    "    \"number\": \"2018-0129 04\",\n",
    "    \"Storage\": \"Stock Room -80C\",\n",
    "    \"Genotype\": \"c57 p56\",\n",
    "    \"Gender\": \"M\",\n",
    "    \"Weight\": \"24.4g\",\n",
    "    \"DOB\": \"2017/12/05\",\n",
    "    \"Perfuse date\": \"2018_01_29\",\n",
    "    \"Fix Type\": \"4% PFA\",\n",
    "    \"Fix Date\": \"2018/01/29\",\n",
    "    \"Sucrose Date\": \"2018/01/31\",\n",
    "    \"brain photo\": \"yes\",\n",
    "    \"OCT Freeze Date\": \"2018_02_05\",\n",
    "    \"sectioned\": \"2018_08-18\",\n",
    "    \"slides\": 125,\n",
    "    \"sections\": 540\n",
    "}\n",
    "    \n",
    "    \n",
    "print(mouse1[\"stack_name\"])"
   ]
  },
  {
   "cell_type": "code",
   "execution_count": 12,
   "metadata": {},
   "outputs": [
    {
     "name": "stdout",
     "output_type": "stream",
     "text": [
      "UCSD001_slideXXX_UCSD001_\n"
     ]
    }
   ],
   "source": [
    "print mouse1[\"stack_name\"]+'_slideXXX_'+mouse1[\"stack_name\"]+'_'"
   ]
  },
  {
   "cell_type": "code",
   "execution_count": 14,
   "metadata": {},
   "outputs": [
    {
     "name": "stdout",
     "output_type": "stream",
     "text": [
      "Traceback (most recent call last):\r\n",
      "  File \"../src/gui/mask_editing_tool_v4.py\", line 6, in <module>\r\n",
      "    import matplotlib.pyplot as plt\r\n",
      "  File \"/home/alexn/brainDev/mousebrainatlas_virtualenv/lib/python2.7/site-packages/matplotlib/pyplot.py\", line 115, in <module>\r\n",
      "    _backend_mod, new_figure_manager, draw_if_interactive, _show = pylab_setup()\r\n",
      "  File \"/home/alexn/brainDev/mousebrainatlas_virtualenv/lib/python2.7/site-packages/matplotlib/backends/__init__.py\", line 62, in pylab_setup\r\n",
      "    [backend_name], 0)\r\n",
      "ImportError: No module named ipykernel.pylab.backend_inline\r\n"
     ]
    }
   ],
   "source": [
    "! DATA_ROOTDIR=/media/alexn/BstemAtlasDataBackup/demo/ python ./src/gui/mask_editing_tool_v4.py DEMO998 NtbNormalized"
   ]
  },
  {
   "cell_type": "code",
   "execution_count": null,
   "metadata": {
    "collapsed": true
   },
   "outputs": [],
   "source": []
  }
 ],
 "metadata": {
  "kernelspec": {
   "display_name": "Python 2",
   "language": "python",
   "name": "python2"
  },
  "language_info": {
   "codemirror_mode": {
    "name": "ipython",
    "version": 2
   },
   "file_extension": ".py",
   "mimetype": "text/x-python",
   "name": "python",
   "nbconvert_exporter": "python",
   "pygments_lexer": "ipython2",
   "version": "2.7.12"
  }
 },
 "nbformat": 4,
 "nbformat_minor": 2
}
