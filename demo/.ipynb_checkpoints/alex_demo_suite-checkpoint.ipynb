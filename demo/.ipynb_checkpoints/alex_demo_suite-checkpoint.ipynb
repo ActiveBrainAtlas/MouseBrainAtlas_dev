{
 "cells": [
  {
   "cell_type": "code",
   "execution_count": 5,
   "metadata": {},
   "outputs": [],
   "source": [
    "# os.environ['REPO_DIR']='/home/alexn/brainDev/src/'\n",
    "# os.environ['ROOT_DIR']='/media/alexn/BstemAtlasDataBackup/demo_preprocess/'\n",
    "# os.environ['DATA_ROOTDIR']='/media/alexn/BstemAtlasDataBackup/demo_preprocess/'\n",
    "# os.environ['THUMBNAIL_DATA_ROOTDIR']='/media/alexn/BstemAtlasDataBackup/demo_preprocess/'\n",
    "\n",
    "import os\n",
    "import sys\n",
    "import numpy as np\n",
    "\n",
    "sys.path.append(os.path.join(os.environ['REPO_DIR'], 'utilities'))\n",
    "from utilities2015 import *\n",
    "from metadata import *\n",
    "from data_manager import *\n",
    "\n",
    "import matplotlib.pyplot as plt\n",
    "%matplotlib inline"
   ]
  },
  {
   "cell_type": "markdown",
   "metadata": {},
   "source": [
    "This tutorial walks you through the demo suite."
   ]
  },
  {
   "cell_type": "markdown",
   "metadata": {},
   "source": [
    "# Preprocess"
   ]
  },
  {
   "cell_type": "markdown",
   "metadata": {},
   "source": [
    "# Steps 1-2\n",
    "### 1) Preprocess Setup\n",
    "### 2) Global Intensity Normalization\n"
   ]
  },
  {
   "cell_type": "markdown",
   "metadata": {},
   "source": [
    "First we download the JP2 raw images"
   ]
  },
  {
   "cell_type": "code",
   "execution_count": 14,
   "metadata": {},
   "outputs": [
    {
     "name": "stdout",
     "output_type": "stream",
     "text": [
      "ENABLE_UPLOAD_S3 is not set, default to False.\n",
      "ENABLE_DOWNLOAD_S3 is not set, default to False.\n",
      "Setting environment for Precision WorkStation for Alex Newberry\n",
      "{'DEMO998': 0.46}\n",
      "No anchor.txt is found. Seems we are using the operation ini to provide anchor. Try to load operation ini.\n",
      "No anchor.txt is found. Seems we are using the operation ini to provide anchor. Try to load operation ini.\n",
      "No vtk\n",
      "No mcubes\n",
      "Failed to cache DEMO998 section_limits: ini file /media/alexn/BstemAtlasDataBackup/demo_preprocess/CSHL_data_processed/DEMO998/DEMO998_prep2_sectionLimits.ini does not exist.\n",
      "No anchor.txt is found. Seems we are using the operation ini to provide anchor. Try to load operation ini.\n",
      "Seems you are using operation INIs to provide cropbox.\n",
      "Failed to cache DEMO998 valid_sections/filenames: 'DEMO998'\n",
      "No anchor.txt is found. Seems we are using the operation ini to provide anchor. Try to load operation ini.\n",
      "Seems you are using operation INIs to provide cropbox.\n",
      "wget -N -P \"/media/alexn/BstemAtlasDataBackup/demo_preprocess/jp2_files/DEMO998\" \"https://s3-us-west-1.amazonaws.com/mousebrainatlas-data/jp2_files/DEMO998/MD662&661-F81-2017.06.06-12.44.40_MD661_2_0242_lossless.jp2\"\n",
      "--2018-09-25 15:15:49--  https://s3-us-west-1.amazonaws.com/mousebrainatlas-data/jp2_files/DEMO998/MD662&661-F81-2017.06.06-12.44.40_MD661_2_0242_lossless.jp2\n",
      "Resolving s3-us-west-1.amazonaws.com (s3-us-west-1.amazonaws.com)... 52.219.20.5\n",
      "Connecting to s3-us-west-1.amazonaws.com (s3-us-west-1.amazonaws.com)|52.219.20.5|:443... connected.\n",
      "HTTP request sent, awaiting response... 304 Not Modified\n",
      "File ‘/media/alexn/BstemAtlasDataBackup/demo_preprocess/jp2_files/DEMO998/MD662&661-F81-2017.06.06-12.44.40_MD661_2_0242_lossless.jp2’ not modified on server. Omitting download.\n",
      "\n",
      "return code: 0\n",
      "wget -N -P \"/media/alexn/BstemAtlasDataBackup/demo_preprocess/jp2_files/DEMO998\" \"https://s3-us-west-1.amazonaws.com/mousebrainatlas-data/jp2_files/DEMO998/MD662&661-F84-2017.06.06-14.03.51_MD661_1_0250_lossless.jp2\"\n",
      "--2018-09-25 15:15:49--  https://s3-us-west-1.amazonaws.com/mousebrainatlas-data/jp2_files/DEMO998/MD662&661-F84-2017.06.06-14.03.51_MD661_1_0250_lossless.jp2\n",
      "Resolving s3-us-west-1.amazonaws.com (s3-us-west-1.amazonaws.com)... 52.219.20.5\n",
      "Connecting to s3-us-west-1.amazonaws.com (s3-us-west-1.amazonaws.com)|52.219.20.5|:443... connected.\n",
      "HTTP request sent, awaiting response... 304 Not Modified\n",
      "File ‘/media/alexn/BstemAtlasDataBackup/demo_preprocess/jp2_files/DEMO998/MD662&661-F84-2017.06.06-14.03.51_MD661_1_0250_lossless.jp2’ not modified on server. Omitting download.\n",
      "\n",
      "return code: 0\n",
      "wget -N -P \"/media/alexn/BstemAtlasDataBackup/demo_preprocess/jp2_files/DEMO998\" \"https://s3-us-west-1.amazonaws.com/mousebrainatlas-data/jp2_files/DEMO998/MD662&661-F86-2017.06.06-14.56.48_MD661_2_0257_lossless.jp2\"\n",
      "--2018-09-25 15:15:49--  https://s3-us-west-1.amazonaws.com/mousebrainatlas-data/jp2_files/DEMO998/MD662&661-F86-2017.06.06-14.56.48_MD661_2_0257_lossless.jp2\n",
      "Resolving s3-us-west-1.amazonaws.com (s3-us-west-1.amazonaws.com)... 52.219.20.5\n",
      "Connecting to s3-us-west-1.amazonaws.com (s3-us-west-1.amazonaws.com)|52.219.20.5|:443... connected.\n",
      "HTTP request sent, awaiting response... 304 Not Modified\n",
      "File ‘/media/alexn/BstemAtlasDataBackup/demo_preprocess/jp2_files/DEMO998/MD662&661-F86-2017.06.06-14.56.48_MD661_2_0257_lossless.jp2’ not modified on server. Omitting download.\n",
      "\n",
      "return code: 0\n",
      "wget -N -P \"/media/alexn/BstemAtlasDataBackup/demo_preprocess/mxnet_models/inception-bn-blue\" \"https://s3-us-west-1.amazonaws.com/mousebrainatlas-data/mxnet_models/inception-bn-blue/inception-bn-blue-0000.params\"\n",
      "--2018-09-25 15:15:49--  https://s3-us-west-1.amazonaws.com/mousebrainatlas-data/mxnet_models/inception-bn-blue/inception-bn-blue-0000.params\n",
      "Resolving s3-us-west-1.amazonaws.com (s3-us-west-1.amazonaws.com)... 52.219.20.5\n",
      "Connecting to s3-us-west-1.amazonaws.com (s3-us-west-1.amazonaws.com)|52.219.20.5|:443... connected.\n",
      "HTTP request sent, awaiting response... 304 Not Modified\n",
      "File ‘/media/alexn/BstemAtlasDataBackup/demo_preprocess/mxnet_models/inception-bn-blue/inception-bn-blue-0000.params’ not modified on server. Omitting download.\n",
      "\n",
      "return code: 0\n",
      "wget -N -P \"/media/alexn/BstemAtlasDataBackup/demo_preprocess/mxnet_models/inception-bn-blue\" \"https://s3-us-west-1.amazonaws.com/mousebrainatlas-data/mxnet_models/inception-bn-blue/inception-bn-blue-symbol.json\"\n",
      "--2018-09-25 15:15:49--  https://s3-us-west-1.amazonaws.com/mousebrainatlas-data/mxnet_models/inception-bn-blue/inception-bn-blue-symbol.json\n",
      "Resolving s3-us-west-1.amazonaws.com (s3-us-west-1.amazonaws.com)... 52.219.20.5\n",
      "Connecting to s3-us-west-1.amazonaws.com (s3-us-west-1.amazonaws.com)|52.219.20.5|:443... connected.\n",
      "HTTP request sent, awaiting response... 304 Not Modified\n",
      "File ‘/media/alexn/BstemAtlasDataBackup/demo_preprocess/mxnet_models/inception-bn-blue/inception-bn-blue-symbol.json’ not modified on server. Omitting download.\n",
      "\n",
      "return code: 0\n",
      "wget -N -P \"/media/alexn/BstemAtlasDataBackup/demo_preprocess/mxnet_models/inception-bn-blue\" \"https://s3-us-west-1.amazonaws.com/mousebrainatlas-data/mxnet_models/inception-bn-blue/mean_224.npy\"\n",
      "--2018-09-25 15:15:49--  https://s3-us-west-1.amazonaws.com/mousebrainatlas-data/mxnet_models/inception-bn-blue/mean_224.npy\n",
      "Resolving s3-us-west-1.amazonaws.com (s3-us-west-1.amazonaws.com)... 52.219.20.5\n",
      "Connecting to s3-us-west-1.amazonaws.com (s3-us-west-1.amazonaws.com)|52.219.20.5|:443... connected.\n",
      "HTTP request sent, awaiting response... 304 Not Modified\n",
      "File ‘/media/alexn/BstemAtlasDataBackup/demo_preprocess/mxnet_models/inception-bn-blue/mean_224.npy’ not modified on server. Omitting download.\n",
      "\n",
      "return code: 0\n",
      "wget -N -P \"/media/alexn/BstemAtlasDataBackup/demo_preprocess/operation_configs\" \"https://s3-us-west-1.amazonaws.com/mousebrainatlas-data/operation_configs/crop_orig.ini\"\n",
      "--2018-09-25 15:15:49--  https://s3-us-west-1.amazonaws.com/mousebrainatlas-data/operation_configs/crop_orig.ini\n",
      "Resolving s3-us-west-1.amazonaws.com (s3-us-west-1.amazonaws.com)... 52.219.20.5\n",
      "Connecting to s3-us-west-1.amazonaws.com (s3-us-west-1.amazonaws.com)|52.219.20.5|:443... connected.\n",
      "HTTP request sent, awaiting response... 304 Not Modified\n",
      "File ‘/media/alexn/BstemAtlasDataBackup/demo_preprocess/operation_configs/crop_orig.ini’ not modified on server. Omitting download.\n",
      "\n",
      "return code: 0\n",
      "wget -N -P \"/media/alexn/BstemAtlasDataBackup/demo_preprocess/operation_configs\" \"https://s3-us-west-1.amazonaws.com/mousebrainatlas-data/operation_configs/from_aligned_to_none.ini\"\n",
      "--2018-09-25 15:15:49--  https://s3-us-west-1.amazonaws.com/mousebrainatlas-data/operation_configs/from_aligned_to_none.ini\n",
      "Resolving s3-us-west-1.amazonaws.com (s3-us-west-1.amazonaws.com)... 52.219.20.5\n",
      "Connecting to s3-us-west-1.amazonaws.com (s3-us-west-1.amazonaws.com)|52.219.20.5|:443... connected.\n",
      "HTTP request sent, awaiting response... 304 Not Modified\n",
      "File ‘/media/alexn/BstemAtlasDataBackup/demo_preprocess/operation_configs/from_aligned_to_none.ini’ not modified on server. Omitting download.\n",
      "\n",
      "return code: 0\n",
      "wget -N -P \"/media/alexn/BstemAtlasDataBackup/demo_preprocess/operation_configs\" \"https://s3-us-west-1.amazonaws.com/mousebrainatlas-data/operation_configs/from_aligned_to_padded.ini\"\n",
      "--2018-09-25 15:15:50--  https://s3-us-west-1.amazonaws.com/mousebrainatlas-data/operation_configs/from_aligned_to_padded.ini\n",
      "Resolving s3-us-west-1.amazonaws.com (s3-us-west-1.amazonaws.com)... 52.219.20.5\n",
      "Connecting to s3-us-west-1.amazonaws.com (s3-us-west-1.amazonaws.com)|52.219.20.5|:443... connected.\n",
      "HTTP request sent, awaiting response... 304 Not Modified\n",
      "File ‘/media/alexn/BstemAtlasDataBackup/demo_preprocess/operation_configs/from_aligned_to_padded.ini’ not modified on server. Omitting download.\n",
      "\n",
      "return code: 0\n",
      "wget -N -P \"/media/alexn/BstemAtlasDataBackup/demo_preprocess/operation_configs\" \"https://s3-us-west-1.amazonaws.com/mousebrainatlas-data/operation_configs/from_aligned_to_wholeslice.ini\"\n",
      "--2018-09-25 15:15:50--  https://s3-us-west-1.amazonaws.com/mousebrainatlas-data/operation_configs/from_aligned_to_wholeslice.ini\n",
      "Resolving s3-us-west-1.amazonaws.com (s3-us-west-1.amazonaws.com)... 52.219.20.5\n"
     ]
    },
    {
     "name": "stdout",
     "output_type": "stream",
     "text": [
      "Connecting to s3-us-west-1.amazonaws.com (s3-us-west-1.amazonaws.com)|52.219.20.5|:443... connected.\n",
      "HTTP request sent, awaiting response... 304 Not Modified\n",
      "File ‘/media/alexn/BstemAtlasDataBackup/demo_preprocess/operation_configs/from_aligned_to_wholeslice.ini’ not modified on server. Omitting download.\n",
      "\n",
      "return code: 0\n",
      "wget -N -P \"/media/alexn/BstemAtlasDataBackup/demo_preprocess/operation_configs\" \"https://s3-us-west-1.amazonaws.com/mousebrainatlas-data/operation_configs/from_none_to_aligned.ini\"\n",
      "--2018-09-25 15:15:50--  https://s3-us-west-1.amazonaws.com/mousebrainatlas-data/operation_configs/from_none_to_aligned.ini\n",
      "Resolving s3-us-west-1.amazonaws.com (s3-us-west-1.amazonaws.com)... 52.219.20.5\n",
      "Connecting to s3-us-west-1.amazonaws.com (s3-us-west-1.amazonaws.com)|52.219.20.5|:443... connected.\n",
      "HTTP request sent, awaiting response... 304 Not Modified\n",
      "File ‘/media/alexn/BstemAtlasDataBackup/demo_preprocess/operation_configs/from_none_to_aligned.ini’ not modified on server. Omitting download.\n",
      "\n",
      "return code: 0\n",
      "wget -N -P \"/media/alexn/BstemAtlasDataBackup/demo_preprocess/operation_configs\" \"https://s3-us-west-1.amazonaws.com/mousebrainatlas-data/operation_configs/from_none_to_brainstem.ini\"\n",
      "--2018-09-25 15:15:50--  https://s3-us-west-1.amazonaws.com/mousebrainatlas-data/operation_configs/from_none_to_brainstem.ini\n",
      "Resolving s3-us-west-1.amazonaws.com (s3-us-west-1.amazonaws.com)... 52.219.20.5\n",
      "Connecting to s3-us-west-1.amazonaws.com (s3-us-west-1.amazonaws.com)|52.219.20.5|:443... connected.\n",
      "HTTP request sent, awaiting response... 304 Not Modified\n",
      "File ‘/media/alexn/BstemAtlasDataBackup/demo_preprocess/operation_configs/from_none_to_brainstem.ini’ not modified on server. Omitting download.\n",
      "\n",
      "return code: 0\n",
      "wget -N -P \"/media/alexn/BstemAtlasDataBackup/demo_preprocess/operation_configs\" \"https://s3-us-west-1.amazonaws.com/mousebrainatlas-data/operation_configs/from_none_to_padded.ini\"\n",
      "--2018-09-25 15:15:50--  https://s3-us-west-1.amazonaws.com/mousebrainatlas-data/operation_configs/from_none_to_padded.ini\n",
      "Resolving s3-us-west-1.amazonaws.com (s3-us-west-1.amazonaws.com)... 52.219.20.5\n",
      "Connecting to s3-us-west-1.amazonaws.com (s3-us-west-1.amazonaws.com)|52.219.20.5|:443... connected.\n",
      "HTTP request sent, awaiting response... 304 Not Modified\n",
      "File ‘/media/alexn/BstemAtlasDataBackup/demo_preprocess/operation_configs/from_none_to_padded.ini’ not modified on server. Omitting download.\n",
      "\n",
      "return code: 0\n",
      "wget -N -P \"/media/alexn/BstemAtlasDataBackup/demo_preprocess/operation_configs\" \"https://s3-us-west-1.amazonaws.com/mousebrainatlas-data/operation_configs/from_none_to_wholeslice.ini\"\n",
      "--2018-09-25 15:15:50--  https://s3-us-west-1.amazonaws.com/mousebrainatlas-data/operation_configs/from_none_to_wholeslice.ini\n",
      "Resolving s3-us-west-1.amazonaws.com (s3-us-west-1.amazonaws.com)... 52.219.20.5\n",
      "Connecting to s3-us-west-1.amazonaws.com (s3-us-west-1.amazonaws.com)|52.219.20.5|:443... connected.\n",
      "HTTP request sent, awaiting response... 304 Not Modified\n",
      "File ‘/media/alexn/BstemAtlasDataBackup/demo_preprocess/operation_configs/from_none_to_wholeslice.ini’ not modified on server. Omitting download.\n",
      "\n",
      "return code: 0\n",
      "wget -N -P \"/media/alexn/BstemAtlasDataBackup/demo_preprocess/operation_configs\" \"https://s3-us-west-1.amazonaws.com/mousebrainatlas-data/operation_configs/from_padded_to_brainstem.ini\"\n",
      "--2018-09-25 15:15:50--  https://s3-us-west-1.amazonaws.com/mousebrainatlas-data/operation_configs/from_padded_to_brainstem.ini\n",
      "Resolving s3-us-west-1.amazonaws.com (s3-us-west-1.amazonaws.com)... 52.219.20.5\n",
      "Connecting to s3-us-west-1.amazonaws.com (s3-us-west-1.amazonaws.com)|52.219.20.5|:443... connected.\n",
      "HTTP request sent, awaiting response... 304 Not Modified\n",
      "File ‘/media/alexn/BstemAtlasDataBackup/demo_preprocess/operation_configs/from_padded_to_brainstem.ini’ not modified on server. Omitting download.\n",
      "\n",
      "return code: 0\n",
      "wget -N -P \"/media/alexn/BstemAtlasDataBackup/demo_preprocess/operation_configs\" \"https://s3-us-west-1.amazonaws.com/mousebrainatlas-data/operation_configs/from_padded_to_none.ini\"\n",
      "--2018-09-25 15:15:50--  https://s3-us-west-1.amazonaws.com/mousebrainatlas-data/operation_configs/from_padded_to_none.ini\n",
      "Resolving s3-us-west-1.amazonaws.com (s3-us-west-1.amazonaws.com)... 52.219.20.5\n",
      "Connecting to s3-us-west-1.amazonaws.com (s3-us-west-1.amazonaws.com)|52.219.20.5|:443... connected.\n",
      "HTTP request sent, awaiting response... 304 Not Modified\n",
      "File ‘/media/alexn/BstemAtlasDataBackup/demo_preprocess/operation_configs/from_padded_to_none.ini’ not modified on server. Omitting download.\n",
      "\n",
      "return code: 0\n",
      "wget -N -P \"/media/alexn/BstemAtlasDataBackup/demo_preprocess/operation_configs\" \"https://s3-us-west-1.amazonaws.com/mousebrainatlas-data/operation_configs/from_wholeslice_to_brainstem.ini\"\n",
      "--2018-09-25 15:15:50--  https://s3-us-west-1.amazonaws.com/mousebrainatlas-data/operation_configs/from_wholeslice_to_brainstem.ini\n",
      "Resolving s3-us-west-1.amazonaws.com (s3-us-west-1.amazonaws.com)... 52.219.20.5\n",
      "Connecting to s3-us-west-1.amazonaws.com (s3-us-west-1.amazonaws.com)|52.219.20.5|:443... connected.\n",
      "HTTP request sent, awaiting response... 304 Not Modified\n",
      "File ‘/media/alexn/BstemAtlasDataBackup/demo_preprocess/operation_configs/from_wholeslice_to_brainstem.ini’ not modified on server. Omitting download.\n",
      "\n",
      "return code: 0\n",
      "wget -N -P \"/media/alexn/BstemAtlasDataBackup/demo_preprocess/brains_info\" \"https://s3-us-west-1.amazonaws.com/mousebrainatlas-data/brains_info/DEMO998.ini\"\n",
      "--2018-09-25 15:15:50--  https://s3-us-west-1.amazonaws.com/mousebrainatlas-data/brains_info/DEMO998.ini\n",
      "Resolving s3-us-west-1.amazonaws.com (s3-us-west-1.amazonaws.com)... 52.219.20.5\n",
      "Connecting to s3-us-west-1.amazonaws.com (s3-us-west-1.amazonaws.com)|52.219.20.5|:443... connected.\n",
      "HTTP request sent, awaiting response... 304 Not Modified\n",
      "File ‘/media/alexn/BstemAtlasDataBackup/demo_preprocess/brains_info/DEMO998.ini’ not modified on server. Omitting download.\n",
      "\n",
      "return code: 0\n"
     ]
    }
   ],
   "source": [
    "# ! download_demo_data_preprocessing.py\n",
    "\n",
    "download_to = os.environ['DATA_ROOTDIR']\n",
    "\n",
    "! python download_demo_data_preprocessing.py --demo_data_dir $download_to"
   ]
  },
  {
   "cell_type": "markdown",
   "metadata": {},
   "source": [
    "Create `DEMO998_input_spec.json`. This specifies where to find each version/resolution of the raw image files."
   ]
  },
  {
   "cell_type": "code",
   "execution_count": 53,
   "metadata": {},
   "outputs": [
    {
     "name": "stdout",
     "output_type": "stream",
     "text": [
      "DEMO998_input_spec overwritten\n"
     ]
    }
   ],
   "source": [
    "import json\n",
    "# Prepare filepaths to putinto the STACK_input_spec.json file\n",
    "data_dirs = os.path.join( DATA_ROOTDIR, 'jp2_files', 'DEMO998' )\n",
    "filepath_to_imageName_mapping = os.path.join( DATA_ROOTDIR, 'jp2_files', 'DEMO998', '(.*)?_lossless.jp2' )\n",
    "imageName_to_filepath_mapping = os.path.join( DATA_ROOTDIR, 'jp2_files', 'DEMO998', '%s_lossless.jp2' )\n",
    "\n",
    "\n",
    "json_data = ([{\"version\": None, \\\n",
    "                \"resolution\": \"raw\",\\\n",
    "                \"data_dirs\": data_dirs,\\\n",
    "                \"filepath_to_imageName_mapping\": filepath_to_imageName_mapping,\\\n",
    "                \"imageName_to_filepath_mapping\": imageName_to_filepath_mapping }])\n",
    "\n",
    "# This will likely be changed in the near future so that it is saved in the ROOT_DIR\n",
    "with open('DEMO998_input_spec.json', 'w') as outfile:\n",
    "    json.dump(json_data, outfile)\n",
    "    \n",
    "print 'DEMO998_input_spec overwritten'\n",
    "\n",
    "\n",
    "# Example supplied by Yuncong\n",
    "# Cannot handle variables for some reason, I chose to do the above\n",
    "\n",
    "# %%writefile DEMO998_input_spec.json\n",
    "# [\n",
    "#    {\"version\": null, \n",
    "# \"resolution\": \"raw\", \n",
    "#     \"data_dirs\": \"/home/yuncong/MouseBrainAtlas/demo/demo_data/jp2_files/DEMO998/\", \n",
    "#     \"filepath_to_imageName_mapping\": \"/home/yuncong/MouseBrainAtlas/demo/demo_data/jp2_files/DEMO998/(.*)?_lossless.jp2\", \n",
    "#     \"imageName_to_filepath_mapping\": \"/home/yuncong/MouseBrainAtlas/demo/demo_data/jp2_files/DEMO998/%s_lossless.jp2\"\n",
    "#    }\n",
    "# ]"
   ]
  },
  {
   "cell_type": "markdown",
   "metadata": {},
   "source": [
    "Convert all JPEG2000 files to TIF files (16-bit)."
   ]
  },
  {
   "cell_type": "code",
   "execution_count": 54,
   "metadata": {},
   "outputs": [
    {
     "name": "stdout",
     "output_type": "stream",
     "text": [
      "ENABLE_UPLOAD_S3 is not set, default to False.\n",
      "ENABLE_DOWNLOAD_S3 is not set, default to False.\n",
      "Setting environment for Precision WorkStation for Alex Newberry\n",
      "{'DEMO998': 0.46}\n",
      "No anchor.txt is found. Seems we are using the operation ini to provide anchor. Try to load operation ini.\n",
      "No anchor.txt is found. Seems we are using the operation ini to provide anchor. Try to load operation ini.\n",
      "No vtk\n",
      "No mcubes\n",
      "Failed to cache DEMO998 section_limits: ini file /media/alexn/BstemAtlasDataBackup/demo_preprocess/CSHL_data_processed/DEMO998/DEMO998_prep2_sectionLimits.ini does not exist.\n",
      "No anchor.txt is found. Seems we are using the operation ini to provide anchor. Try to load operation ini.\n",
      "Seems you are using operation INIs to provide cropbox.\n",
      "Failed to cache DEMO998 valid_sections/filenames: 'DEMO998'\n",
      "No anchor.txt is found. Seems we are using the operation ini to provide anchor. Try to load operation ini.\n",
      "Seems you are using operation INIs to provide cropbox.\n",
      "Found 3 images.\n",
      "\n",
      "(None, u'raw') missing:\n",
      "set([])\n",
      "rm -f ~/stderr_*; rm -f ~/stdout_*\n",
      "return code: 0\n",
      "Run locally.\n",
      "Jobs submitted. Use wait_qsub_complete() to wait for all execution to finish.\n"
     ]
    }
   ],
   "source": [
    "! python jp2_to_tiff.py DEMO998 DEMO998_input_spec.json"
   ]
  },
  {
   "cell_type": "markdown",
   "metadata": {},
   "source": [
    "DEMO998 is a fluorescently stained stack. The texture information is mainly in the Neurotrace-blue stain which is scanned as the blue channel.\n",
    "\n",
    "We use the `extract_channel.py` script to extract the blue channel of the images. \n",
    "- first create a `input_spec.ini` to describe the input where the prep_id/version/resolution are set to `(None,None,raw)`.\n",
    "- give the resulting __version__ a name \"Ntb\"."
   ]
  },
  {
   "cell_type": "code",
   "execution_count": 102,
   "metadata": {},
   "outputs": [
    {
     "name": "stdout",
     "output_type": "stream",
     "text": [
      "Overwriting input_spec.ini\n"
     ]
    }
   ],
   "source": [
    "%%writefile input_spec.ini\n",
    "[DEFAULT]\n",
    "image_name_list = MD662&661-F81-2017.06.06-12.44.40_MD661_2_0242\n",
    "    MD662&661-F84-2017.06.06-14.03.51_MD661_1_0250\n",
    "    MD662&661-F86-2017.06.06-14.56.48_MD661_2_0257\n",
    "stack = DEMO998\n",
    "prep_id = None\n",
    "version = None\n",
    "resol = raw"
   ]
  },
  {
   "cell_type": "code",
   "execution_count": 103,
   "metadata": {},
   "outputs": [
    {
     "name": "stdout",
     "output_type": "stream",
     "text": [
      "ENABLE_UPLOAD_S3 is not set, default to False.\n",
      "ENABLE_DOWNLOAD_S3 is not set, default to False.\n",
      "Setting environment for Precision WorkStation for Alex Newberry\n",
      "{'DEMO998': 0.46}\n",
      "No anchor.txt is found. Seems we are using the operation ini to provide anchor. Try to load operation ini.\n",
      "File does not exist: /media/alexn/BstemAtlasDataBackup/demo_preprocess/CSHL_data_processed/DEMO998/DEMO998_sorted_filenames.txt\n",
      "Failed to cache DEMO998 sections_to_filenames: \n",
      "File does not exist: /media/alexn/BstemAtlasDataBackup/demo_preprocess/CSHL_data_processed/DEMO998/DEMO998_sorted_filenames.txt\n",
      "Failed to cache DEMO998 filenames_to_sections: \n",
      "No anchor.txt is found. Seems we are using the operation ini to provide anchor. Try to load operation ini.\n",
      "No vtk\n",
      "Failed to cache DEMO998 section_limits: ini file /media/alexn/BstemAtlasDataBackup/demo_preprocess/CSHL_data_processed/DEMO998/DEMO998_prep2_sectionLimits.ini does not exist.\n",
      "No anchor.txt is found. Seems we are using the operation ini to provide anchor. Try to load operation ini.\n",
      "Seems you are using operation INIs to provide cropbox.\n",
      "Failed to cache DEMO998 valid_sections/filenames: 'DEMO998'\n",
      "No anchor.txt is found. Seems we are using the operation ini to provide anchor. Try to load operation ini.\n",
      "Seems you are using operation INIs to provide cropbox.\n",
      "rm -f ~/stderr_*; rm -f ~/stdout_*\n",
      "return code: 0\n",
      "Run locally.\n",
      "Jobs submitted. Use wait_qsub_complete() to wait for all execution to finish.\n"
     ]
    }
   ],
   "source": [
    "! python extract_channel.py input_spec.ini 2 Ntb"
   ]
  },
  {
   "cell_type": "markdown",
   "metadata": {},
   "source": [
    "Since raw images (roughly 30,000 by 30,000 pixels) are cumbersome to examine.\n",
    "We also generate smaller thumbnails by scaling 32 times down. 1/32=0.03125.\n",
    "- Create `input_spec.ini` as (None,Ntb,raw).\n",
    "- Call the new __resolution__ \"thumbnail\"."
   ]
  },
  {
   "cell_type": "code",
   "execution_count": 104,
   "metadata": {},
   "outputs": [
    {
     "name": "stdout",
     "output_type": "stream",
     "text": [
      "Overwriting input_spec.ini\n"
     ]
    }
   ],
   "source": [
    "%%writefile input_spec.ini\n",
    "[DEFAULT]\n",
    "image_name_list = MD662&661-F81-2017.06.06-12.44.40_MD661_2_0242\n",
    "    MD662&661-F84-2017.06.06-14.03.51_MD661_1_0250\n",
    "    MD662&661-F86-2017.06.06-14.56.48_MD661_2_0257\n",
    "stack = DEMO998\n",
    "prep_id = None\n",
    "version = Ntb\n",
    "resol = raw"
   ]
  },
  {
   "cell_type": "code",
   "execution_count": 105,
   "metadata": {},
   "outputs": [
    {
     "name": "stdout",
     "output_type": "stream",
     "text": [
      "ENABLE_UPLOAD_S3 is not set, default to False.\n",
      "ENABLE_DOWNLOAD_S3 is not set, default to False.\n",
      "Setting environment for Precision WorkStation for Alex Newberry\n",
      "{'DEMO998': 0.46}\n",
      "No anchor.txt is found. Seems we are using the operation ini to provide anchor. Try to load operation ini.\n",
      "File does not exist: /media/alexn/BstemAtlasDataBackup/demo_preprocess/CSHL_data_processed/DEMO998/DEMO998_sorted_filenames.txt\n",
      "Failed to cache DEMO998 sections_to_filenames: \n",
      "File does not exist: /media/alexn/BstemAtlasDataBackup/demo_preprocess/CSHL_data_processed/DEMO998/DEMO998_sorted_filenames.txt\n",
      "Failed to cache DEMO998 filenames_to_sections: \n",
      "No anchor.txt is found. Seems we are using the operation ini to provide anchor. Try to load operation ini.\n",
      "No vtk\n",
      "Failed to cache DEMO998 section_limits: ini file /media/alexn/BstemAtlasDataBackup/demo_preprocess/CSHL_data_processed/DEMO998/DEMO998_prep2_sectionLimits.ini does not exist.\n",
      "No anchor.txt is found. Seems we are using the operation ini to provide anchor. Try to load operation ini.\n",
      "Seems you are using operation INIs to provide cropbox.\n",
      "Failed to cache DEMO998 valid_sections/filenames: 'DEMO998'\n",
      "No anchor.txt is found. Seems we are using the operation ini to provide anchor. Try to load operation ini.\n",
      "Seems you are using operation INIs to provide cropbox.\n",
      "/media/alexn/BstemAtlasDataBackup/demo_preprocess/CSHL_data_processed/DEMO998/DEMO998_raw_Ntb/MD662&661-F81-2017.06.06-12.44.40_MD661_2_0242_raw_Ntb.tif\n",
      "uint16\n",
      "/usr/local/lib/python2.7/dist-packages/skimage/io/_io.py:132: UserWarning: /media/alexn/BstemAtlasDataBackup/demo_preprocess/CSHL_data_processed/DEMO998/DEMO998_thumbnail_Ntb/MD662&661-F81-2017.06.06-12.44.40_MD661_2_0242_thumbnail_Ntb.tif is a low contrast image\n",
      "  warn('%s is a low contrast image' % fname)\n",
      "Rescale: 2.82 seconds.\n",
      "/media/alexn/BstemAtlasDataBackup/demo_preprocess/CSHL_data_processed/DEMO998/DEMO998_raw_Ntb/MD662&661-F84-2017.06.06-14.03.51_MD661_1_0250_raw_Ntb.tif\n",
      "uint16\n",
      "/usr/local/lib/python2.7/dist-packages/skimage/io/_io.py:132: UserWarning: /media/alexn/BstemAtlasDataBackup/demo_preprocess/CSHL_data_processed/DEMO998/DEMO998_thumbnail_Ntb/MD662&661-F84-2017.06.06-14.03.51_MD661_1_0250_thumbnail_Ntb.tif is a low contrast image\n",
      "  warn('%s is a low contrast image' % fname)\n",
      "Rescale: 2.62 seconds.\n",
      "/media/alexn/BstemAtlasDataBackup/demo_preprocess/CSHL_data_processed/DEMO998/DEMO998_raw_Ntb/MD662&661-F86-2017.06.06-14.56.48_MD661_2_0257_raw_Ntb.tif\n",
      "uint16\n",
      "/usr/local/lib/python2.7/dist-packages/skimage/io/_io.py:132: UserWarning: /media/alexn/BstemAtlasDataBackup/demo_preprocess/CSHL_data_processed/DEMO998/DEMO998_thumbnail_Ntb/MD662&661-F86-2017.06.06-14.56.48_MD661_2_0257_thumbnail_Ntb.tif is a low contrast image\n",
      "  warn('%s is a low contrast image' % fname)\n",
      "Rescale: 3.05 seconds.\n"
     ]
    }
   ],
   "source": [
    "! python rescale.py input_spec.ini thumbnail -f 0.03125"
   ]
  },
  {
   "cell_type": "markdown",
   "metadata": {},
   "source": [
    "Let's see an example thumbnail image."
   ]
  },
  {
   "cell_type": "code",
   "execution_count": 113,
   "metadata": {},
   "outputs": [
    {
     "name": "stdout",
     "output_type": "stream",
     "text": [
      "img fp: /media/alexn/BstemAtlasDataBackup/demo_preprocess/CSHL_data_processed/DEMO998/DEMO998_thumbnail_Ntb/MD662&661-F84-2017.06.06-14.03.51_MD661_1_0250_thumbnail_Ntb.tif\n",
      "\n",
      "img data type: uint16\n"
     ]
    },
    {
     "data": {
      "image/png": "[encoded data removed]",
      "text/plain": [
       "<matplotlib.figure.Figure at 0x7f8ea7b1b350>"
      ]
     },
     "metadata": {},
     "output_type": "display_data"
    }
   ],
   "source": [
    "# Visualizing an example Ntb thumbnail image\n",
    "img_fp = DataManager.get_image_filepath_v2(stack='DEMO998', resol='thumbnail', prep_id=None, version='Ntb', \n",
    "                                  fn='MD662&661-F84-2017.06.06-14.03.51_MD661_1_0250')\n",
    "print 'img fp: '+img_fp+'\\n'\n",
    "\n",
    "img = imread(img_fp)\n",
    "print 'img data type:',img.dtype\n",
    "\n",
    "plt.imshow(img, cmap=plt.cm.gray);"
   ]
  },
  {
   "cell_type": "markdown",
   "metadata": {},
   "source": [
    "The image is very dim because most pixel intensities are concentrated at the bottom part of the 0-2^15 range.\n",
    "To enhance the contrast, we stretch the histogram so that the entire available intensity range is utilized.\n",
    "- Create input_spec.ini as (None,Ntb,thumbnail). \n",
    "- call the resulting version \"NtbNormalized\". Note that this is just a global linear histogram stretching - not to be confused with the local adaptive intensity correction that we will do later."
   ]
  },
  {
   "cell_type": "code",
   "execution_count": 114,
   "metadata": {},
   "outputs": [
    {
     "name": "stdout",
     "output_type": "stream",
     "text": [
      "Overwriting input_spec.ini\n"
     ]
    }
   ],
   "source": [
    "%%writefile input_spec.ini\n",
    "[DEFAULT]\n",
    "image_name_list = MD662&661-F81-2017.06.06-12.44.40_MD661_2_0242\n",
    "    MD662&661-F84-2017.06.06-14.03.51_MD661_1_0250\n",
    "    MD662&661-F86-2017.06.06-14.56.48_MD661_2_0257\n",
    "stack = DEMO998\n",
    "prep_id = None\n",
    "version = Ntb\n",
    "resol = thumbnail"
   ]
  },
  {
   "cell_type": "code",
   "execution_count": 39,
   "metadata": {},
   "outputs": [
    {
     "data": {
      "text/plain": [
       "'/home/alexn/brainDev/setup/../src/'"
      ]
     },
     "execution_count": 39,
     "metadata": {},
     "output_type": "execute_result"
    }
   ],
   "source": [
    "REPO_DIR"
   ]
  },
  {
   "cell_type": "code",
   "execution_count": 115,
   "metadata": {},
   "outputs": [
    {
     "name": "stdout",
     "output_type": "stream",
     "text": [
      "ENABLE_UPLOAD_S3 is not set, default to False.\n",
      "ENABLE_DOWNLOAD_S3 is not set, default to False.\n",
      "Setting environment for Precision WorkStation for Alex Newberry\n",
      "{'DEMO998': 0.46}\n",
      "No anchor.txt is found. Seems we are using the operation ini to provide anchor. Try to load operation ini.\n",
      "File does not exist: /media/alexn/BstemAtlasDataBackup/demo_preprocess/CSHL_data_processed/DEMO998/DEMO998_sorted_filenames.txt\n",
      "Failed to cache DEMO998 sections_to_filenames: \n",
      "File does not exist: /media/alexn/BstemAtlasDataBackup/demo_preprocess/CSHL_data_processed/DEMO998/DEMO998_sorted_filenames.txt\n",
      "Failed to cache DEMO998 filenames_to_sections: \n",
      "No anchor.txt is found. Seems we are using the operation ini to provide anchor. Try to load operation ini.\n",
      "No vtk\n",
      "Failed to cache DEMO998 section_limits: ini file /media/alexn/BstemAtlasDataBackup/demo_preprocess/CSHL_data_processed/DEMO998/DEMO998_prep2_sectionLimits.ini does not exist.\n",
      "No anchor.txt is found. Seems we are using the operation ini to provide anchor. Try to load operation ini.\n",
      "Seems you are using operation INIs to provide cropbox.\n",
      "Failed to cache DEMO998 valid_sections/filenames: 'DEMO998'\n",
      "No anchor.txt is found. Seems we are using the operation ini to provide anchor. Try to load operation ini.\n",
      "Seems you are using operation INIs to provide cropbox.\n",
      "convert \"/media/alexn/BstemAtlasDataBackup/demo_preprocess/CSHL_data_processed/DEMO998/DEMO998_thumbnail_Ntb/MD662&661-F81-2017.06.06-12.44.40_MD661_2_0242_thumbnail_Ntb.tif\" -normalize -depth 8 \"/media/alexn/BstemAtlasDataBackup/demo_preprocess/CSHL_data_processed/DEMO998/DEMO998_thumbnail_NtbNormalized/MD662&661-F81-2017.06.06-12.44.40_MD661_2_0242_thumbnail_NtbNormalized.tif\" \n",
      "return code: 0\n",
      "Intensity normalize: 0.08 seconds.\n",
      "convert \"/media/alexn/BstemAtlasDataBackup/demo_preprocess/CSHL_data_processed/DEMO998/DEMO998_thumbnail_Ntb/MD662&661-F84-2017.06.06-14.03.51_MD661_1_0250_thumbnail_Ntb.tif\" -normalize -depth 8 \"/media/alexn/BstemAtlasDataBackup/demo_preprocess/CSHL_data_processed/DEMO998/DEMO998_thumbnail_NtbNormalized/MD662&661-F84-2017.06.06-14.03.51_MD661_1_0250_thumbnail_NtbNormalized.tif\" \n",
      "return code: 0\n",
      "Intensity normalize: 0.07 seconds.\n",
      "convert \"/media/alexn/BstemAtlasDataBackup/demo_preprocess/CSHL_data_processed/DEMO998/DEMO998_thumbnail_Ntb/MD662&661-F86-2017.06.06-14.56.48_MD661_2_0257_thumbnail_Ntb.tif\" -normalize -depth 8 \"/media/alexn/BstemAtlasDataBackup/demo_preprocess/CSHL_data_processed/DEMO998/DEMO998_thumbnail_NtbNormalized/MD662&661-F86-2017.06.06-14.56.48_MD661_2_0257_thumbnail_NtbNormalized.tif\" \n",
      "return code: 0\n",
      "Intensity normalize: 0.07 seconds.\n"
     ]
    }
   ],
   "source": [
    "! python normalize_intensity.py input_spec.ini NtbNormalized"
   ]
  },
  {
   "cell_type": "markdown",
   "metadata": {},
   "source": [
    "Let's see a resulting image"
   ]
  },
  {
   "cell_type": "code",
   "execution_count": 116,
   "metadata": {},
   "outputs": [
    {
     "name": "stdout",
     "output_type": "stream",
     "text": [
      "uint8\n"
     ]
    },
    {
     "data": {
      "image/png": "[encoded data removed]",
      "text/plain": [
       "<matplotlib.figure.Figure at 0x7f8ea7a9c610>"
      ]
     },
     "metadata": {},
     "output_type": "display_data"
    }
   ],
   "source": [
    "# Visualizing an example NORMALIZED Ntb thumbnail image\n",
    "\n",
    "img_fp = DataManager.get_image_filepath_v2(stack='DEMO998', resol='thumbnail', prep_id=None, version='NtbNormalized', \n",
    "                                  fn='MD662&661-F84-2017.06.06-14.03.51_MD661_1_0250')\n",
    "\n",
    "img = imread(img_fp)\n",
    "print img.dtype\n",
    "\n",
    "plt.imshow(img, cmap=plt.cm.gray);"
   ]
  },
  {
   "cell_type": "markdown",
   "metadata": {},
   "source": [
    "Now the tissues are much easier to see. Note that the normalized images are now 8-bit."
   ]
  },
  {
   "cell_type": "markdown",
   "metadata": {},
   "source": [
    "# Steps 3-5\n",
    "### 3) Intra-Stack Alignment\n",
    "### 4) Create Masks\n",
    "### 5) Local Adaptive Intensity Normalization\n",
    "Skipping a GUI step the should be at the very beginning of step 3"
   ]
  },
  {
   "cell_type": "code",
   "execution_count": null,
   "metadata": {
    "collapsed": true
   },
   "outputs": [],
   "source": [
    "# Example from :/home/yuncong/MouseBrainAtlas/demo/demo_data/operation_configs/from_none_to_aligned.ini\n",
    "# %%writefile from_none_to_aligned.ini\n",
    "# [DEFAULT]\n",
    "# type=warp\n",
    "\n",
    "# base_prep_id=None\n",
    "# dest_prep_id=aligned\n",
    "\n",
    "# # For align\n",
    "# elastix_parameter_fp=/home/yuncong/MouseBrainAtlas/src/preprocess/parameters/Parameters_Rigid_MutualInfo_noNumberOfSpatialSamples_4000Iters.txt\n",
    "# elastix_output_dir=demo_data/CSHL_data_processed/DEMO998/DEMO998_elastix_output\n",
    "# custom_output_dir=demo_data/CSHL_data_processed/DEMO998/DEMO998_custom_output\n",
    "\n",
    "# # For compose\n",
    "# anchor_image_name=MD662&661-F84-2017.06.06-14.03.51_MD661_1_0250\n",
    "# transforms_csv=demo_data/CSHL_data_processed/DEMO998/DEMO998_transforms_to_anchor.csv\n",
    "# #transforms_csv=demo_data/CSHL_data_processed/DEMO998/DEMO998_transformsTo_MD662&661-F84-2017.06.06-14.03.51_MD661_1_0250.csv\n",
    "# resolution=thumbnail"
   ]
  },
  {
   "cell_type": "code",
   "execution_count": 23,
   "metadata": {
    "collapsed": true
   },
   "outputs": [],
   "source": [
    "# Creating 'from_none_to_aligned.ini'\n",
    "# First designate an anchor to use\n",
    "anchor_fn = 'MD662&661-F84-2017.06.06-14.03.51_MD661_1_0250'\n",
    "none_to_aligned_fp = os.path.join(DATA_ROOTDIR, 'operation_configs', 'from_none_to_aligned.ini')\n",
    "\n",
    "from_none_to_aligned_content = '[DEFAULT]\\n\\\n",
    "type=warp\\n\\\n",
    "\\n\\\n",
    "base_prep_id=None\\n\\\n",
    "dest_prep_id=aligned\\n\\\n",
    "\\n\\\n",
    "# For align\\n\\\n",
    "elastix_parameter_fp='+REPO_DIR+'preprocess/parameters/Parameters_Rigid_MutualInfo_\\\n",
    "noNumberOfSpatialSamples_4000Iters.txt\\n\\\n",
    "elastix_output_dir='+DATA_ROOTDIR+'CSHL_data_processed/DEMO998/DEMO998_elastix_output\\n\\\n",
    "custom_output_dir='+DATA_ROOTDIR+'CSHL_data_processed/DEMO998/DEMO998_custom_output\\n\\\n",
    "\\n\\\n",
    "# For compose\\n\\\n",
    "anchor_image_name='+anchor_fn+'\\n\\\n",
    "transforms_csv='+DATA_ROOTDIR+'CSHL_data_processed/DEMO998/DEMO998_transforms_to_anchor.csv\\n\\\n",
    "#transforms_csv='+DATA_ROOTDIR+'CSHL_data_processed/DEMO998/DEMO998_transformsTo_'+anchor_fn+'.csv\\n\\\n",
    "resolution=thumbnail'\n",
    "\n",
    "f = open( none_to_aligned_fp , \"w\")\n",
    "f.write( from_none_to_aligned_content ) \n",
    "f.close()"
   ]
  },
  {
   "cell_type": "code",
   "execution_count": 33,
   "metadata": {},
   "outputs": [
    {
     "name": "stdout",
     "output_type": "stream",
     "text": [
      "Overwriting input_spec.ini\n"
     ]
    }
   ],
   "source": [
    "%%writefile input_spec.ini\n",
    "[DEFAULT]\n",
    "image_name_list = MD662&661-F81-2017.06.06-12.44.40_MD661_2_0242\n",
    "    MD662&661-F84-2017.06.06-14.03.51_MD661_1_0250\n",
    "    MD662&661-F86-2017.06.06-14.56.48_MD661_2_0257\n",
    "stack = DEMO998\n",
    "prep_id = None\n",
    "version = NtbNormalized\n",
    "resol = thumbnail"
   ]
  },
  {
   "cell_type": "code",
   "execution_count": 24,
   "metadata": {},
   "outputs": [
    {
     "name": "stdout",
     "output_type": "stream",
     "text": [
      "ENABLE_UPLOAD_S3 is not set, default to False.\n",
      "ENABLE_DOWNLOAD_S3 is not set, default to False.\n",
      "Setting environment for Precision WorkStation for Alex Newberry\n",
      "{'DEMO998': 0.46}\n",
      "python align_v3.py input_spec.ini --op from_none_to_aligned\n",
      "ENABLE_UPLOAD_S3 is not set, default to False.\n",
      "ENABLE_DOWNLOAD_S3 is not set, default to False.\n",
      "Setting environment for Precision WorkStation for Alex Newberry\n",
      "{'DEMO998': 0.46}\n",
      "No anchor.txt is found. Seems we are using the operation ini to provide anchor. Try to load operation ini.\n",
      "No anchor.txt is found. Seems we are using the operation ini to provide anchor. Try to load operation ini.\n",
      "No vtk\n",
      "No mcubes\n",
      "Failed to cache DEMO998 section_limits: ini file /media/alexn/BstemAtlasDataBackup/demo_preprocess/CSHL_data_processed/DEMO998/DEMO998_prep2_sectionLimits.ini does not exist.\n",
      "No anchor.txt is found. Seems we are using the operation ini to provide anchor. Try to load operation ini.\n",
      "Seems you are using operation INIs to provide cropbox.\n",
      "Failed to cache DEMO998 valid_sections/filenames: 'DEMO998'\n",
      "No anchor.txt is found. Seems we are using the operation ini to provide anchor. Try to load operation ini.\n",
      "Seems you are using operation INIs to provide cropbox.\n",
      "{'resol': 'thumbnail', 'version': 'NtbNormalized', 'prep_id': 'None', 'stack': 'DEMO998', 'sorted_image_name_list': ['MD662&661-F81-2017.06.06-12.44.40_MD661_2_0242', 'MD662&661-F84-2017.06.06-14.03.51_MD661_1_0250', 'MD662&661-F86-2017.06.06-14.56.48_MD661_2_0257']}\n",
      "rm -f ~/stderr_*; rm -f ~/stdout_*\n",
      "return code: 0\n",
      "Run locally.\n",
      "Jobs submitted. Use wait_qsub_complete() to wait for all execution to finish.\n",
      "return code: 0\n",
      "python compose_v3.py input_spec.ini --op from_none_to_aligned\n",
      "ENABLE_UPLOAD_S3 is not set, default to False.\n",
      "ENABLE_DOWNLOAD_S3 is not set, default to False.\n",
      "Setting environment for Precision WorkStation for Alex Newberry\n",
      "{'DEMO998': 0.46}\n",
      "No anchor.txt is found. Seems we are using the operation ini to provide anchor. Try to load operation ini.\n",
      "No anchor.txt is found. Seems we are using the operation ini to provide anchor. Try to load operation ini.\n",
      "No vtk\n",
      "No mcubes\n",
      "Failed to cache DEMO998 section_limits: ini file /media/alexn/BstemAtlasDataBackup/demo_preprocess/CSHL_data_processed/DEMO998/DEMO998_prep2_sectionLimits.ini does not exist.\n",
      "No anchor.txt is found. Seems we are using the operation ini to provide anchor. Try to load operation ini.\n",
      "Seems you are using operation INIs to provide cropbox.\n",
      "Failed to cache DEMO998 valid_sections/filenames: 'DEMO998'\n",
      "No anchor.txt is found. Seems we are using the operation ini to provide anchor. Try to load operation ini.\n",
      "Seems you are using operation INIs to provide cropbox.\n",
      "Load elastix-computed transform: /media/alexn/BstemAtlasDataBackup/demo_preprocess/CSHL_data_processed/DEMO998/DEMO998_elastix_output/MD662&661-F84-2017.06.06-14.03.51_MD661_1_0250_to_MD662&661-F81-2017.06.06-12.44.40_MD661_2_0242/TransformParameters.0.txt\n",
      "Load elastix-computed transform: /media/alexn/BstemAtlasDataBackup/demo_preprocess/CSHL_data_processed/DEMO998/DEMO998_elastix_output/MD662&661-F86-2017.06.06-14.56.48_MD661_2_0257_to_MD662&661-F84-2017.06.06-14.03.51_MD661_1_0250/TransformParameters.0.txt\n",
      "0 MD662&661-F81-2017.06.06-12.44.40_MD661_2_0242 [[ 9.99947120e-01 -1.02838187e-02  2.48692152e+01]\n",
      " [ 1.02838187e-02  9.99947120e-01  2.28497127e+00]\n",
      " [ 0.00000000e+00  0.00000000e+00  1.00000000e+00]]\n",
      "1 MD662&661-F84-2017.06.06-14.03.51_MD661_1_0250 [[1. 0. 0.]\n",
      " [0. 1. 0.]\n",
      " [0. 0. 1.]]\n",
      "2 MD662&661-F86-2017.06.06-14.56.48_MD661_2_0257 [[ 0.99990211  0.01399154 10.8674404 ]\n",
      " [-0.01399154  0.99990211 -3.73027722]\n",
      " [ 0.          0.          1.        ]]\n",
      "return code: 0\n"
     ]
    }
   ],
   "source": [
    "! python align_compose.py input_spec.ini --op from_none_to_aligned"
   ]
  },
  {
   "cell_type": "code",
   "execution_count": 38,
   "metadata": {},
   "outputs": [
    {
     "name": "stdout",
     "output_type": "stream",
     "text": [
      "ENABLE_UPLOAD_S3 is not set, default to False.\n",
      "ENABLE_DOWNLOAD_S3 is not set, default to False.\n",
      "Setting environment for Precision WorkStation for Alex Newberry\n",
      "{'DEMO998': 0.46}\n",
      "No anchor.txt is found. Seems we are using the operation ini to provide anchor. Try to load operation ini.\n",
      "No anchor.txt is found. Seems we are using the operation ini to provide anchor. Try to load operation ini.\n",
      "No vtk\n",
      "No mcubes\n",
      "Failed to cache DEMO998 section_limits: ini file /media/alexn/BstemAtlasDataBackup/demo_preprocess/CSHL_data_processed/DEMO998/DEMO998_prep2_sectionLimits.ini does not exist.\n",
      "No anchor.txt is found. Seems we are using the operation ini to provide anchor. Try to load operation ini.\n",
      "Seems you are using operation INIs to provide cropbox.\n",
      "Failed to cache DEMO998 valid_sections/filenames: 'DEMO998'\n",
      "No anchor.txt is found. Seems we are using the operation ini to provide anchor. Try to load operation ini.\n",
      "Seems you are using operation INIs to provide cropbox.\n",
      "LOADING: /media/alexn/BstemAtlasDataBackup/demo_preprocess/operation_configs/from_none_to_padded.ini\n",
      "LOADING: /media/alexn/BstemAtlasDataBackup/demo_preprocess/operation_configs/from_none_to_aligned.ini\n",
      "LOADING: /media/alexn/BstemAtlasDataBackup/demo_preprocess/operation_configs/from_aligned_to_padded.ini\n",
      "rm -f ~/stderr_*; rm -f ~/stdout_*\n",
      "return code: 0\n",
      "Run locally.\n",
      "Jobs submitted. Use wait_qsub_complete() to wait for all execution to finish.\n"
     ]
    }
   ],
   "source": [
    "! python warp_crop.py --input_spec input_spec.ini --op_id from_none_to_padded"
   ]
  },
  {
   "cell_type": "markdown",
   "metadata": {},
   "source": [
    "prep1_thumbnail_NtbNormalized.tf files have been generated for all of the files.\n",
    "\n",
    "At this point, you should use preprocess_gui.py to double check all slices have been aligned properly.\n",
    "\n",
    "Now we move on to the mask generation step. It starts with running the mask_editing_tool_v4.py GUI for drawing the initial snake contours."
   ]
  },
  {
   "cell_type": "code",
   "execution_count": 55,
   "metadata": {},
   "outputs": [
    {
     "name": "stdout",
     "output_type": "stream",
     "text": [
      "Overwriting input_spec.ini\n"
     ]
    }
   ],
   "source": [
    "%%writefile input_spec.ini\n",
    "[DEFAULT]\n",
    "image_name_list = MD662&661-F81-2017.06.06-12.44.40_MD661_2_0242\n",
    "    MD662&661-F84-2017.06.06-14.03.51_MD661_1_0250\n",
    "    MD662&661-F86-2017.06.06-14.56.48_MD661_2_0257\n",
    "stack = DEMO998\n",
    "prep_id = alignedPadded\n",
    "version = NtbNormalized\n",
    "resol = thumbnail"
   ]
  },
  {
   "cell_type": "code",
   "execution_count": null,
   "metadata": {
    "collapsed": true
   },
   "outputs": [],
   "source": [
    "! python masking.py input_spec.ini \\\n",
    "/media/alexn/BstemAtlasDataBackup/demo_preprocess/CSHL_data_processed/DEMO998/DEMO998_prep1_thumbnail_initSnakeContours.pkl"
   ]
  }
 ],
 "metadata": {
  "kernelspec": {
   "display_name": "Python 2",
   "language": "python",
   "name": "python2"
  },
  "language_info": {
   "codemirror_mode": {
    "name": "ipython",
    "version": 2
   },
   "file_extension": ".py",
   "mimetype": "text/x-python",
   "name": "python",
   "nbconvert_exporter": "python",
   "pygments_lexer": "ipython2",
   "version": "2.7.12"
  }
 },
 "nbformat": 4,
 "nbformat_minor": 2
}
