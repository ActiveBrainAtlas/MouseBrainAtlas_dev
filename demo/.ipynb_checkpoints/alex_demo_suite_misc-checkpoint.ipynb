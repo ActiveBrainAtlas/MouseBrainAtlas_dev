{
 "cells": [
  {
   "cell_type": "code",
   "execution_count": 2,
   "metadata": {},
   "outputs": [],
   "source": [
    "# Setup\n",
    "import os\n",
    "import sys\n",
    "import numpy as np\n",
    "\n",
    "sys.path.append(os.path.join(os.environ['REPO_DIR'], 'utilities'))\n",
    "from utilities2015 import *\n",
    "from metadata import *\n",
    "from data_manager import *\n",
    "\n",
    "import matplotlib.pyplot as plt\n",
    "%matplotlib inline"
   ]
  },
  {
   "cell_type": "markdown",
   "metadata": {},
   "source": [
    "# Streamlined ini file creation"
   ]
  },
  {
   "cell_type": "code",
   "execution_count": 20,
   "metadata": {},
   "outputs": [],
   "source": [
    "# Creates input_spec.ini file\n",
    "def create_input_spec_ini( name, image_name_list, stack, prep_id, version, resol  ):\n",
    "    f = open(name, \"w\")\n",
    "    \n",
    "    f.write('[DEFAULT]\\n')\n",
    "    f.write('image_name_list = '+image_name_list[0]+'\\n')\n",
    "    for i in range ( 1 , len(image_name_list) ):\n",
    "        f.write('    '+image_name_list[i]+'\\n')\n",
    "    f.write('stack = '+stack+'\\n')\n",
    "    f.write('prep_id = '+prep_id+'\\n')\n",
    "    f.write('version = '+version+'\\n')\n",
    "    f.write('resol = '+resol+'\\n')"
   ]
  },
  {
   "cell_type": "markdown",
   "metadata": {},
   "source": [
    "# Rotating sections of UCSD001\n",
    "\n",
    "For the files: UCSD001_slide001_2018_09_03-S1, UCSD001_slide001_2018_09_03-S2\n",
    "\n",
    "This rotates each file 270 degrees."
   ]
  },
  {
   "cell_type": "code",
   "execution_count": null,
   "metadata": {
    "collapsed": true
   },
   "outputs": [],
   "source": [
    "os.environ['DATA_ROOTDIR'] = '/media/alexn/BstemAtlasDataBackup/ucsd_brain/'"
   ]
  },
  {
   "cell_type": "code",
   "execution_count": 21,
   "metadata": {},
   "outputs": [],
   "source": [
    "image_name_list = ['UCSD001_slide001_2018_09_03-S1', 'UCSD001_slide001_2018_09_03-S2']\n",
    "create_input_spec_ini( name='input_spec.ini', image_name_list=image_name_list, stack='UCSD001', \\\n",
    "           prep_id='rawBeforeRotation', version='None', resol='raw')"
   ]
  },
  {
   "cell_type": "code",
   "execution_count": 22,
   "metadata": {},
   "outputs": [
    {
     "name": "stdout",
     "output_type": "stream",
     "text": [
      "Overwriting input_spec.ini\n"
     ]
    }
   ],
   "source": [
    "%%writefile input_spec.ini\n",
    "[DEFAULT]\n",
    "image_name_list = UCSD001_slide001_2018_09_03-S1\n",
    "    UCSD001_slide001_2018_09_03-S2\n",
    "stack = UCSD001\n",
    "prep_id = rawBeforeRotation\n",
    "version = None\n",
    "resol = raw"
   ]
  },
  {
   "cell_type": "code",
   "execution_count": null,
   "metadata": {
    "collapsed": true
   },
   "outputs": [],
   "source": [
    "%%writefile /media/alexn/BstemAtlasDataBackup/ucsd_brain/CSHL_data_processed/UCSD001/operation_configs/rotate270.ini\n",
    "[DEFAULT]\n",
    "type=rotate\n",
    "how=rotate270\n",
    "\n",
    "base_prep_id=rawBeforeRotation\n",
    "dest_prep_id=raw"
   ]
  },
  {
   "cell_type": "code",
   "execution_count": null,
   "metadata": {
    "collapsed": true
   },
   "outputs": [],
   "source": [
    "! python warp_crop.py --input_spec input_spec.ini --op_id 'rotate270'"
   ]
  },
  {
   "cell_type": "markdown",
   "metadata": {},
   "source": [
    "# -"
   ]
  },
  {
   "cell_type": "code",
   "execution_count": null,
   "metadata": {
    "collapsed": true
   },
   "outputs": [],
   "source": []
  }
 ],
 "metadata": {
  "kernelspec": {
   "display_name": "Python 2",
   "language": "python",
   "name": "python2"
  },
  "language_info": {
   "codemirror_mode": {
    "name": "ipython",
    "version": 2
   },
   "file_extension": ".py",
   "mimetype": "text/x-python",
   "name": "python",
   "nbconvert_exporter": "python",
   "pygments_lexer": "ipython2",
   "version": "2.7.12"
  }
 },
 "nbformat": 4,
 "nbformat_minor": 2
}
