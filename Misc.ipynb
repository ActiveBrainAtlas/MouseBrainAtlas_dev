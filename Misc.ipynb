{
 "cells": [
  {
   "cell_type": "code",
   "execution_count": 3,
   "metadata": {},
   "outputs": [
    {
     "name": "stdout",
     "output_type": "stream",
     "text": [
      "On branch alex_dev_branch\r\n",
      "Your branch is up-to-date with 'origin/alex_dev_branch'.\r\n",
      "Changes not staged for commit:\r\n",
      "  (use \"git add/rm <file>...\" to update what will be committed)\r\n",
      "  (use \"git checkout -- <file>...\" to discard changes in working directory)\r\n",
      "\r\n",
      "\t\u001b[31mmodified:   .ipynb_checkpoints/Misc-checkpoint.ipynb\u001b[m\r\n",
      "\t\u001b[31mmodified:   Misc.ipynb\u001b[m\r\n",
      "\t\u001b[31mmodified:   demo/.ipynb_checkpoints/alex_detectors-checkpoint.ipynb\u001b[m\r\n",
      "\t\u001b[31mmodified:   demo/.ipynb_checkpoints/alex_script_driver-checkpoint.ipynb\u001b[m\r\n",
      "\t\u001b[31mmodified:   demo/0a_test.py\u001b[m\r\n",
      "\t\u001b[31mmodified:   demo/a_driver_utilities.py\u001b[m\r\n",
      "\t\u001b[31mmodified:   demo/a_script_preprocess_1.py\u001b[m\r\n",
      "\t\u001b[31mmodified:   demo/a_script_preprocess_2.py\u001b[m\r\n",
      "\t\u001b[31mmodified:   demo/a_script_preprocess_3.py\u001b[m\r\n",
      "\t\u001b[31mmodified:   demo/a_script_preprocess_4.py\u001b[m\r\n",
      "\t\u001b[31mmodified:   demo/a_script_preprocess_5.py\u001b[m\r\n",
      "\t\u001b[31mmodified:   demo/a_script_preprocess_6.py\u001b[m\r\n",
      "\t\u001b[31mmodified:   demo/a_script_preprocess_7.py\u001b[m\r\n",
      "\t\u001b[31mmodified:   demo/alex_detectors.ipynb\u001b[m\r\n",
      "\t\u001b[31mmodified:   demo/alex_script_driver.ipynb\u001b[m\r\n",
      "\t\u001b[31mmodified:   demo/input_spec.ini\u001b[m\r\n",
      "\t\u001b[31mmodified:   demo/loading_bp_and_contours.ipynb\u001b[m\r\n",
      "\t\u001b[31mmodified:   demo/neuroglancer_interface/.ipynb_checkpoints/neuroglancer_contour_generator-checkpoint.ipynb\u001b[m\r\n",
      "\t\u001b[31mdeleted:    demo/neuroglancer_interface/IC_nb_volume.npy\u001b[m\r\n",
      "\t\u001b[31mmodified:   demo/neuroglancer_interface/neuroglancer_contour_generator.ipynb\u001b[m\r\n",
      "\t\u001b[31mmodified:   setup/config.sh\u001b[m\r\n",
      "\t\u001b[31mmodified:   src/utilities/data_manager.py\u001b[m\r\n",
      "\t\u001b[31mmodified:   src/utilities/learning_utilities.py\u001b[m\r\n",
      "\t\u001b[31mmodified:   src/utilities/metadata.py\u001b[m\r\n",
      "\r\n",
      "Untracked files:\r\n",
      "  (use \"git add <file>...\" to include in what will be committed)\r\n",
      "\r\n",
      "\t\u001b[31mdemo/.ipynb_checkpoints/alex_detectors_patch_extractor-checkpoint.ipynb\u001b[m\r\n",
      "\t\u001b[31mdemo/.ipynb_checkpoints/loading_bp_and_contours-checkpoint.ipynb\u001b[m\r\n",
      "\t\u001b[31mdemo/MD603_raw_input_spec.json\u001b[m\r\n",
      "\t\u001b[31mdemo/MD635_raw_input_spec.json\u001b[m\r\n",
      "\t\u001b[31mdemo/alex_detectors_patch_extractor.ipynb\u001b[m\r\n",
      "\t\u001b[31mdemo/neuroglancer_interface/.ipynb_checkpoints/Find Patches-checkpoint.ipynb\u001b[m\r\n",
      "\t\u001b[31mdemo/neuroglancer_interface/Find Patches.ipynb\u001b[m\r\n",
      "\t\u001b[31mdemo/neuroglancer_interface/Installing Cuda\u001b[m\r\n",
      "\t\u001b[31msrc/learning/.ipynb_checkpoints/identify_patch_class_based_on_labeling_v3_DEV-checkpoint.ipynb\u001b[m\r\n",
      "\t\u001b[31msrc/learning/.ipynb_checkpoints/train_and_test_classifier_performance_v5_DEV-checkpoint.ipynb\u001b[m\r\n",
      "\t\u001b[31msrc/learning/identify_patch_class_based_on_labeling_v3_DEV.ipynb\u001b[m\r\n",
      "\t\u001b[31msrc/learning/train_and_test_classifier_performance_v5_DEV.ipynb\u001b[m\r\n",
      "\t\u001b[31msrc/utilities/learning_utilities_NOMXNET.py\u001b[m\r\n",
      "\t\u001b[31msrc/utilities/registered_brains.json\u001b[m\r\n",
      "\r\n",
      "no changes added to commit (use \"git add\" and/or \"git commit -a\")\r\n"
     ]
    }
   ],
   "source": [
    "! git status"
   ]
  },
  {
   "cell_type": "code",
   "execution_count": 2,
   "metadata": {},
   "outputs": [
    {
     "ename": "OSError",
     "evalue": "libcudart.so.9.0: cannot open shared object file: No such file or directory",
     "output_type": "error",
     "traceback": [
      "\u001b[0;31m---------------------------------------------------------------------------\u001b[0m",
      "\u001b[0;31mOSError\u001b[0m                                   Traceback (most recent call last)",
      "\u001b[0;32m<ipython-input-2-30eb4f951ea5>\u001b[0m in \u001b[0;36m<module>\u001b[0;34m()\u001b[0m\n\u001b[0;32m----> 1\u001b[0;31m \u001b[0;32mimport\u001b[0m \u001b[0mmxnet\u001b[0m\u001b[0;34m\u001b[0m\u001b[0m\n\u001b[0m",
      "\u001b[0;32m/usr/local/lib/python2.7/dist-packages/mxnet/__init__.py\u001b[0m in \u001b[0;36m<module>\u001b[0;34m()\u001b[0m\n\u001b[1;32m     22\u001b[0m \u001b[0;32mfrom\u001b[0m \u001b[0m__future__\u001b[0m \u001b[0;32mimport\u001b[0m \u001b[0mabsolute_import\u001b[0m\u001b[0;34m\u001b[0m\u001b[0m\n\u001b[1;32m     23\u001b[0m \u001b[0;34m\u001b[0m\u001b[0m\n\u001b[0;32m---> 24\u001b[0;31m \u001b[0;32mfrom\u001b[0m \u001b[0;34m.\u001b[0m\u001b[0mcontext\u001b[0m \u001b[0;32mimport\u001b[0m \u001b[0mContext\u001b[0m\u001b[0;34m,\u001b[0m \u001b[0mcurrent_context\u001b[0m\u001b[0;34m,\u001b[0m \u001b[0mcpu\u001b[0m\u001b[0;34m,\u001b[0m \u001b[0mgpu\u001b[0m\u001b[0;34m,\u001b[0m \u001b[0mcpu_pinned\u001b[0m\u001b[0;34m\u001b[0m\u001b[0m\n\u001b[0m\u001b[1;32m     25\u001b[0m \u001b[0;32mfrom\u001b[0m \u001b[0;34m.\u001b[0m \u001b[0;32mimport\u001b[0m \u001b[0mengine\u001b[0m\u001b[0;34m\u001b[0m\u001b[0m\n\u001b[1;32m     26\u001b[0m \u001b[0;32mfrom\u001b[0m \u001b[0;34m.\u001b[0m\u001b[0mbase\u001b[0m \u001b[0;32mimport\u001b[0m \u001b[0mMXNetError\u001b[0m\u001b[0;34m\u001b[0m\u001b[0m\n",
      "\u001b[0;32m/usr/local/lib/python2.7/dist-packages/mxnet/context.py\u001b[0m in \u001b[0;36m<module>\u001b[0;34m()\u001b[0m\n\u001b[1;32m     22\u001b[0m \u001b[0;32mimport\u001b[0m \u001b[0mwarnings\u001b[0m\u001b[0;34m\u001b[0m\u001b[0m\n\u001b[1;32m     23\u001b[0m \u001b[0;32mimport\u001b[0m \u001b[0mctypes\u001b[0m\u001b[0;34m\u001b[0m\u001b[0m\n\u001b[0;32m---> 24\u001b[0;31m \u001b[0;32mfrom\u001b[0m \u001b[0;34m.\u001b[0m\u001b[0mbase\u001b[0m \u001b[0;32mimport\u001b[0m \u001b[0mclassproperty\u001b[0m\u001b[0;34m,\u001b[0m \u001b[0mwith_metaclass\u001b[0m\u001b[0;34m,\u001b[0m \u001b[0m_MXClassPropertyMetaClass\u001b[0m\u001b[0;34m\u001b[0m\u001b[0m\n\u001b[0m\u001b[1;32m     25\u001b[0m \u001b[0;32mfrom\u001b[0m \u001b[0;34m.\u001b[0m\u001b[0mbase\u001b[0m \u001b[0;32mimport\u001b[0m \u001b[0m_LIB\u001b[0m\u001b[0;34m\u001b[0m\u001b[0m\n\u001b[1;32m     26\u001b[0m \u001b[0;32mfrom\u001b[0m \u001b[0;34m.\u001b[0m\u001b[0mbase\u001b[0m \u001b[0;32mimport\u001b[0m \u001b[0mcheck_call\u001b[0m\u001b[0;34m\u001b[0m\u001b[0m\n",
      "\u001b[0;32m/usr/local/lib/python2.7/dist-packages/mxnet/base.py\u001b[0m in \u001b[0;36m<module>\u001b[0;34m()\u001b[0m\n\u001b[1;32m    211\u001b[0m \u001b[0m__version__\u001b[0m \u001b[0;34m=\u001b[0m \u001b[0mlibinfo\u001b[0m\u001b[0;34m.\u001b[0m\u001b[0m__version__\u001b[0m\u001b[0;34m\u001b[0m\u001b[0m\n\u001b[1;32m    212\u001b[0m \u001b[0;31m# library instance of mxnet\u001b[0m\u001b[0;34m\u001b[0m\u001b[0;34m\u001b[0m\u001b[0m\n\u001b[0;32m--> 213\u001b[0;31m \u001b[0m_LIB\u001b[0m \u001b[0;34m=\u001b[0m \u001b[0m_load_lib\u001b[0m\u001b[0;34m(\u001b[0m\u001b[0;34m)\u001b[0m\u001b[0;34m\u001b[0m\u001b[0m\n\u001b[0m\u001b[1;32m    214\u001b[0m \u001b[0;34m\u001b[0m\u001b[0m\n\u001b[1;32m    215\u001b[0m \u001b[0;31m# type definitions\u001b[0m\u001b[0;34m\u001b[0m\u001b[0;34m\u001b[0m\u001b[0m\n",
      "\u001b[0;32m/usr/local/lib/python2.7/dist-packages/mxnet/base.py\u001b[0m in \u001b[0;36m_load_lib\u001b[0;34m()\u001b[0m\n\u001b[1;32m    202\u001b[0m     \u001b[0;34m\"\"\"Load library by searching possible path.\"\"\"\u001b[0m\u001b[0;34m\u001b[0m\u001b[0m\n\u001b[1;32m    203\u001b[0m     \u001b[0mlib_path\u001b[0m \u001b[0;34m=\u001b[0m \u001b[0mlibinfo\u001b[0m\u001b[0;34m.\u001b[0m\u001b[0mfind_lib_path\u001b[0m\u001b[0;34m(\u001b[0m\u001b[0;34m)\u001b[0m\u001b[0;34m\u001b[0m\u001b[0m\n\u001b[0;32m--> 204\u001b[0;31m     \u001b[0mlib\u001b[0m \u001b[0;34m=\u001b[0m \u001b[0mctypes\u001b[0m\u001b[0;34m.\u001b[0m\u001b[0mCDLL\u001b[0m\u001b[0;34m(\u001b[0m\u001b[0mlib_path\u001b[0m\u001b[0;34m[\u001b[0m\u001b[0;36m0\u001b[0m\u001b[0;34m]\u001b[0m\u001b[0;34m,\u001b[0m \u001b[0mctypes\u001b[0m\u001b[0;34m.\u001b[0m\u001b[0mRTLD_LOCAL\u001b[0m\u001b[0;34m)\u001b[0m\u001b[0;34m\u001b[0m\u001b[0m\n\u001b[0m\u001b[1;32m    205\u001b[0m     \u001b[0;31m# DMatrix functions\u001b[0m\u001b[0;34m\u001b[0m\u001b[0;34m\u001b[0m\u001b[0m\n\u001b[1;32m    206\u001b[0m     \u001b[0mlib\u001b[0m\u001b[0;34m.\u001b[0m\u001b[0mMXGetLastError\u001b[0m\u001b[0;34m.\u001b[0m\u001b[0mrestype\u001b[0m \u001b[0;34m=\u001b[0m \u001b[0mctypes\u001b[0m\u001b[0;34m.\u001b[0m\u001b[0mc_char_p\u001b[0m\u001b[0;34m\u001b[0m\u001b[0m\n",
      "\u001b[0;32m/usr/lib/python2.7/ctypes/__init__.pyc\u001b[0m in \u001b[0;36m__init__\u001b[0;34m(self, name, mode, handle, use_errno, use_last_error)\u001b[0m\n\u001b[1;32m    360\u001b[0m \u001b[0;34m\u001b[0m\u001b[0m\n\u001b[1;32m    361\u001b[0m         \u001b[0;32mif\u001b[0m \u001b[0mhandle\u001b[0m \u001b[0;32mis\u001b[0m \u001b[0mNone\u001b[0m\u001b[0;34m:\u001b[0m\u001b[0;34m\u001b[0m\u001b[0m\n\u001b[0;32m--> 362\u001b[0;31m             \u001b[0mself\u001b[0m\u001b[0;34m.\u001b[0m\u001b[0m_handle\u001b[0m \u001b[0;34m=\u001b[0m \u001b[0m_dlopen\u001b[0m\u001b[0;34m(\u001b[0m\u001b[0mself\u001b[0m\u001b[0;34m.\u001b[0m\u001b[0m_name\u001b[0m\u001b[0;34m,\u001b[0m \u001b[0mmode\u001b[0m\u001b[0;34m)\u001b[0m\u001b[0;34m\u001b[0m\u001b[0m\n\u001b[0m\u001b[1;32m    363\u001b[0m         \u001b[0;32melse\u001b[0m\u001b[0;34m:\u001b[0m\u001b[0;34m\u001b[0m\u001b[0m\n\u001b[1;32m    364\u001b[0m             \u001b[0mself\u001b[0m\u001b[0;34m.\u001b[0m\u001b[0m_handle\u001b[0m \u001b[0;34m=\u001b[0m \u001b[0mhandle\u001b[0m\u001b[0;34m\u001b[0m\u001b[0m\n",
      "\u001b[0;31mOSError\u001b[0m: libcudart.so.9.0: cannot open shared object file: No such file or directory"
     ]
    }
   ],
   "source": [
    "import mxnet"
   ]
  },
  {
   "cell_type": "code",
   "execution_count": 1,
   "metadata": {},
   "outputs": [
    {
     "data": {
      "text/plain": [
       "2"
      ]
     },
     "execution_count": 1,
     "metadata": {},
     "output_type": "execute_result"
    }
   ],
   "source": [
    "2"
   ]
  },
  {
   "cell_type": "code",
   "execution_count": 1,
   "metadata": {
    "collapsed": true
   },
   "outputs": [],
   "source": [
    "# This cell copies a number of specified files onto the local machine\n",
    "import os\n",
    "import subprocess\n",
    "#subprocess.check_output('pwd')\n",
    "\n",
    "from_s3_fp = 'mousebrainatlas-data/CSHL_data_processed/MD662/\\\n",
    "MD662_prep2_raw_NtbNormalizedAdaptiveInvertedGamma/'\n",
    "\n",
    "to_fp = '/media/alexn/BstemAtlasDataBackup/CSHL_data_processed/MD662/\\\n",
    "MD662_prep2_raw_NtbNormalizedAdaptiveInvertedGamma/'\n",
    "\n",
    "include = ['*_0298_*', '*_0299_*']\n",
    "\n",
    "\n",
    "# From S3 to local\n",
    "command1 = 'aws s3 cp --recursive \\\"s3://%(from_fp)s\\\" \\\"%(to_fp)s\\\" \\\n",
    "--exclude \\\"*\\\" '% dict(from_fp = from_s3_fp, to_fp = to_fp)\n",
    "\n",
    "for curr_include in include:\n",
    "    command1 += ' --include \\\"%(include)s\\\"'% dict(include = curr_include)\n",
    "\n",
    "return_status = os.system( command1 )\n",
    "if return_status == 0:\n",
    "    print 'SUCCESS'"
   ]
  },
  {
   "cell_type": "code",
   "execution_count": 66,
   "metadata": {},
   "outputs": [
    {
     "name": "stdout",
     "output_type": "stream",
     "text": [
      "SUCCESS\n"
     ]
    }
   ],
   "source": [
    "# This cell copies a number of specified files onto the local machine\n",
    "import os\n",
    "import subprocess\n",
    "#subprocess.check_output('pwd')\n",
    "\n",
    "from_s3_fp = 'mousebrainatlas-data/CSHL_data_processed/MD662/MD662_sorted_filenames.txt'\n",
    "\n",
    "to_fp = '/media/alexn/BstemAtlasDataBackup/CSHL_data_processed/MD662/'\n",
    "\n",
    "# From S3 to local\n",
    "command1 = 'aws s3 cp \\\"s3://%(from_fp)s\\\" \\\"%(to_fp)s\\\" '% dict(from_fp = from_s3_fp, to_fp = to_fp)\n",
    "\n",
    "return_status = os.system( command1 )\n",
    "if return_status == 0:\n",
    "    print 'SUCCESS'"
   ]
  },
  {
   "cell_type": "code",
   "execution_count": 71,
   "metadata": {
    "collapsed": true
   },
   "outputs": [],
   "source": [
    "# %reload_ext : Reloads an IPython extension by its module name.\n",
    "%reload_ext autoreload\n",
    "# %autoreload 2 : Reloads all modules (except those excluded by %aimport)  \n",
    "#  every time before executing the Python code typed.\n",
    "%autoreload 2\n",
    "\n",
    "import os\n",
    "import sys\n",
    "import time\n",
    "\n",
    "import matplotlib.pyplot as plt\n",
    "# Sets backend of matplotlib to the 'inline' backend\n",
    "%matplotlib inline\n",
    "import numpy as np\n",
    "\n",
    "os.environ['REPO_DIR'] = '/home/alexn/brainDev/src'\n",
    "#sys.path.append(os.path.join(os.environ['REPO_DIR'], 'utilities'))\n",
    "#sys.path.append(os.path.join(os.environ['REPO_DIR'], 'src','utilities'))\n",
    "from utilities2015 import *\n",
    "from metadata import *\n",
    "from data_manager import *\n",
    "from learning_utilities import *"
   ]
  },
  {
   "cell_type": "code",
   "execution_count": 70,
   "metadata": {},
   "outputs": [
    {
     "data": {
      "text/plain": [
       "{'anchor_fn': {},\n",
       " 'cropbox': {},\n",
       " 'filenames_to_sections': {},\n",
       " 'image_shape': {},\n",
       " 'section_limits': {},\n",
       " 'sections_to_filenames': {},\n",
       " 'valid_filenames': {},\n",
       " 'valid_filenames_all': {},\n",
       " 'valid_sections': {},\n",
       " 'valid_sections_all': {}}"
      ]
     },
     "execution_count": 70,
     "metadata": {},
     "output_type": "execute_result"
    }
   ],
   "source": [
    "metadata_cache"
   ]
  },
  {
   "cell_type": "code",
   "execution_count": 69,
   "metadata": {},
   "outputs": [
    {
     "ename": "NameError",
     "evalue": "name 'filename_to_section' is not defined",
     "output_type": "error",
     "traceback": [
      "\u001b[0;31m---------------------------------------------------------------------------\u001b[0m",
      "\u001b[0;31mNameError\u001b[0m                                 Traceback (most recent call last)",
      "\u001b[0;32m<ipython-input-69-c3d36f2c0335>\u001b[0m in \u001b[0;36m<module>\u001b[0;34m()\u001b[0m\n\u001b[1;32m      1\u001b[0m \u001b[0mfn\u001b[0m \u001b[0;34m=\u001b[0m \u001b[0;34m'MD662&661-F100-2017.06.06-21.40.10_MD662_1_0298_prep2_raw_NtbNormalizedAdaptiveInvertedGamma'\u001b[0m\u001b[0;34m\u001b[0m\u001b[0m\n\u001b[0;32m----> 2\u001b[0;31m \u001b[0mfilename_to_section\u001b[0m\u001b[0;34m[\u001b[0m \u001b[0mfn\u001b[0m \u001b[0;34m]\u001b[0m\u001b[0;34m\u001b[0m\u001b[0m\n\u001b[0m",
      "\u001b[0;31mNameError\u001b[0m: name 'filename_to_section' is not defined"
     ]
    }
   ],
   "source": [
    "fn = 'MD662&661-F100-2017.06.06-21.40.10_MD662_1_0298_prep2_raw_NtbNormalizedAdaptiveInvertedGamma'\n",
    "filename_to_section[ fn ]"
   ]
  },
  {
   "cell_type": "code",
   "execution_count": 72,
   "metadata": {},
   "outputs": [
    {
     "data": {
      "text/plain": [
       "'/home/alexn/brainDev/src'"
      ]
     },
     "execution_count": 72,
     "metadata": {},
     "output_type": "execute_result"
    }
   ],
   "source": [
    "os.environ['REPO_DIR']"
   ]
  },
  {
   "cell_type": "code",
   "execution_count": 67,
   "metadata": {},
   "outputs": [
    {
     "name": "stderr",
     "output_type": "stream",
     "text": [
      "/usr/local/lib/python2.7/dist-packages/ipykernel_launcher.py:9: UserWarning: \n",
      "This call to matplotlib.use() has no effect because the backend has already\n",
      "been chosen; matplotlib.use() must be called *before* pylab, matplotlib.pyplot,\n",
      "or matplotlib.backends is imported for the first time.\n",
      "\n",
      "The backend was *originally* set to 'module://ipykernel.pylab.backend_inline' by the following code:\n",
      "  File \"/usr/lib/python2.7/runpy.py\", line 174, in _run_module_as_main\n",
      "    \"__main__\", fname, loader, pkg_name)\n",
      "  File \"/usr/lib/python2.7/runpy.py\", line 72, in _run_code\n",
      "    exec code in run_globals\n",
      "  File \"/usr/local/lib/python2.7/dist-packages/ipykernel_launcher.py\", line 16, in <module>\n",
      "    app.launch_new_instance()\n",
      "  File \"/usr/local/lib/python2.7/dist-packages/traitlets/config/application.py\", line 658, in launch_instance\n",
      "    app.start()\n",
      "  File \"/usr/local/lib/python2.7/dist-packages/ipykernel/kernelapp.py\", line 477, in start\n",
      "    ioloop.IOLoop.instance().start()\n",
      "  File \"/usr/local/lib/python2.7/dist-packages/zmq/eventloop/ioloop.py\", line 177, in start\n",
      "    super(ZMQIOLoop, self).start()\n",
      "  File \"/usr/local/lib/python2.7/dist-packages/tornado/ioloop.py\", line 888, in start\n",
      "    handler_func(fd_obj, events)\n",
      "  File \"/usr/local/lib/python2.7/dist-packages/tornado/stack_context.py\", line 277, in null_wrapper\n",
      "    return fn(*args, **kwargs)\n",
      "  File \"/usr/local/lib/python2.7/dist-packages/zmq/eventloop/zmqstream.py\", line 440, in _handle_events\n",
      "    self._handle_recv()\n",
      "  File \"/usr/local/lib/python2.7/dist-packages/zmq/eventloop/zmqstream.py\", line 472, in _handle_recv\n",
      "    self._run_callback(callback, msg)\n",
      "  File \"/usr/local/lib/python2.7/dist-packages/zmq/eventloop/zmqstream.py\", line 414, in _run_callback\n",
      "    callback(*args, **kwargs)\n",
      "  File \"/usr/local/lib/python2.7/dist-packages/tornado/stack_context.py\", line 277, in null_wrapper\n",
      "    return fn(*args, **kwargs)\n",
      "  File \"/usr/local/lib/python2.7/dist-packages/ipykernel/kernelbase.py\", line 283, in dispatcher\n",
      "    return self.dispatch_shell(stream, msg)\n",
      "  File \"/usr/local/lib/python2.7/dist-packages/ipykernel/kernelbase.py\", line 235, in dispatch_shell\n",
      "    handler(stream, idents, msg)\n",
      "  File \"/usr/local/lib/python2.7/dist-packages/ipykernel/kernelbase.py\", line 399, in execute_request\n",
      "    user_expressions, allow_stdin)\n",
      "  File \"/usr/local/lib/python2.7/dist-packages/ipykernel/ipkernel.py\", line 196, in do_execute\n",
      "    res = shell.run_cell(code, store_history=store_history, silent=silent)\n",
      "  File \"/usr/local/lib/python2.7/dist-packages/ipykernel/zmqshell.py\", line 533, in run_cell\n",
      "    return super(ZMQInteractiveShell, self).run_cell(*args, **kwargs)\n",
      "  File \"/usr/local/lib/python2.7/dist-packages/IPython/core/interactiveshell.py\", line 2718, in run_cell\n",
      "    interactivity=interactivity, compiler=compiler, result=result)\n",
      "  File \"/usr/local/lib/python2.7/dist-packages/IPython/core/interactiveshell.py\", line 2822, in run_ast_nodes\n",
      "    if self.run_code(code, result):\n",
      "  File \"/usr/local/lib/python2.7/dist-packages/IPython/core/interactiveshell.py\", line 2882, in run_code\n",
      "    exec(code_obj, self.user_global_ns, self.user_ns)\n",
      "  File \"<ipython-input-63-8f2cb112f2b7>\", line 13, in <module>\n",
      "    get_ipython().magic(u'matplotlib inline')\n",
      "  File \"/usr/local/lib/python2.7/dist-packages/IPython/core/interactiveshell.py\", line 2160, in magic\n",
      "    return self.run_line_magic(magic_name, magic_arg_s)\n",
      "  File \"/usr/local/lib/python2.7/dist-packages/IPython/core/interactiveshell.py\", line 2081, in run_line_magic\n",
      "    result = fn(*args,**kwargs)\n",
      "  File \"<decorator-gen-105>\", line 2, in matplotlib\n",
      "  File \"/usr/local/lib/python2.7/dist-packages/IPython/core/magic.py\", line 188, in <lambda>\n",
      "    call = lambda f, *a, **k: f(*a, **k)\n",
      "  File \"/usr/local/lib/python2.7/dist-packages/IPython/core/magics/pylab.py\", line 100, in matplotlib\n",
      "    gui, backend = self.shell.enable_matplotlib(args.gui)\n",
      "  File \"/usr/local/lib/python2.7/dist-packages/IPython/core/interactiveshell.py\", line 2950, in enable_matplotlib\n",
      "    pt.activate_matplotlib(backend)\n",
      "  File \"/usr/local/lib/python2.7/dist-packages/IPython/core/pylabtools.py\", line 308, in activate_matplotlib\n",
      "    matplotlib.pyplot.switch_backend(backend)\n",
      "  File \"/usr/local/lib/python2.7/dist-packages/matplotlib/pyplot.py\", line 232, in switch_backend\n",
      "    matplotlib.use(newbackend, warn=False, force=True)\n",
      "  File \"/usr/local/lib/python2.7/dist-packages/matplotlib/__init__.py\", line 1305, in use\n",
      "    reload(sys.modules['matplotlib.backends'])\n",
      "  File \"/usr/local/lib/python2.7/dist-packages/matplotlib/backends/__init__.py\", line 14, in <module>\n",
      "    line for line in traceback.format_stack()\n",
      "\n",
      "\n",
      "  if __name__ == '__main__':\n"
     ]
    },
    {
     "ename": "KeyError",
     "evalue": "'MD662'",
     "output_type": "error",
     "traceback": [
      "\u001b[0;31m---------------------------------------------------------------------------\u001b[0m",
      "\u001b[0;31mKeyError\u001b[0m                                  Traceback (most recent call last)",
      "\u001b[0;32m<ipython-input-67-7560c58e36dc>\u001b[0m in \u001b[0;36m<module>\u001b[0;34m()\u001b[0m\n\u001b[1;32m     20\u001b[0m \u001b[0;34m\u001b[0m\u001b[0m\n\u001b[1;32m     21\u001b[0m \u001b[0mstack\u001b[0m \u001b[0;34m=\u001b[0m \u001b[0;34m'MD662'\u001b[0m\u001b[0;34m\u001b[0m\u001b[0m\n\u001b[0;32m---> 22\u001b[0;31m \u001b[0msections\u001b[0m \u001b[0;34m=\u001b[0m \u001b[0mmetadata_cache\u001b[0m\u001b[0;34m[\u001b[0m\u001b[0;34m'valid_sections'\u001b[0m\u001b[0;34m]\u001b[0m\u001b[0;34m[\u001b[0m\u001b[0mstack\u001b[0m\u001b[0;34m]\u001b[0m\u001b[0;34m\u001b[0m\u001b[0m\n\u001b[0m\u001b[1;32m     23\u001b[0m \u001b[0;32mprint\u001b[0m \u001b[0msections\u001b[0m\u001b[0;34m\u001b[0m\u001b[0m\n",
      "\u001b[0;31mKeyError\u001b[0m: 'MD662'"
     ]
    }
   ],
   "source": [
    "#! /usr/bin/env python\n",
    "\n",
    "import sys\n",
    "import os\n",
    "import time\n",
    "\n",
    "import matplotlib\n",
    "# Force matplotlib to not use any Xwindows backend.\n",
    "matplotlib.use('Agg') # https://stackoverflow.com/a/3054314\n",
    "import matplotlib.pyplot as plt\n",
    "import numpy as np\n",
    "\n",
    "sys.path.append(os.path.join(os.environ['REPO_DIR'], 'utilities'))\n",
    "from utilities2015 import *\n",
    "from registration_utilities import *\n",
    "from annotation_utilities import *\n",
    "from metadata import *\n",
    "from data_manager import *\n",
    "from learning_utilities import *\n",
    "\n",
    "stack = 'MD662'\n",
    "sections = metadata_cache['valid_sections'][stack]\n",
    "print sections"
   ]
  },
  {
   "cell_type": "code",
   "execution_count": 51,
   "metadata": {},
   "outputs": [
    {
     "data": {
      "text/plain": [
       "['',\n",
       " '/usr/lib/python2.7',\n",
       " '/usr/lib/python2.7/plat-x86_64-linux-gnu',\n",
       " '/usr/lib/python2.7/lib-tk',\n",
       " '/usr/lib/python2.7/lib-old',\n",
       " '/usr/lib/python2.7/lib-dynload',\n",
       " '/usr/local/lib/python2.7/dist-packages',\n",
       " '/home/yuncong/pylearn2',\n",
       " '/usr/local/lib/python2.7/dist-packages/PyMCubes-0.0.6-py2.7-linux-x86_64.egg',\n",
       " '/usr/lib/python2.7/dist-packages',\n",
       " '/usr/lib/python2.7/dist-packages/PILcompat',\n",
       " '/usr/lib/python2.7/dist-packages/gtk-2.0',\n",
       " '/usr/lib/python2.7/dist-packages/ubuntu-sso-client',\n",
       " '/usr/local/lib/python2.7/dist-packages/IPython/extensions',\n",
       " '/home/alexn/.ipython',\n",
       " '/home/alexn/brain/utilities',\n",
       " '/home/alexn/brain/utilities',\n",
       " '/home/alexn/brain/utilities',\n",
       " '/home/alexn/brain/utilities',\n",
       " '/home/alexn/brain/src/utilities',\n",
       " '/home/alexn/brain/utilities',\n",
       " '/home/alexn/brain/src/utilities',\n",
       " '/home/alexn/brain/utilities',\n",
       " '/home/alexn/brain/src/utilities',\n",
       " '/home/alexn/brain/utilities',\n",
       " '/home/alexn/brain/src/utilities',\n",
       " '/home/alexn/brainDev/utilities',\n",
       " '/home/alexn/brainDev/src/utilities',\n",
       " '/home/alexn/brainDev/utilities',\n",
       " '/home/alexn/brainDev/src/utilities',\n",
       " '/home/alexn/brainDev/utilities',\n",
       " '/home/alexn/brainDev/utilities']"
      ]
     },
     "execution_count": 51,
     "metadata": {},
     "output_type": "execute_result"
    }
   ],
   "source": [
    "sys.path"
   ]
  },
  {
   "cell_type": "code",
   "execution_count": null,
   "metadata": {
    "collapsed": true
   },
   "outputs": [],
   "source": []
  }
 ],
 "metadata": {
  "kernelspec": {
   "display_name": "Python 2",
   "language": "python",
   "name": "python2"
  },
  "language_info": {
   "codemirror_mode": {
    "name": "ipython",
    "version": 2
   },
   "file_extension": ".py",
   "mimetype": "text/x-python",
   "name": "python",
   "nbconvert_exporter": "python",
   "pygments_lexer": "ipython2",
   "version": "2.7.12"
  }
 },
 "nbformat": 4,
 "nbformat_minor": 2
}
